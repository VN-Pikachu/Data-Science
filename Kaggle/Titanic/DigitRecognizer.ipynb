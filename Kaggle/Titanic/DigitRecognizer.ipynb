{
 "cells": [
  {
   "cell_type": "code",
   "execution_count": 1,
   "metadata": {},
   "outputs": [],
   "source": [
    "import os\n",
    "os.chdir(r'C:\\Users\\dell\\PycharmProjects\\MachineLearning\\Pandas\\datasets\\digit-recognizer')\n",
    "import pandas as pd\n",
    "import matplotlib.pyplot as plt\n",
    "import seaborn as sns;sns.set()\n",
    "import numpy as np\n",
    "from sklearn.model_selection import train_test_split"
   ]
  },
  {
   "cell_type": "code",
   "execution_count": 2,
   "metadata": {},
   "outputs": [],
   "source": [
    "train = pd.read_csv('./train.csv')\n",
    "test = pd.read_csv('./test.csv')\n",
    "\n",
    "X_train = train.iloc[:,1:] \n",
    "y_train = train.iloc[:,0]\n",
    "\n",
    "X_test = test\n"
   ]
  },
  {
   "cell_type": "code",
   "execution_count": 3,
   "metadata": {},
   "outputs": [],
   "source": [
    "X_train = X_train / 250.\n",
    "X_test = X_test / 250."
   ]
  },
  {
   "cell_type": "code",
   "execution_count": 14,
   "metadata": {},
   "outputs": [],
   "source": [
    "from keras.layers import Dense, Conv2D, MaxPool2D, Dropout, Flatten\n",
    "from keras.models import Sequential\n",
    "from keras.callbacks import EarlyStopping, ModelCheckpoint"
   ]
  },
  {
   "cell_type": "code",
   "execution_count": 5,
   "metadata": {},
   "outputs": [],
   "source": [
    "X_train, X_valid, y_train, y_valid = train_test_split(X_train, y_train, train_size = .8, test_size = .2, random_state = 5)"
   ]
  },
  {
   "cell_type": "code",
   "execution_count": 6,
   "metadata": {},
   "outputs": [],
   "source": [
    "X_train = X_train.values.reshape((len(X_train), 28, 28, 1))\n",
    "X_valid = X_valid.values.reshape((len(X_valid), 28 ,28,1))\n"
   ]
  },
  {
   "cell_type": "code",
   "execution_count": 9,
   "metadata": {},
   "outputs": [],
   "source": [
    "X_test = X_test.values.reshape((len(X_test), 28, 28, 1))\n"
   ]
  },
  {
   "cell_type": "code",
   "execution_count": 11,
   "metadata": {},
   "outputs": [],
   "source": [
    "model = Sequential([\n",
    "    Conv2D(32, kernel_size = 5, activation = 'relu', input_shape = (28, 28,1)),\n",
    "    MaxPool2D(pool_size = 2, strides = 2),\n",
    "    Conv2D(64, kernel_size = 5, activation = 'relu'),\n",
    "    MaxPool2D(pool_size = 2, strides = 2),\n",
    "    Conv2D(128, kernel_size = 4, activation = 'relu'),\n",
    "    Flatten(),\n",
    "    Dense(128, activation = 'relu'),\n",
    "    Dropout(.5),\n",
    "    Dense(64, activation = 'relu'),\n",
    "    Dense(10, activation = 'softmax')\n",
    "])\n",
    "model.compile('adam', 'sparse_categorical_crossentropy', ['accuracy'])"
   ]
  },
  {
   "cell_type": "code",
   "execution_count": 13,
   "metadata": {},
   "outputs": [
    {
     "name": "stdout",
     "output_type": "stream",
     "text": [
      "Train on 33600 samples, validate on 8400 samples\n",
      "Epoch 1/30\n",
      "33600/33600 [==============================] - 40s 1ms/step - loss: 0.2772 - accuracy: 0.9127 - val_loss: 0.0661 - val_accuracy: 0.9786\n",
      "Epoch 2/30\n",
      "33600/33600 [==============================] - 39s 1ms/step - loss: 0.0719 - accuracy: 0.9809 - val_loss: 0.0751 - val_accuracy: 0.9795\n",
      "Epoch 3/30\n",
      "33600/33600 [==============================] - 39s 1ms/step - loss: 0.0527 - accuracy: 0.9856 - val_loss: 0.0599 - val_accuracy: 0.9850\n",
      "Epoch 4/30\n",
      "33600/33600 [==============================] - 39s 1ms/step - loss: 0.0400 - accuracy: 0.9889 - val_loss: 0.0463 - val_accuracy: 0.9881\n",
      "Epoch 5/30\n",
      "33600/33600 [==============================] - 39s 1ms/step - loss: 0.0334 - accuracy: 0.9908 - val_loss: 0.0670 - val_accuracy: 0.9857\n",
      "Epoch 6/30\n",
      "33600/33600 [==============================] - 39s 1ms/step - loss: 0.0278 - accuracy: 0.9924 - val_loss: 0.0649 - val_accuracy: 0.9857\n",
      "Epoch 7/30\n",
      "33600/33600 [==============================] - 39s 1ms/step - loss: 0.0218 - accuracy: 0.9943 - val_loss: 0.0795 - val_accuracy: 0.9824\n",
      "Epoch 8/30\n",
      "33600/33600 [==============================] - 40s 1ms/step - loss: 0.0211 - accuracy: 0.9942 - val_loss: 0.0546 - val_accuracy: 0.9886\n",
      "Epoch 9/30\n",
      "33600/33600 [==============================] - 39s 1ms/step - loss: 0.0169 - accuracy: 0.9957 - val_loss: 0.0836 - val_accuracy: 0.9861\n",
      "Epoch 10/30\n",
      "33600/33600 [==============================] - 39s 1ms/step - loss: 0.0184 - accuracy: 0.9951 - val_loss: 0.0548 - val_accuracy: 0.9888\n",
      "Epoch 11/30\n",
      "33600/33600 [==============================] - 39s 1ms/step - loss: 0.0125 - accuracy: 0.9962 - val_loss: 0.0695 - val_accuracy: 0.9874\n",
      "Epoch 12/30\n",
      "33600/33600 [==============================] - 39s 1ms/step - loss: 0.0146 - accuracy: 0.9959 - val_loss: 0.0657 - val_accuracy: 0.9895\n",
      "Epoch 13/30\n",
      "33600/33600 [==============================] - 39s 1ms/step - loss: 0.0134 - accuracy: 0.9962 - val_loss: 0.0801 - val_accuracy: 0.9860\n",
      "Epoch 14/30\n",
      "33600/33600 [==============================] - 39s 1ms/step - loss: 0.0109 - accuracy: 0.9970 - val_loss: 0.0647 - val_accuracy: 0.9879\n"
     ]
    },
    {
     "data": {
      "text/plain": [
       "<keras.callbacks.callbacks.History at 0x23e829ea748>"
      ]
     },
     "execution_count": 13,
     "metadata": {},
     "output_type": "execute_result"
    }
   ],
   "source": [
    "early_cb = EarlyStopping(patience=10, restore_best_weights=True)\n",
    "model.fit(X_train, y_train, validation_data=(X_valid, y_valid), epochs =  30, batch_size=32, callbacks=[early_cb])"
   ]
  },
  {
   "cell_type": "code",
   "execution_count": 16,
   "metadata": {},
   "outputs": [
    {
     "name": "stdout",
     "output_type": "stream",
     "text": [
      "Train on 33600 samples, validate on 8400 samples\n",
      "Epoch 1/10\n",
      "33600/33600 [==============================] - 39s 1ms/step - loss: 0.0405 - accuracy: 0.9888 - val_loss: 0.0583 - val_accuracy: 0.9852\n",
      "Epoch 2/10\n",
      "33600/33600 [==============================] - 39s 1ms/step - loss: 0.0279 - accuracy: 0.9925 - val_loss: 0.0664 - val_accuracy: 0.9855\n",
      "Epoch 3/10\n",
      "33600/33600 [==============================] - 39s 1ms/step - loss: 0.0222 - accuracy: 0.9937 - val_loss: 0.0639 - val_accuracy: 0.9861\n",
      "Epoch 4/10\n",
      "33600/33600 [==============================] - 39s 1ms/step - loss: 0.0201 - accuracy: 0.9942 - val_loss: 0.0534 - val_accuracy: 0.9887\n",
      "Epoch 5/10\n",
      "33600/33600 [==============================] - 39s 1ms/step - loss: 0.0151 - accuracy: 0.9958 - val_loss: 0.0598 - val_accuracy: 0.9882\n",
      "Epoch 6/10\n",
      "33600/33600 [==============================] - 39s 1ms/step - loss: 0.0151 - accuracy: 0.9957 - val_loss: 0.0614 - val_accuracy: 0.9885\n",
      "Epoch 7/10\n",
      "33600/33600 [==============================] - 39s 1ms/step - loss: 0.0145 - accuracy: 0.9967 - val_loss: 0.0757 - val_accuracy: 0.9868\n",
      "Epoch 8/10\n",
      "33600/33600 [==============================] - 39s 1ms/step - loss: 0.0181 - accuracy: 0.9952 - val_loss: 0.0575 - val_accuracy: 0.9901\n",
      "Epoch 9/10\n",
      "33600/33600 [==============================] - 38s 1ms/step - loss: 0.0131 - accuracy: 0.9968 - val_loss: 0.0735 - val_accuracy: 0.9890\n",
      "Epoch 10/10\n",
      "33600/33600 [==============================] - 39s 1ms/step - loss: 0.0102 - accuracy: 0.9971 - val_loss: 0.0673 - val_accuracy: 0.9888\n"
     ]
    },
    {
     "data": {
      "text/plain": [
       "<keras.callbacks.callbacks.History at 0x23e82d94ef0>"
      ]
     },
     "execution_count": 16,
     "metadata": {},
     "output_type": "execute_result"
    }
   ],
   "source": [
    "checkpoint_cb = ModelCheckpoint('digit_model.h5', save_best_only=True)\n",
    "early_cb = EarlyStopping(patience=10, restore_best_weights=True)\n",
    "\n",
    "model.fit(X_train, y_train, validation_data=(X_valid, y_valid), epochs = 10, batch_size=32, callbacks = [checkpoint_cb, early_cb])"
   ]
  },
  {
   "cell_type": "markdown",
   "metadata": {},
   "source": [
    "# Submissions"
   ]
  },
  {
   "cell_type": "code",
   "execution_count": 22,
   "metadata": {},
   "outputs": [],
   "source": [
    "ans = pd.DataFrame({\n",
    "    'ImageId': 1 + np.arange(len(X_test)),\n",
    "    'Label': model.predict_classes(X_test)\n",
    "})\n",
    "ans.to_csv('digit_prediction_custom1.csv', index = False)"
   ]
  },
  {
   "cell_type": "markdown",
   "metadata": {},
   "source": [
    "# Data Augmentation"
   ]
  },
  {
   "cell_type": "code",
   "execution_count": 26,
   "metadata": {},
   "outputs": [],
   "source": [
    "from keras.preprocessing.image import ImageDataGenerator\n",
    "gen = ImageDataGenerator(rotation_range=10, width_shift_range=.1, height_shift_range=.1, zoom_range=.1)\n",
    "model_augment =  Sequential([\n",
    "    Conv2D(32, kernel_size = 5, activation = 'relu', input_shape = (28, 28,1)),\n",
    "    MaxPool2D(pool_size = 2, strides = 2),\n",
    "    Conv2D(64, kernel_size = 5, activation = 'relu'),\n",
    "    MaxPool2D(pool_size = 2, strides = 2),\n",
    "    Conv2D(128, kernel_size = 4, activation = 'relu'),\n",
    "    Flatten(),\n",
    "    Dense(128, activation = 'relu'),\n",
    "    Dropout(.5),\n",
    "    Dense(64, activation = 'relu'),\n",
    "    Dense(10, activation = 'softmax')\n",
    "])\n",
    "model_augment.compile('adam', 'sparse_categorical_crossentropy', ['accuracy'])"
   ]
  },
  {
   "cell_type": "code",
   "execution_count": 29,
   "metadata": {},
   "outputs": [],
   "source": [
    "augment_checkpoint_cb = ModelCheckpoint('digit_augmentation_model.h5', save_best_only=True)\n",
    "augment_early_cb = EarlyStopping(patience=10, restore_best_weights= True)"
   ]
  },
  {
   "cell_type": "code",
   "execution_count": 32,
   "metadata": {},
   "outputs": [
    {
     "name": "stdout",
     "output_type": "stream",
     "text": [
      "Epoch 1/30\n",
      "1050/1050 [==============================] - 41s 39ms/step - loss: 0.0863 - accuracy: 0.9754 - val_loss: 0.0462 - val_accuracy: 0.9883\n",
      "Epoch 2/30\n",
      "1050/1050 [==============================] - 41s 39ms/step - loss: 0.0696 - accuracy: 0.9818 - val_loss: 0.0601 - val_accuracy: 0.9851\n",
      "Epoch 3/30\n",
      "1050/1050 [==============================] - 41s 39ms/step - loss: 0.0599 - accuracy: 0.9835 - val_loss: 0.0490 - val_accuracy: 0.9871\n",
      "Epoch 4/30\n",
      "1050/1050 [==============================] - 41s 39ms/step - loss: 0.0562 - accuracy: 0.9846 - val_loss: 0.0375 - val_accuracy: 0.9898\n",
      "Epoch 5/30\n",
      "1050/1050 [==============================] - 41s 39ms/step - loss: 0.0495 - accuracy: 0.9863 - val_loss: 0.0387 - val_accuracy: 0.9896\n",
      "Epoch 6/30\n",
      "1050/1050 [==============================] - 42s 40ms/step - loss: 0.0509 - accuracy: 0.9862 - val_loss: 0.0385 - val_accuracy: 0.9898\n",
      "Epoch 7/30\n",
      "1050/1050 [==============================] - 43s 41ms/step - loss: 0.0437 - accuracy: 0.9887 - val_loss: 0.0365 - val_accuracy: 0.9893\n",
      "Epoch 8/30\n",
      "1050/1050 [==============================] - 41s 39ms/step - loss: 0.0459 - accuracy: 0.9874 - val_loss: 0.0361 - val_accuracy: 0.9917\n",
      "Epoch 9/30\n",
      "1050/1050 [==============================] - 41s 39ms/step - loss: 0.0430 - accuracy: 0.9885 - val_loss: 0.0370 - val_accuracy: 0.9912\n",
      "Epoch 10/30\n",
      "1050/1050 [==============================] - 42s 40ms/step - loss: 0.0404 - accuracy: 0.9885 - val_loss: 0.0366 - val_accuracy: 0.9901\n",
      "Epoch 11/30\n",
      "1050/1050 [==============================] - 42s 40ms/step - loss: 0.0431 - accuracy: 0.9883 - val_loss: 0.0330 - val_accuracy: 0.9923\n",
      "Epoch 12/30\n",
      "1050/1050 [==============================] - 42s 40ms/step - loss: 0.0399 - accuracy: 0.9890 - val_loss: 0.0382 - val_accuracy: 0.9919\n",
      "Epoch 13/30\n",
      "1050/1050 [==============================] - 42s 40ms/step - loss: 0.0429 - accuracy: 0.9882 - val_loss: 0.0380 - val_accuracy: 0.9913\n",
      "Epoch 14/30\n",
      "1050/1050 [==============================] - 41s 39ms/step - loss: 0.0361 - accuracy: 0.9901 - val_loss: 0.0363 - val_accuracy: 0.9914\n",
      "Epoch 15/30\n",
      "1050/1050 [==============================] - 41s 39ms/step - loss: 0.0370 - accuracy: 0.9898 - val_loss: 0.0423 - val_accuracy: 0.9905\n",
      "Epoch 16/30\n",
      "1050/1050 [==============================] - 41s 39ms/step - loss: 0.0329 - accuracy: 0.9915 - val_loss: 0.0427 - val_accuracy: 0.9904\n",
      "Epoch 17/30\n",
      "1050/1050 [==============================] - 40s 39ms/step - loss: 0.0343 - accuracy: 0.9910 - val_loss: 0.0380 - val_accuracy: 0.9912\n",
      "Epoch 18/30\n",
      "1050/1050 [==============================] - 41s 39ms/step - loss: 0.0325 - accuracy: 0.9912 - val_loss: 0.0437 - val_accuracy: 0.9907\n",
      "Epoch 19/30\n",
      "1050/1050 [==============================] - 41s 39ms/step - loss: 0.0307 - accuracy: 0.9919 - val_loss: 0.0307 - val_accuracy: 0.9936\n",
      "Epoch 20/30\n",
      "1050/1050 [==============================] - 41s 39ms/step - loss: 0.0341 - accuracy: 0.9912 - val_loss: 0.0455 - val_accuracy: 0.9887\n",
      "Epoch 21/30\n",
      "1050/1050 [==============================] - 42s 40ms/step - loss: 0.0312 - accuracy: 0.9915 - val_loss: 0.0352 - val_accuracy: 0.9920\n",
      "Epoch 22/30\n",
      "1050/1050 [==============================] - 34s 32ms/step - loss: 0.0266 - accuracy: 0.9927 - val_loss: 0.0335 - val_accuracy: 0.9932\n",
      "Epoch 23/30\n",
      "1050/1050 [==============================] - 31s 29ms/step - loss: 0.0332 - accuracy: 0.9912 - val_loss: 0.0342 - val_accuracy: 0.9915\n",
      "Epoch 24/30\n",
      "1050/1050 [==============================] - 30s 29ms/step - loss: 0.0275 - accuracy: 0.9926 - val_loss: 0.0557 - val_accuracy: 0.9893\n",
      "Epoch 25/30\n",
      "1050/1050 [==============================] - 30s 28ms/step - loss: 0.0297 - accuracy: 0.9918 - val_loss: 0.0437 - val_accuracy: 0.9908\n",
      "Epoch 26/30\n",
      "1050/1050 [==============================] - 29s 28ms/step - loss: 0.0296 - accuracy: 0.9924 - val_loss: 0.0362 - val_accuracy: 0.9920\n",
      "Epoch 27/30\n",
      "1050/1050 [==============================] - 31s 29ms/step - loss: 0.0292 - accuracy: 0.9924 - val_loss: 0.0376 - val_accuracy: 0.9917\n",
      "Epoch 28/30\n",
      "1050/1050 [==============================] - 33s 31ms/step - loss: 0.0284 - accuracy: 0.9925 - val_loss: 0.0324 - val_accuracy: 0.9915\n",
      "Epoch 29/30\n",
      "1050/1050 [==============================] - 28s 27ms/step - loss: 0.0255 - accuracy: 0.9927 - val_loss: 0.0390 - val_accuracy: 0.9908\n"
     ]
    },
    {
     "data": {
      "text/plain": [
       "<keras.callbacks.callbacks.History at 0x23e8bd2df98>"
      ]
     },
     "execution_count": 32,
     "metadata": {},
     "output_type": "execute_result"
    }
   ],
   "source": [
    "model.fit_generator(gen.flow(X_train, y_train, batch_size = 32), validation_data=(X_valid, y_valid), steps_per_epoch=len(X_train) / 32, epochs = 30, callbacks=[augment_checkpoint_cb, augment_early_cb])"
   ]
  },
  {
   "cell_type": "markdown",
   "metadata": {},
   "source": [
    "## Submission "
   ]
  },
  {
   "cell_type": "code",
   "execution_count": 33,
   "metadata": {},
   "outputs": [],
   "source": [
    "aug_ans = pd.DataFrame({\n",
    "    'ImageId': 1 + np.arange(len(X_test)),\n",
    "    'Label': model.predict_classes(X_test)\n",
    "})\n",
    "\n",
    "aug_ans.to_csv('digit_prediction_augmentation.csv', index = False)"
   ]
  }
 ],
 "metadata": {
  "kernelspec": {
   "display_name": "Python 3",
   "language": "python",
   "name": "python3"
  },
  "language_info": {
   "codemirror_mode": {
    "name": "ipython",
    "version": 3
   },
   "file_extension": ".py",
   "mimetype": "text/x-python",
   "name": "python",
   "nbconvert_exporter": "python",
   "pygments_lexer": "ipython3",
   "version": "3.7.3"
  }
 },
 "nbformat": 4,
 "nbformat_minor": 2
}
