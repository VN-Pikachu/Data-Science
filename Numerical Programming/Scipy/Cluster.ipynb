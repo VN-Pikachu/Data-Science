{
 "cells": [
  {
   "cell_type": "code",
   "execution_count": 49,
   "metadata": {},
   "outputs": [],
   "source": [
    "import numpy as np\n",
    "import scipy\n",
    "import matplotlib.pyplot as plt\n",
    "from scipy.cluster import vq, hierarchy"
   ]
  },
  {
   "cell_type": "code",
   "execution_count": 28,
   "metadata": {},
   "outputs": [],
   "source": [
    "np.set_printoptions(threshold=10)"
   ]
  },
  {
   "cell_type": "markdown",
   "metadata": {},
   "source": [
    "* **`scipy.cluser.vq`**: vector quantization (K-means)\n",
    "* **`scipy.cluster.hierarchy`**: hierarchical clustering (agglomorative and divisive)"
   ]
  },
  {
   "cell_type": "markdown",
   "metadata": {},
   "source": [
    "# Vector quantization and K-means"
   ]
  },
  {
   "cell_type": "markdown",
   "metadata": {},
   "source": [
    "### whiten"
   ]
  },
  {
   "cell_type": "markdown",
   "metadata": {},
   "source": [
    "Before running k-means, it is beneficial to rescale each feature\n",
    "dimension of the observation set with whitening. Each feature is\n",
    "divided by its standard deviation across all observations to give\n",
    "it unit variance."
   ]
  },
  {
   "cell_type": "code",
   "execution_count": 68,
   "metadata": {},
   "outputs": [],
   "source": [
    "from scipy.cluster.vq import whiten"
   ]
  },
  {
   "cell_type": "markdown",
   "metadata": {},
   "source": [
    "```python\n",
    "whiten(obs, check_finite=True)\n",
    "\n",
    "--------\n",
    "Docstring:\n",
    "Normalize a group of observations on a per feature basis.\n",
    "```"
   ]
  },
  {
   "cell_type": "code",
   "execution_count": 25,
   "metadata": {},
   "outputs": [],
   "source": [
    "from scipy.cluster.vq import kmeans, kmeans2"
   ]
  },
  {
   "cell_type": "markdown",
   "metadata": {},
   "source": [
    "We have two routines to divide data into clusters using the k-means\n",
    "technique – **`kmeans`** and **`kmeans2`**. They correspond to two different\n",
    "implementations."
   ]
  },
  {
   "cell_type": "markdown",
   "metadata": {},
   "source": [
    "### kmeans"
   ]
  },
  {
   "cell_type": "markdown",
   "metadata": {},
   "source": [
    "```python\n",
    "kmeans(obs, k_or_guess, iter=20, thresh=1e-05, check_finite=True)\n",
    "```"
   ]
  },
  {
   "cell_type": "code",
   "execution_count": 37,
   "metadata": {},
   "outputs": [
    {
     "name": "stdout",
     "output_type": "stream",
     "text": [
      " kmeans(obs, k_or_guess, iter=20, thresh=1e-05, check_finite=True)\n",
      "\n",
      "Performs k-means on a set of observation vectors forming k clusters.\n",
      "\n",
      "The k-means algorithm adjusts the classification of the observations\n",
      "into clusters and updates the cluster centroids until the position of\n",
      "the centroids is stable over successive iterations. In this\n",
      "implementation of the algorithm, the stability of the centroids is\n",
      "determined by comparing the absolute value of the change in the average\n",
      "Euclidean distance between the observations and their corresponding\n",
      "centroids against a threshold. This yields\n",
      "a code book mapping centroids to codes and vice versa.\n",
      "\n",
      "Parameters\n",
      "----------\n",
      "obs : ndarray\n",
      "   Each row of the M by N array is an observation vector. The\n",
      "   columns are the features seen during each observation.\n",
      "   The features must be whitened first with the `whiten` function.\n",
      "\n",
      "k_or_guess : int or ndarray\n",
      "   The number of centroids to generate. A code is assigned to\n",
      "   each centroid, which is also the row index of the centroid\n",
      "   in the code_book matrix generated.\n",
      "\n",
      "   The initial k centroids are chosen by randomly selecting\n",
      "   observations from the observation matrix. Alternatively,\n",
      "   passing a k by N array specifies the initial k centroids.\n",
      "\n",
      "iter : int, optional\n",
      "   The number of times to run k-means, returning the codebook\n",
      "   with the lowest distortion. This argument is ignored if\n",
      "   initial centroids are specified with an array for the\n",
      "   ``k_or_guess`` parameter. This parameter does not represent the\n",
      "   number of iterations of the k-means algorithm.\n",
      "\n",
      "thresh : float, optional\n",
      "   Terminates the k-means algorithm if the change in\n",
      "   distortion since the last k-means iteration is less than\n",
      "   or equal to thresh.\n",
      "\n",
      "check_finite : bool, optional\n",
      "    Whether to check that the input matrices contain only finite numbers.\n",
      "    Disabling may give a performance gain, but may result in problems\n",
      "    (crashes, non-termination) if the inputs do contain infinities or NaNs.\n",
      "    Default: True\n",
      "\n",
      "Returns\n",
      "-------\n",
      "codebook : ndarray\n",
      "   A k by N array of k centroids. The i'th centroid\n",
      "   codebook[i] is represented with the code i. The centroids\n",
      "   and codes generated represent the lowest distortion seen,\n",
      "   not necessarily the globally minimal distortion.\n",
      "\n",
      "distortion : float\n",
      "   The mean (non-squared) Euclidean distance between the observations\n",
      "   passed and the centroids generated. Note the difference to the standard\n",
      "   definition of distortion in the context of the K-means algorithm, which\n",
      "   is the sum of the squared distances.\n",
      "\n",
      "See Also\n",
      "--------\n",
      "kmeans2 : a different implementation of k-means clustering\n",
      "   with more methods for generating initial centroids but without\n",
      "   using a distortion change threshold as a stopping criterion.\n",
      "\n",
      "whiten : must be called prior to passing an observation matrix\n",
      "   to kmeans.\n",
      "\n",
      "Examples\n",
      "--------\n",
      ">>> from numpy import array\n",
      ">>> from scipy.cluster.vq import vq, kmeans, whiten\n",
      ">>> import matplotlib.pyplot as plt\n",
      ">>> features  = array([[ 1.9,2.3],\n",
      "...                    [ 1.5,2.5],\n",
      "...                    [ 0.8,0.6],\n",
      "...                    [ 0.4,1.8],\n",
      "...                    [ 0.1,0.1],\n",
      "...                    [ 0.2,1.8],\n",
      "...                    [ 2.0,0.5],\n",
      "...                    [ 0.3,1.5],\n",
      "...                    [ 1.0,1.0]])\n",
      ">>> whitened = whiten(features)\n",
      ">>> book = np.array((whitened[0],whitened[2]))\n",
      ">>> kmeans(whitened,book)\n",
      "(array([[ 2.3110306 ,  2.86287398],    # random\n",
      "       [ 0.93218041,  1.24398691]]), 0.85684700941625547)\n",
      "\n",
      ">>> from numpy import random\n",
      ">>> random.seed((1000,2000))\n",
      ">>> codes = 3\n",
      ">>> kmeans(whitened,codes)\n",
      "(array([[ 2.3110306 ,  2.86287398],    # random\n",
      "       [ 1.32544402,  0.65607529],\n",
      "       [ 0.40782893,  2.02786907]]), 0.5196582527686241)\n",
      "\n",
      ">>> # Create 50 datapoints in two clusters a and b\n",
      ">>> pts = 50\n",
      ">>> a = np.random.multivariate_normal([0, 0], [[4, 1], [1, 4]], size=pts)\n",
      ">>> b = np.random.multivariate_normal([30, 10],\n",
      "...                                   [[10, 2], [2, 1]],\n",
      "...                                   size=pts)\n",
      ">>> features = np.concatenate((a, b))\n",
      ">>> # Whiten data\n",
      ">>> whitened = whiten(features)\n",
      ">>> # Find 2 clusters in the data\n",
      ">>> codebook, distortion = kmeans(whitened, 2)\n",
      ">>> # Plot whitened data and cluster centers in red\n",
      ">>> plt.scatter(whitened[:, 0], whitened[:, 1])\n",
      ">>> plt.scatter(codebook[:, 0], codebook[:, 1], c='r')\n",
      ">>> plt.show()\n"
     ]
    }
   ],
   "source": [
    "scipy.info(kmeans)"
   ]
  },
  {
   "cell_type": "code",
   "execution_count": 21,
   "metadata": {},
   "outputs": [
    {
     "data": {
      "text/plain": [
       "<matplotlib.collections.PathCollection at 0x143ae380550>"
      ]
     },
     "execution_count": 21,
     "metadata": {},
     "output_type": "execute_result"
    },
    {
     "data": {
      "image/png": "[encoded data removed]",
      "text/plain": [
       "<Figure size 432x288 with 1 Axes>"
      ]
     },
     "metadata": {
      "needs_background": "light"
     },
     "output_type": "display_data"
    }
   ],
   "source": [
    "X1 = np.random.multivariate_normal(mean = [1,1], cov = np.identity(2), size = 500)\n",
    "X2 = np.random.multivariate_normal(mean = [5,5], cov = np.eye(2), size = 500)\n",
    "\n",
    "plt.scatter(X1[:,0], X1[:,1],  c = 'r')\n",
    "plt.scatter(X2[:,0], X2[:,1],  c = 'r')"
   ]
  },
  {
   "cell_type": "code",
   "execution_count": 19,
   "metadata": {},
   "outputs": [],
   "source": [
    "X = np.r_[X1, X2]"
   ]
  },
  {
   "cell_type": "code",
   "execution_count": 32,
   "metadata": {},
   "outputs": [
    {
     "data": {
      "text/plain": [
       "array([[1.00995394, 0.99607041],\n",
       "       [4.95181426, 4.99320342]])"
      ]
     },
     "execution_count": 32,
     "metadata": {},
     "output_type": "execute_result"
    }
   ],
   "source": [
    "centroids, distance = kmeans(X, 2)\n",
    "centroids"
   ]
  },
  {
   "cell_type": "markdown",
   "metadata": {},
   "source": [
    "The mean (non-squared) Euclidean distance between the observations\n",
    "   passed and the centroids generated. Note the difference to the standard\n",
    "   definition of distortion in the context of the K-means algorithm, which\n",
    "   is the sum of the squared distances."
   ]
  },
  {
   "cell_type": "code",
   "execution_count": 35,
   "metadata": {},
   "outputs": [
    {
     "data": {
      "text/plain": [
       "1.2546332037332621"
      ]
     },
     "execution_count": 35,
     "metadata": {},
     "output_type": "execute_result"
    }
   ],
   "source": [
    "distance"
   ]
  },
  {
   "cell_type": "markdown",
   "metadata": {},
   "source": [
    "In any case, if we wish to classify the original data by assigning to each point the\n",
    "cluster to which it belongs; we do so with the vq routine (for vector quantization).\n",
    "The syntax is pretty simple as well:\n",
    "**`vq(obs, centroids)`**"
   ]
  },
  {
   "cell_type": "code",
   "execution_count": 26,
   "metadata": {},
   "outputs": [],
   "source": [
    "from scipy.cluster.vq import vq"
   ]
  },
  {
   "cell_type": "code",
   "execution_count": 38,
   "metadata": {},
   "outputs": [
    {
     "name": "stdout",
     "output_type": "stream",
     "text": [
      " vq(obs, code_book, check_finite=True)\n",
      "\n",
      "Assign codes from a code book to observations.\n",
      "\n",
      "Assigns a code from a code book to each observation. Each\n",
      "observation vector in the 'M' by 'N' `obs` array is compared with the\n",
      "centroids in the code book and assigned the code of the closest\n",
      "centroid.\n",
      "\n",
      "The features in `obs` should have unit variance, which can be\n",
      "achieved by passing them through the whiten function.  The code\n",
      "book can be created with the k-means algorithm or a different\n",
      "encoding algorithm.\n",
      "\n",
      "Parameters\n",
      "----------\n",
      "obs : ndarray\n",
      "    Each row of the 'M' x 'N' array is an observation.  The columns are\n",
      "    the \"features\" seen during each observation. The features must be\n",
      "    whitened first using the whiten function or something equivalent.\n",
      "code_book : ndarray\n",
      "    The code book is usually generated using the k-means algorithm.\n",
      "    Each row of the array holds a different code, and the columns are\n",
      "    the features of the code.\n",
      "\n",
      "     >>> #              f0    f1    f2   f3\n",
      "     >>> code_book = [\n",
      "     ...             [  1.,   2.,   3.,   4.],  #c0\n",
      "     ...             [  1.,   2.,   3.,   4.],  #c1\n",
      "     ...             [  1.,   2.,   3.,   4.]]  #c2\n",
      "\n",
      "check_finite : bool, optional\n",
      "    Whether to check that the input matrices contain only finite numbers.\n",
      "    Disabling may give a performance gain, but may result in problems\n",
      "    (crashes, non-termination) if the inputs do contain infinities or NaNs.\n",
      "    Default: True\n",
      "\n",
      "Returns\n",
      "-------\n",
      "code : ndarray\n",
      "    A length M array holding the code book index for each observation.\n",
      "dist : ndarray\n",
      "    The distortion (distance) between the observation and its nearest\n",
      "    code.\n",
      "\n",
      "Examples\n",
      "--------\n",
      ">>> from numpy import array\n",
      ">>> from scipy.cluster.vq import vq\n",
      ">>> code_book = array([[1.,1.,1.],\n",
      "...                    [2.,2.,2.]])\n",
      ">>> features  = array([[  1.9,2.3,1.7],\n",
      "...                    [  1.5,2.5,2.2],\n",
      "...                    [  0.8,0.6,1.7]])\n",
      ">>> vq(features,code_book)\n",
      "(array([1, 1, 0],'i'), array([ 0.43588989,  0.73484692,  0.83066239]))\n"
     ]
    }
   ],
   "source": [
    "scipy.info(vq)"
   ]
  },
  {
   "cell_type": "code",
   "execution_count": 39,
   "metadata": {},
   "outputs": [
    {
     "data": {
      "text/plain": [
       "array([0, 0, 0, ..., 1, 1, 1])"
      ]
     },
     "execution_count": 39,
     "metadata": {},
     "output_type": "execute_result"
    }
   ],
   "source": [
    "labels, distance_to_centroid = vq(X, centroids)\n",
    "labels"
   ]
  },
  {
   "cell_type": "code",
   "execution_count": 40,
   "metadata": {},
   "outputs": [
    {
     "data": {
      "text/plain": [
       "array([0.87641389, 0.36736093, 1.71924698, ..., 1.78758319, 1.95671099,\n",
       "       1.58178813])"
      ]
     },
     "execution_count": 40,
     "metadata": {},
     "output_type": "execute_result"
    }
   ],
   "source": [
    "distance_to_centroid"
   ]
  },
  {
   "cell_type": "code",
   "execution_count": 59,
   "metadata": {},
   "outputs": [
    {
     "data": {
      "text/plain": [
       "<matplotlib.legend.Legend at 0x143afaace80>"
      ]
     },
     "execution_count": 59,
     "metadata": {},
     "output_type": "execute_result"
    },
    {
     "data": {
      "image/png": "[encoded data removed]",
      "text/plain": [
       "<Figure size 432x288 with 1 Axes>"
      ]
     },
     "metadata": {
      "needs_background": "light"
     },
     "output_type": "display_data"
    }
   ],
   "source": [
    "plt.scatter(X[:,0], X[:,1], c = labels, cmap = 'Spectral_r', ec = 'k', alpha = .5)\n",
    "plt.scatter(centroids[:,0], centroids[:,1], c = 'gold', label = 'Centroid')\n",
    "plt.legend()"
   ]
  },
  {
   "cell_type": "markdown",
   "metadata": {},
   "source": [
    "### kmeans2"
   ]
  },
  {
   "cell_type": "markdown",
   "metadata": {},
   "source": [
    "more flexible"
   ]
  },
  {
   "cell_type": "markdown",
   "metadata": {},
   "source": [
    "```python\n",
    "kmeans2(\n",
    "    data,\n",
    "    k,\n",
    "    iter=10,\n",
    "    thresh=1e-05,\n",
    "    minit='random',\n",
    "    missing='warn',\n",
    "    check_finite=True,\n",
    ")\n",
    "```"
   ]
  },
  {
   "cell_type": "code",
   "execution_count": 47,
   "metadata": {},
   "outputs": [
    {
     "name": "stdout",
     "output_type": "stream",
     "text": [
      " kmeans2(data, k, iter=10, thresh=1e-05, minit='random', missing='warn',\n",
      "         check_finite=True)\n",
      "\n",
      "Classify a set of observations into k clusters using the k-means algorithm.\n",
      "\n",
      "The algorithm attempts to minimize the Euclidian distance between\n",
      "observations and centroids. Several initialization methods are\n",
      "included.\n",
      "\n",
      "Parameters\n",
      "----------\n",
      "data : ndarray\n",
      "    A 'M' by 'N' array of 'M' observations in 'N' dimensions or a length\n",
      "    'M' array of 'M' one-dimensional observations.\n",
      "k : int or ndarray\n",
      "    The number of clusters to form as well as the number of\n",
      "    centroids to generate. If `minit` initialization string is\n",
      "    'matrix', or if a ndarray is given instead, it is\n",
      "    interpreted as initial cluster to use instead.\n",
      "iter : int, optional\n",
      "    Number of iterations of the k-means algorithm to run. Note\n",
      "    that this differs in meaning from the iters parameter to\n",
      "    the kmeans function.\n",
      "thresh : float, optional\n",
      "    (not used yet)\n",
      "minit : str, optional\n",
      "    Method for initialization. Available methods are 'random',\n",
      "    'points', '++' and 'matrix':\n",
      "\n",
      "    'random': generate k centroids from a Gaussian with mean and\n",
      "    variance estimated from the data.\n",
      "\n",
      "    'points': choose k observations (rows) at random from data for\n",
      "    the initial centroids.\n",
      "\n",
      "    '++': choose k observations accordingly to the kmeans++ method\n",
      "    (careful seeding)\n",
      "\n",
      "    'matrix': interpret the k parameter as a k by M (or length k\n",
      "    array for one-dimensional data) array of initial centroids.\n",
      "missing : str, optional\n",
      "    Method to deal with empty clusters. Available methods are\n",
      "    'warn' and 'raise':\n",
      "\n",
      "    'warn': give a warning and continue.\n",
      "\n",
      "    'raise': raise an ClusterError and terminate the algorithm.\n",
      "check_finite : bool, optional\n",
      "    Whether to check that the input matrices contain only finite numbers.\n",
      "    Disabling may give a performance gain, but may result in problems\n",
      "    (crashes, non-termination) if the inputs do contain infinities or NaNs.\n",
      "    Default: True\n",
      "\n",
      "Returns\n",
      "-------\n",
      "centroid : ndarray\n",
      "    A 'k' by 'N' array of centroids found at the last iteration of\n",
      "    k-means.\n",
      "label : ndarray\n",
      "    label[i] is the code or index of the centroid the\n",
      "    i'th observation is closest to.\n",
      "\n",
      "References\n",
      "----------\n",
      ".. [1] D. Arthur and S. Vassilvitskii, \"k-means++: the advantages of\n",
      "   careful seeding\", Proceedings of the Eighteenth Annual ACM-SIAM Symposium\n",
      "   on Discrete Algorithms, 2007.\n"
     ]
    }
   ],
   "source": [
    "scipy.info(kmeans2)"
   ]
  },
  {
   "cell_type": "code",
   "execution_count": 60,
   "metadata": {},
   "outputs": [
    {
     "data": {
      "text/plain": [
       "<matplotlib.legend.Legend at 0x143afb17908>"
      ]
     },
     "execution_count": 60,
     "metadata": {},
     "output_type": "execute_result"
    },
    {
     "data": {
      "image/png": "[encoded data removed]",
      "text/plain": [
       "<Figure size 432x288 with 1 Axes>"
      ]
     },
     "metadata": {
      "needs_background": "light"
     },
     "output_type": "display_data"
    }
   ],
   "source": [
    "centroids, labels = kmeans2(X, 2, minit = '++')\n",
    "plt.scatter(X[:,0], X[:,1], c = labels, cmap = 'Spectral_r', ec = 'k', alpha = .5)\n",
    "plt.scatter(centroids[:,0], centroids[:,1], c = 'gold', label = 'Centroid')\n",
    "plt.legend()"
   ]
  },
  {
   "cell_type": "markdown",
   "metadata": {},
   "source": [
    "# Hirarchical Clustering"
   ]
  },
  {
   "cell_type": "markdown",
   "metadata": {},
   "source": [
    "• Single/min/nearest method: `single`  \n",
    "• Complete/max/farthest method: `complete`  \n",
    "• Average/UPGMA method: `average`  \n",
    "• Weighted/WPGMA method: `weighted`  \n",
    "• Centroid/UPGMC method: `centroid`  \n",
    "• Median/WPGMC method: `median`  \n",
    "• Ward's linkage method: `ward`"
   ]
  },
  {
   "cell_type": "code",
   "execution_count": 64,
   "metadata": {},
   "outputs": [],
   "source": [
    "from scipy.cluster.hierarchy import linkage"
   ]
  },
  {
   "cell_type": "markdown",
   "metadata": {},
   "source": [
    "```python\n",
    "linkage(y, method='single', metric='euclidean', optimal_ordering=False)\n",
    "```"
   ]
  },
  {
   "cell_type": "markdown",
   "metadata": {},
   "source": [
    "Returns:  \n",
    "Z : ndarray The hierarchical clustering encoded as a linkage matrix."
   ]
  },
  {
   "cell_type": "code",
   "execution_count": 66,
   "metadata": {},
   "outputs": [
    {
     "name": "stdout",
     "output_type": "stream",
     "text": [
      "Help on function linkage in module scipy.cluster.hierarchy:\n",
      "\n",
      "linkage(y, method='single', metric='euclidean', optimal_ordering=False)\n",
      "    Perform hierarchical/agglomerative clustering.\n",
      "    \n",
      "    The input y may be either a 1d condensed distance matrix\n",
      "    or a 2d array of observation vectors.\n",
      "    \n",
      "    If y is a 1d condensed distance matrix,\n",
      "    then y must be a :math:`\\binom{n}{2}` sized\n",
      "    vector where n is the number of original observations paired\n",
      "    in the distance matrix. The behavior of this function is very\n",
      "    similar to the MATLAB linkage function.\n",
      "    \n",
      "    A :math:`(n-1)` by 4 matrix ``Z`` is returned. At the\n",
      "    :math:`i`-th iteration, clusters with indices ``Z[i, 0]`` and\n",
      "    ``Z[i, 1]`` are combined to form cluster :math:`n + i`. A\n",
      "    cluster with an index less than :math:`n` corresponds to one of\n",
      "    the :math:`n` original observations. The distance between\n",
      "    clusters ``Z[i, 0]`` and ``Z[i, 1]`` is given by ``Z[i, 2]``. The\n",
      "    fourth value ``Z[i, 3]`` represents the number of original\n",
      "    observations in the newly formed cluster.\n",
      "    \n",
      "    The following linkage methods are used to compute the distance\n",
      "    :math:`d(s, t)` between two clusters :math:`s` and\n",
      "    :math:`t`. The algorithm begins with a forest of clusters that\n",
      "    have yet to be used in the hierarchy being formed. When two\n",
      "    clusters :math:`s` and :math:`t` from this forest are combined\n",
      "    into a single cluster :math:`u`, :math:`s` and :math:`t` are\n",
      "    removed from the forest, and :math:`u` is added to the\n",
      "    forest. When only one cluster remains in the forest, the algorithm\n",
      "    stops, and this cluster becomes the root.\n",
      "    \n",
      "    A distance matrix is maintained at each iteration. The ``d[i,j]``\n",
      "    entry corresponds to the distance between cluster :math:`i` and\n",
      "    :math:`j` in the original forest.\n",
      "    \n",
      "    At each iteration, the algorithm must update the distance matrix\n",
      "    to reflect the distance of the newly formed cluster u with the\n",
      "    remaining clusters in the forest.\n",
      "    \n",
      "    Suppose there are :math:`|u|` original observations\n",
      "    :math:`u[0], \\ldots, u[|u|-1]` in cluster :math:`u` and\n",
      "    :math:`|v|` original objects :math:`v[0], \\ldots, v[|v|-1]` in\n",
      "    cluster :math:`v`. Recall :math:`s` and :math:`t` are\n",
      "    combined to form cluster :math:`u`. Let :math:`v` be any\n",
      "    remaining cluster in the forest that is not :math:`u`.\n",
      "    \n",
      "    The following are methods for calculating the distance between the\n",
      "    newly formed cluster :math:`u` and each :math:`v`.\n",
      "    \n",
      "      * method='single' assigns\n",
      "    \n",
      "        .. math::\n",
      "           d(u,v) = \\min(dist(u[i],v[j]))\n",
      "    \n",
      "        for all points :math:`i` in cluster :math:`u` and\n",
      "        :math:`j` in cluster :math:`v`. This is also known as the\n",
      "        Nearest Point Algorithm.\n",
      "    \n",
      "      * method='complete' assigns\n",
      "    \n",
      "        .. math::\n",
      "           d(u, v) = \\max(dist(u[i],v[j]))\n",
      "    \n",
      "        for all points :math:`i` in cluster u and :math:`j` in\n",
      "        cluster :math:`v`. This is also known by the Farthest Point\n",
      "        Algorithm or Voor Hees Algorithm.\n",
      "    \n",
      "      * method='average' assigns\n",
      "    \n",
      "        .. math::\n",
      "           d(u,v) = \\sum_{ij} \\frac{d(u[i], v[j])}\n",
      "                                   {(|u|*|v|)}\n",
      "    \n",
      "        for all points :math:`i` and :math:`j` where :math:`|u|`\n",
      "        and :math:`|v|` are the cardinalities of clusters :math:`u`\n",
      "        and :math:`v`, respectively. This is also called the UPGMA\n",
      "        algorithm.\n",
      "    \n",
      "      * method='weighted' assigns\n",
      "    \n",
      "        .. math::\n",
      "           d(u,v) = (dist(s,v) + dist(t,v))/2\n",
      "    \n",
      "        where cluster u was formed with cluster s and t and v\n",
      "        is a remaining cluster in the forest. (also called WPGMA)\n",
      "    \n",
      "      * method='centroid' assigns\n",
      "    \n",
      "        .. math::\n",
      "           dist(s,t) = ||c_s-c_t||_2\n",
      "    \n",
      "        where :math:`c_s` and :math:`c_t` are the centroids of\n",
      "        clusters :math:`s` and :math:`t`, respectively. When two\n",
      "        clusters :math:`s` and :math:`t` are combined into a new\n",
      "        cluster :math:`u`, the new centroid is computed over all the\n",
      "        original objects in clusters :math:`s` and :math:`t`. The\n",
      "        distance then becomes the Euclidean distance between the\n",
      "        centroid of :math:`u` and the centroid of a remaining cluster\n",
      "        :math:`v` in the forest. This is also known as the UPGMC\n",
      "        algorithm.\n",
      "    \n",
      "      * method='median' assigns :math:`d(s,t)` like the ``centroid``\n",
      "        method. When two clusters :math:`s` and :math:`t` are combined\n",
      "        into a new cluster :math:`u`, the average of centroids s and t\n",
      "        give the new centroid :math:`u`. This is also known as the\n",
      "        WPGMC algorithm.\n",
      "    \n",
      "      * method='ward' uses the Ward variance minimization algorithm.\n",
      "        The new entry :math:`d(u,v)` is computed as follows,\n",
      "    \n",
      "        .. math::\n",
      "    \n",
      "           d(u,v) = \\sqrt{\\frac{|v|+|s|}\n",
      "                               {T}d(v,s)^2\n",
      "                        + \\frac{|v|+|t|}\n",
      "                               {T}d(v,t)^2\n",
      "                        - \\frac{|v|}\n",
      "                               {T}d(s,t)^2}\n",
      "    \n",
      "        where :math:`u` is the newly joined cluster consisting of\n",
      "        clusters :math:`s` and :math:`t`, :math:`v` is an unused\n",
      "        cluster in the forest, :math:`T=|v|+|s|+|t|`, and\n",
      "        :math:`|*|` is the cardinality of its argument. This is also\n",
      "        known as the incremental algorithm.\n",
      "    \n",
      "    Warning: When the minimum distance pair in the forest is chosen, there\n",
      "    may be two or more pairs with the same minimum distance. This\n",
      "    implementation may choose a different minimum than the MATLAB\n",
      "    version.\n",
      "    \n",
      "    Parameters\n",
      "    ----------\n",
      "    y : ndarray\n",
      "        A condensed distance matrix. A condensed distance matrix\n",
      "        is a flat array containing the upper triangular of the distance matrix.\n",
      "        This is the form that ``pdist`` returns. Alternatively, a collection of\n",
      "        :math:`m` observation vectors in :math:`n` dimensions may be passed as\n",
      "        an :math:`m` by :math:`n` array. All elements of the condensed distance\n",
      "        matrix must be finite, i.e. no NaNs or infs.\n",
      "    method : str, optional\n",
      "        The linkage algorithm to use. See the ``Linkage Methods`` section below\n",
      "        for full descriptions.\n",
      "    metric : str or function, optional\n",
      "        The distance metric to use in the case that y is a collection of\n",
      "        observation vectors; ignored otherwise. See the ``pdist``\n",
      "        function for a list of valid distance metrics. A custom distance\n",
      "        function can also be used.\n",
      "    optimal_ordering : bool, optional\n",
      "        If True, the linkage matrix will be reordered so that the distance\n",
      "        between successive leaves is minimal. This results in a more intuitive\n",
      "        tree structure when the data are visualized. defaults to False, because\n",
      "        this algorithm can be slow, particularly on large datasets [2]_. See \n",
      "        also the `optimal_leaf_ordering` function.\n",
      "        \n",
      "        .. versionadded:: 1.0.0\n",
      "    \n",
      "    Returns\n",
      "    -------\n",
      "    Z : ndarray\n",
      "        The hierarchical clustering encoded as a linkage matrix.\n",
      "    \n",
      "    Notes\n",
      "    -----\n",
      "    1. For method 'single' an optimized algorithm based on minimum spanning\n",
      "       tree is implemented. It has time complexity :math:`O(n^2)`.\n",
      "       For methods 'complete', 'average', 'weighted' and 'ward' an algorithm\n",
      "       called nearest-neighbors chain is implemented. It also has time\n",
      "       complexity :math:`O(n^2)`.\n",
      "       For other methods a naive algorithm is implemented with :math:`O(n^3)`\n",
      "       time complexity.\n",
      "       All algorithms use :math:`O(n^2)` memory.\n",
      "       Refer to [1]_ for details about the algorithms.\n",
      "    2. Methods 'centroid', 'median' and 'ward' are correctly defined only if\n",
      "       Euclidean pairwise metric is used. If `y` is passed as precomputed\n",
      "       pairwise distances, then it is a user responsibility to assure that\n",
      "       these distances are in fact Euclidean, otherwise the produced result\n",
      "       will be incorrect.\n",
      "    \n",
      "    See Also\n",
      "    --------\n",
      "    scipy.spatial.distance.pdist : pairwise distance metrics\n",
      "    \n",
      "    References\n",
      "    ----------\n",
      "    .. [1] Daniel Mullner, \"Modern hierarchical, agglomerative clustering\n",
      "           algorithms\", :arXiv:`1109.2378v1`.\n",
      "    .. [2] Ziv Bar-Joseph, David K. Gifford, Tommi S. Jaakkola, \"Fast optimal\n",
      "           leaf ordering for hierarchical clustering\", 2001. Bioinformatics\n",
      "           :doi:`10.1093/bioinformatics/17.suppl_1.S22`\n",
      "    \n",
      "    Examples\n",
      "    --------\n",
      "    >>> from scipy.cluster.hierarchy import dendrogram, linkage\n",
      "    >>> from matplotlib import pyplot as plt\n",
      "    >>> X = [[i] for i in [2, 8, 0, 4, 1, 9, 9, 0]]\n",
      "    \n",
      "    >>> Z = linkage(X, 'ward')\n",
      "    >>> fig = plt.figure(figsize=(25, 10))\n",
      "    >>> dn = dendrogram(Z)\n",
      "    \n",
      "    >>> Z = linkage(X, 'single')\n",
      "    >>> fig = plt.figure(figsize=(25, 10))\n",
      "    >>> dn = dendrogram(Z)\n",
      "    >>> plt.show()\n",
      "\n"
     ]
    }
   ],
   "source": [
    "help(linkage)"
   ]
  },
  {
   "cell_type": "markdown",
   "metadata": {},
   "source": [
    "Visualize likage matrix: **Dendrogram**"
   ]
  },
  {
   "cell_type": "code",
   "execution_count": 74,
   "metadata": {},
   "outputs": [],
   "source": [
    "from scipy.cluster.hierarchy import dendrogram"
   ]
  },
  {
   "cell_type": "markdown",
   "metadata": {},
   "source": [
    "```python\n",
    "dendrogram(\n",
    "    Z,\n",
    "    p=30,\n",
    "    truncate_mode=None,\n",
    "    color_threshold=None,\n",
    "    get_leaves=True,\n",
    "    orientation='top',\n",
    "    labels=None,\n",
    "    count_sort=False,\n",
    "    distance_sort=False,\n",
    "    show_leaf_counts=True,\n",
    "    no_plot=False,\n",
    "    no_labels=False,\n",
    "    leaf_font_size=None,\n",
    "    leaf_rotation=None,\n",
    "    leaf_label_func=None,\n",
    "    show_contracted=False,\n",
    "    link_color_func=None,\n",
    "    ax=None,\n",
    "    above_threshold_color='b',\n",
    ")\n",
    "```"
   ]
  },
  {
   "cell_type": "code",
   "execution_count": 76,
   "metadata": {},
   "outputs": [
    {
     "name": "stdout",
     "output_type": "stream",
     "text": [
      "Help on function dendrogram in module scipy.cluster.hierarchy:\n",
      "\n",
      "dendrogram(Z, p=30, truncate_mode=None, color_threshold=None, get_leaves=True, orientation='top', labels=None, count_sort=False, distance_sort=False, show_leaf_counts=True, no_plot=False, no_labels=False, leaf_font_size=None, leaf_rotation=None, leaf_label_func=None, show_contracted=False, link_color_func=None, ax=None, above_threshold_color='b')\n",
      "    Plot the hierarchical clustering as a dendrogram.\n",
      "    \n",
      "    The dendrogram illustrates how each cluster is\n",
      "    composed by drawing a U-shaped link between a non-singleton\n",
      "    cluster and its children.  The top of the U-link indicates a\n",
      "    cluster merge.  The two legs of the U-link indicate which clusters\n",
      "    were merged.  The length of the two legs of the U-link represents\n",
      "    the distance between the child clusters.  It is also the\n",
      "    cophenetic distance between original observations in the two\n",
      "    children clusters.\n",
      "    \n",
      "    Parameters\n",
      "    ----------\n",
      "    Z : ndarray\n",
      "        The linkage matrix encoding the hierarchical clustering to\n",
      "        render as a dendrogram. See the ``linkage`` function for more\n",
      "        information on the format of ``Z``.\n",
      "    p : int, optional\n",
      "        The ``p`` parameter for ``truncate_mode``.\n",
      "    truncate_mode : str, optional\n",
      "        The dendrogram can be hard to read when the original\n",
      "        observation matrix from which the linkage is derived is\n",
      "        large. Truncation is used to condense the dendrogram. There\n",
      "        are several modes:\n",
      "    \n",
      "        ``None``\n",
      "          No truncation is performed (default).\n",
      "          Note: ``'none'`` is an alias for ``None`` that's kept for\n",
      "          backward compatibility.\n",
      "    \n",
      "        ``'lastp'``\n",
      "          The last ``p`` non-singleton clusters formed in the linkage are the\n",
      "          only non-leaf nodes in the linkage; they correspond to rows\n",
      "          ``Z[n-p-2:end]`` in ``Z``. All other non-singleton clusters are\n",
      "          contracted into leaf nodes.\n",
      "    \n",
      "        ``'level'``\n",
      "          No more than ``p`` levels of the dendrogram tree are displayed.\n",
      "          A \"level\" includes all nodes with ``p`` merges from the last merge.\n",
      "    \n",
      "          Note: ``'mtica'`` is an alias for ``'level'`` that's kept for\n",
      "          backward compatibility.\n",
      "    \n",
      "    color_threshold : double, optional\n",
      "        For brevity, let :math:`t` be the ``color_threshold``.\n",
      "        Colors all the descendent links below a cluster node\n",
      "        :math:`k` the same color if :math:`k` is the first node below\n",
      "        the cut threshold :math:`t`. All links connecting nodes with\n",
      "        distances greater than or equal to the threshold are colored\n",
      "        blue. If :math:`t` is less than or equal to zero, all nodes\n",
      "        are colored blue. If ``color_threshold`` is None or\n",
      "        'default', corresponding with MATLAB(TM) behavior, the\n",
      "        threshold is set to ``0.7*max(Z[:,2])``.\n",
      "    get_leaves : bool, optional\n",
      "        Includes a list ``R['leaves']=H`` in the result\n",
      "        dictionary. For each :math:`i`, ``H[i] == j``, cluster node\n",
      "        ``j`` appears in position ``i`` in the left-to-right traversal\n",
      "        of the leaves, where :math:`j < 2n-1` and :math:`i < n`.\n",
      "    orientation : str, optional\n",
      "        The direction to plot the dendrogram, which can be any\n",
      "        of the following strings:\n",
      "    \n",
      "        ``'top'``\n",
      "          Plots the root at the top, and plot descendent links going downwards.\n",
      "          (default).\n",
      "    \n",
      "        ``'bottom'``\n",
      "          Plots the root at the bottom, and plot descendent links going\n",
      "          upwards.\n",
      "    \n",
      "        ``'left'``\n",
      "          Plots the root at the left, and plot descendent links going right.\n",
      "    \n",
      "        ``'right'``\n",
      "          Plots the root at the right, and plot descendent links going left.\n",
      "    \n",
      "    labels : ndarray, optional\n",
      "        By default ``labels`` is None so the index of the original observation\n",
      "        is used to label the leaf nodes.  Otherwise, this is an :math:`n`\n",
      "        -sized list (or tuple). The ``labels[i]`` value is the text to put\n",
      "        under the :math:`i` th leaf node only if it corresponds to an original\n",
      "        observation and not a non-singleton cluster.\n",
      "    count_sort : str or bool, optional\n",
      "        For each node n, the order (visually, from left-to-right) n's\n",
      "        two descendent links are plotted is determined by this\n",
      "        parameter, which can be any of the following values:\n",
      "    \n",
      "        ``False``\n",
      "          Nothing is done.\n",
      "    \n",
      "        ``'ascending'`` or ``True``\n",
      "          The child with the minimum number of original objects in its cluster\n",
      "          is plotted first.\n",
      "    \n",
      "        ``'descending'``\n",
      "          The child with the maximum number of original objects in its cluster\n",
      "          is plotted first.\n",
      "    \n",
      "        Note ``distance_sort`` and ``count_sort`` cannot both be True.\n",
      "    distance_sort : str or bool, optional\n",
      "        For each node n, the order (visually, from left-to-right) n's\n",
      "        two descendent links are plotted is determined by this\n",
      "        parameter, which can be any of the following values:\n",
      "    \n",
      "        ``False``\n",
      "          Nothing is done.\n",
      "    \n",
      "        ``'ascending'`` or ``True``\n",
      "          The child with the minimum distance between its direct descendents is\n",
      "          plotted first.\n",
      "    \n",
      "        ``'descending'``\n",
      "          The child with the maximum distance between its direct descendents is\n",
      "          plotted first.\n",
      "    \n",
      "        Note ``distance_sort`` and ``count_sort`` cannot both be True.\n",
      "    show_leaf_counts : bool, optional\n",
      "         When True, leaf nodes representing :math:`k>1` original\n",
      "         observation are labeled with the number of observations they\n",
      "         contain in parentheses.\n",
      "    no_plot : bool, optional\n",
      "        When True, the final rendering is not performed. This is\n",
      "        useful if only the data structures computed for the rendering\n",
      "        are needed or if matplotlib is not available.\n",
      "    no_labels : bool, optional\n",
      "        When True, no labels appear next to the leaf nodes in the\n",
      "        rendering of the dendrogram.\n",
      "    leaf_rotation : double, optional\n",
      "        Specifies the angle (in degrees) to rotate the leaf\n",
      "        labels. When unspecified, the rotation is based on the number of\n",
      "        nodes in the dendrogram (default is 0).\n",
      "    leaf_font_size : int, optional\n",
      "        Specifies the font size (in points) of the leaf labels. When\n",
      "        unspecified, the size based on the number of nodes in the\n",
      "        dendrogram.\n",
      "    leaf_label_func : lambda or function, optional\n",
      "        When leaf_label_func is a callable function, for each\n",
      "        leaf with cluster index :math:`k < 2n-1`. The function\n",
      "        is expected to return a string with the label for the\n",
      "        leaf.\n",
      "    \n",
      "        Indices :math:`k < n` correspond to original observations\n",
      "        while indices :math:`k \\geq n` correspond to non-singleton\n",
      "        clusters.\n",
      "    \n",
      "        For example, to label singletons with their node id and\n",
      "        non-singletons with their id, count, and inconsistency\n",
      "        coefficient, simply do::\n",
      "    \n",
      "            # First define the leaf label function.\n",
      "            def llf(id):\n",
      "                if id < n:\n",
      "                    return str(id)\n",
      "                else:\n",
      "                    return '[%d %d %1.2f]' % (id, count, R[n-id,3])\n",
      "            # The text for the leaf nodes is going to be big so force\n",
      "            # a rotation of 90 degrees.\n",
      "            dendrogram(Z, leaf_label_func=llf, leaf_rotation=90)\n",
      "    \n",
      "    show_contracted : bool, optional\n",
      "        When True the heights of non-singleton nodes contracted\n",
      "        into a leaf node are plotted as crosses along the link\n",
      "        connecting that leaf node.  This really is only useful when\n",
      "        truncation is used (see ``truncate_mode`` parameter).\n",
      "    link_color_func : callable, optional\n",
      "        If given, `link_color_function` is called with each non-singleton id\n",
      "        corresponding to each U-shaped link it will paint. The function is\n",
      "        expected to return the color to paint the link, encoded as a matplotlib\n",
      "        color string code. For example::\n",
      "    \n",
      "            dendrogram(Z, link_color_func=lambda k: colors[k])\n",
      "    \n",
      "        colors the direct links below each untruncated non-singleton node\n",
      "        ``k`` using ``colors[k]``.\n",
      "    ax : matplotlib Axes instance, optional\n",
      "        If None and `no_plot` is not True, the dendrogram will be plotted\n",
      "        on the current axes.  Otherwise if `no_plot` is not True the\n",
      "        dendrogram will be plotted on the given ``Axes`` instance. This can be\n",
      "        useful if the dendrogram is part of a more complex figure.\n",
      "    above_threshold_color : str, optional\n",
      "        This matplotlib color string sets the color of the links above the\n",
      "        color_threshold. The default is 'b'.\n",
      "    \n",
      "    Returns\n",
      "    -------\n",
      "    R : dict\n",
      "        A dictionary of data structures computed to render the\n",
      "        dendrogram. Its has the following keys:\n",
      "    \n",
      "        ``'color_list'``\n",
      "          A list of color names. The k'th element represents the color of the\n",
      "          k'th link.\n",
      "    \n",
      "        ``'icoord'`` and ``'dcoord'``\n",
      "          Each of them is a list of lists. Let ``icoord = [I1, I2, ..., Ip]``\n",
      "          where ``Ik = [xk1, xk2, xk3, xk4]`` and ``dcoord = [D1, D2, ..., Dp]``\n",
      "          where ``Dk = [yk1, yk2, yk3, yk4]``, then the k'th link painted is\n",
      "          ``(xk1, yk1)`` - ``(xk2, yk2)`` - ``(xk3, yk3)`` - ``(xk4, yk4)``.\n",
      "    \n",
      "        ``'ivl'``\n",
      "          A list of labels corresponding to the leaf nodes.\n",
      "    \n",
      "        ``'leaves'``\n",
      "          For each i, ``H[i] == j``, cluster node ``j`` appears in position\n",
      "          ``i`` in the left-to-right traversal of the leaves, where\n",
      "          :math:`j < 2n-1` and :math:`i < n`. If ``j`` is less than ``n``, the\n",
      "          ``i``-th leaf node corresponds to an original observation.\n",
      "          Otherwise, it corresponds to a non-singleton cluster.\n",
      "    \n",
      "    See Also\n",
      "    --------\n",
      "    linkage, set_link_color_palette\n",
      "    \n",
      "    Notes\n",
      "    -----\n",
      "    It is expected that the distances in ``Z[:,2]`` be monotonic, otherwise\n",
      "    crossings appear in the dendrogram.\n",
      "    \n",
      "    Examples\n",
      "    --------\n",
      "    >>> from scipy.cluster import hierarchy\n",
      "    >>> import matplotlib.pyplot as plt\n",
      "    \n",
      "    A very basic example:\n",
      "    \n",
      "    >>> ytdist = np.array([662., 877., 255., 412., 996., 295., 468., 268.,\n",
      "    ...                    400., 754., 564., 138., 219., 869., 669.])\n",
      "    >>> Z = hierarchy.linkage(ytdist, 'single')\n",
      "    >>> plt.figure()\n",
      "    >>> dn = hierarchy.dendrogram(Z)\n",
      "    \n",
      "    Now plot in given axes, improve the color scheme and use both vertical and\n",
      "    horizontal orientations:\n",
      "    \n",
      "    >>> hierarchy.set_link_color_palette(['m', 'c', 'y', 'k'])\n",
      "    >>> fig, axes = plt.subplots(1, 2, figsize=(8, 3))\n",
      "    >>> dn1 = hierarchy.dendrogram(Z, ax=axes[0], above_threshold_color='y',\n",
      "    ...                            orientation='top')\n",
      "    >>> dn2 = hierarchy.dendrogram(Z, ax=axes[1],\n",
      "    ...                            above_threshold_color='#bcbddc',\n",
      "    ...                            orientation='right')\n",
      "    >>> hierarchy.set_link_color_palette(None)  # reset to default after use\n",
      "    >>> plt.show()\n",
      "\n"
     ]
    }
   ],
   "source": [
    "help(dendrogram)"
   ]
  },
  {
   "cell_type": "code",
   "execution_count": 77,
   "metadata": {},
   "outputs": [
    {
     "data": {
      "text/plain": [
       "[[2], [8], [0], [4], [1], [9], [9], [0]]"
      ]
     },
     "execution_count": 77,
     "metadata": {},
     "output_type": "execute_result"
    }
   ],
   "source": [
    "\n",
    "X = [[i] for i in [2, 8, 0, 4, 1, 9, 9, 0]]\n",
    "X"
   ]
  },
  {
   "cell_type": "code",
   "execution_count": 82,
   "metadata": {},
   "outputs": [],
   "source": [
    "linkage_matrix = linkage(X, method = 'ward')"
   ]
  },
  {
   "cell_type": "code",
   "execution_count": 85,
   "metadata": {},
   "outputs": [
    {
     "data": {
      "text/plain": [
       "{'icoord': [[15.0, 15.0, 25.0, 25.0],\n",
       "  [5.0, 5.0, 20.0, 20.0],\n",
       "  [45.0, 45.0, 55.0, 55.0],\n",
       "  [65.0, 65.0, 75.0, 75.0],\n",
       "  [50.0, 50.0, 70.0, 70.0],\n",
       "  [35.0, 35.0, 60.0, 60.0],\n",
       "  [12.5, 12.5, 47.5, 47.5]],\n",
       " 'dcoord': [[0.0, 0.0, 0.0, 0.0],\n",
       "  [0.0, 1.1547005383792515, 1.1547005383792515, 0.0],\n",
       "  [0.0, 0.0, 0.0, 0.0],\n",
       "  [0.0, 1.0, 1.0, 0.0],\n",
       "  [0.0, 2.1213203435596424, 2.1213203435596424, 1.0],\n",
       "  [0.0, 4.110960958218893, 4.110960958218893, 2.1213203435596424],\n",
       "  [1.1547005383792515,\n",
       "   14.071839491220281,\n",
       "   14.071839491220281,\n",
       "   4.110960958218893]],\n",
       " 'ivl': ['1', '5', '6', '3', '2', '7', '0', '4'],\n",
       " 'leaves': [1, 5, 6, 3, 2, 7, 0, 4],\n",
       " 'color_list': ['g', 'g', 'r', 'r', 'r', 'r', 'b']}"
      ]
     },
     "execution_count": 85,
     "metadata": {},
     "output_type": "execute_result"
    },
    {
     "data": {
      "image/png": "[encoded data removed]",
      "text/plain": [
       "<Figure size 432x288 with 1 Axes>"
      ]
     },
     "metadata": {
      "needs_background": "light"
     },
     "output_type": "display_data"
    }
   ],
   "source": [
    "dendrogram(linkage_matrix)"
   ]
  },
  {
   "cell_type": "code",
   "execution_count": null,
   "metadata": {},
   "outputs": [],
   "source": []
  }
 ],
 "metadata": {
  "kernelspec": {
   "display_name": "Python 3",
   "language": "python",
   "name": "python3"
  },
  "language_info": {
   "codemirror_mode": {
    "name": "ipython",
    "version": 3
   },
   "file_extension": ".py",
   "mimetype": "text/x-python",
   "name": "python",
   "nbconvert_exporter": "python",
   "pygments_lexer": "ipython3",
   "version": "3.7.3"
  }
 },
 "nbformat": 4,
 "nbformat_minor": 2
}
