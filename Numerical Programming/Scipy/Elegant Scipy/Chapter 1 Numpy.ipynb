{
 "cells": [
  {
   "cell_type": "code",
   "execution_count": 39,
   "metadata": {},
   "outputs": [],
   "source": [
    "import numpy as np\n",
    "import pandas as pd\n",
    "import scipy\n",
    "import os\n",
    "import seaborn as sns;\n",
    "sns.set_style('ticks')"
   ]
  },
  {
   "cell_type": "markdown",
   "metadata": {},
   "source": [
    "# Gene Expression Dataset"
   ]
  },
  {
   "cell_type": "code",
   "execution_count": 17,
   "metadata": {},
   "outputs": [
    {
     "data": {
      "text/html": [
       "<div>\n",
       "<style scoped>\n",
       "    .dataframe tbody tr th:only-of-type {\n",
       "        vertical-align: middle;\n",
       "    }\n",
       "\n",
       "    .dataframe tbody tr th {\n",
       "        vertical-align: top;\n",
       "    }\n",
       "\n",
       "    .dataframe thead th {\n",
       "        text-align: right;\n",
       "    }\n",
       "</style>\n",
       "<table border=\"1\" class=\"dataframe\">\n",
       "  <thead>\n",
       "    <tr style=\"text-align: right;\">\n",
       "      <th></th>\n",
       "      <th>00624286-41dd-476f-a63b-d2a5f484bb45</th>\n",
       "      <th>TCGA-FS-A1Z0</th>\n",
       "      <th>TCGA-D9-A3Z1</th>\n",
       "      <th>02c76d24-f1d2-4029-95b4-8be3bda8fdbe</th>\n",
       "      <th>TCGA-EB-A51B</th>\n",
       "      <th>TCGA-D3-A1Q3</th>\n",
       "      <th>TCGA-FR-A44A</th>\n",
       "      <th>TCGA-EE-A17Z</th>\n",
       "      <th>TCGA-D3-A51G</th>\n",
       "      <th>TCGA-D3-A51E</th>\n",
       "      <th>...</th>\n",
       "      <th>TCGA-D9-A149</th>\n",
       "      <th>TCGA-EE-A3AG</th>\n",
       "      <th>TCGA-D9-A4Z2</th>\n",
       "      <th>TCGA-EB-A4OZ</th>\n",
       "      <th>TCGA-EE-A3J4</th>\n",
       "      <th>TCGA-FS-A1ZM</th>\n",
       "      <th>TCGA-D3-A5GS</th>\n",
       "      <th>TCGA-EB-A3XF</th>\n",
       "      <th>TCGA-EE-A2GE</th>\n",
       "      <th>ff7431a9-243a-4651-80bb-096379925bbe</th>\n",
       "    </tr>\n",
       "  </thead>\n",
       "  <tbody>\n",
       "    <tr>\n",
       "      <th>A1BG</th>\n",
       "      <td>1272.36</td>\n",
       "      <td>452.96</td>\n",
       "      <td>288.06</td>\n",
       "      <td>400.11</td>\n",
       "      <td>420.46</td>\n",
       "      <td>877.59</td>\n",
       "      <td>402.77</td>\n",
       "      <td>559.20</td>\n",
       "      <td>269.59</td>\n",
       "      <td>586.66</td>\n",
       "      <td>...</td>\n",
       "      <td>631.78</td>\n",
       "      <td>560.60</td>\n",
       "      <td>846.55</td>\n",
       "      <td>678.00</td>\n",
       "      <td>32.88</td>\n",
       "      <td>997.41</td>\n",
       "      <td>256.93</td>\n",
       "      <td>461.60</td>\n",
       "      <td>634.06</td>\n",
       "      <td>530.36</td>\n",
       "    </tr>\n",
       "    <tr>\n",
       "      <th>A1CF</th>\n",
       "      <td>0.00</td>\n",
       "      <td>0.00</td>\n",
       "      <td>0.00</td>\n",
       "      <td>1.00</td>\n",
       "      <td>0.00</td>\n",
       "      <td>0.00</td>\n",
       "      <td>0.00</td>\n",
       "      <td>0.00</td>\n",
       "      <td>0.00</td>\n",
       "      <td>0.00</td>\n",
       "      <td>...</td>\n",
       "      <td>0.00</td>\n",
       "      <td>4.00</td>\n",
       "      <td>3.00</td>\n",
       "      <td>0.00</td>\n",
       "      <td>0.00</td>\n",
       "      <td>0.00</td>\n",
       "      <td>0.00</td>\n",
       "      <td>0.00</td>\n",
       "      <td>1.00</td>\n",
       "      <td>0.00</td>\n",
       "    </tr>\n",
       "    <tr>\n",
       "      <th>A2BP1</th>\n",
       "      <td>0.00</td>\n",
       "      <td>0.00</td>\n",
       "      <td>0.00</td>\n",
       "      <td>0.00</td>\n",
       "      <td>1.00</td>\n",
       "      <td>0.00</td>\n",
       "      <td>0.00</td>\n",
       "      <td>0.00</td>\n",
       "      <td>0.00</td>\n",
       "      <td>0.00</td>\n",
       "      <td>...</td>\n",
       "      <td>0.00</td>\n",
       "      <td>1.00</td>\n",
       "      <td>0.00</td>\n",
       "      <td>0.00</td>\n",
       "      <td>0.00</td>\n",
       "      <td>0.00</td>\n",
       "      <td>0.00</td>\n",
       "      <td>0.00</td>\n",
       "      <td>2.00</td>\n",
       "      <td>1.00</td>\n",
       "    </tr>\n",
       "    <tr>\n",
       "      <th>A2LD1</th>\n",
       "      <td>164.38</td>\n",
       "      <td>552.43</td>\n",
       "      <td>201.83</td>\n",
       "      <td>165.12</td>\n",
       "      <td>95.75</td>\n",
       "      <td>636.63</td>\n",
       "      <td>241.56</td>\n",
       "      <td>30.82</td>\n",
       "      <td>105.44</td>\n",
       "      <td>239.19</td>\n",
       "      <td>...</td>\n",
       "      <td>218.47</td>\n",
       "      <td>274.45</td>\n",
       "      <td>770.04</td>\n",
       "      <td>71.74</td>\n",
       "      <td>17.00</td>\n",
       "      <td>194.26</td>\n",
       "      <td>156.81</td>\n",
       "      <td>84.35</td>\n",
       "      <td>242.01</td>\n",
       "      <td>377.03</td>\n",
       "    </tr>\n",
       "    <tr>\n",
       "      <th>A2ML1</th>\n",
       "      <td>27.00</td>\n",
       "      <td>0.00</td>\n",
       "      <td>0.00</td>\n",
       "      <td>0.00</td>\n",
       "      <td>8.00</td>\n",
       "      <td>0.00</td>\n",
       "      <td>1.00</td>\n",
       "      <td>763.00</td>\n",
       "      <td>0.00</td>\n",
       "      <td>0.00</td>\n",
       "      <td>...</td>\n",
       "      <td>3.00</td>\n",
       "      <td>6.00</td>\n",
       "      <td>0.00</td>\n",
       "      <td>1043.00</td>\n",
       "      <td>1.00</td>\n",
       "      <td>852.00</td>\n",
       "      <td>4.00</td>\n",
       "      <td>587.00</td>\n",
       "      <td>0.00</td>\n",
       "      <td>2.00</td>\n",
       "    </tr>\n",
       "  </tbody>\n",
       "</table>\n",
       "<p>5 rows × 375 columns</p>\n",
       "</div>"
      ],
      "text/plain": [
       "       00624286-41dd-476f-a63b-d2a5f484bb45  TCGA-FS-A1Z0  TCGA-D9-A3Z1  \\\n",
       "A1BG                                1272.36        452.96        288.06   \n",
       "A1CF                                   0.00          0.00          0.00   \n",
       "A2BP1                                  0.00          0.00          0.00   \n",
       "A2LD1                                164.38        552.43        201.83   \n",
       "A2ML1                                 27.00          0.00          0.00   \n",
       "\n",
       "       02c76d24-f1d2-4029-95b4-8be3bda8fdbe  TCGA-EB-A51B  TCGA-D3-A1Q3  \\\n",
       "A1BG                                 400.11        420.46        877.59   \n",
       "A1CF                                   1.00          0.00          0.00   \n",
       "A2BP1                                  0.00          1.00          0.00   \n",
       "A2LD1                                165.12         95.75        636.63   \n",
       "A2ML1                                  0.00          8.00          0.00   \n",
       "\n",
       "       TCGA-FR-A44A  TCGA-EE-A17Z  TCGA-D3-A51G  TCGA-D3-A51E  ...  \\\n",
       "A1BG         402.77        559.20        269.59        586.66  ...   \n",
       "A1CF           0.00          0.00          0.00          0.00  ...   \n",
       "A2BP1          0.00          0.00          0.00          0.00  ...   \n",
       "A2LD1        241.56         30.82        105.44        239.19  ...   \n",
       "A2ML1          1.00        763.00          0.00          0.00  ...   \n",
       "\n",
       "       TCGA-D9-A149  TCGA-EE-A3AG  TCGA-D9-A4Z2  TCGA-EB-A4OZ  TCGA-EE-A3J4  \\\n",
       "A1BG         631.78        560.60        846.55        678.00         32.88   \n",
       "A1CF           0.00          4.00          3.00          0.00          0.00   \n",
       "A2BP1          0.00          1.00          0.00          0.00          0.00   \n",
       "A2LD1        218.47        274.45        770.04         71.74         17.00   \n",
       "A2ML1          3.00          6.00          0.00       1043.00          1.00   \n",
       "\n",
       "       TCGA-FS-A1ZM  TCGA-D3-A5GS  TCGA-EB-A3XF  TCGA-EE-A2GE  \\\n",
       "A1BG         997.41        256.93        461.60        634.06   \n",
       "A1CF           0.00          0.00          0.00          1.00   \n",
       "A2BP1          0.00          0.00          0.00          2.00   \n",
       "A2LD1        194.26        156.81         84.35        242.01   \n",
       "A2ML1        852.00          4.00        587.00          0.00   \n",
       "\n",
       "       ff7431a9-243a-4651-80bb-096379925bbe  \n",
       "A1BG                                 530.36  \n",
       "A1CF                                   0.00  \n",
       "A2BP1                                  1.00  \n",
       "A2LD1                                377.03  \n",
       "A2ML1                                  2.00  \n",
       "\n",
       "[5 rows x 375 columns]"
      ]
     },
     "execution_count": 17,
     "metadata": {},
     "output_type": "execute_result"
    }
   ],
   "source": [
    "data_table = pd.read_csv('./data/counts.txt', index_col = 0)\n",
    "data_table.head(5)"
   ]
  },
  {
   "cell_type": "markdown",
   "metadata": {},
   "source": [
    "The first column gives the name of each gene, and the remaining columns\n",
    "represent individual samples.\n"
   ]
  },
  {
   "cell_type": "code",
   "execution_count": 19,
   "metadata": {},
   "outputs": [
    {
     "data": {
      "text/plain": [
       "Index(['00624286-41dd-476f-a63b-d2a5f484bb45', 'TCGA-FS-A1Z0', 'TCGA-D9-A3Z1',\n",
       "       '02c76d24-f1d2-4029-95b4-8be3bda8fdbe', 'TCGA-EB-A51B', 'TCGA-D3-A1Q3',\n",
       "       'TCGA-FR-A44A', 'TCGA-EE-A17Z', 'TCGA-D3-A51G', 'TCGA-D3-A51E',\n",
       "       ...\n",
       "       'TCGA-D9-A149', 'TCGA-EE-A3AG', 'TCGA-D9-A4Z2', 'TCGA-EB-A4OZ',\n",
       "       'TCGA-EE-A3J4', 'TCGA-FS-A1ZM', 'TCGA-D3-A5GS', 'TCGA-EB-A3XF',\n",
       "       'TCGA-EE-A2GE', 'ff7431a9-243a-4651-80bb-096379925bbe'],\n",
       "      dtype='object', length=375)"
      ]
     },
     "execution_count": 19,
     "metadata": {},
     "output_type": "execute_result"
    }
   ],
   "source": [
    "#sample names\n",
    "data_table.columns"
   ]
  },
  {
   "cell_type": "markdown",
   "metadata": {},
   "source": [
    "We will need some information about the lengths of the genes for our normalization.\n",
    "So that we can take advantage of some fancy pandas indexing, we’re going to set the\n",
    "index of the pandas table to be the gene names in the first column."
   ]
  },
  {
   "cell_type": "code",
   "execution_count": 18,
   "metadata": {},
   "outputs": [
    {
     "data": {
      "text/html": [
       "<div>\n",
       "<style scoped>\n",
       "    .dataframe tbody tr th:only-of-type {\n",
       "        vertical-align: middle;\n",
       "    }\n",
       "\n",
       "    .dataframe tbody tr th {\n",
       "        vertical-align: top;\n",
       "    }\n",
       "\n",
       "    .dataframe thead th {\n",
       "        text-align: right;\n",
       "    }\n",
       "</style>\n",
       "<table border=\"1\" class=\"dataframe\">\n",
       "  <thead>\n",
       "    <tr style=\"text-align: right;\">\n",
       "      <th></th>\n",
       "      <th>GeneID</th>\n",
       "      <th>GeneLength</th>\n",
       "    </tr>\n",
       "    <tr>\n",
       "      <th>GeneSymbol</th>\n",
       "      <th></th>\n",
       "      <th></th>\n",
       "    </tr>\n",
       "  </thead>\n",
       "  <tbody>\n",
       "    <tr>\n",
       "      <th>CPA1</th>\n",
       "      <td>1357</td>\n",
       "      <td>1724</td>\n",
       "    </tr>\n",
       "    <tr>\n",
       "      <th>GUCY2D</th>\n",
       "      <td>3000</td>\n",
       "      <td>3623</td>\n",
       "    </tr>\n",
       "    <tr>\n",
       "      <th>UBC</th>\n",
       "      <td>7316</td>\n",
       "      <td>2687</td>\n",
       "    </tr>\n",
       "    <tr>\n",
       "      <th>C11orf95</th>\n",
       "      <td>65998</td>\n",
       "      <td>5581</td>\n",
       "    </tr>\n",
       "    <tr>\n",
       "      <th>ANKMY2</th>\n",
       "      <td>57037</td>\n",
       "      <td>2611</td>\n",
       "    </tr>\n",
       "  </tbody>\n",
       "</table>\n",
       "</div>"
      ],
      "text/plain": [
       "            GeneID  GeneLength\n",
       "GeneSymbol                    \n",
       "CPA1          1357        1724\n",
       "GUCY2D        3000        3623\n",
       "UBC           7316        2687\n",
       "C11orf95     65998        5581\n",
       "ANKMY2       57037        2611"
      ]
     },
     "execution_count": 18,
     "metadata": {},
     "output_type": "execute_result"
    }
   ],
   "source": [
    "gene_info = pd.read_csv('./data/genes.csv', index_col = 0)\n",
    "gene_info.head()"
   ]
  },
  {
   "cell_type": "markdown",
   "metadata": {},
   "source": [
    "Let’s check how well our gene length data matches up with our count data."
   ]
  },
  {
   "cell_type": "code",
   "execution_count": 31,
   "metadata": {},
   "outputs": [
    {
     "data": {
      "text/plain": [
       "'Genes in gene_info: 20503'"
      ]
     },
     "execution_count": 31,
     "metadata": {},
     "output_type": "execute_result"
    }
   ],
   "source": [
    "f'Genes in gene_info: {gene_info.shape[0]}'"
   ]
  },
  {
   "cell_type": "code",
   "execution_count": 33,
   "metadata": {},
   "outputs": [
    {
     "data": {
      "text/plain": [
       "'Genes in data_table: 20500'"
      ]
     },
     "execution_count": 33,
     "metadata": {},
     "output_type": "execute_result"
    }
   ],
   "source": [
    "f'Genes in data_table: {data_table.shape[0]}'"
   ]
  },
  {
   "cell_type": "markdown",
   "metadata": {},
   "source": [
    "There are more genes in our gene length data than were actually measured in the\n",
    "experiment. \n",
    "\n",
    "Let’s filter so we only get the relevant genes, and we want to make sure\n",
    "they are in the same order as in our count data. "
   ]
  },
  {
   "cell_type": "code",
   "execution_count": 35,
   "metadata": {},
   "outputs": [
    {
     "data": {
      "text/plain": [
       "Index(['A1BG', 'A1CF', 'A2BP1', 'A2LD1', 'A2ML1', 'A2M', 'A4GALT', 'A4GNT',\n",
       "       'AAA1', 'AAAS',\n",
       "       ...\n",
       "       'ZXDA', 'ZXDB', 'ZXDC', 'ZYG11A', 'ZYG11B', 'ZYX', 'ZZEF1', 'ZZZ3',\n",
       "       'psiTPTE22', 'tAKR'],\n",
       "      dtype='object', length=20500)"
      ]
     },
     "execution_count": 35,
     "metadata": {},
     "output_type": "execute_result"
    }
   ],
   "source": [
    "#subset gene info to match the count data\n",
    "match_index = data_table.index & gene_info.index\n",
    "match_index"
   ]
  },
  {
   "cell_type": "code",
   "execution_count": 55,
   "metadata": {},
   "outputs": [
    {
     "data": {
      "image/png": "[encoded data removed]",
      "text/plain": [
       "<Figure size 432x288 with 1 Axes>"
      ]
     },
     "metadata": {
      "needs_background": "light"
     },
     "output_type": "display_data"
    }
   ],
   "source": [
    "sns.distplot(data_table.sum(0), axlabel = 'Total count per indivisual', norm_hist = True)\n",
    "sns.despine()"
   ]
  }
 ],
 "metadata": {
  "kernelspec": {
   "display_name": "Python 3",
   "language": "python",
   "name": "python3"
  },
  "language_info": {
   "codemirror_mode": {
    "name": "ipython",
    "version": 3
   },
   "file_extension": ".py",
   "mimetype": "text/x-python",
   "name": "python",
   "nbconvert_exporter": "python",
   "pygments_lexer": "ipython3",
   "version": "3.7.3"
  }
 },
 "nbformat": 4,
 "nbformat_minor": 2
}
