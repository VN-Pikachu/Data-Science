{
 "cells": [
  {
   "cell_type": "code",
   "execution_count": 1,
   "metadata": {},
   "outputs": [],
   "source": [
    "from scipy import optimize\n",
    "from scipy.optimize import minimize"
   ]
  },
  {
   "cell_type": "code",
   "execution_count": 2,
   "metadata": {},
   "outputs": [],
   "source": [
    "import numpy as np"
   ]
  },
  {
   "cell_type": "code",
   "execution_count": 10,
   "metadata": {},
   "outputs": [],
   "source": [
    "import matplotlib.pyplot as plt"
   ]
  },
  {
   "cell_type": "markdown",
   "metadata": {},
   "source": [
    "<a href = 'https://www.youtube.com/watch?v=cXHvC_FGx24' style='font-size:30px'>Youtube video reference</a>"
   ]
  },
  {
   "cell_type": "code",
   "execution_count": 24,
   "metadata": {},
   "outputs": [
    {
     "name": "stdout",
     "output_type": "stream",
     "text": [
      "Help on function minimize in module scipy.optimize._minimize:\n",
      "\n",
      "minimize(fun, x0, args=(), method=None, jac=None, hess=None, hessp=None, bounds=None, constraints=(), tol=None, callback=None, options=None)\n",
      "    Minimization of scalar function of one or more variables.\n",
      "    \n",
      "    Parameters\n",
      "    ----------\n",
      "    fun : callable\n",
      "        The objective function to be minimized.\n",
      "    \n",
      "            ``fun(x, *args) -> float``\n",
      "    \n",
      "        where x is an 1-D array with shape (n,) and `args`\n",
      "        is a tuple of the fixed parameters needed to completely\n",
      "        specify the function.\n",
      "    x0 : ndarray, shape (n,)\n",
      "        Initial guess. Array of real elements of size (n,),\n",
      "        where 'n' is the number of independent variables.\n",
      "    args : tuple, optional\n",
      "        Extra arguments passed to the objective function and its\n",
      "        derivatives (`fun`, `jac` and `hess` functions).\n",
      "    method : str or callable, optional\n",
      "        Type of solver.  Should be one of\n",
      "    \n",
      "            - 'Nelder-Mead' :ref:`(see here) <optimize.minimize-neldermead>`\n",
      "            - 'Powell'      :ref:`(see here) <optimize.minimize-powell>`\n",
      "            - 'CG'          :ref:`(see here) <optimize.minimize-cg>`\n",
      "            - 'BFGS'        :ref:`(see here) <optimize.minimize-bfgs>`\n",
      "            - 'Newton-CG'   :ref:`(see here) <optimize.minimize-newtoncg>`\n",
      "            - 'L-BFGS-B'    :ref:`(see here) <optimize.minimize-lbfgsb>`\n",
      "            - 'TNC'         :ref:`(see here) <optimize.minimize-tnc>`\n",
      "            - 'COBYLA'      :ref:`(see here) <optimize.minimize-cobyla>`\n",
      "            - 'SLSQP'       :ref:`(see here) <optimize.minimize-slsqp>`\n",
      "            - 'trust-constr':ref:`(see here) <optimize.minimize-trustconstr>`\n",
      "            - 'dogleg'      :ref:`(see here) <optimize.minimize-dogleg>`\n",
      "            - 'trust-ncg'   :ref:`(see here) <optimize.minimize-trustncg>`\n",
      "            - 'trust-exact' :ref:`(see here) <optimize.minimize-trustexact>`\n",
      "            - 'trust-krylov' :ref:`(see here) <optimize.minimize-trustkrylov>`\n",
      "            - custom - a callable object (added in version 0.14.0),\n",
      "              see below for description.\n",
      "    \n",
      "        If not given, chosen to be one of ``BFGS``, ``L-BFGS-B``, ``SLSQP``,\n",
      "        depending if the problem has constraints or bounds.\n",
      "    jac : {callable,  '2-point', '3-point', 'cs', bool}, optional\n",
      "        Method for computing the gradient vector. Only for CG, BFGS,\n",
      "        Newton-CG, L-BFGS-B, TNC, SLSQP, dogleg, trust-ncg, trust-krylov,\n",
      "        trust-exact and trust-constr. If it is a callable, it should be a\n",
      "        function that returns the gradient vector:\n",
      "    \n",
      "            ``jac(x, *args) -> array_like, shape (n,)``\n",
      "    \n",
      "        where x is an array with shape (n,) and `args` is a tuple with\n",
      "        the fixed parameters. Alternatively, the keywords\n",
      "        {'2-point', '3-point', 'cs'} select a finite\n",
      "        difference scheme for numerical estimation of the gradient. Options\n",
      "        '3-point' and 'cs' are available only to 'trust-constr'.\n",
      "        If `jac` is a Boolean and is True, `fun` is assumed to return the\n",
      "        gradient along with the objective function. If False, the gradient\n",
      "        will be estimated using '2-point' finite difference estimation.\n",
      "    hess : {callable, '2-point', '3-point', 'cs', HessianUpdateStrategy},  optional\n",
      "        Method for computing the Hessian matrix. Only for Newton-CG, dogleg,\n",
      "        trust-ncg,  trust-krylov, trust-exact and trust-constr. If it is\n",
      "        callable, it should return the  Hessian matrix:\n",
      "    \n",
      "            ``hess(x, *args) -> {LinearOperator, spmatrix, array}, (n, n)``\n",
      "    \n",
      "        where x is a (n,) ndarray and `args` is a tuple with the fixed\n",
      "        parameters. LinearOperator and sparse matrix returns are\n",
      "        allowed only for 'trust-constr' method. Alternatively, the keywords\n",
      "        {'2-point', '3-point', 'cs'} select a finite difference scheme\n",
      "        for numerical estimation. Or, objects implementing\n",
      "        `HessianUpdateStrategy` interface can be used to approximate\n",
      "        the Hessian. Available quasi-Newton methods implementing\n",
      "        this interface are:\n",
      "    \n",
      "            - `BFGS`;\n",
      "            - `SR1`.\n",
      "    \n",
      "        Whenever the gradient is estimated via finite-differences,\n",
      "        the Hessian cannot be estimated with options\n",
      "        {'2-point', '3-point', 'cs'} and needs to be\n",
      "        estimated using one of the quasi-Newton strategies.\n",
      "        Finite-difference options {'2-point', '3-point', 'cs'} and\n",
      "        `HessianUpdateStrategy` are available only for 'trust-constr' method.\n",
      "    hessp : callable, optional\n",
      "        Hessian of objective function times an arbitrary vector p. Only for\n",
      "        Newton-CG, trust-ncg, trust-krylov, trust-constr.\n",
      "        Only one of `hessp` or `hess` needs to be given.  If `hess` is\n",
      "        provided, then `hessp` will be ignored.  `hessp` must compute the\n",
      "        Hessian times an arbitrary vector:\n",
      "    \n",
      "            ``hessp(x, p, *args) ->  ndarray shape (n,)``\n",
      "    \n",
      "        where x is a (n,) ndarray, p is an arbitrary vector with\n",
      "        dimension (n,) and `args` is a tuple with the fixed\n",
      "        parameters.\n",
      "    bounds : sequence or `Bounds`, optional\n",
      "        Bounds on variables for L-BFGS-B, TNC, SLSQP and\n",
      "        trust-constr methods. There are two ways to specify the bounds:\n",
      "    \n",
      "            1. Instance of `Bounds` class.\n",
      "            2. Sequence of ``(min, max)`` pairs for each element in `x`. None\n",
      "               is used to specify no bound.\n",
      "    \n",
      "    constraints : {Constraint, dict} or List of {Constraint, dict}, optional\n",
      "        Constraints definition (only for COBYLA, SLSQP and trust-constr).\n",
      "        Constraints for 'trust-constr' are defined as a single object or a\n",
      "        list of objects specifying constraints to the optimization problem.\n",
      "        Available constraints are:\n",
      "    \n",
      "            - `LinearConstraint`\n",
      "            - `NonlinearConstraint`\n",
      "    \n",
      "        Constraints for COBYLA, SLSQP are defined as a list of dictionaries.\n",
      "        Each dictionary with fields:\n",
      "    \n",
      "            type : str\n",
      "                Constraint type: 'eq' for equality, 'ineq' for inequality.\n",
      "            fun : callable\n",
      "                The function defining the constraint.\n",
      "            jac : callable, optional\n",
      "                The Jacobian of `fun` (only for SLSQP).\n",
      "            args : sequence, optional\n",
      "                Extra arguments to be passed to the function and Jacobian.\n",
      "    \n",
      "        Equality constraint means that the constraint function result is to\n",
      "        be zero whereas inequality means that it is to be non-negative.\n",
      "        Note that COBYLA only supports inequality constraints.\n",
      "    tol : float, optional\n",
      "        Tolerance for termination. For detailed control, use solver-specific\n",
      "        options.\n",
      "    options : dict, optional\n",
      "        A dictionary of solver options. All methods accept the following\n",
      "        generic options:\n",
      "    \n",
      "            maxiter : int\n",
      "                Maximum number of iterations to perform.\n",
      "            disp : bool\n",
      "                Set to True to print convergence messages.\n",
      "    \n",
      "        For method-specific options, see :func:`show_options()`.\n",
      "    callback : callable, optional\n",
      "        Called after each iteration. For 'trust-constr' it is a callable with\n",
      "        the signature:\n",
      "    \n",
      "            ``callback(xk, OptimizeResult state) -> bool``\n",
      "    \n",
      "        where ``xk`` is the current parameter vector. and ``state``\n",
      "        is an `OptimizeResult` object, with the same fields\n",
      "        as the ones from the return.  If callback returns True\n",
      "        the algorithm execution is terminated.\n",
      "        For all the other methods, the signature is:\n",
      "    \n",
      "            ``callback(xk)``\n",
      "    \n",
      "        where ``xk`` is the current parameter vector.\n",
      "    \n",
      "    Returns\n",
      "    -------\n",
      "    res : OptimizeResult\n",
      "        The optimization result represented as a ``OptimizeResult`` object.\n",
      "        Important attributes are: ``x`` the solution array, ``success`` a\n",
      "        Boolean flag indicating if the optimizer exited successfully and\n",
      "        ``message`` which describes the cause of the termination. See\n",
      "        `OptimizeResult` for a description of other attributes.\n",
      "    \n",
      "    \n",
      "    See also\n",
      "    --------\n",
      "    minimize_scalar : Interface to minimization algorithms for scalar\n",
      "        univariate functions\n",
      "    show_options : Additional options accepted by the solvers\n",
      "    \n",
      "    Notes\n",
      "    -----\n",
      "    This section describes the available solvers that can be selected by the\n",
      "    'method' parameter. The default method is *BFGS*.\n",
      "    \n",
      "    **Unconstrained minimization**\n",
      "    \n",
      "    Method :ref:`Nelder-Mead <optimize.minimize-neldermead>` uses the\n",
      "    Simplex algorithm [1]_, [2]_. This algorithm is robust in many\n",
      "    applications. However, if numerical computation of derivative can be\n",
      "    trusted, other algorithms using the first and/or second derivatives\n",
      "    information might be preferred for their better performance in\n",
      "    general.\n",
      "    \n",
      "    Method :ref:`Powell <optimize.minimize-powell>` is a modification\n",
      "    of Powell's method [3]_, [4]_ which is a conjugate direction\n",
      "    method. It performs sequential one-dimensional minimizations along\n",
      "    each vector of the directions set (`direc` field in `options` and\n",
      "    `info`), which is updated at each iteration of the main\n",
      "    minimization loop. The function need not be differentiable, and no\n",
      "    derivatives are taken.\n",
      "    \n",
      "    Method :ref:`CG <optimize.minimize-cg>` uses a nonlinear conjugate\n",
      "    gradient algorithm by Polak and Ribiere, a variant of the\n",
      "    Fletcher-Reeves method described in [5]_ pp.  120-122. Only the\n",
      "    first derivatives are used.\n",
      "    \n",
      "    Method :ref:`BFGS <optimize.minimize-bfgs>` uses the quasi-Newton\n",
      "    method of Broyden, Fletcher, Goldfarb, and Shanno (BFGS) [5]_\n",
      "    pp. 136. It uses the first derivatives only. BFGS has proven good\n",
      "    performance even for non-smooth optimizations. This method also\n",
      "    returns an approximation of the Hessian inverse, stored as\n",
      "    `hess_inv` in the OptimizeResult object.\n",
      "    \n",
      "    Method :ref:`Newton-CG <optimize.minimize-newtoncg>` uses a\n",
      "    Newton-CG algorithm [5]_ pp. 168 (also known as the truncated\n",
      "    Newton method). It uses a CG method to the compute the search\n",
      "    direction. See also *TNC* method for a box-constrained\n",
      "    minimization with a similar algorithm. Suitable for large-scale\n",
      "    problems.\n",
      "    \n",
      "    Method :ref:`dogleg <optimize.minimize-dogleg>` uses the dog-leg\n",
      "    trust-region algorithm [5]_ for unconstrained minimization. This\n",
      "    algorithm requires the gradient and Hessian; furthermore the\n",
      "    Hessian is required to be positive definite.\n",
      "    \n",
      "    Method :ref:`trust-ncg <optimize.minimize-trustncg>` uses the\n",
      "    Newton conjugate gradient trust-region algorithm [5]_ for\n",
      "    unconstrained minimization. This algorithm requires the gradient\n",
      "    and either the Hessian or a function that computes the product of\n",
      "    the Hessian with a given vector. Suitable for large-scale problems.\n",
      "    \n",
      "    Method :ref:`trust-krylov <optimize.minimize-trustkrylov>` uses\n",
      "    the Newton GLTR trust-region algorithm [14]_, [15]_ for unconstrained\n",
      "    minimization. This algorithm requires the gradient\n",
      "    and either the Hessian or a function that computes the product of\n",
      "    the Hessian with a given vector. Suitable for large-scale problems.\n",
      "    On indefinite problems it requires usually less iterations than the\n",
      "    `trust-ncg` method and is recommended for medium and large-scale problems.\n",
      "    \n",
      "    Method :ref:`trust-exact <optimize.minimize-trustexact>`\n",
      "    is a trust-region method for unconstrained minimization in which\n",
      "    quadratic subproblems are solved almost exactly [13]_. This\n",
      "    algorithm requires the gradient and the Hessian (which is\n",
      "    *not* required to be positive definite). It is, in many\n",
      "    situations, the Newton method to converge in fewer iteraction\n",
      "    and the most recommended for small and medium-size problems.\n",
      "    \n",
      "    **Bound-Constrained minimization**\n",
      "    \n",
      "    Method :ref:`L-BFGS-B <optimize.minimize-lbfgsb>` uses the L-BFGS-B\n",
      "    algorithm [6]_, [7]_ for bound constrained minimization.\n",
      "    \n",
      "    Method :ref:`TNC <optimize.minimize-tnc>` uses a truncated Newton\n",
      "    algorithm [5]_, [8]_ to minimize a function with variables subject\n",
      "    to bounds. This algorithm uses gradient information; it is also\n",
      "    called Newton Conjugate-Gradient. It differs from the *Newton-CG*\n",
      "    method described above as it wraps a C implementation and allows\n",
      "    each variable to be given upper and lower bounds.\n",
      "    \n",
      "    **Constrained Minimization**\n",
      "    \n",
      "    Method :ref:`COBYLA <optimize.minimize-cobyla>` uses the\n",
      "    Constrained Optimization BY Linear Approximation (COBYLA) method\n",
      "    [9]_, [10]_, [11]_. The algorithm is based on linear\n",
      "    approximations to the objective function and each constraint. The\n",
      "    method wraps a FORTRAN implementation of the algorithm. The\n",
      "    constraints functions 'fun' may return either a single number\n",
      "    or an array or list of numbers.\n",
      "    \n",
      "    Method :ref:`SLSQP <optimize.minimize-slsqp>` uses Sequential\n",
      "    Least SQuares Programming to minimize a function of several\n",
      "    variables with any combination of bounds, equality and inequality\n",
      "    constraints. The method wraps the SLSQP Optimization subroutine\n",
      "    originally implemented by Dieter Kraft [12]_. Note that the\n",
      "    wrapper handles infinite values in bounds by converting them into\n",
      "    large floating values.\n",
      "    \n",
      "    Method :ref:`trust-constr <optimize.minimize-trustconstr>` is a\n",
      "    trust-region algorithm for constrained optimization. It swiches\n",
      "    between two implementations depending on the problem definition.\n",
      "    It is the most versatile constrained minimization algorithm\n",
      "    implemented in SciPy and the most appropriate for large-scale problems.\n",
      "    For equality constrained problems it is an implementation of Byrd-Omojokun\n",
      "    Trust-Region SQP method described in [17]_ and in [5]_, p. 549. When\n",
      "    inequality constraints  are imposed as well, it swiches to the trust-region\n",
      "    interior point  method described in [16]_. This interior point algorithm,\n",
      "    in turn, solves inequality constraints by introducing slack variables\n",
      "    and solving a sequence of equality-constrained barrier problems\n",
      "    for progressively smaller values of the barrier parameter.\n",
      "    The previously described equality constrained SQP method is\n",
      "    used to solve the subproblems with increasing levels of accuracy\n",
      "    as the iterate gets closer to a solution.\n",
      "    \n",
      "    **Finite-Difference Options**\n",
      "    \n",
      "    For Method :ref:`trust-constr <optimize.minimize-trustconstr>`\n",
      "    the gradient and the Hessian may be approximated using\n",
      "    three finite-difference schemes: {'2-point', '3-point', 'cs'}.\n",
      "    The scheme 'cs' is, potentially, the most accurate but it\n",
      "    requires the function to correctly handles complex inputs and to\n",
      "    be differentiable in the complex plane. The scheme '3-point' is more\n",
      "    accurate than '2-point' but requires twice as much operations.\n",
      "    \n",
      "    **Custom minimizers**\n",
      "    \n",
      "    It may be useful to pass a custom minimization method, for example\n",
      "    when using a frontend to this method such as `scipy.optimize.basinhopping`\n",
      "    or a different library.  You can simply pass a callable as the ``method``\n",
      "    parameter.\n",
      "    \n",
      "    The callable is called as ``method(fun, x0, args, **kwargs, **options)``\n",
      "    where ``kwargs`` corresponds to any other parameters passed to `minimize`\n",
      "    (such as `callback`, `hess`, etc.), except the `options` dict, which has\n",
      "    its contents also passed as `method` parameters pair by pair.  Also, if\n",
      "    `jac` has been passed as a bool type, `jac` and `fun` are mangled so that\n",
      "    `fun` returns just the function values and `jac` is converted to a function\n",
      "    returning the Jacobian.  The method shall return an ``OptimizeResult``\n",
      "    object.\n",
      "    \n",
      "    The provided `method` callable must be able to accept (and possibly ignore)\n",
      "    arbitrary parameters; the set of parameters accepted by `minimize` may\n",
      "    expand in future versions and then these parameters will be passed to\n",
      "    the method.  You can find an example in the scipy.optimize tutorial.\n",
      "    \n",
      "    .. versionadded:: 0.11.0\n",
      "    \n",
      "    References\n",
      "    ----------\n",
      "    .. [1] Nelder, J A, and R Mead. 1965. A Simplex Method for Function\n",
      "        Minimization. The Computer Journal 7: 308-13.\n",
      "    .. [2] Wright M H. 1996. Direct search methods: Once scorned, now\n",
      "        respectable, in Numerical Analysis 1995: Proceedings of the 1995\n",
      "        Dundee Biennial Conference in Numerical Analysis (Eds. D F\n",
      "        Griffiths and G A Watson). Addison Wesley Longman, Harlow, UK.\n",
      "        191-208.\n",
      "    .. [3] Powell, M J D. 1964. An efficient method for finding the minimum of\n",
      "       a function of several variables without calculating derivatives. The\n",
      "       Computer Journal 7: 155-162.\n",
      "    .. [4] Press W, S A Teukolsky, W T Vetterling and B P Flannery.\n",
      "       Numerical Recipes (any edition), Cambridge University Press.\n",
      "    .. [5] Nocedal, J, and S J Wright. 2006. Numerical Optimization.\n",
      "       Springer New York.\n",
      "    .. [6] Byrd, R H and P Lu and J. Nocedal. 1995. A Limited Memory\n",
      "       Algorithm for Bound Constrained Optimization. SIAM Journal on\n",
      "       Scientific and Statistical Computing 16 (5): 1190-1208.\n",
      "    .. [7] Zhu, C and R H Byrd and J Nocedal. 1997. L-BFGS-B: Algorithm\n",
      "       778: L-BFGS-B, FORTRAN routines for large scale bound constrained\n",
      "       optimization. ACM Transactions on Mathematical Software 23 (4):\n",
      "       550-560.\n",
      "    .. [8] Nash, S G. Newton-Type Minimization Via the Lanczos Method.\n",
      "       1984. SIAM Journal of Numerical Analysis 21: 770-778.\n",
      "    .. [9] Powell, M J D. A direct search optimization method that models\n",
      "       the objective and constraint functions by linear interpolation.\n",
      "       1994. Advances in Optimization and Numerical Analysis, eds. S. Gomez\n",
      "       and J-P Hennart, Kluwer Academic (Dordrecht), 51-67.\n",
      "    .. [10] Powell M J D. Direct search algorithms for optimization\n",
      "       calculations. 1998. Acta Numerica 7: 287-336.\n",
      "    .. [11] Powell M J D. A view of algorithms for optimization without\n",
      "       derivatives. 2007.Cambridge University Technical Report DAMTP\n",
      "       2007/NA03\n",
      "    .. [12] Kraft, D. A software package for sequential quadratic\n",
      "       programming. 1988. Tech. Rep. DFVLR-FB 88-28, DLR German Aerospace\n",
      "       Center -- Institute for Flight Mechanics, Koln, Germany.\n",
      "    .. [13] Conn, A. R., Gould, N. I., and Toint, P. L.\n",
      "       Trust region methods. 2000. Siam. pp. 169-200.\n",
      "    .. [14] F. Lenders, C. Kirches, A. Potschka: \"trlib: A vector-free\n",
      "       implementation of the GLTR method for iterative solution of\n",
      "       the trust region problem\", https://arxiv.org/abs/1611.04718\n",
      "    .. [15] N. Gould, S. Lucidi, M. Roma, P. Toint: \"Solving the\n",
      "       Trust-Region Subproblem using the Lanczos Method\",\n",
      "       SIAM J. Optim., 9(2), 504--525, (1999).\n",
      "    .. [16] Byrd, Richard H., Mary E. Hribar, and Jorge Nocedal. 1999.\n",
      "        An interior point algorithm for large-scale nonlinear  programming.\n",
      "        SIAM Journal on Optimization 9.4: 877-900.\n",
      "    .. [17] Lalee, Marucha, Jorge Nocedal, and Todd Plantega. 1998. On the\n",
      "        implementation of an algorithm for large-scale equality constrained\n",
      "        optimization. SIAM Journal on Optimization 8.3: 682-706.\n",
      "    \n",
      "    Examples\n",
      "    --------\n",
      "    Let us consider the problem of minimizing the Rosenbrock function. This\n",
      "    function (and its respective derivatives) is implemented in `rosen`\n",
      "    (resp. `rosen_der`, `rosen_hess`) in the `scipy.optimize`.\n",
      "    \n",
      "    >>> from scipy.optimize import minimize, rosen, rosen_der\n",
      "    \n",
      "    A simple application of the *Nelder-Mead* method is:\n",
      "    \n",
      "    >>> x0 = [1.3, 0.7, 0.8, 1.9, 1.2]\n",
      "    >>> res = minimize(rosen, x0, method='Nelder-Mead', tol=1e-6)\n",
      "    >>> res.x\n",
      "    array([ 1.,  1.,  1.,  1.,  1.])\n",
      "    \n",
      "    Now using the *BFGS* algorithm, using the first derivative and a few\n",
      "    options:\n",
      "    \n",
      "    >>> res = minimize(rosen, x0, method='BFGS', jac=rosen_der,\n",
      "    ...                options={'gtol': 1e-6, 'disp': True})\n",
      "    Optimization terminated successfully.\n",
      "             Current function value: 0.000000\n",
      "             Iterations: 26\n",
      "             Function evaluations: 31\n",
      "             Gradient evaluations: 31\n",
      "    >>> res.x\n",
      "    array([ 1.,  1.,  1.,  1.,  1.])\n",
      "    >>> print(res.message)\n",
      "    Optimization terminated successfully.\n",
      "    >>> res.hess_inv\n",
      "    array([[ 0.00749589,  0.01255155,  0.02396251,  0.04750988,  0.09495377],  # may vary\n",
      "           [ 0.01255155,  0.02510441,  0.04794055,  0.09502834,  0.18996269],\n",
      "           [ 0.02396251,  0.04794055,  0.09631614,  0.19092151,  0.38165151],\n",
      "           [ 0.04750988,  0.09502834,  0.19092151,  0.38341252,  0.7664427 ],\n",
      "           [ 0.09495377,  0.18996269,  0.38165151,  0.7664427,   1.53713523]])\n",
      "    \n",
      "    \n",
      "    Next, consider a minimization problem with several constraints (namely\n",
      "    Example 16.4 from [5]_). The objective function is:\n",
      "    \n",
      "    >>> fun = lambda x: (x[0] - 1)**2 + (x[1] - 2.5)**2\n",
      "    \n",
      "    There are three constraints defined as:\n",
      "    \n",
      "    >>> cons = ({'type': 'ineq', 'fun': lambda x:  x[0] - 2 * x[1] + 2},\n",
      "    ...         {'type': 'ineq', 'fun': lambda x: -x[0] - 2 * x[1] + 6},\n",
      "    ...         {'type': 'ineq', 'fun': lambda x: -x[0] + 2 * x[1] + 2})\n",
      "    \n",
      "    And variables must be positive, hence the following bounds:\n",
      "    \n",
      "    >>> bnds = ((0, None), (0, None))\n",
      "    \n",
      "    The optimization problem is solved using the SLSQP method as:\n",
      "    \n",
      "    >>> res = minimize(fun, (2, 0), method='SLSQP', bounds=bnds,\n",
      "    ...                constraints=cons)\n",
      "    \n",
      "    It should converge to the theoretical solution (1.4 ,1.7).\n",
      "\n"
     ]
    }
   ],
   "source": [
    "help(minimize)"
   ]
  },
  {
   "cell_type": "markdown",
   "metadata": {},
   "source": [
    "```python\n",
    "minimize(\n",
    "    fun,\n",
    "    x0,\n",
    "    args=(),\n",
    "    method=None,\n",
    "    jac=None,\n",
    "    hess=None,\n",
    "    hessp=None,\n",
    "    bounds=None,\n",
    "    constraints=(),\n",
    "    tol=None,\n",
    "    callback=None,\n",
    "    options=None,\n",
    ")\n",
    "```"
   ]
  },
  {
   "cell_type": "markdown",
   "metadata": {},
   "source": [
    "<p style = 'font-size: 24px'>\n",
    "$$min \\hspace{1cm}x_1x_4(x_1+x_2+x_3)+x_3\\\\ \n",
    "s.t \\hspace{1cm}x_1x_2x_3x_4\\ge25\\\\\n",
    "x_1^2+x_2^2+x_3^2+x_4^2=40\\\\\n",
    "1\\le x_1,x_2,x_3,x_4\\le5\\\\\n",
    "x0 = (1,5,5,1)$$\n",
    "</p>"
   ]
  },
  {
   "cell_type": "markdown",
   "metadata": {},
   "source": [
    "$x_1x_4(x_1+x_2+x_3)+x_3$"
   ]
  },
  {
   "cell_type": "code",
   "execution_count": 10,
   "metadata": {},
   "outputs": [],
   "source": [
    "#objective funtion\n",
    "#why not func(x1, x2, x3, x4) ??? because each different problems has diffrent number of variables\n",
    "#so developers design a list contain all variables\n",
    "def func(variables):\n",
    "    x1, x2, x3, x4 = variables\n",
    "    return x1 * x4 * (x1 + x2 + x3) + x3"
   ]
  },
  {
   "cell_type": "markdown",
   "metadata": {},
   "source": [
    "$x_1x_2x_3x_4 - 25 \\ge 0$"
   ]
  },
  {
   "cell_type": "code",
   "execution_count": 2,
   "metadata": {},
   "outputs": [],
   "source": [
    "#constraint function\n",
    "def constraint_function1(variables):\n",
    "    x1, x2, x3, x4 = variables\n",
    "    return x1 * x2 * x3 * x4 - 25"
   ]
  },
  {
   "cell_type": "code",
   "execution_count": 3,
   "metadata": {},
   "outputs": [
    {
     "data": {
      "text/plain": [
       "{'type': 'ineq', 'fun': <function __main__.constraint_function1(variables)>}"
      ]
     },
     "execution_count": 3,
     "metadata": {},
     "output_type": "execute_result"
    }
   ],
   "source": [
    "#define the type of constaint and function for that constaint\n",
    "constraint1 = dict(type = 'ineq', fun = constraint_function1)\n",
    "constraint1"
   ]
  },
  {
   "cell_type": "markdown",
   "metadata": {},
   "source": [
    "$x_1^2+x_2^2+x_3^2+x_4^2 - 40 = 0$"
   ]
  },
  {
   "cell_type": "code",
   "execution_count": 4,
   "metadata": {},
   "outputs": [],
   "source": [
    "#constraint function\n",
    "def constraint_function2(variables):\n",
    "    x1, x2, x3, x4 = variables\n",
    "    return x1 * x1 + x2 * x2 + x3 * x3 + x4 * x4 - 40"
   ]
  },
  {
   "cell_type": "code",
   "execution_count": 5,
   "metadata": {},
   "outputs": [],
   "source": [
    "#define the type of constaint and function for that constaint\n",
    "constraint2 = dict(type = 'eq', fun = constraint_function2)"
   ]
  },
  {
   "cell_type": "code",
   "execution_count": 6,
   "metadata": {},
   "outputs": [],
   "source": [
    "#put all constraints into a group\n",
    "constraints = [constraint1, constraint2]"
   ]
  },
  {
   "cell_type": "code",
   "execution_count": 7,
   "metadata": {},
   "outputs": [],
   "source": [
    "#bounds for each variable\n",
    "bounds = ((1,5), (1,5), (1,5), (1,5)) #the first bound of x1, second bound of x2, ..."
   ]
  },
  {
   "cell_type": "code",
   "execution_count": 8,
   "metadata": {},
   "outputs": [],
   "source": [
    "#initial guess\n",
    "x0 = (1,5,5,1)"
   ]
  },
  {
   "cell_type": "code",
   "execution_count": 11,
   "metadata": {},
   "outputs": [
    {
     "data": {
      "text/plain": [
       "     fun: 17.01401724556073\n",
       "     jac: array([14.57227039,  1.37940764,  2.37940764,  9.56415081])\n",
       " message: 'Optimization terminated successfully.'\n",
       "    nfev: 30\n",
       "     nit: 5\n",
       "    njev: 5\n",
       "  status: 0\n",
       " success: True\n",
       "       x: array([1.        , 4.74299607, 3.82115466, 1.37940764])"
      ]
     },
     "execution_count": 11,
     "metadata": {},
     "output_type": "execute_result"
    }
   ],
   "source": [
    "#the final solution\n",
    "solution = minimize(func, x0, bounds = bounds, constraints=constraints, method = 'SLSQP')\n",
    "solution"
   ]
  },
  {
   "cell_type": "markdown",
   "metadata": {},
   "source": [
    "<p style = 'font-size:24px'>\n",
    "$$\n",
    "min \\hspace{1cm} x_1^2 + x_1x_2\\\\\n",
    "s.t \\hspace{1cm} x_1^3+x_1x_2=100\\\\\n",
    "x_1^2+x_2 \\ge 50\\\\\n",
    "-100 \\le x_1,x_2 \\le 100\n",
    "$$"
   ]
  },
  {
   "cell_type": "code",
   "execution_count": 25,
   "metadata": {},
   "outputs": [],
   "source": [
    "def objective(var):\n",
    "    x1, x2 = var\n",
    "    return x1 * x1 + x1 * x2"
   ]
  },
  {
   "cell_type": "code",
   "execution_count": 26,
   "metadata": {},
   "outputs": [],
   "source": [
    "def constraint_function1(var):\n",
    "    x1, x2 = var\n",
    "    return x1 * x1 * x1 + x1 * x2 - 100"
   ]
  },
  {
   "cell_type": "code",
   "execution_count": 27,
   "metadata": {},
   "outputs": [],
   "source": [
    "constraint1 = dict(type = 'eq', fun = constraint_function1)"
   ]
  },
  {
   "cell_type": "code",
   "execution_count": 35,
   "metadata": {},
   "outputs": [],
   "source": [
    "def constrain_function2(var):\n",
    "    x1, x2 = var\n",
    "    return x1 * x1 + x2 - 50"
   ]
  },
  {
   "cell_type": "code",
   "execution_count": 36,
   "metadata": {},
   "outputs": [],
   "source": [
    "constraint2 = dict(type = 'eq', fun = constrain_function2)"
   ]
  },
  {
   "cell_type": "code",
   "execution_count": 37,
   "metadata": {},
   "outputs": [],
   "source": [
    "constraints = (constraint1, constraint2)"
   ]
  },
  {
   "cell_type": "code",
   "execution_count": 38,
   "metadata": {},
   "outputs": [],
   "source": [
    "bounds = ((-100, 100), (-100, 100))"
   ]
  },
  {
   "cell_type": "code",
   "execution_count": 39,
   "metadata": {},
   "outputs": [
    {
     "data": {
      "text/plain": [
       "     fun: 96.00000006640228\n",
       "     jac: array([50.,  2.])\n",
       " message: 'Optimization terminated successfully.'\n",
       "    nfev: 26\n",
       "     nit: 6\n",
       "    njev: 6\n",
       "  status: 0\n",
       " success: True\n",
       "       x: array([ 2.        , 45.99999999])"
      ]
     },
     "execution_count": 39,
     "metadata": {},
     "output_type": "execute_result"
    }
   ],
   "source": [
    "minimize(objective, x0 = (1,1), bounds = bounds, constraints = constraints, method = 'SLSQP')"
   ]
  },
  {
   "cell_type": "markdown",
   "metadata": {},
   "source": [
    "# Unconstrainted minimization of multivariate scalar functions"
   ]
  },
  {
   "cell_type": "markdown",
   "metadata": {},
   "source": [
    "Minimize: $$\\hspace{1cm} f(x) = (x-3) ^ 2 + (y - 5) ^ 2$$"
   ]
  },
  {
   "cell_type": "markdown",
   "metadata": {},
   "source": [
    "## Nelder-Mead Simplex Algorithm(`method = nelder-mead`)"
   ]
  },
  {
   "cell_type": "code",
   "execution_count": 4,
   "metadata": {},
   "outputs": [],
   "source": [
    "def func(variables):\n",
    "    x, y = variables\n",
    "    return (x - 3) * (x - 3) + (y - 5) * (y - 5)"
   ]
  },
  {
   "cell_type": "code",
   "execution_count": 5,
   "metadata": {},
   "outputs": [
    {
     "data": {
      "text/plain": [
       " final_simplex: (array([[3.00003488, 5.0000237 ],\n",
       "       [2.99993908, 4.99998174],\n",
       "       [3.00001978, 4.99993554]]), array([1.77838977e-09, 4.04516719e-09, 4.54660746e-09]))\n",
       "           fun: 1.778389772503148e-09\n",
       "       message: 'Optimization terminated successfully.'\n",
       "          nfev: 142\n",
       "           nit: 73\n",
       "        status: 0\n",
       "       success: True\n",
       "             x: array([3.00003488, 5.0000237 ])"
      ]
     },
     "execution_count": 5,
     "metadata": {},
     "output_type": "execute_result"
    }
   ],
   "source": [
    "minimize(func, x0 = (0,0), method = 'nelder-mead')"
   ]
  },
  {
   "cell_type": "markdown",
   "metadata": {},
   "source": [
    "The simplex algorithm is probably the simplest way to minimize a fairly well-behaved function. <br>\n",
    "It requires only function evaluations and is a good choice for simple minimization problems. <br>However, because it does not use any gradient evaluations, it may take longer to find the minimum."
   ]
  },
  {
   "cell_type": "code",
   "execution_count": 6,
   "metadata": {},
   "outputs": [
    {
     "data": {
      "text/plain": [
       "   direc: array([[1., 0.],\n",
       "       [0., 1.]])\n",
       "     fun: 0.0\n",
       " message: 'Optimization terminated successfully.'\n",
       "    nfev: 38\n",
       "     nit: 2\n",
       "  status: 0\n",
       " success: True\n",
       "       x: array([3., 5.])"
      ]
     },
     "execution_count": 6,
     "metadata": {},
     "output_type": "execute_result"
    }
   ],
   "source": [
    "#Another optimization algorithm that needs only function calls to find the minimum is Powell's method\n",
    "minimize(func, x0 = (0,0), method = 'powell')"
   ]
  },
  {
   "cell_type": "markdown",
   "metadata": {},
   "source": [
    "## Broyden-Fletcher-Goldfarb-Shanno algorithm (method='BFGS')¶"
   ]
  },
  {
   "cell_type": "markdown",
   "metadata": {},
   "source": [
    "In order to converge more quickly to the solution, this routine uses the gradient of the objective function.  \n",
    "If the gradient is not given by the user, then it is estimated using first-differences.  \n",
    "The Broyden-Fletcher-Goldfarb-Shanno (BFGS) method typically requires fewer function calls than the simplex algorithm even when the gradient must be estimated."
   ]
  },
  {
   "cell_type": "markdown",
   "metadata": {},
   "source": [
    "$$\\frac{\\partial f}{\\partial x} = 2(x-3)$$"
   ]
  },
  {
   "cell_type": "markdown",
   "metadata": {},
   "source": [
    "$$\\frac{\\partial f}{\\partial y} = 2(y-5)$$"
   ]
  },
  {
   "cell_type": "code",
   "execution_count": 16,
   "metadata": {},
   "outputs": [
    {
     "name": "stdout",
     "output_type": "stream",
     "text": [
      "1.0 2.0\n",
      "1.560247198187481 2.8403707972812215\n",
      "2.9121341234425735 4.86820118516386\n",
      "3.0 5.0\n"
     ]
    },
    {
     "data": {
      "text/plain": [
       "      fun: 0.0\n",
       " hess_inv: array([[ 0.84615385, -0.23076923],\n",
       "       [-0.23076923,  0.65384615]])\n",
       "      jac: array([0., 0.])\n",
       "  message: 'Optimization terminated successfully.'\n",
       "     nfev: 4\n",
       "      nit: 3\n",
       "     njev: 4\n",
       "   status: 0\n",
       "  success: True\n",
       "        x: array([3., 5.])"
      ]
     },
     "execution_count": 16,
     "metadata": {},
     "output_type": "execute_result"
    }
   ],
   "source": [
    "def gradient(variables):\n",
    "    x, y = variables\n",
    "    print(x, y)\n",
    "    #must return a numpy array\n",
    "    return np.array([2 * x - 6, 2 * y - 10])\n",
    "#jac is the jacobian\n",
    "minimize(func, x0 = (1,2), jac = gradient, method = 'BFGS')"
   ]
  },
  {
   "cell_type": "markdown",
   "metadata": {},
   "source": [
    "## Newton-Conjugate-Gradient algorithm (method='Newton-CG')¶"
   ]
  },
  {
   "cell_type": "markdown",
   "metadata": {},
   "source": [
    "Second order optimization using the Hessian Matrix"
   ]
  },
  {
   "cell_type": "markdown",
   "metadata": {},
   "source": [
    "$$H = \\begin{bmatrix}\n",
    "2 & 0\\\\\n",
    "0 & 2\n",
    "\\end{bmatrix}$$"
   ]
  },
  {
   "cell_type": "code",
   "execution_count": 17,
   "metadata": {},
   "outputs": [],
   "source": [
    "def Hessian(variables):\n",
    "    return np.array([[2,0], [0,2]])"
   ]
  },
  {
   "cell_type": "code",
   "execution_count": 24,
   "metadata": {},
   "outputs": [
    {
     "name": "stdout",
     "output_type": "stream",
     "text": [
      "0.0 0.0\n",
      "3.0 5.0\n",
      "3.0 5.0\n",
      "3.0 5.0\n"
     ]
    },
    {
     "data": {
      "text/plain": [
       "     fun: 0.0\n",
       "     jac: array([0., 0.])\n",
       " message: 'Optimization terminated successfully.'\n",
       "    nfev: 3\n",
       "    nhev: 2\n",
       "     nit: 2\n",
       "    njev: 4\n",
       "  status: 0\n",
       " success: True\n",
       "       x: array([3., 5.])"
      ]
     },
     "execution_count": 24,
     "metadata": {},
     "output_type": "execute_result"
    }
   ],
   "source": [
    "\n",
    "minimize(func, x0 = (0,0), jac= gradient, hess = Hessian, method = 'newton-cg')"
   ]
  },
  {
   "cell_type": "markdown",
   "metadata": {},
   "source": [
    "## Trust-Region Newton-Conjugate-Gradient Algorithm (method='trust-ncg')¶"
   ]
  },
  {
   "cell_type": "markdown",
   "metadata": {},
   "source": [
    "<b style = 'color:red'>suitable for large scale problem</b>"
   ]
  },
  {
   "cell_type": "code",
   "execution_count": 25,
   "metadata": {},
   "outputs": [
    {
     "name": "stdout",
     "output_type": "stream",
     "text": [
      "0.0 0.0\n",
      "0.5144957554275265 0.8574929257125441\n",
      "1.5434872662825794 2.5724787771376327\n",
      "3.0 5.0\n"
     ]
    },
    {
     "data": {
      "text/plain": [
       "     fun: 0.0\n",
       "    hess: array([[2, 0],\n",
       "       [0, 2]])\n",
       "     jac: array([0., 0.])\n",
       " message: 'Optimization terminated successfully.'\n",
       "    nfev: 4\n",
       "    nhev: 3\n",
       "     nit: 3\n",
       "    njev: 4\n",
       "  status: 0\n",
       " success: True\n",
       "       x: array([3., 5.])"
      ]
     },
     "execution_count": 25,
     "metadata": {},
     "output_type": "execute_result"
    }
   ],
   "source": [
    "minimize(func, (0,0), jac = gradient, hess = Hessian, method = 'trust-ncg')"
   ]
  },
  {
   "cell_type": "markdown",
   "metadata": {},
   "source": [
    "## Trust-Region Truncated Generalized Lanczos (method = 'trust-krylov')"
   ]
  },
  {
   "cell_type": "markdown",
   "metadata": {},
   "source": [
    "<b style = 'color:red'>suitable for large scale problem</b>"
   ]
  },
  {
   "cell_type": "code",
   "execution_count": 26,
   "metadata": {},
   "outputs": [
    {
     "name": "stdout",
     "output_type": "stream",
     "text": [
      "0.0 0.0\n",
      "0.5144957554275263 0.8574929257125439\n",
      "1.5434872662825794 2.5724787771376327\n",
      "3.0 5.0\n"
     ]
    },
    {
     "data": {
      "text/plain": [
       "     fun: 0.0\n",
       "    hess: array([[2, 0],\n",
       "       [0, 2]])\n",
       "     jac: array([0., 0.])\n",
       " message: 'Optimization terminated successfully.'\n",
       "    nfev: 4\n",
       "    nhev: 3\n",
       "     nit: 3\n",
       "    njev: 4\n",
       "  status: 0\n",
       " success: True\n",
       "       x: array([3., 5.])"
      ]
     },
     "execution_count": 26,
     "metadata": {},
     "output_type": "execute_result"
    }
   ],
   "source": [
    "minimize(func, (0,0), jac = gradient, hess= Hessian, method = 'trust-krylov')"
   ]
  },
  {
   "cell_type": "markdown",
   "metadata": {},
   "source": [
    "## Trust-Region Nearly Exact Algorithm (method='trust-exact')¶"
   ]
  },
  {
   "cell_type": "markdown",
   "metadata": {},
   "source": [
    "<b style='color:red'>suitable for medium size problems</b>"
   ]
  },
  {
   "cell_type": "code",
   "execution_count": 27,
   "metadata": {},
   "outputs": [
    {
     "name": "stdout",
     "output_type": "stream",
     "text": [
      "0.0 0.0\n",
      "0.5144957554275266 0.8574929257125442\n",
      "1.5434872662825798 2.5724787771376327\n",
      "3.0 5.0\n"
     ]
    },
    {
     "data": {
      "text/plain": [
       "     fun: 0.0\n",
       "    hess: array([[2, 0],\n",
       "       [0, 2]])\n",
       "     jac: array([0., 0.])\n",
       " message: 'Optimization terminated successfully.'\n",
       "    nfev: 4\n",
       "    nhev: 4\n",
       "     nit: 3\n",
       "    njev: 4\n",
       "  status: 0\n",
       " success: True\n",
       "       x: array([3., 5.])"
      ]
     },
     "execution_count": 27,
     "metadata": {},
     "output_type": "execute_result"
    }
   ],
   "source": [
    "minimize(func, x0=(0,0), jac = gradient, hess = Hessian, method = 'trust-exact')"
   ]
  },
  {
   "cell_type": "markdown",
   "metadata": {},
   "source": [
    "# Constrained minimization of multivariate scalar functions (minimize)¶"
   ]
  },
  {
   "cell_type": "markdown",
   "metadata": {},
   "source": [
    "methods:\n",
    "* `trust-constr`\n",
    "* `SLSQP`: Sequential Least SQuare Programming\n",
    "* `COBYLA`"
   ]
  },
  {
   "cell_type": "markdown",
   "metadata": {},
   "source": [
    "$$min \\hspace{1cm}100(x_1 - x_0^2) + (1 - x_0)^2\\\\\n",
    "s.t \\\\\n",
    " x_0 + 2x_1 \\le 1 \\\\\n",
    "x_0^2 + x_1 \\le 1 \\\\\n",
    "x_0^2 - x_1 \\le 1 \\\\\n",
    "2x_0 + x_1 = 1 \\\\\n",
    "0 \\le x_0 \\le 1 \\\\\n",
    "-0.5 \\le x_1 \\le 2.0\n",
    "$$"
   ]
  },
  {
   "cell_type": "code",
   "execution_count": 34,
   "metadata": {},
   "outputs": [],
   "source": [
    "#objective function\n",
    "def objective(x):\n",
    "    x0, x1 = x\n",
    "    return 100 *(x1 - x0 * x0) + (1 - x0) ** 2"
   ]
  },
  {
   "cell_type": "code",
   "execution_count": 35,
   "metadata": {},
   "outputs": [],
   "source": [
    "#constraints\n",
    "cs1 = dict(type = 'ineq', fun = lambda x: 1 - x[0] - 2 * x[1]) #1 - x0 - 2x1 >= 0\n",
    "cs2 = dict(type = 'ineq', fun = lambda x: 1 - x[1] - x[0] ** 2)\n",
    "cs3 = dict(type = 'ineq', fun = lambda x: 1 + x[1] - x[0] ** 2)\n",
    "cs4 = dict(type = 'eq', fun = lambda x: 2 * x[0] + x[1] - 1)\n",
    "cs = (cs1, cs2, cs3, cs4)"
   ]
  },
  {
   "cell_type": "code",
   "execution_count": 36,
   "metadata": {},
   "outputs": [],
   "source": [
    "#bounds\n",
    "bounds = ((0,1), (-0.5, 2.0))"
   ]
  },
  {
   "cell_type": "code",
   "execution_count": 37,
   "metadata": {},
   "outputs": [
    {
     "data": {
      "text/plain": [
       "     fun: -99.92820407699624\n",
       "     jac: array([-146.94606018,  100.        ])\n",
       " message: 'Optimization terminated successfully.'\n",
       "    nfev: 27\n",
       "     nit: 5\n",
       "    njev: 4\n",
       "  status: 0\n",
       " success: True\n",
       "       x: array([ 0.73205081, -0.46410162])"
      ]
     },
     "execution_count": 37,
     "metadata": {},
     "output_type": "execute_result"
    }
   ],
   "source": [
    "minimize(objective, x0 = (1,2), method = 'SLSQP', constraints =cs, bounds = bounds)"
   ]
  },
  {
   "cell_type": "markdown",
   "metadata": {},
   "source": [
    "# Global minimization"
   ]
  },
  {
   "cell_type": "markdown",
   "metadata": {},
   "source": [
    "Global optimization aims to find the global minimum of a function within given bounds, in the presence of potentially many local minima. "
   ]
  },
  {
   "cell_type": "code",
   "execution_count": 38,
   "metadata": {},
   "outputs": [],
   "source": [
    "from scipy.optimize import shgo"
   ]
  },
  {
   "cell_type": "markdown",
   "metadata": {},
   "source": [
    "```python\n",
    "shgo(\n",
    "    func,\n",
    "    bounds,\n",
    "    args=(),\n",
    "    constraints=None,\n",
    "    n=100,\n",
    "    iters=1,\n",
    "    callback=None,\n",
    "    minimizer_kwargs=None,\n",
    "    options=None,\n",
    "    sampling_method='simplicial',\n",
    ")\n",
    "Docstring:\n",
    "Finds the global minimum of a function using SHG optimization.\n",
    "\n",
    "SHGO stands for \"simplicial homology global optimization\".\n",
    "```"
   ]
  },
  {
   "cell_type": "markdown",
   "metadata": {},
   "source": [
    "# Root Finding"
   ]
  },
  {
   "cell_type": "markdown",
   "metadata": {},
   "source": [
    "if one has a single-variable equation, there are multiple different root finding algorithms that can be tried. Most of these algorithms require the endpoints of an interval in which a root is expected (because the function changes signs). In general, **`brentq`** is the best choice, but the other methods may be useful in certain circumstances or for academic purposes. "
   ]
  },
  {
   "cell_type": "markdown",
   "metadata": {},
   "source": [
    "$$x+2cos(x) = 0$$"
   ]
  },
  {
   "cell_type": "code",
   "execution_count": 12,
   "metadata": {},
   "outputs": [],
   "source": [
    "from scipy.optimize import root"
   ]
  },
  {
   "cell_type": "markdown",
   "metadata": {},
   "source": [
    "```python\n",
    "root(\n",
    "    fun,\n",
    "    x0,\n",
    "    args=(),\n",
    "    method='hybr',\n",
    "    jac=None,\n",
    "    tol=None,\n",
    "    callback=None,\n",
    "    options=None,\n",
    ")\n",
    "Docstring:\n",
    "Find a root of a vector function.\n",
    "\n",
    "Parameters\n",
    "----------\n",
    "fun : callable\n",
    "    A vector function to find a root of.\n",
    "x0 : ndarray\n",
    "    Initial guess.\n",
    "args : tuple, optional\n",
    "    Extra arguments passed to the objective function and its Jacobian.\n",
    "method : str, optional\n",
    "    Type of solver.  Should be one of\n",
    "\n",
    "        - 'hybr'             :ref:`(see here) <optimize.root-hybr>`\n",
    "        - 'lm'               :ref:`(see here) <optimize.root-lm>`\n",
    "        - 'broyden1'         :ref:`(see here) <optimize.root-broyden1>`\n",
    "        - 'broyden2'         :ref:`(see here) <optimize.root-broyden2>`\n",
    "        - 'anderson'         :ref:`(see here) <optimize.root-anderson>`\n",
    "        - 'linearmixing'     :ref:`(see here) <optimize.root-linearmixing>`\n",
    "        - 'diagbroyden'      :ref:`(see here) <optimize.root-diagbroyden>`\n",
    "        - 'excitingmixing'   :ref:`(see here) <optimize.root-excitingmixing>`\n",
    "        - 'krylov'           :ref:`(see here) <optimize.root-krylov>`\n",
    "        - 'df-sane'          :ref:`(see here) <optimize.root-dfsane>`\n",
    "\n",
    "jac : bool or callable, optional\n",
    "    If `jac` is a Boolean and is True, `fun` is assumed to return the\n",
    "    value of Jacobian along with the objective function. If False, the\n",
    "    Jacobian will be estimated numerically.\n",
    "    `jac` can also be a callable returning the Jacobian of `fun`. In\n",
    "    this case, it must accept the same arguments as `fun`.\n",
    "tol : float, optional\n",
    "    Tolerance for termination. For detailed control, use solver-specific\n",
    "    options.\n",
    "callback : function, optional\n",
    "    Optional callback function. It is called on every iteration as\n",
    "    ``callback(x, f)`` where `x` is the current solution and `f`\n",
    "    the corresponding residual. For all methods but 'hybr' and 'lm'.\n",
    "options : dict, optional\n",
    "    A dictionary of solver options. E.g. `xtol` or `maxiter`, see\n",
    "    :obj:`show_options()` for details.\n",
    "\n",
    "Returns\n",
    "-------\n",
    "sol : OptimizeResult\n",
    "    The solution represented as a ``OptimizeResult`` object.\n",
    "    Important attributes are: ``x`` the solution array, ``success`` a\n",
    "    Boolean flag indicating if the algorithm exited successfully and\n",
    "    ``message`` which describes the cause of the termination. See\n",
    "    `OptimizeResult` for a description of other attributes.\n",
    "```"
   ]
  },
  {
   "cell_type": "code",
   "execution_count": 14,
   "metadata": {},
   "outputs": [],
   "source": [
    "def f(x):\n",
    "    return x + 2 * np.cos(x)"
   ]
  },
  {
   "cell_type": "code",
   "execution_count": 18,
   "metadata": {},
   "outputs": [
    {
     "data": {
      "text/plain": [
       "    fjac: array([[-1.]])\n",
       "     fun: array([-6.66133815e-16])\n",
       " message: 'The solution converged.'\n",
       "    nfev: 10\n",
       "     qtf: array([-1.20746968e-09])\n",
       "       r: array([-2.71445911])\n",
       "  status: 1\n",
       " success: True\n",
       "       x: array([-1.02986653])"
      ]
     },
     "execution_count": 18,
     "metadata": {},
     "output_type": "execute_result"
    }
   ],
   "source": [
    "solution = root(f, x0 = 0.3)\n",
    "solution"
   ]
  },
  {
   "cell_type": "code",
   "execution_count": 19,
   "metadata": {},
   "outputs": [
    {
     "data": {
      "text/plain": [
       "    fjac: array([[-1.]])\n",
       "     fun: array([0.])\n",
       " message: 'The solution converged.'\n",
       "    nfev: 10\n",
       "    njev: 1\n",
       "     qtf: array([3.32778249e-12])\n",
       "       r: array([-2.71446049])\n",
       "  status: 1\n",
       " success: True\n",
       "       x: array([-1.02986653])"
      ]
     },
     "execution_count": 19,
     "metadata": {},
     "output_type": "execute_result"
    }
   ],
   "source": [
    "#using gradient\n",
    "root(f, 1, jac = lambda x: 1 - 2 * np.sin(x))"
   ]
  },
  {
   "cell_type": "markdown",
   "metadata": {},
   "source": [
    "<hr>"
   ]
  },
  {
   "cell_type": "markdown",
   "metadata": {},
   "source": [
    "The different methods are obtained upon changing the value of the method\n",
    "parameter to a method string. We may choose among the methods such as `hybr`\n",
    "for a modified hybrid Powell's method; `lm` for a modified least-squares method;\n",
    "`broyden1` or `broyden2` for Broyden's good and bad methods, respectively;\n",
    "`diagbroyden` for diagonal Broyden Jacobian approximation; `anderson` for\n",
    "Anderson's extended mixing; `Krylov` for Krylov approximation of the Jacobian;\n",
    "`linearmixing` for scalar Jacobian approximation; and `excitingmixing` for a\n",
    "tuned diagonal Jacobian approximation.\n",
    "For large-scale problems, both the Krylov approximation of the Jacobian or the\n",
    "Anderson extended mixing are usually the best options.\n"
   ]
  },
  {
   "cell_type": "markdown",
   "metadata": {},
   "source": [
    "<hr>"
   ]
  },
  {
   "cell_type": "markdown",
   "metadata": {},
   "source": [
    "Consider now a set of non-linear equations"
   ]
  },
  {
   "cell_type": "markdown",
   "metadata": {},
   "source": [
    "$$x_0cos(x_1)=4\\\\x_0x_1-x_1=5$$"
   ]
  },
  {
   "cell_type": "markdown",
   "metadata": {},
   "source": [
    "We define the objective function so that it also returns the Jacobian and indicate this by setting the jac parameter to True. Also, the Levenberg-Marquardt solver is used here."
   ]
  },
  {
   "cell_type": "code",
   "execution_count": 22,
   "metadata": {},
   "outputs": [],
   "source": [
    "def f(x):\n",
    "    equation_1 = x[0] * np.cos(x[1]) - 4\n",
    "    equation_2 = x[0] * x[1] - x[1] - 5\n",
    "    objective = [equation_1, equation_2]\n",
    "    #jacobian matrix\n",
    "    df = df = np.array([\n",
    "        [np.cos(x[1]), -x[0] * np.sin(x[1])],\n",
    "        [x[1], x[0] - 1]\n",
    "    ])\n",
    "    return objective, df\n"
   ]
  },
  {
   "cell_type": "code",
   "execution_count": 23,
   "metadata": {},
   "outputs": [
    {
     "data": {
      "text/plain": [
       "   cov_x: array([[ 0.87470958, -0.02852752],\n",
       "       [-0.02852752,  0.01859874]])\n",
       "    fjac: array([[ 7.52318843, -0.73161761],\n",
       "       [ 0.24535902, -1.06922242]])\n",
       "     fun: array([-4.4408921e-16,  0.0000000e+00])\n",
       "    ipvt: array([2, 1], dtype=int32)\n",
       " message: 'The relative error between two consecutive iterates is at most 0.000000'\n",
       "    nfev: 10\n",
       "    njev: 8\n",
       "     qtf: array([8.37468985e-09, 2.00391624e-09])\n",
       "  status: 2\n",
       " success: True\n",
       "       x: array([6.50409711, 0.90841421])"
      ]
     },
     "execution_count": 23,
     "metadata": {},
     "output_type": "execute_result"
    }
   ],
   "source": [
    "root(f, x0=(0,1), jac = True, method = 'lm')"
   ]
  },
  {
   "cell_type": "markdown",
   "metadata": {},
   "source": [
    "<hr>"
   ]
  },
  {
   "cell_type": "code",
   "execution_count": 25,
   "metadata": {},
   "outputs": [
    {
     "data": {
      "text/plain": [
       "   cov_x: array([[ 0.87470958, -0.02852752],\n",
       "       [-0.02852752,  0.01859874]])\n",
       "    fjac: array([[ 7.52318843, -0.73161761],\n",
       "       [ 0.24535902, -1.06922242]])\n",
       "     fun: array([-4.4408921e-16,  0.0000000e+00])\n",
       "    ipvt: array([2, 1], dtype=int32)\n",
       " message: 'The relative error between two consecutive iterates is at most 0.000000'\n",
       "    nfev: 10\n",
       "    njev: 8\n",
       "     qtf: array([8.37468985e-09, 2.00391624e-09])\n",
       "  status: 2\n",
       " success: True\n",
       "       x: array([6.50409711, 0.90841421])"
      ]
     },
     "execution_count": 25,
     "metadata": {},
     "output_type": "execute_result"
    }
   ],
   "source": [
    "#equivalent\n",
    "def func(x):\n",
    "    x0, x1 = x\n",
    "    return [x0 * np.cos(x1) - 4, x0 * x1 - x1 - 5]\n",
    "\n",
    "def grad(x):\n",
    "    x0, x1 = x\n",
    "    return [\n",
    "        [np.cos(x1), -x0 * np.sin(x1)],\n",
    "        [x1, x0 - 1]\n",
    "    ]\n",
    "\n",
    "root(func, (0,1), jac = grad, method = 'lm')"
   ]
  },
  {
   "cell_type": "markdown",
   "metadata": {},
   "source": [
    "<b style='color:red'>NOTES: Root finding for large problems</b>:  \n",
    "        Now, because  can be large, methods **`hybr`** or **`lm`** in root will take a long time to solve this problem. The solution can, however, be found using one of the large-scale solvers, for example **`krylov`**, **`broyden2`**, or **`anderson`**. "
   ]
  },
  {
   "cell_type": "markdown",
   "metadata": {},
   "source": [
    "$$x^2-y^2+xy=1\\\\3x+y=y^3+3$$"
   ]
  },
  {
   "cell_type": "code",
   "execution_count": 58,
   "metadata": {},
   "outputs": [
    {
     "data": {
      "text/plain": [
       "     fun: array([0., 0.])\n",
       " message: 'A solution was found at the specified tolerance.'\n",
       "     nit: 1\n",
       "  status: 1\n",
       " success: True\n",
       "       x: array([1., 1.])"
      ]
     },
     "execution_count": 58,
     "metadata": {},
     "output_type": "execute_result"
    }
   ],
   "source": [
    "def func(var):\n",
    "    x, y = var\n",
    "    eq_1 = x * x - y * y + x * y - 1\n",
    "    eq_2 = 3 * x + y - y ** 3 - 3\n",
    "    return [eq_1, eq_2]\n",
    "\n",
    "root(func, x0 = (1,1), method = 'krylov')"
   ]
  },
  {
   "cell_type": "markdown",
   "metadata": {},
   "source": [
    "$$x^2+y^2=2x^2y^2\\\\(x+y)(1+xy)=4x^2y^2$$"
   ]
  },
  {
   "cell_type": "code",
   "execution_count": 60,
   "metadata": {},
   "outputs": [
    {
     "data": {
      "text/plain": [
       "     fun: array([0., 0.])\n",
       " message: 'A solution was found at the specified tolerance.'\n",
       "     nit: 1\n",
       "  status: 1\n",
       " success: True\n",
       "       x: array([0., 0.])"
      ]
     },
     "execution_count": 60,
     "metadata": {},
     "output_type": "execute_result"
    }
   ],
   "source": [
    "def func(var):\n",
    "    x, y = var\n",
    "    eq_1 = x * x + y * y - 2 * (x ** 2) * (y ** 2)\n",
    "    eq_2 = (x + y) * (1 + x * y) - 4 * (x ** 2)  * (y ** 2)\n",
    "    return eq_1, eq_2\n",
    "\n",
    "root(func, x0 = (0,0), method = 'broyden2')"
   ]
  },
  {
   "cell_type": "markdown",
   "metadata": {},
   "source": [
    "$$2x+3y=5xy\\\\4x^2+y^2=5xy^2$$"
   ]
  },
  {
   "cell_type": "code",
   "execution_count": 61,
   "metadata": {},
   "outputs": [
    {
     "data": {
      "text/plain": [
       "     fun: array([0., 0.])\n",
       " message: 'A solution was found at the specified tolerance.'\n",
       "     nit: 1\n",
       "  status: 1\n",
       " success: True\n",
       "       x: array([0., 0.])"
      ]
     },
     "execution_count": 61,
     "metadata": {},
     "output_type": "execute_result"
    }
   ],
   "source": [
    "def func(var):\n",
    "    x, y = var\n",
    "    return [2*x+3*y-5*x*y,4*x*x+y*y-5*x*y*y]\n",
    "\n",
    "root(func, x0 = (0,0), method = 'anderson')"
   ]
  },
  {
   "cell_type": "markdown",
   "metadata": {},
   "source": [
    "# Univariate function minimizers (minimize_scalar)¶"
   ]
  },
  {
   "cell_type": "markdown",
   "metadata": {},
   "source": [
    "minimize functions with just a single variable  \n",
    "Often only the minimum of an univariate function (i.e., a function that takes a scalar as input) is needed. In these circumstances, other optimization techniques have been developed that can work faster. These are accessible from the **`minimize_scalar`** function, which proposes several algorithms."
   ]
  },
  {
   "cell_type": "code",
   "execution_count": 64,
   "metadata": {},
   "outputs": [],
   "source": [
    "from scipy.optimize import minimize_scalar\n"
   ]
  },
  {
   "cell_type": "markdown",
   "metadata": {},
   "source": [
    "```python\n",
    "minimize_scalar(\n",
    "    fun,\n",
    "    bracket=None,\n",
    "    bounds=None,\n",
    "    args=(),\n",
    "    method='brent',\n",
    "    tol=None,\n",
    "    options=None,\n",
    ")\n",
    "Docstring:\n",
    "Minimization of scalar function of one variable.\n",
    "\n",
    "Parameters\n",
    "----------\n",
    "fun : callable\n",
    "    Objective function.\n",
    "    Scalar function, must return a scalar.\n",
    "bracket : sequence, optional\n",
    "    For methods 'brent' and 'golden', `bracket` defines the bracketing\n",
    "    interval and can either have three items ``(a, b, c)`` so that\n",
    "    ``a < b < c`` and ``fun(b) < fun(a), fun(c)`` or two items ``a`` and\n",
    "    ``c`` which are assumed to be a starting interval for a downhill\n",
    "    bracket search (see `bracket`); it doesn't always mean that the\n",
    "    obtained solution will satisfy ``a <= x <= c``.\n",
    "bounds : sequence, optional\n",
    "    For method 'bounded', `bounds` is mandatory and must have two items\n",
    "    corresponding to the optimization bounds.\n",
    "args : tuple, optional\n",
    "    Extra arguments passed to the objective function.\n",
    "method : str or callable, optional\n",
    "    Type of solver.  Should be one of:\n",
    "\n",
    "        - 'Brent'     :ref:`(see here) <optimize.minimize_scalar-brent>`\n",
    "        - 'Bounded'   :ref:`(see here) <optimize.minimize_scalar-bounded>`\n",
    "        - 'Golden'    :ref:`(see here) <optimize.minimize_scalar-golden>`\n",
    "        - custom - a callable object (added in version 0.14.0), see below\n",
    "\n",
    "tol : float, optional\n",
    "    Tolerance for termination. For detailed control, use solver-specific\n",
    "    options.\n",
    "options : dict, optional\n",
    "    A dictionary of solver options.\n",
    "\n",
    "        maxiter : int\n",
    "            Maximum number of iterations to perform.\n",
    "        disp : bool\n",
    "            Set to True to print convergence messages.\n",
    "\n",
    "    See :func:`show_options()` for solver-specific options.\n",
    "            ```"
   ]
  },
  {
   "cell_type": "markdown",
   "metadata": {},
   "source": [
    "### Unconstrained minimization (method='brent')¶"
   ]
  },
  {
   "cell_type": "markdown",
   "metadata": {},
   "source": [
    "$$min \\hspace{0.1cm} x^2 - 2x + 1$$"
   ]
  },
  {
   "cell_type": "code",
   "execution_count": 65,
   "metadata": {},
   "outputs": [
    {
     "data": {
      "text/plain": [
       "     fun: 0.0\n",
       "    nfev: 8\n",
       "     nit: 4\n",
       " success: True\n",
       "       x: 1.0"
      ]
     },
     "execution_count": 65,
     "metadata": {},
     "output_type": "execute_result"
    }
   ],
   "source": [
    "minimize_scalar(lambda x: x * x - 2 * x + 1, method = 'brent')"
   ]
  },
  {
   "cell_type": "markdown",
   "metadata": {},
   "source": [
    "### Bounded minimization (method='bounded')¶"
   ]
  },
  {
   "cell_type": "markdown",
   "metadata": {},
   "source": [
    "$$min \\hspace{0.2cm} x^4 - 3x^3 + 9x^2 - 1\\\\\n",
    "-100 \\le x \\le 100$$"
   ]
  },
  {
   "cell_type": "code",
   "execution_count": 66,
   "metadata": {},
   "outputs": [
    {
     "data": {
      "text/plain": [
       "     fun: -0.9999999999998834\n",
       " message: 'Solution found.'\n",
       "    nfev: 14\n",
       "  status: 0\n",
       " success: True\n",
       "       x: 1.1381569853957064e-07"
      ]
     },
     "execution_count": 66,
     "metadata": {},
     "output_type": "execute_result"
    }
   ],
   "source": [
    "minimize_scalar(lambda x: x ** 4 - 3 * x ** 3 + 9 * x ** 2 - 1, bounds = (-100,100), method = 'bounded')"
   ]
  },
  {
   "cell_type": "markdown",
   "metadata": {},
   "source": [
    "# Linear programming (linprog)¶"
   ]
  },
  {
   "cell_type": "code",
   "execution_count": 69,
   "metadata": {},
   "outputs": [],
   "source": [
    "from scipy.optimize import linprog"
   ]
  },
  {
   "cell_type": "markdown",
   "metadata": {},
   "source": [
    "```python\n",
    "linprog(\n",
    "    c,\n",
    "    A_ub=None,\n",
    "    b_ub=None,\n",
    "    A_eq=None,\n",
    "    b_eq=None,\n",
    "    bounds=None,\n",
    "    method='simplex',\n",
    "    callback=None,\n",
    "    options=None,\n",
    ")\n",
    "```"
   ]
  },
  {
   "cell_type": "markdown",
   "metadata": {},
   "source": [
    "Linear programming has form:"
   ]
  },
  {
   "cell_type": "markdown",
   "metadata": {},
   "source": [
    "$$min\\hspace{0.5cm} c^Tx\\\\\n",
    "s.t\\\\A_{ub}x \\le b_{ub}\\\\\n",
    "A_{eq}x = b_{eq}\\\\\n",
    "l \\le x \\le u$$"
   ]
  },
  {
   "cell_type": "markdown",
   "metadata": {},
   "source": [
    "Example:"
   ]
  },
  {
   "cell_type": "markdown",
   "metadata": {},
   "source": [
    "$$max \\hspace{0.2cm}29x_1+45x_2\\\\s.t\\\\\n",
    "x_1-x_2-3x_3\\le 5\\\\\n",
    "2x_1-3x_2-7x_3+3x_4 \\ge 10\\\\\n",
    "2x_1+8x_2+x_3=60\\\\\n",
    "4x_1+4x_2+x_4=60\\\\\n",
    "0 \\le x_0\\\\\n",
    "0 \\le x_1 \\le 5\\\\\n",
    "x_2 \\le 0.5\\\\\n",
    "-3 \\le x_3$$"
   ]
  },
  {
   "cell_type": "code",
   "execution_count": 98,
   "metadata": {},
   "outputs": [],
   "source": [
    "c = np.array([-29,-45,0,0], dtype = np.float64)\n",
    "\n",
    "A_ub = np.array([\n",
    "    [1,-1,-3,0],\n",
    "    [-2,3,7,-3]\n",
    "], dtype = np.float64)\n",
    "b_ub = np.array([5,-10], dtype = np.float64)\n",
    "\n",
    "A_eq = np.array([\n",
    "    [2,8,1,0],\n",
    "    [4,4,0,1]\n",
    "], dtype = np.float64)\n",
    "\n",
    "b_eq = np.array([60,60], dtype = np.float64)\n",
    "\n",
    "\n",
    "bound1 = (0, np.inf)\n",
    "bound2 = (0, 5)\n",
    "bound3 = (-np.inf, 0.5)\n",
    "bound4 = (-3, np.inf)\n",
    "bounds = (bound1, bound2, bound3, bound4)\n",
    "\n"
   ]
  },
  {
   "cell_type": "code",
   "execution_count": 100,
   "metadata": {},
   "outputs": [
    {
     "data": {
      "text/plain": [
       "     con: array([0.94594595, 0.        ])\n",
       "     fun: -503.2432432432432\n",
       " message: \"Phase 1 of the simplex method failed to find a feasible solution. The pseudo-objective function evaluates to 9.5e-01 which exceeds the required tolerance of 1e-12 for a solution to be considered 'close enough' to zero to be a basic solution. Consider increasing the tolerance to be greater than 9.5e-01. If this tolerance is unacceptably  large the problem may be infeasible.\"\n",
       "     nit: 5\n",
       "   slack: array([ 0.00000000e+00, -1.77635684e-15])\n",
       "  status: 2\n",
       " success: False\n",
       "       x: array([ 9.59459459,  5.        , -0.13513514,  1.62162162])"
      ]
     },
     "execution_count": 100,
     "metadata": {},
     "output_type": "execute_result"
    }
   ],
   "source": [
    "linprog(c = c, \n",
    "        A_ub = A_ub, b_ub = b_ub, A_eq = A_eq, b_eq = b_eq, bounds = bounds)"
   ]
  },
  {
   "cell_type": "markdown",
   "metadata": {},
   "source": [
    "# Least Square"
   ]
  },
  {
   "cell_type": "code",
   "execution_count": 26,
   "metadata": {},
   "outputs": [],
   "source": [
    "import matplotlib.pyplot as plt"
   ]
  },
  {
   "cell_type": "code",
   "execution_count": 27,
   "metadata": {},
   "outputs": [],
   "source": [
    "from scipy.optimize import leastsq"
   ]
  },
  {
   "cell_type": "markdown",
   "metadata": {},
   "source": [
    "```python\n",
    "leastsq(\n",
    "    func,\n",
    "    x0,\n",
    "    args=(),\n",
    "    Dfun=None,\n",
    "    full_output=0,\n",
    "    col_deriv=0,\n",
    "    ftol=1.49012e-08,\n",
    "    xtol=1.49012e-08,\n",
    "    gtol=0.0,\n",
    "    maxfev=0,\n",
    "    epsfcn=None,\n",
    "    factor=100,\n",
    "    diag=None,\n",
    ")\n",
    "Docstring:\n",
    "Minimize the sum of squares of a set of equations.\n",
    "\n",
    "      x = arg min(sum(func(y)**2,axis=0))\n",
    "               y\n",
    "\n",
    "```"
   ]
  },
  {
   "cell_type": "code",
   "execution_count": 29,
   "metadata": {},
   "outputs": [
    {
     "name": "stdout",
     "output_type": "stream",
     "text": [
      " leastsq(func, x0, args=(), Dfun=None, full_output=0, col_deriv=0,\n",
      "         ftol=1.49012e-08, xtol=1.49012e-08, gtol=0.0, maxfev=0, epsfcn=None,\n",
      "         factor=100, diag=None)\n",
      "\n",
      "Minimize the sum of squares of a set of equations.\n",
      "\n",
      "::\n",
      "\n",
      "    x = arg min(sum(func(y)**2,axis=0))\n",
      "             y\n",
      "\n",
      "Parameters\n",
      "----------\n",
      "func : callable\n",
      "    should take at least one (possibly length N vector) argument and\n",
      "    returns M floating point numbers. It must not return NaNs or\n",
      "    fitting might fail.\n",
      "x0 : ndarray\n",
      "    The starting estimate for the minimization.\n",
      "args : tuple, optional\n",
      "    Any extra arguments to func are placed in this tuple.\n",
      "Dfun : callable, optional\n",
      "    A function or method to compute the Jacobian of func with derivatives\n",
      "    across the rows. If this is None, the Jacobian will be estimated.\n",
      "full_output : bool, optional\n",
      "    non-zero to return all optional outputs.\n",
      "col_deriv : bool, optional\n",
      "    non-zero to specify that the Jacobian function computes derivatives\n",
      "    down the columns (faster, because there is no transpose operation).\n",
      "ftol : float, optional\n",
      "    Relative error desired in the sum of squares.\n",
      "xtol : float, optional\n",
      "    Relative error desired in the approximate solution.\n",
      "gtol : float, optional\n",
      "    Orthogonality desired between the function vector and the columns of\n",
      "    the Jacobian.\n",
      "maxfev : int, optional\n",
      "    The maximum number of calls to the function. If `Dfun` is provided\n",
      "    then the default `maxfev` is 100*(N+1) where N is the number of elements\n",
      "    in x0, otherwise the default `maxfev` is 200*(N+1).\n",
      "epsfcn : float, optional\n",
      "    A variable used in determining a suitable step length for the forward-\n",
      "    difference approximation of the Jacobian (for Dfun=None).\n",
      "    Normally the actual step length will be sqrt(epsfcn)*x\n",
      "    If epsfcn is less than the machine precision, it is assumed that the\n",
      "    relative errors are of the order of the machine precision.\n",
      "factor : float, optional\n",
      "    A parameter determining the initial step bound\n",
      "    (``factor * || diag * x||``). Should be in interval ``(0.1, 100)``.\n",
      "diag : sequence, optional\n",
      "    N positive entries that serve as a scale factors for the variables.\n",
      "\n",
      "Returns\n",
      "-------\n",
      "x : ndarray\n",
      "    The solution (or the result of the last iteration for an unsuccessful\n",
      "    call).\n",
      "cov_x : ndarray\n",
      "    Uses the fjac and ipvt optional outputs to construct an\n",
      "    estimate of the jacobian around the solution. None if a\n",
      "    singular matrix encountered (indicates very flat curvature in\n",
      "    some direction).  This matrix must be multiplied by the\n",
      "    residual variance to get the covariance of the\n",
      "    parameter estimates -- see curve_fit.\n",
      "infodict : dict\n",
      "    a dictionary of optional outputs with the key s:\n",
      "\n",
      "    ``nfev``\n",
      "        The number of function calls\n",
      "    ``fvec``\n",
      "        The function evaluated at the output\n",
      "    ``fjac``\n",
      "        A permutation of the R matrix of a QR\n",
      "        factorization of the final approximate\n",
      "        Jacobian matrix, stored column wise.\n",
      "        Together with ipvt, the covariance of the\n",
      "        estimate can be approximated.\n",
      "    ``ipvt``\n",
      "        An integer array of length N which defines\n",
      "        a permutation matrix, p, such that\n",
      "        fjac*p = q*r, where r is upper triangular\n",
      "        with diagonal elements of nonincreasing\n",
      "        magnitude. Column j of p is column ipvt(j)\n",
      "        of the identity matrix.\n",
      "    ``qtf``\n",
      "        The vector (transpose(q) * fvec).\n",
      "\n",
      "mesg : str\n",
      "    A string message giving information about the cause of failure.\n",
      "ier : int\n",
      "    An integer flag.  If it is equal to 1, 2, 3 or 4, the solution was\n",
      "    found.  Otherwise, the solution was not found. In either case, the\n",
      "    optional output variable 'mesg' gives more information.\n",
      "\n",
      "Notes\n",
      "-----\n",
      "\"leastsq\" is a wrapper around MINPACK's lmdif and lmder algorithms.\n",
      "\n",
      "cov_x is a Jacobian approximation to the Hessian of the least squares\n",
      "objective function.\n",
      "This approximation assumes that the objective function is based on the\n",
      "difference between some observed target data (ydata) and a (non-linear)\n",
      "function of the parameters `f(xdata, params)` ::\n",
      "\n",
      "       func(params) = ydata - f(xdata, params)\n",
      "\n",
      "so that the objective function is ::\n",
      "\n",
      "       min   sum((ydata - f(xdata, params))**2, axis=0)\n",
      "     params\n",
      "\n",
      "The solution, `x`, is always a 1D array, regardless of the shape of `x0`,\n",
      "or whether `x0` is a scalar.\n"
     ]
    }
   ],
   "source": [
    "np.info(leastsq)"
   ]
  },
  {
   "cell_type": "code",
   "execution_count": 33,
   "metadata": {},
   "outputs": [
    {
     "data": {
      "text/plain": [
       "<matplotlib.collections.PathCollection at 0x1c78358fb38>"
      ]
     },
     "execution_count": 33,
     "metadata": {},
     "output_type": "execute_result"
    },
    {
     "data": {
      "image/png": "[encoded data removed]",
      "text/plain": [
       "<Figure size 432x288 with 1 Axes>"
      ]
     },
     "metadata": {
      "needs_background": "light"
     },
     "output_type": "display_data"
    }
   ],
   "source": [
    "n = 300\n",
    "x_data = np.linspace(0, 10, n)\n",
    "y_data = X + np.random.normal(size = n, scale = 2)\n",
    "plt.scatter(x_data, y_data, ec = 'k')"
   ]
  },
  {
   "cell_type": "code",
   "execution_count": 37,
   "metadata": {},
   "outputs": [
    {
     "data": {
      "text/plain": [
       "array([0.96688288, 0.34305783])"
      ]
     },
     "execution_count": 37,
     "metadata": {},
     "output_type": "execute_result"
    }
   ],
   "source": [
    "X = np.stack((x_data, np.ones_like(x_data)), axis = 1)\n",
    "y = y_data.copy()\n",
    "\n",
    "def residual(w):\n",
    "    return X @ w - y\n",
    "\n",
    "solution, cov_x = leastsq(residual, x0 = (1,0))\n",
    "solution"
   ]
  },
  {
   "cell_type": "code",
   "execution_count": 41,
   "metadata": {},
   "outputs": [
    {
     "data": {
      "text/plain": [
       "<matplotlib.legend.Legend at 0x1c7835a4c88>"
      ]
     },
     "execution_count": 41,
     "metadata": {},
     "output_type": "execute_result"
    },
    {
     "data": {
      "image/png": "[encoded data removed]",
      "text/plain": [
       "<Figure size 432x288 with 1 Axes>"
      ]
     },
     "metadata": {
      "needs_background": "light"
     },
     "output_type": "display_data"
    }
   ],
   "source": [
    "plt.scatter(x_data, y_data, ec = 'k')\n",
    "plt.plot(x_data, X @ solution, '-r', lw = 2, label = 'Least quare fit curve')\n",
    "plt.legend()"
   ]
  },
  {
   "cell_type": "markdown",
   "metadata": {},
   "source": [
    "## Example: Fitting Gaussian to sinc Function"
   ]
  },
  {
   "cell_type": "markdown",
   "metadata": {},
   "source": [
    "Gaussian Model:"
   ]
  },
  {
   "cell_type": "markdown",
   "metadata": {},
   "source": [
    "$$B + A.exp(-(\\frac{t-\\mu}{\\sigma})^2)$$"
   ]
  },
  {
   "cell_type": "markdown",
   "metadata": {},
   "source": [
    "where: $B(noise), A(amplitude),\\mu(center),\\sigma(width)$ are parameters"
   ]
  },
  {
   "cell_type": "code",
   "execution_count": 1,
   "metadata": {},
   "outputs": [],
   "source": [
    "import numpy as np\n",
    "import matplotlib.pyplot as plt\n",
    "from scipy.optimize import leastsq"
   ]
  },
  {
   "cell_type": "code",
   "execution_count": 2,
   "metadata": {},
   "outputs": [
    {
     "data": {
      "text/plain": [
       "Text(0.5, 0, 'Sinc Function scatter')"
      ]
     },
     "execution_count": 2,
     "metadata": {},
     "output_type": "execute_result"
    },
    {
     "data": {
      "image/png": "[encoded data removed]",
      "text/plain": [
       "<Figure size 432x288 with 1 Axes>"
      ]
     },
     "metadata": {
      "needs_background": "light"
     },
     "output_type": "display_data"
    }
   ],
   "source": [
    "x = np.linspace(-10,10,20)\n",
    "y = np.sinc(x)\n",
    "plt.scatter(x,y)\n",
    "plt.xlabel('Sinc Function scatter')"
   ]
  },
  {
   "cell_type": "code",
   "execution_count": 4,
   "metadata": {},
   "outputs": [
    {
     "data": {
      "text/plain": [
       "array([ 4.92208237e+00, -1.40457171e-02, -1.05712608e-09,  3.65198011e-01])"
      ]
     },
     "execution_count": 4,
     "metadata": {},
     "output_type": "execute_result"
    }
   ],
   "source": [
    "#Gaussian Function: receive a list of parameters, input x, return gassian density for x\n",
    "def gaussian(coeffs, x):\n",
    "    A, B, mu, sigma = coeffs\n",
    "    return B + A * np.exp(-np.square((x-mu) / sigma)) \n",
    "\n",
    "def residual(coeffs,x,y):\n",
    "    return gaussian(coeffs, x) - y\n",
    "\n",
    "solution, cov = leastsq(residual, x0 = np.random.rand(4), args = (x,y)) #args = (x,y) passing data to redisual function\n",
    "solution"
   ]
  },
  {
   "cell_type": "code",
   "execution_count": 8,
   "metadata": {},
   "outputs": [
    {
     "data": {
      "text/plain": [
       "<matplotlib.legend.Legend at 0x1e2e087aef0>"
      ]
     },
     "execution_count": 8,
     "metadata": {},
     "output_type": "execute_result"
    },
    {
     "data": {
      "image/png": "[encoded data removed]",
      "text/plain": [
       "<Figure size 432x288 with 1 Axes>"
      ]
     },
     "metadata": {
      "needs_background": "light"
     },
     "output_type": "display_data"
    }
   ],
   "source": [
    "plt.scatter(x,y)\n",
    "\n",
    "x_grid = np.mgrid[-10:10:300j]\n",
    "plt.plot(x_grid, gaussian(solution, x_grid), '--r', label = 'Gaussian fit')\n",
    "plt.plot(x_grid, np.sinc(x_grid), '-', label = 'Sinc')\n",
    "plt.legend()"
   ]
  },
  {
   "cell_type": "markdown",
   "metadata": {},
   "source": [
    "# Curve fit"
   ]
  },
  {
   "cell_type": "code",
   "execution_count": 1,
   "metadata": {},
   "outputs": [],
   "source": [
    "from scipy.optimize import curve_fit"
   ]
  },
  {
   "cell_type": "markdown",
   "metadata": {},
   "source": [
    "```python\n",
    "urve_fit(\n",
    "    f,\n",
    "    xdata,\n",
    "    ydata,\n",
    "    p0=None,\n",
    "    sigma=None,\n",
    "    absolute_sigma=False,\n",
    "    check_finite=True,\n",
    "    bounds=(-inf, inf),\n",
    "    method=None,\n",
    "    jac=None,\n",
    "    **kwargs,\n",
    ")\n",
    "\n",
    "Docstring:\n",
    "Use non-linear least squares to fit a function, f, to data.\n",
    "\n",
    "Assumes ``ydata = f(xdata, *params) + eps``\n",
    "```"
   ]
  },
  {
   "cell_type": "code",
   "execution_count": 6,
   "metadata": {},
   "outputs": [
    {
     "name": "stdout",
     "output_type": "stream",
     "text": [
      "Help on function curve_fit in module scipy.optimize.minpack:\n",
      "\n",
      "curve_fit(f, xdata, ydata, p0=None, sigma=None, absolute_sigma=False, check_finite=True, bounds=(-inf, inf), method=None, jac=None, **kwargs)\n",
      "    Use non-linear least squares to fit a function, f, to data.\n",
      "    \n",
      "    Assumes ``ydata = f(xdata, *params) + eps``\n",
      "    \n",
      "    Parameters\n",
      "    ----------\n",
      "    f : callable\n",
      "        The model function, f(x, ...).  It must take the independent\n",
      "        variable as the first argument and the parameters to fit as\n",
      "        separate remaining arguments.\n",
      "    xdata : An M-length sequence or an (k,M)-shaped array for functions with k predictors\n",
      "        The independent variable where the data is measured.\n",
      "    ydata : M-length sequence\n",
      "        The dependent data --- nominally f(xdata, ...)\n",
      "    p0 : None, scalar, or N-length sequence, optional\n",
      "        Initial guess for the parameters.  If None, then the initial\n",
      "        values will all be 1 (if the number of parameters for the function\n",
      "        can be determined using introspection, otherwise a ValueError\n",
      "        is raised).\n",
      "    sigma : None or M-length sequence or MxM array, optional\n",
      "        Determines the uncertainty in `ydata`. If we define residuals as\n",
      "        ``r = ydata - f(xdata, *popt)``, then the interpretation of `sigma`\n",
      "        depends on its number of dimensions:\n",
      "    \n",
      "            - A 1-d `sigma` should contain values of standard deviations of\n",
      "              errors in `ydata`. In this case, the optimized function is\n",
      "              ``chisq = sum((r / sigma) ** 2)``.\n",
      "    \n",
      "            - A 2-d `sigma` should contain the covariance matrix of\n",
      "              errors in `ydata`. In this case, the optimized function is\n",
      "              ``chisq = r.T @ inv(sigma) @ r``.\n",
      "    \n",
      "              .. versionadded:: 0.19\n",
      "    \n",
      "        None (default) is equivalent of 1-d `sigma` filled with ones.\n",
      "    absolute_sigma : bool, optional\n",
      "        If True, `sigma` is used in an absolute sense and the estimated parameter\n",
      "        covariance `pcov` reflects these absolute values.\n",
      "    \n",
      "        If False, only the relative magnitudes of the `sigma` values matter.\n",
      "        The returned parameter covariance matrix `pcov` is based on scaling\n",
      "        `sigma` by a constant factor. This constant is set by demanding that the\n",
      "        reduced `chisq` for the optimal parameters `popt` when using the\n",
      "        *scaled* `sigma` equals unity. In other words, `sigma` is scaled to\n",
      "        match the sample variance of the residuals after the fit.\n",
      "        Mathematically,\n",
      "        ``pcov(absolute_sigma=False) = pcov(absolute_sigma=True) * chisq(popt)/(M-N)``\n",
      "    check_finite : bool, optional\n",
      "        If True, check that the input arrays do not contain nans of infs,\n",
      "        and raise a ValueError if they do. Setting this parameter to\n",
      "        False may silently produce nonsensical results if the input arrays\n",
      "        do contain nans. Default is True.\n",
      "    bounds : 2-tuple of array_like, optional\n",
      "        Lower and upper bounds on parameters. Defaults to no bounds.\n",
      "        Each element of the tuple must be either an array with the length equal\n",
      "        to the number of parameters, or a scalar (in which case the bound is\n",
      "        taken to be the same for all parameters.) Use ``np.inf`` with an\n",
      "        appropriate sign to disable bounds on all or some parameters.\n",
      "    \n",
      "        .. versionadded:: 0.17\n",
      "    method : {'lm', 'trf', 'dogbox'}, optional\n",
      "        Method to use for optimization.  See `least_squares` for more details.\n",
      "        Default is 'lm' for unconstrained problems and 'trf' if `bounds` are\n",
      "        provided. The method 'lm' won't work when the number of observations\n",
      "        is less than the number of variables, use 'trf' or 'dogbox' in this\n",
      "        case.\n",
      "    \n",
      "        .. versionadded:: 0.17\n",
      "    jac : callable, string or None, optional\n",
      "        Function with signature ``jac(x, ...)`` which computes the Jacobian\n",
      "        matrix of the model function with respect to parameters as a dense\n",
      "        array_like structure. It will be scaled according to provided `sigma`.\n",
      "        If None (default), the Jacobian will be estimated numerically.\n",
      "        String keywords for 'trf' and 'dogbox' methods can be used to select\n",
      "        a finite difference scheme, see `least_squares`.\n",
      "    \n",
      "        .. versionadded:: 0.18\n",
      "    kwargs\n",
      "        Keyword arguments passed to `leastsq` for ``method='lm'`` or\n",
      "        `least_squares` otherwise.\n",
      "    \n",
      "    Returns\n",
      "    -------\n",
      "    popt : array\n",
      "        Optimal values for the parameters so that the sum of the squared\n",
      "        residuals of ``f(xdata, *popt) - ydata`` is minimized\n",
      "    pcov : 2d array\n",
      "        The estimated covariance of popt. The diagonals provide the variance\n",
      "        of the parameter estimate. To compute one standard deviation errors\n",
      "        on the parameters use ``perr = np.sqrt(np.diag(pcov))``.\n",
      "    \n",
      "        How the `sigma` parameter affects the estimated covariance\n",
      "        depends on `absolute_sigma` argument, as described above.\n",
      "    \n",
      "        If the Jacobian matrix at the solution doesn't have a full rank, then\n",
      "        'lm' method returns a matrix filled with ``np.inf``, on the other hand\n",
      "        'trf'  and 'dogbox' methods use Moore-Penrose pseudoinverse to compute\n",
      "        the covariance matrix.\n",
      "    \n",
      "    Raises\n",
      "    ------\n",
      "    ValueError\n",
      "        if either `ydata` or `xdata` contain NaNs, or if incompatible options\n",
      "        are used.\n",
      "    \n",
      "    RuntimeError\n",
      "        if the least-squares minimization fails.\n",
      "    \n",
      "    OptimizeWarning\n",
      "        if covariance of the parameters can not be estimated.\n",
      "    \n",
      "    See Also\n",
      "    --------\n",
      "    least_squares : Minimize the sum of squares of nonlinear functions.\n",
      "    scipy.stats.linregress : Calculate a linear least squares regression for\n",
      "                             two sets of measurements.\n",
      "    \n",
      "    Notes\n",
      "    -----\n",
      "    With ``method='lm'``, the algorithm uses the Levenberg-Marquardt algorithm\n",
      "    through `leastsq`. Note that this algorithm can only deal with\n",
      "    unconstrained problems.\n",
      "    \n",
      "    Box constraints can be handled by methods 'trf' and 'dogbox'. Refer to\n",
      "    the docstring of `least_squares` for more information.\n",
      "    \n",
      "    Examples\n",
      "    --------\n",
      "    >>> import numpy as np\n",
      "    >>> import matplotlib.pyplot as plt\n",
      "    >>> from scipy.optimize import curve_fit\n",
      "    \n",
      "    >>> def func(x, a, b, c):\n",
      "    ...     return a * np.exp(-b * x) + c\n",
      "    \n",
      "    Define the data to be fit with some noise:\n",
      "    \n",
      "    >>> xdata = np.linspace(0, 4, 50)\n",
      "    >>> y = func(xdata, 2.5, 1.3, 0.5)\n",
      "    >>> np.random.seed(1729)\n",
      "    >>> y_noise = 0.2 * np.random.normal(size=xdata.size)\n",
      "    >>> ydata = y + y_noise\n",
      "    >>> plt.plot(xdata, ydata, 'b-', label='data')\n",
      "    \n",
      "    Fit for the parameters a, b, c of the function `func`:\n",
      "    \n",
      "    >>> popt, pcov = curve_fit(func, xdata, ydata)\n",
      "    >>> popt\n",
      "    array([ 2.55423706,  1.35190947,  0.47450618])\n",
      "    >>> plt.plot(xdata, func(xdata, *popt), 'r-',\n",
      "    ...          label='fit: a=%5.3f, b=%5.3f, c=%5.3f' % tuple(popt))\n",
      "    \n",
      "    Constrain the optimization to the region of ``0 <= a <= 3``,\n",
      "    ``0 <= b <= 1`` and ``0 <= c <= 0.5``:\n",
      "    \n",
      "    >>> popt, pcov = curve_fit(func, xdata, ydata, bounds=(0, [3., 1., 0.5]))\n",
      "    >>> popt\n",
      "    array([ 2.43708906,  1.        ,  0.35015434])\n",
      "    >>> plt.plot(xdata, func(xdata, *popt), 'g--',\n",
      "    ...          label='fit: a=%5.3f, b=%5.3f, c=%5.3f' % tuple(popt))\n",
      "    \n",
      "    >>> plt.xlabel('x')\n",
      "    >>> plt.ylabel('y')\n",
      "    >>> plt.legend()\n",
      "    >>> plt.show()\n",
      "\n"
     ]
    }
   ],
   "source": [
    "help(curve_fit)"
   ]
  },
  {
   "cell_type": "markdown",
   "metadata": {},
   "source": [
    "Fit the `Sin` function in range $(0, \\pi)$ using 3 order polinomial: $ax^3+bx^2+cx+d$"
   ]
  },
  {
   "cell_type": "code",
   "execution_count": 22,
   "metadata": {},
   "outputs": [],
   "source": [
    "x = np.linspace(0, 2 * np.pi, 100)\n",
    "y = np.sin(x)"
   ]
  },
  {
   "cell_type": "code",
   "execution_count": 23,
   "metadata": {},
   "outputs": [],
   "source": [
    "def poly3(x, a,b,c,d):\n",
    "    return a * (x**3) + b * (x**2) + c * x + d"
   ]
  },
  {
   "cell_type": "code",
   "execution_count": 24,
   "metadata": {},
   "outputs": [],
   "source": [
    "optimal_parameters, estimiated_covariance_of_optimal_parameters = \\\n",
    "curve_fit(poly3, xdata = x, ydata = y, p0 = (1,1,1,1))"
   ]
  },
  {
   "cell_type": "code",
   "execution_count": 25,
   "metadata": {},
   "outputs": [
    {
     "data": {
      "text/plain": [
       "array([ 0.09226714, -0.86959728,  1.87970659, -0.18355168])"
      ]
     },
     "execution_count": 25,
     "metadata": {},
     "output_type": "execute_result"
    }
   ],
   "source": [
    "optimal_parameters"
   ]
  },
  {
   "cell_type": "code",
   "execution_count": 28,
   "metadata": {},
   "outputs": [
    {
     "data": {
      "text/plain": [
       "<matplotlib.legend.Legend at 0x1ca9a7edcf8>"
      ]
     },
     "execution_count": 28,
     "metadata": {},
     "output_type": "execute_result"
    },
    {
     "data": {
      "image/png": "[encoded data removed]",
      "text/plain": [
       "<Figure size 432x288 with 1 Axes>"
      ]
     },
     "metadata": {
      "needs_background": "light"
     },
     "output_type": "display_data"
    }
   ],
   "source": [
    "plt.plot(x,y, label = 'Sine Function')\n",
    "plt.plot(x, poly3(x, *optimal_parameters), '--r', label = 'Curve fit')\n",
    "plt.legend()"
   ]
  },
  {
   "cell_type": "markdown",
   "metadata": {},
   "source": [
    "# Checking gradient"
   ]
  },
  {
   "cell_type": "code",
   "execution_count": 1,
   "metadata": {},
   "outputs": [],
   "source": [
    "from scipy.optimize import check_grad"
   ]
  },
  {
   "cell_type": "markdown",
   "metadata": {},
   "source": [
    "```python\n",
    "check_grad(func, grad, x0, *args, **kwargs)\n",
    "Docstring:\n",
    "Check the correctness of a gradient function by comparing it against a\n",
    "(forward) finite-difference approximation of the gradient.\n",
    "```"
   ]
  },
  {
   "cell_type": "code",
   "execution_count": 4,
   "metadata": {},
   "outputs": [
    {
     "name": "stdout",
     "output_type": "stream",
     "text": [
      " check_grad(func, grad, x0, *args, **kwargs)\n",
      "\n",
      "Check the correctness of a gradient function by comparing it against a\n",
      "(forward) finite-difference approximation of the gradient.\n",
      "\n",
      "Parameters\n",
      "----------\n",
      "func : callable ``func(x0, *args)``\n",
      "    Function whose derivative is to be checked.\n",
      "grad : callable ``grad(x0, *args)``\n",
      "    Gradient of `func`.\n",
      "x0 : ndarray\n",
      "    Points to check `grad` against forward difference approximation of grad\n",
      "    using `func`.\n",
      "args : \\*args, optional\n",
      "    Extra arguments passed to `func` and `grad`.\n",
      "epsilon : float, optional\n",
      "    Step size used for the finite difference approximation. It defaults to\n",
      "    ``sqrt(numpy.finfo(float).eps)``, which is approximately 1.49e-08.\n",
      "\n",
      "Returns\n",
      "-------\n",
      "err : float\n",
      "    The square root of the sum of squares (i.e. the 2-norm) of the\n",
      "    difference between ``grad(x0, *args)`` and the finite difference\n",
      "    approximation of `grad` using func at the points `x0`.\n",
      "\n",
      "See Also\n",
      "--------\n",
      "approx_fprime\n",
      "\n",
      "Examples\n",
      "--------\n",
      ">>> def func(x):\n",
      "...     return x[0]**2 - 0.5 * x[1]**3\n",
      ">>> def grad(x):\n",
      "...     return [2 * x[0], -1.5 * x[1]**2]\n",
      ">>> from scipy.optimize import check_grad\n",
      ">>> check_grad(func, grad, [1.5, -1.5])\n",
      "2.9802322387695312e-08\n"
     ]
    }
   ],
   "source": [
    "np.info(check_grad)"
   ]
  },
  {
   "cell_type": "code",
   "execution_count": 12,
   "metadata": {},
   "outputs": [
    {
     "data": {
      "text/plain": [
       "0.0"
      ]
     },
     "execution_count": 12,
     "metadata": {},
     "output_type": "execute_result"
    }
   ],
   "source": [
    "#objective Function\n",
    "def func(v):\n",
    "    x, y = v\n",
    "    return x * x + y * y\n",
    "#Gradient function\n",
    "def grad(v): \n",
    "    x, y = v\n",
    "    return 2 * x, 2 * y\n",
    "#Check if grad gives correct gradient\n",
    "#It returns the norm of the different between the gradient given, and a gradient computed numerically:\n",
    "check_grad(func, grad, x0 = (2,2))"
   ]
  },
  {
   "cell_type": "markdown",
   "metadata": {},
   "source": [
    "# Practical Optimization"
   ]
  },
  {
   "cell_type": "markdown",
   "metadata": {},
   "source": [
    "<a href = 'https://scipy-lectures.org/advanced/mathematical_optimization/index.html'> Scipy lecture: Practical Optimization</a>"
   ]
  },
  {
   "cell_type": "markdown",
   "metadata": {},
   "source": [
    "Without knowledge of the gradient:\n",
    " \t\n",
    "In general, prefer BFGS or L-BFGS, even if you have to approximate numerically gradients. These are also the default if you omit the parameter method - depending if the problem has constraints or bounds\n",
    "On well-conditioned problems, Powell and Nelder-Mead, both gradient-free methods, work well in high dimension, but they collapse for ill-conditioned problems.\n",
    "<hr>\n",
    "With knowledge of the gradient:\n",
    "BFGS or L-BFGS.\n",
    "Computational overhead of BFGS is larger than that L-BFGS, itself larger than that of conjugate gradient. On the other side, BFGS usually needs less function evaluations than CG. Thus conjugate gradient method is better than BFGS at optimizing computationally cheap functions.\n",
    "<hr>\n",
    "With the Hessian:\n",
    " \t\n",
    "If you can compute the Hessian, prefer the Newton method (Newton-CG or TCG).\n",
    "If you have noisy measurements:\n",
    " \t\n",
    "Use Nelder-Mead or Powell."
   ]
  },
  {
   "cell_type": "code",
   "execution_count": null,
   "metadata": {},
   "outputs": [],
   "source": []
  }
 ],
 "metadata": {
  "kernelspec": {
   "display_name": "Python 3",
   "language": "python",
   "name": "python3"
  },
  "language_info": {
   "codemirror_mode": {
    "name": "ipython",
    "version": 3
   },
   "file_extension": ".py",
   "mimetype": "text/x-python",
   "name": "python",
   "nbconvert_exporter": "python",
   "pygments_lexer": "ipython3",
   "version": "3.7.3"
  }
 },
 "nbformat": 4,
 "nbformat_minor": 2
}
