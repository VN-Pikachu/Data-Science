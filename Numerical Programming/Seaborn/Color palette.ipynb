{
 "cells": [
  {
   "cell_type": "markdown",
   "metadata": {},
   "source": [
    "**Reference**: <https://seaborn.pydata.org/tutorial/color_palettes.html>"
   ]
  },
  {
   "cell_type": "code",
   "execution_count": 1,
   "metadata": {},
   "outputs": [],
   "source": [
    "import matplotlib.pyplot as plt\n",
    "import seaborn as sns;sns.set()\n",
    "import numpy as np"
   ]
  },
  {
   "cell_type": "code",
   "execution_count": 41,
   "metadata": {},
   "outputs": [],
   "source": [
    "x = np.linspace(-2 * np.pi, 2 * np.pi, 100)"
   ]
  },
  {
   "cell_type": "markdown",
   "metadata": {},
   "source": [
    "# Building color palette"
   ]
  },
  {
   "cell_type": "markdown",
   "metadata": {},
   "source": [
    "**`sns.color_palette`**"
   ]
  },
  {
   "cell_type": "markdown",
   "metadata": {},
   "source": [
    "```python\n",
    "color_palette(palette=None, n_colors=None, desat=None)\n",
    "```"
   ]
  },
  {
   "cell_type": "code",
   "execution_count": 4,
   "metadata": {},
   "outputs": [
    {
     "name": "stdout",
     "output_type": "stream",
     "text": [
      "Help on function color_palette in module seaborn.palettes:\n",
      "\n",
      "color_palette(palette=None, n_colors=None, desat=None)\n",
      "    Return a list of colors defining a color palette.\n",
      "    \n",
      "    Available seaborn palette names:\n",
      "        deep, muted, bright, pastel, dark, colorblind\n",
      "    \n",
      "    Other options:\n",
      "        name of matplotlib cmap, 'ch:<cubehelix arguments>', 'hls', 'husl',\n",
      "        or a list of colors in any format matplotlib accepts\n",
      "    \n",
      "    Calling this function with ``palette=None`` will return the current\n",
      "    matplotlib color cycle.\n",
      "    \n",
      "    Matplotlib palettes can be specified as reversed palettes by appending\n",
      "    \"_r\" to the name or as \"dark\" palettes by appending \"_d\" to the name.\n",
      "    (These options are mutually exclusive, but the resulting list of colors\n",
      "    can also be reversed).\n",
      "    \n",
      "    This function can also be used in a ``with`` statement to temporarily\n",
      "    set the color cycle for a plot or set of plots.\n",
      "    \n",
      "    See the :ref:`tutorial <palette_tutorial>` for more information.\n",
      "    \n",
      "    Parameters\n",
      "    ----------\n",
      "    palette: None, string, or sequence, optional\n",
      "        Name of palette or None to return current palette. If a sequence, input\n",
      "        colors are used but possibly cycled and desaturated.\n",
      "    n_colors : int, optional\n",
      "        Number of colors in the palette. If ``None``, the default will depend\n",
      "        on how ``palette`` is specified. Named palettes default to 6 colors,\n",
      "        but grabbing the current palette or passing in a list of colors will\n",
      "        not change the number of colors unless this is specified. Asking for\n",
      "        more colors than exist in the palette will cause it to cycle.\n",
      "    desat : float, optional\n",
      "        Proportion to desaturate each color by.\n",
      "    \n",
      "    Returns\n",
      "    -------\n",
      "    palette : list of RGB tuples.\n",
      "        Color palette. Behaves like a list, but can be used as a context\n",
      "        manager and possesses an ``as_hex`` method to convert to hex color\n",
      "        codes.\n",
      "    \n",
      "    See Also\n",
      "    --------\n",
      "    set_palette : Set the default color cycle for all plots.\n",
      "    set_color_codes : Reassign color codes like ``\"b\"``, ``\"g\"``, etc. to\n",
      "                      colors from one of the seaborn palettes.\n",
      "    \n",
      "    Examples\n",
      "    --------\n",
      "    \n",
      "    Calling with no arguments returns all colors from the current default\n",
      "    color cycle:\n",
      "    \n",
      "    .. plot::\n",
      "        :context: close-figs\n",
      "    \n",
      "        >>> import seaborn as sns; sns.set()\n",
      "        >>> sns.palplot(sns.color_palette())\n",
      "    \n",
      "    Show one of the other \"seaborn palettes\", which have the same basic order\n",
      "    of hues as the default matplotlib color cycle but more attractive colors.\n",
      "    Calling with the name of a palette will return 6 colors by default:\n",
      "    \n",
      "    .. plot::\n",
      "        :context: close-figs\n",
      "    \n",
      "        >>> sns.palplot(sns.color_palette(\"muted\"))\n",
      "    \n",
      "    Use discrete values from one of the built-in matplotlib colormaps:\n",
      "    \n",
      "    .. plot::\n",
      "        :context: close-figs\n",
      "    \n",
      "        >>> sns.palplot(sns.color_palette(\"RdBu\", n_colors=7))\n",
      "    \n",
      "    Make a customized cubehelix color palette:\n",
      "    \n",
      "    .. plot::\n",
      "        :context: close-figs\n",
      "    \n",
      "        >>> sns.palplot(sns.color_palette(\"ch:2.5,-.2,dark=.3\"))\n",
      "    \n",
      "    Use a categorical matplotlib palette and add some desaturation:\n",
      "    \n",
      "    .. plot::\n",
      "        :context: close-figs\n",
      "    \n",
      "        >>> sns.palplot(sns.color_palette(\"Set1\", n_colors=8, desat=.5))\n",
      "    \n",
      "    Make a \"dark\" matplotlib sequential palette variant. (This can be good\n",
      "    when coloring multiple lines or points that correspond to an ordered\n",
      "    variable, where you don't want the lightest lines to be invisible):\n",
      "    \n",
      "    .. plot::\n",
      "        :context: close-figs\n",
      "    \n",
      "        >>> sns.palplot(sns.color_palette(\"Blues_d\"))\n",
      "    \n",
      "    Use as a context manager:\n",
      "    \n",
      "    .. plot::\n",
      "        :context: close-figs\n",
      "    \n",
      "        >>> import numpy as np, matplotlib.pyplot as plt\n",
      "        >>> with sns.color_palette(\"husl\", 8):\n",
      "        ...    _ = plt.plot(np.c_[np.zeros(8), np.arange(8)].T)\n",
      "\n"
     ]
    }
   ],
   "source": [
    "help(sns.color_palette)"
   ]
  },
  {
   "cell_type": "code",
   "execution_count": 12,
   "metadata": {},
   "outputs": [
    {
     "data": {
      "text/plain": [
       "[(0.2980392156862745, 0.4470588235294118, 0.6901960784313725),\n",
       " (0.8666666666666667, 0.5176470588235295, 0.3215686274509804),\n",
       " (0.3333333333333333, 0.6588235294117647, 0.40784313725490196)]"
      ]
     },
     "execution_count": 12,
     "metadata": {},
     "output_type": "execute_result"
    }
   ],
   "source": [
    "c = sns.color_palette('deep', n_colors = 3) #create a color palette \"deep\" with 3 colors\n",
    "c"
   ]
  },
  {
   "cell_type": "code",
   "execution_count": 13,
   "metadata": {},
   "outputs": [
    {
     "data": {
      "image/png": "[encoded data removed]",
      "text/plain": [
       "<Figure size 216x72 with 1 Axes>"
      ]
     },
     "metadata": {
      "needs_background": "light"
     },
     "output_type": "display_data"
    }
   ],
   "source": [
    "sns.palplot(c) "
   ]
  },
  {
   "cell_type": "code",
   "execution_count": 14,
   "metadata": {},
   "outputs": [
    {
     "data": {
      "image/png": "[encoded data removed]",
      "text/plain": [
       "<Figure size 288x72 with 1 Axes>"
      ]
     },
     "metadata": {
      "needs_background": "light"
     },
     "output_type": "display_data"
    }
   ],
   "source": [
    "sns.palplot(sns.color_palette('muted', n_colors = 4))"
   ]
  },
  {
   "cell_type": "code",
   "execution_count": 15,
   "metadata": {},
   "outputs": [
    {
     "data": {
      "image/png": "[encoded data removed]",
      "text/plain": [
       "<Figure size 360x72 with 1 Axes>"
      ]
     },
     "metadata": {
      "needs_background": "light"
     },
     "output_type": "display_data"
    }
   ],
   "source": [
    "sns.palplot(sns.color_palette('dark', n_colors = 5))"
   ]
  },
  {
   "cell_type": "code",
   "execution_count": 16,
   "metadata": {},
   "outputs": [
    {
     "data": {
      "image/png": "[encoded data removed]",
      "text/plain": [
       "<Figure size 432x72 with 1 Axes>"
      ]
     },
     "metadata": {
      "needs_background": "light"
     },
     "output_type": "display_data"
    }
   ],
   "source": [
    "sns.palplot(sns.color_palette('colorblind', n_colors = 6))"
   ]
  },
  {
   "cell_type": "code",
   "execution_count": 20,
   "metadata": {},
   "outputs": [
    {
     "data": {
      "image/png": "[encoded data removed]",
      "text/plain": [
       "<Figure size 504x72 with 1 Axes>"
      ]
     },
     "metadata": {
      "needs_background": "light"
     },
     "output_type": "display_data"
    }
   ],
   "source": [
    "sns.palplot(sns.color_palette('pastel', n_colors = 7))"
   ]
  },
  {
   "cell_type": "code",
   "execution_count": 21,
   "metadata": {},
   "outputs": [
    {
     "data": {
      "image/png": "[encoded data removed]",
      "text/plain": [
       "<Figure size 576x72 with 1 Axes>"
      ]
     },
     "metadata": {
      "needs_background": "light"
     },
     "output_type": "display_data"
    }
   ],
   "source": [
    "sns.palplot(sns.color_palette('bright', n_colors = 8))"
   ]
  },
  {
   "cell_type": "markdown",
   "metadata": {},
   "source": [
    "# Visualize color pallete"
   ]
  },
  {
   "cell_type": "markdown",
   "metadata": {},
   "source": [
    "**`sns.palplot`**"
   ]
  },
  {
   "cell_type": "markdown",
   "metadata": {},
   "source": [
    "```python\n",
    "sns.palplot(pal, size=1)\n",
    "--------------\n",
    "Docstring:\n",
    "Plot the values in a color palette as a horizontal array.\n",
    "\n",
    "Parameters\n",
    "----------\n",
    "pal : sequence of matplotlib colors\n",
    "    colors, i.e. as returned by seaborn.color_palette()\n",
    "size :\n",
    "    scaling factor for size of plot\n",
    "```"
   ]
  },
  {
   "cell_type": "code",
   "execution_count": 29,
   "metadata": {},
   "outputs": [
    {
     "data": {
      "image/png": "[encoded data removed]",
      "text/plain": [
       "<Figure size 216x72 with 1 Axes>"
      ]
     },
     "metadata": {
      "needs_background": "light"
     },
     "output_type": "display_data"
    }
   ],
   "source": [
    "#scale size of plot by 1\n",
    "sns.palplot(sns.color_palette('ocean', n_colors = 3), size = 1)"
   ]
  },
  {
   "cell_type": "code",
   "execution_count": 30,
   "metadata": {},
   "outputs": [
    {
     "data": {
      "image/png": "[encoded data removed]",
      "text/plain": [
       "<Figure size 432x144 with 1 Axes>"
      ]
     },
     "metadata": {
      "needs_background": "light"
     },
     "output_type": "display_data"
    }
   ],
   "source": [
    "#scale size of plot by 2\n",
    "sns.palplot(sns.color_palette('ocean', n_colors = 3), size = 2)"
   ]
  },
  {
   "cell_type": "markdown",
   "metadata": {},
   "source": [
    "# Color palette types"
   ]
  },
  {
   "cell_type": "markdown",
   "metadata": {},
   "source": [
    "* qualitative\n",
    "* sequential\n",
    "* diverging"
   ]
  },
  {
   "cell_type": "markdown",
   "metadata": {},
   "source": [
    "### Qualitative color palette"
   ]
  },
  {
   "cell_type": "markdown",
   "metadata": {},
   "source": [
    "Qualitative or categorical palettes are best suitable to plot the categorical data."
   ]
  },
  {
   "cell_type": "code",
   "execution_count": 34,
   "metadata": {},
   "outputs": [
    {
     "data": {
      "image/png": "[encoded data removed]",
      "text/plain": [
       "<Figure size 720x144 with 1 Axes>"
      ]
     },
     "metadata": {
      "needs_background": "light"
     },
     "output_type": "display_data"
    }
   ],
   "source": [
    "palette = 'dark'\n",
    "sns.palplot(sns.color_palette(palette, n_colors = 5), size = 2)"
   ]
  },
  {
   "cell_type": "markdown",
   "metadata": {},
   "source": [
    "### Sequential color palette"
   ]
  },
  {
   "cell_type": "markdown",
   "metadata": {},
   "source": [
    "Sequential plots are suitable to express the distribution of data ranging from relative lower values to higher values within a range."
   ]
  },
  {
   "cell_type": "code",
   "execution_count": 33,
   "metadata": {},
   "outputs": [
    {
     "data": {
      "image/png": "[encoded data removed]",
      "text/plain": [
       "<Figure size 432x72 with 1 Axes>"
      ]
     },
     "metadata": {
      "needs_background": "light"
     },
     "output_type": "display_data"
    }
   ],
   "source": [
    "palette = 'Greens'\n",
    "sns.palplot(sns.color_palette(palette))"
   ]
  },
  {
   "cell_type": "code",
   "execution_count": 35,
   "metadata": {},
   "outputs": [
    {
     "data": {
      "image/png": "[encoded data removed]",
      "text/plain": [
       "<Figure size 432x72 with 1 Axes>"
      ]
     },
     "metadata": {
      "needs_background": "light"
     },
     "output_type": "display_data"
    }
   ],
   "source": [
    "sns.palplot(sns.color_palette('Reds'))"
   ]
  },
  {
   "cell_type": "markdown",
   "metadata": {},
   "source": [
    "### Diverging color palette"
   ]
  },
  {
   "cell_type": "markdown",
   "metadata": {},
   "source": [
    "Diverging palettes use two different colors. Each color represents variation in the value ranging from a common point in either direction.\n",
    "\n",
    "Assume plotting the data ranging from -1 to 1. The values from -1 to 0 takes one color and 0 to +1 takes another color.\n",
    "\n",
    "By default, the values are centered from zero. You can control it with parameter center by passing a value."
   ]
  },
  {
   "cell_type": "code",
   "execution_count": 37,
   "metadata": {},
   "outputs": [
    {
     "data": {
      "image/png": "[encoded data removed]",
      "text/plain": [
       "<Figure size 360x72 with 1 Axes>"
      ]
     },
     "metadata": {
      "needs_background": "light"
     },
     "output_type": "display_data"
    }
   ],
   "source": [
    "palette = 'BrBG'\n",
    "sns.palplot(sns.color_palette(palette, n_colors = 5))"
   ]
  },
  {
   "cell_type": "markdown",
   "metadata": {},
   "source": [
    "# Setting the default color palette"
   ]
  },
  {
   "cell_type": "markdown",
   "metadata": {},
   "source": [
    "**`sns.set_palette`**"
   ]
  },
  {
   "cell_type": "markdown",
   "metadata": {},
   "source": [
    "```python\n",
    "sns.set_palette(palette, n_colors=None, desat=None, color_codes=False)\n",
    "```"
   ]
  },
  {
   "cell_type": "code",
   "execution_count": 43,
   "metadata": {},
   "outputs": [
    {
     "data": {
      "image/png": "[encoded data removed]",
      "text/plain": [
       "<Figure size 432x288 with 1 Axes>"
      ]
     },
     "metadata": {},
     "output_type": "display_data"
    }
   ],
   "source": [
    "fig = plt.figure()\n",
    "ax = fig.add_axes([0,0,1,1])\n",
    "ax.plot(x, np.sin(x), '--', x, np.cos(x), ':', x, np.tanh(x), '-')\n",
    "\n",
    "sns.set_style('ticks')\n",
    "sns.set_palette('deep', n_colors = 10)"
   ]
  },
  {
   "cell_type": "code",
   "execution_count": null,
   "metadata": {},
   "outputs": [],
   "source": []
  }
 ],
 "metadata": {
  "kernelspec": {
   "display_name": "Python 3",
   "language": "python",
   "name": "python3"
  },
  "language_info": {
   "codemirror_mode": {
    "name": "ipython",
    "version": 3
   },
   "file_extension": ".py",
   "mimetype": "text/x-python",
   "name": "python",
   "nbconvert_exporter": "python",
   "pygments_lexer": "ipython3",
   "version": "3.7.9"
  }
 },
 "nbformat": 4,
 "nbformat_minor": 4
}
