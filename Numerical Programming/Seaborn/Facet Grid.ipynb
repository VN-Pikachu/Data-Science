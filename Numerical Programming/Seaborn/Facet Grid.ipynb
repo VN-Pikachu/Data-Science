{
 "cells": [
  {
   "cell_type": "code",
   "execution_count": 1,
   "metadata": {},
   "outputs": [],
   "source": [
    "import seaborn as sns;sns.set()\n",
    "import numpy as np\n",
    "import matplotlib.pyplot as plt\n",
    "import pandas as pd\n",
    "import os\n",
    "os.chdir(r'C:\\Users\\dell\\PycharmProjects\\MachineLearning\\Pandas\\datasets')"
   ]
  },
  {
   "cell_type": "code",
   "execution_count": 6,
   "metadata": {},
   "outputs": [],
   "source": [
    "from utils import get_attr_names, get_method_names"
   ]
  },
  {
   "cell_type": "code",
   "execution_count": 2,
   "metadata": {},
   "outputs": [
    {
     "data": {
      "text/html": [
       "<div>\n",
       "<style scoped>\n",
       "    .dataframe tbody tr th:only-of-type {\n",
       "        vertical-align: middle;\n",
       "    }\n",
       "\n",
       "    .dataframe tbody tr th {\n",
       "        vertical-align: top;\n",
       "    }\n",
       "\n",
       "    .dataframe thead th {\n",
       "        text-align: right;\n",
       "    }\n",
       "</style>\n",
       "<table border=\"1\" class=\"dataframe\">\n",
       "  <thead>\n",
       "    <tr style=\"text-align: right;\">\n",
       "      <th></th>\n",
       "      <th>total_bill</th>\n",
       "      <th>tip</th>\n",
       "      <th>sex</th>\n",
       "      <th>smoker</th>\n",
       "      <th>day</th>\n",
       "      <th>time</th>\n",
       "      <th>size</th>\n",
       "    </tr>\n",
       "  </thead>\n",
       "  <tbody>\n",
       "    <tr>\n",
       "      <th>0</th>\n",
       "      <td>16.99</td>\n",
       "      <td>1.01</td>\n",
       "      <td>Female</td>\n",
       "      <td>No</td>\n",
       "      <td>Sun</td>\n",
       "      <td>Dinner</td>\n",
       "      <td>2</td>\n",
       "    </tr>\n",
       "    <tr>\n",
       "      <th>1</th>\n",
       "      <td>10.34</td>\n",
       "      <td>1.66</td>\n",
       "      <td>Male</td>\n",
       "      <td>No</td>\n",
       "      <td>Sun</td>\n",
       "      <td>Dinner</td>\n",
       "      <td>3</td>\n",
       "    </tr>\n",
       "    <tr>\n",
       "      <th>2</th>\n",
       "      <td>21.01</td>\n",
       "      <td>3.50</td>\n",
       "      <td>Male</td>\n",
       "      <td>No</td>\n",
       "      <td>Sun</td>\n",
       "      <td>Dinner</td>\n",
       "      <td>3</td>\n",
       "    </tr>\n",
       "    <tr>\n",
       "      <th>3</th>\n",
       "      <td>23.68</td>\n",
       "      <td>3.31</td>\n",
       "      <td>Male</td>\n",
       "      <td>No</td>\n",
       "      <td>Sun</td>\n",
       "      <td>Dinner</td>\n",
       "      <td>2</td>\n",
       "    </tr>\n",
       "    <tr>\n",
       "      <th>4</th>\n",
       "      <td>24.59</td>\n",
       "      <td>3.61</td>\n",
       "      <td>Female</td>\n",
       "      <td>No</td>\n",
       "      <td>Sun</td>\n",
       "      <td>Dinner</td>\n",
       "      <td>4</td>\n",
       "    </tr>\n",
       "  </tbody>\n",
       "</table>\n",
       "</div>"
      ],
      "text/plain": [
       "   total_bill   tip     sex smoker  day    time  size\n",
       "0       16.99  1.01  Female     No  Sun  Dinner     2\n",
       "1       10.34  1.66    Male     No  Sun  Dinner     3\n",
       "2       21.01  3.50    Male     No  Sun  Dinner     3\n",
       "3       23.68  3.31    Male     No  Sun  Dinner     2\n",
       "4       24.59  3.61  Female     No  Sun  Dinner     4"
      ]
     },
     "execution_count": 2,
     "metadata": {},
     "output_type": "execute_result"
    }
   ],
   "source": [
    "tips = pd.read_csv('./tips.csv', index_col = 0)\n",
    "tips.head()"
   ]
  },
  {
   "cell_type": "markdown",
   "metadata": {},
   "source": [
    "# Create a FacetGrid"
   ]
  },
  {
   "cell_type": "markdown",
   "metadata": {},
   "source": [
    "Drawing multiple instances of the same plot(e.g: histogram) on different subsets of your dataset. Each subset of data is plotted on a panel (facet)"
   ]
  },
  {
   "cell_type": "markdown",
   "metadata": {},
   "source": [
    "**`FacetGrid`** object takes a dataframe as input and the names of the variables that will form the `row`, `column`, or `hue` dimensions of the grid."
   ]
  },
  {
   "cell_type": "markdown",
   "metadata": {},
   "source": [
    "**`sns.FacetGrid`**"
   ]
  },
  {
   "cell_type": "markdown",
   "metadata": {},
   "source": [
    "```python\n",
    "sns.FacetGrid(\n",
    "    data,\n",
    "    row=None,\n",
    "    col=None,\n",
    "    hue=None,\n",
    "    col_wrap=None,\n",
    "    sharex=True,\n",
    "    sharey=True,\n",
    "    height=3,\n",
    "    aspect=1,\n",
    "    palette=None,\n",
    "    row_order=None,\n",
    "    col_order=None,\n",
    "    hue_order=None,\n",
    "    hue_kws=None,\n",
    "    dropna=True,\n",
    "    legend_out=True,\n",
    "    despine=True,\n",
    "    margin_titles=False,\n",
    "    xlim=None,\n",
    "    ylim=None,\n",
    "    subplot_kws=None,\n",
    "    gridspec_kws=None,\n",
    "    size=None,\n",
    ")\n",
    "```"
   ]
  },
  {
   "cell_type": "code",
   "execution_count": 3,
   "metadata": {},
   "outputs": [
    {
     "name": "stdout",
     "output_type": "stream",
     "text": [
      "Help on class FacetGrid in module seaborn.axisgrid:\n",
      "\n",
      "class FacetGrid(Grid)\n",
      " |  FacetGrid(data, row=None, col=None, hue=None, col_wrap=None, sharex=True, sharey=True, height=3, aspect=1, palette=None, row_order=None, col_order=None, hue_order=None, hue_kws=None, dropna=True, legend_out=True, despine=True, margin_titles=False, xlim=None, ylim=None, subplot_kws=None, gridspec_kws=None, size=None)\n",
      " |  \n",
      " |  Multi-plot grid for plotting conditional relationships.\n",
      " |  \n",
      " |  Method resolution order:\n",
      " |      FacetGrid\n",
      " |      Grid\n",
      " |      builtins.object\n",
      " |  \n",
      " |  Methods defined here:\n",
      " |  \n",
      " |  __init__(self, data, row=None, col=None, hue=None, col_wrap=None, sharex=True, sharey=True, height=3, aspect=1, palette=None, row_order=None, col_order=None, hue_order=None, hue_kws=None, dropna=True, legend_out=True, despine=True, margin_titles=False, xlim=None, ylim=None, subplot_kws=None, gridspec_kws=None, size=None)\n",
      " |      Initialize the matplotlib figure and FacetGrid object.\n",
      " |      \n",
      " |      This class maps a dataset onto multiple axes arrayed in a grid of rows\n",
      " |      and columns that correspond to *levels* of variables in the dataset.\n",
      " |      The plots it produces are often called \"lattice\", \"trellis\", or\n",
      " |      \"small-multiple\" graphics.\n",
      " |      \n",
      " |      It can also represent levels of a third varaible with the ``hue``\n",
      " |      parameter, which plots different subets of data in different colors.\n",
      " |      This uses color to resolve elements on a third dimension, but only\n",
      " |      draws subsets on top of each other and will not tailor the ``hue``\n",
      " |      parameter for the specific visualization the way that axes-level\n",
      " |      functions that accept ``hue`` will.\n",
      " |      \n",
      " |      When using seaborn functions that infer semantic mappings from a\n",
      " |      dataset, care must be taken to synchronize those mappings across\n",
      " |      facets. In most cases, it will be better to use a figure-level function\n",
      " |      (e.g. :func:`relplot` or :func:`catplot`) than to use\n",
      " |      :class:`FacetGrid` directly.\n",
      " |      \n",
      " |      The basic workflow is to initialize the :class:`FacetGrid` object with\n",
      " |      the dataset and the variables that are used to structure the grid. Then\n",
      " |      one or more plotting functions can be applied to each subset by calling\n",
      " |      :meth:`FacetGrid.map` or :meth:`FacetGrid.map_dataframe`. Finally, the\n",
      " |      plot can be tweaked with other methods to do things like change the\n",
      " |      axis labels, use different ticks, or add a legend. See the detailed\n",
      " |      code examples below for more information.\n",
      " |      \n",
      " |      See the :ref:`tutorial <grid_tutorial>` for more information.\n",
      " |      \n",
      " |      Parameters\n",
      " |      ----------\n",
      " |      data : DataFrame\n",
      " |          Tidy (\"long-form\") dataframe where each column is a variable and each\n",
      " |          row is an observation.    \n",
      " |      row, col, hue : strings\n",
      " |          Variables that define subsets of the data, which will be drawn on\n",
      " |          separate facets in the grid. See the ``*_order`` parameters to\n",
      " |          control the order of levels of this variable.\n",
      " |      col_wrap : int, optional\n",
      " |          \"Wrap\" the column variable at this width, so that the column facets\n",
      " |          span multiple rows. Incompatible with a ``row`` facet.    \n",
      " |      share{x,y} : bool, 'col', or 'row' optional\n",
      " |          If true, the facets will share y axes across columns and/or x axes\n",
      " |          across rows.    \n",
      " |      height : scalar, optional\n",
      " |          Height (in inches) of each facet. See also: ``aspect``.    \n",
      " |      aspect : scalar, optional\n",
      " |          Aspect ratio of each facet, so that ``aspect * height`` gives the width\n",
      " |          of each facet in inches.    \n",
      " |      palette : palette name, list, or dict, optional\n",
      " |          Colors to use for the different levels of the ``hue`` variable. Should\n",
      " |          be something that can be interpreted by :func:`color_palette`, or a\n",
      " |          dictionary mapping hue levels to matplotlib colors.    \n",
      " |      {row,col,hue}_order : lists, optional\n",
      " |          Order for the levels of the faceting variables. By default, this\n",
      " |          will be the order that the levels appear in ``data`` or, if the\n",
      " |          variables are pandas categoricals, the category order.\n",
      " |      hue_kws : dictionary of param -> list of values mapping\n",
      " |          Other keyword arguments to insert into the plotting call to let\n",
      " |          other plot attributes vary across levels of the hue variable (e.g.\n",
      " |          the markers in a scatterplot).\n",
      " |      legend_out : bool, optional\n",
      " |          If ``True``, the figure size will be extended, and the legend will be\n",
      " |          drawn outside the plot on the center right.    \n",
      " |      despine : boolean, optional\n",
      " |          Remove the top and right spines from the plots.\n",
      " |      margin_titles : bool, optional\n",
      " |          If ``True``, the titles for the row variable are drawn to the right of\n",
      " |          the last column. This option is experimental and may not work in all\n",
      " |          cases.    \n",
      " |      {x, y}lim: tuples, optional\n",
      " |          Limits for each of the axes on each facet (only relevant when\n",
      " |          share{x, y} is True.\n",
      " |      subplot_kws : dict, optional\n",
      " |          Dictionary of keyword arguments passed to matplotlib subplot(s)\n",
      " |          methods.\n",
      " |      gridspec_kws : dict, optional\n",
      " |          Dictionary of keyword arguments passed to matplotlib's ``gridspec``\n",
      " |          module (via ``plt.subplots``). Requires matplotlib >= 1.4 and is\n",
      " |          ignored if ``col_wrap`` is not ``None``.\n",
      " |      \n",
      " |      See Also\n",
      " |      --------\n",
      " |      PairGrid : Subplot grid for plotting pairwise relationships.\n",
      " |      relplot : Combine a relational plot and a :class:`FacetGrid`.\n",
      " |      catplot : Combine a categorical plot and a :class:`FacetGrid`.\n",
      " |      lmplot : Combine a regression plot and a :class:`FacetGrid`.\n",
      " |      \n",
      " |      Examples\n",
      " |      --------\n",
      " |      \n",
      " |      Initialize a 2x2 grid of facets using the tips dataset:\n",
      " |      \n",
      " |      .. plot::\n",
      " |          :context: close-figs\n",
      " |      \n",
      " |          >>> import seaborn as sns; sns.set(style=\"ticks\", color_codes=True)\n",
      " |          >>> tips = sns.load_dataset(\"tips\")\n",
      " |          >>> g = sns.FacetGrid(tips, col=\"time\", row=\"smoker\")\n",
      " |      \n",
      " |      Draw a univariate plot on each facet:\n",
      " |      \n",
      " |      .. plot::\n",
      " |          :context: close-figs\n",
      " |      \n",
      " |          >>> import matplotlib.pyplot as plt\n",
      " |          >>> g = sns.FacetGrid(tips, col=\"time\",  row=\"smoker\")\n",
      " |          >>> g = g.map(plt.hist, \"total_bill\")\n",
      " |      \n",
      " |      (Note that it's not necessary to re-catch the returned variable; it's\n",
      " |      the same object, but doing so in the examples makes dealing with the\n",
      " |      doctests somewhat less annoying).\n",
      " |      \n",
      " |      Pass additional keyword arguments to the mapped function:\n",
      " |      \n",
      " |      .. plot::\n",
      " |          :context: close-figs\n",
      " |      \n",
      " |          >>> import numpy as np\n",
      " |          >>> bins = np.arange(0, 65, 5)\n",
      " |          >>> g = sns.FacetGrid(tips, col=\"time\",  row=\"smoker\")\n",
      " |          >>> g = g.map(plt.hist, \"total_bill\", bins=bins, color=\"r\")\n",
      " |      \n",
      " |      Plot a bivariate function on each facet:\n",
      " |      \n",
      " |      .. plot::\n",
      " |          :context: close-figs\n",
      " |      \n",
      " |          >>> g = sns.FacetGrid(tips, col=\"time\",  row=\"smoker\")\n",
      " |          >>> g = g.map(plt.scatter, \"total_bill\", \"tip\", edgecolor=\"w\")\n",
      " |      \n",
      " |      Assign one of the variables to the color of the plot elements:\n",
      " |      \n",
      " |      .. plot::\n",
      " |          :context: close-figs\n",
      " |      \n",
      " |          >>> g = sns.FacetGrid(tips, col=\"time\",  hue=\"smoker\")\n",
      " |          >>> g = (g.map(plt.scatter, \"total_bill\", \"tip\", edgecolor=\"w\")\n",
      " |          ...       .add_legend())\n",
      " |      \n",
      " |      Change the height and aspect ratio of each facet:\n",
      " |      \n",
      " |      .. plot::\n",
      " |          :context: close-figs\n",
      " |      \n",
      " |          >>> g = sns.FacetGrid(tips, col=\"day\", height=4, aspect=.5)\n",
      " |          >>> g = g.map(plt.hist, \"total_bill\", bins=bins)\n",
      " |      \n",
      " |      Specify the order for plot elements:\n",
      " |      \n",
      " |      .. plot::\n",
      " |          :context: close-figs\n",
      " |      \n",
      " |          >>> g = sns.FacetGrid(tips, col=\"smoker\", col_order=[\"Yes\", \"No\"])\n",
      " |          >>> g = g.map(plt.hist, \"total_bill\", bins=bins, color=\"m\")\n",
      " |      \n",
      " |      Use a different color palette:\n",
      " |      \n",
      " |      .. plot::\n",
      " |          :context: close-figs\n",
      " |      \n",
      " |          >>> kws = dict(s=50, linewidth=.5, edgecolor=\"w\")\n",
      " |          >>> g = sns.FacetGrid(tips, col=\"sex\", hue=\"time\", palette=\"Set1\",\n",
      " |          ...                   hue_order=[\"Dinner\", \"Lunch\"])\n",
      " |          >>> g = (g.map(plt.scatter, \"total_bill\", \"tip\", **kws)\n",
      " |          ...      .add_legend())\n",
      " |      \n",
      " |      Use a dictionary mapping hue levels to colors:\n",
      " |      \n",
      " |      .. plot::\n",
      " |          :context: close-figs\n",
      " |      \n",
      " |          >>> pal = dict(Lunch=\"seagreen\", Dinner=\"gray\")\n",
      " |          >>> g = sns.FacetGrid(tips, col=\"sex\", hue=\"time\", palette=pal,\n",
      " |          ...                   hue_order=[\"Dinner\", \"Lunch\"])\n",
      " |          >>> g = (g.map(plt.scatter, \"total_bill\", \"tip\", **kws)\n",
      " |          ...      .add_legend())\n",
      " |      \n",
      " |      Additionally use a different marker for the hue levels:\n",
      " |      \n",
      " |      .. plot::\n",
      " |          :context: close-figs\n",
      " |      \n",
      " |          >>> g = sns.FacetGrid(tips, col=\"sex\", hue=\"time\", palette=pal,\n",
      " |          ...                   hue_order=[\"Dinner\", \"Lunch\"],\n",
      " |          ...                   hue_kws=dict(marker=[\"^\", \"v\"]))\n",
      " |          >>> g = (g.map(plt.scatter, \"total_bill\", \"tip\", **kws)\n",
      " |          ...      .add_legend())\n",
      " |      \n",
      " |      \"Wrap\" a column variable with many levels into the rows:\n",
      " |      \n",
      " |      .. plot::\n",
      " |          :context: close-figs\n",
      " |      \n",
      " |          >>> att = sns.load_dataset(\"attention\")\n",
      " |          >>> g = sns.FacetGrid(att, col=\"subject\", col_wrap=5, height=1.5)\n",
      " |          >>> g = g.map(plt.plot, \"solutions\", \"score\", marker=\".\")\n",
      " |      \n",
      " |      Define a custom bivariate function to map onto the grid:\n",
      " |      \n",
      " |      .. plot::\n",
      " |          :context: close-figs\n",
      " |      \n",
      " |          >>> from scipy import stats\n",
      " |          >>> def qqplot(x, y, **kwargs):\n",
      " |          ...     _, xr = stats.probplot(x, fit=False)\n",
      " |          ...     _, yr = stats.probplot(y, fit=False)\n",
      " |          ...     plt.scatter(xr, yr, **kwargs)\n",
      " |          >>> g = sns.FacetGrid(tips, col=\"smoker\", hue=\"sex\")\n",
      " |          >>> g = (g.map(qqplot, \"total_bill\", \"tip\", **kws)\n",
      " |          ...       .add_legend())\n",
      " |      \n",
      " |      Define a custom function that uses a ``DataFrame`` object and accepts\n",
      " |      column names as positional variables:\n",
      " |      \n",
      " |      .. plot::\n",
      " |          :context: close-figs\n",
      " |      \n",
      " |          >>> import pandas as pd\n",
      " |          >>> df = pd.DataFrame(\n",
      " |          ...     data=np.random.randn(90, 4),\n",
      " |          ...     columns=pd.Series(list(\"ABCD\"), name=\"walk\"),\n",
      " |          ...     index=pd.date_range(\"2015-01-01\", \"2015-03-31\",\n",
      " |          ...                         name=\"date\"))\n",
      " |          >>> df = df.cumsum(axis=0).stack().reset_index(name=\"val\")\n",
      " |          >>> def dateplot(x, y, **kwargs):\n",
      " |          ...     ax = plt.gca()\n",
      " |          ...     data = kwargs.pop(\"data\")\n",
      " |          ...     data.plot(x=x, y=y, ax=ax, grid=False, **kwargs)\n",
      " |          >>> g = sns.FacetGrid(df, col=\"walk\", col_wrap=2, height=3.5)\n",
      " |          >>> g = g.map_dataframe(dateplot, \"date\", \"val\")\n",
      " |      \n",
      " |      Use different axes labels after plotting:\n",
      " |      \n",
      " |      .. plot::\n",
      " |          :context: close-figs\n",
      " |      \n",
      " |          >>> g = sns.FacetGrid(tips, col=\"smoker\", row=\"sex\")\n",
      " |          >>> g = (g.map(plt.scatter, \"total_bill\", \"tip\", color=\"g\", **kws)\n",
      " |          ...       .set_axis_labels(\"Total bill (US Dollars)\", \"Tip\"))\n",
      " |      \n",
      " |      Set other attributes that are shared across the facetes:\n",
      " |      \n",
      " |      .. plot::\n",
      " |          :context: close-figs\n",
      " |      \n",
      " |          >>> g = sns.FacetGrid(tips, col=\"smoker\", row=\"sex\")\n",
      " |          >>> g = (g.map(plt.scatter, \"total_bill\", \"tip\", color=\"r\", **kws)\n",
      " |          ...       .set(xlim=(0, 60), ylim=(0, 12),\n",
      " |          ...            xticks=[10, 30, 50], yticks=[2, 6, 10]))\n",
      " |      \n",
      " |      Use a different template for the facet titles:\n",
      " |      \n",
      " |      .. plot::\n",
      " |          :context: close-figs\n",
      " |      \n",
      " |          >>> g = sns.FacetGrid(tips, col=\"size\", col_wrap=3)\n",
      " |          >>> g = (g.map(plt.hist, \"tip\", bins=np.arange(0, 13), color=\"c\")\n",
      " |          ...       .set_titles(\"{col_name} diners\"))\n",
      " |      \n",
      " |      Tighten the facets:\n",
      " |      \n",
      " |      .. plot::\n",
      " |          :context: close-figs\n",
      " |      \n",
      " |          >>> g = sns.FacetGrid(tips, col=\"smoker\", row=\"sex\",\n",
      " |          ...                   margin_titles=True)\n",
      " |          >>> g = (g.map(plt.scatter, \"total_bill\", \"tip\", color=\"m\", **kws)\n",
      " |          ...       .set(xlim=(0, 60), ylim=(0, 12),\n",
      " |          ...            xticks=[10, 30, 50], yticks=[2, 6, 10])\n",
      " |          ...       .fig.subplots_adjust(wspace=.05, hspace=.05))\n",
      " |  \n",
      " |  despine(self, **kwargs)\n",
      " |      Remove axis spines from the facets.\n",
      " |  \n",
      " |  facet_axis(self, row_i, col_j)\n",
      " |      Make the axis identified by these indices active and return it.\n",
      " |  \n",
      " |  facet_data(self)\n",
      " |      Generator for name indices and data subsets for each facet.\n",
      " |      \n",
      " |      Yields\n",
      " |      ------\n",
      " |      (i, j, k), data_ijk : tuple of ints, DataFrame\n",
      " |          The ints provide an index into the {row, col, hue}_names attribute,\n",
      " |          and the dataframe contains a subset of the full data corresponding\n",
      " |          to each facet. The generator yields subsets that correspond with\n",
      " |          the self.axes.flat iterator, or self.axes[i, j] when `col_wrap`\n",
      " |          is None.\n",
      " |  \n",
      " |  map(self, func, *args, **kwargs)\n",
      " |      Apply a plotting function to each facet's subset of the data.\n",
      " |      \n",
      " |      Parameters\n",
      " |      ----------\n",
      " |      func : callable\n",
      " |          A plotting function that takes data and keyword arguments. It\n",
      " |          must plot to the currently active matplotlib Axes and take a\n",
      " |          `color` keyword argument. If faceting on the `hue` dimension,\n",
      " |          it must also take a `label` keyword argument.\n",
      " |      args : strings\n",
      " |          Column names in self.data that identify variables with data to\n",
      " |          plot. The data for each variable is passed to `func` in the\n",
      " |          order the variables are specified in the call.\n",
      " |      kwargs : keyword arguments\n",
      " |          All keyword arguments are passed to the plotting function.\n",
      " |      \n",
      " |      Returns\n",
      " |      -------\n",
      " |      self : object\n",
      " |          Returns self.\n",
      " |  \n",
      " |  map_dataframe(self, func, *args, **kwargs)\n",
      " |      Like ``.map`` but passes args as strings and inserts data in kwargs.\n",
      " |      \n",
      " |      This method is suitable for plotting with functions that accept a\n",
      " |      long-form DataFrame as a `data` keyword argument and access the\n",
      " |      data in that DataFrame using string variable names.\n",
      " |      \n",
      " |      Parameters\n",
      " |      ----------\n",
      " |      func : callable\n",
      " |          A plotting function that takes data and keyword arguments. Unlike\n",
      " |          the `map` method, a function used here must \"understand\" Pandas\n",
      " |          objects. It also must plot to the currently active matplotlib Axes\n",
      " |          and take a `color` keyword argument. If faceting on the `hue`\n",
      " |          dimension, it must also take a `label` keyword argument.\n",
      " |      args : strings\n",
      " |          Column names in self.data that identify variables with data to\n",
      " |          plot. The data for each variable is passed to `func` in the\n",
      " |          order the variables are specified in the call.\n",
      " |      kwargs : keyword arguments\n",
      " |          All keyword arguments are passed to the plotting function.\n",
      " |      \n",
      " |      Returns\n",
      " |      -------\n",
      " |      self : object\n",
      " |          Returns self.\n",
      " |  \n",
      " |  set_axis_labels(self, x_var=None, y_var=None)\n",
      " |      Set axis labels on the left column and bottom row of the grid.\n",
      " |  \n",
      " |  set_titles(self, template=None, row_template=None, col_template=None, **kwargs)\n",
      " |      Draw titles either above each facet or on the grid margins.\n",
      " |      \n",
      " |      Parameters\n",
      " |      ----------\n",
      " |      template : string\n",
      " |          Template for all titles with the formatting keys {col_var} and\n",
      " |          {col_name} (if using a `col` faceting variable) and/or {row_var}\n",
      " |          and {row_name} (if using a `row` faceting variable).\n",
      " |      row_template:\n",
      " |          Template for the row variable when titles are drawn on the grid\n",
      " |          margins. Must have {row_var} and {row_name} formatting keys.\n",
      " |      col_template:\n",
      " |          Template for the row variable when titles are drawn on the grid\n",
      " |          margins. Must have {col_var} and {col_name} formatting keys.\n",
      " |      \n",
      " |      Returns\n",
      " |      -------\n",
      " |      self: object\n",
      " |          Returns self.\n",
      " |  \n",
      " |  set_xlabels(self, label=None, **kwargs)\n",
      " |      Label the x axis on the bottom row of the grid.\n",
      " |  \n",
      " |  set_xticklabels(self, labels=None, step=None, **kwargs)\n",
      " |      Set x axis tick labels on the bottom row of the grid.\n",
      " |  \n",
      " |  set_ylabels(self, label=None, **kwargs)\n",
      " |      Label the y axis on the left column of the grid.\n",
      " |  \n",
      " |  set_yticklabels(self, labels=None, **kwargs)\n",
      " |      Set y axis tick labels on the left column of the grid.\n",
      " |  \n",
      " |  ----------------------------------------------------------------------\n",
      " |  Data descriptors defined here:\n",
      " |  \n",
      " |  ax\n",
      " |      Easy access to single axes.\n",
      " |  \n",
      " |  ----------------------------------------------------------------------\n",
      " |  Methods inherited from Grid:\n",
      " |  \n",
      " |  add_legend(self, legend_data=None, title=None, label_order=None, **kwargs)\n",
      " |      Draw a legend, maybe placing it outside axes and resizing the figure.\n",
      " |      \n",
      " |      Parameters\n",
      " |      ----------\n",
      " |      legend_data : dict, optional\n",
      " |          Dictionary mapping label names to matplotlib artist handles. The\n",
      " |          default reads from ``self._legend_data``.\n",
      " |      title : string, optional\n",
      " |          Title for the legend. The default reads from ``self._hue_var``.\n",
      " |      label_order : list of labels, optional\n",
      " |          The order that the legend entries should appear in. The default\n",
      " |          reads from ``self.hue_names``.\n",
      " |      kwargs : key, value pairings\n",
      " |          Other keyword arguments are passed to the underlying legend methods\n",
      " |          on the Figure or Axes object.\n",
      " |      \n",
      " |      Returns\n",
      " |      -------\n",
      " |      self : Grid instance\n",
      " |          Returns self for easy chaining.\n",
      " |  \n",
      " |  savefig(self, *args, **kwargs)\n",
      " |      Save the figure.\n",
      " |  \n",
      " |  set(self, **kwargs)\n",
      " |      Set attributes on each subplot Axes.\n",
      " |  \n",
      " |  ----------------------------------------------------------------------\n",
      " |  Data descriptors inherited from Grid:\n",
      " |  \n",
      " |  __dict__\n",
      " |      dictionary for instance variables (if defined)\n",
      " |  \n",
      " |  __weakref__\n",
      " |      list of weak references to the object (if defined)\n",
      "\n"
     ]
    }
   ],
   "source": [
    "help(sns.FacetGrid)"
   ]
  },
  {
   "cell_type": "code",
   "execution_count": 7,
   "metadata": {},
   "outputs": [
    {
     "data": {
      "text/plain": [
       "<seaborn.axisgrid.FacetGrid at 0x253e0059860>"
      ]
     },
     "execution_count": 7,
     "metadata": {},
     "output_type": "execute_result"
    },
    {
     "data": {
      "image/png": "[encoded data removed]",
      "text/plain": [
       "<Figure size 432x864 with 8 Axes>"
      ]
     },
     "metadata": {
      "needs_background": "light"
     },
     "output_type": "display_data"
    }
   ],
   "source": [
    "facet = sns.FacetGrid(hue = 'smoker', row = 'day', col = 'time', data = tips)\n",
    "facet"
   ]
  },
  {
   "cell_type": "markdown",
   "metadata": {},
   "source": [
    "**`FacetGrid.map`**"
   ]
  },
  {
   "cell_type": "markdown",
   "metadata": {},
   "source": [
    "```python\n",
    "facet.map(func, *args, **kwargs)\n",
    "----------\n",
    "Docstring:\n",
    "Apply a plotting function to each facet's subset of the data.\n",
    "\n",
    "Parameters\n",
    "----------\n",
    "func : callable\n",
    "    A plotting function that takes data and keyword arguments. It\n",
    "    must plot to the currently active matplotlib Axes and take a\n",
    "    `color` keyword argument. If faceting on the `hue` dimension,\n",
    "    it must also take a `label` keyword argument.\n",
    "args : strings\n",
    "    Column names in self.data that identify variables with data to\n",
    "    plot. The data for each variable is passed to `func` in the\n",
    "    order the variables are specified in the call.\n",
    "kwargs : keyword arguments\n",
    "    All keyword arguments are passed to the plotting function.\n",
    "\n",
    "Returns\n",
    "-------\n",
    "self : object\n",
    "    Returns self.\n",
    "```"
   ]
  },
  {
   "cell_type": "markdown",
   "metadata": {},
   "source": [
    "pass strings as arguments to **`facet.map`** to specify the **column names** of **`self.data`** used to plot data  \n",
    "pass spread dict(e.g: `color = 'teal'`) to **`facet.map`** to specify the keyword arguments for the plotting function (e.g: **`plt.hist`**)"
   ]
  },
  {
   "cell_type": "code",
   "execution_count": 37,
   "metadata": {},
   "outputs": [
    {
     "data": {
      "text/plain": [
       "<seaborn.axisgrid.FacetGrid at 0x253e2be2ac8>"
      ]
     },
     "execution_count": 37,
     "metadata": {},
     "output_type": "execute_result"
    },
    {
     "data": {
      "image/png": "[encoded data removed]",
      "text/plain": [
       "<Figure size 432x216 with 2 Axes>"
      ]
     },
     "metadata": {
      "needs_background": "light"
     },
     "output_type": "display_data"
    }
   ],
   "source": [
    "facet = sns.FacetGrid(col = 'sex', data = tips)\n",
    "facet.map(plt.hist, 'total_bill', bins = 20, color = 'teal')\n",
    "#equivalent: facet.map(plt.hist, x = tips['total_bill'], color = 'teal')"
   ]
  },
  {
   "cell_type": "code",
   "execution_count": 38,
   "metadata": {},
   "outputs": [
    {
     "data": {
      "text/plain": [
       "<seaborn.axisgrid.FacetGrid at 0x253e3303240>"
      ]
     },
     "execution_count": 38,
     "metadata": {},
     "output_type": "execute_result"
    },
    {
     "data": {
      "image/png": "[encoded data removed]",
      "text/plain": [
       "<Figure size 494.35x432 with 4 Axes>"
      ]
     },
     "metadata": {
      "needs_background": "light"
     },
     "output_type": "display_data"
    }
   ],
   "source": [
    "facet = sns.FacetGrid(col = 'sex', row = 'smoker', data = tips, hue = 'day')\n",
    "grid = facet.map(plt.scatter, 'total_bill', 'tip')\n",
    "grid.add_legend()\n",
    "grid.set(fc = 'teal') #set parameters for Axes"
   ]
  },
  {
   "cell_type": "code",
   "execution_count": 41,
   "metadata": {},
   "outputs": [
    {
     "data": {
      "image/png": "[encoded data removed]",
      "text/plain": [
       "<Figure size 504.225x216 with 2 Axes>"
      ]
     },
     "metadata": {
      "needs_background": "light"
     },
     "output_type": "display_data"
    }
   ],
   "source": [
    "#use different markers for hue level\n",
    "g = sns.FacetGrid(tips, col=\"sex\", hue=\"time\", palette='husl',\n",
    "                   hue_order=[\"Dinner\", \"Lunch\"],\n",
    "                   hue_kws=dict(marker=[\"^\", \"v\"]))\n",
    "g = (g.map(plt.scatter, \"total_bill\", \"tip\").add_legend())"
   ]
  },
  {
   "cell_type": "markdown",
   "metadata": {},
   "source": [
    "# Methods for `sns.FacetGrid() object`"
   ]
  },
  {
   "cell_type": "markdown",
   "metadata": {},
   "source": [
    "Read **`help(sns.FacetGrid)`**"
   ]
  },
  {
   "cell_type": "code",
   "execution_count": 10,
   "metadata": {},
   "outputs": [
    {
     "data": {
      "text/plain": [
       "<seaborn.axisgrid.FacetGrid at 0x214bfe4f9b0>"
      ]
     },
     "execution_count": 10,
     "metadata": {},
     "output_type": "execute_result"
    },
    {
     "data": {
      "image/png": "[encoded data removed]",
      "text/plain": [
       "<Figure size 432x432 with 4 Axes>"
      ]
     },
     "metadata": {
      "needs_background": "light"
     },
     "output_type": "display_data"
    }
   ],
   "source": [
    "facet = sns.FacetGrid(col = 'day', col_wrap = 2, data = tips, row_order = ('Thur', 'Fri', 'Sat', 'Sun'))\n",
    "facet.map(plt.hist, 'total_bill')"
   ]
  },
  {
   "cell_type": "markdown",
   "metadata": {},
   "source": [
    "## Attributes"
   ]
  },
  {
   "cell_type": "code",
   "execution_count": 14,
   "metadata": {},
   "outputs": [
    {
     "data": {
      "text/plain": [
       "['__class__',\n",
       " '__delattr__',\n",
       " '__dict__',\n",
       " '__dir__',\n",
       " '__doc__',\n",
       " '__eq__',\n",
       " '__format__',\n",
       " '__ge__',\n",
       " '__getattribute__',\n",
       " '__gt__',\n",
       " '__hash__',\n",
       " '__init__',\n",
       " '__init_subclass__',\n",
       " '__le__',\n",
       " '__lt__',\n",
       " '__module__',\n",
       " '__ne__',\n",
       " '__new__',\n",
       " '__reduce__',\n",
       " '__reduce_ex__',\n",
       " '__repr__',\n",
       " '__setattr__',\n",
       " '__sizeof__',\n",
       " '__str__',\n",
       " '__subclasshook__',\n",
       " '__weakref__',\n",
       " '_bottom_axes',\n",
       " '_clean_axis',\n",
       " '_col_var',\n",
       " '_col_wrap',\n",
       " '_colors',\n",
       " '_dropna',\n",
       " '_facet_color',\n",
       " '_facet_plot',\n",
       " '_finalize_grid',\n",
       " '_get_palette',\n",
       " '_hue_var',\n",
       " '_inner_axes',\n",
       " '_left_axes',\n",
       " '_legend',\n",
       " '_legend_data',\n",
       " '_legend_out',\n",
       " '_margin_titles',\n",
       " '_n_facets',\n",
       " '_ncol',\n",
       " '_not_bottom_axes',\n",
       " '_not_left_axes',\n",
       " '_not_na',\n",
       " '_nrow',\n",
       " '_row_var',\n",
       " '_update_legend_data',\n",
       " '_x_var',\n",
       " '_y_var',\n",
       " 'add_legend',\n",
       " 'ax',\n",
       " 'axes',\n",
       " 'col_names',\n",
       " 'data',\n",
       " 'despine',\n",
       " 'facet_axis',\n",
       " 'facet_data',\n",
       " 'fig',\n",
       " 'hue_kws',\n",
       " 'hue_names',\n",
       " 'map',\n",
       " 'map_dataframe',\n",
       " 'row_names',\n",
       " 'savefig',\n",
       " 'set',\n",
       " 'set_axis_labels',\n",
       " 'set_titles',\n",
       " 'set_xlabels',\n",
       " 'set_xticklabels',\n",
       " 'set_ylabels',\n",
       " 'set_yticklabels']"
      ]
     },
     "execution_count": 14,
     "metadata": {},
     "output_type": "execute_result"
    }
   ],
   "source": [
    "dir(facet)"
   ]
  },
  {
   "cell_type": "markdown",
   "metadata": {},
   "source": [
    "The current figure "
   ]
  },
  {
   "cell_type": "code",
   "execution_count": 26,
   "metadata": {},
   "outputs": [
    {
     "data": {
      "image/png": "[encoded data removed]",
      "text/plain": [
       "<Figure size 648x432 with 6 Axes>"
      ]
     },
     "execution_count": 26,
     "metadata": {},
     "output_type": "execute_result"
    }
   ],
   "source": [
    "g.fig"
   ]
  },
  {
   "cell_type": "markdown",
   "metadata": {},
   "source": [
    "Get axes of the facet"
   ]
  },
  {
   "cell_type": "code",
   "execution_count": 16,
   "metadata": {},
   "outputs": [
    {
     "data": {
      "text/plain": [
       "array([<matplotlib.axes._subplots.AxesSubplot object at 0x00000214BFE4FB70>,\n",
       "       <matplotlib.axes._subplots.AxesSubplot object at 0x00000214BFEA11D0>,\n",
       "       <matplotlib.axes._subplots.AxesSubplot object at 0x00000214BFEC4860>,\n",
       "       <matplotlib.axes._subplots.AxesSubplot object at 0x00000214BFEF2EF0>],\n",
       "      dtype=object)"
      ]
     },
     "execution_count": 16,
     "metadata": {},
     "output_type": "execute_result"
    }
   ],
   "source": [
    "facet.axes"
   ]
  },
  {
   "cell_type": "markdown",
   "metadata": {},
   "source": [
    "Get the column names"
   ]
  },
  {
   "cell_type": "code",
   "execution_count": 20,
   "metadata": {},
   "outputs": [
    {
     "data": {
      "text/plain": [
       "['Sun', 'Sat', 'Thur', 'Fri']"
      ]
     },
     "execution_count": 20,
     "metadata": {},
     "output_type": "execute_result"
    }
   ],
   "source": [
    "facet.col_names"
   ]
  },
  {
   "cell_type": "markdown",
   "metadata": {},
   "source": [
    "The data used to generate FacetGrid"
   ]
  },
  {
   "cell_type": "code",
   "execution_count": 22,
   "metadata": {},
   "outputs": [],
   "source": [
    "pd.set_option('display.max_rows', 5)"
   ]
  },
  {
   "cell_type": "code",
   "execution_count": 23,
   "metadata": {},
   "outputs": [
    {
     "data": {
      "text/html": [
       "<div>\n",
       "<style scoped>\n",
       "    .dataframe tbody tr th:only-of-type {\n",
       "        vertical-align: middle;\n",
       "    }\n",
       "\n",
       "    .dataframe tbody tr th {\n",
       "        vertical-align: top;\n",
       "    }\n",
       "\n",
       "    .dataframe thead th {\n",
       "        text-align: right;\n",
       "    }\n",
       "</style>\n",
       "<table border=\"1\" class=\"dataframe\">\n",
       "  <thead>\n",
       "    <tr style=\"text-align: right;\">\n",
       "      <th></th>\n",
       "      <th>total_bill</th>\n",
       "      <th>tip</th>\n",
       "      <th>sex</th>\n",
       "      <th>smoker</th>\n",
       "      <th>day</th>\n",
       "      <th>time</th>\n",
       "      <th>size</th>\n",
       "    </tr>\n",
       "  </thead>\n",
       "  <tbody>\n",
       "    <tr>\n",
       "      <th>0</th>\n",
       "      <td>16.99</td>\n",
       "      <td>1.01</td>\n",
       "      <td>Female</td>\n",
       "      <td>No</td>\n",
       "      <td>Sun</td>\n",
       "      <td>Dinner</td>\n",
       "      <td>2</td>\n",
       "    </tr>\n",
       "    <tr>\n",
       "      <th>1</th>\n",
       "      <td>10.34</td>\n",
       "      <td>1.66</td>\n",
       "      <td>Male</td>\n",
       "      <td>No</td>\n",
       "      <td>Sun</td>\n",
       "      <td>Dinner</td>\n",
       "      <td>3</td>\n",
       "    </tr>\n",
       "    <tr>\n",
       "      <th>...</th>\n",
       "      <td>...</td>\n",
       "      <td>...</td>\n",
       "      <td>...</td>\n",
       "      <td>...</td>\n",
       "      <td>...</td>\n",
       "      <td>...</td>\n",
       "      <td>...</td>\n",
       "    </tr>\n",
       "    <tr>\n",
       "      <th>242</th>\n",
       "      <td>17.82</td>\n",
       "      <td>1.75</td>\n",
       "      <td>Male</td>\n",
       "      <td>No</td>\n",
       "      <td>Sat</td>\n",
       "      <td>Dinner</td>\n",
       "      <td>2</td>\n",
       "    </tr>\n",
       "    <tr>\n",
       "      <th>243</th>\n",
       "      <td>18.78</td>\n",
       "      <td>3.00</td>\n",
       "      <td>Female</td>\n",
       "      <td>No</td>\n",
       "      <td>Thur</td>\n",
       "      <td>Dinner</td>\n",
       "      <td>2</td>\n",
       "    </tr>\n",
       "  </tbody>\n",
       "</table>\n",
       "<p>244 rows × 7 columns</p>\n",
       "</div>"
      ],
      "text/plain": [
       "     total_bill   tip     sex smoker   day    time  size\n",
       "0         16.99  1.01  Female     No   Sun  Dinner     2\n",
       "1         10.34  1.66    Male     No   Sun  Dinner     3\n",
       "..          ...   ...     ...    ...   ...     ...   ...\n",
       "242       17.82  1.75    Male     No   Sat  Dinner     2\n",
       "243       18.78  3.00  Female     No  Thur  Dinner     2\n",
       "\n",
       "[244 rows x 7 columns]"
      ]
     },
     "execution_count": 23,
     "metadata": {},
     "output_type": "execute_result"
    }
   ],
   "source": [
    "facet.data"
   ]
  },
  {
   "cell_type": "markdown",
   "metadata": {},
   "source": [
    "## Methods for `sns.FacetGrid().map()` object"
   ]
  },
  {
   "cell_type": "markdown",
   "metadata": {},
   "source": [
    "Read **`help(sns.FacetGrid)`**"
   ]
  },
  {
   "cell_type": "code",
   "execution_count": 3,
   "metadata": {},
   "outputs": [
    {
     "data": {
      "text/plain": [
       "<seaborn.axisgrid.FacetGrid at 0x214be1a8780>"
      ]
     },
     "execution_count": 3,
     "metadata": {},
     "output_type": "execute_result"
    },
    {
     "data": {
      "image/png": "[encoded data removed]",
      "text/plain": [
       "<Figure size 432x216 with 2 Axes>"
      ]
     },
     "metadata": {
      "needs_background": "light"
     },
     "output_type": "display_data"
    }
   ],
   "source": [
    "\n",
    "facet = sns.FacetGrid(col = 'sex', hue = 'time', palette = 'husl', data = tips)\n",
    "grid = facet.map(plt.scatter, 'total_bill', 'tip', ec = 'k')\n",
    "#use different labels after plotting\n",
    "grid.set_axis_labels('Total bill (USD)', 'Tip (USD)')\n",
    "\n",
    "#Set other attributes that are shared across the facetes:\n",
    "grid.set(fc = 'gold')"
   ]
  },
  {
   "cell_type": "code",
   "execution_count": 4,
   "metadata": {},
   "outputs": [
    {
     "data": {
      "image/png": "[encoded data removed]",
      "text/plain": [
       "<Figure size 648x432 with 6 Axes>"
      ]
     },
     "metadata": {
      "needs_background": "light"
     },
     "output_type": "display_data"
    }
   ],
   "source": [
    "#col_wrap = n --> each row will have n columns\n",
    "facet = sns.FacetGrid(tips, col=\"size\", col_wrap=3)\n",
    "#set different titles for each Panel\n",
    "g = facet.map(plt.hist, \"tip\", bins=np.arange(0, 13), color=\"c\")\n",
    "g.set_titles(\"{col_name} diners\")\n",
    "#Tighten the facets:\n",
    "g.fig.subplots_adjust(wspace = 0.1, hspace = .1)"
   ]
  },
  {
   "cell_type": "code",
   "execution_count": 5,
   "metadata": {},
   "outputs": [
    {
     "data": {
      "text/plain": [
       "['__class__',\n",
       " '__delattr__',\n",
       " '__dict__',\n",
       " '__dir__',\n",
       " '__doc__',\n",
       " '__eq__',\n",
       " '__format__',\n",
       " '__ge__',\n",
       " '__getattribute__',\n",
       " '__gt__',\n",
       " '__hash__',\n",
       " '__init__',\n",
       " '__init_subclass__',\n",
       " '__le__',\n",
       " '__lt__',\n",
       " '__module__',\n",
       " '__ne__',\n",
       " '__new__',\n",
       " '__reduce__',\n",
       " '__reduce_ex__',\n",
       " '__repr__',\n",
       " '__setattr__',\n",
       " '__sizeof__',\n",
       " '__str__',\n",
       " '__subclasshook__',\n",
       " '__weakref__',\n",
       " '_bottom_axes',\n",
       " '_clean_axis',\n",
       " '_col_var',\n",
       " '_col_wrap',\n",
       " '_colors',\n",
       " '_dropna',\n",
       " '_facet_color',\n",
       " '_facet_plot',\n",
       " '_finalize_grid',\n",
       " '_get_palette',\n",
       " '_hue_var',\n",
       " '_inner_axes',\n",
       " '_left_axes',\n",
       " '_legend',\n",
       " '_legend_data',\n",
       " '_legend_out',\n",
       " '_margin_titles',\n",
       " '_n_facets',\n",
       " '_ncol',\n",
       " '_not_bottom_axes',\n",
       " '_not_left_axes',\n",
       " '_not_na',\n",
       " '_nrow',\n",
       " '_row_var',\n",
       " '_update_legend_data',\n",
       " '_x_var',\n",
       " '_y_var',\n",
       " 'add_legend',\n",
       " 'ax',\n",
       " 'axes',\n",
       " 'col_names',\n",
       " 'data',\n",
       " 'despine',\n",
       " 'facet_axis',\n",
       " 'facet_data',\n",
       " 'fig',\n",
       " 'hue_kws',\n",
       " 'hue_names',\n",
       " 'map',\n",
       " 'map_dataframe',\n",
       " 'row_names',\n",
       " 'savefig',\n",
       " 'set',\n",
       " 'set_axis_labels',\n",
       " 'set_titles',\n",
       " 'set_xlabels',\n",
       " 'set_xticklabels',\n",
       " 'set_ylabels',\n",
       " 'set_yticklabels']"
      ]
     },
     "execution_count": 5,
     "metadata": {},
     "output_type": "execute_result"
    }
   ],
   "source": [
    "dir(g)"
   ]
  },
  {
   "cell_type": "markdown",
   "metadata": {},
   "source": [
    "add lenged:\n",
    "```python\n",
    "FacetGrid_object.add_legend()\n",
    "```"
   ]
  },
  {
   "cell_type": "code",
   "execution_count": null,
   "metadata": {},
   "outputs": [],
   "source": []
  }
 ],
 "metadata": {
  "kernelspec": {
   "display_name": "Python 3",
   "language": "python",
   "name": "python3"
  },
  "language_info": {
   "codemirror_mode": {
    "name": "ipython",
    "version": 3
   },
   "file_extension": ".py",
   "mimetype": "text/x-python",
   "name": "python",
   "nbconvert_exporter": "python",
   "pygments_lexer": "ipython3",
   "version": "3.7.9"
  }
 },
 "nbformat": 4,
 "nbformat_minor": 4
}
