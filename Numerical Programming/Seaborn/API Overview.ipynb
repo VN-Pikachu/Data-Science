{
 "cells": [
  {
   "cell_type": "markdown",
   "id": "pointed-selling",
   "metadata": {},
   "source": [
    "<https://seaborn.pydata.org/tutorial/function_overview.html>"
   ]
  },
  {
   "cell_type": "markdown",
   "id": "approximate-collect",
   "metadata": {},
   "source": [
    "# Figure-level vs axes-level functions"
   ]
  },
  {
   "cell_type": "markdown",
   "id": "dutch-bristol",
   "metadata": {},
   "source": [
    " ![](https://seaborn.pydata.org/_images/function_overview_8_0.png)"
   ]
  },
  {
   "cell_type": "code",
   "execution_count": null,
   "id": "difficult-bulgaria",
   "metadata": {},
   "outputs": [],
   "source": []
  }
 ],
 "metadata": {
  "kernelspec": {
   "display_name": "Python 3",
   "language": "python",
   "name": "python3"
  },
  "language_info": {
   "codemirror_mode": {
    "name": "ipython",
    "version": 3
   },
   "file_extension": ".py",
   "mimetype": "text/x-python",
   "name": "python",
   "nbconvert_exporter": "python",
   "pygments_lexer": "ipython3",
   "version": "3.7.9"
  }
 },
 "nbformat": 4,
 "nbformat_minor": 5
}
