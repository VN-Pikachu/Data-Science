{
 "cells": [
  {
   "cell_type": "markdown",
   "metadata": {},
   "source": [
    "<a href = 'https://matplotlib.org/tutorials/intermediate/artists.html#sphx-glr-tutorials-intermediate-artists-py' style='font-size:30px'>matplotlib.org: Artist</a>"
   ]
  },
  {
   "cell_type": "markdown",
   "metadata": {},
   "source": [
    "There are two types of Artists: `primitives` and `containers`.  \n",
    "The primitives represent the standard graphical objects we want to paint onto our canvas: **Line2D**, **Rectangle**, **Text**, **AxesImage**, etc.  \n",
    "The containers are places to put them (**Axis**, **Axes** and **Figure**).  \n",
    "The standard use is to create a **Figure** instance, use the Figure to create one or more **Axes** or **Subplot** instances(**subplot** is a subclass of **Axes**), and use the **Axes** instance helper methods to create the primitives. "
   ]
  },
  {
   "cell_type": "code",
   "execution_count": 1,
   "metadata": {},
   "outputs": [],
   "source": [
    "import matplotlib.pyplot as plt"
   ]
  },
  {
   "cell_type": "code",
   "execution_count": 12,
   "metadata": {},
   "outputs": [],
   "source": [
    "import numpy as np"
   ]
  },
  {
   "cell_type": "markdown",
   "metadata": {},
   "source": [
    "# Customize your object"
   ]
  },
  {
   "cell_type": "markdown",
   "metadata": {},
   "source": [
    "Every element in the figure is represented by a matplotlib **`Artist`**, and each has an extensive list of properties to configure its appearance. "
   ]
  },
  {
   "cell_type": "markdown",
   "metadata": {},
   "source": [
    "```python\n",
    "Each of the properties is accessed with an old-fashioned setter or getter \n",
    "e.g:\n",
    "Artist.get_alpha()\n",
    "Artist.set_alpha(0.5)\n",
    "```"
   ]
  },
  {
   "cell_type": "markdown",
   "metadata": {},
   "source": [
    "```python\n",
    "Set multiple properties:\n",
    "e.g\n",
    "Artist.set(alpha = 0.5, zorder = 2)\n",
    "```"
   ]
  },
  {
   "cell_type": "code",
   "execution_count": 2,
   "metadata": {},
   "outputs": [
    {
     "name": "stdout",
     "output_type": "stream",
     "text": [
      "figure's facecolor: (1.0, 1.0, 1.0, 0.0)\n",
      "Axes's edgecolor (1.0, 1.0, 1.0, 1.0)\n"
     ]
    },
    {
     "data": {
      "image/png": "[encoded data removed]",
      "text/plain": [
       "<Figure size 432x288 with 1 Axes>"
      ]
     },
     "metadata": {},
     "output_type": "display_data"
    }
   ],
   "source": [
    "fig = plt.figure()\n",
    "ax = fig.add_axes([0.25, 0.25, 0.5, 0.5])\n",
    "print('figure\\'s facecolor:', fig.get_facecolor())\n",
    "fig.set_facecolor('teal')\n",
    "print('Axes\\'s edgecolor', ax.get_facecolor())\n",
    "ax.set_facecolor('gold')"
   ]
  },
  {
   "cell_type": "markdown",
   "metadata": {},
   "source": [
    "# Object Container"
   ]
  },
  {
   "cell_type": "markdown",
   "metadata": {},
   "source": [
    "Now that we know how to inspect and set the properties of a given object we want to configure, we need to know how to get at that object. As mentioned in the introduction, there are two kinds of objects: primitives and containers. The primitives are usually the things you want to configure (the font of a `Text` instance, the width of a L`ine2D`) although the containers also have some properties as well -- for example the `Axes` Artist is a container that contains many of the primitives in your plot, but it also has properties like the `xscale` to control whether the xaxis is 'linear' or 'log'. In this section we'll review where the various container objects store the Artists that you want to get at."
   ]
  },
  {
   "cell_type": "markdown",
   "metadata": {},
   "source": [
    "### Figure Container"
   ]
  },
  {
   "cell_type": "markdown",
   "metadata": {},
   "source": [
    "<table>\n",
    "<tr><th>Figure attribute</th><th>\tDescription</th></tr>\n",
    "<tr><td>axes</td><td>\tA list of Axes instances (includes Subplot)</td></tr>\n",
    "<tr><td>patch\t</td><td>The Rectangle background</td></tr>\n",
    "<tr><td>images</td><td>\tA list of FigureImage patches - useful for raw pixel display</td></tr>\n",
    "<tr><td>legends\t</td><td>A list of Figure Legend instances (different from Axes.legends)</td></tr>\n",
    "<tr><td>lines\t</td><td>A list of Figure Line2D instances (rarely used, see Axes.lines)</td></tr>\n",
    "<tr><td>patches</td><td>\tA list of Figure patches (rarely used, see Axes.patches)</td></tr>\n",
    "<tr><td>texts\t</td><td>A list Figure Text instances</td></tr>\n",
    "</table>"
   ]
  },
  {
   "cell_type": "code",
   "execution_count": 13,
   "metadata": {},
   "outputs": [],
   "source": [
    "x = np.linspace(-10, 10, 1000)\n",
    "y = np.sinc(x)"
   ]
  },
  {
   "cell_type": "code",
   "execution_count": 23,
   "metadata": {},
   "outputs": [
    {
     "name": "stdout",
     "output_type": "stream",
     "text": [
      "patch: Rectangle(xy=(0, 0), width=1, height=1, angle=0)\n",
      "Axes container: [<matplotlib.axes._axes.Axes object at 0x0000021C2AA31B38>, <matplotlib.axes._axes.Axes object at 0x0000021C2AC548D0>]\n",
      "lines container: []\n"
     ]
    },
    {
     "data": {
      "image/png": "[encoded data removed]",
      "text/plain": [
       "<Figure size 432x288 with 2 Axes>"
      ]
     },
     "metadata": {},
     "output_type": "display_data"
    }
   ],
   "source": [
    "fig = plt.figure()\n",
    "\n",
    "ax1 = fig.add_axes([0.1,0.25,0.3,0.5])\n",
    "ax2 = fig.add_axes([0.5, 0.25, 0.3, 0.5])\n",
    "\n",
    "ax1.plot(x, np.sinc(x))\n",
    "ax2.plot(x, np.sin(x))\n",
    "#recangle(the background of figure)\n",
    "print('patch:', fig.patch)\n",
    "fig.patch.set_facecolor('teal')\n",
    "print('Axes container:', fig.axes) #container for Axes object\n",
    "\n",
    "#container for lines\n",
    "print('lines container:', fig.lines)\n",
    "\n",
    "#turn on grid for Axes in the figure:\n",
    "for ax in fig.axes:\n",
    "    ax.grid(True, ls = '--')"
   ]
  },
  {
   "cell_type": "markdown",
   "metadata": {},
   "source": [
    "### Axes container"
   ]
  },
  {
   "cell_type": "markdown",
   "metadata": {},
   "source": [
    "<table>\n",
    "<tr><th>Axes attribute</th><th>\tDescription</th></tr>\n",
    "<tr><td>artists</td><td>\tA list of Artist instances</td></tr>\n",
    "<tr><td>patch</td><td>\tRectangle instance for Axes background</td></tr>\n",
    "<tr><td>collections\t</td><td>A list of Collection instances</td></tr>\n",
    "<tr><td>images</td><td>\tA list of AxesImage</td></tr>\n",
    "<tr><td>legends</td><td>\tA list of Legend instances</td></tr>\n",
    "<tr><td>lines\t</td><td>A list of Line2D instances</td></tr>\n",
    "<tr><td>patches</td><td>\tA list of Patch instances</td></tr>\n",
    "<tr><td>texts</td><td>\tA list of Text instances</td></tr>\n",
    "<tr><td>xaxis</td><td>\tmatplotlib.axis.XAxis instance</td></tr>\n",
    "<tr><td>yaxis</td><td>\tmatplotlib.axis.YAxis instance</td></tr>\n",
    "</table>"
   ]
  },
  {
   "cell_type": "code",
   "execution_count": 38,
   "metadata": {},
   "outputs": [
    {
     "name": "stdout",
     "output_type": "stream",
     "text": [
      "line container: [<matplotlib.lines.Line2D object at 0x0000021C2AA9FA58>, <matplotlib.lines.Line2D object at 0x0000021C2AEC5E80>]\n",
      "Rect: Rectangle(xy=(0, 0), width=1, height=1, angle=0)\n",
      "XAxis: XAxis(54.000000,36.000000)\n",
      "YAXis: YAxis(54.000000,36.000000)\n"
     ]
    },
    {
     "data": {
      "image/png": "[encoded data removed]",
      "text/plain": [
       "<Figure size 432x288 with 1 Axes>"
      ]
     },
     "metadata": {
      "needs_background": "light"
     },
     "output_type": "display_data"
    }
   ],
   "source": [
    "fig, ax = plt.subplots()\n",
    "line1, line2 = ax.plot(x, np.sin(x), 'r', x, np.cos(x), 'y')\n",
    "ax.legend(handles=(line1, line2), labels = ('Sine', 'Cosine'))\n",
    "\n",
    "#container for lines\n",
    "print('line container:', ax.lines)\n",
    "ax.lines[0].set_linestyle('-')\n",
    "ax.lines[1].set_linestyle(':')\n",
    "\n",
    "#rectangle background\n",
    "print('Rect:', ax.patch)\n",
    "ax.patch.set_facecolor('k')\n",
    "\n",
    "#xaxis object\n",
    "print('XAxis:', ax.xaxis)\n",
    "ax.xaxis.set_visible(False)\n",
    "#yaxis object\n",
    "print('YAXis:', ax.yaxis)\n",
    "ax.yaxis.set_visible(False)"
   ]
  },
  {
   "cell_type": "markdown",
   "metadata": {},
   "source": [
    "### Axis container "
   ]
  },
  {
   "cell_type": "markdown",
   "metadata": {},
   "source": [
    "<table>\n",
    "<tr><th>Accessor method</th><th> Description</th></tr>\n",
    "    <tr><td>get_scale</td><td>\tThe scale of the axis, e.g., 'log' or 'linear'</td></tr>\n",
    "    <tr><td>get_view_interval</td><td>\tThe interval instance of the axis view limits</td></tr>\n",
    "    <tr><td>get_data_interval</td><td>\tThe interval instance of the axis data limits</td></tr>\n",
    "    <tr><td>get_gridlines\t</td><td>A list of grid lines for the Axis</td></tr>\n",
    "    <tr><td>get_label\t</td><td>The axis label - a Text instance</td></tr>\n",
    "    <tr><td>get_ticklabels</td><td>\tA list of Text instances - keyword minor=True|False</td></tr>\n",
    "    <tr><td>get_ticklines</td><td>\tA list of Line2D instances - keyword minor=True|False</td></tr>\n",
    "    <tr><td>get_ticklocs</td><td>\tA list of Tick locations - keyword minor=True|False</td></tr>\n",
    "<tr><td>get_major_locator</td><td>\tThe ticker.Locator instance for major ticks\n",
    "    <tr><td>get_major_formatter</td><td>\tThe ticker.Formatter instance for major ticks</td></tr>\n",
    "    <tr><td>get_minor_locator</td><td>\tThe ticker.Locator instance for minor ticks</td></tr>\n",
    "    <tr><td>get_minor_formatter\t</td><td>The ticker.Formatter instance for minor ticks</td></tr>\n",
    "    <tr><td>get_major_ticks</td><td>\tA list of Tick instances for major ticks</td></tr>\n",
    "    <tr><td>get_minor_ticks\t</td><td>A list of Tick instances for minor ticks</td></tr>\n",
    "    <tr><td>grid</td><td>\tTurn the grid on or off for the major or minor ticks</td></tr>\n",
    "</table>"
   ]
  },
  {
   "cell_type": "markdown",
   "metadata": {},
   "source": [
    "The **`matplotlib.axis.Axis`** instances handle:\n",
    "* the drawing of the tick lines \n",
    "* the grid lines \n",
    "* the tick labels\n",
    "* the axis label. "
   ]
  },
  {
   "cell_type": "markdown",
   "metadata": {},
   "source": [
    " **`Locator`** and **`Formatter`**: control where the ticks are placed and how they are represented as strings."
   ]
  },
  {
   "cell_type": "code",
   "execution_count": 39,
   "metadata": {},
   "outputs": [
    {
     "data": {
      "image/png": "[encoded data removed]",
      "text/plain": [
       "<Figure size 432x288 with 1 Axes>"
      ]
     },
     "metadata": {
      "needs_background": "light"
     },
     "output_type": "display_data"
    }
   ],
   "source": [
    "fig, ax = plt.subplots()"
   ]
  },
  {
   "cell_type": "code",
   "execution_count": 40,
   "metadata": {},
   "outputs": [
    {
     "data": {
      "text/plain": [
       "array([0. , 0.2, 0.4, 0.6, 0.8, 1. ])"
      ]
     },
     "execution_count": 40,
     "metadata": {},
     "output_type": "execute_result"
    }
   ],
   "source": [
    "ax.xaxis.get_ticklocs() #get the positions of ticks on the xaxis"
   ]
  },
  {
   "cell_type": "code",
   "execution_count": 41,
   "metadata": {},
   "outputs": [
    {
     "data": {
      "text/plain": [
       "<a list of 12 Line2D ticklines objects>"
      ]
     },
     "execution_count": 41,
     "metadata": {},
     "output_type": "execute_result"
    }
   ],
   "source": [
    "ax.xaxis.get_ticklines()"
   ]
  },
  {
   "cell_type": "code",
   "execution_count": 44,
   "metadata": {},
   "outputs": [
    {
     "data": {
      "text/plain": [
       "<a list of 6 Text major ticklabel objects>"
      ]
     },
     "execution_count": 44,
     "metadata": {},
     "output_type": "execute_result"
    }
   ],
   "source": [
    "ax.xaxis.get_ticklabels(which = 'major') #get major tick labels"
   ]
  },
  {
   "cell_type": "code",
   "execution_count": 46,
   "metadata": {},
   "outputs": [
    {
     "data": {
      "text/plain": [
       "<a list of 0 Text minor ticklabel objects>"
      ]
     },
     "execution_count": 46,
     "metadata": {},
     "output_type": "execute_result"
    }
   ],
   "source": [
    "ax.xaxis.get_ticklabels(which = 'minor') #get minor tick labels"
   ]
  },
  {
   "cell_type": "code",
   "execution_count": 57,
   "metadata": {},
   "outputs": [
    {
     "data": {
      "image/png": "[encoded data removed]",
      "text/plain": [
       "<Figure size 432x288 with 1 Axes>"
      ]
     },
     "metadata": {
      "needs_background": "light"
     },
     "output_type": "display_data"
    }
   ],
   "source": [
    "#customize using OOP\n",
    "fig, ax = plt.subplots()\n",
    "\n",
    "for label in ax.xaxis.get_ticklabels():\n",
    "    label.set_color('r')\n",
    "    label.set_rotation(30)\n",
    "    \n",
    "for line in ax.yaxis.get_ticklines():\n",
    "    line.set_color('g')\n",
    "    line.set_markersize(20)\n",
    "    line.set_markeredgewidth(10)"
   ]
  },
  {
   "cell_type": "code",
   "execution_count": null,
   "metadata": {},
   "outputs": [],
   "source": []
  }
 ],
 "metadata": {
  "kernelspec": {
   "display_name": "Python 3",
   "language": "python",
   "name": "python3"
  },
  "language_info": {
   "codemirror_mode": {
    "name": "ipython",
    "version": 3
   },
   "file_extension": ".py",
   "mimetype": "text/x-python",
   "name": "python",
   "nbconvert_exporter": "python",
   "pygments_lexer": "ipython3",
   "version": "3.7.3"
  }
 },
 "nbformat": 4,
 "nbformat_minor": 2
}
