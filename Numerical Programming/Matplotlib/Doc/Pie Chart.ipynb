{
 "cells": [
  {
   "cell_type": "code",
   "execution_count": 1,
   "metadata": {},
   "outputs": [],
   "source": [
    "import numpy as np\n",
    "import matplotlib.pyplot as plt"
   ]
  },
  {
   "cell_type": "markdown",
   "metadata": {},
   "source": [
    "# plt.pie"
   ]
  },
  {
   "cell_type": "code",
   "execution_count": 2,
   "metadata": {},
   "outputs": [],
   "source": [
    "plt.pie?"
   ]
  },
  {
   "cell_type": "markdown",
   "metadata": {},
   "source": [
    "```python\n",
    "plt.pie(\n",
    "    x,\n",
    "    explode=None,\n",
    "    labels=None,\n",
    "    colors=None,\n",
    "    autopct=None,\n",
    "    pctdistance=0.6,\n",
    "    shadow=False,\n",
    "    labeldistance=1.1,\n",
    "    startangle=None,\n",
    "    radius=None,\n",
    "    counterclock=True,\n",
    "    wedgeprops=None,\n",
    "    textprops=None,\n",
    "    center=(0, 0),\n",
    "    frame=False,\n",
    "    rotatelabels=False,\n",
    "    *,\n",
    "    data=None,\n",
    ")\n",
    "```"
   ]
  },
  {
   "cell_type": "code",
   "execution_count": 11,
   "metadata": {},
   "outputs": [],
   "source": [
    "x = [20, 80]\n",
    "y = ['Action', 'Mindset']"
   ]
  },
  {
   "cell_type": "code",
   "execution_count": 16,
   "metadata": {},
   "outputs": [
    {
     "data": {
      "text/plain": [
       "([<matplotlib.patches.Wedge at 0x23ce1145b70>,\n",
       "  <matplotlib.patches.Wedge at 0x23ce1153588>],\n",
       " [Text(0.8899186877588753, 0.6465637858537406, 'Action'),\n",
       "  Text(-0.9708203536265883, -0.7053423572878254, 'Mindset')],\n",
       " [Text(0.4854101933230228, 0.35267115592022213, '20.00%'),\n",
       "  Text(-0.5663118729488431, -0.41144970841789813, '80.00%')])"
      ]
     },
     "execution_count": 16,
     "metadata": {},
     "output_type": "execute_result"
    },
    {
     "data": {
      "image/png": "[encoded data removed]",
      "text/plain": [
       "<Figure size 432x288 with 1 Axes>"
      ]
     },
     "metadata": {},
     "output_type": "display_data"
    }
   ],
   "source": [
    "plt.pie(x, labels = y, autopct = '%2.2f%%', explode = (0, 0.1), shadow = True, colors = ['Teal', 'Lime'])\n"
   ]
  },
  {
   "cell_type": "code",
   "execution_count": null,
   "metadata": {},
   "outputs": [],
   "source": []
  }
 ],
 "metadata": {
  "kernelspec": {
   "display_name": "Python 3",
   "language": "python",
   "name": "python3"
  },
  "language_info": {
   "codemirror_mode": {
    "name": "ipython",
    "version": 3
   },
   "file_extension": ".py",
   "mimetype": "text/x-python",
   "name": "python",
   "nbconvert_exporter": "python",
   "pygments_lexer": "ipython3",
   "version": "3.7.9"
  }
 },
 "nbformat": 4,
 "nbformat_minor": 4
}
