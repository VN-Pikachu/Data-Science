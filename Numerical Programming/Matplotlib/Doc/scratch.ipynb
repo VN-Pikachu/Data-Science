{
 "cells": [
  {
   "cell_type": "code",
   "execution_count": 1,
   "id": "wired-forge",
   "metadata": {},
   "outputs": [],
   "source": [
    "import matplotlib.pyplot as plt"
   ]
  },
  {
   "cell_type": "code",
   "execution_count": 2,
   "id": "included-calcium",
   "metadata": {},
   "outputs": [
    {
     "data": {
      "text/plain": [
       "\u001b[0;31mSignature:\u001b[0m \u001b[0mplt\u001b[0m\u001b[0;34m.\u001b[0m\u001b[0mbroken_barh\u001b[0m\u001b[0;34m(\u001b[0m\u001b[0mxranges\u001b[0m\u001b[0;34m,\u001b[0m \u001b[0myrange\u001b[0m\u001b[0;34m,\u001b[0m \u001b[0;34m*\u001b[0m\u001b[0;34m,\u001b[0m \u001b[0mdata\u001b[0m\u001b[0;34m=\u001b[0m\u001b[0;32mNone\u001b[0m\u001b[0;34m,\u001b[0m \u001b[0;34m**\u001b[0m\u001b[0mkwargs\u001b[0m\u001b[0;34m)\u001b[0m\u001b[0;34m\u001b[0m\u001b[0;34m\u001b[0m\u001b[0m\n",
       "\u001b[0;31mDocstring:\u001b[0m\n",
       "Plot a horizontal sequence of rectangles.\n",
       "\n",
       "A rectangle is drawn for each element of *xranges*. All rectangles\n",
       "have the same vertical position and size defined by *yrange*.\n",
       "\n",
       "This is a convenience function for instantiating a\n",
       "`.BrokenBarHCollection`, adding it to the axes and autoscaling the\n",
       "view.\n",
       "\n",
       "Parameters\n",
       "----------\n",
       "xranges : sequence of tuples (*xmin*, *xwidth*)\n",
       "    The x-positions and extends of the rectangles. For each tuple\n",
       "    (*xmin*, *xwidth*) a rectangle is drawn from *xmin* to *xmin* +\n",
       "    *xwidth*.\n",
       "yrange : (*ymin*, *yheight*)\n",
       "    The y-position and extend for all the rectangles.\n",
       "\n",
       "Returns\n",
       "-------\n",
       "`~.collections.BrokenBarHCollection`\n",
       "\n",
       "Other Parameters\n",
       "----------------\n",
       "**kwargs : `.BrokenBarHCollection` properties\n",
       "\n",
       "    Each *kwarg* can be either a single argument applying to all\n",
       "    rectangles, e.g.::\n",
       "\n",
       "        facecolors='black'\n",
       "\n",
       "    or a sequence of arguments over which is cycled, e.g.::\n",
       "\n",
       "        facecolors=('black', 'blue')\n",
       "\n",
       "    would create interleaving black and blue rectangles.\n",
       "\n",
       "    Supported keywords:\n",
       "\n",
       "    Properties:\n",
       "    agg_filter: a filter function, which takes a (m, n, 3) float array and a dpi value, and returns a (m, n, 3) array\n",
       "    alpha: float or None\n",
       "    animated: bool\n",
       "    antialiased or aa or antialiaseds: bool or list of bools\n",
       "    array: ndarray\n",
       "    capstyle: {'butt', 'round', 'projecting'}\n",
       "    clim: (vmin: float, vmax: float)\n",
       "    clip_box: `.Bbox`\n",
       "    clip_on: bool\n",
       "    clip_path: Patch or (Path, Transform) or None\n",
       "    cmap: `.Colormap` or str or None\n",
       "    color: color or list of rgba tuples\n",
       "    contains: unknown\n",
       "    edgecolor or ec or edgecolors: color or list of colors or 'face'\n",
       "    facecolor or facecolors or fc: color or list of colors\n",
       "    figure: `.Figure`\n",
       "    gid: str\n",
       "    hatch: {'/', '\\\\', '|', '-', '+', 'x', 'o', 'O', '.', '*'}\n",
       "    in_layout: bool\n",
       "    joinstyle: {'miter', 'round', 'bevel'}\n",
       "    label: object\n",
       "    linestyle or dashes or linestyles or ls: str or tuple or list thereof\n",
       "    linewidth or linewidths or lw: float or list of floats\n",
       "    norm: `.Normalize` or None\n",
       "    offset_position: unknown\n",
       "    offsets: array-like (N, 2) or (2,)\n",
       "    path_effects: `.AbstractPathEffect`\n",
       "    picker: None or bool or callable\n",
       "    pickradius: unknown\n",
       "    rasterized: bool or None\n",
       "    sketch_params: (scale: float, length: float, randomness: float)\n",
       "    snap: bool or None\n",
       "    transform: `.Transform`\n",
       "    url: str\n",
       "    urls: list of str or None\n",
       "    visible: bool\n",
       "    zorder: float\n",
       "\n",
       "Notes\n",
       "-----\n",
       "\n",
       "\n",
       ".. note::\n",
       "    In addition to the above described arguments, this function can take\n",
       "    a *data* keyword argument. If such a *data* argument is given,\n",
       "    every other argument can also be string ``s``, which is\n",
       "    interpreted as ``data[s]`` (unless this raises an exception).\n",
       "\n",
       "    Objects passed as **data** must support item access (``data[s]``) and\n",
       "    membership test (``s in data``).\n",
       "\u001b[0;31mFile:\u001b[0m      ~/anaconda3/lib/python3.7/site-packages/matplotlib/pyplot.py\n",
       "\u001b[0;31mType:\u001b[0m      function\n"
      ]
     },
     "metadata": {},
     "output_type": "display_data"
    }
   ],
   "source": [
    "plt.broken_barh?\n"
   ]
  }
 ],
 "metadata": {
  "kernelspec": {
   "display_name": "Python 3",
   "language": "python",
   "name": "python3"
  },
  "language_info": {
   "codemirror_mode": {
    "name": "ipython",
    "version": 3
   },
   "file_extension": ".py",
   "mimetype": "text/x-python",
   "name": "python",
   "nbconvert_exporter": "python",
   "pygments_lexer": "ipython3",
   "version": "3.7.9"
  }
 },
 "nbformat": 4,
 "nbformat_minor": 5
}
