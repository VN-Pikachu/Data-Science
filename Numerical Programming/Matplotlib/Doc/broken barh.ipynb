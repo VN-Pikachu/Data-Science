{
 "cells": [
  {
   "cell_type": "code",
   "execution_count": 2,
   "metadata": {},
   "outputs": [
    {
     "data": {
      "image/png": "[encoded data removed]",
      "text/plain": [
       "<Figure size 432x432 with 2 Axes>"
      ]
     },
     "metadata": {},
     "output_type": "display_data"
    }
   ],
   "source": [
    "import numpy as np\n",
    "import matplotlib.pyplot as plt;\n",
    "\n",
    "#plt.broken_barh(xrange, yrange, **kwg)\n",
    "#xrange: a list of (xmin, xwidth) --> boundary (xmin, xmin + xwidth)\n",
    "#yrange: (ymin, ywidth) --> boundary (ymin, y + ywidth)\n",
    "fig = plt.figure(figsize = (6,6))\n",
    "plt.subplot(211)\n",
    "xrange = [(1, 3), (5, 3), (9, 3)]\n",
    "yrange = (2, 2)\n",
    "plt.broken_barh(xrange, yrange, fc = ('r', 'g', 'b'))\n",
    "\n",
    "plt.axhline(y = 2, ls = '--', color = 'gray', lw = 1)\n",
    "plt.axhline(y = 4, ls = '--', color = 'gray', lw = 1)\n",
    "\n",
    "for i, (x, w) in enumerate(xrange):\n",
    "    plt.axvline(x = x, ls = '-.', color = 'orange')\n",
    "    plt.axvline(x = x + w, ls = ':', color = 'green')\n",
    "plt.axis([-1, 13, 1, 5])\n",
    "plt.xticks(())\n",
    "plt.yticks(())\n",
    "plt.title('broken_barh')\n",
    "\n",
    "ax = plt.subplot(212)\n",
    "for y in range(8):\n",
    "    plt.broken_barh([[x, 1] for x in range(y % 2, 8, 2)], (y, 1), fc = 'black')\n",
    "plt.axis([0,8,0,8])\n",
    "ax.xaxis.set_major_locator(plt.NullLocator())\n",
    "ax.yaxis.set_major_locator(plt.NullLocator())\n",
    "ax.set_title('Chess Board using Borken Bars')\n",
    "plt.show()\n"
   ]
  },
  {
   "cell_type": "code",
   "execution_count": 6,
   "metadata": {},
   "outputs": [],
   "source": [
    "plt.broken_barh?"
   ]
  },
  {
   "cell_type": "code",
   "execution_count": 7,
   "metadata": {},
   "outputs": [],
   "source": [
    "plt.broken_barh?"
   ]
  },
  {
   "cell_type": "code",
   "execution_count": 8,
   "metadata": {},
   "outputs": [
    {
     "data": {
      "text/plain": [
       "<matplotlib.collections.BrokenBarHCollection at 0x274cb6eff60>"
      ]
     },
     "execution_count": 8,
     "metadata": {},
     "output_type": "execute_result"
    },
    {
     "data": {
      "image/png": "[encoded data removed]",
      "text/plain": [
       "<Figure size 432x288 with 1 Axes>"
      ]
     },
     "metadata": {
      "needs_background": "light"
     },
     "output_type": "display_data"
    }
   ],
   "source": [
    "plt.broken_barh([(1,2), (3,4), (5,6)], (1,2), fc = ('r', 'g', 'b'))"
   ]
  },
  {
   "cell_type": "code",
   "execution_count": null,
   "metadata": {},
   "outputs": [],
   "source": []
  }
 ],
 "metadata": {
  "kernelspec": {
   "display_name": "Python 3",
   "language": "python",
   "name": "python3"
  },
  "language_info": {
   "codemirror_mode": {
    "name": "ipython",
    "version": 3
   },
   "file_extension": ".py",
   "mimetype": "text/x-python",
   "name": "python",
   "nbconvert_exporter": "python",
   "pygments_lexer": "ipython3",
   "version": "3.7.9"
  }
 },
 "nbformat": 4,
 "nbformat_minor": 4
}
