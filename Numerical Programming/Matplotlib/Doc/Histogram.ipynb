{
 "cells": [
  {
   "cell_type": "code",
   "execution_count": 1,
   "metadata": {},
   "outputs": [],
   "source": [
    "import numpy as np\n",
    "import matplotlib.pyplot as plt"
   ]
  },
  {
   "cell_type": "markdown",
   "metadata": {},
   "source": [
    "# plt.hist"
   ]
  },
  {
   "cell_type": "markdown",
   "metadata": {},
   "source": [
    "```python\n",
    "plt.hist(\n",
    "    x,\n",
    "    bins=None,\n",
    "    range=None,\n",
    "    density=None,\n",
    "    weights=None,\n",
    "    cumulative=False,\n",
    "    bottom=None,\n",
    "    histtype='bar',\n",
    "    align='mid',\n",
    "    orientation='vertical',\n",
    "    rwidth=None,\n",
    "    log=False,\n",
    "    color=None,\n",
    "    label=None,\n",
    "    stacked=False,\n",
    "    normed=None,\n",
    "    *,\n",
    "    data=None,\n",
    "    **kwargs,\n",
    ")```"
   ]
  },
  {
   "cell_type": "code",
   "execution_count": 6,
   "metadata": {},
   "outputs": [
    {
     "data": {
      "text/plain": [
       "array([-0.59961019, -0.54108415, -0.3843974 , ...,  0.83703391,\n",
       "       -0.12346939, -0.45909474])"
      ]
     },
     "execution_count": 6,
     "metadata": {},
     "output_type": "execute_result"
    }
   ],
   "source": [
    "np.set_printoptions(threshold = 10)\n",
    "x = np.random.randn(1000)\n",
    "x"
   ]
  },
  {
   "cell_type": "code",
   "execution_count": 12,
   "metadata": {},
   "outputs": [
    {
     "data": {
      "text/plain": [
       "(array([  1.,   6.,  27.,  74., 175., 259., 238., 150.,  56.,  14.]),\n",
       " array([-3.89812725, -3.2386525 , -2.57917776, ...,  1.37767069,\n",
       "         2.03714543,  2.69662017]),\n",
       " <a list of 1 Patch objects>)"
      ]
     },
     "execution_count": 12,
     "metadata": {},
     "output_type": "execute_result"
    },
    {
     "data": {
      "image/png": "[encoded data removed]",
      "text/plain": [
       "<Figure size 720x216 with 3 Axes>"
      ]
     },
     "metadata": {},
     "output_type": "display_data"
    }
   ],
   "source": [
    "fig = plt.figure(figsize = (10, 3), facecolor = 'grey')\n",
    "ax1 = fig.add_subplot(131)\n",
    "ax2 = fig.add_subplot(132)\n",
    "ax3 = fig.add_subplot(133)\n",
    "\n",
    "ax1.hist(x, bins = 10, edgecolor = 'red', density = True)\n",
    "\n",
    "ax2.hist(x, bins = np.linspace(0, 1, 10), color = 'gold', histtype = 'stepfilled', alpha = 0.5)\n",
    "ax2.hist(x + np.random.random(1000), bins = np.linspace(0, 1, 10), color = 'red', histtype = 'stepfilled', alpha = 0.5)\n",
    "\n",
    "ax3.hist(x, bins = 10, histtype = 'step')"
   ]
  },
  {
   "cell_type": "code",
   "execution_count": null,
   "metadata": {},
   "outputs": [],
   "source": []
  }
 ],
 "metadata": {
  "kernelspec": {
   "display_name": "Python 3",
   "language": "python",
   "name": "python3"
  },
  "language_info": {
   "codemirror_mode": {
    "name": "ipython",
    "version": 3
   },
   "file_extension": ".py",
   "mimetype": "text/x-python",
   "name": "python",
   "nbconvert_exporter": "python",
   "pygments_lexer": "ipython3",
   "version": "3.7.9"
  }
 },
 "nbformat": 4,
 "nbformat_minor": 4
}
