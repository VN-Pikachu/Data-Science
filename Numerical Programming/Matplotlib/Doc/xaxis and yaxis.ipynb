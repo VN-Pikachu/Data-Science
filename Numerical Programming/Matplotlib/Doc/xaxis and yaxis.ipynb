{
 "cells": [
  {
   "cell_type": "code",
   "execution_count": 3,
   "metadata": {},
   "outputs": [],
   "source": [
    "import numpy as np\n",
    "import matplotlib.pyplot as plt"
   ]
  },
  {
   "cell_type": "code",
   "execution_count": 18,
   "metadata": {},
   "outputs": [],
   "source": [
    "from utils import get_attr_names, get_method_names"
   ]
  },
  {
   "cell_type": "code",
   "execution_count": 5,
   "metadata": {},
   "outputs": [
    {
     "data": {
      "image/png": "[encoded data removed]",
      "text/plain": [
       "<Figure size 432x288 with 1 Axes>"
      ]
     },
     "metadata": {
      "needs_background": "light"
     },
     "output_type": "display_data"
    }
   ],
   "source": [
    "fig = plt.figure()\n",
    "ax = fig.add_subplot()"
   ]
  },
  {
   "cell_type": "markdown",
   "metadata": {},
   "source": [
    "# **`xaxis`** and **`yaxis`** container"
   ]
  },
  {
   "cell_type": "code",
   "execution_count": 6,
   "metadata": {},
   "outputs": [
    {
     "data": {
      "text/plain": [
       "<matplotlib.axis.XAxis at 0x23ce6946cf8>"
      ]
     },
     "execution_count": 6,
     "metadata": {},
     "output_type": "execute_result"
    }
   ],
   "source": [
    "ax.xaxis"
   ]
  },
  {
   "cell_type": "code",
   "execution_count": 7,
   "metadata": {},
   "outputs": [
    {
     "data": {
      "text/plain": [
       "<matplotlib.axis.YAxis at 0x23ce6d7f940>"
      ]
     },
     "execution_count": 7,
     "metadata": {},
     "output_type": "execute_result"
    }
   ],
   "source": [
    "ax.yaxis"
   ]
  },
  {
   "cell_type": "code",
   "execution_count": 8,
   "metadata": {},
   "outputs": [
    {
     "data": {
      "text/plain": [
       "['OFFSETTEXTPAD',\n",
       " '__class__',\n",
       " '__delattr__',\n",
       " '__dict__',\n",
       " '__dir__',\n",
       " '__doc__',\n",
       " '__eq__',\n",
       " '__format__',\n",
       " '__ge__',\n",
       " '__getattribute__',\n",
       " '__getstate__',\n",
       " '__gt__',\n",
       " '__hash__',\n",
       " '__init__',\n",
       " '__init_subclass__',\n",
       " '__le__',\n",
       " '__lt__',\n",
       " '__module__',\n",
       " '__name__',\n",
       " '__ne__',\n",
       " '__new__',\n",
       " '__reduce__',\n",
       " '__reduce_ex__',\n",
       " '__repr__',\n",
       " '__setattr__',\n",
       " '__sizeof__',\n",
       " '__str__',\n",
       " '__subclasshook__',\n",
       " '__weakref__',\n",
       " '_agg_filter',\n",
       " '_alpha',\n",
       " '_animated',\n",
       " '_autolabelpos',\n",
       " '_axes',\n",
       " '_clipon',\n",
       " '_clippath',\n",
       " '_contains',\n",
       " '_copy_tick_props',\n",
       " '_get_clipping_extent_bbox',\n",
       " '_get_label',\n",
       " '_get_offset_text',\n",
       " '_get_tick',\n",
       " '_get_tick_bboxes',\n",
       " '_get_tick_boxes_siblings',\n",
       " '_get_ticks_position',\n",
       " '_gid',\n",
       " '_gridOnMajor',\n",
       " '_gridOnMinor',\n",
       " '_in_layout',\n",
       " '_label',\n",
       " '_major_tick_kw',\n",
       " '_minor_tick_kw',\n",
       " '_mouseover',\n",
       " '_oid',\n",
       " '_path_effects',\n",
       " '_picker',\n",
       " '_prop_order',\n",
       " '_propobservers',\n",
       " '_rasterized',\n",
       " '_remove_method',\n",
       " '_remove_overlapping_locs',\n",
       " '_scale',\n",
       " '_set_artist_props',\n",
       " '_set_gc_clip',\n",
       " '_set_scale',\n",
       " '_sketch',\n",
       " '_smart_bounds',\n",
       " '_snap',\n",
       " '_stale',\n",
       " '_sticky_edges',\n",
       " '_transform',\n",
       " '_transformSet',\n",
       " '_translate_tick_kw',\n",
       " '_update_axisinfo',\n",
       " '_update_label_position',\n",
       " '_update_offset_text_position',\n",
       " '_update_ticks',\n",
       " '_url',\n",
       " '_visible',\n",
       " 'add_callback',\n",
       " 'aname',\n",
       " 'axes',\n",
       " 'axis_date',\n",
       " 'axis_name',\n",
       " 'callbacks',\n",
       " 'cla',\n",
       " 'clipbox',\n",
       " 'contains',\n",
       " 'convert_units',\n",
       " 'convert_xunits',\n",
       " 'convert_yunits',\n",
       " 'converter',\n",
       " 'draw',\n",
       " 'eventson',\n",
       " 'figure',\n",
       " 'findobj',\n",
       " 'format_cursor_data',\n",
       " 'get_agg_filter',\n",
       " 'get_alpha',\n",
       " 'get_animated',\n",
       " 'get_children',\n",
       " 'get_clip_box',\n",
       " 'get_clip_on',\n",
       " 'get_clip_path',\n",
       " 'get_contains',\n",
       " 'get_cursor_data',\n",
       " 'get_data_interval',\n",
       " 'get_figure',\n",
       " 'get_gid',\n",
       " 'get_gridlines',\n",
       " 'get_in_layout',\n",
       " 'get_inverted',\n",
       " 'get_label',\n",
       " 'get_label_position',\n",
       " 'get_label_text',\n",
       " 'get_major_formatter',\n",
       " 'get_major_locator',\n",
       " 'get_major_ticks',\n",
       " 'get_majorticklabels',\n",
       " 'get_majorticklines',\n",
       " 'get_majorticklocs',\n",
       " 'get_minor_formatter',\n",
       " 'get_minor_locator',\n",
       " 'get_minor_ticks',\n",
       " 'get_minorticklabels',\n",
       " 'get_minorticklines',\n",
       " 'get_minorticklocs',\n",
       " 'get_minpos',\n",
       " 'get_offset_text',\n",
       " 'get_path_effects',\n",
       " 'get_picker',\n",
       " 'get_pickradius',\n",
       " 'get_rasterized',\n",
       " 'get_remove_overlapping_locs',\n",
       " 'get_scale',\n",
       " 'get_sketch_params',\n",
       " 'get_smart_bounds',\n",
       " 'get_snap',\n",
       " 'get_text_heights',\n",
       " 'get_tick_padding',\n",
       " 'get_tick_space',\n",
       " 'get_ticklabel_extents',\n",
       " 'get_ticklabels',\n",
       " 'get_ticklines',\n",
       " 'get_ticklocs',\n",
       " 'get_ticks_direction',\n",
       " 'get_ticks_position',\n",
       " 'get_tightbbox',\n",
       " 'get_transform',\n",
       " 'get_transformed_clip_path_and_affine',\n",
       " 'get_units',\n",
       " 'get_url',\n",
       " 'get_view_interval',\n",
       " 'get_visible',\n",
       " 'get_window_extent',\n",
       " 'get_zorder',\n",
       " 'grid',\n",
       " 'have_units',\n",
       " 'isDefault_label',\n",
       " 'isDefault_majfmt',\n",
       " 'isDefault_majloc',\n",
       " 'isDefault_minfmt',\n",
       " 'isDefault_minloc',\n",
       " 'is_transform_set',\n",
       " 'iter_ticks',\n",
       " 'label',\n",
       " 'label_position',\n",
       " 'labelpad',\n",
       " 'limit_range_for_scale',\n",
       " 'major',\n",
       " 'majorTicks',\n",
       " 'minor',\n",
       " 'minorTicks',\n",
       " 'mouseover',\n",
       " 'offsetText',\n",
       " 'offset_text_position',\n",
       " 'pan',\n",
       " 'pchanged',\n",
       " 'pick',\n",
       " 'pickable',\n",
       " 'pickradius',\n",
       " 'properties',\n",
       " 'remove',\n",
       " 'remove_callback',\n",
       " 'remove_overlapping_locs',\n",
       " 'reset_ticks',\n",
       " 'set',\n",
       " 'set_agg_filter',\n",
       " 'set_alpha',\n",
       " 'set_animated',\n",
       " 'set_clip_box',\n",
       " 'set_clip_on',\n",
       " 'set_clip_path',\n",
       " 'set_contains',\n",
       " 'set_data_interval',\n",
       " 'set_default_intervals',\n",
       " 'set_figure',\n",
       " 'set_gid',\n",
       " 'set_in_layout',\n",
       " 'set_inverted',\n",
       " 'set_label',\n",
       " 'set_label_coords',\n",
       " 'set_label_position',\n",
       " 'set_label_text',\n",
       " 'set_major_formatter',\n",
       " 'set_major_locator',\n",
       " 'set_minor_formatter',\n",
       " 'set_minor_locator',\n",
       " 'set_path_effects',\n",
       " 'set_picker',\n",
       " 'set_pickradius',\n",
       " 'set_rasterized',\n",
       " 'set_remove_overlapping_locs',\n",
       " 'set_sketch_params',\n",
       " 'set_smart_bounds',\n",
       " 'set_snap',\n",
       " 'set_tick_params',\n",
       " 'set_ticklabels',\n",
       " 'set_ticks',\n",
       " 'set_ticks_position',\n",
       " 'set_transform',\n",
       " 'set_units',\n",
       " 'set_url',\n",
       " 'set_view_interval',\n",
       " 'set_visible',\n",
       " 'set_zorder',\n",
       " 'stale',\n",
       " 'stale_callback',\n",
       " 'sticky_edges',\n",
       " 'tick_bottom',\n",
       " 'tick_top',\n",
       " 'units',\n",
       " 'update',\n",
       " 'update_from',\n",
       " 'update_units',\n",
       " 'zoom',\n",
       " 'zorder']"
      ]
     },
     "execution_count": 8,
     "metadata": {},
     "output_type": "execute_result"
    }
   ],
   "source": [
    "dir(ax.xaxis)"
   ]
  },
  {
   "cell_type": "markdown",
   "metadata": {},
   "source": [
    "### attributes"
   ]
  },
  {
   "cell_type": "code",
   "execution_count": 19,
   "metadata": {},
   "outputs": [
    {
     "data": {
      "text/plain": [
       "['OFFSETTEXTPAD',\n",
       " 'aname',\n",
       " 'axes',\n",
       " 'axis_name',\n",
       " 'callbacks',\n",
       " 'clipbox',\n",
       " 'converter',\n",
       " 'eventson',\n",
       " 'figure',\n",
       " 'isDefault_label',\n",
       " 'isDefault_majfmt',\n",
       " 'isDefault_majloc',\n",
       " 'isDefault_minfmt',\n",
       " 'isDefault_minloc',\n",
       " 'label',\n",
       " 'label_position',\n",
       " 'labelpad',\n",
       " 'major',\n",
       " 'majorTicks',\n",
       " 'minor',\n",
       " 'minorTicks',\n",
       " 'mouseover',\n",
       " 'offsetText',\n",
       " 'offset_text_position',\n",
       " 'pickradius',\n",
       " 'remove_overlapping_locs',\n",
       " 'stale',\n",
       " 'sticky_edges',\n",
       " 'units',\n",
       " 'zorder']"
      ]
     },
     "execution_count": 19,
     "metadata": {},
     "output_type": "execute_result"
    }
   ],
   "source": [
    "get_attr_names(ax.xaxis)"
   ]
  },
  {
   "cell_type": "markdown",
   "metadata": {},
   "source": [
    "### methods"
   ]
  },
  {
   "cell_type": "code",
   "execution_count": 20,
   "metadata": {},
   "outputs": [
    {
     "data": {
      "text/plain": [
       "['add_callback',\n",
       " 'axis_date',\n",
       " 'cla',\n",
       " 'contains',\n",
       " 'convert_units',\n",
       " 'convert_xunits',\n",
       " 'convert_yunits',\n",
       " 'draw',\n",
       " 'findobj',\n",
       " 'format_cursor_data',\n",
       " 'get_agg_filter',\n",
       " 'get_alpha',\n",
       " 'get_animated',\n",
       " 'get_children',\n",
       " 'get_clip_box',\n",
       " 'get_clip_on',\n",
       " 'get_clip_path',\n",
       " 'get_contains',\n",
       " 'get_cursor_data',\n",
       " 'get_data_interval',\n",
       " 'get_figure',\n",
       " 'get_gid',\n",
       " 'get_gridlines',\n",
       " 'get_in_layout',\n",
       " 'get_inverted',\n",
       " 'get_label',\n",
       " 'get_label_position',\n",
       " 'get_label_text',\n",
       " 'get_major_formatter',\n",
       " 'get_major_locator',\n",
       " 'get_major_ticks',\n",
       " 'get_majorticklabels',\n",
       " 'get_majorticklines',\n",
       " 'get_majorticklocs',\n",
       " 'get_minor_formatter',\n",
       " 'get_minor_locator',\n",
       " 'get_minor_ticks',\n",
       " 'get_minorticklabels',\n",
       " 'get_minorticklines',\n",
       " 'get_minorticklocs',\n",
       " 'get_minpos',\n",
       " 'get_offset_text',\n",
       " 'get_path_effects',\n",
       " 'get_picker',\n",
       " 'get_pickradius',\n",
       " 'get_rasterized',\n",
       " 'get_remove_overlapping_locs',\n",
       " 'get_scale',\n",
       " 'get_sketch_params',\n",
       " 'get_smart_bounds',\n",
       " 'get_snap',\n",
       " 'get_text_heights',\n",
       " 'get_tick_padding',\n",
       " 'get_tick_space',\n",
       " 'get_ticklabel_extents',\n",
       " 'get_ticklabels',\n",
       " 'get_ticklines',\n",
       " 'get_ticklocs',\n",
       " 'get_ticks_direction',\n",
       " 'get_ticks_position',\n",
       " 'get_tightbbox',\n",
       " 'get_transform',\n",
       " 'get_transformed_clip_path_and_affine',\n",
       " 'get_units',\n",
       " 'get_url',\n",
       " 'get_view_interval',\n",
       " 'get_visible',\n",
       " 'get_window_extent',\n",
       " 'get_zorder',\n",
       " 'grid',\n",
       " 'have_units',\n",
       " 'is_transform_set',\n",
       " 'iter_ticks',\n",
       " 'limit_range_for_scale',\n",
       " 'pan',\n",
       " 'pchanged',\n",
       " 'pick',\n",
       " 'pickable',\n",
       " 'properties',\n",
       " 'remove',\n",
       " 'remove_callback',\n",
       " 'reset_ticks',\n",
       " 'set',\n",
       " 'set_agg_filter',\n",
       " 'set_alpha',\n",
       " 'set_animated',\n",
       " 'set_clip_box',\n",
       " 'set_clip_on',\n",
       " 'set_clip_path',\n",
       " 'set_contains',\n",
       " 'set_data_interval',\n",
       " 'set_default_intervals',\n",
       " 'set_figure',\n",
       " 'set_gid',\n",
       " 'set_in_layout',\n",
       " 'set_inverted',\n",
       " 'set_label',\n",
       " 'set_label_coords',\n",
       " 'set_label_position',\n",
       " 'set_label_text',\n",
       " 'set_major_formatter',\n",
       " 'set_major_locator',\n",
       " 'set_minor_formatter',\n",
       " 'set_minor_locator',\n",
       " 'set_path_effects',\n",
       " 'set_picker',\n",
       " 'set_pickradius',\n",
       " 'set_rasterized',\n",
       " 'set_remove_overlapping_locs',\n",
       " 'set_sketch_params',\n",
       " 'set_smart_bounds',\n",
       " 'set_snap',\n",
       " 'set_tick_params',\n",
       " 'set_ticklabels',\n",
       " 'set_ticks',\n",
       " 'set_ticks_position',\n",
       " 'set_transform',\n",
       " 'set_units',\n",
       " 'set_url',\n",
       " 'set_view_interval',\n",
       " 'set_visible',\n",
       " 'set_zorder',\n",
       " 'stale_callback',\n",
       " 'tick_bottom',\n",
       " 'tick_top',\n",
       " 'update',\n",
       " 'update_from',\n",
       " 'update_units',\n",
       " 'zoom']"
      ]
     },
     "execution_count": 20,
     "metadata": {},
     "output_type": "execute_result"
    }
   ],
   "source": [
    "get_method_names(ax.xaxis)"
   ]
  },
  {
   "cell_type": "markdown",
   "metadata": {},
   "source": [
    "# turn off xaxis"
   ]
  },
  {
   "cell_type": "markdown",
   "metadata": {},
   "source": [
    " <code>Axes.xaxis.set_visible(False)</code>"
   ]
  },
  {
   "cell_type": "markdown",
   "metadata": {},
   "source": [
    "# invert axis"
   ]
  },
  {
   "cell_type": "markdown",
   "metadata": {},
   "source": [
    "`Axes.invert_yaxis()`,\n",
    "`Axes.invert_xaxis()`"
   ]
  },
  {
   "cell_type": "code",
   "execution_count": null,
   "metadata": {},
   "outputs": [],
   "source": []
  }
 ],
 "metadata": {
  "kernelspec": {
   "display_name": "Python 3",
   "language": "python",
   "name": "python3"
  },
  "language_info": {
   "codemirror_mode": {
    "name": "ipython",
    "version": 3
   },
   "file_extension": ".py",
   "mimetype": "text/x-python",
   "name": "python",
   "nbconvert_exporter": "python",
   "pygments_lexer": "ipython3",
   "version": "3.7.3"
  }
 },
 "nbformat": 4,
 "nbformat_minor": 2
}
