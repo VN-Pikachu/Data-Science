{
 "cells": [
  {
   "cell_type": "code",
   "execution_count": 1,
   "metadata": {},
   "outputs": [],
   "source": [
    "import matplotlib.pyplot as plt"
   ]
  },
  {
   "cell_type": "code",
   "execution_count": 2,
   "metadata": {},
   "outputs": [],
   "source": [
    "import numpy as np"
   ]
  },
  {
   "cell_type": "code",
   "execution_count": 6,
   "metadata": {},
   "outputs": [],
   "source": [
    "X = np.linspace(0, 2 * np.pi, 50)"
   ]
  },
  {
   "cell_type": "markdown",
   "metadata": {},
   "source": [
    "**`Axes.fill_between()`**"
   ]
  },
  {
   "cell_type": "code",
   "execution_count": 4,
   "metadata": {},
   "outputs": [
    {
     "name": "stdout",
     "output_type": "stream",
     "text": [
      "Help on function fill_between in module matplotlib.pyplot:\n",
      "\n",
      "fill_between(x, y1, y2=0, where=None, interpolate=False, step=None, *, data=None, **kwargs)\n",
      "    Fill the area between two horizontal curves.\n",
      "    \n",
      "    The curves are defined by the points (*x*, *y1*) and (*x*, *y2*). This\n",
      "    creates one or multiple polygons describing the filled area.\n",
      "    \n",
      "    You may exclude some horizontal sections from filling using *where*.\n",
      "    \n",
      "    By default, the edges connect the given points directly. Use *step* if\n",
      "    the filling should be a step function, i.e. constant in between *x*.\n",
      "    \n",
      "    \n",
      "    Parameters\n",
      "    ----------\n",
      "    x : array (length N)\n",
      "        The x coordinates of the nodes defining the curves.\n",
      "    \n",
      "    y1 : array (length N) or scalar\n",
      "        The y coordinates of the nodes defining the first curve.\n",
      "    \n",
      "    y2 : array (length N) or scalar, optional, default: 0\n",
      "        The y coordinates of the nodes defining the second curve.\n",
      "    \n",
      "    where : array of bool (length N), optional, default: None\n",
      "        Define *where* to exclude some horizontal regions from being\n",
      "        filled. The filled regions are defined by the coordinates\n",
      "        ``x[where]``.  More precisely, fill between ``x[i]`` and ``x[i+1]``\n",
      "        if ``where[i] and where[i+1]``.  Note that this definition implies\n",
      "        that an isolated *True* value between two *False* values in\n",
      "        *where* will not result in filling.  Both sides of the *True*\n",
      "        position remain unfilled due to the adjacent *False* values.\n",
      "    \n",
      "    interpolate : bool, optional\n",
      "        This option is only relevant if *where* is used and the two curves\n",
      "        are crossing each other.\n",
      "    \n",
      "        Semantically, *where* is often used for *y1* > *y2* or similar.\n",
      "        By default, the nodes of the polygon defining the filled region\n",
      "        will only be placed at the positions in the *x* array.  Such a\n",
      "        polygon cannot describe the above semantics close to the\n",
      "        intersection.  The x-sections containing the intersection are\n",
      "        simply clipped.\n",
      "    \n",
      "        Setting *interpolate* to *True* will calculate the actual\n",
      "        intersection point and extend the filled region up to this point.\n",
      "    \n",
      "    step : {'pre', 'post', 'mid'}, optional\n",
      "        Define *step* if the filling should be a step function,\n",
      "        i.e. constant in between *x*. The value determines where the\n",
      "        step will occur:\n",
      "    \n",
      "        - 'pre': The y value is continued constantly to the left from\n",
      "          every *x* position, i.e. the interval ``(x[i-1], x[i]]`` has the\n",
      "          value ``y[i]``.\n",
      "        - 'post': The y value is continued constantly to the right from\n",
      "          every *x* position, i.e. the interval ``[x[i], x[i+1])`` has the\n",
      "          value ``y[i]``.\n",
      "        - 'mid': Steps occur half-way between the *x* positions.\n",
      "    \n",
      "    Other Parameters\n",
      "    ----------------\n",
      "    **kwargs\n",
      "        All other keyword arguments are passed on to `.PolyCollection`.\n",
      "        They control the `.Polygon` properties:\n",
      "    \n",
      "          agg_filter: a filter function, which takes a (m, n, 3) float array and a dpi value, and returns a (m, n, 3) array\n",
      "      alpha: float or None\n",
      "      animated: bool\n",
      "      antialiased or aa or antialiaseds: bool or sequence of bools\n",
      "      array: ndarray\n",
      "      capstyle: {'butt', 'round', 'projecting'}\n",
      "      clim: a length 2 sequence of floats; may be overridden in methods that have ``vmin`` and ``vmax`` kwargs.\n",
      "      clip_box: `.Bbox`\n",
      "      clip_on: bool\n",
      "      clip_path: [(`~matplotlib.path.Path`, `.Transform`) | `.Patch` | None]\n",
      "      cmap: colormap or registered colormap name\n",
      "      color: color or sequence of rgba tuples\n",
      "      contains: callable\n",
      "      edgecolor or ec or edgecolors: color or sequence of colors or 'face'\n",
      "      facecolor or facecolors or fc: color or sequence of colors\n",
      "      figure: `.Figure`\n",
      "      gid: str\n",
      "      hatch: {'/', '\\\\', '|', '-', '+', 'x', 'o', 'O', '.', '*'}\n",
      "      in_layout: bool\n",
      "      joinstyle: {'miter', 'round', 'bevel'}\n",
      "      label: object\n",
      "      linestyle or dashes or linestyles or ls: {'-', '--', '-.', ':', '', (offset, on-off-seq), ...}\n",
      "      linewidth or linewidths or lw: float or sequence of floats\n",
      "      norm: `.Normalize`\n",
      "      offset_position: {'screen', 'data'}\n",
      "      offsets: float or sequence of floats\n",
      "      path_effects: `.AbstractPathEffect`\n",
      "      picker: None or bool or float or callable\n",
      "      pickradius: unknown\n",
      "      rasterized: bool or None\n",
      "      sketch_params: (scale: float, length: float, randomness: float)\n",
      "      snap: bool or None\n",
      "      transform: `.Transform`\n",
      "      url: str\n",
      "      urls: List[str] or None\n",
      "      visible: bool\n",
      "      zorder: float\n",
      "    \n",
      "    Returns\n",
      "    -------\n",
      "    `.PolyCollection`\n",
      "        A `.PolyCollection` containing the plotted polygons.\n",
      "    \n",
      "    See Also\n",
      "    --------\n",
      "    fill_betweenx : Fill between two sets of x-values.\n",
      "    \n",
      "    Notes\n",
      "    -----\n",
      "    .. [notes section required to get data note injection right]\n",
      "    \n",
      "    .. note::\n",
      "        In addition to the above described arguments, this function can take a\n",
      "        **data** keyword argument. If such a **data** argument is given, the\n",
      "        following arguments are replaced by **data[<arg>]**:\n",
      "    \n",
      "        * All arguments with the following names: 'where', 'x', 'y1', 'y2'.\n",
      "    \n",
      "        Objects passed as **data** must support item access (``data[<arg>]``) and\n",
      "        membership test (``<arg> in data``).\n",
      "\n"
     ]
    }
   ],
   "source": [
    "help(plt.fill_between)"
   ]
  },
  {
   "cell_type": "code",
   "execution_count": 13,
   "metadata": {},
   "outputs": [
    {
     "data": {
      "text/plain": [
       "<matplotlib.collections.PolyCollection at 0x16af99486a0>"
      ]
     },
     "execution_count": 13,
     "metadata": {},
     "output_type": "execute_result"
    },
    {
     "data": {
      "image/png": "[encoded data removed]",
      "text/plain": [
       "<Figure size 432x288 with 1 Axes>"
      ]
     },
     "metadata": {
      "needs_background": "light"
     },
     "output_type": "display_data"
    }
   ],
   "source": [
    "fig = plt.figure()\n",
    "ax = fig.add_subplot()\n",
    "ax.plot(X, np.sin(X))\n",
    "ax.fill_between(X, y1 = np.sin(X), y2 = 0, color = 'r', where = np.sin(X) > 0)"
   ]
  },
  {
   "cell_type": "code",
   "execution_count": null,
   "metadata": {},
   "outputs": [],
   "source": []
  }
 ],
 "metadata": {
  "kernelspec": {
   "display_name": "Python 3",
   "language": "python",
   "name": "python3"
  },
  "language_info": {
   "codemirror_mode": {
    "name": "ipython",
    "version": 3
   },
   "file_extension": ".py",
   "mimetype": "text/x-python",
   "name": "python",
   "nbconvert_exporter": "python",
   "pygments_lexer": "ipython3",
   "version": "3.7.3"
  }
 },
 "nbformat": 4,
 "nbformat_minor": 2
}
