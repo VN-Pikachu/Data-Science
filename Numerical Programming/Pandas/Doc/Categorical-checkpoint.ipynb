{
 "cells": [
  {
   "cell_type": "markdown",
   "metadata": {},
   "source": [
    "Often in real-time, data includes the text columns, which are repetitive. Features like gender, country, and codes are always repetitive. These are the examples for categorical data.\n",
    "\n",
    "Categorical variables can take on only a limited, and usually fixed number of possible values. Besides the fixed length, categorical data might have an order but cannot perform numerical operation. Categorical are a Pandas data type.\n",
    "\n",
    "The categorical data type is useful in the following cases −\n",
    "\n",
    "* A string variable consisting of only a few different values. Converting such a string variable to a categorical variable will save some memory.\n",
    "\n",
    "* The lexical order of a variable is not the same as the logical order (“one”, “two”, “three”). By converting to a categorical and specifying an order on the categories, sorting and min/max will use the logical order instead of the lexical order.\n",
    "\n",
    "* As a signal to other python libraries that this column should be treated as a categorical variable (e.g. to use suitable statistical methods or plot types)."
   ]
  },
  {
   "cell_type": "code",
   "execution_count": 2,
   "metadata": {},
   "outputs": [],
   "source": [
    "import pandas as pd"
   ]
  },
  {
   "cell_type": "markdown",
   "metadata": {},
   "source": [
    "# Object Creation"
   ]
  },
  {
   "cell_type": "markdown",
   "metadata": {},
   "source": [
    "````python\n",
    "pd.Categorical(\n",
    "    values,\n",
    "    categories=None,\n",
    "    ordered=None,\n",
    "    dtype=None,\n",
    "    fastpath=False,\n",
    ")\n",
    "```"
   ]
  },
  {
   "cell_type": "code",
   "execution_count": 8,
   "metadata": {},
   "outputs": [
    {
     "data": {
      "text/plain": [
       "[Dau De, Dau De, Dau Ton, Dau Thanh]\n",
       "Categories (5, object): [Dau Vuong < Dau Tong < Dau Ton < Dau Thanh < Dau De]"
      ]
     },
     "execution_count": 8,
     "metadata": {},
     "output_type": "execute_result"
    }
   ],
   "source": [
    "ranks = pd.Categorical(['Dau De', 'Dau De', 'Dau Ton', 'Dau Thanh'], \n",
    "                       categories = ['Dau Vuong', 'Dau Tong', 'Dau Ton', 'Dau Thanh', 'Dau De'],\n",
    "                       ordered = True)\n",
    "ranks"
   ]
  },
  {
   "cell_type": "code",
   "execution_count": 9,
   "metadata": {},
   "outputs": [
    {
     "data": {
      "text/plain": [
       "[Three, NaN, NaN, Two]\n",
       "Categories (3, object): [One < Two < Three]"
      ]
     },
     "execution_count": 9,
     "metadata": {},
     "output_type": "execute_result"
    }
   ],
   "source": [
    "nums = pd.Categorical(['Three', 'Fourth', 'Fifth', 'Two'], categories = ['One', 'Two', 'Three'], ordered = True)\n",
    "nums"
   ]
  },
  {
   "cell_type": "code",
   "execution_count": 14,
   "metadata": {},
   "outputs": [
    {
     "data": {
      "text/plain": [
       "0     Three\n",
       "1    Fourth\n",
       "2     Fifth\n",
       "3       Two\n",
       "dtype: category\n",
       "Categories (4, object): [Fifth, Fourth, Three, Two]"
      ]
     },
     "execution_count": 14,
     "metadata": {},
     "output_type": "execute_result"
    }
   ],
   "source": [
    "#Series with category dype\n",
    "nums_series = pd.Series(['Three', 'Fourth', 'Fifth', 'Two'], dtype = 'category')\n",
    "nums_series"
   ]
  },
  {
   "cell_type": "markdown",
   "metadata": {},
   "source": [
    "# Properties"
   ]
  },
  {
   "cell_type": "markdown",
   "metadata": {},
   "source": [
    "```python\n",
    "categories : Index\n",
    "    The categories of this categorical\n",
    "codes : ndarray\n",
    "    The codes (integer positions, which point to the categories) of this\n",
    "    categorical, read only.\n",
    "ordered : boolean\n",
    "    Whether or not this Categorical is ordered.\n",
    "dtype : CategoricalDtype\n",
    "    The instance of ``CategoricalDtype`` storing the ``categories``\n",
    "    and ``ordered``.\n",
    "    ```\n"
   ]
  },
  {
   "cell_type": "markdown",
   "metadata": {},
   "source": [
    "## categories"
   ]
  },
  {
   "cell_type": "code",
   "execution_count": 19,
   "metadata": {},
   "outputs": [
    {
     "data": {
      "text/plain": [
       "Index(['Dau Vuong', 'Dau Tong', 'Dau Ton', 'Dau Thanh', 'Dau De'], dtype='object')"
      ]
     },
     "execution_count": 19,
     "metadata": {},
     "output_type": "execute_result"
    }
   ],
   "source": [
    "ranks.categories"
   ]
  },
  {
   "cell_type": "code",
   "execution_count": 22,
   "metadata": {},
   "outputs": [
    {
     "data": {
      "text/plain": [
       "Index(['Fifth', 'Fourth', 'Three', 'Two'], dtype='object')"
      ]
     },
     "execution_count": 22,
     "metadata": {},
     "output_type": "execute_result"
    }
   ],
   "source": [
    "#Series.cat to access Categorical Object\n",
    "nums_series.cat.categories"
   ]
  },
  {
   "cell_type": "markdown",
   "metadata": {},
   "source": [
    "## ordered"
   ]
  },
  {
   "cell_type": "code",
   "execution_count": 23,
   "metadata": {},
   "outputs": [
    {
     "data": {
      "text/plain": [
       "True"
      ]
     },
     "execution_count": 23,
     "metadata": {},
     "output_type": "execute_result"
    }
   ],
   "source": [
    "ranks.ordered"
   ]
  },
  {
   "cell_type": "code",
   "execution_count": 25,
   "metadata": {},
   "outputs": [
    {
     "data": {
      "text/plain": [
       "False"
      ]
     },
     "execution_count": 25,
     "metadata": {},
     "output_type": "execute_result"
    }
   ],
   "source": [
    "nums_series.cat.ordered"
   ]
  },
  {
   "cell_type": "markdown",
   "metadata": {},
   "source": [
    "## dtype"
   ]
  },
  {
   "cell_type": "code",
   "execution_count": 26,
   "metadata": {},
   "outputs": [
    {
     "data": {
      "text/plain": [
       "CategoricalDtype(categories=['Dau Vuong', 'Dau Tong', 'Dau Ton', 'Dau Thanh', 'Dau De'], ordered=True)"
      ]
     },
     "execution_count": 26,
     "metadata": {},
     "output_type": "execute_result"
    }
   ],
   "source": [
    "ranks.dtype"
   ]
  },
  {
   "cell_type": "markdown",
   "metadata": {},
   "source": [
    "## codes"
   ]
  },
  {
   "cell_type": "code",
   "execution_count": 28,
   "metadata": {},
   "outputs": [
    {
     "data": {
      "text/plain": [
       "array([4, 4, 2, 3], dtype=int8)"
      ]
     },
     "execution_count": 28,
     "metadata": {},
     "output_type": "execute_result"
    }
   ],
   "source": [
    "ranks.codes"
   ]
  },
  {
   "cell_type": "markdown",
   "metadata": {},
   "source": [
    "# Adding a new category"
   ]
  },
  {
   "cell_type": "markdown",
   "metadata": {},
   "source": [
    "```python\n",
    "Categorical.add_categories(new_categories, inplace=False)\n",
    "```"
   ]
  },
  {
   "cell_type": "code",
   "execution_count": 31,
   "metadata": {},
   "outputs": [
    {
     "data": {
      "text/plain": [
       "[Dau De, Dau De, Dau Ton, Dau Thanh]\n",
       "Categories (7, object): [Dau Vuong < Dau Tong < Dau Ton < Dau Thanh < Dau De < Dau Linh < Dau Hoang]"
      ]
     },
     "execution_count": 31,
     "metadata": {},
     "output_type": "execute_result"
    }
   ],
   "source": [
    "ranks.add_categories(['Dau Linh', 'Dau Hoang'], inplace = True)\n",
    "ranks"
   ]
  },
  {
   "cell_type": "markdown",
   "metadata": {},
   "source": [
    "# Removing categories"
   ]
  },
  {
   "cell_type": "markdown",
   "metadata": {},
   "source": [
    "```python\n",
    "Categorical.remove_categories(removals, inplace=False)\n",
    "```"
   ]
  },
  {
   "cell_type": "code",
   "execution_count": 35,
   "metadata": {},
   "outputs": [
    {
     "data": {
      "text/plain": [
       "[Dau De, Dau De, Dau Ton, NaN]\n",
       "Categories (5, object): [Dau Vuong < Dau Tong < Dau Ton < Dau De < Dau Hoang]"
      ]
     },
     "execution_count": 35,
     "metadata": {},
     "output_type": "execute_result"
    }
   ],
   "source": [
    "ranks.remove_categories(['Dau Thanh', 'Dau Linh'], inplace = True)\n",
    "ranks"
   ]
  },
  {
   "cell_type": "code",
   "execution_count": 36,
   "metadata": {},
   "outputs": [
    {
     "data": {
      "text/plain": [
       "Index(['Dau Vuong', 'Dau Tong', 'Dau Ton', 'Dau De', 'Dau Hoang'], dtype='object')"
      ]
     },
     "execution_count": 36,
     "metadata": {},
     "output_type": "execute_result"
    }
   ],
   "source": [
    "ranks.categories"
   ]
  },
  {
   "cell_type": "markdown",
   "metadata": {},
   "source": [
    "# Rename categories"
   ]
  },
  {
   "cell_type": "code",
   "execution_count": 37,
   "metadata": {},
   "outputs": [
    {
     "data": {
      "text/plain": [
       "[Three, NaN, NaN, Two]\n",
       "Categories (3, object): [One < Two < Three]"
      ]
     },
     "execution_count": 37,
     "metadata": {},
     "output_type": "execute_result"
    }
   ],
   "source": [
    "nums"
   ]
  },
  {
   "cell_type": "code",
   "execution_count": 38,
   "metadata": {},
   "outputs": [
    {
     "data": {
      "text/plain": [
       "[Ba, NaN, NaN, Hai]\n",
       "Categories (3, object): [Mot < Hai < Ba]"
      ]
     },
     "execution_count": 38,
     "metadata": {},
     "output_type": "execute_result"
    }
   ],
   "source": [
    "nums.categories = ['Mot', 'Hai', 'Ba']\n",
    "nums"
   ]
  },
  {
   "cell_type": "code",
   "execution_count": 39,
   "metadata": {},
   "outputs": [
    {
     "data": {
      "text/plain": [
       "0     Three\n",
       "1    Fourth\n",
       "2     Fifth\n",
       "3       Two\n",
       "dtype: category\n",
       "Categories (4, object): [Fifth, Fourth, Three, Two]"
      ]
     },
     "execution_count": 39,
     "metadata": {},
     "output_type": "execute_result"
    }
   ],
   "source": [
    "nums_series"
   ]
  },
  {
   "cell_type": "code",
   "execution_count": 40,
   "metadata": {},
   "outputs": [
    {
     "data": {
      "text/plain": [
       "0    3\n",
       "1    4\n",
       "2    5\n",
       "3    2\n",
       "dtype: category\n",
       "Categories (4, object): [5, 4, 3, 2]"
      ]
     },
     "execution_count": 40,
     "metadata": {},
     "output_type": "execute_result"
    }
   ],
   "source": [
    "nums_series.cat.categories = ['5', '4', '3', '2']\n",
    "nums_series"
   ]
  },
  {
   "cell_type": "markdown",
   "metadata": {},
   "source": [
    "# Comparison of Categorical Data"
   ]
  },
  {
   "cell_type": "code",
   "execution_count": 41,
   "metadata": {},
   "outputs": [
    {
     "data": {
      "text/plain": [
       "array([ True, False, False])"
      ]
     },
     "execution_count": 41,
     "metadata": {},
     "output_type": "execute_result"
    }
   ],
   "source": [
    "cats = ['One', 'Two', 'Three', 'Four']\n",
    "values_1 = pd.Categorical(['One', 'Three', 'Two'], categories=cats, ordered = True)\n",
    "values_2 = pd.Categorical(['Four', 'One', 'One'], categories=cats, ordered=True)\n",
    "\n",
    "values_1 < values_2"
   ]
  },
  {
   "cell_type": "code",
   "execution_count": null,
   "metadata": {},
   "outputs": [],
   "source": []
  }
 ],
 "metadata": {
  "kernelspec": {
   "display_name": "Python 3",
   "language": "python",
   "name": "python3"
  },
  "language_info": {
   "codemirror_mode": {
    "name": "ipython",
    "version": 3
   },
   "file_extension": ".py",
   "mimetype": "text/x-python",
   "name": "python",
   "nbconvert_exporter": "python",
   "pygments_lexer": "ipython3",
   "version": "3.7.3"
  }
 },
 "nbformat": 4,
 "nbformat_minor": 2
}
