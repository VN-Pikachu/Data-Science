{
 "cells": [
  {
   "cell_type": "code",
   "execution_count": 1,
   "metadata": {},
   "outputs": [],
   "source": [
    "import numpy as np\n",
    "import pandas as pd"
   ]
  },
  {
   "cell_type": "code",
   "execution_count": 6,
   "metadata": {},
   "outputs": [],
   "source": [
    "#Timedelta Object: Represents a duration, the difference between two dates or times.\n",
    "#SYNTAX: pd.Timedelta(value, unit, weeks, days, hours, minutes, seconds, milliseconds, microseconds)\n",
    "#    unit = {'s', 'ms', 'us', 'm', 'h', 'D'}"
   ]
  },
  {
   "cell_type": "code",
   "execution_count": 11,
   "metadata": {},
   "outputs": [],
   "source": [
    "pd.Timedelta?"
   ]
  },
  {
   "cell_type": "markdown",
   "metadata": {},
   "source": [
    "```python\n",
    "pd.Timedelta(\n",
    "    value=<object object at 0x000001CBE038A440>,\n",
    "    unit=None,\n",
    "    **kwargs,\n",
    ")\n",
    "Docstring:     \n",
    "Represents a duration, the difference between two dates or times.\n",
    "\n",
    "Timedelta is the pandas equivalent of python's ``datetime.timedelta``\n",
    "and is interchangeable with it in most cases.\n",
    "\n",
    "Parameters\n",
    "----------\n",
    "value : Timedelta, timedelta, np.timedelta64, string, or integer\n",
    "unit : str, optional\n",
    "    Denote the unit of the input, if input is an integer. Default 'ns'.\n",
    "    Possible values:\n",
    "    {'Y', 'M', 'W', 'D', 'days', 'day', 'hours', hour', 'hr', 'h',\n",
    "    'm', 'minute', 'min', 'minutes', 'T', 'S', 'seconds', 'sec', 'second',\n",
    "    'ms', 'milliseconds', 'millisecond', 'milli', 'millis', 'L',\n",
    "    'us', 'microseconds', 'microsecond', 'micro', 'micros', 'U',\n",
    "    'ns', 'nanoseconds', 'nano', 'nanos', 'nanosecond', 'N'}\n",
    "days, seconds, microseconds,\n",
    "milliseconds, minutes, hours, weeks : numeric, optional\n",
    "```"
   ]
  },
  {
   "cell_type": "markdown",
   "metadata": {},
   "source": [
    "# Create Timedelta"
   ]
  },
  {
   "cell_type": "code",
   "execution_count": 16,
   "metadata": {},
   "outputs": [
    {
     "name": "stdout",
     "output_type": "stream",
     "text": [
      "2001-10-08 03:00:00\n"
     ]
    }
   ],
   "source": [
    "#String\n",
    "diff = pd.Timedelta('2 days 3 hours')\n",
    "print(pd.Timestamp('10/06/2001') + diff)"
   ]
  },
  {
   "cell_type": "code",
   "execution_count": 17,
   "metadata": {},
   "outputs": [
    {
     "data": {
      "text/plain": [
       "Timestamp('2020-09-08 01:02:30')"
      ]
     },
     "execution_count": 17,
     "metadata": {},
     "output_type": "execute_result"
    }
   ],
   "source": [
    "#String\n",
    "pd.Timestamp('00:00:00') + pd.Timedelta('1 hour 2 minutes 30 seconds')"
   ]
  },
  {
   "cell_type": "code",
   "execution_count": 19,
   "metadata": {},
   "outputs": [
    {
     "name": "stdout",
     "output_type": "stream",
     "text": [
      "2020-09-08 12:00:12\n"
     ]
    }
   ],
   "source": [
    "#Integer\n",
    "diff = pd.Timedelta(12, unit = 's') #difference = 12 seconds\n",
    "print(pd.Timestamp('12:00:00') + diff)"
   ]
  },
  {
   "cell_type": "code",
   "execution_count": 20,
   "metadata": {},
   "outputs": [
    {
     "data": {
      "text/plain": [
       "DatetimeIndex(['2001-01-02', '2001-01-03', '2001-01-04', '2001-01-05',\n",
       "               '2001-01-06'],\n",
       "              dtype='datetime64[ns]', freq='D')"
      ]
     },
     "execution_count": 20,
     "metadata": {},
     "output_type": "execute_result"
    }
   ],
   "source": [
    "#Integer\n",
    "pd.date_range('00:00:00 1/1/2001', periods = 5) + pd.Timedelta(1, unit = 'd')"
   ]
  },
  {
   "cell_type": "code",
   "execution_count": 14,
   "metadata": {},
   "outputs": [
    {
     "name": "stdout",
     "output_type": "stream",
     "text": [
      "2020-08-30 22:58:59\n"
     ]
    }
   ],
   "source": [
    "#data offset\n",
    "diff = pd.Timedelta(weeks = 1, days = 1, hours = 1, minutes = 1, seconds = 1) #difference 1 week, 1 day, 1 hour, 1 minute, 1 second\n",
    "print(pd.Timestamp('00:00:00') - diff)"
   ]
  },
  {
   "cell_type": "code",
   "execution_count": 22,
   "metadata": {},
   "outputs": [
    {
     "data": {
      "text/plain": [
       "DatetimeIndex(['2001-01-02 01:03:05', '2001-01-03 01:03:05',\n",
       "               '2001-01-04 01:03:05'],\n",
       "              dtype='datetime64[ns]', freq='D')"
      ]
     },
     "execution_count": 22,
     "metadata": {},
     "output_type": "execute_result"
    }
   ],
   "source": [
    "#data offset\n",
    "pd.date_range('1/1/2001', periods = 3) + pd.Timedelta(days = 1, hours = 1, minutes = 3, seconds = 5)"
   ]
  },
  {
   "cell_type": "markdown",
   "metadata": {},
   "source": [
    "# Convert to Timedelta"
   ]
  },
  {
   "cell_type": "markdown",
   "metadata": {},
   "source": [
    "```python\n",
    "pd.to_timedelta(arg, unit='ns', box=True, errors='raise')\n",
    "```"
   ]
  },
  {
   "cell_type": "code",
   "execution_count": 24,
   "metadata": {},
   "outputs": [
    {
     "data": {
      "text/plain": [
       "TimedeltaIndex(['01:00:00', '00:03:00'], dtype='timedelta64[ns]', freq=None)"
      ]
     },
     "execution_count": 24,
     "metadata": {},
     "output_type": "execute_result"
    }
   ],
   "source": [
    "pd.to_timedelta(['1 hour', '3 minutes'])"
   ]
  },
  {
   "cell_type": "code",
   "execution_count": null,
   "metadata": {},
   "outputs": [],
   "source": []
  }
 ],
 "metadata": {
  "kernelspec": {
   "display_name": "Python 3",
   "language": "python",
   "name": "python3"
  },
  "language_info": {
   "codemirror_mode": {
    "name": "ipython",
    "version": 3
   },
   "file_extension": ".py",
   "mimetype": "text/x-python",
   "name": "python",
   "nbconvert_exporter": "python",
   "pygments_lexer": "ipython3",
   "version": "3.7.3"
  }
 },
 "nbformat": 4,
 "nbformat_minor": 2
}
