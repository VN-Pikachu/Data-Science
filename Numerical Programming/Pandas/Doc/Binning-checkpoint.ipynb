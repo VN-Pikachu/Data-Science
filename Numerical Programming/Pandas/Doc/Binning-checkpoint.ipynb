{
 "cells": [
  {
   "cell_type": "code",
   "execution_count": 1,
   "metadata": {},
   "outputs": [],
   "source": [
    "import pandas as pd\n",
    "import numpy as np"
   ]
  },
  {
   "cell_type": "markdown",
   "metadata": {},
   "source": [
    "# pd.cut"
   ]
  },
  {
   "cell_type": "markdown",
   "metadata": {},
   "source": [
    "Use `cut` when you need to segment and sort data values into bins. This\n",
    "function is also useful for going from a continuous variable to a\n",
    "categorical variable. For example, `cut` could convert ages to groups of\n",
    "age ranges. Supports binning into an equal number of bins, or a\n",
    "pre-specified array of bins.\n"
   ]
  },
  {
   "cell_type": "markdown",
   "metadata": {},
   "source": [
    "```python\n",
    "pd.cut(\n",
    "    x,\n",
    "    bins,\n",
    "    right=True,\n",
    "    labels=None,\n",
    "    retbins=False,\n",
    "    precision=3,\n",
    "    include_lowest=False,\n",
    "    duplicates='raise',\n",
    ")\n",
    "```"
   ]
  },
  {
   "cell_type": "code",
   "execution_count": 4,
   "metadata": {},
   "outputs": [],
   "source": [
    "#set the keyword: right = false --> each interval is not CLOSED on the right side  --> e.g: [18, 25), [25, 35)\n",
    "#by default: right = True --> each interval is CLOSED on the right side --> e.g: (18, 25], (25, 35],..."
   ]
  },
  {
   "cell_type": "code",
   "execution_count": 6,
   "metadata": {},
   "outputs": [
    {
     "data": {
      "text/plain": [
       "[(0.995, 2.667], (0.995, 2.667], (2.667, 4.333], (2.667, 4.333], (4.333, 6.0], (4.333, 6.0]]\n",
       "Categories (3, interval[float64]): [(0.995, 2.667] < (2.667, 4.333] < (4.333, 6.0]]"
      ]
     },
     "execution_count": 6,
     "metadata": {},
     "output_type": "execute_result"
    }
   ],
   "source": [
    "#discretize into 3 equal-sized bins\n",
    "vals = [1,2,3,4,5,6]\n",
    "pd.cut(vals, 3)"
   ]
  },
  {
   "cell_type": "code",
   "execution_count": 8,
   "metadata": {},
   "outputs": [
    {
     "data": {
      "text/plain": [
       "[(0, 2], (0, 2], (2, 4], (2, 4], (4, 8], (4, 8]]\n",
       "Categories (3, interval[int64]): [(0, 2] < (2, 4] < (4, 8]]"
      ]
     },
     "execution_count": 8,
     "metadata": {},
     "output_type": "execute_result"
    }
   ],
   "source": [
    "#binning at certain points\n",
    "delimiters = [0, 2, 4, 8]\n",
    "pd.cut(vals, delimiters)"
   ]
  },
  {
   "cell_type": "code",
   "execution_count": 9,
   "metadata": {},
   "outputs": [
    {
     "data": {
      "text/plain": [
       "[[1.0, 2.667), [1.0, 2.667), [2.667, 4.333), [2.667, 4.333), [4.333, 6.005), [4.333, 6.005)]\n",
       "Categories (3, interval[float64]): [[1.0, 2.667) < [2.667, 4.333) < [4.333, 6.005)]"
      ]
     },
     "execution_count": 9,
     "metadata": {},
     "output_type": "execute_result"
    }
   ],
   "source": [
    "#open right interval\n",
    "pd.cut(vals, 3, right = False)"
   ]
  },
  {
   "cell_type": "code",
   "execution_count": 13,
   "metadata": {},
   "outputs": [
    {
     "data": {
      "text/plain": [
       "[small, small, medium, medium, large, large]\n",
       "Categories (3, object): [small < medium < large]"
      ]
     },
     "execution_count": 13,
     "metadata": {},
     "output_type": "execute_result"
    }
   ],
   "source": [
    "#set label for each bin\n",
    "pd.cut(vals, delimiters, labels = ['small', 'medium', 'large'])"
   ]
  },
  {
   "cell_type": "code",
   "execution_count": 16,
   "metadata": {},
   "outputs": [],
   "source": [
    "#set retbins = True return 2 values\n",
    "binning_array, delimiter = pd.cut(vals, 3, retbins = True)"
   ]
  },
  {
   "cell_type": "code",
   "execution_count": 17,
   "metadata": {},
   "outputs": [
    {
     "data": {
      "text/plain": [
       "[(0.995, 2.667], (0.995, 2.667], (2.667, 4.333], (2.667, 4.333], (4.333, 6.0], (4.333, 6.0]]\n",
       "Categories (3, interval[float64]): [(0.995, 2.667] < (2.667, 4.333] < (4.333, 6.0]]"
      ]
     },
     "execution_count": 17,
     "metadata": {},
     "output_type": "execute_result"
    }
   ],
   "source": [
    "binning_array"
   ]
  },
  {
   "cell_type": "code",
   "execution_count": 19,
   "metadata": {},
   "outputs": [
    {
     "data": {
      "text/plain": [
       "[0, 2, 4, 8]"
      ]
     },
     "execution_count": 19,
     "metadata": {},
     "output_type": "execute_result"
    }
   ],
   "source": [
    "delimiters"
   ]
  },
  {
   "cell_type": "code",
   "execution_count": 32,
   "metadata": {},
   "outputs": [
    {
     "data": {
      "text/plain": [
       "a    (-0.004, 1.333]\n",
       "b    (-0.004, 1.333]\n",
       "c     (1.333, 2.667]\n",
       "d       (2.667, 4.0]\n",
       "e       (2.667, 4.0]\n",
       "dtype: category\n",
       "Categories (3, interval[float64]): [(-0.004, 1.333] < (1.333, 2.667] < (2.667, 4.0]]"
      ]
     },
     "execution_count": 32,
     "metadata": {},
     "output_type": "execute_result"
    }
   ],
   "source": [
    "#binning a series map each value to an interval\n",
    "nums = pd.Series(range(5), index = ['a', 'b', 'c', 'd', 'e'])\n",
    "pd.cut(nums, 3)"
   ]
  },
  {
   "cell_type": "code",
   "execution_count": 33,
   "metadata": {},
   "outputs": [],
   "source": [
    "#mapping each value to label of each interval"
   ]
  },
  {
   "cell_type": "code",
   "execution_count": 34,
   "metadata": {},
   "outputs": [
    {
     "data": {
      "text/plain": [
       "a       low\n",
       "b       low\n",
       "c    medium\n",
       "d      high\n",
       "e      high\n",
       "dtype: category\n",
       "Categories (3, object): [low < medium < high]"
      ]
     },
     "execution_count": 34,
     "metadata": {},
     "output_type": "execute_result"
    }
   ],
   "source": [
    "pd.cut(nums, 3, labels = ['low', 'medium', 'high'])"
   ]
  },
  {
   "cell_type": "markdown",
   "metadata": {},
   "source": [
    "# pd.qcut"
   ]
  },
  {
   "cell_type": "markdown",
   "metadata": {},
   "source": [
    "Quantile-based discretization function. Discretize variable into\n",
    "equal-sized buckets based on rank or based on sample quantiles. For example\n",
    "1000 values for 10 quantiles would produce a Categorical object indicating\n",
    "quantile membership for each data point."
   ]
  },
  {
   "cell_type": "markdown",
   "metadata": {},
   "source": [
    "```python\n",
    "pd.qcut(x, q, labels=None, retbins=False, precision=3, duplicates='raise')\n",
    "```"
   ]
  },
  {
   "cell_type": "code",
   "execution_count": 24,
   "metadata": {},
   "outputs": [],
   "source": [
    "pd.set_option('display.max_rows', 8)"
   ]
  },
  {
   "cell_type": "code",
   "execution_count": 25,
   "metadata": {},
   "outputs": [
    {
     "data": {
      "text/plain": [
       "0         sigma\n",
       "1         sigma\n",
       "2         sigma\n",
       "3      -2 sigma\n",
       "         ...   \n",
       "296      -sigma\n",
       "297      -sigma\n",
       "298       sigma\n",
       "299       sigma\n",
       "Length: 300, dtype: category\n",
       "Categories (4, object): [-2 sigma < -sigma < sigma < 2 sigma]"
      ]
     },
     "execution_count": 25,
     "metadata": {},
     "output_type": "execute_result"
    }
   ],
   "source": [
    "heights = pd.Series(np.random.rand(300) * 175)\n",
    "bars = pd.qcut(heights, [0, .25, .5, .75, 1], labels = ['-2 sigma', '-sigma', 'sigma', '2 sigma'])\n",
    "bars"
   ]
  },
  {
   "cell_type": "code",
   "execution_count": 31,
   "metadata": {},
   "outputs": [
    {
     "data": {
      "text/plain": [
       "[(-0.001, 1.0], (-0.001, 1.0], (1.0, 2.0], (2.0, 3.0], (3.0, 4.0]]\n",
       "Categories (4, interval[float64]): [(-0.001, 1.0] < (1.0, 2.0] < (2.0, 3.0] < (3.0, 4.0]]"
      ]
     },
     "execution_count": 31,
     "metadata": {},
     "output_type": "execute_result"
    }
   ],
   "source": [
    "pd.qcut(range(5), 4)"
   ]
  }
 ],
 "metadata": {
  "kernelspec": {
   "display_name": "Python 3",
   "language": "python",
   "name": "python3"
  },
  "language_info": {
   "codemirror_mode": {
    "name": "ipython",
    "version": 3
   },
   "file_extension": ".py",
   "mimetype": "text/x-python",
   "name": "python",
   "nbconvert_exporter": "python",
   "pygments_lexer": "ipython3",
   "version": "3.7.3"
  }
 },
 "nbformat": 4,
 "nbformat_minor": 2
}
