{
 "cells": [
  {
   "cell_type": "code",
   "execution_count": 17,
   "metadata": {},
   "outputs": [],
   "source": [
    "import pandas as pd\n",
    "import numpy as np\n",
    "import os\n",
    "from sklearn.linear_model import LogisticRegression"
   ]
  },
  {
   "cell_type": "code",
   "execution_count": 27,
   "metadata": {},
   "outputs": [],
   "source": [
    "from sklearn.model_selection import train_test_split"
   ]
  },
  {
   "cell_type": "code",
   "execution_count": 2,
   "metadata": {},
   "outputs": [],
   "source": [
    "os.chdir(r'C:\\Users\\dell\\PycharmProjects\\MachineLearning\\Pandas\\datasets')"
   ]
  },
  {
   "cell_type": "code",
   "execution_count": 12,
   "metadata": {},
   "outputs": [
    {
     "data": {
      "text/html": [
       "<div>\n",
       "<style scoped>\n",
       "    .dataframe tbody tr th:only-of-type {\n",
       "        vertical-align: middle;\n",
       "    }\n",
       "\n",
       "    .dataframe tbody tr th {\n",
       "        vertical-align: top;\n",
       "    }\n",
       "\n",
       "    .dataframe thead th {\n",
       "        text-align: right;\n",
       "    }\n",
       "</style>\n",
       "<table border=\"1\" class=\"dataframe\">\n",
       "  <thead>\n",
       "    <tr style=\"text-align: right;\">\n",
       "      <th></th>\n",
       "      <th>PassengerId</th>\n",
       "      <th>Survived</th>\n",
       "      <th>Pclass</th>\n",
       "      <th>Name</th>\n",
       "      <th>Sex</th>\n",
       "      <th>Age</th>\n",
       "      <th>SibSp</th>\n",
       "      <th>Parch</th>\n",
       "      <th>Ticket</th>\n",
       "      <th>Fare</th>\n",
       "      <th>Cabin</th>\n",
       "      <th>Embarked</th>\n",
       "    </tr>\n",
       "  </thead>\n",
       "  <tbody>\n",
       "    <tr>\n",
       "      <th>0</th>\n",
       "      <td>1</td>\n",
       "      <td>0</td>\n",
       "      <td>3</td>\n",
       "      <td>Braund, Mr. Owen Harris</td>\n",
       "      <td>male</td>\n",
       "      <td>22.0</td>\n",
       "      <td>1</td>\n",
       "      <td>0</td>\n",
       "      <td>A/5 21171</td>\n",
       "      <td>7.2500</td>\n",
       "      <td>NaN</td>\n",
       "      <td>S</td>\n",
       "    </tr>\n",
       "    <tr>\n",
       "      <th>1</th>\n",
       "      <td>2</td>\n",
       "      <td>1</td>\n",
       "      <td>1</td>\n",
       "      <td>Cumings, Mrs. John Bradley (Florence Briggs Th...</td>\n",
       "      <td>female</td>\n",
       "      <td>38.0</td>\n",
       "      <td>1</td>\n",
       "      <td>0</td>\n",
       "      <td>PC 17599</td>\n",
       "      <td>71.2833</td>\n",
       "      <td>C85</td>\n",
       "      <td>C</td>\n",
       "    </tr>\n",
       "    <tr>\n",
       "      <th>2</th>\n",
       "      <td>3</td>\n",
       "      <td>1</td>\n",
       "      <td>3</td>\n",
       "      <td>Heikkinen, Miss. Laina</td>\n",
       "      <td>female</td>\n",
       "      <td>26.0</td>\n",
       "      <td>0</td>\n",
       "      <td>0</td>\n",
       "      <td>STON/O2. 3101282</td>\n",
       "      <td>7.9250</td>\n",
       "      <td>NaN</td>\n",
       "      <td>S</td>\n",
       "    </tr>\n",
       "  </tbody>\n",
       "</table>\n",
       "</div>"
      ],
      "text/plain": [
       "   PassengerId  Survived  Pclass  \\\n",
       "0            1         0       3   \n",
       "1            2         1       1   \n",
       "2            3         1       3   \n",
       "\n",
       "                                                Name     Sex   Age  SibSp  \\\n",
       "0                            Braund, Mr. Owen Harris    male  22.0      1   \n",
       "1  Cumings, Mrs. John Bradley (Florence Briggs Th...  female  38.0      1   \n",
       "2                             Heikkinen, Miss. Laina  female  26.0      0   \n",
       "\n",
       "   Parch            Ticket     Fare Cabin Embarked  \n",
       "0      0         A/5 21171   7.2500   NaN        S  \n",
       "1      0          PC 17599  71.2833   C85        C  \n",
       "2      0  STON/O2. 3101282   7.9250   NaN        S  "
      ]
     },
     "execution_count": 12,
     "metadata": {},
     "output_type": "execute_result"
    }
   ],
   "source": [
    "titanic = pd.read_csv('./titanic.csv')\n",
    "pokemon = pd.read_csv('./pokemon.csv')\n",
    "titanic.head(3)"
   ]
  },
  {
   "cell_type": "markdown",
   "metadata": {},
   "source": [
    "# Table-wise"
   ]
  },
  {
   "cell_type": "markdown",
   "metadata": {},
   "source": [
    "## pipe"
   ]
  },
  {
   "cell_type": "markdown",
   "metadata": {},
   "source": [
    "```python\n",
    "DataFrame.pipe(func, *args, **kwargs)\n",
    "```"
   ]
  },
  {
   "cell_type": "markdown",
   "metadata": {},
   "source": [
    "<pre>\n",
    ">>> f(g(h(df), arg1=a), arg2=b, arg3=c)\n",
    "\n",
    "You can write\n",
    "\n",
    ">>> (df.pipe(h)\n",
    "...    .pipe(g, arg1=a)\n",
    "...    .pipe(f, arg2=b, arg3=c)\n",
    "... )\n",
    "</pre>"
   ]
  },
  {
   "cell_type": "code",
   "execution_count": 8,
   "metadata": {},
   "outputs": [
    {
     "data": {
      "text/html": [
       "<div>\n",
       "<style scoped>\n",
       "    .dataframe tbody tr th:only-of-type {\n",
       "        vertical-align: middle;\n",
       "    }\n",
       "\n",
       "    .dataframe tbody tr th {\n",
       "        vertical-align: top;\n",
       "    }\n",
       "\n",
       "    .dataframe thead th {\n",
       "        text-align: right;\n",
       "    }\n",
       "</style>\n",
       "<table border=\"1\" class=\"dataframe\">\n",
       "  <thead>\n",
       "    <tr style=\"text-align: right;\">\n",
       "      <th></th>\n",
       "      <th>0</th>\n",
       "      <th>1</th>\n",
       "    </tr>\n",
       "  </thead>\n",
       "  <tbody>\n",
       "    <tr>\n",
       "      <th>0</th>\n",
       "      <td>1.0</td>\n",
       "      <td>2.0</td>\n",
       "    </tr>\n",
       "    <tr>\n",
       "      <th>1</th>\n",
       "      <td>3.0</td>\n",
       "      <td>4.0</td>\n",
       "    </tr>\n",
       "  </tbody>\n",
       "</table>\n",
       "</div>"
      ],
      "text/plain": [
       "     0    1\n",
       "0  1.0  2.0\n",
       "1  3.0  4.0"
      ]
     },
     "execution_count": 8,
     "metadata": {},
     "output_type": "execute_result"
    }
   ],
   "source": [
    "softplus = lambda z: np.log(z + 1)\n",
    "linear = lambda x, w:  w * x\n",
    "\n",
    "values = pd.DataFrame([[1,2], [3,4]], dtype = float)\n",
    "values"
   ]
  },
  {
   "cell_type": "code",
   "execution_count": 10,
   "metadata": {},
   "outputs": [
    {
     "data": {
      "text/html": [
       "<div>\n",
       "<style scoped>\n",
       "    .dataframe tbody tr th:only-of-type {\n",
       "        vertical-align: middle;\n",
       "    }\n",
       "\n",
       "    .dataframe tbody tr th {\n",
       "        vertical-align: top;\n",
       "    }\n",
       "\n",
       "    .dataframe thead th {\n",
       "        text-align: right;\n",
       "    }\n",
       "</style>\n",
       "<table border=\"1\" class=\"dataframe\">\n",
       "  <thead>\n",
       "    <tr style=\"text-align: right;\">\n",
       "      <th></th>\n",
       "      <th>0</th>\n",
       "      <th>1</th>\n",
       "    </tr>\n",
       "  </thead>\n",
       "  <tbody>\n",
       "    <tr>\n",
       "      <th>0</th>\n",
       "      <td>0.693147</td>\n",
       "      <td>1.098612</td>\n",
       "    </tr>\n",
       "    <tr>\n",
       "      <th>1</th>\n",
       "      <td>1.386294</td>\n",
       "      <td>1.609438</td>\n",
       "    </tr>\n",
       "  </tbody>\n",
       "</table>\n",
       "</div>"
      ],
      "text/plain": [
       "          0         1\n",
       "0  0.693147  1.098612\n",
       "1  1.386294  1.609438"
      ]
     },
     "execution_count": 10,
     "metadata": {},
     "output_type": "execute_result"
    }
   ],
   "source": [
    "softplus(linear(values, 1))"
   ]
  },
  {
   "cell_type": "code",
   "execution_count": 11,
   "metadata": {},
   "outputs": [
    {
     "data": {
      "text/html": [
       "<div>\n",
       "<style scoped>\n",
       "    .dataframe tbody tr th:only-of-type {\n",
       "        vertical-align: middle;\n",
       "    }\n",
       "\n",
       "    .dataframe tbody tr th {\n",
       "        vertical-align: top;\n",
       "    }\n",
       "\n",
       "    .dataframe thead th {\n",
       "        text-align: right;\n",
       "    }\n",
       "</style>\n",
       "<table border=\"1\" class=\"dataframe\">\n",
       "  <thead>\n",
       "    <tr style=\"text-align: right;\">\n",
       "      <th></th>\n",
       "      <th>0</th>\n",
       "      <th>1</th>\n",
       "    </tr>\n",
       "  </thead>\n",
       "  <tbody>\n",
       "    <tr>\n",
       "      <th>0</th>\n",
       "      <td>0.693147</td>\n",
       "      <td>1.098612</td>\n",
       "    </tr>\n",
       "    <tr>\n",
       "      <th>1</th>\n",
       "      <td>1.386294</td>\n",
       "      <td>1.609438</td>\n",
       "    </tr>\n",
       "  </tbody>\n",
       "</table>\n",
       "</div>"
      ],
      "text/plain": [
       "          0         1\n",
       "0  0.693147  1.098612\n",
       "1  1.386294  1.609438"
      ]
     },
     "execution_count": 11,
     "metadata": {},
     "output_type": "execute_result"
    }
   ],
   "source": [
    "#equivalent\n",
    "values.pipe(linear, w = 1).pipe(softplus)"
   ]
  },
  {
   "cell_type": "markdown",
   "metadata": {},
   "source": [
    "# Row-wise and Column-wise"
   ]
  },
  {
   "cell_type": "markdown",
   "metadata": {},
   "source": [
    "## apply"
   ]
  },
  {
   "cell_type": "code",
   "execution_count": 13,
   "metadata": {},
   "outputs": [
    {
     "data": {
      "text/html": [
       "<div>\n",
       "<style scoped>\n",
       "    .dataframe tbody tr th:only-of-type {\n",
       "        vertical-align: middle;\n",
       "    }\n",
       "\n",
       "    .dataframe tbody tr th {\n",
       "        vertical-align: top;\n",
       "    }\n",
       "\n",
       "    .dataframe thead th {\n",
       "        text-align: right;\n",
       "    }\n",
       "</style>\n",
       "<table border=\"1\" class=\"dataframe\">\n",
       "  <thead>\n",
       "    <tr style=\"text-align: right;\">\n",
       "      <th></th>\n",
       "      <th>#</th>\n",
       "      <th>Name</th>\n",
       "      <th>Type 1</th>\n",
       "      <th>Type 2</th>\n",
       "      <th>Total</th>\n",
       "      <th>HP</th>\n",
       "      <th>Attack</th>\n",
       "      <th>Defense</th>\n",
       "      <th>Sp. Atk</th>\n",
       "      <th>Sp. Def</th>\n",
       "      <th>Speed</th>\n",
       "      <th>Generation</th>\n",
       "      <th>Legendary</th>\n",
       "    </tr>\n",
       "  </thead>\n",
       "  <tbody>\n",
       "    <tr>\n",
       "      <th>0</th>\n",
       "      <td>1</td>\n",
       "      <td>Bulbasaur</td>\n",
       "      <td>Grass</td>\n",
       "      <td>Poison</td>\n",
       "      <td>318</td>\n",
       "      <td>45</td>\n",
       "      <td>49</td>\n",
       "      <td>49</td>\n",
       "      <td>65</td>\n",
       "      <td>65</td>\n",
       "      <td>45</td>\n",
       "      <td>1</td>\n",
       "      <td>False</td>\n",
       "    </tr>\n",
       "    <tr>\n",
       "      <th>1</th>\n",
       "      <td>2</td>\n",
       "      <td>Ivysaur</td>\n",
       "      <td>Grass</td>\n",
       "      <td>Poison</td>\n",
       "      <td>405</td>\n",
       "      <td>60</td>\n",
       "      <td>62</td>\n",
       "      <td>63</td>\n",
       "      <td>80</td>\n",
       "      <td>80</td>\n",
       "      <td>60</td>\n",
       "      <td>1</td>\n",
       "      <td>False</td>\n",
       "    </tr>\n",
       "    <tr>\n",
       "      <th>2</th>\n",
       "      <td>3</td>\n",
       "      <td>Venusaur</td>\n",
       "      <td>Grass</td>\n",
       "      <td>Poison</td>\n",
       "      <td>525</td>\n",
       "      <td>80</td>\n",
       "      <td>82</td>\n",
       "      <td>83</td>\n",
       "      <td>100</td>\n",
       "      <td>100</td>\n",
       "      <td>80</td>\n",
       "      <td>1</td>\n",
       "      <td>False</td>\n",
       "    </tr>\n",
       "  </tbody>\n",
       "</table>\n",
       "</div>"
      ],
      "text/plain": [
       "   #       Name Type 1  Type 2  Total  HP  Attack  Defense  Sp. Atk  Sp. Def  \\\n",
       "0  1  Bulbasaur  Grass  Poison    318  45      49       49       65       65   \n",
       "1  2    Ivysaur  Grass  Poison    405  60      62       63       80       80   \n",
       "2  3   Venusaur  Grass  Poison    525  80      82       83      100      100   \n",
       "\n",
       "   Speed  Generation  Legendary  \n",
       "0     45           1      False  \n",
       "1     60           1      False  \n",
       "2     80           1      False  "
      ]
     },
     "execution_count": 13,
     "metadata": {},
     "output_type": "execute_result"
    }
   ],
   "source": [
    "pokemon.head(3)"
   ]
  },
  {
   "cell_type": "code",
   "execution_count": 15,
   "metadata": {},
   "outputs": [
    {
     "data": {
      "text/html": [
       "<div>\n",
       "<style scoped>\n",
       "    .dataframe tbody tr th:only-of-type {\n",
       "        vertical-align: middle;\n",
       "    }\n",
       "\n",
       "    .dataframe tbody tr th {\n",
       "        vertical-align: top;\n",
       "    }\n",
       "\n",
       "    .dataframe thead th {\n",
       "        text-align: right;\n",
       "    }\n",
       "</style>\n",
       "<table border=\"1\" class=\"dataframe\">\n",
       "  <thead>\n",
       "    <tr style=\"text-align: right;\">\n",
       "      <th></th>\n",
       "      <th>Attack</th>\n",
       "      <th>Defense</th>\n",
       "      <th>Sp. Atk</th>\n",
       "      <th>Sp. Def</th>\n",
       "      <th>Speed</th>\n",
       "      <th>Generation</th>\n",
       "    </tr>\n",
       "  </thead>\n",
       "  <tbody>\n",
       "    <tr>\n",
       "      <th>0</th>\n",
       "      <td>49</td>\n",
       "      <td>49</td>\n",
       "      <td>65</td>\n",
       "      <td>65</td>\n",
       "      <td>45</td>\n",
       "      <td>1</td>\n",
       "    </tr>\n",
       "    <tr>\n",
       "      <th>1</th>\n",
       "      <td>62</td>\n",
       "      <td>63</td>\n",
       "      <td>80</td>\n",
       "      <td>80</td>\n",
       "      <td>60</td>\n",
       "      <td>1</td>\n",
       "    </tr>\n",
       "    <tr>\n",
       "      <th>2</th>\n",
       "      <td>82</td>\n",
       "      <td>83</td>\n",
       "      <td>100</td>\n",
       "      <td>100</td>\n",
       "      <td>80</td>\n",
       "      <td>1</td>\n",
       "    </tr>\n",
       "  </tbody>\n",
       "</table>\n",
       "</div>"
      ],
      "text/plain": [
       "   Attack  Defense  Sp. Atk  Sp. Def  Speed  Generation\n",
       "0      49       49       65       65     45           1\n",
       "1      62       63       80       80     60           1\n",
       "2      82       83      100      100     80           1"
      ]
     },
     "execution_count": 15,
     "metadata": {},
     "output_type": "execute_result"
    }
   ],
   "source": [
    "stats = pokemon.loc[:, 'Attack':'speed']\n",
    "stats.head(3)"
   ]
  },
  {
   "cell_type": "code",
   "execution_count": 24,
   "metadata": {},
   "outputs": [
    {
     "data": {
      "text/html": [
       "<div>\n",
       "<style scoped>\n",
       "    .dataframe tbody tr th:only-of-type {\n",
       "        vertical-align: middle;\n",
       "    }\n",
       "\n",
       "    .dataframe tbody tr th {\n",
       "        vertical-align: top;\n",
       "    }\n",
       "\n",
       "    .dataframe thead th {\n",
       "        text-align: right;\n",
       "    }\n",
       "</style>\n",
       "<table border=\"1\" class=\"dataframe\">\n",
       "  <thead>\n",
       "    <tr style=\"text-align: right;\">\n",
       "      <th></th>\n",
       "      <th>Attack</th>\n",
       "      <th>Defense</th>\n",
       "      <th>Sp. Atk</th>\n",
       "      <th>Sp. Def</th>\n",
       "      <th>Speed</th>\n",
       "      <th>Generation</th>\n",
       "    </tr>\n",
       "  </thead>\n",
       "  <tbody>\n",
       "    <tr>\n",
       "      <th>0</th>\n",
       "      <td>-0.924328</td>\n",
       "      <td>-0.796655</td>\n",
       "      <td>-0.238981</td>\n",
       "      <td>-0.248033</td>\n",
       "      <td>-0.801002</td>\n",
       "      <td>-1.398762</td>\n",
       "    </tr>\n",
       "    <tr>\n",
       "      <th>1</th>\n",
       "      <td>-0.523803</td>\n",
       "      <td>-0.347700</td>\n",
       "      <td>0.219422</td>\n",
       "      <td>0.290974</td>\n",
       "      <td>-0.284837</td>\n",
       "      <td>-1.398762</td>\n",
       "    </tr>\n",
       "    <tr>\n",
       "      <th>2</th>\n",
       "      <td>0.092390</td>\n",
       "      <td>0.293665</td>\n",
       "      <td>0.830626</td>\n",
       "      <td>1.009651</td>\n",
       "      <td>0.403383</td>\n",
       "      <td>-1.398762</td>\n",
       "    </tr>\n",
       "  </tbody>\n",
       "</table>\n",
       "</div>"
      ],
      "text/plain": [
       "     Attack   Defense   Sp. Atk   Sp. Def     Speed  Generation\n",
       "0 -0.924328 -0.796655 -0.238981 -0.248033 -0.801002   -1.398762\n",
       "1 -0.523803 -0.347700  0.219422  0.290974 -0.284837   -1.398762\n",
       "2  0.092390  0.293665  0.830626  1.009651  0.403383   -1.398762"
      ]
     },
     "execution_count": 24,
     "metadata": {},
     "output_type": "execute_result"
    }
   ],
   "source": [
    "#column_wise: let's normalize each column\n",
    "X = stats.apply(lambda column: (column - column.mean()) / column.std())\n",
    "X.head(3)"
   ]
  },
  {
   "cell_type": "code",
   "execution_count": 28,
   "metadata": {},
   "outputs": [
    {
     "data": {
      "text/plain": [
       "0    0\n",
       "1    0\n",
       "2    0\n",
       "Name: Legendary, dtype: int64"
      ]
     },
     "execution_count": 28,
     "metadata": {},
     "output_type": "execute_result"
    }
   ],
   "source": [
    "#Apply for a Series\n",
    "y = pokemon['Legendary'].apply(lambda val: 1 if val else 0)\n",
    "y.head(3)"
   ]
  },
  {
   "cell_type": "code",
   "execution_count": 32,
   "metadata": {},
   "outputs": [],
   "source": [
    "X_train, X_test, y_train, y_test = train_test_split(X, y, random_state = 7)"
   ]
  },
  {
   "cell_type": "code",
   "execution_count": 33,
   "metadata": {},
   "outputs": [
    {
     "name": "stderr",
     "output_type": "stream",
     "text": [
      "C:\\Users\\dell\\Anaconda3\\lib\\site-packages\\sklearn\\linear_model\\logistic.py:432: FutureWarning: Default solver will be changed to 'lbfgs' in 0.22. Specify a solver to silence this warning.\n",
      "  FutureWarning)\n"
     ]
    },
    {
     "data": {
      "text/plain": [
       "LogisticRegression(C=1.0, class_weight=None, dual=False, fit_intercept=True,\n",
       "                   intercept_scaling=1, l1_ratio=None, max_iter=100,\n",
       "                   multi_class='warn', n_jobs=None, penalty='l2',\n",
       "                   random_state=None, solver='warn', tol=0.0001, verbose=0,\n",
       "                   warm_start=False)"
      ]
     },
     "execution_count": 33,
     "metadata": {},
     "output_type": "execute_result"
    }
   ],
   "source": [
    "model = LogisticRegression()\n",
    "model.fit(X_train, y_train)"
   ]
  },
  {
   "cell_type": "code",
   "execution_count": 38,
   "metadata": {},
   "outputs": [
    {
     "data": {
      "text/plain": [
       "0.925"
      ]
     },
     "execution_count": 38,
     "metadata": {},
     "output_type": "execute_result"
    }
   ],
   "source": [
    "y_pred = model.predict(X_test)\n",
    "model.score(X_test, y_test)"
   ]
  },
  {
   "cell_type": "code",
   "execution_count": 47,
   "metadata": {},
   "outputs": [
    {
     "data": {
      "text/plain": [
       "array([0.72692411, 0.21761582, 0.8521094 , 1.11267587, 0.79852306,\n",
       "       0.54736479])"
      ]
     },
     "execution_count": 47,
     "metadata": {},
     "output_type": "execute_result"
    }
   ],
   "source": [
    "coef = model.coef_[0]\n",
    "coef"
   ]
  },
  {
   "cell_type": "code",
   "execution_count": 48,
   "metadata": {},
   "outputs": [
    {
     "data": {
      "text/plain": [
       "-4.4806381540328015"
      ]
     },
     "execution_count": 48,
     "metadata": {},
     "output_type": "execute_result"
    }
   ],
   "source": [
    "intercept = model.intercept_[0]\n",
    "intercept"
   ]
  },
  {
   "cell_type": "markdown",
   "metadata": {},
   "source": [
    "let's make a prediction for the test set"
   ]
  },
  {
   "cell_type": "code",
   "execution_count": 51,
   "metadata": {},
   "outputs": [],
   "source": [
    "sigmoid = lambda x : 1 / (1 + np.exp(-x))"
   ]
  },
  {
   "cell_type": "code",
   "execution_count": 57,
   "metadata": {},
   "outputs": [
    {
     "data": {
      "text/plain": [
       "61     0.000548\n",
       "799    0.420049\n",
       "747    0.064906\n",
       "668    0.000634\n",
       "726    0.256871\n",
       "110    0.000258\n",
       "389    0.026671\n",
       "464    0.013220\n",
       "34     0.000124\n",
       "244    0.054164\n",
       "271    0.173491\n",
       "283    0.355095\n",
       "731    0.111733\n",
       "480    0.021806\n",
       "300    0.011420\n",
       "772    0.036594\n",
       "142    0.017028\n",
       "256    0.021350\n",
       "620    0.003460\n",
       "277    0.006224\n",
       "236    0.000166\n",
       "750    0.219515\n",
       "776    0.778590\n",
       "477    0.166643\n",
       "289    0.000034\n",
       "665    0.081689\n",
       "586    0.001622\n",
       "518    0.220902\n",
       "140    0.045611\n",
       "478    0.036862\n",
       "         ...   \n",
       "70     0.105918\n",
       "722    0.025178\n",
       "698    0.354022\n",
       "358    0.002136\n",
       "523    0.032021\n",
       "351    0.004505\n",
       "739    0.630477\n",
       "702    0.427408\n",
       "186    0.000138\n",
       "749    0.007191\n",
       "471    0.041956\n",
       "318    0.001179\n",
       "607    0.070748\n",
       "171    0.080296\n",
       "505    0.018683\n",
       "764    0.001989\n",
       "547    0.033581\n",
       "511    0.260997\n",
       "532    0.166346\n",
       "22     0.011361\n",
       "650    0.057659\n",
       "625    0.001344\n",
       "2      0.049177\n",
       "765    0.206822\n",
       "557    0.000979\n",
       "609    0.065565\n",
       "686    0.044016\n",
       "542    0.332902\n",
       "115    0.020284\n",
       "515    0.011931\n",
       "Length: 200, dtype: float64"
      ]
     },
     "execution_count": 57,
     "metadata": {},
     "output_type": "execute_result"
    }
   ],
   "source": [
    "#row-wise: let's calculate the probability each pokemon is legendary\n",
    "legendary_pred = X_test.apply(lambda row : sigmoid(row.to_numpy() @ coef + intercept), axis = 1)\n",
    "legendary_pred"
   ]
  },
  {
   "cell_type": "code",
   "execution_count": 63,
   "metadata": {},
   "outputs": [
    {
     "data": {
      "text/html": [
       "<div>\n",
       "<style scoped>\n",
       "    .dataframe tbody tr th:only-of-type {\n",
       "        vertical-align: middle;\n",
       "    }\n",
       "\n",
       "    .dataframe tbody tr th {\n",
       "        vertical-align: top;\n",
       "    }\n",
       "\n",
       "    .dataframe thead th {\n",
       "        text-align: right;\n",
       "    }\n",
       "</style>\n",
       "<table border=\"1\" class=\"dataframe\">\n",
       "  <thead>\n",
       "    <tr style=\"text-align: right;\">\n",
       "      <th></th>\n",
       "      <th>Attack</th>\n",
       "      <th>Defense</th>\n",
       "      <th>Sp. Atk</th>\n",
       "      <th>Sp. Def</th>\n",
       "      <th>Speed</th>\n",
       "      <th>Generation</th>\n",
       "      <th>probability</th>\n",
       "      <th>predict target</th>\n",
       "      <th>model predict</th>\n",
       "      <th>true target</th>\n",
       "    </tr>\n",
       "  </thead>\n",
       "  <tbody>\n",
       "    <tr>\n",
       "      <th>61</th>\n",
       "      <td>0.030771</td>\n",
       "      <td>-1.245611</td>\n",
       "      <td>-1.155787</td>\n",
       "      <td>-0.966710</td>\n",
       "      <td>0.059273</td>\n",
       "      <td>-1.398762</td>\n",
       "      <td>0.000548</td>\n",
       "      <td>0</td>\n",
       "      <td>0</td>\n",
       "      <td>0</td>\n",
       "    </tr>\n",
       "    <tr>\n",
       "      <th>799</th>\n",
       "      <td>0.955061</td>\n",
       "      <td>1.480190</td>\n",
       "      <td>1.747432</td>\n",
       "      <td>0.650313</td>\n",
       "      <td>0.059273</td>\n",
       "      <td>1.610947</td>\n",
       "      <td>0.420049</td>\n",
       "      <td>0</td>\n",
       "      <td>0</td>\n",
       "      <td>1</td>\n",
       "    </tr>\n",
       "    <tr>\n",
       "      <th>747</th>\n",
       "      <td>-0.955138</td>\n",
       "      <td>0.069187</td>\n",
       "      <td>0.311103</td>\n",
       "      <td>0.326908</td>\n",
       "      <td>1.229247</td>\n",
       "      <td>1.610947</td>\n",
       "      <td>0.064906</td>\n",
       "      <td>0</td>\n",
       "      <td>0</td>\n",
       "      <td>0</td>\n",
       "    </tr>\n",
       "  </tbody>\n",
       "</table>\n",
       "</div>"
      ],
      "text/plain": [
       "       Attack   Defense   Sp. Atk   Sp. Def     Speed  Generation  \\\n",
       "61   0.030771 -1.245611 -1.155787 -0.966710  0.059273   -1.398762   \n",
       "799  0.955061  1.480190  1.747432  0.650313  0.059273    1.610947   \n",
       "747 -0.955138  0.069187  0.311103  0.326908  1.229247    1.610947   \n",
       "\n",
       "     probability  predict target  model predict  true target  \n",
       "61      0.000548               0              0            0  \n",
       "799     0.420049               0              0            1  \n",
       "747     0.064906               0              0            0  "
      ]
     },
     "execution_count": 63,
     "metadata": {},
     "output_type": "execute_result"
    }
   ],
   "source": [
    "report = X_test.copy()\n",
    "report['probability'] = legendary_pred\n",
    "report['predict target'] = legendary_pred.apply(lambda v : 0 if v < .5 else 1)\n",
    "report['model predict'] = model.predict(X_test)\n",
    "report['true target'] = y_test\n",
    "report.head(3)"
   ]
  },
  {
   "cell_type": "code",
   "execution_count": 64,
   "metadata": {},
   "outputs": [
    {
     "data": {
      "text/html": [
       "<div>\n",
       "<style scoped>\n",
       "    .dataframe tbody tr th:only-of-type {\n",
       "        vertical-align: middle;\n",
       "    }\n",
       "\n",
       "    .dataframe tbody tr th {\n",
       "        vertical-align: top;\n",
       "    }\n",
       "\n",
       "    .dataframe thead th {\n",
       "        text-align: right;\n",
       "    }\n",
       "</style>\n",
       "<table border=\"1\" class=\"dataframe\">\n",
       "  <thead>\n",
       "    <tr style=\"text-align: right;\">\n",
       "      <th></th>\n",
       "      <th>Attack</th>\n",
       "      <th>Defense</th>\n",
       "      <th>Sp. Atk</th>\n",
       "      <th>Sp. Def</th>\n",
       "      <th>Speed</th>\n",
       "      <th>Generation</th>\n",
       "      <th>probability</th>\n",
       "      <th>predict target</th>\n",
       "      <th>model predict</th>\n",
       "      <th>true target</th>\n",
       "    </tr>\n",
       "  </thead>\n",
       "  <tbody>\n",
       "    <tr>\n",
       "      <th>799</th>\n",
       "      <td>0.955061</td>\n",
       "      <td>1.480190</td>\n",
       "      <td>1.747432</td>\n",
       "      <td>0.650313</td>\n",
       "      <td>0.059273</td>\n",
       "      <td>1.610947</td>\n",
       "      <td>0.420049</td>\n",
       "      <td>0</td>\n",
       "      <td>0</td>\n",
       "      <td>1</td>\n",
       "    </tr>\n",
       "    <tr>\n",
       "      <th>553</th>\n",
       "      <td>0.646964</td>\n",
       "      <td>0.838825</td>\n",
       "      <td>0.830626</td>\n",
       "      <td>1.009651</td>\n",
       "      <td>1.091603</td>\n",
       "      <td>1.009005</td>\n",
       "      <td>0.360628</td>\n",
       "      <td>0</td>\n",
       "      <td>0</td>\n",
       "      <td>1</td>\n",
       "    </tr>\n",
       "    <tr>\n",
       "      <th>418</th>\n",
       "      <td>0.646964</td>\n",
       "      <td>1.480190</td>\n",
       "      <td>2.053035</td>\n",
       "      <td>2.806344</td>\n",
       "      <td>1.435713</td>\n",
       "      <td>-0.194879</td>\n",
       "      <td>0.902341</td>\n",
       "      <td>1</td>\n",
       "      <td>1</td>\n",
       "      <td>1</td>\n",
       "    </tr>\n",
       "    <tr>\n",
       "      <th>420</th>\n",
       "      <td>1.571254</td>\n",
       "      <td>0.838825</td>\n",
       "      <td>2.664239</td>\n",
       "      <td>1.728328</td>\n",
       "      <td>1.435713</td>\n",
       "      <td>-0.194879</td>\n",
       "      <td>0.888663</td>\n",
       "      <td>1</td>\n",
       "      <td>1</td>\n",
       "      <td>1</td>\n",
       "    </tr>\n",
       "    <tr>\n",
       "      <th>549</th>\n",
       "      <td>0.338868</td>\n",
       "      <td>0.518143</td>\n",
       "      <td>1.900234</td>\n",
       "      <td>0.650313</td>\n",
       "      <td>1.951878</td>\n",
       "      <td>0.407063</td>\n",
       "      <td>0.500669</td>\n",
       "      <td>1</td>\n",
       "      <td>1</td>\n",
       "      <td>1</td>\n",
       "    </tr>\n",
       "    <tr>\n",
       "      <th>699</th>\n",
       "      <td>0.338868</td>\n",
       "      <td>1.768804</td>\n",
       "      <td>0.525024</td>\n",
       "      <td>0.003504</td>\n",
       "      <td>1.366891</td>\n",
       "      <td>1.009005</td>\n",
       "      <td>0.147503</td>\n",
       "      <td>0</td>\n",
       "      <td>0</td>\n",
       "      <td>1</td>\n",
       "    </tr>\n",
       "    <tr>\n",
       "      <th>423</th>\n",
       "      <td>2.187446</td>\n",
       "      <td>2.121555</td>\n",
       "      <td>0.830626</td>\n",
       "      <td>0.650313</td>\n",
       "      <td>0.747493</td>\n",
       "      <td>-0.194879</td>\n",
       "      <td>0.375837</td>\n",
       "      <td>0</td>\n",
       "      <td>0</td>\n",
       "      <td>1</td>\n",
       "    </tr>\n",
       "    <tr>\n",
       "      <th>430</th>\n",
       "      <td>-0.277325</td>\n",
       "      <td>2.762919</td>\n",
       "      <td>-0.086180</td>\n",
       "      <td>3.165682</td>\n",
       "      <td>0.747493</td>\n",
       "      <td>-0.194879</td>\n",
       "      <td>0.464606</td>\n",
       "      <td>0</td>\n",
       "      <td>0</td>\n",
       "      <td>1</td>\n",
       "    </tr>\n",
       "    <tr>\n",
       "      <th>431</th>\n",
       "      <td>0.492916</td>\n",
       "      <td>0.518143</td>\n",
       "      <td>0.677825</td>\n",
       "      <td>0.650313</td>\n",
       "      <td>3.844483</td>\n",
       "      <td>-0.194879</td>\n",
       "      <td>0.563367</td>\n",
       "      <td>1</td>\n",
       "      <td>1</td>\n",
       "      <td>1</td>\n",
       "    </tr>\n",
       "    <tr>\n",
       "      <th>797</th>\n",
       "      <td>0.955061</td>\n",
       "      <td>-0.443905</td>\n",
       "      <td>2.358637</td>\n",
       "      <td>2.087667</td>\n",
       "      <td>0.059273</td>\n",
       "      <td>1.610947</td>\n",
       "      <td>0.798804</td>\n",
       "      <td>1</td>\n",
       "      <td>1</td>\n",
       "      <td>1</td>\n",
       "    </tr>\n",
       "    <tr>\n",
       "      <th>552</th>\n",
       "      <td>1.263157</td>\n",
       "      <td>1.480190</td>\n",
       "      <td>1.441830</td>\n",
       "      <td>1.728328</td>\n",
       "      <td>1.779823</td>\n",
       "      <td>0.407063</td>\n",
       "      <td>0.825693</td>\n",
       "      <td>1</td>\n",
       "      <td>1</td>\n",
       "      <td>1</td>\n",
       "    </tr>\n",
       "    <tr>\n",
       "      <th>417</th>\n",
       "      <td>0.030771</td>\n",
       "      <td>0.518143</td>\n",
       "      <td>1.136228</td>\n",
       "      <td>2.087667</td>\n",
       "      <td>1.435713</td>\n",
       "      <td>-0.194879</td>\n",
       "      <td>0.496338</td>\n",
       "      <td>0</td>\n",
       "      <td>0</td>\n",
       "      <td>1</td>\n",
       "    </tr>\n",
       "    <tr>\n",
       "      <th>544</th>\n",
       "      <td>0.646964</td>\n",
       "      <td>1.480190</td>\n",
       "      <td>0.830626</td>\n",
       "      <td>1.728328</td>\n",
       "      <td>0.747493</td>\n",
       "      <td>0.407063</td>\n",
       "      <td>0.440859</td>\n",
       "      <td>0</td>\n",
       "      <td>0</td>\n",
       "      <td>1</td>\n",
       "    </tr>\n",
       "    <tr>\n",
       "      <th>270</th>\n",
       "      <td>1.571254</td>\n",
       "      <td>0.518143</td>\n",
       "      <td>1.136228</td>\n",
       "      <td>2.950079</td>\n",
       "      <td>0.747493</td>\n",
       "      <td>-0.796820</td>\n",
       "      <td>0.765973</td>\n",
       "      <td>1</td>\n",
       "      <td>1</td>\n",
       "      <td>1</td>\n",
       "    </tr>\n",
       "    <tr>\n",
       "      <th>414</th>\n",
       "      <td>0.646964</td>\n",
       "      <td>4.045649</td>\n",
       "      <td>-0.697384</td>\n",
       "      <td>1.009651</td>\n",
       "      <td>-0.628947</td>\n",
       "      <td>-0.194879</td>\n",
       "      <td>0.038803</td>\n",
       "      <td>0</td>\n",
       "      <td>0</td>\n",
       "      <td>1</td>\n",
       "    </tr>\n",
       "    <tr>\n",
       "      <th>798</th>\n",
       "      <td>2.495543</td>\n",
       "      <td>-0.443905</td>\n",
       "      <td>2.969841</td>\n",
       "      <td>2.087667</td>\n",
       "      <td>0.403383</td>\n",
       "      <td>1.610947</td>\n",
       "      <td>0.964231</td>\n",
       "      <td>1</td>\n",
       "      <td>1</td>\n",
       "      <td>1</td>\n",
       "    </tr>\n",
       "    <tr>\n",
       "      <th>419</th>\n",
       "      <td>0.338868</td>\n",
       "      <td>0.197460</td>\n",
       "      <td>1.747432</td>\n",
       "      <td>1.368990</td>\n",
       "      <td>1.435713</td>\n",
       "      <td>-0.194879</td>\n",
       "      <td>0.465228</td>\n",
       "      <td>0</td>\n",
       "      <td>0</td>\n",
       "      <td>1</td>\n",
       "    </tr>\n",
       "    <tr>\n",
       "      <th>702</th>\n",
       "      <td>1.109109</td>\n",
       "      <td>-0.123222</td>\n",
       "      <td>1.594631</td>\n",
       "      <td>0.290974</td>\n",
       "      <td>1.470124</td>\n",
       "      <td>1.009005</td>\n",
       "      <td>0.427408</td>\n",
       "      <td>0</td>\n",
       "      <td>0</td>\n",
       "      <td>1</td>\n",
       "    </tr>\n",
       "    <tr>\n",
       "      <th>542</th>\n",
       "      <td>0.338868</td>\n",
       "      <td>1.031234</td>\n",
       "      <td>1.747432</td>\n",
       "      <td>1.225254</td>\n",
       "      <td>0.300150</td>\n",
       "      <td>0.407063</td>\n",
       "      <td>0.332902</td>\n",
       "      <td>0</td>\n",
       "      <td>0</td>\n",
       "      <td>1</td>\n",
       "    </tr>\n",
       "  </tbody>\n",
       "</table>\n",
       "</div>"
      ],
      "text/plain": [
       "       Attack   Defense   Sp. Atk   Sp. Def     Speed  Generation  \\\n",
       "799  0.955061  1.480190  1.747432  0.650313  0.059273    1.610947   \n",
       "553  0.646964  0.838825  0.830626  1.009651  1.091603    1.009005   \n",
       "418  0.646964  1.480190  2.053035  2.806344  1.435713   -0.194879   \n",
       "420  1.571254  0.838825  2.664239  1.728328  1.435713   -0.194879   \n",
       "549  0.338868  0.518143  1.900234  0.650313  1.951878    0.407063   \n",
       "699  0.338868  1.768804  0.525024  0.003504  1.366891    1.009005   \n",
       "423  2.187446  2.121555  0.830626  0.650313  0.747493   -0.194879   \n",
       "430 -0.277325  2.762919 -0.086180  3.165682  0.747493   -0.194879   \n",
       "431  0.492916  0.518143  0.677825  0.650313  3.844483   -0.194879   \n",
       "797  0.955061 -0.443905  2.358637  2.087667  0.059273    1.610947   \n",
       "552  1.263157  1.480190  1.441830  1.728328  1.779823    0.407063   \n",
       "417  0.030771  0.518143  1.136228  2.087667  1.435713   -0.194879   \n",
       "544  0.646964  1.480190  0.830626  1.728328  0.747493    0.407063   \n",
       "270  1.571254  0.518143  1.136228  2.950079  0.747493   -0.796820   \n",
       "414  0.646964  4.045649 -0.697384  1.009651 -0.628947   -0.194879   \n",
       "798  2.495543 -0.443905  2.969841  2.087667  0.403383    1.610947   \n",
       "419  0.338868  0.197460  1.747432  1.368990  1.435713   -0.194879   \n",
       "702  1.109109 -0.123222  1.594631  0.290974  1.470124    1.009005   \n",
       "542  0.338868  1.031234  1.747432  1.225254  0.300150    0.407063   \n",
       "\n",
       "     probability  predict target  model predict  true target  \n",
       "799     0.420049               0              0            1  \n",
       "553     0.360628               0              0            1  \n",
       "418     0.902341               1              1            1  \n",
       "420     0.888663               1              1            1  \n",
       "549     0.500669               1              1            1  \n",
       "699     0.147503               0              0            1  \n",
       "423     0.375837               0              0            1  \n",
       "430     0.464606               0              0            1  \n",
       "431     0.563367               1              1            1  \n",
       "797     0.798804               1              1            1  \n",
       "552     0.825693               1              1            1  \n",
       "417     0.496338               0              0            1  \n",
       "544     0.440859               0              0            1  \n",
       "270     0.765973               1              1            1  \n",
       "414     0.038803               0              0            1  \n",
       "798     0.964231               1              1            1  \n",
       "419     0.465228               0              0            1  \n",
       "702     0.427408               0              0            1  \n",
       "542     0.332902               0              0            1  "
      ]
     },
     "execution_count": 64,
     "metadata": {},
     "output_type": "execute_result"
    }
   ],
   "source": [
    "report[report['true target'] == 1]"
   ]
  },
  {
   "cell_type": "markdown",
   "metadata": {},
   "source": [
    "# Element-wise"
   ]
  },
  {
   "cell_type": "markdown",
   "metadata": {},
   "source": [
    "## DataFrame"
   ]
  },
  {
   "cell_type": "markdown",
   "metadata": {},
   "source": [
    "<b><code>applymap</code></b>"
   ]
  },
  {
   "cell_type": "markdown",
   "metadata": {},
   "source": [
    "```python\n",
    "DataFrame.applymap(func)\n",
    "```"
   ]
  },
  {
   "cell_type": "markdown",
   "metadata": {},
   "source": [
    "map each value to $e^\\sqrt{value}$"
   ]
  },
  {
   "cell_type": "code",
   "execution_count": 72,
   "metadata": {},
   "outputs": [
    {
     "data": {
      "text/html": [
       "<div>\n",
       "<style scoped>\n",
       "    .dataframe tbody tr th:only-of-type {\n",
       "        vertical-align: middle;\n",
       "    }\n",
       "\n",
       "    .dataframe tbody tr th {\n",
       "        vertical-align: top;\n",
       "    }\n",
       "\n",
       "    .dataframe thead th {\n",
       "        text-align: right;\n",
       "    }\n",
       "</style>\n",
       "<table border=\"1\" class=\"dataframe\">\n",
       "  <thead>\n",
       "    <tr style=\"text-align: right;\">\n",
       "      <th></th>\n",
       "      <th>Attack</th>\n",
       "      <th>Defense</th>\n",
       "      <th>Sp. Atk</th>\n",
       "      <th>Sp. Def</th>\n",
       "      <th>Speed</th>\n",
       "      <th>Generation</th>\n",
       "    </tr>\n",
       "  </thead>\n",
       "  <tbody>\n",
       "    <tr>\n",
       "      <th>0</th>\n",
       "      <td>1096.633158</td>\n",
       "      <td>1096.633158</td>\n",
       "      <td>3172.444636</td>\n",
       "      <td>3172.444636</td>\n",
       "      <td>819.098162</td>\n",
       "      <td>2.718282</td>\n",
       "    </tr>\n",
       "    <tr>\n",
       "      <th>1</th>\n",
       "      <td>2628.077512</td>\n",
       "      <td>2799.661884</td>\n",
       "      <td>7663.866574</td>\n",
       "      <td>7663.866574</td>\n",
       "      <td>2312.227657</td>\n",
       "      <td>2.718282</td>\n",
       "    </tr>\n",
       "    <tr>\n",
       "      <th>2</th>\n",
       "      <td>8564.535168</td>\n",
       "      <td>9049.217593</td>\n",
       "      <td>22026.465795</td>\n",
       "      <td>22026.465795</td>\n",
       "      <td>7663.866574</td>\n",
       "      <td>2.718282</td>\n",
       "    </tr>\n",
       "  </tbody>\n",
       "</table>\n",
       "</div>"
      ],
      "text/plain": [
       "        Attack      Defense       Sp. Atk       Sp. Def        Speed  \\\n",
       "0  1096.633158  1096.633158   3172.444636   3172.444636   819.098162   \n",
       "1  2628.077512  2799.661884   7663.866574   7663.866574  2312.227657   \n",
       "2  8564.535168  9049.217593  22026.465795  22026.465795  7663.866574   \n",
       "\n",
       "   Generation  \n",
       "0    2.718282  \n",
       "1    2.718282  \n",
       "2    2.718282  "
      ]
     },
     "execution_count": 72,
     "metadata": {},
     "output_type": "execute_result"
    }
   ],
   "source": [
    "stats_mapped = stats.applymap(lambda v: np.exp(np.sqrt(v)))\n",
    "stats_mapped.head(3)"
   ]
  },
  {
   "cell_type": "markdown",
   "metadata": {},
   "source": [
    "## Series"
   ]
  },
  {
   "cell_type": "markdown",
   "metadata": {},
   "source": [
    "<b><code>apply</code>, <code>map</code></b>"
   ]
  },
  {
   "cell_type": "code",
   "execution_count": 79,
   "metadata": {},
   "outputs": [
    {
     "data": {
      "text/plain": [
       "0    0\n",
       "1    0\n",
       "2    0\n",
       "3    0\n",
       "4    0\n",
       "Name: Legendary, dtype: int64"
      ]
     },
     "execution_count": 79,
     "metadata": {},
     "output_type": "execute_result"
    }
   ],
   "source": [
    "pokemon['Legendary'].apply(lambda v: int(v)).head()"
   ]
  },
  {
   "cell_type": "code",
   "execution_count": 80,
   "metadata": {},
   "outputs": [
    {
     "data": {
      "text/plain": [
       "0    0\n",
       "1    0\n",
       "2    0\n",
       "3    0\n",
       "4    0\n",
       "Name: Legendary, dtype: int64"
      ]
     },
     "execution_count": 80,
     "metadata": {},
     "output_type": "execute_result"
    }
   ],
   "source": [
    "pokemon['Legendary'].map(lambda v: 1 if v else 0).head()"
   ]
  }
 ],
 "metadata": {
  "kernelspec": {
   "display_name": "Python 3",
   "language": "python",
   "name": "python3"
  },
  "language_info": {
   "codemirror_mode": {
    "name": "ipython",
    "version": 3
   },
   "file_extension": ".py",
   "mimetype": "text/x-python",
   "name": "python",
   "nbconvert_exporter": "python",
   "pygments_lexer": "ipython3",
   "version": "3.7.9"
  }
 },
 "nbformat": 4,
 "nbformat_minor": 2
}
