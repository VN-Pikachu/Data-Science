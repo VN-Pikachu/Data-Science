{
 "cells": [
  {
   "cell_type": "code",
   "execution_count": 1,
   "metadata": {},
   "outputs": [],
   "source": [
    "import pandas as pd"
   ]
  },
  {
   "cell_type": "markdown",
   "metadata": {},
   "source": [
    "# Range of dates"
   ]
  },
  {
   "cell_type": "markdown",
   "metadata": {},
   "source": [
    "<code><b>pd.date_range</b></code>"
   ]
  },
  {
   "cell_type": "markdown",
   "metadata": {},
   "source": [
    "```python\n",
    "pd.date_range(\n",
    "    start=None,\n",
    "    end=None,\n",
    "    periods=None,\n",
    "    freq=None,\n",
    "    tz=None,\n",
    "    normalize=False,\n",
    "    name=None,\n",
    "    closed=None,\n",
    "    **kwargs,\n",
    ")\n",
    "```"
   ]
  },
  {
   "cell_type": "markdown",
   "metadata": {},
   "source": [
    "```python\n",
    "normalize : bool, default False\n",
    "    Normalize start/end dates to midnight before generating date range.\n",
    "```"
   ]
  },
  {
   "cell_type": "markdown",
   "metadata": {},
   "source": [
    "Intuition: like <code>linspace</code>, where <code>linspace</code> has <code>num</code>, but <code>date_range</code>has <code>freq</code>"
   ]
  },
  {
   "cell_type": "markdown",
   "metadata": {},
   "source": [
    "<code>freq</code> defines the <code>step size</code>"
   ]
  },
  {
   "cell_type": "code",
   "execution_count": 9,
   "metadata": {},
   "outputs": [
    {
     "data": {
      "text/plain": [
       "DatetimeIndex(['2001-06-10', '2001-06-11', '2001-06-12', '2001-06-13',\n",
       "               '2001-06-14'],\n",
       "              dtype='datetime64[ns]', name='event', freq='D')"
      ]
     },
     "execution_count": 9,
     "metadata": {},
     "output_type": "execute_result"
    }
   ],
   "source": [
    "pd.date_range(start = '06/10/2001', periods = 5, name = 'event') "
   ]
  },
  {
   "cell_type": "code",
   "execution_count": 8,
   "metadata": {},
   "outputs": [
    {
     "data": {
      "text/plain": [
       "DatetimeIndex(['2001-10-10', '2001-10-11', '2001-10-12', '2001-10-13',\n",
       "               '2001-10-14'],\n",
       "              dtype='datetime64[ns]', name='event', freq='D')"
      ]
     },
     "execution_count": 8,
     "metadata": {},
     "output_type": "execute_result"
    }
   ],
   "source": [
    "pd.date_range(end = '10/14/2001', periods = 5, name = 'event')"
   ]
  },
  {
   "cell_type": "code",
   "execution_count": 11,
   "metadata": {},
   "outputs": [
    {
     "data": {
      "text/plain": [
       "DatetimeIndex([          '2001-01-01 00:00:00',\n",
       "               '2001-01-01 19:49:33.913043478',\n",
       "               '2001-01-02 15:39:07.826086956',\n",
       "               '2001-01-03 11:28:41.739130434',\n",
       "               '2001-01-04 07:18:15.652173913',\n",
       "               '2001-01-05 03:07:49.565217391',\n",
       "               '2001-01-05 22:57:23.478260869',\n",
       "               '2001-01-06 18:46:57.391304347',\n",
       "               '2001-01-07 14:36:31.304347826',\n",
       "               '2001-01-08 10:26:05.217391304',\n",
       "               '2001-01-09 06:15:39.130434782',\n",
       "               '2001-01-10 02:05:13.043478260',\n",
       "               '2001-01-10 21:54:46.956521739',\n",
       "               '2001-01-11 17:44:20.869565217',\n",
       "               '2001-01-12 13:33:54.782608695',\n",
       "               '2001-01-13 09:23:28.695652174',\n",
       "               '2001-01-14 05:13:02.608695652',\n",
       "               '2001-01-15 01:02:36.521739130',\n",
       "               '2001-01-15 20:52:10.434782608',\n",
       "               '2001-01-16 16:41:44.347826087',\n",
       "               '2001-01-17 12:31:18.260869565',\n",
       "               '2001-01-18 08:20:52.173913043',\n",
       "               '2001-01-19 04:10:26.086956521',\n",
       "                         '2001-01-20 00:00:00'],\n",
       "              dtype='datetime64[ns]', name='clock', freq=None)"
      ]
     },
     "execution_count": 11,
     "metadata": {},
     "output_type": "execute_result"
    }
   ],
   "source": [
    "pd.date_range('1/1/2001', '20/1/2001', periods = 24, name = 'clock')"
   ]
  },
  {
   "cell_type": "markdown",
   "metadata": {},
   "source": [
    "</code>closed = right</code>"
   ]
  },
  {
   "cell_type": "code",
   "execution_count": 15,
   "metadata": {},
   "outputs": [
    {
     "data": {
      "text/plain": [
       "DatetimeIndex(['2001-01-01 00:00:00', '2001-01-31 08:00:00',\n",
       "               '2001-03-02 16:00:00', '2001-04-02 00:00:00',\n",
       "               '2001-05-02 08:00:00', '2001-06-01 16:00:00',\n",
       "               '2001-07-02 00:00:00', '2001-08-01 08:00:00',\n",
       "               '2001-08-31 16:00:00', '2001-10-01 00:00:00'],\n",
       "              dtype='datetime64[ns]', freq=None)"
      ]
     },
     "execution_count": 15,
     "metadata": {},
     "output_type": "execute_result"
    }
   ],
   "source": [
    "#no closed\n",
    "pd.date_range('1/1/2001', '10/1/2001', periods = 10)"
   ]
  },
  {
   "cell_type": "code",
   "execution_count": 18,
   "metadata": {},
   "outputs": [
    {
     "data": {
      "text/plain": [
       "DatetimeIndex(['2001-01-31 08:00:00', '2001-03-02 16:00:00',\n",
       "               '2001-04-02 00:00:00', '2001-05-02 08:00:00',\n",
       "               '2001-06-01 16:00:00', '2001-07-02 00:00:00',\n",
       "               '2001-08-01 08:00:00', '2001-08-31 16:00:00',\n",
       "               '2001-10-01 00:00:00'],\n",
       "              dtype='datetime64[ns]', freq=None)"
      ]
     },
     "execution_count": 18,
     "metadata": {},
     "output_type": "execute_result"
    }
   ],
   "source": [
    "#closed = right\n",
    "pd.date_range('1/1/2001', '10/1/2001', periods = 10, closed = 'right') #like closed trong linspace"
   ]
  },
  {
   "cell_type": "code",
   "execution_count": 19,
   "metadata": {},
   "outputs": [
    {
     "data": {
      "text/plain": [
       "DatetimeIndex(['2001-01-01 00:00:00', '2001-01-31 08:00:00',\n",
       "               '2001-03-02 16:00:00', '2001-04-02 00:00:00',\n",
       "               '2001-05-02 08:00:00', '2001-06-01 16:00:00',\n",
       "               '2001-07-02 00:00:00', '2001-08-01 08:00:00',\n",
       "               '2001-08-31 16:00:00'],\n",
       "              dtype='datetime64[ns]', freq=None)"
      ]
     },
     "execution_count": 19,
     "metadata": {},
     "output_type": "execute_result"
    }
   ],
   "source": [
    "#closed = left\n",
    "pd.date_range('1/1/2001', '10/1/2001', periods = 10, closed = 'left') #like closed trong linspace"
   ]
  },
  {
   "cell_type": "code",
   "execution_count": 25,
   "metadata": {},
   "outputs": [
    {
     "data": {
      "text/plain": [
       "DatetimeIndex(['2001-01-01 20:30:05', '2001-01-02 20:30:05',\n",
       "               '2001-01-03 20:30:05', '2001-01-04 20:30:05',\n",
       "               '2001-01-05 20:30:05', '2001-01-06 20:30:05',\n",
       "               '2001-01-07 20:30:05', '2001-01-08 20:30:05',\n",
       "               '2001-01-09 20:30:05', '2001-01-10 20:30:05'],\n",
       "              dtype='datetime64[ns]', freq='D')"
      ]
     },
     "execution_count": 25,
     "metadata": {},
     "output_type": "execute_result"
    }
   ],
   "source": [
    "#unnormalize\n",
    "pd.date_range('20:30:05 1/1/2001', periods = 10)"
   ]
  },
  {
   "cell_type": "code",
   "execution_count": 26,
   "metadata": {},
   "outputs": [
    {
     "data": {
      "text/plain": [
       "DatetimeIndex(['2001-01-01', '2001-01-02', '2001-01-03', '2001-01-04',\n",
       "               '2001-01-05', '2001-01-06', '2001-01-07', '2001-01-08',\n",
       "               '2001-01-09', '2001-01-10'],\n",
       "              dtype='datetime64[ns]', freq='D')"
      ]
     },
     "execution_count": 26,
     "metadata": {},
     "output_type": "execute_result"
    }
   ],
   "source": [
    "#normalize\n",
    "pd.date_range('20:30:05 1/1/2001', periods = 10, normalize = True)"
   ]
  },
  {
   "cell_type": "code",
   "execution_count": 28,
   "metadata": {},
   "outputs": [
    {
     "data": {
      "text/plain": [
       "DatetimeIndex(['2001-02-04', '2001-02-11', '2001-02-18', '2001-02-25',\n",
       "               '2001-03-04'],\n",
       "              dtype='datetime64[ns]', freq='W-SUN')"
      ]
     },
     "execution_count": 28,
     "metadata": {},
     "output_type": "execute_result"
    }
   ],
   "source": [
    "#data frequency\n",
    "pd.date_range('2/1/2001', periods = 5, freq = 'W')"
   ]
  },
  {
   "cell_type": "code",
   "execution_count": 33,
   "metadata": {},
   "outputs": [
    {
     "data": {
      "text/plain": [
       "DatetimeIndex(['2019-10-31', '2019-11-30', '2019-12-31', '2020-01-31',\n",
       "               '2020-02-29', '2020-03-31'],\n",
       "              dtype='datetime64[ns]', freq='M')"
      ]
     },
     "execution_count": 33,
     "metadata": {},
     "output_type": "execute_result"
    }
   ],
   "source": [
    "#The end day of each month frequency\n",
    "day = pd.date_range(start = '10/06/2019', periods = 6, freq = 'M')\n",
    "day"
   ]
  },
  {
   "cell_type": "markdown",
   "metadata": {},
   "source": [
    "# bdate_range"
   ]
  },
  {
   "cell_type": "markdown",
   "metadata": {},
   "source": [
    "dates without Saturday and Sunday"
   ]
  },
  {
   "cell_type": "code",
   "execution_count": 30,
   "metadata": {},
   "outputs": [
    {
     "data": {
      "text/plain": [
       "DatetimeIndex(['2001-01-01', '2001-01-02', '2001-01-03', '2001-01-04',\n",
       "               '2001-01-05', '2001-01-08', '2001-01-09', '2001-01-10',\n",
       "               '2001-01-11', '2001-01-12', '2001-01-15', '2001-01-16',\n",
       "               '2001-01-17', '2001-01-18'],\n",
       "              dtype='datetime64[ns]', freq='B')"
      ]
     },
     "execution_count": 30,
     "metadata": {},
     "output_type": "execute_result"
    }
   ],
   "source": [
    "pd.bdate_range('1/1/2001', periods = 14)"
   ]
  },
  {
   "cell_type": "markdown",
   "metadata": {},
   "source": [
    "# offset Alliases"
   ]
  },
  {
   "cell_type": "code",
   "execution_count": 31,
   "metadata": {},
   "outputs": [
    {
     "data": {
      "text/plain": [
       "['ABCPeriod',\n",
       " 'AbstractMethodError',\n",
       " 'ApplyTypeError',\n",
       " 'BDay',\n",
       " 'BMonthBegin',\n",
       " 'BMonthEnd',\n",
       " 'BQuarterBegin',\n",
       " 'BQuarterEnd',\n",
       " 'BYearBegin',\n",
       " 'BYearEnd',\n",
       " 'BaseOffset',\n",
       " 'BusinessDay',\n",
       " 'BusinessHour',\n",
       " 'BusinessHourMixin',\n",
       " 'BusinessMixin',\n",
       " 'BusinessMonthBegin',\n",
       " 'BusinessMonthEnd',\n",
       " 'CBMonthBegin',\n",
       " 'CBMonthEnd',\n",
       " 'CDay',\n",
       " 'CustomBusinessDay',\n",
       " 'CustomBusinessHour',\n",
       " 'CustomBusinessMonthBegin',\n",
       " 'CustomBusinessMonthEnd',\n",
       " 'DateOffset',\n",
       " 'Day',\n",
       " 'Easter',\n",
       " 'FY5253',\n",
       " 'FY5253Quarter',\n",
       " 'Hour',\n",
       " 'LastWeekOfMonth',\n",
       " 'Micro',\n",
       " 'Milli',\n",
       " 'Minute',\n",
       " 'MonthBegin',\n",
       " 'MonthEnd',\n",
       " 'MonthOffset',\n",
       " 'NaT',\n",
       " 'Nano',\n",
       " 'OutOfBoundsDatetime',\n",
       " 'QuarterBegin',\n",
       " 'QuarterEnd',\n",
       " 'QuarterOffset',\n",
       " 'Second',\n",
       " 'SemiMonthBegin',\n",
       " 'SemiMonthEnd',\n",
       " 'SemiMonthOffset',\n",
       " 'SingleConstructorOffset',\n",
       " 'Tick',\n",
       " 'Timedelta',\n",
       " 'Timestamp',\n",
       " 'Week',\n",
       " 'WeekOfMonth',\n",
       " 'YearBegin',\n",
       " 'YearEnd',\n",
       " 'YearOffset',\n",
       " '_CustomBusinessMonth',\n",
       " '_CustomMixin',\n",
       " '_WeekOfMonthMixin',\n",
       " '__all__',\n",
       " '__builtins__',\n",
       " '__cached__',\n",
       " '__doc__',\n",
       " '__file__',\n",
       " '__loader__',\n",
       " '__name__',\n",
       " '__package__',\n",
       " '__spec__',\n",
       " '_delta_to_tick',\n",
       " '_get_calendar',\n",
       " '_is_normalized',\n",
       " '_tick_comp',\n",
       " '_to_dt64',\n",
       " 'apply_index_wraps',\n",
       " 'apply_wraps',\n",
       " 'as_datetime',\n",
       " 'as_timestamp',\n",
       " 'cache_readonly',\n",
       " 'ccalendar',\n",
       " 'compat',\n",
       " 'conversion',\n",
       " 'date',\n",
       " 'datetime',\n",
       " 'delta_to_nanoseconds',\n",
       " 'easter',\n",
       " 'functools',\n",
       " 'generate_range',\n",
       " 'libfrequencies',\n",
       " 'liboffsets',\n",
       " 'normalize_date',\n",
       " 'np',\n",
       " 'operator',\n",
       " 'prefix_mapping',\n",
       " 'range',\n",
       " 'roll_yearday',\n",
       " 'shift_month',\n",
       " 'timedelta',\n",
       " 'timezones',\n",
       " 'to_datetime']"
      ]
     },
     "execution_count": 31,
     "metadata": {},
     "output_type": "execute_result"
    }
   ],
   "source": [
    "from pandas import offsets\n",
    "dir(offsets)"
   ]
  },
  {
   "cell_type": "markdown",
   "metadata": {},
   "source": [
    "<table>\n",
    "    <tr><td>B\t</td><td>business day frequency\t        </td><td>BQS\t</td><td>    business quarter start frequency</td></tr>\n",
    "<tr><td>D\t</td><td>calendar day frequency\t        </td><td>A\t    </td><td>annual(Year) end frequency</td></tr>\n",
    "<tr><td>W\t</td><td>weekly frequency\t            </td><td>BA\t    </td><td>business year end frequency</td></tr>\n",
    "<tr><td>M\t</td><td>month end frequency\t            </td><td>BAS\t</td><td>    business year start frequency</td></tr>\n",
    "<tr><td>SM\t</td><td>semi-month end frequency\t    </td><td>BH\t    </td><td>business hour frequency</td></tr>\n",
    "<tr><td>BM\t</td><td>business month end frequency\t</td><td>H\t    </td><td>hourly frequency</td></tr>\n",
    "<tr><td>MS\t</td><td>month start frequency\t        </td><td>T, min\t</td><td>minutely frequency</td></tr>\n",
    "<tr><td>SMS\t</td><td>SMS semi month start frequency\t</td><td>S\t    </td><td>secondly frequency</td></tr>\n",
    "<tr><td>BMS\t</td><td>business month start frequency\t</td><td>L, ms\t</td><td>milliseconds</td></tr>\n",
    "<tr><td>Q\t</td><td>quarter end frequency\t        </td><td>U, us\t</td><td>microseconds</td></tr>\n",
    "<tr><td>BQ\t</td><td>business quarter end frequency\t</td><td>N\t    </td><td>nanoseconds</td></tr>\n",
    "    <tr><td>QS</td><td>quarter start frequency</td></tr>\t\n",
    "</table>"
   ]
  },
  {
   "cell_type": "code",
   "execution_count": null,
   "metadata": {},
   "outputs": [],
   "source": [
    "\n"
   ]
  }
 ],
 "metadata": {
  "kernelspec": {
   "display_name": "Python 3",
   "language": "python",
   "name": "python3"
  },
  "language_info": {
   "codemirror_mode": {
    "name": "ipython",
    "version": 3
   },
   "file_extension": ".py",
   "mimetype": "text/x-python",
   "name": "python",
   "nbconvert_exporter": "python",
   "pygments_lexer": "ipython3",
   "version": "3.7.9"
  }
 },
 "nbformat": 4,
 "nbformat_minor": 2
}
