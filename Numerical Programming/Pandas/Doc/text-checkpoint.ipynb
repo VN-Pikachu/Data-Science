{
 "cells": [
  {
   "cell_type": "code",
   "execution_count": 42,
   "metadata": {},
   "outputs": [],
   "source": [
    "import pandas as pd\n",
    "import numpy as np\n",
    "import os\n",
    "import re\n",
    "os.chdir(r'C:\\Users\\dell\\PycharmProjects\\MachineLearning\\Pandas\\datasets')"
   ]
  },
  {
   "cell_type": "code",
   "execution_count": 7,
   "metadata": {},
   "outputs": [
    {
     "data": {
      "text/plain": [
       "['__annotations__',\n",
       " '__class__',\n",
       " '__delattr__',\n",
       " '__dict__',\n",
       " '__dir__',\n",
       " '__doc__',\n",
       " '__eq__',\n",
       " '__format__',\n",
       " '__ge__',\n",
       " '__getattribute__',\n",
       " '__getitem__',\n",
       " '__gt__',\n",
       " '__hash__',\n",
       " '__init__',\n",
       " '__init_subclass__',\n",
       " '__iter__',\n",
       " '__le__',\n",
       " '__lt__',\n",
       " '__module__',\n",
       " '__ne__',\n",
       " '__new__',\n",
       " '__reduce__',\n",
       " '__reduce_ex__',\n",
       " '__repr__',\n",
       " '__setattr__',\n",
       " '__sizeof__',\n",
       " '__str__',\n",
       " '__subclasshook__',\n",
       " '__weakref__',\n",
       " '_doc_args',\n",
       " '_freeze',\n",
       " '_get_series_list',\n",
       " '_validate',\n",
       " '_wrap_result',\n",
       " 'capitalize',\n",
       " 'casefold',\n",
       " 'cat',\n",
       " 'center',\n",
       " 'contains',\n",
       " 'count',\n",
       " 'decode',\n",
       " 'encode',\n",
       " 'endswith',\n",
       " 'extract',\n",
       " 'extractall',\n",
       " 'find',\n",
       " 'findall',\n",
       " 'fullmatch',\n",
       " 'get',\n",
       " 'get_dummies',\n",
       " 'index',\n",
       " 'isalnum',\n",
       " 'isalpha',\n",
       " 'isdecimal',\n",
       " 'isdigit',\n",
       " 'islower',\n",
       " 'isnumeric',\n",
       " 'isspace',\n",
       " 'istitle',\n",
       " 'isupper',\n",
       " 'join',\n",
       " 'len',\n",
       " 'ljust',\n",
       " 'lower',\n",
       " 'lstrip',\n",
       " 'match',\n",
       " 'normalize',\n",
       " 'pad',\n",
       " 'partition',\n",
       " 'repeat',\n",
       " 'replace',\n",
       " 'rfind',\n",
       " 'rindex',\n",
       " 'rjust',\n",
       " 'rpartition',\n",
       " 'rsplit',\n",
       " 'rstrip',\n",
       " 'slice',\n",
       " 'slice_replace',\n",
       " 'split',\n",
       " 'startswith',\n",
       " 'strip',\n",
       " 'swapcase',\n",
       " 'title',\n",
       " 'translate',\n",
       " 'upper',\n",
       " 'wrap',\n",
       " 'zfill']"
      ]
     },
     "execution_count": 7,
     "metadata": {},
     "output_type": "execute_result"
    }
   ],
   "source": [
    "dir(pd.Series.str)"
   ]
  },
  {
   "cell_type": "code",
   "execution_count": 2,
   "metadata": {},
   "outputs": [
    {
     "name": "stdout",
     "output_type": "stream",
     "text": [
      "Romeo     False\n",
      "Juliet    False\n",
      "dtype: bool\n",
      "Romeo     False\n",
      "Juliet    False\n",
      "dtype: bool\n",
      "Romeo      DeAd\n",
      "Juliet    aLiVe\n",
      "dtype: object\n",
      "Romeo      dead\n",
      "Juliet    alive\n",
      "dtype: object\n",
      "Romeo      DEAD\n",
      "Juliet    ALIVE\n",
      "dtype: object\n",
      "Romeo     1\n",
      "Juliet    1\n",
      "dtype: int64\n",
      "Romeo      True\n",
      "Juliet    False\n",
      "dtype: bool\n",
      "Romeo      Dead\n",
      "Juliet    Alive\n",
      "dtype: object\n",
      "Romeo      D3Ad\n",
      "Juliet    aLiV3\n",
      "dtype: object\n",
      "Romeo     4\n",
      "Juliet    5\n",
      "dtype: int64\n",
      "Romeo     False\n",
      "Juliet    False\n",
      "dtype: bool\n",
      "Romeo      True\n",
      "Juliet    False\n",
      "dtype: bool\n",
      "Romeo      True\n",
      "Juliet    False\n",
      "dtype: bool\n",
      "Romeo     1\n",
      "Juliet    4\n",
      "dtype: int64\n",
      "DeAd<3aLiVe\n"
     ]
    }
   ],
   "source": [
    "\n",
    "#NOTE: convert Series/Index Object to String object then perform string functions (provided by pandas) : use --> Series.str\n",
    "#Most importantly, these functions ignore NaN values\n",
    "status = pd.Series(['DeAd', 'aLiVe'], index = ['Romeo', 'Juliet'])\n",
    "print(status.str.islower())\n",
    "print(status.str.isupper())\n",
    "print(status)\n",
    "print(status.str.lower())\n",
    "print(status.str.upper())\n",
    "print(status.str.count('e'))\n",
    "print(status.str.contains('eA'))\n",
    "print(status.str.capitalize())\n",
    "print(status.str.replace('e', '3'))\n",
    "print(status.str.len())\n",
    "print(status.str.isnumeric())\n",
    "print(status.str.startswith('D'))\n",
    "print(status.str.endswith('d'))\n",
    "print(status.str.find('e'))\n",
    "print(status.str.cat(sep='<3'))\n",
    "#get_dummies\n"
   ]
  },
  {
   "cell_type": "code",
   "execution_count": 35,
   "metadata": {},
   "outputs": [],
   "source": [
    "names = pd.Series(['VN Pikachu', 'Tank Cao', 'bac giang vn', 'quachtinh', '394588'], name = 'VN Champions')"
   ]
  },
  {
   "cell_type": "code",
   "execution_count": 9,
   "metadata": {},
   "outputs": [
    {
     "data": {
      "text/plain": [
       "0      vn pikachu\n",
       "1        tank cao\n",
       "2    bac giang vn\n",
       "3       quachtinh\n",
       "Name: VN Champions, dtype: object"
      ]
     },
     "execution_count": 9,
     "metadata": {},
     "output_type": "execute_result"
    }
   ],
   "source": [
    "#Converts strings in the Series/Index to lower case.\n",
    "names.str.lower()"
   ]
  },
  {
   "cell_type": "markdown",
   "metadata": {},
   "source": [
    "2\t\n",
    "\n",
    "\n",
    "Converts strings in the Series/Index to upper case."
   ]
  },
  {
   "cell_type": "code",
   "execution_count": 10,
   "metadata": {},
   "outputs": [
    {
     "data": {
      "text/plain": [
       "0      VN PIKACHU\n",
       "1        TANK CAO\n",
       "2    BAC GIANG VN\n",
       "3       QUACHTINH\n",
       "Name: VN Champions, dtype: object"
      ]
     },
     "execution_count": 10,
     "metadata": {},
     "output_type": "execute_result"
    }
   ],
   "source": [
    "names.str.upper()"
   ]
  },
  {
   "cell_type": "markdown",
   "metadata": {},
   "source": [
    "3\t\n",
    "\n",
    "\n",
    "Computes String length()."
   ]
  },
  {
   "cell_type": "code",
   "execution_count": 11,
   "metadata": {},
   "outputs": [
    {
     "data": {
      "text/plain": [
       "0    10\n",
       "1     8\n",
       "2    12\n",
       "3     9\n",
       "Name: VN Champions, dtype: int64"
      ]
     },
     "execution_count": 11,
     "metadata": {},
     "output_type": "execute_result"
    }
   ],
   "source": [
    "names.str.len()"
   ]
  },
  {
   "cell_type": "markdown",
   "metadata": {},
   "source": [
    "4\t\n",
    "\n",
    "\n",
    "Helps strip whitespace(including newline) from each string in the Series/index from both the sides."
   ]
  },
  {
   "cell_type": "code",
   "execution_count": 14,
   "metadata": {},
   "outputs": [
    {
     "data": {
      "text/plain": [
       "0      VN Pikachu\n",
       "1        Tank Cao\n",
       "2    bac giang vn\n",
       "3       quachtinh\n",
       "Name: VN Champions, dtype: object"
      ]
     },
     "execution_count": 14,
     "metadata": {},
     "output_type": "execute_result"
    }
   ],
   "source": [
    "names.str.strip()"
   ]
  },
  {
   "cell_type": "markdown",
   "metadata": {},
   "source": [
    "5\t\n",
    "\n",
    "\n",
    "Splits each string with the given pattern."
   ]
  },
  {
   "cell_type": "code",
   "execution_count": 15,
   "metadata": {},
   "outputs": [
    {
     "data": {
      "text/plain": [
       "0       [VN, Pikachu]\n",
       "1         [Tank, Cao]\n",
       "2    [bac, giang, vn]\n",
       "3         [quachtinh]\n",
       "Name: VN Champions, dtype: object"
      ]
     },
     "execution_count": 15,
     "metadata": {},
     "output_type": "execute_result"
    }
   ],
   "source": [
    "names.str.split(' ')"
   ]
  },
  {
   "cell_type": "markdown",
   "metadata": {},
   "source": [
    "6\t\n",
    "\n",
    "\n",
    "Concatenates the series/index elements with given separator."
   ]
  },
  {
   "cell_type": "code",
   "execution_count": 21,
   "metadata": {},
   "outputs": [
    {
     "data": {
      "text/plain": [
       "'VN Pikachu |  Tank Cao |  bac giang vn |  quachtinh'"
      ]
     },
     "execution_count": 21,
     "metadata": {},
     "output_type": "execute_result"
    }
   ],
   "source": [
    "names.str.cat(sep = ' |  ')"
   ]
  },
  {
   "cell_type": "markdown",
   "metadata": {},
   "source": [
    "7\t\n",
    "\n",
    "\n",
    "Returns the DataFrame with One-Hot Encoded values."
   ]
  },
  {
   "cell_type": "code",
   "execution_count": 22,
   "metadata": {},
   "outputs": [
    {
     "data": {
      "text/html": [
       "<div>\n",
       "<style scoped>\n",
       "    .dataframe tbody tr th:only-of-type {\n",
       "        vertical-align: middle;\n",
       "    }\n",
       "\n",
       "    .dataframe tbody tr th {\n",
       "        vertical-align: top;\n",
       "    }\n",
       "\n",
       "    .dataframe thead th {\n",
       "        text-align: right;\n",
       "    }\n",
       "</style>\n",
       "<table border=\"1\" class=\"dataframe\">\n",
       "  <thead>\n",
       "    <tr style=\"text-align: right;\">\n",
       "      <th></th>\n",
       "      <th>Tank Cao</th>\n",
       "      <th>VN Pikachu</th>\n",
       "      <th>bac giang vn</th>\n",
       "      <th>quachtinh</th>\n",
       "    </tr>\n",
       "  </thead>\n",
       "  <tbody>\n",
       "    <tr>\n",
       "      <th>0</th>\n",
       "      <td>0</td>\n",
       "      <td>1</td>\n",
       "      <td>0</td>\n",
       "      <td>0</td>\n",
       "    </tr>\n",
       "    <tr>\n",
       "      <th>1</th>\n",
       "      <td>1</td>\n",
       "      <td>0</td>\n",
       "      <td>0</td>\n",
       "      <td>0</td>\n",
       "    </tr>\n",
       "    <tr>\n",
       "      <th>2</th>\n",
       "      <td>0</td>\n",
       "      <td>0</td>\n",
       "      <td>1</td>\n",
       "      <td>0</td>\n",
       "    </tr>\n",
       "    <tr>\n",
       "      <th>3</th>\n",
       "      <td>0</td>\n",
       "      <td>0</td>\n",
       "      <td>0</td>\n",
       "      <td>1</td>\n",
       "    </tr>\n",
       "  </tbody>\n",
       "</table>\n",
       "</div>"
      ],
      "text/plain": [
       "   Tank Cao  VN Pikachu  bac giang vn  quachtinh\n",
       "0         0           1             0          0\n",
       "1         1           0             0          0\n",
       "2         0           0             1          0\n",
       "3         0           0             0          1"
      ]
     },
     "execution_count": 22,
     "metadata": {},
     "output_type": "execute_result"
    }
   ],
   "source": [
    "names.str.get_dummies()"
   ]
  },
  {
   "cell_type": "markdown",
   "metadata": {},
   "source": [
    "8\t\n",
    "\n",
    "\n",
    "Returns a Boolean value True for each element if the substring contains in the element, else False."
   ]
  },
  {
   "cell_type": "code",
   "execution_count": 24,
   "metadata": {},
   "outputs": [
    {
     "data": {
      "text/plain": [
       "0     True\n",
       "1    False\n",
       "2     True\n",
       "3    False\n",
       "Name: VN Champions, dtype: bool"
      ]
     },
     "execution_count": 24,
     "metadata": {},
     "output_type": "execute_result"
    }
   ],
   "source": [
    "names.str.lower().str.contains('vn')"
   ]
  },
  {
   "cell_type": "markdown",
   "metadata": {},
   "source": [
    "9\t\n",
    "\n",
    "\n",
    "Replaces the value a with the value b."
   ]
  },
  {
   "cell_type": "code",
   "execution_count": 25,
   "metadata": {},
   "outputs": [
    {
     "data": {
      "text/plain": [
       "0      VN Pikachu\n",
       "1        Tank Ca0\n",
       "2    bac giang vn\n",
       "3       quachtinh\n",
       "Name: VN Champions, dtype: object"
      ]
     },
     "execution_count": 25,
     "metadata": {},
     "output_type": "execute_result"
    }
   ],
   "source": [
    "names.str.replace('o', '0')"
   ]
  },
  {
   "cell_type": "markdown",
   "metadata": {},
   "source": [
    "10\t\n",
    "\n",
    "\n",
    "Repeats each element with specified number of times."
   ]
  },
  {
   "cell_type": "code",
   "execution_count": 27,
   "metadata": {},
   "outputs": [
    {
     "data": {
      "text/plain": [
       "0          VN PikachuVN PikachuVN Pikachu\n",
       "1                Tank CaoTank CaoTank Cao\n",
       "2    bac giang vnbac giang vnbac giang vn\n",
       "3             quachtinhquachtinhquachtinh\n",
       "Name: VN Champions, dtype: object"
      ]
     },
     "execution_count": 27,
     "metadata": {},
     "output_type": "execute_result"
    }
   ],
   "source": [
    "names.str.repeat(3)"
   ]
  },
  {
   "cell_type": "markdown",
   "metadata": {},
   "source": [
    "11\t\n",
    "\n",
    "\n",
    "Returns count of appearance of pattern in each element."
   ]
  },
  {
   "cell_type": "code",
   "execution_count": 29,
   "metadata": {},
   "outputs": [
    {
     "data": {
      "text/plain": [
       "0    0\n",
       "1    0\n",
       "2    1\n",
       "3    0\n",
       "Name: VN Champions, dtype: int64"
      ]
     },
     "execution_count": 29,
     "metadata": {},
     "output_type": "execute_result"
    }
   ],
   "source": [
    "names.str.count('vn')"
   ]
  },
  {
   "cell_type": "markdown",
   "metadata": {},
   "source": [
    "12\t\n",
    "\n",
    "\n",
    "Returns true if the element in the Series/Index starts with the pattern."
   ]
  },
  {
   "cell_type": "code",
   "execution_count": 31,
   "metadata": {},
   "outputs": [
    {
     "data": {
      "text/plain": [
       "0     True\n",
       "1    False\n",
       "2    False\n",
       "3    False\n",
       "Name: VN Champions, dtype: bool"
      ]
     },
     "execution_count": 31,
     "metadata": {},
     "output_type": "execute_result"
    }
   ],
   "source": [
    "names.str.startswith('V')"
   ]
  },
  {
   "cell_type": "markdown",
   "metadata": {},
   "source": [
    "13\t\n",
    "\n",
    "\n",
    "Returns true if the element in the Series/Index ends with the pattern."
   ]
  },
  {
   "cell_type": "code",
   "execution_count": 33,
   "metadata": {},
   "outputs": [
    {
     "data": {
      "text/plain": [
       "0    False\n",
       "1    False\n",
       "2     True\n",
       "3    False\n",
       "Name: VN Champions, dtype: bool"
      ]
     },
     "execution_count": 33,
     "metadata": {},
     "output_type": "execute_result"
    }
   ],
   "source": [
    "names.str.endswith('n')"
   ]
  },
  {
   "cell_type": "markdown",
   "metadata": {},
   "source": [
    "14\t\n",
    "\n",
    "\n",
    "Returns the first position of the first occurrence of the pattern."
   ]
  },
  {
   "cell_type": "code",
   "execution_count": 45,
   "metadata": {},
   "outputs": [
    {
     "data": {
      "text/plain": [
       "0    -1\n",
       "1    -1\n",
       "2    10\n",
       "3    -1\n",
       "4    -1\n",
       "Name: VN Champions, dtype: int64"
      ]
     },
     "execution_count": 45,
     "metadata": {},
     "output_type": "execute_result"
    }
   ],
   "source": [
    "names.str.find(r'vn')"
   ]
  },
  {
   "cell_type": "markdown",
   "metadata": {},
   "source": [
    "15\t\n",
    "\n",
    "\n",
    "Returns a list of all occurrence of the pattern."
   ]
  },
  {
   "cell_type": "code",
   "execution_count": 46,
   "metadata": {},
   "outputs": [
    {
     "data": {
      "text/plain": [
       "0      []\n",
       "1      []\n",
       "2    [vn]\n",
       "3      []\n",
       "4      []\n",
       "Name: VN Champions, dtype: object"
      ]
     },
     "execution_count": 46,
     "metadata": {},
     "output_type": "execute_result"
    }
   ],
   "source": [
    "names.str.findall('vn')"
   ]
  },
  {
   "cell_type": "markdown",
   "metadata": {},
   "source": [
    "\n",
    "\n",
    "\n",
    "Swaps the case lower/upper."
   ]
  },
  {
   "cell_type": "code",
   "execution_count": 39,
   "metadata": {},
   "outputs": [
    {
     "data": {
      "text/plain": [
       "0      vn pIKACHU\n",
       "1        tANK cAO\n",
       "2    BAC GIANG VN\n",
       "3       QUACHTINH\n",
       "4          394588\n",
       "Name: VN Champions, dtype: object"
      ]
     },
     "execution_count": 39,
     "metadata": {},
     "output_type": "execute_result"
    }
   ],
   "source": [
    "names.str.swapcase()"
   ]
  },
  {
   "cell_type": "markdown",
   "metadata": {},
   "source": [
    "17\t\n",
    "\n",
    "\n",
    "Checks whether all characters in each string in the Series/Index in lower case or not. Returns Boolean"
   ]
  },
  {
   "cell_type": "code",
   "execution_count": 38,
   "metadata": {},
   "outputs": [
    {
     "data": {
      "text/plain": [
       "0    False\n",
       "1    False\n",
       "2     True\n",
       "3     True\n",
       "4    False\n",
       "Name: VN Champions, dtype: bool"
      ]
     },
     "execution_count": 38,
     "metadata": {},
     "output_type": "execute_result"
    }
   ],
   "source": [
    "names.str.islower()"
   ]
  },
  {
   "cell_type": "markdown",
   "metadata": {},
   "source": [
    "18\t\n",
    "\n",
    "\n",
    "Checks whether all characters in each string in the Series/Index in upper case or not. Returns Boolean."
   ]
  },
  {
   "cell_type": "code",
   "execution_count": 37,
   "metadata": {},
   "outputs": [
    {
     "data": {
      "text/plain": [
       "0    False\n",
       "1    False\n",
       "2    False\n",
       "3    False\n",
       "4    False\n",
       "Name: VN Champions, dtype: bool"
      ]
     },
     "execution_count": 37,
     "metadata": {},
     "output_type": "execute_result"
    }
   ],
   "source": [
    "names.str.isupper()"
   ]
  },
  {
   "cell_type": "markdown",
   "metadata": {},
   "source": [
    "19\t\n",
    "\n",
    "\n",
    "Checks whether all characters in each string in the Series/Index are numeric. Returns Boolean."
   ]
  },
  {
   "cell_type": "code",
   "execution_count": 36,
   "metadata": {},
   "outputs": [
    {
     "data": {
      "text/plain": [
       "0    False\n",
       "1    False\n",
       "2    False\n",
       "3    False\n",
       "4     True\n",
       "Name: VN Champions, dtype: bool"
      ]
     },
     "execution_count": 36,
     "metadata": {},
     "output_type": "execute_result"
    }
   ],
   "source": [
    "names.str.isnumeric()"
   ]
  },
  {
   "cell_type": "markdown",
   "metadata": {},
   "source": [
    "# Tricks"
   ]
  },
  {
   "cell_type": "code",
   "execution_count": 3,
   "metadata": {},
   "outputs": [
    {
     "data": {
      "text/plain": [
       "\u001b[0;31mSignature:\u001b[0m \u001b[0mpd\u001b[0m\u001b[0;34m.\u001b[0m\u001b[0mSeries\u001b[0m\u001b[0;34m.\u001b[0m\u001b[0mget\u001b[0m\u001b[0;34m(\u001b[0m\u001b[0mself\u001b[0m\u001b[0;34m,\u001b[0m \u001b[0mkey\u001b[0m\u001b[0;34m,\u001b[0m \u001b[0mdefault\u001b[0m\u001b[0;34m=\u001b[0m\u001b[0;32mNone\u001b[0m\u001b[0;34m)\u001b[0m\u001b[0;34m\u001b[0m\u001b[0;34m\u001b[0m\u001b[0m\n",
       "\u001b[0;31mDocstring:\u001b[0m\n",
       "Get item from object for given key (ex: DataFrame column).\n",
       "\n",
       "Returns default value if not found.\n",
       "\n",
       "Parameters\n",
       "----------\n",
       "key : object\n",
       "\n",
       "Returns\n",
       "-------\n",
       "value : same type as items contained in object\n",
       "\u001b[0;31mFile:\u001b[0m      ~/anaconda3/lib/python3.7/site-packages/pandas/core/generic.py\n",
       "\u001b[0;31mType:\u001b[0m      function\n"
      ]
     },
     "metadata": {},
     "output_type": "display_data"
    }
   ],
   "source": [
    "pd.Series.get?"
   ]
  },
  {
   "cell_type": "code",
   "execution_count": 4,
   "metadata": {},
   "outputs": [
    {
     "data": {
      "text/plain": [
       "\u001b[0;31mSignature:\u001b[0m \u001b[0mpd\u001b[0m\u001b[0;34m.\u001b[0m\u001b[0mSeries\u001b[0m\u001b[0;34m.\u001b[0m\u001b[0mstr\u001b[0m\u001b[0;34m.\u001b[0m\u001b[0mget\u001b[0m\u001b[0;34m(\u001b[0m\u001b[0mself\u001b[0m\u001b[0;34m,\u001b[0m \u001b[0mi\u001b[0m\u001b[0;34m)\u001b[0m\u001b[0;34m\u001b[0m\u001b[0;34m\u001b[0m\u001b[0m\n",
       "\u001b[0;31mDocstring:\u001b[0m\n",
       "Extract element from each component at specified position.\n",
       "\n",
       "Extract element from lists, tuples, or strings in each element in the\n",
       "Series/Index.\n",
       "\n",
       "Parameters\n",
       "----------\n",
       "i : int\n",
       "    Position of element to extract.\n",
       "\n",
       "Returns\n",
       "-------\n",
       "Series or Index\n",
       "\n",
       "Examples\n",
       "--------\n",
       ">>> s = pd.Series([\"String\",\n",
       "...               (1, 2, 3),\n",
       "...               [\"a\", \"b\", \"c\"],\n",
       "...               123,\n",
       "...               -456,\n",
       "...               {1: \"Hello\", \"2\": \"World\"}])\n",
       ">>> s\n",
       "0                        String\n",
       "1                     (1, 2, 3)\n",
       "2                     [a, b, c]\n",
       "3                           123\n",
       "4                          -456\n",
       "5    {1: 'Hello', '2': 'World'}\n",
       "dtype: object\n",
       "\n",
       ">>> s.str.get(1)\n",
       "0        t\n",
       "1        2\n",
       "2        b\n",
       "3      NaN\n",
       "4      NaN\n",
       "5    Hello\n",
       "dtype: object\n",
       "\n",
       ">>> s.str.get(-1)\n",
       "0      g\n",
       "1      3\n",
       "2      c\n",
       "3    NaN\n",
       "4    NaN\n",
       "5    None\n",
       "dtype: object\n",
       "\u001b[0;31mFile:\u001b[0m      ~/anaconda3/lib/python3.7/site-packages/pandas/core/strings/accessor.py\n",
       "\u001b[0;31mType:\u001b[0m      function\n"
      ]
     },
     "metadata": {},
     "output_type": "display_data"
    }
   ],
   "source": [
    "pd.Series.str.get?"
   ]
  },
  {
   "cell_type": "code",
   "execution_count": 5,
   "metadata": {},
   "outputs": [
    {
     "data": {
      "text/plain": [
       "0    (a, b, c)\n",
       "1    (x, y, z)\n",
       "dtype: object"
      ]
     },
     "execution_count": 5,
     "metadata": {},
     "output_type": "execute_result"
    }
   ],
   "source": [
    "values = pd.Series([('a', 'b', 'c'), ('x', 'y', 'z')])\n",
    "values"
   ]
  },
  {
   "cell_type": "code",
   "execution_count": 6,
   "metadata": {},
   "outputs": [
    {
     "data": {
      "text/plain": [
       "0    b\n",
       "1    y\n",
       "dtype: object"
      ]
     },
     "execution_count": 6,
     "metadata": {},
     "output_type": "execute_result"
    }
   ],
   "source": [
    "values.str.get(1)"
   ]
  },
  {
   "cell_type": "code",
   "execution_count": null,
   "metadata": {},
   "outputs": [],
   "source": []
  }
 ],
 "metadata": {
  "kernelspec": {
   "display_name": "Python 3",
   "language": "python",
   "name": "python3"
  },
  "language_info": {
   "codemirror_mode": {
    "name": "ipython",
    "version": 3
   },
   "file_extension": ".py",
   "mimetype": "text/x-python",
   "name": "python",
   "nbconvert_exporter": "python",
   "pygments_lexer": "ipython3",
   "version": "3.7.9"
  }
 },
 "nbformat": 4,
 "nbformat_minor": 4
}
