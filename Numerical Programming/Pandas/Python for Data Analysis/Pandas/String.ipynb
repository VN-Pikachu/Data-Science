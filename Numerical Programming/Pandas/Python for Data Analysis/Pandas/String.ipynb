{
 "cells": [
  {
   "cell_type": "code",
   "execution_count": 1,
   "metadata": {},
   "outputs": [],
   "source": [
    "import pandas as pd\n",
    "import numpy as np\n",
    "import matplotlib.pyplot as plt;\n",
    "import seaborn as sns;\n",
    "sns.set()"
   ]
  },
  {
   "cell_type": "markdown",
   "metadata": {},
   "source": [
    "# String manipulation"
   ]
  },
  {
   "cell_type": "code",
   "execution_count": 2,
   "metadata": {},
   "outputs": [
    {
     "data": {
      "text/html": [
       "<style>\n",
       "code {\n",
       "    font-weight: bold;\n",
       "}\n",
       "</style>\n",
       "<h2>Regular Expression</h2>\n"
      ],
      "text/plain": [
       "<IPython.core.display.HTML object>"
      ]
     },
     "metadata": {},
     "output_type": "display_data"
    }
   ],
   "source": [
    "%%HTML\n",
    "<style>\n",
    "code {\n",
    "    font-weight: bold;\n",
    "}\n",
    "</style>\n",
    "<h2>Regular Expression</h2>"
   ]
  },
  {
   "cell_type": "code",
   "execution_count": 3,
   "metadata": {},
   "outputs": [
    {
     "data": {
      "text/html": [
       "<h3>Regex Object</h3>\n",
       "<p style = 'color:teal;'>Create a Regex Object with <code>re.compile(pattern)</code> is highly recommended\n",
       "if you intend to apply the same pattern to many strings.</p>\n"
      ],
      "text/plain": [
       "<IPython.core.display.HTML object>"
      ]
     },
     "metadata": {},
     "output_type": "display_data"
    }
   ],
   "source": [
    "%%HTML\n",
    "<h3>Regex Object</h3>\n",
    "<p style = 'color:teal;'>Create a Regex Object with <code>re.compile(pattern)</code> is highly recommended\n",
    "if you intend to apply the same pattern to many strings.</p>"
   ]
  },
  {
   "cell_type": "code",
   "execution_count": 4,
   "metadata": {},
   "outputs": [
    {
     "data": {
      "text/html": [
       "<code>swear.split(/\\s+/g)</code>\n"
      ],
      "text/plain": [
       "<IPython.core.display.HTML object>"
      ]
     },
     "metadata": {},
     "output_type": "display_data"
    }
   ],
   "source": [
    "%%HTML\n",
    "<code>swear.split(/\\s+/g)</code>"
   ]
  },
  {
   "cell_type": "code",
   "execution_count": 5,
   "metadata": {},
   "outputs": [
    {
     "data": {
      "text/plain": [
       "['Fuck', 'you', 'Bitch', '!']"
      ]
     },
     "execution_count": 5,
     "metadata": {},
     "output_type": "execute_result"
    }
   ],
   "source": [
    "import re\n",
    "swear = 'Fuck   you Bitch     !'\n",
    "#/[a-z]+/i ---> re.compile(r'[a-z]', flags = re.IGNORECASE)\n",
    "pattern = re.compile('\\s+')\n",
    "pattern.split(swear)"
   ]
  },
  {
   "cell_type": "code",
   "execution_count": 6,
   "metadata": {},
   "outputs": [
    {
     "data": {
      "text/html": [
       "<code>swear.match(/\\w+/g)</code>\n"
      ],
      "text/plain": [
       "<IPython.core.display.HTML object>"
      ]
     },
     "metadata": {},
     "output_type": "display_data"
    }
   ],
   "source": [
    "%%HTML\n",
    "<code>swear.match(/\\w+/g)</code>"
   ]
  },
  {
   "cell_type": "code",
   "execution_count": 7,
   "metadata": {},
   "outputs": [
    {
     "data": {
      "text/plain": [
       "['Fuck', 'you', 'Bitch']"
      ]
     },
     "execution_count": 7,
     "metadata": {},
     "output_type": "execute_result"
    }
   ],
   "source": [
    "re.findall('\\w+', swear)\n",
    "#equivalent: re.complie('\\w+').findall(swear)"
   ]
  },
  {
   "cell_type": "code",
   "execution_count": 8,
   "metadata": {},
   "outputs": [
    {
     "data": {
      "text/html": [
       "<code>swear.replace(/\\s+/g, ' ')</code>\n"
      ],
      "text/plain": [
       "<IPython.core.display.HTML object>"
      ]
     },
     "metadata": {},
     "output_type": "display_data"
    }
   ],
   "source": [
    "%%HTML\n",
    "<code>swear.replace(/\\s+/g, ' ')</code>"
   ]
  },
  {
   "cell_type": "code",
   "execution_count": 9,
   "metadata": {},
   "outputs": [
    {
     "data": {
      "text/plain": [
       "'Fuck you Bitch !'"
      ]
     },
     "execution_count": 9,
     "metadata": {},
     "output_type": "execute_result"
    }
   ],
   "source": [
    "re.compile('\\s+').sub(' ', swear)\n"
   ]
  },
  {
   "cell_type": "markdown",
   "metadata": {},
   "source": [
    "# Example: USA Food Database"
   ]
  },
  {
   "cell_type": "code",
   "execution_count": 10,
   "metadata": {},
   "outputs": [
    {
     "data": {
      "text/plain": [
       "'C:\\\\Users\\\\dell\\\\Books\\\\pydata-book-2nd-edition\\\\datasets'"
      ]
     },
     "execution_count": 10,
     "metadata": {},
     "output_type": "execute_result"
    }
   ],
   "source": [
    "import os \n",
    "os.chdir(r'C:\\Users\\dell\\Books\\pydata-book-2nd-edition\\datasets')\n",
    "os.getcwd()"
   ]
  },
  {
   "cell_type": "code",
   "execution_count": 11,
   "metadata": {},
   "outputs": [
    {
     "data": {
      "text/plain": [
       "6636"
      ]
     },
     "execution_count": 11,
     "metadata": {},
     "output_type": "execute_result"
    }
   ],
   "source": [
    "import json\n",
    "file = json.load(open('usda_food/database.json'))\n",
    "len(file)"
   ]
  },
  {
   "cell_type": "code",
   "execution_count": 12,
   "metadata": {},
   "outputs": [
    {
     "data": {
      "text/html": [
       "<div>\n",
       "<style scoped>\n",
       "    .dataframe tbody tr th:only-of-type {\n",
       "        vertical-align: middle;\n",
       "    }\n",
       "\n",
       "    .dataframe tbody tr th {\n",
       "        vertical-align: top;\n",
       "    }\n",
       "\n",
       "    .dataframe thead th {\n",
       "        text-align: right;\n",
       "    }\n",
       "</style>\n",
       "<table border=\"1\" class=\"dataframe\">\n",
       "  <thead>\n",
       "    <tr style=\"text-align: right;\">\n",
       "      <th></th>\n",
       "      <th>description</th>\n",
       "      <th>group</th>\n",
       "      <th>id</th>\n",
       "      <th>manufacturer</th>\n",
       "      <th>nutrients</th>\n",
       "      <th>portions</th>\n",
       "      <th>tags</th>\n",
       "    </tr>\n",
       "  </thead>\n",
       "  <tbody>\n",
       "    <tr>\n",
       "      <th>0</th>\n",
       "      <td>Cheese, caraway</td>\n",
       "      <td>Dairy and Egg Products</td>\n",
       "      <td>1008</td>\n",
       "      <td></td>\n",
       "      <td>[{'value': 25.18, 'units': 'g', 'description':...</td>\n",
       "      <td>[{'amount': 1, 'unit': 'oz', 'grams': 28.35}]</td>\n",
       "      <td>[]</td>\n",
       "    </tr>\n",
       "    <tr>\n",
       "      <th>1</th>\n",
       "      <td>Cheese, cheddar</td>\n",
       "      <td>Dairy and Egg Products</td>\n",
       "      <td>1009</td>\n",
       "      <td></td>\n",
       "      <td>[{'value': 24.9, 'units': 'g', 'description': ...</td>\n",
       "      <td>[{'amount': 1, 'unit': 'cup, diced', 'grams': ...</td>\n",
       "      <td>[]</td>\n",
       "    </tr>\n",
       "    <tr>\n",
       "      <th>2</th>\n",
       "      <td>Cheese, edam</td>\n",
       "      <td>Dairy and Egg Products</td>\n",
       "      <td>1018</td>\n",
       "      <td></td>\n",
       "      <td>[{'value': 4.22, 'units': 'g', 'description': ...</td>\n",
       "      <td>[{'amount': 1, 'unit': 'oz', 'grams': 28.35}, ...</td>\n",
       "      <td>[]</td>\n",
       "    </tr>\n",
       "  </tbody>\n",
       "</table>\n",
       "</div>"
      ],
      "text/plain": [
       "       description                   group    id manufacturer  \\\n",
       "0  Cheese, caraway  Dairy and Egg Products  1008                \n",
       "1  Cheese, cheddar  Dairy and Egg Products  1009                \n",
       "2     Cheese, edam  Dairy and Egg Products  1018                \n",
       "\n",
       "                                           nutrients  \\\n",
       "0  [{'value': 25.18, 'units': 'g', 'description':...   \n",
       "1  [{'value': 24.9, 'units': 'g', 'description': ...   \n",
       "2  [{'value': 4.22, 'units': 'g', 'description': ...   \n",
       "\n",
       "                                            portions tags  \n",
       "0      [{'amount': 1, 'unit': 'oz', 'grams': 28.35}]   []  \n",
       "1  [{'amount': 1, 'unit': 'cup, diced', 'grams': ...   []  \n",
       "2  [{'amount': 1, 'unit': 'oz', 'grams': 28.35}, ...   []  "
      ]
     },
     "execution_count": 12,
     "metadata": {},
     "output_type": "execute_result"
    }
   ],
   "source": [
    "df = pd.DataFrame(file)\n",
    "df.head(3)"
   ]
  },
  {
   "cell_type": "code",
   "execution_count": 13,
   "metadata": {},
   "outputs": [
    {
     "data": {
      "text/html": [
       "<h3>Working with the first 4 columns</h3>\n"
      ],
      "text/plain": [
       "<IPython.core.display.HTML object>"
      ]
     },
     "metadata": {},
     "output_type": "display_data"
    }
   ],
   "source": [
    "%%HTML\n",
    "<h3>Working with the first 4 columns</h3>"
   ]
  },
  {
   "cell_type": "code",
   "execution_count": 14,
   "metadata": {},
   "outputs": [
    {
     "data": {
      "text/html": [
       "<div>\n",
       "<style scoped>\n",
       "    .dataframe tbody tr th:only-of-type {\n",
       "        vertical-align: middle;\n",
       "    }\n",
       "\n",
       "    .dataframe tbody tr th {\n",
       "        vertical-align: top;\n",
       "    }\n",
       "\n",
       "    .dataframe thead th {\n",
       "        text-align: right;\n",
       "    }\n",
       "</style>\n",
       "<table border=\"1\" class=\"dataframe\">\n",
       "  <thead>\n",
       "    <tr style=\"text-align: right;\">\n",
       "      <th></th>\n",
       "      <th>description</th>\n",
       "      <th>group</th>\n",
       "      <th>id</th>\n",
       "      <th>manufacturer</th>\n",
       "    </tr>\n",
       "  </thead>\n",
       "  <tbody>\n",
       "    <tr>\n",
       "      <th>0</th>\n",
       "      <td>Cheese, caraway</td>\n",
       "      <td>Dairy and Egg Products</td>\n",
       "      <td>1008</td>\n",
       "      <td></td>\n",
       "    </tr>\n",
       "    <tr>\n",
       "      <th>1</th>\n",
       "      <td>Cheese, cheddar</td>\n",
       "      <td>Dairy and Egg Products</td>\n",
       "      <td>1009</td>\n",
       "      <td></td>\n",
       "    </tr>\n",
       "    <tr>\n",
       "      <th>2</th>\n",
       "      <td>Cheese, edam</td>\n",
       "      <td>Dairy and Egg Products</td>\n",
       "      <td>1018</td>\n",
       "      <td></td>\n",
       "    </tr>\n",
       "    <tr>\n",
       "      <th>3</th>\n",
       "      <td>Cheese, feta</td>\n",
       "      <td>Dairy and Egg Products</td>\n",
       "      <td>1019</td>\n",
       "      <td></td>\n",
       "    </tr>\n",
       "    <tr>\n",
       "      <th>4</th>\n",
       "      <td>Cheese, mozzarella, part skim milk</td>\n",
       "      <td>Dairy and Egg Products</td>\n",
       "      <td>1028</td>\n",
       "      <td></td>\n",
       "    </tr>\n",
       "    <tr>\n",
       "      <th>5</th>\n",
       "      <td>Cheese, mozzarella, part skim milk, low moisture</td>\n",
       "      <td>Dairy and Egg Products</td>\n",
       "      <td>1029</td>\n",
       "      <td></td>\n",
       "    </tr>\n",
       "    <tr>\n",
       "      <th>6</th>\n",
       "      <td>Cheese, romano</td>\n",
       "      <td>Dairy and Egg Products</td>\n",
       "      <td>1038</td>\n",
       "      <td></td>\n",
       "    </tr>\n",
       "    <tr>\n",
       "      <th>7</th>\n",
       "      <td>Cheese, roquefort</td>\n",
       "      <td>Dairy and Egg Products</td>\n",
       "      <td>1039</td>\n",
       "      <td></td>\n",
       "    </tr>\n",
       "    <tr>\n",
       "      <th>8</th>\n",
       "      <td>Cheese spread, pasteurized process, american, ...</td>\n",
       "      <td>Dairy and Egg Products</td>\n",
       "      <td>1048</td>\n",
       "      <td></td>\n",
       "    </tr>\n",
       "    <tr>\n",
       "      <th>9</th>\n",
       "      <td>Cream, fluid, half and half</td>\n",
       "      <td>Dairy and Egg Products</td>\n",
       "      <td>1049</td>\n",
       "      <td></td>\n",
       "    </tr>\n",
       "  </tbody>\n",
       "</table>\n",
       "</div>"
      ],
      "text/plain": [
       "                                         description                   group  \\\n",
       "0                                    Cheese, caraway  Dairy and Egg Products   \n",
       "1                                    Cheese, cheddar  Dairy and Egg Products   \n",
       "2                                       Cheese, edam  Dairy and Egg Products   \n",
       "3                                       Cheese, feta  Dairy and Egg Products   \n",
       "4                 Cheese, mozzarella, part skim milk  Dairy and Egg Products   \n",
       "5   Cheese, mozzarella, part skim milk, low moisture  Dairy and Egg Products   \n",
       "6                                     Cheese, romano  Dairy and Egg Products   \n",
       "7                                  Cheese, roquefort  Dairy and Egg Products   \n",
       "8  Cheese spread, pasteurized process, american, ...  Dairy and Egg Products   \n",
       "9                        Cream, fluid, half and half  Dairy and Egg Products   \n",
       "\n",
       "     id manufacturer  \n",
       "0  1008               \n",
       "1  1009               \n",
       "2  1018               \n",
       "3  1019               \n",
       "4  1028               \n",
       "5  1029               \n",
       "6  1038               \n",
       "7  1039               \n",
       "8  1048               \n",
       "9  1049               "
      ]
     },
     "execution_count": 14,
     "metadata": {},
     "output_type": "execute_result"
    }
   ],
   "source": [
    "info = pd.DataFrame(file, columns = ['description', 'group', 'id', 'manufacturer'])\n",
    "info.head(10)"
   ]
  },
  {
   "cell_type": "code",
   "execution_count": 15,
   "metadata": {},
   "outputs": [
    {
     "data": {
      "text/plain": [
       "Vegetables and Vegetable Products    812\n",
       "Beef Products                        618\n",
       "Baked Products                       496\n",
       "Breakfast Cereals                    403\n",
       "Legumes and Legume Products          365\n",
       "Fast Foods                           365\n",
       "Lamb, Veal, and Game Products        345\n",
       "Sweets                               341\n",
       "Fruits and Fruit Juices              328\n",
       "Pork Products                        328\n",
       "Beverages                            278\n",
       "Soups, Sauces, and Gravies           275\n",
       "Finfish and Shellfish Products       255\n",
       "Baby Foods                           209\n",
       "Cereal Grains and Pasta              183\n",
       "Ethnic Foods                         165\n",
       "Snacks                               162\n",
       "Nut and Seed Products                128\n",
       "Poultry Products                     116\n",
       "Sausages and Luncheon Meats          111\n",
       "Dairy and Egg Products               107\n",
       "Fats and Oils                         97\n",
       "Meals, Entrees, and Sidedishes        57\n",
       "Restaurant Foods                      51\n",
       "Spices and Herbs                      41\n",
       "Name: group, dtype: int64"
      ]
     },
     "execution_count": 15,
     "metadata": {},
     "output_type": "execute_result"
    }
   ],
   "source": [
    "#See the distribution of groups\n",
    "df['group'].value_counts()"
   ]
  },
  {
   "cell_type": "code",
   "execution_count": 16,
   "metadata": {},
   "outputs": [
    {
     "data": {
      "text/plain": [
       "<matplotlib.axes._subplots.AxesSubplot at 0x1b331e5c668>"
      ]
     },
     "execution_count": 16,
     "metadata": {},
     "output_type": "execute_result"
    },
    {
     "data": {
      "image/png": "[encoded data removed]",
      "text/plain": [
       "<Figure size 432x288 with 1 Axes>"
      ]
     },
     "metadata": {
      "needs_background": "light"
     },
     "output_type": "display_data"
    }
   ],
   "source": [
    "df['group'].value_counts().plot(kind = 'bar')"
   ]
  },
  {
   "cell_type": "code",
   "execution_count": 17,
   "metadata": {},
   "outputs": [
    {
     "data": {
      "text/html": [
       "<h2>Analysis on all of the nutrient data</h2>\n"
      ],
      "text/plain": [
       "<IPython.core.display.HTML object>"
      ]
     },
     "metadata": {},
     "output_type": "display_data"
    }
   ],
   "source": [
    "%%HTML\n",
    "<h2>Analysis on all of the nutrient data</h2>"
   ]
  },
  {
   "cell_type": "code",
   "execution_count": 18,
   "metadata": {},
   "outputs": [
    {
     "name": "stdout",
     "output_type": "stream",
     "text": [
      "<class 'pandas.core.frame.DataFrame'>\n",
      "RangeIndex: 389355 entries, 0 to 389354\n",
      "Data columns (total 4 columns):\n",
      "description    389355 non-null object\n",
      "group          389355 non-null object\n",
      "units          389355 non-null object\n",
      "value          389355 non-null float64\n",
      "dtypes: float64(1), object(3)\n",
      "memory usage: 11.9+ MB\n"
     ]
    }
   ],
   "source": [
    "nutrients = [pd.DataFrame(food['nutrients']) for food in file]\n",
    "nutrients = pd.concat(nutrients, ignore_index=True)\n",
    "nutrients.info()"
   ]
  },
  {
   "cell_type": "code",
   "execution_count": 19,
   "metadata": {},
   "outputs": [
    {
     "data": {
      "text/html": [
       "<div>\n",
       "<style scoped>\n",
       "    .dataframe tbody tr th:only-of-type {\n",
       "        vertical-align: middle;\n",
       "    }\n",
       "\n",
       "    .dataframe tbody tr th {\n",
       "        vertical-align: top;\n",
       "    }\n",
       "\n",
       "    .dataframe thead th {\n",
       "        text-align: right;\n",
       "    }\n",
       "</style>\n",
       "<table border=\"1\" class=\"dataframe\">\n",
       "  <thead>\n",
       "    <tr style=\"text-align: right;\">\n",
       "      <th></th>\n",
       "      <th>description</th>\n",
       "      <th>group</th>\n",
       "      <th>units</th>\n",
       "      <th>value</th>\n",
       "    </tr>\n",
       "  </thead>\n",
       "  <tbody>\n",
       "    <tr>\n",
       "      <th>0</th>\n",
       "      <td>Protein</td>\n",
       "      <td>Composition</td>\n",
       "      <td>g</td>\n",
       "      <td>25.18</td>\n",
       "    </tr>\n",
       "    <tr>\n",
       "      <th>1</th>\n",
       "      <td>Total lipid (fat)</td>\n",
       "      <td>Composition</td>\n",
       "      <td>g</td>\n",
       "      <td>29.20</td>\n",
       "    </tr>\n",
       "    <tr>\n",
       "      <th>2</th>\n",
       "      <td>Carbohydrate, by difference</td>\n",
       "      <td>Composition</td>\n",
       "      <td>g</td>\n",
       "      <td>3.06</td>\n",
       "    </tr>\n",
       "    <tr>\n",
       "      <th>3</th>\n",
       "      <td>Ash</td>\n",
       "      <td>Other</td>\n",
       "      <td>g</td>\n",
       "      <td>3.28</td>\n",
       "    </tr>\n",
       "    <tr>\n",
       "      <th>4</th>\n",
       "      <td>Energy</td>\n",
       "      <td>Energy</td>\n",
       "      <td>kcal</td>\n",
       "      <td>376.00</td>\n",
       "    </tr>\n",
       "    <tr>\n",
       "      <th>5</th>\n",
       "      <td>Water</td>\n",
       "      <td>Composition</td>\n",
       "      <td>g</td>\n",
       "      <td>39.28</td>\n",
       "    </tr>\n",
       "    <tr>\n",
       "      <th>6</th>\n",
       "      <td>Energy</td>\n",
       "      <td>Energy</td>\n",
       "      <td>kJ</td>\n",
       "      <td>1573.00</td>\n",
       "    </tr>\n",
       "    <tr>\n",
       "      <th>7</th>\n",
       "      <td>Fiber, total dietary</td>\n",
       "      <td>Composition</td>\n",
       "      <td>g</td>\n",
       "      <td>0.00</td>\n",
       "    </tr>\n",
       "    <tr>\n",
       "      <th>8</th>\n",
       "      <td>Calcium, Ca</td>\n",
       "      <td>Elements</td>\n",
       "      <td>mg</td>\n",
       "      <td>673.00</td>\n",
       "    </tr>\n",
       "    <tr>\n",
       "      <th>9</th>\n",
       "      <td>Iron, Fe</td>\n",
       "      <td>Elements</td>\n",
       "      <td>mg</td>\n",
       "      <td>0.64</td>\n",
       "    </tr>\n",
       "  </tbody>\n",
       "</table>\n",
       "</div>"
      ],
      "text/plain": [
       "                   description        group units    value\n",
       "0                      Protein  Composition     g    25.18\n",
       "1            Total lipid (fat)  Composition     g    29.20\n",
       "2  Carbohydrate, by difference  Composition     g     3.06\n",
       "3                          Ash        Other     g     3.28\n",
       "4                       Energy       Energy  kcal   376.00\n",
       "5                        Water  Composition     g    39.28\n",
       "6                       Energy       Energy    kJ  1573.00\n",
       "7         Fiber, total dietary  Composition     g     0.00\n",
       "8                  Calcium, Ca     Elements    mg   673.00\n",
       "9                     Iron, Fe     Elements    mg     0.64"
      ]
     },
     "execution_count": 19,
     "metadata": {},
     "output_type": "execute_result"
    }
   ],
   "source": [
    "nutrients.head(10)"
   ]
  },
  {
   "cell_type": "code",
   "execution_count": 20,
   "metadata": {},
   "outputs": [
    {
     "data": {
      "text/html": [
       "<p>To avoid duplicate column names with DataFrame <code>info</code>, we will rename DataFrame <code>nutrients</code></p>\n"
      ],
      "text/plain": [
       "<IPython.core.display.HTML object>"
      ]
     },
     "metadata": {},
     "output_type": "display_data"
    }
   ],
   "source": [
    "%%HTML\n",
    "<p>To avoid duplicate column names with DataFrame <code>info</code>, we will rename DataFrame <code>nutrients</code></p>"
   ]
  },
  {
   "cell_type": "code",
   "execution_count": 21,
   "metadata": {},
   "outputs": [
    {
     "name": "stdout",
     "output_type": "stream",
     "text": [
      "<class 'pandas.core.frame.DataFrame'>\n",
      "RangeIndex: 389355 entries, 0 to 389354\n",
      "Data columns (total 4 columns):\n",
      "nutrient    389355 non-null object\n",
      "nutgroup    389355 non-null object\n",
      "units       389355 non-null object\n",
      "value       389355 non-null float64\n",
      "dtypes: float64(1), object(3)\n",
      "memory usage: 11.9+ MB\n"
     ]
    }
   ],
   "source": [
    "nutrients.rename(columns = {'description' : 'nutrient', 'group' : 'nutgroup'}, inplace = True)\n",
    "nutrients.info()"
   ]
  },
  {
   "cell_type": "code",
   "execution_count": 22,
   "metadata": {},
   "outputs": [
    {
     "data": {
      "text/html": [
       "<h3>Mege 2 table into 1 table</h3>\n"
      ],
      "text/plain": [
       "<IPython.core.display.HTML object>"
      ]
     },
     "metadata": {},
     "output_type": "display_data"
    }
   ],
   "source": [
    "%%HTML\n",
    "<h3>Mege 2 table into 1 table</h3>"
   ]
  },
  {
   "cell_type": "code",
   "execution_count": 23,
   "metadata": {},
   "outputs": [
    {
     "name": "stdout",
     "output_type": "stream",
     "text": [
      "<class 'pandas.core.frame.DataFrame'>\n",
      "Int64Index: 389355 entries, 0 to 389354\n",
      "Data columns (total 8 columns):\n",
      "description     6636 non-null object\n",
      "group           6636 non-null object\n",
      "id              6636 non-null float64\n",
      "manufacturer    5195 non-null object\n",
      "nutrient        389355 non-null object\n",
      "nutgroup        389355 non-null object\n",
      "units           389355 non-null object\n",
      "value           389355 non-null float64\n",
      "dtypes: float64(2), object(6)\n",
      "memory usage: 26.7+ MB\n"
     ]
    }
   ],
   "source": [
    "data = pd.merge(info, nutrients, left_index = True, right_index = True, how = 'outer')\n",
    "data.info()"
   ]
  },
  {
   "cell_type": "code",
   "execution_count": 24,
   "metadata": {},
   "outputs": [
    {
     "data": {
      "text/html": [
       "<div>\n",
       "<style scoped>\n",
       "    .dataframe tbody tr th:only-of-type {\n",
       "        vertical-align: middle;\n",
       "    }\n",
       "\n",
       "    .dataframe tbody tr th {\n",
       "        vertical-align: top;\n",
       "    }\n",
       "\n",
       "    .dataframe thead th {\n",
       "        text-align: right;\n",
       "    }\n",
       "</style>\n",
       "<table border=\"1\" class=\"dataframe\">\n",
       "  <thead>\n",
       "    <tr style=\"text-align: right;\">\n",
       "      <th></th>\n",
       "      <th>description</th>\n",
       "      <th>group</th>\n",
       "      <th>id</th>\n",
       "      <th>manufacturer</th>\n",
       "      <th>nutrient</th>\n",
       "      <th>nutgroup</th>\n",
       "      <th>units</th>\n",
       "      <th>value</th>\n",
       "    </tr>\n",
       "  </thead>\n",
       "  <tbody>\n",
       "    <tr>\n",
       "      <th>0</th>\n",
       "      <td>Cheese, caraway</td>\n",
       "      <td>Dairy and Egg Products</td>\n",
       "      <td>1008.0</td>\n",
       "      <td></td>\n",
       "      <td>Protein</td>\n",
       "      <td>Composition</td>\n",
       "      <td>g</td>\n",
       "      <td>25.18</td>\n",
       "    </tr>\n",
       "    <tr>\n",
       "      <th>1</th>\n",
       "      <td>Cheese, cheddar</td>\n",
       "      <td>Dairy and Egg Products</td>\n",
       "      <td>1009.0</td>\n",
       "      <td></td>\n",
       "      <td>Total lipid (fat)</td>\n",
       "      <td>Composition</td>\n",
       "      <td>g</td>\n",
       "      <td>29.20</td>\n",
       "    </tr>\n",
       "    <tr>\n",
       "      <th>2</th>\n",
       "      <td>Cheese, edam</td>\n",
       "      <td>Dairy and Egg Products</td>\n",
       "      <td>1018.0</td>\n",
       "      <td></td>\n",
       "      <td>Carbohydrate, by difference</td>\n",
       "      <td>Composition</td>\n",
       "      <td>g</td>\n",
       "      <td>3.06</td>\n",
       "    </tr>\n",
       "  </tbody>\n",
       "</table>\n",
       "</div>"
      ],
      "text/plain": [
       "       description                   group      id manufacturer  \\\n",
       "0  Cheese, caraway  Dairy and Egg Products  1008.0                \n",
       "1  Cheese, cheddar  Dairy and Egg Products  1009.0                \n",
       "2     Cheese, edam  Dairy and Egg Products  1018.0                \n",
       "\n",
       "                      nutrient     nutgroup units  value  \n",
       "0                      Protein  Composition     g  25.18  \n",
       "1            Total lipid (fat)  Composition     g  29.20  \n",
       "2  Carbohydrate, by difference  Composition     g   3.06  "
      ]
     },
     "execution_count": 24,
     "metadata": {},
     "output_type": "execute_result"
    }
   ],
   "source": [
    "data.head(3)"
   ]
  },
  {
   "cell_type": "code",
   "execution_count": 25,
   "metadata": {},
   "outputs": [
    {
     "data": {
      "text/plain": [
       "array(['Protein', 'Total lipid (fat)', 'Carbohydrate, by difference',\n",
       "       'Ash', 'Energy', 'Water', 'Fiber, total dietary', 'Calcium, Ca',\n",
       "       'Iron, Fe', 'Magnesium, Mg', 'Phosphorus, P', 'Potassium, K',\n",
       "       'Sodium, Na', 'Zinc, Zn', 'Copper, Cu', 'Manganese, Mn',\n",
       "       'Selenium, Se', 'Vitamin A, IU', 'Retinol', 'Vitamin A, RAE',\n",
       "       'Vitamin C, total ascorbic acid', 'Thiamin', 'Riboflavin',\n",
       "       'Niacin', 'Pantothenic acid', 'Vitamin B-6', 'Folate, total',\n",
       "       'Vitamin B-12', 'Folic acid', 'Folate, food', 'Folate, DFE',\n",
       "       'Cholesterol', 'Fatty acids, total saturated',\n",
       "       'Fatty acids, total monounsaturated',\n",
       "       'Fatty acids, total polyunsaturated', 'Tryptophan', 'Threonine',\n",
       "       'Isoleucine', 'Leucine', 'Lysine', 'Methionine', 'Cystine',\n",
       "       'Phenylalanine', 'Tyrosine', 'Valine', 'Arginine', 'Histidine',\n",
       "       'Alanine', 'Aspartic acid', 'Glutamic acid', 'Glycine', 'Proline',\n",
       "       'Serine', 'Sucrose', 'Lactose', 'Maltose', 'Alcohol, ethyl',\n",
       "       'Caffeine', 'Theobromine', 'Sugars, total', 'Fluoride, F',\n",
       "       'Carotene, beta', 'Carotene, alpha',\n",
       "       'Vitamin E (alpha-tocopherol)', 'Vitamin D',\n",
       "       'Vitamin D3 (cholecalciferol)', 'Vitamin D (D2 + D3)',\n",
       "       'Cryptoxanthin, beta', 'Lycopene', 'Lutein + zeaxanthin',\n",
       "       'Tocopherol, gamma', 'Tocopherol, delta', 'Choline, total',\n",
       "       'Vitamin K (phylloquinone)', 'Betaine', 'Vitamin E, added',\n",
       "       'Vitamin B-12, added', 'Dihydrophylloquinone', 'Tocopherol, beta',\n",
       "       'Phytosterols', 'Glucose (dextrose)', 'Fructose', 'Galactose',\n",
       "       'Fatty acids, total trans', 'Stigmasterol', 'Campesterol',\n",
       "       'Beta-sitosterol', 'Fatty acids, total trans-monoenoic',\n",
       "       'Fatty acids, total trans-polyenoic', 'Hydroxyproline', 'Starch',\n",
       "       'Menaquinone-4', 'Vitamin D2 (ergocalciferol)', 'Adjusted Protein'],\n",
       "      dtype=object)"
      ]
     },
     "execution_count": 25,
     "metadata": {},
     "output_type": "execute_result"
    }
   ],
   "source": [
    "data['nutrient'].unique()"
   ]
  },
  {
   "cell_type": "code",
   "execution_count": 26,
   "metadata": {},
   "outputs": [
    {
     "data": {
      "text/plain": [
       "group                              nutgroup   \n",
       "Baby Foods                         Amino Acids      1.0770\n",
       "                                   Composition      5.8000\n",
       "                                   Elements        13.9000\n",
       "                                   Energy         988.0000\n",
       "                                   Other            0.8300\n",
       "                                   Sugars           0.2300\n",
       "                                   Vitamins         0.3750\n",
       "Baked Products                     Amino Acids      0.1830\n",
       "                                   Composition      4.3750\n",
       "                                   Elements         7.2000\n",
       "                                   Energy         210.0000\n",
       "                                   Other            0.0780\n",
       "                                   Sugars           0.0100\n",
       "                                   Vitamins         0.3360\n",
       "Beef Products                      Amino Acids      0.2140\n",
       "                                   Composition      5.0200\n",
       "                                   Elements         6.2900\n",
       "                                   Energy         209.0000\n",
       "                                   Other            0.4395\n",
       "                                   Vitamins         0.1230\n",
       "Beverages                          Amino Acids      0.5025\n",
       "                                   Composition     19.9450\n",
       "                                   Elements        24.6500\n",
       "                                   Energy         545.0000\n",
       "                                   Other            0.1060\n",
       "                                   Vitamins         0.0000\n",
       "Breakfast Cereals                  Amino Acids      1.0420\n",
       "                                   Composition      3.8300\n",
       "                                   Elements        16.3000\n",
       "                                   Energy         683.0000\n",
       "                                                    ...   \n",
       "Snacks                             Amino Acids      0.1780\n",
       "                                   Composition      3.5150\n",
       "                                   Elements         2.6000\n",
       "                                   Energy         136.0000\n",
       "                                   Other            0.0740\n",
       "                                   Vitamins         0.1000\n",
       "Soups, Sauces, and Gravies         Amino Acids      0.9320\n",
       "                                   Composition      5.0200\n",
       "                                   Elements        15.0000\n",
       "                                   Energy         357.0000\n",
       "                                   Other            0.2955\n",
       "                                   Vitamins         0.5000\n",
       "Spices and Herbs                   Amino Acids      1.2710\n",
       "                                   Composition     27.1900\n",
       "                                   Energy         376.0000\n",
       "                                   Other            8.2750\n",
       "                                   Vitamins         0.2700\n",
       "Sweets                             Amino Acids      0.1780\n",
       "                                   Composition      4.9900\n",
       "                                   Elements         3.3000\n",
       "                                   Energy         177.0000\n",
       "                                   Other            0.0350\n",
       "                                   Sugars           0.0000\n",
       "                                   Vitamins         0.0965\n",
       "Vegetables and Vegetable Products  Amino Acids      0.1980\n",
       "                                   Composition      4.4600\n",
       "                                   Elements         4.1700\n",
       "                                   Energy         496.0000\n",
       "                                   Other            0.6700\n",
       "                                   Vitamins         0.3300\n",
       "Name: value, Length: 156, dtype: float64"
      ]
     },
     "execution_count": 26,
     "metadata": {},
     "output_type": "execute_result"
    }
   ],
   "source": [
    "#The median value for each group of (group, nutgroup)\n",
    "median_value = data.groupby(['group', 'nutgroup'])['value'].median()\n",
    "median_value"
   ]
  },
  {
   "cell_type": "code",
   "execution_count": 31,
   "metadata": {},
   "outputs": [
    {
     "data": {
      "text/plain": [
       "Text(0.5, 1.0, 'Vitamins')"
      ]
     },
     "execution_count": 31,
     "metadata": {},
     "output_type": "execute_result"
    },
    {
     "data": {
      "image/png": "[encoded data removed]",
      "text/plain": [
       "<Figure size 432x288 with 1 Axes>"
      ]
     },
     "metadata": {
      "needs_background": "light"
     },
     "output_type": "display_data"
    }
   ],
   "source": [
    "#See the distribution of Vitamins over different food group\n",
    "median_value[:,'Vitamins'].sort_values().plot(kind = 'barh')\n",
    "plt.title('Vitamins')"
   ]
  },
  {
   "cell_type": "code",
   "execution_count": null,
   "metadata": {},
   "outputs": [],
   "source": []
  }
 ],
 "metadata": {
  "kernelspec": {
   "display_name": "Python 3",
   "language": "python",
   "name": "python3"
  },
  "language_info": {
   "codemirror_mode": {
    "name": "ipython",
    "version": 3
   },
   "file_extension": ".py",
   "mimetype": "text/x-python",
   "name": "python",
   "nbconvert_exporter": "python",
   "pygments_lexer": "ipython3",
   "version": "3.7.3"
  }
 },
 "nbformat": 4,
 "nbformat_minor": 2
}
