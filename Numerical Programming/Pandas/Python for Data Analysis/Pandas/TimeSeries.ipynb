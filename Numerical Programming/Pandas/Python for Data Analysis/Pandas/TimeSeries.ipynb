{
 "cells": [
  {
   "cell_type": "markdown",
   "metadata": {},
   "source": [
    "# Date and Time Data Types and Tools"
   ]
  },
  {
   "cell_type": "code",
   "execution_count": 3,
   "metadata": {},
   "outputs": [],
   "source": [
    "from datetime import datetime"
   ]
  },
  {
   "cell_type": "markdown",
   "metadata": {},
   "source": [
    "Get current time:"
   ]
  },
  {
   "cell_type": "code",
   "execution_count": 4,
   "metadata": {},
   "outputs": [
    {
     "data": {
      "text/plain": [
       "datetime.datetime(2019, 10, 19, 11, 22, 20, 57660)"
      ]
     },
     "execution_count": 4,
     "metadata": {},
     "output_type": "execute_result"
    }
   ],
   "source": [
    "datetime.now()"
   ]
  },
  {
   "cell_type": "markdown",
   "metadata": {},
   "source": [
    "Create datetime:"
   ]
  },
  {
   "cell_type": "code",
   "execution_count": 5,
   "metadata": {},
   "outputs": [
    {
     "data": {
      "text/plain": [
       "datetime.datetime(2001, 10, 6, 20, 55, 33)"
      ]
     },
     "execution_count": 5,
     "metadata": {},
     "output_type": "execute_result"
    }
   ],
   "source": [
    "my_birthday = datetime(2001, 10, 6, 20, 55, 33)\n",
    "my_birthday"
   ]
  },
  {
   "cell_type": "markdown",
   "metadata": {},
   "source": [
    "Time delta:"
   ]
  },
  {
   "cell_type": "code",
   "execution_count": 6,
   "metadata": {},
   "outputs": [
    {
     "data": {
      "text/plain": [
       "datetime.timedelta(days=6586, seconds=52099, microseconds=230563)"
      ]
     },
     "execution_count": 6,
     "metadata": {},
     "output_type": "execute_result"
    }
   ],
   "source": [
    "time = datetime.now() - my_birthday\n",
    "time"
   ]
  },
  {
   "cell_type": "markdown",
   "metadata": {},
   "source": [
    "How many days I have lived?"
   ]
  },
  {
   "cell_type": "code",
   "execution_count": 7,
   "metadata": {},
   "outputs": [
    {
     "data": {
      "text/plain": [
       "6586"
      ]
     },
     "execution_count": 7,
     "metadata": {},
     "output_type": "execute_result"
    }
   ],
   "source": [
    "time.days"
   ]
  },
  {
   "cell_type": "markdown",
   "metadata": {},
   "source": [
    "My brother was born after me 5 minutes:"
   ]
  },
  {
   "cell_type": "code",
   "execution_count": 10,
   "metadata": {},
   "outputs": [
    {
     "data": {
      "text/plain": [
       "datetime.datetime(2001, 10, 6, 21, 0, 33)"
      ]
     },
     "execution_count": 10,
     "metadata": {},
     "output_type": "execute_result"
    }
   ],
   "source": [
    "from datetime import timedelta\n",
    "#timedelta?\n",
    "kien_birthday = my_birthday + timedelta(minutes = 5)\n",
    "kien_birthday"
   ]
  },
  {
   "cell_type": "markdown",
   "metadata": {},
   "source": [
    "## Converting between string and datetime"
   ]
  },
  {
   "cell_type": "code",
   "execution_count": 11,
   "metadata": {},
   "outputs": [
    {
     "data": {
      "text/html": [
       "<h3>Datetime to string</h3>\n"
      ],
      "text/plain": [
       "<IPython.core.display.HTML object>"
      ]
     },
     "metadata": {},
     "output_type": "display_data"
    }
   ],
   "source": [
    "%%HTML\n",
    "<h3>Datetime to string</h3>"
   ]
  },
  {
   "cell_type": "code",
   "execution_count": 12,
   "metadata": {},
   "outputs": [
    {
     "data": {
      "text/plain": [
       "'06-10-2001'"
      ]
     },
     "execution_count": 12,
     "metadata": {},
     "output_type": "execute_result"
    }
   ],
   "source": [
    "my_birthday.strftime('%d-%m-%Y')"
   ]
  },
  {
   "cell_type": "code",
   "execution_count": 13,
   "metadata": {},
   "outputs": [
    {
     "data": {
      "text/html": [
       "<h3>String to datetime (with known format):</h3>\n"
      ],
      "text/plain": [
       "<IPython.core.display.HTML object>"
      ]
     },
     "metadata": {},
     "output_type": "display_data"
    }
   ],
   "source": [
    "%%HTML\n",
    "<h3>String to datetime (with known format):</h3>"
   ]
  },
  {
   "cell_type": "code",
   "execution_count": 14,
   "metadata": {},
   "outputs": [
    {
     "data": {
      "text/plain": [
       "datetime.datetime(2019, 8, 3, 0, 0)"
      ]
     },
     "execution_count": 14,
     "metadata": {},
     "output_type": "execute_result"
    }
   ],
   "source": [
    "women_day = '2019*3*8'\n",
    "datetime.strptime(women_day, '%Y*%d*%m')"
   ]
  },
  {
   "cell_type": "code",
   "execution_count": 15,
   "metadata": {},
   "outputs": [
    {
     "data": {
      "text/html": [
       "<h3>Parsing</h3>\n"
      ],
      "text/plain": [
       "<IPython.core.display.HTML object>"
      ]
     },
     "metadata": {},
     "output_type": "display_data"
    }
   ],
   "source": [
    "%%HTML\n",
    "<h3>Parsing</h3>"
   ]
  },
  {
   "cell_type": "code",
   "execution_count": 23,
   "metadata": {},
   "outputs": [
    {
     "data": {
      "text/plain": [
       "datetime.datetime(2001, 10, 6, 0, 0)"
      ]
     },
     "execution_count": 23,
     "metadata": {},
     "output_type": "execute_result"
    }
   ],
   "source": [
    "from dateutil.parser import parse\n",
    "parse('06/10/2001', dayfirst = True)"
   ]
  },
  {
   "cell_type": "code",
   "execution_count": 24,
   "metadata": {},
   "outputs": [
    {
     "data": {
      "text/plain": [
       "datetime.datetime(2001, 10, 6, 20, 55, 33)"
      ]
     },
     "execution_count": 24,
     "metadata": {},
     "output_type": "execute_result"
    }
   ],
   "source": [
    "parse('20:55:33 Oct, 6 2001')"
   ]
  },
  {
   "cell_type": "code",
   "execution_count": 26,
   "metadata": {},
   "outputs": [
    {
     "data": {
      "text/html": [
       "<h3 style = 'color:teal;'>Pandas parsing: <code>pd.to_datetime(...)</code></h3>\n"
      ],
      "text/plain": [
       "<IPython.core.display.HTML object>"
      ]
     },
     "metadata": {},
     "output_type": "display_data"
    }
   ],
   "source": [
    "%%HTML\n",
    "<h3 style = 'color:teal;'>Pandas parsing: <code>pd.to_datetime(...)</code></h3>"
   ]
  },
  {
   "cell_type": "code",
   "execution_count": 36,
   "metadata": {},
   "outputs": [
    {
     "data": {
      "text/plain": [
       "DatetimeIndex(['2001-10-06', '2019-03-08', '2019-10-20', '2019-11-20',\n",
       "               '2019-12-26'],\n",
       "              dtype='datetime64[ns]', freq=None)"
      ]
     },
     "execution_count": 36,
     "metadata": {},
     "output_type": "execute_result"
    }
   ],
   "source": [
    "import pandas as pd\n",
    "events = ['06/10/2001', '8/3/2019', '20/10/2019', '20/11/2019', '26/12/2019']\n",
    "dt = pd.to_datetime(events, format = '%d/%m/%Y')\n",
    "dt"
   ]
  },
  {
   "cell_type": "markdown",
   "metadata": {},
   "source": [
    "## Indexing, selection, subseting"
   ]
  },
  {
   "cell_type": "code",
   "execution_count": 37,
   "metadata": {},
   "outputs": [],
   "source": [
    "import os\n",
    "os.chdir(r'C:\\Users\\dell\\PycharmProjects\\MachineLearning\\Pandas\\datasets')"
   ]
  },
  {
   "cell_type": "code",
   "execution_count": 40,
   "metadata": {},
   "outputs": [
    {
     "data": {
      "text/html": [
       "<div>\n",
       "<style scoped>\n",
       "    .dataframe tbody tr th:only-of-type {\n",
       "        vertical-align: middle;\n",
       "    }\n",
       "\n",
       "    .dataframe tbody tr th {\n",
       "        vertical-align: top;\n",
       "    }\n",
       "\n",
       "    .dataframe thead th {\n",
       "        text-align: right;\n",
       "    }\n",
       "</style>\n",
       "<table border=\"1\" class=\"dataframe\">\n",
       "  <thead>\n",
       "    <tr style=\"text-align: right;\">\n",
       "      <th></th>\n",
       "      <th>Consumption</th>\n",
       "      <th>Wind</th>\n",
       "      <th>Solar</th>\n",
       "      <th>Wind+Solar</th>\n",
       "    </tr>\n",
       "    <tr>\n",
       "      <th>Date</th>\n",
       "      <th></th>\n",
       "      <th></th>\n",
       "      <th></th>\n",
       "      <th></th>\n",
       "    </tr>\n",
       "  </thead>\n",
       "  <tbody>\n",
       "    <tr>\n",
       "      <th>2006-01-01</th>\n",
       "      <td>1069.184</td>\n",
       "      <td>NaN</td>\n",
       "      <td>NaN</td>\n",
       "      <td>NaN</td>\n",
       "    </tr>\n",
       "    <tr>\n",
       "      <th>2006-01-02</th>\n",
       "      <td>1380.521</td>\n",
       "      <td>NaN</td>\n",
       "      <td>NaN</td>\n",
       "      <td>NaN</td>\n",
       "    </tr>\n",
       "    <tr>\n",
       "      <th>2006-01-03</th>\n",
       "      <td>1442.533</td>\n",
       "      <td>NaN</td>\n",
       "      <td>NaN</td>\n",
       "      <td>NaN</td>\n",
       "    </tr>\n",
       "    <tr>\n",
       "      <th>2006-01-04</th>\n",
       "      <td>1457.217</td>\n",
       "      <td>NaN</td>\n",
       "      <td>NaN</td>\n",
       "      <td>NaN</td>\n",
       "    </tr>\n",
       "    <tr>\n",
       "      <th>2006-01-05</th>\n",
       "      <td>1477.131</td>\n",
       "      <td>NaN</td>\n",
       "      <td>NaN</td>\n",
       "      <td>NaN</td>\n",
       "    </tr>\n",
       "    <tr>\n",
       "      <th>2006-01-06</th>\n",
       "      <td>1403.427</td>\n",
       "      <td>NaN</td>\n",
       "      <td>NaN</td>\n",
       "      <td>NaN</td>\n",
       "    </tr>\n",
       "    <tr>\n",
       "      <th>2006-01-07</th>\n",
       "      <td>1300.287</td>\n",
       "      <td>NaN</td>\n",
       "      <td>NaN</td>\n",
       "      <td>NaN</td>\n",
       "    </tr>\n",
       "    <tr>\n",
       "      <th>2006-01-08</th>\n",
       "      <td>1207.985</td>\n",
       "      <td>NaN</td>\n",
       "      <td>NaN</td>\n",
       "      <td>NaN</td>\n",
       "    </tr>\n",
       "    <tr>\n",
       "      <th>2006-01-09</th>\n",
       "      <td>1529.323</td>\n",
       "      <td>NaN</td>\n",
       "      <td>NaN</td>\n",
       "      <td>NaN</td>\n",
       "    </tr>\n",
       "    <tr>\n",
       "      <th>2006-01-10</th>\n",
       "      <td>1576.911</td>\n",
       "      <td>NaN</td>\n",
       "      <td>NaN</td>\n",
       "      <td>NaN</td>\n",
       "    </tr>\n",
       "  </tbody>\n",
       "</table>\n",
       "</div>"
      ],
      "text/plain": [
       "            Consumption  Wind  Solar  Wind+Solar\n",
       "Date                                            \n",
       "2006-01-01     1069.184   NaN    NaN         NaN\n",
       "2006-01-02     1380.521   NaN    NaN         NaN\n",
       "2006-01-03     1442.533   NaN    NaN         NaN\n",
       "2006-01-04     1457.217   NaN    NaN         NaN\n",
       "2006-01-05     1477.131   NaN    NaN         NaN\n",
       "2006-01-06     1403.427   NaN    NaN         NaN\n",
       "2006-01-07     1300.287   NaN    NaN         NaN\n",
       "2006-01-08     1207.985   NaN    NaN         NaN\n",
       "2006-01-09     1529.323   NaN    NaN         NaN\n",
       "2006-01-10     1576.911   NaN    NaN         NaN"
      ]
     },
     "execution_count": 40,
     "metadata": {},
     "output_type": "execute_result"
    }
   ],
   "source": [
    "df = pd.read_csv('germany.csv', index_col = 0, parse_dates = True)\n",
    "df.head(10)"
   ]
  },
  {
   "cell_type": "markdown",
   "metadata": {},
   "source": [
    "Select data on 2006/01/01:"
   ]
  },
  {
   "cell_type": "code",
   "execution_count": 45,
   "metadata": {},
   "outputs": [
    {
     "data": {
      "text/plain": [
       "Consumption    1069.184\n",
       "Wind                NaN\n",
       "Solar               NaN\n",
       "Wind+Solar          NaN\n",
       "Name: 2006-01-01 00:00:00, dtype: float64"
      ]
     },
     "execution_count": 45,
     "metadata": {},
     "output_type": "execute_result"
    }
   ],
   "source": [
    "df.loc['2006/01/01']"
   ]
  },
  {
   "cell_type": "markdown",
   "metadata": {},
   "source": [
    "Select data on year 2007:"
   ]
  },
  {
   "cell_type": "code",
   "execution_count": 47,
   "metadata": {},
   "outputs": [
    {
     "data": {
      "text/html": [
       "<div>\n",
       "<style scoped>\n",
       "    .dataframe tbody tr th:only-of-type {\n",
       "        vertical-align: middle;\n",
       "    }\n",
       "\n",
       "    .dataframe tbody tr th {\n",
       "        vertical-align: top;\n",
       "    }\n",
       "\n",
       "    .dataframe thead th {\n",
       "        text-align: right;\n",
       "    }\n",
       "</style>\n",
       "<table border=\"1\" class=\"dataframe\">\n",
       "  <thead>\n",
       "    <tr style=\"text-align: right;\">\n",
       "      <th></th>\n",
       "      <th>Consumption</th>\n",
       "      <th>Wind</th>\n",
       "      <th>Solar</th>\n",
       "      <th>Wind+Solar</th>\n",
       "    </tr>\n",
       "    <tr>\n",
       "      <th>Date</th>\n",
       "      <th></th>\n",
       "      <th></th>\n",
       "      <th></th>\n",
       "      <th></th>\n",
       "    </tr>\n",
       "  </thead>\n",
       "  <tbody>\n",
       "    <tr>\n",
       "      <th>2007-01-01</th>\n",
       "      <td>1128.843</td>\n",
       "      <td>NaN</td>\n",
       "      <td>NaN</td>\n",
       "      <td>NaN</td>\n",
       "    </tr>\n",
       "    <tr>\n",
       "      <th>2007-01-02</th>\n",
       "      <td>1416.669</td>\n",
       "      <td>NaN</td>\n",
       "      <td>NaN</td>\n",
       "      <td>NaN</td>\n",
       "    </tr>\n",
       "    <tr>\n",
       "      <th>2007-01-03</th>\n",
       "      <td>1471.586</td>\n",
       "      <td>NaN</td>\n",
       "      <td>NaN</td>\n",
       "      <td>NaN</td>\n",
       "    </tr>\n",
       "    <tr>\n",
       "      <th>2007-01-04</th>\n",
       "      <td>1514.823</td>\n",
       "      <td>NaN</td>\n",
       "      <td>NaN</td>\n",
       "      <td>NaN</td>\n",
       "    </tr>\n",
       "    <tr>\n",
       "      <th>2007-01-05</th>\n",
       "      <td>1484.168</td>\n",
       "      <td>NaN</td>\n",
       "      <td>NaN</td>\n",
       "      <td>NaN</td>\n",
       "    </tr>\n",
       "    <tr>\n",
       "      <th>2007-01-06</th>\n",
       "      <td>1249.663</td>\n",
       "      <td>NaN</td>\n",
       "      <td>NaN</td>\n",
       "      <td>NaN</td>\n",
       "    </tr>\n",
       "    <tr>\n",
       "      <th>2007-01-07</th>\n",
       "      <td>1173.687</td>\n",
       "      <td>NaN</td>\n",
       "      <td>NaN</td>\n",
       "      <td>NaN</td>\n",
       "    </tr>\n",
       "    <tr>\n",
       "      <th>2007-01-08</th>\n",
       "      <td>1510.013</td>\n",
       "      <td>NaN</td>\n",
       "      <td>NaN</td>\n",
       "      <td>NaN</td>\n",
       "    </tr>\n",
       "    <tr>\n",
       "      <th>2007-01-09</th>\n",
       "      <td>1554.889</td>\n",
       "      <td>NaN</td>\n",
       "      <td>NaN</td>\n",
       "      <td>NaN</td>\n",
       "    </tr>\n",
       "    <tr>\n",
       "      <th>2007-01-10</th>\n",
       "      <td>1556.122</td>\n",
       "      <td>NaN</td>\n",
       "      <td>NaN</td>\n",
       "      <td>NaN</td>\n",
       "    </tr>\n",
       "  </tbody>\n",
       "</table>\n",
       "</div>"
      ],
      "text/plain": [
       "            Consumption  Wind  Solar  Wind+Solar\n",
       "Date                                            \n",
       "2007-01-01     1128.843   NaN    NaN         NaN\n",
       "2007-01-02     1416.669   NaN    NaN         NaN\n",
       "2007-01-03     1471.586   NaN    NaN         NaN\n",
       "2007-01-04     1514.823   NaN    NaN         NaN\n",
       "2007-01-05     1484.168   NaN    NaN         NaN\n",
       "2007-01-06     1249.663   NaN    NaN         NaN\n",
       "2007-01-07     1173.687   NaN    NaN         NaN\n",
       "2007-01-08     1510.013   NaN    NaN         NaN\n",
       "2007-01-09     1554.889   NaN    NaN         NaN\n",
       "2007-01-10     1556.122   NaN    NaN         NaN"
      ]
     },
     "execution_count": 47,
     "metadata": {},
     "output_type": "execute_result"
    }
   ],
   "source": [
    "df.loc['2007'].head(10)"
   ]
  },
  {
   "cell_type": "markdown",
   "metadata": {},
   "source": [
    "select data in the fisrt month of 2006:"
   ]
  },
  {
   "cell_type": "code",
   "execution_count": 48,
   "metadata": {},
   "outputs": [
    {
     "data": {
      "text/html": [
       "<div>\n",
       "<style scoped>\n",
       "    .dataframe tbody tr th:only-of-type {\n",
       "        vertical-align: middle;\n",
       "    }\n",
       "\n",
       "    .dataframe tbody tr th {\n",
       "        vertical-align: top;\n",
       "    }\n",
       "\n",
       "    .dataframe thead th {\n",
       "        text-align: right;\n",
       "    }\n",
       "</style>\n",
       "<table border=\"1\" class=\"dataframe\">\n",
       "  <thead>\n",
       "    <tr style=\"text-align: right;\">\n",
       "      <th></th>\n",
       "      <th>Consumption</th>\n",
       "      <th>Wind</th>\n",
       "      <th>Solar</th>\n",
       "      <th>Wind+Solar</th>\n",
       "    </tr>\n",
       "    <tr>\n",
       "      <th>Date</th>\n",
       "      <th></th>\n",
       "      <th></th>\n",
       "      <th></th>\n",
       "      <th></th>\n",
       "    </tr>\n",
       "  </thead>\n",
       "  <tbody>\n",
       "    <tr>\n",
       "      <th>2006-01-01</th>\n",
       "      <td>1069.184</td>\n",
       "      <td>NaN</td>\n",
       "      <td>NaN</td>\n",
       "      <td>NaN</td>\n",
       "    </tr>\n",
       "    <tr>\n",
       "      <th>2006-01-02</th>\n",
       "      <td>1380.521</td>\n",
       "      <td>NaN</td>\n",
       "      <td>NaN</td>\n",
       "      <td>NaN</td>\n",
       "    </tr>\n",
       "    <tr>\n",
       "      <th>2006-01-03</th>\n",
       "      <td>1442.533</td>\n",
       "      <td>NaN</td>\n",
       "      <td>NaN</td>\n",
       "      <td>NaN</td>\n",
       "    </tr>\n",
       "    <tr>\n",
       "      <th>2006-01-04</th>\n",
       "      <td>1457.217</td>\n",
       "      <td>NaN</td>\n",
       "      <td>NaN</td>\n",
       "      <td>NaN</td>\n",
       "    </tr>\n",
       "    <tr>\n",
       "      <th>2006-01-05</th>\n",
       "      <td>1477.131</td>\n",
       "      <td>NaN</td>\n",
       "      <td>NaN</td>\n",
       "      <td>NaN</td>\n",
       "    </tr>\n",
       "    <tr>\n",
       "      <th>2006-01-06</th>\n",
       "      <td>1403.427</td>\n",
       "      <td>NaN</td>\n",
       "      <td>NaN</td>\n",
       "      <td>NaN</td>\n",
       "    </tr>\n",
       "    <tr>\n",
       "      <th>2006-01-07</th>\n",
       "      <td>1300.287</td>\n",
       "      <td>NaN</td>\n",
       "      <td>NaN</td>\n",
       "      <td>NaN</td>\n",
       "    </tr>\n",
       "    <tr>\n",
       "      <th>2006-01-08</th>\n",
       "      <td>1207.985</td>\n",
       "      <td>NaN</td>\n",
       "      <td>NaN</td>\n",
       "      <td>NaN</td>\n",
       "    </tr>\n",
       "    <tr>\n",
       "      <th>2006-01-09</th>\n",
       "      <td>1529.323</td>\n",
       "      <td>NaN</td>\n",
       "      <td>NaN</td>\n",
       "      <td>NaN</td>\n",
       "    </tr>\n",
       "    <tr>\n",
       "      <th>2006-01-10</th>\n",
       "      <td>1576.911</td>\n",
       "      <td>NaN</td>\n",
       "      <td>NaN</td>\n",
       "      <td>NaN</td>\n",
       "    </tr>\n",
       "    <tr>\n",
       "      <th>2006-01-11</th>\n",
       "      <td>1577.176</td>\n",
       "      <td>NaN</td>\n",
       "      <td>NaN</td>\n",
       "      <td>NaN</td>\n",
       "    </tr>\n",
       "    <tr>\n",
       "      <th>2006-01-12</th>\n",
       "      <td>1553.280</td>\n",
       "      <td>NaN</td>\n",
       "      <td>NaN</td>\n",
       "      <td>NaN</td>\n",
       "    </tr>\n",
       "    <tr>\n",
       "      <th>2006-01-13</th>\n",
       "      <td>1545.002</td>\n",
       "      <td>NaN</td>\n",
       "      <td>NaN</td>\n",
       "      <td>NaN</td>\n",
       "    </tr>\n",
       "    <tr>\n",
       "      <th>2006-01-14</th>\n",
       "      <td>1359.945</td>\n",
       "      <td>NaN</td>\n",
       "      <td>NaN</td>\n",
       "      <td>NaN</td>\n",
       "    </tr>\n",
       "    <tr>\n",
       "      <th>2006-01-15</th>\n",
       "      <td>1265.475</td>\n",
       "      <td>NaN</td>\n",
       "      <td>NaN</td>\n",
       "      <td>NaN</td>\n",
       "    </tr>\n",
       "    <tr>\n",
       "      <th>2006-01-16</th>\n",
       "      <td>1563.738</td>\n",
       "      <td>NaN</td>\n",
       "      <td>NaN</td>\n",
       "      <td>NaN</td>\n",
       "    </tr>\n",
       "    <tr>\n",
       "      <th>2006-01-17</th>\n",
       "      <td>1598.303</td>\n",
       "      <td>NaN</td>\n",
       "      <td>NaN</td>\n",
       "      <td>NaN</td>\n",
       "    </tr>\n",
       "    <tr>\n",
       "      <th>2006-01-18</th>\n",
       "      <td>1572.984</td>\n",
       "      <td>NaN</td>\n",
       "      <td>NaN</td>\n",
       "      <td>NaN</td>\n",
       "    </tr>\n",
       "    <tr>\n",
       "      <th>2006-01-19</th>\n",
       "      <td>1558.290</td>\n",
       "      <td>NaN</td>\n",
       "      <td>NaN</td>\n",
       "      <td>NaN</td>\n",
       "    </tr>\n",
       "    <tr>\n",
       "      <th>2006-01-20</th>\n",
       "      <td>1540.604</td>\n",
       "      <td>NaN</td>\n",
       "      <td>NaN</td>\n",
       "      <td>NaN</td>\n",
       "    </tr>\n",
       "    <tr>\n",
       "      <th>2006-01-21</th>\n",
       "      <td>1348.188</td>\n",
       "      <td>NaN</td>\n",
       "      <td>NaN</td>\n",
       "      <td>NaN</td>\n",
       "    </tr>\n",
       "    <tr>\n",
       "      <th>2006-01-22</th>\n",
       "      <td>1248.111</td>\n",
       "      <td>NaN</td>\n",
       "      <td>NaN</td>\n",
       "      <td>NaN</td>\n",
       "    </tr>\n",
       "    <tr>\n",
       "      <th>2006-01-23</th>\n",
       "      <td>1569.691</td>\n",
       "      <td>NaN</td>\n",
       "      <td>NaN</td>\n",
       "      <td>NaN</td>\n",
       "    </tr>\n",
       "    <tr>\n",
       "      <th>2006-01-24</th>\n",
       "      <td>1603.252</td>\n",
       "      <td>NaN</td>\n",
       "      <td>NaN</td>\n",
       "      <td>NaN</td>\n",
       "    </tr>\n",
       "    <tr>\n",
       "      <th>2006-01-25</th>\n",
       "      <td>1613.312</td>\n",
       "      <td>NaN</td>\n",
       "      <td>NaN</td>\n",
       "      <td>NaN</td>\n",
       "    </tr>\n",
       "    <tr>\n",
       "      <th>2006-01-26</th>\n",
       "      <td>1601.673</td>\n",
       "      <td>NaN</td>\n",
       "      <td>NaN</td>\n",
       "      <td>NaN</td>\n",
       "    </tr>\n",
       "    <tr>\n",
       "      <th>2006-01-27</th>\n",
       "      <td>1586.065</td>\n",
       "      <td>NaN</td>\n",
       "      <td>NaN</td>\n",
       "      <td>NaN</td>\n",
       "    </tr>\n",
       "    <tr>\n",
       "      <th>2006-01-28</th>\n",
       "      <td>1373.030</td>\n",
       "      <td>NaN</td>\n",
       "      <td>NaN</td>\n",
       "      <td>NaN</td>\n",
       "    </tr>\n",
       "    <tr>\n",
       "      <th>2006-01-29</th>\n",
       "      <td>1252.215</td>\n",
       "      <td>NaN</td>\n",
       "      <td>NaN</td>\n",
       "      <td>NaN</td>\n",
       "    </tr>\n",
       "    <tr>\n",
       "      <th>2006-01-30</th>\n",
       "      <td>1554.722</td>\n",
       "      <td>NaN</td>\n",
       "      <td>NaN</td>\n",
       "      <td>NaN</td>\n",
       "    </tr>\n",
       "    <tr>\n",
       "      <th>2006-01-31</th>\n",
       "      <td>1575.129</td>\n",
       "      <td>NaN</td>\n",
       "      <td>NaN</td>\n",
       "      <td>NaN</td>\n",
       "    </tr>\n",
       "  </tbody>\n",
       "</table>\n",
       "</div>"
      ],
      "text/plain": [
       "            Consumption  Wind  Solar  Wind+Solar\n",
       "Date                                            \n",
       "2006-01-01     1069.184   NaN    NaN         NaN\n",
       "2006-01-02     1380.521   NaN    NaN         NaN\n",
       "2006-01-03     1442.533   NaN    NaN         NaN\n",
       "2006-01-04     1457.217   NaN    NaN         NaN\n",
       "2006-01-05     1477.131   NaN    NaN         NaN\n",
       "2006-01-06     1403.427   NaN    NaN         NaN\n",
       "2006-01-07     1300.287   NaN    NaN         NaN\n",
       "2006-01-08     1207.985   NaN    NaN         NaN\n",
       "2006-01-09     1529.323   NaN    NaN         NaN\n",
       "2006-01-10     1576.911   NaN    NaN         NaN\n",
       "2006-01-11     1577.176   NaN    NaN         NaN\n",
       "2006-01-12     1553.280   NaN    NaN         NaN\n",
       "2006-01-13     1545.002   NaN    NaN         NaN\n",
       "2006-01-14     1359.945   NaN    NaN         NaN\n",
       "2006-01-15     1265.475   NaN    NaN         NaN\n",
       "2006-01-16     1563.738   NaN    NaN         NaN\n",
       "2006-01-17     1598.303   NaN    NaN         NaN\n",
       "2006-01-18     1572.984   NaN    NaN         NaN\n",
       "2006-01-19     1558.290   NaN    NaN         NaN\n",
       "2006-01-20     1540.604   NaN    NaN         NaN\n",
       "2006-01-21     1348.188   NaN    NaN         NaN\n",
       "2006-01-22     1248.111   NaN    NaN         NaN\n",
       "2006-01-23     1569.691   NaN    NaN         NaN\n",
       "2006-01-24     1603.252   NaN    NaN         NaN\n",
       "2006-01-25     1613.312   NaN    NaN         NaN\n",
       "2006-01-26     1601.673   NaN    NaN         NaN\n",
       "2006-01-27     1586.065   NaN    NaN         NaN\n",
       "2006-01-28     1373.030   NaN    NaN         NaN\n",
       "2006-01-29     1252.215   NaN    NaN         NaN\n",
       "2006-01-30     1554.722   NaN    NaN         NaN\n",
       "2006-01-31     1575.129   NaN    NaN         NaN"
      ]
     },
     "execution_count": 48,
     "metadata": {},
     "output_type": "execute_result"
    }
   ],
   "source": [
    "df.loc['2006-01']"
   ]
  },
  {
   "cell_type": "markdown",
   "metadata": {},
   "source": [
    "Select data from 6/2016 -> 12/2016:"
   ]
  },
  {
   "cell_type": "code",
   "execution_count": 49,
   "metadata": {},
   "outputs": [
    {
     "data": {
      "text/html": [
       "<div>\n",
       "<style scoped>\n",
       "    .dataframe tbody tr th:only-of-type {\n",
       "        vertical-align: middle;\n",
       "    }\n",
       "\n",
       "    .dataframe tbody tr th {\n",
       "        vertical-align: top;\n",
       "    }\n",
       "\n",
       "    .dataframe thead th {\n",
       "        text-align: right;\n",
       "    }\n",
       "</style>\n",
       "<table border=\"1\" class=\"dataframe\">\n",
       "  <thead>\n",
       "    <tr style=\"text-align: right;\">\n",
       "      <th></th>\n",
       "      <th>Consumption</th>\n",
       "      <th>Wind</th>\n",
       "      <th>Solar</th>\n",
       "      <th>Wind+Solar</th>\n",
       "    </tr>\n",
       "    <tr>\n",
       "      <th>Date</th>\n",
       "      <th></th>\n",
       "      <th></th>\n",
       "      <th></th>\n",
       "      <th></th>\n",
       "    </tr>\n",
       "  </thead>\n",
       "  <tbody>\n",
       "    <tr>\n",
       "      <th>2016-06-01</th>\n",
       "      <td>1431.441</td>\n",
       "      <td>174.740</td>\n",
       "      <td>99.114</td>\n",
       "      <td>273.854</td>\n",
       "    </tr>\n",
       "    <tr>\n",
       "      <th>2016-06-02</th>\n",
       "      <td>1421.839</td>\n",
       "      <td>108.363</td>\n",
       "      <td>120.895</td>\n",
       "      <td>229.258</td>\n",
       "    </tr>\n",
       "    <tr>\n",
       "      <th>2016-06-03</th>\n",
       "      <td>1394.273</td>\n",
       "      <td>102.326</td>\n",
       "      <td>143.213</td>\n",
       "      <td>245.539</td>\n",
       "    </tr>\n",
       "    <tr>\n",
       "      <th>2016-06-04</th>\n",
       "      <td>1170.051</td>\n",
       "      <td>54.248</td>\n",
       "      <td>173.422</td>\n",
       "      <td>227.670</td>\n",
       "    </tr>\n",
       "    <tr>\n",
       "      <th>2016-06-05</th>\n",
       "      <td>1076.440</td>\n",
       "      <td>51.030</td>\n",
       "      <td>176.637</td>\n",
       "      <td>227.667</td>\n",
       "    </tr>\n",
       "    <tr>\n",
       "      <th>2016-06-06</th>\n",
       "      <td>1393.733</td>\n",
       "      <td>69.562</td>\n",
       "      <td>217.347</td>\n",
       "      <td>286.909</td>\n",
       "    </tr>\n",
       "    <tr>\n",
       "      <th>2016-06-07</th>\n",
       "      <td>1419.232</td>\n",
       "      <td>48.539</td>\n",
       "      <td>214.927</td>\n",
       "      <td>263.466</td>\n",
       "    </tr>\n",
       "    <tr>\n",
       "      <th>2016-06-08</th>\n",
       "      <td>1420.198</td>\n",
       "      <td>162.731</td>\n",
       "      <td>160.187</td>\n",
       "      <td>322.918</td>\n",
       "    </tr>\n",
       "    <tr>\n",
       "      <th>2016-06-09</th>\n",
       "      <td>1405.974</td>\n",
       "      <td>100.748</td>\n",
       "      <td>155.237</td>\n",
       "      <td>255.985</td>\n",
       "    </tr>\n",
       "    <tr>\n",
       "      <th>2016-06-10</th>\n",
       "      <td>1371.476</td>\n",
       "      <td>141.588</td>\n",
       "      <td>220.844</td>\n",
       "      <td>362.432</td>\n",
       "    </tr>\n",
       "    <tr>\n",
       "      <th>2016-06-11</th>\n",
       "      <td>1156.451</td>\n",
       "      <td>43.853</td>\n",
       "      <td>134.774</td>\n",
       "      <td>178.627</td>\n",
       "    </tr>\n",
       "    <tr>\n",
       "      <th>2016-06-12</th>\n",
       "      <td>1080.805</td>\n",
       "      <td>85.063</td>\n",
       "      <td>120.363</td>\n",
       "      <td>205.426</td>\n",
       "    </tr>\n",
       "    <tr>\n",
       "      <th>2016-06-13</th>\n",
       "      <td>1390.936</td>\n",
       "      <td>105.647</td>\n",
       "      <td>116.442</td>\n",
       "      <td>222.089</td>\n",
       "    </tr>\n",
       "    <tr>\n",
       "      <th>2016-06-14</th>\n",
       "      <td>1413.197</td>\n",
       "      <td>66.559</td>\n",
       "      <td>135.004</td>\n",
       "      <td>201.563</td>\n",
       "    </tr>\n",
       "    <tr>\n",
       "      <th>2016-06-15</th>\n",
       "      <td>1408.312</td>\n",
       "      <td>52.425</td>\n",
       "      <td>142.133</td>\n",
       "      <td>194.558</td>\n",
       "    </tr>\n",
       "    <tr>\n",
       "      <th>2016-06-16</th>\n",
       "      <td>1405.908</td>\n",
       "      <td>31.063</td>\n",
       "      <td>136.231</td>\n",
       "      <td>167.294</td>\n",
       "    </tr>\n",
       "    <tr>\n",
       "      <th>2016-06-17</th>\n",
       "      <td>1382.577</td>\n",
       "      <td>161.169</td>\n",
       "      <td>117.882</td>\n",
       "      <td>279.051</td>\n",
       "    </tr>\n",
       "    <tr>\n",
       "      <th>2016-06-18</th>\n",
       "      <td>1162.117</td>\n",
       "      <td>141.464</td>\n",
       "      <td>166.885</td>\n",
       "      <td>308.349</td>\n",
       "    </tr>\n",
       "    <tr>\n",
       "      <th>2016-06-19</th>\n",
       "      <td>1066.990</td>\n",
       "      <td>87.349</td>\n",
       "      <td>138.538</td>\n",
       "      <td>225.887</td>\n",
       "    </tr>\n",
       "    <tr>\n",
       "      <th>2016-06-20</th>\n",
       "      <td>1377.795</td>\n",
       "      <td>225.611</td>\n",
       "      <td>185.492</td>\n",
       "      <td>411.103</td>\n",
       "    </tr>\n",
       "    <tr>\n",
       "      <th>2016-06-21</th>\n",
       "      <td>1408.899</td>\n",
       "      <td>95.575</td>\n",
       "      <td>131.177</td>\n",
       "      <td>226.752</td>\n",
       "    </tr>\n",
       "    <tr>\n",
       "      <th>2016-06-22</th>\n",
       "      <td>1426.195</td>\n",
       "      <td>54.656</td>\n",
       "      <td>185.635</td>\n",
       "      <td>240.291</td>\n",
       "    </tr>\n",
       "    <tr>\n",
       "      <th>2016-06-23</th>\n",
       "      <td>1446.406</td>\n",
       "      <td>149.945</td>\n",
       "      <td>229.714</td>\n",
       "      <td>379.659</td>\n",
       "    </tr>\n",
       "    <tr>\n",
       "      <th>2016-06-24</th>\n",
       "      <td>1427.889</td>\n",
       "      <td>100.460</td>\n",
       "      <td>198.067</td>\n",
       "      <td>298.527</td>\n",
       "    </tr>\n",
       "    <tr>\n",
       "      <th>2016-06-25</th>\n",
       "      <td>1195.550</td>\n",
       "      <td>131.554</td>\n",
       "      <td>134.967</td>\n",
       "      <td>266.521</td>\n",
       "    </tr>\n",
       "    <tr>\n",
       "      <th>2016-06-26</th>\n",
       "      <td>1071.035</td>\n",
       "      <td>167.573</td>\n",
       "      <td>160.407</td>\n",
       "      <td>327.980</td>\n",
       "    </tr>\n",
       "    <tr>\n",
       "      <th>2016-06-27</th>\n",
       "      <td>1389.253</td>\n",
       "      <td>173.928</td>\n",
       "      <td>168.835</td>\n",
       "      <td>342.763</td>\n",
       "    </tr>\n",
       "    <tr>\n",
       "      <th>2016-06-28</th>\n",
       "      <td>1415.082</td>\n",
       "      <td>95.775</td>\n",
       "      <td>177.457</td>\n",
       "      <td>273.232</td>\n",
       "    </tr>\n",
       "    <tr>\n",
       "      <th>2016-06-29</th>\n",
       "      <td>1422.497</td>\n",
       "      <td>233.871</td>\n",
       "      <td>181.635</td>\n",
       "      <td>415.506</td>\n",
       "    </tr>\n",
       "    <tr>\n",
       "      <th>2016-06-30</th>\n",
       "      <td>1420.479</td>\n",
       "      <td>151.654</td>\n",
       "      <td>123.378</td>\n",
       "      <td>275.032</td>\n",
       "    </tr>\n",
       "    <tr>\n",
       "      <th>...</th>\n",
       "      <td>...</td>\n",
       "      <td>...</td>\n",
       "      <td>...</td>\n",
       "      <td>...</td>\n",
       "    </tr>\n",
       "    <tr>\n",
       "      <th>2016-12-02</th>\n",
       "      <td>1585.450</td>\n",
       "      <td>305.234</td>\n",
       "      <td>33.942</td>\n",
       "      <td>339.176</td>\n",
       "    </tr>\n",
       "    <tr>\n",
       "      <th>2016-12-03</th>\n",
       "      <td>1371.141</td>\n",
       "      <td>71.490</td>\n",
       "      <td>56.021</td>\n",
       "      <td>127.511</td>\n",
       "    </tr>\n",
       "    <tr>\n",
       "      <th>2016-12-04</th>\n",
       "      <td>1299.910</td>\n",
       "      <td>94.521</td>\n",
       "      <td>48.039</td>\n",
       "      <td>142.560</td>\n",
       "    </tr>\n",
       "    <tr>\n",
       "      <th>2016-12-05</th>\n",
       "      <td>1614.383</td>\n",
       "      <td>83.789</td>\n",
       "      <td>40.092</td>\n",
       "      <td>123.881</td>\n",
       "    </tr>\n",
       "    <tr>\n",
       "      <th>2016-12-06</th>\n",
       "      <td>1650.038</td>\n",
       "      <td>81.145</td>\n",
       "      <td>30.851</td>\n",
       "      <td>111.996</td>\n",
       "    </tr>\n",
       "    <tr>\n",
       "      <th>2016-12-07</th>\n",
       "      <td>1671.129</td>\n",
       "      <td>326.674</td>\n",
       "      <td>22.856</td>\n",
       "      <td>349.530</td>\n",
       "    </tr>\n",
       "    <tr>\n",
       "      <th>2016-12-08</th>\n",
       "      <td>1632.362</td>\n",
       "      <td>488.881</td>\n",
       "      <td>39.197</td>\n",
       "      <td>528.078</td>\n",
       "    </tr>\n",
       "    <tr>\n",
       "      <th>2016-12-09</th>\n",
       "      <td>1591.420</td>\n",
       "      <td>426.732</td>\n",
       "      <td>20.611</td>\n",
       "      <td>447.343</td>\n",
       "    </tr>\n",
       "    <tr>\n",
       "      <th>2016-12-10</th>\n",
       "      <td>1345.308</td>\n",
       "      <td>392.208</td>\n",
       "      <td>40.237</td>\n",
       "      <td>432.445</td>\n",
       "    </tr>\n",
       "    <tr>\n",
       "      <th>2016-12-11</th>\n",
       "      <td>1267.997</td>\n",
       "      <td>541.689</td>\n",
       "      <td>11.375</td>\n",
       "      <td>553.064</td>\n",
       "    </tr>\n",
       "    <tr>\n",
       "      <th>2016-12-12</th>\n",
       "      <td>1569.869</td>\n",
       "      <td>162.478</td>\n",
       "      <td>15.058</td>\n",
       "      <td>177.536</td>\n",
       "    </tr>\n",
       "    <tr>\n",
       "      <th>2016-12-13</th>\n",
       "      <td>1602.297</td>\n",
       "      <td>105.683</td>\n",
       "      <td>21.872</td>\n",
       "      <td>127.555</td>\n",
       "    </tr>\n",
       "    <tr>\n",
       "      <th>2016-12-14</th>\n",
       "      <td>1595.293</td>\n",
       "      <td>61.788</td>\n",
       "      <td>16.451</td>\n",
       "      <td>78.239</td>\n",
       "    </tr>\n",
       "    <tr>\n",
       "      <th>2016-12-15</th>\n",
       "      <td>1601.397</td>\n",
       "      <td>190.446</td>\n",
       "      <td>15.773</td>\n",
       "      <td>206.219</td>\n",
       "    </tr>\n",
       "    <tr>\n",
       "      <th>2016-12-16</th>\n",
       "      <td>1567.488</td>\n",
       "      <td>129.076</td>\n",
       "      <td>28.827</td>\n",
       "      <td>157.903</td>\n",
       "    </tr>\n",
       "    <tr>\n",
       "      <th>2016-12-17</th>\n",
       "      <td>1365.579</td>\n",
       "      <td>95.797</td>\n",
       "      <td>18.208</td>\n",
       "      <td>114.005</td>\n",
       "    </tr>\n",
       "    <tr>\n",
       "      <th>2016-12-18</th>\n",
       "      <td>1266.495</td>\n",
       "      <td>123.343</td>\n",
       "      <td>8.439</td>\n",
       "      <td>131.782</td>\n",
       "    </tr>\n",
       "    <tr>\n",
       "      <th>2016-12-19</th>\n",
       "      <td>1542.018</td>\n",
       "      <td>73.534</td>\n",
       "      <td>18.001</td>\n",
       "      <td>91.535</td>\n",
       "    </tr>\n",
       "    <tr>\n",
       "      <th>2016-12-20</th>\n",
       "      <td>1572.427</td>\n",
       "      <td>165.172</td>\n",
       "      <td>26.455</td>\n",
       "      <td>191.627</td>\n",
       "    </tr>\n",
       "    <tr>\n",
       "      <th>2016-12-21</th>\n",
       "      <td>1567.399</td>\n",
       "      <td>309.568</td>\n",
       "      <td>22.974</td>\n",
       "      <td>332.542</td>\n",
       "    </tr>\n",
       "    <tr>\n",
       "      <th>2016-12-22</th>\n",
       "      <td>1512.661</td>\n",
       "      <td>257.197</td>\n",
       "      <td>20.109</td>\n",
       "      <td>277.306</td>\n",
       "    </tr>\n",
       "    <tr>\n",
       "      <th>2016-12-23</th>\n",
       "      <td>1415.811</td>\n",
       "      <td>395.296</td>\n",
       "      <td>16.111</td>\n",
       "      <td>411.407</td>\n",
       "    </tr>\n",
       "    <tr>\n",
       "      <th>2016-12-24</th>\n",
       "      <td>1195.354</td>\n",
       "      <td>681.509</td>\n",
       "      <td>12.843</td>\n",
       "      <td>694.352</td>\n",
       "    </tr>\n",
       "    <tr>\n",
       "      <th>2016-12-25</th>\n",
       "      <td>1117.673</td>\n",
       "      <td>719.778</td>\n",
       "      <td>6.608</td>\n",
       "      <td>726.386</td>\n",
       "    </tr>\n",
       "    <tr>\n",
       "      <th>2016-12-26</th>\n",
       "      <td>1121.213</td>\n",
       "      <td>718.160</td>\n",
       "      <td>15.463</td>\n",
       "      <td>733.623</td>\n",
       "    </tr>\n",
       "    <tr>\n",
       "      <th>2016-12-27</th>\n",
       "      <td>1289.324</td>\n",
       "      <td>640.895</td>\n",
       "      <td>23.448</td>\n",
       "      <td>664.343</td>\n",
       "    </tr>\n",
       "    <tr>\n",
       "      <th>2016-12-28</th>\n",
       "      <td>1294.881</td>\n",
       "      <td>214.990</td>\n",
       "      <td>19.450</td>\n",
       "      <td>234.440</td>\n",
       "    </tr>\n",
       "    <tr>\n",
       "      <th>2016-12-29</th>\n",
       "      <td>1295.897</td>\n",
       "      <td>167.698</td>\n",
       "      <td>42.910</td>\n",
       "      <td>210.608</td>\n",
       "    </tr>\n",
       "    <tr>\n",
       "      <th>2016-12-30</th>\n",
       "      <td>1291.044</td>\n",
       "      <td>239.257</td>\n",
       "      <td>48.546</td>\n",
       "      <td>287.803</td>\n",
       "    </tr>\n",
       "    <tr>\n",
       "      <th>2016-12-31</th>\n",
       "      <td>1212.568</td>\n",
       "      <td>315.063</td>\n",
       "      <td>34.580</td>\n",
       "      <td>349.643</td>\n",
       "    </tr>\n",
       "  </tbody>\n",
       "</table>\n",
       "<p>214 rows × 4 columns</p>\n",
       "</div>"
      ],
      "text/plain": [
       "            Consumption     Wind    Solar  Wind+Solar\n",
       "Date                                                 \n",
       "2016-06-01     1431.441  174.740   99.114     273.854\n",
       "2016-06-02     1421.839  108.363  120.895     229.258\n",
       "2016-06-03     1394.273  102.326  143.213     245.539\n",
       "2016-06-04     1170.051   54.248  173.422     227.670\n",
       "2016-06-05     1076.440   51.030  176.637     227.667\n",
       "2016-06-06     1393.733   69.562  217.347     286.909\n",
       "2016-06-07     1419.232   48.539  214.927     263.466\n",
       "2016-06-08     1420.198  162.731  160.187     322.918\n",
       "2016-06-09     1405.974  100.748  155.237     255.985\n",
       "2016-06-10     1371.476  141.588  220.844     362.432\n",
       "2016-06-11     1156.451   43.853  134.774     178.627\n",
       "2016-06-12     1080.805   85.063  120.363     205.426\n",
       "2016-06-13     1390.936  105.647  116.442     222.089\n",
       "2016-06-14     1413.197   66.559  135.004     201.563\n",
       "2016-06-15     1408.312   52.425  142.133     194.558\n",
       "2016-06-16     1405.908   31.063  136.231     167.294\n",
       "2016-06-17     1382.577  161.169  117.882     279.051\n",
       "2016-06-18     1162.117  141.464  166.885     308.349\n",
       "2016-06-19     1066.990   87.349  138.538     225.887\n",
       "2016-06-20     1377.795  225.611  185.492     411.103\n",
       "2016-06-21     1408.899   95.575  131.177     226.752\n",
       "2016-06-22     1426.195   54.656  185.635     240.291\n",
       "2016-06-23     1446.406  149.945  229.714     379.659\n",
       "2016-06-24     1427.889  100.460  198.067     298.527\n",
       "2016-06-25     1195.550  131.554  134.967     266.521\n",
       "2016-06-26     1071.035  167.573  160.407     327.980\n",
       "2016-06-27     1389.253  173.928  168.835     342.763\n",
       "2016-06-28     1415.082   95.775  177.457     273.232\n",
       "2016-06-29     1422.497  233.871  181.635     415.506\n",
       "2016-06-30     1420.479  151.654  123.378     275.032\n",
       "...                 ...      ...      ...         ...\n",
       "2016-12-02     1585.450  305.234   33.942     339.176\n",
       "2016-12-03     1371.141   71.490   56.021     127.511\n",
       "2016-12-04     1299.910   94.521   48.039     142.560\n",
       "2016-12-05     1614.383   83.789   40.092     123.881\n",
       "2016-12-06     1650.038   81.145   30.851     111.996\n",
       "2016-12-07     1671.129  326.674   22.856     349.530\n",
       "2016-12-08     1632.362  488.881   39.197     528.078\n",
       "2016-12-09     1591.420  426.732   20.611     447.343\n",
       "2016-12-10     1345.308  392.208   40.237     432.445\n",
       "2016-12-11     1267.997  541.689   11.375     553.064\n",
       "2016-12-12     1569.869  162.478   15.058     177.536\n",
       "2016-12-13     1602.297  105.683   21.872     127.555\n",
       "2016-12-14     1595.293   61.788   16.451      78.239\n",
       "2016-12-15     1601.397  190.446   15.773     206.219\n",
       "2016-12-16     1567.488  129.076   28.827     157.903\n",
       "2016-12-17     1365.579   95.797   18.208     114.005\n",
       "2016-12-18     1266.495  123.343    8.439     131.782\n",
       "2016-12-19     1542.018   73.534   18.001      91.535\n",
       "2016-12-20     1572.427  165.172   26.455     191.627\n",
       "2016-12-21     1567.399  309.568   22.974     332.542\n",
       "2016-12-22     1512.661  257.197   20.109     277.306\n",
       "2016-12-23     1415.811  395.296   16.111     411.407\n",
       "2016-12-24     1195.354  681.509   12.843     694.352\n",
       "2016-12-25     1117.673  719.778    6.608     726.386\n",
       "2016-12-26     1121.213  718.160   15.463     733.623\n",
       "2016-12-27     1289.324  640.895   23.448     664.343\n",
       "2016-12-28     1294.881  214.990   19.450     234.440\n",
       "2016-12-29     1295.897  167.698   42.910     210.608\n",
       "2016-12-30     1291.044  239.257   48.546     287.803\n",
       "2016-12-31     1212.568  315.063   34.580     349.643\n",
       "\n",
       "[214 rows x 4 columns]"
      ]
     },
     "execution_count": 49,
     "metadata": {},
     "output_type": "execute_result"
    }
   ],
   "source": [
    "df.loc['6-2016' : '12-2016']"
   ]
  },
  {
   "cell_type": "markdown",
   "metadata": {},
   "source": [
    "## Time Series with duplicate indices:"
   ]
  },
  {
   "cell_type": "code",
   "execution_count": 52,
   "metadata": {},
   "outputs": [
    {
     "data": {
      "text/plain": [
       "2001-10-06    Trung's birthday\n",
       "2001-10-06     Kien's birthday\n",
       "2019-11-20       Teacher's day\n",
       "Name: Events, dtype: object"
      ]
     },
     "execution_count": 52,
     "metadata": {},
     "output_type": "execute_result"
    }
   ],
   "source": [
    "times = pd.to_datetime(['06/10/2001', '06/10/2001', '20/11/2019'], dayfirst = True)\n",
    "events = pd.Series(['Trung\\'s birthday', 'Kien\\'s birthday', 'Teacher\\'s day'], index = times)\n",
    "events.name = 'Events'\n",
    "events"
   ]
  },
  {
   "cell_type": "markdown",
   "metadata": {},
   "source": [
    "Check if indices are duplicate:"
   ]
  },
  {
   "cell_type": "code",
   "execution_count": 53,
   "metadata": {},
   "outputs": [
    {
     "data": {
      "text/plain": [
       "False"
      ]
     },
     "execution_count": 53,
     "metadata": {},
     "output_type": "execute_result"
    }
   ],
   "source": [
    "events.index.is_unique"
   ]
  },
  {
   "cell_type": "markdown",
   "metadata": {},
   "source": [
    "Select events on Oct, 6 2001:"
   ]
  },
  {
   "cell_type": "code",
   "execution_count": 59,
   "metadata": {},
   "outputs": [
    {
     "data": {
      "text/plain": [
       "2001-10-06    Trung's birthday\n",
       "2001-10-06     Kien's birthday\n",
       "Name: Events, dtype: object"
      ]
     },
     "execution_count": 59,
     "metadata": {},
     "output_type": "execute_result"
    }
   ],
   "source": [
    "events['10-06-2001']"
   ]
  },
  {
   "cell_type": "markdown",
   "metadata": {},
   "source": [
    "Summary events on each unique datetime:"
   ]
  },
  {
   "cell_type": "code",
   "execution_count": 62,
   "metadata": {},
   "outputs": [
    {
     "data": {
      "text/plain": [
       "2001-10-06    Trung's birthday, Kien's birthday\n",
       "2019-11-20                        Teacher's day\n",
       "Name: Events, dtype: object"
      ]
     },
     "execution_count": 62,
     "metadata": {},
     "output_type": "execute_result"
    }
   ],
   "source": [
    "events.groupby(level = 0).apply(lambda sr: ', '.join(sr.to_list()))"
   ]
  },
  {
   "cell_type": "markdown",
   "metadata": {},
   "source": [
    "## Date range, Frequencies and Shifting"
   ]
  },
  {
   "cell_type": "markdown",
   "metadata": {},
   "source": [
    "### Generating date range"
   ]
  },
  {
   "cell_type": "markdown",
   "metadata": {},
   "source": [
    "School holiday: starting at 20/11/2019 and last for 3 days:"
   ]
  },
  {
   "cell_type": "code",
   "execution_count": 66,
   "metadata": {},
   "outputs": [
    {
     "data": {
      "text/plain": [
       "DatetimeIndex(['2019-11-20', '2019-11-21', '2019-11-22'], dtype='datetime64[ns]', freq='D')"
      ]
     },
     "execution_count": 66,
     "metadata": {},
     "output_type": "execute_result"
    }
   ],
   "source": [
    "holiday = pd.date_range('11/20/2019', periods = 3, freq = 'D')\n",
    "holiday"
   ]
  },
  {
   "cell_type": "markdown",
   "metadata": {},
   "source": [
    "Weapon actiavation: from 1/1/2019 -> 26/1/2019, reload each 3 days:"
   ]
  },
  {
   "cell_type": "code",
   "execution_count": 68,
   "metadata": {},
   "outputs": [
    {
     "data": {
      "text/plain": [
       "DatetimeIndex(['2019-01-01', '2019-01-04', '2019-01-07', '2019-01-10',\n",
       "               '2019-01-13', '2019-01-16', '2019-01-19', '2019-01-22',\n",
       "               '2019-01-25'],\n",
       "              dtype='datetime64[ns]', freq='3D')"
      ]
     },
     "execution_count": 68,
     "metadata": {},
     "output_type": "execute_result"
    }
   ],
   "source": [
    "time = pd.date_range('1/1/2019', '1/26/2019', freq = '3D')\n",
    "time"
   ]
  },
  {
   "cell_type": "markdown",
   "metadata": {},
   "source": [
    "Get the end day of months 2 -> 8 in year 2019:"
   ]
  },
  {
   "cell_type": "code",
   "execution_count": 70,
   "metadata": {},
   "outputs": [
    {
     "data": {
      "text/plain": [
       "DatetimeIndex(['2019-02-28', '2019-03-31', '2019-04-30', '2019-05-31',\n",
       "               '2019-06-30', '2019-07-31', '2019-08-31'],\n",
       "              dtype='datetime64[ns]', freq='M')"
      ]
     },
     "execution_count": 70,
     "metadata": {},
     "output_type": "execute_result"
    }
   ],
   "source": [
    "pd.date_range('2/1/2019', '9/1/2019', freq = 'M')"
   ]
  },
  {
   "cell_type": "code",
   "execution_count": 78,
   "metadata": {},
   "outputs": [
    {
     "data": {
      "text/html": [
       "<h3 style = 'color:red;'><i>Normalized</i> to Midnight convention.(H:M:S = 00:00:00)</h3>\n"
      ],
      "text/plain": [
       "<IPython.core.display.HTML object>"
      ]
     },
     "metadata": {},
     "output_type": "display_data"
    }
   ],
   "source": [
    "%%HTML\n",
    "<h3 style = 'color:red;'><i>Normalized</i> to Midnight convention.(H:M:S = 00:00:00)</h3>"
   ]
  },
  {
   "cell_type": "code",
   "execution_count": 77,
   "metadata": {},
   "outputs": [
    {
     "data": {
      "text/plain": [
       "DatetimeIndex(['2001-10-06', '2001-10-07', '2001-10-08', '2001-10-09',\n",
       "               '2001-10-10'],\n",
       "              dtype='datetime64[ns]', freq='D')"
      ]
     },
     "execution_count": 77,
     "metadata": {},
     "output_type": "execute_result"
    }
   ],
   "source": [
    "pd.date_range('10/06/2001 10:11:12', periods = 5, normalize=True)"
   ]
  },
  {
   "cell_type": "markdown",
   "metadata": {},
   "source": [
    "## Frequencies and Date Offsets"
   ]
  },
  {
   "cell_type": "markdown",
   "metadata": {},
   "source": [
    "Get the Bussiness month start in year 2019:"
   ]
  },
  {
   "cell_type": "code",
   "execution_count": 85,
   "metadata": {},
   "outputs": [
    {
     "data": {
      "text/plain": [
       "DatetimeIndex(['2019-01-01', '2019-02-01', '2019-03-01', '2019-04-01',\n",
       "               '2019-05-01', '2019-06-03', '2019-07-01', '2019-08-01',\n",
       "               '2019-09-02', '2019-10-01', '2019-11-01', '2019-12-02'],\n",
       "              dtype='datetime64[ns]', freq='BMS')"
      ]
     },
     "execution_count": 85,
     "metadata": {},
     "output_type": "execute_result"
    }
   ],
   "source": [
    "pd.date_range('1/1/2019', '12/31/2019', freq = 'BMS')\n"
   ]
  },
  {
   "cell_type": "code",
   "execution_count": 86,
   "metadata": {},
   "outputs": [
    {
     "data": {
      "text/html": [
       "<h3>Week of Month dates</h3>\n"
      ],
      "text/plain": [
       "<IPython.core.display.HTML object>"
      ]
     },
     "metadata": {},
     "output_type": "display_data"
    }
   ],
   "source": [
    "%%HTML\n",
    "<h3>Week of Month dates</h3>"
   ]
  },
  {
   "cell_type": "markdown",
   "metadata": {},
   "source": [
    "Get the third 3 Friday of each month:"
   ]
  },
  {
   "cell_type": "code",
   "execution_count": 88,
   "metadata": {},
   "outputs": [
    {
     "data": {
      "text/plain": [
       "DatetimeIndex(['2019-01-18', '2019-02-15', '2019-03-15', '2019-04-19',\n",
       "               '2019-05-17', '2019-06-21', '2019-07-19', '2019-08-16',\n",
       "               '2019-09-20', '2019-10-18', '2019-11-15', '2019-12-20'],\n",
       "              dtype='datetime64[ns]', freq='WOM-3FRI')"
      ]
     },
     "execution_count": 88,
     "metadata": {},
     "output_type": "execute_result"
    }
   ],
   "source": [
    "pd.date_range('1/1/2019', '12/31/2019', freq = 'WOM-3FRI')"
   ]
  },
  {
   "cell_type": "markdown",
   "metadata": {},
   "source": [
    "<h3>Datetime Offsets</h3>"
   ]
  },
  {
   "cell_type": "code",
   "execution_count": 121,
   "metadata": {},
   "outputs": [
    {
     "data": {
      "text/plain": [
       "Timestamp('2019-10-19 21:57:00')"
      ]
     },
     "execution_count": 121,
     "metadata": {},
     "output_type": "execute_result"
    }
   ],
   "source": [
    "from pandas.tseries.offsets import Minute\n",
    "#shift an event by -123 minutes\n",
    "pd.datetime(2019, 10,20, 0, 0, 0) - Minute(123)"
   ]
  },
  {
   "cell_type": "markdown",
   "metadata": {},
   "source": [
    "## Shifting"
   ]
  },
  {
   "cell_type": "markdown",
   "metadata": {},
   "source": [
    "Shift data:"
   ]
  },
  {
   "cell_type": "code",
   "execution_count": 91,
   "metadata": {},
   "outputs": [
    {
     "data": {
      "text/plain": [
       "2001-10-06                 NaN\n",
       "2001-10-06    Trung's birthday\n",
       "2019-11-20     Kien's birthday\n",
       "Name: Events, dtype: object"
      ]
     },
     "execution_count": 91,
     "metadata": {},
     "output_type": "execute_result"
    }
   ],
   "source": [
    "events.shift(1)"
   ]
  },
  {
   "cell_type": "markdown",
   "metadata": {},
   "source": [
    "Shift index: (requirement: DatetimeIndex)"
   ]
  },
  {
   "cell_type": "code",
   "execution_count": 93,
   "metadata": {},
   "outputs": [
    {
     "data": {
      "text/plain": [
       "2001-10-08    Trung's birthday\n",
       "2001-10-08     Kien's birthday\n",
       "2019-11-22       Teacher's day\n",
       "Name: Events, dtype: object"
      ]
     },
     "execution_count": 93,
     "metadata": {},
     "output_type": "execute_result"
    }
   ],
   "source": [
    "#Shift each date by 2 days\n",
    "events.shift(2, freq = 'D')"
   ]
  },
  {
   "cell_type": "code",
   "execution_count": 96,
   "metadata": {},
   "outputs": [
    {
     "data": {
      "text/plain": [
       "2001-10-08    Trung's birthday\n",
       "2001-10-08     Kien's birthday\n",
       "2019-11-22       Teacher's day\n",
       "Name: Events, dtype: object"
      ]
     },
     "execution_count": 96,
     "metadata": {},
     "output_type": "execute_result"
    }
   ],
   "source": [
    "#equivalent: tshift(shift index)\n",
    "events.tshift(2, freq = 'D')"
   ]
  },
  {
   "cell_type": "markdown",
   "metadata": {},
   "source": [
    "# Time Zone handling"
   ]
  },
  {
   "cell_type": "markdown",
   "metadata": {},
   "source": [
    "## Localization and Convesion"
   ]
  },
  {
   "cell_type": "markdown",
   "metadata": {},
   "source": [
    "By default, time series in pandas are <i>time  zone  naive </i> (it does not specify time zone)"
   ]
  },
  {
   "cell_type": "code",
   "execution_count": 102,
   "metadata": {},
   "outputs": [],
   "source": [
    "events.index.tz"
   ]
  },
  {
   "cell_type": "markdown",
   "metadata": {},
   "source": [
    "Generate date ranges with a time zone set:"
   ]
  },
  {
   "cell_type": "code",
   "execution_count": 104,
   "metadata": {},
   "outputs": [
    {
     "data": {
      "text/plain": [
       "(DatetimeIndex(['2019-11-20 07:00:00+00:00', '2019-11-21 07:00:00+00:00',\n",
       "                '2019-11-22 07:00:00+00:00'],\n",
       "               dtype='datetime64[ns, UTC]', freq='D'), <UTC>)"
      ]
     },
     "execution_count": 104,
     "metadata": {},
     "output_type": "execute_result"
    }
   ],
   "source": [
    "holiday = pd.date_range('11/20/2019 7:00:00 AM', periods = 3, tz = 'UTC')\n",
    "holiday,  holiday.tz"
   ]
  },
  {
   "cell_type": "markdown",
   "metadata": {},
   "source": [
    "<h3>Localization: <code>TimeSeries.tz_localize(timezone)</code></h3>"
   ]
  },
  {
   "cell_type": "markdown",
   "metadata": {},
   "source": [
    "Specify UTC time zone for <code>events</code>"
   ]
  },
  {
   "cell_type": "code",
   "execution_count": 109,
   "metadata": {},
   "outputs": [
    {
     "data": {
      "text/plain": [
       "<UTC>"
      ]
     },
     "execution_count": 109,
     "metadata": {},
     "output_type": "execute_result"
    }
   ],
   "source": [
    "events = events.tz_localize('UTC')\n",
    "events.index.tz"
   ]
  },
  {
   "cell_type": "markdown",
   "metadata": {},
   "source": [
    "<h3>Conversion: <code>TimeSeries.tz_convert(another timezone)</code></h3>"
   ]
  },
  {
   "cell_type": "markdown",
   "metadata": {},
   "source": [
    "Convert the timezone of <code>events</code> from <b>UTC</b> to <b>US/Eastern</b>"
   ]
  },
  {
   "cell_type": "code",
   "execution_count": 111,
   "metadata": {},
   "outputs": [
    {
     "data": {
      "text/plain": [
       "<DstTzInfo 'US/Eastern' LMT-1 day, 19:04:00 STD>"
      ]
     },
     "execution_count": 111,
     "metadata": {},
     "output_type": "execute_result"
    }
   ],
   "source": [
    "events = events.tz_convert('US/Eastern')\n",
    "events.index.tz"
   ]
  },
  {
   "cell_type": "markdown",
   "metadata": {},
   "source": [
    "## Timestamp Object: Time Zone Awareness\n",
    "\n"
   ]
  },
  {
   "cell_type": "markdown",
   "metadata": {},
   "source": [
    "Create a Timestamp with Time Zone:"
   ]
  },
  {
   "cell_type": "code",
   "execution_count": 113,
   "metadata": {},
   "outputs": [
    {
     "data": {
      "text/plain": [
       "Timestamp('1945-09-02 20:38:55+0000', tz='UTC')"
      ]
     },
     "execution_count": 113,
     "metadata": {},
     "output_type": "execute_result"
    }
   ],
   "source": [
    "death_time = pd.Timestamp('9/2/1945 20:38:55', tz = 'UTC')\n",
    "death_time"
   ]
  },
  {
   "cell_type": "markdown",
   "metadata": {},
   "source": [
    "<h3>Localization: Convert a Timestamp object from <i>time zone naive</i> to <i>time zone awareness</i>.</h3>"
   ]
  },
  {
   "cell_type": "code",
   "execution_count": 117,
   "metadata": {},
   "outputs": [
    {
     "data": {
      "text/plain": [
       "Timestamp('2019-11-20 11:22:33-0500', tz='US/Eastern')"
      ]
     },
     "execution_count": 117,
     "metadata": {},
     "output_type": "execute_result"
    }
   ],
   "source": [
    "incident = pd.Timestamp('11/20/2019 11:22:33 AM')\n",
    "incident = incident.tz_localize('US/Eastern')\n",
    "incident"
   ]
  },
  {
   "cell_type": "markdown",
   "metadata": {},
   "source": [
    "<h3>Conversion</h3>"
   ]
  },
  {
   "cell_type": "code",
   "execution_count": 118,
   "metadata": {},
   "outputs": [
    {
     "data": {
      "text/plain": [
       "Timestamp('2019-11-20 11:22:33-0500', tz='US/Eastern')"
      ]
     },
     "execution_count": 118,
     "metadata": {},
     "output_type": "execute_result"
    }
   ],
   "source": [
    "incident.tz_convert('US/Eastern')"
   ]
  },
  {
   "cell_type": "markdown",
   "metadata": {},
   "source": [
    "<h3>Operations between different time zones</h3>"
   ]
  },
  {
   "cell_type": "markdown",
   "metadata": {},
   "source": [
    "If two time series with different time zones are combined, the result will be UTC."
   ]
  },
  {
   "cell_type": "markdown",
   "metadata": {},
   "source": [
    "# Periods"
   ]
  },
  {
   "cell_type": "markdown",
   "metadata": {},
   "source": [
    "<i>Periods</i> represent timespans, like days, months, quarters or years.\n",
    "<br/>\n",
    "e.g: The period 2017-06 indicates the whole month 6 in year 2017: (i.e: 01/06/2017 00:00:00 -- 30/06/2017 23:59: 59) "
   ]
  },
  {
   "cell_type": "code",
   "execution_count": 133,
   "metadata": {},
   "outputs": [
    {
     "data": {
      "text/plain": [
       "Period('2017-06', 'M')"
      ]
     },
     "execution_count": 133,
     "metadata": {},
     "output_type": "execute_result"
    }
   ],
   "source": [
    "p = pd.Period('2017/06')\n",
    "p"
   ]
  },
  {
   "cell_type": "markdown",
   "metadata": {},
   "source": [
    "<h3>Period arithmetic</h3>"
   ]
  },
  {
   "cell_type": "markdown",
   "metadata": {},
   "source": [
    "If 2 periods have the same frequency, the difference between them is the number of units:"
   ]
  },
  {
   "cell_type": "code",
   "execution_count": 134,
   "metadata": {},
   "outputs": [
    {
     "data": {
      "text/plain": [
       "<8 * MonthEnds>"
      ]
     },
     "execution_count": 134,
     "metadata": {},
     "output_type": "execute_result"
    }
   ],
   "source": [
    "p1 = pd.Period('2018/02')\n",
    "p1 - p"
   ]
  },
  {
   "cell_type": "markdown",
   "metadata": {},
   "source": [
    "Add a period by a constant results in: <code>p + <i>constant</i> * freq</code>"
   ]
  },
  {
   "cell_type": "code",
   "execution_count": 135,
   "metadata": {},
   "outputs": [
    {
     "data": {
      "text/plain": [
       "Period('2017-08', 'M')"
      ]
     },
     "execution_count": 135,
     "metadata": {},
     "output_type": "execute_result"
    }
   ],
   "source": [
    "p + 2"
   ]
  },
  {
   "cell_type": "markdown",
   "metadata": {},
   "source": [
    "<h3>Period Range</h3>"
   ]
  },
  {
   "cell_type": "code",
   "execution_count": 137,
   "metadata": {},
   "outputs": [
    {
     "data": {
      "text/plain": [
       "PeriodIndex(['2019-01', '2019-02', '2019-03', '2019-04', '2019-05', '2019-06',\n",
       "             '2019-07', '2019-08', '2019-09', '2019-10', '2019-11', '2019-12'],\n",
       "            dtype='period[M]', freq='M')"
      ]
     },
     "execution_count": 137,
     "metadata": {},
     "output_type": "execute_result"
    }
   ],
   "source": [
    "pr = pd.period_range('1/1/2019', '31/12/2019', freq = 'M')\n",
    "pr"
   ]
  },
  {
   "cell_type": "markdown",
   "metadata": {},
   "source": [
    "<h3>PeriodIndex</h3>"
   ]
  },
  {
   "cell_type": "code",
   "execution_count": 147,
   "metadata": {},
   "outputs": [
    {
     "data": {
      "text/plain": [
       "PeriodIndex(['2019Q1', '2019Q2', '2019Q3'], dtype='period[Q-DEC]', freq='Q-DEC')"
      ]
     },
     "execution_count": 147,
     "metadata": {},
     "output_type": "execute_result"
    }
   ],
   "source": [
    "periods = pd.PeriodIndex(['2019Q1', '2019Q2', '2019Q3'], freq = 'Q')\n",
    "periods"
   ]
  },
  {
   "cell_type": "markdown",
   "metadata": {},
   "source": [
    "The <i>PeriodIndex class</i> stores a sequence of periods and can be served as any pandas data structure:"
   ]
  },
  {
   "cell_type": "code",
   "execution_count": 148,
   "metadata": {},
   "outputs": [
    {
     "data": {
      "text/plain": [
       "2019Q1    Create a vision\n",
       "2019Q2           Lauching\n",
       "2019Q3            Succeed\n",
       "Freq: Q-DEC, dtype: object"
      ]
     },
     "execution_count": 148,
     "metadata": {},
     "output_type": "execute_result"
    }
   ],
   "source": [
    "events = pd.Series(['Create a vision', 'Lauching', 'Succeed'], index = periods)\n",
    "events"
   ]
  },
  {
   "cell_type": "markdown",
   "metadata": {},
   "source": [
    "<h3>Period Frequency conversion: <code>TimeSeries.asfreq(freq, how)</h3>"
   ]
  },
  {
   "cell_type": "markdown",
   "metadata": {},
   "source": [
    "Convert an anual period to monthly period, either at the start or at the end of the year:"
   ]
  },
  {
   "cell_type": "code",
   "execution_count": 151,
   "metadata": {},
   "outputs": [
    {
     "data": {
      "text/plain": [
       "(Period('2019-01', 'M'), Period('2019-12', 'M'))"
      ]
     },
     "execution_count": 151,
     "metadata": {},
     "output_type": "execute_result"
    }
   ],
   "source": [
    "p = pd.Period('2019', freq = 'A-DEC')\n",
    "#Notice the month of the period after converting its frequency \n",
    "p.asfreq('M', how = 'start'), p.asfreq('M', how = 'end')"
   ]
  },
  {
   "cell_type": "markdown",
   "metadata": {},
   "source": [
    "<b style = 'color:red;'>NOTE:</b><br>\n",
    "For a <i>fiscal year</i> ending on a month <u>other than December</u>, the monthly subperiods belongings are different:"
   ]
  },
  {
   "cell_type": "code",
   "execution_count": 152,
   "metadata": {},
   "outputs": [
    {
     "data": {
      "text/plain": [
       "(Period('2018-04', 'M'), Period('2019-03', 'M'))"
      ]
     },
     "execution_count": 152,
     "metadata": {},
     "output_type": "execute_result"
    }
   ],
   "source": [
    "p = pd.Period('2019', freq = 'A-MAR')\n",
    "#Notice the month of the period after converting its frequency \n",
    "p.asfreq('M', how = 'start'), p.asfreq('M', how = 'end')"
   ]
  },
  {
   "cell_type": "markdown",
   "metadata": {},
   "source": [
    "<h3>Quarterly Period Frequencies</h3>"
   ]
  },
  {
   "cell_type": "markdown",
   "metadata": {},
   "source": [
    "a period has a different meaning depending on <i>fiscal year end</i>:"
   ]
  },
  {
   "cell_type": "code",
   "execution_count": 153,
   "metadata": {},
   "outputs": [
    {
     "data": {
      "text/plain": [
       "Period('2019Q1', 'Q-JAN')"
      ]
     },
     "execution_count": 153,
     "metadata": {},
     "output_type": "execute_result"
    }
   ],
   "source": [
    "#fiscal year end on JANUARY\n",
    "p = pd.Period('2019Q1', freq = 'Q-JAN')\n",
    "p"
   ]
  },
  {
   "cell_type": "code",
   "execution_count": 154,
   "metadata": {},
   "outputs": [
    {
     "data": {
      "text/plain": [
       "Period('2018-02-01', 'D')"
      ]
     },
     "execution_count": 154,
     "metadata": {},
     "output_type": "execute_result"
    }
   ],
   "source": [
    "p.asfreq('D', how = 'start')"
   ]
  },
  {
   "cell_type": "code",
   "execution_count": 155,
   "metadata": {},
   "outputs": [
    {
     "data": {
      "text/plain": [
       "Period('2018-04-30', 'D')"
      ]
     },
     "execution_count": 155,
     "metadata": {},
     "output_type": "execute_result"
    }
   ],
   "source": [
    "p.asfreq('D', how = 'end')"
   ]
  },
  {
   "cell_type": "markdown",
   "metadata": {},
   "source": [
    "<h3>Converting Timestamp to Period( and back)</h3>"
   ]
  },
  {
   "cell_type": "markdown",
   "metadata": {},
   "source": [
    "<h4>Syntax:<code>Timestamp.to_period(freq)</code></h4>"
   ]
  },
  {
   "cell_type": "code",
   "execution_count": 159,
   "metadata": {},
   "outputs": [
    {
     "data": {
      "text/plain": [
       "Period('2001-10', 'M')"
      ]
     },
     "execution_count": 159,
     "metadata": {},
     "output_type": "execute_result"
    }
   ],
   "source": [
    "t = pd.to_datetime('10/06/2001 20:33:55')\n",
    "t.to_period(freq = 'M')"
   ]
  },
  {
   "cell_type": "markdown",
   "metadata": {},
   "source": [
    "<h4>Syntax:<code>Period.to_timestamp(freq, how)</code></h4>"
   ]
  },
  {
   "cell_type": "code",
   "execution_count": 164,
   "metadata": {},
   "outputs": [
    {
     "data": {
      "text/plain": [
       "Timestamp('2019-11-01 00:00:00')"
      ]
     },
     "execution_count": 164,
     "metadata": {},
     "output_type": "execute_result"
    }
   ],
   "source": [
    "holiday = pd.Period('2019-11')\n",
    "start_day = holiday.to_timestamp(freq = 'D', how = 'start')\n",
    "start_day\n"
   ]
  },
  {
   "cell_type": "markdown",
   "metadata": {},
   "source": [
    "# Resampling and frequency conversion"
   ]
  },
  {
   "cell_type": "markdown",
   "metadata": {},
   "source": [
    "<h2>Downsampling</h2>"
   ]
  },
  {
   "cell_type": "markdown",
   "metadata": {},
   "source": [
    "There are a couple of things to think about:\n",
    "<ul>\n",
    "    <li>Which side of the interval is <i>closed</i></li>\n",
    "    <li>How to label each aggregated bin, either with the start of the interval or the end</li>\n",
    "</ul>"
   ]
  },
  {
   "cell_type": "code",
   "execution_count": 168,
   "metadata": {},
   "outputs": [
    {
     "data": {
      "text/plain": [
       "2001-10-06 00:00:00     0\n",
       "2001-10-06 00:01:00     1\n",
       "2001-10-06 00:02:00     2\n",
       "2001-10-06 00:03:00     3\n",
       "2001-10-06 00:04:00     4\n",
       "2001-10-06 00:05:00     5\n",
       "2001-10-06 00:06:00     6\n",
       "2001-10-06 00:07:00     7\n",
       "2001-10-06 00:08:00     8\n",
       "2001-10-06 00:09:00     9\n",
       "2001-10-06 00:10:00    10\n",
       "2001-10-06 00:11:00    11\n",
       "Freq: T, dtype: int64"
      ]
     },
     "execution_count": 168,
     "metadata": {},
     "output_type": "execute_result"
    }
   ],
   "source": [
    "dt = pd.date_range('10/06/2001', periods = 12, freq = 'T')\n",
    "stock_price = pd.Series(range(12), index = dt)\n",
    "stock_price"
   ]
  },
  {
   "cell_type": "markdown",
   "metadata": {},
   "source": [
    "Downsample to 3 minutes:"
   ]
  },
  {
   "cell_type": "code",
   "execution_count": 169,
   "metadata": {},
   "outputs": [
    {
     "data": {
      "text/plain": [
       "2001-10-06 00:00:00     3\n",
       "2001-10-06 00:03:00    12\n",
       "2001-10-06 00:06:00    21\n",
       "2001-10-06 00:09:00    30\n",
       "Freq: 3T, dtype: int64"
      ]
     },
     "execution_count": 169,
     "metadata": {},
     "output_type": "execute_result"
    }
   ],
   "source": [
    "stock_price.resample('3T').sum()"
   ]
  },
  {
   "cell_type": "markdown",
   "metadata": {},
   "source": [
    "Chose the end of each interval as label:"
   ]
  },
  {
   "cell_type": "code",
   "execution_count": 170,
   "metadata": {},
   "outputs": [
    {
     "data": {
      "text/plain": [
       "2001-10-06 00:03:00     3\n",
       "2001-10-06 00:06:00    12\n",
       "2001-10-06 00:09:00    21\n",
       "2001-10-06 00:12:00    30\n",
       "Freq: 3T, dtype: int64"
      ]
     },
     "execution_count": 170,
     "metadata": {},
     "output_type": "execute_result"
    }
   ],
   "source": [
    "stock_price.resample('3T', label = 'right').sum()"
   ]
  },
  {
   "cell_type": "markdown",
   "metadata": {},
   "source": [
    "Close the left side of each interval:"
   ]
  },
  {
   "cell_type": "code",
   "execution_count": 171,
   "metadata": {},
   "outputs": [
    {
     "data": {
      "text/plain": [
       "2001-10-06 00:00:00     3\n",
       "2001-10-06 00:03:00    12\n",
       "2001-10-06 00:06:00    21\n",
       "2001-10-06 00:09:00    30\n",
       "Freq: 3T, dtype: int64"
      ]
     },
     "execution_count": 171,
     "metadata": {},
     "output_type": "execute_result"
    }
   ],
   "source": [
    "stock_price.resample('3T', closed = 'left').sum()"
   ]
  },
  {
   "cell_type": "markdown",
   "metadata": {},
   "source": [
    "<b>Visualization</b>: [0, 1, 2, 3) -- [3,4,5, 6) -- [6, 7, 8, 9) -- [9, 10, 11, 12)\n",
    "<hr>\n",
    "[0,1,2] -- [3, 4, 5] -- [6, 7, 8] -- [9, 10, 11]"
   ]
  },
  {
   "cell_type": "markdown",
   "metadata": {},
   "source": [
    "Close the right side of each interval:"
   ]
  },
  {
   "cell_type": "code",
   "execution_count": 173,
   "metadata": {},
   "outputs": [
    {
     "data": {
      "text/plain": [
       "2001-10-06 00:00:00     0\n",
       "2001-10-06 00:03:00     6\n",
       "2001-10-06 00:06:00    15\n",
       "2001-10-06 00:09:00    24\n",
       "2001-10-06 00:12:00    21\n",
       "Freq: 3T, dtype: int64"
      ]
     },
     "execution_count": 173,
     "metadata": {},
     "output_type": "execute_result"
    }
   ],
   "source": [
    "stock_price.resample('3T', closed = 'right', label = 'right').sum()"
   ]
  },
  {
   "cell_type": "markdown",
   "metadata": {},
   "source": [
    "<b>Visualization</b>:  (0, 1, 2, 3] -- (3, 4, 5, 6] -- (6, 7, 8, 9] -- (9, 10, 11]\n",
    "<hr>\n",
    "[0] -- [1, 2, 3] -- [4, 5, 6] -- [7, 8, 9] -- [10, 11]"
   ]
  },
  {
   "cell_type": "markdown",
   "metadata": {},
   "source": [
    "<h3>Downsample with groupby</h3>"
   ]
  },
  {
   "cell_type": "code",
   "execution_count": 176,
   "metadata": {},
   "outputs": [
    {
     "data": {
      "text/plain": [
       "1     465\n",
       "2    1246\n",
       "3    2294\n",
       "4     945\n",
       "dtype: int64"
      ]
     },
     "execution_count": 176,
     "metadata": {},
     "output_type": "execute_result"
    }
   ],
   "source": [
    "dt = pd.date_range('1/1/2019', periods = 100, freq = 'D')\n",
    "sr = pd.Series(range(100), index = dt)\n",
    "#Downsample to each month\n",
    "sr.groupby(lambda index: index.month).sum()"
   ]
  },
  {
   "cell_type": "markdown",
   "metadata": {},
   "source": [
    "## Upsampling and Interpolation"
   ]
  },
  {
   "cell_type": "code",
   "execution_count": 182,
   "metadata": {},
   "outputs": [
    {
     "data": {
      "text/plain": [
       "2001-10-06    0\n",
       "2001-10-07    1\n",
       "2001-10-08    2\n",
       "Freq: D, dtype: int64"
      ]
     },
     "execution_count": 182,
     "metadata": {},
     "output_type": "execute_result"
    }
   ],
   "source": [
    "dt = pd.date_range('10/06/2001', periods = 3, freq = 'D')\n",
    "sr = pd.Series(range(3), index = dt)\n",
    "sr"
   ]
  },
  {
   "cell_type": "markdown",
   "metadata": {},
   "source": [
    "Upsampling to each hour:"
   ]
  },
  {
   "cell_type": "code",
   "execution_count": 189,
   "metadata": {},
   "outputs": [
    {
     "data": {
      "text/plain": [
       "2001-10-06 00:00:00    0.0\n",
       "2001-10-06 01:00:00    0.0\n",
       "2001-10-06 02:00:00    0.0\n",
       "2001-10-06 03:00:00    NaN\n",
       "2001-10-06 04:00:00    NaN\n",
       "2001-10-06 05:00:00    NaN\n",
       "2001-10-06 06:00:00    NaN\n",
       "2001-10-06 07:00:00    NaN\n",
       "2001-10-06 08:00:00    NaN\n",
       "2001-10-06 09:00:00    NaN\n",
       "2001-10-06 10:00:00    NaN\n",
       "2001-10-06 11:00:00    NaN\n",
       "2001-10-06 12:00:00    NaN\n",
       "2001-10-06 13:00:00    NaN\n",
       "2001-10-06 14:00:00    NaN\n",
       "2001-10-06 15:00:00    NaN\n",
       "2001-10-06 16:00:00    NaN\n",
       "2001-10-06 17:00:00    NaN\n",
       "2001-10-06 18:00:00    NaN\n",
       "2001-10-06 19:00:00    NaN\n",
       "2001-10-06 20:00:00    NaN\n",
       "2001-10-06 21:00:00    NaN\n",
       "2001-10-06 22:00:00    NaN\n",
       "2001-10-06 23:00:00    NaN\n",
       "2001-10-07 00:00:00    1.0\n",
       "2001-10-07 01:00:00    1.0\n",
       "2001-10-07 02:00:00    1.0\n",
       "2001-10-07 03:00:00    NaN\n",
       "2001-10-07 04:00:00    NaN\n",
       "2001-10-07 05:00:00    NaN\n",
       "2001-10-07 06:00:00    NaN\n",
       "2001-10-07 07:00:00    NaN\n",
       "2001-10-07 08:00:00    NaN\n",
       "2001-10-07 09:00:00    NaN\n",
       "2001-10-07 10:00:00    NaN\n",
       "2001-10-07 11:00:00    NaN\n",
       "2001-10-07 12:00:00    NaN\n",
       "2001-10-07 13:00:00    NaN\n",
       "2001-10-07 14:00:00    NaN\n",
       "2001-10-07 15:00:00    NaN\n",
       "2001-10-07 16:00:00    NaN\n",
       "2001-10-07 17:00:00    NaN\n",
       "2001-10-07 18:00:00    NaN\n",
       "2001-10-07 19:00:00    NaN\n",
       "2001-10-07 20:00:00    NaN\n",
       "2001-10-07 21:00:00    NaN\n",
       "2001-10-07 22:00:00    NaN\n",
       "2001-10-07 23:00:00    NaN\n",
       "2001-10-08 00:00:00    2.0\n",
       "Freq: H, dtype: float64"
      ]
     },
     "execution_count": 189,
     "metadata": {},
     "output_type": "execute_result"
    }
   ],
   "source": [
    "sr.resample('H').ffill(limit = 2)"
   ]
  },
  {
   "cell_type": "markdown",
   "metadata": {},
   "source": [
    "<h2>Resampling with Period</h2>"
   ]
  },
  {
   "cell_type": "code",
   "execution_count": 198,
   "metadata": {},
   "outputs": [
    {
     "data": {
      "text/plain": [
       "PeriodIndex(['2019-01-01', '2019-01-02', '2019-01-03', '2019-01-04',\n",
       "             '2019-01-05', '2019-01-06', '2019-01-07', '2019-01-08',\n",
       "             '2019-01-09', '2019-01-10',\n",
       "             ...\n",
       "             '2019-12-22', '2019-12-23', '2019-12-24', '2019-12-25',\n",
       "             '2019-12-26', '2019-12-27', '2019-12-28', '2019-12-29',\n",
       "             '2019-12-30', '2019-12-31'],\n",
       "            dtype='period[D]', length=365, freq='D')"
      ]
     },
     "execution_count": 198,
     "metadata": {},
     "output_type": "execute_result"
    }
   ],
   "source": [
    "pr = pd.period_range('1/1/2019', '31/12/2019', freq = 'D')\n",
    "pr"
   ]
  },
  {
   "cell_type": "code",
   "execution_count": 199,
   "metadata": {},
   "outputs": [
    {
     "data": {
      "text/plain": [
       "2019-01-01      0\n",
       "2019-01-02      1\n",
       "2019-01-03      2\n",
       "2019-01-04      3\n",
       "2019-01-05      4\n",
       "2019-01-06      5\n",
       "2019-01-07      6\n",
       "2019-01-08      7\n",
       "2019-01-09      8\n",
       "2019-01-10      9\n",
       "2019-01-11     10\n",
       "2019-01-12     11\n",
       "2019-01-13     12\n",
       "2019-01-14     13\n",
       "2019-01-15     14\n",
       "2019-01-16     15\n",
       "2019-01-17     16\n",
       "2019-01-18     17\n",
       "2019-01-19     18\n",
       "2019-01-20     19\n",
       "2019-01-21     20\n",
       "2019-01-22     21\n",
       "2019-01-23     22\n",
       "2019-01-24     23\n",
       "2019-01-25     24\n",
       "2019-01-26     25\n",
       "2019-01-27     26\n",
       "2019-01-28     27\n",
       "2019-01-29     28\n",
       "2019-01-30     29\n",
       "             ... \n",
       "2019-12-02    335\n",
       "2019-12-03    336\n",
       "2019-12-04    337\n",
       "2019-12-05    338\n",
       "2019-12-06    339\n",
       "2019-12-07    340\n",
       "2019-12-08    341\n",
       "2019-12-09    342\n",
       "2019-12-10    343\n",
       "2019-12-11    344\n",
       "2019-12-12    345\n",
       "2019-12-13    346\n",
       "2019-12-14    347\n",
       "2019-12-15    348\n",
       "2019-12-16    349\n",
       "2019-12-17    350\n",
       "2019-12-18    351\n",
       "2019-12-19    352\n",
       "2019-12-20    353\n",
       "2019-12-21    354\n",
       "2019-12-22    355\n",
       "2019-12-23    356\n",
       "2019-12-24    357\n",
       "2019-12-25    358\n",
       "2019-12-26    359\n",
       "2019-12-27    360\n",
       "2019-12-28    361\n",
       "2019-12-29    362\n",
       "2019-12-30    363\n",
       "2019-12-31    364\n",
       "Freq: D, Length: 365, dtype: int64"
      ]
     },
     "execution_count": 199,
     "metadata": {},
     "output_type": "execute_result"
    }
   ],
   "source": [
    "sr = pd.Series(range(len(pr)), index = pr)\n",
    "sr"
   ]
  },
  {
   "cell_type": "markdown",
   "metadata": {},
   "source": [
    "<h3>Downsampling with Period</h3>"
   ]
  },
  {
   "cell_type": "code",
   "execution_count": 200,
   "metadata": {},
   "outputs": [
    {
     "data": {
      "text/plain": [
       "2019-01      465\n",
       "2019-02     1246\n",
       "2019-03     2294\n",
       "2019-04     3135\n",
       "2019-05     4185\n",
       "2019-06     4965\n",
       "2019-07     6076\n",
       "2019-08     7037\n",
       "2019-09     7725\n",
       "2019-10     8928\n",
       "2019-11     9555\n",
       "2019-12    10819\n",
       "Freq: M, dtype: int64"
      ]
     },
     "execution_count": 200,
     "metadata": {},
     "output_type": "execute_result"
    }
   ],
   "source": [
    "sr.resample('M', closed = 'left').sum()"
   ]
  },
  {
   "cell_type": "markdown",
   "metadata": {},
   "source": [
    "### Upsampling with Period"
   ]
  },
  {
   "cell_type": "code",
   "execution_count": 201,
   "metadata": {},
   "outputs": [
    {
     "data": {
      "text/plain": [
       "PeriodIndex(['2019-06', '2019-07', '2019-08'], dtype='period[M]', freq='M')"
      ]
     },
     "execution_count": 201,
     "metadata": {},
     "output_type": "execute_result"
    }
   ],
   "source": [
    "holiday_time = pd.period_range('2019-06', '2019-08', freq = 'M')\n",
    "holiday_time"
   ]
  },
  {
   "cell_type": "code",
   "execution_count": 202,
   "metadata": {},
   "outputs": [
    {
     "data": {
      "text/plain": [
       "2019-06    0\n",
       "2019-07    1\n",
       "2019-08    2\n",
       "Freq: M, dtype: int64"
      ]
     },
     "execution_count": 202,
     "metadata": {},
     "output_type": "execute_result"
    }
   ],
   "source": [
    "sr = pd.Series(range(3), index = holiday_time)\n",
    "sr"
   ]
  },
  {
   "cell_type": "code",
   "execution_count": 206,
   "metadata": {},
   "outputs": [
    {
     "data": {
      "text/plain": [
       "2019-06-01    0.0\n",
       "2019-06-02    NaN\n",
       "2019-06-03    NaN\n",
       "2019-06-04    NaN\n",
       "2019-06-05    NaN\n",
       "2019-06-06    NaN\n",
       "2019-06-07    NaN\n",
       "2019-06-08    NaN\n",
       "2019-06-09    NaN\n",
       "2019-06-10    NaN\n",
       "2019-06-11    NaN\n",
       "2019-06-12    NaN\n",
       "2019-06-13    NaN\n",
       "2019-06-14    NaN\n",
       "2019-06-15    NaN\n",
       "2019-06-16    NaN\n",
       "2019-06-17    NaN\n",
       "2019-06-18    NaN\n",
       "2019-06-19    NaN\n",
       "2019-06-20    NaN\n",
       "2019-06-21    NaN\n",
       "2019-06-22    NaN\n",
       "2019-06-23    NaN\n",
       "2019-06-24    1.0\n",
       "2019-06-25    1.0\n",
       "2019-06-26    1.0\n",
       "2019-06-27    1.0\n",
       "2019-06-28    1.0\n",
       "2019-06-29    1.0\n",
       "2019-06-30    1.0\n",
       "             ... \n",
       "2019-08-02    NaN\n",
       "2019-08-03    NaN\n",
       "2019-08-04    NaN\n",
       "2019-08-05    NaN\n",
       "2019-08-06    NaN\n",
       "2019-08-07    NaN\n",
       "2019-08-08    NaN\n",
       "2019-08-09    NaN\n",
       "2019-08-10    NaN\n",
       "2019-08-11    NaN\n",
       "2019-08-12    NaN\n",
       "2019-08-13    NaN\n",
       "2019-08-14    NaN\n",
       "2019-08-15    NaN\n",
       "2019-08-16    NaN\n",
       "2019-08-17    NaN\n",
       "2019-08-18    NaN\n",
       "2019-08-19    NaN\n",
       "2019-08-20    NaN\n",
       "2019-08-21    NaN\n",
       "2019-08-22    NaN\n",
       "2019-08-23    NaN\n",
       "2019-08-24    NaN\n",
       "2019-08-25    NaN\n",
       "2019-08-26    NaN\n",
       "2019-08-27    NaN\n",
       "2019-08-28    NaN\n",
       "2019-08-29    NaN\n",
       "2019-08-30    NaN\n",
       "2019-08-31    NaN\n",
       "Freq: D, Length: 92, dtype: float64"
      ]
     },
     "execution_count": 206,
     "metadata": {},
     "output_type": "execute_result"
    }
   ],
   "source": [
    "sr.resample('D', convention = 'start').bfill(limit = 7)"
   ]
  }
 ],
 "metadata": {
  "kernelspec": {
   "display_name": "Python 3",
   "language": "python",
   "name": "python3"
  },
  "language_info": {
   "codemirror_mode": {
    "name": "ipython",
    "version": 3
   },
   "file_extension": ".py",
   "mimetype": "text/x-python",
   "name": "python",
   "nbconvert_exporter": "python",
   "pygments_lexer": "ipython3",
   "version": "3.7.9"
  }
 },
 "nbformat": 4,
 "nbformat_minor": 4
}
