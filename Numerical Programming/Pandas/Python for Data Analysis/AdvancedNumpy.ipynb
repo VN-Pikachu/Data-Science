{
 "cells": [
  {
   "cell_type": "code",
   "execution_count": 1,
   "metadata": {},
   "outputs": [],
   "source": [
    "import numpy as np\n",
    "import pandas as pd"
   ]
  },
  {
   "cell_type": "markdown",
   "metadata": {},
   "source": [
    "# Advanced Array Manipulation"
   ]
  },
  {
   "cell_type": "markdown",
   "metadata": {},
   "source": [
    "## Reshaping"
   ]
  },
  {
   "cell_type": "code",
   "execution_count": 2,
   "metadata": {},
   "outputs": [
    {
     "data": {
      "text/html": [
       "<style>\n",
       "mark {\n",
       "    background: teal;\n",
       "    color: white;\n",
       "    padding: 2px 5px\n",
       "}\n",
       "\n",
       ".i {\n",
       "    color: red;\n",
       "    font-weight: bold;\n",
       "}\n",
       "</style>\n"
      ],
      "text/plain": [
       "<IPython.core.display.HTML object>"
      ]
     },
     "metadata": {},
     "output_type": "display_data"
    }
   ],
   "source": [
    "%%HTML\n",
    "<style>\n",
    "mark {\n",
    "    background: teal;\n",
    "    color: white;\n",
    "    padding: 2px 5px\n",
    "}\n",
    "\n",
    ".i {\n",
    "    color: red;\n",
    "    font-weight: bold;\n",
    "}\n",
    "</style>"
   ]
  },
  {
   "cell_type": "code",
   "execution_count": 3,
   "metadata": {},
   "outputs": [
    {
     "data": {
      "text/html": [
       "<h2><mark>Syntax</mark>: <code>ndarray.reshape(shape)</code> where shape is a tupple</h2>\n"
      ],
      "text/plain": [
       "<IPython.core.display.HTML object>"
      ]
     },
     "metadata": {},
     "output_type": "display_data"
    }
   ],
   "source": [
    "%%HTML\n",
    "<h2><mark>Syntax</mark>: <code>ndarray.reshape(shape)</code> where shape is a tupple</h2>"
   ]
  },
  {
   "cell_type": "code",
   "execution_count": 4,
   "metadata": {},
   "outputs": [
    {
     "data": {
      "text/plain": [
       "array([[ 0,  1,  2,  3],\n",
       "       [ 4,  5,  6,  7],\n",
       "       [ 8,  9, 10, 11]])"
      ]
     },
     "execution_count": 4,
     "metadata": {},
     "output_type": "execute_result"
    }
   ],
   "source": [
    "A = np.arange(12)\n",
    "A.reshape((3,4))"
   ]
  },
  {
   "cell_type": "markdown",
   "metadata": {},
   "source": [
    "## Flattenning"
   ]
  },
  {
   "cell_type": "code",
   "execution_count": 5,
   "metadata": {},
   "outputs": [
    {
     "data": {
      "text/html": [
       "<ul>\n",
       "    <li><span class = 'i'>ndarray.ravel()</span>: does not return a copy of data if it has to</li>\n",
       "    <li><span class = 'i'>ndarray.flatten()</span>: always return a copy of data</li>\n",
       "</ul>\n",
       "<hr/>\n",
       "<ul>\n",
       "A <b>pandas-like</b> intepreattion\n",
       "   <li><code>ndarray.ravel()</code>: array.flattening(inplace = True)</li>\n",
       "   <li><code>ndarray.flatten()</code>: array.flattening(inplace = False)</li> \n",
       "</ul>\n"
      ],
      "text/plain": [
       "<IPython.core.display.HTML object>"
      ]
     },
     "metadata": {},
     "output_type": "display_data"
    }
   ],
   "source": [
    "%%HTML\n",
    "<ul>\n",
    "    <li><span class = 'i'>ndarray.ravel()</span>: does not return a copy of data if it has to</li>\n",
    "    <li><span class = 'i'>ndarray.flatten()</span>: always return a copy of data</li>\n",
    "</ul>\n",
    "<hr/>\n",
    "<ul>\n",
    "A <b>pandas-like</b> intepreattion\n",
    "   <li><code>ndarray.ravel()</code>: array.flattening(inplace = True)</li>\n",
    "   <li><code>ndarray.flatten()</code>: array.flattening(inplace = False)</li> \n",
    "</ul>"
   ]
  },
  {
   "cell_type": "code",
   "execution_count": 6,
   "metadata": {},
   "outputs": [
    {
     "data": {
      "text/plain": [
       "array([ 0,  1,  2,  3,  4,  5,  6,  7,  8,  9, 10, 11])"
      ]
     },
     "execution_count": 6,
     "metadata": {},
     "output_type": "execute_result"
    }
   ],
   "source": [
    "A.ravel()\n",
    "A"
   ]
  },
  {
   "cell_type": "markdown",
   "metadata": {},
   "source": [
    "## C versus F order"
   ]
  },
  {
   "cell_type": "code",
   "execution_count": 7,
   "metadata": {},
   "outputs": [
    {
     "data": {
      "text/html": [
       "<ul>\n",
       "    <li><span class = 'i'>C order</span>: operating on row-wise (<i>row major order</i>)</li>\n",
       "    <li><span class = 'i'> F order</span>: operatin on column-wise (<i>column major order</i>)</li>\n",
       "</ul>\n"
      ],
      "text/plain": [
       "<IPython.core.display.HTML object>"
      ]
     },
     "metadata": {},
     "output_type": "display_data"
    }
   ],
   "source": [
    "%%HTML\n",
    "<ul>\n",
    "    <li><span class = 'i'>C order</span>: operating on row-wise (<i>row major order</i>)</li>\n",
    "    <li><span class = 'i'> F order</span>: operatin on column-wise (<i>column major order</i>)</li>\n",
    "</ul>"
   ]
  },
  {
   "cell_type": "code",
   "execution_count": 8,
   "metadata": {},
   "outputs": [
    {
     "data": {
      "text/html": [
       "<h3>Example:</h3>\n"
      ],
      "text/plain": [
       "<IPython.core.display.HTML object>"
      ]
     },
     "metadata": {},
     "output_type": "display_data"
    }
   ],
   "source": [
    "%%HTML\n",
    "<h3>Example:</h3>"
   ]
  },
  {
   "cell_type": "markdown",
   "metadata": {},
   "source": [
    "Original Data:"
   ]
  },
  {
   "cell_type": "code",
   "execution_count": 9,
   "metadata": {},
   "outputs": [
    {
     "data": {
      "text/plain": [
       "array([[ 0,  1,  2,  3],\n",
       "       [ 4,  5,  6,  7],\n",
       "       [ 8,  9, 10, 11]])"
      ]
     },
     "execution_count": 9,
     "metadata": {},
     "output_type": "execute_result"
    }
   ],
   "source": [
    "A = np.arange(12).reshape((3,4))\n",
    "A"
   ]
  },
  {
   "cell_type": "markdown",
   "metadata": {},
   "source": [
    "Flatten along row"
   ]
  },
  {
   "cell_type": "code",
   "execution_count": 10,
   "metadata": {},
   "outputs": [
    {
     "data": {
      "text/plain": [
       "array([ 0,  1,  2,  3,  4,  5,  6,  7,  8,  9, 10, 11])"
      ]
     },
     "execution_count": 10,
     "metadata": {},
     "output_type": "execute_result"
    }
   ],
   "source": [
    "A.flatten(order = 'C')"
   ]
  },
  {
   "cell_type": "markdown",
   "metadata": {},
   "source": [
    "flatten along column"
   ]
  },
  {
   "cell_type": "code",
   "execution_count": 11,
   "metadata": {},
   "outputs": [
    {
     "data": {
      "text/plain": [
       "array([ 0,  4,  8,  1,  5,  9,  2,  6, 10,  3,  7, 11])"
      ]
     },
     "execution_count": 11,
     "metadata": {},
     "output_type": "execute_result"
    }
   ],
   "source": [
    "A.flatten(order = 'F')"
   ]
  },
  {
   "cell_type": "markdown",
   "metadata": {},
   "source": [
    "## Concatenating and Splitting Arrays"
   ]
  },
  {
   "cell_type": "markdown",
   "metadata": {},
   "source": [
    "### Concatenation"
   ]
  },
  {
   "cell_type": "code",
   "execution_count": 12,
   "metadata": {},
   "outputs": [
    {
     "data": {
      "text/html": [
       "<h2>Generalization: <code class = 'i'>np.concatenate([arr1, arr2, ...], axis = ?)</code></h2>\n"
      ],
      "text/plain": [
       "<IPython.core.display.HTML object>"
      ]
     },
     "metadata": {},
     "output_type": "display_data"
    }
   ],
   "source": [
    "%%HTML\n",
    "<h2>Generalization: <code class = 'i'>np.concatenate([arr1, arr2, ...], axis = ?)</code></h2>"
   ]
  },
  {
   "cell_type": "code",
   "execution_count": 13,
   "metadata": {},
   "outputs": [],
   "source": [
    "companies = [['Apple', 'Google'],\n",
    "             ['BMI', 'Samsung']]\n",
    "\n",
    "products = [['Mobiphone', 'Search Engine'],\n",
    "            ['CPU Core', 'Qualcom Dragon']]"
   ]
  },
  {
   "cell_type": "code",
   "execution_count": 14,
   "metadata": {},
   "outputs": [
    {
     "data": {
      "text/plain": [
       "array([['Apple', 'Google'],\n",
       "       ['BMI', 'Samsung'],\n",
       "       ['Mobiphone', 'Search Engine'],\n",
       "       ['CPU Core', 'Qualcom Dragon']], dtype='<U14')"
      ]
     },
     "execution_count": 14,
     "metadata": {},
     "output_type": "execute_result"
    }
   ],
   "source": [
    "# concat as rows\n",
    "np.concatenate([companies, products], axis = 0)"
   ]
  },
  {
   "cell_type": "code",
   "execution_count": 15,
   "metadata": {},
   "outputs": [
    {
     "data": {
      "text/plain": [
       "array([['Apple', 'Google', 'Mobiphone', 'Search Engine'],\n",
       "       ['BMI', 'Samsung', 'CPU Core', 'Qualcom Dragon']], dtype='<U14')"
      ]
     },
     "execution_count": 15,
     "metadata": {},
     "output_type": "execute_result"
    }
   ],
   "source": [
    "#concat as columns\n",
    "np.concatenate([companies, products], axis = 1)"
   ]
  },
  {
   "cell_type": "code",
   "execution_count": 16,
   "metadata": {},
   "outputs": [
    {
     "data": {
      "text/html": [
       "<h2>Equivalent functions</h2>\n",
       "<ul>\n",
       "    <li><span class = 'i'>Horizontal concatenation</span>: <code>np.hstack((arr1, arr2, ...))</code></li>\n",
       "    <li><span class = 'i'>Vertical concatenation</span>: <code>np.vstack((arr1, arr2, ...))</code></li>\n",
       "</ul>\n"
      ],
      "text/plain": [
       "<IPython.core.display.HTML object>"
      ]
     },
     "metadata": {},
     "output_type": "display_data"
    }
   ],
   "source": [
    "%%HTML\n",
    "<h2>Equivalent functions</h2>\n",
    "<ul>\n",
    "    <li><span class = 'i'>Horizontal concatenation</span>: <code>np.hstack((arr1, arr2, ...))</code></li>\n",
    "    <li><span class = 'i'>Vertical concatenation</span>: <code>np.vstack((arr1, arr2, ...))</code></li>\n",
    "</ul>"
   ]
  },
  {
   "cell_type": "code",
   "execution_count": 17,
   "metadata": {},
   "outputs": [
    {
     "data": {
      "text/html": [
       "<mark style = 'font-size:24px'>np.hstack()</mark>\n"
      ],
      "text/plain": [
       "<IPython.core.display.HTML object>"
      ]
     },
     "metadata": {},
     "output_type": "display_data"
    }
   ],
   "source": [
    "%%HTML\n",
    "<mark style = 'font-size:24px'>np.hstack()</mark>"
   ]
  },
  {
   "cell_type": "code",
   "execution_count": 18,
   "metadata": {},
   "outputs": [
    {
     "data": {
      "text/plain": [
       "array([['Apple', 'Google', 'Mobiphone', 'Search Engine'],\n",
       "       ['BMI', 'Samsung', 'CPU Core', 'Qualcom Dragon']], dtype='<U14')"
      ]
     },
     "execution_count": 18,
     "metadata": {},
     "output_type": "execute_result"
    }
   ],
   "source": [
    "np.hstack((companies, products))"
   ]
  },
  {
   "cell_type": "code",
   "execution_count": 19,
   "metadata": {},
   "outputs": [
    {
     "data": {
      "text/html": [
       "<mark style = 'font-size:24px'>np.vstack()</mark>\n"
      ],
      "text/plain": [
       "<IPython.core.display.HTML object>"
      ]
     },
     "metadata": {},
     "output_type": "display_data"
    }
   ],
   "source": [
    "%%HTML\n",
    "<mark style = 'font-size:24px'>np.vstack()</mark>"
   ]
  },
  {
   "cell_type": "code",
   "execution_count": 20,
   "metadata": {},
   "outputs": [
    {
     "data": {
      "text/plain": [
       "array([['Apple', 'Google'],\n",
       "       ['BMI', 'Samsung'],\n",
       "       ['Mobiphone', 'Search Engine'],\n",
       "       ['CPU Core', 'Qualcom Dragon']], dtype='<U14')"
      ]
     },
     "execution_count": 20,
     "metadata": {},
     "output_type": "execute_result"
    }
   ],
   "source": [
    "np.vstack((companies, products))"
   ]
  },
  {
   "cell_type": "code",
   "execution_count": 21,
   "metadata": {},
   "outputs": [
    {
     "data": {
      "text/html": [
       "<h2>Stacking helper: <mark>np.r_</mark> and <mark>np.c_</mark></h2>\n"
      ],
      "text/plain": [
       "<IPython.core.display.HTML object>"
      ]
     },
     "metadata": {},
     "output_type": "display_data"
    }
   ],
   "source": [
    "%%HTML\n",
    "<h2>Stacking helper: <mark>np.r_</mark> and <mark>np.c_</mark></h2>"
   ]
  },
  {
   "cell_type": "code",
   "execution_count": 22,
   "metadata": {},
   "outputs": [
    {
     "data": {
      "text/html": [
       "<h3><span class = 'i'>np.r_[arr1, arr2, ...]</span>: advaced version of <mark>np.hstack</mark></h3>\n"
      ],
      "text/plain": [
       "<IPython.core.display.HTML object>"
      ]
     },
     "metadata": {},
     "output_type": "display_data"
    }
   ],
   "source": [
    "%%HTML\n",
    "<h3><span class = 'i'>np.r_[arr1, arr2, ...]</span>: advaced version of <mark>np.hstack</mark></h3>"
   ]
  },
  {
   "cell_type": "code",
   "execution_count": 23,
   "metadata": {},
   "outputs": [
    {
     "data": {
      "text/plain": [
       "array([1, 2, 3, 4, 5, 6])"
      ]
     },
     "execution_count": 23,
     "metadata": {},
     "output_type": "execute_result"
    }
   ],
   "source": [
    "A = [1,2,3]\n",
    "B = [4,5,6]\n",
    "np.r_[A, B]"
   ]
  },
  {
   "cell_type": "code",
   "execution_count": 24,
   "metadata": {},
   "outputs": [
    {
     "data": {
      "text/html": [
       "<h3><span class = 'i'>np.c_[arr1, arr2, ...]</span>: advanced version of <mark>np.vstack</span></h3>\n"
      ],
      "text/plain": [
       "<IPython.core.display.HTML object>"
      ]
     },
     "metadata": {},
     "output_type": "display_data"
    }
   ],
   "source": [
    "%%HTML\n",
    "<h3><span class = 'i'>np.c_[arr1, arr2, ...]</span>: advanced version of <mark>np.vstack</span></h3>"
   ]
  },
  {
   "cell_type": "code",
   "execution_count": 25,
   "metadata": {},
   "outputs": [
    {
     "data": {
      "text/plain": [
       "array([[1, 4],\n",
       "       [2, 5],\n",
       "       [3, 6]])"
      ]
     },
     "execution_count": 25,
     "metadata": {},
     "output_type": "execute_result"
    }
   ],
   "source": [
    "np.c_[A, B]"
   ]
  },
  {
   "cell_type": "code",
   "execution_count": 26,
   "metadata": {},
   "outputs": [
    {
     "data": {
      "text/html": [
       "<h3>Indices translation</h3>\n"
      ],
      "text/plain": [
       "<IPython.core.display.HTML object>"
      ]
     },
     "metadata": {},
     "output_type": "display_data"
    }
   ],
   "source": [
    "%%HTML\n",
    "<h3>Indices translation</h3>"
   ]
  },
  {
   "cell_type": "code",
   "execution_count": 27,
   "metadata": {},
   "outputs": [
    {
     "data": {
      "text/plain": [
       "array([[ 0,  2],\n",
       "       [ 1,  3],\n",
       "       [ 2,  5],\n",
       "       [ 3,  7],\n",
       "       [ 4, 11],\n",
       "       [ 5, 13]])"
      ]
     },
     "execution_count": 27,
     "metadata": {},
     "output_type": "execute_result"
    }
   ],
   "source": [
    "#translate 0:6 to array: [0,1,2,3,4,5]\n",
    "np.c_[0:6, [2,3,5,7,11,13]]"
   ]
  },
  {
   "cell_type": "markdown",
   "metadata": {},
   "source": [
    "### Splitting"
   ]
  },
  {
   "cell_type": "code",
   "execution_count": 28,
   "metadata": {},
   "outputs": [
    {
     "data": {
      "text/plain": [
       "array([ 0,  1,  2,  3,  4,  5,  6,  7,  8,  9, 10, 11])"
      ]
     },
     "execution_count": 28,
     "metadata": {},
     "output_type": "execute_result"
    }
   ],
   "source": [
    "A = np.arange(12)\n",
    "A"
   ]
  },
  {
   "cell_type": "code",
   "execution_count": 29,
   "metadata": {},
   "outputs": [
    {
     "data": {
      "text/plain": [
       "[array([0, 1, 2, 3]), array([4, 5, 6, 7]), array([ 8,  9, 10, 11])]"
      ]
     },
     "execution_count": 29,
     "metadata": {},
     "output_type": "execute_result"
    }
   ],
   "source": [
    "#Split A into 3 equal chunks\n",
    "np.split(A, 3)"
   ]
  },
  {
   "cell_type": "code",
   "execution_count": 30,
   "metadata": {},
   "outputs": [
    {
     "data": {
      "text/plain": [
       "[array([0]),\n",
       " array([1, 2]),\n",
       " array([3, 4, 5]),\n",
       " array([6]),\n",
       " array([ 7,  8,  9, 10]),\n",
       " array([11])]"
      ]
     },
     "execution_count": 30,
     "metadata": {},
     "output_type": "execute_result"
    }
   ],
   "source": [
    "# Split A at certain indices\n",
    "np.split(A, [1, 3, 6,7, 11])"
   ]
  },
  {
   "cell_type": "markdown",
   "metadata": {},
   "source": [
    "## Repeating Elements: Repeat and Tile"
   ]
  },
  {
   "cell_type": "markdown",
   "metadata": {},
   "source": [
    "### Repeat"
   ]
  },
  {
   "cell_type": "code",
   "execution_count": 31,
   "metadata": {},
   "outputs": [
    {
     "data": {
      "text/html": [
       "<ul>\n",
       "    <li><span class = 'i'>ndarray.repeat(n)</span>: repeat each element of array ndarray n times</li>\n",
       "    <li><span class = 'i'>ndarray.repeat((f1, f2, f3,...))</span>: repeat the first element f1 times, the second elements f2 times, ...</li>\n",
       "</ul>\n"
      ],
      "text/plain": [
       "<IPython.core.display.HTML object>"
      ]
     },
     "metadata": {},
     "output_type": "display_data"
    }
   ],
   "source": [
    "%%HTML\n",
    "<ul>\n",
    "    <li><span class = 'i'>ndarray.repeat(n)</span>: repeat each element of array ndarray n times</li>\n",
    "    <li><span class = 'i'>ndarray.repeat((f1, f2, f3,...))</span>: repeat the first element f1 times, the second elements f2 times, ...</li>\n",
    "</ul>"
   ]
  },
  {
   "cell_type": "code",
   "execution_count": 32,
   "metadata": {},
   "outputs": [
    {
     "data": {
      "text/html": [
       "<h3>1-D array</h3>\n"
      ],
      "text/plain": [
       "<IPython.core.display.HTML object>"
      ]
     },
     "metadata": {},
     "output_type": "display_data"
    }
   ],
   "source": [
    "%%HTML\n",
    "<h3>1-D array</h3>"
   ]
  },
  {
   "cell_type": "code",
   "execution_count": 33,
   "metadata": {},
   "outputs": [
    {
     "data": {
      "text/plain": [
       "array([0, 0, 0, 0, 0, 0, 1, 1, 1, 3, 3, 3])"
      ]
     },
     "execution_count": 33,
     "metadata": {},
     "output_type": "execute_result"
    }
   ],
   "source": [
    "A = np.array([0, 0,1, 3])\n",
    "A.repeat(3)"
   ]
  },
  {
   "cell_type": "code",
   "execution_count": 34,
   "metadata": {},
   "outputs": [
    {
     "data": {
      "text/plain": [
       "array([0, 0, 0, 0, 1, 1, 1, 1, 3, 3, 3])"
      ]
     },
     "execution_count": 34,
     "metadata": {},
     "output_type": "execute_result"
    }
   ],
   "source": [
    "A.repeat((2,2,4,3))"
   ]
  },
  {
   "cell_type": "code",
   "execution_count": 35,
   "metadata": {},
   "outputs": [
    {
     "data": {
      "text/html": [
       "<h3>2-D array</h3>\n"
      ],
      "text/plain": [
       "<IPython.core.display.HTML object>"
      ]
     },
     "metadata": {},
     "output_type": "display_data"
    }
   ],
   "source": [
    "%%HTML\n",
    "<h3>2-D array</h3>"
   ]
  },
  {
   "cell_type": "code",
   "execution_count": 36,
   "metadata": {},
   "outputs": [
    {
     "data": {
      "text/plain": [
       "array([['Chicken', 'Chicken', 'Chicken', 'Pork', 'Pork', 'Pork'],\n",
       "       ['Corn', 'Corn', 'Corn', 'Banana', 'Banana', 'Banana']],\n",
       "      dtype='<U7')"
      ]
     },
     "execution_count": 36,
     "metadata": {},
     "output_type": "execute_result"
    }
   ],
   "source": [
    "A = np.array([\n",
    "    ['Chicken', 'Pork'],\n",
    "    ['Corn', 'Banana']\n",
    "])\n",
    "#apply ndarray.repeat(3) for each row of A\n",
    "A.repeat(3, axis = 1)"
   ]
  },
  {
   "cell_type": "code",
   "execution_count": 37,
   "metadata": {},
   "outputs": [
    {
     "data": {
      "text/plain": [
       "array([['Chicken', 'Pork'],\n",
       "       ['Chicken', 'Pork'],\n",
       "       ['Chicken', 'Pork'],\n",
       "       ['Corn', 'Banana'],\n",
       "       ['Corn', 'Banana']], dtype='<U7')"
      ]
     },
     "execution_count": 37,
     "metadata": {},
     "output_type": "execute_result"
    }
   ],
   "source": [
    "#apply ndarray.repeat((3,2)) for each column of A\n",
    "A.repeat((3,2), axis = 0)"
   ]
  },
  {
   "cell_type": "markdown",
   "metadata": {},
   "source": [
    "### Tile"
   ]
  },
  {
   "cell_type": "code",
   "execution_count": 38,
   "metadata": {},
   "outputs": [
    {
     "data": {
      "text/html": [
       "<span class = 'i' style = 'font-size:24px;'>np.tile(A = arr, reps = n)</span>\n",
       "<p><b>Intuition</b>: Consider the array A as a <b>Tile</b>, then you place n tiles (n array A) in a row.</p>\n"
      ],
      "text/plain": [
       "<IPython.core.display.HTML object>"
      ]
     },
     "metadata": {},
     "output_type": "display_data"
    }
   ],
   "source": [
    "%%HTML\n",
    "<span class = 'i' style = 'font-size:24px;'>np.tile(A = arr, reps = n)</span>\n",
    "<p><b>Intuition</b>: Consider the array A as a <b>Tile</b>, then you place n tiles (n array A) in a row.</p>"
   ]
  },
  {
   "cell_type": "code",
   "execution_count": 39,
   "metadata": {},
   "outputs": [
    {
     "data": {
      "text/plain": [
       "array([[0, 1, 0, 1],\n",
       "       [2, 3, 2, 3]])"
      ]
     },
     "execution_count": 39,
     "metadata": {},
     "output_type": "execute_result"
    }
   ],
   "source": [
    "A = np.array([\n",
    "    [0,1],\n",
    "    [2,3]\n",
    "])\n",
    "np.tile(A, 2)"
   ]
  },
  {
   "cell_type": "code",
   "execution_count": 40,
   "metadata": {},
   "outputs": [
    {
     "data": {
      "text/html": [
       "<span class = 'i' style = 'font-size:24px;'>np.tile(A = arr, reps = (n1,n2))</span>\n",
       "<p><b>Intuition</b>: Consider the array A as a <b>Tile</b>, then you place make a board <i>(n1 x n2)</i>\n",
       "then for each cell in that board, you put a <b>Tile (array A)</b> in.</p>\n"
      ],
      "text/plain": [
       "<IPython.core.display.HTML object>"
      ]
     },
     "metadata": {},
     "output_type": "display_data"
    }
   ],
   "source": [
    "%%HTML\n",
    "<span class = 'i' style = 'font-size:24px;'>np.tile(A = arr, reps = (n1,n2))</span>\n",
    "<p><b>Intuition</b>: Consider the array A as a <b>Tile</b>, then you place make a board <i>(n1 x n2)</i>\n",
    "then for each cell in that board, you put a <b>Tile (array A)</b> in.</p>"
   ]
  },
  {
   "cell_type": "code",
   "execution_count": 41,
   "metadata": {},
   "outputs": [
    {
     "data": {
      "text/plain": [
       "array([[0, 1, 0, 1, 0, 1],\n",
       "       [2, 3, 2, 3, 2, 3],\n",
       "       [0, 1, 0, 1, 0, 1],\n",
       "       [2, 3, 2, 3, 2, 3]])"
      ]
     },
     "execution_count": 41,
     "metadata": {},
     "output_type": "execute_result"
    }
   ],
   "source": [
    "np.tile(A, (2,3))"
   ]
  },
  {
   "cell_type": "markdown",
   "metadata": {},
   "source": [
    "## Fancy Indexing Equivalent: Take and Put"
   ]
  },
  {
   "cell_type": "code",
   "execution_count": 42,
   "metadata": {},
   "outputs": [],
   "source": [
    "np.random.seed(101)\n",
    "profit = np.array([2000, 201, 101, 30])"
   ]
  },
  {
   "cell_type": "code",
   "execution_count": 43,
   "metadata": {},
   "outputs": [
    {
     "data": {
      "text/plain": [
       "array([201,  30])"
      ]
     },
     "execution_count": 43,
     "metadata": {},
     "output_type": "execute_result"
    }
   ],
   "source": [
    "#Get the proft of the 1-th company and 3-th company\n",
    "\n",
    "profit.take([1,3]) #equivalent: names[[1,3]]"
   ]
  },
  {
   "cell_type": "code",
   "execution_count": 44,
   "metadata": {},
   "outputs": [
    {
     "data": {
      "text/plain": [
       "array([  2000, 201000,    101,  30000])"
      ]
     },
     "execution_count": 44,
     "metadata": {},
     "output_type": "execute_result"
    }
   ],
   "source": [
    "#Scale the profit of the 1-th and 3-th company by 1000 times\n",
    "profit.put([1,3], profit.take([1,3]) * 1000)\n",
    "\n",
    "profit"
   ]
  },
  {
   "cell_type": "markdown",
   "metadata": {},
   "source": [
    "## Sorting"
   ]
  },
  {
   "cell_type": "code",
   "execution_count": 45,
   "metadata": {},
   "outputs": [
    {
     "data": {
      "text/html": [
       "<h3>Direct sort</h3>\n"
      ],
      "text/plain": [
       "<IPython.core.display.HTML object>"
      ]
     },
     "metadata": {},
     "output_type": "display_data"
    }
   ],
   "source": [
    "%%HTML\n",
    "<h3>Direct sort</h3>"
   ]
  },
  {
   "cell_type": "code",
   "execution_count": 46,
   "metadata": {},
   "outputs": [
    {
     "data": {
      "text/plain": [
       "array([  1,   1,   3,   5,   5,  10,  10,  11,  13,  14,  17,  20,  21,\n",
       "        22,  22,  25,  26,  35,  40,  40,  40,  45,  46,  46,  47,  47,\n",
       "        47,  49,  50,  52,  52,  52,  59,  59,  61,  67,  71,  71,  73,\n",
       "        75,  75,  76,  76,  76,  79,  79,  82,  85,  87,  88,  92,  93,\n",
       "        94,  96,  97,  97,  99, 101, 102, 103, 105, 108, 110, 110, 112,\n",
       "       115, 119, 122, 125, 129, 136, 137, 140, 144, 145, 149, 150, 152,\n",
       "       153, 158, 163, 169, 177, 190, 190, 192, 193, 197, 203, 207, 207,\n",
       "       208, 208, 211, 211, 214, 215, 217, 219, 220, 221, 222, 223, 223,\n",
       "       223, 226, 229, 232, 235, 235, 238, 239, 239, 242, 243, 244, 244,\n",
       "       245, 249, 250, 250, 251, 253, 254, 262, 264, 270, 271, 273, 275,\n",
       "       275, 276, 277, 280, 284, 285, 289, 294, 297, 300, 302, 303, 305,\n",
       "       309, 310, 311, 316, 327, 329, 330, 337, 340, 343, 343, 344, 348,\n",
       "       350, 350, 356, 357, 358, 358, 359, 359, 362, 366, 369, 370, 371,\n",
       "       376, 377, 378, 378, 378, 378, 380, 383, 383, 386, 387, 390, 393,\n",
       "       394, 395, 396, 397, 398, 401, 402, 402, 402, 402, 404, 404, 405,\n",
       "       409, 411, 412, 415, 418, 419, 419, 422, 430, 431, 436, 436, 437,\n",
       "       440, 441, 443, 444, 451, 453, 453, 453, 455, 456, 457, 461, 463,\n",
       "       465, 469, 470, 470, 477, 478, 478, 480, 484, 487, 487, 488, 490,\n",
       "       494, 496, 498, 498, 499, 499, 502, 503, 503, 504, 505, 505, 506,\n",
       "       507, 507, 508, 511, 512, 515, 518, 519, 519, 521, 523, 526, 535,\n",
       "       537, 537, 539, 539, 540, 541, 542, 546, 546, 549, 552, 554, 556,\n",
       "       558, 558, 559, 561, 561, 564, 566, 570, 571, 574, 575, 575, 575,\n",
       "       578, 579, 580, 580, 587, 588, 589, 590, 591, 591, 592, 594, 596,\n",
       "       599, 599, 602, 606, 606, 608, 609, 609, 611, 615, 615, 615, 615,\n",
       "       619, 623, 625, 627, 628, 632, 634, 635, 638, 638, 643, 643, 644,\n",
       "       645, 646, 647, 649, 654, 657, 658, 662, 663, 664, 666, 671, 671,\n",
       "       672, 674, 675, 676, 676, 676, 678, 679, 679, 684, 684, 685, 686,\n",
       "       692, 694, 696, 697, 697, 697, 703, 703, 704, 704, 705, 708, 708,\n",
       "       709, 710, 711, 718, 722, 732, 733, 735, 738, 741, 742, 743, 744,\n",
       "       746, 750, 751, 757, 757, 759, 760, 764, 770, 771, 776, 784, 788,\n",
       "       788, 794, 797, 797, 804, 808, 810, 811, 813, 813, 815, 818, 819,\n",
       "       828, 828, 828, 831, 834, 834, 838, 838, 839, 839, 840, 841, 841,\n",
       "       844, 850, 850, 851, 851, 851, 854, 854, 855, 855, 855, 861, 863,\n",
       "       865, 865, 869, 871, 871, 874, 876, 877, 880, 881, 883, 884, 889,\n",
       "       891, 892, 894, 895, 895, 895, 896, 905, 906, 906, 907, 908, 911,\n",
       "       913, 916, 916, 919, 920, 921, 923, 923, 925, 928, 928, 930, 936,\n",
       "       936, 939, 943, 944, 945, 947, 950, 950, 953, 953, 956, 956, 960,\n",
       "       964, 966, 967, 968, 971, 971, 973, 977, 979, 979, 982, 982, 983,\n",
       "       984, 984, 985, 988, 989, 997])"
      ]
     },
     "execution_count": 46,
     "metadata": {},
     "output_type": "execute_result"
    }
   ],
   "source": [
    "np.random.seed(101)\n",
    "A = np.random.randint(0, 1000, 500)\n",
    "#return a copy of sorted array\n",
    "np.sort(A, kind = 'mergesort')"
   ]
  },
  {
   "cell_type": "code",
   "execution_count": 48,
   "metadata": {},
   "outputs": [
    {
     "data": {
      "text/plain": [
       "array([  1,   1,   3,   5,   5,  10,  10,  11,  13,  14,  17,  20,  21,\n",
       "        22,  22,  25,  26,  35,  40,  40,  40,  45,  46,  46,  47,  47,\n",
       "        47,  49,  50,  52,  52,  52,  59,  59,  61,  67,  71,  71,  73,\n",
       "        75,  75,  76,  76,  76,  79,  79,  82,  85,  87,  88,  92,  93,\n",
       "        94,  96,  97,  97,  99, 101, 102, 103, 105, 108, 110, 110, 112,\n",
       "       115, 119, 122, 125, 129, 136, 137, 140, 144, 145, 149, 150, 152,\n",
       "       153, 158, 163, 169, 177, 190, 190, 192, 193, 197, 203, 207, 207,\n",
       "       208, 208, 211, 211, 214, 215, 217, 219, 220, 221, 222, 223, 223,\n",
       "       223, 226, 229, 232, 235, 235, 238, 239, 239, 242, 243, 244, 244,\n",
       "       245, 249, 250, 250, 251, 253, 254, 262, 264, 270, 271, 273, 275,\n",
       "       275, 276, 277, 280, 284, 285, 289, 294, 297, 300, 302, 303, 305,\n",
       "       309, 310, 311, 316, 327, 329, 330, 337, 340, 343, 343, 344, 348,\n",
       "       350, 350, 356, 357, 358, 358, 359, 359, 362, 366, 369, 370, 371,\n",
       "       376, 377, 378, 378, 378, 378, 380, 383, 383, 386, 387, 390, 393,\n",
       "       394, 395, 396, 397, 398, 401, 402, 402, 402, 402, 404, 404, 405,\n",
       "       409, 411, 412, 415, 418, 419, 419, 422, 430, 431, 436, 436, 437,\n",
       "       440, 441, 443, 444, 451, 453, 453, 453, 455, 456, 457, 461, 463,\n",
       "       465, 469, 470, 470, 477, 478, 478, 480, 484, 487, 487, 488, 490,\n",
       "       494, 496, 498, 498, 499, 499, 502, 503, 503, 504, 505, 505, 506,\n",
       "       507, 507, 508, 511, 512, 515, 518, 519, 519, 521, 523, 526, 535,\n",
       "       537, 537, 539, 539, 540, 541, 542, 546, 546, 549, 552, 554, 556,\n",
       "       558, 558, 559, 561, 561, 564, 566, 570, 571, 574, 575, 575, 575,\n",
       "       578, 579, 580, 580, 587, 588, 589, 590, 591, 591, 592, 594, 596,\n",
       "       599, 599, 602, 606, 606, 608, 609, 609, 611, 615, 615, 615, 615,\n",
       "       619, 623, 625, 627, 628, 632, 634, 635, 638, 638, 643, 643, 644,\n",
       "       645, 646, 647, 649, 654, 657, 658, 662, 663, 664, 666, 671, 671,\n",
       "       672, 674, 675, 676, 676, 676, 678, 679, 679, 684, 684, 685, 686,\n",
       "       692, 694, 696, 697, 697, 697, 703, 703, 704, 704, 705, 708, 708,\n",
       "       709, 710, 711, 718, 722, 732, 733, 735, 738, 741, 742, 743, 744,\n",
       "       746, 750, 751, 757, 757, 759, 760, 764, 770, 771, 776, 784, 788,\n",
       "       788, 794, 797, 797, 804, 808, 810, 811, 813, 813, 815, 818, 819,\n",
       "       828, 828, 828, 831, 834, 834, 838, 838, 839, 839, 840, 841, 841,\n",
       "       844, 850, 850, 851, 851, 851, 854, 854, 855, 855, 855, 861, 863,\n",
       "       865, 865, 869, 871, 871, 874, 876, 877, 880, 881, 883, 884, 889,\n",
       "       891, 892, 894, 895, 895, 895, 896, 905, 906, 906, 907, 908, 911,\n",
       "       913, 916, 916, 919, 920, 921, 923, 923, 925, 928, 928, 930, 936,\n",
       "       936, 939, 943, 944, 945, 947, 950, 950, 953, 953, 956, 956, 960,\n",
       "       964, 966, 967, 968, 971, 971, 973, 977, 979, 979, 982, 982, 983,\n",
       "       984, 984, 985, 988, 989, 997])"
      ]
     },
     "execution_count": 48,
     "metadata": {},
     "output_type": "execute_result"
    }
   ],
   "source": [
    "#inplace sort\n",
    "A.sort(kind = 'heapsort')\n",
    "A"
   ]
  },
  {
   "cell_type": "code",
   "execution_count": 50,
   "metadata": {},
   "outputs": [
    {
     "data": {
      "text/html": [
       "<h3>Indirect sort</h3>\n",
       "<ul>\n",
       "    <li>np.argsort</li>\n",
       "    <li>np.lexsort</li>\n"
      ],
      "text/plain": [
       "<IPython.core.display.HTML object>"
      ]
     },
     "metadata": {},
     "output_type": "display_data"
    }
   ],
   "source": [
    "%%HTML\n",
    "<h3>Indirect sort</h3>\n",
    "<ul>\n",
    "    <li>np.argsort</li>\n",
    "    <li>np.lexsort</li>"
   ]
  },
  {
   "cell_type": "code",
   "execution_count": 55,
   "metadata": {},
   "outputs": [
    {
     "data": {
      "text/html": [
       "<h3>Searchsorted: <code>ndarray.searchsorted(a value or a list of value)</h3>\n"
      ],
      "text/plain": [
       "<IPython.core.display.HTML object>"
      ]
     },
     "metadata": {},
     "output_type": "display_data"
    }
   ],
   "source": [
    "%%HTML\n",
    "<h3>Searchsorted: <code>ndarray.searchsorted(a value or a list of value)</h3>"
   ]
  },
  {
   "cell_type": "code",
   "execution_count": 58,
   "metadata": {},
   "outputs": [],
   "source": [
    "A = np.array([0, 3, 5, 5, 5, 8, 9])"
   ]
  },
  {
   "cell_type": "code",
   "execution_count": 59,
   "metadata": {},
   "outputs": [
    {
     "data": {
      "text/plain": [
       "2"
      ]
     },
     "execution_count": 59,
     "metadata": {},
     "output_type": "execute_result"
    }
   ],
   "source": [
    "#bisect_left\n",
    "A.searchsorted(5, side = 'left')"
   ]
  },
  {
   "cell_type": "code",
   "execution_count": 60,
   "metadata": {},
   "outputs": [
    {
     "data": {
      "text/plain": [
       "5"
      ]
     },
     "execution_count": 60,
     "metadata": {},
     "output_type": "execute_result"
    }
   ],
   "source": [
    "#bisect_right\n",
    "A.searchsorted(5, side = 'right')"
   ]
  },
  {
   "cell_type": "code",
   "execution_count": 61,
   "metadata": {},
   "outputs": [
    {
     "data": {
      "text/html": [
       "<h3>Histogram</h3>\n"
      ],
      "text/plain": [
       "<IPython.core.display.HTML object>"
      ]
     },
     "metadata": {},
     "output_type": "display_data"
    }
   ],
   "source": [
    "%%HTML\n",
    "<h3>Histogram</h3>"
   ]
  },
  {
   "cell_type": "code",
   "execution_count": 65,
   "metadata": {},
   "outputs": [
    {
     "data": {
      "text/plain": [
       "array([5, 5, 2, 3, 1, 5, 6, 3, 5, 2, 5, 6, 1, 5, 4, 1, 5, 1, 3, 1, 4, 5,\n",
       "       4, 4, 2, 4, 6, 5, 5, 5, 4, 1, 3, 5, 4, 1, 5, 1, 6, 4, 3, 2, 5, 4,\n",
       "       4, 1, 4, 2, 3, 6, 1, 5, 1, 3, 4, 6, 5, 4, 4, 3, 4, 1, 2, 2, 4, 3,\n",
       "       4, 4, 3, 6, 3, 5, 3, 1, 6, 5, 1, 5, 5, 3, 1, 4, 2, 1, 3, 2, 4, 1,\n",
       "       6, 4, 2, 6, 2, 3, 5, 4, 6, 3, 1, 4, 4, 4, 6, 5, 6, 5, 2, 6, 1, 5,\n",
       "       1, 1, 4, 4, 2, 4, 2, 4, 5, 3, 2, 6, 4, 3, 2, 5, 3, 5, 4, 2, 3, 2,\n",
       "       5, 3, 2, 6, 3, 3, 5, 5, 2, 3, 1, 6, 6, 1, 1, 2, 1, 3, 3, 1, 4, 3,\n",
       "       5, 3, 6, 3, 1, 3, 6, 4, 4, 3, 2, 5, 1, 4, 6, 5, 1, 2, 4, 5, 2, 6,\n",
       "       1, 5, 1, 5, 5, 1, 2, 3, 5, 6, 6, 2, 2, 3, 2, 6, 3, 4, 3, 1, 2, 1,\n",
       "       2, 1, 2, 5, 1, 1, 2, 1, 1, 4, 1, 5, 1, 5, 4, 6, 6, 1, 3, 4, 4, 4,\n",
       "       5, 5, 5, 2, 5, 5, 2, 3, 2, 6, 4, 6, 2, 1, 4, 1, 6, 1, 4, 5, 6, 5,\n",
       "       2, 4, 4, 5, 4, 5, 4, 1, 6, 2, 6, 5, 6, 5, 2, 1, 2, 6, 1, 3, 6, 6,\n",
       "       2, 4, 1, 2, 5, 3, 6, 2, 1, 5, 1, 5, 1, 2, 1, 3, 3, 5, 3, 6, 1, 2,\n",
       "       5, 2, 2, 4, 4, 5, 3, 1, 3, 3, 1, 2, 3, 6, 3, 1, 4, 1, 2, 6, 5, 5,\n",
       "       2, 3, 2, 3, 4, 5, 2, 5, 6, 6, 4, 5, 1, 4, 6, 2, 2, 3, 2, 6, 5, 3,\n",
       "       5, 4, 1, 3, 5, 1, 5, 4, 1, 1, 6, 6, 1, 3, 6, 6, 3, 4, 1, 1, 3, 3,\n",
       "       3, 3, 3, 6, 4, 3, 5, 5, 2, 2, 6, 2, 3, 2, 6, 3, 6, 5, 1, 3, 2, 1,\n",
       "       6, 1, 3, 2, 1, 6, 2, 3, 5, 1, 5, 5, 1, 5, 5, 5, 3, 6, 3, 1, 2, 1,\n",
       "       5, 6, 2, 6, 1, 5, 1, 5, 5, 4, 6, 6, 2, 3, 3, 6, 5, 5, 3, 1, 1, 5,\n",
       "       3, 1, 3, 2, 4, 5, 1, 6, 6, 6, 5, 6, 4, 1, 5, 3, 5, 4, 2, 3, 6, 2,\n",
       "       3, 4, 2, 5, 6, 2, 2, 1, 5, 6, 6, 1, 1, 6, 2, 5, 1, 5, 1, 6, 4, 1,\n",
       "       6, 2, 2, 3, 4, 3, 1, 4, 1, 5, 2, 1, 3, 2, 3, 6, 4, 2, 4, 2, 5, 5,\n",
       "       1, 2, 2, 1, 3, 4, 6, 2, 2, 2, 3, 5, 4, 4, 2, 4, 3, 1, 5, 6, 1, 1,\n",
       "       2, 2, 1, 2, 6, 6, 6, 6, 4, 5, 4, 4, 4, 2, 3, 1, 4, 4, 1, 5, 6, 6,\n",
       "       1, 6, 5, 2, 4, 1, 6, 2, 4, 2, 4, 1, 3, 2, 6, 3, 1, 4, 1, 4, 3, 6,\n",
       "       3, 1, 3, 5, 6, 1, 1, 4, 1, 1, 3, 4, 5, 3, 6, 2, 1, 6, 5, 3, 4, 6,\n",
       "       3, 6, 5, 6, 6, 1, 5, 1, 1, 5, 2, 4, 1, 3, 6, 5, 5, 6, 2, 6, 5, 4,\n",
       "       3, 5, 2, 3, 5, 6, 4, 1, 4, 5, 6, 6, 1, 2, 2, 1, 6, 4, 4, 3, 1, 1,\n",
       "       1, 1, 6, 4, 3, 3, 3, 4, 5, 3, 3, 5, 4, 2, 1, 5, 3, 2, 2, 3, 5, 5,\n",
       "       5, 4, 2, 5, 5, 1, 2, 4, 3, 2, 2, 4, 4, 3, 4, 4, 5, 1, 1, 6, 1, 3,\n",
       "       5, 3, 1, 5, 4, 6, 5, 3, 2, 2, 6, 2, 2, 4, 3, 4, 3, 3, 5, 2, 2, 1,\n",
       "       1, 1, 5, 3, 6, 5, 6, 2, 1, 3, 3, 4, 4, 3, 4, 4, 4, 4, 4, 4, 2, 3,\n",
       "       3, 5, 4, 4, 1, 2, 2, 2, 3, 3, 6, 4, 2, 2, 6, 5, 2, 6, 1, 6, 1, 2,\n",
       "       5, 3, 2, 2, 6, 6, 1, 5, 2, 6, 5, 6, 4, 4, 5, 5, 6, 5, 5, 5, 4, 5,\n",
       "       2, 4, 6, 5, 1, 3, 6, 1, 4, 2, 1, 4, 2, 2, 5, 6, 2, 4, 4, 1, 5, 1,\n",
       "       4, 6, 2, 3, 2, 4, 6, 4, 4, 4, 6, 1, 3, 1, 4, 3, 3, 4, 1, 5, 2, 6,\n",
       "       3, 5, 3, 4, 2, 1, 2, 1, 4, 4, 3, 3, 4, 4, 6, 1, 5, 6, 4, 6, 6, 3,\n",
       "       3, 4, 3, 3, 2, 6, 2, 3, 2, 3, 3, 4, 5, 2, 1, 4, 1, 4, 4, 3, 3, 6,\n",
       "       4, 3, 4, 1, 3, 3, 6, 1, 6, 6, 6, 1, 2, 3, 3, 5, 2, 2, 6, 6, 1, 6,\n",
       "       1, 1, 1, 6, 1, 1, 5, 3, 2, 4, 6, 3, 2, 2, 1, 2, 1, 1, 5, 3, 6, 4,\n",
       "       6, 2, 6, 2, 5, 2, 3, 4, 5, 5, 5, 3, 5, 6, 5, 5, 1, 5, 2, 6, 5, 2,\n",
       "       1, 1, 5, 6, 5, 2, 5, 1, 5, 4, 2, 3, 2, 5, 3, 4, 6, 3, 2, 1, 6, 5,\n",
       "       4, 2, 2, 3, 4, 1, 6, 2, 4, 4, 5, 4, 3, 5, 2, 5, 2, 1, 2, 1, 6, 3,\n",
       "       5, 2, 6, 2, 5, 5, 6, 1, 6, 4, 6, 5, 1, 2, 5, 2, 1, 5, 2, 4, 1, 2,\n",
       "       4, 6, 4, 1, 5, 3, 4, 5, 5, 3, 3, 2, 6, 6, 5, 6, 3, 4, 3, 2, 4, 5,\n",
       "       2, 1, 4, 5, 5, 6, 1, 5, 2, 2], dtype=int64)"
      ]
     },
     "execution_count": 65,
     "metadata": {},
     "output_type": "execute_result"
    }
   ],
   "source": [
    "bins = np.array([0, 100, 200, 300, 400, 500])\n",
    "vals = np.random.randint(0, 600, 1000)\n",
    "pos = bins.searchsorted(vals)\n",
    "#pos[i] will tell us which bin that vals[i] belongs to\n",
    "pos"
   ]
  },
  {
   "cell_type": "code",
   "execution_count": 67,
   "metadata": {},
   "outputs": [
    {
     "data": {
      "text/html": [
       "<p>Equivalent: <span class = 'i'>np.digitize(arr)</span></p>\n"
      ],
      "text/plain": [
       "<IPython.core.display.HTML object>"
      ]
     },
     "metadata": {},
     "output_type": "display_data"
    }
   ],
   "source": [
    "%%HTML\n",
    "<p>Equivalent: <span class = 'i'>np.digitize(arr)</span></p>"
   ]
  },
  {
   "cell_type": "code",
   "execution_count": 68,
   "metadata": {},
   "outputs": [
    {
     "data": {
      "text/plain": [
       "array([5, 5, 2, 3, 1, 5, 6, 3, 5, 2, 5, 6, 1, 5, 4, 1, 5, 1, 3, 1, 4, 5,\n",
       "       4, 4, 2, 4, 6, 5, 5, 5, 4, 1, 3, 5, 4, 1, 5, 1, 6, 4, 3, 2, 5, 4,\n",
       "       4, 1, 4, 2, 3, 6, 1, 6, 1, 3, 4, 6, 5, 4, 4, 3, 4, 1, 2, 2, 4, 3,\n",
       "       4, 4, 3, 6, 3, 5, 3, 1, 6, 5, 1, 5, 5, 3, 1, 4, 2, 1, 3, 2, 4, 1,\n",
       "       6, 4, 2, 6, 2, 3, 5, 4, 6, 3, 1, 4, 4, 4, 6, 5, 6, 5, 2, 6, 1, 5,\n",
       "       1, 1, 4, 4, 2, 4, 2, 4, 5, 3, 2, 6, 4, 3, 2, 5, 3, 5, 5, 2, 3, 2,\n",
       "       5, 3, 2, 6, 3, 3, 5, 5, 2, 3, 1, 6, 6, 1, 1, 2, 1, 3, 3, 1, 4, 3,\n",
       "       5, 3, 6, 3, 1, 3, 6, 4, 4, 3, 2, 5, 1, 4, 6, 5, 1, 2, 4, 5, 2, 6,\n",
       "       1, 5, 1, 5, 5, 1, 2, 3, 5, 6, 6, 2, 2, 3, 2, 6, 3, 4, 3, 1, 2, 1,\n",
       "       2, 1, 2, 5, 1, 1, 2, 1, 1, 4, 1, 5, 1, 5, 4, 6, 6, 1, 3, 4, 4, 4,\n",
       "       5, 5, 5, 2, 5, 5, 2, 3, 2, 6, 4, 6, 2, 1, 4, 1, 6, 1, 4, 5, 6, 5,\n",
       "       2, 4, 4, 5, 4, 5, 4, 1, 6, 2, 6, 5, 6, 5, 2, 1, 2, 6, 1, 3, 6, 6,\n",
       "       2, 4, 1, 2, 5, 3, 6, 2, 1, 5, 1, 5, 1, 2, 1, 3, 3, 5, 3, 6, 1, 2,\n",
       "       5, 2, 2, 4, 4, 5, 3, 1, 3, 3, 1, 2, 3, 6, 3, 1, 4, 1, 2, 6, 5, 5,\n",
       "       2, 3, 2, 3, 4, 5, 2, 5, 6, 6, 4, 5, 1, 4, 6, 2, 2, 3, 2, 6, 5, 3,\n",
       "       5, 4, 1, 3, 5, 1, 5, 4, 1, 1, 6, 6, 1, 3, 6, 6, 3, 4, 1, 1, 3, 3,\n",
       "       3, 3, 3, 6, 4, 3, 5, 5, 2, 2, 6, 2, 3, 2, 6, 3, 6, 5, 1, 3, 2, 1,\n",
       "       6, 1, 3, 2, 1, 6, 2, 3, 5, 1, 5, 5, 1, 5, 5, 5, 3, 6, 3, 1, 2, 1,\n",
       "       5, 6, 2, 6, 1, 5, 1, 5, 5, 4, 6, 6, 2, 3, 3, 6, 5, 5, 3, 1, 1, 5,\n",
       "       3, 1, 3, 2, 4, 5, 1, 6, 6, 6, 5, 6, 4, 1, 5, 3, 5, 4, 2, 3, 6, 2,\n",
       "       3, 4, 2, 5, 6, 2, 2, 1, 5, 6, 6, 1, 1, 6, 2, 5, 1, 5, 1, 6, 4, 1,\n",
       "       6, 2, 2, 3, 4, 3, 1, 4, 1, 5, 2, 1, 3, 2, 3, 6, 4, 2, 4, 2, 5, 5,\n",
       "       1, 2, 2, 1, 3, 4, 6, 2, 2, 2, 3, 5, 4, 4, 2, 4, 3, 1, 5, 6, 1, 1,\n",
       "       2, 2, 1, 2, 6, 6, 6, 6, 4, 5, 4, 4, 4, 2, 3, 1, 4, 4, 1, 5, 6, 6,\n",
       "       1, 6, 5, 2, 4, 1, 6, 2, 4, 2, 4, 1, 3, 2, 6, 3, 1, 4, 1, 4, 3, 6,\n",
       "       3, 1, 3, 5, 6, 1, 1, 4, 1, 1, 3, 4, 5, 3, 6, 2, 1, 6, 5, 3, 4, 6,\n",
       "       3, 6, 5, 6, 6, 1, 5, 1, 1, 5, 2, 4, 1, 3, 6, 5, 5, 6, 2, 6, 5, 4,\n",
       "       3, 5, 2, 3, 5, 6, 4, 1, 4, 5, 6, 6, 1, 2, 2, 1, 6, 4, 4, 3, 1, 1,\n",
       "       1, 1, 6, 4, 3, 3, 3, 4, 5, 3, 3, 5, 4, 2, 1, 5, 3, 2, 2, 3, 5, 5,\n",
       "       5, 4, 2, 5, 5, 1, 2, 4, 3, 2, 2, 4, 4, 3, 4, 4, 5, 1, 1, 6, 1, 3,\n",
       "       5, 3, 1, 5, 4, 6, 5, 3, 2, 2, 6, 2, 2, 4, 3, 4, 3, 3, 5, 2, 2, 1,\n",
       "       1, 1, 5, 3, 6, 5, 6, 2, 1, 3, 3, 4, 4, 3, 4, 4, 4, 4, 4, 4, 2, 3,\n",
       "       3, 5, 4, 4, 1, 2, 2, 2, 3, 3, 6, 4, 2, 2, 6, 5, 2, 6, 1, 6, 1, 2,\n",
       "       5, 3, 2, 2, 6, 6, 1, 5, 2, 6, 5, 6, 4, 4, 5, 5, 6, 5, 5, 5, 4, 5,\n",
       "       2, 4, 6, 5, 1, 3, 6, 1, 4, 2, 1, 4, 2, 2, 5, 6, 2, 4, 4, 1, 5, 1,\n",
       "       4, 6, 2, 3, 2, 4, 6, 4, 4, 4, 6, 1, 3, 1, 4, 3, 3, 4, 1, 5, 2, 6,\n",
       "       3, 5, 3, 4, 2, 1, 2, 1, 5, 4, 3, 3, 4, 4, 6, 1, 5, 6, 4, 6, 6, 3,\n",
       "       3, 4, 3, 3, 2, 6, 2, 3, 2, 3, 3, 4, 5, 2, 1, 4, 1, 4, 4, 3, 3, 6,\n",
       "       4, 3, 4, 1, 3, 3, 6, 1, 6, 6, 6, 1, 2, 3, 3, 5, 2, 2, 6, 6, 1, 6,\n",
       "       1, 1, 1, 6, 1, 1, 5, 3, 2, 4, 6, 3, 2, 2, 1, 2, 1, 1, 5, 3, 6, 4,\n",
       "       6, 2, 6, 2, 5, 2, 3, 4, 5, 5, 5, 3, 5, 6, 5, 5, 1, 5, 2, 6, 5, 2,\n",
       "       1, 1, 5, 6, 5, 2, 5, 1, 5, 4, 2, 3, 2, 5, 3, 4, 6, 3, 2, 2, 6, 5,\n",
       "       4, 2, 2, 3, 4, 1, 6, 2, 4, 4, 5, 4, 3, 5, 2, 5, 2, 1, 2, 1, 6, 3,\n",
       "       5, 2, 6, 2, 5, 5, 6, 1, 6, 4, 6, 5, 1, 2, 5, 2, 1, 5, 2, 4, 1, 2,\n",
       "       4, 6, 4, 1, 5, 3, 4, 5, 5, 3, 3, 2, 6, 6, 5, 6, 3, 4, 3, 2, 4, 5,\n",
       "       2, 1, 4, 5, 5, 6, 1, 5, 2, 2], dtype=int64)"
      ]
     },
     "execution_count": 68,
     "metadata": {},
     "output_type": "execute_result"
    }
   ],
   "source": [
    "np.digitize(vals, bins)"
   ]
  },
  {
   "cell_type": "markdown",
   "metadata": {},
   "source": [
    "## Set operation"
   ]
  },
  {
   "cell_type": "code",
   "execution_count": 5,
   "metadata": {},
   "outputs": [
    {
     "data": {
      "text/html": [
       "<h2><code>np.intersect1d(arr1, arr2)</code>: <span class = 'i'>set1 & set2</span></h2>\n"
      ],
      "text/plain": [
       "<IPython.core.display.HTML object>"
      ]
     },
     "metadata": {},
     "output_type": "display_data"
    }
   ],
   "source": [
    "%%HTML\n",
    "<h2><code>np.intersect1d(arr1, arr2)</code>: <span class = 'i'>set1 & set2</span></h2>"
   ]
  },
  {
   "cell_type": "code",
   "execution_count": 4,
   "metadata": {},
   "outputs": [
    {
     "data": {
      "text/plain": [
       "array(['King'], dtype='<U5')"
      ]
     },
     "execution_count": 4,
     "metadata": {},
     "output_type": "execute_result"
    }
   ],
   "source": [
    "import numpy as np\n",
    "arr1 = ['Apple', 'Melon', 'King']\n",
    "arr2 = ['King', 'Queen', ' Jack']\n",
    "np.intersect1d(arr1, arr2)"
   ]
  },
  {
   "cell_type": "code",
   "execution_count": 12,
   "metadata": {},
   "outputs": [
    {
     "data": {
      "text/html": [
       "<h2><code>np.union1d(arr1, arr2)</code>: <span class = 'i'>set1 | set2</span></h2>\n"
      ],
      "text/plain": [
       "<IPython.core.display.HTML object>"
      ]
     },
     "metadata": {},
     "output_type": "display_data"
    }
   ],
   "source": [
    "%%HTML\n",
    "<h2><code>np.union1d(arr1, arr2)</code>: <span class = 'i'>set1 | set2</span></h2>"
   ]
  },
  {
   "cell_type": "code",
   "execution_count": 7,
   "metadata": {},
   "outputs": [
    {
     "data": {
      "text/plain": [
       "array([' Jack', 'Apple', 'King', 'Melon', 'Queen'], dtype='<U5')"
      ]
     },
     "execution_count": 7,
     "metadata": {},
     "output_type": "execute_result"
    }
   ],
   "source": [
    "np.union1d(arr1, arr2)"
   ]
  },
  {
   "cell_type": "code",
   "execution_count": 15,
   "metadata": {},
   "outputs": [
    {
     "data": {
      "text/html": [
       "<h2><code>np.setxor1d(arr1, arr2)</code>: <span class = 'i'>set1 ^ set2</span></h2>\n"
      ],
      "text/plain": [
       "<IPython.core.display.HTML object>"
      ]
     },
     "metadata": {},
     "output_type": "display_data"
    }
   ],
   "source": [
    "%%HTML\n",
    "<h2><code>np.setxor1d(arr1, arr2)</code>: <span class = 'i'>set1 ^ set2</span></h2>"
   ]
  },
  {
   "cell_type": "code",
   "execution_count": 16,
   "metadata": {},
   "outputs": [
    {
     "data": {
      "text/plain": [
       "array([' Jack', 'Apple', 'Melon', 'Queen'], dtype='<U5')"
      ]
     },
     "execution_count": 16,
     "metadata": {},
     "output_type": "execute_result"
    }
   ],
   "source": [
    "np.setxor1d(arr1, arr2)"
   ]
  },
  {
   "cell_type": "code",
   "execution_count": 17,
   "metadata": {},
   "outputs": [
    {
     "data": {
      "text/html": [
       "<h2><code>np.in1d(arr1, arr2)</code>: <span class = 'i'>Series.isin([val1, val2, ...])</span></h2>\n"
      ],
      "text/plain": [
       "<IPython.core.display.HTML object>"
      ]
     },
     "metadata": {},
     "output_type": "display_data"
    }
   ],
   "source": [
    "%%HTML\n",
    "<h2><code>np.in1d(arr1, arr2)</code>: <span class = 'i'>Series.isin([val1, val2, ...])</span></h2>"
   ]
  },
  {
   "cell_type": "code",
   "execution_count": 18,
   "metadata": {},
   "outputs": [
    {
     "data": {
      "text/plain": [
       "array([False, False,  True])"
      ]
     },
     "execution_count": 18,
     "metadata": {},
     "output_type": "execute_result"
    }
   ],
   "source": [
    "np.in1d(arr1, ['King', 'Queen', 'Knight', 'Thief'])"
   ]
  },
  {
   "cell_type": "code",
   "execution_count": 14,
   "metadata": {},
   "outputs": [],
   "source": [
    "np.**1d?"
   ]
  }
 ],
 "metadata": {
  "kernelspec": {
   "display_name": "Python 3",
   "language": "python",
   "name": "python3"
  },
  "language_info": {
   "codemirror_mode": {
    "name": "ipython",
    "version": 3
   },
   "file_extension": ".py",
   "mimetype": "text/x-python",
   "name": "python",
   "nbconvert_exporter": "python",
   "pygments_lexer": "ipython3",
   "version": "3.7.3"
  }
 },
 "nbformat": 4,
 "nbformat_minor": 2
}
