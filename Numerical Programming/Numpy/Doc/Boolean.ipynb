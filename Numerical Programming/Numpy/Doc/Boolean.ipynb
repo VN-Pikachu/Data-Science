{
 "cells": [
  {
   "cell_type": "code",
   "execution_count": 1,
   "metadata": {},
   "outputs": [],
   "source": [
    "import numpy as np"
   ]
  },
  {
   "cell_type": "markdown",
   "metadata": {},
   "source": [
    "# np.any"
   ]
  },
  {
   "cell_type": "code",
   "execution_count": 3,
   "metadata": {},
   "outputs": [],
   "source": [
    "arr = np.array([\n",
    "    [True, False],\n",
    "    [False, False],\n",
    "    [True, True],\n",
    "])"
   ]
  },
  {
   "cell_type": "code",
   "execution_count": 7,
   "metadata": {},
   "outputs": [
    {
     "data": {
      "text/plain": [
       "array([[ True],\n",
       "       [False],\n",
       "       [ True]])"
      ]
     },
     "execution_count": 7,
     "metadata": {},
     "output_type": "execute_result"
    }
   ],
   "source": [
    "np.any(arr, axis = 1, keepdims=True)"
   ]
  },
  {
   "cell_type": "code",
   "execution_count": 9,
   "metadata": {},
   "outputs": [
    {
     "data": {
      "text/plain": [
       "array([ True,  True])"
      ]
     },
     "execution_count": 9,
     "metadata": {},
     "output_type": "execute_result"
    }
   ],
   "source": [
    "np.any(arr, axis = 0)"
   ]
  },
  {
   "cell_type": "code",
   "execution_count": 11,
   "metadata": {},
   "outputs": [
    {
     "data": {
      "text/plain": [
       "True"
      ]
     },
     "execution_count": 11,
     "metadata": {},
     "output_type": "execute_result"
    }
   ],
   "source": [
    "np.any(arr)"
   ]
  },
  {
   "cell_type": "markdown",
   "metadata": {},
   "source": [
    "# np.all"
   ]
  },
  {
   "cell_type": "code",
   "execution_count": 12,
   "metadata": {},
   "outputs": [
    {
     "data": {
      "text/plain": [
       "False"
      ]
     },
     "execution_count": 12,
     "metadata": {},
     "output_type": "execute_result"
    }
   ],
   "source": [
    "np.all(arr)"
   ]
  },
  {
   "cell_type": "code",
   "execution_count": 13,
   "metadata": {},
   "outputs": [
    {
     "data": {
      "text/plain": [
       "array([False, False,  True])"
      ]
     },
     "execution_count": 13,
     "metadata": {},
     "output_type": "execute_result"
    }
   ],
   "source": [
    "np.all(arr, axis = 1)"
   ]
  },
  {
   "cell_type": "code",
   "execution_count": 14,
   "metadata": {},
   "outputs": [
    {
     "data": {
      "text/plain": [
       "array([[False, False]])"
      ]
     },
     "execution_count": 14,
     "metadata": {},
     "output_type": "execute_result"
    }
   ],
   "source": [
    "np.all(arr, axis = 0, keepdims = True)"
   ]
  },
  {
   "cell_type": "markdown",
   "metadata": {},
   "source": [
    "# ndarray.any"
   ]
  },
  {
   "cell_type": "code",
   "execution_count": 15,
   "metadata": {},
   "outputs": [
    {
     "data": {
      "text/plain": [
       "True"
      ]
     },
     "execution_count": 15,
     "metadata": {},
     "output_type": "execute_result"
    }
   ],
   "source": [
    "arr.any()"
   ]
  },
  {
   "cell_type": "markdown",
   "metadata": {},
   "source": [
    "# ndarray.all"
   ]
  },
  {
   "cell_type": "code",
   "execution_count": 16,
   "metadata": {},
   "outputs": [
    {
     "data": {
      "text/plain": [
       "array([False, False])"
      ]
     },
     "execution_count": 16,
     "metadata": {},
     "output_type": "execute_result"
    }
   ],
   "source": [
    "arr.all(0)"
   ]
  },
  {
   "cell_type": "markdown",
   "metadata": {},
   "source": [
    "# np.nonzero"
   ]
  },
  {
   "cell_type": "code",
   "execution_count": 2,
   "metadata": {},
   "outputs": [
    {
     "name": "stdout",
     "output_type": "stream",
     "text": [
      " nonzero(a)\n",
      "\n",
      "Return the indices of the elements that are non-zero.\n",
      "\n",
      "Returns a tuple of arrays, one for each dimension of `a`,\n",
      "containing the indices of the non-zero elements in that\n",
      "dimension. The values in `a` are always tested and returned in\n",
      "row-major, C-style order. The corresponding non-zero\n",
      "values can be obtained with::\n",
      "\n",
      "    a[nonzero(a)]\n",
      "\n",
      "To group the indices by element, rather than dimension, use::\n",
      "\n",
      "    transpose(nonzero(a))\n",
      "\n",
      "The result of this is always a 2-D array, with a row for\n",
      "each non-zero element.\n",
      "\n",
      "Parameters\n",
      "----------\n",
      "a : array_like\n",
      "    Input array.\n",
      "\n",
      "Returns\n",
      "-------\n",
      "tuple_of_arrays : tuple\n",
      "    Indices of elements that are non-zero.\n",
      "\n",
      "See Also\n",
      "--------\n",
      "flatnonzero :\n",
      "    Return indices that are non-zero in the flattened version of the input\n",
      "    array.\n",
      "ndarray.nonzero :\n",
      "    Equivalent ndarray method.\n",
      "count_nonzero :\n",
      "    Counts the number of non-zero elements in the input array.\n",
      "\n",
      "Examples\n",
      "--------\n",
      ">>> x = np.array([[3, 0, 0], [0, 4, 0], [5, 6, 0]])\n",
      ">>> x\n",
      "array([[3, 0, 0],\n",
      "       [0, 4, 0],\n",
      "       [5, 6, 0]])\n",
      ">>> np.nonzero(x)\n",
      "(array([0, 1, 2, 2]), array([0, 1, 0, 1]))\n",
      "\n",
      ">>> x[np.nonzero(x)]\n",
      "array([3, 4, 5, 6])\n",
      ">>> np.transpose(np.nonzero(x))\n",
      "array([[0, 0],\n",
      "       [1, 1],\n",
      "       [2, 0],\n",
      "       [2, 1])\n",
      "\n",
      "A common use for ``nonzero`` is to find the indices of an array, where\n",
      "a condition is True.  Given an array `a`, the condition `a` > 3 is a\n",
      "boolean array and since False is interpreted as 0, np.nonzero(a > 3)\n",
      "yields the indices of the `a` where the condition is true.\n",
      "\n",
      ">>> a = np.array([[1, 2, 3], [4, 5, 6], [7, 8, 9]])\n",
      ">>> a > 3\n",
      "array([[False, False, False],\n",
      "       [ True,  True,  True],\n",
      "       [ True,  True,  True]])\n",
      ">>> np.nonzero(a > 3)\n",
      "(array([1, 1, 1, 2, 2, 2]), array([0, 1, 2, 0, 1, 2]))\n",
      "\n",
      "Using this result to index `a` is equivalent to using the mask directly:\n",
      "\n",
      ">>> a[np.nonzero(a > 3)]\n",
      "array([4, 5, 6, 7, 8, 9])\n",
      ">>> a[a > 3]  # prefer this spelling\n",
      "array([4, 5, 6, 7, 8, 9])\n",
      "\n",
      "``nonzero`` can also be called as a method of the array.\n",
      "\n",
      ">>> (a > 3).nonzero()\n",
      "(array([1, 1, 1, 2, 2, 2]), array([0, 1, 2, 0, 1, 2]))\n"
     ]
    }
   ],
   "source": [
    "np.info(np.nonzero)"
   ]
  },
  {
   "cell_type": "code",
   "execution_count": 5,
   "metadata": {},
   "outputs": [
    {
     "data": {
      "text/plain": [
       "(array([1, 3, 4], dtype=int64),)"
      ]
     },
     "execution_count": 5,
     "metadata": {},
     "output_type": "execute_result"
    }
   ],
   "source": [
    "#get indices of values that are not 0\n",
    "np.nonzero([0,1,0,2,3])"
   ]
  },
  {
   "cell_type": "code",
   "execution_count": 4,
   "metadata": {},
   "outputs": [
    {
     "data": {
      "text/plain": [
       "(array([1, 2], dtype=int64),)"
      ]
     },
     "execution_count": 4,
     "metadata": {},
     "output_type": "execute_result"
    }
   ],
   "source": [
    "a = np.array([-1,12,5,3])\n",
    "#get indices of values > 4\n",
    "np.nonzero(a > 4)"
   ]
  },
  {
   "cell_type": "markdown",
   "metadata": {},
   "source": [
    "# Checking Functions"
   ]
  },
  {
   "cell_type": "markdown",
   "metadata": {},
   "source": [
    "```python\n",
    "np.is_busday\n",
    "np.isclose\n",
    "np.iscomplex\n",
    "np.iscomplexobj\n",
    "np.isfinite\n",
    "np.isfortran\n",
    "np.isin\n",
    "np.isinf\n",
    "np.isnan\n",
    "np.isnat\n",
    "np.isneginf\n",
    "np.isposinf\n",
    "np.isreal\n",
    "np.isrealobj\n",
    "np.isscalar\n",
    "np.issctype\n",
    "np.issubclass_\n",
    "np.issubdtype\n",
    "np.issubsctype\n",
    "```"
   ]
  },
  {
   "cell_type": "code",
   "execution_count": 14,
   "metadata": {},
   "outputs": [
    {
     "data": {
      "text/plain": [
       "array([ True,  True, False])"
      ]
     },
     "execution_count": 14,
     "metadata": {},
     "output_type": "execute_result"
    }
   ],
   "source": [
    "#check for infinite(both positive and negative)\n",
    "np.isinf([np.inf, -np.inf, 0])"
   ]
  },
  {
   "cell_type": "code",
   "execution_count": 12,
   "metadata": {},
   "outputs": [
    {
     "data": {
      "text/plain": [
       "array([False,  True, False])"
      ]
     },
     "execution_count": 12,
     "metadata": {},
     "output_type": "execute_result"
    }
   ],
   "source": [
    "#check for positive infinite\n",
    "np.isposinf([1, np.inf, 2])"
   ]
  },
  {
   "cell_type": "code",
   "execution_count": 9,
   "metadata": {},
   "outputs": [
    {
     "data": {
      "text/plain": [
       "array([ True, False, False])"
      ]
     },
     "execution_count": 9,
     "metadata": {},
     "output_type": "execute_result"
    }
   ],
   "source": [
    "#check for negative infinite\n",
    "np.isneginf([-np.inf, np.inf, 0])"
   ]
  },
  {
   "cell_type": "code",
   "execution_count": 10,
   "metadata": {},
   "outputs": [
    {
     "data": {
      "text/plain": [
       "array([False, False,  True])"
      ]
     },
     "execution_count": 10,
     "metadata": {},
     "output_type": "execute_result"
    }
   ],
   "source": [
    "#check for finite\n",
    "np.isfinite([np.inf, -np.inf, 0])"
   ]
  },
  {
   "cell_type": "markdown",
   "metadata": {},
   "source": [
    "# Check for equibrium"
   ]
  },
  {
   "cell_type": "markdown",
   "metadata": {},
   "source": [
    "```python\n",
    "np.isclose(a, b, rtol=1e-05, atol=1e-08, equal_nan=False)\n",
    "```"
   ]
  },
  {
   "cell_type": "code",
   "execution_count": 24,
   "metadata": {},
   "outputs": [
    {
     "name": "stdout",
     "output_type": "stream",
     "text": [
      "Help on function isclose in module numpy:\n",
      "\n",
      "isclose(a, b, rtol=1e-05, atol=1e-08, equal_nan=False)\n",
      "    Returns a boolean array where two arrays are element-wise equal within a\n",
      "    tolerance.\n",
      "    \n",
      "    The tolerance values are positive, typically very small numbers.  The\n",
      "    relative difference (`rtol` * abs(`b`)) and the absolute difference\n",
      "    `atol` are added together to compare against the absolute difference\n",
      "    between `a` and `b`.\n",
      "    \n",
      "    .. warning:: The default `atol` is not appropriate for comparing numbers\n",
      "                 that are much smaller than one (see Notes).\n",
      "    \n",
      "    Parameters\n",
      "    ----------\n",
      "    a, b : array_like\n",
      "        Input arrays to compare.\n",
      "    rtol : float\n",
      "        The relative tolerance parameter (see Notes).\n",
      "    atol : float\n",
      "        The absolute tolerance parameter (see Notes).\n",
      "    equal_nan : bool\n",
      "        Whether to compare NaN's as equal.  If True, NaN's in `a` will be\n",
      "        considered equal to NaN's in `b` in the output array.\n",
      "    \n",
      "    Returns\n",
      "    -------\n",
      "    y : array_like\n",
      "        Returns a boolean array of where `a` and `b` are equal within the\n",
      "        given tolerance. If both `a` and `b` are scalars, returns a single\n",
      "        boolean value.\n",
      "    \n",
      "    See Also\n",
      "    --------\n",
      "    allclose\n",
      "    \n",
      "    Notes\n",
      "    -----\n",
      "    .. versionadded:: 1.7.0\n",
      "    \n",
      "    For finite values, isclose uses the following equation to test whether\n",
      "    two floating point values are equivalent.\n",
      "    \n",
      "     absolute(`a` - `b`) <= (`atol` + `rtol` * absolute(`b`))\n",
      "    \n",
      "    Unlike the built-in `math.isclose`, the above equation is not symmetric\n",
      "    in `a` and `b` -- it assumes `b` is the reference value -- so that\n",
      "    `isclose(a, b)` might be different from `isclose(b, a)`. Furthermore,\n",
      "    the default value of atol is not zero, and is used to determine what\n",
      "    small values should be considered close to zero. The default value is\n",
      "    appropriate for expected values of order unity: if the expected values\n",
      "    are significantly smaller than one, it can result in false positives.\n",
      "    `atol` should be carefully selected for the use case at hand. A zero value\n",
      "    for `atol` will result in `False` if either `a` or `b` is zero.\n",
      "    \n",
      "    Examples\n",
      "    --------\n",
      "    >>> np.isclose([1e10,1e-7], [1.00001e10,1e-8])\n",
      "    array([True, False])\n",
      "    >>> np.isclose([1e10,1e-8], [1.00001e10,1e-9])\n",
      "    array([True, True])\n",
      "    >>> np.isclose([1e10,1e-8], [1.0001e10,1e-9])\n",
      "    array([False, True])\n",
      "    >>> np.isclose([1.0, np.nan], [1.0, np.nan])\n",
      "    array([True, False])\n",
      "    >>> np.isclose([1.0, np.nan], [1.0, np.nan], equal_nan=True)\n",
      "    array([True, True])\n",
      "    >>> np.isclose([1e-8, 1e-7], [0.0, 0.0])\n",
      "    array([ True, False], dtype=bool)\n",
      "    >>> np.isclose([1e-100, 1e-7], [0.0, 0.0], atol=0.0)\n",
      "    array([False, False], dtype=bool)\n",
      "    >>> np.isclose([1e-10, 1e-10], [1e-20, 0.0])\n",
      "    array([ True,  True], dtype=bool)\n",
      "    >>> np.isclose([1e-10, 1e-10], [1e-20, 0.999999e-10], atol=0.0)\n",
      "    array([False,  True], dtype=bool)\n",
      "\n"
     ]
    }
   ],
   "source": [
    "help(np.isclose)"
   ]
  },
  {
   "cell_type": "code",
   "execution_count": 26,
   "metadata": {},
   "outputs": [
    {
     "data": {
      "text/plain": [
       "array([ True,  True])"
      ]
     },
     "execution_count": 26,
     "metadata": {},
     "output_type": "execute_result"
    }
   ],
   "source": [
    "#if equal_nan = True --> compare nan vs nan will return True\n",
    "np.isclose([1, np.nan], [1 + 1e-8, np.nan], equal_nan = True)"
   ]
  },
  {
   "cell_type": "code",
   "execution_count": 22,
   "metadata": {},
   "outputs": [
    {
     "data": {
      "text/plain": [
       "array([ True,  True,  True,  True,  True,  True,  True,  True,  True,\n",
       "        True,  True,  True,  True,  True,  True,  True,  True,  True,\n",
       "        True,  True,  True,  True,  True,  True,  True,  True,  True,\n",
       "        True,  True,  True,  True,  True,  True,  True,  True,  True,\n",
       "        True,  True,  True,  True,  True,  True,  True,  True,  True,\n",
       "        True,  True,  True,  True,  True,  True,  True,  True,  True,\n",
       "        True,  True,  True,  True,  True,  True,  True,  True,  True,\n",
       "        True,  True,  True,  True,  True,  True,  True,  True,  True,\n",
       "        True,  True,  True,  True,  True,  True,  True,  True,  True,\n",
       "        True,  True,  True,  True,  True,  True,  True,  True,  True,\n",
       "        True,  True,  True,  True,  True,  True,  True,  True,  True,\n",
       "        True])"
      ]
     },
     "execution_count": 22,
     "metadata": {},
     "output_type": "execute_result"
    }
   ],
   "source": [
    "#check if 2 values are closed\n",
    "f = lambda x:  x * x\n",
    "df = lambda x: 2 * x\n",
    "\n",
    "def es_df(x, eps = 1e-7):\n",
    "    return (f(x + eps) - f(x - eps)) / (2 * eps)\n",
    "\n",
    "xs = np.random.rand(100)\n",
    "grad = df(xs)\n",
    "es_grad = es_df(xs)\n",
    "\n",
    "np.isclose(grad, es_grad)"
   ]
  },
  {
   "cell_type": "markdown",
   "metadata": {},
   "source": [
    "# np.allclose"
   ]
  },
  {
   "cell_type": "markdown",
   "metadata": {},
   "source": [
    "```python\n",
    "np.allclose(a, b, rtol=1e-05, atol=1e-08, equal_nan=False)\n",
    "```"
   ]
  },
  {
   "cell_type": "code",
   "execution_count": 20,
   "metadata": {},
   "outputs": [
    {
     "data": {
      "text/plain": [
       "True"
      ]
     },
     "execution_count": 20,
     "metadata": {},
     "output_type": "execute_result"
    }
   ],
   "source": [
    "np.allclose(grad, es_grad)"
   ]
  },
  {
   "cell_type": "markdown",
   "metadata": {},
   "source": [
    "# Comparation"
   ]
  },
  {
   "cell_type": "markdown",
   "metadata": {},
   "source": [
    "**`np.equal`**, **`np.greater`**, **`np.greater_equal`**, **`np.less`**, **`np.less_equal`**"
   ]
  },
  {
   "cell_type": "code",
   "execution_count": 27,
   "metadata": {},
   "outputs": [
    {
     "data": {
      "text/plain": [
       "array([ True,  True])"
      ]
     },
     "execution_count": 27,
     "metadata": {},
     "output_type": "execute_result"
    }
   ],
   "source": [
    "np.equal([1,2], [1,2])"
   ]
  },
  {
   "cell_type": "code",
   "execution_count": 29,
   "metadata": {},
   "outputs": [
    {
     "data": {
      "text/plain": [
       "array([ True, False])"
      ]
     },
     "execution_count": 29,
     "metadata": {},
     "output_type": "execute_result"
    }
   ],
   "source": [
    "np.less([1,5], [2,3])"
   ]
  },
  {
   "cell_type": "code",
   "execution_count": null,
   "metadata": {},
   "outputs": [],
   "source": []
  }
 ],
 "metadata": {
  "kernelspec": {
   "display_name": "Python 3",
   "language": "python",
   "name": "python3"
  },
  "language_info": {
   "codemirror_mode": {
    "name": "ipython",
    "version": 3
   },
   "file_extension": ".py",
   "mimetype": "text/x-python",
   "name": "python",
   "nbconvert_exporter": "python",
   "pygments_lexer": "ipython3",
   "version": "3.7.9"
  }
 },
 "nbformat": 4,
 "nbformat_minor": 2
}
