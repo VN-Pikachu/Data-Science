{
 "cells": [
  {
   "cell_type": "markdown",
   "id": "occasional-elite",
   "metadata": {},
   "source": [
    "<https://www.gormanalysis.com/blog/python-numpy-for-your-grandma-3-7-random/>"
   ]
  },
  {
   "cell_type": "markdown",
   "id": "linear-laugh",
   "metadata": {},
   "source": [
    "Very good tutorial. The whole point is to have reproducible code, use **`np.random.default_rng()`** as a random number generator"
   ]
  },
  {
   "cell_type": "code",
   "execution_count": null,
   "id": "painted-latter",
   "metadata": {},
   "outputs": [],
   "source": []
  }
 ],
 "metadata": {
  "kernelspec": {
   "display_name": "Python 3",
   "language": "python",
   "name": "python3"
  },
  "language_info": {
   "codemirror_mode": {
    "name": "ipython",
    "version": 3
   },
   "file_extension": ".py",
   "mimetype": "text/x-python",
   "name": "python",
   "nbconvert_exporter": "python",
   "pygments_lexer": "ipython3",
   "version": "3.7.9"
  }
 },
 "nbformat": 4,
 "nbformat_minor": 5
}
