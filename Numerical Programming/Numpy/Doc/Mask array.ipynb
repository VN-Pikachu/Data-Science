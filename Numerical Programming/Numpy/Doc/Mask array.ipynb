{
 "cells": [
  {
   "cell_type": "markdown",
   "metadata": {},
   "source": [
    "Dealing with missing data: Any operations with Missing value will result in a missing value"
   ]
  },
  {
   "cell_type": "code",
   "execution_count": 1,
   "metadata": {},
   "outputs": [],
   "source": [
    "import numpy as np"
   ]
  },
  {
   "cell_type": "markdown",
   "metadata": {},
   "source": [
    "# Create a mask array"
   ]
  },
  {
   "cell_type": "markdown",
   "metadata": {},
   "source": [
    "```python\n",
    "np.ma.array(\n",
    "    data,\n",
    "    dtype=None,\n",
    "    copy=False,\n",
    "    order=None,\n",
    "    mask=False,\n",
    "    fill_value=None,\n",
    "    keep_mask=True,\n",
    "    hard_mask=False,\n",
    "    shrink=True,\n",
    "    subok=True,\n",
    "    ndmin=0,\n",
    ")\n",
    "```"
   ]
  },
  {
   "cell_type": "code",
   "execution_count": 7,
   "metadata": {},
   "outputs": [
    {
     "data": {
      "text/plain": [
       "masked_array(data=[--, 2.0, --, 4.0],\n",
       "             mask=[ True, False,  True, False],\n",
       "       fill_value=1e+20,\n",
       "            dtype=float32)"
      ]
     },
     "execution_count": 7,
     "metadata": {},
     "output_type": "execute_result"
    }
   ],
   "source": [
    "x = np.ma.array([1,2,3,4], mask = [True, False, True, False], dtype = np.float32)\n",
    "x"
   ]
  },
  {
   "cell_type": "code",
   "execution_count": 8,
   "metadata": {},
   "outputs": [
    {
     "data": {
      "text/plain": [
       "masked_array(data=[--, --, 7.0, --],\n",
       "             mask=[ True,  True, False,  True],\n",
       "       fill_value=1e+20)"
      ]
     },
     "execution_count": 8,
     "metadata": {},
     "output_type": "execute_result"
    }
   ],
   "source": [
    "y = np.ma.array([5,6,7,8], mask = [True, True, False, True], dtype = np.float64)\n",
    "y"
   ]
  },
  {
   "cell_type": "code",
   "execution_count": 9,
   "metadata": {},
   "outputs": [
    {
     "data": {
      "text/plain": [
       "masked_array(data=[--, --, --, --],\n",
       "             mask=[ True,  True,  True,  True],\n",
       "       fill_value=1e+20,\n",
       "            dtype=float64)"
      ]
     },
     "execution_count": 9,
     "metadata": {},
     "output_type": "execute_result"
    }
   ],
   "source": [
    "x + y"
   ]
  },
  {
   "cell_type": "code",
   "execution_count": 5,
   "metadata": {},
   "outputs": [
    {
     "data": {
      "text/plain": [
       "masked_array(data=[1, --, --, 4],\n",
       "             mask=[False,  True,  True, False],\n",
       "       fill_value=999999)"
      ]
     },
     "execution_count": 5,
     "metadata": {},
     "output_type": "execute_result"
    }
   ],
   "source": [
    "data = [1,2,3,4]\n",
    "v = np.ma.array(data, mask = [0,1,1,0])\n",
    "v"
   ]
  },
  {
   "cell_type": "code",
   "execution_count": 6,
   "metadata": {},
   "outputs": [
    {
     "data": {
      "text/plain": [
       "2.5"
      ]
     },
     "execution_count": 6,
     "metadata": {},
     "output_type": "execute_result"
    }
   ],
   "source": [
    "v.mean() #mask array ignore masked data --> v.mean() = (1 + 4) / 2 = 2.5"
   ]
  },
  {
   "cell_type": "markdown",
   "metadata": {},
   "source": [
    "# Modify the mask"
   ]
  },
  {
   "cell_type": "markdown",
   "metadata": {},
   "source": [
    "assign variable to **`np.ma.masked`**"
   ]
  },
  {
   "cell_type": "code",
   "execution_count": 11,
   "metadata": {},
   "outputs": [
    {
     "data": {
      "text/plain": [
       "masked_array(data=[--, --, --, 4.0],\n",
       "             mask=[ True,  True,  True, False],\n",
       "       fill_value=1e+20)"
      ]
     },
     "execution_count": 11,
     "metadata": {},
     "output_type": "execute_result"
    }
   ],
   "source": [
    "a = np.ma.array([1,2,3,4], mask = [1,1,1, 0], dtype = np.float)\n",
    "a"
   ]
  },
  {
   "cell_type": "code",
   "execution_count": 12,
   "metadata": {},
   "outputs": [
    {
     "data": {
      "text/plain": [
       "masked_array(data=[--, --, --, 4.0],\n",
       "             mask=[ True,  True,  True, False],\n",
       "       fill_value=1e+20)"
      ]
     },
     "execution_count": 12,
     "metadata": {},
     "output_type": "execute_result"
    }
   ],
   "source": [
    "#mask the first value\n",
    "a[0] = np.ma.masked\n",
    "a"
   ]
  },
  {
   "cell_type": "code",
   "execution_count": 13,
   "metadata": {},
   "outputs": [
    {
     "data": {
      "text/plain": [
       "masked_array(data=[9.0, --, --, 4.0],\n",
       "             mask=[False,  True,  True, False],\n",
       "       fill_value=1e+20)"
      ]
     },
     "execution_count": 13,
     "metadata": {},
     "output_type": "execute_result"
    }
   ],
   "source": [
    "#the mask is cleared on assignment\n",
    "a[0] = 9\n",
    "a"
   ]
  },
  {
   "cell_type": "markdown",
   "metadata": {},
   "source": [
    "The masked entries can be filled with a given value to get an usual array back:"
   ]
  },
  {
   "cell_type": "code",
   "execution_count": 17,
   "metadata": {},
   "outputs": [
    {
     "data": {
      "text/plain": [
       "array([ 9., -1., -1.,  4.])"
      ]
     },
     "execution_count": 17,
     "metadata": {},
     "output_type": "execute_result"
    }
   ],
   "source": [
    "a.filled(-1)"
   ]
  },
  {
   "cell_type": "markdown",
   "metadata": {},
   "source": [
    "The mask can also be cleared:"
   ]
  },
  {
   "cell_type": "code",
   "execution_count": 18,
   "metadata": {},
   "outputs": [
    {
     "data": {
      "text/plain": [
       "masked_array(data=[9.0, --, --, 4.0],\n",
       "             mask=[False,  True,  True, False],\n",
       "       fill_value=1e+20)"
      ]
     },
     "execution_count": 18,
     "metadata": {},
     "output_type": "execute_result"
    }
   ],
   "source": [
    "a"
   ]
  },
  {
   "cell_type": "code",
   "execution_count": 19,
   "metadata": {},
   "outputs": [
    {
     "data": {
      "text/plain": [
       "masked_array(data=[9.0, 2.0, 3.0, 4.0],\n",
       "             mask=[False, False, False, False],\n",
       "       fill_value=1e+20)"
      ]
     },
     "execution_count": 19,
     "metadata": {},
     "output_type": "execute_result"
    }
   ],
   "source": [
    "#clear mask, restore data\n",
    "a.mask = np.ma.nomask\n",
    "a"
   ]
  },
  {
   "cell_type": "markdown",
   "metadata": {},
   "source": [
    "# Mask Functions"
   ]
  },
  {
   "cell_type": "markdown",
   "metadata": {},
   "source": [
    " Like ndarray functions but operate on mask array"
   ]
  },
  {
   "cell_type": "code",
   "execution_count": 11,
   "metadata": {},
   "outputs": [
    {
     "data": {
      "text/plain": [
       "masked_array(data=[1.0, --, 2.0, --],\n",
       "             mask=[False,  True, False,  True],\n",
       "       fill_value=1e+20)"
      ]
     },
     "execution_count": 11,
     "metadata": {},
     "output_type": "execute_result"
    }
   ],
   "source": [
    "np.ma.sqrt([1,-1,4,-4])"
   ]
  },
  {
   "cell_type": "code",
   "execution_count": 12,
   "metadata": {},
   "outputs": [
    {
     "data": {
      "text/plain": [
       "['MAError',\n",
       " 'MaskError',\n",
       " 'MaskType',\n",
       " 'MaskedArray',\n",
       " '__all__',\n",
       " '__builtins__',\n",
       " '__cached__',\n",
       " '__doc__',\n",
       " '__file__',\n",
       " '__loader__',\n",
       " '__name__',\n",
       " '__package__',\n",
       " '__path__',\n",
       " '__spec__',\n",
       " 'abs',\n",
       " 'absolute',\n",
       " 'absolute_import',\n",
       " 'add',\n",
       " 'all',\n",
       " 'allclose',\n",
       " 'allequal',\n",
       " 'alltrue',\n",
       " 'amax',\n",
       " 'amin',\n",
       " 'angle',\n",
       " 'anom',\n",
       " 'anomalies',\n",
       " 'any',\n",
       " 'append',\n",
       " 'apply_along_axis',\n",
       " 'apply_over_axes',\n",
       " 'arange',\n",
       " 'arccos',\n",
       " 'arccosh',\n",
       " 'arcsin',\n",
       " 'arcsinh',\n",
       " 'arctan',\n",
       " 'arctan2',\n",
       " 'arctanh',\n",
       " 'argmax',\n",
       " 'argmin',\n",
       " 'argsort',\n",
       " 'around',\n",
       " 'array',\n",
       " 'asanyarray',\n",
       " 'asarray',\n",
       " 'atleast_1d',\n",
       " 'atleast_2d',\n",
       " 'atleast_3d',\n",
       " 'average',\n",
       " 'bitwise_and',\n",
       " 'bitwise_or',\n",
       " 'bitwise_xor',\n",
       " 'bool_',\n",
       " 'ceil',\n",
       " 'choose',\n",
       " 'clip',\n",
       " 'clump_masked',\n",
       " 'clump_unmasked',\n",
       " 'column_stack',\n",
       " 'common_fill_value',\n",
       " 'compress',\n",
       " 'compress_cols',\n",
       " 'compress_nd',\n",
       " 'compress_rowcols',\n",
       " 'compress_rows',\n",
       " 'compressed',\n",
       " 'concatenate',\n",
       " 'conjugate',\n",
       " 'convolve',\n",
       " 'copy',\n",
       " 'core',\n",
       " 'corrcoef',\n",
       " 'correlate',\n",
       " 'cos',\n",
       " 'cosh',\n",
       " 'count',\n",
       " 'count_masked',\n",
       " 'cov',\n",
       " 'cumprod',\n",
       " 'cumsum',\n",
       " 'default_fill_value',\n",
       " 'diag',\n",
       " 'diagflat',\n",
       " 'diagonal',\n",
       " 'diff',\n",
       " 'divide',\n",
       " 'division',\n",
       " 'dot',\n",
       " 'dstack',\n",
       " 'dump',\n",
       " 'dumps',\n",
       " 'ediff1d',\n",
       " 'empty',\n",
       " 'empty_like',\n",
       " 'equal',\n",
       " 'exp',\n",
       " 'expand_dims',\n",
       " 'extras',\n",
       " 'fabs',\n",
       " 'filled',\n",
       " 'fix_invalid',\n",
       " 'flatnotmasked_contiguous',\n",
       " 'flatnotmasked_edges',\n",
       " 'flatten_mask',\n",
       " 'flatten_structured_array',\n",
       " 'floor',\n",
       " 'floor_divide',\n",
       " 'fmod',\n",
       " 'frombuffer',\n",
       " 'fromflex',\n",
       " 'fromfunction',\n",
       " 'getdata',\n",
       " 'getmask',\n",
       " 'getmaskarray',\n",
       " 'greater',\n",
       " 'greater_equal',\n",
       " 'harden_mask',\n",
       " 'hsplit',\n",
       " 'hstack',\n",
       " 'hypot',\n",
       " 'identity',\n",
       " 'ids',\n",
       " 'in1d',\n",
       " 'indices',\n",
       " 'inner',\n",
       " 'innerproduct',\n",
       " 'intersect1d',\n",
       " 'isMA',\n",
       " 'isMaskedArray',\n",
       " 'is_mask',\n",
       " 'is_masked',\n",
       " 'isarray',\n",
       " 'isin',\n",
       " 'left_shift',\n",
       " 'less',\n",
       " 'less_equal',\n",
       " 'load',\n",
       " 'loads',\n",
       " 'log',\n",
       " 'log10',\n",
       " 'log2',\n",
       " 'logical_and',\n",
       " 'logical_not',\n",
       " 'logical_or',\n",
       " 'logical_xor',\n",
       " 'make_mask',\n",
       " 'make_mask_descr',\n",
       " 'make_mask_none',\n",
       " 'mask_cols',\n",
       " 'mask_or',\n",
       " 'mask_rowcols',\n",
       " 'mask_rows',\n",
       " 'masked',\n",
       " 'masked_all',\n",
       " 'masked_all_like',\n",
       " 'masked_array',\n",
       " 'masked_equal',\n",
       " 'masked_greater',\n",
       " 'masked_greater_equal',\n",
       " 'masked_inside',\n",
       " 'masked_invalid',\n",
       " 'masked_less',\n",
       " 'masked_less_equal',\n",
       " 'masked_not_equal',\n",
       " 'masked_object',\n",
       " 'masked_outside',\n",
       " 'masked_print_option',\n",
       " 'masked_singleton',\n",
       " 'masked_values',\n",
       " 'masked_where',\n",
       " 'max',\n",
       " 'maximum',\n",
       " 'maximum_fill_value',\n",
       " 'mean',\n",
       " 'median',\n",
       " 'min',\n",
       " 'minimum',\n",
       " 'minimum_fill_value',\n",
       " 'mod',\n",
       " 'mr_',\n",
       " 'multiply',\n",
       " 'mvoid',\n",
       " 'ndim',\n",
       " 'negative',\n",
       " 'nomask',\n",
       " 'nonzero',\n",
       " 'not_equal',\n",
       " 'notmasked_contiguous',\n",
       " 'notmasked_edges',\n",
       " 'ones',\n",
       " 'outer',\n",
       " 'outerproduct',\n",
       " 'polyfit',\n",
       " 'power',\n",
       " 'print_function',\n",
       " 'prod',\n",
       " 'product',\n",
       " 'ptp',\n",
       " 'put',\n",
       " 'putmask',\n",
       " 'rank',\n",
       " 'ravel',\n",
       " 'remainder',\n",
       " 'repeat',\n",
       " 'reshape',\n",
       " 'resize',\n",
       " 'right_shift',\n",
       " 'round',\n",
       " 'round_',\n",
       " 'row_stack',\n",
       " 'set_fill_value',\n",
       " 'setdiff1d',\n",
       " 'setxor1d',\n",
       " 'shape',\n",
       " 'sin',\n",
       " 'sinh',\n",
       " 'size',\n",
       " 'soften_mask',\n",
       " 'sometrue',\n",
       " 'sort',\n",
       " 'sqrt',\n",
       " 'squeeze',\n",
       " 'stack',\n",
       " 'std',\n",
       " 'subtract',\n",
       " 'sum',\n",
       " 'swapaxes',\n",
       " 'take',\n",
       " 'tan',\n",
       " 'tanh',\n",
       " 'test',\n",
       " 'trace',\n",
       " 'transpose',\n",
       " 'true_divide',\n",
       " 'union1d',\n",
       " 'unique',\n",
       " 'vander',\n",
       " 'var',\n",
       " 'vstack',\n",
       " 'where',\n",
       " 'zeros']"
      ]
     },
     "execution_count": 12,
     "metadata": {},
     "output_type": "execute_result"
    }
   ],
   "source": [
    "dir(np.ma)"
   ]
  },
  {
   "cell_type": "code",
   "execution_count": 20,
   "metadata": {},
   "outputs": [
    {
     "name": "stdout",
     "output_type": "stream",
     "text": [
      "[-- 0.0]\n"
     ]
    },
    {
     "name": "stderr",
     "output_type": "stream",
     "text": [
      "C:\\Users\\dell\\Anaconda3\\lib\\site-packages\\ipykernel_launcher.py:2: RuntimeWarning: invalid value encountered in log\n",
      "  \n"
     ]
    }
   ],
   "source": [
    "try:\n",
    "    np.log([-1, 1])\n",
    "except:\n",
    "    pass\n",
    "else:\n",
    "    print(np.ma.log([-1,1])) #we can take the log of -1, so the result is masked at the position of -1"
   ]
  },
  {
   "cell_type": "code",
   "execution_count": null,
   "metadata": {},
   "outputs": [],
   "source": []
  }
 ],
 "metadata": {
  "kernelspec": {
   "display_name": "Python 3",
   "language": "python",
   "name": "python3"
  },
  "language_info": {
   "codemirror_mode": {
    "name": "ipython",
    "version": 3
   },
   "file_extension": ".py",
   "mimetype": "text/x-python",
   "name": "python",
   "nbconvert_exporter": "python",
   "pygments_lexer": "ipython3",
   "version": "3.7.3"
  }
 },
 "nbformat": 4,
 "nbformat_minor": 2
}
