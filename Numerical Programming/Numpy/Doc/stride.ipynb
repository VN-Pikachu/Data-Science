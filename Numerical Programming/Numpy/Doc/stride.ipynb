{
 "cells": [
  {
   "cell_type": "markdown",
   "id": "excess-visiting",
   "metadata": {},
   "source": [
    "Reference: <https://www.gormanalysis.com/blog/python-numpy-for-your-grandma-6-1-as_strided/>"
   ]
  },
  {
   "cell_type": "code",
   "execution_count": 2,
   "id": "tamil-diagram",
   "metadata": {},
   "outputs": [],
   "source": [
    "import numpy as np\n",
    "from numpy.lib.stride_tricks import as_strided"
   ]
  },
  {
   "cell_type": "markdown",
   "id": "requested-precipitation",
   "metadata": {},
   "source": [
    ">Calculate the sum of window of size 3"
   ]
  },
  {
   "cell_type": "code",
   "execution_count": 5,
   "id": "published-affiliation",
   "metadata": {},
   "outputs": [
    {
     "data": {
      "text/plain": [
       "array([[0, 1, 2],\n",
       "       [1, 2, 3],\n",
       "       [2, 3, 4],\n",
       "       [3, 4, 5],\n",
       "       [4, 5, 6],\n",
       "       [5, 6, 7],\n",
       "       [6, 7, 8],\n",
       "       [7, 8, 9]])"
      ]
     },
     "execution_count": 5,
     "metadata": {},
     "output_type": "execute_result"
    }
   ],
   "source": [
    "n = 10\n",
    "values = np.arange(10)\n",
    "window_size = 3\n",
    "\n",
    "target = as_strided(values, shape=(n - window_size + 1, window_size), strides=(values.itemsize, values.itemsize))\n",
    "# target is just a view of values, so it does not cost space\n",
    "target"
   ]
  },
  {
   "cell_type": "code",
   "execution_count": 6,
   "id": "ordered-asset",
   "metadata": {},
   "outputs": [
    {
     "data": {
      "text/plain": [
       "array([ 3,  6,  9, 12, 15, 18, 21, 24])"
      ]
     },
     "execution_count": 6,
     "metadata": {},
     "output_type": "execute_result"
    }
   ],
   "source": [
    "target.sum(1)"
   ]
  },
  {
   "cell_type": "markdown",
   "id": "younger-croatia",
   "metadata": {},
   "source": [
    ">Consider a one-dimensional array Z, build a two-dimensional array whose first row is `(Z[0],Z[1],Z[2])` and each subsequent row is shifted by 1 (last row should be `(Z[-3],Z[-2],Z[-1])` "
   ]
  },
  {
   "cell_type": "code",
   "execution_count": 8,
   "id": "tough-function",
   "metadata": {},
   "outputs": [
    {
     "data": {
      "text/plain": [
       "array([[0, 1, 2],\n",
       "       [1, 2, 3],\n",
       "       [2, 3, 4],\n",
       "       [3, 4, 5],\n",
       "       [4, 5, 6],\n",
       "       [5, 6, 7],\n",
       "       [6, 7, 8],\n",
       "       [7, 8, 9]])"
      ]
     },
     "execution_count": 8,
     "metadata": {},
     "output_type": "execute_result"
    }
   ],
   "source": [
    "Z = np.arange(10)\n",
    "\n",
    "as_strided(Z, shape=(8, 3), strides=(Z.itemsize, Z.itemsize))"
   ]
  },
  {
   "cell_type": "markdown",
   "id": "united-nickel",
   "metadata": {},
   "source": [
    ">Write a function to roll window of size `k` over a 1-D array"
   ]
  },
  {
   "cell_type": "code",
   "execution_count": 9,
   "id": "incident-treaty",
   "metadata": {},
   "outputs": [
    {
     "data": {
      "text/plain": [
       "array([[0, 1, 2, 3],\n",
       "       [1, 2, 3, 4],\n",
       "       [2, 3, 4, 5],\n",
       "       [3, 4, 5, 6],\n",
       "       [4, 5, 6, 7],\n",
       "       [5, 6, 7, 8],\n",
       "       [6, 7, 8, 9]])"
      ]
     },
     "execution_count": 9,
     "metadata": {},
     "output_type": "execute_result"
    }
   ],
   "source": [
    "def roll(arr, window_size):\n",
    "    # arr must be an ndarray\n",
    "    return as_strided(arr, shape=(arr.shape[0] - window_size + 1, window_size), strides=(arr.itemsize, arr.itemsize))\n",
    "\n",
    "roll(Z, 4)"
   ]
  },
  {
   "cell_type": "markdown",
   "id": "backed-feelings",
   "metadata": {},
   "source": [
    ">Extract all the contiguous 3x3 blocks from a random 10x10 matrix "
   ]
  },
  {
   "cell_type": "code",
   "execution_count": 11,
   "id": "previous-equivalent",
   "metadata": {},
   "outputs": [
    {
     "name": "stdout",
     "output_type": "stream",
     "text": [
      "[[[[0 2 1]\n",
      "   [0 0 4]\n",
      "   [3 2 3]]\n",
      "\n",
      "  [[2 1 1]\n",
      "   [0 4 0]\n",
      "   [2 3 1]]\n",
      "\n",
      "  [[1 1 2]\n",
      "   [4 0 4]\n",
      "   [3 1 2]]\n",
      "\n",
      "  [[1 2 1]\n",
      "   [0 4 0]\n",
      "   [1 2 4]]\n",
      "\n",
      "  [[2 1 1]\n",
      "   [4 0 0]\n",
      "   [2 4 1]]\n",
      "\n",
      "  [[1 1 2]\n",
      "   [0 0 3]\n",
      "   [4 1 1]]\n",
      "\n",
      "  [[1 2 0]\n",
      "   [0 3 2]\n",
      "   [1 1 1]]\n",
      "\n",
      "  [[2 0 2]\n",
      "   [3 2 2]\n",
      "   [1 1 4]]]\n",
      "\n",
      "\n",
      " [[[0 0 4]\n",
      "   [3 2 3]\n",
      "   [0 3 1]]\n",
      "\n",
      "  [[0 4 0]\n",
      "   [2 3 1]\n",
      "   [3 1 0]]\n",
      "\n",
      "  [[4 0 4]\n",
      "   [3 1 2]\n",
      "   [1 0 3]]\n",
      "\n",
      "  [[0 4 0]\n",
      "   [1 2 4]\n",
      "   [0 3 0]]\n",
      "\n",
      "  [[4 0 0]\n",
      "   [2 4 1]\n",
      "   [3 0 1]]\n",
      "\n",
      "  [[0 0 3]\n",
      "   [4 1 1]\n",
      "   [0 1 0]]\n",
      "\n",
      "  [[0 3 2]\n",
      "   [1 1 1]\n",
      "   [1 0 0]]\n",
      "\n",
      "  [[3 2 2]\n",
      "   [1 1 4]\n",
      "   [0 0 1]]]\n",
      "\n",
      "\n",
      " [[[3 2 3]\n",
      "   [0 3 1]\n",
      "   [4 2 4]]\n",
      "\n",
      "  [[2 3 1]\n",
      "   [3 1 0]\n",
      "   [2 4 2]]\n",
      "\n",
      "  [[3 1 2]\n",
      "   [1 0 3]\n",
      "   [4 2 1]]\n",
      "\n",
      "  [[1 2 4]\n",
      "   [0 3 0]\n",
      "   [2 1 3]]\n",
      "\n",
      "  [[2 4 1]\n",
      "   [3 0 1]\n",
      "   [1 3 3]]\n",
      "\n",
      "  [[4 1 1]\n",
      "   [0 1 0]\n",
      "   [3 3 4]]\n",
      "\n",
      "  [[1 1 1]\n",
      "   [1 0 0]\n",
      "   [3 4 4]]\n",
      "\n",
      "  [[1 1 4]\n",
      "   [0 0 1]\n",
      "   [4 4 4]]]\n",
      "\n",
      "\n",
      " [[[0 3 1]\n",
      "   [4 2 4]\n",
      "   [3 1 3]]\n",
      "\n",
      "  [[3 1 0]\n",
      "   [2 4 2]\n",
      "   [1 3 1]]\n",
      "\n",
      "  [[1 0 3]\n",
      "   [4 2 1]\n",
      "   [3 1 3]]\n",
      "\n",
      "  [[0 3 0]\n",
      "   [2 1 3]\n",
      "   [1 3 1]]\n",
      "\n",
      "  [[3 0 1]\n",
      "   [1 3 3]\n",
      "   [3 1 2]]\n",
      "\n",
      "  [[0 1 0]\n",
      "   [3 3 4]\n",
      "   [1 2 1]]\n",
      "\n",
      "  [[1 0 0]\n",
      "   [3 4 4]\n",
      "   [2 1 4]]\n",
      "\n",
      "  [[0 0 1]\n",
      "   [4 4 4]\n",
      "   [1 4 1]]]\n",
      "\n",
      "\n",
      " [[[4 2 4]\n",
      "   [3 1 3]\n",
      "   [1 3 1]]\n",
      "\n",
      "  [[2 4 2]\n",
      "   [1 3 1]\n",
      "   [3 1 4]]\n",
      "\n",
      "  [[4 2 1]\n",
      "   [3 1 3]\n",
      "   [1 4 1]]\n",
      "\n",
      "  [[2 1 3]\n",
      "   [1 3 1]\n",
      "   [4 1 2]]\n",
      "\n",
      "  [[1 3 3]\n",
      "   [3 1 2]\n",
      "   [1 2 2]]\n",
      "\n",
      "  [[3 3 4]\n",
      "   [1 2 1]\n",
      "   [2 2 0]]\n",
      "\n",
      "  [[3 4 4]\n",
      "   [2 1 4]\n",
      "   [2 0 1]]\n",
      "\n",
      "  [[4 4 4]\n",
      "   [1 4 1]\n",
      "   [0 1 4]]]\n",
      "\n",
      "\n",
      " [[[3 1 3]\n",
      "   [1 3 1]\n",
      "   [0 3 4]]\n",
      "\n",
      "  [[1 3 1]\n",
      "   [3 1 4]\n",
      "   [3 4 2]]\n",
      "\n",
      "  [[3 1 3]\n",
      "   [1 4 1]\n",
      "   [4 2 1]]\n",
      "\n",
      "  [[1 3 1]\n",
      "   [4 1 2]\n",
      "   [2 1 1]]\n",
      "\n",
      "  [[3 1 2]\n",
      "   [1 2 2]\n",
      "   [1 1 2]]\n",
      "\n",
      "  [[1 2 1]\n",
      "   [2 2 0]\n",
      "   [1 2 2]]\n",
      "\n",
      "  [[2 1 4]\n",
      "   [2 0 1]\n",
      "   [2 2 2]]\n",
      "\n",
      "  [[1 4 1]\n",
      "   [0 1 4]\n",
      "   [2 2 4]]]\n",
      "\n",
      "\n",
      " [[[1 3 1]\n",
      "   [0 3 4]\n",
      "   [2 1 1]]\n",
      "\n",
      "  [[3 1 4]\n",
      "   [3 4 2]\n",
      "   [1 1 1]]\n",
      "\n",
      "  [[1 4 1]\n",
      "   [4 2 1]\n",
      "   [1 1 1]]\n",
      "\n",
      "  [[4 1 2]\n",
      "   [2 1 1]\n",
      "   [1 1 3]]\n",
      "\n",
      "  [[1 2 2]\n",
      "   [1 1 2]\n",
      "   [1 3 3]]\n",
      "\n",
      "  [[2 2 0]\n",
      "   [1 2 2]\n",
      "   [3 3 3]]\n",
      "\n",
      "  [[2 0 1]\n",
      "   [2 2 2]\n",
      "   [3 3 0]]\n",
      "\n",
      "  [[0 1 4]\n",
      "   [2 2 4]\n",
      "   [3 0 0]]]\n",
      "\n",
      "\n",
      " [[[0 3 4]\n",
      "   [2 1 1]\n",
      "   [3 1 3]]\n",
      "\n",
      "  [[3 4 2]\n",
      "   [1 1 1]\n",
      "   [1 3 0]]\n",
      "\n",
      "  [[4 2 1]\n",
      "   [1 1 1]\n",
      "   [3 0 4]]\n",
      "\n",
      "  [[2 1 1]\n",
      "   [1 1 3]\n",
      "   [0 4 1]]\n",
      "\n",
      "  [[1 1 2]\n",
      "   [1 3 3]\n",
      "   [4 1 0]]\n",
      "\n",
      "  [[1 2 2]\n",
      "   [3 3 3]\n",
      "   [1 0 0]]\n",
      "\n",
      "  [[2 2 2]\n",
      "   [3 3 0]\n",
      "   [0 0 0]]\n",
      "\n",
      "  [[2 2 4]\n",
      "   [3 0 0]\n",
      "   [0 0 3]]]]\n"
     ]
    }
   ],
   "source": [
    "# Author: Chris Barker\n",
    "\n",
    "Z = np.random.randint(0,5,(10,10))\n",
    "n = 3\n",
    "i = 1 + (Z.shape[0]-3)\n",
    "j = 1 + (Z.shape[1]-3)\n",
    "C = as_strided(Z, shape=(i, j, n, n), strides=Z.strides + Z.strides)\n",
    "print(C)"
   ]
  },
  {
   "cell_type": "code",
   "execution_count": null,
   "id": "caroline-school",
   "metadata": {},
   "outputs": [],
   "source": []
  }
 ],
 "metadata": {
  "kernelspec": {
   "display_name": "Python 3",
   "language": "python",
   "name": "python3"
  },
  "language_info": {
   "codemirror_mode": {
    "name": "ipython",
    "version": 3
   },
   "file_extension": ".py",
   "mimetype": "text/x-python",
   "name": "python",
   "nbconvert_exporter": "python",
   "pygments_lexer": "ipython3",
   "version": "3.7.9"
  }
 },
 "nbformat": 4,
 "nbformat_minor": 5
}
