{
 "cells": [
  {
   "cell_type": "code",
   "execution_count": 1,
   "metadata": {},
   "outputs": [],
   "source": [
    "import numpy as np\n",
    "from numpy import testing"
   ]
  },
  {
   "cell_type": "markdown",
   "metadata": {},
   "source": [
    "# Assert Functions"
   ]
  },
  {
   "cell_type": "markdown",
   "metadata": {},
   "source": [
    "Unit tests usually use functions, which assert something as part of the test. When doing\n",
    "numerical calculations, often we have the fundamental issue of trying to `compare floatingpoint numbers that are almost equal`. For integers, comparison is a trivial operation, but for\n",
    "floating-point numbers it is not, because of the inexact representation by computers. The\n",
    "NumPy testing package has a number of utility functions that test whether a precondition\n",
    "is true or not, taking into account the problem of floating-point comparisons. "
   ]
  },
  {
   "cell_type": "markdown",
   "metadata": {},
   "source": [
    "```python\n",
    "testing.assert_\n",
    "testing.assert_allclose\n",
    "testing.assert_almost_equal\n",
    "testing.assert_approx_equal\n",
    "testing.assert_array_almost_equal\n",
    "testing.assert_array_almost_equal_nulp\n",
    "testing.assert_array_compare\n",
    "testing.assert_array_equal\n",
    "testing.assert_array_less\n",
    "testing.assert_array_max_ulp\n",
    "testing.assert_equal\n",
    "testing.assert_no_gc_cycles\n",
    "testing.assert_no_warnings\n",
    "testing.assert_raises\n",
    "testing.assert_raises_regex\n",
    "testing.assert_string_equal\n",
    "testing.assert_warns\n",
    "```"
   ]
  },
  {
   "cell_type": "code",
   "execution_count": 20,
   "metadata": {},
   "outputs": [],
   "source": [
    "x1 = 0.123456789\n",
    "x2 = 0.123456780"
   ]
  },
  {
   "cell_type": "markdown",
   "metadata": {},
   "source": [
    "### assert all close"
   ]
  },
  {
   "cell_type": "markdown",
   "metadata": {},
   "source": [
    "Same as **`np.allclose()`**, raise error when it is not true"
   ]
  },
  {
   "cell_type": "markdown",
   "metadata": {},
   "source": [
    "```python\n",
    "testing.assert_allclose(\n",
    "    actual,\n",
    "    desired,\n",
    "    rtol=1e-07,\n",
    "    atol=0,\n",
    "    equal_nan=True,\n",
    "    err_msg='',\n",
    "    verbose=True,\n",
    ")\n",
    "```"
   ]
  },
  {
   "cell_type": "code",
   "execution_count": 22,
   "metadata": {},
   "outputs": [
    {
     "name": "stdout",
     "output_type": "stream",
     "text": [
      " assert_allclose(actual, desired, rtol=1e-07, atol=0, equal_nan=True,\n",
      "                 err_msg='', verbose=True)\n",
      "\n",
      "Raises an AssertionError if two objects are not equal up to desired\n",
      "tolerance.\n",
      "\n",
      "The test is equivalent to ``allclose(actual, desired, rtol, atol)``.\n",
      "It compares the difference between `actual` and `desired` to\n",
      "``atol + rtol * abs(desired)``.\n",
      "\n",
      ".. versionadded:: 1.5.0\n",
      "\n",
      "Parameters\n",
      "----------\n",
      "actual : array_like\n",
      "    Array obtained.\n",
      "desired : array_like\n",
      "    Array desired.\n",
      "rtol : float, optional\n",
      "    Relative tolerance.\n",
      "atol : float, optional\n",
      "    Absolute tolerance.\n",
      "equal_nan : bool, optional.\n",
      "    If True, NaNs will compare equal.\n",
      "err_msg : str, optional\n",
      "    The error message to be printed in case of failure.\n",
      "verbose : bool, optional\n",
      "    If True, the conflicting values are appended to the error message.\n",
      "\n",
      "Raises\n",
      "------\n",
      "AssertionError\n",
      "    If actual and desired are not equal up to specified precision.\n",
      "\n",
      "See Also\n",
      "--------\n",
      "assert_array_almost_equal_nulp, assert_array_max_ulp\n",
      "\n",
      "Examples\n",
      "--------\n",
      ">>> x = [1e-5, 1e-3, 1e-1]\n",
      ">>> y = np.arccos(np.cos(x))\n",
      ">>> np.testing.assert_allclose(x, y, rtol=1e-5, atol=0)\n"
     ]
    }
   ],
   "source": [
    "np.info(testing.assert_allclose)"
   ]
  },
  {
   "cell_type": "code",
   "execution_count": 23,
   "metadata": {},
   "outputs": [],
   "source": [
    "testing.assert_allclose(x1, x2)"
   ]
  },
  {
   "cell_type": "code",
   "execution_count": 29,
   "metadata": {},
   "outputs": [],
   "source": [
    "x = [1e-5, 1e-3, 1e-1]\n",
    "y = np.arccos(np.cos(x))\n",
    "\n",
    "testing.assert_allclose(x, y, rtol = 1e-7, atol = 0)"
   ]
  },
  {
   "cell_type": "markdown",
   "metadata": {},
   "source": [
    "### assert almost equal"
   ]
  },
  {
   "cell_type": "markdown",
   "metadata": {},
   "source": [
    "you have two numbers that are almost equal. let's check"
   ]
  },
  {
   "cell_type": "markdown",
   "metadata": {},
   "source": [
    "```python\n",
    "testing.assert_almost_equal(\n",
    "    actual,\n",
    "    desired,\n",
    "    decimal=7,\n",
    "    err_msg='',\n",
    "    verbose=True,\n",
    ")\n",
    "```"
   ]
  },
  {
   "cell_type": "code",
   "execution_count": 7,
   "metadata": {},
   "outputs": [],
   "source": [
    "#Call the function with low precision (up to 7 decimal places):\n",
    "testing.assert_almost_equal(x1, x2, decimal = 7, err_msg = 'floating issue')"
   ]
  },
  {
   "cell_type": "code",
   "execution_count": 10,
   "metadata": {},
   "outputs": [
    {
     "ename": "AssertionError",
     "evalue": "\nArrays are not almost equal to 9 decimals floating issue\n ACTUAL: 0.123456789\n DESIRED: 0.12345678",
     "output_type": "error",
     "traceback": [
      "\u001b[1;31m---------------------------------------------------------------------------\u001b[0m",
      "\u001b[1;31mAssertionError\u001b[0m                            Traceback (most recent call last)",
      "\u001b[1;32m<ipython-input-10-c7fcfea8cd8e>\u001b[0m in \u001b[0;36m<module>\u001b[1;34m\u001b[0m\n\u001b[0;32m      1\u001b[0m \u001b[1;31m#Call the function with low precision (up to 8 decimal places):\u001b[0m\u001b[1;33m\u001b[0m\u001b[1;33m\u001b[0m\u001b[1;33m\u001b[0m\u001b[0m\n\u001b[1;32m----> 2\u001b[1;33m \u001b[0mtesting\u001b[0m\u001b[1;33m.\u001b[0m\u001b[0massert_almost_equal\u001b[0m\u001b[1;33m(\u001b[0m\u001b[0mx1\u001b[0m\u001b[1;33m,\u001b[0m \u001b[0mx2\u001b[0m\u001b[1;33m,\u001b[0m \u001b[0mdecimal\u001b[0m \u001b[1;33m=\u001b[0m \u001b[1;36m9\u001b[0m\u001b[1;33m,\u001b[0m \u001b[0merr_msg\u001b[0m \u001b[1;33m=\u001b[0m \u001b[1;34m'floating issue'\u001b[0m\u001b[1;33m)\u001b[0m\u001b[1;33m\u001b[0m\u001b[1;33m\u001b[0m\u001b[0m\n\u001b[0m",
      "\u001b[1;32m~\\Anaconda3\\lib\\site-packages\\numpy\\testing\\_private\\utils.py\u001b[0m in \u001b[0;36massert_almost_equal\u001b[1;34m(actual, desired, decimal, err_msg, verbose)\u001b[0m\n\u001b[0;32m    586\u001b[0m         \u001b[1;32mpass\u001b[0m\u001b[1;33m\u001b[0m\u001b[1;33m\u001b[0m\u001b[0m\n\u001b[0;32m    587\u001b[0m     \u001b[1;32mif\u001b[0m \u001b[0mabs\u001b[0m\u001b[1;33m(\u001b[0m\u001b[0mdesired\u001b[0m \u001b[1;33m-\u001b[0m \u001b[0mactual\u001b[0m\u001b[1;33m)\u001b[0m \u001b[1;33m>=\u001b[0m \u001b[1;36m1.5\u001b[0m \u001b[1;33m*\u001b[0m \u001b[1;36m10.0\u001b[0m\u001b[1;33m**\u001b[0m\u001b[1;33m(\u001b[0m\u001b[1;33m-\u001b[0m\u001b[0mdecimal\u001b[0m\u001b[1;33m)\u001b[0m\u001b[1;33m:\u001b[0m\u001b[1;33m\u001b[0m\u001b[1;33m\u001b[0m\u001b[0m\n\u001b[1;32m--> 588\u001b[1;33m         \u001b[1;32mraise\u001b[0m \u001b[0mAssertionError\u001b[0m\u001b[1;33m(\u001b[0m\u001b[0m_build_err_msg\u001b[0m\u001b[1;33m(\u001b[0m\u001b[1;33m)\u001b[0m\u001b[1;33m)\u001b[0m\u001b[1;33m\u001b[0m\u001b[1;33m\u001b[0m\u001b[0m\n\u001b[0m\u001b[0;32m    589\u001b[0m \u001b[1;33m\u001b[0m\u001b[0m\n\u001b[0;32m    590\u001b[0m \u001b[1;33m\u001b[0m\u001b[0m\n",
      "\u001b[1;31mAssertionError\u001b[0m: \nArrays are not almost equal to 9 decimals floating issue\n ACTUAL: 0.123456789\n DESIRED: 0.12345678"
     ]
    }
   ],
   "source": [
    "#Call the function with low precision (up to 9 decimal places):\n",
    "testing.assert_almost_equal(x1, x2, decimal = 9, err_msg = 'floating issue')"
   ]
  },
  {
   "cell_type": "markdown",
   "metadata": {},
   "source": [
    "### approximately equal number"
   ]
  },
  {
   "cell_type": "markdown",
   "metadata": {},
   "source": [
    "The **`assert_approx_equal()`** function raises an exception if two numbers are not equal\n",
    "up to a certain number of significant digits.  \n",
    "The function raises an exception triggered by the\n",
    "following condition:  \n",
    "**`abs(actual - expected) >= exp10(-(significant - 1))`**"
   ]
  },
  {
   "cell_type": "markdown",
   "metadata": {},
   "source": [
    "```python\n",
    "testing.assert_approx_equal(\n",
    "    actual,\n",
    "    desired,\n",
    "    significant=7,\n",
    "    err_msg='',\n",
    "    verbose=True,\n",
    ")\n",
    "Docstring:\n",
    "Raises an AssertionError if two items are not equal up to significant\n",
    "digits.\n",
    "```"
   ]
  },
  {
   "cell_type": "code",
   "execution_count": 16,
   "metadata": {},
   "outputs": [],
   "source": [
    "#8 significant digits\n",
    "testing.assert_approx_equal(x1, x2, significant=8)"
   ]
  },
  {
   "cell_type": "code",
   "execution_count": 17,
   "metadata": {},
   "outputs": [
    {
     "ename": "AssertionError",
     "evalue": "\nItems are not equal to 9 significant digits:\n ACTUAL: 0.123456789\n DESIRED: 0.12345678",
     "output_type": "error",
     "traceback": [
      "\u001b[1;31m---------------------------------------------------------------------------\u001b[0m",
      "\u001b[1;31mAssertionError\u001b[0m                            Traceback (most recent call last)",
      "\u001b[1;32m<ipython-input-17-148b9d29d2eb>\u001b[0m in \u001b[0;36m<module>\u001b[1;34m\u001b[0m\n\u001b[0;32m      1\u001b[0m \u001b[1;31m#9 significant digits\u001b[0m\u001b[1;33m\u001b[0m\u001b[1;33m\u001b[0m\u001b[1;33m\u001b[0m\u001b[0m\n\u001b[1;32m----> 2\u001b[1;33m \u001b[0mtesting\u001b[0m\u001b[1;33m.\u001b[0m\u001b[0massert_approx_equal\u001b[0m\u001b[1;33m(\u001b[0m\u001b[0mx1\u001b[0m\u001b[1;33m,\u001b[0m \u001b[0mx2\u001b[0m\u001b[1;33m,\u001b[0m \u001b[0msignificant\u001b[0m\u001b[1;33m=\u001b[0m\u001b[1;36m9\u001b[0m\u001b[1;33m)\u001b[0m\u001b[1;33m\u001b[0m\u001b[1;33m\u001b[0m\u001b[0m\n\u001b[0m",
      "\u001b[1;32m~\\Anaconda3\\lib\\site-packages\\numpy\\testing\\_private\\utils.py\u001b[0m in \u001b[0;36massert_approx_equal\u001b[1;34m(actual, desired, significant, err_msg, verbose)\u001b[0m\n\u001b[0;32m    685\u001b[0m         \u001b[1;32mpass\u001b[0m\u001b[1;33m\u001b[0m\u001b[1;33m\u001b[0m\u001b[0m\n\u001b[0;32m    686\u001b[0m     \u001b[1;32mif\u001b[0m \u001b[0mnp\u001b[0m\u001b[1;33m.\u001b[0m\u001b[0mabs\u001b[0m\u001b[1;33m(\u001b[0m\u001b[0msc_desired\u001b[0m \u001b[1;33m-\u001b[0m \u001b[0msc_actual\u001b[0m\u001b[1;33m)\u001b[0m \u001b[1;33m>=\u001b[0m \u001b[0mnp\u001b[0m\u001b[1;33m.\u001b[0m\u001b[0mpower\u001b[0m\u001b[1;33m(\u001b[0m\u001b[1;36m10.\u001b[0m\u001b[1;33m,\u001b[0m \u001b[1;33m-\u001b[0m\u001b[1;33m(\u001b[0m\u001b[0msignificant\u001b[0m\u001b[1;33m-\u001b[0m\u001b[1;36m1\u001b[0m\u001b[1;33m)\u001b[0m\u001b[1;33m)\u001b[0m\u001b[1;33m:\u001b[0m\u001b[1;33m\u001b[0m\u001b[1;33m\u001b[0m\u001b[0m\n\u001b[1;32m--> 687\u001b[1;33m         \u001b[1;32mraise\u001b[0m \u001b[0mAssertionError\u001b[0m\u001b[1;33m(\u001b[0m\u001b[0mmsg\u001b[0m\u001b[1;33m)\u001b[0m\u001b[1;33m\u001b[0m\u001b[1;33m\u001b[0m\u001b[0m\n\u001b[0m\u001b[0;32m    688\u001b[0m \u001b[1;33m\u001b[0m\u001b[0m\n\u001b[0;32m    689\u001b[0m \u001b[1;33m\u001b[0m\u001b[0m\n",
      "\u001b[1;31mAssertionError\u001b[0m: \nItems are not equal to 9 significant digits:\n ACTUAL: 0.123456789\n DESIRED: 0.12345678"
     ]
    }
   ],
   "source": [
    "#9 significant digits\n",
    "testing.assert_approx_equal(x1, x2, significant=9)"
   ]
  },
  {
   "cell_type": "markdown",
   "metadata": {},
   "source": [
    "### assert array almost equal nulp, assert array almost max nulp"
   ]
  },
  {
   "cell_type": "code",
   "execution_count": 26,
   "metadata": {},
   "outputs": [
    {
     "name": "stdout",
     "output_type": "stream",
     "text": [
      " assert_array_almost_equal_nulp(x, y, nulp=1)\n",
      "\n",
      "Compare two arrays relatively to their spacing.\n",
      "\n",
      "This is a relatively robust method to compare two arrays whose amplitude\n",
      "is variable.\n",
      "\n",
      "Parameters\n",
      "----------\n",
      "x, y : array_like\n",
      "    Input arrays.\n",
      "nulp : int, optional\n",
      "    The maximum number of unit in the last place for tolerance (see Notes).\n",
      "    Default is 1.\n",
      "\n",
      "Returns\n",
      "-------\n",
      "None\n",
      "\n",
      "Raises\n",
      "------\n",
      "AssertionError\n",
      "    If the spacing between `x` and `y` for one or more elements is larger\n",
      "    than `nulp`.\n",
      "\n",
      "See Also\n",
      "--------\n",
      "assert_array_max_ulp : Check that all items of arrays differ in at most\n",
      "    N Units in the Last Place.\n",
      "spacing : Return the distance between x and the nearest adjacent number.\n",
      "\n",
      "Notes\n",
      "-----\n",
      "An assertion is raised if the following condition is not met::\n",
      "\n",
      "    abs(x - y) <= nulps * spacing(maximum(abs(x), abs(y)))\n",
      "\n",
      "Examples\n",
      "--------\n",
      ">>> x = np.array([1., 1e-10, 1e-20])\n",
      ">>> eps = np.finfo(x.dtype).eps\n",
      ">>> np.testing.assert_array_almost_equal_nulp(x, x*eps/2 + x)\n",
      "\n",
      ">>> np.testing.assert_array_almost_equal_nulp(x, x*eps + x)\n",
      "Traceback (most recent call last):\n",
      "  ...\n",
      "AssertionError: X and Y are not equal to 1 ULP (max is 2)\n"
     ]
    }
   ],
   "source": [
    "np.info(testing.assert_array_almost_equal_nulp)"
   ]
  },
  {
   "cell_type": "code",
   "execution_count": 36,
   "metadata": {},
   "outputs": [
    {
     "ename": "AssertionError",
     "evalue": "X and Y are not equal to 1 ULP (max is 2.44231e+08)",
     "output_type": "error",
     "traceback": [
      "\u001b[1;31m---------------------------------------------------------------------------\u001b[0m",
      "\u001b[1;31mAssertionError\u001b[0m                            Traceback (most recent call last)",
      "\u001b[1;32m<ipython-input-36-939a2817128c>\u001b[0m in \u001b[0;36m<module>\u001b[1;34m\u001b[0m\n\u001b[0;32m      2\u001b[0m \u001b[0my\u001b[0m \u001b[1;33m=\u001b[0m \u001b[0mnp\u001b[0m\u001b[1;33m.\u001b[0m\u001b[0marccos\u001b[0m\u001b[1;33m(\u001b[0m\u001b[0mnp\u001b[0m\u001b[1;33m.\u001b[0m\u001b[0mcos\u001b[0m\u001b[1;33m(\u001b[0m\u001b[0mx\u001b[0m\u001b[1;33m)\u001b[0m\u001b[1;33m)\u001b[0m\u001b[1;33m\u001b[0m\u001b[1;33m\u001b[0m\u001b[0m\n\u001b[0;32m      3\u001b[0m \u001b[1;33m\u001b[0m\u001b[0m\n\u001b[1;32m----> 4\u001b[1;33m \u001b[0mtesting\u001b[0m\u001b[1;33m.\u001b[0m\u001b[0massert_array_almost_equal_nulp\u001b[0m\u001b[1;33m(\u001b[0m\u001b[0mx\u001b[0m\u001b[1;33m,\u001b[0m \u001b[0my\u001b[0m\u001b[1;33m)\u001b[0m\u001b[1;33m\u001b[0m\u001b[1;33m\u001b[0m\u001b[0m\n\u001b[0m",
      "\u001b[1;32m~\\Anaconda3\\lib\\site-packages\\numpy\\testing\\_private\\utils.py\u001b[0m in \u001b[0;36massert_array_almost_equal_nulp\u001b[1;34m(x, y, nulp)\u001b[0m\n\u001b[0;32m   1562\u001b[0m             \u001b[0mmax_nulp\u001b[0m \u001b[1;33m=\u001b[0m \u001b[0mnp\u001b[0m\u001b[1;33m.\u001b[0m\u001b[0mmax\u001b[0m\u001b[1;33m(\u001b[0m\u001b[0mnulp_diff\u001b[0m\u001b[1;33m(\u001b[0m\u001b[0mx\u001b[0m\u001b[1;33m,\u001b[0m \u001b[0my\u001b[0m\u001b[1;33m)\u001b[0m\u001b[1;33m)\u001b[0m\u001b[1;33m\u001b[0m\u001b[1;33m\u001b[0m\u001b[0m\n\u001b[0;32m   1563\u001b[0m             \u001b[0mmsg\u001b[0m \u001b[1;33m=\u001b[0m \u001b[1;34m\"X and Y are not equal to %d ULP (max is %g)\"\u001b[0m \u001b[1;33m%\u001b[0m \u001b[1;33m(\u001b[0m\u001b[0mnulp\u001b[0m\u001b[1;33m,\u001b[0m \u001b[0mmax_nulp\u001b[0m\u001b[1;33m)\u001b[0m\u001b[1;33m\u001b[0m\u001b[1;33m\u001b[0m\u001b[0m\n\u001b[1;32m-> 1564\u001b[1;33m         \u001b[1;32mraise\u001b[0m \u001b[0mAssertionError\u001b[0m\u001b[1;33m(\u001b[0m\u001b[0mmsg\u001b[0m\u001b[1;33m)\u001b[0m\u001b[1;33m\u001b[0m\u001b[1;33m\u001b[0m\u001b[0m\n\u001b[0m\u001b[0;32m   1565\u001b[0m \u001b[1;33m\u001b[0m\u001b[0m\n\u001b[0;32m   1566\u001b[0m \u001b[1;33m\u001b[0m\u001b[0m\n",
      "\u001b[1;31mAssertionError\u001b[0m: X and Y are not equal to 1 ULP (max is 2.44231e+08)"
     ]
    }
   ],
   "source": [
    "x = [1e-5, 1e-3, 1e-1]\n",
    "y = np.arccos(np.cos(x))\n",
    "\n",
    "testing.assert_array_almost_equal_nulp(x, y)"
   ]
  },
  {
   "cell_type": "code",
   "execution_count": 57,
   "metadata": {},
   "outputs": [
    {
     "name": "stdout",
     "output_type": "stream",
     "text": [
      " assert_array_max_ulp(a, b, maxulp=1, dtype=None)\n",
      "\n",
      "Check that all items of arrays differ in at most N Units in the Last Place.\n",
      "\n",
      "Parameters\n",
      "----------\n",
      "a, b : array_like\n",
      "    Input arrays to be compared.\n",
      "maxulp : int, optional\n",
      "    The maximum number of units in the last place that elements of `a` and\n",
      "    `b` can differ. Default is 1.\n",
      "dtype : dtype, optional\n",
      "    Data-type to convert `a` and `b` to if given. Default is None.\n",
      "\n",
      "Returns\n",
      "-------\n",
      "ret : ndarray\n",
      "    Array containing number of representable floating point numbers between\n",
      "    items in `a` and `b`.\n",
      "\n",
      "Raises\n",
      "------\n",
      "AssertionError\n",
      "    If one or more elements differ by more than `maxulp`.\n",
      "\n",
      "See Also\n",
      "--------\n",
      "assert_array_almost_equal_nulp : Compare two arrays relatively to their\n",
      "    spacing.\n",
      "\n",
      "Examples\n",
      "--------\n",
      ">>> a = np.linspace(0., 1., 100)\n",
      ">>> res = np.testing.assert_array_max_ulp(a, np.arcsin(np.sin(a)))\n"
     ]
    }
   ],
   "source": [
    "np.info(testing.assert_array_max_ulp)"
   ]
  },
  {
   "cell_type": "code",
   "execution_count": 58,
   "metadata": {},
   "outputs": [
    {
     "ename": "AssertionError",
     "evalue": "Arrays are not almost equal up to 1 ULP",
     "output_type": "error",
     "traceback": [
      "\u001b[1;31m---------------------------------------------------------------------------\u001b[0m",
      "\u001b[1;31mAssertionError\u001b[0m                            Traceback (most recent call last)",
      "\u001b[1;32m<ipython-input-58-b21f3d9ec228>\u001b[0m in \u001b[0;36m<module>\u001b[1;34m\u001b[0m\n\u001b[1;32m----> 1\u001b[1;33m \u001b[0mtesting\u001b[0m\u001b[1;33m.\u001b[0m\u001b[0massert_array_max_ulp\u001b[0m\u001b[1;33m(\u001b[0m\u001b[0mx\u001b[0m\u001b[1;33m,\u001b[0m \u001b[0my\u001b[0m\u001b[1;33m)\u001b[0m\u001b[1;33m\u001b[0m\u001b[1;33m\u001b[0m\u001b[0m\n\u001b[0m",
      "\u001b[1;32m~\\Anaconda3\\lib\\site-packages\\numpy\\testing\\_private\\utils.py\u001b[0m in \u001b[0;36massert_array_max_ulp\u001b[1;34m(a, b, maxulp, dtype)\u001b[0m\n\u001b[0;32m   1606\u001b[0m     \u001b[1;32mif\u001b[0m \u001b[1;32mnot\u001b[0m \u001b[0mnp\u001b[0m\u001b[1;33m.\u001b[0m\u001b[0mall\u001b[0m\u001b[1;33m(\u001b[0m\u001b[0mret\u001b[0m \u001b[1;33m<=\u001b[0m \u001b[0mmaxulp\u001b[0m\u001b[1;33m)\u001b[0m\u001b[1;33m:\u001b[0m\u001b[1;33m\u001b[0m\u001b[1;33m\u001b[0m\u001b[0m\n\u001b[0;32m   1607\u001b[0m         raise AssertionError(\"Arrays are not almost equal up to %g ULP\" %\n\u001b[1;32m-> 1608\u001b[1;33m                              maxulp)\n\u001b[0m\u001b[0;32m   1609\u001b[0m     \u001b[1;32mreturn\u001b[0m \u001b[0mret\u001b[0m\u001b[1;33m\u001b[0m\u001b[1;33m\u001b[0m\u001b[0m\n\u001b[0;32m   1610\u001b[0m \u001b[1;33m\u001b[0m\u001b[0m\n",
      "\u001b[1;31mAssertionError\u001b[0m: Arrays are not almost equal up to 1 ULP"
     ]
    }
   ],
   "source": [
    "testing.assert_array_max_ulp(x, y)"
   ]
  },
  {
   "cell_type": "markdown",
   "metadata": {},
   "source": [
    "### assert array equal"
   ]
  },
  {
   "cell_type": "markdown",
   "metadata": {},
   "source": [
    "The\n",
    "shapes of the arrays have to be equal and the elements of each array must be equal. NaNs are\n",
    "allowed in the arrays."
   ]
  },
  {
   "cell_type": "code",
   "execution_count": 38,
   "metadata": {},
   "outputs": [
    {
     "name": "stdout",
     "output_type": "stream",
     "text": [
      " assert_array_equal(x, y, err_msg='', verbose=True)\n",
      "\n",
      "Raises an AssertionError if two array_like objects are not equal.\n",
      "\n",
      "Given two array_like objects, check that the shape is equal and all\n",
      "elements of these objects are equal. An exception is raised at\n",
      "shape mismatch or conflicting values. In contrast to the standard usage\n",
      "in numpy, NaNs are compared like numbers, no assertion is raised if\n",
      "both objects have NaNs in the same positions.\n",
      "\n",
      "The usual caution for verifying equality with floating point numbers is\n",
      "advised.\n",
      "\n",
      "Parameters\n",
      "----------\n",
      "x : array_like\n",
      "    The actual object to check.\n",
      "y : array_like\n",
      "    The desired, expected object.\n",
      "err_msg : str, optional\n",
      "    The error message to be printed in case of failure.\n",
      "verbose : bool, optional\n",
      "    If True, the conflicting values are appended to the error message.\n",
      "\n",
      "Raises\n",
      "------\n",
      "AssertionError\n",
      "    If actual and desired objects are not equal.\n",
      "\n",
      "See Also\n",
      "--------\n",
      "assert_allclose: Compare two array_like objects for equality with desired\n",
      "                 relative and/or absolute precision.\n",
      "assert_array_almost_equal_nulp, assert_array_max_ulp, assert_equal\n",
      "\n",
      "Examples\n",
      "--------\n",
      "The first assert does not raise an exception:\n",
      "\n",
      ">>> np.testing.assert_array_equal([1.0,2.33333,np.nan],\n",
      "...                               [np.exp(0),2.33333, np.nan])\n",
      "\n",
      "Assert fails with numerical inprecision with floats:\n",
      "\n",
      ">>> np.testing.assert_array_equal([1.0,np.pi,np.nan],\n",
      "...                               [1, np.sqrt(np.pi)**2, np.nan])\n",
      "Traceback (most recent call last):\n",
      "    ...\n",
      "AssertionError:\n",
      "Arrays are not equal\n",
      "Mismatch: 33.3%\n",
      "Max absolute difference: 4.4408921e-16\n",
      "Max relative difference: 1.41357986e-16\n",
      " x: array([1.      , 3.141593,      nan])\n",
      " y: array([1.      , 3.141593,      nan])\n",
      "\n",
      "Use `assert_allclose` or one of the nulp (number of floating point values)\n",
      "functions for these cases instead:\n",
      "\n",
      ">>> np.testing.assert_allclose([1.0,np.pi,np.nan],\n",
      "...                            [1, np.sqrt(np.pi)**2, np.nan],\n",
      "...                            rtol=1e-10, atol=0)\n"
     ]
    }
   ],
   "source": [
    "np.info(testing.assert_array_equal)"
   ]
  },
  {
   "cell_type": "code",
   "execution_count": 39,
   "metadata": {},
   "outputs": [
    {
     "ename": "AssertionError",
     "evalue": "\nArrays are not equal\n\nMismatch: 50%\nMax absolute difference: 3.33333361e-11\nMax relative difference: 1.00000008e-10\n x: array([0.333333, 1.      ])\n y: array([0.333333, 1.      ])",
     "output_type": "error",
     "traceback": [
      "\u001b[1;31m---------------------------------------------------------------------------\u001b[0m",
      "\u001b[1;31mAssertionError\u001b[0m                            Traceback (most recent call last)",
      "\u001b[1;32m<ipython-input-39-79c26c083228>\u001b[0m in \u001b[0;36m<module>\u001b[1;34m\u001b[0m\n\u001b[1;32m----> 1\u001b[1;33m \u001b[0mtesting\u001b[0m\u001b[1;33m.\u001b[0m\u001b[0massert_array_equal\u001b[0m\u001b[1;33m(\u001b[0m\u001b[1;33m[\u001b[0m\u001b[1;36m1\u001b[0m\u001b[1;33m/\u001b[0m\u001b[1;36m3\u001b[0m\u001b[1;33m,\u001b[0m \u001b[1;36m1\u001b[0m\u001b[1;33m]\u001b[0m\u001b[1;33m,\u001b[0m \u001b[1;33m[\u001b[0m\u001b[1;36m0.3333333333\u001b[0m\u001b[1;33m,\u001b[0m \u001b[1;36m1\u001b[0m\u001b[1;33m]\u001b[0m\u001b[1;33m)\u001b[0m\u001b[1;33m\u001b[0m\u001b[1;33m\u001b[0m\u001b[0m\n\u001b[0m",
      "\u001b[1;32m~\\Anaconda3\\lib\\site-packages\\numpy\\testing\\_private\\utils.py\u001b[0m in \u001b[0;36massert_array_equal\u001b[1;34m(x, y, err_msg, verbose)\u001b[0m\n\u001b[0;32m    902\u001b[0m     \u001b[0m__tracebackhide__\u001b[0m \u001b[1;33m=\u001b[0m \u001b[1;32mTrue\u001b[0m  \u001b[1;31m# Hide traceback for py.test\u001b[0m\u001b[1;33m\u001b[0m\u001b[1;33m\u001b[0m\u001b[0m\n\u001b[0;32m    903\u001b[0m     assert_array_compare(operator.__eq__, x, y, err_msg=err_msg,\n\u001b[1;32m--> 904\u001b[1;33m                          verbose=verbose, header='Arrays are not equal')\n\u001b[0m\u001b[0;32m    905\u001b[0m \u001b[1;33m\u001b[0m\u001b[0m\n\u001b[0;32m    906\u001b[0m \u001b[1;33m\u001b[0m\u001b[0m\n",
      "\u001b[1;32m~\\Anaconda3\\lib\\site-packages\\numpy\\testing\\_private\\utils.py\u001b[0m in \u001b[0;36massert_array_compare\u001b[1;34m(comparison, x, y, err_msg, verbose, header, precision, equal_nan, equal_inf)\u001b[0m\n\u001b[0;32m    825\u001b[0m                                 \u001b[0mverbose\u001b[0m\u001b[1;33m=\u001b[0m\u001b[0mverbose\u001b[0m\u001b[1;33m,\u001b[0m \u001b[0mheader\u001b[0m\u001b[1;33m=\u001b[0m\u001b[0mheader\u001b[0m\u001b[1;33m,\u001b[0m\u001b[1;33m\u001b[0m\u001b[1;33m\u001b[0m\u001b[0m\n\u001b[0;32m    826\u001b[0m                                 names=('x', 'y'), precision=precision)\n\u001b[1;32m--> 827\u001b[1;33m             \u001b[1;32mraise\u001b[0m \u001b[0mAssertionError\u001b[0m\u001b[1;33m(\u001b[0m\u001b[0mmsg\u001b[0m\u001b[1;33m)\u001b[0m\u001b[1;33m\u001b[0m\u001b[1;33m\u001b[0m\u001b[0m\n\u001b[0m\u001b[0;32m    828\u001b[0m     \u001b[1;32mexcept\u001b[0m \u001b[0mValueError\u001b[0m\u001b[1;33m:\u001b[0m\u001b[1;33m\u001b[0m\u001b[1;33m\u001b[0m\u001b[0m\n\u001b[0;32m    829\u001b[0m         \u001b[1;32mimport\u001b[0m \u001b[0mtraceback\u001b[0m\u001b[1;33m\u001b[0m\u001b[1;33m\u001b[0m\u001b[0m\n",
      "\u001b[1;31mAssertionError\u001b[0m: \nArrays are not equal\n\nMismatch: 50%\nMax absolute difference: 3.33333361e-11\nMax relative difference: 1.00000008e-10\n x: array([0.333333, 1.      ])\n y: array([0.333333, 1.      ])"
     ]
    }
   ],
   "source": [
    "testing.assert_array_equal([1/3, 1], [0.3333333333, 1])"
   ]
  },
  {
   "cell_type": "markdown",
   "metadata": {},
   "source": [
    "### ordering array"
   ]
  },
  {
   "cell_type": "markdown",
   "metadata": {},
   "source": [
    "**`assert_array_less`** raises an exception if two arrays do not have the\n",
    "same shape, and the elements of the first array are strictly less than the elements of the\n",
    "second array.\n",
    "Time for action – checking "
   ]
  },
  {
   "cell_type": "code",
   "execution_count": 41,
   "metadata": {},
   "outputs": [
    {
     "name": "stdout",
     "output_type": "stream",
     "text": [
      " assert_array_less(x, y, err_msg='', verbose=True)\n",
      "\n",
      "Raises an AssertionError if two array_like objects are not ordered by less\n",
      "than.\n",
      "\n",
      "Given two array_like objects, check that the shape is equal and all\n",
      "elements of the first object are strictly smaller than those of the\n",
      "second object. An exception is raised at shape mismatch or incorrectly\n",
      "ordered values. Shape mismatch does not raise if an object has zero\n",
      "dimension. In contrast to the standard usage in numpy, NaNs are\n",
      "compared, no assertion is raised if both objects have NaNs in the same\n",
      "positions.\n",
      "\n",
      "\n",
      "\n",
      "Parameters\n",
      "----------\n",
      "x : array_like\n",
      "  The smaller object to check.\n",
      "y : array_like\n",
      "  The larger object to compare.\n",
      "err_msg : string\n",
      "  The error message to be printed in case of failure.\n",
      "verbose : bool\n",
      "    If True, the conflicting values are appended to the error message.\n",
      "\n",
      "Raises\n",
      "------\n",
      "AssertionError\n",
      "  If actual and desired objects are not equal.\n",
      "\n",
      "See Also\n",
      "--------\n",
      "assert_array_equal: tests objects for equality\n",
      "assert_array_almost_equal: test objects for equality up to precision\n",
      "\n",
      "\n",
      "\n",
      "Examples\n",
      "--------\n",
      ">>> np.testing.assert_array_less([1.0, 1.0, np.nan], [1.1, 2.0, np.nan])\n",
      ">>> np.testing.assert_array_less([1.0, 1.0, np.nan], [1, 2.0, np.nan])\n",
      "Traceback (most recent call last):\n",
      "    ...\n",
      "AssertionError:\n",
      "Arrays are not less-ordered\n",
      "Mismatch: 33.3%\n",
      "Max absolute difference: 1.\n",
      "Max relative difference: 0.5\n",
      " x: array([ 1.,  1., nan])\n",
      " y: array([ 1.,  2., nan])\n",
      "\n",
      ">>> np.testing.assert_array_less([1.0, 4.0], 3)\n",
      "Traceback (most recent call last):\n",
      "    ...\n",
      "AssertionError:\n",
      "Arrays are not less-ordered\n",
      "Mismatch: 50%\n",
      "Max absolute difference: 2.\n",
      "Max relative difference: 0.66666667\n",
      " x: array([1., 4.])\n",
      " y: array(3)\n",
      "\n",
      ">>> np.testing.assert_array_less([1.0, 2.0, 3.0], [4])\n",
      "Traceback (most recent call last):\n",
      "    ...\n",
      "AssertionError:\n",
      "Arrays are not less-ordered\n",
      "(shapes (3,), (1,) mismatch)\n",
      " x: array([1., 2., 3.])\n",
      " y: array([4])\n"
     ]
    }
   ],
   "source": [
    "np.info(testing.assert_array_less)"
   ]
  },
  {
   "cell_type": "code",
   "execution_count": 42,
   "metadata": {},
   "outputs": [],
   "source": [
    "testing.assert_array_less([1,2], [3,4])"
   ]
  },
  {
   "cell_type": "code",
   "execution_count": 43,
   "metadata": {},
   "outputs": [
    {
     "ename": "AssertionError",
     "evalue": "\nArrays are not less-ordered\n\n(shapes (2,), (3,) mismatch)\n x: array([1, 2])\n y: array([3, 4, 5])",
     "output_type": "error",
     "traceback": [
      "\u001b[1;31m---------------------------------------------------------------------------\u001b[0m",
      "\u001b[1;31mAssertionError\u001b[0m                            Traceback (most recent call last)",
      "\u001b[1;32m<ipython-input-43-dbb13eac30d5>\u001b[0m in \u001b[0;36m<module>\u001b[1;34m\u001b[0m\n\u001b[0;32m      1\u001b[0m \u001b[1;31m#mismatch shape\u001b[0m\u001b[1;33m\u001b[0m\u001b[1;33m\u001b[0m\u001b[1;33m\u001b[0m\u001b[0m\n\u001b[1;32m----> 2\u001b[1;33m \u001b[0mtesting\u001b[0m\u001b[1;33m.\u001b[0m\u001b[0massert_array_less\u001b[0m\u001b[1;33m(\u001b[0m\u001b[1;33m[\u001b[0m\u001b[1;36m1\u001b[0m\u001b[1;33m,\u001b[0m\u001b[1;36m2\u001b[0m\u001b[1;33m]\u001b[0m\u001b[1;33m,\u001b[0m \u001b[1;33m[\u001b[0m\u001b[1;36m3\u001b[0m\u001b[1;33m,\u001b[0m\u001b[1;36m4\u001b[0m\u001b[1;33m,\u001b[0m\u001b[1;36m5\u001b[0m\u001b[1;33m]\u001b[0m\u001b[1;33m)\u001b[0m\u001b[1;33m\u001b[0m\u001b[1;33m\u001b[0m\u001b[0m\n\u001b[0m",
      "\u001b[1;32m~\\Anaconda3\\lib\\site-packages\\numpy\\testing\\_private\\utils.py\u001b[0m in \u001b[0;36massert_array_less\u001b[1;34m(x, y, err_msg, verbose)\u001b[0m\n\u001b[0;32m   1093\u001b[0m                          \u001b[0mverbose\u001b[0m\u001b[1;33m=\u001b[0m\u001b[0mverbose\u001b[0m\u001b[1;33m,\u001b[0m\u001b[1;33m\u001b[0m\u001b[1;33m\u001b[0m\u001b[0m\n\u001b[0;32m   1094\u001b[0m                          \u001b[0mheader\u001b[0m\u001b[1;33m=\u001b[0m\u001b[1;34m'Arrays are not less-ordered'\u001b[0m\u001b[1;33m,\u001b[0m\u001b[1;33m\u001b[0m\u001b[1;33m\u001b[0m\u001b[0m\n\u001b[1;32m-> 1095\u001b[1;33m                          equal_inf=False)\n\u001b[0m\u001b[0;32m   1096\u001b[0m \u001b[1;33m\u001b[0m\u001b[0m\n\u001b[0;32m   1097\u001b[0m \u001b[1;33m\u001b[0m\u001b[0m\n",
      "\u001b[1;32m~\\Anaconda3\\lib\\site-packages\\numpy\\testing\\_private\\utils.py\u001b[0m in \u001b[0;36massert_array_compare\u001b[1;34m(comparison, x, y, err_msg, verbose, header, precision, equal_nan, equal_inf)\u001b[0m\n\u001b[0;32m    750\u001b[0m                                 \u001b[0mverbose\u001b[0m\u001b[1;33m=\u001b[0m\u001b[0mverbose\u001b[0m\u001b[1;33m,\u001b[0m \u001b[0mheader\u001b[0m\u001b[1;33m=\u001b[0m\u001b[0mheader\u001b[0m\u001b[1;33m,\u001b[0m\u001b[1;33m\u001b[0m\u001b[1;33m\u001b[0m\u001b[0m\n\u001b[0;32m    751\u001b[0m                                 names=('x', 'y'), precision=precision)\n\u001b[1;32m--> 752\u001b[1;33m             \u001b[1;32mraise\u001b[0m \u001b[0mAssertionError\u001b[0m\u001b[1;33m(\u001b[0m\u001b[0mmsg\u001b[0m\u001b[1;33m)\u001b[0m\u001b[1;33m\u001b[0m\u001b[1;33m\u001b[0m\u001b[0m\n\u001b[0m\u001b[0;32m    753\u001b[0m \u001b[1;33m\u001b[0m\u001b[0m\n\u001b[0;32m    754\u001b[0m         \u001b[0mflagged\u001b[0m \u001b[1;33m=\u001b[0m \u001b[0mbool_\u001b[0m\u001b[1;33m(\u001b[0m\u001b[1;32mFalse\u001b[0m\u001b[1;33m)\u001b[0m\u001b[1;33m\u001b[0m\u001b[1;33m\u001b[0m\u001b[0m\n",
      "\u001b[1;31mAssertionError\u001b[0m: \nArrays are not less-ordered\n\n(shapes (2,), (3,) mismatch)\n x: array([1, 2])\n y: array([3, 4, 5])"
     ]
    }
   ],
   "source": [
    "#mismatch shape\n",
    "testing.assert_array_less([1,2], [3,4,5])"
   ]
  },
  {
   "cell_type": "code",
   "execution_count": 46,
   "metadata": {},
   "outputs": [
    {
     "ename": "AssertionError",
     "evalue": "\nArrays are not less-ordered\n\nMismatch: 50%\nMax absolute difference: 0.1\nMax relative difference: 0.04761905\n x: array([1, 2])\n y: array([1. , 2.1])",
     "output_type": "error",
     "traceback": [
      "\u001b[1;31m---------------------------------------------------------------------------\u001b[0m",
      "\u001b[1;31mAssertionError\u001b[0m                            Traceback (most recent call last)",
      "\u001b[1;32m<ipython-input-46-37fcad028433>\u001b[0m in \u001b[0;36m<module>\u001b[1;34m\u001b[0m\n\u001b[0;32m      1\u001b[0m \u001b[1;31m#not strickly less than\u001b[0m\u001b[1;33m\u001b[0m\u001b[1;33m\u001b[0m\u001b[1;33m\u001b[0m\u001b[0m\n\u001b[1;32m----> 2\u001b[1;33m \u001b[0mtesting\u001b[0m\u001b[1;33m.\u001b[0m\u001b[0massert_array_less\u001b[0m\u001b[1;33m(\u001b[0m\u001b[1;33m[\u001b[0m\u001b[1;36m1\u001b[0m\u001b[1;33m,\u001b[0m\u001b[1;36m2\u001b[0m\u001b[1;33m]\u001b[0m\u001b[1;33m,\u001b[0m \u001b[1;33m[\u001b[0m\u001b[1;36m1\u001b[0m\u001b[1;33m,\u001b[0m \u001b[1;36m2.1\u001b[0m\u001b[1;33m]\u001b[0m\u001b[1;33m)\u001b[0m\u001b[1;33m\u001b[0m\u001b[1;33m\u001b[0m\u001b[0m\n\u001b[0m",
      "\u001b[1;32m~\\Anaconda3\\lib\\site-packages\\numpy\\testing\\_private\\utils.py\u001b[0m in \u001b[0;36massert_array_less\u001b[1;34m(x, y, err_msg, verbose)\u001b[0m\n\u001b[0;32m   1093\u001b[0m                          \u001b[0mverbose\u001b[0m\u001b[1;33m=\u001b[0m\u001b[0mverbose\u001b[0m\u001b[1;33m,\u001b[0m\u001b[1;33m\u001b[0m\u001b[1;33m\u001b[0m\u001b[0m\n\u001b[0;32m   1094\u001b[0m                          \u001b[0mheader\u001b[0m\u001b[1;33m=\u001b[0m\u001b[1;34m'Arrays are not less-ordered'\u001b[0m\u001b[1;33m,\u001b[0m\u001b[1;33m\u001b[0m\u001b[1;33m\u001b[0m\u001b[0m\n\u001b[1;32m-> 1095\u001b[1;33m                          equal_inf=False)\n\u001b[0m\u001b[0;32m   1096\u001b[0m \u001b[1;33m\u001b[0m\u001b[0m\n\u001b[0;32m   1097\u001b[0m \u001b[1;33m\u001b[0m\u001b[0m\n",
      "\u001b[1;32m~\\Anaconda3\\lib\\site-packages\\numpy\\testing\\_private\\utils.py\u001b[0m in \u001b[0;36massert_array_compare\u001b[1;34m(comparison, x, y, err_msg, verbose, header, precision, equal_nan, equal_inf)\u001b[0m\n\u001b[0;32m    825\u001b[0m                                 \u001b[0mverbose\u001b[0m\u001b[1;33m=\u001b[0m\u001b[0mverbose\u001b[0m\u001b[1;33m,\u001b[0m \u001b[0mheader\u001b[0m\u001b[1;33m=\u001b[0m\u001b[0mheader\u001b[0m\u001b[1;33m,\u001b[0m\u001b[1;33m\u001b[0m\u001b[1;33m\u001b[0m\u001b[0m\n\u001b[0;32m    826\u001b[0m                                 names=('x', 'y'), precision=precision)\n\u001b[1;32m--> 827\u001b[1;33m             \u001b[1;32mraise\u001b[0m \u001b[0mAssertionError\u001b[0m\u001b[1;33m(\u001b[0m\u001b[0mmsg\u001b[0m\u001b[1;33m)\u001b[0m\u001b[1;33m\u001b[0m\u001b[1;33m\u001b[0m\u001b[0m\n\u001b[0m\u001b[0;32m    828\u001b[0m     \u001b[1;32mexcept\u001b[0m \u001b[0mValueError\u001b[0m\u001b[1;33m:\u001b[0m\u001b[1;33m\u001b[0m\u001b[1;33m\u001b[0m\u001b[0m\n\u001b[0;32m    829\u001b[0m         \u001b[1;32mimport\u001b[0m \u001b[0mtraceback\u001b[0m\u001b[1;33m\u001b[0m\u001b[1;33m\u001b[0m\u001b[0m\n",
      "\u001b[1;31mAssertionError\u001b[0m: \nArrays are not less-ordered\n\nMismatch: 50%\nMax absolute difference: 0.1\nMax relative difference: 0.04761905\n x: array([1, 2])\n y: array([1. , 2.1])"
     ]
    }
   ],
   "source": [
    "#not strickly less than\n",
    "testing.assert_array_less([1,2], [1, 2.1])"
   ]
  },
  {
   "cell_type": "markdown",
   "metadata": {},
   "source": [
    "### Object comparasion"
   ]
  },
  {
   "cell_type": "markdown",
   "metadata": {},
   "source": [
    "**`assert_equal`** n raises an exception if two objects are not equal.  \n",
    "The objects\n",
    "do not have to be NumPy arrays—they can also be lists, tuples, or dictionaries.\n"
   ]
  },
  {
   "cell_type": "code",
   "execution_count": 47,
   "metadata": {},
   "outputs": [
    {
     "name": "stdout",
     "output_type": "stream",
     "text": [
      " assert_equal(actual, desired, err_msg='', verbose=True)\n",
      "\n",
      "Raises an AssertionError if two objects are not equal.\n",
      "\n",
      "Given two objects (scalars, lists, tuples, dictionaries or numpy arrays),\n",
      "check that all elements of these objects are equal. An exception is raised\n",
      "at the first conflicting values.\n",
      "\n",
      "Parameters\n",
      "----------\n",
      "actual : array_like\n",
      "    The object to check.\n",
      "desired : array_like\n",
      "    The expected object.\n",
      "err_msg : str, optional\n",
      "    The error message to be printed in case of failure.\n",
      "verbose : bool, optional\n",
      "    If True, the conflicting values are appended to the error message.\n",
      "\n",
      "Raises\n",
      "------\n",
      "AssertionError\n",
      "    If actual and desired are not equal.\n",
      "\n",
      "Examples\n",
      "--------\n",
      ">>> np.testing.assert_equal([4,5], [4,6])\n",
      "Traceback (most recent call last):\n",
      "    ...\n",
      "AssertionError:\n",
      "Items are not equal:\n",
      "item=1\n",
      " ACTUAL: 5\n",
      " DESIRED: 6\n"
     ]
    }
   ],
   "source": [
    "np.info(testing.assert_equal)"
   ]
  },
  {
   "cell_type": "code",
   "execution_count": 48,
   "metadata": {},
   "outputs": [],
   "source": [
    "testing.assert_equal((1,2), (1,2))"
   ]
  },
  {
   "cell_type": "code",
   "execution_count": 49,
   "metadata": {},
   "outputs": [],
   "source": [
    "testing.assert_equal([1,2], [1,2])"
   ]
  },
  {
   "cell_type": "code",
   "execution_count": 51,
   "metadata": {},
   "outputs": [
    {
     "ename": "AssertionError",
     "evalue": "\nItems are not equal:\nitem=0\n\n ACTUAL: 0.333\n DESIRED: 0.3333333333333333",
     "output_type": "error",
     "traceback": [
      "\u001b[1;31m---------------------------------------------------------------------------\u001b[0m",
      "\u001b[1;31mAssertionError\u001b[0m                            Traceback (most recent call last)",
      "\u001b[1;32m<ipython-input-51-7f43ed7fda65>\u001b[0m in \u001b[0;36m<module>\u001b[1;34m\u001b[0m\n\u001b[1;32m----> 1\u001b[1;33m \u001b[0mtesting\u001b[0m\u001b[1;33m.\u001b[0m\u001b[0massert_equal\u001b[0m\u001b[1;33m(\u001b[0m\u001b[1;33m[\u001b[0m\u001b[1;36m0.333\u001b[0m\u001b[1;33m,\u001b[0m\u001b[1;36m2\u001b[0m\u001b[1;33m]\u001b[0m\u001b[1;33m,\u001b[0m \u001b[1;33m[\u001b[0m\u001b[1;36m1\u001b[0m\u001b[1;33m/\u001b[0m\u001b[1;36m3\u001b[0m\u001b[1;33m,\u001b[0m \u001b[1;36m2\u001b[0m\u001b[1;33m]\u001b[0m\u001b[1;33m)\u001b[0m\u001b[1;33m\u001b[0m\u001b[1;33m\u001b[0m\u001b[0m\n\u001b[0m",
      "\u001b[1;32m~\\Anaconda3\\lib\\site-packages\\numpy\\testing\\_private\\utils.py\u001b[0m in \u001b[0;36massert_equal\u001b[1;34m(actual, desired, err_msg, verbose)\u001b[0m\n\u001b[0;32m    341\u001b[0m         \u001b[0massert_equal\u001b[0m\u001b[1;33m(\u001b[0m\u001b[0mlen\u001b[0m\u001b[1;33m(\u001b[0m\u001b[0mactual\u001b[0m\u001b[1;33m)\u001b[0m\u001b[1;33m,\u001b[0m \u001b[0mlen\u001b[0m\u001b[1;33m(\u001b[0m\u001b[0mdesired\u001b[0m\u001b[1;33m)\u001b[0m\u001b[1;33m,\u001b[0m \u001b[0merr_msg\u001b[0m\u001b[1;33m,\u001b[0m \u001b[0mverbose\u001b[0m\u001b[1;33m)\u001b[0m\u001b[1;33m\u001b[0m\u001b[1;33m\u001b[0m\u001b[0m\n\u001b[0;32m    342\u001b[0m         \u001b[1;32mfor\u001b[0m \u001b[0mk\u001b[0m \u001b[1;32min\u001b[0m \u001b[0mrange\u001b[0m\u001b[1;33m(\u001b[0m\u001b[0mlen\u001b[0m\u001b[1;33m(\u001b[0m\u001b[0mdesired\u001b[0m\u001b[1;33m)\u001b[0m\u001b[1;33m)\u001b[0m\u001b[1;33m:\u001b[0m\u001b[1;33m\u001b[0m\u001b[1;33m\u001b[0m\u001b[0m\n\u001b[1;32m--> 343\u001b[1;33m             \u001b[0massert_equal\u001b[0m\u001b[1;33m(\u001b[0m\u001b[0mactual\u001b[0m\u001b[1;33m[\u001b[0m\u001b[0mk\u001b[0m\u001b[1;33m]\u001b[0m\u001b[1;33m,\u001b[0m \u001b[0mdesired\u001b[0m\u001b[1;33m[\u001b[0m\u001b[0mk\u001b[0m\u001b[1;33m]\u001b[0m\u001b[1;33m,\u001b[0m \u001b[1;34m'item=%r\\n%s'\u001b[0m \u001b[1;33m%\u001b[0m \u001b[1;33m(\u001b[0m\u001b[0mk\u001b[0m\u001b[1;33m,\u001b[0m \u001b[0merr_msg\u001b[0m\u001b[1;33m)\u001b[0m\u001b[1;33m,\u001b[0m \u001b[0mverbose\u001b[0m\u001b[1;33m)\u001b[0m\u001b[1;33m\u001b[0m\u001b[1;33m\u001b[0m\u001b[0m\n\u001b[0m\u001b[0;32m    344\u001b[0m         \u001b[1;32mreturn\u001b[0m\u001b[1;33m\u001b[0m\u001b[1;33m\u001b[0m\u001b[0m\n\u001b[0;32m    345\u001b[0m     \u001b[1;32mfrom\u001b[0m \u001b[0mnumpy\u001b[0m\u001b[1;33m.\u001b[0m\u001b[0mcore\u001b[0m \u001b[1;32mimport\u001b[0m \u001b[0mndarray\u001b[0m\u001b[1;33m,\u001b[0m \u001b[0misscalar\u001b[0m\u001b[1;33m,\u001b[0m \u001b[0msignbit\u001b[0m\u001b[1;33m\u001b[0m\u001b[1;33m\u001b[0m\u001b[0m\n",
      "\u001b[1;32m~\\Anaconda3\\lib\\site-packages\\numpy\\testing\\_private\\utils.py\u001b[0m in \u001b[0;36massert_equal\u001b[1;34m(actual, desired, err_msg, verbose)\u001b[0m\n\u001b[0;32m    413\u001b[0m         \u001b[1;31m# Explicitly use __eq__ for comparison, gh-2552\u001b[0m\u001b[1;33m\u001b[0m\u001b[1;33m\u001b[0m\u001b[1;33m\u001b[0m\u001b[0m\n\u001b[0;32m    414\u001b[0m         \u001b[1;32mif\u001b[0m \u001b[1;32mnot\u001b[0m \u001b[1;33m(\u001b[0m\u001b[0mdesired\u001b[0m \u001b[1;33m==\u001b[0m \u001b[0mactual\u001b[0m\u001b[1;33m)\u001b[0m\u001b[1;33m:\u001b[0m\u001b[1;33m\u001b[0m\u001b[1;33m\u001b[0m\u001b[0m\n\u001b[1;32m--> 415\u001b[1;33m             \u001b[1;32mraise\u001b[0m \u001b[0mAssertionError\u001b[0m\u001b[1;33m(\u001b[0m\u001b[0mmsg\u001b[0m\u001b[1;33m)\u001b[0m\u001b[1;33m\u001b[0m\u001b[1;33m\u001b[0m\u001b[0m\n\u001b[0m\u001b[0;32m    416\u001b[0m \u001b[1;33m\u001b[0m\u001b[0m\n\u001b[0;32m    417\u001b[0m     \u001b[1;32mexcept\u001b[0m \u001b[1;33m(\u001b[0m\u001b[0mDeprecationWarning\u001b[0m\u001b[1;33m,\u001b[0m \u001b[0mFutureWarning\u001b[0m\u001b[1;33m)\u001b[0m \u001b[1;32mas\u001b[0m \u001b[0me\u001b[0m\u001b[1;33m:\u001b[0m\u001b[1;33m\u001b[0m\u001b[1;33m\u001b[0m\u001b[0m\n",
      "\u001b[1;31mAssertionError\u001b[0m: \nItems are not equal:\nitem=0\n\n ACTUAL: 0.333\n DESIRED: 0.3333333333333333"
     ]
    }
   ],
   "source": [
    "testing.assert_equal([0.333,2], [1/3, 2])"
   ]
  },
  {
   "cell_type": "markdown",
   "metadata": {},
   "source": [
    "### String comparision"
   ]
  },
  {
   "cell_type": "markdown",
   "metadata": {},
   "source": [
    "**`assert_string_equal()`** function asserts that two strings are equal. If the test fails,\n",
    "the function throws an exception and shows the difference between the strings. The case of\n",
    "the string characters matters.\n"
   ]
  },
  {
   "cell_type": "code",
   "execution_count": 52,
   "metadata": {},
   "outputs": [
    {
     "name": "stdout",
     "output_type": "stream",
     "text": [
      " assert_string_equal(actual, desired)\n",
      "\n",
      "Test if two strings are equal.\n",
      "\n",
      "If the given strings are equal, `assert_string_equal` does nothing.\n",
      "If they are not equal, an AssertionError is raised, and the diff\n",
      "between the strings is shown.\n",
      "\n",
      "Parameters\n",
      "----------\n",
      "actual : str\n",
      "    The string to test for equality against the expected string.\n",
      "desired : str\n",
      "    The expected string.\n",
      "\n",
      "Examples\n",
      "--------\n",
      ">>> np.testing.assert_string_equal('abc', 'abc')\n",
      ">>> np.testing.assert_string_equal('abc', 'abcd')\n",
      "Traceback (most recent call last):\n",
      "  File \"<stdin>\", line 1, in <module>\n",
      "...\n",
      "AssertionError: Differences in strings:\n",
      "- abc+ abcd?    +\n"
     ]
    }
   ],
   "source": [
    "np.info(testing.assert_string_equal)"
   ]
  },
  {
   "cell_type": "code",
   "execution_count": 54,
   "metadata": {},
   "outputs": [],
   "source": [
    "testing.assert_string_equal('abc', 'abc')"
   ]
  },
  {
   "cell_type": "code",
   "execution_count": 56,
   "metadata": {},
   "outputs": [
    {
     "ename": "AssertionError",
     "evalue": "Differences in strings:\n- abc+ Abc",
     "output_type": "error",
     "traceback": [
      "\u001b[1;31m---------------------------------------------------------------------------\u001b[0m",
      "\u001b[1;31mAssertionError\u001b[0m                            Traceback (most recent call last)",
      "\u001b[1;32m<ipython-input-56-2b7dee6fae81>\u001b[0m in \u001b[0;36m<module>\u001b[1;34m\u001b[0m\n\u001b[1;32m----> 1\u001b[1;33m \u001b[0mtesting\u001b[0m\u001b[1;33m.\u001b[0m\u001b[0massert_string_equal\u001b[0m\u001b[1;33m(\u001b[0m\u001b[1;34m'abc'\u001b[0m\u001b[1;33m,\u001b[0m \u001b[1;34m'Abc'\u001b[0m\u001b[1;33m)\u001b[0m\u001b[1;33m\u001b[0m\u001b[1;33m\u001b[0m\u001b[0m\n\u001b[0m",
      "\u001b[1;32m~\\Anaconda3\\lib\\site-packages\\numpy\\testing\\_private\\utils.py\u001b[0m in \u001b[0;36massert_string_equal\u001b[1;34m(actual, desired)\u001b[0m\n\u001b[0;32m   1167\u001b[0m     \u001b[0mmsg\u001b[0m \u001b[1;33m=\u001b[0m \u001b[1;34m'Differences in strings:\\n%s'\u001b[0m \u001b[1;33m%\u001b[0m \u001b[1;33m(\u001b[0m\u001b[1;34m''\u001b[0m\u001b[1;33m.\u001b[0m\u001b[0mjoin\u001b[0m\u001b[1;33m(\u001b[0m\u001b[0mdiff_list\u001b[0m\u001b[1;33m)\u001b[0m\u001b[1;33m)\u001b[0m\u001b[1;33m.\u001b[0m\u001b[0mrstrip\u001b[0m\u001b[1;33m(\u001b[0m\u001b[1;33m)\u001b[0m\u001b[1;33m\u001b[0m\u001b[1;33m\u001b[0m\u001b[0m\n\u001b[0;32m   1168\u001b[0m     \u001b[1;32mif\u001b[0m \u001b[0mactual\u001b[0m \u001b[1;33m!=\u001b[0m \u001b[0mdesired\u001b[0m\u001b[1;33m:\u001b[0m\u001b[1;33m\u001b[0m\u001b[1;33m\u001b[0m\u001b[0m\n\u001b[1;32m-> 1169\u001b[1;33m         \u001b[1;32mraise\u001b[0m \u001b[0mAssertionError\u001b[0m\u001b[1;33m(\u001b[0m\u001b[0mmsg\u001b[0m\u001b[1;33m)\u001b[0m\u001b[1;33m\u001b[0m\u001b[1;33m\u001b[0m\u001b[0m\n\u001b[0m\u001b[0;32m   1170\u001b[0m \u001b[1;33m\u001b[0m\u001b[0m\n\u001b[0;32m   1171\u001b[0m \u001b[1;33m\u001b[0m\u001b[0m\n",
      "\u001b[1;31mAssertionError\u001b[0m: Differences in strings:\n- abc+ Abc"
     ]
    }
   ],
   "source": [
    "testing.assert_string_equal('abc', 'Abc')"
   ]
  },
  {
   "cell_type": "markdown",
   "metadata": {},
   "source": [
    "# Unit test"
   ]
  },
  {
   "cell_type": "markdown",
   "metadata": {},
   "source": [
    "Unit tests are automated tests, which test a small piece of code, usually a function or\n",
    "method.  \n",
    "Python has the **`PyUnit`** API for unit testing. As NumPy users, we can make\n",
    "use of the assert functions we saw in action before."
   ]
  },
  {
   "cell_type": "code",
   "execution_count": 59,
   "metadata": {},
   "outputs": [],
   "source": [
    "def factorial(n):\n",
    "    if n < 0:\n",
    "        raise 'unexpected negative value'\n",
    "    if n == 0: return 1\n",
    "    return n * factorial(n - 1)"
   ]
  },
  {
   "cell_type": "markdown",
   "metadata": {},
   "source": [
    "Now we will write the unit test. Let's write a class that will contain the unit tests.  \n",
    "It extends the TestCase class from the **`unittest`** module, which is part of\n",
    "standard Python. "
   ]
  },
  {
   "cell_type": "code",
   "execution_count": 60,
   "metadata": {},
   "outputs": [],
   "source": [
    "import unittest"
   ]
  },
  {
   "cell_type": "code",
   "execution_count": 61,
   "metadata": {},
   "outputs": [],
   "source": [
    "class FactorialTest(unittest.TestCase):\n",
    "    def test_factorial(self):\n",
    "        testing.assert_equal(6, factorial(3))\n",
    "    def test_zero(self):\n",
    "        testing.assert_equal(1, factorial(0))\n",
    "    def test_negative(self):\n",
    "        pass"
   ]
  },
  {
   "cell_type": "code",
   "execution_count": 62,
   "metadata": {},
   "outputs": [],
   "source": [
    "if __name__ == 'main':\n",
    "    unittest.main()"
   ]
  },
  {
   "cell_type": "markdown",
   "metadata": {},
   "source": [
    "# Docstrings"
   ]
  },
  {
   "cell_type": "code",
   "execution_count": 63,
   "metadata": {},
   "outputs": [
    {
     "name": "stdout",
     "output_type": "stream",
     "text": [
      " rundocs(filename=None, raise_on_error=True)\n",
      "\n",
      "Run doctests found in the given file.\n",
      "\n",
      "By default `rundocs` raises an AssertionError on failure.\n",
      "\n",
      "Parameters\n",
      "----------\n",
      "filename : str\n",
      "    The path to the file for which the doctests are run.\n",
      "raise_on_error : bool\n",
      "    Whether to raise an AssertionError when a doctest fails. Default is\n",
      "    True.\n",
      "\n",
      "Notes\n",
      "-----\n",
      "The doctests can be run by the user/developer by adding the ``doctests``\n",
      "argument to the ``test()`` call. For example, to run all tests (including\n",
      "doctests) for `numpy.lib`:\n",
      "\n",
      ">>> np.lib.test(doctests=True)  # doctest: +SKIP\n"
     ]
    }
   ],
   "source": [
    "np.info(testing.rundocs)"
   ]
  },
  {
   "cell_type": "code",
   "execution_count": null,
   "metadata": {},
   "outputs": [],
   "source": []
  }
 ],
 "metadata": {
  "kernelspec": {
   "display_name": "Python 3",
   "language": "python",
   "name": "python3"
  },
  "language_info": {
   "codemirror_mode": {
    "name": "ipython",
    "version": 3
   },
   "file_extension": ".py",
   "mimetype": "text/x-python",
   "name": "python",
   "nbconvert_exporter": "python",
   "pygments_lexer": "ipython3",
   "version": "3.7.3"
  }
 },
 "nbformat": 4,
 "nbformat_minor": 2
}
