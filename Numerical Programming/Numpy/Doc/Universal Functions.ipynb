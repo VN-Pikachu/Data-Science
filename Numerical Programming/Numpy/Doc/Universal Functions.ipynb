{
 "cells": [
  {
   "cell_type": "markdown",
   "metadata": {},
   "source": [
    "**Universal functions (ufuncs)** expect a set of scalars as input and produce a set of scalars as\n",
    "output.  \n",
    "They are actually Python objects that encapsulate the behavior of a function.  \n",
    "\n",
    "Universal functions are not functions\n",
    "but Python objects representing functions. Universal functions have five important methods\n",
    "listed as follows:"
   ]
  },
  {
   "cell_type": "markdown",
   "metadata": {},
   "source": [
    "```python\n",
    "1. ufunc.reduce(a[, axis, dtype, out, keepdims])\n",
    "2. ufunc.accumulate(array[, axis, dtype, out])\n",
    "3. ufunc.reduceat(a, indices[, axis, dtype, out])\n",
    "4. ufunc.outer(A, B)\n",
    "5. ufunc.at(a, indices[, b])])])\n",
    "6. ufunc.at(a, indices[, b]).\n",
    "```\n"
   ]
  },
  {
   "cell_type": "code",
   "execution_count": 46,
   "metadata": {},
   "outputs": [],
   "source": [
    "import numpy as np"
   ]
  },
  {
   "cell_type": "markdown",
   "metadata": {},
   "source": [
    "# Creating Universal Funcions"
   ]
  },
  {
   "cell_type": "markdown",
   "metadata": {},
   "source": [
    "**`np.frompyfunc`**: take an abitrary python function and return a Numpy ufunc"
   ]
  },
  {
   "cell_type": "markdown",
   "metadata": {},
   "source": [
    "```python\n",
    "frompyfunc(func, nin, nout)\n",
    "```"
   ]
  },
  {
   "cell_type": "code",
   "execution_count": 7,
   "metadata": {},
   "outputs": [
    {
     "name": "stdout",
     "output_type": "stream",
     "text": [
      "frompyfunc(func, nin, nout)\n",
      "\n",
      "Takes an arbitrary Python function and returns a NumPy ufunc.\n",
      "\n",
      "Can be used, for example, to add broadcasting to a built-in Python\n",
      "function (see Examples section).\n",
      "\n",
      "Parameters\n",
      "----------\n",
      "func : Python function object\n",
      "    An arbitrary Python function.\n",
      "nin : int\n",
      "    The number of input arguments.\n",
      "nout : int\n",
      "    The number of objects returned by `func`.\n",
      "\n",
      "Returns\n",
      "-------\n",
      "out : ufunc\n",
      "    Returns a NumPy universal function (``ufunc``) object.\n",
      "\n",
      "See Also\n",
      "--------\n",
      "vectorize : evaluates pyfunc over input arrays using broadcasting rules of numpy\n",
      "\n",
      "Notes\n",
      "-----\n",
      "The returned ufunc always returns PyObject arrays.\n",
      "\n",
      "Examples\n",
      "--------\n",
      "Use frompyfunc to add broadcasting to the Python function ``oct``:\n",
      "\n",
      ">>> oct_array = np.frompyfunc(oct, 1, 1)\n",
      ">>> oct_array(np.array((10, 30, 100)))\n",
      "array([012, 036, 0144], dtype=object)\n",
      ">>> np.array((oct(10), oct(30), oct(100))) # for comparison\n",
      "array(['012', '036', '0144'],\n",
      "      dtype='|S4')\n"
     ]
    }
   ],
   "source": [
    "np.info(np.frompyfunc)"
   ]
  },
  {
   "cell_type": "markdown",
   "metadata": {},
   "source": [
    "Create ufunc: twos_like"
   ]
  },
  {
   "cell_type": "code",
   "execution_count": 11,
   "metadata": {},
   "outputs": [
    {
     "data": {
      "text/plain": [
       "array([[array(2), array(2)],\n",
       "       [array(2), array(2)]], dtype=object)"
      ]
     },
     "execution_count": 11,
     "metadata": {},
     "output_type": "execute_result"
    }
   ],
   "source": [
    "def twos(a):\n",
    "    return np.full_like(a, 2)\n",
    "twos_like = np.frompyfunc(twos,1,1) #1 input parameter, 1 output parameter\n",
    "twos_like([[1,2], [3,4]])"
   ]
  },
  {
   "cell_type": "code",
   "execution_count": 13,
   "metadata": {},
   "outputs": [
    {
     "data": {
      "text/plain": [
       "['__call__',\n",
       " '__class__',\n",
       " '__delattr__',\n",
       " '__dir__',\n",
       " '__doc__',\n",
       " '__eq__',\n",
       " '__format__',\n",
       " '__ge__',\n",
       " '__getattribute__',\n",
       " '__gt__',\n",
       " '__hash__',\n",
       " '__init__',\n",
       " '__init_subclass__',\n",
       " '__le__',\n",
       " '__lt__',\n",
       " '__name__',\n",
       " '__ne__',\n",
       " '__new__',\n",
       " '__reduce__',\n",
       " '__reduce_ex__',\n",
       " '__repr__',\n",
       " '__setattr__',\n",
       " '__sizeof__',\n",
       " '__str__',\n",
       " '__subclasshook__',\n",
       " 'accumulate',\n",
       " 'at',\n",
       " 'identity',\n",
       " 'nargs',\n",
       " 'nin',\n",
       " 'nout',\n",
       " 'ntypes',\n",
       " 'outer',\n",
       " 'reduce',\n",
       " 'reduceat',\n",
       " 'signature',\n",
       " 'types']"
      ]
     },
     "execution_count": 13,
     "metadata": {},
     "output_type": "execute_result"
    }
   ],
   "source": [
    "dir(twos_like)"
   ]
  },
  {
   "cell_type": "markdown",
   "metadata": {},
   "source": [
    "# Methods"
   ]
  },
  {
   "cell_type": "code",
   "execution_count": 17,
   "metadata": {},
   "outputs": [],
   "source": [
    "a = np.arange(9)"
   ]
  },
  {
   "cell_type": "markdown",
   "metadata": {},
   "source": [
    "**`ufunc.reduce`**"
   ]
  },
  {
   "cell_type": "code",
   "execution_count": 18,
   "metadata": {},
   "outputs": [
    {
     "data": {
      "text/plain": [
       "36"
      ]
     },
     "execution_count": 18,
     "metadata": {},
     "output_type": "execute_result"
    }
   ],
   "source": [
    "np.add.reduce(a) #equivalent np.sum"
   ]
  },
  {
   "cell_type": "markdown",
   "metadata": {},
   "source": [
    "**`ufunc.accumulate`**"
   ]
  },
  {
   "cell_type": "code",
   "execution_count": 30,
   "metadata": {},
   "outputs": [
    {
     "data": {
      "text/plain": [
       "array([ 0,  1,  3,  6, 10, 15, 21, 28, 36], dtype=int32)"
      ]
     },
     "execution_count": 30,
     "metadata": {},
     "output_type": "execute_result"
    }
   ],
   "source": [
    "np.add.accumulate(a) #equivalent np.cumsum\n"
   ]
  },
  {
   "cell_type": "markdown",
   "metadata": {},
   "source": [
    "**`ufunc.reduceat`**"
   ]
  },
  {
   "cell_type": "code",
   "execution_count": 32,
   "metadata": {},
   "outputs": [
    {
     "data": {
      "text/plain": [
       "array([10,  5, 20, 15], dtype=int32)"
      ]
     },
     "execution_count": 32,
     "metadata": {},
     "output_type": "execute_result"
    }
   ],
   "source": [
    "np.add.reduceat(a, indices = [0,5,2,7])"
   ]
  },
  {
   "cell_type": "code",
   "execution_count": 33,
   "metadata": {},
   "outputs": [
    {
     "data": {
      "text/plain": [
       "10"
      ]
     },
     "execution_count": 33,
     "metadata": {},
     "output_type": "execute_result"
    }
   ],
   "source": [
    "#step1:\n",
    "a[0:5].sum()"
   ]
  },
  {
   "cell_type": "code",
   "execution_count": 34,
   "metadata": {},
   "outputs": [
    {
     "data": {
      "text/plain": [
       "5"
      ]
     },
     "execution_count": 34,
     "metadata": {},
     "output_type": "execute_result"
    }
   ],
   "source": [
    "#step2: 5 > 2 so return a[5]\n",
    "a[5]"
   ]
  },
  {
   "cell_type": "code",
   "execution_count": 37,
   "metadata": {},
   "outputs": [
    {
     "data": {
      "text/plain": [
       "20"
      ]
     },
     "execution_count": 37,
     "metadata": {},
     "output_type": "execute_result"
    }
   ],
   "source": [
    "#step3:\n",
    "a[2:7].sum()"
   ]
  },
  {
   "cell_type": "code",
   "execution_count": 38,
   "metadata": {},
   "outputs": [
    {
     "data": {
      "text/plain": [
       "15"
      ]
     },
     "execution_count": 38,
     "metadata": {},
     "output_type": "execute_result"
    }
   ],
   "source": [
    "#step4\n",
    "a[7:].sum()"
   ]
  },
  {
   "cell_type": "markdown",
   "metadata": {},
   "source": [
    "**`ufuncs.outer`**"
   ]
  },
  {
   "cell_type": "code",
   "execution_count": 43,
   "metadata": {},
   "outputs": [
    {
     "data": {
      "text/plain": [
       "array([[1, 2],\n",
       "       [2, 4]])"
      ]
     },
     "execution_count": 43,
     "metadata": {},
     "output_type": "execute_result"
    }
   ],
   "source": [
    "np.multiply.outer([1,2], [1,2]) #equivalent : np.outer([1,2], [1,2])"
   ]
  },
  {
   "cell_type": "code",
   "execution_count": 44,
   "metadata": {},
   "outputs": [
    {
     "data": {
      "text/plain": [
       "array([[2, 3],\n",
       "       [3, 4]])"
      ]
     },
     "execution_count": 44,
     "metadata": {},
     "output_type": "execute_result"
    }
   ],
   "source": [
    "np.add.outer([1,2], [1,2]) #adding instead of multiplying like np.multiply.outer"
   ]
  },
  {
   "cell_type": "markdown",
   "metadata": {},
   "source": [
    "**`ufunc.at`**: Fancy indexing in-place"
   ]
  },
  {
   "cell_type": "code",
   "execution_count": 57,
   "metadata": {},
   "outputs": [
    {
     "data": {
      "text/plain": [
       "array([ 1,  2, -3, -5,  7])"
      ]
     },
     "execution_count": 57,
     "metadata": {},
     "output_type": "execute_result"
    }
   ],
   "source": [
    "arr = np.array([1,-2,-3,5,7])\n",
    "\n",
    "np.negative.at(arr, [1,3]) #multiply values at index 1 and 3 by -1, inplace\n",
    "arr"
   ]
  },
  {
   "cell_type": "code",
   "execution_count": 59,
   "metadata": {},
   "outputs": [],
   "source": [
    "np.nonzero?"
   ]
  },
  {
   "cell_type": "markdown",
   "metadata": {},
   "source": [
    "sum alemeent at specific indices (allow duplicated)"
   ]
  },
  {
   "cell_type": "code",
   "execution_count": 3,
   "metadata": {},
   "outputs": [
    {
     "data": {
      "text/plain": [
       "array([0., 2., 1., 1., 0.])"
      ]
     },
     "execution_count": 3,
     "metadata": {},
     "output_type": "execute_result"
    }
   ],
   "source": [
    "res = np.zeros(5)\n",
    "\n",
    "np.add.at(res, [1, 3, 1, 2], [1, 1, 1, 1])\n",
    "\n",
    "res"
   ]
  }
 ],
 "metadata": {
  "kernelspec": {
   "display_name": "Python 3",
   "language": "python",
   "name": "python3"
  },
  "language_info": {
   "codemirror_mode": {
    "name": "ipython",
    "version": 3
   },
   "file_extension": ".py",
   "mimetype": "text/x-python",
   "name": "python",
   "nbconvert_exporter": "python",
   "pygments_lexer": "ipython3",
   "version": "3.7.9"
  }
 },
 "nbformat": 4,
 "nbformat_minor": 4
}
