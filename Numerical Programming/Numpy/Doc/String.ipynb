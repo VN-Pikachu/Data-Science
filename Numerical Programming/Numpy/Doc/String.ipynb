{
 "cells": [
  {
   "cell_type": "code",
   "execution_count": 6,
   "metadata": {},
   "outputs": [],
   "source": [
    "import numpy as np"
   ]
  },
  {
   "cell_type": "code",
   "execution_count": 8,
   "metadata": {},
   "outputs": [
    {
     "data": {
      "text/plain": [
       "['__all__',\n",
       " '__builtins__',\n",
       " '__cached__',\n",
       " '__doc__',\n",
       " '__file__',\n",
       " '__loader__',\n",
       " '__name__',\n",
       " '__package__',\n",
       " '__spec__',\n",
       " '_binary_op_dispatcher',\n",
       " '_bytes',\n",
       " '_center_dispatcher',\n",
       " '_clean_args',\n",
       " '_code_dispatcher',\n",
       " '_count_dispatcher',\n",
       " '_endswith_dispatcher',\n",
       " '_expandtabs_dispatcher',\n",
       " '_get_num_chars',\n",
       " '_globalvar',\n",
       " '_join_dispatcher',\n",
       " '_just_dispatcher',\n",
       " '_len',\n",
       " '_mod_dispatcher',\n",
       " '_multiply_dispatcher',\n",
       " '_partition_dispatcher',\n",
       " '_replace_dispatcher',\n",
       " '_split_dispatcher',\n",
       " '_splitlines_dispatcher',\n",
       " '_startswith_dispatcher',\n",
       " '_strip_dispatcher',\n",
       " '_to_string_or_unicode_array',\n",
       " '_translate_dispatcher',\n",
       " '_unary_op_dispatcher',\n",
       " '_unicode',\n",
       " '_use_unicode',\n",
       " '_vec_string',\n",
       " '_zfill_dispatcher',\n",
       " 'absolute_import',\n",
       " 'add',\n",
       " 'array',\n",
       " 'array_function_dispatch',\n",
       " 'asarray',\n",
       " 'asbytes',\n",
       " 'bool_',\n",
       " 'capitalize',\n",
       " 'center',\n",
       " 'character',\n",
       " 'chararray',\n",
       " 'compare_chararrays',\n",
       " 'count',\n",
       " 'decode',\n",
       " 'division',\n",
       " 'encode',\n",
       " 'endswith',\n",
       " 'equal',\n",
       " 'expandtabs',\n",
       " 'find',\n",
       " 'functools',\n",
       " 'greater',\n",
       " 'greater_equal',\n",
       " 'index',\n",
       " 'integer',\n",
       " 'isalnum',\n",
       " 'isalpha',\n",
       " 'isdecimal',\n",
       " 'isdigit',\n",
       " 'islower',\n",
       " 'isnumeric',\n",
       " 'isspace',\n",
       " 'istitle',\n",
       " 'isupper',\n",
       " 'join',\n",
       " 'less',\n",
       " 'less_equal',\n",
       " 'ljust',\n",
       " 'long',\n",
       " 'lower',\n",
       " 'lstrip',\n",
       " 'mod',\n",
       " 'multiply',\n",
       " 'narray',\n",
       " 'ndarray',\n",
       " 'not_equal',\n",
       " 'numpy',\n",
       " 'object_',\n",
       " 'overrides',\n",
       " 'partition',\n",
       " 'print_function',\n",
       " 'replace',\n",
       " 'rfind',\n",
       " 'rindex',\n",
       " 'rjust',\n",
       " 'rpartition',\n",
       " 'rsplit',\n",
       " 'rstrip',\n",
       " 'set_module',\n",
       " 'split',\n",
       " 'splitlines',\n",
       " 'startswith',\n",
       " 'str_len',\n",
       " 'string_',\n",
       " 'strip',\n",
       " 'swapcase',\n",
       " 'sys',\n",
       " 'title',\n",
       " 'translate',\n",
       " 'unicode_',\n",
       " 'upper',\n",
       " 'zfill']"
      ]
     },
     "execution_count": 8,
     "metadata": {},
     "output_type": "execute_result"
    }
   ],
   "source": [
    "dir(np.char)"
   ]
  },
  {
   "cell_type": "markdown",
   "metadata": {},
   "source": [
    "# numpy.char.add(arr_str_1, arr_str_2)"
   ]
  },
  {
   "cell_type": "markdown",
   "metadata": {},
   "source": [
    "element-wise string concatenation"
   ]
  },
  {
   "cell_type": "code",
   "execution_count": 8,
   "metadata": {},
   "outputs": [
    {
     "data": {
      "text/plain": [
       "array(['Name:', 'Level:', 'Clan:'], dtype='<U6')"
      ]
     },
     "execution_count": 8,
     "metadata": {},
     "output_type": "execute_result"
    }
   ],
   "source": [
    "title = np.array(['Name:', 'Level:', 'Clan:'])\n",
    "title"
   ]
  },
  {
   "cell_type": "code",
   "execution_count": 6,
   "metadata": {},
   "outputs": [],
   "source": [
    "data = np.array(['VN Pikachu', '30', 'VN Champions'])"
   ]
  },
  {
   "cell_type": "code",
   "execution_count": 10,
   "metadata": {},
   "outputs": [
    {
     "data": {
      "text/plain": [
       "array(['Name:VN Pikachu', 'Level:30', 'Clan:VN Champions'], dtype='<U18')"
      ]
     },
     "execution_count": 10,
     "metadata": {},
     "output_type": "execute_result"
    }
   ],
   "source": [
    "np.char.add(title, data)"
   ]
  },
  {
   "cell_type": "code",
   "execution_count": 11,
   "metadata": {},
   "outputs": [],
   "source": [
    "np.char.add?"
   ]
  },
  {
   "cell_type": "markdown",
   "metadata": {},
   "source": [
    "# numpy.char.multiply(a, i)"
   ]
  },
  {
   "cell_type": "markdown",
   "metadata": {},
   "source": [
    "Return (a * i), that is string multiple concatenation,\n",
    "element-wise"
   ]
  },
  {
   "cell_type": "code",
   "execution_count": 14,
   "metadata": {},
   "outputs": [
    {
     "data": {
      "text/plain": [
       "array(['VN PikachuVN Pikachu', '3030', 'VN ChampionsVN Champions'],\n",
       "      dtype='<U24')"
      ]
     },
     "execution_count": 14,
     "metadata": {},
     "output_type": "execute_result"
    }
   ],
   "source": [
    "np.char.multiply(data, 2)"
   ]
  },
  {
   "cell_type": "markdown",
   "metadata": {},
   "source": [
    "# np.char.center(a, int width, fillchar)"
   ]
  },
  {
   "cell_type": "markdown",
   "metadata": {},
   "source": [
    "Reference: **`np.char.ljust`**, **`np.char.rjust`**"
   ]
  },
  {
   "cell_type": "code",
   "execution_count": 16,
   "metadata": {},
   "outputs": [
    {
     "data": {
      "text/plain": [
       "array(['-------Name:--------', '-------Level:-------',\n",
       "       '-------Clan:--------'], dtype='<U20')"
      ]
     },
     "execution_count": 16,
     "metadata": {},
     "output_type": "execute_result"
    }
   ],
   "source": [
    "np.char.center(title, width = 20, fillchar = '-')"
   ]
  },
  {
   "cell_type": "markdown",
   "metadata": {},
   "source": [
    "# np.char.capitalize(a)"
   ]
  },
  {
   "cell_type": "code",
   "execution_count": 19,
   "metadata": {},
   "outputs": [],
   "source": [
    "motto = ['together', 'we', 'are', 'brother']"
   ]
  },
  {
   "cell_type": "code",
   "execution_count": 20,
   "metadata": {},
   "outputs": [
    {
     "data": {
      "text/plain": [
       "array(['Together', 'We', 'Are', 'Brother'], dtype='<U8')"
      ]
     },
     "execution_count": 20,
     "metadata": {},
     "output_type": "execute_result"
    }
   ],
   "source": [
    "np.char.capitalize(motto)"
   ]
  },
  {
   "cell_type": "markdown",
   "metadata": {},
   "source": [
    "# np.char.title(a)"
   ]
  },
  {
   "cell_type": "code",
   "execution_count": 18,
   "metadata": {},
   "outputs": [
    {
     "data": {
      "text/plain": [
       "array(['Never', 'Give', 'Up'], dtype='<U5')"
      ]
     },
     "execution_count": 18,
     "metadata": {},
     "output_type": "execute_result"
    }
   ],
   "source": [
    "np.char.title(['never', 'give', 'up'])"
   ]
  },
  {
   "cell_type": "markdown",
   "metadata": {},
   "source": [
    "# np.char.upper(a)"
   ]
  },
  {
   "cell_type": "markdown",
   "metadata": {},
   "source": [
    "Reference: **`np.char.isupper`**, **`np.char.lower`**, np.char.islower`**"
   ]
  },
  {
   "cell_type": "code",
   "execution_count": 22,
   "metadata": {},
   "outputs": [
    {
     "data": {
      "text/plain": [
       "array(['mother', 'fucking', 'cheater'], dtype='<U7')"
      ]
     },
     "execution_count": 22,
     "metadata": {},
     "output_type": "execute_result"
    }
   ],
   "source": [
    "np.char.lower(['MOTHER', 'FUCKING', 'CHEATER'])"
   ]
  },
  {
   "cell_type": "markdown",
   "metadata": {},
   "source": [
    "# np.char.split(a, sep = None, maxsplit = None)"
   ]
  },
  {
   "cell_type": "code",
   "execution_count": 25,
   "metadata": {},
   "outputs": [
    {
     "data": {
      "text/plain": [
       "['An empty street', 'An empty house', 'A hole inside my heart']"
      ]
     },
     "execution_count": 25,
     "metadata": {},
     "output_type": "execute_result"
    }
   ],
   "source": [
    "lyric = ['An empty street', 'An empty house', 'A hole inside my heart']\n",
    "lyric"
   ]
  },
  {
   "cell_type": "code",
   "execution_count": 26,
   "metadata": {},
   "outputs": [
    {
     "data": {
      "text/plain": [
       "array([list(['An', 'empty', 'street']), list(['An', 'empty', 'house']),\n",
       "       list(['A', 'hole', 'inside', 'my', 'heart'])], dtype=object)"
      ]
     },
     "execution_count": 26,
     "metadata": {},
     "output_type": "execute_result"
    }
   ],
   "source": [
    "np.char.split(lyric, ' ')"
   ]
  },
  {
   "cell_type": "markdown",
   "metadata": {},
   "source": [
    "# np.char.strip(a, chars = None)"
   ]
  },
  {
   "cell_type": "markdown",
   "metadata": {},
   "source": [
    "Reference: **`np.char.lstrip`**, **`np.char.rstrip`**"
   ]
  },
  {
   "cell_type": "code",
   "execution_count": 30,
   "metadata": {},
   "outputs": [],
   "source": [
    "my_data = ['xXx-Hadi-xXx', '   VN Pikachu   ']"
   ]
  },
  {
   "cell_type": "code",
   "execution_count": 31,
   "metadata": {},
   "outputs": [
    {
     "data": {
      "text/plain": [
       "array(['xXx-Hadi-xXx', 'VN Pikachu'], dtype='<U16')"
      ]
     },
     "execution_count": 31,
     "metadata": {},
     "output_type": "execute_result"
    }
   ],
   "source": [
    "np.char.strip(my_data)"
   ]
  },
  {
   "cell_type": "code",
   "execution_count": 32,
   "metadata": {},
   "outputs": [
    {
     "data": {
      "text/plain": [
       "array(['-Hadi-', '   VN Pikachu   '], dtype='<U16')"
      ]
     },
     "execution_count": 32,
     "metadata": {},
     "output_type": "execute_result"
    }
   ],
   "source": [
    "np.char.strip(my_data, 'xXx')"
   ]
  },
  {
   "cell_type": "markdown",
   "metadata": {},
   "source": [
    "# np.char.join(sep, seq)"
   ]
  },
  {
   "cell_type": "markdown",
   "metadata": {},
   "source": [
    "Normal join:"
   ]
  },
  {
   "cell_type": "code",
   "execution_count": 3,
   "metadata": {},
   "outputs": [
    {
     "data": {
      "text/plain": [
       "'I.Love.U'"
      ]
     },
     "execution_count": 3,
     "metadata": {},
     "output_type": "execute_result"
    }
   ],
   "source": [
    "'.'.join(['I', 'Love', 'U'])"
   ]
  },
  {
   "cell_type": "markdown",
   "metadata": {},
   "source": [
    "Element-wise join:"
   ]
  },
  {
   "cell_type": "code",
   "execution_count": 34,
   "metadata": {},
   "outputs": [
    {
     "data": {
      "text/plain": [
       "array(['P.i.k.a.c.h.u', 'C-h-a-m-p-i-o-n-s'], dtype='<U17')"
      ]
     },
     "execution_count": 34,
     "metadata": {},
     "output_type": "execute_result"
    }
   ],
   "source": [
    "np.char.join(['.', '-'], ['Pikachu', 'Champions'])"
   ]
  },
  {
   "cell_type": "markdown",
   "metadata": {},
   "source": [
    "# np.char.replace(a, old, new)"
   ]
  },
  {
   "cell_type": "code",
   "execution_count": 37,
   "metadata": {},
   "outputs": [],
   "source": [
    "members = ['Hoang Xa VN', 'VN Pikachu', 'Bac Giang VN', 'VN Wanie', 'Tank Cao']"
   ]
  },
  {
   "cell_type": "code",
   "execution_count": 38,
   "metadata": {},
   "outputs": [
    {
     "data": {
      "text/plain": [
       "array(['Hoang Xa ?', '? Pikachu', 'Bac Giang ?', '? Wanie', 'Tank Cao'],\n",
       "      dtype='<U11')"
      ]
     },
     "execution_count": 38,
     "metadata": {},
     "output_type": "execute_result"
    }
   ],
   "source": [
    "np.char.replace(members, 'VN', '?')"
   ]
  }
 ],
 "metadata": {
  "kernelspec": {
   "display_name": "Python 3",
   "language": "python",
   "name": "python3"
  },
  "language_info": {
   "codemirror_mode": {
    "name": "ipython",
    "version": 3
   },
   "file_extension": ".py",
   "mimetype": "text/x-python",
   "name": "python",
   "nbconvert_exporter": "python",
   "pygments_lexer": "ipython3",
   "version": "3.7.9"
  }
 },
 "nbformat": 4,
 "nbformat_minor": 2
}
