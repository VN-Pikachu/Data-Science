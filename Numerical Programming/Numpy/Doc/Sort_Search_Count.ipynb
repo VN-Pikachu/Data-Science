{
 "cells": [
  {
   "cell_type": "code",
   "execution_count": 1,
   "metadata": {},
   "outputs": [],
   "source": [
    "import numpy as np"
   ]
  },
  {
   "cell_type": "markdown",
   "metadata": {},
   "source": [
    "# np.sort, np.argsort, np.searchsorted"
   ]
  },
  {
   "cell_type": "markdown",
   "metadata": {},
   "source": [
    "## np.sort(a, axis, kind, order)"
   ]
  },
  {
   "cell_type": "code",
   "execution_count": 3,
   "metadata": {},
   "outputs": [
    {
     "data": {
      "text/plain": [
       "array([7, 0, 1, 2, 6, 3, 2, 9, 2, 9, 1, 4, 6, 1, 4, 4, 8, 4, 9, 5, 6, 1,\n",
       "       4, 8, 2, 4, 0, 9, 8, 8, 8, 6, 0, 7, 7, 7, 4, 3, 1, 5, 8, 3, 4, 2,\n",
       "       1, 4, 8, 4, 4, 4])"
      ]
     },
     "execution_count": 3,
     "metadata": {},
     "output_type": "execute_result"
    }
   ],
   "source": [
    "arr = np.random.randint(0, 10, 50)\n",
    "arr"
   ]
  },
  {
   "cell_type": "code",
   "execution_count": 7,
   "metadata": {},
   "outputs": [
    {
     "data": {
      "text/plain": [
       "array([0, 0, 0, 0, 0, 1, 1, 1, 1, 1, 2, 2, 2, 2, 3, 3, 3, 4, 4, 4, 4, 4,\n",
       "       5, 5, 5, 5, 5, 5, 6, 6, 6, 7, 7, 7, 7, 8, 8, 8, 8, 8, 9, 9, 9, 9,\n",
       "       9, 9, 9, 9, 9, 9])"
      ]
     },
     "execution_count": 7,
     "metadata": {},
     "output_type": "execute_result"
    }
   ],
   "source": [
    "np.sort(arr, kind = 'quicksort')"
   ]
  },
  {
   "cell_type": "code",
   "execution_count": 8,
   "metadata": {},
   "outputs": [
    {
     "data": {
      "text/plain": [
       "array([ 7, 11, 37, 39, 40,  6, 31, 33, 44, 46, 26, 32, 36, 38, 18, 24, 30,\n",
       "        0, 10, 14, 15, 16,  5,  8, 13, 20, 41, 45,  2, 19, 49,  3, 21, 28,\n",
       "       34,  1, 17, 23, 35, 42,  4,  9, 12, 22, 25, 27, 29, 43, 47, 48],\n",
       "      dtype=int64)"
      ]
     },
     "execution_count": 8,
     "metadata": {},
     "output_type": "execute_result"
    }
   ],
   "source": [
    "np.argsort(arr, kind = 'mergesort')"
   ]
  },
  {
   "cell_type": "code",
   "execution_count": 10,
   "metadata": {},
   "outputs": [
    {
     "data": {
      "text/plain": [
       "array([0, 0, 0, 0, 0, 1, 1, 1, 1, 1, 2, 2, 2, 2, 3, 3, 3, 4, 4, 4, 4, 4,\n",
       "       5, 5, 5, 5, 5, 5, 6, 6, 6, 7, 7, 7, 7, 8, 8, 8, 8, 8, 9, 9, 9, 9,\n",
       "       9, 9, 9, 9, 9, 9])"
      ]
     },
     "execution_count": 10,
     "metadata": {},
     "output_type": "execute_result"
    }
   ],
   "source": [
    "arr[np.argsort(arr, kind = 'heapsort')]"
   ]
  },
  {
   "cell_type": "code",
   "execution_count": 4,
   "metadata": {},
   "outputs": [
    {
     "data": {
      "text/plain": [
       "array([[7, 0, 1, 2, 6],\n",
       "       [3, 2, 9, 2, 9],\n",
       "       [1, 4, 6, 1, 4],\n",
       "       [4, 8, 4, 9, 5],\n",
       "       [6, 1, 4, 8, 2],\n",
       "       [4, 0, 9, 8, 8],\n",
       "       [8, 6, 0, 7, 7],\n",
       "       [7, 4, 3, 1, 5],\n",
       "       [8, 3, 4, 2, 1],\n",
       "       [4, 8, 4, 4, 4]])"
      ]
     },
     "execution_count": 4,
     "metadata": {},
     "output_type": "execute_result"
    }
   ],
   "source": [
    "arr_2D = arr.reshape((10,5))\n",
    "arr_2D"
   ]
  },
  {
   "cell_type": "code",
   "execution_count": 13,
   "metadata": {},
   "outputs": [
    {
     "data": {
      "text/plain": [
       "array([[0, 0, 0, 1, 0],\n",
       "       [3, 1, 0, 2, 1],\n",
       "       [4, 1, 2, 3, 3],\n",
       "       [4, 1, 6, 5, 4],\n",
       "       [4, 2, 8, 5, 6],\n",
       "       [5, 2, 8, 7, 6],\n",
       "       [5, 4, 9, 7, 7],\n",
       "       [5, 5, 9, 8, 9],\n",
       "       [8, 7, 9, 9, 9],\n",
       "       [9, 8, 9, 9, 9]])"
      ]
     },
     "execution_count": 13,
     "metadata": {},
     "output_type": "execute_result"
    }
   ],
   "source": [
    "#sort 2D array for each column\n",
    "np.sort(arr_2D, kind = 'heapsort', axis = 0)"
   ]
  },
  {
   "cell_type": "code",
   "execution_count": 5,
   "metadata": {},
   "outputs": [
    {
     "data": {
      "text/plain": [
       "array([0, 0, 0, 1, 1, 1, 1, 1, 1, 2, 2, 2, 2, 2, 3, 3, 3, 4, 4, 4, 4, 4,\n",
       "       4, 4, 4, 4, 4, 4, 4, 5, 5, 6, 6, 6, 6, 7, 7, 7, 7, 8, 8, 8, 8, 8,\n",
       "       8, 8, 9, 9, 9, 9])"
      ]
     },
     "execution_count": 5,
     "metadata": {},
     "output_type": "execute_result"
    }
   ],
   "source": [
    "#flatten then sort 2D array\n",
    "np.sort(arr_2D, axis = None)"
   ]
  },
  {
   "cell_type": "markdown",
   "metadata": {},
   "source": [
    "## Inplace sort: **`ndarray.sort`**"
   ]
  },
  {
   "cell_type": "code",
   "execution_count": 6,
   "metadata": {},
   "outputs": [
    {
     "data": {
      "text/plain": [
       "array([7, 0, 1, 2, 6, 3, 2, 9, 2, 9, 1, 4, 6, 1, 4, 4, 8, 4, 9, 5, 6, 1,\n",
       "       4, 8, 2, 4, 0, 9, 8, 8, 8, 6, 0, 7, 7, 7, 4, 3, 1, 5, 8, 3, 4, 2,\n",
       "       1, 4, 8, 4, 4, 4])"
      ]
     },
     "execution_count": 6,
     "metadata": {},
     "output_type": "execute_result"
    }
   ],
   "source": [
    "arr"
   ]
  },
  {
   "cell_type": "code",
   "execution_count": 7,
   "metadata": {},
   "outputs": [],
   "source": [
    "arr.sort(kind = 'heapsort')"
   ]
  },
  {
   "cell_type": "code",
   "execution_count": 8,
   "metadata": {},
   "outputs": [
    {
     "data": {
      "text/plain": [
       "array([0, 0, 0, 1, 1, 1, 1, 1, 1, 2, 2, 2, 2, 2, 3, 3, 3, 4, 4, 4, 4, 4,\n",
       "       4, 4, 4, 4, 4, 4, 4, 5, 5, 6, 6, 6, 6, 7, 7, 7, 7, 8, 8, 8, 8, 8,\n",
       "       8, 8, 9, 9, 9, 9])"
      ]
     },
     "execution_count": 8,
     "metadata": {},
     "output_type": "execute_result"
    }
   ],
   "source": [
    "arr"
   ]
  },
  {
   "cell_type": "markdown",
   "metadata": {},
   "source": [
    "## Sorting Structured Array"
   ]
  },
  {
   "cell_type": "markdown",
   "metadata": {},
   "source": [
    "\n",
    "Write a NumPy program to create a structured array from given student name, height, class and their data types.  \n",
    "Now sort the array on height.  \n",
    "Sample Output:  \n",
    "Original array:  \n",
    "[(b'James', 5, 48.5 ) (b'Nail', 6, 52.5 ) (b'Paul', 5, 42.1 )  \n",
    "(b'Pit', 5, 40.11)]  \n",
    "Sort by height  \n",
    "[(b'Pit', 5, 40.11) (b'Paul', 5, 42.1 ) (b'James', 5, 48.5 )  \n",
    "(b'Nail', 6, 52.5 )]\n"
   ]
  },
  {
   "cell_type": "code",
   "execution_count": 9,
   "metadata": {},
   "outputs": [
    {
     "data": {
      "text/plain": [
       "array([(b'James', 5, 48.5 ), (b'Nail', 6, 52.5 ), (b'Paul', 5, 42.1 ),\n",
       "       (b'Pit', 5, 40.11)],\n",
       "      dtype=[('Name', 'S15'), ('Class', '<i4'), ('Height', '<f8')])"
      ]
     },
     "execution_count": 9,
     "metadata": {},
     "output_type": "execute_result"
    }
   ],
   "source": [
    "dtype = np.dtype([('Name', 'S15'), ('Class', 'int'), ('Height', 'float64')])\n",
    "data = [(b'James', 5, 48.5 ),\n",
    "        (b'Nail', 6, 52.5 ),\n",
    "        (b'Paul', 5, 42.1 ),\n",
    "        (b'Pit', 5, 40.11)]\n",
    "\n",
    "df = np.array(data, dtype = dtype)\n",
    "df"
   ]
  },
  {
   "cell_type": "code",
   "execution_count": 10,
   "metadata": {},
   "outputs": [
    {
     "data": {
      "text/plain": [
       "array([(b'Pit', 5, 40.11), (b'Paul', 5, 42.1 ), (b'James', 5, 48.5 ),\n",
       "       (b'Nail', 6, 52.5 )],\n",
       "      dtype=[('Name', 'S15'), ('Class', '<i4'), ('Height', '<f8')])"
      ]
     },
     "execution_count": 10,
     "metadata": {},
     "output_type": "execute_result"
    }
   ],
   "source": [
    "np.sort(df, order = 'Height')"
   ]
  },
  {
   "cell_type": "markdown",
   "metadata": {},
   "source": [
    "# np.lexsort"
   ]
  },
  {
   "cell_type": "code",
   "execution_count": 13,
   "metadata": {},
   "outputs": [
    {
     "data": {
      "text/plain": [
       "array([1, 2, 0], dtype=int64)"
      ]
     },
     "execution_count": 13,
     "metadata": {},
     "output_type": "execute_result"
    }
   ],
   "source": [
    "#Sort names: first by surname, then by name.\n",
    "\n",
    "surnames =    ('Hertz',    'Galilei', 'Hertz')\n",
    "first_names = ('Heinrich', 'Galileo', 'Gustav')\n",
    "ind = np.lexsort((first_names, surnames))\n",
    "ind"
   ]
  },
  {
   "cell_type": "markdown",
   "metadata": {},
   "source": [
    "# np.sort_complex"
   ]
  },
  {
   "cell_type": "markdown",
   "metadata": {},
   "source": [
    " sort a given complex array using the real part first, then the imaginary part"
   ]
  },
  {
   "cell_type": "code",
   "execution_count": 14,
   "metadata": {},
   "outputs": [
    {
     "data": {
      "text/plain": [
       "array([1.+2.j, 3.-2.j, 3.-1.j, 3.+5.j, 4.-3.j])"
      ]
     },
     "execution_count": 14,
     "metadata": {},
     "output_type": "execute_result"
    }
   ],
   "source": [
    "np.sort_complex([(1+2j), (3-1j), (3-2j), (4-3j), (3+5j)])"
   ]
  },
  {
   "cell_type": "code",
   "execution_count": 15,
   "metadata": {},
   "outputs": [
    {
     "data": {
      "text/plain": [
       "array([1.+2.j, 3.-2.j, 3.-1.j, 3.+5.j, 4.-3.j])"
      ]
     },
     "execution_count": 15,
     "metadata": {},
     "output_type": "execute_result"
    }
   ],
   "source": [
    "#normal sort\n",
    "np.sort([(1+2j), (3-1j), (3-2j), (4-3j), (3+5j)])"
   ]
  },
  {
   "cell_type": "markdown",
   "metadata": {},
   "source": [
    "# np.searchsorted(a, v, kind = 'left')"
   ]
  },
  {
   "cell_type": "markdown",
   "metadata": {},
   "source": [
    "kind = 'left' is equivalent bisect_left<br>\n",
    "kind = 'right' is equivalent bisect_right"
   ]
  },
  {
   "cell_type": "markdown",
   "metadata": {},
   "source": [
    "let create a histogram consists of 3 bins : 0-> 20, 20 -> 40, 40 -> 60"
   ]
  },
  {
   "cell_type": "code",
   "execution_count": 16,
   "metadata": {},
   "outputs": [
    {
     "data": {
      "text/plain": [
       "array([15, 47,  2, 42, 44,  2, 47, 41, 27, 56, 35, 24, 55, 32, 46,  0, 30,\n",
       "       26, 17, 35, 34, 18, 42, 11, 45, 57, 11, 58, 16, 11, 38, 30, 43, 28,\n",
       "       40, 59, 40,  3,  0, 34, 45,  4, 49, 10, 33,  5, 57, 25, 31, 44,  2,\n",
       "       36, 42, 26, 15, 20,  3, 53, 54, 28,  6, 38, 37,  3, 17, 37, 22, 52,\n",
       "        4, 49, 12, 30, 19,  7, 32, 55, 59, 36, 56,  4, 10, 32, 23, 11, 56,\n",
       "       53, 18, 58,  1, 10, 49, 15, 43, 44, 41, 16, 29, 46, 32, 52, 18, 24,\n",
       "       23, 12, 29, 31, 47, 14, 45, 30, 58, 20, 32, 35, 41, 31, 11,  3,  9,\n",
       "       25])"
      ]
     },
     "execution_count": 16,
     "metadata": {},
     "output_type": "execute_result"
    }
   ],
   "source": [
    "seq = np.random.randint(0, 60, 120)\n",
    "seq"
   ]
  },
  {
   "cell_type": "code",
   "execution_count": 18,
   "metadata": {},
   "outputs": [
    {
     "data": {
      "text/plain": [
       "array([1, 3, 1, 3, 3, 1, 3, 3, 2, 3, 2, 2, 3, 2, 3, 0, 2, 2, 1, 2, 2, 1,\n",
       "       3, 1, 3, 3, 1, 3, 1, 1, 2, 2, 3, 2, 2, 3, 2, 1, 0, 2, 3, 1, 3, 1,\n",
       "       2, 1, 3, 2, 2, 3, 1, 2, 3, 2, 1, 1, 1, 3, 3, 2, 1, 2, 2, 1, 1, 2,\n",
       "       2, 3, 1, 3, 1, 2, 1, 1, 2, 3, 3, 2, 3, 1, 1, 2, 2, 1, 3, 3, 1, 3,\n",
       "       1, 1, 3, 1, 3, 3, 3, 1, 2, 3, 2, 3, 1, 2, 2, 1, 2, 2, 3, 1, 3, 2,\n",
       "       3, 1, 2, 2, 3, 2, 1, 1, 1, 2], dtype=int64)"
      ]
     },
     "execution_count": 18,
     "metadata": {},
     "output_type": "execute_result"
    }
   ],
   "source": [
    "np.searchsorted([0, 20, 40], seq)"
   ]
  },
  {
   "cell_type": "code",
   "execution_count": 20,
   "metadata": {},
   "outputs": [
    {
     "data": {
      "text/plain": [
       "array([1, 3, 1, 3, 3, 1, 3, 3, 2, 3, 2, 2, 3, 2, 3, 1, 2, 2, 1, 2, 2, 1,\n",
       "       3, 1, 3, 3, 1, 3, 1, 1, 2, 2, 3, 2, 3, 3, 3, 1, 1, 2, 3, 1, 3, 1,\n",
       "       2, 1, 3, 2, 2, 3, 1, 2, 3, 2, 1, 2, 1, 3, 3, 2, 1, 2, 2, 1, 1, 2,\n",
       "       2, 3, 1, 3, 1, 2, 1, 1, 2, 3, 3, 2, 3, 1, 1, 2, 2, 1, 3, 3, 1, 3,\n",
       "       1, 1, 3, 1, 3, 3, 3, 1, 2, 3, 2, 3, 1, 2, 2, 1, 2, 2, 3, 1, 3, 2,\n",
       "       3, 2, 2, 2, 3, 2, 1, 1, 1, 2], dtype=int64)"
      ]
     },
     "execution_count": 20,
     "metadata": {},
     "output_type": "execute_result"
    }
   ],
   "source": [
    "#equivalent to\n",
    "np.digitize(seq, [0, 20, 40])"
   ]
  },
  {
   "cell_type": "markdown",
   "metadata": {},
   "source": [
    "# np.where"
   ]
  },
  {
   "cell_type": "code",
   "execution_count": 22,
   "metadata": {},
   "outputs": [
    {
     "data": {
      "text/plain": [
       "array([[  8,  -9,  -6,  -5,  -7],\n",
       "       [  6,   1,   2,   0,   2],\n",
       "       [ -5,   8,  -6,   4,  -5],\n",
       "       [  6,  -4,   5,   1, -10],\n",
       "       [  7,   7,   7,   7,  -2]])"
      ]
     },
     "execution_count": 22,
     "metadata": {},
     "output_type": "execute_result"
    }
   ],
   "source": [
    "ndarray_2D = np.random.randint(-10, 10, (5,5))\n",
    "ndarray_2D"
   ]
  },
  {
   "cell_type": "markdown",
   "metadata": {},
   "source": [
    "let's muliply positive number by 10, turn negative to positive number"
   ]
  },
  {
   "cell_type": "code",
   "execution_count": 24,
   "metadata": {},
   "outputs": [
    {
     "data": {
      "text/plain": [
       "array([[80,  9,  6,  5,  7],\n",
       "       [60, 10, 20,  0, 20],\n",
       "       [ 5, 80,  6, 40,  5],\n",
       "       [60,  4, 50, 10, 10],\n",
       "       [70, 70, 70, 70,  2]])"
      ]
     },
     "execution_count": 24,
     "metadata": {},
     "output_type": "execute_result"
    }
   ],
   "source": [
    "np.where(ndarray_2D > 0, ndarray_2D * 10, -ndarray_2D)"
   ]
  },
  {
   "cell_type": "markdown",
   "metadata": {},
   "source": [
    "let's get the indices of values < 0"
   ]
  },
  {
   "cell_type": "code",
   "execution_count": 25,
   "metadata": {},
   "outputs": [
    {
     "data": {
      "text/plain": [
       "(array([0, 0, 0, 0, 2, 2, 2, 3, 3, 4], dtype=int64),\n",
       " array([1, 2, 3, 4, 0, 2, 4, 1, 4, 4], dtype=int64))"
      ]
     },
     "execution_count": 25,
     "metadata": {},
     "output_type": "execute_result"
    }
   ],
   "source": [
    "np.where(ndarray_2D < 0)"
   ]
  },
  {
   "cell_type": "markdown",
   "metadata": {},
   "source": [
    "# np.partition"
   ]
  },
  {
   "cell_type": "code",
   "execution_count": 20,
   "metadata": {},
   "outputs": [
    {
     "data": {
      "text/plain": [
       "array([1, 5, 4, 8, 7, 0, 2, 3, 9, 6])"
      ]
     },
     "execution_count": 20,
     "metadata": {},
     "output_type": "execute_result"
    }
   ],
   "source": [
    "arr = np.arange(10)\n",
    "np.random.shuffle(arr)\n",
    "arr"
   ]
  },
  {
   "cell_type": "markdown",
   "metadata": {},
   "source": [
    "first 3 elements will be 3 smallest values"
   ]
  },
  {
   "cell_type": "code",
   "execution_count": 4,
   "metadata": {},
   "outputs": [
    {
     "data": {
      "text/plain": [
       "array([2, 1, 0, 3, 4, 5, 8, 6, 7, 9])"
      ]
     },
     "execution_count": 4,
     "metadata": {},
     "output_type": "execute_result"
    }
   ],
   "source": [
    "np.partition(arr, 3)"
   ]
  },
  {
   "cell_type": "markdown",
   "metadata": {},
   "source": [
    "last 5 elements will be 5 largest values"
   ]
  },
  {
   "cell_type": "code",
   "execution_count": 6,
   "metadata": {},
   "outputs": [
    {
     "data": {
      "text/plain": [
       "array([4, 0, 1, 2, 3, 5, 8, 6, 7, 9])"
      ]
     },
     "execution_count": 6,
     "metadata": {},
     "output_type": "execute_result"
    }
   ],
   "source": [
    "np.partition(arr, -5)"
   ]
  },
  {
   "cell_type": "markdown",
   "metadata": {},
   "source": [
    "# np.argpartition"
   ]
  },
  {
   "cell_type": "code",
   "execution_count": 21,
   "metadata": {},
   "outputs": [
    {
     "data": {
      "text/plain": [
       "array([0, 1, 2, 3, 4, 5, 7, 8, 9, 6])"
      ]
     },
     "execution_count": 21,
     "metadata": {},
     "output_type": "execute_result"
    }
   ],
   "source": [
    "#Write a NumPy program to sort 5 elements from beginning of a given array\n",
    "arr[np.argpartition(arr, range(5))]"
   ]
  },
  {
   "cell_type": "code",
   "execution_count": 22,
   "metadata": {},
   "outputs": [
    {
     "data": {
      "text/plain": [
       "array([0, 1, 2, 3, 4, 5, 7, 8, 9, 6])"
      ]
     },
     "execution_count": 22,
     "metadata": {},
     "output_type": "execute_result"
    }
   ],
   "source": [
    "#equivalent\n",
    "np.partition(arr, range(5))"
   ]
  },
  {
   "cell_type": "code",
   "execution_count": null,
   "metadata": {},
   "outputs": [],
   "source": []
  }
 ],
 "metadata": {
  "kernelspec": {
   "display_name": "Python 3",
   "language": "python",
   "name": "python3"
  },
  "language_info": {
   "codemirror_mode": {
    "name": "ipython",
    "version": 3
   },
   "file_extension": ".py",
   "mimetype": "text/x-python",
   "name": "python",
   "nbconvert_exporter": "python",
   "pygments_lexer": "ipython3",
   "version": "3.7.3"
  }
 },
 "nbformat": 4,
 "nbformat_minor": 2
}
