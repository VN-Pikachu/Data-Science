{
 "cells": [
  {
   "cell_type": "markdown",
   "metadata": {},
   "source": [
    "# assert"
   ]
  },
  {
   "cell_type": "code",
   "execution_count": 2,
   "metadata": {},
   "outputs": [
    {
     "ename": "AssertionError",
     "evalue": "The password is incorrect",
     "output_type": "error",
     "traceback": [
      "\u001b[1;31m---------------------------------------------------------------------------\u001b[0m",
      "\u001b[1;31mAssertionError\u001b[0m                            Traceback (most recent call last)",
      "\u001b[1;32m<ipython-input-2-b0c51f9f9bc4>\u001b[0m in \u001b[0;36m<module>\u001b[1;34m\u001b[0m\n\u001b[0;32m      1\u001b[0m \u001b[0mpassword\u001b[0m \u001b[1;33m=\u001b[0m \u001b[1;34m'Meomeo888'\u001b[0m\u001b[1;33m\u001b[0m\u001b[1;33m\u001b[0m\u001b[0m\n\u001b[1;32m----> 2\u001b[1;33m \u001b[1;32massert\u001b[0m \u001b[0mpassword\u001b[0m \u001b[1;33m==\u001b[0m \u001b[1;34m'VN Pikachu'\u001b[0m\u001b[1;33m,\u001b[0m \u001b[1;34m'The password is incorrect'\u001b[0m\u001b[1;33m\u001b[0m\u001b[1;33m\u001b[0m\u001b[0m\n\u001b[0m",
      "\u001b[1;31mAssertionError\u001b[0m: The password is incorrect"
     ]
    }
   ],
   "source": [
    "password = 'Meomeo888'\n",
    "assert password == 'VN Pikachu', 'The password is incorrect'"
   ]
  },
  {
   "cell_type": "markdown",
   "metadata": {},
   "source": [
    "# isinstance"
   ]
  },
  {
   "cell_type": "code",
   "execution_count": 5,
   "metadata": {},
   "outputs": [
    {
     "data": {
      "text/plain": [
       "True"
      ]
     },
     "execution_count": 5,
     "metadata": {},
     "output_type": "execute_result"
    }
   ],
   "source": [
    "a = 5\n",
    "isinstance(a, int)"
   ]
  },
  {
   "cell_type": "code",
   "execution_count": 6,
   "metadata": {},
   "outputs": [
    {
     "data": {
      "text/plain": [
       "True"
      ]
     },
     "execution_count": 6,
     "metadata": {},
     "output_type": "execute_result"
    }
   ],
   "source": [
    "class User():\n",
    "    pass\n",
    "pikachu = User()\n",
    "isinstance(pikachu, User)"
   ]
  },
  {
   "cell_type": "code",
   "execution_count": 7,
   "metadata": {},
   "outputs": [
    {
     "data": {
      "text/plain": [
       "True"
      ]
     },
     "execution_count": 7,
     "metadata": {},
     "output_type": "execute_result"
    }
   ],
   "source": [
    "isinstance(pikachu, object)"
   ]
  },
  {
   "cell_type": "markdown",
   "metadata": {},
   "source": [
    "# issubclass"
   ]
  },
  {
   "cell_type": "code",
   "execution_count": 10,
   "metadata": {},
   "outputs": [],
   "source": [
    "class Player(User):\n",
    "    pass\n",
    "Miyu = Player()"
   ]
  },
  {
   "cell_type": "code",
   "execution_count": 12,
   "metadata": {},
   "outputs": [
    {
     "data": {
      "text/plain": [
       "True"
      ]
     },
     "execution_count": 12,
     "metadata": {},
     "output_type": "execute_result"
    }
   ],
   "source": [
    "issubclass(Player, User)"
   ]
  },
  {
   "cell_type": "markdown",
   "metadata": {},
   "source": [
    "# global object"
   ]
  },
  {
   "cell_type": "markdown",
   "metadata": {},
   "source": [
    "You can get a dictionary of the global\n",
    "symbol table for the current module"
   ]
  },
  {
   "cell_type": "markdown",
   "metadata": {},
   "source": [
    "```python\n",
    "globals()\n",
    "\n",
    "Return the dictionary containing the current scope's global variables.\n",
    "\n",
    "NOTE: Updates to this dictionary *will* affect name lookups in the current\n",
    "global scope and vice-versa.```"
   ]
  },
  {
   "cell_type": "code",
   "execution_count": 15,
   "metadata": {},
   "outputs": [
    {
     "data": {
      "text/plain": [
       "{'__name__': '__main__',\n",
       " '__doc__': 'Automatically created module for IPython interactive environment',\n",
       " '__package__': None,\n",
       " '__loader__': None,\n",
       " '__spec__': None,\n",
       " '__builtin__': <module 'builtins' (built-in)>,\n",
       " '__builtins__': <module 'builtins' (built-in)>,\n",
       " '_ih': ['',\n",
       "  \"password = 'VN Pikachu'\\nassert password == 'VN Pikachu', 'The password is incorrect'\",\n",
       "  \"password = 'Meomeo888'\\nassert password == 'VN Pikachu', 'The password is incorrect'\",\n",
       "  'int a = 5\\nisinstance(a, int)',\n",
       "  'a = 5\\nisinstance(a, int)',\n",
       "  'a = 5\\nisinstance(a, int)',\n",
       "  'class User():\\n    pass\\npikachu = User()\\nisinstance(pikachu, User)',\n",
       "  'isinstance(pikachu, object)',\n",
       "  'issubclass(pikachu, User)',\n",
       "  'class Player(User):\\n    pass\\nMiyu = Pllayer()',\n",
       "  'class Player(User):\\n    pass\\nMiyu = Player()',\n",
       "  'issubclass(User, Player)',\n",
       "  'issubclass(Player, User)',\n",
       "  'issubclass(Miyu, User)',\n",
       "  'global()',\n",
       "  'globals()'],\n",
       " '_oh': {4: True, 5: True, 6: True, 7: True, 11: False, 12: True},\n",
       " '_dh': ['C:\\\\Users\\\\dell\\\\Data Science\\\\Python\\\\The Python book'],\n",
       " 'In': ['',\n",
       "  \"password = 'VN Pikachu'\\nassert password == 'VN Pikachu', 'The password is incorrect'\",\n",
       "  \"password = 'Meomeo888'\\nassert password == 'VN Pikachu', 'The password is incorrect'\",\n",
       "  'int a = 5\\nisinstance(a, int)',\n",
       "  'a = 5\\nisinstance(a, int)',\n",
       "  'a = 5\\nisinstance(a, int)',\n",
       "  'class User():\\n    pass\\npikachu = User()\\nisinstance(pikachu, User)',\n",
       "  'isinstance(pikachu, object)',\n",
       "  'issubclass(pikachu, User)',\n",
       "  'class Player(User):\\n    pass\\nMiyu = Pllayer()',\n",
       "  'class Player(User):\\n    pass\\nMiyu = Player()',\n",
       "  'issubclass(User, Player)',\n",
       "  'issubclass(Player, User)',\n",
       "  'issubclass(Miyu, User)',\n",
       "  'global()',\n",
       "  'globals()'],\n",
       " 'Out': {4: True, 5: True, 6: True, 7: True, 11: False, 12: True},\n",
       " 'get_ipython': <bound method InteractiveShell.get_ipython of <ipykernel.zmqshell.ZMQInteractiveShell object at 0x000001BE9C40ABE0>>,\n",
       " 'exit': <IPython.core.autocall.ZMQExitAutocall at 0x1be9c468ef0>,\n",
       " 'quit': <IPython.core.autocall.ZMQExitAutocall at 0x1be9c468ef0>,\n",
       " '_': True,\n",
       " '__': False,\n",
       " '___': True,\n",
       " '_i': 'global()',\n",
       " '_ii': 'issubclass(Miyu, User)',\n",
       " '_iii': 'issubclass(Player, User)',\n",
       " '_i1': \"password = 'VN Pikachu'\\nassert password == 'VN Pikachu', 'The password is incorrect'\",\n",
       " 'password': 'Meomeo888',\n",
       " '_i2': \"password = 'Meomeo888'\\nassert password == 'VN Pikachu', 'The password is incorrect'\",\n",
       " '_i3': 'int a = 5\\nisinstance(a, int)',\n",
       " '_i4': ' a = 5\\nisinstance(a, int)',\n",
       " 'a': 5,\n",
       " '_4': True,\n",
       " '_i5': 'a = 5\\nisinstance(a, int)',\n",
       " '_5': True,\n",
       " '_i6': 'class User():\\n    pass\\npikachu = User()\\nisinstance(pikachu, User)',\n",
       " 'User': __main__.User,\n",
       " 'pikachu': <__main__.User at 0x1be9c5cd780>,\n",
       " '_6': True,\n",
       " '_i7': 'isinstance(pikachu, object)',\n",
       " '_7': True,\n",
       " '_i8': 'issubclass(pikachu, User)',\n",
       " '_i9': 'class Player(User):\\n    pass\\nMiyu = Pllayer()',\n",
       " 'Player': __main__.Player,\n",
       " '_i10': 'class Player(User):\\n    pass\\nMiyu = Player()',\n",
       " 'Miyu': <__main__.Player at 0x1be9d4e7550>,\n",
       " '_i11': 'issubclass(User, Player)',\n",
       " '_11': False,\n",
       " '_i12': 'issubclass(Player, User)',\n",
       " '_12': True,\n",
       " '_i13': 'issubclass(Miyu, User)',\n",
       " '_i14': 'global()',\n",
       " '_i15': 'globals()'}"
      ]
     },
     "execution_count": 15,
     "metadata": {},
     "output_type": "execute_result"
    }
   ],
   "source": [
    "globals()"
   ]
  },
  {
   "cell_type": "markdown",
   "metadata": {},
   "source": [
    "# local objects"
   ]
  },
  {
   "cell_type": "markdown",
   "metadata": {},
   "source": [
    "You can access an updated dictionary\n",
    "of the current local symbol table"
   ]
  },
  {
   "cell_type": "code",
   "execution_count": 16,
   "metadata": {},
   "outputs": [
    {
     "data": {
      "text/plain": [
       "{'__name__': '__main__',\n",
       " '__doc__': 'Automatically created module for IPython interactive environment',\n",
       " '__package__': None,\n",
       " '__loader__': None,\n",
       " '__spec__': None,\n",
       " '__builtin__': <module 'builtins' (built-in)>,\n",
       " '__builtins__': <module 'builtins' (built-in)>,\n",
       " '_ih': ['',\n",
       "  \"password = 'VN Pikachu'\\nassert password == 'VN Pikachu', 'The password is incorrect'\",\n",
       "  \"password = 'Meomeo888'\\nassert password == 'VN Pikachu', 'The password is incorrect'\",\n",
       "  'int a = 5\\nisinstance(a, int)',\n",
       "  'a = 5\\nisinstance(a, int)',\n",
       "  'a = 5\\nisinstance(a, int)',\n",
       "  'class User():\\n    pass\\npikachu = User()\\nisinstance(pikachu, User)',\n",
       "  'isinstance(pikachu, object)',\n",
       "  'issubclass(pikachu, User)',\n",
       "  'class Player(User):\\n    pass\\nMiyu = Pllayer()',\n",
       "  'class Player(User):\\n    pass\\nMiyu = Player()',\n",
       "  'issubclass(User, Player)',\n",
       "  'issubclass(Player, User)',\n",
       "  'issubclass(Miyu, User)',\n",
       "  'global()',\n",
       "  'globals()',\n",
       "  'locals()'],\n",
       " '_oh': {4: True, 5: True, 6: True, 7: True, 11: False, 12: True, 15: {...}},\n",
       " '_dh': ['C:\\\\Users\\\\dell\\\\Data Science\\\\Python\\\\The Python book'],\n",
       " 'In': ['',\n",
       "  \"password = 'VN Pikachu'\\nassert password == 'VN Pikachu', 'The password is incorrect'\",\n",
       "  \"password = 'Meomeo888'\\nassert password == 'VN Pikachu', 'The password is incorrect'\",\n",
       "  'int a = 5\\nisinstance(a, int)',\n",
       "  'a = 5\\nisinstance(a, int)',\n",
       "  'a = 5\\nisinstance(a, int)',\n",
       "  'class User():\\n    pass\\npikachu = User()\\nisinstance(pikachu, User)',\n",
       "  'isinstance(pikachu, object)',\n",
       "  'issubclass(pikachu, User)',\n",
       "  'class Player(User):\\n    pass\\nMiyu = Pllayer()',\n",
       "  'class Player(User):\\n    pass\\nMiyu = Player()',\n",
       "  'issubclass(User, Player)',\n",
       "  'issubclass(Player, User)',\n",
       "  'issubclass(Miyu, User)',\n",
       "  'global()',\n",
       "  'globals()',\n",
       "  'locals()'],\n",
       " 'Out': {4: True, 5: True, 6: True, 7: True, 11: False, 12: True, 15: {...}},\n",
       " 'get_ipython': <bound method InteractiveShell.get_ipython of <ipykernel.zmqshell.ZMQInteractiveShell object at 0x000001BE9C40ABE0>>,\n",
       " 'exit': <IPython.core.autocall.ZMQExitAutocall at 0x1be9c468ef0>,\n",
       " 'quit': <IPython.core.autocall.ZMQExitAutocall at 0x1be9c468ef0>,\n",
       " '_': {...},\n",
       " '__': True,\n",
       " '___': False,\n",
       " '_i': 'globals()',\n",
       " '_ii': 'global()',\n",
       " '_iii': 'issubclass(Miyu, User)',\n",
       " '_i1': \"password = 'VN Pikachu'\\nassert password == 'VN Pikachu', 'The password is incorrect'\",\n",
       " 'password': 'Meomeo888',\n",
       " '_i2': \"password = 'Meomeo888'\\nassert password == 'VN Pikachu', 'The password is incorrect'\",\n",
       " '_i3': 'int a = 5\\nisinstance(a, int)',\n",
       " '_i4': ' a = 5\\nisinstance(a, int)',\n",
       " 'a': 5,\n",
       " '_4': True,\n",
       " '_i5': 'a = 5\\nisinstance(a, int)',\n",
       " '_5': True,\n",
       " '_i6': 'class User():\\n    pass\\npikachu = User()\\nisinstance(pikachu, User)',\n",
       " 'User': __main__.User,\n",
       " 'pikachu': <__main__.User at 0x1be9c5cd780>,\n",
       " '_6': True,\n",
       " '_i7': 'isinstance(pikachu, object)',\n",
       " '_7': True,\n",
       " '_i8': 'issubclass(pikachu, User)',\n",
       " '_i9': 'class Player(User):\\n    pass\\nMiyu = Pllayer()',\n",
       " 'Player': __main__.Player,\n",
       " '_i10': 'class Player(User):\\n    pass\\nMiyu = Player()',\n",
       " 'Miyu': <__main__.Player at 0x1be9d4e7550>,\n",
       " '_i11': 'issubclass(User, Player)',\n",
       " '_11': False,\n",
       " '_i12': 'issubclass(Player, User)',\n",
       " '_12': True,\n",
       " '_i13': 'issubclass(Miyu, User)',\n",
       " '_i14': 'global()',\n",
       " '_i15': 'globals()',\n",
       " '_15': {...},\n",
       " '_i16': 'locals()'}"
      ]
     },
     "execution_count": 16,
     "metadata": {},
     "output_type": "execute_result"
    }
   ],
   "source": [
    "locals()"
   ]
  },
  {
   "cell_type": "markdown",
   "metadata": {},
   "source": [
    "# variables"
   ]
  },
  {
   "cell_type": "markdown",
   "metadata": {},
   "source": [
    "```python\n",
    "vars([object]) -> dictionary\n",
    "\n",
    "Without arguments, equivalent to locals().\n",
    "With an argument, equivalent to object.__dict__.\n",
    "```"
   ]
  },
  {
   "cell_type": "code",
   "execution_count": 19,
   "metadata": {},
   "outputs": [
    {
     "data": {
      "text/plain": [
       "{'__name__': '__main__',\n",
       " '__doc__': 'Automatically created module for IPython interactive environment',\n",
       " '__package__': None,\n",
       " '__loader__': None,\n",
       " '__spec__': None,\n",
       " '__builtin__': <module 'builtins' (built-in)>,\n",
       " '__builtins__': <module 'builtins' (built-in)>,\n",
       " '_ih': ['',\n",
       "  \"password = 'VN Pikachu'\\nassert password == 'VN Pikachu', 'The password is incorrect'\",\n",
       "  \"password = 'Meomeo888'\\nassert password == 'VN Pikachu', 'The password is incorrect'\",\n",
       "  'int a = 5\\nisinstance(a, int)',\n",
       "  'a = 5\\nisinstance(a, int)',\n",
       "  'a = 5\\nisinstance(a, int)',\n",
       "  'class User():\\n    pass\\npikachu = User()\\nisinstance(pikachu, User)',\n",
       "  'isinstance(pikachu, object)',\n",
       "  'issubclass(pikachu, User)',\n",
       "  'class Player(User):\\n    pass\\nMiyu = Pllayer()',\n",
       "  'class Player(User):\\n    pass\\nMiyu = Player()',\n",
       "  'issubclass(User, Player)',\n",
       "  'issubclass(Player, User)',\n",
       "  'issubclass(Miyu, User)',\n",
       "  'global()',\n",
       "  'globals()',\n",
       "  'locals()',\n",
       "  'You can access an updated dictionary\\nof the current local symbol table',\n",
       "  \"get_ipython().run_line_magic('pinfo', 'vars')\",\n",
       "  'vars()'],\n",
       " '_oh': {4: True,\n",
       "  5: True,\n",
       "  6: True,\n",
       "  7: True,\n",
       "  11: False,\n",
       "  12: True,\n",
       "  15: {...},\n",
       "  16: {...}},\n",
       " '_dh': ['C:\\\\Users\\\\dell\\\\Data Science\\\\Python\\\\The Python book'],\n",
       " 'In': ['',\n",
       "  \"password = 'VN Pikachu'\\nassert password == 'VN Pikachu', 'The password is incorrect'\",\n",
       "  \"password = 'Meomeo888'\\nassert password == 'VN Pikachu', 'The password is incorrect'\",\n",
       "  'int a = 5\\nisinstance(a, int)',\n",
       "  'a = 5\\nisinstance(a, int)',\n",
       "  'a = 5\\nisinstance(a, int)',\n",
       "  'class User():\\n    pass\\npikachu = User()\\nisinstance(pikachu, User)',\n",
       "  'isinstance(pikachu, object)',\n",
       "  'issubclass(pikachu, User)',\n",
       "  'class Player(User):\\n    pass\\nMiyu = Pllayer()',\n",
       "  'class Player(User):\\n    pass\\nMiyu = Player()',\n",
       "  'issubclass(User, Player)',\n",
       "  'issubclass(Player, User)',\n",
       "  'issubclass(Miyu, User)',\n",
       "  'global()',\n",
       "  'globals()',\n",
       "  'locals()',\n",
       "  'You can access an updated dictionary\\nof the current local symbol table',\n",
       "  \"get_ipython().run_line_magic('pinfo', 'vars')\",\n",
       "  'vars()'],\n",
       " 'Out': {4: True,\n",
       "  5: True,\n",
       "  6: True,\n",
       "  7: True,\n",
       "  11: False,\n",
       "  12: True,\n",
       "  15: {...},\n",
       "  16: {...}},\n",
       " 'get_ipython': <bound method InteractiveShell.get_ipython of <ipykernel.zmqshell.ZMQInteractiveShell object at 0x000001BE9C40ABE0>>,\n",
       " 'exit': <IPython.core.autocall.ZMQExitAutocall at 0x1be9c468ef0>,\n",
       " 'quit': <IPython.core.autocall.ZMQExitAutocall at 0x1be9c468ef0>,\n",
       " '_': {...},\n",
       " '__': {...},\n",
       " '___': True,\n",
       " '_i': 'vars?',\n",
       " '_ii': 'You can access an updated dictionary\\nof the current local symbol table',\n",
       " '_iii': 'locals()',\n",
       " '_i1': \"password = 'VN Pikachu'\\nassert password == 'VN Pikachu', 'The password is incorrect'\",\n",
       " 'password': 'Meomeo888',\n",
       " '_i2': \"password = 'Meomeo888'\\nassert password == 'VN Pikachu', 'The password is incorrect'\",\n",
       " '_i3': 'int a = 5\\nisinstance(a, int)',\n",
       " '_i4': ' a = 5\\nisinstance(a, int)',\n",
       " 'a': 5,\n",
       " '_4': True,\n",
       " '_i5': 'a = 5\\nisinstance(a, int)',\n",
       " '_5': True,\n",
       " '_i6': 'class User():\\n    pass\\npikachu = User()\\nisinstance(pikachu, User)',\n",
       " 'User': __main__.User,\n",
       " 'pikachu': <__main__.User at 0x1be9c5cd780>,\n",
       " '_6': True,\n",
       " '_i7': 'isinstance(pikachu, object)',\n",
       " '_7': True,\n",
       " '_i8': 'issubclass(pikachu, User)',\n",
       " '_i9': 'class Player(User):\\n    pass\\nMiyu = Pllayer()',\n",
       " 'Player': __main__.Player,\n",
       " '_i10': 'class Player(User):\\n    pass\\nMiyu = Player()',\n",
       " 'Miyu': <__main__.Player at 0x1be9d4e7550>,\n",
       " '_i11': 'issubclass(User, Player)',\n",
       " '_11': False,\n",
       " '_i12': 'issubclass(Player, User)',\n",
       " '_12': True,\n",
       " '_i13': 'issubclass(Miyu, User)',\n",
       " '_i14': 'global()',\n",
       " '_i15': 'globals()',\n",
       " '_15': {...},\n",
       " '_i16': 'locals()',\n",
       " '_16': {...},\n",
       " '_i17': 'You can access an updated dictionary\\nof the current local symbol table',\n",
       " '_i18': 'vars?',\n",
       " '_i19': 'vars()'}"
      ]
     },
     "execution_count": 19,
     "metadata": {},
     "output_type": "execute_result"
    }
   ],
   "source": [
    "vars()"
   ]
  },
  {
   "cell_type": "markdown",
   "metadata": {},
   "source": [
    "# making global"
   ]
  },
  {
   "cell_type": "code",
   "execution_count": 23,
   "metadata": {},
   "outputs": [
    {
     "data": {
      "text/plain": [
       "2"
      ]
     },
     "execution_count": 23,
     "metadata": {},
     "output_type": "execute_result"
    }
   ],
   "source": [
    "global a, b\n",
    "a = b = 1\n",
    "def func():\n",
    "    global a\n",
    "    a += 1\n",
    "    \n",
    "func()\n",
    "a"
   ]
  },
  {
   "cell_type": "markdown",
   "metadata": {},
   "source": [
    "# Nonlocals"
   ]
  },
  {
   "cell_type": "code",
   "execution_count": 29,
   "metadata": {},
   "outputs": [],
   "source": [
    "global name\n",
    "name = 'Pikachu'\n",
    "def clan():\n",
    "    name =  'Tank Cao'\n",
    "    def greeting_nonlocal():\n",
    "        nonlocal name #access Tank Cao\n",
    "        name += '-xXx'\n",
    "        print(f'Hello, {name}')\n",
    "    def greeting_global():\n",
    "        global name\n",
    "        name += '-xXx'\n",
    "        print(f'Hello, {name}')\n",
    "    return greeting_nonlocal, greeting_global\n",
    "\n",
    "NONLOCAL, GLOBAL = clan()"
   ]
  },
  {
   "cell_type": "code",
   "execution_count": 30,
   "metadata": {},
   "outputs": [
    {
     "name": "stdout",
     "output_type": "stream",
     "text": [
      "Hello, Tank Cao-xXx\n"
     ]
    }
   ],
   "source": [
    "NONLOCAL()"
   ]
  },
  {
   "cell_type": "code",
   "execution_count": 31,
   "metadata": {},
   "outputs": [
    {
     "name": "stdout",
     "output_type": "stream",
     "text": [
      "Hello, Pikachu-xXx\n"
     ]
    }
   ],
   "source": [
    "GLOBAL()"
   ]
  },
  {
   "cell_type": "markdown",
   "metadata": {},
   "source": [
    "# Raising an exception"
   ]
  },
  {
   "cell_type": "markdown",
   "metadata": {},
   "source": [
    "When you identify an error condition,\n",
    "you can use the ‘raise’ command to throw up an\n",
    "exception. You can include an exception type and\n",
    "a value."
   ]
  },
  {
   "cell_type": "code",
   "execution_count": 36,
   "metadata": {},
   "outputs": [
    {
     "ename": "Exception",
     "evalue": "",
     "output_type": "error",
     "traceback": [
      "\u001b[1;31m---------------------------------------------------------------------------\u001b[0m",
      "\u001b[1;31mException\u001b[0m                                 Traceback (most recent call last)",
      "\u001b[1;32m<ipython-input-36-3ed616f2bfc5>\u001b[0m in \u001b[0;36m<module>\u001b[1;34m\u001b[0m\n\u001b[0;32m      1\u001b[0m \u001b[0mval\u001b[0m \u001b[1;33m=\u001b[0m \u001b[1;36m5\u001b[0m\u001b[1;33m\u001b[0m\u001b[1;33m\u001b[0m\u001b[0m\n\u001b[0;32m      2\u001b[0m \u001b[1;32mif\u001b[0m \u001b[0mval\u001b[0m \u001b[1;33m<\u001b[0m \u001b[1;36m10\u001b[0m\u001b[1;33m:\u001b[0m\u001b[1;33m\u001b[0m\u001b[1;33m\u001b[0m\u001b[0m\n\u001b[1;32m----> 3\u001b[1;33m     \u001b[1;32mraise\u001b[0m \u001b[0mException\u001b[0m\u001b[1;33m\u001b[0m\u001b[1;33m\u001b[0m\u001b[0m\n\u001b[0m",
      "\u001b[1;31mException\u001b[0m: "
     ]
    }
   ],
   "source": [
    "val = 5\n",
    "if val < 10:\n",
    "    raise Exception"
   ]
  },
  {
   "cell_type": "code",
   "execution_count": 39,
   "metadata": {},
   "outputs": [
    {
     "ename": "ValueError",
     "evalue": "",
     "output_type": "error",
     "traceback": [
      "\u001b[1;31m---------------------------------------------------------------------------\u001b[0m",
      "\u001b[1;31mValueError\u001b[0m                                Traceback (most recent call last)",
      "\u001b[1;32m<ipython-input-39-308460f042f6>\u001b[0m in \u001b[0;36m<module>\u001b[1;34m\u001b[0m\n\u001b[0;32m      1\u001b[0m \u001b[0mpassword\u001b[0m \u001b[1;33m=\u001b[0m \u001b[1;33m-\u001b[0m\u001b[1;36m1\u001b[0m\u001b[1;33m\u001b[0m\u001b[1;33m\u001b[0m\u001b[0m\n\u001b[0;32m      2\u001b[0m \u001b[1;32mif\u001b[0m \u001b[0mpassword\u001b[0m \u001b[1;33m==\u001b[0m \u001b[1;33m-\u001b[0m\u001b[1;36m1\u001b[0m\u001b[1;33m:\u001b[0m\u001b[1;33m\u001b[0m\u001b[1;33m\u001b[0m\u001b[0m\n\u001b[1;32m----> 3\u001b[1;33m     \u001b[1;32mraise\u001b[0m \u001b[0mValueError\u001b[0m\u001b[1;33m\u001b[0m\u001b[1;33m\u001b[0m\u001b[0m\n\u001b[0m",
      "\u001b[1;31mValueError\u001b[0m: "
     ]
    }
   ],
   "source": [
    "password = -1\n",
    "if password == -1:\n",
    "    raise ValueError"
   ]
  },
  {
   "cell_type": "markdown",
   "metadata": {},
   "source": [
    "# static method, class method, property"
   ]
  },
  {
   "cell_type": "code",
   "execution_count": 45,
   "metadata": {},
   "outputs": [
    {
     "data": {
      "text/plain": [
       "classmethod"
      ]
     },
     "execution_count": 45,
     "metadata": {},
     "output_type": "execute_result"
    }
   ],
   "source": [
    "classmethod"
   ]
  },
  {
   "cell_type": "code",
   "execution_count": 46,
   "metadata": {},
   "outputs": [
    {
     "data": {
      "text/plain": [
       "staticmethod"
      ]
     },
     "execution_count": 46,
     "metadata": {},
     "output_type": "execute_result"
    }
   ],
   "source": [
    "staticmethod"
   ]
  },
  {
   "cell_type": "code",
   "execution_count": 47,
   "metadata": {},
   "outputs": [
    {
     "data": {
      "text/plain": [
       "property"
      ]
     },
     "execution_count": 47,
     "metadata": {},
     "output_type": "execute_result"
    }
   ],
   "source": [
    "property"
   ]
  },
  {
   "cell_type": "code",
   "execution_count": 48,
   "metadata": {},
   "outputs": [],
   "source": [
    "classmethod"
   ]
  },
  {
   "cell_type": "markdown",
   "metadata": {},
   "source": [
    "# with"
   ]
  },
  {
   "cell_type": "markdown",
   "metadata": {},
   "source": [
    "```python\n",
    "with open('...') as f:\n",
    "    pass\n",
    "```"
   ]
  },
  {
   "cell_type": "markdown",
   "metadata": {},
   "source": [
    "# exec"
   ]
  },
  {
   "cell_type": "code",
   "execution_count": 53,
   "metadata": {},
   "outputs": [
    {
     "data": {
      "text/plain": [
       "(5, -1)"
      ]
     },
     "execution_count": 53,
     "metadata": {},
     "output_type": "execute_result"
    }
   ],
   "source": [
    "x, y = 1, 2\n",
    "exec('x = 5;y = -1') #run a block of code\n",
    "x, y"
   ]
  },
  {
   "cell_type": "markdown",
   "metadata": {},
   "source": [
    "# eval"
   ]
  },
  {
   "cell_type": "code",
   "execution_count": 52,
   "metadata": {},
   "outputs": [
    {
     "data": {
      "text/plain": [
       "6"
      ]
     },
     "execution_count": 52,
     "metadata": {},
     "output_type": "execute_result"
    }
   ],
   "source": [
    "x = 5\n",
    "eval('x + 1') #evaluate an expression (adding, substracting, comparing, ... but NOT assigning)"
   ]
  },
  {
   "cell_type": "code",
   "execution_count": 54,
   "metadata": {},
   "outputs": [
    {
     "ename": "SyntaxError",
     "evalue": "invalid syntax (<string>, line 1)",
     "output_type": "error",
     "traceback": [
      "Traceback \u001b[1;36m(most recent call last)\u001b[0m:\n",
      "  File \u001b[0;32m\"C:\\Users\\dell\\Anaconda3\\lib\\site-packages\\IPython\\core\\interactiveshell.py\"\u001b[0m, line \u001b[0;32m3325\u001b[0m, in \u001b[0;35mrun_code\u001b[0m\n    exec(code_obj, self.user_global_ns, self.user_ns)\n",
      "\u001b[1;36m  File \u001b[1;32m\"<ipython-input-54-992525ae0f13>\"\u001b[1;36m, line \u001b[1;32m1\u001b[1;36m, in \u001b[1;35m<module>\u001b[1;36m\u001b[0m\n\u001b[1;33m    eval(' x = 3') #raise error\u001b[0m\n",
      "\u001b[1;36m  File \u001b[1;32m\"<string>\"\u001b[1;36m, line \u001b[1;32m1\u001b[0m\n\u001b[1;33m    x = 3\u001b[0m\n\u001b[1;37m      ^\u001b[0m\n\u001b[1;31mSyntaxError\u001b[0m\u001b[1;31m:\u001b[0m invalid syntax\n"
     ]
    }
   ],
   "source": [
    "eval(' x = 3') #raise error"
   ]
  },
  {
   "cell_type": "markdown",
   "metadata": {},
   "source": [
    "# init"
   ]
  },
  {
   "cell_type": "code",
   "execution_count": 55,
   "metadata": {},
   "outputs": [],
   "source": [
    "#__init__ method"
   ]
  },
  {
   "cell_type": "markdown",
   "metadata": {},
   "source": [
    "When you create a new class, you can\n",
    "include a private initialisation method that\n",
    "gets called when a new instance of the class is\n",
    "created. This method is useful when the new\n",
    "object instance needs some data loaded in the\n",
    "new object.\n",
    "46"
   ]
  },
  {
   "cell_type": "markdown",
   "metadata": {},
   "source": [
    "# del"
   ]
  },
  {
   "cell_type": "code",
   "execution_count": null,
   "metadata": {},
   "outputs": [],
   "source": [
    "#__del__ method"
   ]
  },
  {
   "cell_type": "markdown",
   "metadata": {},
   "source": [
    "When an instance object is about to be\n",
    "destroyed, the __del__ method is called. This\n",
    "gives you the chance to do any kind of cleanup\n",
    "that may be required. This might be closing fi les,\n",
    "or disconnecting network connections. After this\n",
    "code is completed, the object is fi nally destroyed\n",
    "and resources are freed.\n"
   ]
  },
  {
   "cell_type": "code",
   "execution_count": null,
   "metadata": {},
   "outputs": [],
   "source": []
  }
 ],
 "metadata": {
  "kernelspec": {
   "display_name": "Python 3",
   "language": "python",
   "name": "python3"
  },
  "language_info": {
   "codemirror_mode": {
    "name": "ipython",
    "version": 3
   },
   "file_extension": ".py",
   "mimetype": "text/x-python",
   "name": "python",
   "nbconvert_exporter": "python",
   "pygments_lexer": "ipython3",
   "version": "3.7.3"
  }
 },
 "nbformat": 4,
 "nbformat_minor": 2
}
