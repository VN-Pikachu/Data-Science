{
 "cells": [
  {
   "cell_type": "markdown",
   "id": "mobile-corner",
   "metadata": {},
   "source": [
    "**Reference**: <https://docs.python.org/3/library/itertools.html>"
   ]
  },
  {
   "cell_type": "code",
   "execution_count": 1,
   "id": "streaming-skiing",
   "metadata": {},
   "outputs": [],
   "source": [
    "import itertools"
   ]
  },
  {
   "cell_type": "markdown",
   "id": "hundred-queen",
   "metadata": {},
   "source": [
    "**`starmap`** just like **`pmap`** in R"
   ]
  },
  {
   "cell_type": "code",
   "execution_count": 4,
   "id": "vocal-scratch",
   "metadata": {},
   "outputs": [
    {
     "data": {
      "text/plain": [
       "[6, 15]"
      ]
     },
     "execution_count": 4,
     "metadata": {},
     "output_type": "execute_result"
    }
   ],
   "source": [
    "data = [[1, 2, 3], [4, 5, 6]]\n",
    "res =itertools.starmap(lambda x, y, z: x + y + z, data)\n",
    "list(res)"
   ]
  },
  {
   "cell_type": "markdown",
   "id": "infinite-mining",
   "metadata": {},
   "source": [
    "**`takewhile`** like **`head_while`** in R"
   ]
  },
  {
   "cell_type": "code",
   "execution_count": 13,
   "id": "revolutionary-kuwait",
   "metadata": {},
   "outputs": [
    {
     "data": {
      "text/plain": [
       "[9, 3]"
      ]
     },
     "execution_count": 13,
     "metadata": {},
     "output_type": "execute_result"
    }
   ],
   "source": [
    "list(itertools.takewhile(lambda x: x % 3 == 0, [9, 3, 8, 6]))"
   ]
  },
  {
   "cell_type": "markdown",
   "id": "bacterial-teens",
   "metadata": {},
   "source": [
    "**`dropwhile`** the reverse of **`takewhile`**, instead of take while a condition is true, you drop while a condition is true"
   ]
  },
  {
   "cell_type": "markdown",
   "id": "opposed-bulgaria",
   "metadata": {},
   "source": [
    "**`tee`**: replicate an interator n times"
   ]
  },
  {
   "cell_type": "code",
   "execution_count": 12,
   "id": "international-energy",
   "metadata": {},
   "outputs": [
    {
     "name": "stdout",
     "output_type": "stream",
     "text": [
      "[0, 1, 2, 3, 4, 5, 6, 7, 8, 9]\n",
      "[0, 1, 2, 3, 4, 5, 6, 7, 8, 9]\n",
      "[0, 1, 2, 3, 4, 5, 6, 7, 8, 9]\n"
     ]
    }
   ],
   "source": [
    "it = range(10)\n",
    "\n",
    "for v in itertools.tee(it, 3):\n",
    "    print(list(v))"
   ]
  },
  {
   "cell_type": "markdown",
   "id": "wicked-ethics",
   "metadata": {},
   "source": [
    "**`filterfalse`** like **`purrr:discard`**"
   ]
  },
  {
   "cell_type": "markdown",
   "id": "placed-assist",
   "metadata": {},
   "source": [
    "**`compress`**: select value from an iterator based on the boolean value of another iterator"
   ]
  },
  {
   "cell_type": "code",
   "execution_count": 16,
   "id": "wrong-aggregate",
   "metadata": {},
   "outputs": [
    {
     "data": {
      "text/plain": [
       "[0, 2, 3]"
      ]
     },
     "execution_count": 16,
     "metadata": {},
     "output_type": "execute_result"
    }
   ],
   "source": [
    "list(itertools.compress(range(5), [1, 0, 1, 1, 0]))"
   ]
  },
  {
   "cell_type": "markdown",
   "id": "extreme-trace",
   "metadata": {},
   "source": [
    "**`count()`**"
   ]
  },
  {
   "cell_type": "markdown",
   "id": "noble-dress",
   "metadata": {},
   "source": [
    " **`repeat`**"
   ]
  },
  {
   "cell_type": "code",
   "execution_count": 18,
   "id": "rapid-multimedia",
   "metadata": {},
   "outputs": [
    {
     "data": {
      "text/plain": [
       "[0, 1, 4, 9, 16, 25, 36, 49, 64, 81]"
      ]
     },
     "execution_count": 18,
     "metadata": {},
     "output_type": "execute_result"
    }
   ],
   "source": [
    "list(map(pow, range(10), itertools.repeat(2, times = 10)))"
   ]
  },
  {
   "cell_type": "markdown",
   "id": "parental-healing",
   "metadata": {},
   "source": [
    "**`groupby(value, key)`**"
   ]
  },
  {
   "cell_type": "code",
   "execution_count": 23,
   "id": "configured-pottery",
   "metadata": {},
   "outputs": [
    {
     "name": "stdout",
     "output_type": "stream",
     "text": [
      "97 ['a']\n",
      "98 ['b']\n",
      "97 ['a', 'a']\n",
      "98 ['b']\n"
     ]
    }
   ],
   "source": [
    "x = ['a', 'b', 'a', 'a', 'b']\n",
    "y = ord\n",
    "\n",
    "for x, y in itertools.groupby(x, y):\n",
    "    print(x, list(y))"
   ]
  },
  {
   "cell_type": "code",
   "execution_count": null,
   "id": "destroyed-buyer",
   "metadata": {},
   "outputs": [],
   "source": []
  }
 ],
 "metadata": {
  "kernelspec": {
   "display_name": "Python 3",
   "language": "python",
   "name": "python3"
  },
  "language_info": {
   "codemirror_mode": {
    "name": "ipython",
    "version": 3
   },
   "file_extension": ".py",
   "mimetype": "text/x-python",
   "name": "python",
   "nbconvert_exporter": "python",
   "pygments_lexer": "ipython3",
   "version": "3.7.9"
  }
 },
 "nbformat": 4,
 "nbformat_minor": 5
}
