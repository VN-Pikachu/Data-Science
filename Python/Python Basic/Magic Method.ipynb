{
 "cells": [
  {
   "cell_type": "raw",
   "metadata": {},
   "source": [
    "So what's magic about the __init__ method? The answer is, you don't have to invoke it directly. The invocation is realized behind the scenes. When you create an instance x of a class A with the statement \"x = A()\", Python will do the necessary calls to __new__ and __init__."
   ]
  },
  {
   "cell_type": "code",
   "execution_count": 104,
   "metadata": {},
   "outputs": [],
   "source": [
    "class Length:\n",
    "    __metric = {\"mm\" : 0.001, \"cm\" : 0.01, \"m\" : 1, \"km\" : 1000,\n",
    "                \"in\" : 0.0254, \"ft\" : 0.3048, \"yd\" : 0.9144,\n",
    "                \"mi\" : 1609.344 }\n",
    "    \n",
    "    def __init__(self, val, unit = 'm'):\n",
    "        self.val = val\n",
    "        self.unit = unit\n",
    "    def to_meter(self):\n",
    "        return Length. __metric[self.unit] * self.val\n",
    "    def __add__(self, other):\n",
    "        adden = other * Length.__metric[self.unit] if type(other) in (int, float) else other.to_meter()\n",
    "        #total = self.to_meter() + other.to_meter()\n",
    "        total = self.to_meter() + adden\n",
    "        return Length(total / Length.__metric[self.unit], self.unit)\n",
    "    def __radd__(self, other):\n",
    "        return self.__add__(other)\n",
    "    def __iadd__(self, other):\n",
    "        adden = other * Length.__metric[self.unit] if type(other) in (int, float) else other.to_meter()\n",
    "        #total = self.to_meter() + other.to_meter()\n",
    "        total = self.to_meter() + adden\n",
    "        self.val = total / Length.__metric[self.unit]\n",
    "        return self\n",
    "    def __str__(self):\n",
    "        return f'{self.val} {self.unit}'\n",
    "    def __repr__(self):\n",
    "        return f'Length({self.val}, \"{self.unit}\")'\n",
    "    "
   ]
  },
  {
   "cell_type": "code",
   "execution_count": 105,
   "metadata": {},
   "outputs": [],
   "source": [
    "x = Length(4)"
   ]
  },
  {
   "cell_type": "code",
   "execution_count": 106,
   "metadata": {},
   "outputs": [
    {
     "name": "stdout",
     "output_type": "stream",
     "text": [
      "4 m\n"
     ]
    }
   ],
   "source": [
    "print(x)"
   ]
  },
  {
   "cell_type": "code",
   "execution_count": 107,
   "metadata": {},
   "outputs": [
    {
     "data": {
      "text/plain": [
       "'Length(4, \"m\")'"
      ]
     },
     "execution_count": 107,
     "metadata": {},
     "output_type": "execute_result"
    }
   ],
   "source": [
    "rep = repr(x)\n",
    "rep"
   ]
  },
  {
   "cell_type": "code",
   "execution_count": 108,
   "metadata": {},
   "outputs": [
    {
     "data": {
      "text/plain": [
       "Length(4, \"m\")"
      ]
     },
     "execution_count": 108,
     "metadata": {},
     "output_type": "execute_result"
    }
   ],
   "source": [
    "eval(rep)"
   ]
  },
  {
   "cell_type": "code",
   "execution_count": 109,
   "metadata": {},
   "outputs": [],
   "source": [
    "y = Length(300, 'cm')\n"
   ]
  },
  {
   "cell_type": "code",
   "execution_count": 110,
   "metadata": {},
   "outputs": [
    {
     "name": "stdout",
     "output_type": "stream",
     "text": [
      "7.0 m\n"
     ]
    }
   ],
   "source": [
    "print(x + y) #adding class Length"
   ]
  },
  {
   "cell_type": "code",
   "execution_count": 111,
   "metadata": {},
   "outputs": [
    {
     "data": {
      "text/plain": [
       "Length(6.0, \"m\")"
      ]
     },
     "execution_count": 111,
     "metadata": {},
     "output_type": "execute_result"
    }
   ],
   "source": [
    "x + 2"
   ]
  },
  {
   "cell_type": "code",
   "execution_count": 112,
   "metadata": {},
   "outputs": [],
   "source": [
    "z = Length(3, 'yd')"
   ]
  },
  {
   "cell_type": "code",
   "execution_count": 113,
   "metadata": {},
   "outputs": [
    {
     "data": {
      "text/plain": [
       "Length(13.0, \"yd\")"
      ]
     },
     "execution_count": 113,
     "metadata": {},
     "output_type": "execute_result"
    }
   ],
   "source": [
    "z + 10 #adding a constant"
   ]
  },
  {
   "cell_type": "code",
   "execution_count": 114,
   "metadata": {},
   "outputs": [],
   "source": [
    "z += 2"
   ]
  },
  {
   "cell_type": "code",
   "execution_count": 103,
   "metadata": {},
   "outputs": [
    {
     "data": {
      "text/plain": [
       "Length(5.0, \"yd\")"
      ]
     },
     "execution_count": 103,
     "metadata": {},
     "output_type": "execute_result"
    }
   ],
   "source": [
    "z"
   ]
  },
  {
   "cell_type": "code",
   "execution_count": 115,
   "metadata": {},
   "outputs": [
    {
     "data": {
      "text/plain": [
       "Length(10.0, \"yd\")"
      ]
     },
     "execution_count": 115,
     "metadata": {},
     "output_type": "execute_result"
    }
   ],
   "source": [
    "5 + z"
   ]
  },
  {
   "cell_type": "markdown",
   "metadata": {},
   "source": [
    "# Call  "
   ]
  },
  {
   "cell_type": "raw",
   "metadata": {},
   "source": [
    "The __call__ method can be used to turn the instances of the class into callables. Functions are callable objects. A callable object is an object which can be used and behaves like a function but might not be a function. By using the __call__ method it is possible to define classes in a way that the instances will be callable objects. The __call__ method is called, if the instance is called \"like a function\", i.e. using brackets. The following class definition is the simplest possible way to define a class with a __call__ method."
   ]
  },
  {
   "cell_type": "markdown",
   "metadata": {},
   "source": [
    "object as function"
   ]
  },
  {
   "cell_type": "code",
   "execution_count": 116,
   "metadata": {},
   "outputs": [],
   "source": [
    "class Person:\n",
    "    def __init__(self, name):\n",
    "        self.name = name\n",
    "    def __call__(self, height, weight):\n",
    "        return weight / pow(height, 2)\n"
   ]
  },
  {
   "cell_type": "code",
   "execution_count": 118,
   "metadata": {},
   "outputs": [
    {
     "data": {
      "text/plain": [
       "23.183673469387756"
      ]
     },
     "execution_count": 118,
     "metadata": {},
     "output_type": "execute_result"
    }
   ],
   "source": [
    "Trung = Person('Trung')\n",
    "Trung(1.75, 71)"
   ]
  },
  {
   "cell_type": "markdown",
   "metadata": {},
   "source": [
    "# Excercise: Implement poly1d in numpy"
   ]
  },
  {
   "cell_type": "code",
   "execution_count": 345,
   "metadata": {},
   "outputs": [],
   "source": [
    "import numpy as np\n",
    "import re"
   ]
  },
  {
   "cell_type": "code",
   "execution_count": 606,
   "metadata": {},
   "outputs": [],
   "source": [
    "class poly1d:\n",
    "    def __init__(self, coefs):\n",
    "        if np.isscalar(coefs): \n",
    "            coefs = [coefs]        #turn a scalar into an array\n",
    "        n = len(coefs)\n",
    "        ix = np.nonzero(coefs)[0]  #indices of non zero coefficients\n",
    "        self.order = n - ix.min() - 1 if len(ix) else 0\n",
    "        self.c = np.array(coefs[n - self.order - 1:], ndmin = 1, dtype = np.float64)\n",
    "    def deriv(self, m = 1):\n",
    "        if self.order == 0:\n",
    "            return poly1d(0)\n",
    "        #coefficents of the derivative\n",
    "        #the order of the derivative polynomial is subtracted by 1 from the order of current polynomial\n",
    "        deriv_c = np.multiply(self.c,np.arange(self.order, -1, -1))[:-1]\n",
    "        #the derivative polynomial\n",
    "        res = poly1d(deriv_c)\n",
    "        return res if m == 1 else res.deriv(m - 1)\n",
    "    def integ(self, m = 1, k = 0):\n",
    "        \n",
    "        #turn scalar to a tuple\n",
    "        if np.isscalar(k):\n",
    "            k = (k,)\n",
    "        #the cofficent of the integral of the polynomial, increse order by 1, add constant k[-1]\n",
    "        integ_c = np.append(self.c / np.arange(self.order + 1, 0, -1), k[0])\n",
    "        #the integral polynomial\n",
    "        res = poly1d(integ_c)\n",
    "        if m == 1:\n",
    "            return res\n",
    "        \n",
    "        return res.integ(m - 1, k[1:])\n",
    "    def __add__(self, poly):\n",
    "        c = poly1d.operate(self.c, poly.c, np.add)\n",
    "        return poly1d(c)\n",
    "    def __iadd__(self, poly):\n",
    "        return self.__add__(poly)\n",
    "    def __radd__(self, poly):\n",
    "        return self.__add__(poly)\n",
    "    def __sub__(self, poly):\n",
    "        c = poly1d.operate(self.c, poly.c, np.subtract)\n",
    "        return poly1d(c)\n",
    "    def __isub__(self, poly):\n",
    "        return self.__sub__(poly)\n",
    "    def __rsub__(self, poly):\n",
    "        return poly.__sub__(self)\n",
    "    def __repr__(self):\n",
    "        return f'poly1d({self.c.tolist()})'\n",
    "    def __str__(self):\n",
    "        n = self.order - np.arange(len(self.c))\n",
    "        #strip + at the beginning\n",
    "        res = ''.join(poly1d.symbol(self.c, n)).lstrip('+') \n",
    "        #if the order or the polinomial > 0, replace the constant 0 with '' (e.g : x + 0 --> x)\n",
    "        if self.order > 0:\n",
    "            res = res.rstrip('+0').rstrip('+0.0')\n",
    "        #adding space at the beginning and end of '+' or '-'\n",
    "        return re.sub(r'(\\+|\\-)', r' \\1 ', res)\n",
    "    @staticmethod\n",
    "    @np.vectorize\n",
    "    def symbol(c, n):\n",
    "        c_str = str(c) if c < 0 else f'+{c}' #turn -1 --> 1, 1 --> +1\n",
    "        if n == 0: return c_str\n",
    "        return f'{c_str}*x^{n}' if c else '' \n",
    "    @staticmethod\n",
    "    #performing an operation function to two 1 dimensional ndarray\n",
    "    #resize and filling with 0 if necessary\n",
    "    # e.g: operation([1,1], [1,1,1,1]) \n",
    "    #we have to resize [0,1] to [0,0,1,1] to match the shape of [1,1,1,1]\n",
    "    #then call operation([0,0,1,1], [0,1,2,3])\n",
    "    def operate(c1, c2, operation):\n",
    "        #get the order of 2 array of cofficents\n",
    "        order1, order2 = len(c1), len(c2)\n",
    "        order = np.maximum(order1, order2) #the order of the result polynomial\n",
    "        p1 = np.zeros(order)\n",
    "        p2 = np.zeros(order)\n",
    "        p1[order - order1:] = c1\n",
    "        p2[order - order2:] = c2\n",
    "        return operation(p1, p2)\n",
    "    \n",
    "    def __call__(self, x):\n",
    "        return np.power(x, np.arange(self.order, -1, -1)) @ self.c\n",
    "        \n",
    "        "
   ]
  },
  {
   "cell_type": "code",
   "execution_count": 529,
   "metadata": {},
   "outputs": [
    {
     "data": {
      "text/plain": [
       "2"
      ]
     },
     "execution_count": 529,
     "metadata": {},
     "output_type": "execute_result"
    }
   ],
   "source": [
    "func1 = poly1d([0,2,1,1])\n",
    "func1.order"
   ]
  },
  {
   "cell_type": "code",
   "execution_count": 530,
   "metadata": {},
   "outputs": [
    {
     "name": "stdout",
     "output_type": "stream",
     "text": [
      "2.0*x^2 + 1.0*x^1 + 1\n"
     ]
    }
   ],
   "source": [
    "print(func1)"
   ]
  },
  {
   "cell_type": "code",
   "execution_count": 531,
   "metadata": {},
   "outputs": [
    {
     "data": {
      "text/plain": [
       "1"
      ]
     },
     "execution_count": 531,
     "metadata": {},
     "output_type": "execute_result"
    }
   ],
   "source": [
    "func2 = poly1d([2,5])\n",
    "func2.order"
   ]
  },
  {
   "cell_type": "code",
   "execution_count": 532,
   "metadata": {},
   "outputs": [
    {
     "name": "stdout",
     "output_type": "stream",
     "text": [
      "2.0*x^1 + 5\n"
     ]
    }
   ],
   "source": [
    "print(func2)"
   ]
  },
  {
   "cell_type": "code",
   "execution_count": 533,
   "metadata": {},
   "outputs": [
    {
     "data": {
      "text/plain": [
       "16.0"
      ]
     },
     "execution_count": 533,
     "metadata": {},
     "output_type": "execute_result"
    }
   ],
   "source": [
    "#evaluating at x = 3\n",
    "func = poly1d([1,2,1])\n",
    "func(3)"
   ]
  },
  {
   "cell_type": "code",
   "execution_count": 534,
   "metadata": {},
   "outputs": [
    {
     "name": "stdout",
     "output_type": "stream",
     "text": [
      "5.0*x^3 + 4.0*x^2 + 5\n"
     ]
    }
   ],
   "source": [
    "#adding 2 polynomials\n",
    "func3 = poly1d([1,2,1]) + poly1d([5,3,-2,4])\n",
    "print(func3)"
   ]
  },
  {
   "cell_type": "code",
   "execution_count": 535,
   "metadata": {},
   "outputs": [
    {
     "name": "stdout",
     "output_type": "stream",
     "text": [
      "2.0*x^2 + 1.0*x^1 + 2\n"
     ]
    }
   ],
   "source": [
    "#iadd\n",
    "func5 = poly1d([1,0,1])\n",
    "func5 += poly1d([1,1,1])\n",
    "print(func5)"
   ]
  },
  {
   "cell_type": "code",
   "execution_count": 554,
   "metadata": {},
   "outputs": [
    {
     "name": "stdout",
     "output_type": "stream",
     "text": [
      " - 4.0*x^3 - 3.0*x^1 + 1\n"
     ]
    }
   ],
   "source": [
    "#subtracting 2 polynomials\n",
    "func4 = poly1d([3,2,1]) - poly1d([4,3,5,0])\n",
    "print(func4)"
   ]
  },
  {
   "cell_type": "code",
   "execution_count": 555,
   "metadata": {},
   "outputs": [
    {
     "name": "stdout",
     "output_type": "stream",
     "text": [
      " - 4.0*x^3 - 3.0*x^1 + 1\n"
     ]
    }
   ],
   "source": [
    "#isub\n",
    "func6 = poly1d([3,2,1])\n",
    "func6 -= poly1d([4,3,5,0])\n",
    "print(func6)"
   ]
  },
  {
   "cell_type": "code",
   "execution_count": 567,
   "metadata": {},
   "outputs": [
    {
     "name": "stdout",
     "output_type": "stream",
     "text": [
      "Polynomial: 4.0*x^3 + 3.0*x^2 + 2.0*x^1 + 1\n",
      "First derivative: 12.0*x^2 + 6.0*x^1 + 2\n",
      "Second derivative: 24.0*x^1 + 6\n"
     ]
    }
   ],
   "source": [
    "#The derivative polynomial\n",
    "p = poly1d([4,3,2,1])\n",
    "deriv1 = p.deriv() #first derivative\n",
    "deriv2 = p.deriv(2) #second derivative\n",
    "print('Polynomial:', p)\n",
    "print('First derivative:',deriv1)\n",
    "print('Second derivative:', deriv2)"
   ]
  },
  {
   "cell_type": "code",
   "execution_count": 607,
   "metadata": {},
   "outputs": [
    {
     "name": "stdout",
     "output_type": "stream",
     "text": [
      "0.5*x^2 + 2.0*x^1 + 3\n"
     ]
    }
   ],
   "source": [
    "#The integral polynomial\n",
    "p = poly1d(1)\n",
    "integ2 = p.integ(m = 2, k = (2, 3))\n",
    "print(integ2)"
   ]
  }
 ],
 "metadata": {
  "kernelspec": {
   "display_name": "Python 3",
   "language": "python",
   "name": "python3"
  },
  "language_info": {
   "codemirror_mode": {
    "name": "ipython",
    "version": 3
   },
   "file_extension": ".py",
   "mimetype": "text/x-python",
   "name": "python",
   "nbconvert_exporter": "python",
   "pygments_lexer": "ipython3",
   "version": "3.7.9"
  }
 },
 "nbformat": 4,
 "nbformat_minor": 2
}
