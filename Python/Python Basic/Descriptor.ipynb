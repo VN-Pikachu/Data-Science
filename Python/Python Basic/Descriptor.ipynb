{
 "cells": [
  {
   "cell_type": "markdown",
   "metadata": {},
   "source": [
    "# <a href = 'https://www.python-course.eu/python3_descriptors.php'>Python course eu</a>"
   ]
  },
  {
   "cell_type": "markdown",
   "metadata": {},
   "source": [
    "A descriptor is an object attribute with \"binding behavior\", one whose attribute access has been overridden by methods in the descriptor protocol.  \n",
    "Those methods are:\n",
    "* **`__get__()`**\n",
    "* **`__set__()`**\n",
    "* **`__delete__().`**"
   ]
  },
  {
   "cell_type": "markdown",
   "metadata": {},
   "source": [
    "If any of those methods are defined for an object, it is said to be a descriptor."
   ]
  },
  {
   "cell_type": "markdown",
   "metadata": {},
   "source": [
    "Their purpose consists in providing programmers with the ability to add managed attributes to classes. The descriptors are introduced to get, set or delete attributes from the object's **`__dict__`** dictionary via the above mentioned methods. Accessing a class attribute will start the lookup chain."
   ]
  },
  {
   "cell_type": "markdown",
   "metadata": {},
   "source": [
    "# Accessing an attribute"
   ]
  },
  {
   "cell_type": "code",
   "execution_count": 6,
   "metadata": {},
   "outputs": [
    {
     "data": {
      "text/plain": [
       "mappingproxy({'__module__': '__main__',\n",
       "              'topic': 'Machine Learning',\n",
       "              '__dict__': <attribute '__dict__' of 'MachineLearning' objects>,\n",
       "              '__weakref__': <attribute '__weakref__' of 'MachineLearning' objects>,\n",
       "              '__doc__': None})"
      ]
     },
     "execution_count": 6,
     "metadata": {},
     "output_type": "execute_result"
    }
   ],
   "source": [
    "class MachineLearning:\n",
    "    topic = 'Machine Learning'\n",
    "\n",
    "MachineLearning.__dict__"
   ]
  },
  {
   "cell_type": "code",
   "execution_count": 7,
   "metadata": {},
   "outputs": [
    {
     "data": {
      "text/plain": [
       "{}"
      ]
     },
     "execution_count": 7,
     "metadata": {},
     "output_type": "execute_result"
    }
   ],
   "source": [
    "CNN = MachineLearning()\n",
    "CNN.__dict__"
   ]
  },
  {
   "cell_type": "code",
   "execution_count": 8,
   "metadata": {},
   "outputs": [
    {
     "data": {
      "text/plain": [
       "'Machine Learning'"
      ]
     },
     "execution_count": 8,
     "metadata": {},
     "output_type": "execute_result"
    }
   ],
   "source": [
    "CNN.topic"
   ]
  },
  {
   "cell_type": "markdown",
   "metadata": {},
   "source": [
    "How to find the value of **`CNN.topic`**:  "
   ]
  },
  {
   "cell_type": "markdown",
   "metadata": {},
   "source": [
    "`CNN.topic` has a lookup chain starting with `CNN.__dict__['topic'] `   "
   ]
  },
  {
   "cell_type": "markdown",
   "metadata": {},
   "source": [
    "if `topic` is not a key of `CNN.__dict__`, it will try to look up `type(CNN).__dict__`"
   ]
  },
  {
   "cell_type": "markdown",
   "metadata": {},
   "source": [
    "If `topic` is not contained in this dictionary either, it will continue checking through the base classes of `type(CNN)` excluding metaclasses."
   ]
  },
  {
   "cell_type": "code",
   "execution_count": 14,
   "metadata": {},
   "outputs": [],
   "source": [
    "class A:\n",
    "    class_a = 'attribute of class A'\n",
    "    def __init__(self):\n",
    "        self.attr_instance_a = 'attribute of an instance of class A'\n",
    "\n",
    "#inherit from class A\n",
    "class B(A):\n",
    "    class_b = 'attribute of class B'\n",
    "    def __init__(self):\n",
    "        super().__init__()\n",
    "        self.attr_instance_b = 'attribute of an instance of class B'\n",
    "#create an instance of class B\n",
    "v = B()"
   ]
  },
  {
   "cell_type": "code",
   "execution_count": 15,
   "metadata": {},
   "outputs": [
    {
     "data": {
      "text/plain": [
       "'attribute of an instance of class B'"
      ]
     },
     "execution_count": 15,
     "metadata": {},
     "output_type": "execute_result"
    }
   ],
   "source": [
    "v.attr_instance_b"
   ]
  },
  {
   "cell_type": "code",
   "execution_count": 16,
   "metadata": {},
   "outputs": [
    {
     "data": {
      "text/plain": [
       "'attribute of an instance of class A'"
      ]
     },
     "execution_count": 16,
     "metadata": {},
     "output_type": "execute_result"
    }
   ],
   "source": [
    "v.attr_instance_a #we used super().__init__()"
   ]
  },
  {
   "cell_type": "code",
   "execution_count": 17,
   "metadata": {},
   "outputs": [
    {
     "data": {
      "text/plain": [
       "'attribute of class B'"
      ]
     },
     "execution_count": 17,
     "metadata": {},
     "output_type": "execute_result"
    }
   ],
   "source": [
    "v.class_b"
   ]
  },
  {
   "cell_type": "code",
   "execution_count": 18,
   "metadata": {},
   "outputs": [
    {
     "data": {
      "text/plain": [
       "'attribute of class A'"
      ]
     },
     "execution_count": 18,
     "metadata": {},
     "output_type": "execute_result"
    }
   ],
   "source": [
    "v.class_a"
   ]
  },
  {
   "cell_type": "code",
   "execution_count": 21,
   "metadata": {},
   "outputs": [
    {
     "name": "stdout",
     "output_type": "stream",
     "text": [
      "'B' object has no attribute 'non_existing_attr'\n"
     ]
    }
   ],
   "source": [
    "#This will raise an error\n",
    "try:\n",
    "    v.non_existing_attr\n",
    "except AttributeError as ae:\n",
    "    print(ae)"
   ]
  },
  {
   "cell_type": "markdown",
   "metadata": {},
   "source": [
    "# Discriptors Protocol"
   ]
  },
  {
   "cell_type": "markdown",
   "metadata": {},
   "source": [
    "The general descriptor protocol consists of three methods:\n",
    "\n",
    "* **`descr.__get__(self, obj, type=None)`** -> value\n",
    "\n",
    "* **`descr.__set__(self, obj, value)`** -> None\n",
    "\n",
    "* **`descr.__delete__(self, obj)`** -> None  "
   ]
  },
  {
   "cell_type": "markdown",
   "metadata": {},
   "source": [
    "If you define one or more of these methods, you will create a descriptor. We distinguish between data descriptors and non-data descriptors:\n",
    "\n",
    "**non-data descriptor**  \n",
    "  If we define only the `__get__()` method, we create a non-data descriptor, which are mostly used for methods.  \n",
    "\n",
    "**data descriptor**  \n",
    "  If an object defines `__set__()` or `__delete__()`, it is considered a data descriptor. To make a read-only data descriptor, define both `__get__()` and `__set__()` with the `__set__()` raising an AttributeError when called. Defining the `__set__()` method with an exception raising placeholder is enough to make it a data descriptor."
   ]
  },
  {
   "cell_type": "code",
   "execution_count": 69,
   "metadata": {},
   "outputs": [],
   "source": [
    "class SimpleDescriptor:\n",
    "    def __init__(self, value):\n",
    "        self.__set__(self, value)\n",
    "    def __get__(self, instance, owner):\n",
    "        print('Getting value...')\n",
    "        print('instance:', instance)\n",
    "        print('owner:', owner)\n",
    "        return self.value\n",
    "    def __set__(self, instance, new_value):\n",
    "        print('Setting value...')\n",
    "        print('instance:', instance)\n",
    "        self.value = new_value\n",
    "    def __delete__(self):\n",
    "        pass"
   ]
  },
  {
   "cell_type": "code",
   "execution_count": 70,
   "metadata": {},
   "outputs": [
    {
     "name": "stdout",
     "output_type": "stream",
     "text": [
      "Setting value...\n",
      "instance: <__main__.SimpleDescriptor object at 0x000002B5A1E68C88>\n"
     ]
    }
   ],
   "source": [
    "class Clipper:\n",
    "    value = SimpleDescriptor(99)"
   ]
  },
  {
   "cell_type": "code",
   "execution_count": 71,
   "metadata": {},
   "outputs": [
    {
     "name": "stdout",
     "output_type": "stream",
     "text": [
      "Getting value...\n",
      "instance: <__main__.Clipper object at 0x000002B5A1E68DA0>\n",
      "owner: <class '__main__.Clipper'>\n"
     ]
    },
    {
     "data": {
      "text/plain": [
       "99"
      ]
     },
     "execution_count": 71,
     "metadata": {},
     "output_type": "execute_result"
    }
   ],
   "source": [
    "c = Clipper()\n",
    "#getting the attribute value of an INSTANCE\n",
    "c.value #c.__dict__ is empty, so used the attribute `value` of class Clipper"
   ]
  },
  {
   "cell_type": "code",
   "execution_count": 72,
   "metadata": {},
   "outputs": [
    {
     "name": "stdout",
     "output_type": "stream",
     "text": [
      "Setting value...\n",
      "instance: <__main__.Clipper object at 0x000002B5A1E68DA0>\n"
     ]
    }
   ],
   "source": [
    "#setting the attribute value of an INSTANCE\n",
    "c.value = -10 #c.__dict__ is empty, so set the attribute `value` of class Clipper"
   ]
  },
  {
   "cell_type": "code",
   "execution_count": 73,
   "metadata": {},
   "outputs": [
    {
     "name": "stdout",
     "output_type": "stream",
     "text": [
      "Getting value...\n",
      "instance: None\n",
      "owner: <class '__main__.Clipper'>\n"
     ]
    },
    {
     "data": {
      "text/plain": [
       "-10"
      ]
     },
     "execution_count": 73,
     "metadata": {},
     "output_type": "execute_result"
    }
   ],
   "source": [
    "Clipper.value #getting the attribute value of a CLASS"
   ]
  },
  {
   "cell_type": "markdown",
   "metadata": {},
   "source": [
    "In this example, **`__get__(self, instance, owner)`**:  \n",
    "* **`self`**: The instance of class **`SimpleDescriptor`**\n",
    "*  **`instance`**: The instance of class **`Clipper`** if we call **`x.value`** (instance method), or **`None`** if we call **`Clipper.value`**\n",
    "* **`owner`**: class **`Clipper`**"
   ]
  },
  {
   "cell_type": "code",
   "execution_count": 74,
   "metadata": {},
   "outputs": [
    {
     "name": "stdout",
     "output_type": "stream",
     "text": [
      "Getting value...\n",
      "instance: None\n",
      "owner: <class '__main__.Clipper'>\n"
     ]
    },
    {
     "data": {
      "text/plain": [
       "-10"
      ]
     },
     "execution_count": 74,
     "metadata": {},
     "output_type": "execute_result"
    }
   ],
   "source": [
    "Clipper.value"
   ]
  },
  {
   "cell_type": "markdown",
   "metadata": {},
   "source": [
    "Let's look at `__dict__` of **`Clipper`**, **`c (an instance of Clipper)`** and **`SimpleDescriptor`**"
   ]
  },
  {
   "cell_type": "code",
   "execution_count": 75,
   "metadata": {},
   "outputs": [
    {
     "data": {
      "text/plain": [
       "mappingproxy({'__module__': '__main__',\n",
       "              '__init__': <function __main__.SimpleDescriptor.__init__(self, value)>,\n",
       "              '__get__': <function __main__.SimpleDescriptor.__get__(self, instance, owner)>,\n",
       "              '__set__': <function __main__.SimpleDescriptor.__set__(self, instance, new_value)>,\n",
       "              '__delete__': <function __main__.SimpleDescriptor.__delete__(self)>,\n",
       "              '__dict__': <attribute '__dict__' of 'SimpleDescriptor' objects>,\n",
       "              '__weakref__': <attribute '__weakref__' of 'SimpleDescriptor' objects>,\n",
       "              '__doc__': None})"
      ]
     },
     "execution_count": 75,
     "metadata": {},
     "output_type": "execute_result"
    }
   ],
   "source": [
    "SimpleDescriptor.__dict__"
   ]
  },
  {
   "cell_type": "code",
   "execution_count": 76,
   "metadata": {},
   "outputs": [
    {
     "data": {
      "text/plain": [
       "mappingproxy({'__module__': '__main__',\n",
       "              'value': <__main__.SimpleDescriptor at 0x2b5a1e68c88>,\n",
       "              '__dict__': <attribute '__dict__' of 'Clipper' objects>,\n",
       "              '__weakref__': <attribute '__weakref__' of 'Clipper' objects>,\n",
       "              '__doc__': None})"
      ]
     },
     "execution_count": 76,
     "metadata": {},
     "output_type": "execute_result"
    }
   ],
   "source": [
    "Clipper.__dict__"
   ]
  },
  {
   "cell_type": "code",
   "execution_count": 77,
   "metadata": {},
   "outputs": [
    {
     "data": {
      "text/plain": [
       "{}"
      ]
     },
     "execution_count": 77,
     "metadata": {},
     "output_type": "execute_result"
    }
   ],
   "source": [
    "c.__dict__"
   ]
  },
  {
   "cell_type": "code",
   "execution_count": null,
   "metadata": {},
   "outputs": [],
   "source": []
  }
 ],
 "metadata": {
  "kernelspec": {
   "display_name": "Python 3",
   "language": "python",
   "name": "python3"
  },
  "language_info": {
   "codemirror_mode": {
    "name": "ipython",
    "version": 3
   },
   "file_extension": ".py",
   "mimetype": "text/x-python",
   "name": "python",
   "nbconvert_exporter": "python",
   "pygments_lexer": "ipython3",
   "version": "3.7.9"
  }
 },
 "nbformat": 4,
 "nbformat_minor": 2
}
