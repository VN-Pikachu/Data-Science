{
 "cells": [
  {
   "cell_type": "markdown",
   "metadata": {},
   "source": [
    "# Sets"
   ]
  },
  {
   "cell_type": "code",
   "execution_count": 1,
   "metadata": {},
   "outputs": [
    {
     "data": {
      "text/plain": [
       "['__and__',\n",
       " '__class__',\n",
       " '__contains__',\n",
       " '__delattr__',\n",
       " '__dir__',\n",
       " '__doc__',\n",
       " '__eq__',\n",
       " '__format__',\n",
       " '__ge__',\n",
       " '__getattribute__',\n",
       " '__gt__',\n",
       " '__hash__',\n",
       " '__iand__',\n",
       " '__init__',\n",
       " '__init_subclass__',\n",
       " '__ior__',\n",
       " '__isub__',\n",
       " '__iter__',\n",
       " '__ixor__',\n",
       " '__le__',\n",
       " '__len__',\n",
       " '__lt__',\n",
       " '__ne__',\n",
       " '__new__',\n",
       " '__or__',\n",
       " '__rand__',\n",
       " '__reduce__',\n",
       " '__reduce_ex__',\n",
       " '__repr__',\n",
       " '__ror__',\n",
       " '__rsub__',\n",
       " '__rxor__',\n",
       " '__setattr__',\n",
       " '__sizeof__',\n",
       " '__str__',\n",
       " '__sub__',\n",
       " '__subclasshook__',\n",
       " '__xor__',\n",
       " 'add',\n",
       " 'clear',\n",
       " 'copy',\n",
       " 'difference',\n",
       " 'difference_update',\n",
       " 'discard',\n",
       " 'intersection',\n",
       " 'intersection_update',\n",
       " 'isdisjoint',\n",
       " 'issubset',\n",
       " 'issuperset',\n",
       " 'pop',\n",
       " 'remove',\n",
       " 'symmetric_difference',\n",
       " 'symmetric_difference_update',\n",
       " 'union',\n",
       " 'update']"
      ]
     },
     "execution_count": 1,
     "metadata": {},
     "output_type": "execute_result"
    }
   ],
   "source": [
    "dir(set)"
   ]
  },
  {
   "cell_type": "markdown",
   "metadata": {},
   "source": [
    "# Create"
   ]
  },
  {
   "cell_type": "markdown",
   "metadata": {},
   "source": [
    "create an empty set:"
   ]
  },
  {
   "cell_type": "code",
   "execution_count": null,
   "metadata": {},
   "outputs": [],
   "source": [
    "a = set() #do not use {}, which creates an empty dictionary"
   ]
  },
  {
   "cell_type": "code",
   "execution_count": 6,
   "metadata": {},
   "outputs": [
    {
     "data": {
      "text/plain": [
       "{'Hello', 'fucker', 'mother'}"
      ]
     },
     "execution_count": 6,
     "metadata": {},
     "output_type": "execute_result"
    }
   ],
   "source": [
    "a = set(['Hello', 'mother', 'fucker', 'mother']) #Equivalent: a = {'Hello', 'Mother', 'Fucker', 'Mother'}\n",
    "a"
   ]
  },
  {
   "cell_type": "code",
   "execution_count": 1,
   "metadata": {},
   "outputs": [
    {
     "data": {
      "text/plain": [
       "set"
      ]
     },
     "execution_count": 1,
     "metadata": {},
     "output_type": "execute_result"
    }
   ],
   "source": [
    "a = {'Hello', 'Methoer', 'Fucker'}\n",
    "type(a)"
   ]
  },
  {
   "cell_type": "markdown",
   "metadata": {},
   "source": [
    "set is mutable"
   ]
  },
  {
   "cell_type": "code",
   "execution_count": 3,
   "metadata": {},
   "outputs": [
    {
     "data": {
      "text/plain": [
       "{'Hello', 'Pikachu', 'fucker', 'mother'}"
      ]
     },
     "execution_count": 3,
     "metadata": {},
     "output_type": "execute_result"
    }
   ],
   "source": [
    "a.add('Pikachu')\n",
    "a"
   ]
  },
  {
   "cell_type": "markdown",
   "metadata": {},
   "source": [
    "set does not allow mutable object:"
   ]
  },
  {
   "cell_type": "code",
   "execution_count": 2,
   "metadata": {},
   "outputs": [
    {
     "ename": "TypeError",
     "evalue": "unhashable type: 'list'",
     "output_type": "error",
     "traceback": [
      "\u001b[1;31m---------------------------------------------------------------------------\u001b[0m",
      "\u001b[1;31mTypeError\u001b[0m                                 Traceback (most recent call last)",
      "\u001b[1;32m<ipython-input-2-76ca3e7b03e6>\u001b[0m in \u001b[0;36m<module>\u001b[1;34m\u001b[0m\n\u001b[0;32m      1\u001b[0m \u001b[0ms\u001b[0m \u001b[1;33m=\u001b[0m \u001b[0mset\u001b[0m\u001b[1;33m(\u001b[0m\u001b[1;33m)\u001b[0m\u001b[1;33m\u001b[0m\u001b[1;33m\u001b[0m\u001b[0m\n\u001b[1;32m----> 2\u001b[1;33m \u001b[0ms\u001b[0m\u001b[1;33m.\u001b[0m\u001b[0madd\u001b[0m\u001b[1;33m(\u001b[0m\u001b[1;33m[\u001b[0m\u001b[1;36m1\u001b[0m\u001b[1;33m,\u001b[0m\u001b[1;36m2\u001b[0m\u001b[1;33m,\u001b[0m\u001b[1;36m3\u001b[0m\u001b[1;33m]\u001b[0m\u001b[1;33m)\u001b[0m\u001b[1;33m\u001b[0m\u001b[1;33m\u001b[0m\u001b[0m\n\u001b[0m",
      "\u001b[1;31mTypeError\u001b[0m: unhashable type: 'list'"
     ]
    }
   ],
   "source": [
    "s = set()\n",
    "s.add([1,2,3])"
   ]
  },
  {
   "cell_type": "markdown",
   "metadata": {},
   "source": [
    "# Frozen Sets"
   ]
  },
  {
   "cell_type": "markdown",
   "metadata": {},
   "source": [
    "frozen set is immutable"
   ]
  },
  {
   "cell_type": "code",
   "execution_count": 4,
   "metadata": {},
   "outputs": [
    {
     "data": {
      "text/plain": [
       "frozenset({'Huy Binh', 'Tank Cao', 'VN Pikachu'})"
      ]
     },
     "execution_count": 4,
     "metadata": {},
     "output_type": "execute_result"
    }
   ],
   "source": [
    "members = frozenset(['VN Pikachu', 'Tank Cao', 'Huy Binh'])\n",
    "members"
   ]
  },
  {
   "cell_type": "markdown",
   "metadata": {},
   "source": [
    "# Methods"
   ]
  },
  {
   "cell_type": "markdown",
   "metadata": {},
   "source": [
    "## add"
   ]
  },
  {
   "cell_type": "code",
   "execution_count": 7,
   "metadata": {},
   "outputs": [
    {
     "data": {
      "text/plain": [
       "{'VN Pikachu'}"
      ]
     },
     "execution_count": 7,
     "metadata": {},
     "output_type": "execute_result"
    }
   ],
   "source": [
    "members = set()\n",
    "members.add('VN Pikachu')\n",
    "members"
   ]
  },
  {
   "cell_type": "code",
   "execution_count": null,
   "metadata": {},
   "outputs": [],
   "source": [
    "member.add('vuaxumu')"
   ]
  },
  {
   "cell_type": "markdown",
   "metadata": {},
   "source": [
    "## discard "
   ]
  },
  {
   "cell_type": "markdown",
   "metadata": {},
   "source": [
    "remove a value from the set"
   ]
  },
  {
   "cell_type": "code",
   "execution_count": 8,
   "metadata": {},
   "outputs": [
    {
     "data": {
      "text/plain": [
       "{'VN Pikachu'}"
      ]
     },
     "execution_count": 8,
     "metadata": {},
     "output_type": "execute_result"
    }
   ],
   "source": [
    "members.discard('vuaxumu')\n",
    "members"
   ]
  },
  {
   "cell_type": "markdown",
   "metadata": {},
   "source": [
    "## Remove"
   ]
  },
  {
   "cell_type": "markdown",
   "metadata": {},
   "source": [
    "the same as discard but raise an error if the value is not in the set"
   ]
  },
  {
   "cell_type": "markdown",
   "metadata": {},
   "source": [
    "## Clear"
   ]
  },
  {
   "cell_type": "code",
   "execution_count": 9,
   "metadata": {},
   "outputs": [
    {
     "data": {
      "text/plain": [
       "set()"
      ]
     },
     "execution_count": 9,
     "metadata": {},
     "output_type": "execute_result"
    }
   ],
   "source": [
    "members.clear()\n",
    "members"
   ]
  },
  {
   "cell_type": "markdown",
   "metadata": {},
   "source": [
    "## Copy"
   ]
  },
  {
   "cell_type": "code",
   "execution_count": 10,
   "metadata": {},
   "outputs": [
    {
     "data": {
      "text/plain": [
       "{'Tank Cao', 'VN Pikachu'}"
      ]
     },
     "execution_count": 10,
     "metadata": {},
     "output_type": "execute_result"
    }
   ],
   "source": [
    "members.add('VN Pikachu')\n",
    "members.add('Tank Cao')\n",
    "backups = members.copy()\n",
    "backups"
   ]
  },
  {
   "cell_type": "markdown",
   "metadata": {},
   "source": [
    "## Difference"
   ]
  },
  {
   "cell_type": "markdown",
   "metadata": {},
   "source": [
    "returns elements in a that are not in b, equivalent <code> a - b </code>"
   ]
  },
  {
   "cell_type": "code",
   "execution_count": 11,
   "metadata": {},
   "outputs": [
    {
     "data": {
      "text/plain": [
       "{1}"
      ]
     },
     "execution_count": 11,
     "metadata": {},
     "output_type": "execute_result"
    }
   ],
   "source": [
    "a = {1,2}\n",
    "b = {2,3}\n",
    "a.difference(b)"
   ]
  },
  {
   "cell_type": "code",
   "execution_count": 12,
   "metadata": {},
   "outputs": [
    {
     "data": {
      "text/plain": [
       "{1}"
      ]
     },
     "execution_count": 12,
     "metadata": {},
     "output_type": "execute_result"
    }
   ],
   "source": [
    "a - b "
   ]
  },
  {
   "cell_type": "markdown",
   "metadata": {},
   "source": [
    "## difference_update"
   ]
  },
  {
   "cell_type": "markdown",
   "metadata": {},
   "source": [
    "<code>a = a - b</code>"
   ]
  },
  {
   "cell_type": "code",
   "execution_count": 14,
   "metadata": {},
   "outputs": [
    {
     "data": {
      "text/plain": [
       "{1}"
      ]
     },
     "execution_count": 14,
     "metadata": {},
     "output_type": "execute_result"
    }
   ],
   "source": [
    "a.difference_update(b)\n",
    "a"
   ]
  },
  {
   "cell_type": "code",
   "execution_count": 18,
   "metadata": {},
   "outputs": [],
   "source": [
    "a.add(2)"
   ]
  },
  {
   "cell_type": "markdown",
   "metadata": {},
   "source": [
    "## Union"
   ]
  },
  {
   "cell_type": "markdown",
   "metadata": {},
   "source": [
    "<code> a | b </code>"
   ]
  },
  {
   "cell_type": "code",
   "execution_count": 19,
   "metadata": {},
   "outputs": [
    {
     "data": {
      "text/plain": [
       "{1, 2, 3}"
      ]
     },
     "execution_count": 19,
     "metadata": {},
     "output_type": "execute_result"
    }
   ],
   "source": [
    "a.union(b)"
   ]
  },
  {
   "cell_type": "code",
   "execution_count": 22,
   "metadata": {},
   "outputs": [
    {
     "data": {
      "text/plain": [
       "{1, 2, 3}"
      ]
     },
     "execution_count": 22,
     "metadata": {},
     "output_type": "execute_result"
    }
   ],
   "source": [
    "a | b"
   ]
  },
  {
   "cell_type": "markdown",
   "metadata": {},
   "source": [
    "## Intersection"
   ]
  },
  {
   "cell_type": "markdown",
   "metadata": {},
   "source": [
    "<code> a & b </code> "
   ]
  },
  {
   "cell_type": "code",
   "execution_count": 23,
   "metadata": {},
   "outputs": [
    {
     "data": {
      "text/plain": [
       "{2}"
      ]
     },
     "execution_count": 23,
     "metadata": {},
     "output_type": "execute_result"
    }
   ],
   "source": [
    "a & b"
   ]
  },
  {
   "cell_type": "code",
   "execution_count": 24,
   "metadata": {},
   "outputs": [
    {
     "data": {
      "text/plain": [
       "{2}"
      ]
     },
     "execution_count": 24,
     "metadata": {},
     "output_type": "execute_result"
    }
   ],
   "source": [
    "a.intersection(b)"
   ]
  },
  {
   "cell_type": "markdown",
   "metadata": {},
   "source": [
    "## Intersetion_update"
   ]
  },
  {
   "cell_type": "markdown",
   "metadata": {},
   "source": [
    "<code> a = a & b </code>"
   ]
  },
  {
   "cell_type": "markdown",
   "metadata": {},
   "source": [
    "## issubset"
   ]
  },
  {
   "cell_type": "markdown",
   "metadata": {},
   "source": [
    "<code>a <= b</code>"
   ]
  },
  {
   "cell_type": "code",
   "execution_count": 25,
   "metadata": {},
   "outputs": [
    {
     "data": {
      "text/plain": [
       "True"
      ]
     },
     "execution_count": 25,
     "metadata": {},
     "output_type": "execute_result"
    }
   ],
   "source": [
    "c = {2}\n",
    "c.issubset(b)"
   ]
  },
  {
   "cell_type": "code",
   "execution_count": 26,
   "metadata": {},
   "outputs": [
    {
     "data": {
      "text/plain": [
       "True"
      ]
     },
     "execution_count": 26,
     "metadata": {},
     "output_type": "execute_result"
    }
   ],
   "source": [
    "c <= b"
   ]
  },
  {
   "cell_type": "code",
   "execution_count": 9,
   "metadata": {},
   "outputs": [
    {
     "data": {
      "text/plain": [
       "True"
      ]
     },
     "execution_count": 9,
     "metadata": {},
     "output_type": "execute_result"
    }
   ],
   "source": [
    "{1,2} < {1,2,3}"
   ]
  },
  {
   "cell_type": "code",
   "execution_count": 10,
   "metadata": {},
   "outputs": [
    {
     "data": {
      "text/plain": [
       "True"
      ]
     },
     "execution_count": 10,
     "metadata": {},
     "output_type": "execute_result"
    }
   ],
   "source": [
    "{1,2} <= {1,2,3}"
   ]
  },
  {
   "cell_type": "code",
   "execution_count": 11,
   "metadata": {},
   "outputs": [
    {
     "data": {
      "text/plain": [
       "False"
      ]
     },
     "execution_count": 11,
     "metadata": {},
     "output_type": "execute_result"
    }
   ],
   "source": [
    "{1,2} < {1,2}"
   ]
  },
  {
   "cell_type": "markdown",
   "metadata": {},
   "source": [
    "## issuperset"
   ]
  },
  {
   "cell_type": "markdown",
   "metadata": {},
   "source": [
    "<code>a >= b</code>"
   ]
  },
  {
   "cell_type": "code",
   "execution_count": 27,
   "metadata": {},
   "outputs": [
    {
     "data": {
      "text/plain": [
       "True"
      ]
     },
     "execution_count": 27,
     "metadata": {},
     "output_type": "execute_result"
    }
   ],
   "source": [
    "b.issuperset(c)"
   ]
  },
  {
   "cell_type": "code",
   "execution_count": 28,
   "metadata": {},
   "outputs": [
    {
     "data": {
      "text/plain": [
       "True"
      ]
     },
     "execution_count": 28,
     "metadata": {},
     "output_type": "execute_result"
    }
   ],
   "source": [
    "b >= c"
   ]
  },
  {
   "cell_type": "markdown",
   "metadata": {},
   "source": [
    "## isdisjoint "
   ]
  },
  {
   "cell_type": "code",
   "execution_count": 29,
   "metadata": {},
   "outputs": [
    {
     "data": {
      "text/plain": [
       "True"
      ]
     },
     "execution_count": 29,
     "metadata": {},
     "output_type": "execute_result"
    }
   ],
   "source": [
    "d = {5, 6}\n",
    "d.isdisjoint(b)"
   ]
  },
  {
   "cell_type": "markdown",
   "metadata": {},
   "source": [
    "## Pop"
   ]
  },
  {
   "cell_type": "markdown",
   "metadata": {},
   "source": [
    "remove a random value from the set "
   ]
  },
  {
   "cell_type": "code",
   "execution_count": 30,
   "metadata": {},
   "outputs": [
    {
     "data": {
      "text/plain": [
       "1"
      ]
     },
     "execution_count": 30,
     "metadata": {},
     "output_type": "execute_result"
    }
   ],
   "source": [
    "a.pop()"
   ]
  },
  {
   "cell_type": "code",
   "execution_count": 31,
   "metadata": {},
   "outputs": [
    {
     "data": {
      "text/plain": [
       "{2}"
      ]
     },
     "execution_count": 31,
     "metadata": {},
     "output_type": "execute_result"
    }
   ],
   "source": [
    "a"
   ]
  },
  {
   "cell_type": "markdown",
   "metadata": {},
   "source": [
    "# update"
   ]
  },
  {
   "cell_type": "code",
   "execution_count": 2,
   "metadata": {},
   "outputs": [],
   "source": [
    "a = set([1,2])\n",
    "b = set([3,4])"
   ]
  },
  {
   "cell_type": "code",
   "execution_count": 3,
   "metadata": {},
   "outputs": [],
   "source": [
    "a.update(b)"
   ]
  },
  {
   "cell_type": "code",
   "execution_count": 4,
   "metadata": {},
   "outputs": [
    {
     "data": {
      "text/plain": [
       "{1, 2, 3, 4}"
      ]
     },
     "execution_count": 4,
     "metadata": {},
     "output_type": "execute_result"
    }
   ],
   "source": [
    "a"
   ]
  },
  {
   "cell_type": "code",
   "execution_count": 128,
   "metadata": {},
   "outputs": [
    {
     "data": {
      "text/plain": [
       "<re.Match object; span=(0, 9), match='afae3a3a3'>"
      ]
     },
     "execution_count": 128,
     "metadata": {},
     "output_type": "execute_result"
    }
   ],
   "source": [
    "pattern = r'([A-zA-z]+\\d+){3,}'\n",
    "re.search(pattern, 'afae3a3a3')"
   ]
  },
  {
   "cell_type": "code",
   "execution_count": 129,
   "metadata": {},
   "outputs": [
    {
     "name": "stdout",
     "output_type": "stream",
     "text": [
      "0 b\n",
      "1 c\n"
     ]
    }
   ],
   "source": [
    "a = dict(b = 3, c = 5)\n",
    "for i, v in enumerate(a):\n",
    "    print(i, v)"
   ]
  },
  {
   "cell_type": "code",
   "execution_count": 130,
   "metadata": {},
   "outputs": [
    {
     "data": {
      "text/plain": [
       "{0, 1, 2, 3, 4, 5, 6, 7, 8, 9}"
      ]
     },
     "execution_count": 130,
     "metadata": {},
     "output_type": "execute_result"
    }
   ],
   "source": [
    "a = set([1,2])\n",
    "a.update(i for i in range(10))\n",
    "a"
   ]
  },
  {
   "cell_type": "code",
   "execution_count": 136,
   "metadata": {},
   "outputs": [],
   "source": [
    "# Enter your code here. Read input from STDIN. Print output to STDOUT\n",
    "import re\n",
    "from collections import defaultdict\n",
    "tags = defaultdict(set)\n",
    "def parse(s):\n",
    "    blocks = re.findall(r'<(\\w+) (.*?)>', s)\n",
    "    for tag_name, setting in blocks:\n",
    "        tags[tag_name].update(attr for attr in re.findall(r'(\\w+)=\".*?\"', setting))\n",
    "    \n",
    "    for tag_name, attr in sorted(list(tags), key = lambda x: x[0]):\n",
    "        v = ','.join(sorted(attr))\n",
    "        print(f'{tag_name}:{v}')\n",
    "\n"
   ]
  },
  {
   "cell_type": "code",
   "execution_count": 160,
   "metadata": {},
   "outputs": [],
   "source": [
    "import re\n",
    "from collections import defaultdict\n",
    "\n",
    "tags = defaultdict(set)\n",
    "def parse(s):\n",
    "    blocks = re.findall(r'<(\\w+) (.*?)>', s)\n",
    "   \n",
    "    for tag_name, setting in blocks:\n",
    "        print(setting)\n",
    "        print(re.findall(r'(\\w+)=\".*?\"', setting))\n",
    "        tags[tag_name].update(attr for attr in re.findall(r'(\\w+)=[\"\\'].*?[\"\\']', setting))\n",
    "    print(list(tags))\n",
    "    for tag_name, attr in sorted(tags.items(), key = lambda x: x[0]):\n",
    "        v = ','.join(sorted(attr))\n",
    "        print(f'{tag_name}:{v}')"
   ]
  },
  {
   "cell_type": "code",
   "execution_count": 161,
   "metadata": {},
   "outputs": [
    {
     "name": "stdout",
     "output_type": "stream",
     "text": [
      "class=\"portal\" role=\"navigation\" id='p-navigation'\n",
      "['class', 'role']\n",
      "['div']\n",
      "div:class,id,role\n"
     ]
    }
   ],
   "source": [
    "html = '''\n",
    "<div class=\"portal\" role=\"navigation\" id='p-navigation'>\n",
    "'''\n",
    "parse(html)"
   ]
  },
  {
   "cell_type": "code",
   "execution_count": 143,
   "metadata": {},
   "outputs": [
    {
     "data": {
      "text/plain": [
       "['a', 'b']"
      ]
     },
     "execution_count": 143,
     "metadata": {},
     "output_type": "execute_result"
    }
   ],
   "source": []
  },
  {
   "cell_type": "code",
   "execution_count": 146,
   "metadata": {},
   "outputs": [
    {
     "data": {
      "text/plain": [
       "[('a', 1), ('b', 2)]"
      ]
     },
     "execution_count": 146,
     "metadata": {},
     "output_type": "execute_result"
    }
   ],
   "source": [
    "list(dict([['a', 1], ['b', 2]]).items())"
   ]
  },
  {
   "cell_type": "code",
   "execution_count": 173,
   "metadata": {},
   "outputs": [
    {
     "data": {
      "text/plain": [
       "<re.Match object; span=(0, 1), match='.'>"
      ]
     },
     "execution_count": 173,
     "metadata": {},
     "output_type": "execute_result"
    }
   ],
   "source": [
    "p = re.compile(r'(0|[1-9]\\d*)?.?\\d*')\n",
    "i = '.'\n",
    "p.search(i)"
   ]
  },
  {
   "cell_type": "code",
   "execution_count": null,
   "metadata": {},
   "outputs": [],
   "source": [
    "'132'\n",
    "'123.2'\n",
    "'123.'\n",
    "'.3323'"
   ]
  },
  {
   "cell_type": "code",
   "execution_count": 189,
   "metadata": {},
   "outputs": [],
   "source": [
    "pattern = re.compile(r'\\([+-](0|[1-9]\\d*)?.?\\d*, [+-](0|[1-9]\\d*)?.?\\d*\\)')\n",
    "pattern.search('(13.2, 3.2)')"
   ]
  },
  {
   "cell_type": "code",
   "execution_count": 190,
   "metadata": {},
   "outputs": [],
   "source": [
    "v = '(+90.0, -147.45)'\n",
    "v = '(+123.3, 5.32)'\n",
    "pattern.search(v)"
   ]
  },
  {
   "cell_type": "code",
   "execution_count": 203,
   "metadata": {},
   "outputs": [
    {
     "data": {
      "text/plain": [
       "[]"
      ]
     },
     "execution_count": 203,
     "metadata": {},
     "output_type": "execute_result"
    }
   ],
   "source": [
    "pattern = re.compile(r'\\(([+-]?(?:0|[1-9]\\d*)(?:\\.\\d+)?), ([+-]?(?:0|[1-9]\\d*)(?:\\.\\d+)?)\\)')\n",
    "pattern.findall('(.3, 45.3)')"
   ]
  },
  {
   "cell_type": "code",
   "execution_count": 208,
   "metadata": {},
   "outputs": [
    {
     "data": {
      "text/plain": [
       "90.0"
      ]
     },
     "execution_count": 208,
     "metadata": {},
     "output_type": "execute_result"
    }
   ],
   "source": [
    "eval('+90.0')"
   ]
  },
  {
   "cell_type": "code",
   "execution_count": 209,
   "metadata": {},
   "outputs": [],
   "source": [
    "txt = '''\n",
    "revision(disappoint steady.revision_wish closet_revision.labour all.revision'college bad-revision revision)helpful hardly,revision prevent,revision revision)woman revision)oil\n",
    "revision_unlike flash-revision-stream tear.revision_packet please-revision funny'revision revisionok sting-revision jealousrevision'twice care,revision revisionindependently\n",
    "revision,bitter accidental)revision equal-revision whom-revision_stream revision-etc gentlerevision revision(prefer adjust,revisionexcited revision)star revision.elect\n",
    "revisionpassenger revision(separately hit,revision)leaf encouragement.revision revision,injury revision,interruption anger.revisionattractive slow-revision shift.revision ground-revision.scared\n",
    "conduct)revision revision_hunt nearbyrevision,advertisement angrily'revision_news spring-revision hollow'revision,aid tear.revision distinguish,revision pt'revision(surname lean-revision)large\n",
    "unemployed'revision_virus pill,revision become-revisionhorse define(revision onto'revision so.revision pity.revision(course jump.revision solid_revision-wife revision-tropical\n",
    "freeze-revision)tuesday shooting_revision-cabinet revision_anyway know)revision context)revision react,revision_picture absence_revisiontrend country)revision revision'alive mouth(revision\n",
    "a)revision(rely satisfyingrevision(statement revision-bored revision(engineering length-revision_lucky retain)revision'secure carefullyrevision revision,west polish_revision.pay copy.revision\n",
    "revision)growth revision(disc category.revision revision-holy revision(presence one)revision knowledge(revision killing_revision attention-revision revision(wait\n",
    "provided(revision_from permissionrevision infectious,revision printing-revision'unnecessary drunk,revision revision-anything revision_map worry)revisionnail revision.contribution sack_revision\n",
    "'''"
   ]
  },
  {
   "cell_type": "code",
   "execution_count": 210,
   "metadata": {},
   "outputs": [
    {
     "data": {
      "text/plain": [
       "['absence_revisiontrend']"
      ]
     },
     "execution_count": 210,
     "metadata": {},
     "output_type": "execute_result"
    }
   ],
   "source": [
    "re.findall(f'\\\\wrevision\\\\w+', txt)"
   ]
  },
  {
   "cell_type": "code",
   "execution_count": 211,
   "metadata": {},
   "outputs": [],
   "source": [
    "html = '''\n",
    "\n",
    "        <div class=\"question-summary\" id=\"question-summary-80407\">\n",
    "        <div class=\"statscontainer\">\n",
    "            <div class=\"statsarrow\"></div>\n",
    "            <div class=\"stats\">\n",
    "                <div class=\"vote\">\n",
    "                    <div class=\"votes\">\n",
    "                        <span class=\"vote-count-post \"><strong>2</strong></span>\n",
    "                        <div class=\"viewcount\">votes</div>\n",
    "                    </div>\n",
    "                </div>\n",
    "                <div class=\"status answered\">\n",
    "                    <strong>1</strong>answer\n",
    "                </div>\n",
    "            </div>\n",
    "\n",
    "\n",
    "\n",
    "    <div class=\"views \" title=\"60 views\">\n",
    "                        60 views\n",
    "    </div>\n",
    "        </div>\n",
    "        <div class=\"summary\">\n",
    "            <h3><a href=\"/questions/80407/about-power-supply-of-opertional-amplifier\" class=\"question-hyperlink\">about power supply of opertional amplifier</a></h3>\n",
    "            <div class=\"excerpt\">\n",
    "                I am constructing an operational amplifier as shown in the following figure. I use a batter as supplier for the OP Amp and set it up as a non-inverting amp circuit. I saw that the output was clipped ...\n",
    "            </div>\n",
    "\n",
    "            <div class=\"tags t-op-amp\">\n",
    "                <a href=\"/questions/tagged/op-amp\" class=\"post-tag\" title=\"show questions tagged 'op-amp'\" rel=\"tag\">op-amp</a>\n",
    "\n",
    "            </div>\n",
    "            <div class=\"started fr\">\n",
    "\n",
    "\n",
    "        <div class=\"user-info \">\n",
    "            <div class=\"user-action-time\">\n",
    "\n",
    "\n",
    "                        asked <span title=\"2013-08-27 21:49:14Z\" class=\"relativetime\">11 hours ago</span>\n",
    "            </div>\n",
    "            <div class=\"user-gravatar32\">\n",
    "                <a href=\"/users/17060/user1285419\"><div class=\"\"><img src=\"https://www.gravatar.com/avatar/08ee68b20a4eceff26f7eee99b708c08?s=32&d=identicon&r=PG\" alt=\"\" width=\"32\" height=\"32\"></div></a>\n",
    "            </div>\n",
    "            <div class=\"user-details\">\n",
    "                <a href=\"/users/17060/user1285419\">user1285419</a><br>\n",
    "                <span class=\"reputation-score\" title=\"reputation score\" dir=\"ltr\">165</span><span title=\"5 bronze badges\"><span class=\"badge3\"></span><span class=\"badgecount\">5</span></span>\n",
    "            </div>\n",
    "        </div>\n",
    "\n",
    "            </div>\n",
    "        </div>\n",
    "    </div>\n",
    "\n",
    "    <div class=\"question-summary\" id=\"question-summary-80405\">\n",
    "        <div class=\"statscontainer\">\n",
    "            <div class=\"statsarrow\"></div>\n",
    "            <div class=\"stats\">\n",
    "                <div class=\"vote\">\n",
    "                    <div class=\"votes\">\n",
    "                        <span class=\"vote-count-post \"><strong>4</strong></span>\n",
    "                        <div class=\"viewcount\">votes</div>\n",
    "                    </div>\n",
    "                </div>\n",
    "                <div class=\"status answered-accepted\">\n",
    "                    <strong>2</strong>answers\n",
    "                </div>\n",
    "            </div>\n",
    "\n",
    "\n",
    "\n",
    "    <div class=\"views \" title=\"64 views\">\n",
    "                        64 views\n",
    "    </div>\n",
    "        </div>\n",
    "        <div class=\"summary\">\n",
    "            <h3><a href=\"/questions/80405/5v-regulator-power-dissipation\" class=\"question-hyperlink\">5V Regulator Power Dissipation</a></h3>\n",
    "            <div class=\"excerpt\">\n",
    "                I am using a 5V regulator (LP2950) from ON Semiconductor. I am using this for USB power and I'm feeding in 9V from an adapter. USB requires maximum of 500mA right? So the maximum power dissipation in ...\n",
    "            </div>\n",
    "\n",
    "            <div class=\"tags t-voltage-regulator t-surface-mount t-heatsink t-5v t-power-dissipation\">\n",
    "                <a href=\"/questions/tagged/voltage-regulator\" class=\"post-tag\" title=\"show questions tagged 'voltage-regulator'\" rel=\"tag\">voltage-regulator</a> <a href=\"/questions/tagged/surface-mount\" class=\"post-tag\" title=\"show questions tagged 'surface-mount'\" rel=\"tag\">surface-mount</a> <a href=\"/questions/tagged/heatsink\" class=\"post-tag\" title=\"show questions tagged 'heatsink'\" rel=\"tag\">heatsink</a> <a href=\"/questions/tagged/5v\" class=\"post-tag\" title=\"show questions tagged '5v'\" rel=\"tag\">5v</a> <a href=\"/questions/tagged/power-dissipation\" class=\"post-tag\" title=\"show questions tagged 'power-dissipation'\" rel=\"tag\">power-dissipation</a>\n",
    "\n",
    "            </div>\n",
    "            <div class=\"started fr\">\n",
    "\n",
    "\n",
    "        <div class=\"user-info \">\n",
    "            <div class=\"user-action-time\">\n",
    "\n",
    "\n",
    "                        asked <span title=\"2013-08-27 21:39:31Z\" class=\"relativetime\">11 hours ago</span>\n",
    "            </div>\n",
    "            <div class=\"user-gravatar32\">\n",
    "                <a href=\"/users/10082/david-norman\"><div class=\"\"><img src=\"https://www.gravatar.com/avatar/8b073417e471077280b3fc5ff2eaf1f7?s=32&d=identicon&r=PG\" alt=\"\" width=\"32\" height=\"32\"></div></a>\n",
    "            </div>\n",
    "            <div class=\"user-details\">\n",
    "                <a href=\"/users/10082/david-norman\">David Norman</a><br>\n",
    "                <span class=\"reputation-score\" title=\"reputation score\" dir=\"ltr\">322</span><span title=\"3 silver badges\"><span class=\"badge2\"></span><span class=\"badgecount\">3</span></span><span title=\"10 bronze badges\"><span class=\"badge3\"></span><span class=\"badgecount\">10</span></span>\n",
    "            </div>\n",
    "        </div>\n",
    "\n",
    "            </div>\n",
    "        </div>\n",
    "    </div>\n",
    "'''"
   ]
  },
  {
   "cell_type": "code",
   "execution_count": 231,
   "metadata": {},
   "outputs": [],
   "source": [
    "q = re.findall(r'questions/(\\d+)/([^\"]+)', html)"
   ]
  },
  {
   "cell_type": "code",
   "execution_count": 232,
   "metadata": {},
   "outputs": [],
   "source": [
    "h = re.findall(r'\\d+ hours? ago', html)"
   ]
  },
  {
   "cell_type": "code",
   "execution_count": 233,
   "metadata": {},
   "outputs": [
    {
     "name": "stdout",
     "output_type": "stream",
     "text": [
      "80407,about-power-supply-of-opertional-amplifier,11 hours ago\n",
      "80405,5v-regulator-power-dissipation,11 hours ago\n"
     ]
    }
   ],
   "source": [
    "for m, n in zip(q, h):\n",
    "    \n",
    "    print(m[0], m[1], n, sep = ',')"
   ]
  },
  {
   "cell_type": "code",
   "execution_count": null,
   "metadata": {},
   "outputs": [],
   "source": [
    "# Enter your code here. Read input from STDIN. Print output to STDOUT\n",
    "import re\n",
    "\n",
    "\n",
    "#questions/80405/5v-regulator-power-dissipation\n",
    "s = input()\n",
    "q = re.findall(r'questions/(\\d+)/([^\"]+)', s)\n",
    "h = re.findall(r'\\d+ hours? ago', s)\n",
    "\n",
    "for m, n in zip(q, h):\n",
    "    \n",
    "    print(m[0], m[1], n, sep = ';')"
   ]
  },
  {
   "cell_type": "code",
   "execution_count": null,
   "metadata": {},
   "outputs": [],
   "source": []
  }
 ],
 "metadata": {
  "kernelspec": {
   "display_name": "Python 3",
   "language": "python",
   "name": "python3"
  },
  "language_info": {
   "codemirror_mode": {
    "name": "ipython",
    "version": 3
   },
   "file_extension": ".py",
   "mimetype": "text/x-python",
   "name": "python",
   "nbconvert_exporter": "python",
   "pygments_lexer": "ipython3",
   "version": "3.7.9"
  }
 },
 "nbformat": 4,
 "nbformat_minor": 2
}
