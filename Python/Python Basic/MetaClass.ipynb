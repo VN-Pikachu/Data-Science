{
 "cells": [
  {
   "cell_type": "markdown",
   "metadata": {},
   "source": [
    "<a href = 'https://ktmt.github.io/blog/2013/09/10/su-dung-metaclass-trong-python/'>Meta class</a>"
   ]
  },
  {
   "cell_type": "markdown",
   "metadata": {},
   "source": [
    "Giả sử chúng ta có B là metaclass của A. Việc tạo ra một instance của A chính là việc gọi hàm **`A(*args, **kwargs)`**. Nhưng vì A là một instance của B, nên gọi A, chính là gọi hàm **`__call__`** của một instance của B. Do đó, để can thiệp vào quá trình tạo instance của class, chúng ta có thể override hàm **`__call__`** trong class B"
   ]
  },
  {
   "cell_type": "markdown",
   "metadata": {},
   "source": [
    "**`obj`** is an instance of **`class`**  \n",
    "**`class`** is an instance of **`metaclass`**"
   ]
  },
  {
   "cell_type": "markdown",
   "metadata": {},
   "source": [
    "# What is metaclass?"
   ]
  },
  {
   "cell_type": "markdown",
   "metadata": {},
   "source": [
    "A metaclass is a class whose **instances are classes**.  \n",
    "Like an \"ordinary\" class defines the behavior of the instances of the class, a metaclass defines the behavior of classes and their instances."
   ]
  },
  {
   "cell_type": "markdown",
   "metadata": {},
   "source": [
    "# Defining metaclass"
   ]
  },
  {
   "cell_type": "markdown",
   "metadata": {},
   "source": [
    "metaclass inherit from **`type`**"
   ]
  },
  {
   "cell_type": "markdown",
   "metadata": {},
   "source": [
    "Now we create a very simple metaclass. It's good for nothing, except that it will print the content of its arguments in the __new__ method and returns the results of the type.__new__ call:`"
   ]
  },
  {
   "cell_type": "code",
   "execution_count": 12,
   "metadata": {},
   "outputs": [],
   "source": [
    "class Meta(type):\n",
    "    def __new__(cls, classname, superclass, attr_dict):\n",
    "        \n",
    "        print('class:',cls)\n",
    "        print('classname:',classname)\n",
    "        print('superclass:',superclass)\n",
    "        print('attribute dict:', attr_dict)\n",
    "        #this return a class (class creation)\n",
    "        return type.__new__(cls, classname, superclass, attr_dict)"
   ]
  },
  {
   "cell_type": "code",
   "execution_count": 13,
   "metadata": {},
   "outputs": [
    {
     "name": "stdout",
     "output_type": "stream",
     "text": [
      "class: <class '__main__.Meta'>\n",
      "classname: A\n",
      "superclass: (<class '__main__.S'>,)\n",
      "attribute dict: {'__module__': '__main__', '__qualname__': 'A'}\n"
     ]
    }
   ],
   "source": [
    "class S:\n",
    "    pass\n",
    "class A(S, metaclass = Meta):\n",
    "    pass\n",
    "a = A()"
   ]
  },
  {
   "cell_type": "markdown",
   "metadata": {},
   "source": [
    "after the class definition has been processed, Python calls\n",
    "\n",
    "`type(classname, superclasses, attributes_dict)`  \n",
    "\n",
    "When we call \"type\", the call method of type is called.  \n",
    "The call method runs two other methods: new and init:  \n",
    "`type.__new__(typeclass, classname, superclasses, attributedict)`\n",
    "\n",
    "`type.__init__(cls, classname, superclasses, attributedict)`"
   ]
  },
  {
   "cell_type": "markdown",
   "metadata": {},
   "source": [
    "This is not the case, if metaclass is declared in the header  \n",
    "**`Meta.__new__`** and **`Meta.__init__`** will be called"
   ]
  },
  {
   "cell_type": "markdown",
   "metadata": {},
   "source": [
    "# Example"
   ]
  },
  {
   "cell_type": "markdown",
   "metadata": {},
   "source": [
    "let's create a class that its definition depends on a value <br>let's say password  if the password is correct, we display the message: welcome, otherwise say: error"
   ]
  },
  {
   "cell_type": "code",
   "execution_count": 24,
   "metadata": {},
   "outputs": [
    {
     "name": "stdout",
     "output_type": "stream",
     "text": [
      "Please enter the password:entrep\n"
     ]
    }
   ],
   "source": [
    "password = input('Please enter the password:')\n"
   ]
  },
  {
   "cell_type": "code",
   "execution_count": 25,
   "metadata": {},
   "outputs": [],
   "source": [
    "class Meta(type):\n",
    "    def __init__(self, name, supernames, attr_dict):\n",
    "        if password == 'Trung':\n",
    "            self.message = lambda self: print('Welcome')\n",
    "        else:\n",
    "            self.message = lambda self: print('Error')"
   ]
  },
  {
   "cell_type": "code",
   "execution_count": 26,
   "metadata": {},
   "outputs": [],
   "source": [
    "class p1(metaclass = Meta):\n",
    "    pass\n",
    "class p2(metaclass = Meta):\n",
    "    pass\n",
    "class p3(metaclass = Meta):\n",
    "    pass"
   ]
  },
  {
   "cell_type": "code",
   "execution_count": 27,
   "metadata": {},
   "outputs": [],
   "source": [
    "trung = p1()\n",
    "kien = p2()\n",
    "tu = p3()"
   ]
  },
  {
   "cell_type": "code",
   "execution_count": 28,
   "metadata": {},
   "outputs": [
    {
     "name": "stdout",
     "output_type": "stream",
     "text": [
      "Error\n"
     ]
    }
   ],
   "source": [
    "trung.message()"
   ]
  },
  {
   "cell_type": "code",
   "execution_count": 29,
   "metadata": {},
   "outputs": [
    {
     "name": "stdout",
     "output_type": "stream",
     "text": [
      "Error\n"
     ]
    }
   ],
   "source": [
    "kien.message()"
   ]
  },
  {
   "cell_type": "markdown",
   "metadata": {},
   "source": [
    "# The 'Count Call' metaclass"
   ]
  },
  {
   "cell_type": "markdown",
   "metadata": {},
   "source": [
    "Create a metaclass, that every class inherits from it will have methods automatically decorated with the call counter function"
   ]
  },
  {
   "cell_type": "code",
   "execution_count": 7,
   "metadata": {},
   "outputs": [],
   "source": [
    "from functools import wraps\n",
    "class Meta(type):\n",
    "    def __new__(cls, classname, superclass, attr_dict):\n",
    "        pass\n",
    "    @staticmethod\n",
    "    def counter(func):\n",
    "        @wraps(func)\n",
    "        def wrapper(*args, **kwargs):\n",
    "            wrapper.count += 1\n",
    "            return func(*args, **kwargs)\n",
    "        wrapper.count = 0\n",
    "        return wrapper\n",
    "    def __new__(cls, classname, superclass, attr_dict):\n",
    "        for attr in attr_dict:\n",
    "            if not attr.startswith('__') and callable(attr_dict[attr]):\n",
    "                attr_dict[attr] = cls.counter(attr_dict[attr])\n",
    "        return type.__new__(cls, classname, superclass, attr_dict)\n",
    "    \n",
    "    \n",
    "class A(metaclass = Meta):\n",
    "    def __init__(self):\n",
    "        pass\n",
    "    def greetings(self):\n",
    "        pass\n",
    "    def say_hi(self):\n",
    "        pass"
   ]
  },
  {
   "cell_type": "code",
   "execution_count": 8,
   "metadata": {},
   "outputs": [
    {
     "data": {
      "text/plain": [
       "3"
      ]
     },
     "execution_count": 8,
     "metadata": {},
     "output_type": "execute_result"
    }
   ],
   "source": [
    "a = A()\n",
    "a.greetings()\n",
    "a.greetings()\n",
    "a.greetings()\n",
    "a.greetings.count"
   ]
  },
  {
   "cell_type": "code",
   "execution_count": 9,
   "metadata": {},
   "outputs": [
    {
     "data": {
      "text/plain": [
       "2"
      ]
     },
     "execution_count": 9,
     "metadata": {},
     "output_type": "execute_result"
    }
   ],
   "source": [
    "a.say_hi()\n",
    "a.say_hi()\n",
    "a.say_hi.count"
   ]
  },
  {
   "cell_type": "markdown",
   "metadata": {},
   "source": [
    "## NOTE"
   ]
  },
  {
   "cell_type": "markdown",
   "metadata": {},
   "source": [
    "instead of calling:\n",
    "```python\n",
    "class A(metaclass = Meta):\n",
    "    pass\n",
    "```\n",
    "we can use:  \n",
    "```python\n",
    "class A:\n",
    "    __metaclass__ = Meta\n",
    "    pass\n",
    "```"
   ]
  },
  {
   "cell_type": "code",
   "execution_count": null,
   "metadata": {},
   "outputs": [],
   "source": []
  }
 ],
 "metadata": {
  "kernelspec": {
   "display_name": "Python 3",
   "language": "python",
   "name": "python3"
  },
  "language_info": {
   "codemirror_mode": {
    "name": "ipython",
    "version": 3
   },
   "file_extension": ".py",
   "mimetype": "text/x-python",
   "name": "python",
   "nbconvert_exporter": "python",
   "pygments_lexer": "ipython3",
   "version": "3.7.9"
  }
 },
 "nbformat": 4,
 "nbformat_minor": 2
}
