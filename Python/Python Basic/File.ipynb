{
 "cells": [
  {
   "cell_type": "code",
   "execution_count": 1,
   "metadata": {},
   "outputs": [],
   "source": [
    "import os"
   ]
  },
  {
   "cell_type": "code",
   "execution_count": 2,
   "metadata": {},
   "outputs": [
    {
     "data": {
      "text/plain": [
       "'C:\\\\Users\\\\dell\\\\Data Science\\\\Python'"
      ]
     },
     "execution_count": 2,
     "metadata": {},
     "output_type": "execute_result"
    }
   ],
   "source": [
    "os.getcwd()"
   ]
  },
  {
   "cell_type": "markdown",
   "metadata": {},
   "source": [
    "# Open"
   ]
  },
  {
   "cell_type": "code",
   "execution_count": 20,
   "metadata": {},
   "outputs": [
    {
     "name": "stdout",
     "output_type": "stream",
     "text": [
      "Help on built-in function open in module io:\n",
      "\n",
      "open(file, mode='r', buffering=-1, encoding=None, errors=None, newline=None, closefd=True, opener=None)\n",
      "    Open file and return a stream.  Raise OSError upon failure.\n",
      "    \n",
      "    file is either a text or byte string giving the name (and the path\n",
      "    if the file isn't in the current working directory) of the file to\n",
      "    be opened or an integer file descriptor of the file to be\n",
      "    wrapped. (If a file descriptor is given, it is closed when the\n",
      "    returned I/O object is closed, unless closefd is set to False.)\n",
      "    \n",
      "    mode is an optional string that specifies the mode in which the file\n",
      "    is opened. It defaults to 'r' which means open for reading in text\n",
      "    mode.  Other common values are 'w' for writing (truncating the file if\n",
      "    it already exists), 'x' for creating and writing to a new file, and\n",
      "    'a' for appending (which on some Unix systems, means that all writes\n",
      "    append to the end of the file regardless of the current seek position).\n",
      "    In text mode, if encoding is not specified the encoding used is platform\n",
      "    dependent: locale.getpreferredencoding(False) is called to get the\n",
      "    current locale encoding. (For reading and writing raw bytes use binary\n",
      "    mode and leave encoding unspecified.) The available modes are:\n",
      "    \n",
      "    ========= ===============================================================\n",
      "    Character Meaning\n",
      "    --------- ---------------------------------------------------------------\n",
      "    'r'       open for reading (default)\n",
      "    'w'       open for writing, truncating the file first\n",
      "    'x'       create a new file and open it for writing\n",
      "    'a'       open for writing, appending to the end of the file if it exists\n",
      "    'b'       binary mode\n",
      "    't'       text mode (default)\n",
      "    '+'       open a disk file for updating (reading and writing)\n",
      "    'U'       universal newline mode (deprecated)\n",
      "    ========= ===============================================================\n",
      "    \n",
      "    The default mode is 'rt' (open for reading text). For binary random\n",
      "    access, the mode 'w+b' opens and truncates the file to 0 bytes, while\n",
      "    'r+b' opens the file without truncation. The 'x' mode implies 'w' and\n",
      "    raises an `FileExistsError` if the file already exists.\n",
      "    \n",
      "    Python distinguishes between files opened in binary and text modes,\n",
      "    even when the underlying operating system doesn't. Files opened in\n",
      "    binary mode (appending 'b' to the mode argument) return contents as\n",
      "    bytes objects without any decoding. In text mode (the default, or when\n",
      "    't' is appended to the mode argument), the contents of the file are\n",
      "    returned as strings, the bytes having been first decoded using a\n",
      "    platform-dependent encoding or using the specified encoding if given.\n",
      "    \n",
      "    'U' mode is deprecated and will raise an exception in future versions\n",
      "    of Python.  It has no effect in Python 3.  Use newline to control\n",
      "    universal newlines mode.\n",
      "    \n",
      "    buffering is an optional integer used to set the buffering policy.\n",
      "    Pass 0 to switch buffering off (only allowed in binary mode), 1 to select\n",
      "    line buffering (only usable in text mode), and an integer > 1 to indicate\n",
      "    the size of a fixed-size chunk buffer.  When no buffering argument is\n",
      "    given, the default buffering policy works as follows:\n",
      "    \n",
      "    * Binary files are buffered in fixed-size chunks; the size of the buffer\n",
      "      is chosen using a heuristic trying to determine the underlying device's\n",
      "      \"block size\" and falling back on `io.DEFAULT_BUFFER_SIZE`.\n",
      "      On many systems, the buffer will typically be 4096 or 8192 bytes long.\n",
      "    \n",
      "    * \"Interactive\" text files (files for which isatty() returns True)\n",
      "      use line buffering.  Other text files use the policy described above\n",
      "      for binary files.\n",
      "    \n",
      "    encoding is the name of the encoding used to decode or encode the\n",
      "    file. This should only be used in text mode. The default encoding is\n",
      "    platform dependent, but any encoding supported by Python can be\n",
      "    passed.  See the codecs module for the list of supported encodings.\n",
      "    \n",
      "    errors is an optional string that specifies how encoding errors are to\n",
      "    be handled---this argument should not be used in binary mode. Pass\n",
      "    'strict' to raise a ValueError exception if there is an encoding error\n",
      "    (the default of None has the same effect), or pass 'ignore' to ignore\n",
      "    errors. (Note that ignoring encoding errors can lead to data loss.)\n",
      "    See the documentation for codecs.register or run 'help(codecs.Codec)'\n",
      "    for a list of the permitted encoding error strings.\n",
      "    \n",
      "    newline controls how universal newlines works (it only applies to text\n",
      "    mode). It can be None, '', '\\n', '\\r', and '\\r\\n'.  It works as\n",
      "    follows:\n",
      "    \n",
      "    * On input, if newline is None, universal newlines mode is\n",
      "      enabled. Lines in the input can end in '\\n', '\\r', or '\\r\\n', and\n",
      "      these are translated into '\\n' before being returned to the\n",
      "      caller. If it is '', universal newline mode is enabled, but line\n",
      "      endings are returned to the caller untranslated. If it has any of\n",
      "      the other legal values, input lines are only terminated by the given\n",
      "      string, and the line ending is returned to the caller untranslated.\n",
      "    \n",
      "    * On output, if newline is None, any '\\n' characters written are\n",
      "      translated to the system default line separator, os.linesep. If\n",
      "      newline is '' or '\\n', no translation takes place. If newline is any\n",
      "      of the other legal values, any '\\n' characters written are translated\n",
      "      to the given string.\n",
      "    \n",
      "    If closefd is False, the underlying file descriptor will be kept open\n",
      "    when the file is closed. This does not work when a file name is given\n",
      "    and must be True in that case.\n",
      "    \n",
      "    A custom opener can be used by passing a callable as *opener*. The\n",
      "    underlying file descriptor for the file object is then obtained by\n",
      "    calling *opener* with (*file*, *flags*). *opener* must return an open\n",
      "    file descriptor (passing os.open as *opener* results in functionality\n",
      "    similar to passing None).\n",
      "    \n",
      "    open() returns a file object whose type depends on the mode, and\n",
      "    through which the standard file operations such as reading and writing\n",
      "    are performed. When open() is used to open a file in a text mode ('w',\n",
      "    'r', 'wt', 'rt', etc.), it returns a TextIOWrapper. When used to open\n",
      "    a file in a binary mode, the returned class varies: in read binary\n",
      "    mode, it returns a BufferedReader; in write binary and append binary\n",
      "    modes, it returns a BufferedWriter, and in read/write mode, it returns\n",
      "    a BufferedRandom.\n",
      "    \n",
      "    It is also possible to use a string or bytearray as a file for both\n",
      "    reading and writing. For strings StringIO can be used like a file\n",
      "    opened in a text mode, and for bytes a BytesIO can be used like a file\n",
      "    opened in a binary mode.\n",
      "\n"
     ]
    }
   ],
   "source": [
    "help(open)"
   ]
  },
  {
   "cell_type": "code",
   "execution_count": 12,
   "metadata": {},
   "outputs": [
    {
     "data": {
      "text/plain": [
       "<_io.TextIOWrapper name='FileManagement' mode='r' encoding='utf-8'>"
      ]
     },
     "execution_count": 12,
     "metadata": {},
     "output_type": "execute_result"
    }
   ],
   "source": [
    "file = open('FileManagement', 'r', encoding = 'utf-8')\n",
    "file"
   ]
  },
  {
   "cell_type": "markdown",
   "metadata": {},
   "source": [
    "# Stream Objects"
   ]
  },
  {
   "cell_type": "markdown",
   "metadata": {},
   "source": [
    "The **`open()`** function returns a stream object, which has methods and attributes for getting information about and manipulating a stream of characters."
   ]
  },
  {
   "cell_type": "code",
   "execution_count": 15,
   "metadata": {},
   "outputs": [
    {
     "data": {
      "text/plain": [
       "['_CHUNK_SIZE',\n",
       " '__class__',\n",
       " '__del__',\n",
       " '__delattr__',\n",
       " '__dict__',\n",
       " '__dir__',\n",
       " '__doc__',\n",
       " '__enter__',\n",
       " '__eq__',\n",
       " '__exit__',\n",
       " '__format__',\n",
       " '__ge__',\n",
       " '__getattribute__',\n",
       " '__getstate__',\n",
       " '__gt__',\n",
       " '__hash__',\n",
       " '__init__',\n",
       " '__init_subclass__',\n",
       " '__iter__',\n",
       " '__le__',\n",
       " '__lt__',\n",
       " '__ne__',\n",
       " '__new__',\n",
       " '__next__',\n",
       " '__reduce__',\n",
       " '__reduce_ex__',\n",
       " '__repr__',\n",
       " '__setattr__',\n",
       " '__sizeof__',\n",
       " '__str__',\n",
       " '__subclasshook__',\n",
       " '_checkClosed',\n",
       " '_checkReadable',\n",
       " '_checkSeekable',\n",
       " '_checkWritable',\n",
       " '_finalizing',\n",
       " 'buffer',\n",
       " 'close',\n",
       " 'closed',\n",
       " 'detach',\n",
       " 'encoding',\n",
       " 'errors',\n",
       " 'fileno',\n",
       " 'flush',\n",
       " 'isatty',\n",
       " 'line_buffering',\n",
       " 'mode',\n",
       " 'name',\n",
       " 'newlines',\n",
       " 'read',\n",
       " 'readable',\n",
       " 'readline',\n",
       " 'readlines',\n",
       " 'reconfigure',\n",
       " 'seek',\n",
       " 'seekable',\n",
       " 'tell',\n",
       " 'truncate',\n",
       " 'writable',\n",
       " 'write',\n",
       " 'write_through',\n",
       " 'writelines']"
      ]
     },
     "execution_count": 15,
     "metadata": {},
     "output_type": "execute_result"
    }
   ],
   "source": [
    "dir(file)"
   ]
  },
  {
   "cell_type": "code",
   "execution_count": 16,
   "metadata": {},
   "outputs": [
    {
     "data": {
      "text/plain": [
       "'FileManagement'"
      ]
     },
     "execution_count": 16,
     "metadata": {},
     "output_type": "execute_result"
    }
   ],
   "source": [
    "file.name"
   ]
  },
  {
   "cell_type": "code",
   "execution_count": 17,
   "metadata": {},
   "outputs": [
    {
     "data": {
      "text/plain": [
       "'utf-8'"
      ]
     },
     "execution_count": 17,
     "metadata": {},
     "output_type": "execute_result"
    }
   ],
   "source": [
    "file.encoding"
   ]
  },
  {
   "cell_type": "code",
   "execution_count": 18,
   "metadata": {},
   "outputs": [
    {
     "data": {
      "text/plain": [
       "'r'"
      ]
     },
     "execution_count": 18,
     "metadata": {},
     "output_type": "execute_result"
    }
   ],
   "source": [
    "file.mode"
   ]
  },
  {
   "cell_type": "markdown",
   "metadata": {},
   "source": [
    "# Write"
   ]
  },
  {
   "cell_type": "code",
   "execution_count": 3,
   "metadata": {},
   "outputs": [],
   "source": [
    "file = open('FileManagement', 'w') #r, w, a, r+, br, bw, ba, br+"
   ]
  },
  {
   "cell_type": "code",
   "execution_count": 4,
   "metadata": {},
   "outputs": [
    {
     "data": {
      "text/plain": [
       "96"
      ]
     },
     "execution_count": 4,
     "metadata": {},
     "output_type": "execute_result"
    }
   ],
   "source": [
    "file.write('This is a sample for practising File Management in Python\\nYou do not need to know about anything')"
   ]
  },
  {
   "cell_type": "code",
   "execution_count": 5,
   "metadata": {},
   "outputs": [],
   "source": [
    "file.close()"
   ]
  },
  {
   "cell_type": "markdown",
   "metadata": {},
   "source": [
    "# Character Encoding"
   ]
  },
  {
   "cell_type": "markdown",
   "metadata": {},
   "source": [
    "Did you notice the **`encoding`** parameter that got passed in to the **`open()`** function while you were opening a file for writing? It’s important; don’t ever leave it out! As you saw in the beginning of this chapter, files don’t contain strings, they contain bytes. Reading a “string” from a text file only works because you told Python what encoding to use to read a stream of bytes and convert it to a string. Writing text to a file presents the same problem in reverse. You can’t write characters to a file; characters are an abstraction. In order to write to the file, Python needs to know how to convert your string into a sequence of bytes. The only way to be sure it’s performing the correct conversion is to specify the encoding parameter when you open the file for writing."
   ]
  },
  {
   "cell_type": "markdown",
   "metadata": {},
   "source": [
    "# Read"
   ]
  },
  {
   "cell_type": "code",
   "execution_count": 6,
   "metadata": {},
   "outputs": [],
   "source": [
    "file = open('FileManagement', 'r')"
   ]
  },
  {
   "cell_type": "code",
   "execution_count": 7,
   "metadata": {},
   "outputs": [
    {
     "name": "stdout",
     "output_type": "stream",
     "text": [
      "This is a sample for practising File Management in Python\n",
      "\n",
      "You do not need to know about anything\n"
     ]
    }
   ],
   "source": [
    "for line in file:\n",
    "    print(line)"
   ]
  },
  {
   "cell_type": "code",
   "execution_count": 8,
   "metadata": {},
   "outputs": [],
   "source": [
    "file.close()"
   ]
  },
  {
   "cell_type": "markdown",
   "metadata": {},
   "source": [
    "## Close"
   ]
  },
  {
   "cell_type": "markdown",
   "metadata": {},
   "source": [
    "Open files consume system resources, and depending on the file mode, other programs may not be able to access them. **It’s important to close files as soon as you’re finished with them.**"
   ]
  },
  {
   "cell_type": "markdown",
   "metadata": {},
   "source": [
    "Remember to close the file after reading or writing"
   ]
  },
  {
   "cell_type": "markdown",
   "metadata": {},
   "source": [
    "<code>file.close()</code>"
   ]
  },
  {
   "cell_type": "markdown",
   "metadata": {},
   "source": [
    "or we can use <span style = 'color:red'>with</span>"
   ]
  },
  {
   "cell_type": "code",
   "execution_count": 10,
   "metadata": {},
   "outputs": [
    {
     "name": "stdout",
     "output_type": "stream",
     "text": [
      "This is a sample for practising File Management in Python\n",
      "\n",
      "You do not need to know about anything\n"
     ]
    }
   ],
   "source": [
    "with open('FileManagement', 'r') as file:\n",
    "    for line in file:\n",
    "        print(line)"
   ]
  },
  {
   "cell_type": "code",
   "execution_count": 11,
   "metadata": {},
   "outputs": [],
   "source": [
    "with open('FileManagement', 'a') as file:\n",
    "    file.write('VN Pikachu\\n')\n",
    "    file.write('Tank Cao')"
   ]
  },
  {
   "cell_type": "code",
   "execution_count": 12,
   "metadata": {},
   "outputs": [
    {
     "name": "stdout",
     "output_type": "stream",
     "text": [
      "This is a sample for practising File Management in Python\n",
      "\n",
      "You do not need to know about anythingVN Pikachu\n",
      "\n",
      "Tank Cao\n"
     ]
    }
   ],
   "source": [
    "with open('FileManagement', 'r') as file:\n",
    "    for line in file:\n",
    "        print(line)"
   ]
  },
  {
   "cell_type": "markdown",
   "metadata": {},
   "source": [
    "Check if a file is closed: **`File.closed`**"
   ]
  },
  {
   "cell_type": "code",
   "execution_count": 21,
   "metadata": {},
   "outputs": [
    {
     "name": "stdout",
     "output_type": "stream",
     "text": [
      "False\n"
     ]
    },
    {
     "data": {
      "text/plain": [
       "True"
      ]
     },
     "execution_count": 21,
     "metadata": {},
     "output_type": "execute_result"
    }
   ],
   "source": [
    "file = open('FileManagement', 'r')\n",
    "print(file.closed)\n",
    "file.close()\n",
    "file.closed"
   ]
  },
  {
   "cell_type": "markdown",
   "metadata": {},
   "source": [
    "<hr>"
   ]
  },
  {
   "cell_type": "markdown",
   "metadata": {},
   "source": [
    "①\tYou can’t read from a closed file; that raises an IOError exception.  \n",
    "②\tYou can’t seek in a closed file either.  \n",
    "③\tThere’s no current position in a closed file, so the tell() method also fails.  \n",
    "④\tPerhaps surprisingly, calling the close() method on a stream object whose file has been closed does not raise an exception. It’s just a no-op.  \n",
    "⑤\tClosed stream objects do have one useful attribute: the closed attribute will confirm that the file is closed."
   ]
  },
  {
   "cell_type": "markdown",
   "metadata": {},
   "source": [
    "<hr>"
   ]
  },
  {
   "cell_type": "markdown",
   "metadata": {},
   "source": [
    "The **`with`** statement creates a runtime context. In these examples, the stream object acts as a context manager. Python creates the stream object a_file and tells it that it is entering a runtime context. When the with code block is completed, Python tells the stream object that it is exiting the runtime context, and the stream object calls its own close() method."
   ]
  },
  {
   "cell_type": "code",
   "execution_count": 22,
   "metadata": {},
   "outputs": [
    {
     "ename": "ValueError",
     "evalue": "I/O operation on closed file.",
     "output_type": "error",
     "traceback": [
      "\u001b[1;31m---------------------------------------------------------------------------\u001b[0m",
      "\u001b[1;31mValueError\u001b[0m                                Traceback (most recent call last)",
      "\u001b[1;32m<ipython-input-22-f3fc120c03c1>\u001b[0m in \u001b[0;36m<module>\u001b[1;34m\u001b[0m\n\u001b[1;32m----> 1\u001b[1;33m \u001b[0mfile\u001b[0m\u001b[1;33m.\u001b[0m\u001b[0mread\u001b[0m\u001b[1;33m(\u001b[0m\u001b[1;33m)\u001b[0m\u001b[1;33m\u001b[0m\u001b[1;33m\u001b[0m\u001b[0m\n\u001b[0m",
      "\u001b[1;31mValueError\u001b[0m: I/O operation on closed file."
     ]
    }
   ],
   "source": [
    "file.read()"
   ]
  },
  {
   "cell_type": "code",
   "execution_count": 23,
   "metadata": {},
   "outputs": [
    {
     "ename": "ValueError",
     "evalue": "I/O operation on closed file.",
     "output_type": "error",
     "traceback": [
      "\u001b[1;31m---------------------------------------------------------------------------\u001b[0m",
      "\u001b[1;31mValueError\u001b[0m                                Traceback (most recent call last)",
      "\u001b[1;32m<ipython-input-23-a09271016197>\u001b[0m in \u001b[0;36m<module>\u001b[1;34m\u001b[0m\n\u001b[1;32m----> 1\u001b[1;33m \u001b[0mfile\u001b[0m\u001b[1;33m.\u001b[0m\u001b[0mtell\u001b[0m\u001b[1;33m(\u001b[0m\u001b[1;33m)\u001b[0m\u001b[1;33m\u001b[0m\u001b[1;33m\u001b[0m\u001b[0m\n\u001b[0m",
      "\u001b[1;31mValueError\u001b[0m: I/O operation on closed file."
     ]
    }
   ],
   "source": [
    "file.tell()"
   ]
  },
  {
   "cell_type": "code",
   "execution_count": 24,
   "metadata": {},
   "outputs": [
    {
     "ename": "ValueError",
     "evalue": "I/O operation on closed file.",
     "output_type": "error",
     "traceback": [
      "\u001b[1;31m---------------------------------------------------------------------------\u001b[0m",
      "\u001b[1;31mValueError\u001b[0m                                Traceback (most recent call last)",
      "\u001b[1;32m<ipython-input-24-42aac98aa147>\u001b[0m in \u001b[0;36m<module>\u001b[1;34m\u001b[0m\n\u001b[1;32m----> 1\u001b[1;33m \u001b[0mfile\u001b[0m\u001b[1;33m.\u001b[0m\u001b[0mseek\u001b[0m\u001b[1;33m(\u001b[0m\u001b[1;36m3\u001b[0m\u001b[1;33m)\u001b[0m\u001b[1;33m\u001b[0m\u001b[1;33m\u001b[0m\u001b[0m\n\u001b[0m",
      "\u001b[1;31mValueError\u001b[0m: I/O operation on closed file."
     ]
    }
   ],
   "source": [
    "file.seek(3)"
   ]
  },
  {
   "cell_type": "code",
   "execution_count": 25,
   "metadata": {},
   "outputs": [
    {
     "data": {
      "text/plain": [
       "True"
      ]
     },
     "execution_count": 25,
     "metadata": {},
     "output_type": "execute_result"
    }
   ],
   "source": [
    "file.closed"
   ]
  },
  {
   "cell_type": "markdown",
   "metadata": {},
   "source": [
    "# Reading in one go"
   ]
  },
  {
   "cell_type": "markdown",
   "metadata": {},
   "source": [
    "## as list "
   ]
  },
  {
   "cell_type": "code",
   "execution_count": 13,
   "metadata": {},
   "outputs": [
    {
     "data": {
      "text/plain": [
       "['This is a sample for practising File Management in Python\\n',\n",
       " 'You do not need to know about anythingVN Pikachu\\n',\n",
       " 'Tank Cao']"
      ]
     },
     "execution_count": 13,
     "metadata": {},
     "output_type": "execute_result"
    }
   ],
   "source": [
    "lines = open('FileManagement', 'r').readlines()\n",
    "lines"
   ]
  },
  {
   "cell_type": "markdown",
   "metadata": {},
   "source": [
    "## as string"
   ]
  },
  {
   "cell_type": "code",
   "execution_count": 56,
   "metadata": {},
   "outputs": [
    {
     "data": {
      "text/plain": [
       "'This is a sample for practising File Management in Python\\nYou do not need to know about anythingVN Pikachu\\nTank Cao'"
      ]
     },
     "execution_count": 56,
     "metadata": {},
     "output_type": "execute_result"
    }
   ],
   "source": [
    "txt = open('FileManagement', 'r')\n",
    "txt.read()"
   ]
  },
  {
   "cell_type": "markdown",
   "metadata": {},
   "source": [
    "You can also read just a chunk of text"
   ]
  },
  {
   "cell_type": "code",
   "execution_count": 57,
   "metadata": {},
   "outputs": [
    {
     "data": {
      "text/plain": [
       "'Thi'"
      ]
     },
     "execution_count": 57,
     "metadata": {},
     "output_type": "execute_result"
    }
   ],
   "source": [
    "txt.seek(0)\n",
    "txt.read(3) #read 3 characters, starting from 0-th byte"
   ]
  },
  {
   "cell_type": "markdown",
   "metadata": {},
   "source": [
    "## as generator"
   ]
  },
  {
   "cell_type": "code",
   "execution_count": 1,
   "metadata": {},
   "outputs": [
    {
     "data": {
      "text/plain": [
       "'This is a sample for practising File Management in Python\\n'"
      ]
     },
     "execution_count": 1,
     "metadata": {},
     "output_type": "execute_result"
    }
   ],
   "source": [
    "file = open('FileManagement', 'r')\n",
    "file.readline()"
   ]
  },
  {
   "cell_type": "code",
   "execution_count": 2,
   "metadata": {},
   "outputs": [
    {
     "data": {
      "text/plain": [
       "'You do not need to know about anythingVN Pikachu\\n'"
      ]
     },
     "execution_count": 2,
     "metadata": {},
     "output_type": "execute_result"
    }
   ],
   "source": [
    "file.readline()"
   ]
  },
  {
   "cell_type": "code",
   "execution_count": 3,
   "metadata": {},
   "outputs": [
    {
     "data": {
      "text/plain": [
       "'Tank Cao'"
      ]
     },
     "execution_count": 3,
     "metadata": {},
     "output_type": "execute_result"
    }
   ],
   "source": [
    "file.readline()"
   ]
  },
  {
   "cell_type": "code",
   "execution_count": 4,
   "metadata": {},
   "outputs": [
    {
     "data": {
      "text/plain": [
       "''"
      ]
     },
     "execution_count": 4,
     "metadata": {},
     "output_type": "execute_result"
    }
   ],
   "source": [
    "file.readline()"
   ]
  },
  {
   "cell_type": "code",
   "execution_count": 5,
   "metadata": {},
   "outputs": [
    {
     "data": {
      "text/plain": [
       "''"
      ]
     },
     "execution_count": 5,
     "metadata": {},
     "output_type": "execute_result"
    }
   ],
   "source": [
    "file.readline()"
   ]
  },
  {
   "cell_type": "markdown",
   "metadata": {},
   "source": [
    "# Resetting the Files current pointer"
   ]
  },
  {
   "cell_type": "code",
   "execution_count": 15,
   "metadata": {},
   "outputs": [],
   "source": [
    "with open('FilePointer', 'w') as file:\n",
    "    file.write('0123456789')"
   ]
  },
  {
   "cell_type": "code",
   "execution_count": 16,
   "metadata": {},
   "outputs": [
    {
     "data": {
      "text/plain": [
       "'0123456789'"
      ]
     },
     "execution_count": 16,
     "metadata": {},
     "output_type": "execute_result"
    }
   ],
   "source": [
    "open('FilePointer', 'r').read()"
   ]
  },
  {
   "cell_type": "markdown",
   "metadata": {},
   "source": [
    "## Seek"
   ]
  },
  {
   "cell_type": "markdown",
   "metadata": {},
   "source": [
    "file.seek(n): move pointer the the n<sup>th</sup> byte"
   ]
  },
  {
   "cell_type": "code",
   "execution_count": 23,
   "metadata": {},
   "outputs": [
    {
     "name": "stdout",
     "output_type": "stream",
     "text": [
      "3456789\n"
     ]
    }
   ],
   "source": [
    "with open('FilePointer', 'r') as file:\n",
    "    file.seek(3)\n",
    "    print(file.read())"
   ]
  },
  {
   "cell_type": "markdown",
   "metadata": {},
   "source": [
    "## Tell"
   ]
  },
  {
   "cell_type": "markdown",
   "metadata": {},
   "source": [
    "tell what n<sup>th</sup> byte the pointer is pointing to"
   ]
  },
  {
   "cell_type": "markdown",
   "metadata": {},
   "source": [
    "<b style = 'color:red'>NOTE: read(3) will read 3 characters, not 3 bytes. In UTF-8, for Chinese characters, we need more byte for 1 character</b>"
   ]
  },
  {
   "cell_type": "markdown",
   "metadata": {},
   "source": [
    "e.g: \"a是\"  \n",
    "character a takes 1 bytes. second Chinese character, let's say it take 2 bytes.  \n",
    "if you seek(2) will raise an error, because the Chinese character is made of 1-th byte and 2-th"
   ]
  },
  {
   "cell_type": "code",
   "execution_count": 25,
   "metadata": {},
   "outputs": [
    {
     "name": "stdout",
     "output_type": "stream",
     "text": [
      "012\n",
      "3\n"
     ]
    }
   ],
   "source": [
    "with open('FilePointer', 'r') as file:\n",
    "    #fist, let's read first 3 characters to move the pointer to the 3-th index\n",
    "    print(file.read(3))\n",
    "    #print the index of the pointer\n",
    "    print(file.tell())"
   ]
  },
  {
   "cell_type": "markdown",
   "metadata": {},
   "source": [
    "<hr>"
   ]
  },
  {
   "cell_type": "markdown",
   "metadata": {},
   "source": [
    "To change the file object’s position, use **`f.seek(offset, whence)`**. The position is computed from adding offset to a reference point; the reference point is selected by the whence argument. A whence value of 0 measures from the beginning of the file, 1 uses the current file position, and 2 uses the end of the file as the reference point. whence can be omitted and defaults to 0, using the beginning of the file as the reference point."
   ]
  },
  {
   "cell_type": "markdown",
   "metadata": {},
   "source": [
    "<b style = 'color:red'>In text files (those opened without a b in the mode string), only seeks relative to the beginning of the file are allowed</b>"
   ]
  },
  {
   "cell_type": "code",
   "execution_count": 77,
   "metadata": {},
   "outputs": [
    {
     "data": {
      "text/plain": [
       "b'This is a sample for practising File Management in Python\\r\\nYou do not need to know about anythingVN Pikachu\\r\\nTank Cao'"
      ]
     },
     "execution_count": 77,
     "metadata": {},
     "output_type": "execute_result"
    }
   ],
   "source": [
    "file = open('FileManagement', 'br') #open in binary mode\n",
    "\n",
    "file.read()"
   ]
  },
  {
   "cell_type": "code",
   "execution_count": 78,
   "metadata": {},
   "outputs": [
    {
     "data": {
      "text/plain": [
       "0"
      ]
     },
     "execution_count": 78,
     "metadata": {},
     "output_type": "execute_result"
    }
   ],
   "source": [
    "#move pointer to beginning\n",
    "file.seek(0)"
   ]
  },
  {
   "cell_type": "code",
   "execution_count": 79,
   "metadata": {},
   "outputs": [
    {
     "data": {
      "text/plain": [
       "b'This '"
      ]
     },
     "execution_count": 79,
     "metadata": {},
     "output_type": "execute_result"
    }
   ],
   "source": [
    "#read first 5 characters\n",
    "file.read(5)"
   ]
  },
  {
   "cell_type": "code",
   "execution_count": 80,
   "metadata": {},
   "outputs": [
    {
     "data": {
      "text/plain": [
       "5"
      ]
     },
     "execution_count": 80,
     "metadata": {},
     "output_type": "execute_result"
    }
   ],
   "source": [
    "file.tell()"
   ]
  },
  {
   "cell_type": "code",
   "execution_count": 81,
   "metadata": {},
   "outputs": [
    {
     "data": {
      "text/plain": [
       "3"
      ]
     },
     "execution_count": 81,
     "metadata": {},
     "output_type": "execute_result"
    }
   ],
   "source": [
    "#move pointer 2 bytes backward, starting from current bytes\n",
    "file.seek(-2, 1)"
   ]
  },
  {
   "cell_type": "code",
   "execution_count": 82,
   "metadata": {},
   "outputs": [
    {
     "data": {
      "text/plain": [
       "3"
      ]
     },
     "execution_count": 82,
     "metadata": {},
     "output_type": "execute_result"
    }
   ],
   "source": [
    "file.tell()"
   ]
  },
  {
   "cell_type": "code",
   "execution_count": 84,
   "metadata": {},
   "outputs": [
    {
     "data": {
      "text/plain": [
       "107"
      ]
     },
     "execution_count": 84,
     "metadata": {},
     "output_type": "execute_result"
    }
   ],
   "source": [
    "#move points 10 bytes backward, staring form the last byte\n",
    "file.seek(-10, 2)"
   ]
  },
  {
   "cell_type": "code",
   "execution_count": 85,
   "metadata": {},
   "outputs": [
    {
     "data": {
      "text/plain": [
       "b'\\r\\nTank Cao'"
      ]
     },
     "execution_count": 85,
     "metadata": {},
     "output_type": "execute_result"
    }
   ],
   "source": [
    "file.read()"
   ]
  },
  {
   "cell_type": "markdown",
   "metadata": {},
   "source": [
    "## Read and write to the same file"
   ]
  },
  {
   "cell_type": "code",
   "execution_count": 28,
   "metadata": {},
   "outputs": [
    {
     "name": "stdout",
     "output_type": "stream",
     "text": [
      "0123456789\n",
      "I love you, VN Pikachu~\n",
      "60\n",
      "\n"
     ]
    }
   ],
   "source": [
    "with open('FilePointer', 'r+') as file:\n",
    "    print(file.read())\n",
    "    file.write('\\nI love you, VN Pikachu~')\n",
    "    print(file.tell())\n",
    "    print(file.read())"
   ]
  },
  {
   "cell_type": "code",
   "execution_count": 29,
   "metadata": {},
   "outputs": [
    {
     "name": "stdout",
     "output_type": "stream",
     "text": [
      "0123456789\n",
      "I love you, VN Pikachu~\n",
      "I love you, VN Pikachu~\n"
     ]
    }
   ],
   "source": [
    "with open('FilePointer', 'r') as file:\n",
    "    print(file.read())"
   ]
  },
  {
   "cell_type": "markdown",
   "metadata": {},
   "source": [
    "# Saving and Loading data with Pickle"
   ]
  },
  {
   "cell_type": "markdown",
   "metadata": {},
   "source": [
    "## Saving"
   ]
  },
  {
   "cell_type": "code",
   "execution_count": 31,
   "metadata": {},
   "outputs": [],
   "source": [
    "import pickle"
   ]
  },
  {
   "cell_type": "code",
   "execution_count": 30,
   "metadata": {},
   "outputs": [],
   "source": [
    "data = {'Meomeo888' : 'Commander', 'VN Pikachu' : 'Deputy Commander', 'Tank Cao' : 'Deputy Commander'}\n"
   ]
  },
  {
   "cell_type": "markdown",
   "metadata": {},
   "source": [
    "first, create a file to store the data, with extension <b>pkl</b>"
   ]
  },
  {
   "cell_type": "markdown",
   "metadata": {},
   "source": [
    "remember to write the file in the <code>binary mode</code>"
   ]
  },
  {
   "cell_type": "code",
   "execution_count": 35,
   "metadata": {},
   "outputs": [],
   "source": [
    "file_storage = open('storage.pkl', 'bw')\n"
   ]
  },
  {
   "cell_type": "markdown",
   "metadata": {},
   "source": [
    "then use <b>pickle.dump(data, file)</b> to store <code>data</code> into <code>file</code> "
   ]
  },
  {
   "cell_type": "code",
   "execution_count": 36,
   "metadata": {},
   "outputs": [],
   "source": [
    "pickle.dump(data, file_storage)"
   ]
  },
  {
   "cell_type": "code",
   "execution_count": 37,
   "metadata": {},
   "outputs": [],
   "source": [
    "#close file\n",
    "file_storage.close()"
   ]
  },
  {
   "cell_type": "markdown",
   "metadata": {},
   "source": [
    "## Loading"
   ]
  },
  {
   "cell_type": "code",
   "execution_count": 40,
   "metadata": {},
   "outputs": [
    {
     "name": "stdout",
     "output_type": "stream",
     "text": [
      "{'Meomeo888': 'Commander', 'VN Pikachu': 'Deputy Commander', 'Tank Cao': 'Deputy Commander'}\n"
     ]
    }
   ],
   "source": [
    "with open('storage.pkl', 'br') as file_data:\n",
    "    init_data = pickle.load(file_data)\n",
    "    print(init_data)\n",
    "    "
   ]
  },
  {
   "cell_type": "markdown",
   "metadata": {},
   "source": [
    "# Exercises"
   ]
  },
  {
   "cell_type": "code",
   "execution_count": 41,
   "metadata": {},
   "outputs": [],
   "source": [
    "txt = '''Chicago Sun 01:52\n",
    "Columbus Sun 02:52\n",
    "Riyadh  Sun 10:52\n",
    "Copenhagen  Sun 08:52\n",
    "Kuwait City Sun 10:52\n",
    "Rome    Sun 08:52\n",
    "Dallas  Sun 01:52\n",
    "Salt Lake City  Sun 01:52\n",
    "San Francisco Sun 00:52\n",
    "Amsterdam Sun 08:52\n",
    "Denver Sun 01:52\n",
    "San Salvador Sun 01:52\n",
    "Detroit Sun 02:52\n",
    "Las Vegas Sun 00:52\n",
    "Santiago    Sun 04:52\n",
    "Anchorage Sat 23:52\n",
    "Ankara Sun 10:52\n",
    "Lisbon  Sun 07:52\n",
    "São Paulo   Sun 05:52\n",
    "Dubai   Sun 11:52\n",
    "London  Sun 07:52\n",
    "Seattle Sun 00:52\n",
    "Dublin  Sun 07:52\n",
    "Los Angeles Sun 00:52\n",
    "Athens  Sun 09:52\n",
    "Edmonton Sun 01:52\n",
    "Madrid  Sun 08:52\n",
    "Shanghai Sun 15:52\n",
    "Atlanta Sun 02:52\n",
    "Frankfurt   Sun 08:52\n",
    "Singapore Sun 15:52\n",
    "Auckland Sun 20:52\n",
    "Halifax Sun 03:52\n",
    "Melbourne Sun 18:52\n",
    "Stockholm   Sun 08:52\n",
    "Barcelona   Sun 08:52\n",
    "Miami   Sun 02:52\n",
    "Minneapolis Sun 01:52\n",
    "Sydney Sun 18:52\n",
    "Beirut  Sun 09:52\n",
    "Helsinki    Sun 09:52\n",
    "Montreal    Sun 02:52\n",
    "Berlin  Sun 08:52\n",
    "Houston Sun 01:52\n",
    "Moscow  Sun 10:52\n",
    "Indianapolis    Sun 02:52   \n",
    "Boston  Sun 02:52\n",
    "Tokyo   Sun 16:52\n",
    "Brasilia Sun 05:52\n",
    "Istanbul Sun 10:52\n",
    "Toronto Sun 02:52\n",
    "Vancouver   Sun 00:52\n",
    "Brussels    Sun 08:52\n",
    "Jerusalem   Sun 09:52\n",
    "New Orleans Sun 01:52\n",
    "Vienna  Sun 08:52\n",
    "Bucharest   Sun 09:52\n",
    "Johannesburg    Sun 09:52\n",
    "New York    Sun 02:52\n",
    "Warsaw  Sun 08:52\n",
    "Budapest    Sun 08:52\n",
    "Oslo    Sun 08:52\n",
    "Washington DC   Sun 02:52\n",
    "Ottawa  Sun 02:52\n",
    "Winnipeg    Sun 01:52\n",
    "Cairo   Sun 09:52\n",
    "Paris   Sun 08:52\n",
    "Calgary Sun 01:52\n",
    "Kathmandu   Sun 13:37\n",
    "Philadelphia    Sun 02:52\n",
    "Zurich  Sun 08:52\n",
    "Cape Town   Sun 09:52\n",
    "Phoenix Sun 00:52       \n",
    "Prague  Sun 08:52       \n",
    "Casablanca  Sun 07:52\n",
    "Reykjavik   Sun 07:52'''"
   ]
  },
  {
   "cell_type": "code",
   "execution_count": 42,
   "metadata": {},
   "outputs": [],
   "source": [
    "with open('cities_and_times.txt', 'w') as file:\n",
    "    file.write(txt)"
   ]
  },
  {
   "cell_type": "code",
   "execution_count": 43,
   "metadata": {},
   "outputs": [
    {
     "name": "stdout",
     "output_type": "stream",
     "text": [
      "['Chicago Sun 01:52\\n', 'Columbus Sun 02:52\\n', 'Riyadh  Sun 10:52\\n', 'Copenhagen  Sun 08:52\\n', 'Kuwait City Sun 10:52\\n', 'Rome    Sun 08:52\\n', 'Dallas  Sun 01:52\\n', 'Salt Lake City  Sun 01:52\\n', 'San Francisco Sun 00:52\\n', 'Amsterdam Sun 08:52\\n', 'Denver Sun 01:52\\n', 'San Salvador Sun 01:52\\n', 'Detroit Sun 02:52\\n', 'Las Vegas Sun 00:52\\n', 'Santiago    Sun 04:52\\n', 'Anchorage Sat 23:52\\n', 'Ankara Sun 10:52\\n', 'Lisbon  Sun 07:52\\n', 'São Paulo   Sun 05:52\\n', 'Dubai   Sun 11:52\\n', 'London  Sun 07:52\\n', 'Seattle Sun 00:52\\n', 'Dublin  Sun 07:52\\n', 'Los Angeles Sun 00:52\\n', 'Athens  Sun 09:52\\n', 'Edmonton Sun 01:52\\n', 'Madrid  Sun 08:52\\n', 'Shanghai Sun 15:52\\n', 'Atlanta Sun 02:52\\n', 'Frankfurt   Sun 08:52\\n', 'Singapore Sun 15:52\\n', 'Auckland Sun 20:52\\n', 'Halifax Sun 03:52\\n', 'Melbourne Sun 18:52\\n', 'Stockholm   Sun 08:52\\n', 'Barcelona   Sun 08:52\\n', 'Miami   Sun 02:52\\n', 'Minneapolis Sun 01:52\\n', 'Sydney Sun 18:52\\n', 'Beirut  Sun 09:52\\n', 'Helsinki    Sun 09:52\\n', 'Montreal    Sun 02:52\\n', 'Berlin  Sun 08:52\\n', 'Houston Sun 01:52\\n', 'Moscow  Sun 10:52\\n', 'Indianapolis    Sun 02:52   \\n', 'Boston  Sun 02:52\\n', 'Tokyo   Sun 16:52\\n', 'Brasilia Sun 05:52\\n', 'Istanbul Sun 10:52\\n', 'Toronto Sun 02:52\\n', 'Vancouver   Sun 00:52\\n', 'Brussels    Sun 08:52\\n', 'Jerusalem   Sun 09:52\\n', 'New Orleans Sun 01:52\\n', 'Vienna  Sun 08:52\\n', 'Bucharest   Sun 09:52\\n', 'Johannesburg    Sun 09:52\\n', 'New York    Sun 02:52\\n', 'Warsaw  Sun 08:52\\n', 'Budapest    Sun 08:52\\n', 'Oslo    Sun 08:52\\n', 'Washington DC   Sun 02:52\\n', 'Ottawa  Sun 02:52\\n', 'Winnipeg    Sun 01:52\\n', 'Cairo   Sun 09:52\\n', 'Paris   Sun 08:52\\n', 'Calgary Sun 01:52\\n', 'Kathmandu   Sun 13:37\\n', 'Philadelphia    Sun 02:52\\n', 'Zurich  Sun 08:52\\n', 'Cape Town   Sun 09:52\\n', 'Phoenix Sun 00:52       \\n', 'Prague  Sun 08:52       \\n', 'Casablanca  Sun 07:52\\n', 'Reykjavik   Sun 07:52']\n"
     ]
    }
   ],
   "source": [
    "with open('cities_and_Times.txt', 'r') as file:\n",
    "    print(file.readlines())"
   ]
  },
  {
   "cell_type": "code",
   "execution_count": 55,
   "metadata": {},
   "outputs": [],
   "source": [
    "import re"
   ]
  },
  {
   "cell_type": "code",
   "execution_count": 65,
   "metadata": {},
   "outputs": [
    {
     "name": "stdout",
     "output_type": "stream",
     "text": [
      "[['Chicago', 'Sun', '01', '52'], ['Columbus', 'Sun', '02', '52'], ['Riyadh', 'Sun', '10', '52'], ['Copenhagen', 'Sun', '08', '52'], ['Kuwait', 'City', 'Sun', '10', '52'], ['Rome', 'Sun', '08', '52'], ['Dallas', 'Sun', '01', '52'], ['Salt', 'Lake', 'City', 'Sun', '01', '52'], ['San', 'Francisco', 'Sun', '00', '52'], ['Amsterdam', 'Sun', '08', '52'], ['Denver', 'Sun', '01', '52'], ['San', 'Salvador', 'Sun', '01', '52'], ['Detroit', 'Sun', '02', '52'], ['Las', 'Vegas', 'Sun', '00', '52'], ['Santiago', 'Sun', '04', '52'], ['Anchorage', 'Sat', '23', '52'], ['Ankara', 'Sun', '10', '52'], ['Lisbon', 'Sun', '07', '52'], ['São', 'Paulo', 'Sun', '05', '52'], ['Dubai', 'Sun', '11', '52'], ['London', 'Sun', '07', '52'], ['Seattle', 'Sun', '00', '52'], ['Dublin', 'Sun', '07', '52'], ['Los', 'Angeles', 'Sun', '00', '52'], ['Athens', 'Sun', '09', '52'], ['Edmonton', 'Sun', '01', '52'], ['Madrid', 'Sun', '08', '52'], ['Shanghai', 'Sun', '15', '52'], ['Atlanta', 'Sun', '02', '52'], ['Frankfurt', 'Sun', '08', '52'], ['Singapore', 'Sun', '15', '52'], ['Auckland', 'Sun', '20', '52'], ['Halifax', 'Sun', '03', '52'], ['Melbourne', 'Sun', '18', '52'], ['Stockholm', 'Sun', '08', '52'], ['Barcelona', 'Sun', '08', '52'], ['Miami', 'Sun', '02', '52'], ['Minneapolis', 'Sun', '01', '52'], ['Sydney', 'Sun', '18', '52'], ['Beirut', 'Sun', '09', '52'], ['Helsinki', 'Sun', '09', '52'], ['Montreal', 'Sun', '02', '52'], ['Berlin', 'Sun', '08', '52'], ['Houston', 'Sun', '01', '52'], ['Moscow', 'Sun', '10', '52'], ['Indianapolis', 'Sun', '02', '52'], ['Boston', 'Sun', '02', '52'], ['Tokyo', 'Sun', '16', '52'], ['Brasilia', 'Sun', '05', '52'], ['Istanbul', 'Sun', '10', '52'], ['Toronto', 'Sun', '02', '52'], ['Vancouver', 'Sun', '00', '52'], ['Brussels', 'Sun', '08', '52'], ['Jerusalem', 'Sun', '09', '52'], ['New', 'Orleans', 'Sun', '01', '52'], ['Vienna', 'Sun', '08', '52'], ['Bucharest', 'Sun', '09', '52'], ['Johannesburg', 'Sun', '09', '52'], ['New', 'York', 'Sun', '02', '52'], ['Warsaw', 'Sun', '08', '52'], ['Budapest', 'Sun', '08', '52'], ['Oslo', 'Sun', '08', '52'], ['Washington', 'DC', 'Sun', '02', '52'], ['Ottawa', 'Sun', '02', '52'], ['Winnipeg', 'Sun', '01', '52'], ['Cairo', 'Sun', '09', '52'], ['Paris', 'Sun', '08', '52'], ['Calgary', 'Sun', '01', '52'], ['Kathmandu', 'Sun', '13', '37'], ['Philadelphia', 'Sun', '02', '52'], ['Zurich', 'Sun', '08', '52'], ['Cape', 'Town', 'Sun', '09', '52'], ['Phoenix', 'Sun', '00', '52'], ['Prague', 'Sun', '08', '52'], ['Casablanca', 'Sun', '07', '52'], ['Reykjavik', 'Sun', '07', '52']]\n"
     ]
    }
   ],
   "source": [
    "\n",
    "with open('cities_and_times.txt', 'r') as file:\n",
    "    res = [re.split('\\s+|:', line.strip()) for line in file]\n",
    "    print(res)"
   ]
  },
  {
   "cell_type": "code",
   "execution_count": 66,
   "metadata": {},
   "outputs": [],
   "source": [
    "with open('city_time_storage.pkl', 'bw') as storage_file:\n",
    "    pickle.dump(res, storage_file)"
   ]
  },
  {
   "cell_type": "code",
   "execution_count": 67,
   "metadata": {},
   "outputs": [
    {
     "name": "stdout",
     "output_type": "stream",
     "text": [
      "[['Chicago', 'Sun', '01', '52'], ['Columbus', 'Sun', '02', '52'], ['Riyadh', 'Sun', '10', '52'], ['Copenhagen', 'Sun', '08', '52'], ['Kuwait', 'City', 'Sun', '10', '52'], ['Rome', 'Sun', '08', '52'], ['Dallas', 'Sun', '01', '52'], ['Salt', 'Lake', 'City', 'Sun', '01', '52'], ['San', 'Francisco', 'Sun', '00', '52'], ['Amsterdam', 'Sun', '08', '52'], ['Denver', 'Sun', '01', '52'], ['San', 'Salvador', 'Sun', '01', '52'], ['Detroit', 'Sun', '02', '52'], ['Las', 'Vegas', 'Sun', '00', '52'], ['Santiago', 'Sun', '04', '52'], ['Anchorage', 'Sat', '23', '52'], ['Ankara', 'Sun', '10', '52'], ['Lisbon', 'Sun', '07', '52'], ['São', 'Paulo', 'Sun', '05', '52'], ['Dubai', 'Sun', '11', '52'], ['London', 'Sun', '07', '52'], ['Seattle', 'Sun', '00', '52'], ['Dublin', 'Sun', '07', '52'], ['Los', 'Angeles', 'Sun', '00', '52'], ['Athens', 'Sun', '09', '52'], ['Edmonton', 'Sun', '01', '52'], ['Madrid', 'Sun', '08', '52'], ['Shanghai', 'Sun', '15', '52'], ['Atlanta', 'Sun', '02', '52'], ['Frankfurt', 'Sun', '08', '52'], ['Singapore', 'Sun', '15', '52'], ['Auckland', 'Sun', '20', '52'], ['Halifax', 'Sun', '03', '52'], ['Melbourne', 'Sun', '18', '52'], ['Stockholm', 'Sun', '08', '52'], ['Barcelona', 'Sun', '08', '52'], ['Miami', 'Sun', '02', '52'], ['Minneapolis', 'Sun', '01', '52'], ['Sydney', 'Sun', '18', '52'], ['Beirut', 'Sun', '09', '52'], ['Helsinki', 'Sun', '09', '52'], ['Montreal', 'Sun', '02', '52'], ['Berlin', 'Sun', '08', '52'], ['Houston', 'Sun', '01', '52'], ['Moscow', 'Sun', '10', '52'], ['Indianapolis', 'Sun', '02', '52'], ['Boston', 'Sun', '02', '52'], ['Tokyo', 'Sun', '16', '52'], ['Brasilia', 'Sun', '05', '52'], ['Istanbul', 'Sun', '10', '52'], ['Toronto', 'Sun', '02', '52'], ['Vancouver', 'Sun', '00', '52'], ['Brussels', 'Sun', '08', '52'], ['Jerusalem', 'Sun', '09', '52'], ['New', 'Orleans', 'Sun', '01', '52'], ['Vienna', 'Sun', '08', '52'], ['Bucharest', 'Sun', '09', '52'], ['Johannesburg', 'Sun', '09', '52'], ['New', 'York', 'Sun', '02', '52'], ['Warsaw', 'Sun', '08', '52'], ['Budapest', 'Sun', '08', '52'], ['Oslo', 'Sun', '08', '52'], ['Washington', 'DC', 'Sun', '02', '52'], ['Ottawa', 'Sun', '02', '52'], ['Winnipeg', 'Sun', '01', '52'], ['Cairo', 'Sun', '09', '52'], ['Paris', 'Sun', '08', '52'], ['Calgary', 'Sun', '01', '52'], ['Kathmandu', 'Sun', '13', '37'], ['Philadelphia', 'Sun', '02', '52'], ['Zurich', 'Sun', '08', '52'], ['Cape', 'Town', 'Sun', '09', '52'], ['Phoenix', 'Sun', '00', '52'], ['Prague', 'Sun', '08', '52'], ['Casablanca', 'Sun', '07', '52'], ['Reykjavik', 'Sun', '07', '52']]\n"
     ]
    }
   ],
   "source": [
    "with open('city_time_storage.pkl', 'br') as storage_file:\n",
    "    print(pickle.load(storage_file))"
   ]
  },
  {
   "cell_type": "markdown",
   "metadata": {},
   "source": [
    "# Binary File"
   ]
  },
  {
   "cell_type": "markdown",
   "metadata": {},
   "source": [
    "a binary stream object has no **`encoding`** attribute. That makes sense, right? You’re reading (or writing) bytes, not strings, so there’s no conversion for Python to do. What you get out of a binary file is exactly what you put into it, no conversion necessary."
   ]
  },
  {
   "cell_type": "code",
   "execution_count": 44,
   "metadata": {},
   "outputs": [
    {
     "data": {
      "text/plain": [
       "<_io.BufferedReader name='success.jpg'>"
      ]
     },
     "execution_count": 44,
     "metadata": {},
     "output_type": "execute_result"
    }
   ],
   "source": [
    "image_file = open('success.jpg', 'br')\n",
    "image_file"
   ]
  },
  {
   "cell_type": "code",
   "execution_count": 45,
   "metadata": {},
   "outputs": [
    {
     "data": {
      "text/plain": [
       "'success.jpg'"
      ]
     },
     "execution_count": 45,
     "metadata": {},
     "output_type": "execute_result"
    }
   ],
   "source": [
    "image_file.name"
   ]
  },
  {
   "cell_type": "code",
   "execution_count": 46,
   "metadata": {},
   "outputs": [
    {
     "data": {
      "text/plain": [
       "'rb'"
      ]
     },
     "execution_count": 46,
     "metadata": {},
     "output_type": "execute_result"
    }
   ],
   "source": [
    "image_file.mode"
   ]
  },
  {
   "cell_type": "code",
   "execution_count": 47,
   "metadata": {},
   "outputs": [],
   "source": [
    "#does not have encoding attribute\n",
    "#imag.encoding"
   ]
  },
  {
   "cell_type": "markdown",
   "metadata": {},
   "source": [
    "①\tLike text files, you can read binary files a little bit at a time. But there’s a crucial difference…  \n",
    "②\t…you’re reading bytes, not strings. Since you opened the file in binary mode, the read() method takes the number of bytes to read, not the number of characters.  \n",
    "③\tThat means that there’s never an unexpected mismatch between the number you passed into the read() method and the position index you get out of the tell() method. The read() method reads bytes, and the seek() and tell() methods track the number of bytes read. For binary files, they’ll always agree."
   ]
  },
  {
   "cell_type": "code",
   "execution_count": 48,
   "metadata": {},
   "outputs": [
    {
     "data": {
      "text/plain": [
       "b'\\xff\\xd8\\xff'"
      ]
     },
     "execution_count": 48,
     "metadata": {},
     "output_type": "execute_result"
    }
   ],
   "source": [
    "data = image_file.read(3)\n",
    "data"
   ]
  },
  {
   "cell_type": "code",
   "execution_count": 49,
   "metadata": {},
   "outputs": [
    {
     "data": {
      "text/plain": [
       "3"
      ]
     },
     "execution_count": 49,
     "metadata": {},
     "output_type": "execute_result"
    }
   ],
   "source": [
    "image_file.tell()"
   ]
  },
  {
   "cell_type": "code",
   "execution_count": 50,
   "metadata": {},
   "outputs": [
    {
     "data": {
      "text/plain": [
       "0"
      ]
     },
     "execution_count": 50,
     "metadata": {},
     "output_type": "execute_result"
    }
   ],
   "source": [
    "image_file.seek(0)"
   ]
  },
  {
   "cell_type": "code",
   "execution_count": 51,
   "metadata": {},
   "outputs": [],
   "source": [
    "image = image_file.read()"
   ]
  },
  {
   "cell_type": "markdown",
   "metadata": {},
   "source": [
    "# Stream objects from non-source file"
   ]
  },
  {
   "cell_type": "code",
   "execution_count": 59,
   "metadata": {},
   "outputs": [
    {
     "data": {
      "text/plain": [
       "'VN Pikachu is the best'"
      ]
     },
     "execution_count": 59,
     "metadata": {},
     "output_type": "execute_result"
    }
   ],
   "source": [
    "import io\n",
    "#io.StringIO lets you treat a string as a text file\n",
    "file = io.StringIO('VN Pikachu is the best') #create a stream object from a text\n",
    " \n",
    "file.read()"
   ]
  },
  {
   "cell_type": "code",
   "execution_count": 60,
   "metadata": {},
   "outputs": [
    {
     "data": {
      "text/plain": [
       "True"
      ]
     },
     "execution_count": 60,
     "metadata": {},
     "output_type": "execute_result"
    }
   ],
   "source": [
    "file.close()\n",
    "file.closed"
   ]
  },
  {
   "cell_type": "code",
   "execution_count": 64,
   "metadata": {},
   "outputs": [
    {
     "data": {
      "text/plain": [
       "b'I LOVE U'"
      ]
     },
     "execution_count": 64,
     "metadata": {},
     "output_type": "execute_result"
    }
   ],
   "source": [
    "#io.BytesIO lets you treat a string as a binary file\n",
    "binary_file = io.BytesIO(b'I LOVE U') #create a byte stream object from a text\n",
    "binary_file.read()"
   ]
  },
  {
   "cell_type": "markdown",
   "metadata": {},
   "source": [
    "# JSON"
   ]
  },
  {
   "cell_type": "code",
   "execution_count": 86,
   "metadata": {},
   "outputs": [],
   "source": [
    "import json"
   ]
  },
  {
   "cell_type": "code",
   "execution_count": 94,
   "metadata": {},
   "outputs": [],
   "source": [
    "#serializing:convert data to string representation\n",
    "file = open('JSON_FILE', 'w')\n",
    "data = {'VN pikachu': 35, 'Tank Cao': 31}\n",
    "\n",
    "json.dump(data, file)\n",
    "file.close()"
   ]
  },
  {
   "cell_type": "code",
   "execution_count": 95,
   "metadata": {},
   "outputs": [
    {
     "data": {
      "text/plain": [
       "{'VN pikachu': 35, 'Tank Cao': 31}"
      ]
     },
     "execution_count": 95,
     "metadata": {},
     "output_type": "execute_result"
    }
   ],
   "source": [
    "#deserializing: convert string representation to data\n",
    "json.load(open('JSON_FILE', 'r'))"
   ]
  },
  {
   "cell_type": "code",
   "execution_count": 92,
   "metadata": {},
   "outputs": [],
   "source": [
    "json.load"
   ]
  },
  {
   "cell_type": "code",
   "execution_count": null,
   "metadata": {},
   "outputs": [],
   "source": []
  }
 ],
 "metadata": {
  "kernelspec": {
   "display_name": "Python 3",
   "language": "python",
   "name": "python3"
  },
  "language_info": {
   "codemirror_mode": {
    "name": "ipython",
    "version": 3
   },
   "file_extension": ".py",
   "mimetype": "text/x-python",
   "name": "python",
   "nbconvert_exporter": "python",
   "pygments_lexer": "ipython3",
   "version": "3.7.9"
  }
 },
 "nbformat": 4,
 "nbformat_minor": 2
}
