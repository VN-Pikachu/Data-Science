{
 "cells": [
  {
   "cell_type": "markdown",
   "metadata": {},
   "source": [
    "<a href = 'https://docs.python.org/3/library/re.html#re-objects'>DOCUMENTATION</a>,\n",
    "<a href = 'https://docs.python.org/3/howto/regex.html#regex-howto'>Tutorial</a>"
   ]
  },
  {
   "cell_type": "code",
   "execution_count": 1,
   "metadata": {},
   "outputs": [],
   "source": [
    "import re"
   ]
  },
  {
   "cell_type": "markdown",
   "metadata": {},
   "source": [
    "# Syntax"
   ]
  },
  {
   "cell_type": "markdown",
   "metadata": {},
   "source": [
    "\n",
    "The special sequences consist of \"\\\\\" and a character from the following list:\n",
    "    \n",
    "<tr><td>\\d</td><td>  Matches any decimal digit; equivalent to the set [0-9].</td></tr>\n",
    "<tr><td>\\D</td><td>  The complement of \\d. It matches any non-digit character; equivalent to the set [^0-9].</td></tr>\n",
    "<tr><td>\\s</td><td>  Matches any whitespace character; equivalent to [ \\t\\n\\r\\f\\v].</td></tr>\n",
    "<tr><td>\\S</td><td>  The complement of \\s. It matches any non-whitespace character; equiv. to [^ \\t\\n\\r\\f\\v].</td></tr>\n",
    "<tr><td>\\w</td><td>  Matches any alphanumeric character; equivalent to [a-zA-Z0-9_]. With LOCALE, it will match the set [a-zA-Z0-9_] plus characters defined as letters for the current locale.</td></tr>\n",
    "<tr><td>\\W</td><td>  Matches the complement of \\w.</td></tr>\n",
    "<tr><td>\\b</td><td>  Matches the empty string, but only at the start or end of a word.</td></tr>\n",
    "<tr><td>\\B</td><td>  Matches the empty string, but not at the start or end of a word.</td></tr>\n",
    "<tr><td>\\\\  </td><td>Matches a literal backslash.</td></tr>\n"
   ]
  },
  {
   "cell_type": "markdown",
   "metadata": {},
   "source": [
    "# Re.DOTALL"
   ]
  },
  {
   "cell_type": "markdown",
   "metadata": {},
   "source": [
    "**`.`** matches everything but does not match new line \\n. set **`flags = re.DOTALL`** to allow match newline"
   ]
  },
  {
   "cell_type": "markdown",
   "metadata": {},
   "source": [
    "# []"
   ]
  },
  {
   "cell_type": "markdown",
   "metadata": {},
   "source": [
    "every special characters link **`*`**, **`?`**, ... when we put it inside **`[]`**, it will be searched as what it means."
   ]
  },
  {
   "cell_type": "code",
   "execution_count": 355,
   "metadata": {},
   "outputs": [
    {
     "data": {
      "text/plain": [
       "['+', '*', '(', ')']"
      ]
     },
     "execution_count": 355,
     "metadata": {},
     "output_type": "execute_result"
    }
   ],
   "source": [
    "re.findall(r'[*?+()]', '+*^()')"
   ]
  },
  {
   "cell_type": "markdown",
   "metadata": {},
   "source": [
    "# Non greedy"
   ]
  },
  {
   "cell_type": "markdown",
   "metadata": {},
   "source": [
    "**`*?`**, **`+?`**,**`??`**"
   ]
  },
  {
   "cell_type": "code",
   "execution_count": 3,
   "metadata": {},
   "outputs": [
    {
     "data": {
      "text/plain": [
       "'<a><b></b></a>'"
      ]
     },
     "execution_count": 3,
     "metadata": {},
     "output_type": "execute_result"
    }
   ],
   "source": [
    "html = '<a><b></b></a>'\n",
    "html"
   ]
  },
  {
   "cell_type": "code",
   "execution_count": 5,
   "metadata": {},
   "outputs": [
    {
     "data": {
      "text/plain": [
       "'<a><b></b></a>'"
      ]
     },
     "execution_count": 5,
     "metadata": {},
     "output_type": "execute_result"
    }
   ],
   "source": [
    "#greedy: match as longest as possible\n",
    "re.search(r'<.*>', html).group()"
   ]
  },
  {
   "cell_type": "code",
   "execution_count": 7,
   "metadata": {},
   "outputs": [
    {
     "data": {
      "text/plain": [
       "'<a>'"
      ]
     },
     "execution_count": 7,
     "metadata": {},
     "output_type": "execute_result"
    }
   ],
   "source": [
    "#nongreedy: match the shortest possible\n",
    "re.search(r'<.*?>', html).group()"
   ]
  },
  {
   "cell_type": "code",
   "execution_count": 359,
   "metadata": {},
   "outputs": [
    {
     "data": {
      "text/plain": [
       "('abbbb', 'ab')"
      ]
     },
     "execution_count": 359,
     "metadata": {},
     "output_type": "execute_result"
    }
   ],
   "source": [
    "#greedy vs non greedy\n",
    "re.search('ab+', 'abbbb').group(), re.search('ab+?', 'abbbb').group()"
   ]
  },
  {
   "cell_type": "markdown",
   "metadata": {},
   "source": [
    "<hr>"
   ]
  },
  {
   "cell_type": "markdown",
   "metadata": {},
   "source": [
    "**`{m,n}?`**"
   ]
  },
  {
   "cell_type": "code",
   "execution_count": 9,
   "metadata": {},
   "outputs": [],
   "source": [
    "s = '123456abc'"
   ]
  },
  {
   "cell_type": "code",
   "execution_count": 12,
   "metadata": {},
   "outputs": [
    {
     "data": {
      "text/plain": [
       "'12345'"
      ]
     },
     "execution_count": 12,
     "metadata": {},
     "output_type": "execute_result"
    }
   ],
   "source": [
    "#greedy\n",
    "re.search(r'\\d{2,5}', s).group()"
   ]
  },
  {
   "cell_type": "markdown",
   "metadata": {},
   "source": [
    "Non greedy: Causes the resulting RE to match from m to n repetitions of the preceding RE, attempting to match as few repetitions as possible."
   ]
  },
  {
   "cell_type": "code",
   "execution_count": 13,
   "metadata": {},
   "outputs": [
    {
     "data": {
      "text/plain": [
       "'12'"
      ]
     },
     "execution_count": 13,
     "metadata": {},
     "output_type": "execute_result"
    }
   ],
   "source": [
    "#non greedy\n",
    "re.search(r'\\d{2,5}?', s).group()"
   ]
  },
  {
   "cell_type": "markdown",
   "metadata": {},
   "source": [
    "# Lookahead, lookbehind assertions"
   ]
  },
  {
   "cell_type": "markdown",
   "metadata": {},
   "source": [
    "**`(?=...)`**, **`(?!...`**, **`(?<=...)`**, **`(?<!...)`**"
   ]
  },
  {
   "cell_type": "markdown",
   "metadata": {},
   "source": [
    "Match all file does not have bat extension: misc.bat, die.exe, king.png"
   ]
  },
  {
   "cell_type": "code",
   "execution_count": null,
   "metadata": {},
   "outputs": [],
   "source": [
    "all_file_pattern = r'.*\\.[^.]*$' #match all fine: name.extension\n",
    "not_bat_pattern =  r'.*\\.(?!bat$)[^.]*$' #we want after `name.` does not have ending with bat"
   ]
  },
  {
   "cell_type": "raw",
   "metadata": {},
   "source": [
    "`.*[.](?!bat$)[^.]*$` The negative lookahead means: if the expression bat doesn’t match at this point, try the rest of the pattern; if bat$ does match, the whole pattern will fail. The trailing $ is required to ensure that something like sample.batch, where the extension only starts with bat, will be allowed. The [^.]* makes sure that the pattern works when there are multiple dots in the filename.\\"
   ]
  },
  {
   "cell_type": "code",
   "execution_count": null,
   "metadata": {},
   "outputs": [],
   "source": [
    "#mach all file does not have extension: bat, exe\n",
    "pattern = r'.*\\.(?!bat$|exe$)[^.]*$'"
   ]
  },
  {
   "cell_type": "markdown",
   "metadata": {},
   "source": [
    "<hr>"
   ]
  },
  {
   "cell_type": "markdown",
   "metadata": {},
   "source": [
    "Find strings that:\n",
    "* Begins with at least 1 number\n",
    "* Ends with at least 1 number\n",
    "* between them in a string consists of a-z, A-Z, and starts with pikachu\n",
    "--------------------\n",
    "return the string between numbers\n",
    "e.g: 31pikachuvn31 ---> pikachuvn\n",
    "   "
   ]
  },
  {
   "cell_type": "code",
   "execution_count": 56,
   "metadata": {},
   "outputs": [
    {
     "data": {
      "text/plain": [
       "'pikachuvnchampions'"
      ]
     },
     "execution_count": 56,
     "metadata": {},
     "output_type": "execute_result"
    }
   ],
   "source": [
    "re.search(r'^\\d+(?=pikachu)([a-z]*)\\d+$', '31pikachuvnchampions53').group(1)"
   ]
  },
  {
   "cell_type": "markdown",
   "metadata": {},
   "source": [
    "How this works?\n",
    "* First RE matches for numbers at the beginnings\n",
    "* Then it check whether succeeding these numbers is `pikachu`\n",
    "* If this is false, then there is no match\n",
    "* If this is true, then continue checking, starting from index succeeds the last number (in this case, starting matching from index 2)"
   ]
  },
  {
   "cell_type": "markdown",
   "metadata": {},
   "source": [
    "# Method"
   ]
  },
  {
   "cell_type": "code",
   "execution_count": 2,
   "metadata": {},
   "outputs": [
    {
     "data": {
      "text/plain": [
       "['A',\n",
       " 'ASCII',\n",
       " 'DEBUG',\n",
       " 'DOTALL',\n",
       " 'I',\n",
       " 'IGNORECASE',\n",
       " 'L',\n",
       " 'LOCALE',\n",
       " 'M',\n",
       " 'MULTILINE',\n",
       " 'Match',\n",
       " 'Pattern',\n",
       " 'RegexFlag',\n",
       " 'S',\n",
       " 'Scanner',\n",
       " 'T',\n",
       " 'TEMPLATE',\n",
       " 'U',\n",
       " 'UNICODE',\n",
       " 'VERBOSE',\n",
       " 'X',\n",
       " '_MAXCACHE',\n",
       " '__all__',\n",
       " '__builtins__',\n",
       " '__cached__',\n",
       " '__doc__',\n",
       " '__file__',\n",
       " '__loader__',\n",
       " '__name__',\n",
       " '__package__',\n",
       " '__spec__',\n",
       " '__version__',\n",
       " '_cache',\n",
       " '_compile',\n",
       " '_compile_repl',\n",
       " '_expand',\n",
       " '_locale',\n",
       " '_pickle',\n",
       " '_special_chars_map',\n",
       " '_subx',\n",
       " 'compile',\n",
       " 'copyreg',\n",
       " 'enum',\n",
       " 'error',\n",
       " 'escape',\n",
       " 'findall',\n",
       " 'finditer',\n",
       " 'fullmatch',\n",
       " 'functools',\n",
       " 'match',\n",
       " 'purge',\n",
       " 'search',\n",
       " 'split',\n",
       " 'sre_compile',\n",
       " 'sre_parse',\n",
       " 'sub',\n",
       " 'subn',\n",
       " 'template']"
      ]
     },
     "execution_count": 2,
     "metadata": {},
     "output_type": "execute_result"
    }
   ],
   "source": [
    "dir(re)"
   ]
  },
  {
   "cell_type": "markdown",
   "metadata": {},
   "source": [
    "# Create a Regex Object"
   ]
  },
  {
   "cell_type": "markdown",
   "metadata": {},
   "source": [
    "```python\n",
    "re.compile(pattern, flags=0)\n",
    "```"
   ]
  },
  {
   "cell_type": "code",
   "execution_count": 3,
   "metadata": {},
   "outputs": [
    {
     "data": {
      "text/plain": [
       "<re.Match object; span=(0, 13), match='31 VN Pikachu'>"
      ]
     },
     "execution_count": 3,
     "metadata": {},
     "output_type": "execute_result"
    }
   ],
   "source": [
    "pattern = re.compile('(\\d+) ([\\w\\s]+)')\n",
    "txt = '31 VN Pikachu'\n",
    "sobj = pattern.search(txt)\n",
    "sobj"
   ]
  },
  {
   "cell_type": "code",
   "execution_count": 4,
   "metadata": {},
   "outputs": [
    {
     "data": {
      "text/plain": [
       "'31 VN Pikachu'"
      ]
     },
     "execution_count": 4,
     "metadata": {},
     "output_type": "execute_result"
    }
   ],
   "source": [
    "sobj.group()"
   ]
  },
  {
   "cell_type": "code",
   "execution_count": 5,
   "metadata": {},
   "outputs": [
    {
     "data": {
      "text/plain": [
       "'31'"
      ]
     },
     "execution_count": 5,
     "metadata": {},
     "output_type": "execute_result"
    }
   ],
   "source": [
    "sobj.group(1)"
   ]
  },
  {
   "cell_type": "code",
   "execution_count": 6,
   "metadata": {},
   "outputs": [
    {
     "data": {
      "text/plain": [
       "(0, 2)"
      ]
     },
     "execution_count": 6,
     "metadata": {},
     "output_type": "execute_result"
    }
   ],
   "source": [
    "sobj.span(1)"
   ]
  },
  {
   "cell_type": "code",
   "execution_count": 7,
   "metadata": {},
   "outputs": [
    {
     "data": {
      "text/plain": [
       "'VN Pikachu'"
      ]
     },
     "execution_count": 7,
     "metadata": {},
     "output_type": "execute_result"
    }
   ],
   "source": [
    "sobj.group(2)"
   ]
  },
  {
   "cell_type": "markdown",
   "metadata": {},
   "source": [
    "# Search"
   ]
  },
  {
   "cell_type": "markdown",
   "metadata": {},
   "source": [
    "search for the occurance of the pattern anywhere in the string"
   ]
  },
  {
   "cell_type": "code",
   "execution_count": 8,
   "metadata": {},
   "outputs": [],
   "source": [
    "txt = 'I am VN Pikachu, clan VN Champions, level 30, and I have 12 tanks'"
   ]
  },
  {
   "cell_type": "code",
   "execution_count": 9,
   "metadata": {},
   "outputs": [
    {
     "data": {
      "text/plain": [
       "<re.Match object; span=(42, 44), match='30'>"
      ]
     },
     "execution_count": 9,
     "metadata": {},
     "output_type": "execute_result"
    }
   ],
   "source": [
    "re.search('\\d+', txt)"
   ]
  },
  {
   "cell_type": "markdown",
   "metadata": {},
   "source": [
    "# Match"
   ]
  },
  {
   "cell_type": "markdown",
   "metadata": {},
   "source": [
    "search for the occurent of the pattern at the beggining of the string"
   ]
  },
  {
   "cell_type": "code",
   "execution_count": 57,
   "metadata": {},
   "outputs": [
    {
     "data": {
      "text/plain": [
       "<re.Match object; span=(0, 2), match='is'>"
      ]
     },
     "execution_count": 57,
     "metadata": {},
     "output_type": "execute_result"
    }
   ],
   "source": [
    "re.search('is', 'isane') #isane starts with is"
   ]
  },
  {
   "cell_type": "code",
   "execution_count": 60,
   "metadata": {},
   "outputs": [],
   "source": [
    "re.match('is', 'this') #this does not match, because 'this' does not start with is"
   ]
  },
  {
   "cell_type": "markdown",
   "metadata": {},
   "source": [
    "# Searching begining, ending with Multiline"
   ]
  },
  {
   "cell_type": "code",
   "execution_count": 12,
   "metadata": {},
   "outputs": [
    {
     "name": "stdout",
     "output_type": "stream",
     "text": [
      "VN Champions\n",
      "30.VN Pikachu\n",
      "34.Tank Cao\n"
     ]
    }
   ],
   "source": [
    "txt = 'VN Champions\\n30.VN Pikachu\\n34.Tank Cao'\n",
    "print(txt)"
   ]
  },
  {
   "cell_type": "markdown",
   "metadata": {},
   "source": [
    "search for number at the begining of a line "
   ]
  },
  {
   "cell_type": "code",
   "execution_count": null,
   "metadata": {},
   "outputs": [],
   "source": []
  },
  {
   "cell_type": "code",
   "execution_count": 13,
   "metadata": {},
   "outputs": [],
   "source": [
    "re.search('^\\d+', txt) #^ match for the beginning of a string, MULTILINE"
   ]
  },
  {
   "cell_type": "markdown",
   "metadata": {},
   "source": [
    "it does not return anything, despite the fact the we have a number at the beginning of the second line. This is because the <code>search</code> method only search for the first line"
   ]
  },
  {
   "cell_type": "markdown",
   "metadata": {},
   "source": [
    "Solution, using flag: <code>re.MULTILINE</code>\n",
    "    "
   ]
  },
  {
   "cell_type": "code",
   "execution_count": 14,
   "metadata": {},
   "outputs": [
    {
     "data": {
      "text/plain": [
       "<re.Match object; span=(13, 15), match='30'>"
      ]
     },
     "execution_count": 14,
     "metadata": {},
     "output_type": "execute_result"
    }
   ],
   "source": [
    "re.search('^\\d+', txt, flags = re.MULTILINE)"
   ]
  },
  {
   "cell_type": "markdown",
   "metadata": {},
   "source": [
    "Find all leading number in each line"
   ]
  },
  {
   "cell_type": "code",
   "execution_count": 15,
   "metadata": {},
   "outputs": [
    {
     "data": {
      "text/plain": [
       "['30', '34']"
      ]
     },
     "execution_count": 15,
     "metadata": {},
     "output_type": "execute_result"
    }
   ],
   "source": [
    "re.findall('^\\d+', txt, re.MULTILINE)"
   ]
  },
  {
   "cell_type": "markdown",
   "metadata": {},
   "source": [
    "<hr>"
   ]
  },
  {
   "cell_type": "code",
   "execution_count": 9,
   "metadata": {},
   "outputs": [
    {
     "data": {
      "text/plain": [
       "['31', '34']"
      ]
     },
     "execution_count": 9,
     "metadata": {},
     "output_type": "execute_result"
    }
   ],
   "source": [
    "clan = '31 VN Pikachu\\n34 Tank Cao'\n",
    "re.findall(r'^\\d+', clan, flags = re.MULTILINE)"
   ]
  },
  {
   "cell_type": "markdown",
   "metadata": {},
   "source": [
    "# Word boundaries"
   ]
  },
  {
   "cell_type": "markdown",
   "metadata": {},
   "source": [
    "\\b and \\B"
   ]
  },
  {
   "cell_type": "markdown",
   "metadata": {},
   "source": [
    "\\b denotes the end or the beginning of a word"
   ]
  },
  {
   "cell_type": "code",
   "execution_count": 20,
   "metadata": {},
   "outputs": [],
   "source": [
    "lyric = 'there is a girl'"
   ]
  },
  {
   "cell_type": "markdown",
   "metadata": {},
   "source": [
    "let's check if there is a word 'the' in the lyric"
   ]
  },
  {
   "cell_type": "code",
   "execution_count": 21,
   "metadata": {},
   "outputs": [
    {
     "data": {
      "text/plain": [
       "<re.Match object; span=(0, 3), match='the'>"
      ]
     },
     "execution_count": 21,
     "metadata": {},
     "output_type": "execute_result"
    }
   ],
   "source": [
    "#Bad approach\n",
    "re.search('the', lyric)"
   ]
  },
  {
   "cell_type": "markdown",
   "metadata": {},
   "source": [
    "because 'the' is a substring of  'there', so search return the mach object"
   ]
  },
  {
   "cell_type": "markdown",
   "metadata": {},
   "source": [
    "Find all words ends with es"
   ]
  },
  {
   "cell_type": "code",
   "execution_count": 23,
   "metadata": {},
   "outputs": [
    {
     "data": {
      "text/plain": [
       "['boxes', 'axes']"
      ]
     },
     "execution_count": 23,
     "metadata": {},
     "output_type": "execute_result"
    }
   ],
   "source": [
    "#using word boundary\n",
    "re.findall(r'\\b[a-z]*es\\b', 'there are boxes and 123es axes')"
   ]
  },
  {
   "cell_type": "code",
   "execution_count": 24,
   "metadata": {},
   "outputs": [
    {
     "data": {
      "text/plain": [
       "['boxes', 'es', 'axes']"
      ]
     },
     "execution_count": 24,
     "metadata": {},
     "output_type": "execute_result"
    }
   ],
   "source": [
    "#not using word boundary\n",
    "re.findall(r'[a-z]*es', 'there are boxes and 123es axes')"
   ]
  },
  {
   "cell_type": "markdown",
   "metadata": {},
   "source": [
    "# Back reference"
   ]
  },
  {
   "cell_type": "code",
   "execution_count": 25,
   "metadata": {},
   "outputs": [],
   "source": [
    "s1 = '31 31 Pikachu'\n",
    "s2 = '31 32 Nanano'"
   ]
  },
  {
   "cell_type": "markdown",
   "metadata": {},
   "source": [
    "check patterns in which the first and the second number is the same"
   ]
  },
  {
   "cell_type": "code",
   "execution_count": 33,
   "metadata": {},
   "outputs": [
    {
     "data": {
      "text/plain": [
       "<re.Match object; span=(0, 5), match='31 31'>"
      ]
     },
     "execution_count": 33,
     "metadata": {},
     "output_type": "execute_result"
    }
   ],
   "source": [
    "re.search(r'(\\d+) \\1', s1)"
   ]
  },
  {
   "cell_type": "code",
   "execution_count": 34,
   "metadata": {},
   "outputs": [],
   "source": [
    "re.search(r'(\\d+) \\1', s2)"
   ]
  },
  {
   "cell_type": "markdown",
   "metadata": {},
   "source": [
    "# Search Object"
   ]
  },
  {
   "cell_type": "code",
   "execution_count": 73,
   "metadata": {},
   "outputs": [
    {
     "data": {
      "text/plain": [
       "<re.Match object; span=(18, 20), match='30'>"
      ]
     },
     "execution_count": 73,
     "metadata": {},
     "output_type": "execute_result"
    }
   ],
   "source": [
    "txt = 'VN Pikachu, Level 30, Clan VN Champions'\n",
    "search_obj = re.search('\\d+', txt) #this return re.Match object\n",
    "search_obj "
   ]
  },
  {
   "cell_type": "code",
   "execution_count": 98,
   "metadata": {},
   "outputs": [
    {
     "data": {
      "text/plain": [
       "['__class__',\n",
       " '__copy__',\n",
       " '__deepcopy__',\n",
       " '__delattr__',\n",
       " '__dir__',\n",
       " '__doc__',\n",
       " '__eq__',\n",
       " '__format__',\n",
       " '__ge__',\n",
       " '__getattribute__',\n",
       " '__getitem__',\n",
       " '__gt__',\n",
       " '__hash__',\n",
       " '__init__',\n",
       " '__init_subclass__',\n",
       " '__le__',\n",
       " '__lt__',\n",
       " '__ne__',\n",
       " '__new__',\n",
       " '__reduce__',\n",
       " '__reduce_ex__',\n",
       " '__repr__',\n",
       " '__setattr__',\n",
       " '__sizeof__',\n",
       " '__str__',\n",
       " '__subclasshook__',\n",
       " 'end',\n",
       " 'endpos',\n",
       " 'expand',\n",
       " 'group',\n",
       " 'groupdict',\n",
       " 'groups',\n",
       " 'lastgroup',\n",
       " 'lastindex',\n",
       " 'pos',\n",
       " 're',\n",
       " 'regs',\n",
       " 'span',\n",
       " 'start',\n",
       " 'string']"
      ]
     },
     "execution_count": 98,
     "metadata": {},
     "output_type": "execute_result"
    }
   ],
   "source": [
    "dir(search_obj)"
   ]
  },
  {
   "cell_type": "markdown",
   "metadata": {},
   "source": [
    "```python\n",
    "search_obj.span(group=0, /)\n",
    "```"
   ]
  },
  {
   "cell_type": "code",
   "execution_count": 17,
   "metadata": {},
   "outputs": [
    {
     "data": {
      "text/plain": [
       "(18, 20)"
      ]
     },
     "execution_count": 17,
     "metadata": {},
     "output_type": "execute_result"
    }
   ],
   "source": [
    "#the starting and ending index of the matched pattern\n",
    "search_obj.span()"
   ]
  },
  {
   "cell_type": "markdown",
   "metadata": {},
   "source": [
    "```python\n",
    "search_obj.start(group=0, /)\n",
    "```"
   ]
  },
  {
   "cell_type": "code",
   "execution_count": 19,
   "metadata": {},
   "outputs": [
    {
     "data": {
      "text/plain": [
       "18"
      ]
     },
     "execution_count": 19,
     "metadata": {},
     "output_type": "execute_result"
    }
   ],
   "source": [
    "#the starting index of the matched pattern\n",
    "search_obj.start()"
   ]
  },
  {
   "cell_type": "code",
   "execution_count": 20,
   "metadata": {},
   "outputs": [
    {
     "data": {
      "text/plain": [
       "20"
      ]
     },
     "execution_count": 20,
     "metadata": {},
     "output_type": "execute_result"
    }
   ],
   "source": [
    "#the ending index\n",
    "search_obj.end()"
   ]
  },
  {
   "cell_type": "code",
   "execution_count": 21,
   "metadata": {},
   "outputs": [
    {
     "data": {
      "text/plain": [
       "'30'"
      ]
     },
     "execution_count": 21,
     "metadata": {},
     "output_type": "execute_result"
    }
   ],
   "source": [
    "#the matched patterned found\n",
    "search_obj.group()"
   ]
  },
  {
   "cell_type": "markdown",
   "metadata": {},
   "source": [
    "<hr>"
   ]
  },
  {
   "cell_type": "code",
   "execution_count": 15,
   "metadata": {},
   "outputs": [
    {
     "data": {
      "text/plain": [
       "<re.Match object; span=(0, 12), match='31 VN Pikchu'>"
      ]
     },
     "execution_count": 15,
     "metadata": {},
     "output_type": "execute_result"
    }
   ],
   "source": [
    "obj = re.search(r'(\\d+) ([\\w ]+)', '31 VN Pikchu')\n",
    "obj"
   ]
  },
  {
   "cell_type": "code",
   "execution_count": 16,
   "metadata": {},
   "outputs": [
    {
     "data": {
      "text/plain": [
       "(0, 2)"
      ]
     },
     "execution_count": 16,
     "metadata": {},
     "output_type": "execute_result"
    }
   ],
   "source": [
    "#get the span of the first captured group\n",
    "obj.span(1)"
   ]
  },
  {
   "cell_type": "code",
   "execution_count": 17,
   "metadata": {},
   "outputs": [
    {
     "data": {
      "text/plain": [
       "12"
      ]
     },
     "execution_count": 17,
     "metadata": {},
     "output_type": "execute_result"
    }
   ],
   "source": [
    "#get the ending of the second captured group\n",
    "obj.end(2)"
   ]
  },
  {
   "cell_type": "code",
   "execution_count": 99,
   "metadata": {},
   "outputs": [
    {
     "data": {
      "text/plain": [
       "'31 VN Pikchu'"
      ]
     },
     "execution_count": 99,
     "metadata": {},
     "output_type": "execute_result"
    }
   ],
   "source": [
    "obj.string"
   ]
  },
  {
   "cell_type": "code",
   "execution_count": 100,
   "metadata": {},
   "outputs": [
    {
     "data": {
      "text/plain": [
       "re.compile(r'(\\d+) ([\\w ]+)', re.UNICODE)"
      ]
     },
     "execution_count": 100,
     "metadata": {},
     "output_type": "execute_result"
    }
   ],
   "source": [
    "#the regular expression used\n",
    "obj.re"
   ]
  },
  {
   "cell_type": "code",
   "execution_count": 103,
   "metadata": {},
   "outputs": [
    {
     "data": {
      "text/plain": [
       "0"
      ]
     },
     "execution_count": 103,
     "metadata": {},
     "output_type": "execute_result"
    }
   ],
   "source": [
    "#The value of pos which was passed to the search() or match() method of a regex object. \n",
    "#This is the index into the string at which the RE engine started looking for a match.\n",
    "obj.pos"
   ]
  },
  {
   "cell_type": "code",
   "execution_count": 104,
   "metadata": {},
   "outputs": [
    {
     "data": {
      "text/plain": [
       "12"
      ]
     },
     "execution_count": 104,
     "metadata": {},
     "output_type": "execute_result"
    }
   ],
   "source": [
    "#The value of endpos which was passed to the search() or match() method of a regex object.\n",
    "#This is the index into the string beyond which the RE engine will not go.\n",
    "obj.endpos"
   ]
  },
  {
   "cell_type": "markdown",
   "metadata": {},
   "source": [
    "**`Match.lastgroup`**  \n",
    "The name of the last matched capturing group, or None if the group didn’t have a name, or if no group was matched at all."
   ]
  },
  {
   "cell_type": "code",
   "execution_count": 143,
   "metadata": {},
   "outputs": [],
   "source": [
    "#We do not name any group, so return none\n",
    "re.search(r'(\\d+) ([\\w ]+)', '31 VN Pikachu').lastgroup"
   ]
  },
  {
   "cell_type": "code",
   "execution_count": 142,
   "metadata": {},
   "outputs": [
    {
     "data": {
      "text/plain": [
       "'name'"
      ]
     },
     "execution_count": 142,
     "metadata": {},
     "output_type": "execute_result"
    }
   ],
   "source": [
    "#There are 2 captured group matches, the first captured group called level, and the second one called named\n",
    "re.search(r'(?P<level>\\d+) (?P<name>[\\w ]+)', '31 VN Pikachu').lastgroup"
   ]
  },
  {
   "cell_type": "markdown",
   "metadata": {},
   "source": [
    "**`Match.lastindex`**"
   ]
  },
  {
   "cell_type": "markdown",
   "metadata": {},
   "source": [
    "The integer index of the last matched capturing group, or None if no group was matched at all. For example, the expressions (a)b, ((a)(b)), and ((ab)) will have lastindex == 1 if applied to the string 'ab', while the expression (a)(b) will have lastindex == 2, if applied to the same string."
   ]
  },
  {
   "cell_type": "code",
   "execution_count": 145,
   "metadata": {},
   "outputs": [
    {
     "data": {
      "text/plain": [
       "2"
      ]
     },
     "execution_count": 145,
     "metadata": {},
     "output_type": "execute_result"
    }
   ],
   "source": [
    "re.search(r'(\\d+) ([\\w ]+)', '31 VN Pikachu').lastindex"
   ]
  },
  {
   "cell_type": "markdown",
   "metadata": {},
   "source": [
    "# Captured Group"
   ]
  },
  {
   "cell_type": "markdown",
   "metadata": {},
   "source": [
    "let's find the account name, level, and clan name"
   ]
  },
  {
   "cell_type": "code",
   "execution_count": 83,
   "metadata": {},
   "outputs": [
    {
     "data": {
      "text/plain": [
       "<re.Match object; span=(0, 39), match='VN Pikachu, Level 30, Clan VN Champions'>"
      ]
     },
     "execution_count": 83,
     "metadata": {},
     "output_type": "execute_result"
    }
   ],
   "source": [
    "search_object = re.search('^([\\w\\s]+), Level (\\d+), Clan ([\\w\\s]+)$', txt)\n",
    "search_object"
   ]
  },
  {
   "cell_type": "code",
   "execution_count": 84,
   "metadata": {},
   "outputs": [
    {
     "data": {
      "text/plain": [
       "'VN Pikachu, Level 30, Clan VN Champions'"
      ]
     },
     "execution_count": 84,
     "metadata": {},
     "output_type": "execute_result"
    }
   ],
   "source": [
    "search_object.group()"
   ]
  },
  {
   "cell_type": "code",
   "execution_count": 85,
   "metadata": {},
   "outputs": [
    {
     "data": {
      "text/plain": [
       "'VN Pikachu, Level 30, Clan VN Champions'"
      ]
     },
     "execution_count": 85,
     "metadata": {},
     "output_type": "execute_result"
    }
   ],
   "source": [
    "search_object.group(0) #group(0) is the same as group() : return all captrued groups as a string"
   ]
  },
  {
   "cell_type": "markdown",
   "metadata": {},
   "source": [
    "return the first captured group"
   ]
  },
  {
   "cell_type": "code",
   "execution_count": 86,
   "metadata": {},
   "outputs": [
    {
     "data": {
      "text/plain": [
       "'VN Pikachu'"
      ]
     },
     "execution_count": 86,
     "metadata": {},
     "output_type": "execute_result"
    }
   ],
   "source": [
    "search_object.group(1)"
   ]
  },
  {
   "cell_type": "markdown",
   "metadata": {},
   "source": [
    "the second captrured group"
   ]
  },
  {
   "cell_type": "code",
   "execution_count": 87,
   "metadata": {},
   "outputs": [
    {
     "data": {
      "text/plain": [
       "'30'"
      ]
     },
     "execution_count": 87,
     "metadata": {},
     "output_type": "execute_result"
    }
   ],
   "source": [
    "search_object.group(2)"
   ]
  },
  {
   "cell_type": "markdown",
   "metadata": {},
   "source": [
    "the third captured group"
   ]
  },
  {
   "cell_type": "code",
   "execution_count": 88,
   "metadata": {},
   "outputs": [
    {
     "data": {
      "text/plain": [
       "'VN Champions'"
      ]
     },
     "execution_count": 88,
     "metadata": {},
     "output_type": "execute_result"
    }
   ],
   "source": [
    "search_object.group(3)"
   ]
  },
  {
   "cell_type": "markdown",
   "metadata": {},
   "source": [
    "<b>group(m, n)</b> is equivalent <b>(group(m), group(n))</b>"
   ]
  },
  {
   "cell_type": "code",
   "execution_count": 89,
   "metadata": {},
   "outputs": [
    {
     "data": {
      "text/plain": [
       "('30', 'VN Champions')"
      ]
     },
     "execution_count": 89,
     "metadata": {},
     "output_type": "execute_result"
    }
   ],
   "source": [
    "search_object.group(2,3)"
   ]
  },
  {
   "cell_type": "markdown",
   "metadata": {},
   "source": [
    "<hr>"
   ]
  },
  {
   "cell_type": "markdown",
   "metadata": {},
   "source": [
    "You can also access the value of captured groups by call: **`Match[index]`** instead of **`Match.group(index)`**"
   ]
  },
  {
   "cell_type": "code",
   "execution_count": 92,
   "metadata": {},
   "outputs": [
    {
     "data": {
      "text/plain": [
       "<re.Match object; span=(0, 13), match='31 VN Pikachu'>"
      ]
     },
     "execution_count": 92,
     "metadata": {},
     "output_type": "execute_result"
    }
   ],
   "source": [
    "Match = re.search(r'(\\d+) ([\\w ]+)', '31 VN Pikachu')\n",
    "Match"
   ]
  },
  {
   "cell_type": "code",
   "execution_count": 93,
   "metadata": {},
   "outputs": [
    {
     "data": {
      "text/plain": [
       "'31 VN Pikachu'"
      ]
     },
     "execution_count": 93,
     "metadata": {},
     "output_type": "execute_result"
    }
   ],
   "source": [
    "Match[0]"
   ]
  },
  {
   "cell_type": "code",
   "execution_count": 94,
   "metadata": {},
   "outputs": [
    {
     "data": {
      "text/plain": [
       "'31'"
      ]
     },
     "execution_count": 94,
     "metadata": {},
     "output_type": "execute_result"
    }
   ],
   "source": [
    "Match[1]"
   ]
  },
  {
   "cell_type": "code",
   "execution_count": 95,
   "metadata": {},
   "outputs": [
    {
     "data": {
      "text/plain": [
       "'VN Pikachu'"
      ]
     },
     "execution_count": 95,
     "metadata": {},
     "output_type": "execute_result"
    }
   ],
   "source": [
    "Match[2]"
   ]
  },
  {
   "cell_type": "markdown",
   "metadata": {},
   "source": [
    "<hr>"
   ]
  },
  {
   "cell_type": "code",
   "execution_count": 82,
   "metadata": {},
   "outputs": [
    {
     "data": {
      "text/plain": [
       "()"
      ]
     },
     "execution_count": 82,
     "metadata": {},
     "output_type": "execute_result"
    }
   ],
   "source": [
    "search_obj.groups()"
   ]
  },
  {
   "cell_type": "markdown",
   "metadata": {},
   "source": [
    "### Match.groups()"
   ]
  },
  {
   "cell_type": "code",
   "execution_count": 29,
   "metadata": {},
   "outputs": [
    {
     "data": {
      "text/plain": [
       "('VN Pikachu', '30', 'VN Champions')"
      ]
     },
     "execution_count": 29,
     "metadata": {},
     "output_type": "execute_result"
    }
   ],
   "source": [
    "#get all captured groups as a list\n",
    "search_object.groups()"
   ]
  },
  {
   "cell_type": "markdown",
   "metadata": {},
   "source": [
    "## Exercise"
   ]
  },
  {
   "cell_type": "markdown",
   "metadata": {},
   "source": [
    "A very intuitive example are XML or HTML tags. E.g. let's assume we have a file (called \"tags.txt\") with content like this:\n",
    "\n",
    "<composer> Wolfgang Amadeus Mozart </composer>\n",
    "\n",
    "\n",
    "\n",
    "\n",
    "We want to rewrite this text automatically to\n",
    "\n",
    "composer: Wolfgang Amadeus Mozart\n"
   ]
  },
  {
   "cell_type": "code",
   "execution_count": 30,
   "metadata": {},
   "outputs": [],
   "source": [
    "html_file = '''<composer> Wolfgang Amadeus Mozart </composer>'''"
   ]
  },
  {
   "cell_type": "code",
   "execution_count": 31,
   "metadata": {},
   "outputs": [
    {
     "data": {
      "text/plain": [
       "<re.Match object; span=(0, 46), match='<composer> Wolfgang Amadeus Mozart </composer>'>"
      ]
     },
     "execution_count": 31,
     "metadata": {},
     "output_type": "execute_result"
    }
   ],
   "source": [
    "search_object = re.search(r'<(\\w+)>(.*)</\\1>', html_file)\n",
    "search_object"
   ]
  },
  {
   "cell_type": "code",
   "execution_count": 32,
   "metadata": {},
   "outputs": [
    {
     "data": {
      "text/plain": [
       "'composer:  Wolfgang Amadeus Mozart '"
      ]
     },
     "execution_count": 32,
     "metadata": {},
     "output_type": "execute_result"
    }
   ],
   "source": [
    "f'{search_object.group(1)}: {search_object.group(2)}'"
   ]
  },
  {
   "cell_type": "markdown",
   "metadata": {},
   "source": [
    "## Excercise"
   ]
  },
  {
   "cell_type": "code",
   "execution_count": 33,
   "metadata": {},
   "outputs": [
    {
     "name": "stdout",
     "output_type": "stream",
     "text": [
      "Allison Neu 555-8396\n",
      "C Burns \n",
      "Lionel Putz 555-5299\n",
      "Homer Simpson 555-7334\n"
     ]
    }
   ],
   "source": [
    "target = [\"555-8396 Neu, Allison\", \n",
    "     \"Burns, C. Montgomery\", \n",
    "     \"555-5299 Putz, Lionel\",\n",
    "     \"555-7334 Simpson, Homer Jay\"]\n",
    "for info in target:\n",
    "    obj = re.search(r'([\\d-]*)\\s?(\\w+), (\\w+)', info)\n",
    "    print(obj.group(3), obj.group(2), obj.group(1))\n",
    "  "
   ]
  },
  {
   "cell_type": "markdown",
   "metadata": {},
   "source": [
    "# Exercise"
   ]
  },
  {
   "cell_type": "markdown",
   "metadata": {},
   "source": [
    " show the span of the second captured group, the ending index of the first captured group"
   ]
  },
  {
   "cell_type": "code",
   "execution_count": 34,
   "metadata": {},
   "outputs": [
    {
     "data": {
      "text/plain": [
       "('VN Pikachu', '30')"
      ]
     },
     "execution_count": 34,
     "metadata": {},
     "output_type": "execute_result"
    }
   ],
   "source": [
    "obj = re.search(r'([\\w\\s]+), level (\\d+)', 'VN Pikachu, level 30')\n",
    "obj.group(1,2)"
   ]
  },
  {
   "cell_type": "code",
   "execution_count": 35,
   "metadata": {},
   "outputs": [
    {
     "data": {
      "text/plain": [
       "(18, 20)"
      ]
     },
     "execution_count": 35,
     "metadata": {},
     "output_type": "execute_result"
    }
   ],
   "source": [
    "obj.span(2)"
   ]
  },
  {
   "cell_type": "code",
   "execution_count": 36,
   "metadata": {},
   "outputs": [
    {
     "data": {
      "text/plain": [
       "10"
      ]
     },
     "execution_count": 36,
     "metadata": {},
     "output_type": "execute_result"
    }
   ],
   "source": [
    "obj.end(1)"
   ]
  },
  {
   "cell_type": "markdown",
   "metadata": {},
   "source": [
    "## Excercise: Phonebook"
   ]
  },
  {
   "cell_type": "code",
   "execution_count": 61,
   "metadata": {},
   "outputs": [],
   "source": [
    "text = \"\"\"Ross McFluff: 834.345.1254 155 Elm Street\n",
    "\n",
    "Ronald Heathmore: 892.345.3428 436 Finley Avenue\n",
    "Frank Burger: 925.541.7625 662 South Dogwood Way\n",
    "\n",
    "\n",
    "Heather Albrecht: 548.326.4584 919 Park Place\"\"\""
   ]
  },
  {
   "cell_type": "code",
   "execution_count": 62,
   "metadata": {},
   "outputs": [
    {
     "data": {
      "text/plain": [
       "['Ross McFluff: 834.345.1254 155 Elm Street',\n",
       " 'Ronald Heathmore: 892.345.3428 436 Finley Avenue',\n",
       " 'Frank Burger: 925.541.7625 662 South Dogwood Way',\n",
       " 'Heather Albrecht: 548.326.4584 919 Park Place']"
      ]
     },
     "execution_count": 62,
     "metadata": {},
     "output_type": "execute_result"
    }
   ],
   "source": [
    "lines = re.split(r'\\n+', text)\n",
    "lines"
   ]
  },
  {
   "cell_type": "code",
   "execution_count": 63,
   "metadata": {},
   "outputs": [
    {
     "name": "stdout",
     "output_type": "stream",
     "text": [
      "['Ross', 'McFluff', '834.345.1254', '155', 'Elm', 'Street']\n",
      "['Ronald', 'Heathmore', '892.345.3428', '436', 'Finley', 'Avenue']\n",
      "['Frank', 'Burger', '925.541.7625', '662', 'South', 'Dogwood', 'Way']\n",
      "['Heather', 'Albrecht', '548.326.4584', '919', 'Park', 'Place']\n"
     ]
    }
   ],
   "source": [
    "for line in lines:\n",
    "    res = re.split(r':? ', line)\n",
    "    print(res)"
   ]
  },
  {
   "cell_type": "markdown",
   "metadata": {},
   "source": [
    "We want 'Elm Street', not 'Elm', 'Street'.So let's limit the number of maximum split to 4"
   ]
  },
  {
   "cell_type": "code",
   "execution_count": 64,
   "metadata": {},
   "outputs": [
    {
     "name": "stdout",
     "output_type": "stream",
     "text": [
      "['Ross', 'McFluff', '834.345.1254', '155', 'Elm Street']\n",
      "['Ronald', 'Heathmore', '892.345.3428', '436', 'Finley Avenue']\n",
      "['Frank', 'Burger', '925.541.7625', '662', 'South Dogwood Way']\n",
      "['Heather', 'Albrecht', '548.326.4584', '919', 'Park Place']\n"
     ]
    }
   ],
   "source": [
    "for line in lines:\n",
    "    res = re.split(r':? ', line, 4)\n",
    "    print(res)"
   ]
  },
  {
   "cell_type": "markdown",
   "metadata": {},
   "source": [
    "# Named Backreferences"
   ]
  },
  {
   "cell_type": "markdown",
   "metadata": {},
   "source": [
    "**`(?P<name>...)`**"
   ]
  },
  {
   "cell_type": "code",
   "execution_count": 18,
   "metadata": {},
   "outputs": [
    {
     "data": {
      "text/plain": [
       "('VN Pikachu', '30', 'VN Champions')"
      ]
     },
     "execution_count": 18,
     "metadata": {},
     "output_type": "execute_result"
    }
   ],
   "source": [
    "data = 'VN Pikachu, level 30, clan VN Champions'\n",
    "#Numbered Backreferences\n",
    "obj1 = re.search(r'([\\w\\s]+), level (\\d+), clan ([\\w\\s]+)', data)\n",
    "obj1.group(1,2,3)"
   ]
  },
  {
   "cell_type": "code",
   "execution_count": 19,
   "metadata": {},
   "outputs": [
    {
     "data": {
      "text/plain": [
       "'VN Pikachu, level 30, clan VN Champions'"
      ]
     },
     "execution_count": 19,
     "metadata": {},
     "output_type": "execute_result"
    }
   ],
   "source": [
    "#Named backreferences\n",
    "obj2 = re.search(r'(?P<name>[\\w\\s]+), level (?P<level>\\d+), clan (?P<clan>[\\w\\s]+)', data)\n",
    "obj2.group()"
   ]
  },
  {
   "cell_type": "code",
   "execution_count": 20,
   "metadata": {},
   "outputs": [
    {
     "data": {
      "text/plain": [
       "'VN Pikachu'"
      ]
     },
     "execution_count": 20,
     "metadata": {},
     "output_type": "execute_result"
    }
   ],
   "source": [
    "obj2.group('name')"
   ]
  },
  {
   "cell_type": "code",
   "execution_count": 21,
   "metadata": {},
   "outputs": [
    {
     "data": {
      "text/plain": [
       "'VN Champions'"
      ]
     },
     "execution_count": 21,
     "metadata": {},
     "output_type": "execute_result"
    }
   ],
   "source": [
    "obj2.group('clan')"
   ]
  },
  {
   "cell_type": "code",
   "execution_count": 22,
   "metadata": {},
   "outputs": [
    {
     "data": {
      "text/plain": [
       "'30'"
      ]
     },
     "execution_count": 22,
     "metadata": {},
     "output_type": "execute_result"
    }
   ],
   "source": [
    "obj2.group('level')"
   ]
  },
  {
   "cell_type": "code",
   "execution_count": 24,
   "metadata": {},
   "outputs": [
    {
     "data": {
      "text/plain": [
       "(0, 10)"
      ]
     },
     "execution_count": 24,
     "metadata": {},
     "output_type": "execute_result"
    }
   ],
   "source": [
    "obj2.span('name')"
   ]
  },
  {
   "cell_type": "code",
   "execution_count": 25,
   "metadata": {},
   "outputs": [
    {
     "data": {
      "text/plain": [
       "(27, 39)"
      ]
     },
     "execution_count": 25,
     "metadata": {},
     "output_type": "execute_result"
    }
   ],
   "source": [
    "obj2.start('clan'), obj2.end('clan')"
   ]
  },
  {
   "cell_type": "markdown",
   "metadata": {},
   "source": [
    "<hr>"
   ]
  },
  {
   "cell_type": "markdown",
   "metadata": {},
   "source": [
    "**`groupdict`**"
   ]
  },
  {
   "cell_type": "code",
   "execution_count": 66,
   "metadata": {},
   "outputs": [
    {
     "data": {
      "text/plain": [
       "{'name': 'VN Pikachu', 'level': '30', 'clan': 'VN Champions'}"
      ]
     },
     "execution_count": 66,
     "metadata": {},
     "output_type": "execute_result"
    }
   ],
   "source": [
    "obj2.groupdict()"
   ]
  },
  {
   "cell_type": "markdown",
   "metadata": {},
   "source": [
    "<hr>"
   ]
  },
  {
   "cell_type": "markdown",
   "metadata": {},
   "source": [
    "back reference: **`<?P=name>`**"
   ]
  },
  {
   "cell_type": "code",
   "execution_count": 32,
   "metadata": {},
   "outputs": [],
   "source": [
    "pattern = r'(?P<number>\\d+) \\w+ (?P=number)'"
   ]
  },
  {
   "cell_type": "code",
   "execution_count": 33,
   "metadata": {},
   "outputs": [
    {
     "data": {
      "text/plain": [
       "<re.Match object; span=(0, 13), match='31 Pikachu 31'>"
      ]
     },
     "execution_count": 33,
     "metadata": {},
     "output_type": "execute_result"
    }
   ],
   "source": [
    "re.search(pattern, '31 Pikachu 31')"
   ]
  },
  {
   "cell_type": "code",
   "execution_count": 34,
   "metadata": {},
   "outputs": [],
   "source": [
    "re.search(pattern, '32 Pikachu 33')"
   ]
  },
  {
   "cell_type": "markdown",
   "metadata": {},
   "source": [
    "# Case study: Parsing Phone Number"
   ]
  },
  {
   "cell_type": "markdown",
   "metadata": {},
   "source": [
    "The problem: parsing an American phone number. The client wanted to be able to enter the number free-form (in a single field), but then wanted to store:\n",
    "* area code\n",
    "* trunk\n",
    "* number\n",
    "* optionally an extension separately in the company’s database"
   ]
  },
  {
   "cell_type": "markdown",
   "metadata": {},
   "source": [
    "Database\n",
    "* 800-555-1212\n",
    "* 800 555 1212\n",
    "* 800.555.1212\n",
    "* (800) 555-1212\n",
    "* 1-800-555-1212\n",
    "* 800-555-1212-1234\n",
    "* 800-555-1212x1234\n",
    "* 800-555-1212 ext. 1234\n",
    "* work 1-(800) 555.1212 #1234"
   ]
  },
  {
   "cell_type": "markdown",
   "metadata": {},
   "source": [
    "Quite a variety! In each of these cases, I need to know that:\n",
    "* the area code was 800\n",
    "* the trunk was 555\n",
    "* the rest of the phone number was 1212\n",
    "* For those with an extension, I need to know that the extension was 1234."
   ]
  },
  {
   "cell_type": "code",
   "execution_count": 42,
   "metadata": {},
   "outputs": [],
   "source": [
    "database = [\n",
    "'800-555-1212',\n",
    "'800 555 1212',\n",
    "'800.555.1212',\n",
    "'(800) 555-1212',\n",
    "'1-800-555-1212',\n",
    "'800-555-1212-1234',\n",
    "'800-555-1212x1234',\n",
    "'800-555-1212 ext. 1234', \n",
    "'work 1-(800) 555.1212 #1234' \n",
    "]"
   ]
  },
  {
   "cell_type": "code",
   "execution_count": 53,
   "metadata": {},
   "outputs": [],
   "source": [
    "pattern = re.compile(r'^[a-z ]*(?:1-)?\\(?(\\d+)\\)?[ -.](\\d+)[ -.](\\d+)[a-z#-. ]*(\\d*)$', flags = re.I)"
   ]
  },
  {
   "cell_type": "code",
   "execution_count": 54,
   "metadata": {},
   "outputs": [
    {
     "name": "stdout",
     "output_type": "stream",
     "text": [
      "Enter phone number:work 1-(800) 555.1212 #1234\n",
      "('800', '555', '1212', '1234')\n"
     ]
    }
   ],
   "source": [
    "number = input('Enter phone number:')\n",
    "sobj = pattern.search(number)\n",
    "if sobj:\n",
    "    print(sobj.groups())"
   ]
  },
  {
   "cell_type": "markdown",
   "metadata": {},
   "source": [
    "# Case study: Tokenizer"
   ]
  },
  {
   "cell_type": "markdown",
   "metadata": {},
   "source": [
    "Input:"
   ]
  },
  {
   "cell_type": "markdown",
   "metadata": {},
   "source": [
    "\n",
    "<pre>\n",
    "statements = '''\n",
    "    IF quantity THEN\n",
    "        total := total + price * quantity;\n",
    "        tax := price * 0.05;\n",
    "    ENDIF;\n",
    "'''\n",
    "</pre>"
   ]
  },
  {
   "cell_type": "markdown",
   "metadata": {},
   "source": [
    "Output:"
   ]
  },
  {
   "cell_type": "markdown",
   "metadata": {},
   "source": [
    "```python\n",
    "Token(type='IF', value='IF', line=2, column=4)\n",
    "Token(type='ID', value='quantity', line=2, column=7)\n",
    "Token(type='THEN', value='THEN', line=2, column=16)\n",
    "Token(type='ID', value='total', line=3, column=8)\n",
    "Token(type='ASSIGN', value=':=', line=3, column=14)\n",
    "Token(type='ID', value='total', line=3, column=17)\n",
    "Token(type='OP', value='+', line=3, column=23)\n",
    "Token(type='ID', value='price', line=3, column=25)\n",
    "Token(type='OP', value='*', line=3, column=31)\n",
    "Token(type='ID', value='quantity', line=3, column=33)\n",
    "Token(type='END', value=';', line=3, column=41)\n",
    "Token(type='ID', value='tax', line=4, column=8)\n",
    "Token(type='ASSIGN', value=':=', line=4, column=12)\n",
    "Token(type='ID', value='price', line=4, column=15)\n",
    "Token(type='OP', value='*', line=4, column=21)\n",
    "Token(type='NUMBER', value=0.05, line=4, column=23)\n",
    "Token(type='END', value=';', line=4, column=27)\n",
    "Token(type='ENDIF', value='ENDIF', line=5, column=4)\n",
    "Token(type='END', value=';', line=5, column=9)\n",
    "```"
   ]
  },
  {
   "cell_type": "code",
   "execution_count": 154,
   "metadata": {},
   "outputs": [],
   "source": [
    "statements = '''\n",
    "    IF quantity THEN\n",
    "        total := total + price * quantity;\n",
    "        tax := price * 0.05;\n",
    "    ENDIF;\n",
    "'''"
   ]
  },
  {
   "cell_type": "code",
   "execution_count": 155,
   "metadata": {},
   "outputs": [],
   "source": [
    "class Token:\n",
    "    def __init__(self, type, value, line, column):\n",
    "        self.type = type\n",
    "        self.value = value\n",
    "        self.line = line\n",
    "        self.column = column\n",
    "    def __str__(self):\n",
    "        return f'Token(type={self.type}, value={self.value}, line={self.line}, column={self.column})'"
   ]
  },
  {
   "cell_type": "code",
   "execution_count": 181,
   "metadata": {},
   "outputs": [],
   "source": [
    "def tokenize(s):\n",
    "    keywords = {'IF', 'THEN', 'ENDIF', 'FOR', 'NEXT', 'GOSUB', 'RETURN'}\n",
    "    token_specification = [\n",
    "        ('NUMBER',   r'\\d+(\\.\\d*)?'),  # Integer or decimal number\n",
    "        ('ASSIGN',   r':='),           # Assignment operator\n",
    "        ('END',      r';'),            # Statement terminator\n",
    "        ('ID',       r'[A-Za-z]+'),    # Identifiers\n",
    "        ('OP',       r'[+\\-*/]'),      # Arithmetic operators\n",
    "        ('NEWLINE',  r'\\n'),           # Line endings\n",
    "        ('SKIP',     r'[ \\t]+'),       # Skip over spaces and tabs\n",
    "        ('MISMATCH', r'.')             # Any other character\n",
    "    ]\n",
    "    line_index = 1\n",
    "    line_start = 0\n",
    "    regex = '|'.join('(?P<{}>{})'.format(*spec) for spec in token_specification)\n",
    "    for Match in re.finditer(regex, s):\n",
    "        #there are many captured groups, but only 1 captured group matches\n",
    "        #get the name of that captured group\n",
    "        #print(Match.groupdict())\n",
    "        kind = Match.lastgroup \n",
    "        res = Match.group()\n",
    "        start, end = Match.span()\n",
    "        \n",
    "        if kind == 'NUMBER':\n",
    "            value = float(res) if '.' in res else int(res)\n",
    "        elif kind == 'ID' and res in keywords:\n",
    "            kind = res\n",
    "        elif kind == 'NEWLINE':\n",
    "            line_index += 1\n",
    "            line_start = end\n",
    "            continue\n",
    "        elif kind == 'SKIP':\n",
    "            continue\n",
    "        elif kind == 'MISMATCH':\n",
    "            raise RuntimeError('Error')\n",
    "        \n",
    "        yield Token(kind, res, line_index, start - line_start)"
   ]
  },
  {
   "cell_type": "code",
   "execution_count": 182,
   "metadata": {},
   "outputs": [
    {
     "name": "stdout",
     "output_type": "stream",
     "text": [
      "Token(type=IF, value=IF, line=2, column=4)\n",
      "Token(type=ID, value=quantity, line=2, column=7)\n",
      "Token(type=THEN, value=THEN, line=2, column=16)\n",
      "Token(type=ID, value=total, line=3, column=8)\n",
      "Token(type=ASSIGN, value=:=, line=3, column=14)\n",
      "Token(type=ID, value=total, line=3, column=17)\n",
      "Token(type=OP, value=+, line=3, column=23)\n",
      "Token(type=ID, value=price, line=3, column=25)\n",
      "Token(type=OP, value=*, line=3, column=31)\n",
      "Token(type=ID, value=quantity, line=3, column=33)\n",
      "Token(type=END, value=;, line=3, column=41)\n",
      "Token(type=ID, value=tax, line=4, column=8)\n",
      "Token(type=ASSIGN, value=:=, line=4, column=12)\n",
      "Token(type=ID, value=price, line=4, column=15)\n",
      "Token(type=OP, value=*, line=4, column=21)\n",
      "Token(type=NUMBER, value=0.05, line=4, column=23)\n",
      "Token(type=END, value=;, line=4, column=27)\n",
      "Token(type=ENDIF, value=ENDIF, line=5, column=4)\n",
      "Token(type=END, value=;, line=5, column=9)\n"
     ]
    }
   ],
   "source": [
    "for token in tokenize(statements):\n",
    "    print(token)"
   ]
  },
  {
   "cell_type": "markdown",
   "metadata": {},
   "source": [
    "<hr>"
   ]
  },
  {
   "cell_type": "markdown",
   "metadata": {},
   "source": [
    "<b style = 'color:red'>Solution:</b>"
   ]
  },
  {
   "cell_type": "code",
   "execution_count": null,
   "metadata": {},
   "outputs": [],
   "source": []
  },
  {
   "cell_type": "markdown",
   "metadata": {},
   "source": [
    "# VERBOSE Flag"
   ]
  },
  {
   "cell_type": "markdown",
   "metadata": {},
   "source": [
    "A verbose regular expression is different from a compact regular expression in two ways:\n",
    "\n",
    "* Whitespace is ignored. Spaces, tabs, and carriage returns are not matched as spaces, tabs, and carriage returns. They’re not matched at all. (If you want to match a space in a verbose regular expression, you’ll need to escape it by putting a backslash in front of it.)\n",
    "\n",
    "\n",
    "* Comments are ignored. A comment in a verbose regular expression is just like a comment in Python code: it starts with a # character and goes until the end of the line. In this case it’s a comment within a multi-line string instead of within your source code, but it works the same way."
   ]
  },
  {
   "cell_type": "code",
   "execution_count": 55,
   "metadata": {},
   "outputs": [],
   "source": [
    "regex = r'''\n",
    "^           #Beginning or the string\n",
    "[a-z ]*     #Some characters and space at the begining\n",
    "(?:1-)?     #check 1-, can have or do not have, do not capture this group\n",
    "\\(?(\\d+)\\)? #capture area code\n",
    "[ -.]       #separator\n",
    "(\\d+)       #capture trunk\n",
    "[ -.]       #separator\n",
    "(\\d+)       #capture the rest\n",
    "[a-z#-. ]*  #separator\n",
    "(\\d*)$      #extension\n",
    "'''"
   ]
  },
  {
   "cell_type": "markdown",
   "metadata": {},
   "source": [
    "**`flags = re.VERBOSE`**"
   ]
  },
  {
   "cell_type": "code",
   "execution_count": 56,
   "metadata": {},
   "outputs": [
    {
     "data": {
      "text/plain": [
       "('800', '555', '1212', '1234')"
      ]
     },
     "execution_count": 56,
     "metadata": {},
     "output_type": "execute_result"
    }
   ],
   "source": [
    "re.search(regex, 'work 1-(800) 555.1212 #1234', flags = re.VERBOSE).groups()"
   ]
  },
  {
   "cell_type": "markdown",
   "metadata": {},
   "source": [
    "# Replacement"
   ]
  },
  {
   "cell_type": "markdown",
   "metadata": {},
   "source": [
    "**`re.sub`**"
   ]
  },
  {
   "cell_type": "markdown",
   "metadata": {},
   "source": [
    "```python\n",
    "re.sub(pattern, repl, string, count=0, flags=0)\n",
    "\n",
    "----------\n",
    "Docstring:\n",
    "Return the string obtained by replacing the leftmost\n",
    "non-overlapping occurrences of the pattern in string by the\n",
    "replacement repl.  repl can be either a string or a callable;\n",
    "if a string, backslash escapes in it are processed.  If it is\n",
    "a callable, it's passed the Match object and must return\n",
    "a replacement string to be used.\n",
    "```"
   ]
  },
  {
   "cell_type": "code",
   "execution_count": 68,
   "metadata": {},
   "outputs": [
    {
     "data": {
      "text/plain": [
       "'VN Champions Son La TF VN Champions VN Champions'"
      ]
     },
     "execution_count": 68,
     "metadata": {},
     "output_type": "execute_result"
    }
   ],
   "source": [
    "#replace all matching with a string\n",
    "re.sub('VNC', 'VN Champions', 'VNC Son La TF VNC VNC')"
   ]
  },
  {
   "cell_type": "code",
   "execution_count": 70,
   "metadata": {},
   "outputs": [
    {
     "data": {
      "text/plain": [
       "'VN Champions Son La TF VNC VNC'"
      ]
     },
     "execution_count": 70,
     "metadata": {},
     "output_type": "execute_result"
    }
   ],
   "source": [
    "#replace maximum 1 first matching with a string\n",
    "re.sub('VNC', 'VN Champions', 'VNC Son La TF VNC VNC', count = 1)"
   ]
  },
  {
   "cell_type": "code",
   "execution_count": 71,
   "metadata": {},
   "outputs": [
    {
     "data": {
      "text/plain": [
       "'VN Champions Son La TF VN Champions VNC'"
      ]
     },
     "execution_count": 71,
     "metadata": {},
     "output_type": "execute_result"
    }
   ],
   "source": [
    "#replace maximum first 2 match with a string\n",
    "re.sub('VNC', 'VN Champions', 'VNC Son La TF VNC VNC', count = 2)"
   ]
  },
  {
   "cell_type": "markdown",
   "metadata": {},
   "source": [
    "<hr>"
   ]
  },
  {
   "cell_type": "markdown",
   "metadata": {},
   "source": [
    "replacement with back referenre"
   ]
  },
  {
   "cell_type": "code",
   "execution_count": 295,
   "metadata": {},
   "outputs": [
    {
     "data": {
      "text/plain": [
       "'VN Pikachu 31'"
      ]
     },
     "execution_count": 295,
     "metadata": {},
     "output_type": "execute_result"
    }
   ],
   "source": [
    "#swap position of level and player name\n",
    "re.sub('(\\d+)(\\s+)([\\w ]+)', r'\\3\\2\\1', '31 VN Pikachu')"
   ]
  },
  {
   "cell_type": "markdown",
   "metadata": {},
   "source": [
    "Write a Python program to convert a date of yyyy-mm-dd format to dd-mm-yyyy format"
   ]
  },
  {
   "cell_type": "code",
   "execution_count": 365,
   "metadata": {},
   "outputs": [
    {
     "data": {
      "text/plain": [
       "'06-10-2001'"
      ]
     },
     "execution_count": 365,
     "metadata": {},
     "output_type": "execute_result"
    }
   ],
   "source": [
    "re.sub('(\\d{4})-(\\d{2})-(\\d{2})', r'\\3-\\2-\\1', '2001-10-06')"
   ]
  },
  {
   "cell_type": "markdown",
   "metadata": {},
   "source": [
    "<hr>"
   ]
  },
  {
   "cell_type": "markdown",
   "metadata": {},
   "source": [
    "Using function replacement"
   ]
  },
  {
   "cell_type": "code",
   "execution_count": 64,
   "metadata": {},
   "outputs": [
    {
     "data": {
      "text/plain": [
       "'xXx-VNC-xXx Son La TF xXx-VNC-xXx'"
      ]
     },
     "execution_count": 64,
     "metadata": {},
     "output_type": "execute_result"
    }
   ],
   "source": [
    "#replace with a callback function\n",
    "re.sub('VNC', lambda reMatch: f'xXx-{reMatch.group()}-xXx', 'VNC Son La TF VNC')"
   ]
  },
  {
   "cell_type": "markdown",
   "metadata": {},
   "source": [
    "**`re.subn`**: like **`re.sub`** but return a tuple(new_string, number_of_substitution_was_made)."
   ]
  },
  {
   "cell_type": "markdown",
   "metadata": {},
   "source": [
    "```python\n",
    "re.subn(pattern, repl, string, count=0, flags=0)\n",
    "```"
   ]
  },
  {
   "cell_type": "code",
   "execution_count": 74,
   "metadata": {},
   "outputs": [
    {
     "data": {
      "text/plain": [
       "('VN Champions Son La TF VN Champions VNC', 2)"
      ]
     },
     "execution_count": 74,
     "metadata": {},
     "output_type": "execute_result"
    }
   ],
   "source": [
    "re.subn('VNC', 'VN Champions', 'VNC Son La TF VNC VNC', count = 2)"
   ]
  },
  {
   "cell_type": "code",
   "execution_count": 75,
   "metadata": {},
   "outputs": [
    {
     "data": {
      "text/plain": [
       "('VN Champions Son La TF', 1)"
      ]
     },
     "execution_count": 75,
     "metadata": {},
     "output_type": "execute_result"
    }
   ],
   "source": [
    "re.subn('VNC', 'VN Champions', 'VNC Son La TF', count = 2)"
   ]
  },
  {
   "cell_type": "code",
   "execution_count": 2,
   "metadata": {},
   "outputs": [],
   "source": [
    "import re\n",
    "from urllib.request import urlopen"
   ]
  },
  {
   "cell_type": "code",
   "execution_count": 5,
   "metadata": {},
   "outputs": [],
   "source": [
    "with urlopen('https://www.python-course.eu/simpsons_phone_book.txt') as file:\n",
    "    for line in file:\n",
    "        txt = line.decode('utf-8')"
   ]
  },
  {
   "cell_type": "markdown",
   "metadata": {},
   "source": [
    "<hr>"
   ]
  },
  {
   "cell_type": "markdown",
   "metadata": {},
   "source": [
    "### Exercise"
   ]
  },
  {
   "cell_type": "markdown",
   "metadata": {},
   "source": [
    "relplace camelCase to snake_case"
   ]
  },
  {
   "cell_type": "code",
   "execution_count": 369,
   "metadata": {},
   "outputs": [
    {
     "data": {
      "text/plain": [
       "'camel_case another_camel_case'"
      ]
     },
     "execution_count": 369,
     "metadata": {},
     "output_type": "execute_result"
    }
   ],
   "source": [
    "re.sub(r'([a-z])([A-Z])', lambda m: f'{m[1]}_{m[2].lower()}', 'camelCase anotherCamelCase')"
   ]
  },
  {
   "cell_type": "markdown",
   "metadata": {},
   "source": [
    "convert snake_case to camel_case"
   ]
  },
  {
   "cell_type": "code",
   "execution_count": 371,
   "metadata": {},
   "outputs": [
    {
     "data": {
      "text/plain": [
       "'snakeCase andAnotherSnakeCase'"
      ]
     },
     "execution_count": 371,
     "metadata": {},
     "output_type": "execute_result"
    }
   ],
   "source": [
    "re.sub(r'(\\w)_(\\w)', lambda m: f'{m[1]}{m[2].upper()}', 'snake_case and_another_snake_case')"
   ]
  },
  {
   "cell_type": "markdown",
   "metadata": {},
   "source": [
    "# Findall"
   ]
  },
  {
   "cell_type": "markdown",
   "metadata": {},
   "source": [
    "```python\n",
    "re.findall(pattern, string, flags=0)\n",
    "```"
   ]
  },
  {
   "cell_type": "code",
   "execution_count": 38,
   "metadata": {},
   "outputs": [
    {
     "data": {
      "text/plain": [
       "[('31', 'VN Pikachu'), ('34', 'Hadi'), ('30', 'Ben cut')]"
      ]
     },
     "execution_count": 38,
     "metadata": {},
     "output_type": "execute_result"
    }
   ],
   "source": [
    "#Captured group\n",
    "re.findall('(\\d+) ([\\w ]+)', '31 VN Pikachu, 34 Hadi, 30 Ben cut')"
   ]
  },
  {
   "cell_type": "markdown",
   "metadata": {},
   "source": [
    "<hr>"
   ]
  },
  {
   "cell_type": "markdown",
   "metadata": {},
   "source": [
    "**`re.finditer`**: Find all substrings where the RE matches, and returns them as an iterator.  \n",
    "Each element in the iterator is the Re.Match object of a captured group\n",
    "<p style = 'color:red'>\n",
    "    Using <b>re.finditer</b> when you are interested in the information of each captured group(e.g: span, start, end)\n",
    "</p>"
   ]
  },
  {
   "cell_type": "markdown",
   "metadata": {},
   "source": [
    "iterator = re.finditer(r'\\d+', '12 afda 32 32')\n",
    "iterator"
   ]
  },
  {
   "cell_type": "code",
   "execution_count": 42,
   "metadata": {},
   "outputs": [
    {
     "data": {
      "text/plain": [
       "callable_iterator"
      ]
     },
     "execution_count": 42,
     "metadata": {},
     "output_type": "execute_result"
    }
   ],
   "source": [
    "type(iterator)"
   ]
  },
  {
   "cell_type": "code",
   "execution_count": 43,
   "metadata": {},
   "outputs": [
    {
     "data": {
      "text/plain": [
       "<re.Match object; span=(0, 2), match='12'>"
      ]
     },
     "execution_count": 43,
     "metadata": {},
     "output_type": "execute_result"
    }
   ],
   "source": [
    "next(iterator)"
   ]
  },
  {
   "cell_type": "code",
   "execution_count": 44,
   "metadata": {},
   "outputs": [
    {
     "data": {
      "text/plain": [
       "<re.Match object; span=(8, 10), match='32'>"
      ]
     },
     "execution_count": 44,
     "metadata": {},
     "output_type": "execute_result"
    }
   ],
   "source": [
    "next(iterator)"
   ]
  },
  {
   "cell_type": "code",
   "execution_count": 45,
   "metadata": {},
   "outputs": [
    {
     "data": {
      "text/plain": [
       "<re.Match object; span=(11, 13), match='32'>"
      ]
     },
     "execution_count": 45,
     "metadata": {},
     "output_type": "execute_result"
    }
   ],
   "source": [
    "next(iterator)"
   ]
  },
  {
   "cell_type": "markdown",
   "metadata": {},
   "source": [
    "Find all abverts and their position in the text"
   ]
  },
  {
   "cell_type": "code",
   "execution_count": 97,
   "metadata": {},
   "outputs": [
    {
     "name": "stdout",
     "output_type": "stream",
     "text": [
      "carefully (7, 16)\n",
      "quickly (40, 47)\n"
     ]
    }
   ],
   "source": [
    "text = \"He was carefully disguised but captured quickly by police.\"\n",
    "for Match in re.finditer(r'(\\w+)ly', text):\n",
    "    print(Match.group(), Match.span())"
   ]
  },
  {
   "cell_type": "markdown",
   "metadata": {},
   "source": [
    "# Alternations"
   ]
  },
  {
   "cell_type": "code",
   "execution_count": 39,
   "metadata": {},
   "outputs": [],
   "source": [
    "pattern = re.compile(r'(VN Pikachu|Meomeo888) is the best')"
   ]
  },
  {
   "cell_type": "code",
   "execution_count": 40,
   "metadata": {},
   "outputs": [
    {
     "data": {
      "text/plain": [
       "<re.Match object; span=(0, 22), match='VN Pikachu is the best'>"
      ]
     },
     "execution_count": 40,
     "metadata": {},
     "output_type": "execute_result"
    }
   ],
   "source": [
    "pattern.search('VN Pikachu is the best')"
   ]
  },
  {
   "cell_type": "code",
   "execution_count": 41,
   "metadata": {},
   "outputs": [],
   "source": [
    "pattern.search('Tank Cao is the best')"
   ]
  },
  {
   "cell_type": "code",
   "execution_count": 42,
   "metadata": {},
   "outputs": [
    {
     "data": {
      "text/plain": [
       "<re.Match object; span=(0, 21), match='Meomeo888 is the best'>"
      ]
     },
     "execution_count": 42,
     "metadata": {},
     "output_type": "execute_result"
    }
   ],
   "source": [
    "pattern.search('Meomeo888 is the best')"
   ]
  },
  {
   "cell_type": "markdown",
   "metadata": {},
   "source": [
    "<hr>"
   ]
  },
  {
   "cell_type": "code",
   "execution_count": 47,
   "metadata": {},
   "outputs": [],
   "source": [
    "txt = '''\n",
    "From: VN pikachu\\n\n",
    "To: Tank Cao\\n\n",
    "Content: Congratulations\n",
    "'''"
   ]
  },
  {
   "cell_type": "code",
   "execution_count": 51,
   "metadata": {},
   "outputs": [
    {
     "data": {
      "text/plain": [
       "['VN pikachu', 'Tank Cao']"
      ]
     },
     "execution_count": 51,
     "metadata": {},
     "output_type": "execute_result"
    }
   ],
   "source": [
    "#match all user names\n",
    "re.findall('(?:^From:|^To:) ([\\w ]+)', txt, flags = re.MULTILINE) #^ here marks the begining, not negate."
   ]
  },
  {
   "cell_type": "markdown",
   "metadata": {},
   "source": [
    "# Flags"
   ]
  },
  {
   "cell_type": "code",
   "execution_count": 53,
   "metadata": {},
   "outputs": [
    {
     "data": {
      "text/plain": [
       "<re.Match object; span=(0, 10), match='VN Pikachu'>"
      ]
     },
     "execution_count": 53,
     "metadata": {},
     "output_type": "execute_result"
    }
   ],
   "source": [
    "#Ignore case matching\n",
    "re.search('vn PikaChu', 'VN Pikachu is the best', flags = re.I)"
   ]
  },
  {
   "cell_type": "markdown",
   "metadata": {},
   "source": [
    "Use bitwise XOR to allow multiple flags:"
   ]
  },
  {
   "cell_type": "code",
   "execution_count": 36,
   "metadata": {},
   "outputs": [
    {
     "data": {
      "text/plain": [
       "['pikachu', 'PiKachu']"
      ]
     },
     "execution_count": 36,
     "metadata": {},
     "output_type": "execute_result"
    }
   ],
   "source": [
    "s = re.compile(r'^pikachu', flags = re.I | re.MULTILINE) #ignorecase, multiline\n",
    "s.findall('pikachu11\\nPiKachu22')"
   ]
  },
  {
   "cell_type": "markdown",
   "metadata": {},
   "source": [
    "# Splitting"
   ]
  },
  {
   "cell_type": "markdown",
   "metadata": {},
   "source": [
    "```python\n",
    "re.split(pattern, string, maxsplit=0, flags=0)\n",
    "```"
   ]
  },
  {
   "cell_type": "code",
   "execution_count": 46,
   "metadata": {},
   "outputs": [],
   "source": [
    "s = '12aca13acd'"
   ]
  },
  {
   "cell_type": "code",
   "execution_count": 49,
   "metadata": {},
   "outputs": [
    {
     "data": {
      "text/plain": [
       "['', 'aca', 'acd']"
      ]
     },
     "execution_count": 49,
     "metadata": {},
     "output_type": "execute_result"
    }
   ],
   "source": [
    "re.split(r'\\d+', s)"
   ]
  },
  {
   "cell_type": "code",
   "execution_count": 174,
   "metadata": {},
   "outputs": [
    {
     "data": {
      "text/plain": [
       "['', '12', 'aca', '13', 'acd']"
      ]
     },
     "execution_count": 174,
     "metadata": {},
     "output_type": "execute_result"
    }
   ],
   "source": [
    "#to not remove delimiter, capture it\n",
    "re.split(r'(\\d+)', s)"
   ]
  }
 ],
 "metadata": {
  "kernelspec": {
   "display_name": "Python 3",
   "language": "python",
   "name": "python3"
  },
  "language_info": {
   "codemirror_mode": {
    "name": "ipython",
    "version": 3
   },
   "file_extension": ".py",
   "mimetype": "text/x-python",
   "name": "python",
   "nbconvert_exporter": "python",
   "pygments_lexer": "ipython3",
   "version": "3.7.9"
  }
 },
 "nbformat": 4,
 "nbformat_minor": 2
}
