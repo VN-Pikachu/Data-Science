{
 "cells": [
  {
   "cell_type": "markdown",
   "metadata": {},
   "source": [
    "# OS"
   ]
  },
  {
   "cell_type": "markdown",
   "metadata": {},
   "source": [
    "## directory and file manipulation"
   ]
  },
  {
   "cell_type": "code",
   "execution_count": 1,
   "metadata": {},
   "outputs": [],
   "source": [
    "import os"
   ]
  },
  {
   "cell_type": "code",
   "execution_count": 2,
   "metadata": {},
   "outputs": [
    {
     "data": {
      "text/plain": [
       "'C:\\\\Users\\\\dell\\\\Data Science\\\\Python'"
      ]
     },
     "execution_count": 2,
     "metadata": {},
     "output_type": "execute_result"
    }
   ],
   "source": [
    "#current directory\n",
    "os.getcwd()"
   ]
  },
  {
   "cell_type": "code",
   "execution_count": 6,
   "metadata": {},
   "outputs": [
    {
     "data": {
      "text/plain": [
       "'.'"
      ]
     },
     "execution_count": 6,
     "metadata": {},
     "output_type": "execute_result"
    }
   ],
   "source": [
    "os.curdir"
   ]
  },
  {
   "cell_type": "code",
   "execution_count": 5,
   "metadata": {},
   "outputs": [
    {
     "data": {
      "text/plain": [
       "['.ipynb_checkpoints',\n",
       " 'APIs',\n",
       " 'convention.ipynb',\n",
       " 'Deep Learning',\n",
       " 'Ensemble Learning',\n",
       " 'Hands on Machine Learning',\n",
       " 'Introduction to Machine Learning',\n",
       " 'Kaggle',\n",
       " 'Keras',\n",
       " 'LearningSource',\n",
       " 'Machine Learning (Python Data Science Handbook)',\n",
       " 'Matplotlib',\n",
       " 'Matplotlib cookbook',\n",
       " 'Numerical Programming',\n",
       " 'Python',\n",
       " 'Python for Data Analysis',\n",
       " 'python for data science',\n",
       " 'Untitled.ipynb']"
      ]
     },
     "execution_count": 5,
     "metadata": {},
     "output_type": "execute_result"
    }
   ],
   "source": [
    "#list a dir\n",
    "os.listdir(r'../') #go to Data Science Folder"
   ]
  },
  {
   "cell_type": "code",
   "execution_count": 14,
   "metadata": {},
   "outputs": [
    {
     "data": {
      "text/plain": [
       "True"
      ]
     },
     "execution_count": 14,
     "metadata": {},
     "output_type": "execute_result"
    }
   ],
   "source": [
    "#make a directory\n",
    "os.mkdir('os_directory')\n",
    "'os_directory' in os.listdir()"
   ]
  },
  {
   "cell_type": "code",
   "execution_count": 15,
   "metadata": {},
   "outputs": [],
   "source": [
    "#rename a directory\n",
    "os.rename('os_directory', 'os_toy_folder')"
   ]
  },
  {
   "cell_type": "markdown",
   "metadata": {},
   "source": [
    "```python\n",
    "#delete a file\n",
    "os.remove(file_name)\n",
    "```"
   ]
  },
  {
   "cell_type": "markdown",
   "metadata": {},
   "source": [
    "## os.path: path manipulation"
   ]
  },
  {
   "cell_type": "markdown",
   "metadata": {},
   "source": [
    "`os.path` provides common operations on pathnames"
   ]
  },
  {
   "cell_type": "code",
   "execution_count": 19,
   "metadata": {},
   "outputs": [
    {
     "data": {
      "text/plain": [
       "'C:\\\\Users\\\\dell\\\\Data Science\\\\Python\\\\tips.txt'"
      ]
     },
     "execution_count": 19,
     "metadata": {},
     "output_type": "execute_result"
    }
   ],
   "source": [
    "#get the absolute version of a path\n",
    "absolute_path = os.path.abspath('./tips.txt')\n",
    "absolute_path"
   ]
  },
  {
   "cell_type": "code",
   "execution_count": 22,
   "metadata": {},
   "outputs": [
    {
     "data": {
      "text/plain": [
       "('C:\\\\Users\\\\dell\\\\Data Science\\\\Python', 'tips.txt')"
      ]
     },
     "execution_count": 22,
     "metadata": {},
     "output_type": "execute_result"
    }
   ],
   "source": [
    "#Split a pathname.\n",
    "#Return tuple (head, tail) where tail is everything after the final slash. Either part may be empty.\n",
    "head, tail = os.path.split(absolute_path)\n",
    "head, tail"
   ]
  },
  {
   "cell_type": "code",
   "execution_count": 24,
   "metadata": {},
   "outputs": [
    {
     "data": {
      "text/plain": [
       "'C:\\\\Users\\\\dell\\\\Data Science\\\\Python\\\\sources.txt'"
      ]
     },
     "execution_count": 24,
     "metadata": {},
     "output_type": "execute_result"
    }
   ],
   "source": [
    "#join path\n",
    "os.path.join(head, 'sources.txt')"
   ]
  },
  {
   "cell_type": "code",
   "execution_count": 27,
   "metadata": {},
   "outputs": [
    {
     "data": {
      "text/plain": [
       "'C:\\\\Users\\\\dell\\\\Data Science\\\\Python'"
      ]
     },
     "execution_count": 27,
     "metadata": {},
     "output_type": "execute_result"
    }
   ],
   "source": [
    "# Returns the directory component of a pathname\n",
    "os.path.dirname(absolute_path)"
   ]
  },
  {
   "cell_type": "code",
   "execution_count": 29,
   "metadata": {},
   "outputs": [
    {
     "data": {
      "text/plain": [
       "'tips.txt'"
      ]
     },
     "execution_count": 29,
     "metadata": {},
     "output_type": "execute_result"
    }
   ],
   "source": [
    "#Returns the final component of a pathname\n",
    "os.path.basename(absolute_path)"
   ]
  },
  {
   "cell_type": "code",
   "execution_count": 32,
   "metadata": {},
   "outputs": [
    {
     "data": {
      "text/plain": [
       "('C:\\\\Users\\\\dell\\\\Data Science\\\\Python\\\\tips', '.txt')"
      ]
     },
     "execution_count": 32,
     "metadata": {},
     "output_type": "execute_result"
    }
   ],
   "source": [
    "#Split the extension from a pathname.\n",
    "#Extension is everything from the last dot to the end, ignoring leading dots.  Returns \"(root, ext)\"; ext may be empty.\n",
    "os.path.splitext(absolute_path)"
   ]
  },
  {
   "cell_type": "code",
   "execution_count": 37,
   "metadata": {},
   "outputs": [
    {
     "data": {
      "text/plain": [
       "True"
      ]
     },
     "execution_count": 37,
     "metadata": {},
     "output_type": "execute_result"
    }
   ],
   "source": [
    "#Test whether a path exists.  Returns False for broken symbolic links\n",
    "os.path.exists('sources.txt')"
   ]
  },
  {
   "cell_type": "code",
   "execution_count": 39,
   "metadata": {},
   "outputs": [
    {
     "data": {
      "text/plain": [
       "True"
      ]
     },
     "execution_count": 39,
     "metadata": {},
     "output_type": "execute_result"
    }
   ],
   "source": [
    "#Return true if the pathname refers to an existing directory.\n",
    "os.path.isdir('os_toy_folder')"
   ]
  },
  {
   "cell_type": "code",
   "execution_count": 40,
   "metadata": {},
   "outputs": [
    {
     "data": {
      "text/plain": [
       "False"
      ]
     },
     "execution_count": 40,
     "metadata": {},
     "output_type": "execute_result"
    }
   ],
   "source": [
    "os.path.isdir('tips.txt')"
   ]
  },
  {
   "cell_type": "code",
   "execution_count": 42,
   "metadata": {},
   "outputs": [
    {
     "data": {
      "text/plain": [
       "True"
      ]
     },
     "execution_count": 42,
     "metadata": {},
     "output_type": "execute_result"
    }
   ],
   "source": [
    "#Test whether a path is a regular file\n",
    "os.path.isfile('tips.txt')"
   ]
  },
  {
   "cell_type": "code",
   "execution_count": 43,
   "metadata": {},
   "outputs": [
    {
     "data": {
      "text/plain": [
       "False"
      ]
     },
     "execution_count": 43,
     "metadata": {},
     "output_type": "execute_result"
    }
   ],
   "source": [
    "os.path.isfile('os_toy_folder')"
   ]
  },
  {
   "cell_type": "markdown",
   "metadata": {},
   "source": [
    "## running external command"
   ]
  },
  {
   "cell_type": "code",
   "execution_count": 49,
   "metadata": {},
   "outputs": [
    {
     "data": {
      "text/plain": [
       "1"
      ]
     },
     "execution_count": 49,
     "metadata": {},
     "output_type": "execute_result"
    }
   ],
   "source": [
    "os.system('ls')"
   ]
  },
  {
   "cell_type": "markdown",
   "metadata": {},
   "source": [
    "# waling a directory"
   ]
  },
  {
   "cell_type": "code",
   "execution_count": 55,
   "metadata": {},
   "outputs": [
    {
     "name": "stdout",
     "output_type": "stream",
     "text": [
      ".\n",
      "['.ipynb_checkpoints', 'os_toy_folder', '__pycache__']\n",
      "['Abstract class.ipynb', 'cities_and_times.txt', 'city_time_storage.pkl', 'class and instance attribute.ipynb', 'class Creation.ipynb', 'Data Types and Variables.ipynb', 'Decorator.ipynb', 'Dict.ipynb', 'Draft.ipynb', 'ExceptionHandling.ipynb', 'File.ipynb', 'FileManagement', 'FilePointer', 'Format.ipynb', 'Fraction.ipynb', 'Function.ipynb', 'Generator.ipynb', 'Getter and Setter.ipynb', 'Inheritance.ipynb', 'Iterator.ipynb', 'List.ipynb', 'Magic Method.ipynb', 'MetaClass.ipynb', 'Module.py', 'OOP.ipynb', 'Pack and Unpack.ipynb', 'Regex.ipynb', 'Reusing code.ipynb', 'review.ipynb', 'Scope.ipynb', 'script.py', 'Sets and Frozen Sets.ipynb', 'slot.ipynb', 'sources.txt', 'Standarad Library.ipynb', 'storage.pkl', 'String.ipynb', 'tips.txt', 'zip.ipynb']\n",
      "----------------------------------------------------------------------------------------------------\n",
      ".\\.ipynb_checkpoints\n",
      "[]\n",
      "['Abstract class-checkpoint.ipynb', 'class and instance attribute-checkpoint.ipynb', 'class Creation-checkpoint.ipynb', 'Data Types and Variables-checkpoint.ipynb', 'Decorator-checkpoint.ipynb', 'Dict-checkpoint.ipynb', 'Draft-checkpoint.ipynb', 'ExceptionHandling-checkpoint.ipynb', 'File-checkpoint.ipynb', 'Format-checkpoint.ipynb', 'Fraction-checkpoint.ipynb', 'Function-checkpoint.ipynb', 'Generator-checkpoint.ipynb', 'Getter and Setter-checkpoint.ipynb', 'Inheritance-checkpoint.ipynb', 'Iterator-checkpoint.ipynb', 'List-checkpoint.ipynb', 'Magic Method-checkpoint.ipynb', 'MetaClass-checkpoint.ipynb', 'OOP-checkpoint.ipynb', 'Pack and Unpack-checkpoint.ipynb', 'Regex-checkpoint.ipynb', 'Reusing code-checkpoint.ipynb', 'review-checkpoint.ipynb', 'Scope-checkpoint.ipynb', 'Sets and Frozen Sets-checkpoint.ipynb', 'slot-checkpoint.ipynb', 'Standarad Library-checkpoint.ipynb', 'String-checkpoint.ipynb', 'zip-checkpoint.ipynb']\n",
      "----------------------------------------------------------------------------------------------------\n",
      ".\\os_toy_folder\n",
      "[]\n",
      "[]\n",
      "----------------------------------------------------------------------------------------------------\n",
      ".\\__pycache__\n",
      "[]\n",
      "['Module.cpython-37.pyc']\n",
      "----------------------------------------------------------------------------------------------------\n"
     ]
    }
   ],
   "source": [
    "for dirpath, dirnames, filenames in os.walk(os.curdir):\n",
    "    print(dirpath)\n",
    "    print(dirnames)\n",
    "    print(filenames)\n",
    "    print('-' * 100)"
   ]
  },
  {
   "cell_type": "markdown",
   "metadata": {},
   "source": [
    "## Environment variables"
   ]
  },
  {
   "cell_type": "code",
   "execution_count": 56,
   "metadata": {},
   "outputs": [
    {
     "data": {
      "text/plain": [
       "KeysView(environ({'ALLUSERSPROFILE': 'C:\\\\ProgramData', 'APPDATA': 'C:\\\\Users\\\\dell\\\\AppData\\\\Roaming', 'COMMONPROGRAMFILES': 'C:\\\\Program Files\\\\Common Files', 'COMMONPROGRAMFILES(X86)': 'C:\\\\Program Files (x86)\\\\Common Files', 'COMMONPROGRAMW6432': 'C:\\\\Program Files\\\\Common Files', 'COMPUTERNAME': 'DESKTOP-RHOUP1R', 'COMSPEC': 'C:\\\\WINDOWS\\\\system32\\\\cmd.exe', 'DRIVERDATA': 'C:\\\\Windows\\\\System32\\\\Drivers\\\\DriverData', 'FPS_BROWSER_APP_PROFILE_STRING': 'Internet Explorer', 'FPS_BROWSER_USER_PROFILE_STRING': 'Default', 'GOOGLE_API_KEY': 'no', 'GOOGLE_DEFAULT_CLIENT_ID': 'no', 'GOOGLE_DEFAULT_CLIENT_SECRET': 'no', 'HOMEDRIVE': 'C:', 'HOMEPATH': '\\\\Users\\\\dell', 'LOCALAPPDATA': 'C:\\\\Users\\\\dell\\\\AppData\\\\Local', 'LOGONSERVER': '\\\\\\\\DESKTOP-RHOUP1R', 'NUMBER_OF_PROCESSORS': '8', 'ONEDRIVE': 'C:\\\\Users\\\\dell\\\\OneDrive', 'ONEDRIVECONSUMER': 'C:\\\\Users\\\\dell\\\\OneDrive', 'OS': 'Windows_NT', 'PATH': 'C:\\\\Users\\\\dell\\\\Anaconda3;C:\\\\Users\\\\dell\\\\Anaconda3\\\\Library\\\\mingw-w64\\\\bin;C:\\\\Users\\\\dell\\\\Anaconda3\\\\Library\\\\usr\\\\bin;C:\\\\Users\\\\dell\\\\Anaconda3\\\\Library\\\\bin;C:\\\\Users\\\\dell\\\\Anaconda3\\\\Scripts;C:\\\\Windows\\\\System32;C:\\\\Windows\\\\;C:\\\\Windows\\\\SysWOW64;;%SystemRoot%\\\\system32;%SystemRoot%;%SystemRoot%\\\\System32\\\\Wbem;%SYSTEMROOT%\\\\System32\\\\WindowsPowerShell\\\\v1.0\\\\;%SYSTEMROOT%\\\\System32\\\\OpenSSH\\\\;C:\\\\Users\\\\dell\\\\PyCharm Community Edition with Anaconda plugin 2019.2\\\\bin;;C:\\\\Users\\\\dell\\\\Anaconda3\\\\envs\\\\MachineLearning;;C:\\\\Users\\\\dell\\\\AppData\\\\Local\\\\Microsoft\\\\WindowsApps', 'PATHEXT': '.COM;.EXE;.BAT;.CMD;.VBS;.VBE;.JS;.JSE;.WSF;.WSH;.MSC', 'PROCESSOR_ARCHITECTURE': 'AMD64', 'PROCESSOR_IDENTIFIER': 'Intel64 Family 6 Model 142 Stepping 12, GenuineIntel', 'PROCESSOR_LEVEL': '6', 'PROCESSOR_REVISION': '8e0c', 'PROGRAMDATA': 'C:\\\\ProgramData', 'PROGRAMFILES': 'C:\\\\Program Files', 'PROGRAMFILES(X86)': 'C:\\\\Program Files (x86)', 'PROGRAMW6432': 'C:\\\\Program Files', 'PSMODULEPATH': 'C:\\\\Program Files\\\\WindowsPowerShell\\\\Modules;C:\\\\WINDOWS\\\\system32\\\\WindowsPowerShell\\\\v1.0\\\\Modules', 'PUBLIC': 'C:\\\\Users\\\\Public', 'PYCHARM COMMUNITY EDITION WITH ANACONDA PLUGIN': 'C:\\\\Users\\\\dell\\\\PyCharm Community Edition with Anaconda plugin 2019.2\\\\bin;', 'SESSIONNAME': 'Console', 'SYSTEMDRIVE': 'C:', 'SYSTEMROOT': 'C:\\\\WINDOWS', 'TEMP': 'C:\\\\Users\\\\dell\\\\AppData\\\\Local\\\\Temp', 'TMP': 'C:\\\\Users\\\\dell\\\\AppData\\\\Local\\\\Temp', 'USERDOMAIN': 'DESKTOP-RHOUP1R', 'USERDOMAIN_ROAMINGPROFILE': 'DESKTOP-RHOUP1R', 'USERNAME': 'dell', 'USERPROFILE': 'C:\\\\Users\\\\dell', 'WINDIR': 'C:\\\\WINDOWS', 'CONDA_PREFIX': 'C:\\\\Users\\\\dell\\\\Anaconda3', 'KERNEL_LAUNCH_TIMEOUT': '40', 'JPY_INTERRUPT_EVENT': '4324', 'IPY_INTERRUPT_EVENT': '4324', 'JPY_PARENT_PID': '4496', 'TERM': 'xterm-color', 'CLICOLOR': '1', 'PAGER': 'cat', 'GIT_PAGER': 'cat', 'MPLBACKEND': 'module://ipykernel.pylab.backend_inline'}))"
      ]
     },
     "execution_count": 56,
     "metadata": {},
     "output_type": "execute_result"
    }
   ],
   "source": [
    "os.environ.keys()"
   ]
  },
  {
   "cell_type": "markdown",
   "metadata": {},
   "source": [
    "# shutil: high-level file operations"
   ]
  },
  {
   "cell_type": "code",
   "execution_count": 59,
   "metadata": {},
   "outputs": [],
   "source": [
    "import shutil"
   ]
  },
  {
   "cell_type": "markdown",
   "metadata": {},
   "source": [
    "The shutil provides useful file operations:\n",
    "\n",
    "* **`shutil.rmtree`**: Recursively delete a directory tree.\n",
    "* **`shutil.move`**: Recursively move a file or directory to another location.\n",
    "* **`shutil.copy`**: Copy files or directories."
   ]
  },
  {
   "cell_type": "markdown",
   "metadata": {},
   "source": [
    "# glob: pattern matching on files"
   ]
  },
  {
   "cell_type": "code",
   "execution_count": 58,
   "metadata": {},
   "outputs": [],
   "source": [
    "import glob"
   ]
  },
  {
   "cell_type": "code",
   "execution_count": 60,
   "metadata": {},
   "outputs": [
    {
     "data": {
      "text/plain": [
       "['Abstract class.ipynb',\n",
       " 'class and instance attribute.ipynb',\n",
       " 'class Creation.ipynb',\n",
       " 'Data Types and Variables.ipynb',\n",
       " 'Decorator.ipynb',\n",
       " 'Dict.ipynb',\n",
       " 'Draft.ipynb',\n",
       " 'ExceptionHandling.ipynb',\n",
       " 'File.ipynb',\n",
       " 'Format.ipynb',\n",
       " 'Fraction.ipynb',\n",
       " 'Function.ipynb',\n",
       " 'Generator.ipynb',\n",
       " 'Getter and Setter.ipynb',\n",
       " 'Inheritance.ipynb',\n",
       " 'Iterator.ipynb',\n",
       " 'List.ipynb',\n",
       " 'Magic Method.ipynb',\n",
       " 'MetaClass.ipynb',\n",
       " 'OOP.ipynb',\n",
       " 'Pack and Unpack.ipynb',\n",
       " 'Regex.ipynb',\n",
       " 'Reusing code.ipynb',\n",
       " 'review.ipynb',\n",
       " 'Scope.ipynb',\n",
       " 'Sets and Frozen Sets.ipynb',\n",
       " 'slot.ipynb',\n",
       " 'Standarad Library.ipynb',\n",
       " 'String.ipynb',\n",
       " 'zip.ipynb']"
      ]
     },
     "execution_count": 60,
     "metadata": {},
     "output_type": "execute_result"
    }
   ],
   "source": [
    "glob.glob('*.ipynb')"
   ]
  },
  {
   "cell_type": "markdown",
   "metadata": {},
   "source": [
    "# sys module: system specific information"
   ]
  },
  {
   "cell_type": "code",
   "execution_count": 61,
   "metadata": {},
   "outputs": [],
   "source": [
    "import sys"
   ]
  },
  {
   "cell_type": "markdown",
   "metadata": {},
   "source": [
    "System-specific information related to the Python interpreter."
   ]
  },
  {
   "cell_type": "code",
   "execution_count": 62,
   "metadata": {},
   "outputs": [
    {
     "data": {
      "text/plain": [
       "'3.7.3 (default, Apr 24 2019, 15:29:51) [MSC v.1915 64 bit (AMD64)]'"
      ]
     },
     "execution_count": 62,
     "metadata": {},
     "output_type": "execute_result"
    }
   ],
   "source": [
    "sys.version"
   ]
  },
  {
   "cell_type": "code",
   "execution_count": 64,
   "metadata": {},
   "outputs": [
    {
     "data": {
      "text/plain": [
       "'win32'"
      ]
     },
     "execution_count": 64,
     "metadata": {},
     "output_type": "execute_result"
    }
   ],
   "source": [
    "sys.platform"
   ]
  },
  {
   "cell_type": "code",
   "execution_count": 65,
   "metadata": {},
   "outputs": [
    {
     "data": {
      "text/plain": [
       "'C:\\\\Users\\\\dell\\\\Anaconda3'"
      ]
     },
     "execution_count": 65,
     "metadata": {},
     "output_type": "execute_result"
    }
   ],
   "source": [
    "sys.prefix"
   ]
  },
  {
   "cell_type": "code",
   "execution_count": 67,
   "metadata": {},
   "outputs": [
    {
     "data": {
      "text/plain": [
       "['C:\\\\Users\\\\dell\\\\Anaconda3\\\\lib\\\\site-packages\\\\ipykernel_launcher.py',\n",
       " '-f',\n",
       " 'C:\\\\Users\\\\dell\\\\AppData\\\\Roaming\\\\jupyter\\\\runtime\\\\kernel-31a21b04-9985-4800-afcd-86b29cea52d4.json']"
      ]
     },
     "execution_count": 67,
     "metadata": {},
     "output_type": "execute_result"
    }
   ],
   "source": [
    "# List of command line arguments passed to a Python script:\n",
    "sys.argv"
   ]
  },
  {
   "cell_type": "code",
   "execution_count": 68,
   "metadata": {},
   "outputs": [
    {
     "data": {
      "text/plain": [
       "['C:\\\\Users\\\\dell\\\\Data Science\\\\Python',\n",
       " 'C:\\\\Users\\\\dell\\\\Anaconda3\\\\python37.zip',\n",
       " 'C:\\\\Users\\\\dell\\\\Anaconda3\\\\DLLs',\n",
       " 'C:\\\\Users\\\\dell\\\\Anaconda3\\\\lib',\n",
       " 'C:\\\\Users\\\\dell\\\\Anaconda3',\n",
       " '',\n",
       " 'C:\\\\Users\\\\dell\\\\Anaconda3\\\\lib\\\\site-packages',\n",
       " 'C:\\\\Users\\\\dell\\\\Anaconda3\\\\lib\\\\site-packages\\\\win32',\n",
       " 'C:\\\\Users\\\\dell\\\\Anaconda3\\\\lib\\\\site-packages\\\\win32\\\\lib',\n",
       " 'C:\\\\Users\\\\dell\\\\Anaconda3\\\\lib\\\\site-packages\\\\Pythonwin',\n",
       " 'C:\\\\Users\\\\dell\\\\Anaconda3\\\\lib\\\\site-packages\\\\IPython\\\\extensions',\n",
       " 'C:\\\\Users\\\\dell\\\\.ipython']"
      ]
     },
     "execution_count": 68,
     "metadata": {},
     "output_type": "execute_result"
    }
   ],
   "source": [
    "#sys.path is a list of strings that specifies the search path for modules. Initialized from PYTHONPATH:\n",
    "sys.path"
   ]
  },
  {
   "cell_type": "markdown",
   "metadata": {},
   "source": [
    "# Pickle"
   ]
  },
  {
   "cell_type": "markdown",
   "metadata": {},
   "source": [
    "Useful to store arbitrary objects to a file. Not safe or fast!"
   ]
  },
  {
   "cell_type": "code",
   "execution_count": 74,
   "metadata": {},
   "outputs": [
    {
     "ename": "TypeError",
     "evalue": "'NoneType' object is not iterable",
     "output_type": "error",
     "traceback": [
      "\u001b[1;31m---------------------------------------------------------------------------\u001b[0m",
      "\u001b[1;31mTypeError\u001b[0m                                 Traceback (most recent call last)",
      "\u001b[1;32m<ipython-input-74-2fca5275792b>\u001b[0m in \u001b[0;36m<module>\u001b[1;34m\u001b[0m\n\u001b[0;32m      1\u001b[0m \u001b[1;32mimport\u001b[0m \u001b[0mnumpy\u001b[0m \u001b[1;32mas\u001b[0m \u001b[0mnp\u001b[0m\u001b[1;33m\u001b[0m\u001b[1;33m\u001b[0m\u001b[0m\n\u001b[1;32m----> 2\u001b[1;33m \u001b[0mnp\u001b[0m\u001b[1;33m.\u001b[0m\u001b[0mlookfor\u001b[0m\u001b[1;33m(\u001b[0m\u001b[1;34m'convolution'\u001b[0m\u001b[1;33m)\u001b[0m\u001b[1;33m\u001b[0m\u001b[1;33m\u001b[0m\u001b[0m\n\u001b[0m",
      "\u001b[1;32m~\\Anaconda3\\lib\\site-packages\\numpy\\lib\\utils.py\u001b[0m in \u001b[0;36mlookfor\u001b[1;34m(what, module, import_modules, regenerate, output)\u001b[0m\n\u001b[0;32m    749\u001b[0m \u001b[1;33m\u001b[0m\u001b[0m\n\u001b[0;32m    750\u001b[0m     \u001b[1;31m# Cache\u001b[0m\u001b[1;33m\u001b[0m\u001b[1;33m\u001b[0m\u001b[1;33m\u001b[0m\u001b[0m\n\u001b[1;32m--> 751\u001b[1;33m     \u001b[0mcache\u001b[0m \u001b[1;33m=\u001b[0m \u001b[0m_lookfor_generate_cache\u001b[0m\u001b[1;33m(\u001b[0m\u001b[0mmodule\u001b[0m\u001b[1;33m,\u001b[0m \u001b[0mimport_modules\u001b[0m\u001b[1;33m,\u001b[0m \u001b[0mregenerate\u001b[0m\u001b[1;33m)\u001b[0m\u001b[1;33m\u001b[0m\u001b[1;33m\u001b[0m\u001b[0m\n\u001b[0m\u001b[0;32m    752\u001b[0m \u001b[1;33m\u001b[0m\u001b[0m\n\u001b[0;32m    753\u001b[0m     \u001b[1;31m# Search\u001b[0m\u001b[1;33m\u001b[0m\u001b[1;33m\u001b[0m\u001b[1;33m\u001b[0m\u001b[0m\n",
      "\u001b[1;32m~\\Anaconda3\\lib\\site-packages\\numpy\\lib\\utils.py\u001b[0m in \u001b[0;36m_lookfor_generate_cache\u001b[1;34m(module, import_modules, regenerate)\u001b[0m\n\u001b[0;32m    901\u001b[0m             \u001b[1;31m# import sub-packages\u001b[0m\u001b[1;33m\u001b[0m\u001b[1;33m\u001b[0m\u001b[1;33m\u001b[0m\u001b[0m\n\u001b[0;32m    902\u001b[0m             \u001b[1;32mif\u001b[0m \u001b[0mimport_modules\u001b[0m \u001b[1;32mand\u001b[0m \u001b[0mhasattr\u001b[0m\u001b[1;33m(\u001b[0m\u001b[0mitem\u001b[0m\u001b[1;33m,\u001b[0m \u001b[1;34m'__path__'\u001b[0m\u001b[1;33m)\u001b[0m\u001b[1;33m:\u001b[0m\u001b[1;33m\u001b[0m\u001b[1;33m\u001b[0m\u001b[0m\n\u001b[1;32m--> 903\u001b[1;33m                 \u001b[1;32mfor\u001b[0m \u001b[0mpth\u001b[0m \u001b[1;32min\u001b[0m \u001b[0mitem\u001b[0m\u001b[1;33m.\u001b[0m\u001b[0m__path__\u001b[0m\u001b[1;33m:\u001b[0m\u001b[1;33m\u001b[0m\u001b[1;33m\u001b[0m\u001b[0m\n\u001b[0m\u001b[0;32m    904\u001b[0m                     \u001b[1;32mfor\u001b[0m \u001b[0mmod_path\u001b[0m \u001b[1;32min\u001b[0m \u001b[0mos\u001b[0m\u001b[1;33m.\u001b[0m\u001b[0mlistdir\u001b[0m\u001b[1;33m(\u001b[0m\u001b[0mpth\u001b[0m\u001b[1;33m)\u001b[0m\u001b[1;33m:\u001b[0m\u001b[1;33m\u001b[0m\u001b[1;33m\u001b[0m\u001b[0m\n\u001b[0;32m    905\u001b[0m                         \u001b[0mthis_py\u001b[0m \u001b[1;33m=\u001b[0m \u001b[0mos\u001b[0m\u001b[1;33m.\u001b[0m\u001b[0mpath\u001b[0m\u001b[1;33m.\u001b[0m\u001b[0mjoin\u001b[0m\u001b[1;33m(\u001b[0m\u001b[0mpth\u001b[0m\u001b[1;33m,\u001b[0m \u001b[0mmod_path\u001b[0m\u001b[1;33m)\u001b[0m\u001b[1;33m\u001b[0m\u001b[1;33m\u001b[0m\u001b[0m\n",
      "\u001b[1;31mTypeError\u001b[0m: 'NoneType' object is not iterable"
     ]
    }
   ],
   "source": [
    "import numpy as np\n",
    "np.lookfor('convolution')"
   ]
  },
  {
   "cell_type": "code",
   "execution_count": null,
   "metadata": {},
   "outputs": [],
   "source": []
  }
 ],
 "metadata": {
  "kernelspec": {
   "display_name": "Python 3",
   "language": "python",
   "name": "python3"
  },
  "language_info": {
   "codemirror_mode": {
    "name": "ipython",
    "version": 3
   },
   "file_extension": ".py",
   "mimetype": "text/x-python",
   "name": "python",
   "nbconvert_exporter": "python",
   "pygments_lexer": "ipython3",
   "version": "3.7.9"
  }
 },
 "nbformat": 4,
 "nbformat_minor": 2
}
