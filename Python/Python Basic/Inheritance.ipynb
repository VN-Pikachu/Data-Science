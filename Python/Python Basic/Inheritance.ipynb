{
 "cells": [
  {
   "cell_type": "markdown",
   "metadata": {},
   "source": [
    "# Inheritance"
   ]
  },
  {
   "cell_type": "code",
   "execution_count": 1,
   "metadata": {},
   "outputs": [],
   "source": [
    "class A:\n",
    "    password = 'Joker' #class attribute\n",
    "    def __init__(self, name):\n",
    "        self.name = name #instance attribute\n",
    "    def greet(self):\n",
    "        print(f'Hello {self.name}')"
   ]
  },
  {
   "cell_type": "code",
   "execution_count": 2,
   "metadata": {},
   "outputs": [],
   "source": [
    "class B(A):\n",
    "    pass"
   ]
  },
  {
   "cell_type": "code",
   "execution_count": 3,
   "metadata": {},
   "outputs": [
    {
     "name": "stdout",
     "output_type": "stream",
     "text": [
      "Hello VN Pikachu\n"
     ]
    }
   ],
   "source": [
    "class_b = B('VN Pikachu')\n",
    "class_b.greet()"
   ]
  },
  {
   "cell_type": "markdown",
   "metadata": {},
   "source": [
    "# Overriding"
   ]
  },
  {
   "cell_type": "code",
   "execution_count": 4,
   "metadata": {},
   "outputs": [],
   "source": [
    "class C(A):\n",
    "    def greet(self):\n",
    "        print(f'Mother fucker you, {self.name}')"
   ]
  },
  {
   "cell_type": "code",
   "execution_count": 5,
   "metadata": {},
   "outputs": [
    {
     "name": "stdout",
     "output_type": "stream",
     "text": [
      "Mother fucker you, Saklo Patel\n"
     ]
    }
   ],
   "source": [
    "class_c = C('Saklo Patel')\n",
    "class_c.greet()"
   ]
  },
  {
   "cell_type": "markdown",
   "metadata": {},
   "source": [
    "when overriding, the original method can still be accessed, but we have to do it by calling the method directly with class name:"
   ]
  },
  {
   "cell_type": "code",
   "execution_count": 6,
   "metadata": {},
   "outputs": [
    {
     "name": "stdout",
     "output_type": "stream",
     "text": [
      "Hello Saklo Patel\n"
     ]
    }
   ],
   "source": [
    "A.greet(class_c)"
   ]
  },
  {
   "cell_type": "markdown",
   "metadata": {},
   "source": [
    "let's reuse, then override the greet method:"
   ]
  },
  {
   "cell_type": "code",
   "execution_count": 7,
   "metadata": {},
   "outputs": [],
   "source": [
    "class D(A):\n",
    "    def greet(self):\n",
    "        A.greet(self)\n",
    "        print('overriding by reusing the original method')"
   ]
  },
  {
   "cell_type": "code",
   "execution_count": 8,
   "metadata": {},
   "outputs": [
    {
     "name": "stdout",
     "output_type": "stream",
     "text": [
      "Hello Tank Cao\n",
      "overriding by reusing the original method\n"
     ]
    }
   ],
   "source": [
    "class_d = D('Tank Cao')\n",
    "class_d.greet()"
   ]
  },
  {
   "cell_type": "markdown",
   "metadata": {},
   "source": [
    "# Example"
   ]
  },
  {
   "cell_type": "code",
   "execution_count": 9,
   "metadata": {},
   "outputs": [],
   "source": [
    "import random"
   ]
  },
  {
   "cell_type": "code",
   "execution_count": 10,
   "metadata": {},
   "outputs": [],
   "source": [
    "class Robot:\n",
    "    health_level = 0.6\n",
    "    forbidden_names = ['VN Pikachu', 'Tank Cao']\n",
    "    def __init__(self, name):\n",
    "        self.name = name\n",
    "        self.health = random.random()\n",
    "    @property\n",
    "    def name(self):\n",
    "        return self.__name\n",
    "    @name.setter\n",
    "    def name(self, name):\n",
    "        if name in Robot.forbidden_names:\n",
    "            self.__name = 'Guest'\n",
    "        else:\n",
    "            self.__name = name\n",
    "    def __add__(self, other):\n",
    "        return type(self)(self.name + '-' + other.name)\n",
    "    def __str__(self):\n",
    "        return f'Robot: {self.name}'\n",
    "    def needs_a_nurse(self):\n",
    "        return self.health <= Robot.health_level\n",
    "    def say_hi(self):\n",
    "        print(f'Hi, I am {self.name} with health of {self.health}')"
   ]
  },
  {
   "cell_type": "code",
   "execution_count": 11,
   "metadata": {},
   "outputs": [],
   "source": [
    "first_generation = (\n",
    "Robot('VN Pikachu'), Robot('Monkey'), Robot('Zabrah'))"
   ]
  },
  {
   "cell_type": "code",
   "execution_count": 12,
   "metadata": {},
   "outputs": [
    {
     "data": {
      "text/plain": [
       "'Guest'"
      ]
     },
     "execution_count": 12,
     "metadata": {},
     "output_type": "execute_result"
    }
   ],
   "source": [
    "first_generation[0].name"
   ]
  },
  {
   "cell_type": "code",
   "execution_count": 13,
   "metadata": {},
   "outputs": [
    {
     "data": {
      "text/plain": [
       "'Monkey'"
      ]
     },
     "execution_count": 13,
     "metadata": {},
     "output_type": "execute_result"
    }
   ],
   "source": [
    "first_generation[1].name"
   ]
  },
  {
   "cell_type": "code",
   "execution_count": 14,
   "metadata": {},
   "outputs": [
    {
     "name": "stdout",
     "output_type": "stream",
     "text": [
      "Hi, I am Guest with health of 0.5587474014384481\n"
     ]
    }
   ],
   "source": [
    "first_generation[0].say_hi()"
   ]
  },
  {
   "cell_type": "code",
   "execution_count": 15,
   "metadata": {},
   "outputs": [
    {
     "name": "stdout",
     "output_type": "stream",
     "text": [
      "Hi, I am Monkey with health of 0.6435086933430876\n"
     ]
    }
   ],
   "source": [
    "first_generation[1].say_hi()"
   ]
  },
  {
   "cell_type": "code",
   "execution_count": 16,
   "metadata": {},
   "outputs": [
    {
     "data": {
      "text/plain": [
       "True"
      ]
     },
     "execution_count": 16,
     "metadata": {},
     "output_type": "execute_result"
    }
   ],
   "source": [
    "first_generation[0].needs_a_nurse()"
   ]
  },
  {
   "cell_type": "code",
   "execution_count": 17,
   "metadata": {},
   "outputs": [
    {
     "data": {
      "text/plain": [
       "False"
      ]
     },
     "execution_count": 17,
     "metadata": {},
     "output_type": "execute_result"
    }
   ],
   "source": [
    "first_generation[1].needs_a_nurse()"
   ]
  },
  {
   "cell_type": "code",
   "execution_count": 18,
   "metadata": {},
   "outputs": [
    {
     "name": "stdout",
     "output_type": "stream",
     "text": [
      "Guest-Monkey\n",
      "Hi, I am Guest-Monkey with health of 0.7144289970721349\n",
      "Monkey-Zabrah\n",
      "Hi, I am Monkey-Zabrah with health of 0.9828428313429468\n",
      "Guest-Monkey-Monkey-Zabrah\n",
      "Hi, I am Guest-Monkey-Monkey-Zabrah with health of 0.6926467497069718\n"
     ]
    }
   ],
   "source": [
    "gen1 = first_generation\n",
    "babies = [gen1[0] + gen1[1], gen1[1] + gen1[2]]\n",
    "babies.append(babies[0] + babies[1])\n",
    "\n",
    "for baby in babies:\n",
    "    print(baby.name)\n",
    "    baby.say_hi()"
   ]
  },
  {
   "cell_type": "code",
   "execution_count": 19,
   "metadata": {},
   "outputs": [],
   "source": [
    "class NursingRobot(Robot):\n",
    "    def __init__(self, name, healing_power = 0.8):\n",
    "        super().__init__(name)\n",
    "    def say_hi(self):\n",
    "        print(f'I am {self.name}, everything will be ok!')\n",
    "    def say_hi_to_doc(self):\n",
    "        Robot.say_hi(self)\n",
    "    def heal(self, target):\n",
    "        target.health = max(target.health, self.healing_power)\n",
    "        print('Action completed!')"
   ]
  },
  {
   "cell_type": "code",
   "execution_count": 20,
   "metadata": {},
   "outputs": [],
   "source": [
    "nurse1 = NursingRobot('Tank Cao')\n",
    "nurse2 = NursingRobot('Meomeo888')"
   ]
  },
  {
   "cell_type": "code",
   "execution_count": 21,
   "metadata": {},
   "outputs": [
    {
     "data": {
      "text/plain": [
       "'Guest'"
      ]
     },
     "execution_count": 21,
     "metadata": {},
     "output_type": "execute_result"
    }
   ],
   "source": [
    "nurse1.name"
   ]
  },
  {
   "cell_type": "code",
   "execution_count": 22,
   "metadata": {},
   "outputs": [
    {
     "data": {
      "text/plain": [
       "'Meomeo888'"
      ]
     },
     "execution_count": 22,
     "metadata": {},
     "output_type": "execute_result"
    }
   ],
   "source": [
    "nurse2.name"
   ]
  },
  {
   "cell_type": "code",
   "execution_count": 23,
   "metadata": {},
   "outputs": [
    {
     "name": "stdout",
     "output_type": "stream",
     "text": [
      "I am Guest, everything will be ok!\n"
     ]
    }
   ],
   "source": [
    "nurse1.say_hi()"
   ]
  },
  {
   "cell_type": "code",
   "execution_count": 24,
   "metadata": {},
   "outputs": [
    {
     "name": "stdout",
     "output_type": "stream",
     "text": [
      "I am Meomeo888, everything will be ok!\n"
     ]
    }
   ],
   "source": [
    "nurse2.say_hi()"
   ]
  },
  {
   "cell_type": "code",
   "execution_count": 25,
   "metadata": {},
   "outputs": [
    {
     "name": "stdout",
     "output_type": "stream",
     "text": [
      "Hi, I am Guest with health of 0.35822439246741056\n"
     ]
    }
   ],
   "source": [
    "nurse1.say_hi_to_doc()"
   ]
  },
  {
   "cell_type": "code",
   "execution_count": 26,
   "metadata": {},
   "outputs": [
    {
     "name": "stdout",
     "output_type": "stream",
     "text": [
      "Hi, I am Meomeo888 with health of 0.13655641886231107\n"
     ]
    }
   ],
   "source": [
    "nurse2.say_hi_to_doc()"
   ]
  },
  {
   "cell_type": "code",
   "execution_count": 27,
   "metadata": {},
   "outputs": [
    {
     "data": {
      "text/plain": [
       "'Guest-Meomeo888'"
      ]
     },
     "execution_count": 27,
     "metadata": {},
     "output_type": "execute_result"
    }
   ],
   "source": [
    "nurse3 = nurse1 + nurse2\n",
    "nurse3.name"
   ]
  },
  {
   "cell_type": "code",
   "execution_count": 28,
   "metadata": {},
   "outputs": [
    {
     "name": "stdout",
     "output_type": "stream",
     "text": [
      "I am Guest-Meomeo888, everything will be ok!\n"
     ]
    }
   ],
   "source": [
    "nurse3.say_hi()"
   ]
  },
  {
   "cell_type": "code",
   "execution_count": 29,
   "metadata": {},
   "outputs": [
    {
     "name": "stdout",
     "output_type": "stream",
     "text": [
      "Hi, I am Guest-Meomeo888 with health of 0.05015317358424454\n"
     ]
    }
   ],
   "source": [
    "nurse3.say_hi_to_doc()"
   ]
  },
  {
   "cell_type": "markdown",
   "metadata": {},
   "source": [
    "# Multiple Inheritance"
   ]
  },
  {
   "cell_type": "markdown",
   "metadata": {},
   "source": [
    "```python\n",
    "class DerivedClassName(Base1, Base2, Base3):\n",
    "    <statement-1>\n",
    "    .\n",
    "    .\n",
    "    .\n",
    "    <statement-N>\n",
    "```"
   ]
  },
  {
   "cell_type": "markdown",
   "metadata": {},
   "source": [
    "For most purposes, in the simplest cases, you can think of the search for attributes inherited from a parent class as depth-first, left-to-right, not searching twice in the same class where there is an overlap in the hierarchy. Thus, if an attribute is not found in DerivedClassName, it is searched for in Base1, then (recursively) in the base classes of Base1, and if it was not found there, it was searched for in Base2, and so on."
   ]
  },
  {
   "cell_type": "markdown",
   "metadata": {},
   "source": [
    "# The diamond problem"
   ]
  },
  {
   "cell_type": "markdown",
   "metadata": {},
   "source": [
    "\n",
    "The Diamond Problem or the ,,deadly diamond of death''\n",
    "Diamond Problem\n",
    "\n",
    "The \"diamond problem\" (sometimes referred as the \"deadly diamond of death\") is the generally used term for an ambiguity that arises when two classes B and C inherit from a superclass A, and another class D inherits from both B and C. If there is a method \"m\" in A that B or C (or even both of them) has overridden, and furthermore, if it does not override this method, then the question is which version of the method does D inherit? It could be the one from A, B or C."
   ]
  },
  {
   "cell_type": "code",
   "execution_count": 1,
   "metadata": {},
   "outputs": [],
   "source": [
    "class A:\n",
    "    def m(self):\n",
    "        print('A')\n",
    "\n",
    "class B(A):\n",
    "    def m(self):\n",
    "        print('B')\n",
    "class C(A):\n",
    "    def m(self):\n",
    "        print('C')\n",
    "class D(B, C):\n",
    "    def m(self):\n",
    "        print('D')"
   ]
  },
  {
   "cell_type": "markdown",
   "metadata": {},
   "source": [
    "\n",
    "Now let's assume that the method m of D should execute the code of m of B, C and A as well, when it is called. We could implement it like this:"
   ]
  },
  {
   "cell_type": "code",
   "execution_count": 2,
   "metadata": {},
   "outputs": [
    {
     "name": "stdout",
     "output_type": "stream",
     "text": [
      "D\n",
      "C\n",
      "B\n",
      "A\n"
     ]
    }
   ],
   "source": [
    "class D(B, C):\n",
    "    def m(self):\n",
    "        print('D')\n",
    "        C.m(self)\n",
    "        B.m(self)\n",
    "        A.m(self)\n",
    "        \n",
    "d = D()\n",
    "d.m()"
   ]
  },
  {
   "cell_type": "markdown",
   "metadata": {},
   "source": [
    "But it turns out once more that things are more complicated than they seem. How can we cope with the situation, if both m of B and m of C will have to call m of A as well. In this case, we have to take away the call A.m(self) from m in D. The code might look like this, but there is still a bug lurking in it:"
   ]
  },
  {
   "cell_type": "code",
   "execution_count": 3,
   "metadata": {},
   "outputs": [],
   "source": [
    "class A:\n",
    "    def m(self):\n",
    "        print('A')\n",
    "        \n",
    "class B(A):\n",
    "    def m(self):\n",
    "        print('B')\n",
    "        A.m(self)\n",
    "class C(A):\n",
    "    def m(self):\n",
    "        print('C')\n",
    "        A.m(self)\n",
    "        \n",
    "class D(B,C):\n",
    "    def m(self):\n",
    "        print('D')\n",
    "        B.m(self)\n",
    "        C.m(self)"
   ]
  },
  {
   "cell_type": "markdown",
   "metadata": {},
   "source": [
    "The bug is that the method m of A will be called twice:"
   ]
  },
  {
   "cell_type": "code",
   "execution_count": 4,
   "metadata": {},
   "outputs": [
    {
     "name": "stdout",
     "output_type": "stream",
     "text": [
      "D\n",
      "B\n",
      "A\n",
      "C\n",
      "A\n"
     ]
    }
   ],
   "source": [
    "d = D()\n",
    "d.m()"
   ]
  },
  {
   "cell_type": "markdown",
   "metadata": {},
   "source": [
    "A non-pythonic way"
   ]
  },
  {
   "cell_type": "code",
   "execution_count": 5,
   "metadata": {},
   "outputs": [
    {
     "name": "stdout",
     "output_type": "stream",
     "text": [
      "m of D called\n",
      "m of B called\n",
      "m of C called\n",
      "m of A called\n"
     ]
    }
   ],
   "source": [
    "class A:\n",
    "    def m(self):\n",
    "        print(\"m of A called\")\n",
    "\n",
    "class B(A):\n",
    "    def _m(self):\n",
    "        print(\"m of B called\")\n",
    "    def m(self):\n",
    "        self._m()\n",
    "        A.m(self)\n",
    "    \n",
    "class C(A):\n",
    "    def _m(self):\n",
    "        print(\"m of C called\")\n",
    "    def m(self):\n",
    "        self._m()\n",
    "        A.m(self)\n",
    "\n",
    "class D(B,C):\n",
    "    def m(self):\n",
    "        print(\"m of D called\")\n",
    "        B._m(self)\n",
    "        C._m(self)\n",
    "        A.m(self)\n",
    "        \n",
    "d = D()\n",
    "d.m()"
   ]
  },
  {
   "cell_type": "markdown",
   "metadata": {},
   "source": [
    "The pythonic way:"
   ]
  },
  {
   "cell_type": "code",
   "execution_count": 6,
   "metadata": {},
   "outputs": [
    {
     "name": "stdout",
     "output_type": "stream",
     "text": [
      "D\n",
      "B\n",
      "C\n",
      "A\n"
     ]
    }
   ],
   "source": [
    "class A:\n",
    "    def m(self):\n",
    "        print('A')\n",
    "class B(A):\n",
    "    def m(self):\n",
    "        print('B')\n",
    "        super().m()\n",
    "class C(A):\n",
    "    def m(self):\n",
    "        print('C')\n",
    "        super().m()\n",
    "class D(B, C):\n",
    "    def m(self):\n",
    "        print('D')\n",
    "        super().m()\n",
    "        \n",
    "d = D()\n",
    "d.m()"
   ]
  },
  {
   "cell_type": "markdown",
   "metadata": {},
   "source": [
    "he super function is often used when instances are initialized with the `__init__` method:"
   ]
  },
  {
   "cell_type": "code",
   "execution_count": 9,
   "metadata": {},
   "outputs": [
    {
     "name": "stdout",
     "output_type": "stream",
     "text": [
      "Init D\n",
      "Init B\n",
      "Init C\n",
      "Init A\n"
     ]
    }
   ],
   "source": [
    "class A:\n",
    "    def __init__(self):\n",
    "        print('Init A')\n",
    "        pass\n",
    "class B(A):\n",
    "    def __init__(self):\n",
    "        print('Init B')\n",
    "        super().__init__()\n",
    "class C(A):\n",
    "    def __init__(self):\n",
    "        print('Init C')\n",
    "        super().__init__()\n",
    "class D(B,C):\n",
    "    def __init__(self):\n",
    "        print('Init D')\n",
    "        super().__init__()\n",
    "\n",
    "d = D()"
   ]
  },
  {
   "cell_type": "code",
   "execution_count": null,
   "metadata": {},
   "outputs": [],
   "source": []
  }
 ],
 "metadata": {
  "kernelspec": {
   "display_name": "Python 3",
   "language": "python",
   "name": "python3"
  },
  "language_info": {
   "codemirror_mode": {
    "name": "ipython",
    "version": 3
   },
   "file_extension": ".py",
   "mimetype": "text/x-python",
   "name": "python",
   "nbconvert_exporter": "python",
   "pygments_lexer": "ipython3",
   "version": "3.7.9"
  }
 },
 "nbformat": 4,
 "nbformat_minor": 2
}
