{
 "cells": [
  {
   "cell_type": "code",
   "execution_count": 27,
   "metadata": {},
   "outputs": [],
   "source": [
    "from functools import wraps"
   ]
  },
  {
   "cell_type": "markdown",
   "metadata": {},
   "source": [
    "All in all, we can say that a decorator in Python is a callable Python object that is used to modify a function, method or class definition"
   ]
  },
  {
   "cell_type": "markdown",
   "metadata": {},
   "source": [
    "let's modify the function sin to rounded to 2 numbers"
   ]
  },
  {
   "cell_type": "markdown",
   "metadata": {},
   "source": [
    "<code>@g\n",
    "def f<code>"
   ]
  },
  {
   "cell_type": "markdown",
   "metadata": {},
   "source": [
    "is equivalent to <code>f = g(f)</code>"
   ]
  },
  {
   "cell_type": "markdown",
   "metadata": {},
   "source": [
    "Modify functions that are already available(from modules, ...)"
   ]
  },
  {
   "cell_type": "code",
   "execution_count": 6,
   "metadata": {},
   "outputs": [
    {
     "data": {
      "text/plain": [
       "0.87"
      ]
     },
     "execution_count": 6,
     "metadata": {},
     "output_type": "execute_result"
    }
   ],
   "source": [
    "import numpy as np\n",
    "def our_decorator(func):\n",
    "    def wrapper(x):\n",
    "        return round(func(x), 2)\n",
    "    return wrapper\n",
    "\n",
    "np.sin = our_decorator(np.sin)\n",
    "\n",
    "np.sin(np.pi / 3)"
   ]
  },
  {
   "cell_type": "markdown",
   "metadata": {},
   "source": [
    "Modify self-created functions"
   ]
  },
  {
   "cell_type": "code",
   "execution_count": 18,
   "metadata": {},
   "outputs": [],
   "source": [
    "def decorator(func):\n",
    "    def wrapper(name):\n",
    "        print('Hello')\n",
    "        print(func(name))\n",
    "    return wrapper\n",
    "@decorator\n",
    "def greeting(name):\n",
    "    return name"
   ]
  },
  {
   "cell_type": "code",
   "execution_count": 19,
   "metadata": {},
   "outputs": [
    {
     "name": "stdout",
     "output_type": "stream",
     "text": [
      "Hello\n",
      "VN Pikachu\n"
     ]
    }
   ],
   "source": [
    "greeting('VN Pikachu')"
   ]
  },
  {
   "cell_type": "markdown",
   "metadata": {},
   "source": [
    "How this works?<br>\n",
    "```python\n",
    "greeting = decorator(greeting)\n",
    "```"
   ]
  },
  {
   "cell_type": "code",
   "execution_count": 41,
   "metadata": {},
   "outputs": [
    {
     "name": "stdout",
     "output_type": "stream",
     "text": [
      "hello\n",
      "VN-champions\n",
      "<function my_greeting at 0x000001B05DA94BF8>\n",
      "VN Pikachu\n"
     ]
    }
   ],
   "source": [
    "def my_decorator(value):\n",
    "    def wrapper(name): #wrapper(func)\n",
    "        print('hello')\n",
    "        print(value)\n",
    "        print(name)\n",
    "        def inner_wrapper(name):\n",
    "            print(name)\n",
    "        return inner_wrapper\n",
    "    return wrapper\n",
    "    \n",
    "@my_decorator('VN-champions')\n",
    "def my_greeting(name):\n",
    "    print(name)\n",
    "\n",
    "my_greeting('VN Pikachu')"
   ]
  },
  {
   "cell_type": "code",
   "execution_count": 44,
   "metadata": {},
   "outputs": [
    {
     "name": "stdout",
     "output_type": "stream",
     "text": [
      "VN Champions\n",
      "VN Pikachu\n"
     ]
    }
   ],
   "source": [
    "def decorator(func):\n",
    "    def wrapper(name):\n",
    "        func(name)\n",
    "    return wrapper\n",
    "def outer_decorator(value):\n",
    "    print(value)\n",
    "    return decorator\n",
    "#we can uderstand @outer_decorator('VN Champions')\n",
    "#will call function outer_decorator('VN Champions')\n",
    "#then outer_decorator('VN Champions') return function decorator\n",
    "#so @outer_decorator('VN Champions') is turned to @decorator\n",
    "#note that decorator is a function\n",
    "#it means @function\n",
    "#or @call_a_function_and_return_another_function\n",
    "@outer_decorator('VN Champions') \n",
    "def greet(name):\n",
    "    print(name)\n",
    "    \n",
    "greet('VN Pikachu')"
   ]
  },
  {
   "cell_type": "markdown",
   "metadata": {},
   "source": [
    "```python\n",
    "def decorator(func): #this is the function that we want to modify\n",
    "    def wrapper(*kwargs): #we we call our target function, it's values we pass will transfer to kwargs\n",
    "        #...... some code here\n",
    "    return wrapper\n",
    "@decorator\n",
    "def target_function(*kwargs):\n",
    "    #.... some code here\n",
    "```"
   ]
  },
  {
   "cell_type": "markdown",
   "metadata": {},
   "source": [
    "# Use cases for Decorators"
   ]
  },
  {
   "cell_type": "markdown",
   "metadata": {},
   "source": [
    "## Checking Arguments"
   ]
  },
  {
   "cell_type": "code",
   "execution_count": 1,
   "metadata": {},
   "outputs": [],
   "source": [
    "def decorator(func):\n",
    "    def wrapper(x):\n",
    "        if type(x) == int and x >= 0:\n",
    "            return func(x)\n",
    "        else:\n",
    "            raise Exception('Invaid input')\n",
    "    return wrapper\n",
    "@decorator\n",
    "def factorial(n):\n",
    "    return 1 if n == 0 else n * factorial(n - 1)"
   ]
  },
  {
   "cell_type": "code",
   "execution_count": 2,
   "metadata": {},
   "outputs": [
    {
     "data": {
      "text/plain": [
       "120"
      ]
     },
     "execution_count": 2,
     "metadata": {},
     "output_type": "execute_result"
    }
   ],
   "source": [
    "factorial(5)"
   ]
  },
  {
   "cell_type": "code",
   "execution_count": 3,
   "metadata": {},
   "outputs": [
    {
     "ename": "Exception",
     "evalue": "Invaid input",
     "output_type": "error",
     "traceback": [
      "\u001b[1;31m---------------------------------------------------------------------------\u001b[0m",
      "\u001b[1;31mException\u001b[0m                                 Traceback (most recent call last)",
      "\u001b[1;32m<ipython-input-3-5aae425d6a8b>\u001b[0m in \u001b[0;36m<module>\u001b[1;34m\u001b[0m\n\u001b[1;32m----> 1\u001b[1;33m \u001b[0mfactorial\u001b[0m\u001b[1;33m(\u001b[0m\u001b[1;33m-\u001b[0m\u001b[1;36m1\u001b[0m\u001b[1;33m)\u001b[0m\u001b[1;33m\u001b[0m\u001b[1;33m\u001b[0m\u001b[0m\n\u001b[0m",
      "\u001b[1;32m<ipython-input-1-089598a85a21>\u001b[0m in \u001b[0;36mwrapper\u001b[1;34m(x)\u001b[0m\n\u001b[0;32m      4\u001b[0m             \u001b[1;32mreturn\u001b[0m \u001b[0mfunc\u001b[0m\u001b[1;33m(\u001b[0m\u001b[0mx\u001b[0m\u001b[1;33m)\u001b[0m\u001b[1;33m\u001b[0m\u001b[1;33m\u001b[0m\u001b[0m\n\u001b[0;32m      5\u001b[0m         \u001b[1;32melse\u001b[0m\u001b[1;33m:\u001b[0m\u001b[1;33m\u001b[0m\u001b[1;33m\u001b[0m\u001b[0m\n\u001b[1;32m----> 6\u001b[1;33m             \u001b[1;32mraise\u001b[0m \u001b[0mException\u001b[0m\u001b[1;33m(\u001b[0m\u001b[1;34m'Invaid input'\u001b[0m\u001b[1;33m)\u001b[0m\u001b[1;33m\u001b[0m\u001b[1;33m\u001b[0m\u001b[0m\n\u001b[0m\u001b[0;32m      7\u001b[0m     \u001b[1;32mreturn\u001b[0m \u001b[0mwrapper\u001b[0m\u001b[1;33m\u001b[0m\u001b[1;33m\u001b[0m\u001b[0m\n\u001b[0;32m      8\u001b[0m \u001b[1;33m@\u001b[0m\u001b[0mdecorator\u001b[0m\u001b[1;33m\u001b[0m\u001b[1;33m\u001b[0m\u001b[0m\n",
      "\u001b[1;31mException\u001b[0m: Invaid input"
     ]
    }
   ],
   "source": [
    "factorial(-1)"
   ]
  },
  {
   "cell_type": "markdown",
   "metadata": {},
   "source": [
    "## Counting the number of function calls"
   ]
  },
  {
   "cell_type": "code",
   "execution_count": 8,
   "metadata": {},
   "outputs": [],
   "source": [
    "def decorator(func):\n",
    "    def wrapper(*args, **kwargs):\n",
    "        wrapper.counter += 1\n",
    "        return func(*args, **kwargs)\n",
    "    wrapper.counter = 0\n",
    "    return wrapper\n",
    "@decorator\n",
    "def do_nothing(*arg, **kwargs):\n",
    "    pass\n"
   ]
  },
  {
   "cell_type": "code",
   "execution_count": 9,
   "metadata": {},
   "outputs": [],
   "source": [
    "do_nothing()\n",
    "do_nothing(3, 4, 2)\n",
    "do_nothing(x = 2, y = 3)"
   ]
  },
  {
   "cell_type": "code",
   "execution_count": 10,
   "metadata": {},
   "outputs": [
    {
     "data": {
      "text/plain": [
       "3"
      ]
     },
     "execution_count": 10,
     "metadata": {},
     "output_type": "execute_result"
    }
   ],
   "source": [
    "do_nothing.counter"
   ]
  },
  {
   "cell_type": "markdown",
   "metadata": {},
   "source": [
    "## Decorator with parameters"
   ]
  },
  {
   "cell_type": "code",
   "execution_count": 11,
   "metadata": {},
   "outputs": [],
   "source": [
    "def decorator_wrapper(txt):\n",
    "    def decorator(func):\n",
    "        def wrapper(x):\n",
    "            print(txt)\n",
    "            func(x)\n",
    "        return wrapper\n",
    "    return decorator\n",
    "@decorator_wrapper('decorator with parameters')\n",
    "def print_a_number(x):\n",
    "    print(f'number {x}')\n"
   ]
  },
  {
   "cell_type": "code",
   "execution_count": 12,
   "metadata": {},
   "outputs": [
    {
     "name": "stdout",
     "output_type": "stream",
     "text": [
      "decorator with parameters\n",
      "number 10\n"
     ]
    }
   ],
   "source": [
    "print_a_number(10)"
   ]
  },
  {
   "cell_type": "markdown",
   "metadata": {},
   "source": [
    "## Saving the name, docstring and module of a function when using Decorator"
   ]
  },
  {
   "cell_type": "code",
   "execution_count": 16,
   "metadata": {},
   "outputs": [],
   "source": [
    "def decorator(func):\n",
    "    def wrapper(x):\n",
    "        '''this is the docstring of wrapper'''\n",
    "        print('This is an example of decorator')\n",
    "        func(x)\n",
    "    return wrapper\n",
    "@decorator\n",
    "def greeting(name):\n",
    "    print(f'Hello {name}')"
   ]
  },
  {
   "cell_type": "code",
   "execution_count": 17,
   "metadata": {},
   "outputs": [
    {
     "name": "stdout",
     "output_type": "stream",
     "text": [
      "This is an example of decorator\n",
      "Hello VN Pikachu\n"
     ]
    }
   ],
   "source": [
    "greeting('VN Pikachu')"
   ]
  },
  {
   "cell_type": "code",
   "execution_count": 18,
   "metadata": {},
   "outputs": [
    {
     "data": {
      "text/plain": [
       "'wrapper'"
      ]
     },
     "execution_count": 18,
     "metadata": {},
     "output_type": "execute_result"
    }
   ],
   "source": [
    "greeting.__name__"
   ]
  },
  {
   "cell_type": "code",
   "execution_count": 19,
   "metadata": {},
   "outputs": [
    {
     "data": {
      "text/plain": [
       "'this is the docstring of wrapper'"
      ]
     },
     "execution_count": 19,
     "metadata": {},
     "output_type": "execute_result"
    }
   ],
   "source": [
    "greeting.__doc__"
   ]
  },
  {
   "cell_type": "markdown",
   "metadata": {},
   "source": [
    "We can see that afer using decorator on the function <code>greeting</code>, the name of the function and the docstring of is replaced by the information provided by the <code>wrapper</code>"
   ]
  },
  {
   "cell_type": "markdown",
   "metadata": {},
   "source": [
    "Solution: Using <code>wraps</code> from <code>functools</code>"
   ]
  },
  {
   "cell_type": "code",
   "execution_count": 23,
   "metadata": {},
   "outputs": [],
   "source": [
    "from functools import wraps\n",
    "def decorator(func):\n",
    "    @wraps(func)\n",
    "    def wrapper(name):\n",
    "        print('decorator with wraps')\n",
    "        func(name)\n",
    "    return wrapper\n",
    "@decorator\n",
    "def greeting(name):\n",
    "    'This is the docstring of the function greeting'\n",
    "    print(f'hello {name}')"
   ]
  },
  {
   "cell_type": "code",
   "execution_count": 22,
   "metadata": {},
   "outputs": [
    {
     "name": "stdout",
     "output_type": "stream",
     "text": [
      "decorator with wraps\n",
      "hello Tank Cao\n"
     ]
    }
   ],
   "source": [
    "greeting('Tank Cao')"
   ]
  },
  {
   "cell_type": "code",
   "execution_count": 24,
   "metadata": {},
   "outputs": [
    {
     "data": {
      "text/plain": [
       "'greeting'"
      ]
     },
     "execution_count": 24,
     "metadata": {},
     "output_type": "execute_result"
    }
   ],
   "source": [
    "greeting.__name__"
   ]
  },
  {
   "cell_type": "code",
   "execution_count": 25,
   "metadata": {},
   "outputs": [
    {
     "data": {
      "text/plain": [
       "'This is the docstring of the function greeting'"
      ]
     },
     "execution_count": 25,
     "metadata": {},
     "output_type": "execute_result"
    }
   ],
   "source": [
    "greeting.__doc__"
   ]
  },
  {
   "cell_type": "markdown",
   "metadata": {},
   "source": [
    "## Classes instead of Functions"
   ]
  },
  {
   "cell_type": "raw",
   "metadata": {},
   "source": [
    "So far we used functions as decorators. Before we can define a decorator as a class, we have to introduce the __call__ method of classes. We mentioned already that a decorator is simply a callable object that takes a function as an input parameter. A function is a callable object, but lots of Python programmers don't know that there are other callable objects. A callable object is an object which can be used and behaves like a function but might not be a function. It is possible to define classes in a way that the instances will be callable objects. The __call__ method is called, if the instance is called \"like a function\", i.e. using brackets."
   ]
  },
  {
   "cell_type": "code",
   "execution_count": 4,
   "metadata": {},
   "outputs": [],
   "source": [
    "\n",
    "class Polynomial:\n",
    "    '''\n",
    "        Create a 2 order Polynomial\n",
    "        \n",
    "    '''\n",
    "    def __init__(self, a, b, c):\n",
    "        self.a = a\n",
    "        self.b = b\n",
    "        self.c = c\n",
    "    #return the result of ax^2 + bx + c\n",
    "    def __call__(self, x): \n",
    "        return self.a * x * x + self.b * x + self.c"
   ]
  },
  {
   "cell_type": "code",
   "execution_count": 7,
   "metadata": {},
   "outputs": [],
   "source": [
    "f = Polynomial(1,-2,1)  #x^2 + 2x + 1"
   ]
  },
  {
   "cell_type": "code",
   "execution_count": 8,
   "metadata": {},
   "outputs": [
    {
     "data": {
      "text/plain": [
       "0"
      ]
     },
     "execution_count": 8,
     "metadata": {},
     "output_type": "execute_result"
    }
   ],
   "source": [
    "#evaluate at x = 1\n",
    "f(1)"
   ]
  },
  {
   "cell_type": "markdown",
   "metadata": {},
   "source": [
    "<hr>"
   ]
  },
  {
   "cell_type": "markdown",
   "metadata": {},
   "source": [
    "Decorate with a function:"
   ]
  },
  {
   "cell_type": "code",
   "execution_count": 20,
   "metadata": {},
   "outputs": [
    {
     "name": "stdout",
     "output_type": "stream",
     "text": [
      "Decorating....\n",
      "Hello World\n"
     ]
    }
   ],
   "source": [
    "def decorator(func):\n",
    "    def wrapper(*args, **kwargs):\n",
    "        print('Decorating....')\n",
    "        func(*args, **kwargs)\n",
    "    return wrapper\n",
    "\n",
    "@decorator\n",
    "def greeting(name):\n",
    "    print(name)\n",
    "    \n",
    "greeting('Hello World')"
   ]
  },
  {
   "cell_type": "markdown",
   "metadata": {},
   "source": [
    "Decorate with a class (the normal way):"
   ]
  },
  {
   "cell_type": "code",
   "execution_count": 24,
   "metadata": {},
   "outputs": [
    {
     "name": "stdout",
     "output_type": "stream",
     "text": [
      "Decorating....\n",
      "Hello World\n"
     ]
    }
   ],
   "source": [
    "class decorator:\n",
    "    def __init__(self, func):\n",
    "        self.function = func\n",
    "    def __call__(self, *args, **kwargs):\n",
    "        print('Decorating....')\n",
    "        self.function(*args, **kwargs)\n",
    "        \n",
    "def greeting(name):\n",
    "    print(name)\n",
    "    \n",
    "greeting = decorator(greeting) #instatiation, greeting now is an instance of class `decorator`, not a function anymore\n",
    "\n",
    "greeting('Hello World')"
   ]
  },
  {
   "cell_type": "markdown",
   "metadata": {},
   "source": [
    "Equivalently, decorate with a class (via **`__init__`**) (The pythonic wya)"
   ]
  },
  {
   "cell_type": "code",
   "execution_count": 28,
   "metadata": {},
   "outputs": [
    {
     "name": "stdout",
     "output_type": "stream",
     "text": [
      "Decorating....\n",
      "Hello world\n"
     ]
    }
   ],
   "source": [
    "class decorator:\n",
    "    def __init__(self, func):\n",
    "        self.function = func\n",
    "    def __call__(self, *args, **kwargs): \n",
    "        print('Decorating....')\n",
    "        self.function(*args, *kwargs)\n",
    "    \n",
    "@decorator  #call __init__, receive a function, return self (an instance of class decorator)\n",
    "#greeting will be transformed from a function to an instance of class decorator\n",
    "def greeting(name):\n",
    "    print(name)\n",
    "    \n",
    "greeting('Hello world')"
   ]
  },
  {
   "cell_type": "markdown",
   "metadata": {},
   "source": [
    "<hr>"
   ]
  },
  {
   "cell_type": "markdown",
   "metadata": {},
   "source": [
    "Decorator with an instance of a class( via **`__call__`**):"
   ]
  },
  {
   "cell_type": "code",
   "execution_count": 5,
   "metadata": {},
   "outputs": [],
   "source": [
    "class BOT:\n",
    "    def __init__(self, message):\n",
    "        self.message = message\n",
    "    def __call__(self, func):\n",
    "        def wrapper(name):\n",
    "            print(self.message)\n",
    "            func(name)\n",
    "        return wrapper\n"
   ]
  },
  {
   "cell_type": "code",
   "execution_count": 6,
   "metadata": {},
   "outputs": [],
   "source": [
    "@BOT('FUCK YOU') #This return function __call__ to decorate\n",
    "def greet(name):\n",
    "    print(f'Hello, {name}')"
   ]
  },
  {
   "cell_type": "code",
   "execution_count": 7,
   "metadata": {},
   "outputs": [
    {
     "name": "stdout",
     "output_type": "stream",
     "text": [
      "FUCK YOU\n",
      "Hello, Hadi\n"
     ]
    }
   ],
   "source": [
    "greet('Hadi')"
   ]
  },
  {
   "cell_type": "markdown",
   "metadata": {},
   "source": [
    "**Exercise**: Implement a cache decorator for function that calculate the n-th Fibonacci"
   ]
  },
  {
   "cell_type": "code",
   "execution_count": 33,
   "metadata": {},
   "outputs": [],
   "source": [
    "class Cache:\n",
    "    def __init__(self, func):\n",
    "        self.function = func\n",
    "        self.memo = {0:0, 1:1}\n",
    "    def __call__(self, n):\n",
    "        if n in self.memo:\n",
    "            return self.memo[n]\n",
    "        res = self.function(n)\n",
    "        self.memo[n] = res\n",
    "        return res"
   ]
  },
  {
   "cell_type": "code",
   "execution_count": 38,
   "metadata": {},
   "outputs": [
    {
     "data": {
      "text/plain": [
       "(0, 12586269025, 2, 3, 5, 8)"
      ]
     },
     "execution_count": 38,
     "metadata": {},
     "output_type": "execute_result"
    }
   ],
   "source": [
    "@Cache\n",
    "def fib(n):\n",
    "    \"\"\"\n",
    "    This function calculate the n-th Fibonacci number\n",
    "    \"\"\"\n",
    "    return fib(n - 1) + fib(n - 2)\n",
    "\n",
    "fib(0), fib(50), fib(3), fib(4), fib(5), fib(6)"
   ]
  },
  {
   "cell_type": "markdown",
   "metadata": {},
   "source": [
    "# Example"
   ]
  },
  {
   "cell_type": "markdown",
   "metadata": {},
   "source": [
    "Let’s say we want to print a deprecation warning on stderr on the first invocation of a function we don’t like anymore. If we don’t want to modify the function, we can use a decorator:"
   ]
  },
  {
   "cell_type": "code",
   "execution_count": 9,
   "metadata": {},
   "outputs": [],
   "source": [
    "#Decorate using class\n",
    "class deprecation:\n",
    "    def __call__(self, func):\n",
    "        self.func = func\n",
    "        self.count = 0\n",
    "        return self.wrapper\n",
    "    def wrapper(self,*args):\n",
    "        if self.count == 0:\n",
    "            print('Deprecated Function')\n",
    "        self.count += 1\n",
    "        return self.func(*args)"
   ]
  },
  {
   "cell_type": "code",
   "execution_count": 10,
   "metadata": {},
   "outputs": [],
   "source": [
    "@deprecation()\n",
    "def add(a, b):\n",
    "    return a + b"
   ]
  },
  {
   "cell_type": "code",
   "execution_count": 11,
   "metadata": {},
   "outputs": [
    {
     "name": "stdout",
     "output_type": "stream",
     "text": [
      "Deprecated Function\n"
     ]
    },
    {
     "data": {
      "text/plain": [
       "4"
      ]
     },
     "execution_count": 11,
     "metadata": {},
     "output_type": "execute_result"
    }
   ],
   "source": [
    "add(1,3)"
   ]
  },
  {
   "cell_type": "code",
   "execution_count": 12,
   "metadata": {},
   "outputs": [
    {
     "data": {
      "text/plain": [
       "8"
      ]
     },
     "execution_count": 12,
     "metadata": {},
     "output_type": "execute_result"
    }
   ],
   "source": [
    "add(5,3)"
   ]
  },
  {
   "cell_type": "code",
   "execution_count": 40,
   "metadata": {},
   "outputs": [],
   "source": [
    "#Decorate using Function\n",
    "def OUTDATED(func):\n",
    "    def wrapper(*args):\n",
    "        if  not wrapper.count:\n",
    "            print('Outdated Function')\n",
    "        wrapper.count += 1\n",
    "        return func(*args)\n",
    "    wrapper.count = 0\n",
    "    return wrapper\n",
    "        "
   ]
  },
  {
   "cell_type": "code",
   "execution_count": 41,
   "metadata": {},
   "outputs": [],
   "source": [
    "@OUTDATED\n",
    "def multiply(a,b):\n",
    "    return a * b"
   ]
  },
  {
   "cell_type": "code",
   "execution_count": 42,
   "metadata": {},
   "outputs": [
    {
     "name": "stdout",
     "output_type": "stream",
     "text": [
      "Outdated Function\n"
     ]
    },
    {
     "data": {
      "text/plain": [
       "3"
      ]
     },
     "execution_count": 42,
     "metadata": {},
     "output_type": "execute_result"
    }
   ],
   "source": [
    "multiply(1,3)"
   ]
  },
  {
   "cell_type": "code",
   "execution_count": 43,
   "metadata": {},
   "outputs": [
    {
     "data": {
      "text/plain": [
       "9"
      ]
     },
     "execution_count": 43,
     "metadata": {},
     "output_type": "execute_result"
    }
   ],
   "source": [
    "multiply(3,3)"
   ]
  }
 ],
 "metadata": {
  "kernelspec": {
   "display_name": "Python 3",
   "language": "python",
   "name": "python3"
  },
  "language_info": {
   "codemirror_mode": {
    "name": "ipython",
    "version": 3
   },
   "file_extension": ".py",
   "mimetype": "text/x-python",
   "name": "python",
   "nbconvert_exporter": "python",
   "pygments_lexer": "ipython3",
   "version": "3.7.9"
  }
 },
 "nbformat": 4,
 "nbformat_minor": 2
}
