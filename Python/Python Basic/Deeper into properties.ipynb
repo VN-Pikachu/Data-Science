{
 "cells": [
  {
   "cell_type": "markdown",
   "metadata": {},
   "source": [
    "Implement decortor **`@property`** from scratch"
   ]
  },
  {
   "cell_type": "code",
   "execution_count": 25,
   "metadata": {},
   "outputs": [],
   "source": [
    "import numpy as np"
   ]
  },
  {
   "cell_type": "code",
   "execution_count": 22,
   "metadata": {},
   "outputs": [],
   "source": [
    "class OurProperty:\n",
    "    def __init__(self, fget=None, fset=None, fdelete=None, doc=None):\n",
    "        self.fget = fget\n",
    "        self.fset = fset\n",
    "        self.fdelete = fdelete\n",
    "        if doc is None and fget is not None:\n",
    "            doc = self.fget.__doc__\n",
    "        self.__doc__ = doc\n",
    "    def __get__(self, obj, objtype):\n",
    "        return self.fget(obj)\n",
    "    def __set__(self, obj, value):\n",
    "        self.fset(obj, value)\n",
    "    def __delete__(self, obj):\n",
    "        self.fdelete(obj)\n",
    "        \n",
    "    def getter(self, fget):\n",
    "        return type(self)(fget, self.fset, self.fdelete, self.__doc__)\n",
    "    def setter(self, fset):\n",
    "        return type(self)(self.fget, fset, self.fdelete, self.__doc__)\n",
    "    def deleter(self, fdelete):\n",
    "        return type(self)(self.fget, self.fset, fdelete, self.__doc__)"
   ]
  },
  {
   "cell_type": "code",
   "execution_count": 26,
   "metadata": {},
   "outputs": [],
   "source": [
    "class Clipper:\n",
    "    def __init__(self, value):\n",
    "        self.value = value\n",
    "    #turn this from a FUNCTION to an INSTANCE of Descriptor\n",
    "    @OurProperty\n",
    "    #pass this function to fget \n",
    "    def value(self):\n",
    "        return self.__value\n",
    "    #value.setter is a method of value (which is an instance of descriptor)\n",
    "    #take the below function and pass it to fset\n",
    "    #combine the function fget above to create a Descriptor with fget and fset\n",
    "    @value.setter\n",
    "    def value(self, new_value):\n",
    "        self.__value = np.clip(new_value, 0, 10)\n",
    "    "
   ]
  },
  {
   "cell_type": "code",
   "execution_count": 27,
   "metadata": {},
   "outputs": [
    {
     "data": {
      "text/plain": [
       "10"
      ]
     },
     "execution_count": 27,
     "metadata": {},
     "output_type": "execute_result"
    }
   ],
   "source": [
    "c = Clipper(99)\n",
    "c.value"
   ]
  },
  {
   "cell_type": "code",
   "execution_count": 29,
   "metadata": {},
   "outputs": [
    {
     "data": {
      "text/plain": [
       "0"
      ]
     },
     "execution_count": 29,
     "metadata": {},
     "output_type": "execute_result"
    }
   ],
   "source": [
    "c.value = -2\n",
    "c.value"
   ]
  },
  {
   "cell_type": "code",
   "execution_count": null,
   "metadata": {},
   "outputs": [],
   "source": []
  }
 ],
 "metadata": {
  "kernelspec": {
   "display_name": "Python 3",
   "language": "python",
   "name": "python3"
  },
  "language_info": {
   "codemirror_mode": {
    "name": "ipython",
    "version": 3
   },
   "file_extension": ".py",
   "mimetype": "text/x-python",
   "name": "python",
   "nbconvert_exporter": "python",
   "pygments_lexer": "ipython3",
   "version": "3.7.9"
  }
 },
 "nbformat": 4,
 "nbformat_minor": 2
}
