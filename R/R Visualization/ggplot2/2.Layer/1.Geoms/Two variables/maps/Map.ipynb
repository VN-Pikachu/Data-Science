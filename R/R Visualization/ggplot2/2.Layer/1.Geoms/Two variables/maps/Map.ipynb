{
 "cells": [
  {
   "cell_type": "code",
   "execution_count": 1,
   "metadata": {},
   "outputs": [
    {
     "name": "stderr",
     "output_type": "stream",
     "text": [
      "Warning message:\n",
      "\"package 'ggplot2' was built under R version 3.6.3\""
     ]
    }
   ],
   "source": [
    "library(ggplot2)"
   ]
  },
  {
   "cell_type": "markdown",
   "metadata": {},
   "source": [
    "# Polygons from a reference map1"
   ]
  },
  {
   "cell_type": "markdown",
   "metadata": {},
   "source": [
    "This is pure annotation, so does not affect position scales."
   ]
  },
  {
   "cell_type": "markdown",
   "metadata": {},
   "source": [
    "```R\n",
    "geom_map(\n",
    "  mapping = NULL,\n",
    "  data = NULL,\n",
    "  stat = \"identity\",\n",
    "  ...,\n",
    "  map,\n",
    "  na.rm = FALSE,\n",
    "  show.legend = NA,\n",
    "  inherit.aes = TRUE\n",
    ")\n",
    "```"
   ]
  },
  {
   "cell_type": "markdown",
   "metadata": {},
   "source": [
    "## Aesthetics"
   ]
  },
  {
   "cell_type": "markdown",
   "metadata": {},
   "source": [
    "**`geom_map()`** understands the following aesthetics (required aesthetics are in bold):\n",
    "\n",
    "* **map_id**\n",
    "\n",
    "* alpha\n",
    "\n",
    "* colour\n",
    "\n",
    "* fill\n",
    "\n",
    "* group\n",
    "\n",
    "* linetype\n",
    "\n",
    "* size\n",
    "\n",
    "* subgroup"
   ]
  },
  {
   "cell_type": "code",
   "execution_count": 7,
   "metadata": {},
   "outputs": [],
   "source": [
    "?USArrests"
   ]
  },
  {
   "cell_type": "code",
   "execution_count": 6,
   "metadata": {},
   "outputs": [
    {
     "data": {
      "text/html": [
       "<table>\n",
       "<thead><tr><th></th><th scope=col>Murder</th><th scope=col>Assault</th><th scope=col>UrbanPop</th><th scope=col>Rape</th></tr></thead>\n",
       "<tbody>\n",
       "\t<tr><th scope=row>Alabama</th><td>13.2</td><td>236 </td><td>58  </td><td>21.2</td></tr>\n",
       "\t<tr><th scope=row>Alaska</th><td>10.0</td><td>263 </td><td>48  </td><td>44.5</td></tr>\n",
       "\t<tr><th scope=row>Arizona</th><td> 8.1</td><td>294 </td><td>80  </td><td>31.0</td></tr>\n",
       "\t<tr><th scope=row>Arkansas</th><td> 8.8</td><td>190 </td><td>50  </td><td>19.5</td></tr>\n",
       "\t<tr><th scope=row>California</th><td> 9.0</td><td>276 </td><td>91  </td><td>40.6</td></tr>\n",
       "\t<tr><th scope=row>Colorado</th><td> 7.9</td><td>204 </td><td>78  </td><td>38.7</td></tr>\n",
       "</tbody>\n",
       "</table>\n"
      ],
      "text/latex": [
       "\\begin{tabular}{r|llll}\n",
       "  & Murder & Assault & UrbanPop & Rape\\\\\n",
       "\\hline\n",
       "\tAlabama & 13.2 & 236  & 58   & 21.2\\\\\n",
       "\tAlaska & 10.0 & 263  & 48   & 44.5\\\\\n",
       "\tArizona &  8.1 & 294  & 80   & 31.0\\\\\n",
       "\tArkansas &  8.8 & 190  & 50   & 19.5\\\\\n",
       "\tCalifornia &  9.0 & 276  & 91   & 40.6\\\\\n",
       "\tColorado &  7.9 & 204  & 78   & 38.7\\\\\n",
       "\\end{tabular}\n"
      ],
      "text/markdown": [
       "\n",
       "| <!--/--> | Murder | Assault | UrbanPop | Rape |\n",
       "|---|---|---|---|---|\n",
       "| Alabama | 13.2 | 236  | 58   | 21.2 |\n",
       "| Alaska | 10.0 | 263  | 48   | 44.5 |\n",
       "| Arizona |  8.1 | 294  | 80   | 31.0 |\n",
       "| Arkansas |  8.8 | 190  | 50   | 19.5 |\n",
       "| California |  9.0 | 276  | 91   | 40.6 |\n",
       "| Colorado |  7.9 | 204  | 78   | 38.7 |\n",
       "\n"
      ],
      "text/plain": [
       "           Murder Assault UrbanPop Rape\n",
       "Alabama    13.2   236     58       21.2\n",
       "Alaska     10.0   263     48       44.5\n",
       "Arizona     8.1   294     80       31.0\n",
       "Arkansas    8.8   190     50       19.5\n",
       "California  9.0   276     91       40.6\n",
       "Colorado    7.9   204     78       38.7"
      ]
     },
     "metadata": {},
     "output_type": "display_data"
    }
   ],
   "source": [
    "head(USArrests)"
   ]
  },
  {
   "cell_type": "code",
   "execution_count": 24,
   "metadata": {},
   "outputs": [
    {
     "data": {
      "text/html": [
       "<table>\n",
       "<thead><tr><th scope=col>state</th><th scope=col>murder</th></tr></thead>\n",
       "<tbody>\n",
       "\t<tr><td>alabama    </td><td>13.2       </td></tr>\n",
       "\t<tr><td>alaska     </td><td>10.0       </td></tr>\n",
       "\t<tr><td>arizona    </td><td> 8.1       </td></tr>\n",
       "\t<tr><td>arkansas   </td><td> 8.8       </td></tr>\n",
       "\t<tr><td>california </td><td> 9.0       </td></tr>\n",
       "\t<tr><td>colorado   </td><td> 7.9       </td></tr>\n",
       "\t<tr><td>connecticut</td><td> 3.3       </td></tr>\n",
       "\t<tr><td>delaware   </td><td> 5.9       </td></tr>\n",
       "\t<tr><td>florida    </td><td>15.4       </td></tr>\n",
       "\t<tr><td>georgia    </td><td>17.4       </td></tr>\n",
       "\t<tr><td>hawaii     </td><td> 5.3       </td></tr>\n",
       "\t<tr><td>idaho      </td><td> 2.6       </td></tr>\n",
       "\t<tr><td>illinois   </td><td>10.4       </td></tr>\n",
       "\t<tr><td>indiana    </td><td> 7.2       </td></tr>\n",
       "\t<tr><td>iowa       </td><td> 2.2       </td></tr>\n",
       "</tbody>\n",
       "</table>\n"
      ],
      "text/latex": [
       "\\begin{tabular}{r|ll}\n",
       " state & murder\\\\\n",
       "\\hline\n",
       "\t alabama     & 13.2       \\\\\n",
       "\t alaska      & 10.0       \\\\\n",
       "\t arizona     &  8.1       \\\\\n",
       "\t arkansas    &  8.8       \\\\\n",
       "\t california  &  9.0       \\\\\n",
       "\t colorado    &  7.9       \\\\\n",
       "\t connecticut &  3.3       \\\\\n",
       "\t delaware    &  5.9       \\\\\n",
       "\t florida     & 15.4       \\\\\n",
       "\t georgia     & 17.4       \\\\\n",
       "\t hawaii      &  5.3       \\\\\n",
       "\t idaho       &  2.6       \\\\\n",
       "\t illinois    & 10.4       \\\\\n",
       "\t indiana     &  7.2       \\\\\n",
       "\t iowa        &  2.2       \\\\\n",
       "\\end{tabular}\n"
      ],
      "text/markdown": [
       "\n",
       "| state | murder |\n",
       "|---|---|\n",
       "| alabama     | 13.2        |\n",
       "| alaska      | 10.0        |\n",
       "| arizona     |  8.1        |\n",
       "| arkansas    |  8.8        |\n",
       "| california  |  9.0        |\n",
       "| colorado    |  7.9        |\n",
       "| connecticut |  3.3        |\n",
       "| delaware    |  5.9        |\n",
       "| florida     | 15.4        |\n",
       "| georgia     | 17.4        |\n",
       "| hawaii      |  5.3        |\n",
       "| idaho       |  2.6        |\n",
       "| illinois    | 10.4        |\n",
       "| indiana     |  7.2        |\n",
       "| iowa        |  2.2        |\n",
       "\n"
      ],
      "text/plain": [
       "   state       murder\n",
       "1  alabama     13.2  \n",
       "2  alaska      10.0  \n",
       "3  arizona      8.1  \n",
       "4  arkansas     8.8  \n",
       "5  california   9.0  \n",
       "6  colorado     7.9  \n",
       "7  connecticut  3.3  \n",
       "8  delaware     5.9  \n",
       "9  florida     15.4  \n",
       "10 georgia     17.4  \n",
       "11 hawaii       5.3  \n",
       "12 idaho        2.6  \n",
       "13 illinois    10.4  \n",
       "14 indiana      7.2  \n",
       "15 iowa         2.2  "
      ]
     },
     "metadata": {},
     "output_type": "display_data"
    }
   ],
   "source": [
    "data <- data.frame(\n",
    "    state = tolower(rownames(USArrests)),\n",
    "    murder = USArrests$Murder\n",
    ")\n",
    "\n",
    "head(data, 15)"
   ]
  },
  {
   "cell_type": "code",
   "execution_count": 25,
   "metadata": {},
   "outputs": [
    {
     "data": {
      "text/html": [
       "<table>\n",
       "<thead><tr><th scope=col>long</th><th scope=col>lat</th><th scope=col>group</th><th scope=col>order</th><th scope=col>region</th><th scope=col>subregion</th></tr></thead>\n",
       "<tbody>\n",
       "\t<tr><td>-87.46201</td><td>30.38968 </td><td>1        </td><td>1        </td><td>alabama  </td><td>NA       </td></tr>\n",
       "\t<tr><td>-87.48493</td><td>30.37249 </td><td>1        </td><td>2        </td><td>alabama  </td><td>NA       </td></tr>\n",
       "\t<tr><td>-87.52503</td><td>30.37249 </td><td>1        </td><td>3        </td><td>alabama  </td><td>NA       </td></tr>\n",
       "\t<tr><td>-87.53076</td><td>30.33239 </td><td>1        </td><td>4        </td><td>alabama  </td><td>NA       </td></tr>\n",
       "\t<tr><td>-87.57087</td><td>30.32665 </td><td>1        </td><td>5        </td><td>alabama  </td><td>NA       </td></tr>\n",
       "\t<tr><td>-87.58806</td><td>30.32665 </td><td>1        </td><td>6        </td><td>alabama  </td><td>NA       </td></tr>\n",
       "</tbody>\n",
       "</table>\n"
      ],
      "text/latex": [
       "\\begin{tabular}{r|llllll}\n",
       " long & lat & group & order & region & subregion\\\\\n",
       "\\hline\n",
       "\t -87.46201 & 30.38968  & 1         & 1         & alabama   & NA       \\\\\n",
       "\t -87.48493 & 30.37249  & 1         & 2         & alabama   & NA       \\\\\n",
       "\t -87.52503 & 30.37249  & 1         & 3         & alabama   & NA       \\\\\n",
       "\t -87.53076 & 30.33239  & 1         & 4         & alabama   & NA       \\\\\n",
       "\t -87.57087 & 30.32665  & 1         & 5         & alabama   & NA       \\\\\n",
       "\t -87.58806 & 30.32665  & 1         & 6         & alabama   & NA       \\\\\n",
       "\\end{tabular}\n"
      ],
      "text/markdown": [
       "\n",
       "| long | lat | group | order | region | subregion |\n",
       "|---|---|---|---|---|---|\n",
       "| -87.46201 | 30.38968  | 1         | 1         | alabama   | NA        |\n",
       "| -87.48493 | 30.37249  | 1         | 2         | alabama   | NA        |\n",
       "| -87.52503 | 30.37249  | 1         | 3         | alabama   | NA        |\n",
       "| -87.53076 | 30.33239  | 1         | 4         | alabama   | NA        |\n",
       "| -87.57087 | 30.32665  | 1         | 5         | alabama   | NA        |\n",
       "| -87.58806 | 30.32665  | 1         | 6         | alabama   | NA        |\n",
       "\n"
      ],
      "text/plain": [
       "  long      lat      group order region  subregion\n",
       "1 -87.46201 30.38968 1     1     alabama NA       \n",
       "2 -87.48493 30.37249 1     2     alabama NA       \n",
       "3 -87.52503 30.37249 1     3     alabama NA       \n",
       "4 -87.53076 30.33239 1     4     alabama NA       \n",
       "5 -87.57087 30.32665 1     5     alabama NA       \n",
       "6 -87.58806 30.32665 1     6     alabama NA       "
      ]
     },
     "metadata": {},
     "output_type": "display_data"
    }
   ],
   "source": [
    "map <- map_data(\"state\")\n",
    "head(map)"
   ]
  },
  {
   "cell_type": "code",
   "execution_count": 19,
   "metadata": {},
   "outputs": [
    {
     "data": {
      "image/png": "[encoded data removed]",
      "text/plain": [
       "plot without title"
      ]
     },
     "metadata": {},
     "output_type": "display_data"
    }
   ],
   "source": [
    "k <- ggplot(data, aes(fill = murder))\n",
    "\n",
    "k + \n",
    "geom_map(aes(map_id = state), map = map) +\n",
    "expand_limits(x = map$long, y = map$lat)"
   ]
  },
  {
   "cell_type": "code",
   "execution_count": 26,
   "metadata": {},
   "outputs": [],
   "source": [
    "?expand_limits"
   ]
  },
  {
   "cell_type": "code",
   "execution_count": null,
   "metadata": {},
   "outputs": [],
   "source": []
  }
 ],
 "metadata": {
  "kernelspec": {
   "display_name": "R",
   "language": "R",
   "name": "ir"
  },
  "language_info": {
   "codemirror_mode": "r",
   "file_extension": ".r",
   "mimetype": "text/x-r-source",
   "name": "R",
   "pygments_lexer": "r",
   "version": "3.6.1"
  }
 },
 "nbformat": 4,
 "nbformat_minor": 2
}
