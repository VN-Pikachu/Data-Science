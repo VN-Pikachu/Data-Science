{
 "cells": [
  {
   "cell_type": "code",
   "execution_count": 3,
   "metadata": {},
   "outputs": [],
   "source": [
    "setwd('C:/Users/dell/PycharmProjects/MachineLearning/Pandas/datasets')"
   ]
  },
  {
   "cell_type": "code",
   "execution_count": 4,
   "metadata": {},
   "outputs": [
    {
     "name": "stderr",
     "output_type": "stream",
     "text": [
      "Warning message:\n",
      "\"package 'ggplot2' was built under R version 3.6.3\""
     ]
    }
   ],
   "source": [
    "library(ggplot2)"
   ]
  },
  {
   "cell_type": "markdown",
   "metadata": {},
   "source": [
    "# Bar charts"
   ]
  },
  {
   "cell_type": "markdown",
   "metadata": {},
   "source": [
    "There are two types of bar charts: **`geom_bar()`** and **`geom_col()`**. **`geom_bar()`** makes the height of the bar proportional to the number of cases in each group (or if the weight aesthetic is supplied, the sum of the weights). If you want the heights of the bars to represent values in the data, use `geom_col()` instead. `geom_bar()` uses `stat_count()` by default: it counts the number of cases at each x position. `geom_col()` uses `stat_identity()`: it leaves the data as is."
   ]
  },
  {
   "cell_type": "markdown",
   "metadata": {},
   "source": [
    "```R\n",
    "geom_bar(\n",
    "  mapping = NULL,\n",
    "  data = NULL,\n",
    "  stat = \"count\",\n",
    "  position = \"stack\",\n",
    "  ...,\n",
    "  width = NULL,\n",
    "  na.rm = FALSE,\n",
    "  orientation = NA,\n",
    "  show.legend = NA,\n",
    "  inherit.aes = TRUE\n",
    ")\n",
    "\n",
    "geom_col(\n",
    "  mapping = NULL,\n",
    "  data = NULL,\n",
    "  position = \"stack\",\n",
    "  ...,\n",
    "  width = NULL,\n",
    "  na.rm = FALSE,\n",
    "  show.legend = NA,\n",
    "  inherit.aes = TRUE\n",
    ")\n",
    "\n",
    "stat_count(\n",
    "  mapping = NULL,\n",
    "  data = NULL,\n",
    "  geom = \"bar\",\n",
    "  position = \"stack\",\n",
    "  ...,\n",
    "  width = NULL,\n",
    "  na.rm = FALSE,\n",
    "  orientation = NA,\n",
    "  show.legend = NA,\n",
    "  inherit.aes = TRUE\n",
    ")\n",
    "```"
   ]
  },
  {
   "cell_type": "markdown",
   "metadata": {},
   "source": [
    "<b style = 'color:red'>NOTE:<br>\n",
    "By default, multiple bars occupying the same x position will be stacked atop one another by `position_stack()`. If you want them to be dodged `side-to-side`, use `position_dodge()` or `position_dodge2()`. Finally, `position_fill()` shows relative proportions at each x by stacking the bars and then standardising each bar to have the same height.\n",
    "</b>"
   ]
  },
  {
   "cell_type": "markdown",
   "metadata": {},
   "source": [
    "# Aesthetic"
   ]
  },
  {
   "cell_type": "markdown",
   "metadata": {},
   "source": [
    "**`geom_bar()`** and **`geom_col`** understands the following aesthetics (required aesthetics are in bold):\n",
    "\n",
    "**x**\n",
    "\n",
    "**y**\n",
    "\n",
    "alpha\n",
    "\n",
    "colour\n",
    "\n",
    "fill\n",
    "\n",
    "group\n",
    "\n",
    "linetype\n",
    "\n",
    "size"
   ]
  },
  {
   "cell_type": "markdown",
   "metadata": {},
   "source": [
    "**`stat_count()`** understands the following aesthetics (required aesthetics are in bold):\n",
    "\n",
    "**x** or **y**\n",
    "\n",
    "group\n",
    "\n",
    "weight"
   ]
  },
  {
   "cell_type": "markdown",
   "metadata": {},
   "source": [
    "# Example"
   ]
  },
  {
   "cell_type": "code",
   "execution_count": 2,
   "metadata": {},
   "outputs": [
    {
     "data": {
      "text/html": [
       "<table>\n",
       "<thead><tr><th scope=col>Name</th><th scope=col>Price</th></tr></thead>\n",
       "<tbody>\n",
       "\t<tr><td>ZBL09   </td><td>64000   </td></tr>\n",
       "\t<tr><td>Stingray</td><td>22000   </td></tr>\n",
       "\t<tr><td>Leclerc </td><td>48000   </td></tr>\n",
       "</tbody>\n",
       "</table>\n"
      ],
      "text/latex": [
       "\\begin{tabular}{r|ll}\n",
       " Name & Price\\\\\n",
       "\\hline\n",
       "\t ZBL09    & 64000   \\\\\n",
       "\t Stingray & 22000   \\\\\n",
       "\t Leclerc  & 48000   \\\\\n",
       "\\end{tabular}\n"
      ],
      "text/markdown": [
       "\n",
       "| Name | Price |\n",
       "|---|---|\n",
       "| ZBL09    | 64000    |\n",
       "| Stingray | 22000    |\n",
       "| Leclerc  | 48000    |\n",
       "\n"
      ],
      "text/plain": [
       "  Name     Price\n",
       "1 ZBL09    64000\n",
       "2 Stingray 22000\n",
       "3 Leclerc  48000"
      ]
     },
     "metadata": {},
     "output_type": "display_data"
    }
   ],
   "source": [
    "tanks <- data.frame(\n",
    "    Name = c('ZBL09', 'Stingray', 'Leclerc'),\n",
    "    Price = c(64000L, 22000L, 48000L)\n",
    ")\n",
    "tanks"
   ]
  },
  {
   "cell_type": "code",
   "execution_count": 5,
   "metadata": {},
   "outputs": [
    {
     "data": {
      "image/png": "[encoded data removed]",
      "text/plain": [
       "plot without title"
      ]
     },
     "metadata": {},
     "output_type": "display_data"
    }
   ],
   "source": [
    "#display the data: stat = 'identity'\n",
    "ggplot(tanks, aes(Name, Price)) +\n",
    "geom_bar(stat = 'identity')"
   ]
  },
  {
   "cell_type": "code",
   "execution_count": 8,
   "metadata": {},
   "outputs": [
    {
     "data": {
      "image/png": "[encoded data removed]",
      "text/plain": [
       "plot without title"
      ]
     },
     "metadata": {},
     "output_type": "display_data"
    }
   ],
   "source": [
    "#Equivalently, using geom_col\n",
    "ggplot(tanks, aes(Name, Price)) +\n",
    "geom_col()"
   ]
  },
  {
   "cell_type": "code",
   "execution_count": null,
   "metadata": {},
   "outputs": [],
   "source": []
  }
 ],
 "metadata": {
  "kernelspec": {
   "display_name": "R",
   "language": "R",
   "name": "ir"
  },
  "language_info": {
   "codemirror_mode": "r",
   "file_extension": ".r",
   "mimetype": "text/x-r-source",
   "name": "R",
   "pygments_lexer": "r",
   "version": "3.6.1"
  }
 },
 "nbformat": 4,
 "nbformat_minor": 2
}
