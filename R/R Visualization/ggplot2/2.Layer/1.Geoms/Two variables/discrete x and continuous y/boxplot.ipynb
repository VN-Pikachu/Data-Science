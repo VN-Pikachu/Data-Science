{
 "cells": [
  {
   "cell_type": "code",
   "execution_count": 1,
   "metadata": {},
   "outputs": [],
   "source": [
    "setwd('C:/Users/dell/PycharmProjects/MachineLearning/Pandas/datasets')"
   ]
  },
  {
   "cell_type": "code",
   "execution_count": 2,
   "metadata": {},
   "outputs": [
    {
     "name": "stderr",
     "output_type": "stream",
     "text": [
      "Warning message:\n",
      "\"package 'ggplot2' was built under R version 3.6.3\""
     ]
    }
   ],
   "source": [
    "library(ggplot2)"
   ]
  },
  {
   "cell_type": "code",
   "execution_count": 5,
   "metadata": {},
   "outputs": [
    {
     "data": {
      "text/html": [
       "<table>\n",
       "<thead><tr><th scope=col>X</th><th scope=col>total_bill</th><th scope=col>tip</th><th scope=col>sex</th><th scope=col>smoker</th><th scope=col>day</th><th scope=col>time</th><th scope=col>size</th></tr></thead>\n",
       "<tbody>\n",
       "\t<tr><td>0     </td><td>16.99 </td><td>1.01  </td><td>Female</td><td>No    </td><td>Sun   </td><td>Dinner</td><td>2     </td></tr>\n",
       "\t<tr><td>1     </td><td>10.34 </td><td>1.66  </td><td>Male  </td><td>No    </td><td>Sun   </td><td>Dinner</td><td>3     </td></tr>\n",
       "\t<tr><td>2     </td><td>21.01 </td><td>3.50  </td><td>Male  </td><td>No    </td><td>Sun   </td><td>Dinner</td><td>3     </td></tr>\n",
       "\t<tr><td>3     </td><td>23.68 </td><td>3.31  </td><td>Male  </td><td>No    </td><td>Sun   </td><td>Dinner</td><td>2     </td></tr>\n",
       "\t<tr><td>4     </td><td>24.59 </td><td>3.61  </td><td>Female</td><td>No    </td><td>Sun   </td><td>Dinner</td><td>4     </td></tr>\n",
       "\t<tr><td>5     </td><td>25.29 </td><td>4.71  </td><td>Male  </td><td>No    </td><td>Sun   </td><td>Dinner</td><td>4     </td></tr>\n",
       "</tbody>\n",
       "</table>\n"
      ],
      "text/latex": [
       "\\begin{tabular}{r|llllllll}\n",
       " X & total\\_bill & tip & sex & smoker & day & time & size\\\\\n",
       "\\hline\n",
       "\t 0      & 16.99  & 1.01   & Female & No     & Sun    & Dinner & 2     \\\\\n",
       "\t 1      & 10.34  & 1.66   & Male   & No     & Sun    & Dinner & 3     \\\\\n",
       "\t 2      & 21.01  & 3.50   & Male   & No     & Sun    & Dinner & 3     \\\\\n",
       "\t 3      & 23.68  & 3.31   & Male   & No     & Sun    & Dinner & 2     \\\\\n",
       "\t 4      & 24.59  & 3.61   & Female & No     & Sun    & Dinner & 4     \\\\\n",
       "\t 5      & 25.29  & 4.71   & Male   & No     & Sun    & Dinner & 4     \\\\\n",
       "\\end{tabular}\n"
      ],
      "text/markdown": [
       "\n",
       "| X | total_bill | tip | sex | smoker | day | time | size |\n",
       "|---|---|---|---|---|---|---|---|\n",
       "| 0      | 16.99  | 1.01   | Female | No     | Sun    | Dinner | 2      |\n",
       "| 1      | 10.34  | 1.66   | Male   | No     | Sun    | Dinner | 3      |\n",
       "| 2      | 21.01  | 3.50   | Male   | No     | Sun    | Dinner | 3      |\n",
       "| 3      | 23.68  | 3.31   | Male   | No     | Sun    | Dinner | 2      |\n",
       "| 4      | 24.59  | 3.61   | Female | No     | Sun    | Dinner | 4      |\n",
       "| 5      | 25.29  | 4.71   | Male   | No     | Sun    | Dinner | 4      |\n",
       "\n"
      ],
      "text/plain": [
       "  X total_bill tip  sex    smoker day time   size\n",
       "1 0 16.99      1.01 Female No     Sun Dinner 2   \n",
       "2 1 10.34      1.66 Male   No     Sun Dinner 3   \n",
       "3 2 21.01      3.50 Male   No     Sun Dinner 3   \n",
       "4 3 23.68      3.31 Male   No     Sun Dinner 2   \n",
       "5 4 24.59      3.61 Female No     Sun Dinner 4   \n",
       "6 5 25.29      4.71 Male   No     Sun Dinner 4   "
      ]
     },
     "metadata": {},
     "output_type": "display_data"
    }
   ],
   "source": [
    "tips <- read.csv('./tips.csv')\n",
    "head(tips)"
   ]
  },
  {
   "cell_type": "code",
   "execution_count": 4,
   "metadata": {},
   "outputs": [],
   "source": [
    "?geom_boxplot"
   ]
  },
  {
   "cell_type": "markdown",
   "metadata": {},
   "source": [
    "# Box plot"
   ]
  },
  {
   "cell_type": "markdown",
   "metadata": {},
   "source": [
    "The boxplot compactly displays the distribution of a continuous variable. It visualises five summary statistics (the median, two hinges and two whiskers), and all \"outlying\" points individually."
   ]
  },
  {
   "cell_type": "markdown",
   "metadata": {},
   "source": [
    "```R\n",
    "geom_boxplot(\n",
    "  mapping = NULL,\n",
    "  data = NULL,\n",
    "  stat = \"boxplot\",\n",
    "  position = \"dodge2\",\n",
    "  ...,\n",
    "  outlier.colour = NULL,\n",
    "  outlier.color = NULL,\n",
    "  outlier.fill = NULL,\n",
    "  outlier.shape = 19,\n",
    "  outlier.size = 1.5,\n",
    "  outlier.stroke = 0.5,\n",
    "  outlier.alpha = NULL,\n",
    "  notch = FALSE,\n",
    "  notchwidth = 0.5,\n",
    "  varwidth = FALSE,\n",
    "  na.rm = FALSE,\n",
    "  orientation = NA,\n",
    "  show.legend = NA,\n",
    "  inherit.aes = TRUE\n",
    ")\n",
    "\n",
    "stat_boxplot(\n",
    "  mapping = NULL,\n",
    "  data = NULL,\n",
    "  geom = \"boxplot\",\n",
    "  position = \"dodge2\",\n",
    "  ...,\n",
    "  coef = 1.5,\n",
    "  na.rm = FALSE,\n",
    "  orientation = NA,\n",
    "  show.legend = NA,\n",
    "  inherit.aes = TRUE\n",
    ")\n",
    "```"
   ]
  },
  {
   "cell_type": "markdown",
   "metadata": {},
   "source": [
    "# Aesthetics"
   ]
  },
  {
   "cell_type": "markdown",
   "metadata": {},
   "source": [
    "**`geom_boxplot()`** understands the following aesthetics (required aesthetics are in bold):\n",
    "\n",
    "* **x** or **y**\n",
    "\n",
    "* **lower** or **xlower**: function to calculate lower (e.g: 1st quartile)\n",
    "\n",
    "* **upper** or **xupper**: function to calculate upepr(e.g: 3rd quartile)\n",
    "* \n",
    "**middle** or **xmiddle**: function to calculate middle(e.g: median)\n",
    "\n",
    "* **ymin** or **xmin** : function to calculate min\n",
    "\n",
    "* **ymax** or **xmax**\n",
    "\n",
    "* alpha\n",
    "\n",
    "* colour\n",
    "\n",
    "* fill\n",
    "\n",
    "* group\n",
    "\n",
    "* linetype: linestyle\n",
    "\n",
    "* shape\n",
    "\n",
    "* size: linewidth\n",
    "\n",
    "* weight"
   ]
  },
  {
   "cell_type": "code",
   "execution_count": 24,
   "metadata": {},
   "outputs": [
    {
     "data": {
      "image/png": "[encoded data removed]",
      "text/plain": [
       "plot without title"
      ]
     },
     "metadata": {},
     "output_type": "display_data"
    }
   ],
   "source": [
    "#fill = smoker (hue = 'smoker', boxes have different facecolor)\n",
    "ggplot(tips, aes(sex, total_bill, fill = smoker)) +\n",
    "geom_boxplot()"
   ]
  },
  {
   "cell_type": "code",
   "execution_count": 25,
   "metadata": {},
   "outputs": [
    {
     "data": {
      "image/png": "[encoded data removed]",
      "text/plain": [
       "plot without title"
      ]
     },
     "metadata": {},
     "output_type": "display_data"
    }
   ],
   "source": [
    "#color = smoker (hue = 'smoker', boxes have different edgecolor)\n",
    "ggplot(tips, aes(sex, total_bill, color = smoker)) +\n",
    "geom_boxplot()"
   ]
  },
  {
   "cell_type": "code",
   "execution_count": 26,
   "metadata": {},
   "outputs": [
    {
     "data": {
      "image/png": "[encoded data removed]",
      "text/plain": [
       "plot without title"
      ]
     },
     "metadata": {},
     "output_type": "display_data"
    }
   ],
   "source": [
    "#customize:\n",
    "\n",
    "\n",
    "\n",
    "\n",
    "\n",
    "\n",
    "ggplot(tips, aes(sex, total_bill, fill = smoker)) +\n",
    "geom_boxplot(size = 5,              #set the width of line around the boxes to 5 (linewidth = 5)\n",
    "             color = 'blue',        #set the edgecolor of the box to blue\n",
    "             outlier.size = 10,     #set the marker size of outliers to 10\n",
    "             outlier.shape = 21,    #chosing a maker type\n",
    "             outlier.fill = 'gold', #set facecolor of outlier to gold\n",
    "             outlier.stroke = 3,    #set the linewidth of outlier to 3\n",
    "             outlier.color = 'red', #set outlier edgecolor to red\n",
    "             notch = TRUE)          ##Using north"
   ]
  },
  {
   "cell_type": "code",
   "execution_count": 27,
   "metadata": {},
   "outputs": [
    {
     "data": {
      "image/png": "[encoded data removed]",
      "text/plain": [
       "plot without title"
      ]
     },
     "metadata": {},
     "output_type": "display_data"
    }
   ],
   "source": [
    "# It's possible to draw a boxplot with your own computations if you\n",
    "# use stat = \"identity\":\n",
    "y <- rnorm(100)\n",
    "df <- data.frame(\n",
    "  x = 1,\n",
    "  y0 = min(y),\n",
    "  y25 = quantile(y, 0.25),\n",
    "  y50 = median(y),\n",
    "  y75 = quantile(y, 0.75),\n",
    "  y100 = max(y)\n",
    ")\n",
    "ggplot(df, aes(x)) +\n",
    "  geom_boxplot(\n",
    "   aes(ymin = y0, lower = y25, middle = y50, upper = y75, ymax = y100),\n",
    "   stat = \"identity\"\n",
    " )"
   ]
  },
  {
   "cell_type": "code",
   "execution_count": 28,
   "metadata": {},
   "outputs": [
    {
     "data": {
      "image/png": "[encoded data removed]",
      "text/plain": [
       "plot without title"
      ]
     },
     "metadata": {},
     "output_type": "display_data"
    }
   ],
   "source": [
    "#turn off outlier, outlier.shape = NA\n",
    "ggplot(tips, aes(sex, total_bill, fill = smoker)) +\n",
    "geom_boxplot(outlier.shape = NA)"
   ]
  },
  {
   "cell_type": "code",
   "execution_count": null,
   "metadata": {},
   "outputs": [],
   "source": []
  }
 ],
 "metadata": {
  "kernelspec": {
   "display_name": "R",
   "language": "R",
   "name": "ir"
  },
  "language_info": {
   "codemirror_mode": "r",
   "file_extension": ".r",
   "mimetype": "text/x-r-source",
   "name": "R",
   "pygments_lexer": "r",
   "version": "3.6.1"
  }
 },
 "nbformat": 4,
 "nbformat_minor": 2
}
