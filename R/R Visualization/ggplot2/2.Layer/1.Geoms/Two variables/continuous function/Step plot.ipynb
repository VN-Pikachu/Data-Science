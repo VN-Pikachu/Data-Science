{
 "cells": [
  {
   "cell_type": "code",
   "execution_count": 1,
   "metadata": {},
   "outputs": [
    {
     "name": "stderr",
     "output_type": "stream",
     "text": [
      "Warning message:\n",
      "\"package 'ggplot2' was built under R version 3.6.3\""
     ]
    }
   ],
   "source": [
    "library(ggplot2)"
   ]
  },
  {
   "cell_type": "markdown",
   "metadata": {},
   "source": [
    "<img src = '../ggplot2_twovariable.png'/>"
   ]
  },
  {
   "cell_type": "markdown",
   "metadata": {},
   "source": [
    "# Connect observations"
   ]
  },
  {
   "cell_type": "markdown",
   "metadata": {},
   "source": [
    "<span style = 'color:red'>Using `?geo_step`: (`geom_path`, `geom_line`, `geom_step`) documentation for detail</span>"
   ]
  },
  {
   "cell_type": "markdown",
   "metadata": {},
   "source": [
    "**`geom_step()`** creates a stairstep plot, highlighting exactly when changes occur. The group aesthetic determines which cases are connected together."
   ]
  },
  {
   "cell_type": "code",
   "execution_count": 6,
   "metadata": {},
   "outputs": [
    {
     "data": {
      "text/html": [
       "<pre class=language-r><code>function (mapping = NULL, data = NULL, stat = \"identity\", position = \"identity\", \n",
       "<span style=white-space:pre-wrap>    direction = \"hv\", na.rm = FALSE, show.legend = NA, inherit.aes = TRUE, </span>\n",
       "<span style=white-space:pre-wrap>    ...) </span>\n",
       "NULL</code></pre>"
      ],
      "text/latex": [
       "\\begin{minted}{r}\n",
       "function (mapping = NULL, data = NULL, stat = \"identity\", position = \"identity\", \n",
       "    direction = \"hv\", na.rm = FALSE, show.legend = NA, inherit.aes = TRUE, \n",
       "    ...) \n",
       "NULL\n",
       "\\end{minted}"
      ],
      "text/markdown": [
       "```r\n",
       "function (mapping = NULL, data = NULL, stat = \"identity\", position = \"identity\", \n",
       "    direction = \"hv\", na.rm = FALSE, show.legend = NA, inherit.aes = TRUE, \n",
       "    ...) \n",
       "NULL\n",
       "```"
      ],
      "text/plain": [
       "function (mapping = NULL, data = NULL, stat = \"identity\", position = \"identity\", \n",
       "    direction = \"hv\", na.rm = FALSE, show.legend = NA, inherit.aes = TRUE, \n",
       "    ...) \n",
       "NULL"
      ]
     },
     "metadata": {},
     "output_type": "display_data"
    }
   ],
   "source": [
    "args(geom_step)"
   ]
  },
  {
   "cell_type": "markdown",
   "metadata": {},
   "source": [
    "**Arguments**  \n",
    "`direction`:\n",
    "direction of stairs: 'vh' for vertical then horizontal, 'hv' for horizontal then vertical, or 'mid' for step half-way between adjacent x-values."
   ]
  },
  {
   "cell_type": "markdown",
   "metadata": {},
   "source": [
    "### Aesthetic"
   ]
  },
  {
   "cell_type": "markdown",
   "metadata": {},
   "source": [
    "**x**, **y**, alpha, color, size, linetype, group"
   ]
  },
  {
   "cell_type": "markdown",
   "metadata": {},
   "source": [
    "<hr>"
   ]
  },
  {
   "cell_type": "code",
   "execution_count": 5,
   "metadata": {},
   "outputs": [
    {
     "data": {
      "image/png": "[encoded data removed]",
      "text/plain": [
       "plot without title"
      ]
     },
     "metadata": {},
     "output_type": "display_data"
    },
    {
     "data": {
      "image/png": "[encoded data removed]",
      "text/plain": [
       "plot without title"
      ]
     },
     "metadata": {},
     "output_type": "display_data"
    }
   ],
   "source": [
    "# geom_step() is useful when you want to highlight exactly when\n",
    "# the y value changes\n",
    "recent <- economics[economics$date > as.Date(\"2013-01-01\"), ]\n",
    "ggplot(recent, aes(date, unemploy)) + geom_line()\n",
    "ggplot(recent, aes(date, unemploy)) + geom_step()\n"
   ]
  },
  {
   "cell_type": "code",
   "execution_count": null,
   "metadata": {},
   "outputs": [],
   "source": []
  }
 ],
 "metadata": {
  "kernelspec": {
   "display_name": "R",
   "language": "R",
   "name": "ir"
  },
  "language_info": {
   "codemirror_mode": "r",
   "file_extension": ".r",
   "mimetype": "text/x-r-source",
   "name": "R",
   "pygments_lexer": "r",
   "version": "3.6.1"
  }
 },
 "nbformat": 4,
 "nbformat_minor": 2
}
