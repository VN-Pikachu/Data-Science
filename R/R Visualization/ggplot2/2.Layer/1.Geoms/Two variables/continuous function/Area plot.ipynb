{
 "cells": [
  {
   "cell_type": "code",
   "execution_count": 1,
   "metadata": {},
   "outputs": [
    {
     "name": "stderr",
     "output_type": "stream",
     "text": [
      "Warning message:\n",
      "\"package 'ggplot2' was built under R version 3.6.3\""
     ]
    }
   ],
   "source": [
    "library(ggplot2)"
   ]
  },
  {
   "cell_type": "markdown",
   "metadata": {},
   "source": [
    "<img src = './ggplot2_onevariable.png'/>"
   ]
  },
  {
   "cell_type": "markdown",
   "metadata": {},
   "source": [
    "# Area plot"
   ]
  },
  {
   "cell_type": "markdown",
   "metadata": {},
   "source": [
    "<b style = 'color:red'>Detail: <a href = '../Graphical primitives/primitives.ipynb'>Primives Notebook: Ribborn and area plot</a></b>"
   ]
  },
  {
   "cell_type": "code",
   "execution_count": 2,
   "metadata": {},
   "outputs": [
    {
     "data": {
      "text/html": [
       "<pre class=language-r><code>function (mapping = NULL, data = NULL, stat = \"identity\", position = \"stack\", \n",
       "<span style=white-space:pre-wrap>    na.rm = FALSE, orientation = NA, show.legend = NA, inherit.aes = TRUE, </span>\n",
       "<span style=white-space:pre-wrap>    ..., outline.type = \"upper\") </span>\n",
       "NULL</code></pre>"
      ],
      "text/latex": [
       "\\begin{minted}{r}\n",
       "function (mapping = NULL, data = NULL, stat = \"identity\", position = \"stack\", \n",
       "    na.rm = FALSE, orientation = NA, show.legend = NA, inherit.aes = TRUE, \n",
       "    ..., outline.type = \"upper\") \n",
       "NULL\n",
       "\\end{minted}"
      ],
      "text/markdown": [
       "```r\n",
       "function (mapping = NULL, data = NULL, stat = \"identity\", position = \"stack\", \n",
       "    na.rm = FALSE, orientation = NA, show.legend = NA, inherit.aes = TRUE, \n",
       "    ..., outline.type = \"upper\") \n",
       "NULL\n",
       "```"
      ],
      "text/plain": [
       "function (mapping = NULL, data = NULL, stat = \"identity\", position = \"stack\", \n",
       "    na.rm = FALSE, orientation = NA, show.legend = NA, inherit.aes = TRUE, \n",
       "    ..., outline.type = \"upper\") \n",
       "NULL"
      ]
     },
     "metadata": {},
     "output_type": "display_data"
    }
   ],
   "source": [
    "args(geom_area)"
   ]
  },
  {
   "cell_type": "code",
   "execution_count": 3,
   "metadata": {},
   "outputs": [
    {
     "data": {
      "text/html": [
       "<table>\n",
       "<thead><tr><th scope=col>date</th><th scope=col>pce</th><th scope=col>pop</th><th scope=col>psavert</th><th scope=col>uempmed</th><th scope=col>unemploy</th></tr></thead>\n",
       "<tbody>\n",
       "\t<tr><td>1967-07-01</td><td>506.7     </td><td>198712    </td><td>12.6      </td><td>4.5       </td><td>2944      </td></tr>\n",
       "\t<tr><td>1967-08-01</td><td>509.8     </td><td>198911    </td><td>12.6      </td><td>4.7       </td><td>2945      </td></tr>\n",
       "\t<tr><td>1967-09-01</td><td>515.6     </td><td>199113    </td><td>11.9      </td><td>4.6       </td><td>2958      </td></tr>\n",
       "\t<tr><td>1967-10-01</td><td>512.2     </td><td>199311    </td><td>12.9      </td><td>4.9       </td><td>3143      </td></tr>\n",
       "\t<tr><td>1967-11-01</td><td>517.4     </td><td>199498    </td><td>12.8      </td><td>4.7       </td><td>3066      </td></tr>\n",
       "\t<tr><td>1967-12-01</td><td>525.1     </td><td>199657    </td><td>11.8      </td><td>4.8       </td><td>3018      </td></tr>\n",
       "</tbody>\n",
       "</table>\n"
      ],
      "text/latex": [
       "\\begin{tabular}{r|llllll}\n",
       " date & pce & pop & psavert & uempmed & unemploy\\\\\n",
       "\\hline\n",
       "\t 1967-07-01 & 506.7      & 198712     & 12.6       & 4.5        & 2944      \\\\\n",
       "\t 1967-08-01 & 509.8      & 198911     & 12.6       & 4.7        & 2945      \\\\\n",
       "\t 1967-09-01 & 515.6      & 199113     & 11.9       & 4.6        & 2958      \\\\\n",
       "\t 1967-10-01 & 512.2      & 199311     & 12.9       & 4.9        & 3143      \\\\\n",
       "\t 1967-11-01 & 517.4      & 199498     & 12.8       & 4.7        & 3066      \\\\\n",
       "\t 1967-12-01 & 525.1      & 199657     & 11.8       & 4.8        & 3018      \\\\\n",
       "\\end{tabular}\n"
      ],
      "text/markdown": [
       "\n",
       "| date | pce | pop | psavert | uempmed | unemploy |\n",
       "|---|---|---|---|---|---|\n",
       "| 1967-07-01 | 506.7      | 198712     | 12.6       | 4.5        | 2944       |\n",
       "| 1967-08-01 | 509.8      | 198911     | 12.6       | 4.7        | 2945       |\n",
       "| 1967-09-01 | 515.6      | 199113     | 11.9       | 4.6        | 2958       |\n",
       "| 1967-10-01 | 512.2      | 199311     | 12.9       | 4.9        | 3143       |\n",
       "| 1967-11-01 | 517.4      | 199498     | 12.8       | 4.7        | 3066       |\n",
       "| 1967-12-01 | 525.1      | 199657     | 11.8       | 4.8        | 3018       |\n",
       "\n"
      ],
      "text/plain": [
       "  date       pce   pop    psavert uempmed unemploy\n",
       "1 1967-07-01 506.7 198712 12.6    4.5     2944    \n",
       "2 1967-08-01 509.8 198911 12.6    4.7     2945    \n",
       "3 1967-09-01 515.6 199113 11.9    4.6     2958    \n",
       "4 1967-10-01 512.2 199311 12.9    4.9     3143    \n",
       "5 1967-11-01 517.4 199498 12.8    4.7     3066    \n",
       "6 1967-12-01 525.1 199657 11.8    4.8     3018    "
      ]
     },
     "metadata": {},
     "output_type": "display_data"
    }
   ],
   "source": [
    "head(economics)"
   ]
  },
  {
   "cell_type": "code",
   "execution_count": 7,
   "metadata": {},
   "outputs": [
    {
     "name": "stderr",
     "output_type": "stream",
     "text": [
      "`stat_bin()` using `bins = 30`. Pick better value with `binwidth`.\n"
     ]
    },
    {
     "data": {
      "image/png": "[encoded data removed]",
      "text/plain": [
       "plot without title"
      ]
     },
     "metadata": {},
     "output_type": "display_data"
    }
   ],
   "source": [
    "ggplot(economics, aes(unemploy)) +\n",
    "geom_area(stat = 'bin')"
   ]
  },
  {
   "cell_type": "code",
   "execution_count": null,
   "metadata": {},
   "outputs": [],
   "source": []
  }
 ],
 "metadata": {
  "kernelspec": {
   "display_name": "R",
   "language": "R",
   "name": "ir"
  },
  "language_info": {
   "codemirror_mode": "r",
   "file_extension": ".r",
   "mimetype": "text/x-r-source",
   "name": "R",
   "pygments_lexer": "r",
   "version": "3.6.1"
  }
 },
 "nbformat": 4,
 "nbformat_minor": 2
}
