{
 "cells": [
  {
   "cell_type": "code",
   "execution_count": 1,
   "metadata": {},
   "outputs": [
    {
     "name": "stderr",
     "output_type": "stream",
     "text": [
      "Warning message:\n",
      "\"package 'ggplot2' was built under R version 3.6.3\""
     ]
    }
   ],
   "source": [
    "library(ggplot2)"
   ]
  },
  {
   "cell_type": "markdown",
   "metadata": {},
   "source": [
    "<img src = '../ggplot2_twovariable.png'/>"
   ]
  },
  {
   "cell_type": "markdown",
   "metadata": {},
   "source": [
    "# Quantile Regression"
   ]
  },
  {
   "cell_type": "markdown",
   "metadata": {},
   "source": [
    "This fits a quantile regression to the data and draws the fitted quantiles with lines. This is as a continuous analogue to geom_boxplot()."
   ]
  },
  {
   "cell_type": "markdown",
   "metadata": {},
   "source": [
    "```R\n",
    "geom_quantile(\n",
    "  mapping = NULL,\n",
    "  data = NULL,\n",
    "  stat = \"quantile\",\n",
    "  position = \"identity\",\n",
    "  ...,\n",
    "  lineend = \"butt\",\n",
    "  linejoin = \"round\",\n",
    "  linemitre = 10,\n",
    "  na.rm = FALSE,\n",
    "  show.legend = NA,\n",
    "  inherit.aes = TRUE\n",
    ")\n",
    "\n",
    "stat_quantile(\n",
    "  mapping = NULL,\n",
    "  data = NULL,\n",
    "  geom = \"quantile\",\n",
    "  position = \"identity\",\n",
    "  ...,\n",
    "  quantiles = c(0.25, 0.5, 0.75),\n",
    "  formula = NULL,\n",
    "  method = \"rq\",\n",
    "  method.args = list(),\n",
    "  na.rm = FALSE,\n",
    "  show.legend = NA,\n",
    "  inherit.aes = TRUE\n",
    ")\n",
    "```"
   ]
  },
  {
   "cell_type": "markdown",
   "metadata": {},
   "source": [
    "### Aesthetics"
   ]
  },
  {
   "cell_type": "markdown",
   "metadata": {},
   "source": [
    "**`geom_quantile()`** understands the following aesthetics (required aesthetics are in bold):\n",
    "\n",
    "* x\n",
    "\n",
    "* y\n",
    "\n",
    "* alpha\n",
    "\n",
    "* colour\n",
    "\n",
    "* group\n",
    "\n",
    "* linetype\n",
    "\n",
    "* size\n",
    "\n",
    "* weight"
   ]
  }
 ],
 "metadata": {
  "kernelspec": {
   "display_name": "R",
   "language": "R",
   "name": "ir"
  },
  "language_info": {
   "codemirror_mode": "r",
   "file_extension": ".r",
   "mimetype": "text/x-r-source",
   "name": "R",
   "pygments_lexer": "r",
   "version": "3.6.1"
  }
 },
 "nbformat": 4,
 "nbformat_minor": 2
}
