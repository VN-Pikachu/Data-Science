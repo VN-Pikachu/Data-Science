{
 "cells": [
  {
   "cell_type": "code",
   "execution_count": 8,
   "metadata": {},
   "outputs": [],
   "source": [
    "setwd('C:/Users/dell/PycharmProjects/MachineLearning/Pandas/datasets')"
   ]
  },
  {
   "cell_type": "code",
   "execution_count": 1,
   "metadata": {},
   "outputs": [
    {
     "name": "stderr",
     "output_type": "stream",
     "text": [
      "Warning message:\n",
      "\"package 'ggplot2' was built under R version 3.6.3\""
     ]
    }
   ],
   "source": [
    "library(ggplot2)"
   ]
  },
  {
   "cell_type": "code",
   "execution_count": 2,
   "metadata": {},
   "outputs": [
    {
     "data": {
      "text/html": [
       "<table>\n",
       "<thead><tr><th scope=col>carat</th><th scope=col>cut</th><th scope=col>color</th><th scope=col>clarity</th><th scope=col>depth</th><th scope=col>table</th><th scope=col>price</th><th scope=col>x</th><th scope=col>y</th><th scope=col>z</th></tr></thead>\n",
       "<tbody>\n",
       "\t<tr><td>0.23     </td><td>Ideal    </td><td>E        </td><td>SI2      </td><td>61.5     </td><td>55       </td><td>326      </td><td>3.95     </td><td>3.98     </td><td>2.43     </td></tr>\n",
       "\t<tr><td>0.21     </td><td>Premium  </td><td>E        </td><td>SI1      </td><td>59.8     </td><td>61       </td><td>326      </td><td>3.89     </td><td>3.84     </td><td>2.31     </td></tr>\n",
       "\t<tr><td>0.23     </td><td>Good     </td><td>E        </td><td>VS1      </td><td>56.9     </td><td>65       </td><td>327      </td><td>4.05     </td><td>4.07     </td><td>2.31     </td></tr>\n",
       "\t<tr><td>0.29     </td><td>Premium  </td><td>I        </td><td>VS2      </td><td>62.4     </td><td>58       </td><td>334      </td><td>4.20     </td><td>4.23     </td><td>2.63     </td></tr>\n",
       "\t<tr><td>0.31     </td><td>Good     </td><td>J        </td><td>SI2      </td><td>63.3     </td><td>58       </td><td>335      </td><td>4.34     </td><td>4.35     </td><td>2.75     </td></tr>\n",
       "\t<tr><td>0.24     </td><td>Very Good</td><td>J        </td><td>VVS2     </td><td>62.8     </td><td>57       </td><td>336      </td><td>3.94     </td><td>3.96     </td><td>2.48     </td></tr>\n",
       "</tbody>\n",
       "</table>\n"
      ],
      "text/latex": [
       "\\begin{tabular}{r|llllllllll}\n",
       " carat & cut & color & clarity & depth & table & price & x & y & z\\\\\n",
       "\\hline\n",
       "\t 0.23      & Ideal     & E         & SI2       & 61.5      & 55        & 326       & 3.95      & 3.98      & 2.43     \\\\\n",
       "\t 0.21      & Premium   & E         & SI1       & 59.8      & 61        & 326       & 3.89      & 3.84      & 2.31     \\\\\n",
       "\t 0.23      & Good      & E         & VS1       & 56.9      & 65        & 327       & 4.05      & 4.07      & 2.31     \\\\\n",
       "\t 0.29      & Premium   & I         & VS2       & 62.4      & 58        & 334       & 4.20      & 4.23      & 2.63     \\\\\n",
       "\t 0.31      & Good      & J         & SI2       & 63.3      & 58        & 335       & 4.34      & 4.35      & 2.75     \\\\\n",
       "\t 0.24      & Very Good & J         & VVS2      & 62.8      & 57        & 336       & 3.94      & 3.96      & 2.48     \\\\\n",
       "\\end{tabular}\n"
      ],
      "text/markdown": [
       "\n",
       "| carat | cut | color | clarity | depth | table | price | x | y | z |\n",
       "|---|---|---|---|---|---|---|---|---|---|\n",
       "| 0.23      | Ideal     | E         | SI2       | 61.5      | 55        | 326       | 3.95      | 3.98      | 2.43      |\n",
       "| 0.21      | Premium   | E         | SI1       | 59.8      | 61        | 326       | 3.89      | 3.84      | 2.31      |\n",
       "| 0.23      | Good      | E         | VS1       | 56.9      | 65        | 327       | 4.05      | 4.07      | 2.31      |\n",
       "| 0.29      | Premium   | I         | VS2       | 62.4      | 58        | 334       | 4.20      | 4.23      | 2.63      |\n",
       "| 0.31      | Good      | J         | SI2       | 63.3      | 58        | 335       | 4.34      | 4.35      | 2.75      |\n",
       "| 0.24      | Very Good | J         | VVS2      | 62.8      | 57        | 336       | 3.94      | 3.96      | 2.48      |\n",
       "\n"
      ],
      "text/plain": [
       "  carat cut       color clarity depth table price x    y    z   \n",
       "1 0.23  Ideal     E     SI2     61.5  55    326   3.95 3.98 2.43\n",
       "2 0.21  Premium   E     SI1     59.8  61    326   3.89 3.84 2.31\n",
       "3 0.23  Good      E     VS1     56.9  65    327   4.05 4.07 2.31\n",
       "4 0.29  Premium   I     VS2     62.4  58    334   4.20 4.23 2.63\n",
       "5 0.31  Good      J     SI2     63.3  58    335   4.34 4.35 2.75\n",
       "6 0.24  Very Good J     VVS2    62.8  57    336   3.94 3.96 2.48"
      ]
     },
     "metadata": {},
     "output_type": "display_data"
    }
   ],
   "source": [
    "data(iris)\n",
    "data(diamonds)\n",
    "head(diamonds)"
   ]
  },
  {
   "cell_type": "code",
   "execution_count": 9,
   "metadata": {},
   "outputs": [
    {
     "data": {
      "text/html": [
       "<table>\n",
       "<thead><tr><th scope=col>X</th><th scope=col>total_bill</th><th scope=col>tip</th><th scope=col>sex</th><th scope=col>smoker</th><th scope=col>day</th><th scope=col>time</th><th scope=col>size</th></tr></thead>\n",
       "<tbody>\n",
       "\t<tr><td>0     </td><td>16.99 </td><td>1.01  </td><td>Female</td><td>No    </td><td>Sun   </td><td>Dinner</td><td>2     </td></tr>\n",
       "\t<tr><td>1     </td><td>10.34 </td><td>1.66  </td><td>Male  </td><td>No    </td><td>Sun   </td><td>Dinner</td><td>3     </td></tr>\n",
       "\t<tr><td>2     </td><td>21.01 </td><td>3.50  </td><td>Male  </td><td>No    </td><td>Sun   </td><td>Dinner</td><td>3     </td></tr>\n",
       "\t<tr><td>3     </td><td>23.68 </td><td>3.31  </td><td>Male  </td><td>No    </td><td>Sun   </td><td>Dinner</td><td>2     </td></tr>\n",
       "\t<tr><td>4     </td><td>24.59 </td><td>3.61  </td><td>Female</td><td>No    </td><td>Sun   </td><td>Dinner</td><td>4     </td></tr>\n",
       "\t<tr><td>5     </td><td>25.29 </td><td>4.71  </td><td>Male  </td><td>No    </td><td>Sun   </td><td>Dinner</td><td>4     </td></tr>\n",
       "</tbody>\n",
       "</table>\n"
      ],
      "text/latex": [
       "\\begin{tabular}{r|llllllll}\n",
       " X & total\\_bill & tip & sex & smoker & day & time & size\\\\\n",
       "\\hline\n",
       "\t 0      & 16.99  & 1.01   & Female & No     & Sun    & Dinner & 2     \\\\\n",
       "\t 1      & 10.34  & 1.66   & Male   & No     & Sun    & Dinner & 3     \\\\\n",
       "\t 2      & 21.01  & 3.50   & Male   & No     & Sun    & Dinner & 3     \\\\\n",
       "\t 3      & 23.68  & 3.31   & Male   & No     & Sun    & Dinner & 2     \\\\\n",
       "\t 4      & 24.59  & 3.61   & Female & No     & Sun    & Dinner & 4     \\\\\n",
       "\t 5      & 25.29  & 4.71   & Male   & No     & Sun    & Dinner & 4     \\\\\n",
       "\\end{tabular}\n"
      ],
      "text/markdown": [
       "\n",
       "| X | total_bill | tip | sex | smoker | day | time | size |\n",
       "|---|---|---|---|---|---|---|---|\n",
       "| 0      | 16.99  | 1.01   | Female | No     | Sun    | Dinner | 2      |\n",
       "| 1      | 10.34  | 1.66   | Male   | No     | Sun    | Dinner | 3      |\n",
       "| 2      | 21.01  | 3.50   | Male   | No     | Sun    | Dinner | 3      |\n",
       "| 3      | 23.68  | 3.31   | Male   | No     | Sun    | Dinner | 2      |\n",
       "| 4      | 24.59  | 3.61   | Female | No     | Sun    | Dinner | 4      |\n",
       "| 5      | 25.29  | 4.71   | Male   | No     | Sun    | Dinner | 4      |\n",
       "\n"
      ],
      "text/plain": [
       "  X total_bill tip  sex    smoker day time   size\n",
       "1 0 16.99      1.01 Female No     Sun Dinner 2   \n",
       "2 1 10.34      1.66 Male   No     Sun Dinner 3   \n",
       "3 2 21.01      3.50 Male   No     Sun Dinner 3   \n",
       "4 3 23.68      3.31 Male   No     Sun Dinner 2   \n",
       "5 4 24.59      3.61 Female No     Sun Dinner 4   \n",
       "6 5 25.29      4.71 Male   No     Sun Dinner 4   "
      ]
     },
     "metadata": {},
     "output_type": "display_data"
    }
   ],
   "source": [
    "tips <- read.csv('./tips.csv')\n",
    "head(tips)"
   ]
  },
  {
   "cell_type": "markdown",
   "metadata": {},
   "source": [
    "<img src = '../ggplot2_twovariable.png'/>"
   ]
  },
  {
   "cell_type": "markdown",
   "metadata": {},
   "source": [
    "# geom_smooth, stat_smooth"
   ]
  },
  {
   "cell_type": "markdown",
   "metadata": {},
   "source": [
    "Aids the eye in seeing patterns in the presence of overplotting. "
   ]
  },
  {
   "cell_type": "code",
   "execution_count": 3,
   "metadata": {},
   "outputs": [
    {
     "data": {
      "text/html": [
       "<pre class=language-r><code>function (mapping = NULL, data = NULL, stat = \"smooth\", position = \"identity\", \n",
       "<span style=white-space:pre-wrap>    ..., method = NULL, formula = NULL, se = TRUE, na.rm = FALSE, </span>\n",
       "<span style=white-space:pre-wrap>    orientation = NA, show.legend = NA, inherit.aes = TRUE) </span>\n",
       "NULL</code></pre>"
      ],
      "text/latex": [
       "\\begin{minted}{r}\n",
       "function (mapping = NULL, data = NULL, stat = \"smooth\", position = \"identity\", \n",
       "    ..., method = NULL, formula = NULL, se = TRUE, na.rm = FALSE, \n",
       "    orientation = NA, show.legend = NA, inherit.aes = TRUE) \n",
       "NULL\n",
       "\\end{minted}"
      ],
      "text/markdown": [
       "```r\n",
       "function (mapping = NULL, data = NULL, stat = \"smooth\", position = \"identity\", \n",
       "    ..., method = NULL, formula = NULL, se = TRUE, na.rm = FALSE, \n",
       "    orientation = NA, show.legend = NA, inherit.aes = TRUE) \n",
       "NULL\n",
       "```"
      ],
      "text/plain": [
       "function (mapping = NULL, data = NULL, stat = \"smooth\", position = \"identity\", \n",
       "    ..., method = NULL, formula = NULL, se = TRUE, na.rm = FALSE, \n",
       "    orientation = NA, show.legend = NA, inherit.aes = TRUE) \n",
       "NULL"
      ]
     },
     "metadata": {},
     "output_type": "display_data"
    }
   ],
   "source": [
    "args(geom_smooth)"
   ]
  },
  {
   "cell_type": "code",
   "execution_count": 6,
   "metadata": {},
   "outputs": [
    {
     "data": {
      "text/html": [
       "<pre class=language-r><code>function (mapping = NULL, data = NULL, geom = \"smooth\", position = \"identity\", \n",
       "<span style=white-space:pre-wrap>    ..., method = NULL, formula = NULL, se = TRUE, n = 80, span = 0.75, </span>\n",
       "<span style=white-space:pre-wrap>    fullrange = FALSE, level = 0.95, method.args = list(), na.rm = FALSE, </span>\n",
       "<span style=white-space:pre-wrap>    orientation = NA, show.legend = NA, inherit.aes = TRUE) </span>\n",
       "NULL</code></pre>"
      ],
      "text/latex": [
       "\\begin{minted}{r}\n",
       "function (mapping = NULL, data = NULL, geom = \"smooth\", position = \"identity\", \n",
       "    ..., method = NULL, formula = NULL, se = TRUE, n = 80, span = 0.75, \n",
       "    fullrange = FALSE, level = 0.95, method.args = list(), na.rm = FALSE, \n",
       "    orientation = NA, show.legend = NA, inherit.aes = TRUE) \n",
       "NULL\n",
       "\\end{minted}"
      ],
      "text/markdown": [
       "```r\n",
       "function (mapping = NULL, data = NULL, geom = \"smooth\", position = \"identity\", \n",
       "    ..., method = NULL, formula = NULL, se = TRUE, n = 80, span = 0.75, \n",
       "    fullrange = FALSE, level = 0.95, method.args = list(), na.rm = FALSE, \n",
       "    orientation = NA, show.legend = NA, inherit.aes = TRUE) \n",
       "NULL\n",
       "```"
      ],
      "text/plain": [
       "function (mapping = NULL, data = NULL, geom = \"smooth\", position = \"identity\", \n",
       "    ..., method = NULL, formula = NULL, se = TRUE, n = 80, span = 0.75, \n",
       "    fullrange = FALSE, level = 0.95, method.args = list(), na.rm = FALSE, \n",
       "    orientation = NA, show.legend = NA, inherit.aes = TRUE) \n",
       "NULL"
      ]
     },
     "metadata": {},
     "output_type": "display_data"
    }
   ],
   "source": [
    "args(stat_smooth)"
   ]
  },
  {
   "cell_type": "markdown",
   "metadata": {},
   "source": [
    "**Arguments**  \n",
    "`se:` Display confidence interval around smooth? "
   ]
  },
  {
   "cell_type": "markdown",
   "metadata": {},
   "source": [
    "# Aesthetics"
   ]
  },
  {
   "cell_type": "markdown",
   "metadata": {},
   "source": [
    "**`geom_smooth()`** understands the following aesthetics (required aesthetics are in bold):\n",
    "\n",
    "* **x**\n",
    "\n",
    "* **y**\n",
    "\n",
    "* alpha\n",
    "\n",
    "* colour\n",
    "\n",
    "* fill\n",
    "\n",
    "* group\n",
    "\n",
    "* linetype\n",
    "\n",
    "* size\n",
    "\n",
    "* weight\n",
    "\n",
    "* ymax\n",
    "\n",
    "* ymin"
   ]
  },
  {
   "cell_type": "markdown",
   "metadata": {},
   "source": [
    "# Computed variables"
   ]
  },
  {
   "cell_type": "markdown",
   "metadata": {},
   "source": [
    "`y`  \n",
    "predicted value\n",
    "\n",
    "`ymin`  \n",
    "lower pointwise confidence interval around the mean\n",
    "\n",
    "`ymax`  \n",
    "upper pointwise confidence interval around the mean\n",
    "\n",
    "`se`  \n",
    "standard error"
   ]
  },
  {
   "cell_type": "markdown",
   "metadata": {},
   "source": [
    "## Example"
   ]
  },
  {
   "cell_type": "code",
   "execution_count": 13,
   "metadata": {},
   "outputs": [
    {
     "name": "stderr",
     "output_type": "stream",
     "text": [
      "`geom_smooth()` using formula 'y ~ x'\n"
     ]
    },
    {
     "data": {
      "image/png": "[encoded data removed]",
      "text/plain": [
       "plot without title"
      ]
     },
     "metadata": {},
     "output_type": "display_data"
    }
   ],
   "source": [
    "ggplot(tips, aes(total_bill, tip)) +\n",
    "geom_point() +\n",
    "geom_smooth(method = 'lm') + #using modeling function: `lm`\n",
    "labs(x = 'Total bill ($)', y = 'Tip ($)')"
   ]
  },
  {
   "cell_type": "code",
   "execution_count": 14,
   "metadata": {},
   "outputs": [
    {
     "name": "stderr",
     "output_type": "stream",
     "text": [
      "`geom_smooth()` using formula 'y ~ x'\n"
     ]
    },
    {
     "data": {
      "image/png": "[encoded data removed]",
      "text/plain": [
       "plot without title"
      ]
     },
     "metadata": {},
     "output_type": "display_data"
    }
   ],
   "source": [
    "# If you need the fitting to be done along the y-axis set the orientation\n",
    "ggplot(tips, aes(total_bill, tip)) +\n",
    "geom_point() + \n",
    "geom_smooth(method = 'lm', orientation = 'y')"
   ]
  },
  {
   "cell_type": "code",
   "execution_count": 16,
   "metadata": {},
   "outputs": [
    {
     "name": "stderr",
     "output_type": "stream",
     "text": [
      "`geom_smooth()` using formula 'y ~ x'\n"
     ]
    },
    {
     "data": {
      "image/png": "[encoded data removed]",
      "text/plain": [
       "plot without title"
      ]
     },
     "metadata": {},
     "output_type": "display_data"
    }
   ],
   "source": [
    "#Turn off confidence interval: se = FALSE\n",
    "ggplot(tips, aes(total_bill, tip)) + \n",
    "geom_point() + \n",
    "geom_smooth(method = 'lm', se = FALSE)"
   ]
  },
  {
   "cell_type": "code",
   "execution_count": 19,
   "metadata": {},
   "outputs": [
    {
     "name": "stderr",
     "output_type": "stream",
     "text": [
      "`geom_smooth()` using formula 'y ~ x'\n"
     ]
    },
    {
     "data": {
      "image/png": "[encoded data removed]",
      "text/plain": [
       "plot without title"
      ]
     },
     "metadata": {},
     "output_type": "display_data"
    }
   ],
   "source": [
    "# Smooths are automatically fit to each group (defined by categorical\n",
    "ggplot(iris, aes(Sepal.Length, Sepal.Width, col = Species)) + \n",
    "geom_point() +\n",
    "geom_smooth(method = 'lm')"
   ]
  },
  {
   "cell_type": "code",
   "execution_count": null,
   "metadata": {},
   "outputs": [],
   "source": [
    "# To fit a logistic regression, you need to coerce the values to\n",
    "# a numeric vector lying between 0 and 1.\n",
    "\n"
   ]
  }
 ],
 "metadata": {
  "kernelspec": {
   "display_name": "R",
   "language": "R",
   "name": "ir"
  },
  "language_info": {
   "codemirror_mode": "r",
   "file_extension": ".r",
   "mimetype": "text/x-r-source",
   "name": "R",
   "pygments_lexer": "r",
   "version": "3.6.1"
  }
 },
 "nbformat": 4,
 "nbformat_minor": 2
}
