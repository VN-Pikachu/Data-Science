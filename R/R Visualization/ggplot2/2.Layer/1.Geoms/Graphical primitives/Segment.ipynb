{
 "cells": [
  {
   "cell_type": "code",
   "execution_count": 1,
   "metadata": {},
   "outputs": [
    {
     "name": "stderr",
     "output_type": "stream",
     "text": [
      "Warning message:\n",
      "\"package 'ggplot2' was built under R version 3.6.3\""
     ]
    }
   ],
   "source": [
    "library(ggplot2)"
   ]
  },
  {
   "cell_type": "markdown",
   "metadata": {},
   "source": [
    "# Reference lines: horizontal, vertical, and diagonal"
   ]
  },
  {
   "cell_type": "markdown",
   "metadata": {},
   "source": [
    "These geoms add reference lines (sometimes called rules) to a plot, either horizontal, vertical, or diagonal (specified by slope and intercept). These are useful for annotating plots  \n",
    "<b style = 'color:red'>NOTE: they span the whole axes (like `plt.axhline`, `plt.axvline`)</b>"
   ]
  },
  {
   "cell_type": "markdown",
   "metadata": {},
   "source": [
    "```R\n",
    "geom_abline(\n",
    "  mapping = NULL,\n",
    "  data = NULL,\n",
    "  ...,\n",
    "  slope,\n",
    "  intercept,\n",
    "  na.rm = FALSE,\n",
    "  show.legend = NA\n",
    ")\n",
    "\n",
    "geom_hline(\n",
    "  mapping = NULL,\n",
    "  data = NULL,\n",
    "  ...,\n",
    "  yintercept,\n",
    "  na.rm = FALSE,\n",
    "  show.legend = NA\n",
    ")\n",
    "\n",
    "geom_vline(\n",
    "  mapping = NULL,\n",
    "  data = NULL,\n",
    "  ...,\n",
    "  xintercept,\n",
    "  na.rm = FALSE,\n",
    "  show.legend = NA\n",
    ")\n",
    "```"
   ]
  },
  {
   "cell_type": "markdown",
   "metadata": {},
   "source": [
    "**Arguments**  \n",
    "`xintercept`, `yintercept`, `slope`, `intercept`\t\n",
    "Parameters that control the position of the line. If these are set, data, mapping and show.legend are overridden."
   ]
  },
  {
   "cell_type": "markdown",
   "metadata": {},
   "source": [
    "**Details**\n",
    "These geoms act slightly differently from other geoms. You can supply the parameters in two ways: either as arguments to the layer function, or via aesthetics. If you use arguments, e.g. geom_abline(intercept = 0, slope = 1), then behind the scenes the geom makes a new data frame containing just the data you've supplied. That means that the lines will be the same in all facets; if you want them to vary across facets, construct the data frame yourself and use aesthetics.\n",
    "\n",
    "Unlike most other geoms, these geoms do not inherit aesthetics from the plot default, because they do not understand x and y aesthetics which are commonly set in the plot. They also do not affect the x and y scales."
   ]
  },
  {
   "cell_type": "markdown",
   "metadata": {},
   "source": [
    "### Aesthetic"
   ]
  },
  {
   "cell_type": "markdown",
   "metadata": {},
   "source": [
    "These geoms are drawn using with `geom_line()` so support the same aesthetics: alpha, colour, linetype and size. They also each have aesthetics that control the position of the line:\n",
    "\n",
    "`geom_vline()`: xintercept\n",
    "\n",
    "`geom_hline()`: yintercept\n",
    "\n",
    "`geom_abline()`: slope and intercept"
   ]
  },
  {
   "cell_type": "code",
   "execution_count": 15,
   "metadata": {},
   "outputs": [],
   "source": [
    "x <- seq(-pi, pi, length.out = 100)\n",
    "y = sin(x)\n",
    "\n",
    "func <- data.frame(x, y)\n",
    "\n",
    "fig <- ggplot(func, aes(x, y)) + geom_line(color = 'red')"
   ]
  },
  {
   "cell_type": "code",
   "execution_count": 23,
   "metadata": {},
   "outputs": [
    {
     "data": {
      "image/png": "[encoded data removed]",
      "text/plain": [
       "plot without title"
      ]
     },
     "metadata": {},
     "output_type": "display_data"
    }
   ],
   "source": [
    "#fixed value\n",
    "fig + \n",
    "geom_vline(xintercept = 0) +\n",
    "geom_hline(yintercept = seq(-1, 1, length.out = 20),\n",
    "           linetype = 'dashed') +\n",
    "labs(title = 'Sine function')"
   ]
  },
  {
   "cell_type": "code",
   "execution_count": 24,
   "metadata": {},
   "outputs": [
    {
     "data": {
      "text/html": [
       "<table>\n",
       "<thead><tr><th></th><th scope=col>mpg</th><th scope=col>cyl</th><th scope=col>disp</th><th scope=col>hp</th><th scope=col>drat</th><th scope=col>wt</th><th scope=col>qsec</th><th scope=col>vs</th><th scope=col>am</th><th scope=col>gear</th><th scope=col>carb</th></tr></thead>\n",
       "<tbody>\n",
       "\t<tr><th scope=row>Mazda RX4</th><td>21.0 </td><td>6    </td><td>160  </td><td>110  </td><td>3.90 </td><td>2.620</td><td>16.46</td><td>0    </td><td>1    </td><td>4    </td><td>4    </td></tr>\n",
       "\t<tr><th scope=row>Mazda RX4 Wag</th><td>21.0 </td><td>6    </td><td>160  </td><td>110  </td><td>3.90 </td><td>2.875</td><td>17.02</td><td>0    </td><td>1    </td><td>4    </td><td>4    </td></tr>\n",
       "\t<tr><th scope=row>Datsun 710</th><td>22.8 </td><td>4    </td><td>108  </td><td> 93  </td><td>3.85 </td><td>2.320</td><td>18.61</td><td>1    </td><td>1    </td><td>4    </td><td>1    </td></tr>\n",
       "\t<tr><th scope=row>Hornet 4 Drive</th><td>21.4 </td><td>6    </td><td>258  </td><td>110  </td><td>3.08 </td><td>3.215</td><td>19.44</td><td>1    </td><td>0    </td><td>3    </td><td>1    </td></tr>\n",
       "\t<tr><th scope=row>Hornet Sportabout</th><td>18.7 </td><td>8    </td><td>360  </td><td>175  </td><td>3.15 </td><td>3.440</td><td>17.02</td><td>0    </td><td>0    </td><td>3    </td><td>2    </td></tr>\n",
       "\t<tr><th scope=row>Valiant</th><td>18.1 </td><td>6    </td><td>225  </td><td>105  </td><td>2.76 </td><td>3.460</td><td>20.22</td><td>1    </td><td>0    </td><td>3    </td><td>1    </td></tr>\n",
       "</tbody>\n",
       "</table>\n"
      ],
      "text/latex": [
       "\\begin{tabular}{r|lllllllllll}\n",
       "  & mpg & cyl & disp & hp & drat & wt & qsec & vs & am & gear & carb\\\\\n",
       "\\hline\n",
       "\tMazda RX4 & 21.0  & 6     & 160   & 110   & 3.90  & 2.620 & 16.46 & 0     & 1     & 4     & 4    \\\\\n",
       "\tMazda RX4 Wag & 21.0  & 6     & 160   & 110   & 3.90  & 2.875 & 17.02 & 0     & 1     & 4     & 4    \\\\\n",
       "\tDatsun 710 & 22.8  & 4     & 108   &  93   & 3.85  & 2.320 & 18.61 & 1     & 1     & 4     & 1    \\\\\n",
       "\tHornet 4 Drive & 21.4  & 6     & 258   & 110   & 3.08  & 3.215 & 19.44 & 1     & 0     & 3     & 1    \\\\\n",
       "\tHornet Sportabout & 18.7  & 8     & 360   & 175   & 3.15  & 3.440 & 17.02 & 0     & 0     & 3     & 2    \\\\\n",
       "\tValiant & 18.1  & 6     & 225   & 105   & 2.76  & 3.460 & 20.22 & 1     & 0     & 3     & 1    \\\\\n",
       "\\end{tabular}\n"
      ],
      "text/markdown": [
       "\n",
       "| <!--/--> | mpg | cyl | disp | hp | drat | wt | qsec | vs | am | gear | carb |\n",
       "|---|---|---|---|---|---|---|---|---|---|---|---|\n",
       "| Mazda RX4 | 21.0  | 6     | 160   | 110   | 3.90  | 2.620 | 16.46 | 0     | 1     | 4     | 4     |\n",
       "| Mazda RX4 Wag | 21.0  | 6     | 160   | 110   | 3.90  | 2.875 | 17.02 | 0     | 1     | 4     | 4     |\n",
       "| Datsun 710 | 22.8  | 4     | 108   |  93   | 3.85  | 2.320 | 18.61 | 1     | 1     | 4     | 1     |\n",
       "| Hornet 4 Drive | 21.4  | 6     | 258   | 110   | 3.08  | 3.215 | 19.44 | 1     | 0     | 3     | 1     |\n",
       "| Hornet Sportabout | 18.7  | 8     | 360   | 175   | 3.15  | 3.440 | 17.02 | 0     | 0     | 3     | 2     |\n",
       "| Valiant | 18.1  | 6     | 225   | 105   | 2.76  | 3.460 | 20.22 | 1     | 0     | 3     | 1     |\n",
       "\n"
      ],
      "text/plain": [
       "                  mpg  cyl disp hp  drat wt    qsec  vs am gear carb\n",
       "Mazda RX4         21.0 6   160  110 3.90 2.620 16.46 0  1  4    4   \n",
       "Mazda RX4 Wag     21.0 6   160  110 3.90 2.875 17.02 0  1  4    4   \n",
       "Datsun 710        22.8 4   108   93 3.85 2.320 18.61 1  1  4    1   \n",
       "Hornet 4 Drive    21.4 6   258  110 3.08 3.215 19.44 1  0  3    1   \n",
       "Hornet Sportabout 18.7 8   360  175 3.15 3.440 17.02 0  0  3    2   \n",
       "Valiant           18.1 6   225  105 2.76 3.460 20.22 1  0  3    1   "
      ]
     },
     "metadata": {},
     "output_type": "display_data"
    }
   ],
   "source": [
    "head(mtcars)"
   ]
  },
  {
   "cell_type": "code",
   "execution_count": 28,
   "metadata": {},
   "outputs": [
    {
     "data": {
      "image/png": "[encoded data removed]",
      "text/plain": [
       "plot without title"
      ]
     },
     "metadata": {},
     "output_type": "display_data"
    }
   ],
   "source": [
    "#correlation between weights and mile per gallon\n",
    "x <- mtcars$wt\n",
    "y <- mtcars$mpg\n",
    "n <- nrow(mtcars)\n",
    "\n",
    "#calculate parameters\n",
    "m <- (n * sum(x * y) - sum(x) * sum(y)) / (n * sum(x ^ 2) - sum(x) ^ 2)\n",
    "b <- (sum(y) - m * sum(x)) / n\n",
    "ggplot(mtcars, aes(wt, mpg)) + geom_point() +\n",
    "geom_abline(slope = m, intercept = b)"
   ]
  },
  {
   "cell_type": "markdown",
   "metadata": {},
   "source": [
    "# Line segments parameterised by location, direction and distance"
   ]
  },
  {
   "cell_type": "markdown",
   "metadata": {},
   "source": [
    "This is a polar parameterisation of **`geom_segment()`**. It is useful when you have variables that describe direction and distance. The angles start from east and increase counterclockwise."
   ]
  },
  {
   "cell_type": "markdown",
   "metadata": {},
   "source": [
    "```R\n",
    "geom_spoke(\n",
    "  mapping = NULL,\n",
    "  data = NULL,\n",
    "  stat = \"identity\",\n",
    "  position = \"identity\",\n",
    "  ...,\n",
    "  na.rm = FALSE,\n",
    "  show.legend = NA,\n",
    "  inherit.aes = TRUE\n",
    ")\n",
    "```"
   ]
  },
  {
   "cell_type": "markdown",
   "metadata": {},
   "source": [
    "### Aesthetic"
   ]
  },
  {
   "cell_type": "markdown",
   "metadata": {},
   "source": [
    "`geom_spoke()` understands the following aesthetics (required aesthetics are in bold):\n",
    "\n",
    "**x**\n",
    "\n",
    "**y**\n",
    "\n",
    "**angle**\n",
    "\n",
    "**radius**\n",
    "\n",
    "alpha\n",
    "\n",
    "colour\n",
    "\n",
    "group\n",
    "\n",
    "linetype\n",
    "\n",
    "size"
   ]
  },
  {
   "cell_type": "code",
   "execution_count": 32,
   "metadata": {},
   "outputs": [
    {
     "data": {
      "text/html": [
       "<table>\n",
       "<thead><tr><th scope=col>r</th><th scope=col>theta</th><th scope=col>x</th><th scope=col>y</th></tr></thead>\n",
       "<tbody>\n",
       "\t<tr><td>3       </td><td>0.000000</td><td>0       </td><td>0       </td></tr>\n",
       "\t<tr><td>3       </td><td>0.418879</td><td>0       </td><td>0       </td></tr>\n",
       "\t<tr><td>3       </td><td>0.837758</td><td>0       </td><td>0       </td></tr>\n",
       "\t<tr><td>3       </td><td>1.256637</td><td>0       </td><td>0       </td></tr>\n",
       "\t<tr><td>3       </td><td>1.675516</td><td>0       </td><td>0       </td></tr>\n",
       "\t<tr><td>3       </td><td>2.094395</td><td>0       </td><td>0       </td></tr>\n",
       "\t<tr><td>3       </td><td>2.513274</td><td>0       </td><td>0       </td></tr>\n",
       "\t<tr><td>3       </td><td>2.932153</td><td>0       </td><td>0       </td></tr>\n",
       "\t<tr><td>3       </td><td>3.351032</td><td>0       </td><td>0       </td></tr>\n",
       "\t<tr><td>3       </td><td>3.769911</td><td>0       </td><td>0       </td></tr>\n",
       "\t<tr><td>3       </td><td>4.188790</td><td>0       </td><td>0       </td></tr>\n",
       "\t<tr><td>3       </td><td>4.607669</td><td>0       </td><td>0       </td></tr>\n",
       "\t<tr><td>3       </td><td>5.026548</td><td>0       </td><td>0       </td></tr>\n",
       "\t<tr><td>3       </td><td>5.445427</td><td>0       </td><td>0       </td></tr>\n",
       "\t<tr><td>3       </td><td>5.864306</td><td>0       </td><td>0       </td></tr>\n",
       "\t<tr><td>3       </td><td>6.283185</td><td>0       </td><td>0       </td></tr>\n",
       "</tbody>\n",
       "</table>\n"
      ],
      "text/latex": [
       "\\begin{tabular}{r|llll}\n",
       " r & theta & x & y\\\\\n",
       "\\hline\n",
       "\t 3        & 0.000000 & 0        & 0       \\\\\n",
       "\t 3        & 0.418879 & 0        & 0       \\\\\n",
       "\t 3        & 0.837758 & 0        & 0       \\\\\n",
       "\t 3        & 1.256637 & 0        & 0       \\\\\n",
       "\t 3        & 1.675516 & 0        & 0       \\\\\n",
       "\t 3        & 2.094395 & 0        & 0       \\\\\n",
       "\t 3        & 2.513274 & 0        & 0       \\\\\n",
       "\t 3        & 2.932153 & 0        & 0       \\\\\n",
       "\t 3        & 3.351032 & 0        & 0       \\\\\n",
       "\t 3        & 3.769911 & 0        & 0       \\\\\n",
       "\t 3        & 4.188790 & 0        & 0       \\\\\n",
       "\t 3        & 4.607669 & 0        & 0       \\\\\n",
       "\t 3        & 5.026548 & 0        & 0       \\\\\n",
       "\t 3        & 5.445427 & 0        & 0       \\\\\n",
       "\t 3        & 5.864306 & 0        & 0       \\\\\n",
       "\t 3        & 6.283185 & 0        & 0       \\\\\n",
       "\\end{tabular}\n"
      ],
      "text/markdown": [
       "\n",
       "| r | theta | x | y |\n",
       "|---|---|---|---|\n",
       "| 3        | 0.000000 | 0        | 0        |\n",
       "| 3        | 0.418879 | 0        | 0        |\n",
       "| 3        | 0.837758 | 0        | 0        |\n",
       "| 3        | 1.256637 | 0        | 0        |\n",
       "| 3        | 1.675516 | 0        | 0        |\n",
       "| 3        | 2.094395 | 0        | 0        |\n",
       "| 3        | 2.513274 | 0        | 0        |\n",
       "| 3        | 2.932153 | 0        | 0        |\n",
       "| 3        | 3.351032 | 0        | 0        |\n",
       "| 3        | 3.769911 | 0        | 0        |\n",
       "| 3        | 4.188790 | 0        | 0        |\n",
       "| 3        | 4.607669 | 0        | 0        |\n",
       "| 3        | 5.026548 | 0        | 0        |\n",
       "| 3        | 5.445427 | 0        | 0        |\n",
       "| 3        | 5.864306 | 0        | 0        |\n",
       "| 3        | 6.283185 | 0        | 0        |\n",
       "\n"
      ],
      "text/plain": [
       "   r theta    x y\n",
       "1  3 0.000000 0 0\n",
       "2  3 0.418879 0 0\n",
       "3  3 0.837758 0 0\n",
       "4  3 1.256637 0 0\n",
       "5  3 1.675516 0 0\n",
       "6  3 2.094395 0 0\n",
       "7  3 2.513274 0 0\n",
       "8  3 2.932153 0 0\n",
       "9  3 3.351032 0 0\n",
       "10 3 3.769911 0 0\n",
       "11 3 4.188790 0 0\n",
       "12 3 4.607669 0 0\n",
       "13 3 5.026548 0 0\n",
       "14 3 5.445427 0 0\n",
       "15 3 5.864306 0 0\n",
       "16 3 6.283185 0 0"
      ]
     },
     "metadata": {},
     "output_type": "display_data"
    }
   ],
   "source": [
    "theta <- seq(0, 2 * pi, length.out = 16)\n",
    "r <- 3\n",
    "x <- 0\n",
    "y <- 0\n",
    "v <- data.frame(r, theta, x, y)\n",
    "v"
   ]
  },
  {
   "cell_type": "code",
   "execution_count": 35,
   "metadata": {},
   "outputs": [
    {
     "data": {
      "image/png": "[encoded data removed]",
      "text/plain": [
       "plot without title"
      ]
     },
     "metadata": {},
     "output_type": "display_data"
    }
   ],
   "source": [
    "ggplot(v, aes(x = x, y = y, radius = r, angle = theta)) +\n",
    "geom_spoke(color = 'red', size = 1)"
   ]
  },
  {
   "cell_type": "markdown",
   "metadata": {},
   "source": [
    "# Line segment"
   ]
  },
  {
   "cell_type": "markdown",
   "metadata": {},
   "source": [
    "<b style = 'color:red'>See <a href = './primitives.ipynb'>ggplot2 Primitives Notebook</a> for more details"
   ]
  },
  {
   "cell_type": "markdown",
   "metadata": {},
   "source": [
    "**`geom_segment()`**"
   ]
  },
  {
   "cell_type": "code",
   "execution_count": 36,
   "metadata": {},
   "outputs": [
    {
     "data": {
      "text/html": [
       "<pre class=language-r><code>function (mapping = NULL, data = NULL, stat = \"identity\", position = \"identity\", \n",
       "<span style=white-space:pre-wrap>    ..., arrow = NULL, arrow.fill = NULL, lineend = \"butt\", linejoin = \"round\", </span>\n",
       "<span style=white-space:pre-wrap>    na.rm = FALSE, show.legend = NA, inherit.aes = TRUE) </span>\n",
       "NULL</code></pre>"
      ],
      "text/latex": [
       "\\begin{minted}{r}\n",
       "function (mapping = NULL, data = NULL, stat = \"identity\", position = \"identity\", \n",
       "    ..., arrow = NULL, arrow.fill = NULL, lineend = \"butt\", linejoin = \"round\", \n",
       "    na.rm = FALSE, show.legend = NA, inherit.aes = TRUE) \n",
       "NULL\n",
       "\\end{minted}"
      ],
      "text/markdown": [
       "```r\n",
       "function (mapping = NULL, data = NULL, stat = \"identity\", position = \"identity\", \n",
       "    ..., arrow = NULL, arrow.fill = NULL, lineend = \"butt\", linejoin = \"round\", \n",
       "    na.rm = FALSE, show.legend = NA, inherit.aes = TRUE) \n",
       "NULL\n",
       "```"
      ],
      "text/plain": [
       "function (mapping = NULL, data = NULL, stat = \"identity\", position = \"identity\", \n",
       "    ..., arrow = NULL, arrow.fill = NULL, lineend = \"butt\", linejoin = \"round\", \n",
       "    na.rm = FALSE, show.legend = NA, inherit.aes = TRUE) \n",
       "NULL"
      ]
     },
     "metadata": {},
     "output_type": "display_data"
    }
   ],
   "source": [
    "args(geom_segment)"
   ]
  },
  {
   "cell_type": "code",
   "execution_count": 42,
   "metadata": {},
   "outputs": [
    {
     "data": {
      "image/png": "[encoded data removed]",
      "text/plain": [
       "plot without title"
      ]
     },
     "metadata": {},
     "output_type": "display_data"
    }
   ],
   "source": [
    "#translate from polar coordinate system to cartesian coordinate system\n",
    "v1 <- data.frame(x1 = x, y1 = y, x2 = r * cos(theta), y2 = r * sin(theta))\n",
    "\n",
    "ggplot(v1, aes(x = x1, y = y1, xend = x2, yend = y2)) +\n",
    "geom_segment(color = 'red', size = 1)"
   ]
  },
  {
   "cell_type": "code",
   "execution_count": null,
   "metadata": {},
   "outputs": [],
   "source": []
  }
 ],
 "metadata": {
  "kernelspec": {
   "display_name": "R",
   "language": "R",
   "name": "ir"
  },
  "language_info": {
   "codemirror_mode": "r",
   "file_extension": ".r",
   "mimetype": "text/x-r-source",
   "name": "R",
   "pygments_lexer": "r",
   "version": "3.6.1"
  }
 },
 "nbformat": 4,
 "nbformat_minor": 2
}
