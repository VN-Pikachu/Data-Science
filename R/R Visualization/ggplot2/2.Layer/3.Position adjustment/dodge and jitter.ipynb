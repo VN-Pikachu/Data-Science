{
 "cells": [
  {
   "cell_type": "code",
   "execution_count": 1,
   "metadata": {},
   "outputs": [
    {
     "name": "stderr",
     "output_type": "stream",
     "text": [
      "Warning message:\n",
      "\"package 'ggplot2' was built under R version 3.6.3\""
     ]
    }
   ],
   "source": [
    "library(ggplot2)"
   ]
  },
  {
   "cell_type": "code",
   "execution_count": 3,
   "metadata": {},
   "outputs": [
    {
     "data": {
      "text/html": [
       "'C:/Users/dell/PycharmProjects/MachineLearning/Pandas/datasets'"
      ],
      "text/latex": [
       "'C:/Users/dell/PycharmProjects/MachineLearning/Pandas/datasets'"
      ],
      "text/markdown": [
       "'C:/Users/dell/PycharmProjects/MachineLearning/Pandas/datasets'"
      ],
      "text/plain": [
       "[1] \"C:/Users/dell/PycharmProjects/MachineLearning/Pandas/datasets\""
      ]
     },
     "metadata": {},
     "output_type": "display_data"
    }
   ],
   "source": [
    "setwd('C:/Users/dell/PycharmProjects/MachineLearning/Pandas/datasets')\n",
    "getwd()"
   ]
  },
  {
   "cell_type": "markdown",
   "metadata": {},
   "source": [
    "<img src = './ggplot2_position_adjustment.png'/>"
   ]
  },
  {
   "cell_type": "markdown",
   "metadata": {},
   "source": [
    "# Simultaneously dodge and jitter"
   ]
  },
  {
   "cell_type": "markdown",
   "metadata": {},
   "source": [
    "This is primarily used for aligning points generated through `geom_point()` with dodged boxplots (e.g., a geom_boxplot() with a fill aesthetic supplied)."
   ]
  },
  {
   "cell_type": "markdown",
   "metadata": {},
   "source": [
    "```R\n",
    "position_jitterdodge(\n",
    "  jitter.width = NULL,\n",
    "  jitter.height = 0,\n",
    "  dodge.width = 0.75,\n",
    "  seed = NA\n",
    ")\n",
    "```"
   ]
  },
  {
   "cell_type": "markdown",
   "metadata": {},
   "source": [
    "**Arguments**  \n",
    "`jitter.width`\t\n",
    "degree of jitter in x direction. Defaults to 40% of the resolution of the data.\n",
    "\n",
    "`jitter.height`\t\n",
    "degree of jitter in y direction. Defaults to 0.\n",
    "\n",
    "`dodge.width`\t\n",
    "the amount to dodge in the x direction. Defaults to 0.75, the default position_dodge() width.\n",
    "\n",
    "`seed`\t\n",
    "A random seed to make the jitter reproducible. Useful if you need to apply the same jitter twice, e.g., for a point and a corresponding label. The random seed is reset after jittering. If NA (the default value), the seed is initialised with a random value; this makes sure that two subsequent calls start with a different seed. Use NULL to use the current random seed and also avoid resetting (the behaviour of ggplot 2.2.1 and earlier)."
   ]
  },
  {
   "cell_type": "code",
   "execution_count": 4,
   "metadata": {},
   "outputs": [
    {
     "data": {
      "text/html": [
       "<table>\n",
       "<thead><tr><th scope=col>X</th><th scope=col>total_bill</th><th scope=col>tip</th><th scope=col>sex</th><th scope=col>smoker</th><th scope=col>day</th><th scope=col>time</th><th scope=col>size</th></tr></thead>\n",
       "<tbody>\n",
       "\t<tr><td>0     </td><td>16.99 </td><td>1.01  </td><td>Female</td><td>No    </td><td>Sun   </td><td>Dinner</td><td>2     </td></tr>\n",
       "\t<tr><td>1     </td><td>10.34 </td><td>1.66  </td><td>Male  </td><td>No    </td><td>Sun   </td><td>Dinner</td><td>3     </td></tr>\n",
       "\t<tr><td>2     </td><td>21.01 </td><td>3.50  </td><td>Male  </td><td>No    </td><td>Sun   </td><td>Dinner</td><td>3     </td></tr>\n",
       "\t<tr><td>3     </td><td>23.68 </td><td>3.31  </td><td>Male  </td><td>No    </td><td>Sun   </td><td>Dinner</td><td>2     </td></tr>\n",
       "\t<tr><td>4     </td><td>24.59 </td><td>3.61  </td><td>Female</td><td>No    </td><td>Sun   </td><td>Dinner</td><td>4     </td></tr>\n",
       "\t<tr><td>5     </td><td>25.29 </td><td>4.71  </td><td>Male  </td><td>No    </td><td>Sun   </td><td>Dinner</td><td>4     </td></tr>\n",
       "</tbody>\n",
       "</table>\n"
      ],
      "text/latex": [
       "\\begin{tabular}{r|llllllll}\n",
       " X & total\\_bill & tip & sex & smoker & day & time & size\\\\\n",
       "\\hline\n",
       "\t 0      & 16.99  & 1.01   & Female & No     & Sun    & Dinner & 2     \\\\\n",
       "\t 1      & 10.34  & 1.66   & Male   & No     & Sun    & Dinner & 3     \\\\\n",
       "\t 2      & 21.01  & 3.50   & Male   & No     & Sun    & Dinner & 3     \\\\\n",
       "\t 3      & 23.68  & 3.31   & Male   & No     & Sun    & Dinner & 2     \\\\\n",
       "\t 4      & 24.59  & 3.61   & Female & No     & Sun    & Dinner & 4     \\\\\n",
       "\t 5      & 25.29  & 4.71   & Male   & No     & Sun    & Dinner & 4     \\\\\n",
       "\\end{tabular}\n"
      ],
      "text/markdown": [
       "\n",
       "| X | total_bill | tip | sex | smoker | day | time | size |\n",
       "|---|---|---|---|---|---|---|---|\n",
       "| 0      | 16.99  | 1.01   | Female | No     | Sun    | Dinner | 2      |\n",
       "| 1      | 10.34  | 1.66   | Male   | No     | Sun    | Dinner | 3      |\n",
       "| 2      | 21.01  | 3.50   | Male   | No     | Sun    | Dinner | 3      |\n",
       "| 3      | 23.68  | 3.31   | Male   | No     | Sun    | Dinner | 2      |\n",
       "| 4      | 24.59  | 3.61   | Female | No     | Sun    | Dinner | 4      |\n",
       "| 5      | 25.29  | 4.71   | Male   | No     | Sun    | Dinner | 4      |\n",
       "\n"
      ],
      "text/plain": [
       "  X total_bill tip  sex    smoker day time   size\n",
       "1 0 16.99      1.01 Female No     Sun Dinner 2   \n",
       "2 1 10.34      1.66 Male   No     Sun Dinner 3   \n",
       "3 2 21.01      3.50 Male   No     Sun Dinner 3   \n",
       "4 3 23.68      3.31 Male   No     Sun Dinner 2   \n",
       "5 4 24.59      3.61 Female No     Sun Dinner 4   \n",
       "6 5 25.29      4.71 Male   No     Sun Dinner 4   "
      ]
     },
     "metadata": {},
     "output_type": "display_data"
    }
   ],
   "source": [
    "tips <- read.csv('./tips.csv')\n",
    "head(tips)"
   ]
  },
  {
   "cell_type": "code",
   "execution_count": 8,
   "metadata": {},
   "outputs": [
    {
     "data": {
      "image/png": "[encoded data removed]",
      "text/plain": [
       "plot without title"
      ]
     },
     "metadata": {},
     "output_type": "display_data"
    }
   ],
   "source": [
    "dsub <- diamonds[ sample(nrow(diamonds), 1000), ]\n",
    "ggplot(dsub, aes(x = cut, y = carat, fill = clarity)) +\n",
    "  geom_boxplot(outlier.size = 0) +\n",
    "  geom_point(pch = 21, position = position_jitterdodge())"
   ]
  },
  {
   "cell_type": "code",
   "execution_count": null,
   "metadata": {},
   "outputs": [],
   "source": []
  }
 ],
 "metadata": {
  "kernelspec": {
   "display_name": "R",
   "language": "R",
   "name": "ir"
  },
  "language_info": {
   "codemirror_mode": "r",
   "file_extension": ".r",
   "mimetype": "text/x-r-source",
   "name": "R",
   "pygments_lexer": "r",
   "version": "3.6.1"
  }
 },
 "nbformat": 4,
 "nbformat_minor": 2
}
