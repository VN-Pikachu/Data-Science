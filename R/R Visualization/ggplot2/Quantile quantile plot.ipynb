{
 "cells": [
  {
   "cell_type": "code",
   "execution_count": 6,
   "metadata": {},
   "outputs": [
    {
     "name": "stderr",
     "output_type": "stream",
     "text": [
      "Warning message:\n",
      "\"package 'tidyverse' was built under R version 3.6.3\"-- Attaching packages ------------------------------------------------------------------------------- tidyverse 1.3.0 --\n",
      "v ggplot2 3.3.2     v purrr   0.3.4\n",
      "v tibble  3.0.4     v dplyr   1.0.2\n",
      "v tidyr   1.1.2     v stringr 1.4.0\n",
      "v readr   1.4.0     v forcats 0.5.0\n",
      "Warning message:\n",
      "\"package 'ggplot2' was built under R version 3.6.3\"Warning message:\n",
      "\"package 'tibble' was built under R version 3.6.3\"Warning message:\n",
      "\"package 'tidyr' was built under R version 3.6.3\"Warning message:\n",
      "\"package 'readr' was built under R version 3.6.3\"Warning message:\n",
      "\"package 'purrr' was built under R version 3.6.3\"Warning message:\n",
      "\"package 'dplyr' was built under R version 3.6.3\"Warning message:\n",
      "\"package 'stringr' was built under R version 3.6.3\"Warning message:\n",
      "\"package 'forcats' was built under R version 3.6.3\"-- Conflicts ---------------------------------------------------------------------------------- tidyverse_conflicts() --\n",
      "x dplyr::filter() masks stats::filter()\n",
      "x dplyr::lag()    masks stats::lag()\n"
     ]
    }
   ],
   "source": [
    "library(tidyverse)"
   ]
  },
  {
   "cell_type": "markdown",
   "metadata": {},
   "source": [
    "Quantile-quantile plots, or QQ-plots, are used to check whether distributions are well-approximated by a normal distribution."
   ]
  },
  {
   "cell_type": "markdown",
   "metadata": {},
   "source": [
    "Given a proportion  **p** , the quantile  **q**  is the value such that the proportion of values in the data below  **q**  is  **p** ."
   ]
  },
  {
   "cell_type": "markdown",
   "metadata": {},
   "source": [
    "If **x** is the <b>q<sup>th</sup></b> quantile, then **q** % values in the data will smaller than **x**"
   ]
  },
  {
   "cell_type": "markdown",
   "metadata": {},
   "source": [
    "Given **data** and a value **x**,  the quantile **q** of **x** is: `q =  P(value <= x) = CDF(x)` or `q = CDF(x)`"
   ]
  },
  {
   "cell_type": "markdown",
   "metadata": {},
   "source": [
    "Given **data** and **q** quantile, the value of **x** is: <code>x = CDF<sup>-1</sup>(q)</code>"
   ]
  },
  {
   "cell_type": "markdown",
   "metadata": {},
   "source": [
    "# Let's build a quantile-quantile plot from scratch"
   ]
  },
  {
   "cell_type": "markdown",
   "metadata": {},
   "source": [
    "First, let's generate some data"
   ]
  },
  {
   "cell_type": "code",
   "execution_count": 1,
   "metadata": {},
   "outputs": [],
   "source": [
    "data <- rnorm(100, mean = 10, sd = 3) "
   ]
  },
  {
   "cell_type": "markdown",
   "metadata": {},
   "source": [
    "Let's determine whether **`data`** can be well-approximated by a normal distribution"
   ]
  },
  {
   "cell_type": "markdown",
   "metadata": {},
   "source": [
    "1.Assuming that **`data`** CAN be well-approximated by a normal distribution. Let's caculate the value **x** for each **q** \n",
    "quantile by using: <code>x = CDF<sup>-1</sup>(q)</code>"
   ]
  },
  {
   "cell_type": "code",
   "execution_count": 2,
   "metadata": {},
   "outputs": [],
   "source": [
    "m <- mean(data)                                 #The mean of sample\n",
    "s <- sd(data)                                   #The standard deviation of sample\n",
    "q <- seq(0, 1, length.out = 100)                #generate a range of q\n",
    "theoretical_x <- qnorm(q, mean = m, sd = s)    #inverse CDF of a normal distribution with mean = m, std = s"
   ]
  },
  {
   "cell_type": "markdown",
   "metadata": {},
   "source": [
    "2. Let's calculate the quantile of observed **`data`** by the definition:  \n",
    "If **x** is the **qth** quantile, then **q** % values in the data will smaller than **x**"
   ]
  },
  {
   "cell_type": "code",
   "execution_count": 3,
   "metadata": {},
   "outputs": [],
   "source": [
    "observed_x <- quantile(data, q)"
   ]
  },
  {
   "cell_type": "markdown",
   "metadata": {},
   "source": [
    "3. If **`data`** can be well-approximated by a normal distribution, then we expect: **`theoretical_x`** ~ **`observed_x`**"
   ]
  },
  {
   "cell_type": "code",
   "execution_count": 4,
   "metadata": {},
   "outputs": [
    {
     "data": {
      "image/png": "[encoded data removed]",
      "text/plain": [
       "plot without title"
      ]
     },
     "metadata": {},
     "output_type": "display_data"
    }
   ],
   "source": [
    "plot(theoretical_x, observed_x)\n",
    "abline(0, 1)"
   ]
  },
  {
   "cell_type": "markdown",
   "metadata": {},
   "source": [
    "We can see that each point is approximately on the same line, it means **`observed_x`** is approximately equal to  **`theoretical_x`**"
   ]
  },
  {
   "cell_type": "markdown",
   "metadata": {},
   "source": [
    "# Using ggplot2"
   ]
  },
  {
   "cell_type": "markdown",
   "metadata": {},
   "source": [
    "By default, the data are compared to a standard normal distribution with a mean of 0 and standard deviation of 1. This can be changed with the **`dparams`** arguments, or the sample data can be scaled."
   ]
  },
  {
   "cell_type": "code",
   "execution_count": 14,
   "metadata": {},
   "outputs": [
    {
     "data": {
      "image/png": "[encoded data removed]",
      "text/plain": [
       "plot without title"
      ]
     },
     "metadata": {},
     "output_type": "display_data"
    }
   ],
   "source": [
    "values <- data.frame(y = data)\n",
    "params <- c(mean = m, sd = s)\n",
    "ggplot(values, aes(sample = y)) + \n",
    "#plot points\n",
    "geom_qq(dparams = params) +\n",
    "#point line\n",
    "geom_qq_line(color = 'red', dparams = params)"
   ]
  },
  {
   "cell_type": "code",
   "execution_count": 15,
   "metadata": {},
   "outputs": [
    {
     "data": {
      "image/png": "[encoded data removed]",
      "text/plain": [
       "plot without title"
      ]
     },
     "metadata": {},
     "output_type": "display_data"
    }
   ],
   "source": [
    "#scale data\n",
    "ggplot(values, aes(sample = scale(y))) + \n",
    "geom_qq() + \n",
    "geom_abline()"
   ]
  }
 ],
 "metadata": {
  "kernelspec": {
   "display_name": "R",
   "language": "R",
   "name": "ir"
  },
  "language_info": {
   "codemirror_mode": "r",
   "file_extension": ".r",
   "mimetype": "text/x-r-source",
   "name": "R",
   "pygments_lexer": "r",
   "version": "3.6.1"
  }
 },
 "nbformat": 4,
 "nbformat_minor": 2
}
