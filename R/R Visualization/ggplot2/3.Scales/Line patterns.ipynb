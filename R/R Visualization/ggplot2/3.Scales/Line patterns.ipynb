{
 "cells": [
  {
   "cell_type": "markdown",
   "metadata": {},
   "source": [
    "Default line types based on a set supplied by Richard Pearson, University of Manchester. Continuous values can not be mapped to line types unless **`scale_linetype_binned()`** is used. Still, as linetypes has no inherent order, this use is not advised."
   ]
  },
  {
   "cell_type": "markdown",
   "metadata": {},
   "source": [
    "# Scales for line patterns"
   ]
  },
  {
   "cell_type": "markdown",
   "metadata": {},
   "source": [
    "```R\n",
    "scale_linetype(..., na.value = \"blank\")\n",
    "\n",
    "scale_linetype_binned(..., na.value = \"blank\")\n",
    "\n",
    "scale_linetype_continuous(...)\n",
    "\n",
    "scale_linetype_discrete(..., na.value = \"blank\")\n",
    "```"
   ]
  },
  {
   "cell_type": "markdown",
   "metadata": {},
   "source": [
    "# Examples"
   ]
  },
  {
   "cell_type": "code",
   "execution_count": null,
   "metadata": {},
   "outputs": [],
   "source": []
  }
 ],
 "metadata": {
  "kernelspec": {
   "display_name": "R",
   "language": "R",
   "name": "ir"
  },
  "language_info": {
   "codemirror_mode": "r",
   "file_extension": ".r",
   "mimetype": "text/x-r-source",
   "name": "R",
   "pygments_lexer": "r",
   "version": "3.6.1"
  }
 },
 "nbformat": 4,
 "nbformat_minor": 2
}
