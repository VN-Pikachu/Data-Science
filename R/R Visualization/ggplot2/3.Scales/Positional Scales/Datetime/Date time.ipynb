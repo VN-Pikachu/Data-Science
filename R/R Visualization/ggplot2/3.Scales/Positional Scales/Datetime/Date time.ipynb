{
 "cells": [
  {
   "cell_type": "code",
   "execution_count": 16,
   "metadata": {},
   "outputs": [
    {
     "name": "stderr",
     "output_type": "stream",
     "text": [
      "Warning message:\n",
      "\"package 'ggplot2' was built under R version 3.6.3\""
     ]
    }
   ],
   "source": [
    "library(ggplot2)"
   ]
  },
  {
   "cell_type": "markdown",
   "metadata": {},
   "source": [
    "# Position scales for date/time data"
   ]
  },
  {
   "cell_type": "markdown",
   "metadata": {},
   "source": [
    "These are the default scales for the three date/time class. These will usually be added automatically.   \n",
    "To override manually, use: \n",
    "* **`scale_*_date`** for dates (class Date) \n",
    "* **`scale_*_datetime`** for datetimes (class POSIXct)  \n",
    "* **`scale_*_time`**  for times (class hms)."
   ]
  },
  {
   "cell_type": "markdown",
   "metadata": {},
   "source": [
    "```R\n",
    "scale_x_date(\n",
    "  name = waiver(),\n",
    "  breaks = waiver(),\n",
    "  date_breaks = waiver(),\n",
    "  labels = waiver(),\n",
    "  date_labels = waiver(),\n",
    "  minor_breaks = waiver(),\n",
    "  date_minor_breaks = waiver(),\n",
    "  limits = NULL,\n",
    "  expand = waiver(),\n",
    "  guide = waiver(),\n",
    "  position = \"bottom\",\n",
    "  sec.axis = waiver()\n",
    ")\n",
    "\n",
    "scale_y_date(\n",
    "  name = waiver(),\n",
    "  breaks = waiver(),\n",
    "  date_breaks = waiver(),\n",
    "  labels = waiver(),\n",
    "  date_labels = waiver(),\n",
    "  minor_breaks = waiver(),\n",
    "  date_minor_breaks = waiver(),\n",
    "  limits = NULL,\n",
    "  expand = waiver(),\n",
    "  guide = waiver(),\n",
    "  position = \"left\",\n",
    "  sec.axis = waiver()\n",
    ")\n",
    "\n",
    "scale_x_datetime(\n",
    "  name = waiver(),\n",
    "  breaks = waiver(),\n",
    "  date_breaks = waiver(),\n",
    "  labels = waiver(),\n",
    "  date_labels = waiver(),\n",
    "  minor_breaks = waiver(),\n",
    "  date_minor_breaks = waiver(),\n",
    "  timezone = NULL,\n",
    "  limits = NULL,\n",
    "  expand = waiver(),\n",
    "  guide = waiver(),\n",
    "  position = \"bottom\",\n",
    "  sec.axis = waiver()\n",
    ")\n",
    "\n",
    "scale_y_datetime(\n",
    "  name = waiver(),\n",
    "  breaks = waiver(),\n",
    "  date_breaks = waiver(),\n",
    "  labels = waiver(),\n",
    "  date_labels = waiver(),\n",
    "  minor_breaks = waiver(),\n",
    "  date_minor_breaks = waiver(),\n",
    "  timezone = NULL,\n",
    "  limits = NULL,\n",
    "  expand = waiver(),\n",
    "  guide = waiver(),\n",
    "  position = \"left\",\n",
    "  sec.axis = waiver()\n",
    ")\n",
    "\n",
    "scale_x_time(\n",
    "  name = waiver(),\n",
    "  breaks = waiver(),\n",
    "  minor_breaks = waiver(),\n",
    "  labels = waiver(),\n",
    "  limits = NULL,\n",
    "  expand = waiver(),\n",
    "  oob = censor,\n",
    "  na.value = NA_real_,\n",
    "  guide = waiver(),\n",
    "  position = \"bottom\",\n",
    "  sec.axis = waiver()\n",
    ")\n",
    "\n",
    "scale_y_time(\n",
    "  name = waiver(),\n",
    "  breaks = waiver(),\n",
    "  minor_breaks = waiver(),\n",
    "  labels = waiver(),\n",
    "  limits = NULL,\n",
    "  expand = waiver(),\n",
    "  oob = censor,\n",
    "  na.value = NA_real_,\n",
    "  guide = waiver(),\n",
    "  position = \"left\",\n",
    "  sec.axis = waiver()\n",
    ")\n",
    "```"
   ]
  },
  {
   "cell_type": "markdown",
   "metadata": {},
   "source": [
    "# Arguments"
   ]
  },
  {
   "cell_type": "markdown",
   "metadata": {},
   "source": [
    "<b><a href = 'https://ggplot2.tidyverse.org/reference/scale_date.html'>Documentation</a></b>"
   ]
  },
  {
   "cell_type": "markdown",
   "metadata": {},
   "source": [
    "# Examples"
   ]
  },
  {
   "cell_type": "code",
   "execution_count": 1,
   "metadata": {},
   "outputs": [
    {
     "data": {
      "text/html": [
       "'C:/Users/dell/PycharmProjects/MachineLearning/Pandas/datasets'"
      ],
      "text/latex": [
       "'C:/Users/dell/PycharmProjects/MachineLearning/Pandas/datasets'"
      ],
      "text/markdown": [
       "'C:/Users/dell/PycharmProjects/MachineLearning/Pandas/datasets'"
      ],
      "text/plain": [
       "[1] \"C:/Users/dell/PycharmProjects/MachineLearning/Pandas/datasets\""
      ]
     },
     "metadata": {},
     "output_type": "display_data"
    }
   ],
   "source": [
    "setwd('C:/Users/dell/PycharmProjects/MachineLearning/Pandas/datasets')\n",
    "getwd()"
   ]
  },
  {
   "cell_type": "code",
   "execution_count": 4,
   "metadata": {},
   "outputs": [
    {
     "data": {
      "text/html": [
       "<ol class=list-inline>\n",
       "\t<li>'311-service-requests.csv'</li>\n",
       "\t<li>'appl_1980_2014.csv'</li>\n",
       "\t<li>'bikes.csv'</li>\n",
       "\t<li>'births.csv'</li>\n",
       "\t<li>'BostonHousing.csv'</li>\n",
       "\t<li>'cars1.csv'</li>\n",
       "\t<li>'cars2.csv'</li>\n",
       "\t<li>'Cars93_miss.csv'</li>\n",
       "\t<li>'chipotle.tsv'</li>\n",
       "\t<li>'daily-minimum-temperatures-in-me.csv'</li>\n",
       "\t<li>'data-science-london-scikit-learn'</li>\n",
       "\t<li>'digit-recognizer'</li>\n",
       "\t<li>'drinks.csv'</li>\n",
       "\t<li>'Electric_Production.csv'</li>\n",
       "\t<li>'Euro_2012_stats_TEAM.csv'</li>\n",
       "\t<li>'facial-keypoints-detection'</li>\n",
       "\t<li>'Fremont_Bridge.csv'</li>\n",
       "\t<li>'germany.csv'</li>\n",
       "\t<li>'house-prices-advanced-regression-techniques'</li>\n",
       "\t<li>'housing.csv'</li>\n",
       "\t<li>'MedianHouseholdIncome2015.csv'</li>\n",
       "\t<li>'ml'</li>\n",
       "\t<li>'ml-latest-small'</li>\n",
       "\t<li>'monthly-beer-production-in-austr.csv'</li>\n",
       "\t<li>'Online_Retail.csv'</li>\n",
       "\t<li>'PercentagePeopleBelowPovertyLevel.csv'</li>\n",
       "\t<li>'PercentOver25CompletedHighSchool.csv'</li>\n",
       "\t<li>'Pokemon.csv'</li>\n",
       "\t<li>'PoliceKillingsUS.csv'</li>\n",
       "\t<li>'pydata'</li>\n",
       "\t<li>'shampoo.csv'</li>\n",
       "\t<li>'ShareRaceByCity.csv'</li>\n",
       "\t<li>'state-abbrevs.csv'</li>\n",
       "\t<li>'state-areas.csv'</li>\n",
       "\t<li>'state-population.csv'</li>\n",
       "\t<li>'student-mat.csv'</li>\n",
       "\t<li>'StudentsPerformance.csv'</li>\n",
       "\t<li>'tips.csv'</li>\n",
       "\t<li>'tips.png'</li>\n",
       "\t<li>'titanic'</li>\n",
       "\t<li>'titanic.csv'</li>\n",
       "\t<li>'US_Baby_Names_right.csv'</li>\n",
       "\t<li>'US_Crime_Rates_1960_2014.csv'</li>\n",
       "\t<li>'user.csv'</li>\n",
       "\t<li>'weather_2012.csv'</li>\n",
       "\t<li>'wind.data'</li>\n",
       "\t<li>'winemag-data_first150k.csv'</li>\n",
       "</ol>\n"
      ],
      "text/latex": [
       "\\begin{enumerate*}\n",
       "\\item '311-service-requests.csv'\n",
       "\\item 'appl\\_1980\\_2014.csv'\n",
       "\\item 'bikes.csv'\n",
       "\\item 'births.csv'\n",
       "\\item 'BostonHousing.csv'\n",
       "\\item 'cars1.csv'\n",
       "\\item 'cars2.csv'\n",
       "\\item 'Cars93\\_miss.csv'\n",
       "\\item 'chipotle.tsv'\n",
       "\\item 'daily-minimum-temperatures-in-me.csv'\n",
       "\\item 'data-science-london-scikit-learn'\n",
       "\\item 'digit-recognizer'\n",
       "\\item 'drinks.csv'\n",
       "\\item 'Electric\\_Production.csv'\n",
       "\\item 'Euro\\_2012\\_stats\\_TEAM.csv'\n",
       "\\item 'facial-keypoints-detection'\n",
       "\\item 'Fremont\\_Bridge.csv'\n",
       "\\item 'germany.csv'\n",
       "\\item 'house-prices-advanced-regression-techniques'\n",
       "\\item 'housing.csv'\n",
       "\\item 'MedianHouseholdIncome2015.csv'\n",
       "\\item 'ml'\n",
       "\\item 'ml-latest-small'\n",
       "\\item 'monthly-beer-production-in-austr.csv'\n",
       "\\item 'Online\\_Retail.csv'\n",
       "\\item 'PercentagePeopleBelowPovertyLevel.csv'\n",
       "\\item 'PercentOver25CompletedHighSchool.csv'\n",
       "\\item 'Pokemon.csv'\n",
       "\\item 'PoliceKillingsUS.csv'\n",
       "\\item 'pydata'\n",
       "\\item 'shampoo.csv'\n",
       "\\item 'ShareRaceByCity.csv'\n",
       "\\item 'state-abbrevs.csv'\n",
       "\\item 'state-areas.csv'\n",
       "\\item 'state-population.csv'\n",
       "\\item 'student-mat.csv'\n",
       "\\item 'StudentsPerformance.csv'\n",
       "\\item 'tips.csv'\n",
       "\\item 'tips.png'\n",
       "\\item 'titanic'\n",
       "\\item 'titanic.csv'\n",
       "\\item 'US\\_Baby\\_Names\\_right.csv'\n",
       "\\item 'US\\_Crime\\_Rates\\_1960\\_2014.csv'\n",
       "\\item 'user.csv'\n",
       "\\item 'weather\\_2012.csv'\n",
       "\\item 'wind.data'\n",
       "\\item 'winemag-data\\_first150k.csv'\n",
       "\\end{enumerate*}\n"
      ],
      "text/markdown": [
       "1. '311-service-requests.csv'\n",
       "2. 'appl_1980_2014.csv'\n",
       "3. 'bikes.csv'\n",
       "4. 'births.csv'\n",
       "5. 'BostonHousing.csv'\n",
       "6. 'cars1.csv'\n",
       "7. 'cars2.csv'\n",
       "8. 'Cars93_miss.csv'\n",
       "9. 'chipotle.tsv'\n",
       "10. 'daily-minimum-temperatures-in-me.csv'\n",
       "11. 'data-science-london-scikit-learn'\n",
       "12. 'digit-recognizer'\n",
       "13. 'drinks.csv'\n",
       "14. 'Electric_Production.csv'\n",
       "15. 'Euro_2012_stats_TEAM.csv'\n",
       "16. 'facial-keypoints-detection'\n",
       "17. 'Fremont_Bridge.csv'\n",
       "18. 'germany.csv'\n",
       "19. 'house-prices-advanced-regression-techniques'\n",
       "20. 'housing.csv'\n",
       "21. 'MedianHouseholdIncome2015.csv'\n",
       "22. 'ml'\n",
       "23. 'ml-latest-small'\n",
       "24. 'monthly-beer-production-in-austr.csv'\n",
       "25. 'Online_Retail.csv'\n",
       "26. 'PercentagePeopleBelowPovertyLevel.csv'\n",
       "27. 'PercentOver25CompletedHighSchool.csv'\n",
       "28. 'Pokemon.csv'\n",
       "29. 'PoliceKillingsUS.csv'\n",
       "30. 'pydata'\n",
       "31. 'shampoo.csv'\n",
       "32. 'ShareRaceByCity.csv'\n",
       "33. 'state-abbrevs.csv'\n",
       "34. 'state-areas.csv'\n",
       "35. 'state-population.csv'\n",
       "36. 'student-mat.csv'\n",
       "37. 'StudentsPerformance.csv'\n",
       "38. 'tips.csv'\n",
       "39. 'tips.png'\n",
       "40. 'titanic'\n",
       "41. 'titanic.csv'\n",
       "42. 'US_Baby_Names_right.csv'\n",
       "43. 'US_Crime_Rates_1960_2014.csv'\n",
       "44. 'user.csv'\n",
       "45. 'weather_2012.csv'\n",
       "46. 'wind.data'\n",
       "47. 'winemag-data_first150k.csv'\n",
       "\n",
       "\n"
      ],
      "text/plain": [
       " [1] \"311-service-requests.csv\"                   \n",
       " [2] \"appl_1980_2014.csv\"                         \n",
       " [3] \"bikes.csv\"                                  \n",
       " [4] \"births.csv\"                                 \n",
       " [5] \"BostonHousing.csv\"                          \n",
       " [6] \"cars1.csv\"                                  \n",
       " [7] \"cars2.csv\"                                  \n",
       " [8] \"Cars93_miss.csv\"                            \n",
       " [9] \"chipotle.tsv\"                               \n",
       "[10] \"daily-minimum-temperatures-in-me.csv\"       \n",
       "[11] \"data-science-london-scikit-learn\"           \n",
       "[12] \"digit-recognizer\"                           \n",
       "[13] \"drinks.csv\"                                 \n",
       "[14] \"Electric_Production.csv\"                    \n",
       "[15] \"Euro_2012_stats_TEAM.csv\"                   \n",
       "[16] \"facial-keypoints-detection\"                 \n",
       "[17] \"Fremont_Bridge.csv\"                         \n",
       "[18] \"germany.csv\"                                \n",
       "[19] \"house-prices-advanced-regression-techniques\"\n",
       "[20] \"housing.csv\"                                \n",
       "[21] \"MedianHouseholdIncome2015.csv\"              \n",
       "[22] \"ml\"                                         \n",
       "[23] \"ml-latest-small\"                            \n",
       "[24] \"monthly-beer-production-in-austr.csv\"       \n",
       "[25] \"Online_Retail.csv\"                          \n",
       "[26] \"PercentagePeopleBelowPovertyLevel.csv\"      \n",
       "[27] \"PercentOver25CompletedHighSchool.csv\"       \n",
       "[28] \"Pokemon.csv\"                                \n",
       "[29] \"PoliceKillingsUS.csv\"                       \n",
       "[30] \"pydata\"                                     \n",
       "[31] \"shampoo.csv\"                                \n",
       "[32] \"ShareRaceByCity.csv\"                        \n",
       "[33] \"state-abbrevs.csv\"                          \n",
       "[34] \"state-areas.csv\"                            \n",
       "[35] \"state-population.csv\"                       \n",
       "[36] \"student-mat.csv\"                            \n",
       "[37] \"StudentsPerformance.csv\"                    \n",
       "[38] \"tips.csv\"                                   \n",
       "[39] \"tips.png\"                                   \n",
       "[40] \"titanic\"                                    \n",
       "[41] \"titanic.csv\"                                \n",
       "[42] \"US_Baby_Names_right.csv\"                    \n",
       "[43] \"US_Crime_Rates_1960_2014.csv\"               \n",
       "[44] \"user.csv\"                                   \n",
       "[45] \"weather_2012.csv\"                           \n",
       "[46] \"wind.data\"                                  \n",
       "[47] \"winemag-data_first150k.csv\"                 "
      ]
     },
     "metadata": {},
     "output_type": "display_data"
    }
   ],
   "source": [
    "dir()"
   ]
  },
  {
   "cell_type": "code",
   "execution_count": 11,
   "metadata": {},
   "outputs": [
    {
     "data": {
      "text/html": [
       "<table>\n",
       "<thead><tr><th scope=col>Date</th><th scope=col>Open</th><th scope=col>High</th><th scope=col>Low</th><th scope=col>Close</th><th scope=col>Volume</th><th scope=col>Adj.Close</th></tr></thead>\n",
       "<tbody>\n",
       "\t<tr><td>2014-07-08</td><td>96.27     </td><td>96.80     </td><td>93.92     </td><td>95.35     </td><td>65130000  </td><td>95.35     </td></tr>\n",
       "\t<tr><td>2014-07-07</td><td>94.14     </td><td>95.99     </td><td>94.10     </td><td>95.97     </td><td>56305400  </td><td>95.97     </td></tr>\n",
       "\t<tr><td>2014-07-03</td><td>93.67     </td><td>94.10     </td><td>93.20     </td><td>94.03     </td><td>22891800  </td><td>94.03     </td></tr>\n",
       "\t<tr><td>2014-07-02</td><td>93.87     </td><td>94.06     </td><td>93.09     </td><td>93.48     </td><td>28420900  </td><td>93.48     </td></tr>\n",
       "\t<tr><td>2014-07-01</td><td>93.52     </td><td>94.07     </td><td>93.13     </td><td>93.52     </td><td>38170200  </td><td>93.52     </td></tr>\n",
       "\t<tr><td>2014-06-30</td><td>92.10     </td><td>93.73     </td><td>92.09     </td><td>92.93     </td><td>49482300  </td><td>92.93     </td></tr>\n",
       "</tbody>\n",
       "</table>\n"
      ],
      "text/latex": [
       "\\begin{tabular}{r|lllllll}\n",
       " Date & Open & High & Low & Close & Volume & Adj.Close\\\\\n",
       "\\hline\n",
       "\t 2014-07-08 & 96.27      & 96.80      & 93.92      & 95.35      & 65130000   & 95.35     \\\\\n",
       "\t 2014-07-07 & 94.14      & 95.99      & 94.10      & 95.97      & 56305400   & 95.97     \\\\\n",
       "\t 2014-07-03 & 93.67      & 94.10      & 93.20      & 94.03      & 22891800   & 94.03     \\\\\n",
       "\t 2014-07-02 & 93.87      & 94.06      & 93.09      & 93.48      & 28420900   & 93.48     \\\\\n",
       "\t 2014-07-01 & 93.52      & 94.07      & 93.13      & 93.52      & 38170200   & 93.52     \\\\\n",
       "\t 2014-06-30 & 92.10      & 93.73      & 92.09      & 92.93      & 49482300   & 92.93     \\\\\n",
       "\\end{tabular}\n"
      ],
      "text/markdown": [
       "\n",
       "| Date | Open | High | Low | Close | Volume | Adj.Close |\n",
       "|---|---|---|---|---|---|---|\n",
       "| 2014-07-08 | 96.27      | 96.80      | 93.92      | 95.35      | 65130000   | 95.35      |\n",
       "| 2014-07-07 | 94.14      | 95.99      | 94.10      | 95.97      | 56305400   | 95.97      |\n",
       "| 2014-07-03 | 93.67      | 94.10      | 93.20      | 94.03      | 22891800   | 94.03      |\n",
       "| 2014-07-02 | 93.87      | 94.06      | 93.09      | 93.48      | 28420900   | 93.48      |\n",
       "| 2014-07-01 | 93.52      | 94.07      | 93.13      | 93.52      | 38170200   | 93.52      |\n",
       "| 2014-06-30 | 92.10      | 93.73      | 92.09      | 92.93      | 49482300   | 92.93      |\n",
       "\n"
      ],
      "text/plain": [
       "  Date       Open  High  Low   Close Volume   Adj.Close\n",
       "1 2014-07-08 96.27 96.80 93.92 95.35 65130000 95.35    \n",
       "2 2014-07-07 94.14 95.99 94.10 95.97 56305400 95.97    \n",
       "3 2014-07-03 93.67 94.10 93.20 94.03 22891800 94.03    \n",
       "4 2014-07-02 93.87 94.06 93.09 93.48 28420900 93.48    \n",
       "5 2014-07-01 93.52 94.07 93.13 93.52 38170200 93.52    \n",
       "6 2014-06-30 92.10 93.73 92.09 92.93 49482300 92.93    "
      ]
     },
     "metadata": {},
     "output_type": "display_data"
    }
   ],
   "source": [
    "head(apple)"
   ]
  },
  {
   "cell_type": "code",
   "execution_count": 31,
   "metadata": {},
   "outputs": [
    {
     "name": "stdout",
     "output_type": "stream",
     "text": [
      "'data.frame':\t8465 obs. of  7 variables:\n",
      " $ Date     : Date, format: \"2014-07-08\" \"2014-07-07\" ...\n",
      " $ Open     : num  96.3 94.1 93.7 93.9 93.5 ...\n",
      " $ High     : num  96.8 96 94.1 94.1 94.1 ...\n",
      " $ Low      : num  93.9 94.1 93.2 93.1 93.1 ...\n",
      " $ Close    : num  95.3 96 94 93.5 93.5 ...\n",
      " $ Volume   : int  65130000 56305400 22891800 28420900 38170200 49482300 64006800 32595800 36852200 38988300 ...\n",
      " $ Adj.Close: num  95.3 96 94 93.5 93.5 ...\n"
     ]
    }
   ],
   "source": [
    "apple$Date <- as.Date(apple$Date, '%Y-%m-%d')\n",
    "str(apple)"
   ]
  },
  {
   "cell_type": "code",
   "execution_count": 32,
   "metadata": {},
   "outputs": [
    {
     "data": {
      "image/png": "[encoded data removed]",
      "text/plain": [
       "plot without title"
      ]
     },
     "metadata": {},
     "output_type": "display_data"
    }
   ],
   "source": [
    "\n",
    "\n",
    "plot <- ggplot(apple, aes(Date, Open)) + geom_line()\n",
    "plot"
   ]
  },
  {
   "cell_type": "code",
   "execution_count": 39,
   "metadata": {},
   "outputs": [
    {
     "data": {
      "image/png": "[encoded data removed]",
      "text/plain": [
       "plot without title"
      ]
     },
     "metadata": {},
     "output_type": "display_data"
    }
   ],
   "source": [
    "# The date scale will attempt to pick sensible defaults for\n",
    "# major and minor tick marks. Override with date_breaks, date_labels\n",
    "# date_minor_breaks arguments.\n",
    "plot + scale_x_date(date_labels = '%b %Y')"
   ]
  },
  {
   "cell_type": "code",
   "execution_count": 44,
   "metadata": {},
   "outputs": [
    {
     "data": {
      "image/png": "[encoded data removed]",
      "text/plain": [
       "plot without title"
      ]
     },
     "metadata": {},
     "output_type": "display_data"
    }
   ],
   "source": [
    "plot + scale_x_date(date_break = '5 years', date_labels = '%Y')"
   ]
  },
  {
   "cell_type": "code",
   "execution_count": 47,
   "metadata": {},
   "outputs": [
    {
     "data": {
      "image/png": "[encoded data removed]",
      "text/plain": [
       "plot without title"
      ]
     },
     "metadata": {},
     "output_type": "display_data"
    }
   ],
   "source": [
    "plot + scale_x_date(date_minor_breaks = \"1 month\")"
   ]
  },
  {
   "cell_type": "code",
   "execution_count": 53,
   "metadata": {},
   "outputs": [
    {
     "name": "stderr",
     "output_type": "stream",
     "text": [
      "Warning message:\n",
      "\"Removed 4815 row(s) containing missing values (geom_path).\""
     ]
    },
    {
     "data": {
      "image/png": "[encoded data removed]",
      "text/plain": [
       "plot without title"
      ]
     },
     "metadata": {},
     "output_type": "display_data"
    }
   ],
   "source": [
    "# Set limits\n",
    "#set values starting from 2000\n",
    "plot + scale_x_date(limits = c(as.Date('1/1/2000', '%d/%m/%Y'), NA))"
   ]
  },
  {
   "cell_type": "code",
   "execution_count": null,
   "metadata": {},
   "outputs": [],
   "source": [
    "a"
   ]
  }
 ],
 "metadata": {
  "kernelspec": {
   "display_name": "R",
   "language": "R",
   "name": "ir"
  },
  "language_info": {
   "codemirror_mode": "r",
   "file_extension": ".r",
   "mimetype": "text/x-r-source",
   "name": "R",
   "pygments_lexer": "r",
   "version": "3.6.1"
  }
 },
 "nbformat": 4,
 "nbformat_minor": 2
}
