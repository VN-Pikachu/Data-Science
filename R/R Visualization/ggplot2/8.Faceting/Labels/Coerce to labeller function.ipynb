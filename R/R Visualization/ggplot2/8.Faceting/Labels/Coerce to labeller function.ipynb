{
 "cells": [
  {
   "cell_type": "code",
   "execution_count": 1,
   "metadata": {},
   "outputs": [
    {
     "name": "stderr",
     "output_type": "stream",
     "text": [
      "Warning message:\n",
      "\"package 'ggplot2' was built under R version 3.6.3\""
     ]
    }
   ],
   "source": [
    "library(ggplot2)"
   ]
  },
  {
   "cell_type": "markdown",
   "metadata": {},
   "source": [
    "# Coerce to labeller function"
   ]
  },
  {
   "cell_type": "markdown",
   "metadata": {},
   "source": [
    "<b style = 'color:red'>Basically, This function convert an object(a mapping, a function, ...) to a function that behave like **`label_value`**, **`label_both`**, **`label_context`**, ..."
   ]
  },
  {
   "cell_type": "markdown",
   "metadata": {},
   "source": [
    "This transforms objects to labeller functions. Used internally by labeller().\n",
    "```R\n",
    "as_labeller(x, default = label_value, multi_line = TRUE)\n",
    "```\n",
    "**Arguments**  \n",
    "`x`\t \n",
    "Object to coerce to a labeller function. If a named character vector, it is used as a lookup table before being passed on to default. If a non-labeller function, it is assumed it takes and returns character vectors and is applied to the labels. If a labeller, it is simply applied to the labels.\n",
    "\n",
    "`default`\t\n",
    "Default labeller to process the labels produced by lookup tables or modified by non-labeller functions.\n",
    "\n",
    "`multi_line`\t\n",
    "Whether to display the labels of multiple factors on separate lines. This is passed to the labeller function."
   ]
  },
  {
   "cell_type": "markdown",
   "metadata": {},
   "source": [
    "# Example"
   ]
  },
  {
   "cell_type": "code",
   "execution_count": 12,
   "metadata": {},
   "outputs": [
    {
     "data": {
      "text/html": [
       "'C:/Users/dell/PycharmProjects/MachineLearning/Pandas/datasets'"
      ],
      "text/latex": [
       "'C:/Users/dell/PycharmProjects/MachineLearning/Pandas/datasets'"
      ],
      "text/markdown": [
       "'C:/Users/dell/PycharmProjects/MachineLearning/Pandas/datasets'"
      ],
      "text/plain": [
       "[1] \"C:/Users/dell/PycharmProjects/MachineLearning/Pandas/datasets\""
      ]
     },
     "metadata": {},
     "output_type": "display_data"
    }
   ],
   "source": [
    "setwd('C:/Users/dell/PycharmProjects/MachineLearning/Pandas/datasets')\n",
    "getwd()"
   ]
  },
  {
   "cell_type": "code",
   "execution_count": 13,
   "metadata": {},
   "outputs": [
    {
     "data": {
      "text/html": [
       "<table>\n",
       "<thead><tr><th scope=col>X</th><th scope=col>total_bill</th><th scope=col>tip</th><th scope=col>sex</th><th scope=col>smoker</th><th scope=col>day</th><th scope=col>time</th><th scope=col>size</th></tr></thead>\n",
       "<tbody>\n",
       "\t<tr><td>0     </td><td>16.99 </td><td>1.01  </td><td>Female</td><td>No    </td><td>Sun   </td><td>Dinner</td><td>2     </td></tr>\n",
       "\t<tr><td>1     </td><td>10.34 </td><td>1.66  </td><td>Male  </td><td>No    </td><td>Sun   </td><td>Dinner</td><td>3     </td></tr>\n",
       "\t<tr><td>2     </td><td>21.01 </td><td>3.50  </td><td>Male  </td><td>No    </td><td>Sun   </td><td>Dinner</td><td>3     </td></tr>\n",
       "\t<tr><td>3     </td><td>23.68 </td><td>3.31  </td><td>Male  </td><td>No    </td><td>Sun   </td><td>Dinner</td><td>2     </td></tr>\n",
       "\t<tr><td>4     </td><td>24.59 </td><td>3.61  </td><td>Female</td><td>No    </td><td>Sun   </td><td>Dinner</td><td>4     </td></tr>\n",
       "\t<tr><td>5     </td><td>25.29 </td><td>4.71  </td><td>Male  </td><td>No    </td><td>Sun   </td><td>Dinner</td><td>4     </td></tr>\n",
       "</tbody>\n",
       "</table>\n"
      ],
      "text/latex": [
       "\\begin{tabular}{r|llllllll}\n",
       " X & total\\_bill & tip & sex & smoker & day & time & size\\\\\n",
       "\\hline\n",
       "\t 0      & 16.99  & 1.01   & Female & No     & Sun    & Dinner & 2     \\\\\n",
       "\t 1      & 10.34  & 1.66   & Male   & No     & Sun    & Dinner & 3     \\\\\n",
       "\t 2      & 21.01  & 3.50   & Male   & No     & Sun    & Dinner & 3     \\\\\n",
       "\t 3      & 23.68  & 3.31   & Male   & No     & Sun    & Dinner & 2     \\\\\n",
       "\t 4      & 24.59  & 3.61   & Female & No     & Sun    & Dinner & 4     \\\\\n",
       "\t 5      & 25.29  & 4.71   & Male   & No     & Sun    & Dinner & 4     \\\\\n",
       "\\end{tabular}\n"
      ],
      "text/markdown": [
       "\n",
       "| X | total_bill | tip | sex | smoker | day | time | size |\n",
       "|---|---|---|---|---|---|---|---|\n",
       "| 0      | 16.99  | 1.01   | Female | No     | Sun    | Dinner | 2      |\n",
       "| 1      | 10.34  | 1.66   | Male   | No     | Sun    | Dinner | 3      |\n",
       "| 2      | 21.01  | 3.50   | Male   | No     | Sun    | Dinner | 3      |\n",
       "| 3      | 23.68  | 3.31   | Male   | No     | Sun    | Dinner | 2      |\n",
       "| 4      | 24.59  | 3.61   | Female | No     | Sun    | Dinner | 4      |\n",
       "| 5      | 25.29  | 4.71   | Male   | No     | Sun    | Dinner | 4      |\n",
       "\n"
      ],
      "text/plain": [
       "  X total_bill tip  sex    smoker day time   size\n",
       "1 0 16.99      1.01 Female No     Sun Dinner 2   \n",
       "2 1 10.34      1.66 Male   No     Sun Dinner 3   \n",
       "3 2 21.01      3.50 Male   No     Sun Dinner 3   \n",
       "4 3 23.68      3.31 Male   No     Sun Dinner 2   \n",
       "5 4 24.59      3.61 Female No     Sun Dinner 4   \n",
       "6 5 25.29      4.71 Male   No     Sun Dinner 4   "
      ]
     },
     "metadata": {},
     "output_type": "display_data"
    }
   ],
   "source": [
    "tips <- read.csv('./tips.csv')\n",
    "head(tips)"
   ]
  },
  {
   "cell_type": "code",
   "execution_count": 3,
   "metadata": {},
   "outputs": [
    {
     "data": {
      "text/html": [
       "<table>\n",
       "<thead><tr><th></th><th scope=col>mpg</th><th scope=col>cyl</th><th scope=col>disp</th><th scope=col>hp</th><th scope=col>drat</th><th scope=col>wt</th><th scope=col>qsec</th><th scope=col>vs</th><th scope=col>am</th><th scope=col>gear</th><th scope=col>carb</th></tr></thead>\n",
       "<tbody>\n",
       "\t<tr><th scope=row>Mazda RX4</th><td>21.0 </td><td>6    </td><td>160  </td><td>110  </td><td>3.90 </td><td>2.620</td><td>16.46</td><td>0    </td><td>1    </td><td>4    </td><td>4    </td></tr>\n",
       "\t<tr><th scope=row>Mazda RX4 Wag</th><td>21.0 </td><td>6    </td><td>160  </td><td>110  </td><td>3.90 </td><td>2.875</td><td>17.02</td><td>0    </td><td>1    </td><td>4    </td><td>4    </td></tr>\n",
       "\t<tr><th scope=row>Datsun 710</th><td>22.8 </td><td>4    </td><td>108  </td><td> 93  </td><td>3.85 </td><td>2.320</td><td>18.61</td><td>1    </td><td>1    </td><td>4    </td><td>1    </td></tr>\n",
       "\t<tr><th scope=row>Hornet 4 Drive</th><td>21.4 </td><td>6    </td><td>258  </td><td>110  </td><td>3.08 </td><td>3.215</td><td>19.44</td><td>1    </td><td>0    </td><td>3    </td><td>1    </td></tr>\n",
       "\t<tr><th scope=row>Hornet Sportabout</th><td>18.7 </td><td>8    </td><td>360  </td><td>175  </td><td>3.15 </td><td>3.440</td><td>17.02</td><td>0    </td><td>0    </td><td>3    </td><td>2    </td></tr>\n",
       "\t<tr><th scope=row>Valiant</th><td>18.1 </td><td>6    </td><td>225  </td><td>105  </td><td>2.76 </td><td>3.460</td><td>20.22</td><td>1    </td><td>0    </td><td>3    </td><td>1    </td></tr>\n",
       "</tbody>\n",
       "</table>\n"
      ],
      "text/latex": [
       "\\begin{tabular}{r|lllllllllll}\n",
       "  & mpg & cyl & disp & hp & drat & wt & qsec & vs & am & gear & carb\\\\\n",
       "\\hline\n",
       "\tMazda RX4 & 21.0  & 6     & 160   & 110   & 3.90  & 2.620 & 16.46 & 0     & 1     & 4     & 4    \\\\\n",
       "\tMazda RX4 Wag & 21.0  & 6     & 160   & 110   & 3.90  & 2.875 & 17.02 & 0     & 1     & 4     & 4    \\\\\n",
       "\tDatsun 710 & 22.8  & 4     & 108   &  93   & 3.85  & 2.320 & 18.61 & 1     & 1     & 4     & 1    \\\\\n",
       "\tHornet 4 Drive & 21.4  & 6     & 258   & 110   & 3.08  & 3.215 & 19.44 & 1     & 0     & 3     & 1    \\\\\n",
       "\tHornet Sportabout & 18.7  & 8     & 360   & 175   & 3.15  & 3.440 & 17.02 & 0     & 0     & 3     & 2    \\\\\n",
       "\tValiant & 18.1  & 6     & 225   & 105   & 2.76  & 3.460 & 20.22 & 1     & 0     & 3     & 1    \\\\\n",
       "\\end{tabular}\n"
      ],
      "text/markdown": [
       "\n",
       "| <!--/--> | mpg | cyl | disp | hp | drat | wt | qsec | vs | am | gear | carb |\n",
       "|---|---|---|---|---|---|---|---|---|---|---|---|\n",
       "| Mazda RX4 | 21.0  | 6     | 160   | 110   | 3.90  | 2.620 | 16.46 | 0     | 1     | 4     | 4     |\n",
       "| Mazda RX4 Wag | 21.0  | 6     | 160   | 110   | 3.90  | 2.875 | 17.02 | 0     | 1     | 4     | 4     |\n",
       "| Datsun 710 | 22.8  | 4     | 108   |  93   | 3.85  | 2.320 | 18.61 | 1     | 1     | 4     | 1     |\n",
       "| Hornet 4 Drive | 21.4  | 6     | 258   | 110   | 3.08  | 3.215 | 19.44 | 1     | 0     | 3     | 1     |\n",
       "| Hornet Sportabout | 18.7  | 8     | 360   | 175   | 3.15  | 3.440 | 17.02 | 0     | 0     | 3     | 2     |\n",
       "| Valiant | 18.1  | 6     | 225   | 105   | 2.76  | 3.460 | 20.22 | 1     | 0     | 3     | 1     |\n",
       "\n"
      ],
      "text/plain": [
       "                  mpg  cyl disp hp  drat wt    qsec  vs am gear carb\n",
       "Mazda RX4         21.0 6   160  110 3.90 2.620 16.46 0  1  4    4   \n",
       "Mazda RX4 Wag     21.0 6   160  110 3.90 2.875 17.02 0  1  4    4   \n",
       "Datsun 710        22.8 4   108   93 3.85 2.320 18.61 1  1  4    1   \n",
       "Hornet 4 Drive    21.4 6   258  110 3.08 3.215 19.44 1  0  3    1   \n",
       "Hornet Sportabout 18.7 8   360  175 3.15 3.440 17.02 0  0  3    2   \n",
       "Valiant           18.1 6   225  105 2.76 3.460 20.22 1  0  3    1   "
      ]
     },
     "metadata": {},
     "output_type": "display_data"
    }
   ],
   "source": [
    "head(mtcars)"
   ]
  },
  {
   "cell_type": "code",
   "execution_count": 8,
   "metadata": {},
   "outputs": [],
   "source": [
    "mapping <- c(`1` = 'One', \n",
    "             `2` = 'Two', \n",
    "             `3` = 'Three', \n",
    "             `4` = 'Four',\n",
    "             `5` = 'Five', \n",
    "             `6` = 'Six', \n",
    "             `7` = 'Seven',\n",
    "             `8` = 'Eight',\n",
    "             `0` = 'Zero')"
   ]
  },
  {
   "cell_type": "code",
   "execution_count": 11,
   "metadata": {},
   "outputs": [
    {
     "data": {
      "image/png": "[encoded data removed]",
      "text/plain": [
       "plot without title"
      ]
     },
     "metadata": {},
     "output_type": "display_data"
    }
   ],
   "source": [
    "# Rename labels on the fly with a lookup character vector\n",
    "#to_string now is like function label_value, label_both, ....\n",
    "to_string <- as_labeller(mapping)\n",
    "\n",
    "ggplot(mtcars, aes(wt, mpg)) + \n",
    "geom_point() +\n",
    "facet_grid(cyl ~ gear, \n",
    "           labeller = to_string)   #apply mapping to every varible of facet\n",
    "                                   #it works just like label_both, label_value\n",
    "                                   #when we set labeller = label_both\n",
    "                                   #facet_grid(sex + smoker ~ day + time, labeller = label_both), it is equivalent to:\n",
    "                                   #labeller = labeller(sex = label_both, \n",
    "                                   #                    smoker = label_both, \n",
    "                                   #                    day = label_both, \n",
    "                                   #                    time = label_both)"
   ]
  },
  {
   "cell_type": "code",
   "execution_count": 14,
   "metadata": {},
   "outputs": [
    {
     "data": {
      "image/png": "[encoded data removed]",
      "text/plain": [
       "plot without title"
      ]
     },
     "metadata": {},
     "output_type": "display_data"
    }
   ],
   "source": [
    "# Quickly transform a function operating on character vectors to labeller function\n",
    "label_decorate <- as_labeller(function(labels) paste('xXx-', labels, '-xXx'))\n",
    "\n",
    "ggplot(tips, aes(total_bill, tip)) +\n",
    "geom_point() + \n",
    "facet_grid(sex + smoker ~ day + time, labeller = label_decorate)"
   ]
  },
  {
   "cell_type": "code",
   "execution_count": 15,
   "metadata": {},
   "outputs": [
    {
     "data": {
      "image/png": "[encoded data removed]",
      "text/plain": [
       "plot without title"
      ]
     },
     "metadata": {},
     "output_type": "display_data"
    }
   ],
   "source": [
    "#You can also use it for a few variable of facet instead of all variable\n",
    "ggplot(tips, aes(total_bill, tip)) + \n",
    "geom_point() + \n",
    "facet_grid(sex + smoker ~ day + time, labeller = labeller(day = label_decorate))"
   ]
  },
  {
   "cell_type": "code",
   "execution_count": null,
   "metadata": {},
   "outputs": [],
   "source": []
  }
 ],
 "metadata": {
  "kernelspec": {
   "display_name": "R",
   "language": "R",
   "name": "ir"
  },
  "language_info": {
   "codemirror_mode": "r",
   "file_extension": ".r",
   "mimetype": "text/x-r-source",
   "name": "R",
   "pygments_lexer": "r",
   "version": "3.6.1"
  }
 },
 "nbformat": 4,
 "nbformat_minor": 2
}
