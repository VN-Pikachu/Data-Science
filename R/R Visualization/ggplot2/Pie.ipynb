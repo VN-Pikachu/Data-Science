{
 "cells": [
  {
   "cell_type": "code",
   "execution_count": 1,
   "metadata": {},
   "outputs": [
    {
     "name": "stderr",
     "output_type": "stream",
     "text": [
      "Warning message:\n",
      "\"package 'ggplot2' was built under R version 3.6.3\""
     ]
    }
   ],
   "source": [
    "library(ggplot2)"
   ]
  },
  {
   "cell_type": "code",
   "execution_count": 2,
   "metadata": {},
   "outputs": [
    {
     "data": {
      "text/html": [
       "<table>\n",
       "<thead><tr><th scope=col>subjects</th><th scope=col>mul</th></tr></thead>\n",
       "<tbody>\n",
       "\t<tr><td>Math      </td><td>2         </td></tr>\n",
       "\t<tr><td>Literature</td><td>2         </td></tr>\n",
       "\t<tr><td>English   </td><td>1         </td></tr>\n",
       "</tbody>\n",
       "</table>\n"
      ],
      "text/latex": [
       "\\begin{tabular}{r|ll}\n",
       " subjects & mul\\\\\n",
       "\\hline\n",
       "\t Math       & 2         \\\\\n",
       "\t Literature & 2         \\\\\n",
       "\t English    & 1         \\\\\n",
       "\\end{tabular}\n"
      ],
      "text/markdown": [
       "\n",
       "| subjects | mul |\n",
       "|---|---|\n",
       "| Math       | 2          |\n",
       "| Literature | 2          |\n",
       "| English    | 1          |\n",
       "\n"
      ],
      "text/plain": [
       "  subjects   mul\n",
       "1 Math       2  \n",
       "2 Literature 2  \n",
       "3 English    1  "
      ]
     },
     "metadata": {},
     "output_type": "display_data"
    }
   ],
   "source": [
    "subjects <- c('Math', 'Literature', 'English')\n",
    "mul <- c(2, 2, 1)\n",
    "score <- data.frame(subjects, mul)\n",
    "score"
   ]
  },
  {
   "cell_type": "code",
   "execution_count": 10,
   "metadata": {},
   "outputs": [
    {
     "data": {
      "image/png": "[encoded data removed]",
      "text/plain": [
       "plot without title"
      ]
     },
     "metadata": {},
     "output_type": "display_data"
    }
   ],
   "source": [
    "ggplot(score, aes(x = '', y = mul, fill = subjects)) +\n",
    "geom_bar(stat = 'identity') +\n",
    "coord_polar(theta = 'y')"
   ]
  },
  {
   "cell_type": "code",
   "execution_count": 6,
   "metadata": {},
   "outputs": [],
   "source": [
    "?coord_polar"
   ]
  },
  {
   "cell_type": "code",
   "execution_count": null,
   "metadata": {},
   "outputs": [],
   "source": []
  }
 ],
 "metadata": {
  "kernelspec": {
   "display_name": "R",
   "language": "R",
   "name": "ir"
  },
  "language_info": {
   "codemirror_mode": "r",
   "file_extension": ".r",
   "mimetype": "text/x-r-source",
   "name": "R",
   "pygments_lexer": "r",
   "version": "3.6.1"
  }
 },
 "nbformat": 4,
 "nbformat_minor": 2
}
