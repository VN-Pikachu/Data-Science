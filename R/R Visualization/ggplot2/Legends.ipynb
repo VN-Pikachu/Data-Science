{
 "cells": [
  {
   "cell_type": "code",
   "execution_count": 1,
   "metadata": {},
   "outputs": [
    {
     "name": "stderr",
     "output_type": "stream",
     "text": [
      "Warning message:\n",
      "\"package 'ggplot2' was built under R version 3.6.3\""
     ]
    }
   ],
   "source": [
    "library(ggplot2)"
   ]
  },
  {
   "cell_type": "markdown",
   "metadata": {},
   "source": [
    "<img src = './ggplot2_legend.png'/>"
   ]
  },
  {
   "cell_type": "code",
   "execution_count": 2,
   "metadata": {},
   "outputs": [
    {
     "data": {
      "text/html": [
       "'C:/Users/dell/PycharmProjects/MachineLearning/Pandas/datasets'"
      ],
      "text/latex": [
       "'C:/Users/dell/PycharmProjects/MachineLearning/Pandas/datasets'"
      ],
      "text/markdown": [
       "'C:/Users/dell/PycharmProjects/MachineLearning/Pandas/datasets'"
      ],
      "text/plain": [
       "[1] \"C:/Users/dell/PycharmProjects/MachineLearning/Pandas/datasets\""
      ]
     },
     "metadata": {},
     "output_type": "display_data"
    }
   ],
   "source": [
    "setwd('C:/Users/dell/PycharmProjects/MachineLearning/Pandas/datasets')\n",
    "getwd()"
   ]
  },
  {
   "cell_type": "code",
   "execution_count": 3,
   "metadata": {},
   "outputs": [
    {
     "data": {
      "text/html": [
       "<table>\n",
       "<thead><tr><th scope=col>X</th><th scope=col>total_bill</th><th scope=col>tip</th><th scope=col>sex</th><th scope=col>smoker</th><th scope=col>day</th><th scope=col>time</th><th scope=col>size</th></tr></thead>\n",
       "<tbody>\n",
       "\t<tr><td>0     </td><td>16.99 </td><td>1.01  </td><td>Female</td><td>No    </td><td>Sun   </td><td>Dinner</td><td>2     </td></tr>\n",
       "\t<tr><td>1     </td><td>10.34 </td><td>1.66  </td><td>Male  </td><td>No    </td><td>Sun   </td><td>Dinner</td><td>3     </td></tr>\n",
       "\t<tr><td>2     </td><td>21.01 </td><td>3.50  </td><td>Male  </td><td>No    </td><td>Sun   </td><td>Dinner</td><td>3     </td></tr>\n",
       "\t<tr><td>3     </td><td>23.68 </td><td>3.31  </td><td>Male  </td><td>No    </td><td>Sun   </td><td>Dinner</td><td>2     </td></tr>\n",
       "\t<tr><td>4     </td><td>24.59 </td><td>3.61  </td><td>Female</td><td>No    </td><td>Sun   </td><td>Dinner</td><td>4     </td></tr>\n",
       "\t<tr><td>5     </td><td>25.29 </td><td>4.71  </td><td>Male  </td><td>No    </td><td>Sun   </td><td>Dinner</td><td>4     </td></tr>\n",
       "</tbody>\n",
       "</table>\n"
      ],
      "text/latex": [
       "\\begin{tabular}{r|llllllll}\n",
       " X & total\\_bill & tip & sex & smoker & day & time & size\\\\\n",
       "\\hline\n",
       "\t 0      & 16.99  & 1.01   & Female & No     & Sun    & Dinner & 2     \\\\\n",
       "\t 1      & 10.34  & 1.66   & Male   & No     & Sun    & Dinner & 3     \\\\\n",
       "\t 2      & 21.01  & 3.50   & Male   & No     & Sun    & Dinner & 3     \\\\\n",
       "\t 3      & 23.68  & 3.31   & Male   & No     & Sun    & Dinner & 2     \\\\\n",
       "\t 4      & 24.59  & 3.61   & Female & No     & Sun    & Dinner & 4     \\\\\n",
       "\t 5      & 25.29  & 4.71   & Male   & No     & Sun    & Dinner & 4     \\\\\n",
       "\\end{tabular}\n"
      ],
      "text/markdown": [
       "\n",
       "| X | total_bill | tip | sex | smoker | day | time | size |\n",
       "|---|---|---|---|---|---|---|---|\n",
       "| 0      | 16.99  | 1.01   | Female | No     | Sun    | Dinner | 2      |\n",
       "| 1      | 10.34  | 1.66   | Male   | No     | Sun    | Dinner | 3      |\n",
       "| 2      | 21.01  | 3.50   | Male   | No     | Sun    | Dinner | 3      |\n",
       "| 3      | 23.68  | 3.31   | Male   | No     | Sun    | Dinner | 2      |\n",
       "| 4      | 24.59  | 3.61   | Female | No     | Sun    | Dinner | 4      |\n",
       "| 5      | 25.29  | 4.71   | Male   | No     | Sun    | Dinner | 4      |\n",
       "\n"
      ],
      "text/plain": [
       "  X total_bill tip  sex    smoker day time   size\n",
       "1 0 16.99      1.01 Female No     Sun Dinner 2   \n",
       "2 1 10.34      1.66 Male   No     Sun Dinner 3   \n",
       "3 2 21.01      3.50 Male   No     Sun Dinner 3   \n",
       "4 3 23.68      3.31 Male   No     Sun Dinner 2   \n",
       "5 4 24.59      3.61 Female No     Sun Dinner 4   \n",
       "6 5 25.29      4.71 Male   No     Sun Dinner 4   "
      ]
     },
     "metadata": {},
     "output_type": "display_data"
    }
   ],
   "source": [
    "tips <- read.csv('./tips.csv')\n",
    "head(tips)"
   ]
  },
  {
   "cell_type": "code",
   "execution_count": 5,
   "metadata": {},
   "outputs": [
    {
     "data": {
      "image/png": "[encoded data removed]",
      "text/plain": [
       "plot without title"
      ]
     },
     "metadata": {},
     "output_type": "display_data"
    }
   ],
   "source": [
    "plot <- ggplot(tips, aes(total_bill, tip, color = sex)) + geom_point()\n",
    "plot"
   ]
  },
  {
   "cell_type": "markdown",
   "metadata": {},
   "source": [
    "# How to change to title of the legend?"
   ]
  },
  {
   "cell_type": "markdown",
   "metadata": {},
   "source": [
    "<b style = 'color:red'>Changing the `name` of the `scale function` that generates the legend</b>"
   ]
  },
  {
   "cell_type": "code",
   "execution_count": 6,
   "metadata": {},
   "outputs": [
    {
     "data": {
      "image/png": "[encoded data removed]",
      "text/plain": [
       "plot without title"
      ]
     },
     "metadata": {},
     "output_type": "display_data"
    }
   ],
   "source": [
    "#The legend is created by aes(color = sex)\n",
    "#So we change the name of the scale: scale_color_discrete\n",
    "\n",
    "plot + scale_color_discrete(name = 'Gender') #Change legend's title to \"Gender\""
   ]
  },
  {
   "cell_type": "markdown",
   "metadata": {},
   "source": [
    "# How to set legend's label?"
   ]
  },
  {
   "cell_type": "markdown",
   "metadata": {},
   "source": [
    "<b style = 'color:red'>By change `breaks` and `labels` of the `scale function` that generate the legend</b>"
   ]
  },
  {
   "cell_type": "code",
   "execution_count": 8,
   "metadata": {},
   "outputs": [
    {
     "data": {
      "image/png": "[encoded data removed]",
      "text/plain": [
       "plot without title"
      ]
     },
     "metadata": {},
     "output_type": "display_data"
    }
   ],
   "source": [
    "#Mapping 'Male' to 'Man' and 'Female' to 'Woman'\n",
    "plot +\n",
    "scale_color_discrete(breaks = c('Male', 'Female'), labels = c('Man', 'Woman'))"
   ]
  },
  {
   "cell_type": "markdown",
   "metadata": {},
   "source": [
    "# How to customize the legend?"
   ]
  },
  {
   "cell_type": "markdown",
   "metadata": {},
   "source": [
    "<b style = 'color:red'>Using `theme()`</b>"
   ]
  },
  {
   "cell_type": "code",
   "execution_count": 10,
   "metadata": {},
   "outputs": [
    {
     "data": {
      "text/html": [
       "<pre class=language-r><code>function (line, rect, text, title, aspect.ratio, axis.title, \n",
       "<span style=white-space:pre-wrap>    axis.title.x, axis.title.x.top, axis.title.x.bottom, axis.title.y, </span>\n",
       "<span style=white-space:pre-wrap>    axis.title.y.left, axis.title.y.right, axis.text, axis.text.x, </span>\n",
       "<span style=white-space:pre-wrap>    axis.text.x.top, axis.text.x.bottom, axis.text.y, axis.text.y.left, </span>\n",
       "<span style=white-space:pre-wrap>    axis.text.y.right, axis.ticks, axis.ticks.x, axis.ticks.x.top, </span>\n",
       "<span style=white-space:pre-wrap>    axis.ticks.x.bottom, axis.ticks.y, axis.ticks.y.left, axis.ticks.y.right, </span>\n",
       "<span style=white-space:pre-wrap>    axis.ticks.length, axis.ticks.length.x, axis.ticks.length.x.top, </span>\n",
       "<span style=white-space:pre-wrap>    axis.ticks.length.x.bottom, axis.ticks.length.y, axis.ticks.length.y.left, </span>\n",
       "<span style=white-space:pre-wrap>    axis.ticks.length.y.right, axis.line, axis.line.x, axis.line.x.top, </span>\n",
       "<span style=white-space:pre-wrap>    axis.line.x.bottom, axis.line.y, axis.line.y.left, axis.line.y.right, </span>\n",
       "<span style=white-space:pre-wrap>    legend.background, legend.margin, legend.spacing, legend.spacing.x, </span>\n",
       "<span style=white-space:pre-wrap>    legend.spacing.y, legend.key, legend.key.size, legend.key.height, </span>\n",
       "<span style=white-space:pre-wrap>    legend.key.width, legend.text, legend.text.align, legend.title, </span>\n",
       "<span style=white-space:pre-wrap>    legend.title.align, legend.position, legend.direction, legend.justification, </span>\n",
       "<span style=white-space:pre-wrap>    legend.box, legend.box.just, legend.box.margin, legend.box.background, </span>\n",
       "<span style=white-space:pre-wrap>    legend.box.spacing, panel.background, panel.border, panel.spacing, </span>\n",
       "<span style=white-space:pre-wrap>    panel.spacing.x, panel.spacing.y, panel.grid, panel.grid.major, </span>\n",
       "<span style=white-space:pre-wrap>    panel.grid.minor, panel.grid.major.x, panel.grid.major.y, </span>\n",
       "<span style=white-space:pre-wrap>    panel.grid.minor.x, panel.grid.minor.y, panel.ontop, plot.background, </span>\n",
       "<span style=white-space:pre-wrap>    plot.title, plot.title.position, plot.subtitle, plot.caption, </span>\n",
       "<span style=white-space:pre-wrap>    plot.caption.position, plot.tag, plot.tag.position, plot.margin, </span>\n",
       "<span style=white-space:pre-wrap>    strip.background, strip.background.x, strip.background.y, </span>\n",
       "<span style=white-space:pre-wrap>    strip.placement, strip.text, strip.text.x, strip.text.y, </span>\n",
       "<span style=white-space:pre-wrap>    strip.switch.pad.grid, strip.switch.pad.wrap, ..., complete = FALSE, </span>\n",
       "<span style=white-space:pre-wrap>    validate = TRUE) </span>\n",
       "NULL</code></pre>"
      ],
      "text/latex": [
       "\\begin{minted}{r}\n",
       "function (line, rect, text, title, aspect.ratio, axis.title, \n",
       "    axis.title.x, axis.title.x.top, axis.title.x.bottom, axis.title.y, \n",
       "    axis.title.y.left, axis.title.y.right, axis.text, axis.text.x, \n",
       "    axis.text.x.top, axis.text.x.bottom, axis.text.y, axis.text.y.left, \n",
       "    axis.text.y.right, axis.ticks, axis.ticks.x, axis.ticks.x.top, \n",
       "    axis.ticks.x.bottom, axis.ticks.y, axis.ticks.y.left, axis.ticks.y.right, \n",
       "    axis.ticks.length, axis.ticks.length.x, axis.ticks.length.x.top, \n",
       "    axis.ticks.length.x.bottom, axis.ticks.length.y, axis.ticks.length.y.left, \n",
       "    axis.ticks.length.y.right, axis.line, axis.line.x, axis.line.x.top, \n",
       "    axis.line.x.bottom, axis.line.y, axis.line.y.left, axis.line.y.right, \n",
       "    legend.background, legend.margin, legend.spacing, legend.spacing.x, \n",
       "    legend.spacing.y, legend.key, legend.key.size, legend.key.height, \n",
       "    legend.key.width, legend.text, legend.text.align, legend.title, \n",
       "    legend.title.align, legend.position, legend.direction, legend.justification, \n",
       "    legend.box, legend.box.just, legend.box.margin, legend.box.background, \n",
       "    legend.box.spacing, panel.background, panel.border, panel.spacing, \n",
       "    panel.spacing.x, panel.spacing.y, panel.grid, panel.grid.major, \n",
       "    panel.grid.minor, panel.grid.major.x, panel.grid.major.y, \n",
       "    panel.grid.minor.x, panel.grid.minor.y, panel.ontop, plot.background, \n",
       "    plot.title, plot.title.position, plot.subtitle, plot.caption, \n",
       "    plot.caption.position, plot.tag, plot.tag.position, plot.margin, \n",
       "    strip.background, strip.background.x, strip.background.y, \n",
       "    strip.placement, strip.text, strip.text.x, strip.text.y, \n",
       "    strip.switch.pad.grid, strip.switch.pad.wrap, ..., complete = FALSE, \n",
       "    validate = TRUE) \n",
       "NULL\n",
       "\\end{minted}"
      ],
      "text/markdown": [
       "```r\n",
       "function (line, rect, text, title, aspect.ratio, axis.title, \n",
       "    axis.title.x, axis.title.x.top, axis.title.x.bottom, axis.title.y, \n",
       "    axis.title.y.left, axis.title.y.right, axis.text, axis.text.x, \n",
       "    axis.text.x.top, axis.text.x.bottom, axis.text.y, axis.text.y.left, \n",
       "    axis.text.y.right, axis.ticks, axis.ticks.x, axis.ticks.x.top, \n",
       "    axis.ticks.x.bottom, axis.ticks.y, axis.ticks.y.left, axis.ticks.y.right, \n",
       "    axis.ticks.length, axis.ticks.length.x, axis.ticks.length.x.top, \n",
       "    axis.ticks.length.x.bottom, axis.ticks.length.y, axis.ticks.length.y.left, \n",
       "    axis.ticks.length.y.right, axis.line, axis.line.x, axis.line.x.top, \n",
       "    axis.line.x.bottom, axis.line.y, axis.line.y.left, axis.line.y.right, \n",
       "    legend.background, legend.margin, legend.spacing, legend.spacing.x, \n",
       "    legend.spacing.y, legend.key, legend.key.size, legend.key.height, \n",
       "    legend.key.width, legend.text, legend.text.align, legend.title, \n",
       "    legend.title.align, legend.position, legend.direction, legend.justification, \n",
       "    legend.box, legend.box.just, legend.box.margin, legend.box.background, \n",
       "    legend.box.spacing, panel.background, panel.border, panel.spacing, \n",
       "    panel.spacing.x, panel.spacing.y, panel.grid, panel.grid.major, \n",
       "    panel.grid.minor, panel.grid.major.x, panel.grid.major.y, \n",
       "    panel.grid.minor.x, panel.grid.minor.y, panel.ontop, plot.background, \n",
       "    plot.title, plot.title.position, plot.subtitle, plot.caption, \n",
       "    plot.caption.position, plot.tag, plot.tag.position, plot.margin, \n",
       "    strip.background, strip.background.x, strip.background.y, \n",
       "    strip.placement, strip.text, strip.text.x, strip.text.y, \n",
       "    strip.switch.pad.grid, strip.switch.pad.wrap, ..., complete = FALSE, \n",
       "    validate = TRUE) \n",
       "NULL\n",
       "```"
      ],
      "text/plain": [
       "function (line, rect, text, title, aspect.ratio, axis.title, \n",
       "    axis.title.x, axis.title.x.top, axis.title.x.bottom, axis.title.y, \n",
       "    axis.title.y.left, axis.title.y.right, axis.text, axis.text.x, \n",
       "    axis.text.x.top, axis.text.x.bottom, axis.text.y, axis.text.y.left, \n",
       "    axis.text.y.right, axis.ticks, axis.ticks.x, axis.ticks.x.top, \n",
       "    axis.ticks.x.bottom, axis.ticks.y, axis.ticks.y.left, axis.ticks.y.right, \n",
       "    axis.ticks.length, axis.ticks.length.x, axis.ticks.length.x.top, \n",
       "    axis.ticks.length.x.bottom, axis.ticks.length.y, axis.ticks.length.y.left, \n",
       "    axis.ticks.length.y.right, axis.line, axis.line.x, axis.line.x.top, \n",
       "    axis.line.x.bottom, axis.line.y, axis.line.y.left, axis.line.y.right, \n",
       "    legend.background, legend.margin, legend.spacing, legend.spacing.x, \n",
       "    legend.spacing.y, legend.key, legend.key.size, legend.key.height, \n",
       "    legend.key.width, legend.text, legend.text.align, legend.title, \n",
       "    legend.title.align, legend.position, legend.direction, legend.justification, \n",
       "    legend.box, legend.box.just, legend.box.margin, legend.box.background, \n",
       "    legend.box.spacing, panel.background, panel.border, panel.spacing, \n",
       "    panel.spacing.x, panel.spacing.y, panel.grid, panel.grid.major, \n",
       "    panel.grid.minor, panel.grid.major.x, panel.grid.major.y, \n",
       "    panel.grid.minor.x, panel.grid.minor.y, panel.ontop, plot.background, \n",
       "    plot.title, plot.title.position, plot.subtitle, plot.caption, \n",
       "    plot.caption.position, plot.tag, plot.tag.position, plot.margin, \n",
       "    strip.background, strip.background.x, strip.background.y, \n",
       "    strip.placement, strip.text, strip.text.x, strip.text.y, \n",
       "    strip.switch.pad.grid, strip.switch.pad.wrap, ..., complete = FALSE, \n",
       "    validate = TRUE) \n",
       "NULL"
      ]
     },
     "metadata": {},
     "output_type": "display_data"
    }
   ],
   "source": [
    "args(theme)"
   ]
  }
 ],
 "metadata": {
  "kernelspec": {
   "display_name": "R",
   "language": "R",
   "name": "ir"
  },
  "language_info": {
   "codemirror_mode": "r",
   "file_extension": ".r",
   "mimetype": "text/x-r-source",
   "name": "R",
   "pygments_lexer": "r",
   "version": "3.6.1"
  }
 },
 "nbformat": 4,
 "nbformat_minor": 2
}
