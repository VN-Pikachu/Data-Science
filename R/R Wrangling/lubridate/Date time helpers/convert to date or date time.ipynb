{
 "cells": [
  {
   "cell_type": "code",
   "execution_count": 2,
   "metadata": {},
   "outputs": [],
   "source": [
    "library(lubridate)"
   ]
  },
  {
   "cell_type": "markdown",
   "metadata": {},
   "source": [
    "# Convert an object to a date or date-time"
   ]
  },
  {
   "cell_type": "markdown",
   "metadata": {},
   "source": [
    "Convert an object to a date or date-time\n",
    "\n",
    "```r\n",
    "as_date(x, ...)\n",
    "\n",
    "# S4 method for ANY\n",
    "as_date(x, ...)\n",
    "\n",
    "# S4 method for POSIXt\n",
    "as_date(x, tz = NULL)\n",
    "\n",
    "# S4 method for numeric\n",
    "as_date(x, origin = lubridate::origin)\n",
    "\n",
    "# S4 method for character\n",
    "as_date(x, tz = NULL, format = NULL)\n",
    "\n",
    "as_datetime(x, ...)\n",
    "\n",
    "# S4 method for POSIXt\n",
    "as_datetime(x, tz = \"UTC\")\n",
    "\n",
    "# S4 method for numeric\n",
    "as_datetime(x, origin = lubridate::origin, tz = \"UTC\")\n",
    "\n",
    "# S4 method for character\n",
    "as_datetime(x, tz = \"UTC\", format = NULL)\n",
    "\n",
    "# S4 method for ANY\n",
    "as_datetime(x, tz = \"UTC\")\n",
    "```"
   ]
  },
  {
   "cell_type": "markdown",
   "metadata": {},
   "source": [
    "### Arguments"
   ]
  },
  {
   "cell_type": "markdown",
   "metadata": {},
   "source": [
    "`x`\t\n",
    "a vector of POSIXt, numeric or character objects\n",
    "\n",
    "`...`\t\n",
    "further arguments to be passed to specific methods (see above).\n",
    "\n",
    "`tz`\t\n",
    "a time zone name (default: time zone of the POSIXt object x). See `OlsonNames()`.\n",
    "\n",
    "`origin`\t\n",
    "a Date object, or something which can be coerced by `as.Date(origin, ...)` to such an object (default: the Unix epoch of \"1970-01-01\"). Note that in this instance, x is assumed to reflect the number of days since origin at \"UTC\".\n",
    "\n",
    "`format`\t\n",
    "format argument for character methods. When supplied parsing is performed by `strptime()`. For this reason consider using specialized parsing functions in lubridate.\n",
    "\n",
    "`Value`\n",
    "a vector of Date objects corresponding to x."
   ]
  },
  {
   "cell_type": "markdown",
   "metadata": {},
   "source": [
    "# Examples"
   ]
  },
  {
   "cell_type": "markdown",
   "metadata": {},
   "source": [
    "This can convert an object to date or date-time (e.g: POSIXct, ...)  \n",
    "while functions like `ymd()`, `ymd_hms()`, ... can only convert numeric vector or charcter vector to date or date time"
   ]
  },
  {
   "cell_type": "code",
   "execution_count": 3,
   "metadata": {},
   "outputs": [
    {
     "data": {
      "text/plain": [
       "[1] \"2010-08-03 00:50:50 UTC\""
      ]
     },
     "metadata": {},
     "output_type": "display_data"
    }
   ],
   "source": [
    "dt_utc <- ymd_hms(\"2010-08-03 00:50:50\")\n",
    "dt_utc"
   ]
  },
  {
   "cell_type": "code",
   "execution_count": 12,
   "metadata": {},
   "outputs": [
    {
     "data": {
      "text/html": [
       "<time datetime=\"2010-08-03\">2010-08-03</time>"
      ],
      "text/latex": [
       "2010-08-03"
      ],
      "text/markdown": [
       "2010-08-03"
      ],
      "text/plain": [
       "[1] \"2010-08-03\""
      ]
     },
     "metadata": {},
     "output_type": "display_data"
    }
   ],
   "source": [
    "\n",
    "as_date(dt_utc)"
   ]
  },
  {
   "cell_type": "code",
   "execution_count": 13,
   "metadata": {},
   "outputs": [
    {
     "data": {
      "text/html": [
       "<time datetime=\"2010-08-03\">2010-08-03</time>"
      ],
      "text/latex": [
       "2010-08-03"
      ],
      "text/markdown": [
       "2010-08-03"
      ],
      "text/plain": [
       "[1] \"2010-08-03\""
      ]
     },
     "metadata": {},
     "output_type": "display_data"
    }
   ],
   "source": [
    "as.Date(dt_utc)"
   ]
  },
  {
   "cell_type": "code",
   "execution_count": 5,
   "metadata": {},
   "outputs": [
    {
     "data": {
      "text/plain": [
       "[1] \"2010-08-03 00:50:50 BST\""
      ]
     },
     "metadata": {},
     "output_type": "display_data"
    }
   ],
   "source": [
    "dt_london <- ymd_hms(\"2010-08-03 00:50:50\", tz = 'Europe/London')\n",
    "\n",
    "dt_london"
   ]
  },
  {
   "cell_type": "code",
   "execution_count": 11,
   "metadata": {},
   "outputs": [
    {
     "data": {
      "text/plain": [
       "[1] \"2010-08-02 23:50:50 UTC\""
      ]
     },
     "metadata": {},
     "output_type": "display_data"
    }
   ],
   "source": [
    "# The time is change to UTC timezone (default)\n",
    "as_datetime(dt_london, tz = 'UTC')"
   ]
  },
  {
   "cell_type": "code",
   "execution_count": 15,
   "metadata": {},
   "outputs": [
    {
     "data": {
      "text/html": [
       "<time datetime=\"1970-01-11\">1970-01-11</time>"
      ],
      "text/latex": [
       "1970-01-11"
      ],
      "text/markdown": [
       "1970-01-11"
      ],
      "text/plain": [
       "[1] \"1970-01-11\""
      ]
     },
     "metadata": {},
     "output_type": "display_data"
    }
   ],
   "source": [
    "## need not supply origin\n",
    "as_date(10)   # ten days from 1970-01-01"
   ]
  },
  {
   "cell_type": "code",
   "execution_count": 17,
   "metadata": {},
   "outputs": [
    {
     "name": "stderr",
     "output_type": "stream",
     "text": [
      "Warning message:\n",
      "\" 1 failed to parse.\""
     ]
    },
    {
     "data": {
      "text/html": [
       "<ol class=list-inline>\n",
       "\t<li><time datetime=\"2009-09-29\">2009-09-29</time></li>\n",
       "\t<li><time datetime=\"2012-11-29\">2012-11-29</time></li>\n",
       "\t<li><time datetime=\"&lt;NA&gt;\">&lt;NA&gt;</time></li>\n",
       "</ol>\n"
      ],
      "text/latex": [
       "\\begin{enumerate*}\n",
       "\\item 2009-09-29\n",
       "\\item 2012-11-29\n",
       "\\item <NA>\n",
       "\\end{enumerate*}\n"
      ],
      "text/markdown": [
       "1. 2009-09-29\n",
       "2. 2012-11-29\n",
       "3. &lt;NA&gt;\n",
       "\n",
       "\n"
      ],
      "text/plain": [
       "[1] \"2009-09-29\" \"2012-11-29\" NA          "
      ]
     },
     "metadata": {},
     "output_type": "display_data"
    }
   ],
   "source": [
    "## Will replace invalid date format with NA\n",
    "dt_wrong <- c(\"2009-09-29\", \"2012-11-29\", \"2015-29-12\")\n",
    "\n",
    "as_date(dt_wrong)"
   ]
  },
  {
   "cell_type": "code",
   "execution_count": null,
   "metadata": {},
   "outputs": [],
   "source": []
  }
 ],
 "metadata": {
  "kernelspec": {
   "display_name": "R",
   "language": "R",
   "name": "ir"
  },
  "language_info": {
   "codemirror_mode": "r",
   "file_extension": ".r",
   "mimetype": "text/x-r-source",
   "name": "R",
   "pygments_lexer": "r",
   "version": "3.6.1"
  }
 },
 "nbformat": 4,
 "nbformat_minor": 2
}
