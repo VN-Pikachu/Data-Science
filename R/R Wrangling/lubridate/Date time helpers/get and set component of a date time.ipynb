{
 "cells": [
  {
   "cell_type": "code",
   "execution_count": 2,
   "metadata": {},
   "outputs": [],
   "source": [
    "library(lubridate)\n",
    "library(tidyverse)"
   ]
  },
  {
   "cell_type": "markdown",
   "metadata": {},
   "source": [
    "# Get/set date component of a date-time"
   ]
  },
  {
   "cell_type": "markdown",
   "metadata": {},
   "source": [
    "Date-time must be a POSIXct, POSIXlt, Date, chron, yearmon, yearqtr, zoo, zooreg, timeDate, xts, its, ti, jul, timeSeries, and fts objects.\n",
    "```r\n",
    "date(x)\n",
    "\n",
    "date(x) <- value\n",
    "```\n",
    "**Arguments**  \n",
    "`x`\t\n",
    "a date-time object\n",
    "\n",
    "`value`\t\n",
    "an object for which the date() function is defined"
   ]
  },
  {
   "cell_type": "markdown",
   "metadata": {},
   "source": [
    "# Value"
   ]
  },
  {
   "cell_type": "markdown",
   "metadata": {},
   "source": [
    "the date of x as a Date"
   ]
  },
  {
   "cell_type": "markdown",
   "metadata": {},
   "source": [
    "# Details"
   ]
  },
  {
   "cell_type": "markdown",
   "metadata": {},
   "source": [
    "`date()` does not yet support years before 0 C.E. Also `date()` is not defined for Period objects.\n",
    "\n"
   ]
  },
  {
   "cell_type": "markdown",
   "metadata": {},
   "source": [
    "# Examples"
   ]
  },
  {
   "cell_type": "code",
   "execution_count": 5,
   "metadata": {},
   "outputs": [
    {
     "data": {
      "text/plain": [
       "[1] \"2012-03-26 23:12:13 EDT\""
      ]
     },
     "metadata": {},
     "output_type": "display_data"
    }
   ],
   "source": [
    "x <- ymd_hms(\"2012-03-26 23:12:13\", tz = \"America/New_York\")\n",
    "x"
   ]
  },
  {
   "cell_type": "code",
   "execution_count": 6,
   "metadata": {},
   "outputs": [
    {
     "data": {
      "text/html": [
       "<time datetime=\"2012-03-26\">2012-03-26</time>"
      ],
      "text/latex": [
       "2012-03-26"
      ],
      "text/markdown": [
       "2012-03-26"
      ],
      "text/plain": [
       "[1] \"2012-03-26\""
      ]
     },
     "metadata": {},
     "output_type": "display_data"
    },
    {
     "data": {
      "text/html": [
       "'Date'"
      ],
      "text/latex": [
       "'Date'"
      ],
      "text/markdown": [
       "'Date'"
      ],
      "text/plain": [
       "[1] \"Date\""
      ]
     },
     "metadata": {},
     "output_type": "display_data"
    }
   ],
   "source": [
    "# get date\n",
    "date(x)\n",
    "\n",
    "date(x) %>% class()"
   ]
  },
  {
   "cell_type": "code",
   "execution_count": 7,
   "metadata": {},
   "outputs": [
    {
     "data": {
      "text/html": [
       "<time datetime=\"2012-03-26\">2012-03-26</time>"
      ],
      "text/latex": [
       "2012-03-26"
      ],
      "text/markdown": [
       "2012-03-26"
      ],
      "text/plain": [
       "[1] \"2012-03-26\""
      ]
     },
     "metadata": {},
     "output_type": "display_data"
    },
    {
     "data": {
      "text/html": [
       "<time datetime=\"2012-03-26\">2012-03-26</time>"
      ],
      "text/latex": [
       "2012-03-26"
      ],
      "text/markdown": [
       "2012-03-26"
      ],
      "text/plain": [
       "[1] \"2012-03-26\""
      ]
     },
     "metadata": {},
     "output_type": "display_data"
    }
   ],
   "source": [
    "as_date(x) # by default as.Date assumes you want to know the date in UTC\n",
    "#> [1] \"2012-03-27\"\n",
    "as_date(x, tz = \"America/New_York\")"
   ]
  },
  {
   "cell_type": "code",
   "execution_count": 8,
   "metadata": {},
   "outputs": [
    {
     "data": {
      "text/plain": [
       "[1] \"2000-01-02 23:12:13 EST\""
      ]
     },
     "metadata": {},
     "output_type": "display_data"
    }
   ],
   "source": [
    "date(x) <- as_date(\"2000-01-02\")\n",
    "\n",
    "x"
   ]
  }
 ],
 "metadata": {
  "kernelspec": {
   "display_name": "R",
   "language": "R",
   "name": "ir"
  },
  "language_info": {
   "codemirror_mode": "r",
   "file_extension": ".r",
   "mimetype": "text/x-r-source",
   "name": "R",
   "pygments_lexer": "r",
   "version": "3.6.1"
  }
 },
 "nbformat": 4,
 "nbformat_minor": 2
}
