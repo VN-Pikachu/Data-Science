{
 "cells": [
  {
   "cell_type": "code",
   "execution_count": 2,
   "metadata": {},
   "outputs": [],
   "source": [
    "library(lubridate)"
   ]
  },
  {
   "cell_type": "markdown",
   "metadata": {},
   "source": [
    "# Parse dates with year, month, and day components"
   ]
  },
  {
   "cell_type": "markdown",
   "metadata": {},
   "source": [
    "Transforms dates stored in character and numeric vectors to Date or POSIXct objects (see `tz` argument). These functions recognize arbitrary non-digit separators as well as no separator. As long as the order of formats is correct, these functions will parse dates correctly even when the input vectors contain differently formatted dates. "
   ]
  },
  {
   "cell_type": "markdown",
   "metadata": {},
   "source": [
    "```r\n",
    "ymd(\n",
    "  ...,\n",
    "  quiet = FALSE,\n",
    "  tz = NULL,\n",
    "  locale = Sys.getlocale(\"LC_TIME\"),\n",
    "  truncated = 0\n",
    ")\n",
    "\n",
    "ydm(\n",
    "  ...,\n",
    "  quiet = FALSE,\n",
    "  tz = NULL,\n",
    "  locale = Sys.getlocale(\"LC_TIME\"),\n",
    "  truncated = 0\n",
    ")\n",
    "\n",
    "mdy(\n",
    "  ...,\n",
    "  quiet = FALSE,\n",
    "  tz = NULL,\n",
    "  locale = Sys.getlocale(\"LC_TIME\"),\n",
    "  truncated = 0\n",
    ")\n",
    "\n",
    "myd(\n",
    "  ...,\n",
    "  quiet = FALSE,\n",
    "  tz = NULL,\n",
    "  locale = Sys.getlocale(\"LC_TIME\"),\n",
    "  truncated = 0\n",
    ")\n",
    "\n",
    "dmy(\n",
    "  ...,\n",
    "  quiet = FALSE,\n",
    "  tz = NULL,\n",
    "  locale = Sys.getlocale(\"LC_TIME\"),\n",
    "  truncated = 0\n",
    ")\n",
    "\n",
    "dym(\n",
    "  ...,\n",
    "  quiet = FALSE,\n",
    "  tz = NULL,\n",
    "  locale = Sys.getlocale(\"LC_TIME\"),\n",
    "  truncated = 0\n",
    ")\n",
    "\n",
    "yq(..., quiet = FALSE, tz = NULL, locale = Sys.getlocale(\"LC_TIME\"))\n",
    "```"
   ]
  },
  {
   "cell_type": "markdown",
   "metadata": {},
   "source": [
    "### Arguments"
   ]
  },
  {
   "cell_type": "markdown",
   "metadata": {},
   "source": [
    "<hr>"
   ]
  },
  {
   "cell_type": "markdown",
   "metadata": {},
   "source": [
    "**`...`**\t\n",
    "a character or numeric vector of suspected dates"
   ]
  },
  {
   "cell_type": "markdown",
   "metadata": {},
   "source": [
    "<hr>"
   ]
  },
  {
   "cell_type": "markdown",
   "metadata": {},
   "source": [
    "A character vector of dates"
   ]
  },
  {
   "cell_type": "code",
   "execution_count": 5,
   "metadata": {},
   "outputs": [
    {
     "data": {
      "text/html": [
       "<ol class=list-inline>\n",
       "\t<li><time datetime=\"2009-01-01\">2009-01-01</time></li>\n",
       "\t<li><time datetime=\"2009-01-02\">2009-01-02</time></li>\n",
       "\t<li><time datetime=\"2009-01-03\">2009-01-03</time></li>\n",
       "</ol>\n"
      ],
      "text/latex": [
       "\\begin{enumerate*}\n",
       "\\item 2009-01-01\n",
       "\\item 2009-01-02\n",
       "\\item 2009-01-03\n",
       "\\end{enumerate*}\n"
      ],
      "text/markdown": [
       "1. 2009-01-01\n",
       "2. 2009-01-02\n",
       "3. 2009-01-03\n",
       "\n",
       "\n"
      ],
      "text/plain": [
       "[1] \"2009-01-01\" \"2009-01-02\" \"2009-01-03\""
      ]
     },
     "metadata": {},
     "output_type": "display_data"
    }
   ],
   "source": [
    "x <- c(\"09-01-01\", \"09-01-02\", \"09-01-03\")\n",
    "\n",
    "ymd(x)"
   ]
  },
  {
   "cell_type": "code",
   "execution_count": 6,
   "metadata": {},
   "outputs": [
    {
     "data": {
      "text/html": [
       "<ol class=list-inline>\n",
       "\t<li><time datetime=\"2009-01-01\">2009-01-01</time></li>\n",
       "\t<li><time datetime=\"2009-01-02\">2009-01-02</time></li>\n",
       "\t<li><time datetime=\"2009-01-03\">2009-01-03</time></li>\n",
       "</ol>\n"
      ],
      "text/latex": [
       "\\begin{enumerate*}\n",
       "\\item 2009-01-01\n",
       "\\item 2009-01-02\n",
       "\\item 2009-01-03\n",
       "\\end{enumerate*}\n"
      ],
      "text/markdown": [
       "1. 2009-01-01\n",
       "2. 2009-01-02\n",
       "3. 2009-01-03\n",
       "\n",
       "\n"
      ],
      "text/plain": [
       "[1] \"2009-01-01\" \"2009-01-02\" \"2009-01-03\""
      ]
     },
     "metadata": {},
     "output_type": "display_data"
    }
   ],
   "source": [
    "x <- c(\"2009-01-01\", \"2009-01-02\", \"2009-01-03\")\n",
    "\n",
    "ymd(x)"
   ]
  },
  {
   "cell_type": "code",
   "execution_count": 10,
   "metadata": {},
   "outputs": [
    {
     "data": {
      "text/html": [
       "<time datetime=\"2012-04-01\">2012-04-01</time>"
      ],
      "text/latex": [
       "2012-04-01"
      ],
      "text/markdown": [
       "2012-04-01"
      ],
      "text/plain": [
       "[1] \"2012-04-01\""
      ]
     },
     "metadata": {},
     "output_type": "display_data"
    }
   ],
   "source": [
    "# The second quarter of year 2012\n",
    "yq('2012.2')"
   ]
  },
  {
   "cell_type": "markdown",
   "metadata": {},
   "source": [
    "A numeric vector of dates"
   ]
  },
  {
   "cell_type": "code",
   "execution_count": 7,
   "metadata": {},
   "outputs": [
    {
     "data": {
      "text/html": [
       "<ol class=list-inline>\n",
       "\t<li><time datetime=\"2009-01-01\">2009-01-01</time></li>\n",
       "\t<li><time datetime=\"2009-01-02\">2009-01-02</time></li>\n",
       "</ol>\n"
      ],
      "text/latex": [
       "\\begin{enumerate*}\n",
       "\\item 2009-01-01\n",
       "\\item 2009-01-02\n",
       "\\end{enumerate*}\n"
      ],
      "text/markdown": [
       "1. 2009-01-01\n",
       "2. 2009-01-02\n",
       "\n",
       "\n"
      ],
      "text/plain": [
       "[1] \"2009-01-01\" \"2009-01-02\""
      ]
     },
     "metadata": {},
     "output_type": "display_data"
    }
   ],
   "source": [
    "ymd(090101, 90102)"
   ]
  },
  {
   "cell_type": "code",
   "execution_count": 8,
   "metadata": {},
   "outputs": [
    {
     "data": {
      "text/html": [
       "<time datetime=\"2001-10-06\">2001-10-06</time>"
      ],
      "text/latex": [
       "2001-10-06"
      ],
      "text/markdown": [
       "2001-10-06"
      ],
      "text/plain": [
       "[1] \"2001-10-06\""
      ]
     },
     "metadata": {},
     "output_type": "display_data"
    }
   ],
   "source": [
    "dmy(061001)"
   ]
  },
  {
   "cell_type": "code",
   "execution_count": 11,
   "metadata": {},
   "outputs": [
    {
     "data": {
      "text/html": [
       "<ol class=list-inline>\n",
       "\t<li><time datetime=\"2009-01-01\">2009-01-01</time></li>\n",
       "\t<li><time datetime=\"2009-01-02\">2009-01-02</time></li>\n",
       "\t<li><time datetime=\"2009-01-03\">2009-01-03</time></li>\n",
       "\t<li><time datetime=\"2009-01-04\">2009-01-04</time></li>\n",
       "\t<li><time datetime=\"2009-01-05\">2009-01-05</time></li>\n",
       "\t<li><time datetime=\"2009-01-06\">2009-01-06</time></li>\n",
       "\t<li><time datetime=\"2009-01-07\">2009-01-07</time></li>\n",
       "</ol>\n"
      ],
      "text/latex": [
       "\\begin{enumerate*}\n",
       "\\item 2009-01-01\n",
       "\\item 2009-01-02\n",
       "\\item 2009-01-03\n",
       "\\item 2009-01-04\n",
       "\\item 2009-01-05\n",
       "\\item 2009-01-06\n",
       "\\item 2009-01-07\n",
       "\\end{enumerate*}\n"
      ],
      "text/markdown": [
       "1. 2009-01-01\n",
       "2. 2009-01-02\n",
       "3. 2009-01-03\n",
       "4. 2009-01-04\n",
       "5. 2009-01-05\n",
       "6. 2009-01-06\n",
       "7. 2009-01-07\n",
       "\n",
       "\n"
      ],
      "text/plain": [
       "[1] \"2009-01-01\" \"2009-01-02\" \"2009-01-03\" \"2009-01-04\" \"2009-01-05\"\n",
       "[6] \"2009-01-06\" \"2009-01-07\""
      ]
     },
     "metadata": {},
     "output_type": "display_data"
    }
   ],
   "source": [
    "## heterogeneous formats in a single vector:\n",
    "x <- c(20090101, \"2009-01-02\", \"2009 01 03\", \"2009-1-4\",\n",
    "       \"2009-1, 5\", \"Created on 2009 1 6\", \"200901 !!! 07\")\n",
    "\n",
    "ymd(x)"
   ]
  },
  {
   "cell_type": "code",
   "execution_count": 13,
   "metadata": {},
   "outputs": [
    {
     "name": "stderr",
     "output_type": "stream",
     "text": [
      "Warning message:\n",
      "\" 1 failed to parse.\""
     ]
    },
    {
     "data": {
      "text/html": [
       "<ol class=list-inline>\n",
       "\t<li><time datetime=\"2010-12-03\">2010-12-03</time></li>\n",
       "\t<li><time datetime=\"&lt;NA&gt;\">&lt;NA&gt;</time></li>\n",
       "</ol>\n"
      ],
      "text/latex": [
       "\\begin{enumerate*}\n",
       "\\item 2010-12-03\n",
       "\\item <NA>\n",
       "\\end{enumerate*}\n"
      ],
      "text/markdown": [
       "1. 2010-12-03\n",
       "2. &lt;NA&gt;\n",
       "\n",
       "\n"
      ],
      "text/plain": [
       "[1] \"2010-12-03\" NA          "
      ]
     },
     "metadata": {},
     "output_type": "display_data"
    }
   ],
   "source": [
    "# What lubridate might not handle:\n",
    "\n",
    "# Extremely weird cases when one of the separators is \"\" and some of the\n",
    "# formats are not in double digits might not be parsed correctly:\n",
    "\n",
    "dmy(\"0312-2010\", \"312-2010\")"
   ]
  },
  {
   "cell_type": "markdown",
   "metadata": {},
   "source": [
    "<hr>"
   ]
  },
  {
   "cell_type": "markdown",
   "metadata": {},
   "source": [
    "**`tz`** \t\n",
    "Time zone indicator. If NULL (default), a Date object is returned. Otherwise a POSIXct with time zone attribute set to `tz`."
   ]
  },
  {
   "cell_type": "code",
   "execution_count": 14,
   "metadata": {},
   "outputs": [
    {
     "data": {
      "text/plain": [
       "[1] \"2001-10-06 CDT\""
      ]
     },
     "metadata": {},
     "output_type": "display_data"
    }
   ],
   "source": [
    "# set time zone, return a POSIXct.\n",
    "\n",
    "dmy('06/10/2001', tz = 'US/central')"
   ]
  },
  {
   "cell_type": "markdown",
   "metadata": {},
   "source": [
    "<hr> "
   ]
  },
  {
   "cell_type": "markdown",
   "metadata": {},
   "source": [
    "**`quiet`**\t\n",
    "logical. If TRUE, function evaluates without displaying customary messages.\n"
   ]
  },
  {
   "cell_type": "markdown",
   "metadata": {},
   "source": [
    "<hr>"
   ]
  },
  {
   "cell_type": "markdown",
   "metadata": {},
   "source": [
    "**`locale`**\t\n",
    "locale to be used"
   ]
  },
  {
   "cell_type": "markdown",
   "metadata": {},
   "source": [
    "<hr>"
   ]
  },
  {
   "cell_type": "markdown",
   "metadata": {},
   "source": [
    "**`truncated`**\t\n",
    "integer. Number of formats that can be truncated.\n",
    "<hr>\n"
   ]
  },
  {
   "cell_type": "markdown",
   "metadata": {},
   "source": [
    "If the truncated parameter is non-zero, the `ymd()` functions also check for truncated formats. For example, `ymd()` with `truncated = 2` will also parse incomplete dates like 2012-06 and 2012."
   ]
  },
  {
   "cell_type": "code",
   "execution_count": 19,
   "metadata": {},
   "outputs": [
    {
     "data": {
      "text/html": [
       "<time datetime=\"2012-06-01\">2012-06-01</time>"
      ],
      "text/latex": [
       "2012-06-01"
      ],
      "text/markdown": [
       "2012-06-01"
      ],
      "text/plain": [
       "[1] \"2012-06-01\""
      ]
     },
     "metadata": {},
     "output_type": "display_data"
    }
   ],
   "source": [
    "# allow missing up to 2 elements: day and month\n",
    "ymd('2012-06', truncated = 2)"
   ]
  },
  {
   "cell_type": "code",
   "execution_count": 20,
   "metadata": {},
   "outputs": [
    {
     "data": {
      "text/html": [
       "<time datetime=\"2012-01-01\">2012-01-01</time>"
      ],
      "text/latex": [
       "2012-01-01"
      ],
      "text/markdown": [
       "2012-01-01"
      ],
      "text/plain": [
       "[1] \"2012-01-01\""
      ]
     },
     "metadata": {},
     "output_type": "display_data"
    }
   ],
   "source": [
    "# allow missing up to 2 elements: day and month\n",
    "ymd('2012', truncated = 2)"
   ]
  },
  {
   "cell_type": "markdown",
   "metadata": {},
   "source": [
    "### Value"
   ]
  },
  {
   "cell_type": "markdown",
   "metadata": {},
   "source": [
    "a vector of class POSIXct if tz argument is non-NULL or Date if tz is NULL (default)"
   ]
  },
  {
   "cell_type": "markdown",
   "metadata": {},
   "source": [
    "# Parse date-times with year, month, and day, hour, minute, and second components."
   ]
  },
  {
   "cell_type": "markdown",
   "metadata": {},
   "source": [
    "Transform dates stored as character or numeric vectors to POSIXct objects.   \n",
    "The `ymd_hms()` family of functions recognizes all non-alphanumeric separators (with the exception of \".\" if `frac = TRUE`) and correctly handles heterogeneous date-time representations."
   ]
  },
  {
   "cell_type": "markdown",
   "metadata": {},
   "source": [
    "```r\n",
    "ymd_hms(\n",
    "  ...,\n",
    "  quiet = FALSE,\n",
    "  tz = \"UTC\",\n",
    "  locale = Sys.getlocale(\"LC_TIME\"),\n",
    "  truncated = 0\n",
    ")\n",
    "\n",
    "ymd_hm(\n",
    "  ...,\n",
    "  quiet = FALSE,\n",
    "  tz = \"UTC\",\n",
    "  locale = Sys.getlocale(\"LC_TIME\"),\n",
    "  truncated = 0\n",
    ")\n",
    "\n",
    "ymd_h(\n",
    "  ...,\n",
    "  quiet = FALSE,\n",
    "  tz = \"UTC\",\n",
    "  locale = Sys.getlocale(\"LC_TIME\"),\n",
    "  truncated = 0\n",
    ")\n",
    "\n",
    "dmy_hms(\n",
    "  ...,\n",
    "  quiet = FALSE,\n",
    "  tz = \"UTC\",\n",
    "  locale = Sys.getlocale(\"LC_TIME\"),\n",
    "  truncated = 0\n",
    ")\n",
    "\n",
    "dmy_hm(\n",
    "  ...,\n",
    "  quiet = FALSE,\n",
    "  tz = \"UTC\",\n",
    "  locale = Sys.getlocale(\"LC_TIME\"),\n",
    "  truncated = 0\n",
    ")\n",
    "\n",
    "dmy_h(\n",
    "  ...,\n",
    "  quiet = FALSE,\n",
    "  tz = \"UTC\",\n",
    "  locale = Sys.getlocale(\"LC_TIME\"),\n",
    "  truncated = 0\n",
    ")\n",
    "\n",
    "mdy_hms(\n",
    "  ...,\n",
    "  quiet = FALSE,\n",
    "  tz = \"UTC\",\n",
    "  locale = Sys.getlocale(\"LC_TIME\"),\n",
    "  truncated = 0\n",
    ")\n",
    "\n",
    "mdy_hm(\n",
    "  ...,\n",
    "  quiet = FALSE,\n",
    "  tz = \"UTC\",\n",
    "  locale = Sys.getlocale(\"LC_TIME\"),\n",
    "  truncated = 0\n",
    ")\n",
    "\n",
    "mdy_h(\n",
    "  ...,\n",
    "  quiet = FALSE,\n",
    "  tz = \"UTC\",\n",
    "  locale = Sys.getlocale(\"LC_TIME\"),\n",
    "  truncated = 0\n",
    ")\n",
    "\n",
    "ydm_hms(\n",
    "  ...,\n",
    "  quiet = FALSE,\n",
    "  tz = \"UTC\",\n",
    "  locale = Sys.getlocale(\"LC_TIME\"),\n",
    "  truncated = 0\n",
    ")\n",
    "\n",
    "ydm_hm(\n",
    "  ...,\n",
    "  quiet = FALSE,\n",
    "  tz = \"UTC\",\n",
    "  locale = Sys.getlocale(\"LC_TIME\"),\n",
    "  truncated = 0\n",
    ")\n",
    "\n",
    "ydm_h(\n",
    "  ...,\n",
    "  quiet = FALSE,\n",
    "  tz = \"UTC\",\n",
    "  locale = Sys.getlocale(\"LC_TIME\"),\n",
    "  truncated = 0\n",
    ")\n",
    "```"
   ]
  },
  {
   "cell_type": "markdown",
   "metadata": {},
   "source": [
    "### Examples"
   ]
  },
  {
   "cell_type": "code",
   "execution_count": 3,
   "metadata": {},
   "outputs": [
    {
     "data": {
      "text/plain": [
       "[1] \"2010-04-14 04:35:59 UTC\" \"2010-04-01 12:00:00 UTC\""
      ]
     },
     "metadata": {},
     "output_type": "display_data"
    }
   ],
   "source": [
    "x <- c(\"2010-04-14-04-35-59\", \"2010-04-01-12-00-00\")\n",
    "\n",
    "ymd_hms(x)"
   ]
  },
  {
   "cell_type": "code",
   "execution_count": 4,
   "metadata": {},
   "outputs": [
    {
     "data": {
      "text/plain": [
       "[1] \"2011-12-31 12:59:59 UTC\" \"2010-01-01 12:00:00 UTC\""
      ]
     },
     "metadata": {},
     "output_type": "display_data"
    }
   ],
   "source": [
    "x <- c(\"2011-12-31 12:59:59\", \"2010-01-01 12:00:00\")\n",
    "\n",
    "ymd_hms(x)"
   ]
  },
  {
   "cell_type": "code",
   "execution_count": 5,
   "metadata": {},
   "outputs": [
    {
     "data": {
      "text/plain": [
       " [1] \"2010-01-01 12:01:01 UTC\" \"2009-01-02 12:01:02 UTC\"\n",
       " [3] \"2009-01-03 12:01:03 UTC\" \"2009-01-04 12:01:04 UTC\"\n",
       " [5] \"2009-01-05 12:01:05 UTC\" \"2009-01-08 12:01:08 UTC\"\n",
       " [7] \"2009-01-06 12:01:06 UTC\" \"2009-01-07 12:01:07 UTC\"\n",
       " [9] \"2010-01-10 10:01:10 UTC\" \"2010-01-11 22:01:11 UTC\""
      ]
     },
     "metadata": {},
     "output_type": "display_data"
    }
   ],
   "source": [
    "## ** heterogeneous formats **\n",
    "x <- c(20100101120101, \"2009-01-02 12-01-02\", \"2009.01.03 12:01:03\",\n",
    "       \"2009-1-4 12-1-4\",\n",
    "       \"2009-1, 5 12:1, 5\",\n",
    "       \"200901-08 1201-08\",\n",
    "       \"2009 arbitrary 1 non-decimal 6 chars 12 in between 1 !!! 6\",\n",
    "       \"OR collapsed formats: 20090107 120107 (as long as prefixed with zeros)\",\n",
    "       \"Automatic wday, Thu, detection, 10-01-10 10:01:10 and p format: AM\",\n",
    "       \"Created on 10-01-11 at 10:01:11 PM\")\n",
    "\n",
    "ymd_hms(x)"
   ]
  },
  {
   "cell_type": "code",
   "execution_count": 6,
   "metadata": {},
   "outputs": [
    {
     "data": {
      "text/plain": [
       "[1] \"2006-02-20 11:16:16.683 UTC\""
      ]
     },
     "metadata": {},
     "output_type": "display_data"
    }
   ],
   "source": [
    "## ** fractional seconds **\n",
    "op <- options(digits.secs=3)\n",
    "dmy_hms(\"20/2/06 11:16:16.683\")"
   ]
  },
  {
   "cell_type": "code",
   "execution_count": 7,
   "metadata": {},
   "outputs": [
    {
     "data": {
      "text/plain": [
       "[1] \"2013-01-25 01:39:07.88 UTC\" \"2013-01-24 19:39:07.88 UTC\"\n",
       "[3] \"2013-01-25 01:39:07.88 UTC\" \"2013-01-25 01:39:07.88 UTC\"\n",
       "[5] \"2013-01-24 19:39:07.88 UTC\""
      ]
     },
     "metadata": {},
     "output_type": "display_data"
    }
   ],
   "source": [
    "## ** different formats for ISO8601 timezone offset **\n",
    "ymd_hms(c(\"2013-01-24 19:39:07.880-0600\",\n",
    "\"2013-01-24 19:39:07.880\", \"2013-01-24 19:39:07.880-06:00\",\n",
    "\"2013-01-24 19:39:07.880-06\", \"2013-01-24 19:39:07.880Z\"))"
   ]
  },
  {
   "cell_type": "markdown",
   "metadata": {},
   "source": [
    "If the `truncated` parameter is non-zero, the `ymd_hms()` functions also check for truncated formats. For example, `ymd_hms()` with `truncated = 3` will also parse incomplete dates like `2012-06-01 12:23`, `2012-06-01 12` and `2012-06-01`"
   ]
  },
  {
   "cell_type": "code",
   "execution_count": 11,
   "metadata": {},
   "outputs": [
    {
     "name": "stderr",
     "output_type": "stream",
     "text": [
      "Warning message:\n",
      "\" 1 failed to parse.\""
     ]
    },
    {
     "data": {
      "text/plain": [
       "[1] NA                        \"2020-12-06 01:12:23 UTC\""
      ]
     },
     "metadata": {},
     "output_type": "display_data"
    },
    {
     "data": {
      "text/plain": [
       "[1] \"2012-06-01 12:00:00 UTC\" \"2012-06-01 12:23:00 UTC\""
      ]
     },
     "metadata": {},
     "output_type": "display_data"
    }
   ],
   "source": [
    "## ** truncated time-dates **\n",
    "ymd_hms('2012-06-01 12', '2012-06-01 12:23', truncated = 0) # default\n",
    "\n",
    "ymd_hms('2012-06-01 12', '2012-06-01 12:23', truncated = 3)"
   ]
  },
  {
   "cell_type": "markdown",
   "metadata": {},
   "source": [
    "# Parse periods with hour, minute, and second components"
   ]
  },
  {
   "cell_type": "markdown",
   "metadata": {},
   "source": [
    "Transforms a character or numeric vector into a period object with the specified number of hours, minutes, and seconds. `hms()` recognizes all non-numeric characters except '-' as separators ('-' is used for negative `durations`). After hours, minutes and seconds have been parsed, the remaining input is ignored."
   ]
  },
  {
   "cell_type": "markdown",
   "metadata": {},
   "source": [
    "```r\n",
    "ms(..., quiet = FALSE, roll = FALSE)\n",
    "\n",
    "hm(..., quiet = FALSE, roll = FALSE)\n",
    "\n",
    "hms(..., quiet = FALSE, roll = FALSE)\n",
    "```"
   ]
  },
  {
   "cell_type": "markdown",
   "metadata": {},
   "source": [
    "**Arguments**  \n",
    "`roll`\t\n",
    "logical. If TRUE, smaller units are rolled over to higher units if they exceed the conventional limit. For example, `hms(\"01:59:120\", roll = TRUE)` produces period \"2H 1M 0S\".\n",
    "\n"
   ]
  },
  {
   "cell_type": "markdown",
   "metadata": {},
   "source": [
    "### Value"
   ]
  },
  {
   "cell_type": "markdown",
   "metadata": {},
   "source": [
    "A vector of period object"
   ]
  },
  {
   "cell_type": "markdown",
   "metadata": {},
   "source": [
    "### Examples"
   ]
  },
  {
   "cell_type": "code",
   "execution_count": 12,
   "metadata": {},
   "outputs": [
    {
     "data": {
      "text/html": [
       "<ol class=list-inline>\n",
       "\t<li>9M 10S</li>\n",
       "\t<li>9M 2S</li>\n",
       "\t<li>1M 10S</li>\n",
       "</ol>\n"
      ],
      "text/latex": [
       "\\begin{enumerate*}\n",
       "\\item 9M 10S\n",
       "\\item 9M 2S\n",
       "\\item 1M 10S\n",
       "\\end{enumerate*}\n"
      ],
      "text/markdown": [
       "1. 9M 10S\n",
       "2. 9M 2S\n",
       "3. 1M 10S\n",
       "\n",
       "\n"
      ],
      "text/plain": [
       "[1] \"9M 10S\" \"9M 2S\"  \"1M 10S\""
      ]
     },
     "metadata": {},
     "output_type": "display_data"
    }
   ],
   "source": [
    "ms(c(\"09:10\", \"09:02\", \"1:10\"))"
   ]
  },
  {
   "cell_type": "code",
   "execution_count": 13,
   "metadata": {},
   "outputs": [
    {
     "data": {
      "text/html": [
       "7M 6S"
      ],
      "text/latex": [
       "7M 6S"
      ],
      "text/markdown": [
       "7M 6S"
      ],
      "text/plain": [
       "[1] \"7M 6S\""
      ]
     },
     "metadata": {},
     "output_type": "display_data"
    }
   ],
   "source": [
    "ms('7 6')"
   ]
  },
  {
   "cell_type": "code",
   "execution_count": 14,
   "metadata": {},
   "outputs": [
    {
     "data": {
      "text/html": [
       "7M 6S"
      ],
      "text/latex": [
       "7M 6S"
      ],
      "text/markdown": [
       "7M 6S"
      ],
      "text/plain": [
       "[1] \"7M 6S\""
      ]
     },
     "metadata": {},
     "output_type": "display_data"
    }
   ],
   "source": [
    "ms('7,6')"
   ]
  },
  {
   "cell_type": "code",
   "execution_count": 15,
   "metadata": {},
   "outputs": [
    {
     "data": {
      "text/html": [
       "<ol class=list-inline>\n",
       "\t<li>9H 10M 1S</li>\n",
       "\t<li>9H 10M 2S</li>\n",
       "\t<li>9H 10M 3S</li>\n",
       "</ol>\n"
      ],
      "text/latex": [
       "\\begin{enumerate*}\n",
       "\\item 9H 10M 1S\n",
       "\\item 9H 10M 2S\n",
       "\\item 9H 10M 3S\n",
       "\\end{enumerate*}\n"
      ],
      "text/markdown": [
       "1. 9H 10M 1S\n",
       "2. 9H 10M 2S\n",
       "3. 9H 10M 3S\n",
       "\n",
       "\n"
      ],
      "text/plain": [
       "[1] \"9H 10M 1S\" \"9H 10M 2S\" \"9H 10M 3S\""
      ]
     },
     "metadata": {},
     "output_type": "display_data"
    }
   ],
   "source": [
    "x <- c(\"09:10:01\", \"09:10:02\", \"09:10:03\")\n",
    "\n",
    "hms(x)"
   ]
  },
  {
   "cell_type": "code",
   "execution_count": 16,
   "metadata": {},
   "outputs": [
    {
     "data": {
      "text/html": [
       "<ol class=list-inline>\n",
       "\t<li>7H 6M 5S</li>\n",
       "\t<li>3H 23M 2S</li>\n",
       "\t<li>2H 23M 33S</li>\n",
       "\t<li>9H 20M 4S</li>\n",
       "</ol>\n"
      ],
      "text/latex": [
       "\\begin{enumerate*}\n",
       "\\item 7H 6M 5S\n",
       "\\item 3H 23M 2S\n",
       "\\item 2H 23M 33S\n",
       "\\item 9H 20M 4S\n",
       "\\end{enumerate*}\n"
      ],
      "text/markdown": [
       "1. 7H 6M 5S\n",
       "2. 3H 23M 2S\n",
       "3. 2H 23M 33S\n",
       "4. 9H 20M 4S\n",
       "\n",
       "\n"
      ],
      "text/plain": [
       "[1] \"7H 6M 5S\"   \"3H 23M 2S\"  \"2H 23M 33S\" \"9H 20M 4S\" "
      ]
     },
     "metadata": {},
     "output_type": "display_data"
    }
   ],
   "source": [
    "hms(\"7 6 5\", \"3:23:::2\", \"2 : 23 : 33\", \"Finished in 9 hours, 20 min and 4 seconds\")"
   ]
  },
  {
   "cell_type": "code",
   "execution_count": 3,
   "metadata": {},
   "outputs": [
    {
     "data": {
      "text/html": [
       "1M 120S"
      ],
      "text/latex": [
       "1M 120S"
      ],
      "text/markdown": [
       "1M 120S"
      ],
      "text/plain": [
       "[1] \"1M 120S\""
      ]
     },
     "metadata": {},
     "output_type": "display_data"
    },
    {
     "data": {
      "text/html": [
       "3M 0S"
      ],
      "text/latex": [
       "3M 0S"
      ],
      "text/markdown": [
       "3M 0S"
      ],
      "text/plain": [
       "[1] \"3M 0S\""
      ]
     },
     "metadata": {},
     "output_type": "display_data"
    }
   ],
   "source": [
    "ms('1:120')\n",
    "\n",
    "ms('1:120', roll = T)"
   ]
  }
 ],
 "metadata": {
  "kernelspec": {
   "display_name": "R",
   "language": "R",
   "name": "ir"
  },
  "language_info": {
   "codemirror_mode": "r",
   "file_extension": ".r",
   "mimetype": "text/x-r-source",
   "name": "R",
   "pygments_lexer": "r",
   "version": "3.6.1"
  }
 },
 "nbformat": 4,
 "nbformat_minor": 2
}
