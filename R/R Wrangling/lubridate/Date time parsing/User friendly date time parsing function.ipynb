{
 "cells": [
  {
   "cell_type": "code",
   "execution_count": 3,
   "metadata": {},
   "outputs": [],
   "source": [
    "library(lubridate)"
   ]
  },
  {
   "cell_type": "markdown",
   "metadata": {},
   "source": [
    "<b style = 'color:red'>This notebook I do not go into detail. Please see <a href = 'https://lubridate.tidyverse.org/reference/parse_date_time.html'>Documentation</a> for more detail</b>"
   ]
  },
  {
   "cell_type": "markdown",
   "metadata": {},
   "source": [
    "# User friendly date-time parsing functions"
   ]
  },
  {
   "cell_type": "markdown",
   "metadata": {},
   "source": [
    "**`parse_date_time()`** parses an input vector into POSIXct date-time object. It differs from `base::strptime()` in two respects. \n",
    "* First, it allows specification of the order in which the formats occur without the need to include separators and the % prefix. Such a formatting argument is referred to as \"order\". \n",
    "* Second, it allows the user to specify several format-orders to handle heterogeneous date-time character representations."
   ]
  },
  {
   "cell_type": "markdown",
   "metadata": {},
   "source": [
    "**`parse_date_time2()`** is a fast C parser of numeric orders.\n",
    "\n",
    "**`fast_strptime()`** is a fast C parser of numeric formats only that accepts explicit format arguments, just like `base::strptime()`."
   ]
  },
  {
   "cell_type": "markdown",
   "metadata": {},
   "source": [
    "```r\n",
    "parse_date_time(\n",
    "  x,\n",
    "  orders,\n",
    "  tz = \"UTC\",\n",
    "  truncated = 0,\n",
    "  quiet = FALSE,\n",
    "  locale = Sys.getlocale(\"LC_TIME\"),\n",
    "  select_formats = .select_formats,\n",
    "  exact = FALSE,\n",
    "  train = TRUE,\n",
    "  drop = FALSE\n",
    ")\n",
    "\n",
    "parse_date_time2(\n",
    "  x,\n",
    "  orders,\n",
    "  tz = \"UTC\",\n",
    "  exact = FALSE,\n",
    "  lt = FALSE,\n",
    "  cutoff_2000 = 68L\n",
    ")\n",
    "\n",
    "fast_strptime(x, format, tz = \"UTC\", lt = TRUE, cutoff_2000 = 68L)\n",
    "```"
   ]
  },
  {
   "cell_type": "markdown",
   "metadata": {},
   "source": [
    "# Examples"
   ]
  },
  {
   "cell_type": "code",
   "execution_count": 4,
   "metadata": {},
   "outputs": [
    {
     "data": {
      "text/plain": [
       "[1] \"2009-01-01 UTC\" \"2009-01-02 UTC\" \"2009-01-03 UTC\""
      ]
     },
     "metadata": {},
     "output_type": "display_data"
    },
    {
     "data": {
      "text/plain": [
       "[1] \"2009-01-01 UTC\" \"2009-01-02 UTC\" \"2009-01-03 UTC\""
      ]
     },
     "metadata": {},
     "output_type": "display_data"
    },
    {
     "data": {
      "text/plain": [
       "[1] \"2009-01-01 UTC\" \"2009-01-02 UTC\" \"2009-01-03 UTC\""
      ]
     },
     "metadata": {},
     "output_type": "display_data"
    }
   ],
   "source": [
    "## ** orders are much easier to write **\n",
    "x <- c(\"09-01-01\", \"09-01-02\", \"09-01-03\")\n",
    "\n",
    "# match all the possible dates in year, month, day order. \n",
    "# Formatting orders might include arbitrary separators. These are discarded. \n",
    "parse_date_time(x, 'ymd')\n",
    "\n",
    "parse_date_time(x, 'y m d')\n",
    "\n",
    "parse_date_time(x, '%y%m%d')"
   ]
  },
  {
   "cell_type": "code",
   "execution_count": 7,
   "metadata": {},
   "outputs": [
    {
     "data": {
      "text/plain": [
       "[1] \"2009-01-01 00:00:00 UTC\" \"2009-01-02 00:00:00 UTC\"\n",
       "[3] \"2009-01-03 00:00:00 UTC\" \"2009-01-03 12:02:00 UTC\""
      ]
     },
     "metadata": {},
     "output_type": "display_data"
    }
   ],
   "source": [
    "## ** heterogeneous date-times **\n",
    "x <- c(\"09-01-01\", \"090102\", \"09-01 03\", \"09-01-03 12:02\")\n",
    "\n",
    "parse_date_time(x, c('ymd', 'ymd H:M'))"
   ]
  },
  {
   "cell_type": "code",
   "execution_count": 8,
   "metadata": {},
   "outputs": [
    {
     "data": {
      "text/plain": [
       "[1] \"2009-01-01 UTC\" \"2010-02-02 UTC\" \"2010-02-02 UTC\""
      ]
     },
     "metadata": {},
     "output_type": "display_data"
    }
   ],
   "source": [
    "## ** different ymd orders **\n",
    "x <- c(\"2009-01-01\", \"02022010\", \"02-02-2010\")\n",
    "\n",
    "parse_date_time(x, c('Ymd', 'dmY'))"
   ]
  },
  {
   "cell_type": "code",
   "execution_count": 13,
   "metadata": {},
   "outputs": [
    {
     "data": {
      "text/plain": [
       "[1] \"2011-12-31 12:59:59 UTC\" \"2010-01-01 12:11:00 UTC\"\n",
       "[3] \"2010-01-01 12:00:00 UTC\" \"2010-01-01 00:00:00 UTC\""
      ]
     },
     "metadata": {},
     "output_type": "display_data"
    }
   ],
   "source": [
    "## ** truncated time-dates **\n",
    "x <- c(\"2011-12-31 12:59:59\", \"2010-01-01 12:11\", \"2010-01-01 12\", \"2010-01-01\")\n",
    "\n",
    "parse_date_time(x, 'Ymd HMS', truncated = 3)"
   ]
  },
  {
   "cell_type": "code",
   "execution_count": 18,
   "metadata": {},
   "outputs": [
    {
     "data": {
      "text/plain": [
       "[1] \"1996-12-17 04:00:00 UTC\" \"1950-04-18 01:30:00 UTC\""
      ]
     },
     "metadata": {},
     "output_type": "display_data"
    }
   ],
   "source": [
    "## ** specifying exact formats and avoiding training and guessing **\n",
    "parse_date_time(c('12/17/1996 04:00:00','4/18/1950 0130'), c('%m/%d/%Y %I:%M:%S', '%m/%d/%Y %H%M'), exact = T)"
   ]
  }
 ],
 "metadata": {
  "kernelspec": {
   "display_name": "R",
   "language": "R",
   "name": "ir"
  },
  "language_info": {
   "codemirror_mode": "r",
   "file_extension": ".r",
   "mimetype": "text/x-r-source",
   "name": "R",
   "pygments_lexer": "r",
   "version": "3.6.1"
  }
 },
 "nbformat": 4,
 "nbformat_minor": 2
}
