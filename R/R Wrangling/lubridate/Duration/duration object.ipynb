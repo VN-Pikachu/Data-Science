{
 "cells": [
  {
   "cell_type": "code",
   "execution_count": 3,
   "metadata": {},
   "outputs": [],
   "source": [
    "library(lubridate)"
   ]
  },
  {
   "cell_type": "markdown",
   "metadata": {},
   "source": [
    "# Create a duration object"
   ]
  },
  {
   "cell_type": "markdown",
   "metadata": {},
   "source": [
    "A ‘duration’ is a timespan measured in seconds."
   ]
  },
  {
   "cell_type": "markdown",
   "metadata": {},
   "source": [
    "**`duration()`** creates a duration object with the specified values. Entries for different units are cumulative. durations display as the number of seconds in a time span. When this number is large, durations also display an estimate in larger units,; however, the underlying object is always recorded as a fixed number of seconds. For display and creation purposes, units are converted to seconds using their most common lengths in seconds. Minutes = 60 seconds, hours = 3600 seconds, days = 86400 seconds, weeks = 604800. Units larger than weeks are not used due to their variability."
   ]
  },
  {
   "cell_type": "markdown",
   "metadata": {},
   "source": [
    "```r\n",
    "duration(num = NULL, units = \"seconds\", ...)\n",
    "\n",
    "dseconds(x = 1)\n",
    "\n",
    "dminutes(x = 1)\n",
    "\n",
    "dhours(x = 1)\n",
    "\n",
    "ddays(x = 1)\n",
    "\n",
    "dweeks(x = 1)\n",
    "\n",
    "dmonths(x = 1)\n",
    "\n",
    "dyears(x = 1)\n",
    "\n",
    "dmilliseconds(x = 1)\n",
    "\n",
    "dmicroseconds(x = 1)\n",
    "\n",
    "dnanoseconds(x = 1)\n",
    "\n",
    "dpicoseconds(x = 1)\n",
    "\n",
    "is.duration(x)\n",
    "```"
   ]
  },
  {
   "cell_type": "markdown",
   "metadata": {},
   "source": [
    "### Arguments"
   ]
  },
  {
   "cell_type": "markdown",
   "metadata": {},
   "source": [
    "`num`\t\n",
    "the number or a character vector of time units. In string representation all unambiguous name units and abbreviations and ISO 8601 formats are supported; 'm' stands for month and 'M' for minutes unless ISO 8601 \"P\" modifier is present (see examples). Fractional units are supported.\n",
    "\n",
    "`units`\t\n",
    "a character string that specifies the type of units that num refers to. When num is character, this argument is ignored.\n",
    "\n",
    "`...`\t\n",
    "a list of time units to be included in the duration and their amounts. Seconds, minutes, hours, days, weeks, months and years are supported. Durations of months and years assume that year consists of 365.25 days.\n",
    "\n",
    "`x`\t\n",
    "numeric value of the number of units to be contained in the duration."
   ]
  },
  {
   "cell_type": "markdown",
   "metadata": {},
   "source": [
    "### Details"
   ]
  },
  {
   "cell_type": "markdown",
   "metadata": {},
   "source": [
    "Durations record the exact number of seconds in a time span. They measure the exact passage of time but do not always align with measurements made in larger units of time such as hours, months and years. This is because the length of larger time units can be affected by conventions such as leap years and Daylight Savings Time. Base R provides a second class for measuring durations, the difftime class.\n",
    "\n",
    "Duration objects can be easily created with the helper functions `dweeks()`, `ddays()`, `dminutes()`, `dseconds()`. These objects can be added to and subtracted to date- times to create a user interface similar to object oriented programming."
   ]
  },
  {
   "cell_type": "markdown",
   "metadata": {},
   "source": [
    "### Examples"
   ]
  },
  {
   "cell_type": "markdown",
   "metadata": {},
   "source": [
    "Create a single duration unit:"
   ]
  },
  {
   "cell_type": "code",
   "execution_count": 20,
   "metadata": {},
   "outputs": [
    {
     "data": {
      "text/html": [
       "604800s (~1 weeks)"
      ],
      "text/latex": [
       "604800s (\\textasciitilde{}1 weeks)"
      ],
      "text/markdown": [
       "604800s (~1 weeks)"
      ],
      "text/plain": [
       "[1] \"604800s (~1 weeks)\""
      ]
     },
     "metadata": {},
     "output_type": "display_data"
    },
    {
     "data": {
      "text/html": [
       "604800s (~1 weeks)"
      ],
      "text/latex": [
       "604800s (\\textasciitilde{}1 weeks)"
      ],
      "text/markdown": [
       "604800s (~1 weeks)"
      ],
      "text/plain": [
       "[1] \"604800s (~1 weeks)\""
      ]
     },
     "metadata": {},
     "output_type": "display_data"
    },
    {
     "data": {
      "text/html": [
       "604800s (~1 weeks)"
      ],
      "text/latex": [
       "604800s (\\textasciitilde{}1 weeks)"
      ],
      "text/markdown": [
       "604800s (~1 weeks)"
      ],
      "text/plain": [
       "[1] \"604800s (~1 weeks)\""
      ]
     },
     "metadata": {},
     "output_type": "display_data"
    }
   ],
   "source": [
    "dweeks(1)\n",
    "\n",
    "duration(1, 'weeks')  \n",
    "\n",
    "duration(weeks = 1)"
   ]
  },
  {
   "cell_type": "code",
   "execution_count": 15,
   "metadata": {},
   "outputs": [
    {
     "data": {
      "text/html": [
       "-86400s (~-1 days)"
      ],
      "text/latex": [
       "-86400s (\\textasciitilde{}-1 days)"
      ],
      "text/markdown": [
       "-86400s (~-1 days)"
      ],
      "text/plain": [
       "[1] \"-86400s (~-1 days)\""
      ]
     },
     "metadata": {},
     "output_type": "display_data"
    },
    {
     "data": {
      "text/html": [
       "-86400s (~-1 days)"
      ],
      "text/latex": [
       "-86400s (\\textasciitilde{}-1 days)"
      ],
      "text/markdown": [
       "-86400s (~-1 days)"
      ],
      "text/plain": [
       "[1] \"-86400s (~-1 days)\""
      ]
     },
     "metadata": {},
     "output_type": "display_data"
    },
    {
     "data": {
      "text/html": [
       "-86400s (~-1 days)"
      ],
      "text/latex": [
       "-86400s (\\textasciitilde{}-1 days)"
      ],
      "text/markdown": [
       "-86400s (~-1 days)"
      ],
      "text/plain": [
       "[1] \"-86400s (~-1 days)\""
      ]
     },
     "metadata": {},
     "output_type": "display_data"
    }
   ],
   "source": [
    "ddays(-1)\n",
    "\n",
    "duration(-1, 'days') \n",
    "\n",
    "duration(days = -1)"
   ]
  },
  {
   "cell_type": "code",
   "execution_count": 24,
   "metadata": {},
   "outputs": [
    {
     "data": {
      "text/html": [
       "90000s (~1.04 days)"
      ],
      "text/latex": [
       "90000s (\\textasciitilde{}1.04 days)"
      ],
      "text/markdown": [
       "90000s (~1.04 days)"
      ],
      "text/plain": [
       "[1] \"90000s (~1.04 days)\""
      ]
     },
     "metadata": {},
     "output_type": "display_data"
    },
    {
     "data": {
      "text/html": [
       "90000s (~1.04 days)"
      ],
      "text/latex": [
       "90000s (\\textasciitilde{}1.04 days)"
      ],
      "text/markdown": [
       "90000s (~1.04 days)"
      ],
      "text/plain": [
       "[1] \"90000s (~1.04 days)\""
      ]
     },
     "metadata": {},
     "output_type": "display_data"
    },
    {
     "data": {
      "text/html": [
       "90000s (~1.04 days)"
      ],
      "text/latex": [
       "90000s (\\textasciitilde{}1.04 days)"
      ],
      "text/markdown": [
       "90000s (~1.04 days)"
      ],
      "text/plain": [
       "[1] \"90000s (~1.04 days)\""
      ]
     },
     "metadata": {},
     "output_type": "display_data"
    }
   ],
   "source": [
    "dhours(25)\n",
    "\n",
    "duration(25, 'hours')\n",
    "\n",
    "duration(hours = 25)"
   ]
  },
  {
   "cell_type": "code",
   "execution_count": 6,
   "metadata": {},
   "outputs": [
    {
     "data": {
      "text/html": [
       "2629800s (~4.35 weeks)"
      ],
      "text/latex": [
       "2629800s (\\textasciitilde{}4.35 weeks)"
      ],
      "text/markdown": [
       "2629800s (~4.35 weeks)"
      ],
      "text/plain": [
       "[1] \"2629800s (~4.35 weeks)\""
      ]
     },
     "metadata": {},
     "output_type": "display_data"
    },
    {
     "data": {
      "text/html": [
       "2629800s (~4.35 weeks)"
      ],
      "text/latex": [
       "2629800s (\\textasciitilde{}4.35 weeks)"
      ],
      "text/markdown": [
       "2629800s (~4.35 weeks)"
      ],
      "text/plain": [
       "[1] \"2629800s (~4.35 weeks)\""
      ]
     },
     "metadata": {},
     "output_type": "display_data"
    },
    {
     "data": {
      "text/html": [
       "2629800s (~4.35 weeks)"
      ],
      "text/latex": [
       "2629800s (\\textasciitilde{}4.35 weeks)"
      ],
      "text/markdown": [
       "2629800s (~4.35 weeks)"
      ],
      "text/plain": [
       "[1] \"2629800s (~4.35 weeks)\""
      ]
     },
     "metadata": {},
     "output_type": "display_data"
    }
   ],
   "source": [
    "# Some months having 30 months, some months having 31 days\n",
    "# 2628000 seconds (approximately 30.42 days). \n",
    "#This ensures that 12 months will sum to 365 days, or one normal year.\n",
    "dmonths(1)\n",
    "\n",
    "duration(1, 'months')\n",
    "\n",
    "duration(months = 1)"
   ]
  },
  {
   "cell_type": "code",
   "execution_count": 5,
   "metadata": {},
   "outputs": [
    {
     "data": {
      "text/html": [
       "31557600s (~1 years)"
      ],
      "text/latex": [
       "31557600s (\\textasciitilde{}1 years)"
      ],
      "text/markdown": [
       "31557600s (~1 years)"
      ],
      "text/plain": [
       "[1] \"31557600s (~1 years)\""
      ]
     },
     "metadata": {},
     "output_type": "display_data"
    }
   ],
   "source": [
    "duration(1, 'year')"
   ]
  },
  {
   "cell_type": "markdown",
   "metadata": {},
   "source": [
    "<hr>"
   ]
  },
  {
   "cell_type": "markdown",
   "metadata": {},
   "source": [
    "Create multiple duration units:"
   ]
  },
  {
   "cell_type": "code",
   "execution_count": 23,
   "metadata": {},
   "outputs": [
    {
     "data": {
      "text/html": [
       "279000s (~3.23 days)"
      ],
      "text/latex": [
       "279000s (\\textasciitilde{}3.23 days)"
      ],
      "text/markdown": [
       "279000s (~3.23 days)"
      ],
      "text/plain": [
       "[1] \"279000s (~3.23 days)\""
      ]
     },
     "metadata": {},
     "output_type": "display_data"
    },
    {
     "data": {
      "text/html": [
       "279000s (~3.23 days)"
      ],
      "text/latex": [
       "279000s (\\textasciitilde{}3.23 days)"
      ],
      "text/markdown": [
       "279000s (~3.23 days)"
      ],
      "text/plain": [
       "[1] \"279000s (~3.23 days)\""
      ]
     },
     "metadata": {},
     "output_type": "display_data"
    },
    {
     "data": {
      "text/html": [
       "279000s (~3.23 days)"
      ],
      "text/latex": [
       "279000s (\\textasciitilde{}3.23 days)"
      ],
      "text/markdown": [
       "279000s (~3.23 days)"
      ],
      "text/plain": [
       "[1] \"279000s (~3.23 days)\""
      ]
     },
     "metadata": {},
     "output_type": "display_data"
    },
    {
     "data": {
      "text/html": [
       "279000s (~3.23 days)"
      ],
      "text/latex": [
       "279000s (\\textasciitilde{}3.23 days)"
      ],
      "text/markdown": [
       "279000s (~3.23 days)"
      ],
      "text/plain": [
       "[1] \"279000s (~3.23 days)\""
      ]
     },
     "metadata": {},
     "output_type": "display_data"
    }
   ],
   "source": [
    "# 3 days, 5 hours, 30 minutes\n",
    "ddays(3) + dhours(5) + dminutes(30)\n",
    "\n",
    "duration(3, 'days') + duration(5, 'hours') + duration(30, 'minutes')\n",
    "\n",
    "duration(days = 3) + duration(hours = 5) + duration(minutes = 30)\n",
    "\n",
    "duration(days = 3, hours = 5, minutes = 30)"
   ]
  },
  {
   "cell_type": "code",
   "execution_count": 26,
   "metadata": {},
   "outputs": [
    {
     "data": {
      "text/html": [
       "0s"
      ],
      "text/latex": [
       "0s"
      ],
      "text/markdown": [
       "0s"
      ],
      "text/plain": [
       "[1] \"0s\""
      ]
     },
     "metadata": {},
     "output_type": "display_data"
    }
   ],
   "source": [
    "duration(minutes = 1, seconds = -60)"
   ]
  },
  {
   "cell_type": "markdown",
   "metadata": {},
   "source": [
    "<hr>"
   ]
  },
  {
   "cell_type": "markdown",
   "metadata": {},
   "source": [
    "Parsing:"
   ]
  },
  {
   "cell_type": "code",
   "execution_count": 28,
   "metadata": {},
   "outputs": [
    {
     "data": {
      "text/html": [
       "121s (~2.02 minutes)"
      ],
      "text/latex": [
       "121s (\\textasciitilde{}2.02 minutes)"
      ],
      "text/markdown": [
       "121s (~2.02 minutes)"
      ],
      "text/plain": [
       "[1] \"121s (~2.02 minutes)\""
      ]
     },
     "metadata": {},
     "output_type": "display_data"
    }
   ],
   "source": [
    "duration('2min 1s')"
   ]
  },
  {
   "cell_type": "code",
   "execution_count": 29,
   "metadata": {},
   "outputs": [
    {
     "data": {
      "text/html": [
       "121s (~2.02 minutes)"
      ],
      "text/latex": [
       "121s (\\textasciitilde{}2.02 minutes)"
      ],
      "text/markdown": [
       "121s (~2.02 minutes)"
      ],
      "text/plain": [
       "[1] \"121s (~2.02 minutes)\""
      ]
     },
     "metadata": {},
     "output_type": "display_data"
    }
   ],
   "source": [
    "duration('2min 1sec')"
   ]
  },
  {
   "cell_type": "code",
   "execution_count": 30,
   "metadata": {},
   "outputs": [
    {
     "data": {
      "text/html": [
       "180630s (~2.09 days)"
      ],
      "text/latex": [
       "180630s (\\textasciitilde{}2.09 days)"
      ],
      "text/markdown": [
       "180630s (~2.09 days)"
      ],
      "text/plain": [
       "[1] \"180630s (~2.09 days)\""
      ]
     },
     "metadata": {},
     "output_type": "display_data"
    }
   ],
   "source": [
    "duration('2D 2H 10M 30S')"
   ]
  },
  {
   "cell_type": "code",
   "execution_count": 31,
   "metadata": {},
   "outputs": [
    {
     "data": {
      "text/html": [
       "239440s (~2.77 days)"
      ],
      "text/latex": [
       "239440s (\\textasciitilde{}2.77 days)"
      ],
      "text/markdown": [
       "239440s (~2.77 days)"
      ],
      "text/plain": [
       "[1] \"239440s (~2.77 days)\""
      ]
     },
     "metadata": {},
     "output_type": "display_data"
    }
   ],
   "source": [
    "duration('2 days 18 hours 30 minutes 40 seconds')"
   ]
  },
  {
   "cell_type": "code",
   "execution_count": 32,
   "metadata": {},
   "outputs": [
    {
     "data": {
      "text/html": [
       "172800s (~2 days)"
      ],
      "text/latex": [
       "172800s (\\textasciitilde{}2 days)"
      ],
      "text/markdown": [
       "172800s (~2 days)"
      ],
      "text/plain": [
       "[1] \"172800s (~2 days)\""
      ]
     },
     "metadata": {},
     "output_type": "display_data"
    }
   ],
   "source": [
    "duration('day  day')"
   ]
  },
  {
   "cell_type": "markdown",
   "metadata": {},
   "source": [
    "<hr>"
   ]
  },
  {
   "cell_type": "markdown",
   "metadata": {},
   "source": [
    "ISO 8601 parsing"
   ]
  },
  {
   "cell_type": "code",
   "execution_count": 33,
   "metadata": {},
   "outputs": [
    {
     "data": {
      "text/html": [
       "110842205s (~3.51 years)"
      ],
      "text/latex": [
       "110842205s (\\textasciitilde{}3.51 years)"
      ],
      "text/markdown": [
       "110842205s (~3.51 years)"
      ],
      "text/plain": [
       "[1] \"110842205s (~3.51 years)\""
      ]
     },
     "metadata": {},
     "output_type": "display_data"
    }
   ],
   "source": [
    "duration(\"P3Y6M4DT12H30M5S\")"
   ]
  },
  {
   "cell_type": "code",
   "execution_count": 34,
   "metadata": {},
   "outputs": [
    {
     "data": {
      "text/html": [
       "2070000s (~3.42 weeks)"
      ],
      "text/latex": [
       "2070000s (\\textasciitilde{}3.42 weeks)"
      ],
      "text/markdown": [
       "2070000s (~3.42 weeks)"
      ],
      "text/plain": [
       "[1] \"2070000s (~3.42 weeks)\""
      ]
     },
     "metadata": {},
     "output_type": "display_data"
    }
   ],
   "source": [
    "duration(\"P23DT23H\") # M stands for months"
   ]
  },
  {
   "cell_type": "code",
   "execution_count": 35,
   "metadata": {},
   "outputs": [
    {
     "data": {
      "text/html": [
       "864600s (~1.43 weeks)"
      ],
      "text/latex": [
       "864600s (\\textasciitilde{}1.43 weeks)"
      ],
      "text/markdown": [
       "864600s (~1.43 weeks)"
      ],
      "text/plain": [
       "[1] \"864600s (~1.43 weeks)\""
      ]
     },
     "metadata": {},
     "output_type": "display_data"
    }
   ],
   "source": [
    "duration(\"10DT10M\") # M stands for minutes"
   ]
  },
  {
   "cell_type": "code",
   "execution_count": 36,
   "metadata": {},
   "outputs": [
    {
     "data": {
      "text/html": [
       "2204500s (~3.65 weeks)"
      ],
      "text/latex": [
       "2204500s (\\textasciitilde{}3.65 weeks)"
      ],
      "text/markdown": [
       "2204500s (~3.65 weeks)"
      ],
      "text/plain": [
       "[1] \"2204500s (~3.65 weeks)\""
      ]
     },
     "metadata": {},
     "output_type": "display_data"
    }
   ],
   "source": [
    "duration(\"P23DT60H 20min 100 sec\") # mixing ISO and lubridate style parsing"
   ]
  },
  {
   "cell_type": "code",
   "execution_count": 41,
   "metadata": {},
   "outputs": [
    {
     "data": {
      "text/plain": [
       "[1] \"2001-11-05 22:30:00 UTC\""
      ]
     },
     "metadata": {},
     "output_type": "display_data"
    }
   ],
   "source": [
    "# For months, it does not add exactly 1 month\n",
    "birthday <- ymd_hms('2001/10/06 12:00:00', tz = 'UTC')\n",
    "\n",
    "birthday + dmonths(1)"
   ]
  },
  {
   "cell_type": "code",
   "execution_count": 42,
   "metadata": {},
   "outputs": [
    {
     "data": {
      "text/plain": [
       "[1] \"2001-09-29 12:00:00 UTC\""
      ]
     },
     "metadata": {},
     "output_type": "display_data"
    }
   ],
   "source": [
    "birthday + duration(weeks = -1)"
   ]
  },
  {
   "cell_type": "code",
   "execution_count": 43,
   "metadata": {},
   "outputs": [
    {
     "data": {
      "text/html": [
       "'Date'"
      ],
      "text/latex": [
       "'Date'"
      ],
      "text/markdown": [
       "'Date'"
      ],
      "text/plain": [
       "[1] \"Date\""
      ]
     },
     "metadata": {},
     "output_type": "display_data"
    }
   ],
   "source": [
    "# a Date class will be converted to POSIX if adding duration hours, minutes, ...\n",
    "my_day <- ymd('2001/10/06')\n",
    "\n",
    "class(my_day)"
   ]
  },
  {
   "cell_type": "code",
   "execution_count": 44,
   "metadata": {},
   "outputs": [
    {
     "data": {
      "text/plain": [
       "[1] \"2001-10-06 05:00:00 UTC\""
      ]
     },
     "metadata": {},
     "output_type": "display_data"
    },
    {
     "data": {
      "text/html": [
       "<ol class=list-inline>\n",
       "\t<li>'POSIXct'</li>\n",
       "\t<li>'POSIXt'</li>\n",
       "</ol>\n"
      ],
      "text/latex": [
       "\\begin{enumerate*}\n",
       "\\item 'POSIXct'\n",
       "\\item 'POSIXt'\n",
       "\\end{enumerate*}\n"
      ],
      "text/markdown": [
       "1. 'POSIXct'\n",
       "2. 'POSIXt'\n",
       "\n",
       "\n"
      ],
      "text/plain": [
       "[1] \"POSIXct\" \"POSIXt\" "
      ]
     },
     "metadata": {},
     "output_type": "display_data"
    }
   ],
   "source": [
    "res <- my_day + dhours(5)\n",
    "\n",
    "res\n",
    "\n",
    "class(res)"
   ]
  },
  {
   "cell_type": "code",
   "execution_count": 45,
   "metadata": {},
   "outputs": [
    {
     "data": {
      "text/html": [
       "<ol class=list-inline>\n",
       "\t<li>3600s (~1 hours)</li>\n",
       "\t<li>7200s (~2 hours)</li>\n",
       "\t<li>10800s (~3 hours)</li>\n",
       "</ol>\n"
      ],
      "text/latex": [
       "\\begin{enumerate*}\n",
       "\\item 3600s (\\textasciitilde{}1 hours)\n",
       "\\item 7200s (\\textasciitilde{}2 hours)\n",
       "\\item 10800s (\\textasciitilde{}3 hours)\n",
       "\\end{enumerate*}\n"
      ],
      "text/markdown": [
       "1. 3600s (~1 hours)\n",
       "2. 7200s (~2 hours)\n",
       "3. 10800s (~3 hours)\n",
       "\n",
       "\n"
      ],
      "text/plain": [
       "[1] \"3600s (~1 hours)\"  \"7200s (~2 hours)\"  \"10800s (~3 hours)\""
      ]
     },
     "metadata": {},
     "output_type": "display_data"
    }
   ],
   "source": [
    "1:3 * duration(1, 'hour')"
   ]
  },
  {
   "cell_type": "code",
   "execution_count": 47,
   "metadata": {},
   "outputs": [
    {
     "data": {
      "text/plain": [
       "[1] \"2009-03-09 01:59:59 CDT\""
      ]
     },
     "metadata": {},
     "output_type": "display_data"
    },
    {
     "data": {
      "text/plain": [
       "[1] \"2009-03-09 02:59:59 CDT\""
      ]
     },
     "metadata": {},
     "output_type": "display_data"
    }
   ],
   "source": [
    "# compare DST handling to durations\n",
    "\n",
    "boundary <- ymd_hms(\"2009-03-08 01:59:59\", tz=\"America/Chicago\")\n",
    "\n",
    "boundary + days(1) # period\n",
    "\n",
    "boundary + ddays(1) # duration"
   ]
  },
  {
   "cell_type": "markdown",
   "metadata": {},
   "source": [
    "# Is an object a duration class?"
   ]
  },
  {
   "cell_type": "code",
   "execution_count": 48,
   "metadata": {},
   "outputs": [
    {
     "data": {
      "text/html": [
       "FALSE"
      ],
      "text/latex": [
       "FALSE"
      ],
      "text/markdown": [
       "FALSE"
      ],
      "text/plain": [
       "[1] FALSE"
      ]
     },
     "metadata": {},
     "output_type": "display_data"
    }
   ],
   "source": [
    "is.duration(as.Date(\"2009-08-03\"))"
   ]
  },
  {
   "cell_type": "code",
   "execution_count": 49,
   "metadata": {},
   "outputs": [
    {
     "data": {
      "text/html": [
       "TRUE"
      ],
      "text/latex": [
       "TRUE"
      ],
      "text/markdown": [
       "TRUE"
      ],
      "text/plain": [
       "[1] TRUE"
      ]
     },
     "metadata": {},
     "output_type": "display_data"
    }
   ],
   "source": [
    "is.duration(dweeks(5))"
   ]
  },
  {
   "cell_type": "markdown",
   "metadata": {},
   "source": [
    "# Change an object to a duration"
   ]
  },
  {
   "cell_type": "markdown",
   "metadata": {},
   "source": [
    "**`as.duration`** changes Interval, Period and numeric class objects to Duration objects. Numeric objects are changed to Duration objects with the seconds unit equal to the numeric value."
   ]
  },
  {
   "cell_type": "markdown",
   "metadata": {},
   "source": [
    "```r\n",
    "as.duration(x, ...)\n",
    "```\n",
    "**Arguments**  \n",
    "`x`\t\n",
    "Object to be coerced to a duration\n",
    "\n",
    "`...`\t\n",
    "Parameters passed to other methods. Currently unused"
   ]
  },
  {
   "cell_type": "markdown",
   "metadata": {},
   "source": [
    "### Value"
   ]
  },
  {
   "cell_type": "markdown",
   "metadata": {},
   "source": [
    "A duration object"
   ]
  },
  {
   "cell_type": "markdown",
   "metadata": {},
   "source": [
    "### Details"
   ]
  },
  {
   "cell_type": "markdown",
   "metadata": {},
   "source": [
    "Durations are exact time measurements, whereas periods are relative time measurements. The length of a period depends on when it occurs. Hence, a one to one mapping does not exist between durations and periods. When used with a period object, `as.duration` provides an inexact estimate of the length of the period; each time unit is assigned its most common number of seconds. A period of one month is converted to 2628000 seconds (approximately 30.42 days). This ensures that 12 months will sum to 365 days, or one normal year. For an exact transformation, first transform the period to an interval with **`as.interval()`**."
   ]
  },
  {
   "cell_type": "markdown",
   "metadata": {},
   "source": [
    "### Examples"
   ]
  },
  {
   "cell_type": "markdown",
   "metadata": {},
   "source": [
    "Convert `Interval` to `Duration`:"
   ]
  },
  {
   "cell_type": "code",
   "execution_count": 4,
   "metadata": {},
   "outputs": [
    {
     "data": {
      "text/html": [
       "18316800s (~30.29 weeks)"
      ],
      "text/latex": [
       "18316800s (\\textasciitilde{}30.29 weeks)"
      ],
      "text/markdown": [
       "18316800s (~30.29 weeks)"
      ],
      "text/plain": [
       "[1] \"18316800s (~30.29 weeks)\""
      ]
     },
     "metadata": {},
     "output_type": "display_data"
    }
   ],
   "source": [
    "span <- interval(ymd(\"2009-01-01\"), ymd(\"2009-08-01\")) \n",
    "\n",
    "as.duration(span)"
   ]
  },
  {
   "cell_type": "markdown",
   "metadata": {},
   "source": [
    "Convert `Numeric` to `Duration`:"
   ]
  },
  {
   "cell_type": "code",
   "execution_count": 7,
   "metadata": {},
   "outputs": [
    {
     "data": {
      "text/html": [
       "10s"
      ],
      "text/latex": [
       "10s"
      ],
      "text/markdown": [
       "10s"
      ],
      "text/plain": [
       "[1] \"10s\""
      ]
     },
     "metadata": {},
     "output_type": "display_data"
    }
   ],
   "source": [
    "as.duration(10)"
   ]
  },
  {
   "cell_type": "code",
   "execution_count": 9,
   "metadata": {},
   "outputs": [
    {
     "data": {
      "text/html": [
       "252"
      ],
      "text/latex": [
       "252"
      ],
      "text/markdown": [
       "252"
      ],
      "text/plain": [
       "[1] 252"
      ]
     },
     "metadata": {},
     "output_type": "display_data"
    }
   ],
   "source": [
    "span <- duration(days = 10, hours = 12)\n",
    "\n",
    "as.numeric(span, 'hours')"
   ]
  },
  {
   "cell_type": "code",
   "execution_count": 10,
   "metadata": {},
   "outputs": [
    {
     "data": {
      "text/html": [
       "15120"
      ],
      "text/latex": [
       "15120"
      ],
      "text/markdown": [
       "15120"
      ],
      "text/plain": [
       "[1] 15120"
      ]
     },
     "metadata": {},
     "output_type": "display_data"
    }
   ],
   "source": [
    "as.numeric(span, 'minutes')"
   ]
  }
 ],
 "metadata": {
  "kernelspec": {
   "display_name": "R",
   "language": "R",
   "name": "ir"
  },
  "language_info": {
   "codemirror_mode": "r",
   "file_extension": ".r",
   "mimetype": "text/x-r-source",
   "name": "R",
   "pygments_lexer": "r",
   "version": "3.6.1"
  }
 },
 "nbformat": 4,
 "nbformat_minor": 2
}
