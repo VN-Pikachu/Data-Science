{
 "cells": [
  {
   "cell_type": "code",
   "execution_count": 2,
   "metadata": {},
   "outputs": [],
   "source": [
    "library(lubridate)"
   ]
  },
  {
   "cell_type": "markdown",
   "metadata": {},
   "source": [
    "# Utilities for creation and manipulation of Interval objects"
   ]
  },
  {
   "cell_type": "markdown",
   "metadata": {},
   "source": [
    "```r\n",
    "interval(start = NULL, end = NULL, tzone = tz(start))\n",
    "\n",
    "start %--% end\n",
    "\n",
    "is.interval(x)\n",
    "\n",
    "int_start(int)\n",
    "\n",
    "int_start(int) <- value\n",
    "\n",
    "int_end(int)\n",
    "\n",
    "int_end(int) <- value\n",
    "\n",
    "int_length(int)\n",
    "\n",
    "int_flip(int)\n",
    "\n",
    "int_shift(int, by)\n",
    "\n",
    "int_overlaps(int1, int2)\n",
    "\n",
    "int_standardize(int)\n",
    "\n",
    "int_aligns(int1, int2)\n",
    "\n",
    "int_diff(times)\n",
    "```"
   ]
  },
  {
   "cell_type": "markdown",
   "metadata": {},
   "source": [
    "### Examples"
   ]
  },
  {
   "cell_type": "markdown",
   "metadata": {},
   "source": [
    "**`interval()`** creates an Interval object with the specified start and end dates. If the start date occurs before the end date, the interval will be positive. Otherwise, it will be negative. Character vectors in ISO 8601 format are supported from v1.7.2."
   ]
  },
  {
   "cell_type": "code",
   "execution_count": 11,
   "metadata": {},
   "outputs": [
    {
     "data": {
      "text/html": [
       "2020-01-01 UTC--2020-01-08 UTC"
      ],
      "text/latex": [
       "2020-01-01 UTC--2020-01-08 UTC"
      ],
      "text/markdown": [
       "2020-01-01 UTC--2020-01-08 UTC"
      ],
      "text/plain": [
       "[1] 2020-01-01 UTC--2020-01-08 UTC"
      ]
     },
     "metadata": {},
     "output_type": "display_data"
    },
    {
     "data": {
      "text/html": [
       "2020-01-01 UTC--2020-01-08 UTC"
      ],
      "text/latex": [
       "2020-01-01 UTC--2020-01-08 UTC"
      ],
      "text/markdown": [
       "2020-01-01 UTC--2020-01-08 UTC"
      ],
      "text/plain": [
       "[1] 2020-01-01 UTC--2020-01-08 UTC"
      ]
     },
     "metadata": {},
     "output_type": "display_data"
    }
   ],
   "source": [
    "# Positive\n",
    "interval(ymd(200101), ymd(200108))\n",
    "\n",
    "# equivalent\n",
    "ymd(200101) %--% ymd(200108)"
   ]
  },
  {
   "cell_type": "code",
   "execution_count": 12,
   "metadata": {},
   "outputs": [
    {
     "data": {
      "text/html": [
       "2020-01-08 UTC--2020-01-01 UTC"
      ],
      "text/latex": [
       "2020-01-08 UTC--2020-01-01 UTC"
      ],
      "text/markdown": [
       "2020-01-08 UTC--2020-01-01 UTC"
      ],
      "text/plain": [
       "[1] 2020-01-08 UTC--2020-01-01 UTC"
      ]
     },
     "metadata": {},
     "output_type": "display_data"
    },
    {
     "data": {
      "text/html": [
       "2020-01-08 UTC--2020-01-01 UTC"
      ],
      "text/latex": [
       "2020-01-08 UTC--2020-01-01 UTC"
      ],
      "text/markdown": [
       "2020-01-08 UTC--2020-01-01 UTC"
      ],
      "text/plain": [
       "[1] 2020-01-08 UTC--2020-01-01 UTC"
      ]
     },
     "metadata": {},
     "output_type": "display_data"
    }
   ],
   "source": [
    "# Negative\n",
    "interval(ymd(200108), ymd(200101))\n",
    "\n",
    "# equivalent\n",
    "ymd(200108) %--% ymd(200101)"
   ]
  },
  {
   "cell_type": "code",
   "execution_count": 8,
   "metadata": {},
   "outputs": [
    {
     "data": {
      "text/html": [
       "2000-02-29 12:00:00 UTC--2009-03-08 01:59:59 UTC"
      ],
      "text/latex": [
       "2000-02-29 12:00:00 UTC--2009-03-08 01:59:59 UTC"
      ],
      "text/markdown": [
       "2000-02-29 12:00:00 UTC--2009-03-08 01:59:59 UTC"
      ],
      "text/plain": [
       "[1] 2000-02-29 12:00:00 UTC--2009-03-08 01:59:59 UTC"
      ]
     },
     "metadata": {},
     "output_type": "display_data"
    }
   ],
   "source": [
    "date1 <- ymd_hms(\"2009-03-08 01:59:59\")\n",
    "date2 <- ymd_hms(\"2000-02-29 12:00:00\")\n",
    "\n",
    "interval(date2, date1)"
   ]
  },
  {
   "cell_type": "code",
   "execution_count": 9,
   "metadata": {},
   "outputs": [
    {
     "data": {
      "text/html": [
       "2007-03-01 13:00:00 UTC--2008-05-11 15:30:00 UTC"
      ],
      "text/latex": [
       "2007-03-01 13:00:00 UTC--2008-05-11 15:30:00 UTC"
      ],
      "text/markdown": [
       "2007-03-01 13:00:00 UTC--2008-05-11 15:30:00 UTC"
      ],
      "text/plain": [
       "[1] 2007-03-01 13:00:00 UTC--2008-05-11 15:30:00 UTC"
      ]
     },
     "metadata": {},
     "output_type": "display_data"
    },
    {
     "data": {
      "text/html": [
       "2007-03-01 13:00:00 UTC--2008-05-11 15:30:00 UTC"
      ],
      "text/latex": [
       "2007-03-01 13:00:00 UTC--2008-05-11 15:30:00 UTC"
      ],
      "text/markdown": [
       "2007-03-01 13:00:00 UTC--2008-05-11 15:30:00 UTC"
      ],
      "text/plain": [
       "[1] 2007-03-01 13:00:00 UTC--2008-05-11 15:30:00 UTC"
      ]
     },
     "metadata": {},
     "output_type": "display_data"
    },
    {
     "data": {
      "text/html": [
       "2007-03-01 13:00:00 UTC--2008-05-11 15:30:00 UTC"
      ],
      "text/latex": [
       "2007-03-01 13:00:00 UTC--2008-05-11 15:30:00 UTC"
      ],
      "text/markdown": [
       "2007-03-01 13:00:00 UTC--2008-05-11 15:30:00 UTC"
      ],
      "text/plain": [
       "[1] 2007-03-01 13:00:00 UTC--2008-05-11 15:30:00 UTC"
      ]
     },
     "metadata": {},
     "output_type": "display_data"
    },
    {
     "data": {
      "text/html": [
       "2008-05-11 UTC--2010-11-11 02:00:00 UTC"
      ],
      "text/latex": [
       "2008-05-11 UTC--2010-11-11 02:00:00 UTC"
      ],
      "text/markdown": [
       "2008-05-11 UTC--2010-11-11 02:00:00 UTC"
      ],
      "text/plain": [
       "[1] 2008-05-11 UTC--2010-11-11 02:00:00 UTC"
      ]
     },
     "metadata": {},
     "output_type": "display_data"
    }
   ],
   "source": [
    "### ISO Intervals\n",
    "\n",
    "interval(\"2007-03-01T13:00:00Z/2008-05-11T15:30:00Z\")\n",
    "\n",
    "interval(\"2007-03-01T13:00:00Z/P1Y2M10DT2H30M\")\n",
    "\n",
    "interval(\"P1Y2M10DT2H30M/2008-05-11T15:30:00Z\")\n",
    "\n",
    "interval(\"2008-05-11/P2H30M\")"
   ]
  },
  {
   "cell_type": "code",
   "execution_count": 10,
   "metadata": {},
   "outputs": [
    {
     "data": {
      "text/html": [
       "2008-05-11 UTC--2008-05-11 02:30:00 UTC"
      ],
      "text/latex": [
       "2008-05-11 UTC--2008-05-11 02:30:00 UTC"
      ],
      "text/markdown": [
       "2008-05-11 UTC--2008-05-11 02:30:00 UTC"
      ],
      "text/plain": [
       "[1] 2008-05-11 UTC--2008-05-11 02:30:00 UTC"
      ]
     },
     "metadata": {},
     "output_type": "display_data"
    },
    {
     "data": {
      "text/html": [
       "2008-05-11 UTC--2010-11-11 02:00:00 UTC"
      ],
      "text/latex": [
       "2008-05-11 UTC--2010-11-11 02:00:00 UTC"
      ],
      "text/markdown": [
       "2008-05-11 UTC--2010-11-11 02:00:00 UTC"
      ],
      "text/plain": [
       "[1] 2008-05-11 UTC--2010-11-11 02:00:00 UTC"
      ]
     },
     "metadata": {},
     "output_type": "display_data"
    }
   ],
   "source": [
    "### More permisive parsing (as long as there are no intermittent / characters)\n",
    "interval(\"2008 05 11/P2hours 30minutes\")\n",
    "\n",
    "interval(\"08 05 11/P 2h 30m\")\n"
   ]
  },
  {
   "cell_type": "markdown",
   "metadata": {},
   "source": [
    "<hr>"
   ]
  },
  {
   "cell_type": "markdown",
   "metadata": {},
   "source": [
    "is x an interval object?"
   ]
  },
  {
   "cell_type": "code",
   "execution_count": 13,
   "metadata": {},
   "outputs": [
    {
     "data": {
      "text/html": [
       "FALSE"
      ],
      "text/latex": [
       "FALSE"
      ],
      "text/markdown": [
       "FALSE"
      ],
      "text/plain": [
       "[1] FALSE"
      ]
     },
     "metadata": {},
     "output_type": "display_data"
    }
   ],
   "source": [
    "is.interval(period(1, 'month'))"
   ]
  },
  {
   "cell_type": "code",
   "execution_count": 14,
   "metadata": {},
   "outputs": [
    {
     "data": {
      "text/html": [
       "TRUE"
      ],
      "text/latex": [
       "TRUE"
      ],
      "text/markdown": [
       "TRUE"
      ],
      "text/plain": [
       "[1] TRUE"
      ]
     },
     "metadata": {},
     "output_type": "display_data"
    }
   ],
   "source": [
    "is.interval(ymd(101010) %--% ymd(101020))"
   ]
  },
  {
   "cell_type": "markdown",
   "metadata": {},
   "source": [
    "<hr>"
   ]
  },
  {
   "cell_type": "markdown",
   "metadata": {},
   "source": [
    "`int_start()`/`int_end()` and `int_start<-()`/`int_end<-()` are \"accessors\" and \"setters\" respectively of the start/end date of an interval."
   ]
  },
  {
   "cell_type": "code",
   "execution_count": 15,
   "metadata": {},
   "outputs": [
    {
     "data": {
      "text/html": [
       "2020-11-21 UTC--2020-11-25 UTC"
      ],
      "text/latex": [
       "2020-11-21 UTC--2020-11-25 UTC"
      ],
      "text/markdown": [
       "2020-11-21 UTC--2020-11-25 UTC"
      ],
      "text/plain": [
       "[1] 2020-11-21 UTC--2020-11-25 UTC"
      ]
     },
     "metadata": {},
     "output_type": "display_data"
    }
   ],
   "source": [
    "event <- ymd(201121) %--% ymd(201125)\n",
    "\n",
    "event"
   ]
  },
  {
   "cell_type": "code",
   "execution_count": 16,
   "metadata": {},
   "outputs": [
    {
     "data": {
      "text/plain": [
       "[1] \"2020-11-21 UTC\""
      ]
     },
     "metadata": {},
     "output_type": "display_data"
    }
   ],
   "source": [
    "# get start date of interval\n",
    "int_start(event)"
   ]
  },
  {
   "cell_type": "code",
   "execution_count": 17,
   "metadata": {},
   "outputs": [
    {
     "data": {
      "text/plain": [
       "[1] \"2020-11-25 UTC\""
      ]
     },
     "metadata": {},
     "output_type": "display_data"
    }
   ],
   "source": [
    "# get end date of interval\n",
    "int_end(event)"
   ]
  },
  {
   "cell_type": "code",
   "execution_count": 18,
   "metadata": {},
   "outputs": [
    {
     "data": {
      "text/html": [
       "2020-11-20 UTC--2020-11-25 UTC"
      ],
      "text/latex": [
       "2020-11-20 UTC--2020-11-25 UTC"
      ],
      "text/markdown": [
       "2020-11-20 UTC--2020-11-25 UTC"
      ],
      "text/plain": [
       "[1] 2020-11-20 UTC--2020-11-25 UTC"
      ]
     },
     "metadata": {},
     "output_type": "display_data"
    }
   ],
   "source": [
    "# set start date to 2020/11/20\n",
    "\n",
    "int_start(event) <- ymd(201120)\n",
    "\n",
    "event"
   ]
  },
  {
   "cell_type": "markdown",
   "metadata": {},
   "source": [
    "<hr>"
   ]
  },
  {
   "cell_type": "markdown",
   "metadata": {},
   "source": [
    "**`int_flip()`** reverses the order of the start date and end date in an interval. The new interval takes place during the same timespan as the original interval, but has the opposite direction.\n"
   ]
  },
  {
   "cell_type": "code",
   "execution_count": 21,
   "metadata": {},
   "outputs": [
    {
     "data": {
      "text/html": [
       "2020-11-20 UTC--2020-11-25 UTC"
      ],
      "text/latex": [
       "2020-11-20 UTC--2020-11-25 UTC"
      ],
      "text/markdown": [
       "2020-11-20 UTC--2020-11-25 UTC"
      ],
      "text/plain": [
       "[1] 2020-11-20 UTC--2020-11-25 UTC"
      ]
     },
     "metadata": {},
     "output_type": "display_data"
    },
    {
     "data": {
      "text/plain": [
       "[1] \"2020-11-20 07:00:00 +07\""
      ]
     },
     "metadata": {},
     "output_type": "display_data"
    },
    {
     "data": {
      "text/plain": [
       "[1] \"2020-11-25 07:00:00 +07\""
      ]
     },
     "metadata": {},
     "output_type": "display_data"
    }
   ],
   "source": [
    "event\n",
    "\n",
    "int_start(event)\n",
    "\n",
    "int_end(event)"
   ]
  },
  {
   "cell_type": "code",
   "execution_count": 23,
   "metadata": {},
   "outputs": [
    {
     "data": {
      "text/html": [
       "2020-11-25 UTC--2020-11-20 UTC"
      ],
      "text/latex": [
       "2020-11-25 UTC--2020-11-20 UTC"
      ],
      "text/markdown": [
       "2020-11-25 UTC--2020-11-20 UTC"
      ],
      "text/plain": [
       "[1] 2020-11-25 UTC--2020-11-20 UTC"
      ]
     },
     "metadata": {},
     "output_type": "display_data"
    },
    {
     "data": {
      "text/plain": [
       "[1] \"2020-11-25 07:00:00 +07\""
      ]
     },
     "metadata": {},
     "output_type": "display_data"
    },
    {
     "data": {
      "text/plain": [
       "[1] \"2020-11-20 07:00:00 +07\""
      ]
     },
     "metadata": {},
     "output_type": "display_data"
    }
   ],
   "source": [
    "event_flipped <- int_flip(event)\n",
    "\n",
    "event_flipped\n",
    "\n",
    "int_start(event_flipped)\n",
    "\n",
    "int_end(event_flipped)"
   ]
  },
  {
   "cell_type": "markdown",
   "metadata": {},
   "source": [
    "<hr>"
   ]
  },
  {
   "cell_type": "markdown",
   "metadata": {},
   "source": [
    "**`int_shift()`** shifts the start and end dates of an interval up or down the timeline by a specified amount. Note that this may change the exact length of the interval if the interval is shifted by a Period object. Intervals shifted by a Duration or difftime object will retain their exact length in seconds."
   ]
  },
  {
   "cell_type": "code",
   "execution_count": 29,
   "metadata": {},
   "outputs": [
    {
     "data": {
      "text/html": [
       "2001-01-12 UTC--2002-01-12 UTC"
      ],
      "text/latex": [
       "2001-01-12 UTC--2002-01-12 UTC"
      ],
      "text/markdown": [
       "2001-01-12 UTC--2002-01-12 UTC"
      ],
      "text/plain": [
       "[1] 2001-01-12 UTC--2002-01-12 UTC"
      ]
     },
     "metadata": {},
     "output_type": "display_data"
    }
   ],
   "source": [
    "int <- interval(ymd(\"2001-01-01\"), ymd(\"2002-01-01\"))\n",
    "\n",
    "# return a new Interval\n",
    "int_shift(int, duration(days = 11))"
   ]
  },
  {
   "cell_type": "code",
   "execution_count": 30,
   "metadata": {},
   "outputs": [
    {
     "data": {
      "text/html": [
       "2000-12-31 23:00:00 UTC--2001-12-31 23:00:00 UTC"
      ],
      "text/latex": [
       "2000-12-31 23:00:00 UTC--2001-12-31 23:00:00 UTC"
      ],
      "text/markdown": [
       "2000-12-31 23:00:00 UTC--2001-12-31 23:00:00 UTC"
      ],
      "text/plain": [
       "[1] 2000-12-31 23:00:00 UTC--2001-12-31 23:00:00 UTC"
      ]
     },
     "metadata": {},
     "output_type": "display_data"
    }
   ],
   "source": [
    "int_shift(int, duration(-1, 'hour'))"
   ]
  },
  {
   "cell_type": "markdown",
   "metadata": {},
   "source": [
    "<hr>"
   ]
  },
  {
   "cell_type": "markdown",
   "metadata": {},
   "source": [
    "**`int_length()`**: return the length of an Interval in seconds"
   ]
  },
  {
   "cell_type": "code",
   "execution_count": 24,
   "metadata": {},
   "outputs": [
    {
     "data": {
      "text/html": [
       "2020-11-20 UTC--2020-11-25 UTC"
      ],
      "text/latex": [
       "2020-11-20 UTC--2020-11-25 UTC"
      ],
      "text/markdown": [
       "2020-11-20 UTC--2020-11-25 UTC"
      ],
      "text/plain": [
       "[1] 2020-11-20 UTC--2020-11-25 UTC"
      ]
     },
     "metadata": {},
     "output_type": "display_data"
    }
   ],
   "source": [
    "event"
   ]
  },
  {
   "cell_type": "code",
   "execution_count": 26,
   "metadata": {},
   "outputs": [
    {
     "data": {
      "text/html": [
       "432000"
      ],
      "text/latex": [
       "432000"
      ],
      "text/markdown": [
       "432000"
      ],
      "text/plain": [
       "[1] 432000"
      ]
     },
     "metadata": {},
     "output_type": "display_data"
    },
    {
     "data": {
      "text/html": [
       "-432000"
      ],
      "text/latex": [
       "-432000"
      ],
      "text/markdown": [
       "-432000"
      ],
      "text/plain": [
       "[1] -432000"
      ]
     },
     "metadata": {},
     "output_type": "display_data"
    }
   ],
   "source": [
    "int_length(event)\n",
    "\n",
    "int_length(event_flipped)"
   ]
  },
  {
   "cell_type": "markdown",
   "metadata": {},
   "source": [
    "<hr>"
   ]
  },
  {
   "cell_type": "markdown",
   "metadata": {},
   "source": [
    "**`int_overlaps()`** tests if two intervals overlap."
   ]
  },
  {
   "cell_type": "code",
   "execution_count": 31,
   "metadata": {},
   "outputs": [],
   "source": [
    "int1 <- interval(ymd(\"2001-01-01\"), ymd(\"2002-01-01\"))\n",
    "int2 <- interval(ymd(\"2001-06-01\"), ymd(\"2002-06-01\"))\n",
    "int3 <- interval(ymd(\"2003-01-01\"), ymd(\"2004-01-01\"))"
   ]
  },
  {
   "cell_type": "code",
   "execution_count": 33,
   "metadata": {},
   "outputs": [
    {
     "data": {
      "text/html": [
       "TRUE"
      ],
      "text/latex": [
       "TRUE"
      ],
      "text/markdown": [
       "TRUE"
      ],
      "text/plain": [
       "[1] TRUE"
      ]
     },
     "metadata": {},
     "output_type": "display_data"
    }
   ],
   "source": [
    "int_overlaps(int1, int2)"
   ]
  },
  {
   "cell_type": "code",
   "execution_count": 34,
   "metadata": {},
   "outputs": [
    {
     "data": {
      "text/html": [
       "FALSE"
      ],
      "text/latex": [
       "FALSE"
      ],
      "text/markdown": [
       "FALSE"
      ],
      "text/plain": [
       "[1] FALSE"
      ]
     },
     "metadata": {},
     "output_type": "display_data"
    }
   ],
   "source": [
    "int_overlaps(int1, int3)"
   ]
  },
  {
   "cell_type": "markdown",
   "metadata": {},
   "source": [
    "<hr> "
   ]
  },
  {
   "cell_type": "markdown",
   "metadata": {},
   "source": [
    "**`int_standardize()`** ensures all intervals in an interval object are positive. If an interval is not positive, flip it so that it retains its endpoints but becomes positive."
   ]
  },
  {
   "cell_type": "code",
   "execution_count": 36,
   "metadata": {},
   "outputs": [
    {
     "data": {
      "text/html": [
       "2020-11-20 UTC--2020-11-25 UTC"
      ],
      "text/latex": [
       "2020-11-20 UTC--2020-11-25 UTC"
      ],
      "text/markdown": [
       "2020-11-20 UTC--2020-11-25 UTC"
      ],
      "text/plain": [
       "[1] 2020-11-20 UTC--2020-11-25 UTC"
      ]
     },
     "metadata": {},
     "output_type": "display_data"
    },
    {
     "data": {
      "text/html": [
       "2020-11-20 UTC--2020-11-25 UTC"
      ],
      "text/latex": [
       "2020-11-20 UTC--2020-11-25 UTC"
      ],
      "text/markdown": [
       "2020-11-20 UTC--2020-11-25 UTC"
      ],
      "text/plain": [
       "[1] 2020-11-20 UTC--2020-11-25 UTC"
      ]
     },
     "metadata": {},
     "output_type": "display_data"
    }
   ],
   "source": [
    "event   # positive interval\n",
    "\n",
    "# nothing change\n",
    "int_standardize(event)"
   ]
  },
  {
   "cell_type": "code",
   "execution_count": 37,
   "metadata": {},
   "outputs": [
    {
     "data": {
      "text/html": [
       "2020-11-25 UTC--2020-11-20 UTC"
      ],
      "text/latex": [
       "2020-11-25 UTC--2020-11-20 UTC"
      ],
      "text/markdown": [
       "2020-11-25 UTC--2020-11-20 UTC"
      ],
      "text/plain": [
       "[1] 2020-11-25 UTC--2020-11-20 UTC"
      ]
     },
     "metadata": {},
     "output_type": "display_data"
    },
    {
     "data": {
      "text/html": [
       "2020-11-20 UTC--2020-11-25 UTC"
      ],
      "text/latex": [
       "2020-11-20 UTC--2020-11-25 UTC"
      ],
      "text/markdown": [
       "2020-11-20 UTC--2020-11-25 UTC"
      ],
      "text/plain": [
       "[1] 2020-11-20 UTC--2020-11-25 UTC"
      ]
     },
     "metadata": {},
     "output_type": "display_data"
    }
   ],
   "source": [
    "event_flipped # negative interval\n",
    "\n",
    "# change negative interval to positive\n",
    "\n",
    "int_standardize(event_flipped)"
   ]
  },
  {
   "cell_type": "markdown",
   "metadata": {},
   "source": [
    "<hr>"
   ]
  },
  {
   "cell_type": "markdown",
   "metadata": {},
   "source": [
    "**`int_aligns()`** tests if two intervals share an endpoint. The direction of each interval is ignored. `int_align` tests whether the earliest or latest moments of each interval occur at the same time."
   ]
  },
  {
   "cell_type": "code",
   "execution_count": 39,
   "metadata": {},
   "outputs": [],
   "source": [
    "int1 <- interval(ymd(\"2001-01-01\"), ymd(\"2002-01-01\"))\n",
    "int2 <- interval(ymd(\"2001-06-01\"), ymd(\"2002-01-01\"))\n",
    "int3 <- interval(ymd(\"2003-01-01\"), ymd(\"2004-01-01\"))\n"
   ]
  },
  {
   "cell_type": "code",
   "execution_count": 41,
   "metadata": {},
   "outputs": [
    {
     "data": {
      "text/html": [
       "TRUE"
      ],
      "text/latex": [
       "TRUE"
      ],
      "text/markdown": [
       "TRUE"
      ],
      "text/plain": [
       "[1] TRUE"
      ]
     },
     "metadata": {},
     "output_type": "display_data"
    },
    {
     "data": {
      "text/html": [
       "FALSE"
      ],
      "text/latex": [
       "FALSE"
      ],
      "text/markdown": [
       "FALSE"
      ],
      "text/plain": [
       "[1] FALSE"
      ]
     },
     "metadata": {},
     "output_type": "display_data"
    }
   ],
   "source": [
    "int_aligns(int1, int2)\n",
    "\n",
    "int_aligns(int1, int3)"
   ]
  },
  {
   "cell_type": "markdown",
   "metadata": {},
   "source": [
    "<hr>"
   ]
  },
  {
   "cell_type": "markdown",
   "metadata": {},
   "source": [
    "**`int_diff()`** returns the intervals that occur between the elements of a vector of date-times. `int_diff()` is similar to the POSIXt and Date methods of `diff()`, but returns an Interval object instead of a difftime object."
   ]
  },
  {
   "cell_type": "code",
   "execution_count": 42,
   "metadata": {},
   "outputs": [
    {
     "data": {
      "text/plain": [
       " [1] \"2020-11-14 17:24:56 +07\" \"2020-11-15 17:24:56 +07\"\n",
       " [3] \"2020-11-16 17:24:56 +07\" \"2020-11-17 17:24:56 +07\"\n",
       " [5] \"2020-11-18 17:24:56 +07\" \"2020-11-19 17:24:56 +07\"\n",
       " [7] \"2020-11-20 17:24:56 +07\" \"2020-11-21 17:24:56 +07\"\n",
       " [9] \"2020-11-22 17:24:56 +07\" \"2020-11-23 17:24:56 +07\""
      ]
     },
     "metadata": {},
     "output_type": "display_data"
    }
   ],
   "source": [
    "values <- now() + days(1:10)\n",
    "\n",
    "values"
   ]
  },
  {
   "cell_type": "code",
   "execution_count": 43,
   "metadata": {},
   "outputs": [
    {
     "data": {
      "text/html": [
       "<ol class=list-inline>\n",
       "\t<li>2020-11-14 17:24:56 +07--2020-11-15 17:24:56 +07</li>\n",
       "\t<li>2020-11-15 17:24:56 +07--2020-11-16 17:24:56 +07</li>\n",
       "\t<li>2020-11-16 17:24:56 +07--2020-11-17 17:24:56 +07</li>\n",
       "\t<li>2020-11-17 17:24:56 +07--2020-11-18 17:24:56 +07</li>\n",
       "\t<li>2020-11-18 17:24:56 +07--2020-11-19 17:24:56 +07</li>\n",
       "\t<li>2020-11-19 17:24:56 +07--2020-11-20 17:24:56 +07</li>\n",
       "\t<li>2020-11-20 17:24:56 +07--2020-11-21 17:24:56 +07</li>\n",
       "\t<li>2020-11-21 17:24:56 +07--2020-11-22 17:24:56 +07</li>\n",
       "\t<li>2020-11-22 17:24:56 +07--2020-11-23 17:24:56 +07</li>\n",
       "</ol>\n"
      ],
      "text/latex": [
       "\\begin{enumerate*}\n",
       "\\item 2020-11-14 17:24:56 +07--2020-11-15 17:24:56 +07\n",
       "\\item 2020-11-15 17:24:56 +07--2020-11-16 17:24:56 +07\n",
       "\\item 2020-11-16 17:24:56 +07--2020-11-17 17:24:56 +07\n",
       "\\item 2020-11-17 17:24:56 +07--2020-11-18 17:24:56 +07\n",
       "\\item 2020-11-18 17:24:56 +07--2020-11-19 17:24:56 +07\n",
       "\\item 2020-11-19 17:24:56 +07--2020-11-20 17:24:56 +07\n",
       "\\item 2020-11-20 17:24:56 +07--2020-11-21 17:24:56 +07\n",
       "\\item 2020-11-21 17:24:56 +07--2020-11-22 17:24:56 +07\n",
       "\\item 2020-11-22 17:24:56 +07--2020-11-23 17:24:56 +07\n",
       "\\end{enumerate*}\n"
      ],
      "text/markdown": [
       "1. 2020-11-14 17:24:56 +07--2020-11-15 17:24:56 +07\n",
       "2. 2020-11-15 17:24:56 +07--2020-11-16 17:24:56 +07\n",
       "3. 2020-11-16 17:24:56 +07--2020-11-17 17:24:56 +07\n",
       "4. 2020-11-17 17:24:56 +07--2020-11-18 17:24:56 +07\n",
       "5. 2020-11-18 17:24:56 +07--2020-11-19 17:24:56 +07\n",
       "6. 2020-11-19 17:24:56 +07--2020-11-20 17:24:56 +07\n",
       "7. 2020-11-20 17:24:56 +07--2020-11-21 17:24:56 +07\n",
       "8. 2020-11-21 17:24:56 +07--2020-11-22 17:24:56 +07\n",
       "9. 2020-11-22 17:24:56 +07--2020-11-23 17:24:56 +07\n",
       "\n",
       "\n"
      ],
      "text/plain": [
       "[1] 2020-11-14 17:24:56 +07--2020-11-15 17:24:56 +07\n",
       "[2] 2020-11-15 17:24:56 +07--2020-11-16 17:24:56 +07\n",
       "[3] 2020-11-16 17:24:56 +07--2020-11-17 17:24:56 +07\n",
       "[4] 2020-11-17 17:24:56 +07--2020-11-18 17:24:56 +07\n",
       "[5] 2020-11-18 17:24:56 +07--2020-11-19 17:24:56 +07\n",
       "[6] 2020-11-19 17:24:56 +07--2020-11-20 17:24:56 +07\n",
       "[7] 2020-11-20 17:24:56 +07--2020-11-21 17:24:56 +07\n",
       "[8] 2020-11-21 17:24:56 +07--2020-11-22 17:24:56 +07\n",
       "[9] 2020-11-22 17:24:56 +07--2020-11-23 17:24:56 +07"
      ]
     },
     "metadata": {},
     "output_type": "display_data"
    }
   ],
   "source": [
    "int_diff(values)"
   ]
  },
  {
   "cell_type": "markdown",
   "metadata": {},
   "source": [
    "# Change an object to an Interval"
   ]
  },
  {
   "cell_type": "markdown",
   "metadata": {},
   "source": [
    "**`as.interval`** changes difftime, Duration, Period and numeric class objects to intervals that begin at the specified date-time. Numeric objects are first coerced to timespans equal to the numeric value in seconds."
   ]
  },
  {
   "cell_type": "markdown",
   "metadata": {},
   "source": [
    "```r\n",
    "as.interval(x, start, ...)\n",
    "```"
   ]
  },
  {
   "cell_type": "markdown",
   "metadata": {},
   "source": [
    "### Examples"
   ]
  },
  {
   "cell_type": "code",
   "execution_count": 3,
   "metadata": {},
   "outputs": [
    {
     "data": {
      "text/html": [
       "2009-01-01 UTC--2009-02-01 UTC"
      ],
      "text/latex": [
       "2009-01-01 UTC--2009-02-01 UTC"
      ],
      "text/markdown": [
       "2009-01-01 UTC--2009-02-01 UTC"
      ],
      "text/plain": [
       "[1] 2009-01-01 UTC--2009-02-01 UTC"
      ]
     },
     "metadata": {},
     "output_type": "display_data"
    },
    {
     "data": {
      "text/html": [
       "2009-02-01 UTC--2009-03-04 UTC"
      ],
      "text/latex": [
       "2009-02-01 UTC--2009-03-04 UTC"
      ],
      "text/markdown": [
       "2009-02-01 UTC--2009-03-04 UTC"
      ],
      "text/plain": [
       "[1] 2009-02-01 UTC--2009-03-04 UTC"
      ]
     },
     "metadata": {},
     "output_type": "display_data"
    }
   ],
   "source": [
    "diff <- make_difftime(days = 31) #difftime\n",
    "\n",
    "as.interval(diff, ymd(\"2009-01-01\"))\n",
    "\n",
    "as.interval(diff, ymd(\"2009-02-01\"))\n"
   ]
  },
  {
   "cell_type": "code",
   "execution_count": 4,
   "metadata": {},
   "outputs": [
    {
     "data": {
      "text/html": [
       "2009-01-01 UTC--2009-02-01 UTC"
      ],
      "text/latex": [
       "2009-01-01 UTC--2009-02-01 UTC"
      ],
      "text/markdown": [
       "2009-01-01 UTC--2009-02-01 UTC"
      ],
      "text/plain": [
       "[1] 2009-01-01 UTC--2009-02-01 UTC"
      ]
     },
     "metadata": {},
     "output_type": "display_data"
    },
    {
     "data": {
      "text/html": [
       "2009-02-01 UTC--2009-03-04 UTC"
      ],
      "text/latex": [
       "2009-02-01 UTC--2009-03-04 UTC"
      ],
      "text/markdown": [
       "2009-02-01 UTC--2009-03-04 UTC"
      ],
      "text/plain": [
       "[1] 2009-02-01 UTC--2009-03-04 UTC"
      ]
     },
     "metadata": {},
     "output_type": "display_data"
    }
   ],
   "source": [
    "dur <- duration(days = 31) #duration\n",
    "as.interval(dur, ymd(\"2009-01-01\"))\n",
    "\n",
    "as.interval(dur, ymd(\"2009-02-01\"))\n"
   ]
  },
  {
   "cell_type": "code",
   "execution_count": 5,
   "metadata": {},
   "outputs": [
    {
     "data": {
      "text/html": [
       "2009-01-01 UTC--2009-02-01 UTC"
      ],
      "text/latex": [
       "2009-01-01 UTC--2009-02-01 UTC"
      ],
      "text/markdown": [
       "2009-01-01 UTC--2009-02-01 UTC"
      ],
      "text/plain": [
       "[1] 2009-01-01 UTC--2009-02-01 UTC"
      ]
     },
     "metadata": {},
     "output_type": "display_data"
    },
    {
     "data": {
      "text/html": [
       "2009-02-01 UTC--2009-03-01 UTC"
      ],
      "text/latex": [
       "2009-02-01 UTC--2009-03-01 UTC"
      ],
      "text/markdown": [
       "2009-02-01 UTC--2009-03-01 UTC"
      ],
      "text/plain": [
       "[1] 2009-02-01 UTC--2009-03-01 UTC"
      ]
     },
     "metadata": {},
     "output_type": "display_data"
    }
   ],
   "source": [
    "per <- period(months = 1) #period\n",
    "as.interval(per, ymd(\"2009-01-01\"))\n",
    "\n",
    "as.interval(per, ymd(\"2009-02-01\"))"
   ]
  },
  {
   "cell_type": "code",
   "execution_count": 7,
   "metadata": {},
   "outputs": [
    {
     "data": {
      "text/html": [
       "2009-01-01 UTC--2018-11-10 UTC"
      ],
      "text/latex": [
       "2009-01-01 UTC--2018-11-10 UTC"
      ],
      "text/markdown": [
       "2009-01-01 UTC--2018-11-10 UTC"
      ],
      "text/plain": [
       "[1] 2009-01-01 UTC--2018-11-10 UTC"
      ]
     },
     "metadata": {},
     "output_type": "display_data"
    }
   ],
   "source": [
    "as.interval(3600, ymd(\"2009-01-01\"))"
   ]
  },
  {
   "cell_type": "markdown",
   "metadata": {},
   "source": [
    "# Does a date (or interval) fall within an interval?"
   ]
  },
  {
   "cell_type": "markdown",
   "metadata": {},
   "source": [
    "Check whether `a` lies within the interval `b`, inclusive of the endpoints.\n",
    "```r\n",
    "a %within% b\n",
    "```"
   ]
  },
  {
   "cell_type": "markdown",
   "metadata": {},
   "source": [
    "**Arguments**  \n",
    "`a`\t\n",
    "An interval or date-time object.\n",
    "\n",
    "`b`\t\n",
    "Either an interval vector, or a list of intervals.\n",
    "\n",
    "If b is an interval it is recycled to the same length as a. If b is a list of intervals, a is checked if it falls within any of the intervals, i.e. a `%within% list(int1, int2)` is equivalent to a `%within% int1 | a %within% int2`."
   ]
  },
  {
   "cell_type": "markdown",
   "metadata": {},
   "source": [
    "### Examples"
   ]
  },
  {
   "cell_type": "code",
   "execution_count": 8,
   "metadata": {},
   "outputs": [],
   "source": [
    "int <- interval(ymd(\"2001-01-01\"), ymd(\"2002-01-01\"))\n",
    "\n",
    "int2 <- interval(ymd(\"2001-06-01\"), ymd(\"2002-01-01\"))"
   ]
  },
  {
   "cell_type": "code",
   "execution_count": 9,
   "metadata": {},
   "outputs": [
    {
     "data": {
      "text/html": [
       "TRUE"
      ],
      "text/latex": [
       "TRUE"
      ],
      "text/markdown": [
       "TRUE"
      ],
      "text/plain": [
       "[1] TRUE"
      ]
     },
     "metadata": {},
     "output_type": "display_data"
    }
   ],
   "source": [
    "ymd(20010606) %within% int"
   ]
  },
  {
   "cell_type": "code",
   "execution_count": 11,
   "metadata": {},
   "outputs": [
    {
     "data": {
      "text/html": [
       "FALSE"
      ],
      "text/latex": [
       "FALSE"
      ],
      "text/markdown": [
       "FALSE"
      ],
      "text/plain": [
       "[1] FALSE"
      ]
     },
     "metadata": {},
     "output_type": "display_data"
    }
   ],
   "source": [
    "ymd(\"1999-01-01\") %within% int"
   ]
  },
  {
   "cell_type": "code",
   "execution_count": 10,
   "metadata": {},
   "outputs": [
    {
     "data": {
      "text/html": [
       "TRUE"
      ],
      "text/latex": [
       "TRUE"
      ],
      "text/markdown": [
       "TRUE"
      ],
      "text/plain": [
       "[1] TRUE"
      ]
     },
     "metadata": {},
     "output_type": "display_data"
    }
   ],
   "source": [
    "int2 %within% int"
   ]
  },
  {
   "cell_type": "code",
   "execution_count": 13,
   "metadata": {},
   "outputs": [
    {
     "data": {
      "text/html": [
       "<ol class=list-inline>\n",
       "\t<li>FALSE</li>\n",
       "\t<li>TRUE</li>\n",
       "\t<li>FALSE</li>\n",
       "\t<li>TRUE</li>\n",
       "</ol>\n"
      ],
      "text/latex": [
       "\\begin{enumerate*}\n",
       "\\item FALSE\n",
       "\\item TRUE\n",
       "\\item FALSE\n",
       "\\item TRUE\n",
       "\\end{enumerate*}\n"
      ],
      "text/markdown": [
       "1. FALSE\n",
       "2. TRUE\n",
       "3. FALSE\n",
       "4. TRUE\n",
       "\n",
       "\n"
      ],
      "text/plain": [
       "[1] FALSE  TRUE FALSE  TRUE"
      ]
     },
     "metadata": {},
     "output_type": "display_data"
    }
   ],
   "source": [
    "## recycling\n",
    "dates <- ymd(c(\"2014-12-20\", \"2014-12-30\", \"2015-01-01\", \"2015-01-03\"))\n",
    "\n",
    "blackouts<- c(interval(ymd(\"2014-12-30\"), ymd(\"2014-12-31\")),\n",
    "              interval(ymd(\"2014-12-30\"), ymd(\"2015-01-03\")))\n",
    "dates %within% blackouts"
   ]
  },
  {
   "cell_type": "code",
   "execution_count": 15,
   "metadata": {},
   "outputs": [
    {
     "data": {
      "text/html": [
       "<ol class=list-inline>\n",
       "\t<li>FALSE</li>\n",
       "\t<li>TRUE</li>\n",
       "\t<li>TRUE</li>\n",
       "\t<li>TRUE</li>\n",
       "</ol>\n"
      ],
      "text/latex": [
       "\\begin{enumerate*}\n",
       "\\item FALSE\n",
       "\\item TRUE\n",
       "\\item TRUE\n",
       "\\item TRUE\n",
       "\\end{enumerate*}\n"
      ],
      "text/markdown": [
       "1. FALSE\n",
       "2. TRUE\n",
       "3. TRUE\n",
       "4. TRUE\n",
       "\n",
       "\n"
      ],
      "text/plain": [
       "[1] FALSE  TRUE  TRUE  TRUE"
      ]
     },
     "metadata": {},
     "output_type": "display_data"
    }
   ],
   "source": [
    "## within ANY of the intervals of a list\n",
    "dates <- ymd(c(\"2014-12-20\", \"2014-12-30\", \"2015-01-01\", \"2015-01-03\"))\n",
    "blackouts<- list(interval(ymd(\"2014-12-30\"), ymd(\"2014-12-31\")),\n",
    "                 interval(ymd(\"2014-12-30\"), ymd(\"2015-01-03\")))\n",
    "\n",
    "dates %within% blackouts"
   ]
  }
 ],
 "metadata": {
  "kernelspec": {
   "display_name": "R",
   "language": "R",
   "name": "ir"
  },
  "language_info": {
   "codemirror_mode": "r",
   "file_extension": ".r",
   "mimetype": "text/x-r-source",
   "name": "R",
   "pygments_lexer": "r",
   "version": "3.6.1"
  }
 },
 "nbformat": 4,
 "nbformat_minor": 2
}
