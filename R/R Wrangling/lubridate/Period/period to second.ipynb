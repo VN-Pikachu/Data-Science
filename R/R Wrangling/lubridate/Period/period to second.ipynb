{
 "cells": [
  {
   "cell_type": "code",
   "execution_count": 2,
   "metadata": {},
   "outputs": [],
   "source": [
    "library(lubridate)"
   ]
  },
  {
   "cell_type": "markdown",
   "metadata": {},
   "source": [
    "# Contrive a period to/from a given number of seconds"
   ]
  },
  {
   "cell_type": "markdown",
   "metadata": {},
   "source": [
    "**`period_to_seconds()`** approximately converts a period to seconds assuming there are 365.25 days in a calendar year and 365.25/12 days in a month.\n",
    "\n",
    "**`seconds_to_period()`** create a period that has the maximum number of non-zero elements (days, hours, minutes, seconds). This computation is exact because it doesn't involve years or months."
   ]
  },
  {
   "cell_type": "markdown",
   "metadata": {},
   "source": [
    "```r\n",
    "period_to_seconds(x)\n",
    "\n",
    "seconds_to_period(x)\n",
    "\n",
    "```  \n",
    "**Arguments**  \n",
    "`x`\t\n",
    "A numeric object. The number of seconds to coerce into a period."
   ]
  },
  {
   "cell_type": "markdown",
   "metadata": {},
   "source": [
    "# Value"
   ]
  },
  {
   "cell_type": "markdown",
   "metadata": {},
   "source": [
    "A number (period)` that roughly equates to the period (seconds) given.`"
   ]
  },
  {
   "cell_type": "markdown",
   "metadata": {},
   "source": [
    "# Examples"
   ]
  },
  {
   "cell_type": "code",
   "execution_count": 6,
   "metadata": {},
   "outputs": [
    {
     "data": {
      "text/html": [
       "18000"
      ],
      "text/latex": [
       "18000"
      ],
      "text/markdown": [
       "18000"
      ],
      "text/plain": [
       "[1] 18000"
      ]
     },
     "metadata": {},
     "output_type": "display_data"
    }
   ],
   "source": [
    "period_to_seconds(hours(5))"
   ]
  },
  {
   "cell_type": "code",
   "execution_count": 7,
   "metadata": {},
   "outputs": [
    {
     "data": {
      "text/html": [
       "1d 1H 0M 0S"
      ],
      "text/latex": [
       "1d 1H 0M 0S"
      ],
      "text/markdown": [
       "1d 1H 0M 0S"
      ],
      "text/plain": [
       "[1] \"1d 1H 0M 0S\""
      ]
     },
     "metadata": {},
     "output_type": "display_data"
    }
   ],
   "source": [
    "seconds_to_period(90000)"
   ]
  }
 ],
 "metadata": {
  "kernelspec": {
   "display_name": "R",
   "language": "R",
   "name": "ir"
  },
  "language_info": {
   "codemirror_mode": "r",
   "file_extension": ".r",
   "mimetype": "text/x-r-source",
   "name": "R",
   "pygments_lexer": "r",
   "version": "3.6.1"
  }
 },
 "nbformat": 4,
 "nbformat_minor": 2
}
