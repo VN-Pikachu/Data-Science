{
 "cells": [
  {
   "cell_type": "code",
   "execution_count": 2,
   "metadata": {},
   "outputs": [],
   "source": [
    "library(lubridate)"
   ]
  },
  {
   "cell_type": "markdown",
   "metadata": {},
   "source": [
    "# Create or parse a period object"
   ]
  },
  {
   "cell_type": "markdown",
   "metadata": {},
   "source": [
    "A ‘period’ is a timespan defined in civil time (human) units like years, months, and days."
   ]
  },
  {
   "cell_type": "markdown",
   "metadata": {},
   "source": [
    "**`period()`** creates or parses a period object with the specified values"
   ]
  },
  {
   "cell_type": "markdown",
   "metadata": {},
   "source": [
    "```r\n",
    "period(num = NULL, units = \"second\", ...)\n",
    "\n",
    "is.period(x)\n",
    "\n",
    "seconds(x = 1)\n",
    "\n",
    "minutes(x = 1)\n",
    "\n",
    "hours(x = 1)\n",
    "\n",
    "days(x = 1)\n",
    "\n",
    "weeks(x = 1)\n",
    "\n",
    "years(x = 1)\n",
    "\n",
    "milliseconds(x = 1)\n",
    "\n",
    "microseconds(x = 1)\n",
    "\n",
    "nanoseconds(x = 1)\n",
    "\n",
    "picoseconds(x = 1)\n",
    "\n",
    "# S3 method for numeric\n",
    "months(x, abbreviate)\n",
    "```"
   ]
  },
  {
   "cell_type": "markdown",
   "metadata": {},
   "source": [
    "### Value"
   ]
  },
  {
   "cell_type": "markdown",
   "metadata": {},
   "source": [
    "a period object"
   ]
  },
  {
   "cell_type": "markdown",
   "metadata": {},
   "source": [
    "### Details"
   ]
  },
  {
   "cell_type": "markdown",
   "metadata": {},
   "source": [
    "Within a Period object, time units do not have a fixed length (except for seconds) until they are added to a date-time. The length of each time unit will depend on the date-time to which it is added. For example, a year that begins on 2009-01-01 will be 365 days long. A year that begins on 2012-01-01 will be 366 days long. When math is performed with a period object, each unit is applied separately. How the length of a period is distributed among its units is non-trivial. For example, when leap seconds occur 1 minute is longer than 60 seconds.\n",
    "\n",
    "Periods track the change in the \"clock time\" between two date-times. They are measured in common time related units: years, months, days, hours, minutes, and seconds. Each unit except for seconds must be expressed in integer values.\n",
    "\n",
    "Besides the main constructor and parser `period()`, period objects can also be created with the specialized functions `years()`, `months()`, `weeks()`, `days()`, `hours()`, `minutes()`, and `seconds()`. These objects can be added to and subtracted to date-times to create a user interface similar to object oriented programming.\n",
    "\n",
    "Note: Arithmetic with periods can result in undefined behavior when non-existent dates are involved (such as February 29th in non-leap years). Please see Period for more details and `%m+%` and `add_with_rollback()` for alternative operations."
   ]
  },
  {
   "cell_type": "markdown",
   "metadata": {},
   "source": [
    "### Examples"
   ]
  },
  {
   "cell_type": "markdown",
   "metadata": {},
   "source": [
    "One unit:"
   ]
  },
  {
   "cell_type": "code",
   "execution_count": 7,
   "metadata": {},
   "outputs": [
    {
     "data": {
      "text/html": [
       "1y 0m 0d 0H 0M 0S"
      ],
      "text/latex": [
       "1y 0m 0d 0H 0M 0S"
      ],
      "text/markdown": [
       "1y 0m 0d 0H 0M 0S"
      ],
      "text/plain": [
       "[1] \"1y 0m 0d 0H 0M 0S\""
      ]
     },
     "metadata": {},
     "output_type": "display_data"
    },
    {
     "data": {
      "text/html": [
       "1y 0m 0d 0H 0M 0S"
      ],
      "text/latex": [
       "1y 0m 0d 0H 0M 0S"
      ],
      "text/markdown": [
       "1y 0m 0d 0H 0M 0S"
      ],
      "text/plain": [
       "[1] \"1y 0m 0d 0H 0M 0S\""
      ]
     },
     "metadata": {},
     "output_type": "display_data"
    },
    {
     "data": {
      "text/html": [
       "1y 0m 0d 0H 0M 0S"
      ],
      "text/latex": [
       "1y 0m 0d 0H 0M 0S"
      ],
      "text/markdown": [
       "1y 0m 0d 0H 0M 0S"
      ],
      "text/plain": [
       "[1] \"1y 0m 0d 0H 0M 0S\""
      ]
     },
     "metadata": {},
     "output_type": "display_data"
    }
   ],
   "source": [
    "period(1, 'year')\n",
    "\n",
    "period(year = 1)\n",
    "\n",
    "years(1)"
   ]
  },
  {
   "cell_type": "code",
   "execution_count": 8,
   "metadata": {},
   "outputs": [
    {
     "data": {
      "text/html": [
       "-1H 0M 0S"
      ],
      "text/latex": [
       "-1H 0M 0S"
      ],
      "text/markdown": [
       "-1H 0M 0S"
      ],
      "text/plain": [
       "[1] \"-1H 0M 0S\""
      ]
     },
     "metadata": {},
     "output_type": "display_data"
    },
    {
     "data": {
      "text/html": [
       "-1H 0M 0S"
      ],
      "text/latex": [
       "-1H 0M 0S"
      ],
      "text/markdown": [
       "-1H 0M 0S"
      ],
      "text/plain": [
       "[1] \"-1H 0M 0S\""
      ]
     },
     "metadata": {},
     "output_type": "display_data"
    },
    {
     "data": {
      "text/html": [
       "-1H 0M 0S"
      ],
      "text/latex": [
       "-1H 0M 0S"
      ],
      "text/markdown": [
       "-1H 0M 0S"
      ],
      "text/plain": [
       "[1] \"-1H 0M 0S\""
      ]
     },
     "metadata": {},
     "output_type": "display_data"
    }
   ],
   "source": [
    "period(-1, 'hour')\n",
    "\n",
    "period(hour = -1)\n",
    "\n",
    "hours(-1)"
   ]
  },
  {
   "cell_type": "markdown",
   "metadata": {},
   "source": [
    "<hr>"
   ]
  },
  {
   "cell_type": "markdown",
   "metadata": {},
   "source": [
    "Multiple units:"
   ]
  },
  {
   "cell_type": "code",
   "execution_count": 10,
   "metadata": {},
   "outputs": [
    {
     "data": {
      "text/html": [
       "5M 90S"
      ],
      "text/latex": [
       "5M 90S"
      ],
      "text/markdown": [
       "5M 90S"
      ],
      "text/plain": [
       "[1] \"5M 90S\""
      ]
     },
     "metadata": {},
     "output_type": "display_data"
    },
    {
     "data": {
      "text/html": [
       "5M 90S"
      ],
      "text/latex": [
       "5M 90S"
      ],
      "text/markdown": [
       "5M 90S"
      ],
      "text/plain": [
       "[1] \"5M 90S\""
      ]
     },
     "metadata": {},
     "output_type": "display_data"
    },
    {
     "data": {
      "text/html": [
       "5M 90S"
      ],
      "text/latex": [
       "5M 90S"
      ],
      "text/markdown": [
       "5M 90S"
      ],
      "text/plain": [
       "[1] \"5M 90S\""
      ]
     },
     "metadata": {},
     "output_type": "display_data"
    }
   ],
   "source": [
    "minutes(5) + seconds(90)\n",
    "period(c(5, 90), c('minutes', 'seconds'))\n",
    "\n",
    "period(minutes = 5, seconds = 90)"
   ]
  },
  {
   "cell_type": "code",
   "execution_count": 12,
   "metadata": {},
   "outputs": [
    {
     "data": {
      "text/html": [
       "20d 2H 1M 3S"
      ],
      "text/latex": [
       "20d 2H 1M 3S"
      ],
      "text/markdown": [
       "20d 2H 1M 3S"
      ],
      "text/plain": [
       "[1] \"20d 2H 1M 3S\""
      ]
     },
     "metadata": {},
     "output_type": "display_data"
    },
    {
     "data": {
      "text/html": [
       "20d 2H 1M 3S"
      ],
      "text/latex": [
       "20d 2H 1M 3S"
      ],
      "text/markdown": [
       "20d 2H 1M 3S"
      ],
      "text/plain": [
       "[1] \"20d 2H 1M 3S\""
      ]
     },
     "metadata": {},
     "output_type": "display_data"
    },
    {
     "data": {
      "text/html": [
       "20d 2H 1M 3S"
      ],
      "text/latex": [
       "20d 2H 1M 3S"
      ],
      "text/markdown": [
       "20d 2H 1M 3S"
      ],
      "text/plain": [
       "[1] \"20d 2H 1M 3S\""
      ]
     },
     "metadata": {},
     "output_type": "display_data"
    }
   ],
   "source": [
    "weeks(1) + days(13) + hours(2) + minutes(1) + seconds(3)\n",
    "\n",
    "period(c(3, 1, 2, 13, 1), c(\"second\", \"minute\", \"hour\", \"day\", \"week\"))\n",
    "\n",
    "period(week = 1, day = 13, hour = 2, minute = 1, second = 3)"
   ]
  },
  {
   "cell_type": "code",
   "execution_count": 13,
   "metadata": {},
   "outputs": [
    {
     "data": {
      "text/html": [
       "-1H 60M 0S"
      ],
      "text/latex": [
       "-1H 60M 0S"
      ],
      "text/markdown": [
       "-1H 60M 0S"
      ],
      "text/plain": [
       "[1] \"-1H 60M 0S\""
      ]
     },
     "metadata": {},
     "output_type": "display_data"
    }
   ],
   "source": [
    "period(hours = -1, minutes = 60)"
   ]
  },
  {
   "cell_type": "markdown",
   "metadata": {},
   "source": [
    "<hr>"
   ]
  },
  {
   "cell_type": "markdown",
   "metadata": {},
   "source": [
    "Lubridate style parsing"
   ]
  },
  {
   "cell_type": "code",
   "execution_count": 15,
   "metadata": {},
   "outputs": [
    {
     "data": {
      "text/html": [
       "2M 1S"
      ],
      "text/latex": [
       "2M 1S"
      ],
      "text/markdown": [
       "2M 1S"
      ],
      "text/plain": [
       "[1] \"2M 1S\""
      ]
     },
     "metadata": {},
     "output_type": "display_data"
    }
   ],
   "source": [
    "period('2min 1sec')"
   ]
  },
  {
   "cell_type": "code",
   "execution_count": 17,
   "metadata": {},
   "outputs": [
    {
     "data": {
      "text/html": [
       "2M 1S"
      ],
      "text/latex": [
       "2M 1S"
      ],
      "text/markdown": [
       "2M 1S"
      ],
      "text/plain": [
       "[1] \"2M 1S\""
      ]
     },
     "metadata": {},
     "output_type": "display_data"
    }
   ],
   "source": [
    "period('2M 1S')"
   ]
  },
  {
   "cell_type": "code",
   "execution_count": 18,
   "metadata": {},
   "outputs": [
    {
     "data": {
      "text/html": [
       "3d 5H 20M 1S"
      ],
      "text/latex": [
       "3d 5H 20M 1S"
      ],
      "text/markdown": [
       "3d 5H 20M 1S"
      ],
      "text/plain": [
       "[1] \"3d 5H 20M 1S\""
      ]
     },
     "metadata": {},
     "output_type": "display_data"
    }
   ],
   "source": [
    "period('3 days 5 hours 20 minutes 1 second')"
   ]
  },
  {
   "cell_type": "code",
   "execution_count": 19,
   "metadata": {},
   "outputs": [
    {
     "data": {
      "text/html": [
       "2d 1H 11M 20S"
      ],
      "text/latex": [
       "2d 1H 11M 20S"
      ],
      "text/markdown": [
       "2d 1H 11M 20S"
      ],
      "text/plain": [
       "[1] \"2d 1H 11M 20S\""
      ]
     },
     "metadata": {},
     "output_type": "display_data"
    }
   ],
   "source": [
    "period('2 days, 1 hour, 11 minutes, 20 seconds')"
   ]
  },
  {
   "cell_type": "markdown",
   "metadata": {},
   "source": [
    "<hr>\n",
    "ISO 8601 parsing"
   ]
  },
  {
   "cell_type": "code",
   "execution_count": 21,
   "metadata": {},
   "outputs": [
    {
     "data": {
      "text/html": [
       "10m 23d 23H 0M 0S"
      ],
      "text/latex": [
       "10m 23d 23H 0M 0S"
      ],
      "text/markdown": [
       "10m 23d 23H 0M 0S"
      ],
      "text/plain": [
       "[1] \"10m 23d 23H 0M 0S\""
      ]
     },
     "metadata": {},
     "output_type": "display_data"
    },
    {
     "data": {
      "text/html": [
       "10d 0H 10M 0S"
      ],
      "text/latex": [
       "10d 0H 10M 0S"
      ],
      "text/markdown": [
       "10d 0H 10M 0S"
      ],
      "text/plain": [
       "[1] \"10d 0H 10M 0S\""
      ]
     },
     "metadata": {},
     "output_type": "display_data"
    },
    {
     "data": {
      "text/html": [
       "3y 6m 4d 12H 30M 5S"
      ],
      "text/latex": [
       "3y 6m 4d 12H 30M 5S"
      ],
      "text/markdown": [
       "3y 6m 4d 12H 30M 5S"
      ],
      "text/plain": [
       "[1] \"3y 6m 4d 12H 30M 5S\""
      ]
     },
     "metadata": {},
     "output_type": "display_data"
    },
    {
     "data": {
      "text/html": [
       "23d 60H 20M 100S"
      ],
      "text/latex": [
       "23d 60H 20M 100S"
      ],
      "text/markdown": [
       "23d 60H 20M 100S"
      ],
      "text/plain": [
       "[1] \"23d 60H 20M 100S\""
      ]
     },
     "metadata": {},
     "output_type": "display_data"
    }
   ],
   "source": [
    "period(\"P10M23DT23H\") # M stands for months\n",
    "\n",
    "period(\"10DT10M\") # M stands for minutes\n",
    "\n",
    "period(\"P3Y6M4DT12H30M5S\") # M for both minutes and months\n",
    "\n",
    "period(\"P23DT60H 20min 100 sec\") # mixing ISO and lubridate style parsing"
   ]
  },
  {
   "cell_type": "markdown",
   "metadata": {},
   "source": [
    "<hr>"
   ]
  },
  {
   "cell_type": "markdown",
   "metadata": {},
   "source": [
    "Elementary constructor:"
   ]
  },
  {
   "cell_type": "code",
   "execution_count": 24,
   "metadata": {},
   "outputs": [
    {
     "data": {
      "text/plain": [
       "[1] \"2001-11-06 20:39:28 UTC\""
      ]
     },
     "metadata": {},
     "output_type": "display_data"
    },
    {
     "data": {
      "text/plain": [
       "[1] \"2001-11-06 07:09:28 UTC\""
      ]
     },
     "metadata": {},
     "output_type": "display_data"
    }
   ],
   "source": [
    "# period preserve time, increase month by 1\n",
    "ymd_hms('2001/10/06 20:39:28') + months(1)\n",
    "\n",
    "# duration does not preserve time, when adding 1 month\n",
    "ymd_hms('2001/10/06 20:39:28') + dmonths(1)"
   ]
  },
  {
   "cell_type": "code",
   "execution_count": 26,
   "metadata": {},
   "outputs": [
    {
     "data": {
      "text/html": [
       "<time datetime=\"2001-10-13\">2001-10-13</time>"
      ],
      "text/latex": [
       "2001-10-13"
      ],
      "text/markdown": [
       "2001-10-13"
      ],
      "text/plain": [
       "[1] \"2001-10-13\""
      ]
     },
     "metadata": {},
     "output_type": "display_data"
    },
    {
     "data": {
      "text/html": [
       "'Date'"
      ],
      "text/latex": [
       "'Date'"
      ],
      "text/markdown": [
       "'Date'"
      ],
      "text/plain": [
       "[1] \"Date\""
      ]
     },
     "metadata": {},
     "output_type": "display_data"
    }
   ],
   "source": [
    "# retain date class\n",
    "res <- ymd('2001-10-06') + days(7)\n",
    "\n",
    "res\n",
    "\n",
    "class(res)"
   ]
  },
  {
   "cell_type": "code",
   "execution_count": 27,
   "metadata": {},
   "outputs": [
    {
     "data": {
      "text/plain": [
       "[1] \"2001-10-06 05:00:03 UTC\""
      ]
     },
     "metadata": {},
     "output_type": "display_data"
    },
    {
     "data": {
      "text/html": [
       "<ol class=list-inline>\n",
       "\t<li>'POSIXct'</li>\n",
       "\t<li>'POSIXt'</li>\n",
       "</ol>\n"
      ],
      "text/latex": [
       "\\begin{enumerate*}\n",
       "\\item 'POSIXct'\n",
       "\\item 'POSIXt'\n",
       "\\end{enumerate*}\n"
      ],
      "text/markdown": [
       "1. 'POSIXct'\n",
       "2. 'POSIXt'\n",
       "\n",
       "\n"
      ],
      "text/plain": [
       "[1] \"POSIXct\" \"POSIXt\" "
      ]
     },
     "metadata": {},
     "output_type": "display_data"
    }
   ],
   "source": [
    "# convert date to POSIX when adding hours, minutes, seconds, ... to Date class\n",
    "res <- ymd('2001-10-06') + hours(5) + seconds(3)\n",
    "\n",
    "res\n",
    "\n",
    "class(res)"
   ]
  },
  {
   "cell_type": "markdown",
   "metadata": {},
   "source": [
    "<hr>sequencing"
   ]
  },
  {
   "cell_type": "code",
   "execution_count": 28,
   "metadata": {},
   "outputs": [
    {
     "data": {
      "text/html": [
       "<ol class=list-inline>\n",
       "\t<li><time datetime=\"2009-02-01\">2009-02-01</time></li>\n",
       "\t<li><time datetime=\"2009-03-01\">2009-03-01</time></li>\n",
       "\t<li><time datetime=\"2009-04-01\">2009-04-01</time></li>\n",
       "\t<li><time datetime=\"2009-05-01\">2009-05-01</time></li>\n",
       "\t<li><time datetime=\"2009-06-01\">2009-06-01</time></li>\n",
       "\t<li><time datetime=\"2009-07-01\">2009-07-01</time></li>\n",
       "\t<li><time datetime=\"2009-08-01\">2009-08-01</time></li>\n",
       "\t<li><time datetime=\"2009-09-01\">2009-09-01</time></li>\n",
       "\t<li><time datetime=\"2009-10-01\">2009-10-01</time></li>\n",
       "\t<li><time datetime=\"2009-11-01\">2009-11-01</time></li>\n",
       "\t<li><time datetime=\"2009-12-01\">2009-12-01</time></li>\n",
       "\t<li><time datetime=\"2010-01-01\">2010-01-01</time></li>\n",
       "</ol>\n"
      ],
      "text/latex": [
       "\\begin{enumerate*}\n",
       "\\item 2009-02-01\n",
       "\\item 2009-03-01\n",
       "\\item 2009-04-01\n",
       "\\item 2009-05-01\n",
       "\\item 2009-06-01\n",
       "\\item 2009-07-01\n",
       "\\item 2009-08-01\n",
       "\\item 2009-09-01\n",
       "\\item 2009-10-01\n",
       "\\item 2009-11-01\n",
       "\\item 2009-12-01\n",
       "\\item 2010-01-01\n",
       "\\end{enumerate*}\n"
      ],
      "text/markdown": [
       "1. 2009-02-01\n",
       "2. 2009-03-01\n",
       "3. 2009-04-01\n",
       "4. 2009-05-01\n",
       "5. 2009-06-01\n",
       "6. 2009-07-01\n",
       "7. 2009-08-01\n",
       "8. 2009-09-01\n",
       "9. 2009-10-01\n",
       "10. 2009-11-01\n",
       "11. 2009-12-01\n",
       "12. 2010-01-01\n",
       "\n",
       "\n"
      ],
      "text/plain": [
       " [1] \"2009-02-01\" \"2009-03-01\" \"2009-04-01\" \"2009-05-01\" \"2009-06-01\"\n",
       " [6] \"2009-07-01\" \"2009-08-01\" \"2009-09-01\" \"2009-10-01\" \"2009-11-01\"\n",
       "[11] \"2009-12-01\" \"2010-01-01\""
      ]
     },
     "metadata": {},
     "output_type": "display_data"
    }
   ],
   "source": [
    "y <- ymd(090101) # \"2009-01-01 CST\"\n",
    "y + months(1:12)"
   ]
  },
  {
   "cell_type": "markdown",
   "metadata": {},
   "source": [
    "<hr>compare DST handling to durations"
   ]
  },
  {
   "cell_type": "code",
   "execution_count": 30,
   "metadata": {},
   "outputs": [
    {
     "data": {
      "text/plain": [
       "[1] \"2009-03-09 01:59:59 CDT\""
      ]
     },
     "metadata": {},
     "output_type": "display_data"
    },
    {
     "data": {
      "text/plain": [
       "[1] \"2009-03-09 02:59:59 CDT\""
      ]
     },
     "metadata": {},
     "output_type": "display_data"
    }
   ],
   "source": [
    "boundary <- ymd_hms(\"2009-03-08 01:59:59\", tz=\"America/Chicago\")\n",
    "\n",
    "boundary + days(1) # period: preseve time\n",
    "\n",
    "boundary + ddays(1) # duration: might not preverse time"
   ]
  },
  {
   "cell_type": "markdown",
   "metadata": {},
   "source": [
    "# Is x a period object?"
   ]
  },
  {
   "cell_type": "code",
   "execution_count": 32,
   "metadata": {},
   "outputs": [
    {
     "data": {
      "text/html": [
       "FALSE"
      ],
      "text/latex": [
       "FALSE"
      ],
      "text/markdown": [
       "FALSE"
      ],
      "text/plain": [
       "[1] FALSE"
      ]
     },
     "metadata": {},
     "output_type": "display_data"
    }
   ],
   "source": [
    "is.period(as.Date('2010/10/10'))"
   ]
  },
  {
   "cell_type": "code",
   "execution_count": 33,
   "metadata": {},
   "outputs": [
    {
     "data": {
      "text/html": [
       "TRUE"
      ],
      "text/latex": [
       "TRUE"
      ],
      "text/markdown": [
       "TRUE"
      ],
      "text/plain": [
       "[1] TRUE"
      ]
     },
     "metadata": {},
     "output_type": "display_data"
    }
   ],
   "source": [
    "is.period(days(3))"
   ]
  },
  {
   "cell_type": "code",
   "execution_count": 34,
   "metadata": {},
   "outputs": [
    {
     "data": {
      "text/html": [
       "TRUE"
      ],
      "text/latex": [
       "TRUE"
      ],
      "text/markdown": [
       "TRUE"
      ],
      "text/plain": [
       "[1] TRUE"
      ]
     },
     "metadata": {},
     "output_type": "display_data"
    }
   ],
   "source": [
    "is.period(period(3, 'days'))"
   ]
  },
  {
   "cell_type": "markdown",
   "metadata": {},
   "source": [
    "# Change an object to a period\n"
   ]
  },
  {
   "cell_type": "markdown",
   "metadata": {},
   "source": [
    "**`as.period`** changes Interval, Duration, difftime and numeric class objects to Period class objects with the specified units"
   ]
  },
  {
   "cell_type": "markdown",
   "metadata": {},
   "source": [
    "```r\n",
    "as.period(x, unit, ...)\n",
    "```\n",
    "**Arguments**   \n",
    "`x`\t\n",
    "an interval, difftime, or numeric object\n",
    "\n",
    "`unit`\t\n",
    "A character string that specifies which time units to build period in. unit is only implemented for the as.period.numeric method and the as.period.interval method. For as.period.interval, as.period will convert intervals to units no larger than the specified unit.\n",
    "\n",
    "`...`\t\n",
    "additional arguments to pass to as.period"
   ]
  },
  {
   "cell_type": "markdown",
   "metadata": {},
   "source": [
    "### Value"
   ]
  },
  {
   "cell_type": "markdown",
   "metadata": {},
   "source": [
    "a period object"
   ]
  },
  {
   "cell_type": "markdown",
   "metadata": {},
   "source": [
    "### Details"
   ]
  },
  {
   "cell_type": "markdown",
   "metadata": {},
   "source": [
    "Users must specify which time units to measure the period in. The exact length of each time unit in a period will depend on when it occurs. See Period and `period()`. The choice of units is not trivial; units that are normally equal may differ in length depending on when the time period occurs. For example, when a leap second occurs one minute is longer than 60 seconds.\n",
    "\n",
    "Because periods do not have a fixed length, they can not be accurately converted to and from Duration objects. Duration objects measure time spans in exact numbers of seconds, see Duration. Hence, a one to one mapping does not exist between durations and periods. When used with a Duration object, `as.period` provides an inexact estimate; the duration is broken into time units based on the most common lengths of time units, in seconds. Because the length of months are particularly variable, a period with a months unit can not be coerced from a duration object. For an exact transformation, first transform the duration to an interval with `as.interval()`.\n",
    "\n",
    "Coercing an interval to a period may cause surprising behavior if you request periods with small units. A leap year is 366 days long, but one year long. Such an interval will convert to 366 days when unit is set to days and 1 year when unit is set to years. Adding 366 days to a date will often give a different result than adding one year. Daylight savings is the one exception where this does not apply. Interval lengths are calculated on the UTC timeline, which does not use daylight savings. Hence, periods converted with seconds or minutes will not reflect the actual variation in seconds and minutes that occurs due to daylight savings. These periods will show the \"naive\" change in seconds and minutes that is suggested by the differences in clock time. See the examples below."
   ]
  },
  {
   "cell_type": "markdown",
   "metadata": {},
   "source": [
    "### Examples"
   ]
  },
  {
   "cell_type": "code",
   "execution_count": 38,
   "metadata": {},
   "outputs": [
    {
     "data": {
      "text/html": [
       "1y 1m 1d 1H 1M 1S"
      ],
      "text/latex": [
       "1y 1m 1d 1H 1M 1S"
      ],
      "text/markdown": [
       "1y 1m 1d 1H 1M 1S"
      ],
      "text/plain": [
       "[1] \"1y 1m 1d 1H 1M 1S\""
      ]
     },
     "metadata": {},
     "output_type": "display_data"
    },
    {
     "data": {
      "text/html": [
       "397d 1H 1M 1S"
      ],
      "text/latex": [
       "397d 1H 1M 1S"
      ],
      "text/markdown": [
       "397d 1H 1M 1S"
      ],
      "text/plain": [
       "[1] \"397d 1H 1M 1S\""
      ]
     },
     "metadata": {},
     "output_type": "display_data"
    }
   ],
   "source": [
    "span <- interval(ymd_hms(\"2009-01-01 00:00:00\"), ymd_hms(\"2010-02-02 01:01:01\")) #interval\n",
    "\n",
    "as.period(span) \n",
    "\n",
    "as.period(span, unit = 'day')"
   ]
  },
  {
   "cell_type": "code",
   "execution_count": 40,
   "metadata": {},
   "outputs": [
    {
     "data": {
      "text/html": [
       "366d 0H 0M 0S"
      ],
      "text/latex": [
       "366d 0H 0M 0S"
      ],
      "text/markdown": [
       "366d 0H 0M 0S"
      ],
      "text/plain": [
       "[1] \"366d 0H 0M 0S\""
      ]
     },
     "metadata": {},
     "output_type": "display_data"
    },
    {
     "data": {
      "text/html": [
       "1y 0m 0d 0H 0M 0S"
      ],
      "text/latex": [
       "1y 0m 0d 0H 0M 0S"
      ],
      "text/markdown": [
       "1y 0m 0d 0H 0M 0S"
      ],
      "text/plain": [
       "[1] \"1y 0m 0d 0H 0M 0S\""
      ]
     },
     "metadata": {},
     "output_type": "display_data"
    }
   ],
   "source": [
    "leap <- interval(ymd(\"2016-01-01\"), ymd(\"2017-01-01\"))\n",
    "\n",
    "as.period(leap, unit = \"days\")\n",
    "\n",
    "as.period(leap, unit = 'years')"
   ]
  },
  {
   "cell_type": "code",
   "execution_count": 43,
   "metadata": {},
   "outputs": [
    {
     "data": {
      "text/html": [
       "90000S"
      ],
      "text/latex": [
       "90000S"
      ],
      "text/markdown": [
       "90000S"
      ],
      "text/plain": [
       "[1] \"90000S\""
      ]
     },
     "metadata": {},
     "output_type": "display_data"
    },
    {
     "data": {
      "text/html": [
       "25H 0M 0S"
      ],
      "text/latex": [
       "25H 0M 0S"
      ],
      "text/markdown": [
       "25H 0M 0S"
      ],
      "text/plain": [
       "[1] \"25H 0M 0S\""
      ]
     },
     "metadata": {},
     "output_type": "display_data"
    }
   ],
   "source": [
    "dst <- interval(ymd(\"2016-11-06\", tz = \"America/Chicago\"), ymd(\"2016-11-07\", tz = \"America/Chicago\"))\n",
    "\n",
    "as.period(dst, unit = \"seconds\")\n",
    "\n",
    "# daily saving times, 25 hours a day\n",
    "as.period(dst, unit = 'hours')"
   ]
  },
  {
   "cell_type": "code",
   "execution_count": 45,
   "metadata": {},
   "outputs": [
    {
     "data": {
      "text/html": [
       "4200"
      ],
      "text/latex": [
       "4200"
      ],
      "text/markdown": [
       "4200"
      ],
      "text/plain": [
       "[1] 4200"
      ]
     },
     "metadata": {},
     "output_type": "display_data"
    }
   ],
   "source": [
    "x <- period(hours = 1, minutes = 10)\n",
    "\n",
    "as.numeric(x)"
   ]
  },
  {
   "cell_type": "code",
   "execution_count": 47,
   "metadata": {},
   "outputs": [
    {
     "data": {
      "text/html": [
       "1.16666666666667"
      ],
      "text/latex": [
       "1.16666666666667"
      ],
      "text/markdown": [
       "1.16666666666667"
      ],
      "text/plain": [
       "[1] 1.166667"
      ]
     },
     "metadata": {},
     "output_type": "display_data"
    }
   ],
   "source": [
    "# 1 hour 10 minutes is approximately 1.16666 hour\n",
    "as.numeric(x, 'hours')"
   ]
  },
  {
   "cell_type": "code",
   "execution_count": 48,
   "metadata": {},
   "outputs": [
    {
     "data": {
      "text/html": [
       "70"
      ],
      "text/latex": [
       "70"
      ],
      "text/markdown": [
       "70"
      ],
      "text/plain": [
       "[1] 70"
      ]
     },
     "metadata": {},
     "output_type": "display_data"
    }
   ],
   "source": [
    "as.numeric(x, 'minutes')"
   ]
  }
 ],
 "metadata": {
  "kernelspec": {
   "display_name": "R",
   "language": "R",
   "name": "ir"
  },
  "language_info": {
   "codemirror_mode": "r",
   "file_extension": ".r",
   "mimetype": "text/x-r-source",
   "name": "R",
   "pygments_lexer": "r",
   "version": "3.6.1"
  }
 },
 "nbformat": 4,
 "nbformat_minor": 2
}
