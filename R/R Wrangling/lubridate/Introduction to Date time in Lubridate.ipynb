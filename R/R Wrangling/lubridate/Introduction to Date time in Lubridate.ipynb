{
 "cells": [
  {
   "cell_type": "markdown",
   "metadata": {},
   "source": [
    "Reference: [R for Data Science: Dates and Times](https://r4ds.had.co.nz/dates-and-times.html#dates-and-times)"
   ]
  },
  {
   "cell_type": "code",
   "execution_count": 1,
   "metadata": {},
   "outputs": [
    {
     "name": "stderr",
     "output_type": "stream",
     "text": [
      "Warning message:\n",
      "\"package 'lubridate' was built under R version 3.6.3\"\n",
      "Attaching package: 'lubridate'\n",
      "\n",
      "The following objects are masked from 'package:base':\n",
      "\n",
      "    date, intersect, setdiff, union\n",
      "\n"
     ]
    }
   ],
   "source": [
    "library(lubridate)"
   ]
  },
  {
   "cell_type": "markdown",
   "metadata": {},
   "source": [
    "# 1. Introduction"
   ]
  },
  {
   "cell_type": "markdown",
   "metadata": {},
   "source": [
    "# 2. Creating Dates/Times"
   ]
  },
  {
   "cell_type": "markdown",
   "metadata": {},
   "source": [
    "There are three types of date/time data that refer to an instant in time:\n",
    "\n",
    "- A date. Tibbles print this as `<date>`.\n",
    "\n",
    "- A time within a day. Tibbles print this as `<time>`.\n",
    "\n",
    "- A date-time is a date plus a time: it uniquely identifies an instant in time (typically to the nearest second). Tibbles print this as `<dttm>`. Elsewhere in R these are called `POSIXct`, but I don’t think that’s a very useful name."
   ]
  },
  {
   "cell_type": "markdown",
   "metadata": {},
   "source": [
    "You should always use the simplest possible data type that works for your needs. That means if you can use a date instead of a date-time, you should. Date-times are substantially more complicated because of the need to handle time zones, which we’ll come back to at the end of the chapter."
   ]
  },
  {
   "cell_type": "code",
   "execution_count": 3,
   "metadata": {},
   "outputs": [
    {
     "data": {
      "text/html": [
       "<time datetime=\"2020-12-01\">2020-12-01</time>"
      ],
      "text/latex": [
       "2020-12-01"
      ],
      "text/markdown": [
       "2020-12-01"
      ],
      "text/plain": [
       "[1] \"2020-12-01\""
      ]
     },
     "metadata": {},
     "output_type": "display_data"
    },
    {
     "data": {
      "text/plain": [
       "[1] \"2020-12-01 14:06:26 +07\""
      ]
     },
     "metadata": {},
     "output_type": "display_data"
    }
   ],
   "source": [
    "# current date\n",
    "today()\n",
    "\n",
    "# current datetime\n",
    "\n",
    "now()"
   ]
  },
  {
   "cell_type": "markdown",
   "metadata": {},
   "source": [
    "Otherwise, there are three ways you’re likely to create a date/time:\n",
    "\n",
    "- From a string.\n",
    "- From individual date-time components.\n",
    "- From an existing date/time object."
   ]
  },
  {
   "cell_type": "markdown",
   "metadata": {},
   "source": [
    "### 2.1. From strings"
   ]
  },
  {
   "cell_type": "markdown",
   "metadata": {},
   "source": [
    "Parsing strings to Date/Date-times"
   ]
  },
  {
   "cell_type": "code",
   "execution_count": 10,
   "metadata": {},
   "outputs": [
    {
     "data": {
      "text/html": [
       "<time datetime=\"2001-10-06\">2001-10-06</time>"
      ],
      "text/latex": [
       "2001-10-06"
      ],
      "text/markdown": [
       "2001-10-06"
      ],
      "text/plain": [
       "[1] \"2001-10-06\""
      ]
     },
     "metadata": {},
     "output_type": "display_data"
    },
    {
     "data": {
      "text/html": [
       "<time datetime=\"2001-10-06\">2001-10-06</time>"
      ],
      "text/latex": [
       "2001-10-06"
      ],
      "text/markdown": [
       "2001-10-06"
      ],
      "text/plain": [
       "[1] \"2001-10-06\""
      ]
     },
     "metadata": {},
     "output_type": "display_data"
    },
    {
     "data": {
      "text/plain": [
       "[1] \"2017-01-31 UTC\""
      ]
     },
     "metadata": {},
     "output_type": "display_data"
    }
   ],
   "source": [
    "# Parsing strings to Date -------------------\n",
    "ymd('2001/10/06')\n",
    "\n",
    "# using unquote number\n",
    "ymd(20011006)\n",
    "\n",
    "# You can also force the creation of a date-time from a date by supplying a timezone\n",
    "ymd(20170131, tz = \"UTC\")"
   ]
  },
  {
   "cell_type": "code",
   "execution_count": 11,
   "metadata": {},
   "outputs": [
    {
     "data": {
      "text/plain": [
       "[1] \"2001-10-06 20:31:29 UTC\""
      ]
     },
     "metadata": {},
     "output_type": "display_data"
    }
   ],
   "source": [
    "# Parsing strings to Date-time -------------\n",
    "ymd_hms('2001/10/06 20:31:29')\n"
   ]
  },
  {
   "cell_type": "markdown",
   "metadata": {},
   "source": [
    "### 2.2. From individual components"
   ]
  },
  {
   "cell_type": "markdown",
   "metadata": {},
   "source": [
    "To create a date/time from this sort of input, use `make_date()` for dates, or `make_datetime()` for date-times:"
   ]
  },
  {
   "cell_type": "code",
   "execution_count": 17,
   "metadata": {},
   "outputs": [
    {
     "data": {
      "text/html": [
       "<pre class=language-r><code>function (year = 1970L, month = 1L, day = 1L) \n",
       "NULL</code></pre>"
      ],
      "text/latex": [
       "\\begin{minted}{r}\n",
       "function (year = 1970L, month = 1L, day = 1L) \n",
       "NULL\n",
       "\\end{minted}"
      ],
      "text/markdown": [
       "```r\n",
       "function (year = 1970L, month = 1L, day = 1L) \n",
       "NULL\n",
       "```"
      ],
      "text/plain": [
       "function (year = 1970L, month = 1L, day = 1L) \n",
       "NULL"
      ]
     },
     "metadata": {},
     "output_type": "display_data"
    },
    {
     "data": {
      "text/html": [
       "<time datetime=\"2001-10-06\">2001-10-06</time>"
      ],
      "text/latex": [
       "2001-10-06"
      ],
      "text/markdown": [
       "2001-10-06"
      ],
      "text/plain": [
       "[1] \"2001-10-06\""
      ]
     },
     "metadata": {},
     "output_type": "display_data"
    },
    {
     "data": {
      "text/html": [
       "<time datetime=\"2001-10-06\">2001-10-06</time>"
      ],
      "text/latex": [
       "2001-10-06"
      ],
      "text/markdown": [
       "2001-10-06"
      ],
      "text/plain": [
       "[1] \"2001-10-06\""
      ]
     },
     "metadata": {},
     "output_type": "display_data"
    }
   ],
   "source": [
    "# all arguments are optional\n",
    "args(make_date)\n",
    "\n",
    "make_date(2001, 10, 06)\n",
    "\n",
    "make_date(month = 10, day = 6, year = 2001)"
   ]
  },
  {
   "cell_type": "code",
   "execution_count": 18,
   "metadata": {},
   "outputs": [
    {
     "data": {
      "text/html": [
       "<pre class=language-r><code>function (year = 1970L, month = 1L, day = 1L, hour = 0L, min = 0L, \n",
       "<span style=white-space:pre-wrap>    sec = 0, tz = \"UTC\") </span>\n",
       "NULL</code></pre>"
      ],
      "text/latex": [
       "\\begin{minted}{r}\n",
       "function (year = 1970L, month = 1L, day = 1L, hour = 0L, min = 0L, \n",
       "    sec = 0, tz = \"UTC\") \n",
       "NULL\n",
       "\\end{minted}"
      ],
      "text/markdown": [
       "```r\n",
       "function (year = 1970L, month = 1L, day = 1L, hour = 0L, min = 0L, \n",
       "    sec = 0, tz = \"UTC\") \n",
       "NULL\n",
       "```"
      ],
      "text/plain": [
       "function (year = 1970L, month = 1L, day = 1L, hour = 0L, min = 0L, \n",
       "    sec = 0, tz = \"UTC\") \n",
       "NULL"
      ]
     },
     "metadata": {},
     "output_type": "display_data"
    },
    {
     "data": {
      "text/plain": [
       "[1] \"2001-10-06 20:31:29 UTC\""
      ]
     },
     "metadata": {},
     "output_type": "display_data"
    },
    {
     "data": {
      "text/plain": [
       "[1] \"2001-10-06 20:31:29 UTC\""
      ]
     },
     "metadata": {},
     "output_type": "display_data"
    }
   ],
   "source": [
    "# all arguments are optional\n",
    "\n",
    "args(make_datetime)\n",
    "\n",
    "make_datetime(2001, 10, 06,  20, 31, 29)\n",
    "\n",
    "make_datetime(hour = 20, min = 31, sec = 29, day = 6, month = 10, year = 2001)"
   ]
  },
  {
   "cell_type": "code",
   "execution_count": 15,
   "metadata": {},
   "outputs": [
    {
     "data": {
      "text/html": [
       "<pre class=language-r><code>function (year = 1970L, month = 1L, day = 1L, hour = 0L, min = 0L, \n",
       "<span style=white-space:pre-wrap>    sec = 0, tz = \"UTC\") </span>\n",
       "NULL</code></pre>"
      ],
      "text/latex": [
       "\\begin{minted}{r}\n",
       "function (year = 1970L, month = 1L, day = 1L, hour = 0L, min = 0L, \n",
       "    sec = 0, tz = \"UTC\") \n",
       "NULL\n",
       "\\end{minted}"
      ],
      "text/markdown": [
       "```r\n",
       "function (year = 1970L, month = 1L, day = 1L, hour = 0L, min = 0L, \n",
       "    sec = 0, tz = \"UTC\") \n",
       "NULL\n",
       "```"
      ],
      "text/plain": [
       "function (year = 1970L, month = 1L, day = 1L, hour = 0L, min = 0L, \n",
       "    sec = 0, tz = \"UTC\") \n",
       "NULL"
      ]
     },
     "metadata": {},
     "output_type": "display_data"
    }
   ],
   "source": [
    "args(make_datetime)"
   ]
  },
  {
   "cell_type": "markdown",
   "metadata": {},
   "source": [
    "### 2.3. From other types"
   ]
  },
  {
   "cell_type": "markdown",
   "metadata": {},
   "source": [
    "You may want to switch between a date-time and a date. That’s the job of `as_datetime()` and `as_date()`:"
   ]
  },
  {
   "cell_type": "code",
   "execution_count": 25,
   "metadata": {},
   "outputs": [
    {
     "data": {
      "text/html": [
       "<time datetime=\"2020-12-01\">2020-12-01</time>"
      ],
      "text/latex": [
       "2020-12-01"
      ],
      "text/markdown": [
       "2020-12-01"
      ],
      "text/plain": [
       "[1] \"2020-12-01\""
      ]
     },
     "metadata": {},
     "output_type": "display_data"
    },
    {
     "data": {
      "text/html": [
       "<time datetime=\"1970-01-02\">1970-01-02</time>"
      ],
      "text/latex": [
       "1970-01-02"
      ],
      "text/markdown": [
       "1970-01-02"
      ],
      "text/plain": [
       "[1] \"1970-01-02\""
      ]
     },
     "metadata": {},
     "output_type": "display_data"
    },
    {
     "data": {
      "text/plain": [
       "[1] \"2020-12-01 UTC\""
      ]
     },
     "metadata": {},
     "output_type": "display_data"
    },
    {
     "data": {
      "text/plain": [
       "[1] \"1970-01-01 00:00:01 UTC\""
      ]
     },
     "metadata": {},
     "output_type": "display_data"
    }
   ],
   "source": [
    "as_date(now())\n",
    "\n",
    "# 1 day since 1/1/1970\n",
    "as_date(1)\n",
    "\n",
    "as_datetime(today())\n",
    "\n",
    "# 1 second since 1/1/1970 00:00:00\n",
    "as_datetime(1)"
   ]
  },
  {
   "cell_type": "markdown",
   "metadata": {},
   "source": [
    "# 3. Date-time components"
   ]
  },
  {
   "cell_type": "markdown",
   "metadata": {},
   "source": [
    "Accessor functions that let you get and set individual components. "
   ]
  },
  {
   "cell_type": "markdown",
   "metadata": {},
   "source": [
    "### 3.1 Getting components"
   ]
  },
  {
   "cell_type": "markdown",
   "metadata": {},
   "source": [
    "You can pull out individual parts of the date with the accessor functions `year()`, `month()`, `mday()` (day of the month), `yday()` (day of the year), `wday()` (day of the week), `hour()`, `minute()`, and `second()`."
   ]
  },
  {
   "cell_type": "code",
   "execution_count": 29,
   "metadata": {},
   "outputs": [],
   "source": [
    "datetime <- ymd_hms(\"2016-07-08 12:34:56\")"
   ]
  },
  {
   "cell_type": "code",
   "execution_count": 30,
   "metadata": {},
   "outputs": [
    {
     "data": {
      "text/html": [
       "2016"
      ],
      "text/latex": [
       "2016"
      ],
      "text/markdown": [
       "2016"
      ],
      "text/plain": [
       "[1] 2016"
      ]
     },
     "metadata": {},
     "output_type": "display_data"
    }
   ],
   "source": [
    "year(datetime)"
   ]
  },
  {
   "cell_type": "code",
   "execution_count": 32,
   "metadata": {},
   "outputs": [
    {
     "data": {
      "text/html": [
       "2"
      ],
      "text/latex": [
       "2"
      ],
      "text/markdown": [
       "2"
      ],
      "text/plain": [
       "[1] 2"
      ]
     },
     "metadata": {},
     "output_type": "display_data"
    },
    {
     "data": {
      "text/html": [
       "2016.2"
      ],
      "text/latex": [
       "2016.2"
      ],
      "text/markdown": [
       "2016.2"
      ],
      "text/plain": [
       "[1] 2016.2"
      ]
     },
     "metadata": {},
     "output_type": "display_data"
    }
   ],
   "source": [
    "semester(datetime)\n",
    "semester(datetime, with_year = T)"
   ]
  },
  {
   "cell_type": "code",
   "execution_count": 33,
   "metadata": {},
   "outputs": [
    {
     "data": {
      "text/html": [
       "3"
      ],
      "text/latex": [
       "3"
      ],
      "text/markdown": [
       "3"
      ],
      "text/plain": [
       "[1] 3"
      ]
     },
     "metadata": {},
     "output_type": "display_data"
    },
    {
     "data": {
      "text/html": [
       "2016.3"
      ],
      "text/latex": [
       "2016.3"
      ],
      "text/markdown": [
       "2016.3"
      ],
      "text/plain": [
       "[1] 2016.3"
      ]
     },
     "metadata": {},
     "output_type": "display_data"
    }
   ],
   "source": [
    "quarter(datetime)\n",
    "quarter(datetime, with_year = T)"
   ]
  },
  {
   "cell_type": "code",
   "execution_count": 34,
   "metadata": {},
   "outputs": [
    {
     "data": {
      "text/html": [
       "7"
      ],
      "text/latex": [
       "7"
      ],
      "text/markdown": [
       "7"
      ],
      "text/plain": [
       "[1] 7"
      ]
     },
     "metadata": {},
     "output_type": "display_data"
    },
    {
     "data": {
      "text/html": [
       "Jul\n",
       "<details>\n",
       "\t<summary style=display:list-item;cursor:pointer>\n",
       "\t\t<strong>Levels</strong>:\n",
       "\t</summary>\n",
       "\t<ol class=list-inline>\n",
       "\t\t<li>'Jan'</li>\n",
       "\t\t<li>'Feb'</li>\n",
       "\t\t<li>'Mar'</li>\n",
       "\t\t<li>'Apr'</li>\n",
       "\t\t<li>'May'</li>\n",
       "\t\t<li>'Jun'</li>\n",
       "\t\t<li>'Jul'</li>\n",
       "\t\t<li>'Aug'</li>\n",
       "\t\t<li>'Sep'</li>\n",
       "\t\t<li>'Oct'</li>\n",
       "\t\t<li>'Nov'</li>\n",
       "\t\t<li>'Dec'</li>\n",
       "\t</ol>\n",
       "</details>"
      ],
      "text/latex": [
       "Jul\n",
       "\\emph{Levels}: \\begin{enumerate*}\n",
       "\\item 'Jan'\n",
       "\\item 'Feb'\n",
       "\\item 'Mar'\n",
       "\\item 'Apr'\n",
       "\\item 'May'\n",
       "\\item 'Jun'\n",
       "\\item 'Jul'\n",
       "\\item 'Aug'\n",
       "\\item 'Sep'\n",
       "\\item 'Oct'\n",
       "\\item 'Nov'\n",
       "\\item 'Dec'\n",
       "\\end{enumerate*}\n"
      ],
      "text/markdown": [
       "Jul\n",
       "**Levels**: 1. 'Jan'\n",
       "2. 'Feb'\n",
       "3. 'Mar'\n",
       "4. 'Apr'\n",
       "5. 'May'\n",
       "6. 'Jun'\n",
       "7. 'Jul'\n",
       "8. 'Aug'\n",
       "9. 'Sep'\n",
       "10. 'Oct'\n",
       "11. 'Nov'\n",
       "12. 'Dec'\n",
       "\n",
       "\n"
      ],
      "text/plain": [
       "[1] Jul\n",
       "12 Levels: Jan < Feb < Mar < Apr < May < Jun < Jul < Aug < Sep < ... < Dec"
      ]
     },
     "metadata": {},
     "output_type": "display_data"
    },
    {
     "data": {
      "text/html": [
       "July\n",
       "<details>\n",
       "\t<summary style=display:list-item;cursor:pointer>\n",
       "\t\t<strong>Levels</strong>:\n",
       "\t</summary>\n",
       "\t<ol class=list-inline>\n",
       "\t\t<li>'January'</li>\n",
       "\t\t<li>'February'</li>\n",
       "\t\t<li>'March'</li>\n",
       "\t\t<li>'April'</li>\n",
       "\t\t<li>'May'</li>\n",
       "\t\t<li>'June'</li>\n",
       "\t\t<li>'July'</li>\n",
       "\t\t<li>'August'</li>\n",
       "\t\t<li>'September'</li>\n",
       "\t\t<li>'October'</li>\n",
       "\t\t<li>'November'</li>\n",
       "\t\t<li>'December'</li>\n",
       "\t</ol>\n",
       "</details>"
      ],
      "text/latex": [
       "July\n",
       "\\emph{Levels}: \\begin{enumerate*}\n",
       "\\item 'January'\n",
       "\\item 'February'\n",
       "\\item 'March'\n",
       "\\item 'April'\n",
       "\\item 'May'\n",
       "\\item 'June'\n",
       "\\item 'July'\n",
       "\\item 'August'\n",
       "\\item 'September'\n",
       "\\item 'October'\n",
       "\\item 'November'\n",
       "\\item 'December'\n",
       "\\end{enumerate*}\n"
      ],
      "text/markdown": [
       "July\n",
       "**Levels**: 1. 'January'\n",
       "2. 'February'\n",
       "3. 'March'\n",
       "4. 'April'\n",
       "5. 'May'\n",
       "6. 'June'\n",
       "7. 'July'\n",
       "8. 'August'\n",
       "9. 'September'\n",
       "10. 'October'\n",
       "11. 'November'\n",
       "12. 'December'\n",
       "\n",
       "\n"
      ],
      "text/plain": [
       "[1] July\n",
       "12 Levels: January < February < March < April < May < June < ... < December"
      ]
     },
     "metadata": {},
     "output_type": "display_data"
    }
   ],
   "source": [
    "# show month as number\n",
    "month(datetime)\n",
    "\n",
    "# show abbriviation month name\n",
    "month(datetime, label = T)\n",
    "\n",
    "# show full month name\n",
    "month(datetime, label = T, abbr = F)"
   ]
  },
  {
   "cell_type": "code",
   "execution_count": 35,
   "metadata": {},
   "outputs": [
    {
     "data": {
      "text/html": [
       "28"
      ],
      "text/latex": [
       "28"
      ],
      "text/markdown": [
       "28"
      ],
      "text/plain": [
       "[1] 28"
      ]
     },
     "metadata": {},
     "output_type": "display_data"
    }
   ],
   "source": [
    "week(datetime)"
   ]
  },
  {
   "cell_type": "code",
   "execution_count": 37,
   "metadata": {},
   "outputs": [
    {
     "data": {
      "text/html": [
       "8"
      ],
      "text/latex": [
       "8"
      ],
      "text/markdown": [
       "8"
      ],
      "text/plain": [
       "[1] 8"
      ]
     },
     "metadata": {},
     "output_type": "display_data"
    },
    {
     "data": {
      "text/html": [
       "6"
      ],
      "text/latex": [
       "6"
      ],
      "text/markdown": [
       "6"
      ],
      "text/plain": [
       "[1] 6"
      ]
     },
     "metadata": {},
     "output_type": "display_data"
    },
    {
     "data": {
      "text/html": [
       "Fri\n",
       "<details>\n",
       "\t<summary style=display:list-item;cursor:pointer>\n",
       "\t\t<strong>Levels</strong>:\n",
       "\t</summary>\n",
       "\t<ol class=list-inline>\n",
       "\t\t<li>'Sun'</li>\n",
       "\t\t<li>'Mon'</li>\n",
       "\t\t<li>'Tue'</li>\n",
       "\t\t<li>'Wed'</li>\n",
       "\t\t<li>'Thu'</li>\n",
       "\t\t<li>'Fri'</li>\n",
       "\t\t<li>'Sat'</li>\n",
       "\t</ol>\n",
       "</details>"
      ],
      "text/latex": [
       "Fri\n",
       "\\emph{Levels}: \\begin{enumerate*}\n",
       "\\item 'Sun'\n",
       "\\item 'Mon'\n",
       "\\item 'Tue'\n",
       "\\item 'Wed'\n",
       "\\item 'Thu'\n",
       "\\item 'Fri'\n",
       "\\item 'Sat'\n",
       "\\end{enumerate*}\n"
      ],
      "text/markdown": [
       "Fri\n",
       "**Levels**: 1. 'Sun'\n",
       "2. 'Mon'\n",
       "3. 'Tue'\n",
       "4. 'Wed'\n",
       "5. 'Thu'\n",
       "6. 'Fri'\n",
       "7. 'Sat'\n",
       "\n",
       "\n"
      ],
      "text/plain": [
       "[1] Fri\n",
       "Levels: Sun < Mon < Tue < Wed < Thu < Fri < Sat"
      ]
     },
     "metadata": {},
     "output_type": "display_data"
    },
    {
     "data": {
      "text/html": [
       "Friday\n",
       "<details>\n",
       "\t<summary style=display:list-item;cursor:pointer>\n",
       "\t\t<strong>Levels</strong>:\n",
       "\t</summary>\n",
       "\t<ol class=list-inline>\n",
       "\t\t<li>'Sunday'</li>\n",
       "\t\t<li>'Monday'</li>\n",
       "\t\t<li>'Tuesday'</li>\n",
       "\t\t<li>'Wednesday'</li>\n",
       "\t\t<li>'Thursday'</li>\n",
       "\t\t<li>'Friday'</li>\n",
       "\t\t<li>'Saturday'</li>\n",
       "\t</ol>\n",
       "</details>"
      ],
      "text/latex": [
       "Friday\n",
       "\\emph{Levels}: \\begin{enumerate*}\n",
       "\\item 'Sunday'\n",
       "\\item 'Monday'\n",
       "\\item 'Tuesday'\n",
       "\\item 'Wednesday'\n",
       "\\item 'Thursday'\n",
       "\\item 'Friday'\n",
       "\\item 'Saturday'\n",
       "\\end{enumerate*}\n"
      ],
      "text/markdown": [
       "Friday\n",
       "**Levels**: 1. 'Sunday'\n",
       "2. 'Monday'\n",
       "3. 'Tuesday'\n",
       "4. 'Wednesday'\n",
       "5. 'Thursday'\n",
       "6. 'Friday'\n",
       "7. 'Saturday'\n",
       "\n",
       "\n"
      ],
      "text/plain": [
       "[1] Friday\n",
       "7 Levels: Sunday < Monday < Tuesday < Wednesday < Thursday < ... < Saturday"
      ]
     },
     "metadata": {},
     "output_type": "display_data"
    }
   ],
   "source": [
    "# day of month\n",
    "day(datetime)\n",
    "\n",
    "# day of week (number)\n",
    "wday(datetime)\n",
    "\n",
    "# day of week(as abbreviated name)\n",
    "wday(datetime, label = T)\n",
    "# day of week (full name)\n",
    "wday(datetime, label = T, abbr = F)"
   ]
  },
  {
   "cell_type": "code",
   "execution_count": 40,
   "metadata": {},
   "outputs": [
    {
     "data": {
      "text/html": [
       "12"
      ],
      "text/latex": [
       "12"
      ],
      "text/markdown": [
       "12"
      ],
      "text/plain": [
       "[1] 12"
      ]
     },
     "metadata": {},
     "output_type": "display_data"
    },
    {
     "data": {
      "text/html": [
       "34"
      ],
      "text/latex": [
       "34"
      ],
      "text/markdown": [
       "34"
      ],
      "text/plain": [
       "[1] 34"
      ]
     },
     "metadata": {},
     "output_type": "display_data"
    },
    {
     "data": {
      "text/html": [
       "56"
      ],
      "text/latex": [
       "56"
      ],
      "text/markdown": [
       "56"
      ],
      "text/plain": [
       "[1] 56"
      ]
     },
     "metadata": {},
     "output_type": "display_data"
    },
    {
     "data": {
      "text/html": [
       "'UTC'"
      ],
      "text/latex": [
       "'UTC'"
      ],
      "text/markdown": [
       "'UTC'"
      ],
      "text/plain": [
       "[1] \"UTC\""
      ]
     },
     "metadata": {},
     "output_type": "display_data"
    }
   ],
   "source": [
    "hour(datetime)\n",
    "\n",
    "minute(datetime)\n",
    "\n",
    "second(datetime)\n",
    "\n",
    "tz(datetime)"
   ]
  },
  {
   "cell_type": "markdown",
   "metadata": {},
   "source": [
    "### 3.2. Rounding"
   ]
  },
  {
   "cell_type": "markdown",
   "metadata": {},
   "source": [
    "An alternative approach to plotting individual components is to round the date to a nearby unit of time, with `floor_date()`, `round_date()`, and `ceiling_date()`. Each function takes a vector of dates to adjust and then the name of the unit round down (floor), round up (ceiling), or round to. "
   ]
  },
  {
   "cell_type": "markdown",
   "metadata": {},
   "source": [
    "### 3.3 Setting components"
   ]
  },
  {
   "cell_type": "markdown",
   "metadata": {},
   "source": [
    "You can also use each accessor function to set the components of a date/time:"
   ]
  },
  {
   "cell_type": "code",
   "execution_count": 42,
   "metadata": {},
   "outputs": [
    {
     "data": {
      "text/plain": [
       "[1] \"2016-07-08 12:34:56 UTC\""
      ]
     },
     "metadata": {},
     "output_type": "display_data"
    },
    {
     "data": {
      "text/plain": [
       "[1] \"2020-07-08 12:34:56 UTC\""
      ]
     },
     "metadata": {},
     "output_type": "display_data"
    }
   ],
   "source": [
    "(datetime <- ymd_hms(\"2016-07-08 12:34:56\"))\n",
    "\n",
    "year(datetime) <- 2020\n",
    "\n",
    "datetime"
   ]
  },
  {
   "cell_type": "markdown",
   "metadata": {},
   "source": [
    "Alternatively, rather than modifying in place, you can create a new date-time with `update()`. This also allows you to set multiple values at once."
   ]
  },
  {
   "cell_type": "code",
   "execution_count": 43,
   "metadata": {},
   "outputs": [
    {
     "data": {
      "text/plain": [
       "[1] \"2001-10-06 12:34:56 UTC\""
      ]
     },
     "metadata": {},
     "output_type": "display_data"
    }
   ],
   "source": [
    "update(datetime, year = 2001, month = 10, day = 6)"
   ]
  },
  {
   "cell_type": "markdown",
   "metadata": {},
   "source": [
    "# 4. Timespan"
   ]
  },
  {
   "cell_type": "markdown",
   "metadata": {},
   "source": [
    "Next you’ll learn about how arithmetic with dates works, including subtraction, addition, and division. Along the way, you’ll learn about three important classes that represent time spans:\n",
    "\n",
    "- **durations**, which represent an exact number of seconds.\n",
    "- **periods**, which represent human units like weeks and months.\n",
    "- **intervals**, which represent a starting and ending point."
   ]
  },
  {
   "cell_type": "markdown",
   "metadata": {},
   "source": [
    "### 4.1 Duration"
   ]
  },
  {
   "cell_type": "markdown",
   "metadata": {},
   "source": [
    "In R, when you subtract two dates, you get a difftime object:"
   ]
  },
  {
   "cell_type": "code",
   "execution_count": 47,
   "metadata": {},
   "outputs": [
    {
     "data": {
      "text/plain": [
       "Time difference of 6996 days"
      ]
     },
     "metadata": {},
     "output_type": "display_data"
    }
   ],
   "source": [
    "(my_age <- today() - ymd(011006))"
   ]
  },
  {
   "cell_type": "markdown",
   "metadata": {},
   "source": [
    "A difftime class object records a time span of seconds, minutes, hours, days, or weeks. This ambiguity can make difftimes a little painful to work with, so lubridate provides an alternative which always uses seconds: the **duration**m."
   ]
  },
  {
   "cell_type": "code",
   "execution_count": 49,
   "metadata": {},
   "outputs": [
    {
     "data": {
      "text/html": [
       "604454400s (~19.15 years)"
      ],
      "text/latex": [
       "604454400s (\\textasciitilde{}19.15 years)"
      ],
      "text/markdown": [
       "604454400s (~19.15 years)"
      ],
      "text/plain": [
       "[1] \"604454400s (~19.15 years)\""
      ]
     },
     "metadata": {},
     "output_type": "display_data"
    }
   ],
   "source": [
    "as.duration(my_age)"
   ]
  },
  {
   "cell_type": "markdown",
   "metadata": {},
   "source": [
    "Durations come with a bunch of convenient constructors:"
   ]
  },
  {
   "cell_type": "code",
   "execution_count": 51,
   "metadata": {},
   "outputs": [
    {
     "data": {
      "text/html": [
       "31557600s (~1 years)"
      ],
      "text/latex": [
       "31557600s (\\textasciitilde{}1 years)"
      ],
      "text/markdown": [
       "31557600s (~1 years)"
      ],
      "text/plain": [
       "[1] \"31557600s (~1 years)\""
      ]
     },
     "metadata": {},
     "output_type": "display_data"
    },
    {
     "data": {
      "text/html": [
       "2629800s (~4.35 weeks)"
      ],
      "text/latex": [
       "2629800s (\\textasciitilde{}4.35 weeks)"
      ],
      "text/markdown": [
       "2629800s (~4.35 weeks)"
      ],
      "text/plain": [
       "[1] \"2629800s (~4.35 weeks)\""
      ]
     },
     "metadata": {},
     "output_type": "display_data"
    },
    {
     "data": {
      "text/html": [
       "604800s (~1 weeks)"
      ],
      "text/latex": [
       "604800s (\\textasciitilde{}1 weeks)"
      ],
      "text/markdown": [
       "604800s (~1 weeks)"
      ],
      "text/plain": [
       "[1] \"604800s (~1 weeks)\""
      ]
     },
     "metadata": {},
     "output_type": "display_data"
    },
    {
     "data": {
      "text/html": [
       "86400s (~1 days)"
      ],
      "text/latex": [
       "86400s (\\textasciitilde{}1 days)"
      ],
      "text/markdown": [
       "86400s (~1 days)"
      ],
      "text/plain": [
       "[1] \"86400s (~1 days)\""
      ]
     },
     "metadata": {},
     "output_type": "display_data"
    },
    {
     "data": {
      "text/html": [
       "60s (~1 minutes)"
      ],
      "text/latex": [
       "60s (\\textasciitilde{}1 minutes)"
      ],
      "text/markdown": [
       "60s (~1 minutes)"
      ],
      "text/plain": [
       "[1] \"60s (~1 minutes)\""
      ]
     },
     "metadata": {},
     "output_type": "display_data"
    }
   ],
   "source": [
    "dyears(1)\n",
    "\n",
    "dmonths(1)\n",
    "\n",
    "dweeks(1)\n",
    "\n",
    "ddays(1)\n",
    "\n",
    "dminutes(1)"
   ]
  },
  {
   "cell_type": "markdown",
   "metadata": {},
   "source": [
    "or a general constructors:"
   ]
  },
  {
   "cell_type": "code",
   "execution_count": 57,
   "metadata": {},
   "outputs": [
    {
     "data": {
      "text/html": [
       "63115200s (~2 years)"
      ],
      "text/latex": [
       "63115200s (\\textasciitilde{}2 years)"
      ],
      "text/markdown": [
       "63115200s (~2 years)"
      ],
      "text/plain": [
       "[1] \"63115200s (~2 years)\""
      ]
     },
     "metadata": {},
     "output_type": "display_data"
    },
    {
     "data": {
      "text/html": [
       "2629800s (~4.35 weeks)"
      ],
      "text/latex": [
       "2629800s (\\textasciitilde{}4.35 weeks)"
      ],
      "text/markdown": [
       "2629800s (~4.35 weeks)"
      ],
      "text/plain": [
       "[1] \"2629800s (~4.35 weeks)\""
      ]
     },
     "metadata": {},
     "output_type": "display_data"
    },
    {
     "data": {
      "text/html": [
       "1814400s (~3 weeks)"
      ],
      "text/latex": [
       "1814400s (\\textasciitilde{}3 weeks)"
      ],
      "text/markdown": [
       "1814400s (~3 weeks)"
      ],
      "text/plain": [
       "[1] \"1814400s (~3 weeks)\""
      ]
     },
     "metadata": {},
     "output_type": "display_data"
    },
    {
     "data": {
      "text/html": [
       "30s"
      ],
      "text/latex": [
       "30s"
      ],
      "text/markdown": [
       "30s"
      ],
      "text/plain": [
       "[1] \"30s\""
      ]
     },
     "metadata": {},
     "output_type": "display_data"
    },
    {
     "data": {
      "text/html": [
       "2635200s (~4.36 weeks)"
      ],
      "text/latex": [
       "2635200s (\\textasciitilde{}4.36 weeks)"
      ],
      "text/markdown": [
       "2635200s (~4.36 weeks)"
      ],
      "text/plain": [
       "[1] \"2635200s (~4.36 weeks)\""
      ]
     },
     "metadata": {},
     "output_type": "display_data"
    }
   ],
   "source": [
    "duration(2, 'years')\n",
    "\n",
    "duration(1, 'month')\n",
    "\n",
    "duration(3, 'weeks')\n",
    "\n",
    "duration(30, 'seconds')\n",
    "\n",
    "duration(days = 30, hours =  12)"
   ]
  },
  {
   "cell_type": "markdown",
   "metadata": {},
   "source": [
    "Durations always record the time span in seconds. Larger units are created by converting minutes, hours, days, weeks, and years to seconds at the standard rate (60 seconds in a minute, 60 minutes in an hour, 24 hours in day, 7 days in a week, 365 days in a year).\n",
    "\n",
    "You can add and multiply durations:"
   ]
  },
  {
   "cell_type": "code",
   "execution_count": 58,
   "metadata": {},
   "outputs": [
    {
     "data": {
      "text/html": [
       "63115200s (~2 years)"
      ],
      "text/latex": [
       "63115200s (\\textasciitilde{}2 years)"
      ],
      "text/markdown": [
       "63115200s (~2 years)"
      ],
      "text/plain": [
       "[1] \"63115200s (~2 years)\""
      ]
     },
     "metadata": {},
     "output_type": "display_data"
    },
    {
     "data": {
      "text/html": [
       "90000s (~1.04 days)"
      ],
      "text/latex": [
       "90000s (\\textasciitilde{}1.04 days)"
      ],
      "text/markdown": [
       "90000s (~1.04 days)"
      ],
      "text/plain": [
       "[1] \"90000s (~1.04 days)\""
      ]
     },
     "metadata": {},
     "output_type": "display_data"
    }
   ],
   "source": [
    "2 * dyears(1)\n",
    "\n",
    "ddays(1) + dhours(1)"
   ]
  },
  {
   "cell_type": "markdown",
   "metadata": {},
   "source": [
    "You can add and subtract durations to and from days:"
   ]
  },
  {
   "cell_type": "code",
   "execution_count": 60,
   "metadata": {},
   "outputs": [
    {
     "data": {
      "text/html": [
       "<time datetime=\"2020-12-02\">2020-12-02</time>"
      ],
      "text/latex": [
       "2020-12-02"
      ],
      "text/markdown": [
       "2020-12-02"
      ],
      "text/plain": [
       "[1] \"2020-12-02\""
      ]
     },
     "metadata": {},
     "output_type": "display_data"
    },
    {
     "data": {
      "text/plain": [
       "[1] \"2021-12-01 06:00:00 UTC\""
      ]
     },
     "metadata": {},
     "output_type": "display_data"
    }
   ],
   "source": [
    "today() + ddays(1)\n",
    "\n",
    "today() + dyears(1)"
   ]
  },
  {
   "cell_type": "markdown",
   "metadata": {},
   "source": [
    "However, because durations represent an exact number of seconds, sometimes you might get an unexpected result:"
   ]
  },
  {
   "cell_type": "code",
   "execution_count": 61,
   "metadata": {},
   "outputs": [
    {
     "data": {
      "text/plain": [
       "[1] \"2016-03-12 13:00:00 EST\""
      ]
     },
     "metadata": {},
     "output_type": "display_data"
    },
    {
     "data": {
      "text/plain": [
       "[1] \"2016-03-13 14:00:00 EDT\""
      ]
     },
     "metadata": {},
     "output_type": "display_data"
    }
   ],
   "source": [
    "one_pm <- ymd_hms(\"2016-03-12 13:00:00\", tz = \"America/New_York\")\n",
    "\n",
    "one_pm\n",
    "\n",
    "one_pm + ddays(1)"
   ]
  },
  {
   "cell_type": "markdown",
   "metadata": {},
   "source": [
    "Why is one day after 1pm on March 12, 2pm on March 13?! If you look carefully at the date you might also notice that the time zones have changed. Because of DST, March 12 only has 23 hours, so if we add a full days worth of seconds we end up with a different time."
   ]
  },
  {
   "cell_type": "markdown",
   "metadata": {},
   "source": [
    "To solve this problem, lubridate provides **periods**. Periods are time spans but don’t have a fixed length in seconds, instead they work with “human” times, like days and months. That allows them to work in a more intuitive way:"
   ]
  },
  {
   "cell_type": "markdown",
   "metadata": {},
   "source": [
    "### 4.2 Period"
   ]
  },
  {
   "cell_type": "code",
   "execution_count": 63,
   "metadata": {},
   "outputs": [
    {
     "data": {
      "text/plain": [
       "[1] \"2016-03-12 13:00:00 EST\""
      ]
     },
     "metadata": {},
     "output_type": "display_data"
    },
    {
     "data": {
      "text/plain": [
       "[1] \"2016-03-13 13:00:00 EDT\""
      ]
     },
     "metadata": {},
     "output_type": "display_data"
    }
   ],
   "source": [
    "one_pm\n",
    "\n",
    "one_pm + days(1)"
   ]
  },
  {
   "cell_type": "markdown",
   "metadata": {},
   "source": [
    "Like durations, periods can be created with a number of friendly constructor functions or general constructor:"
   ]
  },
  {
   "cell_type": "code",
   "execution_count": 65,
   "metadata": {},
   "outputs": [
    {
     "data": {
      "text/html": [
       "1d 0H 0M 0S"
      ],
      "text/latex": [
       "1d 0H 0M 0S"
      ],
      "text/markdown": [
       "1d 0H 0M 0S"
      ],
      "text/plain": [
       "[1] \"1d 0H 0M 0S\""
      ]
     },
     "metadata": {},
     "output_type": "display_data"
    },
    {
     "data": {
      "text/html": [
       "3y 0m 0d 0H 0M 0S"
      ],
      "text/latex": [
       "3y 0m 0d 0H 0M 0S"
      ],
      "text/markdown": [
       "3y 0m 0d 0H 0M 0S"
      ],
      "text/plain": [
       "[1] \"3y 0m 0d 0H 0M 0S\""
      ]
     },
     "metadata": {},
     "output_type": "display_data"
    },
    {
     "data": {
      "text/html": [
       "3y 0m 0d 0H 0M 0S"
      ],
      "text/latex": [
       "3y 0m 0d 0H 0M 0S"
      ],
      "text/markdown": [
       "3y 0m 0d 0H 0M 0S"
      ],
      "text/plain": [
       "[1] \"3y 0m 0d 0H 0M 0S\""
      ]
     },
     "metadata": {},
     "output_type": "display_data"
    },
    {
     "data": {
      "text/html": [
       "3y 6m 0d 0H 0M 0S"
      ],
      "text/latex": [
       "3y 6m 0d 0H 0M 0S"
      ],
      "text/markdown": [
       "3y 6m 0d 0H 0M 0S"
      ],
      "text/plain": [
       "[1] \"3y 6m 0d 0H 0M 0S\""
      ]
     },
     "metadata": {},
     "output_type": "display_data"
    }
   ],
   "source": [
    "days(1)\n",
    "\n",
    "years(3)\n",
    "\n",
    "period(3, 'years')\n",
    "\n",
    "period(year = 3, month = 6)"
   ]
  },
  {
   "cell_type": "markdown",
   "metadata": {},
   "source": [
    "You can add and multiply periods:"
   ]
  },
  {
   "cell_type": "code",
   "execution_count": 68,
   "metadata": {},
   "outputs": [
    {
     "data": {
      "text/html": [
       "60m 10d 0H 0M 0S"
      ],
      "text/latex": [
       "60m 10d 0H 0M 0S"
      ],
      "text/markdown": [
       "60m 10d 0H 0M 0S"
      ],
      "text/plain": [
       "[1] \"60m 10d 0H 0M 0S\""
      ]
     },
     "metadata": {},
     "output_type": "display_data"
    },
    {
     "data": {
      "text/html": [
       "50d 25H 2M 0S"
      ],
      "text/latex": [
       "50d 25H 2M 0S"
      ],
      "text/markdown": [
       "50d 25H 2M 0S"
      ],
      "text/plain": [
       "[1] \"50d 25H 2M 0S\""
      ]
     },
     "metadata": {},
     "output_type": "display_data"
    }
   ],
   "source": [
    "10 * (months(6) + days(1))\n",
    "\n",
    "days(50) + hours(25) + minutes(2)"
   ]
  },
  {
   "cell_type": "markdown",
   "metadata": {},
   "source": [
    "And of course, add them to dates. Compared to durations, periods are more likely to do what you expect:"
   ]
  },
  {
   "cell_type": "code",
   "execution_count": 70,
   "metadata": {},
   "outputs": [
    {
     "data": {
      "text/plain": [
       "[1] \"2002-10-06 06:00:00 UTC\""
      ]
     },
     "metadata": {},
     "output_type": "display_data"
    },
    {
     "data": {
      "text/html": [
       "<time datetime=\"2002-10-06\">2002-10-06</time>"
      ],
      "text/latex": [
       "2002-10-06"
      ],
      "text/markdown": [
       "2002-10-06"
      ],
      "text/plain": [
       "[1] \"2002-10-06\""
      ]
     },
     "metadata": {},
     "output_type": "display_data"
    }
   ],
   "source": [
    "# duration\n",
    "\n",
    "ymd(011006) + dyears(1)\n",
    "\n",
    "# period\n",
    "ymd(011006) + years(1)"
   ]
  },
  {
   "cell_type": "markdown",
   "metadata": {},
   "source": [
    "### 4.3 Intervals"
   ]
  },
  {
   "cell_type": "markdown",
   "metadata": {},
   "source": [
    "An interval is a duration with a starting point"
   ]
  },
  {
   "cell_type": "code",
   "execution_count": 72,
   "metadata": {},
   "outputs": [
    {
     "data": {
      "text/html": [
       "2001-10-06 UTC--2020-12-01 UTC"
      ],
      "text/latex": [
       "2001-10-06 UTC--2020-12-01 UTC"
      ],
      "text/markdown": [
       "2001-10-06 UTC--2020-12-01 UTC"
      ],
      "text/plain": [
       "[1] 2001-10-06 UTC--2020-12-01 UTC"
      ]
     },
     "metadata": {},
     "output_type": "display_data"
    }
   ],
   "source": [
    "# interval since i was born till today\n",
    "ymd(011006) %--% today()"
   ]
  },
  {
   "cell_type": "markdown",
   "metadata": {},
   "source": [
    "It’s obvious what `dyears(1) / ddays(365)` should return: one, because durations are always represented by a number of seconds, and a duration of a year is defined as 365 days worth of seconds.\n",
    "\n",
    "What should `years(1) / days(1)` return? Well, if the year was 2015 it should return 365, but if it was 2016, it should return 366! There’s not quite enough information for lubridate to give a single clear answer. What it does instead is give an estimate, with a warning:"
   ]
  },
  {
   "cell_type": "code",
   "execution_count": 74,
   "metadata": {},
   "outputs": [
    {
     "data": {
      "text/html": [
       "365.25"
      ],
      "text/latex": [
       "365.25"
      ],
      "text/markdown": [
       "365.25"
      ],
      "text/plain": [
       "[1] 365.25"
      ]
     },
     "metadata": {},
     "output_type": "display_data"
    }
   ],
   "source": [
    "years(1) / days(1)"
   ]
  },
  {
   "cell_type": "markdown",
   "metadata": {},
   "source": [
    "If you want a more accurate measurement, you’ll have to use an interval. An interval is a duration with a starting point: that makes it precise so you can determine exactly how long it is:"
   ]
  },
  {
   "cell_type": "code",
   "execution_count": 75,
   "metadata": {},
   "outputs": [
    {
     "data": {
      "text/html": [
       "365"
      ],
      "text/latex": [
       "365"
      ],
      "text/markdown": [
       "365"
      ],
      "text/plain": [
       "[1] 365"
      ]
     },
     "metadata": {},
     "output_type": "display_data"
    }
   ],
   "source": [
    "next_year <- today() + years(1)\n",
    "(today() %--% next_year) / ddays(1)\n"
   ]
  },
  {
   "cell_type": "markdown",
   "metadata": {},
   "source": [
    "To find out how many periods fall into an interval, you need to use integer division:"
   ]
  },
  {
   "cell_type": "code",
   "execution_count": 76,
   "metadata": {},
   "outputs": [
    {
     "data": {
      "text/html": [
       "365"
      ],
      "text/latex": [
       "365"
      ],
      "text/markdown": [
       "365"
      ],
      "text/plain": [
       "[1] 365"
      ]
     },
     "metadata": {},
     "output_type": "display_data"
    }
   ],
   "source": [
    "(today() %--% next_year) %/% days(1)"
   ]
  },
  {
   "cell_type": "markdown",
   "metadata": {},
   "source": [
    "### 4.4 Summary"
   ]
  },
  {
   "cell_type": "markdown",
   "metadata": {},
   "source": [
    "How do you pick between duration, periods, and intervals? As always, pick the simplest data structure that solves your problem. If you only care about physical time, use a duration; if you need to add human times, use a period; if you need to figure out how long a span is in human units, use an interval.\n",
    "\n",
    "Figure 16.1 summarises permitted arithmetic operations between the different data types.  \n",
    "![](https://d33wubrfki0l68.cloudfront.net/0020136325ea844476bc61eb7e95d2ac5aeebf00/893e9/diagrams/datetimes-arithmetic.png)"
   ]
  },
  {
   "cell_type": "markdown",
   "metadata": {},
   "source": [
    "# 5. Timezones"
   ]
  },
  {
   "cell_type": "markdown",
   "metadata": {},
   "source": [
    "Time zones are an enormously complicated topic because of their interaction with geopolitical entities. Fortunately we don’t need to dig into all the details as they’re not all important for data analysis, but there are a few challenges we’ll need to tackle head on.\n",
    "\n",
    "The first challenge is that everyday names of time zones tend to be ambiguous. For example, if you’re American you’re probably familiar with EST, or Eastern Standard Time. However, both Australia and Canada also have EST! To avoid confusion, R uses the international standard IANA time zones. These use a consistent naming scheme “/”, typically in the form “<continent>/<city>” (there are a few exceptions because not every country lies on a continent). Examples include “America/New_York”, “Europe/Paris”, and “Pacific/Auckland”.\n",
    "\n",
    "You might wonder why the time zone uses a city, when typically you think of time zones as associated with a country or region within a country. This is because the IANA database has to record decades worth of time zone rules. In the course of decades, countries change names (or break apart) fairly frequently, but city names tend to stay the same. Another problem is that name needs to reflect not only to the current behaviour, but also the complete history. For example, there are time zones for both “America/New_York” and “America/Detroit”. These cities both currently use Eastern Standard Time but in 1969-1972 Michigan (the state in which Detroit is located), did not follow DST, so it needs a different name. It’s worth reading the raw time zone database (available at http://www.iana.org/time-zones) just to read some of these stories!\n",
    "\n",
    "You can find out what R thinks your current time zone is with `Sys.timezone()`:"
   ]
  },
  {
   "cell_type": "code",
   "execution_count": 77,
   "metadata": {},
   "outputs": [
    {
     "data": {
      "text/html": [
       "'Asia/Bangkok'"
      ],
      "text/latex": [
       "'Asia/Bangkok'"
      ],
      "text/markdown": [
       "'Asia/Bangkok'"
      ],
      "text/plain": [
       "[1] \"Asia/Bangkok\""
      ]
     },
     "metadata": {},
     "output_type": "display_data"
    }
   ],
   "source": [
    "Sys.timezone()"
   ]
  },
  {
   "cell_type": "markdown",
   "metadata": {},
   "source": [
    "(If R doesn’t know, you’ll get an NA.)\n",
    "\n",
    "And see the complete list of all time zone names with `OlsonNames()`:"
   ]
  },
  {
   "cell_type": "code",
   "execution_count": 79,
   "metadata": {},
   "outputs": [
    {
     "data": {
      "text/html": [
       "<ol class=list-inline>\n",
       "\t<li>'Africa/Abidjan'</li>\n",
       "\t<li>'Africa/Accra'</li>\n",
       "\t<li>'Africa/Addis_Ababa'</li>\n",
       "\t<li>'Africa/Algiers'</li>\n",
       "\t<li>'Africa/Asmara'</li>\n",
       "\t<li>'Africa/Asmera'</li>\n",
       "\t<li>'Africa/Bamako'</li>\n",
       "\t<li>'Africa/Bangui'</li>\n",
       "\t<li>'Africa/Banjul'</li>\n",
       "\t<li>'Africa/Bissau'</li>\n",
       "\t<li>'Africa/Blantyre'</li>\n",
       "\t<li>'Africa/Brazzaville'</li>\n",
       "\t<li>'Africa/Bujumbura'</li>\n",
       "\t<li>'Africa/Cairo'</li>\n",
       "\t<li>'Africa/Casablanca'</li>\n",
       "\t<li>'Africa/Ceuta'</li>\n",
       "\t<li>'Africa/Conakry'</li>\n",
       "\t<li>'Africa/Dakar'</li>\n",
       "\t<li>'Africa/Dar_es_Salaam'</li>\n",
       "\t<li>'Africa/Djibouti'</li>\n",
       "\t<li>'Africa/Douala'</li>\n",
       "\t<li>'Africa/El_Aaiun'</li>\n",
       "\t<li>'Africa/Freetown'</li>\n",
       "\t<li>'Africa/Gaborone'</li>\n",
       "\t<li>'Africa/Harare'</li>\n",
       "\t<li>'Africa/Johannesburg'</li>\n",
       "\t<li>'Africa/Juba'</li>\n",
       "\t<li>'Africa/Kampala'</li>\n",
       "\t<li>'Africa/Khartoum'</li>\n",
       "\t<li>'Africa/Kigali'</li>\n",
       "\t<li>'Africa/Kinshasa'</li>\n",
       "\t<li>'Africa/Lagos'</li>\n",
       "\t<li>'Africa/Libreville'</li>\n",
       "\t<li>'Africa/Lome'</li>\n",
       "\t<li>'Africa/Luanda'</li>\n",
       "\t<li>'Africa/Lubumbashi'</li>\n",
       "\t<li>'Africa/Lusaka'</li>\n",
       "\t<li>'Africa/Malabo'</li>\n",
       "\t<li>'Africa/Maputo'</li>\n",
       "\t<li>'Africa/Maseru'</li>\n",
       "\t<li>'Africa/Mbabane'</li>\n",
       "\t<li>'Africa/Mogadishu'</li>\n",
       "\t<li>'Africa/Monrovia'</li>\n",
       "\t<li>'Africa/Nairobi'</li>\n",
       "\t<li>'Africa/Ndjamena'</li>\n",
       "\t<li>'Africa/Niamey'</li>\n",
       "\t<li>'Africa/Nouakchott'</li>\n",
       "\t<li>'Africa/Ouagadougou'</li>\n",
       "\t<li>'Africa/Porto-Novo'</li>\n",
       "\t<li>'Africa/Sao_Tome'</li>\n",
       "\t<li>'Africa/Timbuktu'</li>\n",
       "\t<li>'Africa/Tripoli'</li>\n",
       "\t<li>'Africa/Tunis'</li>\n",
       "\t<li>'Africa/Windhoek'</li>\n",
       "\t<li>'America/Adak'</li>\n",
       "\t<li>'America/Anchorage'</li>\n",
       "\t<li>'America/Anguilla'</li>\n",
       "\t<li>'America/Antigua'</li>\n",
       "\t<li>'America/Araguaina'</li>\n",
       "\t<li>'America/Argentina/Buenos_Aires'</li>\n",
       "\t<li>'America/Argentina/Catamarca'</li>\n",
       "\t<li>'America/Argentina/ComodRivadavia'</li>\n",
       "\t<li>'America/Argentina/Cordoba'</li>\n",
       "\t<li>'America/Argentina/Jujuy'</li>\n",
       "\t<li>'America/Argentina/La_Rioja'</li>\n",
       "\t<li>'America/Argentina/Mendoza'</li>\n",
       "\t<li>'America/Argentina/Rio_Gallegos'</li>\n",
       "\t<li>'America/Argentina/Salta'</li>\n",
       "\t<li>'America/Argentina/San_Juan'</li>\n",
       "\t<li>'America/Argentina/San_Luis'</li>\n",
       "\t<li>'America/Argentina/Tucuman'</li>\n",
       "\t<li>'America/Argentina/Ushuaia'</li>\n",
       "\t<li>'America/Aruba'</li>\n",
       "\t<li>'America/Asuncion'</li>\n",
       "\t<li>'America/Atikokan'</li>\n",
       "\t<li>'America/Atka'</li>\n",
       "\t<li>'America/Bahia'</li>\n",
       "\t<li>'America/Bahia_Banderas'</li>\n",
       "\t<li>'America/Barbados'</li>\n",
       "\t<li>'America/Belem'</li>\n",
       "\t<li>'America/Belize'</li>\n",
       "\t<li>'America/Blanc-Sablon'</li>\n",
       "\t<li>'America/Boa_Vista'</li>\n",
       "\t<li>'America/Bogota'</li>\n",
       "\t<li>'America/Boise'</li>\n",
       "\t<li>'America/Buenos_Aires'</li>\n",
       "\t<li>'America/Cambridge_Bay'</li>\n",
       "\t<li>'America/Campo_Grande'</li>\n",
       "\t<li>'America/Cancun'</li>\n",
       "\t<li>'America/Caracas'</li>\n",
       "\t<li>'America/Catamarca'</li>\n",
       "\t<li>'America/Cayenne'</li>\n",
       "\t<li>'America/Cayman'</li>\n",
       "\t<li>'America/Chicago'</li>\n",
       "\t<li>'America/Chihuahua'</li>\n",
       "\t<li>'America/Coral_Harbour'</li>\n",
       "\t<li>'America/Cordoba'</li>\n",
       "\t<li>'America/Costa_Rica'</li>\n",
       "\t<li>'America/Creston'</li>\n",
       "\t<li>'America/Cuiaba'</li>\n",
       "\t<li>'America/Curacao'</li>\n",
       "\t<li>'America/Danmarkshavn'</li>\n",
       "\t<li>'America/Dawson'</li>\n",
       "\t<li>'America/Dawson_Creek'</li>\n",
       "\t<li>'America/Denver'</li>\n",
       "\t<li>'America/Detroit'</li>\n",
       "\t<li>'America/Dominica'</li>\n",
       "\t<li>'America/Edmonton'</li>\n",
       "\t<li>'America/Eirunepe'</li>\n",
       "\t<li>'America/El_Salvador'</li>\n",
       "\t<li>'America/Ensenada'</li>\n",
       "\t<li>'America/Fort_Nelson'</li>\n",
       "\t<li>'America/Fort_Wayne'</li>\n",
       "\t<li>'America/Fortaleza'</li>\n",
       "\t<li>'America/Glace_Bay'</li>\n",
       "\t<li>'America/Godthab'</li>\n",
       "\t<li>'America/Goose_Bay'</li>\n",
       "\t<li>'America/Grand_Turk'</li>\n",
       "\t<li>'America/Grenada'</li>\n",
       "\t<li>'America/Guadeloupe'</li>\n",
       "\t<li>'America/Guatemala'</li>\n",
       "\t<li>'America/Guayaquil'</li>\n",
       "\t<li>'America/Guyana'</li>\n",
       "\t<li>'America/Halifax'</li>\n",
       "\t<li>'America/Havana'</li>\n",
       "\t<li>'America/Hermosillo'</li>\n",
       "\t<li>'America/Indiana/Indianapolis'</li>\n",
       "\t<li>'America/Indiana/Knox'</li>\n",
       "\t<li>'America/Indiana/Marengo'</li>\n",
       "\t<li>'America/Indiana/Petersburg'</li>\n",
       "\t<li>'America/Indiana/Tell_City'</li>\n",
       "\t<li>'America/Indiana/Vevay'</li>\n",
       "\t<li>'America/Indiana/Vincennes'</li>\n",
       "\t<li>'America/Indiana/Winamac'</li>\n",
       "\t<li>'America/Indianapolis'</li>\n",
       "\t<li>'America/Inuvik'</li>\n",
       "\t<li>'America/Iqaluit'</li>\n",
       "\t<li>'America/Jamaica'</li>\n",
       "\t<li>'America/Jujuy'</li>\n",
       "\t<li>'America/Juneau'</li>\n",
       "\t<li>'America/Kentucky/Louisville'</li>\n",
       "\t<li>'America/Kentucky/Monticello'</li>\n",
       "\t<li>'America/Knox_IN'</li>\n",
       "\t<li>'America/Kralendijk'</li>\n",
       "\t<li>'America/La_Paz'</li>\n",
       "\t<li>'America/Lima'</li>\n",
       "\t<li>'America/Los_Angeles'</li>\n",
       "\t<li>'America/Louisville'</li>\n",
       "\t<li>'America/Lower_Princes'</li>\n",
       "\t<li>'America/Maceio'</li>\n",
       "\t<li>'America/Managua'</li>\n",
       "\t<li>'America/Manaus'</li>\n",
       "\t<li>'America/Marigot'</li>\n",
       "\t<li>'America/Martinique'</li>\n",
       "\t<li>'America/Matamoros'</li>\n",
       "\t<li>'America/Mazatlan'</li>\n",
       "\t<li>'America/Mendoza'</li>\n",
       "\t<li>'America/Menominee'</li>\n",
       "\t<li>'America/Merida'</li>\n",
       "\t<li>'America/Metlakatla'</li>\n",
       "\t<li>'America/Mexico_City'</li>\n",
       "\t<li>'America/Miquelon'</li>\n",
       "\t<li>'America/Moncton'</li>\n",
       "\t<li>'America/Monterrey'</li>\n",
       "\t<li>'America/Montevideo'</li>\n",
       "\t<li>'America/Montreal'</li>\n",
       "\t<li>'America/Montserrat'</li>\n",
       "\t<li>'America/Nassau'</li>\n",
       "\t<li>'America/New_York'</li>\n",
       "\t<li>'America/Nipigon'</li>\n",
       "\t<li>'America/Nome'</li>\n",
       "\t<li>'America/Noronha'</li>\n",
       "\t<li>'America/North_Dakota/Beulah'</li>\n",
       "\t<li>'America/North_Dakota/Center'</li>\n",
       "\t<li>'America/North_Dakota/New_Salem'</li>\n",
       "\t<li>'America/Ojinaga'</li>\n",
       "\t<li>'America/Panama'</li>\n",
       "\t<li>'America/Pangnirtung'</li>\n",
       "\t<li>'America/Paramaribo'</li>\n",
       "\t<li>'America/Phoenix'</li>\n",
       "\t<li>'America/Port-au-Prince'</li>\n",
       "\t<li>'America/Port_of_Spain'</li>\n",
       "\t<li>'America/Porto_Acre'</li>\n",
       "\t<li>'America/Porto_Velho'</li>\n",
       "\t<li>'America/Puerto_Rico'</li>\n",
       "\t<li>'America/Punta_Arenas'</li>\n",
       "\t<li>'America/Rainy_River'</li>\n",
       "\t<li>'America/Rankin_Inlet'</li>\n",
       "\t<li>'America/Recife'</li>\n",
       "\t<li>'America/Regina'</li>\n",
       "\t<li>'America/Resolute'</li>\n",
       "\t<li>'America/Rio_Branco'</li>\n",
       "\t<li>'America/Rosario'</li>\n",
       "\t<li>'America/Santa_Isabel'</li>\n",
       "\t<li>'America/Santarem'</li>\n",
       "\t<li>'America/Santiago'</li>\n",
       "\t<li>'America/Santo_Domingo'</li>\n",
       "\t<li>'America/Sao_Paulo'</li>\n",
       "\t<li>'America/Scoresbysund'</li>\n",
       "\t<li>'America/Shiprock'</li>\n",
       "\t<li>'America/Sitka'</li>\n",
       "\t<li>'America/St_Barthelemy'</li>\n",
       "\t<li>'America/St_Johns'</li>\n",
       "\t<li>'America/St_Kitts'</li>\n",
       "\t<li>'America/St_Lucia'</li>\n",
       "\t<li>'America/St_Thomas'</li>\n",
       "\t<li>'America/St_Vincent'</li>\n",
       "\t<li>'America/Swift_Current'</li>\n",
       "\t<li>'America/Tegucigalpa'</li>\n",
       "\t<li>'America/Thule'</li>\n",
       "\t<li>'America/Thunder_Bay'</li>\n",
       "\t<li>'America/Tijuana'</li>\n",
       "\t<li>'America/Toronto'</li>\n",
       "\t<li>'America/Tortola'</li>\n",
       "\t<li>'America/Vancouver'</li>\n",
       "\t<li>'America/Virgin'</li>\n",
       "\t<li>'America/Whitehorse'</li>\n",
       "\t<li>'America/Winnipeg'</li>\n",
       "\t<li>'America/Yakutat'</li>\n",
       "\t<li>'America/Yellowknife'</li>\n",
       "\t<li>'Antarctica/Casey'</li>\n",
       "\t<li>'Antarctica/Davis'</li>\n",
       "\t<li>'Antarctica/DumontDUrville'</li>\n",
       "\t<li>'Antarctica/Macquarie'</li>\n",
       "\t<li>'Antarctica/Mawson'</li>\n",
       "\t<li>'Antarctica/McMurdo'</li>\n",
       "\t<li>'Antarctica/Palmer'</li>\n",
       "\t<li>'Antarctica/Rothera'</li>\n",
       "\t<li>'Antarctica/South_Pole'</li>\n",
       "\t<li>'Antarctica/Syowa'</li>\n",
       "\t<li>'Antarctica/Troll'</li>\n",
       "\t<li>'Antarctica/Vostok'</li>\n",
       "\t<li>'Arctic/Longyearbyen'</li>\n",
       "\t<li>'Asia/Aden'</li>\n",
       "\t<li>'Asia/Almaty'</li>\n",
       "\t<li>'Asia/Amman'</li>\n",
       "\t<li>'Asia/Anadyr'</li>\n",
       "\t<li>'Asia/Aqtau'</li>\n",
       "\t<li>'Asia/Aqtobe'</li>\n",
       "\t<li>'Asia/Ashgabat'</li>\n",
       "\t<li>'Asia/Ashkhabad'</li>\n",
       "\t<li>'Asia/Atyrau'</li>\n",
       "\t<li>'Asia/Baghdad'</li>\n",
       "\t<li>'Asia/Bahrain'</li>\n",
       "\t<li>'Asia/Baku'</li>\n",
       "\t<li>'Asia/Bangkok'</li>\n",
       "\t<li>'Asia/Barnaul'</li>\n",
       "\t<li>'Asia/Beirut'</li>\n",
       "\t<li>'Asia/Bishkek'</li>\n",
       "\t<li>'Asia/Brunei'</li>\n",
       "\t<li>'Asia/Calcutta'</li>\n",
       "\t<li>'Asia/Chita'</li>\n",
       "\t<li>'Asia/Choibalsan'</li>\n",
       "\t<li>'Asia/Chongqing'</li>\n",
       "\t<li>'Asia/Chungking'</li>\n",
       "\t<li>'Asia/Colombo'</li>\n",
       "\t<li>'Asia/Dacca'</li>\n",
       "\t<li>'Asia/Damascus'</li>\n",
       "\t<li>'Asia/Dhaka'</li>\n",
       "\t<li>'Asia/Dili'</li>\n",
       "\t<li>'Asia/Dubai'</li>\n",
       "\t<li>'Asia/Dushanbe'</li>\n",
       "\t<li>'Asia/Famagusta'</li>\n",
       "\t<li>'Asia/Gaza'</li>\n",
       "\t<li>'Asia/Harbin'</li>\n",
       "\t<li>'Asia/Hebron'</li>\n",
       "\t<li>'Asia/Ho_Chi_Minh'</li>\n",
       "\t<li>'Asia/Hong_Kong'</li>\n",
       "\t<li>'Asia/Hovd'</li>\n",
       "\t<li>'Asia/Irkutsk'</li>\n",
       "\t<li>'Asia/Istanbul'</li>\n",
       "\t<li>'Asia/Jakarta'</li>\n",
       "\t<li>'Asia/Jayapura'</li>\n",
       "\t<li>'Asia/Jerusalem'</li>\n",
       "\t<li>'Asia/Kabul'</li>\n",
       "\t<li>'Asia/Kamchatka'</li>\n",
       "\t<li>'Asia/Karachi'</li>\n",
       "\t<li>'Asia/Kashgar'</li>\n",
       "\t<li>'Asia/Kathmandu'</li>\n",
       "\t<li>'Asia/Katmandu'</li>\n",
       "\t<li>'Asia/Khandyga'</li>\n",
       "\t<li>'Asia/Kolkata'</li>\n",
       "\t<li>'Asia/Krasnoyarsk'</li>\n",
       "\t<li>'Asia/Kuala_Lumpur'</li>\n",
       "\t<li>'Asia/Kuching'</li>\n",
       "\t<li>'Asia/Kuwait'</li>\n",
       "\t<li>'Asia/Macao'</li>\n",
       "\t<li>'Asia/Macau'</li>\n",
       "\t<li>'Asia/Magadan'</li>\n",
       "\t<li>'Asia/Makassar'</li>\n",
       "\t<li>'Asia/Manila'</li>\n",
       "\t<li>'Asia/Muscat'</li>\n",
       "\t<li>'Asia/Nicosia'</li>\n",
       "\t<li>'Asia/Novokuznetsk'</li>\n",
       "\t<li>'Asia/Novosibirsk'</li>\n",
       "\t<li>'Asia/Omsk'</li>\n",
       "\t<li>'Asia/Oral'</li>\n",
       "\t<li>'Asia/Phnom_Penh'</li>\n",
       "\t<li>'Asia/Pontianak'</li>\n",
       "\t<li>'Asia/Pyongyang'</li>\n",
       "\t<li>'Asia/Qatar'</li>\n",
       "\t<li>'Asia/Qostanay'</li>\n",
       "\t<li>'Asia/Qyzylorda'</li>\n",
       "\t<li>'Asia/Rangoon'</li>\n",
       "\t<li>'Asia/Riyadh'</li>\n",
       "\t<li>'Asia/Saigon'</li>\n",
       "\t<li>'Asia/Sakhalin'</li>\n",
       "\t<li>'Asia/Samarkand'</li>\n",
       "\t<li>'Asia/Seoul'</li>\n",
       "\t<li>'Asia/Shanghai'</li>\n",
       "\t<li>'Asia/Singapore'</li>\n",
       "\t<li>'Asia/Srednekolymsk'</li>\n",
       "\t<li>'Asia/Taipei'</li>\n",
       "\t<li>'Asia/Tashkent'</li>\n",
       "\t<li>'Asia/Tbilisi'</li>\n",
       "\t<li>'Asia/Tehran'</li>\n",
       "\t<li>'Asia/Tel_Aviv'</li>\n",
       "\t<li>'Asia/Thimbu'</li>\n",
       "\t<li>'Asia/Thimphu'</li>\n",
       "\t<li>'Asia/Tokyo'</li>\n",
       "\t<li>'Asia/Tomsk'</li>\n",
       "\t<li>'Asia/Ujung_Pandang'</li>\n",
       "\t<li>'Asia/Ulaanbaatar'</li>\n",
       "\t<li>'Asia/Ulan_Bator'</li>\n",
       "\t<li>'Asia/Urumqi'</li>\n",
       "\t<li>'Asia/Ust-Nera'</li>\n",
       "\t<li>'Asia/Vientiane'</li>\n",
       "\t<li>'Asia/Vladivostok'</li>\n",
       "\t<li>'Asia/Yakutsk'</li>\n",
       "\t<li>'Asia/Yangon'</li>\n",
       "\t<li>'Asia/Yekaterinburg'</li>\n",
       "\t<li>'Asia/Yerevan'</li>\n",
       "\t<li>'Atlantic/Azores'</li>\n",
       "\t<li>'Atlantic/Bermuda'</li>\n",
       "\t<li>'Atlantic/Canary'</li>\n",
       "\t<li>'Atlantic/Cape_Verde'</li>\n",
       "\t<li>'Atlantic/Faeroe'</li>\n",
       "\t<li>'Atlantic/Faroe'</li>\n",
       "\t<li>'Atlantic/Jan_Mayen'</li>\n",
       "\t<li>'Atlantic/Madeira'</li>\n",
       "\t<li>'Atlantic/Reykjavik'</li>\n",
       "\t<li>'Atlantic/South_Georgia'</li>\n",
       "\t<li>'Atlantic/St_Helena'</li>\n",
       "\t<li>'Atlantic/Stanley'</li>\n",
       "\t<li>'Australia/ACT'</li>\n",
       "\t<li>'Australia/Adelaide'</li>\n",
       "\t<li>'Australia/Brisbane'</li>\n",
       "\t<li>'Australia/Broken_Hill'</li>\n",
       "\t<li>'Australia/Canberra'</li>\n",
       "\t<li>'Australia/Currie'</li>\n",
       "\t<li>'Australia/Darwin'</li>\n",
       "\t<li>'Australia/Eucla'</li>\n",
       "\t<li>'Australia/Hobart'</li>\n",
       "\t<li>'Australia/LHI'</li>\n",
       "\t<li>'Australia/Lindeman'</li>\n",
       "\t<li>'Australia/Lord_Howe'</li>\n",
       "\t<li>'Australia/Melbourne'</li>\n",
       "\t<li>'Australia/North'</li>\n",
       "\t<li>'Australia/NSW'</li>\n",
       "\t<li>'Australia/Perth'</li>\n",
       "\t<li>'Australia/Queensland'</li>\n",
       "\t<li>'Australia/South'</li>\n",
       "\t<li>'Australia/Sydney'</li>\n",
       "\t<li>'Australia/Tasmania'</li>\n",
       "\t<li>'Australia/Victoria'</li>\n",
       "\t<li>'Australia/West'</li>\n",
       "\t<li>'Australia/Yancowinna'</li>\n",
       "\t<li>'Brazil/Acre'</li>\n",
       "\t<li>'Brazil/DeNoronha'</li>\n",
       "\t<li>'Brazil/East'</li>\n",
       "\t<li>'Brazil/West'</li>\n",
       "\t<li>'Canada/Atlantic'</li>\n",
       "\t<li>'Canada/Central'</li>\n",
       "\t<li>'Canada/Eastern'</li>\n",
       "\t<li>'Canada/Mountain'</li>\n",
       "\t<li>'Canada/Newfoundland'</li>\n",
       "\t<li>'Canada/Pacific'</li>\n",
       "\t<li>'Canada/Saskatchewan'</li>\n",
       "\t<li>'Canada/Yukon'</li>\n",
       "\t<li>'CET'</li>\n",
       "\t<li>'Chile/Continental'</li>\n",
       "\t<li>'Chile/EasterIsland'</li>\n",
       "\t<li>'CST6CDT'</li>\n",
       "\t<li>'Cuba'</li>\n",
       "\t<li>'EET'</li>\n",
       "\t<li>'Egypt'</li>\n",
       "\t<li>'Eire'</li>\n",
       "\t<li>'EST'</li>\n",
       "\t<li>'EST5EDT'</li>\n",
       "\t<li>'Etc/GMT'</li>\n",
       "\t<li>'Etc/GMT-0'</li>\n",
       "\t<li>'Etc/GMT-1'</li>\n",
       "\t<li>'Etc/GMT-10'</li>\n",
       "\t<li>'Etc/GMT-11'</li>\n",
       "\t<li>'Etc/GMT-12'</li>\n",
       "\t<li>'Etc/GMT-13'</li>\n",
       "\t<li>'Etc/GMT-14'</li>\n",
       "\t<li>'Etc/GMT-2'</li>\n",
       "\t<li>'Etc/GMT-3'</li>\n",
       "\t<li>'Etc/GMT-4'</li>\n",
       "\t<li>'Etc/GMT-5'</li>\n",
       "\t<li>'Etc/GMT-6'</li>\n",
       "\t<li>'Etc/GMT-7'</li>\n",
       "\t<li>'Etc/GMT-8'</li>\n",
       "\t<li>'Etc/GMT-9'</li>\n",
       "\t<li>'Etc/GMT+0'</li>\n",
       "\t<li>'Etc/GMT+1'</li>\n",
       "\t<li>'Etc/GMT+10'</li>\n",
       "\t<li>'Etc/GMT+11'</li>\n",
       "\t<li>'Etc/GMT+12'</li>\n",
       "\t<li>'Etc/GMT+2'</li>\n",
       "\t<li>'Etc/GMT+3'</li>\n",
       "\t<li>'Etc/GMT+4'</li>\n",
       "\t<li>'Etc/GMT+5'</li>\n",
       "\t<li>'Etc/GMT+6'</li>\n",
       "\t<li>'Etc/GMT+7'</li>\n",
       "\t<li>'Etc/GMT+8'</li>\n",
       "\t<li>'Etc/GMT+9'</li>\n",
       "\t<li>'Etc/GMT0'</li>\n",
       "\t<li>'Etc/Greenwich'</li>\n",
       "\t<li>'Etc/UCT'</li>\n",
       "\t<li>'Etc/Universal'</li>\n",
       "\t<li>'Etc/UTC'</li>\n",
       "\t<li>'Etc/Zulu'</li>\n",
       "\t<li>'Europe/Amsterdam'</li>\n",
       "\t<li>'Europe/Andorra'</li>\n",
       "\t<li>'Europe/Astrakhan'</li>\n",
       "\t<li>'Europe/Athens'</li>\n",
       "\t<li>'Europe/Belfast'</li>\n",
       "\t<li>'Europe/Belgrade'</li>\n",
       "\t<li>'Europe/Berlin'</li>\n",
       "\t<li>'Europe/Bratislava'</li>\n",
       "\t<li>'Europe/Brussels'</li>\n",
       "\t<li>'Europe/Bucharest'</li>\n",
       "\t<li>'Europe/Budapest'</li>\n",
       "\t<li>'Europe/Busingen'</li>\n",
       "\t<li>'Europe/Chisinau'</li>\n",
       "\t<li>'Europe/Copenhagen'</li>\n",
       "\t<li>'Europe/Dublin'</li>\n",
       "\t<li>'Europe/Gibraltar'</li>\n",
       "\t<li>'Europe/Guernsey'</li>\n",
       "\t<li>'Europe/Helsinki'</li>\n",
       "\t<li>'Europe/Isle_of_Man'</li>\n",
       "\t<li>'Europe/Istanbul'</li>\n",
       "\t<li>'Europe/Jersey'</li>\n",
       "\t<li>'Europe/Kaliningrad'</li>\n",
       "\t<li>'Europe/Kiev'</li>\n",
       "\t<li>'Europe/Kirov'</li>\n",
       "\t<li>'Europe/Lisbon'</li>\n",
       "\t<li>'Europe/Ljubljana'</li>\n",
       "\t<li>'Europe/London'</li>\n",
       "\t<li>'Europe/Luxembourg'</li>\n",
       "\t<li>'Europe/Madrid'</li>\n",
       "\t<li>'Europe/Malta'</li>\n",
       "\t<li>'Europe/Mariehamn'</li>\n",
       "\t<li>'Europe/Minsk'</li>\n",
       "\t<li>'Europe/Monaco'</li>\n",
       "\t<li>'Europe/Moscow'</li>\n",
       "\t<li>'Europe/Nicosia'</li>\n",
       "\t<li>'Europe/Oslo'</li>\n",
       "\t<li>'Europe/Paris'</li>\n",
       "\t<li>'Europe/Podgorica'</li>\n",
       "\t<li>'Europe/Prague'</li>\n",
       "\t<li>'Europe/Riga'</li>\n",
       "\t<li>'Europe/Rome'</li>\n",
       "\t<li>'Europe/Samara'</li>\n",
       "\t<li>'Europe/San_Marino'</li>\n",
       "\t<li>'Europe/Sarajevo'</li>\n",
       "\t<li>'Europe/Saratov'</li>\n",
       "\t<li>'Europe/Simferopol'</li>\n",
       "\t<li>'Europe/Skopje'</li>\n",
       "\t<li>'Europe/Sofia'</li>\n",
       "\t<li>'Europe/Stockholm'</li>\n",
       "\t<li>'Europe/Tallinn'</li>\n",
       "\t<li>'Europe/Tirane'</li>\n",
       "\t<li>'Europe/Tiraspol'</li>\n",
       "\t<li>'Europe/Ulyanovsk'</li>\n",
       "\t<li>'Europe/Uzhgorod'</li>\n",
       "\t<li>'Europe/Vaduz'</li>\n",
       "\t<li>'Europe/Vatican'</li>\n",
       "\t<li>'Europe/Vienna'</li>\n",
       "\t<li>'Europe/Vilnius'</li>\n",
       "\t<li>'Europe/Volgograd'</li>\n",
       "\t<li>'Europe/Warsaw'</li>\n",
       "\t<li>'Europe/Zagreb'</li>\n",
       "\t<li>'Europe/Zaporozhye'</li>\n",
       "\t<li>'Europe/Zurich'</li>\n",
       "\t<li>'GB'</li>\n",
       "\t<li>'GB-Eire'</li>\n",
       "\t<li>'GMT'</li>\n",
       "\t<li>'GMT-0'</li>\n",
       "\t<li>'GMT+0'</li>\n",
       "\t<li>'GMT0'</li>\n",
       "\t<li>'Greenwich'</li>\n",
       "\t<li>'Hongkong'</li>\n",
       "\t<li>'HST'</li>\n",
       "\t<li>'Iceland'</li>\n",
       "\t<li>'Indian/Antananarivo'</li>\n",
       "\t<li>'Indian/Chagos'</li>\n",
       "\t<li>'Indian/Christmas'</li>\n",
       "\t<li>'Indian/Cocos'</li>\n",
       "\t<li>'Indian/Comoro'</li>\n",
       "\t<li>'Indian/Kerguelen'</li>\n",
       "\t<li>'Indian/Mahe'</li>\n",
       "\t<li>'Indian/Maldives'</li>\n",
       "\t<li>'Indian/Mauritius'</li>\n",
       "\t<li>'Indian/Mayotte'</li>\n",
       "\t<li>'Indian/Reunion'</li>\n",
       "\t<li>'Iran'</li>\n",
       "\t<li>'Israel'</li>\n",
       "\t<li>'Jamaica'</li>\n",
       "\t<li>'Japan'</li>\n",
       "\t<li>'Kwajalein'</li>\n",
       "\t<li>'Libya'</li>\n",
       "\t<li>'MET'</li>\n",
       "\t<li>'Mexico/BajaNorte'</li>\n",
       "\t<li>'Mexico/BajaSur'</li>\n",
       "\t<li>'Mexico/General'</li>\n",
       "\t<li>'MST'</li>\n",
       "\t<li>'MST7MDT'</li>\n",
       "\t<li>'Navajo'</li>\n",
       "\t<li>'NZ'</li>\n",
       "\t<li>'NZ-CHAT'</li>\n",
       "\t<li>'Pacific/Apia'</li>\n",
       "\t<li>'Pacific/Auckland'</li>\n",
       "\t<li>'Pacific/Bougainville'</li>\n",
       "\t<li>'Pacific/Chatham'</li>\n",
       "\t<li>'Pacific/Chuuk'</li>\n",
       "\t<li>'Pacific/Easter'</li>\n",
       "\t<li>'Pacific/Efate'</li>\n",
       "\t<li>'Pacific/Enderbury'</li>\n",
       "\t<li>'Pacific/Fakaofo'</li>\n",
       "\t<li>'Pacific/Fiji'</li>\n",
       "\t<li>'Pacific/Funafuti'</li>\n",
       "\t<li>'Pacific/Galapagos'</li>\n",
       "\t<li>'Pacific/Gambier'</li>\n",
       "\t<li>'Pacific/Guadalcanal'</li>\n",
       "\t<li>'Pacific/Guam'</li>\n",
       "\t<li>'Pacific/Honolulu'</li>\n",
       "\t<li>'Pacific/Johnston'</li>\n",
       "\t<li>'Pacific/Kiritimati'</li>\n",
       "\t<li>'Pacific/Kosrae'</li>\n",
       "\t<li>'Pacific/Kwajalein'</li>\n",
       "\t<li>'Pacific/Majuro'</li>\n",
       "\t<li>'Pacific/Marquesas'</li>\n",
       "\t<li>'Pacific/Midway'</li>\n",
       "\t<li>'Pacific/Nauru'</li>\n",
       "\t<li>'Pacific/Niue'</li>\n",
       "\t<li>'Pacific/Norfolk'</li>\n",
       "\t<li>'Pacific/Noumea'</li>\n",
       "\t<li>'Pacific/Pago_Pago'</li>\n",
       "\t<li>'Pacific/Palau'</li>\n",
       "\t<li>'Pacific/Pitcairn'</li>\n",
       "\t<li>'Pacific/Pohnpei'</li>\n",
       "\t<li>'Pacific/Ponape'</li>\n",
       "\t<li>'Pacific/Port_Moresby'</li>\n",
       "\t<li>'Pacific/Rarotonga'</li>\n",
       "\t<li>'Pacific/Saipan'</li>\n",
       "\t<li>'Pacific/Samoa'</li>\n",
       "\t<li>'Pacific/Tahiti'</li>\n",
       "\t<li>'Pacific/Tarawa'</li>\n",
       "\t<li>'Pacific/Tongatapu'</li>\n",
       "\t<li>'Pacific/Truk'</li>\n",
       "\t<li>'Pacific/Wake'</li>\n",
       "\t<li>'Pacific/Wallis'</li>\n",
       "\t<li>'Pacific/Yap'</li>\n",
       "\t<li>'Poland'</li>\n",
       "\t<li>'Portugal'</li>\n",
       "\t<li>'PRC'</li>\n",
       "\t<li>'PST8PDT'</li>\n",
       "\t<li>'ROC'</li>\n",
       "\t<li>'ROK'</li>\n",
       "\t<li>'Singapore'</li>\n",
       "\t<li>'Turkey'</li>\n",
       "\t<li>'UCT'</li>\n",
       "\t<li>'Universal'</li>\n",
       "\t<li>'US/Alaska'</li>\n",
       "\t<li>'US/Aleutian'</li>\n",
       "\t<li>'US/Arizona'</li>\n",
       "\t<li>'US/Central'</li>\n",
       "\t<li>'US/East-Indiana'</li>\n",
       "\t<li>'US/Eastern'</li>\n",
       "\t<li>'US/Hawaii'</li>\n",
       "\t<li>'US/Indiana-Starke'</li>\n",
       "\t<li>'US/Michigan'</li>\n",
       "\t<li>'US/Mountain'</li>\n",
       "\t<li>'US/Pacific'</li>\n",
       "\t<li>'US/Pacific-New'</li>\n",
       "\t<li>'US/Samoa'</li>\n",
       "\t<li>'UTC'</li>\n",
       "\t<li>'W-SU'</li>\n",
       "\t<li>'WET'</li>\n",
       "\t<li>'Zulu'</li>\n",
       "</ol>\n"
      ],
      "text/latex": [
       "\\begin{enumerate*}\n",
       "\\item 'Africa/Abidjan'\n",
       "\\item 'Africa/Accra'\n",
       "\\item 'Africa/Addis\\_Ababa'\n",
       "\\item 'Africa/Algiers'\n",
       "\\item 'Africa/Asmara'\n",
       "\\item 'Africa/Asmera'\n",
       "\\item 'Africa/Bamako'\n",
       "\\item 'Africa/Bangui'\n",
       "\\item 'Africa/Banjul'\n",
       "\\item 'Africa/Bissau'\n",
       "\\item 'Africa/Blantyre'\n",
       "\\item 'Africa/Brazzaville'\n",
       "\\item 'Africa/Bujumbura'\n",
       "\\item 'Africa/Cairo'\n",
       "\\item 'Africa/Casablanca'\n",
       "\\item 'Africa/Ceuta'\n",
       "\\item 'Africa/Conakry'\n",
       "\\item 'Africa/Dakar'\n",
       "\\item 'Africa/Dar\\_es\\_Salaam'\n",
       "\\item 'Africa/Djibouti'\n",
       "\\item 'Africa/Douala'\n",
       "\\item 'Africa/El\\_Aaiun'\n",
       "\\item 'Africa/Freetown'\n",
       "\\item 'Africa/Gaborone'\n",
       "\\item 'Africa/Harare'\n",
       "\\item 'Africa/Johannesburg'\n",
       "\\item 'Africa/Juba'\n",
       "\\item 'Africa/Kampala'\n",
       "\\item 'Africa/Khartoum'\n",
       "\\item 'Africa/Kigali'\n",
       "\\item 'Africa/Kinshasa'\n",
       "\\item 'Africa/Lagos'\n",
       "\\item 'Africa/Libreville'\n",
       "\\item 'Africa/Lome'\n",
       "\\item 'Africa/Luanda'\n",
       "\\item 'Africa/Lubumbashi'\n",
       "\\item 'Africa/Lusaka'\n",
       "\\item 'Africa/Malabo'\n",
       "\\item 'Africa/Maputo'\n",
       "\\item 'Africa/Maseru'\n",
       "\\item 'Africa/Mbabane'\n",
       "\\item 'Africa/Mogadishu'\n",
       "\\item 'Africa/Monrovia'\n",
       "\\item 'Africa/Nairobi'\n",
       "\\item 'Africa/Ndjamena'\n",
       "\\item 'Africa/Niamey'\n",
       "\\item 'Africa/Nouakchott'\n",
       "\\item 'Africa/Ouagadougou'\n",
       "\\item 'Africa/Porto-Novo'\n",
       "\\item 'Africa/Sao\\_Tome'\n",
       "\\item 'Africa/Timbuktu'\n",
       "\\item 'Africa/Tripoli'\n",
       "\\item 'Africa/Tunis'\n",
       "\\item 'Africa/Windhoek'\n",
       "\\item 'America/Adak'\n",
       "\\item 'America/Anchorage'\n",
       "\\item 'America/Anguilla'\n",
       "\\item 'America/Antigua'\n",
       "\\item 'America/Araguaina'\n",
       "\\item 'America/Argentina/Buenos\\_Aires'\n",
       "\\item 'America/Argentina/Catamarca'\n",
       "\\item 'America/Argentina/ComodRivadavia'\n",
       "\\item 'America/Argentina/Cordoba'\n",
       "\\item 'America/Argentina/Jujuy'\n",
       "\\item 'America/Argentina/La\\_Rioja'\n",
       "\\item 'America/Argentina/Mendoza'\n",
       "\\item 'America/Argentina/Rio\\_Gallegos'\n",
       "\\item 'America/Argentina/Salta'\n",
       "\\item 'America/Argentina/San\\_Juan'\n",
       "\\item 'America/Argentina/San\\_Luis'\n",
       "\\item 'America/Argentina/Tucuman'\n",
       "\\item 'America/Argentina/Ushuaia'\n",
       "\\item 'America/Aruba'\n",
       "\\item 'America/Asuncion'\n",
       "\\item 'America/Atikokan'\n",
       "\\item 'America/Atka'\n",
       "\\item 'America/Bahia'\n",
       "\\item 'America/Bahia\\_Banderas'\n",
       "\\item 'America/Barbados'\n",
       "\\item 'America/Belem'\n",
       "\\item 'America/Belize'\n",
       "\\item 'America/Blanc-Sablon'\n",
       "\\item 'America/Boa\\_Vista'\n",
       "\\item 'America/Bogota'\n",
       "\\item 'America/Boise'\n",
       "\\item 'America/Buenos\\_Aires'\n",
       "\\item 'America/Cambridge\\_Bay'\n",
       "\\item 'America/Campo\\_Grande'\n",
       "\\item 'America/Cancun'\n",
       "\\item 'America/Caracas'\n",
       "\\item 'America/Catamarca'\n",
       "\\item 'America/Cayenne'\n",
       "\\item 'America/Cayman'\n",
       "\\item 'America/Chicago'\n",
       "\\item 'America/Chihuahua'\n",
       "\\item 'America/Coral\\_Harbour'\n",
       "\\item 'America/Cordoba'\n",
       "\\item 'America/Costa\\_Rica'\n",
       "\\item 'America/Creston'\n",
       "\\item 'America/Cuiaba'\n",
       "\\item 'America/Curacao'\n",
       "\\item 'America/Danmarkshavn'\n",
       "\\item 'America/Dawson'\n",
       "\\item 'America/Dawson\\_Creek'\n",
       "\\item 'America/Denver'\n",
       "\\item 'America/Detroit'\n",
       "\\item 'America/Dominica'\n",
       "\\item 'America/Edmonton'\n",
       "\\item 'America/Eirunepe'\n",
       "\\item 'America/El\\_Salvador'\n",
       "\\item 'America/Ensenada'\n",
       "\\item 'America/Fort\\_Nelson'\n",
       "\\item 'America/Fort\\_Wayne'\n",
       "\\item 'America/Fortaleza'\n",
       "\\item 'America/Glace\\_Bay'\n",
       "\\item 'America/Godthab'\n",
       "\\item 'America/Goose\\_Bay'\n",
       "\\item 'America/Grand\\_Turk'\n",
       "\\item 'America/Grenada'\n",
       "\\item 'America/Guadeloupe'\n",
       "\\item 'America/Guatemala'\n",
       "\\item 'America/Guayaquil'\n",
       "\\item 'America/Guyana'\n",
       "\\item 'America/Halifax'\n",
       "\\item 'America/Havana'\n",
       "\\item 'America/Hermosillo'\n",
       "\\item 'America/Indiana/Indianapolis'\n",
       "\\item 'America/Indiana/Knox'\n",
       "\\item 'America/Indiana/Marengo'\n",
       "\\item 'America/Indiana/Petersburg'\n",
       "\\item 'America/Indiana/Tell\\_City'\n",
       "\\item 'America/Indiana/Vevay'\n",
       "\\item 'America/Indiana/Vincennes'\n",
       "\\item 'America/Indiana/Winamac'\n",
       "\\item 'America/Indianapolis'\n",
       "\\item 'America/Inuvik'\n",
       "\\item 'America/Iqaluit'\n",
       "\\item 'America/Jamaica'\n",
       "\\item 'America/Jujuy'\n",
       "\\item 'America/Juneau'\n",
       "\\item 'America/Kentucky/Louisville'\n",
       "\\item 'America/Kentucky/Monticello'\n",
       "\\item 'America/Knox\\_IN'\n",
       "\\item 'America/Kralendijk'\n",
       "\\item 'America/La\\_Paz'\n",
       "\\item 'America/Lima'\n",
       "\\item 'America/Los\\_Angeles'\n",
       "\\item 'America/Louisville'\n",
       "\\item 'America/Lower\\_Princes'\n",
       "\\item 'America/Maceio'\n",
       "\\item 'America/Managua'\n",
       "\\item 'America/Manaus'\n",
       "\\item 'America/Marigot'\n",
       "\\item 'America/Martinique'\n",
       "\\item 'America/Matamoros'\n",
       "\\item 'America/Mazatlan'\n",
       "\\item 'America/Mendoza'\n",
       "\\item 'America/Menominee'\n",
       "\\item 'America/Merida'\n",
       "\\item 'America/Metlakatla'\n",
       "\\item 'America/Mexico\\_City'\n",
       "\\item 'America/Miquelon'\n",
       "\\item 'America/Moncton'\n",
       "\\item 'America/Monterrey'\n",
       "\\item 'America/Montevideo'\n",
       "\\item 'America/Montreal'\n",
       "\\item 'America/Montserrat'\n",
       "\\item 'America/Nassau'\n",
       "\\item 'America/New\\_York'\n",
       "\\item 'America/Nipigon'\n",
       "\\item 'America/Nome'\n",
       "\\item 'America/Noronha'\n",
       "\\item 'America/North\\_Dakota/Beulah'\n",
       "\\item 'America/North\\_Dakota/Center'\n",
       "\\item 'America/North\\_Dakota/New\\_Salem'\n",
       "\\item 'America/Ojinaga'\n",
       "\\item 'America/Panama'\n",
       "\\item 'America/Pangnirtung'\n",
       "\\item 'America/Paramaribo'\n",
       "\\item 'America/Phoenix'\n",
       "\\item 'America/Port-au-Prince'\n",
       "\\item 'America/Port\\_of\\_Spain'\n",
       "\\item 'America/Porto\\_Acre'\n",
       "\\item 'America/Porto\\_Velho'\n",
       "\\item 'America/Puerto\\_Rico'\n",
       "\\item 'America/Punta\\_Arenas'\n",
       "\\item 'America/Rainy\\_River'\n",
       "\\item 'America/Rankin\\_Inlet'\n",
       "\\item 'America/Recife'\n",
       "\\item 'America/Regina'\n",
       "\\item 'America/Resolute'\n",
       "\\item 'America/Rio\\_Branco'\n",
       "\\item 'America/Rosario'\n",
       "\\item 'America/Santa\\_Isabel'\n",
       "\\item 'America/Santarem'\n",
       "\\item 'America/Santiago'\n",
       "\\item 'America/Santo\\_Domingo'\n",
       "\\item 'America/Sao\\_Paulo'\n",
       "\\item 'America/Scoresbysund'\n",
       "\\item 'America/Shiprock'\n",
       "\\item 'America/Sitka'\n",
       "\\item 'America/St\\_Barthelemy'\n",
       "\\item 'America/St\\_Johns'\n",
       "\\item 'America/St\\_Kitts'\n",
       "\\item 'America/St\\_Lucia'\n",
       "\\item 'America/St\\_Thomas'\n",
       "\\item 'America/St\\_Vincent'\n",
       "\\item 'America/Swift\\_Current'\n",
       "\\item 'America/Tegucigalpa'\n",
       "\\item 'America/Thule'\n",
       "\\item 'America/Thunder\\_Bay'\n",
       "\\item 'America/Tijuana'\n",
       "\\item 'America/Toronto'\n",
       "\\item 'America/Tortola'\n",
       "\\item 'America/Vancouver'\n",
       "\\item 'America/Virgin'\n",
       "\\item 'America/Whitehorse'\n",
       "\\item 'America/Winnipeg'\n",
       "\\item 'America/Yakutat'\n",
       "\\item 'America/Yellowknife'\n",
       "\\item 'Antarctica/Casey'\n",
       "\\item 'Antarctica/Davis'\n",
       "\\item 'Antarctica/DumontDUrville'\n",
       "\\item 'Antarctica/Macquarie'\n",
       "\\item 'Antarctica/Mawson'\n",
       "\\item 'Antarctica/McMurdo'\n",
       "\\item 'Antarctica/Palmer'\n",
       "\\item 'Antarctica/Rothera'\n",
       "\\item 'Antarctica/South\\_Pole'\n",
       "\\item 'Antarctica/Syowa'\n",
       "\\item 'Antarctica/Troll'\n",
       "\\item 'Antarctica/Vostok'\n",
       "\\item 'Arctic/Longyearbyen'\n",
       "\\item 'Asia/Aden'\n",
       "\\item 'Asia/Almaty'\n",
       "\\item 'Asia/Amman'\n",
       "\\item 'Asia/Anadyr'\n",
       "\\item 'Asia/Aqtau'\n",
       "\\item 'Asia/Aqtobe'\n",
       "\\item 'Asia/Ashgabat'\n",
       "\\item 'Asia/Ashkhabad'\n",
       "\\item 'Asia/Atyrau'\n",
       "\\item 'Asia/Baghdad'\n",
       "\\item 'Asia/Bahrain'\n",
       "\\item 'Asia/Baku'\n",
       "\\item 'Asia/Bangkok'\n",
       "\\item 'Asia/Barnaul'\n",
       "\\item 'Asia/Beirut'\n",
       "\\item 'Asia/Bishkek'\n",
       "\\item 'Asia/Brunei'\n",
       "\\item 'Asia/Calcutta'\n",
       "\\item 'Asia/Chita'\n",
       "\\item 'Asia/Choibalsan'\n",
       "\\item 'Asia/Chongqing'\n",
       "\\item 'Asia/Chungking'\n",
       "\\item 'Asia/Colombo'\n",
       "\\item 'Asia/Dacca'\n",
       "\\item 'Asia/Damascus'\n",
       "\\item 'Asia/Dhaka'\n",
       "\\item 'Asia/Dili'\n",
       "\\item 'Asia/Dubai'\n",
       "\\item 'Asia/Dushanbe'\n",
       "\\item 'Asia/Famagusta'\n",
       "\\item 'Asia/Gaza'\n",
       "\\item 'Asia/Harbin'\n",
       "\\item 'Asia/Hebron'\n",
       "\\item 'Asia/Ho\\_Chi\\_Minh'\n",
       "\\item 'Asia/Hong\\_Kong'\n",
       "\\item 'Asia/Hovd'\n",
       "\\item 'Asia/Irkutsk'\n",
       "\\item 'Asia/Istanbul'\n",
       "\\item 'Asia/Jakarta'\n",
       "\\item 'Asia/Jayapura'\n",
       "\\item 'Asia/Jerusalem'\n",
       "\\item 'Asia/Kabul'\n",
       "\\item 'Asia/Kamchatka'\n",
       "\\item 'Asia/Karachi'\n",
       "\\item 'Asia/Kashgar'\n",
       "\\item 'Asia/Kathmandu'\n",
       "\\item 'Asia/Katmandu'\n",
       "\\item 'Asia/Khandyga'\n",
       "\\item 'Asia/Kolkata'\n",
       "\\item 'Asia/Krasnoyarsk'\n",
       "\\item 'Asia/Kuala\\_Lumpur'\n",
       "\\item 'Asia/Kuching'\n",
       "\\item 'Asia/Kuwait'\n",
       "\\item 'Asia/Macao'\n",
       "\\item 'Asia/Macau'\n",
       "\\item 'Asia/Magadan'\n",
       "\\item 'Asia/Makassar'\n",
       "\\item 'Asia/Manila'\n",
       "\\item 'Asia/Muscat'\n",
       "\\item 'Asia/Nicosia'\n",
       "\\item 'Asia/Novokuznetsk'\n",
       "\\item 'Asia/Novosibirsk'\n",
       "\\item 'Asia/Omsk'\n",
       "\\item 'Asia/Oral'\n",
       "\\item 'Asia/Phnom\\_Penh'\n",
       "\\item 'Asia/Pontianak'\n",
       "\\item 'Asia/Pyongyang'\n",
       "\\item 'Asia/Qatar'\n",
       "\\item 'Asia/Qostanay'\n",
       "\\item 'Asia/Qyzylorda'\n",
       "\\item 'Asia/Rangoon'\n",
       "\\item 'Asia/Riyadh'\n",
       "\\item 'Asia/Saigon'\n",
       "\\item 'Asia/Sakhalin'\n",
       "\\item 'Asia/Samarkand'\n",
       "\\item 'Asia/Seoul'\n",
       "\\item 'Asia/Shanghai'\n",
       "\\item 'Asia/Singapore'\n",
       "\\item 'Asia/Srednekolymsk'\n",
       "\\item 'Asia/Taipei'\n",
       "\\item 'Asia/Tashkent'\n",
       "\\item 'Asia/Tbilisi'\n",
       "\\item 'Asia/Tehran'\n",
       "\\item 'Asia/Tel\\_Aviv'\n",
       "\\item 'Asia/Thimbu'\n",
       "\\item 'Asia/Thimphu'\n",
       "\\item 'Asia/Tokyo'\n",
       "\\item 'Asia/Tomsk'\n",
       "\\item 'Asia/Ujung\\_Pandang'\n",
       "\\item 'Asia/Ulaanbaatar'\n",
       "\\item 'Asia/Ulan\\_Bator'\n",
       "\\item 'Asia/Urumqi'\n",
       "\\item 'Asia/Ust-Nera'\n",
       "\\item 'Asia/Vientiane'\n",
       "\\item 'Asia/Vladivostok'\n",
       "\\item 'Asia/Yakutsk'\n",
       "\\item 'Asia/Yangon'\n",
       "\\item 'Asia/Yekaterinburg'\n",
       "\\item 'Asia/Yerevan'\n",
       "\\item 'Atlantic/Azores'\n",
       "\\item 'Atlantic/Bermuda'\n",
       "\\item 'Atlantic/Canary'\n",
       "\\item 'Atlantic/Cape\\_Verde'\n",
       "\\item 'Atlantic/Faeroe'\n",
       "\\item 'Atlantic/Faroe'\n",
       "\\item 'Atlantic/Jan\\_Mayen'\n",
       "\\item 'Atlantic/Madeira'\n",
       "\\item 'Atlantic/Reykjavik'\n",
       "\\item 'Atlantic/South\\_Georgia'\n",
       "\\item 'Atlantic/St\\_Helena'\n",
       "\\item 'Atlantic/Stanley'\n",
       "\\item 'Australia/ACT'\n",
       "\\item 'Australia/Adelaide'\n",
       "\\item 'Australia/Brisbane'\n",
       "\\item 'Australia/Broken\\_Hill'\n",
       "\\item 'Australia/Canberra'\n",
       "\\item 'Australia/Currie'\n",
       "\\item 'Australia/Darwin'\n",
       "\\item 'Australia/Eucla'\n",
       "\\item 'Australia/Hobart'\n",
       "\\item 'Australia/LHI'\n",
       "\\item 'Australia/Lindeman'\n",
       "\\item 'Australia/Lord\\_Howe'\n",
       "\\item 'Australia/Melbourne'\n",
       "\\item 'Australia/North'\n",
       "\\item 'Australia/NSW'\n",
       "\\item 'Australia/Perth'\n",
       "\\item 'Australia/Queensland'\n",
       "\\item 'Australia/South'\n",
       "\\item 'Australia/Sydney'\n",
       "\\item 'Australia/Tasmania'\n",
       "\\item 'Australia/Victoria'\n",
       "\\item 'Australia/West'\n",
       "\\item 'Australia/Yancowinna'\n",
       "\\item 'Brazil/Acre'\n",
       "\\item 'Brazil/DeNoronha'\n",
       "\\item 'Brazil/East'\n",
       "\\item 'Brazil/West'\n",
       "\\item 'Canada/Atlantic'\n",
       "\\item 'Canada/Central'\n",
       "\\item 'Canada/Eastern'\n",
       "\\item 'Canada/Mountain'\n",
       "\\item 'Canada/Newfoundland'\n",
       "\\item 'Canada/Pacific'\n",
       "\\item 'Canada/Saskatchewan'\n",
       "\\item 'Canada/Yukon'\n",
       "\\item 'CET'\n",
       "\\item 'Chile/Continental'\n",
       "\\item 'Chile/EasterIsland'\n",
       "\\item 'CST6CDT'\n",
       "\\item 'Cuba'\n",
       "\\item 'EET'\n",
       "\\item 'Egypt'\n",
       "\\item 'Eire'\n",
       "\\item 'EST'\n",
       "\\item 'EST5EDT'\n",
       "\\item 'Etc/GMT'\n",
       "\\item 'Etc/GMT-0'\n",
       "\\item 'Etc/GMT-1'\n",
       "\\item 'Etc/GMT-10'\n",
       "\\item 'Etc/GMT-11'\n",
       "\\item 'Etc/GMT-12'\n",
       "\\item 'Etc/GMT-13'\n",
       "\\item 'Etc/GMT-14'\n",
       "\\item 'Etc/GMT-2'\n",
       "\\item 'Etc/GMT-3'\n",
       "\\item 'Etc/GMT-4'\n",
       "\\item 'Etc/GMT-5'\n",
       "\\item 'Etc/GMT-6'\n",
       "\\item 'Etc/GMT-7'\n",
       "\\item 'Etc/GMT-8'\n",
       "\\item 'Etc/GMT-9'\n",
       "\\item 'Etc/GMT+0'\n",
       "\\item 'Etc/GMT+1'\n",
       "\\item 'Etc/GMT+10'\n",
       "\\item 'Etc/GMT+11'\n",
       "\\item 'Etc/GMT+12'\n",
       "\\item 'Etc/GMT+2'\n",
       "\\item 'Etc/GMT+3'\n",
       "\\item 'Etc/GMT+4'\n",
       "\\item 'Etc/GMT+5'\n",
       "\\item 'Etc/GMT+6'\n",
       "\\item 'Etc/GMT+7'\n",
       "\\item 'Etc/GMT+8'\n",
       "\\item 'Etc/GMT+9'\n",
       "\\item 'Etc/GMT0'\n",
       "\\item 'Etc/Greenwich'\n",
       "\\item 'Etc/UCT'\n",
       "\\item 'Etc/Universal'\n",
       "\\item 'Etc/UTC'\n",
       "\\item 'Etc/Zulu'\n",
       "\\item 'Europe/Amsterdam'\n",
       "\\item 'Europe/Andorra'\n",
       "\\item 'Europe/Astrakhan'\n",
       "\\item 'Europe/Athens'\n",
       "\\item 'Europe/Belfast'\n",
       "\\item 'Europe/Belgrade'\n",
       "\\item 'Europe/Berlin'\n",
       "\\item 'Europe/Bratislava'\n",
       "\\item 'Europe/Brussels'\n",
       "\\item 'Europe/Bucharest'\n",
       "\\item 'Europe/Budapest'\n",
       "\\item 'Europe/Busingen'\n",
       "\\item 'Europe/Chisinau'\n",
       "\\item 'Europe/Copenhagen'\n",
       "\\item 'Europe/Dublin'\n",
       "\\item 'Europe/Gibraltar'\n",
       "\\item 'Europe/Guernsey'\n",
       "\\item 'Europe/Helsinki'\n",
       "\\item 'Europe/Isle\\_of\\_Man'\n",
       "\\item 'Europe/Istanbul'\n",
       "\\item 'Europe/Jersey'\n",
       "\\item 'Europe/Kaliningrad'\n",
       "\\item 'Europe/Kiev'\n",
       "\\item 'Europe/Kirov'\n",
       "\\item 'Europe/Lisbon'\n",
       "\\item 'Europe/Ljubljana'\n",
       "\\item 'Europe/London'\n",
       "\\item 'Europe/Luxembourg'\n",
       "\\item 'Europe/Madrid'\n",
       "\\item 'Europe/Malta'\n",
       "\\item 'Europe/Mariehamn'\n",
       "\\item 'Europe/Minsk'\n",
       "\\item 'Europe/Monaco'\n",
       "\\item 'Europe/Moscow'\n",
       "\\item 'Europe/Nicosia'\n",
       "\\item 'Europe/Oslo'\n",
       "\\item 'Europe/Paris'\n",
       "\\item 'Europe/Podgorica'\n",
       "\\item 'Europe/Prague'\n",
       "\\item 'Europe/Riga'\n",
       "\\item 'Europe/Rome'\n",
       "\\item 'Europe/Samara'\n",
       "\\item 'Europe/San\\_Marino'\n",
       "\\item 'Europe/Sarajevo'\n",
       "\\item 'Europe/Saratov'\n",
       "\\item 'Europe/Simferopol'\n",
       "\\item 'Europe/Skopje'\n",
       "\\item 'Europe/Sofia'\n",
       "\\item 'Europe/Stockholm'\n",
       "\\item 'Europe/Tallinn'\n",
       "\\item 'Europe/Tirane'\n",
       "\\item 'Europe/Tiraspol'\n",
       "\\item 'Europe/Ulyanovsk'\n",
       "\\item 'Europe/Uzhgorod'\n",
       "\\item 'Europe/Vaduz'\n",
       "\\item 'Europe/Vatican'\n",
       "\\item 'Europe/Vienna'\n",
       "\\item 'Europe/Vilnius'\n",
       "\\item 'Europe/Volgograd'\n",
       "\\item 'Europe/Warsaw'\n",
       "\\item 'Europe/Zagreb'\n",
       "\\item 'Europe/Zaporozhye'\n",
       "\\item 'Europe/Zurich'\n",
       "\\item 'GB'\n",
       "\\item 'GB-Eire'\n",
       "\\item 'GMT'\n",
       "\\item 'GMT-0'\n",
       "\\item 'GMT+0'\n",
       "\\item 'GMT0'\n",
       "\\item 'Greenwich'\n",
       "\\item 'Hongkong'\n",
       "\\item 'HST'\n",
       "\\item 'Iceland'\n",
       "\\item 'Indian/Antananarivo'\n",
       "\\item 'Indian/Chagos'\n",
       "\\item 'Indian/Christmas'\n",
       "\\item 'Indian/Cocos'\n",
       "\\item 'Indian/Comoro'\n",
       "\\item 'Indian/Kerguelen'\n",
       "\\item 'Indian/Mahe'\n",
       "\\item 'Indian/Maldives'\n",
       "\\item 'Indian/Mauritius'\n",
       "\\item 'Indian/Mayotte'\n",
       "\\item 'Indian/Reunion'\n",
       "\\item 'Iran'\n",
       "\\item 'Israel'\n",
       "\\item 'Jamaica'\n",
       "\\item 'Japan'\n",
       "\\item 'Kwajalein'\n",
       "\\item 'Libya'\n",
       "\\item 'MET'\n",
       "\\item 'Mexico/BajaNorte'\n",
       "\\item 'Mexico/BajaSur'\n",
       "\\item 'Mexico/General'\n",
       "\\item 'MST'\n",
       "\\item 'MST7MDT'\n",
       "\\item 'Navajo'\n",
       "\\item 'NZ'\n",
       "\\item 'NZ-CHAT'\n",
       "\\item 'Pacific/Apia'\n",
       "\\item 'Pacific/Auckland'\n",
       "\\item 'Pacific/Bougainville'\n",
       "\\item 'Pacific/Chatham'\n",
       "\\item 'Pacific/Chuuk'\n",
       "\\item 'Pacific/Easter'\n",
       "\\item 'Pacific/Efate'\n",
       "\\item 'Pacific/Enderbury'\n",
       "\\item 'Pacific/Fakaofo'\n",
       "\\item 'Pacific/Fiji'\n",
       "\\item 'Pacific/Funafuti'\n",
       "\\item 'Pacific/Galapagos'\n",
       "\\item 'Pacific/Gambier'\n",
       "\\item 'Pacific/Guadalcanal'\n",
       "\\item 'Pacific/Guam'\n",
       "\\item 'Pacific/Honolulu'\n",
       "\\item 'Pacific/Johnston'\n",
       "\\item 'Pacific/Kiritimati'\n",
       "\\item 'Pacific/Kosrae'\n",
       "\\item 'Pacific/Kwajalein'\n",
       "\\item 'Pacific/Majuro'\n",
       "\\item 'Pacific/Marquesas'\n",
       "\\item 'Pacific/Midway'\n",
       "\\item 'Pacific/Nauru'\n",
       "\\item 'Pacific/Niue'\n",
       "\\item 'Pacific/Norfolk'\n",
       "\\item 'Pacific/Noumea'\n",
       "\\item 'Pacific/Pago\\_Pago'\n",
       "\\item 'Pacific/Palau'\n",
       "\\item 'Pacific/Pitcairn'\n",
       "\\item 'Pacific/Pohnpei'\n",
       "\\item 'Pacific/Ponape'\n",
       "\\item 'Pacific/Port\\_Moresby'\n",
       "\\item 'Pacific/Rarotonga'\n",
       "\\item 'Pacific/Saipan'\n",
       "\\item 'Pacific/Samoa'\n",
       "\\item 'Pacific/Tahiti'\n",
       "\\item 'Pacific/Tarawa'\n",
       "\\item 'Pacific/Tongatapu'\n",
       "\\item 'Pacific/Truk'\n",
       "\\item 'Pacific/Wake'\n",
       "\\item 'Pacific/Wallis'\n",
       "\\item 'Pacific/Yap'\n",
       "\\item 'Poland'\n",
       "\\item 'Portugal'\n",
       "\\item 'PRC'\n",
       "\\item 'PST8PDT'\n",
       "\\item 'ROC'\n",
       "\\item 'ROK'\n",
       "\\item 'Singapore'\n",
       "\\item 'Turkey'\n",
       "\\item 'UCT'\n",
       "\\item 'Universal'\n",
       "\\item 'US/Alaska'\n",
       "\\item 'US/Aleutian'\n",
       "\\item 'US/Arizona'\n",
       "\\item 'US/Central'\n",
       "\\item 'US/East-Indiana'\n",
       "\\item 'US/Eastern'\n",
       "\\item 'US/Hawaii'\n",
       "\\item 'US/Indiana-Starke'\n",
       "\\item 'US/Michigan'\n",
       "\\item 'US/Mountain'\n",
       "\\item 'US/Pacific'\n",
       "\\item 'US/Pacific-New'\n",
       "\\item 'US/Samoa'\n",
       "\\item 'UTC'\n",
       "\\item 'W-SU'\n",
       "\\item 'WET'\n",
       "\\item 'Zulu'\n",
       "\\end{enumerate*}\n"
      ],
      "text/markdown": [
       "1. 'Africa/Abidjan'\n",
       "2. 'Africa/Accra'\n",
       "3. 'Africa/Addis_Ababa'\n",
       "4. 'Africa/Algiers'\n",
       "5. 'Africa/Asmara'\n",
       "6. 'Africa/Asmera'\n",
       "7. 'Africa/Bamako'\n",
       "8. 'Africa/Bangui'\n",
       "9. 'Africa/Banjul'\n",
       "10. 'Africa/Bissau'\n",
       "11. 'Africa/Blantyre'\n",
       "12. 'Africa/Brazzaville'\n",
       "13. 'Africa/Bujumbura'\n",
       "14. 'Africa/Cairo'\n",
       "15. 'Africa/Casablanca'\n",
       "16. 'Africa/Ceuta'\n",
       "17. 'Africa/Conakry'\n",
       "18. 'Africa/Dakar'\n",
       "19. 'Africa/Dar_es_Salaam'\n",
       "20. 'Africa/Djibouti'\n",
       "21. 'Africa/Douala'\n",
       "22. 'Africa/El_Aaiun'\n",
       "23. 'Africa/Freetown'\n",
       "24. 'Africa/Gaborone'\n",
       "25. 'Africa/Harare'\n",
       "26. 'Africa/Johannesburg'\n",
       "27. 'Africa/Juba'\n",
       "28. 'Africa/Kampala'\n",
       "29. 'Africa/Khartoum'\n",
       "30. 'Africa/Kigali'\n",
       "31. 'Africa/Kinshasa'\n",
       "32. 'Africa/Lagos'\n",
       "33. 'Africa/Libreville'\n",
       "34. 'Africa/Lome'\n",
       "35. 'Africa/Luanda'\n",
       "36. 'Africa/Lubumbashi'\n",
       "37. 'Africa/Lusaka'\n",
       "38. 'Africa/Malabo'\n",
       "39. 'Africa/Maputo'\n",
       "40. 'Africa/Maseru'\n",
       "41. 'Africa/Mbabane'\n",
       "42. 'Africa/Mogadishu'\n",
       "43. 'Africa/Monrovia'\n",
       "44. 'Africa/Nairobi'\n",
       "45. 'Africa/Ndjamena'\n",
       "46. 'Africa/Niamey'\n",
       "47. 'Africa/Nouakchott'\n",
       "48. 'Africa/Ouagadougou'\n",
       "49. 'Africa/Porto-Novo'\n",
       "50. 'Africa/Sao_Tome'\n",
       "51. 'Africa/Timbuktu'\n",
       "52. 'Africa/Tripoli'\n",
       "53. 'Africa/Tunis'\n",
       "54. 'Africa/Windhoek'\n",
       "55. 'America/Adak'\n",
       "56. 'America/Anchorage'\n",
       "57. 'America/Anguilla'\n",
       "58. 'America/Antigua'\n",
       "59. 'America/Araguaina'\n",
       "60. 'America/Argentina/Buenos_Aires'\n",
       "61. 'America/Argentina/Catamarca'\n",
       "62. 'America/Argentina/ComodRivadavia'\n",
       "63. 'America/Argentina/Cordoba'\n",
       "64. 'America/Argentina/Jujuy'\n",
       "65. 'America/Argentina/La_Rioja'\n",
       "66. 'America/Argentina/Mendoza'\n",
       "67. 'America/Argentina/Rio_Gallegos'\n",
       "68. 'America/Argentina/Salta'\n",
       "69. 'America/Argentina/San_Juan'\n",
       "70. 'America/Argentina/San_Luis'\n",
       "71. 'America/Argentina/Tucuman'\n",
       "72. 'America/Argentina/Ushuaia'\n",
       "73. 'America/Aruba'\n",
       "74. 'America/Asuncion'\n",
       "75. 'America/Atikokan'\n",
       "76. 'America/Atka'\n",
       "77. 'America/Bahia'\n",
       "78. 'America/Bahia_Banderas'\n",
       "79. 'America/Barbados'\n",
       "80. 'America/Belem'\n",
       "81. 'America/Belize'\n",
       "82. 'America/Blanc-Sablon'\n",
       "83. 'America/Boa_Vista'\n",
       "84. 'America/Bogota'\n",
       "85. 'America/Boise'\n",
       "86. 'America/Buenos_Aires'\n",
       "87. 'America/Cambridge_Bay'\n",
       "88. 'America/Campo_Grande'\n",
       "89. 'America/Cancun'\n",
       "90. 'America/Caracas'\n",
       "91. 'America/Catamarca'\n",
       "92. 'America/Cayenne'\n",
       "93. 'America/Cayman'\n",
       "94. 'America/Chicago'\n",
       "95. 'America/Chihuahua'\n",
       "96. 'America/Coral_Harbour'\n",
       "97. 'America/Cordoba'\n",
       "98. 'America/Costa_Rica'\n",
       "99. 'America/Creston'\n",
       "100. 'America/Cuiaba'\n",
       "101. 'America/Curacao'\n",
       "102. 'America/Danmarkshavn'\n",
       "103. 'America/Dawson'\n",
       "104. 'America/Dawson_Creek'\n",
       "105. 'America/Denver'\n",
       "106. 'America/Detroit'\n",
       "107. 'America/Dominica'\n",
       "108. 'America/Edmonton'\n",
       "109. 'America/Eirunepe'\n",
       "110. 'America/El_Salvador'\n",
       "111. 'America/Ensenada'\n",
       "112. 'America/Fort_Nelson'\n",
       "113. 'America/Fort_Wayne'\n",
       "114. 'America/Fortaleza'\n",
       "115. 'America/Glace_Bay'\n",
       "116. 'America/Godthab'\n",
       "117. 'America/Goose_Bay'\n",
       "118. 'America/Grand_Turk'\n",
       "119. 'America/Grenada'\n",
       "120. 'America/Guadeloupe'\n",
       "121. 'America/Guatemala'\n",
       "122. 'America/Guayaquil'\n",
       "123. 'America/Guyana'\n",
       "124. 'America/Halifax'\n",
       "125. 'America/Havana'\n",
       "126. 'America/Hermosillo'\n",
       "127. 'America/Indiana/Indianapolis'\n",
       "128. 'America/Indiana/Knox'\n",
       "129. 'America/Indiana/Marengo'\n",
       "130. 'America/Indiana/Petersburg'\n",
       "131. 'America/Indiana/Tell_City'\n",
       "132. 'America/Indiana/Vevay'\n",
       "133. 'America/Indiana/Vincennes'\n",
       "134. 'America/Indiana/Winamac'\n",
       "135. 'America/Indianapolis'\n",
       "136. 'America/Inuvik'\n",
       "137. 'America/Iqaluit'\n",
       "138. 'America/Jamaica'\n",
       "139. 'America/Jujuy'\n",
       "140. 'America/Juneau'\n",
       "141. 'America/Kentucky/Louisville'\n",
       "142. 'America/Kentucky/Monticello'\n",
       "143. 'America/Knox_IN'\n",
       "144. 'America/Kralendijk'\n",
       "145. 'America/La_Paz'\n",
       "146. 'America/Lima'\n",
       "147. 'America/Los_Angeles'\n",
       "148. 'America/Louisville'\n",
       "149. 'America/Lower_Princes'\n",
       "150. 'America/Maceio'\n",
       "151. 'America/Managua'\n",
       "152. 'America/Manaus'\n",
       "153. 'America/Marigot'\n",
       "154. 'America/Martinique'\n",
       "155. 'America/Matamoros'\n",
       "156. 'America/Mazatlan'\n",
       "157. 'America/Mendoza'\n",
       "158. 'America/Menominee'\n",
       "159. 'America/Merida'\n",
       "160. 'America/Metlakatla'\n",
       "161. 'America/Mexico_City'\n",
       "162. 'America/Miquelon'\n",
       "163. 'America/Moncton'\n",
       "164. 'America/Monterrey'\n",
       "165. 'America/Montevideo'\n",
       "166. 'America/Montreal'\n",
       "167. 'America/Montserrat'\n",
       "168. 'America/Nassau'\n",
       "169. 'America/New_York'\n",
       "170. 'America/Nipigon'\n",
       "171. 'America/Nome'\n",
       "172. 'America/Noronha'\n",
       "173. 'America/North_Dakota/Beulah'\n",
       "174. 'America/North_Dakota/Center'\n",
       "175. 'America/North_Dakota/New_Salem'\n",
       "176. 'America/Ojinaga'\n",
       "177. 'America/Panama'\n",
       "178. 'America/Pangnirtung'\n",
       "179. 'America/Paramaribo'\n",
       "180. 'America/Phoenix'\n",
       "181. 'America/Port-au-Prince'\n",
       "182. 'America/Port_of_Spain'\n",
       "183. 'America/Porto_Acre'\n",
       "184. 'America/Porto_Velho'\n",
       "185. 'America/Puerto_Rico'\n",
       "186. 'America/Punta_Arenas'\n",
       "187. 'America/Rainy_River'\n",
       "188. 'America/Rankin_Inlet'\n",
       "189. 'America/Recife'\n",
       "190. 'America/Regina'\n",
       "191. 'America/Resolute'\n",
       "192. 'America/Rio_Branco'\n",
       "193. 'America/Rosario'\n",
       "194. 'America/Santa_Isabel'\n",
       "195. 'America/Santarem'\n",
       "196. 'America/Santiago'\n",
       "197. 'America/Santo_Domingo'\n",
       "198. 'America/Sao_Paulo'\n",
       "199. 'America/Scoresbysund'\n",
       "200. 'America/Shiprock'\n",
       "201. 'America/Sitka'\n",
       "202. 'America/St_Barthelemy'\n",
       "203. 'America/St_Johns'\n",
       "204. 'America/St_Kitts'\n",
       "205. 'America/St_Lucia'\n",
       "206. 'America/St_Thomas'\n",
       "207. 'America/St_Vincent'\n",
       "208. 'America/Swift_Current'\n",
       "209. 'America/Tegucigalpa'\n",
       "210. 'America/Thule'\n",
       "211. 'America/Thunder_Bay'\n",
       "212. 'America/Tijuana'\n",
       "213. 'America/Toronto'\n",
       "214. 'America/Tortola'\n",
       "215. 'America/Vancouver'\n",
       "216. 'America/Virgin'\n",
       "217. 'America/Whitehorse'\n",
       "218. 'America/Winnipeg'\n",
       "219. 'America/Yakutat'\n",
       "220. 'America/Yellowknife'\n",
       "221. 'Antarctica/Casey'\n",
       "222. 'Antarctica/Davis'\n",
       "223. 'Antarctica/DumontDUrville'\n",
       "224. 'Antarctica/Macquarie'\n",
       "225. 'Antarctica/Mawson'\n",
       "226. 'Antarctica/McMurdo'\n",
       "227. 'Antarctica/Palmer'\n",
       "228. 'Antarctica/Rothera'\n",
       "229. 'Antarctica/South_Pole'\n",
       "230. 'Antarctica/Syowa'\n",
       "231. 'Antarctica/Troll'\n",
       "232. 'Antarctica/Vostok'\n",
       "233. 'Arctic/Longyearbyen'\n",
       "234. 'Asia/Aden'\n",
       "235. 'Asia/Almaty'\n",
       "236. 'Asia/Amman'\n",
       "237. 'Asia/Anadyr'\n",
       "238. 'Asia/Aqtau'\n",
       "239. 'Asia/Aqtobe'\n",
       "240. 'Asia/Ashgabat'\n",
       "241. 'Asia/Ashkhabad'\n",
       "242. 'Asia/Atyrau'\n",
       "243. 'Asia/Baghdad'\n",
       "244. 'Asia/Bahrain'\n",
       "245. 'Asia/Baku'\n",
       "246. 'Asia/Bangkok'\n",
       "247. 'Asia/Barnaul'\n",
       "248. 'Asia/Beirut'\n",
       "249. 'Asia/Bishkek'\n",
       "250. 'Asia/Brunei'\n",
       "251. 'Asia/Calcutta'\n",
       "252. 'Asia/Chita'\n",
       "253. 'Asia/Choibalsan'\n",
       "254. 'Asia/Chongqing'\n",
       "255. 'Asia/Chungking'\n",
       "256. 'Asia/Colombo'\n",
       "257. 'Asia/Dacca'\n",
       "258. 'Asia/Damascus'\n",
       "259. 'Asia/Dhaka'\n",
       "260. 'Asia/Dili'\n",
       "261. 'Asia/Dubai'\n",
       "262. 'Asia/Dushanbe'\n",
       "263. 'Asia/Famagusta'\n",
       "264. 'Asia/Gaza'\n",
       "265. 'Asia/Harbin'\n",
       "266. 'Asia/Hebron'\n",
       "267. 'Asia/Ho_Chi_Minh'\n",
       "268. 'Asia/Hong_Kong'\n",
       "269. 'Asia/Hovd'\n",
       "270. 'Asia/Irkutsk'\n",
       "271. 'Asia/Istanbul'\n",
       "272. 'Asia/Jakarta'\n",
       "273. 'Asia/Jayapura'\n",
       "274. 'Asia/Jerusalem'\n",
       "275. 'Asia/Kabul'\n",
       "276. 'Asia/Kamchatka'\n",
       "277. 'Asia/Karachi'\n",
       "278. 'Asia/Kashgar'\n",
       "279. 'Asia/Kathmandu'\n",
       "280. 'Asia/Katmandu'\n",
       "281. 'Asia/Khandyga'\n",
       "282. 'Asia/Kolkata'\n",
       "283. 'Asia/Krasnoyarsk'\n",
       "284. 'Asia/Kuala_Lumpur'\n",
       "285. 'Asia/Kuching'\n",
       "286. 'Asia/Kuwait'\n",
       "287. 'Asia/Macao'\n",
       "288. 'Asia/Macau'\n",
       "289. 'Asia/Magadan'\n",
       "290. 'Asia/Makassar'\n",
       "291. 'Asia/Manila'\n",
       "292. 'Asia/Muscat'\n",
       "293. 'Asia/Nicosia'\n",
       "294. 'Asia/Novokuznetsk'\n",
       "295. 'Asia/Novosibirsk'\n",
       "296. 'Asia/Omsk'\n",
       "297. 'Asia/Oral'\n",
       "298. 'Asia/Phnom_Penh'\n",
       "299. 'Asia/Pontianak'\n",
       "300. 'Asia/Pyongyang'\n",
       "301. 'Asia/Qatar'\n",
       "302. 'Asia/Qostanay'\n",
       "303. 'Asia/Qyzylorda'\n",
       "304. 'Asia/Rangoon'\n",
       "305. 'Asia/Riyadh'\n",
       "306. 'Asia/Saigon'\n",
       "307. 'Asia/Sakhalin'\n",
       "308. 'Asia/Samarkand'\n",
       "309. 'Asia/Seoul'\n",
       "310. 'Asia/Shanghai'\n",
       "311. 'Asia/Singapore'\n",
       "312. 'Asia/Srednekolymsk'\n",
       "313. 'Asia/Taipei'\n",
       "314. 'Asia/Tashkent'\n",
       "315. 'Asia/Tbilisi'\n",
       "316. 'Asia/Tehran'\n",
       "317. 'Asia/Tel_Aviv'\n",
       "318. 'Asia/Thimbu'\n",
       "319. 'Asia/Thimphu'\n",
       "320. 'Asia/Tokyo'\n",
       "321. 'Asia/Tomsk'\n",
       "322. 'Asia/Ujung_Pandang'\n",
       "323. 'Asia/Ulaanbaatar'\n",
       "324. 'Asia/Ulan_Bator'\n",
       "325. 'Asia/Urumqi'\n",
       "326. 'Asia/Ust-Nera'\n",
       "327. 'Asia/Vientiane'\n",
       "328. 'Asia/Vladivostok'\n",
       "329. 'Asia/Yakutsk'\n",
       "330. 'Asia/Yangon'\n",
       "331. 'Asia/Yekaterinburg'\n",
       "332. 'Asia/Yerevan'\n",
       "333. 'Atlantic/Azores'\n",
       "334. 'Atlantic/Bermuda'\n",
       "335. 'Atlantic/Canary'\n",
       "336. 'Atlantic/Cape_Verde'\n",
       "337. 'Atlantic/Faeroe'\n",
       "338. 'Atlantic/Faroe'\n",
       "339. 'Atlantic/Jan_Mayen'\n",
       "340. 'Atlantic/Madeira'\n",
       "341. 'Atlantic/Reykjavik'\n",
       "342. 'Atlantic/South_Georgia'\n",
       "343. 'Atlantic/St_Helena'\n",
       "344. 'Atlantic/Stanley'\n",
       "345. 'Australia/ACT'\n",
       "346. 'Australia/Adelaide'\n",
       "347. 'Australia/Brisbane'\n",
       "348. 'Australia/Broken_Hill'\n",
       "349. 'Australia/Canberra'\n",
       "350. 'Australia/Currie'\n",
       "351. 'Australia/Darwin'\n",
       "352. 'Australia/Eucla'\n",
       "353. 'Australia/Hobart'\n",
       "354. 'Australia/LHI'\n",
       "355. 'Australia/Lindeman'\n",
       "356. 'Australia/Lord_Howe'\n",
       "357. 'Australia/Melbourne'\n",
       "358. 'Australia/North'\n",
       "359. 'Australia/NSW'\n",
       "360. 'Australia/Perth'\n",
       "361. 'Australia/Queensland'\n",
       "362. 'Australia/South'\n",
       "363. 'Australia/Sydney'\n",
       "364. 'Australia/Tasmania'\n",
       "365. 'Australia/Victoria'\n",
       "366. 'Australia/West'\n",
       "367. 'Australia/Yancowinna'\n",
       "368. 'Brazil/Acre'\n",
       "369. 'Brazil/DeNoronha'\n",
       "370. 'Brazil/East'\n",
       "371. 'Brazil/West'\n",
       "372. 'Canada/Atlantic'\n",
       "373. 'Canada/Central'\n",
       "374. 'Canada/Eastern'\n",
       "375. 'Canada/Mountain'\n",
       "376. 'Canada/Newfoundland'\n",
       "377. 'Canada/Pacific'\n",
       "378. 'Canada/Saskatchewan'\n",
       "379. 'Canada/Yukon'\n",
       "380. 'CET'\n",
       "381. 'Chile/Continental'\n",
       "382. 'Chile/EasterIsland'\n",
       "383. 'CST6CDT'\n",
       "384. 'Cuba'\n",
       "385. 'EET'\n",
       "386. 'Egypt'\n",
       "387. 'Eire'\n",
       "388. 'EST'\n",
       "389. 'EST5EDT'\n",
       "390. 'Etc/GMT'\n",
       "391. 'Etc/GMT-0'\n",
       "392. 'Etc/GMT-1'\n",
       "393. 'Etc/GMT-10'\n",
       "394. 'Etc/GMT-11'\n",
       "395. 'Etc/GMT-12'\n",
       "396. 'Etc/GMT-13'\n",
       "397. 'Etc/GMT-14'\n",
       "398. 'Etc/GMT-2'\n",
       "399. 'Etc/GMT-3'\n",
       "400. 'Etc/GMT-4'\n",
       "401. 'Etc/GMT-5'\n",
       "402. 'Etc/GMT-6'\n",
       "403. 'Etc/GMT-7'\n",
       "404. 'Etc/GMT-8'\n",
       "405. 'Etc/GMT-9'\n",
       "406. 'Etc/GMT+0'\n",
       "407. 'Etc/GMT+1'\n",
       "408. 'Etc/GMT+10'\n",
       "409. 'Etc/GMT+11'\n",
       "410. 'Etc/GMT+12'\n",
       "411. 'Etc/GMT+2'\n",
       "412. 'Etc/GMT+3'\n",
       "413. 'Etc/GMT+4'\n",
       "414. 'Etc/GMT+5'\n",
       "415. 'Etc/GMT+6'\n",
       "416. 'Etc/GMT+7'\n",
       "417. 'Etc/GMT+8'\n",
       "418. 'Etc/GMT+9'\n",
       "419. 'Etc/GMT0'\n",
       "420. 'Etc/Greenwich'\n",
       "421. 'Etc/UCT'\n",
       "422. 'Etc/Universal'\n",
       "423. 'Etc/UTC'\n",
       "424. 'Etc/Zulu'\n",
       "425. 'Europe/Amsterdam'\n",
       "426. 'Europe/Andorra'\n",
       "427. 'Europe/Astrakhan'\n",
       "428. 'Europe/Athens'\n",
       "429. 'Europe/Belfast'\n",
       "430. 'Europe/Belgrade'\n",
       "431. 'Europe/Berlin'\n",
       "432. 'Europe/Bratislava'\n",
       "433. 'Europe/Brussels'\n",
       "434. 'Europe/Bucharest'\n",
       "435. 'Europe/Budapest'\n",
       "436. 'Europe/Busingen'\n",
       "437. 'Europe/Chisinau'\n",
       "438. 'Europe/Copenhagen'\n",
       "439. 'Europe/Dublin'\n",
       "440. 'Europe/Gibraltar'\n",
       "441. 'Europe/Guernsey'\n",
       "442. 'Europe/Helsinki'\n",
       "443. 'Europe/Isle_of_Man'\n",
       "444. 'Europe/Istanbul'\n",
       "445. 'Europe/Jersey'\n",
       "446. 'Europe/Kaliningrad'\n",
       "447. 'Europe/Kiev'\n",
       "448. 'Europe/Kirov'\n",
       "449. 'Europe/Lisbon'\n",
       "450. 'Europe/Ljubljana'\n",
       "451. 'Europe/London'\n",
       "452. 'Europe/Luxembourg'\n",
       "453. 'Europe/Madrid'\n",
       "454. 'Europe/Malta'\n",
       "455. 'Europe/Mariehamn'\n",
       "456. 'Europe/Minsk'\n",
       "457. 'Europe/Monaco'\n",
       "458. 'Europe/Moscow'\n",
       "459. 'Europe/Nicosia'\n",
       "460. 'Europe/Oslo'\n",
       "461. 'Europe/Paris'\n",
       "462. 'Europe/Podgorica'\n",
       "463. 'Europe/Prague'\n",
       "464. 'Europe/Riga'\n",
       "465. 'Europe/Rome'\n",
       "466. 'Europe/Samara'\n",
       "467. 'Europe/San_Marino'\n",
       "468. 'Europe/Sarajevo'\n",
       "469. 'Europe/Saratov'\n",
       "470. 'Europe/Simferopol'\n",
       "471. 'Europe/Skopje'\n",
       "472. 'Europe/Sofia'\n",
       "473. 'Europe/Stockholm'\n",
       "474. 'Europe/Tallinn'\n",
       "475. 'Europe/Tirane'\n",
       "476. 'Europe/Tiraspol'\n",
       "477. 'Europe/Ulyanovsk'\n",
       "478. 'Europe/Uzhgorod'\n",
       "479. 'Europe/Vaduz'\n",
       "480. 'Europe/Vatican'\n",
       "481. 'Europe/Vienna'\n",
       "482. 'Europe/Vilnius'\n",
       "483. 'Europe/Volgograd'\n",
       "484. 'Europe/Warsaw'\n",
       "485. 'Europe/Zagreb'\n",
       "486. 'Europe/Zaporozhye'\n",
       "487. 'Europe/Zurich'\n",
       "488. 'GB'\n",
       "489. 'GB-Eire'\n",
       "490. 'GMT'\n",
       "491. 'GMT-0'\n",
       "492. 'GMT+0'\n",
       "493. 'GMT0'\n",
       "494. 'Greenwich'\n",
       "495. 'Hongkong'\n",
       "496. 'HST'\n",
       "497. 'Iceland'\n",
       "498. 'Indian/Antananarivo'\n",
       "499. 'Indian/Chagos'\n",
       "500. 'Indian/Christmas'\n",
       "501. 'Indian/Cocos'\n",
       "502. 'Indian/Comoro'\n",
       "503. 'Indian/Kerguelen'\n",
       "504. 'Indian/Mahe'\n",
       "505. 'Indian/Maldives'\n",
       "506. 'Indian/Mauritius'\n",
       "507. 'Indian/Mayotte'\n",
       "508. 'Indian/Reunion'\n",
       "509. 'Iran'\n",
       "510. 'Israel'\n",
       "511. 'Jamaica'\n",
       "512. 'Japan'\n",
       "513. 'Kwajalein'\n",
       "514. 'Libya'\n",
       "515. 'MET'\n",
       "516. 'Mexico/BajaNorte'\n",
       "517. 'Mexico/BajaSur'\n",
       "518. 'Mexico/General'\n",
       "519. 'MST'\n",
       "520. 'MST7MDT'\n",
       "521. 'Navajo'\n",
       "522. 'NZ'\n",
       "523. 'NZ-CHAT'\n",
       "524. 'Pacific/Apia'\n",
       "525. 'Pacific/Auckland'\n",
       "526. 'Pacific/Bougainville'\n",
       "527. 'Pacific/Chatham'\n",
       "528. 'Pacific/Chuuk'\n",
       "529. 'Pacific/Easter'\n",
       "530. 'Pacific/Efate'\n",
       "531. 'Pacific/Enderbury'\n",
       "532. 'Pacific/Fakaofo'\n",
       "533. 'Pacific/Fiji'\n",
       "534. 'Pacific/Funafuti'\n",
       "535. 'Pacific/Galapagos'\n",
       "536. 'Pacific/Gambier'\n",
       "537. 'Pacific/Guadalcanal'\n",
       "538. 'Pacific/Guam'\n",
       "539. 'Pacific/Honolulu'\n",
       "540. 'Pacific/Johnston'\n",
       "541. 'Pacific/Kiritimati'\n",
       "542. 'Pacific/Kosrae'\n",
       "543. 'Pacific/Kwajalein'\n",
       "544. 'Pacific/Majuro'\n",
       "545. 'Pacific/Marquesas'\n",
       "546. 'Pacific/Midway'\n",
       "547. 'Pacific/Nauru'\n",
       "548. 'Pacific/Niue'\n",
       "549. 'Pacific/Norfolk'\n",
       "550. 'Pacific/Noumea'\n",
       "551. 'Pacific/Pago_Pago'\n",
       "552. 'Pacific/Palau'\n",
       "553. 'Pacific/Pitcairn'\n",
       "554. 'Pacific/Pohnpei'\n",
       "555. 'Pacific/Ponape'\n",
       "556. 'Pacific/Port_Moresby'\n",
       "557. 'Pacific/Rarotonga'\n",
       "558. 'Pacific/Saipan'\n",
       "559. 'Pacific/Samoa'\n",
       "560. 'Pacific/Tahiti'\n",
       "561. 'Pacific/Tarawa'\n",
       "562. 'Pacific/Tongatapu'\n",
       "563. 'Pacific/Truk'\n",
       "564. 'Pacific/Wake'\n",
       "565. 'Pacific/Wallis'\n",
       "566. 'Pacific/Yap'\n",
       "567. 'Poland'\n",
       "568. 'Portugal'\n",
       "569. 'PRC'\n",
       "570. 'PST8PDT'\n",
       "571. 'ROC'\n",
       "572. 'ROK'\n",
       "573. 'Singapore'\n",
       "574. 'Turkey'\n",
       "575. 'UCT'\n",
       "576. 'Universal'\n",
       "577. 'US/Alaska'\n",
       "578. 'US/Aleutian'\n",
       "579. 'US/Arizona'\n",
       "580. 'US/Central'\n",
       "581. 'US/East-Indiana'\n",
       "582. 'US/Eastern'\n",
       "583. 'US/Hawaii'\n",
       "584. 'US/Indiana-Starke'\n",
       "585. 'US/Michigan'\n",
       "586. 'US/Mountain'\n",
       "587. 'US/Pacific'\n",
       "588. 'US/Pacific-New'\n",
       "589. 'US/Samoa'\n",
       "590. 'UTC'\n",
       "591. 'W-SU'\n",
       "592. 'WET'\n",
       "593. 'Zulu'\n",
       "\n",
       "\n"
      ],
      "text/plain": [
       "  [1] \"Africa/Abidjan\"                   \"Africa/Accra\"                    \n",
       "  [3] \"Africa/Addis_Ababa\"               \"Africa/Algiers\"                  \n",
       "  [5] \"Africa/Asmara\"                    \"Africa/Asmera\"                   \n",
       "  [7] \"Africa/Bamako\"                    \"Africa/Bangui\"                   \n",
       "  [9] \"Africa/Banjul\"                    \"Africa/Bissau\"                   \n",
       " [11] \"Africa/Blantyre\"                  \"Africa/Brazzaville\"              \n",
       " [13] \"Africa/Bujumbura\"                 \"Africa/Cairo\"                    \n",
       " [15] \"Africa/Casablanca\"                \"Africa/Ceuta\"                    \n",
       " [17] \"Africa/Conakry\"                   \"Africa/Dakar\"                    \n",
       " [19] \"Africa/Dar_es_Salaam\"             \"Africa/Djibouti\"                 \n",
       " [21] \"Africa/Douala\"                    \"Africa/El_Aaiun\"                 \n",
       " [23] \"Africa/Freetown\"                  \"Africa/Gaborone\"                 \n",
       " [25] \"Africa/Harare\"                    \"Africa/Johannesburg\"             \n",
       " [27] \"Africa/Juba\"                      \"Africa/Kampala\"                  \n",
       " [29] \"Africa/Khartoum\"                  \"Africa/Kigali\"                   \n",
       " [31] \"Africa/Kinshasa\"                  \"Africa/Lagos\"                    \n",
       " [33] \"Africa/Libreville\"                \"Africa/Lome\"                     \n",
       " [35] \"Africa/Luanda\"                    \"Africa/Lubumbashi\"               \n",
       " [37] \"Africa/Lusaka\"                    \"Africa/Malabo\"                   \n",
       " [39] \"Africa/Maputo\"                    \"Africa/Maseru\"                   \n",
       " [41] \"Africa/Mbabane\"                   \"Africa/Mogadishu\"                \n",
       " [43] \"Africa/Monrovia\"                  \"Africa/Nairobi\"                  \n",
       " [45] \"Africa/Ndjamena\"                  \"Africa/Niamey\"                   \n",
       " [47] \"Africa/Nouakchott\"                \"Africa/Ouagadougou\"              \n",
       " [49] \"Africa/Porto-Novo\"                \"Africa/Sao_Tome\"                 \n",
       " [51] \"Africa/Timbuktu\"                  \"Africa/Tripoli\"                  \n",
       " [53] \"Africa/Tunis\"                     \"Africa/Windhoek\"                 \n",
       " [55] \"America/Adak\"                     \"America/Anchorage\"               \n",
       " [57] \"America/Anguilla\"                 \"America/Antigua\"                 \n",
       " [59] \"America/Araguaina\"                \"America/Argentina/Buenos_Aires\"  \n",
       " [61] \"America/Argentina/Catamarca\"      \"America/Argentina/ComodRivadavia\"\n",
       " [63] \"America/Argentina/Cordoba\"        \"America/Argentina/Jujuy\"         \n",
       " [65] \"America/Argentina/La_Rioja\"       \"America/Argentina/Mendoza\"       \n",
       " [67] \"America/Argentina/Rio_Gallegos\"   \"America/Argentina/Salta\"         \n",
       " [69] \"America/Argentina/San_Juan\"       \"America/Argentina/San_Luis\"      \n",
       " [71] \"America/Argentina/Tucuman\"        \"America/Argentina/Ushuaia\"       \n",
       " [73] \"America/Aruba\"                    \"America/Asuncion\"                \n",
       " [75] \"America/Atikokan\"                 \"America/Atka\"                    \n",
       " [77] \"America/Bahia\"                    \"America/Bahia_Banderas\"          \n",
       " [79] \"America/Barbados\"                 \"America/Belem\"                   \n",
       " [81] \"America/Belize\"                   \"America/Blanc-Sablon\"            \n",
       " [83] \"America/Boa_Vista\"                \"America/Bogota\"                  \n",
       " [85] \"America/Boise\"                    \"America/Buenos_Aires\"            \n",
       " [87] \"America/Cambridge_Bay\"            \"America/Campo_Grande\"            \n",
       " [89] \"America/Cancun\"                   \"America/Caracas\"                 \n",
       " [91] \"America/Catamarca\"                \"America/Cayenne\"                 \n",
       " [93] \"America/Cayman\"                   \"America/Chicago\"                 \n",
       " [95] \"America/Chihuahua\"                \"America/Coral_Harbour\"           \n",
       " [97] \"America/Cordoba\"                  \"America/Costa_Rica\"              \n",
       " [99] \"America/Creston\"                  \"America/Cuiaba\"                  \n",
       "[101] \"America/Curacao\"                  \"America/Danmarkshavn\"            \n",
       "[103] \"America/Dawson\"                   \"America/Dawson_Creek\"            \n",
       "[105] \"America/Denver\"                   \"America/Detroit\"                 \n",
       "[107] \"America/Dominica\"                 \"America/Edmonton\"                \n",
       "[109] \"America/Eirunepe\"                 \"America/El_Salvador\"             \n",
       "[111] \"America/Ensenada\"                 \"America/Fort_Nelson\"             \n",
       "[113] \"America/Fort_Wayne\"               \"America/Fortaleza\"               \n",
       "[115] \"America/Glace_Bay\"                \"America/Godthab\"                 \n",
       "[117] \"America/Goose_Bay\"                \"America/Grand_Turk\"              \n",
       "[119] \"America/Grenada\"                  \"America/Guadeloupe\"              \n",
       "[121] \"America/Guatemala\"                \"America/Guayaquil\"               \n",
       "[123] \"America/Guyana\"                   \"America/Halifax\"                 \n",
       "[125] \"America/Havana\"                   \"America/Hermosillo\"              \n",
       "[127] \"America/Indiana/Indianapolis\"     \"America/Indiana/Knox\"            \n",
       "[129] \"America/Indiana/Marengo\"          \"America/Indiana/Petersburg\"      \n",
       "[131] \"America/Indiana/Tell_City\"        \"America/Indiana/Vevay\"           \n",
       "[133] \"America/Indiana/Vincennes\"        \"America/Indiana/Winamac\"         \n",
       "[135] \"America/Indianapolis\"             \"America/Inuvik\"                  \n",
       "[137] \"America/Iqaluit\"                  \"America/Jamaica\"                 \n",
       "[139] \"America/Jujuy\"                    \"America/Juneau\"                  \n",
       "[141] \"America/Kentucky/Louisville\"      \"America/Kentucky/Monticello\"     \n",
       "[143] \"America/Knox_IN\"                  \"America/Kralendijk\"              \n",
       "[145] \"America/La_Paz\"                   \"America/Lima\"                    \n",
       "[147] \"America/Los_Angeles\"              \"America/Louisville\"              \n",
       "[149] \"America/Lower_Princes\"            \"America/Maceio\"                  \n",
       "[151] \"America/Managua\"                  \"America/Manaus\"                  \n",
       "[153] \"America/Marigot\"                  \"America/Martinique\"              \n",
       "[155] \"America/Matamoros\"                \"America/Mazatlan\"                \n",
       "[157] \"America/Mendoza\"                  \"America/Menominee\"               \n",
       "[159] \"America/Merida\"                   \"America/Metlakatla\"              \n",
       "[161] \"America/Mexico_City\"              \"America/Miquelon\"                \n",
       "[163] \"America/Moncton\"                  \"America/Monterrey\"               \n",
       "[165] \"America/Montevideo\"               \"America/Montreal\"                \n",
       "[167] \"America/Montserrat\"               \"America/Nassau\"                  \n",
       "[169] \"America/New_York\"                 \"America/Nipigon\"                 \n",
       "[171] \"America/Nome\"                     \"America/Noronha\"                 \n",
       "[173] \"America/North_Dakota/Beulah\"      \"America/North_Dakota/Center\"     \n",
       "[175] \"America/North_Dakota/New_Salem\"   \"America/Ojinaga\"                 \n",
       "[177] \"America/Panama\"                   \"America/Pangnirtung\"             \n",
       "[179] \"America/Paramaribo\"               \"America/Phoenix\"                 \n",
       "[181] \"America/Port-au-Prince\"           \"America/Port_of_Spain\"           \n",
       "[183] \"America/Porto_Acre\"               \"America/Porto_Velho\"             \n",
       "[185] \"America/Puerto_Rico\"              \"America/Punta_Arenas\"            \n",
       "[187] \"America/Rainy_River\"              \"America/Rankin_Inlet\"            \n",
       "[189] \"America/Recife\"                   \"America/Regina\"                  \n",
       "[191] \"America/Resolute\"                 \"America/Rio_Branco\"              \n",
       "[193] \"America/Rosario\"                  \"America/Santa_Isabel\"            \n",
       "[195] \"America/Santarem\"                 \"America/Santiago\"                \n",
       "[197] \"America/Santo_Domingo\"            \"America/Sao_Paulo\"               \n",
       "[199] \"America/Scoresbysund\"             \"America/Shiprock\"                \n",
       "[201] \"America/Sitka\"                    \"America/St_Barthelemy\"           \n",
       "[203] \"America/St_Johns\"                 \"America/St_Kitts\"                \n",
       "[205] \"America/St_Lucia\"                 \"America/St_Thomas\"               \n",
       "[207] \"America/St_Vincent\"               \"America/Swift_Current\"           \n",
       "[209] \"America/Tegucigalpa\"              \"America/Thule\"                   \n",
       "[211] \"America/Thunder_Bay\"              \"America/Tijuana\"                 \n",
       "[213] \"America/Toronto\"                  \"America/Tortola\"                 \n",
       "[215] \"America/Vancouver\"                \"America/Virgin\"                  \n",
       "[217] \"America/Whitehorse\"               \"America/Winnipeg\"                \n",
       "[219] \"America/Yakutat\"                  \"America/Yellowknife\"             \n",
       "[221] \"Antarctica/Casey\"                 \"Antarctica/Davis\"                \n",
       "[223] \"Antarctica/DumontDUrville\"        \"Antarctica/Macquarie\"            \n",
       "[225] \"Antarctica/Mawson\"                \"Antarctica/McMurdo\"              \n",
       "[227] \"Antarctica/Palmer\"                \"Antarctica/Rothera\"              \n",
       "[229] \"Antarctica/South_Pole\"            \"Antarctica/Syowa\"                \n",
       "[231] \"Antarctica/Troll\"                 \"Antarctica/Vostok\"               \n",
       "[233] \"Arctic/Longyearbyen\"              \"Asia/Aden\"                       \n",
       "[235] \"Asia/Almaty\"                      \"Asia/Amman\"                      \n",
       "[237] \"Asia/Anadyr\"                      \"Asia/Aqtau\"                      \n",
       "[239] \"Asia/Aqtobe\"                      \"Asia/Ashgabat\"                   \n",
       "[241] \"Asia/Ashkhabad\"                   \"Asia/Atyrau\"                     \n",
       "[243] \"Asia/Baghdad\"                     \"Asia/Bahrain\"                    \n",
       "[245] \"Asia/Baku\"                        \"Asia/Bangkok\"                    \n",
       "[247] \"Asia/Barnaul\"                     \"Asia/Beirut\"                     \n",
       "[249] \"Asia/Bishkek\"                     \"Asia/Brunei\"                     \n",
       "[251] \"Asia/Calcutta\"                    \"Asia/Chita\"                      \n",
       "[253] \"Asia/Choibalsan\"                  \"Asia/Chongqing\"                  \n",
       "[255] \"Asia/Chungking\"                   \"Asia/Colombo\"                    \n",
       "[257] \"Asia/Dacca\"                       \"Asia/Damascus\"                   \n",
       "[259] \"Asia/Dhaka\"                       \"Asia/Dili\"                       \n",
       "[261] \"Asia/Dubai\"                       \"Asia/Dushanbe\"                   \n",
       "[263] \"Asia/Famagusta\"                   \"Asia/Gaza\"                       \n",
       "[265] \"Asia/Harbin\"                      \"Asia/Hebron\"                     \n",
       "[267] \"Asia/Ho_Chi_Minh\"                 \"Asia/Hong_Kong\"                  \n",
       "[269] \"Asia/Hovd\"                        \"Asia/Irkutsk\"                    \n",
       "[271] \"Asia/Istanbul\"                    \"Asia/Jakarta\"                    \n",
       "[273] \"Asia/Jayapura\"                    \"Asia/Jerusalem\"                  \n",
       "[275] \"Asia/Kabul\"                       \"Asia/Kamchatka\"                  \n",
       "[277] \"Asia/Karachi\"                     \"Asia/Kashgar\"                    \n",
       "[279] \"Asia/Kathmandu\"                   \"Asia/Katmandu\"                   \n",
       "[281] \"Asia/Khandyga\"                    \"Asia/Kolkata\"                    \n",
       "[283] \"Asia/Krasnoyarsk\"                 \"Asia/Kuala_Lumpur\"               \n",
       "[285] \"Asia/Kuching\"                     \"Asia/Kuwait\"                     \n",
       "[287] \"Asia/Macao\"                       \"Asia/Macau\"                      \n",
       "[289] \"Asia/Magadan\"                     \"Asia/Makassar\"                   \n",
       "[291] \"Asia/Manila\"                      \"Asia/Muscat\"                     \n",
       "[293] \"Asia/Nicosia\"                     \"Asia/Novokuznetsk\"               \n",
       "[295] \"Asia/Novosibirsk\"                 \"Asia/Omsk\"                       \n",
       "[297] \"Asia/Oral\"                        \"Asia/Phnom_Penh\"                 \n",
       "[299] \"Asia/Pontianak\"                   \"Asia/Pyongyang\"                  \n",
       "[301] \"Asia/Qatar\"                       \"Asia/Qostanay\"                   \n",
       "[303] \"Asia/Qyzylorda\"                   \"Asia/Rangoon\"                    \n",
       "[305] \"Asia/Riyadh\"                      \"Asia/Saigon\"                     \n",
       "[307] \"Asia/Sakhalin\"                    \"Asia/Samarkand\"                  \n",
       "[309] \"Asia/Seoul\"                       \"Asia/Shanghai\"                   \n",
       "[311] \"Asia/Singapore\"                   \"Asia/Srednekolymsk\"              \n",
       "[313] \"Asia/Taipei\"                      \"Asia/Tashkent\"                   \n",
       "[315] \"Asia/Tbilisi\"                     \"Asia/Tehran\"                     \n",
       "[317] \"Asia/Tel_Aviv\"                    \"Asia/Thimbu\"                     \n",
       "[319] \"Asia/Thimphu\"                     \"Asia/Tokyo\"                      \n",
       "[321] \"Asia/Tomsk\"                       \"Asia/Ujung_Pandang\"              \n",
       "[323] \"Asia/Ulaanbaatar\"                 \"Asia/Ulan_Bator\"                 \n",
       "[325] \"Asia/Urumqi\"                      \"Asia/Ust-Nera\"                   \n",
       "[327] \"Asia/Vientiane\"                   \"Asia/Vladivostok\"                \n",
       "[329] \"Asia/Yakutsk\"                     \"Asia/Yangon\"                     \n",
       "[331] \"Asia/Yekaterinburg\"               \"Asia/Yerevan\"                    \n",
       "[333] \"Atlantic/Azores\"                  \"Atlantic/Bermuda\"                \n",
       "[335] \"Atlantic/Canary\"                  \"Atlantic/Cape_Verde\"             \n",
       "[337] \"Atlantic/Faeroe\"                  \"Atlantic/Faroe\"                  \n",
       "[339] \"Atlantic/Jan_Mayen\"               \"Atlantic/Madeira\"                \n",
       "[341] \"Atlantic/Reykjavik\"               \"Atlantic/South_Georgia\"          \n",
       "[343] \"Atlantic/St_Helena\"               \"Atlantic/Stanley\"                \n",
       "[345] \"Australia/ACT\"                    \"Australia/Adelaide\"              \n",
       "[347] \"Australia/Brisbane\"               \"Australia/Broken_Hill\"           \n",
       "[349] \"Australia/Canberra\"               \"Australia/Currie\"                \n",
       "[351] \"Australia/Darwin\"                 \"Australia/Eucla\"                 \n",
       "[353] \"Australia/Hobart\"                 \"Australia/LHI\"                   \n",
       "[355] \"Australia/Lindeman\"               \"Australia/Lord_Howe\"             \n",
       "[357] \"Australia/Melbourne\"              \"Australia/North\"                 \n",
       "[359] \"Australia/NSW\"                    \"Australia/Perth\"                 \n",
       "[361] \"Australia/Queensland\"             \"Australia/South\"                 \n",
       "[363] \"Australia/Sydney\"                 \"Australia/Tasmania\"              \n",
       "[365] \"Australia/Victoria\"               \"Australia/West\"                  \n",
       "[367] \"Australia/Yancowinna\"             \"Brazil/Acre\"                     \n",
       "[369] \"Brazil/DeNoronha\"                 \"Brazil/East\"                     \n",
       "[371] \"Brazil/West\"                      \"Canada/Atlantic\"                 \n",
       "[373] \"Canada/Central\"                   \"Canada/Eastern\"                  \n",
       "[375] \"Canada/Mountain\"                  \"Canada/Newfoundland\"             \n",
       "[377] \"Canada/Pacific\"                   \"Canada/Saskatchewan\"             \n",
       "[379] \"Canada/Yukon\"                     \"CET\"                             \n",
       "[381] \"Chile/Continental\"                \"Chile/EasterIsland\"              \n",
       "[383] \"CST6CDT\"                          \"Cuba\"                            \n",
       "[385] \"EET\"                              \"Egypt\"                           \n",
       "[387] \"Eire\"                             \"EST\"                             \n",
       "[389] \"EST5EDT\"                          \"Etc/GMT\"                         \n",
       "[391] \"Etc/GMT-0\"                        \"Etc/GMT-1\"                       \n",
       "[393] \"Etc/GMT-10\"                       \"Etc/GMT-11\"                      \n",
       "[395] \"Etc/GMT-12\"                       \"Etc/GMT-13\"                      \n",
       "[397] \"Etc/GMT-14\"                       \"Etc/GMT-2\"                       \n",
       "[399] \"Etc/GMT-3\"                        \"Etc/GMT-4\"                       \n",
       "[401] \"Etc/GMT-5\"                        \"Etc/GMT-6\"                       \n",
       "[403] \"Etc/GMT-7\"                        \"Etc/GMT-8\"                       \n",
       "[405] \"Etc/GMT-9\"                        \"Etc/GMT+0\"                       \n",
       "[407] \"Etc/GMT+1\"                        \"Etc/GMT+10\"                      \n",
       "[409] \"Etc/GMT+11\"                       \"Etc/GMT+12\"                      \n",
       "[411] \"Etc/GMT+2\"                        \"Etc/GMT+3\"                       \n",
       "[413] \"Etc/GMT+4\"                        \"Etc/GMT+5\"                       \n",
       "[415] \"Etc/GMT+6\"                        \"Etc/GMT+7\"                       \n",
       "[417] \"Etc/GMT+8\"                        \"Etc/GMT+9\"                       \n",
       "[419] \"Etc/GMT0\"                         \"Etc/Greenwich\"                   \n",
       "[421] \"Etc/UCT\"                          \"Etc/Universal\"                   \n",
       "[423] \"Etc/UTC\"                          \"Etc/Zulu\"                        \n",
       "[425] \"Europe/Amsterdam\"                 \"Europe/Andorra\"                  \n",
       "[427] \"Europe/Astrakhan\"                 \"Europe/Athens\"                   \n",
       "[429] \"Europe/Belfast\"                   \"Europe/Belgrade\"                 \n",
       "[431] \"Europe/Berlin\"                    \"Europe/Bratislava\"               \n",
       "[433] \"Europe/Brussels\"                  \"Europe/Bucharest\"                \n",
       "[435] \"Europe/Budapest\"                  \"Europe/Busingen\"                 \n",
       "[437] \"Europe/Chisinau\"                  \"Europe/Copenhagen\"               \n",
       "[439] \"Europe/Dublin\"                    \"Europe/Gibraltar\"                \n",
       "[441] \"Europe/Guernsey\"                  \"Europe/Helsinki\"                 \n",
       "[443] \"Europe/Isle_of_Man\"               \"Europe/Istanbul\"                 \n",
       "[445] \"Europe/Jersey\"                    \"Europe/Kaliningrad\"              \n",
       "[447] \"Europe/Kiev\"                      \"Europe/Kirov\"                    \n",
       "[449] \"Europe/Lisbon\"                    \"Europe/Ljubljana\"                \n",
       "[451] \"Europe/London\"                    \"Europe/Luxembourg\"               \n",
       "[453] \"Europe/Madrid\"                    \"Europe/Malta\"                    \n",
       "[455] \"Europe/Mariehamn\"                 \"Europe/Minsk\"                    \n",
       "[457] \"Europe/Monaco\"                    \"Europe/Moscow\"                   \n",
       "[459] \"Europe/Nicosia\"                   \"Europe/Oslo\"                     \n",
       "[461] \"Europe/Paris\"                     \"Europe/Podgorica\"                \n",
       "[463] \"Europe/Prague\"                    \"Europe/Riga\"                     \n",
       "[465] \"Europe/Rome\"                      \"Europe/Samara\"                   \n",
       "[467] \"Europe/San_Marino\"                \"Europe/Sarajevo\"                 \n",
       "[469] \"Europe/Saratov\"                   \"Europe/Simferopol\"               \n",
       "[471] \"Europe/Skopje\"                    \"Europe/Sofia\"                    \n",
       "[473] \"Europe/Stockholm\"                 \"Europe/Tallinn\"                  \n",
       "[475] \"Europe/Tirane\"                    \"Europe/Tiraspol\"                 \n",
       "[477] \"Europe/Ulyanovsk\"                 \"Europe/Uzhgorod\"                 \n",
       "[479] \"Europe/Vaduz\"                     \"Europe/Vatican\"                  \n",
       "[481] \"Europe/Vienna\"                    \"Europe/Vilnius\"                  \n",
       "[483] \"Europe/Volgograd\"                 \"Europe/Warsaw\"                   \n",
       "[485] \"Europe/Zagreb\"                    \"Europe/Zaporozhye\"               \n",
       "[487] \"Europe/Zurich\"                    \"GB\"                              \n",
       "[489] \"GB-Eire\"                          \"GMT\"                             \n",
       "[491] \"GMT-0\"                            \"GMT+0\"                           \n",
       "[493] \"GMT0\"                             \"Greenwich\"                       \n",
       "[495] \"Hongkong\"                         \"HST\"                             \n",
       "[497] \"Iceland\"                          \"Indian/Antananarivo\"             \n",
       "[499] \"Indian/Chagos\"                    \"Indian/Christmas\"                \n",
       "[501] \"Indian/Cocos\"                     \"Indian/Comoro\"                   \n",
       "[503] \"Indian/Kerguelen\"                 \"Indian/Mahe\"                     \n",
       "[505] \"Indian/Maldives\"                  \"Indian/Mauritius\"                \n",
       "[507] \"Indian/Mayotte\"                   \"Indian/Reunion\"                  \n",
       "[509] \"Iran\"                             \"Israel\"                          \n",
       "[511] \"Jamaica\"                          \"Japan\"                           \n",
       "[513] \"Kwajalein\"                        \"Libya\"                           \n",
       "[515] \"MET\"                              \"Mexico/BajaNorte\"                \n",
       "[517] \"Mexico/BajaSur\"                   \"Mexico/General\"                  \n",
       "[519] \"MST\"                              \"MST7MDT\"                         \n",
       "[521] \"Navajo\"                           \"NZ\"                              \n",
       "[523] \"NZ-CHAT\"                          \"Pacific/Apia\"                    \n",
       "[525] \"Pacific/Auckland\"                 \"Pacific/Bougainville\"            \n",
       "[527] \"Pacific/Chatham\"                  \"Pacific/Chuuk\"                   \n",
       "[529] \"Pacific/Easter\"                   \"Pacific/Efate\"                   \n",
       "[531] \"Pacific/Enderbury\"                \"Pacific/Fakaofo\"                 \n",
       "[533] \"Pacific/Fiji\"                     \"Pacific/Funafuti\"                \n",
       "[535] \"Pacific/Galapagos\"                \"Pacific/Gambier\"                 \n",
       "[537] \"Pacific/Guadalcanal\"              \"Pacific/Guam\"                    \n",
       "[539] \"Pacific/Honolulu\"                 \"Pacific/Johnston\"                \n",
       "[541] \"Pacific/Kiritimati\"               \"Pacific/Kosrae\"                  \n",
       "[543] \"Pacific/Kwajalein\"                \"Pacific/Majuro\"                  \n",
       "[545] \"Pacific/Marquesas\"                \"Pacific/Midway\"                  \n",
       "[547] \"Pacific/Nauru\"                    \"Pacific/Niue\"                    \n",
       "[549] \"Pacific/Norfolk\"                  \"Pacific/Noumea\"                  \n",
       "[551] \"Pacific/Pago_Pago\"                \"Pacific/Palau\"                   \n",
       "[553] \"Pacific/Pitcairn\"                 \"Pacific/Pohnpei\"                 \n",
       "[555] \"Pacific/Ponape\"                   \"Pacific/Port_Moresby\"            \n",
       "[557] \"Pacific/Rarotonga\"                \"Pacific/Saipan\"                  \n",
       "[559] \"Pacific/Samoa\"                    \"Pacific/Tahiti\"                  \n",
       "[561] \"Pacific/Tarawa\"                   \"Pacific/Tongatapu\"               \n",
       "[563] \"Pacific/Truk\"                     \"Pacific/Wake\"                    \n",
       "[565] \"Pacific/Wallis\"                   \"Pacific/Yap\"                     \n",
       "[567] \"Poland\"                           \"Portugal\"                        \n",
       "[569] \"PRC\"                              \"PST8PDT\"                         \n",
       "[571] \"ROC\"                              \"ROK\"                             \n",
       "[573] \"Singapore\"                        \"Turkey\"                          \n",
       "[575] \"UCT\"                              \"Universal\"                       \n",
       "[577] \"US/Alaska\"                        \"US/Aleutian\"                     \n",
       "[579] \"US/Arizona\"                       \"US/Central\"                      \n",
       "[581] \"US/East-Indiana\"                  \"US/Eastern\"                      \n",
       "[583] \"US/Hawaii\"                        \"US/Indiana-Starke\"               \n",
       "[585] \"US/Michigan\"                      \"US/Mountain\"                     \n",
       "[587] \"US/Pacific\"                       \"US/Pacific-New\"                  \n",
       "[589] \"US/Samoa\"                         \"UTC\"                             \n",
       "[591] \"W-SU\"                             \"WET\"                             \n",
       "[593] \"Zulu\"                            \n",
       "attr(,\"Version\")\n",
       "[1] \"2019a\""
      ]
     },
     "metadata": {},
     "output_type": "display_data"
    }
   ],
   "source": [
    "OlsonNames()"
   ]
  },
  {
   "cell_type": "markdown",
   "metadata": {},
   "source": [
    "In R, the time zone is an attribute of the date-time that only controls printing. For example, these three objects represent the same instant in time:"
   ]
  },
  {
   "cell_type": "code",
   "execution_count": 80,
   "metadata": {},
   "outputs": [
    {
     "data": {
      "text/plain": [
       "[1] \"2015-06-01 12:00:00 EDT\""
      ]
     },
     "metadata": {},
     "output_type": "display_data"
    },
    {
     "data": {
      "text/plain": [
       "[1] \"2015-06-01 18:00:00 CEST\""
      ]
     },
     "metadata": {},
     "output_type": "display_data"
    },
    {
     "data": {
      "text/plain": [
       "[1] \"2015-06-02 04:00:00 NZST\""
      ]
     },
     "metadata": {},
     "output_type": "display_data"
    }
   ],
   "source": [
    "(x1 <- ymd_hms(\"2015-06-01 12:00:00\", tz = \"America/New_York\"))\n",
    "(x2 <- ymd_hms(\"2015-06-01 18:00:00\", tz = \"Europe/Copenhagen\"))\n",
    "(x3 <- ymd_hms(\"2015-06-02 04:00:00\", tz = \"Pacific/Auckland\"))\n"
   ]
  },
  {
   "cell_type": "markdown",
   "metadata": {},
   "source": [
    "You can verify that they’re the same time using subtraction:"
   ]
  },
  {
   "cell_type": "code",
   "execution_count": 81,
   "metadata": {},
   "outputs": [
    {
     "data": {
      "text/plain": [
       "Time difference of 0 secs"
      ]
     },
     "metadata": {},
     "output_type": "display_data"
    },
    {
     "data": {
      "text/plain": [
       "Time difference of 0 secs"
      ]
     },
     "metadata": {},
     "output_type": "display_data"
    }
   ],
   "source": [
    "x2 - x1\n",
    "\n",
    "x3 - x2"
   ]
  },
  {
   "cell_type": "markdown",
   "metadata": {},
   "source": [
    "Unless otherwise specified, lubridate always uses UTC. UTC (Coordinated Universal Time) is the standard time zone used by the scientific community and roughly equivalent to its predecessor GMT (Greenwich Mean Time). It does not have DST, which makes a convenient representation for computation. Operations that combine date-times, like `c()`, will often drop the time zone. In that case, the date-times will display in your local time zone:"
   ]
  },
  {
   "cell_type": "code",
   "execution_count": 82,
   "metadata": {},
   "outputs": [
    {
     "data": {
      "text/plain": [
       "[1] \"2015-06-01 12:00:00 EDT\" \"2015-06-01 12:00:00 EDT\"\n",
       "[3] \"2015-06-01 12:00:00 EDT\""
      ]
     },
     "metadata": {},
     "output_type": "display_data"
    }
   ],
   "source": [
    "c(x1, x2, x3)"
   ]
  },
  {
   "cell_type": "markdown",
   "metadata": {},
   "source": [
    "You can change the time zone in two ways:"
   ]
  },
  {
   "cell_type": "markdown",
   "metadata": {},
   "source": [
    "- Keep the instant in time the same, and change how it’s displayed. Use this when the instant is correct, but you want a more natural display."
   ]
  },
  {
   "cell_type": "code",
   "execution_count": 84,
   "metadata": {},
   "outputs": [
    {
     "data": {
      "text/plain": [
       "[1] \"2020-12-01 07:42:18 GMT\""
      ]
     },
     "metadata": {},
     "output_type": "display_data"
    }
   ],
   "source": [
    "# what time is it now in London?\n",
    "\n",
    "with_tz(now(), tz = 'Europe/London')"
   ]
  },
  {
   "cell_type": "markdown",
   "metadata": {},
   "source": [
    "- Change the underlying instant in time. Use this when you have an instant that has been labelled with the incorrect time zone, and you need to fix it."
   ]
  },
  {
   "cell_type": "code",
   "execution_count": 85,
   "metadata": {},
   "outputs": [
    {
     "data": {
      "text/plain": [
       "Time difference of -7 hours"
      ]
     },
     "metadata": {},
     "output_type": "display_data"
    }
   ],
   "source": [
    "instant_time <- now() \n",
    "\n",
    "instant_time - force_tz(instant_time, 'Europe/London')"
   ]
  }
 ],
 "metadata": {
  "kernelspec": {
   "display_name": "R",
   "language": "R",
   "name": "ir"
  },
  "language_info": {
   "codemirror_mode": "r",
   "file_extension": ".r",
   "mimetype": "text/x-r-source",
   "name": "R",
   "pygments_lexer": "r",
   "version": "3.6.1"
  }
 },
 "nbformat": 4,
 "nbformat_minor": 2
}
