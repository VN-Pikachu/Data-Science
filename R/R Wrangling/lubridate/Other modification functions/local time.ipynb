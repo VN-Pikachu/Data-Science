{
 "cells": [
  {
   "cell_type": "code",
   "execution_count": 2,
   "metadata": {},
   "outputs": [],
   "source": [
    "library(lubridate)"
   ]
  },
  {
   "cell_type": "markdown",
   "metadata": {},
   "source": [
    "# Get local time from a date-time vector."
   ]
  },
  {
   "cell_type": "markdown",
   "metadata": {},
   "source": [
    "local_time retrieves day clock time in specified time zones. Computation is vectorized over both dt and tz arguments, the shortest is recycled in accordance with standard R rules.\n",
    "```r\n",
    "local_time(dt, tz = NULL, units = \"secs\")\n",
    "```\n",
    "**Arguments**  \n",
    "`dt`\t\n",
    "a date-time object.\n",
    "\n",
    "`tz`\t\n",
    "a character vector of timezones for which to compute the local time.\n",
    "\n",
    "`units`\t\n",
    "passed directly to as.difftime()."
   ]
  },
  {
   "cell_type": "markdown",
   "metadata": {},
   "source": [
    "# Examples"
   ]
  },
  {
   "cell_type": "code",
   "execution_count": 17,
   "metadata": {},
   "outputs": [
    {
     "data": {
      "text/plain": [
       "Time differences in secs\n",
       "[1] 3600 9000"
      ]
     },
     "metadata": {},
     "output_type": "display_data"
    }
   ],
   "source": [
    "x <- ymd_hms(c(\"2009-08-07 01:00:00\", \"2009-08-07 02:30:00\"))\n",
    "\n",
    "local_time(x)"
   ]
  },
  {
   "cell_type": "code",
   "execution_count": 18,
   "metadata": {},
   "outputs": [
    {
     "data": {
      "text/plain": [
       "Time differences in hours\n",
       "[1] 1.0 2.5"
      ]
     },
     "metadata": {},
     "output_type": "display_data"
    }
   ],
   "source": [
    "local_time(x, units = 'hours')"
   ]
  },
  {
   "cell_type": "code",
   "execution_count": 19,
   "metadata": {},
   "outputs": [
    {
     "data": {
      "text/plain": [
       "Time differences in secs\n",
       "[1] 10800 16200"
      ]
     },
     "metadata": {},
     "output_type": "display_data"
    }
   ],
   "source": [
    "local_time(x, \"Europe/Amsterdam\")"
   ]
  },
  {
   "cell_type": "code",
   "execution_count": 20,
   "metadata": {},
   "outputs": [
    {
     "data": {
      "text/plain": [
       "Time differences in hours\n",
       "[1] 21.034167  3.034167  9.034167"
      ]
     },
     "metadata": {},
     "output_type": "display_data"
    }
   ],
   "source": [
    "x <- ymd_hms(\"2009-08-07 01:02:03\")\n",
    "local_time(x, c(\"America/New_York\", \"Europe/Amsterdam\", \"Asia/Shanghai\"), unit = \"hours\")"
   ]
  }
 ],
 "metadata": {
  "kernelspec": {
   "display_name": "R",
   "language": "R",
   "name": "ir"
  },
  "language_info": {
   "codemirror_mode": "r",
   "file_extension": ".r",
   "mimetype": "text/x-r-source",
   "name": "R",
   "pygments_lexer": "r",
   "version": "3.6.1"
  }
 },
 "nbformat": 4,
 "nbformat_minor": 2
}
