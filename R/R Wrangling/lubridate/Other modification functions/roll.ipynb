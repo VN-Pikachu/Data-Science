{
 "cells": [
  {
   "cell_type": "code",
   "execution_count": 30,
   "metadata": {},
   "outputs": [],
   "source": [
    "library(lubridate)\n",
    "library(tidyverse)"
   ]
  },
  {
   "cell_type": "markdown",
   "metadata": {},
   "source": [
    "# Roll backward or forward a date the previous, current or next month"
   ]
  },
  {
   "cell_type": "markdown",
   "metadata": {},
   "source": [
    "**`rollbackward()`** changes a date to the last day of the previous month or to the first day of the month. **`rollback()`** is a synonym for **`rollbackward().`**\n",
    "\n",
    "**`rollforward()`** rolls to the last day of the current month or to the first day of the next month. Optionally, the new date can retain the same hour, minute, and second information. "
   ]
  },
  {
   "cell_type": "markdown",
   "metadata": {},
   "source": [
    "```r\n",
    "rollbackward(dates, roll_to_first = FALSE, preserve_hms = TRUE)\n",
    "\n",
    "rollback(dates, roll_to_first = FALSE, preserve_hms = TRUE)\n",
    "\n",
    "rollforward(dates, roll_to_first = FALSE, preserve_hms = TRUE)\n",
    "```"
   ]
  },
  {
   "cell_type": "markdown",
   "metadata": {},
   "source": [
    "# Examples"
   ]
  },
  {
   "cell_type": "code",
   "execution_count": 20,
   "metadata": {},
   "outputs": [
    {
     "data": {
      "text/plain": [
       "[1] \"2010-02-28 12:30:30 UTC\""
      ]
     },
     "metadata": {},
     "output_type": "display_data"
    }
   ],
   "source": [
    "\n",
    "date <- ymd_hms(\"2010-03-03 12:30:30\")\n",
    "\n",
    "# change 2010-03-03 to the last day of the previous month (the last day of February 2010), preverse hour, minutes, seconds\n",
    "rollback(date, roll_to_first = F) # default"
   ]
  },
  {
   "cell_type": "code",
   "execution_count": 21,
   "metadata": {},
   "outputs": [
    {
     "data": {
      "text/plain": [
       "[1] \"2010-02-28 UTC\""
      ]
     },
     "metadata": {},
     "output_type": "display_data"
    }
   ],
   "source": [
    "# do not preserve hour, minute, secon (change to 00:00:00)\n",
    "rollback(date, preserve_hms = F)"
   ]
  },
  {
   "cell_type": "code",
   "execution_count": 17,
   "metadata": {},
   "outputs": [
    {
     "data": {
      "text/html": [
       "<time datetime=\"2010-03-01\">2010-03-01</time>"
      ],
      "text/latex": [
       "2010-03-01"
      ],
      "text/markdown": [
       "2010-03-01"
      ],
      "text/plain": [
       "[1] \"2010-03-01\""
      ]
     },
     "metadata": {},
     "output_type": "display_data"
    }
   ],
   "source": [
    "# change 2010-03-03 to the first day of the current month(the last day of March 2010)\n",
    "rollback(date, roll_to_first = T)"
   ]
  },
  {
   "cell_type": "code",
   "execution_count": 32,
   "metadata": {},
   "outputs": [
    {
     "ename": "ERROR",
     "evalue": "Error in rollforward(date): could not find function \"rollforward\"\n",
     "output_type": "error",
     "traceback": [
      "Error in rollforward(date): could not find function \"rollforward\"\nTraceback:\n"
     ]
    }
   ],
   "source": [
    "rollforward(date)"
   ]
  },
  {
   "cell_type": "code",
   "execution_count": 35,
   "metadata": {},
   "outputs": [
    {
     "name": "stderr",
     "output_type": "stream",
     "text": [
      "starting httpd help server ... done\n"
     ]
    }
   ],
   "source": [
    "??rollforward"
   ]
  }
 ],
 "metadata": {
  "kernelspec": {
   "display_name": "R",
   "language": "R",
   "name": "ir"
  },
  "language_info": {
   "codemirror_mode": "r",
   "file_extension": ".r",
   "mimetype": "text/x-r-source",
   "name": "R",
   "pygments_lexer": "r",
   "version": "3.6.1"
  }
 },
 "nbformat": 4,
 "nbformat_minor": 2
}
