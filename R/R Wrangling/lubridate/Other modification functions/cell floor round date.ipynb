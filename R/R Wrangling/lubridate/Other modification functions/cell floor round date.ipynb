{
 "cells": [
  {
   "cell_type": "code",
   "execution_count": 2,
   "metadata": {},
   "outputs": [],
   "source": [
    "library(lubridate)"
   ]
  },
  {
   "cell_type": "markdown",
   "metadata": {},
   "source": [
    "<b style = 'color:red'> I do not document detail this, so go to the <a href = 'https://lubridate.tidyverse.org/reference/round_date.html'>Documentation</a>for detail explanation or more examples </b>"
   ]
  },
  {
   "cell_type": "markdown",
   "metadata": {},
   "source": [
    "# Round, floor and ceiling methods for date-time objects"
   ]
  },
  {
   "cell_type": "markdown",
   "metadata": {},
   "source": [
    "**`floor_date()`** takes a date-time object and rounds it down to the nearest boundary of the specified time unit.\n",
    "\n",
    "**`ceiling_date()`** takes a date-time object and rounds it up to the nearest boundary of the specified time unit."
   ]
  },
  {
   "cell_type": "markdown",
   "metadata": {},
   "source": [
    "```r\n",
    "round_date(\n",
    "  x,\n",
    "  unit = \"second\",\n",
    "  week_start = getOption(\"lubridate.week.start\", 7)\n",
    ")\n",
    "\n",
    "floor_date(\n",
    "  x,\n",
    "  unit = \"seconds\",\n",
    "  week_start = getOption(\"lubridate.week.start\", 7)\n",
    ")\n",
    "\n",
    "ceiling_date(\n",
    "  x,\n",
    "  unit = \"seconds\",\n",
    "  change_on_boundary = NULL,\n",
    "  week_start = getOption(\"lubridate.week.start\", 7)\n",
    ")\n",
    "```"
   ]
  },
  {
   "cell_type": "markdown",
   "metadata": {},
   "source": [
    "**Arguments**  \n",
    "`x`\t\n",
    "a vector of date-time objects\n",
    "\n",
    "`unit`\t\n",
    "a character string specifying a time unit or a multiple of a unit to be rounded to. Valid base units are second, minute, hour, day, week, month, bimonth, quarter, season, halfyear and year. Arbitrary unique English abbreviations as in the period() constructor are allowed. Rounding to multiples of units (except weeks) is supported.\n",
    "\n",
    "`week_start`\t\n",
    "when unit is weeks, specify the reference day. 7 represents Sunday and 1 represents Monday.\n",
    "\n",
    "`change_on_boundary`\t\n",
    "if this is NULL (the default), instants on the boundary remain unchanged, but Date objects are rounded up to the next boundary. If this is TRUE, instants on the boundary are rounded up to the next boundary. If this is FALSE, nothing on the boundary is rounded up at all. This was the default for lubridate prior to v1.6.0. See section Rounding Up Date Objects below for more details."
   ]
  },
  {
   "cell_type": "markdown",
   "metadata": {},
   "source": [
    "# Examples"
   ]
  },
  {
   "cell_type": "code",
   "execution_count": 3,
   "metadata": {},
   "outputs": [
    {
     "data": {
      "text/plain": [
       "[1] \"2009-08-03 12:01:59 UTC\""
      ]
     },
     "metadata": {},
     "output_type": "display_data"
    }
   ],
   "source": [
    "x <- ymd_hms(\"2009-08-03 12:01:59.23\")\n",
    "\n",
    "x"
   ]
  },
  {
   "cell_type": "code",
   "execution_count": 7,
   "metadata": {},
   "outputs": [
    {
     "data": {
      "text/plain": [
       "[1] \"2009-08-03 12:01:59 UTC\""
      ]
     },
     "metadata": {},
     "output_type": "display_data"
    },
    {
     "data": {
      "text/plain": [
       "[1] \"2009-08-03 12:01:59 UTC\""
      ]
     },
     "metadata": {},
     "output_type": "display_data"
    }
   ],
   "source": [
    "x\n",
    "round_date(x, 'second')"
   ]
  },
  {
   "cell_type": "code",
   "execution_count": 8,
   "metadata": {},
   "outputs": [
    {
     "data": {
      "text/plain": [
       "[1] \"2009-08-03 12:01:59 UTC\""
      ]
     },
     "metadata": {},
     "output_type": "display_data"
    },
    {
     "data": {
      "text/plain": [
       "[1] \"2009-08-03 12:02:00 UTC\""
      ]
     },
     "metadata": {},
     "output_type": "display_data"
    }
   ],
   "source": [
    "x\n",
    "round_date(x, 'minute')"
   ]
  },
  {
   "cell_type": "code",
   "execution_count": 9,
   "metadata": {},
   "outputs": [
    {
     "data": {
      "text/plain": [
       "[1] \"2009-08-03 12:01:59 UTC\""
      ]
     },
     "metadata": {},
     "output_type": "display_data"
    },
    {
     "data": {
      "text/plain": [
       "[1] \"2009-08-03 12:00:00 UTC\""
      ]
     },
     "metadata": {},
     "output_type": "display_data"
    }
   ],
   "source": [
    "x\n",
    "round_date(x, 'hour')"
   ]
  },
  {
   "cell_type": "code",
   "execution_count": 10,
   "metadata": {},
   "outputs": [
    {
     "data": {
      "text/plain": [
       "[1] \"2009-08-03 12:01:59 UTC\""
      ]
     },
     "metadata": {},
     "output_type": "display_data"
    },
    {
     "data": {
      "text/plain": [
       "[1] \"2009-08-04 UTC\""
      ]
     },
     "metadata": {},
     "output_type": "display_data"
    }
   ],
   "source": [
    "x\n",
    "round_date(x, 'day')"
   ]
  },
  {
   "cell_type": "code",
   "execution_count": 11,
   "metadata": {},
   "outputs": [
    {
     "data": {
      "text/plain": [
       "[1] \"2009-08-03 12:01:59 UTC\""
      ]
     },
     "metadata": {},
     "output_type": "display_data"
    },
    {
     "data": {
      "text/plain": [
       "[1] \"2009-08-02 UTC\""
      ]
     },
     "metadata": {},
     "output_type": "display_data"
    }
   ],
   "source": [
    "x\n",
    "round_date(x, 'week')"
   ]
  },
  {
   "cell_type": "code",
   "execution_count": 12,
   "metadata": {},
   "outputs": [
    {
     "data": {
      "text/plain": [
       "[1] \"2009-08-03 12:01:59 UTC\""
      ]
     },
     "metadata": {},
     "output_type": "display_data"
    },
    {
     "data": {
      "text/plain": [
       "[1] \"2009-08-01 UTC\""
      ]
     },
     "metadata": {},
     "output_type": "display_data"
    }
   ],
   "source": [
    "x\n",
    "round_date(x, 'month')"
   ]
  },
  {
   "cell_type": "code",
   "execution_count": 15,
   "metadata": {},
   "outputs": [
    {
     "data": {
      "text/plain": [
       "[1] \"2009-08-03 12:01:59 UTC\""
      ]
     },
     "metadata": {},
     "output_type": "display_data"
    },
    {
     "data": {
      "text/plain": [
       "[1] \"2009-07-01 UTC\""
      ]
     },
     "metadata": {},
     "output_type": "display_data"
    },
    {
     "data": {
      "text/plain": [
       "[1] \"2009-07-01 UTC\""
      ]
     },
     "metadata": {},
     "output_type": "display_data"
    }
   ],
   "source": [
    "x\n",
    "# round to the nearest month\n",
    "round_date(x, 'quarter')\n",
    "\n",
    "# equivalent\n",
    "round_date(x, '3 months')"
   ]
  },
  {
   "cell_type": "markdown",
   "metadata": {},
   "source": [
    "### Rounding up date object:"
   ]
  },
  {
   "cell_type": "markdown",
   "metadata": {},
   "source": [
    "Round up to the next closest rounding unit boundary. For example, if the rounding unit is `month` then next closest boundary of 2000-01-01 is 2000-02-01 00:00:00.\n",
    "\n",
    "The motivation for this is that the \"partial\" 2000-01-01 is conceptually an interval (2000-01-01 00:00:00 -- 2000-01-02 00:00:00) and the day hasn't started clocking yet at the exact boundary 00:00:00. Thus, it seems wrong to round a day to its lower boundary.\n",
    "\n",
    "Behavior on the boundary can be changed by setting `change_on_boundary` to TRUE or FALSE."
   ]
  },
  {
   "cell_type": "code",
   "execution_count": 17,
   "metadata": {},
   "outputs": [
    {
     "data": {
      "text/plain": [
       "[1] \"2000-01-01 UTC\""
      ]
     },
     "metadata": {},
     "output_type": "display_data"
    },
    {
     "data": {
      "text/html": [
       "<time datetime=\"2000-02-01\">2000-02-01</time>"
      ],
      "text/latex": [
       "2000-02-01"
      ],
      "text/markdown": [
       "2000-02-01"
      ],
      "text/plain": [
       "[1] \"2000-02-01\""
      ]
     },
     "metadata": {},
     "output_type": "display_data"
    }
   ],
   "source": [
    "## As per default behaviour `NULL`, instants on the boundary remain the\n",
    "## same but dates are rounded up\n",
    "ceiling_date(ymd_hms(\"2000-01-01 00:00:00\"), \"month\")\n",
    "\n",
    "ceiling_date(ymd(\"2000-01-01\"), \"month\")"
   ]
  },
  {
   "cell_type": "code",
   "execution_count": 24,
   "metadata": {},
   "outputs": [
    {
     "data": {
      "text/plain": [
       "[1] \"2000-02-01 UTC\""
      ]
     },
     "metadata": {},
     "output_type": "display_data"
    },
    {
     "data": {
      "text/html": [
       "<time datetime=\"2000-02-01\">2000-02-01</time>"
      ],
      "text/latex": [
       "2000-02-01"
      ],
      "text/markdown": [
       "2000-02-01"
      ],
      "text/plain": [
       "[1] \"2000-02-01\""
      ]
     },
     "metadata": {},
     "output_type": "display_data"
    }
   ],
   "source": [
    "## If `TRUE`, both instants and dates on the boundary are rounded up\n",
    "ceiling_date(ymd_hms(\"2000-01-01 00:00:00\"), \"month\", change_on_boundary = TRUE)\n",
    "\n",
    "ceiling_date(ymd(\"2000-01-01\"), \"month\")\n"
   ]
  },
  {
   "cell_type": "code",
   "execution_count": 25,
   "metadata": {},
   "outputs": [
    {
     "data": {
      "text/plain": [
       "[1] \"2000-01-01 UTC\""
      ]
     },
     "metadata": {},
     "output_type": "display_data"
    },
    {
     "data": {
      "text/html": [
       "<time datetime=\"2000-02-01\">2000-02-01</time>"
      ],
      "text/latex": [
       "2000-02-01"
      ],
      "text/markdown": [
       "2000-02-01"
      ],
      "text/plain": [
       "[1] \"2000-02-01\""
      ]
     },
     "metadata": {},
     "output_type": "display_data"
    }
   ],
   "source": [
    "## If `FALSE`, both instants and dates on the boundary remain the same\n",
    "ceiling_date(ymd_hms(\"2000-01-01 00:00:00\"), \"month\", change_on_boundary = FALSE)\n",
    "\n",
    "ceiling_date(ymd(\"2000-01-01\"), \"month\")"
   ]
  }
 ],
 "metadata": {
  "kernelspec": {
   "display_name": "R",
   "language": "R",
   "name": "ir"
  },
  "language_info": {
   "codemirror_mode": "r",
   "file_extension": ".r",
   "mimetype": "text/x-r-source",
   "name": "R",
   "pygments_lexer": "r",
   "version": "3.6.1"
  }
 },
 "nbformat": 4,
 "nbformat_minor": 2
}
