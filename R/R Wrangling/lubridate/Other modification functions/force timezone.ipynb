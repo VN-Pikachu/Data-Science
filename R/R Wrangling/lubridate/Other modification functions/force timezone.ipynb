{
 "cells": [
  {
   "cell_type": "code",
   "execution_count": 2,
   "metadata": {},
   "outputs": [],
   "source": [
    "library(lubridate)"
   ]
  },
  {
   "cell_type": "markdown",
   "metadata": {},
   "source": [
    "# Replace timezone to create a new date-time"
   ]
  },
  {
   "cell_type": "markdown",
   "metadata": {},
   "source": [
    "`force_tz` returns the date-time that has the same clock time as input time, but in the new time zone. `force_tzs` is the parallel version of `force_tz`, meaning that every element from time argument is matched with the corresponding time zone in tzones argument.\n",
    "```r\n",
    "force_tz(time, tzone = \"\", roll = FALSE)\n",
    "\n",
    "force_tzs(time, tzones, tzone_out = \"UTC\", roll = FALSE)\n",
    "```"
   ]
  },
  {
   "cell_type": "markdown",
   "metadata": {},
   "source": [
    "# Value"
   ]
  },
  {
   "cell_type": "markdown",
   "metadata": {},
   "source": [
    "a POSIXct object in the updated time zone"
   ]
  },
  {
   "cell_type": "markdown",
   "metadata": {},
   "source": [
    "# Details"
   ]
  },
  {
   "cell_type": "markdown",
   "metadata": {},
   "source": [
    "Although the new date-time has the same clock time (e.g. the same values in the year, month, days, etc. elements) it is a different moment of time than the input date-time.\n",
    "\n",
    "As R date-time vectors cannot hold elements with non-uniform time zones, force_tzs returns a vector with time zone tzone_out, UTC by default."
   ]
  },
  {
   "cell_type": "markdown",
   "metadata": {},
   "source": [
    "# Examples"
   ]
  },
  {
   "cell_type": "markdown",
   "metadata": {},
   "source": [
    "e.g: Change 12:00 am in Vietnam to 12:00 am in London "
   ]
  },
  {
   "cell_type": "markdown",
   "metadata": {},
   "source": [
    "**`force_tz()`** return a new datetime object, instead of modifying in-place like **`tz() <- `**"
   ]
  },
  {
   "cell_type": "code",
   "execution_count": 3,
   "metadata": {},
   "outputs": [
    {
     "data": {
      "text/plain": [
       "[1] \"2009-08-07 00:00:01 EDT\""
      ]
     },
     "metadata": {},
     "output_type": "display_data"
    }
   ],
   "source": [
    "x <- ymd_hms(\"2009-08-07 00:00:01\", tz = \"America/New_York\")\n",
    "\n",
    "x"
   ]
  },
  {
   "cell_type": "code",
   "execution_count": 4,
   "metadata": {},
   "outputs": [
    {
     "data": {
      "text/plain": [
       "[1] \"2009-08-07 00:00:01 BST\""
      ]
     },
     "metadata": {},
     "output_type": "display_data"
    }
   ],
   "source": [
    "force_tz(x, 'Europe/London')"
   ]
  },
  {
   "cell_type": "markdown",
   "metadata": {},
   "source": [
    "**roll**\t\n",
    "logical. If TRUE, and time falls into the DST-break, assume the next valid civil time, otherwise return NA. See examples.\n"
   ]
  },
  {
   "cell_type": "code",
   "execution_count": 5,
   "metadata": {},
   "outputs": [
    {
     "data": {
      "text/plain": [
       "[1] NA"
      ]
     },
     "metadata": {},
     "output_type": "display_data"
    },
    {
     "data": {
      "text/plain": [
       "[1] \"2010-03-14 03:00:00 EDT\""
      ]
     },
     "metadata": {},
     "output_type": "display_data"
    }
   ],
   "source": [
    "## DST skip:\n",
    "\n",
    "y <- ymd_hms(\"2010-03-14 02:05:05 UTC\")\n",
    "force_tz(y, \"America/New_York\", roll=FALSE)\n",
    "\n",
    "force_tz(y, \"America/New_York\", roll=TRUE)\n"
   ]
  },
  {
   "cell_type": "markdown",
   "metadata": {},
   "source": [
    "Heterogeneous time-zones:"
   ]
  },
  {
   "cell_type": "markdown",
   "metadata": {},
   "source": [
    "Replace current timezone with target timezone `tzones`, than convert all of them to the same moment in timezone `tzone_out`"
   ]
  },
  {
   "cell_type": "code",
   "execution_count": 7,
   "metadata": {},
   "outputs": [
    {
     "data": {
      "text/plain": [
       "[1] \"2009-08-07 04:00:01 UTC\" \"2009-08-06 23:02:03 UTC\""
      ]
     },
     "metadata": {},
     "output_type": "display_data"
    }
   ],
   "source": [
    "#As R date-time vectors cannot hold elements with non-uniform time zones, force_tzs returns a vector with time zone tzone_out, UTC by default.\n",
    "\n",
    "x <- ymd_hms(c(\"2009-08-07 00:00:01\", \"2009-08-07 01:02:03\"))\n",
    "\n",
    "\n",
    "force_tzs(x, tzones = c(\"America/New_York\", \"Europe/Amsterdam\"))"
   ]
  },
  {
   "cell_type": "code",
   "execution_count": 21,
   "metadata": {},
   "outputs": [
    {
     "data": {
      "text/plain": [
       "[1] \"2009-08-07 04:00:01 UTC\" \"2009-08-06 23:02:03 UTC\""
      ]
     },
     "metadata": {},
     "output_type": "display_data"
    }
   ],
   "source": [
    "# internally, this is how it works:\n",
    "\n",
    "x <- ymd_hms(c(\"2009-08-07 00:00:01\", \"2009-08-07 01:02:03\"))\n",
    "\n",
    "\n",
    "\n",
    "tzones = c(\"America/New_York\", \"Europe/Amsterdam\")    # Target timezone\n",
    "\n",
    "tzone_out = 'UTC'  # default\n",
    "\n",
    "\n",
    "# replace timezone\n",
    "result1 <- force_tz(x[1], tzones[1])\n",
    "result2 <- force_tz(x[2], tzones[2])\n",
    "\n",
    "# the same moment in tzone_out\n",
    "\n",
    "result1 <- with_tz(result1, tzone_out)\n",
    "result2 <- with_tz(result2, tzone_out)\n",
    "\n",
    "result <- c(result1, result2)\n",
    "\n",
    "result\n"
   ]
  },
  {
   "cell_type": "code",
   "execution_count": 13,
   "metadata": {},
   "outputs": [
    {
     "data": {
      "text/plain": [
       "[1] \"2009-08-07 00:00:01 EDT\" \"2009-08-06 19:02:03 EDT\""
      ]
     },
     "metadata": {},
     "output_type": "display_data"
    }
   ],
   "source": [
    "# Another example\n",
    "force_tzs(x, tzones = c(\"America/New_York\", \"Europe/Amsterdam\"), tzone_out = \"America/New_York\")"
   ]
  }
 ],
 "metadata": {
  "kernelspec": {
   "display_name": "R",
   "language": "R",
   "name": "ir"
  },
  "language_info": {
   "codemirror_mode": "r",
   "file_extension": ".r",
   "mimetype": "text/x-r-source",
   "name": "R",
   "pygments_lexer": "r",
   "version": "3.6.1"
  }
 },
 "nbformat": 4,
 "nbformat_minor": 2
}
