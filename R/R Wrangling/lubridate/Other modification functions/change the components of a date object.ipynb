{
 "cells": [
  {
   "cell_type": "code",
   "execution_count": 2,
   "metadata": {},
   "outputs": [],
   "source": [
    "library(lubridate)"
   ]
  },
  {
   "cell_type": "markdown",
   "metadata": {},
   "source": [
    "# Change the components of a date object"
   ]
  },
  {
   "cell_type": "markdown",
   "metadata": {},
   "source": [
    "**`update.Date()`** and **`update.POSIXt()`** return a date with the specified elements updated. Elements not specified will be left unaltered. update.Date and update.POSIXt do not add the specified values to the existing date, they substitute them for the appropriate parts of the existing date."
   ]
  },
  {
   "cell_type": "markdown",
   "metadata": {},
   "source": [
    "```r\n",
    "# S3 method for POSIXt\n",
    "update(\n",
    "  object,\n",
    "  ...,\n",
    "  roll = FALSE,\n",
    "  week_start = getOption(\"lubridate.week.start\", 7),\n",
    "  simple = NULL\n",
    ")\n",
    "```"
   ]
  },
  {
   "cell_type": "markdown",
   "metadata": {},
   "source": [
    "**Arguments**  \n",
    "`object`\t\n",
    "a date-time object\n",
    "\n",
    "`...`\t\n",
    "named arguments: years, months, ydays, wdays, mdays, days, hours, minutes, seconds, tzs (time zone component)\n",
    "\n",
    "`roll`\t\n",
    "logical. If TRUE, and the resulting date-time lands on a non-existent civil time instant (DST, 29th February, etc.) roll the date till next valid point. When FALSE, the default, produce NA for non existing date-times.\n",
    "\n",
    "`week_start`\t\n",
    "week starting day (Default is 7, Sunday). Set lubridate.week.start option to control this.\n",
    "\n",
    "`simple`\t\n",
    "logical. Deprecated. Same as roll.\n"
   ]
  },
  {
   "cell_type": "markdown",
   "metadata": {},
   "source": [
    "# Examples"
   ]
  },
  {
   "cell_type": "markdown",
   "metadata": {},
   "source": [
    "This return a new date object, instead of modify in-place like **`year() <- `**, **`month() <- `**"
   ]
  },
  {
   "cell_type": "code",
   "execution_count": 4,
   "metadata": {},
   "outputs": [
    {
     "data": {
      "text/html": [
       "<time datetime=\"2001-10-06\">2001-10-06</time>"
      ],
      "text/latex": [
       "2001-10-06"
      ],
      "text/markdown": [
       "2001-10-06"
      ],
      "text/plain": [
       "[1] \"2001-10-06\""
      ]
     },
     "metadata": {},
     "output_type": "display_data"
    }
   ],
   "source": [
    "date <- ymd(011006)\n",
    "\n",
    "date"
   ]
  },
  {
   "cell_type": "code",
   "execution_count": 5,
   "metadata": {},
   "outputs": [
    {
     "data": {
      "text/html": [
       "<time datetime=\"2020-05-06\">2020-05-06</time>"
      ],
      "text/latex": [
       "2020-05-06"
      ],
      "text/markdown": [
       "2020-05-06"
      ],
      "text/plain": [
       "[1] \"2020-05-06\""
      ]
     },
     "metadata": {},
     "output_type": "display_data"
    }
   ],
   "source": [
    "update(date, years = 2020, month = 5)"
   ]
  },
  {
   "cell_type": "code",
   "execution_count": 7,
   "metadata": {},
   "outputs": [
    {
     "data": {
      "text/html": [
       "<time datetime=\"2002-01-06\">2002-01-06</time>"
      ],
      "text/latex": [
       "2002-01-06"
      ],
      "text/markdown": [
       "2002-01-06"
      ],
      "text/plain": [
       "[1] \"2002-01-06\""
      ]
     },
     "metadata": {},
     "output_type": "display_data"
    }
   ],
   "source": [
    "update(date, month = 13)"
   ]
  },
  {
   "cell_type": "code",
   "execution_count": 12,
   "metadata": {},
   "outputs": [
    {
     "data": {
      "text/html": [
       "<ol class=list-inline>\n",
       "\t<li><time datetime=\"2001-09-30\">2001-09-30</time></li>\n",
       "\t<li><time datetime=\"2001-10-01\">2001-10-01</time></li>\n",
       "\t<li><time datetime=\"2001-10-02\">2001-10-02</time></li>\n",
       "\t<li><time datetime=\"2001-10-03\">2001-10-03</time></li>\n",
       "\t<li><time datetime=\"2001-10-04\">2001-10-04</time></li>\n",
       "\t<li><time datetime=\"2001-10-05\">2001-10-05</time></li>\n",
       "\t<li><time datetime=\"2001-10-06\">2001-10-06</time></li>\n",
       "</ol>\n"
      ],
      "text/latex": [
       "\\begin{enumerate*}\n",
       "\\item 2001-09-30\n",
       "\\item 2001-10-01\n",
       "\\item 2001-10-02\n",
       "\\item 2001-10-03\n",
       "\\item 2001-10-04\n",
       "\\item 2001-10-05\n",
       "\\item 2001-10-06\n",
       "\\end{enumerate*}\n"
      ],
      "text/markdown": [
       "1. 2001-09-30\n",
       "2. 2001-10-01\n",
       "3. 2001-10-02\n",
       "4. 2001-10-03\n",
       "5. 2001-10-04\n",
       "6. 2001-10-05\n",
       "7. 2001-10-06\n",
       "\n",
       "\n"
      ],
      "text/plain": [
       "[1] \"2001-09-30\" \"2001-10-01\" \"2001-10-02\" \"2001-10-03\" \"2001-10-04\"\n",
       "[6] \"2001-10-05\" \"2001-10-06\""
      ]
     },
     "metadata": {},
     "output_type": "display_data"
    }
   ],
   "source": [
    "update(date, wdays = 1:7)"
   ]
  },
  {
   "cell_type": "markdown",
   "metadata": {},
   "source": [
    "Rolling:"
   ]
  },
  {
   "cell_type": "code",
   "execution_count": 18,
   "metadata": {},
   "outputs": [
    {
     "data": {
      "text/html": [
       "<time datetime=\"2020-01-31\">2020-01-31</time>"
      ],
      "text/latex": [
       "2020-01-31"
      ],
      "text/markdown": [
       "2020-01-31"
      ],
      "text/plain": [
       "[1] \"2020-01-31\""
      ]
     },
     "metadata": {},
     "output_type": "display_data"
    }
   ],
   "source": [
    "date <- ymd(200131)\n",
    "\n",
    "date"
   ]
  },
  {
   "cell_type": "code",
   "execution_count": 21,
   "metadata": {},
   "outputs": [
    {
     "data": {
      "text/html": [
       "<time datetime=\"2020-03-02\">2020-03-02</time>"
      ],
      "text/latex": [
       "2020-03-02"
      ],
      "text/markdown": [
       "2020-03-02"
      ],
      "text/plain": [
       "[1] \"2020-03-02\""
      ]
     },
     "metadata": {},
     "output_type": "display_data"
    }
   ],
   "source": [
    "update(date, months = 2, roll = T)"
   ]
  },
  {
   "cell_type": "code",
   "execution_count": 20,
   "metadata": {},
   "outputs": [
    {
     "data": {
      "text/html": [
       "<time datetime=\"2020-03-02\">2020-03-02</time>"
      ],
      "text/latex": [
       "2020-03-02"
      ],
      "text/markdown": [
       "2020-03-02"
      ],
      "text/plain": [
       "[1] \"2020-03-02\""
      ]
     },
     "metadata": {},
     "output_type": "display_data"
    }
   ],
   "source": [
    "update(date, months = 2, roll = F)"
   ]
  }
 ],
 "metadata": {
  "kernelspec": {
   "display_name": "R",
   "language": "R",
   "name": "ir"
  },
  "language_info": {
   "codemirror_mode": "r",
   "file_extension": ".r",
   "mimetype": "text/x-r-source",
   "name": "R",
   "pygments_lexer": "r",
   "version": "3.6.1"
  }
 },
 "nbformat": 4,
 "nbformat_minor": 2
}
