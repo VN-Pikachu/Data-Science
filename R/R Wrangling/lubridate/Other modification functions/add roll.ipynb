{
 "cells": [
  {
   "cell_type": "code",
   "execution_count": 3,
   "metadata": {},
   "outputs": [],
   "source": [
    "library(lubridate)"
   ]
  },
  {
   "cell_type": "markdown",
   "metadata": {},
   "source": [
    "# Add and subtract months to a date without exceeding the last day of the new month"
   ]
  },
  {
   "cell_type": "markdown",
   "metadata": {},
   "source": [
    "Adding months frustrates basic arithmetic because consecutive months have different lengths. With other elements, it is helpful for arithmetic to perform automatic roll over. For example, 12:00:00 + 61 seconds becomes 12:01:01. However, people often prefer that this behavior NOT occur with months. For example, we sometimes want January 31 + 1 month = February 28 and not March 3. `%m+%` performs this type of arithmetic. Date `%m+%` months(n) always returns a date in the nth month after Date. If the new date would usually spill over into the n + 1th month, `%m+%` will return the last day of the nth month (`rollback()`). Date `%m-%` months(n) always returns a date in the nth month before Date."
   ]
  },
  {
   "cell_type": "markdown",
   "metadata": {},
   "source": [
    "```r\n",
    "e1 %m+% e2\n",
    "\n",
    "add_with_rollback(e1, e2, roll_to_first = FALSE, preserve_hms = TRUE)\n",
    "```"
   ]
  },
  {
   "cell_type": "markdown",
   "metadata": {},
   "source": [
    "# Details"
   ]
  },
  {
   "cell_type": "markdown",
   "metadata": {},
   "source": [
    "`%m+%` and `%m-%` handle periods with components less than a month by first adding/subtracting months and then performing usual arithmetics with smaller units.\n",
    "\n",
    "`%m+%` and `%m-%` should be used with caution as they are not one-to-one operations and results for either will be sensitive to the order of operations."
   ]
  },
  {
   "cell_type": "markdown",
   "metadata": {},
   "source": [
    "# Examples"
   ]
  },
  {
   "cell_type": "code",
   "execution_count": 17,
   "metadata": {},
   "outputs": [
    {
     "data": {
      "text/plain": [
       "[1] \"2010-02-28 03:04:05 UTC\" \"2010-03-31 03:04:05 UTC\"\n",
       "[3] \"2010-04-30 03:04:05 UTC\""
      ]
     },
     "metadata": {},
     "output_type": "display_data"
    },
    {
     "data": {
      "text/plain": [
       "[1] \"2010-02-28 03:04:05 UTC\" \"2010-03-31 03:04:05 UTC\"\n",
       "[3] \"2010-04-30 03:04:05 UTC\""
      ]
     },
     "metadata": {},
     "output_type": "display_data"
    },
    {
     "data": {
      "text/plain": [
       "[1] NA                        \"2010-03-31 03:04:05 UTC\"\n",
       "[3] NA                       "
      ]
     },
     "metadata": {},
     "output_type": "display_data"
    }
   ],
   "source": [
    "jan <- ymd_hms(\"2010-01-31 03:04:05\")\n",
    "\n",
    "jan %m+% months(1:3)\n",
    "# equivalent\n",
    "add_with_rollback(jan, months(1:3))\n",
    "\n",
    "# compare without rolling\n",
    "\n",
    "jan + months(1:3)    # date 2010-02-31, 2010-04-31 is invalid.  January and April only have 30 days "
   ]
  },
  {
   "cell_type": "code",
   "execution_count": 19,
   "metadata": {},
   "outputs": [
    {
     "data": {
      "text/html": [
       "<time datetime=\"2013-02-28\">2013-02-28</time>"
      ],
      "text/latex": [
       "2013-02-28"
      ],
      "text/markdown": [
       "2013-02-28"
      ],
      "text/plain": [
       "[1] \"2013-02-28\""
      ]
     },
     "metadata": {},
     "output_type": "display_data"
    },
    {
     "data": {
      "text/html": [
       "<time datetime=\"2013-02-28\">2013-02-28</time>"
      ],
      "text/latex": [
       "2013-02-28"
      ],
      "text/markdown": [
       "2013-02-28"
      ],
      "text/plain": [
       "[1] \"2013-02-28\""
      ]
     },
     "metadata": {},
     "output_type": "display_data"
    },
    {
     "data": {
      "text/html": [
       "<time datetime=\"&lt;NA&gt;\">&lt;NA&gt;</time>"
      ],
      "text/latex": [
       "<NA>"
      ],
      "text/markdown": [
       "&lt;NA&gt;"
      ],
      "text/plain": [
       "[1] NA"
      ]
     },
     "metadata": {},
     "output_type": "display_data"
    }
   ],
   "source": [
    "leap <- ymd(\"2012-02-29\")\n",
    "\n",
    "leap %m+% years(1)\n",
    "# equivalent\n",
    "add_with_rollback(leap, years(1))\n",
    "\n",
    "# compare without rolling\n",
    "leap + years(1)   # date 2013-02-29 is an invalid date, only leap year, February has 29 days"
   ]
  },
  {
   "cell_type": "code",
   "execution_count": 16,
   "metadata": {},
   "outputs": [
    {
     "data": {
      "text/html": [
       "<time datetime=\"2011-02-28\">2011-02-28</time>"
      ],
      "text/latex": [
       "2011-02-28"
      ],
      "text/markdown": [
       "2011-02-28"
      ],
      "text/plain": [
       "[1] \"2011-02-28\""
      ]
     },
     "metadata": {},
     "output_type": "display_data"
    },
    {
     "data": {
      "text/html": [
       "<time datetime=\"2011-02-28\">2011-02-28</time>"
      ],
      "text/latex": [
       "2011-02-28"
      ],
      "text/markdown": [
       "2011-02-28"
      ],
      "text/plain": [
       "[1] \"2011-02-28\""
      ]
     },
     "metadata": {},
     "output_type": "display_data"
    },
    {
     "data": {
      "text/html": [
       "<time datetime=\"2011-02-28\">2011-02-28</time>"
      ],
      "text/latex": [
       "2011-02-28"
      ],
      "text/markdown": [
       "2011-02-28"
      ],
      "text/plain": [
       "[1] \"2011-02-28\""
      ]
     },
     "metadata": {},
     "output_type": "display_data"
    },
    {
     "data": {
      "text/html": [
       "<time datetime=\"&lt;NA&gt;\">&lt;NA&gt;</time>"
      ],
      "text/latex": [
       "<NA>"
      ],
      "text/markdown": [
       "&lt;NA&gt;"
      ],
      "text/plain": [
       "[1] NA"
      ]
     },
     "metadata": {},
     "output_type": "display_data"
    }
   ],
   "source": [
    "leap %m-% years(1)\n",
    "\n",
    "#equivalent\n",
    "leap %m+% years(-1)\n",
    "\n",
    "#equivalent\n",
    "add_with_rollback(leap, years(-1))\n",
    "\n",
    "# compare without rolling\n",
    "\n",
    "leap - years(1)  # date 2011-02-29 is invalid"
   ]
  },
  {
   "cell_type": "code",
   "execution_count": 21,
   "metadata": {},
   "outputs": [
    {
     "data": {
      "text/plain": [
       "[1] \"2019-02-28 01:02:03 UTC\""
      ]
     },
     "metadata": {},
     "output_type": "display_data"
    }
   ],
   "source": [
    "x <- ymd_hms(\"2019-01-29 01:02:03\")\n",
    "\n",
    "add_with_rollback(x, months(1))"
   ]
  },
  {
   "cell_type": "code",
   "execution_count": 22,
   "metadata": {},
   "outputs": [
    {
     "data": {
      "text/plain": [
       "[1] \"2019-02-28 01:02:03 UTC\""
      ]
     },
     "metadata": {},
     "output_type": "display_data"
    }
   ],
   "source": [
    "add_with_rollback(x, months(1), preserve_hms = T) # default preserve_hms = T"
   ]
  },
  {
   "cell_type": "code",
   "execution_count": 23,
   "metadata": {},
   "outputs": [
    {
     "data": {
      "text/plain": [
       "[1] \"2019-02-28 UTC\""
      ]
     },
     "metadata": {},
     "output_type": "display_data"
    }
   ],
   "source": [
    "add_with_rollback(x, months(1), preserve_hms = F) # do not preserve hsm, change to 00:00:00"
   ]
  },
  {
   "cell_type": "code",
   "execution_count": 26,
   "metadata": {},
   "outputs": [
    {
     "data": {
      "text/plain": [
       "[1] \"2019-02-28 01:02:03 UTC\""
      ]
     },
     "metadata": {},
     "output_type": "display_data"
    }
   ],
   "source": [
    "add_with_rollback(x, months(1), roll_to_first = F) # default, change from January 29 to February 28"
   ]
  },
  {
   "cell_type": "code",
   "execution_count": 27,
   "metadata": {},
   "outputs": [
    {
     "data": {
      "text/plain": [
       "[1] \"2019-03-01 01:02:03 UTC\""
      ]
     },
     "metadata": {},
     "output_type": "display_data"
    }
   ],
   "source": [
    "add_with_rollback(x, months(1), roll_to_first = T)  # change from January 29 to February 28"
   ]
  }
 ],
 "metadata": {
  "kernelspec": {
   "display_name": "R",
   "language": "R",
   "name": "ir"
  },
  "language_info": {
   "codemirror_mode": "r",
   "file_extension": ".r",
   "mimetype": "text/x-r-source",
   "name": "R",
   "pygments_lexer": "r",
   "version": "3.6.1"
  }
 },
 "nbformat": 4,
 "nbformat_minor": 2
}
