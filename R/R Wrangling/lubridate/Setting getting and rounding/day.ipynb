{
 "cells": [
  {
   "cell_type": "code",
   "execution_count": 2,
   "metadata": {},
   "outputs": [],
   "source": [
    "library(lubridate)"
   ]
  },
  {
   "cell_type": "markdown",
   "metadata": {},
   "source": [
    "# Get/set days component of a date-time"
   ]
  },
  {
   "cell_type": "markdown",
   "metadata": {},
   "source": [
    "```r\n",
    "day(x)\n",
    "\n",
    "mday(x)\n",
    "\n",
    "wday(\n",
    "  x,\n",
    "  label = FALSE,\n",
    "  abbr = TRUE,\n",
    "  week_start = getOption(\"lubridate.week.start\", 7),\n",
    "  locale = Sys.getlocale(\"LC_TIME\")\n",
    ")\n",
    "\n",
    "qday(x)\n",
    "\n",
    "yday(x)\n",
    "\n",
    "day(x) <- value\n",
    "\n",
    "mday(x) <- value\n",
    "\n",
    "qday(x) <- value\n",
    "\n",
    "wday(x, week_start = getOption(\"lubridate.week.start\", 7)) <- value\n",
    "\n",
    "yday(x) <- value\n",
    "```"
   ]
  },
  {
   "cell_type": "markdown",
   "metadata": {},
   "source": [
    "# Value"
   ]
  },
  {
   "cell_type": "markdown",
   "metadata": {},
   "source": [
    "`wday()` returns the day of the week as a decimal number or an ordered factor if label is TRUE."
   ]
  },
  {
   "cell_type": "markdown",
   "metadata": {},
   "source": [
    "# Details"
   ]
  },
  {
   "cell_type": "markdown",
   "metadata": {},
   "source": [
    "`mday()` and `yday()` return the day of the month and day of the year respectively. `day()` and `day<-()` are aliases for `mday()` and `mday<-()`."
   ]
  },
  {
   "cell_type": "markdown",
   "metadata": {},
   "source": [
    "# Examples"
   ]
  },
  {
   "cell_type": "code",
   "execution_count": 3,
   "metadata": {},
   "outputs": [],
   "source": [
    "birthday <- ymd('2001-10-06')"
   ]
  },
  {
   "cell_type": "code",
   "execution_count": 5,
   "metadata": {},
   "outputs": [
    {
     "data": {
      "text/html": [
       "279"
      ],
      "text/latex": [
       "279"
      ],
      "text/markdown": [
       "279"
      ],
      "text/plain": [
       "[1] 279"
      ]
     },
     "metadata": {},
     "output_type": "display_data"
    }
   ],
   "source": [
    "# day-th of year\n",
    "yday(birthday)"
   ]
  },
  {
   "cell_type": "code",
   "execution_count": 7,
   "metadata": {},
   "outputs": [
    {
     "data": {
      "text/html": [
       "6"
      ],
      "text/latex": [
       "6"
      ],
      "text/markdown": [
       "6"
      ],
      "text/plain": [
       "[1] 6"
      ]
     },
     "metadata": {},
     "output_type": "display_data"
    },
    {
     "data": {
      "text/html": [
       "6"
      ],
      "text/latex": [
       "6"
      ],
      "text/markdown": [
       "6"
      ],
      "text/plain": [
       "[1] 6"
      ]
     },
     "metadata": {},
     "output_type": "display_data"
    }
   ],
   "source": [
    "# day-th of month\n",
    "day(birthday)\n",
    "# allias\n",
    "mday(birthday)"
   ]
  },
  {
   "cell_type": "code",
   "execution_count": 18,
   "metadata": {},
   "outputs": [
    {
     "data": {
      "text/html": [
       "7"
      ],
      "text/latex": [
       "7"
      ],
      "text/markdown": [
       "7"
      ],
      "text/plain": [
       "[1] 7"
      ]
     },
     "metadata": {},
     "output_type": "display_data"
    }
   ],
   "source": [
    "# weekday (as number)\n",
    "# by default, 1 means Sunday, 2 means Monday, ..., 7 means Saturday\n",
    "wday(birthday)"
   ]
  },
  {
   "cell_type": "code",
   "execution_count": 17,
   "metadata": {},
   "outputs": [
    {
     "data": {
      "text/html": [
       "Sat\n",
       "<details>\n",
       "\t<summary style=display:list-item;cursor:pointer>\n",
       "\t\t<strong>Levels</strong>:\n",
       "\t</summary>\n",
       "\t<ol class=list-inline>\n",
       "\t\t<li>'Sun'</li>\n",
       "\t\t<li>'Mon'</li>\n",
       "\t\t<li>'Tue'</li>\n",
       "\t\t<li>'Wed'</li>\n",
       "\t\t<li>'Thu'</li>\n",
       "\t\t<li>'Fri'</li>\n",
       "\t\t<li>'Sat'</li>\n",
       "\t</ol>\n",
       "</details>"
      ],
      "text/latex": [
       "Sat\n",
       "\\emph{Levels}: \\begin{enumerate*}\n",
       "\\item 'Sun'\n",
       "\\item 'Mon'\n",
       "\\item 'Tue'\n",
       "\\item 'Wed'\n",
       "\\item 'Thu'\n",
       "\\item 'Fri'\n",
       "\\item 'Sat'\n",
       "\\end{enumerate*}\n"
      ],
      "text/markdown": [
       "Sat\n",
       "**Levels**: 1. 'Sun'\n",
       "2. 'Mon'\n",
       "3. 'Tue'\n",
       "4. 'Wed'\n",
       "5. 'Thu'\n",
       "6. 'Fri'\n",
       "7. 'Sat'\n",
       "\n",
       "\n"
      ],
      "text/plain": [
       "[1] Sat\n",
       "Levels: Sun < Mon < Tue < Wed < Thu < Fri < Sat"
      ]
     },
     "metadata": {},
     "output_type": "display_data"
    }
   ],
   "source": [
    "# as abreviated weekday name\n",
    "wday(birthday, label = T)\n",
    "\n",
    "#levels: Sun < Mon < Tue < ... < Sat "
   ]
  },
  {
   "cell_type": "code",
   "execution_count": 12,
   "metadata": {},
   "outputs": [
    {
     "data": {
      "text/html": [
       "Saturday\n",
       "<details>\n",
       "\t<summary style=display:list-item;cursor:pointer>\n",
       "\t\t<strong>Levels</strong>:\n",
       "\t</summary>\n",
       "\t<ol class=list-inline>\n",
       "\t\t<li>'Sunday'</li>\n",
       "\t\t<li>'Monday'</li>\n",
       "\t\t<li>'Tuesday'</li>\n",
       "\t\t<li>'Wednesday'</li>\n",
       "\t\t<li>'Thursday'</li>\n",
       "\t\t<li>'Friday'</li>\n",
       "\t\t<li>'Saturday'</li>\n",
       "\t</ol>\n",
       "</details>"
      ],
      "text/latex": [
       "Saturday\n",
       "\\emph{Levels}: \\begin{enumerate*}\n",
       "\\item 'Sunday'\n",
       "\\item 'Monday'\n",
       "\\item 'Tuesday'\n",
       "\\item 'Wednesday'\n",
       "\\item 'Thursday'\n",
       "\\item 'Friday'\n",
       "\\item 'Saturday'\n",
       "\\end{enumerate*}\n"
      ],
      "text/markdown": [
       "Saturday\n",
       "**Levels**: 1. 'Sunday'\n",
       "2. 'Monday'\n",
       "3. 'Tuesday'\n",
       "4. 'Wednesday'\n",
       "5. 'Thursday'\n",
       "6. 'Friday'\n",
       "7. 'Saturday'\n",
       "\n",
       "\n"
      ],
      "text/plain": [
       "[1] Saturday\n",
       "7 Levels: Sunday < Monday < Tuesday < Wednesday < Thursday < ... < Saturday"
      ]
     },
     "metadata": {},
     "output_type": "display_data"
    }
   ],
   "source": [
    "# full name weekday\n",
    "wday(birthday, label = T, abbr = F)"
   ]
  },
  {
   "cell_type": "markdown",
   "metadata": {},
   "source": [
    "**`week_start`**  \t\n",
    "day on which week starts following ISO conventions - 1 means Monday, 7 means Sunday (default). When label = TRUE, this will be the first level of the returned factor. You can set lubridate.week.start option to control this parameter globally."
   ]
  },
  {
   "cell_type": "code",
   "execution_count": 15,
   "metadata": {},
   "outputs": [
    {
     "data": {
      "text/html": [
       "6"
      ],
      "text/latex": [
       "6"
      ],
      "text/markdown": [
       "6"
      ],
      "text/plain": [
       "[1] 6"
      ]
     },
     "metadata": {},
     "output_type": "display_data"
    },
    {
     "data": {
      "text/html": [
       "Saturday\n",
       "<details>\n",
       "\t<summary style=display:list-item;cursor:pointer>\n",
       "\t\t<strong>Levels</strong>:\n",
       "\t</summary>\n",
       "\t<ol class=list-inline>\n",
       "\t\t<li>'Monday'</li>\n",
       "\t\t<li>'Tuesday'</li>\n",
       "\t\t<li>'Wednesday'</li>\n",
       "\t\t<li>'Thursday'</li>\n",
       "\t\t<li>'Friday'</li>\n",
       "\t\t<li>'Saturday'</li>\n",
       "\t\t<li>'Sunday'</li>\n",
       "\t</ol>\n",
       "</details>"
      ],
      "text/latex": [
       "Saturday\n",
       "\\emph{Levels}: \\begin{enumerate*}\n",
       "\\item 'Monday'\n",
       "\\item 'Tuesday'\n",
       "\\item 'Wednesday'\n",
       "\\item 'Thursday'\n",
       "\\item 'Friday'\n",
       "\\item 'Saturday'\n",
       "\\item 'Sunday'\n",
       "\\end{enumerate*}\n"
      ],
      "text/markdown": [
       "Saturday\n",
       "**Levels**: 1. 'Monday'\n",
       "2. 'Tuesday'\n",
       "3. 'Wednesday'\n",
       "4. 'Thursday'\n",
       "5. 'Friday'\n",
       "6. 'Saturday'\n",
       "7. 'Sunday'\n",
       "\n",
       "\n"
      ],
      "text/plain": [
       "[1] Saturday\n",
       "7 Levels: Monday < Tuesday < Wednesday < Thursday < Friday < ... < Sunday"
      ]
     },
     "metadata": {},
     "output_type": "display_data"
    }
   ],
   "source": [
    "# 1 means Monday, 2 means Tuesday, ...\n",
    "wday(birthday, week_start = 1)\n",
    "\n",
    "wday(birthday, week_start = 1, label = T, abbr = F)\n",
    "\n",
    "# levels: Monday < Tuesday < Wednesday < ... < Sunday"
   ]
  },
  {
   "cell_type": "code",
   "execution_count": 19,
   "metadata": {},
   "outputs": [
    {
     "data": {
      "text/html": [
       "<time datetime=\"2001-01-01\">2001-01-01</time>"
      ],
      "text/latex": [
       "2001-01-01"
      ],
      "text/markdown": [
       "2001-01-01"
      ],
      "text/plain": [
       "[1] \"2001-01-01\""
      ]
     },
     "metadata": {},
     "output_type": "display_data"
    }
   ],
   "source": [
    "yday(birthday) <- 1\n",
    "\n",
    "birthday"
   ]
  },
  {
   "cell_type": "code",
   "execution_count": 20,
   "metadata": {},
   "outputs": [
    {
     "data": {
      "text/html": [
       "<time datetime=\"2002-01-01\">2002-01-01</time>"
      ],
      "text/latex": [
       "2002-01-01"
      ],
      "text/markdown": [
       "2002-01-01"
      ],
      "text/plain": [
       "[1] \"2002-01-01\""
      ]
     },
     "metadata": {},
     "output_type": "display_data"
    }
   ],
   "source": [
    "yday(birthday) <- 366\n",
    "birthday"
   ]
  }
 ],
 "metadata": {
  "kernelspec": {
   "display_name": "R",
   "language": "R",
   "name": "ir"
  },
  "language_info": {
   "codemirror_mode": "r",
   "file_extension": ".r",
   "mimetype": "text/x-r-source",
   "name": "R",
   "pygments_lexer": "r",
   "version": "3.6.1"
  }
 },
 "nbformat": 4,
 "nbformat_minor": 2
}
