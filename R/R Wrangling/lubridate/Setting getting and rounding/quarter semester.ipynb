{
 "cells": [
  {
   "cell_type": "code",
   "execution_count": 2,
   "metadata": {},
   "outputs": [],
   "source": [
    "library(lubridate)"
   ]
  },
  {
   "cell_type": "markdown",
   "metadata": {},
   "source": [
    "# Get the fiscal quarter and semester of a date-time"
   ]
  },
  {
   "cell_type": "markdown",
   "metadata": {},
   "source": [
    "Quarters divide the year into fourths. Semesters divide the year into halfs.\n",
    "```r\n",
    "quarter(x, with_year = FALSE, fiscal_start = 1)\n",
    "\n",
    "semester(x, with_year = FALSE)\n",
    "```"
   ]
  },
  {
   "cell_type": "markdown",
   "metadata": {},
   "source": [
    "# Examples"
   ]
  },
  {
   "cell_type": "code",
   "execution_count": 3,
   "metadata": {},
   "outputs": [
    {
     "data": {
      "text/html": [
       "<ol class=list-inline>\n",
       "\t<li><time datetime=\"2012-03-26\">2012-03-26</time></li>\n",
       "\t<li><time datetime=\"2012-05-04\">2012-05-04</time></li>\n",
       "\t<li><time datetime=\"2012-09-23\">2012-09-23</time></li>\n",
       "\t<li><time datetime=\"2012-12-31\">2012-12-31</time></li>\n",
       "</ol>\n"
      ],
      "text/latex": [
       "\\begin{enumerate*}\n",
       "\\item 2012-03-26\n",
       "\\item 2012-05-04\n",
       "\\item 2012-09-23\n",
       "\\item 2012-12-31\n",
       "\\end{enumerate*}\n"
      ],
      "text/markdown": [
       "1. 2012-03-26\n",
       "2. 2012-05-04\n",
       "3. 2012-09-23\n",
       "4. 2012-12-31\n",
       "\n",
       "\n"
      ],
      "text/plain": [
       "[1] \"2012-03-26\" \"2012-05-04\" \"2012-09-23\" \"2012-12-31\""
      ]
     },
     "metadata": {},
     "output_type": "display_data"
    }
   ],
   "source": [
    "x <- ymd(c(\"2012-03-26\", \"2012-05-04\", \"2012-09-23\", \"2012-12-31\"))\n",
    "x"
   ]
  },
  {
   "cell_type": "code",
   "execution_count": 9,
   "metadata": {},
   "outputs": [
    {
     "data": {
      "text/html": [
       "<ol class=list-inline>\n",
       "\t<li>1</li>\n",
       "\t<li>2</li>\n",
       "\t<li>3</li>\n",
       "\t<li>4</li>\n",
       "</ol>\n"
      ],
      "text/latex": [
       "\\begin{enumerate*}\n",
       "\\item 1\n",
       "\\item 2\n",
       "\\item 3\n",
       "\\item 4\n",
       "\\end{enumerate*}\n"
      ],
      "text/markdown": [
       "1. 1\n",
       "2. 2\n",
       "3. 3\n",
       "4. 4\n",
       "\n",
       "\n"
      ],
      "text/plain": [
       "[1] 1 2 3 4"
      ]
     },
     "metadata": {},
     "output_type": "display_data"
    }
   ],
   "source": [
    "# Each date falls on what quarter? be default, the The first quarter starts on January (fiscal_start = 1)\n",
    "quarter(x)"
   ]
  },
  {
   "cell_type": "code",
   "execution_count": 10,
   "metadata": {},
   "outputs": [
    {
     "data": {
      "text/html": [
       "<ol class=list-inline>\n",
       "\t<li>2012.1</li>\n",
       "\t<li>2012.2</li>\n",
       "\t<li>2012.3</li>\n",
       "\t<li>2012.4</li>\n",
       "</ol>\n"
      ],
      "text/latex": [
       "\\begin{enumerate*}\n",
       "\\item 2012.1\n",
       "\\item 2012.2\n",
       "\\item 2012.3\n",
       "\\item 2012.4\n",
       "\\end{enumerate*}\n"
      ],
      "text/markdown": [
       "1. 2012.1\n",
       "2. 2012.2\n",
       "3. 2012.3\n",
       "4. 2012.4\n",
       "\n",
       "\n"
      ],
      "text/plain": [
       "[1] 2012.1 2012.2 2012.3 2012.4"
      ]
     },
     "metadata": {},
     "output_type": "display_data"
    }
   ],
   "source": [
    "# include year in the result\n",
    "quarter(x, with_year = T)"
   ]
  },
  {
   "cell_type": "code",
   "execution_count": 11,
   "metadata": {},
   "outputs": [
    {
     "data": {
      "text/html": [
       "<ol class=list-inline>\n",
       "\t<li>4</li>\n",
       "\t<li>1</li>\n",
       "\t<li>2</li>\n",
       "\t<li>3</li>\n",
       "</ol>\n"
      ],
      "text/latex": [
       "\\begin{enumerate*}\n",
       "\\item 4\n",
       "\\item 1\n",
       "\\item 2\n",
       "\\item 3\n",
       "\\end{enumerate*}\n"
      ],
      "text/markdown": [
       "1. 4\n",
       "2. 1\n",
       "3. 2\n",
       "4. 3\n",
       "\n",
       "\n"
      ],
      "text/plain": [
       "[1] 4 1 2 3"
      ]
     },
     "metadata": {},
     "output_type": "display_data"
    }
   ],
   "source": [
    "# first quarter starts on April\n",
    "\n",
    "quarter(x, fiscal_start = 4)"
   ]
  }
 ],
 "metadata": {
  "kernelspec": {
   "display_name": "R",
   "language": "R",
   "name": "ir"
  },
  "language_info": {
   "codemirror_mode": "r",
   "file_extension": ".r",
   "mimetype": "text/x-r-source",
   "name": "R",
   "pygments_lexer": "r",
   "version": "3.6.1"
  }
 },
 "nbformat": 4,
 "nbformat_minor": 2
}
