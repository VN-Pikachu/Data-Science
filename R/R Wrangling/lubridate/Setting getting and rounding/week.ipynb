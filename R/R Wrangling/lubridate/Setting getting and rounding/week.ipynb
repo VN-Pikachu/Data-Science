{
 "cells": [
  {
   "cell_type": "code",
   "execution_count": 2,
   "metadata": {},
   "outputs": [],
   "source": [
    "library(lubridate)"
   ]
  },
  {
   "cell_type": "markdown",
   "metadata": {},
   "source": [
    "* **`week()`** returns the number of complete seven day periods that have occurred between the date and January 1st, plus one.\n",
    "\n",
    "* **`isoweek()`** returns the week as it would appear in the ISO 8601 system, which uses a reoccurring leap week.\n",
    "\n",
    "* **`epiweek()`** is the US CDC version of epidemiological week. It follows same rules as `isoweek()` but starts on Sunday. In other parts of the world the convention is to start epidemiological weeks on Monday, which is the same as `isoweek`.\n",
    "\n"
   ]
  },
  {
   "cell_type": "markdown",
   "metadata": {},
   "source": [
    "# Get/set weeks component of a date-time"
   ]
  },
  {
   "cell_type": "markdown",
   "metadata": {},
   "source": [
    "```r\n",
    "week(x)\n",
    "\n",
    "week(x) <- value\n",
    "\n",
    "isoweek(x)\n",
    "\n",
    "epiweek(x)\n",
    "```"
   ]
  },
  {
   "cell_type": "markdown",
   "metadata": {},
   "source": [
    "# Examples"
   ]
  },
  {
   "cell_type": "code",
   "execution_count": 4,
   "metadata": {},
   "outputs": [
    {
     "data": {
      "text/html": [
       "13"
      ],
      "text/latex": [
       "13"
      ],
      "text/markdown": [
       "13"
      ],
      "text/plain": [
       "[1] 13"
      ]
     },
     "metadata": {},
     "output_type": "display_data"
    }
   ],
   "source": [
    "x <- ymd(\"2012-03-26\")\n",
    "\n",
    "# The 13-th week of year 2012\n",
    "week(x)"
   ]
  }
 ],
 "metadata": {
  "kernelspec": {
   "display_name": "R",
   "language": "R",
   "name": "ir"
  },
  "language_info": {
   "codemirror_mode": "r",
   "file_extension": ".r",
   "mimetype": "text/x-r-source",
   "name": "R",
   "pygments_lexer": "r",
   "version": "3.6.1"
  }
 },
 "nbformat": 4,
 "nbformat_minor": 2
}
