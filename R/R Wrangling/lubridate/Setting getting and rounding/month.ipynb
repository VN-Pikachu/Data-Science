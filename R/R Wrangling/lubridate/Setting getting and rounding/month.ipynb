{
 "cells": [
  {
   "cell_type": "code",
   "execution_count": 2,
   "metadata": {},
   "outputs": [],
   "source": [
    "library(lubridate)"
   ]
  },
  {
   "cell_type": "markdown",
   "metadata": {},
   "source": [
    "# Get/set months component of a date-time"
   ]
  },
  {
   "cell_type": "markdown",
   "metadata": {},
   "source": [
    "Date-time must be a POSIXct, POSIXlt, Date, Period, chron, yearmon, yearqtr, zoo, zooreg, timeDate, xts, its, ti, jul, timeSeries, and fts objects.\n",
    "```r\n",
    "month(x, label = FALSE, abbr = TRUE, locale = Sys.getlocale(\"LC_TIME\"))\n",
    "\n",
    "month(x) <- value\n",
    "```"
   ]
  },
  {
   "cell_type": "markdown",
   "metadata": {},
   "source": [
    "### Value"
   ]
  },
  {
   "cell_type": "markdown",
   "metadata": {},
   "source": [
    "If `label = FALSE`: month as number (1-12, 1 = January, 12 = December), otherwise as an ordered factor."
   ]
  },
  {
   "cell_type": "markdown",
   "metadata": {},
   "source": [
    "# Examples"
   ]
  },
  {
   "cell_type": "code",
   "execution_count": 3,
   "metadata": {},
   "outputs": [],
   "source": [
    "my_birthday <- dmy('06/10/2001')"
   ]
  },
  {
   "cell_type": "code",
   "execution_count": 6,
   "metadata": {},
   "outputs": [
    {
     "data": {
      "text/html": [
       "10"
      ],
      "text/latex": [
       "10"
      ],
      "text/markdown": [
       "10"
      ],
      "text/plain": [
       "[1] 10"
      ]
     },
     "metadata": {},
     "output_type": "display_data"
    }
   ],
   "source": [
    "# by default, show month as number 1, 2, 3, ... (label = FALSE)\n",
    "month(my_birthday)"
   ]
  },
  {
   "cell_type": "code",
   "execution_count": 5,
   "metadata": {},
   "outputs": [
    {
     "data": {
      "text/html": [
       "Oct\n",
       "<details>\n",
       "\t<summary style=display:list-item;cursor:pointer>\n",
       "\t\t<strong>Levels</strong>:\n",
       "\t</summary>\n",
       "\t<ol class=list-inline>\n",
       "\t\t<li>'Jan'</li>\n",
       "\t\t<li>'Feb'</li>\n",
       "\t\t<li>'Mar'</li>\n",
       "\t\t<li>'Apr'</li>\n",
       "\t\t<li>'May'</li>\n",
       "\t\t<li>'Jun'</li>\n",
       "\t\t<li>'Jul'</li>\n",
       "\t\t<li>'Aug'</li>\n",
       "\t\t<li>'Sep'</li>\n",
       "\t\t<li>'Oct'</li>\n",
       "\t\t<li>'Nov'</li>\n",
       "\t\t<li>'Dec'</li>\n",
       "\t</ol>\n",
       "</details>"
      ],
      "text/latex": [
       "Oct\n",
       "\\emph{Levels}: \\begin{enumerate*}\n",
       "\\item 'Jan'\n",
       "\\item 'Feb'\n",
       "\\item 'Mar'\n",
       "\\item 'Apr'\n",
       "\\item 'May'\n",
       "\\item 'Jun'\n",
       "\\item 'Jul'\n",
       "\\item 'Aug'\n",
       "\\item 'Sep'\n",
       "\\item 'Oct'\n",
       "\\item 'Nov'\n",
       "\\item 'Dec'\n",
       "\\end{enumerate*}\n"
      ],
      "text/markdown": [
       "Oct\n",
       "**Levels**: 1. 'Jan'\n",
       "2. 'Feb'\n",
       "3. 'Mar'\n",
       "4. 'Apr'\n",
       "5. 'May'\n",
       "6. 'Jun'\n",
       "7. 'Jul'\n",
       "8. 'Aug'\n",
       "9. 'Sep'\n",
       "10. 'Oct'\n",
       "11. 'Nov'\n",
       "12. 'Dec'\n",
       "\n",
       "\n"
      ],
      "text/plain": [
       "[1] Oct\n",
       "12 Levels: Jan < Feb < Mar < Apr < May < Jun < Jul < Aug < Sep < ... < Dec"
      ]
     },
     "metadata": {},
     "output_type": "display_data"
    }
   ],
   "source": [
    "# show month as string (Jan, Feb, ...)\n",
    "month(my_birthday, label = T)"
   ]
  },
  {
   "cell_type": "code",
   "execution_count": 7,
   "metadata": {},
   "outputs": [
    {
     "data": {
      "text/html": [
       "October\n",
       "<details>\n",
       "\t<summary style=display:list-item;cursor:pointer>\n",
       "\t\t<strong>Levels</strong>:\n",
       "\t</summary>\n",
       "\t<ol class=list-inline>\n",
       "\t\t<li>'January'</li>\n",
       "\t\t<li>'February'</li>\n",
       "\t\t<li>'March'</li>\n",
       "\t\t<li>'April'</li>\n",
       "\t\t<li>'May'</li>\n",
       "\t\t<li>'June'</li>\n",
       "\t\t<li>'July'</li>\n",
       "\t\t<li>'August'</li>\n",
       "\t\t<li>'September'</li>\n",
       "\t\t<li>'October'</li>\n",
       "\t\t<li>'November'</li>\n",
       "\t\t<li>'December'</li>\n",
       "\t</ol>\n",
       "</details>"
      ],
      "text/latex": [
       "October\n",
       "\\emph{Levels}: \\begin{enumerate*}\n",
       "\\item 'January'\n",
       "\\item 'February'\n",
       "\\item 'March'\n",
       "\\item 'April'\n",
       "\\item 'May'\n",
       "\\item 'June'\n",
       "\\item 'July'\n",
       "\\item 'August'\n",
       "\\item 'September'\n",
       "\\item 'October'\n",
       "\\item 'November'\n",
       "\\item 'December'\n",
       "\\end{enumerate*}\n"
      ],
      "text/markdown": [
       "October\n",
       "**Levels**: 1. 'January'\n",
       "2. 'February'\n",
       "3. 'March'\n",
       "4. 'April'\n",
       "5. 'May'\n",
       "6. 'June'\n",
       "7. 'July'\n",
       "8. 'August'\n",
       "9. 'September'\n",
       "10. 'October'\n",
       "11. 'November'\n",
       "12. 'December'\n",
       "\n",
       "\n"
      ],
      "text/plain": [
       "[1] October\n",
       "12 Levels: January < February < March < April < May < June < ... < December"
      ]
     },
     "metadata": {},
     "output_type": "display_data"
    }
   ],
   "source": [
    "# show full month name\n",
    "month(my_birthday, label = T, abbr = F)"
   ]
  },
  {
   "cell_type": "code",
   "execution_count": 8,
   "metadata": {},
   "outputs": [
    {
     "data": {
      "text/html": [
       "<time datetime=\"2001-01-06\">2001-01-06</time>"
      ],
      "text/latex": [
       "2001-01-06"
      ],
      "text/markdown": [
       "2001-01-06"
      ],
      "text/plain": [
       "[1] \"2001-01-06\""
      ]
     },
     "metadata": {},
     "output_type": "display_data"
    }
   ],
   "source": [
    "# change month to 1\n",
    "month(my_birthday) <- 1\n",
    "\n",
    "my_birthday"
   ]
  },
  {
   "cell_type": "code",
   "execution_count": 9,
   "metadata": {},
   "outputs": [
    {
     "data": {
      "text/html": [
       "<time datetime=\"2001-01-06\">2001-01-06</time>"
      ],
      "text/latex": [
       "2001-01-06"
      ],
      "text/markdown": [
       "2001-01-06"
      ],
      "text/plain": [
       "[1] \"2001-01-06\""
      ]
     },
     "metadata": {},
     "output_type": "display_data"
    }
   ],
   "source": [
    "# equivalent\n",
    "month(my_birthday) <- 1\n",
    "\n",
    "my_birthday"
   ]
  }
 ],
 "metadata": {
  "kernelspec": {
   "display_name": "R",
   "language": "R",
   "name": "ir"
  },
  "language_info": {
   "codemirror_mode": "r",
   "file_extension": ".r",
   "mimetype": "text/x-r-source",
   "name": "R",
   "pygments_lexer": "r",
   "version": "3.6.1"
  }
 },
 "nbformat": 4,
 "nbformat_minor": 2
}
