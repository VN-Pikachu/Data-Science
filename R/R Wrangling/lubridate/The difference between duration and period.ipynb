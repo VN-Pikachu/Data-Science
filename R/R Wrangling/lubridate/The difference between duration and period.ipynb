{
 "cells": [
  {
   "cell_type": "code",
   "execution_count": 2,
   "metadata": {},
   "outputs": [],
   "source": [
    "library(lubridate)"
   ]
  },
  {
   "cell_type": "markdown",
   "metadata": {},
   "source": [
    "* **Periods** do not have a fixed length\n",
    "* **Duration** objects measure time spans in exact numbers of seconds"
   ]
  },
  {
   "cell_type": "markdown",
   "metadata": {},
   "source": [
    "Some months have 30 days, some months have 31 days. The timespan of a month having 30 days (2592000 seconds) is different from the timespan of a month having 31 days (2678400 seconds)  \n",
    "\n",
    "**Duration** ignores this difference, treat the timespan of each month is the same. It assumes the timespan of every month is the same. Every month is 2629800s (~4.35 weeks). A year has 365 days (leaf year has 366 days), each month having approximately `365 / 12`  => `30.42 (days)` => `30.42 / 7 = 4.35 weeks` "
   ]
  },
  {
   "cell_type": "code",
   "execution_count": 7,
   "metadata": {},
   "outputs": [
    {
     "data": {
      "text/html": [
       "2629800s (~4.35 weeks)"
      ],
      "text/latex": [
       "2629800s (\\textasciitilde{}4.35 weeks)"
      ],
      "text/markdown": [
       "2629800s (~4.35 weeks)"
      ],
      "text/plain": [
       "[1] \"2629800s (~4.35 weeks)\""
      ]
     },
     "metadata": {},
     "output_type": "display_data"
    }
   ],
   "source": [
    "dmonths(1)"
   ]
  },
  {
   "cell_type": "markdown",
   "metadata": {},
   "source": [
    "If you add a duration of 1 month to a `datetime` or `date`, its time will not be preserved. Internally, it is not adding 1 months. it is adding 2629800 seconds"
   ]
  },
  {
   "cell_type": "code",
   "execution_count": 13,
   "metadata": {},
   "outputs": [
    {
     "data": {
      "text/plain": [
       "[1] \"2020-01-31 23:00:30 UTC\""
      ]
     },
     "metadata": {},
     "output_type": "display_data"
    }
   ],
   "source": [
    "ymd_hms('2020/01/01 12:30:30') + duration(1, 'month')"
   ]
  },
  {
   "cell_type": "markdown",
   "metadata": {},
   "source": [
    "**Period** accounts for this difference, if you add a period of1 month to a `datetime` or `date`, it will add 30 days or 31 days or 28 days or 29 days depends on the date. The time is preserved"
   ]
  },
  {
   "cell_type": "code",
   "execution_count": 14,
   "metadata": {},
   "outputs": [
    {
     "data": {
      "text/plain": [
       "[1] \"2020-02-01 12:30:30 UTC\""
      ]
     },
     "metadata": {},
     "output_type": "display_data"
    }
   ],
   "source": [
    "ymd_hms('2020/01/01 12:30:30') + period(1, 'month')"
   ]
  }
 ],
 "metadata": {
  "kernelspec": {
   "display_name": "R",
   "language": "R",
   "name": "ir"
  },
  "language_info": {
   "codemirror_mode": "r",
   "file_extension": ".r",
   "mimetype": "text/x-r-source",
   "name": "R",
   "pygments_lexer": "r",
   "version": "3.6.1"
  }
 },
 "nbformat": 4,
 "nbformat_minor": 2
}
