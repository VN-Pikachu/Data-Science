{
 "cells": [
  {
   "cell_type": "code",
   "execution_count": 2,
   "metadata": {},
   "outputs": [],
   "source": [
    "library(lubridate)"
   ]
  },
  {
   "cell_type": "markdown",
   "metadata": {},
   "source": [
    "A time span can be measured in three ways: as a duration, an interval, or a period.\n",
    "\n",
    "* durations record the exact number of seconds in a time span. They measure the exact passage of time but do not always align with human measurements like hours, months and years.\n",
    "\n",
    "* periods record the change in the clock time between two date-times. They are measured in human units: years, months, days, hours, minutes, and seconds.\n",
    "\n",
    "* intervals are time spans bound by two real date-times. Intervals can be accurately converted to periods and durations."
   ]
  },
  {
   "cell_type": "markdown",
   "metadata": {},
   "source": [
    "### Examples"
   ]
  },
  {
   "cell_type": "code",
   "execution_count": 3,
   "metadata": {},
   "outputs": [
    {
     "data": {
      "text/html": [
       "3600s (~1 hours)"
      ],
      "text/latex": [
       "3600s (\\textasciitilde{}1 hours)"
      ],
      "text/markdown": [
       "3600s (~1 hours)"
      ],
      "text/plain": [
       "[1] \"3600s (~1 hours)\""
      ]
     },
     "metadata": {},
     "output_type": "display_data"
    }
   ],
   "source": [
    "duration(3600, 'seconds')"
   ]
  },
  {
   "cell_type": "code",
   "execution_count": 4,
   "metadata": {},
   "outputs": [
    {
     "data": {
      "text/html": [
       "3600S"
      ],
      "text/latex": [
       "3600S"
      ],
      "text/markdown": [
       "3600S"
      ],
      "text/plain": [
       "[1] \"3600S\""
      ]
     },
     "metadata": {},
     "output_type": "display_data"
    }
   ],
   "source": [
    "period(3600, 'seconds')"
   ]
  },
  {
   "cell_type": "code",
   "execution_count": 5,
   "metadata": {},
   "outputs": [
    {
     "data": {
      "text/html": [
       "2020-10-10 UTC--2020-10-11 UTC"
      ],
      "text/latex": [
       "2020-10-10 UTC--2020-10-11 UTC"
      ],
      "text/markdown": [
       "2020-10-10 UTC--2020-10-11 UTC"
      ],
      "text/plain": [
       "[1] 2020-10-10 UTC--2020-10-11 UTC"
      ]
     },
     "metadata": {},
     "output_type": "display_data"
    }
   ],
   "source": [
    "interval(ymd(201010), ymd(201011))"
   ]
  },
  {
   "cell_type": "code",
   "execution_count": 8,
   "metadata": {},
   "outputs": [
    {
     "data": {
      "text/plain": [
       "[1] \"2020-11-09 10:30:00 UTC\""
      ]
     },
     "metadata": {},
     "output_type": "display_data"
    }
   ],
   "source": [
    "ymd(201010) + dmonths(1)   # duration"
   ]
  },
  {
   "cell_type": "code",
   "execution_count": 7,
   "metadata": {},
   "outputs": [
    {
     "data": {
      "text/html": [
       "<time datetime=\"2020-11-10\">2020-11-10</time>"
      ],
      "text/latex": [
       "2020-11-10"
      ],
      "text/markdown": [
       "2020-11-10"
      ],
      "text/plain": [
       "[1] \"2020-11-10\""
      ]
     },
     "metadata": {},
     "output_type": "display_data"
    }
   ],
   "source": [
    "ymd(201010) + months(1) # period"
   ]
  },
  {
   "cell_type": "code",
   "execution_count": 9,
   "metadata": {},
   "outputs": [
    {
     "data": {
      "text/html": [
       "2020-10-10 UTC--2020-10-11 UTC"
      ],
      "text/latex": [
       "2020-10-10 UTC--2020-10-11 UTC"
      ],
      "text/markdown": [
       "2020-10-10 UTC--2020-10-11 UTC"
      ],
      "text/plain": [
       "[1] 2020-10-10 UTC--2020-10-11 UTC"
      ]
     },
     "metadata": {},
     "output_type": "display_data"
    }
   ],
   "source": [
    "ymd(201010) %--% ymd(201011)"
   ]
  }
 ],
 "metadata": {
  "kernelspec": {
   "display_name": "R",
   "language": "R",
   "name": "ir"
  },
  "language_info": {
   "codemirror_mode": "r",
   "file_extension": ".r",
   "mimetype": "text/x-r-source",
   "name": "R",
   "pygments_lexer": "r",
   "version": "3.6.1"
  }
 },
 "nbformat": 4,
 "nbformat_minor": 2
}
