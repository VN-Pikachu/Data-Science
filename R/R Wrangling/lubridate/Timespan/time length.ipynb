{
 "cells": [
  {
   "cell_type": "code",
   "execution_count": 2,
   "metadata": {},
   "outputs": [],
   "source": [
    "library(lubridate)"
   ]
  },
  {
   "cell_type": "markdown",
   "metadata": {},
   "source": [
    "# Compute the exact length of a time span"
   ]
  },
  {
   "cell_type": "markdown",
   "metadata": {},
   "source": [
    "```r\n",
    "time_length(x, unit = \"second\")\n",
    "\n",
    "# S4 method for Interval\n",
    "time_length(x, unit = \"second\")\n",
    "```"
   ]
  },
  {
   "cell_type": "markdown",
   "metadata": {},
   "source": [
    "# Examples"
   ]
  },
  {
   "cell_type": "code",
   "execution_count": 4,
   "metadata": {},
   "outputs": [
    {
     "data": {
      "text/html": [
       "1811.28571428571"
      ],
      "text/latex": [
       "1811.28571428571"
      ],
      "text/markdown": [
       "1811.28571428571"
      ],
      "text/plain": [
       "[1] 1811.286"
      ]
     },
     "metadata": {},
     "output_type": "display_data"
    }
   ],
   "source": [
    "int <- interval(ymd(\"1980-01-01\"), ymd(\"2014-09-18\"))\n",
    "\n",
    "time_length(int, unit = 'weeks')"
   ]
  },
  {
   "cell_type": "code",
   "execution_count": 5,
   "metadata": {},
   "outputs": [
    {
     "data": {
      "text/html": [
       "34.7123287671233"
      ],
      "text/latex": [
       "34.7123287671233"
      ],
      "text/markdown": [
       "34.7123287671233"
      ],
      "text/plain": [
       "[1] 34.71233"
      ]
     },
     "metadata": {},
     "output_type": "display_data"
    }
   ],
   "source": [
    "# Exact age\n",
    "time_length(int, \"year\")"
   ]
  },
  {
   "cell_type": "code",
   "execution_count": 6,
   "metadata": {},
   "outputs": [
    {
     "data": {
      "text/html": [
       "34"
      ],
      "text/latex": [
       "34"
      ],
      "text/markdown": [
       "34"
      ],
      "text/plain": [
       "[1] 34"
      ]
     },
     "metadata": {},
     "output_type": "display_data"
    }
   ],
   "source": [
    "# Age at last anniversary\n",
    "trunc(time_length(int, \"year\"))"
   ]
  },
  {
   "cell_type": "code",
   "execution_count": 8,
   "metadata": {},
   "outputs": [
    {
     "data": {
      "text/html": [
       "99.9972602739726"
      ],
      "text/latex": [
       "99.9972602739726"
      ],
      "text/markdown": [
       "99.9972602739726"
      ],
      "text/plain": [
       "[1] 99.99726"
      ]
     },
     "metadata": {},
     "output_type": "display_data"
    },
    {
     "data": {
      "text/html": [
       "99.9945242984257"
      ],
      "text/latex": [
       "99.9945242984257"
      ],
      "text/markdown": [
       "99.9945242984257"
      ],
      "text/plain": [
       "[1] 99.99452"
      ]
     },
     "metadata": {},
     "output_type": "display_data"
    }
   ],
   "source": [
    "# Example of difference between intervals and durations\n",
    "int <- interval(ymd(\"1900-01-01\"), ymd(\"1999-12-31\"))\n",
    "\n",
    "time_length(int, \"year\")\n",
    "\n",
    "time_length(as.duration(int), \"year\")\n"
   ]
  }
 ],
 "metadata": {
  "kernelspec": {
   "display_name": "R",
   "language": "R",
   "name": "ir"
  },
  "language_info": {
   "codemirror_mode": "r",
   "file_extension": ".r",
   "mimetype": "text/x-r-source",
   "name": "R",
   "pygments_lexer": "r",
   "version": "3.6.1"
  }
 },
 "nbformat": 4,
 "nbformat_minor": 2
}
