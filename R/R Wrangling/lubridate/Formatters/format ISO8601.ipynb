{
 "cells": [
  {
   "cell_type": "code",
   "execution_count": 2,
   "metadata": {},
   "outputs": [],
   "source": [
    "library(lubridate)"
   ]
  },
  {
   "cell_type": "markdown",
   "metadata": {},
   "source": [
    "# Format in ISO8601 character format"
   ]
  },
  {
   "cell_type": "markdown",
   "metadata": {},
   "source": [
    "```r\n",
    "format_ISO8601(x, usetz = FALSE, precision = NULL, ...)\n",
    "```"
   ]
  },
  {
   "cell_type": "markdown",
   "metadata": {},
   "source": [
    "**Arguments**  \n",
    "`x`\t\n",
    "An object to convert to ISO8601 character format.\n",
    "\n",
    "`usetz`\t\n",
    "Include the time zone in the formatting (of outputs including time; date outputs never include time zone information).\n",
    "\n",
    "`precision`\t\n",
    "The amount of precision to represent with substrings of \"ymdhms\", as \"y\"ear, \"m\"onth, \"d\"ay, \"h\"our, \"m\"inute, and \"s\"econd. (e.g. \"ymdhm\" would show precision through minutes. When NULL, full precision for the object is shown.\n",
    "\n",
    "`...`\t\n",
    "Additional arguments to methods."
   ]
  },
  {
   "cell_type": "markdown",
   "metadata": {},
   "source": [
    "# Examples"
   ]
  },
  {
   "cell_type": "code",
   "execution_count": 4,
   "metadata": {},
   "outputs": [
    {
     "data": {
      "text/html": [
       "'2001-10-06'"
      ],
      "text/latex": [
       "'2001-10-06'"
      ],
      "text/markdown": [
       "'2001-10-06'"
      ],
      "text/plain": [
       "[1] \"2001-10-06\""
      ]
     },
     "metadata": {},
     "output_type": "display_data"
    }
   ],
   "source": [
    "format_ISO8601(ymd(011006))"
   ]
  },
  {
   "cell_type": "code",
   "execution_count": 6,
   "metadata": {},
   "outputs": [
    {
     "data": {
      "text/html": [
       "'2001-10-06T12:30:30-0500'"
      ],
      "text/latex": [
       "'2001-10-06T12:30:30-0500'"
      ],
      "text/markdown": [
       "'2001-10-06T12:30:30-0500'"
      ],
      "text/plain": [
       "[1] \"2001-10-06T12:30:30-0500\""
      ]
     },
     "metadata": {},
     "output_type": "display_data"
    }
   ],
   "source": [
    "# include the timezone in the setting\n",
    "format_ISO8601(ymd_hms('2001/10/06 12:30:30', tz = 'US/central'), usetz = T)"
   ]
  },
  {
   "cell_type": "code",
   "execution_count": 7,
   "metadata": {},
   "outputs": [
    {
     "data": {
      "text/html": [
       "'2001-10-06T12:30'"
      ],
      "text/latex": [
       "'2001-10-06T12:30'"
      ],
      "text/markdown": [
       "'2001-10-06T12:30'"
      ],
      "text/plain": [
       "[1] \"2001-10-06T12:30\""
      ]
     },
     "metadata": {},
     "output_type": "display_data"
    }
   ],
   "source": [
    "format_ISO8601(ymd_hms('2001/10/06 12:30:30', tz = 'US/central'), precision = 'ymdhm')"
   ]
  }
 ],
 "metadata": {
  "kernelspec": {
   "display_name": "R",
   "language": "R",
   "name": "ir"
  },
  "language_info": {
   "codemirror_mode": "r",
   "file_extension": ".r",
   "mimetype": "text/x-r-source",
   "name": "R",
   "pygments_lexer": "r",
   "version": "3.6.1"
  }
 },
 "nbformat": 4,
 "nbformat_minor": 2
}
