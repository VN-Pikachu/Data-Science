{
 "cells": [
  {
   "cell_type": "code",
   "execution_count": 2,
   "metadata": {},
   "outputs": [],
   "source": [
    "library(lubridate)"
   ]
  },
  {
   "cell_type": "markdown",
   "metadata": {},
   "source": [
    "# Format dates and times based on human-friendly templates"
   ]
  },
  {
   "cell_type": "markdown",
   "metadata": {},
   "source": [
    "Stamps are just like `format()`, but based on human-friendly templates like \"Recorded at 10 am, September 2002\" or \"Meeting, Sunday May 1, 2000, at 10:20 pm\"."
   ]
  },
  {
   "cell_type": "markdown",
   "metadata": {},
   "source": [
    "\n",
    "```r\n",
    "stamp(\n",
    "  x,\n",
    "  orders = lubridate_formats,\n",
    "  locale = Sys.getlocale(\"LC_TIME\"),\n",
    "  quiet = FALSE\n",
    ")\n",
    "\n",
    "stamp_date(x, locale = Sys.getlocale(\"LC_TIME\"))\n",
    "\n",
    "stamp_time(x, locale = Sys.getlocale(\"LC_TIME\"))\n",
    "```"
   ]
  },
  {
   "cell_type": "markdown",
   "metadata": {},
   "source": [
    "**Arguments**  \n",
    "`x`\t\n",
    "a character vector of templates.\n",
    "\n",
    "`orders`\t\n",
    "orders are sequences of formatting characters which might be used for disambiguation. For example \"ymd hms\", \"aym\" etc. See guess_formats() for a list of available formats.\n",
    "\n",
    "`locale`\t\n",
    "locale in which x is encoded. On Linux-like systems use locale -a in the terminal to list available locales.\n",
    "\n",
    "`quiet`\t\n",
    "whether to output informative messages"
   ]
  },
  {
   "cell_type": "markdown",
   "metadata": {},
   "source": [
    "# Examples"
   ]
  },
  {
   "cell_type": "code",
   "execution_count": 3,
   "metadata": {},
   "outputs": [
    {
     "name": "stderr",
     "output_type": "stream",
     "text": [
      "Multiple formats matched: \"March %Om, %Y\"(1), \"%Om %d, %Y\"(1), \"%B %d, %Y\"(1), \"March %m, %Y\"(1)\n",
      "Using: \"%B %d, %Y\"\n"
     ]
    },
    {
     "data": {
      "text/html": [
       "'April 05, 2010'"
      ],
      "text/latex": [
       "'April 05, 2010'"
      ],
      "text/markdown": [
       "'April 05, 2010'"
      ],
      "text/plain": [
       "[1] \"April 05, 2010\""
      ]
     },
     "metadata": {},
     "output_type": "display_data"
    }
   ],
   "source": [
    "d <- ymd(\"2010-04-05\")\n",
    "\n",
    "stamp(\"March 1, 1999\")(d)"
   ]
  },
  {
   "cell_type": "code",
   "execution_count": 4,
   "metadata": {},
   "outputs": [
    {
     "name": "stderr",
     "output_type": "stream",
     "text": [
      "Using: \"%B %d, %Y\"\n"
     ]
    },
    {
     "data": {
      "text/html": [
       "'April 05, 2010'"
      ],
      "text/latex": [
       "'April 05, 2010'"
      ],
      "text/markdown": [
       "'April 05, 2010'"
      ],
      "text/plain": [
       "[1] \"April 05, 2010\""
      ]
     },
     "metadata": {},
     "output_type": "display_data"
    }
   ],
   "source": [
    "stamp(\"March 1, 1999\", '%B %d, %Y')(d)"
   ]
  },
  {
   "cell_type": "code",
   "execution_count": 5,
   "metadata": {},
   "outputs": [
    {
     "name": "stderr",
     "output_type": "stream",
     "text": [
      "Multiple formats matched: \"Created on %A, %b %d, %Y %I:%M %p\"(1), \"Created on Sunday, %Om %d, %Y %H:%M %Op\"(1), \"Created on Sunday, %b %d, %Y %I:%M %p\"(1), \"Created on %A, %Om %d, %Y %H:%M %Op\"(0), \"Created on %A, %b %d, %Y %H:%M %Op\"(0), \"Created on %A, %Om %d, %Y %I:%M %p\"(0), \"Created on Sunday, %b %d, %Y %H:%M %Op\"(0), \"Created on Sunday, %Om %d, %Y %I:%M %p\"(0)\n",
      "Using: \"Created on %A, %b %d, %Y %I:%M %p\"\n"
     ]
    },
    {
     "data": {
      "text/html": [
       "'Created on Monday, Apr 05, 2010 12:00 AM'"
      ],
      "text/latex": [
       "'Created on Monday, Apr 05, 2010 12:00 AM'"
      ],
      "text/markdown": [
       "'Created on Monday, Apr 05, 2010 12:00 AM'"
      ],
      "text/plain": [
       "[1] \"Created on Monday, Apr 05, 2010 12:00 AM\""
      ]
     },
     "metadata": {},
     "output_type": "display_data"
    }
   ],
   "source": [
    "stamp(\"Created on Sunday, Jan 1, 1999 3:34 pm\")(d)"
   ]
  },
  {
   "cell_type": "code",
   "execution_count": 6,
   "metadata": {},
   "outputs": [
    {
     "name": "stderr",
     "output_type": "stream",
     "text": [
      "Multiple formats matched: \"%Om %y\"(1), \"%Om %d\"(1), \"Jan %Om\"(1), \"%b %d\"(1), \"Jan %H\"(1), \"Jan %m\"(1), \"Jan %y\"(1), \"%b %y\"(0)\n",
      "Using: \"%Om %y\"\n"
     ]
    },
    {
     "data": {
      "text/html": [
       "'04 10'"
      ],
      "text/latex": [
       "'04 10'"
      ],
      "text/markdown": [
       "'04 10'"
      ],
      "text/plain": [
       "[1] \"04 10\""
      ]
     },
     "metadata": {},
     "output_type": "display_data"
    }
   ],
   "source": [
    "stamp(\"Jan 01\")(d)"
   ]
  },
  {
   "cell_type": "code",
   "execution_count": 7,
   "metadata": {},
   "outputs": [
    {
     "name": "stderr",
     "output_type": "stream",
     "text": [
      "Multiple formats matched: \"%A, %b %d, %Y\"(1), \"Sunday, May %Om, %Y\"(1), \"Sunday, %Om %d, %Y\"(1), \"Sunday, %b %d, %Y\"(1), \"Sunday, May %m, %Y\"(1), \"%A, May %Om, %Y\"(0), \"%A, %Om %d, %Y\"(0), \"%A, May %m, %Y\"(0)\n",
      "Using: \"%A, %b %d, %Y\"\n"
     ]
    },
    {
     "data": {
      "text/html": [
       "'Monday, Apr 05, 2010'"
      ],
      "text/latex": [
       "'Monday, Apr 05, 2010'"
      ],
      "text/markdown": [
       "'Monday, Apr 05, 2010'"
      ],
      "text/plain": [
       "[1] \"Monday, Apr 05, 2010\""
      ]
     },
     "metadata": {},
     "output_type": "display_data"
    }
   ],
   "source": [
    "stamp(\"Sunday, May 1, 2000\", locale = \"C\")(d)"
   ]
  },
  {
   "cell_type": "code",
   "execution_count": 8,
   "metadata": {},
   "outputs": [
    {
     "name": "stderr",
     "output_type": "stream",
     "text": [
      "Multiple formats matched: \"%a %b %d\"(1), \"%a Aug %H\"(1), \"Sun %Om %d\"(1), \"Sun Aug %Om\"(1), \"Sun %b %d\"(1), \"Sun Aug %H\"(1), \"Sun Aug %m\"(1), \"%a %Om %d\"(0), \"%a Aug %Om\"(0), \"%a Aug %m\"(0)\n",
      "Using: \"%a %b %d\"\n"
     ]
    },
    {
     "data": {
      "text/html": [
       "'Mon Apr 05'"
      ],
      "text/latex": [
       "'Mon Apr 05'"
      ],
      "text/markdown": [
       "'Mon Apr 05'"
      ],
      "text/plain": [
       "[1] \"Mon Apr 05\""
      ]
     },
     "metadata": {},
     "output_type": "display_data"
    }
   ],
   "source": [
    "stamp('Sun Aug 5')(d)"
   ]
  }
 ],
 "metadata": {
  "kernelspec": {
   "display_name": "R",
   "language": "R",
   "name": "ir"
  },
  "language_info": {
   "codemirror_mode": "r",
   "file_extension": ".r",
   "mimetype": "text/x-r-source",
   "name": "R",
   "pygments_lexer": "r",
   "version": "3.6.1"
  }
 },
 "nbformat": 4,
 "nbformat_minor": 2
}
