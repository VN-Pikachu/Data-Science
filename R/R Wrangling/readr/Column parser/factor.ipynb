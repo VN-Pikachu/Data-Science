{
 "cells": [
  {
   "cell_type": "code",
   "execution_count": 2,
   "metadata": {},
   "outputs": [],
   "source": [
    "library(tidyverse)"
   ]
  },
  {
   "cell_type": "markdown",
   "metadata": {},
   "source": [
    "# Parse factors"
   ]
  },
  {
   "cell_type": "markdown",
   "metadata": {},
   "source": [
    "**`parse_factor`** is similar to **`factor()`**, but will generate warnings if elements of x are not found in levels."
   ]
  },
  {
   "cell_type": "markdown",
   "metadata": {},
   "source": [
    "```r\n",
    "parse_factor(\n",
    "  x,\n",
    "  levels = NULL,\n",
    "  ordered = FALSE,\n",
    "  na = c(\"\", \"NA\"),\n",
    "  locale = default_locale(),\n",
    "  include_na = TRUE,\n",
    "  trim_ws = TRUE\n",
    ")\n",
    "\n",
    "col_factor(levels = NULL, ordered = FALSE, include_na = FALSE)\n",
    "```"
   ]
  },
  {
   "cell_type": "markdown",
   "metadata": {},
   "source": [
    "# Examples"
   ]
  },
  {
   "cell_type": "code",
   "execution_count": 3,
   "metadata": {},
   "outputs": [
    {
     "data": {
      "text/html": [
       "<ol class=list-inline>\n",
       "\t<li>Banana</li>\n",
       "\t<li>Apple</li>\n",
       "</ol>\n",
       "\n",
       "<details>\n",
       "\t<summary style=display:list-item;cursor:pointer>\n",
       "\t\t<strong>Levels</strong>:\n",
       "\t</summary>\n",
       "\t<ol class=list-inline>\n",
       "\t\t<li>'Banana'</li>\n",
       "\t\t<li>'Apple'</li>\n",
       "\t\t<li>'Durian'</li>\n",
       "\t</ol>\n",
       "</details>"
      ],
      "text/latex": [
       "\\begin{enumerate*}\n",
       "\\item Banana\n",
       "\\item Apple\n",
       "\\end{enumerate*}\n",
       "\n",
       "\\emph{Levels}: \\begin{enumerate*}\n",
       "\\item 'Banana'\n",
       "\\item 'Apple'\n",
       "\\item 'Durian'\n",
       "\\end{enumerate*}\n"
      ],
      "text/markdown": [
       "1. Banana\n",
       "2. Apple\n",
       "\n",
       "\n",
       "\n",
       "**Levels**: 1. 'Banana'\n",
       "2. 'Apple'\n",
       "3. 'Durian'\n",
       "\n",
       "\n"
      ],
      "text/plain": [
       "[1] Banana Apple \n",
       "Levels: Banana Apple Durian"
      ]
     },
     "metadata": {},
     "output_type": "display_data"
    }
   ],
   "source": [
    "fruits <- c('Banana', 'Apple')\n",
    "\n",
    "parse_factor(fruits, levels = c('Banana', 'Apple', 'Durian'))"
   ]
  },
  {
   "cell_type": "code",
   "execution_count": null,
   "metadata": {},
   "outputs": [],
   "source": [
    "# Base R factor() silently converts unknown levels to NA\n",
    "x1 <- factor(fruits, levels = c('Apple', 'Durian'))"
   ]
  },
  {
   "cell_type": "code",
   "execution_count": 7,
   "metadata": {},
   "outputs": [
    {
     "name": "stderr",
     "output_type": "stream",
     "text": [
      "Warning message:\n",
      "\"1 parsing failure.\n",
      "row col           expected actual\n",
      "  1  -- value in level set Banana\n",
      "\""
     ]
    },
    {
     "data": {
      "text/html": [
       "<ol class=list-inline>\n",
       "\t<li>&lt;NA&gt;</li>\n",
       "\t<li>Apple</li>\n",
       "</ol>\n",
       "\n",
       "<details>\n",
       "\t<summary style=display:list-item;cursor:pointer>\n",
       "\t\t<strong>Levels</strong>:\n",
       "\t</summary>\n",
       "\t<ol class=list-inline>\n",
       "\t\t<li>'Apple'</li>\n",
       "\t\t<li>'Durian'</li>\n",
       "\t</ol>\n",
       "</details>"
      ],
      "text/latex": [
       "\\begin{enumerate*}\n",
       "\\item <NA>\n",
       "\\item Apple\n",
       "\\end{enumerate*}\n",
       "\n",
       "\\emph{Levels}: \\begin{enumerate*}\n",
       "\\item 'Apple'\n",
       "\\item 'Durian'\n",
       "\\end{enumerate*}\n"
      ],
      "text/markdown": [
       "1. &lt;NA&gt;\n",
       "2. Apple\n",
       "\n",
       "\n",
       "\n",
       "**Levels**: 1. 'Apple'\n",
       "2. 'Durian'\n",
       "\n",
       "\n"
      ],
      "text/plain": [
       "[1] <NA>  Apple\n",
       "attr(,\"problems\")\n",
       "# A tibble: 1 x 4\n",
       "    row   col expected           actual\n",
       "  <int> <int> <chr>              <chr> \n",
       "1     1    NA value in level set Banana\n",
       "Levels: Apple Durian"
      ]
     },
     "metadata": {},
     "output_type": "display_data"
    }
   ],
   "source": [
    "# parse_factor generates a warning & problems\n",
    "\n",
    "fruits_fct <- parse_factor(fruits, levels = c('Apple', 'Durian'))\n",
    "\n",
    "fruits_fct"
   ]
  },
  {
   "cell_type": "code",
   "execution_count": 8,
   "metadata": {},
   "outputs": [
    {
     "data": {
      "text/html": [
       "<table>\n",
       "<thead><tr><th scope=col>row</th><th scope=col>col</th><th scope=col>expected</th><th scope=col>actual</th></tr></thead>\n",
       "<tbody>\n",
       "\t<tr><td>1                 </td><td>NA                </td><td>value in level set</td><td>Banana            </td></tr>\n",
       "</tbody>\n",
       "</table>\n"
      ],
      "text/latex": [
       "\\begin{tabular}{r|llll}\n",
       " row & col & expected & actual\\\\\n",
       "\\hline\n",
       "\t 1                  & NA                 & value in level set & Banana            \\\\\n",
       "\\end{tabular}\n"
      ],
      "text/markdown": [
       "\n",
       "| row | col | expected | actual |\n",
       "|---|---|---|---|\n",
       "| 1                  | NA                 | value in level set | Banana             |\n",
       "\n"
      ],
      "text/plain": [
       "  row col expected           actual\n",
       "1 1   NA  value in level set Banana"
      ]
     },
     "metadata": {},
     "output_type": "display_data"
    }
   ],
   "source": [
    "problems(fruits_fct)"
   ]
  },
  {
   "cell_type": "code",
   "execution_count": 9,
   "metadata": {},
   "outputs": [
    {
     "data": {
      "text/html": [
       "<ol class=list-inline>\n",
       "\t<li>Banana</li>\n",
       "\t<li>Apple</li>\n",
       "</ol>\n",
       "\n",
       "<details>\n",
       "\t<summary style=display:list-item;cursor:pointer>\n",
       "\t\t<strong>Levels</strong>:\n",
       "\t</summary>\n",
       "\t<ol class=list-inline>\n",
       "\t\t<li>'Banana'</li>\n",
       "\t\t<li>'Apple'</li>\n",
       "\t</ol>\n",
       "</details>"
      ],
      "text/latex": [
       "\\begin{enumerate*}\n",
       "\\item Banana\n",
       "\\item Apple\n",
       "\\end{enumerate*}\n",
       "\n",
       "\\emph{Levels}: \\begin{enumerate*}\n",
       "\\item 'Banana'\n",
       "\\item 'Apple'\n",
       "\\end{enumerate*}\n"
      ],
      "text/markdown": [
       "1. Banana\n",
       "2. Apple\n",
       "\n",
       "\n",
       "\n",
       "**Levels**: 1. 'Banana'\n",
       "2. 'Apple'\n",
       "\n",
       "\n"
      ],
      "text/plain": [
       "[1] Banana Apple \n",
       "Levels: Banana Apple"
      ]
     },
     "metadata": {},
     "output_type": "display_data"
    }
   ],
   "source": [
    "# Using an argument of `NULL` will generate levels based on values of `x` (defaut)\n",
    "parse_factor(fruits, levels = NULL)"
   ]
  }
 ],
 "metadata": {
  "kernelspec": {
   "display_name": "R",
   "language": "R",
   "name": "ir"
  },
  "language_info": {
   "codemirror_mode": "r",
   "file_extension": ".r",
   "mimetype": "text/x-r-source",
   "name": "R",
   "pygments_lexer": "r",
   "version": "3.6.1"
  }
 },
 "nbformat": 4,
 "nbformat_minor": 2
}
