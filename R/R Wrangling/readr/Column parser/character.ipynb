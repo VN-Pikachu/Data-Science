{
 "cells": [
  {
   "cell_type": "code",
   "execution_count": 2,
   "metadata": {},
   "outputs": [],
   "source": [
    "library(tidyverse)"
   ]
  },
  {
   "cell_type": "markdown",
   "metadata": {},
   "source": [
    "When parsing characters, we have to pay attention what encoding that text is using"
   ]
  },
  {
   "cell_type": "code",
   "execution_count": 3,
   "metadata": {},
   "outputs": [],
   "source": [
    "x1 <- \"El Ni\\xf1o was particularly bad this year\"\n",
    "x2 <- \"\\x82\\xb1\\x82\\xf1\\x82\\xc9\\x82\\xbf\\x82\\xcd\""
   ]
  },
  {
   "cell_type": "code",
   "execution_count": 11,
   "metadata": {},
   "outputs": [
    {
     "data": {
      "text/html": [
       "'El Niño was particularly bad this year'"
      ],
      "text/latex": [
       "'El Niño was particularly bad this year'"
      ],
      "text/markdown": [
       "'El Niño was particularly bad this year'"
      ],
      "text/plain": [
       "[1] \"El Niño was particularly bad this year\""
      ]
     },
     "metadata": {},
     "output_type": "display_data"
    }
   ],
   "source": [
    "x1 "
   ]
  },
  {
   "cell_type": "code",
   "execution_count": 5,
   "metadata": {},
   "outputs": [
    {
     "data": {
      "text/html": [
       "'‚±‚ñ‚É‚¿‚Í'"
      ],
      "text/latex": [
       "'‚±‚ñ‚É‚¿‚Í'"
      ],
      "text/markdown": [
       "'‚±‚ñ‚É‚¿‚Í'"
      ],
      "text/plain": [
       "[1] \"‚±‚ñ‚É‚¿‚Í\""
      ]
     },
     "metadata": {},
     "output_type": "display_data"
    }
   ],
   "source": [
    "x2"
   ]
  },
  {
   "cell_type": "code",
   "execution_count": 6,
   "metadata": {},
   "outputs": [
    {
     "data": {
      "text/html": [
       "'El Niño was particularly bad this year'"
      ],
      "text/latex": [
       "'El Niño was particularly bad this year'"
      ],
      "text/markdown": [
       "'El Niño was particularly bad this year'"
      ],
      "text/plain": [
       "[1] \"El Niño was particularly bad this year\""
      ]
     },
     "metadata": {},
     "output_type": "display_data"
    }
   ],
   "source": [
    "x1 %>% parse_character(locale = locale(encoding = 'Latin1'))"
   ]
  },
  {
   "cell_type": "code",
   "execution_count": 9,
   "metadata": {},
   "outputs": [
    {
     "data": {
      "text/html": [
       "'こんにちは'"
      ],
      "text/latex": [
       "'こんにちは'"
      ],
      "text/markdown": [
       "'こんにちは'"
      ],
      "text/plain": [
       "[1] \"<U+3053><U+3093><U+306B><U+3061><U+306F>\""
      ]
     },
     "metadata": {},
     "output_type": "display_data"
    }
   ],
   "source": [
    "x2 %>% parse_character(locale = locale(encoding = 'Shift-JIS'))"
   ]
  },
  {
   "cell_type": "markdown",
   "metadata": {},
   "source": [
    "How do you find the correct encoding? If you’re lucky, it’ll be included somewhere in the data documentation. Unfortunately, that’s rarely the case, so readr provides __`guess_encoding()`__ to help you figure it out. It’s not foolproof, and it works better when you have lots of text (unlike here), but it’s a reasonable place to start. Expect to try a few different encodings before you find the right one."
   ]
  },
  {
   "cell_type": "code",
   "execution_count": 14,
   "metadata": {},
   "outputs": [
    {
     "data": {
      "text/html": [
       "<table>\n",
       "<thead><tr><th scope=col>encoding</th><th scope=col>confidence</th></tr></thead>\n",
       "<tbody>\n",
       "\t<tr><td>ISO-8859-1</td><td>0.46      </td></tr>\n",
       "\t<tr><td>ISO-8859-9</td><td>0.23      </td></tr>\n",
       "</tbody>\n",
       "</table>\n"
      ],
      "text/latex": [
       "\\begin{tabular}{r|ll}\n",
       " encoding & confidence\\\\\n",
       "\\hline\n",
       "\t ISO-8859-1 & 0.46      \\\\\n",
       "\t ISO-8859-9 & 0.23      \\\\\n",
       "\\end{tabular}\n"
      ],
      "text/markdown": [
       "\n",
       "| encoding | confidence |\n",
       "|---|---|\n",
       "| ISO-8859-1 | 0.46       |\n",
       "| ISO-8859-9 | 0.23       |\n",
       "\n"
      ],
      "text/plain": [
       "  encoding   confidence\n",
       "1 ISO-8859-1 0.46      \n",
       "2 ISO-8859-9 0.23      "
      ]
     },
     "metadata": {},
     "output_type": "display_data"
    }
   ],
   "source": [
    "guess_encoding(charToRaw(x1))"
   ]
  },
  {
   "cell_type": "code",
   "execution_count": 16,
   "metadata": {},
   "outputs": [
    {
     "data": {
      "text/html": [
       "<table>\n",
       "<thead><tr><th scope=col>encoding</th><th scope=col>confidence</th></tr></thead>\n",
       "<tbody>\n",
       "\t<tr><td>KOI8-R</td><td>0.42  </td></tr>\n",
       "</tbody>\n",
       "</table>\n"
      ],
      "text/latex": [
       "\\begin{tabular}{r|ll}\n",
       " encoding & confidence\\\\\n",
       "\\hline\n",
       "\t KOI8-R & 0.42  \\\\\n",
       "\\end{tabular}\n"
      ],
      "text/markdown": [
       "\n",
       "| encoding | confidence |\n",
       "|---|---|\n",
       "| KOI8-R | 0.42   |\n",
       "\n"
      ],
      "text/plain": [
       "  encoding confidence\n",
       "1 KOI8-R   0.42      "
      ]
     },
     "metadata": {},
     "output_type": "display_data"
    }
   ],
   "source": [
    "guess_encoding(charToRaw(x2))"
   ]
  }
 ],
 "metadata": {
  "kernelspec": {
   "display_name": "R",
   "language": "R",
   "name": "ir"
  },
  "language_info": {
   "codemirror_mode": "r",
   "file_extension": ".r",
   "mimetype": "text/x-r-source",
   "name": "R",
   "pygments_lexer": "r",
   "version": "3.6.1"
  }
 },
 "nbformat": 4,
 "nbformat_minor": 2
}
