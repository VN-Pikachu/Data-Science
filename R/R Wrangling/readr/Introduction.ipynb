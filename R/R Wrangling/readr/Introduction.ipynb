{
 "cells": [
  {
   "cell_type": "code",
   "execution_count": 3,
   "metadata": {},
   "outputs": [],
   "source": [
    "library(tidyverse)"
   ]
  },
  {
   "cell_type": "markdown",
   "metadata": {},
   "source": [
    "# Introduction"
   ]
  },
  {
   "cell_type": "markdown",
   "metadata": {},
   "source": [
    "The key problem that readr solves is **parsing** a flat file into a tibble. Parsing is the process of taking a text file and turning it into a rectangular tibble where each column is the appropriate part. Parsing takes place in three basic stages:\n",
    "* **Rectangle parsers**: The flat file is parsed into a rectangular matrix of strings.\n",
    "\n",
    "* **Column specification**: The type of each column is determined.\n",
    "\n",
    "* **Vector parsers**: Each column of strings is parsed into a vector of a more specific type."
   ]
  },
  {
   "cell_type": "markdown",
   "metadata": {},
   "source": [
    "Each `parse_*()` is coupled with a `col_*()` function, which will be used in the process of parsing a complete tibble."
   ]
  },
  {
   "cell_type": "markdown",
   "metadata": {},
   "source": [
    "# Vector parsers"
   ]
  },
  {
   "cell_type": "markdown",
   "metadata": {},
   "source": [
    "It’s easiest to learn the vector parses using `parse_` functions. These all take a character vector and some options. They return a new vector the same length as the old, along with an attribute describing any problems."
   ]
  },
  {
   "cell_type": "markdown",
   "metadata": {},
   "source": [
    "### Atomic vectors"
   ]
  },
  {
   "cell_type": "markdown",
   "metadata": {},
   "source": [
    "**`parse_logical()`**, **`parse_integer()`**, **`parse_double()`**, and **`parse_character()`** are straightforward parsers that produce the corresponding atomic vector."
   ]
  },
  {
   "cell_type": "code",
   "execution_count": 4,
   "metadata": {},
   "outputs": [
    {
     "data": {
      "text/html": [
       "<ol class=list-inline>\n",
       "\t<li>1</li>\n",
       "\t<li>2</li>\n",
       "\t<li>3</li>\n",
       "\t<li>4</li>\n",
       "</ol>\n"
      ],
      "text/latex": [
       "\\begin{enumerate*}\n",
       "\\item 1\n",
       "\\item 2\n",
       "\\item 3\n",
       "\\item 4\n",
       "\\end{enumerate*}\n"
      ],
      "text/markdown": [
       "1. 1\n",
       "2. 2\n",
       "3. 3\n",
       "4. 4\n",
       "\n",
       "\n"
      ],
      "text/plain": [
       "[1] 1 2 3 4"
      ]
     },
     "metadata": {},
     "output_type": "display_data"
    }
   ],
   "source": [
    "parse_integer(c('1', '2', '3', '4'))"
   ]
  },
  {
   "cell_type": "code",
   "execution_count": 5,
   "metadata": {},
   "outputs": [
    {
     "data": {
      "text/html": [
       "<ol class=list-inline>\n",
       "\t<li>1.23</li>\n",
       "\t<li>2.53</li>\n",
       "</ol>\n"
      ],
      "text/latex": [
       "\\begin{enumerate*}\n",
       "\\item 1.23\n",
       "\\item 2.53\n",
       "\\end{enumerate*}\n"
      ],
      "text/markdown": [
       "1. 1.23\n",
       "2. 2.53\n",
       "\n",
       "\n"
      ],
      "text/plain": [
       "[1] 1.23 2.53"
      ]
     },
     "metadata": {},
     "output_type": "display_data"
    }
   ],
   "source": [
    "parse_double(c('1.23', '2.53'))"
   ]
  },
  {
   "cell_type": "code",
   "execution_count": 8,
   "metadata": {},
   "outputs": [
    {
     "data": {
      "text/html": [
       "<ol class=list-inline>\n",
       "\t<li>TRUE</li>\n",
       "\t<li>FALSE</li>\n",
       "</ol>\n"
      ],
      "text/latex": [
       "\\begin{enumerate*}\n",
       "\\item TRUE\n",
       "\\item FALSE\n",
       "\\end{enumerate*}\n"
      ],
      "text/markdown": [
       "1. TRUE\n",
       "2. FALSE\n",
       "\n",
       "\n"
      ],
      "text/plain": [
       "[1]  TRUE FALSE"
      ]
     },
     "metadata": {},
     "output_type": "display_data"
    }
   ],
   "source": [
    "parse_logical(c('true', 'false'))"
   ]
  },
  {
   "cell_type": "markdown",
   "metadata": {},
   "source": [
    "By default, readr expects `.` as the decimal mark and `,` as the grouping mark. You can override this default using **`locale()`** "
   ]
  },
  {
   "cell_type": "markdown",
   "metadata": {},
   "source": [
    "#### Flexible numeric parser"
   ]
  },
  {
   "cell_type": "markdown",
   "metadata": {},
   "source": [
    "**`parse_integer()`** and **`parse_double()`** are strict: the input string must be a single number with no leading or trailing characters. **`parse_number()`** is more flexible: it ignores non-numeric prefixes and suffixes, and knows how to deal with grouping marks. This makes it suitable for reading currencies and percentages:"
   ]
  },
  {
   "cell_type": "code",
   "execution_count": 9,
   "metadata": {},
   "outputs": [
    {
     "name": "stderr",
     "output_type": "stream",
     "text": [
      "Warning message:\n",
      "\"1 parsing failure.\n",
      "row col               expected actual\n",
      "  1  -- no trailing characters   100$\n",
      "\""
     ]
    },
    {
     "data": {
      "text/html": [
       "&lt;NA&gt;"
      ],
      "text/latex": [
       "<NA>"
      ],
      "text/markdown": [
       "&lt;NA&gt;"
      ],
      "text/plain": [
       "[1] NA\n",
       "attr(,\"problems\")\n",
       "# A tibble: 1 x 4\n",
       "    row   col expected               actual\n",
       "  <int> <int> <chr>                  <chr> \n",
       "1     1    NA no trailing characters 100$  "
      ]
     },
     "metadata": {},
     "output_type": "display_data"
    }
   ],
   "source": [
    "try(parse_integer('100$'))"
   ]
  },
  {
   "cell_type": "code",
   "execution_count": 12,
   "metadata": {},
   "outputs": [
    {
     "data": {
      "text/html": [
       "100"
      ],
      "text/latex": [
       "100"
      ],
      "text/markdown": [
       "100"
      ],
      "text/plain": [
       "[1] 100"
      ]
     },
     "metadata": {},
     "output_type": "display_data"
    },
    {
     "data": {
      "text/html": [
       "99.25"
      ],
      "text/latex": [
       "99.25"
      ],
      "text/markdown": [
       "99.25"
      ],
      "text/plain": [
       "[1] 99.25"
      ]
     },
     "metadata": {},
     "output_type": "display_data"
    }
   ],
   "source": [
    "parse_number('100$')\n",
    "\n",
    "parse_number('99.25%')"
   ]
  },
  {
   "cell_type": "markdown",
   "metadata": {},
   "source": [
    "### Date/times"
   ]
  },
  {
   "cell_type": "markdown",
   "metadata": {},
   "source": [
    "readr supports three types of date/time data:\n",
    "\n",
    "* dates: number of days since 1970-01-01.\n",
    "* times: number of seconds since midnight.\n",
    "* datetimes: number of seconds since midnight 1970-01-01."
   ]
  },
  {
   "cell_type": "code",
   "execution_count": 13,
   "metadata": {},
   "outputs": [
    {
     "data": {
      "text/plain": [
       "[1] \"2010-10-01 21:45:00 UTC\""
      ]
     },
     "metadata": {},
     "output_type": "display_data"
    }
   ],
   "source": [
    "parse_datetime('2010-10-01 21:45')"
   ]
  },
  {
   "cell_type": "code",
   "execution_count": 14,
   "metadata": {},
   "outputs": [
    {
     "data": {
      "text/html": [
       "<time datetime=\"2010-10-01\">2010-10-01</time>"
      ],
      "text/latex": [
       "2010-10-01"
      ],
      "text/markdown": [
       "2010-10-01"
      ],
      "text/plain": [
       "[1] \"2010-10-01\""
      ]
     },
     "metadata": {},
     "output_type": "display_data"
    }
   ],
   "source": [
    "parse_date('2010-10-01')"
   ]
  },
  {
   "cell_type": "code",
   "execution_count": 15,
   "metadata": {},
   "outputs": [
    {
     "data": {
      "text/plain": [
       "13:00:00"
      ]
     },
     "metadata": {},
     "output_type": "display_data"
    }
   ],
   "source": [
    "parse_time('1:00pm')"
   ]
  },
  {
   "cell_type": "markdown",
   "metadata": {},
   "source": [
    "Each function takes a format argument which describes the format of the string. If not specified, it uses a default value:\n",
    "\n",
    "* **`parse_datetime()`** recognises **ISO8601** datetimes.\n",
    "\n",
    "* **`parse_date()`** uses the date_format specified by the `locale()`. The default value is `%AD` which uses an automatic date parser that recognises dates of the format `Y-m-d` or `Y/m/d`.\n",
    "\n",
    "* **`parse_time()`** uses the `time_format` specified by the `locale()`. The default value is `%At` which uses an automatic time parser that recognises times of the form `H:M` optionally followed by seconds and am/pm."
   ]
  },
  {
   "cell_type": "markdown",
   "metadata": {},
   "source": [
    "In most cases, you will need to supply a format:"
   ]
  },
  {
   "cell_type": "code",
   "execution_count": 20,
   "metadata": {},
   "outputs": [
    {
     "data": {
      "text/html": [
       "<time datetime=\"2010-01-01\">2010-01-01</time>"
      ],
      "text/latex": [
       "2010-01-01"
      ],
      "text/markdown": [
       "2010-01-01"
      ],
      "text/plain": [
       "[1] \"2010-01-01\""
      ]
     },
     "metadata": {},
     "output_type": "display_data"
    }
   ],
   "source": [
    "\n",
    "parse_date(\"1 January, 2010\", format = '%d %B, %Y')"
   ]
  },
  {
   "cell_type": "code",
   "execution_count": 21,
   "metadata": {},
   "outputs": [
    {
     "data": {
      "text/html": [
       "<time datetime=\"2001-10-06\">2001-10-06</time>"
      ],
      "text/latex": [
       "2001-10-06"
      ],
      "text/markdown": [
       "2001-10-06"
      ],
      "text/plain": [
       "[1] \"2001-10-06\""
      ]
     },
     "metadata": {},
     "output_type": "display_data"
    }
   ],
   "source": [
    "\n",
    "parse_date(\"06/10/01\", format = '%d/%m/%y')"
   ]
  },
  {
   "cell_type": "markdown",
   "metadata": {},
   "source": [
    "### Factors"
   ]
  },
  {
   "cell_type": "markdown",
   "metadata": {},
   "source": [
    "When reading a column that has a known set of values, you can read directly into a factor. `parse_factor()` will generate a warning if a value is not in the supplied levels."
   ]
  },
  {
   "cell_type": "code",
   "execution_count": 24,
   "metadata": {},
   "outputs": [
    {
     "data": {
      "text/html": [
       "<ol class=list-inline>\n",
       "\t<li>Banana</li>\n",
       "\t<li>Coconut</li>\n",
       "</ol>\n",
       "\n",
       "<details>\n",
       "\t<summary style=display:list-item;cursor:pointer>\n",
       "\t\t<strong>Levels</strong>:\n",
       "\t</summary>\n",
       "\t<ol class=list-inline>\n",
       "\t\t<li>'Banana'</li>\n",
       "\t\t<li>'Coconut'</li>\n",
       "\t\t<li>'Apple'</li>\n",
       "\t</ol>\n",
       "</details>"
      ],
      "text/latex": [
       "\\begin{enumerate*}\n",
       "\\item Banana\n",
       "\\item Coconut\n",
       "\\end{enumerate*}\n",
       "\n",
       "\\emph{Levels}: \\begin{enumerate*}\n",
       "\\item 'Banana'\n",
       "\\item 'Coconut'\n",
       "\\item 'Apple'\n",
       "\\end{enumerate*}\n"
      ],
      "text/markdown": [
       "1. Banana\n",
       "2. Coconut\n",
       "\n",
       "\n",
       "\n",
       "**Levels**: 1. 'Banana'\n",
       "2. 'Coconut'\n",
       "3. 'Apple'\n",
       "\n",
       "\n"
      ],
      "text/plain": [
       "[1] Banana  Coconut\n",
       "Levels: Banana Coconut Apple"
      ]
     },
     "metadata": {},
     "output_type": "display_data"
    }
   ],
   "source": [
    "parse_factor(c('Banana', 'Coconut'), levels = c('Banana', 'Coconut', 'Apple'))"
   ]
  },
  {
   "cell_type": "code",
   "execution_count": 26,
   "metadata": {},
   "outputs": [
    {
     "name": "stderr",
     "output_type": "stream",
     "text": [
      "Warning message:\n",
      "\"1 parsing failure.\n",
      "row col           expected actual\n",
      "  2  -- value in level set Durian\n",
      "\""
     ]
    },
    {
     "data": {
      "text/html": [
       "<ol class=list-inline>\n",
       "\t<li>Banana</li>\n",
       "\t<li>&lt;NA&gt;</li>\n",
       "</ol>\n",
       "\n",
       "<details>\n",
       "\t<summary style=display:list-item;cursor:pointer>\n",
       "\t\t<strong>Levels</strong>:\n",
       "\t</summary>\n",
       "\t<ol class=list-inline>\n",
       "\t\t<li>'Apple'</li>\n",
       "\t\t<li>'Banana'</li>\n",
       "\t\t<li>'Coconut'</li>\n",
       "\t</ol>\n",
       "</details>"
      ],
      "text/latex": [
       "\\begin{enumerate*}\n",
       "\\item Banana\n",
       "\\item <NA>\n",
       "\\end{enumerate*}\n",
       "\n",
       "\\emph{Levels}: \\begin{enumerate*}\n",
       "\\item 'Apple'\n",
       "\\item 'Banana'\n",
       "\\item 'Coconut'\n",
       "\\end{enumerate*}\n"
      ],
      "text/markdown": [
       "1. Banana\n",
       "2. &lt;NA&gt;\n",
       "\n",
       "\n",
       "\n",
       "**Levels**: 1. 'Apple'\n",
       "2. 'Banana'\n",
       "3. 'Coconut'\n",
       "\n",
       "\n"
      ],
      "text/plain": [
       "[1] Banana <NA>  \n",
       "attr(,\"problems\")\n",
       "# A tibble: 1 x 4\n",
       "    row   col expected           actual\n",
       "  <int> <int> <chr>              <chr> \n",
       "1     2    NA value in level set Durian\n",
       "Levels: Apple Banana Coconut"
      ]
     },
     "metadata": {},
     "output_type": "display_data"
    }
   ],
   "source": [
    "result <- parse_factor(c('Banana', 'Durian'), levels = c('Apple', 'Banana', 'Coconut'))\n",
    "result"
   ]
  },
  {
   "cell_type": "markdown",
   "metadata": {},
   "source": [
    "See detail the problem by using **`problems()`**:"
   ]
  },
  {
   "cell_type": "code",
   "execution_count": 27,
   "metadata": {},
   "outputs": [
    {
     "data": {
      "text/html": [
       "<table>\n",
       "<thead><tr><th scope=col>row</th><th scope=col>col</th><th scope=col>expected</th><th scope=col>actual</th></tr></thead>\n",
       "<tbody>\n",
       "\t<tr><td>2                 </td><td>NA                </td><td>value in level set</td><td>Durian            </td></tr>\n",
       "</tbody>\n",
       "</table>\n"
      ],
      "text/latex": [
       "\\begin{tabular}{r|llll}\n",
       " row & col & expected & actual\\\\\n",
       "\\hline\n",
       "\t 2                  & NA                 & value in level set & Durian            \\\\\n",
       "\\end{tabular}\n"
      ],
      "text/markdown": [
       "\n",
       "| row | col | expected | actual |\n",
       "|---|---|---|---|\n",
       "| 2                  | NA                 | value in level set | Durian             |\n",
       "\n"
      ],
      "text/plain": [
       "  row col expected           actual\n",
       "1 2   NA  value in level set Durian"
      ]
     },
     "metadata": {},
     "output_type": "display_data"
    }
   ],
   "source": [
    "problems(result)"
   ]
  },
  {
   "cell_type": "markdown",
   "metadata": {},
   "source": [
    "# Column specification"
   ]
  },
  {
   "cell_type": "markdown",
   "metadata": {},
   "source": [
    " `readr` uses some heuristics to guess the type of each column. You can access these results yourself using `guess_parser()`:"
   ]
  },
  {
   "cell_type": "code",
   "execution_count": 28,
   "metadata": {},
   "outputs": [
    {
     "data": {
      "text/html": [
       "'double'"
      ],
      "text/latex": [
       "'double'"
      ],
      "text/markdown": [
       "'double'"
      ],
      "text/plain": [
       "[1] \"double\""
      ]
     },
     "metadata": {},
     "output_type": "display_data"
    }
   ],
   "source": [
    "guess_parser(c('1', '12.5', '37'))"
   ]
  },
  {
   "cell_type": "code",
   "execution_count": 30,
   "metadata": {},
   "outputs": [
    {
     "data": {
      "text/html": [
       "'logical'"
      ],
      "text/latex": [
       "'logical'"
      ],
      "text/markdown": [
       "'logical'"
      ],
      "text/plain": [
       "[1] \"logical\""
      ]
     },
     "metadata": {},
     "output_type": "display_data"
    }
   ],
   "source": [
    "guess_parser(c('true', 'false', 'true'))"
   ]
  },
  {
   "cell_type": "code",
   "execution_count": 31,
   "metadata": {},
   "outputs": [
    {
     "data": {
      "text/html": [
       "'character'"
      ],
      "text/latex": [
       "'character'"
      ],
      "text/markdown": [
       "'character'"
      ],
      "text/plain": [
       "[1] \"character\""
      ]
     },
     "metadata": {},
     "output_type": "display_data"
    }
   ],
   "source": [
    "guess_parser(c('Hello', '5.23'))"
   ]
  },
  {
   "cell_type": "code",
   "execution_count": 34,
   "metadata": {},
   "outputs": [
    {
     "data": {
      "text/html": [
       "'date'"
      ],
      "text/latex": [
       "'date'"
      ],
      "text/markdown": [
       "'date'"
      ],
      "text/plain": [
       "[1] \"date\""
      ]
     },
     "metadata": {},
     "output_type": "display_data"
    }
   ],
   "source": [
    "guess_parser('2001/10/06')"
   ]
  },
  {
   "cell_type": "markdown",
   "metadata": {},
   "source": [
    "Guesses are fairly strict. For example, we don’t guess that currencies are numbers, even though we can parse them:"
   ]
  },
  {
   "cell_type": "code",
   "execution_count": 36,
   "metadata": {},
   "outputs": [
    {
     "data": {
      "text/html": [
       "'character'"
      ],
      "text/latex": [
       "'character'"
      ],
      "text/markdown": [
       "'character'"
      ],
      "text/plain": [
       "[1] \"character\""
      ]
     },
     "metadata": {},
     "output_type": "display_data"
    },
    {
     "data": {
      "text/html": [
       "'character'"
      ],
      "text/latex": [
       "'character'"
      ],
      "text/markdown": [
       "'character'"
      ],
      "text/plain": [
       "[1] \"character\""
      ]
     },
     "metadata": {},
     "output_type": "display_data"
    }
   ],
   "source": [
    "guess_parser('100%')\n",
    "\n",
    "guess_parser('5$')"
   ]
  },
  {
   "cell_type": "markdown",
   "metadata": {},
   "source": [
    "There are two parsers that will never be guessed: `col_skip()` and `col_factor()`. You will always need to supply these explicitly."
   ]
  },
  {
   "cell_type": "markdown",
   "metadata": {},
   "source": [
    "You can see the specification that readr would generate for a column file by using `spec_csv()`, `spec_tsv()` and so on:"
   ]
  },
  {
   "cell_type": "code",
   "execution_count": 38,
   "metadata": {},
   "outputs": [
    {
     "data": {
      "text/html": [
       "'C:/Users/dell/Anaconda3/Lib/R/library/readr/extdata/mtcars.csv'"
      ],
      "text/latex": [
       "'C:/Users/dell/Anaconda3/Lib/R/library/readr/extdata/mtcars.csv'"
      ],
      "text/markdown": [
       "'C:/Users/dell/Anaconda3/Lib/R/library/readr/extdata/mtcars.csv'"
      ],
      "text/plain": [
       "[1] \"C:/Users/dell/Anaconda3/Lib/R/library/readr/extdata/mtcars.csv\""
      ]
     },
     "metadata": {},
     "output_type": "display_data"
    }
   ],
   "source": [
    "path <- readr_example('mtcars.csv')\n",
    "path"
   ]
  },
  {
   "cell_type": "code",
   "execution_count": 39,
   "metadata": {},
   "outputs": [
    {
     "name": "stderr",
     "output_type": "stream",
     "text": [
      "\n",
      "-- Column specification ------------------------------------------------------------------------------------------------\n",
      "cols(\n",
      "  mpg = col_double(),\n",
      "  cyl = col_double(),\n",
      "  disp = col_double(),\n",
      "  hp = col_double(),\n",
      "  drat = col_double(),\n",
      "  wt = col_double(),\n",
      "  qsec = col_double(),\n",
      "  vs = col_double(),\n",
      "  am = col_double(),\n",
      "  gear = col_double(),\n",
      "  carb = col_double()\n",
      ")\n",
      "\n"
     ]
    },
    {
     "data": {
      "text/plain": [
       "cols(\n",
       "  mpg = col_double(),\n",
       "  cyl = col_double(),\n",
       "  disp = col_double(),\n",
       "  hp = col_double(),\n",
       "  drat = col_double(),\n",
       "  wt = col_double(),\n",
       "  qsec = col_double(),\n",
       "  vs = col_double(),\n",
       "  am = col_double(),\n",
       "  gear = col_double(),\n",
       "  carb = col_double()\n",
       ")"
      ]
     },
     "metadata": {},
     "output_type": "display_data"
    }
   ],
   "source": [
    "x <- spec_csv(path)\n",
    "x"
   ]
  },
  {
   "cell_type": "markdown",
   "metadata": {},
   "source": [
    "For bigger files, you can often make the specification simpler by changing the default column type using `cols_condense()`"
   ]
  },
  {
   "cell_type": "code",
   "execution_count": 41,
   "metadata": {},
   "outputs": [
    {
     "name": "stderr",
     "output_type": "stream",
     "text": [
      "\n",
      "-- Column specification ------------------------------------------------------------------------------------------------\n",
      "cols(\n",
      "  mpg = col_double(),\n",
      "  cyl = col_double(),\n",
      "  disp = col_double(),\n",
      "  hp = col_double(),\n",
      "  drat = col_double(),\n",
      "  wt = col_double(),\n",
      "  qsec = col_double(),\n",
      "  vs = col_double(),\n",
      "  am = col_double(),\n",
      "  gear = col_double(),\n",
      "  carb = col_double()\n",
      ")\n",
      "\n"
     ]
    },
    {
     "data": {
      "text/plain": [
       "cols(\n",
       "  mpg = col_double(),\n",
       "  cyl = col_double(),\n",
       "  disp = col_double(),\n",
       "  hp = col_double(),\n",
       "  drat = col_double(),\n",
       "  wt = col_double(),\n",
       "  qsec = col_double(),\n",
       "  vs = col_double(),\n",
       "  am = col_double(),\n",
       "  gear = col_double(),\n",
       "  carb = col_double()\n",
       ")"
      ]
     },
     "metadata": {},
     "output_type": "display_data"
    }
   ],
   "source": [
    "mtcars_spec <- spec_csv(path)\n",
    "\n",
    "mtcars_spec"
   ]
  },
  {
   "cell_type": "code",
   "execution_count": 42,
   "metadata": {},
   "outputs": [
    {
     "data": {
      "text/plain": [
       "cols(\n",
       "  .default = col_double()\n",
       ")"
      ]
     },
     "metadata": {},
     "output_type": "display_data"
    }
   ],
   "source": [
    "cols_condense(mtcars_spec)"
   ]
  },
  {
   "cell_type": "markdown",
   "metadata": {},
   "source": [
    "By default readr only looks at the first 1000 rows. This keeps file parsing speedy, but can generate incorrect guesses. For example, in `challenge.csv` the column types change in row 1001, so readr guesses the wrong types. One way to resolve the problem is to increase the number of rows:"
   ]
  },
  {
   "cell_type": "code",
   "execution_count": 45,
   "metadata": {},
   "outputs": [],
   "source": [
    "challenge_path <- readr_example('challenge.csv')"
   ]
  },
  {
   "cell_type": "code",
   "execution_count": 50,
   "metadata": {},
   "outputs": [
    {
     "name": "stderr",
     "output_type": "stream",
     "text": [
      "\n",
      "-- Column specification ------------------------------------------------------------------------------------------------\n",
      "cols(\n",
      "  x = col_double(),\n",
      "  y = col_logical()\n",
      ")\n",
      "\n",
      "Warning message:\n",
      "\"1000 parsing failures.\n",
      " row col           expected     actual                                                                file\n",
      "1001   y 1/0/T/F/TRUE/FALSE 2015-01-16 'C:/Users/dell/Anaconda3/Lib/R/library/readr/extdata/challenge.csv'\n",
      "1002   y 1/0/T/F/TRUE/FALSE 2018-05-18 'C:/Users/dell/Anaconda3/Lib/R/library/readr/extdata/challenge.csv'\n",
      "1003   y 1/0/T/F/TRUE/FALSE 2015-09-05 'C:/Users/dell/Anaconda3/Lib/R/library/readr/extdata/challenge.csv'\n",
      "1004   y 1/0/T/F/TRUE/FALSE 2012-11-28 'C:/Users/dell/Anaconda3/Lib/R/library/readr/extdata/challenge.csv'\n",
      "1005   y 1/0/T/F/TRUE/FALSE 2020-01-13 'C:/Users/dell/Anaconda3/Lib/R/library/readr/extdata/challenge.csv'\n",
      ".... ... .................. .......... ...................................................................\n",
      "See problems(...) for more details.\n",
      "\""
     ]
    }
   ],
   "source": [
    "challenge <- read_csv(challenge_path)"
   ]
  },
  {
   "cell_type": "code",
   "execution_count": 49,
   "metadata": {},
   "outputs": [
    {
     "name": "stderr",
     "output_type": "stream",
     "text": [
      "\n",
      "-- Column specification ------------------------------------------------------------------------------------------------\n",
      "cols(\n",
      "  x = col_double(),\n",
      "  y = col_date(format = \"\")\n",
      ")\n",
      "\n"
     ]
    }
   ],
   "source": [
    "challenge <- read_csv(challenge_path, guess_max = 10001)"
   ]
  },
  {
   "cell_type": "markdown",
   "metadata": {},
   "source": [
    "Another way is to manually specify the `col_type`, as described below.\n",
    "\n"
   ]
  },
  {
   "cell_type": "markdown",
   "metadata": {},
   "source": [
    "# Rectangle parsers"
   ]
  },
  {
   "cell_type": "markdown",
   "metadata": {},
   "source": [
    "readr comes with five parsers for rectangular file formats:\n",
    "\n",
    "* **`read_csv()`** and **`read_csv2()`** for csv files\n",
    "* **`read_tsv()`** for tabs separated files\n",
    "* **`read_fwf()`** for fixed-width files\n",
    "* **`read_log()`** for web log files"
   ]
  },
  {
   "cell_type": "markdown",
   "metadata": {},
   "source": [
    "Each of these functions firsts calls `spec_xxx()` (as described above), and then parses the file according to that column specification:"
   ]
  },
  {
   "cell_type": "code",
   "execution_count": 52,
   "metadata": {},
   "outputs": [
    {
     "name": "stderr",
     "output_type": "stream",
     "text": [
      "\n",
      "-- Column specification ------------------------------------------------------------------------------------------------\n",
      "cols(\n",
      "  x = col_double(),\n",
      "  y = col_logical()\n",
      ")\n",
      "\n",
      "Warning message:\n",
      "\"1000 parsing failures.\n",
      " row col           expected     actual                                                                file\n",
      "1001   y 1/0/T/F/TRUE/FALSE 2015-01-16 'C:/Users/dell/Anaconda3/Lib/R/library/readr/extdata/challenge.csv'\n",
      "1002   y 1/0/T/F/TRUE/FALSE 2018-05-18 'C:/Users/dell/Anaconda3/Lib/R/library/readr/extdata/challenge.csv'\n",
      "1003   y 1/0/T/F/TRUE/FALSE 2015-09-05 'C:/Users/dell/Anaconda3/Lib/R/library/readr/extdata/challenge.csv'\n",
      "1004   y 1/0/T/F/TRUE/FALSE 2012-11-28 'C:/Users/dell/Anaconda3/Lib/R/library/readr/extdata/challenge.csv'\n",
      "1005   y 1/0/T/F/TRUE/FALSE 2020-01-13 'C:/Users/dell/Anaconda3/Lib/R/library/readr/extdata/challenge.csv'\n",
      ".... ... .................. .......... ...................................................................\n",
      "See problems(...) for more details.\n",
      "\""
     ]
    }
   ],
   "source": [
    "df <- read_csv(challenge_path)"
   ]
  },
  {
   "cell_type": "markdown",
   "metadata": {},
   "source": [
    "The rectangular parsing functions almost always succeed; they’ll only fail if the format is severely messed up. Instead, readr will generate a data frame of problems. The first few will be printed out, and you can access them all with **`problems()`**:"
   ]
  },
  {
   "cell_type": "code",
   "execution_count": 53,
   "metadata": {},
   "outputs": [
    {
     "data": {
      "text/html": [
       "<table>\n",
       "<thead><tr><th scope=col>row</th><th scope=col>col</th><th scope=col>expected</th><th scope=col>actual</th><th scope=col>file</th></tr></thead>\n",
       "<tbody>\n",
       "\t<tr><td>1001                                                               </td><td>y                                                                  </td><td>1/0/T/F/TRUE/FALSE                                                 </td><td>2015-01-16                                                         </td><td>'C:/Users/dell/Anaconda3/Lib/R/library/readr/extdata/challenge.csv'</td></tr>\n",
       "\t<tr><td>1002                                                               </td><td>y                                                                  </td><td>1/0/T/F/TRUE/FALSE                                                 </td><td>2018-05-18                                                         </td><td>'C:/Users/dell/Anaconda3/Lib/R/library/readr/extdata/challenge.csv'</td></tr>\n",
       "\t<tr><td>1003                                                               </td><td>y                                                                  </td><td>1/0/T/F/TRUE/FALSE                                                 </td><td>2015-09-05                                                         </td><td>'C:/Users/dell/Anaconda3/Lib/R/library/readr/extdata/challenge.csv'</td></tr>\n",
       "\t<tr><td>1004                                                               </td><td>y                                                                  </td><td>1/0/T/F/TRUE/FALSE                                                 </td><td>2012-11-28                                                         </td><td>'C:/Users/dell/Anaconda3/Lib/R/library/readr/extdata/challenge.csv'</td></tr>\n",
       "\t<tr><td>1005                                                               </td><td>y                                                                  </td><td>1/0/T/F/TRUE/FALSE                                                 </td><td>2020-01-13                                                         </td><td>'C:/Users/dell/Anaconda3/Lib/R/library/readr/extdata/challenge.csv'</td></tr>\n",
       "\t<tr><td>1006                                                               </td><td>y                                                                  </td><td>1/0/T/F/TRUE/FALSE                                                 </td><td>2016-04-17                                                         </td><td>'C:/Users/dell/Anaconda3/Lib/R/library/readr/extdata/challenge.csv'</td></tr>\n",
       "\t<tr><td>1007                                                               </td><td>y                                                                  </td><td>1/0/T/F/TRUE/FALSE                                                 </td><td>2011-05-14                                                         </td><td>'C:/Users/dell/Anaconda3/Lib/R/library/readr/extdata/challenge.csv'</td></tr>\n",
       "\t<tr><td>1008                                                               </td><td>y                                                                  </td><td>1/0/T/F/TRUE/FALSE                                                 </td><td>2020-07-18                                                         </td><td>'C:/Users/dell/Anaconda3/Lib/R/library/readr/extdata/challenge.csv'</td></tr>\n",
       "\t<tr><td>1009                                                               </td><td>y                                                                  </td><td>1/0/T/F/TRUE/FALSE                                                 </td><td>2011-04-30                                                         </td><td>'C:/Users/dell/Anaconda3/Lib/R/library/readr/extdata/challenge.csv'</td></tr>\n",
       "\t<tr><td>1010                                                               </td><td>y                                                                  </td><td>1/0/T/F/TRUE/FALSE                                                 </td><td>2010-05-11                                                         </td><td>'C:/Users/dell/Anaconda3/Lib/R/library/readr/extdata/challenge.csv'</td></tr>\n",
       "\t<tr><td>1011                                                               </td><td>y                                                                  </td><td>1/0/T/F/TRUE/FALSE                                                 </td><td>2014-11-02                                                         </td><td>'C:/Users/dell/Anaconda3/Lib/R/library/readr/extdata/challenge.csv'</td></tr>\n",
       "\t<tr><td>1012                                                               </td><td>y                                                                  </td><td>1/0/T/F/TRUE/FALSE                                                 </td><td>2014-06-23                                                         </td><td>'C:/Users/dell/Anaconda3/Lib/R/library/readr/extdata/challenge.csv'</td></tr>\n",
       "\t<tr><td>1013                                                               </td><td>y                                                                  </td><td>1/0/T/F/TRUE/FALSE                                                 </td><td>2017-05-31                                                         </td><td>'C:/Users/dell/Anaconda3/Lib/R/library/readr/extdata/challenge.csv'</td></tr>\n",
       "\t<tr><td>1014                                                               </td><td>y                                                                  </td><td>1/0/T/F/TRUE/FALSE                                                 </td><td>2017-11-18                                                         </td><td>'C:/Users/dell/Anaconda3/Lib/R/library/readr/extdata/challenge.csv'</td></tr>\n",
       "\t<tr><td>1015                                                               </td><td>y                                                                  </td><td>1/0/T/F/TRUE/FALSE                                                 </td><td>2013-04-20                                                         </td><td>'C:/Users/dell/Anaconda3/Lib/R/library/readr/extdata/challenge.csv'</td></tr>\n",
       "\t<tr><td>1016                                                               </td><td>y                                                                  </td><td>1/0/T/F/TRUE/FALSE                                                 </td><td>2010-12-11                                                         </td><td>'C:/Users/dell/Anaconda3/Lib/R/library/readr/extdata/challenge.csv'</td></tr>\n",
       "\t<tr><td>1017                                                               </td><td>y                                                                  </td><td>1/0/T/F/TRUE/FALSE                                                 </td><td>2022-10-10                                                         </td><td>'C:/Users/dell/Anaconda3/Lib/R/library/readr/extdata/challenge.csv'</td></tr>\n",
       "\t<tr><td>1018                                                               </td><td>y                                                                  </td><td>1/0/T/F/TRUE/FALSE                                                 </td><td>2010-11-11                                                         </td><td>'C:/Users/dell/Anaconda3/Lib/R/library/readr/extdata/challenge.csv'</td></tr>\n",
       "\t<tr><td>1019                                                               </td><td>y                                                                  </td><td>1/0/T/F/TRUE/FALSE                                                 </td><td>2015-03-22                                                         </td><td>'C:/Users/dell/Anaconda3/Lib/R/library/readr/extdata/challenge.csv'</td></tr>\n",
       "\t<tr><td>1020                                                               </td><td>y                                                                  </td><td>1/0/T/F/TRUE/FALSE                                                 </td><td>2013-12-25                                                         </td><td>'C:/Users/dell/Anaconda3/Lib/R/library/readr/extdata/challenge.csv'</td></tr>\n",
       "\t<tr><td>1021                                                               </td><td>y                                                                  </td><td>1/0/T/F/TRUE/FALSE                                                 </td><td>2011-02-27                                                         </td><td>'C:/Users/dell/Anaconda3/Lib/R/library/readr/extdata/challenge.csv'</td></tr>\n",
       "\t<tr><td>1022                                                               </td><td>y                                                                  </td><td>1/0/T/F/TRUE/FALSE                                                 </td><td>2015-12-14                                                         </td><td>'C:/Users/dell/Anaconda3/Lib/R/library/readr/extdata/challenge.csv'</td></tr>\n",
       "\t<tr><td>1023                                                               </td><td>y                                                                  </td><td>1/0/T/F/TRUE/FALSE                                                 </td><td>2021-02-10                                                         </td><td>'C:/Users/dell/Anaconda3/Lib/R/library/readr/extdata/challenge.csv'</td></tr>\n",
       "\t<tr><td>1024                                                               </td><td>y                                                                  </td><td>1/0/T/F/TRUE/FALSE                                                 </td><td>2012-11-28                                                         </td><td>'C:/Users/dell/Anaconda3/Lib/R/library/readr/extdata/challenge.csv'</td></tr>\n",
       "\t<tr><td>1025                                                               </td><td>y                                                                  </td><td>1/0/T/F/TRUE/FALSE                                                 </td><td>2020-04-04                                                         </td><td>'C:/Users/dell/Anaconda3/Lib/R/library/readr/extdata/challenge.csv'</td></tr>\n",
       "\t<tr><td>1026                                                               </td><td>y                                                                  </td><td>1/0/T/F/TRUE/FALSE                                                 </td><td>2021-04-08                                                         </td><td>'C:/Users/dell/Anaconda3/Lib/R/library/readr/extdata/challenge.csv'</td></tr>\n",
       "\t<tr><td>1027                                                               </td><td>y                                                                  </td><td>1/0/T/F/TRUE/FALSE                                                 </td><td>2022-03-13                                                         </td><td>'C:/Users/dell/Anaconda3/Lib/R/library/readr/extdata/challenge.csv'</td></tr>\n",
       "\t<tr><td>1028                                                               </td><td>y                                                                  </td><td>1/0/T/F/TRUE/FALSE                                                 </td><td>2010-03-28                                                         </td><td>'C:/Users/dell/Anaconda3/Lib/R/library/readr/extdata/challenge.csv'</td></tr>\n",
       "\t<tr><td>1029                                                               </td><td>y                                                                  </td><td>1/0/T/F/TRUE/FALSE                                                 </td><td>2023-01-04                                                         </td><td>'C:/Users/dell/Anaconda3/Lib/R/library/readr/extdata/challenge.csv'</td></tr>\n",
       "\t<tr><td>1030                                                               </td><td>y                                                                  </td><td>1/0/T/F/TRUE/FALSE                                                 </td><td>2012-04-02                                                         </td><td>'C:/Users/dell/Anaconda3/Lib/R/library/readr/extdata/challenge.csv'</td></tr>\n",
       "\t<tr><td>...</td><td>...</td><td>...</td><td>...</td><td>...</td></tr>\n",
       "\t<tr><td>1971                                                               </td><td>y                                                                  </td><td>1/0/T/F/TRUE/FALSE                                                 </td><td>2020-06-10                                                         </td><td>'C:/Users/dell/Anaconda3/Lib/R/library/readr/extdata/challenge.csv'</td></tr>\n",
       "\t<tr><td>1972                                                               </td><td>y                                                                  </td><td>1/0/T/F/TRUE/FALSE                                                 </td><td>2013-11-08                                                         </td><td>'C:/Users/dell/Anaconda3/Lib/R/library/readr/extdata/challenge.csv'</td></tr>\n",
       "\t<tr><td>1973                                                               </td><td>y                                                                  </td><td>1/0/T/F/TRUE/FALSE                                                 </td><td>2017-07-12                                                         </td><td>'C:/Users/dell/Anaconda3/Lib/R/library/readr/extdata/challenge.csv'</td></tr>\n",
       "\t<tr><td>1974                                                               </td><td>y                                                                  </td><td>1/0/T/F/TRUE/FALSE                                                 </td><td>2016-08-12                                                         </td><td>'C:/Users/dell/Anaconda3/Lib/R/library/readr/extdata/challenge.csv'</td></tr>\n",
       "\t<tr><td>1975                                                               </td><td>y                                                                  </td><td>1/0/T/F/TRUE/FALSE                                                 </td><td>2022-05-12                                                         </td><td>'C:/Users/dell/Anaconda3/Lib/R/library/readr/extdata/challenge.csv'</td></tr>\n",
       "\t<tr><td>1976                                                               </td><td>y                                                                  </td><td>1/0/T/F/TRUE/FALSE                                                 </td><td>2020-08-11                                                         </td><td>'C:/Users/dell/Anaconda3/Lib/R/library/readr/extdata/challenge.csv'</td></tr>\n",
       "\t<tr><td>1977                                                               </td><td>y                                                                  </td><td>1/0/T/F/TRUE/FALSE                                                 </td><td>2011-10-26                                                         </td><td>'C:/Users/dell/Anaconda3/Lib/R/library/readr/extdata/challenge.csv'</td></tr>\n",
       "\t<tr><td>1978                                                               </td><td>y                                                                  </td><td>1/0/T/F/TRUE/FALSE                                                 </td><td>2015-12-09                                                         </td><td>'C:/Users/dell/Anaconda3/Lib/R/library/readr/extdata/challenge.csv'</td></tr>\n",
       "\t<tr><td>1979                                                               </td><td>y                                                                  </td><td>1/0/T/F/TRUE/FALSE                                                 </td><td>2012-09-27                                                         </td><td>'C:/Users/dell/Anaconda3/Lib/R/library/readr/extdata/challenge.csv'</td></tr>\n",
       "\t<tr><td>1980                                                               </td><td>y                                                                  </td><td>1/0/T/F/TRUE/FALSE                                                 </td><td>2013-02-04                                                         </td><td>'C:/Users/dell/Anaconda3/Lib/R/library/readr/extdata/challenge.csv'</td></tr>\n",
       "\t<tr><td>1981                                                               </td><td>y                                                                  </td><td>1/0/T/F/TRUE/FALSE                                                 </td><td>2010-11-29                                                         </td><td>'C:/Users/dell/Anaconda3/Lib/R/library/readr/extdata/challenge.csv'</td></tr>\n",
       "\t<tr><td>1982                                                               </td><td>y                                                                  </td><td>1/0/T/F/TRUE/FALSE                                                 </td><td>2013-10-16                                                         </td><td>'C:/Users/dell/Anaconda3/Lib/R/library/readr/extdata/challenge.csv'</td></tr>\n",
       "\t<tr><td>1983                                                               </td><td>y                                                                  </td><td>1/0/T/F/TRUE/FALSE                                                 </td><td>2015-04-26                                                         </td><td>'C:/Users/dell/Anaconda3/Lib/R/library/readr/extdata/challenge.csv'</td></tr>\n",
       "\t<tr><td>1984                                                               </td><td>y                                                                  </td><td>1/0/T/F/TRUE/FALSE                                                 </td><td>2011-04-12                                                         </td><td>'C:/Users/dell/Anaconda3/Lib/R/library/readr/extdata/challenge.csv'</td></tr>\n",
       "\t<tr><td>1985                                                               </td><td>y                                                                  </td><td>1/0/T/F/TRUE/FALSE                                                 </td><td>2017-01-30                                                         </td><td>'C:/Users/dell/Anaconda3/Lib/R/library/readr/extdata/challenge.csv'</td></tr>\n",
       "\t<tr><td>1986                                                               </td><td>y                                                                  </td><td>1/0/T/F/TRUE/FALSE                                                 </td><td>2014-06-08                                                         </td><td>'C:/Users/dell/Anaconda3/Lib/R/library/readr/extdata/challenge.csv'</td></tr>\n",
       "\t<tr><td>1987                                                               </td><td>y                                                                  </td><td>1/0/T/F/TRUE/FALSE                                                 </td><td>2016-10-19                                                         </td><td>'C:/Users/dell/Anaconda3/Lib/R/library/readr/extdata/challenge.csv'</td></tr>\n",
       "\t<tr><td>1988                                                               </td><td>y                                                                  </td><td>1/0/T/F/TRUE/FALSE                                                 </td><td>2023-09-01                                                         </td><td>'C:/Users/dell/Anaconda3/Lib/R/library/readr/extdata/challenge.csv'</td></tr>\n",
       "\t<tr><td>1989                                                               </td><td>y                                                                  </td><td>1/0/T/F/TRUE/FALSE                                                 </td><td>2010-01-09                                                         </td><td>'C:/Users/dell/Anaconda3/Lib/R/library/readr/extdata/challenge.csv'</td></tr>\n",
       "\t<tr><td>1990                                                               </td><td>y                                                                  </td><td>1/0/T/F/TRUE/FALSE                                                 </td><td>2020-01-11                                                         </td><td>'C:/Users/dell/Anaconda3/Lib/R/library/readr/extdata/challenge.csv'</td></tr>\n",
       "\t<tr><td>1991                                                               </td><td>y                                                                  </td><td>1/0/T/F/TRUE/FALSE                                                 </td><td>2016-12-16                                                         </td><td>'C:/Users/dell/Anaconda3/Lib/R/library/readr/extdata/challenge.csv'</td></tr>\n",
       "\t<tr><td>1992                                                               </td><td>y                                                                  </td><td>1/0/T/F/TRUE/FALSE                                                 </td><td>2010-01-03                                                         </td><td>'C:/Users/dell/Anaconda3/Lib/R/library/readr/extdata/challenge.csv'</td></tr>\n",
       "\t<tr><td>1993                                                               </td><td>y                                                                  </td><td>1/0/T/F/TRUE/FALSE                                                 </td><td>2016-04-23                                                         </td><td>'C:/Users/dell/Anaconda3/Lib/R/library/readr/extdata/challenge.csv'</td></tr>\n",
       "\t<tr><td>1994                                                               </td><td>y                                                                  </td><td>1/0/T/F/TRUE/FALSE                                                 </td><td>2016-08-10                                                         </td><td>'C:/Users/dell/Anaconda3/Lib/R/library/readr/extdata/challenge.csv'</td></tr>\n",
       "\t<tr><td>1995                                                               </td><td>y                                                                  </td><td>1/0/T/F/TRUE/FALSE                                                 </td><td>2019-11-21                                                         </td><td>'C:/Users/dell/Anaconda3/Lib/R/library/readr/extdata/challenge.csv'</td></tr>\n",
       "\t<tr><td>1996                                                               </td><td>y                                                                  </td><td>1/0/T/F/TRUE/FALSE                                                 </td><td>2018-03-29                                                         </td><td>'C:/Users/dell/Anaconda3/Lib/R/library/readr/extdata/challenge.csv'</td></tr>\n",
       "\t<tr><td>1997                                                               </td><td>y                                                                  </td><td>1/0/T/F/TRUE/FALSE                                                 </td><td>2014-08-04                                                         </td><td>'C:/Users/dell/Anaconda3/Lib/R/library/readr/extdata/challenge.csv'</td></tr>\n",
       "\t<tr><td>1998                                                               </td><td>y                                                                  </td><td>1/0/T/F/TRUE/FALSE                                                 </td><td>2015-08-16                                                         </td><td>'C:/Users/dell/Anaconda3/Lib/R/library/readr/extdata/challenge.csv'</td></tr>\n",
       "\t<tr><td>1999                                                               </td><td>y                                                                  </td><td>1/0/T/F/TRUE/FALSE                                                 </td><td>2020-02-04                                                         </td><td>'C:/Users/dell/Anaconda3/Lib/R/library/readr/extdata/challenge.csv'</td></tr>\n",
       "\t<tr><td>2000                                                               </td><td>y                                                                  </td><td>1/0/T/F/TRUE/FALSE                                                 </td><td>2019-01-06                                                         </td><td>'C:/Users/dell/Anaconda3/Lib/R/library/readr/extdata/challenge.csv'</td></tr>\n",
       "</tbody>\n",
       "</table>\n"
      ],
      "text/latex": [
       "\\begin{tabular}{r|lllll}\n",
       " row & col & expected & actual & file\\\\\n",
       "\\hline\n",
       "\t 1001                                                                & y                                                                   & 1/0/T/F/TRUE/FALSE                                                  & 2015-01-16                                                          & 'C:/Users/dell/Anaconda3/Lib/R/library/readr/extdata/challenge.csv'\\\\\n",
       "\t 1002                                                                & y                                                                   & 1/0/T/F/TRUE/FALSE                                                  & 2018-05-18                                                          & 'C:/Users/dell/Anaconda3/Lib/R/library/readr/extdata/challenge.csv'\\\\\n",
       "\t 1003                                                                & y                                                                   & 1/0/T/F/TRUE/FALSE                                                  & 2015-09-05                                                          & 'C:/Users/dell/Anaconda3/Lib/R/library/readr/extdata/challenge.csv'\\\\\n",
       "\t 1004                                                                & y                                                                   & 1/0/T/F/TRUE/FALSE                                                  & 2012-11-28                                                          & 'C:/Users/dell/Anaconda3/Lib/R/library/readr/extdata/challenge.csv'\\\\\n",
       "\t 1005                                                                & y                                                                   & 1/0/T/F/TRUE/FALSE                                                  & 2020-01-13                                                          & 'C:/Users/dell/Anaconda3/Lib/R/library/readr/extdata/challenge.csv'\\\\\n",
       "\t 1006                                                                & y                                                                   & 1/0/T/F/TRUE/FALSE                                                  & 2016-04-17                                                          & 'C:/Users/dell/Anaconda3/Lib/R/library/readr/extdata/challenge.csv'\\\\\n",
       "\t 1007                                                                & y                                                                   & 1/0/T/F/TRUE/FALSE                                                  & 2011-05-14                                                          & 'C:/Users/dell/Anaconda3/Lib/R/library/readr/extdata/challenge.csv'\\\\\n",
       "\t 1008                                                                & y                                                                   & 1/0/T/F/TRUE/FALSE                                                  & 2020-07-18                                                          & 'C:/Users/dell/Anaconda3/Lib/R/library/readr/extdata/challenge.csv'\\\\\n",
       "\t 1009                                                                & y                                                                   & 1/0/T/F/TRUE/FALSE                                                  & 2011-04-30                                                          & 'C:/Users/dell/Anaconda3/Lib/R/library/readr/extdata/challenge.csv'\\\\\n",
       "\t 1010                                                                & y                                                                   & 1/0/T/F/TRUE/FALSE                                                  & 2010-05-11                                                          & 'C:/Users/dell/Anaconda3/Lib/R/library/readr/extdata/challenge.csv'\\\\\n",
       "\t 1011                                                                & y                                                                   & 1/0/T/F/TRUE/FALSE                                                  & 2014-11-02                                                          & 'C:/Users/dell/Anaconda3/Lib/R/library/readr/extdata/challenge.csv'\\\\\n",
       "\t 1012                                                                & y                                                                   & 1/0/T/F/TRUE/FALSE                                                  & 2014-06-23                                                          & 'C:/Users/dell/Anaconda3/Lib/R/library/readr/extdata/challenge.csv'\\\\\n",
       "\t 1013                                                                & y                                                                   & 1/0/T/F/TRUE/FALSE                                                  & 2017-05-31                                                          & 'C:/Users/dell/Anaconda3/Lib/R/library/readr/extdata/challenge.csv'\\\\\n",
       "\t 1014                                                                & y                                                                   & 1/0/T/F/TRUE/FALSE                                                  & 2017-11-18                                                          & 'C:/Users/dell/Anaconda3/Lib/R/library/readr/extdata/challenge.csv'\\\\\n",
       "\t 1015                                                                & y                                                                   & 1/0/T/F/TRUE/FALSE                                                  & 2013-04-20                                                          & 'C:/Users/dell/Anaconda3/Lib/R/library/readr/extdata/challenge.csv'\\\\\n",
       "\t 1016                                                                & y                                                                   & 1/0/T/F/TRUE/FALSE                                                  & 2010-12-11                                                          & 'C:/Users/dell/Anaconda3/Lib/R/library/readr/extdata/challenge.csv'\\\\\n",
       "\t 1017                                                                & y                                                                   & 1/0/T/F/TRUE/FALSE                                                  & 2022-10-10                                                          & 'C:/Users/dell/Anaconda3/Lib/R/library/readr/extdata/challenge.csv'\\\\\n",
       "\t 1018                                                                & y                                                                   & 1/0/T/F/TRUE/FALSE                                                  & 2010-11-11                                                          & 'C:/Users/dell/Anaconda3/Lib/R/library/readr/extdata/challenge.csv'\\\\\n",
       "\t 1019                                                                & y                                                                   & 1/0/T/F/TRUE/FALSE                                                  & 2015-03-22                                                          & 'C:/Users/dell/Anaconda3/Lib/R/library/readr/extdata/challenge.csv'\\\\\n",
       "\t 1020                                                                & y                                                                   & 1/0/T/F/TRUE/FALSE                                                  & 2013-12-25                                                          & 'C:/Users/dell/Anaconda3/Lib/R/library/readr/extdata/challenge.csv'\\\\\n",
       "\t 1021                                                                & y                                                                   & 1/0/T/F/TRUE/FALSE                                                  & 2011-02-27                                                          & 'C:/Users/dell/Anaconda3/Lib/R/library/readr/extdata/challenge.csv'\\\\\n",
       "\t 1022                                                                & y                                                                   & 1/0/T/F/TRUE/FALSE                                                  & 2015-12-14                                                          & 'C:/Users/dell/Anaconda3/Lib/R/library/readr/extdata/challenge.csv'\\\\\n",
       "\t 1023                                                                & y                                                                   & 1/0/T/F/TRUE/FALSE                                                  & 2021-02-10                                                          & 'C:/Users/dell/Anaconda3/Lib/R/library/readr/extdata/challenge.csv'\\\\\n",
       "\t 1024                                                                & y                                                                   & 1/0/T/F/TRUE/FALSE                                                  & 2012-11-28                                                          & 'C:/Users/dell/Anaconda3/Lib/R/library/readr/extdata/challenge.csv'\\\\\n",
       "\t 1025                                                                & y                                                                   & 1/0/T/F/TRUE/FALSE                                                  & 2020-04-04                                                          & 'C:/Users/dell/Anaconda3/Lib/R/library/readr/extdata/challenge.csv'\\\\\n",
       "\t 1026                                                                & y                                                                   & 1/0/T/F/TRUE/FALSE                                                  & 2021-04-08                                                          & 'C:/Users/dell/Anaconda3/Lib/R/library/readr/extdata/challenge.csv'\\\\\n",
       "\t 1027                                                                & y                                                                   & 1/0/T/F/TRUE/FALSE                                                  & 2022-03-13                                                          & 'C:/Users/dell/Anaconda3/Lib/R/library/readr/extdata/challenge.csv'\\\\\n",
       "\t 1028                                                                & y                                                                   & 1/0/T/F/TRUE/FALSE                                                  & 2010-03-28                                                          & 'C:/Users/dell/Anaconda3/Lib/R/library/readr/extdata/challenge.csv'\\\\\n",
       "\t 1029                                                                & y                                                                   & 1/0/T/F/TRUE/FALSE                                                  & 2023-01-04                                                          & 'C:/Users/dell/Anaconda3/Lib/R/library/readr/extdata/challenge.csv'\\\\\n",
       "\t 1030                                                                & y                                                                   & 1/0/T/F/TRUE/FALSE                                                  & 2012-04-02                                                          & 'C:/Users/dell/Anaconda3/Lib/R/library/readr/extdata/challenge.csv'\\\\\n",
       "\t ... & ... & ... & ... & ...\\\\\n",
       "\t 1971                                                                & y                                                                   & 1/0/T/F/TRUE/FALSE                                                  & 2020-06-10                                                          & 'C:/Users/dell/Anaconda3/Lib/R/library/readr/extdata/challenge.csv'\\\\\n",
       "\t 1972                                                                & y                                                                   & 1/0/T/F/TRUE/FALSE                                                  & 2013-11-08                                                          & 'C:/Users/dell/Anaconda3/Lib/R/library/readr/extdata/challenge.csv'\\\\\n",
       "\t 1973                                                                & y                                                                   & 1/0/T/F/TRUE/FALSE                                                  & 2017-07-12                                                          & 'C:/Users/dell/Anaconda3/Lib/R/library/readr/extdata/challenge.csv'\\\\\n",
       "\t 1974                                                                & y                                                                   & 1/0/T/F/TRUE/FALSE                                                  & 2016-08-12                                                          & 'C:/Users/dell/Anaconda3/Lib/R/library/readr/extdata/challenge.csv'\\\\\n",
       "\t 1975                                                                & y                                                                   & 1/0/T/F/TRUE/FALSE                                                  & 2022-05-12                                                          & 'C:/Users/dell/Anaconda3/Lib/R/library/readr/extdata/challenge.csv'\\\\\n",
       "\t 1976                                                                & y                                                                   & 1/0/T/F/TRUE/FALSE                                                  & 2020-08-11                                                          & 'C:/Users/dell/Anaconda3/Lib/R/library/readr/extdata/challenge.csv'\\\\\n",
       "\t 1977                                                                & y                                                                   & 1/0/T/F/TRUE/FALSE                                                  & 2011-10-26                                                          & 'C:/Users/dell/Anaconda3/Lib/R/library/readr/extdata/challenge.csv'\\\\\n",
       "\t 1978                                                                & y                                                                   & 1/0/T/F/TRUE/FALSE                                                  & 2015-12-09                                                          & 'C:/Users/dell/Anaconda3/Lib/R/library/readr/extdata/challenge.csv'\\\\\n",
       "\t 1979                                                                & y                                                                   & 1/0/T/F/TRUE/FALSE                                                  & 2012-09-27                                                          & 'C:/Users/dell/Anaconda3/Lib/R/library/readr/extdata/challenge.csv'\\\\\n",
       "\t 1980                                                                & y                                                                   & 1/0/T/F/TRUE/FALSE                                                  & 2013-02-04                                                          & 'C:/Users/dell/Anaconda3/Lib/R/library/readr/extdata/challenge.csv'\\\\\n",
       "\t 1981                                                                & y                                                                   & 1/0/T/F/TRUE/FALSE                                                  & 2010-11-29                                                          & 'C:/Users/dell/Anaconda3/Lib/R/library/readr/extdata/challenge.csv'\\\\\n",
       "\t 1982                                                                & y                                                                   & 1/0/T/F/TRUE/FALSE                                                  & 2013-10-16                                                          & 'C:/Users/dell/Anaconda3/Lib/R/library/readr/extdata/challenge.csv'\\\\\n",
       "\t 1983                                                                & y                                                                   & 1/0/T/F/TRUE/FALSE                                                  & 2015-04-26                                                          & 'C:/Users/dell/Anaconda3/Lib/R/library/readr/extdata/challenge.csv'\\\\\n",
       "\t 1984                                                                & y                                                                   & 1/0/T/F/TRUE/FALSE                                                  & 2011-04-12                                                          & 'C:/Users/dell/Anaconda3/Lib/R/library/readr/extdata/challenge.csv'\\\\\n",
       "\t 1985                                                                & y                                                                   & 1/0/T/F/TRUE/FALSE                                                  & 2017-01-30                                                          & 'C:/Users/dell/Anaconda3/Lib/R/library/readr/extdata/challenge.csv'\\\\\n",
       "\t 1986                                                                & y                                                                   & 1/0/T/F/TRUE/FALSE                                                  & 2014-06-08                                                          & 'C:/Users/dell/Anaconda3/Lib/R/library/readr/extdata/challenge.csv'\\\\\n",
       "\t 1987                                                                & y                                                                   & 1/0/T/F/TRUE/FALSE                                                  & 2016-10-19                                                          & 'C:/Users/dell/Anaconda3/Lib/R/library/readr/extdata/challenge.csv'\\\\\n",
       "\t 1988                                                                & y                                                                   & 1/0/T/F/TRUE/FALSE                                                  & 2023-09-01                                                          & 'C:/Users/dell/Anaconda3/Lib/R/library/readr/extdata/challenge.csv'\\\\\n",
       "\t 1989                                                                & y                                                                   & 1/0/T/F/TRUE/FALSE                                                  & 2010-01-09                                                          & 'C:/Users/dell/Anaconda3/Lib/R/library/readr/extdata/challenge.csv'\\\\\n",
       "\t 1990                                                                & y                                                                   & 1/0/T/F/TRUE/FALSE                                                  & 2020-01-11                                                          & 'C:/Users/dell/Anaconda3/Lib/R/library/readr/extdata/challenge.csv'\\\\\n",
       "\t 1991                                                                & y                                                                   & 1/0/T/F/TRUE/FALSE                                                  & 2016-12-16                                                          & 'C:/Users/dell/Anaconda3/Lib/R/library/readr/extdata/challenge.csv'\\\\\n",
       "\t 1992                                                                & y                                                                   & 1/0/T/F/TRUE/FALSE                                                  & 2010-01-03                                                          & 'C:/Users/dell/Anaconda3/Lib/R/library/readr/extdata/challenge.csv'\\\\\n",
       "\t 1993                                                                & y                                                                   & 1/0/T/F/TRUE/FALSE                                                  & 2016-04-23                                                          & 'C:/Users/dell/Anaconda3/Lib/R/library/readr/extdata/challenge.csv'\\\\\n",
       "\t 1994                                                                & y                                                                   & 1/0/T/F/TRUE/FALSE                                                  & 2016-08-10                                                          & 'C:/Users/dell/Anaconda3/Lib/R/library/readr/extdata/challenge.csv'\\\\\n",
       "\t 1995                                                                & y                                                                   & 1/0/T/F/TRUE/FALSE                                                  & 2019-11-21                                                          & 'C:/Users/dell/Anaconda3/Lib/R/library/readr/extdata/challenge.csv'\\\\\n",
       "\t 1996                                                                & y                                                                   & 1/0/T/F/TRUE/FALSE                                                  & 2018-03-29                                                          & 'C:/Users/dell/Anaconda3/Lib/R/library/readr/extdata/challenge.csv'\\\\\n",
       "\t 1997                                                                & y                                                                   & 1/0/T/F/TRUE/FALSE                                                  & 2014-08-04                                                          & 'C:/Users/dell/Anaconda3/Lib/R/library/readr/extdata/challenge.csv'\\\\\n",
       "\t 1998                                                                & y                                                                   & 1/0/T/F/TRUE/FALSE                                                  & 2015-08-16                                                          & 'C:/Users/dell/Anaconda3/Lib/R/library/readr/extdata/challenge.csv'\\\\\n",
       "\t 1999                                                                & y                                                                   & 1/0/T/F/TRUE/FALSE                                                  & 2020-02-04                                                          & 'C:/Users/dell/Anaconda3/Lib/R/library/readr/extdata/challenge.csv'\\\\\n",
       "\t 2000                                                                & y                                                                   & 1/0/T/F/TRUE/FALSE                                                  & 2019-01-06                                                          & 'C:/Users/dell/Anaconda3/Lib/R/library/readr/extdata/challenge.csv'\\\\\n",
       "\\end{tabular}\n"
      ],
      "text/markdown": [
       "\n",
       "| row | col | expected | actual | file |\n",
       "|---|---|---|---|---|\n",
       "| 1001                                                                | y                                                                   | 1/0/T/F/TRUE/FALSE                                                  | 2015-01-16                                                          | 'C:/Users/dell/Anaconda3/Lib/R/library/readr/extdata/challenge.csv' |\n",
       "| 1002                                                                | y                                                                   | 1/0/T/F/TRUE/FALSE                                                  | 2018-05-18                                                          | 'C:/Users/dell/Anaconda3/Lib/R/library/readr/extdata/challenge.csv' |\n",
       "| 1003                                                                | y                                                                   | 1/0/T/F/TRUE/FALSE                                                  | 2015-09-05                                                          | 'C:/Users/dell/Anaconda3/Lib/R/library/readr/extdata/challenge.csv' |\n",
       "| 1004                                                                | y                                                                   | 1/0/T/F/TRUE/FALSE                                                  | 2012-11-28                                                          | 'C:/Users/dell/Anaconda3/Lib/R/library/readr/extdata/challenge.csv' |\n",
       "| 1005                                                                | y                                                                   | 1/0/T/F/TRUE/FALSE                                                  | 2020-01-13                                                          | 'C:/Users/dell/Anaconda3/Lib/R/library/readr/extdata/challenge.csv' |\n",
       "| 1006                                                                | y                                                                   | 1/0/T/F/TRUE/FALSE                                                  | 2016-04-17                                                          | 'C:/Users/dell/Anaconda3/Lib/R/library/readr/extdata/challenge.csv' |\n",
       "| 1007                                                                | y                                                                   | 1/0/T/F/TRUE/FALSE                                                  | 2011-05-14                                                          | 'C:/Users/dell/Anaconda3/Lib/R/library/readr/extdata/challenge.csv' |\n",
       "| 1008                                                                | y                                                                   | 1/0/T/F/TRUE/FALSE                                                  | 2020-07-18                                                          | 'C:/Users/dell/Anaconda3/Lib/R/library/readr/extdata/challenge.csv' |\n",
       "| 1009                                                                | y                                                                   | 1/0/T/F/TRUE/FALSE                                                  | 2011-04-30                                                          | 'C:/Users/dell/Anaconda3/Lib/R/library/readr/extdata/challenge.csv' |\n",
       "| 1010                                                                | y                                                                   | 1/0/T/F/TRUE/FALSE                                                  | 2010-05-11                                                          | 'C:/Users/dell/Anaconda3/Lib/R/library/readr/extdata/challenge.csv' |\n",
       "| 1011                                                                | y                                                                   | 1/0/T/F/TRUE/FALSE                                                  | 2014-11-02                                                          | 'C:/Users/dell/Anaconda3/Lib/R/library/readr/extdata/challenge.csv' |\n",
       "| 1012                                                                | y                                                                   | 1/0/T/F/TRUE/FALSE                                                  | 2014-06-23                                                          | 'C:/Users/dell/Anaconda3/Lib/R/library/readr/extdata/challenge.csv' |\n",
       "| 1013                                                                | y                                                                   | 1/0/T/F/TRUE/FALSE                                                  | 2017-05-31                                                          | 'C:/Users/dell/Anaconda3/Lib/R/library/readr/extdata/challenge.csv' |\n",
       "| 1014                                                                | y                                                                   | 1/0/T/F/TRUE/FALSE                                                  | 2017-11-18                                                          | 'C:/Users/dell/Anaconda3/Lib/R/library/readr/extdata/challenge.csv' |\n",
       "| 1015                                                                | y                                                                   | 1/0/T/F/TRUE/FALSE                                                  | 2013-04-20                                                          | 'C:/Users/dell/Anaconda3/Lib/R/library/readr/extdata/challenge.csv' |\n",
       "| 1016                                                                | y                                                                   | 1/0/T/F/TRUE/FALSE                                                  | 2010-12-11                                                          | 'C:/Users/dell/Anaconda3/Lib/R/library/readr/extdata/challenge.csv' |\n",
       "| 1017                                                                | y                                                                   | 1/0/T/F/TRUE/FALSE                                                  | 2022-10-10                                                          | 'C:/Users/dell/Anaconda3/Lib/R/library/readr/extdata/challenge.csv' |\n",
       "| 1018                                                                | y                                                                   | 1/0/T/F/TRUE/FALSE                                                  | 2010-11-11                                                          | 'C:/Users/dell/Anaconda3/Lib/R/library/readr/extdata/challenge.csv' |\n",
       "| 1019                                                                | y                                                                   | 1/0/T/F/TRUE/FALSE                                                  | 2015-03-22                                                          | 'C:/Users/dell/Anaconda3/Lib/R/library/readr/extdata/challenge.csv' |\n",
       "| 1020                                                                | y                                                                   | 1/0/T/F/TRUE/FALSE                                                  | 2013-12-25                                                          | 'C:/Users/dell/Anaconda3/Lib/R/library/readr/extdata/challenge.csv' |\n",
       "| 1021                                                                | y                                                                   | 1/0/T/F/TRUE/FALSE                                                  | 2011-02-27                                                          | 'C:/Users/dell/Anaconda3/Lib/R/library/readr/extdata/challenge.csv' |\n",
       "| 1022                                                                | y                                                                   | 1/0/T/F/TRUE/FALSE                                                  | 2015-12-14                                                          | 'C:/Users/dell/Anaconda3/Lib/R/library/readr/extdata/challenge.csv' |\n",
       "| 1023                                                                | y                                                                   | 1/0/T/F/TRUE/FALSE                                                  | 2021-02-10                                                          | 'C:/Users/dell/Anaconda3/Lib/R/library/readr/extdata/challenge.csv' |\n",
       "| 1024                                                                | y                                                                   | 1/0/T/F/TRUE/FALSE                                                  | 2012-11-28                                                          | 'C:/Users/dell/Anaconda3/Lib/R/library/readr/extdata/challenge.csv' |\n",
       "| 1025                                                                | y                                                                   | 1/0/T/F/TRUE/FALSE                                                  | 2020-04-04                                                          | 'C:/Users/dell/Anaconda3/Lib/R/library/readr/extdata/challenge.csv' |\n",
       "| 1026                                                                | y                                                                   | 1/0/T/F/TRUE/FALSE                                                  | 2021-04-08                                                          | 'C:/Users/dell/Anaconda3/Lib/R/library/readr/extdata/challenge.csv' |\n",
       "| 1027                                                                | y                                                                   | 1/0/T/F/TRUE/FALSE                                                  | 2022-03-13                                                          | 'C:/Users/dell/Anaconda3/Lib/R/library/readr/extdata/challenge.csv' |\n",
       "| 1028                                                                | y                                                                   | 1/0/T/F/TRUE/FALSE                                                  | 2010-03-28                                                          | 'C:/Users/dell/Anaconda3/Lib/R/library/readr/extdata/challenge.csv' |\n",
       "| 1029                                                                | y                                                                   | 1/0/T/F/TRUE/FALSE                                                  | 2023-01-04                                                          | 'C:/Users/dell/Anaconda3/Lib/R/library/readr/extdata/challenge.csv' |\n",
       "| 1030                                                                | y                                                                   | 1/0/T/F/TRUE/FALSE                                                  | 2012-04-02                                                          | 'C:/Users/dell/Anaconda3/Lib/R/library/readr/extdata/challenge.csv' |\n",
       "| ... | ... | ... | ... | ... |\n",
       "| 1971                                                                | y                                                                   | 1/0/T/F/TRUE/FALSE                                                  | 2020-06-10                                                          | 'C:/Users/dell/Anaconda3/Lib/R/library/readr/extdata/challenge.csv' |\n",
       "| 1972                                                                | y                                                                   | 1/0/T/F/TRUE/FALSE                                                  | 2013-11-08                                                          | 'C:/Users/dell/Anaconda3/Lib/R/library/readr/extdata/challenge.csv' |\n",
       "| 1973                                                                | y                                                                   | 1/0/T/F/TRUE/FALSE                                                  | 2017-07-12                                                          | 'C:/Users/dell/Anaconda3/Lib/R/library/readr/extdata/challenge.csv' |\n",
       "| 1974                                                                | y                                                                   | 1/0/T/F/TRUE/FALSE                                                  | 2016-08-12                                                          | 'C:/Users/dell/Anaconda3/Lib/R/library/readr/extdata/challenge.csv' |\n",
       "| 1975                                                                | y                                                                   | 1/0/T/F/TRUE/FALSE                                                  | 2022-05-12                                                          | 'C:/Users/dell/Anaconda3/Lib/R/library/readr/extdata/challenge.csv' |\n",
       "| 1976                                                                | y                                                                   | 1/0/T/F/TRUE/FALSE                                                  | 2020-08-11                                                          | 'C:/Users/dell/Anaconda3/Lib/R/library/readr/extdata/challenge.csv' |\n",
       "| 1977                                                                | y                                                                   | 1/0/T/F/TRUE/FALSE                                                  | 2011-10-26                                                          | 'C:/Users/dell/Anaconda3/Lib/R/library/readr/extdata/challenge.csv' |\n",
       "| 1978                                                                | y                                                                   | 1/0/T/F/TRUE/FALSE                                                  | 2015-12-09                                                          | 'C:/Users/dell/Anaconda3/Lib/R/library/readr/extdata/challenge.csv' |\n",
       "| 1979                                                                | y                                                                   | 1/0/T/F/TRUE/FALSE                                                  | 2012-09-27                                                          | 'C:/Users/dell/Anaconda3/Lib/R/library/readr/extdata/challenge.csv' |\n",
       "| 1980                                                                | y                                                                   | 1/0/T/F/TRUE/FALSE                                                  | 2013-02-04                                                          | 'C:/Users/dell/Anaconda3/Lib/R/library/readr/extdata/challenge.csv' |\n",
       "| 1981                                                                | y                                                                   | 1/0/T/F/TRUE/FALSE                                                  | 2010-11-29                                                          | 'C:/Users/dell/Anaconda3/Lib/R/library/readr/extdata/challenge.csv' |\n",
       "| 1982                                                                | y                                                                   | 1/0/T/F/TRUE/FALSE                                                  | 2013-10-16                                                          | 'C:/Users/dell/Anaconda3/Lib/R/library/readr/extdata/challenge.csv' |\n",
       "| 1983                                                                | y                                                                   | 1/0/T/F/TRUE/FALSE                                                  | 2015-04-26                                                          | 'C:/Users/dell/Anaconda3/Lib/R/library/readr/extdata/challenge.csv' |\n",
       "| 1984                                                                | y                                                                   | 1/0/T/F/TRUE/FALSE                                                  | 2011-04-12                                                          | 'C:/Users/dell/Anaconda3/Lib/R/library/readr/extdata/challenge.csv' |\n",
       "| 1985                                                                | y                                                                   | 1/0/T/F/TRUE/FALSE                                                  | 2017-01-30                                                          | 'C:/Users/dell/Anaconda3/Lib/R/library/readr/extdata/challenge.csv' |\n",
       "| 1986                                                                | y                                                                   | 1/0/T/F/TRUE/FALSE                                                  | 2014-06-08                                                          | 'C:/Users/dell/Anaconda3/Lib/R/library/readr/extdata/challenge.csv' |\n",
       "| 1987                                                                | y                                                                   | 1/0/T/F/TRUE/FALSE                                                  | 2016-10-19                                                          | 'C:/Users/dell/Anaconda3/Lib/R/library/readr/extdata/challenge.csv' |\n",
       "| 1988                                                                | y                                                                   | 1/0/T/F/TRUE/FALSE                                                  | 2023-09-01                                                          | 'C:/Users/dell/Anaconda3/Lib/R/library/readr/extdata/challenge.csv' |\n",
       "| 1989                                                                | y                                                                   | 1/0/T/F/TRUE/FALSE                                                  | 2010-01-09                                                          | 'C:/Users/dell/Anaconda3/Lib/R/library/readr/extdata/challenge.csv' |\n",
       "| 1990                                                                | y                                                                   | 1/0/T/F/TRUE/FALSE                                                  | 2020-01-11                                                          | 'C:/Users/dell/Anaconda3/Lib/R/library/readr/extdata/challenge.csv' |\n",
       "| 1991                                                                | y                                                                   | 1/0/T/F/TRUE/FALSE                                                  | 2016-12-16                                                          | 'C:/Users/dell/Anaconda3/Lib/R/library/readr/extdata/challenge.csv' |\n",
       "| 1992                                                                | y                                                                   | 1/0/T/F/TRUE/FALSE                                                  | 2010-01-03                                                          | 'C:/Users/dell/Anaconda3/Lib/R/library/readr/extdata/challenge.csv' |\n",
       "| 1993                                                                | y                                                                   | 1/0/T/F/TRUE/FALSE                                                  | 2016-04-23                                                          | 'C:/Users/dell/Anaconda3/Lib/R/library/readr/extdata/challenge.csv' |\n",
       "| 1994                                                                | y                                                                   | 1/0/T/F/TRUE/FALSE                                                  | 2016-08-10                                                          | 'C:/Users/dell/Anaconda3/Lib/R/library/readr/extdata/challenge.csv' |\n",
       "| 1995                                                                | y                                                                   | 1/0/T/F/TRUE/FALSE                                                  | 2019-11-21                                                          | 'C:/Users/dell/Anaconda3/Lib/R/library/readr/extdata/challenge.csv' |\n",
       "| 1996                                                                | y                                                                   | 1/0/T/F/TRUE/FALSE                                                  | 2018-03-29                                                          | 'C:/Users/dell/Anaconda3/Lib/R/library/readr/extdata/challenge.csv' |\n",
       "| 1997                                                                | y                                                                   | 1/0/T/F/TRUE/FALSE                                                  | 2014-08-04                                                          | 'C:/Users/dell/Anaconda3/Lib/R/library/readr/extdata/challenge.csv' |\n",
       "| 1998                                                                | y                                                                   | 1/0/T/F/TRUE/FALSE                                                  | 2015-08-16                                                          | 'C:/Users/dell/Anaconda3/Lib/R/library/readr/extdata/challenge.csv' |\n",
       "| 1999                                                                | y                                                                   | 1/0/T/F/TRUE/FALSE                                                  | 2020-02-04                                                          | 'C:/Users/dell/Anaconda3/Lib/R/library/readr/extdata/challenge.csv' |\n",
       "| 2000                                                                | y                                                                   | 1/0/T/F/TRUE/FALSE                                                  | 2019-01-06                                                          | 'C:/Users/dell/Anaconda3/Lib/R/library/readr/extdata/challenge.csv' |\n",
       "\n"
      ],
      "text/plain": [
       "     row  col expected           actual    \n",
       "1    1001 y   1/0/T/F/TRUE/FALSE 2015-01-16\n",
       "2    1002 y   1/0/T/F/TRUE/FALSE 2018-05-18\n",
       "3    1003 y   1/0/T/F/TRUE/FALSE 2015-09-05\n",
       "4    1004 y   1/0/T/F/TRUE/FALSE 2012-11-28\n",
       "5    1005 y   1/0/T/F/TRUE/FALSE 2020-01-13\n",
       "6    1006 y   1/0/T/F/TRUE/FALSE 2016-04-17\n",
       "7    1007 y   1/0/T/F/TRUE/FALSE 2011-05-14\n",
       "8    1008 y   1/0/T/F/TRUE/FALSE 2020-07-18\n",
       "9    1009 y   1/0/T/F/TRUE/FALSE 2011-04-30\n",
       "10   1010 y   1/0/T/F/TRUE/FALSE 2010-05-11\n",
       "11   1011 y   1/0/T/F/TRUE/FALSE 2014-11-02\n",
       "12   1012 y   1/0/T/F/TRUE/FALSE 2014-06-23\n",
       "13   1013 y   1/0/T/F/TRUE/FALSE 2017-05-31\n",
       "14   1014 y   1/0/T/F/TRUE/FALSE 2017-11-18\n",
       "15   1015 y   1/0/T/F/TRUE/FALSE 2013-04-20\n",
       "16   1016 y   1/0/T/F/TRUE/FALSE 2010-12-11\n",
       "17   1017 y   1/0/T/F/TRUE/FALSE 2022-10-10\n",
       "18   1018 y   1/0/T/F/TRUE/FALSE 2010-11-11\n",
       "19   1019 y   1/0/T/F/TRUE/FALSE 2015-03-22\n",
       "20   1020 y   1/0/T/F/TRUE/FALSE 2013-12-25\n",
       "21   1021 y   1/0/T/F/TRUE/FALSE 2011-02-27\n",
       "22   1022 y   1/0/T/F/TRUE/FALSE 2015-12-14\n",
       "23   1023 y   1/0/T/F/TRUE/FALSE 2021-02-10\n",
       "24   1024 y   1/0/T/F/TRUE/FALSE 2012-11-28\n",
       "25   1025 y   1/0/T/F/TRUE/FALSE 2020-04-04\n",
       "26   1026 y   1/0/T/F/TRUE/FALSE 2021-04-08\n",
       "27   1027 y   1/0/T/F/TRUE/FALSE 2022-03-13\n",
       "28   1028 y   1/0/T/F/TRUE/FALSE 2010-03-28\n",
       "29   1029 y   1/0/T/F/TRUE/FALSE 2023-01-04\n",
       "30   1030 y   1/0/T/F/TRUE/FALSE 2012-04-02\n",
       "...  ...  ... ...                ...       \n",
       "971  1971 y   1/0/T/F/TRUE/FALSE 2020-06-10\n",
       "972  1972 y   1/0/T/F/TRUE/FALSE 2013-11-08\n",
       "973  1973 y   1/0/T/F/TRUE/FALSE 2017-07-12\n",
       "974  1974 y   1/0/T/F/TRUE/FALSE 2016-08-12\n",
       "975  1975 y   1/0/T/F/TRUE/FALSE 2022-05-12\n",
       "976  1976 y   1/0/T/F/TRUE/FALSE 2020-08-11\n",
       "977  1977 y   1/0/T/F/TRUE/FALSE 2011-10-26\n",
       "978  1978 y   1/0/T/F/TRUE/FALSE 2015-12-09\n",
       "979  1979 y   1/0/T/F/TRUE/FALSE 2012-09-27\n",
       "980  1980 y   1/0/T/F/TRUE/FALSE 2013-02-04\n",
       "981  1981 y   1/0/T/F/TRUE/FALSE 2010-11-29\n",
       "982  1982 y   1/0/T/F/TRUE/FALSE 2013-10-16\n",
       "983  1983 y   1/0/T/F/TRUE/FALSE 2015-04-26\n",
       "984  1984 y   1/0/T/F/TRUE/FALSE 2011-04-12\n",
       "985  1985 y   1/0/T/F/TRUE/FALSE 2017-01-30\n",
       "986  1986 y   1/0/T/F/TRUE/FALSE 2014-06-08\n",
       "987  1987 y   1/0/T/F/TRUE/FALSE 2016-10-19\n",
       "988  1988 y   1/0/T/F/TRUE/FALSE 2023-09-01\n",
       "989  1989 y   1/0/T/F/TRUE/FALSE 2010-01-09\n",
       "990  1990 y   1/0/T/F/TRUE/FALSE 2020-01-11\n",
       "991  1991 y   1/0/T/F/TRUE/FALSE 2016-12-16\n",
       "992  1992 y   1/0/T/F/TRUE/FALSE 2010-01-03\n",
       "993  1993 y   1/0/T/F/TRUE/FALSE 2016-04-23\n",
       "994  1994 y   1/0/T/F/TRUE/FALSE 2016-08-10\n",
       "995  1995 y   1/0/T/F/TRUE/FALSE 2019-11-21\n",
       "996  1996 y   1/0/T/F/TRUE/FALSE 2018-03-29\n",
       "997  1997 y   1/0/T/F/TRUE/FALSE 2014-08-04\n",
       "998  1998 y   1/0/T/F/TRUE/FALSE 2015-08-16\n",
       "999  1999 y   1/0/T/F/TRUE/FALSE 2020-02-04\n",
       "1000 2000 y   1/0/T/F/TRUE/FALSE 2019-01-06\n",
       "     file                                                               \n",
       "1    'C:/Users/dell/Anaconda3/Lib/R/library/readr/extdata/challenge.csv'\n",
       "2    'C:/Users/dell/Anaconda3/Lib/R/library/readr/extdata/challenge.csv'\n",
       "3    'C:/Users/dell/Anaconda3/Lib/R/library/readr/extdata/challenge.csv'\n",
       "4    'C:/Users/dell/Anaconda3/Lib/R/library/readr/extdata/challenge.csv'\n",
       "5    'C:/Users/dell/Anaconda3/Lib/R/library/readr/extdata/challenge.csv'\n",
       "6    'C:/Users/dell/Anaconda3/Lib/R/library/readr/extdata/challenge.csv'\n",
       "7    'C:/Users/dell/Anaconda3/Lib/R/library/readr/extdata/challenge.csv'\n",
       "8    'C:/Users/dell/Anaconda3/Lib/R/library/readr/extdata/challenge.csv'\n",
       "9    'C:/Users/dell/Anaconda3/Lib/R/library/readr/extdata/challenge.csv'\n",
       "10   'C:/Users/dell/Anaconda3/Lib/R/library/readr/extdata/challenge.csv'\n",
       "11   'C:/Users/dell/Anaconda3/Lib/R/library/readr/extdata/challenge.csv'\n",
       "12   'C:/Users/dell/Anaconda3/Lib/R/library/readr/extdata/challenge.csv'\n",
       "13   'C:/Users/dell/Anaconda3/Lib/R/library/readr/extdata/challenge.csv'\n",
       "14   'C:/Users/dell/Anaconda3/Lib/R/library/readr/extdata/challenge.csv'\n",
       "15   'C:/Users/dell/Anaconda3/Lib/R/library/readr/extdata/challenge.csv'\n",
       "16   'C:/Users/dell/Anaconda3/Lib/R/library/readr/extdata/challenge.csv'\n",
       "17   'C:/Users/dell/Anaconda3/Lib/R/library/readr/extdata/challenge.csv'\n",
       "18   'C:/Users/dell/Anaconda3/Lib/R/library/readr/extdata/challenge.csv'\n",
       "19   'C:/Users/dell/Anaconda3/Lib/R/library/readr/extdata/challenge.csv'\n",
       "20   'C:/Users/dell/Anaconda3/Lib/R/library/readr/extdata/challenge.csv'\n",
       "21   'C:/Users/dell/Anaconda3/Lib/R/library/readr/extdata/challenge.csv'\n",
       "22   'C:/Users/dell/Anaconda3/Lib/R/library/readr/extdata/challenge.csv'\n",
       "23   'C:/Users/dell/Anaconda3/Lib/R/library/readr/extdata/challenge.csv'\n",
       "24   'C:/Users/dell/Anaconda3/Lib/R/library/readr/extdata/challenge.csv'\n",
       "25   'C:/Users/dell/Anaconda3/Lib/R/library/readr/extdata/challenge.csv'\n",
       "26   'C:/Users/dell/Anaconda3/Lib/R/library/readr/extdata/challenge.csv'\n",
       "27   'C:/Users/dell/Anaconda3/Lib/R/library/readr/extdata/challenge.csv'\n",
       "28   'C:/Users/dell/Anaconda3/Lib/R/library/readr/extdata/challenge.csv'\n",
       "29   'C:/Users/dell/Anaconda3/Lib/R/library/readr/extdata/challenge.csv'\n",
       "30   'C:/Users/dell/Anaconda3/Lib/R/library/readr/extdata/challenge.csv'\n",
       "...  ...                                                                \n",
       "971  'C:/Users/dell/Anaconda3/Lib/R/library/readr/extdata/challenge.csv'\n",
       "972  'C:/Users/dell/Anaconda3/Lib/R/library/readr/extdata/challenge.csv'\n",
       "973  'C:/Users/dell/Anaconda3/Lib/R/library/readr/extdata/challenge.csv'\n",
       "974  'C:/Users/dell/Anaconda3/Lib/R/library/readr/extdata/challenge.csv'\n",
       "975  'C:/Users/dell/Anaconda3/Lib/R/library/readr/extdata/challenge.csv'\n",
       "976  'C:/Users/dell/Anaconda3/Lib/R/library/readr/extdata/challenge.csv'\n",
       "977  'C:/Users/dell/Anaconda3/Lib/R/library/readr/extdata/challenge.csv'\n",
       "978  'C:/Users/dell/Anaconda3/Lib/R/library/readr/extdata/challenge.csv'\n",
       "979  'C:/Users/dell/Anaconda3/Lib/R/library/readr/extdata/challenge.csv'\n",
       "980  'C:/Users/dell/Anaconda3/Lib/R/library/readr/extdata/challenge.csv'\n",
       "981  'C:/Users/dell/Anaconda3/Lib/R/library/readr/extdata/challenge.csv'\n",
       "982  'C:/Users/dell/Anaconda3/Lib/R/library/readr/extdata/challenge.csv'\n",
       "983  'C:/Users/dell/Anaconda3/Lib/R/library/readr/extdata/challenge.csv'\n",
       "984  'C:/Users/dell/Anaconda3/Lib/R/library/readr/extdata/challenge.csv'\n",
       "985  'C:/Users/dell/Anaconda3/Lib/R/library/readr/extdata/challenge.csv'\n",
       "986  'C:/Users/dell/Anaconda3/Lib/R/library/readr/extdata/challenge.csv'\n",
       "987  'C:/Users/dell/Anaconda3/Lib/R/library/readr/extdata/challenge.csv'\n",
       "988  'C:/Users/dell/Anaconda3/Lib/R/library/readr/extdata/challenge.csv'\n",
       "989  'C:/Users/dell/Anaconda3/Lib/R/library/readr/extdata/challenge.csv'\n",
       "990  'C:/Users/dell/Anaconda3/Lib/R/library/readr/extdata/challenge.csv'\n",
       "991  'C:/Users/dell/Anaconda3/Lib/R/library/readr/extdata/challenge.csv'\n",
       "992  'C:/Users/dell/Anaconda3/Lib/R/library/readr/extdata/challenge.csv'\n",
       "993  'C:/Users/dell/Anaconda3/Lib/R/library/readr/extdata/challenge.csv'\n",
       "994  'C:/Users/dell/Anaconda3/Lib/R/library/readr/extdata/challenge.csv'\n",
       "995  'C:/Users/dell/Anaconda3/Lib/R/library/readr/extdata/challenge.csv'\n",
       "996  'C:/Users/dell/Anaconda3/Lib/R/library/readr/extdata/challenge.csv'\n",
       "997  'C:/Users/dell/Anaconda3/Lib/R/library/readr/extdata/challenge.csv'\n",
       "998  'C:/Users/dell/Anaconda3/Lib/R/library/readr/extdata/challenge.csv'\n",
       "999  'C:/Users/dell/Anaconda3/Lib/R/library/readr/extdata/challenge.csv'\n",
       "1000 'C:/Users/dell/Anaconda3/Lib/R/library/readr/extdata/challenge.csv'"
      ]
     },
     "metadata": {},
     "output_type": "display_data"
    }
   ],
   "source": [
    "problems(df)"
   ]
  },
  {
   "cell_type": "markdown",
   "metadata": {},
   "source": [
    "You’ve already seen one way of handling bad guesses: increasing the number of rows used to guess the type of each column."
   ]
  },
  {
   "cell_type": "code",
   "execution_count": 54,
   "metadata": {},
   "outputs": [
    {
     "name": "stderr",
     "output_type": "stream",
     "text": [
      "\n",
      "-- Column specification ------------------------------------------------------------------------------------------------\n",
      "cols(\n",
      "  x = col_double(),\n",
      "  y = col_date(format = \"\")\n",
      ")\n",
      "\n"
     ]
    }
   ],
   "source": [
    "df2 <- read_csv(challenge_path, guess_max = 1001)"
   ]
  },
  {
   "cell_type": "markdown",
   "metadata": {},
   "source": [
    "Another approach is to manually supply the column specification."
   ]
  },
  {
   "cell_type": "markdown",
   "metadata": {},
   "source": [
    "### Overriding the defaults"
   ]
  },
  {
   "cell_type": "markdown",
   "metadata": {},
   "source": [
    "In the previous examples, you may have noticed that readr printed the column specification that it used to parse the file:"
   ]
  },
  {
   "cell_type": "code",
   "execution_count": 56,
   "metadata": {},
   "outputs": [],
   "source": [
    "mtcars_path <- readr_example('mtcars.csv')"
   ]
  },
  {
   "cell_type": "code",
   "execution_count": 58,
   "metadata": {},
   "outputs": [
    {
     "name": "stderr",
     "output_type": "stream",
     "text": [
      "\n",
      "-- Column specification ------------------------------------------------------------------------------------------------\n",
      "cols(\n",
      "  mpg = col_double(),\n",
      "  cyl = col_double(),\n",
      "  disp = col_double(),\n",
      "  hp = col_double(),\n",
      "  drat = col_double(),\n",
      "  wt = col_double(),\n",
      "  qsec = col_double(),\n",
      "  vs = col_double(),\n",
      "  am = col_double(),\n",
      "  gear = col_double(),\n",
      "  carb = col_double()\n",
      ")\n",
      "\n"
     ]
    }
   ],
   "source": [
    "mtcars_data <- read_csv(mtcars_path)"
   ]
  },
  {
   "cell_type": "markdown",
   "metadata": {},
   "source": [
    "You can also access it after the fact using **`spec()`**:"
   ]
  },
  {
   "cell_type": "code",
   "execution_count": 59,
   "metadata": {},
   "outputs": [
    {
     "data": {
      "text/plain": [
       "cols(\n",
       "  mpg = col_double(),\n",
       "  cyl = col_double(),\n",
       "  disp = col_double(),\n",
       "  hp = col_double(),\n",
       "  drat = col_double(),\n",
       "  wt = col_double(),\n",
       "  qsec = col_double(),\n",
       "  vs = col_double(),\n",
       "  am = col_double(),\n",
       "  gear = col_double(),\n",
       "  carb = col_double()\n",
       ")"
      ]
     },
     "metadata": {},
     "output_type": "display_data"
    }
   ],
   "source": [
    "spec(mtcars_data)"
   ]
  },
  {
   "cell_type": "markdown",
   "metadata": {},
   "source": [
    "(This also allows you to access the full column specification if you’re reading a very wide file. By default, readr will only print the specification of the first 20 columns.)\n",
    "\n",
    "If you want to manually specify the column types, you can start by copying and pasting this code, and then tweaking it fix the parsing problems."
   ]
  },
  {
   "cell_type": "code",
   "execution_count": 60,
   "metadata": {},
   "outputs": [
    {
     "name": "stderr",
     "output_type": "stream",
     "text": [
      "\n",
      "-- Column specification ------------------------------------------------------------------------------------------------\n",
      "cols(\n",
      "  x = col_double(),\n",
      "  y = col_logical()\n",
      ")\n",
      "\n",
      "Warning message:\n",
      "\"1000 parsing failures.\n",
      " row col           expected     actual                                                                file\n",
      "1001   y 1/0/T/F/TRUE/FALSE 2015-01-16 'C:/Users/dell/Anaconda3/Lib/R/library/readr/extdata/challenge.csv'\n",
      "1002   y 1/0/T/F/TRUE/FALSE 2018-05-18 'C:/Users/dell/Anaconda3/Lib/R/library/readr/extdata/challenge.csv'\n",
      "1003   y 1/0/T/F/TRUE/FALSE 2015-09-05 'C:/Users/dell/Anaconda3/Lib/R/library/readr/extdata/challenge.csv'\n",
      "1004   y 1/0/T/F/TRUE/FALSE 2012-11-28 'C:/Users/dell/Anaconda3/Lib/R/library/readr/extdata/challenge.csv'\n",
      "1005   y 1/0/T/F/TRUE/FALSE 2020-01-13 'C:/Users/dell/Anaconda3/Lib/R/library/readr/extdata/challenge.csv'\n",
      ".... ... .................. .......... ...................................................................\n",
      "See problems(...) for more details.\n",
      "\""
     ]
    },
    {
     "data": {
      "text/plain": [
       "cols(\n",
       "  x = col_double(),\n",
       "  y = col_logical()\n",
       ")"
      ]
     },
     "metadata": {},
     "output_type": "display_data"
    }
   ],
   "source": [
    "spec(read_csv(challenge_path))"
   ]
  },
  {
   "cell_type": "code",
   "execution_count": 65,
   "metadata": {},
   "outputs": [
    {
     "name": "stderr",
     "output_type": "stream",
     "text": [
      "\n",
      "-- Column specification ------------------------------------------------------------------------------------------------\n",
      "cols(\n",
      "  x = col_double(),\n",
      "  y = col_logical()\n",
      ")\n",
      "\n",
      "Warning message:\n",
      "\"1000 parsing failures.\n",
      " row col           expected     actual                                                                file\n",
      "1001   y 1/0/T/F/TRUE/FALSE 2015-01-16 'C:/Users/dell/Anaconda3/Lib/R/library/readr/extdata/challenge.csv'\n",
      "1002   y 1/0/T/F/TRUE/FALSE 2018-05-18 'C:/Users/dell/Anaconda3/Lib/R/library/readr/extdata/challenge.csv'\n",
      "1003   y 1/0/T/F/TRUE/FALSE 2015-09-05 'C:/Users/dell/Anaconda3/Lib/R/library/readr/extdata/challenge.csv'\n",
      "1004   y 1/0/T/F/TRUE/FALSE 2012-11-28 'C:/Users/dell/Anaconda3/Lib/R/library/readr/extdata/challenge.csv'\n",
      "1005   y 1/0/T/F/TRUE/FALSE 2020-01-13 'C:/Users/dell/Anaconda3/Lib/R/library/readr/extdata/challenge.csv'\n",
      ".... ... .................. .......... ...................................................................\n",
      "See problems(...) for more details.\n",
      "\""
     ]
    }
   ],
   "source": [
    "df3 <- read_csv(challenge_path)"
   ]
  },
  {
   "cell_type": "code",
   "execution_count": 67,
   "metadata": {},
   "outputs": [
    {
     "data": {
      "text/html": [
       "<table>\n",
       "<thead><tr><th scope=col>x</th><th scope=col>y</th></tr></thead>\n",
       "<tbody>\n",
       "\t<tr><td> 404</td><td>NA  </td></tr>\n",
       "\t<tr><td>4172</td><td>NA  </td></tr>\n",
       "\t<tr><td>3004</td><td>NA  </td></tr>\n",
       "\t<tr><td> 787</td><td>NA  </td></tr>\n",
       "\t<tr><td>  37</td><td>NA  </td></tr>\n",
       "\t<tr><td>2332</td><td>NA  </td></tr>\n",
       "\t<tr><td>2489</td><td>NA  </td></tr>\n",
       "\t<tr><td>1449</td><td>NA  </td></tr>\n",
       "\t<tr><td>3665</td><td>NA  </td></tr>\n",
       "\t<tr><td>3863</td><td>NA  </td></tr>\n",
       "\t<tr><td>4374</td><td>NA  </td></tr>\n",
       "\t<tr><td> 875</td><td>NA  </td></tr>\n",
       "\t<tr><td> 172</td><td>NA  </td></tr>\n",
       "\t<tr><td>1602</td><td>NA  </td></tr>\n",
       "\t<tr><td>2012</td><td>NA  </td></tr>\n",
       "\t<tr><td> 979</td><td>NA  </td></tr>\n",
       "\t<tr><td>2018</td><td>NA  </td></tr>\n",
       "\t<tr><td> 319</td><td>NA  </td></tr>\n",
       "\t<tr><td>1944</td><td>NA  </td></tr>\n",
       "\t<tr><td>4878</td><td>NA  </td></tr>\n",
       "\t<tr><td>1450</td><td>NA  </td></tr>\n",
       "\t<tr><td>3392</td><td>NA  </td></tr>\n",
       "\t<tr><td>3677</td><td>NA  </td></tr>\n",
       "\t<tr><td> 980</td><td>NA  </td></tr>\n",
       "\t<tr><td>4903</td><td>NA  </td></tr>\n",
       "\t<tr><td>3708</td><td>NA  </td></tr>\n",
       "\t<tr><td> 258</td><td>NA  </td></tr>\n",
       "\t<tr><td>2652</td><td>NA  </td></tr>\n",
       "\t<tr><td>3480</td><td>NA  </td></tr>\n",
       "\t<tr><td>3443</td><td>NA  </td></tr>\n",
       "\t<tr><td>...</td><td>...</td></tr>\n",
       "\t<tr><td>0.14324546</td><td>2020-06-10</td></tr>\n",
       "\t<tr><td>0.42678032</td><td>2013-11-08</td></tr>\n",
       "\t<tr><td>0.56445359</td><td>2017-07-12</td></tr>\n",
       "\t<tr><td>0.18729942</td><td>2016-08-12</td></tr>\n",
       "\t<tr><td>0.60274952</td><td>2022-05-12</td></tr>\n",
       "\t<tr><td>0.73487829</td><td>2020-08-11</td></tr>\n",
       "\t<tr><td>0.06834881</td><td>2011-10-26</td></tr>\n",
       "\t<tr><td>0.78291796</td><td>2015-12-09</td></tr>\n",
       "\t<tr><td>0.92149271</td><td>2012-09-27</td></tr>\n",
       "\t<tr><td>0.04428217</td><td>2013-02-04</td></tr>\n",
       "\t<tr><td>0.71311485</td><td>2010-11-29</td></tr>\n",
       "\t<tr><td>0.90388602</td><td>2013-10-16</td></tr>\n",
       "\t<tr><td>0.73958150</td><td>2015-04-26</td></tr>\n",
       "\t<tr><td>0.17217563</td><td>2011-04-12</td></tr>\n",
       "\t<tr><td>0.18658998</td><td>2017-01-30</td></tr>\n",
       "\t<tr><td>0.38248836</td><td>2014-06-08</td></tr>\n",
       "\t<tr><td>0.45361328</td><td>2016-10-19</td></tr>\n",
       "\t<tr><td>0.45513148</td><td>2023-09-01</td></tr>\n",
       "\t<tr><td>0.17310278</td><td>2010-01-09</td></tr>\n",
       "\t<tr><td>0.30541726</td><td>2020-01-11</td></tr>\n",
       "\t<tr><td>0.86775210</td><td>2016-12-16</td></tr>\n",
       "\t<tr><td>0.26023225</td><td>2010-01-03</td></tr>\n",
       "\t<tr><td>0.68087076</td><td>2016-04-23</td></tr>\n",
       "\t<tr><td>0.85357656</td><td>2016-08-10</td></tr>\n",
       "\t<tr><td>0.80527431</td><td>2019-11-21</td></tr>\n",
       "\t<tr><td>0.16351634</td><td>2018-03-29</td></tr>\n",
       "\t<tr><td>0.47193898</td><td>2014-08-04</td></tr>\n",
       "\t<tr><td>0.71831865</td><td>2015-08-16</td></tr>\n",
       "\t<tr><td>0.26987859</td><td>2020-02-04</td></tr>\n",
       "\t<tr><td>0.60823719</td><td>2019-01-06</td></tr>\n",
       "</tbody>\n",
       "</table>\n"
      ],
      "text/latex": [
       "\\begin{tabular}{r|ll}\n",
       " x & y\\\\\n",
       "\\hline\n",
       "\t  404 & NA  \\\\\n",
       "\t 4172 & NA  \\\\\n",
       "\t 3004 & NA  \\\\\n",
       "\t  787 & NA  \\\\\n",
       "\t   37 & NA  \\\\\n",
       "\t 2332 & NA  \\\\\n",
       "\t 2489 & NA  \\\\\n",
       "\t 1449 & NA  \\\\\n",
       "\t 3665 & NA  \\\\\n",
       "\t 3863 & NA  \\\\\n",
       "\t 4374 & NA  \\\\\n",
       "\t  875 & NA  \\\\\n",
       "\t  172 & NA  \\\\\n",
       "\t 1602 & NA  \\\\\n",
       "\t 2012 & NA  \\\\\n",
       "\t  979 & NA  \\\\\n",
       "\t 2018 & NA  \\\\\n",
       "\t  319 & NA  \\\\\n",
       "\t 1944 & NA  \\\\\n",
       "\t 4878 & NA  \\\\\n",
       "\t 1450 & NA  \\\\\n",
       "\t 3392 & NA  \\\\\n",
       "\t 3677 & NA  \\\\\n",
       "\t  980 & NA  \\\\\n",
       "\t 4903 & NA  \\\\\n",
       "\t 3708 & NA  \\\\\n",
       "\t  258 & NA  \\\\\n",
       "\t 2652 & NA  \\\\\n",
       "\t 3480 & NA  \\\\\n",
       "\t 3443 & NA  \\\\\n",
       "\t ... & ...\\\\\n",
       "\t 0.14324546 & 2020-06-10\\\\\n",
       "\t 0.42678032 & 2013-11-08\\\\\n",
       "\t 0.56445359 & 2017-07-12\\\\\n",
       "\t 0.18729942 & 2016-08-12\\\\\n",
       "\t 0.60274952 & 2022-05-12\\\\\n",
       "\t 0.73487829 & 2020-08-11\\\\\n",
       "\t 0.06834881 & 2011-10-26\\\\\n",
       "\t 0.78291796 & 2015-12-09\\\\\n",
       "\t 0.92149271 & 2012-09-27\\\\\n",
       "\t 0.04428217 & 2013-02-04\\\\\n",
       "\t 0.71311485 & 2010-11-29\\\\\n",
       "\t 0.90388602 & 2013-10-16\\\\\n",
       "\t 0.73958150 & 2015-04-26\\\\\n",
       "\t 0.17217563 & 2011-04-12\\\\\n",
       "\t 0.18658998 & 2017-01-30\\\\\n",
       "\t 0.38248836 & 2014-06-08\\\\\n",
       "\t 0.45361328 & 2016-10-19\\\\\n",
       "\t 0.45513148 & 2023-09-01\\\\\n",
       "\t 0.17310278 & 2010-01-09\\\\\n",
       "\t 0.30541726 & 2020-01-11\\\\\n",
       "\t 0.86775210 & 2016-12-16\\\\\n",
       "\t 0.26023225 & 2010-01-03\\\\\n",
       "\t 0.68087076 & 2016-04-23\\\\\n",
       "\t 0.85357656 & 2016-08-10\\\\\n",
       "\t 0.80527431 & 2019-11-21\\\\\n",
       "\t 0.16351634 & 2018-03-29\\\\\n",
       "\t 0.47193898 & 2014-08-04\\\\\n",
       "\t 0.71831865 & 2015-08-16\\\\\n",
       "\t 0.26987859 & 2020-02-04\\\\\n",
       "\t 0.60823719 & 2019-01-06\\\\\n",
       "\\end{tabular}\n"
      ],
      "text/markdown": [
       "\n",
       "| x | y |\n",
       "|---|---|\n",
       "|  404 | NA   |\n",
       "| 4172 | NA   |\n",
       "| 3004 | NA   |\n",
       "|  787 | NA   |\n",
       "|   37 | NA   |\n",
       "| 2332 | NA   |\n",
       "| 2489 | NA   |\n",
       "| 1449 | NA   |\n",
       "| 3665 | NA   |\n",
       "| 3863 | NA   |\n",
       "| 4374 | NA   |\n",
       "|  875 | NA   |\n",
       "|  172 | NA   |\n",
       "| 1602 | NA   |\n",
       "| 2012 | NA   |\n",
       "|  979 | NA   |\n",
       "| 2018 | NA   |\n",
       "|  319 | NA   |\n",
       "| 1944 | NA   |\n",
       "| 4878 | NA   |\n",
       "| 1450 | NA   |\n",
       "| 3392 | NA   |\n",
       "| 3677 | NA   |\n",
       "|  980 | NA   |\n",
       "| 4903 | NA   |\n",
       "| 3708 | NA   |\n",
       "|  258 | NA   |\n",
       "| 2652 | NA   |\n",
       "| 3480 | NA   |\n",
       "| 3443 | NA   |\n",
       "| ... | ... |\n",
       "| 0.14324546 | 2020-06-10 |\n",
       "| 0.42678032 | 2013-11-08 |\n",
       "| 0.56445359 | 2017-07-12 |\n",
       "| 0.18729942 | 2016-08-12 |\n",
       "| 0.60274952 | 2022-05-12 |\n",
       "| 0.73487829 | 2020-08-11 |\n",
       "| 0.06834881 | 2011-10-26 |\n",
       "| 0.78291796 | 2015-12-09 |\n",
       "| 0.92149271 | 2012-09-27 |\n",
       "| 0.04428217 | 2013-02-04 |\n",
       "| 0.71311485 | 2010-11-29 |\n",
       "| 0.90388602 | 2013-10-16 |\n",
       "| 0.73958150 | 2015-04-26 |\n",
       "| 0.17217563 | 2011-04-12 |\n",
       "| 0.18658998 | 2017-01-30 |\n",
       "| 0.38248836 | 2014-06-08 |\n",
       "| 0.45361328 | 2016-10-19 |\n",
       "| 0.45513148 | 2023-09-01 |\n",
       "| 0.17310278 | 2010-01-09 |\n",
       "| 0.30541726 | 2020-01-11 |\n",
       "| 0.86775210 | 2016-12-16 |\n",
       "| 0.26023225 | 2010-01-03 |\n",
       "| 0.68087076 | 2016-04-23 |\n",
       "| 0.85357656 | 2016-08-10 |\n",
       "| 0.80527431 | 2019-11-21 |\n",
       "| 0.16351634 | 2018-03-29 |\n",
       "| 0.47193898 | 2014-08-04 |\n",
       "| 0.71831865 | 2015-08-16 |\n",
       "| 0.26987859 | 2020-02-04 |\n",
       "| 0.60823719 | 2019-01-06 |\n",
       "\n"
      ],
      "text/plain": [
       "     x          y         \n",
       "1     404       <NA>      \n",
       "2    4172       <NA>      \n",
       "3    3004       <NA>      \n",
       "4     787       <NA>      \n",
       "5      37       <NA>      \n",
       "6    2332       <NA>      \n",
       "7    2489       <NA>      \n",
       "8    1449       <NA>      \n",
       "9    3665       <NA>      \n",
       "10   3863       <NA>      \n",
       "11   4374       <NA>      \n",
       "12    875       <NA>      \n",
       "13    172       <NA>      \n",
       "14   1602       <NA>      \n",
       "15   2012       <NA>      \n",
       "16    979       <NA>      \n",
       "17   2018       <NA>      \n",
       "18    319       <NA>      \n",
       "19   1944       <NA>      \n",
       "20   4878       <NA>      \n",
       "21   1450       <NA>      \n",
       "22   3392       <NA>      \n",
       "23   3677       <NA>      \n",
       "24    980       <NA>      \n",
       "25   4903       <NA>      \n",
       "26   3708       <NA>      \n",
       "27    258       <NA>      \n",
       "28   2652       <NA>      \n",
       "29   3480       <NA>      \n",
       "30   3443       <NA>      \n",
       "...  ...        ...       \n",
       "1971 0.14324546 2020-06-10\n",
       "1972 0.42678032 2013-11-08\n",
       "1973 0.56445359 2017-07-12\n",
       "1974 0.18729942 2016-08-12\n",
       "1975 0.60274952 2022-05-12\n",
       "1976 0.73487829 2020-08-11\n",
       "1977 0.06834881 2011-10-26\n",
       "1978 0.78291796 2015-12-09\n",
       "1979 0.92149271 2012-09-27\n",
       "1980 0.04428217 2013-02-04\n",
       "1981 0.71311485 2010-11-29\n",
       "1982 0.90388602 2013-10-16\n",
       "1983 0.73958150 2015-04-26\n",
       "1984 0.17217563 2011-04-12\n",
       "1985 0.18658998 2017-01-30\n",
       "1986 0.38248836 2014-06-08\n",
       "1987 0.45361328 2016-10-19\n",
       "1988 0.45513148 2023-09-01\n",
       "1989 0.17310278 2010-01-09\n",
       "1990 0.30541726 2020-01-11\n",
       "1991 0.86775210 2016-12-16\n",
       "1992 0.26023225 2010-01-03\n",
       "1993 0.68087076 2016-04-23\n",
       "1994 0.85357656 2016-08-10\n",
       "1995 0.80527431 2019-11-21\n",
       "1996 0.16351634 2018-03-29\n",
       "1997 0.47193898 2014-08-04\n",
       "1998 0.71831865 2015-08-16\n",
       "1999 0.26987859 2020-02-04\n",
       "2000 0.60823719 2019-01-06"
      ]
     },
     "metadata": {},
     "output_type": "display_data"
    }
   ],
   "source": [
    "read_csv(challenge_path, col_types = cols(\n",
    "    x = col_double(),\n",
    "    y = col_date(format = '')\n",
    "))"
   ]
  },
  {
   "cell_type": "markdown",
   "metadata": {},
   "source": [
    "In general, it’s good practice to supply an explicit column specification. It is more work, but it ensures that you get warnings if the data changes in unexpected ways. To be really strict, you can use `stop_for_problems(df3)`. This will throw an error if there are any parsing problems, forcing you to fix those problems before proceeding with the analysis."
   ]
  },
  {
   "cell_type": "markdown",
   "metadata": {},
   "source": [
    "### Available column specifications"
   ]
  },
  {
   "cell_type": "markdown",
   "metadata": {},
   "source": [
    "The available specifications are: (with string abbreviations in brackets)\n",
    "\n",
    "* **`col_logical()`** [l], containing only T, F, TRUE or FALSE.\n",
    "* **`col_integer()`** [i], integers.\n",
    "* **`col_double()`** [d], doubles.\n",
    "* **`col_character()`** [c], everything else.\n",
    "* **`col_factor(levels, ordered)`** [f], a fixed set of values.\n",
    "* **`col_date(format = \"\")`** [D]: with the locale’s date_format.\n",
    "* **`col_time(format = \"\")`** [t]: with the locale’s time_format.\n",
    "* **`col_datetime(format = \"\")`** [T]: ISO8601 date times\n",
    "* **`col_number()`** [n], numbers containing the grouping_mark\n",
    "* **`col_skip()`** [_, -], don’t import this column.\n",
    "* **`col_guess()`** [?], parse using the “best” type based on the input."
   ]
  },
  {
   "cell_type": "markdown",
   "metadata": {},
   "source": [
    "Use the col_types argument to override the default choices. There are two ways to use it:\n",
    "\n",
    "*  With a string: \"dc__d\": read first column as double, second as character, skip the next two and read the last column as a double. (There’s no way to use this form with types that take additional parameters.)"
   ]
  },
  {
   "cell_type": "code",
   "execution_count": 70,
   "metadata": {},
   "outputs": [
    {
     "name": "stdout",
     "output_type": "stream",
     "text": [
      "Rows: 32\n",
      "Columns: 11\n",
      "$ mpg  <dbl> 21.0, 21.0, 22.8, 21.4, 18.7, 18.1, 14.3, 24.4, 22.8, 19.2, 17...\n",
      "$ cyl  <dbl> 6, 6, 4, 6, 8, 6, 8, 4, 4, 6, 6, 8, 8, 8, 8, 8, 8, 4, 4, 4, 4,...\n",
      "$ disp <dbl> 160.0, 160.0, 108.0, 258.0, 360.0, 225.0, 360.0, 146.7, 140.8,...\n",
      "$ hp   <dbl> 110, 110, 93, 110, 175, 105, 245, 62, 95, 123, 123, 180, 180, ...\n",
      "$ drat <dbl> 3.90, 3.90, 3.85, 3.08, 3.15, 2.76, 3.21, 3.69, 3.92, 3.92, 3....\n",
      "$ wt   <dbl> 2.620, 2.875, 2.320, 3.215, 3.440, 3.460, 3.570, 3.190, 3.150,...\n",
      "$ qsec <dbl> 16.46, 17.02, 18.61, 19.44, 17.02, 20.22, 15.84, 20.00, 22.90,...\n",
      "$ vs   <int> 0, 0, 1, 1, 0, 1, 0, 1, 1, 1, 1, 0, 0, 0, 0, 0, 0, 1, 1, 1, 1,...\n",
      "$ am   <int> 1, 1, 1, 0, 0, 0, 0, 0, 0, 0, 0, 0, 0, 0, 0, 0, 0, 1, 1, 1, 0,...\n",
      "$ gear <int> 4, 4, 4, 3, 3, 3, 3, 4, 4, 4, 4, 3, 3, 3, 3, 3, 3, 4, 4, 4, 3,...\n",
      "$ carb <int> 4, 4, 1, 1, 2, 1, 4, 2, 2, 4, 4, 3, 3, 3, 4, 4, 4, 1, 2, 1, 1,...\n"
     ]
    }
   ],
   "source": [
    "read_csv(mtcars_path, col_types = 'dddddddiiii') %>% glimpse()"
   ]
  },
  {
   "cell_type": "markdown",
   "metadata": {},
   "source": [
    "*  With a (named) list of col objects:"
   ]
  },
  {
   "cell_type": "markdown",
   "metadata": {},
   "source": [
    "```r\n",
    "iris_data <- read_csv(\n",
    "    'iris.csv',\n",
    "    col_types = cols(\n",
    "        Sepal.Length = col_double(),\n",
    "        Sepal.Width = col_double(),\n",
    "        Petal.Length = col_double(),\n",
    "        Petal.Width = col_double(),\n",
    "        Species = col_factor(levels = c(\"setosa\", \"versicolor\", \"virginica\"))\n",
    "    )\n",
    ")\n",
    "```"
   ]
  },
  {
   "cell_type": "markdown",
   "metadata": {},
   "source": [
    "  \n",
    "```r\n",
    "  #Or with their abbreviations:\n",
    "iris_data <- read_csv(\n",
    "    'iris.csv',\n",
    "    col_types = cols(\n",
    "        Sepal.Length = 'd',\n",
    "        Sepal.Width = 'd',\n",
    "        Petal.Length = 'd',\n",
    "        Petal.Width = 'd',\n",
    "        Species = col_\n",
    "        factor(c(\"setosa\", \"versicolor\", \"virginica\"))\n",
    "    )\n",
    ")\n",
    "```"
   ]
  },
  {
   "cell_type": "markdown",
   "metadata": {},
   "source": [
    "    \n",
    "```r\n",
    "#Any omitted columns will be parsed automatically, so the previous call will lead to the same result as:\n",
    "read_csv(\n",
    "    'iris.csv',\n",
    "    col_types = cols(\n",
    "        Species = col_factor(c(\"setosa\", \"versicolor\", \"virginica\"))\n",
    "    )\n",
    ")\n",
    "```"
   ]
  },
  {
   "cell_type": "markdown",
   "metadata": {},
   "source": [
    "If you only want to read specified columns, use **`cols_only()`**:"
   ]
  },
  {
   "cell_type": "code",
   "execution_count": 81,
   "metadata": {},
   "outputs": [
    {
     "data": {
      "text/html": [
       "<table>\n",
       "<thead><tr><th scope=col>mpg</th><th scope=col>disp</th></tr></thead>\n",
       "<tbody>\n",
       "\t<tr><td>21.0</td><td>160 </td></tr>\n",
       "\t<tr><td>21.0</td><td>160 </td></tr>\n",
       "\t<tr><td>22.8</td><td>108 </td></tr>\n",
       "\t<tr><td>21.4</td><td>258 </td></tr>\n",
       "\t<tr><td>18.7</td><td>360 </td></tr>\n",
       "\t<tr><td>18.1</td><td>225 </td></tr>\n",
       "</tbody>\n",
       "</table>\n"
      ],
      "text/latex": [
       "\\begin{tabular}{r|ll}\n",
       " mpg & disp\\\\\n",
       "\\hline\n",
       "\t 21.0 & 160 \\\\\n",
       "\t 21.0 & 160 \\\\\n",
       "\t 22.8 & 108 \\\\\n",
       "\t 21.4 & 258 \\\\\n",
       "\t 18.7 & 360 \\\\\n",
       "\t 18.1 & 225 \\\\\n",
       "\\end{tabular}\n"
      ],
      "text/markdown": [
       "\n",
       "| mpg | disp |\n",
       "|---|---|\n",
       "| 21.0 | 160  |\n",
       "| 21.0 | 160  |\n",
       "| 22.8 | 108  |\n",
       "| 21.4 | 258  |\n",
       "| 18.7 | 360  |\n",
       "| 18.1 | 225  |\n",
       "\n"
      ],
      "text/plain": [
       "  mpg  disp\n",
       "1 21.0 160 \n",
       "2 21.0 160 \n",
       "3 22.8 108 \n",
       "4 21.4 258 \n",
       "5 18.7 360 \n",
       "6 18.1 225 "
      ]
     },
     "metadata": {},
     "output_type": "display_data"
    }
   ],
   "source": [
    "read_csv(mtcars_path, \n",
    "         col_types = cols_only(\n",
    "             mpg = 'd',\n",
    "             disp = 'd'\n",
    "         )) %>% head()"
   ]
  },
  {
   "cell_type": "markdown",
   "metadata": {},
   "source": [
    "### Output"
   ]
  },
  {
   "cell_type": "markdown",
   "metadata": {},
   "source": [
    "The output of all these functions is a tibble. Note that characters are never automatically converted to factors (i.e. no more `stringsAsFactors = FALSE`) and column names are left as is, not munged into valid R identifiers (i.e. there is no `check.names = TRUE`). Row names are never set.\n",
    "\n",
    "Attributes store the column specification (**`spec()`**) and any parsing problems (**`problems()`**)."
   ]
  }
 ],
 "metadata": {
  "kernelspec": {
   "display_name": "R",
   "language": "R",
   "name": "ir"
  },
  "language_info": {
   "codemirror_mode": "r",
   "file_extension": ".r",
   "mimetype": "text/x-r-source",
   "name": "R",
   "pygments_lexer": "r",
   "version": "3.6.1"
  }
 },
 "nbformat": 4,
 "nbformat_minor": 2
}
