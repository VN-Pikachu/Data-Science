{
 "cells": [
  {
   "cell_type": "code",
   "execution_count": 2,
   "metadata": {},
   "outputs": [],
   "source": [
    "library(tidyverse)"
   ]
  },
  {
   "cell_type": "markdown",
   "metadata": {},
   "source": [
    "# Read a delimited file (including csv & tsv) into a tibble"
   ]
  },
  {
   "cell_type": "markdown",
   "metadata": {},
   "source": [
    "**`read_csv()`** and **`read_tsv()`** are special cases of the general **`read_delim()`**. They're useful for reading the most common types of flat file data, comma separated values and tab separated values, respectively. **`read_csv2()`** uses ; for the field separator and , for the decimal point. This is common in some European countries."
   ]
  },
  {
   "cell_type": "markdown",
   "metadata": {},
   "source": [
    "```r\n",
    "read_delim(\n",
    "  file,\n",
    "  delim,\n",
    "  quote = \"\\\"\",\n",
    "  escape_backslash = FALSE,\n",
    "  escape_double = TRUE,\n",
    "  col_names = TRUE,\n",
    "  col_types = NULL,\n",
    "  locale = default_locale(),\n",
    "  na = c(\"\", \"NA\"),\n",
    "  quoted_na = TRUE,\n",
    "  comment = \"\",\n",
    "  trim_ws = FALSE,\n",
    "  skip = 0,\n",
    "  n_max = Inf,\n",
    "  guess_max = min(1000, n_max),\n",
    "  progress = show_progress(),\n",
    "  skip_empty_rows = TRUE\n",
    ")\n",
    "\n",
    "read_csv(\n",
    "  file,\n",
    "  col_names = TRUE,\n",
    "  col_types = NULL,\n",
    "  locale = default_locale(),\n",
    "  na = c(\"\", \"NA\"),\n",
    "  quoted_na = TRUE,\n",
    "  quote = \"\\\"\",\n",
    "  comment = \"\",\n",
    "  trim_ws = TRUE,\n",
    "  skip = 0,\n",
    "  n_max = Inf,\n",
    "  guess_max = min(1000, n_max),\n",
    "  progress = show_progress(),\n",
    "  skip_empty_rows = TRUE\n",
    ")\n",
    "\n",
    "read_csv2(\n",
    "  file,\n",
    "  col_names = TRUE,\n",
    "  col_types = NULL,\n",
    "  locale = default_locale(),\n",
    "  na = c(\"\", \"NA\"),\n",
    "  quoted_na = TRUE,\n",
    "  quote = \"\\\"\",\n",
    "  comment = \"\",\n",
    "  trim_ws = TRUE,\n",
    "  skip = 0,\n",
    "  n_max = Inf,\n",
    "  guess_max = min(1000, n_max),\n",
    "  progress = show_progress(),\n",
    "  skip_empty_rows = TRUE\n",
    ")\n",
    "\n",
    "read_tsv(\n",
    "  file,\n",
    "  col_names = TRUE,\n",
    "  col_types = NULL,\n",
    "  locale = default_locale(),\n",
    "  na = c(\"\", \"NA\"),\n",
    "  quoted_na = TRUE,\n",
    "  quote = \"\\\"\",\n",
    "  comment = \"\",\n",
    "  trim_ws = TRUE,\n",
    "  skip = 0,\n",
    "  n_max = Inf,\n",
    "  guess_max = min(1000, n_max),\n",
    "  progress = show_progress(),\n",
    "  skip_empty_rows = TRUE\n",
    ")\n",
    "```"
   ]
  },
  {
   "cell_type": "markdown",
   "metadata": {},
   "source": [
    "# Examples"
   ]
  },
  {
   "cell_type": "markdown",
   "metadata": {},
   "source": [
    "<hr>"
   ]
  },
  {
   "cell_type": "markdown",
   "metadata": {},
   "source": [
    "**input sources**"
   ]
  },
  {
   "cell_type": "markdown",
   "metadata": {},
   "source": [
    "Read from a path"
   ]
  },
  {
   "cell_type": "code",
   "execution_count": 3,
   "metadata": {},
   "outputs": [
    {
     "data": {
      "text/html": [
       "'C:/Users/dell/Anaconda3/Lib/R/library/readr/extdata/mtcars.csv'"
      ],
      "text/latex": [
       "'C:/Users/dell/Anaconda3/Lib/R/library/readr/extdata/mtcars.csv'"
      ],
      "text/markdown": [
       "'C:/Users/dell/Anaconda3/Lib/R/library/readr/extdata/mtcars.csv'"
      ],
      "text/plain": [
       "[1] \"C:/Users/dell/Anaconda3/Lib/R/library/readr/extdata/mtcars.csv\""
      ]
     },
     "metadata": {},
     "output_type": "display_data"
    }
   ],
   "source": [
    "mtcars_path <- readr_example('mtcars.csv')\n",
    "mtcars_path"
   ]
  },
  {
   "cell_type": "code",
   "execution_count": 4,
   "metadata": {},
   "outputs": [
    {
     "name": "stderr",
     "output_type": "stream",
     "text": [
      "\n",
      "-- Column specification ------------------------------------------------------------------------------------------------\n",
      "cols(\n",
      "  mpg = col_double(),\n",
      "  cyl = col_double(),\n",
      "  disp = col_double(),\n",
      "  hp = col_double(),\n",
      "  drat = col_double(),\n",
      "  wt = col_double(),\n",
      "  qsec = col_double(),\n",
      "  vs = col_double(),\n",
      "  am = col_double(),\n",
      "  gear = col_double(),\n",
      "  carb = col_double()\n",
      ")\n",
      "\n"
     ]
    },
    {
     "data": {
      "text/html": [
       "<table>\n",
       "<thead><tr><th scope=col>mpg</th><th scope=col>cyl</th><th scope=col>disp</th><th scope=col>hp</th><th scope=col>drat</th><th scope=col>wt</th><th scope=col>qsec</th><th scope=col>vs</th><th scope=col>am</th><th scope=col>gear</th><th scope=col>carb</th></tr></thead>\n",
       "<tbody>\n",
       "\t<tr><td>21.0 </td><td>6    </td><td>160.0</td><td>110  </td><td>3.90 </td><td>2.620</td><td>16.46</td><td>0    </td><td>1    </td><td>4    </td><td>4    </td></tr>\n",
       "\t<tr><td>21.0 </td><td>6    </td><td>160.0</td><td>110  </td><td>3.90 </td><td>2.875</td><td>17.02</td><td>0    </td><td>1    </td><td>4    </td><td>4    </td></tr>\n",
       "\t<tr><td>22.8 </td><td>4    </td><td>108.0</td><td> 93  </td><td>3.85 </td><td>2.320</td><td>18.61</td><td>1    </td><td>1    </td><td>4    </td><td>1    </td></tr>\n",
       "\t<tr><td>21.4 </td><td>6    </td><td>258.0</td><td>110  </td><td>3.08 </td><td>3.215</td><td>19.44</td><td>1    </td><td>0    </td><td>3    </td><td>1    </td></tr>\n",
       "\t<tr><td>18.7 </td><td>8    </td><td>360.0</td><td>175  </td><td>3.15 </td><td>3.440</td><td>17.02</td><td>0    </td><td>0    </td><td>3    </td><td>2    </td></tr>\n",
       "\t<tr><td>18.1 </td><td>6    </td><td>225.0</td><td>105  </td><td>2.76 </td><td>3.460</td><td>20.22</td><td>1    </td><td>0    </td><td>3    </td><td>1    </td></tr>\n",
       "\t<tr><td>14.3 </td><td>8    </td><td>360.0</td><td>245  </td><td>3.21 </td><td>3.570</td><td>15.84</td><td>0    </td><td>0    </td><td>3    </td><td>4    </td></tr>\n",
       "\t<tr><td>24.4 </td><td>4    </td><td>146.7</td><td> 62  </td><td>3.69 </td><td>3.190</td><td>20.00</td><td>1    </td><td>0    </td><td>4    </td><td>2    </td></tr>\n",
       "\t<tr><td>22.8 </td><td>4    </td><td>140.8</td><td> 95  </td><td>3.92 </td><td>3.150</td><td>22.90</td><td>1    </td><td>0    </td><td>4    </td><td>2    </td></tr>\n",
       "\t<tr><td>19.2 </td><td>6    </td><td>167.6</td><td>123  </td><td>3.92 </td><td>3.440</td><td>18.30</td><td>1    </td><td>0    </td><td>4    </td><td>4    </td></tr>\n",
       "\t<tr><td>17.8 </td><td>6    </td><td>167.6</td><td>123  </td><td>3.92 </td><td>3.440</td><td>18.90</td><td>1    </td><td>0    </td><td>4    </td><td>4    </td></tr>\n",
       "\t<tr><td>16.4 </td><td>8    </td><td>275.8</td><td>180  </td><td>3.07 </td><td>4.070</td><td>17.40</td><td>0    </td><td>0    </td><td>3    </td><td>3    </td></tr>\n",
       "\t<tr><td>17.3 </td><td>8    </td><td>275.8</td><td>180  </td><td>3.07 </td><td>3.730</td><td>17.60</td><td>0    </td><td>0    </td><td>3    </td><td>3    </td></tr>\n",
       "\t<tr><td>15.2 </td><td>8    </td><td>275.8</td><td>180  </td><td>3.07 </td><td>3.780</td><td>18.00</td><td>0    </td><td>0    </td><td>3    </td><td>3    </td></tr>\n",
       "\t<tr><td>10.4 </td><td>8    </td><td>472.0</td><td>205  </td><td>2.93 </td><td>5.250</td><td>17.98</td><td>0    </td><td>0    </td><td>3    </td><td>4    </td></tr>\n",
       "\t<tr><td>10.4 </td><td>8    </td><td>460.0</td><td>215  </td><td>3.00 </td><td>5.424</td><td>17.82</td><td>0    </td><td>0    </td><td>3    </td><td>4    </td></tr>\n",
       "\t<tr><td>14.7 </td><td>8    </td><td>440.0</td><td>230  </td><td>3.23 </td><td>5.345</td><td>17.42</td><td>0    </td><td>0    </td><td>3    </td><td>4    </td></tr>\n",
       "\t<tr><td>32.4 </td><td>4    </td><td> 78.7</td><td> 66  </td><td>4.08 </td><td>2.200</td><td>19.47</td><td>1    </td><td>1    </td><td>4    </td><td>1    </td></tr>\n",
       "\t<tr><td>30.4 </td><td>4    </td><td> 75.7</td><td> 52  </td><td>4.93 </td><td>1.615</td><td>18.52</td><td>1    </td><td>1    </td><td>4    </td><td>2    </td></tr>\n",
       "\t<tr><td>33.9 </td><td>4    </td><td> 71.1</td><td> 65  </td><td>4.22 </td><td>1.835</td><td>19.90</td><td>1    </td><td>1    </td><td>4    </td><td>1    </td></tr>\n",
       "\t<tr><td>21.5 </td><td>4    </td><td>120.1</td><td> 97  </td><td>3.70 </td><td>2.465</td><td>20.01</td><td>1    </td><td>0    </td><td>3    </td><td>1    </td></tr>\n",
       "\t<tr><td>15.5 </td><td>8    </td><td>318.0</td><td>150  </td><td>2.76 </td><td>3.520</td><td>16.87</td><td>0    </td><td>0    </td><td>3    </td><td>2    </td></tr>\n",
       "\t<tr><td>15.2 </td><td>8    </td><td>304.0</td><td>150  </td><td>3.15 </td><td>3.435</td><td>17.30</td><td>0    </td><td>0    </td><td>3    </td><td>2    </td></tr>\n",
       "\t<tr><td>13.3 </td><td>8    </td><td>350.0</td><td>245  </td><td>3.73 </td><td>3.840</td><td>15.41</td><td>0    </td><td>0    </td><td>3    </td><td>4    </td></tr>\n",
       "\t<tr><td>19.2 </td><td>8    </td><td>400.0</td><td>175  </td><td>3.08 </td><td>3.845</td><td>17.05</td><td>0    </td><td>0    </td><td>3    </td><td>2    </td></tr>\n",
       "\t<tr><td>27.3 </td><td>4    </td><td> 79.0</td><td> 66  </td><td>4.08 </td><td>1.935</td><td>18.90</td><td>1    </td><td>1    </td><td>4    </td><td>1    </td></tr>\n",
       "\t<tr><td>26.0 </td><td>4    </td><td>120.3</td><td> 91  </td><td>4.43 </td><td>2.140</td><td>16.70</td><td>0    </td><td>1    </td><td>5    </td><td>2    </td></tr>\n",
       "\t<tr><td>30.4 </td><td>4    </td><td> 95.1</td><td>113  </td><td>3.77 </td><td>1.513</td><td>16.90</td><td>1    </td><td>1    </td><td>5    </td><td>2    </td></tr>\n",
       "\t<tr><td>15.8 </td><td>8    </td><td>351.0</td><td>264  </td><td>4.22 </td><td>3.170</td><td>14.50</td><td>0    </td><td>1    </td><td>5    </td><td>4    </td></tr>\n",
       "\t<tr><td>19.7 </td><td>6    </td><td>145.0</td><td>175  </td><td>3.62 </td><td>2.770</td><td>15.50</td><td>0    </td><td>1    </td><td>5    </td><td>6    </td></tr>\n",
       "\t<tr><td>15.0 </td><td>8    </td><td>301.0</td><td>335  </td><td>3.54 </td><td>3.570</td><td>14.60</td><td>0    </td><td>1    </td><td>5    </td><td>8    </td></tr>\n",
       "\t<tr><td>21.4 </td><td>4    </td><td>121.0</td><td>109  </td><td>4.11 </td><td>2.780</td><td>18.60</td><td>1    </td><td>1    </td><td>4    </td><td>2    </td></tr>\n",
       "</tbody>\n",
       "</table>\n"
      ],
      "text/latex": [
       "\\begin{tabular}{r|lllllllllll}\n",
       " mpg & cyl & disp & hp & drat & wt & qsec & vs & am & gear & carb\\\\\n",
       "\\hline\n",
       "\t 21.0  & 6     & 160.0 & 110   & 3.90  & 2.620 & 16.46 & 0     & 1     & 4     & 4    \\\\\n",
       "\t 21.0  & 6     & 160.0 & 110   & 3.90  & 2.875 & 17.02 & 0     & 1     & 4     & 4    \\\\\n",
       "\t 22.8  & 4     & 108.0 &  93   & 3.85  & 2.320 & 18.61 & 1     & 1     & 4     & 1    \\\\\n",
       "\t 21.4  & 6     & 258.0 & 110   & 3.08  & 3.215 & 19.44 & 1     & 0     & 3     & 1    \\\\\n",
       "\t 18.7  & 8     & 360.0 & 175   & 3.15  & 3.440 & 17.02 & 0     & 0     & 3     & 2    \\\\\n",
       "\t 18.1  & 6     & 225.0 & 105   & 2.76  & 3.460 & 20.22 & 1     & 0     & 3     & 1    \\\\\n",
       "\t 14.3  & 8     & 360.0 & 245   & 3.21  & 3.570 & 15.84 & 0     & 0     & 3     & 4    \\\\\n",
       "\t 24.4  & 4     & 146.7 &  62   & 3.69  & 3.190 & 20.00 & 1     & 0     & 4     & 2    \\\\\n",
       "\t 22.8  & 4     & 140.8 &  95   & 3.92  & 3.150 & 22.90 & 1     & 0     & 4     & 2    \\\\\n",
       "\t 19.2  & 6     & 167.6 & 123   & 3.92  & 3.440 & 18.30 & 1     & 0     & 4     & 4    \\\\\n",
       "\t 17.8  & 6     & 167.6 & 123   & 3.92  & 3.440 & 18.90 & 1     & 0     & 4     & 4    \\\\\n",
       "\t 16.4  & 8     & 275.8 & 180   & 3.07  & 4.070 & 17.40 & 0     & 0     & 3     & 3    \\\\\n",
       "\t 17.3  & 8     & 275.8 & 180   & 3.07  & 3.730 & 17.60 & 0     & 0     & 3     & 3    \\\\\n",
       "\t 15.2  & 8     & 275.8 & 180   & 3.07  & 3.780 & 18.00 & 0     & 0     & 3     & 3    \\\\\n",
       "\t 10.4  & 8     & 472.0 & 205   & 2.93  & 5.250 & 17.98 & 0     & 0     & 3     & 4    \\\\\n",
       "\t 10.4  & 8     & 460.0 & 215   & 3.00  & 5.424 & 17.82 & 0     & 0     & 3     & 4    \\\\\n",
       "\t 14.7  & 8     & 440.0 & 230   & 3.23  & 5.345 & 17.42 & 0     & 0     & 3     & 4    \\\\\n",
       "\t 32.4  & 4     &  78.7 &  66   & 4.08  & 2.200 & 19.47 & 1     & 1     & 4     & 1    \\\\\n",
       "\t 30.4  & 4     &  75.7 &  52   & 4.93  & 1.615 & 18.52 & 1     & 1     & 4     & 2    \\\\\n",
       "\t 33.9  & 4     &  71.1 &  65   & 4.22  & 1.835 & 19.90 & 1     & 1     & 4     & 1    \\\\\n",
       "\t 21.5  & 4     & 120.1 &  97   & 3.70  & 2.465 & 20.01 & 1     & 0     & 3     & 1    \\\\\n",
       "\t 15.5  & 8     & 318.0 & 150   & 2.76  & 3.520 & 16.87 & 0     & 0     & 3     & 2    \\\\\n",
       "\t 15.2  & 8     & 304.0 & 150   & 3.15  & 3.435 & 17.30 & 0     & 0     & 3     & 2    \\\\\n",
       "\t 13.3  & 8     & 350.0 & 245   & 3.73  & 3.840 & 15.41 & 0     & 0     & 3     & 4    \\\\\n",
       "\t 19.2  & 8     & 400.0 & 175   & 3.08  & 3.845 & 17.05 & 0     & 0     & 3     & 2    \\\\\n",
       "\t 27.3  & 4     &  79.0 &  66   & 4.08  & 1.935 & 18.90 & 1     & 1     & 4     & 1    \\\\\n",
       "\t 26.0  & 4     & 120.3 &  91   & 4.43  & 2.140 & 16.70 & 0     & 1     & 5     & 2    \\\\\n",
       "\t 30.4  & 4     &  95.1 & 113   & 3.77  & 1.513 & 16.90 & 1     & 1     & 5     & 2    \\\\\n",
       "\t 15.8  & 8     & 351.0 & 264   & 4.22  & 3.170 & 14.50 & 0     & 1     & 5     & 4    \\\\\n",
       "\t 19.7  & 6     & 145.0 & 175   & 3.62  & 2.770 & 15.50 & 0     & 1     & 5     & 6    \\\\\n",
       "\t 15.0  & 8     & 301.0 & 335   & 3.54  & 3.570 & 14.60 & 0     & 1     & 5     & 8    \\\\\n",
       "\t 21.4  & 4     & 121.0 & 109   & 4.11  & 2.780 & 18.60 & 1     & 1     & 4     & 2    \\\\\n",
       "\\end{tabular}\n"
      ],
      "text/markdown": [
       "\n",
       "| mpg | cyl | disp | hp | drat | wt | qsec | vs | am | gear | carb |\n",
       "|---|---|---|---|---|---|---|---|---|---|---|\n",
       "| 21.0  | 6     | 160.0 | 110   | 3.90  | 2.620 | 16.46 | 0     | 1     | 4     | 4     |\n",
       "| 21.0  | 6     | 160.0 | 110   | 3.90  | 2.875 | 17.02 | 0     | 1     | 4     | 4     |\n",
       "| 22.8  | 4     | 108.0 |  93   | 3.85  | 2.320 | 18.61 | 1     | 1     | 4     | 1     |\n",
       "| 21.4  | 6     | 258.0 | 110   | 3.08  | 3.215 | 19.44 | 1     | 0     | 3     | 1     |\n",
       "| 18.7  | 8     | 360.0 | 175   | 3.15  | 3.440 | 17.02 | 0     | 0     | 3     | 2     |\n",
       "| 18.1  | 6     | 225.0 | 105   | 2.76  | 3.460 | 20.22 | 1     | 0     | 3     | 1     |\n",
       "| 14.3  | 8     | 360.0 | 245   | 3.21  | 3.570 | 15.84 | 0     | 0     | 3     | 4     |\n",
       "| 24.4  | 4     | 146.7 |  62   | 3.69  | 3.190 | 20.00 | 1     | 0     | 4     | 2     |\n",
       "| 22.8  | 4     | 140.8 |  95   | 3.92  | 3.150 | 22.90 | 1     | 0     | 4     | 2     |\n",
       "| 19.2  | 6     | 167.6 | 123   | 3.92  | 3.440 | 18.30 | 1     | 0     | 4     | 4     |\n",
       "| 17.8  | 6     | 167.6 | 123   | 3.92  | 3.440 | 18.90 | 1     | 0     | 4     | 4     |\n",
       "| 16.4  | 8     | 275.8 | 180   | 3.07  | 4.070 | 17.40 | 0     | 0     | 3     | 3     |\n",
       "| 17.3  | 8     | 275.8 | 180   | 3.07  | 3.730 | 17.60 | 0     | 0     | 3     | 3     |\n",
       "| 15.2  | 8     | 275.8 | 180   | 3.07  | 3.780 | 18.00 | 0     | 0     | 3     | 3     |\n",
       "| 10.4  | 8     | 472.0 | 205   | 2.93  | 5.250 | 17.98 | 0     | 0     | 3     | 4     |\n",
       "| 10.4  | 8     | 460.0 | 215   | 3.00  | 5.424 | 17.82 | 0     | 0     | 3     | 4     |\n",
       "| 14.7  | 8     | 440.0 | 230   | 3.23  | 5.345 | 17.42 | 0     | 0     | 3     | 4     |\n",
       "| 32.4  | 4     |  78.7 |  66   | 4.08  | 2.200 | 19.47 | 1     | 1     | 4     | 1     |\n",
       "| 30.4  | 4     |  75.7 |  52   | 4.93  | 1.615 | 18.52 | 1     | 1     | 4     | 2     |\n",
       "| 33.9  | 4     |  71.1 |  65   | 4.22  | 1.835 | 19.90 | 1     | 1     | 4     | 1     |\n",
       "| 21.5  | 4     | 120.1 |  97   | 3.70  | 2.465 | 20.01 | 1     | 0     | 3     | 1     |\n",
       "| 15.5  | 8     | 318.0 | 150   | 2.76  | 3.520 | 16.87 | 0     | 0     | 3     | 2     |\n",
       "| 15.2  | 8     | 304.0 | 150   | 3.15  | 3.435 | 17.30 | 0     | 0     | 3     | 2     |\n",
       "| 13.3  | 8     | 350.0 | 245   | 3.73  | 3.840 | 15.41 | 0     | 0     | 3     | 4     |\n",
       "| 19.2  | 8     | 400.0 | 175   | 3.08  | 3.845 | 17.05 | 0     | 0     | 3     | 2     |\n",
       "| 27.3  | 4     |  79.0 |  66   | 4.08  | 1.935 | 18.90 | 1     | 1     | 4     | 1     |\n",
       "| 26.0  | 4     | 120.3 |  91   | 4.43  | 2.140 | 16.70 | 0     | 1     | 5     | 2     |\n",
       "| 30.4  | 4     |  95.1 | 113   | 3.77  | 1.513 | 16.90 | 1     | 1     | 5     | 2     |\n",
       "| 15.8  | 8     | 351.0 | 264   | 4.22  | 3.170 | 14.50 | 0     | 1     | 5     | 4     |\n",
       "| 19.7  | 6     | 145.0 | 175   | 3.62  | 2.770 | 15.50 | 0     | 1     | 5     | 6     |\n",
       "| 15.0  | 8     | 301.0 | 335   | 3.54  | 3.570 | 14.60 | 0     | 1     | 5     | 8     |\n",
       "| 21.4  | 4     | 121.0 | 109   | 4.11  | 2.780 | 18.60 | 1     | 1     | 4     | 2     |\n",
       "\n"
      ],
      "text/plain": [
       "   mpg  cyl disp  hp  drat wt    qsec  vs am gear carb\n",
       "1  21.0 6   160.0 110 3.90 2.620 16.46 0  1  4    4   \n",
       "2  21.0 6   160.0 110 3.90 2.875 17.02 0  1  4    4   \n",
       "3  22.8 4   108.0  93 3.85 2.320 18.61 1  1  4    1   \n",
       "4  21.4 6   258.0 110 3.08 3.215 19.44 1  0  3    1   \n",
       "5  18.7 8   360.0 175 3.15 3.440 17.02 0  0  3    2   \n",
       "6  18.1 6   225.0 105 2.76 3.460 20.22 1  0  3    1   \n",
       "7  14.3 8   360.0 245 3.21 3.570 15.84 0  0  3    4   \n",
       "8  24.4 4   146.7  62 3.69 3.190 20.00 1  0  4    2   \n",
       "9  22.8 4   140.8  95 3.92 3.150 22.90 1  0  4    2   \n",
       "10 19.2 6   167.6 123 3.92 3.440 18.30 1  0  4    4   \n",
       "11 17.8 6   167.6 123 3.92 3.440 18.90 1  0  4    4   \n",
       "12 16.4 8   275.8 180 3.07 4.070 17.40 0  0  3    3   \n",
       "13 17.3 8   275.8 180 3.07 3.730 17.60 0  0  3    3   \n",
       "14 15.2 8   275.8 180 3.07 3.780 18.00 0  0  3    3   \n",
       "15 10.4 8   472.0 205 2.93 5.250 17.98 0  0  3    4   \n",
       "16 10.4 8   460.0 215 3.00 5.424 17.82 0  0  3    4   \n",
       "17 14.7 8   440.0 230 3.23 5.345 17.42 0  0  3    4   \n",
       "18 32.4 4    78.7  66 4.08 2.200 19.47 1  1  4    1   \n",
       "19 30.4 4    75.7  52 4.93 1.615 18.52 1  1  4    2   \n",
       "20 33.9 4    71.1  65 4.22 1.835 19.90 1  1  4    1   \n",
       "21 21.5 4   120.1  97 3.70 2.465 20.01 1  0  3    1   \n",
       "22 15.5 8   318.0 150 2.76 3.520 16.87 0  0  3    2   \n",
       "23 15.2 8   304.0 150 3.15 3.435 17.30 0  0  3    2   \n",
       "24 13.3 8   350.0 245 3.73 3.840 15.41 0  0  3    4   \n",
       "25 19.2 8   400.0 175 3.08 3.845 17.05 0  0  3    2   \n",
       "26 27.3 4    79.0  66 4.08 1.935 18.90 1  1  4    1   \n",
       "27 26.0 4   120.3  91 4.43 2.140 16.70 0  1  5    2   \n",
       "28 30.4 4    95.1 113 3.77 1.513 16.90 1  1  5    2   \n",
       "29 15.8 8   351.0 264 4.22 3.170 14.50 0  1  5    4   \n",
       "30 19.7 6   145.0 175 3.62 2.770 15.50 0  1  5    6   \n",
       "31 15.0 8   301.0 335 3.54 3.570 14.60 0  1  5    8   \n",
       "32 21.4 4   121.0 109 4.11 2.780 18.60 1  1  4    2   "
      ]
     },
     "metadata": {},
     "output_type": "display_data"
    }
   ],
   "source": [
    "read_csv(mtcars_path)"
   ]
  },
  {
   "cell_type": "code",
   "execution_count": 5,
   "metadata": {},
   "outputs": [
    {
     "name": "stderr",
     "output_type": "stream",
     "text": [
      "\n",
      "-- Column specification ------------------------------------------------------------------------------------------------\n",
      "cols(\n",
      "  mpg = col_double(),\n",
      "  cyl = col_double(),\n",
      "  disp = col_double(),\n",
      "  hp = col_double(),\n",
      "  drat = col_double(),\n",
      "  wt = col_double(),\n",
      "  qsec = col_double(),\n",
      "  vs = col_double(),\n",
      "  am = col_double(),\n",
      "  gear = col_double(),\n",
      "  carb = col_double()\n",
      ")\n",
      "\n"
     ]
    },
    {
     "data": {
      "text/html": [
       "<table>\n",
       "<thead><tr><th scope=col>mpg</th><th scope=col>cyl</th><th scope=col>disp</th><th scope=col>hp</th><th scope=col>drat</th><th scope=col>wt</th><th scope=col>qsec</th><th scope=col>vs</th><th scope=col>am</th><th scope=col>gear</th><th scope=col>carb</th></tr></thead>\n",
       "<tbody>\n",
       "\t<tr><td>21.0 </td><td>6    </td><td>160.0</td><td>110  </td><td>3.90 </td><td>2.620</td><td>16.46</td><td>0    </td><td>1    </td><td>4    </td><td>4    </td></tr>\n",
       "\t<tr><td>21.0 </td><td>6    </td><td>160.0</td><td>110  </td><td>3.90 </td><td>2.875</td><td>17.02</td><td>0    </td><td>1    </td><td>4    </td><td>4    </td></tr>\n",
       "\t<tr><td>22.8 </td><td>4    </td><td>108.0</td><td> 93  </td><td>3.85 </td><td>2.320</td><td>18.61</td><td>1    </td><td>1    </td><td>4    </td><td>1    </td></tr>\n",
       "\t<tr><td>21.4 </td><td>6    </td><td>258.0</td><td>110  </td><td>3.08 </td><td>3.215</td><td>19.44</td><td>1    </td><td>0    </td><td>3    </td><td>1    </td></tr>\n",
       "\t<tr><td>18.7 </td><td>8    </td><td>360.0</td><td>175  </td><td>3.15 </td><td>3.440</td><td>17.02</td><td>0    </td><td>0    </td><td>3    </td><td>2    </td></tr>\n",
       "\t<tr><td>18.1 </td><td>6    </td><td>225.0</td><td>105  </td><td>2.76 </td><td>3.460</td><td>20.22</td><td>1    </td><td>0    </td><td>3    </td><td>1    </td></tr>\n",
       "\t<tr><td>14.3 </td><td>8    </td><td>360.0</td><td>245  </td><td>3.21 </td><td>3.570</td><td>15.84</td><td>0    </td><td>0    </td><td>3    </td><td>4    </td></tr>\n",
       "\t<tr><td>24.4 </td><td>4    </td><td>146.7</td><td> 62  </td><td>3.69 </td><td>3.190</td><td>20.00</td><td>1    </td><td>0    </td><td>4    </td><td>2    </td></tr>\n",
       "\t<tr><td>22.8 </td><td>4    </td><td>140.8</td><td> 95  </td><td>3.92 </td><td>3.150</td><td>22.90</td><td>1    </td><td>0    </td><td>4    </td><td>2    </td></tr>\n",
       "\t<tr><td>19.2 </td><td>6    </td><td>167.6</td><td>123  </td><td>3.92 </td><td>3.440</td><td>18.30</td><td>1    </td><td>0    </td><td>4    </td><td>4    </td></tr>\n",
       "\t<tr><td>17.8 </td><td>6    </td><td>167.6</td><td>123  </td><td>3.92 </td><td>3.440</td><td>18.90</td><td>1    </td><td>0    </td><td>4    </td><td>4    </td></tr>\n",
       "\t<tr><td>16.4 </td><td>8    </td><td>275.8</td><td>180  </td><td>3.07 </td><td>4.070</td><td>17.40</td><td>0    </td><td>0    </td><td>3    </td><td>3    </td></tr>\n",
       "\t<tr><td>17.3 </td><td>8    </td><td>275.8</td><td>180  </td><td>3.07 </td><td>3.730</td><td>17.60</td><td>0    </td><td>0    </td><td>3    </td><td>3    </td></tr>\n",
       "\t<tr><td>15.2 </td><td>8    </td><td>275.8</td><td>180  </td><td>3.07 </td><td>3.780</td><td>18.00</td><td>0    </td><td>0    </td><td>3    </td><td>3    </td></tr>\n",
       "\t<tr><td>10.4 </td><td>8    </td><td>472.0</td><td>205  </td><td>2.93 </td><td>5.250</td><td>17.98</td><td>0    </td><td>0    </td><td>3    </td><td>4    </td></tr>\n",
       "\t<tr><td>10.4 </td><td>8    </td><td>460.0</td><td>215  </td><td>3.00 </td><td>5.424</td><td>17.82</td><td>0    </td><td>0    </td><td>3    </td><td>4    </td></tr>\n",
       "\t<tr><td>14.7 </td><td>8    </td><td>440.0</td><td>230  </td><td>3.23 </td><td>5.345</td><td>17.42</td><td>0    </td><td>0    </td><td>3    </td><td>4    </td></tr>\n",
       "\t<tr><td>32.4 </td><td>4    </td><td> 78.7</td><td> 66  </td><td>4.08 </td><td>2.200</td><td>19.47</td><td>1    </td><td>1    </td><td>4    </td><td>1    </td></tr>\n",
       "\t<tr><td>30.4 </td><td>4    </td><td> 75.7</td><td> 52  </td><td>4.93 </td><td>1.615</td><td>18.52</td><td>1    </td><td>1    </td><td>4    </td><td>2    </td></tr>\n",
       "\t<tr><td>33.9 </td><td>4    </td><td> 71.1</td><td> 65  </td><td>4.22 </td><td>1.835</td><td>19.90</td><td>1    </td><td>1    </td><td>4    </td><td>1    </td></tr>\n",
       "\t<tr><td>21.5 </td><td>4    </td><td>120.1</td><td> 97  </td><td>3.70 </td><td>2.465</td><td>20.01</td><td>1    </td><td>0    </td><td>3    </td><td>1    </td></tr>\n",
       "\t<tr><td>15.5 </td><td>8    </td><td>318.0</td><td>150  </td><td>2.76 </td><td>3.520</td><td>16.87</td><td>0    </td><td>0    </td><td>3    </td><td>2    </td></tr>\n",
       "\t<tr><td>15.2 </td><td>8    </td><td>304.0</td><td>150  </td><td>3.15 </td><td>3.435</td><td>17.30</td><td>0    </td><td>0    </td><td>3    </td><td>2    </td></tr>\n",
       "\t<tr><td>13.3 </td><td>8    </td><td>350.0</td><td>245  </td><td>3.73 </td><td>3.840</td><td>15.41</td><td>0    </td><td>0    </td><td>3    </td><td>4    </td></tr>\n",
       "\t<tr><td>19.2 </td><td>8    </td><td>400.0</td><td>175  </td><td>3.08 </td><td>3.845</td><td>17.05</td><td>0    </td><td>0    </td><td>3    </td><td>2    </td></tr>\n",
       "\t<tr><td>27.3 </td><td>4    </td><td> 79.0</td><td> 66  </td><td>4.08 </td><td>1.935</td><td>18.90</td><td>1    </td><td>1    </td><td>4    </td><td>1    </td></tr>\n",
       "\t<tr><td>26.0 </td><td>4    </td><td>120.3</td><td> 91  </td><td>4.43 </td><td>2.140</td><td>16.70</td><td>0    </td><td>1    </td><td>5    </td><td>2    </td></tr>\n",
       "\t<tr><td>30.4 </td><td>4    </td><td> 95.1</td><td>113  </td><td>3.77 </td><td>1.513</td><td>16.90</td><td>1    </td><td>1    </td><td>5    </td><td>2    </td></tr>\n",
       "\t<tr><td>15.8 </td><td>8    </td><td>351.0</td><td>264  </td><td>4.22 </td><td>3.170</td><td>14.50</td><td>0    </td><td>1    </td><td>5    </td><td>4    </td></tr>\n",
       "\t<tr><td>19.7 </td><td>6    </td><td>145.0</td><td>175  </td><td>3.62 </td><td>2.770</td><td>15.50</td><td>0    </td><td>1    </td><td>5    </td><td>6    </td></tr>\n",
       "\t<tr><td>15.0 </td><td>8    </td><td>301.0</td><td>335  </td><td>3.54 </td><td>3.570</td><td>14.60</td><td>0    </td><td>1    </td><td>5    </td><td>8    </td></tr>\n",
       "\t<tr><td>21.4 </td><td>4    </td><td>121.0</td><td>109  </td><td>4.11 </td><td>2.780</td><td>18.60</td><td>1    </td><td>1    </td><td>4    </td><td>2    </td></tr>\n",
       "</tbody>\n",
       "</table>\n"
      ],
      "text/latex": [
       "\\begin{tabular}{r|lllllllllll}\n",
       " mpg & cyl & disp & hp & drat & wt & qsec & vs & am & gear & carb\\\\\n",
       "\\hline\n",
       "\t 21.0  & 6     & 160.0 & 110   & 3.90  & 2.620 & 16.46 & 0     & 1     & 4     & 4    \\\\\n",
       "\t 21.0  & 6     & 160.0 & 110   & 3.90  & 2.875 & 17.02 & 0     & 1     & 4     & 4    \\\\\n",
       "\t 22.8  & 4     & 108.0 &  93   & 3.85  & 2.320 & 18.61 & 1     & 1     & 4     & 1    \\\\\n",
       "\t 21.4  & 6     & 258.0 & 110   & 3.08  & 3.215 & 19.44 & 1     & 0     & 3     & 1    \\\\\n",
       "\t 18.7  & 8     & 360.0 & 175   & 3.15  & 3.440 & 17.02 & 0     & 0     & 3     & 2    \\\\\n",
       "\t 18.1  & 6     & 225.0 & 105   & 2.76  & 3.460 & 20.22 & 1     & 0     & 3     & 1    \\\\\n",
       "\t 14.3  & 8     & 360.0 & 245   & 3.21  & 3.570 & 15.84 & 0     & 0     & 3     & 4    \\\\\n",
       "\t 24.4  & 4     & 146.7 &  62   & 3.69  & 3.190 & 20.00 & 1     & 0     & 4     & 2    \\\\\n",
       "\t 22.8  & 4     & 140.8 &  95   & 3.92  & 3.150 & 22.90 & 1     & 0     & 4     & 2    \\\\\n",
       "\t 19.2  & 6     & 167.6 & 123   & 3.92  & 3.440 & 18.30 & 1     & 0     & 4     & 4    \\\\\n",
       "\t 17.8  & 6     & 167.6 & 123   & 3.92  & 3.440 & 18.90 & 1     & 0     & 4     & 4    \\\\\n",
       "\t 16.4  & 8     & 275.8 & 180   & 3.07  & 4.070 & 17.40 & 0     & 0     & 3     & 3    \\\\\n",
       "\t 17.3  & 8     & 275.8 & 180   & 3.07  & 3.730 & 17.60 & 0     & 0     & 3     & 3    \\\\\n",
       "\t 15.2  & 8     & 275.8 & 180   & 3.07  & 3.780 & 18.00 & 0     & 0     & 3     & 3    \\\\\n",
       "\t 10.4  & 8     & 472.0 & 205   & 2.93  & 5.250 & 17.98 & 0     & 0     & 3     & 4    \\\\\n",
       "\t 10.4  & 8     & 460.0 & 215   & 3.00  & 5.424 & 17.82 & 0     & 0     & 3     & 4    \\\\\n",
       "\t 14.7  & 8     & 440.0 & 230   & 3.23  & 5.345 & 17.42 & 0     & 0     & 3     & 4    \\\\\n",
       "\t 32.4  & 4     &  78.7 &  66   & 4.08  & 2.200 & 19.47 & 1     & 1     & 4     & 1    \\\\\n",
       "\t 30.4  & 4     &  75.7 &  52   & 4.93  & 1.615 & 18.52 & 1     & 1     & 4     & 2    \\\\\n",
       "\t 33.9  & 4     &  71.1 &  65   & 4.22  & 1.835 & 19.90 & 1     & 1     & 4     & 1    \\\\\n",
       "\t 21.5  & 4     & 120.1 &  97   & 3.70  & 2.465 & 20.01 & 1     & 0     & 3     & 1    \\\\\n",
       "\t 15.5  & 8     & 318.0 & 150   & 2.76  & 3.520 & 16.87 & 0     & 0     & 3     & 2    \\\\\n",
       "\t 15.2  & 8     & 304.0 & 150   & 3.15  & 3.435 & 17.30 & 0     & 0     & 3     & 2    \\\\\n",
       "\t 13.3  & 8     & 350.0 & 245   & 3.73  & 3.840 & 15.41 & 0     & 0     & 3     & 4    \\\\\n",
       "\t 19.2  & 8     & 400.0 & 175   & 3.08  & 3.845 & 17.05 & 0     & 0     & 3     & 2    \\\\\n",
       "\t 27.3  & 4     &  79.0 &  66   & 4.08  & 1.935 & 18.90 & 1     & 1     & 4     & 1    \\\\\n",
       "\t 26.0  & 4     & 120.3 &  91   & 4.43  & 2.140 & 16.70 & 0     & 1     & 5     & 2    \\\\\n",
       "\t 30.4  & 4     &  95.1 & 113   & 3.77  & 1.513 & 16.90 & 1     & 1     & 5     & 2    \\\\\n",
       "\t 15.8  & 8     & 351.0 & 264   & 4.22  & 3.170 & 14.50 & 0     & 1     & 5     & 4    \\\\\n",
       "\t 19.7  & 6     & 145.0 & 175   & 3.62  & 2.770 & 15.50 & 0     & 1     & 5     & 6    \\\\\n",
       "\t 15.0  & 8     & 301.0 & 335   & 3.54  & 3.570 & 14.60 & 0     & 1     & 5     & 8    \\\\\n",
       "\t 21.4  & 4     & 121.0 & 109   & 4.11  & 2.780 & 18.60 & 1     & 1     & 4     & 2    \\\\\n",
       "\\end{tabular}\n"
      ],
      "text/markdown": [
       "\n",
       "| mpg | cyl | disp | hp | drat | wt | qsec | vs | am | gear | carb |\n",
       "|---|---|---|---|---|---|---|---|---|---|---|\n",
       "| 21.0  | 6     | 160.0 | 110   | 3.90  | 2.620 | 16.46 | 0     | 1     | 4     | 4     |\n",
       "| 21.0  | 6     | 160.0 | 110   | 3.90  | 2.875 | 17.02 | 0     | 1     | 4     | 4     |\n",
       "| 22.8  | 4     | 108.0 |  93   | 3.85  | 2.320 | 18.61 | 1     | 1     | 4     | 1     |\n",
       "| 21.4  | 6     | 258.0 | 110   | 3.08  | 3.215 | 19.44 | 1     | 0     | 3     | 1     |\n",
       "| 18.7  | 8     | 360.0 | 175   | 3.15  | 3.440 | 17.02 | 0     | 0     | 3     | 2     |\n",
       "| 18.1  | 6     | 225.0 | 105   | 2.76  | 3.460 | 20.22 | 1     | 0     | 3     | 1     |\n",
       "| 14.3  | 8     | 360.0 | 245   | 3.21  | 3.570 | 15.84 | 0     | 0     | 3     | 4     |\n",
       "| 24.4  | 4     | 146.7 |  62   | 3.69  | 3.190 | 20.00 | 1     | 0     | 4     | 2     |\n",
       "| 22.8  | 4     | 140.8 |  95   | 3.92  | 3.150 | 22.90 | 1     | 0     | 4     | 2     |\n",
       "| 19.2  | 6     | 167.6 | 123   | 3.92  | 3.440 | 18.30 | 1     | 0     | 4     | 4     |\n",
       "| 17.8  | 6     | 167.6 | 123   | 3.92  | 3.440 | 18.90 | 1     | 0     | 4     | 4     |\n",
       "| 16.4  | 8     | 275.8 | 180   | 3.07  | 4.070 | 17.40 | 0     | 0     | 3     | 3     |\n",
       "| 17.3  | 8     | 275.8 | 180   | 3.07  | 3.730 | 17.60 | 0     | 0     | 3     | 3     |\n",
       "| 15.2  | 8     | 275.8 | 180   | 3.07  | 3.780 | 18.00 | 0     | 0     | 3     | 3     |\n",
       "| 10.4  | 8     | 472.0 | 205   | 2.93  | 5.250 | 17.98 | 0     | 0     | 3     | 4     |\n",
       "| 10.4  | 8     | 460.0 | 215   | 3.00  | 5.424 | 17.82 | 0     | 0     | 3     | 4     |\n",
       "| 14.7  | 8     | 440.0 | 230   | 3.23  | 5.345 | 17.42 | 0     | 0     | 3     | 4     |\n",
       "| 32.4  | 4     |  78.7 |  66   | 4.08  | 2.200 | 19.47 | 1     | 1     | 4     | 1     |\n",
       "| 30.4  | 4     |  75.7 |  52   | 4.93  | 1.615 | 18.52 | 1     | 1     | 4     | 2     |\n",
       "| 33.9  | 4     |  71.1 |  65   | 4.22  | 1.835 | 19.90 | 1     | 1     | 4     | 1     |\n",
       "| 21.5  | 4     | 120.1 |  97   | 3.70  | 2.465 | 20.01 | 1     | 0     | 3     | 1     |\n",
       "| 15.5  | 8     | 318.0 | 150   | 2.76  | 3.520 | 16.87 | 0     | 0     | 3     | 2     |\n",
       "| 15.2  | 8     | 304.0 | 150   | 3.15  | 3.435 | 17.30 | 0     | 0     | 3     | 2     |\n",
       "| 13.3  | 8     | 350.0 | 245   | 3.73  | 3.840 | 15.41 | 0     | 0     | 3     | 4     |\n",
       "| 19.2  | 8     | 400.0 | 175   | 3.08  | 3.845 | 17.05 | 0     | 0     | 3     | 2     |\n",
       "| 27.3  | 4     |  79.0 |  66   | 4.08  | 1.935 | 18.90 | 1     | 1     | 4     | 1     |\n",
       "| 26.0  | 4     | 120.3 |  91   | 4.43  | 2.140 | 16.70 | 0     | 1     | 5     | 2     |\n",
       "| 30.4  | 4     |  95.1 | 113   | 3.77  | 1.513 | 16.90 | 1     | 1     | 5     | 2     |\n",
       "| 15.8  | 8     | 351.0 | 264   | 4.22  | 3.170 | 14.50 | 0     | 1     | 5     | 4     |\n",
       "| 19.7  | 6     | 145.0 | 175   | 3.62  | 2.770 | 15.50 | 0     | 1     | 5     | 6     |\n",
       "| 15.0  | 8     | 301.0 | 335   | 3.54  | 3.570 | 14.60 | 0     | 1     | 5     | 8     |\n",
       "| 21.4  | 4     | 121.0 | 109   | 4.11  | 2.780 | 18.60 | 1     | 1     | 4     | 2     |\n",
       "\n"
      ],
      "text/plain": [
       "   mpg  cyl disp  hp  drat wt    qsec  vs am gear carb\n",
       "1  21.0 6   160.0 110 3.90 2.620 16.46 0  1  4    4   \n",
       "2  21.0 6   160.0 110 3.90 2.875 17.02 0  1  4    4   \n",
       "3  22.8 4   108.0  93 3.85 2.320 18.61 1  1  4    1   \n",
       "4  21.4 6   258.0 110 3.08 3.215 19.44 1  0  3    1   \n",
       "5  18.7 8   360.0 175 3.15 3.440 17.02 0  0  3    2   \n",
       "6  18.1 6   225.0 105 2.76 3.460 20.22 1  0  3    1   \n",
       "7  14.3 8   360.0 245 3.21 3.570 15.84 0  0  3    4   \n",
       "8  24.4 4   146.7  62 3.69 3.190 20.00 1  0  4    2   \n",
       "9  22.8 4   140.8  95 3.92 3.150 22.90 1  0  4    2   \n",
       "10 19.2 6   167.6 123 3.92 3.440 18.30 1  0  4    4   \n",
       "11 17.8 6   167.6 123 3.92 3.440 18.90 1  0  4    4   \n",
       "12 16.4 8   275.8 180 3.07 4.070 17.40 0  0  3    3   \n",
       "13 17.3 8   275.8 180 3.07 3.730 17.60 0  0  3    3   \n",
       "14 15.2 8   275.8 180 3.07 3.780 18.00 0  0  3    3   \n",
       "15 10.4 8   472.0 205 2.93 5.250 17.98 0  0  3    4   \n",
       "16 10.4 8   460.0 215 3.00 5.424 17.82 0  0  3    4   \n",
       "17 14.7 8   440.0 230 3.23 5.345 17.42 0  0  3    4   \n",
       "18 32.4 4    78.7  66 4.08 2.200 19.47 1  1  4    1   \n",
       "19 30.4 4    75.7  52 4.93 1.615 18.52 1  1  4    2   \n",
       "20 33.9 4    71.1  65 4.22 1.835 19.90 1  1  4    1   \n",
       "21 21.5 4   120.1  97 3.70 2.465 20.01 1  0  3    1   \n",
       "22 15.5 8   318.0 150 2.76 3.520 16.87 0  0  3    2   \n",
       "23 15.2 8   304.0 150 3.15 3.435 17.30 0  0  3    2   \n",
       "24 13.3 8   350.0 245 3.73 3.840 15.41 0  0  3    4   \n",
       "25 19.2 8   400.0 175 3.08 3.845 17.05 0  0  3    2   \n",
       "26 27.3 4    79.0  66 4.08 1.935 18.90 1  1  4    1   \n",
       "27 26.0 4   120.3  91 4.43 2.140 16.70 0  1  5    2   \n",
       "28 30.4 4    95.1 113 3.77 1.513 16.90 1  1  5    2   \n",
       "29 15.8 8   351.0 264 4.22 3.170 14.50 0  1  5    4   \n",
       "30 19.7 6   145.0 175 3.62 2.770 15.50 0  1  5    6   \n",
       "31 15.0 8   301.0 335 3.54 3.570 14.60 0  1  5    8   \n",
       "32 21.4 4   121.0 109 4.11 2.780 18.60 1  1  4    2   "
      ]
     },
     "metadata": {},
     "output_type": "display_data"
    }
   ],
   "source": [
    "# Including remote paths\n",
    "read_csv(\"https://github.com/tidyverse/readr/raw/master/inst/extdata/mtcars.csv\")"
   ]
  },
  {
   "cell_type": "code",
   "execution_count": 6,
   "metadata": {},
   "outputs": [
    {
     "data": {
      "text/html": [
       "<table>\n",
       "<thead><tr><th scope=col>x</th><th scope=col>y</th></tr></thead>\n",
       "<tbody>\n",
       "\t<tr><td>1</td><td>2</td></tr>\n",
       "\t<tr><td>3</td><td>4</td></tr>\n",
       "</tbody>\n",
       "</table>\n"
      ],
      "text/latex": [
       "\\begin{tabular}{r|ll}\n",
       " x & y\\\\\n",
       "\\hline\n",
       "\t 1 & 2\\\\\n",
       "\t 3 & 4\\\\\n",
       "\\end{tabular}\n"
      ],
      "text/markdown": [
       "\n",
       "| x | y |\n",
       "|---|---|\n",
       "| 1 | 2 |\n",
       "| 3 | 4 |\n",
       "\n"
      ],
      "text/plain": [
       "  x y\n",
       "1 1 2\n",
       "2 3 4"
      ]
     },
     "metadata": {},
     "output_type": "display_data"
    }
   ],
   "source": [
    "# Or directly from a string (must contain a newline)\n",
    "read_csv(\"x,y\\n1,2\\n3,4\")"
   ]
  },
  {
   "cell_type": "markdown",
   "metadata": {},
   "source": [
    "<hr>"
   ]
  },
  {
   "cell_type": "markdown",
   "metadata": {},
   "source": [
    "**Column types**"
   ]
  },
  {
   "cell_type": "markdown",
   "metadata": {},
   "source": [
    "By default, readr guesses the columns types, looking at the first 1000 rows.\n",
    "You can override with a compact specification:"
   ]
  },
  {
   "cell_type": "code",
   "execution_count": 8,
   "metadata": {},
   "outputs": [
    {
     "name": "stdout",
     "output_type": "stream",
     "text": [
      "Rows: 2\n",
      "Columns: 2\n",
      "$ x <dbl> 1, 3\n",
      "$ y <chr> \"2\", \"4\"\n"
     ]
    }
   ],
   "source": [
    "read_csv(\"x,y\\n1,2\\n3,4\", col_types = 'dc') %>% glimpse()"
   ]
  },
  {
   "cell_type": "markdown",
   "metadata": {},
   "source": [
    "Or with a list of column types:"
   ]
  },
  {
   "cell_type": "code",
   "execution_count": 10,
   "metadata": {},
   "outputs": [
    {
     "name": "stdout",
     "output_type": "stream",
     "text": [
      "Rows: 2\n",
      "Columns: 2\n",
      "$ x <dbl> 1, 3\n",
      "$ y <chr> \"2\", \"4\"\n"
     ]
    }
   ],
   "source": [
    "read_csv(\"x,y\\n1,2\\n3,4\", col_types = list(col_double(), col_character())) %>% glimpse()"
   ]
  },
  {
   "cell_type": "markdown",
   "metadata": {},
   "source": [
    "If there are parsing problems, you get a warning, and can extract\n",
    "more details with **`problems()`**`"
   ]
  },
  {
   "cell_type": "code",
   "execution_count": 12,
   "metadata": {},
   "outputs": [
    {
     "name": "stderr",
     "output_type": "stream",
     "text": [
      "Warning message:\n",
      "\"1 parsing failure.\n",
      "row col expected actual         file\n",
      "  3   x a double      b literal data\n",
      "\""
     ]
    }
   ],
   "source": [
    "df <- read_csv(\"x\\n1\\n2\\nb\", col_types = list(col_double()))"
   ]
  },
  {
   "cell_type": "code",
   "execution_count": 13,
   "metadata": {},
   "outputs": [
    {
     "data": {
      "text/html": [
       "<table>\n",
       "<thead><tr><th scope=col>row</th><th scope=col>col</th><th scope=col>expected</th><th scope=col>actual</th><th scope=col>file</th></tr></thead>\n",
       "<tbody>\n",
       "\t<tr><td>3           </td><td>x           </td><td>a double    </td><td>b           </td><td>literal data</td></tr>\n",
       "</tbody>\n",
       "</table>\n"
      ],
      "text/latex": [
       "\\begin{tabular}{r|lllll}\n",
       " row & col & expected & actual & file\\\\\n",
       "\\hline\n",
       "\t 3            & x            & a double     & b            & literal data\\\\\n",
       "\\end{tabular}\n"
      ],
      "text/markdown": [
       "\n",
       "| row | col | expected | actual | file |\n",
       "|---|---|---|---|---|\n",
       "| 3            | x            | a double     | b            | literal data |\n",
       "\n"
      ],
      "text/plain": [
       "  row col expected actual file        \n",
       "1 3   x   a double b      literal data"
      ]
     },
     "metadata": {},
     "output_type": "display_data"
    }
   ],
   "source": [
    "problems(df)"
   ]
  },
  {
   "cell_type": "markdown",
   "metadata": {},
   "source": [
    "<hr>"
   ]
  },
  {
   "cell_type": "markdown",
   "metadata": {},
   "source": [
    "**File types**"
   ]
  },
  {
   "cell_type": "code",
   "execution_count": 17,
   "metadata": {},
   "outputs": [
    {
     "data": {
      "text/html": [
       "<table>\n",
       "<thead><tr><th scope=col>a</th><th scope=col>b</th></tr></thead>\n",
       "<tbody>\n",
       "\t<tr><td>1</td><td>2</td></tr>\n",
       "</tbody>\n",
       "</table>\n"
      ],
      "text/latex": [
       "\\begin{tabular}{r|ll}\n",
       " a & b\\\\\n",
       "\\hline\n",
       "\t 1 & 2\\\\\n",
       "\\end{tabular}\n"
      ],
      "text/markdown": [
       "\n",
       "| a | b |\n",
       "|---|---|\n",
       "| 1 | 2 |\n",
       "\n"
      ],
      "text/plain": [
       "  a b\n",
       "1 1 2"
      ]
     },
     "metadata": {},
     "output_type": "display_data"
    }
   ],
   "source": [
    "read_csv(\"a,b\\n1.0,2.0\")"
   ]
  },
  {
   "cell_type": "code",
   "execution_count": 19,
   "metadata": {},
   "outputs": [
    {
     "name": "stderr",
     "output_type": "stream",
     "text": [
      "i Using ',' as decimal and '.' as grouping mark. Use `read_delim()` for more control.\n"
     ]
    },
    {
     "data": {
      "text/html": [
       "<table>\n",
       "<thead><tr><th scope=col>a</th><th scope=col>b</th></tr></thead>\n",
       "<tbody>\n",
       "\t<tr><td>1.2</td><td>2.5</td></tr>\n",
       "</tbody>\n",
       "</table>\n"
      ],
      "text/latex": [
       "\\begin{tabular}{r|ll}\n",
       " a & b\\\\\n",
       "\\hline\n",
       "\t 1.2 & 2.5\\\\\n",
       "\\end{tabular}\n"
      ],
      "text/markdown": [
       "\n",
       "| a | b |\n",
       "|---|---|\n",
       "| 1.2 | 2.5 |\n",
       "\n"
      ],
      "text/plain": [
       "  a   b  \n",
       "1 1.2 2.5"
      ]
     },
     "metadata": {},
     "output_type": "display_data"
    }
   ],
   "source": [
    "# using ; to separate fields and using , for decimal point\n",
    "read_csv2(\"a;b\\n1,2;2,5\")"
   ]
  },
  {
   "cell_type": "code",
   "execution_count": 20,
   "metadata": {},
   "outputs": [
    {
     "data": {
      "text/html": [
       "<table>\n",
       "<thead><tr><th scope=col>a</th><th scope=col>b</th></tr></thead>\n",
       "<tbody>\n",
       "\t<tr><td>1</td><td>2</td></tr>\n",
       "</tbody>\n",
       "</table>\n"
      ],
      "text/latex": [
       "\\begin{tabular}{r|ll}\n",
       " a & b\\\\\n",
       "\\hline\n",
       "\t 1 & 2\\\\\n",
       "\\end{tabular}\n"
      ],
      "text/markdown": [
       "\n",
       "| a | b |\n",
       "|---|---|\n",
       "| 1 | 2 |\n",
       "\n"
      ],
      "text/plain": [
       "  a b\n",
       "1 1 2"
      ]
     },
     "metadata": {},
     "output_type": "display_data"
    }
   ],
   "source": [
    "read_tsv(\"a\\tb\\n1.0\\t2.0\")"
   ]
  },
  {
   "cell_type": "code",
   "execution_count": 22,
   "metadata": {},
   "outputs": [
    {
     "data": {
      "text/html": [
       "<table>\n",
       "<thead><tr><th scope=col>a</th><th scope=col>b</th></tr></thead>\n",
       "<tbody>\n",
       "\t<tr><td>1</td><td>2</td></tr>\n",
       "</tbody>\n",
       "</table>\n"
      ],
      "text/latex": [
       "\\begin{tabular}{r|ll}\n",
       " a & b\\\\\n",
       "\\hline\n",
       "\t 1 & 2\\\\\n",
       "\\end{tabular}\n"
      ],
      "text/markdown": [
       "\n",
       "| a | b |\n",
       "|---|---|\n",
       "| 1 | 2 |\n",
       "\n"
      ],
      "text/plain": [
       "  a b\n",
       "1 1 2"
      ]
     },
     "metadata": {},
     "output_type": "display_data"
    }
   ],
   "source": [
    "\n",
    "read_delim(\"a|b\\n1.0|2.0\", delim = '|')"
   ]
  },
  {
   "cell_type": "markdown",
   "metadata": {},
   "source": [
    "# Arguments"
   ]
  },
  {
   "cell_type": "markdown",
   "metadata": {},
   "source": [
    "### `file`\t"
   ]
  },
  {
   "cell_type": "markdown",
   "metadata": {},
   "source": [
    "Either a path to a file, a connection, or literal data (either a single string or a raw vector).\n",
    "\n",
    "Files ending in `.gz`, `.bz2`, `.xz`, or `.zip` will be automatically uncompressed. Files starting with `http://`,`https://`, `ftp://`, or `ftps://` will be automatically downloaded. Remote gz files can also be automatically downloaded and decompressed.\n",
    "\n",
    "Literal data is most useful for examples and tests. It must contain at least one new line to be recognised as data (instead of a path) or be a vector of greater than length 1.\n",
    "\n",
    "Using a value of **`clipboard()`** will read from the system clipboard."
   ]
  },
  {
   "cell_type": "markdown",
   "metadata": {},
   "source": [
    "<hr>"
   ]
  },
  {
   "cell_type": "code",
   "execution_count": 23,
   "metadata": {},
   "outputs": [
    {
     "name": "stderr",
     "output_type": "stream",
     "text": [
      "\n",
      "-- Column specification ------------------------------------------------------------------------------------------------\n",
      "cols(\n",
      "  mpg = col_double(),\n",
      "  cyl = col_double(),\n",
      "  disp = col_double(),\n",
      "  hp = col_double(),\n",
      "  drat = col_double(),\n",
      "  wt = col_double(),\n",
      "  qsec = col_double(),\n",
      "  vs = col_double(),\n",
      "  am = col_double(),\n",
      "  gear = col_double(),\n",
      "  carb = col_double()\n",
      ")\n",
      "\n"
     ]
    },
    {
     "data": {
      "text/html": [
       "<table>\n",
       "<thead><tr><th scope=col>mpg</th><th scope=col>cyl</th><th scope=col>disp</th><th scope=col>hp</th><th scope=col>drat</th><th scope=col>wt</th><th scope=col>qsec</th><th scope=col>vs</th><th scope=col>am</th><th scope=col>gear</th><th scope=col>carb</th></tr></thead>\n",
       "<tbody>\n",
       "\t<tr><td>21.0 </td><td>6    </td><td>160  </td><td>110  </td><td>3.90 </td><td>2.620</td><td>16.46</td><td>0    </td><td>1    </td><td>4    </td><td>4    </td></tr>\n",
       "\t<tr><td>21.0 </td><td>6    </td><td>160  </td><td>110  </td><td>3.90 </td><td>2.875</td><td>17.02</td><td>0    </td><td>1    </td><td>4    </td><td>4    </td></tr>\n",
       "\t<tr><td>22.8 </td><td>4    </td><td>108  </td><td> 93  </td><td>3.85 </td><td>2.320</td><td>18.61</td><td>1    </td><td>1    </td><td>4    </td><td>1    </td></tr>\n",
       "\t<tr><td>21.4 </td><td>6    </td><td>258  </td><td>110  </td><td>3.08 </td><td>3.215</td><td>19.44</td><td>1    </td><td>0    </td><td>3    </td><td>1    </td></tr>\n",
       "\t<tr><td>18.7 </td><td>8    </td><td>360  </td><td>175  </td><td>3.15 </td><td>3.440</td><td>17.02</td><td>0    </td><td>0    </td><td>3    </td><td>2    </td></tr>\n",
       "\t<tr><td>18.1 </td><td>6    </td><td>225  </td><td>105  </td><td>2.76 </td><td>3.460</td><td>20.22</td><td>1    </td><td>0    </td><td>3    </td><td>1    </td></tr>\n",
       "</tbody>\n",
       "</table>\n"
      ],
      "text/latex": [
       "\\begin{tabular}{r|lllllllllll}\n",
       " mpg & cyl & disp & hp & drat & wt & qsec & vs & am & gear & carb\\\\\n",
       "\\hline\n",
       "\t 21.0  & 6     & 160   & 110   & 3.90  & 2.620 & 16.46 & 0     & 1     & 4     & 4    \\\\\n",
       "\t 21.0  & 6     & 160   & 110   & 3.90  & 2.875 & 17.02 & 0     & 1     & 4     & 4    \\\\\n",
       "\t 22.8  & 4     & 108   &  93   & 3.85  & 2.320 & 18.61 & 1     & 1     & 4     & 1    \\\\\n",
       "\t 21.4  & 6     & 258   & 110   & 3.08  & 3.215 & 19.44 & 1     & 0     & 3     & 1    \\\\\n",
       "\t 18.7  & 8     & 360   & 175   & 3.15  & 3.440 & 17.02 & 0     & 0     & 3     & 2    \\\\\n",
       "\t 18.1  & 6     & 225   & 105   & 2.76  & 3.460 & 20.22 & 1     & 0     & 3     & 1    \\\\\n",
       "\\end{tabular}\n"
      ],
      "text/markdown": [
       "\n",
       "| mpg | cyl | disp | hp | drat | wt | qsec | vs | am | gear | carb |\n",
       "|---|---|---|---|---|---|---|---|---|---|---|\n",
       "| 21.0  | 6     | 160   | 110   | 3.90  | 2.620 | 16.46 | 0     | 1     | 4     | 4     |\n",
       "| 21.0  | 6     | 160   | 110   | 3.90  | 2.875 | 17.02 | 0     | 1     | 4     | 4     |\n",
       "| 22.8  | 4     | 108   |  93   | 3.85  | 2.320 | 18.61 | 1     | 1     | 4     | 1     |\n",
       "| 21.4  | 6     | 258   | 110   | 3.08  | 3.215 | 19.44 | 1     | 0     | 3     | 1     |\n",
       "| 18.7  | 8     | 360   | 175   | 3.15  | 3.440 | 17.02 | 0     | 0     | 3     | 2     |\n",
       "| 18.1  | 6     | 225   | 105   | 2.76  | 3.460 | 20.22 | 1     | 0     | 3     | 1     |\n",
       "\n"
      ],
      "text/plain": [
       "  mpg  cyl disp hp  drat wt    qsec  vs am gear carb\n",
       "1 21.0 6   160  110 3.90 2.620 16.46 0  1  4    4   \n",
       "2 21.0 6   160  110 3.90 2.875 17.02 0  1  4    4   \n",
       "3 22.8 4   108   93 3.85 2.320 18.61 1  1  4    1   \n",
       "4 21.4 6   258  110 3.08 3.215 19.44 1  0  3    1   \n",
       "5 18.7 8   360  175 3.15 3.440 17.02 0  0  3    2   \n",
       "6 18.1 6   225  105 2.76 3.460 20.22 1  0  3    1   "
      ]
     },
     "metadata": {},
     "output_type": "display_data"
    }
   ],
   "source": [
    "# a path to a file\n",
    "path <- readr_example('mtcars.csv')\n",
    "\n",
    "read_csv(path) %>% head()"
   ]
  },
  {
   "cell_type": "code",
   "execution_count": 24,
   "metadata": {},
   "outputs": [
    {
     "name": "stderr",
     "output_type": "stream",
     "text": [
      "\n",
      "-- Column specification ------------------------------------------------------------------------------------------------\n",
      "cols(\n",
      "  mpg = col_double(),\n",
      "  cyl = col_double(),\n",
      "  disp = col_double(),\n",
      "  hp = col_double(),\n",
      "  drat = col_double(),\n",
      "  wt = col_double(),\n",
      "  qsec = col_double(),\n",
      "  vs = col_double(),\n",
      "  am = col_double(),\n",
      "  gear = col_double(),\n",
      "  carb = col_double()\n",
      ")\n",
      "\n"
     ]
    },
    {
     "data": {
      "text/html": [
       "<table>\n",
       "<thead><tr><th scope=col>mpg</th><th scope=col>cyl</th><th scope=col>disp</th><th scope=col>hp</th><th scope=col>drat</th><th scope=col>wt</th><th scope=col>qsec</th><th scope=col>vs</th><th scope=col>am</th><th scope=col>gear</th><th scope=col>carb</th></tr></thead>\n",
       "<tbody>\n",
       "\t<tr><td>21.0 </td><td>6    </td><td>160  </td><td>110  </td><td>3.90 </td><td>2.620</td><td>16.46</td><td>0    </td><td>1    </td><td>4    </td><td>4    </td></tr>\n",
       "\t<tr><td>21.0 </td><td>6    </td><td>160  </td><td>110  </td><td>3.90 </td><td>2.875</td><td>17.02</td><td>0    </td><td>1    </td><td>4    </td><td>4    </td></tr>\n",
       "\t<tr><td>22.8 </td><td>4    </td><td>108  </td><td> 93  </td><td>3.85 </td><td>2.320</td><td>18.61</td><td>1    </td><td>1    </td><td>4    </td><td>1    </td></tr>\n",
       "\t<tr><td>21.4 </td><td>6    </td><td>258  </td><td>110  </td><td>3.08 </td><td>3.215</td><td>19.44</td><td>1    </td><td>0    </td><td>3    </td><td>1    </td></tr>\n",
       "\t<tr><td>18.7 </td><td>8    </td><td>360  </td><td>175  </td><td>3.15 </td><td>3.440</td><td>17.02</td><td>0    </td><td>0    </td><td>3    </td><td>2    </td></tr>\n",
       "\t<tr><td>18.1 </td><td>6    </td><td>225  </td><td>105  </td><td>2.76 </td><td>3.460</td><td>20.22</td><td>1    </td><td>0    </td><td>3    </td><td>1    </td></tr>\n",
       "</tbody>\n",
       "</table>\n"
      ],
      "text/latex": [
       "\\begin{tabular}{r|lllllllllll}\n",
       " mpg & cyl & disp & hp & drat & wt & qsec & vs & am & gear & carb\\\\\n",
       "\\hline\n",
       "\t 21.0  & 6     & 160   & 110   & 3.90  & 2.620 & 16.46 & 0     & 1     & 4     & 4    \\\\\n",
       "\t 21.0  & 6     & 160   & 110   & 3.90  & 2.875 & 17.02 & 0     & 1     & 4     & 4    \\\\\n",
       "\t 22.8  & 4     & 108   &  93   & 3.85  & 2.320 & 18.61 & 1     & 1     & 4     & 1    \\\\\n",
       "\t 21.4  & 6     & 258   & 110   & 3.08  & 3.215 & 19.44 & 1     & 0     & 3     & 1    \\\\\n",
       "\t 18.7  & 8     & 360   & 175   & 3.15  & 3.440 & 17.02 & 0     & 0     & 3     & 2    \\\\\n",
       "\t 18.1  & 6     & 225   & 105   & 2.76  & 3.460 & 20.22 & 1     & 0     & 3     & 1    \\\\\n",
       "\\end{tabular}\n"
      ],
      "text/markdown": [
       "\n",
       "| mpg | cyl | disp | hp | drat | wt | qsec | vs | am | gear | carb |\n",
       "|---|---|---|---|---|---|---|---|---|---|---|\n",
       "| 21.0  | 6     | 160   | 110   | 3.90  | 2.620 | 16.46 | 0     | 1     | 4     | 4     |\n",
       "| 21.0  | 6     | 160   | 110   | 3.90  | 2.875 | 17.02 | 0     | 1     | 4     | 4     |\n",
       "| 22.8  | 4     | 108   |  93   | 3.85  | 2.320 | 18.61 | 1     | 1     | 4     | 1     |\n",
       "| 21.4  | 6     | 258   | 110   | 3.08  | 3.215 | 19.44 | 1     | 0     | 3     | 1     |\n",
       "| 18.7  | 8     | 360   | 175   | 3.15  | 3.440 | 17.02 | 0     | 0     | 3     | 2     |\n",
       "| 18.1  | 6     | 225   | 105   | 2.76  | 3.460 | 20.22 | 1     | 0     | 3     | 1     |\n",
       "\n"
      ],
      "text/plain": [
       "  mpg  cyl disp hp  drat wt    qsec  vs am gear carb\n",
       "1 21.0 6   160  110 3.90 2.620 16.46 0  1  4    4   \n",
       "2 21.0 6   160  110 3.90 2.875 17.02 0  1  4    4   \n",
       "3 22.8 4   108   93 3.85 2.320 18.61 1  1  4    1   \n",
       "4 21.4 6   258  110 3.08 3.215 19.44 1  0  3    1   \n",
       "5 18.7 8   360  175 3.15 3.440 17.02 0  0  3    2   \n",
       "6 18.1 6   225  105 2.76 3.460 20.22 1  0  3    1   "
      ]
     },
     "metadata": {},
     "output_type": "display_data"
    }
   ],
   "source": [
    "# a connection\n",
    "read_csv(\"https://github.com/tidyverse/readr/raw/master/inst/extdata/mtcars.csv\") %>% head()"
   ]
  },
  {
   "cell_type": "code",
   "execution_count": 27,
   "metadata": {},
   "outputs": [
    {
     "name": "stderr",
     "output_type": "stream",
     "text": [
      "\n",
      "-- Column specification ------------------------------------------------------------------------------------------------\n",
      "cols(\n",
      "  mpg = col_double(),\n",
      "  cyl = col_double(),\n",
      "  disp = col_double(),\n",
      "  hp = col_double(),\n",
      "  drat = col_double(),\n",
      "  wt = col_double(),\n",
      "  qsec = col_double(),\n",
      "  vs = col_double(),\n",
      "  am = col_double(),\n",
      "  gear = col_double(),\n",
      "  carb = col_double()\n",
      ")\n",
      "\n"
     ]
    },
    {
     "data": {
      "text/html": [
       "<table>\n",
       "<thead><tr><th scope=col>mpg</th><th scope=col>cyl</th><th scope=col>disp</th><th scope=col>hp</th><th scope=col>drat</th><th scope=col>wt</th><th scope=col>qsec</th><th scope=col>vs</th><th scope=col>am</th><th scope=col>gear</th><th scope=col>carb</th></tr></thead>\n",
       "<tbody>\n",
       "\t<tr><td>21.0 </td><td>6    </td><td>160  </td><td>110  </td><td>3.90 </td><td>2.620</td><td>16.46</td><td>0    </td><td>1    </td><td>4    </td><td>4    </td></tr>\n",
       "\t<tr><td>21.0 </td><td>6    </td><td>160  </td><td>110  </td><td>3.90 </td><td>2.875</td><td>17.02</td><td>0    </td><td>1    </td><td>4    </td><td>4    </td></tr>\n",
       "\t<tr><td>22.8 </td><td>4    </td><td>108  </td><td> 93  </td><td>3.85 </td><td>2.320</td><td>18.61</td><td>1    </td><td>1    </td><td>4    </td><td>1    </td></tr>\n",
       "\t<tr><td>21.4 </td><td>6    </td><td>258  </td><td>110  </td><td>3.08 </td><td>3.215</td><td>19.44</td><td>1    </td><td>0    </td><td>3    </td><td>1    </td></tr>\n",
       "\t<tr><td>18.7 </td><td>8    </td><td>360  </td><td>175  </td><td>3.15 </td><td>3.440</td><td>17.02</td><td>0    </td><td>0    </td><td>3    </td><td>2    </td></tr>\n",
       "\t<tr><td>18.1 </td><td>6    </td><td>225  </td><td>105  </td><td>2.76 </td><td>3.460</td><td>20.22</td><td>1    </td><td>0    </td><td>3    </td><td>1    </td></tr>\n",
       "</tbody>\n",
       "</table>\n"
      ],
      "text/latex": [
       "\\begin{tabular}{r|lllllllllll}\n",
       " mpg & cyl & disp & hp & drat & wt & qsec & vs & am & gear & carb\\\\\n",
       "\\hline\n",
       "\t 21.0  & 6     & 160   & 110   & 3.90  & 2.620 & 16.46 & 0     & 1     & 4     & 4    \\\\\n",
       "\t 21.0  & 6     & 160   & 110   & 3.90  & 2.875 & 17.02 & 0     & 1     & 4     & 4    \\\\\n",
       "\t 22.8  & 4     & 108   &  93   & 3.85  & 2.320 & 18.61 & 1     & 1     & 4     & 1    \\\\\n",
       "\t 21.4  & 6     & 258   & 110   & 3.08  & 3.215 & 19.44 & 1     & 0     & 3     & 1    \\\\\n",
       "\t 18.7  & 8     & 360   & 175   & 3.15  & 3.440 & 17.02 & 0     & 0     & 3     & 2    \\\\\n",
       "\t 18.1  & 6     & 225   & 105   & 2.76  & 3.460 & 20.22 & 1     & 0     & 3     & 1    \\\\\n",
       "\\end{tabular}\n"
      ],
      "text/markdown": [
       "\n",
       "| mpg | cyl | disp | hp | drat | wt | qsec | vs | am | gear | carb |\n",
       "|---|---|---|---|---|---|---|---|---|---|---|\n",
       "| 21.0  | 6     | 160   | 110   | 3.90  | 2.620 | 16.46 | 0     | 1     | 4     | 4     |\n",
       "| 21.0  | 6     | 160   | 110   | 3.90  | 2.875 | 17.02 | 0     | 1     | 4     | 4     |\n",
       "| 22.8  | 4     | 108   |  93   | 3.85  | 2.320 | 18.61 | 1     | 1     | 4     | 1     |\n",
       "| 21.4  | 6     | 258   | 110   | 3.08  | 3.215 | 19.44 | 1     | 0     | 3     | 1     |\n",
       "| 18.7  | 8     | 360   | 175   | 3.15  | 3.440 | 17.02 | 0     | 0     | 3     | 2     |\n",
       "| 18.1  | 6     | 225   | 105   | 2.76  | 3.460 | 20.22 | 1     | 0     | 3     | 1     |\n",
       "\n"
      ],
      "text/plain": [
       "  mpg  cyl disp hp  drat wt    qsec  vs am gear carb\n",
       "1 21.0 6   160  110 3.90 2.620 16.46 0  1  4    4   \n",
       "2 21.0 6   160  110 3.90 2.875 17.02 0  1  4    4   \n",
       "3 22.8 4   108   93 3.85 2.320 18.61 1  1  4    1   \n",
       "4 21.4 6   258  110 3.08 3.215 19.44 1  0  3    1   \n",
       "5 18.7 8   360  175 3.15 3.440 17.02 0  0  3    2   \n",
       "6 18.1 6   225  105 2.76 3.460 20.22 1  0  3    1   "
      ]
     },
     "metadata": {},
     "output_type": "display_data"
    },
    {
     "name": "stderr",
     "output_type": "stream",
     "text": [
      "\n",
      "-- Column specification ------------------------------------------------------------------------------------------------\n",
      "cols(\n",
      "  mpg = col_double(),\n",
      "  cyl = col_double(),\n",
      "  disp = col_double(),\n",
      "  hp = col_double(),\n",
      "  drat = col_double(),\n",
      "  wt = col_double(),\n",
      "  qsec = col_double(),\n",
      "  vs = col_double(),\n",
      "  am = col_double(),\n",
      "  gear = col_double(),\n",
      "  carb = col_double()\n",
      ")\n",
      "\n"
     ]
    },
    {
     "data": {
      "text/html": [
       "<table>\n",
       "<thead><tr><th scope=col>mpg</th><th scope=col>cyl</th><th scope=col>disp</th><th scope=col>hp</th><th scope=col>drat</th><th scope=col>wt</th><th scope=col>qsec</th><th scope=col>vs</th><th scope=col>am</th><th scope=col>gear</th><th scope=col>carb</th></tr></thead>\n",
       "<tbody>\n",
       "\t<tr><td>21.0 </td><td>6    </td><td>160  </td><td>110  </td><td>3.90 </td><td>2.620</td><td>16.46</td><td>0    </td><td>1    </td><td>4    </td><td>4    </td></tr>\n",
       "\t<tr><td>21.0 </td><td>6    </td><td>160  </td><td>110  </td><td>3.90 </td><td>2.875</td><td>17.02</td><td>0    </td><td>1    </td><td>4    </td><td>4    </td></tr>\n",
       "\t<tr><td>22.8 </td><td>4    </td><td>108  </td><td> 93  </td><td>3.85 </td><td>2.320</td><td>18.61</td><td>1    </td><td>1    </td><td>4    </td><td>1    </td></tr>\n",
       "\t<tr><td>21.4 </td><td>6    </td><td>258  </td><td>110  </td><td>3.08 </td><td>3.215</td><td>19.44</td><td>1    </td><td>0    </td><td>3    </td><td>1    </td></tr>\n",
       "\t<tr><td>18.7 </td><td>8    </td><td>360  </td><td>175  </td><td>3.15 </td><td>3.440</td><td>17.02</td><td>0    </td><td>0    </td><td>3    </td><td>2    </td></tr>\n",
       "\t<tr><td>18.1 </td><td>6    </td><td>225  </td><td>105  </td><td>2.76 </td><td>3.460</td><td>20.22</td><td>1    </td><td>0    </td><td>3    </td><td>1    </td></tr>\n",
       "</tbody>\n",
       "</table>\n"
      ],
      "text/latex": [
       "\\begin{tabular}{r|lllllllllll}\n",
       " mpg & cyl & disp & hp & drat & wt & qsec & vs & am & gear & carb\\\\\n",
       "\\hline\n",
       "\t 21.0  & 6     & 160   & 110   & 3.90  & 2.620 & 16.46 & 0     & 1     & 4     & 4    \\\\\n",
       "\t 21.0  & 6     & 160   & 110   & 3.90  & 2.875 & 17.02 & 0     & 1     & 4     & 4    \\\\\n",
       "\t 22.8  & 4     & 108   &  93   & 3.85  & 2.320 & 18.61 & 1     & 1     & 4     & 1    \\\\\n",
       "\t 21.4  & 6     & 258   & 110   & 3.08  & 3.215 & 19.44 & 1     & 0     & 3     & 1    \\\\\n",
       "\t 18.7  & 8     & 360   & 175   & 3.15  & 3.440 & 17.02 & 0     & 0     & 3     & 2    \\\\\n",
       "\t 18.1  & 6     & 225   & 105   & 2.76  & 3.460 & 20.22 & 1     & 0     & 3     & 1    \\\\\n",
       "\\end{tabular}\n"
      ],
      "text/markdown": [
       "\n",
       "| mpg | cyl | disp | hp | drat | wt | qsec | vs | am | gear | carb |\n",
       "|---|---|---|---|---|---|---|---|---|---|---|\n",
       "| 21.0  | 6     | 160   | 110   | 3.90  | 2.620 | 16.46 | 0     | 1     | 4     | 4     |\n",
       "| 21.0  | 6     | 160   | 110   | 3.90  | 2.875 | 17.02 | 0     | 1     | 4     | 4     |\n",
       "| 22.8  | 4     | 108   |  93   | 3.85  | 2.320 | 18.61 | 1     | 1     | 4     | 1     |\n",
       "| 21.4  | 6     | 258   | 110   | 3.08  | 3.215 | 19.44 | 1     | 0     | 3     | 1     |\n",
       "| 18.7  | 8     | 360   | 175   | 3.15  | 3.440 | 17.02 | 0     | 0     | 3     | 2     |\n",
       "| 18.1  | 6     | 225   | 105   | 2.76  | 3.460 | 20.22 | 1     | 0     | 3     | 1     |\n",
       "\n"
      ],
      "text/plain": [
       "  mpg  cyl disp hp  drat wt    qsec  vs am gear carb\n",
       "1 21.0 6   160  110 3.90 2.620 16.46 0  1  4    4   \n",
       "2 21.0 6   160  110 3.90 2.875 17.02 0  1  4    4   \n",
       "3 22.8 4   108   93 3.85 2.320 18.61 1  1  4    1   \n",
       "4 21.4 6   258  110 3.08 3.215 19.44 1  0  3    1   \n",
       "5 18.7 8   360  175 3.15 3.440 17.02 0  0  3    2   \n",
       "6 18.1 6   225  105 2.76 3.460 20.22 1  0  3    1   "
      ]
     },
     "metadata": {},
     "output_type": "display_data"
    }
   ],
   "source": [
    "# zip, bz files\n",
    "read_csv(readr_example('mtcars.csv.bz2')) %>% head()\n",
    "\n",
    "read_csv(readr_example('mtcars.csv.zip')) %>% head()"
   ]
  },
  {
   "cell_type": "code",
   "execution_count": 30,
   "metadata": {},
   "outputs": [
    {
     "data": {
      "text/html": [
       "<table>\n",
       "<thead><tr><th scope=col>a</th><th scope=col>b</th></tr></thead>\n",
       "<tbody>\n",
       "\t<tr><td>1</td><td>2</td></tr>\n",
       "</tbody>\n",
       "</table>\n"
      ],
      "text/latex": [
       "\\begin{tabular}{r|ll}\n",
       " a & b\\\\\n",
       "\\hline\n",
       "\t 1 & 2\\\\\n",
       "\\end{tabular}\n"
      ],
      "text/markdown": [
       "\n",
       "| a | b |\n",
       "|---|---|\n",
       "| 1 | 2 |\n",
       "\n"
      ],
      "text/plain": [
       "  a b\n",
       "1 1 2"
      ]
     },
     "metadata": {},
     "output_type": "display_data"
    }
   ],
   "source": [
    "# string literal\n",
    "\n",
    "read_csv(\"a,b\\n1.0,2.0\")"
   ]
  },
  {
   "cell_type": "markdown",
   "metadata": {},
   "source": [
    "### `delim`"
   ]
  },
  {
   "cell_type": "markdown",
   "metadata": {},
   "source": [
    "\t\n",
    "Single character used to separate fields within a record."
   ]
  },
  {
   "cell_type": "markdown",
   "metadata": {},
   "source": [
    "<hr>"
   ]
  },
  {
   "cell_type": "code",
   "execution_count": 32,
   "metadata": {},
   "outputs": [
    {
     "name": "stderr",
     "output_type": "stream",
     "text": [
      "\n",
      "-- Column specification ------------------------------------------------------------------------------------------------\n",
      "cols(\n",
      "  mpg = col_double(),\n",
      "  cyl = col_double(),\n",
      "  disp = col_double(),\n",
      "  hp = col_double(),\n",
      "  drat = col_double(),\n",
      "  wt = col_double(),\n",
      "  qsec = col_double(),\n",
      "  vs = col_double(),\n",
      "  am = col_double(),\n",
      "  gear = col_double(),\n",
      "  carb = col_double()\n",
      ")\n",
      "\n"
     ]
    },
    {
     "data": {
      "text/html": [
       "<table>\n",
       "<thead><tr><th scope=col>mpg</th><th scope=col>cyl</th><th scope=col>disp</th><th scope=col>hp</th><th scope=col>drat</th><th scope=col>wt</th><th scope=col>qsec</th><th scope=col>vs</th><th scope=col>am</th><th scope=col>gear</th><th scope=col>carb</th></tr></thead>\n",
       "<tbody>\n",
       "\t<tr><td>21.0 </td><td>6    </td><td>160  </td><td>110  </td><td>3.90 </td><td>2.620</td><td>16.46</td><td>0    </td><td>1    </td><td>4    </td><td>4    </td></tr>\n",
       "\t<tr><td>21.0 </td><td>6    </td><td>160  </td><td>110  </td><td>3.90 </td><td>2.875</td><td>17.02</td><td>0    </td><td>1    </td><td>4    </td><td>4    </td></tr>\n",
       "\t<tr><td>22.8 </td><td>4    </td><td>108  </td><td> 93  </td><td>3.85 </td><td>2.320</td><td>18.61</td><td>1    </td><td>1    </td><td>4    </td><td>1    </td></tr>\n",
       "\t<tr><td>21.4 </td><td>6    </td><td>258  </td><td>110  </td><td>3.08 </td><td>3.215</td><td>19.44</td><td>1    </td><td>0    </td><td>3    </td><td>1    </td></tr>\n",
       "\t<tr><td>18.7 </td><td>8    </td><td>360  </td><td>175  </td><td>3.15 </td><td>3.440</td><td>17.02</td><td>0    </td><td>0    </td><td>3    </td><td>2    </td></tr>\n",
       "\t<tr><td>18.1 </td><td>6    </td><td>225  </td><td>105  </td><td>2.76 </td><td>3.460</td><td>20.22</td><td>1    </td><td>0    </td><td>3    </td><td>1    </td></tr>\n",
       "</tbody>\n",
       "</table>\n"
      ],
      "text/latex": [
       "\\begin{tabular}{r|lllllllllll}\n",
       " mpg & cyl & disp & hp & drat & wt & qsec & vs & am & gear & carb\\\\\n",
       "\\hline\n",
       "\t 21.0  & 6     & 160   & 110   & 3.90  & 2.620 & 16.46 & 0     & 1     & 4     & 4    \\\\\n",
       "\t 21.0  & 6     & 160   & 110   & 3.90  & 2.875 & 17.02 & 0     & 1     & 4     & 4    \\\\\n",
       "\t 22.8  & 4     & 108   &  93   & 3.85  & 2.320 & 18.61 & 1     & 1     & 4     & 1    \\\\\n",
       "\t 21.4  & 6     & 258   & 110   & 3.08  & 3.215 & 19.44 & 1     & 0     & 3     & 1    \\\\\n",
       "\t 18.7  & 8     & 360   & 175   & 3.15  & 3.440 & 17.02 & 0     & 0     & 3     & 2    \\\\\n",
       "\t 18.1  & 6     & 225   & 105   & 2.76  & 3.460 & 20.22 & 1     & 0     & 3     & 1    \\\\\n",
       "\\end{tabular}\n"
      ],
      "text/markdown": [
       "\n",
       "| mpg | cyl | disp | hp | drat | wt | qsec | vs | am | gear | carb |\n",
       "|---|---|---|---|---|---|---|---|---|---|---|\n",
       "| 21.0  | 6     | 160   | 110   | 3.90  | 2.620 | 16.46 | 0     | 1     | 4     | 4     |\n",
       "| 21.0  | 6     | 160   | 110   | 3.90  | 2.875 | 17.02 | 0     | 1     | 4     | 4     |\n",
       "| 22.8  | 4     | 108   |  93   | 3.85  | 2.320 | 18.61 | 1     | 1     | 4     | 1     |\n",
       "| 21.4  | 6     | 258   | 110   | 3.08  | 3.215 | 19.44 | 1     | 0     | 3     | 1     |\n",
       "| 18.7  | 8     | 360   | 175   | 3.15  | 3.440 | 17.02 | 0     | 0     | 3     | 2     |\n",
       "| 18.1  | 6     | 225   | 105   | 2.76  | 3.460 | 20.22 | 1     | 0     | 3     | 1     |\n",
       "\n"
      ],
      "text/plain": [
       "  mpg  cyl disp hp  drat wt    qsec  vs am gear carb\n",
       "1 21.0 6   160  110 3.90 2.620 16.46 0  1  4    4   \n",
       "2 21.0 6   160  110 3.90 2.875 17.02 0  1  4    4   \n",
       "3 22.8 4   108   93 3.85 2.320 18.61 1  1  4    1   \n",
       "4 21.4 6   258  110 3.08 3.215 19.44 1  0  3    1   \n",
       "5 18.7 8   360  175 3.15 3.440 17.02 0  0  3    2   \n",
       "6 18.1 6   225  105 2.76 3.460 20.22 1  0  3    1   "
      ]
     },
     "metadata": {},
     "output_type": "display_data"
    }
   ],
   "source": [
    "# comma seperated value (csv)\n",
    "\n",
    "read_delim(path, delim = ',') %>% head()\n",
    "# equivalent\n",
    "# read_csv(path)"
   ]
  },
  {
   "cell_type": "code",
   "execution_count": 35,
   "metadata": {},
   "outputs": [
    {
     "data": {
      "text/html": [
       "<table>\n",
       "<thead><tr><th scope=col>a</th><th scope=col>b</th></tr></thead>\n",
       "<tbody>\n",
       "\t<tr><td>1</td><td>2</td></tr>\n",
       "</tbody>\n",
       "</table>\n"
      ],
      "text/latex": [
       "\\begin{tabular}{r|ll}\n",
       " a & b\\\\\n",
       "\\hline\n",
       "\t 1 & 2\\\\\n",
       "\\end{tabular}\n"
      ],
      "text/markdown": [
       "\n",
       "| a | b |\n",
       "|---|---|\n",
       "| 1 | 2 |\n",
       "\n"
      ],
      "text/plain": [
       "  a b\n",
       "1 1 2"
      ]
     },
     "metadata": {},
     "output_type": "display_data"
    }
   ],
   "source": [
    "# tab separated value\n",
    "read_delim(\"a\\tb\\n1.0\\t2.0\", delim = '\\t') \n",
    "# equivalent\n",
    "# read_tsv(\"a\\tb\\n1.0\\t2.0\")"
   ]
  },
  {
   "cell_type": "markdown",
   "metadata": {},
   "source": [
    "### `quote`\t"
   ]
  },
  {
   "cell_type": "markdown",
   "metadata": {},
   "source": [
    "Single character used to quote strings."
   ]
  },
  {
   "cell_type": "markdown",
   "metadata": {},
   "source": [
    "<hr>"
   ]
  },
  {
   "cell_type": "markdown",
   "metadata": {},
   "source": [
    "Sometimes strings in a CSV file contain commas. To prevent them from causing problems they need to be surrounded by a quoting character, like \" or '"
   ]
  },
  {
   "cell_type": "code",
   "execution_count": 5,
   "metadata": {},
   "outputs": [
    {
     "data": {
      "text/html": [
       "<table>\n",
       "<thead><tr><th scope=col>x</th><th scope=col>y</th></tr></thead>\n",
       "<tbody>\n",
       "\t<tr><td>1  </td><td>a,b</td></tr>\n",
       "</tbody>\n",
       "</table>\n"
      ],
      "text/latex": [
       "\\begin{tabular}{r|ll}\n",
       " x & y\\\\\n",
       "\\hline\n",
       "\t 1   & a,b\\\\\n",
       "\\end{tabular}\n"
      ],
      "text/markdown": [
       "\n",
       "| x | y |\n",
       "|---|---|\n",
       "| 1   | a,b |\n",
       "\n"
      ],
      "text/plain": [
       "  x y  \n",
       "1 1 a,b"
      ]
     },
     "metadata": {},
     "output_type": "display_data"
    }
   ],
   "source": [
    "read_csv(\"x,y\\n1,'a,b'\", quote = \"'\")"
   ]
  },
  {
   "cell_type": "code",
   "execution_count": 39,
   "metadata": {},
   "outputs": [
    {
     "data": {
      "text/html": [
       "<table>\n",
       "<thead><tr><th scope=col>name</th><th scope=col>clan</th></tr></thead>\n",
       "<tbody>\n",
       "\t<tr><td>'VN Pikachu'  </td><td>'VN Champions'</td></tr>\n",
       "</tbody>\n",
       "</table>\n"
      ],
      "text/latex": [
       "\\begin{tabular}{r|ll}\n",
       " name & clan\\\\\n",
       "\\hline\n",
       "\t 'VN Pikachu'   & 'VN Champions'\\\\\n",
       "\\end{tabular}\n"
      ],
      "text/markdown": [
       "\n",
       "| name | clan |\n",
       "|---|---|\n",
       "| 'VN Pikachu'   | 'VN Champions' |\n",
       "\n"
      ],
      "text/plain": [
       "  name         clan          \n",
       "1 'VN Pikachu' 'VN Champions'"
      ]
     },
     "metadata": {},
     "output_type": "display_data"
    }
   ],
   "source": [
    "# default\n",
    "read_csv(\"name,clan\\n'VN Pikachu', 'VN Champions'\", quote = '\\\"')"
   ]
  },
  {
   "cell_type": "code",
   "execution_count": 38,
   "metadata": {},
   "outputs": [
    {
     "data": {
      "text/html": [
       "<table>\n",
       "<thead><tr><th scope=col>name</th><th scope=col>clan</th></tr></thead>\n",
       "<tbody>\n",
       "\t<tr><td>VN Pikachu  </td><td>VN Champions</td></tr>\n",
       "</tbody>\n",
       "</table>\n"
      ],
      "text/latex": [
       "\\begin{tabular}{r|ll}\n",
       " name & clan\\\\\n",
       "\\hline\n",
       "\t VN Pikachu   & VN Champions\\\\\n",
       "\\end{tabular}\n"
      ],
      "text/markdown": [
       "\n",
       "| name | clan |\n",
       "|---|---|\n",
       "| VN Pikachu   | VN Champions |\n",
       "\n"
      ],
      "text/plain": [
       "  name       clan        \n",
       "1 VN Pikachu VN Champions"
      ]
     },
     "metadata": {},
     "output_type": "display_data"
    }
   ],
   "source": [
    "read_csv(\"name,clan\\n'VN Pikachu', 'VN Champions'\", quote = '\\'')"
   ]
  },
  {
   "cell_type": "markdown",
   "metadata": {},
   "source": [
    "### `escape_backslash`\t"
   ]
  },
  {
   "cell_type": "markdown",
   "metadata": {},
   "source": [
    "Does the file use backslashes to escape special characters? This is more general than escape_double as backslashes can be used to escape the delimiter character, the quote character, or to add special characters like \\\\n."
   ]
  },
  {
   "cell_type": "markdown",
   "metadata": {},
   "source": [
    "### `escape_double`\t"
   ]
  },
  {
   "cell_type": "markdown",
   "metadata": {},
   "source": [
    "Does the file escape quotes by doubling them? i.e. If this option is TRUE, the value \"\"\"\" represents a single quote, \\\"."
   ]
  },
  {
   "cell_type": "markdown",
   "metadata": {},
   "source": [
    "### `col_names`"
   ]
  },
  {
   "cell_type": "markdown",
   "metadata": {},
   "source": [
    "\n",
    "Either `TRUE`, `FALSE` or a character vector of column names."
   ]
  },
  {
   "cell_type": "markdown",
   "metadata": {},
   "source": [
    "<hr>"
   ]
  },
  {
   "cell_type": "markdown",
   "metadata": {},
   "source": [
    "If TRUE, the first row of the input will be used as the column names, and will not be included in the data frame"
   ]
  },
  {
   "cell_type": "code",
   "execution_count": 41,
   "metadata": {},
   "outputs": [],
   "source": [
    "file_data <- 'name,clan\\nVN Pikachu,VN Champions'"
   ]
  },
  {
   "cell_type": "code",
   "execution_count": 42,
   "metadata": {},
   "outputs": [
    {
     "data": {
      "text/html": [
       "<table>\n",
       "<thead><tr><th scope=col>name</th><th scope=col>clan</th></tr></thead>\n",
       "<tbody>\n",
       "\t<tr><td>VN Pikachu  </td><td>VN Champions</td></tr>\n",
       "</tbody>\n",
       "</table>\n"
      ],
      "text/latex": [
       "\\begin{tabular}{r|ll}\n",
       " name & clan\\\\\n",
       "\\hline\n",
       "\t VN Pikachu   & VN Champions\\\\\n",
       "\\end{tabular}\n"
      ],
      "text/markdown": [
       "\n",
       "| name | clan |\n",
       "|---|---|\n",
       "| VN Pikachu   | VN Champions |\n",
       "\n"
      ],
      "text/plain": [
       "  name       clan        \n",
       "1 VN Pikachu VN Champions"
      ]
     },
     "metadata": {},
     "output_type": "display_data"
    }
   ],
   "source": [
    "read_csv(file_data, col_names = T)"
   ]
  },
  {
   "cell_type": "markdown",
   "metadata": {},
   "source": [
    "If FALSE, column names will be generated automatically: X1, X2, X3 etc."
   ]
  },
  {
   "cell_type": "code",
   "execution_count": 43,
   "metadata": {},
   "outputs": [
    {
     "data": {
      "text/html": [
       "<table>\n",
       "<thead><tr><th scope=col>X1</th><th scope=col>X2</th></tr></thead>\n",
       "<tbody>\n",
       "\t<tr><td>name        </td><td>clan        </td></tr>\n",
       "\t<tr><td>VN Pikachu  </td><td>VN Champions</td></tr>\n",
       "</tbody>\n",
       "</table>\n"
      ],
      "text/latex": [
       "\\begin{tabular}{r|ll}\n",
       " X1 & X2\\\\\n",
       "\\hline\n",
       "\t name         & clan        \\\\\n",
       "\t VN Pikachu   & VN Champions\\\\\n",
       "\\end{tabular}\n"
      ],
      "text/markdown": [
       "\n",
       "| X1 | X2 |\n",
       "|---|---|\n",
       "| name         | clan         |\n",
       "| VN Pikachu   | VN Champions |\n",
       "\n"
      ],
      "text/plain": [
       "  X1         X2          \n",
       "1 name       clan        \n",
       "2 VN Pikachu VN Champions"
      ]
     },
     "metadata": {},
     "output_type": "display_data"
    }
   ],
   "source": [
    "read_csv(file_data, col_names = F)"
   ]
  },
  {
   "cell_type": "markdown",
   "metadata": {},
   "source": [
    "If `col_names` is a character vector, the values will be used as the names of the columns, and the first row of the input will be read into the first row of the output data frame."
   ]
  },
  {
   "cell_type": "code",
   "execution_count": 44,
   "metadata": {},
   "outputs": [
    {
     "data": {
      "text/html": [
       "<table>\n",
       "<thead><tr><th scope=col>First column</th><th scope=col>Second column</th></tr></thead>\n",
       "<tbody>\n",
       "\t<tr><td>name        </td><td>clan        </td></tr>\n",
       "\t<tr><td>VN Pikachu  </td><td>VN Champions</td></tr>\n",
       "</tbody>\n",
       "</table>\n"
      ],
      "text/latex": [
       "\\begin{tabular}{r|ll}\n",
       " First column & Second column\\\\\n",
       "\\hline\n",
       "\t name         & clan        \\\\\n",
       "\t VN Pikachu   & VN Champions\\\\\n",
       "\\end{tabular}\n"
      ],
      "text/markdown": [
       "\n",
       "| First column | Second column |\n",
       "|---|---|\n",
       "| name         | clan         |\n",
       "| VN Pikachu   | VN Champions |\n",
       "\n"
      ],
      "text/plain": [
       "  First column Second column\n",
       "1 name         clan         \n",
       "2 VN Pikachu   VN Champions "
      ]
     },
     "metadata": {},
     "output_type": "display_data"
    }
   ],
   "source": [
    "read_csv(file_data, col_names = c('First column', 'Second column'))"
   ]
  },
  {
   "cell_type": "markdown",
   "metadata": {},
   "source": [
    "Missing (`NA`) column names will generate a warning, and be filled in with dummy names X1, X2 etc. "
   ]
  },
  {
   "cell_type": "code",
   "execution_count": 45,
   "metadata": {},
   "outputs": [
    {
     "name": "stderr",
     "output_type": "stream",
     "text": [
      "Warning message:\n",
      "\"Missing column names filled in: 'X2' [2]\""
     ]
    },
    {
     "data": {
      "text/html": [
       "<table>\n",
       "<thead><tr><th scope=col>name</th><th scope=col>X2</th></tr></thead>\n",
       "<tbody>\n",
       "\t<tr><td>VN Pikachu  </td><td>VN Champions</td></tr>\n",
       "</tbody>\n",
       "</table>\n"
      ],
      "text/latex": [
       "\\begin{tabular}{r|ll}\n",
       " name & X2\\\\\n",
       "\\hline\n",
       "\t VN Pikachu   & VN Champions\\\\\n",
       "\\end{tabular}\n"
      ],
      "text/markdown": [
       "\n",
       "| name | X2 |\n",
       "|---|---|\n",
       "| VN Pikachu   | VN Champions |\n",
       "\n"
      ],
      "text/plain": [
       "  name       X2          \n",
       "1 VN Pikachu VN Champions"
      ]
     },
     "metadata": {},
     "output_type": "display_data"
    }
   ],
   "source": [
    "read_csv('name,\\nVN Pikachu,VN Champions')"
   ]
  },
  {
   "cell_type": "markdown",
   "metadata": {},
   "source": [
    "Duplicate column names will generate a warning and be made unique with a numeric suffix."
   ]
  },
  {
   "cell_type": "code",
   "execution_count": 46,
   "metadata": {},
   "outputs": [
    {
     "name": "stderr",
     "output_type": "stream",
     "text": [
      "Warning message:\n",
      "\"Duplicated column names deduplicated: 'name' => 'name_1' [2]\""
     ]
    },
    {
     "data": {
      "text/html": [
       "<table>\n",
       "<thead><tr><th scope=col>name</th><th scope=col>name_1</th></tr></thead>\n",
       "<tbody>\n",
       "\t<tr><td>VN Pikachu  </td><td>VN Champions</td></tr>\n",
       "</tbody>\n",
       "</table>\n"
      ],
      "text/latex": [
       "\\begin{tabular}{r|ll}\n",
       " name & name\\_1\\\\\n",
       "\\hline\n",
       "\t VN Pikachu   & VN Champions\\\\\n",
       "\\end{tabular}\n"
      ],
      "text/markdown": [
       "\n",
       "| name | name_1 |\n",
       "|---|---|\n",
       "| VN Pikachu   | VN Champions |\n",
       "\n"
      ],
      "text/plain": [
       "  name       name_1      \n",
       "1 VN Pikachu VN Champions"
      ]
     },
     "metadata": {},
     "output_type": "display_data"
    }
   ],
   "source": [
    "read_csv('name,name\\nVN Pikachu,VN Champions')"
   ]
  },
  {
   "cell_type": "markdown",
   "metadata": {},
   "source": [
    "### `col_types`"
   ]
  },
  {
   "cell_type": "markdown",
   "metadata": {},
   "source": [
    "One of `NULL`, a `cols()` specification, or a string."
   ]
  },
  {
   "cell_type": "markdown",
   "metadata": {},
   "source": [
    "<hr>"
   ]
  },
  {
   "cell_type": "markdown",
   "metadata": {},
   "source": [
    "If NULL, all column types will be imputed from the first 1000 rows on the input. This is convenient (and fast), but not robust. If the imputation fails, you'll need to supply the correct types yourself."
   ]
  },
  {
   "cell_type": "code",
   "execution_count": 48,
   "metadata": {},
   "outputs": [
    {
     "name": "stderr",
     "output_type": "stream",
     "text": [
      "\n",
      "-- Column specification ------------------------------------------------------------------------------------------------\n",
      "cols(\n",
      "  x = col_double(),\n",
      "  y = col_logical()\n",
      ")\n",
      "\n",
      "Warning message:\n",
      "\"1000 parsing failures.\n",
      " row col           expected     actual                                                                file\n",
      "1001   y 1/0/T/F/TRUE/FALSE 2015-01-16 'C:/Users/dell/Anaconda3/Lib/R/library/readr/extdata/challenge.csv'\n",
      "1002   y 1/0/T/F/TRUE/FALSE 2018-05-18 'C:/Users/dell/Anaconda3/Lib/R/library/readr/extdata/challenge.csv'\n",
      "1003   y 1/0/T/F/TRUE/FALSE 2015-09-05 'C:/Users/dell/Anaconda3/Lib/R/library/readr/extdata/challenge.csv'\n",
      "1004   y 1/0/T/F/TRUE/FALSE 2012-11-28 'C:/Users/dell/Anaconda3/Lib/R/library/readr/extdata/challenge.csv'\n",
      "1005   y 1/0/T/F/TRUE/FALSE 2020-01-13 'C:/Users/dell/Anaconda3/Lib/R/library/readr/extdata/challenge.csv'\n",
      ".... ... .................. .......... ...................................................................\n",
      "See problems(...) for more details.\n",
      "\""
     ]
    },
    {
     "data": {
      "text/html": [
       "<table>\n",
       "<thead><tr><th scope=col>x</th><th scope=col>y</th></tr></thead>\n",
       "<tbody>\n",
       "\t<tr><td> 404</td><td>NA  </td></tr>\n",
       "\t<tr><td>4172</td><td>NA  </td></tr>\n",
       "\t<tr><td>3004</td><td>NA  </td></tr>\n",
       "\t<tr><td> 787</td><td>NA  </td></tr>\n",
       "\t<tr><td>  37</td><td>NA  </td></tr>\n",
       "\t<tr><td>2332</td><td>NA  </td></tr>\n",
       "\t<tr><td>2489</td><td>NA  </td></tr>\n",
       "\t<tr><td>1449</td><td>NA  </td></tr>\n",
       "\t<tr><td>3665</td><td>NA  </td></tr>\n",
       "\t<tr><td>3863</td><td>NA  </td></tr>\n",
       "\t<tr><td>4374</td><td>NA  </td></tr>\n",
       "\t<tr><td> 875</td><td>NA  </td></tr>\n",
       "\t<tr><td> 172</td><td>NA  </td></tr>\n",
       "\t<tr><td>1602</td><td>NA  </td></tr>\n",
       "\t<tr><td>2012</td><td>NA  </td></tr>\n",
       "\t<tr><td> 979</td><td>NA  </td></tr>\n",
       "\t<tr><td>2018</td><td>NA  </td></tr>\n",
       "\t<tr><td> 319</td><td>NA  </td></tr>\n",
       "\t<tr><td>1944</td><td>NA  </td></tr>\n",
       "\t<tr><td>4878</td><td>NA  </td></tr>\n",
       "\t<tr><td>1450</td><td>NA  </td></tr>\n",
       "\t<tr><td>3392</td><td>NA  </td></tr>\n",
       "\t<tr><td>3677</td><td>NA  </td></tr>\n",
       "\t<tr><td> 980</td><td>NA  </td></tr>\n",
       "\t<tr><td>4903</td><td>NA  </td></tr>\n",
       "\t<tr><td>3708</td><td>NA  </td></tr>\n",
       "\t<tr><td> 258</td><td>NA  </td></tr>\n",
       "\t<tr><td>2652</td><td>NA  </td></tr>\n",
       "\t<tr><td>3480</td><td>NA  </td></tr>\n",
       "\t<tr><td>3443</td><td>NA  </td></tr>\n",
       "\t<tr><td>...</td><td>...</td></tr>\n",
       "\t<tr><td>0.14324546</td><td>NA        </td></tr>\n",
       "\t<tr><td>0.42678032</td><td>NA        </td></tr>\n",
       "\t<tr><td>0.56445359</td><td>NA        </td></tr>\n",
       "\t<tr><td>0.18729942</td><td>NA        </td></tr>\n",
       "\t<tr><td>0.60274952</td><td>NA        </td></tr>\n",
       "\t<tr><td>0.73487829</td><td>NA        </td></tr>\n",
       "\t<tr><td>0.06834881</td><td>NA        </td></tr>\n",
       "\t<tr><td>0.78291796</td><td>NA        </td></tr>\n",
       "\t<tr><td>0.92149271</td><td>NA        </td></tr>\n",
       "\t<tr><td>0.04428217</td><td>NA        </td></tr>\n",
       "\t<tr><td>0.71311485</td><td>NA        </td></tr>\n",
       "\t<tr><td>0.90388602</td><td>NA        </td></tr>\n",
       "\t<tr><td>0.73958150</td><td>NA        </td></tr>\n",
       "\t<tr><td>0.17217563</td><td>NA        </td></tr>\n",
       "\t<tr><td>0.18658998</td><td>NA        </td></tr>\n",
       "\t<tr><td>0.38248836</td><td>NA        </td></tr>\n",
       "\t<tr><td>0.45361328</td><td>NA        </td></tr>\n",
       "\t<tr><td>0.45513148</td><td>NA        </td></tr>\n",
       "\t<tr><td>0.17310278</td><td>NA        </td></tr>\n",
       "\t<tr><td>0.30541726</td><td>NA        </td></tr>\n",
       "\t<tr><td>0.86775210</td><td>NA        </td></tr>\n",
       "\t<tr><td>0.26023225</td><td>NA        </td></tr>\n",
       "\t<tr><td>0.68087076</td><td>NA        </td></tr>\n",
       "\t<tr><td>0.85357656</td><td>NA        </td></tr>\n",
       "\t<tr><td>0.80527431</td><td>NA        </td></tr>\n",
       "\t<tr><td>0.16351634</td><td>NA        </td></tr>\n",
       "\t<tr><td>0.47193898</td><td>NA        </td></tr>\n",
       "\t<tr><td>0.71831865</td><td>NA        </td></tr>\n",
       "\t<tr><td>0.26987859</td><td>NA        </td></tr>\n",
       "\t<tr><td>0.60823719</td><td>NA        </td></tr>\n",
       "</tbody>\n",
       "</table>\n"
      ],
      "text/latex": [
       "\\begin{tabular}{r|ll}\n",
       " x & y\\\\\n",
       "\\hline\n",
       "\t  404 & NA  \\\\\n",
       "\t 4172 & NA  \\\\\n",
       "\t 3004 & NA  \\\\\n",
       "\t  787 & NA  \\\\\n",
       "\t   37 & NA  \\\\\n",
       "\t 2332 & NA  \\\\\n",
       "\t 2489 & NA  \\\\\n",
       "\t 1449 & NA  \\\\\n",
       "\t 3665 & NA  \\\\\n",
       "\t 3863 & NA  \\\\\n",
       "\t 4374 & NA  \\\\\n",
       "\t  875 & NA  \\\\\n",
       "\t  172 & NA  \\\\\n",
       "\t 1602 & NA  \\\\\n",
       "\t 2012 & NA  \\\\\n",
       "\t  979 & NA  \\\\\n",
       "\t 2018 & NA  \\\\\n",
       "\t  319 & NA  \\\\\n",
       "\t 1944 & NA  \\\\\n",
       "\t 4878 & NA  \\\\\n",
       "\t 1450 & NA  \\\\\n",
       "\t 3392 & NA  \\\\\n",
       "\t 3677 & NA  \\\\\n",
       "\t  980 & NA  \\\\\n",
       "\t 4903 & NA  \\\\\n",
       "\t 3708 & NA  \\\\\n",
       "\t  258 & NA  \\\\\n",
       "\t 2652 & NA  \\\\\n",
       "\t 3480 & NA  \\\\\n",
       "\t 3443 & NA  \\\\\n",
       "\t ... & ...\\\\\n",
       "\t 0.14324546 & NA        \\\\\n",
       "\t 0.42678032 & NA        \\\\\n",
       "\t 0.56445359 & NA        \\\\\n",
       "\t 0.18729942 & NA        \\\\\n",
       "\t 0.60274952 & NA        \\\\\n",
       "\t 0.73487829 & NA        \\\\\n",
       "\t 0.06834881 & NA        \\\\\n",
       "\t 0.78291796 & NA        \\\\\n",
       "\t 0.92149271 & NA        \\\\\n",
       "\t 0.04428217 & NA        \\\\\n",
       "\t 0.71311485 & NA        \\\\\n",
       "\t 0.90388602 & NA        \\\\\n",
       "\t 0.73958150 & NA        \\\\\n",
       "\t 0.17217563 & NA        \\\\\n",
       "\t 0.18658998 & NA        \\\\\n",
       "\t 0.38248836 & NA        \\\\\n",
       "\t 0.45361328 & NA        \\\\\n",
       "\t 0.45513148 & NA        \\\\\n",
       "\t 0.17310278 & NA        \\\\\n",
       "\t 0.30541726 & NA        \\\\\n",
       "\t 0.86775210 & NA        \\\\\n",
       "\t 0.26023225 & NA        \\\\\n",
       "\t 0.68087076 & NA        \\\\\n",
       "\t 0.85357656 & NA        \\\\\n",
       "\t 0.80527431 & NA        \\\\\n",
       "\t 0.16351634 & NA        \\\\\n",
       "\t 0.47193898 & NA        \\\\\n",
       "\t 0.71831865 & NA        \\\\\n",
       "\t 0.26987859 & NA        \\\\\n",
       "\t 0.60823719 & NA        \\\\\n",
       "\\end{tabular}\n"
      ],
      "text/markdown": [
       "\n",
       "| x | y |\n",
       "|---|---|\n",
       "|  404 | NA   |\n",
       "| 4172 | NA   |\n",
       "| 3004 | NA   |\n",
       "|  787 | NA   |\n",
       "|   37 | NA   |\n",
       "| 2332 | NA   |\n",
       "| 2489 | NA   |\n",
       "| 1449 | NA   |\n",
       "| 3665 | NA   |\n",
       "| 3863 | NA   |\n",
       "| 4374 | NA   |\n",
       "|  875 | NA   |\n",
       "|  172 | NA   |\n",
       "| 1602 | NA   |\n",
       "| 2012 | NA   |\n",
       "|  979 | NA   |\n",
       "| 2018 | NA   |\n",
       "|  319 | NA   |\n",
       "| 1944 | NA   |\n",
       "| 4878 | NA   |\n",
       "| 1450 | NA   |\n",
       "| 3392 | NA   |\n",
       "| 3677 | NA   |\n",
       "|  980 | NA   |\n",
       "| 4903 | NA   |\n",
       "| 3708 | NA   |\n",
       "|  258 | NA   |\n",
       "| 2652 | NA   |\n",
       "| 3480 | NA   |\n",
       "| 3443 | NA   |\n",
       "| ... | ... |\n",
       "| 0.14324546 | NA         |\n",
       "| 0.42678032 | NA         |\n",
       "| 0.56445359 | NA         |\n",
       "| 0.18729942 | NA         |\n",
       "| 0.60274952 | NA         |\n",
       "| 0.73487829 | NA         |\n",
       "| 0.06834881 | NA         |\n",
       "| 0.78291796 | NA         |\n",
       "| 0.92149271 | NA         |\n",
       "| 0.04428217 | NA         |\n",
       "| 0.71311485 | NA         |\n",
       "| 0.90388602 | NA         |\n",
       "| 0.73958150 | NA         |\n",
       "| 0.17217563 | NA         |\n",
       "| 0.18658998 | NA         |\n",
       "| 0.38248836 | NA         |\n",
       "| 0.45361328 | NA         |\n",
       "| 0.45513148 | NA         |\n",
       "| 0.17310278 | NA         |\n",
       "| 0.30541726 | NA         |\n",
       "| 0.86775210 | NA         |\n",
       "| 0.26023225 | NA         |\n",
       "| 0.68087076 | NA         |\n",
       "| 0.85357656 | NA         |\n",
       "| 0.80527431 | NA         |\n",
       "| 0.16351634 | NA         |\n",
       "| 0.47193898 | NA         |\n",
       "| 0.71831865 | NA         |\n",
       "| 0.26987859 | NA         |\n",
       "| 0.60823719 | NA         |\n",
       "\n"
      ],
      "text/plain": [
       "     x          y  \n",
       "1     404       NA \n",
       "2    4172       NA \n",
       "3    3004       NA \n",
       "4     787       NA \n",
       "5      37       NA \n",
       "6    2332       NA \n",
       "7    2489       NA \n",
       "8    1449       NA \n",
       "9    3665       NA \n",
       "10   3863       NA \n",
       "11   4374       NA \n",
       "12    875       NA \n",
       "13    172       NA \n",
       "14   1602       NA \n",
       "15   2012       NA \n",
       "16    979       NA \n",
       "17   2018       NA \n",
       "18    319       NA \n",
       "19   1944       NA \n",
       "20   4878       NA \n",
       "21   1450       NA \n",
       "22   3392       NA \n",
       "23   3677       NA \n",
       "24    980       NA \n",
       "25   4903       NA \n",
       "26   3708       NA \n",
       "27    258       NA \n",
       "28   2652       NA \n",
       "29   3480       NA \n",
       "30   3443       NA \n",
       "...  ...        ...\n",
       "1971 0.14324546 NA \n",
       "1972 0.42678032 NA \n",
       "1973 0.56445359 NA \n",
       "1974 0.18729942 NA \n",
       "1975 0.60274952 NA \n",
       "1976 0.73487829 NA \n",
       "1977 0.06834881 NA \n",
       "1978 0.78291796 NA \n",
       "1979 0.92149271 NA \n",
       "1980 0.04428217 NA \n",
       "1981 0.71311485 NA \n",
       "1982 0.90388602 NA \n",
       "1983 0.73958150 NA \n",
       "1984 0.17217563 NA \n",
       "1985 0.18658998 NA \n",
       "1986 0.38248836 NA \n",
       "1987 0.45361328 NA \n",
       "1988 0.45513148 NA \n",
       "1989 0.17310278 NA \n",
       "1990 0.30541726 NA \n",
       "1991 0.86775210 NA \n",
       "1992 0.26023225 NA \n",
       "1993 0.68087076 NA \n",
       "1994 0.85357656 NA \n",
       "1995 0.80527431 NA \n",
       "1996 0.16351634 NA \n",
       "1997 0.47193898 NA \n",
       "1998 0.71831865 NA \n",
       "1999 0.26987859 NA \n",
       "2000 0.60823719 NA "
      ]
     },
     "metadata": {},
     "output_type": "display_data"
    }
   ],
   "source": [
    "read_csv(readr_example('challenge.csv'))"
   ]
  },
  {
   "cell_type": "markdown",
   "metadata": {},
   "source": [
    "If a column specification created by **`cols()`**, it must contain one column specification for each column. If you only want to read a subset of the columns, use **`cols_only()`**.\n",
    "Alternatively, you can use a compact string representation where each character represents one column:\n",
    "\n",
    "* c = character\n",
    "\n",
    "* i = integer\n",
    "\n",
    "* n = number\n",
    "\n",
    "* d = double\n",
    "\n",
    "* l = logical\n",
    "\n",
    "* f = factor\n",
    "\n",
    "* D = date\n",
    "\n",
    "* T = date time\n",
    "\n",
    "* t = time\n",
    "\n",
    "* ? = guess\n",
    "\n",
    "* _ or - = skip\n",
    "\n",
    "By default, reading a file without a column specification will print a message showing what readr guessed they were. To remove this message, use `col_types = cols()`."
   ]
  },
  {
   "cell_type": "markdown",
   "metadata": {},
   "source": [
    "see <b><a href = '../Introduction.ipynb'>this notebook</a></b> for detail and examples."
   ]
  },
  {
   "cell_type": "code",
   "execution_count": 50,
   "metadata": {},
   "outputs": [
    {
     "data": {
      "text/html": [
       "<table>\n",
       "<thead><tr><th scope=col>mpg</th><th scope=col>cyl</th><th scope=col>disp</th><th scope=col>hp</th><th scope=col>drat</th><th scope=col>wt</th><th scope=col>qsec</th><th scope=col>vs</th><th scope=col>am</th><th scope=col>gear</th><th scope=col>carb</th></tr></thead>\n",
       "<tbody>\n",
       "\t<tr><td>21.0 </td><td>6    </td><td>160  </td><td>110  </td><td>3.90 </td><td>2.620</td><td>16.46</td><td>0    </td><td>1    </td><td>4    </td><td>4    </td></tr>\n",
       "\t<tr><td>21.0 </td><td>6    </td><td>160  </td><td>110  </td><td>3.90 </td><td>2.875</td><td>17.02</td><td>0    </td><td>1    </td><td>4    </td><td>4    </td></tr>\n",
       "\t<tr><td>22.8 </td><td>4    </td><td>108  </td><td> 93  </td><td>3.85 </td><td>2.320</td><td>18.61</td><td>1    </td><td>1    </td><td>4    </td><td>1    </td></tr>\n",
       "\t<tr><td>21.4 </td><td>6    </td><td>258  </td><td>110  </td><td>3.08 </td><td>3.215</td><td>19.44</td><td>1    </td><td>0    </td><td>3    </td><td>1    </td></tr>\n",
       "\t<tr><td>18.7 </td><td>8    </td><td>360  </td><td>175  </td><td>3.15 </td><td>3.440</td><td>17.02</td><td>0    </td><td>0    </td><td>3    </td><td>2    </td></tr>\n",
       "\t<tr><td>18.1 </td><td>6    </td><td>225  </td><td>105  </td><td>2.76 </td><td>3.460</td><td>20.22</td><td>1    </td><td>0    </td><td>3    </td><td>1    </td></tr>\n",
       "</tbody>\n",
       "</table>\n"
      ],
      "text/latex": [
       "\\begin{tabular}{r|lllllllllll}\n",
       " mpg & cyl & disp & hp & drat & wt & qsec & vs & am & gear & carb\\\\\n",
       "\\hline\n",
       "\t 21.0  & 6     & 160   & 110   & 3.90  & 2.620 & 16.46 & 0     & 1     & 4     & 4    \\\\\n",
       "\t 21.0  & 6     & 160   & 110   & 3.90  & 2.875 & 17.02 & 0     & 1     & 4     & 4    \\\\\n",
       "\t 22.8  & 4     & 108   &  93   & 3.85  & 2.320 & 18.61 & 1     & 1     & 4     & 1    \\\\\n",
       "\t 21.4  & 6     & 258   & 110   & 3.08  & 3.215 & 19.44 & 1     & 0     & 3     & 1    \\\\\n",
       "\t 18.7  & 8     & 360   & 175   & 3.15  & 3.440 & 17.02 & 0     & 0     & 3     & 2    \\\\\n",
       "\t 18.1  & 6     & 225   & 105   & 2.76  & 3.460 & 20.22 & 1     & 0     & 3     & 1    \\\\\n",
       "\\end{tabular}\n"
      ],
      "text/markdown": [
       "\n",
       "| mpg | cyl | disp | hp | drat | wt | qsec | vs | am | gear | carb |\n",
       "|---|---|---|---|---|---|---|---|---|---|---|\n",
       "| 21.0  | 6     | 160   | 110   | 3.90  | 2.620 | 16.46 | 0     | 1     | 4     | 4     |\n",
       "| 21.0  | 6     | 160   | 110   | 3.90  | 2.875 | 17.02 | 0     | 1     | 4     | 4     |\n",
       "| 22.8  | 4     | 108   |  93   | 3.85  | 2.320 | 18.61 | 1     | 1     | 4     | 1     |\n",
       "| 21.4  | 6     | 258   | 110   | 3.08  | 3.215 | 19.44 | 1     | 0     | 3     | 1     |\n",
       "| 18.7  | 8     | 360   | 175   | 3.15  | 3.440 | 17.02 | 0     | 0     | 3     | 2     |\n",
       "| 18.1  | 6     | 225   | 105   | 2.76  | 3.460 | 20.22 | 1     | 0     | 3     | 1     |\n",
       "\n"
      ],
      "text/plain": [
       "  mpg  cyl disp hp  drat wt    qsec  vs am gear carb\n",
       "1 21.0 6   160  110 3.90 2.620 16.46 0  1  4    4   \n",
       "2 21.0 6   160  110 3.90 2.875 17.02 0  1  4    4   \n",
       "3 22.8 4   108   93 3.85 2.320 18.61 1  1  4    1   \n",
       "4 21.4 6   258  110 3.08 3.215 19.44 1  0  3    1   \n",
       "5 18.7 8   360  175 3.15 3.440 17.02 0  0  3    2   \n",
       "6 18.1 6   225  105 2.76 3.460 20.22 1  0  3    1   "
      ]
     },
     "metadata": {},
     "output_type": "display_data"
    }
   ],
   "source": [
    "# remove `spec` message\n",
    "read_csv(mtcars_path, col_types = cols()) %>% head()"
   ]
  },
  {
   "cell_type": "markdown",
   "metadata": {},
   "source": [
    "### `locale`"
   ]
  },
  {
   "cell_type": "markdown",
   "metadata": {},
   "source": [
    "The locale controls defaults that vary from place to place. The default locale is US-centric (like R), but you can use `locale()` to create your own locale that controls things like the default time zone, encoding, decimal mark, big mark, and day/month names."
   ]
  },
  {
   "cell_type": "markdown",
   "metadata": {},
   "source": [
    "<hr>"
   ]
  },
  {
   "cell_type": "markdown",
   "metadata": {},
   "source": [
    "<b><a href = '../locales.ipynb'>Notebook detail and examples</a></b>"
   ]
  },
  {
   "cell_type": "markdown",
   "metadata": {},
   "source": [
    "### `na`\t"
   ]
  },
  {
   "cell_type": "markdown",
   "metadata": {},
   "source": [
    "Character vector of strings to interpret as missing values. Set this option to `character()` to indicate no missing values."
   ]
  },
  {
   "cell_type": "markdown",
   "metadata": {},
   "source": [
    "<hr>"
   ]
  },
  {
   "cell_type": "code",
   "execution_count": 57,
   "metadata": {},
   "outputs": [
    {
     "data": {
      "text/html": [
       "<table>\n",
       "<thead><tr><th scope=col>name</th><th scope=col>clan</th></tr></thead>\n",
       "<tbody>\n",
       "\t<tr><td>VN Pikachu </td><td>missing    </td></tr>\n",
       "\t<tr><td>ETOGRUL    </td><td>NA         </td></tr>\n",
       "\t<tr><td>unknown    </td><td>King Allool</td></tr>\n",
       "</tbody>\n",
       "</table>\n"
      ],
      "text/latex": [
       "\\begin{tabular}{r|ll}\n",
       " name & clan\\\\\n",
       "\\hline\n",
       "\t VN Pikachu  & missing    \\\\\n",
       "\t ETOGRUL     & NA         \\\\\n",
       "\t unknown     & King Allool\\\\\n",
       "\\end{tabular}\n"
      ],
      "text/markdown": [
       "\n",
       "| name | clan |\n",
       "|---|---|\n",
       "| VN Pikachu  | missing     |\n",
       "| ETOGRUL     | NA          |\n",
       "| unknown     | King Allool |\n",
       "\n"
      ],
      "text/plain": [
       "  name       clan       \n",
       "1 VN Pikachu missing    \n",
       "2 ETOGRUL    NA         \n",
       "3 unknown    King Allool"
      ]
     },
     "metadata": {},
     "output_type": "display_data"
    }
   ],
   "source": [
    "file_data <- 'name,clan\\nVN Pikachu,missing\\nETOGRUL,NA\\nunknown,King Allool'\n",
    "\n",
    "read_csv(file_data)"
   ]
  },
  {
   "cell_type": "code",
   "execution_count": 59,
   "metadata": {},
   "outputs": [
    {
     "data": {
      "text/html": [
       "<table>\n",
       "<thead><tr><th scope=col>name</th><th scope=col>clan</th></tr></thead>\n",
       "<tbody>\n",
       "\t<tr><td>VN Pikachu </td><td>NA         </td></tr>\n",
       "\t<tr><td>ETOGRUL    </td><td>NA         </td></tr>\n",
       "\t<tr><td>NA         </td><td>King Allool</td></tr>\n",
       "</tbody>\n",
       "</table>\n"
      ],
      "text/latex": [
       "\\begin{tabular}{r|ll}\n",
       " name & clan\\\\\n",
       "\\hline\n",
       "\t VN Pikachu  & NA         \\\\\n",
       "\t ETOGRUL     & NA         \\\\\n",
       "\t NA          & King Allool\\\\\n",
       "\\end{tabular}\n"
      ],
      "text/markdown": [
       "\n",
       "| name | clan |\n",
       "|---|---|\n",
       "| VN Pikachu  | NA          |\n",
       "| ETOGRUL     | NA          |\n",
       "| NA          | King Allool |\n",
       "\n"
      ],
      "text/plain": [
       "  name       clan       \n",
       "1 VN Pikachu NA         \n",
       "2 ETOGRUL    NA         \n",
       "3 NA         King Allool"
      ]
     },
     "metadata": {},
     "output_type": "display_data"
    }
   ],
   "source": [
    "# specify 'NA', '', 'missing', 'unknown' as missing value\n",
    "\n",
    "read_csv(file_data, na = c('', 'NA', 'missing', 'unknown'))"
   ]
  },
  {
   "cell_type": "markdown",
   "metadata": {},
   "source": [
    "### `quoted_na`\t"
   ]
  },
  {
   "cell_type": "markdown",
   "metadata": {},
   "source": [
    "Should missing values inside quotes be treated as missing values (the default) or strings."
   ]
  },
  {
   "cell_type": "markdown",
   "metadata": {},
   "source": [
    "### `comment`\t"
   ]
  },
  {
   "cell_type": "markdown",
   "metadata": {},
   "source": [
    "A string used to identify comments. Any text after the comment characters will be silently ignored."
   ]
  },
  {
   "cell_type": "code",
   "execution_count": 68,
   "metadata": {},
   "outputs": [
    {
     "data": {
      "text/html": [
       "<table>\n",
       "<thead><tr><th scope=col>name</th><th scope=col>clan</th></tr></thead>\n",
       "<tbody>\n",
       "\t<tr><td>VN Pikachu  </td><td>VN Champions</td></tr>\n",
       "</tbody>\n",
       "</table>\n"
      ],
      "text/latex": [
       "\\begin{tabular}{r|ll}\n",
       " name & clan\\\\\n",
       "\\hline\n",
       "\t VN Pikachu   & VN Champions\\\\\n",
       "\\end{tabular}\n"
      ],
      "text/markdown": [
       "\n",
       "| name | clan |\n",
       "|---|---|\n",
       "| VN Pikachu   | VN Champions |\n",
       "\n"
      ],
      "text/plain": [
       "  name       clan        \n",
       "1 VN Pikachu VN Champions"
      ]
     },
     "metadata": {},
     "output_type": "display_data"
    }
   ],
   "source": [
    "read_csv('name,clan\\nVN Pikachu,VN Champions#ignore this part...', comment = '#')"
   ]
  },
  {
   "cell_type": "markdown",
   "metadata": {},
   "source": [
    "### `trim_ws`\t"
   ]
  },
  {
   "cell_type": "markdown",
   "metadata": {},
   "source": [
    "Should leading and trailing whitespace be trimmed from each field before parsing it?"
   ]
  },
  {
   "cell_type": "markdown",
   "metadata": {},
   "source": [
    "<hr>"
   ]
  },
  {
   "cell_type": "code",
   "execution_count": 85,
   "metadata": {},
   "outputs": [
    {
     "data": {
      "text/html": [
       "<ol class=list-inline>\n",
       "\t<li>'name'</li>\n",
       "\t<li>'clan'</li>\n",
       "</ol>\n"
      ],
      "text/latex": [
       "\\begin{enumerate*}\n",
       "\\item 'name'\n",
       "\\item 'clan'\n",
       "\\end{enumerate*}\n"
      ],
      "text/markdown": [
       "1. 'name'\n",
       "2. 'clan'\n",
       "\n",
       "\n"
      ],
      "text/plain": [
       "[1] \"name\" \"clan\""
      ]
     },
     "metadata": {},
     "output_type": "display_data"
    }
   ],
   "source": [
    "# default trim_ws = TRUE in read_csv\n",
    "\n",
    "read_csv(' name ,   clan \\n VN Pikachu,  VN Champions') %>% colnames()"
   ]
  },
  {
   "cell_type": "code",
   "execution_count": 84,
   "metadata": {},
   "outputs": [
    {
     "data": {
      "text/html": [
       "<ol class=list-inline>\n",
       "\t<li>' name '</li>\n",
       "\t<li><span style=white-space:pre-wrap>'   clan '</span></li>\n",
       "</ol>\n"
      ],
      "text/latex": [
       "\\begin{enumerate*}\n",
       "\\item ' name '\n",
       "\\item '   clan '\n",
       "\\end{enumerate*}\n"
      ],
      "text/markdown": [
       "1. ' name '\n",
       "2. <span style=white-space:pre-wrap>'   clan '</span>\n",
       "\n",
       "\n"
      ],
      "text/plain": [
       "[1] \" name \"   \"   clan \""
      ]
     },
     "metadata": {},
     "output_type": "display_data"
    }
   ],
   "source": [
    "read_csv(' name ,   clan \\n VN Pikachu,  VN Champions', trim_ws = F) %>% colnames()"
   ]
  },
  {
   "cell_type": "markdown",
   "metadata": {},
   "source": [
    "### `skip`"
   ]
  },
  {
   "cell_type": "markdown",
   "metadata": {},
   "source": [
    "\t\n",
    "Number of lines to skip before reading data."
   ]
  },
  {
   "cell_type": "markdown",
   "metadata": {},
   "source": [
    "<hr>"
   ]
  },
  {
   "cell_type": "code",
   "execution_count": 90,
   "metadata": {},
   "outputs": [
    {
     "name": "stdout",
     "output_type": "stream",
     "text": [
      "id,name\n",
      "1,a\n",
      "2,b\n",
      "3,c\n",
      "4,d\n",
      "5,e"
     ]
    }
   ],
   "source": [
    "file_data <- 'id,name\\n1,a\\n2,b\\n3,c\\n4,d\\n5,e'\n",
    "cat(file_data)"
   ]
  },
  {
   "cell_type": "code",
   "execution_count": 87,
   "metadata": {},
   "outputs": [
    {
     "data": {
      "text/html": [
       "<table>\n",
       "<thead><tr><th scope=col>id</th><th scope=col>name</th></tr></thead>\n",
       "<tbody>\n",
       "\t<tr><td>1</td><td>a</td></tr>\n",
       "\t<tr><td>2</td><td>b</td></tr>\n",
       "\t<tr><td>3</td><td>c</td></tr>\n",
       "\t<tr><td>4</td><td>d</td></tr>\n",
       "\t<tr><td>5</td><td>e</td></tr>\n",
       "</tbody>\n",
       "</table>\n"
      ],
      "text/latex": [
       "\\begin{tabular}{r|ll}\n",
       " id & name\\\\\n",
       "\\hline\n",
       "\t 1 & a\\\\\n",
       "\t 2 & b\\\\\n",
       "\t 3 & c\\\\\n",
       "\t 4 & d\\\\\n",
       "\t 5 & e\\\\\n",
       "\\end{tabular}\n"
      ],
      "text/markdown": [
       "\n",
       "| id | name |\n",
       "|---|---|\n",
       "| 1 | a |\n",
       "| 2 | b |\n",
       "| 3 | c |\n",
       "| 4 | d |\n",
       "| 5 | e |\n",
       "\n"
      ],
      "text/plain": [
       "  id name\n",
       "1 1  a   \n",
       "2 2  b   \n",
       "3 3  c   \n",
       "4 4  d   \n",
       "5 5  e   "
      ]
     },
     "metadata": {},
     "output_type": "display_data"
    }
   ],
   "source": [
    "read_csv(file_data)"
   ]
  },
  {
   "cell_type": "code",
   "execution_count": 93,
   "metadata": {},
   "outputs": [
    {
     "data": {
      "text/html": [
       "<table>\n",
       "<thead><tr><th scope=col>id</th><th scope=col>name</th></tr></thead>\n",
       "<tbody>\n",
       "\t<tr><td>3</td><td>c</td></tr>\n",
       "\t<tr><td>4</td><td>d</td></tr>\n",
       "\t<tr><td>5</td><td>e</td></tr>\n",
       "</tbody>\n",
       "</table>\n"
      ],
      "text/latex": [
       "\\begin{tabular}{r|ll}\n",
       " id & name\\\\\n",
       "\\hline\n",
       "\t 3 & c\\\\\n",
       "\t 4 & d\\\\\n",
       "\t 5 & e\\\\\n",
       "\\end{tabular}\n"
      ],
      "text/markdown": [
       "\n",
       "| id | name |\n",
       "|---|---|\n",
       "| 3 | c |\n",
       "| 4 | d |\n",
       "| 5 | e |\n",
       "\n"
      ],
      "text/plain": [
       "  id name\n",
       "1 3  c   \n",
       "2 4  d   \n",
       "3 5  e   "
      ]
     },
     "metadata": {},
     "output_type": "display_data"
    }
   ],
   "source": [
    "# skip first 3 rows in the text, the parse\n",
    "# If we want column names, we have to specify it manually\n",
    "read_csv(file_data, skip = 3, col_names = c('id', 'name'))"
   ]
  },
  {
   "cell_type": "markdown",
   "metadata": {},
   "source": [
    "### `n_max`"
   ]
  },
  {
   "cell_type": "markdown",
   "metadata": {},
   "source": [
    "Maximum number of records to read.\n",
    "<hr>"
   ]
  },
  {
   "cell_type": "code",
   "execution_count": 94,
   "metadata": {},
   "outputs": [
    {
     "data": {
      "text/html": [
       "<table>\n",
       "<thead><tr><th scope=col>id</th><th scope=col>name</th></tr></thead>\n",
       "<tbody>\n",
       "\t<tr><td>1</td><td>a</td></tr>\n",
       "\t<tr><td>2</td><td>b</td></tr>\n",
       "</tbody>\n",
       "</table>\n"
      ],
      "text/latex": [
       "\\begin{tabular}{r|ll}\n",
       " id & name\\\\\n",
       "\\hline\n",
       "\t 1 & a\\\\\n",
       "\t 2 & b\\\\\n",
       "\\end{tabular}\n"
      ],
      "text/markdown": [
       "\n",
       "| id | name |\n",
       "|---|---|\n",
       "| 1 | a |\n",
       "| 2 | b |\n",
       "\n"
      ],
      "text/plain": [
       "  id name\n",
       "1 1  a   \n",
       "2 2  b   "
      ]
     },
     "metadata": {},
     "output_type": "display_data"
    }
   ],
   "source": [
    "# read 2 records\n",
    "read_csv(file_data, n_max = 2)"
   ]
  },
  {
   "cell_type": "markdown",
   "metadata": {},
   "source": [
    "### **`guess_max`**\t"
   ]
  },
  {
   "cell_type": "markdown",
   "metadata": {},
   "source": [
    "Maximum number of records to use for guessing column types.\n",
    "<hr>"
   ]
  },
  {
   "cell_type": "markdown",
   "metadata": {},
   "source": [
    "For each column, using 101 values to guess the type of that column. default is 1000."
   ]
  },
  {
   "cell_type": "code",
   "execution_count": 96,
   "metadata": {},
   "outputs": [
    {
     "name": "stderr",
     "output_type": "stream",
     "text": [
      "\n",
      "-- Column specification ------------------------------------------------------------------------------------------------\n",
      "cols(\n",
      "  x = col_double(),\n",
      "  y = col_logical()\n",
      ")\n",
      "\n",
      "Warning message:\n",
      "\"1000 parsing failures.\n",
      " row col           expected     actual                                                                file\n",
      "1001   y 1/0/T/F/TRUE/FALSE 2015-01-16 'C:/Users/dell/Anaconda3/Lib/R/library/readr/extdata/challenge.csv'\n",
      "1002   y 1/0/T/F/TRUE/FALSE 2018-05-18 'C:/Users/dell/Anaconda3/Lib/R/library/readr/extdata/challenge.csv'\n",
      "1003   y 1/0/T/F/TRUE/FALSE 2015-09-05 'C:/Users/dell/Anaconda3/Lib/R/library/readr/extdata/challenge.csv'\n",
      "1004   y 1/0/T/F/TRUE/FALSE 2012-11-28 'C:/Users/dell/Anaconda3/Lib/R/library/readr/extdata/challenge.csv'\n",
      "1005   y 1/0/T/F/TRUE/FALSE 2020-01-13 'C:/Users/dell/Anaconda3/Lib/R/library/readr/extdata/challenge.csv'\n",
      ".... ... .................. .......... ...................................................................\n",
      "See problems(...) for more details.\n",
      "\""
     ]
    },
    {
     "data": {
      "text/html": [
       "<table>\n",
       "<thead><tr><th scope=col>x</th><th scope=col>y</th></tr></thead>\n",
       "<tbody>\n",
       "\t<tr><td> 404</td><td>NA  </td></tr>\n",
       "\t<tr><td>4172</td><td>NA  </td></tr>\n",
       "\t<tr><td>3004</td><td>NA  </td></tr>\n",
       "\t<tr><td> 787</td><td>NA  </td></tr>\n",
       "\t<tr><td>  37</td><td>NA  </td></tr>\n",
       "\t<tr><td>2332</td><td>NA  </td></tr>\n",
       "\t<tr><td>2489</td><td>NA  </td></tr>\n",
       "\t<tr><td>1449</td><td>NA  </td></tr>\n",
       "\t<tr><td>3665</td><td>NA  </td></tr>\n",
       "\t<tr><td>3863</td><td>NA  </td></tr>\n",
       "\t<tr><td>4374</td><td>NA  </td></tr>\n",
       "\t<tr><td> 875</td><td>NA  </td></tr>\n",
       "\t<tr><td> 172</td><td>NA  </td></tr>\n",
       "\t<tr><td>1602</td><td>NA  </td></tr>\n",
       "\t<tr><td>2012</td><td>NA  </td></tr>\n",
       "\t<tr><td> 979</td><td>NA  </td></tr>\n",
       "\t<tr><td>2018</td><td>NA  </td></tr>\n",
       "\t<tr><td> 319</td><td>NA  </td></tr>\n",
       "\t<tr><td>1944</td><td>NA  </td></tr>\n",
       "\t<tr><td>4878</td><td>NA  </td></tr>\n",
       "\t<tr><td>1450</td><td>NA  </td></tr>\n",
       "\t<tr><td>3392</td><td>NA  </td></tr>\n",
       "\t<tr><td>3677</td><td>NA  </td></tr>\n",
       "\t<tr><td> 980</td><td>NA  </td></tr>\n",
       "\t<tr><td>4903</td><td>NA  </td></tr>\n",
       "\t<tr><td>3708</td><td>NA  </td></tr>\n",
       "\t<tr><td> 258</td><td>NA  </td></tr>\n",
       "\t<tr><td>2652</td><td>NA  </td></tr>\n",
       "\t<tr><td>3480</td><td>NA  </td></tr>\n",
       "\t<tr><td>3443</td><td>NA  </td></tr>\n",
       "\t<tr><td>...</td><td>...</td></tr>\n",
       "\t<tr><td>0.14324546</td><td>NA        </td></tr>\n",
       "\t<tr><td>0.42678032</td><td>NA        </td></tr>\n",
       "\t<tr><td>0.56445359</td><td>NA        </td></tr>\n",
       "\t<tr><td>0.18729942</td><td>NA        </td></tr>\n",
       "\t<tr><td>0.60274952</td><td>NA        </td></tr>\n",
       "\t<tr><td>0.73487829</td><td>NA        </td></tr>\n",
       "\t<tr><td>0.06834881</td><td>NA        </td></tr>\n",
       "\t<tr><td>0.78291796</td><td>NA        </td></tr>\n",
       "\t<tr><td>0.92149271</td><td>NA        </td></tr>\n",
       "\t<tr><td>0.04428217</td><td>NA        </td></tr>\n",
       "\t<tr><td>0.71311485</td><td>NA        </td></tr>\n",
       "\t<tr><td>0.90388602</td><td>NA        </td></tr>\n",
       "\t<tr><td>0.73958150</td><td>NA        </td></tr>\n",
       "\t<tr><td>0.17217563</td><td>NA        </td></tr>\n",
       "\t<tr><td>0.18658998</td><td>NA        </td></tr>\n",
       "\t<tr><td>0.38248836</td><td>NA        </td></tr>\n",
       "\t<tr><td>0.45361328</td><td>NA        </td></tr>\n",
       "\t<tr><td>0.45513148</td><td>NA        </td></tr>\n",
       "\t<tr><td>0.17310278</td><td>NA        </td></tr>\n",
       "\t<tr><td>0.30541726</td><td>NA        </td></tr>\n",
       "\t<tr><td>0.86775210</td><td>NA        </td></tr>\n",
       "\t<tr><td>0.26023225</td><td>NA        </td></tr>\n",
       "\t<tr><td>0.68087076</td><td>NA        </td></tr>\n",
       "\t<tr><td>0.85357656</td><td>NA        </td></tr>\n",
       "\t<tr><td>0.80527431</td><td>NA        </td></tr>\n",
       "\t<tr><td>0.16351634</td><td>NA        </td></tr>\n",
       "\t<tr><td>0.47193898</td><td>NA        </td></tr>\n",
       "\t<tr><td>0.71831865</td><td>NA        </td></tr>\n",
       "\t<tr><td>0.26987859</td><td>NA        </td></tr>\n",
       "\t<tr><td>0.60823719</td><td>NA        </td></tr>\n",
       "</tbody>\n",
       "</table>\n"
      ],
      "text/latex": [
       "\\begin{tabular}{r|ll}\n",
       " x & y\\\\\n",
       "\\hline\n",
       "\t  404 & NA  \\\\\n",
       "\t 4172 & NA  \\\\\n",
       "\t 3004 & NA  \\\\\n",
       "\t  787 & NA  \\\\\n",
       "\t   37 & NA  \\\\\n",
       "\t 2332 & NA  \\\\\n",
       "\t 2489 & NA  \\\\\n",
       "\t 1449 & NA  \\\\\n",
       "\t 3665 & NA  \\\\\n",
       "\t 3863 & NA  \\\\\n",
       "\t 4374 & NA  \\\\\n",
       "\t  875 & NA  \\\\\n",
       "\t  172 & NA  \\\\\n",
       "\t 1602 & NA  \\\\\n",
       "\t 2012 & NA  \\\\\n",
       "\t  979 & NA  \\\\\n",
       "\t 2018 & NA  \\\\\n",
       "\t  319 & NA  \\\\\n",
       "\t 1944 & NA  \\\\\n",
       "\t 4878 & NA  \\\\\n",
       "\t 1450 & NA  \\\\\n",
       "\t 3392 & NA  \\\\\n",
       "\t 3677 & NA  \\\\\n",
       "\t  980 & NA  \\\\\n",
       "\t 4903 & NA  \\\\\n",
       "\t 3708 & NA  \\\\\n",
       "\t  258 & NA  \\\\\n",
       "\t 2652 & NA  \\\\\n",
       "\t 3480 & NA  \\\\\n",
       "\t 3443 & NA  \\\\\n",
       "\t ... & ...\\\\\n",
       "\t 0.14324546 & NA        \\\\\n",
       "\t 0.42678032 & NA        \\\\\n",
       "\t 0.56445359 & NA        \\\\\n",
       "\t 0.18729942 & NA        \\\\\n",
       "\t 0.60274952 & NA        \\\\\n",
       "\t 0.73487829 & NA        \\\\\n",
       "\t 0.06834881 & NA        \\\\\n",
       "\t 0.78291796 & NA        \\\\\n",
       "\t 0.92149271 & NA        \\\\\n",
       "\t 0.04428217 & NA        \\\\\n",
       "\t 0.71311485 & NA        \\\\\n",
       "\t 0.90388602 & NA        \\\\\n",
       "\t 0.73958150 & NA        \\\\\n",
       "\t 0.17217563 & NA        \\\\\n",
       "\t 0.18658998 & NA        \\\\\n",
       "\t 0.38248836 & NA        \\\\\n",
       "\t 0.45361328 & NA        \\\\\n",
       "\t 0.45513148 & NA        \\\\\n",
       "\t 0.17310278 & NA        \\\\\n",
       "\t 0.30541726 & NA        \\\\\n",
       "\t 0.86775210 & NA        \\\\\n",
       "\t 0.26023225 & NA        \\\\\n",
       "\t 0.68087076 & NA        \\\\\n",
       "\t 0.85357656 & NA        \\\\\n",
       "\t 0.80527431 & NA        \\\\\n",
       "\t 0.16351634 & NA        \\\\\n",
       "\t 0.47193898 & NA        \\\\\n",
       "\t 0.71831865 & NA        \\\\\n",
       "\t 0.26987859 & NA        \\\\\n",
       "\t 0.60823719 & NA        \\\\\n",
       "\\end{tabular}\n"
      ],
      "text/markdown": [
       "\n",
       "| x | y |\n",
       "|---|---|\n",
       "|  404 | NA   |\n",
       "| 4172 | NA   |\n",
       "| 3004 | NA   |\n",
       "|  787 | NA   |\n",
       "|   37 | NA   |\n",
       "| 2332 | NA   |\n",
       "| 2489 | NA   |\n",
       "| 1449 | NA   |\n",
       "| 3665 | NA   |\n",
       "| 3863 | NA   |\n",
       "| 4374 | NA   |\n",
       "|  875 | NA   |\n",
       "|  172 | NA   |\n",
       "| 1602 | NA   |\n",
       "| 2012 | NA   |\n",
       "|  979 | NA   |\n",
       "| 2018 | NA   |\n",
       "|  319 | NA   |\n",
       "| 1944 | NA   |\n",
       "| 4878 | NA   |\n",
       "| 1450 | NA   |\n",
       "| 3392 | NA   |\n",
       "| 3677 | NA   |\n",
       "|  980 | NA   |\n",
       "| 4903 | NA   |\n",
       "| 3708 | NA   |\n",
       "|  258 | NA   |\n",
       "| 2652 | NA   |\n",
       "| 3480 | NA   |\n",
       "| 3443 | NA   |\n",
       "| ... | ... |\n",
       "| 0.14324546 | NA         |\n",
       "| 0.42678032 | NA         |\n",
       "| 0.56445359 | NA         |\n",
       "| 0.18729942 | NA         |\n",
       "| 0.60274952 | NA         |\n",
       "| 0.73487829 | NA         |\n",
       "| 0.06834881 | NA         |\n",
       "| 0.78291796 | NA         |\n",
       "| 0.92149271 | NA         |\n",
       "| 0.04428217 | NA         |\n",
       "| 0.71311485 | NA         |\n",
       "| 0.90388602 | NA         |\n",
       "| 0.73958150 | NA         |\n",
       "| 0.17217563 | NA         |\n",
       "| 0.18658998 | NA         |\n",
       "| 0.38248836 | NA         |\n",
       "| 0.45361328 | NA         |\n",
       "| 0.45513148 | NA         |\n",
       "| 0.17310278 | NA         |\n",
       "| 0.30541726 | NA         |\n",
       "| 0.86775210 | NA         |\n",
       "| 0.26023225 | NA         |\n",
       "| 0.68087076 | NA         |\n",
       "| 0.85357656 | NA         |\n",
       "| 0.80527431 | NA         |\n",
       "| 0.16351634 | NA         |\n",
       "| 0.47193898 | NA         |\n",
       "| 0.71831865 | NA         |\n",
       "| 0.26987859 | NA         |\n",
       "| 0.60823719 | NA         |\n",
       "\n"
      ],
      "text/plain": [
       "     x          y  \n",
       "1     404       NA \n",
       "2    4172       NA \n",
       "3    3004       NA \n",
       "4     787       NA \n",
       "5      37       NA \n",
       "6    2332       NA \n",
       "7    2489       NA \n",
       "8    1449       NA \n",
       "9    3665       NA \n",
       "10   3863       NA \n",
       "11   4374       NA \n",
       "12    875       NA \n",
       "13    172       NA \n",
       "14   1602       NA \n",
       "15   2012       NA \n",
       "16    979       NA \n",
       "17   2018       NA \n",
       "18    319       NA \n",
       "19   1944       NA \n",
       "20   4878       NA \n",
       "21   1450       NA \n",
       "22   3392       NA \n",
       "23   3677       NA \n",
       "24    980       NA \n",
       "25   4903       NA \n",
       "26   3708       NA \n",
       "27    258       NA \n",
       "28   2652       NA \n",
       "29   3480       NA \n",
       "30   3443       NA \n",
       "...  ...        ...\n",
       "1971 0.14324546 NA \n",
       "1972 0.42678032 NA \n",
       "1973 0.56445359 NA \n",
       "1974 0.18729942 NA \n",
       "1975 0.60274952 NA \n",
       "1976 0.73487829 NA \n",
       "1977 0.06834881 NA \n",
       "1978 0.78291796 NA \n",
       "1979 0.92149271 NA \n",
       "1980 0.04428217 NA \n",
       "1981 0.71311485 NA \n",
       "1982 0.90388602 NA \n",
       "1983 0.73958150 NA \n",
       "1984 0.17217563 NA \n",
       "1985 0.18658998 NA \n",
       "1986 0.38248836 NA \n",
       "1987 0.45361328 NA \n",
       "1988 0.45513148 NA \n",
       "1989 0.17310278 NA \n",
       "1990 0.30541726 NA \n",
       "1991 0.86775210 NA \n",
       "1992 0.26023225 NA \n",
       "1993 0.68087076 NA \n",
       "1994 0.85357656 NA \n",
       "1995 0.80527431 NA \n",
       "1996 0.16351634 NA \n",
       "1997 0.47193898 NA \n",
       "1998 0.71831865 NA \n",
       "1999 0.26987859 NA \n",
       "2000 0.60823719 NA "
      ]
     },
     "metadata": {},
     "output_type": "display_data"
    }
   ],
   "source": [
    "read_csv(readr_example('challenge.csv'), guess_max = 1000) # default"
   ]
  },
  {
   "cell_type": "code",
   "execution_count": 99,
   "metadata": {},
   "outputs": [
    {
     "name": "stderr",
     "output_type": "stream",
     "text": [
      "\n",
      "-- Column specification ------------------------------------------------------------------------------------------------\n",
      "cols(\n",
      "  x = col_double(),\n",
      "  y = col_date(format = \"\")\n",
      ")\n",
      "\n"
     ]
    },
    {
     "data": {
      "text/html": [
       "<table>\n",
       "<thead><tr><th scope=col>x</th><th scope=col>y</th></tr></thead>\n",
       "<tbody>\n",
       "\t<tr><td> 404</td><td>NA  </td></tr>\n",
       "\t<tr><td>4172</td><td>NA  </td></tr>\n",
       "\t<tr><td>3004</td><td>NA  </td></tr>\n",
       "\t<tr><td> 787</td><td>NA  </td></tr>\n",
       "\t<tr><td>  37</td><td>NA  </td></tr>\n",
       "\t<tr><td>2332</td><td>NA  </td></tr>\n",
       "</tbody>\n",
       "</table>\n"
      ],
      "text/latex": [
       "\\begin{tabular}{r|ll}\n",
       " x & y\\\\\n",
       "\\hline\n",
       "\t  404 & NA  \\\\\n",
       "\t 4172 & NA  \\\\\n",
       "\t 3004 & NA  \\\\\n",
       "\t  787 & NA  \\\\\n",
       "\t   37 & NA  \\\\\n",
       "\t 2332 & NA  \\\\\n",
       "\\end{tabular}\n"
      ],
      "text/markdown": [
       "\n",
       "| x | y |\n",
       "|---|---|\n",
       "|  404 | NA   |\n",
       "| 4172 | NA   |\n",
       "| 3004 | NA   |\n",
       "|  787 | NA   |\n",
       "|   37 | NA   |\n",
       "| 2332 | NA   |\n",
       "\n"
      ],
      "text/plain": [
       "  x    y   \n",
       "1  404 <NA>\n",
       "2 4172 <NA>\n",
       "3 3004 <NA>\n",
       "4  787 <NA>\n",
       "5   37 <NA>\n",
       "6 2332 <NA>"
      ]
     },
     "metadata": {},
     "output_type": "display_data"
    }
   ],
   "source": [
    "# using 1500 values to guess the type \n",
    "read_csv(readr_example('challenge.csv'), guess_max = 1500) %>% head()"
   ]
  },
  {
   "cell_type": "markdown",
   "metadata": {},
   "source": [
    "### `progress`"
   ]
  },
  {
   "cell_type": "markdown",
   "metadata": {},
   "source": [
    "Display a progress bar? By default it will only display in an interactive session and not while knitting a document. The display is updated every 50,000 values and will only display if estimated reading time is 5 seconds or more. The automatic progress bar can be disabled by setting option `readr.show_progress` to FALSE."
   ]
  },
  {
   "cell_type": "markdown",
   "metadata": {},
   "source": [
    "### `skip_empty_rows`"
   ]
  },
  {
   "cell_type": "markdown",
   "metadata": {},
   "source": [
    "\t\n",
    "Should blank rows be ignored altogether? i.e. If this option is TRUE then blank rows will not be represented at all. If it is FALSE then they will be represented by NA values in all the columns.\n",
    "<hr>"
   ]
  },
  {
   "cell_type": "code",
   "execution_count": 104,
   "metadata": {},
   "outputs": [],
   "source": [
    "file_data <- 'name,clan\\n\\nVN pikachu,VN Champions'"
   ]
  },
  {
   "cell_type": "code",
   "execution_count": 105,
   "metadata": {},
   "outputs": [
    {
     "data": {
      "text/html": [
       "<table>\n",
       "<thead><tr><th scope=col>name</th><th scope=col>clan</th></tr></thead>\n",
       "<tbody>\n",
       "\t<tr><td>VN pikachu  </td><td>VN Champions</td></tr>\n",
       "</tbody>\n",
       "</table>\n"
      ],
      "text/latex": [
       "\\begin{tabular}{r|ll}\n",
       " name & clan\\\\\n",
       "\\hline\n",
       "\t VN pikachu   & VN Champions\\\\\n",
       "\\end{tabular}\n"
      ],
      "text/markdown": [
       "\n",
       "| name | clan |\n",
       "|---|---|\n",
       "| VN pikachu   | VN Champions |\n",
       "\n"
      ],
      "text/plain": [
       "  name       clan        \n",
       "1 VN pikachu VN Champions"
      ]
     },
     "metadata": {},
     "output_type": "display_data"
    }
   ],
   "source": [
    "# default skip_empty_rows = T\n",
    "\n",
    "read_csv(file_data, skip_empty_rows = T)"
   ]
  },
  {
   "cell_type": "code",
   "execution_count": 106,
   "metadata": {},
   "outputs": [
    {
     "name": "stderr",
     "output_type": "stream",
     "text": [
      "Warning message:\n",
      "\"1 parsing failure.\n",
      "row col  expected    actual         file\n",
      "  1  -- 2 columns 1 columns literal data\n",
      "\""
     ]
    },
    {
     "data": {
      "text/html": [
       "<table>\n",
       "<thead><tr><th scope=col>name</th><th scope=col>clan</th></tr></thead>\n",
       "<tbody>\n",
       "\t<tr><td>NA          </td><td>NA          </td></tr>\n",
       "\t<tr><td>VN pikachu  </td><td>VN Champions</td></tr>\n",
       "</tbody>\n",
       "</table>\n"
      ],
      "text/latex": [
       "\\begin{tabular}{r|ll}\n",
       " name & clan\\\\\n",
       "\\hline\n",
       "\t NA           & NA          \\\\\n",
       "\t VN pikachu   & VN Champions\\\\\n",
       "\\end{tabular}\n"
      ],
      "text/markdown": [
       "\n",
       "| name | clan |\n",
       "|---|---|\n",
       "| NA           | NA           |\n",
       "| VN pikachu   | VN Champions |\n",
       "\n"
      ],
      "text/plain": [
       "  name       clan        \n",
       "1 NA         NA          \n",
       "2 VN pikachu VN Champions"
      ]
     },
     "metadata": {},
     "output_type": "display_data"
    }
   ],
   "source": [
    "# skip_empty_rows = F\n",
    "read_csv(file_data, skip_empty_rows = F)"
   ]
  },
  {
   "cell_type": "markdown",
   "metadata": {},
   "source": [
    "# Value"
   ]
  },
  {
   "cell_type": "markdown",
   "metadata": {},
   "source": [
    "A **`tibble()`**. If there are parsing problems, a warning tells you how many, and you can retrieve the details with `problems()`.\n",
    "\n"
   ]
  }
 ],
 "metadata": {
  "kernelspec": {
   "display_name": "R",
   "language": "R",
   "name": "ir"
  },
  "language_info": {
   "codemirror_mode": "r",
   "file_extension": ".r",
   "mimetype": "text/x-r-source",
   "name": "R",
   "pygments_lexer": "r",
   "version": "3.6.1"
  }
 },
 "nbformat": 4,
 "nbformat_minor": 2
}
