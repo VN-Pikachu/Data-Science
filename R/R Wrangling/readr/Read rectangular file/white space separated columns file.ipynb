{
 "cells": [
  {
   "cell_type": "code",
   "execution_count": 2,
   "metadata": {},
   "outputs": [],
   "source": [
    "library(tidyverse)"
   ]
  },
  {
   "cell_type": "markdown",
   "metadata": {},
   "source": [
    "# Read whitespace-separated columns into a tibble"
   ]
  },
  {
   "cell_type": "markdown",
   "metadata": {},
   "source": [
    "**`read_table()`** and **`read_table2()`** are designed to read the type of textual data where each column is separated by one (or more) columns of space.\n",
    "\n",
    "**`read_table2()`** is like **`read.table()`**, it allows any number of whitespace characters between columns, and the lines can be of different lengths.\n",
    "\n",
    "**`read_table()`** is more strict, each line must be the same length, and each field is in the same position in every line. It first finds empty columns and then parses like a fixed width file."
   ]
  },
  {
   "cell_type": "markdown",
   "metadata": {},
   "source": [
    "**`spec_table()`** and **`spec_table2()`** return the column specifications rather than a data frame."
   ]
  },
  {
   "cell_type": "markdown",
   "metadata": {},
   "source": [
    "```r\n",
    "read_table(\n",
    "  file,\n",
    "  col_names = TRUE,\n",
    "  col_types = NULL,\n",
    "  locale = default_locale(),\n",
    "  na = \"NA\",\n",
    "  skip = 0,\n",
    "  n_max = Inf,\n",
    "  guess_max = min(n_max, 1000),\n",
    "  progress = show_progress(),\n",
    "  comment = \"\",\n",
    "  skip_empty_rows = TRUE\n",
    ")\n",
    "\n",
    "read_table2(\n",
    "  file,\n",
    "  col_names = TRUE,\n",
    "  col_types = NULL,\n",
    "  locale = default_locale(),\n",
    "  na = \"NA\",\n",
    "  skip = 0,\n",
    "  n_max = Inf,\n",
    "  guess_max = min(n_max, 1000),\n",
    "  progress = show_progress(),\n",
    "  comment = \"\",\n",
    "  skip_empty_rows = TRUE\n",
    ")\n",
    "```"
   ]
  },
  {
   "cell_type": "markdown",
   "metadata": {},
   "source": [
    "**Arguments**  \n",
    "See this <b><a href = './delimited file.ipynb'>Notebook</a></b>"
   ]
  },
  {
   "cell_type": "markdown",
   "metadata": {},
   "source": [
    "# Examples"
   ]
  },
  {
   "cell_type": "code",
   "execution_count": 4,
   "metadata": {},
   "outputs": [
    {
     "name": "stdout",
     "output_type": "stream",
     "text": [
      "UCC PAY LAZ KPK  RT   COF BIH DII ENG ACU Rank Team            Conf\n",
      "  1   1   1   1   1     1   1   1   1   1    1 Ohio St          B10 \n",
      "  2   2   2   2   2     2   2   2   4   2    2 Oregon           P12 \n",
      "  3   4   3   4   3     4   3   4   2   3    3 Alabama          SEC \n",
      "  4   3   4   3   4     3   5   3   3   4    4 TCU              B12 \n",
      "  6   6   6   5   5     7   6   5   6  11    5 Michigan St      B10 \n",
      "  7   7   7   6   7     6  11   8   7   8    6 Georgia          SEC \n",
      "  5   5   5   7   6     8   4   6   5   5    7 Florida St       ACC \n",
      "  8   8   9   9  10     5   7   7  10   7    8 Baylor           B12 \n",
      "  9  11   8  13  11    11  12   9  14   9    9 Georgia Tech     ACC \n",
      " 13  10  13  11   8     9  10  11   9  10   10 Mississippi      SEC \n"
     ]
    }
   ],
   "source": [
    "massey <- readr_example(\"massey-rating.txt\")\n",
    "\n",
    "writeLines(read_lines(massey))"
   ]
  },
  {
   "cell_type": "code",
   "execution_count": 5,
   "metadata": {},
   "outputs": [
    {
     "name": "stderr",
     "output_type": "stream",
     "text": [
      "\n",
      "-- Column specification ------------------------------------------------------------------------------------------------\n",
      "cols(\n",
      "  UCC = col_double(),\n",
      "  PAY = col_double(),\n",
      "  LAZ = col_double(),\n",
      "  KPK = col_double(),\n",
      "  RT = col_double(),\n",
      "  COF = col_double(),\n",
      "  BIH = col_double(),\n",
      "  DII = col_double(),\n",
      "  ENG = col_double(),\n",
      "  ACU = col_double(),\n",
      "  Rank = col_double(),\n",
      "  Team = col_character(),\n",
      "  Conf = col_character()\n",
      ")\n",
      "\n"
     ]
    },
    {
     "data": {
      "text/html": [
       "<table>\n",
       "<thead><tr><th scope=col>UCC</th><th scope=col>PAY</th><th scope=col>LAZ</th><th scope=col>KPK</th><th scope=col>RT</th><th scope=col>COF</th><th scope=col>BIH</th><th scope=col>DII</th><th scope=col>ENG</th><th scope=col>ACU</th><th scope=col>Rank</th><th scope=col>Team</th><th scope=col>Conf</th></tr></thead>\n",
       "<tbody>\n",
       "\t<tr><td> 1          </td><td> 1          </td><td> 1          </td><td> 1          </td><td> 1          </td><td> 1          </td><td> 1          </td><td> 1          </td><td> 1          </td><td> 1          </td><td> 1          </td><td>Ohio St     </td><td>B10         </td></tr>\n",
       "\t<tr><td> 2          </td><td> 2          </td><td> 2          </td><td> 2          </td><td> 2          </td><td> 2          </td><td> 2          </td><td> 2          </td><td> 4          </td><td> 2          </td><td> 2          </td><td>Oregon      </td><td>P12         </td></tr>\n",
       "\t<tr><td> 3          </td><td> 4          </td><td> 3          </td><td> 4          </td><td> 3          </td><td> 4          </td><td> 3          </td><td> 4          </td><td> 2          </td><td> 3          </td><td> 3          </td><td>Alabama     </td><td>SEC         </td></tr>\n",
       "\t<tr><td> 4          </td><td> 3          </td><td> 4          </td><td> 3          </td><td> 4          </td><td> 3          </td><td> 5          </td><td> 3          </td><td> 3          </td><td> 4          </td><td> 4          </td><td>TCU         </td><td>B12         </td></tr>\n",
       "\t<tr><td> 6          </td><td> 6          </td><td> 6          </td><td> 5          </td><td> 5          </td><td> 7          </td><td> 6          </td><td> 5          </td><td> 6          </td><td>11          </td><td> 5          </td><td>Michigan St </td><td>B10         </td></tr>\n",
       "\t<tr><td> 7          </td><td> 7          </td><td> 7          </td><td> 6          </td><td> 7          </td><td> 6          </td><td>11          </td><td> 8          </td><td> 7          </td><td> 8          </td><td> 6          </td><td>Georgia     </td><td>SEC         </td></tr>\n",
       "\t<tr><td> 5          </td><td> 5          </td><td> 5          </td><td> 7          </td><td> 6          </td><td> 8          </td><td> 4          </td><td> 6          </td><td> 5          </td><td> 5          </td><td> 7          </td><td>Florida St  </td><td>ACC         </td></tr>\n",
       "\t<tr><td> 8          </td><td> 8          </td><td> 9          </td><td> 9          </td><td>10          </td><td> 5          </td><td> 7          </td><td> 7          </td><td>10          </td><td> 7          </td><td> 8          </td><td>Baylor      </td><td>B12         </td></tr>\n",
       "\t<tr><td> 9          </td><td>11          </td><td> 8          </td><td>13          </td><td>11          </td><td>11          </td><td>12          </td><td> 9          </td><td>14          </td><td> 9          </td><td> 9          </td><td>Georgia Tech</td><td>ACC         </td></tr>\n",
       "\t<tr><td>13          </td><td>10          </td><td>13          </td><td>11          </td><td> 8          </td><td> 9          </td><td>10          </td><td>11          </td><td> 9          </td><td>10          </td><td>10          </td><td>Mississippi </td><td>SEC         </td></tr>\n",
       "</tbody>\n",
       "</table>\n"
      ],
      "text/latex": [
       "\\begin{tabular}{r|lllllllllllll}\n",
       " UCC & PAY & LAZ & KPK & RT & COF & BIH & DII & ENG & ACU & Rank & Team & Conf\\\\\n",
       "\\hline\n",
       "\t  1           &  1           &  1           &  1           &  1           &  1           &  1           &  1           &  1           &  1           &  1           & Ohio St      & B10         \\\\\n",
       "\t  2           &  2           &  2           &  2           &  2           &  2           &  2           &  2           &  4           &  2           &  2           & Oregon       & P12         \\\\\n",
       "\t  3           &  4           &  3           &  4           &  3           &  4           &  3           &  4           &  2           &  3           &  3           & Alabama      & SEC         \\\\\n",
       "\t  4           &  3           &  4           &  3           &  4           &  3           &  5           &  3           &  3           &  4           &  4           & TCU          & B12         \\\\\n",
       "\t  6           &  6           &  6           &  5           &  5           &  7           &  6           &  5           &  6           & 11           &  5           & Michigan St  & B10         \\\\\n",
       "\t  7           &  7           &  7           &  6           &  7           &  6           & 11           &  8           &  7           &  8           &  6           & Georgia      & SEC         \\\\\n",
       "\t  5           &  5           &  5           &  7           &  6           &  8           &  4           &  6           &  5           &  5           &  7           & Florida St   & ACC         \\\\\n",
       "\t  8           &  8           &  9           &  9           & 10           &  5           &  7           &  7           & 10           &  7           &  8           & Baylor       & B12         \\\\\n",
       "\t  9           & 11           &  8           & 13           & 11           & 11           & 12           &  9           & 14           &  9           &  9           & Georgia Tech & ACC         \\\\\n",
       "\t 13           & 10           & 13           & 11           &  8           &  9           & 10           & 11           &  9           & 10           & 10           & Mississippi  & SEC         \\\\\n",
       "\\end{tabular}\n"
      ],
      "text/markdown": [
       "\n",
       "| UCC | PAY | LAZ | KPK | RT | COF | BIH | DII | ENG | ACU | Rank | Team | Conf |\n",
       "|---|---|---|---|---|---|---|---|---|---|---|---|---|\n",
       "|  1           |  1           |  1           |  1           |  1           |  1           |  1           |  1           |  1           |  1           |  1           | Ohio St      | B10          |\n",
       "|  2           |  2           |  2           |  2           |  2           |  2           |  2           |  2           |  4           |  2           |  2           | Oregon       | P12          |\n",
       "|  3           |  4           |  3           |  4           |  3           |  4           |  3           |  4           |  2           |  3           |  3           | Alabama      | SEC          |\n",
       "|  4           |  3           |  4           |  3           |  4           |  3           |  5           |  3           |  3           |  4           |  4           | TCU          | B12          |\n",
       "|  6           |  6           |  6           |  5           |  5           |  7           |  6           |  5           |  6           | 11           |  5           | Michigan St  | B10          |\n",
       "|  7           |  7           |  7           |  6           |  7           |  6           | 11           |  8           |  7           |  8           |  6           | Georgia      | SEC          |\n",
       "|  5           |  5           |  5           |  7           |  6           |  8           |  4           |  6           |  5           |  5           |  7           | Florida St   | ACC          |\n",
       "|  8           |  8           |  9           |  9           | 10           |  5           |  7           |  7           | 10           |  7           |  8           | Baylor       | B12          |\n",
       "|  9           | 11           |  8           | 13           | 11           | 11           | 12           |  9           | 14           |  9           |  9           | Georgia Tech | ACC          |\n",
       "| 13           | 10           | 13           | 11           |  8           |  9           | 10           | 11           |  9           | 10           | 10           | Mississippi  | SEC          |\n",
       "\n"
      ],
      "text/plain": [
       "   UCC PAY LAZ KPK RT COF BIH DII ENG ACU Rank Team         Conf\n",
       "1   1   1   1   1   1  1   1   1   1   1   1   Ohio St      B10 \n",
       "2   2   2   2   2   2  2   2   2   4   2   2   Oregon       P12 \n",
       "3   3   4   3   4   3  4   3   4   2   3   3   Alabama      SEC \n",
       "4   4   3   4   3   4  3   5   3   3   4   4   TCU          B12 \n",
       "5   6   6   6   5   5  7   6   5   6  11   5   Michigan St  B10 \n",
       "6   7   7   7   6   7  6  11   8   7   8   6   Georgia      SEC \n",
       "7   5   5   5   7   6  8   4   6   5   5   7   Florida St   ACC \n",
       "8   8   8   9   9  10  5   7   7  10   7   8   Baylor       B12 \n",
       "9   9  11   8  13  11 11  12   9  14   9   9   Georgia Tech ACC \n",
       "10 13  10  13  11   8  9  10  11   9  10  10   Mississippi  SEC "
      ]
     },
     "metadata": {},
     "output_type": "display_data"
    }
   ],
   "source": [
    "read_table(massey)"
   ]
  },
  {
   "cell_type": "code",
   "execution_count": 6,
   "metadata": {},
   "outputs": [
    {
     "name": "stdout",
     "output_type": "stream",
     "text": [
      "ALFA ROMEO                                                                     ALFA ROMEO           78010003\n",
      "ALFETTA                              03  81  8    74  7   89  9                ALFETTA              78010053\n",
      "SPIDER 2000                          01                                        SPIDER 2000          78010103\n",
      "AMC                                                                            AMC                  78020002\n",
      "GREMLIN                              03  79  9                    79  9        GREMLIN              78020053\n",
      "PACER                                04  89 11                    89 11        PACER                78020103\n",
      "PACER WAGON                          07  90 26    91 26                        PACER WAGON          78020153\n",
      "CONCORD                              04  88 12    90 11   90 11   83 16        CONCORD              78020203\n",
      "CONCORD WAGON                        07  91 30            91 30                CONCORD WAGON        78020253\n",
      "MATADOR COUPE                        05  97 14    97 14                        MATADOR COUPE        78020303\n",
      "MATADOR SEDAN                        06 110 20           110 20                MATADOR SEDAN        78020353\n",
      "MATADOR WAGON                        09 112 50           112 50                MATADOR WAGON        78020403\n",
      "ASTON MARTIN                                                                   ASTON MARTIN         78040002\n",
      "ASTON MARTIN                                                                   ASTON MARTIN         78040053\n",
      "AUDI                                                                           AUDI                 78050002\n",
      "FOX                                  03  84 11    84 11   84 11                FOX                  78050053\n",
      "FOX WAGON                            07  83 40            83 40                FOX WAGON            78050103\n",
      "5000                                 04  90 15            90 15                5000                 78050153\n",
      "AVANTI                                                                         AVANTI               78065002\n",
      "AVANTI II                            02  75  8    75  8                        AVANTI II            78065053\n"
     ]
    }
   ],
   "source": [
    "epa <- readr_example(\"epa78.txt\")\n",
    "cat(read_file(epa))"
   ]
  },
  {
   "cell_type": "code",
   "execution_count": 8,
   "metadata": {},
   "outputs": [
    {
     "name": "stderr",
     "output_type": "stream",
     "text": [
      "\n",
      "-- Column specification ------------------------------------------------------------------------------------------------\n",
      "cols(\n",
      "  X1 = col_character(),\n",
      "  X2 = col_character(),\n",
      "  X3 = col_double(),\n",
      "  X4 = col_double(),\n",
      "  X5 = col_double(),\n",
      "  X6 = col_double(),\n",
      "  X7 = col_double(),\n",
      "  X8 = col_double(),\n",
      "  X9 = col_double(),\n",
      "  X10 = col_double(),\n",
      "  X11 = col_character(),\n",
      "  X12 = col_double()\n",
      ")\n",
      "\n"
     ]
    },
    {
     "data": {
      "text/html": [
       "<table>\n",
       "<thead><tr><th scope=col>X1</th><th scope=col>X2</th><th scope=col>X3</th><th scope=col>X4</th><th scope=col>X5</th><th scope=col>X6</th><th scope=col>X7</th><th scope=col>X8</th><th scope=col>X9</th><th scope=col>X10</th><th scope=col>X11</th><th scope=col>X12</th></tr></thead>\n",
       "<tbody>\n",
       "\t<tr><td>ALFA ROMEO   </td><td>             </td><td> NA          </td><td>NA           </td><td>NA           </td><td>NA           </td><td> NA          </td><td>NA           </td><td>NA           </td><td>NA           </td><td>ALFA ROMEO   </td><td>78010003     </td></tr>\n",
       "\t<tr><td>ALFETTA      </td><td>03           </td><td> 81          </td><td> 8           </td><td>74           </td><td> 7           </td><td> 89          </td><td> 9           </td><td>NA           </td><td>NA           </td><td>ALFETTA      </td><td>78010053     </td></tr>\n",
       "\t<tr><td>SPIDER 2000  </td><td>01           </td><td> NA          </td><td>NA           </td><td>NA           </td><td>NA           </td><td> NA          </td><td>NA           </td><td>NA           </td><td>NA           </td><td>SPIDER 2000  </td><td>78010103     </td></tr>\n",
       "\t<tr><td>AMC          </td><td>             </td><td> NA          </td><td>NA           </td><td>NA           </td><td>NA           </td><td> NA          </td><td>NA           </td><td>NA           </td><td>NA           </td><td>AMC          </td><td>78020002     </td></tr>\n",
       "\t<tr><td>GREMLIN      </td><td>03           </td><td> 79          </td><td> 9           </td><td>NA           </td><td>NA           </td><td> NA          </td><td>NA           </td><td>79           </td><td> 9           </td><td>GREMLIN      </td><td>78020053     </td></tr>\n",
       "\t<tr><td>PACER        </td><td>04           </td><td> 89          </td><td>11           </td><td>NA           </td><td>NA           </td><td> NA          </td><td>NA           </td><td>89           </td><td>11           </td><td>PACER        </td><td>78020103     </td></tr>\n",
       "\t<tr><td>PACER WAGON  </td><td>07           </td><td> 90          </td><td>26           </td><td>91           </td><td>26           </td><td> NA          </td><td>NA           </td><td>NA           </td><td>NA           </td><td>PACER WAGON  </td><td>78020153     </td></tr>\n",
       "\t<tr><td>CONCORD      </td><td>04           </td><td> 88          </td><td>12           </td><td>90           </td><td>11           </td><td> 90          </td><td>11           </td><td>83           </td><td>16           </td><td>CONCORD      </td><td>78020203     </td></tr>\n",
       "\t<tr><td>CONCORD WAGON</td><td>07           </td><td> 91          </td><td>30           </td><td>NA           </td><td>NA           </td><td> 91          </td><td>30           </td><td>NA           </td><td>NA           </td><td>CONCORD WAGON</td><td>78020253     </td></tr>\n",
       "\t<tr><td>MATADOR COUPE</td><td>05           </td><td> 97          </td><td>14           </td><td>97           </td><td>14           </td><td> NA          </td><td>NA           </td><td>NA           </td><td>NA           </td><td>MATADOR COUPE</td><td>78020303     </td></tr>\n",
       "\t<tr><td>MATADOR SEDAN</td><td>06           </td><td>110          </td><td>20           </td><td>NA           </td><td>NA           </td><td>110          </td><td>20           </td><td>NA           </td><td>NA           </td><td>MATADOR SEDAN</td><td>78020353     </td></tr>\n",
       "\t<tr><td>MATADOR WAGON</td><td>09           </td><td>112          </td><td>50           </td><td>NA           </td><td>NA           </td><td>112          </td><td>50           </td><td>NA           </td><td>NA           </td><td>MATADOR WAGON</td><td>78020403     </td></tr>\n",
       "\t<tr><td>ASTON MARTIN </td><td>             </td><td> NA          </td><td>NA           </td><td>NA           </td><td>NA           </td><td> NA          </td><td>NA           </td><td>NA           </td><td>NA           </td><td>ASTON MARTIN </td><td>78040002     </td></tr>\n",
       "\t<tr><td>ASTON MARTIN </td><td>             </td><td> NA          </td><td>NA           </td><td>NA           </td><td>NA           </td><td> NA          </td><td>NA           </td><td>NA           </td><td>NA           </td><td>ASTON MARTIN </td><td>78040053     </td></tr>\n",
       "\t<tr><td>AUDI         </td><td>             </td><td> NA          </td><td>NA           </td><td>NA           </td><td>NA           </td><td> NA          </td><td>NA           </td><td>NA           </td><td>NA           </td><td>AUDI         </td><td>78050002     </td></tr>\n",
       "\t<tr><td>FOX          </td><td>03           </td><td> 84          </td><td>11           </td><td>84           </td><td>11           </td><td> 84          </td><td>11           </td><td>NA           </td><td>NA           </td><td>FOX          </td><td>78050053     </td></tr>\n",
       "\t<tr><td>FOX WAGON    </td><td>07           </td><td> 83          </td><td>40           </td><td>NA           </td><td>NA           </td><td> 83          </td><td>40           </td><td>NA           </td><td>NA           </td><td>FOX WAGON    </td><td>78050103     </td></tr>\n",
       "\t<tr><td>5000         </td><td>04           </td><td> 90          </td><td>15           </td><td>NA           </td><td>NA           </td><td> 90          </td><td>15           </td><td>NA           </td><td>NA           </td><td>5000         </td><td>78050153     </td></tr>\n",
       "\t<tr><td>AVANTI       </td><td>             </td><td> NA          </td><td>NA           </td><td>NA           </td><td>NA           </td><td> NA          </td><td>NA           </td><td>NA           </td><td>NA           </td><td>AVANTI       </td><td>78065002     </td></tr>\n",
       "\t<tr><td>AVANTI II    </td><td>02           </td><td> 75          </td><td> 8           </td><td>75           </td><td> 8           </td><td> NA          </td><td>NA           </td><td>NA           </td><td>NA           </td><td>AVANTI II    </td><td>78065053     </td></tr>\n",
       "</tbody>\n",
       "</table>\n"
      ],
      "text/latex": [
       "\\begin{tabular}{r|llllllllllll}\n",
       " X1 & X2 & X3 & X4 & X5 & X6 & X7 & X8 & X9 & X10 & X11 & X12\\\\\n",
       "\\hline\n",
       "\t ALFA ROMEO    &               &  NA           & NA            & NA            & NA            &  NA           & NA            & NA            & NA            & ALFA ROMEO    & 78010003     \\\\\n",
       "\t ALFETTA       & 03            &  81           &  8            & 74            &  7            &  89           &  9            & NA            & NA            & ALFETTA       & 78010053     \\\\\n",
       "\t SPIDER 2000   & 01            &  NA           & NA            & NA            & NA            &  NA           & NA            & NA            & NA            & SPIDER 2000   & 78010103     \\\\\n",
       "\t AMC           &               &  NA           & NA            & NA            & NA            &  NA           & NA            & NA            & NA            & AMC           & 78020002     \\\\\n",
       "\t GREMLIN       & 03            &  79           &  9            & NA            & NA            &  NA           & NA            & 79            &  9            & GREMLIN       & 78020053     \\\\\n",
       "\t PACER         & 04            &  89           & 11            & NA            & NA            &  NA           & NA            & 89            & 11            & PACER         & 78020103     \\\\\n",
       "\t PACER WAGON   & 07            &  90           & 26            & 91            & 26            &  NA           & NA            & NA            & NA            & PACER WAGON   & 78020153     \\\\\n",
       "\t CONCORD       & 04            &  88           & 12            & 90            & 11            &  90           & 11            & 83            & 16            & CONCORD       & 78020203     \\\\\n",
       "\t CONCORD WAGON & 07            &  91           & 30            & NA            & NA            &  91           & 30            & NA            & NA            & CONCORD WAGON & 78020253     \\\\\n",
       "\t MATADOR COUPE & 05            &  97           & 14            & 97            & 14            &  NA           & NA            & NA            & NA            & MATADOR COUPE & 78020303     \\\\\n",
       "\t MATADOR SEDAN & 06            & 110           & 20            & NA            & NA            & 110           & 20            & NA            & NA            & MATADOR SEDAN & 78020353     \\\\\n",
       "\t MATADOR WAGON & 09            & 112           & 50            & NA            & NA            & 112           & 50            & NA            & NA            & MATADOR WAGON & 78020403     \\\\\n",
       "\t ASTON MARTIN  &               &  NA           & NA            & NA            & NA            &  NA           & NA            & NA            & NA            & ASTON MARTIN  & 78040002     \\\\\n",
       "\t ASTON MARTIN  &               &  NA           & NA            & NA            & NA            &  NA           & NA            & NA            & NA            & ASTON MARTIN  & 78040053     \\\\\n",
       "\t AUDI          &               &  NA           & NA            & NA            & NA            &  NA           & NA            & NA            & NA            & AUDI          & 78050002     \\\\\n",
       "\t FOX           & 03            &  84           & 11            & 84            & 11            &  84           & 11            & NA            & NA            & FOX           & 78050053     \\\\\n",
       "\t FOX WAGON     & 07            &  83           & 40            & NA            & NA            &  83           & 40            & NA            & NA            & FOX WAGON     & 78050103     \\\\\n",
       "\t 5000          & 04            &  90           & 15            & NA            & NA            &  90           & 15            & NA            & NA            & 5000          & 78050153     \\\\\n",
       "\t AVANTI        &               &  NA           & NA            & NA            & NA            &  NA           & NA            & NA            & NA            & AVANTI        & 78065002     \\\\\n",
       "\t AVANTI II     & 02            &  75           &  8            & 75            &  8            &  NA           & NA            & NA            & NA            & AVANTI II     & 78065053     \\\\\n",
       "\\end{tabular}\n"
      ],
      "text/markdown": [
       "\n",
       "| X1 | X2 | X3 | X4 | X5 | X6 | X7 | X8 | X9 | X10 | X11 | X12 |\n",
       "|---|---|---|---|---|---|---|---|---|---|---|---|\n",
       "| ALFA ROMEO    |               |  NA           | NA            | NA            | NA            |  NA           | NA            | NA            | NA            | ALFA ROMEO    | 78010003      |\n",
       "| ALFETTA       | 03            |  81           |  8            | 74            |  7            |  89           |  9            | NA            | NA            | ALFETTA       | 78010053      |\n",
       "| SPIDER 2000   | 01            |  NA           | NA            | NA            | NA            |  NA           | NA            | NA            | NA            | SPIDER 2000   | 78010103      |\n",
       "| AMC           |               |  NA           | NA            | NA            | NA            |  NA           | NA            | NA            | NA            | AMC           | 78020002      |\n",
       "| GREMLIN       | 03            |  79           |  9            | NA            | NA            |  NA           | NA            | 79            |  9            | GREMLIN       | 78020053      |\n",
       "| PACER         | 04            |  89           | 11            | NA            | NA            |  NA           | NA            | 89            | 11            | PACER         | 78020103      |\n",
       "| PACER WAGON   | 07            |  90           | 26            | 91            | 26            |  NA           | NA            | NA            | NA            | PACER WAGON   | 78020153      |\n",
       "| CONCORD       | 04            |  88           | 12            | 90            | 11            |  90           | 11            | 83            | 16            | CONCORD       | 78020203      |\n",
       "| CONCORD WAGON | 07            |  91           | 30            | NA            | NA            |  91           | 30            | NA            | NA            | CONCORD WAGON | 78020253      |\n",
       "| MATADOR COUPE | 05            |  97           | 14            | 97            | 14            |  NA           | NA            | NA            | NA            | MATADOR COUPE | 78020303      |\n",
       "| MATADOR SEDAN | 06            | 110           | 20            | NA            | NA            | 110           | 20            | NA            | NA            | MATADOR SEDAN | 78020353      |\n",
       "| MATADOR WAGON | 09            | 112           | 50            | NA            | NA            | 112           | 50            | NA            | NA            | MATADOR WAGON | 78020403      |\n",
       "| ASTON MARTIN  |               |  NA           | NA            | NA            | NA            |  NA           | NA            | NA            | NA            | ASTON MARTIN  | 78040002      |\n",
       "| ASTON MARTIN  |               |  NA           | NA            | NA            | NA            |  NA           | NA            | NA            | NA            | ASTON MARTIN  | 78040053      |\n",
       "| AUDI          |               |  NA           | NA            | NA            | NA            |  NA           | NA            | NA            | NA            | AUDI          | 78050002      |\n",
       "| FOX           | 03            |  84           | 11            | 84            | 11            |  84           | 11            | NA            | NA            | FOX           | 78050053      |\n",
       "| FOX WAGON     | 07            |  83           | 40            | NA            | NA            |  83           | 40            | NA            | NA            | FOX WAGON     | 78050103      |\n",
       "| 5000          | 04            |  90           | 15            | NA            | NA            |  90           | 15            | NA            | NA            | 5000          | 78050153      |\n",
       "| AVANTI        |               |  NA           | NA            | NA            | NA            |  NA           | NA            | NA            | NA            | AVANTI        | 78065002      |\n",
       "| AVANTI II     | 02            |  75           |  8            | 75            |  8            |  NA           | NA            | NA            | NA            | AVANTI II     | 78065053      |\n",
       "\n"
      ],
      "text/plain": [
       "   X1            X2 X3  X4 X5 X6 X7  X8 X9 X10 X11           X12     \n",
       "1  ALFA ROMEO        NA NA NA NA  NA NA NA NA  ALFA ROMEO    78010003\n",
       "2  ALFETTA       03  81  8 74  7  89  9 NA NA  ALFETTA       78010053\n",
       "3  SPIDER 2000   01  NA NA NA NA  NA NA NA NA  SPIDER 2000   78010103\n",
       "4  AMC               NA NA NA NA  NA NA NA NA  AMC           78020002\n",
       "5  GREMLIN       03  79  9 NA NA  NA NA 79  9  GREMLIN       78020053\n",
       "6  PACER         04  89 11 NA NA  NA NA 89 11  PACER         78020103\n",
       "7  PACER WAGON   07  90 26 91 26  NA NA NA NA  PACER WAGON   78020153\n",
       "8  CONCORD       04  88 12 90 11  90 11 83 16  CONCORD       78020203\n",
       "9  CONCORD WAGON 07  91 30 NA NA  91 30 NA NA  CONCORD WAGON 78020253\n",
       "10 MATADOR COUPE 05  97 14 97 14  NA NA NA NA  MATADOR COUPE 78020303\n",
       "11 MATADOR SEDAN 06 110 20 NA NA 110 20 NA NA  MATADOR SEDAN 78020353\n",
       "12 MATADOR WAGON 09 112 50 NA NA 112 50 NA NA  MATADOR WAGON 78020403\n",
       "13 ASTON MARTIN      NA NA NA NA  NA NA NA NA  ASTON MARTIN  78040002\n",
       "14 ASTON MARTIN      NA NA NA NA  NA NA NA NA  ASTON MARTIN  78040053\n",
       "15 AUDI              NA NA NA NA  NA NA NA NA  AUDI          78050002\n",
       "16 FOX           03  84 11 84 11  84 11 NA NA  FOX           78050053\n",
       "17 FOX WAGON     07  83 40 NA NA  83 40 NA NA  FOX WAGON     78050103\n",
       "18 5000          04  90 15 NA NA  90 15 NA NA  5000          78050153\n",
       "19 AVANTI            NA NA NA NA  NA NA NA NA  AVANTI        78065002\n",
       "20 AVANTI II     02  75  8 75  8  NA NA NA NA  AVANTI II     78065053"
      ]
     },
     "metadata": {},
     "output_type": "display_data"
    }
   ],
   "source": [
    "read_table(epa, col_names = F)"
   ]
  }
 ],
 "metadata": {
  "kernelspec": {
   "display_name": "R",
   "language": "R",
   "name": "ir"
  },
  "language_info": {
   "codemirror_mode": "r",
   "file_extension": ".r",
   "mimetype": "text/x-r-source",
   "name": "R",
   "pygments_lexer": "r",
   "version": "3.6.1"
  }
 },
 "nbformat": 4,
 "nbformat_minor": 2
}
