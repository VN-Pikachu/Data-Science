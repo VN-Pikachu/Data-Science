{
 "cells": [
  {
   "cell_type": "code",
   "execution_count": 2,
   "metadata": {},
   "outputs": [],
   "source": [
    "library(tidyverse)"
   ]
  },
  {
   "cell_type": "markdown",
   "metadata": {},
   "source": [
    "# Read a fixed width file into a tibble"
   ]
  },
  {
   "cell_type": "markdown",
   "metadata": {},
   "source": [
    "A fixed width file can be a very compact representation of numeric data. It's also very fast to parse, because every field is in the same place in every line. Unfortunately, it's painful to parse because you need to describe the length of every field. Readr aims to make it as easy as possible by providing a number of different ways to describe the field structure."
   ]
  },
  {
   "cell_type": "markdown",
   "metadata": {},
   "source": [
    "```r\n",
    "read_fwf(\n",
    "  file,\n",
    "  col_positions,\n",
    "  col_types = NULL,\n",
    "  locale = default_locale(),\n",
    "  na = c(\"\", \"NA\"),\n",
    "  comment = \"\",\n",
    "  trim_ws = TRUE,\n",
    "  skip = 0,\n",
    "  n_max = Inf,\n",
    "  guess_max = min(n_max, 1000),\n",
    "  progress = show_progress(),\n",
    "  skip_empty_rows = TRUE\n",
    ")\n",
    "\n",
    "fwf_empty(\n",
    "  file,\n",
    "  skip = 0,\n",
    "  skip_empty_rows = FALSE,\n",
    "  col_names = NULL,\n",
    "  comment = \"\",\n",
    "  n = 100L\n",
    ")\n",
    "\n",
    "fwf_widths(widths, col_names = NULL)\n",
    "\n",
    "fwf_positions(start, end, col_names = NULL)\n",
    "\n",
    "fwf_cols(...)\n",
    "```"
   ]
  },
  {
   "cell_type": "markdown",
   "metadata": {},
   "source": [
    "# Examples"
   ]
  },
  {
   "cell_type": "code",
   "execution_count": 3,
   "metadata": {},
   "outputs": [
    {
     "name": "stdout",
     "output_type": "stream",
     "text": [
      "John Smith          WA        418-Y11-4111\n",
      "Mary Hartford       CA        319-Z19-4341\n",
      "Evan Nolan          IL        219-532-c301\n"
     ]
    }
   ],
   "source": [
    "fwf_sample <- readr_example(\"fwf-sample.txt\")\n",
    "writeLines(read_lines(fwf_sample))"
   ]
  },
  {
   "cell_type": "markdown",
   "metadata": {},
   "source": [
    "You can specify column positions in several ways:\n",
    "* 1. Guess based on position of empty columns"
   ]
  },
  {
   "cell_type": "code",
   "execution_count": 7,
   "metadata": {},
   "outputs": [
    {
     "data": {
      "text/html": [
       "<dl>\n",
       "\t<dt>$begin</dt>\n",
       "\t\t<dd><ol class=list-inline>\n",
       "\t<li>0</li>\n",
       "\t<li>5</li>\n",
       "\t<li>20</li>\n",
       "\t<li>30</li>\n",
       "</ol>\n",
       "</dd>\n",
       "\t<dt>$end</dt>\n",
       "\t\t<dd><ol class=list-inline>\n",
       "\t<li>4</li>\n",
       "\t<li>13</li>\n",
       "\t<li>22</li>\n",
       "\t<li>&lt;NA&gt;</li>\n",
       "</ol>\n",
       "</dd>\n",
       "\t<dt>$skip</dt>\n",
       "\t\t<dd>0</dd>\n",
       "\t<dt>$col_names</dt>\n",
       "\t\t<dd><ol class=list-inline>\n",
       "\t<li>'First name'</li>\n",
       "\t<li>'Last name'</li>\n",
       "\t<li>'State'</li>\n",
       "\t<li>'snn'</li>\n",
       "</ol>\n",
       "</dd>\n",
       "</dl>\n"
      ],
      "text/latex": [
       "\\begin{description}\n",
       "\\item[\\$begin] \\begin{enumerate*}\n",
       "\\item 0\n",
       "\\item 5\n",
       "\\item 20\n",
       "\\item 30\n",
       "\\end{enumerate*}\n",
       "\n",
       "\\item[\\$end] \\begin{enumerate*}\n",
       "\\item 4\n",
       "\\item 13\n",
       "\\item 22\n",
       "\\item <NA>\n",
       "\\end{enumerate*}\n",
       "\n",
       "\\item[\\$skip] 0\n",
       "\\item[\\$col\\_names] \\begin{enumerate*}\n",
       "\\item 'First name'\n",
       "\\item 'Last name'\n",
       "\\item 'State'\n",
       "\\item 'snn'\n",
       "\\end{enumerate*}\n",
       "\n",
       "\\end{description}\n"
      ],
      "text/markdown": [
       "$begin\n",
       ":   1. 0\n",
       "2. 5\n",
       "3. 20\n",
       "4. 30\n",
       "\n",
       "\n",
       "\n",
       "$end\n",
       ":   1. 4\n",
       "2. 13\n",
       "3. 22\n",
       "4. &lt;NA&gt;\n",
       "\n",
       "\n",
       "\n",
       "$skip\n",
       ":   0\n",
       "$col_names\n",
       ":   1. 'First name'\n",
       "2. 'Last name'\n",
       "3. 'State'\n",
       "4. 'snn'\n",
       "\n",
       "\n",
       "\n",
       "\n",
       "\n"
      ],
      "text/plain": [
       "$begin\n",
       "[1]  0  5 20 30\n",
       "\n",
       "$end\n",
       "[1]  4 13 22 NA\n",
       "\n",
       "$skip\n",
       "[1] 0\n",
       "\n",
       "$col_names\n",
       "[1] \"First name\" \"Last name\"  \"State\"      \"snn\"       \n"
      ]
     },
     "metadata": {},
     "output_type": "display_data"
    }
   ],
   "source": [
    "position <- fwf_empty(fwf_sample, col_names = c('First name', 'Last name', 'State', 'snn'))\n",
    "position"
   ]
  },
  {
   "cell_type": "code",
   "execution_count": 8,
   "metadata": {},
   "outputs": [
    {
     "name": "stderr",
     "output_type": "stream",
     "text": [
      "\n",
      "-- Column specification ------------------------------------------------------------------------------------------------\n",
      "cols(\n",
      "  `First name` = col_character(),\n",
      "  `Last name` = col_character(),\n",
      "  State = col_character(),\n",
      "  snn = col_character()\n",
      ")\n",
      "\n"
     ]
    },
    {
     "data": {
      "text/html": [
       "<table>\n",
       "<thead><tr><th scope=col>First name</th><th scope=col>Last name</th><th scope=col>State</th><th scope=col>snn</th></tr></thead>\n",
       "<tbody>\n",
       "\t<tr><td>John        </td><td>Smith       </td><td>WA          </td><td>418-Y11-4111</td></tr>\n",
       "\t<tr><td>Mary        </td><td>Hartford    </td><td>CA          </td><td>319-Z19-4341</td></tr>\n",
       "\t<tr><td>Evan        </td><td>Nolan       </td><td>IL          </td><td>219-532-c301</td></tr>\n",
       "</tbody>\n",
       "</table>\n"
      ],
      "text/latex": [
       "\\begin{tabular}{r|llll}\n",
       " First name & Last name & State & snn\\\\\n",
       "\\hline\n",
       "\t John         & Smith        & WA           & 418-Y11-4111\\\\\n",
       "\t Mary         & Hartford     & CA           & 319-Z19-4341\\\\\n",
       "\t Evan         & Nolan        & IL           & 219-532-c301\\\\\n",
       "\\end{tabular}\n"
      ],
      "text/markdown": [
       "\n",
       "| First name | Last name | State | snn |\n",
       "|---|---|---|---|\n",
       "| John         | Smith        | WA           | 418-Y11-4111 |\n",
       "| Mary         | Hartford     | CA           | 319-Z19-4341 |\n",
       "| Evan         | Nolan        | IL           | 219-532-c301 |\n",
       "\n"
      ],
      "text/plain": [
       "  First name Last name State snn         \n",
       "1 John       Smith     WA    418-Y11-4111\n",
       "2 Mary       Hartford  CA    319-Z19-4341\n",
       "3 Evan       Nolan     IL    219-532-c301"
      ]
     },
     "metadata": {},
     "output_type": "display_data"
    }
   ],
   "source": [
    "read_fwf(fwf_sample, position)"
   ]
  },
  {
   "cell_type": "markdown",
   "metadata": {},
   "source": [
    "* 2. A vector of field widths"
   ]
  },
  {
   "cell_type": "code",
   "execution_count": 14,
   "metadata": {},
   "outputs": [
    {
     "data": {
      "text/html": [
       "<table>\n",
       "<thead><tr><th scope=col>begin</th><th scope=col>end</th><th scope=col>col_names</th></tr></thead>\n",
       "<tbody>\n",
       "\t<tr><td> 0   </td><td>20   </td><td>name </td></tr>\n",
       "\t<tr><td>20   </td><td>30   </td><td>state</td></tr>\n",
       "\t<tr><td>30   </td><td>42   </td><td>snn  </td></tr>\n",
       "</tbody>\n",
       "</table>\n"
      ],
      "text/latex": [
       "\\begin{tabular}{r|lll}\n",
       " begin & end & col\\_names\\\\\n",
       "\\hline\n",
       "\t  0    & 20    & name \\\\\n",
       "\t 20    & 30    & state\\\\\n",
       "\t 30    & 42    & snn  \\\\\n",
       "\\end{tabular}\n"
      ],
      "text/markdown": [
       "\n",
       "| begin | end | col_names |\n",
       "|---|---|---|\n",
       "|  0    | 20    | name  |\n",
       "| 20    | 30    | state |\n",
       "| 30    | 42    | snn   |\n",
       "\n"
      ],
      "text/plain": [
       "  begin end col_names\n",
       "1  0    20  name     \n",
       "2 20    30  state    \n",
       "3 30    42  snn      "
      ]
     },
     "metadata": {},
     "output_type": "display_data"
    }
   ],
   "source": [
    "position <- fwf_widths(c(20, 10, 12), col_names = c('name', 'state', 'snn'))\n",
    "position"
   ]
  },
  {
   "cell_type": "code",
   "execution_count": 16,
   "metadata": {},
   "outputs": [
    {
     "name": "stderr",
     "output_type": "stream",
     "text": [
      "\n",
      "-- Column specification ------------------------------------------------------------------------------------------------\n",
      "cols(\n",
      "  name = col_character(),\n",
      "  state = col_character(),\n",
      "  snn = col_character()\n",
      ")\n",
      "\n"
     ]
    },
    {
     "data": {
      "text/html": [
       "<table>\n",
       "<thead><tr><th scope=col>name</th><th scope=col>state</th><th scope=col>snn</th></tr></thead>\n",
       "<tbody>\n",
       "\t<tr><td>John Smith   </td><td>WA           </td><td>418-Y11-4111 </td></tr>\n",
       "\t<tr><td>Mary Hartford</td><td>CA           </td><td>319-Z19-4341 </td></tr>\n",
       "\t<tr><td>Evan Nolan   </td><td>IL           </td><td>219-532-c301 </td></tr>\n",
       "</tbody>\n",
       "</table>\n"
      ],
      "text/latex": [
       "\\begin{tabular}{r|lll}\n",
       " name & state & snn\\\\\n",
       "\\hline\n",
       "\t John Smith    & WA            & 418-Y11-4111 \\\\\n",
       "\t Mary Hartford & CA            & 319-Z19-4341 \\\\\n",
       "\t Evan Nolan    & IL            & 219-532-c301 \\\\\n",
       "\\end{tabular}\n"
      ],
      "text/markdown": [
       "\n",
       "| name | state | snn |\n",
       "|---|---|---|\n",
       "| John Smith    | WA            | 418-Y11-4111  |\n",
       "| Mary Hartford | CA            | 319-Z19-4341  |\n",
       "| Evan Nolan    | IL            | 219-532-c301  |\n",
       "\n"
      ],
      "text/plain": [
       "  name          state snn         \n",
       "1 John Smith    WA    418-Y11-4111\n",
       "2 Mary Hartford CA    319-Z19-4341\n",
       "3 Evan Nolan    IL    219-532-c301"
      ]
     },
     "metadata": {},
     "output_type": "display_data"
    }
   ],
   "source": [
    "read_fwf(fwf_sample, position)"
   ]
  },
  {
   "cell_type": "markdown",
   "metadata": {},
   "source": [
    "* 3. Paired vectors of start and end positions"
   ]
  },
  {
   "cell_type": "code",
   "execution_count": 18,
   "metadata": {},
   "outputs": [
    {
     "data": {
      "text/html": [
       "<table>\n",
       "<thead><tr><th scope=col>begin</th><th scope=col>end</th><th scope=col>col_names</th></tr></thead>\n",
       "<tbody>\n",
       "\t<tr><td> 0  </td><td>20  </td><td>name</td></tr>\n",
       "\t<tr><td>29  </td><td>42  </td><td>snn </td></tr>\n",
       "</tbody>\n",
       "</table>\n"
      ],
      "text/latex": [
       "\\begin{tabular}{r|lll}\n",
       " begin & end & col\\_names\\\\\n",
       "\\hline\n",
       "\t  0   & 20   & name\\\\\n",
       "\t 29   & 42   & snn \\\\\n",
       "\\end{tabular}\n"
      ],
      "text/markdown": [
       "\n",
       "| begin | end | col_names |\n",
       "|---|---|---|\n",
       "|  0   | 20   | name |\n",
       "| 29   | 42   | snn  |\n",
       "\n"
      ],
      "text/plain": [
       "  begin end col_names\n",
       "1  0    20  name     \n",
       "2 29    42  snn      "
      ]
     },
     "metadata": {},
     "output_type": "display_data"
    }
   ],
   "source": [
    "position <- fwf_positions(start = c(1, 30), end = c(20, 42), col_names = c('name', 'snn'))\n",
    "position"
   ]
  },
  {
   "cell_type": "code",
   "execution_count": 19,
   "metadata": {},
   "outputs": [
    {
     "name": "stderr",
     "output_type": "stream",
     "text": [
      "\n",
      "-- Column specification ------------------------------------------------------------------------------------------------\n",
      "cols(\n",
      "  name = col_character(),\n",
      "  snn = col_character()\n",
      ")\n",
      "\n"
     ]
    },
    {
     "data": {
      "text/html": [
       "<table>\n",
       "<thead><tr><th scope=col>name</th><th scope=col>snn</th></tr></thead>\n",
       "<tbody>\n",
       "\t<tr><td>John Smith   </td><td>418-Y11-4111 </td></tr>\n",
       "\t<tr><td>Mary Hartford</td><td>319-Z19-4341 </td></tr>\n",
       "\t<tr><td>Evan Nolan   </td><td>219-532-c301 </td></tr>\n",
       "</tbody>\n",
       "</table>\n"
      ],
      "text/latex": [
       "\\begin{tabular}{r|ll}\n",
       " name & snn\\\\\n",
       "\\hline\n",
       "\t John Smith    & 418-Y11-4111 \\\\\n",
       "\t Mary Hartford & 319-Z19-4341 \\\\\n",
       "\t Evan Nolan    & 219-532-c301 \\\\\n",
       "\\end{tabular}\n"
      ],
      "text/markdown": [
       "\n",
       "| name | snn |\n",
       "|---|---|\n",
       "| John Smith    | 418-Y11-4111  |\n",
       "| Mary Hartford | 319-Z19-4341  |\n",
       "| Evan Nolan    | 219-532-c301  |\n",
       "\n"
      ],
      "text/plain": [
       "  name          snn         \n",
       "1 John Smith    418-Y11-4111\n",
       "2 Mary Hartford 319-Z19-4341\n",
       "3 Evan Nolan    219-532-c301"
      ]
     },
     "metadata": {},
     "output_type": "display_data"
    }
   ],
   "source": [
    "read_fwf(fwf_sample, position)"
   ]
  },
  {
   "cell_type": "markdown",
   "metadata": {},
   "source": [
    "* 4. Named arguments with start and end positions"
   ]
  },
  {
   "cell_type": "code",
   "execution_count": 21,
   "metadata": {},
   "outputs": [
    {
     "data": {
      "text/html": [
       "<table>\n",
       "<thead><tr><th scope=col>begin</th><th scope=col>end</th><th scope=col>col_names</th></tr></thead>\n",
       "<tbody>\n",
       "\t<tr><td> 0  </td><td>20  </td><td>name</td></tr>\n",
       "\t<tr><td>29  </td><td>42  </td><td>snn </td></tr>\n",
       "</tbody>\n",
       "</table>\n"
      ],
      "text/latex": [
       "\\begin{tabular}{r|lll}\n",
       " begin & end & col\\_names\\\\\n",
       "\\hline\n",
       "\t  0   & 20   & name\\\\\n",
       "\t 29   & 42   & snn \\\\\n",
       "\\end{tabular}\n"
      ],
      "text/markdown": [
       "\n",
       "| begin | end | col_names |\n",
       "|---|---|---|\n",
       "|  0   | 20   | name |\n",
       "| 29   | 42   | snn  |\n",
       "\n"
      ],
      "text/plain": [
       "  begin end col_names\n",
       "1  0    20  name     \n",
       "2 29    42  snn      "
      ]
     },
     "metadata": {},
     "output_type": "display_data"
    }
   ],
   "source": [
    "position <- fwf_cols(name = c(1, 20), snn = c(30, 42))\n",
    "position"
   ]
  },
  {
   "cell_type": "code",
   "execution_count": 22,
   "metadata": {},
   "outputs": [
    {
     "name": "stderr",
     "output_type": "stream",
     "text": [
      "\n",
      "-- Column specification ------------------------------------------------------------------------------------------------\n",
      "cols(\n",
      "  name = col_character(),\n",
      "  snn = col_character()\n",
      ")\n",
      "\n"
     ]
    },
    {
     "data": {
      "text/html": [
       "<table>\n",
       "<thead><tr><th scope=col>name</th><th scope=col>snn</th></tr></thead>\n",
       "<tbody>\n",
       "\t<tr><td>John Smith   </td><td>418-Y11-4111 </td></tr>\n",
       "\t<tr><td>Mary Hartford</td><td>319-Z19-4341 </td></tr>\n",
       "\t<tr><td>Evan Nolan   </td><td>219-532-c301 </td></tr>\n",
       "</tbody>\n",
       "</table>\n"
      ],
      "text/latex": [
       "\\begin{tabular}{r|ll}\n",
       " name & snn\\\\\n",
       "\\hline\n",
       "\t John Smith    & 418-Y11-4111 \\\\\n",
       "\t Mary Hartford & 319-Z19-4341 \\\\\n",
       "\t Evan Nolan    & 219-532-c301 \\\\\n",
       "\\end{tabular}\n"
      ],
      "text/markdown": [
       "\n",
       "| name | snn |\n",
       "|---|---|\n",
       "| John Smith    | 418-Y11-4111  |\n",
       "| Mary Hartford | 319-Z19-4341  |\n",
       "| Evan Nolan    | 219-532-c301  |\n",
       "\n"
      ],
      "text/plain": [
       "  name          snn         \n",
       "1 John Smith    418-Y11-4111\n",
       "2 Mary Hartford 319-Z19-4341\n",
       "3 Evan Nolan    219-532-c301"
      ]
     },
     "metadata": {},
     "output_type": "display_data"
    }
   ],
   "source": [
    "read_fwf(fwf_sample, position)"
   ]
  },
  {
   "cell_type": "markdown",
   "metadata": {},
   "source": [
    "* 5. Named arguments with column widths"
   ]
  },
  {
   "cell_type": "code",
   "execution_count": 23,
   "metadata": {},
   "outputs": [
    {
     "data": {
      "text/html": [
       "<table>\n",
       "<thead><tr><th scope=col>begin</th><th scope=col>end</th><th scope=col>col_names</th></tr></thead>\n",
       "<tbody>\n",
       "\t<tr><td> 0   </td><td>20   </td><td>name </td></tr>\n",
       "\t<tr><td>20   </td><td>30   </td><td>state</td></tr>\n",
       "\t<tr><td>30   </td><td>42   </td><td>snn  </td></tr>\n",
       "</tbody>\n",
       "</table>\n"
      ],
      "text/latex": [
       "\\begin{tabular}{r|lll}\n",
       " begin & end & col\\_names\\\\\n",
       "\\hline\n",
       "\t  0    & 20    & name \\\\\n",
       "\t 20    & 30    & state\\\\\n",
       "\t 30    & 42    & snn  \\\\\n",
       "\\end{tabular}\n"
      ],
      "text/markdown": [
       "\n",
       "| begin | end | col_names |\n",
       "|---|---|---|\n",
       "|  0    | 20    | name  |\n",
       "| 20    | 30    | state |\n",
       "| 30    | 42    | snn   |\n",
       "\n"
      ],
      "text/plain": [
       "  begin end col_names\n",
       "1  0    20  name     \n",
       "2 20    30  state    \n",
       "3 30    42  snn      "
      ]
     },
     "metadata": {},
     "output_type": "display_data"
    }
   ],
   "source": [
    "position <- fwf_cols(name = 20, state = 10, snn = 12)\n",
    "position"
   ]
  },
  {
   "cell_type": "code",
   "execution_count": 24,
   "metadata": {},
   "outputs": [
    {
     "name": "stderr",
     "output_type": "stream",
     "text": [
      "\n",
      "-- Column specification ------------------------------------------------------------------------------------------------\n",
      "cols(\n",
      "  name = col_character(),\n",
      "  state = col_character(),\n",
      "  snn = col_character()\n",
      ")\n",
      "\n"
     ]
    },
    {
     "data": {
      "text/html": [
       "<table>\n",
       "<thead><tr><th scope=col>name</th><th scope=col>state</th><th scope=col>snn</th></tr></thead>\n",
       "<tbody>\n",
       "\t<tr><td>John Smith   </td><td>WA           </td><td>418-Y11-4111 </td></tr>\n",
       "\t<tr><td>Mary Hartford</td><td>CA           </td><td>319-Z19-4341 </td></tr>\n",
       "\t<tr><td>Evan Nolan   </td><td>IL           </td><td>219-532-c301 </td></tr>\n",
       "</tbody>\n",
       "</table>\n"
      ],
      "text/latex": [
       "\\begin{tabular}{r|lll}\n",
       " name & state & snn\\\\\n",
       "\\hline\n",
       "\t John Smith    & WA            & 418-Y11-4111 \\\\\n",
       "\t Mary Hartford & CA            & 319-Z19-4341 \\\\\n",
       "\t Evan Nolan    & IL            & 219-532-c301 \\\\\n",
       "\\end{tabular}\n"
      ],
      "text/markdown": [
       "\n",
       "| name | state | snn |\n",
       "|---|---|---|\n",
       "| John Smith    | WA            | 418-Y11-4111  |\n",
       "| Mary Hartford | CA            | 319-Z19-4341  |\n",
       "| Evan Nolan    | IL            | 219-532-c301  |\n",
       "\n"
      ],
      "text/plain": [
       "  name          state snn         \n",
       "1 John Smith    WA    418-Y11-4111\n",
       "2 Mary Hartford CA    319-Z19-4341\n",
       "3 Evan Nolan    IL    219-532-c301"
      ]
     },
     "metadata": {},
     "output_type": "display_data"
    }
   ],
   "source": [
    "read_fwf(fwf_sample, position)"
   ]
  },
  {
   "cell_type": "markdown",
   "metadata": {},
   "source": [
    "# Arguments"
   ]
  },
  {
   "cell_type": "markdown",
   "metadata": {},
   "source": [
    "### `col_positions`"
   ]
  },
  {
   "cell_type": "markdown",
   "metadata": {},
   "source": [
    "Column positions, as created by `fwf_empty()`, `fwf_widths()` or `fwf_positions()`. To read in only selected fields, use `fwf_positions()`. If the width of the last column is variable (a ragged fwf file), supply the last end position as NA."
   ]
  },
  {
   "cell_type": "markdown",
   "metadata": {},
   "source": [
    "<hr>"
   ]
  },
  {
   "cell_type": "code",
   "execution_count": 27,
   "metadata": {},
   "outputs": [],
   "source": [
    "TF <- 'VN Pikachu       31       VN Champions\n",
    "ETOGRUL          34       Dirilis\n",
    "Monkey           35       Daemones'"
   ]
  },
  {
   "cell_type": "code",
   "execution_count": 28,
   "metadata": {},
   "outputs": [
    {
     "name": "stdout",
     "output_type": "stream",
     "text": [
      "VN Pikachu       31       VN Champions\n",
      "ETOGRUL          34       Dirilis\n",
      "Monkey           35       Daemones"
     ]
    }
   ],
   "source": [
    "cat(TF)"
   ]
  },
  {
   "cell_type": "markdown",
   "metadata": {},
   "source": [
    "* Based on empty columns"
   ]
  },
  {
   "cell_type": "code",
   "execution_count": 36,
   "metadata": {},
   "outputs": [
    {
     "data": {
      "text/html": [
       "<dl>\n",
       "\t<dt>$begin</dt>\n",
       "\t\t<dd><ol class=list-inline>\n",
       "\t<li>0</li>\n",
       "\t<li>17</li>\n",
       "\t<li>26</li>\n",
       "</ol>\n",
       "</dd>\n",
       "\t<dt>$end</dt>\n",
       "\t\t<dd><ol class=list-inline>\n",
       "\t<li>10</li>\n",
       "\t<li>19</li>\n",
       "\t<li>&lt;NA&gt;</li>\n",
       "</ol>\n",
       "</dd>\n",
       "\t<dt>$skip</dt>\n",
       "\t\t<dd>0</dd>\n",
       "\t<dt>$col_names</dt>\n",
       "\t\t<dd><ol class=list-inline>\n",
       "\t<li>'Name'</li>\n",
       "\t<li>'Level'</li>\n",
       "\t<li>'Clan'</li>\n",
       "</ol>\n",
       "</dd>\n",
       "</dl>\n"
      ],
      "text/latex": [
       "\\begin{description}\n",
       "\\item[\\$begin] \\begin{enumerate*}\n",
       "\\item 0\n",
       "\\item 17\n",
       "\\item 26\n",
       "\\end{enumerate*}\n",
       "\n",
       "\\item[\\$end] \\begin{enumerate*}\n",
       "\\item 10\n",
       "\\item 19\n",
       "\\item <NA>\n",
       "\\end{enumerate*}\n",
       "\n",
       "\\item[\\$skip] 0\n",
       "\\item[\\$col\\_names] \\begin{enumerate*}\n",
       "\\item 'Name'\n",
       "\\item 'Level'\n",
       "\\item 'Clan'\n",
       "\\end{enumerate*}\n",
       "\n",
       "\\end{description}\n"
      ],
      "text/markdown": [
       "$begin\n",
       ":   1. 0\n",
       "2. 17\n",
       "3. 26\n",
       "\n",
       "\n",
       "\n",
       "$end\n",
       ":   1. 10\n",
       "2. 19\n",
       "3. &lt;NA&gt;\n",
       "\n",
       "\n",
       "\n",
       "$skip\n",
       ":   0\n",
       "$col_names\n",
       ":   1. 'Name'\n",
       "2. 'Level'\n",
       "3. 'Clan'\n",
       "\n",
       "\n",
       "\n",
       "\n",
       "\n"
      ],
      "text/plain": [
       "$begin\n",
       "[1]  0 17 26\n",
       "\n",
       "$end\n",
       "[1] 10 19 NA\n",
       "\n",
       "$skip\n",
       "[1] 0\n",
       "\n",
       "$col_names\n",
       "[1] \"Name\"  \"Level\" \"Clan\" \n"
      ]
     },
     "metadata": {},
     "output_type": "display_data"
    }
   ],
   "source": [
    "position <- fwf_empty(TF, col_names = c('Name', 'Level', 'Clan'))\n",
    "position"
   ]
  },
  {
   "cell_type": "code",
   "execution_count": 37,
   "metadata": {},
   "outputs": [
    {
     "data": {
      "text/html": [
       "<table>\n",
       "<thead><tr><th scope=col>Name</th><th scope=col>Level</th><th scope=col>Clan</th></tr></thead>\n",
       "<tbody>\n",
       "\t<tr><td>VN Pikachu  </td><td>31          </td><td>VN Champions</td></tr>\n",
       "\t<tr><td>ETOGRUL     </td><td>34          </td><td>Dirilis     </td></tr>\n",
       "\t<tr><td>Monkey      </td><td>35          </td><td>Daemones    </td></tr>\n",
       "</tbody>\n",
       "</table>\n"
      ],
      "text/latex": [
       "\\begin{tabular}{r|lll}\n",
       " Name & Level & Clan\\\\\n",
       "\\hline\n",
       "\t VN Pikachu   & 31           & VN Champions\\\\\n",
       "\t ETOGRUL      & 34           & Dirilis     \\\\\n",
       "\t Monkey       & 35           & Daemones    \\\\\n",
       "\\end{tabular}\n"
      ],
      "text/markdown": [
       "\n",
       "| Name | Level | Clan |\n",
       "|---|---|---|\n",
       "| VN Pikachu   | 31           | VN Champions |\n",
       "| ETOGRUL      | 34           | Dirilis      |\n",
       "| Monkey       | 35           | Daemones     |\n",
       "\n"
      ],
      "text/plain": [
       "  Name       Level Clan        \n",
       "1 VN Pikachu 31    VN Champions\n",
       "2 ETOGRUL    34    Dirilis     \n",
       "3 Monkey     35    Daemones    "
      ]
     },
     "metadata": {},
     "output_type": "display_data"
    }
   ],
   "source": [
    "read_fwf(TF, position)"
   ]
  },
  {
   "cell_type": "markdown",
   "metadata": {},
   "source": [
    "*  Based on column widths of each field"
   ]
  },
  {
   "cell_type": "code",
   "execution_count": 47,
   "metadata": {},
   "outputs": [
    {
     "data": {
      "text/html": [
       "<table>\n",
       "<thead><tr><th scope=col>begin</th><th scope=col>end</th><th scope=col>col_names</th></tr></thead>\n",
       "<tbody>\n",
       "\t<tr><td> 0   </td><td>17   </td><td>Name </td></tr>\n",
       "\t<tr><td>17   </td><td>19   </td><td>Level</td></tr>\n",
       "\t<tr><td>19   </td><td>NA   </td><td>Clan </td></tr>\n",
       "</tbody>\n",
       "</table>\n"
      ],
      "text/latex": [
       "\\begin{tabular}{r|lll}\n",
       " begin & end & col\\_names\\\\\n",
       "\\hline\n",
       "\t  0    & 17    & Name \\\\\n",
       "\t 17    & 19    & Level\\\\\n",
       "\t 19    & NA    & Clan \\\\\n",
       "\\end{tabular}\n"
      ],
      "text/markdown": [
       "\n",
       "| begin | end | col_names |\n",
       "|---|---|---|\n",
       "|  0    | 17    | Name  |\n",
       "| 17    | 19    | Level |\n",
       "| 19    | NA    | Clan  |\n",
       "\n"
      ],
      "text/plain": [
       "  begin end col_names\n",
       "1  0    17  Name     \n",
       "2 17    19  Level    \n",
       "3 19    NA  Clan     "
      ]
     },
     "metadata": {},
     "output_type": "display_data"
    }
   ],
   "source": [
    "position <- fwf_widths(c(17, 2, NA), col_names = c('Name', 'Level', 'Clan'))\n",
    "\n",
    "position"
   ]
  },
  {
   "cell_type": "code",
   "execution_count": 48,
   "metadata": {},
   "outputs": [
    {
     "data": {
      "text/html": [
       "<table>\n",
       "<thead><tr><th scope=col>Name</th><th scope=col>Level</th><th scope=col>Clan</th></tr></thead>\n",
       "<tbody>\n",
       "\t<tr><td>VN Pikachu  </td><td>31          </td><td>VN Champions</td></tr>\n",
       "\t<tr><td>ETOGRUL     </td><td>34          </td><td>Dirilis     </td></tr>\n",
       "\t<tr><td>Monkey      </td><td>35          </td><td>Daemones    </td></tr>\n",
       "</tbody>\n",
       "</table>\n"
      ],
      "text/latex": [
       "\\begin{tabular}{r|lll}\n",
       " Name & Level & Clan\\\\\n",
       "\\hline\n",
       "\t VN Pikachu   & 31           & VN Champions\\\\\n",
       "\t ETOGRUL      & 34           & Dirilis     \\\\\n",
       "\t Monkey       & 35           & Daemones    \\\\\n",
       "\\end{tabular}\n"
      ],
      "text/markdown": [
       "\n",
       "| Name | Level | Clan |\n",
       "|---|---|---|\n",
       "| VN Pikachu   | 31           | VN Champions |\n",
       "| ETOGRUL      | 34           | Dirilis      |\n",
       "| Monkey       | 35           | Daemones     |\n",
       "\n"
      ],
      "text/plain": [
       "  Name       Level Clan        \n",
       "1 VN Pikachu 31    VN Champions\n",
       "2 ETOGRUL    34    Dirilis     \n",
       "3 Monkey     35    Daemones    "
      ]
     },
     "metadata": {},
     "output_type": "display_data"
    }
   ],
   "source": [
    "read_fwf(TF, position)"
   ]
  },
  {
   "cell_type": "code",
   "execution_count": 49,
   "metadata": {},
   "outputs": [
    {
     "data": {
      "text/html": [
       "<table>\n",
       "<thead><tr><th scope=col>Name</th><th scope=col>Level</th><th scope=col>Clan</th></tr></thead>\n",
       "<tbody>\n",
       "\t<tr><td>VN Pikachu  </td><td>31          </td><td>VN Champions</td></tr>\n",
       "\t<tr><td>ETOGRUL     </td><td>34          </td><td>Dirilis     </td></tr>\n",
       "\t<tr><td>Monkey      </td><td>35          </td><td>Daemones    </td></tr>\n",
       "</tbody>\n",
       "</table>\n"
      ],
      "text/latex": [
       "\\begin{tabular}{r|lll}\n",
       " Name & Level & Clan\\\\\n",
       "\\hline\n",
       "\t VN Pikachu   & 31           & VN Champions\\\\\n",
       "\t ETOGRUL      & 34           & Dirilis     \\\\\n",
       "\t Monkey       & 35           & Daemones    \\\\\n",
       "\\end{tabular}\n"
      ],
      "text/markdown": [
       "\n",
       "| Name | Level | Clan |\n",
       "|---|---|---|\n",
       "| VN Pikachu   | 31           | VN Champions |\n",
       "| ETOGRUL      | 34           | Dirilis      |\n",
       "| Monkey       | 35           | Daemones     |\n",
       "\n"
      ],
      "text/plain": [
       "  Name       Level Clan        \n",
       "1 VN Pikachu 31    VN Champions\n",
       "2 ETOGRUL    34    Dirilis     \n",
       "3 Monkey     35    Daemones    "
      ]
     },
     "metadata": {},
     "output_type": "display_data"
    }
   ],
   "source": [
    "# equivalent\n",
    "position <- fwf_cols(Name = 17, Level = 2, Clan = NA)\n",
    "\n",
    "read_fwf(TF, position)"
   ]
  },
  {
   "cell_type": "markdown",
   "metadata": {},
   "source": [
    "* Based on the start and end positon of each column"
   ]
  },
  {
   "cell_type": "code",
   "execution_count": 52,
   "metadata": {},
   "outputs": [
    {
     "data": {
      "text/html": [
       "<table>\n",
       "<thead><tr><th scope=col>begin</th><th scope=col>end</th><th scope=col>col_names</th></tr></thead>\n",
       "<tbody>\n",
       "\t<tr><td> 0  </td><td>17  </td><td>Name</td></tr>\n",
       "\t<tr><td>19  </td><td>NA  </td><td>Clan</td></tr>\n",
       "</tbody>\n",
       "</table>\n"
      ],
      "text/latex": [
       "\\begin{tabular}{r|lll}\n",
       " begin & end & col\\_names\\\\\n",
       "\\hline\n",
       "\t  0   & 17   & Name\\\\\n",
       "\t 19   & NA   & Clan\\\\\n",
       "\\end{tabular}\n"
      ],
      "text/markdown": [
       "\n",
       "| begin | end | col_names |\n",
       "|---|---|---|\n",
       "|  0   | 17   | Name |\n",
       "| 19   | NA   | Clan |\n",
       "\n"
      ],
      "text/plain": [
       "  begin end col_names\n",
       "1  0    17  Name     \n",
       "2 19    NA  Clan     "
      ]
     },
     "metadata": {},
     "output_type": "display_data"
    }
   ],
   "source": [
    "position <- fwf_positions(start = c(1, 20), end = c(17, NA), col_names = c('Name', 'Clan'))\n",
    "position"
   ]
  },
  {
   "cell_type": "code",
   "execution_count": 53,
   "metadata": {},
   "outputs": [
    {
     "data": {
      "text/html": [
       "<table>\n",
       "<thead><tr><th scope=col>Name</th><th scope=col>Clan</th></tr></thead>\n",
       "<tbody>\n",
       "\t<tr><td>VN Pikachu  </td><td>VN Champions</td></tr>\n",
       "\t<tr><td>ETOGRUL     </td><td>Dirilis     </td></tr>\n",
       "\t<tr><td>Monkey      </td><td>Daemones    </td></tr>\n",
       "</tbody>\n",
       "</table>\n"
      ],
      "text/latex": [
       "\\begin{tabular}{r|ll}\n",
       " Name & Clan\\\\\n",
       "\\hline\n",
       "\t VN Pikachu   & VN Champions\\\\\n",
       "\t ETOGRUL      & Dirilis     \\\\\n",
       "\t Monkey       & Daemones    \\\\\n",
       "\\end{tabular}\n"
      ],
      "text/markdown": [
       "\n",
       "| Name | Clan |\n",
       "|---|---|\n",
       "| VN Pikachu   | VN Champions |\n",
       "| ETOGRUL      | Dirilis      |\n",
       "| Monkey       | Daemones     |\n",
       "\n"
      ],
      "text/plain": [
       "  Name       Clan        \n",
       "1 VN Pikachu VN Champions\n",
       "2 ETOGRUL    Dirilis     \n",
       "3 Monkey     Daemones    "
      ]
     },
     "metadata": {},
     "output_type": "display_data"
    }
   ],
   "source": [
    "read_fwf(TF, position)"
   ]
  },
  {
   "cell_type": "code",
   "execution_count": 54,
   "metadata": {},
   "outputs": [
    {
     "data": {
      "text/html": [
       "<table>\n",
       "<thead><tr><th scope=col>Name</th><th scope=col>Clan</th></tr></thead>\n",
       "<tbody>\n",
       "\t<tr><td>VN Pikachu  </td><td>VN Champions</td></tr>\n",
       "\t<tr><td>ETOGRUL     </td><td>Dirilis     </td></tr>\n",
       "\t<tr><td>Monkey      </td><td>Daemones    </td></tr>\n",
       "</tbody>\n",
       "</table>\n"
      ],
      "text/latex": [
       "\\begin{tabular}{r|ll}\n",
       " Name & Clan\\\\\n",
       "\\hline\n",
       "\t VN Pikachu   & VN Champions\\\\\n",
       "\t ETOGRUL      & Dirilis     \\\\\n",
       "\t Monkey       & Daemones    \\\\\n",
       "\\end{tabular}\n"
      ],
      "text/markdown": [
       "\n",
       "| Name | Clan |\n",
       "|---|---|\n",
       "| VN Pikachu   | VN Champions |\n",
       "| ETOGRUL      | Dirilis      |\n",
       "| Monkey       | Daemones     |\n",
       "\n"
      ],
      "text/plain": [
       "  Name       Clan        \n",
       "1 VN Pikachu VN Champions\n",
       "2 ETOGRUL    Dirilis     \n",
       "3 Monkey     Daemones    "
      ]
     },
     "metadata": {},
     "output_type": "display_data"
    }
   ],
   "source": [
    "# equivalent\n",
    "position <- fwf_cols(Name = c(1,17), Clan = c(20, NA))\n",
    "\n",
    "read_fwf(TF, position)"
   ]
  },
  {
   "cell_type": "markdown",
   "metadata": {},
   "source": [
    "### `n`"
   ]
  },
  {
   "cell_type": "markdown",
   "metadata": {},
   "source": [
    "Number of lines the tokenizer will read to determine file structure. By default it is set to 100."
   ]
  },
  {
   "cell_type": "markdown",
   "metadata": {},
   "source": [
    "### `widths`\t"
   ]
  },
  {
   "cell_type": "markdown",
   "metadata": {},
   "source": [
    "Width of each field. Use NA as width of last field when reading a ragged fwf file."
   ]
  },
  {
   "cell_type": "markdown",
   "metadata": {},
   "source": [
    "### `start`, `end`\t"
   ]
  },
  {
   "cell_type": "markdown",
   "metadata": {},
   "source": [
    "Starting and ending (inclusive) positions of each field. Use NA as last end field when reading a ragged fwf file."
   ]
  },
  {
   "cell_type": "markdown",
   "metadata": {},
   "source": [
    "### `...`\t"
   ]
  },
  {
   "cell_type": "markdown",
   "metadata": {},
   "source": [
    "If the first element is a data frame, then it must have all numeric columns and either one or two rows. The column names are the variable names. The column values are the variable widths if a length one vector, and if length two, variable start and end positions. The elements of ... are used to construct a data frame with or or two rows as above."
   ]
  },
  {
   "cell_type": "markdown",
   "metadata": {},
   "source": [
    "### other arguments"
   ]
  },
  {
   "cell_type": "markdown",
   "metadata": {},
   "source": [
    "<b><a href = './delimited file.ipynb'>See this notebook</a></b>"
   ]
  }
 ],
 "metadata": {
  "kernelspec": {
   "display_name": "R",
   "language": "R",
   "name": "ir"
  },
  "language_info": {
   "codemirror_mode": "r",
   "file_extension": ".r",
   "mimetype": "text/x-r-source",
   "name": "R",
   "pygments_lexer": "r",
   "version": "3.6.1"
  }
 },
 "nbformat": 4,
 "nbformat_minor": 2
}
