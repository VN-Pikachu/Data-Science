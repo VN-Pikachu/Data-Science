{
 "cells": [
  {
   "cell_type": "code",
   "execution_count": 2,
   "metadata": {},
   "outputs": [],
   "source": [
    "library(tidyverse)"
   ]
  },
  {
   "cell_type": "markdown",
   "metadata": {},
   "source": [
    "# Read common/combined log file into a tibble"
   ]
  },
  {
   "cell_type": "markdown",
   "metadata": {},
   "source": [
    "This is a fairly standard format for log files - it uses both quotes and square brackets for quoting, and there may be literal quotes embedded in a quoted string. The dash, \"-\", is used for missing values."
   ]
  },
  {
   "cell_type": "markdown",
   "metadata": {},
   "source": [
    "```r\n",
    "read_log(\n",
    "  file,\n",
    "  col_names = FALSE,\n",
    "  col_types = NULL,\n",
    "  skip = 0,\n",
    "  n_max = Inf,\n",
    "  progress = show_progress()\n",
    ")\n",
    "```"
   ]
  },
  {
   "cell_type": "markdown",
   "metadata": {},
   "source": [
    "**Arguments**  \n",
    "See this <b><a href = './delimited file.ipynb'>Notebook</a></b>"
   ]
  },
  {
   "cell_type": "markdown",
   "metadata": {},
   "source": [
    "# Examples"
   ]
  },
  {
   "cell_type": "code",
   "execution_count": 5,
   "metadata": {},
   "outputs": [
    {
     "name": "stdout",
     "output_type": "stream",
     "text": [
      "172.21.13.45 - Microsoft\\JohnDoe [08/Apr/2001:17:39:04 -0800] \"GET /scripts/iisadmin/ism.dll?http/serv HTTP/1.0\" 200 3401\n",
      "127.0.0.1 - frank [10/Oct/2000:13:55:36 -0700] \"GET /apache_pb.gif HTTP/1.0\" 200 2326\n"
     ]
    }
   ],
   "source": [
    "example_path <- readr_example('example.log')\n",
    "writeLines(read_lines(example_path))"
   ]
  },
  {
   "cell_type": "code",
   "execution_count": 6,
   "metadata": {},
   "outputs": [
    {
     "name": "stderr",
     "output_type": "stream",
     "text": [
      "\n",
      "-- Column specification ------------------------------------------------------------------------------------------------\n",
      "cols(\n",
      "  X1 = col_character(),\n",
      "  X2 = col_logical(),\n",
      "  X3 = col_character(),\n",
      "  X4 = col_character(),\n",
      "  X5 = col_character(),\n",
      "  X6 = col_double(),\n",
      "  X7 = col_double()\n",
      ")\n",
      "\n"
     ]
    },
    {
     "data": {
      "text/html": [
       "<table>\n",
       "<thead><tr><th scope=col>X1</th><th scope=col>X2</th><th scope=col>X3</th><th scope=col>X4</th><th scope=col>X5</th><th scope=col>X6</th><th scope=col>X7</th></tr></thead>\n",
       "<tbody>\n",
       "\t<tr><td>172.21.13.45                                    </td><td>NA                                              </td><td>Microsoft\\JohnDoe                              </td><td>08/Apr/2001:17:39:04 -0800                      </td><td>GET /scripts/iisadmin/ism.dll?http/serv HTTP/1.0</td><td>200                                             </td><td>3401                                            </td></tr>\n",
       "\t<tr><td>127.0.0.1                                       </td><td>NA                                              </td><td>frank                                           </td><td>10/Oct/2000:13:55:36 -0700                      </td><td>GET /apache_pb.gif HTTP/1.0                     </td><td>200                                             </td><td>2326                                            </td></tr>\n",
       "</tbody>\n",
       "</table>\n"
      ],
      "text/latex": [
       "\\begin{tabular}{r|lllllll}\n",
       " X1 & X2 & X3 & X4 & X5 & X6 & X7\\\\\n",
       "\\hline\n",
       "\t 172.21.13.45                                     & NA                                               & Microsoft\\textbackslash{}JohnDoe                & 08/Apr/2001:17:39:04 -0800                       & GET /scripts/iisadmin/ism.dll?http/serv HTTP/1.0 & 200                                              & 3401                                            \\\\\n",
       "\t 127.0.0.1                                          & NA                                                 & frank                                              & 10/Oct/2000:13:55:36 -0700                         & GET /apache\\_pb.gif HTTP/1.0                      & 200                                                & 2326                                              \\\\\n",
       "\\end{tabular}\n"
      ],
      "text/markdown": [
       "\n",
       "| X1 | X2 | X3 | X4 | X5 | X6 | X7 |\n",
       "|---|---|---|---|---|---|---|\n",
       "| 172.21.13.45                                     | NA                                               | Microsoft\\JohnDoe                               | 08/Apr/2001:17:39:04 -0800                       | GET /scripts/iisadmin/ism.dll?http/serv HTTP/1.0 | 200                                              | 3401                                             |\n",
       "| 127.0.0.1                                        | NA                                               | frank                                            | 10/Oct/2000:13:55:36 -0700                       | GET /apache_pb.gif HTTP/1.0                      | 200                                              | 2326                                             |\n",
       "\n"
      ],
      "text/plain": [
       "  X1           X2 X3                 X4                        \n",
       "1 172.21.13.45 NA Microsoft\\\\JohnDoe 08/Apr/2001:17:39:04 -0800\n",
       "2 127.0.0.1    NA frank              10/Oct/2000:13:55:36 -0700\n",
       "  X5                                               X6  X7  \n",
       "1 GET /scripts/iisadmin/ism.dll?http/serv HTTP/1.0 200 3401\n",
       "2 GET /apache_pb.gif HTTP/1.0                      200 2326"
      ]
     },
     "metadata": {},
     "output_type": "display_data"
    }
   ],
   "source": [
    "read_log(example_path)"
   ]
  }
 ],
 "metadata": {
  "kernelspec": {
   "display_name": "R",
   "language": "R",
   "name": "ir"
  },
  "language_info": {
   "codemirror_mode": "r",
   "file_extension": ".r",
   "mimetype": "text/x-r-source",
   "name": "R",
   "pygments_lexer": "r",
   "version": "3.6.1"
  }
 },
 "nbformat": 4,
 "nbformat_minor": 2
}
