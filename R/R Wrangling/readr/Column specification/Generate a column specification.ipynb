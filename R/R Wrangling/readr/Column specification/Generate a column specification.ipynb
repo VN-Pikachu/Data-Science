{
 "cells": [
  {
   "cell_type": "code",
   "execution_count": 2,
   "metadata": {},
   "outputs": [],
   "source": [
    "library(tidyverse)"
   ]
  },
  {
   "cell_type": "markdown",
   "metadata": {},
   "source": [
    "# Generate a column specification"
   ]
  },
  {
   "cell_type": "markdown",
   "metadata": {},
   "source": [
    "When printed, only the first 20 columns are printed by default. To override, set options(readr.num_columns) can be used to modify this (a value of 0 turns off printing)."
   ]
  },
  {
   "cell_type": "markdown",
   "metadata": {},
   "source": [
    "```r\n",
    "spec_delim(\n",
    "  file,\n",
    "  delim,\n",
    "  quote = \"\\\"\",\n",
    "  escape_backslash = FALSE,\n",
    "  escape_double = TRUE,\n",
    "  col_names = TRUE,\n",
    "  col_types = NULL,\n",
    "  locale = default_locale(),\n",
    "  na = c(\"\", \"NA\"),\n",
    "  quoted_na = TRUE,\n",
    "  comment = \"\",\n",
    "  trim_ws = FALSE,\n",
    "  skip = 0,\n",
    "  n_max = 0,\n",
    "  guess_max = 1000,\n",
    "  progress = show_progress(),\n",
    "  skip_empty_rows = TRUE\n",
    ")\n",
    "\n",
    "spec_csv(\n",
    "  file,\n",
    "  col_names = TRUE,\n",
    "  col_types = NULL,\n",
    "  locale = default_locale(),\n",
    "  na = c(\"\", \"NA\"),\n",
    "  quoted_na = TRUE,\n",
    "  quote = \"\\\"\",\n",
    "  comment = \"\",\n",
    "  trim_ws = TRUE,\n",
    "  skip = 0,\n",
    "  n_max = 0,\n",
    "  guess_max = 1000,\n",
    "  progress = show_progress(),\n",
    "  skip_empty_rows = TRUE\n",
    ")\n",
    "\n",
    "spec_csv2(\n",
    "  file,\n",
    "  col_names = TRUE,\n",
    "  col_types = NULL,\n",
    "  locale = default_locale(),\n",
    "  na = c(\"\", \"NA\"),\n",
    "  quoted_na = TRUE,\n",
    "  quote = \"\\\"\",\n",
    "  comment = \"\",\n",
    "  trim_ws = TRUE,\n",
    "  skip = 0,\n",
    "  n_max = 0,\n",
    "  guess_max = 1000,\n",
    "  progress = show_progress(),\n",
    "  skip_empty_rows = TRUE\n",
    ")\n",
    "\n",
    "spec_tsv(\n",
    "  file,\n",
    "  col_names = TRUE,\n",
    "  col_types = NULL,\n",
    "  locale = default_locale(),\n",
    "  na = c(\"\", \"NA\"),\n",
    "  quoted_na = TRUE,\n",
    "  quote = \"\\\"\",\n",
    "  comment = \"\",\n",
    "  trim_ws = TRUE,\n",
    "  skip = 0,\n",
    "  n_max = 0,\n",
    "  guess_max = 1000,\n",
    "  progress = show_progress(),\n",
    "  skip_empty_rows = TRUE\n",
    ")\n",
    "\n",
    "spec_table(\n",
    "  file,\n",
    "  col_names = TRUE,\n",
    "  col_types = NULL,\n",
    "  locale = default_locale(),\n",
    "  na = \"NA\",\n",
    "  skip = 0,\n",
    "  n_max = 0,\n",
    "  guess_max = 1000,\n",
    "  progress = show_progress(),\n",
    "  comment = \"\",\n",
    "  skip_empty_rows = TRUE\n",
    ")\n",
    "\n",
    "spec_table2(\n",
    "  file,\n",
    "  col_names = TRUE,\n",
    "  col_types = NULL,\n",
    "  locale = default_locale(),\n",
    "  na = \"NA\",\n",
    "  skip = 0,\n",
    "  n_max = 0,\n",
    "  guess_max = 1000,\n",
    "  progress = show_progress(),\n",
    "  comment = \"\",\n",
    "  skip_empty_rows = TRUE\n",
    ")\n",
    "```"
   ]
  },
  {
   "cell_type": "markdown",
   "metadata": {},
   "source": [
    "# Examples"
   ]
  },
  {
   "cell_type": "markdown",
   "metadata": {},
   "source": [
    " See <b><a href = '../Introduction.ipynb'>Introduction Notebook</a></b> for more examples"
   ]
  },
  {
   "cell_type": "code",
   "execution_count": 4,
   "metadata": {},
   "outputs": [
    {
     "name": "stderr",
     "output_type": "stream",
     "text": [
      "\n",
      "-- Column specification ------------------------------------------------------------------------------------------------\n",
      "cols(\n",
      "  mpg = col_double(),\n",
      "  cyl = col_double(),\n",
      "  disp = col_double(),\n",
      "  hp = col_double(),\n",
      "  drat = col_double(),\n",
      "  wt = col_double(),\n",
      "  qsec = col_double(),\n",
      "  vs = col_double(),\n",
      "  am = col_double(),\n",
      "  gear = col_double(),\n",
      "  carb = col_double()\n",
      ")\n",
      "\n"
     ]
    }
   ],
   "source": [
    "mtcars_path <- readr_example('mtcars.csv')\n",
    "\n",
    "mtcars <- read_csv(mtcars_path) "
   ]
  },
  {
   "cell_type": "code",
   "execution_count": 5,
   "metadata": {},
   "outputs": [
    {
     "name": "stderr",
     "output_type": "stream",
     "text": [
      "\n",
      "-- Column specification ------------------------------------------------------------------------------------------------\n",
      "cols(\n",
      "  mpg = col_double(),\n",
      "  cyl = col_double(),\n",
      "  disp = col_double(),\n",
      "  hp = col_double(),\n",
      "  drat = col_double(),\n",
      "  wt = col_double(),\n",
      "  qsec = col_double(),\n",
      "  vs = col_double(),\n",
      "  am = col_double(),\n",
      "  gear = col_double(),\n",
      "  carb = col_double()\n",
      ")\n",
      "\n"
     ]
    },
    {
     "data": {
      "text/plain": [
       "cols(\n",
       "  mpg = col_double(),\n",
       "  cyl = col_double(),\n",
       "  disp = col_double(),\n",
       "  hp = col_double(),\n",
       "  drat = col_double(),\n",
       "  wt = col_double(),\n",
       "  qsec = col_double(),\n",
       "  vs = col_double(),\n",
       "  am = col_double(),\n",
       "  gear = col_double(),\n",
       "  carb = col_double()\n",
       ")"
      ]
     },
     "metadata": {},
     "output_type": "display_data"
    }
   ],
   "source": [
    "# get column specification\n",
    "spec_csv(mtcars_path)"
   ]
  }
 ],
 "metadata": {
  "kernelspec": {
   "display_name": "R",
   "language": "R",
   "name": "ir"
  },
  "language_info": {
   "codemirror_mode": "r",
   "file_extension": ".r",
   "mimetype": "text/x-r-source",
   "name": "R",
   "pygments_lexer": "r",
   "version": "3.6.1"
  }
 },
 "nbformat": 4,
 "nbformat_minor": 2
}
