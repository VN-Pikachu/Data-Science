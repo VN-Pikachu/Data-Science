{
 "cells": [
  {
   "cell_type": "code",
   "execution_count": 2,
   "metadata": {},
   "outputs": [],
   "source": [
    "library(tidyverse)"
   ]
  },
  {
   "cell_type": "markdown",
   "metadata": {},
   "source": [
    "# Create column specification"
   ]
  },
  {
   "cell_type": "markdown",
   "metadata": {},
   "source": [
    "* **`cols()`** includes all columns in the input data, guessing the column types as the default.  \n",
    "* **`cols_only()`** includes only the columns you explicitly specify, skipping the rest."
   ]
  },
  {
   "cell_type": "markdown",
   "metadata": {},
   "source": [
    "```r\n",
    "cols(..., .default = col_guess())\n",
    "\n",
    "cols_only(...)\n",
    "```"
   ]
  },
  {
   "cell_type": "markdown",
   "metadata": {},
   "source": [
    "**Arguments**  \n",
    "`...`\t\n",
    "Either column objects created by `col_*()`, or their abbreviated character names (as described in the `col_types` argument of `read_delim()`). If you're only overriding a few columns, it's best to refer to columns by name. If not named, the column types must match the column names exactly.\n",
    "\n",
    "`.default`\t\n",
    "Any named columns not explicitly overridden in `...` will be read with this column type."
   ]
  },
  {
   "cell_type": "markdown",
   "metadata": {},
   "source": [
    "# Details"
   ]
  },
  {
   "cell_type": "markdown",
   "metadata": {},
   "source": [
    "The available specifications are: (with string abbreviations in brackets)\n",
    "\n",
    "* **`col_logical()`** [l], containing only T, F, TRUE or FALSE.\n",
    "\n",
    "* **`col_integer()`** [i], integers.\n",
    "\n",
    "* **`col_double()`** [d], doubles.\n",
    "\n",
    "* **`col_character()`** [c], everything else.\n",
    "\n",
    "* **`col_factor(levels, ordered)`** [f], a fixed set of values.\n",
    "\n",
    "* **`col_date(format = \"\")`** [D]: with the locale's date_format.\n",
    "\n",
    "* **`col_time(format = \"\")`** [t]: with the locale's time_format.\n",
    "\n",
    "* **`col_datetime(format = \"\")`** [T]: ISO8601 date times\n",
    "\n",
    "* **`col_number()`** [n], numbers containing the grouping_mark\n",
    "\n",
    "* **`col_skip()`** [_, -], don't import this column.\n",
    "\n",
    "* **`col_guess()`** [?], parse using the \"best\" type based on the input."
   ]
  },
  {
   "cell_type": "markdown",
   "metadata": {},
   "source": [
    "# Examples"
   ]
  },
  {
   "cell_type": "markdown",
   "metadata": {},
   "source": [
    "See <b><a href = '../Introduction.ipynb'>Introduction notebook</a></b> for more examples"
   ]
  },
  {
   "cell_type": "code",
   "execution_count": 3,
   "metadata": {},
   "outputs": [
    {
     "data": {
      "text/plain": [
       "cols(\n",
       "  Sepal.Length = col_double()\n",
       ")"
      ]
     },
     "metadata": {},
     "output_type": "display_data"
    }
   ],
   "source": [
    "cols(Sepal.Length = col_double())"
   ]
  },
  {
   "cell_type": "code",
   "execution_count": 9,
   "metadata": {},
   "outputs": [
    {
     "name": "stdout",
     "output_type": "stream",
     "text": [
      "Rows: 32\n",
      "Columns: 11\n",
      "$ mpg  <dbl> 21.0, 21.0, 22.8, 21.4, 18.7, 18.1, 14.3, 24.4, 22.8, 19.2, 17...\n",
      "$ cyl  <int> 6, 6, 4, 6, 8, 6, 8, 4, 4, 6, 6, 8, 8, 8, 8, 8, 8, 4, 4, 4, 4,...\n",
      "$ disp <dbl> 160.0, 160.0, 108.0, 258.0, 360.0, 225.0, 360.0, 146.7, 140.8,...\n",
      "$ hp   <dbl> 110, 110, 93, 110, 175, 105, 245, 62, 95, 123, 123, 180, 180, ...\n",
      "$ drat <dbl> 3.90, 3.90, 3.85, 3.08, 3.15, 2.76, 3.21, 3.69, 3.92, 3.92, 3....\n",
      "$ wt   <dbl> 2.620, 2.875, 2.320, 3.215, 3.440, 3.460, 3.570, 3.190, 3.150,...\n",
      "$ qsec <dbl> 16.46, 17.02, 18.61, 19.44, 17.02, 20.22, 15.84, 20.00, 22.90,...\n",
      "$ vs   <dbl> 0, 0, 1, 1, 0, 1, 0, 1, 1, 1, 1, 0, 0, 0, 0, 0, 0, 1, 1, 1, 1,...\n",
      "$ am   <dbl> 1, 1, 1, 0, 0, 0, 0, 0, 0, 0, 0, 0, 0, 0, 0, 0, 0, 1, 1, 1, 0,...\n",
      "$ gear <dbl> 4, 4, 4, 3, 3, 3, 3, 4, 4, 4, 4, 3, 3, 3, 3, 3, 3, 4, 4, 4, 3,...\n",
      "$ carb <dbl> 4, 4, 1, 1, 2, 1, 4, 2, 2, 4, 4, 3, 3, 3, 4, 4, 4, 1, 2, 1, 1,...\n"
     ]
    }
   ],
   "source": [
    "# Specify to date type of column `cyl` is Integer\n",
    "read_csv(readr_example('mtcars.csv'), col_types = cols(cyl = col_integer())) %>% glimpse()"
   ]
  },
  {
   "cell_type": "code",
   "execution_count": 4,
   "metadata": {},
   "outputs": [
    {
     "data": {
      "text/plain": [
       "cols_only(\n",
       "  Sepal.Length = col_double(),\n",
       "  Sepal.Width = col_double()\n",
       ")"
      ]
     },
     "metadata": {},
     "output_type": "display_data"
    }
   ],
   "source": [
    "cols_only(Sepal.Length = col_double(), Sepal.Width = col_double())"
   ]
  },
  {
   "cell_type": "code",
   "execution_count": 16,
   "metadata": {},
   "outputs": [
    {
     "name": "stdout",
     "output_type": "stream",
     "text": [
      "Rows: 32\n",
      "Columns: 2\n",
      "$ mpg  <dbl> 21.0, 21.0, 22.8, 21.4, 18.7, 18.1, 14.3, 24.4, 22.8, 19.2, 17...\n",
      "$ disp <dbl> 160.0, 160.0, 108.0, 258.0, 360.0, 225.0, 360.0, 146.7, 140.8,...\n"
     ]
    }
   ],
   "source": [
    "# Only include columns 'disp' and 'mpg'\n",
    "read_csv(readr_example('mtcars.csv'), col_types = cols_only(disp = col_double(), mpg = col_double()))%>% glimpse()"
   ]
  },
  {
   "cell_type": "markdown",
   "metadata": {},
   "source": [
    "You can also use the standard abbreviation:"
   ]
  },
  {
   "cell_type": "code",
   "execution_count": 5,
   "metadata": {},
   "outputs": [
    {
     "data": {
      "text/plain": [
       "cols(\n",
       "  cyl = col_integer()\n",
       ")"
      ]
     },
     "metadata": {},
     "output_type": "display_data"
    }
   ],
   "source": [
    "cols(cyl = 'i') # Integer"
   ]
  },
  {
   "cell_type": "code",
   "execution_count": null,
   "metadata": {},
   "outputs": [],
   "source": [
    "cols(Sepal.Length = 'd', Species = '_') # Skip column Species"
   ]
  },
  {
   "cell_type": "markdown",
   "metadata": {},
   "source": [
    "You can also use multiple sets of column definitions by combining\n",
    "them like so:\n"
   ]
  },
  {
   "cell_type": "code",
   "execution_count": 6,
   "metadata": {},
   "outputs": [
    {
     "data": {
      "text/plain": [
       "cols(\n",
       "  column_one = col_integer(),\n",
       "  column_two = col_number(),\n",
       "  column_three = col_character()\n",
       ")"
      ]
     },
     "metadata": {},
     "output_type": "display_data"
    }
   ],
   "source": [
    "t1 <- cols(\n",
    "  column_one = col_integer(),\n",
    "  column_two = col_number())\n",
    "\n",
    "t2 <- cols(\n",
    " column_three = col_character())\n",
    "\n",
    "t3 <- t1\n",
    "t3$cols <- c(t1$cols, t2$cols)\n",
    "t3"
   ]
  }
 ],
 "metadata": {
  "kernelspec": {
   "display_name": "R",
   "language": "R",
   "name": "ir"
  },
  "language_info": {
   "codemirror_mode": "r",
   "file_extension": ".r",
   "mimetype": "text/x-r-source",
   "name": "R",
   "pygments_lexer": "r",
   "version": "3.6.1"
  }
 },
 "nbformat": 4,
 "nbformat_minor": 2
}
