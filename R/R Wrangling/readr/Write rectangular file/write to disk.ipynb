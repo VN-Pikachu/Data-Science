{
 "cells": [
  {
   "cell_type": "code",
   "execution_count": 2,
   "metadata": {},
   "outputs": [],
   "source": [
    "library(tidyverse)"
   ]
  },
  {
   "cell_type": "markdown",
   "metadata": {},
   "source": [
    "# Write a data frame to a delimited file"
   ]
  },
  {
   "cell_type": "markdown",
   "metadata": {},
   "source": [
    "The `write_*()` family of functions are an improvement to analogous function such as `write.csv()` because they are approximately twice as fast. Unlike `write.csv()`, these functions do not include row names as a column in the written file. A generic function, `output_column()`, is applied to each variable to coerce columns to suitable output."
   ]
  },
  {
   "cell_type": "markdown",
   "metadata": {},
   "source": [
    "```r\n",
    "write_delim(\n",
    "  x,\n",
    "  file,\n",
    "  delim = \" \",\n",
    "  na = \"NA\",\n",
    "  append = FALSE,\n",
    "  col_names = !append,\n",
    "  quote_escape = \"double\",\n",
    "  eol = \"\\n\",\n",
    "  path = deprecated()\n",
    ")\n",
    "\n",
    "write_csv(\n",
    "  x,\n",
    "  file,\n",
    "  na = \"NA\",\n",
    "  append = FALSE,\n",
    "  col_names = !append,\n",
    "  quote_escape = \"double\",\n",
    "  eol = \"\\n\",\n",
    "  path = deprecated()\n",
    ")\n",
    "\n",
    "write_csv2(\n",
    "  x,\n",
    "  file,\n",
    "  na = \"NA\",\n",
    "  append = FALSE,\n",
    "  col_names = !append,\n",
    "  quote_escape = \"double\",\n",
    "  eol = \"\\n\",\n",
    "  path = deprecated()\n",
    ")\n",
    "\n",
    "write_excel_csv(\n",
    "  x,\n",
    "  file,\n",
    "  na = \"NA\",\n",
    "  append = FALSE,\n",
    "  col_names = !append,\n",
    "  delim = \",\",\n",
    "  quote_escape = \"double\",\n",
    "  eol = \"\\n\",\n",
    "  path = deprecated()\n",
    ")\n",
    "\n",
    "write_excel_csv2(\n",
    "  x,\n",
    "  file,\n",
    "  na = \"NA\",\n",
    "  append = FALSE,\n",
    "  col_names = !append,\n",
    "  delim = \";\",\n",
    "  quote_escape = \"double\",\n",
    "  eol = \"\\n\",\n",
    "  path = deprecated()\n",
    ")\n",
    "\n",
    "write_tsv(\n",
    "  x,\n",
    "  file,\n",
    "  na = \"NA\",\n",
    "  append = FALSE,\n",
    "  col_names = !append,\n",
    "  quote_escape = \"double\",\n",
    "  eol = \"\\n\",\n",
    "  path = deprecated()\n",
    ")\n",
    "```"
   ]
  },
  {
   "cell_type": "markdown",
   "metadata": {},
   "source": [
    "# Examples"
   ]
  },
  {
   "cell_type": "code",
   "execution_count": null,
   "metadata": {},
   "outputs": [],
   "source": [
    "data(storms, package = \"dplyr\")\n",
    "# If only a file name is specified, write_()* will write\n",
    "# the file to the current working directory.\n",
    "write_csv(storms, \"storms.csv\")\n",
    "write_tsv(storms, \"storms.tsv\")\n",
    "\n",
    "# If you add an extension to the file name, write_()* will\n",
    "# automatically compress the output.\n",
    "write_tsv(storms, \"storms.tsv.gz\")\n",
    "write_tsv(storms, \"storms.tsv.bz2\")\n",
    "write_tsv(storms, \"storms.tsv.xz\")"
   ]
  },
  {
   "cell_type": "markdown",
   "metadata": {},
   "source": [
    "### Arguments"
   ]
  },
  {
   "cell_type": "markdown",
   "metadata": {},
   "source": [
    "see <b><a href = './Convert data frame to in memory string.ipynb'>Notebbok</a></b>"
   ]
  }
 ],
 "metadata": {
  "kernelspec": {
   "display_name": "R",
   "language": "R",
   "name": "ir"
  },
  "language_info": {
   "codemirror_mode": "r",
   "file_extension": ".r",
   "mimetype": "text/x-r-source",
   "name": "R",
   "pygments_lexer": "r",
   "version": "3.6.1"
  }
 },
 "nbformat": 4,
 "nbformat_minor": 2
}
