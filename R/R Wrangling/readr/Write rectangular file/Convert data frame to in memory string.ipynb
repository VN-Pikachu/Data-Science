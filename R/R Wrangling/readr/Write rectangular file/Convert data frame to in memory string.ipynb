{
 "cells": [
  {
   "cell_type": "code",
   "execution_count": 4,
   "metadata": {},
   "outputs": [],
   "source": [
    "library(tidyverse)"
   ]
  },
  {
   "cell_type": "markdown",
   "metadata": {},
   "source": [
    "# Convert a data frame to a delimited string"
   ]
  },
  {
   "cell_type": "markdown",
   "metadata": {},
   "source": [
    "These functions are equivalent to **`write_csv()`** etc., but instead of writing to disk, they return a string."
   ]
  },
  {
   "cell_type": "markdown",
   "metadata": {},
   "source": [
    "```r\n",
    "format_delim(\n",
    "  x,\n",
    "  delim,\n",
    "  na = \"NA\",\n",
    "  append = FALSE,\n",
    "  col_names = !append,\n",
    "  quote_escape = \"double\",\n",
    "  eol = \"\\n\"\n",
    ")\n",
    "\n",
    "format_csv(\n",
    "  x,\n",
    "  na = \"NA\",\n",
    "  append = FALSE,\n",
    "  col_names = !append,\n",
    "  quote_escape = \"double\",\n",
    "  eol = \"\\n\"\n",
    ")\n",
    "\n",
    "format_csv2(\n",
    "  x,\n",
    "  na = \"NA\",\n",
    "  append = FALSE,\n",
    "  col_names = !append,\n",
    "  quote_escape = \"double\",\n",
    "  eol = \"\\n\"\n",
    ")\n",
    "\n",
    "format_tsv(\n",
    "  x,\n",
    "  na = \"NA\",\n",
    "  append = FALSE,\n",
    "  col_names = !append,\n",
    "  quote_escape = \"double\",\n",
    "  eol = \"\\n\"\n",
    ")\n",
    "```"
   ]
  },
  {
   "cell_type": "markdown",
   "metadata": {},
   "source": [
    "# Examples"
   ]
  },
  {
   "cell_type": "code",
   "execution_count": 13,
   "metadata": {},
   "outputs": [
    {
     "data": {
      "text/html": [
       "<table>\n",
       "<thead><tr><th scope=col>name</th><th scope=col>band</th></tr></thead>\n",
       "<tbody>\n",
       "\t<tr><td>Mick   </td><td>Stones </td></tr>\n",
       "\t<tr><td>John   </td><td>Beatles</td></tr>\n",
       "\t<tr><td>Paul   </td><td>Beatles</td></tr>\n",
       "</tbody>\n",
       "</table>\n"
      ],
      "text/latex": [
       "\\begin{tabular}{r|ll}\n",
       " name & band\\\\\n",
       "\\hline\n",
       "\t Mick    & Stones \\\\\n",
       "\t John    & Beatles\\\\\n",
       "\t Paul    & Beatles\\\\\n",
       "\\end{tabular}\n"
      ],
      "text/markdown": [
       "\n",
       "| name | band |\n",
       "|---|---|\n",
       "| Mick    | Stones  |\n",
       "| John    | Beatles |\n",
       "| Paul    | Beatles |\n",
       "\n"
      ],
      "text/plain": [
       "  name band   \n",
       "1 Mick Stones \n",
       "2 John Beatles\n",
       "3 Paul Beatles"
      ]
     },
     "metadata": {},
     "output_type": "display_data"
    }
   ],
   "source": [
    "data(band_members, package = 'dplyr')\n",
    "\n",
    "band_members"
   ]
  },
  {
   "cell_type": "code",
   "execution_count": 7,
   "metadata": {},
   "outputs": [
    {
     "name": "stdout",
     "output_type": "stream",
     "text": [
      "name,band\n",
      "Mick,Stones\n",
      "John,Beatles\n",
      "Paul,Beatles\n"
     ]
    }
   ],
   "source": [
    "format_csv(band_members) %>% cat()"
   ]
  },
  {
   "cell_type": "code",
   "execution_count": 10,
   "metadata": {},
   "outputs": [
    {
     "name": "stdout",
     "output_type": "stream",
     "text": [
      "name\tband\n",
      "Mick\tStones\n",
      "John\tBeatles\n",
      "Paul\tBeatles\n"
     ]
    }
   ],
   "source": [
    "format_tsv(band_members) %>% cat()"
   ]
  },
  {
   "cell_type": "code",
   "execution_count": 12,
   "metadata": {},
   "outputs": [
    {
     "name": "stdout",
     "output_type": "stream",
     "text": [
      "name;band\n",
      "Mick;Stones\n",
      "John;Beatles\n",
      "Paul;Beatles\n"
     ]
    }
   ],
   "source": [
    "format_csv2(band_members) %>% cat()"
   ]
  },
  {
   "cell_type": "code",
   "execution_count": 9,
   "metadata": {},
   "outputs": [
    {
     "name": "stdout",
     "output_type": "stream",
     "text": [
      "name|band\n",
      "Mick|Stones\n",
      "John|Beatles\n",
      "Paul|Beatles\n"
     ]
    }
   ],
   "source": [
    "format_delim(band_members, delim = '|') %>% cat()"
   ]
  },
  {
   "cell_type": "markdown",
   "metadata": {},
   "source": [
    "Specifying missing values"
   ]
  },
  {
   "cell_type": "code",
   "execution_count": 15,
   "metadata": {},
   "outputs": [
    {
     "name": "stdout",
     "output_type": "stream",
     "text": [
      "x\n",
      "1\n",
      "missing value\n",
      "3\n"
     ]
    }
   ],
   "source": [
    "df <- data.frame(x = c(1, NA, 3))\n",
    "\n",
    "format_csv(df, na = 'missing value') %>% cat()"
   ]
  },
  {
   "cell_type": "code",
   "execution_count": 16,
   "metadata": {},
   "outputs": [
    {
     "name": "stdout",
     "output_type": "stream",
     "text": [
      "x\n",
      "a \n",
      "\"\"\"\"\n",
      "\",\"\n",
      "\"\n",
      "\"\n"
     ]
    }
   ],
   "source": [
    "# Quotes are automatically added as needed\n",
    "df <- data.frame(x = c(\"a \", '\"', \",\", \"\\n\"))\n",
    "\n",
    "format_csv(df) %>% cat()"
   ]
  },
  {
   "cell_type": "markdown",
   "metadata": {},
   "source": [
    "# Arguments"
   ]
  },
  {
   "cell_type": "markdown",
   "metadata": {},
   "source": [
    "### `x`\t"
   ]
  },
  {
   "cell_type": "markdown",
   "metadata": {},
   "source": [
    "A data frame.\n",
    "<hr>"
   ]
  },
  {
   "cell_type": "code",
   "execution_count": 18,
   "metadata": {},
   "outputs": [
    {
     "name": "stdout",
     "output_type": "stream",
     "text": [
      "name,band\n",
      "Mick,Stones\n",
      "John,Beatles\n",
      "Paul,Beatles\n"
     ]
    }
   ],
   "source": [
    "format_csv(band_members) %>% cat()"
   ]
  },
  {
   "cell_type": "markdown",
   "metadata": {},
   "source": [
    "### `delim`\t"
   ]
  },
  {
   "cell_type": "markdown",
   "metadata": {},
   "source": [
    "Delimiter used to separate values. Defaults to \" \" for `write_delim()`, \",\" for `write_excel_csv()` and \";\" for `write_excel_csv2()`. Must be a single character."
   ]
  },
  {
   "cell_type": "markdown",
   "metadata": {},
   "source": [
    "<hr>"
   ]
  },
  {
   "cell_type": "code",
   "execution_count": 21,
   "metadata": {},
   "outputs": [
    {
     "name": "stdout",
     "output_type": "stream",
     "text": [
      "name|band\n",
      "Mick|Stones\n",
      "John|Beatles\n",
      "Paul|Beatles\n"
     ]
    }
   ],
   "source": [
    "format_delim(band_members, delim = '|') %>% cat()"
   ]
  },
  {
   "cell_type": "markdown",
   "metadata": {},
   "source": [
    "### `append`"
   ]
  },
  {
   "cell_type": "markdown",
   "metadata": {},
   "source": [
    "\t\n",
    "If FALSE, will overwrite existing file. If TRUE, will append to existing file. In both cases, if the file does not exist a new file is created."
   ]
  },
  {
   "cell_type": "markdown",
   "metadata": {},
   "source": [
    "### `col_names` "
   ]
  },
  {
   "cell_type": "markdown",
   "metadata": {},
   "source": [
    "\t\n",
    "If FALSE, column names will not be included at the top of the file. If TRUE, column names will be included. If not specified, `col_names` will take the opposite value given to append.\n",
    "<hr>"
   ]
  },
  {
   "cell_type": "code",
   "execution_count": 23,
   "metadata": {},
   "outputs": [
    {
     "name": "stdout",
     "output_type": "stream",
     "text": [
      "Mick,Stones\n",
      "John,Beatles\n",
      "Paul,Beatles\n"
     ]
    }
   ],
   "source": [
    "# does not include column names at the top of the file\n",
    "format_csv(band_members, col_names = F) %>% cat()"
   ]
  },
  {
   "cell_type": "markdown",
   "metadata": {},
   "source": [
    "### `quote_escape`"
   ]
  },
  {
   "cell_type": "markdown",
   "metadata": {},
   "source": [
    "\n",
    "The type of escaping to use for quoted values, one of \"double\", \"backslash\" or \"none\". You can also use FALSE, which is equivalent to \"none\". The default is \"double\", which is expected format for Excel."
   ]
  },
  {
   "cell_type": "markdown",
   "metadata": {},
   "source": [
    "### `eol`\t"
   ]
  },
  {
   "cell_type": "markdown",
   "metadata": {},
   "source": [
    "The end of line character to use. Most commonly either \"\\n\" for Unix style newlines, or \"\\r\\n\" for Windows style newlines."
   ]
  }
 ],
 "metadata": {
  "kernelspec": {
   "display_name": "R",
   "language": "R",
   "name": "ir"
  },
  "language_info": {
   "codemirror_mode": "r",
   "file_extension": ".r",
   "mimetype": "text/x-r-source",
   "name": "R",
   "pygments_lexer": "r",
   "version": "3.6.1"
  }
 },
 "nbformat": 4,
 "nbformat_minor": 2
}
