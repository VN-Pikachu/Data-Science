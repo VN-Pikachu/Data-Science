{
 "cells": [
  {
   "cell_type": "code",
   "execution_count": 2,
   "metadata": {},
   "outputs": [],
   "source": [
    "library(tidyverse)"
   ]
  },
  {
   "cell_type": "markdown",
   "metadata": {},
   "source": [
    "# Read/write lines to/from a file"
   ]
  },
  {
   "cell_type": "markdown",
   "metadata": {},
   "source": [
    "**`read_lines()`** reads up to `n_max` lines from a file. New lines are not included in the output.  \n",
    "**`read_lines_raw()`** produces a list of raw vectors, and is useful for handling data with unknown encoding.   \n",
    "**`write_lines()`** takes a character vector or list of raw vectors, appending a new line after each entry."
   ]
  },
  {
   "cell_type": "markdown",
   "metadata": {},
   "source": [
    "```r\n",
    "read_lines(\n",
    "  file,\n",
    "  skip = 0,\n",
    "  skip_empty_rows = FALSE,\n",
    "  n_max = -1L,\n",
    "  locale = default_locale(),\n",
    "  na = character(),\n",
    "  progress = show_progress()\n",
    ")\n",
    "\n",
    "read_lines_raw(file, skip = 0, n_max = -1L, progress = show_progress())\n",
    "\n",
    "write_lines(\n",
    "  x,\n",
    "  file,\n",
    "  sep = \"\\n\",\n",
    "  na = \"NA\",\n",
    "  append = FALSE,\n",
    "  path = deprecated()\n",
    ")\n",
    "```\n"
   ]
  },
  {
   "cell_type": "markdown",
   "metadata": {},
   "source": [
    "# Examples"
   ]
  },
  {
   "cell_type": "code",
   "execution_count": 4,
   "metadata": {},
   "outputs": [
    {
     "data": {
      "text/html": [
       "'C:/Users/dell/Anaconda3/Lib/R/library/readr/extdata/mtcars.csv'"
      ],
      "text/latex": [
       "'C:/Users/dell/Anaconda3/Lib/R/library/readr/extdata/mtcars.csv'"
      ],
      "text/markdown": [
       "'C:/Users/dell/Anaconda3/Lib/R/library/readr/extdata/mtcars.csv'"
      ],
      "text/plain": [
       "[1] \"C:/Users/dell/Anaconda3/Lib/R/library/readr/extdata/mtcars.csv\""
      ]
     },
     "metadata": {},
     "output_type": "display_data"
    }
   ],
   "source": [
    "mtcars_path <- readr_example('mtcars.csv')\n",
    "\n",
    "mtcars_path"
   ]
  },
  {
   "cell_type": "code",
   "execution_count": 7,
   "metadata": {},
   "outputs": [
    {
     "name": "stdout",
     "output_type": "stream",
     "text": [
      " [1] \"\\\"mpg\\\",\\\"cyl\\\",\\\"disp\\\",\\\"hp\\\",\\\"drat\\\",\\\"wt\\\",\\\"qsec\\\",\\\"vs\\\",\\\"am\\\",\\\"gear\\\",\\\"carb\\\"\"\n",
      " [2] \"21,6,160,110,3.9,2.62,16.46,0,1,4,4\"                                                     \n",
      " [3] \"21,6,160,110,3.9,2.875,17.02,0,1,4,4\"                                                    \n",
      " [4] \"22.8,4,108,93,3.85,2.32,18.61,1,1,4,1\"                                                   \n",
      " [5] \"21.4,6,258,110,3.08,3.215,19.44,1,0,3,1\"                                                 \n",
      " [6] \"18.7,8,360,175,3.15,3.44,17.02,0,0,3,2\"                                                  \n",
      " [7] \"18.1,6,225,105,2.76,3.46,20.22,1,0,3,1\"                                                  \n",
      " [8] \"14.3,8,360,245,3.21,3.57,15.84,0,0,3,4\"                                                  \n",
      " [9] \"24.4,4,146.7,62,3.69,3.19,20,1,0,4,2\"                                                    \n",
      "[10] \"22.8,4,140.8,95,3.92,3.15,22.9,1,0,4,2\"                                                  \n"
     ]
    }
   ],
   "source": [
    "read_lines(mtcars_path, n_max = 10) %>% print()"
   ]
  },
  {
   "cell_type": "code",
   "execution_count": 8,
   "metadata": {},
   "outputs": [
    {
     "name": "stdout",
     "output_type": "stream",
     "text": [
      "[[1]]\n",
      " [1] 22 6d 70 67 22 2c 22 63 79 6c 22 2c 22 64 69 73 70 22 2c 22 68 70 22 2c 22\n",
      "[26] 64 72 61 74 22 2c 22 77 74 22 2c 22 71 73 65 63 22 2c 22 76 73 22 2c 22 61\n",
      "[51] 6d 22 2c 22 67 65 61 72 22 2c 22 63 61 72 62 22\n",
      "\n",
      "[[2]]\n",
      " [1] 32 31 2c 36 2c 31 36 30 2c 31 31 30 2c 33 2e 39 2c 32 2e 36 32 2c 31 36 2e\n",
      "[26] 34 36 2c 30 2c 31 2c 34 2c 34\n",
      "\n",
      "[[3]]\n",
      " [1] 32 31 2c 36 2c 31 36 30 2c 31 31 30 2c 33 2e 39 2c 32 2e 38 37 35 2c 31 37\n",
      "[26] 2e 30 32 2c 30 2c 31 2c 34 2c 34\n",
      "\n",
      "[[4]]\n",
      " [1] 32 32 2e 38 2c 34 2c 31 30 38 2c 39 33 2c 33 2e 38 35 2c 32 2e 33 32 2c 31\n",
      "[26] 38 2e 36 31 2c 31 2c 31 2c 34 2c 31\n",
      "\n",
      "[[5]]\n",
      " [1] 32 31 2e 34 2c 36 2c 32 35 38 2c 31 31 30 2c 33 2e 30 38 2c 33 2e 32 31 35\n",
      "[26] 2c 31 39 2e 34 34 2c 31 2c 30 2c 33 2c 31\n",
      "\n",
      "[[6]]\n",
      " [1] 31 38 2e 37 2c 38 2c 33 36 30 2c 31 37 35 2c 33 2e 31 35 2c 33 2e 34 34 2c\n",
      "[26] 31 37 2e 30 32 2c 30 2c 30 2c 33 2c 32\n",
      "\n",
      "[[7]]\n",
      " [1] 31 38 2e 31 2c 36 2c 32 32 35 2c 31 30 35 2c 32 2e 37 36 2c 33 2e 34 36 2c\n",
      "[26] 32 30 2e 32 32 2c 31 2c 30 2c 33 2c 31\n",
      "\n",
      "[[8]]\n",
      " [1] 31 34 2e 33 2c 38 2c 33 36 30 2c 32 34 35 2c 33 2e 32 31 2c 33 2e 35 37 2c\n",
      "[26] 31 35 2e 38 34 2c 30 2c 30 2c 33 2c 34\n",
      "\n",
      "[[9]]\n",
      " [1] 32 34 2e 34 2c 34 2c 31 34 36 2e 37 2c 36 32 2c 33 2e 36 39 2c 33 2e 31 39\n",
      "[26] 2c 32 30 2c 31 2c 30 2c 34 2c 32\n",
      "\n",
      "[[10]]\n",
      " [1] 32 32 2e 38 2c 34 2c 31 34 30 2e 38 2c 39 35 2c 33 2e 39 32 2c 33 2e 31 35\n",
      "[26] 2c 32 32 2e 39 2c 31 2c 30 2c 34 2c 32\n",
      "\n"
     ]
    }
   ],
   "source": [
    "read_lines_raw(mtcars_path, n_max = 10) %>% print()"
   ]
  },
  {
   "cell_type": "markdown",
   "metadata": {},
   "source": [
    "**`write_lines()`** write to a file (not print out)"
   ]
  }
 ],
 "metadata": {
  "kernelspec": {
   "display_name": "R",
   "language": "R",
   "name": "ir"
  },
  "language_info": {
   "codemirror_mode": "r",
   "file_extension": ".r",
   "mimetype": "text/x-r-source",
   "name": "R",
   "pygments_lexer": "r",
   "version": "3.6.1"
  }
 },
 "nbformat": 4,
 "nbformat_minor": 2
}
