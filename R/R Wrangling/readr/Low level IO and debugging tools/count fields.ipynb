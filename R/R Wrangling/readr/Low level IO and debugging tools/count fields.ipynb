{
 "cells": [
  {
   "cell_type": "code",
   "execution_count": 2,
   "metadata": {},
   "outputs": [],
   "source": [
    "library(tidyverse)"
   ]
  },
  {
   "cell_type": "markdown",
   "metadata": {},
   "source": [
    "# Count the number of fields in each line of a file"
   ]
  },
  {
   "cell_type": "markdown",
   "metadata": {},
   "source": [
    "This is useful for diagnosing problems with functions that fail to parse correctly."
   ]
  },
  {
   "cell_type": "markdown",
   "metadata": {},
   "source": [
    "```r\n",
    "count_fields(file, tokenizer, skip = 0, n_max = -1L)\n",
    "```"
   ]
  },
  {
   "cell_type": "markdown",
   "metadata": {},
   "source": [
    "**Arguments**  \n",
    "`tokenizer`\t\n",
    "A tokenizer that specifies how to break the file up into fields, e.g., `tokenizer_csv()`, `tokenizer_fwf()`\n",
    "\n",
    "`n_max`\t\n",
    "Optionally, maximum number of rows to count fields for.\n",
    "\n"
   ]
  },
  {
   "cell_type": "markdown",
   "metadata": {},
   "source": [
    "# Examples"
   ]
  },
  {
   "cell_type": "code",
   "execution_count": 3,
   "metadata": {},
   "outputs": [
    {
     "data": {
      "text/html": [
       "<ol class=list-inline>\n",
       "\t<li>11</li>\n",
       "\t<li>11</li>\n",
       "\t<li>11</li>\n",
       "\t<li>11</li>\n",
       "\t<li>11</li>\n",
       "\t<li>11</li>\n",
       "\t<li>11</li>\n",
       "\t<li>11</li>\n",
       "\t<li>11</li>\n",
       "\t<li>11</li>\n",
       "\t<li>11</li>\n",
       "\t<li>11</li>\n",
       "\t<li>11</li>\n",
       "\t<li>11</li>\n",
       "\t<li>11</li>\n",
       "\t<li>11</li>\n",
       "\t<li>11</li>\n",
       "\t<li>11</li>\n",
       "\t<li>11</li>\n",
       "\t<li>11</li>\n",
       "\t<li>11</li>\n",
       "\t<li>11</li>\n",
       "\t<li>11</li>\n",
       "\t<li>11</li>\n",
       "\t<li>11</li>\n",
       "\t<li>11</li>\n",
       "\t<li>11</li>\n",
       "\t<li>11</li>\n",
       "\t<li>11</li>\n",
       "\t<li>11</li>\n",
       "\t<li>11</li>\n",
       "\t<li>11</li>\n",
       "\t<li>11</li>\n",
       "</ol>\n"
      ],
      "text/latex": [
       "\\begin{enumerate*}\n",
       "\\item 11\n",
       "\\item 11\n",
       "\\item 11\n",
       "\\item 11\n",
       "\\item 11\n",
       "\\item 11\n",
       "\\item 11\n",
       "\\item 11\n",
       "\\item 11\n",
       "\\item 11\n",
       "\\item 11\n",
       "\\item 11\n",
       "\\item 11\n",
       "\\item 11\n",
       "\\item 11\n",
       "\\item 11\n",
       "\\item 11\n",
       "\\item 11\n",
       "\\item 11\n",
       "\\item 11\n",
       "\\item 11\n",
       "\\item 11\n",
       "\\item 11\n",
       "\\item 11\n",
       "\\item 11\n",
       "\\item 11\n",
       "\\item 11\n",
       "\\item 11\n",
       "\\item 11\n",
       "\\item 11\n",
       "\\item 11\n",
       "\\item 11\n",
       "\\item 11\n",
       "\\end{enumerate*}\n"
      ],
      "text/markdown": [
       "1. 11\n",
       "2. 11\n",
       "3. 11\n",
       "4. 11\n",
       "5. 11\n",
       "6. 11\n",
       "7. 11\n",
       "8. 11\n",
       "9. 11\n",
       "10. 11\n",
       "11. 11\n",
       "12. 11\n",
       "13. 11\n",
       "14. 11\n",
       "15. 11\n",
       "16. 11\n",
       "17. 11\n",
       "18. 11\n",
       "19. 11\n",
       "20. 11\n",
       "21. 11\n",
       "22. 11\n",
       "23. 11\n",
       "24. 11\n",
       "25. 11\n",
       "26. 11\n",
       "27. 11\n",
       "28. 11\n",
       "29. 11\n",
       "30. 11\n",
       "31. 11\n",
       "32. 11\n",
       "33. 11\n",
       "\n",
       "\n"
      ],
      "text/plain": [
       " [1] 11 11 11 11 11 11 11 11 11 11 11 11 11 11 11 11 11 11 11 11 11 11 11 11 11\n",
       "[26] 11 11 11 11 11 11 11 11"
      ]
     },
     "metadata": {},
     "output_type": "display_data"
    }
   ],
   "source": [
    "count_fields(readr_example('mtcars.csv'), tokenizer_csv())"
   ]
  }
 ],
 "metadata": {
  "kernelspec": {
   "display_name": "R",
   "language": "R",
   "name": "ir"
  },
  "language_info": {
   "codemirror_mode": "r",
   "file_extension": ".r",
   "mimetype": "text/x-r-source",
   "name": "R",
   "pygments_lexer": "r",
   "version": "3.6.1"
  }
 },
 "nbformat": 4,
 "nbformat_minor": 2
}
