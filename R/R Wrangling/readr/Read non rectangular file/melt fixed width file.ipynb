{
 "cells": [
  {
   "cell_type": "code",
   "execution_count": 2,
   "metadata": {},
   "outputs": [],
   "source": [
    "library(tidyverse)"
   ]
  },
  {
   "cell_type": "markdown",
   "metadata": {},
   "source": [
    "# Return melted data for each token in a fixed width file"
   ]
  },
  {
   "cell_type": "markdown",
   "metadata": {},
   "source": [
    "For certain non-rectangular data formats, it can be useful to parse the data into a melted format where each row represents a single token."
   ]
  },
  {
   "cell_type": "markdown",
   "metadata": {},
   "source": [
    "```r\n",
    "melt_fwf(\n",
    "  file,\n",
    "  col_positions,\n",
    "  locale = default_locale(),\n",
    "  na = c(\"\", \"NA\"),\n",
    "  comment = \"\",\n",
    "  trim_ws = TRUE,\n",
    "  skip = 0,\n",
    "  n_max = Inf,\n",
    "  progress = show_progress(),\n",
    "  skip_empty_rows = FALSE\n",
    ")\n",
    "```"
   ]
  },
  {
   "cell_type": "markdown",
   "metadata": {},
   "source": [
    "# Examples"
   ]
  },
  {
   "cell_type": "markdown",
   "metadata": {},
   "source": [
    "Works exactly the same as **`read_fwf()`**, but return a **melted format** instead of a data frame"
   ]
  },
  {
   "cell_type": "code",
   "execution_count": 4,
   "metadata": {},
   "outputs": [],
   "source": [
    "sample_path <- readr_example(\"fwf-sample.txt\")"
   ]
  },
  {
   "cell_type": "code",
   "execution_count": 6,
   "metadata": {},
   "outputs": [
    {
     "data": {
      "text/html": [
       "<table>\n",
       "<thead><tr><th scope=col>row</th><th scope=col>col</th><th scope=col>data_type</th><th scope=col>value</th></tr></thead>\n",
       "<tbody>\n",
       "\t<tr><td>1           </td><td>1           </td><td>character   </td><td>John        </td></tr>\n",
       "\t<tr><td>1           </td><td>2           </td><td>character   </td><td>Smith       </td></tr>\n",
       "\t<tr><td>1           </td><td>3           </td><td>character   </td><td>WA          </td></tr>\n",
       "\t<tr><td>1           </td><td>4           </td><td>character   </td><td>418-Y11-4111</td></tr>\n",
       "\t<tr><td>2           </td><td>1           </td><td>character   </td><td>Mary        </td></tr>\n",
       "\t<tr><td>2           </td><td>2           </td><td>character   </td><td>Hartford    </td></tr>\n",
       "\t<tr><td>2           </td><td>3           </td><td>character   </td><td>CA          </td></tr>\n",
       "\t<tr><td>2           </td><td>4           </td><td>character   </td><td>319-Z19-4341</td></tr>\n",
       "\t<tr><td>3           </td><td>1           </td><td>character   </td><td>Evan        </td></tr>\n",
       "\t<tr><td>3           </td><td>2           </td><td>character   </td><td>Nolan       </td></tr>\n",
       "\t<tr><td>3           </td><td>3           </td><td>character   </td><td>IL          </td></tr>\n",
       "\t<tr><td>3           </td><td>4           </td><td>character   </td><td>219-532-c301</td></tr>\n",
       "</tbody>\n",
       "</table>\n"
      ],
      "text/latex": [
       "\\begin{tabular}{r|llll}\n",
       " row & col & data\\_type & value\\\\\n",
       "\\hline\n",
       "\t 1            & 1            & character    & John        \\\\\n",
       "\t 1            & 2            & character    & Smith       \\\\\n",
       "\t 1            & 3            & character    & WA          \\\\\n",
       "\t 1            & 4            & character    & 418-Y11-4111\\\\\n",
       "\t 2            & 1            & character    & Mary        \\\\\n",
       "\t 2            & 2            & character    & Hartford    \\\\\n",
       "\t 2            & 3            & character    & CA          \\\\\n",
       "\t 2            & 4            & character    & 319-Z19-4341\\\\\n",
       "\t 3            & 1            & character    & Evan        \\\\\n",
       "\t 3            & 2            & character    & Nolan       \\\\\n",
       "\t 3            & 3            & character    & IL          \\\\\n",
       "\t 3            & 4            & character    & 219-532-c301\\\\\n",
       "\\end{tabular}\n"
      ],
      "text/markdown": [
       "\n",
       "| row | col | data_type | value |\n",
       "|---|---|---|---|\n",
       "| 1            | 1            | character    | John         |\n",
       "| 1            | 2            | character    | Smith        |\n",
       "| 1            | 3            | character    | WA           |\n",
       "| 1            | 4            | character    | 418-Y11-4111 |\n",
       "| 2            | 1            | character    | Mary         |\n",
       "| 2            | 2            | character    | Hartford     |\n",
       "| 2            | 3            | character    | CA           |\n",
       "| 2            | 4            | character    | 319-Z19-4341 |\n",
       "| 3            | 1            | character    | Evan         |\n",
       "| 3            | 2            | character    | Nolan        |\n",
       "| 3            | 3            | character    | IL           |\n",
       "| 3            | 4            | character    | 219-532-c301 |\n",
       "\n"
      ],
      "text/plain": [
       "   row col data_type value       \n",
       "1  1   1   character John        \n",
       "2  1   2   character Smith       \n",
       "3  1   3   character WA          \n",
       "4  1   4   character 418-Y11-4111\n",
       "5  2   1   character Mary        \n",
       "6  2   2   character Hartford    \n",
       "7  2   3   character CA          \n",
       "8  2   4   character 319-Z19-4341\n",
       "9  3   1   character Evan        \n",
       "10 3   2   character Nolan       \n",
       "11 3   3   character IL          \n",
       "12 3   4   character 219-532-c301"
      ]
     },
     "metadata": {},
     "output_type": "display_data"
    }
   ],
   "source": [
    "melt_fwf(sample_path, fwf_empty(sample_path))"
   ]
  }
 ],
 "metadata": {
  "kernelspec": {
   "display_name": "R",
   "language": "R",
   "name": "ir"
  },
  "language_info": {
   "codemirror_mode": "r",
   "file_extension": ".r",
   "mimetype": "text/x-r-source",
   "name": "R",
   "pygments_lexer": "r",
   "version": "3.6.1"
  }
 },
 "nbformat": 4,
 "nbformat_minor": 2
}
