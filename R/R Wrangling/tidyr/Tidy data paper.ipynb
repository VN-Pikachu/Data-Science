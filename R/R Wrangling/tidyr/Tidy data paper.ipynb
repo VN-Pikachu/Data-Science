{
 "cells": [
  {
   "cell_type": "markdown",
   "metadata": {},
   "source": [
    "<b><a href = 'https://vita.had.co.nz/papers/tidy-data.html'>Tidy data paper</a></b>"
   ]
  },
  {
   "cell_type": "markdown",
   "metadata": {},
   "source": [
    "Tidy datasets are easy to manipulate, model and visualize, and have a specific structure:\n",
    "* each variable is a column\n",
    "* each observation is a row\n",
    "* each type of observational unit\n",
    "is a table. "
   ]
  },
  {
   "cell_type": "markdown",
   "metadata": {},
   "source": [
    "# 1. Introduction"
   ]
  },
  {
   "cell_type": "markdown",
   "metadata": {},
   "source": [
    "Data preparation is not just a first step, but must be\n",
    "repeated many times over the course of analysis as new problems come to light or new data\n",
    "is collected. Despite the amount of time it takes, there has been surprisingly little research\n",
    "on how to clean data well. Part of the challenge is the breadth of activities it encompasses:\n",
    "from outlier checking, to date parsing, to missing value imputation. "
   ]
  },
  {
   "cell_type": "markdown",
   "metadata": {},
   "source": [
    "# 2. Defining tidy data"
   ]
  },
  {
   "cell_type": "markdown",
   "metadata": {},
   "source": [
    "### 2.1 Data structure"
   ]
  },
  {
   "cell_type": "markdown",
   "metadata": {},
   "source": [
    "Most statistical datasets are rectangular tables made up of rows and columns. The columns\n",
    "are almost always labeled and the rows are sometimes labeled. "
   ]
  },
  {
   "cell_type": "markdown",
   "metadata": {},
   "source": [
    "### 2.2 Data semantics"
   ]
  },
  {
   "cell_type": "markdown",
   "metadata": {},
   "source": [
    "A dataset is a collection of values, usually either numbers (if quantitative) or strings (if\n",
    "qualitative). Values are organized in two ways. Every value belongs to a variable and an\n",
    "observation. A variable contains all values that measure the same underlying attribute (like\n",
    "height, temperature, duration) across units. An observation contains all values measured on\n",
    "the same unit (like a person, or a day, or a race) across attributes."
   ]
  },
  {
   "cell_type": "markdown",
   "metadata": {},
   "source": [
    "### 2.3 Tidy data "
   ]
  },
  {
   "cell_type": "markdown",
   "metadata": {},
   "source": [
    "In tidy data:\n",
    "* 1. Each variable forms a column.\n",
    "* 2. Each observation forms a row.\n",
    "* 3. Each type of observational unit forms a table"
   ]
  },
  {
   "cell_type": "markdown",
   "metadata": {},
   "source": [
    "# 3. Tidying messy datasets"
   ]
  },
  {
   "cell_type": "markdown",
   "metadata": {},
   "source": [
    "Real datasets can, and often do, violate the three precepts of tidy data in almost every way\n",
    "imaginable. While occasionally you do get a dataset that you can start analyzing immediately,\n",
    "this is the exception, not the rule. This section describes the five most common problems\n",
    "with messy datasets, along with their remedies:\n",
    "*  Column headers are values, not variable names.\n",
    "*  Multiple variables are stored in one column.\n",
    "*  Variables are stored in both rows and columns.\n",
    "*  Multiple types of observational units are stored in the same table.\n",
    "*  A single observational unit is stored in multiple tables.\n"
   ]
  }
 ],
 "metadata": {
  "kernelspec": {
   "display_name": "R",
   "language": "R",
   "name": "ir"
  },
  "language_info": {
   "codemirror_mode": "r",
   "file_extension": ".r",
   "mimetype": "text/x-r-source",
   "name": "R",
   "pygments_lexer": "r",
   "version": "3.6.1"
  }
 },
 "nbformat": 4,
 "nbformat_minor": 2
}
