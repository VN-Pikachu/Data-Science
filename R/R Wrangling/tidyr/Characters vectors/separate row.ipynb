{
 "cells": [
  {
   "cell_type": "code",
   "execution_count": 3,
   "metadata": {},
   "outputs": [],
   "source": [
    "library(tidyverse)"
   ]
  },
  {
   "cell_type": "markdown",
   "metadata": {},
   "source": [
    "# Separate a collapsed column into multiple rows"
   ]
  },
  {
   "cell_type": "markdown",
   "metadata": {},
   "source": [
    "If a variable contains observations with multiple delimited values, this separates the values and places each one in its own row."
   ]
  },
  {
   "cell_type": "markdown",
   "metadata": {},
   "source": [
    "```r\n",
    "separate_rows(data, ..., sep = \"[^[:alnum:].]+\", convert = FALSE)\n",
    "```"
   ]
  },
  {
   "cell_type": "markdown",
   "metadata": {},
   "source": [
    "# Examples "
   ]
  },
  {
   "cell_type": "code",
   "execution_count": 4,
   "metadata": {},
   "outputs": [
    {
     "data": {
      "text/html": [
       "<table>\n",
       "<thead><tr><th scope=col>x</th><th scope=col>y</th><th scope=col>z</th></tr></thead>\n",
       "<tbody>\n",
       "\t<tr><td>1    </td><td>a    </td><td>1    </td></tr>\n",
       "\t<tr><td>2    </td><td>d,e,f</td><td>2,3,4</td></tr>\n",
       "\t<tr><td>3    </td><td>g,h  </td><td>5,6  </td></tr>\n",
       "</tbody>\n",
       "</table>\n"
      ],
      "text/latex": [
       "\\begin{tabular}{r|lll}\n",
       " x & y & z\\\\\n",
       "\\hline\n",
       "\t 1     & a     & 1    \\\\\n",
       "\t 2     & d,e,f & 2,3,4\\\\\n",
       "\t 3     & g,h   & 5,6  \\\\\n",
       "\\end{tabular}\n"
      ],
      "text/markdown": [
       "\n",
       "| x | y | z |\n",
       "|---|---|---|\n",
       "| 1     | a     | 1     |\n",
       "| 2     | d,e,f | 2,3,4 |\n",
       "| 3     | g,h   | 5,6   |\n",
       "\n"
      ],
      "text/plain": [
       "  x y     z    \n",
       "1 1 a     1    \n",
       "2 2 d,e,f 2,3,4\n",
       "3 3 g,h   5,6  "
      ]
     },
     "metadata": {},
     "output_type": "display_data"
    }
   ],
   "source": [
    "df <- tibble(\n",
    "  x = 1:3,\n",
    "  y = c(\"a\", \"d,e,f\", \"g,h\"),\n",
    "  z = c(\"1\", \"2,3,4\", \"5,6\")\n",
    ")\n",
    "\n",
    "df"
   ]
  },
  {
   "cell_type": "code",
   "execution_count": 10,
   "metadata": {},
   "outputs": [
    {
     "data": {
      "text/html": [
       "<table>\n",
       "<thead><tr><th scope=col>x</th><th scope=col>y</th><th scope=col>z</th></tr></thead>\n",
       "<tbody>\n",
       "\t<tr><td>1</td><td>a</td><td>1</td></tr>\n",
       "\t<tr><td>2</td><td>d</td><td>2</td></tr>\n",
       "\t<tr><td>2</td><td>e</td><td>3</td></tr>\n",
       "\t<tr><td>2</td><td>f</td><td>4</td></tr>\n",
       "\t<tr><td>3</td><td>g</td><td>5</td></tr>\n",
       "\t<tr><td>3</td><td>h</td><td>6</td></tr>\n",
       "</tbody>\n",
       "</table>\n"
      ],
      "text/latex": [
       "\\begin{tabular}{r|lll}\n",
       " x & y & z\\\\\n",
       "\\hline\n",
       "\t 1 & a & 1\\\\\n",
       "\t 2 & d & 2\\\\\n",
       "\t 2 & e & 3\\\\\n",
       "\t 2 & f & 4\\\\\n",
       "\t 3 & g & 5\\\\\n",
       "\t 3 & h & 6\\\\\n",
       "\\end{tabular}\n"
      ],
      "text/markdown": [
       "\n",
       "| x | y | z |\n",
       "|---|---|---|\n",
       "| 1 | a | 1 |\n",
       "| 2 | d | 2 |\n",
       "| 2 | e | 3 |\n",
       "| 2 | f | 4 |\n",
       "| 3 | g | 5 |\n",
       "| 3 | h | 6 |\n",
       "\n"
      ],
      "text/plain": [
       "  x y z\n",
       "1 1 a 1\n",
       "2 2 d 2\n",
       "3 2 e 3\n",
       "4 2 f 4\n",
       "5 3 g 5\n",
       "6 3 h 6"
      ]
     },
     "metadata": {},
     "output_type": "display_data"
    }
   ],
   "source": [
    "#separate 2 columns y and z at the same time\n",
    "#Automatically convert '1' to 1\n",
    "df %>% separate_rows(y, z, convert =T) \n",
    "\n",
    "# select columns using tidy select\n",
    "# df %>% separate_rows(c(y, z), convert = T)"
   ]
  },
  {
   "cell_type": "code",
   "execution_count": 11,
   "metadata": {},
   "outputs": [
    {
     "data": {
      "text/html": [
       "<table>\n",
       "<thead><tr><th scope=col>x</th><th scope=col>y</th><th scope=col>z</th></tr></thead>\n",
       "<tbody>\n",
       "\t<tr><td>1    </td><td>a    </td><td>1    </td></tr>\n",
       "\t<tr><td>2    </td><td>d    </td><td>2,3,4</td></tr>\n",
       "\t<tr><td>2    </td><td>e    </td><td>2,3,4</td></tr>\n",
       "\t<tr><td>2    </td><td>f    </td><td>2,3,4</td></tr>\n",
       "\t<tr><td>3    </td><td>g    </td><td>5,6  </td></tr>\n",
       "\t<tr><td>3    </td><td>h    </td><td>5,6  </td></tr>\n",
       "</tbody>\n",
       "</table>\n"
      ],
      "text/latex": [
       "\\begin{tabular}{r|lll}\n",
       " x & y & z\\\\\n",
       "\\hline\n",
       "\t 1     & a     & 1    \\\\\n",
       "\t 2     & d     & 2,3,4\\\\\n",
       "\t 2     & e     & 2,3,4\\\\\n",
       "\t 2     & f     & 2,3,4\\\\\n",
       "\t 3     & g     & 5,6  \\\\\n",
       "\t 3     & h     & 5,6  \\\\\n",
       "\\end{tabular}\n"
      ],
      "text/markdown": [
       "\n",
       "| x | y | z |\n",
       "|---|---|---|\n",
       "| 1     | a     | 1     |\n",
       "| 2     | d     | 2,3,4 |\n",
       "| 2     | e     | 2,3,4 |\n",
       "| 2     | f     | 2,3,4 |\n",
       "| 3     | g     | 5,6   |\n",
       "| 3     | h     | 5,6   |\n",
       "\n"
      ],
      "text/plain": [
       "  x y z    \n",
       "1 1 a 1    \n",
       "2 2 d 2,3,4\n",
       "3 2 e 2,3,4\n",
       "4 2 f 2,3,4\n",
       "5 3 g 5,6  \n",
       "6 3 h 5,6  "
      ]
     },
     "metadata": {},
     "output_type": "display_data"
    }
   ],
   "source": [
    "df %>% separate_rows(y)"
   ]
  },
  {
   "cell_type": "code",
   "execution_count": 12,
   "metadata": {},
   "outputs": [
    {
     "data": {
      "text/html": [
       "<table>\n",
       "<thead><tr><th scope=col>x</th><th scope=col>y</th><th scope=col>z</th></tr></thead>\n",
       "<tbody>\n",
       "\t<tr><td>1    </td><td>a    </td><td>1    </td></tr>\n",
       "\t<tr><td>2    </td><td>d,e,f</td><td>2    </td></tr>\n",
       "\t<tr><td>2    </td><td>d,e,f</td><td>3    </td></tr>\n",
       "\t<tr><td>2    </td><td>d,e,f</td><td>4    </td></tr>\n",
       "\t<tr><td>3    </td><td>g,h  </td><td>5    </td></tr>\n",
       "\t<tr><td>3    </td><td>g,h  </td><td>6    </td></tr>\n",
       "</tbody>\n",
       "</table>\n"
      ],
      "text/latex": [
       "\\begin{tabular}{r|lll}\n",
       " x & y & z\\\\\n",
       "\\hline\n",
       "\t 1     & a     & 1    \\\\\n",
       "\t 2     & d,e,f & 2    \\\\\n",
       "\t 2     & d,e,f & 3    \\\\\n",
       "\t 2     & d,e,f & 4    \\\\\n",
       "\t 3     & g,h   & 5    \\\\\n",
       "\t 3     & g,h   & 6    \\\\\n",
       "\\end{tabular}\n"
      ],
      "text/markdown": [
       "\n",
       "| x | y | z |\n",
       "|---|---|---|\n",
       "| 1     | a     | 1     |\n",
       "| 2     | d,e,f | 2     |\n",
       "| 2     | d,e,f | 3     |\n",
       "| 2     | d,e,f | 4     |\n",
       "| 3     | g,h   | 5     |\n",
       "| 3     | g,h   | 6     |\n",
       "\n"
      ],
      "text/plain": [
       "  x y     z\n",
       "1 1 a     1\n",
       "2 2 d,e,f 2\n",
       "3 2 d,e,f 3\n",
       "4 2 d,e,f 4\n",
       "5 3 g,h   5\n",
       "6 3 g,h   6"
      ]
     },
     "metadata": {},
     "output_type": "display_data"
    }
   ],
   "source": [
    "df %>% separate_rows(z)"
   ]
  },
  {
   "cell_type": "code",
   "execution_count": null,
   "metadata": {},
   "outputs": [],
   "source": []
  }
 ],
 "metadata": {
  "kernelspec": {
   "display_name": "R",
   "language": "R",
   "name": "ir"
  },
  "language_info": {
   "codemirror_mode": "r",
   "file_extension": ".r",
   "mimetype": "text/x-r-source",
   "name": "R",
   "pygments_lexer": "r",
   "version": "3.6.1"
  }
 },
 "nbformat": 4,
 "nbformat_minor": 2
}
