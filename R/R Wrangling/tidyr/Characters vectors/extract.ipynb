{
 "cells": [
  {
   "cell_type": "code",
   "execution_count": 4,
   "metadata": {},
   "outputs": [],
   "source": [
    "library(tidyverse)"
   ]
  },
  {
   "cell_type": "markdown",
   "metadata": {},
   "source": [
    "# Extract a character column into multiple columns using regular expression groups"
   ]
  },
  {
   "cell_type": "markdown",
   "metadata": {},
   "source": [
    "Given a regular expression with capturing groups, **`extract()`** turns each group into a new column. If the groups don't match, or the input is NA, the output will be NA."
   ]
  },
  {
   "cell_type": "markdown",
   "metadata": {},
   "source": [
    "```r\n",
    "extract(\n",
    "  data,\n",
    "  col,\n",
    "  into,\n",
    "  regex = \"([[:alnum:]]+)\",\n",
    "  remove = TRUE,\n",
    "  convert = FALSE,\n",
    "  ...\n",
    ")\n",
    "```"
   ]
  },
  {
   "cell_type": "markdown",
   "metadata": {},
   "source": [
    "# Examples"
   ]
  },
  {
   "cell_type": "code",
   "execution_count": 1,
   "metadata": {},
   "outputs": [
    {
     "data": {
      "text/html": [
       "<table>\n",
       "<thead><tr><th scope=col>x</th></tr></thead>\n",
       "<tbody>\n",
       "\t<tr><td>NA </td></tr>\n",
       "\t<tr><td>a-b</td></tr>\n",
       "\t<tr><td>a-d</td></tr>\n",
       "\t<tr><td>b-c</td></tr>\n",
       "\t<tr><td>d-e</td></tr>\n",
       "</tbody>\n",
       "</table>\n"
      ],
      "text/latex": [
       "\\begin{tabular}{r|l}\n",
       " x\\\\\n",
       "\\hline\n",
       "\t NA \\\\\n",
       "\t a-b\\\\\n",
       "\t a-d\\\\\n",
       "\t b-c\\\\\n",
       "\t d-e\\\\\n",
       "\\end{tabular}\n"
      ],
      "text/markdown": [
       "\n",
       "| x |\n",
       "|---|\n",
       "| NA  |\n",
       "| a-b |\n",
       "| a-d |\n",
       "| b-c |\n",
       "| d-e |\n",
       "\n"
      ],
      "text/plain": [
       "  x  \n",
       "1 NA \n",
       "2 a-b\n",
       "3 a-d\n",
       "4 b-c\n",
       "5 d-e"
      ]
     },
     "metadata": {},
     "output_type": "display_data"
    }
   ],
   "source": [
    "df <- data.frame(x = c(NA, \"a-b\", \"a-d\", \"b-c\", \"d-e\"))\n",
    "\n",
    "df"
   ]
  },
  {
   "cell_type": "code",
   "execution_count": 6,
   "metadata": {},
   "outputs": [
    {
     "data": {
      "text/html": [
       "<table>\n",
       "<thead><tr><th scope=col>A</th></tr></thead>\n",
       "<tbody>\n",
       "\t<tr><td>NA</td></tr>\n",
       "\t<tr><td>a </td></tr>\n",
       "\t<tr><td>a </td></tr>\n",
       "\t<tr><td>b </td></tr>\n",
       "\t<tr><td>d </td></tr>\n",
       "</tbody>\n",
       "</table>\n"
      ],
      "text/latex": [
       "\\begin{tabular}{r|l}\n",
       " A\\\\\n",
       "\\hline\n",
       "\t NA\\\\\n",
       "\t a \\\\\n",
       "\t a \\\\\n",
       "\t b \\\\\n",
       "\t d \\\\\n",
       "\\end{tabular}\n"
      ],
      "text/markdown": [
       "\n",
       "| A |\n",
       "|---|\n",
       "| NA |\n",
       "| a  |\n",
       "| a  |\n",
       "| b  |\n",
       "| d  |\n",
       "\n"
      ],
      "text/plain": [
       "  A \n",
       "1 NA\n",
       "2 a \n",
       "3 a \n",
       "4 b \n",
       "5 d "
      ]
     },
     "metadata": {},
     "output_type": "display_data"
    }
   ],
   "source": [
    "#using default:  regex = \"([[:alnum:]]+)\" ---> captured first consecutive alphanumeric characters\n",
    "df %>% extract(col = x, into = 'A')"
   ]
  },
  {
   "cell_type": "code",
   "execution_count": 7,
   "metadata": {},
   "outputs": [
    {
     "data": {
      "text/html": [
       "<table>\n",
       "<thead><tr><th scope=col>A</th><th scope=col>B</th></tr></thead>\n",
       "<tbody>\n",
       "\t<tr><td>NA</td><td>NA</td></tr>\n",
       "\t<tr><td>a </td><td>b </td></tr>\n",
       "\t<tr><td>a </td><td>d </td></tr>\n",
       "\t<tr><td>b </td><td>c </td></tr>\n",
       "\t<tr><td>d </td><td>e </td></tr>\n",
       "</tbody>\n",
       "</table>\n"
      ],
      "text/latex": [
       "\\begin{tabular}{r|ll}\n",
       " A & B\\\\\n",
       "\\hline\n",
       "\t NA & NA\\\\\n",
       "\t a  & b \\\\\n",
       "\t a  & d \\\\\n",
       "\t b  & c \\\\\n",
       "\t d  & e \\\\\n",
       "\\end{tabular}\n"
      ],
      "text/markdown": [
       "\n",
       "| A | B |\n",
       "|---|---|\n",
       "| NA | NA |\n",
       "| a  | b  |\n",
       "| a  | d  |\n",
       "| b  | c  |\n",
       "| d  | e  |\n",
       "\n"
      ],
      "text/plain": [
       "  A  B \n",
       "1 NA NA\n",
       "2 a  b \n",
       "3 a  d \n",
       "4 b  c \n",
       "5 d  e "
      ]
     },
     "metadata": {},
     "output_type": "display_data"
    }
   ],
   "source": [
    "df %>% extract(x, c(\"A\", \"B\"), \"([[:alnum:]]+)-([[:alnum:]]+)\")"
   ]
  },
  {
   "cell_type": "code",
   "execution_count": 8,
   "metadata": {},
   "outputs": [
    {
     "data": {
      "text/html": [
       "<table>\n",
       "<thead><tr><th scope=col>A</th><th scope=col>B</th></tr></thead>\n",
       "<tbody>\n",
       "\t<tr><td>NA</td><td>NA</td></tr>\n",
       "\t<tr><td>a </td><td>b </td></tr>\n",
       "\t<tr><td>a </td><td>d </td></tr>\n",
       "\t<tr><td>b </td><td>c </td></tr>\n",
       "\t<tr><td>NA</td><td>NA</td></tr>\n",
       "</tbody>\n",
       "</table>\n"
      ],
      "text/latex": [
       "\\begin{tabular}{r|ll}\n",
       " A & B\\\\\n",
       "\\hline\n",
       "\t NA & NA\\\\\n",
       "\t a  & b \\\\\n",
       "\t a  & d \\\\\n",
       "\t b  & c \\\\\n",
       "\t NA & NA\\\\\n",
       "\\end{tabular}\n"
      ],
      "text/markdown": [
       "\n",
       "| A | B |\n",
       "|---|---|\n",
       "| NA | NA |\n",
       "| a  | b  |\n",
       "| a  | d  |\n",
       "| b  | c  |\n",
       "| NA | NA |\n",
       "\n"
      ],
      "text/plain": [
       "  A  B \n",
       "1 NA NA\n",
       "2 a  b \n",
       "3 a  d \n",
       "4 b  c \n",
       "5 NA NA"
      ]
     },
     "metadata": {},
     "output_type": "display_data"
    }
   ],
   "source": [
    "# If no match, NA:\n",
    "df %>% extract(x, c(\"A\", \"B\"), \"([a-d]+)-([a-d]+)\")"
   ]
  }
 ],
 "metadata": {
  "kernelspec": {
   "display_name": "R",
   "language": "R",
   "name": "ir"
  },
  "language_info": {
   "codemirror_mode": "r",
   "file_extension": ".r",
   "mimetype": "text/x-r-source",
   "name": "R",
   "pygments_lexer": "r",
   "version": "3.6.1"
  }
 },
 "nbformat": 4,
 "nbformat_minor": 2
}
