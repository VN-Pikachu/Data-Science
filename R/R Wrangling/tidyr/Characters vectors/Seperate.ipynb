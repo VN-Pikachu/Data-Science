{
 "cells": [
  {
   "cell_type": "code",
   "execution_count": 2,
   "metadata": {},
   "outputs": [],
   "source": [
    "library(tidyverse)"
   ]
  },
  {
   "cell_type": "markdown",
   "metadata": {},
   "source": [
    "# Separate a character column into multiple columns with a regular expression or numeric locations"
   ]
  },
  {
   "cell_type": "markdown",
   "metadata": {},
   "source": [
    "Given either a regular expression or a vector of character positions, **`separate()`** turns a single character column into multiple columns."
   ]
  },
  {
   "cell_type": "markdown",
   "metadata": {},
   "source": [
    "```r\n",
    "separate(\n",
    "  data,\n",
    "  col,\n",
    "  into,\n",
    "  sep = \"[^[:alnum:]]+\",\n",
    "  remove = TRUE,\n",
    "  convert = FALSE,\n",
    "  extra = \"warn\",\n",
    "  fill = \"warn\",\n",
    "  ...\n",
    ")\n",
    "```"
   ]
  },
  {
   "cell_type": "markdown",
   "metadata": {},
   "source": [
    "# Examples"
   ]
  },
  {
   "cell_type": "code",
   "execution_count": 3,
   "metadata": {},
   "outputs": [
    {
     "data": {
      "text/html": [
       "<table>\n",
       "<thead><tr><th scope=col>x</th></tr></thead>\n",
       "<tbody>\n",
       "\t<tr><td>NA </td></tr>\n",
       "\t<tr><td>a.b</td></tr>\n",
       "\t<tr><td>a.d</td></tr>\n",
       "\t<tr><td>b.c</td></tr>\n",
       "</tbody>\n",
       "</table>\n"
      ],
      "text/latex": [
       "\\begin{tabular}{r|l}\n",
       " x\\\\\n",
       "\\hline\n",
       "\t NA \\\\\n",
       "\t a.b\\\\\n",
       "\t a.d\\\\\n",
       "\t b.c\\\\\n",
       "\\end{tabular}\n"
      ],
      "text/markdown": [
       "\n",
       "| x |\n",
       "|---|\n",
       "| NA  |\n",
       "| a.b |\n",
       "| a.d |\n",
       "| b.c |\n",
       "\n"
      ],
      "text/plain": [
       "  x  \n",
       "1 NA \n",
       "2 a.b\n",
       "3 a.d\n",
       "4 b.c"
      ]
     },
     "metadata": {},
     "output_type": "display_data"
    }
   ],
   "source": [
    "# If you want to split by any non-alphanumeric value (the default):\n",
    "df <- data.frame(x = c(NA, \"a.b\", \"a.d\", \"b.c\"))\n",
    "df"
   ]
  },
  {
   "cell_type": "code",
   "execution_count": 4,
   "metadata": {},
   "outputs": [
    {
     "data": {
      "text/html": [
       "<table>\n",
       "<thead><tr><th scope=col>first column</th><th scope=col>second column</th></tr></thead>\n",
       "<tbody>\n",
       "\t<tr><td>NA</td><td>NA</td></tr>\n",
       "\t<tr><td>a </td><td>b </td></tr>\n",
       "\t<tr><td>a </td><td>d </td></tr>\n",
       "\t<tr><td>b </td><td>c </td></tr>\n",
       "</tbody>\n",
       "</table>\n"
      ],
      "text/latex": [
       "\\begin{tabular}{r|ll}\n",
       " first column & second column\\\\\n",
       "\\hline\n",
       "\t NA & NA\\\\\n",
       "\t a  & b \\\\\n",
       "\t a  & d \\\\\n",
       "\t b  & c \\\\\n",
       "\\end{tabular}\n"
      ],
      "text/markdown": [
       "\n",
       "| first column | second column |\n",
       "|---|---|\n",
       "| NA | NA |\n",
       "| a  | b  |\n",
       "| a  | d  |\n",
       "| b  | c  |\n",
       "\n"
      ],
      "text/plain": [
       "  first column second column\n",
       "1 NA           NA           \n",
       "2 a            b            \n",
       "3 a            d            \n",
       "4 b            c            "
      ]
     },
     "metadata": {},
     "output_type": "display_data"
    }
   ],
   "source": [
    "df %>% separate(col = x, into = c('first column', 'second column'))\n",
    "#short from\n",
    "#df %>% separate(x, c('first column', 'second column'))"
   ]
  },
  {
   "cell_type": "code",
   "execution_count": 12,
   "metadata": {},
   "outputs": [
    {
     "data": {
      "text/html": [
       "<table>\n",
       "<thead><tr><th scope=col>x</th><th scope=col>first</th><th scope=col>second</th></tr></thead>\n",
       "<tbody>\n",
       "\t<tr><td>NA </td><td>NA </td><td>NA </td></tr>\n",
       "\t<tr><td>a.b</td><td>a  </td><td>b  </td></tr>\n",
       "\t<tr><td>a.d</td><td>a  </td><td>d  </td></tr>\n",
       "\t<tr><td>b.c</td><td>b  </td><td>c  </td></tr>\n",
       "</tbody>\n",
       "</table>\n"
      ],
      "text/latex": [
       "\\begin{tabular}{r|lll}\n",
       " x & first & second\\\\\n",
       "\\hline\n",
       "\t NA  & NA  & NA \\\\\n",
       "\t a.b & a   & b  \\\\\n",
       "\t a.d & a   & d  \\\\\n",
       "\t b.c & b   & c  \\\\\n",
       "\\end{tabular}\n"
      ],
      "text/markdown": [
       "\n",
       "| x | first | second |\n",
       "|---|---|---|\n",
       "| NA  | NA  | NA  |\n",
       "| a.b | a   | b   |\n",
       "| a.d | a   | d   |\n",
       "| b.c | b   | c   |\n",
       "\n"
      ],
      "text/plain": [
       "  x   first second\n",
       "1 NA  NA    NA    \n",
       "2 a.b a     b     \n",
       "3 a.d a     d     \n",
       "4 b.c b     c     "
      ]
     },
     "metadata": {},
     "output_type": "display_data"
    }
   ],
   "source": [
    "# use can choose to preserve input (remove = F)\n",
    "df %>% separate(x, into = c('first', 'second'), remove = F)"
   ]
  },
  {
   "cell_type": "code",
   "execution_count": 9,
   "metadata": {},
   "outputs": [
    {
     "data": {
      "text/html": [
       "<table>\n",
       "<thead><tr><th scope=col>first</th><th scope=col>second</th><th scope=col>third</th></tr></thead>\n",
       "<tbody>\n",
       "\t<tr><td>NA</td><td>NA</td><td>NA</td></tr>\n",
       "\t<tr><td>a </td><td>. </td><td>b </td></tr>\n",
       "\t<tr><td>a </td><td>. </td><td>d </td></tr>\n",
       "\t<tr><td>b </td><td>. </td><td>c </td></tr>\n",
       "</tbody>\n",
       "</table>\n"
      ],
      "text/latex": [
       "\\begin{tabular}{r|lll}\n",
       " first & second & third\\\\\n",
       "\\hline\n",
       "\t NA & NA & NA\\\\\n",
       "\t a  & .  & b \\\\\n",
       "\t a  & .  & d \\\\\n",
       "\t b  & .  & c \\\\\n",
       "\\end{tabular}\n"
      ],
      "text/markdown": [
       "\n",
       "| first | second | third |\n",
       "|---|---|---|\n",
       "| NA | NA | NA |\n",
       "| a  | .  | b  |\n",
       "| a  | .  | d  |\n",
       "| b  | .  | c  |\n",
       "\n"
      ],
      "text/plain": [
       "  first second third\n",
       "1 NA    NA     NA   \n",
       "2 a     .      b    \n",
       "3 a     .      d    \n",
       "4 b     .      c    "
      ]
     },
     "metadata": {},
     "output_type": "display_data"
    },
    {
     "data": {
      "text/html": [
       "<table>\n",
       "<thead><tr><th scope=col>first</th><th scope=col>second</th><th scope=col>third</th></tr></thead>\n",
       "<tbody>\n",
       "\t<tr><td>NA</td><td>NA</td><td>NA</td></tr>\n",
       "\t<tr><td>a </td><td>. </td><td>b </td></tr>\n",
       "\t<tr><td>a </td><td>. </td><td>d </td></tr>\n",
       "\t<tr><td>b </td><td>. </td><td>c </td></tr>\n",
       "</tbody>\n",
       "</table>\n"
      ],
      "text/latex": [
       "\\begin{tabular}{r|lll}\n",
       " first & second & third\\\\\n",
       "\\hline\n",
       "\t NA & NA & NA\\\\\n",
       "\t a  & .  & b \\\\\n",
       "\t a  & .  & d \\\\\n",
       "\t b  & .  & c \\\\\n",
       "\\end{tabular}\n"
      ],
      "text/markdown": [
       "\n",
       "| first | second | third |\n",
       "|---|---|---|\n",
       "| NA | NA | NA |\n",
       "| a  | .  | b  |\n",
       "| a  | .  | d  |\n",
       "| b  | .  | c  |\n",
       "\n"
      ],
      "text/plain": [
       "  first second third\n",
       "1 NA    NA     NA   \n",
       "2 a     .      b    \n",
       "3 a     .      d    \n",
       "4 b     .      c    "
      ]
     },
     "metadata": {},
     "output_type": "display_data"
    }
   ],
   "source": [
    "# split at position c(1, 2)\n",
    "df %>% separate(x, into = c('first', 'second', 'third'), sep = c(1, 2))\n",
    "\n",
    "# can also use negative number to split\n",
    "df %>% separate(x, c('first', 'second', 'third'), sep = c(1, -1))"
   ]
  },
  {
   "cell_type": "code",
   "execution_count": 8,
   "metadata": {},
   "outputs": [
    {
     "data": {
      "text/html": [
       "<table>\n",
       "<thead><tr><th scope=col>second column</th></tr></thead>\n",
       "<tbody>\n",
       "\t<tr><td>NA</td></tr>\n",
       "\t<tr><td>b </td></tr>\n",
       "\t<tr><td>d </td></tr>\n",
       "\t<tr><td>c </td></tr>\n",
       "</tbody>\n",
       "</table>\n"
      ],
      "text/latex": [
       "\\begin{tabular}{r|l}\n",
       " second column\\\\\n",
       "\\hline\n",
       "\t NA\\\\\n",
       "\t b \\\\\n",
       "\t d \\\\\n",
       "\t c \\\\\n",
       "\\end{tabular}\n"
      ],
      "text/markdown": [
       "\n",
       "| second column |\n",
       "|---|\n",
       "| NA |\n",
       "| b  |\n",
       "| d  |\n",
       "| c  |\n",
       "\n"
      ],
      "text/plain": [
       "  second column\n",
       "1 NA           \n",
       "2 b            \n",
       "3 d            \n",
       "4 c            "
      ]
     },
     "metadata": {},
     "output_type": "display_data"
    }
   ],
   "source": [
    "# If you just want the second variable:\n",
    "df %>% separate(x, c(NA, 'second column'))"
   ]
  },
  {
   "cell_type": "code",
   "execution_count": 9,
   "metadata": {},
   "outputs": [
    {
     "data": {
      "text/html": [
       "<table>\n",
       "<thead><tr><th scope=col>x</th></tr></thead>\n",
       "<tbody>\n",
       "\t<tr><td>a    </td></tr>\n",
       "\t<tr><td>a b  </td></tr>\n",
       "\t<tr><td>a b c</td></tr>\n",
       "\t<tr><td>NA   </td></tr>\n",
       "</tbody>\n",
       "</table>\n"
      ],
      "text/latex": [
       "\\begin{tabular}{r|l}\n",
       " x\\\\\n",
       "\\hline\n",
       "\t a    \\\\\n",
       "\t a b  \\\\\n",
       "\t a b c\\\\\n",
       "\t NA   \\\\\n",
       "\\end{tabular}\n"
      ],
      "text/markdown": [
       "\n",
       "| x |\n",
       "|---|\n",
       "| a     |\n",
       "| a b   |\n",
       "| a b c |\n",
       "| NA    |\n",
       "\n"
      ],
      "text/plain": [
       "  x    \n",
       "1 a    \n",
       "2 a b  \n",
       "3 a b c\n",
       "4 NA   "
      ]
     },
     "metadata": {},
     "output_type": "display_data"
    }
   ],
   "source": [
    "# If every row doesn't split into the same number of pieces, use\n",
    "# the extra and fill arguments to control what happens:\n",
    "df <- data.frame(x = c(\"a\", \"a b\", \"a b c\", NA))\n",
    "\n",
    "df"
   ]
  },
  {
   "cell_type": "code",
   "execution_count": 12,
   "metadata": {},
   "outputs": [
    {
     "name": "stderr",
     "output_type": "stream",
     "text": [
      "Warning message:\n",
      "\"Expected 2 pieces. Additional pieces discarded in 1 rows [3].\"Warning message:\n",
      "\"Expected 2 pieces. Missing pieces filled with `NA` in 1 rows [1].\""
     ]
    },
    {
     "data": {
      "text/html": [
       "<table>\n",
       "<thead><tr><th scope=col>A</th><th scope=col>B</th></tr></thead>\n",
       "<tbody>\n",
       "\t<tr><td>a </td><td>NA</td></tr>\n",
       "\t<tr><td>a </td><td>b </td></tr>\n",
       "\t<tr><td>a </td><td>b </td></tr>\n",
       "\t<tr><td>NA</td><td>NA</td></tr>\n",
       "</tbody>\n",
       "</table>\n"
      ],
      "text/latex": [
       "\\begin{tabular}{r|ll}\n",
       " A & B\\\\\n",
       "\\hline\n",
       "\t a  & NA\\\\\n",
       "\t a  & b \\\\\n",
       "\t a  & b \\\\\n",
       "\t NA & NA\\\\\n",
       "\\end{tabular}\n"
      ],
      "text/markdown": [
       "\n",
       "| A | B |\n",
       "|---|---|\n",
       "| a  | NA |\n",
       "| a  | b  |\n",
       "| a  | b  |\n",
       "| NA | NA |\n",
       "\n"
      ],
      "text/plain": [
       "  A  B \n",
       "1 a  NA\n",
       "2 a  b \n",
       "3 a  b \n",
       "4 NA NA"
      ]
     },
     "metadata": {},
     "output_type": "display_data"
    }
   ],
   "source": [
    "df %>% separate(x, c('A', 'B'))"
   ]
  },
  {
   "cell_type": "code",
   "execution_count": 13,
   "metadata": {},
   "outputs": [
    {
     "data": {
      "text/html": [
       "<table>\n",
       "<thead><tr><th scope=col>a</th><th scope=col>b</th></tr></thead>\n",
       "<tbody>\n",
       "\t<tr><td>a </td><td>NA</td></tr>\n",
       "\t<tr><td>a </td><td>b </td></tr>\n",
       "\t<tr><td>a </td><td>b </td></tr>\n",
       "\t<tr><td>NA</td><td>NA</td></tr>\n",
       "</tbody>\n",
       "</table>\n"
      ],
      "text/latex": [
       "\\begin{tabular}{r|ll}\n",
       " a & b\\\\\n",
       "\\hline\n",
       "\t a  & NA\\\\\n",
       "\t a  & b \\\\\n",
       "\t a  & b \\\\\n",
       "\t NA & NA\\\\\n",
       "\\end{tabular}\n"
      ],
      "text/markdown": [
       "\n",
       "| a | b |\n",
       "|---|---|\n",
       "| a  | NA |\n",
       "| a  | b  |\n",
       "| a  | b  |\n",
       "| NA | NA |\n",
       "\n"
      ],
      "text/plain": [
       "  a  b \n",
       "1 a  NA\n",
       "2 a  b \n",
       "3 a  b \n",
       "4 NA NA"
      ]
     },
     "metadata": {},
     "output_type": "display_data"
    }
   ],
   "source": [
    "# The same behaviour as previous, but drops the c without warnings:\n",
    "df %>% separate(x, c(\"a\", \"b\"), extra = \"drop\", fill = \"right\")"
   ]
  },
  {
   "cell_type": "code",
   "execution_count": 15,
   "metadata": {},
   "outputs": [
    {
     "data": {
      "text/html": [
       "<table>\n",
       "<thead><tr><th scope=col>a</th><th scope=col>b</th></tr></thead>\n",
       "<tbody>\n",
       "\t<tr><td>NA </td><td>a  </td></tr>\n",
       "\t<tr><td>a  </td><td>b  </td></tr>\n",
       "\t<tr><td>a  </td><td>b c</td></tr>\n",
       "\t<tr><td>NA </td><td>NA </td></tr>\n",
       "</tbody>\n",
       "</table>\n"
      ],
      "text/latex": [
       "\\begin{tabular}{r|ll}\n",
       " a & b\\\\\n",
       "\\hline\n",
       "\t NA  & a  \\\\\n",
       "\t a   & b  \\\\\n",
       "\t a   & b c\\\\\n",
       "\t NA  & NA \\\\\n",
       "\\end{tabular}\n"
      ],
      "text/markdown": [
       "\n",
       "| a | b |\n",
       "|---|---|\n",
       "| NA  | a   |\n",
       "| a   | b   |\n",
       "| a   | b c |\n",
       "| NA  | NA  |\n",
       "\n"
      ],
      "text/plain": [
       "  a  b  \n",
       "1 NA a  \n",
       "2 a  b  \n",
       "3 a  b c\n",
       "4 NA NA "
      ]
     },
     "metadata": {},
     "output_type": "display_data"
    }
   ],
   "source": [
    "# Opposite of previous, keeping the c and filling left:\n",
    "df %>% separate(x, c(\"a\", \"b\"), extra = \"merge\", fill = \"left\")"
   ]
  },
  {
   "cell_type": "code",
   "execution_count": 16,
   "metadata": {},
   "outputs": [
    {
     "name": "stderr",
     "output_type": "stream",
     "text": [
      "Warning message:\n",
      "\"Expected 3 pieces. Missing pieces filled with `NA` in 2 rows [1, 2].\""
     ]
    },
    {
     "data": {
      "text/html": [
       "<table>\n",
       "<thead><tr><th scope=col>a</th><th scope=col>b</th><th scope=col>c</th></tr></thead>\n",
       "<tbody>\n",
       "\t<tr><td>a </td><td>NA</td><td>NA</td></tr>\n",
       "\t<tr><td>a </td><td>b </td><td>NA</td></tr>\n",
       "\t<tr><td>a </td><td>b </td><td>c </td></tr>\n",
       "\t<tr><td>NA</td><td>NA</td><td>NA</td></tr>\n",
       "</tbody>\n",
       "</table>\n"
      ],
      "text/latex": [
       "\\begin{tabular}{r|lll}\n",
       " a & b & c\\\\\n",
       "\\hline\n",
       "\t a  & NA & NA\\\\\n",
       "\t a  & b  & NA\\\\\n",
       "\t a  & b  & c \\\\\n",
       "\t NA & NA & NA\\\\\n",
       "\\end{tabular}\n"
      ],
      "text/markdown": [
       "\n",
       "| a | b | c |\n",
       "|---|---|---|\n",
       "| a  | NA | NA |\n",
       "| a  | b  | NA |\n",
       "| a  | b  | c  |\n",
       "| NA | NA | NA |\n",
       "\n"
      ],
      "text/plain": [
       "  a  b  c \n",
       "1 a  NA NA\n",
       "2 a  b  NA\n",
       "3 a  b  c \n",
       "4 NA NA NA"
      ]
     },
     "metadata": {},
     "output_type": "display_data"
    }
   ],
   "source": [
    "# Or you can keep all three:\n",
    "df %>% separate(x, c(\"a\", \"b\", \"c\"))"
   ]
  },
  {
   "cell_type": "code",
   "execution_count": 18,
   "metadata": {},
   "outputs": [
    {
     "data": {
      "text/html": [
       "<table>\n",
       "<thead><tr><th scope=col>x</th></tr></thead>\n",
       "<tbody>\n",
       "\t<tr><td>x: 123     </td></tr>\n",
       "\t<tr><td>y: error: 7</td></tr>\n",
       "</tbody>\n",
       "</table>\n"
      ],
      "text/latex": [
       "\\begin{tabular}{r|l}\n",
       " x\\\\\n",
       "\\hline\n",
       "\t x: 123     \\\\\n",
       "\t y: error: 7\\\\\n",
       "\\end{tabular}\n"
      ],
      "text/markdown": [
       "\n",
       "| x |\n",
       "|---|\n",
       "| x: 123      |\n",
       "| y: error: 7 |\n",
       "\n"
      ],
      "text/plain": [
       "  x          \n",
       "1 x: 123     \n",
       "2 y: error: 7"
      ]
     },
     "metadata": {},
     "output_type": "display_data"
    }
   ],
   "source": [
    "# To only split a specified number of times use extra = \"merge\":\n",
    "df <- data.frame(x = c(\"x: 123\", \"y: error: 7\"))\n",
    "\n",
    "df"
   ]
  },
  {
   "cell_type": "code",
   "execution_count": 19,
   "metadata": {},
   "outputs": [
    {
     "data": {
      "text/html": [
       "<table>\n",
       "<thead><tr><th scope=col>key</th><th scope=col>value</th></tr></thead>\n",
       "<tbody>\n",
       "\t<tr><td>x       </td><td>123     </td></tr>\n",
       "\t<tr><td>y       </td><td>error: 7</td></tr>\n",
       "</tbody>\n",
       "</table>\n"
      ],
      "text/latex": [
       "\\begin{tabular}{r|ll}\n",
       " key & value\\\\\n",
       "\\hline\n",
       "\t x        & 123     \\\\\n",
       "\t y        & error: 7\\\\\n",
       "\\end{tabular}\n"
      ],
      "text/markdown": [
       "\n",
       "| key | value |\n",
       "|---|---|\n",
       "| x        | 123      |\n",
       "| y        | error: 7 |\n",
       "\n"
      ],
      "text/plain": [
       "  key value   \n",
       "1 x   123     \n",
       "2 y   error: 7"
      ]
     },
     "metadata": {},
     "output_type": "display_data"
    }
   ],
   "source": [
    "df %>% separate(x, c(\"key\", \"value\"), \": \", extra = \"merge\")"
   ]
  },
  {
   "cell_type": "code",
   "execution_count": 21,
   "metadata": {},
   "outputs": [
    {
     "data": {
      "text/html": [
       "<table>\n",
       "<thead><tr><th scope=col>x</th></tr></thead>\n",
       "<tbody>\n",
       "\t<tr><td>NA </td></tr>\n",
       "\t<tr><td>a?b</td></tr>\n",
       "\t<tr><td>a.d</td></tr>\n",
       "\t<tr><td>b:c</td></tr>\n",
       "</tbody>\n",
       "</table>\n"
      ],
      "text/latex": [
       "\\begin{tabular}{r|l}\n",
       " x\\\\\n",
       "\\hline\n",
       "\t NA \\\\\n",
       "\t a?b\\\\\n",
       "\t a.d\\\\\n",
       "\t b:c\\\\\n",
       "\\end{tabular}\n"
      ],
      "text/markdown": [
       "\n",
       "| x |\n",
       "|---|\n",
       "| NA  |\n",
       "| a?b |\n",
       "| a.d |\n",
       "| b:c |\n",
       "\n"
      ],
      "text/plain": [
       "  x  \n",
       "1 NA \n",
       "2 a?b\n",
       "3 a.d\n",
       "4 b:c"
      ]
     },
     "metadata": {},
     "output_type": "display_data"
    }
   ],
   "source": [
    "# Use regular expressions to separate on multiple characters:\n",
    "df <- data.frame(x = c(NA, \"a?b\", \"a.d\", \"b:c\"))\n",
    "\n",
    "df"
   ]
  },
  {
   "cell_type": "code",
   "execution_count": 24,
   "metadata": {},
   "outputs": [
    {
     "data": {
      "text/html": [
       "<table>\n",
       "<thead><tr><th scope=col>first</th><th scope=col>second</th></tr></thead>\n",
       "<tbody>\n",
       "\t<tr><td>NA</td><td>NA</td></tr>\n",
       "\t<tr><td>a </td><td>b </td></tr>\n",
       "\t<tr><td>a </td><td>d </td></tr>\n",
       "\t<tr><td>b </td><td>c </td></tr>\n",
       "</tbody>\n",
       "</table>\n"
      ],
      "text/latex": [
       "\\begin{tabular}{r|ll}\n",
       " first & second\\\\\n",
       "\\hline\n",
       "\t NA & NA\\\\\n",
       "\t a  & b \\\\\n",
       "\t a  & d \\\\\n",
       "\t b  & c \\\\\n",
       "\\end{tabular}\n"
      ],
      "text/markdown": [
       "\n",
       "| first | second |\n",
       "|---|---|\n",
       "| NA | NA |\n",
       "| a  | b  |\n",
       "| a  | d  |\n",
       "| b  | c  |\n",
       "\n"
      ],
      "text/plain": [
       "  first second\n",
       "1 NA    NA    \n",
       "2 a     b     \n",
       "3 a     d     \n",
       "4 b     c     "
      ]
     },
     "metadata": {},
     "output_type": "display_data"
    }
   ],
   "source": [
    "df %>% separate(col = x, into = c('first', 'second'), sep = '[?.:]')"
   ]
  },
  {
   "cell_type": "code",
   "execution_count": 28,
   "metadata": {},
   "outputs": [
    {
     "data": {
      "text/html": [
       "<table>\n",
       "<thead><tr><th scope=col>x</th></tr></thead>\n",
       "<tbody>\n",
       "\t<tr><td>a:1</td></tr>\n",
       "\t<tr><td>a:2</td></tr>\n",
       "\t<tr><td>c:4</td></tr>\n",
       "\t<tr><td>d  </td></tr>\n",
       "\t<tr><td>NA </td></tr>\n",
       "</tbody>\n",
       "</table>\n"
      ],
      "text/latex": [
       "\\begin{tabular}{r|l}\n",
       " x\\\\\n",
       "\\hline\n",
       "\t a:1\\\\\n",
       "\t a:2\\\\\n",
       "\t c:4\\\\\n",
       "\t d  \\\\\n",
       "\t NA \\\\\n",
       "\\end{tabular}\n"
      ],
      "text/markdown": [
       "\n",
       "| x |\n",
       "|---|\n",
       "| a:1 |\n",
       "| a:2 |\n",
       "| c:4 |\n",
       "| d   |\n",
       "| NA  |\n",
       "\n"
      ],
      "text/plain": [
       "  x  \n",
       "1 a:1\n",
       "2 a:2\n",
       "3 c:4\n",
       "4 d  \n",
       "5 NA "
      ]
     },
     "metadata": {},
     "output_type": "display_data"
    }
   ],
   "source": [
    "# convert = TRUE detects column classes:\n",
    "df <- data.frame(x = c(\"a:1\", \"a:2\", \"c:4\", \"d\", NA))\n",
    "\n",
    "df"
   ]
  },
  {
   "cell_type": "code",
   "execution_count": 29,
   "metadata": {},
   "outputs": [
    {
     "name": "stderr",
     "output_type": "stream",
     "text": [
      "Warning message:\n",
      "\"Expected 2 pieces. Missing pieces filled with `NA` in 1 rows [4].\""
     ]
    },
    {
     "name": "stdout",
     "output_type": "stream",
     "text": [
      "'data.frame':\t5 obs. of  2 variables:\n",
      " $ key  : chr  \"a\" \"a\" \"c\" \"d\" ...\n",
      " $ value: chr  \"1\" \"2\" \"4\" NA ...\n"
     ]
    }
   ],
   "source": [
    "#convert = FALSE (default)\n",
    "\n",
    "df %>% separate(x, c(\"key\",\"value\"), \":\") %>% str"
   ]
  },
  {
   "cell_type": "code",
   "execution_count": 30,
   "metadata": {},
   "outputs": [
    {
     "name": "stderr",
     "output_type": "stream",
     "text": [
      "Warning message:\n",
      "\"Expected 2 pieces. Missing pieces filled with `NA` in 1 rows [4].\""
     ]
    },
    {
     "name": "stdout",
     "output_type": "stream",
     "text": [
      "'data.frame':\t5 obs. of  2 variables:\n",
      " $ key  : chr  \"a\" \"a\" \"c\" \"d\" ...\n",
      " $ value: int  1 2 4 NA NA\n"
     ]
    }
   ],
   "source": [
    "#convert = TRUE\n",
    "# e.g: convert \"100\" (character) to 100 (number)\n",
    "df %>% separate(x, c(\"key\",\"value\"), \":\", convert = TRUE) %>% str"
   ]
  },
  {
   "cell_type": "markdown",
   "metadata": {},
   "source": [
    "### `extra` and `fill` argument"
   ]
  },
  {
   "cell_type": "markdown",
   "metadata": {},
   "source": [
    "`extra` argumnet tells `separate` what to do when there are two many pieces"
   ]
  },
  {
   "cell_type": "code",
   "execution_count": 5,
   "metadata": {},
   "outputs": [
    {
     "data": {
      "text/html": [
       "<table>\n",
       "<thead><tr><th scope=col>x</th></tr></thead>\n",
       "<tbody>\n",
       "\t<tr><td>a,b,c  </td></tr>\n",
       "\t<tr><td>d,e,f,g</td></tr>\n",
       "\t<tr><td>h,i,j  </td></tr>\n",
       "</tbody>\n",
       "</table>\n"
      ],
      "text/latex": [
       "\\begin{tabular}{r|l}\n",
       " x\\\\\n",
       "\\hline\n",
       "\t a,b,c  \\\\\n",
       "\t d,e,f,g\\\\\n",
       "\t h,i,j  \\\\\n",
       "\\end{tabular}\n"
      ],
      "text/markdown": [
       "\n",
       "| x |\n",
       "|---|\n",
       "| a,b,c   |\n",
       "| d,e,f,g |\n",
       "| h,i,j   |\n",
       "\n"
      ],
      "text/plain": [
       "  x      \n",
       "1 a,b,c  \n",
       "2 d,e,f,g\n",
       "3 h,i,j  "
      ]
     },
     "metadata": {},
     "output_type": "display_data"
    }
   ],
   "source": [
    "df <- tibble(x = c(\"a,b,c\", \"d,e,f,g\", \"h,i,j\"))\n",
    "df"
   ]
  },
  {
   "cell_type": "code",
   "execution_count": 7,
   "metadata": {},
   "outputs": [
    {
     "name": "stderr",
     "output_type": "stream",
     "text": [
      "Warning message:\n",
      "\"Expected 3 pieces. Additional pieces discarded in 1 rows [2].\""
     ]
    },
    {
     "data": {
      "text/html": [
       "<table>\n",
       "<thead><tr><th scope=col>first</th><th scope=col>second</th><th scope=col>third</th></tr></thead>\n",
       "<tbody>\n",
       "\t<tr><td>a</td><td>b</td><td>c</td></tr>\n",
       "\t<tr><td>d</td><td>e</td><td>f</td></tr>\n",
       "\t<tr><td>h</td><td>i</td><td>j</td></tr>\n",
       "</tbody>\n",
       "</table>\n"
      ],
      "text/latex": [
       "\\begin{tabular}{r|lll}\n",
       " first & second & third\\\\\n",
       "\\hline\n",
       "\t a & b & c\\\\\n",
       "\t d & e & f\\\\\n",
       "\t h & i & j\\\\\n",
       "\\end{tabular}\n"
      ],
      "text/markdown": [
       "\n",
       "| first | second | third |\n",
       "|---|---|---|\n",
       "| a | b | c |\n",
       "| d | e | f |\n",
       "| h | i | j |\n",
       "\n"
      ],
      "text/plain": [
       "  first second third\n",
       "1 a     b      c    \n",
       "2 d     e      f    \n",
       "3 h     i      j    "
      ]
     },
     "metadata": {},
     "output_type": "display_data"
    }
   ],
   "source": [
    "# drop extra pieces with a warn\n",
    "df %>% separate(x, into = c('first', 'second', 'third'), extra = 'warn') # default"
   ]
  },
  {
   "cell_type": "code",
   "execution_count": 8,
   "metadata": {},
   "outputs": [
    {
     "data": {
      "text/html": [
       "<table>\n",
       "<thead><tr><th scope=col>first</th><th scope=col>second</th><th scope=col>third</th></tr></thead>\n",
       "<tbody>\n",
       "\t<tr><td>a</td><td>b</td><td>c</td></tr>\n",
       "\t<tr><td>d</td><td>e</td><td>f</td></tr>\n",
       "\t<tr><td>h</td><td>i</td><td>j</td></tr>\n",
       "</tbody>\n",
       "</table>\n"
      ],
      "text/latex": [
       "\\begin{tabular}{r|lll}\n",
       " first & second & third\\\\\n",
       "\\hline\n",
       "\t a & b & c\\\\\n",
       "\t d & e & f\\\\\n",
       "\t h & i & j\\\\\n",
       "\\end{tabular}\n"
      ],
      "text/markdown": [
       "\n",
       "| first | second | third |\n",
       "|---|---|---|\n",
       "| a | b | c |\n",
       "| d | e | f |\n",
       "| h | i | j |\n",
       "\n"
      ],
      "text/plain": [
       "  first second third\n",
       "1 a     b      c    \n",
       "2 d     e      f    \n",
       "3 h     i      j    "
      ]
     },
     "metadata": {},
     "output_type": "display_data"
    }
   ],
   "source": [
    "# drop extra pieces without a warn\n",
    "df %>% separate(x, into = c('first', 'second', 'third'), extra = 'drop')"
   ]
  },
  {
   "cell_type": "code",
   "execution_count": 9,
   "metadata": {},
   "outputs": [
    {
     "data": {
      "text/html": [
       "<table>\n",
       "<thead><tr><th scope=col>first</th><th scope=col>second</th><th scope=col>third</th></tr></thead>\n",
       "<tbody>\n",
       "\t<tr><td>a  </td><td>b  </td><td>c  </td></tr>\n",
       "\t<tr><td>d  </td><td>e  </td><td>f,g</td></tr>\n",
       "\t<tr><td>h  </td><td>i  </td><td>j  </td></tr>\n",
       "</tbody>\n",
       "</table>\n"
      ],
      "text/latex": [
       "\\begin{tabular}{r|lll}\n",
       " first & second & third\\\\\n",
       "\\hline\n",
       "\t a   & b   & c  \\\\\n",
       "\t d   & e   & f,g\\\\\n",
       "\t h   & i   & j  \\\\\n",
       "\\end{tabular}\n"
      ],
      "text/markdown": [
       "\n",
       "| first | second | third |\n",
       "|---|---|---|\n",
       "| a   | b   | c   |\n",
       "| d   | e   | f,g |\n",
       "| h   | i   | j   |\n",
       "\n"
      ],
      "text/plain": [
       "  first second third\n",
       "1 a     b      c    \n",
       "2 d     e      f,g  \n",
       "3 h     i      j    "
      ]
     },
     "metadata": {},
     "output_type": "display_data"
    }
   ],
   "source": [
    "# merge extra pieces to the last column\n",
    "df %>% separate(x, into = c('first', 'second', 'third'), extra = 'merge')"
   ]
  },
  {
   "cell_type": "markdown",
   "metadata": {},
   "source": [
    "`fill` argument tells `separate` what to do when there are not enough pieces"
   ]
  },
  {
   "cell_type": "code",
   "execution_count": 10,
   "metadata": {},
   "outputs": [
    {
     "name": "stderr",
     "output_type": "stream",
     "text": [
      "Warning message:\n",
      "\"Expected 4 pieces. Missing pieces filled with `NA` in 2 rows [1, 3].\""
     ]
    },
    {
     "data": {
      "text/html": [
       "<table>\n",
       "<thead><tr><th scope=col>first</th><th scope=col>second</th><th scope=col>third</th><th scope=col>fourth</th></tr></thead>\n",
       "<tbody>\n",
       "\t<tr><td>a </td><td>b </td><td>c </td><td>NA</td></tr>\n",
       "\t<tr><td>d </td><td>e </td><td>f </td><td>g </td></tr>\n",
       "\t<tr><td>h </td><td>i </td><td>j </td><td>NA</td></tr>\n",
       "</tbody>\n",
       "</table>\n"
      ],
      "text/latex": [
       "\\begin{tabular}{r|llll}\n",
       " first & second & third & fourth\\\\\n",
       "\\hline\n",
       "\t a  & b  & c  & NA\\\\\n",
       "\t d  & e  & f  & g \\\\\n",
       "\t h  & i  & j  & NA\\\\\n",
       "\\end{tabular}\n"
      ],
      "text/markdown": [
       "\n",
       "| first | second | third | fourth |\n",
       "|---|---|---|---|\n",
       "| a  | b  | c  | NA |\n",
       "| d  | e  | f  | g  |\n",
       "| h  | i  | j  | NA |\n",
       "\n"
      ],
      "text/plain": [
       "  first second third fourth\n",
       "1 a     b      c     NA    \n",
       "2 d     e      f     g     \n",
       "3 h     i      j     NA    "
      ]
     },
     "metadata": {},
     "output_type": "display_data"
    }
   ],
   "source": [
    "# emit a warning and fill from the right\n",
    "df %>% separate(x, into = c('first', 'second', 'third', 'fourth'), fill = 'warn')"
   ]
  },
  {
   "cell_type": "code",
   "execution_count": 15,
   "metadata": {},
   "outputs": [
    {
     "data": {
      "text/html": [
       "<table>\n",
       "<thead><tr><th scope=col>first</th><th scope=col>second</th><th scope=col>third</th><th scope=col>fourth</th></tr></thead>\n",
       "<tbody>\n",
       "\t<tr><td>NA</td><td>a </td><td>b </td><td>c </td></tr>\n",
       "\t<tr><td>d </td><td>e </td><td>f </td><td>g </td></tr>\n",
       "\t<tr><td>NA</td><td>h </td><td>i </td><td>j </td></tr>\n",
       "</tbody>\n",
       "</table>\n"
      ],
      "text/latex": [
       "\\begin{tabular}{r|llll}\n",
       " first & second & third & fourth\\\\\n",
       "\\hline\n",
       "\t NA & a  & b  & c \\\\\n",
       "\t d  & e  & f  & g \\\\\n",
       "\t NA & h  & i  & j \\\\\n",
       "\\end{tabular}\n"
      ],
      "text/markdown": [
       "\n",
       "| first | second | third | fourth |\n",
       "|---|---|---|---|\n",
       "| NA | a  | b  | c  |\n",
       "| d  | e  | f  | g  |\n",
       "| NA | h  | i  | j  |\n",
       "\n"
      ],
      "text/plain": [
       "  first second third fourth\n",
       "1 NA    a      b     c     \n",
       "2 d     e      f     g     \n",
       "3 NA    h      i     j     "
      ]
     },
     "metadata": {},
     "output_type": "display_data"
    }
   ],
   "source": [
    "# fill with missing values on the left\n",
    "df %>% separate(x, into = c('first', 'second', 'third', 'fourth'), fill = 'left')"
   ]
  },
  {
   "cell_type": "code",
   "execution_count": 16,
   "metadata": {},
   "outputs": [
    {
     "data": {
      "text/html": [
       "<table>\n",
       "<thead><tr><th scope=col>first</th><th scope=col>second</th><th scope=col>third</th><th scope=col>fourth</th></tr></thead>\n",
       "<tbody>\n",
       "\t<tr><td>a </td><td>b </td><td>c </td><td>NA</td></tr>\n",
       "\t<tr><td>d </td><td>e </td><td>f </td><td>g </td></tr>\n",
       "\t<tr><td>h </td><td>i </td><td>j </td><td>NA</td></tr>\n",
       "</tbody>\n",
       "</table>\n"
      ],
      "text/latex": [
       "\\begin{tabular}{r|llll}\n",
       " first & second & third & fourth\\\\\n",
       "\\hline\n",
       "\t a  & b  & c  & NA\\\\\n",
       "\t d  & e  & f  & g \\\\\n",
       "\t h  & i  & j  & NA\\\\\n",
       "\\end{tabular}\n"
      ],
      "text/markdown": [
       "\n",
       "| first | second | third | fourth |\n",
       "|---|---|---|---|\n",
       "| a  | b  | c  | NA |\n",
       "| d  | e  | f  | g  |\n",
       "| h  | i  | j  | NA |\n",
       "\n"
      ],
      "text/plain": [
       "  first second third fourth\n",
       "1 a     b      c     NA    \n",
       "2 d     e      f     g     \n",
       "3 h     i      j     NA    "
      ]
     },
     "metadata": {},
     "output_type": "display_data"
    }
   ],
   "source": [
    "# fill wiht missing values on the right\n",
    "df %>% separate(x, into = c('first', 'second', 'third', 'fourth'), fill = 'right')"
   ]
  },
  {
   "cell_type": "code",
   "execution_count": null,
   "metadata": {},
   "outputs": [],
   "source": []
  }
 ],
 "metadata": {
  "kernelspec": {
   "display_name": "R",
   "language": "R",
   "name": "ir"
  },
  "language_info": {
   "codemirror_mode": "r",
   "file_extension": ".r",
   "mimetype": "text/x-r-source",
   "name": "R",
   "pygments_lexer": "r",
   "version": "3.6.1"
  }
 },
 "nbformat": 4,
 "nbformat_minor": 2
}
