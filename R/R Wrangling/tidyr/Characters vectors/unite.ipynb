{
 "cells": [
  {
   "cell_type": "code",
   "execution_count": 2,
   "metadata": {},
   "outputs": [],
   "source": [
    "library(tidyverse)"
   ]
  },
  {
   "cell_type": "markdown",
   "metadata": {},
   "source": [
    "# Unite multiple columns into one by pasting strings together"
   ]
  },
  {
   "cell_type": "markdown",
   "metadata": {},
   "source": [
    "Convenience function to paste together multiple columns into one."
   ]
  },
  {
   "cell_type": "markdown",
   "metadata": {},
   "source": [
    "```r\n",
    "unite(data, col, ..., sep = \"_\", remove = TRUE, na.rm = FALSE)\n",
    "```"
   ]
  },
  {
   "cell_type": "markdown",
   "metadata": {},
   "source": [
    "# Examples"
   ]
  },
  {
   "cell_type": "code",
   "execution_count": 3,
   "metadata": {},
   "outputs": [
    {
     "data": {
      "text/html": [
       "<table>\n",
       "<thead><tr><th scope=col>x</th><th scope=col>y</th></tr></thead>\n",
       "<tbody>\n",
       "\t<tr><td>a </td><td>b </td></tr>\n",
       "\t<tr><td>a </td><td>NA</td></tr>\n",
       "\t<tr><td>NA</td><td>b </td></tr>\n",
       "\t<tr><td>NA</td><td>NA</td></tr>\n",
       "</tbody>\n",
       "</table>\n"
      ],
      "text/latex": [
       "\\begin{tabular}{r|ll}\n",
       " x & y\\\\\n",
       "\\hline\n",
       "\t a  & b \\\\\n",
       "\t a  & NA\\\\\n",
       "\t NA & b \\\\\n",
       "\t NA & NA\\\\\n",
       "\\end{tabular}\n"
      ],
      "text/markdown": [
       "\n",
       "| x | y |\n",
       "|---|---|\n",
       "| a  | b  |\n",
       "| a  | NA |\n",
       "| NA | b  |\n",
       "| NA | NA |\n",
       "\n"
      ],
      "text/plain": [
       "  x  y \n",
       "1 a  b \n",
       "2 a  NA\n",
       "3 NA b \n",
       "4 NA NA"
      ]
     },
     "metadata": {},
     "output_type": "display_data"
    }
   ],
   "source": [
    "df <- expand_grid(x = c(\"a\", NA), y = c(\"b\", NA))\n",
    "df"
   ]
  },
  {
   "cell_type": "code",
   "execution_count": 5,
   "metadata": {},
   "outputs": [
    {
     "data": {
      "text/html": [
       "<table>\n",
       "<thead><tr><th scope=col>result</th></tr></thead>\n",
       "<tbody>\n",
       "\t<tr><td>a--b  </td></tr>\n",
       "\t<tr><td>a--NA </td></tr>\n",
       "\t<tr><td>NA--b </td></tr>\n",
       "\t<tr><td>NA--NA</td></tr>\n",
       "</tbody>\n",
       "</table>\n"
      ],
      "text/latex": [
       "\\begin{tabular}{r|l}\n",
       " result\\\\\n",
       "\\hline\n",
       "\t a--b  \\\\\n",
       "\t a--NA \\\\\n",
       "\t NA--b \\\\\n",
       "\t NA--NA\\\\\n",
       "\\end{tabular}\n"
      ],
      "text/markdown": [
       "\n",
       "| result |\n",
       "|---|\n",
       "| a--b   |\n",
       "| a--NA  |\n",
       "| NA--b  |\n",
       "| NA--NA |\n",
       "\n"
      ],
      "text/plain": [
       "  result\n",
       "1 a--b  \n",
       "2 a--NA \n",
       "3 NA--b \n",
       "4 NA--NA"
      ]
     },
     "metadata": {},
     "output_type": "display_data"
    }
   ],
   "source": [
    "\n",
    "df %>% unite(col = 'result', # Set the name of the new column to result\n",
    "             x:y,            # tidy-select: columns to join\n",
    "             sep = '--')"
   ]
  },
  {
   "cell_type": "code",
   "execution_count": 6,
   "metadata": {},
   "outputs": [
    {
     "data": {
      "text/html": [
       "<table>\n",
       "<thead><tr><th scope=col>result</th><th scope=col>x</th><th scope=col>y</th></tr></thead>\n",
       "<tbody>\n",
       "\t<tr><td>a--b  </td><td>a     </td><td>b     </td></tr>\n",
       "\t<tr><td>a--NA </td><td>a     </td><td>NA    </td></tr>\n",
       "\t<tr><td>NA--b </td><td>NA    </td><td>b     </td></tr>\n",
       "\t<tr><td>NA--NA</td><td>NA    </td><td>NA    </td></tr>\n",
       "</tbody>\n",
       "</table>\n"
      ],
      "text/latex": [
       "\\begin{tabular}{r|lll}\n",
       " result & x & y\\\\\n",
       "\\hline\n",
       "\t a--b   & a      & b     \\\\\n",
       "\t a--NA  & a      & NA    \\\\\n",
       "\t NA--b  & NA     & b     \\\\\n",
       "\t NA--NA & NA     & NA    \\\\\n",
       "\\end{tabular}\n"
      ],
      "text/markdown": [
       "\n",
       "| result | x | y |\n",
       "|---|---|---|\n",
       "| a--b   | a      | b      |\n",
       "| a--NA  | a      | NA     |\n",
       "| NA--b  | NA     | b      |\n",
       "| NA--NA | NA     | NA     |\n",
       "\n"
      ],
      "text/plain": [
       "  result x  y \n",
       "1 a--b   a  b \n",
       "2 a--NA  a  NA\n",
       "3 NA--b  NA b \n",
       "4 NA--NA NA NA"
      ]
     },
     "metadata": {},
     "output_type": "display_data"
    }
   ],
   "source": [
    "#remove = FALSE will do not remove input column\n",
    "df %>% unite(col = 'result',\n",
    "             x:y,\n",
    "             sep = '--',\n",
    "             remove = F)"
   ]
  },
  {
   "cell_type": "code",
   "execution_count": 9,
   "metadata": {},
   "outputs": [
    {
     "data": {
      "text/html": [
       "<table>\n",
       "<thead><tr><th scope=col>result</th></tr></thead>\n",
       "<tbody>\n",
       "\t<tr><td>a--b</td></tr>\n",
       "\t<tr><td>a   </td></tr>\n",
       "\t<tr><td>b   </td></tr>\n",
       "\t<tr><td>    </td></tr>\n",
       "</tbody>\n",
       "</table>\n"
      ],
      "text/latex": [
       "\\begin{tabular}{r|l}\n",
       " result\\\\\n",
       "\\hline\n",
       "\t a--b\\\\\n",
       "\t a   \\\\\n",
       "\t b   \\\\\n",
       "\t     \\\\\n",
       "\\end{tabular}\n"
      ],
      "text/markdown": [
       "\n",
       "| result |\n",
       "|---|\n",
       "| a--b |\n",
       "| a    |\n",
       "| b    |\n",
       "|      |\n",
       "\n"
      ],
      "text/plain": [
       "  result\n",
       "1 a--b  \n",
       "2 a     \n",
       "3 b     \n",
       "4       "
      ]
     },
     "metadata": {},
     "output_type": "display_data"
    }
   ],
   "source": [
    "df %>% unite(col = 'result',\n",
    "            x:y,\n",
    "            sep = '--',\n",
    "            na.rm = T       #remove rows having columns of interest contains NA before joining\n",
    "            )"
   ]
  },
  {
   "cell_type": "code",
   "execution_count": 13,
   "metadata": {},
   "outputs": [
    {
     "data": {
      "text/html": [
       "<table>\n",
       "<thead><tr><th scope=col>x</th><th scope=col>y</th></tr></thead>\n",
       "<tbody>\n",
       "\t<tr><td>a </td><td>b </td></tr>\n",
       "\t<tr><td>a </td><td>NA</td></tr>\n",
       "\t<tr><td>NA</td><td>b </td></tr>\n",
       "\t<tr><td>NA</td><td>NA</td></tr>\n",
       "</tbody>\n",
       "</table>\n"
      ],
      "text/latex": [
       "\\begin{tabular}{r|ll}\n",
       " x & y\\\\\n",
       "\\hline\n",
       "\t a  & b \\\\\n",
       "\t a  & NA\\\\\n",
       "\t NA & b \\\\\n",
       "\t NA & NA\\\\\n",
       "\\end{tabular}\n"
      ],
      "text/markdown": [
       "\n",
       "| x | y |\n",
       "|---|---|\n",
       "| a  | b  |\n",
       "| a  | NA |\n",
       "| NA | b  |\n",
       "| NA | NA |\n",
       "\n"
      ],
      "text/plain": [
       "  x  y \n",
       "1 a  b \n",
       "2 a  NA\n",
       "3 NA b \n",
       "4 NA NA"
      ]
     },
     "metadata": {},
     "output_type": "display_data"
    }
   ],
   "source": [
    "## Separate is almost the complement of unite\n",
    "\n",
    "df %>% \n",
    "unite(\n",
    "    'result',\n",
    "    x:y,\n",
    "    sep = '---'\n",
    ") %>%\n",
    "\n",
    "separate(col = result, into = c('x', 'y'), sep = '---')\n"
   ]
  },
  {
   "cell_type": "code",
   "execution_count": null,
   "metadata": {},
   "outputs": [],
   "source": []
  }
 ],
 "metadata": {
  "kernelspec": {
   "display_name": "R",
   "language": "R",
   "name": "ir"
  },
  "language_info": {
   "codemirror_mode": "r",
   "file_extension": ".r",
   "mimetype": "text/x-r-source",
   "name": "R",
   "pygments_lexer": "r",
   "version": "3.6.1"
  }
 },
 "nbformat": 4,
 "nbformat_minor": 2
}
