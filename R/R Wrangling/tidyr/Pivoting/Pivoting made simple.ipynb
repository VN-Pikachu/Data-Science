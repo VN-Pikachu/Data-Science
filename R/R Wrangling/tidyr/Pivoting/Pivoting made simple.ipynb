{
 "cells": [
  {
   "cell_type": "code",
   "execution_count": 5,
   "metadata": {},
   "outputs": [],
   "source": [
    "library(tidyverse)"
   ]
  },
  {
   "cell_type": "markdown",
   "metadata": {},
   "source": [
    "This notebook is based on self-understanding"
   ]
  },
  {
   "cell_type": "markdown",
   "metadata": {},
   "source": [
    "# Longer"
   ]
  },
  {
   "cell_type": "markdown",
   "metadata": {},
   "source": [
    "### string data in column name"
   ]
  },
  {
   "cell_type": "markdown",
   "metadata": {},
   "source": [
    "You are interested in the number of males and females in each country. So you visit several countries, ask for the number of males and females of these countries and obtain a dataset like this"
   ]
  },
  {
   "cell_type": "code",
   "execution_count": 2,
   "metadata": {},
   "outputs": [
    {
     "data": {
      "text/html": [
       "<table>\n",
       "<thead><tr><th scope=col>country</th><th scope=col>male</th><th scope=col>female</th></tr></thead>\n",
       "<tbody>\n",
       "\t<tr><td>United States</td><td>66           </td><td>34           </td></tr>\n",
       "\t<tr><td>China        </td><td>80           </td><td>20           </td></tr>\n",
       "</tbody>\n",
       "</table>\n"
      ],
      "text/latex": [
       "\\begin{tabular}{r|lll}\n",
       " country & male & female\\\\\n",
       "\\hline\n",
       "\t United States & 66            & 34           \\\\\n",
       "\t China         & 80            & 20           \\\\\n",
       "\\end{tabular}\n"
      ],
      "text/markdown": [
       "\n",
       "| country | male | female |\n",
       "|---|---|---|\n",
       "| United States | 66            | 34            |\n",
       "| China         | 80            | 20            |\n",
       "\n"
      ],
      "text/plain": [
       "  country       male female\n",
       "1 United States 66   34    \n",
       "2 China         80   20    "
      ]
     },
     "metadata": {},
     "output_type": "display_data"
    }
   ],
   "source": [
    "pop <- data.frame(\n",
    "    country = c('United States', 'China'),\n",
    "    male = c(66, 80),\n",
    "    female = c(34, 20)\n",
    ")\n",
    "\n",
    "pop"
   ]
  },
  {
   "cell_type": "code",
   "execution_count": 6,
   "metadata": {},
   "outputs": [
    {
     "data": {
      "text/html": [
       "<table>\n",
       "<thead><tr><th scope=col>country</th><th scope=col>sex</th><th scope=col>count</th></tr></thead>\n",
       "<tbody>\n",
       "\t<tr><td>United States</td><td>male         </td><td>66           </td></tr>\n",
       "\t<tr><td>United States</td><td>female       </td><td>34           </td></tr>\n",
       "\t<tr><td>China        </td><td>male         </td><td>80           </td></tr>\n",
       "\t<tr><td>China        </td><td>female       </td><td>20           </td></tr>\n",
       "</tbody>\n",
       "</table>\n"
      ],
      "text/latex": [
       "\\begin{tabular}{r|lll}\n",
       " country & sex & count\\\\\n",
       "\\hline\n",
       "\t United States & male          & 66           \\\\\n",
       "\t United States & female        & 34           \\\\\n",
       "\t China         & male          & 80           \\\\\n",
       "\t China         & female        & 20           \\\\\n",
       "\\end{tabular}\n"
      ],
      "text/markdown": [
       "\n",
       "| country | sex | count |\n",
       "|---|---|---|\n",
       "| United States | male          | 66            |\n",
       "| United States | female        | 34            |\n",
       "| China         | male          | 80            |\n",
       "| China         | female        | 20            |\n",
       "\n"
      ],
      "text/plain": [
       "  country       sex    count\n",
       "1 United States male   66   \n",
       "2 United States female 34   \n",
       "3 China         male   80   \n",
       "4 China         female 20   "
      ]
     },
     "metadata": {},
     "output_type": "display_data"
    }
   ],
   "source": [
    "pop %>% pivot_longer(\n",
    "    cols = !country,   #Which columns should be reshaped, in this case, every column except country\n",
    "    names_to = 'sex',\n",
    "    values_to = 'count'\n",
    ")"
   ]
  },
  {
   "cell_type": "markdown",
   "metadata": {},
   "source": [
    "### numeric data in column names "
   ]
  },
  {
   "cell_type": "markdown",
   "metadata": {},
   "source": [
    "Let's say you are playing Tank Force. For each player, ask for the number of tank level 7, level 8, level 9, level 10, level 11 that player has and obtained a dataset like this"
   ]
  },
  {
   "cell_type": "code",
   "execution_count": 8,
   "metadata": {},
   "outputs": [
    {
     "data": {
      "text/html": [
       "<table>\n",
       "<thead><tr><th scope=col>player</th><th scope=col>level7</th><th scope=col>level8</th><th scope=col>level9</th><th scope=col>level10</th><th scope=col>level11</th></tr></thead>\n",
       "<tbody>\n",
       "\t<tr><td>VN Pikachu</td><td>1         </td><td>1         </td><td>2         </td><td>5         </td><td>3         </td></tr>\n",
       "\t<tr><td>Meomeo888 </td><td>0         </td><td>0         </td><td>2         </td><td>4         </td><td>3         </td></tr>\n",
       "</tbody>\n",
       "</table>\n"
      ],
      "text/latex": [
       "\\begin{tabular}{r|llllll}\n",
       " player & level7 & level8 & level9 & level10 & level11\\\\\n",
       "\\hline\n",
       "\t VN Pikachu & 1          & 1          & 2          & 5          & 3         \\\\\n",
       "\t Meomeo888  & 0          & 0          & 2          & 4          & 3         \\\\\n",
       "\\end{tabular}\n"
      ],
      "text/markdown": [
       "\n",
       "| player | level7 | level8 | level9 | level10 | level11 |\n",
       "|---|---|---|---|---|---|\n",
       "| VN Pikachu | 1          | 1          | 2          | 5          | 3          |\n",
       "| Meomeo888  | 0          | 0          | 2          | 4          | 3          |\n",
       "\n"
      ],
      "text/plain": [
       "  player     level7 level8 level9 level10 level11\n",
       "1 VN Pikachu 1      1      2      5       3      \n",
       "2 Meomeo888  0      0      2      4       3      "
      ]
     },
     "metadata": {},
     "output_type": "display_data"
    }
   ],
   "source": [
    "TF <- data.frame(\n",
    "    player = c('VN Pikachu', 'Meomeo888'),\n",
    "    level7 = c(1, 0),\n",
    "    level8 = c(1, 0),\n",
    "    level9 = c(2, 2),\n",
    "    level10 = c(5, 4),\n",
    "    level11 = c(3, 3)\n",
    ")\n",
    "\n",
    "TF"
   ]
  },
  {
   "cell_type": "code",
   "execution_count": 10,
   "metadata": {},
   "outputs": [
    {
     "data": {
      "text/html": [
       "<table>\n",
       "<thead><tr><th scope=col>player</th><th scope=col>tank level</th><th scope=col>number of tanks</th></tr></thead>\n",
       "<tbody>\n",
       "\t<tr><td>VN Pikachu</td><td> 7        </td><td>1         </td></tr>\n",
       "\t<tr><td>VN Pikachu</td><td> 8        </td><td>1         </td></tr>\n",
       "\t<tr><td>VN Pikachu</td><td> 9        </td><td>2         </td></tr>\n",
       "\t<tr><td>VN Pikachu</td><td>10        </td><td>5         </td></tr>\n",
       "\t<tr><td>VN Pikachu</td><td>11        </td><td>3         </td></tr>\n",
       "\t<tr><td>Meomeo888 </td><td> 7        </td><td>0         </td></tr>\n",
       "\t<tr><td>Meomeo888 </td><td> 8        </td><td>0         </td></tr>\n",
       "\t<tr><td>Meomeo888 </td><td> 9        </td><td>2         </td></tr>\n",
       "\t<tr><td>Meomeo888 </td><td>10        </td><td>4         </td></tr>\n",
       "\t<tr><td>Meomeo888 </td><td>11        </td><td>3         </td></tr>\n",
       "</tbody>\n",
       "</table>\n"
      ],
      "text/latex": [
       "\\begin{tabular}{r|lll}\n",
       " player & tank level & number of tanks\\\\\n",
       "\\hline\n",
       "\t VN Pikachu &  7         & 1         \\\\\n",
       "\t VN Pikachu &  8         & 1         \\\\\n",
       "\t VN Pikachu &  9         & 2         \\\\\n",
       "\t VN Pikachu & 10         & 5         \\\\\n",
       "\t VN Pikachu & 11         & 3         \\\\\n",
       "\t Meomeo888  &  7         & 0         \\\\\n",
       "\t Meomeo888  &  8         & 0         \\\\\n",
       "\t Meomeo888  &  9         & 2         \\\\\n",
       "\t Meomeo888  & 10         & 4         \\\\\n",
       "\t Meomeo888  & 11         & 3         \\\\\n",
       "\\end{tabular}\n"
      ],
      "text/markdown": [
       "\n",
       "| player | tank level | number of tanks |\n",
       "|---|---|---|\n",
       "| VN Pikachu |  7         | 1          |\n",
       "| VN Pikachu |  8         | 1          |\n",
       "| VN Pikachu |  9         | 2          |\n",
       "| VN Pikachu | 10         | 5          |\n",
       "| VN Pikachu | 11         | 3          |\n",
       "| Meomeo888  |  7         | 0          |\n",
       "| Meomeo888  |  8         | 0          |\n",
       "| Meomeo888  |  9         | 2          |\n",
       "| Meomeo888  | 10         | 4          |\n",
       "| Meomeo888  | 11         | 3          |\n",
       "\n"
      ],
      "text/plain": [
       "   player     tank level number of tanks\n",
       "1  VN Pikachu  7         1              \n",
       "2  VN Pikachu  8         1              \n",
       "3  VN Pikachu  9         2              \n",
       "4  VN Pikachu 10         5              \n",
       "5  VN Pikachu 11         3              \n",
       "6  Meomeo888   7         0              \n",
       "7  Meomeo888   8         0              \n",
       "8  Meomeo888   9         2              \n",
       "9  Meomeo888  10         4              \n",
       "10 Meomeo888  11         3              "
      ]
     },
     "metadata": {},
     "output_type": "display_data"
    }
   ],
   "source": [
    "TF %>% pivot_longer(\n",
    "    cols = !player,\n",
    "    names_to = 'tank level',\n",
    "    values_to = 'number of tanks',\n",
    "    names_prefix = 'level',\n",
    "    names_transform = list(`tank level` = as.integer)\n",
    ")"
   ]
  },
  {
   "cell_type": "markdown",
   "metadata": {},
   "source": [
    "### many variables in column name"
   ]
  },
  {
   "cell_type": "markdown",
   "metadata": {},
   "source": [
    "You are playing Tank Force. You are interested in 2 groups:\n",
    "* `premium_H8_9`: Then number of premium heavy tanks levels 8-9\n",
    "* `premium_L4_7`: The number of premium light tanks levels 4-7\n",
    "* `normal_H8_11`: The number of normal medium tanks levels 8-11\n",
    "\n",
    "For each clan, you will ask for the number of players having tanks in each group and obtained a dataset like this"
   ]
  },
  {
   "cell_type": "code",
   "execution_count": 18,
   "metadata": {},
   "outputs": [
    {
     "data": {
      "text/html": [
       "<table>\n",
       "<thead><tr><th scope=col>clan</th><th scope=col>premium_H8_9</th><th scope=col>premium_L4_7</th><th scope=col>normal_H8_11</th></tr></thead>\n",
       "<tbody>\n",
       "\t<tr><td>VNC     </td><td>10      </td><td>2       </td><td>8       </td></tr>\n",
       "\t<tr><td>Daemones</td><td> 3      </td><td>6       </td><td>2       </td></tr>\n",
       "</tbody>\n",
       "</table>\n"
      ],
      "text/latex": [
       "\\begin{tabular}{r|llll}\n",
       " clan & premium\\_H8\\_9 & premium\\_L4\\_7 & normal\\_H8\\_11\\\\\n",
       "\\hline\n",
       "\t VNC      & 10       & 2        & 8       \\\\\n",
       "\t Daemones &  3       & 6        & 2       \\\\\n",
       "\\end{tabular}\n"
      ],
      "text/markdown": [
       "\n",
       "| clan | premium_H8_9 | premium_L4_7 | normal_H8_11 |\n",
       "|---|---|---|---|\n",
       "| VNC      | 10       | 2        | 8        |\n",
       "| Daemones |  3       | 6        | 2        |\n",
       "\n"
      ],
      "text/plain": [
       "  clan     premium_H8_9 premium_L4_7 normal_H8_11\n",
       "1 VNC      10           2            8           \n",
       "2 Daemones  3           6            2           "
      ]
     },
     "metadata": {},
     "output_type": "display_data"
    }
   ],
   "source": [
    "TF <- data.frame(\n",
    "    clan = c('VNC', 'Daemones'),\n",
    "    `premium_H8_9` = c(10, 3),\n",
    "    `premium_L4_7` = c(2, 6),\n",
    "    `normal_H8_11` = c(8, 2)\n",
    ")\n",
    "\n",
    "TF"
   ]
  },
  {
   "cell_type": "code",
   "execution_count": 19,
   "metadata": {},
   "outputs": [
    {
     "data": {
      "text/html": [
       "<table>\n",
       "<thead><tr><th scope=col>clan</th><th scope=col>vip</th><th scope=col>tank type</th><th scope=col>tier</th><th scope=col>count</th></tr></thead>\n",
       "<tbody>\n",
       "\t<tr><td>VNC     </td><td>premium </td><td>H       </td><td>8_9     </td><td>10      </td></tr>\n",
       "\t<tr><td>VNC     </td><td>premium </td><td>L       </td><td>4_7     </td><td> 2      </td></tr>\n",
       "\t<tr><td>VNC     </td><td>normal  </td><td>H       </td><td>8_11    </td><td> 8      </td></tr>\n",
       "\t<tr><td>Daemones</td><td>premium </td><td>H       </td><td>8_9     </td><td> 3      </td></tr>\n",
       "\t<tr><td>Daemones</td><td>premium </td><td>L       </td><td>4_7     </td><td> 6      </td></tr>\n",
       "\t<tr><td>Daemones</td><td>normal  </td><td>H       </td><td>8_11    </td><td> 2      </td></tr>\n",
       "</tbody>\n",
       "</table>\n"
      ],
      "text/latex": [
       "\\begin{tabular}{r|lllll}\n",
       " clan & vip & tank type & tier & count\\\\\n",
       "\\hline\n",
       "\t VNC      & premium  & H        & 8\\_9    & 10      \\\\\n",
       "\t VNC      & premium  & L        & 4\\_7    &  2      \\\\\n",
       "\t VNC      & normal   & H        & 8\\_11   &  8      \\\\\n",
       "\t Daemones & premium  & H        & 8\\_9    &  3      \\\\\n",
       "\t Daemones & premium  & L        & 4\\_7    &  6      \\\\\n",
       "\t Daemones & normal   & H        & 8\\_11   &  2      \\\\\n",
       "\\end{tabular}\n"
      ],
      "text/markdown": [
       "\n",
       "| clan | vip | tank type | tier | count |\n",
       "|---|---|---|---|---|\n",
       "| VNC      | premium  | H        | 8_9      | 10       |\n",
       "| VNC      | premium  | L        | 4_7      |  2       |\n",
       "| VNC      | normal   | H        | 8_11     |  8       |\n",
       "| Daemones | premium  | H        | 8_9      |  3       |\n",
       "| Daemones | premium  | L        | 4_7      |  6       |\n",
       "| Daemones | normal   | H        | 8_11     |  2       |\n",
       "\n"
      ],
      "text/plain": [
       "  clan     vip     tank type tier count\n",
       "1 VNC      premium H         8_9  10   \n",
       "2 VNC      premium L         4_7   2   \n",
       "3 VNC      normal  H         8_11  8   \n",
       "4 Daemones premium H         8_9   3   \n",
       "5 Daemones premium L         4_7   6   \n",
       "6 Daemones normal  H         8_11  2   "
      ]
     },
     "metadata": {},
     "output_type": "display_data"
    }
   ],
   "source": [
    "TF %>% pivot_longer(\n",
    "    cols = !clan,\n",
    "    names_pattern = '([a-z]+)_(.)(.*)',\n",
    "    names_to = c('vip', 'tank type', 'tier'),\n",
    "    values_to = 'count'\n",
    ")"
   ]
  },
  {
   "cell_type": "markdown",
   "metadata": {},
   "source": [
    "### Multiple observations per row"
   ]
  },
  {
   "cell_type": "markdown",
   "metadata": {},
   "source": [
    "For each clan, record the number of premium heavy tanks, normal heavy tanks, premium light tanks, normal light tanks"
   ]
  },
  {
   "cell_type": "code",
   "execution_count": 21,
   "metadata": {},
   "outputs": [
    {
     "data": {
      "text/html": [
       "<table>\n",
       "<thead><tr><th scope=col>clan</th><th scope=col>premium_heavy</th><th scope=col>premium_light</th><th scope=col>normal_heavy</th><th scope=col>normal_light</th></tr></thead>\n",
       "<tbody>\n",
       "\t<tr><td>VN Champions</td><td>5           </td><td>3           </td><td>8           </td><td>7           </td></tr>\n",
       "\t<tr><td>Daemones    </td><td>2           </td><td>2           </td><td>3           </td><td>6           </td></tr>\n",
       "</tbody>\n",
       "</table>\n"
      ],
      "text/latex": [
       "\\begin{tabular}{r|lllll}\n",
       " clan & premium\\_heavy & premium\\_light & normal\\_heavy & normal\\_light\\\\\n",
       "\\hline\n",
       "\t VN Champions & 5            & 3            & 8            & 7           \\\\\n",
       "\t Daemones     & 2            & 2            & 3            & 6           \\\\\n",
       "\\end{tabular}\n"
      ],
      "text/markdown": [
       "\n",
       "| clan | premium_heavy | premium_light | normal_heavy | normal_light |\n",
       "|---|---|---|---|---|\n",
       "| VN Champions | 5            | 3            | 8            | 7            |\n",
       "| Daemones     | 2            | 2            | 3            | 6            |\n",
       "\n"
      ],
      "text/plain": [
       "  clan         premium_heavy premium_light normal_heavy normal_light\n",
       "1 VN Champions 5             3             8            7           \n",
       "2 Daemones     2             2             3            6           "
      ]
     },
     "metadata": {},
     "output_type": "display_data"
    }
   ],
   "source": [
    "TF <- data.frame(\n",
    "    clan = c('VN Champions', 'Daemones'),\n",
    "    premium_heavy = c(5, 2),\n",
    "    premium_light = c(3, 2),\n",
    "    normal_heavy = c(8, 3),\n",
    "    normal_light = c(7, 6)\n",
    ")\n",
    "\n",
    "TF"
   ]
  },
  {
   "cell_type": "code",
   "execution_count": 24,
   "metadata": {},
   "outputs": [
    {
     "data": {
      "text/html": [
       "<table>\n",
       "<thead><tr><th scope=col>clan</th><th scope=col>tank vip</th><th scope=col>heavy</th><th scope=col>light</th></tr></thead>\n",
       "<tbody>\n",
       "\t<tr><td>VN Champions</td><td>premium     </td><td>5           </td><td>3           </td></tr>\n",
       "\t<tr><td>VN Champions</td><td>normal      </td><td>8           </td><td>7           </td></tr>\n",
       "\t<tr><td>Daemones    </td><td>premium     </td><td>2           </td><td>2           </td></tr>\n",
       "\t<tr><td>Daemones    </td><td>normal      </td><td>3           </td><td>6           </td></tr>\n",
       "</tbody>\n",
       "</table>\n"
      ],
      "text/latex": [
       "\\begin{tabular}{r|llll}\n",
       " clan & tank vip & heavy & light\\\\\n",
       "\\hline\n",
       "\t VN Champions & premium      & 5            & 3           \\\\\n",
       "\t VN Champions & normal       & 8            & 7           \\\\\n",
       "\t Daemones     & premium      & 2            & 2           \\\\\n",
       "\t Daemones     & normal       & 3            & 6           \\\\\n",
       "\\end{tabular}\n"
      ],
      "text/markdown": [
       "\n",
       "| clan | tank vip | heavy | light |\n",
       "|---|---|---|---|\n",
       "| VN Champions | premium      | 5            | 3            |\n",
       "| VN Champions | normal       | 8            | 7            |\n",
       "| Daemones     | premium      | 2            | 2            |\n",
       "| Daemones     | normal       | 3            | 6            |\n",
       "\n"
      ],
      "text/plain": [
       "  clan         tank vip heavy light\n",
       "1 VN Champions premium  5     3    \n",
       "2 VN Champions normal   8     7    \n",
       "3 Daemones     premium  2     2    \n",
       "4 Daemones     normal   3     6    "
      ]
     },
     "metadata": {},
     "output_type": "display_data"
    }
   ],
   "source": [
    "TF %>% pivot_longer(\n",
    "    cols = !clan,\n",
    "    names_sep = '_',\n",
    "    names_to = c('tank vip', '.value'),\n",
    "    values_to = 'count'\n",
    ")"
   ]
  },
  {
   "cell_type": "code",
   "execution_count": 25,
   "metadata": {},
   "outputs": [
    {
     "data": {
      "text/html": [
       "<table>\n",
       "<thead><tr><th scope=col>clan</th><th scope=col>tank type</th><th scope=col>premium</th><th scope=col>normal</th></tr></thead>\n",
       "<tbody>\n",
       "\t<tr><td>VN Champions</td><td>heavy       </td><td>5           </td><td>8           </td></tr>\n",
       "\t<tr><td>VN Champions</td><td>light       </td><td>3           </td><td>7           </td></tr>\n",
       "\t<tr><td>Daemones    </td><td>heavy       </td><td>2           </td><td>3           </td></tr>\n",
       "\t<tr><td>Daemones    </td><td>light       </td><td>2           </td><td>6           </td></tr>\n",
       "</tbody>\n",
       "</table>\n"
      ],
      "text/latex": [
       "\\begin{tabular}{r|llll}\n",
       " clan & tank type & premium & normal\\\\\n",
       "\\hline\n",
       "\t VN Champions & heavy        & 5            & 8           \\\\\n",
       "\t VN Champions & light        & 3            & 7           \\\\\n",
       "\t Daemones     & heavy        & 2            & 3           \\\\\n",
       "\t Daemones     & light        & 2            & 6           \\\\\n",
       "\\end{tabular}\n"
      ],
      "text/markdown": [
       "\n",
       "| clan | tank type | premium | normal |\n",
       "|---|---|---|---|\n",
       "| VN Champions | heavy        | 5            | 8            |\n",
       "| VN Champions | light        | 3            | 7            |\n",
       "| Daemones     | heavy        | 2            | 3            |\n",
       "| Daemones     | light        | 2            | 6            |\n",
       "\n"
      ],
      "text/plain": [
       "  clan         tank type premium normal\n",
       "1 VN Champions heavy     5       8     \n",
       "2 VN Champions light     3       7     \n",
       "3 Daemones     heavy     2       3     \n",
       "4 Daemones     light     2       6     "
      ]
     },
     "metadata": {},
     "output_type": "display_data"
    }
   ],
   "source": [
    "TF %>% pivot_longer(\n",
    "    cols = !clan, \n",
    "    names_sep = '_',\n",
    "    names_to = c('.value', 'tank type'),\n",
    "    values_to = 'count'\n",
    ")"
   ]
  },
  {
   "cell_type": "markdown",
   "metadata": {},
   "source": [
    "# Wider"
   ]
  },
  {
   "cell_type": "code",
   "execution_count": null,
   "metadata": {},
   "outputs": [],
   "source": []
  }
 ],
 "metadata": {
  "kernelspec": {
   "display_name": "R",
   "language": "R",
   "name": "ir"
  },
  "language_info": {
   "codemirror_mode": "r",
   "file_extension": ".r",
   "mimetype": "text/x-r-source",
   "name": "R",
   "pygments_lexer": "r",
   "version": "3.6.1"
  }
 },
 "nbformat": 4,
 "nbformat_minor": 2
}
