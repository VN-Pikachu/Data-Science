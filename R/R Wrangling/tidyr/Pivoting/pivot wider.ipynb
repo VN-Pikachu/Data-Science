{
 "cells": [
  {
   "cell_type": "code",
   "execution_count": 2,
   "metadata": {},
   "outputs": [],
   "source": [
    "library(tidyverse)"
   ]
  },
  {
   "cell_type": "markdown",
   "metadata": {},
   "source": [
    "# Pivot data from long to wide"
   ]
  },
  {
   "cell_type": "markdown",
   "metadata": {},
   "source": [
    "**`pivot_wider()`** \"widens\" data, increasing the number of columns and decreasing the number of rows. The inverse transformation is pivot_longer()."
   ]
  },
  {
   "cell_type": "markdown",
   "metadata": {},
   "source": [
    "```r\n",
    "pivot_wider(\n",
    "  data,\n",
    "  id_cols = NULL,\n",
    "  names_from = name,\n",
    "  names_prefix = \"\",\n",
    "  names_sep = \"_\",\n",
    "  names_glue = NULL,\n",
    "  names_sort = FALSE,\n",
    "  names_repair = \"check_unique\",\n",
    "  values_from = value,\n",
    "  values_fill = NULL,\n",
    "  values_fn = NULL,\n",
    "  ...\n",
    ")\n",
    "```"
   ]
  },
  {
   "cell_type": "markdown",
   "metadata": {},
   "source": [
    "# Examples"
   ]
  },
  {
   "cell_type": "markdown",
   "metadata": {},
   "source": [
    "<b><a href = './pivoting.ipynb'>See this notebook for detail explanation and more examples</a></b>"
   ]
  },
  {
   "cell_type": "markdown",
   "metadata": {},
   "source": [
    "**`values_fill`**\t\n",
    "Optionally, a (scalar) value that specifies what each value should be filled in with when missing.\n",
    "\n",
    "This can be a named list if you want to apply different aggregations to different value columns."
   ]
  },
  {
   "cell_type": "code",
   "execution_count": 3,
   "metadata": {},
   "outputs": [
    {
     "data": {
      "text/html": [
       "<table>\n",
       "<thead><tr><th scope=col>name</th><th scope=col>subject</th><th scope=col>grade</th></tr></thead>\n",
       "<tbody>\n",
       "\t<tr><td>a      </td><td>Math   </td><td>8      </td></tr>\n",
       "\t<tr><td>b      </td><td>english</td><td>3      </td></tr>\n",
       "</tbody>\n",
       "</table>\n"
      ],
      "text/latex": [
       "\\begin{tabular}{r|lll}\n",
       " name & subject & grade\\\\\n",
       "\\hline\n",
       "\t a       & Math    & 8      \\\\\n",
       "\t b       & english & 3      \\\\\n",
       "\\end{tabular}\n"
      ],
      "text/markdown": [
       "\n",
       "| name | subject | grade |\n",
       "|---|---|---|\n",
       "| a       | Math    | 8       |\n",
       "| b       | english | 3       |\n",
       "\n"
      ],
      "text/plain": [
       "  name subject grade\n",
       "1 a    Math    8    \n",
       "2 b    english 3    "
      ]
     },
     "metadata": {},
     "output_type": "display_data"
    }
   ],
   "source": [
    "score <- tribble(\n",
    "    ~name, ~subject, ~ grade,\n",
    "    \"a\"  , 'Math', 8,\n",
    "    \"b\"  , \"english\", 3\n",
    ")\n",
    "\n",
    "score"
   ]
  },
  {
   "cell_type": "code",
   "execution_count": 4,
   "metadata": {},
   "outputs": [
    {
     "data": {
      "text/html": [
       "<table>\n",
       "<thead><tr><th scope=col>name</th><th scope=col>Math</th><th scope=col>english</th></tr></thead>\n",
       "<tbody>\n",
       "\t<tr><td>a </td><td> 8</td><td>NA</td></tr>\n",
       "\t<tr><td>b </td><td>NA</td><td> 3</td></tr>\n",
       "</tbody>\n",
       "</table>\n"
      ],
      "text/latex": [
       "\\begin{tabular}{r|lll}\n",
       " name & Math & english\\\\\n",
       "\\hline\n",
       "\t a  &  8 & NA\\\\\n",
       "\t b  & NA &  3\\\\\n",
       "\\end{tabular}\n"
      ],
      "text/markdown": [
       "\n",
       "| name | Math | english |\n",
       "|---|---|---|\n",
       "| a  |  8 | NA |\n",
       "| b  | NA |  3 |\n",
       "\n"
      ],
      "text/plain": [
       "  name Math english\n",
       "1 a     8   NA     \n",
       "2 b    NA    3     "
      ]
     },
     "metadata": {},
     "output_type": "display_data"
    }
   ],
   "source": [
    "score %>% pivot_wider(names_from = subject, values_from = grade)"
   ]
  },
  {
   "cell_type": "code",
   "execution_count": 5,
   "metadata": {},
   "outputs": [
    {
     "data": {
      "text/html": [
       "<table>\n",
       "<thead><tr><th scope=col>name</th><th scope=col>Math</th><th scope=col>english</th></tr></thead>\n",
       "<tbody>\n",
       "\t<tr><td>a </td><td> 8</td><td>-1</td></tr>\n",
       "\t<tr><td>b </td><td>-1</td><td> 3</td></tr>\n",
       "</tbody>\n",
       "</table>\n"
      ],
      "text/latex": [
       "\\begin{tabular}{r|lll}\n",
       " name & Math & english\\\\\n",
       "\\hline\n",
       "\t a  &  8 & -1\\\\\n",
       "\t b  & -1 &  3\\\\\n",
       "\\end{tabular}\n"
      ],
      "text/markdown": [
       "\n",
       "| name | Math | english |\n",
       "|---|---|---|\n",
       "| a  |  8 | -1 |\n",
       "| b  | -1 |  3 |\n",
       "\n"
      ],
      "text/plain": [
       "  name Math english\n",
       "1 a     8   -1     \n",
       "2 b    -1    3     "
      ]
     },
     "metadata": {},
     "output_type": "display_data"
    }
   ],
   "source": [
    "# fill NA in both column with -1\n",
    "\n",
    "score %>% pivot_wider(names_from = subject, values_from = grade, values_fill = -1)"
   ]
  }
 ],
 "metadata": {
  "kernelspec": {
   "display_name": "R",
   "language": "R",
   "name": "ir"
  },
  "language_info": {
   "codemirror_mode": "r",
   "file_extension": ".r",
   "mimetype": "text/x-r-source",
   "name": "R",
   "pygments_lexer": "r",
   "version": "3.6.1"
  }
 },
 "nbformat": 4,
 "nbformat_minor": 2
}
