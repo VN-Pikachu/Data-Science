{
 "cells": [
  {
   "cell_type": "code",
   "execution_count": 8,
   "metadata": {},
   "outputs": [],
   "source": [
    "library(tidyverse)\n",
    "library(repurrrsive)"
   ]
  },
  {
   "cell_type": "markdown",
   "metadata": {},
   "source": [
    "\n",
    "# unnest_longer and unnest_wider"
   ]
  },
  {
   "cell_type": "markdown",
   "metadata": {},
   "source": [
    "`clans` is a list, contains 2 lists (`VNC` and `Daemones`)  \n",
    "    Each list (`VNC` and `Daemones`) contains several named list (each named list is the information about a member of that clan)"
   ]
  },
  {
   "cell_type": "code",
   "execution_count": 27,
   "metadata": {},
   "outputs": [],
   "source": [
    "VNC <- list(\n",
    "    list(name = 'VN Pikachu', level = 31, sex = 'Male'),\n",
    "    list(name = 'Morino Nanako', level = 34, sex = 'Female'),\n",
    "    list(name = 'Gravita', level = 33, sex = 'Male')\n",
    ")\n",
    "\n",
    "Daemones <- list(\n",
    "    list(name = 'KING COBRA', level = 33, sex = 'Male'),\n",
    "    list(name = 'Monkey', level = 34, sex = 'Female')\n",
    ")\n",
    "\n",
    "clans <- list(VNC, Daemones)"
   ]
  },
  {
   "cell_type": "markdown",
   "metadata": {},
   "source": [
    "`TF` is a tibble. Each row is a list of named list"
   ]
  },
  {
   "cell_type": "code",
   "execution_count": 28,
   "metadata": {},
   "outputs": [
    {
     "data": {
      "text/html": [
       "<table>\n",
       "<thead><tr><th scope=col>clan</th></tr></thead>\n",
       "<tbody>\n",
       "\t<tr><td>VN Pikachu   , 31           , Male         , Morino Nanako, 34           , Female       , Gravita      , 33           , Male         </td></tr>\n",
       "\t<tr><td>KING COBRA, 33        , Male      , Monkey    , 34        , Female    </td></tr>\n",
       "</tbody>\n",
       "</table>\n"
      ],
      "text/latex": [
       "\\begin{tabular}{r|l}\n",
       " clan\\\\\n",
       "\\hline\n",
       "\t VN Pikachu   , 31           , Male         , Morino Nanako, 34           , Female       , Gravita      , 33           , Male         \\\\\n",
       "\t KING COBRA, 33        , Male      , Monkey    , 34        , Female    \\\\\n",
       "\\end{tabular}\n"
      ],
      "text/markdown": [
       "\n",
       "| clan |\n",
       "|---|\n",
       "| VN Pikachu   , 31           , Male         , Morino Nanako, 34           , Female       , Gravita      , 33           , Male          |\n",
       "| KING COBRA, 33        , Male      , Monkey    , 34        , Female     |\n",
       "\n"
      ],
      "text/plain": [
       "  clan                                                                                                                                 \n",
       "1 VN Pikachu   , 31           , Male         , Morino Nanako, 34           , Female       , Gravita      , 33           , Male         \n",
       "2 KING COBRA, 33        , Male      , Monkey    , 34        , Female                                                                   "
      ]
     },
     "metadata": {},
     "output_type": "display_data"
    }
   ],
   "source": [
    "TF <- tibble(clan = clans)\n",
    "\n",
    "TF"
   ]
  },
  {
   "cell_type": "code",
   "execution_count": 22,
   "metadata": {},
   "outputs": [
    {
     "name": "stdout",
     "output_type": "stream",
     "text": [
      "# A tibble: 2 x 1\n",
      "  clan      \n",
      "  <list>    \n",
      "1 <list [3]>\n",
      "2 <list [2]>\n"
     ]
    }
   ],
   "source": [
    "print(TF)"
   ]
  },
  {
   "cell_type": "markdown",
   "metadata": {},
   "source": [
    "Turn **1** row of **multiple** named list to **multiple** rows of ONLY **1** named list "
   ]
  },
  {
   "cell_type": "code",
   "execution_count": 31,
   "metadata": {},
   "outputs": [
    {
     "data": {
      "text/html": [
       "<table>\n",
       "<thead><tr><th scope=col>clan</th></tr></thead>\n",
       "<tbody>\n",
       "\t<tr><td>VN Pikachu, 31        , Male      </td></tr>\n",
       "\t<tr><td>Morino Nanako, 34           , Female       </td></tr>\n",
       "\t<tr><td>Gravita, 33     , Male   </td></tr>\n",
       "\t<tr><td>KING COBRA, 33        , Male      </td></tr>\n",
       "\t<tr><td>Monkey, 34    , Female</td></tr>\n",
       "</tbody>\n",
       "</table>\n"
      ],
      "text/latex": [
       "\\begin{tabular}{r|l}\n",
       " clan\\\\\n",
       "\\hline\n",
       "\t VN Pikachu, 31        , Male      \\\\\n",
       "\t Morino Nanako, 34           , Female       \\\\\n",
       "\t Gravita, 33     , Male   \\\\\n",
       "\t KING COBRA, 33        , Male      \\\\\n",
       "\t Monkey, 34    , Female\\\\\n",
       "\\end{tabular}\n"
      ],
      "text/markdown": [
       "\n",
       "| clan |\n",
       "|---|\n",
       "| VN Pikachu, 31        , Male       |\n",
       "| Morino Nanako, 34           , Female        |\n",
       "| Gravita, 33     , Male    |\n",
       "| KING COBRA, 33        , Male       |\n",
       "| Monkey, 34    , Female |\n",
       "\n"
      ],
      "text/plain": [
       "  clan                                       \n",
       "1 VN Pikachu, 31        , Male               \n",
       "2 Morino Nanako, 34           , Female       \n",
       "3 Gravita, 33     , Male                     \n",
       "4 KING COBRA, 33        , Male               \n",
       "5 Monkey, 34    , Female                     "
      ]
     },
     "metadata": {},
     "output_type": "display_data"
    }
   ],
   "source": [
    "#Now each row is a named list\n",
    "TF_longer <- TF %>% unnest_longer(clan)\n",
    "\n",
    "TF_longer"
   ]
  },
  {
   "cell_type": "markdown",
   "metadata": {},
   "source": [
    "Each row `TF_longer` is a named list. turn 1 column of a named list to multiple columns of just 1 value"
   ]
  },
  {
   "cell_type": "code",
   "execution_count": 32,
   "metadata": {},
   "outputs": [
    {
     "data": {
      "text/html": [
       "<table>\n",
       "<thead><tr><th scope=col>name</th><th scope=col>level</th><th scope=col>sex</th></tr></thead>\n",
       "<tbody>\n",
       "\t<tr><td>VN Pikachu   </td><td>31           </td><td>Male         </td></tr>\n",
       "\t<tr><td>Morino Nanako</td><td>34           </td><td>Female       </td></tr>\n",
       "\t<tr><td>Gravita      </td><td>33           </td><td>Male         </td></tr>\n",
       "\t<tr><td>KING COBRA   </td><td>33           </td><td>Male         </td></tr>\n",
       "\t<tr><td>Monkey       </td><td>34           </td><td>Female       </td></tr>\n",
       "</tbody>\n",
       "</table>\n"
      ],
      "text/latex": [
       "\\begin{tabular}{r|lll}\n",
       " name & level & sex\\\\\n",
       "\\hline\n",
       "\t VN Pikachu    & 31            & Male         \\\\\n",
       "\t Morino Nanako & 34            & Female       \\\\\n",
       "\t Gravita       & 33            & Male         \\\\\n",
       "\t KING COBRA    & 33            & Male         \\\\\n",
       "\t Monkey        & 34            & Female       \\\\\n",
       "\\end{tabular}\n"
      ],
      "text/markdown": [
       "\n",
       "| name | level | sex |\n",
       "|---|---|---|\n",
       "| VN Pikachu    | 31            | Male          |\n",
       "| Morino Nanako | 34            | Female        |\n",
       "| Gravita       | 33            | Male          |\n",
       "| KING COBRA    | 33            | Male          |\n",
       "| Monkey        | 34            | Female        |\n",
       "\n"
      ],
      "text/plain": [
       "  name          level sex   \n",
       "1 VN Pikachu    31    Male  \n",
       "2 Morino Nanako 34    Female\n",
       "3 Gravita       33    Male  \n",
       "4 KING COBRA    33    Male  \n",
       "5 Monkey        34    Female"
      ]
     },
     "metadata": {},
     "output_type": "display_data"
    }
   ],
   "source": [
    "TF_longer %>% unnest_wider(clan)"
   ]
  }
 ],
 "metadata": {
  "kernelspec": {
   "display_name": "R",
   "language": "R",
   "name": "ir"
  },
  "language_info": {
   "codemirror_mode": "r",
   "file_extension": ".r",
   "mimetype": "text/x-r-source",
   "name": "R",
   "pygments_lexer": "r",
   "version": "3.6.1"
  }
 },
 "nbformat": 4,
 "nbformat_minor": 2
}
