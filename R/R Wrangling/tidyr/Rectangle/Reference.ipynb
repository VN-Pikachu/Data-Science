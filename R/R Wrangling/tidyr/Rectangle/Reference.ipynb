{
 "cells": [
  {
   "cell_type": "code",
   "execution_count": 2,
   "metadata": {},
   "outputs": [],
   "source": [
    "library(tidyverse)"
   ]
  },
  {
   "cell_type": "markdown",
   "metadata": {},
   "source": [
    "# Rectangle a nested list into a tidy tibble"
   ]
  },
  {
   "cell_type": "markdown",
   "metadata": {},
   "source": [
    "**`hoist()`**, **`unnest_longer()`**, and **`unnest_wider()`** provide tools for rectangling, collapsing deeply nested lists into regular columns. **`hoist()`** allows you to selectively pull components of a list-column out in to their own top-level columns, using the same syntax as purrr::pluck(). **`unnest_wider()`** turns each element of a list-column into a column, and **`unnest_longer()`** turns each element of a list-column into a row. **`unnest_auto()`** picks between **`unnest_wider()`** or **`unnest_longer()`** based heuristics described below."
   ]
  },
  {
   "cell_type": "markdown",
   "metadata": {},
   "source": [
    "```r\n",
    "hoist(\n",
    "  .data,\n",
    "  .col,\n",
    "  ...,\n",
    "  .remove = TRUE,\n",
    "  .simplify = TRUE,\n",
    "  .ptype = list(),\n",
    "  .transform = list()\n",
    ")\n",
    "\n",
    "unnest_longer(\n",
    "  data,\n",
    "  col,\n",
    "  values_to = NULL,\n",
    "  indices_to = NULL,\n",
    "  indices_include = NULL,\n",
    "  names_repair = \"check_unique\",\n",
    "  simplify = TRUE,\n",
    "  ptype = list(),\n",
    "  transform = list()\n",
    ")\n",
    "\n",
    "unnest_wider(\n",
    "  data,\n",
    "  col,\n",
    "  names_sep = NULL,\n",
    "  simplify = TRUE,\n",
    "  names_repair = \"check_unique\",\n",
    "  ptype = list(),\n",
    "  transform = list()\n",
    ")\n",
    "\n",
    "unnest_auto(data, col)\n",
    "```"
   ]
  },
  {
   "cell_type": "markdown",
   "metadata": {},
   "source": [
    "# Unnest variants"
   ]
  },
  {
   "cell_type": "markdown",
   "metadata": {},
   "source": [
    "The three unnest() functions differ in how they change the shape of the output data frame:\n",
    "\n",
    "* **`unnest_wider()`** preserves the rows, but changes the columns.\n",
    "\n",
    "* **`unnest_longer()`** preserves the columns, but changes the rows\n",
    "\n",
    "* **`unnest()`** can change both rows and columns."
   ]
  },
  {
   "cell_type": "markdown",
   "metadata": {},
   "source": [
    "# unnest_auto() heuristics"
   ]
  },
  {
   "cell_type": "markdown",
   "metadata": {},
   "source": [
    "`unnest_auto()` inspects the inner names of the list-col:\n",
    "\n",
    "* If all elements are unnamed, it uses `unnest_longer()`\n",
    "\n",
    "* If all elements are named, and there's at least one name in common acros all components, it uses `unnest_wider()`\n",
    "\n",
    "* Otherwise, it falls back to `unnest_longer(indices_include = TRUE)`."
   ]
  },
  {
   "cell_type": "markdown",
   "metadata": {},
   "source": [
    "# Examples"
   ]
  },
  {
   "cell_type": "code",
   "execution_count": 3,
   "metadata": {},
   "outputs": [
    {
     "data": {
      "text/html": [
       "<table>\n",
       "<thead><tr><th scope=col>character</th><th scope=col>metadata</th></tr></thead>\n",
       "<tbody>\n",
       "\t<tr><td>Toothless                                                                                                                                                                                                                 </td><td>dragon                                    , black                                     , How to Train Your Dragon                  , How to Train Your Dragon 2                , How to Train Your Dragon: The Hidden World</td></tr>\n",
       "\t<tr><td>Dory                                                  </td><td>blue tang   , blue        , Finding Nemo, Finding Dory</td></tr>\n",
       "</tbody>\n",
       "</table>\n"
      ],
      "text/latex": [
       "\\begin{tabular}{r|ll}\n",
       " character & metadata\\\\\n",
       "\\hline\n",
       "\t Toothless                                                                                                                                                                                                                  & dragon                                    , black                                     , How to Train Your Dragon                  , How to Train Your Dragon 2                , How to Train Your Dragon: The Hidden World\\\\\n",
       "\t Dory                                                   & blue tang   , blue        , Finding Nemo, Finding Dory\\\\\n",
       "\\end{tabular}\n"
      ],
      "text/markdown": [
       "\n",
       "| character | metadata |\n",
       "|---|---|\n",
       "| Toothless                                                                                                                                                                                                                  | dragon                                    , black                                     , How to Train Your Dragon                  , How to Train Your Dragon 2                , How to Train Your Dragon: The Hidden World |\n",
       "| Dory                                                   | blue tang   , blue        , Finding Nemo, Finding Dory |\n",
       "\n"
      ],
      "text/plain": [
       "  character\n",
       "1 Toothless\n",
       "2 Dory     \n",
       "  metadata                                                                                                                                                                                                                  \n",
       "1 dragon                                    , black                                     , How to Train Your Dragon                  , How to Train Your Dragon 2                , How to Train Your Dragon: The Hidden World\n",
       "2 blue tang   , blue        , Finding Nemo, Finding Dory                                                                                                                                                                    "
      ]
     },
     "metadata": {},
     "output_type": "display_data"
    }
   ],
   "source": [
    "#data, ignore the process of create it\n",
    "\n",
    "df <- tibble(\n",
    "  character = c(\"Toothless\", \"Dory\"),\n",
    "  metadata = list(\n",
    "    list(\n",
    "      species = \"dragon\",\n",
    "      color = \"black\",\n",
    "      films = c(\n",
    "        \"How to Train Your Dragon\",\n",
    "        \"How to Train Your Dragon 2\",\n",
    "        \"How to Train Your Dragon: The Hidden World\"\n",
    "       )\n",
    "    ),\n",
    "    list(\n",
    "      species = \"blue tang\",\n",
    "      color = \"blue\",\n",
    "      films = c(\"Finding Nemo\", \"Finding Dory\")\n",
    "    )\n",
    "  )\n",
    ")\n",
    "df"
   ]
  },
  {
   "cell_type": "code",
   "execution_count": 4,
   "metadata": {},
   "outputs": [
    {
     "name": "stdout",
     "output_type": "stream",
     "text": [
      "# A tibble: 2 x 2\n",
      "  character metadata        \n",
      "  <chr>     <list>          \n",
      "1 Toothless <named list [3]>\n",
      "2 Dory      <named list [3]>\n"
     ]
    }
   ],
   "source": [
    "print(df)"
   ]
  },
  {
   "cell_type": "code",
   "execution_count": 5,
   "metadata": {},
   "outputs": [
    {
     "data": {
      "text/html": [
       "<table>\n",
       "<thead><tr><th scope=col>character</th><th scope=col>species</th><th scope=col>color</th><th scope=col>films</th></tr></thead>\n",
       "<tbody>\n",
       "\t<tr><td>Toothless                                                                                                                         </td><td>dragon                                                                                                                            </td><td>black                                                                                                                             </td><td>How to Train Your Dragon                  , How to Train Your Dragon 2                , How to Train Your Dragon: The Hidden World</td></tr>\n",
       "\t<tr><td>Dory                      </td><td>blue tang                 </td><td>blue                      </td><td>Finding Nemo, Finding Dory</td></tr>\n",
       "</tbody>\n",
       "</table>\n"
      ],
      "text/latex": [
       "\\begin{tabular}{r|llll}\n",
       " character & species & color & films\\\\\n",
       "\\hline\n",
       "\t Toothless                                                                                                                          & dragon                                                                                                                             & black                                                                                                                              & How to Train Your Dragon                  , How to Train Your Dragon 2                , How to Train Your Dragon: The Hidden World\\\\\n",
       "\t Dory                       & blue tang                  & blue                       & Finding Nemo, Finding Dory\\\\\n",
       "\\end{tabular}\n"
      ],
      "text/markdown": [
       "\n",
       "| character | species | color | films |\n",
       "|---|---|---|---|\n",
       "| Toothless                                                                                                                          | dragon                                                                                                                             | black                                                                                                                              | How to Train Your Dragon                  , How to Train Your Dragon 2                , How to Train Your Dragon: The Hidden World |\n",
       "| Dory                       | blue tang                  | blue                       | Finding Nemo, Finding Dory |\n",
       "\n"
      ],
      "text/plain": [
       "  character species   color\n",
       "1 Toothless dragon    black\n",
       "2 Dory      blue tang blue \n",
       "  films                                                                                                                             \n",
       "1 How to Train Your Dragon                  , How to Train Your Dragon 2                , How to Train Your Dragon: The Hidden World\n",
       "2 Finding Nemo, Finding Dory                                                                                                        "
      ]
     },
     "metadata": {},
     "output_type": "display_data"
    }
   ],
   "source": [
    "# Turn all components of metadata into columns\n",
    "df %>% unnest_wider(metadata)"
   ]
  },
  {
   "cell_type": "code",
   "execution_count": 9,
   "metadata": {},
   "outputs": [
    {
     "data": {
      "text/html": [
       "<table>\n",
       "<thead><tr><th scope=col>character</th><th scope=col>Type</th><th scope=col>first_film</th><th scope=col>third_film</th><th scope=col>metadata</th></tr></thead>\n",
       "<tbody>\n",
       "\t<tr><td>Toothless                                             </td><td>dragon                                                </td><td>How to Train Your Dragon                              </td><td>How to Train Your Dragon: The Hidden World            </td><td>black                     , How to Train Your Dragon 2</td></tr>\n",
       "\t<tr><td>Dory                                      </td><td>blue tang                                 </td><td>Finding Nemo                              </td><td>NA                                        </td><td>blue        , Finding Dory                </td></tr>\n",
       "</tbody>\n",
       "</table>\n"
      ],
      "text/latex": [
       "\\begin{tabular}{r|lllll}\n",
       " character & Type & first\\_film & third\\_film & metadata\\\\\n",
       "\\hline\n",
       "\t Toothless                                              & dragon                                                 & How to Train Your Dragon                               & How to Train Your Dragon: The Hidden World             & black                     , How to Train Your Dragon 2\\\\\n",
       "\t Dory                                       & blue tang                                  & Finding Nemo                               & NA                                         & blue        , Finding Dory                \\\\\n",
       "\\end{tabular}\n"
      ],
      "text/markdown": [
       "\n",
       "| character | Type | first_film | third_film | metadata |\n",
       "|---|---|---|---|---|\n",
       "| Toothless                                              | dragon                                                 | How to Train Your Dragon                               | How to Train Your Dragon: The Hidden World             | black                     , How to Train Your Dragon 2 |\n",
       "| Dory                                       | blue tang                                  | Finding Nemo                               | NA                                         | blue        , Finding Dory                 |\n",
       "\n"
      ],
      "text/plain": [
       "  character Type      first_film              \n",
       "1 Toothless dragon    How to Train Your Dragon\n",
       "2 Dory      blue tang Finding Nemo            \n",
       "  third_film                                \n",
       "1 How to Train Your Dragon: The Hidden World\n",
       "2 NA                                        \n",
       "  metadata                                              \n",
       "1 black                     , How to Train Your Dragon 2\n",
       "2 blue        , Finding Dory                            "
      ]
     },
     "metadata": {},
     "output_type": "display_data"
    }
   ],
   "source": [
    "# Extract only specified components\n",
    "df %>% hoist(\n",
    "    .col = metadata,\n",
    "    Type = 'species', #column with name Type, value from 'species'\n",
    "    first_film = list(\"films\", 1L),\n",
    "    third_film = list(\"films\", 3L)\n",
    ")"
   ]
  },
  {
   "cell_type": "code",
   "execution_count": 10,
   "metadata": {},
   "outputs": [
    {
     "data": {
      "text/html": [
       "<table>\n",
       "<thead><tr><th scope=col>character</th><th scope=col>species</th><th scope=col>color</th><th scope=col>films</th></tr></thead>\n",
       "<tbody>\n",
       "\t<tr><td>Toothless                                 </td><td>dragon                                    </td><td>black                                     </td><td>How to Train Your Dragon                  </td></tr>\n",
       "\t<tr><td>Toothless                                 </td><td>dragon                                    </td><td>black                                     </td><td>How to Train Your Dragon 2                </td></tr>\n",
       "\t<tr><td>Toothless                                 </td><td>dragon                                    </td><td>black                                     </td><td>How to Train Your Dragon: The Hidden World</td></tr>\n",
       "\t<tr><td>Dory                                      </td><td>blue tang                                 </td><td>blue                                      </td><td>Finding Nemo                              </td></tr>\n",
       "\t<tr><td>Dory                                      </td><td>blue tang                                 </td><td>blue                                      </td><td>Finding Dory                              </td></tr>\n",
       "</tbody>\n",
       "</table>\n"
      ],
      "text/latex": [
       "\\begin{tabular}{r|llll}\n",
       " character & species & color & films\\\\\n",
       "\\hline\n",
       "\t Toothless                                  & dragon                                     & black                                      & How to Train Your Dragon                  \\\\\n",
       "\t Toothless                                  & dragon                                     & black                                      & How to Train Your Dragon 2                \\\\\n",
       "\t Toothless                                  & dragon                                     & black                                      & How to Train Your Dragon: The Hidden World\\\\\n",
       "\t Dory                                       & blue tang                                  & blue                                       & Finding Nemo                              \\\\\n",
       "\t Dory                                       & blue tang                                  & blue                                       & Finding Dory                              \\\\\n",
       "\\end{tabular}\n"
      ],
      "text/markdown": [
       "\n",
       "| character | species | color | films |\n",
       "|---|---|---|---|\n",
       "| Toothless                                  | dragon                                     | black                                      | How to Train Your Dragon                   |\n",
       "| Toothless                                  | dragon                                     | black                                      | How to Train Your Dragon 2                 |\n",
       "| Toothless                                  | dragon                                     | black                                      | How to Train Your Dragon: The Hidden World |\n",
       "| Dory                                       | blue tang                                  | blue                                       | Finding Nemo                               |\n",
       "| Dory                                       | blue tang                                  | blue                                       | Finding Dory                               |\n",
       "\n"
      ],
      "text/plain": [
       "  character species   color films                                     \n",
       "1 Toothless dragon    black How to Train Your Dragon                  \n",
       "2 Toothless dragon    black How to Train Your Dragon 2                \n",
       "3 Toothless dragon    black How to Train Your Dragon: The Hidden World\n",
       "4 Dory      blue tang blue  Finding Nemo                              \n",
       "5 Dory      blue tang blue  Finding Dory                              "
      ]
     },
     "metadata": {},
     "output_type": "display_data"
    }
   ],
   "source": [
    "df %>% unnest_wider(metadata) %>% unnest_longer(films)"
   ]
  },
  {
   "cell_type": "code",
   "execution_count": 11,
   "metadata": {},
   "outputs": [
    {
     "data": {
      "text/html": [
       "<table>\n",
       "<thead><tr><th scope=col>x</th><th scope=col>y</th></tr></thead>\n",
       "<tbody>\n",
       "\t<tr><td>1   </td><td>NULL</td></tr>\n",
       "\t<tr><td>2      </td><td>1, 2, 3</td></tr>\n",
       "\t<tr><td>3   </td><td>4, 5</td></tr>\n",
       "</tbody>\n",
       "</table>\n"
      ],
      "text/latex": [
       "\\begin{tabular}{r|ll}\n",
       " x & y\\\\\n",
       "\\hline\n",
       "\t 1    & NULL\\\\\n",
       "\t 2       & 1, 2, 3\\\\\n",
       "\t 3    & 4, 5\\\\\n",
       "\\end{tabular}\n"
      ],
      "text/markdown": [
       "\n",
       "| x | y |\n",
       "|---|---|\n",
       "| 1    | NULL |\n",
       "| 2       | 1, 2, 3 |\n",
       "| 3    | 4, 5 |\n",
       "\n"
      ],
      "text/plain": [
       "  x y      \n",
       "1 1 NULL   \n",
       "2 2 1, 2, 3\n",
       "3 3 4, 5   "
      ]
     },
     "metadata": {},
     "output_type": "display_data"
    }
   ],
   "source": [
    "# unnest_longer() is useful when each component of the list should form a row\n",
    "df <- tibble(\n",
    "  x = 1:3,\n",
    "  y = list(NULL, 1:3, 4:5)\n",
    ")\n",
    "\n",
    "df"
   ]
  },
  {
   "cell_type": "code",
   "execution_count": 12,
   "metadata": {},
   "outputs": [
    {
     "data": {
      "text/html": [
       "<table>\n",
       "<thead><tr><th scope=col>x</th><th scope=col>y</th></tr></thead>\n",
       "<tbody>\n",
       "\t<tr><td>1 </td><td>NA</td></tr>\n",
       "\t<tr><td>2 </td><td> 1</td></tr>\n",
       "\t<tr><td>2 </td><td> 2</td></tr>\n",
       "\t<tr><td>2 </td><td> 3</td></tr>\n",
       "\t<tr><td>3 </td><td> 4</td></tr>\n",
       "\t<tr><td>3 </td><td> 5</td></tr>\n",
       "</tbody>\n",
       "</table>\n"
      ],
      "text/latex": [
       "\\begin{tabular}{r|ll}\n",
       " x & y\\\\\n",
       "\\hline\n",
       "\t 1  & NA\\\\\n",
       "\t 2  &  1\\\\\n",
       "\t 2  &  2\\\\\n",
       "\t 2  &  3\\\\\n",
       "\t 3  &  4\\\\\n",
       "\t 3  &  5\\\\\n",
       "\\end{tabular}\n"
      ],
      "text/markdown": [
       "\n",
       "| x | y |\n",
       "|---|---|\n",
       "| 1  | NA |\n",
       "| 2  |  1 |\n",
       "| 2  |  2 |\n",
       "| 2  |  3 |\n",
       "| 3  |  4 |\n",
       "| 3  |  5 |\n",
       "\n"
      ],
      "text/plain": [
       "  x y \n",
       "1 1 NA\n",
       "2 2  1\n",
       "3 2  2\n",
       "4 2  3\n",
       "5 3  4\n",
       "6 3  5"
      ]
     },
     "metadata": {},
     "output_type": "display_data"
    }
   ],
   "source": [
    "df %>% unnest_longer(y)"
   ]
  },
  {
   "cell_type": "code",
   "execution_count": 13,
   "metadata": {
    "scrolled": true
   },
   "outputs": [
    {
     "name": "stderr",
     "output_type": "stream",
     "text": [
      "New names:\n",
      "* `` -> ...1\n",
      "* `` -> ...2\n",
      "* `` -> ...3\n",
      "New names:\n",
      "* `` -> ...1\n",
      "* `` -> ...2\n"
     ]
    },
    {
     "data": {
      "text/html": [
       "<table>\n",
       "<thead><tr><th scope=col>x</th><th scope=col>...1</th><th scope=col>...2</th><th scope=col>...3</th></tr></thead>\n",
       "<tbody>\n",
       "\t<tr><td>1 </td><td>NA</td><td>NA</td><td>NA</td></tr>\n",
       "\t<tr><td>2 </td><td> 1</td><td> 2</td><td> 3</td></tr>\n",
       "\t<tr><td>3 </td><td> 4</td><td> 5</td><td>NA</td></tr>\n",
       "</tbody>\n",
       "</table>\n"
      ],
      "text/latex": [
       "\\begin{tabular}{r|llll}\n",
       " x & ...1 & ...2 & ...3\\\\\n",
       "\\hline\n",
       "\t 1  & NA & NA & NA\\\\\n",
       "\t 2  &  1 &  2 &  3\\\\\n",
       "\t 3  &  4 &  5 & NA\\\\\n",
       "\\end{tabular}\n"
      ],
      "text/markdown": [
       "\n",
       "| x | ...1 | ...2 | ...3 |\n",
       "|---|---|---|---|\n",
       "| 1  | NA | NA | NA |\n",
       "| 2  |  1 |  2 |  3 |\n",
       "| 3  |  4 |  5 | NA |\n",
       "\n"
      ],
      "text/plain": [
       "  x ...1 ...2 ...3\n",
       "1 1 NA   NA   NA  \n",
       "2 2  1    2    3  \n",
       "3 3  4    5   NA  "
      ]
     },
     "metadata": {},
     "output_type": "display_data"
    }
   ],
   "source": [
    "# Automatically creates names if widening\n",
    "df %>% unnest_wider(y)"
   ]
  },
  {
   "cell_type": "code",
   "execution_count": 16,
   "metadata": {},
   "outputs": [
    {
     "data": {
      "text/html": [
       "<table>\n",
       "<thead><tr><th scope=col>x</th><th scope=col>y_1</th><th scope=col>y_2</th><th scope=col>y_3</th></tr></thead>\n",
       "<tbody>\n",
       "\t<tr><td>1 </td><td>NA</td><td>NA</td><td>NA</td></tr>\n",
       "\t<tr><td>2 </td><td> 1</td><td> 2</td><td> 3</td></tr>\n",
       "\t<tr><td>3 </td><td> 4</td><td> 5</td><td>NA</td></tr>\n",
       "</tbody>\n",
       "</table>\n"
      ],
      "text/latex": [
       "\\begin{tabular}{r|llll}\n",
       " x & y\\_1 & y\\_2 & y\\_3\\\\\n",
       "\\hline\n",
       "\t 1  & NA & NA & NA\\\\\n",
       "\t 2  &  1 &  2 &  3\\\\\n",
       "\t 3  &  4 &  5 & NA\\\\\n",
       "\\end{tabular}\n"
      ],
      "text/markdown": [
       "\n",
       "| x | y_1 | y_2 | y_3 |\n",
       "|---|---|---|---|\n",
       "| 1  | NA | NA | NA |\n",
       "| 2  |  1 |  2 |  3 |\n",
       "| 3  |  4 |  5 | NA |\n",
       "\n"
      ],
      "text/plain": [
       "  x y_1 y_2 y_3\n",
       "1 1 NA  NA  NA \n",
       "2 2  1   2   3 \n",
       "3 3  4   5  NA "
      ]
     },
     "metadata": {},
     "output_type": "display_data"
    }
   ],
   "source": [
    "# But you'll usually want to provide names_sep:\n",
    "df %>% unnest_wider(y, names_sep = '_')"
   ]
  },
  {
   "cell_type": "code",
   "execution_count": 18,
   "metadata": {},
   "outputs": [
    {
     "data": {
      "text/html": [
       "<table>\n",
       "<thead><tr><th scope=col>x</th><th scope=col>y</th></tr></thead>\n",
       "<tbody>\n",
       "\t<tr><td>1   </td><td>1, 2</td></tr>\n",
       "\t<tr><td>2         </td><td>10, 11, 12</td></tr>\n",
       "</tbody>\n",
       "</table>\n"
      ],
      "text/latex": [
       "\\begin{tabular}{r|ll}\n",
       " x & y\\\\\n",
       "\\hline\n",
       "\t 1    & 1, 2\\\\\n",
       "\t 2          & 10, 11, 12\\\\\n",
       "\\end{tabular}\n"
      ],
      "text/markdown": [
       "\n",
       "| x | y |\n",
       "|---|---|\n",
       "| 1    | 1, 2 |\n",
       "| 2          | 10, 11, 12 |\n",
       "\n"
      ],
      "text/plain": [
       "  x y         \n",
       "1 1 1, 2      \n",
       "2 2 10, 11, 12"
      ]
     },
     "metadata": {},
     "output_type": "display_data"
    }
   ],
   "source": [
    "# And similarly if the vectors are named\n",
    "df <- tibble(\n",
    "  x = 1:2,\n",
    "  y = list(c(a = 1, b = 2), c(a = 10, b = 11, c = 12))\n",
    ")\n",
    "\n",
    "df"
   ]
  },
  {
   "cell_type": "code",
   "execution_count": 20,
   "metadata": {},
   "outputs": [
    {
     "data": {
      "text/html": [
       "<table>\n",
       "<thead><tr><th scope=col>x</th><th scope=col>y</th><th scope=col>y_id</th></tr></thead>\n",
       "<tbody>\n",
       "\t<tr><td>1 </td><td> 1</td><td>a </td></tr>\n",
       "\t<tr><td>1 </td><td> 2</td><td>b </td></tr>\n",
       "\t<tr><td>2 </td><td>10</td><td>a </td></tr>\n",
       "\t<tr><td>2 </td><td>11</td><td>b </td></tr>\n",
       "\t<tr><td>2 </td><td>12</td><td>c </td></tr>\n",
       "</tbody>\n",
       "</table>\n"
      ],
      "text/latex": [
       "\\begin{tabular}{r|lll}\n",
       " x & y & y\\_id\\\\\n",
       "\\hline\n",
       "\t 1  &  1 & a \\\\\n",
       "\t 1  &  2 & b \\\\\n",
       "\t 2  & 10 & a \\\\\n",
       "\t 2  & 11 & b \\\\\n",
       "\t 2  & 12 & c \\\\\n",
       "\\end{tabular}\n"
      ],
      "text/markdown": [
       "\n",
       "| x | y | y_id |\n",
       "|---|---|---|\n",
       "| 1  |  1 | a  |\n",
       "| 1  |  2 | b  |\n",
       "| 2  | 10 | a  |\n",
       "| 2  | 11 | b  |\n",
       "| 2  | 12 | c  |\n",
       "\n"
      ],
      "text/plain": [
       "  x y  y_id\n",
       "1 1  1 a   \n",
       "2 1  2 b   \n",
       "3 2 10 a   \n",
       "4 2 11 b   \n",
       "5 2 12 c   "
      ]
     },
     "metadata": {},
     "output_type": "display_data"
    }
   ],
   "source": [
    "df %>% unnest_longer(y)"
   ]
  },
  {
   "cell_type": "code",
   "execution_count": 21,
   "metadata": {},
   "outputs": [
    {
     "data": {
      "text/html": [
       "<table>\n",
       "<thead><tr><th scope=col>x</th><th scope=col>a</th><th scope=col>b</th><th scope=col>c</th></tr></thead>\n",
       "<tbody>\n",
       "\t<tr><td>1 </td><td> 1</td><td> 2</td><td>NA</td></tr>\n",
       "\t<tr><td>2 </td><td>10</td><td>11</td><td>12</td></tr>\n",
       "</tbody>\n",
       "</table>\n"
      ],
      "text/latex": [
       "\\begin{tabular}{r|llll}\n",
       " x & a & b & c\\\\\n",
       "\\hline\n",
       "\t 1  &  1 &  2 & NA\\\\\n",
       "\t 2  & 10 & 11 & 12\\\\\n",
       "\\end{tabular}\n"
      ],
      "text/markdown": [
       "\n",
       "| x | a | b | c |\n",
       "|---|---|---|---|\n",
       "| 1  |  1 |  2 | NA |\n",
       "| 2  | 10 | 11 | 12 |\n",
       "\n"
      ],
      "text/plain": [
       "  x a  b  c \n",
       "1 1  1  2 NA\n",
       "2 2 10 11 12"
      ]
     },
     "metadata": {},
     "output_type": "display_data"
    }
   ],
   "source": [
    "df %>% unnest_wider(y)"
   ]
  },
  {
   "cell_type": "code",
   "execution_count": null,
   "metadata": {},
   "outputs": [],
   "source": []
  }
 ],
 "metadata": {
  "kernelspec": {
   "display_name": "R",
   "language": "R",
   "name": "ir"
  },
  "language_info": {
   "codemirror_mode": "r",
   "file_extension": ".r",
   "mimetype": "text/x-r-source",
   "name": "R",
   "pygments_lexer": "r",
   "version": "3.6.1"
  }
 },
 "nbformat": 4,
 "nbformat_minor": 2
}
