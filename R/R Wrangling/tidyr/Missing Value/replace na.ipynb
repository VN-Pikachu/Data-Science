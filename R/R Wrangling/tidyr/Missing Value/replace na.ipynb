{
 "cells": [
  {
   "cell_type": "code",
   "execution_count": 3,
   "metadata": {},
   "outputs": [],
   "source": [
    "library(tidyverse)"
   ]
  },
  {
   "cell_type": "markdown",
   "metadata": {},
   "source": [
    "# Replace NAs with specified values"
   ]
  },
  {
   "cell_type": "markdown",
   "metadata": {},
   "source": [
    "```r\n",
    "replace_na(data, replace, ...)\n",
    "```"
   ]
  },
  {
   "cell_type": "markdown",
   "metadata": {},
   "source": [
    "# Examples"
   ]
  },
  {
   "cell_type": "markdown",
   "metadata": {},
   "source": [
    "Replace NA in a vector"
   ]
  },
  {
   "cell_type": "code",
   "execution_count": 1,
   "metadata": {},
   "outputs": [
    {
     "data": {
      "text/html": [
       "<ol class=list-inline>\n",
       "\t<li>'VN Pikachu'</li>\n",
       "\t<li>NA</li>\n",
       "\t<li>'Tank Cao'</li>\n",
       "\t<li>'Meomeo'</li>\n",
       "</ol>\n"
      ],
      "text/latex": [
       "\\begin{enumerate*}\n",
       "\\item 'VN Pikachu'\n",
       "\\item NA\n",
       "\\item 'Tank Cao'\n",
       "\\item 'Meomeo'\n",
       "\\end{enumerate*}\n"
      ],
      "text/markdown": [
       "1. 'VN Pikachu'\n",
       "2. NA\n",
       "3. 'Tank Cao'\n",
       "4. 'Meomeo'\n",
       "\n",
       "\n"
      ],
      "text/plain": [
       "[1] \"VN Pikachu\" NA           \"Tank Cao\"   \"Meomeo\"    "
      ]
     },
     "metadata": {},
     "output_type": "display_data"
    }
   ],
   "source": [
    "v <- c('VN Pikachu', NA, 'Tank Cao', 'Meomeo')\n",
    "v"
   ]
  },
  {
   "cell_type": "code",
   "execution_count": 4,
   "metadata": {},
   "outputs": [
    {
     "data": {
      "text/html": [
       "<ol class=list-inline>\n",
       "\t<li>'VN Pikachu'</li>\n",
       "\t<li>'unknown'</li>\n",
       "\t<li>'Tank Cao'</li>\n",
       "\t<li>'Meomeo'</li>\n",
       "</ol>\n"
      ],
      "text/latex": [
       "\\begin{enumerate*}\n",
       "\\item 'VN Pikachu'\n",
       "\\item 'unknown'\n",
       "\\item 'Tank Cao'\n",
       "\\item 'Meomeo'\n",
       "\\end{enumerate*}\n"
      ],
      "text/markdown": [
       "1. 'VN Pikachu'\n",
       "2. 'unknown'\n",
       "3. 'Tank Cao'\n",
       "4. 'Meomeo'\n",
       "\n",
       "\n"
      ],
      "text/plain": [
       "[1] \"VN Pikachu\" \"unknown\"    \"Tank Cao\"   \"Meomeo\"    "
      ]
     },
     "metadata": {},
     "output_type": "display_data"
    }
   ],
   "source": [
    "v %>% replace_na('unknown')"
   ]
  },
  {
   "cell_type": "markdown",
   "metadata": {},
   "source": [
    "replace NA in a data frame, `replace` is a list"
   ]
  },
  {
   "cell_type": "code",
   "execution_count": 14,
   "metadata": {},
   "outputs": [
    {
     "data": {
      "text/html": [
       "<table>\n",
       "<thead><tr><th scope=col>name</th><th scope=col>clan</th><th scope=col>level</th></tr></thead>\n",
       "<tbody>\n",
       "\t<tr><td>GHOST     </td><td>NA        </td><td>NA        </td></tr>\n",
       "\t<tr><td>NA        </td><td>VN Pikachu</td><td>NA        </td></tr>\n",
       "</tbody>\n",
       "</table>\n"
      ],
      "text/latex": [
       "\\begin{tabular}{r|lll}\n",
       " name & clan & level\\\\\n",
       "\\hline\n",
       "\t GHOST      & NA         & NA        \\\\\n",
       "\t NA         & VN Pikachu & NA        \\\\\n",
       "\\end{tabular}\n"
      ],
      "text/markdown": [
       "\n",
       "| name | clan | level |\n",
       "|---|---|---|\n",
       "| GHOST      | NA         | NA         |\n",
       "| NA         | VN Pikachu | NA         |\n",
       "\n"
      ],
      "text/plain": [
       "  name  clan       level\n",
       "1 GHOST NA         NA   \n",
       "2 NA    VN Pikachu NA   "
      ]
     },
     "metadata": {},
     "output_type": "display_data"
    }
   ],
   "source": [
    "df <- data.frame(\n",
    "    name = c('GHOST', NA),\n",
    "    clan = c(NA, 'VN Pikachu'),\n",
    "    level = c(NA, NA),\n",
    "    stringsAsFactors = F\n",
    ")\n",
    "\n",
    "df"
   ]
  },
  {
   "cell_type": "code",
   "execution_count": 15,
   "metadata": {},
   "outputs": [
    {
     "data": {
      "text/html": [
       "<table>\n",
       "<thead><tr><th scope=col>name</th><th scope=col>clan</th><th scope=col>level</th></tr></thead>\n",
       "<tbody>\n",
       "\t<tr><td>GHOST     </td><td>missing   </td><td>-1        </td></tr>\n",
       "\t<tr><td>unknown   </td><td>VN Pikachu</td><td>-1        </td></tr>\n",
       "</tbody>\n",
       "</table>\n"
      ],
      "text/latex": [
       "\\begin{tabular}{r|lll}\n",
       " name & clan & level\\\\\n",
       "\\hline\n",
       "\t GHOST      & missing    & -1        \\\\\n",
       "\t unknown    & VN Pikachu & -1        \\\\\n",
       "\\end{tabular}\n"
      ],
      "text/markdown": [
       "\n",
       "| name | clan | level |\n",
       "|---|---|---|\n",
       "| GHOST      | missing    | -1         |\n",
       "| unknown    | VN Pikachu | -1         |\n",
       "\n"
      ],
      "text/plain": [
       "  name    clan       level\n",
       "1 GHOST   missing    -1   \n",
       "2 unknown VN Pikachu -1   "
      ]
     },
     "metadata": {},
     "output_type": "display_data"
    }
   ],
   "source": [
    "#replace every NA in data frame with 'Unknown'\n",
    "df %>% replace_na(list(name = 'unknown', clan = 'missing', level = -1))"
   ]
  },
  {
   "cell_type": "code",
   "execution_count": 17,
   "metadata": {},
   "outputs": [
    {
     "data": {
      "text/html": [
       "<table>\n",
       "<thead><tr><th scope=col>z</th></tr></thead>\n",
       "<tbody>\n",
       "\t<tr><td>1, 2, 3, 4, 5</td></tr>\n",
       "\t<tr><td>NULL</td></tr>\n",
       "\t<tr><td>10, 11, 12, 13, 14, 15, 16, 17, 18, 19, 20</td></tr>\n",
       "</tbody>\n",
       "</table>\n"
      ],
      "text/latex": [
       "\\begin{tabular}{r|l}\n",
       " z\\\\\n",
       "\\hline\n",
       "\t 1, 2, 3, 4, 5\\\\\n",
       "\t NULL\\\\\n",
       "\t 10, 11, 12, 13, 14, 15, 16, 17, 18, 19, 20\\\\\n",
       "\\end{tabular}\n"
      ],
      "text/markdown": [
       "\n",
       "| z |\n",
       "|---|\n",
       "| 1, 2, 3, 4, 5 |\n",
       "| NULL |\n",
       "| 10, 11, 12, 13, 14, 15, 16, 17, 18, 19, 20 |\n",
       "\n"
      ],
      "text/plain": [
       "  z                                         \n",
       "1 1, 2, 3, 4, 5                             \n",
       "2 NULL                                      \n",
       "3 10, 11, 12, 13, 14, 15, 16, 17, 18, 19, 20"
      ]
     },
     "metadata": {},
     "output_type": "display_data"
    }
   ],
   "source": [
    "# Replace NULLs in a list: NULLs are the list-col equivalent of NAs\n",
    "df_list <- tibble(z = list(1:5, NULL, 10:20))\n",
    "\n",
    "df_list"
   ]
  },
  {
   "cell_type": "code",
   "execution_count": 18,
   "metadata": {},
   "outputs": [
    {
     "data": {
      "text/html": [
       "<table>\n",
       "<thead><tr><th scope=col>z</th></tr></thead>\n",
       "<tbody>\n",
       "\t<tr><td>1, 2, 3, 4, 5</td></tr>\n",
       "\t<tr><td>5</td></tr>\n",
       "\t<tr><td>10, 11, 12, 13, 14, 15, 16, 17, 18, 19, 20</td></tr>\n",
       "</tbody>\n",
       "</table>\n"
      ],
      "text/latex": [
       "\\begin{tabular}{r|l}\n",
       " z\\\\\n",
       "\\hline\n",
       "\t 1, 2, 3, 4, 5\\\\\n",
       "\t 5\\\\\n",
       "\t 10, 11, 12, 13, 14, 15, 16, 17, 18, 19, 20\\\\\n",
       "\\end{tabular}\n"
      ],
      "text/markdown": [
       "\n",
       "| z |\n",
       "|---|\n",
       "| 1, 2, 3, 4, 5 |\n",
       "| 5 |\n",
       "| 10, 11, 12, 13, 14, 15, 16, 17, 18, 19, 20 |\n",
       "\n"
      ],
      "text/plain": [
       "  z                                         \n",
       "1 1, 2, 3, 4, 5                             \n",
       "2 5                                         \n",
       "3 10, 11, 12, 13, 14, 15, 16, 17, 18, 19, 20"
      ]
     },
     "metadata": {},
     "output_type": "display_data"
    }
   ],
   "source": [
    "df_list %>% replace_na(list(z = list(5)))"
   ]
  },
  {
   "cell_type": "code",
   "execution_count": null,
   "metadata": {},
   "outputs": [],
   "source": []
  }
 ],
 "metadata": {
  "kernelspec": {
   "display_name": "R",
   "language": "R",
   "name": "ir"
  },
  "language_info": {
   "codemirror_mode": "r",
   "file_extension": ".r",
   "mimetype": "text/x-r-source",
   "name": "R",
   "pygments_lexer": "r",
   "version": "3.6.1"
  }
 },
 "nbformat": 4,
 "nbformat_minor": 2
}
