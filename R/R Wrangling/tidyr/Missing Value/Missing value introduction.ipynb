{
 "cells": [
  {
   "cell_type": "code",
   "execution_count": 2,
   "metadata": {},
   "outputs": [],
   "source": [
    "library(tidyverse)"
   ]
  },
  {
   "cell_type": "markdown",
   "metadata": {},
   "source": [
    "# Implicit and explicit NA"
   ]
  },
  {
   "cell_type": "markdown",
   "metadata": {},
   "source": [
    "Changing the representation of a dataset brings up an important subtlety of missing values. Surprisingly, a value can be missing in one of two possible ways:"
   ]
  },
  {
   "cell_type": "markdown",
   "metadata": {},
   "source": [
    "- __Explicitly__, i.e. flagged with NA.\n",
    "- __Implicitly__, i.e. simply not present in the data."
   ]
  },
  {
   "cell_type": "code",
   "execution_count": 3,
   "metadata": {},
   "outputs": [
    {
     "data": {
      "text/html": [
       "<table>\n",
       "<thead><tr><th scope=col>year</th><th scope=col>qtr</th><th scope=col>return</th></tr></thead>\n",
       "<tbody>\n",
       "\t<tr><td>2015</td><td>1   </td><td>1.88</td></tr>\n",
       "\t<tr><td>2015</td><td>2   </td><td>0.59</td></tr>\n",
       "\t<tr><td>2015</td><td>3   </td><td>0.35</td></tr>\n",
       "\t<tr><td>2015</td><td>4   </td><td>  NA</td></tr>\n",
       "\t<tr><td>2016</td><td>2   </td><td>0.92</td></tr>\n",
       "\t<tr><td>2016</td><td>3   </td><td>0.17</td></tr>\n",
       "\t<tr><td>2016</td><td>4   </td><td>2.66</td></tr>\n",
       "</tbody>\n",
       "</table>\n"
      ],
      "text/latex": [
       "\\begin{tabular}{r|lll}\n",
       " year & qtr & return\\\\\n",
       "\\hline\n",
       "\t 2015 & 1    & 1.88\\\\\n",
       "\t 2015 & 2    & 0.59\\\\\n",
       "\t 2015 & 3    & 0.35\\\\\n",
       "\t 2015 & 4    &   NA\\\\\n",
       "\t 2016 & 2    & 0.92\\\\\n",
       "\t 2016 & 3    & 0.17\\\\\n",
       "\t 2016 & 4    & 2.66\\\\\n",
       "\\end{tabular}\n"
      ],
      "text/markdown": [
       "\n",
       "| year | qtr | return |\n",
       "|---|---|---|\n",
       "| 2015 | 1    | 1.88 |\n",
       "| 2015 | 2    | 0.59 |\n",
       "| 2015 | 3    | 0.35 |\n",
       "| 2015 | 4    |   NA |\n",
       "| 2016 | 2    | 0.92 |\n",
       "| 2016 | 3    | 0.17 |\n",
       "| 2016 | 4    | 2.66 |\n",
       "\n"
      ],
      "text/plain": [
       "  year qtr return\n",
       "1 2015 1   1.88  \n",
       "2 2015 2   0.59  \n",
       "3 2015 3   0.35  \n",
       "4 2015 4     NA  \n",
       "5 2016 2   0.92  \n",
       "6 2016 3   0.17  \n",
       "7 2016 4   2.66  "
      ]
     },
     "metadata": {},
     "output_type": "display_data"
    }
   ],
   "source": [
    "stocks <- tibble(\n",
    "  year   = c(2015, 2015, 2015, 2015, 2016, 2016, 2016),\n",
    "  qtr    = c(   1,    2,    3,    4,    2,    3,    4),\n",
    "  return = c(1.88, 0.59, 0.35,   NA, 0.92, 0.17, 2.66)\n",
    ")\n",
    "\n",
    "stocks"
   ]
  },
  {
   "cell_type": "markdown",
   "metadata": {},
   "source": [
    "There are two missing values in this dataset:\n",
    "\n",
    "- The return for the fourth quarter of 2015 is _explicitly_ missing, because the cell where its value should be instead contains NA.\n",
    "\n",
    "- The return for the first quarter of 2016 is _implicitly_ missing, because it simply does not appear in the dataset."
   ]
  },
  {
   "cell_type": "markdown",
   "metadata": {},
   "source": [
    "The way that a dataset is represented can make implicit values explicit. For example, we can make the implicit missing value explicit by putting years in the columns:"
   ]
  },
  {
   "cell_type": "code",
   "execution_count": 5,
   "metadata": {},
   "outputs": [
    {
     "data": {
      "text/html": [
       "<table>\n",
       "<thead><tr><th scope=col>qtr</th><th scope=col>2015</th><th scope=col>2016</th></tr></thead>\n",
       "<tbody>\n",
       "\t<tr><td>1   </td><td>1.88</td><td>  NA</td></tr>\n",
       "\t<tr><td>2   </td><td>0.59</td><td>0.92</td></tr>\n",
       "\t<tr><td>3   </td><td>0.35</td><td>0.17</td></tr>\n",
       "\t<tr><td>4   </td><td>  NA</td><td>2.66</td></tr>\n",
       "</tbody>\n",
       "</table>\n"
      ],
      "text/latex": [
       "\\begin{tabular}{r|lll}\n",
       " qtr & 2015 & 2016\\\\\n",
       "\\hline\n",
       "\t 1    & 1.88 &   NA\\\\\n",
       "\t 2    & 0.59 & 0.92\\\\\n",
       "\t 3    & 0.35 & 0.17\\\\\n",
       "\t 4    &   NA & 2.66\\\\\n",
       "\\end{tabular}\n"
      ],
      "text/markdown": [
       "\n",
       "| qtr | 2015 | 2016 |\n",
       "|---|---|---|\n",
       "| 1    | 1.88 |   NA |\n",
       "| 2    | 0.59 | 0.92 |\n",
       "| 3    | 0.35 | 0.17 |\n",
       "| 4    |   NA | 2.66 |\n",
       "\n"
      ],
      "text/plain": [
       "  qtr 2015 2016\n",
       "1 1   1.88   NA\n",
       "2 2   0.59 0.92\n",
       "3 3   0.35 0.17\n",
       "4 4     NA 2.66"
      ]
     },
     "metadata": {},
     "output_type": "display_data"
    }
   ],
   "source": [
    "stocks_explicitly <- stocks %>% pivot_wider(names_from = year, values_from = return)\n",
    "stocks_explicitly"
   ]
  },
  {
   "cell_type": "markdown",
   "metadata": {},
   "source": [
    "Because these explicit missing values may not be important in other representations of the data, we can turn explicit NA to implicit\n"
   ]
  },
  {
   "cell_type": "code",
   "execution_count": 6,
   "metadata": {},
   "outputs": [
    {
     "data": {
      "text/html": [
       "<table>\n",
       "<thead><tr><th scope=col>qtr</th><th scope=col>year</th><th scope=col>return</th></tr></thead>\n",
       "<tbody>\n",
       "\t<tr><td>1   </td><td>2015</td><td>1.88</td></tr>\n",
       "\t<tr><td>2   </td><td>2015</td><td>0.59</td></tr>\n",
       "\t<tr><td>2   </td><td>2016</td><td>0.92</td></tr>\n",
       "\t<tr><td>3   </td><td>2015</td><td>0.35</td></tr>\n",
       "\t<tr><td>3   </td><td>2016</td><td>0.17</td></tr>\n",
       "\t<tr><td>4   </td><td>2016</td><td>2.66</td></tr>\n",
       "</tbody>\n",
       "</table>\n"
      ],
      "text/latex": [
       "\\begin{tabular}{r|lll}\n",
       " qtr & year & return\\\\\n",
       "\\hline\n",
       "\t 1    & 2015 & 1.88\\\\\n",
       "\t 2    & 2015 & 0.59\\\\\n",
       "\t 2    & 2016 & 0.92\\\\\n",
       "\t 3    & 2015 & 0.35\\\\\n",
       "\t 3    & 2016 & 0.17\\\\\n",
       "\t 4    & 2016 & 2.66\\\\\n",
       "\\end{tabular}\n"
      ],
      "text/markdown": [
       "\n",
       "| qtr | year | return |\n",
       "|---|---|---|\n",
       "| 1    | 2015 | 1.88 |\n",
       "| 2    | 2015 | 0.59 |\n",
       "| 2    | 2016 | 0.92 |\n",
       "| 3    | 2015 | 0.35 |\n",
       "| 3    | 2016 | 0.17 |\n",
       "| 4    | 2016 | 2.66 |\n",
       "\n"
      ],
      "text/plain": [
       "  qtr year return\n",
       "1 1   2015 1.88  \n",
       "2 2   2015 0.59  \n",
       "3 2   2016 0.92  \n",
       "4 3   2015 0.35  \n",
       "5 3   2016 0.17  \n",
       "6 4   2016 2.66  "
      ]
     },
     "metadata": {},
     "output_type": "display_data"
    }
   ],
   "source": [
    "stocks_explicitly %>% pivot_longer(cols = !qtr, names_to = 'year', values_to = 'return', values_drop_na = T)"
   ]
  },
  {
   "cell_type": "markdown",
   "metadata": {},
   "source": [
    "Another important tool for making missing values explicit in tidy data is **`complete()`**:  \n",
    "**`complete()`** takes a set of columns, and finds all unique combinations. It then ensures the original dataset contains all those values, filling in explicit NAs where necessary."
   ]
  },
  {
   "cell_type": "code",
   "execution_count": 8,
   "metadata": {},
   "outputs": [
    {
     "data": {
      "text/html": [
       "<table>\n",
       "<thead><tr><th scope=col>year</th><th scope=col>qtr</th><th scope=col>return</th></tr></thead>\n",
       "<tbody>\n",
       "\t<tr><td>2015</td><td>1   </td><td>1.88</td></tr>\n",
       "\t<tr><td>2015</td><td>2   </td><td>0.59</td></tr>\n",
       "\t<tr><td>2015</td><td>3   </td><td>0.35</td></tr>\n",
       "\t<tr><td>2015</td><td>4   </td><td>  NA</td></tr>\n",
       "\t<tr><td>2016</td><td>1   </td><td>  NA</td></tr>\n",
       "\t<tr><td>2016</td><td>2   </td><td>0.92</td></tr>\n",
       "\t<tr><td>2016</td><td>3   </td><td>0.17</td></tr>\n",
       "\t<tr><td>2016</td><td>4   </td><td>2.66</td></tr>\n",
       "</tbody>\n",
       "</table>\n"
      ],
      "text/latex": [
       "\\begin{tabular}{r|lll}\n",
       " year & qtr & return\\\\\n",
       "\\hline\n",
       "\t 2015 & 1    & 1.88\\\\\n",
       "\t 2015 & 2    & 0.59\\\\\n",
       "\t 2015 & 3    & 0.35\\\\\n",
       "\t 2015 & 4    &   NA\\\\\n",
       "\t 2016 & 1    &   NA\\\\\n",
       "\t 2016 & 2    & 0.92\\\\\n",
       "\t 2016 & 3    & 0.17\\\\\n",
       "\t 2016 & 4    & 2.66\\\\\n",
       "\\end{tabular}\n"
      ],
      "text/markdown": [
       "\n",
       "| year | qtr | return |\n",
       "|---|---|---|\n",
       "| 2015 | 1    | 1.88 |\n",
       "| 2015 | 2    | 0.59 |\n",
       "| 2015 | 3    | 0.35 |\n",
       "| 2015 | 4    |   NA |\n",
       "| 2016 | 1    |   NA |\n",
       "| 2016 | 2    | 0.92 |\n",
       "| 2016 | 3    | 0.17 |\n",
       "| 2016 | 4    | 2.66 |\n",
       "\n"
      ],
      "text/plain": [
       "  year qtr return\n",
       "1 2015 1   1.88  \n",
       "2 2015 2   0.59  \n",
       "3 2015 3   0.35  \n",
       "4 2015 4     NA  \n",
       "5 2016 1     NA  \n",
       "6 2016 2   0.92  \n",
       "7 2016 3   0.17  \n",
       "8 2016 4   2.66  "
      ]
     },
     "metadata": {},
     "output_type": "display_data"
    }
   ],
   "source": [
    "stocks %>% complete(year, qtr)"
   ]
  },
  {
   "cell_type": "markdown",
   "metadata": {},
   "source": [
    "There’s one other important tool that you should know for working with missing values. Sometimes when a data source has primarily been used for data entry, missing values indicate that the previous value should be carried forward:"
   ]
  },
  {
   "cell_type": "code",
   "execution_count": 10,
   "metadata": {},
   "outputs": [
    {
     "data": {
      "text/html": [
       "<table>\n",
       "<thead><tr><th scope=col>person</th><th scope=col>treatment</th><th scope=col>response</th></tr></thead>\n",
       "<tbody>\n",
       "\t<tr><td>Derrick Whitmore</td><td>1               </td><td> 7              </td></tr>\n",
       "\t<tr><td>NA              </td><td>2               </td><td>10              </td></tr>\n",
       "\t<tr><td>NA              </td><td>3               </td><td> 9              </td></tr>\n",
       "\t<tr><td>Katherine Burke </td><td>1               </td><td> 4              </td></tr>\n",
       "</tbody>\n",
       "</table>\n"
      ],
      "text/latex": [
       "\\begin{tabular}{r|lll}\n",
       " person & treatment & response\\\\\n",
       "\\hline\n",
       "\t Derrick Whitmore & 1                &  7              \\\\\n",
       "\t NA               & 2                & 10              \\\\\n",
       "\t NA               & 3                &  9              \\\\\n",
       "\t Katherine Burke  & 1                &  4              \\\\\n",
       "\\end{tabular}\n"
      ],
      "text/markdown": [
       "\n",
       "| person | treatment | response |\n",
       "|---|---|---|\n",
       "| Derrick Whitmore | 1                |  7               |\n",
       "| NA               | 2                | 10               |\n",
       "| NA               | 3                |  9               |\n",
       "| Katherine Burke  | 1                |  4               |\n",
       "\n"
      ],
      "text/plain": [
       "  person           treatment response\n",
       "1 Derrick Whitmore 1          7      \n",
       "2 NA               2         10      \n",
       "3 NA               3          9      \n",
       "4 Katherine Burke  1          4      "
      ]
     },
     "metadata": {},
     "output_type": "display_data"
    }
   ],
   "source": [
    "treatment <- tribble(\n",
    "  ~ person,           ~ treatment, ~response,\n",
    "  \"Derrick Whitmore\", 1,           7,\n",
    "  NA,                 2,           10,\n",
    "  NA,                 3,           9,\n",
    "  \"Katherine Burke\",  1,           4\n",
    ")\n",
    "\n",
    "treatment"
   ]
  },
  {
   "cell_type": "code",
   "execution_count": 12,
   "metadata": {},
   "outputs": [
    {
     "data": {
      "text/html": [
       "<table>\n",
       "<thead><tr><th scope=col>person</th><th scope=col>treatment</th><th scope=col>response</th></tr></thead>\n",
       "<tbody>\n",
       "\t<tr><td>Derrick Whitmore</td><td>1               </td><td> 7              </td></tr>\n",
       "\t<tr><td>Derrick Whitmore</td><td>2               </td><td>10              </td></tr>\n",
       "\t<tr><td>Derrick Whitmore</td><td>3               </td><td> 9              </td></tr>\n",
       "\t<tr><td>Katherine Burke </td><td>1               </td><td> 4              </td></tr>\n",
       "</tbody>\n",
       "</table>\n"
      ],
      "text/latex": [
       "\\begin{tabular}{r|lll}\n",
       " person & treatment & response\\\\\n",
       "\\hline\n",
       "\t Derrick Whitmore & 1                &  7              \\\\\n",
       "\t Derrick Whitmore & 2                & 10              \\\\\n",
       "\t Derrick Whitmore & 3                &  9              \\\\\n",
       "\t Katherine Burke  & 1                &  4              \\\\\n",
       "\\end{tabular}\n"
      ],
      "text/markdown": [
       "\n",
       "| person | treatment | response |\n",
       "|---|---|---|\n",
       "| Derrick Whitmore | 1                |  7               |\n",
       "| Derrick Whitmore | 2                | 10               |\n",
       "| Derrick Whitmore | 3                |  9               |\n",
       "| Katherine Burke  | 1                |  4               |\n",
       "\n"
      ],
      "text/plain": [
       "  person           treatment response\n",
       "1 Derrick Whitmore 1          7      \n",
       "2 Derrick Whitmore 2         10      \n",
       "3 Derrick Whitmore 3          9      \n",
       "4 Katherine Burke  1          4      "
      ]
     },
     "metadata": {},
     "output_type": "display_data"
    }
   ],
   "source": [
    "treatment %>% fill(person, .direction = 'down')"
   ]
  },
  {
   "cell_type": "markdown",
   "metadata": {},
   "source": [
    "# How to handle missing value"
   ]
  },
  {
   "cell_type": "markdown",
   "metadata": {},
   "source": [
    "- Drop observations having missing value\n",
    "- Inputation (mean, mode, ...)\n",
    "- Use a model to predict the value of missing value"
   ]
  },
  {
   "cell_type": "markdown",
   "metadata": {},
   "source": [
    "# Case study"
   ]
  },
  {
   "cell_type": "markdown",
   "metadata": {},
   "source": [
    ">Look at the `who` dataset.  Are there implicit missing values? What’s the difference between an `NA` and zero?"
   ]
  },
  {
   "cell_type": "code",
   "execution_count": 3,
   "metadata": {},
   "outputs": [
    {
     "data": {
      "text/html": [
       "<table>\n",
       "<thead><tr><th scope=col>country</th><th scope=col>iso2</th><th scope=col>iso3</th><th scope=col>year</th><th scope=col>new_sp_m014</th><th scope=col>new_sp_m1524</th><th scope=col>new_sp_m2534</th><th scope=col>new_sp_m3544</th><th scope=col>new_sp_m4554</th><th scope=col>new_sp_m5564</th><th scope=col>...</th><th scope=col>newrel_m4554</th><th scope=col>newrel_m5564</th><th scope=col>newrel_m65</th><th scope=col>newrel_f014</th><th scope=col>newrel_f1524</th><th scope=col>newrel_f2534</th><th scope=col>newrel_f3544</th><th scope=col>newrel_f4554</th><th scope=col>newrel_f5564</th><th scope=col>newrel_f65</th></tr></thead>\n",
       "<tbody>\n",
       "\t<tr><td>Afghanistan</td><td>AF         </td><td>AFG        </td><td>1980       </td><td>NA         </td><td>NA         </td><td>NA         </td><td>NA         </td><td>NA         </td><td>NA         </td><td>...        </td><td>NA         </td><td>NA         </td><td>NA         </td><td>NA         </td><td>NA         </td><td>NA         </td><td>NA         </td><td>NA         </td><td>NA         </td><td>NA         </td></tr>\n",
       "\t<tr><td>Afghanistan</td><td>AF         </td><td>AFG        </td><td>1981       </td><td>NA         </td><td>NA         </td><td>NA         </td><td>NA         </td><td>NA         </td><td>NA         </td><td>...        </td><td>NA         </td><td>NA         </td><td>NA         </td><td>NA         </td><td>NA         </td><td>NA         </td><td>NA         </td><td>NA         </td><td>NA         </td><td>NA         </td></tr>\n",
       "\t<tr><td>Afghanistan</td><td>AF         </td><td>AFG        </td><td>1982       </td><td>NA         </td><td>NA         </td><td>NA         </td><td>NA         </td><td>NA         </td><td>NA         </td><td>...        </td><td>NA         </td><td>NA         </td><td>NA         </td><td>NA         </td><td>NA         </td><td>NA         </td><td>NA         </td><td>NA         </td><td>NA         </td><td>NA         </td></tr>\n",
       "\t<tr><td>Afghanistan</td><td>AF         </td><td>AFG        </td><td>1983       </td><td>NA         </td><td>NA         </td><td>NA         </td><td>NA         </td><td>NA         </td><td>NA         </td><td>...        </td><td>NA         </td><td>NA         </td><td>NA         </td><td>NA         </td><td>NA         </td><td>NA         </td><td>NA         </td><td>NA         </td><td>NA         </td><td>NA         </td></tr>\n",
       "\t<tr><td>Afghanistan</td><td>AF         </td><td>AFG        </td><td>1984       </td><td>NA         </td><td>NA         </td><td>NA         </td><td>NA         </td><td>NA         </td><td>NA         </td><td>...        </td><td>NA         </td><td>NA         </td><td>NA         </td><td>NA         </td><td>NA         </td><td>NA         </td><td>NA         </td><td>NA         </td><td>NA         </td><td>NA         </td></tr>\n",
       "\t<tr><td>Afghanistan</td><td>AF         </td><td>AFG        </td><td>1985       </td><td>NA         </td><td>NA         </td><td>NA         </td><td>NA         </td><td>NA         </td><td>NA         </td><td>...        </td><td>NA         </td><td>NA         </td><td>NA         </td><td>NA         </td><td>NA         </td><td>NA         </td><td>NA         </td><td>NA         </td><td>NA         </td><td>NA         </td></tr>\n",
       "</tbody>\n",
       "</table>\n"
      ],
      "text/latex": [
       "\\begin{tabular}{r|llllllllllllllllllllllllllllllllllllllllllllllllllllllllllll}\n",
       " country & iso2 & iso3 & year & new\\_sp\\_m014 & new\\_sp\\_m1524 & new\\_sp\\_m2534 & new\\_sp\\_m3544 & new\\_sp\\_m4554 & new\\_sp\\_m5564 & ... & newrel\\_m4554 & newrel\\_m5564 & newrel\\_m65 & newrel\\_f014 & newrel\\_f1524 & newrel\\_f2534 & newrel\\_f3544 & newrel\\_f4554 & newrel\\_f5564 & newrel\\_f65\\\\\n",
       "\\hline\n",
       "\t Afghanistan & AF          & AFG         & 1980        & NA          & NA          & NA          & NA          & NA          & NA          & ...         & NA          & NA          & NA          & NA          & NA          & NA          & NA          & NA          & NA          & NA         \\\\\n",
       "\t Afghanistan & AF          & AFG         & 1981        & NA          & NA          & NA          & NA          & NA          & NA          & ...         & NA          & NA          & NA          & NA          & NA          & NA          & NA          & NA          & NA          & NA         \\\\\n",
       "\t Afghanistan & AF          & AFG         & 1982        & NA          & NA          & NA          & NA          & NA          & NA          & ...         & NA          & NA          & NA          & NA          & NA          & NA          & NA          & NA          & NA          & NA         \\\\\n",
       "\t Afghanistan & AF          & AFG         & 1983        & NA          & NA          & NA          & NA          & NA          & NA          & ...         & NA          & NA          & NA          & NA          & NA          & NA          & NA          & NA          & NA          & NA         \\\\\n",
       "\t Afghanistan & AF          & AFG         & 1984        & NA          & NA          & NA          & NA          & NA          & NA          & ...         & NA          & NA          & NA          & NA          & NA          & NA          & NA          & NA          & NA          & NA         \\\\\n",
       "\t Afghanistan & AF          & AFG         & 1985        & NA          & NA          & NA          & NA          & NA          & NA          & ...         & NA          & NA          & NA          & NA          & NA          & NA          & NA          & NA          & NA          & NA         \\\\\n",
       "\\end{tabular}\n"
      ],
      "text/markdown": [
       "\n",
       "| country | iso2 | iso3 | year | new_sp_m014 | new_sp_m1524 | new_sp_m2534 | new_sp_m3544 | new_sp_m4554 | new_sp_m5564 | ... | newrel_m4554 | newrel_m5564 | newrel_m65 | newrel_f014 | newrel_f1524 | newrel_f2534 | newrel_f3544 | newrel_f4554 | newrel_f5564 | newrel_f65 |\n",
       "|---|---|---|---|---|---|---|---|---|---|---|---|---|---|---|---|---|---|---|---|---|\n",
       "| Afghanistan | AF          | AFG         | 1980        | NA          | NA          | NA          | NA          | NA          | NA          | ...         | NA          | NA          | NA          | NA          | NA          | NA          | NA          | NA          | NA          | NA          |\n",
       "| Afghanistan | AF          | AFG         | 1981        | NA          | NA          | NA          | NA          | NA          | NA          | ...         | NA          | NA          | NA          | NA          | NA          | NA          | NA          | NA          | NA          | NA          |\n",
       "| Afghanistan | AF          | AFG         | 1982        | NA          | NA          | NA          | NA          | NA          | NA          | ...         | NA          | NA          | NA          | NA          | NA          | NA          | NA          | NA          | NA          | NA          |\n",
       "| Afghanistan | AF          | AFG         | 1983        | NA          | NA          | NA          | NA          | NA          | NA          | ...         | NA          | NA          | NA          | NA          | NA          | NA          | NA          | NA          | NA          | NA          |\n",
       "| Afghanistan | AF          | AFG         | 1984        | NA          | NA          | NA          | NA          | NA          | NA          | ...         | NA          | NA          | NA          | NA          | NA          | NA          | NA          | NA          | NA          | NA          |\n",
       "| Afghanistan | AF          | AFG         | 1985        | NA          | NA          | NA          | NA          | NA          | NA          | ...         | NA          | NA          | NA          | NA          | NA          | NA          | NA          | NA          | NA          | NA          |\n",
       "\n"
      ],
      "text/plain": [
       "  country     iso2 iso3 year new_sp_m014 new_sp_m1524 new_sp_m2534 new_sp_m3544\n",
       "1 Afghanistan AF   AFG  1980 NA          NA           NA           NA          \n",
       "2 Afghanistan AF   AFG  1981 NA          NA           NA           NA          \n",
       "3 Afghanistan AF   AFG  1982 NA          NA           NA           NA          \n",
       "4 Afghanistan AF   AFG  1983 NA          NA           NA           NA          \n",
       "5 Afghanistan AF   AFG  1984 NA          NA           NA           NA          \n",
       "6 Afghanistan AF   AFG  1985 NA          NA           NA           NA          \n",
       "  new_sp_m4554 new_sp_m5564 ... newrel_m4554 newrel_m5564 newrel_m65\n",
       "1 NA           NA           ... NA           NA           NA        \n",
       "2 NA           NA           ... NA           NA           NA        \n",
       "3 NA           NA           ... NA           NA           NA        \n",
       "4 NA           NA           ... NA           NA           NA        \n",
       "5 NA           NA           ... NA           NA           NA        \n",
       "6 NA           NA           ... NA           NA           NA        \n",
       "  newrel_f014 newrel_f1524 newrel_f2534 newrel_f3544 newrel_f4554 newrel_f5564\n",
       "1 NA          NA           NA           NA           NA           NA          \n",
       "2 NA          NA           NA           NA           NA           NA          \n",
       "3 NA          NA           NA           NA           NA           NA          \n",
       "4 NA          NA           NA           NA           NA           NA          \n",
       "5 NA          NA           NA           NA           NA           NA          \n",
       "6 NA          NA           NA           NA           NA           NA          \n",
       "  newrel_f65\n",
       "1 NA        \n",
       "2 NA        \n",
       "3 NA        \n",
       "4 NA        \n",
       "5 NA        \n",
       "6 NA        "
      ]
     },
     "metadata": {},
     "output_type": "display_data"
    }
   ],
   "source": [
    "who %>% head()"
   ]
  },
  {
   "cell_type": "code",
   "execution_count": 4,
   "metadata": {},
   "outputs": [
    {
     "data": {
      "text/html": [
       "<table>\n",
       "<thead><tr><th scope=col>country</th><th scope=col>iso2</th><th scope=col>iso3</th><th scope=col>year</th><th scope=col>diagnosis</th><th scope=col>sex</th><th scope=col>age</th><th scope=col>cases</th></tr></thead>\n",
       "<tbody>\n",
       "\t<tr><td>Afghanistan</td><td>AF         </td><td>AFG        </td><td>1980       </td><td>sp         </td><td>m          </td><td>014        </td><td>NA         </td></tr>\n",
       "\t<tr><td>Afghanistan</td><td>AF         </td><td>AFG        </td><td>1980       </td><td>sp         </td><td>m          </td><td>1524       </td><td>NA         </td></tr>\n",
       "\t<tr><td>Afghanistan</td><td>AF         </td><td>AFG        </td><td>1980       </td><td>sp         </td><td>m          </td><td>2534       </td><td>NA         </td></tr>\n",
       "\t<tr><td>Afghanistan</td><td>AF         </td><td>AFG        </td><td>1980       </td><td>sp         </td><td>m          </td><td>3544       </td><td>NA         </td></tr>\n",
       "\t<tr><td>Afghanistan</td><td>AF         </td><td>AFG        </td><td>1980       </td><td>sp         </td><td>m          </td><td>4554       </td><td>NA         </td></tr>\n",
       "\t<tr><td>Afghanistan</td><td>AF         </td><td>AFG        </td><td>1980       </td><td>sp         </td><td>m          </td><td>5564       </td><td>NA         </td></tr>\n",
       "</tbody>\n",
       "</table>\n"
      ],
      "text/latex": [
       "\\begin{tabular}{r|llllllll}\n",
       " country & iso2 & iso3 & year & diagnosis & sex & age & cases\\\\\n",
       "\\hline\n",
       "\t Afghanistan & AF          & AFG         & 1980        & sp          & m           & 014         & NA         \\\\\n",
       "\t Afghanistan & AF          & AFG         & 1980        & sp          & m           & 1524        & NA         \\\\\n",
       "\t Afghanistan & AF          & AFG         & 1980        & sp          & m           & 2534        & NA         \\\\\n",
       "\t Afghanistan & AF          & AFG         & 1980        & sp          & m           & 3544        & NA         \\\\\n",
       "\t Afghanistan & AF          & AFG         & 1980        & sp          & m           & 4554        & NA         \\\\\n",
       "\t Afghanistan & AF          & AFG         & 1980        & sp          & m           & 5564        & NA         \\\\\n",
       "\\end{tabular}\n"
      ],
      "text/markdown": [
       "\n",
       "| country | iso2 | iso3 | year | diagnosis | sex | age | cases |\n",
       "|---|---|---|---|---|---|---|---|\n",
       "| Afghanistan | AF          | AFG         | 1980        | sp          | m           | 014         | NA          |\n",
       "| Afghanistan | AF          | AFG         | 1980        | sp          | m           | 1524        | NA          |\n",
       "| Afghanistan | AF          | AFG         | 1980        | sp          | m           | 2534        | NA          |\n",
       "| Afghanistan | AF          | AFG         | 1980        | sp          | m           | 3544        | NA          |\n",
       "| Afghanistan | AF          | AFG         | 1980        | sp          | m           | 4554        | NA          |\n",
       "| Afghanistan | AF          | AFG         | 1980        | sp          | m           | 5564        | NA          |\n",
       "\n"
      ],
      "text/plain": [
       "  country     iso2 iso3 year diagnosis sex age  cases\n",
       "1 Afghanistan AF   AFG  1980 sp        m   014  NA   \n",
       "2 Afghanistan AF   AFG  1980 sp        m   1524 NA   \n",
       "3 Afghanistan AF   AFG  1980 sp        m   2534 NA   \n",
       "4 Afghanistan AF   AFG  1980 sp        m   3544 NA   \n",
       "5 Afghanistan AF   AFG  1980 sp        m   4554 NA   \n",
       "6 Afghanistan AF   AFG  1980 sp        m   5564 NA   "
      ]
     },
     "metadata": {},
     "output_type": "display_data"
    }
   ],
   "source": [
    "who1 <- who %>% pivot_longer(\n",
    "    starts_with('new'),\n",
    "    names_pattern = 'new_?(.*)_(.)(.*)',\n",
    "    names_to = c('diagnosis', 'sex', 'age'),\n",
    "    values_to = 'cases'\n",
    ")\n",
    "\n",
    "who1 %>% head()"
   ]
  },
  {
   "cell_type": "markdown",
   "metadata": {},
   "source": [
    "The main concern is whether a missing value means that there were no cases of TB or whether it means that the WHO does not have data on the number of TB cases. Here are some things we should look for to help distinguish between these cases.\n",
    "\n",
    "- If there are no 0 values in the data, then missing values may be used to indicate no cases.\n",
    "\n",
    "- If there are both explicit and implicit missing values, then it suggests that missing values are being used differently. In that case, it is likely that explicit missing values would mean no cases, and implicit missing values would mean no data on the number of cases."
   ]
  },
  {
   "cell_type": "markdown",
   "metadata": {},
   "source": [
    "First, I'll check the presence of 0 in the data"
   ]
  },
  {
   "cell_type": "code",
   "execution_count": 8,
   "metadata": {},
   "outputs": [
    {
     "data": {
      "text/html": [
       "<strong>A tibble:</strong> '11,080 x 8'"
      ],
      "text/latex": [
       "\\textbf{A tibble:} '11,080 x 8'"
      ],
      "text/markdown": [
       "**A tibble:** '11,080 x 8'"
      ],
      "text/plain": [
       "    A tibble \n",
       "\"11,080 x 8\" "
      ]
     },
     "metadata": {},
     "output_type": "display_data"
    }
   ],
   "source": [
    "who1 %>% filter(cases == 0) %>% tbl_sum()"
   ]
  },
  {
   "cell_type": "markdown",
   "metadata": {},
   "source": [
    "There are zeros in the data, so it appears that cases of zero TB are explicitly indicated, and the value of NA is used to indicate missing data."
   ]
  },
  {
   "cell_type": "markdown",
   "metadata": {},
   "source": [
    "Second, I should check whether all values for a (country, year) are missing or whether it is possible for only some columns to be missing."
   ]
  },
  {
   "cell_type": "code",
   "execution_count": 22,
   "metadata": {},
   "outputs": [
    {
     "data": {
      "text/html": [
       "<table>\n",
       "<thead><tr><th scope=col>new_sp_m014</th><th scope=col>new_sp_m1524</th><th scope=col>new_sp_m2534</th><th scope=col>new_sp_m3544</th><th scope=col>new_sp_m4554</th><th scope=col>new_sp_m5564</th><th scope=col>new_sp_m65</th><th scope=col>new_sp_f014</th><th scope=col>new_sp_f1524</th><th scope=col>new_sp_f2534</th><th scope=col>...</th><th scope=col>newrel_m4554</th><th scope=col>newrel_m5564</th><th scope=col>newrel_m65</th><th scope=col>newrel_f014</th><th scope=col>newrel_f1524</th><th scope=col>newrel_f2534</th><th scope=col>newrel_f3544</th><th scope=col>newrel_f4554</th><th scope=col>newrel_f5564</th><th scope=col>newrel_f65</th></tr></thead>\n",
       "<tbody>\n",
       "\t<tr><td>862</td><td>252</td><td>212</td><td>198</td><td>195</td><td>223</td><td>259</td><td>737</td><td>241</td><td>226</td><td>...</td><td>13 </td><td>13 </td><td>14 </td><td>27 </td><td>15 </td><td>15 </td><td>15 </td><td>17 </td><td>19 </td><td>15 </td></tr>\n",
       "</tbody>\n",
       "</table>\n"
      ],
      "text/latex": [
       "\\begin{tabular}{r|llllllllllllllllllllllllllllllllllllllllllllllllllllllll}\n",
       " new\\_sp\\_m014 & new\\_sp\\_m1524 & new\\_sp\\_m2534 & new\\_sp\\_m3544 & new\\_sp\\_m4554 & new\\_sp\\_m5564 & new\\_sp\\_m65 & new\\_sp\\_f014 & new\\_sp\\_f1524 & new\\_sp\\_f2534 & ... & newrel\\_m4554 & newrel\\_m5564 & newrel\\_m65 & newrel\\_f014 & newrel\\_f1524 & newrel\\_f2534 & newrel\\_f3544 & newrel\\_f4554 & newrel\\_f5564 & newrel\\_f65\\\\\n",
       "\\hline\n",
       "\t 862 & 252 & 212 & 198 & 195 & 223 & 259 & 737 & 241 & 226 & ... & 13  & 13  & 14  & 27  & 15  & 15  & 15  & 17  & 19  & 15 \\\\\n",
       "\\end{tabular}\n"
      ],
      "text/markdown": [
       "\n",
       "| new_sp_m014 | new_sp_m1524 | new_sp_m2534 | new_sp_m3544 | new_sp_m4554 | new_sp_m5564 | new_sp_m65 | new_sp_f014 | new_sp_f1524 | new_sp_f2534 | ... | newrel_m4554 | newrel_m5564 | newrel_m65 | newrel_f014 | newrel_f1524 | newrel_f2534 | newrel_f3544 | newrel_f4554 | newrel_f5564 | newrel_f65 |\n",
       "|---|---|---|---|---|---|---|---|---|---|---|---|---|---|---|---|---|---|---|---|---|\n",
       "| 862 | 252 | 212 | 198 | 195 | 223 | 259 | 737 | 241 | 226 | ... | 13  | 13  | 14  | 27  | 15  | 15  | 15  | 17  | 19  | 15  |\n",
       "\n"
      ],
      "text/plain": [
       "  new_sp_m014 new_sp_m1524 new_sp_m2534 new_sp_m3544 new_sp_m4554 new_sp_m5564\n",
       "1 862         252          212          198          195          223         \n",
       "  new_sp_m65 new_sp_f014 new_sp_f1524 new_sp_f2534 ... newrel_m4554\n",
       "1 259        737         241          226          ... 13          \n",
       "  newrel_m5564 newrel_m65 newrel_f014 newrel_f1524 newrel_f2534 newrel_f3544\n",
       "1 13           14         27          15           15           15          \n",
       "  newrel_f4554 newrel_f5564 newrel_f65\n",
       "1 17           19           15        "
      ]
     },
     "metadata": {},
     "output_type": "display_data"
    }
   ],
   "source": [
    "# the number of 0 in each TB group column\n",
    "\n",
    "who %>% summarize(across(starts_with('new'), ~ sum(. == 0, na.rm = T)))"
   ]
  },
  {
   "cell_type": "markdown",
   "metadata": {},
   "source": [
    " Next, I will check for implicit missing values. Implicit missing values are (year, country) combinations that do not appear in the data."
   ]
  },
  {
   "cell_type": "code",
   "execution_count": 12,
   "metadata": {},
   "outputs": [
    {
     "data": {
      "text/html": [
       "7240"
      ],
      "text/latex": [
       "7240"
      ],
      "text/markdown": [
       "7240"
      ],
      "text/plain": [
       "[1] 7240"
      ]
     },
     "metadata": {},
     "output_type": "display_data"
    }
   ],
   "source": [
    "# The number of (year, country) combinations in the data\n",
    "who1 %>% distinct(country, year) %>% nrow()"
   ]
  },
  {
   "cell_type": "code",
   "execution_count": 14,
   "metadata": {},
   "outputs": [
    {
     "data": {
      "text/html": [
       "7446"
      ],
      "text/latex": [
       "7446"
      ],
      "text/markdown": [
       "7446"
      ],
      "text/plain": [
       "[1] 7446"
      ]
     },
     "metadata": {},
     "output_type": "display_data"
    }
   ],
   "source": [
    "# The number of possible (year, country) combinations in the data\n",
    "who1 %>% expand(country, year) %>% nrow()"
   ]
  },
  {
   "cell_type": "markdown",
   "metadata": {},
   "source": [
    "Since the number of complete cases of (country, year) is greater than the number of rows in `who`, there are some implicit values. But that doesn’t tell us what those implicit missing values are. Let's find out combinations of (country, year) that does not appear in `who` dataset:"
   ]
  },
  {
   "cell_type": "code",
   "execution_count": 17,
   "metadata": {},
   "outputs": [
    {
     "data": {
      "text/html": [
       "<table>\n",
       "<thead><tr><th scope=col>country</th><th scope=col>year</th></tr></thead>\n",
       "<tbody>\n",
       "\t<tr><td>Bonaire, Saint Eustatius and Saba</td><td>1980                             </td></tr>\n",
       "\t<tr><td>Bonaire, Saint Eustatius and Saba</td><td>1981                             </td></tr>\n",
       "\t<tr><td>Bonaire, Saint Eustatius and Saba</td><td>1982                             </td></tr>\n",
       "\t<tr><td>Bonaire, Saint Eustatius and Saba</td><td>1983                             </td></tr>\n",
       "\t<tr><td>Bonaire, Saint Eustatius and Saba</td><td>1984                             </td></tr>\n",
       "\t<tr><td>Bonaire, Saint Eustatius and Saba</td><td>1985                             </td></tr>\n",
       "\t<tr><td>Bonaire, Saint Eustatius and Saba</td><td>1986                             </td></tr>\n",
       "\t<tr><td>Bonaire, Saint Eustatius and Saba</td><td>1987                             </td></tr>\n",
       "\t<tr><td>Bonaire, Saint Eustatius and Saba</td><td>1988                             </td></tr>\n",
       "\t<tr><td>Bonaire, Saint Eustatius and Saba</td><td>1989                             </td></tr>\n",
       "\t<tr><td>Bonaire, Saint Eustatius and Saba</td><td>1990                             </td></tr>\n",
       "\t<tr><td>Bonaire, Saint Eustatius and Saba</td><td>1991                             </td></tr>\n",
       "\t<tr><td>Bonaire, Saint Eustatius and Saba</td><td>1992                             </td></tr>\n",
       "\t<tr><td>Bonaire, Saint Eustatius and Saba</td><td>1993                             </td></tr>\n",
       "\t<tr><td>Bonaire, Saint Eustatius and Saba</td><td>1994                             </td></tr>\n",
       "\t<tr><td>Bonaire, Saint Eustatius and Saba</td><td>1995                             </td></tr>\n",
       "\t<tr><td>Bonaire, Saint Eustatius and Saba</td><td>1996                             </td></tr>\n",
       "\t<tr><td>Bonaire, Saint Eustatius and Saba</td><td>1997                             </td></tr>\n",
       "\t<tr><td>Bonaire, Saint Eustatius and Saba</td><td>1998                             </td></tr>\n",
       "\t<tr><td>Bonaire, Saint Eustatius and Saba</td><td>1999                             </td></tr>\n",
       "\t<tr><td>Bonaire, Saint Eustatius and Saba</td><td>2000                             </td></tr>\n",
       "\t<tr><td>Bonaire, Saint Eustatius and Saba</td><td>2001                             </td></tr>\n",
       "\t<tr><td>Bonaire, Saint Eustatius and Saba</td><td>2002                             </td></tr>\n",
       "\t<tr><td>Bonaire, Saint Eustatius and Saba</td><td>2003                             </td></tr>\n",
       "\t<tr><td>Bonaire, Saint Eustatius and Saba</td><td>2004                             </td></tr>\n",
       "\t<tr><td>Bonaire, Saint Eustatius and Saba</td><td>2005                             </td></tr>\n",
       "\t<tr><td>Bonaire, Saint Eustatius and Saba</td><td>2006                             </td></tr>\n",
       "\t<tr><td>Bonaire, Saint Eustatius and Saba</td><td>2007                             </td></tr>\n",
       "\t<tr><td>Bonaire, Saint Eustatius and Saba</td><td>2008                             </td></tr>\n",
       "\t<tr><td>Bonaire, Saint Eustatius and Saba</td><td>2009                             </td></tr>\n",
       "\t<tr><td>...</td><td>...</td></tr>\n",
       "\t<tr><td>South Sudan</td><td>2003       </td></tr>\n",
       "\t<tr><td>South Sudan</td><td>2004       </td></tr>\n",
       "\t<tr><td>South Sudan</td><td>2005       </td></tr>\n",
       "\t<tr><td>South Sudan</td><td>2006       </td></tr>\n",
       "\t<tr><td>South Sudan</td><td>2007       </td></tr>\n",
       "\t<tr><td>South Sudan</td><td>2008       </td></tr>\n",
       "\t<tr><td>South Sudan</td><td>2009       </td></tr>\n",
       "\t<tr><td>South Sudan</td><td>2010       </td></tr>\n",
       "\t<tr><td>Timor-Leste</td><td>1980       </td></tr>\n",
       "\t<tr><td>Timor-Leste</td><td>1981       </td></tr>\n",
       "\t<tr><td>Timor-Leste</td><td>1982       </td></tr>\n",
       "\t<tr><td>Timor-Leste</td><td>1983       </td></tr>\n",
       "\t<tr><td>Timor-Leste</td><td>1984       </td></tr>\n",
       "\t<tr><td>Timor-Leste</td><td>1985       </td></tr>\n",
       "\t<tr><td>Timor-Leste</td><td>1986       </td></tr>\n",
       "\t<tr><td>Timor-Leste</td><td>1987       </td></tr>\n",
       "\t<tr><td>Timor-Leste</td><td>1988       </td></tr>\n",
       "\t<tr><td>Timor-Leste</td><td>1989       </td></tr>\n",
       "\t<tr><td>Timor-Leste</td><td>1990       </td></tr>\n",
       "\t<tr><td>Timor-Leste</td><td>1991       </td></tr>\n",
       "\t<tr><td>Timor-Leste</td><td>1992       </td></tr>\n",
       "\t<tr><td>Timor-Leste</td><td>1993       </td></tr>\n",
       "\t<tr><td>Timor-Leste</td><td>1994       </td></tr>\n",
       "\t<tr><td>Timor-Leste</td><td>1995       </td></tr>\n",
       "\t<tr><td>Timor-Leste</td><td>1996       </td></tr>\n",
       "\t<tr><td>Timor-Leste</td><td>1997       </td></tr>\n",
       "\t<tr><td>Timor-Leste</td><td>1998       </td></tr>\n",
       "\t<tr><td>Timor-Leste</td><td>1999       </td></tr>\n",
       "\t<tr><td>Timor-Leste</td><td>2000       </td></tr>\n",
       "\t<tr><td>Timor-Leste</td><td>2001       </td></tr>\n",
       "</tbody>\n",
       "</table>\n"
      ],
      "text/latex": [
       "\\begin{tabular}{r|ll}\n",
       " country & year\\\\\n",
       "\\hline\n",
       "\t Bonaire, Saint Eustatius and Saba & 1980                             \\\\\n",
       "\t Bonaire, Saint Eustatius and Saba & 1981                             \\\\\n",
       "\t Bonaire, Saint Eustatius and Saba & 1982                             \\\\\n",
       "\t Bonaire, Saint Eustatius and Saba & 1983                             \\\\\n",
       "\t Bonaire, Saint Eustatius and Saba & 1984                             \\\\\n",
       "\t Bonaire, Saint Eustatius and Saba & 1985                             \\\\\n",
       "\t Bonaire, Saint Eustatius and Saba & 1986                             \\\\\n",
       "\t Bonaire, Saint Eustatius and Saba & 1987                             \\\\\n",
       "\t Bonaire, Saint Eustatius and Saba & 1988                             \\\\\n",
       "\t Bonaire, Saint Eustatius and Saba & 1989                             \\\\\n",
       "\t Bonaire, Saint Eustatius and Saba & 1990                             \\\\\n",
       "\t Bonaire, Saint Eustatius and Saba & 1991                             \\\\\n",
       "\t Bonaire, Saint Eustatius and Saba & 1992                             \\\\\n",
       "\t Bonaire, Saint Eustatius and Saba & 1993                             \\\\\n",
       "\t Bonaire, Saint Eustatius and Saba & 1994                             \\\\\n",
       "\t Bonaire, Saint Eustatius and Saba & 1995                             \\\\\n",
       "\t Bonaire, Saint Eustatius and Saba & 1996                             \\\\\n",
       "\t Bonaire, Saint Eustatius and Saba & 1997                             \\\\\n",
       "\t Bonaire, Saint Eustatius and Saba & 1998                             \\\\\n",
       "\t Bonaire, Saint Eustatius and Saba & 1999                             \\\\\n",
       "\t Bonaire, Saint Eustatius and Saba & 2000                             \\\\\n",
       "\t Bonaire, Saint Eustatius and Saba & 2001                             \\\\\n",
       "\t Bonaire, Saint Eustatius and Saba & 2002                             \\\\\n",
       "\t Bonaire, Saint Eustatius and Saba & 2003                             \\\\\n",
       "\t Bonaire, Saint Eustatius and Saba & 2004                             \\\\\n",
       "\t Bonaire, Saint Eustatius and Saba & 2005                             \\\\\n",
       "\t Bonaire, Saint Eustatius and Saba & 2006                             \\\\\n",
       "\t Bonaire, Saint Eustatius and Saba & 2007                             \\\\\n",
       "\t Bonaire, Saint Eustatius and Saba & 2008                             \\\\\n",
       "\t Bonaire, Saint Eustatius and Saba & 2009                             \\\\\n",
       "\t ... & ...\\\\\n",
       "\t South Sudan & 2003       \\\\\n",
       "\t South Sudan & 2004       \\\\\n",
       "\t South Sudan & 2005       \\\\\n",
       "\t South Sudan & 2006       \\\\\n",
       "\t South Sudan & 2007       \\\\\n",
       "\t South Sudan & 2008       \\\\\n",
       "\t South Sudan & 2009       \\\\\n",
       "\t South Sudan & 2010       \\\\\n",
       "\t Timor-Leste & 1980       \\\\\n",
       "\t Timor-Leste & 1981       \\\\\n",
       "\t Timor-Leste & 1982       \\\\\n",
       "\t Timor-Leste & 1983       \\\\\n",
       "\t Timor-Leste & 1984       \\\\\n",
       "\t Timor-Leste & 1985       \\\\\n",
       "\t Timor-Leste & 1986       \\\\\n",
       "\t Timor-Leste & 1987       \\\\\n",
       "\t Timor-Leste & 1988       \\\\\n",
       "\t Timor-Leste & 1989       \\\\\n",
       "\t Timor-Leste & 1990       \\\\\n",
       "\t Timor-Leste & 1991       \\\\\n",
       "\t Timor-Leste & 1992       \\\\\n",
       "\t Timor-Leste & 1993       \\\\\n",
       "\t Timor-Leste & 1994       \\\\\n",
       "\t Timor-Leste & 1995       \\\\\n",
       "\t Timor-Leste & 1996       \\\\\n",
       "\t Timor-Leste & 1997       \\\\\n",
       "\t Timor-Leste & 1998       \\\\\n",
       "\t Timor-Leste & 1999       \\\\\n",
       "\t Timor-Leste & 2000       \\\\\n",
       "\t Timor-Leste & 2001       \\\\\n",
       "\\end{tabular}\n"
      ],
      "text/markdown": [
       "\n",
       "| country | year |\n",
       "|---|---|\n",
       "| Bonaire, Saint Eustatius and Saba | 1980                              |\n",
       "| Bonaire, Saint Eustatius and Saba | 1981                              |\n",
       "| Bonaire, Saint Eustatius and Saba | 1982                              |\n",
       "| Bonaire, Saint Eustatius and Saba | 1983                              |\n",
       "| Bonaire, Saint Eustatius and Saba | 1984                              |\n",
       "| Bonaire, Saint Eustatius and Saba | 1985                              |\n",
       "| Bonaire, Saint Eustatius and Saba | 1986                              |\n",
       "| Bonaire, Saint Eustatius and Saba | 1987                              |\n",
       "| Bonaire, Saint Eustatius and Saba | 1988                              |\n",
       "| Bonaire, Saint Eustatius and Saba | 1989                              |\n",
       "| Bonaire, Saint Eustatius and Saba | 1990                              |\n",
       "| Bonaire, Saint Eustatius and Saba | 1991                              |\n",
       "| Bonaire, Saint Eustatius and Saba | 1992                              |\n",
       "| Bonaire, Saint Eustatius and Saba | 1993                              |\n",
       "| Bonaire, Saint Eustatius and Saba | 1994                              |\n",
       "| Bonaire, Saint Eustatius and Saba | 1995                              |\n",
       "| Bonaire, Saint Eustatius and Saba | 1996                              |\n",
       "| Bonaire, Saint Eustatius and Saba | 1997                              |\n",
       "| Bonaire, Saint Eustatius and Saba | 1998                              |\n",
       "| Bonaire, Saint Eustatius and Saba | 1999                              |\n",
       "| Bonaire, Saint Eustatius and Saba | 2000                              |\n",
       "| Bonaire, Saint Eustatius and Saba | 2001                              |\n",
       "| Bonaire, Saint Eustatius and Saba | 2002                              |\n",
       "| Bonaire, Saint Eustatius and Saba | 2003                              |\n",
       "| Bonaire, Saint Eustatius and Saba | 2004                              |\n",
       "| Bonaire, Saint Eustatius and Saba | 2005                              |\n",
       "| Bonaire, Saint Eustatius and Saba | 2006                              |\n",
       "| Bonaire, Saint Eustatius and Saba | 2007                              |\n",
       "| Bonaire, Saint Eustatius and Saba | 2008                              |\n",
       "| Bonaire, Saint Eustatius and Saba | 2009                              |\n",
       "| ... | ... |\n",
       "| South Sudan | 2003        |\n",
       "| South Sudan | 2004        |\n",
       "| South Sudan | 2005        |\n",
       "| South Sudan | 2006        |\n",
       "| South Sudan | 2007        |\n",
       "| South Sudan | 2008        |\n",
       "| South Sudan | 2009        |\n",
       "| South Sudan | 2010        |\n",
       "| Timor-Leste | 1980        |\n",
       "| Timor-Leste | 1981        |\n",
       "| Timor-Leste | 1982        |\n",
       "| Timor-Leste | 1983        |\n",
       "| Timor-Leste | 1984        |\n",
       "| Timor-Leste | 1985        |\n",
       "| Timor-Leste | 1986        |\n",
       "| Timor-Leste | 1987        |\n",
       "| Timor-Leste | 1988        |\n",
       "| Timor-Leste | 1989        |\n",
       "| Timor-Leste | 1990        |\n",
       "| Timor-Leste | 1991        |\n",
       "| Timor-Leste | 1992        |\n",
       "| Timor-Leste | 1993        |\n",
       "| Timor-Leste | 1994        |\n",
       "| Timor-Leste | 1995        |\n",
       "| Timor-Leste | 1996        |\n",
       "| Timor-Leste | 1997        |\n",
       "| Timor-Leste | 1998        |\n",
       "| Timor-Leste | 1999        |\n",
       "| Timor-Leste | 2000        |\n",
       "| Timor-Leste | 2001        |\n",
       "\n"
      ],
      "text/plain": [
       "    country                           year\n",
       "1   Bonaire, Saint Eustatius and Saba 1980\n",
       "2   Bonaire, Saint Eustatius and Saba 1981\n",
       "3   Bonaire, Saint Eustatius and Saba 1982\n",
       "4   Bonaire, Saint Eustatius and Saba 1983\n",
       "5   Bonaire, Saint Eustatius and Saba 1984\n",
       "6   Bonaire, Saint Eustatius and Saba 1985\n",
       "7   Bonaire, Saint Eustatius and Saba 1986\n",
       "8   Bonaire, Saint Eustatius and Saba 1987\n",
       "9   Bonaire, Saint Eustatius and Saba 1988\n",
       "10  Bonaire, Saint Eustatius and Saba 1989\n",
       "11  Bonaire, Saint Eustatius and Saba 1990\n",
       "12  Bonaire, Saint Eustatius and Saba 1991\n",
       "13  Bonaire, Saint Eustatius and Saba 1992\n",
       "14  Bonaire, Saint Eustatius and Saba 1993\n",
       "15  Bonaire, Saint Eustatius and Saba 1994\n",
       "16  Bonaire, Saint Eustatius and Saba 1995\n",
       "17  Bonaire, Saint Eustatius and Saba 1996\n",
       "18  Bonaire, Saint Eustatius and Saba 1997\n",
       "19  Bonaire, Saint Eustatius and Saba 1998\n",
       "20  Bonaire, Saint Eustatius and Saba 1999\n",
       "21  Bonaire, Saint Eustatius and Saba 2000\n",
       "22  Bonaire, Saint Eustatius and Saba 2001\n",
       "23  Bonaire, Saint Eustatius and Saba 2002\n",
       "24  Bonaire, Saint Eustatius and Saba 2003\n",
       "25  Bonaire, Saint Eustatius and Saba 2004\n",
       "26  Bonaire, Saint Eustatius and Saba 2005\n",
       "27  Bonaire, Saint Eustatius and Saba 2006\n",
       "28  Bonaire, Saint Eustatius and Saba 2007\n",
       "29  Bonaire, Saint Eustatius and Saba 2008\n",
       "30  Bonaire, Saint Eustatius and Saba 2009\n",
       "... ...                               ... \n",
       "177 South Sudan                       2003\n",
       "178 South Sudan                       2004\n",
       "179 South Sudan                       2005\n",
       "180 South Sudan                       2006\n",
       "181 South Sudan                       2007\n",
       "182 South Sudan                       2008\n",
       "183 South Sudan                       2009\n",
       "184 South Sudan                       2010\n",
       "185 Timor-Leste                       1980\n",
       "186 Timor-Leste                       1981\n",
       "187 Timor-Leste                       1982\n",
       "188 Timor-Leste                       1983\n",
       "189 Timor-Leste                       1984\n",
       "190 Timor-Leste                       1985\n",
       "191 Timor-Leste                       1986\n",
       "192 Timor-Leste                       1987\n",
       "193 Timor-Leste                       1988\n",
       "194 Timor-Leste                       1989\n",
       "195 Timor-Leste                       1990\n",
       "196 Timor-Leste                       1991\n",
       "197 Timor-Leste                       1992\n",
       "198 Timor-Leste                       1993\n",
       "199 Timor-Leste                       1994\n",
       "200 Timor-Leste                       1995\n",
       "201 Timor-Leste                       1996\n",
       "202 Timor-Leste                       1997\n",
       "203 Timor-Leste                       1998\n",
       "204 Timor-Leste                       1999\n",
       "205 Timor-Leste                       2000\n",
       "206 Timor-Leste                       2001"
      ]
     },
     "metadata": {},
     "output_type": "display_data"
    }
   ],
   "source": [
    "country_year_implicit <- who1 %>% expand(country, year) %>% anti_join(who1, by = c('country', 'year'))\n",
    "\n",
    "country_year_implicit"
   ]
  },
  {
   "cell_type": "code",
   "execution_count": 20,
   "metadata": {},
   "outputs": [
    {
     "name": "stderr",
     "output_type": "stream",
     "text": [
      "`summarise()` ungrouping output (override with `.groups` argument)\n"
     ]
    },
    {
     "data": {
      "text/html": [
       "<table>\n",
       "<thead><tr><th scope=col>country</th><th scope=col>min_year</th><th scope=col>max_year</th></tr></thead>\n",
       "<tbody>\n",
       "\t<tr><td>Bonaire, Saint Eustatius and Saba</td><td>1980                             </td><td>2009                             </td></tr>\n",
       "\t<tr><td>Curacao                          </td><td>1980                             </td><td>2009                             </td></tr>\n",
       "\t<tr><td>Montenegro                       </td><td>1980                             </td><td>2004                             </td></tr>\n",
       "\t<tr><td>Netherlands Antilles             </td><td>2010                             </td><td>2013                             </td></tr>\n",
       "\t<tr><td>Serbia                           </td><td>1980                             </td><td>2004                             </td></tr>\n",
       "\t<tr><td><span style=white-space:pre-wrap>Serbia &amp; Montenegro              </span></td><td>2005                                                                         </td><td>2013                                                                         </td></tr>\n",
       "\t<tr><td>Sint Maarten (Dutch part)        </td><td>1980                             </td><td>2009                             </td></tr>\n",
       "\t<tr><td>South Sudan                      </td><td>1980                             </td><td>2010                             </td></tr>\n",
       "\t<tr><td>Timor-Leste                      </td><td>1980                             </td><td>2001                             </td></tr>\n",
       "</tbody>\n",
       "</table>\n"
      ],
      "text/latex": [
       "\\begin{tabular}{r|lll}\n",
       " country & min\\_year & max\\_year\\\\\n",
       "\\hline\n",
       "\t Bonaire, Saint Eustatius and Saba & 1980                              & 2009                             \\\\\n",
       "\t Curacao                           & 1980                              & 2009                             \\\\\n",
       "\t Montenegro                        & 1980                              & 2004                             \\\\\n",
       "\t Netherlands Antilles              & 2010                              & 2013                             \\\\\n",
       "\t Serbia                            & 1980                              & 2004                             \\\\\n",
       "\t Serbia \\& Montenegro               & 2005                                & 2013                               \\\\\n",
       "\t Sint Maarten (Dutch part)         & 1980                              & 2009                             \\\\\n",
       "\t South Sudan                       & 1980                              & 2010                             \\\\\n",
       "\t Timor-Leste                       & 1980                              & 2001                             \\\\\n",
       "\\end{tabular}\n"
      ],
      "text/markdown": [
       "\n",
       "| country | min_year | max_year |\n",
       "|---|---|---|\n",
       "| Bonaire, Saint Eustatius and Saba | 1980                              | 2009                              |\n",
       "| Curacao                           | 1980                              | 2009                              |\n",
       "| Montenegro                        | 1980                              | 2004                              |\n",
       "| Netherlands Antilles              | 2010                              | 2013                              |\n",
       "| Serbia                            | 1980                              | 2004                              |\n",
       "| Serbia & Montenegro               | 2005                              | 2013                              |\n",
       "| Sint Maarten (Dutch part)         | 1980                              | 2009                              |\n",
       "| South Sudan                       | 1980                              | 2010                              |\n",
       "| Timor-Leste                       | 1980                              | 2001                              |\n",
       "\n"
      ],
      "text/plain": [
       "  country                           min_year max_year\n",
       "1 Bonaire, Saint Eustatius and Saba 1980     2009    \n",
       "2 Curacao                           1980     2009    \n",
       "3 Montenegro                        1980     2004    \n",
       "4 Netherlands Antilles              2010     2013    \n",
       "5 Serbia                            1980     2004    \n",
       "6 Serbia & Montenegro               2005     2013    \n",
       "7 Sint Maarten (Dutch part)         1980     2009    \n",
       "8 South Sudan                       1980     2010    \n",
       "9 Timor-Leste                       1980     2001    "
      ]
     },
     "metadata": {},
     "output_type": "display_data"
    }
   ],
   "source": [
    "country_year_implicit %>% group_by(country) %>% summarize(min_year = min(year), max_year = max(year))"
   ]
  },
  {
   "cell_type": "markdown",
   "metadata": {},
   "source": [
    "All of these refer to (country, year) combinations for years prior to the existence of the country. For example, Timor-Leste achieved independence in 2002, so years prior to that are not included in the data."
   ]
  },
  {
   "cell_type": "markdown",
   "metadata": {},
   "source": [
    "To summarize:\n",
    "\n",
    "- `0` is used to represent no cases of TB.\n",
    "- Explicit missing values (`NAs`) are used to represent missing data for (country, year) combinations in which the country existed in that year.\n",
    "- Implicit missing values are used to represent missing data because a country did not exist in that year."
   ]
  }
 ],
 "metadata": {
  "kernelspec": {
   "display_name": "R",
   "language": "R",
   "name": "ir"
  },
  "language_info": {
   "codemirror_mode": "r",
   "file_extension": ".r",
   "mimetype": "text/x-r-source",
   "name": "R",
   "pygments_lexer": "r",
   "version": "3.6.1"
  }
 },
 "nbformat": 4,
 "nbformat_minor": 2
}
