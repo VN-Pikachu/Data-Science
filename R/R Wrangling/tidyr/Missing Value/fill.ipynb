{
 "cells": [
  {
   "cell_type": "code",
   "execution_count": 2,
   "metadata": {},
   "outputs": [],
   "source": [
    "library(tidyverse)"
   ]
  },
  {
   "cell_type": "markdown",
   "metadata": {},
   "source": [
    "# Fill in missing values with previous or next value"
   ]
  },
  {
   "cell_type": "markdown",
   "metadata": {},
   "source": [
    "Fills missing values in selected columns using the next or previous entry. This is useful in the common output format where values are not repeated, and are only recorded when they change."
   ]
  },
  {
   "cell_type": "markdown",
   "metadata": {},
   "source": [
    "```r\n",
    "fill(data, ..., .direction = c(\"down\", \"up\", \"downup\", \"updown\"))\n",
    "```"
   ]
  },
  {
   "cell_type": "markdown",
   "metadata": {},
   "source": [
    "# Examples"
   ]
  },
  {
   "cell_type": "markdown",
   "metadata": {},
   "source": [
    "think of `foward fill` and `backward fill` in pandas"
   ]
  },
  {
   "cell_type": "code",
   "execution_count": 4,
   "metadata": {},
   "outputs": [
    {
     "data": {
      "text/html": [
       "<table>\n",
       "<thead><tr><th scope=col>x</th><th scope=col>y</th><th scope=col>z</th><th scope=col>t</th></tr></thead>\n",
       "<tbody>\n",
       "\t<tr><td>1 </td><td>a </td><td> 2</td><td>NA</td></tr>\n",
       "\t<tr><td>2 </td><td>b </td><td>NA</td><td>NA</td></tr>\n",
       "\t<tr><td>3 </td><td>c </td><td>NA</td><td>NA</td></tr>\n",
       "\t<tr><td>4 </td><td>d </td><td>NA</td><td> 5</td></tr>\n",
       "\t<tr><td>5 </td><td>e </td><td> 3</td><td> 2</td></tr>\n",
       "</tbody>\n",
       "</table>\n"
      ],
      "text/latex": [
       "\\begin{tabular}{r|llll}\n",
       " x & y & z & t\\\\\n",
       "\\hline\n",
       "\t 1  & a  &  2 & NA\\\\\n",
       "\t 2  & b  & NA & NA\\\\\n",
       "\t 3  & c  & NA & NA\\\\\n",
       "\t 4  & d  & NA &  5\\\\\n",
       "\t 5  & e  &  3 &  2\\\\\n",
       "\\end{tabular}\n"
      ],
      "text/markdown": [
       "\n",
       "| x | y | z | t |\n",
       "|---|---|---|---|\n",
       "| 1  | a  |  2 | NA |\n",
       "| 2  | b  | NA | NA |\n",
       "| 3  | c  | NA | NA |\n",
       "| 4  | d  | NA |  5 |\n",
       "| 5  | e  |  3 |  2 |\n",
       "\n"
      ],
      "text/plain": [
       "  x y z  t \n",
       "1 1 a  2 NA\n",
       "2 2 b NA NA\n",
       "3 3 c NA NA\n",
       "4 4 d NA  5\n",
       "5 5 e  3  2"
      ]
     },
     "metadata": {},
     "output_type": "display_data"
    }
   ],
   "source": [
    "df <- data.frame(\n",
    "    x = 1:5,\n",
    "    y =  letters[1:5],\n",
    "    z = c(2, NA, NA, NA, 3),\n",
    "    t = c(NA, NA, NA, 5, 2)\n",
    ")\n",
    "\n",
    "df"
   ]
  },
  {
   "cell_type": "code",
   "execution_count": 5,
   "metadata": {},
   "outputs": [
    {
     "data": {
      "text/html": [
       "<table>\n",
       "<thead><tr><th scope=col>x</th><th scope=col>y</th><th scope=col>z</th><th scope=col>t</th></tr></thead>\n",
       "<tbody>\n",
       "\t<tr><td>1 </td><td>a </td><td>2 </td><td>NA</td></tr>\n",
       "\t<tr><td>2 </td><td>b </td><td>3 </td><td>NA</td></tr>\n",
       "\t<tr><td>3 </td><td>c </td><td>3 </td><td>NA</td></tr>\n",
       "\t<tr><td>4 </td><td>d </td><td>3 </td><td> 5</td></tr>\n",
       "\t<tr><td>5 </td><td>e </td><td>3 </td><td> 2</td></tr>\n",
       "</tbody>\n",
       "</table>\n"
      ],
      "text/latex": [
       "\\begin{tabular}{r|llll}\n",
       " x & y & z & t\\\\\n",
       "\\hline\n",
       "\t 1  & a  & 2  & NA\\\\\n",
       "\t 2  & b  & 3  & NA\\\\\n",
       "\t 3  & c  & 3  & NA\\\\\n",
       "\t 4  & d  & 3  &  5\\\\\n",
       "\t 5  & e  & 3  &  2\\\\\n",
       "\\end{tabular}\n"
      ],
      "text/markdown": [
       "\n",
       "| x | y | z | t |\n",
       "|---|---|---|---|\n",
       "| 1  | a  | 2  | NA |\n",
       "| 2  | b  | 3  | NA |\n",
       "| 3  | c  | 3  | NA |\n",
       "| 4  | d  | 3  |  5 |\n",
       "| 5  | e  | 3  |  2 |\n",
       "\n"
      ],
      "text/plain": [
       "  x y z t \n",
       "1 1 a 2 NA\n",
       "2 2 b 3 NA\n",
       "3 3 c 3 NA\n",
       "4 4 d 3  5\n",
       "5 5 e 3  2"
      ]
     },
     "metadata": {},
     "output_type": "display_data"
    }
   ],
   "source": [
    "#Fill NA values in column z with backward fill\n",
    "df %>% fill(z, .direction = 'up')"
   ]
  },
  {
   "cell_type": "code",
   "execution_count": 6,
   "metadata": {},
   "outputs": [
    {
     "data": {
      "text/html": [
       "<table>\n",
       "<thead><tr><th scope=col>x</th><th scope=col>y</th><th scope=col>z</th><th scope=col>t</th></tr></thead>\n",
       "<tbody>\n",
       "\t<tr><td>1</td><td>a</td><td>2</td><td>5</td></tr>\n",
       "\t<tr><td>2</td><td>b</td><td>3</td><td>5</td></tr>\n",
       "\t<tr><td>3</td><td>c</td><td>3</td><td>5</td></tr>\n",
       "\t<tr><td>4</td><td>d</td><td>3</td><td>5</td></tr>\n",
       "\t<tr><td>5</td><td>e</td><td>3</td><td>2</td></tr>\n",
       "</tbody>\n",
       "</table>\n"
      ],
      "text/latex": [
       "\\begin{tabular}{r|llll}\n",
       " x & y & z & t\\\\\n",
       "\\hline\n",
       "\t 1 & a & 2 & 5\\\\\n",
       "\t 2 & b & 3 & 5\\\\\n",
       "\t 3 & c & 3 & 5\\\\\n",
       "\t 4 & d & 3 & 5\\\\\n",
       "\t 5 & e & 3 & 2\\\\\n",
       "\\end{tabular}\n"
      ],
      "text/markdown": [
       "\n",
       "| x | y | z | t |\n",
       "|---|---|---|---|\n",
       "| 1 | a | 2 | 5 |\n",
       "| 2 | b | 3 | 5 |\n",
       "| 3 | c | 3 | 5 |\n",
       "| 4 | d | 3 | 5 |\n",
       "| 5 | e | 3 | 2 |\n",
       "\n"
      ],
      "text/plain": [
       "  x y z t\n",
       "1 1 a 2 5\n",
       "2 2 b 3 5\n",
       "3 3 c 3 5\n",
       "4 4 d 3 5\n",
       "5 5 e 3 2"
      ]
     },
     "metadata": {},
     "output_type": "display_data"
    }
   ],
   "source": [
    "# tidy-select, fill every column\n",
    "df %>% fill(everything(), .direction = 'up')"
   ]
  },
  {
   "cell_type": "code",
   "execution_count": 19,
   "metadata": {},
   "outputs": [
    {
     "data": {
      "text/html": [
       "<table>\n",
       "<thead><tr><th scope=col>x</th><th scope=col>y</th><th scope=col>z</th><th scope=col>t</th></tr></thead>\n",
       "<tbody>\n",
       "\t<tr><td>1 </td><td>a </td><td>2 </td><td>NA</td></tr>\n",
       "\t<tr><td>2 </td><td>b </td><td>2 </td><td>NA</td></tr>\n",
       "\t<tr><td>3 </td><td>c </td><td>2 </td><td>NA</td></tr>\n",
       "\t<tr><td>4 </td><td>d </td><td>2 </td><td> 5</td></tr>\n",
       "\t<tr><td>5 </td><td>e </td><td>3 </td><td> 2</td></tr>\n",
       "</tbody>\n",
       "</table>\n"
      ],
      "text/latex": [
       "\\begin{tabular}{r|llll}\n",
       " x & y & z & t\\\\\n",
       "\\hline\n",
       "\t 1  & a  & 2  & NA\\\\\n",
       "\t 2  & b  & 2  & NA\\\\\n",
       "\t 3  & c  & 2  & NA\\\\\n",
       "\t 4  & d  & 2  &  5\\\\\n",
       "\t 5  & e  & 3  &  2\\\\\n",
       "\\end{tabular}\n"
      ],
      "text/markdown": [
       "\n",
       "| x | y | z | t |\n",
       "|---|---|---|---|\n",
       "| 1  | a  | 2  | NA |\n",
       "| 2  | b  | 2  | NA |\n",
       "| 3  | c  | 2  | NA |\n",
       "| 4  | d  | 2  |  5 |\n",
       "| 5  | e  | 3  |  2 |\n",
       "\n"
      ],
      "text/plain": [
       "  x y z t \n",
       "1 1 a 2 NA\n",
       "2 2 b 2 NA\n",
       "3 3 c 2 NA\n",
       "4 4 d 2  5\n",
       "5 5 e 3  2"
      ]
     },
     "metadata": {},
     "output_type": "display_data"
    }
   ],
   "source": [
    "#fill NA in column z with forward fill\n",
    "df %>% fill(z, .direction = 'down')"
   ]
  },
  {
   "cell_type": "code",
   "execution_count": 20,
   "metadata": {},
   "outputs": [
    {
     "data": {
      "text/html": [
       "<table>\n",
       "<thead><tr><th scope=col>x</th><th scope=col>y</th><th scope=col>z</th><th scope=col>t</th></tr></thead>\n",
       "<tbody>\n",
       "\t<tr><td>1 </td><td>a </td><td>2 </td><td>NA</td></tr>\n",
       "\t<tr><td>2 </td><td>b </td><td>2 </td><td>NA</td></tr>\n",
       "\t<tr><td>3 </td><td>c </td><td>2 </td><td>NA</td></tr>\n",
       "\t<tr><td>4 </td><td>d </td><td>2 </td><td> 5</td></tr>\n",
       "\t<tr><td>5 </td><td>e </td><td>3 </td><td> 2</td></tr>\n",
       "</tbody>\n",
       "</table>\n"
      ],
      "text/latex": [
       "\\begin{tabular}{r|llll}\n",
       " x & y & z & t\\\\\n",
       "\\hline\n",
       "\t 1  & a  & 2  & NA\\\\\n",
       "\t 2  & b  & 2  & NA\\\\\n",
       "\t 3  & c  & 2  & NA\\\\\n",
       "\t 4  & d  & 2  &  5\\\\\n",
       "\t 5  & e  & 3  &  2\\\\\n",
       "\\end{tabular}\n"
      ],
      "text/markdown": [
       "\n",
       "| x | y | z | t |\n",
       "|---|---|---|---|\n",
       "| 1  | a  | 2  | NA |\n",
       "| 2  | b  | 2  | NA |\n",
       "| 3  | c  | 2  | NA |\n",
       "| 4  | d  | 2  |  5 |\n",
       "| 5  | e  | 3  |  2 |\n",
       "\n"
      ],
      "text/plain": [
       "  x y z t \n",
       "1 1 a 2 NA\n",
       "2 2 b 2 NA\n",
       "3 3 c 2 NA\n",
       "4 4 d 2  5\n",
       "5 5 e 3  2"
      ]
     },
     "metadata": {},
     "output_type": "display_data"
    }
   ],
   "source": [
    "#first down then up\n",
    "df %>% fill(z, .direction = 'downup')"
   ]
  },
  {
   "cell_type": "code",
   "execution_count": 21,
   "metadata": {},
   "outputs": [
    {
     "data": {
      "text/html": [
       "<table>\n",
       "<thead><tr><th scope=col>x</th><th scope=col>y</th><th scope=col>z</th><th scope=col>t</th></tr></thead>\n",
       "<tbody>\n",
       "\t<tr><td>1 </td><td>a </td><td>2 </td><td>NA</td></tr>\n",
       "\t<tr><td>2 </td><td>b </td><td>3 </td><td>NA</td></tr>\n",
       "\t<tr><td>3 </td><td>c </td><td>3 </td><td>NA</td></tr>\n",
       "\t<tr><td>4 </td><td>d </td><td>3 </td><td> 5</td></tr>\n",
       "\t<tr><td>5 </td><td>e </td><td>3 </td><td> 2</td></tr>\n",
       "</tbody>\n",
       "</table>\n"
      ],
      "text/latex": [
       "\\begin{tabular}{r|llll}\n",
       " x & y & z & t\\\\\n",
       "\\hline\n",
       "\t 1  & a  & 2  & NA\\\\\n",
       "\t 2  & b  & 3  & NA\\\\\n",
       "\t 3  & c  & 3  & NA\\\\\n",
       "\t 4  & d  & 3  &  5\\\\\n",
       "\t 5  & e  & 3  &  2\\\\\n",
       "\\end{tabular}\n"
      ],
      "text/markdown": [
       "\n",
       "| x | y | z | t |\n",
       "|---|---|---|---|\n",
       "| 1  | a  | 2  | NA |\n",
       "| 2  | b  | 3  | NA |\n",
       "| 3  | c  | 3  | NA |\n",
       "| 4  | d  | 3  |  5 |\n",
       "| 5  | e  | 3  |  2 |\n",
       "\n"
      ],
      "text/plain": [
       "  x y z t \n",
       "1 1 a 2 NA\n",
       "2 2 b 3 NA\n",
       "3 3 c 3 NA\n",
       "4 4 d 3  5\n",
       "5 5 e 3  2"
      ]
     },
     "metadata": {},
     "output_type": "display_data"
    }
   ],
   "source": [
    "#first up then down\n",
    "df %>% fill(z, .direction = 'updown')"
   ]
  }
 ],
 "metadata": {
  "kernelspec": {
   "display_name": "R",
   "language": "R",
   "name": "ir"
  },
  "language_info": {
   "codemirror_mode": "r",
   "file_extension": ".r",
   "mimetype": "text/x-r-source",
   "name": "R",
   "pygments_lexer": "r",
   "version": "3.6.1"
  }
 },
 "nbformat": 4,
 "nbformat_minor": 2
}
