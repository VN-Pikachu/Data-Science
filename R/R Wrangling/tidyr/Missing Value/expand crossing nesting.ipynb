{
 "cells": [
  {
   "cell_type": "code",
   "execution_count": 3,
   "metadata": {},
   "outputs": [],
   "source": [
    "library(tidyverse)"
   ]
  },
  {
   "cell_type": "markdown",
   "metadata": {},
   "source": [
    "# Expand data frame to include all possible combinations of values"
   ]
  },
  {
   "cell_type": "markdown",
   "metadata": {},
   "source": [
    "`expand()` generates all combination of variables found in a dataset. It is paired with `nesting()` and `crossing()` helpers. `crossing()` is a wrapper around `expand_grid()` that de-duplicates and sorts its inputs; `nesting()` is a helper that only finds combinations already present in the data."
   ]
  },
  {
   "cell_type": "markdown",
   "metadata": {},
   "source": [
    "**`expand()`** is often useful in conjunction with joins:\n",
    "\n",
    "* use it with `right_join()` to convert implicit missing values to explicit missing values (e.g., fill in gaps in your data frame).\n",
    "\n",
    "* use it with `anti_join()` to figure out which combinations are missing (e.g., identify gaps in your data frame)."
   ]
  },
  {
   "cell_type": "markdown",
   "metadata": {},
   "source": [
    "```r\n",
    "expand(data, ..., .name_repair = \"check_unique\")\n",
    "\n",
    "crossing(..., .name_repair = \"check_unique\")\n",
    "\n",
    "nesting(..., .name_repair = \"check_unique\")\n",
    "```"
   ]
  },
  {
   "cell_type": "markdown",
   "metadata": {},
   "source": [
    "# Examples"
   ]
  },
  {
   "cell_type": "code",
   "execution_count": 4,
   "metadata": {},
   "outputs": [
    {
     "data": {
      "text/html": [
       "<table>\n",
       "<thead><tr><th scope=col>type</th><th scope=col>year</th><th scope=col>size</th><th scope=col>weights</th></tr></thead>\n",
       "<tbody>\n",
       "\t<tr><td>apple   </td><td>2010    </td><td>XS      </td><td>3.807436</td></tr>\n",
       "\t<tr><td>orange  </td><td>2010    </td><td>S       </td><td>4.212495</td></tr>\n",
       "\t<tr><td>apple   </td><td>2012    </td><td>M       </td><td>3.103962</td></tr>\n",
       "\t<tr><td>orange  </td><td>2010    </td><td>S       </td><td>3.551894</td></tr>\n",
       "\t<tr><td>orange  </td><td>2010    </td><td>S       </td><td>1.831740</td></tr>\n",
       "\t<tr><td>orange  </td><td>2012    </td><td>M       </td><td>3.623320</td></tr>\n",
       "</tbody>\n",
       "</table>\n"
      ],
      "text/latex": [
       "\\begin{tabular}{r|llll}\n",
       " type & year & size & weights\\\\\n",
       "\\hline\n",
       "\t apple    & 2010     & XS       & 3.807436\\\\\n",
       "\t orange   & 2010     & S        & 4.212495\\\\\n",
       "\t apple    & 2012     & M        & 3.103962\\\\\n",
       "\t orange   & 2010     & S        & 3.551894\\\\\n",
       "\t orange   & 2010     & S        & 1.831740\\\\\n",
       "\t orange   & 2012     & M        & 3.623320\\\\\n",
       "\\end{tabular}\n"
      ],
      "text/markdown": [
       "\n",
       "| type | year | size | weights |\n",
       "|---|---|---|---|\n",
       "| apple    | 2010     | XS       | 3.807436 |\n",
       "| orange   | 2010     | S        | 4.212495 |\n",
       "| apple    | 2012     | M        | 3.103962 |\n",
       "| orange   | 2010     | S        | 3.551894 |\n",
       "| orange   | 2010     | S        | 1.831740 |\n",
       "| orange   | 2012     | M        | 3.623320 |\n",
       "\n"
      ],
      "text/plain": [
       "  type   year size weights \n",
       "1 apple  2010 XS   3.807436\n",
       "2 orange 2010 S    4.212495\n",
       "3 apple  2012 M    3.103962\n",
       "4 orange 2010 S    3.551894\n",
       "5 orange 2010 S    1.831740\n",
       "6 orange 2012 M    3.623320"
      ]
     },
     "metadata": {},
     "output_type": "display_data"
    }
   ],
   "source": [
    "fruits <- tibble(\n",
    "  type   = c(\"apple\", \"orange\", \"apple\", \"orange\", \"orange\", \"orange\"),\n",
    "  year   = c(2010, 2010, 2012, 2010, 2010, 2012),\n",
    "  size  =  factor(\n",
    "    c(\"XS\", \"S\",  \"M\", \"S\", \"S\", \"M\"),\n",
    "    levels = c(\"XS\", \"S\", \"M\", \"L\")\n",
    "  ),\n",
    "  weights = rnorm(6, as.numeric(size) + 2)\n",
    ")\n",
    "\n",
    "fruits"
   ]
  },
  {
   "cell_type": "code",
   "execution_count": 6,
   "metadata": {},
   "outputs": [
    {
     "data": {
      "text/html": [
       "<table>\n",
       "<thead><tr><th scope=col>type</th></tr></thead>\n",
       "<tbody>\n",
       "\t<tr><td>apple </td></tr>\n",
       "\t<tr><td>orange</td></tr>\n",
       "</tbody>\n",
       "</table>\n"
      ],
      "text/latex": [
       "\\begin{tabular}{r|l}\n",
       " type\\\\\n",
       "\\hline\n",
       "\t apple \\\\\n",
       "\t orange\\\\\n",
       "\\end{tabular}\n"
      ],
      "text/markdown": [
       "\n",
       "| type |\n",
       "|---|\n",
       "| apple  |\n",
       "| orange |\n",
       "\n"
      ],
      "text/plain": [
       "  type  \n",
       "1 apple \n",
       "2 orange"
      ]
     },
     "metadata": {},
     "output_type": "display_data"
    }
   ],
   "source": [
    "# All possible combinations ---------------------------------------\n",
    "# Note that all defined, but not necessarily present, levels of the\n",
    "# factor variable `size` are retained.\n",
    "\n",
    "fruits %>% expand(type)"
   ]
  },
  {
   "cell_type": "code",
   "execution_count": 12,
   "metadata": {},
   "outputs": [
    {
     "data": {
      "text/html": [
       "<table>\n",
       "<thead><tr><th scope=col>type</th><th scope=col>size</th></tr></thead>\n",
       "<tbody>\n",
       "\t<tr><td>apple </td><td>XS    </td></tr>\n",
       "\t<tr><td>apple </td><td>S     </td></tr>\n",
       "\t<tr><td>apple </td><td>M     </td></tr>\n",
       "\t<tr><td>apple </td><td>L     </td></tr>\n",
       "\t<tr><td>orange</td><td>XS    </td></tr>\n",
       "\t<tr><td>orange</td><td>S     </td></tr>\n",
       "\t<tr><td>orange</td><td>M     </td></tr>\n",
       "\t<tr><td>orange</td><td>L     </td></tr>\n",
       "</tbody>\n",
       "</table>\n"
      ],
      "text/latex": [
       "\\begin{tabular}{r|ll}\n",
       " type & size\\\\\n",
       "\\hline\n",
       "\t apple  & XS    \\\\\n",
       "\t apple  & S     \\\\\n",
       "\t apple  & M     \\\\\n",
       "\t apple  & L     \\\\\n",
       "\t orange & XS    \\\\\n",
       "\t orange & S     \\\\\n",
       "\t orange & M     \\\\\n",
       "\t orange & L     \\\\\n",
       "\\end{tabular}\n"
      ],
      "text/markdown": [
       "\n",
       "| type | size |\n",
       "|---|---|\n",
       "| apple  | XS     |\n",
       "| apple  | S      |\n",
       "| apple  | M      |\n",
       "| apple  | L      |\n",
       "| orange | XS     |\n",
       "| orange | S      |\n",
       "| orange | M      |\n",
       "| orange | L      |\n",
       "\n"
      ],
      "text/plain": [
       "  type   size\n",
       "1 apple  XS  \n",
       "2 apple  S   \n",
       "3 apple  M   \n",
       "4 apple  L   \n",
       "5 orange XS  \n",
       "6 orange S   \n",
       "7 orange M   \n",
       "8 orange L   "
      ]
     },
     "metadata": {},
     "output_type": "display_data"
    }
   ],
   "source": [
    "#create by product of unique values from 2 columns\n",
    "#e.g: if `type` has 2 unique value 1, 2\n",
    "#e.:     `size` has 2 unique value 3, 4\n",
    "#Then the result is (1, 3), (1, 4), (2, 3), (2, 4)\n",
    "\n",
    "#Think of: itertools.product(fruits['type'], fruits['size'])\n",
    "\n",
    "fruits %>% expand(type, size)"
   ]
  },
  {
   "cell_type": "code",
   "execution_count": 8,
   "metadata": {},
   "outputs": [
    {
     "data": {
      "text/html": [
       "<table>\n",
       "<thead><tr><th scope=col>type</th><th scope=col>size</th><th scope=col>year</th></tr></thead>\n",
       "<tbody>\n",
       "\t<tr><td>apple </td><td>XS    </td><td>2010  </td></tr>\n",
       "\t<tr><td>apple </td><td>XS    </td><td>2012  </td></tr>\n",
       "\t<tr><td>apple </td><td>S     </td><td>2010  </td></tr>\n",
       "\t<tr><td>apple </td><td>S     </td><td>2012  </td></tr>\n",
       "\t<tr><td>apple </td><td>M     </td><td>2010  </td></tr>\n",
       "\t<tr><td>apple </td><td>M     </td><td>2012  </td></tr>\n",
       "\t<tr><td>apple </td><td>L     </td><td>2010  </td></tr>\n",
       "\t<tr><td>apple </td><td>L     </td><td>2012  </td></tr>\n",
       "\t<tr><td>orange</td><td>XS    </td><td>2010  </td></tr>\n",
       "\t<tr><td>orange</td><td>XS    </td><td>2012  </td></tr>\n",
       "\t<tr><td>orange</td><td>S     </td><td>2010  </td></tr>\n",
       "\t<tr><td>orange</td><td>S     </td><td>2012  </td></tr>\n",
       "\t<tr><td>orange</td><td>M     </td><td>2010  </td></tr>\n",
       "\t<tr><td>orange</td><td>M     </td><td>2012  </td></tr>\n",
       "\t<tr><td>orange</td><td>L     </td><td>2010  </td></tr>\n",
       "\t<tr><td>orange</td><td>L     </td><td>2012  </td></tr>\n",
       "</tbody>\n",
       "</table>\n"
      ],
      "text/latex": [
       "\\begin{tabular}{r|lll}\n",
       " type & size & year\\\\\n",
       "\\hline\n",
       "\t apple  & XS     & 2010  \\\\\n",
       "\t apple  & XS     & 2012  \\\\\n",
       "\t apple  & S      & 2010  \\\\\n",
       "\t apple  & S      & 2012  \\\\\n",
       "\t apple  & M      & 2010  \\\\\n",
       "\t apple  & M      & 2012  \\\\\n",
       "\t apple  & L      & 2010  \\\\\n",
       "\t apple  & L      & 2012  \\\\\n",
       "\t orange & XS     & 2010  \\\\\n",
       "\t orange & XS     & 2012  \\\\\n",
       "\t orange & S      & 2010  \\\\\n",
       "\t orange & S      & 2012  \\\\\n",
       "\t orange & M      & 2010  \\\\\n",
       "\t orange & M      & 2012  \\\\\n",
       "\t orange & L      & 2010  \\\\\n",
       "\t orange & L      & 2012  \\\\\n",
       "\\end{tabular}\n"
      ],
      "text/markdown": [
       "\n",
       "| type | size | year |\n",
       "|---|---|---|\n",
       "| apple  | XS     | 2010   |\n",
       "| apple  | XS     | 2012   |\n",
       "| apple  | S      | 2010   |\n",
       "| apple  | S      | 2012   |\n",
       "| apple  | M      | 2010   |\n",
       "| apple  | M      | 2012   |\n",
       "| apple  | L      | 2010   |\n",
       "| apple  | L      | 2012   |\n",
       "| orange | XS     | 2010   |\n",
       "| orange | XS     | 2012   |\n",
       "| orange | S      | 2010   |\n",
       "| orange | S      | 2012   |\n",
       "| orange | M      | 2010   |\n",
       "| orange | M      | 2012   |\n",
       "| orange | L      | 2010   |\n",
       "| orange | L      | 2012   |\n",
       "\n"
      ],
      "text/plain": [
       "   type   size year\n",
       "1  apple  XS   2010\n",
       "2  apple  XS   2012\n",
       "3  apple  S    2010\n",
       "4  apple  S    2012\n",
       "5  apple  M    2010\n",
       "6  apple  M    2012\n",
       "7  apple  L    2010\n",
       "8  apple  L    2012\n",
       "9  orange XS   2010\n",
       "10 orange XS   2012\n",
       "11 orange S    2010\n",
       "12 orange S    2012\n",
       "13 orange M    2010\n",
       "14 orange M    2012\n",
       "15 orange L    2010\n",
       "16 orange L    2012"
      ]
     },
     "metadata": {},
     "output_type": "display_data"
    }
   ],
   "source": [
    "fruits %>% expand(type, size, year)"
   ]
  },
  {
   "cell_type": "code",
   "execution_count": 9,
   "metadata": {},
   "outputs": [
    {
     "data": {
      "text/html": [
       "<table>\n",
       "<thead><tr><th scope=col>type</th></tr></thead>\n",
       "<tbody>\n",
       "\t<tr><td>apple </td></tr>\n",
       "\t<tr><td>orange</td></tr>\n",
       "</tbody>\n",
       "</table>\n"
      ],
      "text/latex": [
       "\\begin{tabular}{r|l}\n",
       " type\\\\\n",
       "\\hline\n",
       "\t apple \\\\\n",
       "\t orange\\\\\n",
       "\\end{tabular}\n"
      ],
      "text/markdown": [
       "\n",
       "| type |\n",
       "|---|\n",
       "| apple  |\n",
       "| orange |\n",
       "\n"
      ],
      "text/plain": [
       "  type  \n",
       "1 apple \n",
       "2 orange"
      ]
     },
     "metadata": {},
     "output_type": "display_data"
    }
   ],
   "source": [
    "# Only combinations that already appear in the data ---------------\n",
    "fruits %>% expand(nesting(type))"
   ]
  },
  {
   "cell_type": "code",
   "execution_count": 13,
   "metadata": {},
   "outputs": [
    {
     "data": {
      "text/html": [
       "<table>\n",
       "<thead><tr><th scope=col>type</th><th scope=col>size</th></tr></thead>\n",
       "<tbody>\n",
       "\t<tr><td>apple </td><td>XS    </td></tr>\n",
       "\t<tr><td>apple </td><td>M     </td></tr>\n",
       "\t<tr><td>orange</td><td>S     </td></tr>\n",
       "\t<tr><td>orange</td><td>M     </td></tr>\n",
       "</tbody>\n",
       "</table>\n"
      ],
      "text/latex": [
       "\\begin{tabular}{r|ll}\n",
       " type & size\\\\\n",
       "\\hline\n",
       "\t apple  & XS    \\\\\n",
       "\t apple  & M     \\\\\n",
       "\t orange & S     \\\\\n",
       "\t orange & M     \\\\\n",
       "\\end{tabular}\n"
      ],
      "text/markdown": [
       "\n",
       "| type | size |\n",
       "|---|---|\n",
       "| apple  | XS     |\n",
       "| apple  | M      |\n",
       "| orange | S      |\n",
       "| orange | M      |\n",
       "\n"
      ],
      "text/plain": [
       "  type   size\n",
       "1 apple  XS  \n",
       "2 apple  M   \n",
       "3 orange S   \n",
       "4 orange M   "
      ]
     },
     "metadata": {},
     "output_type": "display_data"
    }
   ],
   "source": [
    "\n",
    "fruits %>% expand(nesting(type, size))"
   ]
  },
  {
   "cell_type": "code",
   "execution_count": 15,
   "metadata": {},
   "outputs": [
    {
     "data": {
      "text/html": [
       "<table>\n",
       "<thead><tr><th scope=col>type</th><th scope=col>size</th><th scope=col>n</th></tr></thead>\n",
       "<tbody>\n",
       "\t<tr><td>apple </td><td>XS    </td><td>1     </td></tr>\n",
       "\t<tr><td>apple </td><td>M     </td><td>1     </td></tr>\n",
       "\t<tr><td>orange</td><td>S     </td><td>3     </td></tr>\n",
       "\t<tr><td>orange</td><td>M     </td><td>1     </td></tr>\n",
       "</tbody>\n",
       "</table>\n"
      ],
      "text/latex": [
       "\\begin{tabular}{r|lll}\n",
       " type & size & n\\\\\n",
       "\\hline\n",
       "\t apple  & XS     & 1     \\\\\n",
       "\t apple  & M      & 1     \\\\\n",
       "\t orange & S      & 3     \\\\\n",
       "\t orange & M      & 1     \\\\\n",
       "\\end{tabular}\n"
      ],
      "text/markdown": [
       "\n",
       "| type | size | n |\n",
       "|---|---|---|\n",
       "| apple  | XS     | 1      |\n",
       "| apple  | M      | 1      |\n",
       "| orange | S      | 3      |\n",
       "| orange | M      | 1      |\n",
       "\n"
      ],
      "text/plain": [
       "  type   size n\n",
       "1 apple  XS   1\n",
       "2 apple  M    1\n",
       "3 orange S    3\n",
       "4 orange M    1"
      ]
     },
     "metadata": {},
     "output_type": "display_data"
    }
   ],
   "source": [
    "#think of using count\n",
    "fruits %>% count(type, size)"
   ]
  },
  {
   "cell_type": "code",
   "execution_count": 16,
   "metadata": {},
   "outputs": [
    {
     "data": {
      "text/html": [
       "<table>\n",
       "<thead><tr><th scope=col>type</th><th scope=col>size</th><th scope=col>year</th></tr></thead>\n",
       "<tbody>\n",
       "\t<tr><td>apple </td><td>XS    </td><td>2010  </td></tr>\n",
       "\t<tr><td>apple </td><td>M     </td><td>2012  </td></tr>\n",
       "\t<tr><td>orange</td><td>S     </td><td>2010  </td></tr>\n",
       "\t<tr><td>orange</td><td>M     </td><td>2012  </td></tr>\n",
       "</tbody>\n",
       "</table>\n"
      ],
      "text/latex": [
       "\\begin{tabular}{r|lll}\n",
       " type & size & year\\\\\n",
       "\\hline\n",
       "\t apple  & XS     & 2010  \\\\\n",
       "\t apple  & M      & 2012  \\\\\n",
       "\t orange & S      & 2010  \\\\\n",
       "\t orange & M      & 2012  \\\\\n",
       "\\end{tabular}\n"
      ],
      "text/markdown": [
       "\n",
       "| type | size | year |\n",
       "|---|---|---|\n",
       "| apple  | XS     | 2010   |\n",
       "| apple  | M      | 2012   |\n",
       "| orange | S      | 2010   |\n",
       "| orange | M      | 2012   |\n",
       "\n"
      ],
      "text/plain": [
       "  type   size year\n",
       "1 apple  XS   2010\n",
       "2 apple  M    2012\n",
       "3 orange S    2010\n",
       "4 orange M    2012"
      ]
     },
     "metadata": {},
     "output_type": "display_data"
    }
   ],
   "source": [
    "fruits %>% expand(nesting(type, size, year))"
   ]
  },
  {
   "cell_type": "code",
   "execution_count": 18,
   "metadata": {},
   "outputs": [
    {
     "data": {
      "text/html": [
       "<table>\n",
       "<thead><tr><th scope=col>type</th><th scope=col>size</th><th scope=col>full_seq(year, 1)</th></tr></thead>\n",
       "<tbody>\n",
       "\t<tr><td>apple </td><td>XS    </td><td>2010  </td></tr>\n",
       "\t<tr><td>apple </td><td>XS    </td><td>2011  </td></tr>\n",
       "\t<tr><td>apple </td><td>XS    </td><td>2012  </td></tr>\n",
       "\t<tr><td>apple </td><td>S     </td><td>2010  </td></tr>\n",
       "\t<tr><td>apple </td><td>S     </td><td>2011  </td></tr>\n",
       "\t<tr><td>apple </td><td>S     </td><td>2012  </td></tr>\n",
       "\t<tr><td>apple </td><td>M     </td><td>2010  </td></tr>\n",
       "\t<tr><td>apple </td><td>M     </td><td>2011  </td></tr>\n",
       "\t<tr><td>apple </td><td>M     </td><td>2012  </td></tr>\n",
       "\t<tr><td>apple </td><td>L     </td><td>2010  </td></tr>\n",
       "\t<tr><td>apple </td><td>L     </td><td>2011  </td></tr>\n",
       "\t<tr><td>apple </td><td>L     </td><td>2012  </td></tr>\n",
       "\t<tr><td>orange</td><td>XS    </td><td>2010  </td></tr>\n",
       "\t<tr><td>orange</td><td>XS    </td><td>2011  </td></tr>\n",
       "\t<tr><td>orange</td><td>XS    </td><td>2012  </td></tr>\n",
       "\t<tr><td>orange</td><td>S     </td><td>2010  </td></tr>\n",
       "\t<tr><td>orange</td><td>S     </td><td>2011  </td></tr>\n",
       "\t<tr><td>orange</td><td>S     </td><td>2012  </td></tr>\n",
       "\t<tr><td>orange</td><td>M     </td><td>2010  </td></tr>\n",
       "\t<tr><td>orange</td><td>M     </td><td>2011  </td></tr>\n",
       "\t<tr><td>orange</td><td>M     </td><td>2012  </td></tr>\n",
       "\t<tr><td>orange</td><td>L     </td><td>2010  </td></tr>\n",
       "\t<tr><td>orange</td><td>L     </td><td>2011  </td></tr>\n",
       "\t<tr><td>orange</td><td>L     </td><td>2012  </td></tr>\n",
       "</tbody>\n",
       "</table>\n"
      ],
      "text/latex": [
       "\\begin{tabular}{r|lll}\n",
       " type & size & full\\_seq(year, 1)\\\\\n",
       "\\hline\n",
       "\t apple  & XS     & 2010  \\\\\n",
       "\t apple  & XS     & 2011  \\\\\n",
       "\t apple  & XS     & 2012  \\\\\n",
       "\t apple  & S      & 2010  \\\\\n",
       "\t apple  & S      & 2011  \\\\\n",
       "\t apple  & S      & 2012  \\\\\n",
       "\t apple  & M      & 2010  \\\\\n",
       "\t apple  & M      & 2011  \\\\\n",
       "\t apple  & M      & 2012  \\\\\n",
       "\t apple  & L      & 2010  \\\\\n",
       "\t apple  & L      & 2011  \\\\\n",
       "\t apple  & L      & 2012  \\\\\n",
       "\t orange & XS     & 2010  \\\\\n",
       "\t orange & XS     & 2011  \\\\\n",
       "\t orange & XS     & 2012  \\\\\n",
       "\t orange & S      & 2010  \\\\\n",
       "\t orange & S      & 2011  \\\\\n",
       "\t orange & S      & 2012  \\\\\n",
       "\t orange & M      & 2010  \\\\\n",
       "\t orange & M      & 2011  \\\\\n",
       "\t orange & M      & 2012  \\\\\n",
       "\t orange & L      & 2010  \\\\\n",
       "\t orange & L      & 2011  \\\\\n",
       "\t orange & L      & 2012  \\\\\n",
       "\\end{tabular}\n"
      ],
      "text/markdown": [
       "\n",
       "| type | size | full_seq(year, 1) |\n",
       "|---|---|---|\n",
       "| apple  | XS     | 2010   |\n",
       "| apple  | XS     | 2011   |\n",
       "| apple  | XS     | 2012   |\n",
       "| apple  | S      | 2010   |\n",
       "| apple  | S      | 2011   |\n",
       "| apple  | S      | 2012   |\n",
       "| apple  | M      | 2010   |\n",
       "| apple  | M      | 2011   |\n",
       "| apple  | M      | 2012   |\n",
       "| apple  | L      | 2010   |\n",
       "| apple  | L      | 2011   |\n",
       "| apple  | L      | 2012   |\n",
       "| orange | XS     | 2010   |\n",
       "| orange | XS     | 2011   |\n",
       "| orange | XS     | 2012   |\n",
       "| orange | S      | 2010   |\n",
       "| orange | S      | 2011   |\n",
       "| orange | S      | 2012   |\n",
       "| orange | M      | 2010   |\n",
       "| orange | M      | 2011   |\n",
       "| orange | M      | 2012   |\n",
       "| orange | L      | 2010   |\n",
       "| orange | L      | 2011   |\n",
       "| orange | L      | 2012   |\n",
       "\n"
      ],
      "text/plain": [
       "   type   size full_seq(year, 1)\n",
       "1  apple  XS   2010             \n",
       "2  apple  XS   2011             \n",
       "3  apple  XS   2012             \n",
       "4  apple  S    2010             \n",
       "5  apple  S    2011             \n",
       "6  apple  S    2012             \n",
       "7  apple  M    2010             \n",
       "8  apple  M    2011             \n",
       "9  apple  M    2012             \n",
       "10 apple  L    2010             \n",
       "11 apple  L    2011             \n",
       "12 apple  L    2012             \n",
       "13 orange XS   2010             \n",
       "14 orange XS   2011             \n",
       "15 orange XS   2012             \n",
       "16 orange S    2010             \n",
       "17 orange S    2011             \n",
       "18 orange S    2012             \n",
       "19 orange M    2010             \n",
       "20 orange M    2011             \n",
       "21 orange M    2012             \n",
       "22 orange L    2010             \n",
       "23 orange L    2011             \n",
       "24 orange L    2012             "
      ]
     },
     "metadata": {},
     "output_type": "display_data"
    }
   ],
   "source": [
    "# Other uses -------------------------------------------------------\n",
    "# Use with `full_seq()` to fill in values of continuous variables\n",
    "\n",
    "\n",
    "#intertools.product(fruits['type'], fruits['size'], full_seq(fruits['year'], 1))\n",
    "fruits %>% expand(type, size, full_seq(year, 1))"
   ]
  },
  {
   "cell_type": "code",
   "execution_count": 19,
   "metadata": {},
   "outputs": [],
   "source": [
    "# Use `anti_join()` to determine which observations are missing"
   ]
  },
  {
   "cell_type": "code",
   "execution_count": 23,
   "metadata": {},
   "outputs": [
    {
     "name": "stderr",
     "output_type": "stream",
     "text": [
      "Joining, by = c(\"type\", \"size\", \"year\")\n"
     ]
    },
    {
     "data": {
      "text/html": [
       "<table>\n",
       "<thead><tr><th scope=col>type</th><th scope=col>size</th><th scope=col>year</th></tr></thead>\n",
       "<tbody>\n",
       "\t<tr><td>apple </td><td>XS    </td><td>2012  </td></tr>\n",
       "\t<tr><td>apple </td><td>S     </td><td>2010  </td></tr>\n",
       "\t<tr><td>apple </td><td>S     </td><td>2012  </td></tr>\n",
       "\t<tr><td>apple </td><td>M     </td><td>2010  </td></tr>\n",
       "\t<tr><td>apple </td><td>L     </td><td>2010  </td></tr>\n",
       "\t<tr><td>apple </td><td>L     </td><td>2012  </td></tr>\n",
       "\t<tr><td>orange</td><td>XS    </td><td>2010  </td></tr>\n",
       "\t<tr><td>orange</td><td>XS    </td><td>2012  </td></tr>\n",
       "\t<tr><td>orange</td><td>S     </td><td>2012  </td></tr>\n",
       "\t<tr><td>orange</td><td>M     </td><td>2010  </td></tr>\n",
       "\t<tr><td>orange</td><td>L     </td><td>2010  </td></tr>\n",
       "\t<tr><td>orange</td><td>L     </td><td>2012  </td></tr>\n",
       "</tbody>\n",
       "</table>\n"
      ],
      "text/latex": [
       "\\begin{tabular}{r|lll}\n",
       " type & size & year\\\\\n",
       "\\hline\n",
       "\t apple  & XS     & 2012  \\\\\n",
       "\t apple  & S      & 2010  \\\\\n",
       "\t apple  & S      & 2012  \\\\\n",
       "\t apple  & M      & 2010  \\\\\n",
       "\t apple  & L      & 2010  \\\\\n",
       "\t apple  & L      & 2012  \\\\\n",
       "\t orange & XS     & 2010  \\\\\n",
       "\t orange & XS     & 2012  \\\\\n",
       "\t orange & S      & 2012  \\\\\n",
       "\t orange & M      & 2010  \\\\\n",
       "\t orange & L      & 2010  \\\\\n",
       "\t orange & L      & 2012  \\\\\n",
       "\\end{tabular}\n"
      ],
      "text/markdown": [
       "\n",
       "| type | size | year |\n",
       "|---|---|---|\n",
       "| apple  | XS     | 2012   |\n",
       "| apple  | S      | 2010   |\n",
       "| apple  | S      | 2012   |\n",
       "| apple  | M      | 2010   |\n",
       "| apple  | L      | 2010   |\n",
       "| apple  | L      | 2012   |\n",
       "| orange | XS     | 2010   |\n",
       "| orange | XS     | 2012   |\n",
       "| orange | S      | 2012   |\n",
       "| orange | M      | 2010   |\n",
       "| orange | L      | 2010   |\n",
       "| orange | L      | 2012   |\n",
       "\n"
      ],
      "text/plain": [
       "   type   size year\n",
       "1  apple  XS   2012\n",
       "2  apple  S    2010\n",
       "3  apple  S    2012\n",
       "4  apple  M    2010\n",
       "5  apple  L    2010\n",
       "6  apple  L    2012\n",
       "7  orange XS   2010\n",
       "8  orange XS   2012\n",
       "9  orange S    2012\n",
       "10 orange M    2010\n",
       "11 orange L    2010\n",
       "12 orange L    2012"
      ]
     },
     "metadata": {},
     "output_type": "display_data"
    }
   ],
   "source": [
    "all <- fruits %>% expand(type, size, year) \n",
    "\n",
    "all  %>% anti_join(fruits)"
   ]
  },
  {
   "cell_type": "code",
   "execution_count": 24,
   "metadata": {},
   "outputs": [
    {
     "name": "stderr",
     "output_type": "stream",
     "text": [
      "Joining, by = c(\"type\", \"year\", \"size\")\n"
     ]
    },
    {
     "data": {
      "text/html": [
       "<table>\n",
       "<thead><tr><th scope=col>type</th><th scope=col>year</th><th scope=col>size</th><th scope=col>weights</th></tr></thead>\n",
       "<tbody>\n",
       "\t<tr><td>apple   </td><td>2010    </td><td>XS      </td><td>3.807436</td></tr>\n",
       "\t<tr><td>orange  </td><td>2010    </td><td>S       </td><td>4.212495</td></tr>\n",
       "\t<tr><td>apple   </td><td>2012    </td><td>M       </td><td>3.103962</td></tr>\n",
       "\t<tr><td>orange  </td><td>2010    </td><td>S       </td><td>3.551894</td></tr>\n",
       "\t<tr><td>orange  </td><td>2010    </td><td>S       </td><td>1.831740</td></tr>\n",
       "\t<tr><td>orange  </td><td>2012    </td><td>M       </td><td>3.623320</td></tr>\n",
       "\t<tr><td>apple   </td><td>2012    </td><td>XS      </td><td>      NA</td></tr>\n",
       "\t<tr><td>apple   </td><td>2010    </td><td>S       </td><td>      NA</td></tr>\n",
       "\t<tr><td>apple   </td><td>2012    </td><td>S       </td><td>      NA</td></tr>\n",
       "\t<tr><td>apple   </td><td>2010    </td><td>M       </td><td>      NA</td></tr>\n",
       "\t<tr><td>apple   </td><td>2010    </td><td>L       </td><td>      NA</td></tr>\n",
       "\t<tr><td>apple   </td><td>2012    </td><td>L       </td><td>      NA</td></tr>\n",
       "\t<tr><td>orange  </td><td>2010    </td><td>XS      </td><td>      NA</td></tr>\n",
       "\t<tr><td>orange  </td><td>2012    </td><td>XS      </td><td>      NA</td></tr>\n",
       "\t<tr><td>orange  </td><td>2012    </td><td>S       </td><td>      NA</td></tr>\n",
       "\t<tr><td>orange  </td><td>2010    </td><td>M       </td><td>      NA</td></tr>\n",
       "\t<tr><td>orange  </td><td>2010    </td><td>L       </td><td>      NA</td></tr>\n",
       "\t<tr><td>orange  </td><td>2012    </td><td>L       </td><td>      NA</td></tr>\n",
       "</tbody>\n",
       "</table>\n"
      ],
      "text/latex": [
       "\\begin{tabular}{r|llll}\n",
       " type & year & size & weights\\\\\n",
       "\\hline\n",
       "\t apple    & 2010     & XS       & 3.807436\\\\\n",
       "\t orange   & 2010     & S        & 4.212495\\\\\n",
       "\t apple    & 2012     & M        & 3.103962\\\\\n",
       "\t orange   & 2010     & S        & 3.551894\\\\\n",
       "\t orange   & 2010     & S        & 1.831740\\\\\n",
       "\t orange   & 2012     & M        & 3.623320\\\\\n",
       "\t apple    & 2012     & XS       &       NA\\\\\n",
       "\t apple    & 2010     & S        &       NA\\\\\n",
       "\t apple    & 2012     & S        &       NA\\\\\n",
       "\t apple    & 2010     & M        &       NA\\\\\n",
       "\t apple    & 2010     & L        &       NA\\\\\n",
       "\t apple    & 2012     & L        &       NA\\\\\n",
       "\t orange   & 2010     & XS       &       NA\\\\\n",
       "\t orange   & 2012     & XS       &       NA\\\\\n",
       "\t orange   & 2012     & S        &       NA\\\\\n",
       "\t orange   & 2010     & M        &       NA\\\\\n",
       "\t orange   & 2010     & L        &       NA\\\\\n",
       "\t orange   & 2012     & L        &       NA\\\\\n",
       "\\end{tabular}\n"
      ],
      "text/markdown": [
       "\n",
       "| type | year | size | weights |\n",
       "|---|---|---|---|\n",
       "| apple    | 2010     | XS       | 3.807436 |\n",
       "| orange   | 2010     | S        | 4.212495 |\n",
       "| apple    | 2012     | M        | 3.103962 |\n",
       "| orange   | 2010     | S        | 3.551894 |\n",
       "| orange   | 2010     | S        | 1.831740 |\n",
       "| orange   | 2012     | M        | 3.623320 |\n",
       "| apple    | 2012     | XS       |       NA |\n",
       "| apple    | 2010     | S        |       NA |\n",
       "| apple    | 2012     | S        |       NA |\n",
       "| apple    | 2010     | M        |       NA |\n",
       "| apple    | 2010     | L        |       NA |\n",
       "| apple    | 2012     | L        |       NA |\n",
       "| orange   | 2010     | XS       |       NA |\n",
       "| orange   | 2012     | XS       |       NA |\n",
       "| orange   | 2012     | S        |       NA |\n",
       "| orange   | 2010     | M        |       NA |\n",
       "| orange   | 2010     | L        |       NA |\n",
       "| orange   | 2012     | L        |       NA |\n",
       "\n"
      ],
      "text/plain": [
       "   type   year size weights \n",
       "1  apple  2010 XS   3.807436\n",
       "2  orange 2010 S    4.212495\n",
       "3  apple  2012 M    3.103962\n",
       "4  orange 2010 S    3.551894\n",
       "5  orange 2010 S    1.831740\n",
       "6  orange 2012 M    3.623320\n",
       "7  apple  2012 XS         NA\n",
       "8  apple  2010 S          NA\n",
       "9  apple  2012 S          NA\n",
       "10 apple  2010 M          NA\n",
       "11 apple  2010 L          NA\n",
       "12 apple  2012 L          NA\n",
       "13 orange 2010 XS         NA\n",
       "14 orange 2012 XS         NA\n",
       "15 orange 2012 S          NA\n",
       "16 orange 2010 M          NA\n",
       "17 orange 2010 L          NA\n",
       "18 orange 2012 L          NA"
      ]
     },
     "metadata": {},
     "output_type": "display_data"
    }
   ],
   "source": [
    "# Use with `right_join()` to fill in missing rows\n",
    "fruits %>% dplyr::right_join(all)"
   ]
  },
  {
   "cell_type": "code",
   "execution_count": null,
   "metadata": {},
   "outputs": [],
   "source": []
  }
 ],
 "metadata": {
  "kernelspec": {
   "display_name": "R",
   "language": "R",
   "name": "ir"
  },
  "language_info": {
   "codemirror_mode": "r",
   "file_extension": ".r",
   "mimetype": "text/x-r-source",
   "name": "R",
   "pygments_lexer": "r",
   "version": "3.6.1"
  }
 },
 "nbformat": 4,
 "nbformat_minor": 2
}
