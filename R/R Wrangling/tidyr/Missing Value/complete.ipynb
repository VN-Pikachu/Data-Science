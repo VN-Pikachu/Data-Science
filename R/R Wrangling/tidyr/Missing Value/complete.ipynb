{
 "cells": [
  {
   "cell_type": "code",
   "execution_count": 1,
   "metadata": {},
   "outputs": [
    {
     "name": "stderr",
     "output_type": "stream",
     "text": [
      "Warning message:\n",
      "\"package 'tidyverse' was built under R version 3.6.3\"-- Attaching packages ------------------------------------------------------------------------------- tidyverse 1.3.0 --\n",
      "v ggplot2 3.3.2     v purrr   0.3.4\n",
      "v tibble  3.0.4     v dplyr   1.0.2\n",
      "v tidyr   1.1.2     v stringr 1.4.0\n",
      "v readr   1.4.0     v forcats 0.5.0\n",
      "Warning message:\n",
      "\"package 'ggplot2' was built under R version 3.6.3\"Warning message:\n",
      "\"package 'tibble' was built under R version 3.6.3\"Warning message:\n",
      "\"package 'tidyr' was built under R version 3.6.3\"Warning message:\n",
      "\"package 'readr' was built under R version 3.6.3\"Warning message:\n",
      "\"package 'purrr' was built under R version 3.6.3\"Warning message:\n",
      "\"package 'dplyr' was built under R version 3.6.3\"Warning message:\n",
      "\"package 'stringr' was built under R version 3.6.3\"Warning message:\n",
      "\"package 'forcats' was built under R version 3.6.3\"-- Conflicts ---------------------------------------------------------------------------------- tidyverse_conflicts() --\n",
      "x dplyr::filter() masks stats::filter()\n",
      "x dplyr::lag()    masks stats::lag()\n"
     ]
    }
   ],
   "source": [
    "library(tidyverse)"
   ]
  },
  {
   "cell_type": "markdown",
   "metadata": {},
   "source": [
    "# Complete a data frame with missing combinations"
   ]
  },
  {
   "cell_type": "markdown",
   "metadata": {},
   "source": [
    "Turns implicit missing values into explicit missing values. This is a wrapper around expand(), dplyr::left_join() and replace_na() that's useful for completing missing combinations of data."
   ]
  },
  {
   "cell_type": "markdown",
   "metadata": {},
   "source": [
    "```r\n",
    "complete(data, ..., fill = list())\n",
    "```"
   ]
  },
  {
   "cell_type": "markdown",
   "metadata": {},
   "source": [
    "# Examples"
   ]
  },
  {
   "cell_type": "code",
   "execution_count": 2,
   "metadata": {},
   "outputs": [
    {
     "data": {
      "text/html": [
       "<table>\n",
       "<thead><tr><th scope=col>group</th><th scope=col>item_id</th><th scope=col>item_name</th><th scope=col>value1</th><th scope=col>value2</th></tr></thead>\n",
       "<tbody>\n",
       "\t<tr><td>1</td><td>1</td><td>a</td><td>1</td><td>4</td></tr>\n",
       "\t<tr><td>2</td><td>2</td><td>b</td><td>2</td><td>5</td></tr>\n",
       "\t<tr><td>1</td><td>2</td><td>b</td><td>3</td><td>6</td></tr>\n",
       "</tbody>\n",
       "</table>\n"
      ],
      "text/latex": [
       "\\begin{tabular}{r|lllll}\n",
       " group & item\\_id & item\\_name & value1 & value2\\\\\n",
       "\\hline\n",
       "\t 1 & 1 & a & 1 & 4\\\\\n",
       "\t 2 & 2 & b & 2 & 5\\\\\n",
       "\t 1 & 2 & b & 3 & 6\\\\\n",
       "\\end{tabular}\n"
      ],
      "text/markdown": [
       "\n",
       "| group | item_id | item_name | value1 | value2 |\n",
       "|---|---|---|---|---|\n",
       "| 1 | 1 | a | 1 | 4 |\n",
       "| 2 | 2 | b | 2 | 5 |\n",
       "| 1 | 2 | b | 3 | 6 |\n",
       "\n"
      ],
      "text/plain": [
       "  group item_id item_name value1 value2\n",
       "1 1     1       a         1      4     \n",
       "2 2     2       b         2      5     \n",
       "3 1     2       b         3      6     "
      ]
     },
     "metadata": {},
     "output_type": "display_data"
    }
   ],
   "source": [
    "df <- tibble(\n",
    "  group = c(1:2, 1),\n",
    "  item_id = c(1:2, 2),\n",
    "  item_name = c(\"a\", \"b\", \"b\"),\n",
    "  value1 = 1:3,\n",
    "  value2 = 4:6\n",
    ")\n",
    "\n",
    "df"
   ]
  },
  {
   "cell_type": "raw",
   "metadata": {},
   "source": [
    "group = 1 has:\n",
    "\n",
    "item_id | item_name\n",
    "1         a\n",
    "2         b\n",
    "\n",
    "\n",
    "we expect group = 2 has them same as above\n",
    "\n",
    "item_id | item_name\n",
    "1         a\n",
    "2         b"
   ]
  },
  {
   "cell_type": "code",
   "execution_count": 3,
   "metadata": {},
   "outputs": [
    {
     "data": {
      "text/html": [
       "<table>\n",
       "<thead><tr><th scope=col>group</th><th scope=col>item_id</th><th scope=col>item_name</th></tr></thead>\n",
       "<tbody>\n",
       "\t<tr><td>1</td><td>1</td><td>a</td></tr>\n",
       "\t<tr><td>1</td><td>2</td><td>b</td></tr>\n",
       "\t<tr><td>2</td><td>1</td><td>a</td></tr>\n",
       "\t<tr><td>2</td><td>2</td><td>b</td></tr>\n",
       "</tbody>\n",
       "</table>\n"
      ],
      "text/latex": [
       "\\begin{tabular}{r|lll}\n",
       " group & item\\_id & item\\_name\\\\\n",
       "\\hline\n",
       "\t 1 & 1 & a\\\\\n",
       "\t 1 & 2 & b\\\\\n",
       "\t 2 & 1 & a\\\\\n",
       "\t 2 & 2 & b\\\\\n",
       "\\end{tabular}\n"
      ],
      "text/markdown": [
       "\n",
       "| group | item_id | item_name |\n",
       "|---|---|---|\n",
       "| 1 | 1 | a |\n",
       "| 1 | 2 | b |\n",
       "| 2 | 1 | a |\n",
       "| 2 | 2 | b |\n",
       "\n"
      ],
      "text/plain": [
       "  group item_id item_name\n",
       "1 1     1       a        \n",
       "2 1     2       b        \n",
       "3 2     1       a        \n",
       "4 2     2       b        "
      ]
     },
     "metadata": {},
     "output_type": "display_data"
    }
   ],
   "source": [
    "# expand only return the selected expanded columns\n",
    "df %>% expand(group, nesting(item_id, item_name))"
   ]
  },
  {
   "cell_type": "code",
   "execution_count": 4,
   "metadata": {},
   "outputs": [
    {
     "data": {
      "text/html": [
       "<table>\n",
       "<thead><tr><th scope=col>group</th><th scope=col>item_id</th><th scope=col>item_name</th><th scope=col>value1</th><th scope=col>value2</th></tr></thead>\n",
       "<tbody>\n",
       "\t<tr><td>1 </td><td>1 </td><td>a </td><td> 1</td><td> 4</td></tr>\n",
       "\t<tr><td>1 </td><td>2 </td><td>b </td><td> 3</td><td> 6</td></tr>\n",
       "\t<tr><td>2 </td><td>1 </td><td>a </td><td>NA</td><td>NA</td></tr>\n",
       "\t<tr><td>2 </td><td>2 </td><td>b </td><td> 2</td><td> 5</td></tr>\n",
       "</tbody>\n",
       "</table>\n"
      ],
      "text/latex": [
       "\\begin{tabular}{r|lllll}\n",
       " group & item\\_id & item\\_name & value1 & value2\\\\\n",
       "\\hline\n",
       "\t 1  & 1  & a  &  1 &  4\\\\\n",
       "\t 1  & 2  & b  &  3 &  6\\\\\n",
       "\t 2  & 1  & a  & NA & NA\\\\\n",
       "\t 2  & 2  & b  &  2 &  5\\\\\n",
       "\\end{tabular}\n"
      ],
      "text/markdown": [
       "\n",
       "| group | item_id | item_name | value1 | value2 |\n",
       "|---|---|---|---|---|\n",
       "| 1  | 1  | a  |  1 |  4 |\n",
       "| 1  | 2  | b  |  3 |  6 |\n",
       "| 2  | 1  | a  | NA | NA |\n",
       "| 2  | 2  | b  |  2 |  5 |\n",
       "\n"
      ],
      "text/plain": [
       "  group item_id item_name value1 value2\n",
       "1 1     1       a          1      4    \n",
       "2 1     2       b          3      6    \n",
       "3 2     1       a         NA     NA    \n",
       "4 2     2       b          2      5    "
      ]
     },
     "metadata": {},
     "output_type": "display_data"
    }
   ],
   "source": [
    "# complete return dataframe with expaned columns\n",
    "df %>% complete(group, nesting(item_id, item_name))\n"
   ]
  },
  {
   "cell_type": "code",
   "execution_count": 5,
   "metadata": {},
   "outputs": [
    {
     "data": {
      "text/html": [
       "<table>\n",
       "<thead><tr><th scope=col>item_id</th><th scope=col>item_name</th></tr></thead>\n",
       "<tbody>\n",
       "\t<tr><td>1</td><td>a</td></tr>\n",
       "\t<tr><td>1</td><td>b</td></tr>\n",
       "\t<tr><td>2</td><td>a</td></tr>\n",
       "\t<tr><td>2</td><td>b</td></tr>\n",
       "</tbody>\n",
       "</table>\n"
      ],
      "text/latex": [
       "\\begin{tabular}{r|ll}\n",
       " item\\_id & item\\_name\\\\\n",
       "\\hline\n",
       "\t 1 & a\\\\\n",
       "\t 1 & b\\\\\n",
       "\t 2 & a\\\\\n",
       "\t 2 & b\\\\\n",
       "\\end{tabular}\n"
      ],
      "text/markdown": [
       "\n",
       "| item_id | item_name |\n",
       "|---|---|\n",
       "| 1 | a |\n",
       "| 1 | b |\n",
       "| 2 | a |\n",
       "| 2 | b |\n",
       "\n"
      ],
      "text/plain": [
       "  item_id item_name\n",
       "1 1       a        \n",
       "2 1       b        \n",
       "3 2       a        \n",
       "4 2       b        "
      ]
     },
     "metadata": {},
     "output_type": "display_data"
    }
   ],
   "source": [
    "#equivalent to:\n",
    "df %>% expand(item_id, item_name)"
   ]
  },
  {
   "cell_type": "code",
   "execution_count": 6,
   "metadata": {},
   "outputs": [
    {
     "data": {
      "text/html": [
       "<table>\n",
       "<thead><tr><th scope=col>group</th><th scope=col>item_id</th><th scope=col>item_name</th><th scope=col>value1</th><th scope=col>value2</th></tr></thead>\n",
       "<tbody>\n",
       "\t<tr><td>1 </td><td>1 </td><td>a </td><td>1 </td><td> 4</td></tr>\n",
       "\t<tr><td>1 </td><td>2 </td><td>b </td><td>3 </td><td> 6</td></tr>\n",
       "\t<tr><td>2 </td><td>1 </td><td>a </td><td>0 </td><td>-1</td></tr>\n",
       "\t<tr><td>2 </td><td>2 </td><td>b </td><td>2 </td><td> 5</td></tr>\n",
       "</tbody>\n",
       "</table>\n"
      ],
      "text/latex": [
       "\\begin{tabular}{r|lllll}\n",
       " group & item\\_id & item\\_name & value1 & value2\\\\\n",
       "\\hline\n",
       "\t 1  & 1  & a  & 1  &  4\\\\\n",
       "\t 1  & 2  & b  & 3  &  6\\\\\n",
       "\t 2  & 1  & a  & 0  & -1\\\\\n",
       "\t 2  & 2  & b  & 2  &  5\\\\\n",
       "\\end{tabular}\n"
      ],
      "text/markdown": [
       "\n",
       "| group | item_id | item_name | value1 | value2 |\n",
       "|---|---|---|---|---|\n",
       "| 1  | 1  | a  | 1  |  4 |\n",
       "| 1  | 2  | b  | 3  |  6 |\n",
       "| 2  | 1  | a  | 0  | -1 |\n",
       "| 2  | 2  | b  | 2  |  5 |\n",
       "\n"
      ],
      "text/plain": [
       "  group item_id item_name value1 value2\n",
       "1 1     1       a         1       4    \n",
       "2 1     2       b         3       6    \n",
       "3 2     1       a         0      -1    \n",
       "4 2     2       b         2       5    "
      ]
     },
     "metadata": {},
     "output_type": "display_data"
    }
   ],
   "source": [
    "# You can also choose to fill in missing values\n",
    "\n",
    "# fill missing value in column `value1` with 0 and column `value2` with -1\n",
    "df %>% complete(group, nesting(item_id, item_name), fill = list(value1 = 0, value2 = -1))"
   ]
  }
 ],
 "metadata": {
  "kernelspec": {
   "display_name": "R",
   "language": "R",
   "name": "ir"
  },
  "language_info": {
   "codemirror_mode": "r",
   "file_extension": ".r",
   "mimetype": "text/x-r-source",
   "name": "R",
   "pygments_lexer": "r",
   "version": "3.6.1"
  }
 },
 "nbformat": 4,
 "nbformat_minor": 2
}
