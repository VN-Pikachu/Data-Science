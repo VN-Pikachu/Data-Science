{
 "cells": [
  {
   "cell_type": "code",
   "execution_count": 3,
   "metadata": {},
   "outputs": [],
   "source": [
    "library(tidyverse)"
   ]
  },
  {
   "cell_type": "markdown",
   "metadata": {},
   "source": [
    "# Chop and unchop"
   ]
  },
  {
   "cell_type": "markdown",
   "metadata": {},
   "source": [
    "Chopping and unchopping preserve the width of a data frame, changing its length. `chop()` makes df shorter by converting rows within each group into list-columns. `unchop()` makes df longer by expanding list-columns so that each element of the list-column gets its own row in the output. `chop()` and `unchop()` are building blocks for more complicated functions (like `unnest()`, `unnest_longer()`, and `unnest_wider()`) and are generally more suitable for programming than interactive data analysis."
   ]
  },
  {
   "cell_type": "markdown",
   "metadata": {},
   "source": [
    "# Examples"
   ]
  },
  {
   "cell_type": "code",
   "execution_count": 5,
   "metadata": {},
   "outputs": [
    {
     "data": {
      "text/html": [
       "<table>\n",
       "<thead><tr><th scope=col>x</th><th scope=col>y</th><th scope=col>z</th></tr></thead>\n",
       "<tbody>\n",
       "\t<tr><td>1</td><td>1</td><td>6</td></tr>\n",
       "\t<tr><td>1</td><td>2</td><td>5</td></tr>\n",
       "\t<tr><td>1</td><td>3</td><td>4</td></tr>\n",
       "\t<tr><td>2</td><td>4</td><td>3</td></tr>\n",
       "\t<tr><td>2</td><td>5</td><td>2</td></tr>\n",
       "\t<tr><td>3</td><td>6</td><td>1</td></tr>\n",
       "</tbody>\n",
       "</table>\n"
      ],
      "text/latex": [
       "\\begin{tabular}{r|lll}\n",
       " x & y & z\\\\\n",
       "\\hline\n",
       "\t 1 & 1 & 6\\\\\n",
       "\t 1 & 2 & 5\\\\\n",
       "\t 1 & 3 & 4\\\\\n",
       "\t 2 & 4 & 3\\\\\n",
       "\t 2 & 5 & 2\\\\\n",
       "\t 3 & 6 & 1\\\\\n",
       "\\end{tabular}\n"
      ],
      "text/markdown": [
       "\n",
       "| x | y | z |\n",
       "|---|---|---|\n",
       "| 1 | 1 | 6 |\n",
       "| 1 | 2 | 5 |\n",
       "| 1 | 3 | 4 |\n",
       "| 2 | 4 | 3 |\n",
       "| 2 | 5 | 2 |\n",
       "| 3 | 6 | 1 |\n",
       "\n"
      ],
      "text/plain": [
       "  x y z\n",
       "1 1 1 6\n",
       "2 1 2 5\n",
       "3 1 3 4\n",
       "4 2 4 3\n",
       "5 2 5 2\n",
       "6 3 6 1"
      ]
     },
     "metadata": {},
     "output_type": "display_data"
    }
   ],
   "source": [
    "# Chop ==============================================================\n",
    "df <- tibble(x = c(1, 1, 1, 2, 2, 3), y = 1:6, z = 6:1)\n",
    "\n",
    "df"
   ]
  },
  {
   "cell_type": "markdown",
   "metadata": {},
   "source": [
    "**`chop`** preserve the width of the data frame (i.e: the number of columns)"
   ]
  },
  {
   "cell_type": "code",
   "execution_count": 6,
   "metadata": {},
   "outputs": [
    {
     "data": {
      "text/html": [
       "<table>\n",
       "<thead><tr><th scope=col>x</th><th scope=col>y</th><th scope=col>z</th></tr></thead>\n",
       "<tbody>\n",
       "\t<tr><td>1      </td><td>1, 2, 3</td><td>6, 5, 4</td></tr>\n",
       "\t<tr><td>2   </td><td>4, 5</td><td>3, 2</td></tr>\n",
       "\t<tr><td>3</td><td>6</td><td>1</td></tr>\n",
       "</tbody>\n",
       "</table>\n"
      ],
      "text/latex": [
       "\\begin{tabular}{r|lll}\n",
       " x & y & z\\\\\n",
       "\\hline\n",
       "\t 1       & 1, 2, 3 & 6, 5, 4\\\\\n",
       "\t 2    & 4, 5 & 3, 2\\\\\n",
       "\t 3 & 6 & 1\\\\\n",
       "\\end{tabular}\n"
      ],
      "text/markdown": [
       "\n",
       "| x | y | z |\n",
       "|---|---|---|\n",
       "| 1       | 1, 2, 3 | 6, 5, 4 |\n",
       "| 2    | 4, 5 | 3, 2 |\n",
       "| 3 | 6 | 1 |\n",
       "\n"
      ],
      "text/plain": [
       "  x y       z      \n",
       "1 1 1, 2, 3 6, 5, 4\n",
       "2 2 4, 5    3, 2   \n",
       "3 3 6       1      "
      ]
     },
     "metadata": {},
     "output_type": "display_data"
    }
   ],
   "source": [
    "# Note that we get one row of output for each unique combination of\n",
    "# non-chopped variables\n",
    "df %>% chop(c(y, z))"
   ]
  },
  {
   "cell_type": "markdown",
   "metadata": {},
   "source": [
    "**`nest`** does not preserve the width of the data frame"
   ]
  },
  {
   "cell_type": "code",
   "execution_count": 13,
   "metadata": {},
   "outputs": [
    {
     "data": {
      "text/html": [
       "<table>\n",
       "<thead><tr><th scope=col>x</th><th scope=col>data</th></tr></thead>\n",
       "<tbody>\n",
       "\t<tr><td>1               </td><td>1, 2, 3, 6, 5, 4</td></tr>\n",
       "\t<tr><td>2         </td><td>4, 5, 3, 2</td></tr>\n",
       "\t<tr><td>3   </td><td>6, 1</td></tr>\n",
       "</tbody>\n",
       "</table>\n"
      ],
      "text/latex": [
       "\\begin{tabular}{r|ll}\n",
       " x & data\\\\\n",
       "\\hline\n",
       "\t 1                & 1, 2, 3, 6, 5, 4\\\\\n",
       "\t 2          & 4, 5, 3, 2\\\\\n",
       "\t 3    & 6, 1\\\\\n",
       "\\end{tabular}\n"
      ],
      "text/markdown": [
       "\n",
       "| x | data |\n",
       "|---|---|\n",
       "| 1                | 1, 2, 3, 6, 5, 4 |\n",
       "| 2          | 4, 5, 3, 2 |\n",
       "| 3    | 6, 1 |\n",
       "\n"
      ],
      "text/plain": [
       "  x data            \n",
       "1 1 1, 2, 3, 6, 5, 4\n",
       "2 2 4, 5, 3, 2      \n",
       "3 3 6, 1            "
      ]
     },
     "metadata": {},
     "output_type": "display_data"
    }
   ],
   "source": [
    "df %>% nest(data = c(y, z))"
   ]
  },
  {
   "cell_type": "code",
   "execution_count": 14,
   "metadata": {},
   "outputs": [
    {
     "data": {
      "text/html": [
       "<table>\n",
       "<thead><tr><th scope=col>x</th><th scope=col>y</th></tr></thead>\n",
       "<tbody>\n",
       "\t<tr><td>1</td><td> </td></tr>\n",
       "\t<tr><td>2</td><td>1</td></tr>\n",
       "\t<tr><td>3   </td><td>1, 2</td></tr>\n",
       "\t<tr><td>4      </td><td>1, 2, 3</td></tr>\n",
       "</tbody>\n",
       "</table>\n"
      ],
      "text/latex": [
       "\\begin{tabular}{r|ll}\n",
       " x & y\\\\\n",
       "\\hline\n",
       "\t 1 &  \\\\\n",
       "\t 2 & 1\\\\\n",
       "\t 3    & 1, 2\\\\\n",
       "\t 4       & 1, 2, 3\\\\\n",
       "\\end{tabular}\n"
      ],
      "text/markdown": [
       "\n",
       "| x | y |\n",
       "|---|---|\n",
       "| 1 |   |\n",
       "| 2 | 1 |\n",
       "| 3    | 1, 2 |\n",
       "| 4       | 1, 2, 3 |\n",
       "\n"
      ],
      "text/plain": [
       "  x y      \n",
       "1 1        \n",
       "2 2 1      \n",
       "3 3 1, 2   \n",
       "4 4 1, 2, 3"
      ]
     },
     "metadata": {},
     "output_type": "display_data"
    }
   ],
   "source": [
    "# Unchop ============================================================\n",
    "df <- tibble(x = 1:4, y = list(integer(), 1L, 1:2, 1:3))\n",
    "\n",
    "df"
   ]
  },
  {
   "cell_type": "code",
   "execution_count": 15,
   "metadata": {},
   "outputs": [
    {
     "data": {
      "text/html": [
       "<table>\n",
       "<thead><tr><th scope=col>x</th><th scope=col>y</th></tr></thead>\n",
       "<tbody>\n",
       "\t<tr><td>2</td><td>1</td></tr>\n",
       "\t<tr><td>3</td><td>1</td></tr>\n",
       "\t<tr><td>3</td><td>2</td></tr>\n",
       "\t<tr><td>4</td><td>1</td></tr>\n",
       "\t<tr><td>4</td><td>2</td></tr>\n",
       "\t<tr><td>4</td><td>3</td></tr>\n",
       "</tbody>\n",
       "</table>\n"
      ],
      "text/latex": [
       "\\begin{tabular}{r|ll}\n",
       " x & y\\\\\n",
       "\\hline\n",
       "\t 2 & 1\\\\\n",
       "\t 3 & 1\\\\\n",
       "\t 3 & 2\\\\\n",
       "\t 4 & 1\\\\\n",
       "\t 4 & 2\\\\\n",
       "\t 4 & 3\\\\\n",
       "\\end{tabular}\n"
      ],
      "text/markdown": [
       "\n",
       "| x | y |\n",
       "|---|---|\n",
       "| 2 | 1 |\n",
       "| 3 | 1 |\n",
       "| 3 | 2 |\n",
       "| 4 | 1 |\n",
       "| 4 | 2 |\n",
       "| 4 | 3 |\n",
       "\n"
      ],
      "text/plain": [
       "  x y\n",
       "1 2 1\n",
       "2 3 1\n",
       "3 3 2\n",
       "4 4 1\n",
       "5 4 2\n",
       "6 4 3"
      ]
     },
     "metadata": {},
     "output_type": "display_data"
    }
   ],
   "source": [
    "df %>% unchop(y)"
   ]
  },
  {
   "cell_type": "code",
   "execution_count": 16,
   "metadata": {},
   "outputs": [
    {
     "data": {
      "text/html": [
       "<table>\n",
       "<thead><tr><th scope=col>x</th><th scope=col>y</th></tr></thead>\n",
       "<tbody>\n",
       "\t<tr><td>1 </td><td>NA</td></tr>\n",
       "\t<tr><td>2 </td><td> 1</td></tr>\n",
       "\t<tr><td>3 </td><td> 1</td></tr>\n",
       "\t<tr><td>3 </td><td> 2</td></tr>\n",
       "\t<tr><td>4 </td><td> 1</td></tr>\n",
       "\t<tr><td>4 </td><td> 2</td></tr>\n",
       "\t<tr><td>4 </td><td> 3</td></tr>\n",
       "</tbody>\n",
       "</table>\n"
      ],
      "text/latex": [
       "\\begin{tabular}{r|ll}\n",
       " x & y\\\\\n",
       "\\hline\n",
       "\t 1  & NA\\\\\n",
       "\t 2  &  1\\\\\n",
       "\t 3  &  1\\\\\n",
       "\t 3  &  2\\\\\n",
       "\t 4  &  1\\\\\n",
       "\t 4  &  2\\\\\n",
       "\t 4  &  3\\\\\n",
       "\\end{tabular}\n"
      ],
      "text/markdown": [
       "\n",
       "| x | y |\n",
       "|---|---|\n",
       "| 1  | NA |\n",
       "| 2  |  1 |\n",
       "| 3  |  1 |\n",
       "| 3  |  2 |\n",
       "| 4  |  1 |\n",
       "| 4  |  2 |\n",
       "| 4  |  3 |\n",
       "\n"
      ],
      "text/plain": [
       "  x y \n",
       "1 1 NA\n",
       "2 2  1\n",
       "3 3  1\n",
       "4 3  2\n",
       "5 4  1\n",
       "6 4  2\n",
       "7 4  3"
      ]
     },
     "metadata": {},
     "output_type": "display_data"
    }
   ],
   "source": [
    "df %>% unchop(y, keep_empty = TRUE)"
   ]
  },
  {
   "cell_type": "code",
   "execution_count": 18,
   "metadata": {},
   "outputs": [
    {
     "data": {
      "text/html": [
       "<table>\n",
       "<thead><tr><th scope=col>x</th><th scope=col>y</th></tr></thead>\n",
       "<tbody>\n",
       "\t<tr><td>1</td><td>1</td></tr>\n",
       "\t<tr><td>2      </td><td>1, 2, 3</td></tr>\n",
       "</tbody>\n",
       "</table>\n"
      ],
      "text/latex": [
       "\\begin{tabular}{r|ll}\n",
       " x & y\\\\\n",
       "\\hline\n",
       "\t 1 & 1\\\\\n",
       "\t 2       & 1, 2, 3\\\\\n",
       "\\end{tabular}\n"
      ],
      "text/markdown": [
       "\n",
       "| x | y |\n",
       "|---|---|\n",
       "| 1 | 1 |\n",
       "| 2       | 1, 2, 3 |\n",
       "\n"
      ],
      "text/plain": [
       "  x y      \n",
       "1 1 1      \n",
       "2 2 1, 2, 3"
      ]
     },
     "metadata": {},
     "output_type": "display_data"
    }
   ],
   "source": [
    "# Incompatible types -------------------------------------------------\n",
    "# If the list-col contains types that can not be natively\n",
    "df <- tibble(x = 1:2, y = list(\"1\", 1:3))\n",
    "\n",
    "df"
   ]
  },
  {
   "cell_type": "code",
   "execution_count": 21,
   "metadata": {},
   "outputs": [],
   "source": [
    "#This will raise an error\n",
    "#df %>% unchop(y)"
   ]
  }
 ],
 "metadata": {
  "kernelspec": {
   "display_name": "R",
   "language": "R",
   "name": "ir"
  },
  "language_info": {
   "codemirror_mode": "r",
   "file_extension": ".r",
   "mimetype": "text/x-r-source",
   "name": "R",
   "pygments_lexer": "r",
   "version": "3.6.1"
  }
 },
 "nbformat": 4,
 "nbformat_minor": 2
}
