{
 "cells": [
  {
   "cell_type": "code",
   "execution_count": 3,
   "metadata": {},
   "outputs": [],
   "source": [
    "library(tidyverse)"
   ]
  },
  {
   "cell_type": "markdown",
   "metadata": {},
   "source": [
    "# Pack and unpack  "
   ]
  },
  {
   "cell_type": "markdown",
   "metadata": {},
   "source": [
    "Packing and unpacking preserve the length of a data frame, changing its width. `pack()` makes df narrow by collapsing a set of columns into a single df-column. `unpack()` makes data wider by expanding df-columns back out into individual columns."
   ]
  },
  {
   "cell_type": "markdown",
   "metadata": {},
   "source": [
    "```r\n",
    "pack(.data, ..., .names_sep = NULL)\n",
    "\n",
    "unpack(data, cols, names_sep = NULL, names_repair = \"check_unique\")\n",
    "```"
   ]
  },
  {
   "cell_type": "markdown",
   "metadata": {},
   "source": [
    "# Examples"
   ]
  },
  {
   "cell_type": "code",
   "execution_count": 4,
   "metadata": {},
   "outputs": [
    {
     "data": {
      "text/html": [
       "<table>\n",
       "<thead><tr><th scope=col>x1</th><th scope=col>x2</th><th scope=col>x3</th><th scope=col>y</th></tr></thead>\n",
       "<tbody>\n",
       "\t<tr><td>1</td><td>4</td><td>7</td><td>1</td></tr>\n",
       "\t<tr><td>2</td><td>5</td><td>8</td><td>2</td></tr>\n",
       "\t<tr><td>3</td><td>6</td><td>9</td><td>3</td></tr>\n",
       "</tbody>\n",
       "</table>\n"
      ],
      "text/latex": [
       "\\begin{tabular}{r|llll}\n",
       " x1 & x2 & x3 & y\\\\\n",
       "\\hline\n",
       "\t 1 & 4 & 7 & 1\\\\\n",
       "\t 2 & 5 & 8 & 2\\\\\n",
       "\t 3 & 6 & 9 & 3\\\\\n",
       "\\end{tabular}\n"
      ],
      "text/markdown": [
       "\n",
       "| x1 | x2 | x3 | y |\n",
       "|---|---|---|---|\n",
       "| 1 | 4 | 7 | 1 |\n",
       "| 2 | 5 | 8 | 2 |\n",
       "| 3 | 6 | 9 | 3 |\n",
       "\n"
      ],
      "text/plain": [
       "  x1 x2 x3 y\n",
       "1 1  4  7  1\n",
       "2 2  5  8  2\n",
       "3 3  6  9  3"
      ]
     },
     "metadata": {},
     "output_type": "display_data"
    }
   ],
   "source": [
    "# Packing =============================================================\n",
    "# It's not currently clear why you would ever want to pack columns\n",
    "# since few functions work with this sort of data.\n",
    "df <- tibble(x1 = 1:3, x2 = 4:6, x3 = 7:9, y = 1:3)\n",
    "df"
   ]
  },
  {
   "cell_type": "code",
   "execution_count": 12,
   "metadata": {},
   "outputs": [
    {
     "name": "stderr",
     "output_type": "stream",
     "text": [
      "ERROR while rich displaying an object: Error in vapply(part, format, character(nrow(part))): values must be length 3,\n",
      " but FUN(X[[1]]) result is length 6\n",
      "\n",
      "Traceback:\n",
      "1. FUN(X[[i]], ...)\n",
      "2. tryCatch(withCallingHandlers({\n",
      " .     if (!mime %in% names(repr::mime2repr)) \n",
      " .         stop(\"No repr_* for mimetype \", mime, \" in repr::mime2repr\")\n",
      " .     rpr <- repr::mime2repr[[mime]](obj)\n",
      " .     if (is.null(rpr)) \n",
      " .         return(NULL)\n",
      " .     prepare_content(is.raw(rpr), rpr)\n",
      " . }, error = error_handler), error = outer_handler)\n",
      "3. tryCatchList(expr, classes, parentenv, handlers)\n",
      "4. tryCatchOne(expr, names, parentenv, handlers[[1L]])\n",
      "5. doTryCatch(return(expr), name, parentenv, handler)\n",
      "6. withCallingHandlers({\n",
      " .     if (!mime %in% names(repr::mime2repr)) \n",
      " .         stop(\"No repr_* for mimetype \", mime, \" in repr::mime2repr\")\n",
      " .     rpr <- repr::mime2repr[[mime]](obj)\n",
      " .     if (is.null(rpr)) \n",
      " .         return(NULL)\n",
      " .     prepare_content(is.raw(rpr), rpr)\n",
      " . }, error = error_handler)\n",
      "7. repr::mime2repr[[mime]](obj)\n",
      "8. repr_text.data.frame(obj)\n",
      "9. ellip_limit_arr(obj, ...)\n",
      "10. arr_parts_format(parts)\n",
      "11. structure(lapply(parts, arr_part_format), omit = attr(parts, \n",
      "  .     \"omit\"))\n",
      "12. lapply(parts, arr_part_format)\n",
      "13. FUN(X[[i]], ...)\n",
      "14. vapply(part, format, character(nrow(part)))\n"
     ]
    }
   ],
   "source": [
    "df %>% pack(x = c(x1, x2, x3), y = y)"
   ]
  },
  {
   "cell_type": "code",
   "execution_count": 10,
   "metadata": {},
   "outputs": [
    {
     "name": "stderr",
     "output_type": "stream",
     "text": [
      "ERROR while rich displaying an object: Error in vapply(part, format, character(nrow(part))): values must be length 3,\n",
      " but FUN(X[[2]]) result is length 6\n",
      "\n",
      "Traceback:\n",
      "1. FUN(X[[i]], ...)\n",
      "2. tryCatch(withCallingHandlers({\n",
      " .     if (!mime %in% names(repr::mime2repr)) \n",
      " .         stop(\"No repr_* for mimetype \", mime, \" in repr::mime2repr\")\n",
      " .     rpr <- repr::mime2repr[[mime]](obj)\n",
      " .     if (is.null(rpr)) \n",
      " .         return(NULL)\n",
      " .     prepare_content(is.raw(rpr), rpr)\n",
      " . }, error = error_handler), error = outer_handler)\n",
      "3. tryCatchList(expr, classes, parentenv, handlers)\n",
      "4. tryCatchOne(expr, names, parentenv, handlers[[1L]])\n",
      "5. doTryCatch(return(expr), name, parentenv, handler)\n",
      "6. withCallingHandlers({\n",
      " .     if (!mime %in% names(repr::mime2repr)) \n",
      " .         stop(\"No repr_* for mimetype \", mime, \" in repr::mime2repr\")\n",
      " .     rpr <- repr::mime2repr[[mime]](obj)\n",
      " .     if (is.null(rpr)) \n",
      " .         return(NULL)\n",
      " .     prepare_content(is.raw(rpr), rpr)\n",
      " . }, error = error_handler)\n",
      "7. repr::mime2repr[[mime]](obj)\n",
      "8. repr_text.data.frame(obj)\n",
      "9. ellip_limit_arr(obj, ...)\n",
      "10. arr_parts_format(parts)\n",
      "11. structure(lapply(parts, arr_part_format), omit = attr(parts, \n",
      "  .     \"omit\"))\n",
      "12. lapply(parts, arr_part_format)\n",
      "13. FUN(X[[i]], ...)\n",
      "14. vapply(part, format, character(nrow(part)))\n"
     ]
    }
   ],
   "source": [
    "df %>% pack(x = starts_with(\"x\"))"
   ]
  },
  {
   "cell_type": "code",
   "execution_count": 11,
   "metadata": {},
   "outputs": [
    {
     "data": {
      "text/html": [
       "<table>\n",
       "<thead><tr><th scope=col>x1</th><th scope=col>x2</th><th scope=col>x3</th><th scope=col>y</th></tr></thead>\n",
       "<tbody>\n",
       "\t<tr><td>1</td><td>4</td><td>7</td><td>1</td></tr>\n",
       "\t<tr><td>2</td><td>5</td><td>8</td><td>2</td></tr>\n",
       "\t<tr><td>3</td><td>6</td><td>9</td><td>3</td></tr>\n",
       "</tbody>\n",
       "</table>\n"
      ],
      "text/latex": [
       "\\begin{tabular}{r|llll}\n",
       " x1 & x2 & x3 & y\\\\\n",
       "\\hline\n",
       "\t 1 & 4 & 7 & 1\\\\\n",
       "\t 2 & 5 & 8 & 2\\\\\n",
       "\t 3 & 6 & 9 & 3\\\\\n",
       "\\end{tabular}\n"
      ],
      "text/markdown": [
       "\n",
       "| x1 | x2 | x3 | y |\n",
       "|---|---|---|---|\n",
       "| 1 | 4 | 7 | 1 |\n",
       "| 2 | 5 | 8 | 2 |\n",
       "| 3 | 6 | 9 | 3 |\n",
       "\n"
      ],
      "text/plain": [
       "  x1 x2 x3 y\n",
       "1 1  4  7  1\n",
       "2 2  5  8  2\n",
       "3 3  6  9  3"
      ]
     },
     "metadata": {},
     "output_type": "display_data"
    },
    {
     "name": "stderr",
     "output_type": "stream",
     "text": [
      "ERROR while rich displaying an object: Error in vapply(part, format, character(nrow(part))): values must be length 3,\n",
      " but FUN(X[[2]]) result is length 6\n",
      "\n",
      "Traceback:\n",
      "1. FUN(X[[i]], ...)\n",
      "2. tryCatch(withCallingHandlers({\n",
      " .     if (!mime %in% names(repr::mime2repr)) \n",
      " .         stop(\"No repr_* for mimetype \", mime, \" in repr::mime2repr\")\n",
      " .     rpr <- repr::mime2repr[[mime]](obj)\n",
      " .     if (is.null(rpr)) \n",
      " .         return(NULL)\n",
      " .     prepare_content(is.raw(rpr), rpr)\n",
      " . }, error = error_handler), error = outer_handler)\n",
      "3. tryCatchList(expr, classes, parentenv, handlers)\n",
      "4. tryCatchOne(expr, names, parentenv, handlers[[1L]])\n",
      "5. doTryCatch(return(expr), name, parentenv, handler)\n",
      "6. withCallingHandlers({\n",
      " .     if (!mime %in% names(repr::mime2repr)) \n",
      " .         stop(\"No repr_* for mimetype \", mime, \" in repr::mime2repr\")\n",
      " .     rpr <- repr::mime2repr[[mime]](obj)\n",
      " .     if (is.null(rpr)) \n",
      " .         return(NULL)\n",
      " .     prepare_content(is.raw(rpr), rpr)\n",
      " . }, error = error_handler)\n",
      "7. repr::mime2repr[[mime]](obj)\n",
      "8. repr_text.data.frame(obj)\n",
      "9. ellip_limit_arr(obj, ...)\n",
      "10. arr_parts_format(parts)\n",
      "11. structure(lapply(parts, arr_part_format), omit = attr(parts, \n",
      "  .     \"omit\"))\n",
      "12. lapply(parts, arr_part_format)\n",
      "13. FUN(X[[i]], ...)\n",
      "14. vapply(part, format, character(nrow(part)))\n"
     ]
    }
   ],
   "source": [
    "# Packing =============================================================\n",
    "# It's not currently clear why you would ever want to pack columns\n",
    "# since few functions work with this sort of data.\n",
    "df <- tibble(x1 = 1:3, x2 = 4:6, x3 = 7:9, y = 1:3)\n",
    "df\n",
    "#> # A tibble: 3 x 4\n",
    "#>      x1    x2    x3     y\n",
    "#>   <int> <int> <int> <int>\n",
    "#> 1     1     4     7     1\n",
    "#> 2     2     5     8     2\n",
    "#> 3     3     6     9     3\n",
    "df %>% pack(x = starts_with(\"x\"))"
   ]
  },
  {
   "cell_type": "code",
   "execution_count": null,
   "metadata": {},
   "outputs": [],
   "source": []
  }
 ],
 "metadata": {
  "kernelspec": {
   "display_name": "R",
   "language": "R",
   "name": "ir"
  },
  "language_info": {
   "codemirror_mode": "r",
   "file_extension": ".r",
   "mimetype": "text/x-r-source",
   "name": "R",
   "pygments_lexer": "r",
   "version": "3.6.1"
  }
 },
 "nbformat": 4,
 "nbformat_minor": 2
}
