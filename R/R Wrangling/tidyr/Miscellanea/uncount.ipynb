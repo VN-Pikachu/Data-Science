{
 "cells": [
  {
   "cell_type": "code",
   "execution_count": 2,
   "metadata": {},
   "outputs": [],
   "source": [
    "library(tidyverse)"
   ]
  },
  {
   "cell_type": "markdown",
   "metadata": {},
   "source": [
    "# \"Uncount\" a dataframe"
   ]
  },
  {
   "cell_type": "markdown",
   "metadata": {},
   "source": [
    "Performs the opposite operation to `dplyr::count()`, duplicating rows according to a weighting variable (or expression)."
   ]
  },
  {
   "cell_type": "markdown",
   "metadata": {},
   "source": [
    "```r\n",
    "uncount(data, weights, .remove = TRUE, .id = NULL)\n",
    "```"
   ]
  },
  {
   "cell_type": "markdown",
   "metadata": {},
   "source": [
    "# Examples"
   ]
  },
  {
   "cell_type": "markdown",
   "metadata": {},
   "source": [
    "**`weights`**\t\n",
    "A vector of weights. Evaluated in the context of data; supports quasiquotation."
   ]
  },
  {
   "cell_type": "code",
   "execution_count": 8,
   "metadata": {},
   "outputs": [
    {
     "data": {
      "text/html": [
       "<table>\n",
       "<thead><tr><th scope=col>x</th><th scope=col>n</th></tr></thead>\n",
       "<tbody>\n",
       "\t<tr><td>a</td><td>2</td></tr>\n",
       "\t<tr><td>b</td><td>3</td></tr>\n",
       "</tbody>\n",
       "</table>\n"
      ],
      "text/latex": [
       "\\begin{tabular}{r|ll}\n",
       " x & n\\\\\n",
       "\\hline\n",
       "\t a & 2\\\\\n",
       "\t b & 3\\\\\n",
       "\\end{tabular}\n"
      ],
      "text/markdown": [
       "\n",
       "| x | n |\n",
       "|---|---|\n",
       "| a | 2 |\n",
       "| b | 3 |\n",
       "\n"
      ],
      "text/plain": [
       "  x n\n",
       "1 a 2\n",
       "2 b 3"
      ]
     },
     "metadata": {},
     "output_type": "display_data"
    }
   ],
   "source": [
    "df <- tibble(x = c(\"a\", \"b\"), n = c(2, 3))\n",
    "\n",
    "df"
   ]
  },
  {
   "cell_type": "code",
   "execution_count": 8,
   "metadata": {},
   "outputs": [
    {
     "data": {
      "text/html": [
       "<table>\n",
       "<thead><tr><th scope=col>x</th></tr></thead>\n",
       "<tbody>\n",
       "\t<tr><td>a</td></tr>\n",
       "\t<tr><td>a</td></tr>\n",
       "\t<tr><td>b</td></tr>\n",
       "\t<tr><td>b</td></tr>\n",
       "\t<tr><td>b</td></tr>\n",
       "</tbody>\n",
       "</table>\n"
      ],
      "text/latex": [
       "\\begin{tabular}{r|l}\n",
       " x\\\\\n",
       "\\hline\n",
       "\t a\\\\\n",
       "\t a\\\\\n",
       "\t b\\\\\n",
       "\t b\\\\\n",
       "\t b\\\\\n",
       "\\end{tabular}\n"
      ],
      "text/markdown": [
       "\n",
       "| x |\n",
       "|---|\n",
       "| a |\n",
       "| a |\n",
       "| b |\n",
       "| b |\n",
       "| b |\n",
       "\n"
      ],
      "text/plain": [
       "  x\n",
       "1 a\n",
       "2 a\n",
       "3 b\n",
       "4 b\n",
       "5 b"
      ]
     },
     "metadata": {},
     "output_type": "display_data"
    }
   ],
   "source": [
    "uncount(df, n)"
   ]
  },
  {
   "cell_type": "code",
   "execution_count": 9,
   "metadata": {},
   "outputs": [
    {
     "data": {
      "text/html": [
       "<table>\n",
       "<thead><tr><th scope=col>x</th><th scope=col>id</th></tr></thead>\n",
       "<tbody>\n",
       "\t<tr><td>a</td><td>1</td></tr>\n",
       "\t<tr><td>a</td><td>2</td></tr>\n",
       "\t<tr><td>b</td><td>1</td></tr>\n",
       "\t<tr><td>b</td><td>2</td></tr>\n",
       "\t<tr><td>b</td><td>3</td></tr>\n",
       "</tbody>\n",
       "</table>\n"
      ],
      "text/latex": [
       "\\begin{tabular}{r|ll}\n",
       " x & id\\\\\n",
       "\\hline\n",
       "\t a & 1\\\\\n",
       "\t a & 2\\\\\n",
       "\t b & 1\\\\\n",
       "\t b & 2\\\\\n",
       "\t b & 3\\\\\n",
       "\\end{tabular}\n"
      ],
      "text/markdown": [
       "\n",
       "| x | id |\n",
       "|---|---|\n",
       "| a | 1 |\n",
       "| a | 2 |\n",
       "| b | 1 |\n",
       "| b | 2 |\n",
       "| b | 3 |\n",
       "\n"
      ],
      "text/plain": [
       "  x id\n",
       "1 a 1 \n",
       "2 a 2 \n",
       "3 b 1 \n",
       "4 b 2 \n",
       "5 b 3 "
      ]
     },
     "metadata": {},
     "output_type": "display_data"
    }
   ],
   "source": [
    "# add unique id to each group, the name of that column is 'id'\n",
    "uncount(df, n, .id = \"id\")"
   ]
  },
  {
   "cell_type": "code",
   "execution_count": 10,
   "metadata": {},
   "outputs": [
    {
     "data": {
      "text/html": [
       "<table>\n",
       "<thead><tr><th scope=col>x</th><th scope=col>n</th></tr></thead>\n",
       "<tbody>\n",
       "\t<tr><td>a</td><td>2</td></tr>\n",
       "\t<tr><td>a</td><td>2</td></tr>\n",
       "\t<tr><td>b</td><td>3</td></tr>\n",
       "\t<tr><td>b</td><td>3</td></tr>\n",
       "</tbody>\n",
       "</table>\n"
      ],
      "text/latex": [
       "\\begin{tabular}{r|ll}\n",
       " x & n\\\\\n",
       "\\hline\n",
       "\t a & 2\\\\\n",
       "\t a & 2\\\\\n",
       "\t b & 3\\\\\n",
       "\t b & 3\\\\\n",
       "\\end{tabular}\n"
      ],
      "text/markdown": [
       "\n",
       "| x | n |\n",
       "|---|---|\n",
       "| a | 2 |\n",
       "| a | 2 |\n",
       "| b | 3 |\n",
       "| b | 3 |\n",
       "\n"
      ],
      "text/plain": [
       "  x n\n",
       "1 a 2\n",
       "2 a 2\n",
       "3 b 3\n",
       "4 b 3"
      ]
     },
     "metadata": {},
     "output_type": "display_data"
    }
   ],
   "source": [
    "# You can also use constants\n",
    "uncount(df, 2)"
   ]
  },
  {
   "cell_type": "code",
   "execution_count": 11,
   "metadata": {},
   "outputs": [
    {
     "data": {
      "text/html": [
       "<table>\n",
       "<thead><tr><th scope=col>x</th><th scope=col>n</th></tr></thead>\n",
       "<tbody>\n",
       "\t<tr><td>a</td><td>2</td></tr>\n",
       "\t<tr><td>a</td><td>2</td></tr>\n",
       "\t<tr><td>a</td><td>2</td></tr>\n",
       "\t<tr><td>b</td><td>3</td></tr>\n",
       "\t<tr><td>b</td><td>3</td></tr>\n",
       "</tbody>\n",
       "</table>\n"
      ],
      "text/latex": [
       "\\begin{tabular}{r|ll}\n",
       " x & n\\\\\n",
       "\\hline\n",
       "\t a & 2\\\\\n",
       "\t a & 2\\\\\n",
       "\t a & 2\\\\\n",
       "\t b & 3\\\\\n",
       "\t b & 3\\\\\n",
       "\\end{tabular}\n"
      ],
      "text/markdown": [
       "\n",
       "| x | n |\n",
       "|---|---|\n",
       "| a | 2 |\n",
       "| a | 2 |\n",
       "| a | 2 |\n",
       "| b | 3 |\n",
       "| b | 3 |\n",
       "\n"
      ],
      "text/plain": [
       "  x n\n",
       "1 a 2\n",
       "2 a 2\n",
       "3 a 2\n",
       "4 b 3\n",
       "5 b 3"
      ]
     },
     "metadata": {},
     "output_type": "display_data"
    }
   ],
   "source": [
    "#or expression\n",
    "\n",
    "uncount(df, 6 / n)"
   ]
  },
  {
   "cell_type": "code",
   "execution_count": 10,
   "metadata": {},
   "outputs": [
    {
     "data": {
      "text/html": [
       "<table>\n",
       "<thead><tr><th scope=col>x</th><th scope=col>n</th></tr></thead>\n",
       "<tbody>\n",
       "\t<tr><td>a</td><td>2</td></tr>\n",
       "\t<tr><td>a</td><td>2</td></tr>\n",
       "\t<tr><td>b</td><td>3</td></tr>\n",
       "\t<tr><td>b</td><td>3</td></tr>\n",
       "\t<tr><td>b</td><td>3</td></tr>\n",
       "</tbody>\n",
       "</table>\n"
      ],
      "text/latex": [
       "\\begin{tabular}{r|ll}\n",
       " x & n\\\\\n",
       "\\hline\n",
       "\t a & 2\\\\\n",
       "\t a & 2\\\\\n",
       "\t b & 3\\\\\n",
       "\t b & 3\\\\\n",
       "\t b & 3\\\\\n",
       "\\end{tabular}\n"
      ],
      "text/markdown": [
       "\n",
       "| x | n |\n",
       "|---|---|\n",
       "| a | 2 |\n",
       "| a | 2 |\n",
       "| b | 3 |\n",
       "| b | 3 |\n",
       "| b | 3 |\n",
       "\n"
      ],
      "text/plain": [
       "  x n\n",
       "1 a 2\n",
       "2 a 2\n",
       "3 b 3\n",
       "4 b 3\n",
       "5 b 3"
      ]
     },
     "metadata": {},
     "output_type": "display_data"
    }
   ],
   "source": [
    "# preserve count\n",
    "df %>% uncount(n, .remove = F)"
   ]
  },
  {
   "cell_type": "code",
   "execution_count": 11,
   "metadata": {},
   "outputs": [
    {
     "data": {
      "text/html": [
       "<table>\n",
       "<thead><tr><th scope=col>x</th></tr></thead>\n",
       "<tbody>\n",
       "\t<tr><td>a</td></tr>\n",
       "\t<tr><td>a</td></tr>\n",
       "\t<tr><td>b</td></tr>\n",
       "\t<tr><td>b</td></tr>\n",
       "\t<tr><td>b</td></tr>\n",
       "</tbody>\n",
       "</table>\n"
      ],
      "text/latex": [
       "\\begin{tabular}{r|l}\n",
       " x\\\\\n",
       "\\hline\n",
       "\t a\\\\\n",
       "\t a\\\\\n",
       "\t b\\\\\n",
       "\t b\\\\\n",
       "\t b\\\\\n",
       "\\end{tabular}\n"
      ],
      "text/markdown": [
       "\n",
       "| x |\n",
       "|---|\n",
       "| a |\n",
       "| a |\n",
       "| b |\n",
       "| b |\n",
       "| b |\n",
       "\n"
      ],
      "text/plain": [
       "  x\n",
       "1 a\n",
       "2 a\n",
       "3 b\n",
       "4 b\n",
       "5 b"
      ]
     },
     "metadata": {},
     "output_type": "display_data"
    }
   ],
   "source": [
    "# default, do not preserve count\n",
    "df %>% uncount(n)"
   ]
  }
 ],
 "metadata": {
  "kernelspec": {
   "display_name": "R",
   "language": "R",
   "name": "ir"
  },
  "language_info": {
   "codemirror_mode": "r",
   "file_extension": ".r",
   "mimetype": "text/x-r-source",
   "name": "R",
   "pygments_lexer": "r",
   "version": "3.6.1"
  }
 },
 "nbformat": 4,
 "nbformat_minor": 2
}
