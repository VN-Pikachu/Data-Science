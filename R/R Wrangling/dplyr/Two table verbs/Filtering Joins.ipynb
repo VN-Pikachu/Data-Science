{
 "cells": [
  {
   "cell_type": "code",
   "execution_count": 2,
   "metadata": {},
   "outputs": [],
   "source": [
    "library(tidyverse)"
   ]
  },
  {
   "cell_type": "markdown",
   "metadata": {},
   "source": [
    "# Filtering joins"
   ]
  },
  {
   "cell_type": "markdown",
   "metadata": {},
   "source": [
    "Filtering joins filter rows from x based on the presence or absence of matches in y:\n",
    "\n",
    "* **`semi_join()`** return all rows from x with a match in y.\n",
    "\n",
    "* **`anti_join()`** return all rows from x without a match in y."
   ]
  },
  {
   "cell_type": "markdown",
   "metadata": {},
   "source": [
    "```R\n",
    "semi_join(x, y, by = NULL, copy = FALSE, ...)\n",
    "\n",
    "# S3 method for data.frame\n",
    "semi_join(x, y, by = NULL, copy = FALSE, ..., na_matches = c(\"na\", \"never\"))\n",
    "\n",
    "anti_join(x, y, by = NULL, copy = FALSE, ...)\n",
    "\n",
    "# S3 method for data.frame\n",
    "anti_join(x, y, by = NULL, copy = FALSE, ..., na_matches = c(\"na\", \"never\"))\n",
    "```"
   ]
  },
  {
   "cell_type": "markdown",
   "metadata": {},
   "source": [
    "# Examples"
   ]
  },
  {
   "cell_type": "code",
   "execution_count": 5,
   "metadata": {},
   "outputs": [
    {
     "data": {
      "text/html": [
       "<table>\n",
       "<thead><tr><th scope=col>name</th><th scope=col>band</th></tr></thead>\n",
       "<tbody>\n",
       "\t<tr><td>Mick   </td><td>Stones </td></tr>\n",
       "\t<tr><td>John   </td><td>Beatles</td></tr>\n",
       "\t<tr><td>Paul   </td><td>Beatles</td></tr>\n",
       "</tbody>\n",
       "</table>\n"
      ],
      "text/latex": [
       "\\begin{tabular}{r|ll}\n",
       " name & band\\\\\n",
       "\\hline\n",
       "\t Mick    & Stones \\\\\n",
       "\t John    & Beatles\\\\\n",
       "\t Paul    & Beatles\\\\\n",
       "\\end{tabular}\n"
      ],
      "text/markdown": [
       "\n",
       "| name | band |\n",
       "|---|---|\n",
       "| Mick    | Stones  |\n",
       "| John    | Beatles |\n",
       "| Paul    | Beatles |\n",
       "\n"
      ],
      "text/plain": [
       "  name band   \n",
       "1 Mick Stones \n",
       "2 John Beatles\n",
       "3 Paul Beatles"
      ]
     },
     "metadata": {},
     "output_type": "display_data"
    }
   ],
   "source": [
    "band_members"
   ]
  },
  {
   "cell_type": "code",
   "execution_count": 6,
   "metadata": {},
   "outputs": [
    {
     "data": {
      "text/html": [
       "<table>\n",
       "<thead><tr><th scope=col>name</th><th scope=col>plays</th></tr></thead>\n",
       "<tbody>\n",
       "\t<tr><td>John  </td><td>guitar</td></tr>\n",
       "\t<tr><td>Paul  </td><td>bass  </td></tr>\n",
       "\t<tr><td>Keith </td><td>guitar</td></tr>\n",
       "</tbody>\n",
       "</table>\n"
      ],
      "text/latex": [
       "\\begin{tabular}{r|ll}\n",
       " name & plays\\\\\n",
       "\\hline\n",
       "\t John   & guitar\\\\\n",
       "\t Paul   & bass  \\\\\n",
       "\t Keith  & guitar\\\\\n",
       "\\end{tabular}\n"
      ],
      "text/markdown": [
       "\n",
       "| name | plays |\n",
       "|---|---|\n",
       "| John   | guitar |\n",
       "| Paul   | bass   |\n",
       "| Keith  | guitar |\n",
       "\n"
      ],
      "text/plain": [
       "  name  plays \n",
       "1 John  guitar\n",
       "2 Paul  bass  \n",
       "3 Keith guitar"
      ]
     },
     "metadata": {},
     "output_type": "display_data"
    }
   ],
   "source": [
    "band_instruments"
   ]
  },
  {
   "cell_type": "code",
   "execution_count": 4,
   "metadata": {},
   "outputs": [
    {
     "data": {
      "text/html": [
       "<table>\n",
       "<thead><tr><th scope=col>name</th><th scope=col>band</th></tr></thead>\n",
       "<tbody>\n",
       "\t<tr><td>John   </td><td>Beatles</td></tr>\n",
       "\t<tr><td>Paul   </td><td>Beatles</td></tr>\n",
       "</tbody>\n",
       "</table>\n"
      ],
      "text/latex": [
       "\\begin{tabular}{r|ll}\n",
       " name & band\\\\\n",
       "\\hline\n",
       "\t John    & Beatles\\\\\n",
       "\t Paul    & Beatles\\\\\n",
       "\\end{tabular}\n"
      ],
      "text/markdown": [
       "\n",
       "| name | band |\n",
       "|---|---|\n",
       "| John    | Beatles |\n",
       "| Paul    | Beatles |\n",
       "\n"
      ],
      "text/plain": [
       "  name band   \n",
       "1 John Beatles\n",
       "2 Paul Beatles"
      ]
     },
     "metadata": {},
     "output_type": "display_data"
    }
   ],
   "source": [
    "#Return all observations in `band_members` with a match in `band_instruments` by column `name` in both data frames\n",
    "band_members %>% semi_join(band_instruments, by = 'name')"
   ]
  },
  {
   "cell_type": "code",
   "execution_count": 9,
   "metadata": {},
   "outputs": [
    {
     "data": {
      "text/html": [
       "<table>\n",
       "<thead><tr><th scope=col>name</th><th scope=col>band</th></tr></thead>\n",
       "<tbody>\n",
       "\t<tr><td>Mick  </td><td>Stones</td></tr>\n",
       "</tbody>\n",
       "</table>\n"
      ],
      "text/latex": [
       "\\begin{tabular}{r|ll}\n",
       " name & band\\\\\n",
       "\\hline\n",
       "\t Mick   & Stones\\\\\n",
       "\\end{tabular}\n"
      ],
      "text/markdown": [
       "\n",
       "| name | band |\n",
       "|---|---|\n",
       "| Mick   | Stones |\n",
       "\n"
      ],
      "text/plain": [
       "  name band  \n",
       "1 Mick Stones"
      ]
     },
     "metadata": {},
     "output_type": "display_data"
    }
   ],
   "source": [
    "#Return all observations in `band_members` do not have a match in `band_instruments` by column `name` in both data frames\n",
    "band_members %>% anti_join(band_instruments, by = 'name')"
   ]
  },
  {
   "cell_type": "code",
   "execution_count": null,
   "metadata": {},
   "outputs": [],
   "source": []
  }
 ],
 "metadata": {
  "kernelspec": {
   "display_name": "R",
   "language": "R",
   "name": "ir"
  },
  "language_info": {
   "codemirror_mode": "r",
   "file_extension": ".r",
   "mimetype": "text/x-r-source",
   "name": "R",
   "pygments_lexer": "r",
   "version": "3.6.1"
  }
 },
 "nbformat": 4,
 "nbformat_minor": 2
}
