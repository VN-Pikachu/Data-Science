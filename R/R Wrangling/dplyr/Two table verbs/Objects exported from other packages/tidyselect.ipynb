{
 "cells": [
  {
   "cell_type": "code",
   "execution_count": 3,
   "metadata": {},
   "outputs": [],
   "source": [
    "library(tidyverse)"
   ]
  },
  {
   "cell_type": "markdown",
   "metadata": {},
   "source": [
    "* **`all_of()`**\n",
    "* **`any_of()`**\n",
    "* **`contains()`**\n",
    "* **`ends_with()`**\n",
    "* **`everything()`**\n",
    "* **`last_col()`**\n",
    "* **`matches()`**\n",
    "* **`num_range()`**\n",
    "* **`one_of()`**\n",
    "* **`starts_with()`**\n",
    "* **`where()`**"
   ]
  },
  {
   "cell_type": "markdown",
   "metadata": {},
   "source": [
    "# Select variables from character vectors"
   ]
  },
  {
   "cell_type": "markdown",
   "metadata": {},
   "source": [
    "```r\n",
    "all_of(x)\n",
    "\n",
    "any_of(x, ..., vars = NULL)\n",
    "```"
   ]
  },
  {
   "cell_type": "markdown",
   "metadata": {},
   "source": [
    "### all_of()"
   ]
  },
  {
   "cell_type": "code",
   "execution_count": 2,
   "metadata": {},
   "outputs": [
    {
     "name": "stderr",
     "output_type": "stream",
     "text": [
      "Note: Using an external vector in selections is ambiguous.\n",
      "i Use `all_of(vars)` instead of `vars` to silence this message.\n",
      "i See <https://tidyselect.r-lib.org/reference/faq-external-vector.html>.\n",
      "This message is displayed once per session.\n"
     ]
    },
    {
     "data": {
      "text/html": [
       "<table>\n",
       "<thead><tr><th scope=col>Sepal.Length</th><th scope=col>Sepal.Width</th></tr></thead>\n",
       "<tbody>\n",
       "\t<tr><td>5.1</td><td>3.5</td></tr>\n",
       "\t<tr><td>4.9</td><td>3.0</td></tr>\n",
       "\t<tr><td>4.7</td><td>3.2</td></tr>\n",
       "\t<tr><td>4.6</td><td>3.1</td></tr>\n",
       "\t<tr><td>5.0</td><td>3.6</td></tr>\n",
       "\t<tr><td>5.4</td><td>3.9</td></tr>\n",
       "</tbody>\n",
       "</table>\n"
      ],
      "text/latex": [
       "\\begin{tabular}{r|ll}\n",
       " Sepal.Length & Sepal.Width\\\\\n",
       "\\hline\n",
       "\t 5.1 & 3.5\\\\\n",
       "\t 4.9 & 3.0\\\\\n",
       "\t 4.7 & 3.2\\\\\n",
       "\t 4.6 & 3.1\\\\\n",
       "\t 5.0 & 3.6\\\\\n",
       "\t 5.4 & 3.9\\\\\n",
       "\\end{tabular}\n"
      ],
      "text/markdown": [
       "\n",
       "| Sepal.Length | Sepal.Width |\n",
       "|---|---|\n",
       "| 5.1 | 3.5 |\n",
       "| 4.9 | 3.0 |\n",
       "| 4.7 | 3.2 |\n",
       "| 4.6 | 3.1 |\n",
       "| 5.0 | 3.6 |\n",
       "| 5.4 | 3.9 |\n",
       "\n"
      ],
      "text/plain": [
       "  Sepal.Length Sepal.Width\n",
       "1 5.1          3.5        \n",
       "2 4.9          3.0        \n",
       "3 4.7          3.2        \n",
       "4 4.6          3.1        \n",
       "5 5.0          3.6        \n",
       "6 5.4          3.9        "
      ]
     },
     "metadata": {},
     "output_type": "display_data"
    }
   ],
   "source": [
    "#To refer to these variables in selecting function, use all_of():\n",
    "\n",
    "vars <- c('Sepal.Length', 'Sepal.Width')\n",
    "#This will raise a message\n",
    "iris %>% select(vars) %>% head()"
   ]
  },
  {
   "cell_type": "code",
   "execution_count": 3,
   "metadata": {},
   "outputs": [
    {
     "data": {
      "text/html": [
       "<table>\n",
       "<thead><tr><th scope=col>Sepal.Length</th><th scope=col>Sepal.Width</th></tr></thead>\n",
       "<tbody>\n",
       "\t<tr><td>5.1</td><td>3.5</td></tr>\n",
       "\t<tr><td>4.9</td><td>3.0</td></tr>\n",
       "\t<tr><td>4.7</td><td>3.2</td></tr>\n",
       "\t<tr><td>4.6</td><td>3.1</td></tr>\n",
       "\t<tr><td>5.0</td><td>3.6</td></tr>\n",
       "\t<tr><td>5.4</td><td>3.9</td></tr>\n",
       "</tbody>\n",
       "</table>\n"
      ],
      "text/latex": [
       "\\begin{tabular}{r|ll}\n",
       " Sepal.Length & Sepal.Width\\\\\n",
       "\\hline\n",
       "\t 5.1 & 3.5\\\\\n",
       "\t 4.9 & 3.0\\\\\n",
       "\t 4.7 & 3.2\\\\\n",
       "\t 4.6 & 3.1\\\\\n",
       "\t 5.0 & 3.6\\\\\n",
       "\t 5.4 & 3.9\\\\\n",
       "\\end{tabular}\n"
      ],
      "text/markdown": [
       "\n",
       "| Sepal.Length | Sepal.Width |\n",
       "|---|---|\n",
       "| 5.1 | 3.5 |\n",
       "| 4.9 | 3.0 |\n",
       "| 4.7 | 3.2 |\n",
       "| 4.6 | 3.1 |\n",
       "| 5.0 | 3.6 |\n",
       "| 5.4 | 3.9 |\n",
       "\n"
      ],
      "text/plain": [
       "  Sepal.Length Sepal.Width\n",
       "1 5.1          3.5        \n",
       "2 4.9          3.0        \n",
       "3 4.7          3.2        \n",
       "4 4.6          3.1        \n",
       "5 5.0          3.6        \n",
       "6 5.4          3.9        "
      ]
     },
     "metadata": {},
     "output_type": "display_data"
    }
   ],
   "source": [
    "#Use this instead\n",
    "iris %>% select(all_of(vars)) %>% head()"
   ]
  },
  {
   "cell_type": "markdown",
   "metadata": {},
   "source": [
    "If any of the variable is missing from the data frame, that's an error:"
   ]
  },
  {
   "cell_type": "code",
   "execution_count": 6,
   "metadata": {},
   "outputs": [],
   "source": [
    "#starwars %>% select(vars)"
   ]
  },
  {
   "cell_type": "markdown",
   "metadata": {},
   "source": [
    "### any_of()"
   ]
  },
  {
   "cell_type": "markdown",
   "metadata": {},
   "source": [
    "Use `any_of()` to allow missing variables:"
   ]
  },
  {
   "cell_type": "code",
   "execution_count": 7,
   "metadata": {},
   "outputs": [
    {
     "data": {
      "text/html": [
       "<table>\n",
       "<thead><tr><th scope=col>Sepal.Length</th><th scope=col>Sepal.Width</th></tr></thead>\n",
       "<tbody>\n",
       "\t<tr><td>5.1</td><td>3.5</td></tr>\n",
       "\t<tr><td>4.9</td><td>3.0</td></tr>\n",
       "\t<tr><td>4.7</td><td>3.2</td></tr>\n",
       "\t<tr><td>4.6</td><td>3.1</td></tr>\n",
       "\t<tr><td>5.0</td><td>3.6</td></tr>\n",
       "\t<tr><td>5.4</td><td>3.9</td></tr>\n",
       "</tbody>\n",
       "</table>\n"
      ],
      "text/latex": [
       "\\begin{tabular}{r|ll}\n",
       " Sepal.Length & Sepal.Width\\\\\n",
       "\\hline\n",
       "\t 5.1 & 3.5\\\\\n",
       "\t 4.9 & 3.0\\\\\n",
       "\t 4.7 & 3.2\\\\\n",
       "\t 4.6 & 3.1\\\\\n",
       "\t 5.0 & 3.6\\\\\n",
       "\t 5.4 & 3.9\\\\\n",
       "\\end{tabular}\n"
      ],
      "text/markdown": [
       "\n",
       "| Sepal.Length | Sepal.Width |\n",
       "|---|---|\n",
       "| 5.1 | 3.5 |\n",
       "| 4.9 | 3.0 |\n",
       "| 4.7 | 3.2 |\n",
       "| 4.6 | 3.1 |\n",
       "| 5.0 | 3.6 |\n",
       "| 5.4 | 3.9 |\n",
       "\n"
      ],
      "text/plain": [
       "  Sepal.Length Sepal.Width\n",
       "1 5.1          3.5        \n",
       "2 4.9          3.0        \n",
       "3 4.7          3.2        \n",
       "4 4.6          3.1        \n",
       "5 5.0          3.6        \n",
       "6 5.4          3.9        "
      ]
     },
     "metadata": {},
     "output_type": "display_data"
    }
   ],
   "source": [
    "vars <- c('cyl', 'Sepal.Length', 'Sepal.Width', 'displ')\n",
    "\n",
    "iris %>% select(any_of(vars)) %>% head()"
   ]
  },
  {
   "cell_type": "markdown",
   "metadata": {},
   "source": [
    "`any_of()` is especially useful to remove variables from a data frame because calling it again does not cause an error:"
   ]
  },
  {
   "cell_type": "code",
   "execution_count": 9,
   "metadata": {},
   "outputs": [
    {
     "data": {
      "text/html": [
       "<table>\n",
       "<thead><tr><th scope=col>Petal.Length</th><th scope=col>Petal.Width</th><th scope=col>Species</th></tr></thead>\n",
       "<tbody>\n",
       "\t<tr><td>1.4   </td><td>0.2   </td><td>setosa</td></tr>\n",
       "\t<tr><td>1.4   </td><td>0.2   </td><td>setosa</td></tr>\n",
       "\t<tr><td>1.3   </td><td>0.2   </td><td>setosa</td></tr>\n",
       "\t<tr><td>1.5   </td><td>0.2   </td><td>setosa</td></tr>\n",
       "\t<tr><td>1.4   </td><td>0.2   </td><td>setosa</td></tr>\n",
       "\t<tr><td>1.7   </td><td>0.4   </td><td>setosa</td></tr>\n",
       "</tbody>\n",
       "</table>\n"
      ],
      "text/latex": [
       "\\begin{tabular}{r|lll}\n",
       " Petal.Length & Petal.Width & Species\\\\\n",
       "\\hline\n",
       "\t 1.4    & 0.2    & setosa\\\\\n",
       "\t 1.4    & 0.2    & setosa\\\\\n",
       "\t 1.3    & 0.2    & setosa\\\\\n",
       "\t 1.5    & 0.2    & setosa\\\\\n",
       "\t 1.4    & 0.2    & setosa\\\\\n",
       "\t 1.7    & 0.4    & setosa\\\\\n",
       "\\end{tabular}\n"
      ],
      "text/markdown": [
       "\n",
       "| Petal.Length | Petal.Width | Species |\n",
       "|---|---|---|\n",
       "| 1.4    | 0.2    | setosa |\n",
       "| 1.4    | 0.2    | setosa |\n",
       "| 1.3    | 0.2    | setosa |\n",
       "| 1.5    | 0.2    | setosa |\n",
       "| 1.4    | 0.2    | setosa |\n",
       "| 1.7    | 0.4    | setosa |\n",
       "\n"
      ],
      "text/plain": [
       "  Petal.Length Petal.Width Species\n",
       "1 1.4          0.2         setosa \n",
       "2 1.4          0.2         setosa \n",
       "3 1.3          0.2         setosa \n",
       "4 1.5          0.2         setosa \n",
       "5 1.4          0.2         setosa \n",
       "6 1.7          0.4         setosa "
      ]
     },
     "metadata": {},
     "output_type": "display_data"
    }
   ],
   "source": [
    "iris %>% select(-any_of(vars)) %>% head()\n",
    "#NOTE: use iris %>% select(!vars) will raise an error"
   ]
  },
  {
   "cell_type": "markdown",
   "metadata": {},
   "source": [
    "# Select all variables or the last variable"
   ]
  },
  {
   "cell_type": "markdown",
   "metadata": {},
   "source": [
    "* **`everything()`** selects all variable. It is also useful in combination with other tidyselect operators.\n",
    "\n",
    "* **`last_col()`** selects the last variable."
   ]
  },
  {
   "cell_type": "markdown",
   "metadata": {},
   "source": [
    "### everything()"
   ]
  },
  {
   "cell_type": "code",
   "execution_count": 14,
   "metadata": {},
   "outputs": [
    {
     "data": {
      "text/html": [
       "<table>\n",
       "<thead><tr><th scope=col>Sepal.Length</th><th scope=col>Sepal.Width</th><th scope=col>Petal.Length</th><th scope=col>Petal.Width</th><th scope=col>Species</th></tr></thead>\n",
       "<tbody>\n",
       "\t<tr><td>5.1   </td><td>3.5   </td><td>1.4   </td><td>0.2   </td><td>setosa</td></tr>\n",
       "\t<tr><td>4.9   </td><td>3.0   </td><td>1.4   </td><td>0.2   </td><td>setosa</td></tr>\n",
       "\t<tr><td>4.7   </td><td>3.2   </td><td>1.3   </td><td>0.2   </td><td>setosa</td></tr>\n",
       "\t<tr><td>4.6   </td><td>3.1   </td><td>1.5   </td><td>0.2   </td><td>setosa</td></tr>\n",
       "\t<tr><td>5.0   </td><td>3.6   </td><td>1.4   </td><td>0.2   </td><td>setosa</td></tr>\n",
       "\t<tr><td>5.4   </td><td>3.9   </td><td>1.7   </td><td>0.4   </td><td>setosa</td></tr>\n",
       "</tbody>\n",
       "</table>\n"
      ],
      "text/latex": [
       "\\begin{tabular}{r|lllll}\n",
       " Sepal.Length & Sepal.Width & Petal.Length & Petal.Width & Species\\\\\n",
       "\\hline\n",
       "\t 5.1    & 3.5    & 1.4    & 0.2    & setosa\\\\\n",
       "\t 4.9    & 3.0    & 1.4    & 0.2    & setosa\\\\\n",
       "\t 4.7    & 3.2    & 1.3    & 0.2    & setosa\\\\\n",
       "\t 4.6    & 3.1    & 1.5    & 0.2    & setosa\\\\\n",
       "\t 5.0    & 3.6    & 1.4    & 0.2    & setosa\\\\\n",
       "\t 5.4    & 3.9    & 1.7    & 0.4    & setosa\\\\\n",
       "\\end{tabular}\n"
      ],
      "text/markdown": [
       "\n",
       "| Sepal.Length | Sepal.Width | Petal.Length | Petal.Width | Species |\n",
       "|---|---|---|---|---|\n",
       "| 5.1    | 3.5    | 1.4    | 0.2    | setosa |\n",
       "| 4.9    | 3.0    | 1.4    | 0.2    | setosa |\n",
       "| 4.7    | 3.2    | 1.3    | 0.2    | setosa |\n",
       "| 4.6    | 3.1    | 1.5    | 0.2    | setosa |\n",
       "| 5.0    | 3.6    | 1.4    | 0.2    | setosa |\n",
       "| 5.4    | 3.9    | 1.7    | 0.4    | setosa |\n",
       "\n"
      ],
      "text/plain": [
       "  Sepal.Length Sepal.Width Petal.Length Petal.Width Species\n",
       "1 5.1          3.5         1.4          0.2         setosa \n",
       "2 4.9          3.0         1.4          0.2         setosa \n",
       "3 4.7          3.2         1.3          0.2         setosa \n",
       "4 4.6          3.1         1.5          0.2         setosa \n",
       "5 5.0          3.6         1.4          0.2         setosa \n",
       "6 5.4          3.9         1.7          0.4         setosa "
      ]
     },
     "metadata": {},
     "output_type": "display_data"
    }
   ],
   "source": [
    "iris %>% select(everything()) %>% head()"
   ]
  },
  {
   "cell_type": "code",
   "execution_count": 2,
   "metadata": {},
   "outputs": [
    {
     "data": {
      "text/html": [
       "<table>\n",
       "<thead><tr><th scope=col>Species</th><th scope=col>Sepal.Length</th><th scope=col>Sepal.Width</th><th scope=col>Petal.Length</th><th scope=col>Petal.Width</th></tr></thead>\n",
       "<tbody>\n",
       "\t<tr><td>setosa</td><td>5.1   </td><td>3.5   </td><td>1.4   </td><td>0.2   </td></tr>\n",
       "\t<tr><td>setosa</td><td>4.9   </td><td>3.0   </td><td>1.4   </td><td>0.2   </td></tr>\n",
       "\t<tr><td>setosa</td><td>4.7   </td><td>3.2   </td><td>1.3   </td><td>0.2   </td></tr>\n",
       "\t<tr><td>setosa</td><td>4.6   </td><td>3.1   </td><td>1.5   </td><td>0.2   </td></tr>\n",
       "\t<tr><td>setosa</td><td>5.0   </td><td>3.6   </td><td>1.4   </td><td>0.2   </td></tr>\n",
       "\t<tr><td>setosa</td><td>5.4   </td><td>3.9   </td><td>1.7   </td><td>0.4   </td></tr>\n",
       "</tbody>\n",
       "</table>\n"
      ],
      "text/latex": [
       "\\begin{tabular}{r|lllll}\n",
       " Species & Sepal.Length & Sepal.Width & Petal.Length & Petal.Width\\\\\n",
       "\\hline\n",
       "\t setosa & 5.1    & 3.5    & 1.4    & 0.2   \\\\\n",
       "\t setosa & 4.9    & 3.0    & 1.4    & 0.2   \\\\\n",
       "\t setosa & 4.7    & 3.2    & 1.3    & 0.2   \\\\\n",
       "\t setosa & 4.6    & 3.1    & 1.5    & 0.2   \\\\\n",
       "\t setosa & 5.0    & 3.6    & 1.4    & 0.2   \\\\\n",
       "\t setosa & 5.4    & 3.9    & 1.7    & 0.4   \\\\\n",
       "\\end{tabular}\n"
      ],
      "text/markdown": [
       "\n",
       "| Species | Sepal.Length | Sepal.Width | Petal.Length | Petal.Width |\n",
       "|---|---|---|---|---|\n",
       "| setosa | 5.1    | 3.5    | 1.4    | 0.2    |\n",
       "| setosa | 4.9    | 3.0    | 1.4    | 0.2    |\n",
       "| setosa | 4.7    | 3.2    | 1.3    | 0.2    |\n",
       "| setosa | 4.6    | 3.1    | 1.5    | 0.2    |\n",
       "| setosa | 5.0    | 3.6    | 1.4    | 0.2    |\n",
       "| setosa | 5.4    | 3.9    | 1.7    | 0.4    |\n",
       "\n"
      ],
      "text/plain": [
       "  Species Sepal.Length Sepal.Width Petal.Length Petal.Width\n",
       "1 setosa  5.1          3.5         1.4          0.2        \n",
       "2 setosa  4.9          3.0         1.4          0.2        \n",
       "3 setosa  4.7          3.2         1.3          0.2        \n",
       "4 setosa  4.6          3.1         1.5          0.2        \n",
       "5 setosa  5.0          3.6         1.4          0.2        \n",
       "6 setosa  5.4          3.9         1.7          0.4        "
      ]
     },
     "metadata": {},
     "output_type": "display_data"
    }
   ],
   "source": [
    "#First select Species, then select the rest\n",
    "iris %>% select(Species, everything()) %>% head()"
   ]
  },
  {
   "cell_type": "code",
   "execution_count": 15,
   "metadata": {},
   "outputs": [
    {
     "data": {
      "text/html": [
       "<table>\n",
       "<thead><tr><th scope=col>name</th><th scope=col>value</th></tr></thead>\n",
       "<tbody>\n",
       "\t<tr><td>mpg    </td><td> 21.000</td></tr>\n",
       "\t<tr><td>cyl    </td><td>  6.000</td></tr>\n",
       "\t<tr><td>disp   </td><td>160.000</td></tr>\n",
       "\t<tr><td>hp     </td><td>110.000</td></tr>\n",
       "\t<tr><td>drat   </td><td>  3.900</td></tr>\n",
       "\t<tr><td>wt     </td><td>  2.620</td></tr>\n",
       "\t<tr><td>qsec   </td><td> 16.460</td></tr>\n",
       "\t<tr><td>vs     </td><td>  0.000</td></tr>\n",
       "\t<tr><td>am     </td><td>  1.000</td></tr>\n",
       "\t<tr><td>gear   </td><td>  4.000</td></tr>\n",
       "\t<tr><td>carb   </td><td>  4.000</td></tr>\n",
       "\t<tr><td>mpg    </td><td> 21.000</td></tr>\n",
       "\t<tr><td>cyl    </td><td>  6.000</td></tr>\n",
       "\t<tr><td>disp   </td><td>160.000</td></tr>\n",
       "\t<tr><td>hp     </td><td>110.000</td></tr>\n",
       "\t<tr><td>drat   </td><td>  3.900</td></tr>\n",
       "\t<tr><td>wt     </td><td>  2.875</td></tr>\n",
       "\t<tr><td>qsec   </td><td> 17.020</td></tr>\n",
       "\t<tr><td>vs     </td><td>  0.000</td></tr>\n",
       "\t<tr><td>am     </td><td>  1.000</td></tr>\n",
       "\t<tr><td>gear   </td><td>  4.000</td></tr>\n",
       "\t<tr><td>carb   </td><td>  4.000</td></tr>\n",
       "\t<tr><td>mpg    </td><td> 22.800</td></tr>\n",
       "\t<tr><td>cyl    </td><td>  4.000</td></tr>\n",
       "\t<tr><td>disp   </td><td>108.000</td></tr>\n",
       "\t<tr><td>hp     </td><td> 93.000</td></tr>\n",
       "\t<tr><td>drat   </td><td>  3.850</td></tr>\n",
       "\t<tr><td>wt     </td><td>  2.320</td></tr>\n",
       "\t<tr><td>qsec   </td><td> 18.610</td></tr>\n",
       "\t<tr><td>vs     </td><td>  1.000</td></tr>\n",
       "\t<tr><td>...</td><td>...</td></tr>\n",
       "\t<tr><td>hp    </td><td>175.00</td></tr>\n",
       "\t<tr><td>drat  </td><td>  3.62</td></tr>\n",
       "\t<tr><td>wt    </td><td>  2.77</td></tr>\n",
       "\t<tr><td>qsec  </td><td> 15.50</td></tr>\n",
       "\t<tr><td>vs    </td><td>  0.00</td></tr>\n",
       "\t<tr><td>am    </td><td>  1.00</td></tr>\n",
       "\t<tr><td>gear  </td><td>  5.00</td></tr>\n",
       "\t<tr><td>carb  </td><td>  6.00</td></tr>\n",
       "\t<tr><td>mpg   </td><td> 15.00</td></tr>\n",
       "\t<tr><td>cyl   </td><td>  8.00</td></tr>\n",
       "\t<tr><td>disp  </td><td>301.00</td></tr>\n",
       "\t<tr><td>hp    </td><td>335.00</td></tr>\n",
       "\t<tr><td>drat  </td><td>  3.54</td></tr>\n",
       "\t<tr><td>wt    </td><td>  3.57</td></tr>\n",
       "\t<tr><td>qsec  </td><td> 14.60</td></tr>\n",
       "\t<tr><td>vs    </td><td>  0.00</td></tr>\n",
       "\t<tr><td>am    </td><td>  1.00</td></tr>\n",
       "\t<tr><td>gear  </td><td>  5.00</td></tr>\n",
       "\t<tr><td>carb  </td><td>  8.00</td></tr>\n",
       "\t<tr><td>mpg   </td><td> 21.40</td></tr>\n",
       "\t<tr><td>cyl   </td><td>  4.00</td></tr>\n",
       "\t<tr><td>disp  </td><td>121.00</td></tr>\n",
       "\t<tr><td>hp    </td><td>109.00</td></tr>\n",
       "\t<tr><td>drat  </td><td>  4.11</td></tr>\n",
       "\t<tr><td>wt    </td><td>  2.78</td></tr>\n",
       "\t<tr><td>qsec  </td><td> 18.60</td></tr>\n",
       "\t<tr><td>vs    </td><td>  1.00</td></tr>\n",
       "\t<tr><td>am    </td><td>  1.00</td></tr>\n",
       "\t<tr><td>gear  </td><td>  4.00</td></tr>\n",
       "\t<tr><td>carb  </td><td>  2.00</td></tr>\n",
       "</tbody>\n",
       "</table>\n"
      ],
      "text/latex": [
       "\\begin{tabular}{r|ll}\n",
       " name & value\\\\\n",
       "\\hline\n",
       "\t mpg     &  21.000\\\\\n",
       "\t cyl     &   6.000\\\\\n",
       "\t disp    & 160.000\\\\\n",
       "\t hp      & 110.000\\\\\n",
       "\t drat    &   3.900\\\\\n",
       "\t wt      &   2.620\\\\\n",
       "\t qsec    &  16.460\\\\\n",
       "\t vs      &   0.000\\\\\n",
       "\t am      &   1.000\\\\\n",
       "\t gear    &   4.000\\\\\n",
       "\t carb    &   4.000\\\\\n",
       "\t mpg     &  21.000\\\\\n",
       "\t cyl     &   6.000\\\\\n",
       "\t disp    & 160.000\\\\\n",
       "\t hp      & 110.000\\\\\n",
       "\t drat    &   3.900\\\\\n",
       "\t wt      &   2.875\\\\\n",
       "\t qsec    &  17.020\\\\\n",
       "\t vs      &   0.000\\\\\n",
       "\t am      &   1.000\\\\\n",
       "\t gear    &   4.000\\\\\n",
       "\t carb    &   4.000\\\\\n",
       "\t mpg     &  22.800\\\\\n",
       "\t cyl     &   4.000\\\\\n",
       "\t disp    & 108.000\\\\\n",
       "\t hp      &  93.000\\\\\n",
       "\t drat    &   3.850\\\\\n",
       "\t wt      &   2.320\\\\\n",
       "\t qsec    &  18.610\\\\\n",
       "\t vs      &   1.000\\\\\n",
       "\t ... & ...\\\\\n",
       "\t hp     & 175.00\\\\\n",
       "\t drat   &   3.62\\\\\n",
       "\t wt     &   2.77\\\\\n",
       "\t qsec   &  15.50\\\\\n",
       "\t vs     &   0.00\\\\\n",
       "\t am     &   1.00\\\\\n",
       "\t gear   &   5.00\\\\\n",
       "\t carb   &   6.00\\\\\n",
       "\t mpg    &  15.00\\\\\n",
       "\t cyl    &   8.00\\\\\n",
       "\t disp   & 301.00\\\\\n",
       "\t hp     & 335.00\\\\\n",
       "\t drat   &   3.54\\\\\n",
       "\t wt     &   3.57\\\\\n",
       "\t qsec   &  14.60\\\\\n",
       "\t vs     &   0.00\\\\\n",
       "\t am     &   1.00\\\\\n",
       "\t gear   &   5.00\\\\\n",
       "\t carb   &   8.00\\\\\n",
       "\t mpg    &  21.40\\\\\n",
       "\t cyl    &   4.00\\\\\n",
       "\t disp   & 121.00\\\\\n",
       "\t hp     & 109.00\\\\\n",
       "\t drat   &   4.11\\\\\n",
       "\t wt     &   2.78\\\\\n",
       "\t qsec   &  18.60\\\\\n",
       "\t vs     &   1.00\\\\\n",
       "\t am     &   1.00\\\\\n",
       "\t gear   &   4.00\\\\\n",
       "\t carb   &   2.00\\\\\n",
       "\\end{tabular}\n"
      ],
      "text/markdown": [
       "\n",
       "| name | value |\n",
       "|---|---|\n",
       "| mpg     |  21.000 |\n",
       "| cyl     |   6.000 |\n",
       "| disp    | 160.000 |\n",
       "| hp      | 110.000 |\n",
       "| drat    |   3.900 |\n",
       "| wt      |   2.620 |\n",
       "| qsec    |  16.460 |\n",
       "| vs      |   0.000 |\n",
       "| am      |   1.000 |\n",
       "| gear    |   4.000 |\n",
       "| carb    |   4.000 |\n",
       "| mpg     |  21.000 |\n",
       "| cyl     |   6.000 |\n",
       "| disp    | 160.000 |\n",
       "| hp      | 110.000 |\n",
       "| drat    |   3.900 |\n",
       "| wt      |   2.875 |\n",
       "| qsec    |  17.020 |\n",
       "| vs      |   0.000 |\n",
       "| am      |   1.000 |\n",
       "| gear    |   4.000 |\n",
       "| carb    |   4.000 |\n",
       "| mpg     |  22.800 |\n",
       "| cyl     |   4.000 |\n",
       "| disp    | 108.000 |\n",
       "| hp      |  93.000 |\n",
       "| drat    |   3.850 |\n",
       "| wt      |   2.320 |\n",
       "| qsec    |  18.610 |\n",
       "| vs      |   1.000 |\n",
       "| ... | ... |\n",
       "| hp     | 175.00 |\n",
       "| drat   |   3.62 |\n",
       "| wt     |   2.77 |\n",
       "| qsec   |  15.50 |\n",
       "| vs     |   0.00 |\n",
       "| am     |   1.00 |\n",
       "| gear   |   5.00 |\n",
       "| carb   |   6.00 |\n",
       "| mpg    |  15.00 |\n",
       "| cyl    |   8.00 |\n",
       "| disp   | 301.00 |\n",
       "| hp     | 335.00 |\n",
       "| drat   |   3.54 |\n",
       "| wt     |   3.57 |\n",
       "| qsec   |  14.60 |\n",
       "| vs     |   0.00 |\n",
       "| am     |   1.00 |\n",
       "| gear   |   5.00 |\n",
       "| carb   |   8.00 |\n",
       "| mpg    |  21.40 |\n",
       "| cyl    |   4.00 |\n",
       "| disp   | 121.00 |\n",
       "| hp     | 109.00 |\n",
       "| drat   |   4.11 |\n",
       "| wt     |   2.78 |\n",
       "| qsec   |  18.60 |\n",
       "| vs     |   1.00 |\n",
       "| am     |   1.00 |\n",
       "| gear   |   4.00 |\n",
       "| carb   |   2.00 |\n",
       "\n"
      ],
      "text/plain": [
       "    name value  \n",
       "1   mpg   21.000\n",
       "2   cyl    6.000\n",
       "3   disp 160.000\n",
       "4   hp   110.000\n",
       "5   drat   3.900\n",
       "6   wt     2.620\n",
       "7   qsec  16.460\n",
       "8   vs     0.000\n",
       "9   am     1.000\n",
       "10  gear   4.000\n",
       "11  carb   4.000\n",
       "12  mpg   21.000\n",
       "13  cyl    6.000\n",
       "14  disp 160.000\n",
       "15  hp   110.000\n",
       "16  drat   3.900\n",
       "17  wt     2.875\n",
       "18  qsec  17.020\n",
       "19  vs     0.000\n",
       "20  am     1.000\n",
       "21  gear   4.000\n",
       "22  carb   4.000\n",
       "23  mpg   22.800\n",
       "24  cyl    4.000\n",
       "25  disp 108.000\n",
       "26  hp    93.000\n",
       "27  drat   3.850\n",
       "28  wt     2.320\n",
       "29  qsec  18.610\n",
       "30  vs     1.000\n",
       "... ...  ...    \n",
       "323 hp   175.00 \n",
       "324 drat   3.62 \n",
       "325 wt     2.77 \n",
       "326 qsec  15.50 \n",
       "327 vs     0.00 \n",
       "328 am     1.00 \n",
       "329 gear   5.00 \n",
       "330 carb   6.00 \n",
       "331 mpg   15.00 \n",
       "332 cyl    8.00 \n",
       "333 disp 301.00 \n",
       "334 hp   335.00 \n",
       "335 drat   3.54 \n",
       "336 wt     3.57 \n",
       "337 qsec  14.60 \n",
       "338 vs     0.00 \n",
       "339 am     1.00 \n",
       "340 gear   5.00 \n",
       "341 carb   8.00 \n",
       "342 mpg   21.40 \n",
       "343 cyl    4.00 \n",
       "344 disp 121.00 \n",
       "345 hp   109.00 \n",
       "346 drat   4.11 \n",
       "347 wt     2.78 \n",
       "348 qsec  18.60 \n",
       "349 vs     1.00 \n",
       "350 am     1.00 \n",
       "351 gear   4.00 \n",
       "352 carb   2.00 "
      ]
     },
     "metadata": {},
     "output_type": "display_data"
    }
   ],
   "source": [
    "mtcars %>% pivot_longer(everything())"
   ]
  },
  {
   "cell_type": "markdown",
   "metadata": {},
   "source": [
    "### last_col()"
   ]
  },
  {
   "cell_type": "code",
   "execution_count": 6,
   "metadata": {},
   "outputs": [
    {
     "data": {
      "text/html": [
       "<pre class=language-r><code>function (offset = 0L, vars = NULL) \n",
       "NULL</code></pre>"
      ],
      "text/latex": [
       "\\begin{minted}{r}\n",
       "function (offset = 0L, vars = NULL) \n",
       "NULL\n",
       "\\end{minted}"
      ],
      "text/markdown": [
       "```r\n",
       "function (offset = 0L, vars = NULL) \n",
       "NULL\n",
       "```"
      ],
      "text/plain": [
       "function (offset = 0L, vars = NULL) \n",
       "NULL"
      ]
     },
     "metadata": {},
     "output_type": "display_data"
    }
   ],
   "source": [
    "args(last_col)"
   ]
  },
  {
   "cell_type": "code",
   "execution_count": 16,
   "metadata": {},
   "outputs": [
    {
     "data": {
      "text/html": [
       "<table>\n",
       "<thead><tr><th scope=col>Species</th></tr></thead>\n",
       "<tbody>\n",
       "\t<tr><td>setosa</td></tr>\n",
       "\t<tr><td>setosa</td></tr>\n",
       "\t<tr><td>setosa</td></tr>\n",
       "\t<tr><td>setosa</td></tr>\n",
       "\t<tr><td>setosa</td></tr>\n",
       "\t<tr><td>setosa</td></tr>\n",
       "\t<tr><td>setosa</td></tr>\n",
       "\t<tr><td>setosa</td></tr>\n",
       "\t<tr><td>setosa</td></tr>\n",
       "\t<tr><td>setosa</td></tr>\n",
       "\t<tr><td>setosa</td></tr>\n",
       "\t<tr><td>setosa</td></tr>\n",
       "\t<tr><td>setosa</td></tr>\n",
       "\t<tr><td>setosa</td></tr>\n",
       "\t<tr><td>setosa</td></tr>\n",
       "\t<tr><td>setosa</td></tr>\n",
       "\t<tr><td>setosa</td></tr>\n",
       "\t<tr><td>setosa</td></tr>\n",
       "\t<tr><td>setosa</td></tr>\n",
       "\t<tr><td>setosa</td></tr>\n",
       "\t<tr><td>setosa</td></tr>\n",
       "\t<tr><td>setosa</td></tr>\n",
       "\t<tr><td>setosa</td></tr>\n",
       "\t<tr><td>setosa</td></tr>\n",
       "\t<tr><td>setosa</td></tr>\n",
       "\t<tr><td>setosa</td></tr>\n",
       "\t<tr><td>setosa</td></tr>\n",
       "\t<tr><td>setosa</td></tr>\n",
       "\t<tr><td>setosa</td></tr>\n",
       "\t<tr><td>setosa</td></tr>\n",
       "\t<tr><td>...</td></tr>\n",
       "\t<tr><td>virginica</td></tr>\n",
       "\t<tr><td>virginica</td></tr>\n",
       "\t<tr><td>virginica</td></tr>\n",
       "\t<tr><td>virginica</td></tr>\n",
       "\t<tr><td>virginica</td></tr>\n",
       "\t<tr><td>virginica</td></tr>\n",
       "\t<tr><td>virginica</td></tr>\n",
       "\t<tr><td>virginica</td></tr>\n",
       "\t<tr><td>virginica</td></tr>\n",
       "\t<tr><td>virginica</td></tr>\n",
       "\t<tr><td>virginica</td></tr>\n",
       "\t<tr><td>virginica</td></tr>\n",
       "\t<tr><td>virginica</td></tr>\n",
       "\t<tr><td>virginica</td></tr>\n",
       "\t<tr><td>virginica</td></tr>\n",
       "\t<tr><td>virginica</td></tr>\n",
       "\t<tr><td>virginica</td></tr>\n",
       "\t<tr><td>virginica</td></tr>\n",
       "\t<tr><td>virginica</td></tr>\n",
       "\t<tr><td>virginica</td></tr>\n",
       "\t<tr><td>virginica</td></tr>\n",
       "\t<tr><td>virginica</td></tr>\n",
       "\t<tr><td>virginica</td></tr>\n",
       "\t<tr><td>virginica</td></tr>\n",
       "\t<tr><td>virginica</td></tr>\n",
       "\t<tr><td>virginica</td></tr>\n",
       "\t<tr><td>virginica</td></tr>\n",
       "\t<tr><td>virginica</td></tr>\n",
       "\t<tr><td>virginica</td></tr>\n",
       "\t<tr><td>virginica</td></tr>\n",
       "</tbody>\n",
       "</table>\n"
      ],
      "text/latex": [
       "\\begin{tabular}{r|l}\n",
       " Species\\\\\n",
       "\\hline\n",
       "\t setosa\\\\\n",
       "\t setosa\\\\\n",
       "\t setosa\\\\\n",
       "\t setosa\\\\\n",
       "\t setosa\\\\\n",
       "\t setosa\\\\\n",
       "\t setosa\\\\\n",
       "\t setosa\\\\\n",
       "\t setosa\\\\\n",
       "\t setosa\\\\\n",
       "\t setosa\\\\\n",
       "\t setosa\\\\\n",
       "\t setosa\\\\\n",
       "\t setosa\\\\\n",
       "\t setosa\\\\\n",
       "\t setosa\\\\\n",
       "\t setosa\\\\\n",
       "\t setosa\\\\\n",
       "\t setosa\\\\\n",
       "\t setosa\\\\\n",
       "\t setosa\\\\\n",
       "\t setosa\\\\\n",
       "\t setosa\\\\\n",
       "\t setosa\\\\\n",
       "\t setosa\\\\\n",
       "\t setosa\\\\\n",
       "\t setosa\\\\\n",
       "\t setosa\\\\\n",
       "\t setosa\\\\\n",
       "\t setosa\\\\\n",
       "\t ...\\\\\n",
       "\t virginica\\\\\n",
       "\t virginica\\\\\n",
       "\t virginica\\\\\n",
       "\t virginica\\\\\n",
       "\t virginica\\\\\n",
       "\t virginica\\\\\n",
       "\t virginica\\\\\n",
       "\t virginica\\\\\n",
       "\t virginica\\\\\n",
       "\t virginica\\\\\n",
       "\t virginica\\\\\n",
       "\t virginica\\\\\n",
       "\t virginica\\\\\n",
       "\t virginica\\\\\n",
       "\t virginica\\\\\n",
       "\t virginica\\\\\n",
       "\t virginica\\\\\n",
       "\t virginica\\\\\n",
       "\t virginica\\\\\n",
       "\t virginica\\\\\n",
       "\t virginica\\\\\n",
       "\t virginica\\\\\n",
       "\t virginica\\\\\n",
       "\t virginica\\\\\n",
       "\t virginica\\\\\n",
       "\t virginica\\\\\n",
       "\t virginica\\\\\n",
       "\t virginica\\\\\n",
       "\t virginica\\\\\n",
       "\t virginica\\\\\n",
       "\\end{tabular}\n"
      ],
      "text/markdown": [
       "\n",
       "| Species |\n",
       "|---|\n",
       "| setosa |\n",
       "| setosa |\n",
       "| setosa |\n",
       "| setosa |\n",
       "| setosa |\n",
       "| setosa |\n",
       "| setosa |\n",
       "| setosa |\n",
       "| setosa |\n",
       "| setosa |\n",
       "| setosa |\n",
       "| setosa |\n",
       "| setosa |\n",
       "| setosa |\n",
       "| setosa |\n",
       "| setosa |\n",
       "| setosa |\n",
       "| setosa |\n",
       "| setosa |\n",
       "| setosa |\n",
       "| setosa |\n",
       "| setosa |\n",
       "| setosa |\n",
       "| setosa |\n",
       "| setosa |\n",
       "| setosa |\n",
       "| setosa |\n",
       "| setosa |\n",
       "| setosa |\n",
       "| setosa |\n",
       "| ... |\n",
       "| virginica |\n",
       "| virginica |\n",
       "| virginica |\n",
       "| virginica |\n",
       "| virginica |\n",
       "| virginica |\n",
       "| virginica |\n",
       "| virginica |\n",
       "| virginica |\n",
       "| virginica |\n",
       "| virginica |\n",
       "| virginica |\n",
       "| virginica |\n",
       "| virginica |\n",
       "| virginica |\n",
       "| virginica |\n",
       "| virginica |\n",
       "| virginica |\n",
       "| virginica |\n",
       "| virginica |\n",
       "| virginica |\n",
       "| virginica |\n",
       "| virginica |\n",
       "| virginica |\n",
       "| virginica |\n",
       "| virginica |\n",
       "| virginica |\n",
       "| virginica |\n",
       "| virginica |\n",
       "| virginica |\n",
       "\n"
      ],
      "text/plain": [
       "    Species  \n",
       "1   setosa   \n",
       "2   setosa   \n",
       "3   setosa   \n",
       "4   setosa   \n",
       "5   setosa   \n",
       "6   setosa   \n",
       "7   setosa   \n",
       "8   setosa   \n",
       "9   setosa   \n",
       "10  setosa   \n",
       "11  setosa   \n",
       "12  setosa   \n",
       "13  setosa   \n",
       "14  setosa   \n",
       "15  setosa   \n",
       "16  setosa   \n",
       "17  setosa   \n",
       "18  setosa   \n",
       "19  setosa   \n",
       "20  setosa   \n",
       "21  setosa   \n",
       "22  setosa   \n",
       "23  setosa   \n",
       "24  setosa   \n",
       "25  setosa   \n",
       "26  setosa   \n",
       "27  setosa   \n",
       "28  setosa   \n",
       "29  setosa   \n",
       "30  setosa   \n",
       "... ...      \n",
       "121 virginica\n",
       "122 virginica\n",
       "123 virginica\n",
       "124 virginica\n",
       "125 virginica\n",
       "126 virginica\n",
       "127 virginica\n",
       "128 virginica\n",
       "129 virginica\n",
       "130 virginica\n",
       "131 virginica\n",
       "132 virginica\n",
       "133 virginica\n",
       "134 virginica\n",
       "135 virginica\n",
       "136 virginica\n",
       "137 virginica\n",
       "138 virginica\n",
       "139 virginica\n",
       "140 virginica\n",
       "141 virginica\n",
       "142 virginica\n",
       "143 virginica\n",
       "144 virginica\n",
       "145 virginica\n",
       "146 virginica\n",
       "147 virginica\n",
       "148 virginica\n",
       "149 virginica\n",
       "150 virginica"
      ]
     },
     "metadata": {},
     "output_type": "display_data"
    }
   ],
   "source": [
    "#Select last column\n",
    "iris %>% select(last_col())"
   ]
  },
  {
   "cell_type": "code",
   "execution_count": 7,
   "metadata": {},
   "outputs": [
    {
     "data": {
      "text/html": [
       "<table>\n",
       "<thead><tr><th scope=col>Petal.Width</th></tr></thead>\n",
       "<tbody>\n",
       "\t<tr><td>0.2</td></tr>\n",
       "\t<tr><td>0.2</td></tr>\n",
       "\t<tr><td>0.2</td></tr>\n",
       "\t<tr><td>0.2</td></tr>\n",
       "\t<tr><td>0.2</td></tr>\n",
       "\t<tr><td>0.4</td></tr>\n",
       "\t<tr><td>0.3</td></tr>\n",
       "\t<tr><td>0.2</td></tr>\n",
       "\t<tr><td>0.2</td></tr>\n",
       "\t<tr><td>0.1</td></tr>\n",
       "\t<tr><td>0.2</td></tr>\n",
       "\t<tr><td>0.2</td></tr>\n",
       "\t<tr><td>0.1</td></tr>\n",
       "\t<tr><td>0.1</td></tr>\n",
       "\t<tr><td>0.2</td></tr>\n",
       "\t<tr><td>0.4</td></tr>\n",
       "\t<tr><td>0.4</td></tr>\n",
       "\t<tr><td>0.3</td></tr>\n",
       "\t<tr><td>0.3</td></tr>\n",
       "\t<tr><td>0.3</td></tr>\n",
       "\t<tr><td>0.2</td></tr>\n",
       "\t<tr><td>0.4</td></tr>\n",
       "\t<tr><td>0.2</td></tr>\n",
       "\t<tr><td>0.5</td></tr>\n",
       "\t<tr><td>0.2</td></tr>\n",
       "\t<tr><td>0.2</td></tr>\n",
       "\t<tr><td>0.4</td></tr>\n",
       "\t<tr><td>0.2</td></tr>\n",
       "\t<tr><td>0.2</td></tr>\n",
       "\t<tr><td>0.2</td></tr>\n",
       "\t<tr><td>...</td></tr>\n",
       "\t<tr><td>2.3</td></tr>\n",
       "\t<tr><td>2.0</td></tr>\n",
       "\t<tr><td>2.0</td></tr>\n",
       "\t<tr><td>1.8</td></tr>\n",
       "\t<tr><td>2.1</td></tr>\n",
       "\t<tr><td>1.8</td></tr>\n",
       "\t<tr><td>1.8</td></tr>\n",
       "\t<tr><td>1.8</td></tr>\n",
       "\t<tr><td>2.1</td></tr>\n",
       "\t<tr><td>1.6</td></tr>\n",
       "\t<tr><td>1.9</td></tr>\n",
       "\t<tr><td>2.0</td></tr>\n",
       "\t<tr><td>2.2</td></tr>\n",
       "\t<tr><td>1.5</td></tr>\n",
       "\t<tr><td>1.4</td></tr>\n",
       "\t<tr><td>2.3</td></tr>\n",
       "\t<tr><td>2.4</td></tr>\n",
       "\t<tr><td>1.8</td></tr>\n",
       "\t<tr><td>1.8</td></tr>\n",
       "\t<tr><td>2.1</td></tr>\n",
       "\t<tr><td>2.4</td></tr>\n",
       "\t<tr><td>2.3</td></tr>\n",
       "\t<tr><td>1.9</td></tr>\n",
       "\t<tr><td>2.3</td></tr>\n",
       "\t<tr><td>2.5</td></tr>\n",
       "\t<tr><td>2.3</td></tr>\n",
       "\t<tr><td>1.9</td></tr>\n",
       "\t<tr><td>2.0</td></tr>\n",
       "\t<tr><td>2.3</td></tr>\n",
       "\t<tr><td>1.8</td></tr>\n",
       "</tbody>\n",
       "</table>\n"
      ],
      "text/latex": [
       "\\begin{tabular}{r|l}\n",
       " Petal.Width\\\\\n",
       "\\hline\n",
       "\t 0.2\\\\\n",
       "\t 0.2\\\\\n",
       "\t 0.2\\\\\n",
       "\t 0.2\\\\\n",
       "\t 0.2\\\\\n",
       "\t 0.4\\\\\n",
       "\t 0.3\\\\\n",
       "\t 0.2\\\\\n",
       "\t 0.2\\\\\n",
       "\t 0.1\\\\\n",
       "\t 0.2\\\\\n",
       "\t 0.2\\\\\n",
       "\t 0.1\\\\\n",
       "\t 0.1\\\\\n",
       "\t 0.2\\\\\n",
       "\t 0.4\\\\\n",
       "\t 0.4\\\\\n",
       "\t 0.3\\\\\n",
       "\t 0.3\\\\\n",
       "\t 0.3\\\\\n",
       "\t 0.2\\\\\n",
       "\t 0.4\\\\\n",
       "\t 0.2\\\\\n",
       "\t 0.5\\\\\n",
       "\t 0.2\\\\\n",
       "\t 0.2\\\\\n",
       "\t 0.4\\\\\n",
       "\t 0.2\\\\\n",
       "\t 0.2\\\\\n",
       "\t 0.2\\\\\n",
       "\t ...\\\\\n",
       "\t 2.3\\\\\n",
       "\t 2.0\\\\\n",
       "\t 2.0\\\\\n",
       "\t 1.8\\\\\n",
       "\t 2.1\\\\\n",
       "\t 1.8\\\\\n",
       "\t 1.8\\\\\n",
       "\t 1.8\\\\\n",
       "\t 2.1\\\\\n",
       "\t 1.6\\\\\n",
       "\t 1.9\\\\\n",
       "\t 2.0\\\\\n",
       "\t 2.2\\\\\n",
       "\t 1.5\\\\\n",
       "\t 1.4\\\\\n",
       "\t 2.3\\\\\n",
       "\t 2.4\\\\\n",
       "\t 1.8\\\\\n",
       "\t 1.8\\\\\n",
       "\t 2.1\\\\\n",
       "\t 2.4\\\\\n",
       "\t 2.3\\\\\n",
       "\t 1.9\\\\\n",
       "\t 2.3\\\\\n",
       "\t 2.5\\\\\n",
       "\t 2.3\\\\\n",
       "\t 1.9\\\\\n",
       "\t 2.0\\\\\n",
       "\t 2.3\\\\\n",
       "\t 1.8\\\\\n",
       "\\end{tabular}\n"
      ],
      "text/markdown": [
       "\n",
       "| Petal.Width |\n",
       "|---|\n",
       "| 0.2 |\n",
       "| 0.2 |\n",
       "| 0.2 |\n",
       "| 0.2 |\n",
       "| 0.2 |\n",
       "| 0.4 |\n",
       "| 0.3 |\n",
       "| 0.2 |\n",
       "| 0.2 |\n",
       "| 0.1 |\n",
       "| 0.2 |\n",
       "| 0.2 |\n",
       "| 0.1 |\n",
       "| 0.1 |\n",
       "| 0.2 |\n",
       "| 0.4 |\n",
       "| 0.4 |\n",
       "| 0.3 |\n",
       "| 0.3 |\n",
       "| 0.3 |\n",
       "| 0.2 |\n",
       "| 0.4 |\n",
       "| 0.2 |\n",
       "| 0.5 |\n",
       "| 0.2 |\n",
       "| 0.2 |\n",
       "| 0.4 |\n",
       "| 0.2 |\n",
       "| 0.2 |\n",
       "| 0.2 |\n",
       "| ... |\n",
       "| 2.3 |\n",
       "| 2.0 |\n",
       "| 2.0 |\n",
       "| 1.8 |\n",
       "| 2.1 |\n",
       "| 1.8 |\n",
       "| 1.8 |\n",
       "| 1.8 |\n",
       "| 2.1 |\n",
       "| 1.6 |\n",
       "| 1.9 |\n",
       "| 2.0 |\n",
       "| 2.2 |\n",
       "| 1.5 |\n",
       "| 1.4 |\n",
       "| 2.3 |\n",
       "| 2.4 |\n",
       "| 1.8 |\n",
       "| 1.8 |\n",
       "| 2.1 |\n",
       "| 2.4 |\n",
       "| 2.3 |\n",
       "| 1.9 |\n",
       "| 2.3 |\n",
       "| 2.5 |\n",
       "| 2.3 |\n",
       "| 1.9 |\n",
       "| 2.0 |\n",
       "| 2.3 |\n",
       "| 1.8 |\n",
       "\n"
      ],
      "text/plain": [
       "    Petal.Width\n",
       "1   0.2        \n",
       "2   0.2        \n",
       "3   0.2        \n",
       "4   0.2        \n",
       "5   0.2        \n",
       "6   0.4        \n",
       "7   0.3        \n",
       "8   0.2        \n",
       "9   0.2        \n",
       "10  0.1        \n",
       "11  0.2        \n",
       "12  0.2        \n",
       "13  0.1        \n",
       "14  0.1        \n",
       "15  0.2        \n",
       "16  0.4        \n",
       "17  0.4        \n",
       "18  0.3        \n",
       "19  0.3        \n",
       "20  0.3        \n",
       "21  0.2        \n",
       "22  0.4        \n",
       "23  0.2        \n",
       "24  0.5        \n",
       "25  0.2        \n",
       "26  0.2        \n",
       "27  0.4        \n",
       "28  0.2        \n",
       "29  0.2        \n",
       "30  0.2        \n",
       "... ...        \n",
       "121 2.3        \n",
       "122 2.0        \n",
       "123 2.0        \n",
       "124 1.8        \n",
       "125 2.1        \n",
       "126 1.8        \n",
       "127 1.8        \n",
       "128 1.8        \n",
       "129 2.1        \n",
       "130 1.6        \n",
       "131 1.9        \n",
       "132 2.0        \n",
       "133 2.2        \n",
       "134 1.5        \n",
       "135 1.4        \n",
       "136 2.3        \n",
       "137 2.4        \n",
       "138 1.8        \n",
       "139 1.8        \n",
       "140 2.1        \n",
       "141 2.4        \n",
       "142 2.3        \n",
       "143 1.9        \n",
       "144 2.3        \n",
       "145 2.5        \n",
       "146 2.3        \n",
       "147 1.9        \n",
       "148 2.0        \n",
       "149 2.3        \n",
       "150 1.8        "
      ]
     },
     "metadata": {},
     "output_type": "display_data"
    }
   ],
   "source": [
    "# select 1-th column for the end \n",
    "# default 0-th column for the end (i.e: the last column)\n",
    "iris %>% select(last_col(offset = 1))"
   ]
  },
  {
   "cell_type": "code",
   "execution_count": 17,
   "metadata": {},
   "outputs": [
    {
     "data": {
      "text/html": [
       "<table>\n",
       "<thead><tr><th scope=col>Sepal.Length</th><th scope=col>Sepal.Width</th><th scope=col>Petal.Length</th><th scope=col>Petal.Width</th><th scope=col>name</th><th scope=col>value</th></tr></thead>\n",
       "<tbody>\n",
       "\t<tr><td>5.1    </td><td>3.5    </td><td>1.4    </td><td>0.2    </td><td>Species</td><td>setosa </td></tr>\n",
       "\t<tr><td>4.9    </td><td>3.0    </td><td>1.4    </td><td>0.2    </td><td>Species</td><td>setosa </td></tr>\n",
       "\t<tr><td>4.7    </td><td>3.2    </td><td>1.3    </td><td>0.2    </td><td>Species</td><td>setosa </td></tr>\n",
       "\t<tr><td>4.6    </td><td>3.1    </td><td>1.5    </td><td>0.2    </td><td>Species</td><td>setosa </td></tr>\n",
       "\t<tr><td>5.0    </td><td>3.6    </td><td>1.4    </td><td>0.2    </td><td>Species</td><td>setosa </td></tr>\n",
       "\t<tr><td>5.4    </td><td>3.9    </td><td>1.7    </td><td>0.4    </td><td>Species</td><td>setosa </td></tr>\n",
       "\t<tr><td>4.6    </td><td>3.4    </td><td>1.4    </td><td>0.3    </td><td>Species</td><td>setosa </td></tr>\n",
       "\t<tr><td>5.0    </td><td>3.4    </td><td>1.5    </td><td>0.2    </td><td>Species</td><td>setosa </td></tr>\n",
       "\t<tr><td>4.4    </td><td>2.9    </td><td>1.4    </td><td>0.2    </td><td>Species</td><td>setosa </td></tr>\n",
       "\t<tr><td>4.9    </td><td>3.1    </td><td>1.5    </td><td>0.1    </td><td>Species</td><td>setosa </td></tr>\n",
       "\t<tr><td>5.4    </td><td>3.7    </td><td>1.5    </td><td>0.2    </td><td>Species</td><td>setosa </td></tr>\n",
       "\t<tr><td>4.8    </td><td>3.4    </td><td>1.6    </td><td>0.2    </td><td>Species</td><td>setosa </td></tr>\n",
       "\t<tr><td>4.8    </td><td>3.0    </td><td>1.4    </td><td>0.1    </td><td>Species</td><td>setosa </td></tr>\n",
       "\t<tr><td>4.3    </td><td>3.0    </td><td>1.1    </td><td>0.1    </td><td>Species</td><td>setosa </td></tr>\n",
       "\t<tr><td>5.8    </td><td>4.0    </td><td>1.2    </td><td>0.2    </td><td>Species</td><td>setosa </td></tr>\n",
       "\t<tr><td>5.7    </td><td>4.4    </td><td>1.5    </td><td>0.4    </td><td>Species</td><td>setosa </td></tr>\n",
       "\t<tr><td>5.4    </td><td>3.9    </td><td>1.3    </td><td>0.4    </td><td>Species</td><td>setosa </td></tr>\n",
       "\t<tr><td>5.1    </td><td>3.5    </td><td>1.4    </td><td>0.3    </td><td>Species</td><td>setosa </td></tr>\n",
       "\t<tr><td>5.7    </td><td>3.8    </td><td>1.7    </td><td>0.3    </td><td>Species</td><td>setosa </td></tr>\n",
       "\t<tr><td>5.1    </td><td>3.8    </td><td>1.5    </td><td>0.3    </td><td>Species</td><td>setosa </td></tr>\n",
       "\t<tr><td>5.4    </td><td>3.4    </td><td>1.7    </td><td>0.2    </td><td>Species</td><td>setosa </td></tr>\n",
       "\t<tr><td>5.1    </td><td>3.7    </td><td>1.5    </td><td>0.4    </td><td>Species</td><td>setosa </td></tr>\n",
       "\t<tr><td>4.6    </td><td>3.6    </td><td>1.0    </td><td>0.2    </td><td>Species</td><td>setosa </td></tr>\n",
       "\t<tr><td>5.1    </td><td>3.3    </td><td>1.7    </td><td>0.5    </td><td>Species</td><td>setosa </td></tr>\n",
       "\t<tr><td>4.8    </td><td>3.4    </td><td>1.9    </td><td>0.2    </td><td>Species</td><td>setosa </td></tr>\n",
       "\t<tr><td>5.0    </td><td>3.0    </td><td>1.6    </td><td>0.2    </td><td>Species</td><td>setosa </td></tr>\n",
       "\t<tr><td>5.0    </td><td>3.4    </td><td>1.6    </td><td>0.4    </td><td>Species</td><td>setosa </td></tr>\n",
       "\t<tr><td>5.2    </td><td>3.5    </td><td>1.5    </td><td>0.2    </td><td>Species</td><td>setosa </td></tr>\n",
       "\t<tr><td>5.2    </td><td>3.4    </td><td>1.4    </td><td>0.2    </td><td>Species</td><td>setosa </td></tr>\n",
       "\t<tr><td>4.7    </td><td>3.2    </td><td>1.6    </td><td>0.2    </td><td>Species</td><td>setosa </td></tr>\n",
       "\t<tr><td>...</td><td>...</td><td>...</td><td>...</td><td>...</td><td>...</td></tr>\n",
       "\t<tr><td>6.9      </td><td>3.2      </td><td>5.7      </td><td>2.3      </td><td>Species  </td><td>virginica</td></tr>\n",
       "\t<tr><td>5.6      </td><td>2.8      </td><td>4.9      </td><td>2.0      </td><td>Species  </td><td>virginica</td></tr>\n",
       "\t<tr><td>7.7      </td><td>2.8      </td><td>6.7      </td><td>2.0      </td><td>Species  </td><td>virginica</td></tr>\n",
       "\t<tr><td>6.3      </td><td>2.7      </td><td>4.9      </td><td>1.8      </td><td>Species  </td><td>virginica</td></tr>\n",
       "\t<tr><td>6.7      </td><td>3.3      </td><td>5.7      </td><td>2.1      </td><td>Species  </td><td>virginica</td></tr>\n",
       "\t<tr><td>7.2      </td><td>3.2      </td><td>6.0      </td><td>1.8      </td><td>Species  </td><td>virginica</td></tr>\n",
       "\t<tr><td>6.2      </td><td>2.8      </td><td>4.8      </td><td>1.8      </td><td>Species  </td><td>virginica</td></tr>\n",
       "\t<tr><td>6.1      </td><td>3.0      </td><td>4.9      </td><td>1.8      </td><td>Species  </td><td>virginica</td></tr>\n",
       "\t<tr><td>6.4      </td><td>2.8      </td><td>5.6      </td><td>2.1      </td><td>Species  </td><td>virginica</td></tr>\n",
       "\t<tr><td>7.2      </td><td>3.0      </td><td>5.8      </td><td>1.6      </td><td>Species  </td><td>virginica</td></tr>\n",
       "\t<tr><td>7.4      </td><td>2.8      </td><td>6.1      </td><td>1.9      </td><td>Species  </td><td>virginica</td></tr>\n",
       "\t<tr><td>7.9      </td><td>3.8      </td><td>6.4      </td><td>2.0      </td><td>Species  </td><td>virginica</td></tr>\n",
       "\t<tr><td>6.4      </td><td>2.8      </td><td>5.6      </td><td>2.2      </td><td>Species  </td><td>virginica</td></tr>\n",
       "\t<tr><td>6.3      </td><td>2.8      </td><td>5.1      </td><td>1.5      </td><td>Species  </td><td>virginica</td></tr>\n",
       "\t<tr><td>6.1      </td><td>2.6      </td><td>5.6      </td><td>1.4      </td><td>Species  </td><td>virginica</td></tr>\n",
       "\t<tr><td>7.7      </td><td>3.0      </td><td>6.1      </td><td>2.3      </td><td>Species  </td><td>virginica</td></tr>\n",
       "\t<tr><td>6.3      </td><td>3.4      </td><td>5.6      </td><td>2.4      </td><td>Species  </td><td>virginica</td></tr>\n",
       "\t<tr><td>6.4      </td><td>3.1      </td><td>5.5      </td><td>1.8      </td><td>Species  </td><td>virginica</td></tr>\n",
       "\t<tr><td>6.0      </td><td>3.0      </td><td>4.8      </td><td>1.8      </td><td>Species  </td><td>virginica</td></tr>\n",
       "\t<tr><td>6.9      </td><td>3.1      </td><td>5.4      </td><td>2.1      </td><td>Species  </td><td>virginica</td></tr>\n",
       "\t<tr><td>6.7      </td><td>3.1      </td><td>5.6      </td><td>2.4      </td><td>Species  </td><td>virginica</td></tr>\n",
       "\t<tr><td>6.9      </td><td>3.1      </td><td>5.1      </td><td>2.3      </td><td>Species  </td><td>virginica</td></tr>\n",
       "\t<tr><td>5.8      </td><td>2.7      </td><td>5.1      </td><td>1.9      </td><td>Species  </td><td>virginica</td></tr>\n",
       "\t<tr><td>6.8      </td><td>3.2      </td><td>5.9      </td><td>2.3      </td><td>Species  </td><td>virginica</td></tr>\n",
       "\t<tr><td>6.7      </td><td>3.3      </td><td>5.7      </td><td>2.5      </td><td>Species  </td><td>virginica</td></tr>\n",
       "\t<tr><td>6.7      </td><td>3.0      </td><td>5.2      </td><td>2.3      </td><td>Species  </td><td>virginica</td></tr>\n",
       "\t<tr><td>6.3      </td><td>2.5      </td><td>5.0      </td><td>1.9      </td><td>Species  </td><td>virginica</td></tr>\n",
       "\t<tr><td>6.5      </td><td>3.0      </td><td>5.2      </td><td>2.0      </td><td>Species  </td><td>virginica</td></tr>\n",
       "\t<tr><td>6.2      </td><td>3.4      </td><td>5.4      </td><td>2.3      </td><td>Species  </td><td>virginica</td></tr>\n",
       "\t<tr><td>5.9      </td><td>3.0      </td><td>5.1      </td><td>1.8      </td><td>Species  </td><td>virginica</td></tr>\n",
       "</tbody>\n",
       "</table>\n"
      ],
      "text/latex": [
       "\\begin{tabular}{r|llllll}\n",
       " Sepal.Length & Sepal.Width & Petal.Length & Petal.Width & name & value\\\\\n",
       "\\hline\n",
       "\t 5.1     & 3.5     & 1.4     & 0.2     & Species & setosa \\\\\n",
       "\t 4.9     & 3.0     & 1.4     & 0.2     & Species & setosa \\\\\n",
       "\t 4.7     & 3.2     & 1.3     & 0.2     & Species & setosa \\\\\n",
       "\t 4.6     & 3.1     & 1.5     & 0.2     & Species & setosa \\\\\n",
       "\t 5.0     & 3.6     & 1.4     & 0.2     & Species & setosa \\\\\n",
       "\t 5.4     & 3.9     & 1.7     & 0.4     & Species & setosa \\\\\n",
       "\t 4.6     & 3.4     & 1.4     & 0.3     & Species & setosa \\\\\n",
       "\t 5.0     & 3.4     & 1.5     & 0.2     & Species & setosa \\\\\n",
       "\t 4.4     & 2.9     & 1.4     & 0.2     & Species & setosa \\\\\n",
       "\t 4.9     & 3.1     & 1.5     & 0.1     & Species & setosa \\\\\n",
       "\t 5.4     & 3.7     & 1.5     & 0.2     & Species & setosa \\\\\n",
       "\t 4.8     & 3.4     & 1.6     & 0.2     & Species & setosa \\\\\n",
       "\t 4.8     & 3.0     & 1.4     & 0.1     & Species & setosa \\\\\n",
       "\t 4.3     & 3.0     & 1.1     & 0.1     & Species & setosa \\\\\n",
       "\t 5.8     & 4.0     & 1.2     & 0.2     & Species & setosa \\\\\n",
       "\t 5.7     & 4.4     & 1.5     & 0.4     & Species & setosa \\\\\n",
       "\t 5.4     & 3.9     & 1.3     & 0.4     & Species & setosa \\\\\n",
       "\t 5.1     & 3.5     & 1.4     & 0.3     & Species & setosa \\\\\n",
       "\t 5.7     & 3.8     & 1.7     & 0.3     & Species & setosa \\\\\n",
       "\t 5.1     & 3.8     & 1.5     & 0.3     & Species & setosa \\\\\n",
       "\t 5.4     & 3.4     & 1.7     & 0.2     & Species & setosa \\\\\n",
       "\t 5.1     & 3.7     & 1.5     & 0.4     & Species & setosa \\\\\n",
       "\t 4.6     & 3.6     & 1.0     & 0.2     & Species & setosa \\\\\n",
       "\t 5.1     & 3.3     & 1.7     & 0.5     & Species & setosa \\\\\n",
       "\t 4.8     & 3.4     & 1.9     & 0.2     & Species & setosa \\\\\n",
       "\t 5.0     & 3.0     & 1.6     & 0.2     & Species & setosa \\\\\n",
       "\t 5.0     & 3.4     & 1.6     & 0.4     & Species & setosa \\\\\n",
       "\t 5.2     & 3.5     & 1.5     & 0.2     & Species & setosa \\\\\n",
       "\t 5.2     & 3.4     & 1.4     & 0.2     & Species & setosa \\\\\n",
       "\t 4.7     & 3.2     & 1.6     & 0.2     & Species & setosa \\\\\n",
       "\t ... & ... & ... & ... & ... & ...\\\\\n",
       "\t 6.9       & 3.2       & 5.7       & 2.3       & Species   & virginica\\\\\n",
       "\t 5.6       & 2.8       & 4.9       & 2.0       & Species   & virginica\\\\\n",
       "\t 7.7       & 2.8       & 6.7       & 2.0       & Species   & virginica\\\\\n",
       "\t 6.3       & 2.7       & 4.9       & 1.8       & Species   & virginica\\\\\n",
       "\t 6.7       & 3.3       & 5.7       & 2.1       & Species   & virginica\\\\\n",
       "\t 7.2       & 3.2       & 6.0       & 1.8       & Species   & virginica\\\\\n",
       "\t 6.2       & 2.8       & 4.8       & 1.8       & Species   & virginica\\\\\n",
       "\t 6.1       & 3.0       & 4.9       & 1.8       & Species   & virginica\\\\\n",
       "\t 6.4       & 2.8       & 5.6       & 2.1       & Species   & virginica\\\\\n",
       "\t 7.2       & 3.0       & 5.8       & 1.6       & Species   & virginica\\\\\n",
       "\t 7.4       & 2.8       & 6.1       & 1.9       & Species   & virginica\\\\\n",
       "\t 7.9       & 3.8       & 6.4       & 2.0       & Species   & virginica\\\\\n",
       "\t 6.4       & 2.8       & 5.6       & 2.2       & Species   & virginica\\\\\n",
       "\t 6.3       & 2.8       & 5.1       & 1.5       & Species   & virginica\\\\\n",
       "\t 6.1       & 2.6       & 5.6       & 1.4       & Species   & virginica\\\\\n",
       "\t 7.7       & 3.0       & 6.1       & 2.3       & Species   & virginica\\\\\n",
       "\t 6.3       & 3.4       & 5.6       & 2.4       & Species   & virginica\\\\\n",
       "\t 6.4       & 3.1       & 5.5       & 1.8       & Species   & virginica\\\\\n",
       "\t 6.0       & 3.0       & 4.8       & 1.8       & Species   & virginica\\\\\n",
       "\t 6.9       & 3.1       & 5.4       & 2.1       & Species   & virginica\\\\\n",
       "\t 6.7       & 3.1       & 5.6       & 2.4       & Species   & virginica\\\\\n",
       "\t 6.9       & 3.1       & 5.1       & 2.3       & Species   & virginica\\\\\n",
       "\t 5.8       & 2.7       & 5.1       & 1.9       & Species   & virginica\\\\\n",
       "\t 6.8       & 3.2       & 5.9       & 2.3       & Species   & virginica\\\\\n",
       "\t 6.7       & 3.3       & 5.7       & 2.5       & Species   & virginica\\\\\n",
       "\t 6.7       & 3.0       & 5.2       & 2.3       & Species   & virginica\\\\\n",
       "\t 6.3       & 2.5       & 5.0       & 1.9       & Species   & virginica\\\\\n",
       "\t 6.5       & 3.0       & 5.2       & 2.0       & Species   & virginica\\\\\n",
       "\t 6.2       & 3.4       & 5.4       & 2.3       & Species   & virginica\\\\\n",
       "\t 5.9       & 3.0       & 5.1       & 1.8       & Species   & virginica\\\\\n",
       "\\end{tabular}\n"
      ],
      "text/markdown": [
       "\n",
       "| Sepal.Length | Sepal.Width | Petal.Length | Petal.Width | name | value |\n",
       "|---|---|---|---|---|---|\n",
       "| 5.1     | 3.5     | 1.4     | 0.2     | Species | setosa  |\n",
       "| 4.9     | 3.0     | 1.4     | 0.2     | Species | setosa  |\n",
       "| 4.7     | 3.2     | 1.3     | 0.2     | Species | setosa  |\n",
       "| 4.6     | 3.1     | 1.5     | 0.2     | Species | setosa  |\n",
       "| 5.0     | 3.6     | 1.4     | 0.2     | Species | setosa  |\n",
       "| 5.4     | 3.9     | 1.7     | 0.4     | Species | setosa  |\n",
       "| 4.6     | 3.4     | 1.4     | 0.3     | Species | setosa  |\n",
       "| 5.0     | 3.4     | 1.5     | 0.2     | Species | setosa  |\n",
       "| 4.4     | 2.9     | 1.4     | 0.2     | Species | setosa  |\n",
       "| 4.9     | 3.1     | 1.5     | 0.1     | Species | setosa  |\n",
       "| 5.4     | 3.7     | 1.5     | 0.2     | Species | setosa  |\n",
       "| 4.8     | 3.4     | 1.6     | 0.2     | Species | setosa  |\n",
       "| 4.8     | 3.0     | 1.4     | 0.1     | Species | setosa  |\n",
       "| 4.3     | 3.0     | 1.1     | 0.1     | Species | setosa  |\n",
       "| 5.8     | 4.0     | 1.2     | 0.2     | Species | setosa  |\n",
       "| 5.7     | 4.4     | 1.5     | 0.4     | Species | setosa  |\n",
       "| 5.4     | 3.9     | 1.3     | 0.4     | Species | setosa  |\n",
       "| 5.1     | 3.5     | 1.4     | 0.3     | Species | setosa  |\n",
       "| 5.7     | 3.8     | 1.7     | 0.3     | Species | setosa  |\n",
       "| 5.1     | 3.8     | 1.5     | 0.3     | Species | setosa  |\n",
       "| 5.4     | 3.4     | 1.7     | 0.2     | Species | setosa  |\n",
       "| 5.1     | 3.7     | 1.5     | 0.4     | Species | setosa  |\n",
       "| 4.6     | 3.6     | 1.0     | 0.2     | Species | setosa  |\n",
       "| 5.1     | 3.3     | 1.7     | 0.5     | Species | setosa  |\n",
       "| 4.8     | 3.4     | 1.9     | 0.2     | Species | setosa  |\n",
       "| 5.0     | 3.0     | 1.6     | 0.2     | Species | setosa  |\n",
       "| 5.0     | 3.4     | 1.6     | 0.4     | Species | setosa  |\n",
       "| 5.2     | 3.5     | 1.5     | 0.2     | Species | setosa  |\n",
       "| 5.2     | 3.4     | 1.4     | 0.2     | Species | setosa  |\n",
       "| 4.7     | 3.2     | 1.6     | 0.2     | Species | setosa  |\n",
       "| ... | ... | ... | ... | ... | ... |\n",
       "| 6.9       | 3.2       | 5.7       | 2.3       | Species   | virginica |\n",
       "| 5.6       | 2.8       | 4.9       | 2.0       | Species   | virginica |\n",
       "| 7.7       | 2.8       | 6.7       | 2.0       | Species   | virginica |\n",
       "| 6.3       | 2.7       | 4.9       | 1.8       | Species   | virginica |\n",
       "| 6.7       | 3.3       | 5.7       | 2.1       | Species   | virginica |\n",
       "| 7.2       | 3.2       | 6.0       | 1.8       | Species   | virginica |\n",
       "| 6.2       | 2.8       | 4.8       | 1.8       | Species   | virginica |\n",
       "| 6.1       | 3.0       | 4.9       | 1.8       | Species   | virginica |\n",
       "| 6.4       | 2.8       | 5.6       | 2.1       | Species   | virginica |\n",
       "| 7.2       | 3.0       | 5.8       | 1.6       | Species   | virginica |\n",
       "| 7.4       | 2.8       | 6.1       | 1.9       | Species   | virginica |\n",
       "| 7.9       | 3.8       | 6.4       | 2.0       | Species   | virginica |\n",
       "| 6.4       | 2.8       | 5.6       | 2.2       | Species   | virginica |\n",
       "| 6.3       | 2.8       | 5.1       | 1.5       | Species   | virginica |\n",
       "| 6.1       | 2.6       | 5.6       | 1.4       | Species   | virginica |\n",
       "| 7.7       | 3.0       | 6.1       | 2.3       | Species   | virginica |\n",
       "| 6.3       | 3.4       | 5.6       | 2.4       | Species   | virginica |\n",
       "| 6.4       | 3.1       | 5.5       | 1.8       | Species   | virginica |\n",
       "| 6.0       | 3.0       | 4.8       | 1.8       | Species   | virginica |\n",
       "| 6.9       | 3.1       | 5.4       | 2.1       | Species   | virginica |\n",
       "| 6.7       | 3.1       | 5.6       | 2.4       | Species   | virginica |\n",
       "| 6.9       | 3.1       | 5.1       | 2.3       | Species   | virginica |\n",
       "| 5.8       | 2.7       | 5.1       | 1.9       | Species   | virginica |\n",
       "| 6.8       | 3.2       | 5.9       | 2.3       | Species   | virginica |\n",
       "| 6.7       | 3.3       | 5.7       | 2.5       | Species   | virginica |\n",
       "| 6.7       | 3.0       | 5.2       | 2.3       | Species   | virginica |\n",
       "| 6.3       | 2.5       | 5.0       | 1.9       | Species   | virginica |\n",
       "| 6.5       | 3.0       | 5.2       | 2.0       | Species   | virginica |\n",
       "| 6.2       | 3.4       | 5.4       | 2.3       | Species   | virginica |\n",
       "| 5.9       | 3.0       | 5.1       | 1.8       | Species   | virginica |\n",
       "\n"
      ],
      "text/plain": [
       "    Sepal.Length Sepal.Width Petal.Length Petal.Width name    value    \n",
       "1   5.1          3.5         1.4          0.2         Species setosa   \n",
       "2   4.9          3.0         1.4          0.2         Species setosa   \n",
       "3   4.7          3.2         1.3          0.2         Species setosa   \n",
       "4   4.6          3.1         1.5          0.2         Species setosa   \n",
       "5   5.0          3.6         1.4          0.2         Species setosa   \n",
       "6   5.4          3.9         1.7          0.4         Species setosa   \n",
       "7   4.6          3.4         1.4          0.3         Species setosa   \n",
       "8   5.0          3.4         1.5          0.2         Species setosa   \n",
       "9   4.4          2.9         1.4          0.2         Species setosa   \n",
       "10  4.9          3.1         1.5          0.1         Species setosa   \n",
       "11  5.4          3.7         1.5          0.2         Species setosa   \n",
       "12  4.8          3.4         1.6          0.2         Species setosa   \n",
       "13  4.8          3.0         1.4          0.1         Species setosa   \n",
       "14  4.3          3.0         1.1          0.1         Species setosa   \n",
       "15  5.8          4.0         1.2          0.2         Species setosa   \n",
       "16  5.7          4.4         1.5          0.4         Species setosa   \n",
       "17  5.4          3.9         1.3          0.4         Species setosa   \n",
       "18  5.1          3.5         1.4          0.3         Species setosa   \n",
       "19  5.7          3.8         1.7          0.3         Species setosa   \n",
       "20  5.1          3.8         1.5          0.3         Species setosa   \n",
       "21  5.4          3.4         1.7          0.2         Species setosa   \n",
       "22  5.1          3.7         1.5          0.4         Species setosa   \n",
       "23  4.6          3.6         1.0          0.2         Species setosa   \n",
       "24  5.1          3.3         1.7          0.5         Species setosa   \n",
       "25  4.8          3.4         1.9          0.2         Species setosa   \n",
       "26  5.0          3.0         1.6          0.2         Species setosa   \n",
       "27  5.0          3.4         1.6          0.4         Species setosa   \n",
       "28  5.2          3.5         1.5          0.2         Species setosa   \n",
       "29  5.2          3.4         1.4          0.2         Species setosa   \n",
       "30  4.7          3.2         1.6          0.2         Species setosa   \n",
       "... ...          ...         ...          ...         ...     ...      \n",
       "121 6.9          3.2         5.7          2.3         Species virginica\n",
       "122 5.6          2.8         4.9          2.0         Species virginica\n",
       "123 7.7          2.8         6.7          2.0         Species virginica\n",
       "124 6.3          2.7         4.9          1.8         Species virginica\n",
       "125 6.7          3.3         5.7          2.1         Species virginica\n",
       "126 7.2          3.2         6.0          1.8         Species virginica\n",
       "127 6.2          2.8         4.8          1.8         Species virginica\n",
       "128 6.1          3.0         4.9          1.8         Species virginica\n",
       "129 6.4          2.8         5.6          2.1         Species virginica\n",
       "130 7.2          3.0         5.8          1.6         Species virginica\n",
       "131 7.4          2.8         6.1          1.9         Species virginica\n",
       "132 7.9          3.8         6.4          2.0         Species virginica\n",
       "133 6.4          2.8         5.6          2.2         Species virginica\n",
       "134 6.3          2.8         5.1          1.5         Species virginica\n",
       "135 6.1          2.6         5.6          1.4         Species virginica\n",
       "136 7.7          3.0         6.1          2.3         Species virginica\n",
       "137 6.3          3.4         5.6          2.4         Species virginica\n",
       "138 6.4          3.1         5.5          1.8         Species virginica\n",
       "139 6.0          3.0         4.8          1.8         Species virginica\n",
       "140 6.9          3.1         5.4          2.1         Species virginica\n",
       "141 6.7          3.1         5.6          2.4         Species virginica\n",
       "142 6.9          3.1         5.1          2.3         Species virginica\n",
       "143 5.8          2.7         5.1          1.9         Species virginica\n",
       "144 6.8          3.2         5.9          2.3         Species virginica\n",
       "145 6.7          3.3         5.7          2.5         Species virginica\n",
       "146 6.7          3.0         5.2          2.3         Species virginica\n",
       "147 6.3          2.5         5.0          1.9         Species virginica\n",
       "148 6.5          3.0         5.2          2.0         Species virginica\n",
       "149 6.2          3.4         5.4          2.3         Species virginica\n",
       "150 5.9          3.0         5.1          1.8         Species virginica"
      ]
     },
     "metadata": {},
     "output_type": "display_data"
    }
   ],
   "source": [
    "iris %>% pivot_longer(last_col())"
   ]
  },
  {
   "cell_type": "markdown",
   "metadata": {},
   "source": [
    "# Select variables that match a pattern"
   ]
  },
  {
   "cell_type": "markdown",
   "metadata": {},
   "source": [
    "These selection helpers match variables according to a given pattern.\n",
    "\n",
    "* **`starts_with()`**: Starts with a prefix.\n",
    "\n",
    "* **`ends_with()`**: Ends with a suffix.\n",
    "\n",
    "* **`contains()`**: Contains a literal string.\n",
    "\n",
    "* **`matches()`**: Matches a regular expression.\n",
    "\n",
    "* **`num_range()`**: Matches a numerical range like x01, x02, x03."
   ]
  },
  {
   "cell_type": "markdown",
   "metadata": {},
   "source": [
    "```R\n",
    "starts_with(match, ignore.case = TRUE, vars = NULL)\n",
    "\n",
    "ends_with(match, ignore.case = TRUE, vars = NULL)\n",
    "\n",
    "contains(match, ignore.case = TRUE, vars = NULL)\n",
    "\n",
    "matches(match, ignore.case = TRUE, perl = FALSE, vars = NULL)\n",
    "\n",
    "num_range(prefix, range, width = NULL, vars = NULL)\n",
    "```"
   ]
  },
  {
   "cell_type": "code",
   "execution_count": 19,
   "metadata": {},
   "outputs": [
    {
     "data": {
      "text/html": [
       "<table>\n",
       "<thead><tr><th scope=col>Sepal.Length</th><th scope=col>Sepal.Width</th></tr></thead>\n",
       "<tbody>\n",
       "\t<tr><td>5.1</td><td>3.5</td></tr>\n",
       "\t<tr><td>4.9</td><td>3.0</td></tr>\n",
       "\t<tr><td>4.7</td><td>3.2</td></tr>\n",
       "\t<tr><td>4.6</td><td>3.1</td></tr>\n",
       "\t<tr><td>5.0</td><td>3.6</td></tr>\n",
       "\t<tr><td>5.4</td><td>3.9</td></tr>\n",
       "</tbody>\n",
       "</table>\n"
      ],
      "text/latex": [
       "\\begin{tabular}{r|ll}\n",
       " Sepal.Length & Sepal.Width\\\\\n",
       "\\hline\n",
       "\t 5.1 & 3.5\\\\\n",
       "\t 4.9 & 3.0\\\\\n",
       "\t 4.7 & 3.2\\\\\n",
       "\t 4.6 & 3.1\\\\\n",
       "\t 5.0 & 3.6\\\\\n",
       "\t 5.4 & 3.9\\\\\n",
       "\\end{tabular}\n"
      ],
      "text/markdown": [
       "\n",
       "| Sepal.Length | Sepal.Width |\n",
       "|---|---|\n",
       "| 5.1 | 3.5 |\n",
       "| 4.9 | 3.0 |\n",
       "| 4.7 | 3.2 |\n",
       "| 4.6 | 3.1 |\n",
       "| 5.0 | 3.6 |\n",
       "| 5.4 | 3.9 |\n",
       "\n"
      ],
      "text/plain": [
       "  Sepal.Length Sepal.Width\n",
       "1 5.1          3.5        \n",
       "2 4.9          3.0        \n",
       "3 4.7          3.2        \n",
       "4 4.6          3.1        \n",
       "5 5.0          3.6        \n",
       "6 5.4          3.9        "
      ]
     },
     "metadata": {},
     "output_type": "display_data"
    }
   ],
   "source": [
    "#select columns having name starts with 'Sepal'\n",
    "iris %>% select(starts_with('Sepal')) %>% head()"
   ]
  },
  {
   "cell_type": "markdown",
   "metadata": {},
   "source": [
    "You can supply multiple prefixes or suffixes. Note how the order of variables depends on the order of the suffixes and prefixes:"
   ]
  },
  {
   "cell_type": "code",
   "execution_count": 21,
   "metadata": {},
   "outputs": [
    {
     "data": {
      "text/html": [
       "<table>\n",
       "<thead><tr><th scope=col>Petal.Length</th><th scope=col>Petal.Width</th><th scope=col>Sepal.Length</th><th scope=col>Sepal.Width</th></tr></thead>\n",
       "<tbody>\n",
       "\t<tr><td>1.4</td><td>0.2</td><td>5.1</td><td>3.5</td></tr>\n",
       "\t<tr><td>1.4</td><td>0.2</td><td>4.9</td><td>3.0</td></tr>\n",
       "\t<tr><td>1.3</td><td>0.2</td><td>4.7</td><td>3.2</td></tr>\n",
       "\t<tr><td>1.5</td><td>0.2</td><td>4.6</td><td>3.1</td></tr>\n",
       "\t<tr><td>1.4</td><td>0.2</td><td>5.0</td><td>3.6</td></tr>\n",
       "\t<tr><td>1.7</td><td>0.4</td><td>5.4</td><td>3.9</td></tr>\n",
       "</tbody>\n",
       "</table>\n"
      ],
      "text/latex": [
       "\\begin{tabular}{r|llll}\n",
       " Petal.Length & Petal.Width & Sepal.Length & Sepal.Width\\\\\n",
       "\\hline\n",
       "\t 1.4 & 0.2 & 5.1 & 3.5\\\\\n",
       "\t 1.4 & 0.2 & 4.9 & 3.0\\\\\n",
       "\t 1.3 & 0.2 & 4.7 & 3.2\\\\\n",
       "\t 1.5 & 0.2 & 4.6 & 3.1\\\\\n",
       "\t 1.4 & 0.2 & 5.0 & 3.6\\\\\n",
       "\t 1.7 & 0.4 & 5.4 & 3.9\\\\\n",
       "\\end{tabular}\n"
      ],
      "text/markdown": [
       "\n",
       "| Petal.Length | Petal.Width | Sepal.Length | Sepal.Width |\n",
       "|---|---|---|---|\n",
       "| 1.4 | 0.2 | 5.1 | 3.5 |\n",
       "| 1.4 | 0.2 | 4.9 | 3.0 |\n",
       "| 1.3 | 0.2 | 4.7 | 3.2 |\n",
       "| 1.5 | 0.2 | 4.6 | 3.1 |\n",
       "| 1.4 | 0.2 | 5.0 | 3.6 |\n",
       "| 1.7 | 0.4 | 5.4 | 3.9 |\n",
       "\n"
      ],
      "text/plain": [
       "  Petal.Length Petal.Width Sepal.Length Sepal.Width\n",
       "1 1.4          0.2         5.1          3.5        \n",
       "2 1.4          0.2         4.9          3.0        \n",
       "3 1.3          0.2         4.7          3.2        \n",
       "4 1.5          0.2         4.6          3.1        \n",
       "5 1.4          0.2         5.0          3.6        \n",
       "6 1.7          0.4         5.4          3.9        "
      ]
     },
     "metadata": {},
     "output_type": "display_data"
    }
   ],
   "source": [
    "iris %>% select(starts_with(c('Petal', 'Sepal'))) %>% head()"
   ]
  },
  {
   "cell_type": "markdown",
   "metadata": {},
   "source": [
    "**`contains()`** selects columns whose names contain a word:"
   ]
  },
  {
   "cell_type": "code",
   "execution_count": 22,
   "metadata": {},
   "outputs": [
    {
     "data": {
      "text/html": [
       "<table>\n",
       "<thead><tr><th scope=col>Sepal.Length</th><th scope=col>Sepal.Width</th><th scope=col>Petal.Length</th><th scope=col>Petal.Width</th></tr></thead>\n",
       "<tbody>\n",
       "\t<tr><td>5.1</td><td>3.5</td><td>1.4</td><td>0.2</td></tr>\n",
       "\t<tr><td>4.9</td><td>3.0</td><td>1.4</td><td>0.2</td></tr>\n",
       "\t<tr><td>4.7</td><td>3.2</td><td>1.3</td><td>0.2</td></tr>\n",
       "\t<tr><td>4.6</td><td>3.1</td><td>1.5</td><td>0.2</td></tr>\n",
       "\t<tr><td>5.0</td><td>3.6</td><td>1.4</td><td>0.2</td></tr>\n",
       "\t<tr><td>5.4</td><td>3.9</td><td>1.7</td><td>0.4</td></tr>\n",
       "</tbody>\n",
       "</table>\n"
      ],
      "text/latex": [
       "\\begin{tabular}{r|llll}\n",
       " Sepal.Length & Sepal.Width & Petal.Length & Petal.Width\\\\\n",
       "\\hline\n",
       "\t 5.1 & 3.5 & 1.4 & 0.2\\\\\n",
       "\t 4.9 & 3.0 & 1.4 & 0.2\\\\\n",
       "\t 4.7 & 3.2 & 1.3 & 0.2\\\\\n",
       "\t 4.6 & 3.1 & 1.5 & 0.2\\\\\n",
       "\t 5.0 & 3.6 & 1.4 & 0.2\\\\\n",
       "\t 5.4 & 3.9 & 1.7 & 0.4\\\\\n",
       "\\end{tabular}\n"
      ],
      "text/markdown": [
       "\n",
       "| Sepal.Length | Sepal.Width | Petal.Length | Petal.Width |\n",
       "|---|---|---|---|\n",
       "| 5.1 | 3.5 | 1.4 | 0.2 |\n",
       "| 4.9 | 3.0 | 1.4 | 0.2 |\n",
       "| 4.7 | 3.2 | 1.3 | 0.2 |\n",
       "| 4.6 | 3.1 | 1.5 | 0.2 |\n",
       "| 5.0 | 3.6 | 1.4 | 0.2 |\n",
       "| 5.4 | 3.9 | 1.7 | 0.4 |\n",
       "\n"
      ],
      "text/plain": [
       "  Sepal.Length Sepal.Width Petal.Length Petal.Width\n",
       "1 5.1          3.5         1.4          0.2        \n",
       "2 4.9          3.0         1.4          0.2        \n",
       "3 4.7          3.2         1.3          0.2        \n",
       "4 4.6          3.1         1.5          0.2        \n",
       "5 5.0          3.6         1.4          0.2        \n",
       "6 5.4          3.9         1.7          0.4        "
      ]
     },
     "metadata": {},
     "output_type": "display_data"
    }
   ],
   "source": [
    "iris %>% select(contains(\"al\")) %>% head()"
   ]
  },
  {
   "cell_type": "markdown",
   "metadata": {},
   "source": [
    "Using regex:"
   ]
  },
  {
   "cell_type": "code",
   "execution_count": 24,
   "metadata": {},
   "outputs": [
    {
     "data": {
      "text/html": [
       "<table>\n",
       "<thead><tr><th scope=col>Sepal.Length</th><th scope=col>Sepal.Width</th><th scope=col>Petal.Length</th><th scope=col>Petal.Width</th></tr></thead>\n",
       "<tbody>\n",
       "\t<tr><td>5.1</td><td>3.5</td><td>1.4</td><td>0.2</td></tr>\n",
       "\t<tr><td>4.9</td><td>3.0</td><td>1.4</td><td>0.2</td></tr>\n",
       "\t<tr><td>4.7</td><td>3.2</td><td>1.3</td><td>0.2</td></tr>\n",
       "\t<tr><td>4.6</td><td>3.1</td><td>1.5</td><td>0.2</td></tr>\n",
       "\t<tr><td>5.0</td><td>3.6</td><td>1.4</td><td>0.2</td></tr>\n",
       "\t<tr><td>5.4</td><td>3.9</td><td>1.7</td><td>0.4</td></tr>\n",
       "</tbody>\n",
       "</table>\n"
      ],
      "text/latex": [
       "\\begin{tabular}{r|llll}\n",
       " Sepal.Length & Sepal.Width & Petal.Length & Petal.Width\\\\\n",
       "\\hline\n",
       "\t 5.1 & 3.5 & 1.4 & 0.2\\\\\n",
       "\t 4.9 & 3.0 & 1.4 & 0.2\\\\\n",
       "\t 4.7 & 3.2 & 1.3 & 0.2\\\\\n",
       "\t 4.6 & 3.1 & 1.5 & 0.2\\\\\n",
       "\t 5.0 & 3.6 & 1.4 & 0.2\\\\\n",
       "\t 5.4 & 3.9 & 1.7 & 0.4\\\\\n",
       "\\end{tabular}\n"
      ],
      "text/markdown": [
       "\n",
       "| Sepal.Length | Sepal.Width | Petal.Length | Petal.Width |\n",
       "|---|---|---|---|\n",
       "| 5.1 | 3.5 | 1.4 | 0.2 |\n",
       "| 4.9 | 3.0 | 1.4 | 0.2 |\n",
       "| 4.7 | 3.2 | 1.3 | 0.2 |\n",
       "| 4.6 | 3.1 | 1.5 | 0.2 |\n",
       "| 5.0 | 3.6 | 1.4 | 0.2 |\n",
       "| 5.4 | 3.9 | 1.7 | 0.4 |\n",
       "\n"
      ],
      "text/plain": [
       "  Sepal.Length Sepal.Width Petal.Length Petal.Width\n",
       "1 5.1          3.5         1.4          0.2        \n",
       "2 4.9          3.0         1.4          0.2        \n",
       "3 4.7          3.2         1.3          0.2        \n",
       "4 4.6          3.1         1.5          0.2        \n",
       "5 5.0          3.6         1.4          0.2        \n",
       "6 5.4          3.9         1.7          0.4        "
      ]
     },
     "metadata": {},
     "output_type": "display_data"
    }
   ],
   "source": [
    "iris %>% select(matches(\"[pt]al\")) %>% head()"
   ]
  },
  {
   "cell_type": "code",
   "execution_count": 26,
   "metadata": {},
   "outputs": [
    {
     "data": {
      "text/html": [
       "<table>\n",
       "<thead><tr><th scope=col>x4</th><th scope=col>x5</th><th scope=col>x6</th><th scope=col>x7</th><th scope=col>x8</th></tr></thead>\n",
       "<tbody>\n",
       "\t<tr><td>0</td><td>0</td><td>0</td><td>0</td><td>0</td></tr>\n",
       "</tbody>\n",
       "</table>\n"
      ],
      "text/latex": [
       "\\begin{tabular}{r|lllll}\n",
       " x4 & x5 & x6 & x7 & x8\\\\\n",
       "\\hline\n",
       "\t 0 & 0 & 0 & 0 & 0\\\\\n",
       "\\end{tabular}\n"
      ],
      "text/markdown": [
       "\n",
       "| x4 | x5 | x6 | x7 | x8 |\n",
       "|---|---|---|---|---|\n",
       "| 0 | 0 | 0 | 0 | 0 |\n",
       "\n"
      ],
      "text/plain": [
       "  x4 x5 x6 x7 x8\n",
       "1 0  0  0  0  0 "
      ]
     },
     "metadata": {},
     "output_type": "display_data"
    }
   ],
   "source": [
    "\n",
    "df <- data.frame(x4 = 0, x5 = 0, x6 = 0, x7 = 0, x8 = 0)\n",
    "df"
   ]
  },
  {
   "cell_type": "code",
   "execution_count": 28,
   "metadata": {},
   "outputs": [
    {
     "data": {
      "text/html": [
       "<table>\n",
       "<thead><tr><th scope=col>x5</th><th scope=col>x6</th><th scope=col>x7</th></tr></thead>\n",
       "<tbody>\n",
       "\t<tr><td>0</td><td>0</td><td>0</td></tr>\n",
       "</tbody>\n",
       "</table>\n"
      ],
      "text/latex": [
       "\\begin{tabular}{r|lll}\n",
       " x5 & x6 & x7\\\\\n",
       "\\hline\n",
       "\t 0 & 0 & 0\\\\\n",
       "\\end{tabular}\n"
      ],
      "text/markdown": [
       "\n",
       "| x5 | x6 | x7 |\n",
       "|---|---|---|\n",
       "| 0 | 0 | 0 |\n",
       "\n"
      ],
      "text/plain": [
       "  x5 x6 x7\n",
       "1 0  0  0 "
      ]
     },
     "metadata": {},
     "output_type": "display_data"
    }
   ],
   "source": [
    "#Matches x5, x6, x7\n",
    "df %>% select(num_range('x', 5:7))"
   ]
  },
  {
   "cell_type": "markdown",
   "metadata": {},
   "source": [
    "# Select variables with a function"
   ]
  },
  {
   "cell_type": "markdown",
   "metadata": {},
   "source": [
    "This selection helper selects the variables for which a function returns TRUE."
   ]
  },
  {
   "cell_type": "markdown",
   "metadata": {},
   "source": [
    "```r\n",
    "where(fn)\n",
    "```"
   ]
  },
  {
   "cell_type": "markdown",
   "metadata": {},
   "source": [
    "# Examples"
   ]
  },
  {
   "cell_type": "markdown",
   "metadata": {},
   "source": [
    "select factor columns"
   ]
  },
  {
   "cell_type": "code",
   "execution_count": 4,
   "metadata": {},
   "outputs": [
    {
     "data": {
      "text/html": [
       "<table>\n",
       "<thead><tr><th scope=col>Species</th></tr></thead>\n",
       "<tbody>\n",
       "\t<tr><td>setosa</td></tr>\n",
       "\t<tr><td>setosa</td></tr>\n",
       "\t<tr><td>setosa</td></tr>\n",
       "\t<tr><td>setosa</td></tr>\n",
       "\t<tr><td>setosa</td></tr>\n",
       "\t<tr><td>setosa</td></tr>\n",
       "</tbody>\n",
       "</table>\n"
      ],
      "text/latex": [
       "\\begin{tabular}{r|l}\n",
       " Species\\\\\n",
       "\\hline\n",
       "\t setosa\\\\\n",
       "\t setosa\\\\\n",
       "\t setosa\\\\\n",
       "\t setosa\\\\\n",
       "\t setosa\\\\\n",
       "\t setosa\\\\\n",
       "\\end{tabular}\n"
      ],
      "text/markdown": [
       "\n",
       "| Species |\n",
       "|---|\n",
       "| setosa |\n",
       "| setosa |\n",
       "| setosa |\n",
       "| setosa |\n",
       "| setosa |\n",
       "| setosa |\n",
       "\n"
      ],
      "text/plain": [
       "  Species\n",
       "1 setosa \n",
       "2 setosa \n",
       "3 setosa \n",
       "4 setosa \n",
       "5 setosa \n",
       "6 setosa "
      ]
     },
     "metadata": {},
     "output_type": "display_data"
    }
   ],
   "source": [
    "iris %>% select(where(is.factor)) %>% head()"
   ]
  },
  {
   "cell_type": "code",
   "execution_count": 5,
   "metadata": {},
   "outputs": [
    {
     "name": "stdout",
     "output_type": "stream",
     "text": [
      "'data.frame':\t150 obs. of  5 variables:\n",
      " $ Sepal.Length: num  5.1 4.9 4.7 4.6 5 5.4 4.6 5 4.4 4.9 ...\n",
      " $ Sepal.Width : num  3.5 3 3.2 3.1 3.6 3.9 3.4 3.4 2.9 3.1 ...\n",
      " $ Petal.Length: num  1.4 1.4 1.3 1.5 1.4 1.7 1.4 1.5 1.4 1.5 ...\n",
      " $ Petal.Width : num  0.2 0.2 0.2 0.2 0.2 0.4 0.3 0.2 0.2 0.1 ...\n",
      " $ Species     : Factor w/ 3 levels \"setosa\",\"versicolor\",..: 1 1 1 1 1 1 1 1 1 1 ...\n"
     ]
    }
   ],
   "source": [
    "iris %>% str()"
   ]
  },
  {
   "cell_type": "code",
   "execution_count": null,
   "metadata": {},
   "outputs": [],
   "source": []
  }
 ],
 "metadata": {
  "kernelspec": {
   "display_name": "R",
   "language": "R",
   "name": "ir"
  },
  "language_info": {
   "codemirror_mode": "r",
   "file_extension": ".r",
   "mimetype": "text/x-r-source",
   "name": "R",
   "pygments_lexer": "r",
   "version": "3.6.1"
  }
 },
 "nbformat": 4,
 "nbformat_minor": 2
}
