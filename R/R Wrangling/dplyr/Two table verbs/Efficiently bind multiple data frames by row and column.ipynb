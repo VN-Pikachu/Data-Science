{
 "cells": [
  {
   "cell_type": "code",
   "execution_count": 3,
   "metadata": {},
   "outputs": [],
   "source": [
    "library(tidyverse)"
   ]
  },
  {
   "cell_type": "markdown",
   "metadata": {},
   "source": [
    "# Efficiently bind multiple data frames by row and column"
   ]
  },
  {
   "cell_type": "markdown",
   "metadata": {},
   "source": [
    "```R\n",
    "bind_rows(..., .id = NULL)\n",
    "\n",
    "bind_cols(\n",
    "  ...,\n",
    "  .name_repair = c(\"unique\", \"universal\", \"check_unique\", \"minimal\")\n",
    ")\n",
    "```"
   ]
  },
  {
   "cell_type": "markdown",
   "metadata": {},
   "source": [
    "# Examples"
   ]
  },
  {
   "cell_type": "code",
   "execution_count": 9,
   "metadata": {},
   "outputs": [],
   "source": [
    "VNC <- data.frame(\n",
    "    name = c('VN Pikachu', 'Meomeo888'),\n",
    "    level = c(31, 32)\n",
    ")\n",
    "\n",
    "VN <- data.frame(\n",
    "    name = c('VN Wanie', 'VNC Son La TF'),\n",
    "    level = c(33, 33)\n",
    ")"
   ]
  },
  {
   "cell_type": "code",
   "execution_count": 10,
   "metadata": {},
   "outputs": [
    {
     "data": {
      "text/html": [
       "<table>\n",
       "<thead><tr><th scope=col>name</th><th scope=col>level</th></tr></thead>\n",
       "<tbody>\n",
       "\t<tr><td>VN Pikachu   </td><td>31           </td></tr>\n",
       "\t<tr><td>Meomeo888    </td><td>32           </td></tr>\n",
       "\t<tr><td>VN Wanie     </td><td>33           </td></tr>\n",
       "\t<tr><td>VNC Son La TF</td><td>33           </td></tr>\n",
       "</tbody>\n",
       "</table>\n"
      ],
      "text/latex": [
       "\\begin{tabular}{r|ll}\n",
       " name & level\\\\\n",
       "\\hline\n",
       "\t VN Pikachu    & 31           \\\\\n",
       "\t Meomeo888     & 32           \\\\\n",
       "\t VN Wanie      & 33           \\\\\n",
       "\t VNC Son La TF & 33           \\\\\n",
       "\\end{tabular}\n"
      ],
      "text/markdown": [
       "\n",
       "| name | level |\n",
       "|---|---|\n",
       "| VN Pikachu    | 31            |\n",
       "| Meomeo888     | 32            |\n",
       "| VN Wanie      | 33            |\n",
       "| VNC Son La TF | 33            |\n",
       "\n"
      ],
      "text/plain": [
       "  name          level\n",
       "1 VN Pikachu    31   \n",
       "2 Meomeo888     32   \n",
       "3 VN Wanie      33   \n",
       "4 VNC Son La TF 33   "
      ]
     },
     "metadata": {},
     "output_type": "display_data"
    }
   ],
   "source": [
    "bind_rows(VNC, VN)"
   ]
  },
  {
   "cell_type": "markdown",
   "metadata": {},
   "source": [
    "The contents of lists are spliced automatically:"
   ]
  },
  {
   "cell_type": "code",
   "execution_count": 11,
   "metadata": {},
   "outputs": [
    {
     "data": {
      "text/html": [
       "<table>\n",
       "<thead><tr><th scope=col>name</th><th scope=col>level</th></tr></thead>\n",
       "<tbody>\n",
       "\t<tr><td>VN Pikachu   </td><td>31           </td></tr>\n",
       "\t<tr><td>Meomeo888    </td><td>32           </td></tr>\n",
       "\t<tr><td>VN Wanie     </td><td>33           </td></tr>\n",
       "\t<tr><td>VNC Son La TF</td><td>33           </td></tr>\n",
       "</tbody>\n",
       "</table>\n"
      ],
      "text/latex": [
       "\\begin{tabular}{r|ll}\n",
       " name & level\\\\\n",
       "\\hline\n",
       "\t VN Pikachu    & 31           \\\\\n",
       "\t Meomeo888     & 32           \\\\\n",
       "\t VN Wanie      & 33           \\\\\n",
       "\t VNC Son La TF & 33           \\\\\n",
       "\\end{tabular}\n"
      ],
      "text/markdown": [
       "\n",
       "| name | level |\n",
       "|---|---|\n",
       "| VN Pikachu    | 31            |\n",
       "| Meomeo888     | 32            |\n",
       "| VN Wanie      | 33            |\n",
       "| VNC Son La TF | 33            |\n",
       "\n"
      ],
      "text/plain": [
       "  name          level\n",
       "1 VN Pikachu    31   \n",
       "2 Meomeo888     32   \n",
       "3 VN Wanie      33   \n",
       "4 VNC Son La TF 33   "
      ]
     },
     "metadata": {},
     "output_type": "display_data"
    }
   ],
   "source": [
    "bind_rows(list(VNC, VN))"
   ]
  },
  {
   "cell_type": "code",
   "execution_count": 12,
   "metadata": {},
   "outputs": [
    {
     "data": {
      "text/html": [
       "<table>\n",
       "<thead><tr><th scope=col>name</th><th scope=col>level</th></tr></thead>\n",
       "<tbody>\n",
       "\t<tr><td>VN Pikachu   </td><td>31           </td></tr>\n",
       "\t<tr><td>Meomeo888    </td><td>32           </td></tr>\n",
       "\t<tr><td>VN Wanie     </td><td>33           </td></tr>\n",
       "\t<tr><td>VNC Son La TF</td><td>33           </td></tr>\n",
       "\t<tr><td>VN Wanie     </td><td>33           </td></tr>\n",
       "\t<tr><td>VNC Son La TF</td><td>33           </td></tr>\n",
       "\t<tr><td>VN Pikachu   </td><td>31           </td></tr>\n",
       "\t<tr><td>Meomeo888    </td><td>32           </td></tr>\n",
       "</tbody>\n",
       "</table>\n"
      ],
      "text/latex": [
       "\\begin{tabular}{r|ll}\n",
       " name & level\\\\\n",
       "\\hline\n",
       "\t VN Pikachu    & 31           \\\\\n",
       "\t Meomeo888     & 32           \\\\\n",
       "\t VN Wanie      & 33           \\\\\n",
       "\t VNC Son La TF & 33           \\\\\n",
       "\t VN Wanie      & 33           \\\\\n",
       "\t VNC Son La TF & 33           \\\\\n",
       "\t VN Pikachu    & 31           \\\\\n",
       "\t Meomeo888     & 32           \\\\\n",
       "\\end{tabular}\n"
      ],
      "text/markdown": [
       "\n",
       "| name | level |\n",
       "|---|---|\n",
       "| VN Pikachu    | 31            |\n",
       "| Meomeo888     | 32            |\n",
       "| VN Wanie      | 33            |\n",
       "| VNC Son La TF | 33            |\n",
       "| VN Wanie      | 33            |\n",
       "| VNC Son La TF | 33            |\n",
       "| VN Pikachu    | 31            |\n",
       "| Meomeo888     | 32            |\n",
       "\n"
      ],
      "text/plain": [
       "  name          level\n",
       "1 VN Pikachu    31   \n",
       "2 Meomeo888     32   \n",
       "3 VN Wanie      33   \n",
       "4 VNC Son La TF 33   \n",
       "5 VN Wanie      33   \n",
       "6 VNC Son La TF 33   \n",
       "7 VN Pikachu    31   \n",
       "8 Meomeo888     32   "
      ]
     },
     "metadata": {},
     "output_type": "display_data"
    }
   ],
   "source": [
    "bind_rows(list(VNC, VN), list(VN, VNC))"
   ]
  },
  {
   "cell_type": "code",
   "execution_count": 4,
   "metadata": {},
   "outputs": [
    {
     "data": {
      "text/html": [
       "<table>\n",
       "<thead><tr><th scope=col>a</th><th scope=col>b</th></tr></thead>\n",
       "<tbody>\n",
       "\t<tr><td>1</td><td>2</td></tr>\n",
       "\t<tr><td>3</td><td>4</td></tr>\n",
       "</tbody>\n",
       "</table>\n"
      ],
      "text/latex": [
       "\\begin{tabular}{r|ll}\n",
       " a & b\\\\\n",
       "\\hline\n",
       "\t 1 & 2\\\\\n",
       "\t 3 & 4\\\\\n",
       "\\end{tabular}\n"
      ],
      "text/markdown": [
       "\n",
       "| a | b |\n",
       "|---|---|\n",
       "| 1 | 2 |\n",
       "| 3 | 4 |\n",
       "\n"
      ],
      "text/plain": [
       "  a b\n",
       "1 1 2\n",
       "2 3 4"
      ]
     },
     "metadata": {},
     "output_type": "display_data"
    }
   ],
   "source": [
    "bind_rows(\n",
    "  c(a = 1, b = 2),\n",
    "  c(a = 3, b = 4)\n",
    ")"
   ]
  },
  {
   "cell_type": "code",
   "execution_count": 6,
   "metadata": {},
   "outputs": [
    {
     "data": {
      "text/html": [
       "<table>\n",
       "<thead><tr><th scope=col>a</th><th scope=col>b</th></tr></thead>\n",
       "<tbody>\n",
       "\t<tr><td>1</td><td>2</td></tr>\n",
       "\t<tr><td>3</td><td>5</td></tr>\n",
       "\t<tr><td>4</td><td>6</td></tr>\n",
       "\t<tr><td>7</td><td>8</td></tr>\n",
       "</tbody>\n",
       "</table>\n"
      ],
      "text/latex": [
       "\\begin{tabular}{r|ll}\n",
       " a & b\\\\\n",
       "\\hline\n",
       "\t 1 & 2\\\\\n",
       "\t 3 & 5\\\\\n",
       "\t 4 & 6\\\\\n",
       "\t 7 & 8\\\\\n",
       "\\end{tabular}\n"
      ],
      "text/markdown": [
       "\n",
       "| a | b |\n",
       "|---|---|\n",
       "| 1 | 2 |\n",
       "| 3 | 5 |\n",
       "| 4 | 6 |\n",
       "| 7 | 8 |\n",
       "\n"
      ],
      "text/plain": [
       "  a b\n",
       "1 1 2\n",
       "2 3 5\n",
       "3 4 6\n",
       "4 7 8"
      ]
     },
     "metadata": {},
     "output_type": "display_data"
    }
   ],
   "source": [
    "# You can mix vectors and data frames:\n",
    "bind_rows(\n",
    "  c(a = 1, b = 2),\n",
    "  tibble(a = 3:4, b = 5:6),\n",
    "  c(a = 7, b = 8)\n",
    ")"
   ]
  },
  {
   "cell_type": "markdown",
   "metadata": {},
   "source": [
    "When you supply a column name with the `.id` argument, a new\n",
    "column is created to link each row to its original data frame"
   ]
  },
  {
   "cell_type": "code",
   "execution_count": 13,
   "metadata": {},
   "outputs": [
    {
     "data": {
      "text/html": [
       "<table>\n",
       "<thead><tr><th scope=col>id</th><th scope=col>name</th><th scope=col>level</th></tr></thead>\n",
       "<tbody>\n",
       "\t<tr><td>1            </td><td>VN Pikachu   </td><td>31           </td></tr>\n",
       "\t<tr><td>1            </td><td>Meomeo888    </td><td>32           </td></tr>\n",
       "\t<tr><td>2            </td><td>VN Wanie     </td><td>33           </td></tr>\n",
       "\t<tr><td>2            </td><td>VNC Son La TF</td><td>33           </td></tr>\n",
       "</tbody>\n",
       "</table>\n"
      ],
      "text/latex": [
       "\\begin{tabular}{r|lll}\n",
       " id & name & level\\\\\n",
       "\\hline\n",
       "\t 1             & VN Pikachu    & 31           \\\\\n",
       "\t 1             & Meomeo888     & 32           \\\\\n",
       "\t 2             & VN Wanie      & 33           \\\\\n",
       "\t 2             & VNC Son La TF & 33           \\\\\n",
       "\\end{tabular}\n"
      ],
      "text/markdown": [
       "\n",
       "| id | name | level |\n",
       "|---|---|---|\n",
       "| 1             | VN Pikachu    | 31            |\n",
       "| 1             | Meomeo888     | 32            |\n",
       "| 2             | VN Wanie      | 33            |\n",
       "| 2             | VNC Son La TF | 33            |\n",
       "\n"
      ],
      "text/plain": [
       "  id name          level\n",
       "1 1  VN Pikachu    31   \n",
       "2 1  Meomeo888     32   \n",
       "3 2  VN Wanie      33   \n",
       "4 2  VNC Son La TF 33   "
      ]
     },
     "metadata": {},
     "output_type": "display_data"
    }
   ],
   "source": [
    "bind_rows(VNC, VN, .id = 'id')"
   ]
  },
  {
   "cell_type": "code",
   "execution_count": 15,
   "metadata": {},
   "outputs": [
    {
     "data": {
      "text/html": [
       "<table>\n",
       "<thead><tr><th scope=col>clan</th><th scope=col>name</th><th scope=col>level</th></tr></thead>\n",
       "<tbody>\n",
       "\t<tr><td>VN Champions </td><td>VN Pikachu   </td><td>31           </td></tr>\n",
       "\t<tr><td>VN Champions </td><td>Meomeo888    </td><td>32           </td></tr>\n",
       "\t<tr><td>VIET NAM     </td><td>VN Wanie     </td><td>33           </td></tr>\n",
       "\t<tr><td>VIET NAM     </td><td>VNC Son La TF</td><td>33           </td></tr>\n",
       "</tbody>\n",
       "</table>\n"
      ],
      "text/latex": [
       "\\begin{tabular}{r|lll}\n",
       " clan & name & level\\\\\n",
       "\\hline\n",
       "\t VN Champions  & VN Pikachu    & 31           \\\\\n",
       "\t VN Champions  & Meomeo888     & 32           \\\\\n",
       "\t VIET NAM      & VN Wanie      & 33           \\\\\n",
       "\t VIET NAM      & VNC Son La TF & 33           \\\\\n",
       "\\end{tabular}\n"
      ],
      "text/markdown": [
       "\n",
       "| clan | name | level |\n",
       "|---|---|---|\n",
       "| VN Champions  | VN Pikachu    | 31            |\n",
       "| VN Champions  | Meomeo888     | 32            |\n",
       "| VIET NAM      | VN Wanie      | 33            |\n",
       "| VIET NAM      | VNC Son La TF | 33            |\n",
       "\n"
      ],
      "text/plain": [
       "  clan         name          level\n",
       "1 VN Champions VN Pikachu    31   \n",
       "2 VN Champions Meomeo888     32   \n",
       "3 VIET NAM     VN Wanie      33   \n",
       "4 VIET NAM     VNC Son La TF 33   "
      ]
     },
     "metadata": {},
     "output_type": "display_data"
    }
   ],
   "source": [
    "bind_rows(list('VN Champions' = VNC, 'VIET NAM' = VN), .id = 'clan')"
   ]
  },
  {
   "cell_type": "markdown",
   "metadata": {},
   "source": [
    "Columns don't need to match when row-binding"
   ]
  },
  {
   "cell_type": "code",
   "execution_count": 16,
   "metadata": {},
   "outputs": [
    {
     "data": {
      "text/html": [
       "<table>\n",
       "<thead><tr><th scope=col>x</th><th scope=col>y</th></tr></thead>\n",
       "<tbody>\n",
       "\t<tr><td> 1</td><td>NA</td></tr>\n",
       "\t<tr><td> 2</td><td>NA</td></tr>\n",
       "\t<tr><td> 3</td><td>NA</td></tr>\n",
       "\t<tr><td>NA</td><td> 1</td></tr>\n",
       "\t<tr><td>NA</td><td> 2</td></tr>\n",
       "\t<tr><td>NA</td><td> 3</td></tr>\n",
       "\t<tr><td>NA</td><td> 4</td></tr>\n",
       "</tbody>\n",
       "</table>\n"
      ],
      "text/latex": [
       "\\begin{tabular}{r|ll}\n",
       " x & y\\\\\n",
       "\\hline\n",
       "\t  1 & NA\\\\\n",
       "\t  2 & NA\\\\\n",
       "\t  3 & NA\\\\\n",
       "\t NA &  1\\\\\n",
       "\t NA &  2\\\\\n",
       "\t NA &  3\\\\\n",
       "\t NA &  4\\\\\n",
       "\\end{tabular}\n"
      ],
      "text/markdown": [
       "\n",
       "| x | y |\n",
       "|---|---|\n",
       "|  1 | NA |\n",
       "|  2 | NA |\n",
       "|  3 | NA |\n",
       "| NA |  1 |\n",
       "| NA |  2 |\n",
       "| NA |  3 |\n",
       "| NA |  4 |\n",
       "\n"
      ],
      "text/plain": [
       "  x  y \n",
       "1  1 NA\n",
       "2  2 NA\n",
       "3  3 NA\n",
       "4 NA  1\n",
       "5 NA  2\n",
       "6 NA  3\n",
       "7 NA  4"
      ]
     },
     "metadata": {},
     "output_type": "display_data"
    }
   ],
   "source": [
    "bind_rows(tibble(x = 1:3), tibble(y = 1:4))"
   ]
  },
  {
   "cell_type": "markdown",
   "metadata": {},
   "source": [
    "\n",
    "```R\n",
    "#Rows do need to match when column-binding\n",
    "#This will raise an error\n",
    "bind_cols(tibble(x = 1:3), tibble(y = 1:2))\n",
    "```"
   ]
  },
  {
   "cell_type": "code",
   "execution_count": 19,
   "metadata": {},
   "outputs": [
    {
     "data": {
      "text/html": [
       "<table>\n",
       "<thead><tr><th scope=col>name</th><th scope=col>level</th><th scope=col>sex</th><th scope=col>age</th></tr></thead>\n",
       "<tbody>\n",
       "\t<tr><td>VN Pikachu</td><td>31        </td><td>Male      </td><td>19        </td></tr>\n",
       "\t<tr><td>Meomeo888 </td><td>32        </td><td>Male      </td><td>33        </td></tr>\n",
       "</tbody>\n",
       "</table>\n"
      ],
      "text/latex": [
       "\\begin{tabular}{r|llll}\n",
       " name & level & sex & age\\\\\n",
       "\\hline\n",
       "\t VN Pikachu & 31         & Male       & 19        \\\\\n",
       "\t Meomeo888  & 32         & Male       & 33        \\\\\n",
       "\\end{tabular}\n"
      ],
      "text/markdown": [
       "\n",
       "| name | level | sex | age |\n",
       "|---|---|---|---|\n",
       "| VN Pikachu | 31         | Male       | 19         |\n",
       "| Meomeo888  | 32         | Male       | 33         |\n",
       "\n"
      ],
      "text/plain": [
       "  name       level sex  age\n",
       "1 VN Pikachu 31    Male 19 \n",
       "2 Meomeo888  32    Male 33 "
      ]
     },
     "metadata": {},
     "output_type": "display_data"
    }
   ],
   "source": [
    "VNC.stats <- data.frame(\n",
    "    sex = c('Male', 'Male'),\n",
    "    age = c(19, 33)\n",
    ")\n",
    "\n",
    "bind_cols(VNC, VNC.stats)"
   ]
  }
 ],
 "metadata": {
  "kernelspec": {
   "display_name": "R",
   "language": "R",
   "name": "ir"
  },
  "language_info": {
   "codemirror_mode": "r",
   "file_extension": ".r",
   "mimetype": "text/x-r-source",
   "name": "R",
   "pygments_lexer": "r",
   "version": "3.6.1"
  }
 },
 "nbformat": 4,
 "nbformat_minor": 2
}
