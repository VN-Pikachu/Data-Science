{
 "cells": [
  {
   "cell_type": "code",
   "execution_count": 2,
   "metadata": {},
   "outputs": [],
   "source": [
    "library(tidyverse)"
   ]
  },
  {
   "cell_type": "markdown",
   "metadata": {},
   "source": [
    "**`nest_join()`** returns all rows and columns in x with a new nested-df column that contains all matches from y. When there is no match, the list column is a 0-row tibble."
   ]
  },
  {
   "cell_type": "markdown",
   "metadata": {},
   "source": [
    "```R\n",
    "nest_join(x, y, by = NULL, copy = FALSE, keep = FALSE, name = NULL, ...)\n",
    "\n",
    "# S3 method for data.frame\n",
    "nest_join(x, y, by = NULL, copy = FALSE, keep = FALSE, name = NULL, ...)\n",
    "```"
   ]
  },
  {
   "cell_type": "markdown",
   "metadata": {},
   "source": [
    "# Examples"
   ]
  },
  {
   "cell_type": "code",
   "execution_count": 5,
   "metadata": {},
   "outputs": [
    {
     "data": {
      "text/html": [
       "<table>\n",
       "<thead><tr><th scope=col>clan</th><th scope=col>country</th></tr></thead>\n",
       "<tbody>\n",
       "\t<tr><td>VNC      </td><td>Vietnam  </td></tr>\n",
       "\t<tr><td>Daemones </td><td>Philipine</td></tr>\n",
       "</tbody>\n",
       "</table>\n"
      ],
      "text/latex": [
       "\\begin{tabular}{r|ll}\n",
       " clan & country\\\\\n",
       "\\hline\n",
       "\t VNC       & Vietnam  \\\\\n",
       "\t Daemones  & Philipine\\\\\n",
       "\\end{tabular}\n"
      ],
      "text/markdown": [
       "\n",
       "| clan | country |\n",
       "|---|---|\n",
       "| VNC       | Vietnam   |\n",
       "| Daemones  | Philipine |\n",
       "\n"
      ],
      "text/plain": [
       "  clan     country  \n",
       "1 VNC      Vietnam  \n",
       "2 Daemones Philipine"
      ]
     },
     "metadata": {},
     "output_type": "display_data"
    }
   ],
   "source": [
    "clan <- data.frame(clan = c('VNC', 'Daemones'), country = c('Vietnam', 'Philipine'))\n",
    "clan\n"
   ]
  },
  {
   "cell_type": "code",
   "execution_count": 6,
   "metadata": {},
   "outputs": [
    {
     "data": {
      "text/html": [
       "<table>\n",
       "<thead><tr><th scope=col>clan</th><th scope=col>name</th><th scope=col>level</th></tr></thead>\n",
       "<tbody>\n",
       "\t<tr><td>VNC     </td><td>a       </td><td>1       </td></tr>\n",
       "\t<tr><td>VNC     </td><td>b       </td><td>2       </td></tr>\n",
       "\t<tr><td>Daemones</td><td>c       </td><td>3       </td></tr>\n",
       "\t<tr><td>Daemones</td><td>d       </td><td>4       </td></tr>\n",
       "</tbody>\n",
       "</table>\n"
      ],
      "text/latex": [
       "\\begin{tabular}{r|lll}\n",
       " clan & name & level\\\\\n",
       "\\hline\n",
       "\t VNC      & a        & 1       \\\\\n",
       "\t VNC      & b        & 2       \\\\\n",
       "\t Daemones & c        & 3       \\\\\n",
       "\t Daemones & d        & 4       \\\\\n",
       "\\end{tabular}\n"
      ],
      "text/markdown": [
       "\n",
       "| clan | name | level |\n",
       "|---|---|---|\n",
       "| VNC      | a        | 1        |\n",
       "| VNC      | b        | 2        |\n",
       "| Daemones | c        | 3        |\n",
       "| Daemones | d        | 4        |\n",
       "\n"
      ],
      "text/plain": [
       "  clan     name level\n",
       "1 VNC      a    1    \n",
       "2 VNC      b    2    \n",
       "3 Daemones c    3    \n",
       "4 Daemones d    4    "
      ]
     },
     "metadata": {},
     "output_type": "display_data"
    }
   ],
   "source": [
    "player <- data.frame(clan = c('VNC', 'VNC', 'Daemones', 'Daemones'), name = letters[1:4], level = 1:4)\n",
    "player"
   ]
  },
  {
   "cell_type": "code",
   "execution_count": 12,
   "metadata": {},
   "outputs": [
    {
     "data": {
      "text/html": [
       "<table>\n",
       "<thead><tr><th scope=col>clan</th><th scope=col>country</th><th scope=col>player</th></tr></thead>\n",
       "<tbody>\n",
       "\t<tr><td>VNC       </td><td>Vietnam   </td><td>1, 2, 1, 2</td></tr>\n",
       "\t<tr><td>Daemones  </td><td>Philipine </td><td>3, 4, 3, 4</td></tr>\n",
       "</tbody>\n",
       "</table>\n"
      ],
      "text/latex": [
       "\\begin{tabular}{r|lll}\n",
       " clan & country & player\\\\\n",
       "\\hline\n",
       "\t VNC        & Vietnam    & 1, 2, 1, 2\\\\\n",
       "\t Daemones   & Philipine  & 3, 4, 3, 4\\\\\n",
       "\\end{tabular}\n"
      ],
      "text/markdown": [
       "\n",
       "| clan | country | player |\n",
       "|---|---|---|\n",
       "| VNC        | Vietnam    | 1, 2, 1, 2 |\n",
       "| Daemones   | Philipine  | 3, 4, 3, 4 |\n",
       "\n"
      ],
      "text/plain": [
       "  clan     country   player    \n",
       "1 VNC      Vietnam   1, 2, 1, 2\n",
       "2 Daemones Philipine 3, 4, 3, 4"
      ]
     },
     "metadata": {},
     "output_type": "display_data"
    }
   ],
   "source": [
    "nested <- clan %>% nest_join(player, by = 'clan') \n",
    "\n",
    "nested"
   ]
  },
  {
   "cell_type": "code",
   "execution_count": 13,
   "metadata": {},
   "outputs": [
    {
     "data": {
      "text/html": [
       "<ol>\n",
       "\t<li><table>\n",
       "<thead><tr><th scope=col>name</th><th scope=col>level</th></tr></thead>\n",
       "<tbody>\n",
       "\t<tr><td>a</td><td>1</td></tr>\n",
       "\t<tr><td>b</td><td>2</td></tr>\n",
       "</tbody>\n",
       "</table>\n",
       "</li>\n",
       "\t<li><table>\n",
       "<thead><tr><th scope=col>name</th><th scope=col>level</th></tr></thead>\n",
       "<tbody>\n",
       "\t<tr><td>c</td><td>3</td></tr>\n",
       "\t<tr><td>d</td><td>4</td></tr>\n",
       "</tbody>\n",
       "</table>\n",
       "</li>\n",
       "</ol>\n"
      ],
      "text/latex": [
       "\\begin{enumerate}\n",
       "\\item \\begin{tabular}{r|ll}\n",
       " name & level\\\\\n",
       "\\hline\n",
       "\t a & 1\\\\\n",
       "\t b & 2\\\\\n",
       "\\end{tabular}\n",
       "\n",
       "\\item \\begin{tabular}{r|ll}\n",
       " name & level\\\\\n",
       "\\hline\n",
       "\t c & 3\\\\\n",
       "\t d & 4\\\\\n",
       "\\end{tabular}\n",
       "\n",
       "\\end{enumerate}\n"
      ],
      "text/markdown": [
       "1. \n",
       "| name | level |\n",
       "|---|---|\n",
       "| a | 1 |\n",
       "| b | 2 |\n",
       "\n",
       "\n",
       "2. \n",
       "| name | level |\n",
       "|---|---|\n",
       "| c | 3 |\n",
       "| d | 4 |\n",
       "\n",
       "\n",
       "\n",
       "\n"
      ],
      "text/plain": [
       "[[1]]\n",
       "# A tibble: 2 x 2\n",
       "  name  level\n",
       "  <fct> <int>\n",
       "1 a         1\n",
       "2 b         2\n",
       "\n",
       "[[2]]\n",
       "# A tibble: 2 x 2\n",
       "  name  level\n",
       "  <fct> <int>\n",
       "1 c         3\n",
       "2 d         4\n"
      ]
     },
     "metadata": {},
     "output_type": "display_data"
    }
   ],
   "source": [
    "# each cell in the column player is a data frame\n",
    "nested %>% pull(player)"
   ]
  }
 ],
 "metadata": {
  "kernelspec": {
   "display_name": "R",
   "language": "R",
   "name": "ir"
  },
  "language_info": {
   "codemirror_mode": "r",
   "file_extension": ".r",
   "mimetype": "text/x-r-source",
   "name": "R",
   "pygments_lexer": "r",
   "version": "3.6.1"
  }
 },
 "nbformat": 4,
 "nbformat_minor": 2
}
