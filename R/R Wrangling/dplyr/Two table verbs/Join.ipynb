{
 "cells": [
  {
   "cell_type": "code",
   "execution_count": 10,
   "metadata": {},
   "outputs": [],
   "source": [
    "library(tidyverse)"
   ]
  },
  {
   "cell_type": "markdown",
   "metadata": {},
   "source": [
    "# Mutating joins"
   ]
  },
  {
   "cell_type": "markdown",
   "metadata": {},
   "source": [
    "The mutating joins add columns from y to x, matching rows based on the keys:\n",
    "\n",
    "* `inner_join()`: includes all rows in x and y.\n",
    "\n",
    "* `left_join()`: includes all rows in x.\n",
    "\n",
    "* `right_join()`: includes all rows in y.\n",
    "\n",
    "* `full_join()`: includes all rows in x or y."
   ]
  },
  {
   "cell_type": "markdown",
   "metadata": {},
   "source": [
    "```R\n",
    "inner_join(x, y, by = NULL, copy = FALSE, suffix = c(\".x\", \".y\"), ...)\n",
    "\n",
    "# S3 method for data.frame\n",
    "inner_join(\n",
    "  x,\n",
    "  y,\n",
    "  by = NULL,\n",
    "  copy = FALSE,\n",
    "  suffix = c(\".x\", \".y\"),\n",
    "  ...,\n",
    "  na_matches = c(\"na\", \"never\")\n",
    ")\n",
    "\n",
    "left_join(\n",
    "  x,\n",
    "  y,\n",
    "  by = NULL,\n",
    "  copy = FALSE,\n",
    "  suffix = c(\".x\", \".y\"),\n",
    "  ...,\n",
    "  keep = FALSE\n",
    ")\n",
    "\n",
    "# S3 method for data.frame\n",
    "left_join(\n",
    "  x,\n",
    "  y,\n",
    "  by = NULL,\n",
    "  copy = FALSE,\n",
    "  suffix = c(\".x\", \".y\"),\n",
    "  ...,\n",
    "  keep = FALSE,\n",
    "  na_matches = c(\"na\", \"never\")\n",
    ")\n",
    "\n",
    "right_join(\n",
    "  x,\n",
    "  y,\n",
    "  by = NULL,\n",
    "  copy = FALSE,\n",
    "  suffix = c(\".x\", \".y\"),\n",
    "  ...,\n",
    "  keep = FALSE\n",
    ")\n",
    "\n",
    "# S3 method for data.frame\n",
    "right_join(\n",
    "  x,\n",
    "  y,\n",
    "  by = NULL,\n",
    "  copy = FALSE,\n",
    "  suffix = c(\".x\", \".y\"),\n",
    "  ...,\n",
    "  keep = FALSE,\n",
    "  na_matches = c(\"na\", \"never\")\n",
    ")\n",
    "\n",
    "full_join(\n",
    "  x,\n",
    "  y,\n",
    "  by = NULL,\n",
    "  copy = FALSE,\n",
    "  suffix = c(\".x\", \".y\"),\n",
    "  ...,\n",
    "  keep = FALSE\n",
    ")\n",
    "\n",
    "# S3 method for data.frame\n",
    "full_join(\n",
    "  x,\n",
    "  y,\n",
    "  by = NULL,\n",
    "  copy = FALSE,\n",
    "  suffix = c(\".x\", \".y\"),\n",
    "  ...,\n",
    "  keep = FALSE,\n",
    "  na_matches = c(\"na\", \"never\")\n",
    ")\n",
    "```"
   ]
  },
  {
   "cell_type": "markdown",
   "metadata": {},
   "source": [
    "# Examples"
   ]
  },
  {
   "cell_type": "code",
   "execution_count": 24,
   "metadata": {},
   "outputs": [
    {
     "data": {
      "text/html": [
       "<table>\n",
       "<thead><tr><th scope=col>name</th><th scope=col>band</th></tr></thead>\n",
       "<tbody>\n",
       "\t<tr><td>Mick   </td><td>Stones </td></tr>\n",
       "\t<tr><td>John   </td><td>Beatles</td></tr>\n",
       "\t<tr><td>Paul   </td><td>Beatles</td></tr>\n",
       "</tbody>\n",
       "</table>\n"
      ],
      "text/latex": [
       "\\begin{tabular}{r|ll}\n",
       " name & band\\\\\n",
       "\\hline\n",
       "\t Mick    & Stones \\\\\n",
       "\t John    & Beatles\\\\\n",
       "\t Paul    & Beatles\\\\\n",
       "\\end{tabular}\n"
      ],
      "text/markdown": [
       "\n",
       "| name | band |\n",
       "|---|---|\n",
       "| Mick    | Stones  |\n",
       "| John    | Beatles |\n",
       "| Paul    | Beatles |\n",
       "\n"
      ],
      "text/plain": [
       "  name band   \n",
       "1 Mick Stones \n",
       "2 John Beatles\n",
       "3 Paul Beatles"
      ]
     },
     "metadata": {},
     "output_type": "display_data"
    }
   ],
   "source": [
    "band_members"
   ]
  },
  {
   "cell_type": "code",
   "execution_count": 25,
   "metadata": {},
   "outputs": [
    {
     "data": {
      "text/html": [
       "<table>\n",
       "<thead><tr><th scope=col>name</th><th scope=col>plays</th></tr></thead>\n",
       "<tbody>\n",
       "\t<tr><td>John  </td><td>guitar</td></tr>\n",
       "\t<tr><td>Paul  </td><td>bass  </td></tr>\n",
       "\t<tr><td>Keith </td><td>guitar</td></tr>\n",
       "</tbody>\n",
       "</table>\n"
      ],
      "text/latex": [
       "\\begin{tabular}{r|ll}\n",
       " name & plays\\\\\n",
       "\\hline\n",
       "\t John   & guitar\\\\\n",
       "\t Paul   & bass  \\\\\n",
       "\t Keith  & guitar\\\\\n",
       "\\end{tabular}\n"
      ],
      "text/markdown": [
       "\n",
       "| name | plays |\n",
       "|---|---|\n",
       "| John   | guitar |\n",
       "| Paul   | bass   |\n",
       "| Keith  | guitar |\n",
       "\n"
      ],
      "text/plain": [
       "  name  plays \n",
       "1 John  guitar\n",
       "2 Paul  bass  \n",
       "3 Keith guitar"
      ]
     },
     "metadata": {},
     "output_type": "display_data"
    }
   ],
   "source": [
    "band_instruments"
   ]
  },
  {
   "cell_type": "code",
   "execution_count": 26,
   "metadata": {},
   "outputs": [
    {
     "data": {
      "text/html": [
       "<table>\n",
       "<thead><tr><th scope=col>artist</th><th scope=col>plays</th></tr></thead>\n",
       "<tbody>\n",
       "\t<tr><td>John  </td><td>guitar</td></tr>\n",
       "\t<tr><td>Paul  </td><td>bass  </td></tr>\n",
       "\t<tr><td>Keith </td><td>guitar</td></tr>\n",
       "</tbody>\n",
       "</table>\n"
      ],
      "text/latex": [
       "\\begin{tabular}{r|ll}\n",
       " artist & plays\\\\\n",
       "\\hline\n",
       "\t John   & guitar\\\\\n",
       "\t Paul   & bass  \\\\\n",
       "\t Keith  & guitar\\\\\n",
       "\\end{tabular}\n"
      ],
      "text/markdown": [
       "\n",
       "| artist | plays |\n",
       "|---|---|\n",
       "| John   | guitar |\n",
       "| Paul   | bass   |\n",
       "| Keith  | guitar |\n",
       "\n"
      ],
      "text/plain": [
       "  artist plays \n",
       "1 John   guitar\n",
       "2 Paul   bass  \n",
       "3 Keith  guitar"
      ]
     },
     "metadata": {},
     "output_type": "display_data"
    }
   ],
   "source": [
    "band_instruments2"
   ]
  },
  {
   "cell_type": "code",
   "execution_count": 2,
   "metadata": {},
   "outputs": [
    {
     "data": {
      "text/html": [
       "'C:/Users/dell/PycharmProjects/MachineLearning/Pandas/datasets'"
      ],
      "text/latex": [
       "'C:/Users/dell/PycharmProjects/MachineLearning/Pandas/datasets'"
      ],
      "text/markdown": [
       "'C:/Users/dell/PycharmProjects/MachineLearning/Pandas/datasets'"
      ],
      "text/plain": [
       "[1] \"C:/Users/dell/PycharmProjects/MachineLearning/Pandas/datasets\""
      ]
     },
     "metadata": {},
     "output_type": "display_data"
    }
   ],
   "source": [
    "setwd('C:/Users/dell/PycharmProjects/MachineLearning/Pandas/datasets')\n",
    "getwd()"
   ]
  },
  {
   "cell_type": "code",
   "execution_count": 4,
   "metadata": {},
   "outputs": [
    {
     "data": {
      "text/html": [
       "<table>\n",
       "<thead><tr><th scope=col>state</th><th scope=col>abbreviation</th></tr></thead>\n",
       "<tbody>\n",
       "\t<tr><td>Alabama   </td><td>AL        </td></tr>\n",
       "\t<tr><td>Alaska    </td><td>AK        </td></tr>\n",
       "\t<tr><td>Arizona   </td><td>AZ        </td></tr>\n",
       "\t<tr><td>Arkansas  </td><td>AR        </td></tr>\n",
       "\t<tr><td>California</td><td>CA        </td></tr>\n",
       "\t<tr><td>Colorado  </td><td>CO        </td></tr>\n",
       "</tbody>\n",
       "</table>\n"
      ],
      "text/latex": [
       "\\begin{tabular}{r|ll}\n",
       " state & abbreviation\\\\\n",
       "\\hline\n",
       "\t Alabama    & AL        \\\\\n",
       "\t Alaska     & AK        \\\\\n",
       "\t Arizona    & AZ        \\\\\n",
       "\t Arkansas   & AR        \\\\\n",
       "\t California & CA        \\\\\n",
       "\t Colorado   & CO        \\\\\n",
       "\\end{tabular}\n"
      ],
      "text/markdown": [
       "\n",
       "| state | abbreviation |\n",
       "|---|---|\n",
       "| Alabama    | AL         |\n",
       "| Alaska     | AK         |\n",
       "| Arizona    | AZ         |\n",
       "| Arkansas   | AR         |\n",
       "| California | CA         |\n",
       "| Colorado   | CO         |\n",
       "\n"
      ],
      "text/plain": [
       "  state      abbreviation\n",
       "1 Alabama    AL          \n",
       "2 Alaska     AK          \n",
       "3 Arizona    AZ          \n",
       "4 Arkansas   AR          \n",
       "5 California CA          \n",
       "6 Colorado   CO          "
      ]
     },
     "metadata": {},
     "output_type": "display_data"
    }
   ],
   "source": [
    "abb <- read.csv('./state-abbrevs.csv')\n",
    "head(abb)"
   ]
  },
  {
   "cell_type": "code",
   "execution_count": 6,
   "metadata": {},
   "outputs": [
    {
     "data": {
      "text/html": [
       "<table>\n",
       "<thead><tr><th scope=col>state</th><th scope=col>area..sq..mi.</th></tr></thead>\n",
       "<tbody>\n",
       "\t<tr><td>Alabama   </td><td> 52423    </td></tr>\n",
       "\t<tr><td>Alaska    </td><td>656425    </td></tr>\n",
       "\t<tr><td>Arizona   </td><td>114006    </td></tr>\n",
       "\t<tr><td>Arkansas  </td><td> 53182    </td></tr>\n",
       "\t<tr><td>California</td><td>163707    </td></tr>\n",
       "\t<tr><td>Colorado  </td><td>104100    </td></tr>\n",
       "</tbody>\n",
       "</table>\n"
      ],
      "text/latex": [
       "\\begin{tabular}{r|ll}\n",
       " state & area..sq..mi.\\\\\n",
       "\\hline\n",
       "\t Alabama    &  52423    \\\\\n",
       "\t Alaska     & 656425    \\\\\n",
       "\t Arizona    & 114006    \\\\\n",
       "\t Arkansas   &  53182    \\\\\n",
       "\t California & 163707    \\\\\n",
       "\t Colorado   & 104100    \\\\\n",
       "\\end{tabular}\n"
      ],
      "text/markdown": [
       "\n",
       "| state | area..sq..mi. |\n",
       "|---|---|\n",
       "| Alabama    |  52423     |\n",
       "| Alaska     | 656425     |\n",
       "| Arizona    | 114006     |\n",
       "| Arkansas   |  53182     |\n",
       "| California | 163707     |\n",
       "| Colorado   | 104100     |\n",
       "\n"
      ],
      "text/plain": [
       "  state      area..sq..mi.\n",
       "1 Alabama     52423       \n",
       "2 Alaska     656425       \n",
       "3 Arizona    114006       \n",
       "4 Arkansas    53182       \n",
       "5 California 163707       \n",
       "6 Colorado   104100       "
      ]
     },
     "metadata": {},
     "output_type": "display_data"
    }
   ],
   "source": [
    "areas <- read.csv('./state-areas.csv')\n",
    "head(areas)"
   ]
  },
  {
   "cell_type": "code",
   "execution_count": 7,
   "metadata": {},
   "outputs": [
    {
     "data": {
      "text/html": [
       "<table>\n",
       "<thead><tr><th scope=col>state.region</th><th scope=col>ages</th><th scope=col>year</th><th scope=col>population</th></tr></thead>\n",
       "<tbody>\n",
       "\t<tr><td>AL     </td><td>under18</td><td>2012   </td><td>1117489</td></tr>\n",
       "\t<tr><td>AL     </td><td>total  </td><td>2012   </td><td>4817528</td></tr>\n",
       "\t<tr><td>AL     </td><td>under18</td><td>2010   </td><td>1130966</td></tr>\n",
       "\t<tr><td>AL     </td><td>total  </td><td>2010   </td><td>4785570</td></tr>\n",
       "\t<tr><td>AL     </td><td>under18</td><td>2011   </td><td>1125763</td></tr>\n",
       "\t<tr><td>AL     </td><td>total  </td><td>2011   </td><td>4801627</td></tr>\n",
       "</tbody>\n",
       "</table>\n"
      ],
      "text/latex": [
       "\\begin{tabular}{r|llll}\n",
       " state.region & ages & year & population\\\\\n",
       "\\hline\n",
       "\t AL      & under18 & 2012    & 1117489\\\\\n",
       "\t AL      & total   & 2012    & 4817528\\\\\n",
       "\t AL      & under18 & 2010    & 1130966\\\\\n",
       "\t AL      & total   & 2010    & 4785570\\\\\n",
       "\t AL      & under18 & 2011    & 1125763\\\\\n",
       "\t AL      & total   & 2011    & 4801627\\\\\n",
       "\\end{tabular}\n"
      ],
      "text/markdown": [
       "\n",
       "| state.region | ages | year | population |\n",
       "|---|---|---|---|\n",
       "| AL      | under18 | 2012    | 1117489 |\n",
       "| AL      | total   | 2012    | 4817528 |\n",
       "| AL      | under18 | 2010    | 1130966 |\n",
       "| AL      | total   | 2010    | 4785570 |\n",
       "| AL      | under18 | 2011    | 1125763 |\n",
       "| AL      | total   | 2011    | 4801627 |\n",
       "\n"
      ],
      "text/plain": [
       "  state.region ages    year population\n",
       "1 AL           under18 2012 1117489   \n",
       "2 AL           total   2012 4817528   \n",
       "3 AL           under18 2010 1130966   \n",
       "4 AL           total   2010 4785570   \n",
       "5 AL           under18 2011 1125763   \n",
       "6 AL           total   2011 4801627   "
      ]
     },
     "metadata": {},
     "output_type": "display_data"
    }
   ],
   "source": [
    "pop <- read.csv('./state-population.csv') \n",
    "head(pop)"
   ]
  },
  {
   "cell_type": "code",
   "execution_count": 12,
   "metadata": {},
   "outputs": [
    {
     "data": {
      "text/html": [
       "<table>\n",
       "<thead><tr><th scope=col>state</th><th scope=col>abbreviation</th><th scope=col>area..sq..mi.</th></tr></thead>\n",
       "<tbody>\n",
       "\t<tr><td>Alabama   </td><td>AL        </td><td> 52423    </td></tr>\n",
       "\t<tr><td>Alaska    </td><td>AK        </td><td>656425    </td></tr>\n",
       "\t<tr><td>Arizona   </td><td>AZ        </td><td>114006    </td></tr>\n",
       "\t<tr><td>Arkansas  </td><td>AR        </td><td> 53182    </td></tr>\n",
       "\t<tr><td>California</td><td>CA        </td><td>163707    </td></tr>\n",
       "\t<tr><td>Colorado  </td><td>CO        </td><td>104100    </td></tr>\n",
       "</tbody>\n",
       "</table>\n"
      ],
      "text/latex": [
       "\\begin{tabular}{r|lll}\n",
       " state & abbreviation & area..sq..mi.\\\\\n",
       "\\hline\n",
       "\t Alabama    & AL         &  52423    \\\\\n",
       "\t Alaska     & AK         & 656425    \\\\\n",
       "\t Arizona    & AZ         & 114006    \\\\\n",
       "\t Arkansas   & AR         &  53182    \\\\\n",
       "\t California & CA         & 163707    \\\\\n",
       "\t Colorado   & CO         & 104100    \\\\\n",
       "\\end{tabular}\n"
      ],
      "text/markdown": [
       "\n",
       "| state | abbreviation | area..sq..mi. |\n",
       "|---|---|---|\n",
       "| Alabama    | AL         |  52423     |\n",
       "| Alaska     | AK         | 656425     |\n",
       "| Arizona    | AZ         | 114006     |\n",
       "| Arkansas   | AR         |  53182     |\n",
       "| California | CA         | 163707     |\n",
       "| Colorado   | CO         | 104100     |\n",
       "\n"
      ],
      "text/plain": [
       "  state      abbreviation area..sq..mi.\n",
       "1 Alabama    AL            52423       \n",
       "2 Alaska     AK           656425       \n",
       "3 Arizona    AZ           114006       \n",
       "4 Arkansas   AR            53182       \n",
       "5 California CA           163707       \n",
       "6 Colorado   CO           104100       "
      ]
     },
     "metadata": {},
     "output_type": "display_data"
    }
   ],
   "source": [
    "#inner join `abb` and `areas` by state\n",
    "\n",
    "inner_join(abb, areas, by = 'state') %>% head()"
   ]
  },
  {
   "cell_type": "markdown",
   "metadata": {},
   "source": [
    "To join by different variables on x and y, use a named vector. For example, `by = c(\"a\" = \"b\")` will match `x$a` to `y$b`"
   ]
  },
  {
   "cell_type": "code",
   "execution_count": 21,
   "metadata": {},
   "outputs": [
    {
     "data": {
      "text/html": [
       "<table>\n",
       "<thead><tr><th scope=col>state</th><th scope=col>abbreviation</th><th scope=col>ages</th><th scope=col>year</th><th scope=col>population</th></tr></thead>\n",
       "<tbody>\n",
       "\t<tr><td>Alabama</td><td>AL     </td><td>under18</td><td>2012   </td><td>1117489</td></tr>\n",
       "\t<tr><td>Alabama</td><td>AL     </td><td>total  </td><td>2012   </td><td>4817528</td></tr>\n",
       "\t<tr><td>Alabama</td><td>AL     </td><td>under18</td><td>2010   </td><td>1130966</td></tr>\n",
       "\t<tr><td>Alabama</td><td>AL     </td><td>total  </td><td>2010   </td><td>4785570</td></tr>\n",
       "\t<tr><td>Alabama</td><td>AL     </td><td>under18</td><td>2011   </td><td>1125763</td></tr>\n",
       "\t<tr><td>Alabama</td><td>AL     </td><td>total  </td><td>2011   </td><td>4801627</td></tr>\n",
       "</tbody>\n",
       "</table>\n"
      ],
      "text/latex": [
       "\\begin{tabular}{r|lllll}\n",
       " state & abbreviation & ages & year & population\\\\\n",
       "\\hline\n",
       "\t Alabama & AL      & under18 & 2012    & 1117489\\\\\n",
       "\t Alabama & AL      & total   & 2012    & 4817528\\\\\n",
       "\t Alabama & AL      & under18 & 2010    & 1130966\\\\\n",
       "\t Alabama & AL      & total   & 2010    & 4785570\\\\\n",
       "\t Alabama & AL      & under18 & 2011    & 1125763\\\\\n",
       "\t Alabama & AL      & total   & 2011    & 4801627\\\\\n",
       "\\end{tabular}\n"
      ],
      "text/markdown": [
       "\n",
       "| state | abbreviation | ages | year | population |\n",
       "|---|---|---|---|---|\n",
       "| Alabama | AL      | under18 | 2012    | 1117489 |\n",
       "| Alabama | AL      | total   | 2012    | 4817528 |\n",
       "| Alabama | AL      | under18 | 2010    | 1130966 |\n",
       "| Alabama | AL      | total   | 2010    | 4785570 |\n",
       "| Alabama | AL      | under18 | 2011    | 1125763 |\n",
       "| Alabama | AL      | total   | 2011    | 4801627 |\n",
       "\n"
      ],
      "text/plain": [
       "  state   abbreviation ages    year population\n",
       "1 Alabama AL           under18 2012 1117489   \n",
       "2 Alabama AL           total   2012 4817528   \n",
       "3 Alabama AL           under18 2010 1130966   \n",
       "4 Alabama AL           total   2010 4785570   \n",
       "5 Alabama AL           under18 2011 1125763   \n",
       "6 Alabama AL           total   2011 4801627   "
      ]
     },
     "metadata": {},
     "output_type": "display_data"
    }
   ],
   "source": [
    "#inner join by `abb$abbreviation` and `pop$state.region`\n",
    "inner_join(abb, pop, by = c('abbreviation' = 'state.region')) %>% head()"
   ]
  },
  {
   "cell_type": "markdown",
   "metadata": {},
   "source": [
    "To join by multiple variables, use a vector with length > 1. For example, `by = c(\"a\", \"b\")` will match `x$a` to `y$a` and `x$b` to `y$b`."
   ]
  },
  {
   "cell_type": "markdown",
   "metadata": {},
   "source": [
    "Use a named vector to match different variables in x and y. For example, `by = c(\"a\" = \"b\", \"c\" = \"d\")` will match `x$a` to `y$b` and `x$c` to `y$d`."
   ]
  },
  {
   "cell_type": "code",
   "execution_count": 32,
   "metadata": {},
   "outputs": [
    {
     "data": {
      "text/html": [
       "<table>\n",
       "<thead><tr><th scope=col>name</th><th scope=col>band</th><th scope=col>artist</th><th scope=col>plays</th></tr></thead>\n",
       "<tbody>\n",
       "\t<tr><td>Mick   </td><td>Stones </td><td>NA     </td><td>NA     </td></tr>\n",
       "\t<tr><td>John   </td><td>Beatles</td><td>John   </td><td>guitar </td></tr>\n",
       "\t<tr><td>Paul   </td><td>Beatles</td><td>Paul   </td><td>bass   </td></tr>\n",
       "\t<tr><td>NA     </td><td>NA     </td><td>Keith  </td><td>guitar </td></tr>\n",
       "</tbody>\n",
       "</table>\n"
      ],
      "text/latex": [
       "\\begin{tabular}{r|llll}\n",
       " name & band & artist & plays\\\\\n",
       "\\hline\n",
       "\t Mick    & Stones  & NA      & NA     \\\\\n",
       "\t John    & Beatles & John    & guitar \\\\\n",
       "\t Paul    & Beatles & Paul    & bass   \\\\\n",
       "\t NA      & NA      & Keith   & guitar \\\\\n",
       "\\end{tabular}\n"
      ],
      "text/markdown": [
       "\n",
       "| name | band | artist | plays |\n",
       "|---|---|---|---|\n",
       "| Mick    | Stones  | NA      | NA      |\n",
       "| John    | Beatles | John    | guitar  |\n",
       "| Paul    | Beatles | Paul    | bass    |\n",
       "| NA      | NA      | Keith   | guitar  |\n",
       "\n"
      ],
      "text/plain": [
       "  name band    artist plays \n",
       "1 Mick Stones  NA     NA    \n",
       "2 John Beatles John   guitar\n",
       "3 Paul Beatles Paul   bass  \n",
       "4 NA   NA      Keith  guitar"
      ]
     },
     "metadata": {},
     "output_type": "display_data"
    }
   ],
   "source": [
    "# `keep = TRUE` to keep the join keys from both `x` and `y`\n",
    "band_members %>% full_join(band_instruments2, by = c('name' = 'artist'), keep = T)"
   ]
  },
  {
   "cell_type": "code",
   "execution_count": 33,
   "metadata": {},
   "outputs": [
    {
     "name": "stderr",
     "output_type": "stream",
     "text": [
      "Joining, by = \"x\"\n"
     ]
    },
    {
     "data": {
      "text/html": [
       "<table>\n",
       "<thead><tr><th scope=col>x</th><th scope=col>y</th></tr></thead>\n",
       "<tbody>\n",
       "\t<tr><td>1     </td><td>first </td></tr>\n",
       "\t<tr><td>1     </td><td>second</td></tr>\n",
       "\t<tr><td>2     </td><td>third </td></tr>\n",
       "\t<tr><td>3     </td><td>NA    </td></tr>\n",
       "</tbody>\n",
       "</table>\n"
      ],
      "text/latex": [
       "\\begin{tabular}{r|ll}\n",
       " x & y\\\\\n",
       "\\hline\n",
       "\t 1      & first \\\\\n",
       "\t 1      & second\\\\\n",
       "\t 2      & third \\\\\n",
       "\t 3      & NA    \\\\\n",
       "\\end{tabular}\n"
      ],
      "text/markdown": [
       "\n",
       "| x | y |\n",
       "|---|---|\n",
       "| 1      | first  |\n",
       "| 1      | second |\n",
       "| 2      | third  |\n",
       "| 3      | NA     |\n",
       "\n"
      ],
      "text/plain": [
       "  x y     \n",
       "1 1 first \n",
       "2 1 second\n",
       "3 2 third \n",
       "4 3 NA    "
      ]
     },
     "metadata": {},
     "output_type": "display_data"
    }
   ],
   "source": [
    "# If a row in `x` matches multiple rows in `y`, all the rows in `y` will be\n",
    "# returned once for each matching row in `x`\n",
    "df1 <- tibble(x = 1:3)\n",
    "df2 <- tibble(x = c(1, 1, 2), y = c(\"first\", \"second\", \"third\"))\n",
    "df1 %>% left_join(df2)"
   ]
  },
  {
   "cell_type": "code",
   "execution_count": 36,
   "metadata": {},
   "outputs": [
    {
     "name": "stderr",
     "output_type": "stream",
     "text": [
      "Joining, by = \"x\"\n"
     ]
    },
    {
     "data": {
      "text/html": [
       "<table>\n",
       "<thead><tr><th scope=col>x</th><th scope=col>y</th><th scope=col>z</th></tr></thead>\n",
       "<tbody>\n",
       "\t<tr><td> 1</td><td>2 </td><td>3 </td></tr>\n",
       "\t<tr><td>NA</td><td>2 </td><td>3 </td></tr>\n",
       "</tbody>\n",
       "</table>\n"
      ],
      "text/latex": [
       "\\begin{tabular}{r|lll}\n",
       " x & y & z\\\\\n",
       "\\hline\n",
       "\t  1 & 2  & 3 \\\\\n",
       "\t NA & 2  & 3 \\\\\n",
       "\\end{tabular}\n"
      ],
      "text/markdown": [
       "\n",
       "| x | y | z |\n",
       "|---|---|---|\n",
       "|  1 | 2  | 3  |\n",
       "| NA | 2  | 3  |\n",
       "\n"
      ],
      "text/plain": [
       "  x  y z\n",
       "1  1 2 3\n",
       "2 NA 2 3"
      ]
     },
     "metadata": {},
     "output_type": "display_data"
    }
   ],
   "source": [
    "# By default, NAs match other NAs so that there are two\n",
    "# rows in the output of this join:\n",
    "df1 <- data.frame(x = c(1, NA), y = 2)\n",
    "df2 <- data.frame(x = c(1, NA), z = 3)\n",
    "left_join(df1, df2)"
   ]
  },
  {
   "cell_type": "code",
   "execution_count": 37,
   "metadata": {},
   "outputs": [
    {
     "name": "stderr",
     "output_type": "stream",
     "text": [
      "Joining, by = \"x\"\n"
     ]
    },
    {
     "data": {
      "text/html": [
       "<table>\n",
       "<thead><tr><th scope=col>x</th><th scope=col>y</th><th scope=col>z</th></tr></thead>\n",
       "<tbody>\n",
       "\t<tr><td> 1</td><td>2 </td><td> 3</td></tr>\n",
       "\t<tr><td>NA</td><td>2 </td><td>NA</td></tr>\n",
       "</tbody>\n",
       "</table>\n"
      ],
      "text/latex": [
       "\\begin{tabular}{r|lll}\n",
       " x & y & z\\\\\n",
       "\\hline\n",
       "\t  1 & 2  &  3\\\\\n",
       "\t NA & 2  & NA\\\\\n",
       "\\end{tabular}\n"
      ],
      "text/markdown": [
       "\n",
       "| x | y | z |\n",
       "|---|---|---|\n",
       "|  1 | 2  |  3 |\n",
       "| NA | 2  | NA |\n",
       "\n"
      ],
      "text/plain": [
       "  x  y z \n",
       "1  1 2  3\n",
       "2 NA 2 NA"
      ]
     },
     "metadata": {},
     "output_type": "display_data"
    }
   ],
   "source": [
    "# You can optionally request that NAs don't match, giving a\n",
    "# a result that more closely resembles SQL joins\n",
    "left_join(df1, df2, na_matches = \"never\")"
   ]
  }
 ],
 "metadata": {
  "kernelspec": {
   "display_name": "R",
   "language": "R",
   "name": "ir"
  },
  "language_info": {
   "codemirror_mode": "r",
   "file_extension": ".r",
   "mimetype": "text/x-r-source",
   "name": "R",
   "pygments_lexer": "r",
   "version": "3.6.1"
  }
 },
 "nbformat": 4,
 "nbformat_minor": 2
}
