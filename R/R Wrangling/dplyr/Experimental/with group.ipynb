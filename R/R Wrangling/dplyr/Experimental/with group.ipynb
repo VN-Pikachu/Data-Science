{
 "cells": [
  {
   "cell_type": "code",
   "execution_count": 2,
   "metadata": {},
   "outputs": [],
   "source": [
    "library(tidyverse)"
   ]
  },
  {
   "cell_type": "markdown",
   "metadata": {},
   "source": [
    "# Perform an operation with temporary groups "
   ]
  },
  {
   "cell_type": "markdown",
   "metadata": {},
   "source": [
    "This is an experimental new function that allows you to modify the grouping variables for a single operation."
   ]
  },
  {
   "cell_type": "markdown",
   "metadata": {},
   "source": [
    "```r\n",
    "with_groups(.data, .groups, .f, ...)\n",
    "```"
   ]
  },
  {
   "cell_type": "markdown",
   "metadata": {},
   "source": [
    "# Examples"
   ]
  },
  {
   "cell_type": "code",
   "execution_count": 3,
   "metadata": {},
   "outputs": [
    {
     "data": {
      "text/html": [
       "<table>\n",
       "<thead><tr><th scope=col>g</th><th scope=col>x</th></tr></thead>\n",
       "<tbody>\n",
       "\t<tr><td>1         </td><td>0.77595432</td></tr>\n",
       "\t<tr><td>1         </td><td>0.07081933</td></tr>\n",
       "\t<tr><td>2         </td><td>0.05684885</td></tr>\n",
       "\t<tr><td>2         </td><td>0.21081576</td></tr>\n",
       "\t<tr><td>3         </td><td>0.04473063</td></tr>\n",
       "</tbody>\n",
       "</table>\n"
      ],
      "text/latex": [
       "\\begin{tabular}{r|ll}\n",
       " g & x\\\\\n",
       "\\hline\n",
       "\t 1          & 0.77595432\\\\\n",
       "\t 1          & 0.07081933\\\\\n",
       "\t 2          & 0.05684885\\\\\n",
       "\t 2          & 0.21081576\\\\\n",
       "\t 3          & 0.04473063\\\\\n",
       "\\end{tabular}\n"
      ],
      "text/markdown": [
       "\n",
       "| g | x |\n",
       "|---|---|\n",
       "| 1          | 0.77595432 |\n",
       "| 1          | 0.07081933 |\n",
       "| 2          | 0.05684885 |\n",
       "| 2          | 0.21081576 |\n",
       "| 3          | 0.04473063 |\n",
       "\n"
      ],
      "text/plain": [
       "  g x         \n",
       "1 1 0.77595432\n",
       "2 1 0.07081933\n",
       "3 2 0.05684885\n",
       "4 2 0.21081576\n",
       "5 3 0.04473063"
      ]
     },
     "metadata": {},
     "output_type": "display_data"
    }
   ],
   "source": [
    "df <- tibble(g = c(1, 1, 2, 2, 3), x = runif(5))\n",
    "df"
   ]
  },
  {
   "cell_type": "code",
   "execution_count": 4,
   "metadata": {},
   "outputs": [
    {
     "data": {
      "text/html": [
       "<table>\n",
       "<thead><tr><th scope=col>g</th><th scope=col>x</th><th scope=col>x_mean</th></tr></thead>\n",
       "<tbody>\n",
       "\t<tr><td>1         </td><td>0.77595432</td><td>0.42338682</td></tr>\n",
       "\t<tr><td>1         </td><td>0.07081933</td><td>0.42338682</td></tr>\n",
       "\t<tr><td>2         </td><td>0.05684885</td><td>0.13383230</td></tr>\n",
       "\t<tr><td>2         </td><td>0.21081576</td><td>0.13383230</td></tr>\n",
       "\t<tr><td>3         </td><td>0.04473063</td><td>0.04473063</td></tr>\n",
       "</tbody>\n",
       "</table>\n"
      ],
      "text/latex": [
       "\\begin{tabular}{r|lll}\n",
       " g & x & x\\_mean\\\\\n",
       "\\hline\n",
       "\t 1          & 0.77595432 & 0.42338682\\\\\n",
       "\t 1          & 0.07081933 & 0.42338682\\\\\n",
       "\t 2          & 0.05684885 & 0.13383230\\\\\n",
       "\t 2          & 0.21081576 & 0.13383230\\\\\n",
       "\t 3          & 0.04473063 & 0.04473063\\\\\n",
       "\\end{tabular}\n"
      ],
      "text/markdown": [
       "\n",
       "| g | x | x_mean |\n",
       "|---|---|---|\n",
       "| 1          | 0.77595432 | 0.42338682 |\n",
       "| 1          | 0.07081933 | 0.42338682 |\n",
       "| 2          | 0.05684885 | 0.13383230 |\n",
       "| 2          | 0.21081576 | 0.13383230 |\n",
       "| 3          | 0.04473063 | 0.04473063 |\n",
       "\n"
      ],
      "text/plain": [
       "  g x          x_mean    \n",
       "1 1 0.77595432 0.42338682\n",
       "2 1 0.07081933 0.42338682\n",
       "3 2 0.05684885 0.13383230\n",
       "4 2 0.21081576 0.13383230\n",
       "5 3 0.04473063 0.04473063"
      ]
     },
     "metadata": {},
     "output_type": "display_data"
    }
   ],
   "source": [
    "df %>%\n",
    "  with_groups(g, mutate, x_mean = mean(x))"
   ]
  },
  {
   "cell_type": "code",
   "execution_count": 5,
   "metadata": {},
   "outputs": [
    {
     "data": {
      "text/html": [
       "<table>\n",
       "<thead><tr><th scope=col>g</th><th scope=col>x</th><th scope=col>x_mean</th></tr></thead>\n",
       "<tbody>\n",
       "\t<tr><td>1         </td><td>0.77595432</td><td>0.42338682</td></tr>\n",
       "\t<tr><td>1         </td><td>0.07081933</td><td>0.42338682</td></tr>\n",
       "\t<tr><td>2         </td><td>0.05684885</td><td>0.13383230</td></tr>\n",
       "\t<tr><td>2         </td><td>0.21081576</td><td>0.13383230</td></tr>\n",
       "\t<tr><td>3         </td><td>0.04473063</td><td>0.04473063</td></tr>\n",
       "</tbody>\n",
       "</table>\n"
      ],
      "text/latex": [
       "\\begin{tabular}{r|lll}\n",
       " g & x & x\\_mean\\\\\n",
       "\\hline\n",
       "\t 1          & 0.77595432 & 0.42338682\\\\\n",
       "\t 1          & 0.07081933 & 0.42338682\\\\\n",
       "\t 2          & 0.05684885 & 0.13383230\\\\\n",
       "\t 2          & 0.21081576 & 0.13383230\\\\\n",
       "\t 3          & 0.04473063 & 0.04473063\\\\\n",
       "\\end{tabular}\n"
      ],
      "text/markdown": [
       "\n",
       "| g | x | x_mean |\n",
       "|---|---|---|\n",
       "| 1          | 0.77595432 | 0.42338682 |\n",
       "| 1          | 0.07081933 | 0.42338682 |\n",
       "| 2          | 0.05684885 | 0.13383230 |\n",
       "| 2          | 0.21081576 | 0.13383230 |\n",
       "| 3          | 0.04473063 | 0.04473063 |\n",
       "\n"
      ],
      "text/plain": [
       "  g x          x_mean    \n",
       "1 1 0.77595432 0.42338682\n",
       "2 1 0.07081933 0.42338682\n",
       "3 2 0.05684885 0.13383230\n",
       "4 2 0.21081576 0.13383230\n",
       "5 3 0.04473063 0.04473063"
      ]
     },
     "metadata": {},
     "output_type": "display_data"
    }
   ],
   "source": [
    "#Equivlent to:\n",
    "df %>%\n",
    "group_by(g) %>%\n",
    "mutate(x_mean = mean(x))"
   ]
  },
  {
   "cell_type": "code",
   "execution_count": null,
   "metadata": {},
   "outputs": [],
   "source": []
  }
 ],
 "metadata": {
  "kernelspec": {
   "display_name": "R",
   "language": "R",
   "name": "ir"
  },
  "language_info": {
   "codemirror_mode": "r",
   "file_extension": ".r",
   "mimetype": "text/x-r-source",
   "name": "R",
   "pygments_lexer": "r",
   "version": "3.6.1"
  }
 },
 "nbformat": 4,
 "nbformat_minor": 2
}
