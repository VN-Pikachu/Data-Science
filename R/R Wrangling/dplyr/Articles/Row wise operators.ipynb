{
 "cells": [
  {
   "cell_type": "code",
   "execution_count": 2,
   "metadata": {},
   "outputs": [],
   "source": [
    "library(tidyverse)"
   ]
  },
  {
   "cell_type": "markdown",
   "metadata": {},
   "source": [
    "# [Row-wise operations](https://dplyr.tidyverse.org/articles/rowwise.html#row-wise-summary-functions)"
   ]
  },
  {
   "cell_type": "markdown",
   "metadata": {},
   "source": [
    "# Creating"
   ]
  },
  {
   "cell_type": "markdown",
   "metadata": {},
   "source": [
    "Row-wise operations require a special type of grouping where each group consists of a single row. You create this with **`rowwise()`**:"
   ]
  },
  {
   "cell_type": "code",
   "execution_count": 3,
   "metadata": {},
   "outputs": [],
   "source": [
    "df <- tibble(x = 1:2, y = 3:4, z = 5:6)"
   ]
  },
  {
   "cell_type": "code",
   "execution_count": 4,
   "metadata": {},
   "outputs": [
    {
     "data": {
      "text/html": [
       "<table>\n",
       "<thead><tr><th scope=col>x</th><th scope=col>y</th><th scope=col>z</th></tr></thead>\n",
       "<tbody>\n",
       "\t<tr><td>1</td><td>3</td><td>5</td></tr>\n",
       "\t<tr><td>2</td><td>4</td><td>6</td></tr>\n",
       "</tbody>\n",
       "</table>\n"
      ],
      "text/latex": [
       "\\begin{tabular}{r|lll}\n",
       " x & y & z\\\\\n",
       "\\hline\n",
       "\t 1 & 3 & 5\\\\\n",
       "\t 2 & 4 & 6\\\\\n",
       "\\end{tabular}\n"
      ],
      "text/markdown": [
       "\n",
       "| x | y | z |\n",
       "|---|---|---|\n",
       "| 1 | 3 | 5 |\n",
       "| 2 | 4 | 6 |\n",
       "\n"
      ],
      "text/plain": [
       "  x y z\n",
       "1 1 3 5\n",
       "2 2 4 6"
      ]
     },
     "metadata": {},
     "output_type": "display_data"
    }
   ],
   "source": [
    "df %>% rowwise()"
   ]
  },
  {
   "cell_type": "markdown",
   "metadata": {},
   "source": [
    "Like `group_by()`, `rowwise()` doesn’t really do anything itself; it just changes how the other verbs work."
   ]
  },
  {
   "cell_type": "code",
   "execution_count": 5,
   "metadata": {},
   "outputs": [
    {
     "data": {
      "text/html": [
       "<table>\n",
       "<thead><tr><th scope=col>x</th><th scope=col>y</th><th scope=col>z</th><th scope=col>m</th></tr></thead>\n",
       "<tbody>\n",
       "\t<tr><td>1</td><td>3</td><td>5</td><td>3</td></tr>\n",
       "\t<tr><td>2</td><td>4</td><td>6</td><td>4</td></tr>\n",
       "</tbody>\n",
       "</table>\n"
      ],
      "text/latex": [
       "\\begin{tabular}{r|llll}\n",
       " x & y & z & m\\\\\n",
       "\\hline\n",
       "\t 1 & 3 & 5 & 3\\\\\n",
       "\t 2 & 4 & 6 & 4\\\\\n",
       "\\end{tabular}\n"
      ],
      "text/markdown": [
       "\n",
       "| x | y | z | m |\n",
       "|---|---|---|---|\n",
       "| 1 | 3 | 5 | 3 |\n",
       "| 2 | 4 | 6 | 4 |\n",
       "\n"
      ],
      "text/plain": [
       "  x y z m\n",
       "1 1 3 5 3\n",
       "2 2 4 6 4"
      ]
     },
     "metadata": {},
     "output_type": "display_data"
    }
   ],
   "source": [
    "# Calculate the mean of each row\n",
    "\n",
    "df %>% rowwise() %>% mutate(m = mean(c(x, y, z)))"
   ]
  },
  {
   "cell_type": "markdown",
   "metadata": {},
   "source": [
    "You can optionally supply “identifier” variables in your call to `rowwise()`. These variables are preserved when you call `summarise()`, so they behave somewhat similarly to the grouping variables passed to `group_by()`:"
   ]
  },
  {
   "cell_type": "code",
   "execution_count": 9,
   "metadata": {},
   "outputs": [
    {
     "data": {
      "text/html": [
       "<table>\n",
       "<thead><tr><th scope=col>name</th><th scope=col>x</th><th scope=col>y</th><th scope=col>z</th></tr></thead>\n",
       "<tbody>\n",
       "\t<tr><td>Mara  </td><td>1     </td><td>3     </td><td>5     </td></tr>\n",
       "\t<tr><td>Hadley</td><td>2     </td><td>4     </td><td>6     </td></tr>\n",
       "</tbody>\n",
       "</table>\n"
      ],
      "text/latex": [
       "\\begin{tabular}{r|llll}\n",
       " name & x & y & z\\\\\n",
       "\\hline\n",
       "\t Mara   & 1      & 3      & 5     \\\\\n",
       "\t Hadley & 2      & 4      & 6     \\\\\n",
       "\\end{tabular}\n"
      ],
      "text/markdown": [
       "\n",
       "| name | x | y | z |\n",
       "|---|---|---|---|\n",
       "| Mara   | 1      | 3      | 5      |\n",
       "| Hadley | 2      | 4      | 6      |\n",
       "\n"
      ],
      "text/plain": [
       "  name   x y z\n",
       "1 Mara   1 3 5\n",
       "2 Hadley 2 4 6"
      ]
     },
     "metadata": {},
     "output_type": "display_data"
    }
   ],
   "source": [
    "df <- tibble(name = c(\"Mara\", \"Hadley\"), x = 1:2, y = 3:4, z = 5:6)\n",
    "df"
   ]
  },
  {
   "cell_type": "code",
   "execution_count": 10,
   "metadata": {},
   "outputs": [
    {
     "name": "stderr",
     "output_type": "stream",
     "text": [
      "`summarise()` ungrouping output (override with `.groups` argument)\n"
     ]
    },
    {
     "data": {
      "text/html": [
       "<table>\n",
       "<thead><tr><th scope=col>m</th></tr></thead>\n",
       "<tbody>\n",
       "\t<tr><td>3</td></tr>\n",
       "\t<tr><td>4</td></tr>\n",
       "</tbody>\n",
       "</table>\n"
      ],
      "text/latex": [
       "\\begin{tabular}{r|l}\n",
       " m\\\\\n",
       "\\hline\n",
       "\t 3\\\\\n",
       "\t 4\\\\\n",
       "\\end{tabular}\n"
      ],
      "text/markdown": [
       "\n",
       "| m |\n",
       "|---|\n",
       "| 3 |\n",
       "| 4 |\n",
       "\n"
      ],
      "text/plain": [
       "  m\n",
       "1 3\n",
       "2 4"
      ]
     },
     "metadata": {},
     "output_type": "display_data"
    }
   ],
   "source": [
    "df %>% rowwise() %>% summarize(m = mean(c(x, y, z)))"
   ]
  },
  {
   "cell_type": "code",
   "execution_count": 11,
   "metadata": {},
   "outputs": [
    {
     "name": "stderr",
     "output_type": "stream",
     "text": [
      "`summarise()` regrouping output by 'name' (override with `.groups` argument)\n"
     ]
    },
    {
     "data": {
      "text/html": [
       "<table>\n",
       "<thead><tr><th scope=col>name</th><th scope=col>m</th></tr></thead>\n",
       "<tbody>\n",
       "\t<tr><td>Mara  </td><td>3     </td></tr>\n",
       "\t<tr><td>Hadley</td><td>4     </td></tr>\n",
       "</tbody>\n",
       "</table>\n"
      ],
      "text/latex": [
       "\\begin{tabular}{r|ll}\n",
       " name & m\\\\\n",
       "\\hline\n",
       "\t Mara   & 3     \\\\\n",
       "\t Hadley & 4     \\\\\n",
       "\\end{tabular}\n"
      ],
      "text/markdown": [
       "\n",
       "| name | m |\n",
       "|---|---|\n",
       "| Mara   | 3      |\n",
       "| Hadley | 4      |\n",
       "\n"
      ],
      "text/plain": [
       "  name   m\n",
       "1 Mara   3\n",
       "2 Hadley 4"
      ]
     },
     "metadata": {},
     "output_type": "display_data"
    }
   ],
   "source": [
    "df %>% rowwise(name) %>% summarize(m = mean(c(x, y, z)))"
   ]
  },
  {
   "cell_type": "markdown",
   "metadata": {},
   "source": [
    "<b style = 'color:red'>NOTE: `rowwise()` is just a special form of grouping, so if you want to remove it from a data frame, just call `ungroup()`.</b>"
   ]
  },
  {
   "cell_type": "markdown",
   "metadata": {},
   "source": [
    "# Per row summary statistics"
   ]
  },
  {
   "cell_type": "code",
   "execution_count": 12,
   "metadata": {},
   "outputs": [
    {
     "data": {
      "text/html": [
       "<table>\n",
       "<thead><tr><th scope=col>id</th><th scope=col>w</th><th scope=col>x</th><th scope=col>y</th><th scope=col>z</th></tr></thead>\n",
       "<tbody>\n",
       "\t<tr><td>1 </td><td>10</td><td>20</td><td>30</td><td>40</td></tr>\n",
       "\t<tr><td>2 </td><td>11</td><td>21</td><td>31</td><td>41</td></tr>\n",
       "\t<tr><td>3 </td><td>12</td><td>22</td><td>32</td><td>42</td></tr>\n",
       "\t<tr><td>4 </td><td>13</td><td>23</td><td>33</td><td>43</td></tr>\n",
       "\t<tr><td>5 </td><td>14</td><td>24</td><td>34</td><td>44</td></tr>\n",
       "\t<tr><td>6 </td><td>15</td><td>25</td><td>35</td><td>45</td></tr>\n",
       "</tbody>\n",
       "</table>\n"
      ],
      "text/latex": [
       "\\begin{tabular}{r|lllll}\n",
       " id & w & x & y & z\\\\\n",
       "\\hline\n",
       "\t 1  & 10 & 20 & 30 & 40\\\\\n",
       "\t 2  & 11 & 21 & 31 & 41\\\\\n",
       "\t 3  & 12 & 22 & 32 & 42\\\\\n",
       "\t 4  & 13 & 23 & 33 & 43\\\\\n",
       "\t 5  & 14 & 24 & 34 & 44\\\\\n",
       "\t 6  & 15 & 25 & 35 & 45\\\\\n",
       "\\end{tabular}\n"
      ],
      "text/markdown": [
       "\n",
       "| id | w | x | y | z |\n",
       "|---|---|---|---|---|\n",
       "| 1  | 10 | 20 | 30 | 40 |\n",
       "| 2  | 11 | 21 | 31 | 41 |\n",
       "| 3  | 12 | 22 | 32 | 42 |\n",
       "| 4  | 13 | 23 | 33 | 43 |\n",
       "| 5  | 14 | 24 | 34 | 44 |\n",
       "| 6  | 15 | 25 | 35 | 45 |\n",
       "\n"
      ],
      "text/plain": [
       "  id w  x  y  z \n",
       "1 1  10 20 30 40\n",
       "2 2  11 21 31 41\n",
       "3 3  12 22 32 42\n",
       "4 4  13 23 33 43\n",
       "5 5  14 24 34 44\n",
       "6 6  15 25 35 45"
      ]
     },
     "metadata": {},
     "output_type": "display_data"
    }
   ],
   "source": [
    "df <- tibble(id = 1:6, w = 10:15, x = 20:25, y = 30:35, z = 40:45)\n",
    "df"
   ]
  },
  {
   "cell_type": "code",
   "execution_count": 13,
   "metadata": {},
   "outputs": [
    {
     "name": "stderr",
     "output_type": "stream",
     "text": [
      "`summarise()` regrouping output by 'id' (override with `.groups` argument)\n"
     ]
    },
    {
     "data": {
      "text/html": [
       "<table>\n",
       "<thead><tr><th scope=col>id</th><th scope=col>m</th></tr></thead>\n",
       "<tbody>\n",
       "\t<tr><td>1 </td><td>25</td></tr>\n",
       "\t<tr><td>2 </td><td>26</td></tr>\n",
       "\t<tr><td>3 </td><td>27</td></tr>\n",
       "\t<tr><td>4 </td><td>28</td></tr>\n",
       "\t<tr><td>5 </td><td>29</td></tr>\n",
       "\t<tr><td>6 </td><td>30</td></tr>\n",
       "</tbody>\n",
       "</table>\n"
      ],
      "text/latex": [
       "\\begin{tabular}{r|ll}\n",
       " id & m\\\\\n",
       "\\hline\n",
       "\t 1  & 25\\\\\n",
       "\t 2  & 26\\\\\n",
       "\t 3  & 27\\\\\n",
       "\t 4  & 28\\\\\n",
       "\t 5  & 29\\\\\n",
       "\t 6  & 30\\\\\n",
       "\\end{tabular}\n"
      ],
      "text/markdown": [
       "\n",
       "| id | m |\n",
       "|---|---|\n",
       "| 1  | 25 |\n",
       "| 2  | 26 |\n",
       "| 3  | 27 |\n",
       "| 4  | 28 |\n",
       "| 5  | 29 |\n",
       "| 6  | 30 |\n",
       "\n"
      ],
      "text/plain": [
       "  id m \n",
       "1 1  25\n",
       "2 2  26\n",
       "3 3  27\n",
       "4 4  28\n",
       "5 5  29\n",
       "6 6  30"
      ]
     },
     "metadata": {},
     "output_type": "display_data"
    }
   ],
   "source": [
    "# for each row, calulate the mean of w, x, y, z\n",
    "df %>% rowwise(id) %>% summarize(m = mean(c(w, x, y, z)))"
   ]
  },
  {
   "cell_type": "markdown",
   "metadata": {},
   "source": [
    "Of course, if you have a lot of variables, it’s going to be tedious to type in every variable name. Instead, you can use `c_across()` which uses tidy selection syntax so you can to succinctly select many variables:"
   ]
  },
  {
   "cell_type": "code",
   "execution_count": 17,
   "metadata": {},
   "outputs": [
    {
     "name": "stderr",
     "output_type": "stream",
     "text": [
      "`summarise()` regrouping output by 'id' (override with `.groups` argument)\n"
     ]
    },
    {
     "data": {
      "text/html": [
       "<table>\n",
       "<thead><tr><th scope=col>id</th><th scope=col>m</th></tr></thead>\n",
       "<tbody>\n",
       "\t<tr><td>1 </td><td>25</td></tr>\n",
       "\t<tr><td>2 </td><td>26</td></tr>\n",
       "\t<tr><td>3 </td><td>27</td></tr>\n",
       "\t<tr><td>4 </td><td>28</td></tr>\n",
       "\t<tr><td>5 </td><td>29</td></tr>\n",
       "\t<tr><td>6 </td><td>30</td></tr>\n",
       "</tbody>\n",
       "</table>\n"
      ],
      "text/latex": [
       "\\begin{tabular}{r|ll}\n",
       " id & m\\\\\n",
       "\\hline\n",
       "\t 1  & 25\\\\\n",
       "\t 2  & 26\\\\\n",
       "\t 3  & 27\\\\\n",
       "\t 4  & 28\\\\\n",
       "\t 5  & 29\\\\\n",
       "\t 6  & 30\\\\\n",
       "\\end{tabular}\n"
      ],
      "text/markdown": [
       "\n",
       "| id | m |\n",
       "|---|---|\n",
       "| 1  | 25 |\n",
       "| 2  | 26 |\n",
       "| 3  | 27 |\n",
       "| 4  | 28 |\n",
       "| 5  | 29 |\n",
       "| 6  | 30 |\n",
       "\n"
      ],
      "text/plain": [
       "  id m \n",
       "1 1  25\n",
       "2 2  26\n",
       "3 3  27\n",
       "4 4  28\n",
       "5 5  29\n",
       "6 6  30"
      ]
     },
     "metadata": {},
     "output_type": "display_data"
    }
   ],
   "source": [
    "df %>% rowwise(id) %>% summarize(m = mean(c_across(w:z)))"
   ]
  },
  {
   "cell_type": "markdown",
   "metadata": {},
   "source": [
    " compute the proportion of the total for each column:"
   ]
  },
  {
   "cell_type": "code",
   "execution_count": 19,
   "metadata": {},
   "outputs": [
    {
     "data": {
      "text/html": [
       "<table>\n",
       "<thead><tr><th scope=col>id</th><th scope=col>w</th><th scope=col>x</th><th scope=col>y</th><th scope=col>z</th><th scope=col>total</th></tr></thead>\n",
       "<tbody>\n",
       "\t<tr><td>1        </td><td>0.1000000</td><td>0.2000000</td><td>0.3000000</td><td>0.4000000</td><td>100      </td></tr>\n",
       "\t<tr><td>2        </td><td>0.1057692</td><td>0.2019231</td><td>0.2980769</td><td>0.3942308</td><td>104      </td></tr>\n",
       "\t<tr><td>3        </td><td>0.1111111</td><td>0.2037037</td><td>0.2962963</td><td>0.3888889</td><td>108      </td></tr>\n",
       "\t<tr><td>4        </td><td>0.1160714</td><td>0.2053571</td><td>0.2946429</td><td>0.3839286</td><td>112      </td></tr>\n",
       "\t<tr><td>5        </td><td>0.1206897</td><td>0.2068966</td><td>0.2931034</td><td>0.3793103</td><td>116      </td></tr>\n",
       "\t<tr><td>6        </td><td>0.1250000</td><td>0.2083333</td><td>0.2916667</td><td>0.3750000</td><td>120      </td></tr>\n",
       "</tbody>\n",
       "</table>\n"
      ],
      "text/latex": [
       "\\begin{tabular}{r|llllll}\n",
       " id & w & x & y & z & total\\\\\n",
       "\\hline\n",
       "\t 1         & 0.1000000 & 0.2000000 & 0.3000000 & 0.4000000 & 100      \\\\\n",
       "\t 2         & 0.1057692 & 0.2019231 & 0.2980769 & 0.3942308 & 104      \\\\\n",
       "\t 3         & 0.1111111 & 0.2037037 & 0.2962963 & 0.3888889 & 108      \\\\\n",
       "\t 4         & 0.1160714 & 0.2053571 & 0.2946429 & 0.3839286 & 112      \\\\\n",
       "\t 5         & 0.1206897 & 0.2068966 & 0.2931034 & 0.3793103 & 116      \\\\\n",
       "\t 6         & 0.1250000 & 0.2083333 & 0.2916667 & 0.3750000 & 120      \\\\\n",
       "\\end{tabular}\n"
      ],
      "text/markdown": [
       "\n",
       "| id | w | x | y | z | total |\n",
       "|---|---|---|---|---|---|\n",
       "| 1         | 0.1000000 | 0.2000000 | 0.3000000 | 0.4000000 | 100       |\n",
       "| 2         | 0.1057692 | 0.2019231 | 0.2980769 | 0.3942308 | 104       |\n",
       "| 3         | 0.1111111 | 0.2037037 | 0.2962963 | 0.3888889 | 108       |\n",
       "| 4         | 0.1160714 | 0.2053571 | 0.2946429 | 0.3839286 | 112       |\n",
       "| 5         | 0.1206897 | 0.2068966 | 0.2931034 | 0.3793103 | 116       |\n",
       "| 6         | 0.1250000 | 0.2083333 | 0.2916667 | 0.3750000 | 120       |\n",
       "\n"
      ],
      "text/plain": [
       "  id w         x         y         z         total\n",
       "1 1  0.1000000 0.2000000 0.3000000 0.4000000 100  \n",
       "2 2  0.1057692 0.2019231 0.2980769 0.3942308 104  \n",
       "3 3  0.1111111 0.2037037 0.2962963 0.3888889 108  \n",
       "4 4  0.1160714 0.2053571 0.2946429 0.3839286 112  \n",
       "5 5  0.1206897 0.2068966 0.2931034 0.3793103 116  \n",
       "6 6  0.1250000 0.2083333 0.2916667 0.3750000 120  "
      ]
     },
     "metadata": {},
     "output_type": "display_data"
    }
   ],
   "source": [
    "df %>% rowwise() %>% mutate(total = sum(c_across(w:z))) %>% mutate(across(w:z, ~ . / total))"
   ]
  },
  {
   "cell_type": "markdown",
   "metadata": {},
   "source": [
    "### Row-wise summary functions"
   ]
  },
  {
   "cell_type": "markdown",
   "metadata": {},
   "source": [
    "The `rowwise()` approach will work for any summary function. But if you need greater speed, it’s worth looking for a built-in row-wise variant of your summary function. These are more efficient because they operate on the data frame as whole; they don’t split it into rows, compute the summary, and then join the results back together again."
   ]
  },
  {
   "cell_type": "code",
   "execution_count": 20,
   "metadata": {},
   "outputs": [
    {
     "data": {
      "text/html": [
       "<table>\n",
       "<thead><tr><th scope=col>id</th><th scope=col>w</th><th scope=col>x</th><th scope=col>y</th><th scope=col>z</th><th scope=col>total</th></tr></thead>\n",
       "<tbody>\n",
       "\t<tr><td>1  </td><td>10 </td><td>20 </td><td>30 </td><td>40 </td><td>100</td></tr>\n",
       "\t<tr><td>2  </td><td>11 </td><td>21 </td><td>31 </td><td>41 </td><td>104</td></tr>\n",
       "\t<tr><td>3  </td><td>12 </td><td>22 </td><td>32 </td><td>42 </td><td>108</td></tr>\n",
       "\t<tr><td>4  </td><td>13 </td><td>23 </td><td>33 </td><td>43 </td><td>112</td></tr>\n",
       "\t<tr><td>5  </td><td>14 </td><td>24 </td><td>34 </td><td>44 </td><td>116</td></tr>\n",
       "\t<tr><td>6  </td><td>15 </td><td>25 </td><td>35 </td><td>45 </td><td>120</td></tr>\n",
       "</tbody>\n",
       "</table>\n"
      ],
      "text/latex": [
       "\\begin{tabular}{r|llllll}\n",
       " id & w & x & y & z & total\\\\\n",
       "\\hline\n",
       "\t 1   & 10  & 20  & 30  & 40  & 100\\\\\n",
       "\t 2   & 11  & 21  & 31  & 41  & 104\\\\\n",
       "\t 3   & 12  & 22  & 32  & 42  & 108\\\\\n",
       "\t 4   & 13  & 23  & 33  & 43  & 112\\\\\n",
       "\t 5   & 14  & 24  & 34  & 44  & 116\\\\\n",
       "\t 6   & 15  & 25  & 35  & 45  & 120\\\\\n",
       "\\end{tabular}\n"
      ],
      "text/markdown": [
       "\n",
       "| id | w | x | y | z | total |\n",
       "|---|---|---|---|---|---|\n",
       "| 1   | 10  | 20  | 30  | 40  | 100 |\n",
       "| 2   | 11  | 21  | 31  | 41  | 104 |\n",
       "| 3   | 12  | 22  | 32  | 42  | 108 |\n",
       "| 4   | 13  | 23  | 33  | 43  | 112 |\n",
       "| 5   | 14  | 24  | 34  | 44  | 116 |\n",
       "| 6   | 15  | 25  | 35  | 45  | 120 |\n",
       "\n"
      ],
      "text/plain": [
       "  id w  x  y  z  total\n",
       "1 1  10 20 30 40 100  \n",
       "2 2  11 21 31 41 104  \n",
       "3 3  12 22 32 42 108  \n",
       "4 4  13 23 33 43 112  \n",
       "5 5  14 24 34 44 116  \n",
       "6 6  15 25 35 45 120  "
      ]
     },
     "metadata": {},
     "output_type": "display_data"
    }
   ],
   "source": [
    "df %>% mutate(total = rowSums(across(w:z)))"
   ]
  },
  {
   "cell_type": "code",
   "execution_count": 22,
   "metadata": {},
   "outputs": [
    {
     "data": {
      "text/html": [
       "<table>\n",
       "<thead><tr><th scope=col>id</th><th scope=col>w</th><th scope=col>x</th><th scope=col>y</th><th scope=col>z</th><th scope=col>mean</th></tr></thead>\n",
       "<tbody>\n",
       "\t<tr><td>1 </td><td>10</td><td>20</td><td>30</td><td>40</td><td>25</td></tr>\n",
       "\t<tr><td>2 </td><td>11</td><td>21</td><td>31</td><td>41</td><td>26</td></tr>\n",
       "\t<tr><td>3 </td><td>12</td><td>22</td><td>32</td><td>42</td><td>27</td></tr>\n",
       "\t<tr><td>4 </td><td>13</td><td>23</td><td>33</td><td>43</td><td>28</td></tr>\n",
       "\t<tr><td>5 </td><td>14</td><td>24</td><td>34</td><td>44</td><td>29</td></tr>\n",
       "\t<tr><td>6 </td><td>15</td><td>25</td><td>35</td><td>45</td><td>30</td></tr>\n",
       "</tbody>\n",
       "</table>\n"
      ],
      "text/latex": [
       "\\begin{tabular}{r|llllll}\n",
       " id & w & x & y & z & mean\\\\\n",
       "\\hline\n",
       "\t 1  & 10 & 20 & 30 & 40 & 25\\\\\n",
       "\t 2  & 11 & 21 & 31 & 41 & 26\\\\\n",
       "\t 3  & 12 & 22 & 32 & 42 & 27\\\\\n",
       "\t 4  & 13 & 23 & 33 & 43 & 28\\\\\n",
       "\t 5  & 14 & 24 & 34 & 44 & 29\\\\\n",
       "\t 6  & 15 & 25 & 35 & 45 & 30\\\\\n",
       "\\end{tabular}\n"
      ],
      "text/markdown": [
       "\n",
       "| id | w | x | y | z | mean |\n",
       "|---|---|---|---|---|---|\n",
       "| 1  | 10 | 20 | 30 | 40 | 25 |\n",
       "| 2  | 11 | 21 | 31 | 41 | 26 |\n",
       "| 3  | 12 | 22 | 32 | 42 | 27 |\n",
       "| 4  | 13 | 23 | 33 | 43 | 28 |\n",
       "| 5  | 14 | 24 | 34 | 44 | 29 |\n",
       "| 6  | 15 | 25 | 35 | 45 | 30 |\n",
       "\n"
      ],
      "text/plain": [
       "  id w  x  y  z  mean\n",
       "1 1  10 20 30 40 25  \n",
       "2 2  11 21 31 41 26  \n",
       "3 3  12 22 32 42 27  \n",
       "4 4  13 23 33 43 28  \n",
       "5 5  14 24 34 44 29  \n",
       "6 6  15 25 35 45 30  "
      ]
     },
     "metadata": {},
     "output_type": "display_data"
    }
   ],
   "source": [
    "df %>% mutate(mean = rowMeans(across(w:z)))"
   ]
  },
  {
   "cell_type": "markdown",
   "metadata": {},
   "source": [
    "# List-columns"
   ]
  },
  {
   "cell_type": "markdown",
   "metadata": {},
   "source": [
    "### Motivation"
   ]
  },
  {
   "cell_type": "code",
   "execution_count": 23,
   "metadata": {},
   "outputs": [
    {
     "data": {
      "text/html": [
       "<table>\n",
       "<thead><tr><th scope=col>x</th></tr></thead>\n",
       "<tbody>\n",
       "\t<tr><td>1</td></tr>\n",
       "\t<tr><td>2, 3</td></tr>\n",
       "\t<tr><td>4, 5, 6</td></tr>\n",
       "</tbody>\n",
       "</table>\n"
      ],
      "text/latex": [
       "\\begin{tabular}{r|l}\n",
       " x\\\\\n",
       "\\hline\n",
       "\t 1\\\\\n",
       "\t 2, 3\\\\\n",
       "\t 4, 5, 6\\\\\n",
       "\\end{tabular}\n"
      ],
      "text/markdown": [
       "\n",
       "| x |\n",
       "|---|\n",
       "| 1 |\n",
       "| 2, 3 |\n",
       "| 4, 5, 6 |\n",
       "\n"
      ],
      "text/plain": [
       "  x      \n",
       "1 1      \n",
       "2 2, 3   \n",
       "3 4, 5, 6"
      ]
     },
     "metadata": {},
     "output_type": "display_data"
    }
   ],
   "source": [
    "df <- tibble(\n",
    "  x = list(1, 2:3, 4:6)\n",
    ")\n",
    "\n",
    "df"
   ]
  },
  {
   "cell_type": "code",
   "execution_count": 24,
   "metadata": {},
   "outputs": [
    {
     "data": {
      "text/html": [
       "<table>\n",
       "<thead><tr><th scope=col>x</th><th scope=col>length</th></tr></thead>\n",
       "<tbody>\n",
       "\t<tr><td>1</td><td>1</td></tr>\n",
       "\t<tr><td>2, 3</td><td>2   </td></tr>\n",
       "\t<tr><td>4, 5, 6</td><td>3      </td></tr>\n",
       "</tbody>\n",
       "</table>\n"
      ],
      "text/latex": [
       "\\begin{tabular}{r|ll}\n",
       " x & length\\\\\n",
       "\\hline\n",
       "\t 1 & 1\\\\\n",
       "\t 2, 3 & 2   \\\\\n",
       "\t 4, 5, 6 & 3      \\\\\n",
       "\\end{tabular}\n"
      ],
      "text/markdown": [
       "\n",
       "| x | length |\n",
       "|---|---|\n",
       "| 1 | 1 |\n",
       "| 2, 3 | 2    |\n",
       "| 4, 5, 6 | 3       |\n",
       "\n"
      ],
      "text/plain": [
       "  x       length\n",
       "1 1       1     \n",
       "2 2, 3    2     \n",
       "3 4, 5, 6 3     "
      ]
     },
     "metadata": {},
     "output_type": "display_data"
    }
   ],
   "source": [
    "# the lengh of each element in column x\n",
    "\n",
    "df %>% rowwise() %>% mutate(length = length(x))"
   ]
  },
  {
   "cell_type": "code",
   "execution_count": 26,
   "metadata": {},
   "outputs": [
    {
     "data": {
      "text/html": [
       "<table>\n",
       "<thead><tr><th scope=col>x</th><th scope=col>length</th></tr></thead>\n",
       "<tbody>\n",
       "\t<tr><td>1</td><td>1</td></tr>\n",
       "\t<tr><td>2, 3</td><td>2   </td></tr>\n",
       "\t<tr><td>4, 5, 6</td><td>3      </td></tr>\n",
       "</tbody>\n",
       "</table>\n"
      ],
      "text/latex": [
       "\\begin{tabular}{r|ll}\n",
       " x & length\\\\\n",
       "\\hline\n",
       "\t 1 & 1\\\\\n",
       "\t 2, 3 & 2   \\\\\n",
       "\t 4, 5, 6 & 3      \\\\\n",
       "\\end{tabular}\n"
      ],
      "text/markdown": [
       "\n",
       "| x | length |\n",
       "|---|---|\n",
       "| 1 | 1 |\n",
       "| 2, 3 | 2    |\n",
       "| 4, 5, 6 | 3       |\n",
       "\n"
      ],
      "text/plain": [
       "  x       length\n",
       "1 1       1     \n",
       "2 2, 3    2     \n",
       "3 4, 5, 6 3     "
      ]
     },
     "metadata": {},
     "output_type": "display_data"
    }
   ],
   "source": [
    "# equivalent using purrr\n",
    "\n",
    "df %>% mutate(length = x %>% map_int(length))"
   ]
  },
  {
   "cell_type": "markdown",
   "metadata": {},
   "source": [
    "### Subsetting"
   ]
  },
  {
   "cell_type": "markdown",
   "metadata": {},
   "source": [
    "There’s an important difference between a grouped data frame where each group happens to have one row, and a row-wise data frame where every group always has one row. Take these two data frames:"
   ]
  },
  {
   "cell_type": "code",
   "execution_count": 32,
   "metadata": {},
   "outputs": [
    {
     "data": {
      "text/html": [
       "<table>\n",
       "<thead><tr><th scope=col>g</th><th scope=col>y</th></tr></thead>\n",
       "<tbody>\n",
       "\t<tr><td>1      </td><td>1, 2, 3</td></tr>\n",
       "\t<tr><td>2</td><td>a</td></tr>\n",
       "</tbody>\n",
       "</table>\n"
      ],
      "text/latex": [
       "\\begin{tabular}{r|ll}\n",
       " g & y\\\\\n",
       "\\hline\n",
       "\t 1       & 1, 2, 3\\\\\n",
       "\t 2 & a\\\\\n",
       "\\end{tabular}\n"
      ],
      "text/markdown": [
       "\n",
       "| g | y |\n",
       "|---|---|\n",
       "| 1       | 1, 2, 3 |\n",
       "| 2 | a |\n",
       "\n"
      ],
      "text/plain": [
       "  g y      \n",
       "1 1 1, 2, 3\n",
       "2 2 a      "
      ]
     },
     "metadata": {},
     "output_type": "display_data"
    }
   ],
   "source": [
    "df <- tibble(g = 1:2, y = list(1:3, \"a\"))\n",
    "df"
   ]
  },
  {
   "cell_type": "code",
   "execution_count": 27,
   "metadata": {},
   "outputs": [],
   "source": [
    "gf <- df %>% group_by(g)\n",
    "rf <- df %>% rowwise(g)"
   ]
  },
  {
   "cell_type": "markdown",
   "metadata": {},
   "source": [
    "If we compute some properties of y, you’ll notice the results look different:"
   ]
  },
  {
   "cell_type": "code",
   "execution_count": 29,
   "metadata": {},
   "outputs": [
    {
     "data": {
      "text/html": [
       "<table>\n",
       "<thead><tr><th scope=col>g</th><th scope=col>y</th><th scope=col>type</th><th scope=col>length</th></tr></thead>\n",
       "<tbody>\n",
       "\t<tr><td>1      </td><td>1, 2, 3</td><td>list   </td><td>1      </td></tr>\n",
       "\t<tr><td>2   </td><td>a   </td><td>list</td><td>1   </td></tr>\n",
       "</tbody>\n",
       "</table>\n"
      ],
      "text/latex": [
       "\\begin{tabular}{r|llll}\n",
       " g & y & type & length\\\\\n",
       "\\hline\n",
       "\t 1       & 1, 2, 3 & list    & 1      \\\\\n",
       "\t 2    & a    & list & 1   \\\\\n",
       "\\end{tabular}\n"
      ],
      "text/markdown": [
       "\n",
       "| g | y | type | length |\n",
       "|---|---|---|---|\n",
       "| 1       | 1, 2, 3 | list    | 1       |\n",
       "| 2    | a    | list | 1    |\n",
       "\n"
      ],
      "text/plain": [
       "  g y       type length\n",
       "1 1 1, 2, 3 list 1     \n",
       "2 2 a       list 1     "
      ]
     },
     "metadata": {},
     "output_type": "display_data"
    }
   ],
   "source": [
    "gf %>% mutate(type = typeof(y), length = length(y))"
   ]
  },
  {
   "cell_type": "code",
   "execution_count": 31,
   "metadata": {},
   "outputs": [
    {
     "data": {
      "text/html": [
       "<table>\n",
       "<thead><tr><th scope=col>g</th><th scope=col>y</th><th scope=col>type</th><th scope=col>length</th></tr></thead>\n",
       "<tbody>\n",
       "\t<tr><td>1        </td><td>1, 2, 3  </td><td>integer  </td><td>3        </td></tr>\n",
       "\t<tr><td>2        </td><td>a        </td><td>character</td><td>1        </td></tr>\n",
       "</tbody>\n",
       "</table>\n"
      ],
      "text/latex": [
       "\\begin{tabular}{r|llll}\n",
       " g & y & type & length\\\\\n",
       "\\hline\n",
       "\t 1         & 1, 2, 3   & integer   & 3        \\\\\n",
       "\t 2         & a         & character & 1        \\\\\n",
       "\\end{tabular}\n"
      ],
      "text/markdown": [
       "\n",
       "| g | y | type | length |\n",
       "|---|---|---|---|\n",
       "| 1         | 1, 2, 3   | integer   | 3         |\n",
       "| 2         | a         | character | 1         |\n",
       "\n"
      ],
      "text/plain": [
       "  g y       type      length\n",
       "1 1 1, 2, 3 integer   3     \n",
       "2 2 a       character 1     "
      ]
     },
     "metadata": {},
     "output_type": "display_data"
    }
   ],
   "source": [
    "rf %>% mutate(type = typeof(y), length = length(y))"
   ]
  },
  {
   "cell_type": "markdown",
   "metadata": {},
   "source": [
    "### Modelling"
   ]
  },
  {
   "cell_type": "markdown",
   "metadata": {},
   "source": [
    "# Repeated function calls"
   ]
  },
  {
   "cell_type": "markdown",
   "metadata": {},
   "source": [
    "`rowwise()` doesn’t just work with functions that return a length-1 vector (aka summary functions); it can work with any function if the result is a list. This means that `rowwise()` and `mutate()` provide an elegant way to call a function many times with varying arguments, storing the outputs alongside the inputs."
   ]
  },
  {
   "cell_type": "code",
   "execution_count": 34,
   "metadata": {},
   "outputs": [
    {
     "data": {
      "text/html": [
       "<table>\n",
       "<thead><tr><th scope=col>n</th><th scope=col>min</th><th scope=col>max</th></tr></thead>\n",
       "<tbody>\n",
       "\t<tr><td>1   </td><td>  0 </td><td>   1</td></tr>\n",
       "\t<tr><td>2   </td><td> 10 </td><td> 100</td></tr>\n",
       "\t<tr><td>3   </td><td>100 </td><td>1000</td></tr>\n",
       "</tbody>\n",
       "</table>\n"
      ],
      "text/latex": [
       "\\begin{tabular}{r|lll}\n",
       " n & min & max\\\\\n",
       "\\hline\n",
       "\t 1    &   0  &    1\\\\\n",
       "\t 2    &  10  &  100\\\\\n",
       "\t 3    & 100  & 1000\\\\\n",
       "\\end{tabular}\n"
      ],
      "text/markdown": [
       "\n",
       "| n | min | max |\n",
       "|---|---|---|\n",
       "| 1    |   0  |    1 |\n",
       "| 2    |  10  |  100 |\n",
       "| 3    | 100  | 1000 |\n",
       "\n"
      ],
      "text/plain": [
       "  n min max \n",
       "1 1   0    1\n",
       "2 2  10  100\n",
       "3 3 100 1000"
      ]
     },
     "metadata": {},
     "output_type": "display_data"
    }
   ],
   "source": [
    "df <- tribble(\n",
    "  ~ n, ~ min, ~ max,\n",
    "    1,     0,     1,\n",
    "    2,    10,   100,\n",
    "    3,   100,  1000,\n",
    ")\n",
    "\n",
    "df"
   ]
  },
  {
   "cell_type": "code",
   "execution_count": 36,
   "metadata": {},
   "outputs": [
    {
     "data": {
      "text/html": [
       "<table>\n",
       "<thead><tr><th scope=col>n</th><th scope=col>min</th><th scope=col>max</th><th scope=col>sample</th></tr></thead>\n",
       "<tbody>\n",
       "\t<tr><td>1        </td><td>  0      </td><td>   1     </td><td>0.1193836</td></tr>\n",
       "\t<tr><td>2                 </td><td> 10               </td><td> 100              </td><td>20.31088, 85.50538</td></tr>\n",
       "\t<tr><td>3                           </td><td>100                         </td><td>1000                        </td><td>771.5930, 197.3408, 293.5938</td></tr>\n",
       "</tbody>\n",
       "</table>\n"
      ],
      "text/latex": [
       "\\begin{tabular}{r|llll}\n",
       " n & min & max & sample\\\\\n",
       "\\hline\n",
       "\t 1         &   0       &    1      & 0.1193836\\\\\n",
       "\t 2                  &  10                &  100               & 20.31088, 85.50538\\\\\n",
       "\t 3                            & 100                          & 1000                         & 771.5930, 197.3408, 293.5938\\\\\n",
       "\\end{tabular}\n"
      ],
      "text/markdown": [
       "\n",
       "| n | min | max | sample |\n",
       "|---|---|---|---|\n",
       "| 1         |   0       |    1      | 0.1193836 |\n",
       "| 2                  |  10                |  100               | 20.31088, 85.50538 |\n",
       "| 3                            | 100                          | 1000                         | 771.5930, 197.3408, 293.5938 |\n",
       "\n"
      ],
      "text/plain": [
       "  n min max  sample                      \n",
       "1 1   0    1 0.1193836                   \n",
       "2 2  10  100 20.31088, 85.50538          \n",
       "3 3 100 1000 771.5930, 197.3408, 293.5938"
      ]
     },
     "metadata": {},
     "output_type": "display_data"
    }
   ],
   "source": [
    "df %>% rowwise() %>% mutate(sample = list(runif(n, min, max)))"
   ]
  },
  {
   "cell_type": "markdown",
   "metadata": {},
   "source": [
    "Note the use of list().  list() means that we’ll get a list column where each row is a list containing multiple values"
   ]
  },
  {
   "cell_type": "markdown",
   "metadata": {},
   "source": [
    "### Multiple combinations"
   ]
  },
  {
   "cell_type": "code",
   "execution_count": 37,
   "metadata": {},
   "outputs": [
    {
     "data": {
      "text/html": [
       "<table>\n",
       "<thead><tr><th scope=col>mean</th><th scope=col>sd</th></tr></thead>\n",
       "<tbody>\n",
       "\t<tr><td>-1 </td><td>  1</td></tr>\n",
       "\t<tr><td>-1 </td><td> 10</td></tr>\n",
       "\t<tr><td>-1 </td><td>100</td></tr>\n",
       "\t<tr><td> 0 </td><td>  1</td></tr>\n",
       "\t<tr><td> 0 </td><td> 10</td></tr>\n",
       "\t<tr><td> 0 </td><td>100</td></tr>\n",
       "\t<tr><td> 1 </td><td>  1</td></tr>\n",
       "\t<tr><td> 1 </td><td> 10</td></tr>\n",
       "\t<tr><td> 1 </td><td>100</td></tr>\n",
       "</tbody>\n",
       "</table>\n"
      ],
      "text/latex": [
       "\\begin{tabular}{r|ll}\n",
       " mean & sd\\\\\n",
       "\\hline\n",
       "\t -1  &   1\\\\\n",
       "\t -1  &  10\\\\\n",
       "\t -1  & 100\\\\\n",
       "\t  0  &   1\\\\\n",
       "\t  0  &  10\\\\\n",
       "\t  0  & 100\\\\\n",
       "\t  1  &   1\\\\\n",
       "\t  1  &  10\\\\\n",
       "\t  1  & 100\\\\\n",
       "\\end{tabular}\n"
      ],
      "text/markdown": [
       "\n",
       "| mean | sd |\n",
       "|---|---|\n",
       "| -1  |   1 |\n",
       "| -1  |  10 |\n",
       "| -1  | 100 |\n",
       "|  0  |   1 |\n",
       "|  0  |  10 |\n",
       "|  0  | 100 |\n",
       "|  1  |   1 |\n",
       "|  1  |  10 |\n",
       "|  1  | 100 |\n",
       "\n"
      ],
      "text/plain": [
       "  mean sd \n",
       "1 -1     1\n",
       "2 -1    10\n",
       "3 -1   100\n",
       "4  0     1\n",
       "5  0    10\n",
       "6  0   100\n",
       "7  1     1\n",
       "8  1    10\n",
       "9  1   100"
      ]
     },
     "metadata": {},
     "output_type": "display_data"
    }
   ],
   "source": [
    "df <- expand_grid(mean = c(-1, 0, 1), sd = c(1, 10, 100))\n",
    "df"
   ]
  },
  {
   "cell_type": "code",
   "execution_count": 40,
   "metadata": {},
   "outputs": [
    {
     "data": {
      "text/html": [
       "<table>\n",
       "<thead><tr><th scope=col>mean</th><th scope=col>sd</th><th scope=col>sample</th></tr></thead>\n",
       "<tbody>\n",
       "\t<tr><td>-1                                                                                                                             </td><td>  1                                                                                                                            </td><td>-0.22471285, -0.30996150, -0.06898567, -1.46914925, -0.61824616, -0.27017763, -0.43321641, -0.58437822, -0.76692078, 0.13604184</td></tr>\n",
       "\t<tr><td>-1                                                                                                                </td><td> 10                                                                                                               </td><td>0.7530198, -1.0602098, 2.4141938, -17.8469462, 5.6150016, 7.0875617, -17.5819421, 11.6992405, 6.1962554, 6.4414500</td></tr>\n",
       "\t<tr><td>-1                                                                                                                    </td><td>100                                                                                                                   </td><td>-5.619504, -50.891112, 17.299161, 169.273241, -63.690020, -151.137164, -44.118924, -199.529634, -95.491138, -53.365946</td></tr>\n",
       "\t<tr><td> 0                                                                                                                                  </td><td>  1                                                                                                                                 </td><td>0.083067730, 0.179244292, 0.182316255, 1.326328958, -0.425857270, 0.003974857, -0.641008557, -1.433796526, 0.817382289, -0.080969036</td></tr>\n",
       "\t<tr><td> 0                                                                                                            </td><td> 10                                                                                                           </td><td>6.8041879, 0.8434895, -1.6479602, 2.5171706, 0.4781909, 3.3695991, 8.5346329, -4.7405180, 4.9195873, 4.3896954</td></tr>\n",
       "\t<tr><td> 0                                                                                                                   </td><td>100                                                                                                                  </td><td>-87.787070, 12.645020, -110.218653, -44.056024, -57.157618, -225.539459, -19.679948, 121.568075, -1.983079, -2.839947</td></tr>\n",
       "\t<tr><td> 1                                                                                                            </td><td>  1                                                                                                           </td><td>1.6752758, 1.9775224, 0.8780981, 1.5284610, -0.5147356, 0.2220964, 0.7432625, -0.5891559, 2.1530528, 0.1522253</td></tr>\n",
       "\t<tr><td> 1                                                                                                        </td><td> 10                                                                                                       </td><td>-5.584778, 11.273510, -17.287649, 21.166979, -2.185932, 9.321539, 8.573130, 8.782625, 13.367115, 14.604982</td></tr>\n",
       "\t<tr><td> 1                                                                                                                </td><td>100                                                                                                               </td><td>121.211715, 71.293742, 35.728676, -86.356419, 127.590632, 60.205311, 106.472898, -9.274463, -57.897382, -67.233160</td></tr>\n",
       "</tbody>\n",
       "</table>\n"
      ],
      "text/latex": [
       "\\begin{tabular}{r|lll}\n",
       " mean & sd & sample\\\\\n",
       "\\hline\n",
       "\t -1                                                                                                                              &   1                                                                                                                             & -0.22471285, -0.30996150, -0.06898567, -1.46914925, -0.61824616, -0.27017763, -0.43321641, -0.58437822, -0.76692078, 0.13604184\\\\\n",
       "\t -1                                                                                                                 &  10                                                                                                                & 0.7530198, -1.0602098, 2.4141938, -17.8469462, 5.6150016, 7.0875617, -17.5819421, 11.6992405, 6.1962554, 6.4414500\\\\\n",
       "\t -1                                                                                                                     & 100                                                                                                                    & -5.619504, -50.891112, 17.299161, 169.273241, -63.690020, -151.137164, -44.118924, -199.529634, -95.491138, -53.365946\\\\\n",
       "\t  0                                                                                                                                   &   1                                                                                                                                  & 0.083067730, 0.179244292, 0.182316255, 1.326328958, -0.425857270, 0.003974857, -0.641008557, -1.433796526, 0.817382289, -0.080969036\\\\\n",
       "\t  0                                                                                                             &  10                                                                                                            & 6.8041879, 0.8434895, -1.6479602, 2.5171706, 0.4781909, 3.3695991, 8.5346329, -4.7405180, 4.9195873, 4.3896954\\\\\n",
       "\t  0                                                                                                                    & 100                                                                                                                   & -87.787070, 12.645020, -110.218653, -44.056024, -57.157618, -225.539459, -19.679948, 121.568075, -1.983079, -2.839947\\\\\n",
       "\t  1                                                                                                             &   1                                                                                                            & 1.6752758, 1.9775224, 0.8780981, 1.5284610, -0.5147356, 0.2220964, 0.7432625, -0.5891559, 2.1530528, 0.1522253\\\\\n",
       "\t  1                                                                                                         &  10                                                                                                        & -5.584778, 11.273510, -17.287649, 21.166979, -2.185932, 9.321539, 8.573130, 8.782625, 13.367115, 14.604982\\\\\n",
       "\t  1                                                                                                                 & 100                                                                                                                & 121.211715, 71.293742, 35.728676, -86.356419, 127.590632, 60.205311, 106.472898, -9.274463, -57.897382, -67.233160\\\\\n",
       "\\end{tabular}\n"
      ],
      "text/markdown": [
       "\n",
       "| mean | sd | sample |\n",
       "|---|---|---|\n",
       "| -1                                                                                                                              |   1                                                                                                                             | -0.22471285, -0.30996150, -0.06898567, -1.46914925, -0.61824616, -0.27017763, -0.43321641, -0.58437822, -0.76692078, 0.13604184 |\n",
       "| -1                                                                                                                 |  10                                                                                                                | 0.7530198, -1.0602098, 2.4141938, -17.8469462, 5.6150016, 7.0875617, -17.5819421, 11.6992405, 6.1962554, 6.4414500 |\n",
       "| -1                                                                                                                     | 100                                                                                                                    | -5.619504, -50.891112, 17.299161, 169.273241, -63.690020, -151.137164, -44.118924, -199.529634, -95.491138, -53.365946 |\n",
       "|  0                                                                                                                                   |   1                                                                                                                                  | 0.083067730, 0.179244292, 0.182316255, 1.326328958, -0.425857270, 0.003974857, -0.641008557, -1.433796526, 0.817382289, -0.080969036 |\n",
       "|  0                                                                                                             |  10                                                                                                            | 6.8041879, 0.8434895, -1.6479602, 2.5171706, 0.4781909, 3.3695991, 8.5346329, -4.7405180, 4.9195873, 4.3896954 |\n",
       "|  0                                                                                                                    | 100                                                                                                                   | -87.787070, 12.645020, -110.218653, -44.056024, -57.157618, -225.539459, -19.679948, 121.568075, -1.983079, -2.839947 |\n",
       "|  1                                                                                                             |   1                                                                                                            | 1.6752758, 1.9775224, 0.8780981, 1.5284610, -0.5147356, 0.2220964, 0.7432625, -0.5891559, 2.1530528, 0.1522253 |\n",
       "|  1                                                                                                         |  10                                                                                                        | -5.584778, 11.273510, -17.287649, 21.166979, -2.185932, 9.321539, 8.573130, 8.782625, 13.367115, 14.604982 |\n",
       "|  1                                                                                                                 | 100                                                                                                                | 121.211715, 71.293742, 35.728676, -86.356419, 127.590632, 60.205311, 106.472898, -9.274463, -57.897382, -67.233160 |\n",
       "\n"
      ],
      "text/plain": [
       "  mean sd \n",
       "1 -1     1\n",
       "2 -1    10\n",
       "3 -1   100\n",
       "4  0     1\n",
       "5  0    10\n",
       "6  0   100\n",
       "7  1     1\n",
       "8  1    10\n",
       "9  1   100\n",
       "  sample                                                                                                                              \n",
       "1 -0.22471285, -0.30996150, -0.06898567, -1.46914925, -0.61824616, -0.27017763, -0.43321641, -0.58437822, -0.76692078, 0.13604184     \n",
       "2 0.7530198, -1.0602098, 2.4141938, -17.8469462, 5.6150016, 7.0875617, -17.5819421, 11.6992405, 6.1962554, 6.4414500                  \n",
       "3 -5.619504, -50.891112, 17.299161, 169.273241, -63.690020, -151.137164, -44.118924, -199.529634, -95.491138, -53.365946              \n",
       "4 0.083067730, 0.179244292, 0.182316255, 1.326328958, -0.425857270, 0.003974857, -0.641008557, -1.433796526, 0.817382289, -0.080969036\n",
       "5 6.8041879, 0.8434895, -1.6479602, 2.5171706, 0.4781909, 3.3695991, 8.5346329, -4.7405180, 4.9195873, 4.3896954                      \n",
       "6 -87.787070, 12.645020, -110.218653, -44.056024, -57.157618, -225.539459, -19.679948, 121.568075, -1.983079, -2.839947               \n",
       "7 1.6752758, 1.9775224, 0.8780981, 1.5284610, -0.5147356, 0.2220964, 0.7432625, -0.5891559, 2.1530528, 0.1522253                      \n",
       "8 -5.584778, 11.273510, -17.287649, 21.166979, -2.185932, 9.321539, 8.573130, 8.782625, 13.367115, 14.604982                          \n",
       "9 121.211715, 71.293742, 35.728676, -86.356419, 127.590632, 60.205311, 106.472898, -9.274463, -57.897382, -67.233160                  "
      ]
     },
     "metadata": {},
     "output_type": "display_data"
    }
   ],
   "source": [
    "df %>% rowwise() %>% mutate(sample = list(rnorm(10, mean, sd)))"
   ]
  },
  {
   "cell_type": "markdown",
   "metadata": {},
   "source": [
    "### Varying functions"
   ]
  },
  {
   "cell_type": "code",
   "execution_count": null,
   "metadata": {},
   "outputs": [],
   "source": []
  }
 ],
 "metadata": {
  "kernelspec": {
   "display_name": "R",
   "language": "R",
   "name": "ir"
  },
  "language_info": {
   "codemirror_mode": "r",
   "file_extension": ".r",
   "mimetype": "text/x-r-source",
   "name": "R",
   "pygments_lexer": "r",
   "version": "3.6.1"
  }
 },
 "nbformat": 4,
 "nbformat_minor": 2
}
