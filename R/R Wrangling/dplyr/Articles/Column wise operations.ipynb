{
 "cells": [
  {
   "cell_type": "code",
   "execution_count": 2,
   "metadata": {},
   "outputs": [],
   "source": [
    "library(tidyverse)"
   ]
  },
  {
   "cell_type": "markdown",
   "metadata": {},
   "source": [
    "# [Column wise operations](https://dplyr.tidyverse.org/articles/colwise.html)"
   ]
  },
  {
   "cell_type": "markdown",
   "metadata": {},
   "source": [
    "It’s often useful to perform the same operation on multiple columns, but copying and pasting is both tedious and error prone:"
   ]
  },
  {
   "cell_type": "code",
   "execution_count": 3,
   "metadata": {},
   "outputs": [
    {
     "data": {
      "text/html": [
       "<table>\n",
       "<thead><tr><th scope=col>mean_sepal_length</th><th scope=col>mean_sepal_width</th><th scope=col>mean_petal_length</th><th scope=col>mean_petal_width</th></tr></thead>\n",
       "<tbody>\n",
       "\t<tr><td>5.843333</td><td>3.057333</td><td>3.758   </td><td>1.199333</td></tr>\n",
       "</tbody>\n",
       "</table>\n"
      ],
      "text/latex": [
       "\\begin{tabular}{r|llll}\n",
       " mean\\_sepal\\_length & mean\\_sepal\\_width & mean\\_petal\\_length & mean\\_petal\\_width\\\\\n",
       "\\hline\n",
       "\t 5.843333 & 3.057333 & 3.758    & 1.199333\\\\\n",
       "\\end{tabular}\n"
      ],
      "text/markdown": [
       "\n",
       "| mean_sepal_length | mean_sepal_width | mean_petal_length | mean_petal_width |\n",
       "|---|---|---|---|\n",
       "| 5.843333 | 3.057333 | 3.758    | 1.199333 |\n",
       "\n"
      ],
      "text/plain": [
       "  mean_sepal_length mean_sepal_width mean_petal_length mean_petal_width\n",
       "1 5.843333          3.057333         3.758             1.199333        "
      ]
     },
     "metadata": {},
     "output_type": "display_data"
    }
   ],
   "source": [
    "iris %>% summarize(\n",
    "    mean_sepal_length = mean(Sepal.Length),\n",
    "    mean_sepal_width = mean(Sepal.Width),\n",
    "    mean_petal_length = mean(Petal.Length),\n",
    "    mean_petal_width = mean(Petal.Width)\n",
    ")"
   ]
  },
  {
   "cell_type": "markdown",
   "metadata": {},
   "source": [
    "Using **`dplyr::across`**"
   ]
  },
  {
   "cell_type": "code",
   "execution_count": 11,
   "metadata": {},
   "outputs": [
    {
     "data": {
      "text/html": [
       "<table>\n",
       "<thead><tr><th scope=col>mean_Sepal.Length</th><th scope=col>mean_Sepal.Width</th><th scope=col>mean_Petal.Length</th><th scope=col>mean_Petal.Width</th></tr></thead>\n",
       "<tbody>\n",
       "\t<tr><td>5.843333</td><td>3.057333</td><td>3.758   </td><td>1.199333</td></tr>\n",
       "</tbody>\n",
       "</table>\n"
      ],
      "text/latex": [
       "\\begin{tabular}{r|llll}\n",
       " mean\\_Sepal.Length & mean\\_Sepal.Width & mean\\_Petal.Length & mean\\_Petal.Width\\\\\n",
       "\\hline\n",
       "\t 5.843333 & 3.057333 & 3.758    & 1.199333\\\\\n",
       "\\end{tabular}\n"
      ],
      "text/markdown": [
       "\n",
       "| mean_Sepal.Length | mean_Sepal.Width | mean_Petal.Length | mean_Petal.Width |\n",
       "|---|---|---|---|\n",
       "| 5.843333 | 3.057333 | 3.758    | 1.199333 |\n",
       "\n"
      ],
      "text/plain": [
       "  mean_Sepal.Length mean_Sepal.Width mean_Petal.Length mean_Petal.Width\n",
       "1 5.843333          3.057333         3.758             1.199333        "
      ]
     },
     "metadata": {},
     "output_type": "display_data"
    }
   ],
   "source": [
    "iris %>% summarize(across(!Species, mean, .names = 'mean_{.col}'))"
   ]
  },
  {
   "cell_type": "markdown",
   "metadata": {},
   "source": [
    "# Basic Usage"
   ]
  },
  {
   "cell_type": "markdown",
   "metadata": {},
   "source": [
    "**`across()`** has two primary arguments:\n",
    "\n",
    "- The first argument, `.cols`, selects the columns you want to operate on. It uses tidy selection (like `select()`) so you can pick variables by position, name, and type.\n",
    "\n",
    "- The second argument, `.fns`, is a function or list of functions to apply to each column. This can also be a purrr style formula (or list of formulas) like `~ .x / 2`. (This argument is optional, and you can omit it if you just want to get the underlying data;"
   ]
  },
  {
   "cell_type": "code",
   "execution_count": 13,
   "metadata": {},
   "outputs": [
    {
     "data": {
      "text/html": [
       "<table>\n",
       "<thead><tr><th scope=col>name</th><th scope=col>hair_color</th><th scope=col>skin_color</th><th scope=col>eye_color</th><th scope=col>sex</th><th scope=col>gender</th><th scope=col>homeworld</th><th scope=col>species</th></tr></thead>\n",
       "<tbody>\n",
       "\t<tr><td>87</td><td>13</td><td>31</td><td>15</td><td>5 </td><td>3 </td><td>49</td><td>38</td></tr>\n",
       "</tbody>\n",
       "</table>\n"
      ],
      "text/latex": [
       "\\begin{tabular}{r|llllllll}\n",
       " name & hair\\_color & skin\\_color & eye\\_color & sex & gender & homeworld & species\\\\\n",
       "\\hline\n",
       "\t 87 & 13 & 31 & 15 & 5  & 3  & 49 & 38\\\\\n",
       "\\end{tabular}\n"
      ],
      "text/markdown": [
       "\n",
       "| name | hair_color | skin_color | eye_color | sex | gender | homeworld | species |\n",
       "|---|---|---|---|---|---|---|---|\n",
       "| 87 | 13 | 31 | 15 | 5  | 3  | 49 | 38 |\n",
       "\n"
      ],
      "text/plain": [
       "  name hair_color skin_color eye_color sex gender homeworld species\n",
       "1 87   13         31         15        5   3      49        38     "
      ]
     },
     "metadata": {},
     "output_type": "display_data"
    }
   ],
   "source": [
    "# Caculate the number of unique values for each character column\n",
    "starwars %>% summarize(across(where(is.character), ~ length(unique(.))))"
   ]
  },
  {
   "cell_type": "markdown",
   "metadata": {},
   "source": [
    "### Mutiple functions"
   ]
  },
  {
   "cell_type": "markdown",
   "metadata": {},
   "source": [
    "You can transform each variable with more than one function by supplying a named list of functions or lambda functions in the second argument:"
   ]
  },
  {
   "cell_type": "code",
   "execution_count": 21,
   "metadata": {},
   "outputs": [
    {
     "data": {
      "text/html": [
       "<table>\n",
       "<thead><tr><th scope=col>height_min</th><th scope=col>height_max</th><th scope=col>mass_min</th><th scope=col>mass_max</th><th scope=col>birth_year_min</th><th scope=col>birth_year_max</th></tr></thead>\n",
       "<tbody>\n",
       "\t<tr><td>66  </td><td>264 </td><td>15  </td><td>1358</td><td>8   </td><td>896 </td></tr>\n",
       "</tbody>\n",
       "</table>\n"
      ],
      "text/latex": [
       "\\begin{tabular}{r|llllll}\n",
       " height\\_min & height\\_max & mass\\_min & mass\\_max & birth\\_year\\_min & birth\\_year\\_max\\\\\n",
       "\\hline\n",
       "\t 66   & 264  & 15   & 1358 & 8    & 896 \\\\\n",
       "\\end{tabular}\n"
      ],
      "text/markdown": [
       "\n",
       "| height_min | height_max | mass_min | mass_max | birth_year_min | birth_year_max |\n",
       "|---|---|---|---|---|---|\n",
       "| 66   | 264  | 15   | 1358 | 8    | 896  |\n",
       "\n"
      ],
      "text/plain": [
       "  height_min height_max mass_min mass_max birth_year_min birth_year_max\n",
       "1 66         264        15       1358     8              896           "
      ]
     },
     "metadata": {},
     "output_type": "display_data"
    }
   ],
   "source": [
    "# caculate the min and max of each numeric column\n",
    "\n",
    "min_max = list(\n",
    "    min = partial(min, na.rm = T),   # using purrr:partial\n",
    "    max = ~ max(., na.rm = T)        # using purrr formula\n",
    ")\n",
    "starwars %>% summarize(across(where(is.numeric), min_max))"
   ]
  },
  {
   "cell_type": "markdown",
   "metadata": {},
   "source": [
    "Control how the names are created with the `.names` argument which takes a **`glue`** spec:"
   ]
  },
  {
   "cell_type": "code",
   "execution_count": 23,
   "metadata": {},
   "outputs": [
    {
     "data": {
      "text/html": [
       "<table>\n",
       "<thead><tr><th scope=col>height.min</th><th scope=col>height.max</th><th scope=col>mass.min</th><th scope=col>mass.max</th><th scope=col>birth_year.min</th><th scope=col>birth_year.max</th></tr></thead>\n",
       "<tbody>\n",
       "\t<tr><td>66  </td><td>264 </td><td>15  </td><td>1358</td><td>8   </td><td>896 </td></tr>\n",
       "</tbody>\n",
       "</table>\n"
      ],
      "text/latex": [
       "\\begin{tabular}{r|llllll}\n",
       " height.min & height.max & mass.min & mass.max & birth\\_year.min & birth\\_year.max\\\\\n",
       "\\hline\n",
       "\t 66   & 264  & 15   & 1358 & 8    & 896 \\\\\n",
       "\\end{tabular}\n"
      ],
      "text/markdown": [
       "\n",
       "| height.min | height.max | mass.min | mass.max | birth_year.min | birth_year.max |\n",
       "|---|---|---|---|---|---|\n",
       "| 66   | 264  | 15   | 1358 | 8    | 896  |\n",
       "\n"
      ],
      "text/plain": [
       "  height.min height.max mass.min mass.max birth_year.min birth_year.max\n",
       "1 66         264        15       1358     8              896           "
      ]
     },
     "metadata": {},
     "output_type": "display_data"
    }
   ],
   "source": [
    "starwars %>% summarize(across(where(is.numeric), min_max, .names = '{.col}.{.fn}'))"
   ]
  },
  {
   "cell_type": "markdown",
   "metadata": {},
   "source": [
    "If you’d prefer all summaries with the same function to be grouped together, you’ll have to expand the calls yourself:"
   ]
  },
  {
   "cell_type": "code",
   "execution_count": 25,
   "metadata": {},
   "outputs": [
    {
     "data": {
      "text/html": [
       "<table>\n",
       "<thead><tr><th scope=col>height.min</th><th scope=col>mass.min</th><th scope=col>birth_year.min</th><th scope=col>height.max</th><th scope=col>mass.max</th><th scope=col>birth_year.max</th><th scope=col>height.min.max</th><th scope=col>mass.min.max</th><th scope=col>birth_year.min.max</th></tr></thead>\n",
       "<tbody>\n",
       "\t<tr><td>66  </td><td>15  </td><td>8   </td><td>264 </td><td>1358</td><td>896 </td><td>66  </td><td>15  </td><td>8   </td></tr>\n",
       "</tbody>\n",
       "</table>\n"
      ],
      "text/latex": [
       "\\begin{tabular}{r|lllllllll}\n",
       " height.min & mass.min & birth\\_year.min & height.max & mass.max & birth\\_year.max & height.min.max & mass.min.max & birth\\_year.min.max\\\\\n",
       "\\hline\n",
       "\t 66   & 15   & 8    & 264  & 1358 & 896  & 66   & 15   & 8   \\\\\n",
       "\\end{tabular}\n"
      ],
      "text/markdown": [
       "\n",
       "| height.min | mass.min | birth_year.min | height.max | mass.max | birth_year.max | height.min.max | mass.min.max | birth_year.min.max |\n",
       "|---|---|---|---|---|---|---|---|---|\n",
       "| 66   | 15   | 8    | 264  | 1358 | 896  | 66   | 15   | 8    |\n",
       "\n"
      ],
      "text/plain": [
       "  height.min mass.min birth_year.min height.max mass.max birth_year.max\n",
       "1 66         15       8              264        1358     896           \n",
       "  height.min.max mass.min.max birth_year.min.max\n",
       "1 66             15           8                 "
      ]
     },
     "metadata": {},
     "output_type": "display_data"
    }
   ],
   "source": [
    "starwars %>% summarize(\n",
    "    across(where(is.numeric), ~ min(., na.rm = T), .names = '{.col}.min'),\n",
    "    across(where(is.numeric), ~ max(., na.rm = T), .names = '{.col}.max')\n",
    ")"
   ]
  },
  {
   "cell_type": "markdown",
   "metadata": {},
   "source": [
    "### Current column"
   ]
  },
  {
   "cell_type": "markdown",
   "metadata": {},
   "source": [
    "### Gotchas"
   ]
  },
  {
   "cell_type": "markdown",
   "metadata": {},
   "source": [
    "Be careful when combining numeric summaries with `is.numeric`:"
   ]
  },
  {
   "cell_type": "code",
   "execution_count": 26,
   "metadata": {},
   "outputs": [],
   "source": [
    "df <- data.frame(x = c(1, 2, 3), y = c(1, 4, 9))"
   ]
  },
  {
   "cell_type": "code",
   "execution_count": 28,
   "metadata": {},
   "outputs": [
    {
     "data": {
      "text/html": [
       "<table>\n",
       "<thead><tr><th scope=col>n</th><th scope=col>x</th><th scope=col>y</th></tr></thead>\n",
       "<tbody>\n",
       "\t<tr><td>NA      </td><td>1       </td><td>4.041452</td></tr>\n",
       "</tbody>\n",
       "</table>\n"
      ],
      "text/latex": [
       "\\begin{tabular}{r|lll}\n",
       " n & x & y\\\\\n",
       "\\hline\n",
       "\t NA       & 1        & 4.041452\\\\\n",
       "\\end{tabular}\n"
      ],
      "text/markdown": [
       "\n",
       "| n | x | y |\n",
       "|---|---|---|\n",
       "| NA       | 1        | 4.041452 |\n",
       "\n"
      ],
      "text/plain": [
       "  n  x y       \n",
       "1 NA 1 4.041452"
      ]
     },
     "metadata": {},
     "output_type": "display_data"
    }
   ],
   "source": [
    "df %>% summarize(\n",
    "    n = n(),\n",
    "    across(where(is.numeric), sd)\n",
    ")"
   ]
  },
  {
   "cell_type": "markdown",
   "metadata": {},
   "source": [
    "Here `n` becomes `NA` because `n` is numeric, so the `across()` computes its standard deviation, and the standard deviation of 3 (a constant) is `NA`. You probably want to compute `n()` last to avoid this problem:"
   ]
  },
  {
   "cell_type": "code",
   "execution_count": 29,
   "metadata": {},
   "outputs": [
    {
     "data": {
      "text/html": [
       "<table>\n",
       "<thead><tr><th scope=col>x</th><th scope=col>y</th><th scope=col>n</th></tr></thead>\n",
       "<tbody>\n",
       "\t<tr><td>1       </td><td>4.041452</td><td>3       </td></tr>\n",
       "</tbody>\n",
       "</table>\n"
      ],
      "text/latex": [
       "\\begin{tabular}{r|lll}\n",
       " x & y & n\\\\\n",
       "\\hline\n",
       "\t 1        & 4.041452 & 3       \\\\\n",
       "\\end{tabular}\n"
      ],
      "text/markdown": [
       "\n",
       "| x | y | n |\n",
       "|---|---|---|\n",
       "| 1        | 4.041452 | 3        |\n",
       "\n"
      ],
      "text/plain": [
       "  x y        n\n",
       "1 1 4.041452 3"
      ]
     },
     "metadata": {},
     "output_type": "display_data"
    }
   ],
   "source": [
    "df %>% summarize(\n",
    "    across(where(is.numeric), sd),\n",
    "    n = n()\n",
    ")"
   ]
  },
  {
   "cell_type": "markdown",
   "metadata": {},
   "source": [
    "Alternatively, you could explicitly exclude `n` from the columns to operate on:"
   ]
  },
  {
   "cell_type": "code",
   "execution_count": 30,
   "metadata": {},
   "outputs": [
    {
     "data": {
      "text/html": [
       "<table>\n",
       "<thead><tr><th scope=col>n</th><th scope=col>x</th><th scope=col>y</th></tr></thead>\n",
       "<tbody>\n",
       "\t<tr><td>3       </td><td>1       </td><td>4.041452</td></tr>\n",
       "</tbody>\n",
       "</table>\n"
      ],
      "text/latex": [
       "\\begin{tabular}{r|lll}\n",
       " n & x & y\\\\\n",
       "\\hline\n",
       "\t 3        & 1        & 4.041452\\\\\n",
       "\\end{tabular}\n"
      ],
      "text/markdown": [
       "\n",
       "| n | x | y |\n",
       "|---|---|---|\n",
       "| 3        | 1        | 4.041452 |\n",
       "\n"
      ],
      "text/plain": [
       "  n x y       \n",
       "1 3 1 4.041452"
      ]
     },
     "metadata": {},
     "output_type": "display_data"
    }
   ],
   "source": [
    "df %>% summarize(\n",
    "    n = n(),\n",
    "    across(where(is.numeric) & !n, sd)\n",
    ")"
   ]
  },
  {
   "cell_type": "markdown",
   "metadata": {},
   "source": [
    "### Other verbs"
   ]
  },
  {
   "cell_type": "markdown",
   "metadata": {},
   "source": [
    "So far we’ve focussed on the use of `across()` with `summarise()`, but it works with any other dplyr verb that uses data masking:"
   ]
  },
  {
   "cell_type": "markdown",
   "metadata": {},
   "source": [
    "* Rescale all numeric variables to range 0-1:"
   ]
  },
  {
   "cell_type": "code",
   "execution_count": 36,
   "metadata": {},
   "outputs": [
    {
     "data": {
      "text/html": [
       "<table>\n",
       "<thead><tr><th scope=col>x</th><th scope=col>y</th></tr></thead>\n",
       "<tbody>\n",
       "\t<tr><td>0.0000000</td><td>0.0000000</td></tr>\n",
       "\t<tr><td>0.3333333</td><td>1.0000000</td></tr>\n",
       "\t<tr><td>0.6666667</td><td>0.4016147</td></tr>\n",
       "\t<tr><td>1.0000000</td><td>0.2893630</td></tr>\n",
       "</tbody>\n",
       "</table>\n"
      ],
      "text/latex": [
       "\\begin{tabular}{r|ll}\n",
       " x & y\\\\\n",
       "\\hline\n",
       "\t 0.0000000 & 0.0000000\\\\\n",
       "\t 0.3333333 & 1.0000000\\\\\n",
       "\t 0.6666667 & 0.4016147\\\\\n",
       "\t 1.0000000 & 0.2893630\\\\\n",
       "\\end{tabular}\n"
      ],
      "text/markdown": [
       "\n",
       "| x | y |\n",
       "|---|---|\n",
       "| 0.0000000 | 0.0000000 |\n",
       "| 0.3333333 | 1.0000000 |\n",
       "| 0.6666667 | 0.4016147 |\n",
       "| 1.0000000 | 0.2893630 |\n",
       "\n"
      ],
      "text/plain": [
       "  x         y        \n",
       "1 0.0000000 0.0000000\n",
       "2 0.3333333 1.0000000\n",
       "3 0.6666667 0.4016147\n",
       "4 1.0000000 0.2893630"
      ]
     },
     "metadata": {},
     "output_type": "display_data"
    }
   ],
   "source": [
    "min_max_scaler <- function(x) {\n",
    "    rng = range(x, na.rm = T)\n",
    "    (x - rng[1]) / (rng[2] - rng[1])\n",
    "}\n",
    "\n",
    "df <- tibble(x = 1:4, y = rnorm(4))\n",
    "\n",
    "df %>% mutate(across(everything(), min_max_scaler))"
   ]
  },
  {
   "cell_type": "markdown",
   "metadata": {},
   "source": [
    "* Find all rows where no variable has missing values:"
   ]
  },
  {
   "cell_type": "code",
   "execution_count": 39,
   "metadata": {},
   "outputs": [
    {
     "data": {
      "text/html": [
       "<table>\n",
       "<thead><tr><th scope=col>name</th><th scope=col>height</th><th scope=col>mass</th><th scope=col>hair_color</th><th scope=col>skin_color</th><th scope=col>eye_color</th><th scope=col>birth_year</th><th scope=col>sex</th><th scope=col>gender</th><th scope=col>homeworld</th><th scope=col>species</th><th scope=col>films</th><th scope=col>vehicles</th><th scope=col>starships</th></tr></thead>\n",
       "<tbody>\n",
       "\t<tr><td>Luke Skywalker                                                                                                             </td><td>172                                                                                                                        </td><td> 77.0                                                                                                                      </td><td>blond                                                                                                                      </td><td>fair                                                                                                                       </td><td>blue                                                                                                                       </td><td> 19.0                                                                                                                      </td><td>male                                                                                                                       </td><td>masculine                                                                                                                  </td><td>Tatooine                                                                                                                   </td><td>Human                                                                                                                      </td><td>The Empire Strikes Back, Revenge of the Sith    , Return of the Jedi     , A New Hope             , The Force Awakens      </td><td>Snowspeeder          , Imperial Speeder Bike                                                                               </td><td>X-wing          , Imperial shuttle                                                                                         </td></tr>\n",
       "\t<tr><td>Darth Vader                                                                                       </td><td>202                                                                                               </td><td>136.0                                                                                             </td><td>none                                                                                              </td><td>white                                                                                             </td><td>yellow                                                                                            </td><td> 41.9                                                                                             </td><td>male                                                                                              </td><td>masculine                                                                                         </td><td>Tatooine                                                                                          </td><td>Human                                                                                             </td><td>The Empire Strikes Back, Revenge of the Sith    , Return of the Jedi     , A New Hope             </td><td>                                                                                                  </td><td>TIE Advanced x1                                                                                   </td></tr>\n",
       "\t<tr><td>Leia Organa                                                                                                                </td><td>150                                                                                                                        </td><td> 49.0                                                                                                                      </td><td>brown                                                                                                                      </td><td>light                                                                                                                      </td><td>brown                                                                                                                      </td><td> 19.0                                                                                                                      </td><td>female                                                                                                                     </td><td>feminine                                                                                                                   </td><td>Alderaan                                                                                                                   </td><td>Human                                                                                                                      </td><td>The Empire Strikes Back, Revenge of the Sith    , Return of the Jedi     , A New Hope             , The Force Awakens      </td><td>Imperial Speeder Bike                                                                                                      </td><td>                                                                                                                           </td></tr>\n",
       "\t<tr><td>Owen Lars                                                       </td><td>178                                                             </td><td>120.0                                                           </td><td>brown, grey                                                     </td><td>light                                                           </td><td>blue                                                            </td><td> 52.0                                                           </td><td>male                                                            </td><td>masculine                                                       </td><td>Tatooine                                                        </td><td>Human                                                           </td><td>Attack of the Clones, Revenge of the Sith , A New Hope          </td><td>                                                                </td><td>                                                                </td></tr>\n",
       "\t<tr><td>Beru Whitesun lars                                              </td><td>165                                                             </td><td> 75.0                                                           </td><td>brown                                                           </td><td>light                                                           </td><td>blue                                                            </td><td> 47.0                                                           </td><td>female                                                          </td><td>feminine                                                        </td><td>Tatooine                                                        </td><td>Human                                                           </td><td>Attack of the Clones, Revenge of the Sith , A New Hope          </td><td>                                                                </td><td>                                                                </td></tr>\n",
       "\t<tr><td>Biggs Darklighter    </td><td>183                  </td><td> 84.0                </td><td>black                </td><td>light                </td><td>brown                </td><td> 24.0                </td><td>male                 </td><td>masculine            </td><td>Tatooine             </td><td>Human                </td><td>A New Hope           </td><td>                     </td><td>X-wing               </td></tr>\n",
       "\t<tr><td>Obi-Wan Kenobi                                                                                                                                      </td><td>182                                                                                                                                                 </td><td> 77.0                                                                                                                                               </td><td>auburn, white                                                                                                                                       </td><td>fair                                                                                                                                                </td><td>blue-gray                                                                                                                                           </td><td> 57.0                                                                                                                                               </td><td>male                                                                                                                                                </td><td>masculine                                                                                                                                           </td><td>Stewjon                                                                                                                                             </td><td>Human                                                                                                                                               </td><td>The Empire Strikes Back, Attack of the Clones   , The Phantom Menace     , Revenge of the Sith    , Return of the Jedi     , A New Hope             </td><td>Tribubble bongo                                                                                                                                     </td><td>Jedi starfighter        , Trade Federation cruiser, Naboo star skiff        , Jedi Interceptor        , Belbullab-22 starfighter                    </td></tr>\n",
       "\t<tr><td>Anakin Skywalker                                                            </td><td>188                                                                         </td><td> 84.0                                                                       </td><td>blond                                                                       </td><td>fair                                                                        </td><td>blue                                                                        </td><td> 41.9                                                                       </td><td>male                                                                        </td><td>masculine                                                                   </td><td>Tatooine                                                                    </td><td>Human                                                                       </td><td>Attack of the Clones, The Phantom Menace  , Revenge of the Sith             </td><td>Zephyr-G swoop bike, XJ-6 airspeeder                                        </td><td>Trade Federation cruiser, Jedi Interceptor        , Naboo fighter           </td></tr>\n",
       "\t<tr><td>Chewbacca                                                                                                                  </td><td>228                                                                                                                        </td><td>112.0                                                                                                                      </td><td>brown                                                                                                                      </td><td>unknown                                                                                                                    </td><td>blue                                                                                                                       </td><td>200.0                                                                                                                      </td><td>male                                                                                                                       </td><td>masculine                                                                                                                  </td><td>Kashyyyk                                                                                                                   </td><td>Wookiee                                                                                                                    </td><td>The Empire Strikes Back, Revenge of the Sith    , Return of the Jedi     , A New Hope             , The Force Awakens      </td><td>AT-ST                                                                                                                      </td><td>Millennium Falcon, Imperial shuttle                                                                                        </td></tr>\n",
       "\t<tr><td>Han Solo                                                                                          </td><td>180                                                                                               </td><td> 80.0                                                                                             </td><td>brown                                                                                             </td><td>fair                                                                                              </td><td>brown                                                                                             </td><td> 29.0                                                                                             </td><td>male                                                                                              </td><td>masculine                                                                                         </td><td>Corellia                                                                                          </td><td>Human                                                                                             </td><td>The Empire Strikes Back, Return of the Jedi     , A New Hope             , The Force Awakens      </td><td>                                                                                                  </td><td>Millennium Falcon, Imperial shuttle                                                               </td></tr>\n",
       "\t<tr><td>Wedge Antilles                                                           </td><td>170                                                                      </td><td> 77.0                                                                    </td><td>brown                                                                    </td><td>fair                                                                     </td><td>hazel                                                                    </td><td> 21.0                                                                    </td><td>male                                                                     </td><td>masculine                                                                </td><td>Corellia                                                                 </td><td>Human                                                                    </td><td>The Empire Strikes Back, Return of the Jedi     , A New Hope             </td><td>Snowspeeder                                                              </td><td>X-wing                                                                   </td></tr>\n",
       "\t<tr><td>Palpatine                                                                                                                  </td><td>170                                                                                                                        </td><td> 75.0                                                                                                                      </td><td>grey                                                                                                                       </td><td>pale                                                                                                                       </td><td>yellow                                                                                                                     </td><td> 82.0                                                                                                                      </td><td>male                                                                                                                       </td><td>masculine                                                                                                                  </td><td>Naboo                                                                                                                      </td><td>Human                                                                                                                      </td><td>The Empire Strikes Back, Attack of the Clones   , The Phantom Menace     , Revenge of the Sith    , Return of the Jedi     </td><td>                                                                                                                           </td><td>                                                                                                                           </td></tr>\n",
       "\t<tr><td>Boba Fett                                                                </td><td>183                                                                      </td><td> 78.2                                                                    </td><td>black                                                                    </td><td>fair                                                                     </td><td>brown                                                                    </td><td> 31.5                                                                    </td><td>male                                                                     </td><td>masculine                                                                </td><td>Kamino                                                                   </td><td>Human                                                                    </td><td>The Empire Strikes Back, Attack of the Clones   , Return of the Jedi     </td><td>                                                                         </td><td>Slave 1                                                                  </td></tr>\n",
       "\t<tr><td>Bossk                  </td><td>190                    </td><td>113.0                  </td><td>none                   </td><td>green                  </td><td>red                    </td><td> 53.0                  </td><td>male                   </td><td>masculine              </td><td>Trandosha              </td><td>Trandoshan             </td><td>The Empire Strikes Back</td><td>                       </td><td>                       </td></tr>\n",
       "\t<tr><td>Lando Calrissian                                </td><td>177                                             </td><td> 79.0                                           </td><td>black                                           </td><td>dark                                            </td><td>brown                                           </td><td> 31.0                                           </td><td>male                                            </td><td>masculine                                       </td><td>Socorro                                         </td><td>Human                                           </td><td>The Empire Strikes Back, Return of the Jedi     </td><td>                                                </td><td>Millennium Falcon                               </td></tr>\n",
       "\t<tr><td>Lobot                  </td><td>175                    </td><td> 79.0                  </td><td>none                   </td><td>light                  </td><td>blue                   </td><td> 37.0                  </td><td>male                   </td><td>masculine              </td><td>Bespin                 </td><td>Human                  </td><td>The Empire Strikes Back</td><td>                       </td><td>                       </td></tr>\n",
       "\t<tr><td>Ackbar                                </td><td>180                                   </td><td> 83.0                                 </td><td>none                                  </td><td>brown mottle                          </td><td>orange                                </td><td> 41.0                                 </td><td>male                                  </td><td>masculine                             </td><td>Mon Cala                              </td><td>Mon Calamari                          </td><td>Return of the Jedi, The Force Awakens </td><td>                                      </td><td>                                      </td></tr>\n",
       "\t<tr><td>Wicket Systri Warrick</td><td> 88                  </td><td> 20.0                </td><td>brown                </td><td>brown                </td><td>brown                </td><td>  8.0                </td><td>male                 </td><td>masculine            </td><td>Endor                </td><td>Ewok                 </td><td>Return of the Jedi   </td><td>                     </td><td>                     </td></tr>\n",
       "\t<tr><td>Jar Jar Binks                             </td><td>196                                       </td><td> 66.0                                     </td><td>none                                      </td><td>orange                                    </td><td>orange                                    </td><td> 52.0                                     </td><td>male                                      </td><td>masculine                                 </td><td>Naboo                                     </td><td>Gungan                                    </td><td>Attack of the Clones, The Phantom Menace  </td><td>                                          </td><td>                                          </td></tr>\n",
       "\t<tr><td>Darth Maul           </td><td>175                  </td><td> 80.0                </td><td>none                 </td><td>red                  </td><td>yellow               </td><td> 54.0                </td><td>male                 </td><td>masculine            </td><td>Dathomir             </td><td>Zabrak               </td><td>The Phantom Menace   </td><td>Sith speeder         </td><td>Scimitar             </td></tr>\n",
       "\t<tr><td>Ayla Secura                                                     </td><td>178                                                             </td><td> 55.0                                                           </td><td>none                                                            </td><td>blue                                                            </td><td>hazel                                                           </td><td> 48.0                                                           </td><td>female                                                          </td><td>feminine                                                        </td><td>Ryloth                                                          </td><td>Twi'lek                                                         </td><td>Attack of the Clones, The Phantom Menace  , Revenge of the Sith </td><td>                                                                </td><td>                                                                </td></tr>\n",
       "\t<tr><td>Mace Windu                                                      </td><td>188                                                             </td><td> 84.0                                                           </td><td>none                                                            </td><td>dark                                                            </td><td>brown                                                           </td><td> 72.0                                                           </td><td>male                                                            </td><td>masculine                                                       </td><td>Haruun Kal                                                      </td><td>Human                                                           </td><td>Attack of the Clones, The Phantom Menace  , Revenge of the Sith </td><td>                                                                </td><td>                                                                </td></tr>\n",
       "\t<tr><td>Ki-Adi-Mundi                                                    </td><td>198                                                             </td><td> 82.0                                                           </td><td>white                                                           </td><td>pale                                                            </td><td>yellow                                                          </td><td> 92.0                                                           </td><td>male                                                            </td><td>masculine                                                       </td><td>Cerea                                                           </td><td>Cerean                                                          </td><td>Attack of the Clones, The Phantom Menace  , Revenge of the Sith </td><td>                                                                </td><td>                                                                </td></tr>\n",
       "\t<tr><td>Plo Koon                                                        </td><td>188                                                             </td><td> 80.0                                                           </td><td>none                                                            </td><td>orange                                                          </td><td>black                                                           </td><td> 22.0                                                           </td><td>male                                                            </td><td>masculine                                                       </td><td>Dorin                                                           </td><td>Kel Dor                                                         </td><td>Attack of the Clones, The Phantom Menace  , Revenge of the Sith </td><td>                                                                </td><td>Jedi starfighter                                                </td></tr>\n",
       "\t<tr><td>Luminara Unduli                           </td><td>170                                       </td><td> 56.2                                     </td><td>black                                     </td><td>yellow                                    </td><td>blue                                      </td><td> 58.0                                     </td><td>female                                    </td><td>feminine                                  </td><td>Mirial                                    </td><td>Mirialan                                  </td><td>Attack of the Clones, Revenge of the Sith </td><td>                                          </td><td>                                          </td></tr>\n",
       "\t<tr><td>Barriss Offee        </td><td>166                  </td><td> 50.0                </td><td>black                </td><td>yellow               </td><td>blue                 </td><td> 40.0                </td><td>female               </td><td>feminine             </td><td>Mirial               </td><td>Mirialan             </td><td>Attack of the Clones </td><td>                     </td><td>                     </td></tr>\n",
       "\t<tr><td>Dooku                                     </td><td>193                                       </td><td> 80.0                                     </td><td>white                                     </td><td>fair                                      </td><td>brown                                     </td><td>102.0                                     </td><td>male                                      </td><td>masculine                                 </td><td>Serenno                                   </td><td>Human                                     </td><td>Attack of the Clones, Revenge of the Sith </td><td>Flitknot speeder                          </td><td>                                          </td></tr>\n",
       "\t<tr><td>Jango Fett           </td><td>183                  </td><td> 79.0                </td><td>black                </td><td>tan                  </td><td>brown                </td><td> 66.0                </td><td>male                 </td><td>masculine            </td><td>Concord Dawn         </td><td>Human                </td><td>Attack of the Clones </td><td>                     </td><td>                     </td></tr>\n",
       "\t<tr><td>Padmé Amidala                                                   </td><td>165                                                             </td><td> 45.0                                                           </td><td>brown                                                           </td><td>light                                                           </td><td>brown                                                           </td><td> 46.0                                                           </td><td>female                                                          </td><td>feminine                                                        </td><td>Naboo                                                           </td><td>Human                                                           </td><td>Attack of the Clones, The Phantom Menace  , Revenge of the Sith </td><td>                                                                </td><td>H-type Nubian yacht, Naboo star skiff   , Naboo fighter         </td></tr>\n",
       "</tbody>\n",
       "</table>\n"
      ],
      "text/latex": [
       "\\begin{tabular}{r|llllllllllllll}\n",
       " name & height & mass & hair\\_color & skin\\_color & eye\\_color & birth\\_year & sex & gender & homeworld & species & films & vehicles & starships\\\\\n",
       "\\hline\n",
       "\t Luke Skywalker                                                                                                              & 172                                                                                                                         &  77.0                                                                                                                       & blond                                                                                                                       & fair                                                                                                                        & blue                                                                                                                        &  19.0                                                                                                                       & male                                                                                                                        & masculine                                                                                                                   & Tatooine                                                                                                                    & Human                                                                                                                       & The Empire Strikes Back, Revenge of the Sith    , Return of the Jedi     , A New Hope             , The Force Awakens       & Snowspeeder          , Imperial Speeder Bike                                                                                & X-wing          , Imperial shuttle                                                                                         \\\\\n",
       "\t Darth Vader                                                                                        & 202                                                                                                & 136.0                                                                                              & none                                                                                               & white                                                                                              & yellow                                                                                             &  41.9                                                                                              & male                                                                                               & masculine                                                                                          & Tatooine                                                                                           & Human                                                                                              & The Empire Strikes Back, Revenge of the Sith    , Return of the Jedi     , A New Hope              &                                                                                                    & TIE Advanced x1                                                                                   \\\\\n",
       "\t Leia Organa                                                                                                                 & 150                                                                                                                         &  49.0                                                                                                                       & brown                                                                                                                       & light                                                                                                                       & brown                                                                                                                       &  19.0                                                                                                                       & female                                                                                                                      & feminine                                                                                                                    & Alderaan                                                                                                                    & Human                                                                                                                       & The Empire Strikes Back, Revenge of the Sith    , Return of the Jedi     , A New Hope             , The Force Awakens       & Imperial Speeder Bike                                                                                                       &                                                                                                                            \\\\\n",
       "\t Owen Lars                                                        & 178                                                              & 120.0                                                            & brown, grey                                                      & light                                                            & blue                                                             &  52.0                                                            & male                                                             & masculine                                                        & Tatooine                                                         & Human                                                            & Attack of the Clones, Revenge of the Sith , A New Hope           &                                                                  &                                                                 \\\\\n",
       "\t Beru Whitesun lars                                               & 165                                                              &  75.0                                                            & brown                                                            & light                                                            & blue                                                             &  47.0                                                            & female                                                           & feminine                                                         & Tatooine                                                         & Human                                                            & Attack of the Clones, Revenge of the Sith , A New Hope           &                                                                  &                                                                 \\\\\n",
       "\t Biggs Darklighter     & 183                   &  84.0                 & black                 & light                 & brown                 &  24.0                 & male                  & masculine             & Tatooine              & Human                 & A New Hope            &                       & X-wing               \\\\\n",
       "\t Obi-Wan Kenobi                                                                                                                                       & 182                                                                                                                                                  &  77.0                                                                                                                                                & auburn, white                                                                                                                                        & fair                                                                                                                                                 & blue-gray                                                                                                                                            &  57.0                                                                                                                                                & male                                                                                                                                                 & masculine                                                                                                                                            & Stewjon                                                                                                                                              & Human                                                                                                                                                & The Empire Strikes Back, Attack of the Clones   , The Phantom Menace     , Revenge of the Sith    , Return of the Jedi     , A New Hope              & Tribubble bongo                                                                                                                                      & Jedi starfighter        , Trade Federation cruiser, Naboo star skiff        , Jedi Interceptor        , Belbullab-22 starfighter                    \\\\\n",
       "\t Anakin Skywalker                                                             & 188                                                                          &  84.0                                                                        & blond                                                                        & fair                                                                         & blue                                                                         &  41.9                                                                        & male                                                                         & masculine                                                                    & Tatooine                                                                     & Human                                                                        & Attack of the Clones, The Phantom Menace  , Revenge of the Sith              & Zephyr-G swoop bike, XJ-6 airspeeder                                         & Trade Federation cruiser, Jedi Interceptor        , Naboo fighter           \\\\\n",
       "\t Chewbacca                                                                                                                   & 228                                                                                                                         & 112.0                                                                                                                       & brown                                                                                                                       & unknown                                                                                                                     & blue                                                                                                                        & 200.0                                                                                                                       & male                                                                                                                        & masculine                                                                                                                   & Kashyyyk                                                                                                                    & Wookiee                                                                                                                     & The Empire Strikes Back, Revenge of the Sith    , Return of the Jedi     , A New Hope             , The Force Awakens       & AT-ST                                                                                                                       & Millennium Falcon, Imperial shuttle                                                                                        \\\\\n",
       "\t Han Solo                                                                                           & 180                                                                                                &  80.0                                                                                              & brown                                                                                              & fair                                                                                               & brown                                                                                              &  29.0                                                                                              & male                                                                                               & masculine                                                                                          & Corellia                                                                                           & Human                                                                                              & The Empire Strikes Back, Return of the Jedi     , A New Hope             , The Force Awakens       &                                                                                                    & Millennium Falcon, Imperial shuttle                                                               \\\\\n",
       "\t Wedge Antilles                                                            & 170                                                                       &  77.0                                                                     & brown                                                                     & fair                                                                      & hazel                                                                     &  21.0                                                                     & male                                                                      & masculine                                                                 & Corellia                                                                  & Human                                                                     & The Empire Strikes Back, Return of the Jedi     , A New Hope              & Snowspeeder                                                               & X-wing                                                                   \\\\\n",
       "\t Palpatine                                                                                                                   & 170                                                                                                                         &  75.0                                                                                                                       & grey                                                                                                                        & pale                                                                                                                        & yellow                                                                                                                      &  82.0                                                                                                                       & male                                                                                                                        & masculine                                                                                                                   & Naboo                                                                                                                       & Human                                                                                                                       & The Empire Strikes Back, Attack of the Clones   , The Phantom Menace     , Revenge of the Sith    , Return of the Jedi      &                                                                                                                             &                                                                                                                            \\\\\n",
       "\t Boba Fett                                                                 & 183                                                                       &  78.2                                                                     & black                                                                     & fair                                                                      & brown                                                                     &  31.5                                                                     & male                                                                      & masculine                                                                 & Kamino                                                                    & Human                                                                     & The Empire Strikes Back, Attack of the Clones   , Return of the Jedi      &                                                                           & Slave 1                                                                  \\\\\n",
       "\t Bossk                   & 190                     & 113.0                   & none                    & green                   & red                     &  53.0                   & male                    & masculine               & Trandosha               & Trandoshan              & The Empire Strikes Back &                         &                        \\\\\n",
       "\t Lando Calrissian                                 & 177                                              &  79.0                                            & black                                            & dark                                             & brown                                            &  31.0                                            & male                                             & masculine                                        & Socorro                                          & Human                                            & The Empire Strikes Back, Return of the Jedi      &                                                  & Millennium Falcon                               \\\\\n",
       "\t Lobot                   & 175                     &  79.0                   & none                    & light                   & blue                    &  37.0                   & male                    & masculine               & Bespin                  & Human                   & The Empire Strikes Back &                         &                        \\\\\n",
       "\t Ackbar                                 & 180                                    &  83.0                                  & none                                   & brown mottle                           & orange                                 &  41.0                                  & male                                   & masculine                              & Mon Cala                               & Mon Calamari                           & Return of the Jedi, The Force Awakens  &                                        &                                       \\\\\n",
       "\t Wicket Systri Warrick &  88                   &  20.0                 & brown                 & brown                 & brown                 &   8.0                 & male                  & masculine             & Endor                 & Ewok                  & Return of the Jedi    &                       &                      \\\\\n",
       "\t Jar Jar Binks                              & 196                                        &  66.0                                      & none                                       & orange                                     & orange                                     &  52.0                                      & male                                       & masculine                                  & Naboo                                      & Gungan                                     & Attack of the Clones, The Phantom Menace   &                                            &                                           \\\\\n",
       "\t Darth Maul            & 175                   &  80.0                 & none                  & red                   & yellow                &  54.0                 & male                  & masculine             & Dathomir              & Zabrak                & The Phantom Menace    & Sith speeder          & Scimitar             \\\\\n",
       "\t Ayla Secura                                                      & 178                                                              &  55.0                                                            & none                                                             & blue                                                             & hazel                                                            &  48.0                                                            & female                                                           & feminine                                                         & Ryloth                                                           & Twi'lek                                                          & Attack of the Clones, The Phantom Menace  , Revenge of the Sith  &                                                                  &                                                                 \\\\\n",
       "\t Mace Windu                                                       & 188                                                              &  84.0                                                            & none                                                             & dark                                                             & brown                                                            &  72.0                                                            & male                                                             & masculine                                                        & Haruun Kal                                                       & Human                                                            & Attack of the Clones, The Phantom Menace  , Revenge of the Sith  &                                                                  &                                                                 \\\\\n",
       "\t Ki-Adi-Mundi                                                     & 198                                                              &  82.0                                                            & white                                                            & pale                                                             & yellow                                                           &  92.0                                                            & male                                                             & masculine                                                        & Cerea                                                            & Cerean                                                           & Attack of the Clones, The Phantom Menace  , Revenge of the Sith  &                                                                  &                                                                 \\\\\n",
       "\t Plo Koon                                                         & 188                                                              &  80.0                                                            & none                                                             & orange                                                           & black                                                            &  22.0                                                            & male                                                             & masculine                                                        & Dorin                                                            & Kel Dor                                                          & Attack of the Clones, The Phantom Menace  , Revenge of the Sith  &                                                                  & Jedi starfighter                                                \\\\\n",
       "\t Luminara Unduli                            & 170                                        &  56.2                                      & black                                      & yellow                                     & blue                                       &  58.0                                      & female                                     & feminine                                   & Mirial                                     & Mirialan                                   & Attack of the Clones, Revenge of the Sith  &                                            &                                           \\\\\n",
       "\t Barriss Offee         & 166                   &  50.0                 & black                 & yellow                & blue                  &  40.0                 & female                & feminine              & Mirial                & Mirialan              & Attack of the Clones  &                       &                      \\\\\n",
       "\t Dooku                                      & 193                                        &  80.0                                      & white                                      & fair                                       & brown                                      & 102.0                                      & male                                       & masculine                                  & Serenno                                    & Human                                      & Attack of the Clones, Revenge of the Sith  & Flitknot speeder                           &                                           \\\\\n",
       "\t Jango Fett            & 183                   &  79.0                 & black                 & tan                   & brown                 &  66.0                 & male                  & masculine             & Concord Dawn          & Human                 & Attack of the Clones  &                       &                      \\\\\n",
       "\t Padmé Amidala                                                    & 165                                                              &  45.0                                                            & brown                                                            & light                                                            & brown                                                            &  46.0                                                            & female                                                           & feminine                                                         & Naboo                                                            & Human                                                            & Attack of the Clones, The Phantom Menace  , Revenge of the Sith  &                                                                  & H-type Nubian yacht, Naboo star skiff   , Naboo fighter         \\\\\n",
       "\\end{tabular}\n"
      ],
      "text/markdown": [
       "\n",
       "| name | height | mass | hair_color | skin_color | eye_color | birth_year | sex | gender | homeworld | species | films | vehicles | starships |\n",
       "|---|---|---|---|---|---|---|---|---|---|---|---|---|---|\n",
       "| Luke Skywalker                                                                                                              | 172                                                                                                                         |  77.0                                                                                                                       | blond                                                                                                                       | fair                                                                                                                        | blue                                                                                                                        |  19.0                                                                                                                       | male                                                                                                                        | masculine                                                                                                                   | Tatooine                                                                                                                    | Human                                                                                                                       | The Empire Strikes Back, Revenge of the Sith    , Return of the Jedi     , A New Hope             , The Force Awakens       | Snowspeeder          , Imperial Speeder Bike                                                                                | X-wing          , Imperial shuttle                                                                                          |\n",
       "| Darth Vader                                                                                        | 202                                                                                                | 136.0                                                                                              | none                                                                                               | white                                                                                              | yellow                                                                                             |  41.9                                                                                              | male                                                                                               | masculine                                                                                          | Tatooine                                                                                           | Human                                                                                              | The Empire Strikes Back, Revenge of the Sith    , Return of the Jedi     , A New Hope              |                                                                                                    | TIE Advanced x1                                                                                    |\n",
       "| Leia Organa                                                                                                                 | 150                                                                                                                         |  49.0                                                                                                                       | brown                                                                                                                       | light                                                                                                                       | brown                                                                                                                       |  19.0                                                                                                                       | female                                                                                                                      | feminine                                                                                                                    | Alderaan                                                                                                                    | Human                                                                                                                       | The Empire Strikes Back, Revenge of the Sith    , Return of the Jedi     , A New Hope             , The Force Awakens       | Imperial Speeder Bike                                                                                                       |                                                                                                                             |\n",
       "| Owen Lars                                                        | 178                                                              | 120.0                                                            | brown, grey                                                      | light                                                            | blue                                                             |  52.0                                                            | male                                                             | masculine                                                        | Tatooine                                                         | Human                                                            | Attack of the Clones, Revenge of the Sith , A New Hope           |                                                                  |                                                                  |\n",
       "| Beru Whitesun lars                                               | 165                                                              |  75.0                                                            | brown                                                            | light                                                            | blue                                                             |  47.0                                                            | female                                                           | feminine                                                         | Tatooine                                                         | Human                                                            | Attack of the Clones, Revenge of the Sith , A New Hope           |                                                                  |                                                                  |\n",
       "| Biggs Darklighter     | 183                   |  84.0                 | black                 | light                 | brown                 |  24.0                 | male                  | masculine             | Tatooine              | Human                 | A New Hope            |                       | X-wing                |\n",
       "| Obi-Wan Kenobi                                                                                                                                       | 182                                                                                                                                                  |  77.0                                                                                                                                                | auburn, white                                                                                                                                        | fair                                                                                                                                                 | blue-gray                                                                                                                                            |  57.0                                                                                                                                                | male                                                                                                                                                 | masculine                                                                                                                                            | Stewjon                                                                                                                                              | Human                                                                                                                                                | The Empire Strikes Back, Attack of the Clones   , The Phantom Menace     , Revenge of the Sith    , Return of the Jedi     , A New Hope              | Tribubble bongo                                                                                                                                      | Jedi starfighter        , Trade Federation cruiser, Naboo star skiff        , Jedi Interceptor        , Belbullab-22 starfighter                     |\n",
       "| Anakin Skywalker                                                             | 188                                                                          |  84.0                                                                        | blond                                                                        | fair                                                                         | blue                                                                         |  41.9                                                                        | male                                                                         | masculine                                                                    | Tatooine                                                                     | Human                                                                        | Attack of the Clones, The Phantom Menace  , Revenge of the Sith              | Zephyr-G swoop bike, XJ-6 airspeeder                                         | Trade Federation cruiser, Jedi Interceptor        , Naboo fighter            |\n",
       "| Chewbacca                                                                                                                   | 228                                                                                                                         | 112.0                                                                                                                       | brown                                                                                                                       | unknown                                                                                                                     | blue                                                                                                                        | 200.0                                                                                                                       | male                                                                                                                        | masculine                                                                                                                   | Kashyyyk                                                                                                                    | Wookiee                                                                                                                     | The Empire Strikes Back, Revenge of the Sith    , Return of the Jedi     , A New Hope             , The Force Awakens       | AT-ST                                                                                                                       | Millennium Falcon, Imperial shuttle                                                                                         |\n",
       "| Han Solo                                                                                           | 180                                                                                                |  80.0                                                                                              | brown                                                                                              | fair                                                                                               | brown                                                                                              |  29.0                                                                                              | male                                                                                               | masculine                                                                                          | Corellia                                                                                           | Human                                                                                              | The Empire Strikes Back, Return of the Jedi     , A New Hope             , The Force Awakens       |                                                                                                    | Millennium Falcon, Imperial shuttle                                                                |\n",
       "| Wedge Antilles                                                            | 170                                                                       |  77.0                                                                     | brown                                                                     | fair                                                                      | hazel                                                                     |  21.0                                                                     | male                                                                      | masculine                                                                 | Corellia                                                                  | Human                                                                     | The Empire Strikes Back, Return of the Jedi     , A New Hope              | Snowspeeder                                                               | X-wing                                                                    |\n",
       "| Palpatine                                                                                                                   | 170                                                                                                                         |  75.0                                                                                                                       | grey                                                                                                                        | pale                                                                                                                        | yellow                                                                                                                      |  82.0                                                                                                                       | male                                                                                                                        | masculine                                                                                                                   | Naboo                                                                                                                       | Human                                                                                                                       | The Empire Strikes Back, Attack of the Clones   , The Phantom Menace     , Revenge of the Sith    , Return of the Jedi      |                                                                                                                             |                                                                                                                             |\n",
       "| Boba Fett                                                                 | 183                                                                       |  78.2                                                                     | black                                                                     | fair                                                                      | brown                                                                     |  31.5                                                                     | male                                                                      | masculine                                                                 | Kamino                                                                    | Human                                                                     | The Empire Strikes Back, Attack of the Clones   , Return of the Jedi      |                                                                           | Slave 1                                                                   |\n",
       "| Bossk                   | 190                     | 113.0                   | none                    | green                   | red                     |  53.0                   | male                    | masculine               | Trandosha               | Trandoshan              | The Empire Strikes Back |                         |                         |\n",
       "| Lando Calrissian                                 | 177                                              |  79.0                                            | black                                            | dark                                             | brown                                            |  31.0                                            | male                                             | masculine                                        | Socorro                                          | Human                                            | The Empire Strikes Back, Return of the Jedi      |                                                  | Millennium Falcon                                |\n",
       "| Lobot                   | 175                     |  79.0                   | none                    | light                   | blue                    |  37.0                   | male                    | masculine               | Bespin                  | Human                   | The Empire Strikes Back |                         |                         |\n",
       "| Ackbar                                 | 180                                    |  83.0                                  | none                                   | brown mottle                           | orange                                 |  41.0                                  | male                                   | masculine                              | Mon Cala                               | Mon Calamari                           | Return of the Jedi, The Force Awakens  |                                        |                                        |\n",
       "| Wicket Systri Warrick |  88                   |  20.0                 | brown                 | brown                 | brown                 |   8.0                 | male                  | masculine             | Endor                 | Ewok                  | Return of the Jedi    |                       |                       |\n",
       "| Jar Jar Binks                              | 196                                        |  66.0                                      | none                                       | orange                                     | orange                                     |  52.0                                      | male                                       | masculine                                  | Naboo                                      | Gungan                                     | Attack of the Clones, The Phantom Menace   |                                            |                                            |\n",
       "| Darth Maul            | 175                   |  80.0                 | none                  | red                   | yellow                |  54.0                 | male                  | masculine             | Dathomir              | Zabrak                | The Phantom Menace    | Sith speeder          | Scimitar              |\n",
       "| Ayla Secura                                                      | 178                                                              |  55.0                                                            | none                                                             | blue                                                             | hazel                                                            |  48.0                                                            | female                                                           | feminine                                                         | Ryloth                                                           | Twi'lek                                                          | Attack of the Clones, The Phantom Menace  , Revenge of the Sith  |                                                                  |                                                                  |\n",
       "| Mace Windu                                                       | 188                                                              |  84.0                                                            | none                                                             | dark                                                             | brown                                                            |  72.0                                                            | male                                                             | masculine                                                        | Haruun Kal                                                       | Human                                                            | Attack of the Clones, The Phantom Menace  , Revenge of the Sith  |                                                                  |                                                                  |\n",
       "| Ki-Adi-Mundi                                                     | 198                                                              |  82.0                                                            | white                                                            | pale                                                             | yellow                                                           |  92.0                                                            | male                                                             | masculine                                                        | Cerea                                                            | Cerean                                                           | Attack of the Clones, The Phantom Menace  , Revenge of the Sith  |                                                                  |                                                                  |\n",
       "| Plo Koon                                                         | 188                                                              |  80.0                                                            | none                                                             | orange                                                           | black                                                            |  22.0                                                            | male                                                             | masculine                                                        | Dorin                                                            | Kel Dor                                                          | Attack of the Clones, The Phantom Menace  , Revenge of the Sith  |                                                                  | Jedi starfighter                                                 |\n",
       "| Luminara Unduli                            | 170                                        |  56.2                                      | black                                      | yellow                                     | blue                                       |  58.0                                      | female                                     | feminine                                   | Mirial                                     | Mirialan                                   | Attack of the Clones, Revenge of the Sith  |                                            |                                            |\n",
       "| Barriss Offee         | 166                   |  50.0                 | black                 | yellow                | blue                  |  40.0                 | female                | feminine              | Mirial                | Mirialan              | Attack of the Clones  |                       |                       |\n",
       "| Dooku                                      | 193                                        |  80.0                                      | white                                      | fair                                       | brown                                      | 102.0                                      | male                                       | masculine                                  | Serenno                                    | Human                                      | Attack of the Clones, Revenge of the Sith  | Flitknot speeder                           |                                            |\n",
       "| Jango Fett            | 183                   |  79.0                 | black                 | tan                   | brown                 |  66.0                 | male                  | masculine             | Concord Dawn          | Human                 | Attack of the Clones  |                       |                       |\n",
       "| Padmé Amidala                                                    | 165                                                              |  45.0                                                            | brown                                                            | light                                                            | brown                                                            |  46.0                                                            | female                                                           | feminine                                                         | Naboo                                                            | Human                                                            | Attack of the Clones, The Phantom Menace  , Revenge of the Sith  |                                                                  | H-type Nubian yacht, Naboo star skiff   , Naboo fighter          |\n",
       "\n"
      ],
      "text/plain": [
       "   name                  height mass  hair_color    skin_color   eye_color\n",
       "1  Luke Skywalker        172     77.0 blond         fair         blue     \n",
       "2  Darth Vader           202    136.0 none          white        yellow   \n",
       "3  Leia Organa           150     49.0 brown         light        brown    \n",
       "4  Owen Lars             178    120.0 brown, grey   light        blue     \n",
       "5  Beru Whitesun lars    165     75.0 brown         light        blue     \n",
       "6  Biggs Darklighter     183     84.0 black         light        brown    \n",
       "7  Obi-Wan Kenobi        182     77.0 auburn, white fair         blue-gray\n",
       "8  Anakin Skywalker      188     84.0 blond         fair         blue     \n",
       "9  Chewbacca             228    112.0 brown         unknown      blue     \n",
       "10 Han Solo              180     80.0 brown         fair         brown    \n",
       "11 Wedge Antilles        170     77.0 brown         fair         hazel    \n",
       "12 Palpatine             170     75.0 grey          pale         yellow   \n",
       "13 Boba Fett             183     78.2 black         fair         brown    \n",
       "14 Bossk                 190    113.0 none          green        red      \n",
       "15 Lando Calrissian      177     79.0 black         dark         brown    \n",
       "16 Lobot                 175     79.0 none          light        blue     \n",
       "17 Ackbar                180     83.0 none          brown mottle orange   \n",
       "18 Wicket Systri Warrick  88     20.0 brown         brown        brown    \n",
       "19 Jar Jar Binks         196     66.0 none          orange       orange   \n",
       "20 Darth Maul            175     80.0 none          red          yellow   \n",
       "21 Ayla Secura           178     55.0 none          blue         hazel    \n",
       "22 Mace Windu            188     84.0 none          dark         brown    \n",
       "23 Ki-Adi-Mundi          198     82.0 white         pale         yellow   \n",
       "24 Plo Koon              188     80.0 none          orange       black    \n",
       "25 Luminara Unduli       170     56.2 black         yellow       blue     \n",
       "26 Barriss Offee         166     50.0 black         yellow       blue     \n",
       "27 Dooku                 193     80.0 white         fair         brown    \n",
       "28 Jango Fett            183     79.0 black         tan          brown    \n",
       "29 Padmé Amidala         165     45.0 brown         light        brown    \n",
       "   birth_year sex    gender    homeworld    species     \n",
       "1   19.0      male   masculine Tatooine     Human       \n",
       "2   41.9      male   masculine Tatooine     Human       \n",
       "3   19.0      female feminine  Alderaan     Human       \n",
       "4   52.0      male   masculine Tatooine     Human       \n",
       "5   47.0      female feminine  Tatooine     Human       \n",
       "6   24.0      male   masculine Tatooine     Human       \n",
       "7   57.0      male   masculine Stewjon      Human       \n",
       "8   41.9      male   masculine Tatooine     Human       \n",
       "9  200.0      male   masculine Kashyyyk     Wookiee     \n",
       "10  29.0      male   masculine Corellia     Human       \n",
       "11  21.0      male   masculine Corellia     Human       \n",
       "12  82.0      male   masculine Naboo        Human       \n",
       "13  31.5      male   masculine Kamino       Human       \n",
       "14  53.0      male   masculine Trandosha    Trandoshan  \n",
       "15  31.0      male   masculine Socorro      Human       \n",
       "16  37.0      male   masculine Bespin       Human       \n",
       "17  41.0      male   masculine Mon Cala     Mon Calamari\n",
       "18   8.0      male   masculine Endor        Ewok        \n",
       "19  52.0      male   masculine Naboo        Gungan      \n",
       "20  54.0      male   masculine Dathomir     Zabrak      \n",
       "21  48.0      female feminine  Ryloth       Twi'lek     \n",
       "22  72.0      male   masculine Haruun Kal   Human       \n",
       "23  92.0      male   masculine Cerea        Cerean      \n",
       "24  22.0      male   masculine Dorin        Kel Dor     \n",
       "25  58.0      female feminine  Mirial       Mirialan    \n",
       "26  40.0      female feminine  Mirial       Mirialan    \n",
       "27 102.0      male   masculine Serenno      Human       \n",
       "28  66.0      male   masculine Concord Dawn Human       \n",
       "29  46.0      female feminine  Naboo        Human       \n",
       "   films                                                                                                                                               \n",
       "1  The Empire Strikes Back, Revenge of the Sith    , Return of the Jedi     , A New Hope             , The Force Awakens                               \n",
       "2  The Empire Strikes Back, Revenge of the Sith    , Return of the Jedi     , A New Hope                                                               \n",
       "3  The Empire Strikes Back, Revenge of the Sith    , Return of the Jedi     , A New Hope             , The Force Awakens                               \n",
       "4  Attack of the Clones, Revenge of the Sith , A New Hope                                                                                              \n",
       "5  Attack of the Clones, Revenge of the Sith , A New Hope                                                                                              \n",
       "6  A New Hope                                                                                                                                          \n",
       "7  The Empire Strikes Back, Attack of the Clones   , The Phantom Menace     , Revenge of the Sith    , Return of the Jedi     , A New Hope             \n",
       "8  Attack of the Clones, The Phantom Menace  , Revenge of the Sith                                                                                     \n",
       "9  The Empire Strikes Back, Revenge of the Sith    , Return of the Jedi     , A New Hope             , The Force Awakens                               \n",
       "10 The Empire Strikes Back, Return of the Jedi     , A New Hope             , The Force Awakens                                                        \n",
       "11 The Empire Strikes Back, Return of the Jedi     , A New Hope                                                                                        \n",
       "12 The Empire Strikes Back, Attack of the Clones   , The Phantom Menace     , Revenge of the Sith    , Return of the Jedi                              \n",
       "13 The Empire Strikes Back, Attack of the Clones   , Return of the Jedi                                                                                \n",
       "14 The Empire Strikes Back                                                                                                                             \n",
       "15 The Empire Strikes Back, Return of the Jedi                                                                                                         \n",
       "16 The Empire Strikes Back                                                                                                                             \n",
       "17 Return of the Jedi, The Force Awakens                                                                                                               \n",
       "18 Return of the Jedi                                                                                                                                  \n",
       "19 Attack of the Clones, The Phantom Menace                                                                                                            \n",
       "20 The Phantom Menace                                                                                                                                  \n",
       "21 Attack of the Clones, The Phantom Menace  , Revenge of the Sith                                                                                     \n",
       "22 Attack of the Clones, The Phantom Menace  , Revenge of the Sith                                                                                     \n",
       "23 Attack of the Clones, The Phantom Menace  , Revenge of the Sith                                                                                     \n",
       "24 Attack of the Clones, The Phantom Menace  , Revenge of the Sith                                                                                     \n",
       "25 Attack of the Clones, Revenge of the Sith                                                                                                           \n",
       "26 Attack of the Clones                                                                                                                                \n",
       "27 Attack of the Clones, Revenge of the Sith                                                                                                           \n",
       "28 Attack of the Clones                                                                                                                                \n",
       "29 Attack of the Clones, The Phantom Menace  , Revenge of the Sith                                                                                     \n",
       "   vehicles                                    \n",
       "1  Snowspeeder          , Imperial Speeder Bike\n",
       "2                                              \n",
       "3  Imperial Speeder Bike                       \n",
       "4                                              \n",
       "5                                              \n",
       "6                                              \n",
       "7  Tribubble bongo                             \n",
       "8  Zephyr-G swoop bike, XJ-6 airspeeder        \n",
       "9  AT-ST                                       \n",
       "10                                             \n",
       "11 Snowspeeder                                 \n",
       "12                                             \n",
       "13                                             \n",
       "14                                             \n",
       "15                                             \n",
       "16                                             \n",
       "17                                             \n",
       "18                                             \n",
       "19                                             \n",
       "20 Sith speeder                                \n",
       "21                                             \n",
       "22                                             \n",
       "23                                             \n",
       "24                                             \n",
       "25                                             \n",
       "26                                             \n",
       "27 Flitknot speeder                            \n",
       "28                                             \n",
       "29                                             \n",
       "   starships                                                                                                                       \n",
       "1  X-wing          , Imperial shuttle                                                                                              \n",
       "2  TIE Advanced x1                                                                                                                 \n",
       "3                                                                                                                                  \n",
       "4                                                                                                                                  \n",
       "5                                                                                                                                  \n",
       "6  X-wing                                                                                                                          \n",
       "7  Jedi starfighter        , Trade Federation cruiser, Naboo star skiff        , Jedi Interceptor        , Belbullab-22 starfighter\n",
       "8  Trade Federation cruiser, Jedi Interceptor        , Naboo fighter                                                               \n",
       "9  Millennium Falcon, Imperial shuttle                                                                                             \n",
       "10 Millennium Falcon, Imperial shuttle                                                                                             \n",
       "11 X-wing                                                                                                                          \n",
       "12                                                                                                                                 \n",
       "13 Slave 1                                                                                                                         \n",
       "14                                                                                                                                 \n",
       "15 Millennium Falcon                                                                                                               \n",
       "16                                                                                                                                 \n",
       "17                                                                                                                                 \n",
       "18                                                                                                                                 \n",
       "19                                                                                                                                 \n",
       "20 Scimitar                                                                                                                        \n",
       "21                                                                                                                                 \n",
       "22                                                                                                                                 \n",
       "23                                                                                                                                 \n",
       "24 Jedi starfighter                                                                                                                \n",
       "25                                                                                                                                 \n",
       "26                                                                                                                                 \n",
       "27                                                                                                                                 \n",
       "28                                                                                                                                 \n",
       "29 H-type Nubian yacht, Naboo star skiff   , Naboo fighter                                                                         "
      ]
     },
     "metadata": {},
     "output_type": "display_data"
    }
   ],
   "source": [
    "starwars %>% filter(across(everything(), negate(is.na)))"
   ]
  },
  {
   "cell_type": "markdown",
   "metadata": {},
   "source": [
    "* Find all distinct"
   ]
  },
  {
   "cell_type": "code",
   "execution_count": 40,
   "metadata": {},
   "outputs": [
    {
     "data": {
      "text/html": [
       "<table>\n",
       "<thead><tr><th scope=col>hair_color</th><th scope=col>skin_color</th><th scope=col>eye_color</th></tr></thead>\n",
       "<tbody>\n",
       "\t<tr><td>blond           </td><td>fair            </td><td>blue            </td></tr>\n",
       "\t<tr><td>NA              </td><td>gold            </td><td>yellow          </td></tr>\n",
       "\t<tr><td>NA              </td><td>white, blue     </td><td>red             </td></tr>\n",
       "\t<tr><td>none            </td><td>white           </td><td>yellow          </td></tr>\n",
       "\t<tr><td>brown           </td><td>light           </td><td>brown           </td></tr>\n",
       "\t<tr><td>brown, grey     </td><td>light           </td><td>blue            </td></tr>\n",
       "\t<tr><td>brown           </td><td>light           </td><td>blue            </td></tr>\n",
       "\t<tr><td>NA              </td><td>white, red      </td><td>red             </td></tr>\n",
       "\t<tr><td>black           </td><td>light           </td><td>brown           </td></tr>\n",
       "\t<tr><td>auburn, white   </td><td>fair            </td><td>blue-gray       </td></tr>\n",
       "\t<tr><td>auburn, grey    </td><td>fair            </td><td>blue            </td></tr>\n",
       "\t<tr><td>brown           </td><td>unknown         </td><td>blue            </td></tr>\n",
       "\t<tr><td>brown           </td><td>fair            </td><td>brown           </td></tr>\n",
       "\t<tr><td>NA              </td><td>green           </td><td>black           </td></tr>\n",
       "\t<tr><td>NA              </td><td>green-tan, brown</td><td>orange          </td></tr>\n",
       "\t<tr><td>brown           </td><td>fair            </td><td>hazel           </td></tr>\n",
       "\t<tr><td>brown           </td><td>fair            </td><td>blue            </td></tr>\n",
       "\t<tr><td>white           </td><td>green           </td><td>brown           </td></tr>\n",
       "\t<tr><td>grey            </td><td>pale            </td><td>yellow          </td></tr>\n",
       "\t<tr><td>black           </td><td>fair            </td><td>brown           </td></tr>\n",
       "\t<tr><td>none            </td><td>metal           </td><td>red             </td></tr>\n",
       "\t<tr><td>none            </td><td>green           </td><td>red             </td></tr>\n",
       "\t<tr><td>black           </td><td>dark            </td><td>brown           </td></tr>\n",
       "\t<tr><td>none            </td><td>light           </td><td>blue            </td></tr>\n",
       "\t<tr><td>none            </td><td>brown mottle    </td><td>orange          </td></tr>\n",
       "\t<tr><td>auburn          </td><td>fair            </td><td>blue            </td></tr>\n",
       "\t<tr><td>brown           </td><td>brown           </td><td>brown           </td></tr>\n",
       "\t<tr><td>none            </td><td>grey            </td><td>black           </td></tr>\n",
       "\t<tr><td>none            </td><td>mottled green   </td><td>red             </td></tr>\n",
       "\t<tr><td>none            </td><td>orange          </td><td>orange          </td></tr>\n",
       "\t<tr><td>...</td><td>...</td><td>...</td></tr>\n",
       "\t<tr><td>none               </td><td>blue, grey         </td><td>yellow             </td></tr>\n",
       "\t<tr><td>none               </td><td>white, blue        </td><td>black              </td></tr>\n",
       "\t<tr><td>none               </td><td>grey, green, yellow</td><td>orange             </td></tr>\n",
       "\t<tr><td>none               </td><td>dark               </td><td>brown              </td></tr>\n",
       "\t<tr><td>white              </td><td>pale               </td><td>yellow             </td></tr>\n",
       "\t<tr><td>none               </td><td>green              </td><td>black              </td></tr>\n",
       "\t<tr><td>black              </td><td>brown              </td><td>brown              </td></tr>\n",
       "\t<tr><td>none               </td><td>dark               </td><td>blue               </td></tr>\n",
       "\t<tr><td>none               </td><td>pale               </td><td>orange             </td></tr>\n",
       "\t<tr><td>none               </td><td>orange             </td><td>black              </td></tr>\n",
       "\t<tr><td>none               </td><td>blue               </td><td>blue               </td></tr>\n",
       "\t<tr><td>none               </td><td>green              </td><td>yellow             </td></tr>\n",
       "\t<tr><td>black              </td><td>yellow             </td><td>blue               </td></tr>\n",
       "\t<tr><td>white              </td><td>fair               </td><td>brown              </td></tr>\n",
       "\t<tr><td>black              </td><td>tan                </td><td>brown              </td></tr>\n",
       "\t<tr><td>blonde             </td><td>fair, green, yellow</td><td>yellow             </td></tr>\n",
       "\t<tr><td>none               </td><td>brown              </td><td>yellow             </td></tr>\n",
       "\t<tr><td>white              </td><td>fair               </td><td>blue               </td></tr>\n",
       "\t<tr><td>none               </td><td>grey, blue         </td><td>unknown            </td></tr>\n",
       "\t<tr><td>none               </td><td>silver, red        </td><td>red, blue          </td></tr>\n",
       "\t<tr><td>none               </td><td>green, grey        </td><td>unknown            </td></tr>\n",
       "\t<tr><td>none               </td><td>grey               </td><td>gold               </td></tr>\n",
       "\t<tr><td>none               </td><td>red, blue, white   </td><td>black              </td></tr>\n",
       "\t<tr><td>none               </td><td>brown, white       </td><td>green, yellow      </td></tr>\n",
       "\t<tr><td>brown              </td><td>brown              </td><td>blue               </td></tr>\n",
       "\t<tr><td>none               </td><td>pale               </td><td>white              </td></tr>\n",
       "\t<tr><td>black              </td><td>dark               </td><td>dark               </td></tr>\n",
       "\t<tr><td>brown              </td><td>light              </td><td>hazel              </td></tr>\n",
       "\t<tr><td>none               </td><td>none               </td><td>black              </td></tr>\n",
       "\t<tr><td>unknown            </td><td>unknown            </td><td>unknown            </td></tr>\n",
       "</tbody>\n",
       "</table>\n"
      ],
      "text/latex": [
       "\\begin{tabular}{r|lll}\n",
       " hair\\_color & skin\\_color & eye\\_color\\\\\n",
       "\\hline\n",
       "\t blond            & fair             & blue            \\\\\n",
       "\t NA               & gold             & yellow          \\\\\n",
       "\t NA               & white, blue      & red             \\\\\n",
       "\t none             & white            & yellow          \\\\\n",
       "\t brown            & light            & brown           \\\\\n",
       "\t brown, grey      & light            & blue            \\\\\n",
       "\t brown            & light            & blue            \\\\\n",
       "\t NA               & white, red       & red             \\\\\n",
       "\t black            & light            & brown           \\\\\n",
       "\t auburn, white    & fair             & blue-gray       \\\\\n",
       "\t auburn, grey     & fair             & blue            \\\\\n",
       "\t brown            & unknown          & blue            \\\\\n",
       "\t brown            & fair             & brown           \\\\\n",
       "\t NA               & green            & black           \\\\\n",
       "\t NA               & green-tan, brown & orange          \\\\\n",
       "\t brown            & fair             & hazel           \\\\\n",
       "\t brown            & fair             & blue            \\\\\n",
       "\t white            & green            & brown           \\\\\n",
       "\t grey             & pale             & yellow          \\\\\n",
       "\t black            & fair             & brown           \\\\\n",
       "\t none             & metal            & red             \\\\\n",
       "\t none             & green            & red             \\\\\n",
       "\t black            & dark             & brown           \\\\\n",
       "\t none             & light            & blue            \\\\\n",
       "\t none             & brown mottle     & orange          \\\\\n",
       "\t auburn           & fair             & blue            \\\\\n",
       "\t brown            & brown            & brown           \\\\\n",
       "\t none             & grey             & black           \\\\\n",
       "\t none             & mottled green    & red             \\\\\n",
       "\t none             & orange           & orange          \\\\\n",
       "\t ... & ... & ...\\\\\n",
       "\t none                & blue, grey          & yellow             \\\\\n",
       "\t none                & white, blue         & black              \\\\\n",
       "\t none                & grey, green, yellow & orange             \\\\\n",
       "\t none                & dark                & brown              \\\\\n",
       "\t white               & pale                & yellow             \\\\\n",
       "\t none                & green               & black              \\\\\n",
       "\t black               & brown               & brown              \\\\\n",
       "\t none                & dark                & blue               \\\\\n",
       "\t none                & pale                & orange             \\\\\n",
       "\t none                & orange              & black              \\\\\n",
       "\t none                & blue                & blue               \\\\\n",
       "\t none                & green               & yellow             \\\\\n",
       "\t black               & yellow              & blue               \\\\\n",
       "\t white               & fair                & brown              \\\\\n",
       "\t black               & tan                 & brown              \\\\\n",
       "\t blonde              & fair, green, yellow & yellow             \\\\\n",
       "\t none                & brown               & yellow             \\\\\n",
       "\t white               & fair                & blue               \\\\\n",
       "\t none                & grey, blue          & unknown            \\\\\n",
       "\t none                & silver, red         & red, blue          \\\\\n",
       "\t none                & green, grey         & unknown            \\\\\n",
       "\t none                & grey                & gold               \\\\\n",
       "\t none                & red, blue, white    & black              \\\\\n",
       "\t none                & brown, white        & green, yellow      \\\\\n",
       "\t brown               & brown               & blue               \\\\\n",
       "\t none                & pale                & white              \\\\\n",
       "\t black               & dark                & dark               \\\\\n",
       "\t brown               & light               & hazel              \\\\\n",
       "\t none                & none                & black              \\\\\n",
       "\t unknown             & unknown             & unknown            \\\\\n",
       "\\end{tabular}\n"
      ],
      "text/markdown": [
       "\n",
       "| hair_color | skin_color | eye_color |\n",
       "|---|---|---|\n",
       "| blond            | fair             | blue             |\n",
       "| NA               | gold             | yellow           |\n",
       "| NA               | white, blue      | red              |\n",
       "| none             | white            | yellow           |\n",
       "| brown            | light            | brown            |\n",
       "| brown, grey      | light            | blue             |\n",
       "| brown            | light            | blue             |\n",
       "| NA               | white, red       | red              |\n",
       "| black            | light            | brown            |\n",
       "| auburn, white    | fair             | blue-gray        |\n",
       "| auburn, grey     | fair             | blue             |\n",
       "| brown            | unknown          | blue             |\n",
       "| brown            | fair             | brown            |\n",
       "| NA               | green            | black            |\n",
       "| NA               | green-tan, brown | orange           |\n",
       "| brown            | fair             | hazel            |\n",
       "| brown            | fair             | blue             |\n",
       "| white            | green            | brown            |\n",
       "| grey             | pale             | yellow           |\n",
       "| black            | fair             | brown            |\n",
       "| none             | metal            | red              |\n",
       "| none             | green            | red              |\n",
       "| black            | dark             | brown            |\n",
       "| none             | light            | blue             |\n",
       "| none             | brown mottle     | orange           |\n",
       "| auburn           | fair             | blue             |\n",
       "| brown            | brown            | brown            |\n",
       "| none             | grey             | black            |\n",
       "| none             | mottled green    | red              |\n",
       "| none             | orange           | orange           |\n",
       "| ... | ... | ... |\n",
       "| none                | blue, grey          | yellow              |\n",
       "| none                | white, blue         | black               |\n",
       "| none                | grey, green, yellow | orange              |\n",
       "| none                | dark                | brown               |\n",
       "| white               | pale                | yellow              |\n",
       "| none                | green               | black               |\n",
       "| black               | brown               | brown               |\n",
       "| none                | dark                | blue                |\n",
       "| none                | pale                | orange              |\n",
       "| none                | orange              | black               |\n",
       "| none                | blue                | blue                |\n",
       "| none                | green               | yellow              |\n",
       "| black               | yellow              | blue                |\n",
       "| white               | fair                | brown               |\n",
       "| black               | tan                 | brown               |\n",
       "| blonde              | fair, green, yellow | yellow              |\n",
       "| none                | brown               | yellow              |\n",
       "| white               | fair                | blue                |\n",
       "| none                | grey, blue          | unknown             |\n",
       "| none                | silver, red         | red, blue           |\n",
       "| none                | green, grey         | unknown             |\n",
       "| none                | grey                | gold                |\n",
       "| none                | red, blue, white    | black               |\n",
       "| none                | brown, white        | green, yellow       |\n",
       "| brown               | brown               | blue                |\n",
       "| none                | pale                | white               |\n",
       "| black               | dark                | dark                |\n",
       "| brown               | light               | hazel               |\n",
       "| none                | none                | black               |\n",
       "| unknown             | unknown             | unknown             |\n",
       "\n"
      ],
      "text/plain": [
       "    hair_color    skin_color          eye_color    \n",
       "1   blond         fair                blue         \n",
       "2   NA            gold                yellow       \n",
       "3   NA            white, blue         red          \n",
       "4   none          white               yellow       \n",
       "5   brown         light               brown        \n",
       "6   brown, grey   light               blue         \n",
       "7   brown         light               blue         \n",
       "8   NA            white, red          red          \n",
       "9   black         light               brown        \n",
       "10  auburn, white fair                blue-gray    \n",
       "11  auburn, grey  fair                blue         \n",
       "12  brown         unknown             blue         \n",
       "13  brown         fair                brown        \n",
       "14  NA            green               black        \n",
       "15  NA            green-tan, brown    orange       \n",
       "16  brown         fair                hazel        \n",
       "17  brown         fair                blue         \n",
       "18  white         green               brown        \n",
       "19  grey          pale                yellow       \n",
       "20  black         fair                brown        \n",
       "21  none          metal               red          \n",
       "22  none          green               red          \n",
       "23  black         dark                brown        \n",
       "24  none          light               blue         \n",
       "25  none          brown mottle        orange       \n",
       "26  auburn        fair                blue         \n",
       "27  brown         brown               brown        \n",
       "28  none          grey                black        \n",
       "29  none          mottled green       red          \n",
       "30  none          orange              orange       \n",
       "... ...           ...                 ...          \n",
       "38  none          blue, grey          yellow       \n",
       "39  none          white, blue         black        \n",
       "40  none          grey, green, yellow orange       \n",
       "41  none          dark                brown        \n",
       "42  white         pale                yellow       \n",
       "43  none          green               black        \n",
       "44  black         brown               brown        \n",
       "45  none          dark                blue         \n",
       "46  none          pale                orange       \n",
       "47  none          orange              black        \n",
       "48  none          blue                blue         \n",
       "49  none          green               yellow       \n",
       "50  black         yellow              blue         \n",
       "51  white         fair                brown        \n",
       "52  black         tan                 brown        \n",
       "53  blonde        fair, green, yellow yellow       \n",
       "54  none          brown               yellow       \n",
       "55  white         fair                blue         \n",
       "56  none          grey, blue          unknown      \n",
       "57  none          silver, red         red, blue    \n",
       "58  none          green, grey         unknown      \n",
       "59  none          grey                gold         \n",
       "60  none          red, blue, white    black        \n",
       "61  none          brown, white        green, yellow\n",
       "62  brown         brown               blue         \n",
       "63  none          pale                white        \n",
       "64  black         dark                dark         \n",
       "65  brown         light               hazel        \n",
       "66  none          none                black        \n",
       "67  unknown       unknown             unknown      "
      ]
     },
     "metadata": {},
     "output_type": "display_data"
    }
   ],
   "source": [
    "starwars %>% distinct(across(contains('color')))"
   ]
  },
  {
   "cell_type": "markdown",
   "metadata": {},
   "source": [
    "* Count all combinations of variables with a given pattern:"
   ]
  },
  {
   "cell_type": "code",
   "execution_count": 41,
   "metadata": {},
   "outputs": [
    {
     "data": {
      "text/html": [
       "<table>\n",
       "<thead><tr><th scope=col>hair_color</th><th scope=col>skin_color</th><th scope=col>eye_color</th><th scope=col>n</th></tr></thead>\n",
       "<tbody>\n",
       "\t<tr><td>brown              </td><td>light              </td><td>brown              </td><td>6                  </td></tr>\n",
       "\t<tr><td>brown              </td><td>fair               </td><td>blue               </td><td>4                  </td></tr>\n",
       "\t<tr><td>none               </td><td>grey               </td><td>black              </td><td>4                  </td></tr>\n",
       "\t<tr><td>black              </td><td>dark               </td><td>brown              </td><td>3                  </td></tr>\n",
       "\t<tr><td>blond              </td><td>fair               </td><td>blue               </td><td>3                  </td></tr>\n",
       "\t<tr><td>black              </td><td>fair               </td><td>brown              </td><td>2                  </td></tr>\n",
       "\t<tr><td>black              </td><td>tan                </td><td>brown              </td><td>2                  </td></tr>\n",
       "\t<tr><td>black              </td><td>yellow             </td><td>blue               </td><td>2                  </td></tr>\n",
       "\t<tr><td>brown              </td><td>fair               </td><td>brown              </td><td>2                  </td></tr>\n",
       "\t<tr><td>none               </td><td>white              </td><td>yellow             </td><td>2                  </td></tr>\n",
       "\t<tr><td>auburn             </td><td>fair               </td><td>blue               </td><td>1                  </td></tr>\n",
       "\t<tr><td>auburn, grey       </td><td>fair               </td><td>blue               </td><td>1                  </td></tr>\n",
       "\t<tr><td>auburn, white      </td><td>fair               </td><td>blue-gray          </td><td>1                  </td></tr>\n",
       "\t<tr><td>black              </td><td>blue, grey         </td><td>yellow             </td><td>1                  </td></tr>\n",
       "\t<tr><td>black              </td><td>brown              </td><td>brown              </td><td>1                  </td></tr>\n",
       "\t<tr><td>black              </td><td>dark               </td><td>dark               </td><td>1                  </td></tr>\n",
       "\t<tr><td>black              </td><td>light              </td><td>brown              </td><td>1                  </td></tr>\n",
       "\t<tr><td>blonde             </td><td>fair, green, yellow</td><td>yellow             </td><td>1                  </td></tr>\n",
       "\t<tr><td>brown              </td><td>brown              </td><td>blue               </td><td>1                  </td></tr>\n",
       "\t<tr><td>brown              </td><td>brown              </td><td>brown              </td><td>1                  </td></tr>\n",
       "\t<tr><td>brown              </td><td>fair               </td><td>hazel              </td><td>1                  </td></tr>\n",
       "\t<tr><td>brown              </td><td>light              </td><td>blue               </td><td>1                  </td></tr>\n",
       "\t<tr><td>brown              </td><td>light              </td><td>hazel              </td><td>1                  </td></tr>\n",
       "\t<tr><td>brown              </td><td>unknown            </td><td>blue               </td><td>1                  </td></tr>\n",
       "\t<tr><td>brown, grey        </td><td>light              </td><td>blue               </td><td>1                  </td></tr>\n",
       "\t<tr><td>grey               </td><td>pale               </td><td>yellow             </td><td>1                  </td></tr>\n",
       "\t<tr><td>none               </td><td>blue               </td><td>blue               </td><td>1                  </td></tr>\n",
       "\t<tr><td>none               </td><td>blue               </td><td>hazel              </td><td>1                  </td></tr>\n",
       "\t<tr><td>none               </td><td>blue, grey         </td><td>yellow             </td><td>1                  </td></tr>\n",
       "\t<tr><td>none               </td><td>brown              </td><td>yellow             </td><td>1                  </td></tr>\n",
       "\t<tr><td>...</td><td>...</td><td>...</td><td>...</td></tr>\n",
       "\t<tr><td>none               </td><td>green              </td><td>yellow             </td><td>1                  </td></tr>\n",
       "\t<tr><td>none               </td><td>green, grey        </td><td>unknown            </td><td>1                  </td></tr>\n",
       "\t<tr><td>none               </td><td>grey               </td><td>gold               </td><td>1                  </td></tr>\n",
       "\t<tr><td>none               </td><td>grey               </td><td>orange             </td><td>1                  </td></tr>\n",
       "\t<tr><td>none               </td><td>grey, blue         </td><td>unknown            </td><td>1                  </td></tr>\n",
       "\t<tr><td>none               </td><td>grey, green, yellow</td><td>orange             </td><td>1                  </td></tr>\n",
       "\t<tr><td>none               </td><td>grey, red          </td><td>orange             </td><td>1                  </td></tr>\n",
       "\t<tr><td>none               </td><td>light              </td><td>blue               </td><td>1                  </td></tr>\n",
       "\t<tr><td>none               </td><td>metal              </td><td>red                </td><td>1                  </td></tr>\n",
       "\t<tr><td>none               </td><td>mottled green      </td><td>red                </td><td>1                  </td></tr>\n",
       "\t<tr><td>none               </td><td>none               </td><td>black              </td><td>1                  </td></tr>\n",
       "\t<tr><td>none               </td><td>orange             </td><td>black              </td><td>1                  </td></tr>\n",
       "\t<tr><td>none               </td><td>orange             </td><td>orange             </td><td>1                  </td></tr>\n",
       "\t<tr><td>none               </td><td>pale               </td><td>orange             </td><td>1                  </td></tr>\n",
       "\t<tr><td>none               </td><td>pale               </td><td>pink               </td><td>1                  </td></tr>\n",
       "\t<tr><td>none               </td><td>pale               </td><td>white              </td><td>1                  </td></tr>\n",
       "\t<tr><td>none               </td><td>red                </td><td>yellow             </td><td>1                  </td></tr>\n",
       "\t<tr><td>none               </td><td>red, blue, white   </td><td>black              </td><td>1                  </td></tr>\n",
       "\t<tr><td>none               </td><td>silver, red        </td><td>red, blue          </td><td>1                  </td></tr>\n",
       "\t<tr><td>none               </td><td>white, blue        </td><td>black              </td><td>1                  </td></tr>\n",
       "\t<tr><td>unknown            </td><td>unknown            </td><td>unknown            </td><td>1                  </td></tr>\n",
       "\t<tr><td>white              </td><td>fair               </td><td>blue               </td><td>1                  </td></tr>\n",
       "\t<tr><td>white              </td><td>fair               </td><td>brown              </td><td>1                  </td></tr>\n",
       "\t<tr><td>white              </td><td>green              </td><td>brown              </td><td>1                  </td></tr>\n",
       "\t<tr><td>white              </td><td>pale               </td><td>yellow             </td><td>1                  </td></tr>\n",
       "\t<tr><td>NA                 </td><td>gold               </td><td>yellow             </td><td>1                  </td></tr>\n",
       "\t<tr><td>NA                 </td><td>green              </td><td>black              </td><td>1                  </td></tr>\n",
       "\t<tr><td>NA                 </td><td>green-tan, brown   </td><td>orange             </td><td>1                  </td></tr>\n",
       "\t<tr><td>NA                 </td><td>white, blue        </td><td>red                </td><td>1                  </td></tr>\n",
       "\t<tr><td>NA                 </td><td>white, red         </td><td>red                </td><td>1                  </td></tr>\n",
       "</tbody>\n",
       "</table>\n"
      ],
      "text/latex": [
       "\\begin{tabular}{r|llll}\n",
       " hair\\_color & skin\\_color & eye\\_color & n\\\\\n",
       "\\hline\n",
       "\t brown               & light               & brown               & 6                  \\\\\n",
       "\t brown               & fair                & blue                & 4                  \\\\\n",
       "\t none                & grey                & black               & 4                  \\\\\n",
       "\t black               & dark                & brown               & 3                  \\\\\n",
       "\t blond               & fair                & blue                & 3                  \\\\\n",
       "\t black               & fair                & brown               & 2                  \\\\\n",
       "\t black               & tan                 & brown               & 2                  \\\\\n",
       "\t black               & yellow              & blue                & 2                  \\\\\n",
       "\t brown               & fair                & brown               & 2                  \\\\\n",
       "\t none                & white               & yellow              & 2                  \\\\\n",
       "\t auburn              & fair                & blue                & 1                  \\\\\n",
       "\t auburn, grey        & fair                & blue                & 1                  \\\\\n",
       "\t auburn, white       & fair                & blue-gray           & 1                  \\\\\n",
       "\t black               & blue, grey          & yellow              & 1                  \\\\\n",
       "\t black               & brown               & brown               & 1                  \\\\\n",
       "\t black               & dark                & dark                & 1                  \\\\\n",
       "\t black               & light               & brown               & 1                  \\\\\n",
       "\t blonde              & fair, green, yellow & yellow              & 1                  \\\\\n",
       "\t brown               & brown               & blue                & 1                  \\\\\n",
       "\t brown               & brown               & brown               & 1                  \\\\\n",
       "\t brown               & fair                & hazel               & 1                  \\\\\n",
       "\t brown               & light               & blue                & 1                  \\\\\n",
       "\t brown               & light               & hazel               & 1                  \\\\\n",
       "\t brown               & unknown             & blue                & 1                  \\\\\n",
       "\t brown, grey         & light               & blue                & 1                  \\\\\n",
       "\t grey                & pale                & yellow              & 1                  \\\\\n",
       "\t none                & blue                & blue                & 1                  \\\\\n",
       "\t none                & blue                & hazel               & 1                  \\\\\n",
       "\t none                & blue, grey          & yellow              & 1                  \\\\\n",
       "\t none                & brown               & yellow              & 1                  \\\\\n",
       "\t ... & ... & ... & ...\\\\\n",
       "\t none                & green               & yellow              & 1                  \\\\\n",
       "\t none                & green, grey         & unknown             & 1                  \\\\\n",
       "\t none                & grey                & gold                & 1                  \\\\\n",
       "\t none                & grey                & orange              & 1                  \\\\\n",
       "\t none                & grey, blue          & unknown             & 1                  \\\\\n",
       "\t none                & grey, green, yellow & orange              & 1                  \\\\\n",
       "\t none                & grey, red           & orange              & 1                  \\\\\n",
       "\t none                & light               & blue                & 1                  \\\\\n",
       "\t none                & metal               & red                 & 1                  \\\\\n",
       "\t none                & mottled green       & red                 & 1                  \\\\\n",
       "\t none                & none                & black               & 1                  \\\\\n",
       "\t none                & orange              & black               & 1                  \\\\\n",
       "\t none                & orange              & orange              & 1                  \\\\\n",
       "\t none                & pale                & orange              & 1                  \\\\\n",
       "\t none                & pale                & pink                & 1                  \\\\\n",
       "\t none                & pale                & white               & 1                  \\\\\n",
       "\t none                & red                 & yellow              & 1                  \\\\\n",
       "\t none                & red, blue, white    & black               & 1                  \\\\\n",
       "\t none                & silver, red         & red, blue           & 1                  \\\\\n",
       "\t none                & white, blue         & black               & 1                  \\\\\n",
       "\t unknown             & unknown             & unknown             & 1                  \\\\\n",
       "\t white               & fair                & blue                & 1                  \\\\\n",
       "\t white               & fair                & brown               & 1                  \\\\\n",
       "\t white               & green               & brown               & 1                  \\\\\n",
       "\t white               & pale                & yellow              & 1                  \\\\\n",
       "\t NA                  & gold                & yellow              & 1                  \\\\\n",
       "\t NA                  & green               & black               & 1                  \\\\\n",
       "\t NA                  & green-tan, brown    & orange              & 1                  \\\\\n",
       "\t NA                  & white, blue         & red                 & 1                  \\\\\n",
       "\t NA                  & white, red          & red                 & 1                  \\\\\n",
       "\\end{tabular}\n"
      ],
      "text/markdown": [
       "\n",
       "| hair_color | skin_color | eye_color | n |\n",
       "|---|---|---|---|\n",
       "| brown               | light               | brown               | 6                   |\n",
       "| brown               | fair                | blue                | 4                   |\n",
       "| none                | grey                | black               | 4                   |\n",
       "| black               | dark                | brown               | 3                   |\n",
       "| blond               | fair                | blue                | 3                   |\n",
       "| black               | fair                | brown               | 2                   |\n",
       "| black               | tan                 | brown               | 2                   |\n",
       "| black               | yellow              | blue                | 2                   |\n",
       "| brown               | fair                | brown               | 2                   |\n",
       "| none                | white               | yellow              | 2                   |\n",
       "| auburn              | fair                | blue                | 1                   |\n",
       "| auburn, grey        | fair                | blue                | 1                   |\n",
       "| auburn, white       | fair                | blue-gray           | 1                   |\n",
       "| black               | blue, grey          | yellow              | 1                   |\n",
       "| black               | brown               | brown               | 1                   |\n",
       "| black               | dark                | dark                | 1                   |\n",
       "| black               | light               | brown               | 1                   |\n",
       "| blonde              | fair, green, yellow | yellow              | 1                   |\n",
       "| brown               | brown               | blue                | 1                   |\n",
       "| brown               | brown               | brown               | 1                   |\n",
       "| brown               | fair                | hazel               | 1                   |\n",
       "| brown               | light               | blue                | 1                   |\n",
       "| brown               | light               | hazel               | 1                   |\n",
       "| brown               | unknown             | blue                | 1                   |\n",
       "| brown, grey         | light               | blue                | 1                   |\n",
       "| grey                | pale                | yellow              | 1                   |\n",
       "| none                | blue                | blue                | 1                   |\n",
       "| none                | blue                | hazel               | 1                   |\n",
       "| none                | blue, grey          | yellow              | 1                   |\n",
       "| none                | brown               | yellow              | 1                   |\n",
       "| ... | ... | ... | ... |\n",
       "| none                | green               | yellow              | 1                   |\n",
       "| none                | green, grey         | unknown             | 1                   |\n",
       "| none                | grey                | gold                | 1                   |\n",
       "| none                | grey                | orange              | 1                   |\n",
       "| none                | grey, blue          | unknown             | 1                   |\n",
       "| none                | grey, green, yellow | orange              | 1                   |\n",
       "| none                | grey, red           | orange              | 1                   |\n",
       "| none                | light               | blue                | 1                   |\n",
       "| none                | metal               | red                 | 1                   |\n",
       "| none                | mottled green       | red                 | 1                   |\n",
       "| none                | none                | black               | 1                   |\n",
       "| none                | orange              | black               | 1                   |\n",
       "| none                | orange              | orange              | 1                   |\n",
       "| none                | pale                | orange              | 1                   |\n",
       "| none                | pale                | pink                | 1                   |\n",
       "| none                | pale                | white               | 1                   |\n",
       "| none                | red                 | yellow              | 1                   |\n",
       "| none                | red, blue, white    | black               | 1                   |\n",
       "| none                | silver, red         | red, blue           | 1                   |\n",
       "| none                | white, blue         | black               | 1                   |\n",
       "| unknown             | unknown             | unknown             | 1                   |\n",
       "| white               | fair                | blue                | 1                   |\n",
       "| white               | fair                | brown               | 1                   |\n",
       "| white               | green               | brown               | 1                   |\n",
       "| white               | pale                | yellow              | 1                   |\n",
       "| NA                  | gold                | yellow              | 1                   |\n",
       "| NA                  | green               | black               | 1                   |\n",
       "| NA                  | green-tan, brown    | orange              | 1                   |\n",
       "| NA                  | white, blue         | red                 | 1                   |\n",
       "| NA                  | white, red          | red                 | 1                   |\n",
       "\n"
      ],
      "text/plain": [
       "    hair_color    skin_color          eye_color n  \n",
       "1   brown         light               brown     6  \n",
       "2   brown         fair                blue      4  \n",
       "3   none          grey                black     4  \n",
       "4   black         dark                brown     3  \n",
       "5   blond         fair                blue      3  \n",
       "6   black         fair                brown     2  \n",
       "7   black         tan                 brown     2  \n",
       "8   black         yellow              blue      2  \n",
       "9   brown         fair                brown     2  \n",
       "10  none          white               yellow    2  \n",
       "11  auburn        fair                blue      1  \n",
       "12  auburn, grey  fair                blue      1  \n",
       "13  auburn, white fair                blue-gray 1  \n",
       "14  black         blue, grey          yellow    1  \n",
       "15  black         brown               brown     1  \n",
       "16  black         dark                dark      1  \n",
       "17  black         light               brown     1  \n",
       "18  blonde        fair, green, yellow yellow    1  \n",
       "19  brown         brown               blue      1  \n",
       "20  brown         brown               brown     1  \n",
       "21  brown         fair                hazel     1  \n",
       "22  brown         light               blue      1  \n",
       "23  brown         light               hazel     1  \n",
       "24  brown         unknown             blue      1  \n",
       "25  brown, grey   light               blue      1  \n",
       "26  grey          pale                yellow    1  \n",
       "27  none          blue                blue      1  \n",
       "28  none          blue                hazel     1  \n",
       "29  none          blue, grey          yellow    1  \n",
       "30  none          brown               yellow    1  \n",
       "... ...           ...                 ...       ...\n",
       "38  none          green               yellow    1  \n",
       "39  none          green, grey         unknown   1  \n",
       "40  none          grey                gold      1  \n",
       "41  none          grey                orange    1  \n",
       "42  none          grey, blue          unknown   1  \n",
       "43  none          grey, green, yellow orange    1  \n",
       "44  none          grey, red           orange    1  \n",
       "45  none          light               blue      1  \n",
       "46  none          metal               red       1  \n",
       "47  none          mottled green       red       1  \n",
       "48  none          none                black     1  \n",
       "49  none          orange              black     1  \n",
       "50  none          orange              orange    1  \n",
       "51  none          pale                orange    1  \n",
       "52  none          pale                pink      1  \n",
       "53  none          pale                white     1  \n",
       "54  none          red                 yellow    1  \n",
       "55  none          red, blue, white    black     1  \n",
       "56  none          silver, red         red, blue 1  \n",
       "57  none          white, blue         black     1  \n",
       "58  unknown       unknown             unknown   1  \n",
       "59  white         fair                blue      1  \n",
       "60  white         fair                brown     1  \n",
       "61  white         green               brown     1  \n",
       "62  white         pale                yellow    1  \n",
       "63  NA            gold                yellow    1  \n",
       "64  NA            green               black     1  \n",
       "65  NA            green-tan, brown    orange    1  \n",
       "66  NA            white, blue         red       1  \n",
       "67  NA            white, red          red       1  "
      ]
     },
     "metadata": {},
     "output_type": "display_data"
    }
   ],
   "source": [
    "starwars %>% count(across(contains('color')), sort = T)"
   ]
  },
  {
   "cell_type": "markdown",
   "metadata": {},
   "source": [
    "<b style = 'color:red'>NOTE: **`across()`** doesn’t work with **`select()`** or **`rename()`** because they already use tidy select syntax<br>if you want to transform column names with a function, you can use **`rename_with()`**.</b>\n",
    "\n"
   ]
  },
  {
   "cell_type": "markdown",
   "metadata": {},
   "source": [
    "# Why `dplyr::across`"
   ]
  },
  {
   "cell_type": "markdown",
   "metadata": {},
   "source": [
    "1. `across()` makes it possible to express useful summaries that were previously impossible:"
   ]
  },
  {
   "cell_type": "code",
   "execution_count": 46,
   "metadata": {},
   "outputs": [
    {
     "data": {
      "text/html": [
       "<table>\n",
       "<thead><tr><th scope=col>Sepal.Length.mean</th><th scope=col>Sepal.Width.mean</th><th scope=col>Petal.Length.mean</th><th scope=col>Petal.Width.mean</th><th scope=col>Number of Species</th><th scope=col>number of observations</th></tr></thead>\n",
       "<tbody>\n",
       "\t<tr><td>5.843333</td><td>3.057333</td><td>3.758   </td><td>1.199333</td><td>3       </td><td>150     </td></tr>\n",
       "</tbody>\n",
       "</table>\n"
      ],
      "text/latex": [
       "\\begin{tabular}{r|llllll}\n",
       " Sepal.Length.mean & Sepal.Width.mean & Petal.Length.mean & Petal.Width.mean & Number of Species & number of observations\\\\\n",
       "\\hline\n",
       "\t 5.843333 & 3.057333 & 3.758    & 1.199333 & 3        & 150     \\\\\n",
       "\\end{tabular}\n"
      ],
      "text/markdown": [
       "\n",
       "| Sepal.Length.mean | Sepal.Width.mean | Petal.Length.mean | Petal.Width.mean | Number of Species | number of observations |\n",
       "|---|---|---|---|---|---|\n",
       "| 5.843333 | 3.057333 | 3.758    | 1.199333 | 3        | 150      |\n",
       "\n"
      ],
      "text/plain": [
       "  Sepal.Length.mean Sepal.Width.mean Petal.Length.mean Petal.Width.mean\n",
       "1 5.843333          3.057333         3.758             1.199333        \n",
       "  Number of Species number of observations\n",
       "1 3                 150                   "
      ]
     },
     "metadata": {},
     "output_type": "display_data"
    }
   ],
   "source": [
    "iris %>% summarize(\n",
    "    across(where(is.numeric), mean, .names = '{.col}.mean'), \n",
    "    across(where(is.factor), nlevels, .names = 'Number of {.col}'),\n",
    "    `number of observations` = n()\n",
    ")"
   ]
  },
  {
   "cell_type": "markdown",
   "metadata": {},
   "source": [
    "2. `across()` reduces the number of functions that dplyr needs to provide. This makes dplyr easier for you to use (because there are fewer functions to remember) and easier for us to implement new verbs (since we only need to implement one function, not four). (No need to learn functions like `summarize_if`, `summarize_at`, ..."
   ]
  }
 ],
 "metadata": {
  "kernelspec": {
   "display_name": "R",
   "language": "R",
   "name": "ir"
  },
  "language_info": {
   "codemirror_mode": "r",
   "file_extension": ".r",
   "mimetype": "text/x-r-source",
   "name": "R",
   "pygments_lexer": "r",
   "version": "3.6.1"
  }
 },
 "nbformat": 4,
 "nbformat_minor": 2
}
