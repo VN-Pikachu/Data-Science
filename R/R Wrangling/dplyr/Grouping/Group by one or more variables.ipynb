{
 "cells": [
  {
   "cell_type": "code",
   "execution_count": 2,
   "metadata": {},
   "outputs": [],
   "source": [
    "library(tidyverse)"
   ]
  },
  {
   "cell_type": "markdown",
   "metadata": {},
   "source": [
    "# Group by one or more variables"
   ]
  },
  {
   "cell_type": "markdown",
   "metadata": {},
   "source": [
    "Most data operations are done on groups defined by variables. `group_by()` takes an existing tbl and converts it into a grouped tbl where operations are performed \"by group\". `ungroup()` removes grouping."
   ]
  },
  {
   "cell_type": "markdown",
   "metadata": {},
   "source": [
    "```R\n",
    "group_by(.data, ..., .add = FALSE, .drop = group_by_drop_default(.data))\n",
    "\n",
    "ungroup(x, ...)\n",
    "```"
   ]
  },
  {
   "cell_type": "markdown",
   "metadata": {},
   "source": [
    "**Arguments**  \n",
    "`...`\t\n",
    "In group_by(), variables or computations to group by. In ungroup(), variables to remove from the grouping."
   ]
  },
  {
   "cell_type": "markdown",
   "metadata": {},
   "source": [
    "# Examples"
   ]
  },
  {
   "cell_type": "code",
   "execution_count": 8,
   "metadata": {},
   "outputs": [
    {
     "data": {
      "text/html": [
       "<table>\n",
       "<thead><tr><th scope=col>clan</th><th scope=col>player</th><th scope=col>power</th><th scope=col>country</th></tr></thead>\n",
       "<tbody>\n",
       "\t<tr><td>VNC        </td><td>Meomeo888  </td><td> 95        </td><td>VN         </td></tr>\n",
       "\t<tr><td>VN         </td><td>VN Van Du  </td><td> 78        </td><td>VN         </td></tr>\n",
       "\t<tr><td>King Allool</td><td>GHOST      </td><td> 75        </td><td>USA        </td></tr>\n",
       "\t<tr><td>VNC        </td><td>VN Pikachu </td><td>100        </td><td>VN         </td></tr>\n",
       "\t<tr><td>King Allool</td><td>Dr Strange </td><td> 90        </td><td>INDIA      </td></tr>\n",
       "\t<tr><td>VN         </td><td>VN Wanie   </td><td> 85        </td><td>VN         </td></tr>\n",
       "</tbody>\n",
       "</table>\n"
      ],
      "text/latex": [
       "\\begin{tabular}{r|llll}\n",
       " clan & player & power & country\\\\\n",
       "\\hline\n",
       "\t VNC         & Meomeo888   &  95         & VN         \\\\\n",
       "\t VN          & VN Van Du   &  78         & VN         \\\\\n",
       "\t King Allool & GHOST       &  75         & USA        \\\\\n",
       "\t VNC         & VN Pikachu  & 100         & VN         \\\\\n",
       "\t King Allool & Dr Strange  &  90         & INDIA      \\\\\n",
       "\t VN          & VN Wanie    &  85         & VN         \\\\\n",
       "\\end{tabular}\n"
      ],
      "text/markdown": [
       "\n",
       "| clan | player | power | country |\n",
       "|---|---|---|---|\n",
       "| VNC         | Meomeo888   |  95         | VN          |\n",
       "| VN          | VN Van Du   |  78         | VN          |\n",
       "| King Allool | GHOST       |  75         | USA         |\n",
       "| VNC         | VN Pikachu  | 100         | VN          |\n",
       "| King Allool | Dr Strange  |  90         | INDIA       |\n",
       "| VN          | VN Wanie    |  85         | VN          |\n",
       "\n"
      ],
      "text/plain": [
       "  clan        player     power country\n",
       "1 VNC         Meomeo888   95   VN     \n",
       "2 VN          VN Van Du   78   VN     \n",
       "3 King Allool GHOST       75   USA    \n",
       "4 VNC         VN Pikachu 100   VN     \n",
       "5 King Allool Dr Strange  90   INDIA  \n",
       "6 VN          VN Wanie    85   VN     "
      ]
     },
     "metadata": {},
     "output_type": "display_data"
    }
   ],
   "source": [
    "TF <- data.frame(\n",
    "    clan = c('VNC', 'VN', 'King Allool', 'VNC', 'King Allool', 'VN'),\n",
    "    player = c('Meomeo888', 'VN Van Du', 'GHOST', 'VN Pikachu', 'Dr Strange', 'VN Wanie'),\n",
    "    power = c(95, 78, 75, 100, 90, 85),\n",
    "    country = c('VN', 'VN', 'USA', 'VN', 'INDIA', 'VN')\n",
    ")\n",
    "TF"
   ]
  },
  {
   "cell_type": "markdown",
   "metadata": {},
   "source": [
    "grouping doesn't change how the data looks (apart from listing\n",
    "how it's grouped):"
   ]
  },
  {
   "cell_type": "code",
   "execution_count": 9,
   "metadata": {},
   "outputs": [
    {
     "data": {
      "text/html": [
       "<table>\n",
       "<thead><tr><th scope=col>clan</th><th scope=col>player</th><th scope=col>power</th><th scope=col>country</th></tr></thead>\n",
       "<tbody>\n",
       "\t<tr><td>VNC        </td><td>Meomeo888  </td><td> 95        </td><td>VN         </td></tr>\n",
       "\t<tr><td>VN         </td><td>VN Van Du  </td><td> 78        </td><td>VN         </td></tr>\n",
       "\t<tr><td>King Allool</td><td>GHOST      </td><td> 75        </td><td>USA        </td></tr>\n",
       "\t<tr><td>VNC        </td><td>VN Pikachu </td><td>100        </td><td>VN         </td></tr>\n",
       "\t<tr><td>King Allool</td><td>Dr Strange </td><td> 90        </td><td>INDIA      </td></tr>\n",
       "\t<tr><td>VN         </td><td>VN Wanie   </td><td> 85        </td><td>VN         </td></tr>\n",
       "</tbody>\n",
       "</table>\n"
      ],
      "text/latex": [
       "\\begin{tabular}{r|llll}\n",
       " clan & player & power & country\\\\\n",
       "\\hline\n",
       "\t VNC         & Meomeo888   &  95         & VN         \\\\\n",
       "\t VN          & VN Van Du   &  78         & VN         \\\\\n",
       "\t King Allool & GHOST       &  75         & USA        \\\\\n",
       "\t VNC         & VN Pikachu  & 100         & VN         \\\\\n",
       "\t King Allool & Dr Strange  &  90         & INDIA      \\\\\n",
       "\t VN          & VN Wanie    &  85         & VN         \\\\\n",
       "\\end{tabular}\n"
      ],
      "text/markdown": [
       "\n",
       "| clan | player | power | country |\n",
       "|---|---|---|---|\n",
       "| VNC         | Meomeo888   |  95         | VN          |\n",
       "| VN          | VN Van Du   |  78         | VN          |\n",
       "| King Allool | GHOST       |  75         | USA         |\n",
       "| VNC         | VN Pikachu  | 100         | VN          |\n",
       "| King Allool | Dr Strange  |  90         | INDIA       |\n",
       "| VN          | VN Wanie    |  85         | VN          |\n",
       "\n"
      ],
      "text/plain": [
       "  clan        player     power country\n",
       "1 VNC         Meomeo888   95   VN     \n",
       "2 VN          VN Van Du   78   VN     \n",
       "3 King Allool GHOST       75   USA    \n",
       "4 VNC         VN Pikachu 100   VN     \n",
       "5 King Allool Dr Strange  90   INDIA  \n",
       "6 VN          VN Wanie    85   VN     "
      ]
     },
     "metadata": {},
     "output_type": "display_data"
    }
   ],
   "source": [
    "TF %>% group_by(clan)"
   ]
  },
  {
   "cell_type": "code",
   "execution_count": 10,
   "metadata": {},
   "outputs": [
    {
     "name": "stderr",
     "output_type": "stream",
     "text": [
      "`summarise()` ungrouping output (override with `.groups` argument)\n"
     ]
    },
    {
     "data": {
      "text/html": [
       "<table>\n",
       "<thead><tr><th scope=col>clan</th><th scope=col>power</th></tr></thead>\n",
       "<tbody>\n",
       "\t<tr><td>King Allool</td><td>82.5       </td></tr>\n",
       "\t<tr><td>VN         </td><td>81.5       </td></tr>\n",
       "\t<tr><td>VNC        </td><td>97.5       </td></tr>\n",
       "</tbody>\n",
       "</table>\n"
      ],
      "text/latex": [
       "\\begin{tabular}{r|ll}\n",
       " clan & power\\\\\n",
       "\\hline\n",
       "\t King Allool & 82.5       \\\\\n",
       "\t VN          & 81.5       \\\\\n",
       "\t VNC         & 97.5       \\\\\n",
       "\\end{tabular}\n"
      ],
      "text/markdown": [
       "\n",
       "| clan | power |\n",
       "|---|---|\n",
       "| King Allool | 82.5        |\n",
       "| VN          | 81.5        |\n",
       "| VNC         | 97.5        |\n",
       "\n"
      ],
      "text/plain": [
       "  clan        power\n",
       "1 King Allool 82.5 \n",
       "2 VN          81.5 \n",
       "3 VNC         97.5 "
      ]
     },
     "metadata": {},
     "output_type": "display_data"
    }
   ],
   "source": [
    "#Average power for each clan\n",
    "TF %>% group_by(clan) %>% summarize(power = mean(power))"
   ]
  },
  {
   "cell_type": "code",
   "execution_count": 11,
   "metadata": {},
   "outputs": [
    {
     "data": {
      "text/html": [
       "<table>\n",
       "<thead><tr><th scope=col>clan</th><th scope=col>player</th><th scope=col>power</th><th scope=col>country</th></tr></thead>\n",
       "<tbody>\n",
       "\t<tr><td>VNC        </td><td>Meomeo888  </td><td> 95        </td><td>VN         </td></tr>\n",
       "\t<tr><td>VNC        </td><td>VN Pikachu </td><td>100        </td><td>VN         </td></tr>\n",
       "\t<tr><td>King Allool</td><td>Dr Strange </td><td> 90        </td><td>INDIA      </td></tr>\n",
       "</tbody>\n",
       "</table>\n"
      ],
      "text/latex": [
       "\\begin{tabular}{r|llll}\n",
       " clan & player & power & country\\\\\n",
       "\\hline\n",
       "\t VNC         & Meomeo888   &  95         & VN         \\\\\n",
       "\t VNC         & VN Pikachu  & 100         & VN         \\\\\n",
       "\t King Allool & Dr Strange  &  90         & INDIA      \\\\\n",
       "\\end{tabular}\n"
      ],
      "text/markdown": [
       "\n",
       "| clan | player | power | country |\n",
       "|---|---|---|---|\n",
       "| VNC         | Meomeo888   |  95         | VN          |\n",
       "| VNC         | VN Pikachu  | 100         | VN          |\n",
       "| King Allool | Dr Strange  |  90         | INDIA       |\n",
       "\n"
      ],
      "text/plain": [
       "  clan        player     power country\n",
       "1 VNC         Meomeo888   95   VN     \n",
       "2 VNC         VN Pikachu 100   VN     \n",
       "3 King Allool Dr Strange  90   INDIA  "
      ]
     },
     "metadata": {},
     "output_type": "display_data"
    }
   ],
   "source": [
    "#For each clan, filter players having power >= 90\n",
    "TF %>% group_by(clan) %>% filter(power >= 90)"
   ]
  },
  {
   "cell_type": "markdown",
   "metadata": {},
   "source": [
    "Each call to `summarise()` removes a layer of grouping"
   ]
  },
  {
   "cell_type": "code",
   "execution_count": 13,
   "metadata": {},
   "outputs": [
    {
     "name": "stderr",
     "output_type": "stream",
     "text": [
      "`summarise()` regrouping output by 'clan' (override with `.groups` argument)\n"
     ]
    },
    {
     "data": {
      "text/html": [
       "<table>\n",
       "<thead><tr><th scope=col>clan</th><th scope=col>country</th><th scope=col>n</th></tr></thead>\n",
       "<tbody>\n",
       "\t<tr><td>King Allool</td><td>INDIA      </td><td>1          </td></tr>\n",
       "\t<tr><td>King Allool</td><td>USA        </td><td>1          </td></tr>\n",
       "\t<tr><td>VN         </td><td>VN         </td><td>2          </td></tr>\n",
       "\t<tr><td>VNC        </td><td>VN         </td><td>2          </td></tr>\n",
       "</tbody>\n",
       "</table>\n"
      ],
      "text/latex": [
       "\\begin{tabular}{r|lll}\n",
       " clan & country & n\\\\\n",
       "\\hline\n",
       "\t King Allool & INDIA       & 1          \\\\\n",
       "\t King Allool & USA         & 1          \\\\\n",
       "\t VN          & VN          & 2          \\\\\n",
       "\t VNC         & VN          & 2          \\\\\n",
       "\\end{tabular}\n"
      ],
      "text/markdown": [
       "\n",
       "| clan | country | n |\n",
       "|---|---|---|\n",
       "| King Allool | INDIA       | 1           |\n",
       "| King Allool | USA         | 1           |\n",
       "| VN          | VN          | 2           |\n",
       "| VNC         | VN          | 2           |\n",
       "\n"
      ],
      "text/plain": [
       "  clan        country n\n",
       "1 King Allool INDIA   1\n",
       "2 King Allool USA     1\n",
       "3 VN          VN      2\n",
       "4 VNC         VN      2"
      ]
     },
     "metadata": {},
     "output_type": "display_data"
    }
   ],
   "source": [
    "v <- TF %>% group_by(clan, country) %>% summarize(n = n())\n",
    "v"
   ]
  },
  {
   "cell_type": "code",
   "execution_count": 14,
   "metadata": {},
   "outputs": [
    {
     "name": "stderr",
     "output_type": "stream",
     "text": [
      "`summarise()` ungrouping output (override with `.groups` argument)\n"
     ]
    },
    {
     "data": {
      "text/html": [
       "<table>\n",
       "<thead><tr><th scope=col>clan</th><th scope=col>n</th></tr></thead>\n",
       "<tbody>\n",
       "\t<tr><td>King Allool</td><td>2          </td></tr>\n",
       "\t<tr><td>VN         </td><td>2          </td></tr>\n",
       "\t<tr><td>VNC        </td><td>2          </td></tr>\n",
       "</tbody>\n",
       "</table>\n"
      ],
      "text/latex": [
       "\\begin{tabular}{r|ll}\n",
       " clan & n\\\\\n",
       "\\hline\n",
       "\t King Allool & 2          \\\\\n",
       "\t VN          & 2          \\\\\n",
       "\t VNC         & 2          \\\\\n",
       "\\end{tabular}\n"
      ],
      "text/markdown": [
       "\n",
       "| clan | n |\n",
       "|---|---|\n",
       "| King Allool | 2           |\n",
       "| VN          | 2           |\n",
       "| VNC         | 2           |\n",
       "\n"
      ],
      "text/plain": [
       "  clan        n\n",
       "1 King Allool 2\n",
       "2 VN          2\n",
       "3 VNC         2"
      ]
     },
     "metadata": {},
     "output_type": "display_data"
    }
   ],
   "source": [
    "v %>% summarize(n = sum(n))"
   ]
  },
  {
   "cell_type": "markdown",
   "metadata": {},
   "source": [
    "To removing grouping, use `ungroup()`"
   ]
  },
  {
   "cell_type": "code",
   "execution_count": 16,
   "metadata": {},
   "outputs": [
    {
     "data": {
      "text/html": [
       "<table>\n",
       "<thead><tr><th scope=col>n</th></tr></thead>\n",
       "<tbody>\n",
       "\t<tr><td>6</td></tr>\n",
       "</tbody>\n",
       "</table>\n"
      ],
      "text/latex": [
       "\\begin{tabular}{r|l}\n",
       " n\\\\\n",
       "\\hline\n",
       "\t 6\\\\\n",
       "\\end{tabular}\n"
      ],
      "text/markdown": [
       "\n",
       "| n |\n",
       "|---|\n",
       "| 6 |\n",
       "\n"
      ],
      "text/plain": [
       "  n\n",
       "1 6"
      ]
     },
     "metadata": {},
     "output_type": "display_data"
    }
   ],
   "source": [
    "v %>% ungroup() %>% summarize(n = sum(n))"
   ]
  },
  {
   "cell_type": "markdown",
   "metadata": {},
   "source": [
    "You can group by expressions: this is just short-hand for\n",
    "a mutate() followed by a group_by()"
   ]
  },
  {
   "cell_type": "code",
   "execution_count": 18,
   "metadata": {},
   "outputs": [
    {
     "name": "stderr",
     "output_type": "stream",
     "text": [
      "`summarise()` ungrouping output (override with `.groups` argument)\n"
     ]
    },
    {
     "data": {
      "text/html": [
       "<table>\n",
       "<thead><tr><th scope=col>substr(clan, 1, 1)</th><th scope=col>power</th></tr></thead>\n",
       "<tbody>\n",
       "\t<tr><td>K   </td><td>82.5</td></tr>\n",
       "\t<tr><td>V   </td><td>89.5</td></tr>\n",
       "</tbody>\n",
       "</table>\n"
      ],
      "text/latex": [
       "\\begin{tabular}{r|ll}\n",
       " substr(clan, 1, 1) & power\\\\\n",
       "\\hline\n",
       "\t K    & 82.5\\\\\n",
       "\t V    & 89.5\\\\\n",
       "\\end{tabular}\n"
      ],
      "text/markdown": [
       "\n",
       "| substr(clan, 1, 1) | power |\n",
       "|---|---|\n",
       "| K    | 82.5 |\n",
       "| V    | 89.5 |\n",
       "\n"
      ],
      "text/plain": [
       "  substr(clan, 1, 1) power\n",
       "1 K                  82.5 \n",
       "2 V                  89.5 "
      ]
     },
     "metadata": {},
     "output_type": "display_data"
    }
   ],
   "source": [
    "TF %>% group_by(substr(clan, 1, 1)) %>% summarize(power = mean(power))"
   ]
  },
  {
   "cell_type": "markdown",
   "metadata": {},
   "source": [
    "By default, group_by() overrides existing grouping"
   ]
  },
  {
   "cell_type": "code",
   "execution_count": 19,
   "metadata": {},
   "outputs": [
    {
     "data": {
      "text/html": [
       "'country'"
      ],
      "text/latex": [
       "'country'"
      ],
      "text/markdown": [
       "'country'"
      ],
      "text/plain": [
       "[1] \"country\""
      ]
     },
     "metadata": {},
     "output_type": "display_data"
    }
   ],
   "source": [
    "TF %>% group_by(clan) %>% group_by(country) %>% group_vars()"
   ]
  },
  {
   "cell_type": "markdown",
   "metadata": {},
   "source": [
    "Use `add = TRUE` to instead append"
   ]
  },
  {
   "cell_type": "code",
   "execution_count": 20,
   "metadata": {},
   "outputs": [
    {
     "data": {
      "text/html": [
       "<ol class=list-inline>\n",
       "\t<li>'clan'</li>\n",
       "\t<li>'country'</li>\n",
       "</ol>\n"
      ],
      "text/latex": [
       "\\begin{enumerate*}\n",
       "\\item 'clan'\n",
       "\\item 'country'\n",
       "\\end{enumerate*}\n"
      ],
      "text/markdown": [
       "1. 'clan'\n",
       "2. 'country'\n",
       "\n",
       "\n"
      ],
      "text/plain": [
       "[1] \"clan\"    \"country\""
      ]
     },
     "metadata": {},
     "output_type": "display_data"
    }
   ],
   "source": [
    "TF %>% group_by(clan) %>% group_by(country, .add = TRUE) %>% group_vars()"
   ]
  },
  {
   "cell_type": "markdown",
   "metadata": {},
   "source": [
    "when factors are involved and `.drop = FALSE`, groups can be empty"
   ]
  },
  {
   "cell_type": "code",
   "execution_count": 21,
   "metadata": {},
   "outputs": [
    {
     "data": {
      "text/html": [
       "<table>\n",
       "<thead><tr><th scope=col>x</th><th scope=col>y</th></tr></thead>\n",
       "<tbody>\n",
       "\t<tr><td> 1</td><td>a </td></tr>\n",
       "\t<tr><td> 2</td><td>a </td></tr>\n",
       "\t<tr><td> 3</td><td>a </td></tr>\n",
       "\t<tr><td> 4</td><td>a </td></tr>\n",
       "\t<tr><td> 5</td><td>a </td></tr>\n",
       "\t<tr><td> 6</td><td>c </td></tr>\n",
       "\t<tr><td> 7</td><td>c </td></tr>\n",
       "\t<tr><td> 8</td><td>c </td></tr>\n",
       "\t<tr><td> 9</td><td>c </td></tr>\n",
       "\t<tr><td>10</td><td>c </td></tr>\n",
       "</tbody>\n",
       "</table>\n"
      ],
      "text/latex": [
       "\\begin{tabular}{r|ll}\n",
       " x & y\\\\\n",
       "\\hline\n",
       "\t  1 & a \\\\\n",
       "\t  2 & a \\\\\n",
       "\t  3 & a \\\\\n",
       "\t  4 & a \\\\\n",
       "\t  5 & a \\\\\n",
       "\t  6 & c \\\\\n",
       "\t  7 & c \\\\\n",
       "\t  8 & c \\\\\n",
       "\t  9 & c \\\\\n",
       "\t 10 & c \\\\\n",
       "\\end{tabular}\n"
      ],
      "text/markdown": [
       "\n",
       "| x | y |\n",
       "|---|---|\n",
       "|  1 | a  |\n",
       "|  2 | a  |\n",
       "|  3 | a  |\n",
       "|  4 | a  |\n",
       "|  5 | a  |\n",
       "|  6 | c  |\n",
       "|  7 | c  |\n",
       "|  8 | c  |\n",
       "|  9 | c  |\n",
       "| 10 | c  |\n",
       "\n"
      ],
      "text/plain": [
       "   x  y\n",
       "1   1 a\n",
       "2   2 a\n",
       "3   3 a\n",
       "4   4 a\n",
       "5   5 a\n",
       "6   6 c\n",
       "7   7 c\n",
       "8   8 c\n",
       "9   9 c\n",
       "10 10 c"
      ]
     },
     "metadata": {},
     "output_type": "display_data"
    }
   ],
   "source": [
    "tbl <- tibble(\n",
    "  x = 1:10,\n",
    "  y = factor(rep(c(\"a\", \"c\"), each  = 5), levels = c(\"a\", \"b\", \"c\"))\n",
    ")\n",
    "tbl"
   ]
  },
  {
   "cell_type": "code",
   "execution_count": 22,
   "metadata": {},
   "outputs": [
    {
     "data": {
      "text/html": [
       "<ol>\n",
       "\t<li><ol class=list-inline>\n",
       "\t<li>1</li>\n",
       "\t<li>2</li>\n",
       "\t<li>3</li>\n",
       "\t<li>4</li>\n",
       "\t<li>5</li>\n",
       "</ol>\n",
       "</li>\n",
       "\t<li></li>\n",
       "\t<li><ol class=list-inline>\n",
       "\t<li>6</li>\n",
       "\t<li>7</li>\n",
       "\t<li>8</li>\n",
       "\t<li>9</li>\n",
       "\t<li>10</li>\n",
       "</ol>\n",
       "</li>\n",
       "</ol>\n"
      ],
      "text/latex": [
       "\\begin{enumerate}\n",
       "\\item \\begin{enumerate*}\n",
       "\\item 1\n",
       "\\item 2\n",
       "\\item 3\n",
       "\\item 4\n",
       "\\item 5\n",
       "\\end{enumerate*}\n",
       "\n",
       "\\item \n",
       "\\item \\begin{enumerate*}\n",
       "\\item 6\n",
       "\\item 7\n",
       "\\item 8\n",
       "\\item 9\n",
       "\\item 10\n",
       "\\end{enumerate*}\n",
       "\n",
       "\\end{enumerate}\n"
      ],
      "text/markdown": [
       "1. 1. 1\n",
       "2. 2\n",
       "3. 3\n",
       "4. 4\n",
       "5. 5\n",
       "\n",
       "\n",
       "\n",
       "2. \n",
       "3. 1. 6\n",
       "2. 7\n",
       "3. 8\n",
       "4. 9\n",
       "5. 10\n",
       "\n",
       "\n",
       "\n",
       "\n",
       "\n"
      ],
      "text/plain": [
       "<list_of<integer>[3]>\n",
       "[[1]]\n",
       "[1] 1 2 3 4 5\n",
       "\n",
       "[[2]]\n",
       "integer(0)\n",
       "\n",
       "[[3]]\n",
       "[1]  6  7  8  9 10\n"
      ]
     },
     "metadata": {},
     "output_type": "display_data"
    }
   ],
   "source": [
    "# .drop = FALSE, notice the second row is empty but it is not dropped\n",
    "tbl %>%\n",
    "  group_by(y, .drop = FALSE) %>%\n",
    "  group_rows()"
   ]
  },
  {
   "cell_type": "code",
   "execution_count": 23,
   "metadata": {},
   "outputs": [
    {
     "data": {
      "text/html": [
       "<ol>\n",
       "\t<li><ol class=list-inline>\n",
       "\t<li>1</li>\n",
       "\t<li>2</li>\n",
       "\t<li>3</li>\n",
       "\t<li>4</li>\n",
       "\t<li>5</li>\n",
       "</ol>\n",
       "</li>\n",
       "\t<li><ol class=list-inline>\n",
       "\t<li>6</li>\n",
       "\t<li>7</li>\n",
       "\t<li>8</li>\n",
       "\t<li>9</li>\n",
       "\t<li>10</li>\n",
       "</ol>\n",
       "</li>\n",
       "</ol>\n"
      ],
      "text/latex": [
       "\\begin{enumerate}\n",
       "\\item \\begin{enumerate*}\n",
       "\\item 1\n",
       "\\item 2\n",
       "\\item 3\n",
       "\\item 4\n",
       "\\item 5\n",
       "\\end{enumerate*}\n",
       "\n",
       "\\item \\begin{enumerate*}\n",
       "\\item 6\n",
       "\\item 7\n",
       "\\item 8\n",
       "\\item 9\n",
       "\\item 10\n",
       "\\end{enumerate*}\n",
       "\n",
       "\\end{enumerate}\n"
      ],
      "text/markdown": [
       "1. 1. 1\n",
       "2. 2\n",
       "3. 3\n",
       "4. 4\n",
       "5. 5\n",
       "\n",
       "\n",
       "\n",
       "2. 1. 6\n",
       "2. 7\n",
       "3. 8\n",
       "4. 9\n",
       "5. 10\n",
       "\n",
       "\n",
       "\n",
       "\n",
       "\n"
      ],
      "text/plain": [
       "<list_of<integer>[2]>\n",
       "[[1]]\n",
       "[1] 1 2 3 4 5\n",
       "\n",
       "[[2]]\n",
       "[1]  6  7  8  9 10\n"
      ]
     },
     "metadata": {},
     "output_type": "display_data"
    }
   ],
   "source": [
    "# .drop = TRUE, there is no empty row\n",
    "tbl %>%\n",
    "  group_by(y, .drop = TRUE) %>%\n",
    "  group_rows()"
   ]
  },
  {
   "cell_type": "code",
   "execution_count": null,
   "metadata": {},
   "outputs": [],
   "source": []
  }
 ],
 "metadata": {
  "kernelspec": {
   "display_name": "R",
   "language": "R",
   "name": "ir"
  },
  "language_info": {
   "codemirror_mode": "r",
   "file_extension": ".r",
   "mimetype": "text/x-r-source",
   "name": "R",
   "pygments_lexer": "r",
   "version": "3.6.1"
  }
 },
 "nbformat": 4,
 "nbformat_minor": 2
}
