{
 "cells": [
  {
   "cell_type": "code",
   "execution_count": 2,
   "metadata": {},
   "outputs": [],
   "source": [
    "library(tidyverse)"
   ]
  },
  {
   "cell_type": "markdown",
   "metadata": {},
   "source": [
    "# Select grouping variables"
   ]
  },
  {
   "cell_type": "markdown",
   "metadata": {},
   "source": [
    "This selection helpers matches grouping variables. It can be used in select() or vars() selections."
   ]
  },
  {
   "cell_type": "markdown",
   "metadata": {},
   "source": [
    "```R\n",
    "group_cols(vars = NULL, data = NULL)\n",
    "```"
   ]
  },
  {
   "cell_type": "markdown",
   "metadata": {},
   "source": [
    "**Arguments**  \n",
    "`vars`\t\n",
    "Deprecated; please use data instead.\n",
    "\n",
    "`data`\t\n",
    "For advanced use only. The default NULL automatically finds the \"current\" data frames."
   ]
  },
  {
   "cell_type": "markdown",
   "metadata": {},
   "source": [
    "# Examples"
   ]
  },
  {
   "cell_type": "code",
   "execution_count": 6,
   "metadata": {},
   "outputs": [
    {
     "data": {
      "text/html": [
       "<table>\n",
       "<thead><tr><th scope=col>clan</th><th scope=col>player</th><th scope=col>power</th><th scope=col>country</th></tr></thead>\n",
       "<tbody>\n",
       "\t<tr><td>VNC        </td><td>Meomeo888  </td><td> 95        </td><td>VN         </td></tr>\n",
       "\t<tr><td>VN         </td><td>VN Van Du  </td><td> 78        </td><td>VN         </td></tr>\n",
       "\t<tr><td>King Allool</td><td>GHOST      </td><td> 75        </td><td>USA        </td></tr>\n",
       "\t<tr><td>VNC        </td><td>VN Pikachu </td><td>100        </td><td>VN         </td></tr>\n",
       "\t<tr><td>King Allool</td><td>Dr Strange </td><td> 90        </td><td>INDIA      </td></tr>\n",
       "\t<tr><td>VN         </td><td>VN Wanie   </td><td> 85        </td><td>VN         </td></tr>\n",
       "</tbody>\n",
       "</table>\n"
      ],
      "text/latex": [
       "\\begin{tabular}{r|llll}\n",
       " clan & player & power & country\\\\\n",
       "\\hline\n",
       "\t VNC         & Meomeo888   &  95         & VN         \\\\\n",
       "\t VN          & VN Van Du   &  78         & VN         \\\\\n",
       "\t King Allool & GHOST       &  75         & USA        \\\\\n",
       "\t VNC         & VN Pikachu  & 100         & VN         \\\\\n",
       "\t King Allool & Dr Strange  &  90         & INDIA      \\\\\n",
       "\t VN          & VN Wanie    &  85         & VN         \\\\\n",
       "\\end{tabular}\n"
      ],
      "text/markdown": [
       "\n",
       "| clan | player | power | country |\n",
       "|---|---|---|---|\n",
       "| VNC         | Meomeo888   |  95         | VN          |\n",
       "| VN          | VN Van Du   |  78         | VN          |\n",
       "| King Allool | GHOST       |  75         | USA         |\n",
       "| VNC         | VN Pikachu  | 100         | VN          |\n",
       "| King Allool | Dr Strange  |  90         | INDIA       |\n",
       "| VN          | VN Wanie    |  85         | VN          |\n",
       "\n"
      ],
      "text/plain": [
       "  clan        player     power country\n",
       "1 VNC         Meomeo888   95   VN     \n",
       "2 VN          VN Van Du   78   VN     \n",
       "3 King Allool GHOST       75   USA    \n",
       "4 VNC         VN Pikachu 100   VN     \n",
       "5 King Allool Dr Strange  90   INDIA  \n",
       "6 VN          VN Wanie    85   VN     "
      ]
     },
     "metadata": {},
     "output_type": "display_data"
    }
   ],
   "source": [
    "TF <- data.frame(\n",
    "    clan = c('VNC', 'VN', 'King Allool', 'VNC', 'King Allool', 'VN'),\n",
    "    player = c('Meomeo888', 'VN Van Du', 'GHOST', 'VN Pikachu', 'Dr Strange', 'VN Wanie'),\n",
    "    power = c(95, 78, 75, 100, 90, 85),\n",
    "    country = c('VN', 'VN', 'USA', 'VN', 'INDIA', 'VN')\n",
    ")\n",
    "TF"
   ]
  },
  {
   "cell_type": "code",
   "execution_count": 8,
   "metadata": {},
   "outputs": [
    {
     "data": {
      "text/html": [
       "<table>\n",
       "<thead><tr><th scope=col>clan</th></tr></thead>\n",
       "<tbody>\n",
       "\t<tr><td>VNC        </td></tr>\n",
       "\t<tr><td>VN         </td></tr>\n",
       "\t<tr><td>King Allool</td></tr>\n",
       "\t<tr><td>VNC        </td></tr>\n",
       "\t<tr><td>King Allool</td></tr>\n",
       "\t<tr><td>VN         </td></tr>\n",
       "</tbody>\n",
       "</table>\n"
      ],
      "text/latex": [
       "\\begin{tabular}{r|l}\n",
       " clan\\\\\n",
       "\\hline\n",
       "\t VNC        \\\\\n",
       "\t VN         \\\\\n",
       "\t King Allool\\\\\n",
       "\t VNC        \\\\\n",
       "\t King Allool\\\\\n",
       "\t VN         \\\\\n",
       "\\end{tabular}\n"
      ],
      "text/markdown": [
       "\n",
       "| clan |\n",
       "|---|\n",
       "| VNC         |\n",
       "| VN          |\n",
       "| King Allool |\n",
       "| VNC         |\n",
       "| King Allool |\n",
       "| VN          |\n",
       "\n"
      ],
      "text/plain": [
       "  clan       \n",
       "1 VNC        \n",
       "2 VN         \n",
       "3 King Allool\n",
       "4 VNC        \n",
       "5 King Allool\n",
       "6 VN         "
      ]
     },
     "metadata": {},
     "output_type": "display_data"
    }
   ],
   "source": [
    "TF %>% \n",
    "group_by(clan) %>% select(group_cols())  # select columns used for grouping"
   ]
  },
  {
   "cell_type": "code",
   "execution_count": 9,
   "metadata": {},
   "outputs": [
    {
     "data": {
      "text/html": [
       "<table>\n",
       "<thead><tr><th scope=col>clan</th><th scope=col>country</th></tr></thead>\n",
       "<tbody>\n",
       "\t<tr><td>VNC        </td><td>VN         </td></tr>\n",
       "\t<tr><td>VN         </td><td>VN         </td></tr>\n",
       "\t<tr><td>King Allool</td><td>USA        </td></tr>\n",
       "\t<tr><td>VNC        </td><td>VN         </td></tr>\n",
       "\t<tr><td>King Allool</td><td>INDIA      </td></tr>\n",
       "\t<tr><td>VN         </td><td>VN         </td></tr>\n",
       "</tbody>\n",
       "</table>\n"
      ],
      "text/latex": [
       "\\begin{tabular}{r|ll}\n",
       " clan & country\\\\\n",
       "\\hline\n",
       "\t VNC         & VN         \\\\\n",
       "\t VN          & VN         \\\\\n",
       "\t King Allool & USA        \\\\\n",
       "\t VNC         & VN         \\\\\n",
       "\t King Allool & INDIA      \\\\\n",
       "\t VN          & VN         \\\\\n",
       "\\end{tabular}\n"
      ],
      "text/markdown": [
       "\n",
       "| clan | country |\n",
       "|---|---|\n",
       "| VNC         | VN          |\n",
       "| VN          | VN          |\n",
       "| King Allool | USA         |\n",
       "| VNC         | VN          |\n",
       "| King Allool | INDIA       |\n",
       "| VN          | VN          |\n",
       "\n"
      ],
      "text/plain": [
       "  clan        country\n",
       "1 VNC         VN     \n",
       "2 VN          VN     \n",
       "3 King Allool USA    \n",
       "4 VNC         VN     \n",
       "5 King Allool INDIA  \n",
       "6 VN          VN     "
      ]
     },
     "metadata": {},
     "output_type": "display_data"
    }
   ],
   "source": [
    "TF %>% \n",
    "group_by(clan, country) %>% \n",
    "select(group_cols())         # select columns used for grouping"
   ]
  }
 ],
 "metadata": {
  "kernelspec": {
   "display_name": "R",
   "language": "R",
   "name": "ir"
  },
  "language_info": {
   "codemirror_mode": "r",
   "file_extension": ".r",
   "mimetype": "text/x-r-source",
   "name": "R",
   "pygments_lexer": "r",
   "version": "3.6.1"
  }
 },
 "nbformat": 4,
 "nbformat_minor": 2
}
