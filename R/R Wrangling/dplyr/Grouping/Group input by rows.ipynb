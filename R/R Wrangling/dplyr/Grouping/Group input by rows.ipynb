{
 "cells": [
  {
   "cell_type": "code",
   "execution_count": 2,
   "metadata": {},
   "outputs": [],
   "source": [
    "library(tidyverse)"
   ]
  },
  {
   "cell_type": "markdown",
   "metadata": {},
   "source": [
    "# Group input by rows"
   ]
  },
  {
   "cell_type": "markdown",
   "metadata": {},
   "source": [
    "`rowwise()` allows you to compute on a data frame a row-at-a-time. This is most useful when a vectorised function doesn't exist.\n",
    "\n",
    "Most dplyr verbs preserve row-wise grouping. The exception is `summarise()`, which return a `grouped_df`. You can explicitly ungroup with `ungroup()` or `as_tibble()`, or convert to a grouped_df with `group_by()`."
   ]
  },
  {
   "cell_type": "markdown",
   "metadata": {},
   "source": [
    "```R\n",
    "rowwise(data, ...)\n",
    "```"
   ]
  },
  {
   "cell_type": "markdown",
   "metadata": {},
   "source": [
    "# Examples"
   ]
  },
  {
   "cell_type": "code",
   "execution_count": 4,
   "metadata": {},
   "outputs": [
    {
     "data": {
      "text/html": [
       "<table>\n",
       "<thead><tr><th scope=col>x</th><th scope=col>y</th><th scope=col>z</th><th scope=col>m</th></tr></thead>\n",
       "<tbody>\n",
       "\t<tr><td>0.73382409</td><td>0.30498552</td><td>0.36696888</td><td>0.4685928 </td></tr>\n",
       "\t<tr><td>0.38861898</td><td>0.49776658</td><td>0.81855870</td><td>0.5683148 </td></tr>\n",
       "\t<tr><td>0.45411062</td><td>0.65161103</td><td>0.01952812</td><td>0.3750833 </td></tr>\n",
       "\t<tr><td>0.05591376</td><td>0.16763634</td><td>0.76291700</td><td>0.3288224 </td></tr>\n",
       "\t<tr><td>0.83464217</td><td>0.61396142</td><td>0.80867060</td><td>0.7524247 </td></tr>\n",
       "\t<tr><td>0.26627651</td><td>0.09878392</td><td>0.92598392</td><td>0.4303481 </td></tr>\n",
       "</tbody>\n",
       "</table>\n"
      ],
      "text/latex": [
       "\\begin{tabular}{r|llll}\n",
       " x & y & z & m\\\\\n",
       "\\hline\n",
       "\t 0.73382409 & 0.30498552 & 0.36696888 & 0.4685928 \\\\\n",
       "\t 0.38861898 & 0.49776658 & 0.81855870 & 0.5683148 \\\\\n",
       "\t 0.45411062 & 0.65161103 & 0.01952812 & 0.3750833 \\\\\n",
       "\t 0.05591376 & 0.16763634 & 0.76291700 & 0.3288224 \\\\\n",
       "\t 0.83464217 & 0.61396142 & 0.80867060 & 0.7524247 \\\\\n",
       "\t 0.26627651 & 0.09878392 & 0.92598392 & 0.4303481 \\\\\n",
       "\\end{tabular}\n"
      ],
      "text/markdown": [
       "\n",
       "| x | y | z | m |\n",
       "|---|---|---|---|\n",
       "| 0.73382409 | 0.30498552 | 0.36696888 | 0.4685928  |\n",
       "| 0.38861898 | 0.49776658 | 0.81855870 | 0.5683148  |\n",
       "| 0.45411062 | 0.65161103 | 0.01952812 | 0.3750833  |\n",
       "| 0.05591376 | 0.16763634 | 0.76291700 | 0.3288224  |\n",
       "| 0.83464217 | 0.61396142 | 0.80867060 | 0.7524247  |\n",
       "| 0.26627651 | 0.09878392 | 0.92598392 | 0.4303481  |\n",
       "\n"
      ],
      "text/plain": [
       "  x          y          z          m        \n",
       "1 0.73382409 0.30498552 0.36696888 0.4685928\n",
       "2 0.38861898 0.49776658 0.81855870 0.5683148\n",
       "3 0.45411062 0.65161103 0.01952812 0.3750833\n",
       "4 0.05591376 0.16763634 0.76291700 0.3288224\n",
       "5 0.83464217 0.61396142 0.80867060 0.7524247\n",
       "6 0.26627651 0.09878392 0.92598392 0.4303481"
      ]
     },
     "metadata": {},
     "output_type": "display_data"
    }
   ],
   "source": [
    "df <- tibble(x = runif(6), y = runif(6), z = runif(6))\n",
    "# Compute the mean of x, y, z in each row\n",
    "df %>% rowwise() %>% mutate(m = mean(c(x, y, z)))"
   ]
  },
  {
   "cell_type": "code",
   "execution_count": 6,
   "metadata": {},
   "outputs": [
    {
     "data": {
      "text/html": [
       "<table>\n",
       "<thead><tr><th scope=col>x</th><th scope=col>y</th><th scope=col>z</th><th scope=col>m</th></tr></thead>\n",
       "<tbody>\n",
       "\t<tr><td>0.73382409</td><td>0.30498552</td><td>0.36696888</td><td>0.4685928 </td></tr>\n",
       "\t<tr><td>0.38861898</td><td>0.49776658</td><td>0.81855870</td><td>0.5683148 </td></tr>\n",
       "\t<tr><td>0.45411062</td><td>0.65161103</td><td>0.01952812</td><td>0.3750833 </td></tr>\n",
       "\t<tr><td>0.05591376</td><td>0.16763634</td><td>0.76291700</td><td>0.3288224 </td></tr>\n",
       "\t<tr><td>0.83464217</td><td>0.61396142</td><td>0.80867060</td><td>0.7524247 </td></tr>\n",
       "\t<tr><td>0.26627651</td><td>0.09878392</td><td>0.92598392</td><td>0.4303481 </td></tr>\n",
       "</tbody>\n",
       "</table>\n"
      ],
      "text/latex": [
       "\\begin{tabular}{r|llll}\n",
       " x & y & z & m\\\\\n",
       "\\hline\n",
       "\t 0.73382409 & 0.30498552 & 0.36696888 & 0.4685928 \\\\\n",
       "\t 0.38861898 & 0.49776658 & 0.81855870 & 0.5683148 \\\\\n",
       "\t 0.45411062 & 0.65161103 & 0.01952812 & 0.3750833 \\\\\n",
       "\t 0.05591376 & 0.16763634 & 0.76291700 & 0.3288224 \\\\\n",
       "\t 0.83464217 & 0.61396142 & 0.80867060 & 0.7524247 \\\\\n",
       "\t 0.26627651 & 0.09878392 & 0.92598392 & 0.4303481 \\\\\n",
       "\\end{tabular}\n"
      ],
      "text/markdown": [
       "\n",
       "| x | y | z | m |\n",
       "|---|---|---|---|\n",
       "| 0.73382409 | 0.30498552 | 0.36696888 | 0.4685928  |\n",
       "| 0.38861898 | 0.49776658 | 0.81855870 | 0.5683148  |\n",
       "| 0.45411062 | 0.65161103 | 0.01952812 | 0.3750833  |\n",
       "| 0.05591376 | 0.16763634 | 0.76291700 | 0.3288224  |\n",
       "| 0.83464217 | 0.61396142 | 0.80867060 | 0.7524247  |\n",
       "| 0.26627651 | 0.09878392 | 0.92598392 | 0.4303481  |\n",
       "\n"
      ],
      "text/plain": [
       "  x          y          z          m        \n",
       "1 0.73382409 0.30498552 0.36696888 0.4685928\n",
       "2 0.38861898 0.49776658 0.81855870 0.5683148\n",
       "3 0.45411062 0.65161103 0.01952812 0.3750833\n",
       "4 0.05591376 0.16763634 0.76291700 0.3288224\n",
       "5 0.83464217 0.61396142 0.80867060 0.7524247\n",
       "6 0.26627651 0.09878392 0.92598392 0.4303481"
      ]
     },
     "metadata": {},
     "output_type": "display_data"
    }
   ],
   "source": [
    "# use c_across() to more easily select many variables\n",
    "df %>% rowwise() %>% mutate(m = mean(c_across(x:z)))"
   ]
  },
  {
   "cell_type": "code",
   "execution_count": null,
   "metadata": {},
   "outputs": [],
   "source": []
  }
 ],
 "metadata": {
  "kernelspec": {
   "display_name": "R",
   "language": "R",
   "name": "ir"
  },
  "language_info": {
   "codemirror_mode": "r",
   "file_extension": ".r",
   "mimetype": "text/x-r-source",
   "name": "R",
   "pygments_lexer": "r",
   "version": "3.6.1"
  }
 },
 "nbformat": 4,
 "nbformat_minor": 2
}
