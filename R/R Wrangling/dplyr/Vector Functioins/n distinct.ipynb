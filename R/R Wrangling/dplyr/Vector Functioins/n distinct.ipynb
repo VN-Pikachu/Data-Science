{
 "cells": [
  {
   "cell_type": "code",
   "execution_count": 5,
   "metadata": {},
   "outputs": [],
   "source": [
    "library(tidyverse)"
   ]
  },
  {
   "cell_type": "markdown",
   "metadata": {},
   "source": [
    "# Efficiently count the number of unique values in a set of vector"
   ]
  },
  {
   "cell_type": "markdown",
   "metadata": {},
   "source": [
    "**`n_distinct()`**: This is a faster and more concise equivalent of `length(unique(x))`"
   ]
  },
  {
   "cell_type": "markdown",
   "metadata": {},
   "source": [
    "```R\n",
    "n_distinct(..., na.rm = FALSE)\n",
    "```"
   ]
  },
  {
   "cell_type": "markdown",
   "metadata": {},
   "source": [
    "# Examples"
   ]
  },
  {
   "cell_type": "code",
   "execution_count": 2,
   "metadata": {},
   "outputs": [
    {
     "data": {
      "text/html": [
       "<table>\n",
       "<thead><tr><th scope=col>clan</th><th scope=col>player</th></tr></thead>\n",
       "<tbody>\n",
       "\t<tr><td>VNC      </td><td>Tank Cao </td></tr>\n",
       "\t<tr><td>VNC      </td><td>Tank Cao </td></tr>\n",
       "\t<tr><td>Dirilis  </td><td>ETOGRUL  </td></tr>\n",
       "\t<tr><td>Dirilis  </td><td>ARMAGEDON</td></tr>\n",
       "</tbody>\n",
       "</table>\n"
      ],
      "text/latex": [
       "\\begin{tabular}{r|ll}\n",
       " clan & player\\\\\n",
       "\\hline\n",
       "\t VNC       & Tank Cao \\\\\n",
       "\t VNC       & Tank Cao \\\\\n",
       "\t Dirilis   & ETOGRUL  \\\\\n",
       "\t Dirilis   & ARMAGEDON\\\\\n",
       "\\end{tabular}\n"
      ],
      "text/markdown": [
       "\n",
       "| clan | player |\n",
       "|---|---|\n",
       "| VNC       | Tank Cao  |\n",
       "| VNC       | Tank Cao  |\n",
       "| Dirilis   | ETOGRUL   |\n",
       "| Dirilis   | ARMAGEDON |\n",
       "\n"
      ],
      "text/plain": [
       "  clan    player   \n",
       "1 VNC     Tank Cao \n",
       "2 VNC     Tank Cao \n",
       "3 Dirilis ETOGRUL  \n",
       "4 Dirilis ARMAGEDON"
      ]
     },
     "metadata": {},
     "output_type": "display_data"
    }
   ],
   "source": [
    "TF <- data.frame(\n",
    "    clan = c('VNC', 'VNC', 'Dirilis', 'Dirilis'),\n",
    "    player = c('Tank Cao', 'Tank Cao', 'ETOGRUL', 'ARMAGEDON') \n",
    ")\n",
    "\n",
    "TF"
   ]
  },
  {
   "cell_type": "code",
   "execution_count": 6,
   "metadata": {},
   "outputs": [
    {
     "data": {
      "text/html": [
       "3"
      ],
      "text/latex": [
       "3"
      ],
      "text/markdown": [
       "3"
      ],
      "text/plain": [
       "[1] 3"
      ]
     },
     "metadata": {},
     "output_type": "display_data"
    }
   ],
   "source": [
    "#The number of unique row\n",
    "TF %>% n_distinct()"
   ]
  },
  {
   "cell_type": "code",
   "execution_count": 10,
   "metadata": {},
   "outputs": [
    {
     "name": "stderr",
     "output_type": "stream",
     "text": [
      "`summarise()` ungrouping output (override with `.groups` argument)\n"
     ]
    },
    {
     "data": {
      "text/html": [
       "<table>\n",
       "<thead><tr><th scope=col>clan</th><th scope=col>n</th></tr></thead>\n",
       "<tbody>\n",
       "\t<tr><td>Dirilis</td><td>2      </td></tr>\n",
       "\t<tr><td>VNC    </td><td>1      </td></tr>\n",
       "</tbody>\n",
       "</table>\n"
      ],
      "text/latex": [
       "\\begin{tabular}{r|ll}\n",
       " clan & n\\\\\n",
       "\\hline\n",
       "\t Dirilis & 2      \\\\\n",
       "\t VNC     & 1      \\\\\n",
       "\\end{tabular}\n"
      ],
      "text/markdown": [
       "\n",
       "| clan | n |\n",
       "|---|---|\n",
       "| Dirilis | 2       |\n",
       "| VNC     | 1       |\n",
       "\n"
      ],
      "text/plain": [
       "  clan    n\n",
       "1 Dirilis 2\n",
       "2 VNC     1"
      ]
     },
     "metadata": {},
     "output_type": "display_data"
    }
   ],
   "source": [
    "#For each clan, find the number of unique player\n",
    "TF %>%\n",
    "group_by(clan) %>%\n",
    "summarize(n = n_distinct(player))"
   ]
  },
  {
   "cell_type": "code",
   "execution_count": null,
   "metadata": {},
   "outputs": [],
   "source": []
  }
 ],
 "metadata": {
  "kernelspec": {
   "display_name": "R",
   "language": "R",
   "name": "ir"
  },
  "language_info": {
   "codemirror_mode": "r",
   "file_extension": ".r",
   "mimetype": "text/x-r-source",
   "name": "R",
   "pygments_lexer": "r",
   "version": "3.6.1"
  }
 },
 "nbformat": 4,
 "nbformat_minor": 2
}
