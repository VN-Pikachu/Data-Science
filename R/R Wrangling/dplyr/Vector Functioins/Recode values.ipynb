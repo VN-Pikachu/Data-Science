{
 "cells": [
  {
   "cell_type": "code",
   "execution_count": 3,
   "metadata": {},
   "outputs": [],
   "source": [
    "library(tidyverse)"
   ]
  },
  {
   "cell_type": "markdown",
   "metadata": {},
   "source": [
    "# Recode values"
   ]
  },
  {
   "cell_type": "markdown",
   "metadata": {},
   "source": [
    "This is a vectorised version of `switch()`: you can replace numeric values based on their position or their name, and character or factor values only by their name. This is an S3 generic: dplyr provides methods for numeric, character, and factors. For logical vectors, use `if_else()`. For more complicated criteria, use `case_when()`.\n",
    "\n",
    "You can use `recode()` directly with factors; it will preserve the existing order of levels while changing the values. Alternatively, you can use `recode_factor()`, which will change the order of levels to match the order of replacements. See the forcats package for more tools for working with factors and their levels."
   ]
  },
  {
   "cell_type": "markdown",
   "metadata": {},
   "source": [
    "```r\n",
    "recode(.x, ..., .default = NULL, .missing = NULL)\n",
    "\n",
    "recode_factor(.x, ..., .default = NULL, .missing = NULL, .ordered = FALSE)\n",
    "```"
   ]
  },
  {
   "cell_type": "markdown",
   "metadata": {},
   "source": [
    "# Examples"
   ]
  },
  {
   "cell_type": "code",
   "execution_count": 5,
   "metadata": {},
   "outputs": [
    {
     "data": {
      "text/html": [
       "<ol class=list-inline>\n",
       "\t<li>'c'</li>\n",
       "\t<li>'a'</li>\n",
       "\t<li>'b'</li>\n",
       "\t<li>'c'</li>\n",
       "\t<li>'b'</li>\n",
       "\t<li>'b'</li>\n",
       "\t<li>'a'</li>\n",
       "\t<li>'b'</li>\n",
       "\t<li>'b'</li>\n",
       "\t<li>'c'</li>\n",
       "</ol>\n"
      ],
      "text/latex": [
       "\\begin{enumerate*}\n",
       "\\item 'c'\n",
       "\\item 'a'\n",
       "\\item 'b'\n",
       "\\item 'c'\n",
       "\\item 'b'\n",
       "\\item 'b'\n",
       "\\item 'a'\n",
       "\\item 'b'\n",
       "\\item 'b'\n",
       "\\item 'c'\n",
       "\\end{enumerate*}\n"
      ],
      "text/markdown": [
       "1. 'c'\n",
       "2. 'a'\n",
       "3. 'b'\n",
       "4. 'c'\n",
       "5. 'b'\n",
       "6. 'b'\n",
       "7. 'a'\n",
       "8. 'b'\n",
       "9. 'b'\n",
       "10. 'c'\n",
       "\n",
       "\n"
      ],
      "text/plain": [
       " [1] \"c\" \"a\" \"b\" \"c\" \"b\" \"b\" \"a\" \"b\" \"b\" \"c\""
      ]
     },
     "metadata": {},
     "output_type": "display_data"
    }
   ],
   "source": [
    "# For character values, recode values with named arguments only. Unmatched\n",
    "# values are unchanged.\n",
    "char_vec <- sample(c(\"a\", \"b\", \"c\"), 10, replace = TRUE)\n",
    "\n",
    "char_vec"
   ]
  },
  {
   "cell_type": "code",
   "execution_count": 7,
   "metadata": {},
   "outputs": [
    {
     "data": {
      "text/html": [
       "<ol class=list-inline>\n",
       "\t<li>'c'</li>\n",
       "\t<li>'Apple'</li>\n",
       "\t<li>'b'</li>\n",
       "\t<li>'c'</li>\n",
       "\t<li>'b'</li>\n",
       "\t<li>'b'</li>\n",
       "\t<li>'Apple'</li>\n",
       "\t<li>'b'</li>\n",
       "\t<li>'b'</li>\n",
       "\t<li>'c'</li>\n",
       "</ol>\n"
      ],
      "text/latex": [
       "\\begin{enumerate*}\n",
       "\\item 'c'\n",
       "\\item 'Apple'\n",
       "\\item 'b'\n",
       "\\item 'c'\n",
       "\\item 'b'\n",
       "\\item 'b'\n",
       "\\item 'Apple'\n",
       "\\item 'b'\n",
       "\\item 'b'\n",
       "\\item 'c'\n",
       "\\end{enumerate*}\n"
      ],
      "text/markdown": [
       "1. 'c'\n",
       "2. 'Apple'\n",
       "3. 'b'\n",
       "4. 'c'\n",
       "5. 'b'\n",
       "6. 'b'\n",
       "7. 'Apple'\n",
       "8. 'b'\n",
       "9. 'b'\n",
       "10. 'c'\n",
       "\n",
       "\n"
      ],
      "text/plain": [
       " [1] \"c\"     \"Apple\" \"b\"     \"c\"     \"b\"     \"b\"     \"Apple\" \"b\"     \"b\"    \n",
       "[10] \"c\"    "
      ]
     },
     "metadata": {},
     "output_type": "display_data"
    }
   ],
   "source": [
    "recode(char_vec, 'a' = \"Apple\")"
   ]
  },
  {
   "cell_type": "code",
   "execution_count": 8,
   "metadata": {},
   "outputs": [
    {
     "data": {
      "text/html": [
       "<ol class=list-inline>\n",
       "\t<li>'c'</li>\n",
       "\t<li>'Apple'</li>\n",
       "\t<li>'Banana'</li>\n",
       "\t<li>'c'</li>\n",
       "\t<li>'Banana'</li>\n",
       "\t<li>'Banana'</li>\n",
       "\t<li>'Apple'</li>\n",
       "\t<li>'Banana'</li>\n",
       "\t<li>'Banana'</li>\n",
       "\t<li>'c'</li>\n",
       "</ol>\n"
      ],
      "text/latex": [
       "\\begin{enumerate*}\n",
       "\\item 'c'\n",
       "\\item 'Apple'\n",
       "\\item 'Banana'\n",
       "\\item 'c'\n",
       "\\item 'Banana'\n",
       "\\item 'Banana'\n",
       "\\item 'Apple'\n",
       "\\item 'Banana'\n",
       "\\item 'Banana'\n",
       "\\item 'c'\n",
       "\\end{enumerate*}\n"
      ],
      "text/markdown": [
       "1. 'c'\n",
       "2. 'Apple'\n",
       "3. 'Banana'\n",
       "4. 'c'\n",
       "5. 'Banana'\n",
       "6. 'Banana'\n",
       "7. 'Apple'\n",
       "8. 'Banana'\n",
       "9. 'Banana'\n",
       "10. 'c'\n",
       "\n",
       "\n"
      ],
      "text/plain": [
       " [1] \"c\"      \"Apple\"  \"Banana\" \"c\"      \"Banana\" \"Banana\" \"Apple\"  \"Banana\"\n",
       " [9] \"Banana\" \"c\"     "
      ]
     },
     "metadata": {},
     "output_type": "display_data"
    }
   ],
   "source": [
    "recode(char_vec, 'a' = 'Apple', 'b' = 'Banana')"
   ]
  },
  {
   "cell_type": "markdown",
   "metadata": {},
   "source": [
    "Use `.default` as replacement for unmatched values. Note that NA and\n",
    "replacement values need to be of the same type."
   ]
  },
  {
   "cell_type": "code",
   "execution_count": 9,
   "metadata": {},
   "outputs": [
    {
     "data": {
      "text/html": [
       "<ol class=list-inline>\n",
       "\t<li>NA</li>\n",
       "\t<li>'Apple'</li>\n",
       "\t<li>NA</li>\n",
       "\t<li>NA</li>\n",
       "\t<li>NA</li>\n",
       "\t<li>NA</li>\n",
       "\t<li>'Apple'</li>\n",
       "\t<li>NA</li>\n",
       "\t<li>NA</li>\n",
       "\t<li>NA</li>\n",
       "</ol>\n"
      ],
      "text/latex": [
       "\\begin{enumerate*}\n",
       "\\item NA\n",
       "\\item 'Apple'\n",
       "\\item NA\n",
       "\\item NA\n",
       "\\item NA\n",
       "\\item NA\n",
       "\\item 'Apple'\n",
       "\\item NA\n",
       "\\item NA\n",
       "\\item NA\n",
       "\\end{enumerate*}\n"
      ],
      "text/markdown": [
       "1. NA\n",
       "2. 'Apple'\n",
       "3. NA\n",
       "4. NA\n",
       "5. NA\n",
       "6. NA\n",
       "7. 'Apple'\n",
       "8. NA\n",
       "9. NA\n",
       "10. NA\n",
       "\n",
       "\n"
      ],
      "text/plain": [
       " [1] NA      \"Apple\" NA      NA      NA      NA      \"Apple\" NA      NA     \n",
       "[10] NA     "
      ]
     },
     "metadata": {},
     "output_type": "display_data"
    }
   ],
   "source": [
    "#replace unmatched values with NA_character_\n",
    "#NOTE: this will raise an error if we replace with NA, NA_logical_, NA_integer_, ....\n",
    "recode(char_vec, 'a' = 'Apple', .default = NA_character_) "
   ]
  },
  {
   "cell_type": "code",
   "execution_count": 11,
   "metadata": {},
   "outputs": [
    {
     "data": {
      "text/html": [
       "<ol class=list-inline>\n",
       "\t<li>'UKNOWN'</li>\n",
       "\t<li>'Apple'</li>\n",
       "\t<li>'Banana'</li>\n",
       "\t<li>'UKNOWN'</li>\n",
       "\t<li>'Banana'</li>\n",
       "\t<li>'Banana'</li>\n",
       "\t<li>'Apple'</li>\n",
       "\t<li>'Banana'</li>\n",
       "\t<li>'Banana'</li>\n",
       "\t<li>'UKNOWN'</li>\n",
       "</ol>\n"
      ],
      "text/latex": [
       "\\begin{enumerate*}\n",
       "\\item 'UKNOWN'\n",
       "\\item 'Apple'\n",
       "\\item 'Banana'\n",
       "\\item 'UKNOWN'\n",
       "\\item 'Banana'\n",
       "\\item 'Banana'\n",
       "\\item 'Apple'\n",
       "\\item 'Banana'\n",
       "\\item 'Banana'\n",
       "\\item 'UKNOWN'\n",
       "\\end{enumerate*}\n"
      ],
      "text/markdown": [
       "1. 'UKNOWN'\n",
       "2. 'Apple'\n",
       "3. 'Banana'\n",
       "4. 'UKNOWN'\n",
       "5. 'Banana'\n",
       "6. 'Banana'\n",
       "7. 'Apple'\n",
       "8. 'Banana'\n",
       "9. 'Banana'\n",
       "10. 'UKNOWN'\n",
       "\n",
       "\n"
      ],
      "text/plain": [
       " [1] \"UKNOWN\" \"Apple\"  \"Banana\" \"UKNOWN\" \"Banana\" \"Banana\" \"Apple\"  \"Banana\"\n",
       " [9] \"Banana\" \"UKNOWN\""
      ]
     },
     "metadata": {},
     "output_type": "display_data"
    }
   ],
   "source": [
    "#replace unmatched values with UKNOWN\n",
    "recode(char_vec, 'a' = 'Apple', 'b' = 'Banana', .default = 'UKNOWN')"
   ]
  },
  {
   "cell_type": "code",
   "execution_count": 12,
   "metadata": {},
   "outputs": [
    {
     "data": {
      "text/html": [
       "<ol class=list-inline>\n",
       "\t<li>'carrot'</li>\n",
       "\t<li>'apple'</li>\n",
       "\t<li>'banana'</li>\n",
       "\t<li>'carrot'</li>\n",
       "\t<li>'banana'</li>\n",
       "\t<li>'banana'</li>\n",
       "\t<li>'apple'</li>\n",
       "\t<li>'banana'</li>\n",
       "\t<li>'banana'</li>\n",
       "\t<li>'carrot'</li>\n",
       "</ol>\n"
      ],
      "text/latex": [
       "\\begin{enumerate*}\n",
       "\\item 'carrot'\n",
       "\\item 'apple'\n",
       "\\item 'banana'\n",
       "\\item 'carrot'\n",
       "\\item 'banana'\n",
       "\\item 'banana'\n",
       "\\item 'apple'\n",
       "\\item 'banana'\n",
       "\\item 'banana'\n",
       "\\item 'carrot'\n",
       "\\end{enumerate*}\n"
      ],
      "text/markdown": [
       "1. 'carrot'\n",
       "2. 'apple'\n",
       "3. 'banana'\n",
       "4. 'carrot'\n",
       "5. 'banana'\n",
       "6. 'banana'\n",
       "7. 'apple'\n",
       "8. 'banana'\n",
       "9. 'banana'\n",
       "10. 'carrot'\n",
       "\n",
       "\n"
      ],
      "text/plain": [
       " [1] \"carrot\" \"apple\"  \"banana\" \"carrot\" \"banana\" \"banana\" \"apple\"  \"banana\"\n",
       " [9] \"banana\" \"carrot\""
      ]
     },
     "metadata": {},
     "output_type": "display_data"
    }
   ],
   "source": [
    "# Use a named character vector for unquote splicing with !!!\n",
    "level_key <- c(a = \"apple\", b = \"banana\", c = \"carrot\")\n",
    "recode(char_vec, !!!level_key)"
   ]
  },
  {
   "cell_type": "code",
   "execution_count": 14,
   "metadata": {},
   "outputs": [
    {
     "data": {
      "text/html": [
       "<ol class=list-inline>\n",
       "\t<li>'carrot'</li>\n",
       "\t<li>'apple'</li>\n",
       "\t<li>'banana'</li>\n",
       "\t<li>'carrot'</li>\n",
       "\t<li>'banana'</li>\n",
       "\t<li>'banana'</li>\n",
       "\t<li>'apple'</li>\n",
       "\t<li>'banana'</li>\n",
       "\t<li>'banana'</li>\n",
       "\t<li>'carrot'</li>\n",
       "</ol>\n"
      ],
      "text/latex": [
       "\\begin{enumerate*}\n",
       "\\item 'carrot'\n",
       "\\item 'apple'\n",
       "\\item 'banana'\n",
       "\\item 'carrot'\n",
       "\\item 'banana'\n",
       "\\item 'banana'\n",
       "\\item 'apple'\n",
       "\\item 'banana'\n",
       "\\item 'banana'\n",
       "\\item 'carrot'\n",
       "\\end{enumerate*}\n"
      ],
      "text/markdown": [
       "1. 'carrot'\n",
       "2. 'apple'\n",
       "3. 'banana'\n",
       "4. 'carrot'\n",
       "5. 'banana'\n",
       "6. 'banana'\n",
       "7. 'apple'\n",
       "8. 'banana'\n",
       "9. 'banana'\n",
       "10. 'carrot'\n",
       "\n",
       "\n"
      ],
      "text/plain": [
       " [1] \"carrot\" \"apple\"  \"banana\" \"carrot\" \"banana\" \"banana\" \"apple\"  \"banana\"\n",
       " [9] \"banana\" \"carrot\""
      ]
     },
     "metadata": {},
     "output_type": "display_data"
    }
   ],
   "source": [
    "recode(char_vec, !!!level_key)"
   ]
  },
  {
   "cell_type": "code",
   "execution_count": 17,
   "metadata": {},
   "outputs": [
    {
     "data": {
      "text/html": [
       "<ol class=list-inline>\n",
       "\t<li>1</li>\n",
       "\t<li>20</li>\n",
       "\t<li>3</li>\n",
       "\t<li>40</li>\n",
       "\t<li>&lt;NA&gt;</li>\n",
       "</ol>\n"
      ],
      "text/latex": [
       "\\begin{enumerate*}\n",
       "\\item 1\n",
       "\\item 20\n",
       "\\item 3\n",
       "\\item 40\n",
       "\\item <NA>\n",
       "\\end{enumerate*}\n"
      ],
      "text/markdown": [
       "1. 1\n",
       "2. 20\n",
       "3. 3\n",
       "4. 40\n",
       "5. &lt;NA&gt;\n",
       "\n",
       "\n"
      ],
      "text/plain": [
       "[1]  1 20  3 40 NA"
      ]
     },
     "metadata": {},
     "output_type": "display_data"
    }
   ],
   "source": [
    "# For numeric values, named arguments can also be used\n",
    "num_vec <- c(1:4, NA)\n",
    "recode(num_vec, `2` = 20L, `4` = 40L)"
   ]
  },
  {
   "cell_type": "code",
   "execution_count": 21,
   "metadata": {},
   "outputs": [
    {
     "data": {
      "text/html": [
       "<ol class=list-inline>\n",
       "\t<li>'a'</li>\n",
       "\t<li>'b'</li>\n",
       "\t<li>'c'</li>\n",
       "\t<li>'d'</li>\n",
       "\t<li>NA</li>\n",
       "</ol>\n"
      ],
      "text/latex": [
       "\\begin{enumerate*}\n",
       "\\item 'a'\n",
       "\\item 'b'\n",
       "\\item 'c'\n",
       "\\item 'd'\n",
       "\\item NA\n",
       "\\end{enumerate*}\n"
      ],
      "text/markdown": [
       "1. 'a'\n",
       "2. 'b'\n",
       "3. 'c'\n",
       "4. 'd'\n",
       "5. NA\n",
       "\n",
       "\n"
      ],
      "text/plain": [
       "[1] \"a\" \"b\" \"c\" \"d\" NA "
      ]
     },
     "metadata": {},
     "output_type": "display_data"
    }
   ],
   "source": [
    "# Or if you don't name the arguments, recode() matches by position.\n",
    "# (Only works for numeric vector)\n",
    "recode(num_vec, \"a\", \"b\", \"c\", \"d\")\n",
    "#This is equivalent to: recode(num_vec, `1` = 'a', `2` = 'b', `3`  = 'c', `4` = 'd')"
   ]
  },
  {
   "cell_type": "code",
   "execution_count": 23,
   "metadata": {},
   "outputs": [
    {
     "data": {
      "text/html": [
       "<ol class=list-inline>\n",
       "\t<li>'a'</li>\n",
       "\t<li>'missing'</li>\n",
       "\t<li>'c'</li>\n",
       "</ol>\n"
      ],
      "text/latex": [
       "\\begin{enumerate*}\n",
       "\\item 'a'\n",
       "\\item 'missing'\n",
       "\\item 'c'\n",
       "\\end{enumerate*}\n"
      ],
      "text/markdown": [
       "1. 'a'\n",
       "2. 'missing'\n",
       "3. 'c'\n",
       "\n",
       "\n"
      ],
      "text/plain": [
       "[1] \"a\"       \"missing\" \"c\"      "
      ]
     },
     "metadata": {},
     "output_type": "display_data"
    }
   ],
   "source": [
    "recode(c(1,5,3), \"a\", \"b\", \"c\", \"d\", .default = 'missing')\n",
    "#Equivalent: recode(c(1,5,3), `1` = 'a', `2` = 'b', `3` = 'c', `4` = 'd', .default = 'missing')"
   ]
  },
  {
   "cell_type": "markdown",
   "metadata": {},
   "source": [
    "Use `.missing` to replace missing values in .x (i.e value to replace NA)\n",
    "Use `.default` to change the replacement value (i.e  default value for unmatched values)\n"
   ]
  },
  {
   "cell_type": "code",
   "execution_count": 25,
   "metadata": {},
   "outputs": [
    {
     "data": {
      "text/html": [
       "<ol class=list-inline>\n",
       "\t<li>1</li>\n",
       "\t<li>2</li>\n",
       "\t<li>3</li>\n",
       "\t<li>4</li>\n",
       "\t<li>&lt;NA&gt;</li>\n",
       "</ol>\n"
      ],
      "text/latex": [
       "\\begin{enumerate*}\n",
       "\\item 1\n",
       "\\item 2\n",
       "\\item 3\n",
       "\\item 4\n",
       "\\item <NA>\n",
       "\\end{enumerate*}\n"
      ],
      "text/markdown": [
       "1. 1\n",
       "2. 2\n",
       "3. 3\n",
       "4. 4\n",
       "5. &lt;NA&gt;\n",
       "\n",
       "\n"
      ],
      "text/plain": [
       "[1]  1  2  3  4 NA"
      ]
     },
     "metadata": {},
     "output_type": "display_data"
    }
   ],
   "source": [
    "num_vec"
   ]
  },
  {
   "cell_type": "code",
   "execution_count": 26,
   "metadata": {},
   "outputs": [
    {
     "data": {
      "text/html": [
       "<ol class=list-inline>\n",
       "\t<li>'a'</li>\n",
       "\t<li>'b'</li>\n",
       "\t<li>'c'</li>\n",
       "\t<li>'other'</li>\n",
       "\t<li>'missing'</li>\n",
       "</ol>\n"
      ],
      "text/latex": [
       "\\begin{enumerate*}\n",
       "\\item 'a'\n",
       "\\item 'b'\n",
       "\\item 'c'\n",
       "\\item 'other'\n",
       "\\item 'missing'\n",
       "\\end{enumerate*}\n"
      ],
      "text/markdown": [
       "1. 'a'\n",
       "2. 'b'\n",
       "3. 'c'\n",
       "4. 'other'\n",
       "5. 'missing'\n",
       "\n",
       "\n"
      ],
      "text/plain": [
       "[1] \"a\"       \"b\"       \"c\"       \"other\"   \"missing\""
      ]
     },
     "metadata": {},
     "output_type": "display_data"
    }
   ],
   "source": [
    "#NA is missing value\n",
    "recode(num_vec, \"a\", \"b\", \"c\", .default = \"other\", .missing = \"missing\")"
   ]
  },
  {
   "cell_type": "code",
   "execution_count": 27,
   "metadata": {},
   "outputs": [
    {
     "data": {
      "text/html": [
       "<ol class=list-inline>\n",
       "\t<li>Apple</li>\n",
       "\t<li>b</li>\n",
       "\t<li>c</li>\n",
       "</ol>\n",
       "\n",
       "<details>\n",
       "\t<summary style=display:list-item;cursor:pointer>\n",
       "\t\t<strong>Levels</strong>:\n",
       "\t</summary>\n",
       "\t<ol class=list-inline>\n",
       "\t\t<li>'Apple'</li>\n",
       "\t\t<li>'b'</li>\n",
       "\t\t<li>'c'</li>\n",
       "\t</ol>\n",
       "</details>"
      ],
      "text/latex": [
       "\\begin{enumerate*}\n",
       "\\item Apple\n",
       "\\item b\n",
       "\\item c\n",
       "\\end{enumerate*}\n",
       "\n",
       "\\emph{Levels}: \\begin{enumerate*}\n",
       "\\item 'Apple'\n",
       "\\item 'b'\n",
       "\\item 'c'\n",
       "\\end{enumerate*}\n"
      ],
      "text/markdown": [
       "1. Apple\n",
       "2. b\n",
       "3. c\n",
       "\n",
       "\n",
       "\n",
       "**Levels**: 1. 'Apple'\n",
       "2. 'b'\n",
       "3. 'c'\n",
       "\n",
       "\n"
      ],
      "text/plain": [
       "[1] Apple b     c    \n",
       "Levels: Apple b c"
      ]
     },
     "metadata": {},
     "output_type": "display_data"
    }
   ],
   "source": [
    "# For factor values, use only named replacements\n",
    "# and supply default with levels()\n",
    "factor_vec <- factor(c(\"a\", \"b\", \"c\"))\n",
    "recode(factor_vec, a = \"Apple\", .default = levels(factor_vec))"
   ]
  },
  {
   "cell_type": "code",
   "execution_count": 28,
   "metadata": {},
   "outputs": [
    {
     "name": "stderr",
     "output_type": "stream",
     "text": [
      "Warning message:\n",
      "\"Unreplaced values treated as NA as .x is not compatible. Please specify replacements exhaustively or supply .default\""
     ]
    },
    {
     "data": {
      "text/html": [
       "<ol class=list-inline>\n",
       "\t<li>z</li>\n",
       "\t<li>y</li>\n",
       "\t<li>x</li>\n",
       "\t<li>&lt;NA&gt;</li>\n",
       "\t<li>&lt;NA&gt;</li>\n",
       "</ol>\n",
       "\n",
       "<details>\n",
       "\t<summary style=display:list-item;cursor:pointer>\n",
       "\t\t<strong>Levels</strong>:\n",
       "\t</summary>\n",
       "\t<ol class=list-inline>\n",
       "\t\t<li>'z'</li>\n",
       "\t\t<li>'y'</li>\n",
       "\t\t<li>'x'</li>\n",
       "\t</ol>\n",
       "</details>"
      ],
      "text/latex": [
       "\\begin{enumerate*}\n",
       "\\item z\n",
       "\\item y\n",
       "\\item x\n",
       "\\item <NA>\n",
       "\\item <NA>\n",
       "\\end{enumerate*}\n",
       "\n",
       "\\emph{Levels}: \\begin{enumerate*}\n",
       "\\item 'z'\n",
       "\\item 'y'\n",
       "\\item 'x'\n",
       "\\end{enumerate*}\n"
      ],
      "text/markdown": [
       "1. z\n",
       "2. y\n",
       "3. x\n",
       "4. &lt;NA&gt;\n",
       "5. &lt;NA&gt;\n",
       "\n",
       "\n",
       "\n",
       "**Levels**: 1. 'z'\n",
       "2. 'y'\n",
       "3. 'x'\n",
       "\n",
       "\n"
      ],
      "text/plain": [
       "[1] z    y    x    <NA> <NA>\n",
       "Levels: z y x"
      ]
     },
     "metadata": {},
     "output_type": "display_data"
    }
   ],
   "source": [
    "# Use recode_factor() to create factors with levels ordered as they\n",
    "# appear in the recode call. The levels in .default and .missing\n",
    "# come last.\n",
    "recode_factor(num_vec, `1` = \"z\", `2` = \"y\", `3` = \"x\")"
   ]
  },
  {
   "cell_type": "code",
   "execution_count": 30,
   "metadata": {},
   "outputs": [
    {
     "data": {
      "text/html": [
       "<ol class=list-inline>\n",
       "\t<li>1</li>\n",
       "\t<li>2</li>\n",
       "\t<li>3</li>\n",
       "\t<li>4</li>\n",
       "\t<li>&lt;NA&gt;</li>\n",
       "</ol>\n"
      ],
      "text/latex": [
       "\\begin{enumerate*}\n",
       "\\item 1\n",
       "\\item 2\n",
       "\\item 3\n",
       "\\item 4\n",
       "\\item <NA>\n",
       "\\end{enumerate*}\n"
      ],
      "text/markdown": [
       "1. 1\n",
       "2. 2\n",
       "3. 3\n",
       "4. 4\n",
       "5. &lt;NA&gt;\n",
       "\n",
       "\n"
      ],
      "text/plain": [
       "[1]  1  2  3  4 NA"
      ]
     },
     "metadata": {},
     "output_type": "display_data"
    }
   ],
   "source": [
    "num_vec"
   ]
  },
  {
   "cell_type": "code",
   "execution_count": 29,
   "metadata": {},
   "outputs": [
    {
     "data": {
      "text/html": [
       "<ol class=list-inline>\n",
       "\t<li>z</li>\n",
       "\t<li>y</li>\n",
       "\t<li>x</li>\n",
       "\t<li>D</li>\n",
       "\t<li>M</li>\n",
       "</ol>\n",
       "\n",
       "<details>\n",
       "\t<summary style=display:list-item;cursor:pointer>\n",
       "\t\t<strong>Levels</strong>:\n",
       "\t</summary>\n",
       "\t<ol class=list-inline>\n",
       "\t\t<li>'z'</li>\n",
       "\t\t<li>'y'</li>\n",
       "\t\t<li>'x'</li>\n",
       "\t\t<li>'D'</li>\n",
       "\t\t<li>'M'</li>\n",
       "\t</ol>\n",
       "</details>"
      ],
      "text/latex": [
       "\\begin{enumerate*}\n",
       "\\item z\n",
       "\\item y\n",
       "\\item x\n",
       "\\item D\n",
       "\\item M\n",
       "\\end{enumerate*}\n",
       "\n",
       "\\emph{Levels}: \\begin{enumerate*}\n",
       "\\item 'z'\n",
       "\\item 'y'\n",
       "\\item 'x'\n",
       "\\item 'D'\n",
       "\\item 'M'\n",
       "\\end{enumerate*}\n"
      ],
      "text/markdown": [
       "1. z\n",
       "2. y\n",
       "3. x\n",
       "4. D\n",
       "5. M\n",
       "\n",
       "\n",
       "\n",
       "**Levels**: 1. 'z'\n",
       "2. 'y'\n",
       "3. 'x'\n",
       "4. 'D'\n",
       "5. 'M'\n",
       "\n",
       "\n"
      ],
      "text/plain": [
       "[1] z y x D M\n",
       "Levels: z y x D M"
      ]
     },
     "metadata": {},
     "output_type": "display_data"
    }
   ],
   "source": [
    "recode_factor(num_vec, `1` = \"z\", `2` = \"y\", `3` = \"x\",\n",
    "              .default = \"D\", .missing = \"M\")"
   ]
  },
  {
   "cell_type": "code",
   "execution_count": 31,
   "metadata": {},
   "outputs": [
    {
     "data": {
      "text/html": [
       "<ol class=list-inline>\n",
       "\t<li>a</li>\n",
       "\t<li>z</li>\n",
       "\t<li>y</li>\n",
       "</ol>\n",
       "\n",
       "<details>\n",
       "\t<summary style=display:list-item;cursor:pointer>\n",
       "\t\t<strong>Levels</strong>:\n",
       "\t</summary>\n",
       "\t<ol class=list-inline>\n",
       "\t\t<li>'z'</li>\n",
       "\t\t<li>'y'</li>\n",
       "\t\t<li>'a'</li>\n",
       "\t</ol>\n",
       "</details>"
      ],
      "text/latex": [
       "\\begin{enumerate*}\n",
       "\\item a\n",
       "\\item z\n",
       "\\item y\n",
       "\\end{enumerate*}\n",
       "\n",
       "\\emph{Levels}: \\begin{enumerate*}\n",
       "\\item 'z'\n",
       "\\item 'y'\n",
       "\\item 'a'\n",
       "\\end{enumerate*}\n"
      ],
      "text/markdown": [
       "1. a\n",
       "2. z\n",
       "3. y\n",
       "\n",
       "\n",
       "\n",
       "**Levels**: 1. 'z'\n",
       "2. 'y'\n",
       "3. 'a'\n",
       "\n",
       "\n"
      ],
      "text/plain": [
       "[1] a z y\n",
       "Levels: z y a"
      ]
     },
     "metadata": {},
     "output_type": "display_data"
    }
   ],
   "source": [
    "# When the input vector is a compatible vector (character vector or\n",
    "# factor), it is reused as default.\n",
    "recode_factor(letters[1:3], b = \"z\", c = \"y\")"
   ]
  },
  {
   "cell_type": "code",
   "execution_count": 32,
   "metadata": {},
   "outputs": [
    {
     "data": {
      "text/html": [
       "<ol class=list-inline>\n",
       "\t<li>a</li>\n",
       "\t<li>z</li>\n",
       "\t<li>y</li>\n",
       "</ol>\n",
       "\n",
       "<details>\n",
       "\t<summary style=display:list-item;cursor:pointer>\n",
       "\t\t<strong>Levels</strong>:\n",
       "\t</summary>\n",
       "\t<ol class=list-inline>\n",
       "\t\t<li>'z'</li>\n",
       "\t\t<li>'y'</li>\n",
       "\t\t<li>'a'</li>\n",
       "\t</ol>\n",
       "</details>"
      ],
      "text/latex": [
       "\\begin{enumerate*}\n",
       "\\item a\n",
       "\\item z\n",
       "\\item y\n",
       "\\end{enumerate*}\n",
       "\n",
       "\\emph{Levels}: \\begin{enumerate*}\n",
       "\\item 'z'\n",
       "\\item 'y'\n",
       "\\item 'a'\n",
       "\\end{enumerate*}\n"
      ],
      "text/markdown": [
       "1. a\n",
       "2. z\n",
       "3. y\n",
       "\n",
       "\n",
       "\n",
       "**Levels**: 1. 'z'\n",
       "2. 'y'\n",
       "3. 'a'\n",
       "\n",
       "\n"
      ],
      "text/plain": [
       "[1] a z y\n",
       "Levels: z y a"
      ]
     },
     "metadata": {},
     "output_type": "display_data"
    }
   ],
   "source": [
    "recode_factor(factor(letters[1:3]), b = \"z\", c = \"y\")"
   ]
  },
  {
   "cell_type": "code",
   "execution_count": 33,
   "metadata": {},
   "outputs": [
    {
     "data": {
      "text/html": [
       "<ol class=list-inline>\n",
       "\t<li>carrot</li>\n",
       "\t<li>apple</li>\n",
       "\t<li>banana</li>\n",
       "\t<li>carrot</li>\n",
       "\t<li>banana</li>\n",
       "\t<li>banana</li>\n",
       "\t<li>apple</li>\n",
       "\t<li>banana</li>\n",
       "\t<li>banana</li>\n",
       "\t<li>carrot</li>\n",
       "</ol>\n",
       "\n",
       "<details>\n",
       "\t<summary style=display:list-item;cursor:pointer>\n",
       "\t\t<strong>Levels</strong>:\n",
       "\t</summary>\n",
       "\t<ol class=list-inline>\n",
       "\t\t<li>'apple'</li>\n",
       "\t\t<li>'banana'</li>\n",
       "\t\t<li>'carrot'</li>\n",
       "\t</ol>\n",
       "</details>"
      ],
      "text/latex": [
       "\\begin{enumerate*}\n",
       "\\item carrot\n",
       "\\item apple\n",
       "\\item banana\n",
       "\\item carrot\n",
       "\\item banana\n",
       "\\item banana\n",
       "\\item apple\n",
       "\\item banana\n",
       "\\item banana\n",
       "\\item carrot\n",
       "\\end{enumerate*}\n",
       "\n",
       "\\emph{Levels}: \\begin{enumerate*}\n",
       "\\item 'apple'\n",
       "\\item 'banana'\n",
       "\\item 'carrot'\n",
       "\\end{enumerate*}\n"
      ],
      "text/markdown": [
       "1. carrot\n",
       "2. apple\n",
       "3. banana\n",
       "4. carrot\n",
       "5. banana\n",
       "6. banana\n",
       "7. apple\n",
       "8. banana\n",
       "9. banana\n",
       "10. carrot\n",
       "\n",
       "\n",
       "\n",
       "**Levels**: 1. 'apple'\n",
       "2. 'banana'\n",
       "3. 'carrot'\n",
       "\n",
       "\n"
      ],
      "text/plain": [
       " [1] carrot apple  banana carrot banana banana apple  banana banana carrot\n",
       "Levels: apple banana carrot"
      ]
     },
     "metadata": {},
     "output_type": "display_data"
    }
   ],
   "source": [
    "# Use a named character vector to recode factors with unquote splicing.\n",
    "level_key <- c(a = \"apple\", b = \"banana\", c = \"carrot\")\n",
    "recode_factor(char_vec, !!!level_key)\n"
   ]
  }
 ],
 "metadata": {
  "kernelspec": {
   "display_name": "R",
   "language": "R",
   "name": "ir"
  },
  "language_info": {
   "codemirror_mode": "r",
   "file_extension": ".r",
   "mimetype": "text/x-r-source",
   "name": "R",
   "pygments_lexer": "r",
   "version": "3.6.1"
  }
 },
 "nbformat": 4,
 "nbformat_minor": 2
}
