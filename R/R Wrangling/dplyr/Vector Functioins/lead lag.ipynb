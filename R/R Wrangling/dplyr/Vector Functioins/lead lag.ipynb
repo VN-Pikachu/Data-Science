{
 "cells": [
  {
   "cell_type": "code",
   "execution_count": 5,
   "metadata": {},
   "outputs": [],
   "source": [
    "library(tidyverse)"
   ]
  },
  {
   "cell_type": "markdown",
   "metadata": {},
   "source": [
    "# Compute lagged or leading values"
   ]
  },
  {
   "cell_type": "markdown",
   "metadata": {},
   "source": [
    "Find the \"previous\" (`lag()`) or \"next\" (`lead()`) values in a vector. Useful for comparing values behind of or ahead of the current values."
   ]
  },
  {
   "cell_type": "markdown",
   "metadata": {},
   "source": [
    "```r\n",
    "lag(x, n = 1L, default = NA, order_by = NULL, ...)\n",
    "\n",
    "lead(x, n = 1L, default = NA, order_by = NULL, ...)\n",
    "```"
   ]
  },
  {
   "cell_type": "markdown",
   "metadata": {},
   "source": [
    "# Examples"
   ]
  },
  {
   "cell_type": "code",
   "execution_count": 6,
   "metadata": {},
   "outputs": [
    {
     "data": {
      "text/html": [
       "<ol class=list-inline>\n",
       "\t<li>&lt;NA&gt;</li>\n",
       "\t<li>1</li>\n",
       "\t<li>2</li>\n",
       "\t<li>3</li>\n",
       "\t<li>4</li>\n",
       "</ol>\n"
      ],
      "text/latex": [
       "\\begin{enumerate*}\n",
       "\\item <NA>\n",
       "\\item 1\n",
       "\\item 2\n",
       "\\item 3\n",
       "\\item 4\n",
       "\\end{enumerate*}\n"
      ],
      "text/markdown": [
       "1. &lt;NA&gt;\n",
       "2. 1\n",
       "3. 2\n",
       "4. 3\n",
       "5. 4\n",
       "\n",
       "\n"
      ],
      "text/plain": [
       "[1] NA  1  2  3  4"
      ]
     },
     "metadata": {},
     "output_type": "display_data"
    }
   ],
   "source": [
    "lag(1:5)"
   ]
  },
  {
   "cell_type": "code",
   "execution_count": 8,
   "metadata": {},
   "outputs": [
    {
     "data": {
      "text/html": [
       "<ol class=list-inline>\n",
       "\t<li>&lt;NA&gt;</li>\n",
       "\t<li>&lt;NA&gt;</li>\n",
       "\t<li>1</li>\n",
       "\t<li>2</li>\n",
       "\t<li>3</li>\n",
       "</ol>\n"
      ],
      "text/latex": [
       "\\begin{enumerate*}\n",
       "\\item <NA>\n",
       "\\item <NA>\n",
       "\\item 1\n",
       "\\item 2\n",
       "\\item 3\n",
       "\\end{enumerate*}\n"
      ],
      "text/markdown": [
       "1. &lt;NA&gt;\n",
       "2. &lt;NA&gt;\n",
       "3. 1\n",
       "4. 2\n",
       "5. 3\n",
       "\n",
       "\n"
      ],
      "text/plain": [
       "[1] NA NA  1  2  3"
      ]
     },
     "metadata": {},
     "output_type": "display_data"
    }
   ],
   "source": [
    "lag(1:5, n = 2)"
   ]
  },
  {
   "cell_type": "code",
   "execution_count": 10,
   "metadata": {},
   "outputs": [
    {
     "data": {
      "text/html": [
       "<ol class=list-inline>\n",
       "\t<li>-1</li>\n",
       "\t<li>-1</li>\n",
       "\t<li>1</li>\n",
       "\t<li>2</li>\n",
       "\t<li>3</li>\n",
       "</ol>\n"
      ],
      "text/latex": [
       "\\begin{enumerate*}\n",
       "\\item -1\n",
       "\\item -1\n",
       "\\item 1\n",
       "\\item 2\n",
       "\\item 3\n",
       "\\end{enumerate*}\n"
      ],
      "text/markdown": [
       "1. -1\n",
       "2. -1\n",
       "3. 1\n",
       "4. 2\n",
       "5. 3\n",
       "\n",
       "\n"
      ],
      "text/plain": [
       "[1] -1 -1  1  2  3"
      ]
     },
     "metadata": {},
     "output_type": "display_data"
    }
   ],
   "source": [
    "#default value for <NA> to -1\n",
    "lag(1:5, n = 2, default = -1)"
   ]
  },
  {
   "cell_type": "code",
   "execution_count": 7,
   "metadata": {},
   "outputs": [
    {
     "data": {
      "text/html": [
       "<ol class=list-inline>\n",
       "\t<li>2</li>\n",
       "\t<li>3</li>\n",
       "\t<li>4</li>\n",
       "\t<li>5</li>\n",
       "\t<li>&lt;NA&gt;</li>\n",
       "</ol>\n"
      ],
      "text/latex": [
       "\\begin{enumerate*}\n",
       "\\item 2\n",
       "\\item 3\n",
       "\\item 4\n",
       "\\item 5\n",
       "\\item <NA>\n",
       "\\end{enumerate*}\n"
      ],
      "text/markdown": [
       "1. 2\n",
       "2. 3\n",
       "3. 4\n",
       "4. 5\n",
       "5. &lt;NA&gt;\n",
       "\n",
       "\n"
      ],
      "text/plain": [
       "[1]  2  3  4  5 NA"
      ]
     },
     "metadata": {},
     "output_type": "display_data"
    }
   ],
   "source": [
    "lead(1:5)"
   ]
  },
  {
   "cell_type": "code",
   "execution_count": 9,
   "metadata": {},
   "outputs": [
    {
     "data": {
      "text/html": [
       "<ol class=list-inline>\n",
       "\t<li>4</li>\n",
       "\t<li>5</li>\n",
       "\t<li>&lt;NA&gt;</li>\n",
       "\t<li>&lt;NA&gt;</li>\n",
       "\t<li>&lt;NA&gt;</li>\n",
       "</ol>\n"
      ],
      "text/latex": [
       "\\begin{enumerate*}\n",
       "\\item 4\n",
       "\\item 5\n",
       "\\item <NA>\n",
       "\\item <NA>\n",
       "\\item <NA>\n",
       "\\end{enumerate*}\n"
      ],
      "text/markdown": [
       "1. 4\n",
       "2. 5\n",
       "3. &lt;NA&gt;\n",
       "4. &lt;NA&gt;\n",
       "5. &lt;NA&gt;\n",
       "\n",
       "\n"
      ],
      "text/plain": [
       "[1]  4  5 NA NA NA"
      ]
     },
     "metadata": {},
     "output_type": "display_data"
    }
   ],
   "source": [
    "lead(1:5, n = 3)"
   ]
  },
  {
   "cell_type": "markdown",
   "metadata": {},
   "source": [
    "If data are not already ordered, use `order_by`"
   ]
  },
  {
   "cell_type": "code",
   "execution_count": 17,
   "metadata": {},
   "outputs": [
    {
     "data": {
      "text/html": [
       "<table>\n",
       "<thead><tr><th scope=col>year</th><th scope=col>value</th></tr></thead>\n",
       "<tbody>\n",
       "\t<tr><td>2005</td><td>25  </td></tr>\n",
       "\t<tr><td>2001</td><td> 1  </td></tr>\n",
       "\t<tr><td>2002</td><td> 4  </td></tr>\n",
       "\t<tr><td>2004</td><td>16  </td></tr>\n",
       "\t<tr><td>2000</td><td> 0  </td></tr>\n",
       "\t<tr><td>2003</td><td> 9  </td></tr>\n",
       "</tbody>\n",
       "</table>\n"
      ],
      "text/latex": [
       "\\begin{tabular}{r|ll}\n",
       " year & value\\\\\n",
       "\\hline\n",
       "\t 2005 & 25  \\\\\n",
       "\t 2001 &  1  \\\\\n",
       "\t 2002 &  4  \\\\\n",
       "\t 2004 & 16  \\\\\n",
       "\t 2000 &  0  \\\\\n",
       "\t 2003 &  9  \\\\\n",
       "\\end{tabular}\n"
      ],
      "text/markdown": [
       "\n",
       "| year | value |\n",
       "|---|---|\n",
       "| 2005 | 25   |\n",
       "| 2001 |  1   |\n",
       "| 2002 |  4   |\n",
       "| 2004 | 16   |\n",
       "| 2000 |  0   |\n",
       "| 2003 |  9   |\n",
       "\n"
      ],
      "text/plain": [
       "  year value\n",
       "1 2005 25   \n",
       "2 2001  1   \n",
       "3 2002  4   \n",
       "4 2004 16   \n",
       "5 2000  0   \n",
       "6 2003  9   "
      ]
     },
     "metadata": {},
     "output_type": "display_data"
    }
   ],
   "source": [
    "scrambled <- slice_sample(tibble(year = 2000:2005, value = (0:5) ^ 2), prop = 1)\n",
    "scrambled"
   ]
  },
  {
   "cell_type": "code",
   "execution_count": 18,
   "metadata": {},
   "outputs": [
    {
     "data": {
      "text/html": [
       "<table>\n",
       "<thead><tr><th scope=col>year</th><th scope=col>value</th><th scope=col>previous_year_value</th></tr></thead>\n",
       "<tbody>\n",
       "\t<tr><td>2000</td><td> 0  </td><td>16  </td></tr>\n",
       "\t<tr><td>2001</td><td> 1  </td><td>25  </td></tr>\n",
       "\t<tr><td>2002</td><td> 4  </td><td> 1  </td></tr>\n",
       "\t<tr><td>2003</td><td> 9  </td><td> 0  </td></tr>\n",
       "\t<tr><td>2004</td><td>16  </td><td> 4  </td></tr>\n",
       "\t<tr><td>2005</td><td>25  </td><td>NA  </td></tr>\n",
       "</tbody>\n",
       "</table>\n"
      ],
      "text/latex": [
       "\\begin{tabular}{r|lll}\n",
       " year & value & previous\\_year\\_value\\\\\n",
       "\\hline\n",
       "\t 2000 &  0   & 16  \\\\\n",
       "\t 2001 &  1   & 25  \\\\\n",
       "\t 2002 &  4   &  1  \\\\\n",
       "\t 2003 &  9   &  0  \\\\\n",
       "\t 2004 & 16   &  4  \\\\\n",
       "\t 2005 & 25   & NA  \\\\\n",
       "\\end{tabular}\n"
      ],
      "text/markdown": [
       "\n",
       "| year | value | previous_year_value |\n",
       "|---|---|---|\n",
       "| 2000 |  0   | 16   |\n",
       "| 2001 |  1   | 25   |\n",
       "| 2002 |  4   |  1   |\n",
       "| 2003 |  9   |  0   |\n",
       "| 2004 | 16   |  4   |\n",
       "| 2005 | 25   | NA   |\n",
       "\n"
      ],
      "text/plain": [
       "  year value previous_year_value\n",
       "1 2000  0    16                 \n",
       "2 2001  1    25                 \n",
       "3 2002  4     1                 \n",
       "4 2003  9     0                 \n",
       "5 2004 16     4                 \n",
       "6 2005 25    NA                 "
      ]
     },
     "metadata": {},
     "output_type": "display_data"
    }
   ],
   "source": [
    "#The wrong way\n",
    "wrong <- mutate(scrambled, previous_year_value = lag(value))\n",
    "arrange(wrong, year)"
   ]
  },
  {
   "cell_type": "code",
   "execution_count": 16,
   "metadata": {},
   "outputs": [
    {
     "data": {
      "text/html": [
       "<table>\n",
       "<thead><tr><th scope=col>year</th><th scope=col>value</th><th scope=col>previous_year_value</th></tr></thead>\n",
       "<tbody>\n",
       "\t<tr><td>2000</td><td> 0  </td><td>NA  </td></tr>\n",
       "\t<tr><td>2001</td><td> 1  </td><td> 0  </td></tr>\n",
       "\t<tr><td>2002</td><td> 4  </td><td> 1  </td></tr>\n",
       "\t<tr><td>2003</td><td> 9  </td><td> 4  </td></tr>\n",
       "\t<tr><td>2004</td><td>16  </td><td> 9  </td></tr>\n",
       "\t<tr><td>2005</td><td>25  </td><td>16  </td></tr>\n",
       "</tbody>\n",
       "</table>\n"
      ],
      "text/latex": [
       "\\begin{tabular}{r|lll}\n",
       " year & value & previous\\_year\\_value\\\\\n",
       "\\hline\n",
       "\t 2000 &  0   & NA  \\\\\n",
       "\t 2001 &  1   &  0  \\\\\n",
       "\t 2002 &  4   &  1  \\\\\n",
       "\t 2003 &  9   &  4  \\\\\n",
       "\t 2004 & 16   &  9  \\\\\n",
       "\t 2005 & 25   & 16  \\\\\n",
       "\\end{tabular}\n"
      ],
      "text/markdown": [
       "\n",
       "| year | value | previous_year_value |\n",
       "|---|---|---|\n",
       "| 2000 |  0   | NA   |\n",
       "| 2001 |  1   |  0   |\n",
       "| 2002 |  4   |  1   |\n",
       "| 2003 |  9   |  4   |\n",
       "| 2004 | 16   |  9   |\n",
       "| 2005 | 25   | 16   |\n",
       "\n"
      ],
      "text/plain": [
       "  year value previous_year_value\n",
       "1 2000  0    NA                 \n",
       "2 2001  1     0                 \n",
       "3 2002  4     1                 \n",
       "4 2003  9     4                 \n",
       "5 2004 16     9                 \n",
       "6 2005 25    16                 "
      ]
     },
     "metadata": {},
     "output_type": "display_data"
    }
   ],
   "source": [
    "#The right way"
   ]
  },
  {
   "cell_type": "code",
   "execution_count": 19,
   "metadata": {},
   "outputs": [
    {
     "data": {
      "text/html": [
       "<table>\n",
       "<thead><tr><th scope=col>year</th><th scope=col>value</th><th scope=col>previous_year_value</th></tr></thead>\n",
       "<tbody>\n",
       "\t<tr><td>2000</td><td> 0  </td><td>NA  </td></tr>\n",
       "\t<tr><td>2001</td><td> 1  </td><td> 0  </td></tr>\n",
       "\t<tr><td>2002</td><td> 4  </td><td> 1  </td></tr>\n",
       "\t<tr><td>2003</td><td> 9  </td><td> 4  </td></tr>\n",
       "\t<tr><td>2004</td><td>16  </td><td> 9  </td></tr>\n",
       "\t<tr><td>2005</td><td>25  </td><td>16  </td></tr>\n",
       "</tbody>\n",
       "</table>\n"
      ],
      "text/latex": [
       "\\begin{tabular}{r|lll}\n",
       " year & value & previous\\_year\\_value\\\\\n",
       "\\hline\n",
       "\t 2000 &  0   & NA  \\\\\n",
       "\t 2001 &  1   &  0  \\\\\n",
       "\t 2002 &  4   &  1  \\\\\n",
       "\t 2003 &  9   &  4  \\\\\n",
       "\t 2004 & 16   &  9  \\\\\n",
       "\t 2005 & 25   & 16  \\\\\n",
       "\\end{tabular}\n"
      ],
      "text/markdown": [
       "\n",
       "| year | value | previous_year_value |\n",
       "|---|---|---|\n",
       "| 2000 |  0   | NA   |\n",
       "| 2001 |  1   |  0   |\n",
       "| 2002 |  4   |  1   |\n",
       "| 2003 |  9   |  4   |\n",
       "| 2004 | 16   |  9   |\n",
       "| 2005 | 25   | 16   |\n",
       "\n"
      ],
      "text/plain": [
       "  year value previous_year_value\n",
       "1 2000  0    NA                 \n",
       "2 2001  1     0                 \n",
       "3 2002  4     1                 \n",
       "4 2003  9     4                 \n",
       "5 2004 16     9                 \n",
       "6 2005 25    16                 "
      ]
     },
     "metadata": {},
     "output_type": "display_data"
    }
   ],
   "source": [
    "right <- mutate(scrambled, previous_year_value = lag(value, order_by = year))\n",
    "arrange(right, year)"
   ]
  }
 ],
 "metadata": {
  "kernelspec": {
   "display_name": "R",
   "language": "R",
   "name": "ir"
  },
  "language_info": {
   "codemirror_mode": "r",
   "file_extension": ".r",
   "mimetype": "text/x-r-source",
   "name": "R",
   "pygments_lexer": "r",
   "version": "3.6.1"
  }
 },
 "nbformat": 4,
 "nbformat_minor": 2
}
