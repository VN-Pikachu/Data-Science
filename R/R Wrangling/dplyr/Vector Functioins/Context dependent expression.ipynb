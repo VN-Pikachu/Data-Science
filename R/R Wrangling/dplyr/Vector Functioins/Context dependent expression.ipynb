{
 "cells": [
  {
   "cell_type": "code",
   "execution_count": 2,
   "metadata": {},
   "outputs": [],
   "source": [
    "library(tidyverse)"
   ]
  },
  {
   "cell_type": "markdown",
   "metadata": {},
   "source": [
    "# Context dependent expressions"
   ]
  },
  {
   "cell_type": "markdown",
   "metadata": {},
   "source": [
    "These functions return information about the \"current\" group or \"current\" variable, so only work inside specific contexts like `summarise()` and `mutate()`\n",
    "\n",
    "* **`n()`** gives the current group size.\n",
    "\n",
    "* **`cur_data()`** gives the current data for the current group (excluding grouping variables).\n",
    "\n",
    "* **`cur_data_all()`** gives the current data for the current group (including grouping variables)\n",
    "\n",
    "* **`cur_group()`** gives the group keys, a tibble with one row and one column for each grouping variable.\n",
    "\n",
    "* **`cur_group_id()`** gives a unique numeric identifier for the current group.\n",
    "\n",
    "* **`cur_group_rows()`** gives the row indices for the current group.\n",
    "\n",
    "* **`cur_column()`** gives the name of the current column (in across() only)."
   ]
  },
  {
   "cell_type": "markdown",
   "metadata": {},
   "source": [
    "# Examples"
   ]
  },
  {
   "cell_type": "code",
   "execution_count": 4,
   "metadata": {},
   "outputs": [
    {
     "data": {
      "text/html": [
       "<table>\n",
       "<thead><tr><th scope=col>clan</th><th scope=col>player</th></tr></thead>\n",
       "<tbody>\n",
       "\t<tr><td>VNC        </td><td>Meomeo888  </td></tr>\n",
       "\t<tr><td>King Allool</td><td>GHOST      </td></tr>\n",
       "\t<tr><td>King Allool</td><td>Dr Strange </td></tr>\n",
       "\t<tr><td>VNC        </td><td>quachtinh  </td></tr>\n",
       "\t<tr><td>King Allool</td><td>LEXUS      </td></tr>\n",
       "</tbody>\n",
       "</table>\n"
      ],
      "text/latex": [
       "\\begin{tabular}{r|ll}\n",
       " clan & player\\\\\n",
       "\\hline\n",
       "\t VNC         & Meomeo888  \\\\\n",
       "\t King Allool & GHOST      \\\\\n",
       "\t King Allool & Dr Strange \\\\\n",
       "\t VNC         & quachtinh  \\\\\n",
       "\t King Allool & LEXUS      \\\\\n",
       "\\end{tabular}\n"
      ],
      "text/markdown": [
       "\n",
       "| clan | player |\n",
       "|---|---|\n",
       "| VNC         | Meomeo888   |\n",
       "| King Allool | GHOST       |\n",
       "| King Allool | Dr Strange  |\n",
       "| VNC         | quachtinh   |\n",
       "| King Allool | LEXUS       |\n",
       "\n"
      ],
      "text/plain": [
       "  clan        player    \n",
       "1 VNC         Meomeo888 \n",
       "2 King Allool GHOST     \n",
       "3 King Allool Dr Strange\n",
       "4 VNC         quachtinh \n",
       "5 King Allool LEXUS     "
      ]
     },
     "metadata": {},
     "output_type": "display_data"
    }
   ],
   "source": [
    "TF <- data.frame(\n",
    "    clan = c('VNC', 'King Allool', 'King Allool', 'VNC', 'King Allool'),\n",
    "    player = c('Meomeo888', 'GHOST', 'Dr Strange', 'quachtinh', 'LEXUS')\n",
    ")\n",
    "\n",
    "TF"
   ]
  },
  {
   "cell_type": "code",
   "execution_count": 5,
   "metadata": {},
   "outputs": [
    {
     "name": "stderr",
     "output_type": "stream",
     "text": [
      "`summarise()` ungrouping output (override with `.groups` argument)\n"
     ]
    },
    {
     "data": {
      "text/html": [
       "<table>\n",
       "<thead><tr><th scope=col>clan</th><th scope=col>n</th></tr></thead>\n",
       "<tbody>\n",
       "\t<tr><td>King Allool</td><td>3          </td></tr>\n",
       "\t<tr><td>VNC        </td><td>2          </td></tr>\n",
       "</tbody>\n",
       "</table>\n"
      ],
      "text/latex": [
       "\\begin{tabular}{r|ll}\n",
       " clan & n\\\\\n",
       "\\hline\n",
       "\t King Allool & 3          \\\\\n",
       "\t VNC         & 2          \\\\\n",
       "\\end{tabular}\n"
      ],
      "text/markdown": [
       "\n",
       "| clan | n |\n",
       "|---|---|\n",
       "| King Allool | 3           |\n",
       "| VNC         | 2           |\n",
       "\n"
      ],
      "text/plain": [
       "  clan        n\n",
       "1 King Allool 3\n",
       "2 VNC         2"
      ]
     },
     "metadata": {},
     "output_type": "display_data"
    },
    {
     "data": {
      "text/html": [
       "<ol class=list-inline>\n",
       "\t<li>3</li>\n",
       "\t<li>2</li>\n",
       "</ol>\n"
      ],
      "text/latex": [
       "\\begin{enumerate*}\n",
       "\\item 3\n",
       "\\item 2\n",
       "\\end{enumerate*}\n"
      ],
      "text/markdown": [
       "1. 3\n",
       "2. 2\n",
       "\n",
       "\n"
      ],
      "text/plain": [
       "[1] 3 2"
      ]
     },
     "metadata": {},
     "output_type": "display_data"
    }
   ],
   "source": [
    "#The number of rows for each group\n",
    "TF %>%\n",
    "group_by(clan) %>% summarize(n = n())\n",
    "\n",
    "# grouping metadata\n",
    "TF %>% \n",
    "group_by(clan) %>% group_size()"
   ]
  },
  {
   "cell_type": "code",
   "execution_count": 8,
   "metadata": {},
   "outputs": [
    {
     "data": {
      "text/html": [
       "<table>\n",
       "<thead><tr><th scope=col>clan</th><th scope=col>player</th><th scope=col>id</th></tr></thead>\n",
       "<tbody>\n",
       "\t<tr><td>VNC        </td><td>Meomeo888  </td><td>2          </td></tr>\n",
       "\t<tr><td>King Allool</td><td>GHOST      </td><td>1          </td></tr>\n",
       "\t<tr><td>King Allool</td><td>Dr Strange </td><td>1          </td></tr>\n",
       "\t<tr><td>VNC        </td><td>quachtinh  </td><td>2          </td></tr>\n",
       "\t<tr><td>King Allool</td><td>LEXUS      </td><td>1          </td></tr>\n",
       "</tbody>\n",
       "</table>\n"
      ],
      "text/latex": [
       "\\begin{tabular}{r|lll}\n",
       " clan & player & id\\\\\n",
       "\\hline\n",
       "\t VNC         & Meomeo888   & 2          \\\\\n",
       "\t King Allool & GHOST       & 1          \\\\\n",
       "\t King Allool & Dr Strange  & 1          \\\\\n",
       "\t VNC         & quachtinh   & 2          \\\\\n",
       "\t King Allool & LEXUS       & 1          \\\\\n",
       "\\end{tabular}\n"
      ],
      "text/markdown": [
       "\n",
       "| clan | player | id |\n",
       "|---|---|---|\n",
       "| VNC         | Meomeo888   | 2           |\n",
       "| King Allool | GHOST       | 1           |\n",
       "| King Allool | Dr Strange  | 1           |\n",
       "| VNC         | quachtinh   | 2           |\n",
       "| King Allool | LEXUS       | 1           |\n",
       "\n"
      ],
      "text/plain": [
       "  clan        player     id\n",
       "1 VNC         Meomeo888  2 \n",
       "2 King Allool GHOST      1 \n",
       "3 King Allool Dr Strange 1 \n",
       "4 VNC         quachtinh  2 \n",
       "5 King Allool LEXUS      1 "
      ]
     },
     "metadata": {},
     "output_type": "display_data"
    },
    {
     "data": {
      "text/html": [
       "<ol class=list-inline>\n",
       "\t<li>2</li>\n",
       "\t<li>1</li>\n",
       "\t<li>1</li>\n",
       "\t<li>2</li>\n",
       "\t<li>1</li>\n",
       "</ol>\n"
      ],
      "text/latex": [
       "\\begin{enumerate*}\n",
       "\\item 2\n",
       "\\item 1\n",
       "\\item 1\n",
       "\\item 2\n",
       "\\item 1\n",
       "\\end{enumerate*}\n"
      ],
      "text/markdown": [
       "1. 2\n",
       "2. 1\n",
       "3. 1\n",
       "4. 2\n",
       "5. 1\n",
       "\n",
       "\n"
      ],
      "text/plain": [
       "[1] 2 1 1 2 1"
      ]
     },
     "metadata": {},
     "output_type": "display_data"
    }
   ],
   "source": [
    "TF %>%\n",
    "group_by(clan) %>% mutate(id = cur_group_id())\n",
    "\n",
    "# grouping metadata\n",
    "\n",
    "TF %>% group_by(clan) %>% group_indices()"
   ]
  },
  {
   "cell_type": "code",
   "execution_count": 7,
   "metadata": {},
   "outputs": [
    {
     "name": "stderr",
     "output_type": "stream",
     "text": [
      "`summarise()` regrouping output by 'clan' (override with `.groups` argument)\n"
     ]
    },
    {
     "data": {
      "text/html": [
       "<table>\n",
       "<thead><tr><th scope=col>clan</th><th scope=col>row</th></tr></thead>\n",
       "<tbody>\n",
       "\t<tr><td>King Allool</td><td>2          </td></tr>\n",
       "\t<tr><td>King Allool</td><td>3          </td></tr>\n",
       "\t<tr><td>King Allool</td><td>5          </td></tr>\n",
       "\t<tr><td>VNC        </td><td>1          </td></tr>\n",
       "\t<tr><td>VNC        </td><td>4          </td></tr>\n",
       "</tbody>\n",
       "</table>\n"
      ],
      "text/latex": [
       "\\begin{tabular}{r|ll}\n",
       " clan & row\\\\\n",
       "\\hline\n",
       "\t King Allool & 2          \\\\\n",
       "\t King Allool & 3          \\\\\n",
       "\t King Allool & 5          \\\\\n",
       "\t VNC         & 1          \\\\\n",
       "\t VNC         & 4          \\\\\n",
       "\\end{tabular}\n"
      ],
      "text/markdown": [
       "\n",
       "| clan | row |\n",
       "|---|---|\n",
       "| King Allool | 2           |\n",
       "| King Allool | 3           |\n",
       "| King Allool | 5           |\n",
       "| VNC         | 1           |\n",
       "| VNC         | 4           |\n",
       "\n"
      ],
      "text/plain": [
       "  clan        row\n",
       "1 King Allool 2  \n",
       "2 King Allool 3  \n",
       "3 King Allool 5  \n",
       "4 VNC         1  \n",
       "5 VNC         4  "
      ]
     },
     "metadata": {},
     "output_type": "display_data"
    },
    {
     "data": {
      "text/html": [
       "<ol>\n",
       "\t<li><ol class=list-inline>\n",
       "\t<li>2</li>\n",
       "\t<li>3</li>\n",
       "\t<li>5</li>\n",
       "</ol>\n",
       "</li>\n",
       "\t<li><ol class=list-inline>\n",
       "\t<li>1</li>\n",
       "\t<li>4</li>\n",
       "</ol>\n",
       "</li>\n",
       "</ol>\n"
      ],
      "text/latex": [
       "\\begin{enumerate}\n",
       "\\item \\begin{enumerate*}\n",
       "\\item 2\n",
       "\\item 3\n",
       "\\item 5\n",
       "\\end{enumerate*}\n",
       "\n",
       "\\item \\begin{enumerate*}\n",
       "\\item 1\n",
       "\\item 4\n",
       "\\end{enumerate*}\n",
       "\n",
       "\\end{enumerate}\n"
      ],
      "text/markdown": [
       "1. 1. 2\n",
       "2. 3\n",
       "3. 5\n",
       "\n",
       "\n",
       "\n",
       "2. 1. 1\n",
       "2. 4\n",
       "\n",
       "\n",
       "\n",
       "\n",
       "\n"
      ],
      "text/plain": [
       "<list_of<integer>[2]>\n",
       "[[1]]\n",
       "[1] 2 3 5\n",
       "\n",
       "[[2]]\n",
       "[1] 1 4\n"
      ]
     },
     "metadata": {},
     "output_type": "display_data"
    }
   ],
   "source": [
    "TF %>%\n",
    "group_by(clan) %>%\n",
    "summarize(row = cur_group_rows())\n",
    "\n",
    "# Grouping metadata\n",
    "TF %>% group_by(clan) %>% group_rows()"
   ]
  },
  {
   "cell_type": "code",
   "execution_count": 10,
   "metadata": {},
   "outputs": [
    {
     "name": "stderr",
     "output_type": "stream",
     "text": [
      "`summarise()` ungrouping output (override with `.groups` argument)\n"
     ]
    },
    {
     "data": {
      "text/html": [
       "<table>\n",
       "<thead><tr><th scope=col>clan</th><th scope=col>data</th></tr></thead>\n",
       "<tbody>\n",
       "\t<tr><td>King Allool</td><td>1          </td></tr>\n",
       "\t<tr><td>VNC        </td><td>2          </td></tr>\n",
       "</tbody>\n",
       "</table>\n"
      ],
      "text/latex": [
       "\\begin{tabular}{r|ll}\n",
       " clan & data\\\\\n",
       "\\hline\n",
       "\t King Allool & 1          \\\\\n",
       "\t VNC         & 2          \\\\\n",
       "\\end{tabular}\n"
      ],
      "text/markdown": [
       "\n",
       "| clan | data |\n",
       "|---|---|\n",
       "| King Allool | 1           |\n",
       "| VNC         | 2           |\n",
       "\n"
      ],
      "text/plain": [
       "  clan        data\n",
       "1 King Allool 1   \n",
       "2 VNC         2   "
      ]
     },
     "metadata": {},
     "output_type": "display_data"
    }
   ],
   "source": [
    "TF %>%\n",
    "group_by(clan) %>%\n",
    "summarize(data = list(cur_group()))\n",
    "\n"
   ]
  },
  {
   "cell_type": "code",
   "execution_count": 11,
   "metadata": {},
   "outputs": [
    {
     "name": "stderr",
     "output_type": "stream",
     "text": [
      "`summarise()` ungrouping output (override with `.groups` argument)\n"
     ]
    },
    {
     "data": {
      "text/html": [
       "<table>\n",
       "<thead><tr><th scope=col>clan</th><th scope=col>data</th></tr></thead>\n",
       "<tbody>\n",
       "\t<tr><td>King Allool</td><td>2, 1, 3    </td></tr>\n",
       "\t<tr><td>VNC        </td><td>4, 5       </td></tr>\n",
       "</tbody>\n",
       "</table>\n"
      ],
      "text/latex": [
       "\\begin{tabular}{r|ll}\n",
       " clan & data\\\\\n",
       "\\hline\n",
       "\t King Allool & 2, 1, 3    \\\\\n",
       "\t VNC         & 4, 5       \\\\\n",
       "\\end{tabular}\n"
      ],
      "text/markdown": [
       "\n",
       "| clan | data |\n",
       "|---|---|\n",
       "| King Allool | 2, 1, 3     |\n",
       "| VNC         | 4, 5        |\n",
       "\n"
      ],
      "text/plain": [
       "  clan        data   \n",
       "1 King Allool 2, 1, 3\n",
       "2 VNC         4, 5   "
      ]
     },
     "metadata": {},
     "output_type": "display_data"
    },
    {
     "data": {
      "text/html": [
       "<table>\n",
       "<thead><tr><th scope=col>clan</th><th scope=col>.rows</th></tr></thead>\n",
       "<tbody>\n",
       "\t<tr><td>King Allool</td><td>2, 3, 5    </td></tr>\n",
       "\t<tr><td>VNC        </td><td>1, 4       </td></tr>\n",
       "</tbody>\n",
       "</table>\n"
      ],
      "text/latex": [
       "\\begin{tabular}{r|ll}\n",
       " clan & .rows\\\\\n",
       "\\hline\n",
       "\t King Allool & 2, 3, 5    \\\\\n",
       "\t VNC         & 1, 4       \\\\\n",
       "\\end{tabular}\n"
      ],
      "text/markdown": [
       "\n",
       "| clan | .rows |\n",
       "|---|---|\n",
       "| King Allool | 2, 3, 5     |\n",
       "| VNC         | 1, 4        |\n",
       "\n"
      ],
      "text/plain": [
       "  clan        .rows  \n",
       "1 King Allool 2, 3, 5\n",
       "2 VNC         1, 4   "
      ]
     },
     "metadata": {},
     "output_type": "display_data"
    }
   ],
   "source": [
    "TF %>%\n",
    "group_by(clan) %>%\n",
    "summarize(data = list(cur_data()))\n",
    "\n",
    "# grouping metadata\n",
    "\n",
    "TF %>% group_by(clan) %>% group_data()"
   ]
  },
  {
   "cell_type": "code",
   "execution_count": 14,
   "metadata": {},
   "outputs": [
    {
     "name": "stderr",
     "output_type": "stream",
     "text": [
      "`summarise()` ungrouping output (override with `.groups` argument)\n"
     ]
    },
    {
     "data": {
      "text/html": [
       "<table>\n",
       "<thead><tr><th scope=col>clan</th><th scope=col>data</th></tr></thead>\n",
       "<tbody>\n",
       "\t<tr><td>King Allool     </td><td>1, 1, 1, 4, 3, 5</td></tr>\n",
       "\t<tr><td>VNC        </td><td>2, 2, 6, 7 </td></tr>\n",
       "</tbody>\n",
       "</table>\n"
      ],
      "text/latex": [
       "\\begin{tabular}{r|ll}\n",
       " clan & data\\\\\n",
       "\\hline\n",
       "\t King Allool      & 1, 1, 1, 4, 3, 5\\\\\n",
       "\t VNC         & 2, 2, 6, 7 \\\\\n",
       "\\end{tabular}\n"
      ],
      "text/markdown": [
       "\n",
       "| clan | data |\n",
       "|---|---|\n",
       "| King Allool      | 1, 1, 1, 4, 3, 5 |\n",
       "| VNC         | 2, 2, 6, 7  |\n",
       "\n"
      ],
      "text/plain": [
       "  clan        data            \n",
       "1 King Allool 1, 1, 1, 4, 3, 5\n",
       "2 VNC         2, 2, 6, 7      "
      ]
     },
     "metadata": {},
     "output_type": "display_data"
    }
   ],
   "source": [
    "TF %>%\n",
    "group_by(clan) %>%\n",
    "summarize(data = list(cur_data_all()))"
   ]
  },
  {
   "cell_type": "code",
   "execution_count": null,
   "metadata": {},
   "outputs": [],
   "source": []
  }
 ],
 "metadata": {
  "kernelspec": {
   "display_name": "R",
   "language": "R",
   "name": "ir"
  },
  "language_info": {
   "codemirror_mode": "r",
   "file_extension": ".r",
   "mimetype": "text/x-r-source",
   "name": "R",
   "pygments_lexer": "r",
   "version": "3.6.1"
  }
 },
 "nbformat": 4,
 "nbformat_minor": 2
}
