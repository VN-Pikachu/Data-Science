{
 "cells": [
  {
   "cell_type": "code",
   "execution_count": 3,
   "metadata": {},
   "outputs": [],
   "source": [
    "library(tidyverse)"
   ]
  },
  {
   "cell_type": "markdown",
   "metadata": {},
   "source": [
    "# A helper function for ordering window function output"
   ]
  },
  {
   "cell_type": "markdown",
   "metadata": {},
   "source": [
    "This function makes it possible to control the ordering of window functions in R that don't have a specific ordering parameter. When translated to SQL it will modify the order clause of the OVER function."
   ]
  },
  {
   "cell_type": "markdown",
   "metadata": {},
   "source": [
    "```r\n",
    "order_by(order_by, call)\n",
    "```\n",
    "\n",
    "**Arguments**   \n",
    "`order_by`\t\n",
    "a vector to order_by\n",
    "\n",
    "`call`\t\n",
    "a function call to a window function, where the first argument is the vector being operated on"
   ]
  },
  {
   "cell_type": "markdown",
   "metadata": {},
   "source": [
    "# Examples"
   ]
  },
  {
   "cell_type": "code",
   "execution_count": 7,
   "metadata": {},
   "outputs": [
    {
     "data": {
      "text/html": [
       "<table>\n",
       "<thead><tr><th></th><th scope=col>year</th><th scope=col>value</th></tr></thead>\n",
       "<tbody>\n",
       "\t<tr><th scope=row>5</th><td>2004</td><td>16  </td></tr>\n",
       "\t<tr><th scope=row>4</th><td>2003</td><td> 9  </td></tr>\n",
       "\t<tr><th scope=row>1</th><td>2000</td><td> 0  </td></tr>\n",
       "\t<tr><th scope=row>6</th><td>2005</td><td>25  </td></tr>\n",
       "\t<tr><th scope=row>2</th><td>2001</td><td> 1  </td></tr>\n",
       "\t<tr><th scope=row>3</th><td>2002</td><td> 4  </td></tr>\n",
       "</tbody>\n",
       "</table>\n"
      ],
      "text/latex": [
       "\\begin{tabular}{r|ll}\n",
       "  & year & value\\\\\n",
       "\\hline\n",
       "\t5 & 2004 & 16  \\\\\n",
       "\t4 & 2003 &  9  \\\\\n",
       "\t1 & 2000 &  0  \\\\\n",
       "\t6 & 2005 & 25  \\\\\n",
       "\t2 & 2001 &  1  \\\\\n",
       "\t3 & 2002 &  4  \\\\\n",
       "\\end{tabular}\n"
      ],
      "text/markdown": [
       "\n",
       "| <!--/--> | year | value |\n",
       "|---|---|---|\n",
       "| 5 | 2004 | 16   |\n",
       "| 4 | 2003 |  9   |\n",
       "| 1 | 2000 |  0   |\n",
       "| 6 | 2005 | 25   |\n",
       "| 2 | 2001 |  1   |\n",
       "| 3 | 2002 |  4   |\n",
       "\n"
      ],
      "text/plain": [
       "  year value\n",
       "5 2004 16   \n",
       "4 2003  9   \n",
       "1 2000  0   \n",
       "6 2005 25   \n",
       "2 2001  1   \n",
       "3 2002  4   "
      ]
     },
     "metadata": {},
     "output_type": "display_data"
    }
   ],
   "source": [
    "df <- data.frame(year = 2000:2005, value = (0:5) ^ 2)\n",
    "scrambled <- df[sample(nrow(df)), ]\n",
    "\n",
    "scrambled"
   ]
  },
  {
   "cell_type": "code",
   "execution_count": 9,
   "metadata": {},
   "outputs": [
    {
     "data": {
      "text/html": [
       "<table>\n",
       "<thead><tr><th scope=col>year</th><th scope=col>value</th><th scope=col>running</th></tr></thead>\n",
       "<tbody>\n",
       "\t<tr><td>2004</td><td>16  </td><td>16  </td></tr>\n",
       "\t<tr><td>2003</td><td> 9  </td><td>25  </td></tr>\n",
       "\t<tr><td>2000</td><td> 0  </td><td>25  </td></tr>\n",
       "\t<tr><td>2005</td><td>25  </td><td>50  </td></tr>\n",
       "\t<tr><td>2001</td><td> 1  </td><td>51  </td></tr>\n",
       "\t<tr><td>2002</td><td> 4  </td><td>55  </td></tr>\n",
       "</tbody>\n",
       "</table>\n"
      ],
      "text/latex": [
       "\\begin{tabular}{r|lll}\n",
       " year & value & running\\\\\n",
       "\\hline\n",
       "\t 2004 & 16   & 16  \\\\\n",
       "\t 2003 &  9   & 25  \\\\\n",
       "\t 2000 &  0   & 25  \\\\\n",
       "\t 2005 & 25   & 50  \\\\\n",
       "\t 2001 &  1   & 51  \\\\\n",
       "\t 2002 &  4   & 55  \\\\\n",
       "\\end{tabular}\n"
      ],
      "text/markdown": [
       "\n",
       "| year | value | running |\n",
       "|---|---|---|\n",
       "| 2004 | 16   | 16   |\n",
       "| 2003 |  9   | 25   |\n",
       "| 2000 |  0   | 25   |\n",
       "| 2005 | 25   | 50   |\n",
       "| 2001 |  1   | 51   |\n",
       "| 2002 |  4   | 55   |\n",
       "\n"
      ],
      "text/plain": [
       "  year value running\n",
       "1 2004 16    16     \n",
       "2 2003  9    25     \n",
       "3 2000  0    25     \n",
       "4 2005 25    50     \n",
       "5 2001  1    51     \n",
       "6 2002  4    55     "
      ]
     },
     "metadata": {},
     "output_type": "display_data"
    }
   ],
   "source": [
    "#Wrong way\n",
    "wrong <- mutate(scrambled, running = cumsum(value))\n",
    "wrong"
   ]
  },
  {
   "cell_type": "code",
   "execution_count": 10,
   "metadata": {},
   "outputs": [
    {
     "data": {
      "text/html": [
       "<table>\n",
       "<thead><tr><th scope=col>year</th><th scope=col>value</th><th scope=col>running</th></tr></thead>\n",
       "<tbody>\n",
       "\t<tr><td>2000</td><td> 0  </td><td> 0  </td></tr>\n",
       "\t<tr><td>2001</td><td> 1  </td><td> 1  </td></tr>\n",
       "\t<tr><td>2002</td><td> 4  </td><td> 5  </td></tr>\n",
       "\t<tr><td>2003</td><td> 9  </td><td>14  </td></tr>\n",
       "\t<tr><td>2004</td><td>16  </td><td>30  </td></tr>\n",
       "\t<tr><td>2005</td><td>25  </td><td>55  </td></tr>\n",
       "</tbody>\n",
       "</table>\n"
      ],
      "text/latex": [
       "\\begin{tabular}{r|lll}\n",
       " year & value & running\\\\\n",
       "\\hline\n",
       "\t 2000 &  0   &  0  \\\\\n",
       "\t 2001 &  1   &  1  \\\\\n",
       "\t 2002 &  4   &  5  \\\\\n",
       "\t 2003 &  9   & 14  \\\\\n",
       "\t 2004 & 16   & 30  \\\\\n",
       "\t 2005 & 25   & 55  \\\\\n",
       "\\end{tabular}\n"
      ],
      "text/markdown": [
       "\n",
       "| year | value | running |\n",
       "|---|---|---|\n",
       "| 2000 |  0   |  0   |\n",
       "| 2001 |  1   |  1   |\n",
       "| 2002 |  4   |  5   |\n",
       "| 2003 |  9   | 14   |\n",
       "| 2004 | 16   | 30   |\n",
       "| 2005 | 25   | 55   |\n",
       "\n"
      ],
      "text/plain": [
       "  year value running\n",
       "1 2000  0     0     \n",
       "2 2001  1     1     \n",
       "3 2002  4     5     \n",
       "4 2003  9    14     \n",
       "5 2004 16    30     \n",
       "6 2005 25    55     "
      ]
     },
     "metadata": {},
     "output_type": "display_data"
    }
   ],
   "source": [
    "#Right way\n",
    "right <- mutate(scrambled, running = order_by(year, cumsum(value)))\n",
    "arrange(right, year)"
   ]
  }
 ],
 "metadata": {
  "kernelspec": {
   "display_name": "R",
   "language": "R",
   "name": "ir"
  },
  "language_info": {
   "codemirror_mode": "r",
   "file_extension": ".r",
   "mimetype": "text/x-r-source",
   "name": "R",
   "pygments_lexer": "r",
   "version": "3.6.1"
  }
 },
 "nbformat": 4,
 "nbformat_minor": 2
}
