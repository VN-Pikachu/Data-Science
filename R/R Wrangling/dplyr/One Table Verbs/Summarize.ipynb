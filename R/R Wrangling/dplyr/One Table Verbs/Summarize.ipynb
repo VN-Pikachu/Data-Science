{
 "cells": [
  {
   "cell_type": "code",
   "execution_count": 3,
   "metadata": {},
   "outputs": [],
   "source": [
    "library(tidyverse)"
   ]
  },
  {
   "cell_type": "markdown",
   "metadata": {},
   "source": [
    "<b style='color:red'>Equivalent `DataFrame.agg()`</b>"
   ]
  },
  {
   "cell_type": "markdown",
   "metadata": {},
   "source": [
    "**`summarise()`** creates a new data frame. It will have one (or more) rows for each combination of grouping variables; if there are no grouping variables, the output will have a single row summarising all observations in the input. It will contain one column for each grouping variable and one column for each of the summary statistics that you have specified."
   ]
  },
  {
   "cell_type": "markdown",
   "metadata": {},
   "source": [
    "```R\n",
    "summarise(.data, ..., .groups = NULL)\n",
    "\n",
    "summarize(.data, ..., .groups = NULL)\n",
    "```"
   ]
  },
  {
   "cell_type": "markdown",
   "metadata": {},
   "source": [
    "# Useful functions"
   ]
  },
  {
   "cell_type": "raw",
   "metadata": {},
   "source": [
    "* Center: mean(), median()\n",
    "\n",
    "* Spread: sd(), IQR(), mad()\n",
    "\n",
    "* Range: min(), max(), quantile()\n",
    "\n",
    "* Position: first(), last(), nth(),\n",
    "\n",
    "* Count: n(), n_distinct()\n",
    "\n",
    "* Logical: any(), all()"
   ]
  },
  {
   "cell_type": "markdown",
   "metadata": {},
   "source": [
    "# Examples"
   ]
  },
  {
   "cell_type": "markdown",
   "metadata": {},
   "source": [
    "A summary applied to ungrouped tbl returns a single row"
   ]
  },
  {
   "cell_type": "code",
   "execution_count": 3,
   "metadata": {},
   "outputs": [
    {
     "data": {
      "text/html": [
       "<table>\n",
       "<thead><tr><th scope=col>mean</th><th scope=col>n</th></tr></thead>\n",
       "<tbody>\n",
       "\t<tr><td>3.471795</td><td>234     </td></tr>\n",
       "</tbody>\n",
       "</table>\n"
      ],
      "text/latex": [
       "\\begin{tabular}{r|ll}\n",
       " mean & n\\\\\n",
       "\\hline\n",
       "\t 3.471795 & 234     \\\\\n",
       "\\end{tabular}\n"
      ],
      "text/markdown": [
       "\n",
       "| mean | n |\n",
       "|---|---|\n",
       "| 3.471795 | 234      |\n",
       "\n"
      ],
      "text/plain": [
       "  mean     n  \n",
       "1 3.471795 234"
      ]
     },
     "metadata": {},
     "output_type": "display_data"
    }
   ],
   "source": [
    "#Return the mean of displacement and the number of observations\n",
    "mpg %>%\n",
    "summarize(mean = mean(displ), n = n())"
   ]
  },
  {
   "cell_type": "markdown",
   "metadata": {},
   "source": [
    "Usually, you'll want to group first"
   ]
  },
  {
   "cell_type": "code",
   "execution_count": 7,
   "metadata": {},
   "outputs": [
    {
     "name": "stderr",
     "output_type": "stream",
     "text": [
      "`summarise()` ungrouping output (override with `.groups` argument)\n"
     ]
    },
    {
     "data": {
      "text/html": [
       "<table>\n",
       "<thead><tr><th scope=col>cyl</th><th scope=col>mean_dsiplacement</th><th scope=col>n</th></tr></thead>\n",
       "<tbody>\n",
       "\t<tr><td>4       </td><td>2.145679</td><td>81      </td></tr>\n",
       "\t<tr><td>5       </td><td>2.500000</td><td> 4      </td></tr>\n",
       "\t<tr><td>6       </td><td>3.408861</td><td>79      </td></tr>\n",
       "\t<tr><td>8       </td><td>5.132857</td><td>70      </td></tr>\n",
       "</tbody>\n",
       "</table>\n"
      ],
      "text/latex": [
       "\\begin{tabular}{r|lll}\n",
       " cyl & mean\\_dsiplacement & n\\\\\n",
       "\\hline\n",
       "\t 4        & 2.145679 & 81      \\\\\n",
       "\t 5        & 2.500000 &  4      \\\\\n",
       "\t 6        & 3.408861 & 79      \\\\\n",
       "\t 8        & 5.132857 & 70      \\\\\n",
       "\\end{tabular}\n"
      ],
      "text/markdown": [
       "\n",
       "| cyl | mean_dsiplacement | n |\n",
       "|---|---|---|\n",
       "| 4        | 2.145679 | 81       |\n",
       "| 5        | 2.500000 |  4       |\n",
       "| 6        | 3.408861 | 79       |\n",
       "| 8        | 5.132857 | 70       |\n",
       "\n"
      ],
      "text/plain": [
       "  cyl mean_dsiplacement n \n",
       "1 4   2.145679          81\n",
       "2 5   2.500000           4\n",
       "3 6   3.408861          79\n",
       "4 8   5.132857          70"
      ]
     },
     "metadata": {},
     "output_type": "display_data"
    }
   ],
   "source": [
    "#For each group `cyl`, calculate the mean `displ` and the number ber observations for each group\n",
    "mpg %>%\n",
    "group_by(cyl) %>%\n",
    "summarize(mean_dsiplacement = mean(displ), n = n())"
   ]
  },
  {
   "cell_type": "markdown",
   "metadata": {},
   "source": [
    "dplyr 1.0.0 allows to summarise to more than one value:"
   ]
  },
  {
   "cell_type": "code",
   "execution_count": 8,
   "metadata": {},
   "outputs": [
    {
     "name": "stderr",
     "output_type": "stream",
     "text": [
      "`summarise()` regrouping output by 'cyl' (override with `.groups` argument)\n"
     ]
    },
    {
     "data": {
      "text/html": [
       "<table>\n",
       "<thead><tr><th scope=col>cyl</th><th scope=col>qs</th><th scope=col>prob</th></tr></thead>\n",
       "<tbody>\n",
       "\t<tr><td>4     </td><td> 78.85</td><td>0.25  </td></tr>\n",
       "\t<tr><td>4     </td><td>120.65</td><td>0.75  </td></tr>\n",
       "\t<tr><td>6     </td><td>160.00</td><td>0.25  </td></tr>\n",
       "\t<tr><td>6     </td><td>196.30</td><td>0.75  </td></tr>\n",
       "\t<tr><td>8     </td><td>301.75</td><td>0.25  </td></tr>\n",
       "\t<tr><td>8     </td><td>390.00</td><td>0.75  </td></tr>\n",
       "</tbody>\n",
       "</table>\n"
      ],
      "text/latex": [
       "\\begin{tabular}{r|lll}\n",
       " cyl & qs & prob\\\\\n",
       "\\hline\n",
       "\t 4      &  78.85 & 0.25  \\\\\n",
       "\t 4      & 120.65 & 0.75  \\\\\n",
       "\t 6      & 160.00 & 0.25  \\\\\n",
       "\t 6      & 196.30 & 0.75  \\\\\n",
       "\t 8      & 301.75 & 0.25  \\\\\n",
       "\t 8      & 390.00 & 0.75  \\\\\n",
       "\\end{tabular}\n"
      ],
      "text/markdown": [
       "\n",
       "| cyl | qs | prob |\n",
       "|---|---|---|\n",
       "| 4      |  78.85 | 0.25   |\n",
       "| 4      | 120.65 | 0.75   |\n",
       "| 6      | 160.00 | 0.25   |\n",
       "| 6      | 196.30 | 0.75   |\n",
       "| 8      | 301.75 | 0.25   |\n",
       "| 8      | 390.00 | 0.75   |\n",
       "\n"
      ],
      "text/plain": [
       "  cyl qs     prob\n",
       "1 4    78.85 0.25\n",
       "2 4   120.65 0.75\n",
       "3 6   160.00 0.25\n",
       "4 6   196.30 0.75\n",
       "5 8   301.75 0.25\n",
       "6 8   390.00 0.75"
      ]
     },
     "metadata": {},
     "output_type": "display_data"
    }
   ],
   "source": [
    "mtcars %>%\n",
    "   group_by(cyl) %>%\n",
    "   summarise(qs = quantile(disp, c(0.25, 0.75)), prob = c(0.25, 0.75))"
   ]
  },
  {
   "cell_type": "markdown",
   "metadata": {},
   "source": [
    "Each summary call removes one grouping level (since that group\n",
    "is now just a single row)"
   ]
  },
  {
   "cell_type": "code",
   "execution_count": 9,
   "metadata": {},
   "outputs": [
    {
     "name": "stderr",
     "output_type": "stream",
     "text": [
      "`summarise()` regrouping output by 'cyl' (override with `.groups` argument)\n"
     ]
    },
    {
     "data": {
      "text/html": [
       "'cyl'"
      ],
      "text/latex": [
       "'cyl'"
      ],
      "text/markdown": [
       "'cyl'"
      ],
      "text/plain": [
       "[1] \"cyl\""
      ]
     },
     "metadata": {},
     "output_type": "display_data"
    }
   ],
   "source": [
    "mtcars %>%\n",
    "  group_by(cyl, vs) %>%\n",
    "  summarise(cyl_n = n()) %>%\n",
    "  group_vars()"
   ]
  },
  {
   "cell_type": "code",
   "execution_count": 5,
   "metadata": {},
   "outputs": [
    {
     "ename": "ERROR",
     "evalue": "Error: Problem with `summarise()` input `res`.\nx Can't subset columns that don't exist.\nx Column `Species` doesn't exist.\ni Input `res` is `across(!Species, mean)`.\ni The error occurred in group 1: Species = \"setosa\".\n",
     "output_type": "error",
     "traceback": [
      "Error: Problem with `summarise()` input `res`.\nx Can't subset columns that don't exist.\nx Column `Species` doesn't exist.\ni Input `res` is `across(!Species, mean)`.\ni The error occurred in group 1: Species = \"setosa\".\nTraceback:\n",
      "1. iris %>% group_by(Species) %>% summarize(res = across(!Species, \n .     mean))",
      "2. withVisible(eval(quote(`_fseq`(`_lhs`)), env, env))",
      "3. eval(quote(`_fseq`(`_lhs`)), env, env)",
      "4. eval(quote(`_fseq`(`_lhs`)), env, env)",
      "5. `_fseq`(`_lhs`)",
      "6. freduce(value, `_function_list`)",
      "7. withVisible(function_list[[k]](value))",
      "8. function_list[[k]](value)",
      "9. summarize(., res = across(!Species, mean))",
      "10. summarise.grouped_df(., res = across(!Species, mean))",
      "11. summarise_cols(.data, ...)",
      "12. withCallingHandlers({\n  .     for (i in seq_along(dots)) {\n  .         quo <- dots[[i]]\n  .         chunks[[i]] <- mask$eval_all_summarise(quo)\n  .         mask$across_cache_reset()\n  .         result_type <- types[[i]] <- withCallingHandlers(vec_ptype_common(!!!chunks[[i]]), \n  .             vctrs_error_incompatible_type = function(cnd) {\n  .                 abort(class = \"dplyr:::error_summarise_incompatible_combine\", \n  .                   parent = cnd)\n  .             })\n  .         if ((is.null(dots_names) || dots_names[i] == \"\") && is.data.frame(result_type)) {\n  .             map2(seq_along(result_type), names(result_type), \n  .                 function(j, nm) {\n  .                   mask$add(nm, pluck(chunks[[i]], j))\n  .                 })\n  .         }\n  .         else {\n  .             mask$add(auto_named_dots[i], chunks[[i]])\n  .         }\n  .     }\n  .     recycle_info <- .Call(dplyr_summarise_recycle_chunks, chunks, \n  .         mask$get_rows(), types)\n  .     chunks <- recycle_info$chunks\n  .     sizes <- recycle_info$sizes\n  .     for (i in seq_along(dots)) {\n  .         result <- vec_c(!!!chunks[[i]], .ptype = types[[i]])\n  .         if ((is.null(dots_names) || dots_names[i] == \"\") && is.data.frame(result)) {\n  .             cols[names(result)] <- result\n  .         }\n  .         else {\n  .             cols[[auto_named_dots[i]]] <- result\n  .         }\n  .     }\n  . }, error = function(e) {\n  .     local_call_step(dots = dots, .index = i, .fn = \"summarise\", \n  .         .dot_data = inherits(e, \"rlang_error_data_pronoun_not_found\"))\n  .     call_step <- peek_call_step()\n  .     error_name <- call_step$error_name\n  .     if (inherits(e, \"dplyr:::error_summarise_incompatible_combine\")) {\n  .         bullets <- c(x = glue(\"Input `{error_name}` must return compatible vectors across groups\", \n  .             .envir = peek_call_step()), i = cnd_bullet_combine_details(e$parent$x, \n  .             e$parent$x_arg), i = cnd_bullet_combine_details(e$parent$y, \n  .             e$parent$y_arg))\n  .     }\n  .     else if (inherits(e, \"dplyr:::summarise_unsupported_type\")) {\n  .         bullets <- c(x = glue(\"Input `{error_name}` must be a vector, not {friendly_type_of(result)}.\", \n  .             result = e$result), i = cnd_bullet_rowwise_unlist())\n  .     }\n  .     else if (inherits(e, \"dplyr:::summarise_incompatible_size\")) {\n  .         peek_mask()$set_current_group(e$group)\n  .         bullets <- c(x = glue(\"Input `{error_name}` must be size {or_1(expected_size)}, not {size}.\", \n  .             expected_size = e$expected_size, size = e$size), \n  .             i = glue(\"An earlier column had size {expected_size}.\", \n  .                 expected_size = e$expected_size))\n  .     }\n  .     else {\n  .         bullets <- c(x = conditionMessage(e))\n  .     }\n  .     bullets <- c(cnd_bullet_header(), bullets, i = cnd_bullet_input_info())\n  .     if (!inherits(e, \"dplyr:::error_summarise_incompatible_combine\")) {\n  .         bullets <- c(bullets, i = cnd_bullet_cur_group_label())\n  .     }\n  .     abort(bullets, class = \"dplyr_error\")\n  . })",
      "13. mask$eval_all_summarise(quo)",
      "14. across(!Species, mean)",
      "15. across_setup({\n  .     {\n  .         .cols\n  .     }\n  . }, fns = .fns, names = .names, key = key, .caller_env = caller_env())",
      "16. tidyselect::eval_select(cols, data = mask$across_cols())",
      "17. eval_select_impl(data, names(data), as_quosure(expr, env), include = include, \n  .     exclude = exclude, strict = strict, name_spec = name_spec, \n  .     allow_rename = allow_rename)",
      "18. with_subscript_errors(vars_select_eval(vars, expr, strict, data = x, \n  .     name_spec = name_spec, uniquely_named = uniquely_named, allow_rename = allow_rename, \n  .     type = type), type = type)",
      "19. tryCatch(instrument_base_errors(expr), vctrs_error_subscript = function(cnd) {\n  .     cnd$subscript_action <- subscript_action(type)\n  .     cnd$subscript_elt <- \"column\"\n  .     cnd_signal(cnd)\n  . })",
      "20. tryCatchList(expr, classes, parentenv, handlers)",
      "21. tryCatchOne(expr, names, parentenv, handlers[[1L]])",
      "22. value[[3L]](cond)",
      "23. cnd_signal(cnd)",
      "24. rlang:::signal_abort(x)",
      "25. signalCondition(cnd)",
      "26. (function (e) \n  . {\n  .     local_call_step(dots = dots, .index = i, .fn = \"summarise\", \n  .         .dot_data = inherits(e, \"rlang_error_data_pronoun_not_found\"))\n  .     call_step <- peek_call_step()\n  .     error_name <- call_step$error_name\n  .     if (inherits(e, \"dplyr:::error_summarise_incompatible_combine\")) {\n  .         bullets <- c(x = glue(\"Input `{error_name}` must return compatible vectors across groups\", \n  .             .envir = peek_call_step()), i = cnd_bullet_combine_details(e$parent$x, \n  .             e$parent$x_arg), i = cnd_bullet_combine_details(e$parent$y, \n  .             e$parent$y_arg))\n  .     }\n  .     else if (inherits(e, \"dplyr:::summarise_unsupported_type\")) {\n  .         bullets <- c(x = glue(\"Input `{error_name}` must be a vector, not {friendly_type_of(result)}.\", \n  .             result = e$result), i = cnd_bullet_rowwise_unlist())\n  .     }\n  .     else if (inherits(e, \"dplyr:::summarise_incompatible_size\")) {\n  .         peek_mask()$set_current_group(e$group)\n  .         bullets <- c(x = glue(\"Input `{error_name}` must be size {or_1(expected_size)}, not {size}.\", \n  .             expected_size = e$expected_size, size = e$size), \n  .             i = glue(\"An earlier column had size {expected_size}.\", \n  .                 expected_size = e$expected_size))\n  .     }\n  .     else {\n  .         bullets <- c(x = conditionMessage(e))\n  .     }\n  .     bullets <- c(cnd_bullet_header(), bullets, i = cnd_bullet_input_info())\n  .     if (!inherits(e, \"dplyr:::error_summarise_incompatible_combine\")) {\n  .         bullets <- c(bullets, i = cnd_bullet_cur_group_label())\n  .     }\n  .     abort(bullets, class = \"dplyr_error\")\n  . })(structure(list(message = \"\", trace = structure(list(calls = list(\n  .     IRkernel::main(), kernel$run(), IRkernel:::handle_shell(), \n  .     executor$execute(msg), base::tryCatch(evaluate(request$content$code, \n  .         envir = .GlobalEnv, output_handler = oh, stop_on_error = 1L), \n  .         interrupt = function(cond) interrupted <<- TRUE, error = .self$handle_error), \n  .     base:::tryCatchList(expr, classes, parentenv, handlers), \n  .     base:::tryCatchOne(tryCatchList(expr, names[-nh], parentenv, \n  .         handlers[-nh]), names[nh], parentenv, handlers[[nh]]), \n  .     base:::doTryCatch(return(expr), name, parentenv, handler), \n  .     base:::tryCatchList(expr, names[-nh], parentenv, handlers[-nh]), \n  .     base:::tryCatchOne(expr, names, parentenv, handlers[[1L]]), \n  .     base:::doTryCatch(return(expr), name, parentenv, handler), \n  .     evaluate::evaluate(request$content$code, envir = .GlobalEnv, \n  .         output_handler = oh, stop_on_error = 1L), evaluate:::evaluate_call(expr, \n  .         parsed$src[[i]], envir = envir, enclos = enclos, debug = debug, \n  .         last = i == length(out), use_try = stop_on_error != 2L, \n  .         keep_warning = keep_warning, keep_message = keep_message, \n  .         output_handler = output_handler, include_timing = include_timing), \n  .     evaluate:::timing_fn(handle(ev <- withCallingHandlers(withVisible(eval(expr, \n  .         envir, enclos)), warning = wHandler, error = eHandler, \n  .         message = mHandler))), evaluate:::handle(ev <- withCallingHandlers(withVisible(eval(expr, \n  .         envir, enclos)), warning = wHandler, error = eHandler, \n  .         message = mHandler)), base::try(f, silent = TRUE), base::tryCatch(expr, \n  .         error = function(e) {\n  .             call <- conditionCall(e)\n  .             if (!is.null(call)) {\n  .                 if (identical(call[[1L]], quote(doTryCatch))) \n  .                   call <- sys.call(-4L)\n  .                 dcall <- deparse(call)[1L]\n  .                 prefix <- paste(\"Error in\", dcall, \": \")\n  .                 LONG <- 75L\n  .                 sm <- strsplit(conditionMessage(e), \"\\n\")[[1L]]\n  .                 w <- 14L + nchar(dcall, type = \"w\") + nchar(sm[1L], \n  .                   type = \"w\")\n  .                 if (is.na(w)) \n  .                   w <- 14L + nchar(dcall, type = \"b\") + nchar(sm[1L], \n  .                     type = \"b\")\n  .                 if (w > LONG) \n  .                   prefix <- paste0(prefix, \"\\n  \")\n  .             }\n  .             else prefix <- \"Error : \"\n  .             msg <- paste0(prefix, conditionMessage(e), \"\\n\")\n  .             .Internal(seterrmessage(msg[1L]))\n  .             if (!silent && isTRUE(getOption(\"show.error.messages\"))) {\n  .                 cat(msg, file = outFile)\n  .                 .Internal(printDeferredWarnings())\n  .             }\n  .             invisible(structure(msg, class = \"try-error\", condition = e))\n  .         }), base:::tryCatchList(expr, classes, parentenv, handlers), \n  .     base:::tryCatchOne(expr, names, parentenv, handlers[[1L]]), \n  .     base:::doTryCatch(return(expr), name, parentenv, handler), \n  .     base::withCallingHandlers(withVisible(eval(expr, envir, enclos)), \n  .         warning = wHandler, error = eHandler, message = mHandler), \n  .     base::withVisible(eval(expr, envir, enclos)), base::eval(expr, \n  .         envir, enclos), base::eval(expr, envir, enclos), iris %>% \n  .         group_by(Species) %>% summarize(res = across(!Species, \n  .         mean)), base::withVisible(eval(quote(`_fseq`(`_lhs`)), \n  .         env, env)), base::eval(quote(`_fseq`(`_lhs`)), env, env), \n  .     base::eval(quote(`_fseq`(`_lhs`)), env, env), `_fseq`(`_lhs`), \n  .     magrittr::freduce(value, `_function_list`), base::withVisible(function_list[[k]](value)), \n  .     function_list[[k]](value), dplyr::summarize(., res = across(!Species, \n  .         mean)), dplyr:::summarise.grouped_df(., res = across(!Species, \n  .         mean)), dplyr:::summarise_cols(.data, ...), base::withCallingHandlers({\n  .         for (i in seq_along(dots)) {\n  .             quo <- dots[[i]]\n  .             chunks[[i]] <- mask$eval_all_summarise(quo)\n  .             mask$across_cache_reset()\n  .             result_type <- types[[i]] <- withCallingHandlers(vec_ptype_common(!!!chunks[[i]]), \n  .                 vctrs_error_incompatible_type = function(cnd) {\n  .                   abort(class = \"dplyr:::error_summarise_incompatible_combine\", \n  .                     parent = cnd)\n  .                 })\n  .             if ((is.null(dots_names) || dots_names[i] == \"\") && \n  .                 is.data.frame(result_type)) {\n  .                 map2(seq_along(result_type), names(result_type), \n  .                   function(j, nm) {\n  .                     mask$add(nm, pluck(chunks[[i]], j))\n  .                   })\n  .             }\n  .             else {\n  .                 mask$add(auto_named_dots[i], chunks[[i]])\n  .             }\n  .         }\n  .         recycle_info <- .Call(dplyr_summarise_recycle_chunks, \n  .             chunks, mask$get_rows(), types)\n  .         chunks <- recycle_info$chunks\n  .         sizes <- recycle_info$sizes\n  .         for (i in seq_along(dots)) {\n  .             result <- vec_c(!!!chunks[[i]], .ptype = types[[i]])\n  .             if ((is.null(dots_names) || dots_names[i] == \"\") && \n  .                 is.data.frame(result)) {\n  .                 cols[names(result)] <- result\n  .             }\n  .             else {\n  .                 cols[[auto_named_dots[i]]] <- result\n  .             }\n  .         }\n  .     }, error = function(e) {\n  .         local_call_step(dots = dots, .index = i, .fn = \"summarise\", \n  .             .dot_data = inherits(e, \"rlang_error_data_pronoun_not_found\"))\n  .         call_step <- peek_call_step()\n  .         error_name <- call_step$error_name\n  .         if (inherits(e, \"dplyr:::error_summarise_incompatible_combine\")) {\n  .             bullets <- c(x = glue(\"Input `{error_name}` must return compatible vectors across groups\", \n  .                 .envir = peek_call_step()), i = cnd_bullet_combine_details(e$parent$x, \n  .                 e$parent$x_arg), i = cnd_bullet_combine_details(e$parent$y, \n  .                 e$parent$y_arg))\n  .         }\n  .         else if (inherits(e, \"dplyr:::summarise_unsupported_type\")) {\n  .             bullets <- c(x = glue(\"Input `{error_name}` must be a vector, not {friendly_type_of(result)}.\", \n  .                 result = e$result), i = cnd_bullet_rowwise_unlist())\n  .         }\n  .         else if (inherits(e, \"dplyr:::summarise_incompatible_size\")) {\n  .             peek_mask()$set_current_group(e$group)\n  .             bullets <- c(x = glue(\"Input `{error_name}` must be size {or_1(expected_size)}, not {size}.\", \n  .                 expected_size = e$expected_size, size = e$size), \n  .                 i = glue(\"An earlier column had size {expected_size}.\", \n  .                   expected_size = e$expected_size))\n  .         }\n  .         else {\n  .             bullets <- c(x = conditionMessage(e))\n  .         }\n  .         bullets <- c(cnd_bullet_header(), bullets, i = cnd_bullet_input_info())\n  .         if (!inherits(e, \"dplyr:::error_summarise_incompatible_combine\")) {\n  .             bullets <- c(bullets, i = cnd_bullet_cur_group_label())\n  .         }\n  .         abort(bullets, class = \"dplyr_error\")\n  .     }), mask$eval_all_summarise(quo), dplyr::across(!Species, \n  .         mean), dplyr:::across_setup({\n  .         {\n  .             .cols\n  .         }\n  .     }, fns = .fns, names = .names, key = key, .caller_env = caller_env()), \n  .     tidyselect::eval_select(cols, data = mask$across_cols()), \n  .     tidyselect:::eval_select_impl(data, names(data), as_quosure(expr, \n  .         env), include = include, exclude = exclude, strict = strict, \n  .         name_spec = name_spec, allow_rename = allow_rename), \n  .     tidyselect:::with_subscript_errors(vars_select_eval(vars, \n  .         expr, strict, data = x, name_spec = name_spec, uniquely_named = uniquely_named, \n  .         allow_rename = allow_rename, type = type), type = type), \n  .     base::tryCatch(instrument_base_errors(expr), vctrs_error_subscript = function(cnd) {\n  .         cnd$subscript_action <- subscript_action(type)\n  .         cnd$subscript_elt <- \"column\"\n  .         cnd_signal(cnd)\n  .     }), base:::tryCatchList(expr, classes, parentenv, handlers), \n  .     base:::tryCatchOne(expr, names, parentenv, handlers[[1L]]), \n  .     base:::doTryCatch(return(expr), name, parentenv, handler), \n  .     tidyselect:::instrument_base_errors(expr), base::withCallingHandlers(expr, \n  .         simpleError = function(cnd) {\n  .             abort(conditionMessage(cnd), parent = cnd)\n  .         }), tidyselect:::vars_select_eval(vars, expr, strict, \n  .         data = x, name_spec = name_spec, uniquely_named = uniquely_named, \n  .         allow_rename = allow_rename, type = type), tidyselect:::walk_data_tree(expr, \n  .         data_mask, context_mask), tidyselect:::eval_bang(expr, \n  .         data_mask, context_mask), tidyselect:::walk_data_tree(expr[[2]], \n  .         data_mask, context_mask), tidyselect:::as_indices_sel_impl(out, \n  .         vars = vars, strict = strict, data), tidyselect:::as_indices_impl(x, \n  .         vars, strict = strict), tidyselect:::chr_as_locations(x, \n  .         vars), vctrs::vec_as_location(x, n = length(vars), names = vars), \n  .     (function () \n  .     stop_subscript_oob(i = i, subscript_type = subscript_type, \n  .         names = names, subscript_action = subscript_action, subscript_arg = subscript_arg))(), \n  .     vctrs:::stop_subscript_oob(i = i, subscript_type = subscript_type, \n  .         names = names, subscript_action = subscript_action, subscript_arg = subscript_arg), \n  .     vctrs:::stop_subscript(class = \"vctrs_error_subscript_oob\", \n  .         i = i, subscript_type = subscript_type, ...)), parents = c(0L, \n  . 1L, 2L, 3L, 4L, 5L, 6L, 7L, 6L, 9L, 10L, 4L, 12L, 13L, 13L, 15L, \n  . 16L, 17L, 18L, 19L, 13L, 13L, 13L, 23L, 0L, 25L, 25L, 27L, 28L, \n  . 29L, 30L, 30L, 32L, 32L, 34L, 35L, 35L, 0L, 38L, 39L, 40L, 41L, \n  . 42L, 43L, 44L, 45L, 42L, 47L, 41L, 49L, 50L, 51L, 52L, 53L, 54L, \n  . 55L, 56L, 57L, 58L), indices = 1:59), class = \"rlang_trace\", version = 1L), \n  .     parent = NULL, i = \"Species\", subscript_type = \"character\", \n  .     names = c(\"Sepal.Length\", \"Sepal.Width\", \"Petal.Length\", \n  .     \"Petal.Width\"), subscript_action = \"subset\", subscript_arg = \"\", \n  .     subscript_elt = \"column\"), class = c(\"vctrs_error_subscript_oob\", \n  . \"vctrs_error_subscript\", \"rlang_error\", \"error\", \"condition\")))",
      "27. abort(bullets, class = \"dplyr_error\")",
      "28. signal_abort(cnd)"
     ]
    }
   ],
   "source": [
    "#tidy-select style via across\n",
    "iris %>% group_by(Species) %>% summarize(res = across(!Species, mean))"
   ]
  },
  {
   "cell_type": "markdown",
   "metadata": {},
   "source": [
    "# Arguments"
   ]
  },
  {
   "cell_type": "markdown",
   "metadata": {},
   "source": [
    "### `...`\t"
   ]
  },
  {
   "cell_type": "markdown",
   "metadata": {},
   "source": [
    "`<data-masking>` Name-value pairs of summary functions. The name will be the name of the variable in the result.\n",
    "\n",
    "The value can be:\n",
    "\n",
    "* A vector of length 1, e.g. `min(x)`, `n()`, or `sum(is.na(y))`.\n",
    "\n",
    "* A vector of length n, e.g. `quantile()`.\n",
    "\n",
    "* A data frame, to add multiple columns from a single expression."
   ]
  },
  {
   "cell_type": "markdown",
   "metadata": {},
   "source": [
    "<hr>"
   ]
  },
  {
   "cell_type": "markdown",
   "metadata": {},
   "source": [
    "A vector of length 1"
   ]
  },
  {
   "cell_type": "code",
   "execution_count": 7,
   "metadata": {},
   "outputs": [
    {
     "name": "stderr",
     "output_type": "stream",
     "text": [
      "`summarise()` ungrouping output (override with `.groups` argument)\n"
     ]
    },
    {
     "data": {
      "text/html": [
       "<table>\n",
       "<thead><tr><th scope=col>Species</th><th scope=col>n</th></tr></thead>\n",
       "<tbody>\n",
       "\t<tr><td>setosa    </td><td>50        </td></tr>\n",
       "\t<tr><td>versicolor</td><td>50        </td></tr>\n",
       "\t<tr><td>virginica </td><td>50        </td></tr>\n",
       "</tbody>\n",
       "</table>\n"
      ],
      "text/latex": [
       "\\begin{tabular}{r|ll}\n",
       " Species & n\\\\\n",
       "\\hline\n",
       "\t setosa     & 50        \\\\\n",
       "\t versicolor & 50        \\\\\n",
       "\t virginica  & 50        \\\\\n",
       "\\end{tabular}\n"
      ],
      "text/markdown": [
       "\n",
       "| Species | n |\n",
       "|---|---|\n",
       "| setosa     | 50         |\n",
       "| versicolor | 50         |\n",
       "| virginica  | 50         |\n",
       "\n"
      ],
      "text/plain": [
       "  Species    n \n",
       "1 setosa     50\n",
       "2 versicolor 50\n",
       "3 virginica  50"
      ]
     },
     "metadata": {},
     "output_type": "display_data"
    }
   ],
   "source": [
    "#The number of observations in each group of Species\n",
    "iris %>% group_by(Species) %>% summarize(n = n())"
   ]
  },
  {
   "cell_type": "markdown",
   "metadata": {},
   "source": [
    "A vector of length n (window function)"
   ]
  },
  {
   "cell_type": "code",
   "execution_count": 9,
   "metadata": {},
   "outputs": [
    {
     "data": {
      "text/html": [
       "<table>\n",
       "<thead><tr><th scope=col>class</th><th scope=col>name</th><th scope=col>grade</th></tr></thead>\n",
       "<tbody>\n",
       "\t<tr><td>A      </td><td>Pikachu</td><td>10     </td></tr>\n",
       "\t<tr><td>B      </td><td>ETOGRUL</td><td> 5     </td></tr>\n",
       "\t<tr><td>A      </td><td>Gravita</td><td> 6     </td></tr>\n",
       "\t<tr><td>B      </td><td>VIKING </td><td> 2     </td></tr>\n",
       "</tbody>\n",
       "</table>\n"
      ],
      "text/latex": [
       "\\begin{tabular}{r|lll}\n",
       " class & name & grade\\\\\n",
       "\\hline\n",
       "\t A       & Pikachu & 10     \\\\\n",
       "\t B       & ETOGRUL &  5     \\\\\n",
       "\t A       & Gravita &  6     \\\\\n",
       "\t B       & VIKING  &  2     \\\\\n",
       "\\end{tabular}\n"
      ],
      "text/markdown": [
       "\n",
       "| class | name | grade |\n",
       "|---|---|---|\n",
       "| A       | Pikachu | 10      |\n",
       "| B       | ETOGRUL |  5      |\n",
       "| A       | Gravita |  6      |\n",
       "| B       | VIKING  |  2      |\n",
       "\n"
      ],
      "text/plain": [
       "  class name    grade\n",
       "1 A     Pikachu 10   \n",
       "2 B     ETOGRUL  5   \n",
       "3 A     Gravita  6   \n",
       "4 B     VIKING   2   "
      ]
     },
     "metadata": {},
     "output_type": "display_data"
    }
   ],
   "source": [
    "school <- data.frame(\n",
    "    class = c('A', 'B', 'A', 'B'),\n",
    "    name = c('Pikachu', 'ETOGRUL', 'Gravita', 'VIKING'),\n",
    "    grade = c(10, 5, 6, 2)\n",
    ")\n",
    "\n",
    "school"
   ]
  },
  {
   "cell_type": "code",
   "execution_count": 19,
   "metadata": {},
   "outputs": [
    {
     "data": {
      "text/html": [
       "<table>\n",
       "<thead><tr><th scope=col>class</th><th scope=col>rank</th></tr></thead>\n",
       "<tbody>\n",
       "\t<tr><td>A</td><td>1</td></tr>\n",
       "\t<tr><td>A</td><td>2</td></tr>\n",
       "\t<tr><td>B</td><td>1</td></tr>\n",
       "\t<tr><td>B</td><td>2</td></tr>\n",
       "</tbody>\n",
       "</table>\n"
      ],
      "text/latex": [
       "\\begin{tabular}{r|ll}\n",
       " class & rank\\\\\n",
       "\\hline\n",
       "\t A & 1\\\\\n",
       "\t A & 2\\\\\n",
       "\t B & 1\\\\\n",
       "\t B & 2\\\\\n",
       "\\end{tabular}\n"
      ],
      "text/markdown": [
       "\n",
       "| class | rank |\n",
       "|---|---|\n",
       "| A | 1 |\n",
       "| A | 2 |\n",
       "| B | 1 |\n",
       "| B | 2 |\n",
       "\n"
      ],
      "text/plain": [
       "  class rank\n",
       "1 A     1   \n",
       "2 A     2   \n",
       "3 B     1   \n",
       "4 B     2   "
      ]
     },
     "metadata": {},
     "output_type": "display_data"
    }
   ],
   "source": [
    "#for each class, ranking student based on their score\n",
    "school %>% group_by(class) %>% summarize(rank = rank(desc(grade)), .groups = 'keep')"
   ]
  }
 ],
 "metadata": {
  "kernelspec": {
   "display_name": "R",
   "language": "R",
   "name": "ir"
  },
  "language_info": {
   "codemirror_mode": "r",
   "file_extension": ".r",
   "mimetype": "text/x-r-source",
   "name": "R",
   "pygments_lexer": "r",
   "version": "4.0.3"
  }
 },
 "nbformat": 4,
 "nbformat_minor": 2
}
