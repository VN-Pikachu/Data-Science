{
 "cells": [
  {
   "cell_type": "code",
   "execution_count": 2,
   "metadata": {},
   "outputs": [],
   "source": [
    "library(tidyverse)"
   ]
  },
  {
   "cell_type": "markdown",
   "metadata": {},
   "source": [
    "# Count observations by group"
   ]
  },
  {
   "cell_type": "markdown",
   "metadata": {},
   "source": [
    "`count()` lets you quickly count the unique values of one or more variables: `df %>% count(a, b)` is roughly equivalent to `df %>% group_by(a, b) %>% summarise(n = n())`. `count()` is paired with `tally()`, a lower-level helper that is equivalent to `df %>% summarise(n = n())`. Supply `wt` to perform weighted counts, switching the summary from `n = n()` to `n = sum(wt)`.\n",
    "\n",
    "`add_count()` are `add_tally()` are equivalents to `count()` and `tally()` but use `mutate()` instead of `summarise()` so that they add a new column with group-wise counts."
   ]
  },
  {
   "cell_type": "markdown",
   "metadata": {},
   "source": [
    "```R\n",
    "count(\n",
    "  x,\n",
    "  ...,\n",
    "  wt = NULL,\n",
    "  sort = FALSE,\n",
    "  name = NULL,\n",
    "  .drop = group_by_drop_default(x)\n",
    ")\n",
    "\n",
    "tally(x, wt = NULL, sort = FALSE, name = NULL)\n",
    "\n",
    "add_count(x, ..., wt = NULL, sort = FALSE, name = NULL, .drop = deprecated())\n",
    "\n",
    "add_tally(x, wt = NULL, sort = FALSE, name = NULL)\n",
    "```"
   ]
  },
  {
   "cell_type": "markdown",
   "metadata": {},
   "source": [
    "# Examples"
   ]
  },
  {
   "cell_type": "markdown",
   "metadata": {},
   "source": [
    "count is a convenient way to get a sense of the distribution of values in a dataset"
   ]
  },
  {
   "cell_type": "code",
   "execution_count": 6,
   "metadata": {},
   "outputs": [
    {
     "data": {
      "text/html": [
       "<table>\n",
       "<thead><tr><th scope=col>manufacturer</th><th scope=col>n</th></tr></thead>\n",
       "<tbody>\n",
       "\t<tr><td>audi      </td><td>18        </td></tr>\n",
       "\t<tr><td>chevrolet </td><td>19        </td></tr>\n",
       "\t<tr><td>dodge     </td><td>37        </td></tr>\n",
       "\t<tr><td>ford      </td><td>25        </td></tr>\n",
       "\t<tr><td>honda     </td><td> 9        </td></tr>\n",
       "\t<tr><td>hyundai   </td><td>14        </td></tr>\n",
       "\t<tr><td>jeep      </td><td> 8        </td></tr>\n",
       "\t<tr><td>land rover</td><td> 4        </td></tr>\n",
       "\t<tr><td>lincoln   </td><td> 3        </td></tr>\n",
       "\t<tr><td>mercury   </td><td> 4        </td></tr>\n",
       "\t<tr><td>nissan    </td><td>13        </td></tr>\n",
       "\t<tr><td>pontiac   </td><td> 5        </td></tr>\n",
       "\t<tr><td>subaru    </td><td>14        </td></tr>\n",
       "\t<tr><td>toyota    </td><td>34        </td></tr>\n",
       "\t<tr><td>volkswagen</td><td>27        </td></tr>\n",
       "</tbody>\n",
       "</table>\n"
      ],
      "text/latex": [
       "\\begin{tabular}{r|ll}\n",
       " manufacturer & n\\\\\n",
       "\\hline\n",
       "\t audi       & 18        \\\\\n",
       "\t chevrolet  & 19        \\\\\n",
       "\t dodge      & 37        \\\\\n",
       "\t ford       & 25        \\\\\n",
       "\t honda      &  9        \\\\\n",
       "\t hyundai    & 14        \\\\\n",
       "\t jeep       &  8        \\\\\n",
       "\t land rover &  4        \\\\\n",
       "\t lincoln    &  3        \\\\\n",
       "\t mercury    &  4        \\\\\n",
       "\t nissan     & 13        \\\\\n",
       "\t pontiac    &  5        \\\\\n",
       "\t subaru     & 14        \\\\\n",
       "\t toyota     & 34        \\\\\n",
       "\t volkswagen & 27        \\\\\n",
       "\\end{tabular}\n"
      ],
      "text/markdown": [
       "\n",
       "| manufacturer | n |\n",
       "|---|---|\n",
       "| audi       | 18         |\n",
       "| chevrolet  | 19         |\n",
       "| dodge      | 37         |\n",
       "| ford       | 25         |\n",
       "| honda      |  9         |\n",
       "| hyundai    | 14         |\n",
       "| jeep       |  8         |\n",
       "| land rover |  4         |\n",
       "| lincoln    |  3         |\n",
       "| mercury    |  4         |\n",
       "| nissan     | 13         |\n",
       "| pontiac    |  5         |\n",
       "| subaru     | 14         |\n",
       "| toyota     | 34         |\n",
       "| volkswagen | 27         |\n",
       "\n"
      ],
      "text/plain": [
       "   manufacturer n \n",
       "1  audi         18\n",
       "2  chevrolet    19\n",
       "3  dodge        37\n",
       "4  ford         25\n",
       "5  honda         9\n",
       "6  hyundai      14\n",
       "7  jeep          8\n",
       "8  land rover    4\n",
       "9  lincoln       3\n",
       "10 mercury       4\n",
       "11 nissan       13\n",
       "12 pontiac       5\n",
       "13 subaru       14\n",
       "14 toyota       34\n",
       "15 volkswagen   27"
      ]
     },
     "metadata": {},
     "output_type": "display_data"
    }
   ],
   "source": [
    "#Count the number of observations for each `manufacturer` in `mpg`\n",
    "mpg  %>% count(manufacturer)"
   ]
  },
  {
   "cell_type": "code",
   "execution_count": 9,
   "metadata": {},
   "outputs": [
    {
     "data": {
      "text/html": [
       "<table>\n",
       "<thead><tr><th scope=col>manufacturer</th><th scope=col>n</th></tr></thead>\n",
       "<tbody>\n",
       "\t<tr><td>dodge     </td><td>37        </td></tr>\n",
       "\t<tr><td>toyota    </td><td>34        </td></tr>\n",
       "\t<tr><td>volkswagen</td><td>27        </td></tr>\n",
       "\t<tr><td>ford      </td><td>25        </td></tr>\n",
       "\t<tr><td>chevrolet </td><td>19        </td></tr>\n",
       "\t<tr><td>audi      </td><td>18        </td></tr>\n",
       "\t<tr><td>hyundai   </td><td>14        </td></tr>\n",
       "\t<tr><td>subaru    </td><td>14        </td></tr>\n",
       "\t<tr><td>nissan    </td><td>13        </td></tr>\n",
       "\t<tr><td>honda     </td><td> 9        </td></tr>\n",
       "\t<tr><td>jeep      </td><td> 8        </td></tr>\n",
       "\t<tr><td>pontiac   </td><td> 5        </td></tr>\n",
       "\t<tr><td>land rover</td><td> 4        </td></tr>\n",
       "\t<tr><td>mercury   </td><td> 4        </td></tr>\n",
       "\t<tr><td>lincoln   </td><td> 3        </td></tr>\n",
       "</tbody>\n",
       "</table>\n"
      ],
      "text/latex": [
       "\\begin{tabular}{r|ll}\n",
       " manufacturer & n\\\\\n",
       "\\hline\n",
       "\t dodge      & 37        \\\\\n",
       "\t toyota     & 34        \\\\\n",
       "\t volkswagen & 27        \\\\\n",
       "\t ford       & 25        \\\\\n",
       "\t chevrolet  & 19        \\\\\n",
       "\t audi       & 18        \\\\\n",
       "\t hyundai    & 14        \\\\\n",
       "\t subaru     & 14        \\\\\n",
       "\t nissan     & 13        \\\\\n",
       "\t honda      &  9        \\\\\n",
       "\t jeep       &  8        \\\\\n",
       "\t pontiac    &  5        \\\\\n",
       "\t land rover &  4        \\\\\n",
       "\t mercury    &  4        \\\\\n",
       "\t lincoln    &  3        \\\\\n",
       "\\end{tabular}\n"
      ],
      "text/markdown": [
       "\n",
       "| manufacturer | n |\n",
       "|---|---|\n",
       "| dodge      | 37         |\n",
       "| toyota     | 34         |\n",
       "| volkswagen | 27         |\n",
       "| ford       | 25         |\n",
       "| chevrolet  | 19         |\n",
       "| audi       | 18         |\n",
       "| hyundai    | 14         |\n",
       "| subaru     | 14         |\n",
       "| nissan     | 13         |\n",
       "| honda      |  9         |\n",
       "| jeep       |  8         |\n",
       "| pontiac    |  5         |\n",
       "| land rover |  4         |\n",
       "| mercury    |  4         |\n",
       "| lincoln    |  3         |\n",
       "\n"
      ],
      "text/plain": [
       "   manufacturer n \n",
       "1  dodge        37\n",
       "2  toyota       34\n",
       "3  volkswagen   27\n",
       "4  ford         25\n",
       "5  chevrolet    19\n",
       "6  audi         18\n",
       "7  hyundai      14\n",
       "8  subaru       14\n",
       "9  nissan       13\n",
       "10 honda         9\n",
       "11 jeep          8\n",
       "12 pontiac       5\n",
       "13 land rover    4\n",
       "14 mercury       4\n",
       "15 lincoln       3"
      ]
     },
     "metadata": {},
     "output_type": "display_data"
    }
   ],
   "source": [
    "#Sort by the the result of count \n",
    "mpg %>% count(manufacturer, sort = T)"
   ]
  },
  {
   "cell_type": "code",
   "execution_count": 11,
   "metadata": {},
   "outputs": [
    {
     "data": {
      "text/html": [
       "<table>\n",
       "<thead><tr><th scope=col>manufacturer</th><th scope=col>model</th><th scope=col>n</th></tr></thead>\n",
       "<tbody>\n",
       "\t<tr><td>dodge                 </td><td>caravan 2wd           </td><td>11                    </td></tr>\n",
       "\t<tr><td>dodge                 </td><td>ram 1500 pickup 4wd   </td><td>10                    </td></tr>\n",
       "\t<tr><td>dodge                 </td><td>dakota pickup 4wd     </td><td> 9                    </td></tr>\n",
       "\t<tr><td>ford                  </td><td>mustang               </td><td> 9                    </td></tr>\n",
       "\t<tr><td>honda                 </td><td>civic                 </td><td> 9                    </td></tr>\n",
       "\t<tr><td>volkswagen            </td><td>jetta                 </td><td> 9                    </td></tr>\n",
       "\t<tr><td>audi                  </td><td>a4 quattro            </td><td> 8                    </td></tr>\n",
       "\t<tr><td>jeep                  </td><td>grand cherokee 4wd    </td><td> 8                    </td></tr>\n",
       "\t<tr><td>subaru                </td><td>impreza awd           </td><td> 8                    </td></tr>\n",
       "\t<tr><td>audi                  </td><td>a4                    </td><td> 7                    </td></tr>\n",
       "\t<tr><td>dodge                 </td><td>durango 4wd           </td><td> 7                    </td></tr>\n",
       "\t<tr><td>ford                  </td><td>f150 pickup 4wd       </td><td> 7                    </td></tr>\n",
       "\t<tr><td>hyundai               </td><td>sonata                </td><td> 7                    </td></tr>\n",
       "\t<tr><td>hyundai               </td><td>tiburon               </td><td> 7                    </td></tr>\n",
       "\t<tr><td>toyota                </td><td>camry                 </td><td> 7                    </td></tr>\n",
       "\t<tr><td>toyota                </td><td>camry solara          </td><td> 7                    </td></tr>\n",
       "\t<tr><td>toyota                </td><td>toyota tacoma 4wd     </td><td> 7                    </td></tr>\n",
       "\t<tr><td>volkswagen            </td><td>passat                </td><td> 7                    </td></tr>\n",
       "\t<tr><td>ford                  </td><td>explorer 4wd          </td><td> 6                    </td></tr>\n",
       "\t<tr><td>nissan                </td><td>altima                </td><td> 6                    </td></tr>\n",
       "\t<tr><td>subaru                </td><td>forester awd          </td><td> 6                    </td></tr>\n",
       "\t<tr><td>toyota                </td><td>4runner 4wd           </td><td> 6                    </td></tr>\n",
       "\t<tr><td>volkswagen            </td><td>new beetle            </td><td> 6                    </td></tr>\n",
       "\t<tr><td>chevrolet             </td><td>c1500 suburban 2wd    </td><td> 5                    </td></tr>\n",
       "\t<tr><td>chevrolet             </td><td>corvette              </td><td> 5                    </td></tr>\n",
       "\t<tr><td>chevrolet             </td><td>malibu                </td><td> 5                    </td></tr>\n",
       "\t<tr><td>pontiac               </td><td>grand prix            </td><td> 5                    </td></tr>\n",
       "\t<tr><td>toyota                </td><td>corolla               </td><td> 5                    </td></tr>\n",
       "\t<tr><td>volkswagen            </td><td>gti                   </td><td> 5                    </td></tr>\n",
       "\t<tr><td>chevrolet             </td><td>k1500 tahoe 4wd       </td><td> 4                    </td></tr>\n",
       "\t<tr><td>land rover            </td><td>range rover           </td><td> 4                    </td></tr>\n",
       "\t<tr><td>mercury               </td><td>mountaineer 4wd       </td><td> 4                    </td></tr>\n",
       "\t<tr><td>nissan                </td><td>pathfinder 4wd        </td><td> 4                    </td></tr>\n",
       "\t<tr><td>audi                  </td><td>a6 quattro            </td><td> 3                    </td></tr>\n",
       "\t<tr><td>ford                  </td><td>expedition 2wd        </td><td> 3                    </td></tr>\n",
       "\t<tr><td>lincoln               </td><td>navigator 2wd         </td><td> 3                    </td></tr>\n",
       "\t<tr><td>nissan                </td><td>maxima                </td><td> 3                    </td></tr>\n",
       "\t<tr><td>toyota                </td><td>land cruiser wagon 4wd</td><td> 2                    </td></tr>\n",
       "</tbody>\n",
       "</table>\n"
      ],
      "text/latex": [
       "\\begin{tabular}{r|lll}\n",
       " manufacturer & model & n\\\\\n",
       "\\hline\n",
       "\t dodge                  & caravan 2wd            & 11                    \\\\\n",
       "\t dodge                  & ram 1500 pickup 4wd    & 10                    \\\\\n",
       "\t dodge                  & dakota pickup 4wd      &  9                    \\\\\n",
       "\t ford                   & mustang                &  9                    \\\\\n",
       "\t honda                  & civic                  &  9                    \\\\\n",
       "\t volkswagen             & jetta                  &  9                    \\\\\n",
       "\t audi                   & a4 quattro             &  8                    \\\\\n",
       "\t jeep                   & grand cherokee 4wd     &  8                    \\\\\n",
       "\t subaru                 & impreza awd            &  8                    \\\\\n",
       "\t audi                   & a4                     &  7                    \\\\\n",
       "\t dodge                  & durango 4wd            &  7                    \\\\\n",
       "\t ford                   & f150 pickup 4wd        &  7                    \\\\\n",
       "\t hyundai                & sonata                 &  7                    \\\\\n",
       "\t hyundai                & tiburon                &  7                    \\\\\n",
       "\t toyota                 & camry                  &  7                    \\\\\n",
       "\t toyota                 & camry solara           &  7                    \\\\\n",
       "\t toyota                 & toyota tacoma 4wd      &  7                    \\\\\n",
       "\t volkswagen             & passat                 &  7                    \\\\\n",
       "\t ford                   & explorer 4wd           &  6                    \\\\\n",
       "\t nissan                 & altima                 &  6                    \\\\\n",
       "\t subaru                 & forester awd           &  6                    \\\\\n",
       "\t toyota                 & 4runner 4wd            &  6                    \\\\\n",
       "\t volkswagen             & new beetle             &  6                    \\\\\n",
       "\t chevrolet              & c1500 suburban 2wd     &  5                    \\\\\n",
       "\t chevrolet              & corvette               &  5                    \\\\\n",
       "\t chevrolet              & malibu                 &  5                    \\\\\n",
       "\t pontiac                & grand prix             &  5                    \\\\\n",
       "\t toyota                 & corolla                &  5                    \\\\\n",
       "\t volkswagen             & gti                    &  5                    \\\\\n",
       "\t chevrolet              & k1500 tahoe 4wd        &  4                    \\\\\n",
       "\t land rover             & range rover            &  4                    \\\\\n",
       "\t mercury                & mountaineer 4wd        &  4                    \\\\\n",
       "\t nissan                 & pathfinder 4wd         &  4                    \\\\\n",
       "\t audi                   & a6 quattro             &  3                    \\\\\n",
       "\t ford                   & expedition 2wd         &  3                    \\\\\n",
       "\t lincoln                & navigator 2wd          &  3                    \\\\\n",
       "\t nissan                 & maxima                 &  3                    \\\\\n",
       "\t toyota                 & land cruiser wagon 4wd &  2                    \\\\\n",
       "\\end{tabular}\n"
      ],
      "text/markdown": [
       "\n",
       "| manufacturer | model | n |\n",
       "|---|---|---|\n",
       "| dodge                  | caravan 2wd            | 11                     |\n",
       "| dodge                  | ram 1500 pickup 4wd    | 10                     |\n",
       "| dodge                  | dakota pickup 4wd      |  9                     |\n",
       "| ford                   | mustang                |  9                     |\n",
       "| honda                  | civic                  |  9                     |\n",
       "| volkswagen             | jetta                  |  9                     |\n",
       "| audi                   | a4 quattro             |  8                     |\n",
       "| jeep                   | grand cherokee 4wd     |  8                     |\n",
       "| subaru                 | impreza awd            |  8                     |\n",
       "| audi                   | a4                     |  7                     |\n",
       "| dodge                  | durango 4wd            |  7                     |\n",
       "| ford                   | f150 pickup 4wd        |  7                     |\n",
       "| hyundai                | sonata                 |  7                     |\n",
       "| hyundai                | tiburon                |  7                     |\n",
       "| toyota                 | camry                  |  7                     |\n",
       "| toyota                 | camry solara           |  7                     |\n",
       "| toyota                 | toyota tacoma 4wd      |  7                     |\n",
       "| volkswagen             | passat                 |  7                     |\n",
       "| ford                   | explorer 4wd           |  6                     |\n",
       "| nissan                 | altima                 |  6                     |\n",
       "| subaru                 | forester awd           |  6                     |\n",
       "| toyota                 | 4runner 4wd            |  6                     |\n",
       "| volkswagen             | new beetle             |  6                     |\n",
       "| chevrolet              | c1500 suburban 2wd     |  5                     |\n",
       "| chevrolet              | corvette               |  5                     |\n",
       "| chevrolet              | malibu                 |  5                     |\n",
       "| pontiac                | grand prix             |  5                     |\n",
       "| toyota                 | corolla                |  5                     |\n",
       "| volkswagen             | gti                    |  5                     |\n",
       "| chevrolet              | k1500 tahoe 4wd        |  4                     |\n",
       "| land rover             | range rover            |  4                     |\n",
       "| mercury                | mountaineer 4wd        |  4                     |\n",
       "| nissan                 | pathfinder 4wd         |  4                     |\n",
       "| audi                   | a6 quattro             |  3                     |\n",
       "| ford                   | expedition 2wd         |  3                     |\n",
       "| lincoln                | navigator 2wd          |  3                     |\n",
       "| nissan                 | maxima                 |  3                     |\n",
       "| toyota                 | land cruiser wagon 4wd |  2                     |\n",
       "\n"
      ],
      "text/plain": [
       "   manufacturer model                  n \n",
       "1  dodge        caravan 2wd            11\n",
       "2  dodge        ram 1500 pickup 4wd    10\n",
       "3  dodge        dakota pickup 4wd       9\n",
       "4  ford         mustang                 9\n",
       "5  honda        civic                   9\n",
       "6  volkswagen   jetta                   9\n",
       "7  audi         a4 quattro              8\n",
       "8  jeep         grand cherokee 4wd      8\n",
       "9  subaru       impreza awd             8\n",
       "10 audi         a4                      7\n",
       "11 dodge        durango 4wd             7\n",
       "12 ford         f150 pickup 4wd         7\n",
       "13 hyundai      sonata                  7\n",
       "14 hyundai      tiburon                 7\n",
       "15 toyota       camry                   7\n",
       "16 toyota       camry solara            7\n",
       "17 toyota       toyota tacoma 4wd       7\n",
       "18 volkswagen   passat                  7\n",
       "19 ford         explorer 4wd            6\n",
       "20 nissan       altima                  6\n",
       "21 subaru       forester awd            6\n",
       "22 toyota       4runner 4wd             6\n",
       "23 volkswagen   new beetle              6\n",
       "24 chevrolet    c1500 suburban 2wd      5\n",
       "25 chevrolet    corvette                5\n",
       "26 chevrolet    malibu                  5\n",
       "27 pontiac      grand prix              5\n",
       "28 toyota       corolla                 5\n",
       "29 volkswagen   gti                     5\n",
       "30 chevrolet    k1500 tahoe 4wd         4\n",
       "31 land rover   range rover             4\n",
       "32 mercury      mountaineer 4wd         4\n",
       "33 nissan       pathfinder 4wd          4\n",
       "34 audi         a6 quattro              3\n",
       "35 ford         expedition 2wd          3\n",
       "36 lincoln      navigator 2wd           3\n",
       "37 nissan       maxima                  3\n",
       "38 toyota       land cruiser wagon 4wd  2"
      ]
     },
     "metadata": {},
     "output_type": "display_data"
    }
   ],
   "source": [
    "#Count the number of observations for each manufacturer AND model, sort the result\n",
    "mpg %>% count(manufacturer, model, sort = T)"
   ]
  },
  {
   "cell_type": "code",
   "execution_count": 14,
   "metadata": {},
   "outputs": [
    {
     "data": {
      "text/html": [
       "<table>\n",
       "<thead><tr><th scope=col>round(Sepal.Length)</th><th scope=col>n</th></tr></thead>\n",
       "<tbody>\n",
       "\t<tr><td>4 </td><td> 5</td></tr>\n",
       "\t<tr><td>5 </td><td>47</td></tr>\n",
       "\t<tr><td>6 </td><td>68</td></tr>\n",
       "\t<tr><td>7 </td><td>24</td></tr>\n",
       "\t<tr><td>8 </td><td> 6</td></tr>\n",
       "</tbody>\n",
       "</table>\n"
      ],
      "text/latex": [
       "\\begin{tabular}{r|ll}\n",
       " round(Sepal.Length) & n\\\\\n",
       "\\hline\n",
       "\t 4  &  5\\\\\n",
       "\t 5  & 47\\\\\n",
       "\t 6  & 68\\\\\n",
       "\t 7  & 24\\\\\n",
       "\t 8  &  6\\\\\n",
       "\\end{tabular}\n"
      ],
      "text/markdown": [
       "\n",
       "| round(Sepal.Length) | n |\n",
       "|---|---|\n",
       "| 4  |  5 |\n",
       "| 5  | 47 |\n",
       "| 6  | 68 |\n",
       "| 7  | 24 |\n",
       "| 8  |  6 |\n",
       "\n"
      ],
      "text/plain": [
       "  round(Sepal.Length) n \n",
       "1 4                    5\n",
       "2 5                   47\n",
       "3 6                   68\n",
       "4 7                   24\n",
       "5 8                    6"
      ]
     },
     "metadata": {},
     "output_type": "display_data"
    }
   ],
   "source": [
    "#Round `Sepal.Length` then calculate frequency for each value\n",
    "iris %>% count(round(Sepal.Length))"
   ]
  },
  {
   "cell_type": "markdown",
   "metadata": {},
   "source": [
    "use the `wt` argument to perform a weighted count. This is useful\n",
    "when the data has already been aggregated once"
   ]
  },
  {
   "cell_type": "code",
   "execution_count": 15,
   "metadata": {},
   "outputs": [
    {
     "name": "stderr",
     "output_type": "stream",
     "text": [
      "Warning message:\n",
      "\"package 'titanic' was built under R version 3.6.3\""
     ]
    }
   ],
   "source": [
    "library(titanic)"
   ]
  },
  {
   "cell_type": "code",
   "execution_count": 17,
   "metadata": {},
   "outputs": [
    {
     "data": {
      "text/html": [
       "<table>\n",
       "<thead><tr><th scope=col>Sex</th><th scope=col>Survived</th></tr></thead>\n",
       "<tbody>\n",
       "\t<tr><td>male  </td><td>0     </td></tr>\n",
       "\t<tr><td>female</td><td>1     </td></tr>\n",
       "\t<tr><td>female</td><td>1     </td></tr>\n",
       "\t<tr><td>female</td><td>1     </td></tr>\n",
       "\t<tr><td>male  </td><td>0     </td></tr>\n",
       "\t<tr><td>male  </td><td>0     </td></tr>\n",
       "</tbody>\n",
       "</table>\n"
      ],
      "text/latex": [
       "\\begin{tabular}{r|ll}\n",
       " Sex & Survived\\\\\n",
       "\\hline\n",
       "\t male   & 0     \\\\\n",
       "\t female & 1     \\\\\n",
       "\t female & 1     \\\\\n",
       "\t female & 1     \\\\\n",
       "\t male   & 0     \\\\\n",
       "\t male   & 0     \\\\\n",
       "\\end{tabular}\n"
      ],
      "text/markdown": [
       "\n",
       "| Sex | Survived |\n",
       "|---|---|\n",
       "| male   | 0      |\n",
       "| female | 1      |\n",
       "| female | 1      |\n",
       "| female | 1      |\n",
       "| male   | 0      |\n",
       "| male   | 0      |\n",
       "\n"
      ],
      "text/plain": [
       "  Sex    Survived\n",
       "1 male   0       \n",
       "2 female 1       \n",
       "3 female 1       \n",
       "4 female 1       \n",
       "5 male   0       \n",
       "6 male   0       "
      ]
     },
     "metadata": {},
     "output_type": "display_data"
    }
   ],
   "source": [
    "df <- titanic_train %>% select(Sex, Survived)\n",
    "\n",
    "df %>% head()"
   ]
  },
  {
   "cell_type": "code",
   "execution_count": 18,
   "metadata": {},
   "outputs": [
    {
     "data": {
      "text/html": [
       "<table>\n",
       "<thead><tr><th scope=col>Sex</th><th scope=col>n</th></tr></thead>\n",
       "<tbody>\n",
       "\t<tr><td>female</td><td>233   </td></tr>\n",
       "\t<tr><td>male  </td><td>109   </td></tr>\n",
       "</tbody>\n",
       "</table>\n"
      ],
      "text/latex": [
       "\\begin{tabular}{r|ll}\n",
       " Sex & n\\\\\n",
       "\\hline\n",
       "\t female & 233   \\\\\n",
       "\t male   & 109   \\\\\n",
       "\\end{tabular}\n"
      ],
      "text/markdown": [
       "\n",
       "| Sex | n |\n",
       "|---|---|\n",
       "| female | 233    |\n",
       "| male   | 109    |\n",
       "\n"
      ],
      "text/plain": [
       "  Sex    n  \n",
       "1 female 233\n",
       "2 male   109"
      ]
     },
     "metadata": {},
     "output_type": "display_data"
    }
   ],
   "source": [
    "#The number of man survivied and woman survived\n",
    "df %>% count(Sex, wt = Survived)"
   ]
  },
  {
   "cell_type": "markdown",
   "metadata": {},
   "source": [
    "`tally()` is a lower-level function that assumes you've done the grouping"
   ]
  },
  {
   "cell_type": "code",
   "execution_count": 22,
   "metadata": {},
   "outputs": [
    {
     "data": {
      "text/html": [
       "<table>\n",
       "<thead><tr><th scope=col>manufacturer</th><th scope=col>model</th><th scope=col>n</th></tr></thead>\n",
       "<tbody>\n",
       "\t<tr><td>dodge                 </td><td>caravan 2wd           </td><td>11                    </td></tr>\n",
       "\t<tr><td>dodge                 </td><td>ram 1500 pickup 4wd   </td><td>10                    </td></tr>\n",
       "\t<tr><td>dodge                 </td><td>dakota pickup 4wd     </td><td> 9                    </td></tr>\n",
       "\t<tr><td>ford                  </td><td>mustang               </td><td> 9                    </td></tr>\n",
       "\t<tr><td>honda                 </td><td>civic                 </td><td> 9                    </td></tr>\n",
       "\t<tr><td>volkswagen            </td><td>jetta                 </td><td> 9                    </td></tr>\n",
       "\t<tr><td>audi                  </td><td>a4 quattro            </td><td> 8                    </td></tr>\n",
       "\t<tr><td>jeep                  </td><td>grand cherokee 4wd    </td><td> 8                    </td></tr>\n",
       "\t<tr><td>subaru                </td><td>impreza awd           </td><td> 8                    </td></tr>\n",
       "\t<tr><td>audi                  </td><td>a4                    </td><td> 7                    </td></tr>\n",
       "\t<tr><td>dodge                 </td><td>durango 4wd           </td><td> 7                    </td></tr>\n",
       "\t<tr><td>ford                  </td><td>f150 pickup 4wd       </td><td> 7                    </td></tr>\n",
       "\t<tr><td>hyundai               </td><td>sonata                </td><td> 7                    </td></tr>\n",
       "\t<tr><td>hyundai               </td><td>tiburon               </td><td> 7                    </td></tr>\n",
       "\t<tr><td>toyota                </td><td>camry                 </td><td> 7                    </td></tr>\n",
       "\t<tr><td>toyota                </td><td>camry solara          </td><td> 7                    </td></tr>\n",
       "\t<tr><td>toyota                </td><td>toyota tacoma 4wd     </td><td> 7                    </td></tr>\n",
       "\t<tr><td>volkswagen            </td><td>passat                </td><td> 7                    </td></tr>\n",
       "\t<tr><td>ford                  </td><td>explorer 4wd          </td><td> 6                    </td></tr>\n",
       "\t<tr><td>nissan                </td><td>altima                </td><td> 6                    </td></tr>\n",
       "\t<tr><td>subaru                </td><td>forester awd          </td><td> 6                    </td></tr>\n",
       "\t<tr><td>toyota                </td><td>4runner 4wd           </td><td> 6                    </td></tr>\n",
       "\t<tr><td>volkswagen            </td><td>new beetle            </td><td> 6                    </td></tr>\n",
       "\t<tr><td>chevrolet             </td><td>c1500 suburban 2wd    </td><td> 5                    </td></tr>\n",
       "\t<tr><td>chevrolet             </td><td>corvette              </td><td> 5                    </td></tr>\n",
       "\t<tr><td>chevrolet             </td><td>malibu                </td><td> 5                    </td></tr>\n",
       "\t<tr><td>pontiac               </td><td>grand prix            </td><td> 5                    </td></tr>\n",
       "\t<tr><td>toyota                </td><td>corolla               </td><td> 5                    </td></tr>\n",
       "\t<tr><td>volkswagen            </td><td>gti                   </td><td> 5                    </td></tr>\n",
       "\t<tr><td>chevrolet             </td><td>k1500 tahoe 4wd       </td><td> 4                    </td></tr>\n",
       "\t<tr><td>land rover            </td><td>range rover           </td><td> 4                    </td></tr>\n",
       "\t<tr><td>mercury               </td><td>mountaineer 4wd       </td><td> 4                    </td></tr>\n",
       "\t<tr><td>nissan                </td><td>pathfinder 4wd        </td><td> 4                    </td></tr>\n",
       "\t<tr><td>audi                  </td><td>a6 quattro            </td><td> 3                    </td></tr>\n",
       "\t<tr><td>ford                  </td><td>expedition 2wd        </td><td> 3                    </td></tr>\n",
       "\t<tr><td>lincoln               </td><td>navigator 2wd         </td><td> 3                    </td></tr>\n",
       "\t<tr><td>nissan                </td><td>maxima                </td><td> 3                    </td></tr>\n",
       "\t<tr><td>toyota                </td><td>land cruiser wagon 4wd</td><td> 2                    </td></tr>\n",
       "</tbody>\n",
       "</table>\n"
      ],
      "text/latex": [
       "\\begin{tabular}{r|lll}\n",
       " manufacturer & model & n\\\\\n",
       "\\hline\n",
       "\t dodge                  & caravan 2wd            & 11                    \\\\\n",
       "\t dodge                  & ram 1500 pickup 4wd    & 10                    \\\\\n",
       "\t dodge                  & dakota pickup 4wd      &  9                    \\\\\n",
       "\t ford                   & mustang                &  9                    \\\\\n",
       "\t honda                  & civic                  &  9                    \\\\\n",
       "\t volkswagen             & jetta                  &  9                    \\\\\n",
       "\t audi                   & a4 quattro             &  8                    \\\\\n",
       "\t jeep                   & grand cherokee 4wd     &  8                    \\\\\n",
       "\t subaru                 & impreza awd            &  8                    \\\\\n",
       "\t audi                   & a4                     &  7                    \\\\\n",
       "\t dodge                  & durango 4wd            &  7                    \\\\\n",
       "\t ford                   & f150 pickup 4wd        &  7                    \\\\\n",
       "\t hyundai                & sonata                 &  7                    \\\\\n",
       "\t hyundai                & tiburon                &  7                    \\\\\n",
       "\t toyota                 & camry                  &  7                    \\\\\n",
       "\t toyota                 & camry solara           &  7                    \\\\\n",
       "\t toyota                 & toyota tacoma 4wd      &  7                    \\\\\n",
       "\t volkswagen             & passat                 &  7                    \\\\\n",
       "\t ford                   & explorer 4wd           &  6                    \\\\\n",
       "\t nissan                 & altima                 &  6                    \\\\\n",
       "\t subaru                 & forester awd           &  6                    \\\\\n",
       "\t toyota                 & 4runner 4wd            &  6                    \\\\\n",
       "\t volkswagen             & new beetle             &  6                    \\\\\n",
       "\t chevrolet              & c1500 suburban 2wd     &  5                    \\\\\n",
       "\t chevrolet              & corvette               &  5                    \\\\\n",
       "\t chevrolet              & malibu                 &  5                    \\\\\n",
       "\t pontiac                & grand prix             &  5                    \\\\\n",
       "\t toyota                 & corolla                &  5                    \\\\\n",
       "\t volkswagen             & gti                    &  5                    \\\\\n",
       "\t chevrolet              & k1500 tahoe 4wd        &  4                    \\\\\n",
       "\t land rover             & range rover            &  4                    \\\\\n",
       "\t mercury                & mountaineer 4wd        &  4                    \\\\\n",
       "\t nissan                 & pathfinder 4wd         &  4                    \\\\\n",
       "\t audi                   & a6 quattro             &  3                    \\\\\n",
       "\t ford                   & expedition 2wd         &  3                    \\\\\n",
       "\t lincoln                & navigator 2wd          &  3                    \\\\\n",
       "\t nissan                 & maxima                 &  3                    \\\\\n",
       "\t toyota                 & land cruiser wagon 4wd &  2                    \\\\\n",
       "\\end{tabular}\n"
      ],
      "text/markdown": [
       "\n",
       "| manufacturer | model | n |\n",
       "|---|---|---|\n",
       "| dodge                  | caravan 2wd            | 11                     |\n",
       "| dodge                  | ram 1500 pickup 4wd    | 10                     |\n",
       "| dodge                  | dakota pickup 4wd      |  9                     |\n",
       "| ford                   | mustang                |  9                     |\n",
       "| honda                  | civic                  |  9                     |\n",
       "| volkswagen             | jetta                  |  9                     |\n",
       "| audi                   | a4 quattro             |  8                     |\n",
       "| jeep                   | grand cherokee 4wd     |  8                     |\n",
       "| subaru                 | impreza awd            |  8                     |\n",
       "| audi                   | a4                     |  7                     |\n",
       "| dodge                  | durango 4wd            |  7                     |\n",
       "| ford                   | f150 pickup 4wd        |  7                     |\n",
       "| hyundai                | sonata                 |  7                     |\n",
       "| hyundai                | tiburon                |  7                     |\n",
       "| toyota                 | camry                  |  7                     |\n",
       "| toyota                 | camry solara           |  7                     |\n",
       "| toyota                 | toyota tacoma 4wd      |  7                     |\n",
       "| volkswagen             | passat                 |  7                     |\n",
       "| ford                   | explorer 4wd           |  6                     |\n",
       "| nissan                 | altima                 |  6                     |\n",
       "| subaru                 | forester awd           |  6                     |\n",
       "| toyota                 | 4runner 4wd            |  6                     |\n",
       "| volkswagen             | new beetle             |  6                     |\n",
       "| chevrolet              | c1500 suburban 2wd     |  5                     |\n",
       "| chevrolet              | corvette               |  5                     |\n",
       "| chevrolet              | malibu                 |  5                     |\n",
       "| pontiac                | grand prix             |  5                     |\n",
       "| toyota                 | corolla                |  5                     |\n",
       "| volkswagen             | gti                    |  5                     |\n",
       "| chevrolet              | k1500 tahoe 4wd        |  4                     |\n",
       "| land rover             | range rover            |  4                     |\n",
       "| mercury                | mountaineer 4wd        |  4                     |\n",
       "| nissan                 | pathfinder 4wd         |  4                     |\n",
       "| audi                   | a6 quattro             |  3                     |\n",
       "| ford                   | expedition 2wd         |  3                     |\n",
       "| lincoln                | navigator 2wd          |  3                     |\n",
       "| nissan                 | maxima                 |  3                     |\n",
       "| toyota                 | land cruiser wagon 4wd |  2                     |\n",
       "\n"
      ],
      "text/plain": [
       "   manufacturer model                  n \n",
       "1  dodge        caravan 2wd            11\n",
       "2  dodge        ram 1500 pickup 4wd    10\n",
       "3  dodge        dakota pickup 4wd       9\n",
       "4  ford         mustang                 9\n",
       "5  honda        civic                   9\n",
       "6  volkswagen   jetta                   9\n",
       "7  audi         a4 quattro              8\n",
       "8  jeep         grand cherokee 4wd      8\n",
       "9  subaru       impreza awd             8\n",
       "10 audi         a4                      7\n",
       "11 dodge        durango 4wd             7\n",
       "12 ford         f150 pickup 4wd         7\n",
       "13 hyundai      sonata                  7\n",
       "14 hyundai      tiburon                 7\n",
       "15 toyota       camry                   7\n",
       "16 toyota       camry solara            7\n",
       "17 toyota       toyota tacoma 4wd       7\n",
       "18 volkswagen   passat                  7\n",
       "19 ford         explorer 4wd            6\n",
       "20 nissan       altima                  6\n",
       "21 subaru       forester awd            6\n",
       "22 toyota       4runner 4wd             6\n",
       "23 volkswagen   new beetle              6\n",
       "24 chevrolet    c1500 suburban 2wd      5\n",
       "25 chevrolet    corvette                5\n",
       "26 chevrolet    malibu                  5\n",
       "27 pontiac      grand prix              5\n",
       "28 toyota       corolla                 5\n",
       "29 volkswagen   gti                     5\n",
       "30 chevrolet    k1500 tahoe 4wd         4\n",
       "31 land rover   range rover             4\n",
       "32 mercury      mountaineer 4wd         4\n",
       "33 nissan       pathfinder 4wd          4\n",
       "34 audi         a6 quattro              3\n",
       "35 ford         expedition 2wd          3\n",
       "36 lincoln      navigator 2wd           3\n",
       "37 nissan       maxima                  3\n",
       "38 toyota       land cruiser wagon 4wd  2"
      ]
     },
     "metadata": {},
     "output_type": "display_data"
    }
   ],
   "source": [
    "mpg %>% group_by(manufacturer, model) %>% tally(sort = T)\n",
    "#Equivalent to: mpg %>% count(manufacturer, model, sort = T)"
   ]
  },
  {
   "cell_type": "markdown",
   "metadata": {},
   "source": [
    "both `count()` and `tally()` have add_ variants that work like\n",
    "`mutate()` instead of summarise"
   ]
  },
  {
   "cell_type": "code",
   "execution_count": 24,
   "metadata": {},
   "outputs": [
    {
     "data": {
      "text/html": [
       "<table>\n",
       "<thead><tr><th scope=col>Sepal.Length</th><th scope=col>Sepal.Width</th><th scope=col>Petal.Length</th><th scope=col>Petal.Width</th><th scope=col>Species</th><th scope=col>n</th></tr></thead>\n",
       "<tbody>\n",
       "\t<tr><td>5.1   </td><td>3.5   </td><td>1.4   </td><td>0.2   </td><td>setosa</td><td>50    </td></tr>\n",
       "\t<tr><td>4.9   </td><td>3.0   </td><td>1.4   </td><td>0.2   </td><td>setosa</td><td>50    </td></tr>\n",
       "\t<tr><td>4.7   </td><td>3.2   </td><td>1.3   </td><td>0.2   </td><td>setosa</td><td>50    </td></tr>\n",
       "\t<tr><td>4.6   </td><td>3.1   </td><td>1.5   </td><td>0.2   </td><td>setosa</td><td>50    </td></tr>\n",
       "\t<tr><td>5.0   </td><td>3.6   </td><td>1.4   </td><td>0.2   </td><td>setosa</td><td>50    </td></tr>\n",
       "\t<tr><td>5.4   </td><td>3.9   </td><td>1.7   </td><td>0.4   </td><td>setosa</td><td>50    </td></tr>\n",
       "</tbody>\n",
       "</table>\n"
      ],
      "text/latex": [
       "\\begin{tabular}{r|llllll}\n",
       " Sepal.Length & Sepal.Width & Petal.Length & Petal.Width & Species & n\\\\\n",
       "\\hline\n",
       "\t 5.1    & 3.5    & 1.4    & 0.2    & setosa & 50    \\\\\n",
       "\t 4.9    & 3.0    & 1.4    & 0.2    & setosa & 50    \\\\\n",
       "\t 4.7    & 3.2    & 1.3    & 0.2    & setosa & 50    \\\\\n",
       "\t 4.6    & 3.1    & 1.5    & 0.2    & setosa & 50    \\\\\n",
       "\t 5.0    & 3.6    & 1.4    & 0.2    & setosa & 50    \\\\\n",
       "\t 5.4    & 3.9    & 1.7    & 0.4    & setosa & 50    \\\\\n",
       "\\end{tabular}\n"
      ],
      "text/markdown": [
       "\n",
       "| Sepal.Length | Sepal.Width | Petal.Length | Petal.Width | Species | n |\n",
       "|---|---|---|---|---|---|\n",
       "| 5.1    | 3.5    | 1.4    | 0.2    | setosa | 50     |\n",
       "| 4.9    | 3.0    | 1.4    | 0.2    | setosa | 50     |\n",
       "| 4.7    | 3.2    | 1.3    | 0.2    | setosa | 50     |\n",
       "| 4.6    | 3.1    | 1.5    | 0.2    | setosa | 50     |\n",
       "| 5.0    | 3.6    | 1.4    | 0.2    | setosa | 50     |\n",
       "| 5.4    | 3.9    | 1.7    | 0.4    | setosa | 50     |\n",
       "\n"
      ],
      "text/plain": [
       "  Sepal.Length Sepal.Width Petal.Length Petal.Width Species n \n",
       "1 5.1          3.5         1.4          0.2         setosa  50\n",
       "2 4.9          3.0         1.4          0.2         setosa  50\n",
       "3 4.7          3.2         1.3          0.2         setosa  50\n",
       "4 4.6          3.1         1.5          0.2         setosa  50\n",
       "5 5.0          3.6         1.4          0.2         setosa  50\n",
       "6 5.4          3.9         1.7          0.4         setosa  50"
      ]
     },
     "metadata": {},
     "output_type": "display_data"
    }
   ],
   "source": [
    "iris %>% \n",
    "add_count(Species) %>%\n",
    "head()"
   ]
  },
  {
   "cell_type": "code",
   "execution_count": 25,
   "metadata": {},
   "outputs": [
    {
     "data": {
      "text/html": [
       "<table>\n",
       "<thead><tr><th scope=col>Sepal.Length</th><th scope=col>Sepal.Width</th><th scope=col>Petal.Length</th><th scope=col>Petal.Width</th><th scope=col>Species</th><th scope=col>n</th></tr></thead>\n",
       "<tbody>\n",
       "\t<tr><td>5.1   </td><td>3.5   </td><td>1.4   </td><td>0.2   </td><td>setosa</td><td>50    </td></tr>\n",
       "\t<tr><td>4.9   </td><td>3.0   </td><td>1.4   </td><td>0.2   </td><td>setosa</td><td>50    </td></tr>\n",
       "\t<tr><td>4.7   </td><td>3.2   </td><td>1.3   </td><td>0.2   </td><td>setosa</td><td>50    </td></tr>\n",
       "\t<tr><td>4.6   </td><td>3.1   </td><td>1.5   </td><td>0.2   </td><td>setosa</td><td>50    </td></tr>\n",
       "\t<tr><td>5.0   </td><td>3.6   </td><td>1.4   </td><td>0.2   </td><td>setosa</td><td>50    </td></tr>\n",
       "\t<tr><td>5.4   </td><td>3.9   </td><td>1.7   </td><td>0.4   </td><td>setosa</td><td>50    </td></tr>\n",
       "</tbody>\n",
       "</table>\n"
      ],
      "text/latex": [
       "\\begin{tabular}{r|llllll}\n",
       " Sepal.Length & Sepal.Width & Petal.Length & Petal.Width & Species & n\\\\\n",
       "\\hline\n",
       "\t 5.1    & 3.5    & 1.4    & 0.2    & setosa & 50    \\\\\n",
       "\t 4.9    & 3.0    & 1.4    & 0.2    & setosa & 50    \\\\\n",
       "\t 4.7    & 3.2    & 1.3    & 0.2    & setosa & 50    \\\\\n",
       "\t 4.6    & 3.1    & 1.5    & 0.2    & setosa & 50    \\\\\n",
       "\t 5.0    & 3.6    & 1.4    & 0.2    & setosa & 50    \\\\\n",
       "\t 5.4    & 3.9    & 1.7    & 0.4    & setosa & 50    \\\\\n",
       "\\end{tabular}\n"
      ],
      "text/markdown": [
       "\n",
       "| Sepal.Length | Sepal.Width | Petal.Length | Petal.Width | Species | n |\n",
       "|---|---|---|---|---|---|\n",
       "| 5.1    | 3.5    | 1.4    | 0.2    | setosa | 50     |\n",
       "| 4.9    | 3.0    | 1.4    | 0.2    | setosa | 50     |\n",
       "| 4.7    | 3.2    | 1.3    | 0.2    | setosa | 50     |\n",
       "| 4.6    | 3.1    | 1.5    | 0.2    | setosa | 50     |\n",
       "| 5.0    | 3.6    | 1.4    | 0.2    | setosa | 50     |\n",
       "| 5.4    | 3.9    | 1.7    | 0.4    | setosa | 50     |\n",
       "\n"
      ],
      "text/plain": [
       "  Sepal.Length Sepal.Width Petal.Length Petal.Width Species n \n",
       "1 5.1          3.5         1.4          0.2         setosa  50\n",
       "2 4.9          3.0         1.4          0.2         setosa  50\n",
       "3 4.7          3.2         1.3          0.2         setosa  50\n",
       "4 4.6          3.1         1.5          0.2         setosa  50\n",
       "5 5.0          3.6         1.4          0.2         setosa  50\n",
       "6 5.4          3.9         1.7          0.4         setosa  50"
      ]
     },
     "metadata": {},
     "output_type": "display_data"
    }
   ],
   "source": [
    "iris %>% \n",
    "group_by(Species) %>% \n",
    "add_tally() %>% \n",
    "head()"
   ]
  },
  {
   "cell_type": "markdown",
   "metadata": {},
   "source": [
    "# Arguments"
   ]
  },
  {
   "cell_type": "markdown",
   "metadata": {},
   "source": [
    "```r\n",
    "count(\n",
    "  x,\n",
    "  ...,\n",
    "  wt = NULL,\n",
    "  sort = FALSE,\n",
    "  name = NULL,\n",
    "  .drop = group_by_drop_default(x)\n",
    ")\n",
    "\n",
    "tally(x, wt = NULL, sort = FALSE, name = NULL)\n",
    "\n",
    "add_count(x, ..., wt = NULL, sort = FALSE, name = NULL, .drop = deprecated())\n",
    "\n",
    "add_tally(x, wt = NULL, sort = FALSE, name = NULL)\n",
    "```"
   ]
  },
  {
   "cell_type": "markdown",
   "metadata": {},
   "source": [
    "### `x`\t"
   ]
  },
  {
   "cell_type": "markdown",
   "metadata": {},
   "source": [
    "A data frame, data frame extension (e.g. a tibble), or a lazy data frame (e.g. from dbplyr or dtplyr)."
   ]
  },
  {
   "cell_type": "markdown",
   "metadata": {},
   "source": [
    "<hr>"
   ]
  },
  {
   "cell_type": "code",
   "execution_count": 3,
   "metadata": {},
   "outputs": [
    {
     "data": {
      "text/html": [
       "<table>\n",
       "<thead><tr><th scope=col>Species</th><th scope=col>n</th></tr></thead>\n",
       "<tbody>\n",
       "\t<tr><td>setosa    </td><td>50        </td></tr>\n",
       "\t<tr><td>versicolor</td><td>50        </td></tr>\n",
       "\t<tr><td>virginica </td><td>50        </td></tr>\n",
       "</tbody>\n",
       "</table>\n"
      ],
      "text/latex": [
       "\\begin{tabular}{r|ll}\n",
       " Species & n\\\\\n",
       "\\hline\n",
       "\t setosa     & 50        \\\\\n",
       "\t versicolor & 50        \\\\\n",
       "\t virginica  & 50        \\\\\n",
       "\\end{tabular}\n"
      ],
      "text/markdown": [
       "\n",
       "| Species | n |\n",
       "|---|---|\n",
       "| setosa     | 50         |\n",
       "| versicolor | 50         |\n",
       "| virginica  | 50         |\n",
       "\n"
      ],
      "text/plain": [
       "  Species    n \n",
       "1 setosa     50\n",
       "2 versicolor 50\n",
       "3 virginica  50"
      ]
     },
     "metadata": {},
     "output_type": "display_data"
    }
   ],
   "source": [
    "#Count the number of observations for each species in `iris` dataset\n",
    "count(x = iris, Species)"
   ]
  },
  {
   "cell_type": "code",
   "execution_count": 4,
   "metadata": {},
   "outputs": [
    {
     "data": {
      "text/html": [
       "<table>\n",
       "<thead><tr><th scope=col>Species</th><th scope=col>n</th></tr></thead>\n",
       "<tbody>\n",
       "\t<tr><td>setosa    </td><td>50        </td></tr>\n",
       "\t<tr><td>versicolor</td><td>50        </td></tr>\n",
       "\t<tr><td>virginica </td><td>50        </td></tr>\n",
       "</tbody>\n",
       "</table>\n"
      ],
      "text/latex": [
       "\\begin{tabular}{r|ll}\n",
       " Species & n\\\\\n",
       "\\hline\n",
       "\t setosa     & 50        \\\\\n",
       "\t versicolor & 50        \\\\\n",
       "\t virginica  & 50        \\\\\n",
       "\\end{tabular}\n"
      ],
      "text/markdown": [
       "\n",
       "| Species | n |\n",
       "|---|---|\n",
       "| setosa     | 50         |\n",
       "| versicolor | 50         |\n",
       "| virginica  | 50         |\n",
       "\n"
      ],
      "text/plain": [
       "  Species    n \n",
       "1 setosa     50\n",
       "2 versicolor 50\n",
       "3 virginica  50"
      ]
     },
     "metadata": {},
     "output_type": "display_data"
    }
   ],
   "source": [
    "#Equivalent\n",
    "iris %>% count(Species)"
   ]
  },
  {
   "cell_type": "markdown",
   "metadata": {},
   "source": [
    "### `wt`\t"
   ]
  },
  {
   "cell_type": "markdown",
   "metadata": {},
   "source": [
    "<data-masking> Frequency weights. Can be NULL or a variable:\n",
    "\n",
    "* If NULL (the default), counts the number of rows in each group.\n",
    "\n",
    "* If a variable, computes sum(`wt`) for each group."
   ]
  },
  {
   "cell_type": "code",
   "execution_count": 6,
   "metadata": {},
   "outputs": [
    {
     "data": {
      "text/html": [
       "<table>\n",
       "<thead><tr><th scope=col>name</th><th scope=col>reward</th></tr></thead>\n",
       "<tbody>\n",
       "\t<tr><td>VNC    </td><td>100    </td></tr>\n",
       "\t<tr><td>VNC    </td><td> 96    </td></tr>\n",
       "\t<tr><td>Dirilis</td><td> 10    </td></tr>\n",
       "</tbody>\n",
       "</table>\n"
      ],
      "text/latex": [
       "\\begin{tabular}{r|ll}\n",
       " name & reward\\\\\n",
       "\\hline\n",
       "\t VNC     & 100    \\\\\n",
       "\t VNC     &  96    \\\\\n",
       "\t Dirilis &  10    \\\\\n",
       "\\end{tabular}\n"
      ],
      "text/markdown": [
       "\n",
       "| name | reward |\n",
       "|---|---|\n",
       "| VNC     | 100     |\n",
       "| VNC     |  96     |\n",
       "| Dirilis |  10     |\n",
       "\n"
      ],
      "text/plain": [
       "  name    reward\n",
       "1 VNC     100   \n",
       "2 VNC      96   \n",
       "3 Dirilis  10   "
      ]
     },
     "metadata": {},
     "output_type": "display_data"
    }
   ],
   "source": [
    "clan <- data.frame(\n",
    "    name =  c('VNC', 'VNC', 'Dirilis'),\n",
    "    reward =  c(100, 96, 10)\n",
    ")\n",
    "\n",
    "clan"
   ]
  },
  {
   "cell_type": "code",
   "execution_count": 7,
   "metadata": {},
   "outputs": [
    {
     "data": {
      "text/html": [
       "<table>\n",
       "<thead><tr><th scope=col>name</th><th scope=col>n</th></tr></thead>\n",
       "<tbody>\n",
       "\t<tr><td>Dirilis</td><td>1      </td></tr>\n",
       "\t<tr><td>VNC    </td><td>2      </td></tr>\n",
       "</tbody>\n",
       "</table>\n"
      ],
      "text/latex": [
       "\\begin{tabular}{r|ll}\n",
       " name & n\\\\\n",
       "\\hline\n",
       "\t Dirilis & 1      \\\\\n",
       "\t VNC     & 2      \\\\\n",
       "\\end{tabular}\n"
      ],
      "text/markdown": [
       "\n",
       "| name | n |\n",
       "|---|---|\n",
       "| Dirilis | 1       |\n",
       "| VNC     | 2       |\n",
       "\n"
      ],
      "text/plain": [
       "  name    n\n",
       "1 Dirilis 1\n",
       "2 VNC     2"
      ]
     },
     "metadata": {},
     "output_type": "display_data"
    }
   ],
   "source": [
    "#default, wt = NULL\n",
    "clan %>% count(name)"
   ]
  },
  {
   "cell_type": "code",
   "execution_count": 8,
   "metadata": {},
   "outputs": [
    {
     "data": {
      "text/html": [
       "<table>\n",
       "<thead><tr><th scope=col>name</th><th scope=col>n</th></tr></thead>\n",
       "<tbody>\n",
       "\t<tr><td>Dirilis</td><td> 10    </td></tr>\n",
       "\t<tr><td>VNC    </td><td>196    </td></tr>\n",
       "</tbody>\n",
       "</table>\n"
      ],
      "text/latex": [
       "\\begin{tabular}{r|ll}\n",
       " name & n\\\\\n",
       "\\hline\n",
       "\t Dirilis &  10    \\\\\n",
       "\t VNC     & 196    \\\\\n",
       "\\end{tabular}\n"
      ],
      "text/markdown": [
       "\n",
       "| name | n |\n",
       "|---|---|\n",
       "| Dirilis |  10     |\n",
       "| VNC     | 196     |\n",
       "\n"
      ],
      "text/plain": [
       "  name    n  \n",
       "1 Dirilis  10\n",
       "2 VNC     196"
      ]
     },
     "metadata": {},
     "output_type": "display_data"
    }
   ],
   "source": [
    "#wt = reward\n",
    "\n",
    "clan %>% count(name, wt = reward)"
   ]
  },
  {
   "cell_type": "markdown",
   "metadata": {},
   "source": [
    "### `sort`\t"
   ]
  },
  {
   "cell_type": "markdown",
   "metadata": {},
   "source": [
    "If TRUE, will show the largest groups at the top."
   ]
  },
  {
   "cell_type": "markdown",
   "metadata": {},
   "source": [
    "<hr> "
   ]
  },
  {
   "cell_type": "code",
   "execution_count": 10,
   "metadata": {},
   "outputs": [
    {
     "data": {
      "text/html": [
       "<table>\n",
       "<thead><tr><th scope=col>manufacturer</th><th scope=col>n</th></tr></thead>\n",
       "<tbody>\n",
       "\t<tr><td>audi      </td><td>18        </td></tr>\n",
       "\t<tr><td>chevrolet </td><td>19        </td></tr>\n",
       "\t<tr><td>dodge     </td><td>37        </td></tr>\n",
       "\t<tr><td>ford      </td><td>25        </td></tr>\n",
       "\t<tr><td>honda     </td><td> 9        </td></tr>\n",
       "\t<tr><td>hyundai   </td><td>14        </td></tr>\n",
       "\t<tr><td>jeep      </td><td> 8        </td></tr>\n",
       "\t<tr><td>land rover</td><td> 4        </td></tr>\n",
       "\t<tr><td>lincoln   </td><td> 3        </td></tr>\n",
       "\t<tr><td>mercury   </td><td> 4        </td></tr>\n",
       "\t<tr><td>nissan    </td><td>13        </td></tr>\n",
       "\t<tr><td>pontiac   </td><td> 5        </td></tr>\n",
       "\t<tr><td>subaru    </td><td>14        </td></tr>\n",
       "\t<tr><td>toyota    </td><td>34        </td></tr>\n",
       "\t<tr><td>volkswagen</td><td>27        </td></tr>\n",
       "</tbody>\n",
       "</table>\n"
      ],
      "text/latex": [
       "\\begin{tabular}{r|ll}\n",
       " manufacturer & n\\\\\n",
       "\\hline\n",
       "\t audi       & 18        \\\\\n",
       "\t chevrolet  & 19        \\\\\n",
       "\t dodge      & 37        \\\\\n",
       "\t ford       & 25        \\\\\n",
       "\t honda      &  9        \\\\\n",
       "\t hyundai    & 14        \\\\\n",
       "\t jeep       &  8        \\\\\n",
       "\t land rover &  4        \\\\\n",
       "\t lincoln    &  3        \\\\\n",
       "\t mercury    &  4        \\\\\n",
       "\t nissan     & 13        \\\\\n",
       "\t pontiac    &  5        \\\\\n",
       "\t subaru     & 14        \\\\\n",
       "\t toyota     & 34        \\\\\n",
       "\t volkswagen & 27        \\\\\n",
       "\\end{tabular}\n"
      ],
      "text/markdown": [
       "\n",
       "| manufacturer | n |\n",
       "|---|---|\n",
       "| audi       | 18         |\n",
       "| chevrolet  | 19         |\n",
       "| dodge      | 37         |\n",
       "| ford       | 25         |\n",
       "| honda      |  9         |\n",
       "| hyundai    | 14         |\n",
       "| jeep       |  8         |\n",
       "| land rover |  4         |\n",
       "| lincoln    |  3         |\n",
       "| mercury    |  4         |\n",
       "| nissan     | 13         |\n",
       "| pontiac    |  5         |\n",
       "| subaru     | 14         |\n",
       "| toyota     | 34         |\n",
       "| volkswagen | 27         |\n",
       "\n"
      ],
      "text/plain": [
       "   manufacturer n \n",
       "1  audi         18\n",
       "2  chevrolet    19\n",
       "3  dodge        37\n",
       "4  ford         25\n",
       "5  honda         9\n",
       "6  hyundai      14\n",
       "7  jeep          8\n",
       "8  land rover    4\n",
       "9  lincoln       3\n",
       "10 mercury       4\n",
       "11 nissan       13\n",
       "12 pontiac       5\n",
       "13 subaru       14\n",
       "14 toyota       34\n",
       "15 volkswagen   27"
      ]
     },
     "metadata": {},
     "output_type": "display_data"
    }
   ],
   "source": [
    "#default, sort = FALSE\n",
    "mpg %>% count(manufacturer)"
   ]
  },
  {
   "cell_type": "code",
   "execution_count": 12,
   "metadata": {},
   "outputs": [
    {
     "data": {
      "text/html": [
       "<table>\n",
       "<thead><tr><th scope=col>manufacturer</th><th scope=col>n</th></tr></thead>\n",
       "<tbody>\n",
       "\t<tr><td>dodge     </td><td>37        </td></tr>\n",
       "\t<tr><td>toyota    </td><td>34        </td></tr>\n",
       "\t<tr><td>volkswagen</td><td>27        </td></tr>\n",
       "\t<tr><td>ford      </td><td>25        </td></tr>\n",
       "\t<tr><td>chevrolet </td><td>19        </td></tr>\n",
       "\t<tr><td>audi      </td><td>18        </td></tr>\n",
       "\t<tr><td>hyundai   </td><td>14        </td></tr>\n",
       "\t<tr><td>subaru    </td><td>14        </td></tr>\n",
       "\t<tr><td>nissan    </td><td>13        </td></tr>\n",
       "\t<tr><td>honda     </td><td> 9        </td></tr>\n",
       "\t<tr><td>jeep      </td><td> 8        </td></tr>\n",
       "\t<tr><td>pontiac   </td><td> 5        </td></tr>\n",
       "\t<tr><td>land rover</td><td> 4        </td></tr>\n",
       "\t<tr><td>mercury   </td><td> 4        </td></tr>\n",
       "\t<tr><td>lincoln   </td><td> 3        </td></tr>\n",
       "</tbody>\n",
       "</table>\n"
      ],
      "text/latex": [
       "\\begin{tabular}{r|ll}\n",
       " manufacturer & n\\\\\n",
       "\\hline\n",
       "\t dodge      & 37        \\\\\n",
       "\t toyota     & 34        \\\\\n",
       "\t volkswagen & 27        \\\\\n",
       "\t ford       & 25        \\\\\n",
       "\t chevrolet  & 19        \\\\\n",
       "\t audi       & 18        \\\\\n",
       "\t hyundai    & 14        \\\\\n",
       "\t subaru     & 14        \\\\\n",
       "\t nissan     & 13        \\\\\n",
       "\t honda      &  9        \\\\\n",
       "\t jeep       &  8        \\\\\n",
       "\t pontiac    &  5        \\\\\n",
       "\t land rover &  4        \\\\\n",
       "\t mercury    &  4        \\\\\n",
       "\t lincoln    &  3        \\\\\n",
       "\\end{tabular}\n"
      ],
      "text/markdown": [
       "\n",
       "| manufacturer | n |\n",
       "|---|---|\n",
       "| dodge      | 37         |\n",
       "| toyota     | 34         |\n",
       "| volkswagen | 27         |\n",
       "| ford       | 25         |\n",
       "| chevrolet  | 19         |\n",
       "| audi       | 18         |\n",
       "| hyundai    | 14         |\n",
       "| subaru     | 14         |\n",
       "| nissan     | 13         |\n",
       "| honda      |  9         |\n",
       "| jeep       |  8         |\n",
       "| pontiac    |  5         |\n",
       "| land rover |  4         |\n",
       "| mercury    |  4         |\n",
       "| lincoln    |  3         |\n",
       "\n"
      ],
      "text/plain": [
       "   manufacturer n \n",
       "1  dodge        37\n",
       "2  toyota       34\n",
       "3  volkswagen   27\n",
       "4  ford         25\n",
       "5  chevrolet    19\n",
       "6  audi         18\n",
       "7  hyundai      14\n",
       "8  subaru       14\n",
       "9  nissan       13\n",
       "10 honda         9\n",
       "11 jeep          8\n",
       "12 pontiac       5\n",
       "13 land rover    4\n",
       "14 mercury       4\n",
       "15 lincoln       3"
      ]
     },
     "metadata": {},
     "output_type": "display_data"
    }
   ],
   "source": [
    "#sort = TRUE, sort result by count descending\n",
    "mpg %>% count(manufacturer, sort = T)"
   ]
  },
  {
   "cell_type": "markdown",
   "metadata": {},
   "source": [
    "### `name`"
   ]
  },
  {
   "cell_type": "markdown",
   "metadata": {},
   "source": [
    "\t\n",
    "The name of the new column in the output.\n",
    "\n",
    "If omitted, it will default to n. If there's already a column called n, it will error, and require you to specify the name."
   ]
  },
  {
   "cell_type": "code",
   "execution_count": 13,
   "metadata": {},
   "outputs": [
    {
     "data": {
      "text/html": [
       "<table>\n",
       "<thead><tr><th scope=col>name</th><th scope=col>Total Reward</th></tr></thead>\n",
       "<tbody>\n",
       "\t<tr><td>Dirilis</td><td> 10    </td></tr>\n",
       "\t<tr><td>VNC    </td><td>196    </td></tr>\n",
       "</tbody>\n",
       "</table>\n"
      ],
      "text/latex": [
       "\\begin{tabular}{r|ll}\n",
       " name & Total Reward\\\\\n",
       "\\hline\n",
       "\t Dirilis &  10    \\\\\n",
       "\t VNC     & 196    \\\\\n",
       "\\end{tabular}\n"
      ],
      "text/markdown": [
       "\n",
       "| name | Total Reward |\n",
       "|---|---|\n",
       "| Dirilis |  10     |\n",
       "| VNC     | 196     |\n",
       "\n"
      ],
      "text/plain": [
       "  name    Total Reward\n",
       "1 Dirilis  10         \n",
       "2 VNC     196         "
      ]
     },
     "metadata": {},
     "output_type": "display_data"
    }
   ],
   "source": [
    "#Set the name of the result column to 'Total Reward'\n",
    "clan %>% count(name, wt = reward, name = 'Total Reward')"
   ]
  },
  {
   "cell_type": "markdown",
   "metadata": {},
   "source": [
    "### `.drop`\t"
   ]
  },
  {
   "cell_type": "markdown",
   "metadata": {},
   "source": [
    "For `count()`: if FALSE will include counts for empty groups (i.e. for levels of factors that don't exist in the data). Deprecated `in add_count()` since it didn't actually affect the output.\n",
    "\n",
    "Value"
   ]
  },
  {
   "cell_type": "code",
   "execution_count": null,
   "metadata": {},
   "outputs": [],
   "source": []
  }
 ],
 "metadata": {
  "kernelspec": {
   "display_name": "R",
   "language": "R",
   "name": "ir"
  },
  "language_info": {
   "codemirror_mode": "r",
   "file_extension": ".r",
   "mimetype": "text/x-r-source",
   "name": "R",
   "pygments_lexer": "r",
   "version": "4.0.3"
  }
 },
 "nbformat": 4,
 "nbformat_minor": 2
}
