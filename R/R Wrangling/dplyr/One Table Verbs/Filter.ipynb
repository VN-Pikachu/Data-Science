{
 "cells": [
  {
   "cell_type": "code",
   "execution_count": 3,
   "metadata": {},
   "outputs": [],
   "source": [
    "library(tidyverse)"
   ]
  },
  {
   "cell_type": "markdown",
   "metadata": {},
   "source": [
    "# Subset rows using column values\n"
   ]
  },
  {
   "cell_type": "markdown",
   "metadata": {},
   "source": [
    "The **`filter()`** function is used to subset a data frame, retaining all rows that satisfy your conditions. To be retained, the row must produce a value of TRUE for all conditions. Note that when a condition evaluates to NA the row will be dropped, unlike base subsetting with [."
   ]
  },
  {
   "cell_type": "markdown",
   "metadata": {},
   "source": [
    "```R\n",
    "filter(.data, ..., .preserve = FALSE)\n",
    "```"
   ]
  },
  {
   "cell_type": "markdown",
   "metadata": {},
   "source": [
    "# Useful filter functions"
   ]
  },
  {
   "cell_type": "raw",
   "metadata": {},
   "source": [
    "There are many functions and operators that are useful when constructing the expressions used to filter the data:\n",
    "\n",
    "* ==, >, >=, etc...\n",
    "\n",
    "* &, |, !, xor()\n",
    "\n",
    "* is.na()\n",
    "\n",
    "* between(), near()"
   ]
  },
  {
   "cell_type": "markdown",
   "metadata": {},
   "source": [
    "# Examples"
   ]
  },
  {
   "cell_type": "markdown",
   "metadata": {},
   "source": [
    "Filtering by one criterion"
   ]
  },
  {
   "cell_type": "code",
   "execution_count": 9,
   "metadata": {},
   "outputs": [
    {
     "data": {
      "text/html": [
       "<table>\n",
       "<thead><tr><th scope=col>Sepal.Length</th><th scope=col>Sepal.Width</th><th scope=col>Petal.Length</th><th scope=col>Petal.Width</th><th scope=col>Species</th></tr></thead>\n",
       "<tbody>\n",
       "\t<tr><td>5.1   </td><td>3.5   </td><td>1.4   </td><td>0.2   </td><td>setosa</td></tr>\n",
       "\t<tr><td>4.9   </td><td>3.0   </td><td>1.4   </td><td>0.2   </td><td>setosa</td></tr>\n",
       "\t<tr><td>4.7   </td><td>3.2   </td><td>1.3   </td><td>0.2   </td><td>setosa</td></tr>\n",
       "\t<tr><td>4.6   </td><td>3.1   </td><td>1.5   </td><td>0.2   </td><td>setosa</td></tr>\n",
       "\t<tr><td>5.0   </td><td>3.6   </td><td>1.4   </td><td>0.2   </td><td>setosa</td></tr>\n",
       "\t<tr><td>5.4   </td><td>3.9   </td><td>1.7   </td><td>0.4   </td><td>setosa</td></tr>\n",
       "\t<tr><td>4.6   </td><td>3.4   </td><td>1.4   </td><td>0.3   </td><td>setosa</td></tr>\n",
       "\t<tr><td>5.0   </td><td>3.4   </td><td>1.5   </td><td>0.2   </td><td>setosa</td></tr>\n",
       "\t<tr><td>4.4   </td><td>2.9   </td><td>1.4   </td><td>0.2   </td><td>setosa</td></tr>\n",
       "\t<tr><td>4.9   </td><td>3.1   </td><td>1.5   </td><td>0.1   </td><td>setosa</td></tr>\n",
       "\t<tr><td>5.4   </td><td>3.7   </td><td>1.5   </td><td>0.2   </td><td>setosa</td></tr>\n",
       "\t<tr><td>4.8   </td><td>3.4   </td><td>1.6   </td><td>0.2   </td><td>setosa</td></tr>\n",
       "\t<tr><td>4.8   </td><td>3.0   </td><td>1.4   </td><td>0.1   </td><td>setosa</td></tr>\n",
       "\t<tr><td>4.3   </td><td>3.0   </td><td>1.1   </td><td>0.1   </td><td>setosa</td></tr>\n",
       "\t<tr><td>5.8   </td><td>4.0   </td><td>1.2   </td><td>0.2   </td><td>setosa</td></tr>\n",
       "\t<tr><td>5.7   </td><td>4.4   </td><td>1.5   </td><td>0.4   </td><td>setosa</td></tr>\n",
       "\t<tr><td>5.4   </td><td>3.9   </td><td>1.3   </td><td>0.4   </td><td>setosa</td></tr>\n",
       "\t<tr><td>5.1   </td><td>3.5   </td><td>1.4   </td><td>0.3   </td><td>setosa</td></tr>\n",
       "\t<tr><td>5.7   </td><td>3.8   </td><td>1.7   </td><td>0.3   </td><td>setosa</td></tr>\n",
       "\t<tr><td>5.1   </td><td>3.8   </td><td>1.5   </td><td>0.3   </td><td>setosa</td></tr>\n",
       "</tbody>\n",
       "</table>\n"
      ],
      "text/latex": [
       "\\begin{tabular}{r|lllll}\n",
       " Sepal.Length & Sepal.Width & Petal.Length & Petal.Width & Species\\\\\n",
       "\\hline\n",
       "\t 5.1    & 3.5    & 1.4    & 0.2    & setosa\\\\\n",
       "\t 4.9    & 3.0    & 1.4    & 0.2    & setosa\\\\\n",
       "\t 4.7    & 3.2    & 1.3    & 0.2    & setosa\\\\\n",
       "\t 4.6    & 3.1    & 1.5    & 0.2    & setosa\\\\\n",
       "\t 5.0    & 3.6    & 1.4    & 0.2    & setosa\\\\\n",
       "\t 5.4    & 3.9    & 1.7    & 0.4    & setosa\\\\\n",
       "\t 4.6    & 3.4    & 1.4    & 0.3    & setosa\\\\\n",
       "\t 5.0    & 3.4    & 1.5    & 0.2    & setosa\\\\\n",
       "\t 4.4    & 2.9    & 1.4    & 0.2    & setosa\\\\\n",
       "\t 4.9    & 3.1    & 1.5    & 0.1    & setosa\\\\\n",
       "\t 5.4    & 3.7    & 1.5    & 0.2    & setosa\\\\\n",
       "\t 4.8    & 3.4    & 1.6    & 0.2    & setosa\\\\\n",
       "\t 4.8    & 3.0    & 1.4    & 0.1    & setosa\\\\\n",
       "\t 4.3    & 3.0    & 1.1    & 0.1    & setosa\\\\\n",
       "\t 5.8    & 4.0    & 1.2    & 0.2    & setosa\\\\\n",
       "\t 5.7    & 4.4    & 1.5    & 0.4    & setosa\\\\\n",
       "\t 5.4    & 3.9    & 1.3    & 0.4    & setosa\\\\\n",
       "\t 5.1    & 3.5    & 1.4    & 0.3    & setosa\\\\\n",
       "\t 5.7    & 3.8    & 1.7    & 0.3    & setosa\\\\\n",
       "\t 5.1    & 3.8    & 1.5    & 0.3    & setosa\\\\\n",
       "\\end{tabular}\n"
      ],
      "text/markdown": [
       "\n",
       "| Sepal.Length | Sepal.Width | Petal.Length | Petal.Width | Species |\n",
       "|---|---|---|---|---|\n",
       "| 5.1    | 3.5    | 1.4    | 0.2    | setosa |\n",
       "| 4.9    | 3.0    | 1.4    | 0.2    | setosa |\n",
       "| 4.7    | 3.2    | 1.3    | 0.2    | setosa |\n",
       "| 4.6    | 3.1    | 1.5    | 0.2    | setosa |\n",
       "| 5.0    | 3.6    | 1.4    | 0.2    | setosa |\n",
       "| 5.4    | 3.9    | 1.7    | 0.4    | setosa |\n",
       "| 4.6    | 3.4    | 1.4    | 0.3    | setosa |\n",
       "| 5.0    | 3.4    | 1.5    | 0.2    | setosa |\n",
       "| 4.4    | 2.9    | 1.4    | 0.2    | setosa |\n",
       "| 4.9    | 3.1    | 1.5    | 0.1    | setosa |\n",
       "| 5.4    | 3.7    | 1.5    | 0.2    | setosa |\n",
       "| 4.8    | 3.4    | 1.6    | 0.2    | setosa |\n",
       "| 4.8    | 3.0    | 1.4    | 0.1    | setosa |\n",
       "| 4.3    | 3.0    | 1.1    | 0.1    | setosa |\n",
       "| 5.8    | 4.0    | 1.2    | 0.2    | setosa |\n",
       "| 5.7    | 4.4    | 1.5    | 0.4    | setosa |\n",
       "| 5.4    | 3.9    | 1.3    | 0.4    | setosa |\n",
       "| 5.1    | 3.5    | 1.4    | 0.3    | setosa |\n",
       "| 5.7    | 3.8    | 1.7    | 0.3    | setosa |\n",
       "| 5.1    | 3.8    | 1.5    | 0.3    | setosa |\n",
       "\n"
      ],
      "text/plain": [
       "   Sepal.Length Sepal.Width Petal.Length Petal.Width Species\n",
       "1  5.1          3.5         1.4          0.2         setosa \n",
       "2  4.9          3.0         1.4          0.2         setosa \n",
       "3  4.7          3.2         1.3          0.2         setosa \n",
       "4  4.6          3.1         1.5          0.2         setosa \n",
       "5  5.0          3.6         1.4          0.2         setosa \n",
       "6  5.4          3.9         1.7          0.4         setosa \n",
       "7  4.6          3.4         1.4          0.3         setosa \n",
       "8  5.0          3.4         1.5          0.2         setosa \n",
       "9  4.4          2.9         1.4          0.2         setosa \n",
       "10 4.9          3.1         1.5          0.1         setosa \n",
       "11 5.4          3.7         1.5          0.2         setosa \n",
       "12 4.8          3.4         1.6          0.2         setosa \n",
       "13 4.8          3.0         1.4          0.1         setosa \n",
       "14 4.3          3.0         1.1          0.1         setosa \n",
       "15 5.8          4.0         1.2          0.2         setosa \n",
       "16 5.7          4.4         1.5          0.4         setosa \n",
       "17 5.4          3.9         1.3          0.4         setosa \n",
       "18 5.1          3.5         1.4          0.3         setosa \n",
       "19 5.7          3.8         1.7          0.3         setosa \n",
       "20 5.1          3.8         1.5          0.3         setosa "
      ]
     },
     "metadata": {},
     "output_type": "display_data"
    }
   ],
   "source": [
    "#select setosa species\n",
    "iris %>% filter(Species == 'setosa') %>% head(20)"
   ]
  },
  {
   "cell_type": "markdown",
   "metadata": {},
   "source": [
    "Filtering by multiple criteria within a single logical expression"
   ]
  },
  {
   "cell_type": "code",
   "execution_count": 10,
   "metadata": {},
   "outputs": [
    {
     "data": {
      "text/html": [
       "<table>\n",
       "<thead><tr><th scope=col>name</th><th scope=col>height</th><th scope=col>mass</th><th scope=col>hair_color</th><th scope=col>skin_color</th><th scope=col>eye_color</th><th scope=col>birth_year</th><th scope=col>sex</th><th scope=col>gender</th><th scope=col>homeworld</th><th scope=col>species</th><th scope=col>films</th><th scope=col>vehicles</th><th scope=col>starships</th></tr></thead>\n",
       "<tbody>\n",
       "\t<tr><td>Nien Nunb         </td><td>160               </td><td>68                </td><td>none              </td><td>grey              </td><td>black             </td><td>NA                </td><td>male              </td><td>masculine         </td><td>Sullust           </td><td>Sullustan         </td><td>Return of the Jedi</td><td>                  </td><td>Millennium Falcon </td></tr>\n",
       "\t<tr><td>Gasgano           </td><td>122               </td><td>NA                </td><td>none              </td><td>white, blue       </td><td>black             </td><td>NA                </td><td>male              </td><td>masculine         </td><td>Troiken           </td><td>Xexto             </td><td>The Phantom Menace</td><td>                  </td><td>                  </td></tr>\n",
       "\t<tr><td>Kit Fisto                                                       </td><td>196                                                             </td><td>87                                                              </td><td>none                                                            </td><td>green                                                           </td><td>black                                                           </td><td>NA                                                              </td><td>male                                                            </td><td>masculine                                                       </td><td>Glee Anselm                                                     </td><td>Nautolan                                                        </td><td>Attack of the Clones, The Phantom Menace  , Revenge of the Sith </td><td>                                                                </td><td>                                                                </td></tr>\n",
       "\t<tr><td>Plo Koon                                                        </td><td>188                                                             </td><td>80                                                              </td><td>none                                                            </td><td>orange                                                          </td><td>black                                                           </td><td>22                                                              </td><td>male                                                            </td><td>masculine                                                       </td><td>Dorin                                                           </td><td>Kel Dor                                                         </td><td>Attack of the Clones, The Phantom Menace  , Revenge of the Sith </td><td>                                                                </td><td>Jedi starfighter                                                </td></tr>\n",
       "\t<tr><td>Lama Su             </td><td>229                 </td><td>88                  </td><td>none                </td><td>grey                </td><td>black               </td><td>NA                  </td><td>male                </td><td>masculine           </td><td>Kamino              </td><td>Kaminoan            </td><td>Attack of the Clones</td><td>                    </td><td>                    </td></tr>\n",
       "\t<tr><td>Taun We             </td><td>213                 </td><td>NA                  </td><td>none                </td><td>grey                </td><td>black               </td><td>NA                  </td><td>female              </td><td>feminine            </td><td>Kamino              </td><td>Kaminoan            </td><td>Attack of the Clones</td><td>                    </td><td>                    </td></tr>\n",
       "\t<tr><td>Shaak Ti                                  </td><td>178                                       </td><td>57                                        </td><td>none                                      </td><td>red, blue, white                          </td><td>black                                     </td><td>NA                                        </td><td>female                                    </td><td>feminine                                  </td><td>Shili                                     </td><td>Togruta                                   </td><td>Attack of the Clones, Revenge of the Sith </td><td>                                          </td><td>                                          </td></tr>\n",
       "\t<tr><td>Tion Medon         </td><td>206                </td><td>80                 </td><td>none               </td><td>grey               </td><td>black              </td><td>NA                 </td><td>male               </td><td>masculine          </td><td>Utapau             </td><td>Pau'an             </td><td>Revenge of the Sith</td><td>                   </td><td>                   </td></tr>\n",
       "\t<tr><td>BB8              </td><td> NA              </td><td>NA               </td><td>none             </td><td>none             </td><td>black            </td><td>NA               </td><td>none             </td><td>masculine        </td><td>NA               </td><td>Droid            </td><td>The Force Awakens</td><td>                 </td><td>                 </td></tr>\n",
       "</tbody>\n",
       "</table>\n"
      ],
      "text/latex": [
       "\\begin{tabular}{r|llllllllllllll}\n",
       " name & height & mass & hair\\_color & skin\\_color & eye\\_color & birth\\_year & sex & gender & homeworld & species & films & vehicles & starships\\\\\n",
       "\\hline\n",
       "\t Nien Nunb          & 160                & 68                 & none               & grey               & black              & NA                 & male               & masculine          & Sullust            & Sullustan          & Return of the Jedi &                    & Millennium Falcon \\\\\n",
       "\t Gasgano            & 122                & NA                 & none               & white, blue        & black              & NA                 & male               & masculine          & Troiken            & Xexto              & The Phantom Menace &                    &                   \\\\\n",
       "\t Kit Fisto                                                        & 196                                                              & 87                                                               & none                                                             & green                                                            & black                                                            & NA                                                               & male                                                             & masculine                                                        & Glee Anselm                                                      & Nautolan                                                         & Attack of the Clones, The Phantom Menace  , Revenge of the Sith  &                                                                  &                                                                 \\\\\n",
       "\t Plo Koon                                                         & 188                                                              & 80                                                               & none                                                             & orange                                                           & black                                                            & 22                                                               & male                                                             & masculine                                                        & Dorin                                                            & Kel Dor                                                          & Attack of the Clones, The Phantom Menace  , Revenge of the Sith  &                                                                  & Jedi starfighter                                                \\\\\n",
       "\t Lama Su              & 229                  & 88                   & none                 & grey                 & black                & NA                   & male                 & masculine            & Kamino               & Kaminoan             & Attack of the Clones &                      &                     \\\\\n",
       "\t Taun We              & 213                  & NA                   & none                 & grey                 & black                & NA                   & female               & feminine             & Kamino               & Kaminoan             & Attack of the Clones &                      &                     \\\\\n",
       "\t Shaak Ti                                   & 178                                        & 57                                         & none                                       & red, blue, white                           & black                                      & NA                                         & female                                     & feminine                                   & Shili                                      & Togruta                                    & Attack of the Clones, Revenge of the Sith  &                                            &                                           \\\\\n",
       "\t Tion Medon          & 206                 & 80                  & none                & grey                & black               & NA                  & male                & masculine           & Utapau              & Pau'an              & Revenge of the Sith &                     &                    \\\\\n",
       "\t BB8               &  NA               & NA                & none              & none              & black             & NA                & none              & masculine         & NA                & Droid             & The Force Awakens &                   &                  \\\\\n",
       "\\end{tabular}\n"
      ],
      "text/markdown": [
       "\n",
       "| name | height | mass | hair_color | skin_color | eye_color | birth_year | sex | gender | homeworld | species | films | vehicles | starships |\n",
       "|---|---|---|---|---|---|---|---|---|---|---|---|---|---|\n",
       "| Nien Nunb          | 160                | 68                 | none               | grey               | black              | NA                 | male               | masculine          | Sullust            | Sullustan          | Return of the Jedi |                    | Millennium Falcon  |\n",
       "| Gasgano            | 122                | NA                 | none               | white, blue        | black              | NA                 | male               | masculine          | Troiken            | Xexto              | The Phantom Menace |                    |                    |\n",
       "| Kit Fisto                                                        | 196                                                              | 87                                                               | none                                                             | green                                                            | black                                                            | NA                                                               | male                                                             | masculine                                                        | Glee Anselm                                                      | Nautolan                                                         | Attack of the Clones, The Phantom Menace  , Revenge of the Sith  |                                                                  |                                                                  |\n",
       "| Plo Koon                                                         | 188                                                              | 80                                                               | none                                                             | orange                                                           | black                                                            | 22                                                               | male                                                             | masculine                                                        | Dorin                                                            | Kel Dor                                                          | Attack of the Clones, The Phantom Menace  , Revenge of the Sith  |                                                                  | Jedi starfighter                                                 |\n",
       "| Lama Su              | 229                  | 88                   | none                 | grey                 | black                | NA                   | male                 | masculine            | Kamino               | Kaminoan             | Attack of the Clones |                      |                      |\n",
       "| Taun We              | 213                  | NA                   | none                 | grey                 | black                | NA                   | female               | feminine             | Kamino               | Kaminoan             | Attack of the Clones |                      |                      |\n",
       "| Shaak Ti                                   | 178                                        | 57                                         | none                                       | red, blue, white                           | black                                      | NA                                         | female                                     | feminine                                   | Shili                                      | Togruta                                    | Attack of the Clones, Revenge of the Sith  |                                            |                                            |\n",
       "| Tion Medon          | 206                 | 80                  | none                | grey                | black               | NA                  | male                | masculine           | Utapau              | Pau'an              | Revenge of the Sith |                     |                     |\n",
       "| BB8               |  NA               | NA                | none              | none              | black             | NA                | none              | masculine         | NA                | Droid             | The Force Awakens |                   |                   |\n",
       "\n"
      ],
      "text/plain": [
       "  name       height mass hair_color skin_color       eye_color birth_year\n",
       "1 Nien Nunb  160    68   none       grey             black     NA        \n",
       "2 Gasgano    122    NA   none       white, blue      black     NA        \n",
       "3 Kit Fisto  196    87   none       green            black     NA        \n",
       "4 Plo Koon   188    80   none       orange           black     22        \n",
       "5 Lama Su    229    88   none       grey             black     NA        \n",
       "6 Taun We    213    NA   none       grey             black     NA        \n",
       "7 Shaak Ti   178    57   none       red, blue, white black     NA        \n",
       "8 Tion Medon 206    80   none       grey             black     NA        \n",
       "9 BB8         NA    NA   none       none             black     NA        \n",
       "  sex    gender    homeworld   species  \n",
       "1 male   masculine Sullust     Sullustan\n",
       "2 male   masculine Troiken     Xexto    \n",
       "3 male   masculine Glee Anselm Nautolan \n",
       "4 male   masculine Dorin       Kel Dor  \n",
       "5 male   masculine Kamino      Kaminoan \n",
       "6 female feminine  Kamino      Kaminoan \n",
       "7 female feminine  Shili       Togruta  \n",
       "8 male   masculine Utapau      Pau'an   \n",
       "9 none   masculine NA          Droid    \n",
       "  films                                                            vehicles\n",
       "1 Return of the Jedi                                                       \n",
       "2 The Phantom Menace                                                       \n",
       "3 Attack of the Clones, The Phantom Menace  , Revenge of the Sith          \n",
       "4 Attack of the Clones, The Phantom Menace  , Revenge of the Sith          \n",
       "5 Attack of the Clones                                                     \n",
       "6 Attack of the Clones                                                     \n",
       "7 Attack of the Clones, Revenge of the Sith                                \n",
       "8 Revenge of the Sith                                                      \n",
       "9 The Force Awakens                                                        \n",
       "  starships        \n",
       "1 Millennium Falcon\n",
       "2                  \n",
       "3                  \n",
       "4 Jedi starfighter \n",
       "5                  \n",
       "6                  \n",
       "7                  \n",
       "8                  \n",
       "9                  "
      ]
     },
     "metadata": {},
     "output_type": "display_data"
    }
   ],
   "source": [
    "#Select characters that do not have hair and have black eye\n",
    "starwars %>% filter(hair_color == 'none' & eye_color == 'black')"
   ]
  },
  {
   "cell_type": "markdown",
   "metadata": {},
   "source": [
    "When multiple expressions are used, they are combined using &"
   ]
  },
  {
   "cell_type": "code",
   "execution_count": 12,
   "metadata": {},
   "outputs": [
    {
     "data": {
      "text/html": [
       "<table>\n",
       "<thead><tr><th scope=col>name</th><th scope=col>height</th><th scope=col>mass</th><th scope=col>hair_color</th><th scope=col>skin_color</th><th scope=col>eye_color</th><th scope=col>birth_year</th><th scope=col>sex</th><th scope=col>gender</th><th scope=col>homeworld</th><th scope=col>species</th><th scope=col>films</th><th scope=col>vehicles</th><th scope=col>starships</th></tr></thead>\n",
       "<tbody>\n",
       "\t<tr><td>Nien Nunb         </td><td>160               </td><td>68                </td><td>none              </td><td>grey              </td><td>black             </td><td>NA                </td><td>male              </td><td>masculine         </td><td>Sullust           </td><td>Sullustan         </td><td>Return of the Jedi</td><td>                  </td><td>Millennium Falcon </td></tr>\n",
       "\t<tr><td>Gasgano           </td><td>122               </td><td>NA                </td><td>none              </td><td>white, blue       </td><td>black             </td><td>NA                </td><td>male              </td><td>masculine         </td><td>Troiken           </td><td>Xexto             </td><td>The Phantom Menace</td><td>                  </td><td>                  </td></tr>\n",
       "\t<tr><td>Kit Fisto                                                       </td><td>196                                                             </td><td>87                                                              </td><td>none                                                            </td><td>green                                                           </td><td>black                                                           </td><td>NA                                                              </td><td>male                                                            </td><td>masculine                                                       </td><td>Glee Anselm                                                     </td><td>Nautolan                                                        </td><td>Attack of the Clones, The Phantom Menace  , Revenge of the Sith </td><td>                                                                </td><td>                                                                </td></tr>\n",
       "\t<tr><td>Plo Koon                                                        </td><td>188                                                             </td><td>80                                                              </td><td>none                                                            </td><td>orange                                                          </td><td>black                                                           </td><td>22                                                              </td><td>male                                                            </td><td>masculine                                                       </td><td>Dorin                                                           </td><td>Kel Dor                                                         </td><td>Attack of the Clones, The Phantom Menace  , Revenge of the Sith </td><td>                                                                </td><td>Jedi starfighter                                                </td></tr>\n",
       "\t<tr><td>Lama Su             </td><td>229                 </td><td>88                  </td><td>none                </td><td>grey                </td><td>black               </td><td>NA                  </td><td>male                </td><td>masculine           </td><td>Kamino              </td><td>Kaminoan            </td><td>Attack of the Clones</td><td>                    </td><td>                    </td></tr>\n",
       "\t<tr><td>Taun We             </td><td>213                 </td><td>NA                  </td><td>none                </td><td>grey                </td><td>black               </td><td>NA                  </td><td>female              </td><td>feminine            </td><td>Kamino              </td><td>Kaminoan            </td><td>Attack of the Clones</td><td>                    </td><td>                    </td></tr>\n",
       "\t<tr><td>Shaak Ti                                  </td><td>178                                       </td><td>57                                        </td><td>none                                      </td><td>red, blue, white                          </td><td>black                                     </td><td>NA                                        </td><td>female                                    </td><td>feminine                                  </td><td>Shili                                     </td><td>Togruta                                   </td><td>Attack of the Clones, Revenge of the Sith </td><td>                                          </td><td>                                          </td></tr>\n",
       "\t<tr><td>Tion Medon         </td><td>206                </td><td>80                 </td><td>none               </td><td>grey               </td><td>black              </td><td>NA                 </td><td>male               </td><td>masculine          </td><td>Utapau             </td><td>Pau'an             </td><td>Revenge of the Sith</td><td>                   </td><td>                   </td></tr>\n",
       "\t<tr><td>BB8              </td><td> NA              </td><td>NA               </td><td>none             </td><td>none             </td><td>black            </td><td>NA               </td><td>none             </td><td>masculine        </td><td>NA               </td><td>Droid            </td><td>The Force Awakens</td><td>                 </td><td>                 </td></tr>\n",
       "</tbody>\n",
       "</table>\n"
      ],
      "text/latex": [
       "\\begin{tabular}{r|llllllllllllll}\n",
       " name & height & mass & hair\\_color & skin\\_color & eye\\_color & birth\\_year & sex & gender & homeworld & species & films & vehicles & starships\\\\\n",
       "\\hline\n",
       "\t Nien Nunb          & 160                & 68                 & none               & grey               & black              & NA                 & male               & masculine          & Sullust            & Sullustan          & Return of the Jedi &                    & Millennium Falcon \\\\\n",
       "\t Gasgano            & 122                & NA                 & none               & white, blue        & black              & NA                 & male               & masculine          & Troiken            & Xexto              & The Phantom Menace &                    &                   \\\\\n",
       "\t Kit Fisto                                                        & 196                                                              & 87                                                               & none                                                             & green                                                            & black                                                            & NA                                                               & male                                                             & masculine                                                        & Glee Anselm                                                      & Nautolan                                                         & Attack of the Clones, The Phantom Menace  , Revenge of the Sith  &                                                                  &                                                                 \\\\\n",
       "\t Plo Koon                                                         & 188                                                              & 80                                                               & none                                                             & orange                                                           & black                                                            & 22                                                               & male                                                             & masculine                                                        & Dorin                                                            & Kel Dor                                                          & Attack of the Clones, The Phantom Menace  , Revenge of the Sith  &                                                                  & Jedi starfighter                                                \\\\\n",
       "\t Lama Su              & 229                  & 88                   & none                 & grey                 & black                & NA                   & male                 & masculine            & Kamino               & Kaminoan             & Attack of the Clones &                      &                     \\\\\n",
       "\t Taun We              & 213                  & NA                   & none                 & grey                 & black                & NA                   & female               & feminine             & Kamino               & Kaminoan             & Attack of the Clones &                      &                     \\\\\n",
       "\t Shaak Ti                                   & 178                                        & 57                                         & none                                       & red, blue, white                           & black                                      & NA                                         & female                                     & feminine                                   & Shili                                      & Togruta                                    & Attack of the Clones, Revenge of the Sith  &                                            &                                           \\\\\n",
       "\t Tion Medon          & 206                 & 80                  & none                & grey                & black               & NA                  & male                & masculine           & Utapau              & Pau'an              & Revenge of the Sith &                     &                    \\\\\n",
       "\t BB8               &  NA               & NA                & none              & none              & black             & NA                & none              & masculine         & NA                & Droid             & The Force Awakens &                   &                  \\\\\n",
       "\\end{tabular}\n"
      ],
      "text/markdown": [
       "\n",
       "| name | height | mass | hair_color | skin_color | eye_color | birth_year | sex | gender | homeworld | species | films | vehicles | starships |\n",
       "|---|---|---|---|---|---|---|---|---|---|---|---|---|---|\n",
       "| Nien Nunb          | 160                | 68                 | none               | grey               | black              | NA                 | male               | masculine          | Sullust            | Sullustan          | Return of the Jedi |                    | Millennium Falcon  |\n",
       "| Gasgano            | 122                | NA                 | none               | white, blue        | black              | NA                 | male               | masculine          | Troiken            | Xexto              | The Phantom Menace |                    |                    |\n",
       "| Kit Fisto                                                        | 196                                                              | 87                                                               | none                                                             | green                                                            | black                                                            | NA                                                               | male                                                             | masculine                                                        | Glee Anselm                                                      | Nautolan                                                         | Attack of the Clones, The Phantom Menace  , Revenge of the Sith  |                                                                  |                                                                  |\n",
       "| Plo Koon                                                         | 188                                                              | 80                                                               | none                                                             | orange                                                           | black                                                            | 22                                                               | male                                                             | masculine                                                        | Dorin                                                            | Kel Dor                                                          | Attack of the Clones, The Phantom Menace  , Revenge of the Sith  |                                                                  | Jedi starfighter                                                 |\n",
       "| Lama Su              | 229                  | 88                   | none                 | grey                 | black                | NA                   | male                 | masculine            | Kamino               | Kaminoan             | Attack of the Clones |                      |                      |\n",
       "| Taun We              | 213                  | NA                   | none                 | grey                 | black                | NA                   | female               | feminine             | Kamino               | Kaminoan             | Attack of the Clones |                      |                      |\n",
       "| Shaak Ti                                   | 178                                        | 57                                         | none                                       | red, blue, white                           | black                                      | NA                                         | female                                     | feminine                                   | Shili                                      | Togruta                                    | Attack of the Clones, Revenge of the Sith  |                                            |                                            |\n",
       "| Tion Medon          | 206                 | 80                  | none                | grey                | black               | NA                  | male                | masculine           | Utapau              | Pau'an              | Revenge of the Sith |                     |                     |\n",
       "| BB8               |  NA               | NA                | none              | none              | black             | NA                | none              | masculine         | NA                | Droid             | The Force Awakens |                   |                   |\n",
       "\n"
      ],
      "text/plain": [
       "  name       height mass hair_color skin_color       eye_color birth_year\n",
       "1 Nien Nunb  160    68   none       grey             black     NA        \n",
       "2 Gasgano    122    NA   none       white, blue      black     NA        \n",
       "3 Kit Fisto  196    87   none       green            black     NA        \n",
       "4 Plo Koon   188    80   none       orange           black     22        \n",
       "5 Lama Su    229    88   none       grey             black     NA        \n",
       "6 Taun We    213    NA   none       grey             black     NA        \n",
       "7 Shaak Ti   178    57   none       red, blue, white black     NA        \n",
       "8 Tion Medon 206    80   none       grey             black     NA        \n",
       "9 BB8         NA    NA   none       none             black     NA        \n",
       "  sex    gender    homeworld   species  \n",
       "1 male   masculine Sullust     Sullustan\n",
       "2 male   masculine Troiken     Xexto    \n",
       "3 male   masculine Glee Anselm Nautolan \n",
       "4 male   masculine Dorin       Kel Dor  \n",
       "5 male   masculine Kamino      Kaminoan \n",
       "6 female feminine  Kamino      Kaminoan \n",
       "7 female feminine  Shili       Togruta  \n",
       "8 male   masculine Utapau      Pau'an   \n",
       "9 none   masculine NA          Droid    \n",
       "  films                                                            vehicles\n",
       "1 Return of the Jedi                                                       \n",
       "2 The Phantom Menace                                                       \n",
       "3 Attack of the Clones, The Phantom Menace  , Revenge of the Sith          \n",
       "4 Attack of the Clones, The Phantom Menace  , Revenge of the Sith          \n",
       "5 Attack of the Clones                                                     \n",
       "6 Attack of the Clones                                                     \n",
       "7 Attack of the Clones, Revenge of the Sith                                \n",
       "8 Revenge of the Sith                                                      \n",
       "9 The Force Awakens                                                        \n",
       "  starships        \n",
       "1 Millennium Falcon\n",
       "2                  \n",
       "3                  \n",
       "4 Jedi starfighter \n",
       "5                  \n",
       "6                  \n",
       "7                  \n",
       "8                  \n",
       "9                  "
      ]
     },
     "metadata": {},
     "output_type": "display_data"
    }
   ],
   "source": [
    "#The above is equivalent to:\n",
    "starwars %>% filter(hair_color == 'none', eye_color == 'black')"
   ]
  },
  {
   "cell_type": "markdown",
   "metadata": {},
   "source": [
    "Group"
   ]
  },
  {
   "cell_type": "code",
   "execution_count": 13,
   "metadata": {},
   "outputs": [
    {
     "data": {
      "text/html": [
       "<table>\n",
       "<thead><tr><th scope=col>name</th><th scope=col>height</th><th scope=col>mass</th><th scope=col>hair_color</th><th scope=col>skin_color</th><th scope=col>eye_color</th><th scope=col>birth_year</th><th scope=col>sex</th><th scope=col>gender</th><th scope=col>homeworld</th><th scope=col>species</th><th scope=col>films</th><th scope=col>vehicles</th><th scope=col>starships</th></tr></thead>\n",
       "<tbody>\n",
       "\t<tr><td>Darth Vader                                                                                       </td><td>202                                                                                               </td><td> 136                                                                                              </td><td>none                                                                                              </td><td>white                                                                                             </td><td>yellow                                                                                            </td><td> 41.9                                                                                             </td><td>male                                                                                              </td><td>masculine                                                                                         </td><td>Tatooine                                                                                          </td><td>Human                                                                                             </td><td>The Empire Strikes Back, Revenge of the Sith    , Return of the Jedi     , A New Hope             </td><td>                                                                                                  </td><td>TIE Advanced x1                                                                                   </td></tr>\n",
       "\t<tr><td>Owen Lars                                                       </td><td>178                                                             </td><td> 120                                                            </td><td>brown, grey                                                     </td><td>light                                                           </td><td>blue                                                            </td><td> 52.0                                                           </td><td>male                                                            </td><td>masculine                                                       </td><td>Tatooine                                                        </td><td>Human                                                           </td><td>Attack of the Clones, Revenge of the Sith , A New Hope          </td><td>                                                                </td><td>                                                                </td></tr>\n",
       "\t<tr><td>Chewbacca                                                                                                                  </td><td>228                                                                                                                        </td><td> 112                                                                                                                       </td><td>brown                                                                                                                      </td><td>unknown                                                                                                                    </td><td>blue                                                                                                                       </td><td>200.0                                                                                                                      </td><td>male                                                                                                                       </td><td>masculine                                                                                                                  </td><td>Kashyyyk                                                                                                                   </td><td>Wookiee                                                                                                                    </td><td>The Empire Strikes Back, Revenge of the Sith    , Return of the Jedi     , A New Hope             , The Force Awakens      </td><td>AT-ST                                                                                                                      </td><td>Millennium Falcon, Imperial shuttle                                                                                        </td></tr>\n",
       "\t<tr><td>Jabba Desilijic Tiure                                     </td><td>175                                                       </td><td>1358                                                      </td><td>NA                                                        </td><td>green-tan, brown                                          </td><td>orange                                                    </td><td>600.0                                                     </td><td>hermaphroditic                                            </td><td>masculine                                                 </td><td>Nal Hutta                                                 </td><td>Hutt                                                      </td><td>The Phantom Menace, Return of the Jedi, A New Hope        </td><td>                                                          </td><td>                                                          </td></tr>\n",
       "\t<tr><td>Jek Tono Porkins     </td><td>180                  </td><td> 110                 </td><td>brown                </td><td>fair                 </td><td>blue                 </td><td>   NA                </td><td>male                 </td><td>masculine            </td><td>Bestine IV           </td><td>Human                </td><td>A New Hope           </td><td>                     </td><td>X-wing               </td></tr>\n",
       "\t<tr><td>IG-88                  </td><td>200                    </td><td> 140                   </td><td>none                   </td><td>metal                  </td><td>red                    </td><td> 15.0                  </td><td>none                   </td><td>masculine              </td><td>NA                     </td><td>Droid                  </td><td>The Empire Strikes Back</td><td>                       </td><td>                       </td></tr>\n",
       "\t<tr><td>Bossk                  </td><td>190                    </td><td> 113                   </td><td>none                   </td><td>green                  </td><td>red                    </td><td> 53.0                  </td><td>male                   </td><td>masculine              </td><td>Trandosha              </td><td>Trandoshan             </td><td>The Empire Strikes Back</td><td>                       </td><td>                       </td></tr>\n",
       "\t<tr><td>Dexter Jettster      </td><td>198                  </td><td> 102                 </td><td>none                 </td><td>brown                </td><td>yellow               </td><td>   NA                </td><td>male                 </td><td>masculine            </td><td>Ojom                 </td><td>Besalisk             </td><td>Attack of the Clones </td><td>                     </td><td>                     </td></tr>\n",
       "\t<tr><td>Grievous                   </td><td>216                        </td><td> 159                       </td><td>none                       </td><td>brown, white               </td><td>green, yellow              </td><td>   NA                      </td><td>male                       </td><td>masculine                  </td><td>Kalee                      </td><td>Kaleesh                    </td><td>Revenge of the Sith        </td><td>Tsmeu-6 personal wheel bike</td><td>Belbullab-22 starfighter   </td></tr>\n",
       "\t<tr><td>Tarfful              </td><td>234                  </td><td> 136                 </td><td>brown                </td><td>brown                </td><td>blue                 </td><td>   NA                </td><td>male                 </td><td>masculine            </td><td>Kashyyyk             </td><td>Wookiee              </td><td>Revenge of the Sith  </td><td>                     </td><td>                     </td></tr>\n",
       "</tbody>\n",
       "</table>\n"
      ],
      "text/latex": [
       "\\begin{tabular}{r|llllllllllllll}\n",
       " name & height & mass & hair\\_color & skin\\_color & eye\\_color & birth\\_year & sex & gender & homeworld & species & films & vehicles & starships\\\\\n",
       "\\hline\n",
       "\t Darth Vader                                                                                        & 202                                                                                                &  136                                                                                               & none                                                                                               & white                                                                                              & yellow                                                                                             &  41.9                                                                                              & male                                                                                               & masculine                                                                                          & Tatooine                                                                                           & Human                                                                                              & The Empire Strikes Back, Revenge of the Sith    , Return of the Jedi     , A New Hope              &                                                                                                    & TIE Advanced x1                                                                                   \\\\\n",
       "\t Owen Lars                                                        & 178                                                              &  120                                                             & brown, grey                                                      & light                                                            & blue                                                             &  52.0                                                            & male                                                             & masculine                                                        & Tatooine                                                         & Human                                                            & Attack of the Clones, Revenge of the Sith , A New Hope           &                                                                  &                                                                 \\\\\n",
       "\t Chewbacca                                                                                                                   & 228                                                                                                                         &  112                                                                                                                        & brown                                                                                                                       & unknown                                                                                                                     & blue                                                                                                                        & 200.0                                                                                                                       & male                                                                                                                        & masculine                                                                                                                   & Kashyyyk                                                                                                                    & Wookiee                                                                                                                     & The Empire Strikes Back, Revenge of the Sith    , Return of the Jedi     , A New Hope             , The Force Awakens       & AT-ST                                                                                                                       & Millennium Falcon, Imperial shuttle                                                                                        \\\\\n",
       "\t Jabba Desilijic Tiure                                      & 175                                                        & 1358                                                       & NA                                                         & green-tan, brown                                           & orange                                                     & 600.0                                                      & hermaphroditic                                             & masculine                                                  & Nal Hutta                                                  & Hutt                                                       & The Phantom Menace, Return of the Jedi, A New Hope         &                                                            &                                                           \\\\\n",
       "\t Jek Tono Porkins      & 180                   &  110                  & brown                 & fair                  & blue                  &    NA                 & male                  & masculine             & Bestine IV            & Human                 & A New Hope            &                       & X-wing               \\\\\n",
       "\t IG-88                   & 200                     &  140                    & none                    & metal                   & red                     &  15.0                   & none                    & masculine               & NA                      & Droid                   & The Empire Strikes Back &                         &                        \\\\\n",
       "\t Bossk                   & 190                     &  113                    & none                    & green                   & red                     &  53.0                   & male                    & masculine               & Trandosha               & Trandoshan              & The Empire Strikes Back &                         &                        \\\\\n",
       "\t Dexter Jettster       & 198                   &  102                  & none                  & brown                 & yellow                &    NA                 & male                  & masculine             & Ojom                  & Besalisk              & Attack of the Clones  &                       &                      \\\\\n",
       "\t Grievous                    & 216                         &  159                        & none                        & brown, white                & green, yellow               &    NA                       & male                        & masculine                   & Kalee                       & Kaleesh                     & Revenge of the Sith         & Tsmeu-6 personal wheel bike & Belbullab-22 starfighter   \\\\\n",
       "\t Tarfful               & 234                   &  136                  & brown                 & brown                 & blue                  &    NA                 & male                  & masculine             & Kashyyyk              & Wookiee               & Revenge of the Sith   &                       &                      \\\\\n",
       "\\end{tabular}\n"
      ],
      "text/markdown": [
       "\n",
       "| name | height | mass | hair_color | skin_color | eye_color | birth_year | sex | gender | homeworld | species | films | vehicles | starships |\n",
       "|---|---|---|---|---|---|---|---|---|---|---|---|---|---|\n",
       "| Darth Vader                                                                                        | 202                                                                                                |  136                                                                                               | none                                                                                               | white                                                                                              | yellow                                                                                             |  41.9                                                                                              | male                                                                                               | masculine                                                                                          | Tatooine                                                                                           | Human                                                                                              | The Empire Strikes Back, Revenge of the Sith    , Return of the Jedi     , A New Hope              |                                                                                                    | TIE Advanced x1                                                                                    |\n",
       "| Owen Lars                                                        | 178                                                              |  120                                                             | brown, grey                                                      | light                                                            | blue                                                             |  52.0                                                            | male                                                             | masculine                                                        | Tatooine                                                         | Human                                                            | Attack of the Clones, Revenge of the Sith , A New Hope           |                                                                  |                                                                  |\n",
       "| Chewbacca                                                                                                                   | 228                                                                                                                         |  112                                                                                                                        | brown                                                                                                                       | unknown                                                                                                                     | blue                                                                                                                        | 200.0                                                                                                                       | male                                                                                                                        | masculine                                                                                                                   | Kashyyyk                                                                                                                    | Wookiee                                                                                                                     | The Empire Strikes Back, Revenge of the Sith    , Return of the Jedi     , A New Hope             , The Force Awakens       | AT-ST                                                                                                                       | Millennium Falcon, Imperial shuttle                                                                                         |\n",
       "| Jabba Desilijic Tiure                                      | 175                                                        | 1358                                                       | NA                                                         | green-tan, brown                                           | orange                                                     | 600.0                                                      | hermaphroditic                                             | masculine                                                  | Nal Hutta                                                  | Hutt                                                       | The Phantom Menace, Return of the Jedi, A New Hope         |                                                            |                                                            |\n",
       "| Jek Tono Porkins      | 180                   |  110                  | brown                 | fair                  | blue                  |    NA                 | male                  | masculine             | Bestine IV            | Human                 | A New Hope            |                       | X-wing                |\n",
       "| IG-88                   | 200                     |  140                    | none                    | metal                   | red                     |  15.0                   | none                    | masculine               | NA                      | Droid                   | The Empire Strikes Back |                         |                         |\n",
       "| Bossk                   | 190                     |  113                    | none                    | green                   | red                     |  53.0                   | male                    | masculine               | Trandosha               | Trandoshan              | The Empire Strikes Back |                         |                         |\n",
       "| Dexter Jettster       | 198                   |  102                  | none                  | brown                 | yellow                |    NA                 | male                  | masculine             | Ojom                  | Besalisk              | Attack of the Clones  |                       |                       |\n",
       "| Grievous                    | 216                         |  159                        | none                        | brown, white                | green, yellow               |    NA                       | male                        | masculine                   | Kalee                       | Kaleesh                     | Revenge of the Sith         | Tsmeu-6 personal wheel bike | Belbullab-22 starfighter    |\n",
       "| Tarfful               | 234                   |  136                  | brown                 | brown                 | blue                  |    NA                 | male                  | masculine             | Kashyyyk              | Wookiee               | Revenge of the Sith   |                       |                       |\n",
       "\n"
      ],
      "text/plain": [
       "   name                  height mass hair_color  skin_color       eye_color    \n",
       "1  Darth Vader           202     136 none        white            yellow       \n",
       "2  Owen Lars             178     120 brown, grey light            blue         \n",
       "3  Chewbacca             228     112 brown       unknown          blue         \n",
       "4  Jabba Desilijic Tiure 175    1358 NA          green-tan, brown orange       \n",
       "5  Jek Tono Porkins      180     110 brown       fair             blue         \n",
       "6  IG-88                 200     140 none        metal            red          \n",
       "7  Bossk                 190     113 none        green            red          \n",
       "8  Dexter Jettster       198     102 none        brown            yellow       \n",
       "9  Grievous              216     159 none        brown, white     green, yellow\n",
       "10 Tarfful               234     136 brown       brown            blue         \n",
       "   birth_year sex            gender    homeworld  species   \n",
       "1   41.9      male           masculine Tatooine   Human     \n",
       "2   52.0      male           masculine Tatooine   Human     \n",
       "3  200.0      male           masculine Kashyyyk   Wookiee   \n",
       "4  600.0      hermaphroditic masculine Nal Hutta  Hutt      \n",
       "5     NA      male           masculine Bestine IV Human     \n",
       "6   15.0      none           masculine NA         Droid     \n",
       "7   53.0      male           masculine Trandosha  Trandoshan\n",
       "8     NA      male           masculine Ojom       Besalisk  \n",
       "9     NA      male           masculine Kalee      Kaleesh   \n",
       "10    NA      male           masculine Kashyyyk   Wookiee   \n",
       "   films                                                                                                                      \n",
       "1  The Empire Strikes Back, Revenge of the Sith    , Return of the Jedi     , A New Hope                                      \n",
       "2  Attack of the Clones, Revenge of the Sith , A New Hope                                                                     \n",
       "3  The Empire Strikes Back, Revenge of the Sith    , Return of the Jedi     , A New Hope             , The Force Awakens      \n",
       "4  The Phantom Menace, Return of the Jedi, A New Hope                                                                         \n",
       "5  A New Hope                                                                                                                 \n",
       "6  The Empire Strikes Back                                                                                                    \n",
       "7  The Empire Strikes Back                                                                                                    \n",
       "8  Attack of the Clones                                                                                                       \n",
       "9  Revenge of the Sith                                                                                                        \n",
       "10 Revenge of the Sith                                                                                                        \n",
       "   vehicles                    starships                           \n",
       "1                              TIE Advanced x1                     \n",
       "2                                                                  \n",
       "3  AT-ST                       Millennium Falcon, Imperial shuttle \n",
       "4                                                                  \n",
       "5                              X-wing                              \n",
       "6                                                                  \n",
       "7                                                                  \n",
       "8                                                                  \n",
       "9  Tsmeu-6 personal wheel bike Belbullab-22 starfighter            \n",
       "10                                                                 "
      ]
     },
     "metadata": {},
     "output_type": "display_data"
    }
   ],
   "source": [
    "# The filtering operation may yield different results on grouped\n",
    "# tibbles because the expressions are computed within groups.\n",
    "# The following filters rows where `mass` is greater than the global average:\n",
    "starwars %>% filter(mass > mean(mass, na.rm = TRUE))"
   ]
  },
  {
   "cell_type": "code",
   "execution_count": 15,
   "metadata": {},
   "outputs": [
    {
     "data": {
      "text/html": [
       "<table>\n",
       "<thead><tr><th scope=col>name</th><th scope=col>height</th><th scope=col>mass</th><th scope=col>hair_color</th><th scope=col>skin_color</th><th scope=col>eye_color</th><th scope=col>birth_year</th><th scope=col>sex</th><th scope=col>gender</th><th scope=col>homeworld</th><th scope=col>species</th><th scope=col>films</th><th scope=col>vehicles</th><th scope=col>starships</th></tr></thead>\n",
       "<tbody>\n",
       "\t<tr><td>Darth Vader                                                                                       </td><td>202                                                                                               </td><td> 136.0                                                                                            </td><td>none                                                                                              </td><td>white                                                                                             </td><td>yellow                                                                                            </td><td> 41.9                                                                                             </td><td>male                                                                                              </td><td>masculine                                                                                         </td><td>Tatooine                                                                                          </td><td>Human                                                                                             </td><td>The Empire Strikes Back, Revenge of the Sith    , Return of the Jedi     , A New Hope             </td><td>                                                                                                  </td><td>TIE Advanced x1                                                                                   </td></tr>\n",
       "\t<tr><td>Owen Lars                                                       </td><td>178                                                             </td><td> 120.0                                                          </td><td>brown, grey                                                     </td><td>light                                                           </td><td>blue                                                            </td><td> 52.0                                                           </td><td>male                                                            </td><td>masculine                                                       </td><td>Tatooine                                                        </td><td>Human                                                           </td><td>Attack of the Clones, Revenge of the Sith , A New Hope          </td><td>                                                                </td><td>                                                                </td></tr>\n",
       "\t<tr><td>Beru Whitesun lars                                              </td><td>165                                                             </td><td>  75.0                                                          </td><td>brown                                                           </td><td>light                                                           </td><td>blue                                                            </td><td> 47.0                                                           </td><td>female                                                          </td><td>feminine                                                        </td><td>Tatooine                                                        </td><td>Human                                                           </td><td>Attack of the Clones, Revenge of the Sith , A New Hope          </td><td>                                                                </td><td>                                                                </td></tr>\n",
       "\t<tr><td>Chewbacca                                                                                                                  </td><td>228                                                                                                                        </td><td> 112.0                                                                                                                     </td><td>brown                                                                                                                      </td><td>unknown                                                                                                                    </td><td>blue                                                                                                                       </td><td>200.0                                                                                                                      </td><td>male                                                                                                                       </td><td>masculine                                                                                                                  </td><td>Kashyyyk                                                                                                                   </td><td>Wookiee                                                                                                                    </td><td>The Empire Strikes Back, Revenge of the Sith    , Return of the Jedi     , A New Hope             , The Force Awakens      </td><td>AT-ST                                                                                                                      </td><td>Millennium Falcon, Imperial shuttle                                                                                        </td></tr>\n",
       "\t<tr><td>Jabba Desilijic Tiure                                     </td><td>175                                                       </td><td>1358.0                                                    </td><td>NA                                                        </td><td>green-tan, brown                                          </td><td>orange                                                    </td><td>600.0                                                     </td><td>hermaphroditic                                            </td><td>masculine                                                 </td><td>Nal Hutta                                                 </td><td>Hutt                                                      </td><td>The Phantom Menace, Return of the Jedi, A New Hope        </td><td>                                                          </td><td>                                                          </td></tr>\n",
       "\t<tr><td>Jek Tono Porkins     </td><td>180                  </td><td> 110.0               </td><td>brown                </td><td>fair                 </td><td>blue                 </td><td>   NA                </td><td>male                 </td><td>masculine            </td><td>Bestine IV           </td><td>Human                </td><td>A New Hope           </td><td>                     </td><td>X-wing               </td></tr>\n",
       "\t<tr><td>IG-88                  </td><td>200                    </td><td> 140.0                 </td><td>none                   </td><td>metal                  </td><td>red                    </td><td> 15.0                  </td><td>none                   </td><td>masculine              </td><td>NA                     </td><td>Droid                  </td><td>The Empire Strikes Back</td><td>                       </td><td>                       </td></tr>\n",
       "\t<tr><td>Bossk                  </td><td>190                    </td><td> 113.0                 </td><td>none                   </td><td>green                  </td><td>red                    </td><td> 53.0                  </td><td>male                   </td><td>masculine              </td><td>Trandosha              </td><td>Trandoshan             </td><td>The Empire Strikes Back</td><td>                       </td><td>                       </td></tr>\n",
       "\t<tr><td>Ayla Secura                                                     </td><td>178                                                             </td><td>  55.0                                                          </td><td>none                                                            </td><td>blue                                                            </td><td>hazel                                                           </td><td> 48.0                                                           </td><td>female                                                          </td><td>feminine                                                        </td><td>Ryloth                                                          </td><td>Twi'lek                                                         </td><td>Attack of the Clones, The Phantom Menace  , Revenge of the Sith </td><td>                                                                </td><td>                                                                </td></tr>\n",
       "\t<tr><td>Luminara Unduli                           </td><td>170                                       </td><td>  56.2                                    </td><td>black                                     </td><td>yellow                                    </td><td>blue                                      </td><td> 58.0                                     </td><td>female                                    </td><td>feminine                                  </td><td>Mirial                                    </td><td>Mirialan                                  </td><td>Attack of the Clones, Revenge of the Sith </td><td>                                          </td><td>                                          </td></tr>\n",
       "\t<tr><td>Zam Wesell                </td><td>168                       </td><td>  55.0                    </td><td>blonde                    </td><td>fair, green, yellow       </td><td>yellow                    </td><td>   NA                     </td><td>female                    </td><td>feminine                  </td><td>Zolan                     </td><td>Clawdite                  </td><td>Attack of the Clones      </td><td>Koro-2 Exodrive airspeeder</td><td>                          </td></tr>\n",
       "\t<tr><td>Shaak Ti                                  </td><td>178                                       </td><td>  57.0                                    </td><td>none                                      </td><td>red, blue, white                          </td><td>black                                     </td><td>   NA                                     </td><td>female                                    </td><td>feminine                                  </td><td>Shili                                     </td><td>Togruta                                   </td><td>Attack of the Clones, Revenge of the Sith </td><td>                                          </td><td>                                          </td></tr>\n",
       "\t<tr><td>Grievous                   </td><td>216                        </td><td> 159.0                     </td><td>none                       </td><td>brown, white               </td><td>green, yellow              </td><td>   NA                      </td><td>male                       </td><td>masculine                  </td><td>Kalee                      </td><td>Kaleesh                    </td><td>Revenge of the Sith        </td><td>Tsmeu-6 personal wheel bike</td><td>Belbullab-22 starfighter   </td></tr>\n",
       "\t<tr><td>Tarfful              </td><td>234                  </td><td> 136.0               </td><td>brown                </td><td>brown                </td><td>blue                 </td><td>   NA                </td><td>male                 </td><td>masculine            </td><td>Kashyyyk             </td><td>Wookiee              </td><td>Revenge of the Sith  </td><td>                     </td><td>                     </td></tr>\n",
       "</tbody>\n",
       "</table>\n"
      ],
      "text/latex": [
       "\\begin{tabular}{r|llllllllllllll}\n",
       " name & height & mass & hair\\_color & skin\\_color & eye\\_color & birth\\_year & sex & gender & homeworld & species & films & vehicles & starships\\\\\n",
       "\\hline\n",
       "\t Darth Vader                                                                                        & 202                                                                                                &  136.0                                                                                             & none                                                                                               & white                                                                                              & yellow                                                                                             &  41.9                                                                                              & male                                                                                               & masculine                                                                                          & Tatooine                                                                                           & Human                                                                                              & The Empire Strikes Back, Revenge of the Sith    , Return of the Jedi     , A New Hope              &                                                                                                    & TIE Advanced x1                                                                                   \\\\\n",
       "\t Owen Lars                                                        & 178                                                              &  120.0                                                           & brown, grey                                                      & light                                                            & blue                                                             &  52.0                                                            & male                                                             & masculine                                                        & Tatooine                                                         & Human                                                            & Attack of the Clones, Revenge of the Sith , A New Hope           &                                                                  &                                                                 \\\\\n",
       "\t Beru Whitesun lars                                               & 165                                                              &   75.0                                                           & brown                                                            & light                                                            & blue                                                             &  47.0                                                            & female                                                           & feminine                                                         & Tatooine                                                         & Human                                                            & Attack of the Clones, Revenge of the Sith , A New Hope           &                                                                  &                                                                 \\\\\n",
       "\t Chewbacca                                                                                                                   & 228                                                                                                                         &  112.0                                                                                                                      & brown                                                                                                                       & unknown                                                                                                                     & blue                                                                                                                        & 200.0                                                                                                                       & male                                                                                                                        & masculine                                                                                                                   & Kashyyyk                                                                                                                    & Wookiee                                                                                                                     & The Empire Strikes Back, Revenge of the Sith    , Return of the Jedi     , A New Hope             , The Force Awakens       & AT-ST                                                                                                                       & Millennium Falcon, Imperial shuttle                                                                                        \\\\\n",
       "\t Jabba Desilijic Tiure                                      & 175                                                        & 1358.0                                                     & NA                                                         & green-tan, brown                                           & orange                                                     & 600.0                                                      & hermaphroditic                                             & masculine                                                  & Nal Hutta                                                  & Hutt                                                       & The Phantom Menace, Return of the Jedi, A New Hope         &                                                            &                                                           \\\\\n",
       "\t Jek Tono Porkins      & 180                   &  110.0                & brown                 & fair                  & blue                  &    NA                 & male                  & masculine             & Bestine IV            & Human                 & A New Hope            &                       & X-wing               \\\\\n",
       "\t IG-88                   & 200                     &  140.0                  & none                    & metal                   & red                     &  15.0                   & none                    & masculine               & NA                      & Droid                   & The Empire Strikes Back &                         &                        \\\\\n",
       "\t Bossk                   & 190                     &  113.0                  & none                    & green                   & red                     &  53.0                   & male                    & masculine               & Trandosha               & Trandoshan              & The Empire Strikes Back &                         &                        \\\\\n",
       "\t Ayla Secura                                                      & 178                                                              &   55.0                                                           & none                                                             & blue                                                             & hazel                                                            &  48.0                                                            & female                                                           & feminine                                                         & Ryloth                                                           & Twi'lek                                                          & Attack of the Clones, The Phantom Menace  , Revenge of the Sith  &                                                                  &                                                                 \\\\\n",
       "\t Luminara Unduli                            & 170                                        &   56.2                                     & black                                      & yellow                                     & blue                                       &  58.0                                      & female                                     & feminine                                   & Mirial                                     & Mirialan                                   & Attack of the Clones, Revenge of the Sith  &                                            &                                           \\\\\n",
       "\t Zam Wesell                 & 168                        &   55.0                     & blonde                     & fair, green, yellow        & yellow                     &    NA                      & female                     & feminine                   & Zolan                      & Clawdite                   & Attack of the Clones       & Koro-2 Exodrive airspeeder &                           \\\\\n",
       "\t Shaak Ti                                   & 178                                        &   57.0                                     & none                                       & red, blue, white                           & black                                      &    NA                                      & female                                     & feminine                                   & Shili                                      & Togruta                                    & Attack of the Clones, Revenge of the Sith  &                                            &                                           \\\\\n",
       "\t Grievous                    & 216                         &  159.0                      & none                        & brown, white                & green, yellow               &    NA                       & male                        & masculine                   & Kalee                       & Kaleesh                     & Revenge of the Sith         & Tsmeu-6 personal wheel bike & Belbullab-22 starfighter   \\\\\n",
       "\t Tarfful               & 234                   &  136.0                & brown                 & brown                 & blue                  &    NA                 & male                  & masculine             & Kashyyyk              & Wookiee               & Revenge of the Sith   &                       &                      \\\\\n",
       "\\end{tabular}\n"
      ],
      "text/markdown": [
       "\n",
       "| name | height | mass | hair_color | skin_color | eye_color | birth_year | sex | gender | homeworld | species | films | vehicles | starships |\n",
       "|---|---|---|---|---|---|---|---|---|---|---|---|---|---|\n",
       "| Darth Vader                                                                                        | 202                                                                                                |  136.0                                                                                             | none                                                                                               | white                                                                                              | yellow                                                                                             |  41.9                                                                                              | male                                                                                               | masculine                                                                                          | Tatooine                                                                                           | Human                                                                                              | The Empire Strikes Back, Revenge of the Sith    , Return of the Jedi     , A New Hope              |                                                                                                    | TIE Advanced x1                                                                                    |\n",
       "| Owen Lars                                                        | 178                                                              |  120.0                                                           | brown, grey                                                      | light                                                            | blue                                                             |  52.0                                                            | male                                                             | masculine                                                        | Tatooine                                                         | Human                                                            | Attack of the Clones, Revenge of the Sith , A New Hope           |                                                                  |                                                                  |\n",
       "| Beru Whitesun lars                                               | 165                                                              |   75.0                                                           | brown                                                            | light                                                            | blue                                                             |  47.0                                                            | female                                                           | feminine                                                         | Tatooine                                                         | Human                                                            | Attack of the Clones, Revenge of the Sith , A New Hope           |                                                                  |                                                                  |\n",
       "| Chewbacca                                                                                                                   | 228                                                                                                                         |  112.0                                                                                                                      | brown                                                                                                                       | unknown                                                                                                                     | blue                                                                                                                        | 200.0                                                                                                                       | male                                                                                                                        | masculine                                                                                                                   | Kashyyyk                                                                                                                    | Wookiee                                                                                                                     | The Empire Strikes Back, Revenge of the Sith    , Return of the Jedi     , A New Hope             , The Force Awakens       | AT-ST                                                                                                                       | Millennium Falcon, Imperial shuttle                                                                                         |\n",
       "| Jabba Desilijic Tiure                                      | 175                                                        | 1358.0                                                     | NA                                                         | green-tan, brown                                           | orange                                                     | 600.0                                                      | hermaphroditic                                             | masculine                                                  | Nal Hutta                                                  | Hutt                                                       | The Phantom Menace, Return of the Jedi, A New Hope         |                                                            |                                                            |\n",
       "| Jek Tono Porkins      | 180                   |  110.0                | brown                 | fair                  | blue                  |    NA                 | male                  | masculine             | Bestine IV            | Human                 | A New Hope            |                       | X-wing                |\n",
       "| IG-88                   | 200                     |  140.0                  | none                    | metal                   | red                     |  15.0                   | none                    | masculine               | NA                      | Droid                   | The Empire Strikes Back |                         |                         |\n",
       "| Bossk                   | 190                     |  113.0                  | none                    | green                   | red                     |  53.0                   | male                    | masculine               | Trandosha               | Trandoshan              | The Empire Strikes Back |                         |                         |\n",
       "| Ayla Secura                                                      | 178                                                              |   55.0                                                           | none                                                             | blue                                                             | hazel                                                            |  48.0                                                            | female                                                           | feminine                                                         | Ryloth                                                           | Twi'lek                                                          | Attack of the Clones, The Phantom Menace  , Revenge of the Sith  |                                                                  |                                                                  |\n",
       "| Luminara Unduli                            | 170                                        |   56.2                                     | black                                      | yellow                                     | blue                                       |  58.0                                      | female                                     | feminine                                   | Mirial                                     | Mirialan                                   | Attack of the Clones, Revenge of the Sith  |                                            |                                            |\n",
       "| Zam Wesell                 | 168                        |   55.0                     | blonde                     | fair, green, yellow        | yellow                     |    NA                      | female                     | feminine                   | Zolan                      | Clawdite                   | Attack of the Clones       | Koro-2 Exodrive airspeeder |                            |\n",
       "| Shaak Ti                                   | 178                                        |   57.0                                     | none                                       | red, blue, white                           | black                                      |    NA                                      | female                                     | feminine                                   | Shili                                      | Togruta                                    | Attack of the Clones, Revenge of the Sith  |                                            |                                            |\n",
       "| Grievous                    | 216                         |  159.0                      | none                        | brown, white                | green, yellow               |    NA                       | male                        | masculine                   | Kalee                       | Kaleesh                     | Revenge of the Sith         | Tsmeu-6 personal wheel bike | Belbullab-22 starfighter    |\n",
       "| Tarfful               | 234                   |  136.0                | brown                 | brown                 | blue                  |    NA                 | male                  | masculine             | Kashyyyk              | Wookiee               | Revenge of the Sith   |                       |                       |\n",
       "\n"
      ],
      "text/plain": [
       "   name                  height mass   hair_color  skin_color         \n",
       "1  Darth Vader           202     136.0 none        white              \n",
       "2  Owen Lars             178     120.0 brown, grey light              \n",
       "3  Beru Whitesun lars    165      75.0 brown       light              \n",
       "4  Chewbacca             228     112.0 brown       unknown            \n",
       "5  Jabba Desilijic Tiure 175    1358.0 NA          green-tan, brown   \n",
       "6  Jek Tono Porkins      180     110.0 brown       fair               \n",
       "7  IG-88                 200     140.0 none        metal              \n",
       "8  Bossk                 190     113.0 none        green              \n",
       "9  Ayla Secura           178      55.0 none        blue               \n",
       "10 Luminara Unduli       170      56.2 black       yellow             \n",
       "11 Zam Wesell            168      55.0 blonde      fair, green, yellow\n",
       "12 Shaak Ti              178      57.0 none        red, blue, white   \n",
       "13 Grievous              216     159.0 none        brown, white       \n",
       "14 Tarfful               234     136.0 brown       brown              \n",
       "   eye_color     birth_year sex            gender    homeworld  species   \n",
       "1  yellow         41.9      male           masculine Tatooine   Human     \n",
       "2  blue           52.0      male           masculine Tatooine   Human     \n",
       "3  blue           47.0      female         feminine  Tatooine   Human     \n",
       "4  blue          200.0      male           masculine Kashyyyk   Wookiee   \n",
       "5  orange        600.0      hermaphroditic masculine Nal Hutta  Hutt      \n",
       "6  blue             NA      male           masculine Bestine IV Human     \n",
       "7  red            15.0      none           masculine NA         Droid     \n",
       "8  red            53.0      male           masculine Trandosha  Trandoshan\n",
       "9  hazel          48.0      female         feminine  Ryloth     Twi'lek   \n",
       "10 blue           58.0      female         feminine  Mirial     Mirialan  \n",
       "11 yellow           NA      female         feminine  Zolan      Clawdite  \n",
       "12 black            NA      female         feminine  Shili      Togruta   \n",
       "13 green, yellow    NA      male           masculine Kalee      Kaleesh   \n",
       "14 blue             NA      male           masculine Kashyyyk   Wookiee   \n",
       "   films                                                                                                                      \n",
       "1  The Empire Strikes Back, Revenge of the Sith    , Return of the Jedi     , A New Hope                                      \n",
       "2  Attack of the Clones, Revenge of the Sith , A New Hope                                                                     \n",
       "3  Attack of the Clones, Revenge of the Sith , A New Hope                                                                     \n",
       "4  The Empire Strikes Back, Revenge of the Sith    , Return of the Jedi     , A New Hope             , The Force Awakens      \n",
       "5  The Phantom Menace, Return of the Jedi, A New Hope                                                                         \n",
       "6  A New Hope                                                                                                                 \n",
       "7  The Empire Strikes Back                                                                                                    \n",
       "8  The Empire Strikes Back                                                                                                    \n",
       "9  Attack of the Clones, The Phantom Menace  , Revenge of the Sith                                                            \n",
       "10 Attack of the Clones, Revenge of the Sith                                                                                  \n",
       "11 Attack of the Clones                                                                                                       \n",
       "12 Attack of the Clones, Revenge of the Sith                                                                                  \n",
       "13 Revenge of the Sith                                                                                                        \n",
       "14 Revenge of the Sith                                                                                                        \n",
       "   vehicles                    starships                           \n",
       "1                              TIE Advanced x1                     \n",
       "2                                                                  \n",
       "3                                                                  \n",
       "4  AT-ST                       Millennium Falcon, Imperial shuttle \n",
       "5                                                                  \n",
       "6                              X-wing                              \n",
       "7                                                                  \n",
       "8                                                                  \n",
       "9                                                                  \n",
       "10                                                                 \n",
       "11 Koro-2 Exodrive airspeeder                                      \n",
       "12                                                                 \n",
       "13 Tsmeu-6 personal wheel bike Belbullab-22 starfighter            \n",
       "14                                                                 "
      ]
     },
     "metadata": {},
     "output_type": "display_data"
    }
   ],
   "source": [
    "# Whereas this keeps rows with `mass` greater than the gender average:\n",
    "#For Male, select Male observations having mass > average mass of male\n",
    "#For Female, select Female observations having mass > average mass of female\n",
    "starwars %>% group_by(gender) %>% filter(mass > mean(mass, na.rm = TRUE))"
   ]
  },
  {
   "cell_type": "markdown",
   "metadata": {},
   "source": [
    "To refer to column names that are stored as strings, use the `.data` pronoun"
   ]
  },
  {
   "cell_type": "code",
   "execution_count": 16,
   "metadata": {},
   "outputs": [
    {
     "data": {
      "text/html": [
       "<table>\n",
       "<thead><tr><th scope=col>name</th><th scope=col>height</th><th scope=col>mass</th><th scope=col>hair_color</th><th scope=col>skin_color</th><th scope=col>eye_color</th><th scope=col>birth_year</th><th scope=col>sex</th><th scope=col>gender</th><th scope=col>homeworld</th><th scope=col>species</th><th scope=col>films</th><th scope=col>vehicles</th><th scope=col>starships</th></tr></thead>\n",
       "<tbody>\n",
       "\t<tr><td>C-3PO                                                                                                                                               </td><td>167                                                                                                                                                 </td><td> 75                                                                                                                                                 </td><td>NA                                                                                                                                                  </td><td>gold                                                                                                                                                </td><td>yellow                                                                                                                                              </td><td>112.0                                                                                                                                               </td><td>none                                                                                                                                                </td><td>masculine                                                                                                                                           </td><td>Tatooine                                                                                                                                            </td><td>Droid                                                                                                                                               </td><td>The Empire Strikes Back, Attack of the Clones   , The Phantom Menace     , Revenge of the Sith    , Return of the Jedi     , A New Hope             </td><td>                                                                                                                                                    </td><td>                                                                                                                                                    </td></tr>\n",
       "\t<tr><td>Darth Vader                                                                                       </td><td>202                                                                                               </td><td>136                                                                                               </td><td>none                                                                                              </td><td>white                                                                                             </td><td>yellow                                                                                            </td><td> 41.9                                                                                             </td><td>male                                                                                              </td><td>masculine                                                                                         </td><td>Tatooine                                                                                          </td><td>Human                                                                                             </td><td>The Empire Strikes Back, Revenge of the Sith    , Return of the Jedi     , A New Hope             </td><td>                                                                                                  </td><td>TIE Advanced x1                                                                                   </td></tr>\n",
       "\t<tr><td>Palpatine                                                                                                                  </td><td>170                                                                                                                        </td><td> 75                                                                                                                        </td><td>grey                                                                                                                       </td><td>pale                                                                                                                       </td><td>yellow                                                                                                                     </td><td> 82.0                                                                                                                      </td><td>male                                                                                                                       </td><td>masculine                                                                                                                  </td><td>Naboo                                                                                                                      </td><td>Human                                                                                                                      </td><td>The Empire Strikes Back, Attack of the Clones   , The Phantom Menace     , Revenge of the Sith    , Return of the Jedi     </td><td>                                                                                                                           </td><td>                                                                                                                           </td></tr>\n",
       "\t<tr><td>Watto                                     </td><td>137                                       </td><td> NA                                       </td><td>black                                     </td><td>blue, grey                                </td><td>yellow                                    </td><td>   NA                                     </td><td>male                                      </td><td>masculine                                 </td><td>Toydaria                                  </td><td>Toydarian                                 </td><td>Attack of the Clones, The Phantom Menace  </td><td>                                          </td><td>                                          </td></tr>\n",
       "\t<tr><td>Darth Maul         </td><td>175                </td><td> 80                </td><td>none               </td><td>red                </td><td>yellow             </td><td> 54.0              </td><td>male               </td><td>masculine          </td><td>Dathomir           </td><td>Zabrak             </td><td>The Phantom Menace </td><td>Sith speeder       </td><td>Scimitar           </td></tr>\n",
       "\t<tr><td>Dud Bolt           </td><td> 94                </td><td> 45                </td><td>none               </td><td>blue, grey         </td><td>yellow             </td><td>   NA              </td><td>male               </td><td>masculine          </td><td>Vulpter            </td><td>Vulptereen         </td><td>The Phantom Menace </td><td>                   </td><td>                   </td></tr>\n",
       "\t<tr><td>Ki-Adi-Mundi                                                    </td><td>198                                                             </td><td> 82                                                             </td><td>white                                                           </td><td>pale                                                            </td><td>yellow                                                          </td><td> 92.0                                                           </td><td>male                                                            </td><td>masculine                                                       </td><td>Cerea                                                           </td><td>Cerean                                                          </td><td>Attack of the Clones, The Phantom Menace  , Revenge of the Sith </td><td>                                                                </td><td>                                                                </td></tr>\n",
       "\t<tr><td>Yarael Poof        </td><td>264                </td><td> NA                </td><td>none               </td><td>white              </td><td>yellow             </td><td>   NA              </td><td>male               </td><td>masculine          </td><td>Quermia            </td><td>Quermian           </td><td>The Phantom Menace </td><td>                   </td><td>                   </td></tr>\n",
       "\t<tr><td>Poggle the Lesser                         </td><td>183                                       </td><td> 80                                       </td><td>none                                      </td><td>green                                     </td><td>yellow                                    </td><td>   NA                                     </td><td>male                                      </td><td>masculine                                 </td><td>Geonosis                                  </td><td>Geonosian                                 </td><td>Attack of the Clones, Revenge of the Sith </td><td>                                          </td><td>                                          </td></tr>\n",
       "\t<tr><td>Zam Wesell                </td><td>168                       </td><td> 55                       </td><td>blonde                    </td><td>fair, green, yellow       </td><td>yellow                    </td><td>   NA                     </td><td>female                    </td><td>feminine                  </td><td>Zolan                     </td><td>Clawdite                  </td><td>Attack of the Clones      </td><td>Koro-2 Exodrive airspeeder</td><td>                          </td></tr>\n",
       "\t<tr><td>Dexter Jettster     </td><td>198                 </td><td>102                 </td><td>none                </td><td>brown               </td><td>yellow              </td><td>   NA               </td><td>male                </td><td>masculine           </td><td>Ojom                </td><td>Besalisk            </td><td>Attack of the Clones</td><td>                    </td><td>                    </td></tr>\n",
       "</tbody>\n",
       "</table>\n"
      ],
      "text/latex": [
       "\\begin{tabular}{r|llllllllllllll}\n",
       " name & height & mass & hair\\_color & skin\\_color & eye\\_color & birth\\_year & sex & gender & homeworld & species & films & vehicles & starships\\\\\n",
       "\\hline\n",
       "\t C-3PO                                                                                                                                                & 167                                                                                                                                                  &  75                                                                                                                                                  & NA                                                                                                                                                   & gold                                                                                                                                                 & yellow                                                                                                                                               & 112.0                                                                                                                                                & none                                                                                                                                                 & masculine                                                                                                                                            & Tatooine                                                                                                                                             & Droid                                                                                                                                                & The Empire Strikes Back, Attack of the Clones   , The Phantom Menace     , Revenge of the Sith    , Return of the Jedi     , A New Hope              &                                                                                                                                                      &                                                                                                                                                     \\\\\n",
       "\t Darth Vader                                                                                        & 202                                                                                                & 136                                                                                                & none                                                                                               & white                                                                                              & yellow                                                                                             &  41.9                                                                                              & male                                                                                               & masculine                                                                                          & Tatooine                                                                                           & Human                                                                                              & The Empire Strikes Back, Revenge of the Sith    , Return of the Jedi     , A New Hope              &                                                                                                    & TIE Advanced x1                                                                                   \\\\\n",
       "\t Palpatine                                                                                                                   & 170                                                                                                                         &  75                                                                                                                         & grey                                                                                                                        & pale                                                                                                                        & yellow                                                                                                                      &  82.0                                                                                                                       & male                                                                                                                        & masculine                                                                                                                   & Naboo                                                                                                                       & Human                                                                                                                       & The Empire Strikes Back, Attack of the Clones   , The Phantom Menace     , Revenge of the Sith    , Return of the Jedi      &                                                                                                                             &                                                                                                                            \\\\\n",
       "\t Watto                                      & 137                                        &  NA                                        & black                                      & blue, grey                                 & yellow                                     &    NA                                      & male                                       & masculine                                  & Toydaria                                   & Toydarian                                  & Attack of the Clones, The Phantom Menace   &                                            &                                           \\\\\n",
       "\t Darth Maul          & 175                 &  80                 & none                & red                 & yellow              &  54.0               & male                & masculine           & Dathomir            & Zabrak              & The Phantom Menace  & Sith speeder        & Scimitar           \\\\\n",
       "\t Dud Bolt            &  94                 &  45                 & none                & blue, grey          & yellow              &    NA               & male                & masculine           & Vulpter             & Vulptereen          & The Phantom Menace  &                     &                    \\\\\n",
       "\t Ki-Adi-Mundi                                                     & 198                                                              &  82                                                              & white                                                            & pale                                                             & yellow                                                           &  92.0                                                            & male                                                             & masculine                                                        & Cerea                                                            & Cerean                                                           & Attack of the Clones, The Phantom Menace  , Revenge of the Sith  &                                                                  &                                                                 \\\\\n",
       "\t Yarael Poof         & 264                 &  NA                 & none                & white               & yellow              &    NA               & male                & masculine           & Quermia             & Quermian            & The Phantom Menace  &                     &                    \\\\\n",
       "\t Poggle the Lesser                          & 183                                        &  80                                        & none                                       & green                                      & yellow                                     &    NA                                      & male                                       & masculine                                  & Geonosis                                   & Geonosian                                  & Attack of the Clones, Revenge of the Sith  &                                            &                                           \\\\\n",
       "\t Zam Wesell                 & 168                        &  55                        & blonde                     & fair, green, yellow        & yellow                     &    NA                      & female                     & feminine                   & Zolan                      & Clawdite                   & Attack of the Clones       & Koro-2 Exodrive airspeeder &                           \\\\\n",
       "\t Dexter Jettster      & 198                  & 102                  & none                 & brown                & yellow               &    NA                & male                 & masculine            & Ojom                 & Besalisk             & Attack of the Clones &                      &                     \\\\\n",
       "\\end{tabular}\n"
      ],
      "text/markdown": [
       "\n",
       "| name | height | mass | hair_color | skin_color | eye_color | birth_year | sex | gender | homeworld | species | films | vehicles | starships |\n",
       "|---|---|---|---|---|---|---|---|---|---|---|---|---|---|\n",
       "| C-3PO                                                                                                                                                | 167                                                                                                                                                  |  75                                                                                                                                                  | NA                                                                                                                                                   | gold                                                                                                                                                 | yellow                                                                                                                                               | 112.0                                                                                                                                                | none                                                                                                                                                 | masculine                                                                                                                                            | Tatooine                                                                                                                                             | Droid                                                                                                                                                | The Empire Strikes Back, Attack of the Clones   , The Phantom Menace     , Revenge of the Sith    , Return of the Jedi     , A New Hope              |                                                                                                                                                      |                                                                                                                                                      |\n",
       "| Darth Vader                                                                                        | 202                                                                                                | 136                                                                                                | none                                                                                               | white                                                                                              | yellow                                                                                             |  41.9                                                                                              | male                                                                                               | masculine                                                                                          | Tatooine                                                                                           | Human                                                                                              | The Empire Strikes Back, Revenge of the Sith    , Return of the Jedi     , A New Hope              |                                                                                                    | TIE Advanced x1                                                                                    |\n",
       "| Palpatine                                                                                                                   | 170                                                                                                                         |  75                                                                                                                         | grey                                                                                                                        | pale                                                                                                                        | yellow                                                                                                                      |  82.0                                                                                                                       | male                                                                                                                        | masculine                                                                                                                   | Naboo                                                                                                                       | Human                                                                                                                       | The Empire Strikes Back, Attack of the Clones   , The Phantom Menace     , Revenge of the Sith    , Return of the Jedi      |                                                                                                                             |                                                                                                                             |\n",
       "| Watto                                      | 137                                        |  NA                                        | black                                      | blue, grey                                 | yellow                                     |    NA                                      | male                                       | masculine                                  | Toydaria                                   | Toydarian                                  | Attack of the Clones, The Phantom Menace   |                                            |                                            |\n",
       "| Darth Maul          | 175                 |  80                 | none                | red                 | yellow              |  54.0               | male                | masculine           | Dathomir            | Zabrak              | The Phantom Menace  | Sith speeder        | Scimitar            |\n",
       "| Dud Bolt            |  94                 |  45                 | none                | blue, grey          | yellow              |    NA               | male                | masculine           | Vulpter             | Vulptereen          | The Phantom Menace  |                     |                     |\n",
       "| Ki-Adi-Mundi                                                     | 198                                                              |  82                                                              | white                                                            | pale                                                             | yellow                                                           |  92.0                                                            | male                                                             | masculine                                                        | Cerea                                                            | Cerean                                                           | Attack of the Clones, The Phantom Menace  , Revenge of the Sith  |                                                                  |                                                                  |\n",
       "| Yarael Poof         | 264                 |  NA                 | none                | white               | yellow              |    NA               | male                | masculine           | Quermia             | Quermian            | The Phantom Menace  |                     |                     |\n",
       "| Poggle the Lesser                          | 183                                        |  80                                        | none                                       | green                                      | yellow                                     |    NA                                      | male                                       | masculine                                  | Geonosis                                   | Geonosian                                  | Attack of the Clones, Revenge of the Sith  |                                            |                                            |\n",
       "| Zam Wesell                 | 168                        |  55                        | blonde                     | fair, green, yellow        | yellow                     |    NA                      | female                     | feminine                   | Zolan                      | Clawdite                   | Attack of the Clones       | Koro-2 Exodrive airspeeder |                            |\n",
       "| Dexter Jettster      | 198                  | 102                  | none                 | brown                | yellow               |    NA                | male                 | masculine            | Ojom                 | Besalisk             | Attack of the Clones |                      |                      |\n",
       "\n"
      ],
      "text/plain": [
       "   name              height mass hair_color skin_color          eye_color\n",
       "1  C-3PO             167     75  NA         gold                yellow   \n",
       "2  Darth Vader       202    136  none       white               yellow   \n",
       "3  Palpatine         170     75  grey       pale                yellow   \n",
       "4  Watto             137     NA  black      blue, grey          yellow   \n",
       "5  Darth Maul        175     80  none       red                 yellow   \n",
       "6  Dud Bolt           94     45  none       blue, grey          yellow   \n",
       "7  Ki-Adi-Mundi      198     82  white      pale                yellow   \n",
       "8  Yarael Poof       264     NA  none       white               yellow   \n",
       "9  Poggle the Lesser 183     80  none       green               yellow   \n",
       "10 Zam Wesell        168     55  blonde     fair, green, yellow yellow   \n",
       "11 Dexter Jettster   198    102  none       brown               yellow   \n",
       "   birth_year sex    gender    homeworld species   \n",
       "1  112.0      none   masculine Tatooine  Droid     \n",
       "2   41.9      male   masculine Tatooine  Human     \n",
       "3   82.0      male   masculine Naboo     Human     \n",
       "4     NA      male   masculine Toydaria  Toydarian \n",
       "5   54.0      male   masculine Dathomir  Zabrak    \n",
       "6     NA      male   masculine Vulpter   Vulptereen\n",
       "7   92.0      male   masculine Cerea     Cerean    \n",
       "8     NA      male   masculine Quermia   Quermian  \n",
       "9     NA      male   masculine Geonosis  Geonosian \n",
       "10    NA      female feminine  Zolan     Clawdite  \n",
       "11    NA      male   masculine Ojom      Besalisk  \n",
       "   films                                                                                                                                               \n",
       "1  The Empire Strikes Back, Attack of the Clones   , The Phantom Menace     , Revenge of the Sith    , Return of the Jedi     , A New Hope             \n",
       "2  The Empire Strikes Back, Revenge of the Sith    , Return of the Jedi     , A New Hope                                                               \n",
       "3  The Empire Strikes Back, Attack of the Clones   , The Phantom Menace     , Revenge of the Sith    , Return of the Jedi                              \n",
       "4  Attack of the Clones, The Phantom Menace                                                                                                            \n",
       "5  The Phantom Menace                                                                                                                                  \n",
       "6  The Phantom Menace                                                                                                                                  \n",
       "7  Attack of the Clones, The Phantom Menace  , Revenge of the Sith                                                                                     \n",
       "8  The Phantom Menace                                                                                                                                  \n",
       "9  Attack of the Clones, Revenge of the Sith                                                                                                           \n",
       "10 Attack of the Clones                                                                                                                                \n",
       "11 Attack of the Clones                                                                                                                                \n",
       "   vehicles                   starships      \n",
       "1                                            \n",
       "2                             TIE Advanced x1\n",
       "3                                            \n",
       "4                                            \n",
       "5  Sith speeder               Scimitar       \n",
       "6                                            \n",
       "7                                            \n",
       "8                                            \n",
       "9                                            \n",
       "10 Koro-2 Exodrive airspeeder                \n",
       "11                                           "
      ]
     },
     "metadata": {},
     "output_type": "display_data"
    }
   ],
   "source": [
    "var <- 'eye_color'\n",
    "#Select characters having yellow eye\n",
    "starwars %>% filter(.data[[var]] == 'yellow')"
   ]
  }
 ],
 "metadata": {
  "kernelspec": {
   "display_name": "R",
   "language": "R",
   "name": "ir"
  },
  "language_info": {
   "codemirror_mode": "r",
   "file_extension": ".r",
   "mimetype": "text/x-r-source",
   "name": "R",
   "pygments_lexer": "r",
   "version": "4.0.3"
  }
 },
 "nbformat": 4,
 "nbformat_minor": 2
}
