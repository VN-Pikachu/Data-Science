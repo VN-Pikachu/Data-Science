{
 "cells": [
  {
   "cell_type": "code",
   "execution_count": 2,
   "metadata": {},
   "outputs": [],
   "source": [
    "library(tidyverse)"
   ]
  },
  {
   "cell_type": "markdown",
   "metadata": {},
   "source": [
    "# Create, modify, and delete columns"
   ]
  },
  {
   "cell_type": "markdown",
   "metadata": {},
   "source": [
    "`mutate()` adds new variables and preserves existing ones; `transmute()` adds new variables and drops existing ones. New variables overwrite existing variables of the same name. Variables can be removed by setting their value to NULL"
   ]
  },
  {
   "cell_type": "markdown",
   "metadata": {},
   "source": [
    "```R\n",
    "mutate(.data, ...)\n",
    "\n",
    "# S3 method for data.frame\n",
    "mutate(\n",
    "  .data,\n",
    "  ...,\n",
    "  .keep = c(\"all\", \"used\", \"unused\", \"none\"),\n",
    "  .before = NULL,\n",
    "  .after = NULL\n",
    ")\n",
    "\n",
    "transmute(.data, ...)\n",
    "```"
   ]
  },
  {
   "cell_type": "markdown",
   "metadata": {},
   "source": [
    "# Useful mutate functions"
   ]
  },
  {
   "cell_type": "raw",
   "metadata": {},
   "source": [
    "\n",
    "* +, -, log(), etc., for their usual mathematical meanings\n",
    "\n",
    "* lead(), lag()\n",
    "\n",
    "* dense_rank(), min_rank(), percent_rank(), row_number(), cume_dist(), ntile()\n",
    "\n",
    "* cumsum(), cummean(), cummin(), cummax(), cumany(), cumall()\n",
    "\n",
    "* na_if(), coalesce()\n",
    "\n",
    "* if_else(), recode(), case_when()\n",
    "\n",
    "* Grouped tibbles"
   ]
  },
  {
   "cell_type": "markdown",
   "metadata": {},
   "source": [
    "# Examples"
   ]
  },
  {
   "cell_type": "markdown",
   "metadata": {},
   "source": [
    "Newly created variables are available immediately"
   ]
  },
  {
   "cell_type": "code",
   "execution_count": 4,
   "metadata": {},
   "outputs": [
    {
     "data": {
      "text/html": [
       "<table>\n",
       "<thead><tr><th scope=col>Sepal.Length</th><th scope=col>Sepal.Width</th><th scope=col>Petal.Length</th><th scope=col>Petal.Width</th><th scope=col>Species</th><th scope=col>Sepal.Length.Square</th></tr></thead>\n",
       "<tbody>\n",
       "\t<tr><td>5.1   </td><td>3.5   </td><td>1.4   </td><td>0.2   </td><td>setosa</td><td>26.01 </td></tr>\n",
       "\t<tr><td>4.9   </td><td>3.0   </td><td>1.4   </td><td>0.2   </td><td>setosa</td><td>24.01 </td></tr>\n",
       "\t<tr><td>4.7   </td><td>3.2   </td><td>1.3   </td><td>0.2   </td><td>setosa</td><td>22.09 </td></tr>\n",
       "\t<tr><td>4.6   </td><td>3.1   </td><td>1.5   </td><td>0.2   </td><td>setosa</td><td>21.16 </td></tr>\n",
       "\t<tr><td>5.0   </td><td>3.6   </td><td>1.4   </td><td>0.2   </td><td>setosa</td><td>25.00 </td></tr>\n",
       "\t<tr><td>5.4   </td><td>3.9   </td><td>1.7   </td><td>0.4   </td><td>setosa</td><td>29.16 </td></tr>\n",
       "</tbody>\n",
       "</table>\n"
      ],
      "text/latex": [
       "\\begin{tabular}{r|llllll}\n",
       " Sepal.Length & Sepal.Width & Petal.Length & Petal.Width & Species & Sepal.Length.Square\\\\\n",
       "\\hline\n",
       "\t 5.1    & 3.5    & 1.4    & 0.2    & setosa & 26.01 \\\\\n",
       "\t 4.9    & 3.0    & 1.4    & 0.2    & setosa & 24.01 \\\\\n",
       "\t 4.7    & 3.2    & 1.3    & 0.2    & setosa & 22.09 \\\\\n",
       "\t 4.6    & 3.1    & 1.5    & 0.2    & setosa & 21.16 \\\\\n",
       "\t 5.0    & 3.6    & 1.4    & 0.2    & setosa & 25.00 \\\\\n",
       "\t 5.4    & 3.9    & 1.7    & 0.4    & setosa & 29.16 \\\\\n",
       "\\end{tabular}\n"
      ],
      "text/markdown": [
       "\n",
       "| Sepal.Length | Sepal.Width | Petal.Length | Petal.Width | Species | Sepal.Length.Square |\n",
       "|---|---|---|---|---|---|\n",
       "| 5.1    | 3.5    | 1.4    | 0.2    | setosa | 26.01  |\n",
       "| 4.9    | 3.0    | 1.4    | 0.2    | setosa | 24.01  |\n",
       "| 4.7    | 3.2    | 1.3    | 0.2    | setosa | 22.09  |\n",
       "| 4.6    | 3.1    | 1.5    | 0.2    | setosa | 21.16  |\n",
       "| 5.0    | 3.6    | 1.4    | 0.2    | setosa | 25.00  |\n",
       "| 5.4    | 3.9    | 1.7    | 0.4    | setosa | 29.16  |\n",
       "\n"
      ],
      "text/plain": [
       "  Sepal.Length Sepal.Width Petal.Length Petal.Width Species Sepal.Length.Square\n",
       "1 5.1          3.5         1.4          0.2         setosa  26.01              \n",
       "2 4.9          3.0         1.4          0.2         setosa  24.01              \n",
       "3 4.7          3.2         1.3          0.2         setosa  22.09              \n",
       "4 4.6          3.1         1.5          0.2         setosa  21.16              \n",
       "5 5.0          3.6         1.4          0.2         setosa  25.00              \n",
       "6 5.4          3.9         1.7          0.4         setosa  29.16              "
      ]
     },
     "metadata": {},
     "output_type": "display_data"
    }
   ],
   "source": [
    "#Create a new column, preserve the existing ones\n",
    "iris %>% mutate(Sepal.Length.Square = Sepal.Length ^ 2) %>% head()"
   ]
  },
  {
   "cell_type": "markdown",
   "metadata": {},
   "source": [
    "Only add newly created variables, drop existing variables"
   ]
  },
  {
   "cell_type": "code",
   "execution_count": 15,
   "metadata": {},
   "outputs": [
    {
     "data": {
      "text/html": [
       "<table>\n",
       "<thead><tr><th scope=col>Sepal.Length.Square</th></tr></thead>\n",
       "<tbody>\n",
       "\t<tr><td>26.01</td></tr>\n",
       "\t<tr><td>24.01</td></tr>\n",
       "\t<tr><td>22.09</td></tr>\n",
       "\t<tr><td>21.16</td></tr>\n",
       "\t<tr><td>25.00</td></tr>\n",
       "\t<tr><td>29.16</td></tr>\n",
       "</tbody>\n",
       "</table>\n"
      ],
      "text/latex": [
       "\\begin{tabular}{r|l}\n",
       " Sepal.Length.Square\\\\\n",
       "\\hline\n",
       "\t 26.01\\\\\n",
       "\t 24.01\\\\\n",
       "\t 22.09\\\\\n",
       "\t 21.16\\\\\n",
       "\t 25.00\\\\\n",
       "\t 29.16\\\\\n",
       "\\end{tabular}\n"
      ],
      "text/markdown": [
       "\n",
       "| Sepal.Length.Square |\n",
       "|---|\n",
       "| 26.01 |\n",
       "| 24.01 |\n",
       "| 22.09 |\n",
       "| 21.16 |\n",
       "| 25.00 |\n",
       "| 29.16 |\n",
       "\n"
      ],
      "text/plain": [
       "  Sepal.Length.Square\n",
       "1 26.01              \n",
       "2 24.01              \n",
       "3 22.09              \n",
       "4 21.16              \n",
       "5 25.00              \n",
       "6 29.16              "
      ]
     },
     "metadata": {},
     "output_type": "display_data"
    }
   ],
   "source": [
    "iris %>% transmute(Sepal.Length.Square = Sepal.Length ^ 2) %>% head()"
   ]
  },
  {
   "cell_type": "markdown",
   "metadata": {},
   "source": [
    "As well as adding new variables, you can use mutate() to\n",
    "remove variables and modify existing variables."
   ]
  },
  {
   "cell_type": "code",
   "execution_count": 5,
   "metadata": {},
   "outputs": [
    {
     "data": {
      "text/html": [
       "<table>\n",
       "<thead><tr><th scope=col>Petal.Length</th><th scope=col>Petal.Width</th><th scope=col>Species</th></tr></thead>\n",
       "<tbody>\n",
       "\t<tr><td>1.4   </td><td>0.2   </td><td>setosa</td></tr>\n",
       "\t<tr><td>1.4   </td><td>0.2   </td><td>setosa</td></tr>\n",
       "\t<tr><td>1.3   </td><td>0.2   </td><td>setosa</td></tr>\n",
       "\t<tr><td>1.5   </td><td>0.2   </td><td>setosa</td></tr>\n",
       "\t<tr><td>1.4   </td><td>0.2   </td><td>setosa</td></tr>\n",
       "\t<tr><td>1.7   </td><td>0.4   </td><td>setosa</td></tr>\n",
       "</tbody>\n",
       "</table>\n"
      ],
      "text/latex": [
       "\\begin{tabular}{r|lll}\n",
       " Petal.Length & Petal.Width & Species\\\\\n",
       "\\hline\n",
       "\t 1.4    & 0.2    & setosa\\\\\n",
       "\t 1.4    & 0.2    & setosa\\\\\n",
       "\t 1.3    & 0.2    & setosa\\\\\n",
       "\t 1.5    & 0.2    & setosa\\\\\n",
       "\t 1.4    & 0.2    & setosa\\\\\n",
       "\t 1.7    & 0.4    & setosa\\\\\n",
       "\\end{tabular}\n"
      ],
      "text/markdown": [
       "\n",
       "| Petal.Length | Petal.Width | Species |\n",
       "|---|---|---|\n",
       "| 1.4    | 0.2    | setosa |\n",
       "| 1.4    | 0.2    | setosa |\n",
       "| 1.3    | 0.2    | setosa |\n",
       "| 1.5    | 0.2    | setosa |\n",
       "| 1.4    | 0.2    | setosa |\n",
       "| 1.7    | 0.4    | setosa |\n",
       "\n"
      ],
      "text/plain": [
       "  Petal.Length Petal.Width Species\n",
       "1 1.4          0.2         setosa \n",
       "2 1.4          0.2         setosa \n",
       "3 1.3          0.2         setosa \n",
       "4 1.5          0.2         setosa \n",
       "5 1.4          0.2         setosa \n",
       "6 1.7          0.4         setosa "
      ]
     },
     "metadata": {},
     "output_type": "display_data"
    }
   ],
   "source": [
    "#remove column Sepal.Length, Sepal.Width\n",
    "iris %>% mutate(Sepal.Length = NULL, Sepal.Width = NULL) %>% head()"
   ]
  },
  {
   "cell_type": "code",
   "execution_count": 7,
   "metadata": {},
   "outputs": [
    {
     "data": {
      "text/html": [
       "<table>\n",
       "<thead><tr><th scope=col>Sepal.Length</th><th scope=col>Sepal.Width</th><th scope=col>Petal.Length</th><th scope=col>Petal.Width</th><th scope=col>Species</th></tr></thead>\n",
       "<tbody>\n",
       "\t<tr><td>5.1      </td><td>3.5      </td><td>1.4      </td><td>0.4472136</td><td>setosa   </td></tr>\n",
       "\t<tr><td>4.9      </td><td>3.0      </td><td>1.4      </td><td>0.4472136</td><td>setosa   </td></tr>\n",
       "\t<tr><td>4.7      </td><td>3.2      </td><td>1.3      </td><td>0.4472136</td><td>setosa   </td></tr>\n",
       "\t<tr><td>4.6      </td><td>3.1      </td><td>1.5      </td><td>0.4472136</td><td>setosa   </td></tr>\n",
       "\t<tr><td>5.0      </td><td>3.6      </td><td>1.4      </td><td>0.4472136</td><td>setosa   </td></tr>\n",
       "\t<tr><td>5.4      </td><td>3.9      </td><td>1.7      </td><td>0.6324555</td><td>setosa   </td></tr>\n",
       "</tbody>\n",
       "</table>\n"
      ],
      "text/latex": [
       "\\begin{tabular}{r|lllll}\n",
       " Sepal.Length & Sepal.Width & Petal.Length & Petal.Width & Species\\\\\n",
       "\\hline\n",
       "\t 5.1       & 3.5       & 1.4       & 0.4472136 & setosa   \\\\\n",
       "\t 4.9       & 3.0       & 1.4       & 0.4472136 & setosa   \\\\\n",
       "\t 4.7       & 3.2       & 1.3       & 0.4472136 & setosa   \\\\\n",
       "\t 4.6       & 3.1       & 1.5       & 0.4472136 & setosa   \\\\\n",
       "\t 5.0       & 3.6       & 1.4       & 0.4472136 & setosa   \\\\\n",
       "\t 5.4       & 3.9       & 1.7       & 0.6324555 & setosa   \\\\\n",
       "\\end{tabular}\n"
      ],
      "text/markdown": [
       "\n",
       "| Sepal.Length | Sepal.Width | Petal.Length | Petal.Width | Species |\n",
       "|---|---|---|---|---|\n",
       "| 5.1       | 3.5       | 1.4       | 0.4472136 | setosa    |\n",
       "| 4.9       | 3.0       | 1.4       | 0.4472136 | setosa    |\n",
       "| 4.7       | 3.2       | 1.3       | 0.4472136 | setosa    |\n",
       "| 4.6       | 3.1       | 1.5       | 0.4472136 | setosa    |\n",
       "| 5.0       | 3.6       | 1.4       | 0.4472136 | setosa    |\n",
       "| 5.4       | 3.9       | 1.7       | 0.6324555 | setosa    |\n",
       "\n"
      ],
      "text/plain": [
       "  Sepal.Length Sepal.Width Petal.Length Petal.Width Species\n",
       "1 5.1          3.5         1.4          0.4472136   setosa \n",
       "2 4.9          3.0         1.4          0.4472136   setosa \n",
       "3 4.7          3.2         1.3          0.4472136   setosa \n",
       "4 4.6          3.1         1.5          0.4472136   setosa \n",
       "5 5.0          3.6         1.4          0.4472136   setosa \n",
       "6 5.4          3.9         1.7          0.6324555   setosa "
      ]
     },
     "metadata": {},
     "output_type": "display_data"
    }
   ],
   "source": [
    "#Modify: transform Petal.Width to sqrt\n",
    "iris %>% mutate(Petal.Width = sqrt(Petal.Width)) %>% head()"
   ]
  },
  {
   "cell_type": "code",
   "execution_count": 8,
   "metadata": {},
   "outputs": [
    {
     "data": {
      "text/html": [
       "<table>\n",
       "<thead><tr><th scope=col>name</th><th scope=col>homeworld</th><th scope=col>species</th></tr></thead>\n",
       "<tbody>\n",
       "\t<tr><td>Luke Skywalker       </td><td>Tatooine             </td><td>Human                </td></tr>\n",
       "\t<tr><td>C-3PO                </td><td>Tatooine             </td><td>Droid                </td></tr>\n",
       "\t<tr><td>R2-D2                </td><td>Naboo                </td><td>Droid                </td></tr>\n",
       "\t<tr><td>Darth Vader          </td><td>Tatooine             </td><td>Human                </td></tr>\n",
       "\t<tr><td>Leia Organa          </td><td>Alderaan             </td><td>Human                </td></tr>\n",
       "\t<tr><td>Owen Lars            </td><td>Tatooine             </td><td>Human                </td></tr>\n",
       "\t<tr><td>Beru Whitesun lars   </td><td>Tatooine             </td><td>Human                </td></tr>\n",
       "\t<tr><td>R5-D4                </td><td>Tatooine             </td><td>Droid                </td></tr>\n",
       "\t<tr><td>Biggs Darklighter    </td><td>Tatooine             </td><td>Human                </td></tr>\n",
       "\t<tr><td>Obi-Wan Kenobi       </td><td>Stewjon              </td><td>Human                </td></tr>\n",
       "\t<tr><td>Anakin Skywalker     </td><td>Tatooine             </td><td>Human                </td></tr>\n",
       "\t<tr><td>Wilhuff Tarkin       </td><td>Eriadu               </td><td>Human                </td></tr>\n",
       "\t<tr><td>Chewbacca            </td><td>Kashyyyk             </td><td>Wookiee              </td></tr>\n",
       "\t<tr><td>Han Solo             </td><td>Corellia             </td><td>Human                </td></tr>\n",
       "\t<tr><td>Greedo               </td><td>Rodia                </td><td>Rodian               </td></tr>\n",
       "\t<tr><td>Jabba Desilijic Tiure</td><td>Nal Hutta            </td><td>Hutt                 </td></tr>\n",
       "\t<tr><td>Wedge Antilles       </td><td>Corellia             </td><td>Human                </td></tr>\n",
       "\t<tr><td>Jek Tono Porkins     </td><td>Bestine IV           </td><td>Human                </td></tr>\n",
       "\t<tr><td>Yoda                 </td><td>NA                   </td><td>Yoda's species       </td></tr>\n",
       "\t<tr><td>Palpatine            </td><td>Naboo                </td><td>Human                </td></tr>\n",
       "\t<tr><td>Boba Fett            </td><td>Kamino               </td><td>Human                </td></tr>\n",
       "\t<tr><td>IG-88                </td><td>NA                   </td><td>Droid                </td></tr>\n",
       "\t<tr><td>Bossk                </td><td>Trandosha            </td><td>Trandoshan           </td></tr>\n",
       "\t<tr><td>Lando Calrissian     </td><td>Socorro              </td><td>Human                </td></tr>\n",
       "\t<tr><td>Lobot                </td><td>Bespin               </td><td>Human                </td></tr>\n",
       "\t<tr><td>Ackbar               </td><td>Mon Cala             </td><td>Mon Calamari         </td></tr>\n",
       "\t<tr><td>Mon Mothma           </td><td>Chandrila            </td><td>Human                </td></tr>\n",
       "\t<tr><td>Arvel Crynyd         </td><td>NA                   </td><td>Human                </td></tr>\n",
       "\t<tr><td>Wicket Systri Warrick</td><td>Endor                </td><td>Ewok                 </td></tr>\n",
       "\t<tr><td>Nien Nunb            </td><td>Sullust              </td><td>Sullustan            </td></tr>\n",
       "\t<tr><td>...</td><td>...</td><td>...</td></tr>\n",
       "\t<tr><td>Cordé              </td><td>Naboo              </td><td>Human              </td></tr>\n",
       "\t<tr><td>Cliegg Lars        </td><td>Tatooine           </td><td>Human              </td></tr>\n",
       "\t<tr><td>Poggle the Lesser  </td><td>Geonosis           </td><td>Geonosian          </td></tr>\n",
       "\t<tr><td>Luminara Unduli    </td><td>Mirial             </td><td>Mirialan           </td></tr>\n",
       "\t<tr><td>Barriss Offee      </td><td>Mirial             </td><td>Mirialan           </td></tr>\n",
       "\t<tr><td>Dormé              </td><td>Naboo              </td><td>Human              </td></tr>\n",
       "\t<tr><td>Dooku              </td><td>Serenno            </td><td>Human              </td></tr>\n",
       "\t<tr><td>Bail Prestor Organa</td><td>Alderaan           </td><td>Human              </td></tr>\n",
       "\t<tr><td>Jango Fett         </td><td>Concord Dawn       </td><td>Human              </td></tr>\n",
       "\t<tr><td>Zam Wesell         </td><td>Zolan              </td><td>Clawdite           </td></tr>\n",
       "\t<tr><td>Dexter Jettster    </td><td>Ojom               </td><td>Besalisk           </td></tr>\n",
       "\t<tr><td>Lama Su            </td><td>Kamino             </td><td>Kaminoan           </td></tr>\n",
       "\t<tr><td>Taun We            </td><td>Kamino             </td><td>Kaminoan           </td></tr>\n",
       "\t<tr><td>Jocasta Nu         </td><td>Coruscant          </td><td>Human              </td></tr>\n",
       "\t<tr><td>Ratts Tyerell      </td><td>Aleen Minor        </td><td>Aleena             </td></tr>\n",
       "\t<tr><td>R4-P17             </td><td>NA                 </td><td>Droid              </td></tr>\n",
       "\t<tr><td>Wat Tambor         </td><td>Skako              </td><td>Skakoan            </td></tr>\n",
       "\t<tr><td>San Hill           </td><td>Muunilinst         </td><td>Muun               </td></tr>\n",
       "\t<tr><td>Shaak Ti           </td><td>Shili              </td><td>Togruta            </td></tr>\n",
       "\t<tr><td>Grievous           </td><td>Kalee              </td><td>Kaleesh            </td></tr>\n",
       "\t<tr><td>Tarfful            </td><td>Kashyyyk           </td><td>Wookiee            </td></tr>\n",
       "\t<tr><td>Raymus Antilles    </td><td>Alderaan           </td><td>Human              </td></tr>\n",
       "\t<tr><td>Sly Moore          </td><td>Umbara             </td><td>NA                 </td></tr>\n",
       "\t<tr><td>Tion Medon         </td><td>Utapau             </td><td>Pau'an             </td></tr>\n",
       "\t<tr><td>Finn               </td><td>NA                 </td><td>Human              </td></tr>\n",
       "\t<tr><td>Rey                </td><td>NA                 </td><td>Human              </td></tr>\n",
       "\t<tr><td>Poe Dameron        </td><td>NA                 </td><td>Human              </td></tr>\n",
       "\t<tr><td>BB8                </td><td>NA                 </td><td>Droid              </td></tr>\n",
       "\t<tr><td>Captain Phasma     </td><td>NA                 </td><td>NA                 </td></tr>\n",
       "\t<tr><td>Padmé Amidala      </td><td>Naboo              </td><td>Human              </td></tr>\n",
       "</tbody>\n",
       "</table>\n"
      ],
      "text/latex": [
       "\\begin{tabular}{r|lll}\n",
       " name & homeworld & species\\\\\n",
       "\\hline\n",
       "\t Luke Skywalker        & Tatooine              & Human                \\\\\n",
       "\t C-3PO                 & Tatooine              & Droid                \\\\\n",
       "\t R2-D2                 & Naboo                 & Droid                \\\\\n",
       "\t Darth Vader           & Tatooine              & Human                \\\\\n",
       "\t Leia Organa           & Alderaan              & Human                \\\\\n",
       "\t Owen Lars             & Tatooine              & Human                \\\\\n",
       "\t Beru Whitesun lars    & Tatooine              & Human                \\\\\n",
       "\t R5-D4                 & Tatooine              & Droid                \\\\\n",
       "\t Biggs Darklighter     & Tatooine              & Human                \\\\\n",
       "\t Obi-Wan Kenobi        & Stewjon               & Human                \\\\\n",
       "\t Anakin Skywalker      & Tatooine              & Human                \\\\\n",
       "\t Wilhuff Tarkin        & Eriadu                & Human                \\\\\n",
       "\t Chewbacca             & Kashyyyk              & Wookiee              \\\\\n",
       "\t Han Solo              & Corellia              & Human                \\\\\n",
       "\t Greedo                & Rodia                 & Rodian               \\\\\n",
       "\t Jabba Desilijic Tiure & Nal Hutta             & Hutt                 \\\\\n",
       "\t Wedge Antilles        & Corellia              & Human                \\\\\n",
       "\t Jek Tono Porkins      & Bestine IV            & Human                \\\\\n",
       "\t Yoda                  & NA                    & Yoda's species       \\\\\n",
       "\t Palpatine             & Naboo                 & Human                \\\\\n",
       "\t Boba Fett             & Kamino                & Human                \\\\\n",
       "\t IG-88                 & NA                    & Droid                \\\\\n",
       "\t Bossk                 & Trandosha             & Trandoshan           \\\\\n",
       "\t Lando Calrissian      & Socorro               & Human                \\\\\n",
       "\t Lobot                 & Bespin                & Human                \\\\\n",
       "\t Ackbar                & Mon Cala              & Mon Calamari         \\\\\n",
       "\t Mon Mothma            & Chandrila             & Human                \\\\\n",
       "\t Arvel Crynyd          & NA                    & Human                \\\\\n",
       "\t Wicket Systri Warrick & Endor                 & Ewok                 \\\\\n",
       "\t Nien Nunb             & Sullust               & Sullustan            \\\\\n",
       "\t ... & ... & ...\\\\\n",
       "\t Cordé               & Naboo               & Human              \\\\\n",
       "\t Cliegg Lars         & Tatooine            & Human              \\\\\n",
       "\t Poggle the Lesser   & Geonosis            & Geonosian          \\\\\n",
       "\t Luminara Unduli     & Mirial              & Mirialan           \\\\\n",
       "\t Barriss Offee       & Mirial              & Mirialan           \\\\\n",
       "\t Dormé               & Naboo               & Human              \\\\\n",
       "\t Dooku               & Serenno             & Human              \\\\\n",
       "\t Bail Prestor Organa & Alderaan            & Human              \\\\\n",
       "\t Jango Fett          & Concord Dawn        & Human              \\\\\n",
       "\t Zam Wesell          & Zolan               & Clawdite           \\\\\n",
       "\t Dexter Jettster     & Ojom                & Besalisk           \\\\\n",
       "\t Lama Su             & Kamino              & Kaminoan           \\\\\n",
       "\t Taun We             & Kamino              & Kaminoan           \\\\\n",
       "\t Jocasta Nu          & Coruscant           & Human              \\\\\n",
       "\t Ratts Tyerell       & Aleen Minor         & Aleena             \\\\\n",
       "\t R4-P17              & NA                  & Droid              \\\\\n",
       "\t Wat Tambor          & Skako               & Skakoan            \\\\\n",
       "\t San Hill            & Muunilinst          & Muun               \\\\\n",
       "\t Shaak Ti            & Shili               & Togruta            \\\\\n",
       "\t Grievous            & Kalee               & Kaleesh            \\\\\n",
       "\t Tarfful             & Kashyyyk            & Wookiee            \\\\\n",
       "\t Raymus Antilles     & Alderaan            & Human              \\\\\n",
       "\t Sly Moore           & Umbara              & NA                 \\\\\n",
       "\t Tion Medon          & Utapau              & Pau'an             \\\\\n",
       "\t Finn                & NA                  & Human              \\\\\n",
       "\t Rey                 & NA                  & Human              \\\\\n",
       "\t Poe Dameron         & NA                  & Human              \\\\\n",
       "\t BB8                 & NA                  & Droid              \\\\\n",
       "\t Captain Phasma      & NA                  & NA                 \\\\\n",
       "\t Padmé Amidala       & Naboo               & Human              \\\\\n",
       "\\end{tabular}\n"
      ],
      "text/markdown": [
       "\n",
       "| name | homeworld | species |\n",
       "|---|---|---|\n",
       "| Luke Skywalker        | Tatooine              | Human                 |\n",
       "| C-3PO                 | Tatooine              | Droid                 |\n",
       "| R2-D2                 | Naboo                 | Droid                 |\n",
       "| Darth Vader           | Tatooine              | Human                 |\n",
       "| Leia Organa           | Alderaan              | Human                 |\n",
       "| Owen Lars             | Tatooine              | Human                 |\n",
       "| Beru Whitesun lars    | Tatooine              | Human                 |\n",
       "| R5-D4                 | Tatooine              | Droid                 |\n",
       "| Biggs Darklighter     | Tatooine              | Human                 |\n",
       "| Obi-Wan Kenobi        | Stewjon               | Human                 |\n",
       "| Anakin Skywalker      | Tatooine              | Human                 |\n",
       "| Wilhuff Tarkin        | Eriadu                | Human                 |\n",
       "| Chewbacca             | Kashyyyk              | Wookiee               |\n",
       "| Han Solo              | Corellia              | Human                 |\n",
       "| Greedo                | Rodia                 | Rodian                |\n",
       "| Jabba Desilijic Tiure | Nal Hutta             | Hutt                  |\n",
       "| Wedge Antilles        | Corellia              | Human                 |\n",
       "| Jek Tono Porkins      | Bestine IV            | Human                 |\n",
       "| Yoda                  | NA                    | Yoda's species        |\n",
       "| Palpatine             | Naboo                 | Human                 |\n",
       "| Boba Fett             | Kamino                | Human                 |\n",
       "| IG-88                 | NA                    | Droid                 |\n",
       "| Bossk                 | Trandosha             | Trandoshan            |\n",
       "| Lando Calrissian      | Socorro               | Human                 |\n",
       "| Lobot                 | Bespin                | Human                 |\n",
       "| Ackbar                | Mon Cala              | Mon Calamari          |\n",
       "| Mon Mothma            | Chandrila             | Human                 |\n",
       "| Arvel Crynyd          | NA                    | Human                 |\n",
       "| Wicket Systri Warrick | Endor                 | Ewok                  |\n",
       "| Nien Nunb             | Sullust               | Sullustan             |\n",
       "| ... | ... | ... |\n",
       "| Cordé               | Naboo               | Human               |\n",
       "| Cliegg Lars         | Tatooine            | Human               |\n",
       "| Poggle the Lesser   | Geonosis            | Geonosian           |\n",
       "| Luminara Unduli     | Mirial              | Mirialan            |\n",
       "| Barriss Offee       | Mirial              | Mirialan            |\n",
       "| Dormé               | Naboo               | Human               |\n",
       "| Dooku               | Serenno             | Human               |\n",
       "| Bail Prestor Organa | Alderaan            | Human               |\n",
       "| Jango Fett          | Concord Dawn        | Human               |\n",
       "| Zam Wesell          | Zolan               | Clawdite            |\n",
       "| Dexter Jettster     | Ojom                | Besalisk            |\n",
       "| Lama Su             | Kamino              | Kaminoan            |\n",
       "| Taun We             | Kamino              | Kaminoan            |\n",
       "| Jocasta Nu          | Coruscant           | Human               |\n",
       "| Ratts Tyerell       | Aleen Minor         | Aleena              |\n",
       "| R4-P17              | NA                  | Droid               |\n",
       "| Wat Tambor          | Skako               | Skakoan             |\n",
       "| San Hill            | Muunilinst          | Muun                |\n",
       "| Shaak Ti            | Shili               | Togruta             |\n",
       "| Grievous            | Kalee               | Kaleesh             |\n",
       "| Tarfful             | Kashyyyk            | Wookiee             |\n",
       "| Raymus Antilles     | Alderaan            | Human               |\n",
       "| Sly Moore           | Umbara              | NA                  |\n",
       "| Tion Medon          | Utapau              | Pau'an              |\n",
       "| Finn                | NA                  | Human               |\n",
       "| Rey                 | NA                  | Human               |\n",
       "| Poe Dameron         | NA                  | Human               |\n",
       "| BB8                 | NA                  | Droid               |\n",
       "| Captain Phasma      | NA                  | NA                  |\n",
       "| Padmé Amidala       | Naboo               | Human               |\n",
       "\n"
      ],
      "text/plain": [
       "    name                  homeworld    species       \n",
       "1   Luke Skywalker        Tatooine     Human         \n",
       "2   C-3PO                 Tatooine     Droid         \n",
       "3   R2-D2                 Naboo        Droid         \n",
       "4   Darth Vader           Tatooine     Human         \n",
       "5   Leia Organa           Alderaan     Human         \n",
       "6   Owen Lars             Tatooine     Human         \n",
       "7   Beru Whitesun lars    Tatooine     Human         \n",
       "8   R5-D4                 Tatooine     Droid         \n",
       "9   Biggs Darklighter     Tatooine     Human         \n",
       "10  Obi-Wan Kenobi        Stewjon      Human         \n",
       "11  Anakin Skywalker      Tatooine     Human         \n",
       "12  Wilhuff Tarkin        Eriadu       Human         \n",
       "13  Chewbacca             Kashyyyk     Wookiee       \n",
       "14  Han Solo              Corellia     Human         \n",
       "15  Greedo                Rodia        Rodian        \n",
       "16  Jabba Desilijic Tiure Nal Hutta    Hutt          \n",
       "17  Wedge Antilles        Corellia     Human         \n",
       "18  Jek Tono Porkins      Bestine IV   Human         \n",
       "19  Yoda                  NA           Yoda's species\n",
       "20  Palpatine             Naboo        Human         \n",
       "21  Boba Fett             Kamino       Human         \n",
       "22  IG-88                 NA           Droid         \n",
       "23  Bossk                 Trandosha    Trandoshan    \n",
       "24  Lando Calrissian      Socorro      Human         \n",
       "25  Lobot                 Bespin       Human         \n",
       "26  Ackbar                Mon Cala     Mon Calamari  \n",
       "27  Mon Mothma            Chandrila    Human         \n",
       "28  Arvel Crynyd          NA           Human         \n",
       "29  Wicket Systri Warrick Endor        Ewok          \n",
       "30  Nien Nunb             Sullust      Sullustan     \n",
       "... ...                   ...          ...           \n",
       "58  Cordé                 Naboo        Human         \n",
       "59  Cliegg Lars           Tatooine     Human         \n",
       "60  Poggle the Lesser     Geonosis     Geonosian     \n",
       "61  Luminara Unduli       Mirial       Mirialan      \n",
       "62  Barriss Offee         Mirial       Mirialan      \n",
       "63  Dormé                 Naboo        Human         \n",
       "64  Dooku                 Serenno      Human         \n",
       "65  Bail Prestor Organa   Alderaan     Human         \n",
       "66  Jango Fett            Concord Dawn Human         \n",
       "67  Zam Wesell            Zolan        Clawdite      \n",
       "68  Dexter Jettster       Ojom         Besalisk      \n",
       "69  Lama Su               Kamino       Kaminoan      \n",
       "70  Taun We               Kamino       Kaminoan      \n",
       "71  Jocasta Nu            Coruscant    Human         \n",
       "72  Ratts Tyerell         Aleen Minor  Aleena        \n",
       "73  R4-P17                NA           Droid         \n",
       "74  Wat Tambor            Skako        Skakoan       \n",
       "75  San Hill              Muunilinst   Muun          \n",
       "76  Shaak Ti              Shili        Togruta       \n",
       "77  Grievous              Kalee        Kaleesh       \n",
       "78  Tarfful               Kashyyyk     Wookiee       \n",
       "79  Raymus Antilles       Alderaan     Human         \n",
       "80  Sly Moore             Umbara       NA            \n",
       "81  Tion Medon            Utapau       Pau'an        \n",
       "82  Finn                  NA           Human         \n",
       "83  Rey                   NA           Human         \n",
       "84  Poe Dameron           NA           Human         \n",
       "85  BB8                   NA           Droid         \n",
       "86  Captain Phasma        NA           NA            \n",
       "87  Padmé Amidala         Naboo        Human         "
      ]
     },
     "metadata": {},
     "output_type": "display_data"
    }
   ],
   "source": [
    "# Use across() with mutate() to apply a transformation\n",
    "# to multiple columns in a tibble.\n",
    "starwars %>%\n",
    " select(name, homeworld, species) %>%\n",
    " mutate(across(!name, as.factor))"
   ]
  },
  {
   "cell_type": "markdown",
   "metadata": {},
   "source": [
    "Window functions are useful for grouped mutates:"
   ]
  },
  {
   "cell_type": "code",
   "execution_count": 11,
   "metadata": {},
   "outputs": [
    {
     "data": {
      "text/html": [
       "<table>\n",
       "<thead><tr><th scope=col>clan</th><th scope=col>player</th><th scope=col>power</th></tr></thead>\n",
       "<tbody>\n",
       "\t<tr><td>VNC         </td><td>Meomeo888   </td><td> 95         </td></tr>\n",
       "\t<tr><td>VNC         </td><td>Tank Cao    </td><td> 88         </td></tr>\n",
       "\t<tr><td>VNC         </td><td>VN Pikachu  </td><td>100         </td></tr>\n",
       "\t<tr><td>King Allool </td><td>xXx-Hadi-xXx</td><td> 50         </td></tr>\n",
       "\t<tr><td>King Allool </td><td>GHOST       </td><td> 65         </td></tr>\n",
       "</tbody>\n",
       "</table>\n"
      ],
      "text/latex": [
       "\\begin{tabular}{r|lll}\n",
       " clan & player & power\\\\\n",
       "\\hline\n",
       "\t VNC          & Meomeo888    &  95         \\\\\n",
       "\t VNC          & Tank Cao     &  88         \\\\\n",
       "\t VNC          & VN Pikachu   & 100         \\\\\n",
       "\t King Allool  & xXx-Hadi-xXx &  50         \\\\\n",
       "\t King Allool  & GHOST        &  65         \\\\\n",
       "\\end{tabular}\n"
      ],
      "text/markdown": [
       "\n",
       "| clan | player | power |\n",
       "|---|---|---|\n",
       "| VNC          | Meomeo888    |  95          |\n",
       "| VNC          | Tank Cao     |  88          |\n",
       "| VNC          | VN Pikachu   | 100          |\n",
       "| King Allool  | xXx-Hadi-xXx |  50          |\n",
       "| King Allool  | GHOST        |  65          |\n",
       "\n"
      ],
      "text/plain": [
       "  clan        player       power\n",
       "1 VNC         Meomeo888     95  \n",
       "2 VNC         Tank Cao      88  \n",
       "3 VNC         VN Pikachu   100  \n",
       "4 King Allool xXx-Hadi-xXx  50  \n",
       "5 King Allool GHOST         65  "
      ]
     },
     "metadata": {},
     "output_type": "display_data"
    }
   ],
   "source": [
    "TF <- data.frame(\n",
    "    clan = c('VNC', 'VNC', 'VNC', 'King Allool', 'King Allool'),\n",
    "    player = c('Meomeo888', 'Tank Cao', 'VN Pikachu', 'xXx-Hadi-xXx', 'GHOST'),\n",
    "    power = c(95, 88, 100, 50, 65)\n",
    ")\n",
    "\n",
    "TF"
   ]
  },
  {
   "cell_type": "code",
   "execution_count": 12,
   "metadata": {},
   "outputs": [
    {
     "data": {
      "text/html": [
       "<table>\n",
       "<thead><tr><th scope=col>clan</th><th scope=col>player</th><th scope=col>power</th><th scope=col>rank</th></tr></thead>\n",
       "<tbody>\n",
       "\t<tr><td>VNC         </td><td>Meomeo888   </td><td> 95         </td><td>2           </td></tr>\n",
       "\t<tr><td>VNC         </td><td>Tank Cao    </td><td> 88         </td><td>3           </td></tr>\n",
       "\t<tr><td>VNC         </td><td>VN Pikachu  </td><td>100         </td><td>1           </td></tr>\n",
       "\t<tr><td>King Allool </td><td>xXx-Hadi-xXx</td><td> 50         </td><td>2           </td></tr>\n",
       "\t<tr><td>King Allool </td><td>GHOST       </td><td> 65         </td><td>1           </td></tr>\n",
       "</tbody>\n",
       "</table>\n"
      ],
      "text/latex": [
       "\\begin{tabular}{r|llll}\n",
       " clan & player & power & rank\\\\\n",
       "\\hline\n",
       "\t VNC          & Meomeo888    &  95          & 2           \\\\\n",
       "\t VNC          & Tank Cao     &  88          & 3           \\\\\n",
       "\t VNC          & VN Pikachu   & 100          & 1           \\\\\n",
       "\t King Allool  & xXx-Hadi-xXx &  50          & 2           \\\\\n",
       "\t King Allool  & GHOST        &  65          & 1           \\\\\n",
       "\\end{tabular}\n"
      ],
      "text/markdown": [
       "\n",
       "| clan | player | power | rank |\n",
       "|---|---|---|---|\n",
       "| VNC          | Meomeo888    |  95          | 2            |\n",
       "| VNC          | Tank Cao     |  88          | 3            |\n",
       "| VNC          | VN Pikachu   | 100          | 1            |\n",
       "| King Allool  | xXx-Hadi-xXx |  50          | 2            |\n",
       "| King Allool  | GHOST        |  65          | 1            |\n",
       "\n"
      ],
      "text/plain": [
       "  clan        player       power rank\n",
       "1 VNC         Meomeo888     95   2   \n",
       "2 VNC         Tank Cao      88   3   \n",
       "3 VNC         VN Pikachu   100   1   \n",
       "4 King Allool xXx-Hadi-xXx  50   2   \n",
       "5 King Allool GHOST         65   1   "
      ]
     },
     "metadata": {},
     "output_type": "display_data"
    }
   ],
   "source": [
    "#For each class, ranking player by his power\n",
    "TF %>% \n",
    "group_by(clan) %>%\n",
    "mutate(rank = rank(desc(power)))"
   ]
  },
  {
   "cell_type": "code",
   "execution_count": 14,
   "metadata": {},
   "outputs": [
    {
     "data": {
      "text/html": [
       "<table>\n",
       "<thead><tr><th scope=col>Sepal.Length</th><th scope=col>Sepal.Width</th><th scope=col>Petal.Length</th><th scope=col>Petal.Width</th><th scope=col>Species</th></tr></thead>\n",
       "<tbody>\n",
       "\t<tr><td>5.1       </td><td> 0.1899414</td><td>1.4       </td><td>0.2       </td><td>setosa    </td></tr>\n",
       "\t<tr><td>4.9       </td><td>-1.1290958</td><td>1.4       </td><td>0.2       </td><td>setosa    </td></tr>\n",
       "\t<tr><td>4.7       </td><td>-0.6014810</td><td>1.3       </td><td>0.2       </td><td>setosa    </td></tr>\n",
       "\t<tr><td>4.6       </td><td>-0.8652884</td><td>1.5       </td><td>0.2       </td><td>setosa    </td></tr>\n",
       "\t<tr><td>5.0       </td><td> 0.4537488</td><td>1.4       </td><td>0.2       </td><td>setosa    </td></tr>\n",
       "\t<tr><td>5.4       </td><td> 1.2451711</td><td>1.7       </td><td>0.4       </td><td>setosa    </td></tr>\n",
       "</tbody>\n",
       "</table>\n"
      ],
      "text/latex": [
       "\\begin{tabular}{r|lllll}\n",
       " Sepal.Length & Sepal.Width & Petal.Length & Petal.Width & Species\\\\\n",
       "\\hline\n",
       "\t 5.1        &  0.1899414 & 1.4        & 0.2        & setosa    \\\\\n",
       "\t 4.9        & -1.1290958 & 1.4        & 0.2        & setosa    \\\\\n",
       "\t 4.7        & -0.6014810 & 1.3        & 0.2        & setosa    \\\\\n",
       "\t 4.6        & -0.8652884 & 1.5        & 0.2        & setosa    \\\\\n",
       "\t 5.0        &  0.4537488 & 1.4        & 0.2        & setosa    \\\\\n",
       "\t 5.4        &  1.2451711 & 1.7        & 0.4        & setosa    \\\\\n",
       "\\end{tabular}\n"
      ],
      "text/markdown": [
       "\n",
       "| Sepal.Length | Sepal.Width | Petal.Length | Petal.Width | Species |\n",
       "|---|---|---|---|---|\n",
       "| 5.1        |  0.1899414 | 1.4        | 0.2        | setosa     |\n",
       "| 4.9        | -1.1290958 | 1.4        | 0.2        | setosa     |\n",
       "| 4.7        | -0.6014810 | 1.3        | 0.2        | setosa     |\n",
       "| 4.6        | -0.8652884 | 1.5        | 0.2        | setosa     |\n",
       "| 5.0        |  0.4537488 | 1.4        | 0.2        | setosa     |\n",
       "| 5.4        |  1.2451711 | 1.7        | 0.4        | setosa     |\n",
       "\n"
      ],
      "text/plain": [
       "  Sepal.Length Sepal.Width Petal.Length Petal.Width Species\n",
       "1 5.1           0.1899414  1.4          0.2         setosa \n",
       "2 4.9          -1.1290958  1.4          0.2         setosa \n",
       "3 4.7          -0.6014810  1.3          0.2         setosa \n",
       "4 4.6          -0.8652884  1.5          0.2         setosa \n",
       "5 5.0           0.4537488  1.4          0.2         setosa \n",
       "6 5.4           1.2451711  1.7          0.4         setosa "
      ]
     },
     "metadata": {},
     "output_type": "display_data"
    }
   ],
   "source": [
    "#Normalize Sepal.Width for each Species\n",
    "iris %>% \n",
    "group_by(Species) %>% \n",
    "mutate(Sepal.Width = (Sepal.Width - mean(Sepal.Width)) / sd(Sepal.Width)) %>%\n",
    "head()"
   ]
  },
  {
   "cell_type": "markdown",
   "metadata": {},
   "source": [
    "# Arguments"
   ]
  },
  {
   "cell_type": "markdown",
   "metadata": {},
   "source": [
    "### `.data`\t"
   ]
  },
  {
   "cell_type": "markdown",
   "metadata": {},
   "source": [
    "A data frame, data frame extension (e.g. a tibble), or a lazy data frame (e.g. from dbplyr or dtplyr). See Methods, below, for more details."
   ]
  },
  {
   "cell_type": "markdown",
   "metadata": {},
   "source": [
    "### `...`"
   ]
  },
  {
   "cell_type": "markdown",
   "metadata": {},
   "source": [
    "\t\n",
    "<data-masking> Name-value pairs. The name gives the name of the column in the output.\n",
    "\n",
    "The value can be:\n",
    "\n",
    "* A vector of length 1, which will be recycled to the correct length.\n",
    "\n",
    "* A vector the same length as the current group (or the whole data frame if ungrouped).\n",
    "\n",
    "* NULL, to remove the column.\n",
    "\n",
    "* A data frame or tibble, to create multiple columns in the output."
   ]
  },
  {
   "cell_type": "code",
   "execution_count": 4,
   "metadata": {},
   "outputs": [
    {
     "data": {
      "text/html": [
       "<table>\n",
       "<thead><tr><th scope=col>name</th><th scope=col>level</th></tr></thead>\n",
       "<tbody>\n",
       "\t<tr><td>VN Pikachu</td><td>31        </td></tr>\n",
       "\t<tr><td>Tank Cao  </td><td>34        </td></tr>\n",
       "\t<tr><td>quachtinh </td><td>33        </td></tr>\n",
       "</tbody>\n",
       "</table>\n"
      ],
      "text/latex": [
       "\\begin{tabular}{r|ll}\n",
       " name & level\\\\\n",
       "\\hline\n",
       "\t VN Pikachu & 31        \\\\\n",
       "\t Tank Cao   & 34        \\\\\n",
       "\t quachtinh  & 33        \\\\\n",
       "\\end{tabular}\n"
      ],
      "text/markdown": [
       "\n",
       "| name | level |\n",
       "|---|---|\n",
       "| VN Pikachu | 31         |\n",
       "| Tank Cao   | 34         |\n",
       "| quachtinh  | 33         |\n",
       "\n"
      ],
      "text/plain": [
       "  name       level\n",
       "1 VN Pikachu 31   \n",
       "2 Tank Cao   34   \n",
       "3 quachtinh  33   "
      ]
     },
     "metadata": {},
     "output_type": "display_data"
    }
   ],
   "source": [
    "clan <- data.frame(\n",
    "    name = c('VN Pikachu', 'Tank Cao', 'quachtinh'),\n",
    "    level = c(31, 34, 33)\n",
    ")\n",
    "\n",
    "clan"
   ]
  },
  {
   "cell_type": "markdown",
   "metadata": {},
   "source": [
    "a vector of length 1"
   ]
  },
  {
   "cell_type": "code",
   "execution_count": 9,
   "metadata": {},
   "outputs": [
    {
     "data": {
      "text/html": [
       "<table>\n",
       "<thead><tr><th scope=col>name</th><th scope=col>level</th><th scope=col>sex</th></tr></thead>\n",
       "<tbody>\n",
       "\t<tr><td>VN Pikachu</td><td>31        </td><td>Male      </td></tr>\n",
       "\t<tr><td>Tank Cao  </td><td>34        </td><td>Male      </td></tr>\n",
       "\t<tr><td>quachtinh </td><td>33        </td><td>Male      </td></tr>\n",
       "</tbody>\n",
       "</table>\n"
      ],
      "text/latex": [
       "\\begin{tabular}{r|lll}\n",
       " name & level & sex\\\\\n",
       "\\hline\n",
       "\t VN Pikachu & 31         & Male      \\\\\n",
       "\t Tank Cao   & 34         & Male      \\\\\n",
       "\t quachtinh  & 33         & Male      \\\\\n",
       "\\end{tabular}\n"
      ],
      "text/markdown": [
       "\n",
       "| name | level | sex |\n",
       "|---|---|---|\n",
       "| VN Pikachu | 31         | Male       |\n",
       "| Tank Cao   | 34         | Male       |\n",
       "| quachtinh  | 33         | Male       |\n",
       "\n"
      ],
      "text/plain": [
       "  name       level sex \n",
       "1 VN Pikachu 31    Male\n",
       "2 Tank Cao   34    Male\n",
       "3 quachtinh  33    Male"
      ]
     },
     "metadata": {},
     "output_type": "display_data"
    }
   ],
   "source": [
    "clan %>% mutate(sex = 'Male')"
   ]
  },
  {
   "cell_type": "markdown",
   "metadata": {},
   "source": [
    "A vector the same length as the current group (or the whole data frame if ungrouped)"
   ]
  },
  {
   "cell_type": "code",
   "execution_count": 7,
   "metadata": {},
   "outputs": [
    {
     "data": {
      "text/html": [
       "<table>\n",
       "<thead><tr><th scope=col>name</th><th scope=col>level</th><th scope=col>power</th></tr></thead>\n",
       "<tbody>\n",
       "\t<tr><td>VN Pikachu</td><td>31        </td><td>100       </td></tr>\n",
       "\t<tr><td>Tank Cao  </td><td>34        </td><td> 85       </td></tr>\n",
       "\t<tr><td>quachtinh </td><td>33        </td><td> 53       </td></tr>\n",
       "</tbody>\n",
       "</table>\n"
      ],
      "text/latex": [
       "\\begin{tabular}{r|lll}\n",
       " name & level & power\\\\\n",
       "\\hline\n",
       "\t VN Pikachu & 31         & 100       \\\\\n",
       "\t Tank Cao   & 34         &  85       \\\\\n",
       "\t quachtinh  & 33         &  53       \\\\\n",
       "\\end{tabular}\n"
      ],
      "text/markdown": [
       "\n",
       "| name | level | power |\n",
       "|---|---|---|\n",
       "| VN Pikachu | 31         | 100        |\n",
       "| Tank Cao   | 34         |  85        |\n",
       "| quachtinh  | 33         |  53        |\n",
       "\n"
      ],
      "text/plain": [
       "  name       level power\n",
       "1 VN Pikachu 31    100  \n",
       "2 Tank Cao   34     85  \n",
       "3 quachtinh  33     53  "
      ]
     },
     "metadata": {},
     "output_type": "display_data"
    }
   ],
   "source": [
    "clan %>% mutate(power = c(100, 85, 53))"
   ]
  },
  {
   "cell_type": "code",
   "execution_count": 13,
   "metadata": {},
   "outputs": [
    {
     "data": {
      "text/html": [
       "<table>\n",
       "<thead><tr><th scope=col>name</th><th scope=col>level</th><th scope=col>value</th></tr></thead>\n",
       "<tbody>\n",
       "\t<tr><td>VN Pikachu</td><td>31        </td><td>3         </td></tr>\n",
       "\t<tr><td>Tank Cao  </td><td>34        </td><td>3         </td></tr>\n",
       "\t<tr><td>quachtinh </td><td>33        </td><td>3         </td></tr>\n",
       "</tbody>\n",
       "</table>\n"
      ],
      "text/latex": [
       "\\begin{tabular}{r|lll}\n",
       " name & level & value\\\\\n",
       "\\hline\n",
       "\t VN Pikachu & 31         & 3         \\\\\n",
       "\t Tank Cao   & 34         & 3         \\\\\n",
       "\t quachtinh  & 33         & 3         \\\\\n",
       "\\end{tabular}\n"
      ],
      "text/markdown": [
       "\n",
       "| name | level | value |\n",
       "|---|---|---|\n",
       "| VN Pikachu | 31         | 3          |\n",
       "| Tank Cao   | 34         | 3          |\n",
       "| quachtinh  | 33         | 3          |\n",
       "\n"
      ],
      "text/plain": [
       "  name       level value\n",
       "1 VN Pikachu 31    3    \n",
       "2 Tank Cao   34    3    \n",
       "3 quachtinh  33    3    "
      ]
     },
     "metadata": {},
     "output_type": "display_data"
    }
   ],
   "source": [
    "#level %/% 10 return a vector of length 3\n",
    "#think of it as value = clan$level %/% 10\n",
    "clan %>% mutate(value = level %/% 10) "
   ]
  },
  {
   "cell_type": "code",
   "execution_count": 8,
   "metadata": {},
   "outputs": [
    {
     "data": {
      "text/html": [
       "<table>\n",
       "<thead><tr><th scope=col>name</th></tr></thead>\n",
       "<tbody>\n",
       "\t<tr><td>VN Pikachu</td></tr>\n",
       "\t<tr><td>Tank Cao  </td></tr>\n",
       "\t<tr><td>quachtinh </td></tr>\n",
       "</tbody>\n",
       "</table>\n"
      ],
      "text/latex": [
       "\\begin{tabular}{r|l}\n",
       " name\\\\\n",
       "\\hline\n",
       "\t VN Pikachu\\\\\n",
       "\t Tank Cao  \\\\\n",
       "\t quachtinh \\\\\n",
       "\\end{tabular}\n"
      ],
      "text/markdown": [
       "\n",
       "| name |\n",
       "|---|\n",
       "| VN Pikachu |\n",
       "| Tank Cao   |\n",
       "| quachtinh  |\n",
       "\n"
      ],
      "text/plain": [
       "  name      \n",
       "1 VN Pikachu\n",
       "2 Tank Cao  \n",
       "3 quachtinh "
      ]
     },
     "metadata": {},
     "output_type": "display_data"
    }
   ],
   "source": [
    "#level = NULL to remove column level\n",
    "clan %>% mutate(level = NULL)"
   ]
  },
  {
   "cell_type": "code",
   "execution_count": null,
   "metadata": {},
   "outputs": [],
   "source": [
    "#A data frame or tibble, to create multiple columns in the output."
   ]
  }
 ],
 "metadata": {
  "kernelspec": {
   "display_name": "R",
   "language": "R",
   "name": "ir"
  },
  "language_info": {
   "codemirror_mode": "r",
   "file_extension": ".r",
   "mimetype": "text/x-r-source",
   "name": "R",
   "pygments_lexer": "r",
   "version": "4.0.3"
  }
 },
 "nbformat": 4,
 "nbformat_minor": 2
}
