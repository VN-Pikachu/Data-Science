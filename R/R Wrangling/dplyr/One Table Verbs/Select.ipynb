{
 "cells": [
  {
   "cell_type": "code",
   "execution_count": 6,
   "metadata": {},
   "outputs": [],
   "source": [
    "library(tidyverse)"
   ]
  },
  {
   "cell_type": "markdown",
   "metadata": {},
   "source": [
    "# Subset columns using their names and types"
   ]
  },
  {
   "cell_type": "markdown",
   "metadata": {},
   "source": [
    "## Overview of selection features"
   ]
  },
  {
   "cell_type": "markdown",
   "metadata": {},
   "source": [
    "Tidyverse selections implement a dialect of R where operators make it easy to select variables:\n",
    "\n",
    "* `:` for selecting a range of consecutive variables.\n",
    "\n",
    "* `!` for taking the complement of a set of variables.\n",
    "\n",
    "* `&` and `|` for selecting the intersection or the union of two sets of variables.\n",
    "\n",
    "* `c()` for combining selections.\n",
    "\n",
    "In addition, you can use **selection** helpers. Some helpers select specific columns:\n",
    "\n",
    "* `everything()`: Matches all variables.\n",
    "\n",
    "* `last_col()`: Select last variable, possibly with an offset.\n",
    "\n",
    "These helpers select variables by matching patterns in their names:\n",
    "\n",
    "* `starts_with()`: Starts with a prefix.\n",
    "\n",
    "* `ends_with()`: Ends with a suffix.\n",
    "\n",
    "* `contains()`: Contains a literal string.\n",
    "\n",
    "* `matches()`: Matches a regular expression.\n",
    "\n",
    "* `num_range()`: Matches a numerical range like x01, x02, x03.\n",
    "\n",
    "These helpers select variables from a **character vector**:\n",
    "\n",
    "* `all_of()`: Matches variable names in a character vector. All names must be present, otherwise an out-of-bounds error is thrown.\n",
    "\n",
    "* `any_of()`: Same as `all_of()`, except that no error is thrown for names that don't exist.\n",
    "\n",
    "This helper selects variables with a function:\n",
    "\n",
    "* `where()`: Applies a function to all variables and selects those for which the function returns TRUE."
   ]
  },
  {
   "cell_type": "markdown",
   "metadata": {},
   "source": [
    "```R\n",
    "select(.data, ...)\n",
    "```"
   ]
  },
  {
   "cell_type": "markdown",
   "metadata": {},
   "source": [
    "# Examples"
   ]
  },
  {
   "cell_type": "code",
   "execution_count": 11,
   "metadata": {},
   "outputs": [
    {
     "data": {
      "text/html": [
       "<table>\n",
       "<thead><tr><th scope=col>name</th><th scope=col>height</th><th scope=col>mass</th><th scope=col>hair_color</th><th scope=col>skin_color</th><th scope=col>eye_color</th><th scope=col>birth_year</th><th scope=col>sex</th><th scope=col>gender</th><th scope=col>homeworld</th><th scope=col>species</th><th scope=col>films</th><th scope=col>vehicles</th><th scope=col>starships</th></tr></thead>\n",
       "<tbody>\n",
       "\t<tr><td>Luke Skywalker                                                                                                             </td><td>172                                                                                                                        </td><td> 77                                                                                                                        </td><td>blond                                                                                                                      </td><td>fair                                                                                                                       </td><td>blue                                                                                                                       </td><td> 19.0                                                                                                                      </td><td>male                                                                                                                       </td><td>masculine                                                                                                                  </td><td>Tatooine                                                                                                                   </td><td>Human                                                                                                                      </td><td>The Empire Strikes Back, Revenge of the Sith    , Return of the Jedi     , A New Hope             , The Force Awakens      </td><td>Snowspeeder          , Imperial Speeder Bike                                                                               </td><td>X-wing          , Imperial shuttle                                                                                         </td></tr>\n",
       "\t<tr><td>C-3PO                                                                                                                                               </td><td>167                                                                                                                                                 </td><td> 75                                                                                                                                                 </td><td>NA                                                                                                                                                  </td><td>gold                                                                                                                                                </td><td>yellow                                                                                                                                              </td><td>112.0                                                                                                                                               </td><td>none                                                                                                                                                </td><td>masculine                                                                                                                                           </td><td>Tatooine                                                                                                                                            </td><td>Droid                                                                                                                                               </td><td>The Empire Strikes Back, Attack of the Clones   , The Phantom Menace     , Revenge of the Sith    , Return of the Jedi     , A New Hope             </td><td>                                                                                                                                                    </td><td>                                                                                                                                                    </td></tr>\n",
       "\t<tr><td>R2-D2                                                                                                                                                                        </td><td> 96                                                                                                                                                                          </td><td> 32                                                                                                                                                                          </td><td>NA                                                                                                                                                                           </td><td>white, blue                                                                                                                                                                  </td><td>red                                                                                                                                                                          </td><td> 33.0                                                                                                                                                                        </td><td>none                                                                                                                                                                         </td><td>masculine                                                                                                                                                                    </td><td>Naboo                                                                                                                                                                        </td><td>Droid                                                                                                                                                                        </td><td>The Empire Strikes Back, Attack of the Clones   , The Phantom Menace     , Revenge of the Sith    , Return of the Jedi     , A New Hope             , The Force Awakens      </td><td>                                                                                                                                                                             </td><td>                                                                                                                                                                             </td></tr>\n",
       "\t<tr><td>Darth Vader                                                                                       </td><td>202                                                                                               </td><td>136                                                                                               </td><td>none                                                                                              </td><td>white                                                                                             </td><td>yellow                                                                                            </td><td> 41.9                                                                                             </td><td>male                                                                                              </td><td>masculine                                                                                         </td><td>Tatooine                                                                                          </td><td>Human                                                                                             </td><td>The Empire Strikes Back, Revenge of the Sith    , Return of the Jedi     , A New Hope             </td><td>                                                                                                  </td><td>TIE Advanced x1                                                                                   </td></tr>\n",
       "\t<tr><td>Leia Organa                                                                                                                </td><td>150                                                                                                                        </td><td> 49                                                                                                                        </td><td>brown                                                                                                                      </td><td>light                                                                                                                      </td><td>brown                                                                                                                      </td><td> 19.0                                                                                                                      </td><td>female                                                                                                                     </td><td>feminine                                                                                                                   </td><td>Alderaan                                                                                                                   </td><td>Human                                                                                                                      </td><td>The Empire Strikes Back, Revenge of the Sith    , Return of the Jedi     , A New Hope             , The Force Awakens      </td><td>Imperial Speeder Bike                                                                                                      </td><td>                                                                                                                           </td></tr>\n",
       "\t<tr><td>Owen Lars                                                       </td><td>178                                                             </td><td>120                                                             </td><td>brown, grey                                                     </td><td>light                                                           </td><td>blue                                                            </td><td> 52.0                                                           </td><td>male                                                            </td><td>masculine                                                       </td><td>Tatooine                                                        </td><td>Human                                                           </td><td>Attack of the Clones, Revenge of the Sith , A New Hope          </td><td>                                                                </td><td>                                                                </td></tr>\n",
       "</tbody>\n",
       "</table>\n"
      ],
      "text/latex": [
       "\\begin{tabular}{r|llllllllllllll}\n",
       " name & height & mass & hair\\_color & skin\\_color & eye\\_color & birth\\_year & sex & gender & homeworld & species & films & vehicles & starships\\\\\n",
       "\\hline\n",
       "\t Luke Skywalker                                                                                                              & 172                                                                                                                         &  77                                                                                                                         & blond                                                                                                                       & fair                                                                                                                        & blue                                                                                                                        &  19.0                                                                                                                       & male                                                                                                                        & masculine                                                                                                                   & Tatooine                                                                                                                    & Human                                                                                                                       & The Empire Strikes Back, Revenge of the Sith    , Return of the Jedi     , A New Hope             , The Force Awakens       & Snowspeeder          , Imperial Speeder Bike                                                                                & X-wing          , Imperial shuttle                                                                                         \\\\\n",
       "\t C-3PO                                                                                                                                                & 167                                                                                                                                                  &  75                                                                                                                                                  & NA                                                                                                                                                   & gold                                                                                                                                                 & yellow                                                                                                                                               & 112.0                                                                                                                                                & none                                                                                                                                                 & masculine                                                                                                                                            & Tatooine                                                                                                                                             & Droid                                                                                                                                                & The Empire Strikes Back, Attack of the Clones   , The Phantom Menace     , Revenge of the Sith    , Return of the Jedi     , A New Hope              &                                                                                                                                                      &                                                                                                                                                     \\\\\n",
       "\t R2-D2                                                                                                                                                                         &  96                                                                                                                                                                           &  32                                                                                                                                                                           & NA                                                                                                                                                                            & white, blue                                                                                                                                                                   & red                                                                                                                                                                           &  33.0                                                                                                                                                                         & none                                                                                                                                                                          & masculine                                                                                                                                                                     & Naboo                                                                                                                                                                         & Droid                                                                                                                                                                         & The Empire Strikes Back, Attack of the Clones   , The Phantom Menace     , Revenge of the Sith    , Return of the Jedi     , A New Hope             , The Force Awakens       &                                                                                                                                                                               &                                                                                                                                                                              \\\\\n",
       "\t Darth Vader                                                                                        & 202                                                                                                & 136                                                                                                & none                                                                                               & white                                                                                              & yellow                                                                                             &  41.9                                                                                              & male                                                                                               & masculine                                                                                          & Tatooine                                                                                           & Human                                                                                              & The Empire Strikes Back, Revenge of the Sith    , Return of the Jedi     , A New Hope              &                                                                                                    & TIE Advanced x1                                                                                   \\\\\n",
       "\t Leia Organa                                                                                                                 & 150                                                                                                                         &  49                                                                                                                         & brown                                                                                                                       & light                                                                                                                       & brown                                                                                                                       &  19.0                                                                                                                       & female                                                                                                                      & feminine                                                                                                                    & Alderaan                                                                                                                    & Human                                                                                                                       & The Empire Strikes Back, Revenge of the Sith    , Return of the Jedi     , A New Hope             , The Force Awakens       & Imperial Speeder Bike                                                                                                       &                                                                                                                            \\\\\n",
       "\t Owen Lars                                                        & 178                                                              & 120                                                              & brown, grey                                                      & light                                                            & blue                                                             &  52.0                                                            & male                                                             & masculine                                                        & Tatooine                                                         & Human                                                            & Attack of the Clones, Revenge of the Sith , A New Hope           &                                                                  &                                                                 \\\\\n",
       "\\end{tabular}\n"
      ],
      "text/markdown": [
       "\n",
       "| name | height | mass | hair_color | skin_color | eye_color | birth_year | sex | gender | homeworld | species | films | vehicles | starships |\n",
       "|---|---|---|---|---|---|---|---|---|---|---|---|---|---|\n",
       "| Luke Skywalker                                                                                                              | 172                                                                                                                         |  77                                                                                                                         | blond                                                                                                                       | fair                                                                                                                        | blue                                                                                                                        |  19.0                                                                                                                       | male                                                                                                                        | masculine                                                                                                                   | Tatooine                                                                                                                    | Human                                                                                                                       | The Empire Strikes Back, Revenge of the Sith    , Return of the Jedi     , A New Hope             , The Force Awakens       | Snowspeeder          , Imperial Speeder Bike                                                                                | X-wing          , Imperial shuttle                                                                                          |\n",
       "| C-3PO                                                                                                                                                | 167                                                                                                                                                  |  75                                                                                                                                                  | NA                                                                                                                                                   | gold                                                                                                                                                 | yellow                                                                                                                                               | 112.0                                                                                                                                                | none                                                                                                                                                 | masculine                                                                                                                                            | Tatooine                                                                                                                                             | Droid                                                                                                                                                | The Empire Strikes Back, Attack of the Clones   , The Phantom Menace     , Revenge of the Sith    , Return of the Jedi     , A New Hope              |                                                                                                                                                      |                                                                                                                                                      |\n",
       "| R2-D2                                                                                                                                                                         |  96                                                                                                                                                                           |  32                                                                                                                                                                           | NA                                                                                                                                                                            | white, blue                                                                                                                                                                   | red                                                                                                                                                                           |  33.0                                                                                                                                                                         | none                                                                                                                                                                          | masculine                                                                                                                                                                     | Naboo                                                                                                                                                                         | Droid                                                                                                                                                                         | The Empire Strikes Back, Attack of the Clones   , The Phantom Menace     , Revenge of the Sith    , Return of the Jedi     , A New Hope             , The Force Awakens       |                                                                                                                                                                               |                                                                                                                                                                               |\n",
       "| Darth Vader                                                                                        | 202                                                                                                | 136                                                                                                | none                                                                                               | white                                                                                              | yellow                                                                                             |  41.9                                                                                              | male                                                                                               | masculine                                                                                          | Tatooine                                                                                           | Human                                                                                              | The Empire Strikes Back, Revenge of the Sith    , Return of the Jedi     , A New Hope              |                                                                                                    | TIE Advanced x1                                                                                    |\n",
       "| Leia Organa                                                                                                                 | 150                                                                                                                         |  49                                                                                                                         | brown                                                                                                                       | light                                                                                                                       | brown                                                                                                                       |  19.0                                                                                                                       | female                                                                                                                      | feminine                                                                                                                    | Alderaan                                                                                                                    | Human                                                                                                                       | The Empire Strikes Back, Revenge of the Sith    , Return of the Jedi     , A New Hope             , The Force Awakens       | Imperial Speeder Bike                                                                                                       |                                                                                                                             |\n",
       "| Owen Lars                                                        | 178                                                              | 120                                                              | brown, grey                                                      | light                                                            | blue                                                             |  52.0                                                            | male                                                             | masculine                                                        | Tatooine                                                         | Human                                                            | Attack of the Clones, Revenge of the Sith , A New Hope           |                                                                  |                                                                  |\n",
       "\n"
      ],
      "text/plain": [
       "  name           height mass hair_color  skin_color  eye_color birth_year\n",
       "1 Luke Skywalker 172     77  blond       fair        blue       19.0     \n",
       "2 C-3PO          167     75  NA          gold        yellow    112.0     \n",
       "3 R2-D2           96     32  NA          white, blue red        33.0     \n",
       "4 Darth Vader    202    136  none        white       yellow     41.9     \n",
       "5 Leia Organa    150     49  brown       light       brown      19.0     \n",
       "6 Owen Lars      178    120  brown, grey light       blue       52.0     \n",
       "  sex    gender    homeworld species\n",
       "1 male   masculine Tatooine  Human  \n",
       "2 none   masculine Tatooine  Droid  \n",
       "3 none   masculine Naboo     Droid  \n",
       "4 male   masculine Tatooine  Human  \n",
       "5 female feminine  Alderaan  Human  \n",
       "6 male   masculine Tatooine  Human  \n",
       "  films                                                                                                                                                                        \n",
       "1 The Empire Strikes Back, Revenge of the Sith    , Return of the Jedi     , A New Hope             , The Force Awakens                                                        \n",
       "2 The Empire Strikes Back, Attack of the Clones   , The Phantom Menace     , Revenge of the Sith    , Return of the Jedi     , A New Hope                                      \n",
       "3 The Empire Strikes Back, Attack of the Clones   , The Phantom Menace     , Revenge of the Sith    , Return of the Jedi     , A New Hope             , The Force Awakens      \n",
       "4 The Empire Strikes Back, Revenge of the Sith    , Return of the Jedi     , A New Hope                                                                                        \n",
       "5 The Empire Strikes Back, Revenge of the Sith    , Return of the Jedi     , A New Hope             , The Force Awakens                                                        \n",
       "6 Attack of the Clones, Revenge of the Sith , A New Hope                                                                                                                       \n",
       "  vehicles                                    \n",
       "1 Snowspeeder          , Imperial Speeder Bike\n",
       "2                                             \n",
       "3                                             \n",
       "4                                             \n",
       "5 Imperial Speeder Bike                       \n",
       "6                                             \n",
       "  starships                         \n",
       "1 X-wing          , Imperial shuttle\n",
       "2                                   \n",
       "3                                   \n",
       "4 TIE Advanced x1                   \n",
       "5                                   \n",
       "6                                   "
      ]
     },
     "metadata": {},
     "output_type": "display_data"
    }
   ],
   "source": [
    "head(starwars)"
   ]
  },
  {
   "cell_type": "markdown",
   "metadata": {},
   "source": [
    "select variable by name"
   ]
  },
  {
   "cell_type": "code",
   "execution_count": 10,
   "metadata": {},
   "outputs": [
    {
     "data": {
      "text/html": [
       "<table>\n",
       "<thead><tr><th scope=col>Sepal.Length</th><th scope=col>Sepal.Width</th></tr></thead>\n",
       "<tbody>\n",
       "\t<tr><td>5.1</td><td>3.5</td></tr>\n",
       "\t<tr><td>4.9</td><td>3.0</td></tr>\n",
       "\t<tr><td>4.7</td><td>3.2</td></tr>\n",
       "\t<tr><td>4.6</td><td>3.1</td></tr>\n",
       "\t<tr><td>5.0</td><td>3.6</td></tr>\n",
       "\t<tr><td>5.4</td><td>3.9</td></tr>\n",
       "</tbody>\n",
       "</table>\n"
      ],
      "text/latex": [
       "\\begin{tabular}{r|ll}\n",
       " Sepal.Length & Sepal.Width\\\\\n",
       "\\hline\n",
       "\t 5.1 & 3.5\\\\\n",
       "\t 4.9 & 3.0\\\\\n",
       "\t 4.7 & 3.2\\\\\n",
       "\t 4.6 & 3.1\\\\\n",
       "\t 5.0 & 3.6\\\\\n",
       "\t 5.4 & 3.9\\\\\n",
       "\\end{tabular}\n"
      ],
      "text/markdown": [
       "\n",
       "| Sepal.Length | Sepal.Width |\n",
       "|---|---|\n",
       "| 5.1 | 3.5 |\n",
       "| 4.9 | 3.0 |\n",
       "| 4.7 | 3.2 |\n",
       "| 4.6 | 3.1 |\n",
       "| 5.0 | 3.6 |\n",
       "| 5.4 | 3.9 |\n",
       "\n"
      ],
      "text/plain": [
       "  Sepal.Length Sepal.Width\n",
       "1 5.1          3.5        \n",
       "2 4.9          3.0        \n",
       "3 4.7          3.2        \n",
       "4 4.6          3.1        \n",
       "5 5.0          3.6        \n",
       "6 5.4          3.9        "
      ]
     },
     "metadata": {},
     "output_type": "display_data"
    }
   ],
   "source": [
    "#Selcect column Sepal.Length and Sepal.Width\n",
    "iris %>% select(Sepal.Length, Sepal.Width) %>% head()"
   ]
  },
  {
   "cell_type": "code",
   "execution_count": 13,
   "metadata": {},
   "outputs": [
    {
     "data": {
      "text/html": [
       "<table>\n",
       "<thead><tr><th scope=col>Sepal.Width</th><th scope=col>Petal.Length</th><th scope=col>Petal.Width</th><th scope=col>Species</th><th scope=col>name</th><th scope=col>value</th></tr></thead>\n",
       "<tbody>\n",
       "\t<tr><td>3.5         </td><td>1.4         </td><td>0.2         </td><td>setosa      </td><td>Sepal.Length</td><td>5.1         </td></tr>\n",
       "\t<tr><td>3.0         </td><td>1.4         </td><td>0.2         </td><td>setosa      </td><td>Sepal.Length</td><td>4.9         </td></tr>\n",
       "\t<tr><td>3.2         </td><td>1.3         </td><td>0.2         </td><td>setosa      </td><td>Sepal.Length</td><td>4.7         </td></tr>\n",
       "\t<tr><td>3.1         </td><td>1.5         </td><td>0.2         </td><td>setosa      </td><td>Sepal.Length</td><td>4.6         </td></tr>\n",
       "\t<tr><td>3.6         </td><td>1.4         </td><td>0.2         </td><td>setosa      </td><td>Sepal.Length</td><td>5.0         </td></tr>\n",
       "\t<tr><td>3.9         </td><td>1.7         </td><td>0.4         </td><td>setosa      </td><td>Sepal.Length</td><td>5.4         </td></tr>\n",
       "</tbody>\n",
       "</table>\n"
      ],
      "text/latex": [
       "\\begin{tabular}{r|llllll}\n",
       " Sepal.Width & Petal.Length & Petal.Width & Species & name & value\\\\\n",
       "\\hline\n",
       "\t 3.5          & 1.4          & 0.2          & setosa       & Sepal.Length & 5.1         \\\\\n",
       "\t 3.0          & 1.4          & 0.2          & setosa       & Sepal.Length & 4.9         \\\\\n",
       "\t 3.2          & 1.3          & 0.2          & setosa       & Sepal.Length & 4.7         \\\\\n",
       "\t 3.1          & 1.5          & 0.2          & setosa       & Sepal.Length & 4.6         \\\\\n",
       "\t 3.6          & 1.4          & 0.2          & setosa       & Sepal.Length & 5.0         \\\\\n",
       "\t 3.9          & 1.7          & 0.4          & setosa       & Sepal.Length & 5.4         \\\\\n",
       "\\end{tabular}\n"
      ],
      "text/markdown": [
       "\n",
       "| Sepal.Width | Petal.Length | Petal.Width | Species | name | value |\n",
       "|---|---|---|---|---|---|\n",
       "| 3.5          | 1.4          | 0.2          | setosa       | Sepal.Length | 5.1          |\n",
       "| 3.0          | 1.4          | 0.2          | setosa       | Sepal.Length | 4.9          |\n",
       "| 3.2          | 1.3          | 0.2          | setosa       | Sepal.Length | 4.7          |\n",
       "| 3.1          | 1.5          | 0.2          | setosa       | Sepal.Length | 4.6          |\n",
       "| 3.6          | 1.4          | 0.2          | setosa       | Sepal.Length | 5.0          |\n",
       "| 3.9          | 1.7          | 0.4          | setosa       | Sepal.Length | 5.4          |\n",
       "\n"
      ],
      "text/plain": [
       "  Sepal.Width Petal.Length Petal.Width Species name         value\n",
       "1 3.5         1.4          0.2         setosa  Sepal.Length 5.1  \n",
       "2 3.0         1.4          0.2         setosa  Sepal.Length 4.9  \n",
       "3 3.2         1.3          0.2         setosa  Sepal.Length 4.7  \n",
       "4 3.1         1.5          0.2         setosa  Sepal.Length 4.6  \n",
       "5 3.6         1.4          0.2         setosa  Sepal.Length 5.0  \n",
       "6 3.9         1.7          0.4         setosa  Sepal.Length 5.4  "
      ]
     },
     "metadata": {},
     "output_type": "display_data"
    }
   ],
   "source": [
    "iris %>% pivot_longer(Sepal.Length) %>% head()"
   ]
  },
  {
   "cell_type": "code",
   "execution_count": 14,
   "metadata": {},
   "outputs": [
    {
     "data": {
      "text/html": [
       "<table>\n",
       "<thead><tr><th scope=col>Petal.Length</th><th scope=col>Petal.Width</th><th scope=col>Species</th><th scope=col>name</th><th scope=col>value</th></tr></thead>\n",
       "<tbody>\n",
       "\t<tr><td>1.4         </td><td>0.2         </td><td>setosa      </td><td>Sepal.Length</td><td>5.1         </td></tr>\n",
       "\t<tr><td>1.4         </td><td>0.2         </td><td>setosa      </td><td>Sepal.Width </td><td>3.5         </td></tr>\n",
       "\t<tr><td>1.4         </td><td>0.2         </td><td>setosa      </td><td>Sepal.Length</td><td>4.9         </td></tr>\n",
       "\t<tr><td>1.4         </td><td>0.2         </td><td>setosa      </td><td>Sepal.Width </td><td>3.0         </td></tr>\n",
       "\t<tr><td>1.3         </td><td>0.2         </td><td>setosa      </td><td>Sepal.Length</td><td>4.7         </td></tr>\n",
       "\t<tr><td>1.3         </td><td>0.2         </td><td>setosa      </td><td>Sepal.Width </td><td>3.2         </td></tr>\n",
       "</tbody>\n",
       "</table>\n"
      ],
      "text/latex": [
       "\\begin{tabular}{r|lllll}\n",
       " Petal.Length & Petal.Width & Species & name & value\\\\\n",
       "\\hline\n",
       "\t 1.4          & 0.2          & setosa       & Sepal.Length & 5.1         \\\\\n",
       "\t 1.4          & 0.2          & setosa       & Sepal.Width  & 3.5         \\\\\n",
       "\t 1.4          & 0.2          & setosa       & Sepal.Length & 4.9         \\\\\n",
       "\t 1.4          & 0.2          & setosa       & Sepal.Width  & 3.0         \\\\\n",
       "\t 1.3          & 0.2          & setosa       & Sepal.Length & 4.7         \\\\\n",
       "\t 1.3          & 0.2          & setosa       & Sepal.Width  & 3.2         \\\\\n",
       "\\end{tabular}\n"
      ],
      "text/markdown": [
       "\n",
       "| Petal.Length | Petal.Width | Species | name | value |\n",
       "|---|---|---|---|---|\n",
       "| 1.4          | 0.2          | setosa       | Sepal.Length | 5.1          |\n",
       "| 1.4          | 0.2          | setosa       | Sepal.Width  | 3.5          |\n",
       "| 1.4          | 0.2          | setosa       | Sepal.Length | 4.9          |\n",
       "| 1.4          | 0.2          | setosa       | Sepal.Width  | 3.0          |\n",
       "| 1.3          | 0.2          | setosa       | Sepal.Length | 4.7          |\n",
       "| 1.3          | 0.2          | setosa       | Sepal.Width  | 3.2          |\n",
       "\n"
      ],
      "text/plain": [
       "  Petal.Length Petal.Width Species name         value\n",
       "1 1.4          0.2         setosa  Sepal.Length 5.1  \n",
       "2 1.4          0.2         setosa  Sepal.Width  3.5  \n",
       "3 1.4          0.2         setosa  Sepal.Length 4.9  \n",
       "4 1.4          0.2         setosa  Sepal.Width  3.0  \n",
       "5 1.3          0.2         setosa  Sepal.Length 4.7  \n",
       "6 1.3          0.2         setosa  Sepal.Width  3.2  "
      ]
     },
     "metadata": {},
     "output_type": "display_data"
    }
   ],
   "source": [
    "iris %>% pivot_longer(c(Sepal.Length, Sepal.Width)) %>% head()"
   ]
  },
  {
   "cell_type": "markdown",
   "metadata": {},
   "source": [
    "### Operators"
   ]
  },
  {
   "cell_type": "markdown",
   "metadata": {},
   "source": [
    "The `:` operator selects a range of consecutive variables:"
   ]
  },
  {
   "cell_type": "code",
   "execution_count": 16,
   "metadata": {},
   "outputs": [
    {
     "data": {
      "text/html": [
       "<table>\n",
       "<thead><tr><th scope=col>height</th><th scope=col>mass</th><th scope=col>hair_color</th><th scope=col>skin_color</th><th scope=col>eye_color</th><th scope=col>birth_year</th><th scope=col>sex</th></tr></thead>\n",
       "<tbody>\n",
       "\t<tr><td>172        </td><td> 77        </td><td>blond      </td><td>fair       </td><td>blue       </td><td> 19.0      </td><td>male       </td></tr>\n",
       "\t<tr><td>167        </td><td> 75        </td><td>NA         </td><td>gold       </td><td>yellow     </td><td>112.0      </td><td>none       </td></tr>\n",
       "\t<tr><td> 96        </td><td> 32        </td><td>NA         </td><td>white, blue</td><td>red        </td><td> 33.0      </td><td>none       </td></tr>\n",
       "\t<tr><td>202        </td><td>136        </td><td>none       </td><td>white      </td><td>yellow     </td><td> 41.9      </td><td>male       </td></tr>\n",
       "\t<tr><td>150        </td><td> 49        </td><td>brown      </td><td>light      </td><td>brown      </td><td> 19.0      </td><td>female     </td></tr>\n",
       "\t<tr><td>178        </td><td>120        </td><td>brown, grey</td><td>light      </td><td>blue       </td><td> 52.0      </td><td>male       </td></tr>\n",
       "</tbody>\n",
       "</table>\n"
      ],
      "text/latex": [
       "\\begin{tabular}{r|lllllll}\n",
       " height & mass & hair\\_color & skin\\_color & eye\\_color & birth\\_year & sex\\\\\n",
       "\\hline\n",
       "\t 172         &  77         & blond       & fair        & blue        &  19.0       & male       \\\\\n",
       "\t 167         &  75         & NA          & gold        & yellow      & 112.0       & none       \\\\\n",
       "\t  96         &  32         & NA          & white, blue & red         &  33.0       & none       \\\\\n",
       "\t 202         & 136         & none        & white       & yellow      &  41.9       & male       \\\\\n",
       "\t 150         &  49         & brown       & light       & brown       &  19.0       & female     \\\\\n",
       "\t 178         & 120         & brown, grey & light       & blue        &  52.0       & male       \\\\\n",
       "\\end{tabular}\n"
      ],
      "text/markdown": [
       "\n",
       "| height | mass | hair_color | skin_color | eye_color | birth_year | sex |\n",
       "|---|---|---|---|---|---|---|\n",
       "| 172         |  77         | blond       | fair        | blue        |  19.0       | male        |\n",
       "| 167         |  75         | NA          | gold        | yellow      | 112.0       | none        |\n",
       "|  96         |  32         | NA          | white, blue | red         |  33.0       | none        |\n",
       "| 202         | 136         | none        | white       | yellow      |  41.9       | male        |\n",
       "| 150         |  49         | brown       | light       | brown       |  19.0       | female      |\n",
       "| 178         | 120         | brown, grey | light       | blue        |  52.0       | male        |\n",
       "\n"
      ],
      "text/plain": [
       "  height mass hair_color  skin_color  eye_color birth_year sex   \n",
       "1 172     77  blond       fair        blue       19.0      male  \n",
       "2 167     75  NA          gold        yellow    112.0      none  \n",
       "3  96     32  NA          white, blue red        33.0      none  \n",
       "4 202    136  none        white       yellow     41.9      male  \n",
       "5 150     49  brown       light       brown      19.0      female\n",
       "6 178    120  brown, grey light       blue       52.0      male  "
      ]
     },
     "metadata": {},
     "output_type": "display_data"
    }
   ],
   "source": [
    "#select columns from `height` to `sex`\n",
    "starwars %>% select(height:sex) %>% head()"
   ]
  },
  {
   "cell_type": "markdown",
   "metadata": {},
   "source": [
    "The `!` operator negates a selection:"
   ]
  },
  {
   "cell_type": "code",
   "execution_count": 17,
   "metadata": {},
   "outputs": [
    {
     "data": {
      "text/html": [
       "<table>\n",
       "<thead><tr><th scope=col>name</th><th scope=col>gender</th><th scope=col>homeworld</th><th scope=col>species</th><th scope=col>films</th><th scope=col>vehicles</th><th scope=col>starships</th></tr></thead>\n",
       "<tbody>\n",
       "\t<tr><td>Luke Skywalker                                                                                                             </td><td>masculine                                                                                                                  </td><td>Tatooine                                                                                                                   </td><td>Human                                                                                                                      </td><td>The Empire Strikes Back, Revenge of the Sith    , Return of the Jedi     , A New Hope             , The Force Awakens      </td><td>Snowspeeder          , Imperial Speeder Bike                                                                               </td><td>X-wing          , Imperial shuttle                                                                                         </td></tr>\n",
       "\t<tr><td>C-3PO                                                                                                                                               </td><td>masculine                                                                                                                                           </td><td>Tatooine                                                                                                                                            </td><td>Droid                                                                                                                                               </td><td>The Empire Strikes Back, Attack of the Clones   , The Phantom Menace     , Revenge of the Sith    , Return of the Jedi     , A New Hope             </td><td>                                                                                                                                                    </td><td>                                                                                                                                                    </td></tr>\n",
       "\t<tr><td>R2-D2                                                                                                                                                                        </td><td>masculine                                                                                                                                                                    </td><td>Naboo                                                                                                                                                                        </td><td>Droid                                                                                                                                                                        </td><td>The Empire Strikes Back, Attack of the Clones   , The Phantom Menace     , Revenge of the Sith    , Return of the Jedi     , A New Hope             , The Force Awakens      </td><td>                                                                                                                                                                             </td><td>                                                                                                                                                                             </td></tr>\n",
       "\t<tr><td>Darth Vader                                                                                       </td><td>masculine                                                                                         </td><td>Tatooine                                                                                          </td><td>Human                                                                                             </td><td>The Empire Strikes Back, Revenge of the Sith    , Return of the Jedi     , A New Hope             </td><td>                                                                                                  </td><td>TIE Advanced x1                                                                                   </td></tr>\n",
       "\t<tr><td>Leia Organa                                                                                                                </td><td>feminine                                                                                                                   </td><td>Alderaan                                                                                                                   </td><td>Human                                                                                                                      </td><td>The Empire Strikes Back, Revenge of the Sith    , Return of the Jedi     , A New Hope             , The Force Awakens      </td><td>Imperial Speeder Bike                                                                                                      </td><td>                                                                                                                           </td></tr>\n",
       "\t<tr><td>Owen Lars                                                       </td><td>masculine                                                       </td><td>Tatooine                                                        </td><td>Human                                                           </td><td>Attack of the Clones, Revenge of the Sith , A New Hope          </td><td>                                                                </td><td>                                                                </td></tr>\n",
       "</tbody>\n",
       "</table>\n"
      ],
      "text/latex": [
       "\\begin{tabular}{r|lllllll}\n",
       " name & gender & homeworld & species & films & vehicles & starships\\\\\n",
       "\\hline\n",
       "\t Luke Skywalker                                                                                                              & masculine                                                                                                                   & Tatooine                                                                                                                    & Human                                                                                                                       & The Empire Strikes Back, Revenge of the Sith    , Return of the Jedi     , A New Hope             , The Force Awakens       & Snowspeeder          , Imperial Speeder Bike                                                                                & X-wing          , Imperial shuttle                                                                                         \\\\\n",
       "\t C-3PO                                                                                                                                                & masculine                                                                                                                                            & Tatooine                                                                                                                                             & Droid                                                                                                                                                & The Empire Strikes Back, Attack of the Clones   , The Phantom Menace     , Revenge of the Sith    , Return of the Jedi     , A New Hope              &                                                                                                                                                      &                                                                                                                                                     \\\\\n",
       "\t R2-D2                                                                                                                                                                         & masculine                                                                                                                                                                     & Naboo                                                                                                                                                                         & Droid                                                                                                                                                                         & The Empire Strikes Back, Attack of the Clones   , The Phantom Menace     , Revenge of the Sith    , Return of the Jedi     , A New Hope             , The Force Awakens       &                                                                                                                                                                               &                                                                                                                                                                              \\\\\n",
       "\t Darth Vader                                                                                        & masculine                                                                                          & Tatooine                                                                                           & Human                                                                                              & The Empire Strikes Back, Revenge of the Sith    , Return of the Jedi     , A New Hope              &                                                                                                    & TIE Advanced x1                                                                                   \\\\\n",
       "\t Leia Organa                                                                                                                 & feminine                                                                                                                    & Alderaan                                                                                                                    & Human                                                                                                                       & The Empire Strikes Back, Revenge of the Sith    , Return of the Jedi     , A New Hope             , The Force Awakens       & Imperial Speeder Bike                                                                                                       &                                                                                                                            \\\\\n",
       "\t Owen Lars                                                        & masculine                                                        & Tatooine                                                         & Human                                                            & Attack of the Clones, Revenge of the Sith , A New Hope           &                                                                  &                                                                 \\\\\n",
       "\\end{tabular}\n"
      ],
      "text/markdown": [
       "\n",
       "| name | gender | homeworld | species | films | vehicles | starships |\n",
       "|---|---|---|---|---|---|---|\n",
       "| Luke Skywalker                                                                                                              | masculine                                                                                                                   | Tatooine                                                                                                                    | Human                                                                                                                       | The Empire Strikes Back, Revenge of the Sith    , Return of the Jedi     , A New Hope             , The Force Awakens       | Snowspeeder          , Imperial Speeder Bike                                                                                | X-wing          , Imperial shuttle                                                                                          |\n",
       "| C-3PO                                                                                                                                                | masculine                                                                                                                                            | Tatooine                                                                                                                                             | Droid                                                                                                                                                | The Empire Strikes Back, Attack of the Clones   , The Phantom Menace     , Revenge of the Sith    , Return of the Jedi     , A New Hope              |                                                                                                                                                      |                                                                                                                                                      |\n",
       "| R2-D2                                                                                                                                                                         | masculine                                                                                                                                                                     | Naboo                                                                                                                                                                         | Droid                                                                                                                                                                         | The Empire Strikes Back, Attack of the Clones   , The Phantom Menace     , Revenge of the Sith    , Return of the Jedi     , A New Hope             , The Force Awakens       |                                                                                                                                                                               |                                                                                                                                                                               |\n",
       "| Darth Vader                                                                                        | masculine                                                                                          | Tatooine                                                                                           | Human                                                                                              | The Empire Strikes Back, Revenge of the Sith    , Return of the Jedi     , A New Hope              |                                                                                                    | TIE Advanced x1                                                                                    |\n",
       "| Leia Organa                                                                                                                 | feminine                                                                                                                    | Alderaan                                                                                                                    | Human                                                                                                                       | The Empire Strikes Back, Revenge of the Sith    , Return of the Jedi     , A New Hope             , The Force Awakens       | Imperial Speeder Bike                                                                                                       |                                                                                                                             |\n",
       "| Owen Lars                                                        | masculine                                                        | Tatooine                                                         | Human                                                            | Attack of the Clones, Revenge of the Sith , A New Hope           |                                                                  |                                                                  |\n",
       "\n"
      ],
      "text/plain": [
       "  name           gender    homeworld species\n",
       "1 Luke Skywalker masculine Tatooine  Human  \n",
       "2 C-3PO          masculine Tatooine  Droid  \n",
       "3 R2-D2          masculine Naboo     Droid  \n",
       "4 Darth Vader    masculine Tatooine  Human  \n",
       "5 Leia Organa    feminine  Alderaan  Human  \n",
       "6 Owen Lars      masculine Tatooine  Human  \n",
       "  films                                                                                                                                                                        \n",
       "1 The Empire Strikes Back, Revenge of the Sith    , Return of the Jedi     , A New Hope             , The Force Awakens                                                        \n",
       "2 The Empire Strikes Back, Attack of the Clones   , The Phantom Menace     , Revenge of the Sith    , Return of the Jedi     , A New Hope                                      \n",
       "3 The Empire Strikes Back, Attack of the Clones   , The Phantom Menace     , Revenge of the Sith    , Return of the Jedi     , A New Hope             , The Force Awakens      \n",
       "4 The Empire Strikes Back, Revenge of the Sith    , Return of the Jedi     , A New Hope                                                                                        \n",
       "5 The Empire Strikes Back, Revenge of the Sith    , Return of the Jedi     , A New Hope             , The Force Awakens                                                        \n",
       "6 Attack of the Clones, Revenge of the Sith , A New Hope                                                                                                                       \n",
       "  vehicles                                    \n",
       "1 Snowspeeder          , Imperial Speeder Bike\n",
       "2                                             \n",
       "3                                             \n",
       "4                                             \n",
       "5 Imperial Speeder Bike                       \n",
       "6                                             \n",
       "  starships                         \n",
       "1 X-wing          , Imperial shuttle\n",
       "2                                   \n",
       "3                                   \n",
       "4 TIE Advanced x1                   \n",
       "5                                   \n",
       "6                                   "
      ]
     },
     "metadata": {},
     "output_type": "display_data"
    }
   ],
   "source": [
    "#select columns that are not from `height` to `sex`\n",
    "starwars %>% select(!height:sex) %>% head()"
   ]
  },
  {
   "cell_type": "code",
   "execution_count": 19,
   "metadata": {},
   "outputs": [
    {
     "data": {
      "text/html": [
       "<table>\n",
       "<thead><tr><th scope=col>Sepal.Length</th><th scope=col>Petal.Length</th><th scope=col>Species</th></tr></thead>\n",
       "<tbody>\n",
       "\t<tr><td>5.1   </td><td>1.4   </td><td>setosa</td></tr>\n",
       "\t<tr><td>4.9   </td><td>1.4   </td><td>setosa</td></tr>\n",
       "\t<tr><td>4.7   </td><td>1.3   </td><td>setosa</td></tr>\n",
       "\t<tr><td>4.6   </td><td>1.5   </td><td>setosa</td></tr>\n",
       "\t<tr><td>5.0   </td><td>1.4   </td><td>setosa</td></tr>\n",
       "\t<tr><td>5.4   </td><td>1.7   </td><td>setosa</td></tr>\n",
       "</tbody>\n",
       "</table>\n"
      ],
      "text/latex": [
       "\\begin{tabular}{r|lll}\n",
       " Sepal.Length & Petal.Length & Species\\\\\n",
       "\\hline\n",
       "\t 5.1    & 1.4    & setosa\\\\\n",
       "\t 4.9    & 1.4    & setosa\\\\\n",
       "\t 4.7    & 1.3    & setosa\\\\\n",
       "\t 4.6    & 1.5    & setosa\\\\\n",
       "\t 5.0    & 1.4    & setosa\\\\\n",
       "\t 5.4    & 1.7    & setosa\\\\\n",
       "\\end{tabular}\n"
      ],
      "text/markdown": [
       "\n",
       "| Sepal.Length | Petal.Length | Species |\n",
       "|---|---|---|\n",
       "| 5.1    | 1.4    | setosa |\n",
       "| 4.9    | 1.4    | setosa |\n",
       "| 4.7    | 1.3    | setosa |\n",
       "| 4.6    | 1.5    | setosa |\n",
       "| 5.0    | 1.4    | setosa |\n",
       "| 5.4    | 1.7    | setosa |\n",
       "\n"
      ],
      "text/plain": [
       "  Sepal.Length Petal.Length Species\n",
       "1 5.1          1.4          setosa \n",
       "2 4.9          1.4          setosa \n",
       "3 4.7          1.3          setosa \n",
       "4 4.6          1.5          setosa \n",
       "5 5.0          1.4          setosa \n",
       "6 5.4          1.7          setosa "
      ]
     },
     "metadata": {},
     "output_type": "display_data"
    }
   ],
   "source": [
    "#select columns whose names are not Sepal.Width, Petal.Width\n",
    "iris %>% select(!c(Sepal.Width, Petal.Width)) %>% head()"
   ]
  },
  {
   "cell_type": "code",
   "execution_count": 20,
   "metadata": {},
   "outputs": [
    {
     "data": {
      "text/html": [
       "<table>\n",
       "<thead><tr><th scope=col>Sepal.Length</th><th scope=col>Petal.Length</th><th scope=col>Species</th></tr></thead>\n",
       "<tbody>\n",
       "\t<tr><td>5.1   </td><td>1.4   </td><td>setosa</td></tr>\n",
       "\t<tr><td>4.9   </td><td>1.4   </td><td>setosa</td></tr>\n",
       "\t<tr><td>4.7   </td><td>1.3   </td><td>setosa</td></tr>\n",
       "\t<tr><td>4.6   </td><td>1.5   </td><td>setosa</td></tr>\n",
       "\t<tr><td>5.0   </td><td>1.4   </td><td>setosa</td></tr>\n",
       "\t<tr><td>5.4   </td><td>1.7   </td><td>setosa</td></tr>\n",
       "</tbody>\n",
       "</table>\n"
      ],
      "text/latex": [
       "\\begin{tabular}{r|lll}\n",
       " Sepal.Length & Petal.Length & Species\\\\\n",
       "\\hline\n",
       "\t 5.1    & 1.4    & setosa\\\\\n",
       "\t 4.9    & 1.4    & setosa\\\\\n",
       "\t 4.7    & 1.3    & setosa\\\\\n",
       "\t 4.6    & 1.5    & setosa\\\\\n",
       "\t 5.0    & 1.4    & setosa\\\\\n",
       "\t 5.4    & 1.7    & setosa\\\\\n",
       "\\end{tabular}\n"
      ],
      "text/markdown": [
       "\n",
       "| Sepal.Length | Petal.Length | Species |\n",
       "|---|---|---|\n",
       "| 5.1    | 1.4    | setosa |\n",
       "| 4.9    | 1.4    | setosa |\n",
       "| 4.7    | 1.3    | setosa |\n",
       "| 4.6    | 1.5    | setosa |\n",
       "| 5.0    | 1.4    | setosa |\n",
       "| 5.4    | 1.7    | setosa |\n",
       "\n"
      ],
      "text/plain": [
       "  Sepal.Length Petal.Length Species\n",
       "1 5.1          1.4          setosa \n",
       "2 4.9          1.4          setosa \n",
       "3 4.7          1.3          setosa \n",
       "4 4.6          1.5          setosa \n",
       "5 5.0          1.4          setosa \n",
       "6 5.4          1.7          setosa "
      ]
     },
     "metadata": {},
     "output_type": "display_data"
    }
   ],
   "source": [
    "#select columns whose name do not end with 'Width'\n",
    "iris %>% select(!ends_with('Width')) %>% head()"
   ]
  },
  {
   "cell_type": "markdown",
   "metadata": {},
   "source": [
    "`&` and `|` take the intersection or the union of two selections:"
   ]
  },
  {
   "cell_type": "code",
   "execution_count": 22,
   "metadata": {},
   "outputs": [
    {
     "data": {
      "text/html": [
       "<table>\n",
       "<thead><tr><th scope=col>Sepal.Length</th></tr></thead>\n",
       "<tbody>\n",
       "\t<tr><td>5.1</td></tr>\n",
       "\t<tr><td>4.9</td></tr>\n",
       "\t<tr><td>4.7</td></tr>\n",
       "\t<tr><td>4.6</td></tr>\n",
       "\t<tr><td>5.0</td></tr>\n",
       "\t<tr><td>5.4</td></tr>\n",
       "</tbody>\n",
       "</table>\n"
      ],
      "text/latex": [
       "\\begin{tabular}{r|l}\n",
       " Sepal.Length\\\\\n",
       "\\hline\n",
       "\t 5.1\\\\\n",
       "\t 4.9\\\\\n",
       "\t 4.7\\\\\n",
       "\t 4.6\\\\\n",
       "\t 5.0\\\\\n",
       "\t 5.4\\\\\n",
       "\\end{tabular}\n"
      ],
      "text/markdown": [
       "\n",
       "| Sepal.Length |\n",
       "|---|\n",
       "| 5.1 |\n",
       "| 4.9 |\n",
       "| 4.7 |\n",
       "| 4.6 |\n",
       "| 5.0 |\n",
       "| 5.4 |\n",
       "\n"
      ],
      "text/plain": [
       "  Sepal.Length\n",
       "1 5.1         \n",
       "2 4.9         \n",
       "3 4.7         \n",
       "4 4.6         \n",
       "5 5.0         \n",
       "6 5.4         "
      ]
     },
     "metadata": {},
     "output_type": "display_data"
    }
   ],
   "source": [
    "#Select column having name start with 'Sepal' and ends with 'Length'\n",
    "iris %>% select(starts_with('Sepal') & ends_with('Length')) %>% head()"
   ]
  },
  {
   "cell_type": "code",
   "execution_count": 4,
   "metadata": {},
   "outputs": [
    {
     "data": {
      "text/html": [
       "<table>\n",
       "<thead><tr><th scope=col>Sepal.Length</th><th scope=col>Sepal.Width</th><th scope=col>Petal.Length</th><th scope=col>Petal.Width</th></tr></thead>\n",
       "<tbody>\n",
       "\t<tr><td>5.1</td><td>3.5</td><td>1.4</td><td>0.2</td></tr>\n",
       "\t<tr><td>4.9</td><td>3.0</td><td>1.4</td><td>0.2</td></tr>\n",
       "\t<tr><td>4.7</td><td>3.2</td><td>1.3</td><td>0.2</td></tr>\n",
       "\t<tr><td>4.6</td><td>3.1</td><td>1.5</td><td>0.2</td></tr>\n",
       "\t<tr><td>5.0</td><td>3.6</td><td>1.4</td><td>0.2</td></tr>\n",
       "\t<tr><td>5.4</td><td>3.9</td><td>1.7</td><td>0.4</td></tr>\n",
       "</tbody>\n",
       "</table>\n"
      ],
      "text/latex": [
       "\\begin{tabular}{r|llll}\n",
       " Sepal.Length & Sepal.Width & Petal.Length & Petal.Width\\\\\n",
       "\\hline\n",
       "\t 5.1 & 3.5 & 1.4 & 0.2\\\\\n",
       "\t 4.9 & 3.0 & 1.4 & 0.2\\\\\n",
       "\t 4.7 & 3.2 & 1.3 & 0.2\\\\\n",
       "\t 4.6 & 3.1 & 1.5 & 0.2\\\\\n",
       "\t 5.0 & 3.6 & 1.4 & 0.2\\\\\n",
       "\t 5.4 & 3.9 & 1.7 & 0.4\\\\\n",
       "\\end{tabular}\n"
      ],
      "text/markdown": [
       "\n",
       "| Sepal.Length | Sepal.Width | Petal.Length | Petal.Width |\n",
       "|---|---|---|---|\n",
       "| 5.1 | 3.5 | 1.4 | 0.2 |\n",
       "| 4.9 | 3.0 | 1.4 | 0.2 |\n",
       "| 4.7 | 3.2 | 1.3 | 0.2 |\n",
       "| 4.6 | 3.1 | 1.5 | 0.2 |\n",
       "| 5.0 | 3.6 | 1.4 | 0.2 |\n",
       "| 5.4 | 3.9 | 1.7 | 0.4 |\n",
       "\n"
      ],
      "text/plain": [
       "  Sepal.Length Sepal.Width Petal.Length Petal.Width\n",
       "1 5.1          3.5         1.4          0.2        \n",
       "2 4.9          3.0         1.4          0.2        \n",
       "3 4.7          3.2         1.3          0.2        \n",
       "4 4.6          3.1         1.5          0.2        \n",
       "5 5.0          3.6         1.4          0.2        \n",
       "6 5.4          3.9         1.7          0.4        "
      ]
     },
     "metadata": {},
     "output_type": "display_data"
    }
   ],
   "source": [
    "#select numeric columns\n",
    "iris %>% select(where(is.numeric)) %>% head()"
   ]
  },
  {
   "cell_type": "markdown",
   "metadata": {},
   "source": [
    "# Arguments"
   ]
  },
  {
   "cell_type": "markdown",
   "metadata": {},
   "source": [
    "### `...`\t"
   ]
  },
  {
   "cell_type": "markdown",
   "metadata": {},
   "source": [
    "`<tidy-select>` One or more unquoted expressions separated by commas. Variable names can be used as if they were positions in the data frame, so expressions like `x:y` can be used to select a range of variables"
   ]
  },
  {
   "cell_type": "code",
   "execution_count": 8,
   "metadata": {},
   "outputs": [
    {
     "data": {
      "text/html": [
       "<table>\n",
       "<thead><tr><th scope=col>Sepal.Length</th><th scope=col>Petal.Length</th><th scope=col>Species</th></tr></thead>\n",
       "<tbody>\n",
       "\t<tr><td>5.1   </td><td>1.4   </td><td>setosa</td></tr>\n",
       "\t<tr><td>4.9   </td><td>1.4   </td><td>setosa</td></tr>\n",
       "\t<tr><td>4.7   </td><td>1.3   </td><td>setosa</td></tr>\n",
       "\t<tr><td>4.6   </td><td>1.5   </td><td>setosa</td></tr>\n",
       "\t<tr><td>5.0   </td><td>1.4   </td><td>setosa</td></tr>\n",
       "\t<tr><td>5.4   </td><td>1.7   </td><td>setosa</td></tr>\n",
       "</tbody>\n",
       "</table>\n"
      ],
      "text/latex": [
       "\\begin{tabular}{r|lll}\n",
       " Sepal.Length & Petal.Length & Species\\\\\n",
       "\\hline\n",
       "\t 5.1    & 1.4    & setosa\\\\\n",
       "\t 4.9    & 1.4    & setosa\\\\\n",
       "\t 4.7    & 1.3    & setosa\\\\\n",
       "\t 4.6    & 1.5    & setosa\\\\\n",
       "\t 5.0    & 1.4    & setosa\\\\\n",
       "\t 5.4    & 1.7    & setosa\\\\\n",
       "\\end{tabular}\n"
      ],
      "text/markdown": [
       "\n",
       "| Sepal.Length | Petal.Length | Species |\n",
       "|---|---|---|\n",
       "| 5.1    | 1.4    | setosa |\n",
       "| 4.9    | 1.4    | setosa |\n",
       "| 4.7    | 1.3    | setosa |\n",
       "| 4.6    | 1.5    | setosa |\n",
       "| 5.0    | 1.4    | setosa |\n",
       "| 5.4    | 1.7    | setosa |\n",
       "\n"
      ],
      "text/plain": [
       "  Sepal.Length Petal.Length Species\n",
       "1 5.1          1.4          setosa \n",
       "2 4.9          1.4          setosa \n",
       "3 4.7          1.3          setosa \n",
       "4 4.6          1.5          setosa \n",
       "5 5.0          1.4          setosa \n",
       "6 5.4          1.7          setosa "
      ]
     },
     "metadata": {},
     "output_type": "display_data"
    }
   ],
   "source": [
    "#select columns having name ends with 'length' and column Species\n",
    "iris %>% select(ends_with('Length'), Species) %>% head()"
   ]
  },
  {
   "cell_type": "code",
   "execution_count": null,
   "metadata": {},
   "outputs": [],
   "source": []
  }
 ],
 "metadata": {
  "kernelspec": {
   "display_name": "R",
   "language": "R",
   "name": "ir"
  },
  "language_info": {
   "codemirror_mode": "r",
   "file_extension": ".r",
   "mimetype": "text/x-r-source",
   "name": "R",
   "pygments_lexer": "r",
   "version": "4.0.3"
  }
 },
 "nbformat": 4,
 "nbformat_minor": 2
}
