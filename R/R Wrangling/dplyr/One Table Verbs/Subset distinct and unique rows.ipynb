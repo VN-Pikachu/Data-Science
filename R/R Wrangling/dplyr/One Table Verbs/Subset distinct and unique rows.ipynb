{
 "cells": [
  {
   "cell_type": "code",
   "execution_count": 2,
   "metadata": {},
   "outputs": [],
   "source": [
    "library(tidyverse)"
   ]
  },
  {
   "cell_type": "markdown",
   "metadata": {},
   "source": [
    "In python, use **`DataFrame.drop_duplicates()`**\n"
   ]
  },
  {
   "cell_type": "markdown",
   "metadata": {},
   "source": [
    "# Arrange rows by column values"
   ]
  },
  {
   "cell_type": "markdown",
   "metadata": {},
   "source": [
    "Select only unique/distinct rows from a data frame. This is similar to unique.data.frame() but considerably faster.\n",
    "```R\n",
    "distinct(.data, ..., .keep_all = FALSE)\n",
    "```"
   ]
  },
  {
   "cell_type": "markdown",
   "metadata": {},
   "source": [
    "# Examples"
   ]
  },
  {
   "cell_type": "code",
   "execution_count": 17,
   "metadata": {},
   "outputs": [
    {
     "data": {
      "text/html": [
       "<table>\n",
       "<thead><tr><th scope=col>name</th><th scope=col>clan</th><th scope=col>level</th></tr></thead>\n",
       "<tbody>\n",
       "\t<tr><td>VN Pikachu  </td><td>VNC         </td><td>31          </td></tr>\n",
       "\t<tr><td>VN Pikachu  </td><td>VN          </td><td>31          </td></tr>\n",
       "\t<tr><td>VN Pikachu  </td><td>VNC         </td><td>31          </td></tr>\n",
       "\t<tr><td>VN Wanie    </td><td>VN          </td><td>33          </td></tr>\n",
       "\t<tr><td>Bac giang vn</td><td>VNC         </td><td>34          </td></tr>\n",
       "</tbody>\n",
       "</table>\n"
      ],
      "text/latex": [
       "\\begin{tabular}{r|lll}\n",
       " name & clan & level\\\\\n",
       "\\hline\n",
       "\t VN Pikachu   & VNC          & 31          \\\\\n",
       "\t VN Pikachu   & VN           & 31          \\\\\n",
       "\t VN Pikachu   & VNC          & 31          \\\\\n",
       "\t VN Wanie     & VN           & 33          \\\\\n",
       "\t Bac giang vn & VNC          & 34          \\\\\n",
       "\\end{tabular}\n"
      ],
      "text/markdown": [
       "\n",
       "| name | clan | level |\n",
       "|---|---|---|\n",
       "| VN Pikachu   | VNC          | 31           |\n",
       "| VN Pikachu   | VN           | 31           |\n",
       "| VN Pikachu   | VNC          | 31           |\n",
       "| VN Wanie     | VN           | 33           |\n",
       "| Bac giang vn | VNC          | 34           |\n",
       "\n"
      ],
      "text/plain": [
       "  name         clan level\n",
       "1 VN Pikachu   VNC  31   \n",
       "2 VN Pikachu   VN   31   \n",
       "3 VN Pikachu   VNC  31   \n",
       "4 VN Wanie     VN   33   \n",
       "5 Bac giang vn VNC  34   "
      ]
     },
     "metadata": {},
     "output_type": "display_data"
    }
   ],
   "source": [
    "players <- data.frame(\n",
    "    name = c('VN Pikachu', 'VN Pikachu', 'VN Pikachu', 'VN Wanie', 'Bac giang vn'),\n",
    "    clan = c('VNC', 'VN', 'VNC', 'VN', 'VNC'),\n",
    "    level = c(31, 31, 31, 33, 34)\n",
    ")\n",
    "\n",
    "players"
   ]
  },
  {
   "cell_type": "code",
   "execution_count": 18,
   "metadata": {},
   "outputs": [
    {
     "data": {
      "text/html": [
       "<table>\n",
       "<thead><tr><th scope=col>name</th><th scope=col>clan</th><th scope=col>level</th></tr></thead>\n",
       "<tbody>\n",
       "\t<tr><td>VN Pikachu  </td><td>VNC         </td><td>31          </td></tr>\n",
       "\t<tr><td>VN Pikachu  </td><td>VN          </td><td>31          </td></tr>\n",
       "\t<tr><td>VN Wanie    </td><td>VN          </td><td>33          </td></tr>\n",
       "\t<tr><td>Bac giang vn</td><td>VNC         </td><td>34          </td></tr>\n",
       "</tbody>\n",
       "</table>\n"
      ],
      "text/latex": [
       "\\begin{tabular}{r|lll}\n",
       " name & clan & level\\\\\n",
       "\\hline\n",
       "\t VN Pikachu   & VNC          & 31          \\\\\n",
       "\t VN Pikachu   & VN           & 31          \\\\\n",
       "\t VN Wanie     & VN           & 33          \\\\\n",
       "\t Bac giang vn & VNC          & 34          \\\\\n",
       "\\end{tabular}\n"
      ],
      "text/markdown": [
       "\n",
       "| name | clan | level |\n",
       "|---|---|---|\n",
       "| VN Pikachu   | VNC          | 31           |\n",
       "| VN Pikachu   | VN           | 31           |\n",
       "| VN Wanie     | VN           | 33           |\n",
       "| Bac giang vn | VNC          | 34           |\n",
       "\n"
      ],
      "text/plain": [
       "  name         clan level\n",
       "1 VN Pikachu   VNC  31   \n",
       "2 VN Pikachu   VN   31   \n",
       "3 VN Wanie     VN   33   \n",
       "4 Bac giang vn VNC  34   "
      ]
     },
     "metadata": {},
     "output_type": "display_data"
    }
   ],
   "source": [
    "#select distinct row from `players`\n",
    "distinct(players)\n",
    "#equivalent\n",
    "#players %>% distinct()"
   ]
  },
  {
   "cell_type": "code",
   "execution_count": 19,
   "metadata": {},
   "outputs": [
    {
     "data": {
      "text/html": [
       "<table>\n",
       "<thead><tr><th scope=col>name</th></tr></thead>\n",
       "<tbody>\n",
       "\t<tr><td>VN Pikachu  </td></tr>\n",
       "\t<tr><td>VN Wanie    </td></tr>\n",
       "\t<tr><td>Bac giang vn</td></tr>\n",
       "</tbody>\n",
       "</table>\n"
      ],
      "text/latex": [
       "\\begin{tabular}{r|l}\n",
       " name\\\\\n",
       "\\hline\n",
       "\t VN Pikachu  \\\\\n",
       "\t VN Wanie    \\\\\n",
       "\t Bac giang vn\\\\\n",
       "\\end{tabular}\n"
      ],
      "text/markdown": [
       "\n",
       "| name |\n",
       "|---|\n",
       "| VN Pikachu   |\n",
       "| VN Wanie     |\n",
       "| Bac giang vn |\n",
       "\n"
      ],
      "text/plain": [
       "  name        \n",
       "1 VN Pikachu  \n",
       "2 VN Wanie    \n",
       "3 Bac giang vn"
      ]
     },
     "metadata": {},
     "output_type": "display_data"
    }
   ],
   "source": [
    "#Select distinct values from column `players$name`\n",
    "distinct(players, name)\n",
    "#equivalent\n",
    "#players %>% distinct(name)"
   ]
  },
  {
   "cell_type": "code",
   "execution_count": 20,
   "metadata": {},
   "outputs": [
    {
     "data": {
      "text/html": [
       "<table>\n",
       "<thead><tr><th scope=col>name</th><th scope=col>clan</th><th scope=col>level</th></tr></thead>\n",
       "<tbody>\n",
       "\t<tr><td>VN Pikachu  </td><td>VNC         </td><td>31          </td></tr>\n",
       "\t<tr><td>VN Wanie    </td><td>VN          </td><td>33          </td></tr>\n",
       "\t<tr><td>Bac giang vn</td><td>VNC         </td><td>34          </td></tr>\n",
       "</tbody>\n",
       "</table>\n"
      ],
      "text/latex": [
       "\\begin{tabular}{r|lll}\n",
       " name & clan & level\\\\\n",
       "\\hline\n",
       "\t VN Pikachu   & VNC          & 31          \\\\\n",
       "\t VN Wanie     & VN           & 33          \\\\\n",
       "\t Bac giang vn & VNC          & 34          \\\\\n",
       "\\end{tabular}\n"
      ],
      "text/markdown": [
       "\n",
       "| name | clan | level |\n",
       "|---|---|---|\n",
       "| VN Pikachu   | VNC          | 31           |\n",
       "| VN Wanie     | VN           | 33           |\n",
       "| Bac giang vn | VNC          | 34           |\n",
       "\n"
      ],
      "text/plain": [
       "  name         clan level\n",
       "1 VN Pikachu   VNC  31   \n",
       "2 VN Wanie     VN   33   \n",
       "3 Bac giang vn VNC  34   "
      ]
     },
     "metadata": {},
     "output_type": "display_data"
    }
   ],
   "source": [
    "#Select rows that have distinct values from column `players$name` \n",
    "distinct(players, name, .keep_all = T)"
   ]
  },
  {
   "cell_type": "markdown",
   "metadata": {},
   "source": [
    "You can also use `distinct` on computed variables"
   ]
  },
  {
   "cell_type": "code",
   "execution_count": 21,
   "metadata": {},
   "outputs": [
    {
     "data": {
      "text/html": [
       "<table>\n",
       "<thead><tr><th scope=col>signature</th></tr></thead>\n",
       "<tbody>\n",
       "\t<tr><td>VN</td></tr>\n",
       "\t<tr><td>Ba</td></tr>\n",
       "</tbody>\n",
       "</table>\n"
      ],
      "text/latex": [
       "\\begin{tabular}{r|l}\n",
       " signature\\\\\n",
       "\\hline\n",
       "\t VN\\\\\n",
       "\t Ba\\\\\n",
       "\\end{tabular}\n"
      ],
      "text/markdown": [
       "\n",
       "| signature |\n",
       "|---|\n",
       "| VN |\n",
       "| Ba |\n",
       "\n"
      ],
      "text/plain": [
       "  signature\n",
       "1 VN       \n",
       "2 Ba       "
      ]
     },
     "metadata": {},
     "output_type": "display_data"
    }
   ],
   "source": [
    "#Select distinct first 2 characters of column `players$name`, and name the column result as `signature`\n",
    "distinct(players, signature = substr(name, 1, 2))"
   ]
  },
  {
   "cell_type": "markdown",
   "metadata": {},
   "source": [
    "You `across` to access `select()` style"
   ]
  },
  {
   "cell_type": "code",
   "execution_count": 23,
   "metadata": {},
   "outputs": [
    {
     "data": {
      "text/html": [
       "<table>\n",
       "<thead><tr><th scope=col>hair_color</th><th scope=col>skin_color</th><th scope=col>eye_color</th></tr></thead>\n",
       "<tbody>\n",
       "\t<tr><td>blond           </td><td>fair            </td><td>blue            </td></tr>\n",
       "\t<tr><td>NA              </td><td>gold            </td><td>yellow          </td></tr>\n",
       "\t<tr><td>NA              </td><td>white, blue     </td><td>red             </td></tr>\n",
       "\t<tr><td>none            </td><td>white           </td><td>yellow          </td></tr>\n",
       "\t<tr><td>brown           </td><td>light           </td><td>brown           </td></tr>\n",
       "\t<tr><td>brown, grey     </td><td>light           </td><td>blue            </td></tr>\n",
       "\t<tr><td>brown           </td><td>light           </td><td>blue            </td></tr>\n",
       "\t<tr><td>NA              </td><td>white, red      </td><td>red             </td></tr>\n",
       "\t<tr><td>black           </td><td>light           </td><td>brown           </td></tr>\n",
       "\t<tr><td>auburn, white   </td><td>fair            </td><td>blue-gray       </td></tr>\n",
       "\t<tr><td>auburn, grey    </td><td>fair            </td><td>blue            </td></tr>\n",
       "\t<tr><td>brown           </td><td>unknown         </td><td>blue            </td></tr>\n",
       "\t<tr><td>brown           </td><td>fair            </td><td>brown           </td></tr>\n",
       "\t<tr><td>NA              </td><td>green           </td><td>black           </td></tr>\n",
       "\t<tr><td>NA              </td><td>green-tan, brown</td><td>orange          </td></tr>\n",
       "\t<tr><td>brown           </td><td>fair            </td><td>hazel           </td></tr>\n",
       "\t<tr><td>brown           </td><td>fair            </td><td>blue            </td></tr>\n",
       "\t<tr><td>white           </td><td>green           </td><td>brown           </td></tr>\n",
       "\t<tr><td>grey            </td><td>pale            </td><td>yellow          </td></tr>\n",
       "\t<tr><td>black           </td><td>fair            </td><td>brown           </td></tr>\n",
       "\t<tr><td>none            </td><td>metal           </td><td>red             </td></tr>\n",
       "\t<tr><td>none            </td><td>green           </td><td>red             </td></tr>\n",
       "\t<tr><td>black           </td><td>dark            </td><td>brown           </td></tr>\n",
       "\t<tr><td>none            </td><td>light           </td><td>blue            </td></tr>\n",
       "\t<tr><td>none            </td><td>brown mottle    </td><td>orange          </td></tr>\n",
       "\t<tr><td>auburn          </td><td>fair            </td><td>blue            </td></tr>\n",
       "\t<tr><td>brown           </td><td>brown           </td><td>brown           </td></tr>\n",
       "\t<tr><td>none            </td><td>grey            </td><td>black           </td></tr>\n",
       "\t<tr><td>none            </td><td>mottled green   </td><td>red             </td></tr>\n",
       "\t<tr><td>none            </td><td>orange          </td><td>orange          </td></tr>\n",
       "\t<tr><td>...</td><td>...</td><td>...</td></tr>\n",
       "\t<tr><td>none               </td><td>blue, grey         </td><td>yellow             </td></tr>\n",
       "\t<tr><td>none               </td><td>white, blue        </td><td>black              </td></tr>\n",
       "\t<tr><td>none               </td><td>grey, green, yellow</td><td>orange             </td></tr>\n",
       "\t<tr><td>none               </td><td>dark               </td><td>brown              </td></tr>\n",
       "\t<tr><td>white              </td><td>pale               </td><td>yellow             </td></tr>\n",
       "\t<tr><td>none               </td><td>green              </td><td>black              </td></tr>\n",
       "\t<tr><td>black              </td><td>brown              </td><td>brown              </td></tr>\n",
       "\t<tr><td>none               </td><td>dark               </td><td>blue               </td></tr>\n",
       "\t<tr><td>none               </td><td>pale               </td><td>orange             </td></tr>\n",
       "\t<tr><td>none               </td><td>orange             </td><td>black              </td></tr>\n",
       "\t<tr><td>none               </td><td>blue               </td><td>blue               </td></tr>\n",
       "\t<tr><td>none               </td><td>green              </td><td>yellow             </td></tr>\n",
       "\t<tr><td>black              </td><td>yellow             </td><td>blue               </td></tr>\n",
       "\t<tr><td>white              </td><td>fair               </td><td>brown              </td></tr>\n",
       "\t<tr><td>black              </td><td>tan                </td><td>brown              </td></tr>\n",
       "\t<tr><td>blonde             </td><td>fair, green, yellow</td><td>yellow             </td></tr>\n",
       "\t<tr><td>none               </td><td>brown              </td><td>yellow             </td></tr>\n",
       "\t<tr><td>white              </td><td>fair               </td><td>blue               </td></tr>\n",
       "\t<tr><td>none               </td><td>grey, blue         </td><td>unknown            </td></tr>\n",
       "\t<tr><td>none               </td><td>silver, red        </td><td>red, blue          </td></tr>\n",
       "\t<tr><td>none               </td><td>green, grey        </td><td>unknown            </td></tr>\n",
       "\t<tr><td>none               </td><td>grey               </td><td>gold               </td></tr>\n",
       "\t<tr><td>none               </td><td>red, blue, white   </td><td>black              </td></tr>\n",
       "\t<tr><td>none               </td><td>brown, white       </td><td>green, yellow      </td></tr>\n",
       "\t<tr><td>brown              </td><td>brown              </td><td>blue               </td></tr>\n",
       "\t<tr><td>none               </td><td>pale               </td><td>white              </td></tr>\n",
       "\t<tr><td>black              </td><td>dark               </td><td>dark               </td></tr>\n",
       "\t<tr><td>brown              </td><td>light              </td><td>hazel              </td></tr>\n",
       "\t<tr><td>none               </td><td>none               </td><td>black              </td></tr>\n",
       "\t<tr><td>unknown            </td><td>unknown            </td><td>unknown            </td></tr>\n",
       "</tbody>\n",
       "</table>\n"
      ],
      "text/latex": [
       "\\begin{tabular}{r|lll}\n",
       " hair\\_color & skin\\_color & eye\\_color\\\\\n",
       "\\hline\n",
       "\t blond            & fair             & blue            \\\\\n",
       "\t NA               & gold             & yellow          \\\\\n",
       "\t NA               & white, blue      & red             \\\\\n",
       "\t none             & white            & yellow          \\\\\n",
       "\t brown            & light            & brown           \\\\\n",
       "\t brown, grey      & light            & blue            \\\\\n",
       "\t brown            & light            & blue            \\\\\n",
       "\t NA               & white, red       & red             \\\\\n",
       "\t black            & light            & brown           \\\\\n",
       "\t auburn, white    & fair             & blue-gray       \\\\\n",
       "\t auburn, grey     & fair             & blue            \\\\\n",
       "\t brown            & unknown          & blue            \\\\\n",
       "\t brown            & fair             & brown           \\\\\n",
       "\t NA               & green            & black           \\\\\n",
       "\t NA               & green-tan, brown & orange          \\\\\n",
       "\t brown            & fair             & hazel           \\\\\n",
       "\t brown            & fair             & blue            \\\\\n",
       "\t white            & green            & brown           \\\\\n",
       "\t grey             & pale             & yellow          \\\\\n",
       "\t black            & fair             & brown           \\\\\n",
       "\t none             & metal            & red             \\\\\n",
       "\t none             & green            & red             \\\\\n",
       "\t black            & dark             & brown           \\\\\n",
       "\t none             & light            & blue            \\\\\n",
       "\t none             & brown mottle     & orange          \\\\\n",
       "\t auburn           & fair             & blue            \\\\\n",
       "\t brown            & brown            & brown           \\\\\n",
       "\t none             & grey             & black           \\\\\n",
       "\t none             & mottled green    & red             \\\\\n",
       "\t none             & orange           & orange          \\\\\n",
       "\t ... & ... & ...\\\\\n",
       "\t none                & blue, grey          & yellow             \\\\\n",
       "\t none                & white, blue         & black              \\\\\n",
       "\t none                & grey, green, yellow & orange             \\\\\n",
       "\t none                & dark                & brown              \\\\\n",
       "\t white               & pale                & yellow             \\\\\n",
       "\t none                & green               & black              \\\\\n",
       "\t black               & brown               & brown              \\\\\n",
       "\t none                & dark                & blue               \\\\\n",
       "\t none                & pale                & orange             \\\\\n",
       "\t none                & orange              & black              \\\\\n",
       "\t none                & blue                & blue               \\\\\n",
       "\t none                & green               & yellow             \\\\\n",
       "\t black               & yellow              & blue               \\\\\n",
       "\t white               & fair                & brown              \\\\\n",
       "\t black               & tan                 & brown              \\\\\n",
       "\t blonde              & fair, green, yellow & yellow             \\\\\n",
       "\t none                & brown               & yellow             \\\\\n",
       "\t white               & fair                & blue               \\\\\n",
       "\t none                & grey, blue          & unknown            \\\\\n",
       "\t none                & silver, red         & red, blue          \\\\\n",
       "\t none                & green, grey         & unknown            \\\\\n",
       "\t none                & grey                & gold               \\\\\n",
       "\t none                & red, blue, white    & black              \\\\\n",
       "\t none                & brown, white        & green, yellow      \\\\\n",
       "\t brown               & brown               & blue               \\\\\n",
       "\t none                & pale                & white              \\\\\n",
       "\t black               & dark                & dark               \\\\\n",
       "\t brown               & light               & hazel              \\\\\n",
       "\t none                & none                & black              \\\\\n",
       "\t unknown             & unknown             & unknown            \\\\\n",
       "\\end{tabular}\n"
      ],
      "text/markdown": [
       "\n",
       "| hair_color | skin_color | eye_color |\n",
       "|---|---|---|\n",
       "| blond            | fair             | blue             |\n",
       "| NA               | gold             | yellow           |\n",
       "| NA               | white, blue      | red              |\n",
       "| none             | white            | yellow           |\n",
       "| brown            | light            | brown            |\n",
       "| brown, grey      | light            | blue             |\n",
       "| brown            | light            | blue             |\n",
       "| NA               | white, red       | red              |\n",
       "| black            | light            | brown            |\n",
       "| auburn, white    | fair             | blue-gray        |\n",
       "| auburn, grey     | fair             | blue             |\n",
       "| brown            | unknown          | blue             |\n",
       "| brown            | fair             | brown            |\n",
       "| NA               | green            | black            |\n",
       "| NA               | green-tan, brown | orange           |\n",
       "| brown            | fair             | hazel            |\n",
       "| brown            | fair             | blue             |\n",
       "| white            | green            | brown            |\n",
       "| grey             | pale             | yellow           |\n",
       "| black            | fair             | brown            |\n",
       "| none             | metal            | red              |\n",
       "| none             | green            | red              |\n",
       "| black            | dark             | brown            |\n",
       "| none             | light            | blue             |\n",
       "| none             | brown mottle     | orange           |\n",
       "| auburn           | fair             | blue             |\n",
       "| brown            | brown            | brown            |\n",
       "| none             | grey             | black            |\n",
       "| none             | mottled green    | red              |\n",
       "| none             | orange           | orange           |\n",
       "| ... | ... | ... |\n",
       "| none                | blue, grey          | yellow              |\n",
       "| none                | white, blue         | black               |\n",
       "| none                | grey, green, yellow | orange              |\n",
       "| none                | dark                | brown               |\n",
       "| white               | pale                | yellow              |\n",
       "| none                | green               | black               |\n",
       "| black               | brown               | brown               |\n",
       "| none                | dark                | blue                |\n",
       "| none                | pale                | orange              |\n",
       "| none                | orange              | black               |\n",
       "| none                | blue                | blue                |\n",
       "| none                | green               | yellow              |\n",
       "| black               | yellow              | blue                |\n",
       "| white               | fair                | brown               |\n",
       "| black               | tan                 | brown               |\n",
       "| blonde              | fair, green, yellow | yellow              |\n",
       "| none                | brown               | yellow              |\n",
       "| white               | fair                | blue                |\n",
       "| none                | grey, blue          | unknown             |\n",
       "| none                | silver, red         | red, blue           |\n",
       "| none                | green, grey         | unknown             |\n",
       "| none                | grey                | gold                |\n",
       "| none                | red, blue, white    | black               |\n",
       "| none                | brown, white        | green, yellow       |\n",
       "| brown               | brown               | blue                |\n",
       "| none                | pale                | white               |\n",
       "| black               | dark                | dark                |\n",
       "| brown               | light               | hazel               |\n",
       "| none                | none                | black               |\n",
       "| unknown             | unknown             | unknown             |\n",
       "\n"
      ],
      "text/plain": [
       "    hair_color    skin_color          eye_color    \n",
       "1   blond         fair                blue         \n",
       "2   NA            gold                yellow       \n",
       "3   NA            white, blue         red          \n",
       "4   none          white               yellow       \n",
       "5   brown         light               brown        \n",
       "6   brown, grey   light               blue         \n",
       "7   brown         light               blue         \n",
       "8   NA            white, red          red          \n",
       "9   black         light               brown        \n",
       "10  auburn, white fair                blue-gray    \n",
       "11  auburn, grey  fair                blue         \n",
       "12  brown         unknown             blue         \n",
       "13  brown         fair                brown        \n",
       "14  NA            green               black        \n",
       "15  NA            green-tan, brown    orange       \n",
       "16  brown         fair                hazel        \n",
       "17  brown         fair                blue         \n",
       "18  white         green               brown        \n",
       "19  grey          pale                yellow       \n",
       "20  black         fair                brown        \n",
       "21  none          metal               red          \n",
       "22  none          green               red          \n",
       "23  black         dark                brown        \n",
       "24  none          light               blue         \n",
       "25  none          brown mottle        orange       \n",
       "26  auburn        fair                blue         \n",
       "27  brown         brown               brown        \n",
       "28  none          grey                black        \n",
       "29  none          mottled green       red          \n",
       "30  none          orange              orange       \n",
       "... ...           ...                 ...          \n",
       "38  none          blue, grey          yellow       \n",
       "39  none          white, blue         black        \n",
       "40  none          grey, green, yellow orange       \n",
       "41  none          dark                brown        \n",
       "42  white         pale                yellow       \n",
       "43  none          green               black        \n",
       "44  black         brown               brown        \n",
       "45  none          dark                blue         \n",
       "46  none          pale                orange       \n",
       "47  none          orange              black        \n",
       "48  none          blue                blue         \n",
       "49  none          green               yellow       \n",
       "50  black         yellow              blue         \n",
       "51  white         fair                brown        \n",
       "52  black         tan                 brown        \n",
       "53  blonde        fair, green, yellow yellow       \n",
       "54  none          brown               yellow       \n",
       "55  white         fair                blue         \n",
       "56  none          grey, blue          unknown      \n",
       "57  none          silver, red         red, blue    \n",
       "58  none          green, grey         unknown      \n",
       "59  none          grey                gold         \n",
       "60  none          red, blue, white    black        \n",
       "61  none          brown, white        green, yellow\n",
       "62  brown         brown               blue         \n",
       "63  none          pale                white        \n",
       "64  black         dark                dark         \n",
       "65  brown         light               hazel        \n",
       "66  none          none                black        \n",
       "67  unknown       unknown             unknown      "
      ]
     },
     "metadata": {},
     "output_type": "display_data"
    }
   ],
   "source": [
    "starwars %>% distinct(across(contains(\"color\")))"
   ]
  },
  {
   "cell_type": "code",
   "execution_count": 26,
   "metadata": {},
   "outputs": [
    {
     "data": {
      "text/html": [
       "<table>\n",
       "<thead><tr><th scope=col>name</th><th scope=col>clan</th></tr></thead>\n",
       "<tbody>\n",
       "\t<tr><td>VN Pikachu  </td><td>VNC         </td></tr>\n",
       "\t<tr><td>VN Pikachu  </td><td>VN          </td></tr>\n",
       "\t<tr><td>VN Wanie    </td><td>VN          </td></tr>\n",
       "\t<tr><td>Bac giang vn</td><td>VNC         </td></tr>\n",
       "</tbody>\n",
       "</table>\n"
      ],
      "text/latex": [
       "\\begin{tabular}{r|ll}\n",
       " name & clan\\\\\n",
       "\\hline\n",
       "\t VN Pikachu   & VNC         \\\\\n",
       "\t VN Pikachu   & VN          \\\\\n",
       "\t VN Wanie     & VN          \\\\\n",
       "\t Bac giang vn & VNC         \\\\\n",
       "\\end{tabular}\n"
      ],
      "text/markdown": [
       "\n",
       "| name | clan |\n",
       "|---|---|\n",
       "| VN Pikachu   | VNC          |\n",
       "| VN Pikachu   | VN           |\n",
       "| VN Wanie     | VN           |\n",
       "| Bac giang vn | VNC          |\n",
       "\n"
      ],
      "text/plain": [
       "  name         clan\n",
       "1 VN Pikachu   VNC \n",
       "2 VN Pikachu   VN  \n",
       "3 VN Wanie     VN  \n",
       "4 Bac giang vn VNC "
      ]
     },
     "metadata": {},
     "output_type": "display_data"
    }
   ],
   "source": [
    "# Grouping -------------------------------------------------\n",
    "# The same behaviour applies for grouped data frames,\n",
    "# except that the grouping variables are always included\n",
    "\n",
    "players %>% group_by(clan) %>% distinct(name)"
   ]
  },
  {
   "cell_type": "markdown",
   "metadata": {},
   "source": [
    "# Arguments"
   ]
  },
  {
   "cell_type": "markdown",
   "metadata": {},
   "source": [
    "**`.data`**  \t\n",
    "A data frame, data frame extension (e.g. a tibble), or a lazy data frame (e.g. from dbplyr or dtplyr). See Methods, below, for more details.\n",
    "\n",
    "**`...`**  \t\n",
    "<data-masking> Optional variables to use when determining uniqueness. If there are multiple rows for a given combination of inputs, only the first row will be preserved. If omitted, will use all variables.\n",
    "\n",
    "**`.keep_all`**  \t\n",
    "If TRUE, keep all variables in .data. If a combination of ... is not distinct, this keeps the first row of values.\n",
    "\n",
    "Value"
   ]
  }
 ],
 "metadata": {
  "kernelspec": {
   "display_name": "R",
   "language": "R",
   "name": "ir"
  },
  "language_info": {
   "codemirror_mode": "r",
   "file_extension": ".r",
   "mimetype": "text/x-r-source",
   "name": "R",
   "pygments_lexer": "r",
   "version": "4.0.3"
  }
 },
 "nbformat": 4,
 "nbformat_minor": 2
}
