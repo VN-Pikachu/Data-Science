{
 "cells": [
  {
   "cell_type": "code",
   "execution_count": 2,
   "metadata": {},
   "outputs": [],
   "source": [
    "library(tidyverse)"
   ]
  },
  {
   "cell_type": "markdown",
   "metadata": {},
   "source": [
    "# Change columns order"
   ]
  },
  {
   "cell_type": "markdown",
   "metadata": {},
   "source": [
    "Use **`relocate()`** to change column positions, using the same syntax as **`select()`** to make it easy to move blocks of columns at once."
   ]
  },
  {
   "cell_type": "markdown",
   "metadata": {},
   "source": [
    "```R\n",
    "relocate(.data, ..., .before = NULL, .after = NULL)\n",
    "```"
   ]
  },
  {
   "cell_type": "markdown",
   "metadata": {},
   "source": [
    "# Examples"
   ]
  },
  {
   "cell_type": "code",
   "execution_count": 4,
   "metadata": {},
   "outputs": [
    {
     "data": {
      "text/html": [
       "<table>\n",
       "<thead><tr><th scope=col>a</th><th scope=col>b</th><th scope=col>c</th><th scope=col>d</th><th scope=col>e</th><th scope=col>f</th></tr></thead>\n",
       "<tbody>\n",
       "\t<tr><td>1</td><td>1</td><td>1</td><td>a</td><td>a</td><td>a</td></tr>\n",
       "</tbody>\n",
       "</table>\n"
      ],
      "text/latex": [
       "\\begin{tabular}{r|llllll}\n",
       " a & b & c & d & e & f\\\\\n",
       "\\hline\n",
       "\t 1 & 1 & 1 & a & a & a\\\\\n",
       "\\end{tabular}\n"
      ],
      "text/markdown": [
       "\n",
       "| a | b | c | d | e | f |\n",
       "|---|---|---|---|---|---|\n",
       "| 1 | 1 | 1 | a | a | a |\n",
       "\n"
      ],
      "text/plain": [
       "  a b c d e f\n",
       "1 1 1 1 a a a"
      ]
     },
     "metadata": {},
     "output_type": "display_data"
    }
   ],
   "source": [
    "df <- tibble(a = 1, b = 1, c = 1, d = \"a\", e = \"a\", f = \"a\")\n",
    "df"
   ]
  },
  {
   "cell_type": "markdown",
   "metadata": {},
   "source": [
    "Move column f to the the first column"
   ]
  },
  {
   "cell_type": "code",
   "execution_count": 5,
   "metadata": {},
   "outputs": [
    {
     "data": {
      "text/html": [
       "<table>\n",
       "<thead><tr><th scope=col>f</th><th scope=col>a</th><th scope=col>b</th><th scope=col>c</th><th scope=col>d</th><th scope=col>e</th></tr></thead>\n",
       "<tbody>\n",
       "\t<tr><td>a</td><td>1</td><td>1</td><td>1</td><td>a</td><td>a</td></tr>\n",
       "</tbody>\n",
       "</table>\n"
      ],
      "text/latex": [
       "\\begin{tabular}{r|llllll}\n",
       " f & a & b & c & d & e\\\\\n",
       "\\hline\n",
       "\t a & 1 & 1 & 1 & a & a\\\\\n",
       "\\end{tabular}\n"
      ],
      "text/markdown": [
       "\n",
       "| f | a | b | c | d | e |\n",
       "|---|---|---|---|---|---|\n",
       "| a | 1 | 1 | 1 | a | a |\n",
       "\n"
      ],
      "text/plain": [
       "  f a b c d e\n",
       "1 a 1 1 1 a a"
      ]
     },
     "metadata": {},
     "output_type": "display_data"
    }
   ],
   "source": [
    "df %>% relocate(f)"
   ]
  },
  {
   "cell_type": "markdown",
   "metadata": {},
   "source": [
    "move column a after column d"
   ]
  },
  {
   "cell_type": "code",
   "execution_count": 6,
   "metadata": {},
   "outputs": [
    {
     "data": {
      "text/html": [
       "<table>\n",
       "<thead><tr><th scope=col>b</th><th scope=col>c</th><th scope=col>d</th><th scope=col>a</th><th scope=col>e</th><th scope=col>f</th></tr></thead>\n",
       "<tbody>\n",
       "\t<tr><td>1</td><td>1</td><td>a</td><td>1</td><td>a</td><td>a</td></tr>\n",
       "</tbody>\n",
       "</table>\n"
      ],
      "text/latex": [
       "\\begin{tabular}{r|llllll}\n",
       " b & c & d & a & e & f\\\\\n",
       "\\hline\n",
       "\t 1 & 1 & a & 1 & a & a\\\\\n",
       "\\end{tabular}\n"
      ],
      "text/markdown": [
       "\n",
       "| b | c | d | a | e | f |\n",
       "|---|---|---|---|---|---|\n",
       "| 1 | 1 | a | 1 | a | a |\n",
       "\n"
      ],
      "text/plain": [
       "  b c d a e f\n",
       "1 1 1 a 1 a a"
      ]
     },
     "metadata": {},
     "output_type": "display_data"
    }
   ],
   "source": [
    "df %>% relocate(a, .after = d)"
   ]
  },
  {
   "cell_type": "markdown",
   "metadata": {},
   "source": [
    "move column d before column b"
   ]
  },
  {
   "cell_type": "code",
   "execution_count": 7,
   "metadata": {},
   "outputs": [
    {
     "data": {
      "text/html": [
       "<table>\n",
       "<thead><tr><th scope=col>a</th><th scope=col>d</th><th scope=col>b</th><th scope=col>c</th><th scope=col>e</th><th scope=col>f</th></tr></thead>\n",
       "<tbody>\n",
       "\t<tr><td>1</td><td>a</td><td>1</td><td>1</td><td>a</td><td>a</td></tr>\n",
       "</tbody>\n",
       "</table>\n"
      ],
      "text/latex": [
       "\\begin{tabular}{r|llllll}\n",
       " a & d & b & c & e & f\\\\\n",
       "\\hline\n",
       "\t 1 & a & 1 & 1 & a & a\\\\\n",
       "\\end{tabular}\n"
      ],
      "text/markdown": [
       "\n",
       "| a | d | b | c | e | f |\n",
       "|---|---|---|---|---|---|\n",
       "| 1 | a | 1 | 1 | a | a |\n",
       "\n"
      ],
      "text/plain": [
       "  a d b c e f\n",
       "1 1 a 1 1 a a"
      ]
     },
     "metadata": {},
     "output_type": "display_data"
    }
   ],
   "source": [
    "df %>% relocate(d, .before = b)"
   ]
  },
  {
   "cell_type": "markdown",
   "metadata": {},
   "source": [
    "Can also select variables based on their type"
   ]
  },
  {
   "cell_type": "code",
   "execution_count": 11,
   "metadata": {},
   "outputs": [
    {
     "data": {
      "text/html": [
       "<table>\n",
       "<thead><tr><th scope=col>d</th><th scope=col>e</th><th scope=col>f</th><th scope=col>a</th><th scope=col>b</th><th scope=col>c</th></tr></thead>\n",
       "<tbody>\n",
       "\t<tr><td>a</td><td>a</td><td>a</td><td>1</td><td>1</td><td>1</td></tr>\n",
       "</tbody>\n",
       "</table>\n"
      ],
      "text/latex": [
       "\\begin{tabular}{r|llllll}\n",
       " d & e & f & a & b & c\\\\\n",
       "\\hline\n",
       "\t a & a & a & 1 & 1 & 1\\\\\n",
       "\\end{tabular}\n"
      ],
      "text/markdown": [
       "\n",
       "| d | e | f | a | b | c |\n",
       "|---|---|---|---|---|---|\n",
       "| a | a | a | 1 | 1 | 1 |\n",
       "\n"
      ],
      "text/plain": [
       "  d e f a b c\n",
       "1 a a a 1 1 1"
      ]
     },
     "metadata": {},
     "output_type": "display_data"
    }
   ],
   "source": [
    "#Put columns having character datatypes as first columns\n",
    "df %>% relocate(where(is.character)) #equivalent to:  df.relocate(d, e, f)"
   ]
  },
  {
   "cell_type": "code",
   "execution_count": 16,
   "metadata": {},
   "outputs": [
    {
     "data": {
      "text/html": [
       "<table>\n",
       "<thead><tr><th scope=col>a</th><th scope=col>b</th><th scope=col>c</th><th scope=col>d</th><th scope=col>e</th><th scope=col>f</th></tr></thead>\n",
       "<tbody>\n",
       "\t<tr><td>1</td><td>1</td><td>1</td><td>a</td><td>a</td><td>a</td></tr>\n",
       "</tbody>\n",
       "</table>\n"
      ],
      "text/latex": [
       "\\begin{tabular}{r|llllll}\n",
       " a & b & c & d & e & f\\\\\n",
       "\\hline\n",
       "\t 1 & 1 & 1 & a & a & a\\\\\n",
       "\\end{tabular}\n"
      ],
      "text/markdown": [
       "\n",
       "| a | b | c | d | e | f |\n",
       "|---|---|---|---|---|---|\n",
       "| 1 | 1 | 1 | a | a | a |\n",
       "\n"
      ],
      "text/plain": [
       "  a b c d e f\n",
       "1 1 1 1 a a a"
      ]
     },
     "metadata": {},
     "output_type": "display_data"
    }
   ],
   "source": [
    "#Put columns having character datatypes as first columns\n",
    "df %>% relocate(where(is.character), .after = last_col())"
   ]
  },
  {
   "cell_type": "code",
   "execution_count": 18,
   "metadata": {},
   "outputs": [
    {
     "data": {
      "text/html": [
       "<table>\n",
       "<thead><tr><th scope=col>a</th><th scope=col>b</th><th scope=col>c</th><th scope=col>d</th><th scope=col>e</th><th scope=col>f</th></tr></thead>\n",
       "<tbody>\n",
       "\t<tr><td>1</td><td>1</td><td>1</td><td>a</td><td>a</td><td>a</td></tr>\n",
       "</tbody>\n",
       "</table>\n"
      ],
      "text/latex": [
       "\\begin{tabular}{r|llllll}\n",
       " a & b & c & d & e & f\\\\\n",
       "\\hline\n",
       "\t 1 & 1 & 1 & a & a & a\\\\\n",
       "\\end{tabular}\n"
      ],
      "text/markdown": [
       "\n",
       "| a | b | c | d | e | f |\n",
       "|---|---|---|---|---|---|\n",
       "| 1 | 1 | 1 | a | a | a |\n",
       "\n"
      ],
      "text/plain": [
       "  a b c d e f\n",
       "1 1 1 1 a a a"
      ]
     },
     "metadata": {},
     "output_type": "display_data"
    }
   ],
   "source": [
    "# When .before or .after refers to multiple variables they will be\n",
    "# moved to be immediately before/after the selected variables.\n",
    "\n",
    "df %>% relocate(where(is.character), .after = where(is.numeric))"
   ]
  },
  {
   "cell_type": "markdown",
   "metadata": {},
   "source": [
    "# Arguments "
   ]
  },
  {
   "cell_type": "markdown",
   "metadata": {},
   "source": [
    "### `...`"
   ]
  },
  {
   "cell_type": "markdown",
   "metadata": {},
   "source": [
    "`<tidy-select>` Columns to move."
   ]
  },
  {
   "cell_type": "markdown",
   "metadata": {},
   "source": [
    "<hr>"
   ]
  },
  {
   "cell_type": "markdown",
   "metadata": {},
   "source": [
    "`<tidy-select>`: We do not need to use `dplyr::across` "
   ]
  },
  {
   "cell_type": "code",
   "execution_count": 4,
   "metadata": {},
   "outputs": [
    {
     "data": {
      "text/html": [
       "<table>\n",
       "<thead><tr><th scope=col>Petal.Length</th><th scope=col>Petal.Width</th><th scope=col>Sepal.Length</th><th scope=col>Sepal.Width</th><th scope=col>Species</th></tr></thead>\n",
       "<tbody>\n",
       "\t<tr><td>1.4   </td><td>0.2   </td><td>5.1   </td><td>3.5   </td><td>setosa</td></tr>\n",
       "\t<tr><td>1.4   </td><td>0.2   </td><td>4.9   </td><td>3.0   </td><td>setosa</td></tr>\n",
       "\t<tr><td>1.3   </td><td>0.2   </td><td>4.7   </td><td>3.2   </td><td>setosa</td></tr>\n",
       "\t<tr><td>1.5   </td><td>0.2   </td><td>4.6   </td><td>3.1   </td><td>setosa</td></tr>\n",
       "\t<tr><td>1.4   </td><td>0.2   </td><td>5.0   </td><td>3.6   </td><td>setosa</td></tr>\n",
       "\t<tr><td>1.7   </td><td>0.4   </td><td>5.4   </td><td>3.9   </td><td>setosa</td></tr>\n",
       "</tbody>\n",
       "</table>\n"
      ],
      "text/latex": [
       "\\begin{tabular}{r|lllll}\n",
       " Petal.Length & Petal.Width & Sepal.Length & Sepal.Width & Species\\\\\n",
       "\\hline\n",
       "\t 1.4    & 0.2    & 5.1    & 3.5    & setosa\\\\\n",
       "\t 1.4    & 0.2    & 4.9    & 3.0    & setosa\\\\\n",
       "\t 1.3    & 0.2    & 4.7    & 3.2    & setosa\\\\\n",
       "\t 1.5    & 0.2    & 4.6    & 3.1    & setosa\\\\\n",
       "\t 1.4    & 0.2    & 5.0    & 3.6    & setosa\\\\\n",
       "\t 1.7    & 0.4    & 5.4    & 3.9    & setosa\\\\\n",
       "\\end{tabular}\n"
      ],
      "text/markdown": [
       "\n",
       "| Petal.Length | Petal.Width | Sepal.Length | Sepal.Width | Species |\n",
       "|---|---|---|---|---|\n",
       "| 1.4    | 0.2    | 5.1    | 3.5    | setosa |\n",
       "| 1.4    | 0.2    | 4.9    | 3.0    | setosa |\n",
       "| 1.3    | 0.2    | 4.7    | 3.2    | setosa |\n",
       "| 1.5    | 0.2    | 4.6    | 3.1    | setosa |\n",
       "| 1.4    | 0.2    | 5.0    | 3.6    | setosa |\n",
       "| 1.7    | 0.4    | 5.4    | 3.9    | setosa |\n",
       "\n"
      ],
      "text/plain": [
       "  Petal.Length Petal.Width Sepal.Length Sepal.Width Species\n",
       "1 1.4          0.2         5.1          3.5         setosa \n",
       "2 1.4          0.2         4.9          3.0         setosa \n",
       "3 1.3          0.2         4.7          3.2         setosa \n",
       "4 1.5          0.2         4.6          3.1         setosa \n",
       "5 1.4          0.2         5.0          3.6         setosa \n",
       "6 1.7          0.4         5.4          3.9         setosa "
      ]
     },
     "metadata": {},
     "output_type": "display_data"
    }
   ],
   "source": [
    "#put Sepal... after Petal\n",
    "iris %>% relocate(starts_with('Sepal'), .after = starts_with('Petal')) %>% head()"
   ]
  },
  {
   "cell_type": "markdown",
   "metadata": {},
   "source": [
    "### `.before`, `.after`\t"
   ]
  },
  {
   "cell_type": "markdown",
   "metadata": {},
   "source": [
    "`<tidy-select>` Destination of columns selected by `....` Supplying neither will move columns to the left-hand side; specifying both is an error."
   ]
  },
  {
   "cell_type": "code",
   "execution_count": 9,
   "metadata": {},
   "outputs": [
    {
     "data": {
      "text/html": [
       "<table>\n",
       "<thead><tr><th scope=col>Species</th><th scope=col>Sepal.Length</th><th scope=col>Sepal.Width</th><th scope=col>Petal.Length</th><th scope=col>Petal.Width</th></tr></thead>\n",
       "<tbody>\n",
       "\t<tr><td>setosa</td><td>5.1   </td><td>3.5   </td><td>1.4   </td><td>0.2   </td></tr>\n",
       "\t<tr><td>setosa</td><td>4.9   </td><td>3.0   </td><td>1.4   </td><td>0.2   </td></tr>\n",
       "\t<tr><td>setosa</td><td>4.7   </td><td>3.2   </td><td>1.3   </td><td>0.2   </td></tr>\n",
       "\t<tr><td>setosa</td><td>4.6   </td><td>3.1   </td><td>1.5   </td><td>0.2   </td></tr>\n",
       "\t<tr><td>setosa</td><td>5.0   </td><td>3.6   </td><td>1.4   </td><td>0.2   </td></tr>\n",
       "\t<tr><td>setosa</td><td>5.4   </td><td>3.9   </td><td>1.7   </td><td>0.4   </td></tr>\n",
       "</tbody>\n",
       "</table>\n"
      ],
      "text/latex": [
       "\\begin{tabular}{r|lllll}\n",
       " Species & Sepal.Length & Sepal.Width & Petal.Length & Petal.Width\\\\\n",
       "\\hline\n",
       "\t setosa & 5.1    & 3.5    & 1.4    & 0.2   \\\\\n",
       "\t setosa & 4.9    & 3.0    & 1.4    & 0.2   \\\\\n",
       "\t setosa & 4.7    & 3.2    & 1.3    & 0.2   \\\\\n",
       "\t setosa & 4.6    & 3.1    & 1.5    & 0.2   \\\\\n",
       "\t setosa & 5.0    & 3.6    & 1.4    & 0.2   \\\\\n",
       "\t setosa & 5.4    & 3.9    & 1.7    & 0.4   \\\\\n",
       "\\end{tabular}\n"
      ],
      "text/markdown": [
       "\n",
       "| Species | Sepal.Length | Sepal.Width | Petal.Length | Petal.Width |\n",
       "|---|---|---|---|---|\n",
       "| setosa | 5.1    | 3.5    | 1.4    | 0.2    |\n",
       "| setosa | 4.9    | 3.0    | 1.4    | 0.2    |\n",
       "| setosa | 4.7    | 3.2    | 1.3    | 0.2    |\n",
       "| setosa | 4.6    | 3.1    | 1.5    | 0.2    |\n",
       "| setosa | 5.0    | 3.6    | 1.4    | 0.2    |\n",
       "| setosa | 5.4    | 3.9    | 1.7    | 0.4    |\n",
       "\n"
      ],
      "text/plain": [
       "  Species Sepal.Length Sepal.Width Petal.Length Petal.Width\n",
       "1 setosa  5.1          3.5         1.4          0.2        \n",
       "2 setosa  4.9          3.0         1.4          0.2        \n",
       "3 setosa  4.7          3.2         1.3          0.2        \n",
       "4 setosa  4.6          3.1         1.5          0.2        \n",
       "5 setosa  5.0          3.6         1.4          0.2        \n",
       "6 setosa  5.4          3.9         1.7          0.4        "
      ]
     },
     "metadata": {},
     "output_type": "display_data"
    }
   ],
   "source": [
    "#by default, relocate selected columns to the left-side\n",
    "iris %>% relocate(Species) %>% head()"
   ]
  },
  {
   "cell_type": "code",
   "execution_count": 8,
   "metadata": {},
   "outputs": [
    {
     "data": {
      "text/html": [
       "<table>\n",
       "<thead><tr><th scope=col>Sepal.Width</th><th scope=col>Petal.Width</th><th scope=col>Species</th><th scope=col>Sepal.Length</th><th scope=col>Petal.Length</th></tr></thead>\n",
       "<tbody>\n",
       "\t<tr><td>3.5   </td><td>0.2   </td><td>setosa</td><td>5.1   </td><td>1.4   </td></tr>\n",
       "\t<tr><td>3.0   </td><td>0.2   </td><td>setosa</td><td>4.9   </td><td>1.4   </td></tr>\n",
       "\t<tr><td>3.2   </td><td>0.2   </td><td>setosa</td><td>4.7   </td><td>1.3   </td></tr>\n",
       "\t<tr><td>3.1   </td><td>0.2   </td><td>setosa</td><td>4.6   </td><td>1.5   </td></tr>\n",
       "\t<tr><td>3.6   </td><td>0.2   </td><td>setosa</td><td>5.0   </td><td>1.4   </td></tr>\n",
       "\t<tr><td>3.9   </td><td>0.4   </td><td>setosa</td><td>5.4   </td><td>1.7   </td></tr>\n",
       "</tbody>\n",
       "</table>\n"
      ],
      "text/latex": [
       "\\begin{tabular}{r|lllll}\n",
       " Sepal.Width & Petal.Width & Species & Sepal.Length & Petal.Length\\\\\n",
       "\\hline\n",
       "\t 3.5    & 0.2    & setosa & 5.1    & 1.4   \\\\\n",
       "\t 3.0    & 0.2    & setosa & 4.9    & 1.4   \\\\\n",
       "\t 3.2    & 0.2    & setosa & 4.7    & 1.3   \\\\\n",
       "\t 3.1    & 0.2    & setosa & 4.6    & 1.5   \\\\\n",
       "\t 3.6    & 0.2    & setosa & 5.0    & 1.4   \\\\\n",
       "\t 3.9    & 0.4    & setosa & 5.4    & 1.7   \\\\\n",
       "\\end{tabular}\n"
      ],
      "text/markdown": [
       "\n",
       "| Sepal.Width | Petal.Width | Species | Sepal.Length | Petal.Length |\n",
       "|---|---|---|---|---|\n",
       "| 3.5    | 0.2    | setosa | 5.1    | 1.4    |\n",
       "| 3.0    | 0.2    | setosa | 4.9    | 1.4    |\n",
       "| 3.2    | 0.2    | setosa | 4.7    | 1.3    |\n",
       "| 3.1    | 0.2    | setosa | 4.6    | 1.5    |\n",
       "| 3.6    | 0.2    | setosa | 5.0    | 1.4    |\n",
       "| 3.9    | 0.4    | setosa | 5.4    | 1.7    |\n",
       "\n"
      ],
      "text/plain": [
       "  Sepal.Width Petal.Width Species Sepal.Length Petal.Length\n",
       "1 3.5         0.2         setosa  5.1          1.4         \n",
       "2 3.0         0.2         setosa  4.9          1.4         \n",
       "3 3.2         0.2         setosa  4.7          1.3         \n",
       "4 3.1         0.2         setosa  4.6          1.5         \n",
       "5 3.6         0.2         setosa  5.0          1.4         \n",
       "6 3.9         0.4         setosa  5.4          1.7         "
      ]
     },
     "metadata": {},
     "output_type": "display_data"
    }
   ],
   "source": [
    "#Relocate columns having names ending with 'Length' to the right-side\n",
    "iris %>% relocate(ends_with('Length'), .after = last_col()) %>% head()"
   ]
  }
 ],
 "metadata": {
  "kernelspec": {
   "display_name": "R",
   "language": "R",
   "name": "ir"
  },
  "language_info": {
   "codemirror_mode": "r",
   "file_extension": ".r",
   "mimetype": "text/x-r-source",
   "name": "R",
   "pygments_lexer": "r",
   "version": "3.6.1"
  }
 },
 "nbformat": 4,
 "nbformat_minor": 2
}
