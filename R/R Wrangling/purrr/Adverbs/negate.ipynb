{
 "cells": [
  {
   "cell_type": "code",
   "execution_count": 2,
   "metadata": {},
   "outputs": [],
   "source": [
    "library(tidyverse)"
   ]
  },
  {
   "cell_type": "markdown",
   "metadata": {},
   "source": [
    "# Negate a predicate function."
   ]
  },
  {
   "cell_type": "markdown",
   "metadata": {},
   "source": [
    "```r\n",
    "negate(.p)\n",
    "```"
   ]
  },
  {
   "cell_type": "markdown",
   "metadata": {},
   "source": [
    "**Arguments**  \n",
    "`.p`\t\n",
    "A single predicate function, a formula describing such a predicate function, or a logical vector of the same length as `.x`. Alternatively, if the elements of `.x` are themselves lists of objects, a string indicating the name of a logical element in the inner lists. Only those elements where .p evaluates to TRUE will be modified."
   ]
  },
  {
   "cell_type": "markdown",
   "metadata": {},
   "source": [
    "# Examples"
   ]
  },
  {
   "cell_type": "code",
   "execution_count": 4,
   "metadata": {},
   "outputs": [
    {
     "name": "stdout",
     "output_type": "stream",
     "text": [
      "<composed>\n",
      "1. function (x, ...) \n",
      "pluck(x, \"x\", .default = NULL)\n",
      "<environment: 0x000000004ae451c8>\n",
      "\n",
      "2. function (.x) \n",
      "!.x\n",
      "<bytecode: 0x000000004b37e948>\n",
      "<environment: 0x000000004ae58578>\n"
     ]
    }
   ],
   "source": [
    "negate('x') %>% print()"
   ]
  },
  {
   "cell_type": "code",
   "execution_count": 5,
   "metadata": {},
   "outputs": [
    {
     "name": "stdout",
     "output_type": "stream",
     "text": [
      "<composed>\n",
      "1. function (x) \n",
      ".Primitive(\"is.null\")(x)\n",
      "\n",
      "2. function (.x) \n",
      "!.x\n",
      "<bytecode: 0x000000004b37e948>\n",
      "<environment: 0x000000004b7ede08>\n"
     ]
    }
   ],
   "source": [
    "# not null\n",
    "negate(is.null) %>% print()"
   ]
  },
  {
   "cell_type": "code",
   "execution_count": 7,
   "metadata": {},
   "outputs": [
    {
     "name": "stdout",
     "output_type": "stream",
     "text": [
      "<composed>\n",
      "1. <lambda>\n",
      "function (..., .x = ..1, .y = ..2, . = ..1) \n",
      ". > 0\n",
      "attr(,\"class\")\n",
      "[1] \"rlang_lambda_function\" \"function\"             \n",
      "\n",
      "2. function (.x) \n",
      "!.x\n",
      "<bytecode: 0x000000004b37e948>\n",
      "<environment: 0x000000004a8ec1a0>\n"
     ]
    }
   ],
   "source": [
    "# equivalent: function(x) !(x > 0)\n",
    "negate(~ . > 0) %>% print()"
   ]
  },
  {
   "cell_type": "code",
   "execution_count": 8,
   "metadata": {},
   "outputs": [
    {
     "data": {
      "text/html": [
       "<ol>\n",
       "\t<li><dl>\n",
       "\t<dt>$x</dt>\n",
       "\t\t<dd>1</dd>\n",
       "\t<dt>$y</dt>\n",
       "\t\t<dd>FALSE</dd>\n",
       "</dl>\n",
       "</li>\n",
       "\t<li><dl>\n",
       "\t<dt>$x</dt>\n",
       "\t\t<dd>2</dd>\n",
       "\t<dt>$y</dt>\n",
       "\t\t<dd>TRUE</dd>\n",
       "</dl>\n",
       "</li>\n",
       "\t<li><dl>\n",
       "\t<dt>$x</dt>\n",
       "\t\t<dd>3</dd>\n",
       "\t<dt>$y</dt>\n",
       "\t\t<dd>FALSE</dd>\n",
       "</dl>\n",
       "</li>\n",
       "\t<li><dl>\n",
       "\t<dt>$x</dt>\n",
       "\t\t<dd>4</dd>\n",
       "\t<dt>$y</dt>\n",
       "\t\t<dd>TRUE</dd>\n",
       "</dl>\n",
       "</li>\n",
       "\t<li><dl>\n",
       "\t<dt>$x</dt>\n",
       "\t\t<dd>5</dd>\n",
       "\t<dt>$y</dt>\n",
       "\t\t<dd>TRUE</dd>\n",
       "</dl>\n",
       "</li>\n",
       "\t<li><dl>\n",
       "\t<dt>$x</dt>\n",
       "\t\t<dd>6</dd>\n",
       "\t<dt>$y</dt>\n",
       "\t\t<dd>TRUE</dd>\n",
       "</dl>\n",
       "</li>\n",
       "\t<li><dl>\n",
       "\t<dt>$x</dt>\n",
       "\t\t<dd>7</dd>\n",
       "\t<dt>$y</dt>\n",
       "\t\t<dd>TRUE</dd>\n",
       "</dl>\n",
       "</li>\n",
       "\t<li><dl>\n",
       "\t<dt>$x</dt>\n",
       "\t\t<dd>8</dd>\n",
       "\t<dt>$y</dt>\n",
       "\t\t<dd>FALSE</dd>\n",
       "</dl>\n",
       "</li>\n",
       "\t<li><dl>\n",
       "\t<dt>$x</dt>\n",
       "\t\t<dd>9</dd>\n",
       "\t<dt>$y</dt>\n",
       "\t\t<dd>FALSE</dd>\n",
       "</dl>\n",
       "</li>\n",
       "\t<li><dl>\n",
       "\t<dt>$x</dt>\n",
       "\t\t<dd>10</dd>\n",
       "\t<dt>$y</dt>\n",
       "\t\t<dd>TRUE</dd>\n",
       "</dl>\n",
       "</li>\n",
       "</ol>\n"
      ],
      "text/latex": [
       "\\begin{enumerate}\n",
       "\\item \\begin{description}\n",
       "\\item[\\$x] 1\n",
       "\\item[\\$y] FALSE\n",
       "\\end{description}\n",
       "\n",
       "\\item \\begin{description}\n",
       "\\item[\\$x] 2\n",
       "\\item[\\$y] TRUE\n",
       "\\end{description}\n",
       "\n",
       "\\item \\begin{description}\n",
       "\\item[\\$x] 3\n",
       "\\item[\\$y] FALSE\n",
       "\\end{description}\n",
       "\n",
       "\\item \\begin{description}\n",
       "\\item[\\$x] 4\n",
       "\\item[\\$y] TRUE\n",
       "\\end{description}\n",
       "\n",
       "\\item \\begin{description}\n",
       "\\item[\\$x] 5\n",
       "\\item[\\$y] TRUE\n",
       "\\end{description}\n",
       "\n",
       "\\item \\begin{description}\n",
       "\\item[\\$x] 6\n",
       "\\item[\\$y] TRUE\n",
       "\\end{description}\n",
       "\n",
       "\\item \\begin{description}\n",
       "\\item[\\$x] 7\n",
       "\\item[\\$y] TRUE\n",
       "\\end{description}\n",
       "\n",
       "\\item \\begin{description}\n",
       "\\item[\\$x] 8\n",
       "\\item[\\$y] FALSE\n",
       "\\end{description}\n",
       "\n",
       "\\item \\begin{description}\n",
       "\\item[\\$x] 9\n",
       "\\item[\\$y] FALSE\n",
       "\\end{description}\n",
       "\n",
       "\\item \\begin{description}\n",
       "\\item[\\$x] 10\n",
       "\\item[\\$y] TRUE\n",
       "\\end{description}\n",
       "\n",
       "\\end{enumerate}\n"
      ],
      "text/markdown": [
       "1. $x\n",
       ":   1\n",
       "$y\n",
       ":   FALSE\n",
       "\n",
       "\n",
       "\n",
       "2. $x\n",
       ":   2\n",
       "$y\n",
       ":   TRUE\n",
       "\n",
       "\n",
       "\n",
       "3. $x\n",
       ":   3\n",
       "$y\n",
       ":   FALSE\n",
       "\n",
       "\n",
       "\n",
       "4. $x\n",
       ":   4\n",
       "$y\n",
       ":   TRUE\n",
       "\n",
       "\n",
       "\n",
       "5. $x\n",
       ":   5\n",
       "$y\n",
       ":   TRUE\n",
       "\n",
       "\n",
       "\n",
       "6. $x\n",
       ":   6\n",
       "$y\n",
       ":   TRUE\n",
       "\n",
       "\n",
       "\n",
       "7. $x\n",
       ":   7\n",
       "$y\n",
       ":   TRUE\n",
       "\n",
       "\n",
       "\n",
       "8. $x\n",
       ":   8\n",
       "$y\n",
       ":   FALSE\n",
       "\n",
       "\n",
       "\n",
       "9. $x\n",
       ":   9\n",
       "$y\n",
       ":   FALSE\n",
       "\n",
       "\n",
       "\n",
       "10. $x\n",
       ":   10\n",
       "$y\n",
       ":   TRUE\n",
       "\n",
       "\n",
       "\n",
       "\n",
       "\n"
      ],
      "text/plain": [
       "[[1]]\n",
       "[[1]]$x\n",
       "[1] 1\n",
       "\n",
       "[[1]]$y\n",
       "[1] FALSE\n",
       "\n",
       "\n",
       "[[2]]\n",
       "[[2]]$x\n",
       "[1] 2\n",
       "\n",
       "[[2]]$y\n",
       "[1] TRUE\n",
       "\n",
       "\n",
       "[[3]]\n",
       "[[3]]$x\n",
       "[1] 3\n",
       "\n",
       "[[3]]$y\n",
       "[1] FALSE\n",
       "\n",
       "\n",
       "[[4]]\n",
       "[[4]]$x\n",
       "[1] 4\n",
       "\n",
       "[[4]]$y\n",
       "[1] TRUE\n",
       "\n",
       "\n",
       "[[5]]\n",
       "[[5]]$x\n",
       "[1] 5\n",
       "\n",
       "[[5]]$y\n",
       "[1] TRUE\n",
       "\n",
       "\n",
       "[[6]]\n",
       "[[6]]$x\n",
       "[1] 6\n",
       "\n",
       "[[6]]$y\n",
       "[1] TRUE\n",
       "\n",
       "\n",
       "[[7]]\n",
       "[[7]]$x\n",
       "[1] 7\n",
       "\n",
       "[[7]]$y\n",
       "[1] TRUE\n",
       "\n",
       "\n",
       "[[8]]\n",
       "[[8]]$x\n",
       "[1] 8\n",
       "\n",
       "[[8]]$y\n",
       "[1] FALSE\n",
       "\n",
       "\n",
       "[[9]]\n",
       "[[9]]$x\n",
       "[1] 9\n",
       "\n",
       "[[9]]$y\n",
       "[1] FALSE\n",
       "\n",
       "\n",
       "[[10]]\n",
       "[[10]]$x\n",
       "[1] 10\n",
       "\n",
       "[[10]]$y\n",
       "[1] TRUE\n",
       "\n"
      ]
     },
     "metadata": {},
     "output_type": "display_data"
    }
   ],
   "source": [
    "x <- transpose(list(x = 1:10, y = rbernoulli(10)))\n",
    "\n",
    "x"
   ]
  },
  {
   "cell_type": "code",
   "execution_count": 9,
   "metadata": {},
   "outputs": [
    {
     "data": {
      "text/html": [
       "6"
      ],
      "text/latex": [
       "6"
      ],
      "text/markdown": [
       "6"
      ],
      "text/plain": [
       "[1] 6"
      ]
     },
     "metadata": {},
     "output_type": "display_data"
    }
   ],
   "source": [
    "# keep elements having the value of $y is TRUE\n",
    "x %>% keep('y') %>% length()"
   ]
  },
  {
   "cell_type": "code",
   "execution_count": 11,
   "metadata": {},
   "outputs": [
    {
     "data": {
      "text/html": [
       "4"
      ],
      "text/latex": [
       "4"
      ],
      "text/markdown": [
       "4"
      ],
      "text/plain": [
       "[1] 4"
      ]
     },
     "metadata": {},
     "output_type": "display_data"
    }
   ],
   "source": [
    "# keep elements having the avlue of $y is FALSE\n",
    "x %>% keep(negate('y')) %>% length()"
   ]
  }
 ],
 "metadata": {
  "kernelspec": {
   "display_name": "R",
   "language": "R",
   "name": "ir"
  },
  "language_info": {
   "codemirror_mode": "r",
   "file_extension": ".r",
   "mimetype": "text/x-r-source",
   "name": "R",
   "pygments_lexer": "r",
   "version": "3.6.1"
  }
 },
 "nbformat": 4,
 "nbformat_minor": 2
}
