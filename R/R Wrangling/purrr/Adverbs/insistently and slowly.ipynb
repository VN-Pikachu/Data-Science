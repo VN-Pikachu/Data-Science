{
 "cells": [
  {
   "cell_type": "code",
   "execution_count": 2,
   "metadata": {},
   "outputs": [],
   "source": [
    "library(tidyverse)"
   ]
  },
  {
   "cell_type": "markdown",
   "metadata": {},
   "source": [
    "# Transform a function to make it run insistently or slowly"
   ]
  },
  {
   "cell_type": "markdown",
   "metadata": {},
   "source": [
    "* **`insistently()`** takes a function and modifies it to retry a given amount of time on error.\n",
    "\n",
    "* **`slowly()`** takes a function and modifies it to wait a given amount of time between each call."
   ]
  },
  {
   "cell_type": "markdown",
   "metadata": {},
   "source": [
    "The number and rate of attempts is determined by a `rate` object (by default a jittered exponential backoff rate for `insistently()`, and a constant rate for `slowly()`)."
   ]
  },
  {
   "cell_type": "markdown",
   "metadata": {},
   "source": [
    "```r\n",
    "insistently(f, rate = rate_backoff(), quiet = TRUE)\n",
    "\n",
    "slowly(f, rate = rate_delay(), quiet = TRUE)\n",
    "```"
   ]
  },
  {
   "cell_type": "markdown",
   "metadata": {},
   "source": [
    "**Arguments**  \n",
    "`f`\t\n",
    "A function to modify.\n",
    "\n",
    "`rate`\t\n",
    "A rate object determining the waiting time.\n",
    "\n",
    "`quiet`\t\n",
    "If FALSE, prints a message displaying how long until the next request."
   ]
  },
  {
   "cell_type": "markdown",
   "metadata": {},
   "source": [
    "# Examples"
   ]
  },
  {
   "cell_type": "code",
   "execution_count": 5,
   "metadata": {},
   "outputs": [
    {
     "name": "stderr",
     "output_type": "stream",
     "text": [
      "Retrying in 0.5 seconds.\n",
      "Retrying in 0.5 seconds.\n",
      "Retrying in 0.5 seconds.\n",
      "Retrying in 0.5 seconds.\n"
     ]
    },
    {
     "data": {
      "text/html": [
       "<ol>\n",
       "\t<li>2</li>\n",
       "\t<li>3</li>\n",
       "\t<li>4</li>\n",
       "\t<li>5</li>\n",
       "\t<li>6</li>\n",
       "</ol>\n"
      ],
      "text/latex": [
       "\\begin{enumerate}\n",
       "\\item 2\n",
       "\\item 3\n",
       "\\item 4\n",
       "\\item 5\n",
       "\\item 6\n",
       "\\end{enumerate}\n"
      ],
      "text/markdown": [
       "1. 2\n",
       "2. 3\n",
       "3. 4\n",
       "4. 5\n",
       "5. 6\n",
       "\n",
       "\n"
      ],
      "text/plain": [
       "[[1]]\n",
       "[1] 2\n",
       "\n",
       "[[2]]\n",
       "[1] 3\n",
       "\n",
       "[[3]]\n",
       "[1] 4\n",
       "\n",
       "[[4]]\n",
       "[1] 5\n",
       "\n",
       "[[5]]\n",
       "[1] 6\n"
      ]
     },
     "metadata": {},
     "output_type": "display_data"
    }
   ],
   "source": [
    "# For the purpose of this example, we first create a custom rate\n",
    "# object with a low waiting time between attempts:\n",
    "rate <- rate_delay(.5)\n",
    "\n",
    "# slowly() causes a function to sleep for a given time between calls:\n",
    "add_1_slowly <- slowly(function(x) x + 1, rate = rate, quiet = F)\n",
    "                       \n",
    "1:5 %>% map(add_1_slowly)"
   ]
  },
  {
   "cell_type": "code",
   "execution_count": null,
   "metadata": {},
   "outputs": [],
   "source": []
  }
 ],
 "metadata": {
  "kernelspec": {
   "display_name": "R",
   "language": "R",
   "name": "ir"
  },
  "language_info": {
   "codemirror_mode": "r",
   "file_extension": ".r",
   "mimetype": "text/x-r-source",
   "name": "R",
   "pygments_lexer": "r",
   "version": "3.6.1"
  }
 },
 "nbformat": 4,
 "nbformat_minor": 2
}
