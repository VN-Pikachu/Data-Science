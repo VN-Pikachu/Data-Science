{
 "cells": [
  {
   "cell_type": "code",
   "execution_count": 2,
   "metadata": {},
   "outputs": [],
   "source": [
    "library(tidyverse)"
   ]
  },
  {
   "cell_type": "markdown",
   "metadata": {},
   "source": [
    "# Lift the domain of a function"
   ]
  },
  {
   "cell_type": "markdown",
   "metadata": {},
   "source": [
    "`lift_xy()` is a composition helper. It helps you compose functions by lifting their domain from a kind of input to another kind. The domain can be changed from and to a list (l), a vector (v) and dots (d). For example, `lift_ld(fun)` transforms a function taking a list to a function taking dots."
   ]
  },
  {
   "cell_type": "markdown",
   "metadata": {},
   "source": [
    "```r\n",
    "lift(..f, ..., .unnamed = FALSE)\n",
    "\n",
    "lift_dl(..f, ..., .unnamed = FALSE)\n",
    "\n",
    "lift_dv(..f, ..., .unnamed = FALSE)\n",
    "\n",
    "lift_vl(..f, ..., .type)\n",
    "\n",
    "lift_vd(..f, ..., .type)\n",
    "\n",
    "lift_ld(..f, ...)\n",
    "\n",
    "lift_lv(..f, ...)\n",
    "```"
   ]
  },
  {
   "cell_type": "markdown",
   "metadata": {},
   "source": [
    "**Arguments**  \n",
    "`..f`\t\n",
    "A function to lift.\n",
    "\n",
    "`...`\t\n",
    "Default arguments for `..f`. These will be evaluated only once, when the lifting factory is called.\n",
    "\n",
    "`.unnamed`\t\n",
    "If TRUE, `ld` or `lv` will not name the parameters in the lifted function signature. This prevents matching of arguments by name and match by position instead.\n",
    "\n",
    "`.type`\t\n",
    "A vector mold or a string describing the type of the input vectors. The latter can be any of the types returned by `typeof()`, or \"numeric\" as a shorthand for either \"double\" or \"integer\"."
   ]
  },
  {
   "cell_type": "markdown",
   "metadata": {},
   "source": [
    "# Details "
   ]
  },
  {
   "cell_type": "markdown",
   "metadata": {},
   "source": [
    "The most important of those helpers is probably `lift_dl()` because it allows you to transform a regular function to one that takes a list. This is often essential for composition with purrr functional tools. Since this is such a common function, `lift()` is provided as an alias for that operation."
   ]
  }
 ],
 "metadata": {
  "kernelspec": {
   "display_name": "R",
   "language": "R",
   "name": "ir"
  },
  "language_info": {
   "codemirror_mode": "r",
   "file_extension": ".r",
   "mimetype": "text/x-r-source",
   "name": "R",
   "pygments_lexer": "r",
   "version": "3.6.1"
  }
 },
 "nbformat": 4,
 "nbformat_minor": 2
}
