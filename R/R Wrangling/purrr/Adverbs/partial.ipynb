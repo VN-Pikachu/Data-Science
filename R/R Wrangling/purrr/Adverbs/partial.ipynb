{
 "cells": [
  {
   "cell_type": "code",
   "execution_count": 2,
   "metadata": {},
   "outputs": [],
   "source": [
    "library(tidyverse)"
   ]
  },
  {
   "cell_type": "markdown",
   "metadata": {},
   "source": [
    "# Partial apply a function, filling in some arguments."
   ]
  },
  {
   "cell_type": "markdown",
   "metadata": {},
   "source": [
    "like `from functools import partial` in Python"
   ]
  },
  {
   "cell_type": "markdown",
   "metadata": {},
   "source": [
    "Partial function application allows you to modify a function by pre-filling some of the arguments. It is particularly useful in conjunction with functionals and other function operators.  \n",
    "Note that an argument can only be partialised once."
   ]
  },
  {
   "cell_type": "markdown",
   "metadata": {},
   "source": [
    "```r\n",
    "partial(.f, ..., .env = NULL, .lazy = NULL, .first = NULL)\n",
    "```"
   ]
  },
  {
   "cell_type": "markdown",
   "metadata": {},
   "source": [
    "**Arguments**  \n",
    "`.f`\t\n",
    "a function. For the output source to read well, this should be a named function.\n",
    "\n",
    "`...`\t\n",
    "named arguments to .f that should be partially applied.\n",
    "\n",
    "Pass an empty `... =` argument to specify the position of future arguments relative to partialised ones. See `rlang::call_modify()` to learn more about this syntax.\n",
    "\n",
    "These dots support quasiquotation and quosures. If you unquote a value, it is evaluated only once at function creation time. Otherwise, it is evaluated each time the function is called.\n",
    "\n",
    "`.env`, `.lazy`, `.first`: soft-deprecated"
   ]
  },
  {
   "cell_type": "markdown",
   "metadata": {},
   "source": [
    "# Examples"
   ]
  },
  {
   "cell_type": "code",
   "execution_count": 7,
   "metadata": {},
   "outputs": [
    {
     "data": {
      "text/html": [
       "2.5"
      ],
      "text/latex": [
       "2.5"
      ],
      "text/markdown": [
       "2.5"
      ],
      "text/plain": [
       "[1] 2.5"
      ]
     },
     "metadata": {},
     "output_type": "display_data"
    },
    {
     "data": {
      "text/html": [
       "2.5"
      ],
      "text/latex": [
       "2.5"
      ],
      "text/markdown": [
       "2.5"
      ],
      "text/plain": [
       "[1] 2.5"
      ]
     },
     "metadata": {},
     "output_type": "display_data"
    }
   ],
   "source": [
    "# Partial is designed to replace the use of anonymous functions for\n",
    "# filling in function arguments. Instead of:\n",
    "nanmean1 <- function(x) mean(x, na.rm = T)\n",
    "\n",
    "# We can write\n",
    "nanmean2 <- mean %>% partial(na.rm = T)\n",
    "\n",
    "nanmean1(c(2, NA, 3))\n",
    "\n",
    "nanmean2(c(2, NA, 3))"
   ]
  },
  {
   "cell_type": "code",
   "execution_count": 11,
   "metadata": {},
   "outputs": [
    {
     "data": {
      "text/html": [
       "<ol>\n",
       "\t<li>'partial'</li>\n",
       "\t<li>'awesome'</li>\n",
       "\t<li>3</li>\n",
       "\t<li>'Hello'</li>\n",
       "</ol>\n"
      ],
      "text/latex": [
       "\\begin{enumerate}\n",
       "\\item 'partial'\n",
       "\\item 'awesome'\n",
       "\\item 3\n",
       "\\item 'Hello'\n",
       "\\end{enumerate}\n"
      ],
      "text/markdown": [
       "1. 'partial'\n",
       "2. 'awesome'\n",
       "3. 3\n",
       "4. 'Hello'\n",
       "\n",
       "\n"
      ],
      "text/plain": [
       "[[1]]\n",
       "[1] \"partial\"\n",
       "\n",
       "[[2]]\n",
       "[1] \"awesome\"\n",
       "\n",
       "[[3]]\n",
       "[1] 3\n",
       "\n",
       "[[4]]\n",
       "[1] \"Hello\"\n"
      ]
     },
     "metadata": {},
     "output_type": "display_data"
    },
    {
     "data": {
      "text/html": [
       "<ol>\n",
       "\t<li>'partial'</li>\n",
       "\t<li>'awesome'</li>\n",
       "\t<li>3</li>\n",
       "\t<li>4</li>\n",
       "\t<li>5</li>\n",
       "\t<li>'End!'</li>\n",
       "</ol>\n"
      ],
      "text/latex": [
       "\\begin{enumerate}\n",
       "\\item 'partial'\n",
       "\\item 'awesome'\n",
       "\\item 3\n",
       "\\item 4\n",
       "\\item 5\n",
       "\\item 'End!'\n",
       "\\end{enumerate}\n"
      ],
      "text/markdown": [
       "1. 'partial'\n",
       "2. 'awesome'\n",
       "3. 3\n",
       "4. 4\n",
       "5. 5\n",
       "6. 'End!'\n",
       "\n",
       "\n"
      ],
      "text/plain": [
       "[[1]]\n",
       "[1] \"partial\"\n",
       "\n",
       "[[2]]\n",
       "[1] \"awesome\"\n",
       "\n",
       "[[3]]\n",
       "[1] 3\n",
       "\n",
       "[[4]]\n",
       "[1] 4\n",
       "\n",
       "[[5]]\n",
       "[1] 5\n",
       "\n",
       "[[6]]\n",
       "[1] \"End!\"\n"
      ]
     },
     "metadata": {},
     "output_type": "display_data"
    }
   ],
   "source": [
    "# A function that conbine multiple values, 2 first values are always 'partial', 'awesome'\n",
    "\n",
    "list_complex <- list %>% partial('partial', 'awesome')\n",
    "\n",
    "list_complex(3, 'Hello')\n",
    "\n",
    "list_complex(3, 4, 5, 'End!')"
   ]
  },
  {
   "cell_type": "markdown",
   "metadata": {},
   "source": [
    "Control the position of these arguments by passing an empty\n",
    "`... = ` argument:"
   ]
  },
  {
   "cell_type": "code",
   "execution_count": 12,
   "metadata": {},
   "outputs": [
    {
     "data": {
      "text/html": [
       "<ol>\n",
       "\t<li>'start'</li>\n",
       "\t<li>'some'</li>\n",
       "\t<li>'content'</li>\n",
       "\t<li>'here'</li>\n",
       "\t<li>'end'</li>\n",
       "</ol>\n"
      ],
      "text/latex": [
       "\\begin{enumerate}\n",
       "\\item 'start'\n",
       "\\item 'some'\n",
       "\\item 'content'\n",
       "\\item 'here'\n",
       "\\item 'end'\n",
       "\\end{enumerate}\n"
      ],
      "text/markdown": [
       "1. 'start'\n",
       "2. 'some'\n",
       "3. 'content'\n",
       "4. 'here'\n",
       "5. 'end'\n",
       "\n",
       "\n"
      ],
      "text/plain": [
       "[[1]]\n",
       "[1] \"start\"\n",
       "\n",
       "[[2]]\n",
       "[1] \"some\"\n",
       "\n",
       "[[3]]\n",
       "[1] \"content\"\n",
       "\n",
       "[[4]]\n",
       "[1] \"here\"\n",
       "\n",
       "[[5]]\n",
       "[1] \"end\"\n"
      ]
     },
     "metadata": {},
     "output_type": "display_data"
    },
    {
     "data": {
      "text/html": [
       "<ol>\n",
       "\t<li>'start'</li>\n",
       "\t<li>'Pikachu'</li>\n",
       "\t<li>31</li>\n",
       "\t<li>'end'</li>\n",
       "</ol>\n"
      ],
      "text/latex": [
       "\\begin{enumerate}\n",
       "\\item 'start'\n",
       "\\item 'Pikachu'\n",
       "\\item 31\n",
       "\\item 'end'\n",
       "\\end{enumerate}\n"
      ],
      "text/markdown": [
       "1. 'start'\n",
       "2. 'Pikachu'\n",
       "3. 31\n",
       "4. 'end'\n",
       "\n",
       "\n"
      ],
      "text/plain": [
       "[[1]]\n",
       "[1] \"start\"\n",
       "\n",
       "[[2]]\n",
       "[1] \"Pikachu\"\n",
       "\n",
       "[[3]]\n",
       "[1] 31\n",
       "\n",
       "[[4]]\n",
       "[1] \"end\"\n"
      ]
     },
     "metadata": {},
     "output_type": "display_data"
    }
   ],
   "source": [
    "# Create a list function that combines values, the first element is always 'start' and the last element is always 'end'\n",
    "\n",
    "my_list <- list %>% partial('start', ... = , 'end')\n",
    "\n",
    "my_list('some', 'content', 'here')\n",
    "\n",
    "my_list('Pikachu', 31)"
   ]
  },
  {
   "cell_type": "code",
   "execution_count": 9,
   "metadata": {},
   "outputs": [
    {
     "name": "stdout",
     "output_type": "stream",
     "text": [
      "Error in mean.default(na.rm = T, ...) : \n",
      "  formal argument \"na.rm\" matched by multiple actual arguments\n"
     ]
    }
   ],
   "source": [
    "# Note that you currently can't partialise arguments multiple times:\n",
    "\n",
    "my_mean <- mean %>% partial(na.rm  = T)\n",
    "my_mean <- my_mean %>% partial(na.rm = F)\n",
    "\n",
    "try(my_mean(1:5))"
   ]
  },
  {
   "cell_type": "code",
   "execution_count": null,
   "metadata": {},
   "outputs": [],
   "source": []
  }
 ],
 "metadata": {
  "kernelspec": {
   "display_name": "R",
   "language": "R",
   "name": "ir"
  },
  "language_info": {
   "codemirror_mode": "r",
   "file_extension": ".r",
   "mimetype": "text/x-r-source",
   "name": "R",
   "pygments_lexer": "r",
   "version": "3.6.1"
  }
 },
 "nbformat": 4,
 "nbformat_minor": 2
}
