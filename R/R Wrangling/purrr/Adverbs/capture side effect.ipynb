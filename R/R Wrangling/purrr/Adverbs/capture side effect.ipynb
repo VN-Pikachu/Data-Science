{
 "cells": [
  {
   "cell_type": "code",
   "execution_count": 2,
   "metadata": {},
   "outputs": [],
   "source": [
    "library(tidyverse)"
   ]
  },
  {
   "cell_type": "markdown",
   "metadata": {},
   "source": [
    "# Capture side effect"
   ]
  },
  {
   "cell_type": "markdown",
   "metadata": {},
   "source": [
    "These functions wrap functions so that instead of generating side effects through printed output, messages, warnings, and errors, they return enhanced output. They are all adverbs because they modify the action of a verb (a function)."
   ]
  },
  {
   "cell_type": "markdown",
   "metadata": {},
   "source": [
    "```r\n",
    "safely(.f, otherwise = NULL, quiet = TRUE)\n",
    "\n",
    "quietly(.f)\n",
    "\n",
    "possibly(.f, otherwise, quiet = TRUE)\n",
    "\n",
    "auto_browse(.f)\n",
    "```"
   ]
  },
  {
   "cell_type": "markdown",
   "metadata": {},
   "source": [
    "**Arguments**  \n",
    "`.f`\t\n",
    "A function, formula, or vector (not necessarily atomic).  \n",
    "`otherwise`\t\n",
    "Default value to use when an error occurs.\n",
    "\n",
    "`quiet`\t\n",
    "Hide errors (TRUE, the default), or display them as they occur?"
   ]
  },
  {
   "cell_type": "markdown",
   "metadata": {},
   "source": [
    "# Value"
   ]
  },
  {
   "cell_type": "markdown",
   "metadata": {},
   "source": [
    "`safely`: wrapped function instead returns a list with components `result` and `error`. If an error occurred, `error` is an `error` object and `result` has a default value (`otherwise`). Else error is NULL.\n",
    "\n",
    "`quietly`: wrapped function instead returns a list with components `result`, `output`, `messages` and `warnings`.\n",
    "\n",
    "`possibly`: wrapped function uses a default value (`otherwise`) whenever an error occurs."
   ]
  },
  {
   "cell_type": "markdown",
   "metadata": {},
   "source": [
    "# Examples"
   ]
  },
  {
   "cell_type": "code",
   "execution_count": 11,
   "metadata": {},
   "outputs": [
    {
     "data": {
      "text/html": [
       "<dl>\n",
       "\t<dt>$result</dt>\n",
       "\t\t<dd>2.30258509299405</dd>\n",
       "\t<dt>$error</dt>\n",
       "\t\t<dd>NULL</dd>\n",
       "</dl>\n"
      ],
      "text/latex": [
       "\\begin{description}\n",
       "\\item[\\$result] 2.30258509299405\n",
       "\\item[\\$error] NULL\n",
       "\\end{description}\n"
      ],
      "text/markdown": [
       "$result\n",
       ":   2.30258509299405\n",
       "$error\n",
       ":   NULL\n",
       "\n",
       "\n"
      ],
      "text/plain": [
       "$result\n",
       "[1] 2.302585\n",
       "\n",
       "$error\n",
       "NULL\n"
      ]
     },
     "metadata": {},
     "output_type": "display_data"
    }
   ],
   "source": [
    "safe_log <- safely(log)\n",
    "\n",
    "# return a list with names $result and $error\n",
    "safe_log(10)"
   ]
  },
  {
   "cell_type": "code",
   "execution_count": 6,
   "metadata": {},
   "outputs": [
    {
     "data": {
      "text/plain": [
       "$result\n",
       "NULL\n",
       "\n",
       "$error\n",
       "<simpleError in .Primitive(\"log\")(x, base): non-numeric argument to mathematical function>\n"
      ]
     },
     "metadata": {},
     "output_type": "display_data"
    }
   ],
   "source": [
    "safe_log('a')"
   ]
  },
  {
   "cell_type": "code",
   "execution_count": 8,
   "metadata": {},
   "outputs": [
    {
     "data": {
      "text/plain": [
       "[[1]]\n",
       "[[1]]$result\n",
       "NULL\n",
       "\n",
       "[[1]]$error\n",
       "<simpleError in .Primitive(\"log\")(x, base): non-numeric argument to mathematical function>\n",
       "\n",
       "\n",
       "[[2]]\n",
       "[[2]]$result\n",
       "[1] 2.302585\n",
       "\n",
       "[[2]]$error\n",
       "NULL\n",
       "\n",
       "\n",
       "[[3]]\n",
       "[[3]]$result\n",
       "[1] 4.60517\n",
       "\n",
       "[[3]]$error\n",
       "NULL\n",
       "\n"
      ]
     },
     "metadata": {},
     "output_type": "display_data"
    }
   ],
   "source": [
    "list(\"a\", 10, 100) %>%\n",
    "  map(safe_log) "
   ]
  },
  {
   "cell_type": "markdown",
   "metadata": {},
   "source": [
    "To replace errors with a default value, use **`possibly()`** "
   ]
  },
  {
   "cell_type": "code",
   "execution_count": 12,
   "metadata": {},
   "outputs": [
    {
     "data": {
      "text/html": [
       "2.30258509299405"
      ],
      "text/latex": [
       "2.30258509299405"
      ],
      "text/markdown": [
       "2.30258509299405"
      ],
      "text/plain": [
       "[1] 2.302585"
      ]
     },
     "metadata": {},
     "output_type": "display_data"
    },
    {
     "data": {
      "text/html": [
       "'error...'"
      ],
      "text/latex": [
       "'error...'"
      ],
      "text/markdown": [
       "'error...'"
      ],
      "text/plain": [
       "[1] \"error...\""
      ]
     },
     "metadata": {},
     "output_type": "display_data"
    }
   ],
   "source": [
    "possible_log <- possibly(log, otherwise = 'error...')\n",
    "\n",
    "possible_log(10)\n",
    "\n",
    "possible_log('a')"
   ]
  }
 ],
 "metadata": {
  "kernelspec": {
   "display_name": "R",
   "language": "R",
   "name": "ir"
  },
  "language_info": {
   "codemirror_mode": "r",
   "file_extension": ".r",
   "mimetype": "text/x-r-source",
   "name": "R",
   "pygments_lexer": "r",
   "version": "3.6.1"
  }
 },
 "nbformat": 4,
 "nbformat_minor": 2
}
