{
 "cells": [
  {
   "cell_type": "code",
   "execution_count": 2,
   "metadata": {},
   "outputs": [],
   "source": [
    "library(tidyverse)"
   ]
  },
  {
   "cell_type": "markdown",
   "metadata": {},
   "source": [
    "Adverbs modify the action of a function; taking a function as input and returning a function with modified action as output. It works like decorator in Python"
   ]
  },
  {
   "cell_type": "markdown",
   "metadata": {},
   "source": [
    "**`compose()`**: Compose multiple functions. By default, the functions are called from right to left"
   ]
  },
  {
   "cell_type": "code",
   "execution_count": 4,
   "metadata": {},
   "outputs": [
    {
     "data": {
      "text/html": [
       "TRUE"
      ],
      "text/latex": [
       "TRUE"
      ],
      "text/markdown": [
       "TRUE"
      ],
      "text/plain": [
       "[1] TRUE"
      ]
     },
     "metadata": {},
     "output_type": "display_data"
    },
    {
     "data": {
      "text/html": [
       "FALSE"
      ],
      "text/latex": [
       "FALSE"
      ],
      "text/markdown": [
       "FALSE"
      ],
      "text/plain": [
       "[1] FALSE"
      ]
     },
     "metadata": {},
     "output_type": "display_data"
    }
   ],
   "source": [
    "not_null <- compose(`!`, is.null)\n",
    "\n",
    "not_null(5)\n",
    "\n",
    "not_null(NULL)"
   ]
  },
  {
   "cell_type": "code",
   "execution_count": 10,
   "metadata": {},
   "outputs": [
    {
     "data": {
      "text/html": [
       "144"
      ],
      "text/latex": [
       "144"
      ],
      "text/markdown": [
       "144"
      ],
      "text/plain": [
       "[1] 144"
      ]
     },
     "metadata": {},
     "output_type": "display_data"
    },
    {
     "data": {
      "text/html": [
       "51"
      ],
      "text/latex": [
       "51"
      ],
      "text/markdown": [
       "51"
      ],
      "text/plain": [
       "[1] 51"
      ]
     },
     "metadata": {},
     "output_type": "display_data"
    }
   ],
   "source": [
    "add_1 <- function(x) x + 1\n",
    "mul_2 <- function(x) x * 2\n",
    "square <- function(x) x * x\n",
    "\n",
    "pipeline <- compose(square, mul_2, add_1)\n",
    "pipeline_rev <- compose(square, mul_2, add_1, .dir = 'forward')\n",
    "# square((5 + 1) * 2)\n",
    "pipeline(5)\n",
    "\n",
    "# (square(5) * 2) + 1\n",
    "pipeline_rev(5)"
   ]
  },
  {
   "cell_type": "code",
   "execution_count": 11,
   "metadata": {},
   "outputs": [
    {
     "data": {
      "text/html": [
       "144"
      ],
      "text/latex": [
       "144"
      ],
      "text/markdown": [
       "144"
      ],
      "text/plain": [
       "[1] 144"
      ]
     },
     "metadata": {},
     "output_type": "display_data"
    }
   ],
   "source": [
    "# Using tidy dot\n",
    "pipepline_tidy <- compose(!!!list(square, mul_2, add_1))\n",
    "pipepline_tidy(5)"
   ]
  }
 ],
 "metadata": {
  "kernelspec": {
   "display_name": "R",
   "language": "R",
   "name": "ir"
  },
  "language_info": {
   "codemirror_mode": "r",
   "file_extension": ".r",
   "mimetype": "text/x-r-source",
   "name": "R",
   "pygments_lexer": "r",
   "version": "3.6.1"
  }
 },
 "nbformat": 4,
 "nbformat_minor": 2
}
