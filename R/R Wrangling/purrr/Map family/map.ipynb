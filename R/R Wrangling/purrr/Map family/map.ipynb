{
 "cells": [
  {
   "cell_type": "code",
   "execution_count": 2,
   "metadata": {},
   "outputs": [],
   "source": [
    "library(tidyverse)"
   ]
  },
  {
   "cell_type": "markdown",
   "metadata": {},
   "source": [
    "# Apply a function to each element of a list or atomic vector"
   ]
  },
  {
   "cell_type": "markdown",
   "metadata": {},
   "source": [
    "The map functions transform their input by applying a function to each element of a list or atomic vector and returning an object of the same length as the input.\n",
    "\n",
    "* `map()` always returns a list. See the `modify()` family for versions that return an object of the same type as the input.\n",
    "\n",
    "* `map_lgl()`, `map_int()`, `map_dbl()` and `map_chr()` return an atomic vector of the indicated type (or die trying).\n",
    "\n",
    "* `map_dfr()` and `map_dfc()` return a data frame created by row-binding and column-binding respectively. They require `dplyr` to be installed.\n",
    "\n",
    "* The returned values of `.f` must be of length one for each element of `.x`. If `.f` uses an extractor function shortcut, .default can be specified to handle values that are absent or empty. See `as_mapper()` for more on .default.\n",
    "\n",
    "* `walk()` calls `.f` for its side-effect and returns the input `.x`."
   ]
  },
  {
   "cell_type": "markdown",
   "metadata": {},
   "source": [
    "```r\n",
    "map(.x, .f, ...)\n",
    "\n",
    "map_lgl(.x, .f, ...)\n",
    "\n",
    "map_chr(.x, .f, ...)\n",
    "\n",
    "map_int(.x, .f, ...)\n",
    "\n",
    "map_dbl(.x, .f, ...)\n",
    "\n",
    "map_raw(.x, .f, ...)\n",
    "\n",
    "map_dfr(.x, .f, ..., .id = NULL)\n",
    "\n",
    "map_dfc(.x, .f, ...)\n",
    "\n",
    "walk(.x, .f, ...)`\n",
    "```"
   ]
  },
  {
   "cell_type": "markdown",
   "metadata": {},
   "source": [
    "**Arguments**\n",
    "`.id`\t\n",
    "Either a string or NULL. If a string, the output will contain a variable with that name, storing either the name (if `.x` is named) or the index (if `.x` is unnamed) of the input. If NULL, the default, no variable will be created.\n",
    "\n",
    "Only applies to `_dfr` variant."
   ]
  },
  {
   "cell_type": "markdown",
   "metadata": {},
   "source": [
    "# Examples"
   ]
  },
  {
   "cell_type": "code",
   "execution_count": 4,
   "metadata": {},
   "outputs": [],
   "source": [
    "players <- c('VN Pikachu', 'Meomeo888', 'Tank Cao')"
   ]
  },
  {
   "cell_type": "code",
   "execution_count": 5,
   "metadata": {},
   "outputs": [
    {
     "data": {
      "text/html": [
       "<ol class=list-inline>\n",
       "\t<li>'hu'</li>\n",
       "\t<li>'88'</li>\n",
       "\t<li>'ao'</li>\n",
       "</ol>\n"
      ],
      "text/latex": [
       "\\begin{enumerate*}\n",
       "\\item 'hu'\n",
       "\\item '88'\n",
       "\\item 'ao'\n",
       "\\end{enumerate*}\n"
      ],
      "text/markdown": [
       "1. 'hu'\n",
       "2. '88'\n",
       "3. 'ao'\n",
       "\n",
       "\n"
      ],
      "text/plain": [
       "[1] \"hu\" \"88\" \"ao\""
      ]
     },
     "metadata": {},
     "output_type": "display_data"
    }
   ],
   "source": [
    "# Extract 2 last characters from each string\n",
    "\n",
    "players %>% map_chr(str_sub, start = -2, end = -1)"
   ]
  },
  {
   "cell_type": "code",
   "execution_count": 19,
   "metadata": {},
   "outputs": [
    {
     "data": {
      "text/html": [
       "<ol class=list-inline>\n",
       "\t<li>TRUE</li>\n",
       "\t<li>FALSE</li>\n",
       "\t<li>FALSE</li>\n",
       "</ol>\n"
      ],
      "text/latex": [
       "\\begin{enumerate*}\n",
       "\\item TRUE\n",
       "\\item FALSE\n",
       "\\item FALSE\n",
       "\\end{enumerate*}\n"
      ],
      "text/markdown": [
       "1. TRUE\n",
       "2. FALSE\n",
       "3. FALSE\n",
       "\n",
       "\n"
      ],
      "text/plain": [
       "[1]  TRUE FALSE FALSE"
      ]
     },
     "metadata": {},
     "output_type": "display_data"
    }
   ],
   "source": [
    "# Use an anonymous function\n",
    "# Check if each string contains 'VN'\n",
    "players %>% map_lgl(function(value) value %>% str_detect('VN'))"
   ]
  },
  {
   "cell_type": "code",
   "execution_count": 20,
   "metadata": {},
   "outputs": [
    {
     "data": {
      "text/html": [
       "<ol class=list-inline>\n",
       "\t<li>'hu'</li>\n",
       "\t<li>'88'</li>\n",
       "\t<li>'ao'</li>\n",
       "</ol>\n"
      ],
      "text/latex": [
       "\\begin{enumerate*}\n",
       "\\item 'hu'\n",
       "\\item '88'\n",
       "\\item 'ao'\n",
       "\\end{enumerate*}\n"
      ],
      "text/markdown": [
       "1. 'hu'\n",
       "2. '88'\n",
       "3. 'ao'\n",
       "\n",
       "\n"
      ],
      "text/plain": [
       "[1] \"hu\" \"88\" \"ao\""
      ]
     },
     "metadata": {},
     "output_type": "display_data"
    }
   ],
   "source": [
    "# You can also use a formula\n",
    "# Get 2 last characters of each string\n",
    "players %>% map_chr(~ str_sub(., -2, -1))"
   ]
  },
  {
   "cell_type": "code",
   "execution_count": 17,
   "metadata": {},
   "outputs": [
    {
     "data": {
      "text/html": [
       "FALSE"
      ],
      "text/latex": [
       "FALSE"
      ],
      "text/markdown": [
       "FALSE"
      ],
      "text/plain": [
       "[1] FALSE"
      ]
     },
     "metadata": {},
     "output_type": "display_data"
    }
   ],
   "source": [
    "'VN' %in% 'VN Pikachu'"
   ]
  },
  {
   "cell_type": "code",
   "execution_count": 21,
   "metadata": {},
   "outputs": [
    {
     "data": {
      "text/html": [
       "<dl class=dl-horizontal>\n",
       "\t<dt>foo</dt>\n",
       "\t\t<dd>'foo:suffix'</dd>\n",
       "\t<dt>bar</dt>\n",
       "\t\t<dd>'bar:suffix'</dd>\n",
       "</dl>\n"
      ],
      "text/latex": [
       "\\begin{description*}\n",
       "\\item[foo] 'foo:suffix'\n",
       "\\item[bar] 'bar:suffix'\n",
       "\\end{description*}\n"
      ],
      "text/markdown": [
       "foo\n",
       ":   'foo:suffix'bar\n",
       ":   'bar:suffix'\n",
       "\n"
      ],
      "text/plain": [
       "         foo          bar \n",
       "\"foo:suffix\" \"bar:suffix\" "
      ]
     },
     "metadata": {},
     "output_type": "display_data"
    }
   ],
   "source": [
    "# Using set_names() with character vectors is handy to keep track\n",
    "# of the original inputs:\n",
    "set_names(c(\"foo\", \"bar\")) %>% map_chr(paste0, \":suffix\")\n"
   ]
  },
  {
   "cell_type": "markdown",
   "metadata": {},
   "source": [
    "<hr>"
   ]
  },
  {
   "cell_type": "markdown",
   "metadata": {},
   "source": [
    "Working with list"
   ]
  },
  {
   "cell_type": "code",
   "execution_count": 23,
   "metadata": {},
   "outputs": [
    {
     "data": {
      "text/html": [
       "<dl>\n",
       "\t<dt>$Sophia</dt>\n",
       "\t\t<dd>'banana bread'</dd>\n",
       "\t<dt>$Eliott</dt>\n",
       "\t\t<dd>'pancakes'</dd>\n",
       "\t<dt>$Karina</dt>\n",
       "\t\t<dd>'chocolate cake'</dd>\n",
       "</dl>\n"
      ],
      "text/latex": [
       "\\begin{description}\n",
       "\\item[\\$Sophia] 'banana bread'\n",
       "\\item[\\$Eliott] 'pancakes'\n",
       "\\item[\\$Karina] 'chocolate cake'\n",
       "\\end{description}\n"
      ],
      "text/markdown": [
       "$Sophia\n",
       ":   'banana bread'\n",
       "$Eliott\n",
       ":   'pancakes'\n",
       "$Karina\n",
       ":   'chocolate cake'\n",
       "\n",
       "\n"
      ],
      "text/plain": [
       "$Sophia\n",
       "[1] \"banana bread\"\n",
       "\n",
       "$Eliott\n",
       "[1] \"pancakes\"\n",
       "\n",
       "$Karina\n",
       "[1] \"chocolate cake\"\n"
      ]
     },
     "metadata": {},
     "output_type": "display_data"
    }
   ],
   "source": [
    "favorite_desserts <- list(Sophia = \"banana bread\", Eliott = \"pancakes\", Karina = \"chocolate cake\")\n",
    "\n",
    "favorite_desserts"
   ]
  },
  {
   "cell_type": "code",
   "execution_count": 24,
   "metadata": {},
   "outputs": [
    {
     "data": {
      "text/html": [
       "<dl class=dl-horizontal>\n",
       "\t<dt>Sophia</dt>\n",
       "\t\t<dd>'banana bread:suffix'</dd>\n",
       "\t<dt>Eliott</dt>\n",
       "\t\t<dd>'pancakes:suffix'</dd>\n",
       "\t<dt>Karina</dt>\n",
       "\t\t<dd>'chocolate cake:suffix'</dd>\n",
       "</dl>\n"
      ],
      "text/latex": [
       "\\begin{description*}\n",
       "\\item[Sophia] 'banana bread:suffix'\n",
       "\\item[Eliott] 'pancakes:suffix'\n",
       "\\item[Karina] 'chocolate cake:suffix'\n",
       "\\end{description*}\n"
      ],
      "text/markdown": [
       "Sophia\n",
       ":   'banana bread:suffix'Eliott\n",
       ":   'pancakes:suffix'Karina\n",
       ":   'chocolate cake:suffix'\n",
       "\n"
      ],
      "text/plain": [
       "                 Sophia                  Eliott                  Karina \n",
       "  \"banana bread:suffix\"       \"pancakes:suffix\" \"chocolate cake:suffix\" "
      ]
     },
     "metadata": {},
     "output_type": "display_data"
    }
   ],
   "source": [
    "favorite_desserts %>% map_chr(~ str_c(., ':suffix'))"
   ]
  },
  {
   "cell_type": "code",
   "execution_count": 29,
   "metadata": {},
   "outputs": [
    {
     "data": {
      "text/html": [
       "<ol>\n",
       "\t<li>1</li>\n",
       "\t<li>'????'</li>\n",
       "\t<li>'????'</li>\n",
       "</ol>\n"
      ],
      "text/latex": [
       "\\begin{enumerate}\n",
       "\\item 1\n",
       "\\item '????'\n",
       "\\item '????'\n",
       "\\end{enumerate}\n"
      ],
      "text/markdown": [
       "1. 1\n",
       "2. '????'\n",
       "3. '????'\n",
       "\n",
       "\n"
      ],
      "text/plain": [
       "[[1]]\n",
       "[1] 1\n",
       "\n",
       "[[2]]\n",
       "[1] \"????\"\n",
       "\n",
       "[[3]]\n",
       "[1] \"????\"\n"
      ]
     },
     "metadata": {},
     "output_type": "display_data"
    }
   ],
   "source": [
    "# Extractor function\n",
    "# Extract by name or position\n",
    "# .default specifies value for elements that are missing or NULL\n",
    "\n",
    "l1 <- list(list(a = 1L), list(a = NULL, b = 2L), list(b = 3L))\n",
    "\n",
    "l1 %>% map('a', .default = '????')"
   ]
  },
  {
   "cell_type": "code",
   "execution_count": 30,
   "metadata": {},
   "outputs": [
    {
     "data": {
      "text/html": [
       "<ol>\n",
       "\t<li>&lt;NA&gt;</li>\n",
       "\t<li>2</li>\n",
       "\t<li>3</li>\n",
       "</ol>\n"
      ],
      "text/latex": [
       "\\begin{enumerate}\n",
       "\\item <NA>\n",
       "\\item 2\n",
       "\\item 3\n",
       "\\end{enumerate}\n"
      ],
      "text/markdown": [
       "1. &lt;NA&gt;\n",
       "2. 2\n",
       "3. 3\n",
       "\n",
       "\n"
      ],
      "text/plain": [
       "[[1]]\n",
       "[1] NA\n",
       "\n",
       "[[2]]\n",
       "[1] 2\n",
       "\n",
       "[[3]]\n",
       "[1] 3\n"
      ]
     },
     "metadata": {},
     "output_type": "display_data"
    }
   ],
   "source": [
    "l1 %>% map('b', .default = NA)"
   ]
  },
  {
   "cell_type": "code",
   "execution_count": 31,
   "metadata": {},
   "outputs": [
    {
     "data": {
      "text/html": [
       "<ol>\n",
       "\t<li><dl>\n",
       "\t<dt>$num</dt>\n",
       "\t\t<dd><ol class=list-inline>\n",
       "\t<li>1</li>\n",
       "\t<li>2</li>\n",
       "\t<li>3</li>\n",
       "</ol>\n",
       "</dd>\n",
       "\t<dt>[[2]]</dt>\n",
       "\t\t<dd><ol class=list-inline>\n",
       "\t<li>'a'</li>\n",
       "\t<li>'b'</li>\n",
       "\t<li>'c'</li>\n",
       "</ol>\n",
       "</dd>\n",
       "</dl>\n",
       "</li>\n",
       "\t<li><dl>\n",
       "\t<dt>$num</dt>\n",
       "\t\t<dd><ol class=list-inline>\n",
       "\t<li>101</li>\n",
       "\t<li>102</li>\n",
       "\t<li>103</li>\n",
       "</ol>\n",
       "</dd>\n",
       "\t<dt>[[2]]</dt>\n",
       "\t\t<dd><ol class=list-inline>\n",
       "\t<li>'d'</li>\n",
       "\t<li>'e'</li>\n",
       "\t<li>'f'</li>\n",
       "</ol>\n",
       "</dd>\n",
       "</dl>\n",
       "</li>\n",
       "\t<li><ol>\n",
       "</ol>\n",
       "</li>\n",
       "</ol>\n"
      ],
      "text/latex": [
       "\\begin{enumerate}\n",
       "\\item \\begin{description}\n",
       "\\item[\\$num] \\begin{enumerate*}\n",
       "\\item 1\n",
       "\\item 2\n",
       "\\item 3\n",
       "\\end{enumerate*}\n",
       "\n",
       "\\item[{[[2]]}] \\begin{enumerate*}\n",
       "\\item 'a'\n",
       "\\item 'b'\n",
       "\\item 'c'\n",
       "\\end{enumerate*}\n",
       "\n",
       "\\end{description}\n",
       "\n",
       "\\item \\begin{description}\n",
       "\\item[\\$num] \\begin{enumerate*}\n",
       "\\item 101\n",
       "\\item 102\n",
       "\\item 103\n",
       "\\end{enumerate*}\n",
       "\n",
       "\\item[{[[2]]}] \\begin{enumerate*}\n",
       "\\item 'd'\n",
       "\\item 'e'\n",
       "\\item 'f'\n",
       "\\end{enumerate*}\n",
       "\n",
       "\\end{description}\n",
       "\n",
       "\\item \\begin{enumerate}\n",
       "\\end{enumerate}\n",
       "\n",
       "\\end{enumerate}\n"
      ],
      "text/markdown": [
       "1. $num\n",
       ":   1. 1\n",
       "2. 2\n",
       "3. 3\n",
       "\n",
       "\n",
       "\n",
       "[[2]]\n",
       ":   1. 'a'\n",
       "2. 'b'\n",
       "3. 'c'\n",
       "\n",
       "\n",
       "\n",
       "\n",
       "\n",
       "\n",
       "2. $num\n",
       ":   1. 101\n",
       "2. 102\n",
       "3. 103\n",
       "\n",
       "\n",
       "\n",
       "[[2]]\n",
       ":   1. 'd'\n",
       "2. 'e'\n",
       "3. 'f'\n",
       "\n",
       "\n",
       "\n",
       "\n",
       "\n",
       "\n",
       "3. \n",
       "\n",
       "\n",
       "\n",
       "\n"
      ],
      "text/plain": [
       "[[1]]\n",
       "[[1]]$num\n",
       "[1] 1 2 3\n",
       "\n",
       "[[1]][[2]]\n",
       "[1] \"a\" \"b\" \"c\"\n",
       "\n",
       "\n",
       "[[2]]\n",
       "[[2]]$num\n",
       "[1] 101 102 103\n",
       "\n",
       "[[2]][[2]]\n",
       "[1] \"d\" \"e\" \"f\"\n",
       "\n",
       "\n",
       "[[3]]\n",
       "list()\n"
      ]
     },
     "metadata": {},
     "output_type": "display_data"
    }
   ],
   "source": [
    "# Supply multiple values to index deeply into a list\n",
    "l2 <- list(\n",
    "  list(num = 1:3,     letters[1:3]),\n",
    "  list(num = 101:103, letters[4:6]),\n",
    "  list()\n",
    ")\n",
    "\n",
    "l2"
   ]
  },
  {
   "cell_type": "code",
   "execution_count": 33,
   "metadata": {},
   "outputs": [
    {
     "data": {
      "text/html": [
       "<ol>\n",
       "\t<li>'b'</li>\n",
       "\t<li>'e'</li>\n",
       "\t<li>NULL</li>\n",
       "</ol>\n"
      ],
      "text/latex": [
       "\\begin{enumerate}\n",
       "\\item 'b'\n",
       "\\item 'e'\n",
       "\\item NULL\n",
       "\\end{enumerate}\n"
      ],
      "text/markdown": [
       "1. 'b'\n",
       "2. 'e'\n",
       "3. NULL\n",
       "\n",
       "\n"
      ],
      "text/plain": [
       "[[1]]\n",
       "[1] \"b\"\n",
       "\n",
       "[[2]]\n",
       "[1] \"e\"\n",
       "\n",
       "[[3]]\n",
       "NULL\n"
      ]
     },
     "metadata": {},
     "output_type": "display_data"
    }
   ],
   "source": [
    "l2 %>% map(c(2, 2))"
   ]
  },
  {
   "cell_type": "code",
   "execution_count": 35,
   "metadata": {},
   "outputs": [
    {
     "data": {
      "text/html": [
       "<ol>\n",
       "\t<li>1</li>\n",
       "\t<li>101</li>\n",
       "\t<li>'unknown'</li>\n",
       "</ol>\n"
      ],
      "text/latex": [
       "\\begin{enumerate}\n",
       "\\item 1\n",
       "\\item 101\n",
       "\\item 'unknown'\n",
       "\\end{enumerate}\n"
      ],
      "text/markdown": [
       "1. 1\n",
       "2. 101\n",
       "3. 'unknown'\n",
       "\n",
       "\n"
      ],
      "text/plain": [
       "[[1]]\n",
       "[1] 1\n",
       "\n",
       "[[2]]\n",
       "[1] 101\n",
       "\n",
       "[[3]]\n",
       "[1] \"unknown\"\n"
      ]
     },
     "metadata": {},
     "output_type": "display_data"
    }
   ],
   "source": [
    "# Use a list to build an extractor that mixes numeric indices and names,\n",
    "# and .default to provide a default value if the element does not exist\n",
    "\n",
    "l2 %>% map(list('num', 1), .default = 'unknown')"
   ]
  },
  {
   "cell_type": "markdown",
   "metadata": {},
   "source": [
    "<hr>"
   ]
  },
  {
   "cell_type": "markdown",
   "metadata": {},
   "source": [
    "Working with dataframe"
   ]
  },
  {
   "cell_type": "code",
   "execution_count": 36,
   "metadata": {},
   "outputs": [
    {
     "data": {
      "text/html": [
       "<table>\n",
       "<thead><tr><th></th><th scope=col>mpg</th><th scope=col>cyl</th><th scope=col>disp</th><th scope=col>hp</th><th scope=col>drat</th><th scope=col>wt</th><th scope=col>qsec</th><th scope=col>vs</th><th scope=col>am</th><th scope=col>gear</th><th scope=col>carb</th></tr></thead>\n",
       "<tbody>\n",
       "\t<tr><th scope=row>Mazda RX4</th><td>21.0 </td><td>6    </td><td>160  </td><td>110  </td><td>3.90 </td><td>2.620</td><td>16.46</td><td>0    </td><td>1    </td><td>4    </td><td>4    </td></tr>\n",
       "\t<tr><th scope=row>Mazda RX4 Wag</th><td>21.0 </td><td>6    </td><td>160  </td><td>110  </td><td>3.90 </td><td>2.875</td><td>17.02</td><td>0    </td><td>1    </td><td>4    </td><td>4    </td></tr>\n",
       "\t<tr><th scope=row>Datsun 710</th><td>22.8 </td><td>4    </td><td>108  </td><td> 93  </td><td>3.85 </td><td>2.320</td><td>18.61</td><td>1    </td><td>1    </td><td>4    </td><td>1    </td></tr>\n",
       "\t<tr><th scope=row>Hornet 4 Drive</th><td>21.4 </td><td>6    </td><td>258  </td><td>110  </td><td>3.08 </td><td>3.215</td><td>19.44</td><td>1    </td><td>0    </td><td>3    </td><td>1    </td></tr>\n",
       "\t<tr><th scope=row>Hornet Sportabout</th><td>18.7 </td><td>8    </td><td>360  </td><td>175  </td><td>3.15 </td><td>3.440</td><td>17.02</td><td>0    </td><td>0    </td><td>3    </td><td>2    </td></tr>\n",
       "\t<tr><th scope=row>Valiant</th><td>18.1 </td><td>6    </td><td>225  </td><td>105  </td><td>2.76 </td><td>3.460</td><td>20.22</td><td>1    </td><td>0    </td><td>3    </td><td>1    </td></tr>\n",
       "</tbody>\n",
       "</table>\n"
      ],
      "text/latex": [
       "\\begin{tabular}{r|lllllllllll}\n",
       "  & mpg & cyl & disp & hp & drat & wt & qsec & vs & am & gear & carb\\\\\n",
       "\\hline\n",
       "\tMazda RX4 & 21.0  & 6     & 160   & 110   & 3.90  & 2.620 & 16.46 & 0     & 1     & 4     & 4    \\\\\n",
       "\tMazda RX4 Wag & 21.0  & 6     & 160   & 110   & 3.90  & 2.875 & 17.02 & 0     & 1     & 4     & 4    \\\\\n",
       "\tDatsun 710 & 22.8  & 4     & 108   &  93   & 3.85  & 2.320 & 18.61 & 1     & 1     & 4     & 1    \\\\\n",
       "\tHornet 4 Drive & 21.4  & 6     & 258   & 110   & 3.08  & 3.215 & 19.44 & 1     & 0     & 3     & 1    \\\\\n",
       "\tHornet Sportabout & 18.7  & 8     & 360   & 175   & 3.15  & 3.440 & 17.02 & 0     & 0     & 3     & 2    \\\\\n",
       "\tValiant & 18.1  & 6     & 225   & 105   & 2.76  & 3.460 & 20.22 & 1     & 0     & 3     & 1    \\\\\n",
       "\\end{tabular}\n"
      ],
      "text/markdown": [
       "\n",
       "| <!--/--> | mpg | cyl | disp | hp | drat | wt | qsec | vs | am | gear | carb |\n",
       "|---|---|---|---|---|---|---|---|---|---|---|---|\n",
       "| Mazda RX4 | 21.0  | 6     | 160   | 110   | 3.90  | 2.620 | 16.46 | 0     | 1     | 4     | 4     |\n",
       "| Mazda RX4 Wag | 21.0  | 6     | 160   | 110   | 3.90  | 2.875 | 17.02 | 0     | 1     | 4     | 4     |\n",
       "| Datsun 710 | 22.8  | 4     | 108   |  93   | 3.85  | 2.320 | 18.61 | 1     | 1     | 4     | 1     |\n",
       "| Hornet 4 Drive | 21.4  | 6     | 258   | 110   | 3.08  | 3.215 | 19.44 | 1     | 0     | 3     | 1     |\n",
       "| Hornet Sportabout | 18.7  | 8     | 360   | 175   | 3.15  | 3.440 | 17.02 | 0     | 0     | 3     | 2     |\n",
       "| Valiant | 18.1  | 6     | 225   | 105   | 2.76  | 3.460 | 20.22 | 1     | 0     | 3     | 1     |\n",
       "\n"
      ],
      "text/plain": [
       "                  mpg  cyl disp hp  drat wt    qsec  vs am gear carb\n",
       "Mazda RX4         21.0 6   160  110 3.90 2.620 16.46 0  1  4    4   \n",
       "Mazda RX4 Wag     21.0 6   160  110 3.90 2.875 17.02 0  1  4    4   \n",
       "Datsun 710        22.8 4   108   93 3.85 2.320 18.61 1  1  4    1   \n",
       "Hornet 4 Drive    21.4 6   258  110 3.08 3.215 19.44 1  0  3    1   \n",
       "Hornet Sportabout 18.7 8   360  175 3.15 3.440 17.02 0  0  3    2   \n",
       "Valiant           18.1 6   225  105 2.76 3.460 20.22 1  0  3    1   "
      ]
     },
     "metadata": {},
     "output_type": "display_data"
    }
   ],
   "source": [
    "head(mtcars)"
   ]
  },
  {
   "cell_type": "code",
   "execution_count": 37,
   "metadata": {},
   "outputs": [
    {
     "data": {
      "text/html": [
       "<dl class=dl-horizontal>\n",
       "\t<dt>mpg</dt>\n",
       "\t\t<dd>642.9</dd>\n",
       "\t<dt>cyl</dt>\n",
       "\t\t<dd>198</dd>\n",
       "\t<dt>disp</dt>\n",
       "\t\t<dd>7383.1</dd>\n",
       "\t<dt>hp</dt>\n",
       "\t\t<dd>4694</dd>\n",
       "\t<dt>drat</dt>\n",
       "\t\t<dd>115.09</dd>\n",
       "\t<dt>wt</dt>\n",
       "\t\t<dd>102.952</dd>\n",
       "\t<dt>qsec</dt>\n",
       "\t\t<dd>571.16</dd>\n",
       "\t<dt>vs</dt>\n",
       "\t\t<dd>14</dd>\n",
       "\t<dt>am</dt>\n",
       "\t\t<dd>13</dd>\n",
       "\t<dt>gear</dt>\n",
       "\t\t<dd>118</dd>\n",
       "\t<dt>carb</dt>\n",
       "\t\t<dd>90</dd>\n",
       "</dl>\n"
      ],
      "text/latex": [
       "\\begin{description*}\n",
       "\\item[mpg] 642.9\n",
       "\\item[cyl] 198\n",
       "\\item[disp] 7383.1\n",
       "\\item[hp] 4694\n",
       "\\item[drat] 115.09\n",
       "\\item[wt] 102.952\n",
       "\\item[qsec] 571.16\n",
       "\\item[vs] 14\n",
       "\\item[am] 13\n",
       "\\item[gear] 118\n",
       "\\item[carb] 90\n",
       "\\end{description*}\n"
      ],
      "text/markdown": [
       "mpg\n",
       ":   642.9cyl\n",
       ":   198disp\n",
       ":   7383.1hp\n",
       ":   4694drat\n",
       ":   115.09wt\n",
       ":   102.952qsec\n",
       ":   571.16vs\n",
       ":   14am\n",
       ":   13gear\n",
       ":   118carb\n",
       ":   90\n",
       "\n"
      ],
      "text/plain": [
       "     mpg      cyl     disp       hp     drat       wt     qsec       vs \n",
       " 642.900  198.000 7383.100 4694.000  115.090  102.952  571.160   14.000 \n",
       "      am     gear     carb \n",
       "  13.000  118.000   90.000 "
      ]
     },
     "metadata": {},
     "output_type": "display_data"
    }
   ],
   "source": [
    "# calculate the sum of each column\n",
    "mtcars %>% map_dbl(sum)"
   ]
  },
  {
   "cell_type": "code",
   "execution_count": 42,
   "metadata": {},
   "outputs": [
    {
     "data": {
      "text/html": [
       "<dl class=dl-horizontal>\n",
       "\t<dt>4</dt>\n",
       "\t\t<dd>0.50863259632314</dd>\n",
       "\t<dt>6</dt>\n",
       "\t\t<dd>0.464510150550548</dd>\n",
       "\t<dt>8</dt>\n",
       "\t\t<dd>0.422965536496112</dd>\n",
       "</dl>\n"
      ],
      "text/latex": [
       "\\begin{description*}\n",
       "\\item[4] 0.50863259632314\n",
       "\\item[6] 0.464510150550548\n",
       "\\item[8] 0.422965536496112\n",
       "\\end{description*}\n"
      ],
      "text/markdown": [
       "4\n",
       ":   0.508632596323146\n",
       ":   0.4645101505505488\n",
       ":   0.422965536496112\n",
       "\n"
      ],
      "text/plain": [
       "        4         6         8 \n",
       "0.5086326 0.4645102 0.4229655 "
      ]
     },
     "metadata": {},
     "output_type": "display_data"
    }
   ],
   "source": [
    "# A more realistic example: split a data frame into pieces, fit a\n",
    "# model to each piece, summarise and extract R^2\n",
    "mtcars %>% split(.$cyl) %>% map(~ lm(mpg ~ wt, data = .)) %>% map(summary) %>% map_dbl(\"r.squared\")\n",
    "\n"
   ]
  },
  {
   "cell_type": "code",
   "execution_count": 56,
   "metadata": {},
   "outputs": [
    {
     "data": {
      "text/html": [
       "<table>\n",
       "<thead><tr><th scope=col>V1</th><th scope=col>V2</th></tr></thead>\n",
       "<tbody>\n",
       "\t<tr><td>1</td><td>3</td></tr>\n",
       "\t<tr><td>2</td><td>4</td></tr>\n",
       "\t<tr><td>1</td><td>3</td></tr>\n",
       "\t<tr><td>2</td><td>4</td></tr>\n",
       "\t<tr><td>1</td><td>3</td></tr>\n",
       "\t<tr><td>2</td><td>4</td></tr>\n",
       "</tbody>\n",
       "</table>\n"
      ],
      "text/latex": [
       "\\begin{tabular}{r|ll}\n",
       " V1 & V2\\\\\n",
       "\\hline\n",
       "\t 1 & 3\\\\\n",
       "\t 2 & 4\\\\\n",
       "\t 1 & 3\\\\\n",
       "\t 2 & 4\\\\\n",
       "\t 1 & 3\\\\\n",
       "\t 2 & 4\\\\\n",
       "\\end{tabular}\n"
      ],
      "text/markdown": [
       "\n",
       "| V1 | V2 |\n",
       "|---|---|\n",
       "| 1 | 3 |\n",
       "| 2 | 4 |\n",
       "| 1 | 3 |\n",
       "| 2 | 4 |\n",
       "| 1 | 3 |\n",
       "| 2 | 4 |\n",
       "\n"
      ],
      "text/plain": [
       "  V1 V2\n",
       "1 1  3 \n",
       "2 2  4 \n",
       "3 1  3 \n",
       "4 2  4 \n",
       "5 1  3 \n",
       "6 2  4 "
      ]
     },
     "metadata": {},
     "output_type": "display_data"
    },
    {
     "data": {
      "text/html": [
       "<table>\n",
       "<thead><tr><th scope=col>unique key</th><th scope=col>V1</th><th scope=col>V2</th></tr></thead>\n",
       "<tbody>\n",
       "\t<tr><td>A</td><td>1</td><td>3</td></tr>\n",
       "\t<tr><td>A</td><td>2</td><td>4</td></tr>\n",
       "\t<tr><td>B</td><td>1</td><td>3</td></tr>\n",
       "\t<tr><td>B</td><td>2</td><td>4</td></tr>\n",
       "\t<tr><td>C</td><td>1</td><td>3</td></tr>\n",
       "\t<tr><td>C</td><td>2</td><td>4</td></tr>\n",
       "</tbody>\n",
       "</table>\n"
      ],
      "text/latex": [
       "\\begin{tabular}{r|lll}\n",
       " unique key & V1 & V2\\\\\n",
       "\\hline\n",
       "\t A & 1 & 3\\\\\n",
       "\t A & 2 & 4\\\\\n",
       "\t B & 1 & 3\\\\\n",
       "\t B & 2 & 4\\\\\n",
       "\t C & 1 & 3\\\\\n",
       "\t C & 2 & 4\\\\\n",
       "\\end{tabular}\n"
      ],
      "text/markdown": [
       "\n",
       "| unique key | V1 | V2 |\n",
       "|---|---|---|\n",
       "| A | 1 | 3 |\n",
       "| A | 2 | 4 |\n",
       "| B | 1 | 3 |\n",
       "| B | 2 | 4 |\n",
       "| C | 1 | 3 |\n",
       "| C | 2 | 4 |\n",
       "\n"
      ],
      "text/plain": [
       "  unique key V1 V2\n",
       "1 A          1  3 \n",
       "2 A          2  4 \n",
       "3 B          1  3 \n",
       "4 B          2  4 \n",
       "5 C          1  3 \n",
       "6 C          2  4 "
      ]
     },
     "metadata": {},
     "output_type": "display_data"
    },
    {
     "data": {
      "text/html": [
       "<table>\n",
       "<thead><tr><th scope=col>unique key</th><th scope=col>V1</th><th scope=col>V2</th></tr></thead>\n",
       "<tbody>\n",
       "\t<tr><td>1</td><td>1</td><td>3</td></tr>\n",
       "\t<tr><td>1</td><td>2</td><td>4</td></tr>\n",
       "\t<tr><td>2</td><td>1</td><td>3</td></tr>\n",
       "\t<tr><td>2</td><td>2</td><td>4</td></tr>\n",
       "\t<tr><td>3</td><td>1</td><td>3</td></tr>\n",
       "\t<tr><td>3</td><td>2</td><td>4</td></tr>\n",
       "</tbody>\n",
       "</table>\n"
      ],
      "text/latex": [
       "\\begin{tabular}{r|lll}\n",
       " unique key & V1 & V2\\\\\n",
       "\\hline\n",
       "\t 1 & 1 & 3\\\\\n",
       "\t 1 & 2 & 4\\\\\n",
       "\t 2 & 1 & 3\\\\\n",
       "\t 2 & 2 & 4\\\\\n",
       "\t 3 & 1 & 3\\\\\n",
       "\t 3 & 2 & 4\\\\\n",
       "\\end{tabular}\n"
      ],
      "text/markdown": [
       "\n",
       "| unique key | V1 | V2 |\n",
       "|---|---|---|\n",
       "| 1 | 1 | 3 |\n",
       "| 1 | 2 | 4 |\n",
       "| 2 | 1 | 3 |\n",
       "| 2 | 2 | 4 |\n",
       "| 3 | 1 | 3 |\n",
       "| 3 | 2 | 4 |\n",
       "\n"
      ],
      "text/plain": [
       "  unique key V1 V2\n",
       "1 1          1  3 \n",
       "2 1          2  4 \n",
       "3 2          1  3 \n",
       "4 2          2  4 \n",
       "5 3          1  3 \n",
       "6 3          2  4 "
      ]
     },
     "metadata": {},
     "output_type": "display_data"
    }
   ],
   "source": [
    "# If each element of the output is a data frame, use\n",
    "# map_dfr to row-bind them together:\n",
    "a <- matrix(1:4, 2, 2)\n",
    "b <- matrix(1:4, 2, 2)\n",
    "c <- matrix(1:4, 2, 2)\n",
    "\n",
    "list('A' = a, 'B' = b, 'C' = c) %>% map_dfr(as.data.frame)\n",
    "\n",
    "# Adding id column\n",
    "list('A' = a, 'B' = b, 'C' = c) %>% map_dfr(as.data.frame, .id = 'unique key')\n",
    "\n",
    "#If do not use a named list, the id for each group will be an integer\n",
    "list(a, b, c) %>% map_dfr(~ as.data.frame(.), .id = 'unique key')"
   ]
  }
 ],
 "metadata": {
  "kernelspec": {
   "display_name": "R",
   "language": "R",
   "name": "ir"
  },
  "language_info": {
   "codemirror_mode": "r",
   "file_extension": ".r",
   "mimetype": "text/x-r-source",
   "name": "R",
   "pygments_lexer": "r",
   "version": "3.6.1"
  }
 },
 "nbformat": 4,
 "nbformat_minor": 2
}
