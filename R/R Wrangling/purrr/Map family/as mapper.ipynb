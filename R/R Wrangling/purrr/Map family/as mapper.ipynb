{
 "cells": [
  {
   "cell_type": "code",
   "execution_count": 2,
   "metadata": {},
   "outputs": [],
   "source": [
    "library(tidyverse)"
   ]
  },
  {
   "cell_type": "markdown",
   "metadata": {},
   "source": [
    "# Convert an object into a mapper function"
   ]
  },
  {
   "cell_type": "markdown",
   "metadata": {},
   "source": [
    "```r\n",
    "as_mapper(.f, ...)\n",
    "\n",
    "# S3 method for character\n",
    "as_mapper(.f, ..., .null, .default = NULL)\n",
    "\n",
    "# S3 method for numeric\n",
    "as_mapper(.f, ..., .null, .default = NULL)\n",
    "\n",
    "# S3 method for list\n",
    "as_mapper(.f, ..., .null, .default = NULL)\n",
    "```"
   ]
  },
  {
   "cell_type": "markdown",
   "metadata": {},
   "source": [
    "# Examples"
   ]
  },
  {
   "cell_type": "code",
   "execution_count": 6,
   "metadata": {},
   "outputs": [
    {
     "name": "stdout",
     "output_type": "stream",
     "text": [
      "<lambda>\n",
      "function (..., .x = ..1, .y = ..2, . = ..1) \n",
      ". + 2\n",
      "attr(,\"class\")\n",
      "[1] \"rlang_lambda_function\" \"function\"             \n"
     ]
    }
   ],
   "source": [
    "as_mapper(~ . + 2) %>% print()"
   ]
  },
  {
   "cell_type": "code",
   "execution_count": 7,
   "metadata": {},
   "outputs": [
    {
     "name": "stdout",
     "output_type": "stream",
     "text": [
      "function (x, ...) \n",
      "pluck(x, 1, .default = NULL)\n",
      "<environment: 0x000000003f927288>\n"
     ]
    }
   ],
   "source": [
    "as_mapper(1) %>% print()"
   ]
  },
  {
   "cell_type": "code",
   "execution_count": 8,
   "metadata": {},
   "outputs": [
    {
     "name": "stdout",
     "output_type": "stream",
     "text": [
      "function (x, ...) \n",
      "pluck(x, \"a\", \"b\", \"c\", .default = NULL)\n",
      "<environment: 0x0000000005155d70>\n"
     ]
    }
   ],
   "source": [
    "as_mapper(c(\"a\", \"b\", \"c\")) %>% print()"
   ]
  },
  {
   "cell_type": "code",
   "execution_count": 9,
   "metadata": {},
   "outputs": [
    {
     "data": {
      "text/html": [
       "<pre class=language-r><code>function (x, ...) \n",
       "pluck(x, 1, \"a\", 2, .default = NULL)</code></pre>"
      ],
      "text/latex": [
       "\\begin{minted}{r}\n",
       "function (x, ...) \n",
       "pluck(x, 1, \"a\", 2, .default = NULL)\n",
       "\\end{minted}"
      ],
      "text/markdown": [
       "```r\n",
       "function (x, ...) \n",
       "pluck(x, 1, \"a\", 2, .default = NULL)\n",
       "```"
      ],
      "text/plain": [
       "function (x, ...) \n",
       "pluck(x, 1, \"a\", 2, .default = NULL)\n",
       "<environment: 0x000000000574d0f8>"
      ]
     },
     "metadata": {},
     "output_type": "display_data"
    }
   ],
   "source": [
    "as_mapper(list(1, \"a\", 2))"
   ]
  },
  {
   "cell_type": "code",
   "execution_count": 10,
   "metadata": {},
   "outputs": [
    {
     "data": {
      "text/html": [
       "<pre class=language-r><code>function (x, ...) \n",
       "pluck(x, 1, function (x) \n",
       "attr(x, attr, exact = TRUE), .default = NULL)</code></pre>"
      ],
      "text/latex": [
       "\\begin{minted}{r}\n",
       "function (x, ...) \n",
       "pluck(x, 1, function (x) \n",
       "attr(x, attr, exact = TRUE), .default = NULL)\n",
       "\\end{minted}"
      ],
      "text/markdown": [
       "```r\n",
       "function (x, ...) \n",
       "pluck(x, 1, function (x) \n",
       "attr(x, attr, exact = TRUE), .default = NULL)\n",
       "```"
      ],
      "text/plain": [
       "function (x, ...) \n",
       "pluck(x, 1, function (x) \n",
       "attr(x, attr, exact = TRUE), .default = NULL)\n",
       "<environment: 0x0000000041a4f4e8>"
      ]
     },
     "metadata": {},
     "output_type": "display_data"
    }
   ],
   "source": [
    "as_mapper(list(1, attr_getter(\"a\")))"
   ]
  },
  {
   "cell_type": "code",
   "execution_count": 11,
   "metadata": {},
   "outputs": [
    {
     "data": {
      "text/html": [
       "<pre class=language-r><code>function (x, ...) \n",
       "pluck(x, \"a\", \"b\", \"c\", .default = \"&lt;missing&gt;\")</code></pre>"
      ],
      "text/latex": [
       "\\begin{minted}{r}\n",
       "function (x, ...) \n",
       "pluck(x, \"a\", \"b\", \"c\", .default = \"<missing>\")\n",
       "\\end{minted}"
      ],
      "text/markdown": [
       "```r\n",
       "function (x, ...) \n",
       "pluck(x, \"a\", \"b\", \"c\", .default = \"<missing>\")\n",
       "```"
      ],
      "text/plain": [
       "function (x, ...) \n",
       "pluck(x, \"a\", \"b\", \"c\", .default = \"<missing>\")\n",
       "<environment: 0x0000000004d59dd0>"
      ]
     },
     "metadata": {},
     "output_type": "display_data"
    }
   ],
   "source": [
    "as_mapper(c(\"a\", \"b\", \"c\"), .default = '<missing>')"
   ]
  }
 ],
 "metadata": {
  "kernelspec": {
   "display_name": "R",
   "language": "R",
   "name": "ir"
  },
  "language_info": {
   "codemirror_mode": "r",
   "file_extension": ".r",
   "mimetype": "text/x-r-source",
   "name": "R",
   "pygments_lexer": "r",
   "version": "3.6.1"
  }
 },
 "nbformat": 4,
 "nbformat_minor": 2
}
