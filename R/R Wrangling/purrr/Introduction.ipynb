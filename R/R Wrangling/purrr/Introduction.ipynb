{
 "cells": [
  {
   "cell_type": "code",
   "execution_count": null,
   "metadata": {},
   "outputs": [],
   "source": [
    "library(tidyverse)"
   ]
  },
  {
   "cell_type": "markdown",
   "metadata": {},
   "source": [
    "# Introduction "
   ]
  },
  {
   "cell_type": "markdown",
   "metadata": {},
   "source": [
    "Some of the advantages of purrr functions over the equivalents in base R:\n",
    "\n",
    "* The first argument is always the data, so purrr works naturally with the pipe.\n",
    "\n",
    "* All purrr functions are type-stable. They always return the advertised output type (`map()` returns lists; `map_dbl()` returns double vectors), or they throw an error.\n",
    "\n",
    "* All `map()` functions either accept function, formulas (used for succinctly generating anonymous functions), a character vector (used to extract components by name), or a numeric vector (used to extract by position)"
   ]
  },
  {
   "cell_type": "markdown",
   "metadata": {},
   "source": [
    "# Common"
   ]
  },
  {
   "cell_type": "markdown",
   "metadata": {},
   "source": [
    "The `map(.x, .f)` functions transforms each element of the vector `.x` with the function `.f`, returning a vector defined by the suffix (`_lgl`, `_chr()` etc). `walk()` is a variant for functions called primarily for their side-effects; it returns `.x` invisibly.\n",
    "\n",
    "As well as functions, `.f`, can take numbers and characters (used as a shorthand for `[[`), and formulas (used as a succint function definition). "
   ]
  },
  {
   "cell_type": "markdown",
   "metadata": {},
   "source": [
    "# Arguments"
   ]
  },
  {
   "cell_type": "markdown",
   "metadata": {},
   "source": [
    "`.x`\t\n",
    "A list or atomic vector.\n",
    "\n",
    "`.f`\t\n",
    "A function, formula, or vector (not necessarily atomic).\n",
    "\n",
    "* If a **function**, it is used as is.\n",
    "\n",
    "\n",
    "* If a **formula**, e.g. ~ .x + 2, it is converted to a function. There are three ways to refer to the arguments:\n",
    "\n",
    "    * For a single argument function, use `.`\n",
    "\n",
    "    * For a two argument function, use `.x` and `.y`\n",
    "\n",
    "    * For more arguments, use `..1`, `..2`, `..3` etc\n",
    "\n",
    "  This syntax allows you to create very compact anonymous functions.\n",
    " \n",
    " \n",
    "* If **character vector**, **numeric vector**, or **list**, it is converted to an extractor function. Character vectors index by name and numeric vectors index by position; use a list to index by position and name at different levels. If a component is not present, the value of .default will be returned.\n",
    "\n",
    "`...`\t\n",
    "Additional arguments passed on to the mapped function."
   ]
  },
  {
   "cell_type": "markdown",
   "metadata": {},
   "source": [
    "# Function"
   ]
  },
  {
   "cell_type": "markdown",
   "metadata": {},
   "source": [
    "<b style = 'color:red'>NOTE: `purrr` functions preverse name</b>"
   ]
  },
  {
   "cell_type": "code",
   "execution_count": 4,
   "metadata": {},
   "outputs": [
    {
     "data": {
      "text/html": [
       "<dl class=dl-horizontal>\n",
       "\t<dt>a</dt>\n",
       "\t\t<dd>2</dd>\n",
       "\t<dt>b</dt>\n",
       "\t\t<dd>4</dd>\n",
       "</dl>\n"
      ],
      "text/latex": [
       "\\begin{description*}\n",
       "\\item[a] 2\n",
       "\\item[b] 4\n",
       "\\end{description*}\n"
      ],
      "text/markdown": [
       "a\n",
       ":   2b\n",
       ":   4\n",
       "\n"
      ],
      "text/plain": [
       "a b \n",
       "2 4 "
      ]
     },
     "metadata": {},
     "output_type": "display_data"
    }
   ],
   "source": [
    "c(a = 1, b = 2) %>% map_dbl(~ . * 2L)"
   ]
  },
  {
   "cell_type": "code",
   "execution_count": 6,
   "metadata": {},
   "outputs": [
    {
     "data": {
      "text/html": [
       "<dl class=dl-horizontal>\n",
       "\t<dt>a</dt>\n",
       "\t\t<dd>2</dd>\n",
       "\t<dt>b</dt>\n",
       "\t\t<dd>4</dd>\n",
       "</dl>\n"
      ],
      "text/latex": [
       "\\begin{description*}\n",
       "\\item[a] 2\n",
       "\\item[b] 4\n",
       "\\end{description*}\n"
      ],
      "text/markdown": [
       "a\n",
       ":   2b\n",
       ":   4\n",
       "\n"
      ],
      "text/plain": [
       "a b \n",
       "2 4 "
      ]
     },
     "metadata": {},
     "output_type": "display_data"
    }
   ],
   "source": [
    "list(a = 1, b = 2) %>% map_dbl(~ . * 2L)"
   ]
  },
  {
   "cell_type": "code",
   "execution_count": 12,
   "metadata": {},
   "outputs": [
    {
     "data": {
      "text/html": [
       "<ol class=list-inline>\n",
       "\t<li>'xXx-Pikachu-xXx'</li>\n",
       "\t<li>'xXx-Pokemon-xXx'</li>\n",
       "\t<li>'xXx-Charizard-xXx'</li>\n",
       "</ol>\n"
      ],
      "text/latex": [
       "\\begin{enumerate*}\n",
       "\\item 'xXx-Pikachu-xXx'\n",
       "\\item 'xXx-Pokemon-xXx'\n",
       "\\item 'xXx-Charizard-xXx'\n",
       "\\end{enumerate*}\n"
      ],
      "text/markdown": [
       "1. 'xXx-Pikachu-xXx'\n",
       "2. 'xXx-Pokemon-xXx'\n",
       "3. 'xXx-Charizard-xXx'\n",
       "\n",
       "\n"
      ],
      "text/plain": [
       "[1] \"xXx-Pikachu-xXx\"   \"xXx-Pokemon-xXx\"   \"xXx-Charizard-xXx\""
      ]
     },
     "metadata": {},
     "output_type": "display_data"
    }
   ],
   "source": [
    "players <- c('Pikachu', 'Pokemon', 'Charizard')\n",
    "\n",
    "decor <- function(value) str_c('xXx-', value, '-xXx')\n",
    "\n",
    "\n",
    "# Map each value of vector `players` with function `decor`\n",
    "# The result is a character vector (`map_chr`)\n",
    "players %>% map_chr(decor)"
   ]
  },
  {
   "cell_type": "code",
   "execution_count": 26,
   "metadata": {},
   "outputs": [
    {
     "data": {
      "text/html": [
       "<ol class=list-inline>\n",
       "\t<li>'VNC Pikachu-xXx'</li>\n",
       "\t<li>'VNC Pokemon-xXx'</li>\n",
       "\t<li>'VNC Charizard-xXx'</li>\n",
       "</ol>\n"
      ],
      "text/latex": [
       "\\begin{enumerate*}\n",
       "\\item 'VNC Pikachu-xXx'\n",
       "\\item 'VNC Pokemon-xXx'\n",
       "\\item 'VNC Charizard-xXx'\n",
       "\\end{enumerate*}\n"
      ],
      "text/markdown": [
       "1. 'VNC Pikachu-xXx'\n",
       "2. 'VNC Pokemon-xXx'\n",
       "3. 'VNC Charizard-xXx'\n",
       "\n",
       "\n"
      ],
      "text/plain": [
       "[1] \"VNC Pikachu-xXx\"   \"VNC Pokemon-xXx\"   \"VNC Charizard-xXx\""
      ]
     },
     "metadata": {},
     "output_type": "display_data"
    },
    {
     "data": {
      "text/html": [
       "<ol class=list-inline>\n",
       "\t<li>'VNC Pikachu-xXx'</li>\n",
       "\t<li>'VNC Pokemon-xXx'</li>\n",
       "\t<li>'VNC Charizard-xXx'</li>\n",
       "</ol>\n"
      ],
      "text/latex": [
       "\\begin{enumerate*}\n",
       "\\item 'VNC Pikachu-xXx'\n",
       "\\item 'VNC Pokemon-xXx'\n",
       "\\item 'VNC Charizard-xXx'\n",
       "\\end{enumerate*}\n"
      ],
      "text/markdown": [
       "1. 'VNC Pikachu-xXx'\n",
       "2. 'VNC Pokemon-xXx'\n",
       "3. 'VNC Charizard-xXx'\n",
       "\n",
       "\n"
      ],
      "text/plain": [
       "[1] \"VNC Pikachu-xXx\"   \"VNC Pokemon-xXx\"   \"VNC Charizard-xXx\""
      ]
     },
     "metadata": {},
     "output_type": "display_data"
    }
   ],
   "source": [
    "# Passing argument to the map function\n",
    "decor_complex <- function(value, prefix, suffix) str_c(prefix, value, suffix)\n",
    "\n",
    "# as argument\n",
    "players %>% map_chr(decor_complex, 'VNC ', '-xXx')\n",
    "\n",
    "# as keyword arguments (equivalent)\n",
    "players %>% map_chr(decor_complex, suffix = '-xXx', prefix = 'VNC ')"
   ]
  },
  {
   "cell_type": "markdown",
   "metadata": {},
   "source": [
    "# Formula"
   ]
  },
  {
   "cell_type": "markdown",
   "metadata": {},
   "source": [
    "For a function of 1 argument, use `.`"
   ]
  },
  {
   "cell_type": "code",
   "execution_count": 14,
   "metadata": {},
   "outputs": [
    {
     "data": {
      "text/html": [
       "<ol class=list-inline>\n",
       "\t<li>'xXx-Pikachu-xXx'</li>\n",
       "\t<li>'xXx-Pokemon-xXx'</li>\n",
       "\t<li>'xXx-Charizard-xXx'</li>\n",
       "</ol>\n"
      ],
      "text/latex": [
       "\\begin{enumerate*}\n",
       "\\item 'xXx-Pikachu-xXx'\n",
       "\\item 'xXx-Pokemon-xXx'\n",
       "\\item 'xXx-Charizard-xXx'\n",
       "\\end{enumerate*}\n"
      ],
      "text/markdown": [
       "1. 'xXx-Pikachu-xXx'\n",
       "2. 'xXx-Pokemon-xXx'\n",
       "3. 'xXx-Charizard-xXx'\n",
       "\n",
       "\n"
      ],
      "text/plain": [
       "[1] \"xXx-Pikachu-xXx\"   \"xXx-Pokemon-xXx\"   \"xXx-Charizard-xXx\""
      ]
     },
     "metadata": {},
     "output_type": "display_data"
    }
   ],
   "source": [
    "players %>% map_chr(~ str_c('xXx-', ., '-xXx'))"
   ]
  },
  {
   "cell_type": "markdown",
   "metadata": {},
   "source": [
    "For a function of 2 arguments, use `.x` and `.y`"
   ]
  },
  {
   "cell_type": "code",
   "execution_count": 30,
   "metadata": {},
   "outputs": [
    {
     "data": {
      "text/html": [
       "<ol>\n",
       "\t<li>'VNC: Meomeo888'</li>\n",
       "\t<li>'Dirilis: ETOGRUL'</li>\n",
       "\t<li>'King Allool: xXx-Hadi-xXx'</li>\n",
       "</ol>\n"
      ],
      "text/latex": [
       "\\begin{enumerate}\n",
       "\\item 'VNC: Meomeo888'\n",
       "\\item 'Dirilis: ETOGRUL'\n",
       "\\item 'King Allool: xXx-Hadi-xXx'\n",
       "\\end{enumerate}\n"
      ],
      "text/markdown": [
       "1. 'VNC: Meomeo888'\n",
       "2. 'Dirilis: ETOGRUL'\n",
       "3. 'King Allool: xXx-Hadi-xXx'\n",
       "\n",
       "\n"
      ],
      "text/plain": [
       "[[1]]\n",
       "[1] \"VNC: Meomeo888\"\n",
       "\n",
       "[[2]]\n",
       "[1] \"Dirilis: ETOGRUL\"\n",
       "\n",
       "[[3]]\n",
       "[1] \"King Allool: xXx-Hadi-xXx\"\n"
      ]
     },
     "metadata": {},
     "output_type": "display_data"
    }
   ],
   "source": [
    "clan <- c('VNC', 'Dirilis', 'King Allool')\n",
    "player <- c('Meomeo888', 'ETOGRUL', 'xXx-Hadi-xXx')\n",
    "\n",
    "map2(clan, player, ~ str_c(.x, ': ', .y))"
   ]
  },
  {
   "cell_type": "markdown",
   "metadata": {},
   "source": [
    "# Extractor funtions: character vector, numeric vector and list"
   ]
  },
  {
   "cell_type": "code",
   "execution_count": 29,
   "metadata": {},
   "outputs": [
    {
     "data": {
      "text/html": [
       "<ol>\n",
       "\t<li>1</li>\n",
       "\t<li>'???'</li>\n",
       "\t<li>'???'</li>\n",
       "</ol>\n"
      ],
      "text/latex": [
       "\\begin{enumerate}\n",
       "\\item 1\n",
       "\\item '???'\n",
       "\\item '???'\n",
       "\\end{enumerate}\n"
      ],
      "text/markdown": [
       "1. 1\n",
       "2. '???'\n",
       "3. '???'\n",
       "\n",
       "\n"
      ],
      "text/plain": [
       "[[1]]\n",
       "[1] 1\n",
       "\n",
       "[[2]]\n",
       "[1] \"???\"\n",
       "\n",
       "[[3]]\n",
       "[1] \"???\"\n"
      ]
     },
     "metadata": {},
     "output_type": "display_data"
    }
   ],
   "source": [
    "#extract the value of name 'a' for each list. replace missing value with '???'\n",
    "\n",
    "l1 <- list(list(a = 1L), list(a = NULL, b = 2L), list(b = 3L))\n",
    "\n",
    "l1 %>% map('a', .default = '???')"
   ]
  },
  {
   "cell_type": "markdown",
   "metadata": {},
   "source": [
    "Using a vector or list to extract value in a deeply nested list"
   ]
  },
  {
   "cell_type": "code",
   "execution_count": 41,
   "metadata": {},
   "outputs": [
    {
     "data": {
      "text/html": [
       "<ol>\n",
       "\t<li><dl>\n",
       "\t<dt>$name</dt>\n",
       "\t\t<dd>'VN Champions'</dd>\n",
       "\t<dt>$stat</dt>\n",
       "\t\t<dd><ol class=list-inline>\n",
       "\t<li>100</li>\n",
       "\t<li>99</li>\n",
       "</ol>\n",
       "</dd>\n",
       "\t<dt>$information</dt>\n",
       "\t\t<dd><dl class=dl-horizontal>\n",
       "\t<dt>motto</dt>\n",
       "\t\t<dd>'Most powerful'</dd>\n",
       "\t<dt>rich</dt>\n",
       "\t\t<dd>'very rich'</dd>\n",
       "</dl>\n",
       "</dd>\n",
       "</dl>\n",
       "</li>\n",
       "\t<li><dl>\n",
       "\t<dt>$name</dt>\n",
       "\t\t<dd>'Dirilis'</dd>\n",
       "\t<dt>$stat</dt>\n",
       "\t\t<dd><ol class=list-inline>\n",
       "\t<li>75</li>\n",
       "\t<li>33</li>\n",
       "</ol>\n",
       "</dd>\n",
       "\t<dt>$information</dt>\n",
       "\t\t<dd><dl class=dl-horizontal>\n",
       "\t<dt>motto</dt>\n",
       "\t\t<dd>'Play and have fun'</dd>\n",
       "\t<dt>rich</dt>\n",
       "\t\t<dd>'quite'</dd>\n",
       "</dl>\n",
       "</dd>\n",
       "</dl>\n",
       "</li>\n",
       "</ol>\n"
      ],
      "text/latex": [
       "\\begin{enumerate}\n",
       "\\item \\begin{description}\n",
       "\\item[\\$name] 'VN Champions'\n",
       "\\item[\\$stat] \\begin{enumerate*}\n",
       "\\item 100\n",
       "\\item 99\n",
       "\\end{enumerate*}\n",
       "\n",
       "\\item[\\$information] \\begin{description*}\n",
       "\\item[motto] 'Most powerful'\n",
       "\\item[rich] 'very rich'\n",
       "\\end{description*}\n",
       "\n",
       "\\end{description}\n",
       "\n",
       "\\item \\begin{description}\n",
       "\\item[\\$name] 'Dirilis'\n",
       "\\item[\\$stat] \\begin{enumerate*}\n",
       "\\item 75\n",
       "\\item 33\n",
       "\\end{enumerate*}\n",
       "\n",
       "\\item[\\$information] \\begin{description*}\n",
       "\\item[motto] 'Play and have fun'\n",
       "\\item[rich] 'quite'\n",
       "\\end{description*}\n",
       "\n",
       "\\end{description}\n",
       "\n",
       "\\end{enumerate}\n"
      ],
      "text/markdown": [
       "1. $name\n",
       ":   'VN Champions'\n",
       "$stat\n",
       ":   1. 100\n",
       "2. 99\n",
       "\n",
       "\n",
       "\n",
       "$information\n",
       ":   motto\n",
       ":   'Most powerful'rich\n",
       ":   'very rich'\n",
       "\n",
       "\n",
       "\n",
       "\n",
       "\n",
       "2. $name\n",
       ":   'Dirilis'\n",
       "$stat\n",
       ":   1. 75\n",
       "2. 33\n",
       "\n",
       "\n",
       "\n",
       "$information\n",
       ":   motto\n",
       ":   'Play and have fun'rich\n",
       ":   'quite'\n",
       "\n",
       "\n",
       "\n",
       "\n",
       "\n",
       "\n",
       "\n"
      ],
      "text/plain": [
       "[[1]]\n",
       "[[1]]$name\n",
       "[1] \"VN Champions\"\n",
       "\n",
       "[[1]]$stat\n",
       "[1] 100  99\n",
       "\n",
       "[[1]]$information\n",
       "          motto            rich \n",
       "\"Most powerful\"     \"very rich\" \n",
       "\n",
       "\n",
       "[[2]]\n",
       "[[2]]$name\n",
       "[1] \"Dirilis\"\n",
       "\n",
       "[[2]]$stat\n",
       "[1] 75 33\n",
       "\n",
       "[[2]]$information\n",
       "              motto                rich \n",
       "\"Play and have fun\"             \"quite\" \n",
       "\n"
      ]
     },
     "metadata": {},
     "output_type": "display_data"
    }
   ],
   "source": [
    "VNC <- list(\n",
    "    #The fist value is average damage, the second value is the level\n",
    "    name = 'VN Champions',\n",
    "    stat = c(100, 99),\n",
    "    information = c(motto = 'Most powerful', rich = 'very rich')\n",
    "    \n",
    ")\n",
    "\n",
    "Dirilis <- list(\n",
    "    name = 'Dirilis',\n",
    "    stat = c(75, 33),\n",
    "    information = c(motto = 'Play and have fun', rich = 'quite')\n",
    ")\n",
    "\n",
    "clan <- list(VNC, Dirilis)\n",
    "\n",
    "clan"
   ]
  },
  {
   "cell_type": "code",
   "execution_count": 49,
   "metadata": {},
   "outputs": [
    {
     "data": {
      "text/html": [
       "<ol class=list-inline>\n",
       "\t<li>100</li>\n",
       "\t<li>75</li>\n",
       "</ol>\n"
      ],
      "text/latex": [
       "\\begin{enumerate*}\n",
       "\\item 100\n",
       "\\item 75\n",
       "\\end{enumerate*}\n"
      ],
      "text/markdown": [
       "1. 100\n",
       "2. 75\n",
       "\n",
       "\n"
      ],
      "text/plain": [
       "[1] 100  75"
      ]
     },
     "metadata": {},
     "output_type": "display_data"
    }
   ],
   "source": [
    "# get the first value of attribute 'stat' from each list\n",
    "clan %>% map_dbl(list('stat', 1))  # using list"
   ]
  },
  {
   "cell_type": "code",
   "execution_count": 50,
   "metadata": {},
   "outputs": [
    {
     "data": {
      "text/html": [
       "<ol class=list-inline>\n",
       "\t<li>'Most powerful'</li>\n",
       "\t<li>'Play and have fun'</li>\n",
       "</ol>\n"
      ],
      "text/latex": [
       "\\begin{enumerate*}\n",
       "\\item 'Most powerful'\n",
       "\\item 'Play and have fun'\n",
       "\\end{enumerate*}\n"
      ],
      "text/markdown": [
       "1. 'Most powerful'\n",
       "2. 'Play and have fun'\n",
       "\n",
       "\n"
      ],
      "text/plain": [
       "[1] \"Most powerful\"     \"Play and have fun\""
      ]
     },
     "metadata": {},
     "output_type": "display_data"
    },
    {
     "data": {
      "text/html": [
       "<ol class=list-inline>\n",
       "\t<li>'Most powerful'</li>\n",
       "\t<li>'Play and have fun'</li>\n",
       "</ol>\n"
      ],
      "text/latex": [
       "\\begin{enumerate*}\n",
       "\\item 'Most powerful'\n",
       "\\item 'Play and have fun'\n",
       "\\end{enumerate*}\n"
      ],
      "text/markdown": [
       "1. 'Most powerful'\n",
       "2. 'Play and have fun'\n",
       "\n",
       "\n"
      ],
      "text/plain": [
       "[1] \"Most powerful\"     \"Play and have fun\""
      ]
     },
     "metadata": {},
     "output_type": "display_data"
    }
   ],
   "source": [
    "clan %>% map_chr(c('information', 'motto'))  # using character vector\n",
    "#equivalent\n",
    "clan %>% map_chr(c(3, 1))                    # using numeric vector"
   ]
  },
  {
   "cell_type": "markdown",
   "metadata": {},
   "source": [
    "# Map variants"
   ]
  },
  {
   "cell_type": "markdown",
   "metadata": {},
   "source": [
    "|                     | List\t|Atomic\t        |Same type\t|Nothing|\n",
    "|:--------------------|:--------|:--------------|:----------|:------|\n",
    "|One argument\t      | `map()`\t|`map_lgl()`, …\t|`modify()`\t|`walk()` |\n",
    "|Two arguments\t      | `map2()`\t|`map2_lgl()`, …\t|`modify2()`\t|`walk2()`|\n",
    "|One argument + index | `imap()`\t|`imap_lgl()`, …\t|`imodify()`\t|`iwalk()`|\n",
    "|N arguments\t      | `pmap()`\t|`pmap_lgl()`, …\t|  —\t    |`pwalk()`|"
   ]
  },
  {
   "cell_type": "markdown",
   "metadata": {},
   "source": [
    "# NOTES"
   ]
  },
  {
   "cell_type": "markdown",
   "metadata": {},
   "source": [
    "Note there’s a subtle difference between placing extra arguments inside an anonymous function compared with passing them to `map()`. Putting them in an anonymous function means that they will be evaluated every time `f()` is executed, not just once when you call `map()`. This is easiest to see if we make the additional argument random:"
   ]
  },
  {
   "cell_type": "code",
   "execution_count": 9,
   "metadata": {},
   "outputs": [
    {
     "data": {
      "text/html": [
       "<ol class=list-inline>\n",
       "\t<li>0.754753519548103</li>\n",
       "\t<li>0.754753519548103</li>\n",
       "\t<li>0.754753519548103</li>\n",
       "\t<li>0.754753519548103</li>\n",
       "\t<li>0.754753519548103</li>\n",
       "</ol>\n"
      ],
      "text/latex": [
       "\\begin{enumerate*}\n",
       "\\item 0.754753519548103\n",
       "\\item 0.754753519548103\n",
       "\\item 0.754753519548103\n",
       "\\item 0.754753519548103\n",
       "\\item 0.754753519548103\n",
       "\\end{enumerate*}\n"
      ],
      "text/markdown": [
       "1. 0.754753519548103\n",
       "2. 0.754753519548103\n",
       "3. 0.754753519548103\n",
       "4. 0.754753519548103\n",
       "5. 0.754753519548103\n",
       "\n",
       "\n"
      ],
      "text/plain": [
       "[1] 0.7547535 0.7547535 0.7547535 0.7547535 0.7547535"
      ]
     },
     "metadata": {},
     "output_type": "display_data"
    },
    {
     "data": {
      "text/html": [
       "<ol class=list-inline>\n",
       "\t<li>0.457341123139486</li>\n",
       "\t<li>0.385344903916121</li>\n",
       "\t<li>0.479975478956476</li>\n",
       "\t<li>0.249405113514513</li>\n",
       "\t<li>0.473402067320421</li>\n",
       "</ol>\n"
      ],
      "text/latex": [
       "\\begin{enumerate*}\n",
       "\\item 0.457341123139486\n",
       "\\item 0.385344903916121\n",
       "\\item 0.479975478956476\n",
       "\\item 0.249405113514513\n",
       "\\item 0.473402067320421\n",
       "\\end{enumerate*}\n"
      ],
      "text/markdown": [
       "1. 0.457341123139486\n",
       "2. 0.385344903916121\n",
       "3. 0.479975478956476\n",
       "4. 0.249405113514513\n",
       "5. 0.473402067320421\n",
       "\n",
       "\n"
      ],
      "text/plain": [
       "[1] 0.4573411 0.3853449 0.4799755 0.2494051 0.4734021"
      ]
     },
     "metadata": {},
     "output_type": "display_data"
    }
   ],
   "source": [
    "f <- function(x, y) y\n",
    "\n",
    "1:5 %>% map_dbl(f, runif(1))\n",
    "\n",
    "1:5 %>% map_dbl(~ f(., runif(1)))"
   ]
  },
  {
   "cell_type": "code",
   "execution_count": null,
   "metadata": {},
   "outputs": [],
   "source": []
  }
 ],
 "metadata": {
  "kernelspec": {
   "display_name": "R",
   "language": "R",
   "name": "ir"
  },
  "language_info": {
   "codemirror_mode": "r",
   "file_extension": ".r",
   "mimetype": "text/x-r-source",
   "name": "R",
   "pygments_lexer": "r",
   "version": "4.0.3"
  }
 },
 "nbformat": 4,
 "nbformat_minor": 4
}
