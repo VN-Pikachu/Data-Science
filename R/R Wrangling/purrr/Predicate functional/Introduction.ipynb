{
 "cells": [
  {
   "cell_type": "code",
   "execution_count": 2,
   "metadata": {},
   "outputs": [],
   "source": [
    "library(tidyverse)"
   ]
  },
  {
   "cell_type": "markdown",
   "metadata": {},
   "source": [
    "# Introduction"
   ]
  },
  {
   "cell_type": "markdown",
   "metadata": {},
   "source": [
    "A predicate is a function that returns a single TRUE or FALSE.  \n",
    "The predicate functionals take a vector and a predicate function and do something useful."
   ]
  },
  {
   "cell_type": "markdown",
   "metadata": {},
   "source": [
    "# Examples"
   ]
  },
  {
   "cell_type": "markdown",
   "metadata": {},
   "source": [
    "**`detect()`**: find the value of the first match"
   ]
  },
  {
   "cell_type": "code",
   "execution_count": 4,
   "metadata": {},
   "outputs": [
    {
     "data": {
      "text/html": [
       "5"
      ],
      "text/latex": [
       "5"
      ],
      "text/markdown": [
       "5"
      ],
      "text/plain": [
       "[1] 5"
      ]
     },
     "metadata": {},
     "output_type": "display_data"
    },
    {
     "data": {
      "text/html": [
       "5"
      ],
      "text/latex": [
       "5"
      ],
      "text/markdown": [
       "5"
      ],
      "text/plain": [
       "[1] 5"
      ]
     },
     "metadata": {},
     "output_type": "display_data"
    }
   ],
   "source": [
    "# Find the first value that is a multiple of 5\n",
    "\n",
    "1:10 %>% detect(function(x) x %% 5 == 0)\n",
    "\n",
    "# equivalent by using a Formula\n",
    "1:10 %>% detect(~ . %% 5 == 0)"
   ]
  },
  {
   "cell_type": "markdown",
   "metadata": {},
   "source": [
    "**`detect_index()`**: find the index of the first match"
   ]
  },
  {
   "cell_type": "code",
   "execution_count": 5,
   "metadata": {},
   "outputs": [
    {
     "data": {
      "text/html": [
       "4"
      ],
      "text/latex": [
       "4"
      ],
      "text/markdown": [
       "4"
      ],
      "text/plain": [
       "[1] 4"
      ]
     },
     "metadata": {},
     "output_type": "display_data"
    }
   ],
   "source": [
    "# Find the index of the first value that is a multiple of 5\n",
    "\n",
    "c(2, 8, 6, 25, 32, 30) %>% detect_index(~ . %% 5 == 0)"
   ]
  },
  {
   "cell_type": "markdown",
   "metadata": {},
   "source": [
    "**`every()`**:\tDo every elements of a list satisfy a predicate?  \n",
    "**`some()`**: Do some elements of a list satisfy a predicate?  \n",
    "**`none()`**: Do none of elements of a list satisfy a predicate?  "
   ]
  },
  {
   "cell_type": "code",
   "execution_count": 6,
   "metadata": {},
   "outputs": [],
   "source": [
    "values <- c(10, 25, 125)"
   ]
  },
  {
   "cell_type": "code",
   "execution_count": 7,
   "metadata": {},
   "outputs": [
    {
     "data": {
      "text/html": [
       "TRUE"
      ],
      "text/latex": [
       "TRUE"
      ],
      "text/markdown": [
       "TRUE"
      ],
      "text/plain": [
       "[1] TRUE"
      ]
     },
     "metadata": {},
     "output_type": "display_data"
    }
   ],
   "source": [
    "# does every value is a multiple of 5?\n",
    "values %>% every(~ . %% 5 == 0)"
   ]
  },
  {
   "cell_type": "code",
   "execution_count": 9,
   "metadata": {},
   "outputs": [
    {
     "data": {
      "text/html": [
       "FALSE"
      ],
      "text/latex": [
       "FALSE"
      ],
      "text/markdown": [
       "FALSE"
      ],
      "text/plain": [
       "[1] FALSE"
      ]
     },
     "metadata": {},
     "output_type": "display_data"
    }
   ],
   "source": [
    "# is there any value in the vector is a multiple of 3?\n",
    "values %>% some(~ . %% 3 == 0)"
   ]
  },
  {
   "cell_type": "code",
   "execution_count": 10,
   "metadata": {},
   "outputs": [
    {
     "data": {
      "text/html": [
       "TRUE"
      ],
      "text/latex": [
       "TRUE"
      ],
      "text/markdown": [
       "TRUE"
      ],
      "text/plain": [
       "[1] TRUE"
      ]
     },
     "metadata": {},
     "output_type": "display_data"
    }
   ],
   "source": [
    "# is there no value in the vector is a multiple of 3?\n",
    "values %>% none(~ . %% 3 == 0)"
   ]
  },
  {
   "cell_type": "markdown",
   "metadata": {},
   "source": [
    "**`has_element()`**: does a list contain an element?"
   ]
  },
  {
   "cell_type": "code",
   "execution_count": 13,
   "metadata": {},
   "outputs": [],
   "source": [
    "x <- list(1:10, 5, 9.9)"
   ]
  },
  {
   "cell_type": "code",
   "execution_count": 14,
   "metadata": {},
   "outputs": [
    {
     "data": {
      "text/html": [
       "TRUE"
      ],
      "text/latex": [
       "TRUE"
      ],
      "text/markdown": [
       "TRUE"
      ],
      "text/plain": [
       "[1] TRUE"
      ]
     },
     "metadata": {},
     "output_type": "display_data"
    }
   ],
   "source": [
    "x %>% has_element(1:10)"
   ]
  },
  {
   "cell_type": "code",
   "execution_count": 15,
   "metadata": {},
   "outputs": [
    {
     "data": {
      "text/html": [
       "FALSE"
      ],
      "text/latex": [
       "FALSE"
      ],
      "text/markdown": [
       "FALSE"
      ],
      "text/plain": [
       "[1] FALSE"
      ]
     },
     "metadata": {},
     "output_type": "display_data"
    }
   ],
   "source": [
    "x %>% has_element(3)"
   ]
  },
  {
   "cell_type": "markdown",
   "metadata": {},
   "source": [
    "**`head_while()`**, **`tail_while()`**: Find head/tail that all satisfies a predicate."
   ]
  },
  {
   "cell_type": "code",
   "execution_count": 17,
   "metadata": {},
   "outputs": [
    {
     "data": {
      "text/html": [
       "<ol class=list-inline>\n",
       "\t<li>5</li>\n",
       "\t<li>125</li>\n",
       "\t<li>35</li>\n",
       "\t<li>75</li>\n",
       "</ol>\n"
      ],
      "text/latex": [
       "\\begin{enumerate*}\n",
       "\\item 5\n",
       "\\item 125\n",
       "\\item 35\n",
       "\\item 75\n",
       "\\end{enumerate*}\n"
      ],
      "text/markdown": [
       "1. 5\n",
       "2. 125\n",
       "3. 35\n",
       "4. 75\n",
       "\n",
       "\n"
      ],
      "text/plain": [
       "[1]   5 125  35  75"
      ]
     },
     "metadata": {},
     "output_type": "display_data"
    }
   ],
   "source": [
    "# Extract values at the head as long as it is a multiple of 5\n",
    "\n",
    "c(5, 125, 35, 75, 32, 45) %>% head_while(~ . %% 5 == 0)"
   ]
  },
  {
   "cell_type": "code",
   "execution_count": 18,
   "metadata": {},
   "outputs": [
    {
     "data": {
      "text/html": [
       "<ol class=list-inline>\n",
       "\t<li>35</li>\n",
       "\t<li>25</li>\n",
       "\t<li>15</li>\n",
       "</ol>\n"
      ],
      "text/latex": [
       "\\begin{enumerate*}\n",
       "\\item 35\n",
       "\\item 25\n",
       "\\item 15\n",
       "\\end{enumerate*}\n"
      ],
      "text/markdown": [
       "1. 35\n",
       "2. 25\n",
       "3. 15\n",
       "\n",
       "\n"
      ],
      "text/plain": [
       "[1] 35 25 15"
      ]
     },
     "metadata": {},
     "output_type": "display_data"
    }
   ],
   "source": [
    "# Extract values at the tail as long as it is a multiple of 5\n",
    "\n",
    "c(32, 45, 64, 35, 25, 15) %>% tail_while(~ . %% 5 == 0)"
   ]
  },
  {
   "cell_type": "markdown",
   "metadata": {},
   "source": [
    "**`keep()`**, **`discard()`**, **`compact()`**: Keep or discard elements using a predicate function.  \n",
    "This work like filter fuctions"
   ]
  },
  {
   "cell_type": "code",
   "execution_count": 20,
   "metadata": {},
   "outputs": [],
   "source": [
    "values <- 1:10"
   ]
  },
  {
   "cell_type": "code",
   "execution_count": 22,
   "metadata": {},
   "outputs": [
    {
     "data": {
      "text/html": [
       "<ol class=list-inline>\n",
       "\t<li>3</li>\n",
       "\t<li>6</li>\n",
       "\t<li>9</li>\n",
       "</ol>\n"
      ],
      "text/latex": [
       "\\begin{enumerate*}\n",
       "\\item 3\n",
       "\\item 6\n",
       "\\item 9\n",
       "\\end{enumerate*}\n"
      ],
      "text/markdown": [
       "1. 3\n",
       "2. 6\n",
       "3. 9\n",
       "\n",
       "\n"
      ],
      "text/plain": [
       "[1] 3 6 9"
      ]
     },
     "metadata": {},
     "output_type": "display_data"
    }
   ],
   "source": [
    "# keep all values that is a multiple of 3\n",
    "values %>% keep(~ . %% 3 == 0)"
   ]
  },
  {
   "cell_type": "code",
   "execution_count": 23,
   "metadata": {},
   "outputs": [
    {
     "data": {
      "text/html": [
       "<ol class=list-inline>\n",
       "\t<li>1</li>\n",
       "\t<li>3</li>\n",
       "\t<li>5</li>\n",
       "\t<li>7</li>\n",
       "\t<li>9</li>\n",
       "</ol>\n"
      ],
      "text/latex": [
       "\\begin{enumerate*}\n",
       "\\item 1\n",
       "\\item 3\n",
       "\\item 5\n",
       "\\item 7\n",
       "\\item 9\n",
       "\\end{enumerate*}\n"
      ],
      "text/markdown": [
       "1. 1\n",
       "2. 3\n",
       "3. 5\n",
       "4. 7\n",
       "5. 9\n",
       "\n",
       "\n"
      ],
      "text/plain": [
       "[1] 1 3 5 7 9"
      ]
     },
     "metadata": {},
     "output_type": "display_data"
    }
   ],
   "source": [
    "# discard all values that is even\n",
    "values %>% discard(~ . %% 2 == 0)"
   ]
  },
  {
   "cell_type": "code",
   "execution_count": 24,
   "metadata": {},
   "outputs": [
    {
     "data": {
      "text/html": [
       "<dl>\n",
       "\t<dt>$a</dt>\n",
       "\t\t<dd>'a'</dd>\n",
       "\t<dt>$b</dt>\n",
       "\t\t<dd>NULL</dd>\n",
       "\t<dt>$c</dt>\n",
       "\t\t<dd></dd>\n",
       "\t<dt>$d</dt>\n",
       "\t\t<dd>&lt;NA&gt;</dd>\n",
       "\t<dt>$e</dt>\n",
       "\t\t<dd><ol>\n",
       "</ol>\n",
       "</dd>\n",
       "</dl>\n"
      ],
      "text/latex": [
       "\\begin{description}\n",
       "\\item[\\$a] 'a'\n",
       "\\item[\\$b] NULL\n",
       "\\item[\\$c] \n",
       "\\item[\\$d] <NA>\n",
       "\\item[\\$e] \\begin{enumerate}\n",
       "\\end{enumerate}\n",
       "\n",
       "\\end{description}\n"
      ],
      "text/markdown": [
       "$a\n",
       ":   'a'\n",
       "$b\n",
       ":   NULL\n",
       "$c\n",
       ":   \n",
       "$d\n",
       ":   &lt;NA&gt;\n",
       "$e\n",
       ":   \n",
       "\n",
       "\n",
       "\n",
       "\n"
      ],
      "text/plain": [
       "$a\n",
       "[1] \"a\"\n",
       "\n",
       "$b\n",
       "NULL\n",
       "\n",
       "$c\n",
       "integer(0)\n",
       "\n",
       "$d\n",
       "[1] NA\n",
       "\n",
       "$e\n",
       "list()\n"
      ]
     },
     "metadata": {},
     "output_type": "display_data"
    }
   ],
   "source": [
    "# compact() discards elements that are NULL or that have length zero\n",
    "v <- list(a = \"a\", b = NULL, c = integer(0), d = NA, e = list()) \n",
    "v"
   ]
  },
  {
   "cell_type": "code",
   "execution_count": 25,
   "metadata": {},
   "outputs": [
    {
     "data": {
      "text/html": [
       "<dl>\n",
       "\t<dt>$a</dt>\n",
       "\t\t<dd>'a'</dd>\n",
       "\t<dt>$d</dt>\n",
       "\t\t<dd>&lt;NA&gt;</dd>\n",
       "</dl>\n"
      ],
      "text/latex": [
       "\\begin{description}\n",
       "\\item[\\$a] 'a'\n",
       "\\item[\\$d] <NA>\n",
       "\\end{description}\n"
      ],
      "text/markdown": [
       "$a\n",
       ":   'a'\n",
       "$d\n",
       ":   &lt;NA&gt;\n",
       "\n",
       "\n"
      ],
      "text/plain": [
       "$a\n",
       "[1] \"a\"\n",
       "\n",
       "$d\n",
       "[1] NA\n"
      ]
     },
     "metadata": {},
     "output_type": "display_data"
    }
   ],
   "source": [
    "v %>% compact()"
   ]
  },
  {
   "cell_type": "markdown",
   "metadata": {},
   "source": [
    "**`negate()`**: negate a predicate function"
   ]
  },
  {
   "cell_type": "code",
   "execution_count": 26,
   "metadata": {},
   "outputs": [
    {
     "data": {
      "text/html": [
       "<pre class=language-r><code>structure(function (x) \n",
       "{\n",
       "<span style=white-space:pre-wrap>    env &lt;- env(caller_env(), `_fn` = first_fn)</span>\n",
       "<span style=white-space:pre-wrap>    first_call &lt;- sys.call()</span>\n",
       "<span style=white-space:pre-wrap>    first_call[[1]] &lt;- quote(`_fn`)</span>\n",
       "<span style=white-space:pre-wrap>    env$`_out` &lt;- .Call(purrr_eval, first_call, env)</span>\n",
       "<span style=white-space:pre-wrap>    call &lt;- quote(`_fn`(`_out`))</span>\n",
       "<span style=white-space:pre-wrap>    for (fn in fns) {</span>\n",
       "<span style=white-space:pre-wrap>        env$`_fn` &lt;- fn</span>\n",
       "<span style=white-space:pre-wrap>        env$`_out` &lt;- .Call(purrr_eval, call, env)</span>\n",
       "<span style=white-space:pre-wrap>    }</span>\n",
       "<span style=white-space:pre-wrap>    env$`_out`</span>\n",
       "}, class = c(\"purrr_function_compose\", \"function\"), first_fn = function (x) \n",
       "x%%2 == 0, fns = list(function (.x) \n",
       "!.x))</code></pre>"
      ],
      "text/latex": [
       "\\begin{minted}{r}\n",
       "structure(function (x) \n",
       "\\{\n",
       "    env <- env(caller\\_env(), `\\_fn` = first\\_fn)\n",
       "    first\\_call <- sys.call()\n",
       "    first\\_call{[}{[}1{]}{]} <- quote(`\\_fn`)\n",
       "    env\\$`\\_out` <- .Call(purrr\\_eval, first\\_call, env)\n",
       "    call <- quote(`\\_fn`(`\\_out`))\n",
       "    for (fn in fns) \\{\n",
       "        env\\$`\\_fn` <- fn\n",
       "        env\\$`\\_out` <- .Call(purrr\\_eval, call, env)\n",
       "    \\}\n",
       "    env\\$`\\_out`\n",
       "\\}, class = c(\"purrr\\_function\\_compose\", \"function\"), first\\_fn = function (x) \n",
       "x\\%\\%2 == 0, fns = list(function (.x) \n",
       "!.x))\n",
       "\\end{minted}"
      ],
      "text/markdown": [
       "```r\n",
       "structure(function (x) \n",
       "{\n",
       "    env <- env(caller_env(), `_fn` = first_fn)\n",
       "    first_call <- sys.call()\n",
       "    first_call[[1]] <- quote(`_fn`)\n",
       "    env$`_out` <- .Call(purrr_eval, first_call, env)\n",
       "    call <- quote(`_fn`(`_out`))\n",
       "    for (fn in fns) {\n",
       "        env$`_fn` <- fn\n",
       "        env$`_out` <- .Call(purrr_eval, call, env)\n",
       "    }\n",
       "    env$`_out`\n",
       "}, class = c(\"purrr_function_compose\", \"function\"), first_fn = function (x) \n",
       "x%%2 == 0, fns = list(function (.x) \n",
       "!.x))\n",
       "```"
      ],
      "text/plain": [
       "<composed>\n",
       "1. function(x) x %% 2 == 0\n",
       "\n",
       "2. function (.x) \n",
       "!.x\n",
       "<bytecode: 0x000000004b376028>\n",
       "<environment: 0x000000003fad4820>"
      ]
     },
     "metadata": {},
     "output_type": "display_data"
    }
   ],
   "source": [
    "is_even <- function(x) x %% 2 == 0\n",
    "\n",
    "is_odd <- negate(is_even)\n",
    "\n",
    "is_odd"
   ]
  },
  {
   "cell_type": "code",
   "execution_count": 27,
   "metadata": {},
   "outputs": [
    {
     "data": {
      "text/html": [
       "<ol class=list-inline>\n",
       "\t<li>1</li>\n",
       "\t<li>3</li>\n",
       "\t<li>5</li>\n",
       "\t<li>7</li>\n",
       "\t<li>9</li>\n",
       "</ol>\n"
      ],
      "text/latex": [
       "\\begin{enumerate*}\n",
       "\\item 1\n",
       "\\item 3\n",
       "\\item 5\n",
       "\\item 7\n",
       "\\item 9\n",
       "\\end{enumerate*}\n"
      ],
      "text/markdown": [
       "1. 1\n",
       "2. 3\n",
       "3. 5\n",
       "4. 7\n",
       "5. 9\n",
       "\n",
       "\n"
      ],
      "text/plain": [
       "[1] 1 3 5 7 9"
      ]
     },
     "metadata": {},
     "output_type": "display_data"
    }
   ],
   "source": [
    "# filter out odd values\n",
    "1:10 %>% keep(is_odd)"
   ]
  },
  {
   "cell_type": "markdown",
   "metadata": {},
   "source": [
    "**`prepend()`**: prepend a vector"
   ]
  },
  {
   "cell_type": "code",
   "execution_count": 32,
   "metadata": {},
   "outputs": [
    {
     "data": {
      "text/html": [
       "<ol class=list-inline>\n",
       "\t<li>'Tank Cao'</li>\n",
       "\t<li>'VN Pikachu'</li>\n",
       "\t<li>'Meomeo888'</li>\n",
       "</ol>\n"
      ],
      "text/latex": [
       "\\begin{enumerate*}\n",
       "\\item 'Tank Cao'\n",
       "\\item 'VN Pikachu'\n",
       "\\item 'Meomeo888'\n",
       "\\end{enumerate*}\n"
      ],
      "text/markdown": [
       "1. 'Tank Cao'\n",
       "2. 'VN Pikachu'\n",
       "3. 'Meomeo888'\n",
       "\n",
       "\n"
      ],
      "text/plain": [
       "[1] \"Tank Cao\"   \"VN Pikachu\" \"Meomeo888\" "
      ]
     },
     "metadata": {},
     "output_type": "display_data"
    }
   ],
   "source": [
    "players <- c('VN Pikachu', 'Meomeo888')\n",
    "\n",
    "# by default, insert at index 0 \n",
    "players %>% prepend('Tank Cao')"
   ]
  },
  {
   "cell_type": "code",
   "execution_count": 31,
   "metadata": {},
   "outputs": [
    {
     "data": {
      "text/html": [
       "<ol class=list-inline>\n",
       "\t<li>'VN Pikachu'</li>\n",
       "\t<li>'Tank Cao'</li>\n",
       "\t<li>'Meomeo888'</li>\n",
       "</ol>\n"
      ],
      "text/latex": [
       "\\begin{enumerate*}\n",
       "\\item 'VN Pikachu'\n",
       "\\item 'Tank Cao'\n",
       "\\item 'Meomeo888'\n",
       "\\end{enumerate*}\n"
      ],
      "text/markdown": [
       "1. 'VN Pikachu'\n",
       "2. 'Tank Cao'\n",
       "3. 'Meomeo888'\n",
       "\n",
       "\n"
      ],
      "text/plain": [
       "[1] \"VN Pikachu\" \"Tank Cao\"   \"Meomeo888\" "
      ]
     },
     "metadata": {},
     "output_type": "display_data"
    }
   ],
   "source": [
    "# insert at index 2\n",
    "players %>% prepend('Tank Cao', before = 2)"
   ]
  }
 ],
 "metadata": {
  "kernelspec": {
   "display_name": "R",
   "language": "R",
   "name": "ir"
  },
  "language_info": {
   "codemirror_mode": "r",
   "file_extension": ".r",
   "mimetype": "text/x-r-source",
   "name": "R",
   "pygments_lexer": "r",
   "version": "3.6.1"
  }
 },
 "nbformat": 4,
 "nbformat_minor": 2
}
