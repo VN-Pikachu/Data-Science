{
 "cells": [
  {
   "cell_type": "code",
   "execution_count": 2,
   "metadata": {},
   "outputs": [],
   "source": [
    "library(tidyverse)"
   ]
  },
  {
   "cell_type": "markdown",
   "metadata": {},
   "source": [
    "# Prepend a vector"
   ]
  },
  {
   "cell_type": "markdown",
   "metadata": {},
   "source": [
    "This is a companion to `append()` to help merging two lists or atomic vectors. `prepend()` is a clearer semantic signal than `c()` that a vector is to be merged at the beginning of another, especially in a pipe chain."
   ]
  },
  {
   "cell_type": "markdown",
   "metadata": {},
   "source": [
    "```r\n",
    "prepend(x, values, before = NULL)\n",
    "```"
   ]
  },
  {
   "cell_type": "markdown",
   "metadata": {},
   "source": [
    "**Arguments**  \n",
    "`x`\t\n",
    "the vector to be modified.\n",
    "\n",
    "`values`\t\n",
    "to be included in the modified vector.\n",
    "\n",
    "`before`\t\n",
    "a subscript, before which the values are to be appended. If NULL, values will be appended at the beginning even for x of length 0."
   ]
  },
  {
   "cell_type": "markdown",
   "metadata": {},
   "source": [
    "# Examples"
   ]
  },
  {
   "cell_type": "code",
   "execution_count": 7,
   "metadata": {},
   "outputs": [],
   "source": [
    "players <- list('VN Pikachu', 'Meomeo888', 'Tank Cao', 'Gravita')"
   ]
  },
  {
   "cell_type": "code",
   "execution_count": 8,
   "metadata": {},
   "outputs": [
    {
     "data": {
      "text/html": [
       "<ol>\n",
       "\t<li>'VN Pikachu'</li>\n",
       "\t<li>'Meomeo888'</li>\n",
       "\t<li>'Tank Cao'</li>\n",
       "\t<li>'Gravita'</li>\n",
       "\t<li>'quachtinh'</li>\n",
       "</ol>\n"
      ],
      "text/latex": [
       "\\begin{enumerate}\n",
       "\\item 'VN Pikachu'\n",
       "\\item 'Meomeo888'\n",
       "\\item 'Tank Cao'\n",
       "\\item 'Gravita'\n",
       "\\item 'quachtinh'\n",
       "\\end{enumerate}\n"
      ],
      "text/markdown": [
       "1. 'VN Pikachu'\n",
       "2. 'Meomeo888'\n",
       "3. 'Tank Cao'\n",
       "4. 'Gravita'\n",
       "5. 'quachtinh'\n",
       "\n",
       "\n"
      ],
      "text/plain": [
       "[[1]]\n",
       "[1] \"VN Pikachu\"\n",
       "\n",
       "[[2]]\n",
       "[1] \"Meomeo888\"\n",
       "\n",
       "[[3]]\n",
       "[1] \"Tank Cao\"\n",
       "\n",
       "[[4]]\n",
       "[1] \"Gravita\"\n",
       "\n",
       "[[5]]\n",
       "[1] \"quachtinh\"\n"
      ]
     },
     "metadata": {},
     "output_type": "display_data"
    }
   ],
   "source": [
    "players %>% append('quachtinh')"
   ]
  },
  {
   "cell_type": "code",
   "execution_count": 9,
   "metadata": {},
   "outputs": [
    {
     "data": {
      "text/html": [
       "<ol>\n",
       "\t<li>'VNC-S-W-A-T'</li>\n",
       "\t<li>'VN Pikachu'</li>\n",
       "\t<li>'Meomeo888'</li>\n",
       "\t<li>'Tank Cao'</li>\n",
       "\t<li>'Gravita'</li>\n",
       "</ol>\n"
      ],
      "text/latex": [
       "\\begin{enumerate}\n",
       "\\item 'VNC-S-W-A-T'\n",
       "\\item 'VN Pikachu'\n",
       "\\item 'Meomeo888'\n",
       "\\item 'Tank Cao'\n",
       "\\item 'Gravita'\n",
       "\\end{enumerate}\n"
      ],
      "text/markdown": [
       "1. 'VNC-S-W-A-T'\n",
       "2. 'VN Pikachu'\n",
       "3. 'Meomeo888'\n",
       "4. 'Tank Cao'\n",
       "5. 'Gravita'\n",
       "\n",
       "\n"
      ],
      "text/plain": [
       "[[1]]\n",
       "[1] \"VNC-S-W-A-T\"\n",
       "\n",
       "[[2]]\n",
       "[1] \"VN Pikachu\"\n",
       "\n",
       "[[3]]\n",
       "[1] \"Meomeo888\"\n",
       "\n",
       "[[4]]\n",
       "[1] \"Tank Cao\"\n",
       "\n",
       "[[5]]\n",
       "[1] \"Gravita\"\n"
      ]
     },
     "metadata": {},
     "output_type": "display_data"
    }
   ],
   "source": [
    "# by default, prepend insert value at 1-index\n",
    "players %>% prepend('VNC-S-W-A-T')"
   ]
  },
  {
   "cell_type": "code",
   "execution_count": 10,
   "metadata": {},
   "outputs": [
    {
     "data": {
      "text/html": [
       "<ol>\n",
       "\t<li>'VN Pikachu'</li>\n",
       "\t<li>'Meomeo888'</li>\n",
       "\t<li>'VNC-S-W-A-T'</li>\n",
       "\t<li>'Tank Cao'</li>\n",
       "\t<li>'Gravita'</li>\n",
       "</ol>\n"
      ],
      "text/latex": [
       "\\begin{enumerate}\n",
       "\\item 'VN Pikachu'\n",
       "\\item 'Meomeo888'\n",
       "\\item 'VNC-S-W-A-T'\n",
       "\\item 'Tank Cao'\n",
       "\\item 'Gravita'\n",
       "\\end{enumerate}\n"
      ],
      "text/markdown": [
       "1. 'VN Pikachu'\n",
       "2. 'Meomeo888'\n",
       "3. 'VNC-S-W-A-T'\n",
       "4. 'Tank Cao'\n",
       "5. 'Gravita'\n",
       "\n",
       "\n"
      ],
      "text/plain": [
       "[[1]]\n",
       "[1] \"VN Pikachu\"\n",
       "\n",
       "[[2]]\n",
       "[1] \"Meomeo888\"\n",
       "\n",
       "[[3]]\n",
       "[1] \"VNC-S-W-A-T\"\n",
       "\n",
       "[[4]]\n",
       "[1] \"Tank Cao\"\n",
       "\n",
       "[[5]]\n",
       "[1] \"Gravita\"\n"
      ]
     },
     "metadata": {},
     "output_type": "display_data"
    }
   ],
   "source": [
    "# insert value at 3-index\n",
    "players %>% prepend('VNC-S-W-A-T', before = 3)"
   ]
  },
  {
   "cell_type": "code",
   "execution_count": 12,
   "metadata": {},
   "outputs": [
    {
     "data": {
      "text/html": [
       "<ol>\n",
       "\t<li>'TUETUE'</li>\n",
       "\t<li>'Osama Binladen'</li>\n",
       "\t<li>'VN Pikachu'</li>\n",
       "\t<li>'Meomeo888'</li>\n",
       "\t<li>'Tank Cao'</li>\n",
       "\t<li>'Gravita'</li>\n",
       "</ol>\n"
      ],
      "text/latex": [
       "\\begin{enumerate}\n",
       "\\item 'TUETUE'\n",
       "\\item 'Osama Binladen'\n",
       "\\item 'VN Pikachu'\n",
       "\\item 'Meomeo888'\n",
       "\\item 'Tank Cao'\n",
       "\\item 'Gravita'\n",
       "\\end{enumerate}\n"
      ],
      "text/markdown": [
       "1. 'TUETUE'\n",
       "2. 'Osama Binladen'\n",
       "3. 'VN Pikachu'\n",
       "4. 'Meomeo888'\n",
       "5. 'Tank Cao'\n",
       "6. 'Gravita'\n",
       "\n",
       "\n"
      ],
      "text/plain": [
       "[[1]]\n",
       "[1] \"TUETUE\"\n",
       "\n",
       "[[2]]\n",
       "[1] \"Osama Binladen\"\n",
       "\n",
       "[[3]]\n",
       "[1] \"VN Pikachu\"\n",
       "\n",
       "[[4]]\n",
       "[1] \"Meomeo888\"\n",
       "\n",
       "[[5]]\n",
       "[1] \"Tank Cao\"\n",
       "\n",
       "[[6]]\n",
       "[1] \"Gravita\"\n"
      ]
     },
     "metadata": {},
     "output_type": "display_data"
    }
   ],
   "source": [
    "# This works like concatenate\n",
    "players %>% prepend(list('TUETUE', 'Osama Binladen'))"
   ]
  },
  {
   "cell_type": "code",
   "execution_count": 13,
   "metadata": {},
   "outputs": [
    {
     "data": {
      "text/html": [
       "<ol>\n",
       "\t<li>'VN Pikachu'</li>\n",
       "\t<li>'Meomeo888'</li>\n",
       "\t<li>'Tank Cao'</li>\n",
       "\t<li>'Gravita'</li>\n",
       "</ol>\n"
      ],
      "text/latex": [
       "\\begin{enumerate}\n",
       "\\item 'VN Pikachu'\n",
       "\\item 'Meomeo888'\n",
       "\\item 'Tank Cao'\n",
       "\\item 'Gravita'\n",
       "\\end{enumerate}\n"
      ],
      "text/markdown": [
       "1. 'VN Pikachu'\n",
       "2. 'Meomeo888'\n",
       "3. 'Tank Cao'\n",
       "4. 'Gravita'\n",
       "\n",
       "\n"
      ],
      "text/plain": [
       "[[1]]\n",
       "[1] \"VN Pikachu\"\n",
       "\n",
       "[[2]]\n",
       "[1] \"Meomeo888\"\n",
       "\n",
       "[[3]]\n",
       "[1] \"Tank Cao\"\n",
       "\n",
       "[[4]]\n",
       "[1] \"Gravita\"\n"
      ]
     },
     "metadata": {},
     "output_type": "display_data"
    }
   ],
   "source": [
    "players %>% prepend(list())"
   ]
  }
 ],
 "metadata": {
  "kernelspec": {
   "display_name": "R",
   "language": "R",
   "name": "ir"
  },
  "language_info": {
   "codemirror_mode": "r",
   "file_extension": ".r",
   "mimetype": "text/x-r-source",
   "name": "R",
   "pygments_lexer": "r",
   "version": "3.6.1"
  }
 },
 "nbformat": 4,
 "nbformat_minor": 2
}
