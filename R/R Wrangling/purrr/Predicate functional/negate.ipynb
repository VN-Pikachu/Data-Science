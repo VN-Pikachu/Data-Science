{
 "cells": [
  {
   "cell_type": "code",
   "execution_count": 2,
   "metadata": {},
   "outputs": [],
   "source": [
    "library(tidyverse)"
   ]
  },
  {
   "cell_type": "markdown",
   "metadata": {},
   "source": [
    "# Negate a predicate function"
   ]
  },
  {
   "cell_type": "markdown",
   "metadata": {},
   "source": [
    "```r\n",
    "negate(.p)\n",
    "```"
   ]
  },
  {
   "cell_type": "markdown",
   "metadata": {},
   "source": [
    "**Arguments**  \n",
    "`.p`\t\n",
    "A single predicate function, a formula describing such a predicate function, or a logical vector of the same length as `.x`. Alternatively, if the elements of `.x` are themselves lists of objects, a string indicating the name of a logical element in the inner lists. Only those elements where `.p` evaluates to TRUE will be modified.\n",
    "\n"
   ]
  },
  {
   "cell_type": "markdown",
   "metadata": {},
   "source": [
    "# Examples"
   ]
  },
  {
   "cell_type": "code",
   "execution_count": 3,
   "metadata": {},
   "outputs": [
    {
     "data": {
      "text/html": [
       "<pre class=language-r><code>structure(function (x, ...) \n",
       "{\n",
       "<span style=white-space:pre-wrap>    env &lt;- env(caller_env(), `_fn` = first_fn)</span>\n",
       "<span style=white-space:pre-wrap>    first_call &lt;- sys.call()</span>\n",
       "<span style=white-space:pre-wrap>    first_call[[1]] &lt;- quote(`_fn`)</span>\n",
       "<span style=white-space:pre-wrap>    env$`_out` &lt;- .Call(purrr_eval, first_call, env)</span>\n",
       "<span style=white-space:pre-wrap>    call &lt;- quote(`_fn`(`_out`))</span>\n",
       "<span style=white-space:pre-wrap>    for (fn in fns) {</span>\n",
       "<span style=white-space:pre-wrap>        env$`_fn` &lt;- fn</span>\n",
       "<span style=white-space:pre-wrap>        env$`_out` &lt;- .Call(purrr_eval, call, env)</span>\n",
       "<span style=white-space:pre-wrap>    }</span>\n",
       "<span style=white-space:pre-wrap>    env$`_out`</span>\n",
       "}, class = c(\"purrr_function_compose\", \"function\"), first_fn = function (x, \n",
       "<span style=white-space:pre-wrap>    ...) </span>\n",
       "pluck(x, \"x\", .default = NULL), fns = list(function (.x) \n",
       "!.x))</code></pre>"
      ],
      "text/latex": [
       "\\begin{minted}{r}\n",
       "structure(function (x, ...) \n",
       "\\{\n",
       "    env <- env(caller\\_env(), `\\_fn` = first\\_fn)\n",
       "    first\\_call <- sys.call()\n",
       "    first\\_call{[}{[}1{]}{]} <- quote(`\\_fn`)\n",
       "    env\\$`\\_out` <- .Call(purrr\\_eval, first\\_call, env)\n",
       "    call <- quote(`\\_fn`(`\\_out`))\n",
       "    for (fn in fns) \\{\n",
       "        env\\$`\\_fn` <- fn\n",
       "        env\\$`\\_out` <- .Call(purrr\\_eval, call, env)\n",
       "    \\}\n",
       "    env\\$`\\_out`\n",
       "\\}, class = c(\"purrr\\_function\\_compose\", \"function\"), first\\_fn = function (x, \n",
       "    ...) \n",
       "pluck(x, \"x\", .default = NULL), fns = list(function (.x) \n",
       "!.x))\n",
       "\\end{minted}"
      ],
      "text/markdown": [
       "```r\n",
       "structure(function (x, ...) \n",
       "{\n",
       "    env <- env(caller_env(), `_fn` = first_fn)\n",
       "    first_call <- sys.call()\n",
       "    first_call[[1]] <- quote(`_fn`)\n",
       "    env$`_out` <- .Call(purrr_eval, first_call, env)\n",
       "    call <- quote(`_fn`(`_out`))\n",
       "    for (fn in fns) {\n",
       "        env$`_fn` <- fn\n",
       "        env$`_out` <- .Call(purrr_eval, call, env)\n",
       "    }\n",
       "    env$`_out`\n",
       "}, class = c(\"purrr_function_compose\", \"function\"), first_fn = function (x, \n",
       "    ...) \n",
       "pluck(x, \"x\", .default = NULL), fns = list(function (.x) \n",
       "!.x))\n",
       "```"
      ],
      "text/plain": [
       "<composed>\n",
       "1. function (x, ...) \n",
       "pluck(x, \"x\", .default = NULL)\n",
       "<environment: 0x00000000420a5db0>\n",
       "\n",
       "2. function (.x) \n",
       "!.x\n",
       "<bytecode: 0x000000004b384220>\n",
       "<environment: 0x00000000420929f0>"
      ]
     },
     "metadata": {},
     "output_type": "display_data"
    }
   ],
   "source": [
    "negate('x')"
   ]
  },
  {
   "cell_type": "code",
   "execution_count": 5,
   "metadata": {},
   "outputs": [
    {
     "data": {
      "text/html": [
       "<pre class=language-r><code>structure(function (..., .x = ..1, .y = ..2, . = ..1) \n",
       "{\n",
       "<span style=white-space:pre-wrap>    env &lt;- env(caller_env(), `_fn` = first_fn)</span>\n",
       "<span style=white-space:pre-wrap>    first_call &lt;- sys.call()</span>\n",
       "<span style=white-space:pre-wrap>    first_call[[1]] &lt;- quote(`_fn`)</span>\n",
       "<span style=white-space:pre-wrap>    env$`_out` &lt;- .Call(purrr_eval, first_call, env)</span>\n",
       "<span style=white-space:pre-wrap>    call &lt;- quote(`_fn`(`_out`))</span>\n",
       "<span style=white-space:pre-wrap>    for (fn in fns) {</span>\n",
       "<span style=white-space:pre-wrap>        env$`_fn` &lt;- fn</span>\n",
       "<span style=white-space:pre-wrap>        env$`_out` &lt;- .Call(purrr_eval, call, env)</span>\n",
       "<span style=white-space:pre-wrap>    }</span>\n",
       "<span style=white-space:pre-wrap>    env$`_out`</span>\n",
       "}, class = c(\"purrr_function_compose\", \"function\"), first_fn = structure(function (..., \n",
       "<span style=white-space:pre-wrap>    .x = ..1, .y = ..2, . = ..1) </span>\n",
       ".%%2 == 1, class = c(\"rlang_lambda_function\", \"function\")), fns = list(\n",
       "<span style=white-space:pre-wrap>    function (.x) </span>\n",
       "<span style=white-space:pre-wrap>    !.x))</span></code></pre>"
      ],
      "text/latex": [
       "\\begin{minted}{r}\n",
       "structure(function (..., .x = ..1, .y = ..2, . = ..1) \n",
       "\\{\n",
       "    env <- env(caller\\_env(), `\\_fn` = first\\_fn)\n",
       "    first\\_call <- sys.call()\n",
       "    first\\_call{[}{[}1{]}{]} <- quote(`\\_fn`)\n",
       "    env\\$`\\_out` <- .Call(purrr\\_eval, first\\_call, env)\n",
       "    call <- quote(`\\_fn`(`\\_out`))\n",
       "    for (fn in fns) \\{\n",
       "        env\\$`\\_fn` <- fn\n",
       "        env\\$`\\_out` <- .Call(purrr\\_eval, call, env)\n",
       "    \\}\n",
       "    env\\$`\\_out`\n",
       "\\}, class = c(\"purrr\\_function\\_compose\", \"function\"), first\\_fn = structure(function (..., \n",
       "    .x = ..1, .y = ..2, . = ..1) \n",
       ".\\%\\%2 == 1, class = c(\"rlang\\_lambda\\_function\", \"function\")), fns = list(\n",
       "    function (.x) \n",
       "    !.x))\n",
       "\\end{minted}"
      ],
      "text/markdown": [
       "```r\n",
       "structure(function (..., .x = ..1, .y = ..2, . = ..1) \n",
       "{\n",
       "    env <- env(caller_env(), `_fn` = first_fn)\n",
       "    first_call <- sys.call()\n",
       "    first_call[[1]] <- quote(`_fn`)\n",
       "    env$`_out` <- .Call(purrr_eval, first_call, env)\n",
       "    call <- quote(`_fn`(`_out`))\n",
       "    for (fn in fns) {\n",
       "        env$`_fn` <- fn\n",
       "        env$`_out` <- .Call(purrr_eval, call, env)\n",
       "    }\n",
       "    env$`_out`\n",
       "}, class = c(\"purrr_function_compose\", \"function\"), first_fn = structure(function (..., \n",
       "    .x = ..1, .y = ..2, . = ..1) \n",
       ".%%2 == 1, class = c(\"rlang_lambda_function\", \"function\")), fns = list(\n",
       "    function (.x) \n",
       "    !.x))\n",
       "```"
      ],
      "text/plain": [
       "<composed>\n",
       "1. <lambda>\n",
       "function (..., .x = ..1, .y = ..2, . = ..1) \n",
       ".%%2 == 1\n",
       "attr(,\"class\")\n",
       "[1] \"rlang_lambda_function\" \"function\"             \n",
       "\n",
       "2. function (.x) \n",
       "!.x\n",
       "<bytecode: 0x000000004b384220>\n",
       "<environment: 0x000000004bc95fc8>"
      ]
     },
     "metadata": {},
     "output_type": "display_data"
    }
   ],
   "source": [
    "negate(~ . %% 2 == 1)"
   ]
  },
  {
   "cell_type": "code",
   "execution_count": 4,
   "metadata": {},
   "outputs": [
    {
     "data": {
      "text/html": [
       "<ol class=list-inline>\n",
       "\t<li>2</li>\n",
       "\t<li>4</li>\n",
       "\t<li>6</li>\n",
       "\t<li>8</li>\n",
       "\t<li>10</li>\n",
       "</ol>\n"
      ],
      "text/latex": [
       "\\begin{enumerate*}\n",
       "\\item 2\n",
       "\\item 4\n",
       "\\item 6\n",
       "\\item 8\n",
       "\\item 10\n",
       "\\end{enumerate*}\n"
      ],
      "text/markdown": [
       "1. 2\n",
       "2. 4\n",
       "3. 6\n",
       "4. 8\n",
       "5. 10\n",
       "\n",
       "\n"
      ],
      "text/plain": [
       "[1]  2  4  6  8 10"
      ]
     },
     "metadata": {},
     "output_type": "display_data"
    }
   ],
   "source": [
    "# filter even values\n",
    "\n",
    "1:10 %>% keep(negate(~ . %% 2 == 1))"
   ]
  }
 ],
 "metadata": {
  "kernelspec": {
   "display_name": "R",
   "language": "R",
   "name": "ir"
  },
  "language_info": {
   "codemirror_mode": "r",
   "file_extension": ".r",
   "mimetype": "text/x-r-source",
   "name": "R",
   "pygments_lexer": "r",
   "version": "3.6.1"
  }
 },
 "nbformat": 4,
 "nbformat_minor": 2
}
