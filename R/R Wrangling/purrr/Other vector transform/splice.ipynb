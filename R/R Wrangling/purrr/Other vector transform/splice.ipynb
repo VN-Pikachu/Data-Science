{
 "cells": [
  {
   "cell_type": "code",
   "execution_count": 2,
   "metadata": {},
   "outputs": [],
   "source": [
    "library(tidyverse)"
   ]
  },
  {
   "cell_type": "markdown",
   "metadata": {},
   "source": [
    "# Splice objects and lists of objects into a list"
   ]
  },
  {
   "cell_type": "markdown",
   "metadata": {},
   "source": [
    "this splices all arguments into a list.Non-list objects and lists with a S3 class are encapsulated in a list before concatenation."
   ]
  },
  {
   "cell_type": "markdown",
   "metadata": {},
   "source": [
    "```r\n",
    "splice(...)\n",
    "```"
   ]
  },
  {
   "cell_type": "markdown",
   "metadata": {},
   "source": [
    "**Arguments**\n",
    "`...`  \n",
    "Objects to concatenate"
   ]
  },
  {
   "cell_type": "markdown",
   "metadata": {},
   "source": [
    "# Examples"
   ]
  },
  {
   "cell_type": "code",
   "execution_count": 17,
   "metadata": {},
   "outputs": [
    {
     "data": {
      "text/html": [
       "<dl>\n",
       "\t<dt>$arg1</dt>\n",
       "\t\t<dd>'a'</dd>\n",
       "\t<dt>$arg2</dt>\n",
       "\t\t<dd>'b'</dd>\n",
       "\t<dt>$arg3</dt>\n",
       "\t\t<dd><ol class=list-inline>\n",
       "\t<li>'c1'</li>\n",
       "\t<li>'c2'</li>\n",
       "</ol>\n",
       "</dd>\n",
       "</dl>\n"
      ],
      "text/latex": [
       "\\begin{description}\n",
       "\\item[\\$arg1] 'a'\n",
       "\\item[\\$arg2] 'b'\n",
       "\\item[\\$arg3] \\begin{enumerate*}\n",
       "\\item 'c1'\n",
       "\\item 'c2'\n",
       "\\end{enumerate*}\n",
       "\n",
       "\\end{description}\n"
      ],
      "text/markdown": [
       "$arg1\n",
       ":   'a'\n",
       "$arg2\n",
       ":   'b'\n",
       "$arg3\n",
       ":   1. 'c1'\n",
       "2. 'c2'\n",
       "\n",
       "\n",
       "\n",
       "\n",
       "\n"
      ],
      "text/plain": [
       "$arg1\n",
       "[1] \"a\"\n",
       "\n",
       "$arg2\n",
       "[1] \"b\"\n",
       "\n",
       "$arg3\n",
       "[1] \"c1\" \"c2\"\n"
      ]
     },
     "metadata": {},
     "output_type": "display_data"
    },
    {
     "data": {
      "text/html": [
       "<dl>\n",
       "\t<dt>$arg1</dt>\n",
       "\t\t<dd>'a'</dd>\n",
       "\t<dt>$arg2</dt>\n",
       "\t\t<dd>'b'</dd>\n",
       "\t<dt>$arg3</dt>\n",
       "\t\t<dd><ol class=list-inline>\n",
       "\t<li>'c1'</li>\n",
       "\t<li>'c2'</li>\n",
       "</ol>\n",
       "</dd>\n",
       "</dl>\n"
      ],
      "text/latex": [
       "\\begin{description}\n",
       "\\item[\\$arg1] 'a'\n",
       "\\item[\\$arg2] 'b'\n",
       "\\item[\\$arg3] \\begin{enumerate*}\n",
       "\\item 'c1'\n",
       "\\item 'c2'\n",
       "\\end{enumerate*}\n",
       "\n",
       "\\end{description}\n"
      ],
      "text/markdown": [
       "$arg1\n",
       ":   'a'\n",
       "$arg2\n",
       ":   'b'\n",
       "$arg3\n",
       ":   1. 'c1'\n",
       "2. 'c2'\n",
       "\n",
       "\n",
       "\n",
       "\n",
       "\n"
      ],
      "text/plain": [
       "$arg1\n",
       "[1] \"a\"\n",
       "\n",
       "$arg2\n",
       "[1] \"b\"\n",
       "\n",
       "$arg3\n",
       "[1] \"c1\" \"c2\"\n"
      ]
     },
     "metadata": {},
     "output_type": "display_data"
    }
   ],
   "source": [
    "inputs <- list(arg1 = \"a\", arg2 = \"b\")\n",
    "\n",
    "# splice() concatenates the elements of inputs with arg3\n",
    "inputs %>% splice(arg3 = c(\"c1\", \"c2\")) \n",
    "\n",
    "# Question: why can achieve the same thing with list_modify() ? when is this function useful?\n",
    "inputs %>% list_modify(arg3 = c('c1', 'c2'))"
   ]
  },
  {
   "cell_type": "code",
   "execution_count": 8,
   "metadata": {},
   "outputs": [
    {
     "name": "stdout",
     "output_type": "stream",
     "text": [
      "[[1]]\n",
      "[[1]]$arg1\n",
      "[1] \"a\"\n",
      "\n",
      "[[1]]$arg2\n",
      "[1] \"b\"\n",
      "\n",
      "\n",
      "$arg3\n",
      "[1] \"c1\" \"c2\"\n",
      "\n"
     ]
    }
   ],
   "source": [
    "# compare to list() and c()\n",
    "\n",
    "list(inputs, arg3 = c('c1', 'c2')) %>% print()"
   ]
  },
  {
   "cell_type": "code",
   "execution_count": 9,
   "metadata": {},
   "outputs": [
    {
     "data": {
      "text/html": [
       "<dl>\n",
       "\t<dt>$arg1</dt>\n",
       "\t\t<dd>'a'</dd>\n",
       "\t<dt>$arg2</dt>\n",
       "\t\t<dd>'b'</dd>\n",
       "\t<dt>$args31</dt>\n",
       "\t\t<dd>'c1'</dd>\n",
       "\t<dt>$args32</dt>\n",
       "\t\t<dd>'c2'</dd>\n",
       "</dl>\n"
      ],
      "text/latex": [
       "\\begin{description}\n",
       "\\item[\\$arg1] 'a'\n",
       "\\item[\\$arg2] 'b'\n",
       "\\item[\\$args31] 'c1'\n",
       "\\item[\\$args32] 'c2'\n",
       "\\end{description}\n"
      ],
      "text/markdown": [
       "$arg1\n",
       ":   'a'\n",
       "$arg2\n",
       ":   'b'\n",
       "$args31\n",
       ":   'c1'\n",
       "$args32\n",
       ":   'c2'\n",
       "\n",
       "\n"
      ],
      "text/plain": [
       "$arg1\n",
       "[1] \"a\"\n",
       "\n",
       "$arg2\n",
       "[1] \"b\"\n",
       "\n",
       "$args31\n",
       "[1] \"c1\"\n",
       "\n",
       "$args32\n",
       "[1] \"c2\"\n"
      ]
     },
     "metadata": {},
     "output_type": "display_data"
    }
   ],
   "source": [
    "c(inputs, args3 = c('c1', 'c2'))"
   ]
  }
 ],
 "metadata": {
  "kernelspec": {
   "display_name": "R",
   "language": "R",
   "name": "ir"
  },
  "language_info": {
   "codemirror_mode": "r",
   "file_extension": ".r",
   "mimetype": "text/x-r-source",
   "name": "R",
   "pygments_lexer": "r",
   "version": "3.6.1"
  }
 },
 "nbformat": 4,
 "nbformat_minor": 2
}
