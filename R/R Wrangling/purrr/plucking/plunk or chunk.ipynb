{
 "cells": [
  {
   "cell_type": "code",
   "execution_count": 2,
   "metadata": {},
   "outputs": [],
   "source": [
    "library(tidyverse)"
   ]
  },
  {
   "cell_type": "markdown",
   "metadata": {},
   "source": [
    "# Pluck or chuck a single element from a vector or environment"
   ]
  },
  {
   "cell_type": "markdown",
   "metadata": {},
   "source": [
    "`pluck()` and `chuck()` implement a generalised form of `[[` that allow you to index deeply and flexibly into data structures. `pluck()` consistently returns NULL when an element does not exist,`chuck()` always throws an error in that case."
   ]
  },
  {
   "cell_type": "markdown",
   "metadata": {},
   "source": [
    "```r\n",
    "pluck(.x, ..., .default = NULL)\n",
    "\n",
    "chuck(.x, ...)\n",
    "\n",
    "pluck(.x, ...) <- value\n",
    "```"
   ]
  },
  {
   "cell_type": "markdown",
   "metadata": {},
   "source": [
    "**Arguments**  \n",
    "`.x`, `x`\t\n",
    "A vector or environment\n",
    "\n",
    "`...`\t\n",
    "A list of accessors for indexing into the object. Can be an integer position, a string name, or an accessor function (except for the assignment variants which only support names and positions). If the object being indexed is an S4 object, accessing it by name will return the corresponding slot.\n",
    "\n",
    "These dots support tidy dots features. In particular, if your accessors are stored in a list, you can splice that in with !!!.\n",
    "\n",
    "`.default`\t\n",
    "Value to use if target is empty or absent.\n",
    "\n",
    "`value`\t\n",
    "A value to replace in .x at the pluck location."
   ]
  },
  {
   "cell_type": "markdown",
   "metadata": {},
   "source": [
    "# Details"
   ]
  },
  {
   "cell_type": "markdown",
   "metadata": {},
   "source": [
    "\n",
    "* You can pluck or chuck with standard accessors like integer positions and string names, and also accepts arbitrary accessor functions, i.e. functions that take an object and return some internal piece.\n",
    "\n",
    "* This is often more readable than a mix of operators and accessors because it reads linearly and is free of syntactic cruft. Compare: `accessor(x[[1]])$foo` to `pluck(x, 1, accessor, \"foo\")`.\n",
    "\n",
    "* These accessors never partial-match. This is unlike `$` which will select the disp object if you write `mtcars$di`."
   ]
  },
  {
   "cell_type": "markdown",
   "metadata": {},
   "source": [
    "# Examples"
   ]
  },
  {
   "cell_type": "code",
   "execution_count": 3,
   "metadata": {},
   "outputs": [
    {
     "data": {
      "text/html": [
       "<ol>\n",
       "\t<li><ol>\n",
       "\t<li>'VN Champions'</li>\n",
       "\t<li><dl>\n",
       "\t<dt>[[1]]</dt>\n",
       "\t\t<dd>31</dd>\n",
       "\t<dt>$name</dt>\n",
       "\t\t<dd>'VN Pikachu'</dd>\n",
       "</dl>\n",
       "</li>\n",
       "</ol>\n",
       "</li>\n",
       "\t<li><ol>\n",
       "\t<li>'King Allool'</li>\n",
       "\t<li><dl>\n",
       "\t<dt>[[1]]</dt>\n",
       "\t\t<dd>35</dd>\n",
       "\t<dt>$name</dt>\n",
       "\t\t<dd>'xXx-Hadi-xXx'</dd>\n",
       "</dl>\n",
       "</li>\n",
       "</ol>\n",
       "</li>\n",
       "</ol>\n"
      ],
      "text/latex": [
       "\\begin{enumerate}\n",
       "\\item \\begin{enumerate}\n",
       "\\item 'VN Champions'\n",
       "\\item \\begin{description}\n",
       "\\item[{[[1]]}] 31\n",
       "\\item[\\$name] 'VN Pikachu'\n",
       "\\end{description}\n",
       "\n",
       "\\end{enumerate}\n",
       "\n",
       "\\item \\begin{enumerate}\n",
       "\\item 'King Allool'\n",
       "\\item \\begin{description}\n",
       "\\item[{[[1]]}] 35\n",
       "\\item[\\$name] 'xXx-Hadi-xXx'\n",
       "\\end{description}\n",
       "\n",
       "\\end{enumerate}\n",
       "\n",
       "\\end{enumerate}\n"
      ],
      "text/markdown": [
       "1. 1. 'VN Champions'\n",
       "2. [[1]]\n",
       ":   31\n",
       "$name\n",
       ":   'VN Pikachu'\n",
       "\n",
       "\n",
       "\n",
       "\n",
       "\n",
       "\n",
       "2. 1. 'King Allool'\n",
       "2. [[1]]\n",
       ":   35\n",
       "$name\n",
       ":   'xXx-Hadi-xXx'\n",
       "\n",
       "\n",
       "\n",
       "\n",
       "\n",
       "\n",
       "\n",
       "\n"
      ],
      "text/plain": [
       "[[1]]\n",
       "[[1]][[1]]\n",
       "[1] \"VN Champions\"\n",
       "\n",
       "[[1]][[2]]\n",
       "[[1]][[2]][[1]]\n",
       "[1] 31\n",
       "\n",
       "[[1]][[2]]$name\n",
       "[1] \"VN Pikachu\"\n",
       "\n",
       "\n",
       "\n",
       "[[2]]\n",
       "[[2]][[1]]\n",
       "[1] \"King Allool\"\n",
       "\n",
       "[[2]][[2]]\n",
       "[[2]][[2]][[1]]\n",
       "[1] 35\n",
       "\n",
       "[[2]][[2]]$name\n",
       "[1] \"xXx-Hadi-xXx\"\n",
       "\n",
       "\n"
      ]
     },
     "metadata": {},
     "output_type": "display_data"
    }
   ],
   "source": [
    "player1 <- list('VN Champions', list(31, name = 'VN Pikachu'))\n",
    "\n",
    "player2 <- list('King Allool', list(35, name = 'xXx-Hadi-xXx'))\n",
    "\n",
    "players <- list(player1, player2)\n",
    "\n",
    "players"
   ]
  },
  {
   "cell_type": "markdown",
   "metadata": {},
   "source": [
    "**`pluck()`** provides a way of retrieving objects from such data\n",
    "structures using a combination of numeric positions, vector or\n",
    "list names, and accessor functions."
   ]
  },
  {
   "cell_type": "code",
   "execution_count": 6,
   "metadata": {},
   "outputs": [
    {
     "data": {
      "text/html": [
       "<ol>\n",
       "\t<li>'VN Champions'</li>\n",
       "\t<li><dl>\n",
       "\t<dt>[[1]]</dt>\n",
       "\t\t<dd>31</dd>\n",
       "\t<dt>$name</dt>\n",
       "\t\t<dd>'VN Pikachu'</dd>\n",
       "</dl>\n",
       "</li>\n",
       "</ol>\n"
      ],
      "text/latex": [
       "\\begin{enumerate}\n",
       "\\item 'VN Champions'\n",
       "\\item \\begin{description}\n",
       "\\item[{[[1]]}] 31\n",
       "\\item[\\$name] 'VN Pikachu'\n",
       "\\end{description}\n",
       "\n",
       "\\end{enumerate}\n"
      ],
      "text/markdown": [
       "1. 'VN Champions'\n",
       "2. [[1]]\n",
       ":   31\n",
       "$name\n",
       ":   'VN Pikachu'\n",
       "\n",
       "\n",
       "\n",
       "\n",
       "\n"
      ],
      "text/plain": [
       "[[1]]\n",
       "[1] \"VN Champions\"\n",
       "\n",
       "[[2]]\n",
       "[[2]][[1]]\n",
       "[1] 31\n",
       "\n",
       "[[2]]$name\n",
       "[1] \"VN Pikachu\"\n",
       "\n"
      ]
     },
     "metadata": {},
     "output_type": "display_data"
    },
    {
     "data": {
      "text/html": [
       "<ol>\n",
       "\t<li>'VN Champions'</li>\n",
       "\t<li><dl>\n",
       "\t<dt>[[1]]</dt>\n",
       "\t\t<dd>31</dd>\n",
       "\t<dt>$name</dt>\n",
       "\t\t<dd>'VN Pikachu'</dd>\n",
       "</dl>\n",
       "</li>\n",
       "</ol>\n"
      ],
      "text/latex": [
       "\\begin{enumerate}\n",
       "\\item 'VN Champions'\n",
       "\\item \\begin{description}\n",
       "\\item[{[[1]]}] 31\n",
       "\\item[\\$name] 'VN Pikachu'\n",
       "\\end{description}\n",
       "\n",
       "\\end{enumerate}\n"
      ],
      "text/markdown": [
       "1. 'VN Champions'\n",
       "2. [[1]]\n",
       ":   31\n",
       "$name\n",
       ":   'VN Pikachu'\n",
       "\n",
       "\n",
       "\n",
       "\n",
       "\n"
      ],
      "text/plain": [
       "[[1]]\n",
       "[1] \"VN Champions\"\n",
       "\n",
       "[[2]]\n",
       "[[2]][[1]]\n",
       "[1] 31\n",
       "\n",
       "[[2]]$name\n",
       "[1] \"VN Pikachu\"\n",
       "\n"
      ]
     },
     "metadata": {},
     "output_type": "display_data"
    }
   ],
   "source": [
    "# Numeric positions index into the list by position, just like `[[`:\n",
    "\n",
    "players %>% pluck(1)\n",
    "\n",
    "#equivalent to\n",
    "players[[1]]"
   ]
  },
  {
   "cell_type": "code",
   "execution_count": 8,
   "metadata": {},
   "outputs": [
    {
     "data": {
      "text/html": [
       "<dl>\n",
       "\t<dt>[[1]]</dt>\n",
       "\t\t<dd>31</dd>\n",
       "\t<dt>$name</dt>\n",
       "\t\t<dd>'VN Pikachu'</dd>\n",
       "</dl>\n"
      ],
      "text/latex": [
       "\\begin{description}\n",
       "\\item[{[[1]]}] 31\n",
       "\\item[\\$name] 'VN Pikachu'\n",
       "\\end{description}\n"
      ],
      "text/markdown": [
       "[[1]]\n",
       ":   31\n",
       "$name\n",
       ":   'VN Pikachu'\n",
       "\n",
       "\n"
      ],
      "text/plain": [
       "[[1]]\n",
       "[1] 31\n",
       "\n",
       "$name\n",
       "[1] \"VN Pikachu\"\n"
      ]
     },
     "metadata": {},
     "output_type": "display_data"
    },
    {
     "data": {
      "text/html": [
       "<dl>\n",
       "\t<dt>[[1]]</dt>\n",
       "\t\t<dd>31</dd>\n",
       "\t<dt>$name</dt>\n",
       "\t\t<dd>'VN Pikachu'</dd>\n",
       "</dl>\n"
      ],
      "text/latex": [
       "\\begin{description}\n",
       "\\item[{[[1]]}] 31\n",
       "\\item[\\$name] 'VN Pikachu'\n",
       "\\end{description}\n"
      ],
      "text/markdown": [
       "[[1]]\n",
       ":   31\n",
       "$name\n",
       ":   'VN Pikachu'\n",
       "\n",
       "\n"
      ],
      "text/plain": [
       "[[1]]\n",
       "[1] 31\n",
       "\n",
       "$name\n",
       "[1] \"VN Pikachu\"\n"
      ]
     },
     "metadata": {},
     "output_type": "display_data"
    }
   ],
   "source": [
    "players %>% pluck(1, 2)\n",
    "\n",
    "#equivalent to:\n",
    "players[[1]][[2]]"
   ]
  },
  {
   "cell_type": "code",
   "execution_count": 10,
   "metadata": {},
   "outputs": [
    {
     "data": {
      "text/html": [
       "'VN Pikachu'"
      ],
      "text/latex": [
       "'VN Pikachu'"
      ],
      "text/markdown": [
       "'VN Pikachu'"
      ],
      "text/plain": [
       "[1] \"VN Pikachu\""
      ]
     },
     "metadata": {},
     "output_type": "display_data"
    },
    {
     "data": {
      "text/html": [
       "'VN Pikachu'"
      ],
      "text/latex": [
       "'VN Pikachu'"
      ],
      "text/markdown": [
       "'VN Pikachu'"
      ],
      "text/plain": [
       "[1] \"VN Pikachu\""
      ]
     },
     "metadata": {},
     "output_type": "display_data"
    }
   ],
   "source": [
    "# Supply names to index into named vectors:\n",
    "players %>% pluck(1, 2, 'name')\n",
    "\n",
    "# Equivalent to\n",
    "players[[1]][[2]]$name"
   ]
  },
  {
   "cell_type": "markdown",
   "metadata": {},
   "source": [
    "By default, `pluck()` consistently returns `NULL` when an element"
   ]
  },
  {
   "cell_type": "code",
   "execution_count": 12,
   "metadata": {},
   "outputs": [
    {
     "data": {
      "text/plain": [
       "NULL"
      ]
     },
     "metadata": {},
     "output_type": "display_data"
    }
   ],
   "source": [
    "players %>% pluck(10)"
   ]
  },
  {
   "cell_type": "code",
   "execution_count": 14,
   "metadata": {},
   "outputs": [
    {
     "data": {
      "text/html": [
       "'&lt;missing&gt;'"
      ],
      "text/latex": [
       "'<missing>'"
      ],
      "text/markdown": [
       "'&lt;missing&gt;'"
      ],
      "text/plain": [
       "[1] \"<missing>\""
      ]
     },
     "metadata": {},
     "output_type": "display_data"
    }
   ],
   "source": [
    "# supply a default value\n",
    "players %>% pluck(10, .default = '<missing>')"
   ]
  },
  {
   "cell_type": "markdown",
   "metadata": {},
   "source": [
    "If you prefer to consistently fail for non-existing elements, use\n",
    "the opinionated variant **`chuck()`** :"
   ]
  },
  {
   "cell_type": "code",
   "execution_count": 16,
   "metadata": {},
   "outputs": [
    {
     "name": "stdout",
     "output_type": "stream",
     "text": [
      "Error : Index 1 exceeds the length of plucked object (10 > 2)\n"
     ]
    }
   ],
   "source": [
    "# raise an error if does not exist\n",
    "try(players %>% chuck(10))"
   ]
  },
  {
   "cell_type": "markdown",
   "metadata": {},
   "source": [
    "The `map()` functions use `pluck()` by default to retrieve multiple"
   ]
  },
  {
   "cell_type": "code",
   "execution_count": 24,
   "metadata": {},
   "outputs": [
    {
     "data": {
      "text/html": [
       "<ol>\n",
       "\t<li>'VN Pikachu'</li>\n",
       "\t<li>'xXx-Hadi-xXx'</li>\n",
       "</ol>\n"
      ],
      "text/latex": [
       "\\begin{enumerate}\n",
       "\\item 'VN Pikachu'\n",
       "\\item 'xXx-Hadi-xXx'\n",
       "\\end{enumerate}\n"
      ],
      "text/markdown": [
       "1. 'VN Pikachu'\n",
       "2. 'xXx-Hadi-xXx'\n",
       "\n",
       "\n"
      ],
      "text/plain": [
       "[[1]]\n",
       "[1] \"VN Pikachu\"\n",
       "\n",
       "[[2]]\n",
       "[1] \"xXx-Hadi-xXx\"\n"
      ]
     },
     "metadata": {},
     "output_type": "display_data"
    },
    {
     "data": {
      "text/html": [
       "<ol>\n",
       "\t<li>'VN Pikachu'</li>\n",
       "\t<li>'xXx-Hadi-xXx'</li>\n",
       "</ol>\n"
      ],
      "text/latex": [
       "\\begin{enumerate}\n",
       "\\item 'VN Pikachu'\n",
       "\\item 'xXx-Hadi-xXx'\n",
       "\\end{enumerate}\n"
      ],
      "text/markdown": [
       "1. 'VN Pikachu'\n",
       "2. 'xXx-Hadi-xXx'\n",
       "\n",
       "\n"
      ],
      "text/plain": [
       "[[1]]\n",
       "[1] \"VN Pikachu\"\n",
       "\n",
       "[[2]]\n",
       "[1] \"xXx-Hadi-xXx\"\n"
      ]
     },
     "metadata": {},
     "output_type": "display_data"
    },
    {
     "data": {
      "text/html": [
       "<ol>\n",
       "\t<li>'VN Pikachu'</li>\n",
       "\t<li>'xXx-Hadi-xXx'</li>\n",
       "</ol>\n"
      ],
      "text/latex": [
       "\\begin{enumerate}\n",
       "\\item 'VN Pikachu'\n",
       "\\item 'xXx-Hadi-xXx'\n",
       "\\end{enumerate}\n"
      ],
      "text/markdown": [
       "1. 'VN Pikachu'\n",
       "2. 'xXx-Hadi-xXx'\n",
       "\n",
       "\n"
      ],
      "text/plain": [
       "[[1]]\n",
       "[1] \"VN Pikachu\"\n",
       "\n",
       "[[2]]\n",
       "[1] \"xXx-Hadi-xXx\"\n"
      ]
     },
     "metadata": {},
     "output_type": "display_data"
    },
    {
     "data": {
      "text/html": [
       "<ol>\n",
       "\t<li>'VN Pikachu'</li>\n",
       "\t<li>'xXx-Hadi-xXx'</li>\n",
       "</ol>\n"
      ],
      "text/latex": [
       "\\begin{enumerate}\n",
       "\\item 'VN Pikachu'\n",
       "\\item 'xXx-Hadi-xXx'\n",
       "\\end{enumerate}\n"
      ],
      "text/markdown": [
       "1. 'VN Pikachu'\n",
       "2. 'xXx-Hadi-xXx'\n",
       "\n",
       "\n"
      ],
      "text/plain": [
       "[[1]]\n",
       "[1] \"VN Pikachu\"\n",
       "\n",
       "[[2]]\n",
       "[1] \"xXx-Hadi-xXx\"\n"
      ]
     },
     "metadata": {},
     "output_type": "display_data"
    }
   ],
   "source": [
    "players %>% map(list(2, 'name'))\n",
    "\n",
    "# equivalents:\n",
    "players %>% map(function(value) pluck(value, 2, 'name'))\n",
    "                \n",
    "players %>% map(pluck, 2, 'name') # 2, 'name' is aditional argument passing to function `pluck`\n",
    "                \n",
    "\n",
    "players %>% map(~ pluck(., 2, 'name'))  # Using a formula"
   ]
  },
  {
   "cell_type": "code",
   "execution_count": 27,
   "metadata": {},
   "outputs": [
    {
     "data": {
      "text/html": [
       "<ol>\n",
       "\t<li>'&lt;missing&gt;'</li>\n",
       "\t<li>'&lt;missing&gt;'</li>\n",
       "</ol>\n"
      ],
      "text/latex": [
       "\\begin{enumerate}\n",
       "\\item '<missing>'\n",
       "\\item '<missing>'\n",
       "\\end{enumerate}\n"
      ],
      "text/markdown": [
       "1. '&lt;missing&gt;'\n",
       "2. '&lt;missing&gt;'\n",
       "\n",
       "\n"
      ],
      "text/plain": [
       "[[1]]\n",
       "[1] \"<missing>\"\n",
       "\n",
       "[[2]]\n",
       "[1] \"<missing>\"\n"
      ]
     },
     "metadata": {},
     "output_type": "display_data"
    },
    {
     "data": {
      "text/html": [
       "<ol>\n",
       "\t<li>'&lt;missing'</li>\n",
       "\t<li>'&lt;missing'</li>\n",
       "</ol>\n"
      ],
      "text/latex": [
       "\\begin{enumerate}\n",
       "\\item '<missing'\n",
       "\\item '<missing'\n",
       "\\end{enumerate}\n"
      ],
      "text/markdown": [
       "1. '&lt;missing'\n",
       "2. '&lt;missing'\n",
       "\n",
       "\n"
      ],
      "text/plain": [
       "[[1]]\n",
       "[1] \"<missing\"\n",
       "\n",
       "[[2]]\n",
       "[1] \"<missing\"\n"
      ]
     },
     "metadata": {},
     "output_type": "display_data"
    }
   ],
   "source": [
    "# You can also supply a default:\n",
    "\n",
    "players %>% map(list(2, 'gender'), .default = '<missing>')\n",
    "\n",
    "# Comments: I think this is not intuitive. apply function function pluck instead\n",
    "players %>% map(pluck, 2, 'gender', .default = '<missing')"
   ]
  },
  {
   "cell_type": "code",
   "execution_count": 29,
   "metadata": {},
   "outputs": [
    {
     "name": "stdout",
     "output_type": "stream",
     "text": [
      "Error : Can't find name `gender` in vector\n"
     ]
    }
   ],
   "source": [
    "# Or use the strict variant:\n",
    "try(players %>% map(chuck, 2, 'gender'))"
   ]
  },
  {
   "cell_type": "code",
   "execution_count": 30,
   "metadata": {},
   "outputs": [
    {
     "data": {
      "text/html": [
       "<ol>\n",
       "\t<li><ol>\n",
       "\t<li>'VNC'</li>\n",
       "\t<li><dl>\n",
       "\t<dt>[[1]]</dt>\n",
       "\t\t<dd>31</dd>\n",
       "\t<dt>$name</dt>\n",
       "\t\t<dd>'VN Pikachu'</dd>\n",
       "</dl>\n",
       "</li>\n",
       "</ol>\n",
       "</li>\n",
       "\t<li><ol>\n",
       "\t<li>'King Allool'</li>\n",
       "\t<li><dl>\n",
       "\t<dt>[[1]]</dt>\n",
       "\t\t<dd>35</dd>\n",
       "\t<dt>$name</dt>\n",
       "\t\t<dd>'xXx-Hadi-xXx'</dd>\n",
       "</dl>\n",
       "</li>\n",
       "</ol>\n",
       "</li>\n",
       "</ol>\n"
      ],
      "text/latex": [
       "\\begin{enumerate}\n",
       "\\item \\begin{enumerate}\n",
       "\\item 'VNC'\n",
       "\\item \\begin{description}\n",
       "\\item[{[[1]]}] 31\n",
       "\\item[\\$name] 'VN Pikachu'\n",
       "\\end{description}\n",
       "\n",
       "\\end{enumerate}\n",
       "\n",
       "\\item \\begin{enumerate}\n",
       "\\item 'King Allool'\n",
       "\\item \\begin{description}\n",
       "\\item[{[[1]]}] 35\n",
       "\\item[\\$name] 'xXx-Hadi-xXx'\n",
       "\\end{description}\n",
       "\n",
       "\\end{enumerate}\n",
       "\n",
       "\\end{enumerate}\n"
      ],
      "text/markdown": [
       "1. 1. 'VNC'\n",
       "2. [[1]]\n",
       ":   31\n",
       "$name\n",
       ":   'VN Pikachu'\n",
       "\n",
       "\n",
       "\n",
       "\n",
       "\n",
       "\n",
       "2. 1. 'King Allool'\n",
       "2. [[1]]\n",
       ":   35\n",
       "$name\n",
       ":   'xXx-Hadi-xXx'\n",
       "\n",
       "\n",
       "\n",
       "\n",
       "\n",
       "\n",
       "\n",
       "\n"
      ],
      "text/plain": [
       "[[1]]\n",
       "[[1]][[1]]\n",
       "[1] \"VNC\"\n",
       "\n",
       "[[1]][[2]]\n",
       "[[1]][[2]][[1]]\n",
       "[1] 31\n",
       "\n",
       "[[1]][[2]]$name\n",
       "[1] \"VN Pikachu\"\n",
       "\n",
       "\n",
       "\n",
       "[[2]]\n",
       "[[2]][[1]]\n",
       "[1] \"King Allool\"\n",
       "\n",
       "[[2]][[2]]\n",
       "[[2]][[2]][[1]]\n",
       "[1] 35\n",
       "\n",
       "[[2]][[2]]$name\n",
       "[1] \"xXx-Hadi-xXx\"\n",
       "\n",
       "\n"
      ]
     },
     "metadata": {},
     "output_type": "display_data"
    }
   ],
   "source": [
    "# You can also assign a value in a pluck location with pluck<-:\n",
    "pluck(players, 1, 1) <- 'VNC'\n",
    "\n",
    "players"
   ]
  },
  {
   "cell_type": "markdown",
   "metadata": {},
   "source": [
    "`pluck()` also supports accessor functions:"
   ]
  },
  {
   "cell_type": "code",
   "execution_count": 33,
   "metadata": {},
   "outputs": [
    {
     "data": {
      "text/html": [
       "'VN Pikachu'"
      ],
      "text/latex": [
       "'VN Pikachu'"
      ],
      "text/markdown": [
       "'VN Pikachu'"
      ],
      "text/plain": [
       "[1] \"VN Pikachu\""
      ]
     },
     "metadata": {},
     "output_type": "display_data"
    }
   ],
   "source": [
    "get_value <- function(x) x[[2]]$name\n",
    "\n",
    "players %>% pluck(1, get_value)"
   ]
  },
  {
   "cell_type": "code",
   "execution_count": 34,
   "metadata": {},
   "outputs": [
    {
     "data": {
      "text/html": [
       "'VN Pikachu'"
      ],
      "text/latex": [
       "'VN Pikachu'"
      ],
      "text/markdown": [
       "'VN Pikachu'"
      ],
      "text/plain": [
       "[1] \"VN Pikachu\""
      ]
     },
     "metadata": {},
     "output_type": "display_data"
    }
   ],
   "source": [
    "# If you have alist of accessors, you can splice those in with `!!!`:\n",
    "\n",
    "players %>% pluck(!!!list(1, 2, 'name'))"
   ]
  }
 ],
 "metadata": {
  "kernelspec": {
   "display_name": "R",
   "language": "R",
   "name": "ir"
  },
  "language_info": {
   "codemirror_mode": "r",
   "file_extension": ".r",
   "mimetype": "text/x-r-source",
   "name": "R",
   "pygments_lexer": "r",
   "version": "3.6.1"
  }
 },
 "nbformat": 4,
 "nbformat_minor": 2
}
