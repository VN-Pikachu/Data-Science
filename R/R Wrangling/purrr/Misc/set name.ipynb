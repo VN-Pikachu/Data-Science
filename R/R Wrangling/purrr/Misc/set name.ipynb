{
 "cells": [
  {
   "cell_type": "code",
   "execution_count": 7,
   "metadata": {},
   "outputs": [],
   "source": [
    "library(tidyverse)"
   ]
  },
  {
   "cell_type": "markdown",
   "metadata": {},
   "source": [
    "```r\n",
    "set_names(x, nm = x, ...)\n",
    "```"
   ]
  },
  {
   "cell_type": "code",
   "execution_count": 4,
   "metadata": {},
   "outputs": [
    {
     "data": {
      "text/html": [
       "<dl class=dl-horizontal>\n",
       "\t<dt>a</dt>\n",
       "\t\t<dd>1</dd>\n",
       "\t<dt>b</dt>\n",
       "\t\t<dd>2</dd>\n",
       "\t<dt>c</dt>\n",
       "\t\t<dd>3</dd>\n",
       "\t<dt>d</dt>\n",
       "\t\t<dd>4</dd>\n",
       "</dl>\n"
      ],
      "text/latex": [
       "\\begin{description*}\n",
       "\\item[a] 1\n",
       "\\item[b] 2\n",
       "\\item[c] 3\n",
       "\\item[d] 4\n",
       "\\end{description*}\n"
      ],
      "text/markdown": [
       "a\n",
       ":   1b\n",
       ":   2c\n",
       ":   3d\n",
       ":   4\n",
       "\n"
      ],
      "text/plain": [
       "a b c d \n",
       "1 2 3 4 "
      ]
     },
     "metadata": {},
     "output_type": "display_data"
    }
   ],
   "source": [
    "values <- 1:4\n",
    "names(values) <- letters[1:4]\n",
    "\n",
    "values"
   ]
  },
  {
   "cell_type": "code",
   "execution_count": 6,
   "metadata": {},
   "outputs": [
    {
     "data": {
      "text/html": [
       "<dl class=dl-horizontal>\n",
       "\t<dt>a</dt>\n",
       "\t\t<dd>1</dd>\n",
       "\t<dt>b</dt>\n",
       "\t\t<dd>2</dd>\n",
       "\t<dt>c</dt>\n",
       "\t\t<dd>3</dd>\n",
       "\t<dt>d</dt>\n",
       "\t\t<dd>4</dd>\n",
       "</dl>\n"
      ],
      "text/latex": [
       "\\begin{description*}\n",
       "\\item[a] 1\n",
       "\\item[b] 2\n",
       "\\item[c] 3\n",
       "\\item[d] 4\n",
       "\\end{description*}\n"
      ],
      "text/markdown": [
       "a\n",
       ":   1b\n",
       ":   2c\n",
       ":   3d\n",
       ":   4\n",
       "\n"
      ],
      "text/plain": [
       "a b c d \n",
       "1 2 3 4 "
      ]
     },
     "metadata": {},
     "output_type": "display_data"
    },
    {
     "data": {
      "text/html": [
       "<dl class=dl-horizontal>\n",
       "\t<dt>a</dt>\n",
       "\t\t<dd>1</dd>\n",
       "\t<dt>b</dt>\n",
       "\t\t<dd>2</dd>\n",
       "\t<dt>c</dt>\n",
       "\t\t<dd>3</dd>\n",
       "\t<dt>d</dt>\n",
       "\t\t<dd>4</dd>\n",
       "</dl>\n"
      ],
      "text/latex": [
       "\\begin{description*}\n",
       "\\item[a] 1\n",
       "\\item[b] 2\n",
       "\\item[c] 3\n",
       "\\item[d] 4\n",
       "\\end{description*}\n"
      ],
      "text/markdown": [
       "a\n",
       ":   1b\n",
       ":   2c\n",
       ":   3d\n",
       ":   4\n",
       "\n"
      ],
      "text/plain": [
       "a b c d \n",
       "1 2 3 4 "
      ]
     },
     "metadata": {},
     "output_type": "display_data"
    }
   ],
   "source": [
    "# equivalent\n",
    "set_names(1:4, letters[1:4])\n",
    "\n",
    "set_names(1:4, 'a', 'b', 'c', 'd')"
   ]
  },
  {
   "cell_type": "code",
   "execution_count": 4,
   "metadata": {},
   "outputs": [
    {
     "data": {
      "text/html": [
       "<dl class=dl-horizontal>\n",
       "\t<dt>a</dt>\n",
       "\t\t<dd>'a'</dd>\n",
       "\t<dt>b</dt>\n",
       "\t\t<dd>'b'</dd>\n",
       "\t<dt>c</dt>\n",
       "\t\t<dd>'c'</dd>\n",
       "\t<dt>d</dt>\n",
       "\t\t<dd>'d'</dd>\n",
       "\t<dt>e</dt>\n",
       "\t\t<dd>'e'</dd>\n",
       "\t<dt>f</dt>\n",
       "\t\t<dd>'f'</dd>\n",
       "\t<dt>g</dt>\n",
       "\t\t<dd>'g'</dd>\n",
       "\t<dt>h</dt>\n",
       "\t\t<dd>'h'</dd>\n",
       "\t<dt>i</dt>\n",
       "\t\t<dd>'i'</dd>\n",
       "\t<dt>j</dt>\n",
       "\t\t<dd>'j'</dd>\n",
       "\t<dt>k</dt>\n",
       "\t\t<dd>'k'</dd>\n",
       "\t<dt>l</dt>\n",
       "\t\t<dd>'l'</dd>\n",
       "\t<dt>m</dt>\n",
       "\t\t<dd>'m'</dd>\n",
       "\t<dt>n</dt>\n",
       "\t\t<dd>'n'</dd>\n",
       "\t<dt>o</dt>\n",
       "\t\t<dd>'o'</dd>\n",
       "\t<dt>p</dt>\n",
       "\t\t<dd>'p'</dd>\n",
       "\t<dt>q</dt>\n",
       "\t\t<dd>'q'</dd>\n",
       "\t<dt>r</dt>\n",
       "\t\t<dd>'r'</dd>\n",
       "\t<dt>s</dt>\n",
       "\t\t<dd>'s'</dd>\n",
       "\t<dt>t</dt>\n",
       "\t\t<dd>'t'</dd>\n",
       "\t<dt>u</dt>\n",
       "\t\t<dd>'u'</dd>\n",
       "\t<dt>v</dt>\n",
       "\t\t<dd>'v'</dd>\n",
       "\t<dt>w</dt>\n",
       "\t\t<dd>'w'</dd>\n",
       "\t<dt>x</dt>\n",
       "\t\t<dd>'x'</dd>\n",
       "\t<dt>y</dt>\n",
       "\t\t<dd>'y'</dd>\n",
       "\t<dt>z</dt>\n",
       "\t\t<dd>'z'</dd>\n",
       "</dl>\n"
      ],
      "text/latex": [
       "\\begin{description*}\n",
       "\\item[a] 'a'\n",
       "\\item[b] 'b'\n",
       "\\item[c] 'c'\n",
       "\\item[d] 'd'\n",
       "\\item[e] 'e'\n",
       "\\item[f] 'f'\n",
       "\\item[g] 'g'\n",
       "\\item[h] 'h'\n",
       "\\item[i] 'i'\n",
       "\\item[j] 'j'\n",
       "\\item[k] 'k'\n",
       "\\item[l] 'l'\n",
       "\\item[m] 'm'\n",
       "\\item[n] 'n'\n",
       "\\item[o] 'o'\n",
       "\\item[p] 'p'\n",
       "\\item[q] 'q'\n",
       "\\item[r] 'r'\n",
       "\\item[s] 's'\n",
       "\\item[t] 't'\n",
       "\\item[u] 'u'\n",
       "\\item[v] 'v'\n",
       "\\item[w] 'w'\n",
       "\\item[x] 'x'\n",
       "\\item[y] 'y'\n",
       "\\item[z] 'z'\n",
       "\\end{description*}\n"
      ],
      "text/markdown": [
       "a\n",
       ":   'a'b\n",
       ":   'b'c\n",
       ":   'c'd\n",
       ":   'd'e\n",
       ":   'e'f\n",
       ":   'f'g\n",
       ":   'g'h\n",
       ":   'h'i\n",
       ":   'i'j\n",
       ":   'j'k\n",
       ":   'k'l\n",
       ":   'l'm\n",
       ":   'm'n\n",
       ":   'n'o\n",
       ":   'o'p\n",
       ":   'p'q\n",
       ":   'q'r\n",
       ":   'r's\n",
       ":   's't\n",
       ":   't'u\n",
       ":   'u'v\n",
       ":   'v'w\n",
       ":   'w'x\n",
       ":   'x'y\n",
       ":   'y'z\n",
       ":   'z'\n",
       "\n"
      ],
      "text/plain": [
       "  a   b   c   d   e   f   g   h   i   j   k   l   m   n   o   p   q   r   s   t \n",
       "\"a\" \"b\" \"c\" \"d\" \"e\" \"f\" \"g\" \"h\" \"i\" \"j\" \"k\" \"l\" \"m\" \"n\" \"o\" \"p\" \"q\" \"r\" \"s\" \"t\" \n",
       "  u   v   w   x   y   z \n",
       "\"u\" \"v\" \"w\" \"x\" \"y\" \"z\" "
      ]
     },
     "metadata": {},
     "output_type": "display_data"
    }
   ],
   "source": [
    "#You can use the values of the vector as its names by passing no additional argument\n",
    "set_names(letters)"
   ]
  },
  {
   "cell_type": "markdown",
   "metadata": {},
   "source": [
    " using a function or formula to transform the existing names"
   ]
  },
  {
   "cell_type": "code",
   "execution_count": 8,
   "metadata": {},
   "outputs": [
    {
     "data": {
      "text/html": [
       "<dl class=dl-horizontal>\n",
       "\t<dt>A</dt>\n",
       "\t\t<dd>1</dd>\n",
       "\t<dt>B</dt>\n",
       "\t\t<dd>2</dd>\n",
       "\t<dt>C</dt>\n",
       "\t\t<dd>3</dd>\n",
       "</dl>\n"
      ],
      "text/latex": [
       "\\begin{description*}\n",
       "\\item[A] 1\n",
       "\\item[B] 2\n",
       "\\item[C] 3\n",
       "\\end{description*}\n"
      ],
      "text/markdown": [
       "A\n",
       ":   1B\n",
       ":   2C\n",
       ":   3\n",
       "\n"
      ],
      "text/plain": [
       "A B C \n",
       "1 2 3 "
      ]
     },
     "metadata": {},
     "output_type": "display_data"
    }
   ],
   "source": [
    "c(a = 1, b = 2, c = 3) %>% set_names(str_to_upper)"
   ]
  },
  {
   "cell_type": "code",
   "execution_count": 9,
   "metadata": {},
   "outputs": [
    {
     "data": {
      "text/html": [
       "<dl class=dl-horizontal>\n",
       "\t<dt>A</dt>\n",
       "\t\t<dd>1</dd>\n",
       "\t<dt>B</dt>\n",
       "\t\t<dd>2</dd>\n",
       "\t<dt>C</dt>\n",
       "\t\t<dd>3</dd>\n",
       "</dl>\n"
      ],
      "text/latex": [
       "\\begin{description*}\n",
       "\\item[A] 1\n",
       "\\item[B] 2\n",
       "\\item[C] 3\n",
       "\\end{description*}\n"
      ],
      "text/markdown": [
       "A\n",
       ":   1B\n",
       ":   2C\n",
       ":   3\n",
       "\n"
      ],
      "text/plain": [
       "A B C \n",
       "1 2 3 "
      ]
     },
     "metadata": {},
     "output_type": "display_data"
    }
   ],
   "source": [
    "# using formula\n",
    "c(a = 1, b = 2, c = 3) %>% set_names(~ str_to_upper(.))"
   ]
  },
  {
   "cell_type": "markdown",
   "metadata": {},
   "source": [
    "The `set_names()` function also checks that the length of the names argument is the same length as the vector that is being named, and will raise an error if it is not."
   ]
  },
  {
   "cell_type": "code",
   "execution_count": 12,
   "metadata": {},
   "outputs": [
    {
     "name": "stdout",
     "output_type": "stream",
     "text": [
      "Error : `nm` must be `NULL` or a character vector the same length as `x`\n"
     ]
    }
   ],
   "source": [
    "try(set_names(1:4, c('a', 'b')))"
   ]
  }
 ],
 "metadata": {
  "kernelspec": {
   "display_name": "R",
   "language": "R",
   "name": "ir"
  },
  "language_info": {
   "codemirror_mode": "r",
   "file_extension": ".r",
   "mimetype": "text/x-r-source",
   "name": "R",
   "pygments_lexer": "r",
   "version": "3.6.1"
  }
 },
 "nbformat": 4,
 "nbformat_minor": 2
}
