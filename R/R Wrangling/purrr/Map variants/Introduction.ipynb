{
 "cells": [
  {
   "cell_type": "code",
   "execution_count": 2,
   "metadata": {},
   "outputs": [],
   "source": [
    "library(tidyverse)"
   ]
  },
  {
   "cell_type": "markdown",
   "metadata": {},
   "source": [
    "# Introduction"
   ]
  },
  {
   "cell_type": "markdown",
   "metadata": {},
   "source": [
    "A rich set of variants builds on the basic idea of `map()`: \n",
    "* **`modify()`** modifies “in place”, returning a vector the same type as `.x`; \n",
    "* **`map2()`** iterates over two vectors in parallel; \n",
    "* **`pmap()`** (parallel map) iterates over a list of vectors; \n",
    "* **`imap()`** (index map) is a shortcut for the common pattern map2(`x`, `names(x)`)."
   ]
  },
  {
   "cell_type": "markdown",
   "metadata": {},
   "source": [
    "# map2"
   ]
  },
  {
   "cell_type": "code",
   "execution_count": 3,
   "metadata": {},
   "outputs": [
    {
     "data": {
      "text/html": [
       "<ol class=list-inline>\n",
       "\t<li>'VNC: Meomeo888'</li>\n",
       "\t<li>'Dirilis: ETOGRUL'</li>\n",
       "\t<li>'King Allool: xXx-Hadi-xXx'</li>\n",
       "</ol>\n"
      ],
      "text/latex": [
       "\\begin{enumerate*}\n",
       "\\item 'VNC: Meomeo888'\n",
       "\\item 'Dirilis: ETOGRUL'\n",
       "\\item 'King Allool: xXx-Hadi-xXx'\n",
       "\\end{enumerate*}\n"
      ],
      "text/markdown": [
       "1. 'VNC: Meomeo888'\n",
       "2. 'Dirilis: ETOGRUL'\n",
       "3. 'King Allool: xXx-Hadi-xXx'\n",
       "\n",
       "\n"
      ],
      "text/plain": [
       "[1] \"VNC: Meomeo888\"            \"Dirilis: ETOGRUL\"         \n",
       "[3] \"King Allool: xXx-Hadi-xXx\""
      ]
     },
     "metadata": {},
     "output_type": "display_data"
    }
   ],
   "source": [
    "clan <- c('VNC', 'Dirilis', 'King Allool')\n",
    "player <- c('Meomeo888', 'ETOGRUL', 'xXx-Hadi-xXx')\n",
    "country <- c('Vietnam', 'Sweeden', 'Siberia')\n",
    "\n",
    "# mapping over 2 list\n",
    "map2_chr(clan, player, ~ str_c(.x, ': ', .y))"
   ]
  },
  {
   "cell_type": "markdown",
   "metadata": {},
   "source": [
    "# pmap"
   ]
  },
  {
   "cell_type": "markdown",
   "metadata": {},
   "source": [
    "mimic **`base::pmax`**"
   ]
  },
  {
   "cell_type": "code",
   "execution_count": 5,
   "metadata": {},
   "outputs": [
    {
     "data": {
      "text/html": [
       "<ol>\n",
       "\t<li>3</li>\n",
       "\t<li>3</li>\n",
       "\t<li>4</li>\n",
       "</ol>\n"
      ],
      "text/latex": [
       "\\begin{enumerate}\n",
       "\\item 3\n",
       "\\item 3\n",
       "\\item 4\n",
       "\\end{enumerate}\n"
      ],
      "text/markdown": [
       "1. 3\n",
       "2. 3\n",
       "3. 4\n",
       "\n",
       "\n"
      ],
      "text/plain": [
       "[[1]]\n",
       "[1] 3\n",
       "\n",
       "[[2]]\n",
       "[1] 3\n",
       "\n",
       "[[3]]\n",
       "[1] 4\n"
      ]
     },
     "metadata": {},
     "output_type": "display_data"
    }
   ],
   "source": [
    "pmap(list(1:3, 3:1, 2:4), max)"
   ]
  },
  {
   "cell_type": "markdown",
   "metadata": {},
   "source": [
    "**`pmap`** apply function to each **row** of a dataframe. This is different from **`map`** apply function to each **column** of a data frame"
   ]
  },
  {
   "cell_type": "code",
   "execution_count": 6,
   "metadata": {},
   "outputs": [
    {
     "data": {
      "text/html": [
       "<table>\n",
       "<thead><tr><th scope=col>x</th><th scope=col>pattern</th><th scope=col>replacement</th></tr></thead>\n",
       "<tbody>\n",
       "\t<tr><td>apple </td><td>p     </td><td>P     </td></tr>\n",
       "\t<tr><td>banana</td><td>n     </td><td>N     </td></tr>\n",
       "\t<tr><td>cherry</td><td>h     </td><td>H     </td></tr>\n",
       "</tbody>\n",
       "</table>\n"
      ],
      "text/latex": [
       "\\begin{tabular}{r|lll}\n",
       " x & pattern & replacement\\\\\n",
       "\\hline\n",
       "\t apple  & p      & P     \\\\\n",
       "\t banana & n      & N     \\\\\n",
       "\t cherry & h      & H     \\\\\n",
       "\\end{tabular}\n"
      ],
      "text/markdown": [
       "\n",
       "| x | pattern | replacement |\n",
       "|---|---|---|\n",
       "| apple  | p      | P      |\n",
       "| banana | n      | N      |\n",
       "| cherry | h      | H      |\n",
       "\n"
      ],
      "text/plain": [
       "  x      pattern replacement\n",
       "1 apple  p       P          \n",
       "2 banana n       N          \n",
       "3 cherry h       H          "
      ]
     },
     "metadata": {},
     "output_type": "display_data"
    }
   ],
   "source": [
    "df <- data.frame(\n",
    "  x = c(\"apple\", \"banana\", \"cherry\"),\n",
    "  pattern = c(\"p\", \"n\", \"h\"),\n",
    "  replacement = c(\"P\", \"N\", \"H\"),\n",
    "  stringsAsFactors = FALSE)\n",
    "\n",
    "df"
   ]
  },
  {
   "cell_type": "code",
   "execution_count": 8,
   "metadata": {},
   "outputs": [
    {
     "data": {
      "text/html": [
       "<ol>\n",
       "\t<li>'aPPle'</li>\n",
       "\t<li>'baNaNa'</li>\n",
       "\t<li>'cHerry'</li>\n",
       "</ol>\n"
      ],
      "text/latex": [
       "\\begin{enumerate}\n",
       "\\item 'aPPle'\n",
       "\\item 'baNaNa'\n",
       "\\item 'cHerry'\n",
       "\\end{enumerate}\n"
      ],
      "text/markdown": [
       "1. 'aPPle'\n",
       "2. 'baNaNa'\n",
       "3. 'cHerry'\n",
       "\n",
       "\n"
      ],
      "text/plain": [
       "[[1]]\n",
       "[1] \"aPPle\"\n",
       "\n",
       "[[2]]\n",
       "[1] \"baNaNa\"\n",
       "\n",
       "[[3]]\n",
       "[1] \"cHerry\"\n"
      ]
     },
     "metadata": {},
     "output_type": "display_data"
    }
   ],
   "source": [
    "df %>% pmap(gsub)"
   ]
  },
  {
   "cell_type": "code",
   "execution_count": null,
   "metadata": {},
   "outputs": [],
   "source": []
  }
 ],
 "metadata": {
  "kernelspec": {
   "display_name": "R",
   "language": "R",
   "name": "ir"
  },
  "language_info": {
   "codemirror_mode": "r",
   "file_extension": ".r",
   "mimetype": "text/x-r-source",
   "name": "R",
   "pygments_lexer": "r",
   "version": "3.6.1"
  }
 },
 "nbformat": 4,
 "nbformat_minor": 2
}
