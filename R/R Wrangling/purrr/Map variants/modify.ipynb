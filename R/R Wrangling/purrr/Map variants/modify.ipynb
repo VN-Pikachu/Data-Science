{
 "cells": [
  {
   "cell_type": "code",
   "execution_count": 2,
   "metadata": {},
   "outputs": [],
   "source": [
    "library(tidyverse)"
   ]
  },
  {
   "cell_type": "markdown",
   "metadata": {},
   "source": [
    "# Introduction"
   ]
  },
  {
   "cell_type": "markdown",
   "metadata": {},
   "source": [
    "**`modify()`**: Same type of output as input"
   ]
  },
  {
   "cell_type": "markdown",
   "metadata": {},
   "source": [
    "Imagine you wanted to double every column in a data frame. You might first try using `map()`, but `map()` always returns a list:"
   ]
  },
  {
   "cell_type": "code",
   "execution_count": 3,
   "metadata": {},
   "outputs": [
    {
     "data": {
      "text/html": [
       "<dl>\n",
       "\t<dt>$x</dt>\n",
       "\t\t<dd><ol class=list-inline>\n",
       "\t<li>2</li>\n",
       "\t<li>4</li>\n",
       "</ol>\n",
       "</dd>\n",
       "\t<dt>$y</dt>\n",
       "\t\t<dd><ol class=list-inline>\n",
       "\t<li>2</li>\n",
       "\t<li>4</li>\n",
       "</ol>\n",
       "</dd>\n",
       "</dl>\n"
      ],
      "text/latex": [
       "\\begin{description}\n",
       "\\item[\\$x] \\begin{enumerate*}\n",
       "\\item 2\n",
       "\\item 4\n",
       "\\end{enumerate*}\n",
       "\n",
       "\\item[\\$y] \\begin{enumerate*}\n",
       "\\item 2\n",
       "\\item 4\n",
       "\\end{enumerate*}\n",
       "\n",
       "\\end{description}\n"
      ],
      "text/markdown": [
       "$x\n",
       ":   1. 2\n",
       "2. 4\n",
       "\n",
       "\n",
       "\n",
       "$y\n",
       ":   1. 2\n",
       "2. 4\n",
       "\n",
       "\n",
       "\n",
       "\n",
       "\n"
      ],
      "text/plain": [
       "$x\n",
       "[1] 2 4\n",
       "\n",
       "$y\n",
       "[1] 2 4\n"
      ]
     },
     "metadata": {},
     "output_type": "display_data"
    }
   ],
   "source": [
    "df <- tibble(x = 1:2, y = 1:2)\n",
    "\n",
    "df  %>% map(~ . * 2)"
   ]
  },
  {
   "cell_type": "markdown",
   "metadata": {},
   "source": [
    "Using **`purrr::modify`**, the output type will be the same of the input type:"
   ]
  },
  {
   "cell_type": "code",
   "execution_count": 5,
   "metadata": {},
   "outputs": [
    {
     "data": {
      "text/html": [
       "<table>\n",
       "<thead><tr><th scope=col>x</th><th scope=col>y</th></tr></thead>\n",
       "<tbody>\n",
       "\t<tr><td>2</td><td>2</td></tr>\n",
       "\t<tr><td>4</td><td>4</td></tr>\n",
       "</tbody>\n",
       "</table>\n"
      ],
      "text/latex": [
       "\\begin{tabular}{r|ll}\n",
       " x & y\\\\\n",
       "\\hline\n",
       "\t 2 & 2\\\\\n",
       "\t 4 & 4\\\\\n",
       "\\end{tabular}\n"
      ],
      "text/markdown": [
       "\n",
       "| x | y |\n",
       "|---|---|\n",
       "| 2 | 2 |\n",
       "| 4 | 4 |\n",
       "\n"
      ],
      "text/plain": [
       "  x y\n",
       "1 2 2\n",
       "2 4 4"
      ]
     },
     "metadata": {},
     "output_type": "display_data"
    }
   ],
   "source": [
    "df  %>% modify(~ . * 2)"
   ]
  },
  {
   "cell_type": "markdown",
   "metadata": {},
   "source": [
    "Despite the name, `modify()`doesn’t modify in place, it returns a modified copy, so if you wanted to permanently modify `df`, you’d need to assign it:"
   ]
  },
  {
   "cell_type": "code",
   "execution_count": 7,
   "metadata": {},
   "outputs": [
    {
     "data": {
      "text/html": [
       "<table>\n",
       "<thead><tr><th scope=col>x</th><th scope=col>y</th></tr></thead>\n",
       "<tbody>\n",
       "\t<tr><td>4</td><td>4</td></tr>\n",
       "\t<tr><td>8</td><td>8</td></tr>\n",
       "</tbody>\n",
       "</table>\n"
      ],
      "text/latex": [
       "\\begin{tabular}{r|ll}\n",
       " x & y\\\\\n",
       "\\hline\n",
       "\t 4 & 4\\\\\n",
       "\t 8 & 8\\\\\n",
       "\\end{tabular}\n"
      ],
      "text/markdown": [
       "\n",
       "| x | y |\n",
       "|---|---|\n",
       "| 4 | 4 |\n",
       "| 8 | 8 |\n",
       "\n"
      ],
      "text/plain": [
       "  x y\n",
       "1 4 4\n",
       "2 8 8"
      ]
     },
     "metadata": {},
     "output_type": "display_data"
    }
   ],
   "source": [
    "df <- df  %>% modify(~ . * 2)\n",
    "df"
   ]
  },
  {
   "cell_type": "markdown",
   "metadata": {},
   "source": [
    "`modify()` is based on `map()`, and in this case, the extractor interface will be used. It extracts the first element of each column in `mtcars`. `modify()` always returns the same structure as its input: in this case it forces the first row to be recycled 32 times. "
   ]
  },
  {
   "cell_type": "code",
   "execution_count": 4,
   "metadata": {},
   "outputs": [
    {
     "data": {
      "text/html": [
       "<table>\n",
       "<thead><tr><th></th><th scope=col>mpg</th><th scope=col>cyl</th><th scope=col>disp</th><th scope=col>hp</th><th scope=col>drat</th><th scope=col>wt</th><th scope=col>qsec</th><th scope=col>vs</th><th scope=col>am</th><th scope=col>gear</th><th scope=col>carb</th></tr></thead>\n",
       "<tbody>\n",
       "\t<tr><th scope=row>Mazda RX4</th><td>21   </td><td>6    </td><td>160  </td><td>110  </td><td>3.9  </td><td>2.62 </td><td>16.46</td><td>0    </td><td>1    </td><td>4    </td><td>4    </td></tr>\n",
       "\t<tr><th scope=row>Mazda RX4 Wag</th><td>21   </td><td>6    </td><td>160  </td><td>110  </td><td>3.9  </td><td>2.62 </td><td>16.46</td><td>0    </td><td>1    </td><td>4    </td><td>4    </td></tr>\n",
       "\t<tr><th scope=row>Datsun 710</th><td>21   </td><td>6    </td><td>160  </td><td>110  </td><td>3.9  </td><td>2.62 </td><td>16.46</td><td>0    </td><td>1    </td><td>4    </td><td>4    </td></tr>\n",
       "\t<tr><th scope=row>Hornet 4 Drive</th><td>21   </td><td>6    </td><td>160  </td><td>110  </td><td>3.9  </td><td>2.62 </td><td>16.46</td><td>0    </td><td>1    </td><td>4    </td><td>4    </td></tr>\n",
       "\t<tr><th scope=row>Hornet Sportabout</th><td>21   </td><td>6    </td><td>160  </td><td>110  </td><td>3.9  </td><td>2.62 </td><td>16.46</td><td>0    </td><td>1    </td><td>4    </td><td>4    </td></tr>\n",
       "\t<tr><th scope=row>Valiant</th><td>21   </td><td>6    </td><td>160  </td><td>110  </td><td>3.9  </td><td>2.62 </td><td>16.46</td><td>0    </td><td>1    </td><td>4    </td><td>4    </td></tr>\n",
       "\t<tr><th scope=row>Duster 360</th><td>21   </td><td>6    </td><td>160  </td><td>110  </td><td>3.9  </td><td>2.62 </td><td>16.46</td><td>0    </td><td>1    </td><td>4    </td><td>4    </td></tr>\n",
       "\t<tr><th scope=row>Merc 240D</th><td>21   </td><td>6    </td><td>160  </td><td>110  </td><td>3.9  </td><td>2.62 </td><td>16.46</td><td>0    </td><td>1    </td><td>4    </td><td>4    </td></tr>\n",
       "\t<tr><th scope=row>Merc 230</th><td>21   </td><td>6    </td><td>160  </td><td>110  </td><td>3.9  </td><td>2.62 </td><td>16.46</td><td>0    </td><td>1    </td><td>4    </td><td>4    </td></tr>\n",
       "\t<tr><th scope=row>Merc 280</th><td>21   </td><td>6    </td><td>160  </td><td>110  </td><td>3.9  </td><td>2.62 </td><td>16.46</td><td>0    </td><td>1    </td><td>4    </td><td>4    </td></tr>\n",
       "\t<tr><th scope=row>Merc 280C</th><td>21   </td><td>6    </td><td>160  </td><td>110  </td><td>3.9  </td><td>2.62 </td><td>16.46</td><td>0    </td><td>1    </td><td>4    </td><td>4    </td></tr>\n",
       "\t<tr><th scope=row>Merc 450SE</th><td>21   </td><td>6    </td><td>160  </td><td>110  </td><td>3.9  </td><td>2.62 </td><td>16.46</td><td>0    </td><td>1    </td><td>4    </td><td>4    </td></tr>\n",
       "\t<tr><th scope=row>Merc 450SL</th><td>21   </td><td>6    </td><td>160  </td><td>110  </td><td>3.9  </td><td>2.62 </td><td>16.46</td><td>0    </td><td>1    </td><td>4    </td><td>4    </td></tr>\n",
       "\t<tr><th scope=row>Merc 450SLC</th><td>21   </td><td>6    </td><td>160  </td><td>110  </td><td>3.9  </td><td>2.62 </td><td>16.46</td><td>0    </td><td>1    </td><td>4    </td><td>4    </td></tr>\n",
       "\t<tr><th scope=row>Cadillac Fleetwood</th><td>21   </td><td>6    </td><td>160  </td><td>110  </td><td>3.9  </td><td>2.62 </td><td>16.46</td><td>0    </td><td>1    </td><td>4    </td><td>4    </td></tr>\n",
       "\t<tr><th scope=row>Lincoln Continental</th><td>21   </td><td>6    </td><td>160  </td><td>110  </td><td>3.9  </td><td>2.62 </td><td>16.46</td><td>0    </td><td>1    </td><td>4    </td><td>4    </td></tr>\n",
       "\t<tr><th scope=row>Chrysler Imperial</th><td>21   </td><td>6    </td><td>160  </td><td>110  </td><td>3.9  </td><td>2.62 </td><td>16.46</td><td>0    </td><td>1    </td><td>4    </td><td>4    </td></tr>\n",
       "\t<tr><th scope=row>Fiat 128</th><td>21   </td><td>6    </td><td>160  </td><td>110  </td><td>3.9  </td><td>2.62 </td><td>16.46</td><td>0    </td><td>1    </td><td>4    </td><td>4    </td></tr>\n",
       "\t<tr><th scope=row>Honda Civic</th><td>21   </td><td>6    </td><td>160  </td><td>110  </td><td>3.9  </td><td>2.62 </td><td>16.46</td><td>0    </td><td>1    </td><td>4    </td><td>4    </td></tr>\n",
       "\t<tr><th scope=row>Toyota Corolla</th><td>21   </td><td>6    </td><td>160  </td><td>110  </td><td>3.9  </td><td>2.62 </td><td>16.46</td><td>0    </td><td>1    </td><td>4    </td><td>4    </td></tr>\n",
       "\t<tr><th scope=row>Toyota Corona</th><td>21   </td><td>6    </td><td>160  </td><td>110  </td><td>3.9  </td><td>2.62 </td><td>16.46</td><td>0    </td><td>1    </td><td>4    </td><td>4    </td></tr>\n",
       "\t<tr><th scope=row>Dodge Challenger</th><td>21   </td><td>6    </td><td>160  </td><td>110  </td><td>3.9  </td><td>2.62 </td><td>16.46</td><td>0    </td><td>1    </td><td>4    </td><td>4    </td></tr>\n",
       "\t<tr><th scope=row>AMC Javelin</th><td>21   </td><td>6    </td><td>160  </td><td>110  </td><td>3.9  </td><td>2.62 </td><td>16.46</td><td>0    </td><td>1    </td><td>4    </td><td>4    </td></tr>\n",
       "\t<tr><th scope=row>Camaro Z28</th><td>21   </td><td>6    </td><td>160  </td><td>110  </td><td>3.9  </td><td>2.62 </td><td>16.46</td><td>0    </td><td>1    </td><td>4    </td><td>4    </td></tr>\n",
       "\t<tr><th scope=row>Pontiac Firebird</th><td>21   </td><td>6    </td><td>160  </td><td>110  </td><td>3.9  </td><td>2.62 </td><td>16.46</td><td>0    </td><td>1    </td><td>4    </td><td>4    </td></tr>\n",
       "\t<tr><th scope=row>Fiat X1-9</th><td>21   </td><td>6    </td><td>160  </td><td>110  </td><td>3.9  </td><td>2.62 </td><td>16.46</td><td>0    </td><td>1    </td><td>4    </td><td>4    </td></tr>\n",
       "\t<tr><th scope=row>Porsche 914-2</th><td>21   </td><td>6    </td><td>160  </td><td>110  </td><td>3.9  </td><td>2.62 </td><td>16.46</td><td>0    </td><td>1    </td><td>4    </td><td>4    </td></tr>\n",
       "\t<tr><th scope=row>Lotus Europa</th><td>21   </td><td>6    </td><td>160  </td><td>110  </td><td>3.9  </td><td>2.62 </td><td>16.46</td><td>0    </td><td>1    </td><td>4    </td><td>4    </td></tr>\n",
       "\t<tr><th scope=row>Ford Pantera L</th><td>21   </td><td>6    </td><td>160  </td><td>110  </td><td>3.9  </td><td>2.62 </td><td>16.46</td><td>0    </td><td>1    </td><td>4    </td><td>4    </td></tr>\n",
       "\t<tr><th scope=row>Ferrari Dino</th><td>21   </td><td>6    </td><td>160  </td><td>110  </td><td>3.9  </td><td>2.62 </td><td>16.46</td><td>0    </td><td>1    </td><td>4    </td><td>4    </td></tr>\n",
       "\t<tr><th scope=row>Maserati Bora</th><td>21   </td><td>6    </td><td>160  </td><td>110  </td><td>3.9  </td><td>2.62 </td><td>16.46</td><td>0    </td><td>1    </td><td>4    </td><td>4    </td></tr>\n",
       "\t<tr><th scope=row>Volvo 142E</th><td>21   </td><td>6    </td><td>160  </td><td>110  </td><td>3.9  </td><td>2.62 </td><td>16.46</td><td>0    </td><td>1    </td><td>4    </td><td>4    </td></tr>\n",
       "</tbody>\n",
       "</table>\n"
      ],
      "text/latex": [
       "\\begin{tabular}{r|lllllllllll}\n",
       "  & mpg & cyl & disp & hp & drat & wt & qsec & vs & am & gear & carb\\\\\n",
       "\\hline\n",
       "\tMazda RX4 & 21    & 6     & 160   & 110   & 3.9   & 2.62  & 16.46 & 0     & 1     & 4     & 4    \\\\\n",
       "\tMazda RX4 Wag & 21    & 6     & 160   & 110   & 3.9   & 2.62  & 16.46 & 0     & 1     & 4     & 4    \\\\\n",
       "\tDatsun 710 & 21    & 6     & 160   & 110   & 3.9   & 2.62  & 16.46 & 0     & 1     & 4     & 4    \\\\\n",
       "\tHornet 4 Drive & 21    & 6     & 160   & 110   & 3.9   & 2.62  & 16.46 & 0     & 1     & 4     & 4    \\\\\n",
       "\tHornet Sportabout & 21    & 6     & 160   & 110   & 3.9   & 2.62  & 16.46 & 0     & 1     & 4     & 4    \\\\\n",
       "\tValiant & 21    & 6     & 160   & 110   & 3.9   & 2.62  & 16.46 & 0     & 1     & 4     & 4    \\\\\n",
       "\tDuster 360 & 21    & 6     & 160   & 110   & 3.9   & 2.62  & 16.46 & 0     & 1     & 4     & 4    \\\\\n",
       "\tMerc 240D & 21    & 6     & 160   & 110   & 3.9   & 2.62  & 16.46 & 0     & 1     & 4     & 4    \\\\\n",
       "\tMerc 230 & 21    & 6     & 160   & 110   & 3.9   & 2.62  & 16.46 & 0     & 1     & 4     & 4    \\\\\n",
       "\tMerc 280 & 21    & 6     & 160   & 110   & 3.9   & 2.62  & 16.46 & 0     & 1     & 4     & 4    \\\\\n",
       "\tMerc 280C & 21    & 6     & 160   & 110   & 3.9   & 2.62  & 16.46 & 0     & 1     & 4     & 4    \\\\\n",
       "\tMerc 450SE & 21    & 6     & 160   & 110   & 3.9   & 2.62  & 16.46 & 0     & 1     & 4     & 4    \\\\\n",
       "\tMerc 450SL & 21    & 6     & 160   & 110   & 3.9   & 2.62  & 16.46 & 0     & 1     & 4     & 4    \\\\\n",
       "\tMerc 450SLC & 21    & 6     & 160   & 110   & 3.9   & 2.62  & 16.46 & 0     & 1     & 4     & 4    \\\\\n",
       "\tCadillac Fleetwood & 21    & 6     & 160   & 110   & 3.9   & 2.62  & 16.46 & 0     & 1     & 4     & 4    \\\\\n",
       "\tLincoln Continental & 21    & 6     & 160   & 110   & 3.9   & 2.62  & 16.46 & 0     & 1     & 4     & 4    \\\\\n",
       "\tChrysler Imperial & 21    & 6     & 160   & 110   & 3.9   & 2.62  & 16.46 & 0     & 1     & 4     & 4    \\\\\n",
       "\tFiat 128 & 21    & 6     & 160   & 110   & 3.9   & 2.62  & 16.46 & 0     & 1     & 4     & 4    \\\\\n",
       "\tHonda Civic & 21    & 6     & 160   & 110   & 3.9   & 2.62  & 16.46 & 0     & 1     & 4     & 4    \\\\\n",
       "\tToyota Corolla & 21    & 6     & 160   & 110   & 3.9   & 2.62  & 16.46 & 0     & 1     & 4     & 4    \\\\\n",
       "\tToyota Corona & 21    & 6     & 160   & 110   & 3.9   & 2.62  & 16.46 & 0     & 1     & 4     & 4    \\\\\n",
       "\tDodge Challenger & 21    & 6     & 160   & 110   & 3.9   & 2.62  & 16.46 & 0     & 1     & 4     & 4    \\\\\n",
       "\tAMC Javelin & 21    & 6     & 160   & 110   & 3.9   & 2.62  & 16.46 & 0     & 1     & 4     & 4    \\\\\n",
       "\tCamaro Z28 & 21    & 6     & 160   & 110   & 3.9   & 2.62  & 16.46 & 0     & 1     & 4     & 4    \\\\\n",
       "\tPontiac Firebird & 21    & 6     & 160   & 110   & 3.9   & 2.62  & 16.46 & 0     & 1     & 4     & 4    \\\\\n",
       "\tFiat X1-9 & 21    & 6     & 160   & 110   & 3.9   & 2.62  & 16.46 & 0     & 1     & 4     & 4    \\\\\n",
       "\tPorsche 914-2 & 21    & 6     & 160   & 110   & 3.9   & 2.62  & 16.46 & 0     & 1     & 4     & 4    \\\\\n",
       "\tLotus Europa & 21    & 6     & 160   & 110   & 3.9   & 2.62  & 16.46 & 0     & 1     & 4     & 4    \\\\\n",
       "\tFord Pantera L & 21    & 6     & 160   & 110   & 3.9   & 2.62  & 16.46 & 0     & 1     & 4     & 4    \\\\\n",
       "\tFerrari Dino & 21    & 6     & 160   & 110   & 3.9   & 2.62  & 16.46 & 0     & 1     & 4     & 4    \\\\\n",
       "\tMaserati Bora & 21    & 6     & 160   & 110   & 3.9   & 2.62  & 16.46 & 0     & 1     & 4     & 4    \\\\\n",
       "\tVolvo 142E & 21    & 6     & 160   & 110   & 3.9   & 2.62  & 16.46 & 0     & 1     & 4     & 4    \\\\\n",
       "\\end{tabular}\n"
      ],
      "text/markdown": [
       "\n",
       "| <!--/--> | mpg | cyl | disp | hp | drat | wt | qsec | vs | am | gear | carb |\n",
       "|---|---|---|---|---|---|---|---|---|---|---|---|\n",
       "| Mazda RX4 | 21    | 6     | 160   | 110   | 3.9   | 2.62  | 16.46 | 0     | 1     | 4     | 4     |\n",
       "| Mazda RX4 Wag | 21    | 6     | 160   | 110   | 3.9   | 2.62  | 16.46 | 0     | 1     | 4     | 4     |\n",
       "| Datsun 710 | 21    | 6     | 160   | 110   | 3.9   | 2.62  | 16.46 | 0     | 1     | 4     | 4     |\n",
       "| Hornet 4 Drive | 21    | 6     | 160   | 110   | 3.9   | 2.62  | 16.46 | 0     | 1     | 4     | 4     |\n",
       "| Hornet Sportabout | 21    | 6     | 160   | 110   | 3.9   | 2.62  | 16.46 | 0     | 1     | 4     | 4     |\n",
       "| Valiant | 21    | 6     | 160   | 110   | 3.9   | 2.62  | 16.46 | 0     | 1     | 4     | 4     |\n",
       "| Duster 360 | 21    | 6     | 160   | 110   | 3.9   | 2.62  | 16.46 | 0     | 1     | 4     | 4     |\n",
       "| Merc 240D | 21    | 6     | 160   | 110   | 3.9   | 2.62  | 16.46 | 0     | 1     | 4     | 4     |\n",
       "| Merc 230 | 21    | 6     | 160   | 110   | 3.9   | 2.62  | 16.46 | 0     | 1     | 4     | 4     |\n",
       "| Merc 280 | 21    | 6     | 160   | 110   | 3.9   | 2.62  | 16.46 | 0     | 1     | 4     | 4     |\n",
       "| Merc 280C | 21    | 6     | 160   | 110   | 3.9   | 2.62  | 16.46 | 0     | 1     | 4     | 4     |\n",
       "| Merc 450SE | 21    | 6     | 160   | 110   | 3.9   | 2.62  | 16.46 | 0     | 1     | 4     | 4     |\n",
       "| Merc 450SL | 21    | 6     | 160   | 110   | 3.9   | 2.62  | 16.46 | 0     | 1     | 4     | 4     |\n",
       "| Merc 450SLC | 21    | 6     | 160   | 110   | 3.9   | 2.62  | 16.46 | 0     | 1     | 4     | 4     |\n",
       "| Cadillac Fleetwood | 21    | 6     | 160   | 110   | 3.9   | 2.62  | 16.46 | 0     | 1     | 4     | 4     |\n",
       "| Lincoln Continental | 21    | 6     | 160   | 110   | 3.9   | 2.62  | 16.46 | 0     | 1     | 4     | 4     |\n",
       "| Chrysler Imperial | 21    | 6     | 160   | 110   | 3.9   | 2.62  | 16.46 | 0     | 1     | 4     | 4     |\n",
       "| Fiat 128 | 21    | 6     | 160   | 110   | 3.9   | 2.62  | 16.46 | 0     | 1     | 4     | 4     |\n",
       "| Honda Civic | 21    | 6     | 160   | 110   | 3.9   | 2.62  | 16.46 | 0     | 1     | 4     | 4     |\n",
       "| Toyota Corolla | 21    | 6     | 160   | 110   | 3.9   | 2.62  | 16.46 | 0     | 1     | 4     | 4     |\n",
       "| Toyota Corona | 21    | 6     | 160   | 110   | 3.9   | 2.62  | 16.46 | 0     | 1     | 4     | 4     |\n",
       "| Dodge Challenger | 21    | 6     | 160   | 110   | 3.9   | 2.62  | 16.46 | 0     | 1     | 4     | 4     |\n",
       "| AMC Javelin | 21    | 6     | 160   | 110   | 3.9   | 2.62  | 16.46 | 0     | 1     | 4     | 4     |\n",
       "| Camaro Z28 | 21    | 6     | 160   | 110   | 3.9   | 2.62  | 16.46 | 0     | 1     | 4     | 4     |\n",
       "| Pontiac Firebird | 21    | 6     | 160   | 110   | 3.9   | 2.62  | 16.46 | 0     | 1     | 4     | 4     |\n",
       "| Fiat X1-9 | 21    | 6     | 160   | 110   | 3.9   | 2.62  | 16.46 | 0     | 1     | 4     | 4     |\n",
       "| Porsche 914-2 | 21    | 6     | 160   | 110   | 3.9   | 2.62  | 16.46 | 0     | 1     | 4     | 4     |\n",
       "| Lotus Europa | 21    | 6     | 160   | 110   | 3.9   | 2.62  | 16.46 | 0     | 1     | 4     | 4     |\n",
       "| Ford Pantera L | 21    | 6     | 160   | 110   | 3.9   | 2.62  | 16.46 | 0     | 1     | 4     | 4     |\n",
       "| Ferrari Dino | 21    | 6     | 160   | 110   | 3.9   | 2.62  | 16.46 | 0     | 1     | 4     | 4     |\n",
       "| Maserati Bora | 21    | 6     | 160   | 110   | 3.9   | 2.62  | 16.46 | 0     | 1     | 4     | 4     |\n",
       "| Volvo 142E | 21    | 6     | 160   | 110   | 3.9   | 2.62  | 16.46 | 0     | 1     | 4     | 4     |\n",
       "\n"
      ],
      "text/plain": [
       "                    mpg cyl disp hp  drat wt   qsec  vs am gear carb\n",
       "Mazda RX4           21  6   160  110 3.9  2.62 16.46 0  1  4    4   \n",
       "Mazda RX4 Wag       21  6   160  110 3.9  2.62 16.46 0  1  4    4   \n",
       "Datsun 710          21  6   160  110 3.9  2.62 16.46 0  1  4    4   \n",
       "Hornet 4 Drive      21  6   160  110 3.9  2.62 16.46 0  1  4    4   \n",
       "Hornet Sportabout   21  6   160  110 3.9  2.62 16.46 0  1  4    4   \n",
       "Valiant             21  6   160  110 3.9  2.62 16.46 0  1  4    4   \n",
       "Duster 360          21  6   160  110 3.9  2.62 16.46 0  1  4    4   \n",
       "Merc 240D           21  6   160  110 3.9  2.62 16.46 0  1  4    4   \n",
       "Merc 230            21  6   160  110 3.9  2.62 16.46 0  1  4    4   \n",
       "Merc 280            21  6   160  110 3.9  2.62 16.46 0  1  4    4   \n",
       "Merc 280C           21  6   160  110 3.9  2.62 16.46 0  1  4    4   \n",
       "Merc 450SE          21  6   160  110 3.9  2.62 16.46 0  1  4    4   \n",
       "Merc 450SL          21  6   160  110 3.9  2.62 16.46 0  1  4    4   \n",
       "Merc 450SLC         21  6   160  110 3.9  2.62 16.46 0  1  4    4   \n",
       "Cadillac Fleetwood  21  6   160  110 3.9  2.62 16.46 0  1  4    4   \n",
       "Lincoln Continental 21  6   160  110 3.9  2.62 16.46 0  1  4    4   \n",
       "Chrysler Imperial   21  6   160  110 3.9  2.62 16.46 0  1  4    4   \n",
       "Fiat 128            21  6   160  110 3.9  2.62 16.46 0  1  4    4   \n",
       "Honda Civic         21  6   160  110 3.9  2.62 16.46 0  1  4    4   \n",
       "Toyota Corolla      21  6   160  110 3.9  2.62 16.46 0  1  4    4   \n",
       "Toyota Corona       21  6   160  110 3.9  2.62 16.46 0  1  4    4   \n",
       "Dodge Challenger    21  6   160  110 3.9  2.62 16.46 0  1  4    4   \n",
       "AMC Javelin         21  6   160  110 3.9  2.62 16.46 0  1  4    4   \n",
       "Camaro Z28          21  6   160  110 3.9  2.62 16.46 0  1  4    4   \n",
       "Pontiac Firebird    21  6   160  110 3.9  2.62 16.46 0  1  4    4   \n",
       "Fiat X1-9           21  6   160  110 3.9  2.62 16.46 0  1  4    4   \n",
       "Porsche 914-2       21  6   160  110 3.9  2.62 16.46 0  1  4    4   \n",
       "Lotus Europa        21  6   160  110 3.9  2.62 16.46 0  1  4    4   \n",
       "Ford Pantera L      21  6   160  110 3.9  2.62 16.46 0  1  4    4   \n",
       "Ferrari Dino        21  6   160  110 3.9  2.62 16.46 0  1  4    4   \n",
       "Maserati Bora       21  6   160  110 3.9  2.62 16.46 0  1  4    4   \n",
       "Volvo 142E          21  6   160  110 3.9  2.62 16.46 0  1  4    4   "
      ]
     },
     "metadata": {},
     "output_type": "display_data"
    }
   ],
   "source": [
    "mtcars  %>% modify(1)"
   ]
  },
  {
   "cell_type": "markdown",
   "metadata": {},
   "source": [
    "# Modify elements selectively"
   ]
  },
  {
   "cell_type": "markdown",
   "metadata": {},
   "source": [
    "Unlike `map()` and its variants which always return a fixed object type (list for `map()`, integer vector for `map_int()`, etc), the `modify()` family always returns the same type as the input object.\n",
    "\n",
    "* `modify()` is a shortcut for `x[[i]] <- f(x[[i]]); return(x)`.\n",
    "\n",
    "* `modify_if()` only modifies the elements of x that satisfy a predicate and leaves the others unchanged. \n",
    "* `modify_at()` only modifies elements given by names or positions.\n",
    "\n",
    "* `modify2()` modifies the elements of `.x` but also passes the elements of `.y` to `.f`, just like map2(). `imodify()` passes the names or the indices to `.f` like `imap()` does.\n",
    "\n",
    "* `modify_depth()` only modifies elements at a given level of a nested data structure.\n",
    "\n",
    "* `modify_in()` modifies a single element in a `pluck()` location."
   ]
  },
  {
   "cell_type": "markdown",
   "metadata": {},
   "source": [
    "```r\n",
    "modify(.x, .f, ...)\n",
    "\n",
    "# S3 method for default\n",
    "modify(.x, .f, ...)\n",
    "\n",
    "modify_if(.x, .p, .f, ..., .else = NULL)\n",
    "\n",
    "# S3 method for default\n",
    "modify_if(.x, .p, .f, ..., .else = NULL)\n",
    "\n",
    "modify_at(.x, .at, .f, ...)\n",
    "\n",
    "# S3 method for default\n",
    "modify_at(.x, .at, .f, ...)\n",
    "\n",
    "modify2(.x, .y, .f, ...)\n",
    "\n",
    "imodify(.x, .f, ...)\n",
    "\n",
    "modify_depth(.x, .depth, .f, ..., .ragged = .depth < 0)\n",
    "\n",
    "# S3 method for default\n",
    "modify_depth(.x, .depth, .f, ..., .ragged = .depth < 0)\n",
    "```"
   ]
  },
  {
   "cell_type": "markdown",
   "metadata": {},
   "source": [
    "**Arguments**"
   ]
  },
  {
   "cell_type": "markdown",
   "metadata": {},
   "source": [
    "`.p`\t\n",
    "A single predicate function, a formula describing such a predicate function, or a logical vector of the same length as .x. Alternatively, if the elements of .x are themselves lists of objects, a string indicating the name of a logical element in the inner lists. Only those elements where .p evaluates to TRUE will be modified.\n",
    "\n",
    "`.else`\t\n",
    "A function applied to elements of .x for which .p returns FALSE.\n",
    "\n",
    "`.at`\t\n",
    "A character vector of names, positive numeric vector of positions to include, or a negative numeric vector of positions to exlude. Only those elements corresponding to .at will be modified. If the **tidyselect** package is installed, you can use `vars()` and the tidyselect helpers to select elements.\n",
    "\n",
    "`.y`\t\n",
    "Vectors of the same length. A vector of length 1 will be recycled.\n",
    "\n",
    "`.depth`\t\n",
    "Level of .x to map on. Use a negative value to count up from the lowest level of the list.\n",
    "\n",
    "* `modify_depth(x, 0, fun)` is equivalent to `x[] <- fun(x).`\n",
    "\n",
    "* `modify_depth(x, 1, fun)` is equivalent to `x <- modify(x, fun)`\n",
    "\n",
    "* `modify_depth(x, 2, fun)` is equivalent to `x <- modify(x, ~ modify(., fun))`\n",
    "\n",
    "`.ragged`\t\n",
    "If TRUE, will apply to leaves, even if they're not at depth `.depth`.   \n",
    "If FALSE, will throw an error if there are no elements at depth `.depth`."
   ]
  },
  {
   "cell_type": "markdown",
   "metadata": {},
   "source": [
    "# Examples"
   ]
  },
  {
   "cell_type": "markdown",
   "metadata": {},
   "source": [
    "**`modify`**: The same as **`map`**, but modify always return the same type as the input object"
   ]
  },
  {
   "cell_type": "code",
   "execution_count": 17,
   "metadata": {},
   "outputs": [
    {
     "data": {
      "text/html": [
       "<ol class=list-inline>\n",
       "\t<li>'xXx-a-xXX'</li>\n",
       "\t<li>'xXx-b-xXX'</li>\n",
       "\t<li>'xXx-c-xXX'</li>\n",
       "\t<li>'xXx-d-xXX'</li>\n",
       "\t<li>'xXx-e-xXX'</li>\n",
       "\t<li>'xXx-f-xXX'</li>\n",
       "\t<li>'xXx-g-xXX'</li>\n",
       "\t<li>'xXx-h-xXX'</li>\n",
       "\t<li>'xXx-i-xXX'</li>\n",
       "\t<li>'xXx-j-xXX'</li>\n",
       "\t<li>'xXx-k-xXX'</li>\n",
       "\t<li>'xXx-l-xXX'</li>\n",
       "\t<li>'xXx-m-xXX'</li>\n",
       "\t<li>'xXx-n-xXX'</li>\n",
       "\t<li>'xXx-o-xXX'</li>\n",
       "\t<li>'xXx-p-xXX'</li>\n",
       "\t<li>'xXx-q-xXX'</li>\n",
       "\t<li>'xXx-r-xXX'</li>\n",
       "\t<li>'xXx-s-xXX'</li>\n",
       "\t<li>'xXx-t-xXX'</li>\n",
       "\t<li>'xXx-u-xXX'</li>\n",
       "\t<li>'xXx-v-xXX'</li>\n",
       "\t<li>'xXx-w-xXX'</li>\n",
       "\t<li>'xXx-x-xXX'</li>\n",
       "\t<li>'xXx-y-xXX'</li>\n",
       "\t<li>'xXx-z-xXX'</li>\n",
       "</ol>\n"
      ],
      "text/latex": [
       "\\begin{enumerate*}\n",
       "\\item 'xXx-a-xXX'\n",
       "\\item 'xXx-b-xXX'\n",
       "\\item 'xXx-c-xXX'\n",
       "\\item 'xXx-d-xXX'\n",
       "\\item 'xXx-e-xXX'\n",
       "\\item 'xXx-f-xXX'\n",
       "\\item 'xXx-g-xXX'\n",
       "\\item 'xXx-h-xXX'\n",
       "\\item 'xXx-i-xXX'\n",
       "\\item 'xXx-j-xXX'\n",
       "\\item 'xXx-k-xXX'\n",
       "\\item 'xXx-l-xXX'\n",
       "\\item 'xXx-m-xXX'\n",
       "\\item 'xXx-n-xXX'\n",
       "\\item 'xXx-o-xXX'\n",
       "\\item 'xXx-p-xXX'\n",
       "\\item 'xXx-q-xXX'\n",
       "\\item 'xXx-r-xXX'\n",
       "\\item 'xXx-s-xXX'\n",
       "\\item 'xXx-t-xXX'\n",
       "\\item 'xXx-u-xXX'\n",
       "\\item 'xXx-v-xXX'\n",
       "\\item 'xXx-w-xXX'\n",
       "\\item 'xXx-x-xXX'\n",
       "\\item 'xXx-y-xXX'\n",
       "\\item 'xXx-z-xXX'\n",
       "\\end{enumerate*}\n"
      ],
      "text/markdown": [
       "1. 'xXx-a-xXX'\n",
       "2. 'xXx-b-xXX'\n",
       "3. 'xXx-c-xXX'\n",
       "4. 'xXx-d-xXX'\n",
       "5. 'xXx-e-xXX'\n",
       "6. 'xXx-f-xXX'\n",
       "7. 'xXx-g-xXX'\n",
       "8. 'xXx-h-xXX'\n",
       "9. 'xXx-i-xXX'\n",
       "10. 'xXx-j-xXX'\n",
       "11. 'xXx-k-xXX'\n",
       "12. 'xXx-l-xXX'\n",
       "13. 'xXx-m-xXX'\n",
       "14. 'xXx-n-xXX'\n",
       "15. 'xXx-o-xXX'\n",
       "16. 'xXx-p-xXX'\n",
       "17. 'xXx-q-xXX'\n",
       "18. 'xXx-r-xXX'\n",
       "19. 'xXx-s-xXX'\n",
       "20. 'xXx-t-xXX'\n",
       "21. 'xXx-u-xXX'\n",
       "22. 'xXx-v-xXX'\n",
       "23. 'xXx-w-xXX'\n",
       "24. 'xXx-x-xXX'\n",
       "25. 'xXx-y-xXX'\n",
       "26. 'xXx-z-xXX'\n",
       "\n",
       "\n"
      ],
      "text/plain": [
       " [1] \"xXx-a-xXX\" \"xXx-b-xXX\" \"xXx-c-xXX\" \"xXx-d-xXX\" \"xXx-e-xXX\" \"xXx-f-xXX\"\n",
       " [7] \"xXx-g-xXX\" \"xXx-h-xXX\" \"xXx-i-xXX\" \"xXx-j-xXX\" \"xXx-k-xXX\" \"xXx-l-xXX\"\n",
       "[13] \"xXx-m-xXX\" \"xXx-n-xXX\" \"xXx-o-xXX\" \"xXx-p-xXX\" \"xXx-q-xXX\" \"xXx-r-xXX\"\n",
       "[19] \"xXx-s-xXX\" \"xXx-t-xXX\" \"xXx-u-xXX\" \"xXx-v-xXX\" \"xXx-w-xXX\" \"xXx-x-xXX\"\n",
       "[25] \"xXx-y-xXX\" \"xXx-z-xXX\""
      ]
     },
     "metadata": {},
     "output_type": "display_data"
    },
    {
     "data": {
      "text/html": [
       "<ol class=list-inline>\n",
       "\t<li>'a'</li>\n",
       "\t<li>'b'</li>\n",
       "\t<li>'c'</li>\n",
       "\t<li>'d'</li>\n",
       "\t<li>'e'</li>\n",
       "\t<li>'f'</li>\n",
       "\t<li>'g'</li>\n",
       "\t<li>'h'</li>\n",
       "\t<li>'i'</li>\n",
       "\t<li>'j'</li>\n",
       "\t<li>'k'</li>\n",
       "\t<li>'l'</li>\n",
       "\t<li>'m'</li>\n",
       "\t<li>'n'</li>\n",
       "\t<li>'o'</li>\n",
       "\t<li>'p'</li>\n",
       "\t<li>'q'</li>\n",
       "\t<li>'r'</li>\n",
       "\t<li>'s'</li>\n",
       "\t<li>'t'</li>\n",
       "\t<li>'u'</li>\n",
       "\t<li>'v'</li>\n",
       "\t<li>'w'</li>\n",
       "\t<li>'x'</li>\n",
       "\t<li>'y'</li>\n",
       "\t<li>'z'</li>\n",
       "</ol>\n"
      ],
      "text/latex": [
       "\\begin{enumerate*}\n",
       "\\item 'a'\n",
       "\\item 'b'\n",
       "\\item 'c'\n",
       "\\item 'd'\n",
       "\\item 'e'\n",
       "\\item 'f'\n",
       "\\item 'g'\n",
       "\\item 'h'\n",
       "\\item 'i'\n",
       "\\item 'j'\n",
       "\\item 'k'\n",
       "\\item 'l'\n",
       "\\item 'm'\n",
       "\\item 'n'\n",
       "\\item 'o'\n",
       "\\item 'p'\n",
       "\\item 'q'\n",
       "\\item 'r'\n",
       "\\item 's'\n",
       "\\item 't'\n",
       "\\item 'u'\n",
       "\\item 'v'\n",
       "\\item 'w'\n",
       "\\item 'x'\n",
       "\\item 'y'\n",
       "\\item 'z'\n",
       "\\end{enumerate*}\n"
      ],
      "text/markdown": [
       "1. 'a'\n",
       "2. 'b'\n",
       "3. 'c'\n",
       "4. 'd'\n",
       "5. 'e'\n",
       "6. 'f'\n",
       "7. 'g'\n",
       "8. 'h'\n",
       "9. 'i'\n",
       "10. 'j'\n",
       "11. 'k'\n",
       "12. 'l'\n",
       "13. 'm'\n",
       "14. 'n'\n",
       "15. 'o'\n",
       "16. 'p'\n",
       "17. 'q'\n",
       "18. 'r'\n",
       "19. 's'\n",
       "20. 't'\n",
       "21. 'u'\n",
       "22. 'v'\n",
       "23. 'w'\n",
       "24. 'x'\n",
       "25. 'y'\n",
       "26. 'z'\n",
       "\n",
       "\n"
      ],
      "text/plain": [
       " [1] \"a\" \"b\" \"c\" \"d\" \"e\" \"f\" \"g\" \"h\" \"i\" \"j\" \"k\" \"l\" \"m\" \"n\" \"o\" \"p\" \"q\" \"r\" \"s\"\n",
       "[20] \"t\" \"u\" \"v\" \"w\" \"x\" \"y\" \"z\""
      ]
     },
     "metadata": {},
     "output_type": "display_data"
    }
   ],
   "source": [
    "letters %>% modify(~ str_c('xXx-', ., '-xXX'))"
   ]
  },
  {
   "cell_type": "markdown",
   "metadata": {},
   "source": [
    "**`modify_if`**: apply map function to a value if it satisfies a condition"
   ]
  },
  {
   "cell_type": "code",
   "execution_count": 8,
   "metadata": {},
   "outputs": [
    {
     "data": {
      "text/html": [
       "<table>\n",
       "<thead><tr><th scope=col>manufacturer</th><th scope=col>model</th><th scope=col>displ</th><th scope=col>year</th><th scope=col>cyl</th><th scope=col>trans</th><th scope=col>drv</th><th scope=col>cty</th><th scope=col>hwy</th><th scope=col>fl</th><th scope=col>class</th></tr></thead>\n",
       "<tbody>\n",
       "\t<tr><td>audi              </td><td>a4                </td><td>1.291959          </td><td>4.509646          </td><td>1.611534          </td><td>auto(l5)          </td><td>f                 </td><td>4.255946          </td><td>5.954643          </td><td>p                 </td><td>compact           </td></tr>\n",
       "\t<tr><td>audi              </td><td>a4                </td><td>1.291959          </td><td>4.509646          </td><td>1.611534          </td><td>manual(m5)        </td><td>f                 </td><td>4.255946          </td><td>5.954643          </td><td>p                 </td><td>compact           </td></tr>\n",
       "\t<tr><td>audi              </td><td>a4                </td><td>1.291959          </td><td>4.509646          </td><td>1.611534          </td><td>manual(m6)        </td><td>f                 </td><td>4.255946          </td><td>5.954643          </td><td>p                 </td><td>compact           </td></tr>\n",
       "\t<tr><td>audi              </td><td>a4                </td><td>1.291959          </td><td>4.509646          </td><td>1.611534          </td><td>auto(av)          </td><td>f                 </td><td>4.255946          </td><td>5.954643          </td><td>p                 </td><td>compact           </td></tr>\n",
       "\t<tr><td>audi              </td><td>a4                </td><td>1.291959          </td><td>4.509646          </td><td>1.611534          </td><td>auto(l5)          </td><td>f                 </td><td>4.255946          </td><td>5.954643          </td><td>p                 </td><td>compact           </td></tr>\n",
       "\t<tr><td>audi              </td><td>a4                </td><td>1.291959          </td><td>4.509646          </td><td>1.611534          </td><td>manual(m5)        </td><td>f                 </td><td>4.255946          </td><td>5.954643          </td><td>p                 </td><td>compact           </td></tr>\n",
       "\t<tr><td>audi              </td><td>a4                </td><td>1.291959          </td><td>4.509646          </td><td>1.611534          </td><td>auto(av)          </td><td>f                 </td><td>4.255946          </td><td>5.954643          </td><td>p                 </td><td>compact           </td></tr>\n",
       "\t<tr><td>audi              </td><td>a4 quattro        </td><td>1.291959          </td><td>4.509646          </td><td>1.611534          </td><td>manual(m5)        </td><td>4                 </td><td>4.255946          </td><td>5.954643          </td><td>p                 </td><td>compact           </td></tr>\n",
       "\t<tr><td>audi              </td><td>a4 quattro        </td><td>1.291959          </td><td>4.509646          </td><td>1.611534          </td><td>auto(l5)          </td><td>4                 </td><td>4.255946          </td><td>5.954643          </td><td>p                 </td><td>compact           </td></tr>\n",
       "\t<tr><td>audi              </td><td>a4 quattro        </td><td>1.291959          </td><td>4.509646          </td><td>1.611534          </td><td>manual(m6)        </td><td>4                 </td><td>4.255946          </td><td>5.954643          </td><td>p                 </td><td>compact           </td></tr>\n",
       "\t<tr><td>audi              </td><td>a4 quattro        </td><td>1.291959          </td><td>4.509646          </td><td>1.611534          </td><td>auto(s6)          </td><td>4                 </td><td>4.255946          </td><td>5.954643          </td><td>p                 </td><td>compact           </td></tr>\n",
       "\t<tr><td>audi              </td><td>a4 quattro        </td><td>1.291959          </td><td>4.509646          </td><td>1.611534          </td><td>auto(l5)          </td><td>4                 </td><td>4.255946          </td><td>5.954643          </td><td>p                 </td><td>compact           </td></tr>\n",
       "\t<tr><td>audi              </td><td>a4 quattro        </td><td>1.291959          </td><td>4.509646          </td><td>1.611534          </td><td>manual(m5)        </td><td>4                 </td><td>4.255946          </td><td>5.954643          </td><td>p                 </td><td>compact           </td></tr>\n",
       "\t<tr><td>audi              </td><td>a4 quattro        </td><td>1.291959          </td><td>4.509646          </td><td>1.611534          </td><td>auto(s6)          </td><td>4                 </td><td>4.255946          </td><td>5.954643          </td><td>p                 </td><td>compact           </td></tr>\n",
       "\t<tr><td>audi              </td><td>a4 quattro        </td><td>1.291959          </td><td>4.509646          </td><td>1.611534          </td><td>manual(m6)        </td><td>4                 </td><td>4.255946          </td><td>5.954643          </td><td>p                 </td><td>compact           </td></tr>\n",
       "\t<tr><td>audi              </td><td>a6 quattro        </td><td>1.291959          </td><td>4.509646          </td><td>1.611534          </td><td>auto(l5)          </td><td>4                 </td><td>4.255946          </td><td>5.954643          </td><td>p                 </td><td>midsize           </td></tr>\n",
       "\t<tr><td>audi              </td><td>a6 quattro        </td><td>1.291959          </td><td>4.509646          </td><td>1.611534          </td><td>auto(s6)          </td><td>4                 </td><td>4.255946          </td><td>5.954643          </td><td>p                 </td><td>midsize           </td></tr>\n",
       "\t<tr><td>audi              </td><td>a6 quattro        </td><td>1.291959          </td><td>4.509646          </td><td>1.611534          </td><td>auto(s6)          </td><td>4                 </td><td>4.255946          </td><td>5.954643          </td><td>p                 </td><td>midsize           </td></tr>\n",
       "\t<tr><td>chevrolet         </td><td>c1500 suburban 2wd</td><td>1.291959          </td><td>4.509646          </td><td>1.611534          </td><td>auto(l4)          </td><td>r                 </td><td>4.255946          </td><td>5.954643          </td><td>r                 </td><td>suv               </td></tr>\n",
       "\t<tr><td>chevrolet         </td><td>c1500 suburban 2wd</td><td>1.291959          </td><td>4.509646          </td><td>1.611534          </td><td>auto(l4)          </td><td>r                 </td><td>4.255946          </td><td>5.954643          </td><td>e                 </td><td>suv               </td></tr>\n",
       "\t<tr><td>chevrolet         </td><td>c1500 suburban 2wd</td><td>1.291959          </td><td>4.509646          </td><td>1.611534          </td><td>auto(l4)          </td><td>r                 </td><td>4.255946          </td><td>5.954643          </td><td>r                 </td><td>suv               </td></tr>\n",
       "\t<tr><td>chevrolet         </td><td>c1500 suburban 2wd</td><td>1.291959          </td><td>4.509646          </td><td>1.611534          </td><td>auto(l4)          </td><td>r                 </td><td>4.255946          </td><td>5.954643          </td><td>r                 </td><td>suv               </td></tr>\n",
       "\t<tr><td>chevrolet         </td><td>c1500 suburban 2wd</td><td>1.291959          </td><td>4.509646          </td><td>1.611534          </td><td>auto(l4)          </td><td>r                 </td><td>4.255946          </td><td>5.954643          </td><td>r                 </td><td>suv               </td></tr>\n",
       "\t<tr><td>chevrolet         </td><td>corvette          </td><td>1.291959          </td><td>4.509646          </td><td>1.611534          </td><td>manual(m6)        </td><td>r                 </td><td>4.255946          </td><td>5.954643          </td><td>p                 </td><td>2seater           </td></tr>\n",
       "\t<tr><td>chevrolet         </td><td>corvette          </td><td>1.291959          </td><td>4.509646          </td><td>1.611534          </td><td>auto(l4)          </td><td>r                 </td><td>4.255946          </td><td>5.954643          </td><td>p                 </td><td>2seater           </td></tr>\n",
       "\t<tr><td>chevrolet         </td><td>corvette          </td><td>1.291959          </td><td>4.509646          </td><td>1.611534          </td><td>manual(m6)        </td><td>r                 </td><td>4.255946          </td><td>5.954643          </td><td>p                 </td><td>2seater           </td></tr>\n",
       "\t<tr><td>chevrolet         </td><td>corvette          </td><td>1.291959          </td><td>4.509646          </td><td>1.611534          </td><td>auto(s6)          </td><td>r                 </td><td>4.255946          </td><td>5.954643          </td><td>p                 </td><td>2seater           </td></tr>\n",
       "\t<tr><td>chevrolet         </td><td>corvette          </td><td>1.291959          </td><td>4.509646          </td><td>1.611534          </td><td>manual(m6)        </td><td>r                 </td><td>4.255946          </td><td>5.954643          </td><td>p                 </td><td>2seater           </td></tr>\n",
       "\t<tr><td>chevrolet         </td><td>k1500 tahoe 4wd   </td><td>1.291959          </td><td>4.509646          </td><td>1.611534          </td><td>auto(l4)          </td><td>4                 </td><td>4.255946          </td><td>5.954643          </td><td>r                 </td><td>suv               </td></tr>\n",
       "\t<tr><td>chevrolet         </td><td>k1500 tahoe 4wd   </td><td>1.291959          </td><td>4.509646          </td><td>1.611534          </td><td>auto(l4)          </td><td>4                 </td><td>4.255946          </td><td>5.954643          </td><td>e                 </td><td>suv               </td></tr>\n",
       "\t<tr><td>...</td><td>...</td><td>...</td><td>...</td><td>...</td><td>...</td><td>...</td><td>...</td><td>...</td><td>...</td><td>...</td></tr>\n",
       "\t<tr><td>toyota           </td><td>toyota tacoma 4wd</td><td>1.291959         </td><td>4.509646         </td><td>1.611534         </td><td>auto(l4)         </td><td>4                </td><td>4.255946         </td><td>5.954643         </td><td>r                </td><td>pickup           </td></tr>\n",
       "\t<tr><td>toyota           </td><td>toyota tacoma 4wd</td><td>1.291959         </td><td>4.509646         </td><td>1.611534         </td><td>manual(m6)       </td><td>4                </td><td>4.255946         </td><td>5.954643         </td><td>r                </td><td>pickup           </td></tr>\n",
       "\t<tr><td>toyota           </td><td>toyota tacoma 4wd</td><td>1.291959         </td><td>4.509646         </td><td>1.611534         </td><td>auto(l5)         </td><td>4                </td><td>4.255946         </td><td>5.954643         </td><td>r                </td><td>pickup           </td></tr>\n",
       "\t<tr><td>volkswagen       </td><td>gti              </td><td>1.291959         </td><td>4.509646         </td><td>1.611534         </td><td>manual(m5)       </td><td>f                </td><td>4.255946         </td><td>5.954643         </td><td>r                </td><td>compact          </td></tr>\n",
       "\t<tr><td>volkswagen       </td><td>gti              </td><td>1.291959         </td><td>4.509646         </td><td>1.611534         </td><td>auto(l4)         </td><td>f                </td><td>4.255946         </td><td>5.954643         </td><td>r                </td><td>compact          </td></tr>\n",
       "\t<tr><td>volkswagen       </td><td>gti              </td><td>1.291959         </td><td>4.509646         </td><td>1.611534         </td><td>manual(m6)       </td><td>f                </td><td>4.255946         </td><td>5.954643         </td><td>p                </td><td>compact          </td></tr>\n",
       "\t<tr><td>volkswagen       </td><td>gti              </td><td>1.291959         </td><td>4.509646         </td><td>1.611534         </td><td>auto(s6)         </td><td>f                </td><td>4.255946         </td><td>5.954643         </td><td>p                </td><td>compact          </td></tr>\n",
       "\t<tr><td>volkswagen       </td><td>gti              </td><td>1.291959         </td><td>4.509646         </td><td>1.611534         </td><td>manual(m5)       </td><td>f                </td><td>4.255946         </td><td>5.954643         </td><td>r                </td><td>compact          </td></tr>\n",
       "\t<tr><td>volkswagen       </td><td>jetta            </td><td>1.291959         </td><td>4.509646         </td><td>1.611534         </td><td>manual(m5)       </td><td>f                </td><td>4.255946         </td><td>5.954643         </td><td>d                </td><td>compact          </td></tr>\n",
       "\t<tr><td>volkswagen       </td><td>jetta            </td><td>1.291959         </td><td>4.509646         </td><td>1.611534         </td><td>manual(m5)       </td><td>f                </td><td>4.255946         </td><td>5.954643         </td><td>r                </td><td>compact          </td></tr>\n",
       "\t<tr><td>volkswagen       </td><td>jetta            </td><td>1.291959         </td><td>4.509646         </td><td>1.611534         </td><td>auto(l4)         </td><td>f                </td><td>4.255946         </td><td>5.954643         </td><td>r                </td><td>compact          </td></tr>\n",
       "\t<tr><td>volkswagen       </td><td>jetta            </td><td>1.291959         </td><td>4.509646         </td><td>1.611534         </td><td>auto(s6)         </td><td>f                </td><td>4.255946         </td><td>5.954643         </td><td>p                </td><td>compact          </td></tr>\n",
       "\t<tr><td>volkswagen       </td><td>jetta            </td><td>1.291959         </td><td>4.509646         </td><td>1.611534         </td><td>manual(m6)       </td><td>f                </td><td>4.255946         </td><td>5.954643         </td><td>p                </td><td>compact          </td></tr>\n",
       "\t<tr><td>volkswagen       </td><td>jetta            </td><td>1.291959         </td><td>4.509646         </td><td>1.611534         </td><td>auto(s6)         </td><td>f                </td><td>4.255946         </td><td>5.954643         </td><td>r                </td><td>compact          </td></tr>\n",
       "\t<tr><td>volkswagen       </td><td>jetta            </td><td>1.291959         </td><td>4.509646         </td><td>1.611534         </td><td>manual(m5)       </td><td>f                </td><td>4.255946         </td><td>5.954643         </td><td>r                </td><td>compact          </td></tr>\n",
       "\t<tr><td>volkswagen       </td><td>jetta            </td><td>1.291959         </td><td>4.509646         </td><td>1.611534         </td><td>auto(l4)         </td><td>f                </td><td>4.255946         </td><td>5.954643         </td><td>r                </td><td>compact          </td></tr>\n",
       "\t<tr><td>volkswagen       </td><td>jetta            </td><td>1.291959         </td><td>4.509646         </td><td>1.611534         </td><td>manual(m5)       </td><td>f                </td><td>4.255946         </td><td>5.954643         </td><td>r                </td><td>compact          </td></tr>\n",
       "\t<tr><td>volkswagen       </td><td>new beetle       </td><td>1.291959         </td><td>4.509646         </td><td>1.611534         </td><td>manual(m5)       </td><td>f                </td><td>4.255946         </td><td>5.954643         </td><td>d                </td><td>subcompact       </td></tr>\n",
       "\t<tr><td>volkswagen       </td><td>new beetle       </td><td>1.291959         </td><td>4.509646         </td><td>1.611534         </td><td>auto(l4)         </td><td>f                </td><td>4.255946         </td><td>5.954643         </td><td>d                </td><td>subcompact       </td></tr>\n",
       "\t<tr><td>volkswagen       </td><td>new beetle       </td><td>1.291959         </td><td>4.509646         </td><td>1.611534         </td><td>manual(m5)       </td><td>f                </td><td>4.255946         </td><td>5.954643         </td><td>r                </td><td>subcompact       </td></tr>\n",
       "\t<tr><td>volkswagen       </td><td>new beetle       </td><td>1.291959         </td><td>4.509646         </td><td>1.611534         </td><td>auto(l4)         </td><td>f                </td><td>4.255946         </td><td>5.954643         </td><td>r                </td><td>subcompact       </td></tr>\n",
       "\t<tr><td>volkswagen       </td><td>new beetle       </td><td>1.291959         </td><td>4.509646         </td><td>1.611534         </td><td>manual(m5)       </td><td>f                </td><td>4.255946         </td><td>5.954643         </td><td>r                </td><td>subcompact       </td></tr>\n",
       "\t<tr><td>volkswagen       </td><td>new beetle       </td><td>1.291959         </td><td>4.509646         </td><td>1.611534         </td><td>auto(s6)         </td><td>f                </td><td>4.255946         </td><td>5.954643         </td><td>r                </td><td>subcompact       </td></tr>\n",
       "\t<tr><td>volkswagen       </td><td>passat           </td><td>1.291959         </td><td>4.509646         </td><td>1.611534         </td><td>manual(m5)       </td><td>f                </td><td>4.255946         </td><td>5.954643         </td><td>p                </td><td>midsize          </td></tr>\n",
       "\t<tr><td>volkswagen       </td><td>passat           </td><td>1.291959         </td><td>4.509646         </td><td>1.611534         </td><td>auto(l5)         </td><td>f                </td><td>4.255946         </td><td>5.954643         </td><td>p                </td><td>midsize          </td></tr>\n",
       "\t<tr><td>volkswagen       </td><td>passat           </td><td>1.291959         </td><td>4.509646         </td><td>1.611534         </td><td>auto(s6)         </td><td>f                </td><td>4.255946         </td><td>5.954643         </td><td>p                </td><td>midsize          </td></tr>\n",
       "\t<tr><td>volkswagen       </td><td>passat           </td><td>1.291959         </td><td>4.509646         </td><td>1.611534         </td><td>manual(m6)       </td><td>f                </td><td>4.255946         </td><td>5.954643         </td><td>p                </td><td>midsize          </td></tr>\n",
       "\t<tr><td>volkswagen       </td><td>passat           </td><td>1.291959         </td><td>4.509646         </td><td>1.611534         </td><td>auto(l5)         </td><td>f                </td><td>4.255946         </td><td>5.954643         </td><td>p                </td><td>midsize          </td></tr>\n",
       "\t<tr><td>volkswagen       </td><td>passat           </td><td>1.291959         </td><td>4.509646         </td><td>1.611534         </td><td>manual(m5)       </td><td>f                </td><td>4.255946         </td><td>5.954643         </td><td>p                </td><td>midsize          </td></tr>\n",
       "\t<tr><td>volkswagen       </td><td>passat           </td><td>1.291959         </td><td>4.509646         </td><td>1.611534         </td><td>auto(s6)         </td><td>f                </td><td>4.255946         </td><td>5.954643         </td><td>p                </td><td>midsize          </td></tr>\n",
       "</tbody>\n",
       "</table>\n"
      ],
      "text/latex": [
       "\\begin{tabular}{r|lllllllllll}\n",
       " manufacturer & model & displ & year & cyl & trans & drv & cty & hwy & fl & class\\\\\n",
       "\\hline\n",
       "\t audi               & a4                 & 1.291959           & 4.509646           & 1.611534           & auto(l5)           & f                  & 4.255946           & 5.954643           & p                  & compact           \\\\\n",
       "\t audi               & a4                 & 1.291959           & 4.509646           & 1.611534           & manual(m5)         & f                  & 4.255946           & 5.954643           & p                  & compact           \\\\\n",
       "\t audi               & a4                 & 1.291959           & 4.509646           & 1.611534           & manual(m6)         & f                  & 4.255946           & 5.954643           & p                  & compact           \\\\\n",
       "\t audi               & a4                 & 1.291959           & 4.509646           & 1.611534           & auto(av)           & f                  & 4.255946           & 5.954643           & p                  & compact           \\\\\n",
       "\t audi               & a4                 & 1.291959           & 4.509646           & 1.611534           & auto(l5)           & f                  & 4.255946           & 5.954643           & p                  & compact           \\\\\n",
       "\t audi               & a4                 & 1.291959           & 4.509646           & 1.611534           & manual(m5)         & f                  & 4.255946           & 5.954643           & p                  & compact           \\\\\n",
       "\t audi               & a4                 & 1.291959           & 4.509646           & 1.611534           & auto(av)           & f                  & 4.255946           & 5.954643           & p                  & compact           \\\\\n",
       "\t audi               & a4 quattro         & 1.291959           & 4.509646           & 1.611534           & manual(m5)         & 4                  & 4.255946           & 5.954643           & p                  & compact           \\\\\n",
       "\t audi               & a4 quattro         & 1.291959           & 4.509646           & 1.611534           & auto(l5)           & 4                  & 4.255946           & 5.954643           & p                  & compact           \\\\\n",
       "\t audi               & a4 quattro         & 1.291959           & 4.509646           & 1.611534           & manual(m6)         & 4                  & 4.255946           & 5.954643           & p                  & compact           \\\\\n",
       "\t audi               & a4 quattro         & 1.291959           & 4.509646           & 1.611534           & auto(s6)           & 4                  & 4.255946           & 5.954643           & p                  & compact           \\\\\n",
       "\t audi               & a4 quattro         & 1.291959           & 4.509646           & 1.611534           & auto(l5)           & 4                  & 4.255946           & 5.954643           & p                  & compact           \\\\\n",
       "\t audi               & a4 quattro         & 1.291959           & 4.509646           & 1.611534           & manual(m5)         & 4                  & 4.255946           & 5.954643           & p                  & compact           \\\\\n",
       "\t audi               & a4 quattro         & 1.291959           & 4.509646           & 1.611534           & auto(s6)           & 4                  & 4.255946           & 5.954643           & p                  & compact           \\\\\n",
       "\t audi               & a4 quattro         & 1.291959           & 4.509646           & 1.611534           & manual(m6)         & 4                  & 4.255946           & 5.954643           & p                  & compact           \\\\\n",
       "\t audi               & a6 quattro         & 1.291959           & 4.509646           & 1.611534           & auto(l5)           & 4                  & 4.255946           & 5.954643           & p                  & midsize           \\\\\n",
       "\t audi               & a6 quattro         & 1.291959           & 4.509646           & 1.611534           & auto(s6)           & 4                  & 4.255946           & 5.954643           & p                  & midsize           \\\\\n",
       "\t audi               & a6 quattro         & 1.291959           & 4.509646           & 1.611534           & auto(s6)           & 4                  & 4.255946           & 5.954643           & p                  & midsize           \\\\\n",
       "\t chevrolet          & c1500 suburban 2wd & 1.291959           & 4.509646           & 1.611534           & auto(l4)           & r                  & 4.255946           & 5.954643           & r                  & suv               \\\\\n",
       "\t chevrolet          & c1500 suburban 2wd & 1.291959           & 4.509646           & 1.611534           & auto(l4)           & r                  & 4.255946           & 5.954643           & e                  & suv               \\\\\n",
       "\t chevrolet          & c1500 suburban 2wd & 1.291959           & 4.509646           & 1.611534           & auto(l4)           & r                  & 4.255946           & 5.954643           & r                  & suv               \\\\\n",
       "\t chevrolet          & c1500 suburban 2wd & 1.291959           & 4.509646           & 1.611534           & auto(l4)           & r                  & 4.255946           & 5.954643           & r                  & suv               \\\\\n",
       "\t chevrolet          & c1500 suburban 2wd & 1.291959           & 4.509646           & 1.611534           & auto(l4)           & r                  & 4.255946           & 5.954643           & r                  & suv               \\\\\n",
       "\t chevrolet          & corvette           & 1.291959           & 4.509646           & 1.611534           & manual(m6)         & r                  & 4.255946           & 5.954643           & p                  & 2seater           \\\\\n",
       "\t chevrolet          & corvette           & 1.291959           & 4.509646           & 1.611534           & auto(l4)           & r                  & 4.255946           & 5.954643           & p                  & 2seater           \\\\\n",
       "\t chevrolet          & corvette           & 1.291959           & 4.509646           & 1.611534           & manual(m6)         & r                  & 4.255946           & 5.954643           & p                  & 2seater           \\\\\n",
       "\t chevrolet          & corvette           & 1.291959           & 4.509646           & 1.611534           & auto(s6)           & r                  & 4.255946           & 5.954643           & p                  & 2seater           \\\\\n",
       "\t chevrolet          & corvette           & 1.291959           & 4.509646           & 1.611534           & manual(m6)         & r                  & 4.255946           & 5.954643           & p                  & 2seater           \\\\\n",
       "\t chevrolet          & k1500 tahoe 4wd    & 1.291959           & 4.509646           & 1.611534           & auto(l4)           & 4                  & 4.255946           & 5.954643           & r                  & suv               \\\\\n",
       "\t chevrolet          & k1500 tahoe 4wd    & 1.291959           & 4.509646           & 1.611534           & auto(l4)           & 4                  & 4.255946           & 5.954643           & e                  & suv               \\\\\n",
       "\t ... & ... & ... & ... & ... & ... & ... & ... & ... & ... & ...\\\\\n",
       "\t toyota            & toyota tacoma 4wd & 1.291959          & 4.509646          & 1.611534          & auto(l4)          & 4                 & 4.255946          & 5.954643          & r                 & pickup           \\\\\n",
       "\t toyota            & toyota tacoma 4wd & 1.291959          & 4.509646          & 1.611534          & manual(m6)        & 4                 & 4.255946          & 5.954643          & r                 & pickup           \\\\\n",
       "\t toyota            & toyota tacoma 4wd & 1.291959          & 4.509646          & 1.611534          & auto(l5)          & 4                 & 4.255946          & 5.954643          & r                 & pickup           \\\\\n",
       "\t volkswagen        & gti               & 1.291959          & 4.509646          & 1.611534          & manual(m5)        & f                 & 4.255946          & 5.954643          & r                 & compact          \\\\\n",
       "\t volkswagen        & gti               & 1.291959          & 4.509646          & 1.611534          & auto(l4)          & f                 & 4.255946          & 5.954643          & r                 & compact          \\\\\n",
       "\t volkswagen        & gti               & 1.291959          & 4.509646          & 1.611534          & manual(m6)        & f                 & 4.255946          & 5.954643          & p                 & compact          \\\\\n",
       "\t volkswagen        & gti               & 1.291959          & 4.509646          & 1.611534          & auto(s6)          & f                 & 4.255946          & 5.954643          & p                 & compact          \\\\\n",
       "\t volkswagen        & gti               & 1.291959          & 4.509646          & 1.611534          & manual(m5)        & f                 & 4.255946          & 5.954643          & r                 & compact          \\\\\n",
       "\t volkswagen        & jetta             & 1.291959          & 4.509646          & 1.611534          & manual(m5)        & f                 & 4.255946          & 5.954643          & d                 & compact          \\\\\n",
       "\t volkswagen        & jetta             & 1.291959          & 4.509646          & 1.611534          & manual(m5)        & f                 & 4.255946          & 5.954643          & r                 & compact          \\\\\n",
       "\t volkswagen        & jetta             & 1.291959          & 4.509646          & 1.611534          & auto(l4)          & f                 & 4.255946          & 5.954643          & r                 & compact          \\\\\n",
       "\t volkswagen        & jetta             & 1.291959          & 4.509646          & 1.611534          & auto(s6)          & f                 & 4.255946          & 5.954643          & p                 & compact          \\\\\n",
       "\t volkswagen        & jetta             & 1.291959          & 4.509646          & 1.611534          & manual(m6)        & f                 & 4.255946          & 5.954643          & p                 & compact          \\\\\n",
       "\t volkswagen        & jetta             & 1.291959          & 4.509646          & 1.611534          & auto(s6)          & f                 & 4.255946          & 5.954643          & r                 & compact          \\\\\n",
       "\t volkswagen        & jetta             & 1.291959          & 4.509646          & 1.611534          & manual(m5)        & f                 & 4.255946          & 5.954643          & r                 & compact          \\\\\n",
       "\t volkswagen        & jetta             & 1.291959          & 4.509646          & 1.611534          & auto(l4)          & f                 & 4.255946          & 5.954643          & r                 & compact          \\\\\n",
       "\t volkswagen        & jetta             & 1.291959          & 4.509646          & 1.611534          & manual(m5)        & f                 & 4.255946          & 5.954643          & r                 & compact          \\\\\n",
       "\t volkswagen        & new beetle        & 1.291959          & 4.509646          & 1.611534          & manual(m5)        & f                 & 4.255946          & 5.954643          & d                 & subcompact       \\\\\n",
       "\t volkswagen        & new beetle        & 1.291959          & 4.509646          & 1.611534          & auto(l4)          & f                 & 4.255946          & 5.954643          & d                 & subcompact       \\\\\n",
       "\t volkswagen        & new beetle        & 1.291959          & 4.509646          & 1.611534          & manual(m5)        & f                 & 4.255946          & 5.954643          & r                 & subcompact       \\\\\n",
       "\t volkswagen        & new beetle        & 1.291959          & 4.509646          & 1.611534          & auto(l4)          & f                 & 4.255946          & 5.954643          & r                 & subcompact       \\\\\n",
       "\t volkswagen        & new beetle        & 1.291959          & 4.509646          & 1.611534          & manual(m5)        & f                 & 4.255946          & 5.954643          & r                 & subcompact       \\\\\n",
       "\t volkswagen        & new beetle        & 1.291959          & 4.509646          & 1.611534          & auto(s6)          & f                 & 4.255946          & 5.954643          & r                 & subcompact       \\\\\n",
       "\t volkswagen        & passat            & 1.291959          & 4.509646          & 1.611534          & manual(m5)        & f                 & 4.255946          & 5.954643          & p                 & midsize          \\\\\n",
       "\t volkswagen        & passat            & 1.291959          & 4.509646          & 1.611534          & auto(l5)          & f                 & 4.255946          & 5.954643          & p                 & midsize          \\\\\n",
       "\t volkswagen        & passat            & 1.291959          & 4.509646          & 1.611534          & auto(s6)          & f                 & 4.255946          & 5.954643          & p                 & midsize          \\\\\n",
       "\t volkswagen        & passat            & 1.291959          & 4.509646          & 1.611534          & manual(m6)        & f                 & 4.255946          & 5.954643          & p                 & midsize          \\\\\n",
       "\t volkswagen        & passat            & 1.291959          & 4.509646          & 1.611534          & auto(l5)          & f                 & 4.255946          & 5.954643          & p                 & midsize          \\\\\n",
       "\t volkswagen        & passat            & 1.291959          & 4.509646          & 1.611534          & manual(m5)        & f                 & 4.255946          & 5.954643          & p                 & midsize          \\\\\n",
       "\t volkswagen        & passat            & 1.291959          & 4.509646          & 1.611534          & auto(s6)          & f                 & 4.255946          & 5.954643          & p                 & midsize          \\\\\n",
       "\\end{tabular}\n"
      ],
      "text/markdown": [
       "\n",
       "| manufacturer | model | displ | year | cyl | trans | drv | cty | hwy | fl | class |\n",
       "|---|---|---|---|---|---|---|---|---|---|---|\n",
       "| audi               | a4                 | 1.291959           | 4.509646           | 1.611534           | auto(l5)           | f                  | 4.255946           | 5.954643           | p                  | compact            |\n",
       "| audi               | a4                 | 1.291959           | 4.509646           | 1.611534           | manual(m5)         | f                  | 4.255946           | 5.954643           | p                  | compact            |\n",
       "| audi               | a4                 | 1.291959           | 4.509646           | 1.611534           | manual(m6)         | f                  | 4.255946           | 5.954643           | p                  | compact            |\n",
       "| audi               | a4                 | 1.291959           | 4.509646           | 1.611534           | auto(av)           | f                  | 4.255946           | 5.954643           | p                  | compact            |\n",
       "| audi               | a4                 | 1.291959           | 4.509646           | 1.611534           | auto(l5)           | f                  | 4.255946           | 5.954643           | p                  | compact            |\n",
       "| audi               | a4                 | 1.291959           | 4.509646           | 1.611534           | manual(m5)         | f                  | 4.255946           | 5.954643           | p                  | compact            |\n",
       "| audi               | a4                 | 1.291959           | 4.509646           | 1.611534           | auto(av)           | f                  | 4.255946           | 5.954643           | p                  | compact            |\n",
       "| audi               | a4 quattro         | 1.291959           | 4.509646           | 1.611534           | manual(m5)         | 4                  | 4.255946           | 5.954643           | p                  | compact            |\n",
       "| audi               | a4 quattro         | 1.291959           | 4.509646           | 1.611534           | auto(l5)           | 4                  | 4.255946           | 5.954643           | p                  | compact            |\n",
       "| audi               | a4 quattro         | 1.291959           | 4.509646           | 1.611534           | manual(m6)         | 4                  | 4.255946           | 5.954643           | p                  | compact            |\n",
       "| audi               | a4 quattro         | 1.291959           | 4.509646           | 1.611534           | auto(s6)           | 4                  | 4.255946           | 5.954643           | p                  | compact            |\n",
       "| audi               | a4 quattro         | 1.291959           | 4.509646           | 1.611534           | auto(l5)           | 4                  | 4.255946           | 5.954643           | p                  | compact            |\n",
       "| audi               | a4 quattro         | 1.291959           | 4.509646           | 1.611534           | manual(m5)         | 4                  | 4.255946           | 5.954643           | p                  | compact            |\n",
       "| audi               | a4 quattro         | 1.291959           | 4.509646           | 1.611534           | auto(s6)           | 4                  | 4.255946           | 5.954643           | p                  | compact            |\n",
       "| audi               | a4 quattro         | 1.291959           | 4.509646           | 1.611534           | manual(m6)         | 4                  | 4.255946           | 5.954643           | p                  | compact            |\n",
       "| audi               | a6 quattro         | 1.291959           | 4.509646           | 1.611534           | auto(l5)           | 4                  | 4.255946           | 5.954643           | p                  | midsize            |\n",
       "| audi               | a6 quattro         | 1.291959           | 4.509646           | 1.611534           | auto(s6)           | 4                  | 4.255946           | 5.954643           | p                  | midsize            |\n",
       "| audi               | a6 quattro         | 1.291959           | 4.509646           | 1.611534           | auto(s6)           | 4                  | 4.255946           | 5.954643           | p                  | midsize            |\n",
       "| chevrolet          | c1500 suburban 2wd | 1.291959           | 4.509646           | 1.611534           | auto(l4)           | r                  | 4.255946           | 5.954643           | r                  | suv                |\n",
       "| chevrolet          | c1500 suburban 2wd | 1.291959           | 4.509646           | 1.611534           | auto(l4)           | r                  | 4.255946           | 5.954643           | e                  | suv                |\n",
       "| chevrolet          | c1500 suburban 2wd | 1.291959           | 4.509646           | 1.611534           | auto(l4)           | r                  | 4.255946           | 5.954643           | r                  | suv                |\n",
       "| chevrolet          | c1500 suburban 2wd | 1.291959           | 4.509646           | 1.611534           | auto(l4)           | r                  | 4.255946           | 5.954643           | r                  | suv                |\n",
       "| chevrolet          | c1500 suburban 2wd | 1.291959           | 4.509646           | 1.611534           | auto(l4)           | r                  | 4.255946           | 5.954643           | r                  | suv                |\n",
       "| chevrolet          | corvette           | 1.291959           | 4.509646           | 1.611534           | manual(m6)         | r                  | 4.255946           | 5.954643           | p                  | 2seater            |\n",
       "| chevrolet          | corvette           | 1.291959           | 4.509646           | 1.611534           | auto(l4)           | r                  | 4.255946           | 5.954643           | p                  | 2seater            |\n",
       "| chevrolet          | corvette           | 1.291959           | 4.509646           | 1.611534           | manual(m6)         | r                  | 4.255946           | 5.954643           | p                  | 2seater            |\n",
       "| chevrolet          | corvette           | 1.291959           | 4.509646           | 1.611534           | auto(s6)           | r                  | 4.255946           | 5.954643           | p                  | 2seater            |\n",
       "| chevrolet          | corvette           | 1.291959           | 4.509646           | 1.611534           | manual(m6)         | r                  | 4.255946           | 5.954643           | p                  | 2seater            |\n",
       "| chevrolet          | k1500 tahoe 4wd    | 1.291959           | 4.509646           | 1.611534           | auto(l4)           | 4                  | 4.255946           | 5.954643           | r                  | suv                |\n",
       "| chevrolet          | k1500 tahoe 4wd    | 1.291959           | 4.509646           | 1.611534           | auto(l4)           | 4                  | 4.255946           | 5.954643           | e                  | suv                |\n",
       "| ... | ... | ... | ... | ... | ... | ... | ... | ... | ... | ... |\n",
       "| toyota            | toyota tacoma 4wd | 1.291959          | 4.509646          | 1.611534          | auto(l4)          | 4                 | 4.255946          | 5.954643          | r                 | pickup            |\n",
       "| toyota            | toyota tacoma 4wd | 1.291959          | 4.509646          | 1.611534          | manual(m6)        | 4                 | 4.255946          | 5.954643          | r                 | pickup            |\n",
       "| toyota            | toyota tacoma 4wd | 1.291959          | 4.509646          | 1.611534          | auto(l5)          | 4                 | 4.255946          | 5.954643          | r                 | pickup            |\n",
       "| volkswagen        | gti               | 1.291959          | 4.509646          | 1.611534          | manual(m5)        | f                 | 4.255946          | 5.954643          | r                 | compact           |\n",
       "| volkswagen        | gti               | 1.291959          | 4.509646          | 1.611534          | auto(l4)          | f                 | 4.255946          | 5.954643          | r                 | compact           |\n",
       "| volkswagen        | gti               | 1.291959          | 4.509646          | 1.611534          | manual(m6)        | f                 | 4.255946          | 5.954643          | p                 | compact           |\n",
       "| volkswagen        | gti               | 1.291959          | 4.509646          | 1.611534          | auto(s6)          | f                 | 4.255946          | 5.954643          | p                 | compact           |\n",
       "| volkswagen        | gti               | 1.291959          | 4.509646          | 1.611534          | manual(m5)        | f                 | 4.255946          | 5.954643          | r                 | compact           |\n",
       "| volkswagen        | jetta             | 1.291959          | 4.509646          | 1.611534          | manual(m5)        | f                 | 4.255946          | 5.954643          | d                 | compact           |\n",
       "| volkswagen        | jetta             | 1.291959          | 4.509646          | 1.611534          | manual(m5)        | f                 | 4.255946          | 5.954643          | r                 | compact           |\n",
       "| volkswagen        | jetta             | 1.291959          | 4.509646          | 1.611534          | auto(l4)          | f                 | 4.255946          | 5.954643          | r                 | compact           |\n",
       "| volkswagen        | jetta             | 1.291959          | 4.509646          | 1.611534          | auto(s6)          | f                 | 4.255946          | 5.954643          | p                 | compact           |\n",
       "| volkswagen        | jetta             | 1.291959          | 4.509646          | 1.611534          | manual(m6)        | f                 | 4.255946          | 5.954643          | p                 | compact           |\n",
       "| volkswagen        | jetta             | 1.291959          | 4.509646          | 1.611534          | auto(s6)          | f                 | 4.255946          | 5.954643          | r                 | compact           |\n",
       "| volkswagen        | jetta             | 1.291959          | 4.509646          | 1.611534          | manual(m5)        | f                 | 4.255946          | 5.954643          | r                 | compact           |\n",
       "| volkswagen        | jetta             | 1.291959          | 4.509646          | 1.611534          | auto(l4)          | f                 | 4.255946          | 5.954643          | r                 | compact           |\n",
       "| volkswagen        | jetta             | 1.291959          | 4.509646          | 1.611534          | manual(m5)        | f                 | 4.255946          | 5.954643          | r                 | compact           |\n",
       "| volkswagen        | new beetle        | 1.291959          | 4.509646          | 1.611534          | manual(m5)        | f                 | 4.255946          | 5.954643          | d                 | subcompact        |\n",
       "| volkswagen        | new beetle        | 1.291959          | 4.509646          | 1.611534          | auto(l4)          | f                 | 4.255946          | 5.954643          | d                 | subcompact        |\n",
       "| volkswagen        | new beetle        | 1.291959          | 4.509646          | 1.611534          | manual(m5)        | f                 | 4.255946          | 5.954643          | r                 | subcompact        |\n",
       "| volkswagen        | new beetle        | 1.291959          | 4.509646          | 1.611534          | auto(l4)          | f                 | 4.255946          | 5.954643          | r                 | subcompact        |\n",
       "| volkswagen        | new beetle        | 1.291959          | 4.509646          | 1.611534          | manual(m5)        | f                 | 4.255946          | 5.954643          | r                 | subcompact        |\n",
       "| volkswagen        | new beetle        | 1.291959          | 4.509646          | 1.611534          | auto(s6)          | f                 | 4.255946          | 5.954643          | r                 | subcompact        |\n",
       "| volkswagen        | passat            | 1.291959          | 4.509646          | 1.611534          | manual(m5)        | f                 | 4.255946          | 5.954643          | p                 | midsize           |\n",
       "| volkswagen        | passat            | 1.291959          | 4.509646          | 1.611534          | auto(l5)          | f                 | 4.255946          | 5.954643          | p                 | midsize           |\n",
       "| volkswagen        | passat            | 1.291959          | 4.509646          | 1.611534          | auto(s6)          | f                 | 4.255946          | 5.954643          | p                 | midsize           |\n",
       "| volkswagen        | passat            | 1.291959          | 4.509646          | 1.611534          | manual(m6)        | f                 | 4.255946          | 5.954643          | p                 | midsize           |\n",
       "| volkswagen        | passat            | 1.291959          | 4.509646          | 1.611534          | auto(l5)          | f                 | 4.255946          | 5.954643          | p                 | midsize           |\n",
       "| volkswagen        | passat            | 1.291959          | 4.509646          | 1.611534          | manual(m5)        | f                 | 4.255946          | 5.954643          | p                 | midsize           |\n",
       "| volkswagen        | passat            | 1.291959          | 4.509646          | 1.611534          | auto(s6)          | f                 | 4.255946          | 5.954643          | p                 | midsize           |\n",
       "\n"
      ],
      "text/plain": [
       "    manufacturer model              displ    year     cyl      trans      drv\n",
       "1   audi         a4                 1.291959 4.509646 1.611534 auto(l5)   f  \n",
       "2   audi         a4                 1.291959 4.509646 1.611534 manual(m5) f  \n",
       "3   audi         a4                 1.291959 4.509646 1.611534 manual(m6) f  \n",
       "4   audi         a4                 1.291959 4.509646 1.611534 auto(av)   f  \n",
       "5   audi         a4                 1.291959 4.509646 1.611534 auto(l5)   f  \n",
       "6   audi         a4                 1.291959 4.509646 1.611534 manual(m5) f  \n",
       "7   audi         a4                 1.291959 4.509646 1.611534 auto(av)   f  \n",
       "8   audi         a4 quattro         1.291959 4.509646 1.611534 manual(m5) 4  \n",
       "9   audi         a4 quattro         1.291959 4.509646 1.611534 auto(l5)   4  \n",
       "10  audi         a4 quattro         1.291959 4.509646 1.611534 manual(m6) 4  \n",
       "11  audi         a4 quattro         1.291959 4.509646 1.611534 auto(s6)   4  \n",
       "12  audi         a4 quattro         1.291959 4.509646 1.611534 auto(l5)   4  \n",
       "13  audi         a4 quattro         1.291959 4.509646 1.611534 manual(m5) 4  \n",
       "14  audi         a4 quattro         1.291959 4.509646 1.611534 auto(s6)   4  \n",
       "15  audi         a4 quattro         1.291959 4.509646 1.611534 manual(m6) 4  \n",
       "16  audi         a6 quattro         1.291959 4.509646 1.611534 auto(l5)   4  \n",
       "17  audi         a6 quattro         1.291959 4.509646 1.611534 auto(s6)   4  \n",
       "18  audi         a6 quattro         1.291959 4.509646 1.611534 auto(s6)   4  \n",
       "19  chevrolet    c1500 suburban 2wd 1.291959 4.509646 1.611534 auto(l4)   r  \n",
       "20  chevrolet    c1500 suburban 2wd 1.291959 4.509646 1.611534 auto(l4)   r  \n",
       "21  chevrolet    c1500 suburban 2wd 1.291959 4.509646 1.611534 auto(l4)   r  \n",
       "22  chevrolet    c1500 suburban 2wd 1.291959 4.509646 1.611534 auto(l4)   r  \n",
       "23  chevrolet    c1500 suburban 2wd 1.291959 4.509646 1.611534 auto(l4)   r  \n",
       "24  chevrolet    corvette           1.291959 4.509646 1.611534 manual(m6) r  \n",
       "25  chevrolet    corvette           1.291959 4.509646 1.611534 auto(l4)   r  \n",
       "26  chevrolet    corvette           1.291959 4.509646 1.611534 manual(m6) r  \n",
       "27  chevrolet    corvette           1.291959 4.509646 1.611534 auto(s6)   r  \n",
       "28  chevrolet    corvette           1.291959 4.509646 1.611534 manual(m6) r  \n",
       "29  chevrolet    k1500 tahoe 4wd    1.291959 4.509646 1.611534 auto(l4)   4  \n",
       "30  chevrolet    k1500 tahoe 4wd    1.291959 4.509646 1.611534 auto(l4)   4  \n",
       "... ...          ...                ...      ...      ...      ...        ...\n",
       "205 toyota       toyota tacoma 4wd  1.291959 4.509646 1.611534 auto(l4)   4  \n",
       "206 toyota       toyota tacoma 4wd  1.291959 4.509646 1.611534 manual(m6) 4  \n",
       "207 toyota       toyota tacoma 4wd  1.291959 4.509646 1.611534 auto(l5)   4  \n",
       "208 volkswagen   gti                1.291959 4.509646 1.611534 manual(m5) f  \n",
       "209 volkswagen   gti                1.291959 4.509646 1.611534 auto(l4)   f  \n",
       "210 volkswagen   gti                1.291959 4.509646 1.611534 manual(m6) f  \n",
       "211 volkswagen   gti                1.291959 4.509646 1.611534 auto(s6)   f  \n",
       "212 volkswagen   gti                1.291959 4.509646 1.611534 manual(m5) f  \n",
       "213 volkswagen   jetta              1.291959 4.509646 1.611534 manual(m5) f  \n",
       "214 volkswagen   jetta              1.291959 4.509646 1.611534 manual(m5) f  \n",
       "215 volkswagen   jetta              1.291959 4.509646 1.611534 auto(l4)   f  \n",
       "216 volkswagen   jetta              1.291959 4.509646 1.611534 auto(s6)   f  \n",
       "217 volkswagen   jetta              1.291959 4.509646 1.611534 manual(m6) f  \n",
       "218 volkswagen   jetta              1.291959 4.509646 1.611534 auto(s6)   f  \n",
       "219 volkswagen   jetta              1.291959 4.509646 1.611534 manual(m5) f  \n",
       "220 volkswagen   jetta              1.291959 4.509646 1.611534 auto(l4)   f  \n",
       "221 volkswagen   jetta              1.291959 4.509646 1.611534 manual(m5) f  \n",
       "222 volkswagen   new beetle         1.291959 4.509646 1.611534 manual(m5) f  \n",
       "223 volkswagen   new beetle         1.291959 4.509646 1.611534 auto(l4)   f  \n",
       "224 volkswagen   new beetle         1.291959 4.509646 1.611534 manual(m5) f  \n",
       "225 volkswagen   new beetle         1.291959 4.509646 1.611534 auto(l4)   f  \n",
       "226 volkswagen   new beetle         1.291959 4.509646 1.611534 manual(m5) f  \n",
       "227 volkswagen   new beetle         1.291959 4.509646 1.611534 auto(s6)   f  \n",
       "228 volkswagen   passat             1.291959 4.509646 1.611534 manual(m5) f  \n",
       "229 volkswagen   passat             1.291959 4.509646 1.611534 auto(l5)   f  \n",
       "230 volkswagen   passat             1.291959 4.509646 1.611534 auto(s6)   f  \n",
       "231 volkswagen   passat             1.291959 4.509646 1.611534 manual(m6) f  \n",
       "232 volkswagen   passat             1.291959 4.509646 1.611534 auto(l5)   f  \n",
       "233 volkswagen   passat             1.291959 4.509646 1.611534 manual(m5) f  \n",
       "234 volkswagen   passat             1.291959 4.509646 1.611534 auto(s6)   f  \n",
       "    cty      hwy      fl  class     \n",
       "1   4.255946 5.954643 p   compact   \n",
       "2   4.255946 5.954643 p   compact   \n",
       "3   4.255946 5.954643 p   compact   \n",
       "4   4.255946 5.954643 p   compact   \n",
       "5   4.255946 5.954643 p   compact   \n",
       "6   4.255946 5.954643 p   compact   \n",
       "7   4.255946 5.954643 p   compact   \n",
       "8   4.255946 5.954643 p   compact   \n",
       "9   4.255946 5.954643 p   compact   \n",
       "10  4.255946 5.954643 p   compact   \n",
       "11  4.255946 5.954643 p   compact   \n",
       "12  4.255946 5.954643 p   compact   \n",
       "13  4.255946 5.954643 p   compact   \n",
       "14  4.255946 5.954643 p   compact   \n",
       "15  4.255946 5.954643 p   compact   \n",
       "16  4.255946 5.954643 p   midsize   \n",
       "17  4.255946 5.954643 p   midsize   \n",
       "18  4.255946 5.954643 p   midsize   \n",
       "19  4.255946 5.954643 r   suv       \n",
       "20  4.255946 5.954643 e   suv       \n",
       "21  4.255946 5.954643 r   suv       \n",
       "22  4.255946 5.954643 r   suv       \n",
       "23  4.255946 5.954643 r   suv       \n",
       "24  4.255946 5.954643 p   2seater   \n",
       "25  4.255946 5.954643 p   2seater   \n",
       "26  4.255946 5.954643 p   2seater   \n",
       "27  4.255946 5.954643 p   2seater   \n",
       "28  4.255946 5.954643 p   2seater   \n",
       "29  4.255946 5.954643 r   suv       \n",
       "30  4.255946 5.954643 e   suv       \n",
       "... ...      ...      ... ...       \n",
       "205 4.255946 5.954643 r   pickup    \n",
       "206 4.255946 5.954643 r   pickup    \n",
       "207 4.255946 5.954643 r   pickup    \n",
       "208 4.255946 5.954643 r   compact   \n",
       "209 4.255946 5.954643 r   compact   \n",
       "210 4.255946 5.954643 p   compact   \n",
       "211 4.255946 5.954643 p   compact   \n",
       "212 4.255946 5.954643 r   compact   \n",
       "213 4.255946 5.954643 d   compact   \n",
       "214 4.255946 5.954643 r   compact   \n",
       "215 4.255946 5.954643 r   compact   \n",
       "216 4.255946 5.954643 p   compact   \n",
       "217 4.255946 5.954643 p   compact   \n",
       "218 4.255946 5.954643 r   compact   \n",
       "219 4.255946 5.954643 r   compact   \n",
       "220 4.255946 5.954643 r   compact   \n",
       "221 4.255946 5.954643 r   compact   \n",
       "222 4.255946 5.954643 d   subcompact\n",
       "223 4.255946 5.954643 d   subcompact\n",
       "224 4.255946 5.954643 r   subcompact\n",
       "225 4.255946 5.954643 r   subcompact\n",
       "226 4.255946 5.954643 r   subcompact\n",
       "227 4.255946 5.954643 r   subcompact\n",
       "228 4.255946 5.954643 p   midsize   \n",
       "229 4.255946 5.954643 p   midsize   \n",
       "230 4.255946 5.954643 p   midsize   \n",
       "231 4.255946 5.954643 p   midsize   \n",
       "232 4.255946 5.954643 p   midsize   \n",
       "233 4.255946 5.954643 p   midsize   \n",
       "234 4.255946 5.954643 p   midsize   "
      ]
     },
     "metadata": {},
     "output_type": "display_data"
    }
   ],
   "source": [
    "# Only calculate the standard deviation of numeric columns\n",
    "\n",
    "mpg  %>% modify_if(is.numeric, sd)"
   ]
  },
  {
   "cell_type": "code",
   "execution_count": 53,
   "metadata": {},
   "outputs": [
    {
     "data": {
      "text/html": [
       "<ol class=list-inline>\n",
       "\t<li>1</li>\n",
       "\t<li>4</li>\n",
       "\t<li>3</li>\n",
       "\t<li>16</li>\n",
       "\t<li>5</li>\n",
       "</ol>\n"
      ],
      "text/latex": [
       "\\begin{enumerate*}\n",
       "\\item 1\n",
       "\\item 4\n",
       "\\item 3\n",
       "\\item 16\n",
       "\\item 5\n",
       "\\end{enumerate*}\n"
      ],
      "text/markdown": [
       "1. 1\n",
       "2. 4\n",
       "3. 3\n",
       "4. 16\n",
       "5. 5\n",
       "\n",
       "\n"
      ],
      "text/plain": [
       "[1]  1  4  3 16  5"
      ]
     },
     "metadata": {},
     "output_type": "display_data"
    }
   ],
   "source": [
    "# square even value\n",
    "numbers <- 1:5\n",
    "\n",
    "numbers %>% modify_if(function(x) x %% 2 == 0, function(x) x * x)                   "
   ]
  },
  {
   "cell_type": "code",
   "execution_count": 11,
   "metadata": {},
   "outputs": [
    {
     "data": {
      "text/html": [
       "<ol class=list-inline>\n",
       "\t<li>1</li>\n",
       "\t<li>4</li>\n",
       "\t<li>3</li>\n",
       "\t<li>16</li>\n",
       "\t<li>5</li>\n",
       "</ol>\n"
      ],
      "text/latex": [
       "\\begin{enumerate*}\n",
       "\\item 1\n",
       "\\item 4\n",
       "\\item 3\n",
       "\\item 16\n",
       "\\item 5\n",
       "\\end{enumerate*}\n"
      ],
      "text/markdown": [
       "1. 1\n",
       "2. 4\n",
       "3. 3\n",
       "4. 16\n",
       "5. 5\n",
       "\n",
       "\n"
      ],
      "text/plain": [
       "[1]  1  4  3 16  5"
      ]
     },
     "metadata": {},
     "output_type": "display_data"
    }
   ],
   "source": [
    "# equivalent by  using a formula\n",
    "numbers %>% modify_if(~ . %% 2 == 0, ~ . * .)"
   ]
  },
  {
   "cell_type": "code",
   "execution_count": 37,
   "metadata": {},
   "outputs": [
    {
     "data": {
      "text/html": [
       "<ol>\n",
       "\t<li><dl>\n",
       "\t<dt>$stat</dt>\n",
       "\t\t<dd>TRUE</dd>\n",
       "\t<dt>$name</dt>\n",
       "\t\t<dd>'Pikachu'</dd>\n",
       "</dl>\n",
       "</li>\n",
       "\t<li><dl>\n",
       "\t<dt>$stat</dt>\n",
       "\t\t<dd>FALSE</dd>\n",
       "\t<dt>$name</dt>\n",
       "\t\t<dd>'Meomeo888'</dd>\n",
       "</dl>\n",
       "</li>\n",
       "</ol>\n"
      ],
      "text/latex": [
       "\\begin{enumerate}\n",
       "\\item \\begin{description}\n",
       "\\item[\\$stat] TRUE\n",
       "\\item[\\$name] 'Pikachu'\n",
       "\\end{description}\n",
       "\n",
       "\\item \\begin{description}\n",
       "\\item[\\$stat] FALSE\n",
       "\\item[\\$name] 'Meomeo888'\n",
       "\\end{description}\n",
       "\n",
       "\\end{enumerate}\n"
      ],
      "text/markdown": [
       "1. $stat\n",
       ":   TRUE\n",
       "$name\n",
       ":   'Pikachu'\n",
       "\n",
       "\n",
       "\n",
       "2. $stat\n",
       ":   FALSE\n",
       "$name\n",
       ":   'Meomeo888'\n",
       "\n",
       "\n",
       "\n",
       "\n",
       "\n"
      ],
      "text/plain": [
       "[[1]]\n",
       "[[1]]$stat\n",
       "[1] TRUE\n",
       "\n",
       "[[1]]$name\n",
       "[1] \"Pikachu\"\n",
       "\n",
       "\n",
       "[[2]]\n",
       "[[2]]$stat\n",
       "[1] FALSE\n",
       "\n",
       "[[2]]$name\n",
       "[1] \"Meomeo888\"\n",
       "\n"
      ]
     },
     "metadata": {},
     "output_type": "display_data"
    }
   ],
   "source": [
    "# using an extractor function\n",
    "\n",
    "toy <- list(list(stat = T, name = 'Pikachu'), list(stat = F, name = 'Meomeo888'))\n",
    "\n",
    "toy"
   ]
  },
  {
   "cell_type": "code",
   "execution_count": 38,
   "metadata": {},
   "outputs": [
    {
     "data": {
      "text/html": [
       "<ol>\n",
       "\t<li>'Pikachu'</li>\n",
       "\t<li><dl>\n",
       "\t<dt>$stat</dt>\n",
       "\t\t<dd>FALSE</dd>\n",
       "\t<dt>$name</dt>\n",
       "\t\t<dd>'Meomeo888'</dd>\n",
       "</dl>\n",
       "</li>\n",
       "</ol>\n"
      ],
      "text/latex": [
       "\\begin{enumerate}\n",
       "\\item 'Pikachu'\n",
       "\\item \\begin{description}\n",
       "\\item[\\$stat] FALSE\n",
       "\\item[\\$name] 'Meomeo888'\n",
       "\\end{description}\n",
       "\n",
       "\\end{enumerate}\n"
      ],
      "text/markdown": [
       "1. 'Pikachu'\n",
       "2. $stat\n",
       ":   FALSE\n",
       "$name\n",
       ":   'Meomeo888'\n",
       "\n",
       "\n",
       "\n",
       "\n",
       "\n"
      ],
      "text/plain": [
       "[[1]]\n",
       "[1] \"Pikachu\"\n",
       "\n",
       "[[2]]\n",
       "[[2]]$stat\n",
       "[1] FALSE\n",
       "\n",
       "[[2]]$name\n",
       "[1] \"Meomeo888\"\n",
       "\n"
      ]
     },
     "metadata": {},
     "output_type": "display_data"
    }
   ],
   "source": [
    "toy %>% modify_if('stat', ~ .$name)"
   ]
  },
  {
   "cell_type": "code",
   "execution_count": 42,
   "metadata": {},
   "outputs": [
    {
     "name": "stdout",
     "output_type": "stream",
     "text": [
      "'data.frame':\t150 obs. of  5 variables:\n",
      " $ Sepal.Length: chr  \"5.1\" \"4.9\" \"4.7\" \"4.6\" ...\n",
      " $ Sepal.Width : chr  \"3.5\" \"3\" \"3.2\" \"3.1\" ...\n",
      " $ Petal.Length: chr  \"1.4\" \"1.4\" \"1.3\" \"1.5\" ...\n",
      " $ Petal.Width : chr  \"0.2\" \"0.2\" \"0.2\" \"0.2\" ...\n",
      " $ Species     : Factor w/ 3 levels \"setosa\",\"versicolor\",..: 1 1 1 1 1 1 1 1 1 1 ...\n"
     ]
    }
   ],
   "source": [
    "# Convert numeric column to character \n",
    "iris %>% modify_if(is.numeric, as.character) %>% str()"
   ]
  },
  {
   "cell_type": "markdown",
   "metadata": {},
   "source": [
    "<b style = 'color:red'>NOTE</b>"
   ]
  },
  {
   "cell_type": "markdown",
   "metadata": {},
   "source": [
    "I think there is no need to learn **`modify_if`** for functions and formulas. You can combine **`modify`** with function **`iflese`** to achieve the same effect:"
   ]
  },
  {
   "cell_type": "code",
   "execution_count": 3,
   "metadata": {},
   "outputs": [
    {
     "data": {
      "text/html": [
       "<ol class=list-inline>\n",
       "\t<li>1</li>\n",
       "\t<li>4</li>\n",
       "\t<li>3</li>\n",
       "\t<li>16</li>\n",
       "\t<li>5</li>\n",
       "</ol>\n"
      ],
      "text/latex": [
       "\\begin{enumerate*}\n",
       "\\item 1\n",
       "\\item 4\n",
       "\\item 3\n",
       "\\item 16\n",
       "\\item 5\n",
       "\\end{enumerate*}\n"
      ],
      "text/markdown": [
       "1. 1\n",
       "2. 4\n",
       "3. 3\n",
       "4. 16\n",
       "5. 5\n",
       "\n",
       "\n"
      ],
      "text/plain": [
       "[1]  1  4  3 16  5"
      ]
     },
     "metadata": {},
     "output_type": "display_data"
    }
   ],
   "source": [
    "# square even values\n",
    "1:5 %>% modify(~ ifelse(. %% 2 == 0, . * ., .))"
   ]
  },
  {
   "cell_type": "markdown",
   "metadata": {},
   "source": [
    "**`modify_if`** is only useful for extractor functions (character vector, numeric vector or list)"
   ]
  },
  {
   "cell_type": "code",
   "execution_count": 4,
   "metadata": {},
   "outputs": [],
   "source": [
    "toy <- list(list(stat = T, name = 'Pikachu'), list(stat = F, name = 'Meomeo888'))"
   ]
  },
  {
   "cell_type": "code",
   "execution_count": 7,
   "metadata": {},
   "outputs": [
    {
     "data": {
      "text/html": [
       "<ol>\n",
       "\t<li>'PIKACHU'</li>\n",
       "\t<li>'Meomeo888'</li>\n",
       "</ol>\n"
      ],
      "text/latex": [
       "\\begin{enumerate}\n",
       "\\item 'PIKACHU'\n",
       "\\item 'Meomeo888'\n",
       "\\end{enumerate}\n"
      ],
      "text/markdown": [
       "1. 'PIKACHU'\n",
       "2. 'Meomeo888'\n",
       "\n",
       "\n"
      ],
      "text/plain": [
       "[[1]]\n",
       "[1] \"PIKACHU\"\n",
       "\n",
       "[[2]]\n",
       "[1] \"Meomeo888\"\n"
      ]
     },
     "metadata": {},
     "output_type": "display_data"
    }
   ],
   "source": [
    "# Using modify_if is more concinse, less verbose. you do not have to use purrr:pluck\n",
    "toy %>% modify_if('stat', ~ str_to_upper(.$name), .else = ~ .$name)"
   ]
  },
  {
   "cell_type": "code",
   "execution_count": 30,
   "metadata": {},
   "outputs": [
    {
     "data": {
      "text/html": [
       "<ol>\n",
       "\t<li>'PIKACHU'</li>\n",
       "\t<li>'Meomeo888'</li>\n",
       "</ol>\n"
      ],
      "text/latex": [
       "\\begin{enumerate}\n",
       "\\item 'PIKACHU'\n",
       "\\item 'Meomeo888'\n",
       "\\end{enumerate}\n"
      ],
      "text/markdown": [
       "1. 'PIKACHU'\n",
       "2. 'Meomeo888'\n",
       "\n",
       "\n"
      ],
      "text/plain": [
       "[[1]]\n",
       "[1] \"PIKACHU\"\n",
       "\n",
       "[[2]]\n",
       "[1] \"Meomeo888\"\n"
      ]
     },
     "metadata": {},
     "output_type": "display_data"
    }
   ],
   "source": [
    "# using modify and ifelse\n",
    "toy %>% modify(~ ifelse(pluck(., 'stat'), str_to_upper(.$name), .$name))"
   ]
  },
  {
   "cell_type": "markdown",
   "metadata": {},
   "source": [
    "---"
   ]
  },
  {
   "cell_type": "markdown",
   "metadata": {},
   "source": [
    "**`modify_at`**"
   ]
  },
  {
   "cell_type": "markdown",
   "metadata": {},
   "source": [
    "modify elements give by position"
   ]
  },
  {
   "cell_type": "code",
   "execution_count": 22,
   "metadata": {},
   "outputs": [],
   "source": [
    "players <- c('VN Pikachu', 'Meomeo888', 'Mu lan', 'Wanie', 'Son La TF')"
   ]
  },
  {
   "cell_type": "code",
   "execution_count": 25,
   "metadata": {},
   "outputs": [],
   "source": [
    "avendor <- list(\n",
    "    brand = 'lamborgini',\n",
    "    cost = 250000,\n",
    "    type = 'car'\n",
    ")"
   ]
  },
  {
   "cell_type": "code",
   "execution_count": 23,
   "metadata": {},
   "outputs": [
    {
     "data": {
      "text/html": [
       "<ol class=list-inline>\n",
       "\t<li>'VN Pikachu'</li>\n",
       "\t<li>'MEOMEO888'</li>\n",
       "\t<li>'Mu lan'</li>\n",
       "\t<li>'WANIE'</li>\n",
       "\t<li>'SON LA TF'</li>\n",
       "</ol>\n"
      ],
      "text/latex": [
       "\\begin{enumerate*}\n",
       "\\item 'VN Pikachu'\n",
       "\\item 'MEOMEO888'\n",
       "\\item 'Mu lan'\n",
       "\\item 'WANIE'\n",
       "\\item 'SON LA TF'\n",
       "\\end{enumerate*}\n"
      ],
      "text/markdown": [
       "1. 'VN Pikachu'\n",
       "2. 'MEOMEO888'\n",
       "3. 'Mu lan'\n",
       "4. 'WANIE'\n",
       "5. 'SON LA TF'\n",
       "\n",
       "\n"
      ],
      "text/plain": [
       "[1] \"VN Pikachu\" \"MEOMEO888\"  \"Mu lan\"     \"WANIE\"      \"SON LA TF\" "
      ]
     },
     "metadata": {},
     "output_type": "display_data"
    }
   ],
   "source": [
    "# modify value at index 2, 4, 5\n",
    "players %>% modify_at(c(2, 4, 5), str_to_upper)"
   ]
  },
  {
   "cell_type": "code",
   "execution_count": 62,
   "metadata": {},
   "outputs": [
    {
     "data": {
      "text/html": [
       "<ol class=list-inline>\n",
       "\t<li>'VN Pikachu'</li>\n",
       "\t<li>'MEOMEO888'</li>\n",
       "\t<li>'Mu lan'</li>\n",
       "\t<li>'WANIE'</li>\n",
       "\t<li>'SON LA TF'</li>\n",
       "</ol>\n"
      ],
      "text/latex": [
       "\\begin{enumerate*}\n",
       "\\item 'VN Pikachu'\n",
       "\\item 'MEOMEO888'\n",
       "\\item 'Mu lan'\n",
       "\\item 'WANIE'\n",
       "\\item 'SON LA TF'\n",
       "\\end{enumerate*}\n"
      ],
      "text/markdown": [
       "1. 'VN Pikachu'\n",
       "2. 'MEOMEO888'\n",
       "3. 'Mu lan'\n",
       "4. 'WANIE'\n",
       "5. 'SON LA TF'\n",
       "\n",
       "\n"
      ],
      "text/plain": [
       "[1] \"VN Pikachu\" \"MEOMEO888\"  \"Mu lan\"     \"WANIE\"      \"SON LA TF\" "
      ]
     },
     "metadata": {},
     "output_type": "display_data"
    }
   ],
   "source": [
    "# equivalent using negative index to exculde value that we do not wanna modify\n",
    "players %>% modify_at(c(-1, -3), str_to_upper)"
   ]
  },
  {
   "cell_type": "code",
   "execution_count": 26,
   "metadata": {},
   "outputs": [
    {
     "data": {
      "text/html": [
       "<dl>\n",
       "\t<dt>$brand</dt>\n",
       "\t\t<dd>'LAMBORGINI'</dd>\n",
       "\t<dt>$cost</dt>\n",
       "\t\t<dd>250000</dd>\n",
       "\t<dt>$type</dt>\n",
       "\t\t<dd>'CAR'</dd>\n",
       "</dl>\n"
      ],
      "text/latex": [
       "\\begin{description}\n",
       "\\item[\\$brand] 'LAMBORGINI'\n",
       "\\item[\\$cost] 250000\n",
       "\\item[\\$type] 'CAR'\n",
       "\\end{description}\n"
      ],
      "text/markdown": [
       "$brand\n",
       ":   'LAMBORGINI'\n",
       "$cost\n",
       ":   250000\n",
       "$type\n",
       ":   'CAR'\n",
       "\n",
       "\n"
      ],
      "text/plain": [
       "$brand\n",
       "[1] \"LAMBORGINI\"\n",
       "\n",
       "$cost\n",
       "[1] 250000\n",
       "\n",
       "$type\n",
       "[1] \"CAR\"\n"
      ]
     },
     "metadata": {},
     "output_type": "display_data"
    }
   ],
   "source": [
    "# modify elements given by name\n",
    "avendor %>% modify_at(c('brand', 'type'), str_to_upper)"
   ]
  },
  {
   "cell_type": "code",
   "execution_count": 30,
   "metadata": {},
   "outputs": [
    {
     "name": "stdout",
     "output_type": "stream",
     "text": [
      "'data.frame':\t150 obs. of  5 variables:\n",
      " $ Sepal.Length: chr  \"5.1\" \"4.9\" \"4.7\" \"4.6\" ...\n",
      " $ Sepal.Width : num  3.5 3 3.2 3.1 3.6 3.9 3.4 3.4 2.9 3.1 ...\n",
      " $ Petal.Length: chr  \"1.4\" \"1.4\" \"1.3\" \"1.5\" ...\n",
      " $ Petal.Width : num  0.2 0.2 0.2 0.2 0.2 0.4 0.3 0.2 0.2 0.1 ...\n",
      " $ Species     : Factor w/ 3 levels \"setosa\",\"versicolor\",..: 1 1 1 1 1 1 1 1 1 1 ...\n"
     ]
    }
   ],
   "source": [
    "# change the datatype of the first and third column to character\n",
    "iris %>% modify_at(c(1, 3), as.character) %>% str()"
   ]
  },
  {
   "cell_type": "code",
   "execution_count": 31,
   "metadata": {},
   "outputs": [
    {
     "name": "stdout",
     "output_type": "stream",
     "text": [
      "'data.frame':\t150 obs. of  5 variables:\n",
      " $ Sepal.Length: chr  \"5.1\" \"4.9\" \"4.7\" \"4.6\" ...\n",
      " $ Sepal.Width : num  3.5 3 3.2 3.1 3.6 3.9 3.4 3.4 2.9 3.1 ...\n",
      " $ Petal.Length: chr  \"1.4\" \"1.4\" \"1.3\" \"1.5\" ...\n",
      " $ Petal.Width : num  0.2 0.2 0.2 0.2 0.2 0.4 0.3 0.2 0.2 0.1 ...\n",
      " $ Species     : Factor w/ 3 levels \"setosa\",\"versicolor\",..: 1 1 1 1 1 1 1 1 1 1 ...\n"
     ]
    }
   ],
   "source": [
    "# equivalent by using names\n",
    "iris %>% modify_at(c('Sepal.Length', 'Petal.Length'), as.character) %>% str()"
   ]
  },
  {
   "cell_type": "code",
   "execution_count": 40,
   "metadata": {},
   "outputs": [
    {
     "data": {
      "text/html": [
       "<ol class=list-inline>\n",
       "\t<li>'31. VN Pikachu'</li>\n",
       "\t<li>'32. Meomeo888'</li>\n",
       "</ol>\n"
      ],
      "text/latex": [
       "\\begin{enumerate*}\n",
       "\\item '31. VN Pikachu'\n",
       "\\item '32. Meomeo888'\n",
       "\\end{enumerate*}\n"
      ],
      "text/markdown": [
       "1. '31. VN Pikachu'\n",
       "2. '32. Meomeo888'\n",
       "\n",
       "\n"
      ],
      "text/plain": [
       "[1] \"31. VN Pikachu\" \"32. Meomeo888\" "
      ]
     },
     "metadata": {},
     "output_type": "display_data"
    }
   ],
   "source": [
    "# Use modify2() to map over two vectors and preserve the type of the first one:\n",
    "\n",
    "modify2(c('VN Pikachu', 'Meomeo888'), c(31, 32), ~ str_c(.y, '. ', .x))\n"
   ]
  },
  {
   "cell_type": "markdown",
   "metadata": {},
   "source": [
    "**`modify_depth`**: modify at specific depth. Apply a function for elements at given depth"
   ]
  },
  {
   "cell_type": "code",
   "execution_count": 45,
   "metadata": {},
   "outputs": [],
   "source": [
    "l1 <- list(\n",
    "  obj1 = list(\n",
    "    prop1 = list(param1 = 1:2, param2 = 3:4),\n",
    "    prop2 = list(param1 = 5:6, param2 = 7:8)\n",
    "  ),\n",
    "  obj2 = list(\n",
    "    prop1 = list(param1 = 9:10, param2 = 11:12),\n",
    "    prop2 = list(param1 = 12:14, param2 = 15:17)\n",
    "  )\n",
    ")"
   ]
  },
  {
   "cell_type": "code",
   "execution_count": 48,
   "metadata": {},
   "outputs": [
    {
     "data": {
      "text/html": [
       "<dl>\n",
       "\t<dt>$obj1</dt>\n",
       "\t\t<dd><dl>\n",
       "\t<dt>$prop1</dt>\n",
       "\t\t<dd><dl>\n",
       "\t<dt>$param1</dt>\n",
       "\t\t<dd>3</dd>\n",
       "\t<dt>$param2</dt>\n",
       "\t\t<dd>7</dd>\n",
       "</dl>\n",
       "</dd>\n",
       "\t<dt>$prop2</dt>\n",
       "\t\t<dd><dl>\n",
       "\t<dt>$param1</dt>\n",
       "\t\t<dd>11</dd>\n",
       "\t<dt>$param2</dt>\n",
       "\t\t<dd>15</dd>\n",
       "</dl>\n",
       "</dd>\n",
       "</dl>\n",
       "</dd>\n",
       "\t<dt>$obj2</dt>\n",
       "\t\t<dd><dl>\n",
       "\t<dt>$prop1</dt>\n",
       "\t\t<dd><dl>\n",
       "\t<dt>$param1</dt>\n",
       "\t\t<dd>19</dd>\n",
       "\t<dt>$param2</dt>\n",
       "\t\t<dd>23</dd>\n",
       "</dl>\n",
       "</dd>\n",
       "\t<dt>$prop2</dt>\n",
       "\t\t<dd><dl>\n",
       "\t<dt>$param1</dt>\n",
       "\t\t<dd>39</dd>\n",
       "\t<dt>$param2</dt>\n",
       "\t\t<dd>48</dd>\n",
       "</dl>\n",
       "</dd>\n",
       "</dl>\n",
       "</dd>\n",
       "</dl>\n"
      ],
      "text/latex": [
       "\\begin{description}\n",
       "\\item[\\$obj1] \\begin{description}\n",
       "\\item[\\$prop1] \\begin{description}\n",
       "\\item[\\$param1] 3\n",
       "\\item[\\$param2] 7\n",
       "\\end{description}\n",
       "\n",
       "\\item[\\$prop2] \\begin{description}\n",
       "\\item[\\$param1] 11\n",
       "\\item[\\$param2] 15\n",
       "\\end{description}\n",
       "\n",
       "\\end{description}\n",
       "\n",
       "\\item[\\$obj2] \\begin{description}\n",
       "\\item[\\$prop1] \\begin{description}\n",
       "\\item[\\$param1] 19\n",
       "\\item[\\$param2] 23\n",
       "\\end{description}\n",
       "\n",
       "\\item[\\$prop2] \\begin{description}\n",
       "\\item[\\$param1] 39\n",
       "\\item[\\$param2] 48\n",
       "\\end{description}\n",
       "\n",
       "\\end{description}\n",
       "\n",
       "\\end{description}\n"
      ],
      "text/markdown": [
       "$obj1\n",
       ":   $prop1\n",
       ":   $param1\n",
       ":   3\n",
       "$param2\n",
       ":   7\n",
       "\n",
       "\n",
       "\n",
       "$prop2\n",
       ":   $param1\n",
       ":   11\n",
       "$param2\n",
       ":   15\n",
       "\n",
       "\n",
       "\n",
       "\n",
       "\n",
       "\n",
       "$obj2\n",
       ":   $prop1\n",
       ":   $param1\n",
       ":   19\n",
       "$param2\n",
       ":   23\n",
       "\n",
       "\n",
       "\n",
       "$prop2\n",
       ":   $param1\n",
       ":   39\n",
       "$param2\n",
       ":   48\n",
       "\n",
       "\n",
       "\n",
       "\n",
       "\n",
       "\n",
       "\n",
       "\n"
      ],
      "text/plain": [
       "$obj1\n",
       "$obj1$prop1\n",
       "$obj1$prop1$param1\n",
       "[1] 3\n",
       "\n",
       "$obj1$prop1$param2\n",
       "[1] 7\n",
       "\n",
       "\n",
       "$obj1$prop2\n",
       "$obj1$prop2$param1\n",
       "[1] 11\n",
       "\n",
       "$obj1$prop2$param2\n",
       "[1] 15\n",
       "\n",
       "\n",
       "\n",
       "$obj2\n",
       "$obj2$prop1\n",
       "$obj2$prop1$param1\n",
       "[1] 19\n",
       "\n",
       "$obj2$prop1$param2\n",
       "[1] 23\n",
       "\n",
       "\n",
       "$obj2$prop2\n",
       "$obj2$prop2$param1\n",
       "[1] 39\n",
       "\n",
       "$obj2$prop2$param2\n",
       "[1] 48\n",
       "\n",
       "\n"
      ]
     },
     "metadata": {},
     "output_type": "display_data"
    }
   ],
   "source": [
    "# In the above list, \"obj\" is level 1, \"prop\" is level 2 and \"param\"\n",
    "# is level 3. To apply sum() on all params, we map it at depth 3:\n",
    "\n",
    "l1 %>% map_depth(3, sum)"
   ]
  },
  {
   "cell_type": "code",
   "execution_count": 51,
   "metadata": {},
   "outputs": [
    {
     "data": {
      "text/html": [
       "<dl>\n",
       "\t<dt>$obj1</dt>\n",
       "\t\t<dd><dl>\n",
       "\t<dt>$prop1</dt>\n",
       "\t\t<dd><dl>\n",
       "\t<dt>$param1</dt>\n",
       "\t\t<dd><ol class=list-inline>\n",
       "\t<li>101</li>\n",
       "\t<li>102</li>\n",
       "</ol>\n",
       "</dd>\n",
       "\t<dt>$param2</dt>\n",
       "\t\t<dd><ol class=list-inline>\n",
       "\t<li>103</li>\n",
       "\t<li>104</li>\n",
       "</ol>\n",
       "</dd>\n",
       "</dl>\n",
       "</dd>\n",
       "\t<dt>$prop2</dt>\n",
       "\t\t<dd><dl>\n",
       "\t<dt>$param1</dt>\n",
       "\t\t<dd><ol class=list-inline>\n",
       "\t<li>105</li>\n",
       "\t<li>106</li>\n",
       "</ol>\n",
       "</dd>\n",
       "\t<dt>$param2</dt>\n",
       "\t\t<dd><ol class=list-inline>\n",
       "\t<li>107</li>\n",
       "\t<li>108</li>\n",
       "</ol>\n",
       "</dd>\n",
       "</dl>\n",
       "</dd>\n",
       "</dl>\n",
       "</dd>\n",
       "\t<dt>$obj2</dt>\n",
       "\t\t<dd><dl>\n",
       "\t<dt>$prop1</dt>\n",
       "\t\t<dd><dl>\n",
       "\t<dt>$param1</dt>\n",
       "\t\t<dd><ol class=list-inline>\n",
       "\t<li>109</li>\n",
       "\t<li>110</li>\n",
       "</ol>\n",
       "</dd>\n",
       "\t<dt>$param2</dt>\n",
       "\t\t<dd><ol class=list-inline>\n",
       "\t<li>111</li>\n",
       "\t<li>112</li>\n",
       "</ol>\n",
       "</dd>\n",
       "</dl>\n",
       "</dd>\n",
       "\t<dt>$prop2</dt>\n",
       "\t\t<dd><dl>\n",
       "\t<dt>$param1</dt>\n",
       "\t\t<dd><ol class=list-inline>\n",
       "\t<li>112</li>\n",
       "\t<li>113</li>\n",
       "\t<li>114</li>\n",
       "</ol>\n",
       "</dd>\n",
       "\t<dt>$param2</dt>\n",
       "\t\t<dd><ol class=list-inline>\n",
       "\t<li>115</li>\n",
       "\t<li>116</li>\n",
       "\t<li>117</li>\n",
       "</ol>\n",
       "</dd>\n",
       "</dl>\n",
       "</dd>\n",
       "</dl>\n",
       "</dd>\n",
       "</dl>\n"
      ],
      "text/latex": [
       "\\begin{description}\n",
       "\\item[\\$obj1] \\begin{description}\n",
       "\\item[\\$prop1] \\begin{description}\n",
       "\\item[\\$param1] \\begin{enumerate*}\n",
       "\\item 101\n",
       "\\item 102\n",
       "\\end{enumerate*}\n",
       "\n",
       "\\item[\\$param2] \\begin{enumerate*}\n",
       "\\item 103\n",
       "\\item 104\n",
       "\\end{enumerate*}\n",
       "\n",
       "\\end{description}\n",
       "\n",
       "\\item[\\$prop2] \\begin{description}\n",
       "\\item[\\$param1] \\begin{enumerate*}\n",
       "\\item 105\n",
       "\\item 106\n",
       "\\end{enumerate*}\n",
       "\n",
       "\\item[\\$param2] \\begin{enumerate*}\n",
       "\\item 107\n",
       "\\item 108\n",
       "\\end{enumerate*}\n",
       "\n",
       "\\end{description}\n",
       "\n",
       "\\end{description}\n",
       "\n",
       "\\item[\\$obj2] \\begin{description}\n",
       "\\item[\\$prop1] \\begin{description}\n",
       "\\item[\\$param1] \\begin{enumerate*}\n",
       "\\item 109\n",
       "\\item 110\n",
       "\\end{enumerate*}\n",
       "\n",
       "\\item[\\$param2] \\begin{enumerate*}\n",
       "\\item 111\n",
       "\\item 112\n",
       "\\end{enumerate*}\n",
       "\n",
       "\\end{description}\n",
       "\n",
       "\\item[\\$prop2] \\begin{description}\n",
       "\\item[\\$param1] \\begin{enumerate*}\n",
       "\\item 112\n",
       "\\item 113\n",
       "\\item 114\n",
       "\\end{enumerate*}\n",
       "\n",
       "\\item[\\$param2] \\begin{enumerate*}\n",
       "\\item 115\n",
       "\\item 116\n",
       "\\item 117\n",
       "\\end{enumerate*}\n",
       "\n",
       "\\end{description}\n",
       "\n",
       "\\end{description}\n",
       "\n",
       "\\end{description}\n"
      ],
      "text/markdown": [
       "$obj1\n",
       ":   $prop1\n",
       ":   $param1\n",
       ":   1. 101\n",
       "2. 102\n",
       "\n",
       "\n",
       "\n",
       "$param2\n",
       ":   1. 103\n",
       "2. 104\n",
       "\n",
       "\n",
       "\n",
       "\n",
       "\n",
       "\n",
       "$prop2\n",
       ":   $param1\n",
       ":   1. 105\n",
       "2. 106\n",
       "\n",
       "\n",
       "\n",
       "$param2\n",
       ":   1. 107\n",
       "2. 108\n",
       "\n",
       "\n",
       "\n",
       "\n",
       "\n",
       "\n",
       "\n",
       "\n",
       "\n",
       "$obj2\n",
       ":   $prop1\n",
       ":   $param1\n",
       ":   1. 109\n",
       "2. 110\n",
       "\n",
       "\n",
       "\n",
       "$param2\n",
       ":   1. 111\n",
       "2. 112\n",
       "\n",
       "\n",
       "\n",
       "\n",
       "\n",
       "\n",
       "$prop2\n",
       ":   $param1\n",
       ":   1. 112\n",
       "2. 113\n",
       "3. 114\n",
       "\n",
       "\n",
       "\n",
       "$param2\n",
       ":   1. 115\n",
       "2. 116\n",
       "3. 117\n",
       "\n",
       "\n",
       "\n",
       "\n",
       "\n",
       "\n",
       "\n",
       "\n",
       "\n",
       "\n",
       "\n"
      ],
      "text/plain": [
       "$obj1\n",
       "$obj1$prop1\n",
       "$obj1$prop1$param1\n",
       "[1] 101 102\n",
       "\n",
       "$obj1$prop1$param2\n",
       "[1] 103 104\n",
       "\n",
       "\n",
       "$obj1$prop2\n",
       "$obj1$prop2$param1\n",
       "[1] 105 106\n",
       "\n",
       "$obj1$prop2$param2\n",
       "[1] 107 108\n",
       "\n",
       "\n",
       "\n",
       "$obj2\n",
       "$obj2$prop1\n",
       "$obj2$prop1$param1\n",
       "[1] 109 110\n",
       "\n",
       "$obj2$prop1$param2\n",
       "[1] 111 112\n",
       "\n",
       "\n",
       "$obj2$prop2\n",
       "$obj2$prop2$param1\n",
       "[1] 112 113 114\n",
       "\n",
       "$obj2$prop2$param2\n",
       "[1] 115 116 117\n",
       "\n",
       "\n"
      ]
     },
     "metadata": {},
     "output_type": "display_data"
    }
   ],
   "source": [
    "# add 10 to each value of 'param1', 'param2'\n",
    "\n",
    "l1 %>% modify_depth(3, `+`, 100L)"
   ]
  },
  {
   "cell_type": "code",
   "execution_count": 65,
   "metadata": {},
   "outputs": [
    {
     "data": {
      "text/html": [
       "<dl>\n",
       "\t<dt>$obj1</dt>\n",
       "\t\t<dd><ol class=list-inline>\n",
       "\t<li>3</li>\n",
       "\t<li>4</li>\n",
       "</ol>\n",
       "</dd>\n",
       "\t<dt>$obj2</dt>\n",
       "\t\t<dd><ol class=list-inline>\n",
       "\t<li>11</li>\n",
       "\t<li>12</li>\n",
       "</ol>\n",
       "</dd>\n",
       "</dl>\n"
      ],
      "text/latex": [
       "\\begin{description}\n",
       "\\item[\\$obj1] \\begin{enumerate*}\n",
       "\\item 3\n",
       "\\item 4\n",
       "\\end{enumerate*}\n",
       "\n",
       "\\item[\\$obj2] \\begin{enumerate*}\n",
       "\\item 11\n",
       "\\item 12\n",
       "\\end{enumerate*}\n",
       "\n",
       "\\end{description}\n"
      ],
      "text/markdown": [
       "$obj1\n",
       ":   1. 3\n",
       "2. 4\n",
       "\n",
       "\n",
       "\n",
       "$obj2\n",
       ":   1. 11\n",
       "2. 12\n",
       "\n",
       "\n",
       "\n",
       "\n",
       "\n"
      ],
      "text/plain": [
       "$obj1\n",
       "[1] 3 4\n",
       "\n",
       "$obj2\n",
       "[1] 11 12\n"
      ]
     },
     "metadata": {},
     "output_type": "display_data"
    }
   ],
   "source": [
    "# modify() lets us pluck the elements prop1/param2 in obj1 and obj2:\n",
    "l1 %>% modify(c(\"prop1\", \"param2\"))"
   ]
  },
  {
   "cell_type": "code",
   "execution_count": 67,
   "metadata": {},
   "outputs": [
    {
     "name": "stdout",
     "output_type": "stream",
     "text": [
      "List of 2\n",
      " $ obj1:List of 2\n",
      "  ..$ prop1: int [1:2] 3 4\n",
      "  ..$ prop2: int [1:2] 7 8\n",
      " $ obj2:List of 2\n",
      "  ..$ prop1: int [1:2] 11 12\n",
      "  ..$ prop2: int [1:3] 15 16 17\n"
     ]
    }
   ],
   "source": [
    "# But what if we want to pluck all param2 elements? Then we need to\n",
    "# act at a lower level:\n",
    "l1 %>% modify_depth(2, \"param2\") %>% str()"
   ]
  }
 ],
 "metadata": {
  "kernelspec": {
   "display_name": "R",
   "language": "R",
   "name": "ir"
  },
  "language_info": {
   "codemirror_mode": "r",
   "file_extension": ".r",
   "mimetype": "text/x-r-source",
   "name": "R",
   "pygments_lexer": "r",
   "version": "3.6.1"
  }
 },
 "nbformat": 4,
 "nbformat_minor": 2
}
