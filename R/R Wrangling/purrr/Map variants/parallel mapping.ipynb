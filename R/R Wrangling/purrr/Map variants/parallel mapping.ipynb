{
 "cells": [
  {
   "cell_type": "code",
   "execution_count": 2,
   "metadata": {},
   "outputs": [],
   "source": [
    "library(tidyverse)"
   ]
  },
  {
   "cell_type": "markdown",
   "metadata": {},
   "source": [
    "**`map2()`** and **`walk2()`** are specialised for the two argument case;   \n",
    "**`pmap()`** and **`pwalk()`** allow you to provide any number of arguments in a list.   \n",
    "Note that a data frame is a very important special case, in which case **`pmap()`** and **`pwalk()`** apply the function `.f` to each **row**. "
   ]
  },
  {
   "cell_type": "markdown",
   "metadata": {},
   "source": [
    "# Map over multiple inputs simultaneously."
   ]
  },
  {
   "cell_type": "markdown",
   "metadata": {},
   "source": [
    "```r\n",
    "map2(.x, .y, .f, ...)\n",
    "\n",
    "map2_lgl(.x, .y, .f, ...)\n",
    "\n",
    "map2_int(.x, .y, .f, ...)\n",
    "\n",
    "map2_dbl(.x, .y, .f, ...)\n",
    "\n",
    "map2_chr(.x, .y, .f, ...)\n",
    "\n",
    "map2_raw(.x, .y, .f, ...)\n",
    "\n",
    "map2_dfr(.x, .y, .f, ..., .id = NULL)\n",
    "\n",
    "map2_dfc(.x, .y, .f, ...)\n",
    "\n",
    "walk2(.x, .y, .f, ...)\n",
    "\n",
    "pmap(.l, .f, ...)\n",
    "\n",
    "pmap_lgl(.l, .f, ...)\n",
    "\n",
    "pmap_int(.l, .f, ...)\n",
    "\n",
    "pmap_dbl(.l, .f, ...)\n",
    "\n",
    "pmap_chr(.l, .f, ...)\n",
    "\n",
    "pmap_raw(.l, .f, ...)\n",
    "\n",
    "pmap_dfr(.l, .f, ..., .id = NULL)\n",
    "\n",
    "pmap_dfc(.l, .f, ...)\n",
    "\n",
    "pwalk(.l, .f, ...)\n",
    "```"
   ]
  },
  {
   "cell_type": "markdown",
   "metadata": {},
   "source": [
    "# Examples"
   ]
  },
  {
   "cell_type": "markdown",
   "metadata": {},
   "source": [
    "### `map2()`"
   ]
  },
  {
   "cell_type": "code",
   "execution_count": 14,
   "metadata": {},
   "outputs": [
    {
     "data": {
      "text/html": [
       "<ol class=list-inline>\n",
       "\t<li>'VNC: Meomeo888'</li>\n",
       "\t<li>'Dirilis: ETOGRUL'</li>\n",
       "\t<li>'King Allool: xXx-Hadi-xXx'</li>\n",
       "</ol>\n"
      ],
      "text/latex": [
       "\\begin{enumerate*}\n",
       "\\item 'VNC: Meomeo888'\n",
       "\\item 'Dirilis: ETOGRUL'\n",
       "\\item 'King Allool: xXx-Hadi-xXx'\n",
       "\\end{enumerate*}\n"
      ],
      "text/markdown": [
       "1. 'VNC: Meomeo888'\n",
       "2. 'Dirilis: ETOGRUL'\n",
       "3. 'King Allool: xXx-Hadi-xXx'\n",
       "\n",
       "\n"
      ],
      "text/plain": [
       "[1] \"VNC: Meomeo888\"            \"Dirilis: ETOGRUL\"         \n",
       "[3] \"King Allool: xXx-Hadi-xXx\""
      ]
     },
     "metadata": {},
     "output_type": "display_data"
    }
   ],
   "source": [
    "clan <- c('VNC', 'Dirilis', 'King Allool')\n",
    "player <- c('Meomeo888', 'ETOGRUL', 'xXx-Hadi-xXx')\n",
    "country <- c('Vietnam', 'Sweeden', 'Siberia')\n",
    "\n",
    "# mapping over 2 list\n",
    "map2_chr(clan, player, ~ str_c(.x, ': ', .y))"
   ]
  },
  {
   "cell_type": "code",
   "execution_count": 13,
   "metadata": {},
   "outputs": [
    {
     "data": {
      "text/html": [
       "<ol class=list-inline>\n",
       "\t<li>'Vietnam: Meomeo888 (VNC)'</li>\n",
       "\t<li>'Sweeden: ETOGRUL (Dirilis)'</li>\n",
       "\t<li>'Siberia: xXx-Hadi-xXx (King Allool)'</li>\n",
       "</ol>\n"
      ],
      "text/latex": [
       "\\begin{enumerate*}\n",
       "\\item 'Vietnam: Meomeo888 (VNC)'\n",
       "\\item 'Sweeden: ETOGRUL (Dirilis)'\n",
       "\\item 'Siberia: xXx-Hadi-xXx (King Allool)'\n",
       "\\end{enumerate*}\n"
      ],
      "text/markdown": [
       "1. 'Vietnam: Meomeo888 (VNC)'\n",
       "2. 'Sweeden: ETOGRUL (Dirilis)'\n",
       "3. 'Siberia: xXx-Hadi-xXx (King Allool)'\n",
       "\n",
       "\n"
      ],
      "text/plain": [
       "[1] \"Vietnam: Meomeo888 (VNC)\"            \"Sweeden: ETOGRUL (Dirilis)\"         \n",
       "[3] \"Siberia: xXx-Hadi-xXx (King Allool)\""
      ]
     },
     "metadata": {},
     "output_type": "display_data"
    }
   ],
   "source": [
    "# mapping over multiple list\n",
    "\n",
    "list(clan, player, country) %>% pmap_chr(function(x, y, z) str_c(z, ': ', y, ' (', x,')'))\n",
    "\n"
   ]
  },
  {
   "cell_type": "markdown",
   "metadata": {},
   "source": [
    "### `pmap()`"
   ]
  },
  {
   "cell_type": "code",
   "execution_count": 19,
   "metadata": {},
   "outputs": [
    {
     "data": {
      "text/html": [
       "<table>\n",
       "<thead><tr><th scope=col>x</th><th scope=col>pattern</th><th scope=col>replacement</th></tr></thead>\n",
       "<tbody>\n",
       "\t<tr><td>apple </td><td>p     </td><td>P     </td></tr>\n",
       "\t<tr><td>banana</td><td>n     </td><td>N     </td></tr>\n",
       "\t<tr><td>cherry</td><td>h     </td><td>H     </td></tr>\n",
       "</tbody>\n",
       "</table>\n"
      ],
      "text/latex": [
       "\\begin{tabular}{r|lll}\n",
       " x & pattern & replacement\\\\\n",
       "\\hline\n",
       "\t apple  & p      & P     \\\\\n",
       "\t banana & n      & N     \\\\\n",
       "\t cherry & h      & H     \\\\\n",
       "\\end{tabular}\n"
      ],
      "text/markdown": [
       "\n",
       "| x | pattern | replacement |\n",
       "|---|---|---|\n",
       "| apple  | p      | P      |\n",
       "| banana | n      | N      |\n",
       "| cherry | h      | H      |\n",
       "\n"
      ],
      "text/plain": [
       "  x      pattern replacement\n",
       "1 apple  p       P          \n",
       "2 banana n       N          \n",
       "3 cherry h       H          "
      ]
     },
     "metadata": {},
     "output_type": "display_data"
    }
   ],
   "source": [
    "# Vectorizing a function over multiple arguments\n",
    "df <- data.frame(\n",
    "  x = c(\"apple\", \"banana\", \"cherry\"),\n",
    "  pattern = c(\"p\", \"n\", \"h\"),\n",
    "  replacement = c(\"P\", \"N\", \"H\"),\n",
    "  stringsAsFactors = FALSE)\n",
    "\n",
    "df"
   ]
  },
  {
   "cell_type": "code",
   "execution_count": 29,
   "metadata": {},
   "outputs": [
    {
     "data": {
      "text/html": [
       "<ol>\n",
       "\t<li>'aPPle'</li>\n",
       "\t<li>'baNaNa'</li>\n",
       "\t<li>'cHerry'</li>\n",
       "</ol>\n"
      ],
      "text/latex": [
       "\\begin{enumerate}\n",
       "\\item 'aPPle'\n",
       "\\item 'baNaNa'\n",
       "\\item 'cHerry'\n",
       "\\end{enumerate}\n"
      ],
      "text/markdown": [
       "1. 'aPPle'\n",
       "2. 'baNaNa'\n",
       "3. 'cHerry'\n",
       "\n",
       "\n"
      ],
      "text/plain": [
       "[[1]]\n",
       "[1] \"aPPle\"\n",
       "\n",
       "[[2]]\n",
       "[1] \"baNaNa\"\n",
       "\n",
       "[[3]]\n",
       "[1] \"cHerry\"\n"
      ]
     },
     "metadata": {},
     "output_type": "display_data"
    }
   ],
   "source": [
    "# each row is a list of argument\n",
    "df %>% pmap(gsub)"
   ]
  },
  {
   "cell_type": "code",
   "execution_count": 32,
   "metadata": {},
   "outputs": [
    {
     "data": {
      "text/html": [
       "<table>\n",
       "<thead><tr><th scope=col>col</th></tr></thead>\n",
       "<tbody>\n",
       "\t<tr><td>11</td></tr>\n",
       "\t<tr><td>13</td></tr>\n",
       "\t<tr><td>15</td></tr>\n",
       "\t<tr><td>17</td></tr>\n",
       "</tbody>\n",
       "</table>\n"
      ],
      "text/latex": [
       "\\begin{tabular}{r|l}\n",
       " col\\\\\n",
       "\\hline\n",
       "\t 11\\\\\n",
       "\t 13\\\\\n",
       "\t 15\\\\\n",
       "\t 17\\\\\n",
       "\\end{tabular}\n"
      ],
      "text/markdown": [
       "\n",
       "| col |\n",
       "|---|\n",
       "| 11 |\n",
       "| 13 |\n",
       "| 15 |\n",
       "| 17 |\n",
       "\n"
      ],
      "text/plain": [
       "  col\n",
       "1 11 \n",
       "2 13 \n",
       "3 15 \n",
       "4 17 "
      ]
     },
     "metadata": {},
     "output_type": "display_data"
    }
   ],
   "source": [
    "ex_fun <- function(arg1, arg2){\n",
    "col <- arg1 + arg2\n",
    "x <- as.data.frame(col)\n",
    "}\n",
    "arg1 <- 1:4\n",
    "arg2 <- 10:13\n",
    "map2_dfr(arg1, arg2, ex_fun)"
   ]
  },
  {
   "cell_type": "markdown",
   "metadata": {},
   "source": [
    "---"
   ]
  },
  {
   "cell_type": "markdown",
   "metadata": {},
   "source": [
    "Here, the column names are critical: I’ve carefully chosen to match them to the arguments to `runif()`, so the `pmap(params, runif)` is equivalent to `runif(n = 1L, min = 0, max = 1)`, `runif(n = 2, min = 10, max = 100)`, `runif(n = 3L, min = 100, max = 1000)`. (If you have a data frame in hand, and the names don’t match, use `dplyr::rename()` or similar.) "
   ]
  },
  {
   "cell_type": "markdown",
   "metadata": {},
   "source": [
    "Gereate 3 random uniform distributions:\n",
    "- `runif(1, min = 0, max = 1)`\n",
    "- `runif(2, min = 10, max = 100)`\n",
    "- `runif(3, min = 100, max = 1000)`"
   ]
  },
  {
   "cell_type": "code",
   "execution_count": 3,
   "metadata": {},
   "outputs": [],
   "source": [
    "params <- tibble::tribble(\n",
    "  ~ n, ~ min, ~ max,\n",
    "   1L,     0,     1,\n",
    "   2L,    10,   100,\n",
    "   3L,   100,  1000\n",
    ")\n"
   ]
  },
  {
   "cell_type": "code",
   "execution_count": 6,
   "metadata": {},
   "outputs": [
    {
     "data": {
      "text/html": [
       "<ol>\n",
       "\t<li>0.997827050974593</li>\n",
       "\t<li><ol class=list-inline>\n",
       "\t<li>29.7585687949322</li>\n",
       "\t<li>45.7874412974343</li>\n",
       "</ol>\n",
       "</li>\n",
       "\t<li><ol class=list-inline>\n",
       "\t<li>215.777978976257</li>\n",
       "\t<li>746.584911132231</li>\n",
       "\t<li>432.797739747912</li>\n",
       "</ol>\n",
       "</li>\n",
       "</ol>\n"
      ],
      "text/latex": [
       "\\begin{enumerate}\n",
       "\\item 0.997827050974593\n",
       "\\item \\begin{enumerate*}\n",
       "\\item 29.7585687949322\n",
       "\\item 45.7874412974343\n",
       "\\end{enumerate*}\n",
       "\n",
       "\\item \\begin{enumerate*}\n",
       "\\item 215.777978976257\n",
       "\\item 746.584911132231\n",
       "\\item 432.797739747912\n",
       "\\end{enumerate*}\n",
       "\n",
       "\\end{enumerate}\n"
      ],
      "text/markdown": [
       "1. 0.997827050974593\n",
       "2. 1. 29.7585687949322\n",
       "2. 45.7874412974343\n",
       "\n",
       "\n",
       "\n",
       "3. 1. 215.777978976257\n",
       "2. 746.584911132231\n",
       "3. 432.797739747912\n",
       "\n",
       "\n",
       "\n",
       "\n",
       "\n"
      ],
      "text/plain": [
       "[[1]]\n",
       "[1] 0.9978271\n",
       "\n",
       "[[2]]\n",
       "[1] 29.75857 45.78744\n",
       "\n",
       "[[3]]\n",
       "[1] 215.7780 746.5849 432.7977\n"
      ]
     },
     "metadata": {},
     "output_type": "display_data"
    }
   ],
   "source": [
    "params  %>% pmap(runif)"
   ]
  }
 ],
 "metadata": {
  "kernelspec": {
   "display_name": "R",
   "language": "R",
   "name": "ir"
  },
  "language_info": {
   "codemirror_mode": "r",
   "file_extension": ".r",
   "mimetype": "text/x-r-source",
   "name": "R",
   "pygments_lexer": "r",
   "version": "3.6.1"
  }
 },
 "nbformat": 4,
 "nbformat_minor": 2
}
