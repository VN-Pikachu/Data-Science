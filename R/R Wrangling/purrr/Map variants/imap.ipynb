{
 "cells": [
  {
   "cell_type": "code",
   "execution_count": 2,
   "metadata": {},
   "outputs": [],
   "source": [
    "library(tidyverse)"
   ]
  },
  {
   "cell_type": "markdown",
   "metadata": {},
   "source": [
    "# Apply a function to each element of a vector, and its index"
   ]
  },
  {
   "cell_type": "markdown",
   "metadata": {},
   "source": [
    "`imap_xxx(x, ...)`, an indexed map, is short hand for `map2(x, names(x), ...)` if x has names, or `map2(x, seq_along(x), ...)` if it does not. This is useful if you need to compute on both the value and the position of an element."
   ]
  },
  {
   "cell_type": "markdown",
   "metadata": {},
   "source": [
    "```r\n",
    "imap(.x, .f, ...)\n",
    "\n",
    "imap_lgl(.x, .f, ...)\n",
    "\n",
    "imap_chr(.x, .f, ...)\n",
    "\n",
    "imap_int(.x, .f, ...)\n",
    "\n",
    "imap_dbl(.x, .f, ...)\n",
    "\n",
    "imap_raw(.x, .f, ...)\n",
    "\n",
    "imap_dfr(.x, .f, ..., .id = NULL)\n",
    "\n",
    "imap_dfc(.x, .f, ...)\n",
    "\n",
    "iwalk(.x, .f, ...)\n",
    "```"
   ]
  },
  {
   "cell_type": "markdown",
   "metadata": {},
   "source": [
    "# Examples"
   ]
  },
  {
   "cell_type": "code",
   "execution_count": 6,
   "metadata": {},
   "outputs": [
    {
     "data": {
      "text/html": [
       "<ol class=list-inline>\n",
       "\t<li>'1. VN Pikachu'</li>\n",
       "\t<li>'2. Meomeo888'</li>\n",
       "\t<li>'3. Tank Cao'</li>\n",
       "</ol>\n"
      ],
      "text/latex": [
       "\\begin{enumerate*}\n",
       "\\item '1. VN Pikachu'\n",
       "\\item '2. Meomeo888'\n",
       "\\item '3. Tank Cao'\n",
       "\\end{enumerate*}\n"
      ],
      "text/markdown": [
       "1. '1. VN Pikachu'\n",
       "2. '2. Meomeo888'\n",
       "3. '3. Tank Cao'\n",
       "\n",
       "\n"
      ],
      "text/plain": [
       "[1] \"1. VN Pikachu\" \"2. Meomeo888\"  \"3. Tank Cao\"  "
      ]
     },
     "metadata": {},
     "output_type": "display_data"
    }
   ],
   "source": [
    "c('VN Pikachu', 'Meomeo888', 'Tank Cao') %>% imap_chr(function(value, index) str_c(index, '. ', value))"
   ]
  },
  {
   "cell_type": "code",
   "execution_count": 5,
   "metadata": {},
   "outputs": [
    {
     "data": {
      "text/html": [
       "<ol class=list-inline>\n",
       "\t<li>'1. VN Pikachu'</li>\n",
       "\t<li>'2. Meomeo888'</li>\n",
       "\t<li>'3. Tank Cao'</li>\n",
       "</ol>\n"
      ],
      "text/latex": [
       "\\begin{enumerate*}\n",
       "\\item '1. VN Pikachu'\n",
       "\\item '2. Meomeo888'\n",
       "\\item '3. Tank Cao'\n",
       "\\end{enumerate*}\n"
      ],
      "text/markdown": [
       "1. '1. VN Pikachu'\n",
       "2. '2. Meomeo888'\n",
       "3. '3. Tank Cao'\n",
       "\n",
       "\n"
      ],
      "text/plain": [
       "[1] \"1. VN Pikachu\" \"2. Meomeo888\"  \"3. Tank Cao\"  "
      ]
     },
     "metadata": {},
     "output_type": "display_data"
    }
   ],
   "source": [
    "# equivalently, using a formula\n",
    "c('VN Pikachu', 'Meomeo888', 'Tank Cao') %>% imap_chr(~ str_c(.y, '. ', .x))"
   ]
  },
  {
   "cell_type": "markdown",
   "metadata": {},
   "source": [
    "Apply to a named list or a named vector"
   ]
  },
  {
   "cell_type": "code",
   "execution_count": 7,
   "metadata": {},
   "outputs": [],
   "source": [
    "avendor <- list(\n",
    "    brand = 'Lamborgini',\n",
    "    type = 'car',\n",
    "    cost = 250000,\n",
    "    unit = 'USD'\n",
    ")\n",
    "\n"
   ]
  },
  {
   "cell_type": "code",
   "execution_count": 13,
   "metadata": {},
   "outputs": [
    {
     "data": {
      "text/html": [
       "<dl>\n",
       "\t<dt>$brand</dt>\n",
       "\t\t<dd>'brand. Lamborgini'</dd>\n",
       "\t<dt>$type</dt>\n",
       "\t\t<dd>'type. car'</dd>\n",
       "\t<dt>$cost</dt>\n",
       "\t\t<dd>'cost. 250000'</dd>\n",
       "\t<dt>$unit</dt>\n",
       "\t\t<dd>'unit. USD'</dd>\n",
       "</dl>\n"
      ],
      "text/latex": [
       "\\begin{description}\n",
       "\\item[\\$brand] 'brand. Lamborgini'\n",
       "\\item[\\$type] 'type. car'\n",
       "\\item[\\$cost] 'cost. 250000'\n",
       "\\item[\\$unit] 'unit. USD'\n",
       "\\end{description}\n"
      ],
      "text/markdown": [
       "$brand\n",
       ":   'brand. Lamborgini'\n",
       "$type\n",
       ":   'type. car'\n",
       "$cost\n",
       ":   'cost. 250000'\n",
       "$unit\n",
       ":   'unit. USD'\n",
       "\n",
       "\n"
      ],
      "text/plain": [
       "$brand\n",
       "[1] \"brand. Lamborgini\"\n",
       "\n",
       "$type\n",
       "[1] \"type. car\"\n",
       "\n",
       "$cost\n",
       "[1] \"cost. 250000\"\n",
       "\n",
       "$unit\n",
       "[1] \"unit. USD\"\n"
      ]
     },
     "metadata": {},
     "output_type": "display_data"
    }
   ],
   "source": [
    "avendor %>% imap(function(value, index) str_c(index, '. ', value)) "
   ]
  },
  {
   "cell_type": "code",
   "execution_count": null,
   "metadata": {},
   "outputs": [],
   "source": []
  }
 ],
 "metadata": {
  "kernelspec": {
   "display_name": "R",
   "language": "R",
   "name": "ir"
  },
  "language_info": {
   "codemirror_mode": "r",
   "file_extension": ".r",
   "mimetype": "text/x-r-source",
   "name": "R",
   "pygments_lexer": "r",
   "version": "3.6.1"
  }
 },
 "nbformat": 4,
 "nbformat_minor": 2
}
