{
 "cells": [
  {
   "cell_type": "code",
   "execution_count": 2,
   "metadata": {},
   "outputs": [],
   "source": [
    "library(tidyverse)"
   ]
  },
  {
   "cell_type": "markdown",
   "metadata": {},
   "source": [
    "# Convert input to a factor"
   ]
  },
  {
   "cell_type": "markdown",
   "metadata": {},
   "source": [
    "Compared to base R, when x is a character, this function creates levels in the order in which they appear, which will be the same on every platform. (Base R sorts in the current locale which can vary from place to place.) When x is numeric, the ordering is based on the numeric value and consistent with base R."
   ]
  },
  {
   "cell_type": "markdown",
   "metadata": {},
   "source": [
    "```r\n",
    "as_factor(x, ...)\n",
    "\n",
    "# S3 method for factor\n",
    "as_factor(x, ...)\n",
    "\n",
    "# S3 method for character\n",
    "as_factor(x, ...)\n",
    "\n",
    "# S3 method for numeric\n",
    "as_factor(x, ...)\n",
    "\n",
    "# S3 method for logical\n",
    "as_factor(x, ...)\n",
    "```"
   ]
  },
  {
   "cell_type": "markdown",
   "metadata": {},
   "source": [
    "# Examples"
   ]
  },
  {
   "cell_type": "markdown",
   "metadata": {},
   "source": [
    "Character object:"
   ]
  },
  {
   "cell_type": "code",
   "execution_count": 3,
   "metadata": {},
   "outputs": [
    {
     "data": {
      "text/html": [
       "<ol class=list-inline>\n",
       "\t<li>a</li>\n",
       "\t<li>z</li>\n",
       "\t<li>g</li>\n",
       "</ol>\n",
       "\n",
       "<details>\n",
       "\t<summary style=display:list-item;cursor:pointer>\n",
       "\t\t<strong>Levels</strong>:\n",
       "\t</summary>\n",
       "\t<ol class=list-inline>\n",
       "\t\t<li>'a'</li>\n",
       "\t\t<li>'g'</li>\n",
       "\t\t<li>'z'</li>\n",
       "\t</ol>\n",
       "</details>"
      ],
      "text/latex": [
       "\\begin{enumerate*}\n",
       "\\item a\n",
       "\\item z\n",
       "\\item g\n",
       "\\end{enumerate*}\n",
       "\n",
       "\\emph{Levels}: \\begin{enumerate*}\n",
       "\\item 'a'\n",
       "\\item 'g'\n",
       "\\item 'z'\n",
       "\\end{enumerate*}\n"
      ],
      "text/markdown": [
       "1. a\n",
       "2. z\n",
       "3. g\n",
       "\n",
       "\n",
       "\n",
       "**Levels**: 1. 'a'\n",
       "2. 'g'\n",
       "3. 'z'\n",
       "\n",
       "\n"
      ],
      "text/plain": [
       "[1] a z g\n",
       "Levels: a g z"
      ]
     },
     "metadata": {},
     "output_type": "display_data"
    },
    {
     "data": {
      "text/html": [
       "<ol class=list-inline>\n",
       "\t<li>a</li>\n",
       "\t<li>z</li>\n",
       "\t<li>g</li>\n",
       "</ol>\n",
       "\n",
       "<details>\n",
       "\t<summary style=display:list-item;cursor:pointer>\n",
       "\t\t<strong>Levels</strong>:\n",
       "\t</summary>\n",
       "\t<ol class=list-inline>\n",
       "\t\t<li>'a'</li>\n",
       "\t\t<li>'z'</li>\n",
       "\t\t<li>'g'</li>\n",
       "\t</ol>\n",
       "</details>"
      ],
      "text/latex": [
       "\\begin{enumerate*}\n",
       "\\item a\n",
       "\\item z\n",
       "\\item g\n",
       "\\end{enumerate*}\n",
       "\n",
       "\\emph{Levels}: \\begin{enumerate*}\n",
       "\\item 'a'\n",
       "\\item 'z'\n",
       "\\item 'g'\n",
       "\\end{enumerate*}\n"
      ],
      "text/markdown": [
       "1. a\n",
       "2. z\n",
       "3. g\n",
       "\n",
       "\n",
       "\n",
       "**Levels**: 1. 'a'\n",
       "2. 'z'\n",
       "3. 'g'\n",
       "\n",
       "\n"
      ],
      "text/plain": [
       "[1] a z g\n",
       "Levels: a z g"
      ]
     },
     "metadata": {},
     "output_type": "display_data"
    }
   ],
   "source": [
    "x <- c(\"a\", \"z\", \"g\")\n",
    "\n",
    "as.factor(x)\n",
    "\n",
    "as_factor(x)"
   ]
  },
  {
   "cell_type": "markdown",
   "metadata": {},
   "source": [
    "Character object containing numbers"
   ]
  },
  {
   "cell_type": "code",
   "execution_count": 4,
   "metadata": {},
   "outputs": [
    {
     "data": {
      "text/html": [
       "<ol class=list-inline>\n",
       "\t<li>1.1</li>\n",
       "\t<li>11</li>\n",
       "\t<li>2.2</li>\n",
       "\t<li>22</li>\n",
       "</ol>\n",
       "\n",
       "<details>\n",
       "\t<summary style=display:list-item;cursor:pointer>\n",
       "\t\t<strong>Levels</strong>:\n",
       "\t</summary>\n",
       "\t<ol class=list-inline>\n",
       "\t\t<li>'1.1'</li>\n",
       "\t\t<li>'11'</li>\n",
       "\t\t<li>'2.2'</li>\n",
       "\t\t<li>'22'</li>\n",
       "\t</ol>\n",
       "</details>"
      ],
      "text/latex": [
       "\\begin{enumerate*}\n",
       "\\item 1.1\n",
       "\\item 11\n",
       "\\item 2.2\n",
       "\\item 22\n",
       "\\end{enumerate*}\n",
       "\n",
       "\\emph{Levels}: \\begin{enumerate*}\n",
       "\\item '1.1'\n",
       "\\item '11'\n",
       "\\item '2.2'\n",
       "\\item '22'\n",
       "\\end{enumerate*}\n"
      ],
      "text/markdown": [
       "1. 1.1\n",
       "2. 11\n",
       "3. 2.2\n",
       "4. 22\n",
       "\n",
       "\n",
       "\n",
       "**Levels**: 1. '1.1'\n",
       "2. '11'\n",
       "3. '2.2'\n",
       "4. '22'\n",
       "\n",
       "\n"
      ],
      "text/plain": [
       "[1] 1.1 11  2.2 22 \n",
       "Levels: 1.1 11 2.2 22"
      ]
     },
     "metadata": {},
     "output_type": "display_data"
    },
    {
     "data": {
      "text/html": [
       "<ol class=list-inline>\n",
       "\t<li>1.1</li>\n",
       "\t<li>11</li>\n",
       "\t<li>2.2</li>\n",
       "\t<li>22</li>\n",
       "</ol>\n",
       "\n",
       "<details>\n",
       "\t<summary style=display:list-item;cursor:pointer>\n",
       "\t\t<strong>Levels</strong>:\n",
       "\t</summary>\n",
       "\t<ol class=list-inline>\n",
       "\t\t<li>'1.1'</li>\n",
       "\t\t<li>'11'</li>\n",
       "\t\t<li>'2.2'</li>\n",
       "\t\t<li>'22'</li>\n",
       "\t</ol>\n",
       "</details>"
      ],
      "text/latex": [
       "\\begin{enumerate*}\n",
       "\\item 1.1\n",
       "\\item 11\n",
       "\\item 2.2\n",
       "\\item 22\n",
       "\\end{enumerate*}\n",
       "\n",
       "\\emph{Levels}: \\begin{enumerate*}\n",
       "\\item '1.1'\n",
       "\\item '11'\n",
       "\\item '2.2'\n",
       "\\item '22'\n",
       "\\end{enumerate*}\n"
      ],
      "text/markdown": [
       "1. 1.1\n",
       "2. 11\n",
       "3. 2.2\n",
       "4. 22\n",
       "\n",
       "\n",
       "\n",
       "**Levels**: 1. '1.1'\n",
       "2. '11'\n",
       "3. '2.2'\n",
       "4. '22'\n",
       "\n",
       "\n"
      ],
      "text/plain": [
       "[1] 1.1 11  2.2 22 \n",
       "Levels: 1.1 11 2.2 22"
      ]
     },
     "metadata": {},
     "output_type": "display_data"
    }
   ],
   "source": [
    "y <- c(\"1.1\", \"11\", \"2.2\", \"22\")\n",
    "\n",
    "as.factor(y)\n",
    "\n",
    "as_factor(y)"
   ]
  },
  {
   "cell_type": "markdown",
   "metadata": {},
   "source": [
    "Numeric object: "
   ]
  },
  {
   "cell_type": "code",
   "execution_count": 5,
   "metadata": {},
   "outputs": [
    {
     "data": {
      "text/html": [
       "<ol class=list-inline>\n",
       "\t<li>1.1</li>\n",
       "\t<li>11</li>\n",
       "\t<li>2.2</li>\n",
       "\t<li>22</li>\n",
       "</ol>\n",
       "\n",
       "<details>\n",
       "\t<summary style=display:list-item;cursor:pointer>\n",
       "\t\t<strong>Levels</strong>:\n",
       "\t</summary>\n",
       "\t<ol class=list-inline>\n",
       "\t\t<li>'1.1'</li>\n",
       "\t\t<li>'2.2'</li>\n",
       "\t\t<li>'11'</li>\n",
       "\t\t<li>'22'</li>\n",
       "\t</ol>\n",
       "</details>"
      ],
      "text/latex": [
       "\\begin{enumerate*}\n",
       "\\item 1.1\n",
       "\\item 11\n",
       "\\item 2.2\n",
       "\\item 22\n",
       "\\end{enumerate*}\n",
       "\n",
       "\\emph{Levels}: \\begin{enumerate*}\n",
       "\\item '1.1'\n",
       "\\item '2.2'\n",
       "\\item '11'\n",
       "\\item '22'\n",
       "\\end{enumerate*}\n"
      ],
      "text/markdown": [
       "1. 1.1\n",
       "2. 11\n",
       "3. 2.2\n",
       "4. 22\n",
       "\n",
       "\n",
       "\n",
       "**Levels**: 1. '1.1'\n",
       "2. '2.2'\n",
       "3. '11'\n",
       "4. '22'\n",
       "\n",
       "\n"
      ],
      "text/plain": [
       "[1] 1.1 11  2.2 22 \n",
       "Levels: 1.1 2.2 11 22"
      ]
     },
     "metadata": {},
     "output_type": "display_data"
    },
    {
     "data": {
      "text/html": [
       "<ol class=list-inline>\n",
       "\t<li>1.1</li>\n",
       "\t<li>11</li>\n",
       "\t<li>2.2</li>\n",
       "\t<li>22</li>\n",
       "</ol>\n",
       "\n",
       "<details>\n",
       "\t<summary style=display:list-item;cursor:pointer>\n",
       "\t\t<strong>Levels</strong>:\n",
       "\t</summary>\n",
       "\t<ol class=list-inline>\n",
       "\t\t<li>'1.1'</li>\n",
       "\t\t<li>'2.2'</li>\n",
       "\t\t<li>'11'</li>\n",
       "\t\t<li>'22'</li>\n",
       "\t</ol>\n",
       "</details>"
      ],
      "text/latex": [
       "\\begin{enumerate*}\n",
       "\\item 1.1\n",
       "\\item 11\n",
       "\\item 2.2\n",
       "\\item 22\n",
       "\\end{enumerate*}\n",
       "\n",
       "\\emph{Levels}: \\begin{enumerate*}\n",
       "\\item '1.1'\n",
       "\\item '2.2'\n",
       "\\item '11'\n",
       "\\item '22'\n",
       "\\end{enumerate*}\n"
      ],
      "text/markdown": [
       "1. 1.1\n",
       "2. 11\n",
       "3. 2.2\n",
       "4. 22\n",
       "\n",
       "\n",
       "\n",
       "**Levels**: 1. '1.1'\n",
       "2. '2.2'\n",
       "3. '11'\n",
       "4. '22'\n",
       "\n",
       "\n"
      ],
      "text/plain": [
       "[1] 1.1 11  2.2 22 \n",
       "Levels: 1.1 2.2 11 22"
      ]
     },
     "metadata": {},
     "output_type": "display_data"
    }
   ],
   "source": [
    "z <- as.numeric(y)\n",
    "\n",
    "as.factor(z)\n",
    "\n",
    "as_factor(z)"
   ]
  }
 ],
 "metadata": {
  "kernelspec": {
   "display_name": "R",
   "language": "R",
   "name": "ir"
  },
  "language_info": {
   "codemirror_mode": "r",
   "file_extension": ".r",
   "mimetype": "text/x-r-source",
   "name": "R",
   "pygments_lexer": "r",
   "version": "3.6.1"
  }
 },
 "nbformat": 4,
 "nbformat_minor": 2
}
