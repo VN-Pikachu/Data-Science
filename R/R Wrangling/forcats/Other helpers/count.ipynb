{
 "cells": [
  {
   "cell_type": "code",
   "execution_count": 2,
   "metadata": {},
   "outputs": [],
   "source": [
    "library(tidyverse)"
   ]
  },
  {
   "cell_type": "markdown",
   "metadata": {},
   "source": [
    "# Count entries in a factor"
   ]
  },
  {
   "cell_type": "markdown",
   "metadata": {},
   "source": [
    "Count entries in a factor\n",
    "```r\n",
    "fct_count(f, sort = FALSE, prop = FALSE)\n",
    "```\n",
    "\n",
    "**Arguments**  \n",
    "`f`\t\n",
    "A factor (or character vector).\n",
    "\n",
    "`sort`\t\n",
    "If TRUE, sort the result so that the most common values float to the top.\n",
    "\n",
    "`prop`\t\n",
    "If TRUE, compute the fraction of marginal table."
   ]
  },
  {
   "cell_type": "markdown",
   "metadata": {},
   "source": [
    "# Examples"
   ]
  },
  {
   "cell_type": "code",
   "execution_count": 3,
   "metadata": {},
   "outputs": [],
   "source": [
    "fruits <- factor(c('Apple', 'Apple', 'Banana', 'Durian', 'Durian', 'Durian'))"
   ]
  },
  {
   "cell_type": "code",
   "execution_count": 4,
   "metadata": {},
   "outputs": [
    {
     "data": {
      "text/html": [
       "<table>\n",
       "<thead><tr><th scope=col>f</th><th scope=col>n</th></tr></thead>\n",
       "<tbody>\n",
       "\t<tr><td>Durian</td><td>3     </td></tr>\n",
       "\t<tr><td>Apple </td><td>2     </td></tr>\n",
       "\t<tr><td>Banana</td><td>1     </td></tr>\n",
       "</tbody>\n",
       "</table>\n"
      ],
      "text/latex": [
       "\\begin{tabular}{r|ll}\n",
       " f & n\\\\\n",
       "\\hline\n",
       "\t Durian & 3     \\\\\n",
       "\t Apple  & 2     \\\\\n",
       "\t Banana & 1     \\\\\n",
       "\\end{tabular}\n"
      ],
      "text/markdown": [
       "\n",
       "| f | n |\n",
       "|---|---|\n",
       "| Durian | 3      |\n",
       "| Apple  | 2      |\n",
       "| Banana | 1      |\n",
       "\n"
      ],
      "text/plain": [
       "  f      n\n",
       "1 Durian 3\n",
       "2 Apple  2\n",
       "3 Banana 1"
      ]
     },
     "metadata": {},
     "output_type": "display_data"
    }
   ],
   "source": [
    "# calculate the frequency of each category, sort result by frequency\n",
    "\n",
    "fruits %>% fct_count(sort = T)"
   ]
  },
  {
   "cell_type": "code",
   "execution_count": 5,
   "metadata": {},
   "outputs": [
    {
     "data": {
      "text/html": [
       "<table>\n",
       "<thead><tr><th scope=col>f</th><th scope=col>n</th><th scope=col>p</th></tr></thead>\n",
       "<tbody>\n",
       "\t<tr><td>Apple    </td><td>2        </td><td>0.3333333</td></tr>\n",
       "\t<tr><td>Banana   </td><td>1        </td><td>0.1666667</td></tr>\n",
       "\t<tr><td>Durian   </td><td>3        </td><td>0.5000000</td></tr>\n",
       "</tbody>\n",
       "</table>\n"
      ],
      "text/latex": [
       "\\begin{tabular}{r|lll}\n",
       " f & n & p\\\\\n",
       "\\hline\n",
       "\t Apple     & 2         & 0.3333333\\\\\n",
       "\t Banana    & 1         & 0.1666667\\\\\n",
       "\t Durian    & 3         & 0.5000000\\\\\n",
       "\\end{tabular}\n"
      ],
      "text/markdown": [
       "\n",
       "| f | n | p |\n",
       "|---|---|---|\n",
       "| Apple     | 2         | 0.3333333 |\n",
       "| Banana    | 1         | 0.1666667 |\n",
       "| Durian    | 3         | 0.5000000 |\n",
       "\n"
      ],
      "text/plain": [
       "  f      n p        \n",
       "1 Apple  2 0.3333333\n",
       "2 Banana 1 0.1666667\n",
       "3 Durian 3 0.5000000"
      ]
     },
     "metadata": {},
     "output_type": "display_data"
    }
   ],
   "source": [
    "# Relative frequency\n",
    "fruits %>% fct_count(prop = T)"
   ]
  }
 ],
 "metadata": {
  "kernelspec": {
   "display_name": "R",
   "language": "R",
   "name": "ir"
  },
  "language_info": {
   "codemirror_mode": "r",
   "file_extension": ".r",
   "mimetype": "text/x-r-source",
   "name": "R",
   "pygments_lexer": "r",
   "version": "3.6.1"
  }
 },
 "nbformat": 4,
 "nbformat_minor": 2
}
