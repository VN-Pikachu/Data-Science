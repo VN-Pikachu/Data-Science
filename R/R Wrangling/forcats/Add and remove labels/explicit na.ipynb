{
 "cells": [
  {
   "cell_type": "code",
   "execution_count": 2,
   "metadata": {},
   "outputs": [],
   "source": [
    "library(tidyverse)"
   ]
  },
  {
   "cell_type": "markdown",
   "metadata": {},
   "source": [
    "# Make missing values explicit"
   ]
  },
  {
   "cell_type": "markdown",
   "metadata": {},
   "source": [
    "This gives missing values an explicit factor level, ensuring that they appear in summaries and on plots.\n",
    "```r\n",
    "fct_explicit_na(f, na_level = \"(Missing)\")\n",
    "```\n",
    "**Arguments**  \n",
    "`f`\t\n",
    "A factor (or character vector).\n",
    "\n",
    "`na_level`\t\n",
    "Level to use for missing values: this is what NAs will be changed to."
   ]
  },
  {
   "cell_type": "markdown",
   "metadata": {},
   "source": [
    "# Examples"
   ]
  },
  {
   "cell_type": "code",
   "execution_count": 5,
   "metadata": {},
   "outputs": [
    {
     "data": {
      "text/html": [
       "<ol class=list-inline>\n",
       "\t<li>Apple</li>\n",
       "\t<li>Banana</li>\n",
       "\t<li>&lt;NA&gt;</li>\n",
       "</ol>\n",
       "\n",
       "<details>\n",
       "\t<summary style=display:list-item;cursor:pointer>\n",
       "\t\t<strong>Levels</strong>:\n",
       "\t</summary>\n",
       "\t<ol class=list-inline>\n",
       "\t\t<li>'Apple'</li>\n",
       "\t\t<li>'Banana'</li>\n",
       "\t</ol>\n",
       "</details>"
      ],
      "text/latex": [
       "\\begin{enumerate*}\n",
       "\\item Apple\n",
       "\\item Banana\n",
       "\\item <NA>\n",
       "\\end{enumerate*}\n",
       "\n",
       "\\emph{Levels}: \\begin{enumerate*}\n",
       "\\item 'Apple'\n",
       "\\item 'Banana'\n",
       "\\end{enumerate*}\n"
      ],
      "text/markdown": [
       "1. Apple\n",
       "2. Banana\n",
       "3. &lt;NA&gt;\n",
       "\n",
       "\n",
       "\n",
       "**Levels**: 1. 'Apple'\n",
       "2. 'Banana'\n",
       "\n",
       "\n"
      ],
      "text/plain": [
       "[1] Apple  Banana <NA>  \n",
       "Levels: Apple Banana"
      ]
     },
     "metadata": {},
     "output_type": "display_data"
    },
    {
     "data": {
      "text/html": [
       "<ol class=list-inline>\n",
       "\t<li>'Apple'</li>\n",
       "\t<li>'Banana'</li>\n",
       "</ol>\n"
      ],
      "text/latex": [
       "\\begin{enumerate*}\n",
       "\\item 'Apple'\n",
       "\\item 'Banana'\n",
       "\\end{enumerate*}\n"
      ],
      "text/markdown": [
       "1. 'Apple'\n",
       "2. 'Banana'\n",
       "\n",
       "\n"
      ],
      "text/plain": [
       "[1] \"Apple\"  \"Banana\""
      ]
     },
     "metadata": {},
     "output_type": "display_data"
    }
   ],
   "source": [
    "fruits <- factor(c('Apple', 'Banana', NA))\n",
    "\n",
    "fruits\n",
    "\n",
    "fruits %>% levels()"
   ]
  },
  {
   "cell_type": "code",
   "execution_count": 6,
   "metadata": {},
   "outputs": [
    {
     "data": {
      "text/html": [
       "<ol class=list-inline>\n",
       "\t<li>Apple</li>\n",
       "\t<li>Banana</li>\n",
       "\t<li>(Missing)</li>\n",
       "</ol>\n",
       "\n",
       "<details>\n",
       "\t<summary style=display:list-item;cursor:pointer>\n",
       "\t\t<strong>Levels</strong>:\n",
       "\t</summary>\n",
       "\t<ol class=list-inline>\n",
       "\t\t<li>'Apple'</li>\n",
       "\t\t<li>'Banana'</li>\n",
       "\t\t<li>'(Missing)'</li>\n",
       "\t</ol>\n",
       "</details>"
      ],
      "text/latex": [
       "\\begin{enumerate*}\n",
       "\\item Apple\n",
       "\\item Banana\n",
       "\\item (Missing)\n",
       "\\end{enumerate*}\n",
       "\n",
       "\\emph{Levels}: \\begin{enumerate*}\n",
       "\\item 'Apple'\n",
       "\\item 'Banana'\n",
       "\\item '(Missing)'\n",
       "\\end{enumerate*}\n"
      ],
      "text/markdown": [
       "1. Apple\n",
       "2. Banana\n",
       "3. (Missing)\n",
       "\n",
       "\n",
       "\n",
       "**Levels**: 1. 'Apple'\n",
       "2. 'Banana'\n",
       "3. '(Missing)'\n",
       "\n",
       "\n"
      ],
      "text/plain": [
       "[1] Apple     Banana    (Missing)\n",
       "Levels: Apple Banana (Missing)"
      ]
     },
     "metadata": {},
     "output_type": "display_data"
    },
    {
     "data": {
      "text/html": [
       "<ol class=list-inline>\n",
       "\t<li>'Apple'</li>\n",
       "\t<li>'Banana'</li>\n",
       "\t<li>'(Missing)'</li>\n",
       "</ol>\n"
      ],
      "text/latex": [
       "\\begin{enumerate*}\n",
       "\\item 'Apple'\n",
       "\\item 'Banana'\n",
       "\\item '(Missing)'\n",
       "\\end{enumerate*}\n"
      ],
      "text/markdown": [
       "1. 'Apple'\n",
       "2. 'Banana'\n",
       "3. '(Missing)'\n",
       "\n",
       "\n"
      ],
      "text/plain": [
       "[1] \"Apple\"     \"Banana\"    \"(Missing)\""
      ]
     },
     "metadata": {},
     "output_type": "display_data"
    }
   ],
   "source": [
    "# change <NA> to \"(missing)\" (default)\n",
    "\n",
    "fruits_1 <- fruits %>% fct_explicit_na()\n",
    "\n",
    "fruits_1\n",
    "\n",
    "fruits_1 %>% levels()"
   ]
  },
  {
   "cell_type": "code",
   "execution_count": 8,
   "metadata": {},
   "outputs": [
    {
     "data": {
      "text/html": [
       "<ol class=list-inline>\n",
       "\t<li>Apple</li>\n",
       "\t<li>Banana</li>\n",
       "\t<li>&lt;unknown&gt;</li>\n",
       "</ol>\n",
       "\n",
       "<details>\n",
       "\t<summary style=display:list-item;cursor:pointer>\n",
       "\t\t<strong>Levels</strong>:\n",
       "\t</summary>\n",
       "\t<ol class=list-inline>\n",
       "\t\t<li>'Apple'</li>\n",
       "\t\t<li>'Banana'</li>\n",
       "\t\t<li>'&lt;unknown&gt;'</li>\n",
       "\t</ol>\n",
       "</details>"
      ],
      "text/latex": [
       "\\begin{enumerate*}\n",
       "\\item Apple\n",
       "\\item Banana\n",
       "\\item <unknown>\n",
       "\\end{enumerate*}\n",
       "\n",
       "\\emph{Levels}: \\begin{enumerate*}\n",
       "\\item 'Apple'\n",
       "\\item 'Banana'\n",
       "\\item '<unknown>'\n",
       "\\end{enumerate*}\n"
      ],
      "text/markdown": [
       "1. Apple\n",
       "2. Banana\n",
       "3. &lt;unknown&gt;\n",
       "\n",
       "\n",
       "\n",
       "**Levels**: 1. 'Apple'\n",
       "2. 'Banana'\n",
       "3. '&lt;unknown&gt;'\n",
       "\n",
       "\n"
      ],
      "text/plain": [
       "[1] Apple     Banana    <unknown>\n",
       "Levels: Apple Banana <unknown>"
      ]
     },
     "metadata": {},
     "output_type": "display_data"
    },
    {
     "data": {
      "text/html": [
       "<ol class=list-inline>\n",
       "\t<li>'Apple'</li>\n",
       "\t<li>'Banana'</li>\n",
       "\t<li>'&lt;unknown&gt;'</li>\n",
       "</ol>\n"
      ],
      "text/latex": [
       "\\begin{enumerate*}\n",
       "\\item 'Apple'\n",
       "\\item 'Banana'\n",
       "\\item '<unknown>'\n",
       "\\end{enumerate*}\n"
      ],
      "text/markdown": [
       "1. 'Apple'\n",
       "2. 'Banana'\n",
       "3. '&lt;unknown&gt;'\n",
       "\n",
       "\n"
      ],
      "text/plain": [
       "[1] \"Apple\"     \"Banana\"    \"<unknown>\""
      ]
     },
     "metadata": {},
     "output_type": "display_data"
    }
   ],
   "source": [
    "# change <NA> to '<unknown>'\n",
    "fruits_2 <- fruits %>% fct_explicit_na('<unknown>')\n",
    "\n",
    "fruits_2\n",
    "\n",
    "fruits_2 %>% levels()"
   ]
  },
  {
   "cell_type": "code",
   "execution_count": null,
   "metadata": {},
   "outputs": [],
   "source": []
  }
 ],
 "metadata": {
  "kernelspec": {
   "display_name": "R",
   "language": "R",
   "name": "ir"
  },
  "language_info": {
   "codemirror_mode": "r",
   "file_extension": ".r",
   "mimetype": "text/x-r-source",
   "name": "R",
   "pygments_lexer": "r",
   "version": "3.6.1"
  }
 },
 "nbformat": 4,
 "nbformat_minor": 2
}
