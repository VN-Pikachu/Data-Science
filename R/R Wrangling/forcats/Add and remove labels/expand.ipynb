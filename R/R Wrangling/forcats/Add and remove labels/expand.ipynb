{
 "cells": [
  {
   "cell_type": "code",
   "execution_count": 2,
   "metadata": {},
   "outputs": [],
   "source": [
    "library(tidyverse)"
   ]
  },
  {
   "cell_type": "markdown",
   "metadata": {},
   "source": [
    "# Add additional levels to a factor"
   ]
  },
  {
   "cell_type": "markdown",
   "metadata": {},
   "source": [
    "Add additional levels to a factor\n",
    "```r\n",
    "fct_expand(f, ...)\n",
    "```\n",
    "**Arguments**  \n",
    "`f`\t\n",
    "A factor (or character vector).\n",
    "\n",
    "`...`\t\n",
    "Additional levels to add to the factor. Levels that already exist will be silently ignored."
   ]
  },
  {
   "cell_type": "markdown",
   "metadata": {},
   "source": [
    "# Examples"
   ]
  },
  {
   "cell_type": "code",
   "execution_count": 5,
   "metadata": {},
   "outputs": [
    {
     "data": {
      "text/html": [
       "<ol class=list-inline>\n",
       "\t<li>'Apple'</li>\n",
       "\t<li>'Banana'</li>\n",
       "</ol>\n"
      ],
      "text/latex": [
       "\\begin{enumerate*}\n",
       "\\item 'Apple'\n",
       "\\item 'Banana'\n",
       "\\end{enumerate*}\n"
      ],
      "text/markdown": [
       "1. 'Apple'\n",
       "2. 'Banana'\n",
       "\n",
       "\n"
      ],
      "text/plain": [
       "[1] \"Apple\"  \"Banana\""
      ]
     },
     "metadata": {},
     "output_type": "display_data"
    }
   ],
   "source": [
    "fruits <- factor(c('Apple', 'Banana'))\n",
    "\n",
    "fruits %>% levels()"
   ]
  },
  {
   "cell_type": "code",
   "execution_count": 6,
   "metadata": {},
   "outputs": [
    {
     "data": {
      "text/html": [
       "<ol class=list-inline>\n",
       "\t<li>'Apple'</li>\n",
       "\t<li>'Banana'</li>\n",
       "\t<li>'Water Melon'</li>\n",
       "\t<li>'Durian'</li>\n",
       "\t<li>'Pine Apple'</li>\n",
       "</ol>\n"
      ],
      "text/latex": [
       "\\begin{enumerate*}\n",
       "\\item 'Apple'\n",
       "\\item 'Banana'\n",
       "\\item 'Water Melon'\n",
       "\\item 'Durian'\n",
       "\\item 'Pine Apple'\n",
       "\\end{enumerate*}\n"
      ],
      "text/markdown": [
       "1. 'Apple'\n",
       "2. 'Banana'\n",
       "3. 'Water Melon'\n",
       "4. 'Durian'\n",
       "5. 'Pine Apple'\n",
       "\n",
       "\n"
      ],
      "text/plain": [
       "[1] \"Apple\"       \"Banana\"      \"Water Melon\" \"Durian\"      \"Pine Apple\" "
      ]
     },
     "metadata": {},
     "output_type": "display_data"
    }
   ],
   "source": [
    "fruits <- fruits %>% fct_expand('Water Melon', 'Durian', 'Pine Apple')\n",
    "\n",
    "fruits %>% levels()"
   ]
  }
 ],
 "metadata": {
  "kernelspec": {
   "display_name": "R",
   "language": "R",
   "name": "ir"
  },
  "language_info": {
   "codemirror_mode": "r",
   "file_extension": ".r",
   "mimetype": "text/x-r-source",
   "name": "R",
   "pygments_lexer": "r",
   "version": "3.6.1"
  }
 },
 "nbformat": 4,
 "nbformat_minor": 2
}
