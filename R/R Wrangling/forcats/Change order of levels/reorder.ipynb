{
 "cells": [
  {
   "cell_type": "code",
   "execution_count": 2,
   "metadata": {},
   "outputs": [],
   "source": [
    "library(tidyverse)"
   ]
  },
  {
   "cell_type": "markdown",
   "metadata": {},
   "source": [
    "# Reorder factor levels by sorting along another variable"
   ]
  },
  {
   "cell_type": "markdown",
   "metadata": {},
   "source": [
    "`fct_reorder()` is useful for 1d displays where the factor is mapped to position; `fct_reorder2()` for 2d displays where the factor is mapped to a non-position aesthetic. last2() and `first2()` are helpers for `fct_reorder2();` `last2()` finds the last value of y when sorted by x; `first2()` finds the first value. "
   ]
  },
  {
   "cell_type": "markdown",
   "metadata": {},
   "source": [
    "```r\n",
    "fct_reorder(.f, .x, .fun = median, ..., .desc = FALSE)\n",
    "\n",
    "fct_reorder2(.f, .x, .y, .fun = last2, ..., .desc = TRUE)\n",
    "\n",
    "last2(.x, .y)\n",
    "\n",
    "first2(.x, .y)\n",
    "```"
   ]
  },
  {
   "cell_type": "markdown",
   "metadata": {},
   "source": [
    "**Arguments**  \n",
    "`.f`\t\n",
    "A factor (or character vector).\n",
    "\n",
    "`.x`, `.y`\t\n",
    "The levels of f are reordered so that the values of `.fun(.x)` (for `fct_reorder()`) and `fun(.x, .y)` (for `fct_reorder2()`) are in ascending order.\n",
    "\n",
    "`.fun`\t\n",
    "n summary function. It should take one vector for fct_reorder, and two vectors for fct_reorder2, and return a single value.\n",
    "\n",
    "`...`\t\n",
    "Other arguments passed on to .fun. A common argument is na.rm = TRUE.\n",
    "\n",
    "`.desc`\t\n",
    "Order in descending order? Note the default is different between fct_reorder and fct_reorder2, in order to match the default ordering of factors in the legend."
   ]
  },
  {
   "cell_type": "markdown",
   "metadata": {},
   "source": [
    "# Examples"
   ]
  },
  {
   "cell_type": "code",
   "execution_count": 6,
   "metadata": {},
   "outputs": [
    {
     "data": {
      "image/png": "[encoded data removed]",
      "text/plain": [
       "plot without title"
      ]
     },
     "metadata": {},
     "output_type": "display_data"
    }
   ],
   "source": [
    "iris %>% ggplot(aes(y = Sepal.Width, fill = Species)) + geom_boxplot()"
   ]
  },
  {
   "cell_type": "code",
   "execution_count": 9,
   "metadata": {},
   "outputs": [
    {
     "data": {
      "image/png": "[encoded data removed]",
      "text/plain": [
       "plot without title"
      ]
     },
     "metadata": {},
     "output_type": "display_data"
    }
   ],
   "source": [
    "iris %>% ggplot(aes(y = Sepal.Width, fill = fct_reorder(Species, Sepal.Width, .fun = median, .desc = T))) +\n",
    "geom_boxplot() + labs(fill = 'Species')"
   ]
  },
  {
   "cell_type": "code",
   "execution_count": 14,
   "metadata": {},
   "outputs": [
    {
     "data": {
      "text/html": [
       "<ol class=list-inline>\n",
       "\t<li>'blue'</li>\n",
       "\t<li>'green'</li>\n",
       "\t<li>'purple'</li>\n",
       "\t<li>'red'</li>\n",
       "\t<li>'yellow'</li>\n",
       "</ol>\n"
      ],
      "text/latex": [
       "\\begin{enumerate*}\n",
       "\\item 'blue'\n",
       "\\item 'green'\n",
       "\\item 'purple'\n",
       "\\item 'red'\n",
       "\\item 'yellow'\n",
       "\\end{enumerate*}\n"
      ],
      "text/markdown": [
       "1. 'blue'\n",
       "2. 'green'\n",
       "3. 'purple'\n",
       "4. 'red'\n",
       "5. 'yellow'\n",
       "\n",
       "\n"
      ],
      "text/plain": [
       "[1] \"blue\"   \"green\"  \"purple\" \"red\"    \"yellow\""
      ]
     },
     "metadata": {},
     "output_type": "display_data"
    }
   ],
   "source": [
    "df <- tibble::tribble(\n",
    "  ~color,     ~a, ~b,\n",
    "  \"blue\",      1,  2,\n",
    "  \"green\",     6,  2,\n",
    "  \"purple\",    3,  3,\n",
    "  \"red\",       2,  3,\n",
    "  \"yellow\",    5,  1\n",
    ")\n",
    "\n",
    "df <- df %>% mutate(color = as.factor(color))\n",
    "\n",
    "df %>% pull(color) %>% levels()"
   ]
  },
  {
   "cell_type": "code",
   "execution_count": 20,
   "metadata": {},
   "outputs": [
    {
     "data": {
      "text/html": [
       "<table>\n",
       "<thead><tr><th scope=col>color</th><th scope=col>var</th></tr></thead>\n",
       "<tbody>\n",
       "\t<tr><td>blue  </td><td>3     </td></tr>\n",
       "\t<tr><td>red   </td><td>5     </td></tr>\n",
       "\t<tr><td>purple</td><td>6     </td></tr>\n",
       "\t<tr><td>yellow</td><td>6     </td></tr>\n",
       "\t<tr><td>green </td><td>8     </td></tr>\n",
       "</tbody>\n",
       "</table>\n"
      ],
      "text/latex": [
       "\\begin{tabular}{r|ll}\n",
       " color & var\\\\\n",
       "\\hline\n",
       "\t blue   & 3     \\\\\n",
       "\t red    & 5     \\\\\n",
       "\t purple & 6     \\\\\n",
       "\t yellow & 6     \\\\\n",
       "\t green  & 8     \\\\\n",
       "\\end{tabular}\n"
      ],
      "text/markdown": [
       "\n",
       "| color | var |\n",
       "|---|---|\n",
       "| blue   | 3      |\n",
       "| red    | 5      |\n",
       "| purple | 6      |\n",
       "| yellow | 6      |\n",
       "| green  | 8      |\n",
       "\n"
      ],
      "text/plain": [
       "  color  var\n",
       "1 blue   3  \n",
       "2 red    5  \n",
       "3 purple 6  \n",
       "4 yellow 6  \n",
       "5 green  8  "
      ]
     },
     "metadata": {},
     "output_type": "display_data"
    }
   ],
   "source": [
    "df %>% mutate(var = a + b) %>% select(color, var) %>% arrange(var)"
   ]
  },
  {
   "cell_type": "code",
   "execution_count": 18,
   "metadata": {},
   "outputs": [
    {
     "data": {
      "text/html": [
       "<ol class=list-inline>\n",
       "\t<li>'green'</li>\n",
       "\t<li>'purple'</li>\n",
       "\t<li>'yellow'</li>\n",
       "\t<li>'red'</li>\n",
       "\t<li>'blue'</li>\n",
       "</ol>\n"
      ],
      "text/latex": [
       "\\begin{enumerate*}\n",
       "\\item 'green'\n",
       "\\item 'purple'\n",
       "\\item 'yellow'\n",
       "\\item 'red'\n",
       "\\item 'blue'\n",
       "\\end{enumerate*}\n"
      ],
      "text/markdown": [
       "1. 'green'\n",
       "2. 'purple'\n",
       "3. 'yellow'\n",
       "4. 'red'\n",
       "5. 'blue'\n",
       "\n",
       "\n"
      ],
      "text/plain": [
       "[1] \"green\"  \"purple\" \"yellow\" \"red\"    \"blue\"  "
      ]
     },
     "metadata": {},
     "output_type": "display_data"
    }
   ],
   "source": [
    "#reorder level by value of a + b\n",
    "\n",
    "df %>% mutate(color = fct_reorder2(color, a, b, function(x, y) x + y)) %>% pull(color) %>% levels()"
   ]
  }
 ],
 "metadata": {
  "kernelspec": {
   "display_name": "R",
   "language": "R",
   "name": "ir"
  },
  "language_info": {
   "codemirror_mode": "r",
   "file_extension": ".r",
   "mimetype": "text/x-r-source",
   "name": "R",
   "pygments_lexer": "r",
   "version": "3.6.1"
  }
 },
 "nbformat": 4,
 "nbformat_minor": 2
}
