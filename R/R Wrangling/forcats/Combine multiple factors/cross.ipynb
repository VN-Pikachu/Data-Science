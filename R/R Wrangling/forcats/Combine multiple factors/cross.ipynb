{
 "cells": [
  {
   "cell_type": "code",
   "execution_count": 2,
   "metadata": {},
   "outputs": [],
   "source": [
    "library(tidyverse)"
   ]
  },
  {
   "cell_type": "markdown",
   "metadata": {},
   "source": [
    "# Combine levels from two or more factors to create a new factor"
   ]
  },
  {
   "cell_type": "markdown",
   "metadata": {},
   "source": [
    "Computes a factor whose levels are all the combinations of the levels of the input factors.\n",
    "```r\n",
    "fct_cross(..., sep = \":\", keep_empty = FALSE)\n",
    "```\n",
    "**Arguments**  \n",
    "`...`\t\n",
    "<dynamic-dots> Additional factors or character vectors.\n",
    "\n",
    "`sep`\t\n",
    "A character string to separate the levels\n",
    "\n",
    "`keep_empty`\t\n",
    "If TRUE, keep combinations with no observations as levels"
   ]
  },
  {
   "cell_type": "markdown",
   "metadata": {},
   "source": [
    "# Examples"
   ]
  },
  {
   "cell_type": "code",
   "execution_count": 3,
   "metadata": {},
   "outputs": [],
   "source": [
    "fruit <- factor(c(\"apple\", \"kiwi\", \"apple\", \"apple\"))\n",
    "colour <- factor(c(\"green\", \"green\", \"red\", \"green\"))\n",
    "eaten <- c(\"yes\", \"no\", \"yes\", \"no\")"
   ]
  },
  {
   "cell_type": "code",
   "execution_count": 4,
   "metadata": {},
   "outputs": [
    {
     "data": {
      "text/html": [
       "<ol class=list-inline>\n",
       "\t<li>apple:green:yes</li>\n",
       "\t<li>kiwi:green:no</li>\n",
       "\t<li>apple:red:yes</li>\n",
       "\t<li>apple:green:no</li>\n",
       "</ol>\n",
       "\n",
       "<details>\n",
       "\t<summary style=display:list-item;cursor:pointer>\n",
       "\t\t<strong>Levels</strong>:\n",
       "\t</summary>\n",
       "\t<ol class=list-inline>\n",
       "\t\t<li>'apple:green:no'</li>\n",
       "\t\t<li>'kiwi:green:no'</li>\n",
       "\t\t<li>'apple:green:yes'</li>\n",
       "\t\t<li>'apple:red:yes'</li>\n",
       "\t</ol>\n",
       "</details>"
      ],
      "text/latex": [
       "\\begin{enumerate*}\n",
       "\\item apple:green:yes\n",
       "\\item kiwi:green:no\n",
       "\\item apple:red:yes\n",
       "\\item apple:green:no\n",
       "\\end{enumerate*}\n",
       "\n",
       "\\emph{Levels}: \\begin{enumerate*}\n",
       "\\item 'apple:green:no'\n",
       "\\item 'kiwi:green:no'\n",
       "\\item 'apple:green:yes'\n",
       "\\item 'apple:red:yes'\n",
       "\\end{enumerate*}\n"
      ],
      "text/markdown": [
       "1. apple:green:yes\n",
       "2. kiwi:green:no\n",
       "3. apple:red:yes\n",
       "4. apple:green:no\n",
       "\n",
       "\n",
       "\n",
       "**Levels**: 1. 'apple:green:no'\n",
       "2. 'kiwi:green:no'\n",
       "3. 'apple:green:yes'\n",
       "4. 'apple:red:yes'\n",
       "\n",
       "\n"
      ],
      "text/plain": [
       "[1] apple:green:yes kiwi:green:no   apple:red:yes   apple:green:no \n",
       "Levels: apple:green:no kiwi:green:no apple:green:yes apple:red:yes"
      ]
     },
     "metadata": {},
     "output_type": "display_data"
    }
   ],
   "source": [
    "fct_cross(fruit, colour, eaten)"
   ]
  },
  {
   "cell_type": "code",
   "execution_count": 6,
   "metadata": {},
   "outputs": [
    {
     "data": {
      "text/html": [
       "<ol class=list-inline>\n",
       "\t<li>apple--green--yes</li>\n",
       "\t<li>kiwi--green--no</li>\n",
       "\t<li>apple--red--yes</li>\n",
       "\t<li>apple--green--no</li>\n",
       "</ol>\n",
       "\n",
       "<details>\n",
       "\t<summary style=display:list-item;cursor:pointer>\n",
       "\t\t<strong>Levels</strong>:\n",
       "\t</summary>\n",
       "\t<ol class=list-inline>\n",
       "\t\t<li>'apple--green--no'</li>\n",
       "\t\t<li>'kiwi--green--no'</li>\n",
       "\t\t<li>'apple--green--yes'</li>\n",
       "\t\t<li>'apple--red--yes'</li>\n",
       "\t</ol>\n",
       "</details>"
      ],
      "text/latex": [
       "\\begin{enumerate*}\n",
       "\\item apple--green--yes\n",
       "\\item kiwi--green--no\n",
       "\\item apple--red--yes\n",
       "\\item apple--green--no\n",
       "\\end{enumerate*}\n",
       "\n",
       "\\emph{Levels}: \\begin{enumerate*}\n",
       "\\item 'apple--green--no'\n",
       "\\item 'kiwi--green--no'\n",
       "\\item 'apple--green--yes'\n",
       "\\item 'apple--red--yes'\n",
       "\\end{enumerate*}\n"
      ],
      "text/markdown": [
       "1. apple--green--yes\n",
       "2. kiwi--green--no\n",
       "3. apple--red--yes\n",
       "4. apple--green--no\n",
       "\n",
       "\n",
       "\n",
       "**Levels**: 1. 'apple--green--no'\n",
       "2. 'kiwi--green--no'\n",
       "3. 'apple--green--yes'\n",
       "4. 'apple--red--yes'\n",
       "\n",
       "\n"
      ],
      "text/plain": [
       "[1] apple--green--yes kiwi--green--no   apple--red--yes   apple--green--no \n",
       "4 Levels: apple--green--no kiwi--green--no ... apple--red--yes"
      ]
     },
     "metadata": {},
     "output_type": "display_data"
    }
   ],
   "source": [
    "fct_cross(fruit, colour, eaten, sep = '--')"
   ]
  },
  {
   "cell_type": "code",
   "execution_count": 9,
   "metadata": {},
   "outputs": [
    {
     "data": {
      "text/html": [
       "<ol class=list-inline>\n",
       "\t<li>apple:green:yes</li>\n",
       "\t<li>kiwi:green:no</li>\n",
       "\t<li>apple:red:yes</li>\n",
       "\t<li>apple:green:no</li>\n",
       "</ol>\n",
       "\n",
       "<details>\n",
       "\t<summary style=display:list-item;cursor:pointer>\n",
       "\t\t<strong>Levels</strong>:\n",
       "\t</summary>\n",
       "\t<ol class=list-inline>\n",
       "\t\t<li>'apple:green:no'</li>\n",
       "\t\t<li>'kiwi:green:no'</li>\n",
       "\t\t<li>'apple:red:no'</li>\n",
       "\t\t<li>'kiwi:red:no'</li>\n",
       "\t\t<li>'apple:green:yes'</li>\n",
       "\t\t<li>'kiwi:green:yes'</li>\n",
       "\t\t<li>'apple:red:yes'</li>\n",
       "\t\t<li>'kiwi:red:yes'</li>\n",
       "\t</ol>\n",
       "</details>"
      ],
      "text/latex": [
       "\\begin{enumerate*}\n",
       "\\item apple:green:yes\n",
       "\\item kiwi:green:no\n",
       "\\item apple:red:yes\n",
       "\\item apple:green:no\n",
       "\\end{enumerate*}\n",
       "\n",
       "\\emph{Levels}: \\begin{enumerate*}\n",
       "\\item 'apple:green:no'\n",
       "\\item 'kiwi:green:no'\n",
       "\\item 'apple:red:no'\n",
       "\\item 'kiwi:red:no'\n",
       "\\item 'apple:green:yes'\n",
       "\\item 'kiwi:green:yes'\n",
       "\\item 'apple:red:yes'\n",
       "\\item 'kiwi:red:yes'\n",
       "\\end{enumerate*}\n"
      ],
      "text/markdown": [
       "1. apple:green:yes\n",
       "2. kiwi:green:no\n",
       "3. apple:red:yes\n",
       "4. apple:green:no\n",
       "\n",
       "\n",
       "\n",
       "**Levels**: 1. 'apple:green:no'\n",
       "2. 'kiwi:green:no'\n",
       "3. 'apple:red:no'\n",
       "4. 'kiwi:red:no'\n",
       "5. 'apple:green:yes'\n",
       "6. 'kiwi:green:yes'\n",
       "7. 'apple:red:yes'\n",
       "8. 'kiwi:red:yes'\n",
       "\n",
       "\n"
      ],
      "text/plain": [
       "[1] apple:green:yes kiwi:green:no   apple:red:yes   apple:green:no \n",
       "8 Levels: apple:green:no kiwi:green:no apple:red:no ... kiwi:red:yes"
      ]
     },
     "metadata": {},
     "output_type": "display_data"
    }
   ],
   "source": [
    "# keep_empty = T: Notice the change of levels\n",
    "# The level is the product of levels of evevery factor\n",
    "fct_cross(fruit, colour, eaten, keep_empty = T)"
   ]
  }
 ],
 "metadata": {
  "kernelspec": {
   "display_name": "R",
   "language": "R",
   "name": "ir"
  },
  "language_info": {
   "codemirror_mode": "r",
   "file_extension": ".r",
   "mimetype": "text/x-r-source",
   "name": "R",
   "pygments_lexer": "r",
   "version": "3.6.1"
  }
 },
 "nbformat": 4,
 "nbformat_minor": 2
}
