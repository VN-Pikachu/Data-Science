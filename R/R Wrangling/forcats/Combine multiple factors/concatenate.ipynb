{
 "cells": [
  {
   "cell_type": "code",
   "execution_count": 2,
   "metadata": {},
   "outputs": [],
   "source": [
    "library(tidyverse)"
   ]
  },
  {
   "cell_type": "markdown",
   "metadata": {},
   "source": [
    "# Concatenate factors, combining levels"
   ]
  },
  {
   "cell_type": "markdown",
   "metadata": {},
   "source": [
    "This is a useful way of patching together factors from multiple sources that really should have the same levels but don't.\n",
    "```r\n",
    "fct_c(...)\n",
    "```\n",
    "**Arguments**  \n",
    "`...`\t\n",
    "<dynamic-dots> Individual factors. Uses tidy dots, so you can splice in a list of factors with !!!."
   ]
  },
  {
   "cell_type": "markdown",
   "metadata": {},
   "source": [
    "# Examples"
   ]
  },
  {
   "cell_type": "code",
   "execution_count": 3,
   "metadata": {},
   "outputs": [],
   "source": [
    "fish <- factor(c('Shark', 'Dophin'))\n",
    "\n",
    "cat <- factor(c('Tiger', 'Lion', 'Leopard'))"
   ]
  },
  {
   "cell_type": "code",
   "execution_count": 4,
   "metadata": {},
   "outputs": [
    {
     "data": {
      "text/html": [
       "<ol class=list-inline>\n",
       "\t<li>Shark</li>\n",
       "\t<li>Dophin</li>\n",
       "\t<li>Tiger</li>\n",
       "\t<li>Lion</li>\n",
       "\t<li>Leopard</li>\n",
       "</ol>\n",
       "\n",
       "<details>\n",
       "\t<summary style=display:list-item;cursor:pointer>\n",
       "\t\t<strong>Levels</strong>:\n",
       "\t</summary>\n",
       "\t<ol class=list-inline>\n",
       "\t\t<li>'Dophin'</li>\n",
       "\t\t<li>'Shark'</li>\n",
       "\t\t<li>'Leopard'</li>\n",
       "\t\t<li>'Lion'</li>\n",
       "\t\t<li>'Tiger'</li>\n",
       "\t</ol>\n",
       "</details>"
      ],
      "text/latex": [
       "\\begin{enumerate*}\n",
       "\\item Shark\n",
       "\\item Dophin\n",
       "\\item Tiger\n",
       "\\item Lion\n",
       "\\item Leopard\n",
       "\\end{enumerate*}\n",
       "\n",
       "\\emph{Levels}: \\begin{enumerate*}\n",
       "\\item 'Dophin'\n",
       "\\item 'Shark'\n",
       "\\item 'Leopard'\n",
       "\\item 'Lion'\n",
       "\\item 'Tiger'\n",
       "\\end{enumerate*}\n"
      ],
      "text/markdown": [
       "1. Shark\n",
       "2. Dophin\n",
       "3. Tiger\n",
       "4. Lion\n",
       "5. Leopard\n",
       "\n",
       "\n",
       "\n",
       "**Levels**: 1. 'Dophin'\n",
       "2. 'Shark'\n",
       "3. 'Leopard'\n",
       "4. 'Lion'\n",
       "5. 'Tiger'\n",
       "\n",
       "\n"
      ],
      "text/plain": [
       "[1] Shark   Dophin  Tiger   Lion    Leopard\n",
       "Levels: Dophin Shark Leopard Lion Tiger"
      ]
     },
     "metadata": {},
     "output_type": "display_data"
    }
   ],
   "source": [
    "animal <- fct_c(fish, cat)\n",
    "\n",
    "animal"
   ]
  },
  {
   "cell_type": "code",
   "execution_count": 6,
   "metadata": {},
   "outputs": [
    {
     "data": {
      "text/html": [
       "<ol class=list-inline>\n",
       "\t<li>Shark</li>\n",
       "\t<li>Dophin</li>\n",
       "\t<li>Tiger</li>\n",
       "\t<li>Lion</li>\n",
       "\t<li>Leopard</li>\n",
       "</ol>\n",
       "\n",
       "<details>\n",
       "\t<summary style=display:list-item;cursor:pointer>\n",
       "\t\t<strong>Levels</strong>:\n",
       "\t</summary>\n",
       "\t<ol class=list-inline>\n",
       "\t\t<li>'Dophin'</li>\n",
       "\t\t<li>'Shark'</li>\n",
       "\t\t<li>'Leopard'</li>\n",
       "\t\t<li>'Lion'</li>\n",
       "\t\t<li>'Tiger'</li>\n",
       "\t</ol>\n",
       "</details>"
      ],
      "text/latex": [
       "\\begin{enumerate*}\n",
       "\\item Shark\n",
       "\\item Dophin\n",
       "\\item Tiger\n",
       "\\item Lion\n",
       "\\item Leopard\n",
       "\\end{enumerate*}\n",
       "\n",
       "\\emph{Levels}: \\begin{enumerate*}\n",
       "\\item 'Dophin'\n",
       "\\item 'Shark'\n",
       "\\item 'Leopard'\n",
       "\\item 'Lion'\n",
       "\\item 'Tiger'\n",
       "\\end{enumerate*}\n"
      ],
      "text/markdown": [
       "1. Shark\n",
       "2. Dophin\n",
       "3. Tiger\n",
       "4. Lion\n",
       "5. Leopard\n",
       "\n",
       "\n",
       "\n",
       "**Levels**: 1. 'Dophin'\n",
       "2. 'Shark'\n",
       "3. 'Leopard'\n",
       "4. 'Lion'\n",
       "5. 'Tiger'\n",
       "\n",
       "\n"
      ],
      "text/plain": [
       "[1] Shark   Dophin  Tiger   Lion    Leopard\n",
       "Levels: Dophin Shark Leopard Lion Tiger"
      ]
     },
     "metadata": {},
     "output_type": "display_data"
    }
   ],
   "source": [
    "# Spread a list (like ... in javascript)\n",
    "l <- list(fish, cat)\n",
    "\n",
    "fct_c(!!!l)"
   ]
  }
 ],
 "metadata": {
  "kernelspec": {
   "display_name": "R",
   "language": "R",
   "name": "ir"
  },
  "language_info": {
   "codemirror_mode": "r",
   "file_extension": ".r",
   "mimetype": "text/x-r-source",
   "name": "R",
   "pygments_lexer": "r",
   "version": "3.6.1"
  }
 },
 "nbformat": 4,
 "nbformat_minor": 2
}
