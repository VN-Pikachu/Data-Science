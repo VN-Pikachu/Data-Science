{
 "cells": [
  {
   "cell_type": "markdown",
   "metadata": {},
   "source": [
    "**Paper**: [Wrangling categorical in R](https://peerj.com/preprints/3163/)"
   ]
  },
  {
   "cell_type": "code",
   "execution_count": 2,
   "metadata": {},
   "outputs": [],
   "source": [
    "library(tidyverse)"
   ]
  },
  {
   "cell_type": "code",
   "execution_count": 3,
   "metadata": {},
   "outputs": [
    {
     "name": "stderr",
     "output_type": "stream",
     "text": [
      "\n",
      "-- Column specification ------------------------------------------------------------------------------------------------\n",
      "cols(\n",
      "  Year = col_double(),\n",
      "  ID = col_double(),\n",
      "  LaborStatus = col_character(),\n",
      "  OccupationalPrestigeScore = col_double(),\n",
      "  MaritalStatus = col_character(),\n",
      "  NumChildren = col_double(),\n",
      "  Age = col_character(),\n",
      "  HighestSchoolCompleted = col_double(),\n",
      "  Sex = col_character(),\n",
      "  Race = col_character(),\n",
      "  ChildhoodFamilyIncome = col_character(),\n",
      "  TotalFamilyIncome = col_character(),\n",
      "  RespondentIncome = col_character(),\n",
      "  PoliticalParty = col_character(),\n",
      "  OpinionOfIncome = col_character(),\n",
      "  SexualOrientation = col_character()\n",
      ")\n",
      "\n"
     ]
    },
    {
     "data": {
      "text/html": [
       "<table>\n",
       "<thead><tr><th scope=col>Year</th><th scope=col>ID</th><th scope=col>LaborStatus</th><th scope=col>OccupationalPrestigeScore</th><th scope=col>MaritalStatus</th><th scope=col>NumChildren</th><th scope=col>Age</th><th scope=col>HighestSchoolCompleted</th><th scope=col>Sex</th><th scope=col>Race</th><th scope=col>ChildhoodFamilyIncome</th><th scope=col>TotalFamilyIncome</th><th scope=col>RespondentIncome</th><th scope=col>PoliticalParty</th><th scope=col>OpinionOfIncome</th><th scope=col>SexualOrientation</th></tr></thead>\n",
       "<tbody>\n",
       "\t<tr><td>2014                    </td><td>1                       </td><td>Working fulltime        </td><td>0                       </td><td>Divorced                </td><td>0                       </td><td>53.000000               </td><td>16                      </td><td>Male                    </td><td>White                   </td><td>Below average           </td><td>$25000 or more          </td><td>$25000 or more          </td><td>Not str republican      </td><td>Above average           </td><td>Heterosexual or straight</td></tr>\n",
       "\t<tr><td>2014                    </td><td>2                       </td><td>Working fulltime        </td><td>0                       </td><td>Married                 </td><td>0                       </td><td>26.000000               </td><td>16                      </td><td>Female                  </td><td>White                   </td><td>Average                 </td><td>$25000 or more          </td><td>$25000 or more          </td><td>Not str republican      </td><td>Above average           </td><td>Heterosexual or straight</td></tr>\n",
       "\t<tr><td>2014                    </td><td>3                       </td><td>Unempl, laid off        </td><td>0                       </td><td>Divorced                </td><td>1                       </td><td>59.000000               </td><td>13                      </td><td>Male                    </td><td>White                   </td><td>Below average           </td><td>$25000 or more          </td><td>Not applicable          </td><td>Strong republican       </td><td>Below average           </td><td>Heterosexual or straight</td></tr>\n",
       "\t<tr><td>2014                    </td><td>4                       </td><td>Working parttime        </td><td>0                       </td><td>Married                 </td><td>2                       </td><td>56.000000               </td><td>16                      </td><td>Female                  </td><td>White                   </td><td>Below average           </td><td>$25000 or more          </td><td>$10000 - 14999          </td><td>Not str republican      </td><td>Above average           </td><td>Heterosexual or straight</td></tr>\n",
       "\t<tr><td>2014                    </td><td>5                       </td><td>Retired                 </td><td>0                       </td><td>Married                 </td><td>3                       </td><td>74.000000               </td><td>17                      </td><td>Female                  </td><td>White                   </td><td>Above average           </td><td>Refused                 </td><td>Not applicable          </td><td>Independent             </td><td>Average                 </td><td>Heterosexual or straight</td></tr>\n",
       "\t<tr><td>2014                    </td><td>6                       </td><td>Working fulltime        </td><td>0                       </td><td>Married                 </td><td>1                       </td><td>56.000000               </td><td>17                      </td><td>Female                  </td><td>White                   </td><td>Above average           </td><td>$25000 or more          </td><td>$25000 or more          </td><td>Strong republican       </td><td>Above average           </td><td>No answer               </td></tr>\n",
       "</tbody>\n",
       "</table>\n"
      ],
      "text/latex": [
       "\\begin{tabular}{r|llllllllllllllll}\n",
       " Year & ID & LaborStatus & OccupationalPrestigeScore & MaritalStatus & NumChildren & Age & HighestSchoolCompleted & Sex & Race & ChildhoodFamilyIncome & TotalFamilyIncome & RespondentIncome & PoliticalParty & OpinionOfIncome & SexualOrientation\\\\\n",
       "\\hline\n",
       "\t 2014                     & 1                        & Working fulltime         & 0                        & Divorced                 & 0                        & 53.000000                & 16                       & Male                     & White                    & Below average            & \\$25000 or more         & \\$25000 or more         & Not str republican       & Above average            & Heterosexual or straight\\\\\n",
       "\t 2014                     & 2                        & Working fulltime         & 0                        & Married                  & 0                        & 26.000000                & 16                       & Female                   & White                    & Average                  & \\$25000 or more         & \\$25000 or more         & Not str republican       & Above average            & Heterosexual or straight\\\\\n",
       "\t 2014                     & 3                        & Unempl, laid off         & 0                        & Divorced                 & 1                        & 59.000000                & 13                       & Male                     & White                    & Below average            & \\$25000 or more         & Not applicable           & Strong republican        & Below average            & Heterosexual or straight\\\\\n",
       "\t 2014                     & 4                        & Working parttime         & 0                        & Married                  & 2                        & 56.000000                & 16                       & Female                   & White                    & Below average            & \\$25000 or more         & \\$10000 - 14999         & Not str republican       & Above average            & Heterosexual or straight\\\\\n",
       "\t 2014                     & 5                        & Retired                  & 0                        & Married                  & 3                        & 74.000000                & 17                       & Female                   & White                    & Above average            & Refused                  & Not applicable           & Independent              & Average                  & Heterosexual or straight\\\\\n",
       "\t 2014                     & 6                        & Working fulltime         & 0                        & Married                  & 1                        & 56.000000                & 17                       & Female                   & White                    & Above average            & \\$25000 or more         & \\$25000 or more         & Strong republican        & Above average            & No answer               \\\\\n",
       "\\end{tabular}\n"
      ],
      "text/markdown": [
       "\n",
       "| Year | ID | LaborStatus | OccupationalPrestigeScore | MaritalStatus | NumChildren | Age | HighestSchoolCompleted | Sex | Race | ChildhoodFamilyIncome | TotalFamilyIncome | RespondentIncome | PoliticalParty | OpinionOfIncome | SexualOrientation |\n",
       "|---|---|---|---|---|---|---|---|---|---|---|---|---|---|---|---|\n",
       "| 2014                     | 1                        | Working fulltime         | 0                        | Divorced                 | 0                        | 53.000000                | 16                       | Male                     | White                    | Below average            | $25000 or more           | $25000 or more           | Not str republican       | Above average            | Heterosexual or straight |\n",
       "| 2014                     | 2                        | Working fulltime         | 0                        | Married                  | 0                        | 26.000000                | 16                       | Female                   | White                    | Average                  | $25000 or more           | $25000 or more           | Not str republican       | Above average            | Heterosexual or straight |\n",
       "| 2014                     | 3                        | Unempl, laid off         | 0                        | Divorced                 | 1                        | 59.000000                | 13                       | Male                     | White                    | Below average            | $25000 or more           | Not applicable           | Strong republican        | Below average            | Heterosexual or straight |\n",
       "| 2014                     | 4                        | Working parttime         | 0                        | Married                  | 2                        | 56.000000                | 16                       | Female                   | White                    | Below average            | $25000 or more           | $10000 - 14999           | Not str republican       | Above average            | Heterosexual or straight |\n",
       "| 2014                     | 5                        | Retired                  | 0                        | Married                  | 3                        | 74.000000                | 17                       | Female                   | White                    | Above average            | Refused                  | Not applicable           | Independent              | Average                  | Heterosexual or straight |\n",
       "| 2014                     | 6                        | Working fulltime         | 0                        | Married                  | 1                        | 56.000000                | 17                       | Female                   | White                    | Above average            | $25000 or more           | $25000 or more           | Strong republican        | Above average            | No answer                |\n",
       "\n"
      ],
      "text/plain": [
       "  Year ID LaborStatus      OccupationalPrestigeScore MaritalStatus NumChildren\n",
       "1 2014 1  Working fulltime 0                         Divorced      0          \n",
       "2 2014 2  Working fulltime 0                         Married       0          \n",
       "3 2014 3  Unempl, laid off 0                         Divorced      1          \n",
       "4 2014 4  Working parttime 0                         Married       2          \n",
       "5 2014 5  Retired          0                         Married       3          \n",
       "6 2014 6  Working fulltime 0                         Married       1          \n",
       "  Age       HighestSchoolCompleted Sex    Race  ChildhoodFamilyIncome\n",
       "1 53.000000 16                     Male   White Below average        \n",
       "2 26.000000 16                     Female White Average              \n",
       "3 59.000000 13                     Male   White Below average        \n",
       "4 56.000000 16                     Female White Below average        \n",
       "5 74.000000 17                     Female White Above average        \n",
       "6 56.000000 17                     Female White Above average        \n",
       "  TotalFamilyIncome RespondentIncome PoliticalParty     OpinionOfIncome\n",
       "1 $25000 or more    $25000 or more   Not str republican Above average  \n",
       "2 $25000 or more    $25000 or more   Not str republican Above average  \n",
       "3 $25000 or more    Not applicable   Strong republican  Below average  \n",
       "4 $25000 or more    $10000 - 14999   Not str republican Above average  \n",
       "5 Refused           Not applicable   Independent        Average        \n",
       "6 $25000 or more    $25000 or more   Strong republican  Above average  \n",
       "  SexualOrientation       \n",
       "1 Heterosexual or straight\n",
       "2 Heterosexual or straight\n",
       "3 Heterosexual or straight\n",
       "4 Heterosexual or straight\n",
       "5 Heterosexual or straight\n",
       "6 No answer               "
      ]
     },
     "metadata": {},
     "output_type": "display_data"
    }
   ],
   "source": [
    "GSS <- read_csv('https://raw.githubusercontent.com/dsscollection/factor-mgmt/master/data/GSScleaned.csv')\n",
    "GSS %>% head()"
   ]
  },
  {
   "cell_type": "code",
   "execution_count": 4,
   "metadata": {},
   "outputs": [
    {
     "name": "stdout",
     "output_type": "stream",
     "text": [
      "Rows: 2,540\n",
      "Columns: 16\n",
      "$ Year                      <dbl> 2014, 2014, 2014, 2014, 2014, 2014, 2014,...\n",
      "$ ID                        <dbl> 1, 2, 3, 4, 5, 6, 7, 8, 9, 10, 11, 12, 13...\n",
      "$ LaborStatus               <chr> \"Working fulltime\", \"Working fulltime\", \"...\n",
      "$ OccupationalPrestigeScore <dbl> 0, 0, 0, 0, 0, 0, 0, 0, 0, 0, 0, 0, 0, 0,...\n",
      "$ MaritalStatus             <chr> \"Divorced\", \"Married\", \"Divorced\", \"Marri...\n",
      "$ NumChildren               <dbl> 0, 0, 1, 2, 3, 1, 2, 2, 4, 3, 2, 0, 5, 2,...\n",
      "$ Age                       <chr> \"53.000000\", \"26.000000\", \"59.000000\", \"5...\n",
      "$ HighestSchoolCompleted    <dbl> 16, 16, 13, 16, 17, 17, 12, 17, 10, 15, 5...\n",
      "$ Sex                       <chr> \"Male\", \"Female\", \"Male\", \"Female\", \"Fema...\n",
      "$ Race                      <chr> \"White\", \"White\", \"White\", \"White\", \"Whit...\n",
      "$ ChildhoodFamilyIncome     <chr> \"Below average\", \"Average\", \"Below averag...\n",
      "$ TotalFamilyIncome         <chr> \"$25000 or more\", \"$25000 or more\", \"$250...\n",
      "$ RespondentIncome          <chr> \"$25000 or more\", \"$25000 or more\", \"Not ...\n",
      "$ PoliticalParty            <chr> \"Not str republican\", \"Not str republican...\n",
      "$ OpinionOfIncome           <chr> \"Above average\", \"Above average\", \"Below ...\n",
      "$ SexualOrientation         <chr> \"Heterosexual or straight\", \"Heterosexual...\n"
     ]
    }
   ],
   "source": [
    "GSS %>% glimpse()"
   ]
  },
  {
   "cell_type": "markdown",
   "metadata": {},
   "source": [
    "# Changing the labels of factor levels"
   ]
  },
  {
   "cell_type": "markdown",
   "metadata": {},
   "source": [
    "Our first example works with `LaborStatus` variable.   It is a categorical variable with 9 levels.  Most of the labels are spelled out fully, but a few are strangely formatted.  We wantto change this.  \n",
    "This is a speci c case of the more general problem of changing the text of factor labels,so they appear more nicely formatted in a plot"
   ]
  },
  {
   "cell_type": "code",
   "execution_count": 22,
   "metadata": {},
   "outputs": [],
   "source": [
    "LaborStatus <- as.factor(GSS$LaborStatus)"
   ]
  },
  {
   "cell_type": "code",
   "execution_count": 28,
   "metadata": {},
   "outputs": [
    {
     "data": {
      "text/html": [
       "<ol class=list-inline>\n",
       "\t<li>'Keeping house'</li>\n",
       "\t<li>'No answer'</li>\n",
       "\t<li>'Other'</li>\n",
       "\t<li>'Retired'</li>\n",
       "\t<li>'School'</li>\n",
       "\t<li>'Temp not working'</li>\n",
       "\t<li>'Unempl, laid off'</li>\n",
       "\t<li>'Working fulltime'</li>\n",
       "\t<li>'Working parttime'</li>\n",
       "</ol>\n"
      ],
      "text/latex": [
       "\\begin{enumerate*}\n",
       "\\item 'Keeping house'\n",
       "\\item 'No answer'\n",
       "\\item 'Other'\n",
       "\\item 'Retired'\n",
       "\\item 'School'\n",
       "\\item 'Temp not working'\n",
       "\\item 'Unempl, laid off'\n",
       "\\item 'Working fulltime'\n",
       "\\item 'Working parttime'\n",
       "\\end{enumerate*}\n"
      ],
      "text/markdown": [
       "1. 'Keeping house'\n",
       "2. 'No answer'\n",
       "3. 'Other'\n",
       "4. 'Retired'\n",
       "5. 'School'\n",
       "6. 'Temp not working'\n",
       "7. 'Unempl, laid off'\n",
       "8. 'Working fulltime'\n",
       "9. 'Working parttime'\n",
       "\n",
       "\n"
      ],
      "text/plain": [
       "[1] \"Keeping house\"    \"No answer\"        \"Other\"            \"Retired\"         \n",
       "[5] \"School\"           \"Temp not working\" \"Unempl, laid off\" \"Working fulltime\"\n",
       "[9] \"Working parttime\""
      ]
     },
     "metadata": {},
     "output_type": "display_data"
    }
   ],
   "source": [
    "levels(LaborStatus)"
   ]
  },
  {
   "cell_type": "code",
   "execution_count": 32,
   "metadata": {},
   "outputs": [
    {
     "data": {
      "text/html": [
       "<dl class=dl-horizontal>\n",
       "\t<dt>Keeping house</dt>\n",
       "\t\t<dd>263</dd>\n",
       "\t<dt>No answer</dt>\n",
       "\t\t<dd>2</dd>\n",
       "\t<dt>Other</dt>\n",
       "\t\t<dd>76</dd>\n",
       "\t<dt>Retired</dt>\n",
       "\t\t<dd>460</dd>\n",
       "\t<dt>School</dt>\n",
       "\t\t<dd>90</dd>\n",
       "\t<dt>Temp not working</dt>\n",
       "\t\t<dd>40</dd>\n",
       "\t<dt>Unempl, laid off</dt>\n",
       "\t\t<dd>104</dd>\n",
       "\t<dt>Working fulltime</dt>\n",
       "\t\t<dd>1230</dd>\n",
       "\t<dt>Working parttime</dt>\n",
       "\t\t<dd>273</dd>\n",
       "\t<dt>NA's</dt>\n",
       "\t\t<dd>2</dd>\n",
       "</dl>\n"
      ],
      "text/latex": [
       "\\begin{description*}\n",
       "\\item[Keeping house] 263\n",
       "\\item[No answer] 2\n",
       "\\item[Other] 76\n",
       "\\item[Retired] 460\n",
       "\\item[School] 90\n",
       "\\item[Temp not working] 40\n",
       "\\item[Unempl, laid off] 104\n",
       "\\item[Working fulltime] 1230\n",
       "\\item[Working parttime] 273\n",
       "\\item[NA's] 2\n",
       "\\end{description*}\n"
      ],
      "text/markdown": [
       "Keeping house\n",
       ":   263No answer\n",
       ":   2Other\n",
       ":   76Retired\n",
       ":   460School\n",
       ":   90Temp not working\n",
       ":   40Unempl, laid off\n",
       ":   104Working fulltime\n",
       ":   1230Working parttime\n",
       ":   273NA's\n",
       ":   2\n",
       "\n"
      ],
      "text/plain": [
       "   Keeping house        No answer            Other          Retired \n",
       "             263                2               76              460 \n",
       "          School Temp not working Unempl, laid off Working fulltime \n",
       "              90               40              104             1230 \n",
       "Working parttime             NA's \n",
       "             273                2 "
      ]
     },
     "metadata": {},
     "output_type": "display_data"
    }
   ],
   "source": [
    "LaborStatus %>% summary()"
   ]
  },
  {
   "cell_type": "markdown",
   "metadata": {},
   "source": [
    "Spell out fully some labels:"
   ]
  },
  {
   "cell_type": "code",
   "execution_count": 38,
   "metadata": {},
   "outputs": [],
   "source": [
    "LaborStatus1 <- LaborStatus %>% fct_recode('Temporarily not working' = 'Temp not working',\n",
    "                           'Unemployment, laid off ' = 'Unempl, laid off',\n",
    "                           'Working full time' = 'Working fulltime',\n",
    "                           'Working part time ' = 'Working parttime')  "
   ]
  },
  {
   "cell_type": "code",
   "execution_count": 39,
   "metadata": {},
   "outputs": [
    {
     "data": {
      "text/html": [
       "<ol class=list-inline>\n",
       "\t<li>'Keeping house'</li>\n",
       "\t<li>'No answer'</li>\n",
       "\t<li>'Other'</li>\n",
       "\t<li>'Retired'</li>\n",
       "\t<li>'School'</li>\n",
       "\t<li>'Temporarily not working'</li>\n",
       "\t<li>'Unemployment, laid off '</li>\n",
       "\t<li>'Working full time'</li>\n",
       "\t<li>'Working part time '</li>\n",
       "</ol>\n"
      ],
      "text/latex": [
       "\\begin{enumerate*}\n",
       "\\item 'Keeping house'\n",
       "\\item 'No answer'\n",
       "\\item 'Other'\n",
       "\\item 'Retired'\n",
       "\\item 'School'\n",
       "\\item 'Temporarily not working'\n",
       "\\item 'Unemployment, laid off '\n",
       "\\item 'Working full time'\n",
       "\\item 'Working part time '\n",
       "\\end{enumerate*}\n"
      ],
      "text/markdown": [
       "1. 'Keeping house'\n",
       "2. 'No answer'\n",
       "3. 'Other'\n",
       "4. 'Retired'\n",
       "5. 'School'\n",
       "6. 'Temporarily not working'\n",
       "7. 'Unemployment, laid off '\n",
       "8. 'Working full time'\n",
       "9. 'Working part time '\n",
       "\n",
       "\n"
      ],
      "text/plain": [
       "[1] \"Keeping house\"           \"No answer\"              \n",
       "[3] \"Other\"                   \"Retired\"                \n",
       "[5] \"School\"                  \"Temporarily not working\"\n",
       "[7] \"Unemployment, laid off \" \"Working full time\"      \n",
       "[9] \"Working part time \"     "
      ]
     },
     "metadata": {},
     "output_type": "display_data"
    }
   ],
   "source": [
    "LaborStatus1 %>% levels()"
   ]
  },
  {
   "cell_type": "code",
   "execution_count": 40,
   "metadata": {},
   "outputs": [
    {
     "data": {
      "text/html": [
       "<dl class=dl-horizontal>\n",
       "\t<dt>Keeping house</dt>\n",
       "\t\t<dd>263</dd>\n",
       "\t<dt>No answer</dt>\n",
       "\t\t<dd>2</dd>\n",
       "\t<dt>Other</dt>\n",
       "\t\t<dd>76</dd>\n",
       "\t<dt>Retired</dt>\n",
       "\t\t<dd>460</dd>\n",
       "\t<dt>School</dt>\n",
       "\t\t<dd>90</dd>\n",
       "\t<dt>Temporarily not working</dt>\n",
       "\t\t<dd>40</dd>\n",
       "\t<dt>Unemployment, laid off </dt>\n",
       "\t\t<dd>104</dd>\n",
       "\t<dt>Working full time</dt>\n",
       "\t\t<dd>1230</dd>\n",
       "\t<dt>Working part time </dt>\n",
       "\t\t<dd>273</dd>\n",
       "\t<dt>NA's</dt>\n",
       "\t\t<dd>2</dd>\n",
       "</dl>\n"
      ],
      "text/latex": [
       "\\begin{description*}\n",
       "\\item[Keeping house] 263\n",
       "\\item[No answer] 2\n",
       "\\item[Other] 76\n",
       "\\item[Retired] 460\n",
       "\\item[School] 90\n",
       "\\item[Temporarily not working] 40\n",
       "\\item[Unemployment, laid off ] 104\n",
       "\\item[Working full time] 1230\n",
       "\\item[Working part time ] 273\n",
       "\\item[NA's] 2\n",
       "\\end{description*}\n"
      ],
      "text/markdown": [
       "Keeping house\n",
       ":   263No answer\n",
       ":   2Other\n",
       ":   76Retired\n",
       ":   460School\n",
       ":   90Temporarily not working\n",
       ":   40Unemployment, laid off \n",
       ":   104Working full time\n",
       ":   1230Working part time \n",
       ":   273NA's\n",
       ":   2\n",
       "\n"
      ],
      "text/plain": [
       "          Keeping house               No answer                   Other \n",
       "                    263                       2                      76 \n",
       "                Retired                  School Temporarily not working \n",
       "                    460                      90                      40 \n",
       "Unemployment, laid off        Working full time      Working part time  \n",
       "                    104                    1230                     273 \n",
       "                   NA's \n",
       "                      2 "
      ]
     },
     "metadata": {},
     "output_type": "display_data"
    }
   ],
   "source": [
    "LaborStatus1 %>% summary()"
   ]
  },
  {
   "cell_type": "markdown",
   "metadata": {},
   "source": [
    "### Aside - Editing whitespace out of levels"
   ]
  },
  {
   "cell_type": "markdown",
   "metadata": {},
   "source": [
    "A  more  general  problem  sometimes  arises  due  to  extra  spaces  included  when  data  areingested.  Such whitespace can be dealt with when data is read, or addressed later using\n",
    "string operations."
   ]
  },
  {
   "cell_type": "code",
   "execution_count": 42,
   "metadata": {},
   "outputs": [
    {
     "data": {
      "text/html": [
       "<ol class=list-inline>\n",
       "\t<li>'male'</li>\n",
       "\t<li>'male '</li>\n",
       "\t<li><span style=white-space:pre-wrap>'male  '</span></li>\n",
       "\t<li><span style=white-space:pre-wrap>'male    '</span></li>\n",
       "</ol>\n"
      ],
      "text/latex": [
       "\\begin{enumerate*}\n",
       "\\item 'male'\n",
       "\\item 'male '\n",
       "\\item 'male  '\n",
       "\\item 'male    '\n",
       "\\end{enumerate*}\n"
      ],
      "text/markdown": [
       "1. 'male'\n",
       "2. 'male '\n",
       "3. <span style=white-space:pre-wrap>'male  '</span>\n",
       "4. <span style=white-space:pre-wrap>'male    '</span>\n",
       "\n",
       "\n"
      ],
      "text/plain": [
       "[1] \"male\"     \"male \"    \"male  \"   \"male    \""
      ]
     },
     "metadata": {},
     "output_type": "display_data"
    }
   ],
   "source": [
    "gender <- factor(c(\"male \", \"male  \", \"male    \", \"male\"))\n",
    "\n",
    "levels(gender)"
   ]
  },
  {
   "cell_type": "code",
   "execution_count": 45,
   "metadata": {},
   "outputs": [
    {
     "data": {
      "text/html": [
       "<ol class=list-inline>\n",
       "\t<li>male</li>\n",
       "\t<li>male</li>\n",
       "\t<li>male</li>\n",
       "\t<li>male</li>\n",
       "</ol>\n",
       "\n",
       "<details>\n",
       "\t<summary style=display:list-item;cursor:pointer>\n",
       "\t\t<strong>Levels</strong>:\n",
       "\t</summary>\n",
       "\t'male'\n",
       "</details>"
      ],
      "text/latex": [
       "\\begin{enumerate*}\n",
       "\\item male\n",
       "\\item male\n",
       "\\item male\n",
       "\\item male\n",
       "\\end{enumerate*}\n",
       "\n",
       "\\emph{Levels}: 'male'"
      ],
      "text/markdown": [
       "1. male\n",
       "2. male\n",
       "3. male\n",
       "4. male\n",
       "\n",
       "\n",
       "\n",
       "**Levels**: 'male'"
      ],
      "text/plain": [
       "[1] male male male male\n",
       "Levels: male"
      ]
     },
     "metadata": {},
     "output_type": "display_data"
    },
    {
     "data": {
      "text/html": [
       "'male'"
      ],
      "text/latex": [
       "'male'"
      ],
      "text/markdown": [
       "'male'"
      ],
      "text/plain": [
       "[1] \"male\""
      ]
     },
     "metadata": {},
     "output_type": "display_data"
    }
   ],
   "source": [
    "gender_trim <- gender %>% fct_relabel(str_trim)\n",
    "\n",
    "gender_trim\n",
    "\n",
    "levels(gender_trim)"
   ]
  },
  {
   "cell_type": "markdown",
   "metadata": {},
   "source": [
    "# Reordering factor levels"
   ]
  },
  {
   "cell_type": "code",
   "execution_count": 46,
   "metadata": {},
   "outputs": [],
   "source": [
    "income <- as.factor(GSS$OpinionOfIncome)"
   ]
  },
  {
   "cell_type": "code",
   "execution_count": 47,
   "metadata": {},
   "outputs": [
    {
     "data": {
      "text/html": [
       "<ol class=list-inline>\n",
       "\t<li>'Above average'</li>\n",
       "\t<li>'Average'</li>\n",
       "\t<li>'Below average'</li>\n",
       "\t<li>'Don\\'t know'</li>\n",
       "\t<li>'Far above average'</li>\n",
       "\t<li>'Far below average'</li>\n",
       "\t<li>'No answer'</li>\n",
       "</ol>\n"
      ],
      "text/latex": [
       "\\begin{enumerate*}\n",
       "\\item 'Above average'\n",
       "\\item 'Average'\n",
       "\\item 'Below average'\n",
       "\\item 'Don\\textbackslash{}'t know'\n",
       "\\item 'Far above average'\n",
       "\\item 'Far below average'\n",
       "\\item 'No answer'\n",
       "\\end{enumerate*}\n"
      ],
      "text/markdown": [
       "1. 'Above average'\n",
       "2. 'Average'\n",
       "3. 'Below average'\n",
       "4. 'Don\\'t know'\n",
       "5. 'Far above average'\n",
       "6. 'Far below average'\n",
       "7. 'No answer'\n",
       "\n",
       "\n"
      ],
      "text/plain": [
       "[1] \"Above average\"     \"Average\"           \"Below average\"    \n",
       "[4] \"Don't know\"        \"Far above average\" \"Far below average\"\n",
       "[7] \"No answer\"        "
      ]
     },
     "metadata": {},
     "output_type": "display_data"
    }
   ],
   "source": [
    "levels(income)"
   ]
  },
  {
   "cell_type": "code",
   "execution_count": 48,
   "metadata": {},
   "outputs": [
    {
     "data": {
      "text/html": [
       "<dl class=dl-horizontal>\n",
       "\t<dt>Above average</dt>\n",
       "\t\t<dd>483</dd>\n",
       "\t<dt>Average</dt>\n",
       "\t\t<dd>1118</dd>\n",
       "\t<dt>Below average</dt>\n",
       "\t\t<dd>666</dd>\n",
       "\t<dt>Don't know</dt>\n",
       "\t\t<dd>21</dd>\n",
       "\t<dt>Far above average</dt>\n",
       "\t\t<dd>65</dd>\n",
       "\t<dt>Far below average</dt>\n",
       "\t\t<dd>179</dd>\n",
       "\t<dt>No answer</dt>\n",
       "\t\t<dd>6</dd>\n",
       "\t<dt>NA's</dt>\n",
       "\t\t<dd>2</dd>\n",
       "</dl>\n"
      ],
      "text/latex": [
       "\\begin{description*}\n",
       "\\item[Above average] 483\n",
       "\\item[Average] 1118\n",
       "\\item[Below average] 666\n",
       "\\item[Don't know] 21\n",
       "\\item[Far above average] 65\n",
       "\\item[Far below average] 179\n",
       "\\item[No answer] 6\n",
       "\\item[NA's] 2\n",
       "\\end{description*}\n"
      ],
      "text/markdown": [
       "Above average\n",
       ":   483Average\n",
       ":   1118Below average\n",
       ":   666Don't know\n",
       ":   21Far above average\n",
       ":   65Far below average\n",
       ":   179No answer\n",
       ":   6NA's\n",
       ":   2\n",
       "\n"
      ],
      "text/plain": [
       "    Above average           Average     Below average        Don't know \n",
       "              483              1118               666                21 \n",
       "Far above average Far below average         No answer              NA's \n",
       "               65               179                 6                 2 "
      ]
     },
     "metadata": {},
     "output_type": "display_data"
    }
   ],
   "source": [
    "summary(income)"
   ]
  },
  {
   "cell_type": "code",
   "execution_count": 50,
   "metadata": {},
   "outputs": [],
   "source": [
    "income1 <- income %>% fct_relevel('Far above average', 'Above average', 'Average', 'Below average', 'Far below average')"
   ]
  },
  {
   "cell_type": "code",
   "execution_count": 51,
   "metadata": {},
   "outputs": [
    {
     "data": {
      "text/html": [
       "<ol class=list-inline>\n",
       "\t<li>'Far above average'</li>\n",
       "\t<li>'Above average'</li>\n",
       "\t<li>'Average'</li>\n",
       "\t<li>'Below average'</li>\n",
       "\t<li>'Far below average'</li>\n",
       "\t<li>'Don\\'t know'</li>\n",
       "\t<li>'No answer'</li>\n",
       "</ol>\n"
      ],
      "text/latex": [
       "\\begin{enumerate*}\n",
       "\\item 'Far above average'\n",
       "\\item 'Above average'\n",
       "\\item 'Average'\n",
       "\\item 'Below average'\n",
       "\\item 'Far below average'\n",
       "\\item 'Don\\textbackslash{}'t know'\n",
       "\\item 'No answer'\n",
       "\\end{enumerate*}\n"
      ],
      "text/markdown": [
       "1. 'Far above average'\n",
       "2. 'Above average'\n",
       "3. 'Average'\n",
       "4. 'Below average'\n",
       "5. 'Far below average'\n",
       "6. 'Don\\'t know'\n",
       "7. 'No answer'\n",
       "\n",
       "\n"
      ],
      "text/plain": [
       "[1] \"Far above average\" \"Above average\"     \"Average\"          \n",
       "[4] \"Below average\"     \"Far below average\" \"Don't know\"       \n",
       "[7] \"No answer\"        "
      ]
     },
     "metadata": {},
     "output_type": "display_data"
    }
   ],
   "source": [
    "levels(income1)"
   ]
  },
  {
   "cell_type": "code",
   "execution_count": 52,
   "metadata": {},
   "outputs": [
    {
     "data": {
      "text/html": [
       "<dl class=dl-horizontal>\n",
       "\t<dt>Far above average</dt>\n",
       "\t\t<dd>65</dd>\n",
       "\t<dt>Above average</dt>\n",
       "\t\t<dd>483</dd>\n",
       "\t<dt>Average</dt>\n",
       "\t\t<dd>1118</dd>\n",
       "\t<dt>Below average</dt>\n",
       "\t\t<dd>666</dd>\n",
       "\t<dt>Far below average</dt>\n",
       "\t\t<dd>179</dd>\n",
       "\t<dt>Don't know</dt>\n",
       "\t\t<dd>21</dd>\n",
       "\t<dt>No answer</dt>\n",
       "\t\t<dd>6</dd>\n",
       "\t<dt>NA's</dt>\n",
       "\t\t<dd>2</dd>\n",
       "</dl>\n"
      ],
      "text/latex": [
       "\\begin{description*}\n",
       "\\item[Far above average] 65\n",
       "\\item[Above average] 483\n",
       "\\item[Average] 1118\n",
       "\\item[Below average] 666\n",
       "\\item[Far below average] 179\n",
       "\\item[Don't know] 21\n",
       "\\item[No answer] 6\n",
       "\\item[NA's] 2\n",
       "\\end{description*}\n"
      ],
      "text/markdown": [
       "Far above average\n",
       ":   65Above average\n",
       ":   483Average\n",
       ":   1118Below average\n",
       ":   666Far below average\n",
       ":   179Don't know\n",
       ":   21No answer\n",
       ":   6NA's\n",
       ":   2\n",
       "\n"
      ],
      "text/plain": [
       "Far above average     Above average           Average     Below average \n",
       "               65               483              1118               666 \n",
       "Far below average        Don't know         No answer              NA's \n",
       "              179                21                 6                 2 "
      ]
     },
     "metadata": {},
     "output_type": "display_data"
    }
   ],
   "source": [
    "summary(income1)"
   ]
  },
  {
   "cell_type": "markdown",
   "metadata": {},
   "source": [
    "# Combine several levels into one"
   ]
  },
  {
   "cell_type": "markdown",
   "metadata": {},
   "source": [
    "### Combine discrete levels"
   ]
  },
  {
   "cell_type": "code",
   "execution_count": 53,
   "metadata": {},
   "outputs": [],
   "source": [
    "MaritalStatus <- as.factor(GSS$MaritalStatus)"
   ]
  },
  {
   "cell_type": "code",
   "execution_count": 55,
   "metadata": {},
   "outputs": [
    {
     "data": {
      "text/html": [
       "<ol class=list-inline>\n",
       "\t<li>'Divorced'</li>\n",
       "\t<li>'Married'</li>\n",
       "\t<li>'Never married'</li>\n",
       "\t<li>'No answer'</li>\n",
       "\t<li>'Separated'</li>\n",
       "\t<li>'Widowed'</li>\n",
       "</ol>\n"
      ],
      "text/latex": [
       "\\begin{enumerate*}\n",
       "\\item 'Divorced'\n",
       "\\item 'Married'\n",
       "\\item 'Never married'\n",
       "\\item 'No answer'\n",
       "\\item 'Separated'\n",
       "\\item 'Widowed'\n",
       "\\end{enumerate*}\n"
      ],
      "text/markdown": [
       "1. 'Divorced'\n",
       "2. 'Married'\n",
       "3. 'Never married'\n",
       "4. 'No answer'\n",
       "5. 'Separated'\n",
       "6. 'Widowed'\n",
       "\n",
       "\n"
      ],
      "text/plain": [
       "[1] \"Divorced\"      \"Married\"       \"Never married\" \"No answer\"    \n",
       "[5] \"Separated\"     \"Widowed\"      "
      ]
     },
     "metadata": {},
     "output_type": "display_data"
    }
   ],
   "source": [
    "levels(MaritalStatus)"
   ]
  },
  {
   "cell_type": "code",
   "execution_count": 56,
   "metadata": {},
   "outputs": [
    {
     "data": {
      "text/html": [
       "<dl class=dl-horizontal>\n",
       "\t<dt>Divorced</dt>\n",
       "\t\t<dd>411</dd>\n",
       "\t<dt>Married</dt>\n",
       "\t\t<dd>1158</dd>\n",
       "\t<dt>Never married</dt>\n",
       "\t\t<dd>675</dd>\n",
       "\t<dt>No answer</dt>\n",
       "\t\t<dd>4</dd>\n",
       "\t<dt>Separated</dt>\n",
       "\t\t<dd>81</dd>\n",
       "\t<dt>Widowed</dt>\n",
       "\t\t<dd>209</dd>\n",
       "\t<dt>NA's</dt>\n",
       "\t\t<dd>2</dd>\n",
       "</dl>\n"
      ],
      "text/latex": [
       "\\begin{description*}\n",
       "\\item[Divorced] 411\n",
       "\\item[Married] 1158\n",
       "\\item[Never married] 675\n",
       "\\item[No answer] 4\n",
       "\\item[Separated] 81\n",
       "\\item[Widowed] 209\n",
       "\\item[NA's] 2\n",
       "\\end{description*}\n"
      ],
      "text/markdown": [
       "Divorced\n",
       ":   411Married\n",
       ":   1158Never married\n",
       ":   675No answer\n",
       ":   4Separated\n",
       ":   81Widowed\n",
       ":   209NA's\n",
       ":   2\n",
       "\n"
      ],
      "text/plain": [
       "     Divorced       Married Never married     No answer     Separated \n",
       "          411          1158           675             4            81 \n",
       "      Widowed          NA's \n",
       "          209             2 "
      ]
     },
     "metadata": {},
     "output_type": "display_data"
    }
   ],
   "source": [
    "summary(MaritalStatus)"
   ]
  },
  {
   "cell_type": "code",
   "execution_count": 58,
   "metadata": {},
   "outputs": [],
   "source": [
    "MaritalStatus1 <- MaritalStatus %>% fct_collapse('Not married' = c('Divorced', 'Never married', 'Widowed', 'Separated'))"
   ]
  },
  {
   "cell_type": "code",
   "execution_count": 60,
   "metadata": {},
   "outputs": [
    {
     "data": {
      "text/html": [
       "<ol class=list-inline>\n",
       "\t<li>'Not married'</li>\n",
       "\t<li>'Married'</li>\n",
       "\t<li>'No answer'</li>\n",
       "</ol>\n"
      ],
      "text/latex": [
       "\\begin{enumerate*}\n",
       "\\item 'Not married'\n",
       "\\item 'Married'\n",
       "\\item 'No answer'\n",
       "\\end{enumerate*}\n"
      ],
      "text/markdown": [
       "1. 'Not married'\n",
       "2. 'Married'\n",
       "3. 'No answer'\n",
       "\n",
       "\n"
      ],
      "text/plain": [
       "[1] \"Not married\" \"Married\"     \"No answer\"  "
      ]
     },
     "metadata": {},
     "output_type": "display_data"
    }
   ],
   "source": [
    "levels(MaritalStatus1)"
   ]
  },
  {
   "cell_type": "code",
   "execution_count": 61,
   "metadata": {},
   "outputs": [
    {
     "data": {
      "text/html": [
       "<dl class=dl-horizontal>\n",
       "\t<dt>Not married</dt>\n",
       "\t\t<dd>1376</dd>\n",
       "\t<dt>Married</dt>\n",
       "\t\t<dd>1158</dd>\n",
       "\t<dt>No answer</dt>\n",
       "\t\t<dd>4</dd>\n",
       "\t<dt>NA's</dt>\n",
       "\t\t<dd>2</dd>\n",
       "</dl>\n"
      ],
      "text/latex": [
       "\\begin{description*}\n",
       "\\item[Not married] 1376\n",
       "\\item[Married] 1158\n",
       "\\item[No answer] 4\n",
       "\\item[NA's] 2\n",
       "\\end{description*}\n"
      ],
      "text/markdown": [
       "Not married\n",
       ":   1376Married\n",
       ":   1158No answer\n",
       ":   4NA's\n",
       ":   2\n",
       "\n"
      ],
      "text/plain": [
       "Not married     Married   No answer        NA's \n",
       "       1376        1158           4           2 "
      ]
     },
     "metadata": {},
     "output_type": "display_data"
    }
   ],
   "source": [
    "summary(MaritalStatus1)"
   ]
  },
  {
   "cell_type": "markdown",
   "metadata": {},
   "source": [
    "### Combine numeric-type levels"
   ]
  },
  {
   "cell_type": "markdown",
   "metadata": {},
   "source": [
    "In this data, age is provided as an integer for respondents 18-88, but also includes the possible answers 89 or older,No answer and NA.A common data wrangling task might be to turn this into a factor variable with two levels:   18-65,  and  over  65.   In  this  case,  it  would  be  easier  to  deal  with  a  conditional statement  about  the  numeric  values,  rather  than  writing  out  each  of  the  numbers  as  acharacter vector"
   ]
  },
  {
   "cell_type": "code",
   "execution_count": 66,
   "metadata": {},
   "outputs": [],
   "source": [
    "Age <- as.factor(GSS$Age)"
   ]
  },
  {
   "cell_type": "code",
   "execution_count": 67,
   "metadata": {},
   "outputs": [
    {
     "data": {
      "text/html": [
       "<ol class=list-inline>\n",
       "\t<li>'18.000000'</li>\n",
       "\t<li>'19.000000'</li>\n",
       "\t<li>'20.000000'</li>\n",
       "\t<li>'21.000000'</li>\n",
       "\t<li>'22.000000'</li>\n",
       "\t<li>'23.000000'</li>\n",
       "\t<li>'24.000000'</li>\n",
       "\t<li>'25.000000'</li>\n",
       "\t<li>'26.000000'</li>\n",
       "\t<li>'27.000000'</li>\n",
       "\t<li>'28.000000'</li>\n",
       "\t<li>'29.000000'</li>\n",
       "\t<li>'30.000000'</li>\n",
       "\t<li>'31.000000'</li>\n",
       "\t<li>'32.000000'</li>\n",
       "\t<li>'33.000000'</li>\n",
       "\t<li>'34.000000'</li>\n",
       "\t<li>'35.000000'</li>\n",
       "\t<li>'36.000000'</li>\n",
       "\t<li>'37.000000'</li>\n",
       "\t<li>'38.000000'</li>\n",
       "\t<li>'39.000000'</li>\n",
       "\t<li>'40.000000'</li>\n",
       "\t<li>'41.000000'</li>\n",
       "\t<li>'42.000000'</li>\n",
       "\t<li>'43.000000'</li>\n",
       "\t<li>'44.000000'</li>\n",
       "\t<li>'45.000000'</li>\n",
       "\t<li>'46.000000'</li>\n",
       "\t<li>'47.000000'</li>\n",
       "\t<li>'48.000000'</li>\n",
       "\t<li>'49.000000'</li>\n",
       "\t<li>'50.000000'</li>\n",
       "\t<li>'51.000000'</li>\n",
       "\t<li>'52.000000'</li>\n",
       "\t<li>'53.000000'</li>\n",
       "\t<li>'54.000000'</li>\n",
       "\t<li>'55.000000'</li>\n",
       "\t<li>'56.000000'</li>\n",
       "\t<li>'57.000000'</li>\n",
       "\t<li>'58.000000'</li>\n",
       "\t<li>'59.000000'</li>\n",
       "\t<li>'60.000000'</li>\n",
       "\t<li>'61.000000'</li>\n",
       "\t<li>'62.000000'</li>\n",
       "\t<li>'63.000000'</li>\n",
       "\t<li>'64.000000'</li>\n",
       "\t<li>'65.000000'</li>\n",
       "\t<li>'66.000000'</li>\n",
       "\t<li>'67.000000'</li>\n",
       "\t<li>'68.000000'</li>\n",
       "\t<li>'69.000000'</li>\n",
       "\t<li>'70.000000'</li>\n",
       "\t<li>'71.000000'</li>\n",
       "\t<li>'72.000000'</li>\n",
       "\t<li>'73.000000'</li>\n",
       "\t<li>'74.000000'</li>\n",
       "\t<li>'75.000000'</li>\n",
       "\t<li>'76.000000'</li>\n",
       "\t<li>'77.000000'</li>\n",
       "\t<li>'78.000000'</li>\n",
       "\t<li>'79.000000'</li>\n",
       "\t<li>'80.000000'</li>\n",
       "\t<li>'81.000000'</li>\n",
       "\t<li>'82.000000'</li>\n",
       "\t<li>'83.000000'</li>\n",
       "\t<li>'84.000000'</li>\n",
       "\t<li>'85.000000'</li>\n",
       "\t<li>'86.000000'</li>\n",
       "\t<li>'87.000000'</li>\n",
       "\t<li>'88.000000'</li>\n",
       "\t<li>'89 or older'</li>\n",
       "\t<li>'No answer'</li>\n",
       "</ol>\n"
      ],
      "text/latex": [
       "\\begin{enumerate*}\n",
       "\\item '18.000000'\n",
       "\\item '19.000000'\n",
       "\\item '20.000000'\n",
       "\\item '21.000000'\n",
       "\\item '22.000000'\n",
       "\\item '23.000000'\n",
       "\\item '24.000000'\n",
       "\\item '25.000000'\n",
       "\\item '26.000000'\n",
       "\\item '27.000000'\n",
       "\\item '28.000000'\n",
       "\\item '29.000000'\n",
       "\\item '30.000000'\n",
       "\\item '31.000000'\n",
       "\\item '32.000000'\n",
       "\\item '33.000000'\n",
       "\\item '34.000000'\n",
       "\\item '35.000000'\n",
       "\\item '36.000000'\n",
       "\\item '37.000000'\n",
       "\\item '38.000000'\n",
       "\\item '39.000000'\n",
       "\\item '40.000000'\n",
       "\\item '41.000000'\n",
       "\\item '42.000000'\n",
       "\\item '43.000000'\n",
       "\\item '44.000000'\n",
       "\\item '45.000000'\n",
       "\\item '46.000000'\n",
       "\\item '47.000000'\n",
       "\\item '48.000000'\n",
       "\\item '49.000000'\n",
       "\\item '50.000000'\n",
       "\\item '51.000000'\n",
       "\\item '52.000000'\n",
       "\\item '53.000000'\n",
       "\\item '54.000000'\n",
       "\\item '55.000000'\n",
       "\\item '56.000000'\n",
       "\\item '57.000000'\n",
       "\\item '58.000000'\n",
       "\\item '59.000000'\n",
       "\\item '60.000000'\n",
       "\\item '61.000000'\n",
       "\\item '62.000000'\n",
       "\\item '63.000000'\n",
       "\\item '64.000000'\n",
       "\\item '65.000000'\n",
       "\\item '66.000000'\n",
       "\\item '67.000000'\n",
       "\\item '68.000000'\n",
       "\\item '69.000000'\n",
       "\\item '70.000000'\n",
       "\\item '71.000000'\n",
       "\\item '72.000000'\n",
       "\\item '73.000000'\n",
       "\\item '74.000000'\n",
       "\\item '75.000000'\n",
       "\\item '76.000000'\n",
       "\\item '77.000000'\n",
       "\\item '78.000000'\n",
       "\\item '79.000000'\n",
       "\\item '80.000000'\n",
       "\\item '81.000000'\n",
       "\\item '82.000000'\n",
       "\\item '83.000000'\n",
       "\\item '84.000000'\n",
       "\\item '85.000000'\n",
       "\\item '86.000000'\n",
       "\\item '87.000000'\n",
       "\\item '88.000000'\n",
       "\\item '89 or older'\n",
       "\\item 'No answer'\n",
       "\\end{enumerate*}\n"
      ],
      "text/markdown": [
       "1. '18.000000'\n",
       "2. '19.000000'\n",
       "3. '20.000000'\n",
       "4. '21.000000'\n",
       "5. '22.000000'\n",
       "6. '23.000000'\n",
       "7. '24.000000'\n",
       "8. '25.000000'\n",
       "9. '26.000000'\n",
       "10. '27.000000'\n",
       "11. '28.000000'\n",
       "12. '29.000000'\n",
       "13. '30.000000'\n",
       "14. '31.000000'\n",
       "15. '32.000000'\n",
       "16. '33.000000'\n",
       "17. '34.000000'\n",
       "18. '35.000000'\n",
       "19. '36.000000'\n",
       "20. '37.000000'\n",
       "21. '38.000000'\n",
       "22. '39.000000'\n",
       "23. '40.000000'\n",
       "24. '41.000000'\n",
       "25. '42.000000'\n",
       "26. '43.000000'\n",
       "27. '44.000000'\n",
       "28. '45.000000'\n",
       "29. '46.000000'\n",
       "30. '47.000000'\n",
       "31. '48.000000'\n",
       "32. '49.000000'\n",
       "33. '50.000000'\n",
       "34. '51.000000'\n",
       "35. '52.000000'\n",
       "36. '53.000000'\n",
       "37. '54.000000'\n",
       "38. '55.000000'\n",
       "39. '56.000000'\n",
       "40. '57.000000'\n",
       "41. '58.000000'\n",
       "42. '59.000000'\n",
       "43. '60.000000'\n",
       "44. '61.000000'\n",
       "45. '62.000000'\n",
       "46. '63.000000'\n",
       "47. '64.000000'\n",
       "48. '65.000000'\n",
       "49. '66.000000'\n",
       "50. '67.000000'\n",
       "51. '68.000000'\n",
       "52. '69.000000'\n",
       "53. '70.000000'\n",
       "54. '71.000000'\n",
       "55. '72.000000'\n",
       "56. '73.000000'\n",
       "57. '74.000000'\n",
       "58. '75.000000'\n",
       "59. '76.000000'\n",
       "60. '77.000000'\n",
       "61. '78.000000'\n",
       "62. '79.000000'\n",
       "63. '80.000000'\n",
       "64. '81.000000'\n",
       "65. '82.000000'\n",
       "66. '83.000000'\n",
       "67. '84.000000'\n",
       "68. '85.000000'\n",
       "69. '86.000000'\n",
       "70. '87.000000'\n",
       "71. '88.000000'\n",
       "72. '89 or older'\n",
       "73. 'No answer'\n",
       "\n",
       "\n"
      ],
      "text/plain": [
       " [1] \"18.000000\"   \"19.000000\"   \"20.000000\"   \"21.000000\"   \"22.000000\"  \n",
       " [6] \"23.000000\"   \"24.000000\"   \"25.000000\"   \"26.000000\"   \"27.000000\"  \n",
       "[11] \"28.000000\"   \"29.000000\"   \"30.000000\"   \"31.000000\"   \"32.000000\"  \n",
       "[16] \"33.000000\"   \"34.000000\"   \"35.000000\"   \"36.000000\"   \"37.000000\"  \n",
       "[21] \"38.000000\"   \"39.000000\"   \"40.000000\"   \"41.000000\"   \"42.000000\"  \n",
       "[26] \"43.000000\"   \"44.000000\"   \"45.000000\"   \"46.000000\"   \"47.000000\"  \n",
       "[31] \"48.000000\"   \"49.000000\"   \"50.000000\"   \"51.000000\"   \"52.000000\"  \n",
       "[36] \"53.000000\"   \"54.000000\"   \"55.000000\"   \"56.000000\"   \"57.000000\"  \n",
       "[41] \"58.000000\"   \"59.000000\"   \"60.000000\"   \"61.000000\"   \"62.000000\"  \n",
       "[46] \"63.000000\"   \"64.000000\"   \"65.000000\"   \"66.000000\"   \"67.000000\"  \n",
       "[51] \"68.000000\"   \"69.000000\"   \"70.000000\"   \"71.000000\"   \"72.000000\"  \n",
       "[56] \"73.000000\"   \"74.000000\"   \"75.000000\"   \"76.000000\"   \"77.000000\"  \n",
       "[61] \"78.000000\"   \"79.000000\"   \"80.000000\"   \"81.000000\"   \"82.000000\"  \n",
       "[66] \"83.000000\"   \"84.000000\"   \"85.000000\"   \"86.000000\"   \"87.000000\"  \n",
       "[71] \"88.000000\"   \"89 or older\" \"No answer\"  "
      ]
     },
     "metadata": {},
     "output_type": "display_data"
    }
   ],
   "source": [
    "levels(Age)"
   ]
  },
  {
   "cell_type": "code",
   "execution_count": 68,
   "metadata": {},
   "outputs": [
    {
     "data": {
      "text/html": [
       "<dl class=dl-horizontal>\n",
       "\t<dt>18.000000</dt>\n",
       "\t\t<dd>6</dd>\n",
       "\t<dt>19.000000</dt>\n",
       "\t\t<dd>25</dd>\n",
       "\t<dt>20.000000</dt>\n",
       "\t\t<dd>26</dd>\n",
       "\t<dt>21.000000</dt>\n",
       "\t\t<dd>24</dd>\n",
       "\t<dt>22.000000</dt>\n",
       "\t\t<dd>28</dd>\n",
       "\t<dt>23.000000</dt>\n",
       "\t\t<dd>30</dd>\n",
       "\t<dt>24.000000</dt>\n",
       "\t\t<dd>31</dd>\n",
       "\t<dt>25.000000</dt>\n",
       "\t\t<dd>48</dd>\n",
       "\t<dt>26.000000</dt>\n",
       "\t\t<dd>47</dd>\n",
       "\t<dt>27.000000</dt>\n",
       "\t\t<dd>41</dd>\n",
       "\t<dt>28.000000</dt>\n",
       "\t\t<dd>31</dd>\n",
       "\t<dt>29.000000</dt>\n",
       "\t\t<dd>51</dd>\n",
       "\t<dt>30.000000</dt>\n",
       "\t\t<dd>57</dd>\n",
       "\t<dt>31.000000</dt>\n",
       "\t\t<dd>49</dd>\n",
       "\t<dt>32.000000</dt>\n",
       "\t\t<dd>55</dd>\n",
       "\t<dt>33.000000</dt>\n",
       "\t\t<dd>47</dd>\n",
       "\t<dt>34.000000</dt>\n",
       "\t\t<dd>46</dd>\n",
       "\t<dt>35.000000</dt>\n",
       "\t\t<dd>40</dd>\n",
       "\t<dt>36.000000</dt>\n",
       "\t\t<dd>40</dd>\n",
       "\t<dt>37.000000</dt>\n",
       "\t\t<dd>54</dd>\n",
       "\t<dt>38.000000</dt>\n",
       "\t\t<dd>47</dd>\n",
       "\t<dt>39.000000</dt>\n",
       "\t\t<dd>52</dd>\n",
       "\t<dt>40.000000</dt>\n",
       "\t\t<dd>46</dd>\n",
       "\t<dt>41.000000</dt>\n",
       "\t\t<dd>54</dd>\n",
       "\t<dt>42.000000</dt>\n",
       "\t\t<dd>35</dd>\n",
       "\t<dt>43.000000</dt>\n",
       "\t\t<dd>54</dd>\n",
       "\t<dt>44.000000</dt>\n",
       "\t\t<dd>39</dd>\n",
       "\t<dt>45.000000</dt>\n",
       "\t\t<dd>41</dd>\n",
       "\t<dt>46.000000</dt>\n",
       "\t\t<dd>34</dd>\n",
       "\t<dt>47.000000</dt>\n",
       "\t\t<dd>43</dd>\n",
       "\t<dt>48.000000</dt>\n",
       "\t\t<dd>32</dd>\n",
       "\t<dt>49.000000</dt>\n",
       "\t\t<dd>39</dd>\n",
       "\t<dt>50.000000</dt>\n",
       "\t\t<dd>54</dd>\n",
       "\t<dt>51.000000</dt>\n",
       "\t\t<dd>45</dd>\n",
       "\t<dt>52.000000</dt>\n",
       "\t\t<dd>37</dd>\n",
       "\t<dt>53.000000</dt>\n",
       "\t\t<dd>60</dd>\n",
       "\t<dt>54.000000</dt>\n",
       "\t\t<dd>53</dd>\n",
       "\t<dt>55.000000</dt>\n",
       "\t\t<dd>52</dd>\n",
       "\t<dt>56.000000</dt>\n",
       "\t\t<dd>60</dd>\n",
       "\t<dt>57.000000</dt>\n",
       "\t\t<dd>43</dd>\n",
       "\t<dt>58.000000</dt>\n",
       "\t\t<dd>60</dd>\n",
       "\t<dt>59.000000</dt>\n",
       "\t\t<dd>47</dd>\n",
       "\t<dt>60.000000</dt>\n",
       "\t\t<dd>46</dd>\n",
       "\t<dt>61.000000</dt>\n",
       "\t\t<dd>38</dd>\n",
       "\t<dt>62.000000</dt>\n",
       "\t\t<dd>44</dd>\n",
       "\t<dt>63.000000</dt>\n",
       "\t\t<dd>42</dd>\n",
       "\t<dt>64.000000</dt>\n",
       "\t\t<dd>38</dd>\n",
       "\t<dt>65.000000</dt>\n",
       "\t\t<dd>40</dd>\n",
       "\t<dt>66.000000</dt>\n",
       "\t\t<dd>35</dd>\n",
       "\t<dt>67.000000</dt>\n",
       "\t\t<dd>41</dd>\n",
       "\t<dt>68.000000</dt>\n",
       "\t\t<dd>21</dd>\n",
       "\t<dt>69.000000</dt>\n",
       "\t\t<dd>23</dd>\n",
       "\t<dt>70.000000</dt>\n",
       "\t\t<dd>32</dd>\n",
       "\t<dt>71.000000</dt>\n",
       "\t\t<dd>28</dd>\n",
       "\t<dt>72.000000</dt>\n",
       "\t\t<dd>20</dd>\n",
       "\t<dt>73.000000</dt>\n",
       "\t\t<dd>22</dd>\n",
       "\t<dt>74.000000</dt>\n",
       "\t\t<dd>25</dd>\n",
       "\t<dt>75.000000</dt>\n",
       "\t\t<dd>21</dd>\n",
       "\t<dt>76.000000</dt>\n",
       "\t\t<dd>24</dd>\n",
       "\t<dt>77.000000</dt>\n",
       "\t\t<dd>17</dd>\n",
       "\t<dt>78.000000</dt>\n",
       "\t\t<dd>28</dd>\n",
       "\t<dt>79.000000</dt>\n",
       "\t\t<dd>26</dd>\n",
       "\t<dt>80.000000</dt>\n",
       "\t\t<dd>16</dd>\n",
       "\t<dt>81.000000</dt>\n",
       "\t\t<dd>14</dd>\n",
       "\t<dt>82.000000</dt>\n",
       "\t\t<dd>8</dd>\n",
       "\t<dt>83.000000</dt>\n",
       "\t\t<dd>11</dd>\n",
       "\t<dt>84.000000</dt>\n",
       "\t\t<dd>13</dd>\n",
       "\t<dt>85.000000</dt>\n",
       "\t\t<dd>6</dd>\n",
       "\t<dt>86.000000</dt>\n",
       "\t\t<dd>9</dd>\n",
       "\t<dt>87.000000</dt>\n",
       "\t\t<dd>8</dd>\n",
       "\t<dt>88.000000</dt>\n",
       "\t\t<dd>11</dd>\n",
       "\t<dt>89 or older</dt>\n",
       "\t\t<dd>19</dd>\n",
       "\t<dt>No answer</dt>\n",
       "\t\t<dd>9</dd>\n",
       "\t<dt>NA's</dt>\n",
       "\t\t<dd>2</dd>\n",
       "</dl>\n"
      ],
      "text/latex": [
       "\\begin{description*}\n",
       "\\item[18.000000] 6\n",
       "\\item[19.000000] 25\n",
       "\\item[20.000000] 26\n",
       "\\item[21.000000] 24\n",
       "\\item[22.000000] 28\n",
       "\\item[23.000000] 30\n",
       "\\item[24.000000] 31\n",
       "\\item[25.000000] 48\n",
       "\\item[26.000000] 47\n",
       "\\item[27.000000] 41\n",
       "\\item[28.000000] 31\n",
       "\\item[29.000000] 51\n",
       "\\item[30.000000] 57\n",
       "\\item[31.000000] 49\n",
       "\\item[32.000000] 55\n",
       "\\item[33.000000] 47\n",
       "\\item[34.000000] 46\n",
       "\\item[35.000000] 40\n",
       "\\item[36.000000] 40\n",
       "\\item[37.000000] 54\n",
       "\\item[38.000000] 47\n",
       "\\item[39.000000] 52\n",
       "\\item[40.000000] 46\n",
       "\\item[41.000000] 54\n",
       "\\item[42.000000] 35\n",
       "\\item[43.000000] 54\n",
       "\\item[44.000000] 39\n",
       "\\item[45.000000] 41\n",
       "\\item[46.000000] 34\n",
       "\\item[47.000000] 43\n",
       "\\item[48.000000] 32\n",
       "\\item[49.000000] 39\n",
       "\\item[50.000000] 54\n",
       "\\item[51.000000] 45\n",
       "\\item[52.000000] 37\n",
       "\\item[53.000000] 60\n",
       "\\item[54.000000] 53\n",
       "\\item[55.000000] 52\n",
       "\\item[56.000000] 60\n",
       "\\item[57.000000] 43\n",
       "\\item[58.000000] 60\n",
       "\\item[59.000000] 47\n",
       "\\item[60.000000] 46\n",
       "\\item[61.000000] 38\n",
       "\\item[62.000000] 44\n",
       "\\item[63.000000] 42\n",
       "\\item[64.000000] 38\n",
       "\\item[65.000000] 40\n",
       "\\item[66.000000] 35\n",
       "\\item[67.000000] 41\n",
       "\\item[68.000000] 21\n",
       "\\item[69.000000] 23\n",
       "\\item[70.000000] 32\n",
       "\\item[71.000000] 28\n",
       "\\item[72.000000] 20\n",
       "\\item[73.000000] 22\n",
       "\\item[74.000000] 25\n",
       "\\item[75.000000] 21\n",
       "\\item[76.000000] 24\n",
       "\\item[77.000000] 17\n",
       "\\item[78.000000] 28\n",
       "\\item[79.000000] 26\n",
       "\\item[80.000000] 16\n",
       "\\item[81.000000] 14\n",
       "\\item[82.000000] 8\n",
       "\\item[83.000000] 11\n",
       "\\item[84.000000] 13\n",
       "\\item[85.000000] 6\n",
       "\\item[86.000000] 9\n",
       "\\item[87.000000] 8\n",
       "\\item[88.000000] 11\n",
       "\\item[89 or older] 19\n",
       "\\item[No answer] 9\n",
       "\\item[NA's] 2\n",
       "\\end{description*}\n"
      ],
      "text/markdown": [
       "18.000000\n",
       ":   619.000000\n",
       ":   2520.000000\n",
       ":   2621.000000\n",
       ":   2422.000000\n",
       ":   2823.000000\n",
       ":   3024.000000\n",
       ":   3125.000000\n",
       ":   4826.000000\n",
       ":   4727.000000\n",
       ":   4128.000000\n",
       ":   3129.000000\n",
       ":   5130.000000\n",
       ":   5731.000000\n",
       ":   4932.000000\n",
       ":   5533.000000\n",
       ":   4734.000000\n",
       ":   4635.000000\n",
       ":   4036.000000\n",
       ":   4037.000000\n",
       ":   5438.000000\n",
       ":   4739.000000\n",
       ":   5240.000000\n",
       ":   4641.000000\n",
       ":   5442.000000\n",
       ":   3543.000000\n",
       ":   5444.000000\n",
       ":   3945.000000\n",
       ":   4146.000000\n",
       ":   3447.000000\n",
       ":   4348.000000\n",
       ":   3249.000000\n",
       ":   3950.000000\n",
       ":   5451.000000\n",
       ":   4552.000000\n",
       ":   3753.000000\n",
       ":   6054.000000\n",
       ":   5355.000000\n",
       ":   5256.000000\n",
       ":   6057.000000\n",
       ":   4358.000000\n",
       ":   6059.000000\n",
       ":   4760.000000\n",
       ":   4661.000000\n",
       ":   3862.000000\n",
       ":   4463.000000\n",
       ":   4264.000000\n",
       ":   3865.000000\n",
       ":   4066.000000\n",
       ":   3567.000000\n",
       ":   4168.000000\n",
       ":   2169.000000\n",
       ":   2370.000000\n",
       ":   3271.000000\n",
       ":   2872.000000\n",
       ":   2073.000000\n",
       ":   2274.000000\n",
       ":   2575.000000\n",
       ":   2176.000000\n",
       ":   2477.000000\n",
       ":   1778.000000\n",
       ":   2879.000000\n",
       ":   2680.000000\n",
       ":   1681.000000\n",
       ":   1482.000000\n",
       ":   883.000000\n",
       ":   1184.000000\n",
       ":   1385.000000\n",
       ":   686.000000\n",
       ":   987.000000\n",
       ":   888.000000\n",
       ":   1189 or older\n",
       ":   19No answer\n",
       ":   9NA's\n",
       ":   2\n",
       "\n"
      ],
      "text/plain": [
       "  18.000000   19.000000   20.000000   21.000000   22.000000   23.000000 \n",
       "          6          25          26          24          28          30 \n",
       "  24.000000   25.000000   26.000000   27.000000   28.000000   29.000000 \n",
       "         31          48          47          41          31          51 \n",
       "  30.000000   31.000000   32.000000   33.000000   34.000000   35.000000 \n",
       "         57          49          55          47          46          40 \n",
       "  36.000000   37.000000   38.000000   39.000000   40.000000   41.000000 \n",
       "         40          54          47          52          46          54 \n",
       "  42.000000   43.000000   44.000000   45.000000   46.000000   47.000000 \n",
       "         35          54          39          41          34          43 \n",
       "  48.000000   49.000000   50.000000   51.000000   52.000000   53.000000 \n",
       "         32          39          54          45          37          60 \n",
       "  54.000000   55.000000   56.000000   57.000000   58.000000   59.000000 \n",
       "         53          52          60          43          60          47 \n",
       "  60.000000   61.000000   62.000000   63.000000   64.000000   65.000000 \n",
       "         46          38          44          42          38          40 \n",
       "  66.000000   67.000000   68.000000   69.000000   70.000000   71.000000 \n",
       "         35          41          21          23          32          28 \n",
       "  72.000000   73.000000   74.000000   75.000000   76.000000   77.000000 \n",
       "         20          22          25          21          24          17 \n",
       "  78.000000   79.000000   80.000000   81.000000   82.000000   83.000000 \n",
       "         28          26          16          14           8          11 \n",
       "  84.000000   85.000000   86.000000   87.000000   88.000000 89 or older \n",
       "         13           6           9           8          11          19 \n",
       "  No answer        NA's \n",
       "          9           2 "
      ]
     },
     "metadata": {},
     "output_type": "display_data"
    }
   ],
   "source": [
    "summary(Age)"
   ]
  },
  {
   "cell_type": "code",
   "execution_count": 74,
   "metadata": {},
   "outputs": [
    {
     "name": "stderr",
     "output_type": "stream",
     "text": [
      "Warning message:\n",
      "\"Problem with `mutate()` input `tidyAge`.\n",
      "i 9 parsing failures.\n",
      " row col expected    actual\n",
      "  31  -- a number No answer\n",
      "  99  -- a number No answer\n",
      " 835  -- a number No answer\n",
      "1267  -- a number No answer\n",
      "1320  -- a number No answer\n",
      ".... ... ........ .........\n",
      "See problems(...) for more details.\n",
      "\n",
      "i Input `tidyAge` is `parse_number(Age)`.\"Warning message:\n",
      "\"9 parsing failures.\n",
      " row col expected    actual\n",
      "  31  -- a number No answer\n",
      "  99  -- a number No answer\n",
      " 835  -- a number No answer\n",
      "1267  -- a number No answer\n",
      "1320  -- a number No answer\n",
      ".... ... ........ .........\n",
      "See problems(...) for more details.\n",
      "\""
     ]
    },
    {
     "data": {
      "text/html": [
       "<dl class=dl-horizontal>\n",
       "\t<dt>Above 65</dt>\n",
       "\t\t<dd>518</dd>\n",
       "\t<dt>Below 65</dt>\n",
       "\t\t<dd>2011</dd>\n",
       "\t<dt>NA's</dt>\n",
       "\t\t<dd>11</dd>\n",
       "</dl>\n"
      ],
      "text/latex": [
       "\\begin{description*}\n",
       "\\item[Above 65] 518\n",
       "\\item[Below 65] 2011\n",
       "\\item[NA's] 11\n",
       "\\end{description*}\n"
      ],
      "text/markdown": [
       "Above 65\n",
       ":   518Below 65\n",
       ":   2011NA's\n",
       ":   11\n",
       "\n"
      ],
      "text/plain": [
       "Above 65 Below 65     NA's \n",
       "     518     2011       11 "
      ]
     },
     "metadata": {},
     "output_type": "display_data"
    }
   ],
   "source": [
    "GSS %>% mutate(tidyAge = parse_number(Age)) %>% \n",
    "mutate(tidyAge = if_else(tidyAge < 65, 'Below 65', 'Above 65')) %>% \n",
    "mutate(tidyAge = as.factor(tidyAge)) %>%\n",
    "pull(tidyAge) %>% summary()"
   ]
  },
  {
   "cell_type": "markdown",
   "metadata": {},
   "source": [
    "# Creating derived categorical variables"
   ]
  },
  {
   "cell_type": "markdown",
   "metadata": {},
   "source": [
    "# Defensive Coding"
   ]
  },
  {
   "cell_type": "code",
   "execution_count": null,
   "metadata": {},
   "outputs": [],
   "source": []
  }
 ],
 "metadata": {
  "kernelspec": {
   "display_name": "R",
   "language": "R",
   "name": "ir"
  },
  "language_info": {
   "codemirror_mode": "r",
   "file_extension": ".r",
   "mimetype": "text/x-r-source",
   "name": "R",
   "pygments_lexer": "r",
   "version": "3.6.1"
  }
 },
 "nbformat": 4,
 "nbformat_minor": 2
}
