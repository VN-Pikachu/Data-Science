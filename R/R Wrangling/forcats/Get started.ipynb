{
 "cells": [
  {
   "cell_type": "code",
   "execution_count": 3,
   "metadata": {},
   "outputs": [],
   "source": [
    "library(tidyverse)"
   ]
  },
  {
   "cell_type": "markdown",
   "metadata": {},
   "source": [
    "# Ordering by frequency"
   ]
  },
  {
   "cell_type": "markdown",
   "metadata": {},
   "source": [
    "**`fct_infreq()`**: For each category, calculate its frequency in the data, the order categories by frequency descending. By default, NA is put at the top "
   ]
  },
  {
   "cell_type": "markdown",
   "metadata": {},
   "source": [
    "Let’s try answering the question, “what are the most common hair colors of star wars characters?” Let’s start off by making a bar plot:"
   ]
  },
  {
   "cell_type": "code",
   "execution_count": 16,
   "metadata": {},
   "outputs": [
    {
     "data": {
      "image/png": "[encoded data removed]",
      "text/plain": [
       "plot without title"
      ]
     },
     "metadata": {},
     "output_type": "display_data"
    }
   ],
   "source": [
    "starwars %>% ggplot(aes(y = hair_color)) + \n",
    "geom_bar()"
   ]
  },
  {
   "cell_type": "markdown",
   "metadata": {},
   "source": [
    "That’s okay, but it would be more helpful the graph was ordered by count. This is a case of an unordered categorical variable where we want it ordered by its frequency. To do so, we can use the function **`fct_infreq()`**:"
   ]
  },
  {
   "cell_type": "code",
   "execution_count": 18,
   "metadata": {},
   "outputs": [
    {
     "data": {
      "image/png": "[encoded data removed]",
      "text/plain": [
       "plot without title"
      ]
     },
     "metadata": {},
     "output_type": "display_data"
    }
   ],
   "source": [
    "starwars %>% ggplot(aes(y = fct_infreq(hair_color))) + \n",
    "geom_bar() "
   ]
  },
  {
   "cell_type": "markdown",
   "metadata": {},
   "source": [
    "# Combining levels"
   ]
  },
  {
   "cell_type": "markdown",
   "metadata": {},
   "source": [
    "Let’s take a look at skin color now:"
   ]
  },
  {
   "cell_type": "code",
   "execution_count": 22,
   "metadata": {},
   "outputs": [
    {
     "data": {
      "text/html": [
       "<table>\n",
       "<thead><tr><th scope=col>skin_color</th><th scope=col>n</th></tr></thead>\n",
       "<tbody>\n",
       "\t<tr><td>fair               </td><td>17                 </td></tr>\n",
       "\t<tr><td>light              </td><td>11                 </td></tr>\n",
       "\t<tr><td>dark               </td><td> 6                 </td></tr>\n",
       "\t<tr><td>green              </td><td> 6                 </td></tr>\n",
       "\t<tr><td>grey               </td><td> 6                 </td></tr>\n",
       "\t<tr><td>pale               </td><td> 5                 </td></tr>\n",
       "\t<tr><td>brown              </td><td> 4                 </td></tr>\n",
       "\t<tr><td>blue               </td><td> 2                 </td></tr>\n",
       "\t<tr><td>blue, grey         </td><td> 2                 </td></tr>\n",
       "\t<tr><td>orange             </td><td> 2                 </td></tr>\n",
       "\t<tr><td>tan                </td><td> 2                 </td></tr>\n",
       "\t<tr><td>unknown            </td><td> 2                 </td></tr>\n",
       "\t<tr><td>white              </td><td> 2                 </td></tr>\n",
       "\t<tr><td>white, blue        </td><td> 2                 </td></tr>\n",
       "\t<tr><td>yellow             </td><td> 2                 </td></tr>\n",
       "\t<tr><td>brown mottle       </td><td> 1                 </td></tr>\n",
       "\t<tr><td>brown, white       </td><td> 1                 </td></tr>\n",
       "\t<tr><td>fair, green, yellow</td><td> 1                 </td></tr>\n",
       "\t<tr><td>gold               </td><td> 1                 </td></tr>\n",
       "\t<tr><td>green-tan, brown   </td><td> 1                 </td></tr>\n",
       "\t<tr><td>green, grey        </td><td> 1                 </td></tr>\n",
       "\t<tr><td>grey, blue         </td><td> 1                 </td></tr>\n",
       "\t<tr><td>grey, green, yellow</td><td> 1                 </td></tr>\n",
       "\t<tr><td>grey, red          </td><td> 1                 </td></tr>\n",
       "\t<tr><td>metal              </td><td> 1                 </td></tr>\n",
       "\t<tr><td>mottled green      </td><td> 1                 </td></tr>\n",
       "\t<tr><td>none               </td><td> 1                 </td></tr>\n",
       "\t<tr><td>red                </td><td> 1                 </td></tr>\n",
       "\t<tr><td>red, blue, white   </td><td> 1                 </td></tr>\n",
       "\t<tr><td>silver, red        </td><td> 1                 </td></tr>\n",
       "\t<tr><td>white, red         </td><td> 1                 </td></tr>\n",
       "</tbody>\n",
       "</table>\n"
      ],
      "text/latex": [
       "\\begin{tabular}{r|ll}\n",
       " skin\\_color & n\\\\\n",
       "\\hline\n",
       "\t fair                & 17                 \\\\\n",
       "\t light               & 11                 \\\\\n",
       "\t dark                &  6                 \\\\\n",
       "\t green               &  6                 \\\\\n",
       "\t grey                &  6                 \\\\\n",
       "\t pale                &  5                 \\\\\n",
       "\t brown               &  4                 \\\\\n",
       "\t blue                &  2                 \\\\\n",
       "\t blue, grey          &  2                 \\\\\n",
       "\t orange              &  2                 \\\\\n",
       "\t tan                 &  2                 \\\\\n",
       "\t unknown             &  2                 \\\\\n",
       "\t white               &  2                 \\\\\n",
       "\t white, blue         &  2                 \\\\\n",
       "\t yellow              &  2                 \\\\\n",
       "\t brown mottle        &  1                 \\\\\n",
       "\t brown, white        &  1                 \\\\\n",
       "\t fair, green, yellow &  1                 \\\\\n",
       "\t gold                &  1                 \\\\\n",
       "\t green-tan, brown    &  1                 \\\\\n",
       "\t green, grey         &  1                 \\\\\n",
       "\t grey, blue          &  1                 \\\\\n",
       "\t grey, green, yellow &  1                 \\\\\n",
       "\t grey, red           &  1                 \\\\\n",
       "\t metal               &  1                 \\\\\n",
       "\t mottled green       &  1                 \\\\\n",
       "\t none                &  1                 \\\\\n",
       "\t red                 &  1                 \\\\\n",
       "\t red, blue, white    &  1                 \\\\\n",
       "\t silver, red         &  1                 \\\\\n",
       "\t white, red          &  1                 \\\\\n",
       "\\end{tabular}\n"
      ],
      "text/markdown": [
       "\n",
       "| skin_color | n |\n",
       "|---|---|\n",
       "| fair                | 17                  |\n",
       "| light               | 11                  |\n",
       "| dark                |  6                  |\n",
       "| green               |  6                  |\n",
       "| grey                |  6                  |\n",
       "| pale                |  5                  |\n",
       "| brown               |  4                  |\n",
       "| blue                |  2                  |\n",
       "| blue, grey          |  2                  |\n",
       "| orange              |  2                  |\n",
       "| tan                 |  2                  |\n",
       "| unknown             |  2                  |\n",
       "| white               |  2                  |\n",
       "| white, blue         |  2                  |\n",
       "| yellow              |  2                  |\n",
       "| brown mottle        |  1                  |\n",
       "| brown, white        |  1                  |\n",
       "| fair, green, yellow |  1                  |\n",
       "| gold                |  1                  |\n",
       "| green-tan, brown    |  1                  |\n",
       "| green, grey         |  1                  |\n",
       "| grey, blue          |  1                  |\n",
       "| grey, green, yellow |  1                  |\n",
       "| grey, red           |  1                  |\n",
       "| metal               |  1                  |\n",
       "| mottled green       |  1                  |\n",
       "| none                |  1                  |\n",
       "| red                 |  1                  |\n",
       "| red, blue, white    |  1                  |\n",
       "| silver, red         |  1                  |\n",
       "| white, red          |  1                  |\n",
       "\n"
      ],
      "text/plain": [
       "   skin_color          n \n",
       "1  fair                17\n",
       "2  light               11\n",
       "3  dark                 6\n",
       "4  green                6\n",
       "5  grey                 6\n",
       "6  pale                 5\n",
       "7  brown                4\n",
       "8  blue                 2\n",
       "9  blue, grey           2\n",
       "10 orange               2\n",
       "11 tan                  2\n",
       "12 unknown              2\n",
       "13 white                2\n",
       "14 white, blue          2\n",
       "15 yellow               2\n",
       "16 brown mottle         1\n",
       "17 brown, white         1\n",
       "18 fair, green, yellow  1\n",
       "19 gold                 1\n",
       "20 green-tan, brown     1\n",
       "21 green, grey          1\n",
       "22 grey, blue           1\n",
       "23 grey, green, yellow  1\n",
       "24 grey, red            1\n",
       "25 metal                1\n",
       "26 mottled green        1\n",
       "27 none                 1\n",
       "28 red                  1\n",
       "29 red, blue, white     1\n",
       "30 silver, red          1\n",
       "31 white, red           1"
      ]
     },
     "metadata": {},
     "output_type": "display_data"
    }
   ],
   "source": [
    "starwars %>% count(skin_color, sort = T)"
   ]
  },
  {
   "cell_type": "markdown",
   "metadata": {},
   "source": [
    "We see that there’s 31 different skin colors - if we want to make a plot this would be way too many to display! Let’s reduce it to only be the top 5. We can use **`fct_lump()`** to “lump” all the infrequent colors into one factor, “other.” The argument n is the number of levels we want to keep."
   ]
  },
  {
   "cell_type": "code",
   "execution_count": 23,
   "metadata": {},
   "outputs": [
    {
     "data": {
      "text/html": [
       "<table>\n",
       "<thead><tr><th scope=col>skin_color</th><th scope=col>n</th></tr></thead>\n",
       "<tbody>\n",
       "\t<tr><td>Other</td><td>41   </td></tr>\n",
       "\t<tr><td>fair </td><td>17   </td></tr>\n",
       "\t<tr><td>light</td><td>11   </td></tr>\n",
       "\t<tr><td>dark </td><td> 6   </td></tr>\n",
       "\t<tr><td>green</td><td> 6   </td></tr>\n",
       "\t<tr><td>grey </td><td> 6   </td></tr>\n",
       "</tbody>\n",
       "</table>\n"
      ],
      "text/latex": [
       "\\begin{tabular}{r|ll}\n",
       " skin\\_color & n\\\\\n",
       "\\hline\n",
       "\t Other & 41   \\\\\n",
       "\t fair  & 17   \\\\\n",
       "\t light & 11   \\\\\n",
       "\t dark  &  6   \\\\\n",
       "\t green &  6   \\\\\n",
       "\t grey  &  6   \\\\\n",
       "\\end{tabular}\n"
      ],
      "text/markdown": [
       "\n",
       "| skin_color | n |\n",
       "|---|---|\n",
       "| Other | 41    |\n",
       "| fair  | 17    |\n",
       "| light | 11    |\n",
       "| dark  |  6    |\n",
       "| green |  6    |\n",
       "| grey  |  6    |\n",
       "\n"
      ],
      "text/plain": [
       "  skin_color n \n",
       "1 Other      41\n",
       "2 fair       17\n",
       "3 light      11\n",
       "4 dark        6\n",
       "5 green       6\n",
       "6 grey        6"
      ]
     },
     "metadata": {},
     "output_type": "display_data"
    }
   ],
   "source": [
    "starwars %>% mutate(skin_color = fct_lump(skin_color, n = 5)) %>% count(skin_color, sort = T)"
   ]
  },
  {
   "cell_type": "markdown",
   "metadata": {},
   "source": [
    "We could also have used `prop` instead, which keeps all the levels that appear at least prop of the time. For example, let’s keep skin colors that at least 10% of the characters have:"
   ]
  },
  {
   "cell_type": "code",
   "execution_count": 25,
   "metadata": {},
   "outputs": [
    {
     "data": {
      "text/html": [
       "<table>\n",
       "<thead><tr><th scope=col>skin_color</th><th scope=col>n</th></tr></thead>\n",
       "<tbody>\n",
       "\t<tr><td>Other</td><td>59   </td></tr>\n",
       "\t<tr><td>fair </td><td>17   </td></tr>\n",
       "\t<tr><td>light</td><td>11   </td></tr>\n",
       "</tbody>\n",
       "</table>\n"
      ],
      "text/latex": [
       "\\begin{tabular}{r|ll}\n",
       " skin\\_color & n\\\\\n",
       "\\hline\n",
       "\t Other & 59   \\\\\n",
       "\t fair  & 17   \\\\\n",
       "\t light & 11   \\\\\n",
       "\\end{tabular}\n"
      ],
      "text/markdown": [
       "\n",
       "| skin_color | n |\n",
       "|---|---|\n",
       "| Other | 59    |\n",
       "| fair  | 17    |\n",
       "| light | 11    |\n",
       "\n"
      ],
      "text/plain": [
       "  skin_color n \n",
       "1 Other      59\n",
       "2 fair       17\n",
       "3 light      11"
      ]
     },
     "metadata": {},
     "output_type": "display_data"
    }
   ],
   "source": [
    "starwars %>% mutate(skin_color = fct_lump(skin_color, prop = .1)) %>% count(skin_color, sort = T)"
   ]
  },
  {
   "cell_type": "markdown",
   "metadata": {},
   "source": [
    "If you wanted to call it something than “other”, you can change it with the argument `other_level`:"
   ]
  },
  {
   "cell_type": "code",
   "execution_count": 26,
   "metadata": {},
   "outputs": [
    {
     "data": {
      "text/html": [
       "<table>\n",
       "<thead><tr><th scope=col>skin_color</th><th scope=col>n</th></tr></thead>\n",
       "<tbody>\n",
       "\t<tr><td>Other skin color</td><td>41              </td></tr>\n",
       "\t<tr><td>fair            </td><td>17              </td></tr>\n",
       "\t<tr><td>light           </td><td>11              </td></tr>\n",
       "\t<tr><td>dark            </td><td> 6              </td></tr>\n",
       "\t<tr><td>green           </td><td> 6              </td></tr>\n",
       "\t<tr><td>grey            </td><td> 6              </td></tr>\n",
       "</tbody>\n",
       "</table>\n"
      ],
      "text/latex": [
       "\\begin{tabular}{r|ll}\n",
       " skin\\_color & n\\\\\n",
       "\\hline\n",
       "\t Other skin color & 41              \\\\\n",
       "\t fair             & 17              \\\\\n",
       "\t light            & 11              \\\\\n",
       "\t dark             &  6              \\\\\n",
       "\t green            &  6              \\\\\n",
       "\t grey             &  6              \\\\\n",
       "\\end{tabular}\n"
      ],
      "text/markdown": [
       "\n",
       "| skin_color | n |\n",
       "|---|---|\n",
       "| Other skin color | 41               |\n",
       "| fair             | 17               |\n",
       "| light            | 11               |\n",
       "| dark             |  6               |\n",
       "| green            |  6               |\n",
       "| grey             |  6               |\n",
       "\n"
      ],
      "text/plain": [
       "  skin_color       n \n",
       "1 Other skin color 41\n",
       "2 fair             17\n",
       "3 light            11\n",
       "4 dark              6\n",
       "5 green             6\n",
       "6 grey              6"
      ]
     },
     "metadata": {},
     "output_type": "display_data"
    }
   ],
   "source": [
    "starwars %>% mutate(skin_color = fct_lump(skin_color, n = 5, other_level = 'Other skin color')) %>% count(skin_color, sort = T)"
   ]
  },
  {
   "cell_type": "markdown",
   "metadata": {},
   "source": [
    "What if we wanted to see if the average mass differed by skin color? We’ll only look at the 6 most popular eye colors and remove NAs."
   ]
  },
  {
   "cell_type": "code",
   "execution_count": 33,
   "metadata": {},
   "outputs": [
    {
     "name": "stderr",
     "output_type": "stream",
     "text": [
      "`summarise()` ungrouping output (override with `.groups` argument)\n"
     ]
    },
    {
     "data": {
      "text/html": [
       "<table>\n",
       "<thead><tr><th scope=col>skin_color</th><th scope=col>mean_mass</th></tr></thead>\n",
       "<tbody>\n",
       "\t<tr><td>dark     </td><td> 74.50000</td></tr>\n",
       "\t<tr><td>fair     </td><td> 83.57778</td></tr>\n",
       "\t<tr><td>green    </td><td> 74.20000</td></tr>\n",
       "\t<tr><td>grey     </td><td> 79.50000</td></tr>\n",
       "\t<tr><td>light    </td><td> 75.85714</td></tr>\n",
       "\t<tr><td>pale     </td><td> 68.33333</td></tr>\n",
       "\t<tr><td>Other    </td><td>120.97037</td></tr>\n",
       "</tbody>\n",
       "</table>\n"
      ],
      "text/latex": [
       "\\begin{tabular}{r|ll}\n",
       " skin\\_color & mean\\_mass\\\\\n",
       "\\hline\n",
       "\t dark      &  74.50000\\\\\n",
       "\t fair      &  83.57778\\\\\n",
       "\t green     &  74.20000\\\\\n",
       "\t grey      &  79.50000\\\\\n",
       "\t light     &  75.85714\\\\\n",
       "\t pale      &  68.33333\\\\\n",
       "\t Other     & 120.97037\\\\\n",
       "\\end{tabular}\n"
      ],
      "text/markdown": [
       "\n",
       "| skin_color | mean_mass |\n",
       "|---|---|\n",
       "| dark      |  74.50000 |\n",
       "| fair      |  83.57778 |\n",
       "| green     |  74.20000 |\n",
       "| grey      |  79.50000 |\n",
       "| light     |  75.85714 |\n",
       "| pale      |  68.33333 |\n",
       "| Other     | 120.97037 |\n",
       "\n"
      ],
      "text/plain": [
       "  skin_color mean_mass\n",
       "1 dark        74.50000\n",
       "2 fair        83.57778\n",
       "3 green       74.20000\n",
       "4 grey        79.50000\n",
       "5 light       75.85714\n",
       "6 pale        68.33333\n",
       "7 Other      120.97037"
      ]
     },
     "metadata": {},
     "output_type": "display_data"
    }
   ],
   "source": [
    "avg_mass_eye_color<- starwars %>% \n",
    "mutate(skin_color = fct_lump(skin_color, n = 6)) %>% \n",
    "group_by(skin_color) %>% summarize(mean_mass = mean(mass, na.rm = T))\n",
    "\n",
    "avg_mass_eye_color"
   ]
  },
  {
   "cell_type": "markdown",
   "metadata": {},
   "source": [
    "# Ordering by another variable "
   ]
  },
  {
   "cell_type": "markdown",
   "metadata": {},
   "source": [
    "**`fct_reorder()`**: work like **`reorder()`**"
   ]
  },
  {
   "cell_type": "code",
   "execution_count": 36,
   "metadata": {},
   "outputs": [
    {
     "data": {
      "image/png": "[encoded data removed]",
      "text/plain": [
       "plot without title"
      ]
     },
     "metadata": {},
     "output_type": "display_data"
    }
   ],
   "source": [
    "avg_mass_eye_color %>% \n",
    "ggplot(aes(fct_reorder(skin_color, mean_mass), mean_mass)) + geom_col() + theme_light()"
   ]
  },
  {
   "cell_type": "markdown",
   "metadata": {},
   "source": [
    "# Manually reordering"
   ]
  },
  {
   "cell_type": "markdown",
   "metadata": {},
   "source": [
    "Let’s switch to using another dataset, `gss_cat`, the general social survey. What is the income distribution among the respondents?"
   ]
  },
  {
   "cell_type": "code",
   "execution_count": 37,
   "metadata": {},
   "outputs": [
    {
     "name": "stdout",
     "output_type": "stream",
     "text": [
      "Rows: 21,483\n",
      "Columns: 9\n",
      "$ year    <int> 2000, 2000, 2000, 2000, 2000, 2000, 2000, 2000, 2000, 2000,...\n",
      "$ marital <fct> Never married, Divorced, Widowed, Never married, Divorced, ...\n",
      "$ age     <int> 26, 48, 67, 39, 25, 25, 36, 44, 44, 47, 53, 52, 52, 51, 52,...\n",
      "$ race    <fct> White, White, White, White, White, White, White, White, Whi...\n",
      "$ rincome <fct> $8000 to 9999, $8000 to 9999, Not applicable, Not applicabl...\n",
      "$ partyid <fct> \"Ind,near rep\", \"Not str republican\", \"Independent\", \"Ind,n...\n",
      "$ relig   <fct> Protestant, Protestant, Protestant, Orthodox-christian, Non...\n",
      "$ denom   <fct> Southern baptist, Baptist-dk which, No denomination, Not ap...\n",
      "$ tvhours <int> 12, NA, 2, 4, 1, NA, 3, NA, 0, 3, 2, NA, 1, NA, 1, 7, NA, 3...\n"
     ]
    }
   ],
   "source": [
    "gss_cat %>% glimpse()"
   ]
  },
  {
   "cell_type": "code",
   "execution_count": 39,
   "metadata": {},
   "outputs": [
    {
     "data": {
      "text/html": [
       "<table>\n",
       "<thead><tr><th scope=col>rincome</th><th scope=col>n</th></tr></thead>\n",
       "<tbody>\n",
       "\t<tr><td>No answer     </td><td> 183          </td></tr>\n",
       "\t<tr><td>Don't know    </td><td> 267          </td></tr>\n",
       "\t<tr><td>Refused       </td><td> 975          </td></tr>\n",
       "\t<tr><td>$25000 or more</td><td>7363          </td></tr>\n",
       "\t<tr><td>$20000 - 24999</td><td>1283          </td></tr>\n",
       "\t<tr><td>$15000 - 19999</td><td>1048          </td></tr>\n",
       "\t<tr><td>$10000 - 14999</td><td>1168          </td></tr>\n",
       "\t<tr><td>$8000 to 9999 </td><td> 340          </td></tr>\n",
       "\t<tr><td>$7000 to 7999 </td><td> 188          </td></tr>\n",
       "\t<tr><td>$6000 to 6999 </td><td> 215          </td></tr>\n",
       "\t<tr><td>$5000 to 5999 </td><td> 227          </td></tr>\n",
       "\t<tr><td>$4000 to 4999 </td><td> 226          </td></tr>\n",
       "\t<tr><td>$3000 to 3999 </td><td> 276          </td></tr>\n",
       "\t<tr><td>$1000 to 2999 </td><td> 395          </td></tr>\n",
       "\t<tr><td>Lt $1000      </td><td> 286          </td></tr>\n",
       "\t<tr><td>Not applicable</td><td>7043          </td></tr>\n",
       "</tbody>\n",
       "</table>\n"
      ],
      "text/latex": [
       "\\begin{tabular}{r|ll}\n",
       " rincome & n\\\\\n",
       "\\hline\n",
       "\t No answer      &  183          \\\\\n",
       "\t Don't know     &  267          \\\\\n",
       "\t Refused        &  975          \\\\\n",
       "\t \\$25000 or more & 7363            \\\\\n",
       "\t \\$20000 - 24999 & 1283            \\\\\n",
       "\t \\$15000 - 19999 & 1048            \\\\\n",
       "\t \\$10000 - 14999 & 1168            \\\\\n",
       "\t \\$8000 to 9999  &  340            \\\\\n",
       "\t \\$7000 to 7999  &  188            \\\\\n",
       "\t \\$6000 to 6999  &  215            \\\\\n",
       "\t \\$5000 to 5999  &  227            \\\\\n",
       "\t \\$4000 to 4999  &  226            \\\\\n",
       "\t \\$3000 to 3999  &  276            \\\\\n",
       "\t \\$1000 to 2999  &  395            \\\\\n",
       "\t Lt \\$1000       &  286            \\\\\n",
       "\t Not applicable & 7043          \\\\\n",
       "\\end{tabular}\n"
      ],
      "text/markdown": [
       "\n",
       "| rincome | n |\n",
       "|---|---|\n",
       "| No answer      |  183           |\n",
       "| Don't know     |  267           |\n",
       "| Refused        |  975           |\n",
       "| $25000 or more | 7363           |\n",
       "| $20000 - 24999 | 1283           |\n",
       "| $15000 - 19999 | 1048           |\n",
       "| $10000 - 14999 | 1168           |\n",
       "| $8000 to 9999  |  340           |\n",
       "| $7000 to 7999  |  188           |\n",
       "| $6000 to 6999  |  215           |\n",
       "| $5000 to 5999  |  227           |\n",
       "| $4000 to 4999  |  226           |\n",
       "| $3000 to 3999  |  276           |\n",
       "| $1000 to 2999  |  395           |\n",
       "| Lt $1000       |  286           |\n",
       "| Not applicable | 7043           |\n",
       "\n"
      ],
      "text/plain": [
       "   rincome        n   \n",
       "1  No answer       183\n",
       "2  Don't know      267\n",
       "3  Refused         975\n",
       "4  $25000 or more 7363\n",
       "5  $20000 - 24999 1283\n",
       "6  $15000 - 19999 1048\n",
       "7  $10000 - 14999 1168\n",
       "8  $8000 to 9999   340\n",
       "9  $7000 to 7999   188\n",
       "10 $6000 to 6999   215\n",
       "11 $5000 to 5999   227\n",
       "12 $4000 to 4999   226\n",
       "13 $3000 to 3999   276\n",
       "14 $1000 to 2999   395\n",
       "15 Lt $1000        286\n",
       "16 Not applicable 7043"
      ]
     },
     "metadata": {},
     "output_type": "display_data"
    }
   ],
   "source": [
    "gss_cat %>% count(rincome)"
   ]
  },
  {
   "cell_type": "markdown",
   "metadata": {},
   "source": [
    "Notice that the income levels are in the correct order - they start with the non-answers and then go from highest to lowest. This is the same order you’d see if you plotted it as a bar chart. This is not a coincidence. When you’re working with ordinal data, where there is an order, you can have an ordered factor. You can examine them with the base function `levels()`, which prints them in order:"
   ]
  },
  {
   "cell_type": "code",
   "execution_count": 40,
   "metadata": {},
   "outputs": [
    {
     "data": {
      "text/html": [
       "<ol class=list-inline>\n",
       "\t<li>'No answer'</li>\n",
       "\t<li>'Don\\'t know'</li>\n",
       "\t<li>'Refused'</li>\n",
       "\t<li>'$25000 or more'</li>\n",
       "\t<li>'$20000 - 24999'</li>\n",
       "\t<li>'$15000 - 19999'</li>\n",
       "\t<li>'$10000 - 14999'</li>\n",
       "\t<li>'$8000 to 9999'</li>\n",
       "\t<li>'$7000 to 7999'</li>\n",
       "\t<li>'$6000 to 6999'</li>\n",
       "\t<li>'$5000 to 5999'</li>\n",
       "\t<li>'$4000 to 4999'</li>\n",
       "\t<li>'$3000 to 3999'</li>\n",
       "\t<li>'$1000 to 2999'</li>\n",
       "\t<li>'Lt $1000'</li>\n",
       "\t<li>'Not applicable'</li>\n",
       "</ol>\n"
      ],
      "text/latex": [
       "\\begin{enumerate*}\n",
       "\\item 'No answer'\n",
       "\\item 'Don\\textbackslash{}'t know'\n",
       "\\item 'Refused'\n",
       "\\item '\\$25000 or more'\n",
       "\\item '\\$20000 - 24999'\n",
       "\\item '\\$15000 - 19999'\n",
       "\\item '\\$10000 - 14999'\n",
       "\\item '\\$8000 to 9999'\n",
       "\\item '\\$7000 to 7999'\n",
       "\\item '\\$6000 to 6999'\n",
       "\\item '\\$5000 to 5999'\n",
       "\\item '\\$4000 to 4999'\n",
       "\\item '\\$3000 to 3999'\n",
       "\\item '\\$1000 to 2999'\n",
       "\\item 'Lt \\$1000'\n",
       "\\item 'Not applicable'\n",
       "\\end{enumerate*}\n"
      ],
      "text/markdown": [
       "1. 'No answer'\n",
       "2. 'Don\\'t know'\n",
       "3. 'Refused'\n",
       "4. '$25000 or more'\n",
       "5. '$20000 - 24999'\n",
       "6. '$15000 - 19999'\n",
       "7. '$10000 - 14999'\n",
       "8. '$8000 to 9999'\n",
       "9. '$7000 to 7999'\n",
       "10. '$6000 to 6999'\n",
       "11. '$5000 to 5999'\n",
       "12. '$4000 to 4999'\n",
       "13. '$3000 to 3999'\n",
       "14. '$1000 to 2999'\n",
       "15. 'Lt $1000'\n",
       "16. 'Not applicable'\n",
       "\n",
       "\n"
      ],
      "text/plain": [
       " [1] \"No answer\"      \"Don't know\"     \"Refused\"        \"$25000 or more\"\n",
       " [5] \"$20000 - 24999\" \"$15000 - 19999\" \"$10000 - 14999\" \"$8000 to 9999\" \n",
       " [9] \"$7000 to 7999\"  \"$6000 to 6999\"  \"$5000 to 5999\"  \"$4000 to 4999\" \n",
       "[13] \"$3000 to 3999\"  \"$1000 to 2999\"  \"Lt $1000\"       \"Not applicable\""
      ]
     },
     "metadata": {},
     "output_type": "display_data"
    }
   ],
   "source": [
    "gss_cat %>% pull(rincome) %>% levels()"
   ]
  },
  {
   "cell_type": "markdown",
   "metadata": {},
   "source": [
    "But what if your factor came in the wrong order? Let’s simulate that by reordering the levels of rincome randomly with **`fct_shuffle()`**:"
   ]
  },
  {
   "cell_type": "code",
   "execution_count": 42,
   "metadata": {},
   "outputs": [
    {
     "data": {
      "text/html": [
       "<ol class=list-inline>\n",
       "\t<li>'$8000 to 9999'</li>\n",
       "\t<li>'$7000 to 7999'</li>\n",
       "\t<li>'No answer'</li>\n",
       "\t<li>'$20000 - 24999'</li>\n",
       "\t<li>'Lt $1000'</li>\n",
       "\t<li>'$4000 to 4999'</li>\n",
       "\t<li>'Refused'</li>\n",
       "\t<li>'$5000 to 5999'</li>\n",
       "\t<li>'$1000 to 2999'</li>\n",
       "\t<li>'Not applicable'</li>\n",
       "\t<li>'$25000 or more'</li>\n",
       "\t<li>'Don\\'t know'</li>\n",
       "\t<li>'$15000 - 19999'</li>\n",
       "\t<li>'$10000 - 14999'</li>\n",
       "\t<li>'$6000 to 6999'</li>\n",
       "\t<li>'$3000 to 3999'</li>\n",
       "</ol>\n"
      ],
      "text/latex": [
       "\\begin{enumerate*}\n",
       "\\item '\\$8000 to 9999'\n",
       "\\item '\\$7000 to 7999'\n",
       "\\item 'No answer'\n",
       "\\item '\\$20000 - 24999'\n",
       "\\item 'Lt \\$1000'\n",
       "\\item '\\$4000 to 4999'\n",
       "\\item 'Refused'\n",
       "\\item '\\$5000 to 5999'\n",
       "\\item '\\$1000 to 2999'\n",
       "\\item 'Not applicable'\n",
       "\\item '\\$25000 or more'\n",
       "\\item 'Don\\textbackslash{}'t know'\n",
       "\\item '\\$15000 - 19999'\n",
       "\\item '\\$10000 - 14999'\n",
       "\\item '\\$6000 to 6999'\n",
       "\\item '\\$3000 to 3999'\n",
       "\\end{enumerate*}\n"
      ],
      "text/markdown": [
       "1. '$8000 to 9999'\n",
       "2. '$7000 to 7999'\n",
       "3. 'No answer'\n",
       "4. '$20000 - 24999'\n",
       "5. 'Lt $1000'\n",
       "6. '$4000 to 4999'\n",
       "7. 'Refused'\n",
       "8. '$5000 to 5999'\n",
       "9. '$1000 to 2999'\n",
       "10. 'Not applicable'\n",
       "11. '$25000 or more'\n",
       "12. 'Don\\'t know'\n",
       "13. '$15000 - 19999'\n",
       "14. '$10000 - 14999'\n",
       "15. '$6000 to 6999'\n",
       "16. '$3000 to 3999'\n",
       "\n",
       "\n"
      ],
      "text/plain": [
       " [1] \"$8000 to 9999\"  \"$7000 to 7999\"  \"No answer\"      \"$20000 - 24999\"\n",
       " [5] \"Lt $1000\"       \"$4000 to 4999\"  \"Refused\"        \"$5000 to 5999\" \n",
       " [9] \"$1000 to 2999\"  \"Not applicable\" \"$25000 or more\" \"Don't know\"    \n",
       "[13] \"$15000 - 19999\" \"$10000 - 14999\" \"$6000 to 6999\"  \"$3000 to 3999\" "
      ]
     },
     "metadata": {},
     "output_type": "display_data"
    }
   ],
   "source": [
    "reshuffled_income <- gss_cat %>% pull(rincome) %>% fct_shuffle()\n",
    "\n",
    "reshuffled_income %>% levels()"
   ]
  },
  {
   "cell_type": "markdown",
   "metadata": {},
   "source": [
    "We can use the function `fct_relevel()` when we need to manually reorder our factor levels. In addition to the factor, you give it a character vector of level names, and specify where you want to move them. It defaults to moving them to the front, but you can move them after another level with the argument `after`. If you want to move it to the end, you set after `equal` to `Inf`."
   ]
  },
  {
   "cell_type": "markdown",
   "metadata": {},
   "source": [
    "For example, let’s say we wanted to move `Lt $1000` and `$1000 to 2999` to the front. We would write:"
   ]
  },
  {
   "cell_type": "code",
   "execution_count": 45,
   "metadata": {},
   "outputs": [
    {
     "data": {
      "text/html": [
       "<ol class=list-inline>\n",
       "\t<li>'Lt $1000'</li>\n",
       "\t<li>'$1000 to 2999'</li>\n",
       "\t<li>'$8000 to 9999'</li>\n",
       "\t<li>'$7000 to 7999'</li>\n",
       "\t<li>'No answer'</li>\n",
       "\t<li>'$20000 - 24999'</li>\n",
       "\t<li>'$4000 to 4999'</li>\n",
       "\t<li>'Refused'</li>\n",
       "\t<li>'$5000 to 5999'</li>\n",
       "\t<li>'Not applicable'</li>\n",
       "\t<li>'$25000 or more'</li>\n",
       "\t<li>'Don\\'t know'</li>\n",
       "\t<li>'$15000 - 19999'</li>\n",
       "\t<li>'$10000 - 14999'</li>\n",
       "\t<li>'$6000 to 6999'</li>\n",
       "\t<li>'$3000 to 3999'</li>\n",
       "</ol>\n"
      ],
      "text/latex": [
       "\\begin{enumerate*}\n",
       "\\item 'Lt \\$1000'\n",
       "\\item '\\$1000 to 2999'\n",
       "\\item '\\$8000 to 9999'\n",
       "\\item '\\$7000 to 7999'\n",
       "\\item 'No answer'\n",
       "\\item '\\$20000 - 24999'\n",
       "\\item '\\$4000 to 4999'\n",
       "\\item 'Refused'\n",
       "\\item '\\$5000 to 5999'\n",
       "\\item 'Not applicable'\n",
       "\\item '\\$25000 or more'\n",
       "\\item 'Don\\textbackslash{}'t know'\n",
       "\\item '\\$15000 - 19999'\n",
       "\\item '\\$10000 - 14999'\n",
       "\\item '\\$6000 to 6999'\n",
       "\\item '\\$3000 to 3999'\n",
       "\\end{enumerate*}\n"
      ],
      "text/markdown": [
       "1. 'Lt $1000'\n",
       "2. '$1000 to 2999'\n",
       "3. '$8000 to 9999'\n",
       "4. '$7000 to 7999'\n",
       "5. 'No answer'\n",
       "6. '$20000 - 24999'\n",
       "7. '$4000 to 4999'\n",
       "8. 'Refused'\n",
       "9. '$5000 to 5999'\n",
       "10. 'Not applicable'\n",
       "11. '$25000 or more'\n",
       "12. 'Don\\'t know'\n",
       "13. '$15000 - 19999'\n",
       "14. '$10000 - 14999'\n",
       "15. '$6000 to 6999'\n",
       "16. '$3000 to 3999'\n",
       "\n",
       "\n"
      ],
      "text/plain": [
       " [1] \"Lt $1000\"       \"$1000 to 2999\"  \"$8000 to 9999\"  \"$7000 to 7999\" \n",
       " [5] \"No answer\"      \"$20000 - 24999\" \"$4000 to 4999\"  \"Refused\"       \n",
       " [9] \"$5000 to 5999\"  \"Not applicable\" \"$25000 or more\" \"Don't know\"    \n",
       "[13] \"$15000 - 19999\" \"$10000 - 14999\" \"$6000 to 6999\"  \"$3000 to 3999\" "
      ]
     },
     "metadata": {},
     "output_type": "display_data"
    }
   ],
   "source": [
    "reshuffled_income %>% fct_relevel(c('Lt $1000', '$1000 to 2999')) %>% levels()"
   ]
  },
  {
   "cell_type": "markdown",
   "metadata": {},
   "source": [
    "What if we want to move them to the second and third place?"
   ]
  },
  {
   "cell_type": "code",
   "execution_count": 47,
   "metadata": {},
   "outputs": [
    {
     "data": {
      "text/html": [
       "<ol class=list-inline>\n",
       "\t<li>'$8000 to 9999'</li>\n",
       "\t<li>'Lt $1000'</li>\n",
       "\t<li>'$1000 to 2999'</li>\n",
       "\t<li>'$7000 to 7999'</li>\n",
       "\t<li>'No answer'</li>\n",
       "\t<li>'$20000 - 24999'</li>\n",
       "\t<li>'$4000 to 4999'</li>\n",
       "\t<li>'Refused'</li>\n",
       "\t<li>'$5000 to 5999'</li>\n",
       "\t<li>'Not applicable'</li>\n",
       "\t<li>'$25000 or more'</li>\n",
       "\t<li>'Don\\'t know'</li>\n",
       "\t<li>'$15000 - 19999'</li>\n",
       "\t<li>'$10000 - 14999'</li>\n",
       "\t<li>'$6000 to 6999'</li>\n",
       "\t<li>'$3000 to 3999'</li>\n",
       "</ol>\n"
      ],
      "text/latex": [
       "\\begin{enumerate*}\n",
       "\\item '\\$8000 to 9999'\n",
       "\\item 'Lt \\$1000'\n",
       "\\item '\\$1000 to 2999'\n",
       "\\item '\\$7000 to 7999'\n",
       "\\item 'No answer'\n",
       "\\item '\\$20000 - 24999'\n",
       "\\item '\\$4000 to 4999'\n",
       "\\item 'Refused'\n",
       "\\item '\\$5000 to 5999'\n",
       "\\item 'Not applicable'\n",
       "\\item '\\$25000 or more'\n",
       "\\item 'Don\\textbackslash{}'t know'\n",
       "\\item '\\$15000 - 19999'\n",
       "\\item '\\$10000 - 14999'\n",
       "\\item '\\$6000 to 6999'\n",
       "\\item '\\$3000 to 3999'\n",
       "\\end{enumerate*}\n"
      ],
      "text/markdown": [
       "1. '$8000 to 9999'\n",
       "2. 'Lt $1000'\n",
       "3. '$1000 to 2999'\n",
       "4. '$7000 to 7999'\n",
       "5. 'No answer'\n",
       "6. '$20000 - 24999'\n",
       "7. '$4000 to 4999'\n",
       "8. 'Refused'\n",
       "9. '$5000 to 5999'\n",
       "10. 'Not applicable'\n",
       "11. '$25000 or more'\n",
       "12. 'Don\\'t know'\n",
       "13. '$15000 - 19999'\n",
       "14. '$10000 - 14999'\n",
       "15. '$6000 to 6999'\n",
       "16. '$3000 to 3999'\n",
       "\n",
       "\n"
      ],
      "text/plain": [
       " [1] \"$8000 to 9999\"  \"Lt $1000\"       \"$1000 to 2999\"  \"$7000 to 7999\" \n",
       " [5] \"No answer\"      \"$20000 - 24999\" \"$4000 to 4999\"  \"Refused\"       \n",
       " [9] \"$5000 to 5999\"  \"Not applicable\" \"$25000 or more\" \"Don't know\"    \n",
       "[13] \"$15000 - 19999\" \"$10000 - 14999\" \"$6000 to 6999\"  \"$3000 to 3999\" "
      ]
     },
     "metadata": {},
     "output_type": "display_data"
    }
   ],
   "source": [
    "reshuffled_income %>% fct_relevel(c('Lt $1000', '$1000 to 2999'), after = 1) %>% levels()"
   ]
  }
 ],
 "metadata": {
  "kernelspec": {
   "display_name": "R",
   "language": "R",
   "name": "ir"
  },
  "language_info": {
   "codemirror_mode": "r",
   "file_extension": ".r",
   "mimetype": "text/x-r-source",
   "name": "R",
   "pygments_lexer": "r",
   "version": "3.6.1"
  }
 },
 "nbformat": 4,
 "nbformat_minor": 2
}
