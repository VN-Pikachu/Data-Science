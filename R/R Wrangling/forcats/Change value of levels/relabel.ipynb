{
 "cells": [
  {
   "cell_type": "code",
   "execution_count": 3,
   "metadata": {},
   "outputs": [],
   "source": [
    "library(tidyverse)"
   ]
  },
  {
   "cell_type": "markdown",
   "metadata": {},
   "source": [
    "# Automatically relabel factor levels, collapse as necessary"
   ]
  },
  {
   "cell_type": "markdown",
   "metadata": {},
   "source": [
    "Automatically relabel factor levels, collapse as necessary\n",
    "```r\n",
    "fct_relabel(.f, .fun, ...)\n",
    "```\n",
    "**Arguments**   \n",
    "`.f`\t\n",
    "A factor (or character vector).\n",
    "\n",
    "`.fun`\t\n",
    "A function to be applied to each level. Must accept one character argument and return a character vector of the same length as its input.\n",
    "\n",
    "You can also use ~ to create as shorthand (in the style of purrr). ~ paste(., \"x\") is equivalent to function(.) paste(., \"x\")\n",
    "\n",
    "`...`\t\n",
    "Additional arguments to fun.\n",
    "\n"
   ]
  },
  {
   "cell_type": "markdown",
   "metadata": {},
   "source": [
    "# Examples"
   ]
  },
  {
   "cell_type": "markdown",
   "metadata": {},
   "source": [
    "Mapping a funtion for each category"
   ]
  },
  {
   "cell_type": "code",
   "execution_count": 5,
   "metadata": {},
   "outputs": [
    {
     "data": {
      "text/html": [
       "<ol class=list-inline>\n",
       "\t<li>Apple</li>\n",
       "\t<li>Angel</li>\n",
       "\t<li>Baby</li>\n",
       "\t<li>Baloon</li>\n",
       "</ol>\n",
       "\n",
       "<details>\n",
       "\t<summary style=display:list-item;cursor:pointer>\n",
       "\t\t<strong>Levels</strong>:\n",
       "\t</summary>\n",
       "\t<ol class=list-inline>\n",
       "\t\t<li>'Angel'</li>\n",
       "\t\t<li>'Apple'</li>\n",
       "\t\t<li>'Baby'</li>\n",
       "\t\t<li>'Baloon'</li>\n",
       "\t</ol>\n",
       "</details>"
      ],
      "text/latex": [
       "\\begin{enumerate*}\n",
       "\\item Apple\n",
       "\\item Angel\n",
       "\\item Baby\n",
       "\\item Baloon\n",
       "\\end{enumerate*}\n",
       "\n",
       "\\emph{Levels}: \\begin{enumerate*}\n",
       "\\item 'Angel'\n",
       "\\item 'Apple'\n",
       "\\item 'Baby'\n",
       "\\item 'Baloon'\n",
       "\\end{enumerate*}\n"
      ],
      "text/markdown": [
       "1. Apple\n",
       "2. Angel\n",
       "3. Baby\n",
       "4. Baloon\n",
       "\n",
       "\n",
       "\n",
       "**Levels**: 1. 'Angel'\n",
       "2. 'Apple'\n",
       "3. 'Baby'\n",
       "4. 'Baloon'\n",
       "\n",
       "\n"
      ],
      "text/plain": [
       "[1] Apple  Angel  Baby   Baloon\n",
       "Levels: Angel Apple Baby Baloon"
      ]
     },
     "metadata": {},
     "output_type": "display_data"
    }
   ],
   "source": [
    "values <- factor(c('Apple', 'Angel', 'Baby', 'Baloon'))\n",
    "values"
   ]
  },
  {
   "cell_type": "code",
   "execution_count": 6,
   "metadata": {},
   "outputs": [
    {
     "data": {
      "text/html": [
       "<ol class=list-inline>\n",
       "\t<li>A</li>\n",
       "\t<li>A</li>\n",
       "\t<li>B</li>\n",
       "\t<li>B</li>\n",
       "</ol>\n",
       "\n",
       "<details>\n",
       "\t<summary style=display:list-item;cursor:pointer>\n",
       "\t\t<strong>Levels</strong>:\n",
       "\t</summary>\n",
       "\t<ol class=list-inline>\n",
       "\t\t<li>'A'</li>\n",
       "\t\t<li>'B'</li>\n",
       "\t</ol>\n",
       "</details>"
      ],
      "text/latex": [
       "\\begin{enumerate*}\n",
       "\\item A\n",
       "\\item A\n",
       "\\item B\n",
       "\\item B\n",
       "\\end{enumerate*}\n",
       "\n",
       "\\emph{Levels}: \\begin{enumerate*}\n",
       "\\item 'A'\n",
       "\\item 'B'\n",
       "\\end{enumerate*}\n"
      ],
      "text/markdown": [
       "1. A\n",
       "2. A\n",
       "3. B\n",
       "4. B\n",
       "\n",
       "\n",
       "\n",
       "**Levels**: 1. 'A'\n",
       "2. 'B'\n",
       "\n",
       "\n"
      ],
      "text/plain": [
       "[1] A A B B\n",
       "Levels: A B"
      ]
     },
     "metadata": {},
     "output_type": "display_data"
    }
   ],
   "source": [
    "# Mapping each category to the first 1 character \n",
    "\n",
    "values %>% fct_relabel(.fun = str_sub, start = 1, end = 1)"
   ]
  },
  {
   "cell_type": "code",
   "execution_count": 8,
   "metadata": {},
   "outputs": [
    {
     "data": {
      "text/html": [
       "<ol class=list-inline>\n",
       "\t<li>Ap</li>\n",
       "\t<li>An</li>\n",
       "\t<li>Ba</li>\n",
       "\t<li>Ba</li>\n",
       "</ol>\n",
       "\n",
       "<details>\n",
       "\t<summary style=display:list-item;cursor:pointer>\n",
       "\t\t<strong>Levels</strong>:\n",
       "\t</summary>\n",
       "\t<ol class=list-inline>\n",
       "\t\t<li>'An'</li>\n",
       "\t\t<li>'Ap'</li>\n",
       "\t\t<li>'Ba'</li>\n",
       "\t</ol>\n",
       "</details>"
      ],
      "text/latex": [
       "\\begin{enumerate*}\n",
       "\\item Ap\n",
       "\\item An\n",
       "\\item Ba\n",
       "\\item Ba\n",
       "\\end{enumerate*}\n",
       "\n",
       "\\emph{Levels}: \\begin{enumerate*}\n",
       "\\item 'An'\n",
       "\\item 'Ap'\n",
       "\\item 'Ba'\n",
       "\\end{enumerate*}\n"
      ],
      "text/markdown": [
       "1. Ap\n",
       "2. An\n",
       "3. Ba\n",
       "4. Ba\n",
       "\n",
       "\n",
       "\n",
       "**Levels**: 1. 'An'\n",
       "2. 'Ap'\n",
       "3. 'Ba'\n",
       "\n",
       "\n"
      ],
      "text/plain": [
       "[1] Ap An Ba Ba\n",
       "Levels: An Ap Ba"
      ]
     },
     "metadata": {},
     "output_type": "display_data"
    }
   ],
   "source": [
    "# Mapping each category to the first 2 characters\n",
    "\n",
    "values %>% fct_relabel(str_sub, start = 1, end = 2)"
   ]
  }
 ],
 "metadata": {
  "kernelspec": {
   "display_name": "R",
   "language": "R",
   "name": "ir"
  },
  "language_info": {
   "codemirror_mode": "r",
   "file_extension": ".r",
   "mimetype": "text/x-r-source",
   "name": "R",
   "pygments_lexer": "r",
   "version": "3.6.1"
  }
 },
 "nbformat": 4,
 "nbformat_minor": 2
}
