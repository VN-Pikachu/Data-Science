{
 "cells": [
  {
   "cell_type": "code",
   "execution_count": 2,
   "metadata": {},
   "outputs": [],
   "source": [
    "library(tidyverse)"
   ]
  },
  {
   "cell_type": "markdown",
   "metadata": {},
   "source": [
    "# Anonymise factor levels"
   ]
  },
  {
   "cell_type": "markdown",
   "metadata": {},
   "source": [
    "Replaces factor levels with arbitrary numeric identifiers. Neither the values nor the order of the levels are preserved."
   ]
  },
  {
   "cell_type": "markdown",
   "metadata": {},
   "source": [
    "```r\n",
    "fct_anon(f, prefix = \"\")\n",
    "```"
   ]
  },
  {
   "cell_type": "markdown",
   "metadata": {},
   "source": [
    "**Arguments**  \n",
    "`f` \t\n",
    "A factor.\n",
    "\n",
    "`prefix` \t\n",
    "A character prefix to insert in front of the random labels."
   ]
  },
  {
   "cell_type": "markdown",
   "metadata": {},
   "source": [
    "# Examples"
   ]
  },
  {
   "cell_type": "code",
   "execution_count": 4,
   "metadata": {},
   "outputs": [
    {
     "data": {
      "text/html": [
       "<table>\n",
       "<thead><tr><th scope=col>f</th><th scope=col>n</th></tr></thead>\n",
       "<tbody>\n",
       "\t<tr><td>No answer              </td><td>   93                  </td></tr>\n",
       "\t<tr><td>Don't know             </td><td>   15                  </td></tr>\n",
       "\t<tr><td>Inter-nondenominational</td><td>  109                  </td></tr>\n",
       "\t<tr><td>Native american        </td><td>   23                  </td></tr>\n",
       "\t<tr><td>Christian              </td><td>  689                  </td></tr>\n",
       "\t<tr><td>Orthodox-christian     </td><td>   95                  </td></tr>\n",
       "\t<tr><td>Moslem/islam           </td><td>  104                  </td></tr>\n",
       "\t<tr><td>Other eastern          </td><td>   32                  </td></tr>\n",
       "\t<tr><td>Hinduism               </td><td>   71                  </td></tr>\n",
       "\t<tr><td>Buddhism               </td><td>  147                  </td></tr>\n",
       "\t<tr><td>Other                  </td><td>  224                  </td></tr>\n",
       "\t<tr><td>None                   </td><td> 3523                  </td></tr>\n",
       "\t<tr><td>Jewish                 </td><td>  388                  </td></tr>\n",
       "\t<tr><td>Catholic               </td><td> 5124                  </td></tr>\n",
       "\t<tr><td>Protestant             </td><td>10846                  </td></tr>\n",
       "\t<tr><td>Not applicable         </td><td>    0                  </td></tr>\n",
       "</tbody>\n",
       "</table>\n"
      ],
      "text/latex": [
       "\\begin{tabular}{r|ll}\n",
       " f & n\\\\\n",
       "\\hline\n",
       "\t No answer               &    93                  \\\\\n",
       "\t Don't know              &    15                  \\\\\n",
       "\t Inter-nondenominational &   109                  \\\\\n",
       "\t Native american         &    23                  \\\\\n",
       "\t Christian               &   689                  \\\\\n",
       "\t Orthodox-christian      &    95                  \\\\\n",
       "\t Moslem/islam            &   104                  \\\\\n",
       "\t Other eastern           &    32                  \\\\\n",
       "\t Hinduism                &    71                  \\\\\n",
       "\t Buddhism                &   147                  \\\\\n",
       "\t Other                   &   224                  \\\\\n",
       "\t None                    &  3523                  \\\\\n",
       "\t Jewish                  &   388                  \\\\\n",
       "\t Catholic                &  5124                  \\\\\n",
       "\t Protestant              & 10846                  \\\\\n",
       "\t Not applicable          &     0                  \\\\\n",
       "\\end{tabular}\n"
      ],
      "text/markdown": [
       "\n",
       "| f | n |\n",
       "|---|---|\n",
       "| No answer               |    93                   |\n",
       "| Don't know              |    15                   |\n",
       "| Inter-nondenominational |   109                   |\n",
       "| Native american         |    23                   |\n",
       "| Christian               |   689                   |\n",
       "| Orthodox-christian      |    95                   |\n",
       "| Moslem/islam            |   104                   |\n",
       "| Other eastern           |    32                   |\n",
       "| Hinduism                |    71                   |\n",
       "| Buddhism                |   147                   |\n",
       "| Other                   |   224                   |\n",
       "| None                    |  3523                   |\n",
       "| Jewish                  |   388                   |\n",
       "| Catholic                |  5124                   |\n",
       "| Protestant              | 10846                   |\n",
       "| Not applicable          |     0                   |\n",
       "\n"
      ],
      "text/plain": [
       "   f                       n    \n",
       "1  No answer                  93\n",
       "2  Don't know                 15\n",
       "3  Inter-nondenominational   109\n",
       "4  Native american            23\n",
       "5  Christian                 689\n",
       "6  Orthodox-christian         95\n",
       "7  Moslem/islam              104\n",
       "8  Other eastern              32\n",
       "9  Hinduism                   71\n",
       "10 Buddhism                  147\n",
       "11 Other                     224\n",
       "12 None                     3523\n",
       "13 Jewish                    388\n",
       "14 Catholic                 5124\n",
       "15 Protestant              10846\n",
       "16 Not applicable              0"
      ]
     },
     "metadata": {},
     "output_type": "display_data"
    }
   ],
   "source": [
    "gss_cat %>% pull(relig) %>% fct_count()"
   ]
  },
  {
   "cell_type": "code",
   "execution_count": 6,
   "metadata": {},
   "outputs": [
    {
     "data": {
      "text/html": [
       "<table>\n",
       "<thead><tr><th scope=col>f</th><th scope=col>n</th></tr></thead>\n",
       "<tbody>\n",
       "\t<tr><td>01   </td><td> 5124</td></tr>\n",
       "\t<tr><td>02   </td><td>  689</td></tr>\n",
       "\t<tr><td>03   </td><td>  388</td></tr>\n",
       "\t<tr><td>04   </td><td>10846</td></tr>\n",
       "\t<tr><td>05   </td><td>   71</td></tr>\n",
       "\t<tr><td>06   </td><td>  147</td></tr>\n",
       "\t<tr><td>07   </td><td>   93</td></tr>\n",
       "\t<tr><td>08   </td><td>   95</td></tr>\n",
       "\t<tr><td>09   </td><td>   32</td></tr>\n",
       "\t<tr><td>10   </td><td>  224</td></tr>\n",
       "\t<tr><td>11   </td><td>   15</td></tr>\n",
       "\t<tr><td>12   </td><td>   23</td></tr>\n",
       "\t<tr><td>13   </td><td>    0</td></tr>\n",
       "\t<tr><td>14   </td><td> 3523</td></tr>\n",
       "\t<tr><td>15   </td><td>  109</td></tr>\n",
       "\t<tr><td>16   </td><td>  104</td></tr>\n",
       "</tbody>\n",
       "</table>\n"
      ],
      "text/latex": [
       "\\begin{tabular}{r|ll}\n",
       " f & n\\\\\n",
       "\\hline\n",
       "\t 01    &  5124\\\\\n",
       "\t 02    &   689\\\\\n",
       "\t 03    &   388\\\\\n",
       "\t 04    & 10846\\\\\n",
       "\t 05    &    71\\\\\n",
       "\t 06    &   147\\\\\n",
       "\t 07    &    93\\\\\n",
       "\t 08    &    95\\\\\n",
       "\t 09    &    32\\\\\n",
       "\t 10    &   224\\\\\n",
       "\t 11    &    15\\\\\n",
       "\t 12    &    23\\\\\n",
       "\t 13    &     0\\\\\n",
       "\t 14    &  3523\\\\\n",
       "\t 15    &   109\\\\\n",
       "\t 16    &   104\\\\\n",
       "\\end{tabular}\n"
      ],
      "text/markdown": [
       "\n",
       "| f | n |\n",
       "|---|---|\n",
       "| 01    |  5124 |\n",
       "| 02    |   689 |\n",
       "| 03    |   388 |\n",
       "| 04    | 10846 |\n",
       "| 05    |    71 |\n",
       "| 06    |   147 |\n",
       "| 07    |    93 |\n",
       "| 08    |    95 |\n",
       "| 09    |    32 |\n",
       "| 10    |   224 |\n",
       "| 11    |    15 |\n",
       "| 12    |    23 |\n",
       "| 13    |     0 |\n",
       "| 14    |  3523 |\n",
       "| 15    |   109 |\n",
       "| 16    |   104 |\n",
       "\n"
      ],
      "text/plain": [
       "   f  n    \n",
       "1  01  5124\n",
       "2  02   689\n",
       "3  03   388\n",
       "4  04 10846\n",
       "5  05    71\n",
       "6  06   147\n",
       "7  07    93\n",
       "8  08    95\n",
       "9  09    32\n",
       "10 10   224\n",
       "11 11    15\n",
       "12 12    23\n",
       "13 13     0\n",
       "14 14  3523\n",
       "15 15   109\n",
       "16 16   104"
      ]
     },
     "metadata": {},
     "output_type": "display_data"
    }
   ],
   "source": [
    "gss_cat %>% pull(relig) %>% fct_anon() %>% fct_count()"
   ]
  },
  {
   "cell_type": "code",
   "execution_count": 7,
   "metadata": {},
   "outputs": [
    {
     "data": {
      "text/html": [
       "<table>\n",
       "<thead><tr><th scope=col>f</th><th scope=col>n</th></tr></thead>\n",
       "<tbody>\n",
       "\t<tr><td>XX01 </td><td> 3523</td></tr>\n",
       "\t<tr><td>XX02 </td><td>    0</td></tr>\n",
       "\t<tr><td>XX03 </td><td>   32</td></tr>\n",
       "\t<tr><td>XX04 </td><td>  224</td></tr>\n",
       "\t<tr><td>XX05 </td><td> 5124</td></tr>\n",
       "\t<tr><td>XX06 </td><td>  388</td></tr>\n",
       "\t<tr><td>XX07 </td><td>   23</td></tr>\n",
       "\t<tr><td>XX08 </td><td>  104</td></tr>\n",
       "\t<tr><td>XX09 </td><td>   95</td></tr>\n",
       "\t<tr><td>XX10 </td><td>  147</td></tr>\n",
       "\t<tr><td>XX11 </td><td>  109</td></tr>\n",
       "\t<tr><td>XX12 </td><td>  689</td></tr>\n",
       "\t<tr><td>XX13 </td><td>10846</td></tr>\n",
       "\t<tr><td>XX14 </td><td>   71</td></tr>\n",
       "\t<tr><td>XX15 </td><td>   15</td></tr>\n",
       "\t<tr><td>XX16 </td><td>   93</td></tr>\n",
       "</tbody>\n",
       "</table>\n"
      ],
      "text/latex": [
       "\\begin{tabular}{r|ll}\n",
       " f & n\\\\\n",
       "\\hline\n",
       "\t XX01  &  3523\\\\\n",
       "\t XX02  &     0\\\\\n",
       "\t XX03  &    32\\\\\n",
       "\t XX04  &   224\\\\\n",
       "\t XX05  &  5124\\\\\n",
       "\t XX06  &   388\\\\\n",
       "\t XX07  &    23\\\\\n",
       "\t XX08  &   104\\\\\n",
       "\t XX09  &    95\\\\\n",
       "\t XX10  &   147\\\\\n",
       "\t XX11  &   109\\\\\n",
       "\t XX12  &   689\\\\\n",
       "\t XX13  & 10846\\\\\n",
       "\t XX14  &    71\\\\\n",
       "\t XX15  &    15\\\\\n",
       "\t XX16  &    93\\\\\n",
       "\\end{tabular}\n"
      ],
      "text/markdown": [
       "\n",
       "| f | n |\n",
       "|---|---|\n",
       "| XX01  |  3523 |\n",
       "| XX02  |     0 |\n",
       "| XX03  |    32 |\n",
       "| XX04  |   224 |\n",
       "| XX05  |  5124 |\n",
       "| XX06  |   388 |\n",
       "| XX07  |    23 |\n",
       "| XX08  |   104 |\n",
       "| XX09  |    95 |\n",
       "| XX10  |   147 |\n",
       "| XX11  |   109 |\n",
       "| XX12  |   689 |\n",
       "| XX13  | 10846 |\n",
       "| XX14  |    71 |\n",
       "| XX15  |    15 |\n",
       "| XX16  |    93 |\n",
       "\n"
      ],
      "text/plain": [
       "   f    n    \n",
       "1  XX01  3523\n",
       "2  XX02     0\n",
       "3  XX03    32\n",
       "4  XX04   224\n",
       "5  XX05  5124\n",
       "6  XX06   388\n",
       "7  XX07    23\n",
       "8  XX08   104\n",
       "9  XX09    95\n",
       "10 XX10   147\n",
       "11 XX11   109\n",
       "12 XX12   689\n",
       "13 XX13 10846\n",
       "14 XX14    71\n",
       "15 XX15    15\n",
       "16 XX16    93"
      ]
     },
     "metadata": {},
     "output_type": "display_data"
    }
   ],
   "source": [
    "gss_cat %>% pull(relig) %>% fct_anon('XX') %>% fct_count()"
   ]
  },
  {
   "cell_type": "code",
   "execution_count": null,
   "metadata": {},
   "outputs": [],
   "source": []
  }
 ],
 "metadata": {
  "kernelspec": {
   "display_name": "R",
   "language": "R",
   "name": "ir"
  },
  "language_info": {
   "codemirror_mode": "r",
   "file_extension": ".r",
   "mimetype": "text/x-r-source",
   "name": "R",
   "pygments_lexer": "r",
   "version": "3.6.1"
  }
 },
 "nbformat": 4,
 "nbformat_minor": 2
}
