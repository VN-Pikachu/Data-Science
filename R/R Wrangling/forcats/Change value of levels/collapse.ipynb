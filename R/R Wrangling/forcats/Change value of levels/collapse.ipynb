{
 "cells": [
  {
   "cell_type": "code",
   "execution_count": 4,
   "metadata": {},
   "outputs": [],
   "source": [
    "library(tidyverse)"
   ]
  },
  {
   "cell_type": "markdown",
   "metadata": {},
   "source": [
    "# Collapse factor levels into manually defined groups"
   ]
  },
  {
   "cell_type": "markdown",
   "metadata": {},
   "source": [
    "```r\n",
    "fct_collapse(.f, ..., other_level = NULL, group_other = \"DEPRECATED\")\n",
    "```"
   ]
  },
  {
   "cell_type": "markdown",
   "metadata": {},
   "source": [
    "**Arguments**  \n",
    "`.f`\t\n",
    "A factor (or character vector).\n",
    "\n",
    "`...`\t\n",
    "<dynamic-dots> A series of named character vectors. The levels in each vector will be replaced with the name.\n",
    "\n",
    "`other_level`\t\n",
    "Value of level used for \"other\" values. Always placed at end of levels."
   ]
  },
  {
   "cell_type": "markdown",
   "metadata": {},
   "source": [
    "# Examples"
   ]
  },
  {
   "cell_type": "code",
   "execution_count": 12,
   "metadata": {},
   "outputs": [],
   "source": [
    "clans <- c('VN Champions', 'VIET NAM', 'CNABRHE', '03-rus', 'KING Allool')"
   ]
  },
  {
   "cell_type": "markdown",
   "metadata": {},
   "source": [
    "**`...`**"
   ]
  },
  {
   "cell_type": "code",
   "execution_count": 13,
   "metadata": {},
   "outputs": [
    {
     "data": {
      "text/html": [
       "<ol class=list-inline>\n",
       "\t<li>Vietnam</li>\n",
       "\t<li>Vietnam</li>\n",
       "\t<li>Russia</li>\n",
       "\t<li>Russia</li>\n",
       "\t<li>KING Allool</li>\n",
       "</ol>\n",
       "\n",
       "<details>\n",
       "\t<summary style=display:list-item;cursor:pointer>\n",
       "\t\t<strong>Levels</strong>:\n",
       "\t</summary>\n",
       "\t<ol class=list-inline>\n",
       "\t\t<li>'Russia'</li>\n",
       "\t\t<li>'KING Allool'</li>\n",
       "\t\t<li>'Vietnam'</li>\n",
       "\t</ol>\n",
       "</details>"
      ],
      "text/latex": [
       "\\begin{enumerate*}\n",
       "\\item Vietnam\n",
       "\\item Vietnam\n",
       "\\item Russia\n",
       "\\item Russia\n",
       "\\item KING Allool\n",
       "\\end{enumerate*}\n",
       "\n",
       "\\emph{Levels}: \\begin{enumerate*}\n",
       "\\item 'Russia'\n",
       "\\item 'KING Allool'\n",
       "\\item 'Vietnam'\n",
       "\\end{enumerate*}\n"
      ],
      "text/markdown": [
       "1. Vietnam\n",
       "2. Vietnam\n",
       "3. Russia\n",
       "4. Russia\n",
       "5. KING Allool\n",
       "\n",
       "\n",
       "\n",
       "**Levels**: 1. 'Russia'\n",
       "2. 'KING Allool'\n",
       "3. 'Vietnam'\n",
       "\n",
       "\n"
      ],
      "text/plain": [
       "[1] Vietnam     Vietnam     Russia      Russia      KING Allool\n",
       "Levels: Russia KING Allool Vietnam"
      ]
     },
     "metadata": {},
     "output_type": "display_data"
    }
   ],
   "source": [
    "clans %>% fct_collapse(\n",
    "    Vietnam = c('VN Champions', 'VIET NAM'),\n",
    "    Russia = c('CNABRHE', '03-rus')\n",
    ")"
   ]
  },
  {
   "cell_type": "markdown",
   "metadata": {},
   "source": [
    "**`other_level`**"
   ]
  },
  {
   "cell_type": "code",
   "execution_count": 15,
   "metadata": {},
   "outputs": [
    {
     "data": {
      "text/html": [
       "<ol class=list-inline>\n",
       "\t<li>Vietnam</li>\n",
       "\t<li>Vietnam</li>\n",
       "\t<li>Russia</li>\n",
       "\t<li>Russia</li>\n",
       "\t<li>Other countries</li>\n",
       "</ol>\n",
       "\n",
       "<details>\n",
       "\t<summary style=display:list-item;cursor:pointer>\n",
       "\t\t<strong>Levels</strong>:\n",
       "\t</summary>\n",
       "\t<ol class=list-inline>\n",
       "\t\t<li>'Russia'</li>\n",
       "\t\t<li>'Vietnam'</li>\n",
       "\t\t<li>'Other countries'</li>\n",
       "\t</ol>\n",
       "</details>"
      ],
      "text/latex": [
       "\\begin{enumerate*}\n",
       "\\item Vietnam\n",
       "\\item Vietnam\n",
       "\\item Russia\n",
       "\\item Russia\n",
       "\\item Other countries\n",
       "\\end{enumerate*}\n",
       "\n",
       "\\emph{Levels}: \\begin{enumerate*}\n",
       "\\item 'Russia'\n",
       "\\item 'Vietnam'\n",
       "\\item 'Other countries'\n",
       "\\end{enumerate*}\n"
      ],
      "text/markdown": [
       "1. Vietnam\n",
       "2. Vietnam\n",
       "3. Russia\n",
       "4. Russia\n",
       "5. Other countries\n",
       "\n",
       "\n",
       "\n",
       "**Levels**: 1. 'Russia'\n",
       "2. 'Vietnam'\n",
       "3. 'Other countries'\n",
       "\n",
       "\n"
      ],
      "text/plain": [
       "[1] Vietnam         Vietnam         Russia          Russia         \n",
       "[5] Other countries\n",
       "Levels: Russia Vietnam Other countries"
      ]
     },
     "metadata": {},
     "output_type": "display_data"
    }
   ],
   "source": [
    "clans %>% fct_collapse(\n",
    "    Vietnam = c('VN Champions', 'VIET NAM'),\n",
    "    Russia = c('CNABRHE', '03-rus'),\n",
    "    other_level = 'Other countries'\n",
    ")"
   ]
  }
 ],
 "metadata": {
  "kernelspec": {
   "display_name": "R",
   "language": "R",
   "name": "ir"
  },
  "language_info": {
   "codemirror_mode": "r",
   "file_extension": ".r",
   "mimetype": "text/x-r-source",
   "name": "R",
   "pygments_lexer": "r",
   "version": "3.6.1"
  }
 },
 "nbformat": 4,
 "nbformat_minor": 2
}
