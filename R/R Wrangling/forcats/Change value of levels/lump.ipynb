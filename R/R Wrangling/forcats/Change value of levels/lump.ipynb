{
 "cells": [
  {
   "cell_type": "code",
   "execution_count": 4,
   "metadata": {},
   "outputs": [],
   "source": [
    "library(tidyverse)"
   ]
  },
  {
   "cell_type": "markdown",
   "metadata": {},
   "source": [
    "# Lump together factor levels into \"other\""
   ]
  },
  {
   "cell_type": "markdown",
   "metadata": {},
   "source": [
    "A family for lumping together levels that meet some criteria.\n",
    "\n",
    "* `fct_lump_min()`: lumps levels that appear fewer than min times.\n",
    "\n",
    "* `fct_lump_prop()`: lumps levels that appear in fewer prop * n times.\n",
    "\n",
    "* `fct_lump_n()` lumps all levels except for the n most frequent (or least frequent if n < 0)\n",
    "\n",
    "* `fct_lump_lowfreq()` lumps together the least frequent levels, ensuring that \"other\" is still the smallest level.\n",
    "\n",
    "`fct_lump()` exists primarily for historical reasons, as it automatically picks between these different methods depending on its arguments. We no longer recommend that you use it."
   ]
  },
  {
   "cell_type": "markdown",
   "metadata": {},
   "source": [
    "```r\n",
    "fct_lump(\n",
    "  f,\n",
    "  n,\n",
    "  prop,\n",
    "  w = NULL,\n",
    "  other_level = \"Other\",\n",
    "  ties.method = c(\"min\", \"average\", \"first\", \"last\", \"random\", \"max\")\n",
    ")\n",
    "\n",
    "fct_lump_min(f, min, w = NULL, other_level = \"Other\")\n",
    "\n",
    "fct_lump_prop(f, prop, w = NULL, other_level = \"Other\")\n",
    "\n",
    "fct_lump_n(\n",
    "  f,\n",
    "  n,\n",
    "  w = NULL,\n",
    "  other_level = \"Other\",\n",
    "  ties.method = c(\"min\", \"average\", \"first\", \"last\", \"random\", \"max\")\n",
    ")\n",
    "\n",
    "fct_lump_lowfreq(f, other_level = \"Other\")\n",
    "```"
   ]
  },
  {
   "cell_type": "markdown",
   "metadata": {},
   "source": [
    "**Arguments**  \n",
    "`f`\t\n",
    "A factor (or character vector).\n",
    "\n",
    "`n`\t\n",
    "Positive n preserves the most common n values. Negative n preserves the least common -n values. It there are ties, you will get at least abs(n) values.\n",
    "\n",
    "`prop`\t\n",
    "Positive prop lumps values which do not appear at least prop of the time. Negative prop lumps values that do not appear at most -prop of the time.\n",
    "\n",
    "`w`\t\n",
    "An optional numeric vector giving weights for frequency of each value (not level) in f.\n",
    "\n",
    "`other_level`\t\n",
    "Value of level used for \"other\" values. Always placed at end of levels.\n",
    "\n",
    "`ties.method`\t\n",
    "A character string specifying how ties are treated. See rank() for details.\n",
    "\n",
    "`min`\t\n",
    "Preserve levels that appear at least min number of times."
   ]
  },
  {
   "cell_type": "markdown",
   "metadata": {},
   "source": [
    "# Examples"
   ]
  },
  {
   "cell_type": "code",
   "execution_count": 33,
   "metadata": {},
   "outputs": [
    {
     "data": {
      "text/html": [
       "<table>\n",
       "<thead><tr><th scope=col>f</th><th scope=col>n</th></tr></thead>\n",
       "<tbody>\n",
       "\t<tr><td>A </td><td>40</td></tr>\n",
       "\t<tr><td>B </td><td>10</td></tr>\n",
       "\t<tr><td>C </td><td> 5</td></tr>\n",
       "\t<tr><td>D </td><td>27</td></tr>\n",
       "\t<tr><td>E </td><td> 1</td></tr>\n",
       "\t<tr><td>F </td><td> 1</td></tr>\n",
       "\t<tr><td>G </td><td> 1</td></tr>\n",
       "\t<tr><td>H </td><td> 1</td></tr>\n",
       "\t<tr><td>I </td><td> 1</td></tr>\n",
       "</tbody>\n",
       "</table>\n"
      ],
      "text/latex": [
       "\\begin{tabular}{r|ll}\n",
       " f & n\\\\\n",
       "\\hline\n",
       "\t A  & 40\\\\\n",
       "\t B  & 10\\\\\n",
       "\t C  &  5\\\\\n",
       "\t D  & 27\\\\\n",
       "\t E  &  1\\\\\n",
       "\t F  &  1\\\\\n",
       "\t G  &  1\\\\\n",
       "\t H  &  1\\\\\n",
       "\t I  &  1\\\\\n",
       "\\end{tabular}\n"
      ],
      "text/markdown": [
       "\n",
       "| f | n |\n",
       "|---|---|\n",
       "| A  | 40 |\n",
       "| B  | 10 |\n",
       "| C  |  5 |\n",
       "| D  | 27 |\n",
       "| E  |  1 |\n",
       "| F  |  1 |\n",
       "| G  |  1 |\n",
       "| H  |  1 |\n",
       "| I  |  1 |\n",
       "\n"
      ],
      "text/plain": [
       "  f n \n",
       "1 A 40\n",
       "2 B 10\n",
       "3 C  5\n",
       "4 D 27\n",
       "5 E  1\n",
       "6 F  1\n",
       "7 G  1\n",
       "8 H  1\n",
       "9 I  1"
      ]
     },
     "metadata": {},
     "output_type": "display_data"
    }
   ],
   "source": [
    "x <- factor(rep(LETTERS[1:9], times = c(40, 10, 5, 27, 1, 1, 1, 1, 1)))\n",
    "\n",
    "# Frequency table\n",
    "x %>% fct_count()"
   ]
  },
  {
   "cell_type": "code",
   "execution_count": 19,
   "metadata": {},
   "outputs": [
    {
     "data": {
      "text/html": [
       "<table>\n",
       "<thead><tr><th scope=col>f</th><th scope=col>n</th></tr></thead>\n",
       "<tbody>\n",
       "\t<tr><td>A      </td><td>40     </td></tr>\n",
       "\t<tr><td>B      </td><td>10     </td></tr>\n",
       "\t<tr><td>C      </td><td> 5     </td></tr>\n",
       "\t<tr><td>D      </td><td>27     </td></tr>\n",
       "\t<tr><td>OUTLIER</td><td> 5     </td></tr>\n",
       "</tbody>\n",
       "</table>\n"
      ],
      "text/latex": [
       "\\begin{tabular}{r|ll}\n",
       " f & n\\\\\n",
       "\\hline\n",
       "\t A       & 40     \\\\\n",
       "\t B       & 10     \\\\\n",
       "\t C       &  5     \\\\\n",
       "\t D       & 27     \\\\\n",
       "\t OUTLIER &  5     \\\\\n",
       "\\end{tabular}\n"
      ],
      "text/markdown": [
       "\n",
       "| f | n |\n",
       "|---|---|\n",
       "| A       | 40      |\n",
       "| B       | 10      |\n",
       "| C       |  5      |\n",
       "| D       | 27      |\n",
       "| OUTLIER |  5      |\n",
       "\n"
      ],
      "text/plain": [
       "  f       n \n",
       "1 A       40\n",
       "2 B       10\n",
       "3 C        5\n",
       "4 D       27\n",
       "5 OUTLIER  5"
      ]
     },
     "metadata": {},
     "output_type": "display_data"
    }
   ],
   "source": [
    "# preserve 4 most commons categories (A, B, C, D). \n",
    "# change rest to 'outlier'. he result will have 5 categories. \n",
    "x %>% fct_lump_n(n = 4, other_level = 'OUTLIER') %>% fct_count()"
   ]
  },
  {
   "cell_type": "code",
   "execution_count": 29,
   "metadata": {},
   "outputs": [
    {
     "data": {
      "text/html": [
       "<table>\n",
       "<thead><tr><th scope=col>f</th><th scope=col>n</th></tr></thead>\n",
       "<tbody>\n",
       "\t<tr><td>C    </td><td> 5   </td></tr>\n",
       "\t<tr><td>E    </td><td> 1   </td></tr>\n",
       "\t<tr><td>F    </td><td> 1   </td></tr>\n",
       "\t<tr><td>G    </td><td> 1   </td></tr>\n",
       "\t<tr><td>H    </td><td> 1   </td></tr>\n",
       "\t<tr><td>I    </td><td> 1   </td></tr>\n",
       "\t<tr><td>Other</td><td>77   </td></tr>\n",
       "</tbody>\n",
       "</table>\n"
      ],
      "text/latex": [
       "\\begin{tabular}{r|ll}\n",
       " f & n\\\\\n",
       "\\hline\n",
       "\t C     &  5   \\\\\n",
       "\t E     &  1   \\\\\n",
       "\t F     &  1   \\\\\n",
       "\t G     &  1   \\\\\n",
       "\t H     &  1   \\\\\n",
       "\t I     &  1   \\\\\n",
       "\t Other & 77   \\\\\n",
       "\\end{tabular}\n"
      ],
      "text/markdown": [
       "\n",
       "| f | n |\n",
       "|---|---|\n",
       "| C     |  5    |\n",
       "| E     |  1    |\n",
       "| F     |  1    |\n",
       "| G     |  1    |\n",
       "| H     |  1    |\n",
       "| I     |  1    |\n",
       "| Other | 77    |\n",
       "\n"
      ],
      "text/plain": [
       "  f     n \n",
       "1 C      5\n",
       "2 E      1\n",
       "3 F      1\n",
       "4 G      1\n",
       "5 H      1\n",
       "6 I      1\n",
       "7 Other 77"
      ]
     },
     "metadata": {},
     "output_type": "display_data"
    }
   ],
   "source": [
    "# preserve 6 least common categories (C, E, F, G, H, I)\n",
    "# change the rest to 'Other' (default). The result will have 7 categories. \n",
    "x %>% fct_lump_n(n = -6) %>% fct_count()"
   ]
  },
  {
   "cell_type": "code",
   "execution_count": 30,
   "metadata": {},
   "outputs": [
    {
     "data": {
      "text/html": [
       "<table>\n",
       "<thead><tr><th scope=col>f</th><th scope=col>n</th></tr></thead>\n",
       "<tbody>\n",
       "\t<tr><td>A      </td><td>40     </td></tr>\n",
       "\t<tr><td>B      </td><td>10     </td></tr>\n",
       "\t<tr><td>D      </td><td>27     </td></tr>\n",
       "\t<tr><td>outlier</td><td>10     </td></tr>\n",
       "</tbody>\n",
       "</table>\n"
      ],
      "text/latex": [
       "\\begin{tabular}{r|ll}\n",
       " f & n\\\\\n",
       "\\hline\n",
       "\t A       & 40     \\\\\n",
       "\t B       & 10     \\\\\n",
       "\t D       & 27     \\\\\n",
       "\t outlier & 10     \\\\\n",
       "\\end{tabular}\n"
      ],
      "text/markdown": [
       "\n",
       "| f | n |\n",
       "|---|---|\n",
       "| A       | 40      |\n",
       "| B       | 10      |\n",
       "| D       | 27      |\n",
       "| outlier | 10      |\n",
       "\n"
      ],
      "text/plain": [
       "  f       n \n",
       "1 A       40\n",
       "2 B       10\n",
       "3 D       27\n",
       "4 outlier 10"
      ]
     },
     "metadata": {},
     "output_type": "display_data"
    }
   ],
   "source": [
    "# Preserve categories that appears at least 6 times. change the rest to 'outlier'\n",
    "x %>% fct_lump_min(6, other_level = 'outlier') %>% fct_count()"
   ]
  },
  {
   "cell_type": "code",
   "execution_count": 40,
   "metadata": {},
   "outputs": [
    {
     "data": {
      "text/html": [
       "<table>\n",
       "<thead><tr><th scope=col>f</th><th scope=col>n</th></tr></thead>\n",
       "<tbody>\n",
       "\t<tr><td>A    </td><td>40   </td></tr>\n",
       "\t<tr><td>D    </td><td>27   </td></tr>\n",
       "\t<tr><td>Other</td><td>20   </td></tr>\n",
       "</tbody>\n",
       "</table>\n"
      ],
      "text/latex": [
       "\\begin{tabular}{r|ll}\n",
       " f & n\\\\\n",
       "\\hline\n",
       "\t A     & 40   \\\\\n",
       "\t D     & 27   \\\\\n",
       "\t Other & 20   \\\\\n",
       "\\end{tabular}\n"
      ],
      "text/markdown": [
       "\n",
       "| f | n |\n",
       "|---|---|\n",
       "| A     | 40    |\n",
       "| D     | 27    |\n",
       "| Other | 20    |\n",
       "\n"
      ],
      "text/plain": [
       "  f     n \n",
       "1 A     40\n",
       "2 D     27\n",
       "3 Other 20"
      ]
     },
     "metadata": {},
     "output_type": "display_data"
    }
   ],
   "source": [
    "x %>% fct_lump_lowfreq() %>% fct_count()"
   ]
  },
  {
   "cell_type": "markdown",
   "metadata": {},
   "source": [
    "<hr>"
   ]
  },
  {
   "cell_type": "code",
   "execution_count": 32,
   "metadata": {},
   "outputs": [
    {
     "data": {
      "text/html": [
       "<table>\n",
       "<thead><tr><th scope=col>f</th><th scope=col>n</th><th scope=col>p</th></tr></thead>\n",
       "<tbody>\n",
       "\t<tr><td>A         </td><td>40        </td><td>0.45977011</td></tr>\n",
       "\t<tr><td>B         </td><td>10        </td><td>0.11494253</td></tr>\n",
       "\t<tr><td>C         </td><td> 5        </td><td>0.05747126</td></tr>\n",
       "\t<tr><td>D         </td><td>27        </td><td>0.31034483</td></tr>\n",
       "\t<tr><td>E         </td><td> 1        </td><td>0.01149425</td></tr>\n",
       "\t<tr><td>F         </td><td> 1        </td><td>0.01149425</td></tr>\n",
       "\t<tr><td>G         </td><td> 1        </td><td>0.01149425</td></tr>\n",
       "\t<tr><td>H         </td><td> 1        </td><td>0.01149425</td></tr>\n",
       "\t<tr><td>I         </td><td> 1        </td><td>0.01149425</td></tr>\n",
       "</tbody>\n",
       "</table>\n"
      ],
      "text/latex": [
       "\\begin{tabular}{r|lll}\n",
       " f & n & p\\\\\n",
       "\\hline\n",
       "\t A          & 40         & 0.45977011\\\\\n",
       "\t B          & 10         & 0.11494253\\\\\n",
       "\t C          &  5         & 0.05747126\\\\\n",
       "\t D          & 27         & 0.31034483\\\\\n",
       "\t E          &  1         & 0.01149425\\\\\n",
       "\t F          &  1         & 0.01149425\\\\\n",
       "\t G          &  1         & 0.01149425\\\\\n",
       "\t H          &  1         & 0.01149425\\\\\n",
       "\t I          &  1         & 0.01149425\\\\\n",
       "\\end{tabular}\n"
      ],
      "text/markdown": [
       "\n",
       "| f | n | p |\n",
       "|---|---|---|\n",
       "| A          | 40         | 0.45977011 |\n",
       "| B          | 10         | 0.11494253 |\n",
       "| C          |  5         | 0.05747126 |\n",
       "| D          | 27         | 0.31034483 |\n",
       "| E          |  1         | 0.01149425 |\n",
       "| F          |  1         | 0.01149425 |\n",
       "| G          |  1         | 0.01149425 |\n",
       "| H          |  1         | 0.01149425 |\n",
       "| I          |  1         | 0.01149425 |\n",
       "\n"
      ],
      "text/plain": [
       "  f n  p         \n",
       "1 A 40 0.45977011\n",
       "2 B 10 0.11494253\n",
       "3 C  5 0.05747126\n",
       "4 D 27 0.31034483\n",
       "5 E  1 0.01149425\n",
       "6 F  1 0.01149425\n",
       "7 G  1 0.01149425\n",
       "8 H  1 0.01149425\n",
       "9 I  1 0.01149425"
      ]
     },
     "metadata": {},
     "output_type": "display_data"
    }
   ],
   "source": [
    "# Relative frequency table\n",
    "x %>% fct_count(prop = T) "
   ]
  },
  {
   "cell_type": "code",
   "execution_count": 34,
   "metadata": {},
   "outputs": [
    {
     "data": {
      "text/html": [
       "<table>\n",
       "<thead><tr><th scope=col>f</th><th scope=col>n</th><th scope=col>p</th></tr></thead>\n",
       "<tbody>\n",
       "\t<tr><td>A         </td><td>40        </td><td>0.45977011</td></tr>\n",
       "\t<tr><td>B         </td><td>10        </td><td>0.11494253</td></tr>\n",
       "\t<tr><td>C         </td><td> 5        </td><td>0.05747126</td></tr>\n",
       "\t<tr><td>D         </td><td>27        </td><td>0.31034483</td></tr>\n",
       "\t<tr><td>Other     </td><td> 5        </td><td>0.05747126</td></tr>\n",
       "</tbody>\n",
       "</table>\n"
      ],
      "text/latex": [
       "\\begin{tabular}{r|lll}\n",
       " f & n & p\\\\\n",
       "\\hline\n",
       "\t A          & 40         & 0.45977011\\\\\n",
       "\t B          & 10         & 0.11494253\\\\\n",
       "\t C          &  5         & 0.05747126\\\\\n",
       "\t D          & 27         & 0.31034483\\\\\n",
       "\t Other      &  5         & 0.05747126\\\\\n",
       "\\end{tabular}\n"
      ],
      "text/markdown": [
       "\n",
       "| f | n | p |\n",
       "|---|---|---|\n",
       "| A          | 40         | 0.45977011 |\n",
       "| B          | 10         | 0.11494253 |\n",
       "| C          |  5         | 0.05747126 |\n",
       "| D          | 27         | 0.31034483 |\n",
       "| Other      |  5         | 0.05747126 |\n",
       "\n"
      ],
      "text/plain": [
       "  f     n  p         \n",
       "1 A     40 0.45977011\n",
       "2 B     10 0.11494253\n",
       "3 C      5 0.05747126\n",
       "4 D     27 0.31034483\n",
       "5 Other  5 0.05747126"
      ]
     },
     "metadata": {},
     "output_type": "display_data"
    }
   ],
   "source": [
    "# Preserve categories apprear at least 3%\n",
    "x %>% fct_lump_prop(.03) %>% fct_count(prop = T)"
   ]
  },
  {
   "cell_type": "code",
   "execution_count": 37,
   "metadata": {},
   "outputs": [
    {
     "data": {
      "text/html": [
       "<table>\n",
       "<thead><tr><th scope=col>f</th><th scope=col>n</th><th scope=col>p</th></tr></thead>\n",
       "<tbody>\n",
       "\t<tr><td>C         </td><td> 5        </td><td>0.05747126</td></tr>\n",
       "\t<tr><td>E         </td><td> 1        </td><td>0.01149425</td></tr>\n",
       "\t<tr><td>F         </td><td> 1        </td><td>0.01149425</td></tr>\n",
       "\t<tr><td>G         </td><td> 1        </td><td>0.01149425</td></tr>\n",
       "\t<tr><td>H         </td><td> 1        </td><td>0.01149425</td></tr>\n",
       "\t<tr><td>I         </td><td> 1        </td><td>0.01149425</td></tr>\n",
       "\t<tr><td>outlier   </td><td>77        </td><td>0.88505747</td></tr>\n",
       "</tbody>\n",
       "</table>\n"
      ],
      "text/latex": [
       "\\begin{tabular}{r|lll}\n",
       " f & n & p\\\\\n",
       "\\hline\n",
       "\t C          &  5         & 0.05747126\\\\\n",
       "\t E          &  1         & 0.01149425\\\\\n",
       "\t F          &  1         & 0.01149425\\\\\n",
       "\t G          &  1         & 0.01149425\\\\\n",
       "\t H          &  1         & 0.01149425\\\\\n",
       "\t I          &  1         & 0.01149425\\\\\n",
       "\t outlier    & 77         & 0.88505747\\\\\n",
       "\\end{tabular}\n"
      ],
      "text/markdown": [
       "\n",
       "| f | n | p |\n",
       "|---|---|---|\n",
       "| C          |  5         | 0.05747126 |\n",
       "| E          |  1         | 0.01149425 |\n",
       "| F          |  1         | 0.01149425 |\n",
       "| G          |  1         | 0.01149425 |\n",
       "| H          |  1         | 0.01149425 |\n",
       "| I          |  1         | 0.01149425 |\n",
       "| outlier    | 77         | 0.88505747 |\n",
       "\n"
      ],
      "text/plain": [
       "  f       n  p         \n",
       "1 C        5 0.05747126\n",
       "2 E        1 0.01149425\n",
       "3 F        1 0.01149425\n",
       "4 G        1 0.01149425\n",
       "5 H        1 0.01149425\n",
       "6 I        1 0.01149425\n",
       "7 outlier 77 0.88505747"
      ]
     },
     "metadata": {},
     "output_type": "display_data"
    }
   ],
   "source": [
    "# Preserve ategories appear at most 6%. change the rest to 'outlier'\n",
    "x %>% fct_lump_prop(-0.06, other_level = 'outlier') %>% fct_count(prop = T)"
   ]
  }
 ],
 "metadata": {
  "kernelspec": {
   "display_name": "R",
   "language": "R",
   "name": "ir"
  },
  "language_info": {
   "codemirror_mode": "r",
   "file_extension": ".r",
   "mimetype": "text/x-r-source",
   "name": "R",
   "pygments_lexer": "r",
   "version": "3.6.1"
  }
 },
 "nbformat": 4,
 "nbformat_minor": 2
}
