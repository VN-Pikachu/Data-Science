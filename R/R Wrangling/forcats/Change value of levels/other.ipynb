{
 "cells": [
  {
   "cell_type": "code",
   "execution_count": 2,
   "metadata": {},
   "outputs": [],
   "source": [
    "library(tidyverse)"
   ]
  },
  {
   "cell_type": "markdown",
   "metadata": {},
   "source": [
    "# Replace levels with \"other\""
   ]
  },
  {
   "cell_type": "markdown",
   "metadata": {},
   "source": [
    "Replace level with 'other'"
   ]
  },
  {
   "cell_type": "markdown",
   "metadata": {},
   "source": [
    "```r\n",
    "fct_other(f, keep, drop, other_level = \"Other\")\n",
    "```"
   ]
  },
  {
   "cell_type": "markdown",
   "metadata": {},
   "source": [
    "# Examples"
   ]
  },
  {
   "cell_type": "code",
   "execution_count": 7,
   "metadata": {},
   "outputs": [
    {
     "data": {
      "text/html": [
       "<ol class=list-inline>\n",
       "\t<li>VNC</li>\n",
       "\t<li>VNC</li>\n",
       "\t<li>Dirilis</li>\n",
       "\t<li>Dirilis</li>\n",
       "\t<li>King Allool</li>\n",
       "\t<li>King Allool</li>\n",
       "\t<li>Daemones</li>\n",
       "</ol>\n",
       "\n",
       "<details>\n",
       "\t<summary style=display:list-item;cursor:pointer>\n",
       "\t\t<strong>Levels</strong>:\n",
       "\t</summary>\n",
       "\t<ol class=list-inline>\n",
       "\t\t<li>'Daemones'</li>\n",
       "\t\t<li>'Dirilis'</li>\n",
       "\t\t<li>'King Allool'</li>\n",
       "\t\t<li>'VNC'</li>\n",
       "\t</ol>\n",
       "</details>"
      ],
      "text/latex": [
       "\\begin{enumerate*}\n",
       "\\item VNC\n",
       "\\item VNC\n",
       "\\item Dirilis\n",
       "\\item Dirilis\n",
       "\\item King Allool\n",
       "\\item King Allool\n",
       "\\item Daemones\n",
       "\\end{enumerate*}\n",
       "\n",
       "\\emph{Levels}: \\begin{enumerate*}\n",
       "\\item 'Daemones'\n",
       "\\item 'Dirilis'\n",
       "\\item 'King Allool'\n",
       "\\item 'VNC'\n",
       "\\end{enumerate*}\n"
      ],
      "text/markdown": [
       "1. VNC\n",
       "2. VNC\n",
       "3. Dirilis\n",
       "4. Dirilis\n",
       "5. King Allool\n",
       "6. King Allool\n",
       "7. Daemones\n",
       "\n",
       "\n",
       "\n",
       "**Levels**: 1. 'Daemones'\n",
       "2. 'Dirilis'\n",
       "3. 'King Allool'\n",
       "4. 'VNC'\n",
       "\n",
       "\n"
      ],
      "text/plain": [
       "[1] VNC         VNC         Dirilis     Dirilis     King Allool King Allool\n",
       "[7] Daemones   \n",
       "Levels: Daemones Dirilis King Allool VNC"
      ]
     },
     "metadata": {},
     "output_type": "display_data"
    }
   ],
   "source": [
    "clans <- factor(c('VNC', 'VNC', 'Dirilis', 'Dirilis', 'King Allool', 'King Allool', 'Daemones'))\n",
    "\n",
    "clans"
   ]
  },
  {
   "cell_type": "code",
   "execution_count": 8,
   "metadata": {},
   "outputs": [
    {
     "data": {
      "text/html": [
       "<ol class=list-inline>\n",
       "\t<li>Other</li>\n",
       "\t<li>Other</li>\n",
       "\t<li>Dirilis</li>\n",
       "\t<li>Dirilis</li>\n",
       "\t<li>King Allool</li>\n",
       "\t<li>King Allool</li>\n",
       "\t<li>Other</li>\n",
       "</ol>\n",
       "\n",
       "<details>\n",
       "\t<summary style=display:list-item;cursor:pointer>\n",
       "\t\t<strong>Levels</strong>:\n",
       "\t</summary>\n",
       "\t<ol class=list-inline>\n",
       "\t\t<li>'Dirilis'</li>\n",
       "\t\t<li>'King Allool'</li>\n",
       "\t\t<li>'Other'</li>\n",
       "\t</ol>\n",
       "</details>"
      ],
      "text/latex": [
       "\\begin{enumerate*}\n",
       "\\item Other\n",
       "\\item Other\n",
       "\\item Dirilis\n",
       "\\item Dirilis\n",
       "\\item King Allool\n",
       "\\item King Allool\n",
       "\\item Other\n",
       "\\end{enumerate*}\n",
       "\n",
       "\\emph{Levels}: \\begin{enumerate*}\n",
       "\\item 'Dirilis'\n",
       "\\item 'King Allool'\n",
       "\\item 'Other'\n",
       "\\end{enumerate*}\n"
      ],
      "text/markdown": [
       "1. Other\n",
       "2. Other\n",
       "3. Dirilis\n",
       "4. Dirilis\n",
       "5. King Allool\n",
       "6. King Allool\n",
       "7. Other\n",
       "\n",
       "\n",
       "\n",
       "**Levels**: 1. 'Dirilis'\n",
       "2. 'King Allool'\n",
       "3. 'Other'\n",
       "\n",
       "\n"
      ],
      "text/plain": [
       "[1] Other       Other       Dirilis     Dirilis     King Allool King Allool\n",
       "[7] Other      \n",
       "Levels: Dirilis King Allool Other"
      ]
     },
     "metadata": {},
     "output_type": "display_data"
    }
   ],
   "source": [
    "# keep category 'Dirilis' and 'King Allool'. Change the rest to 'Other' (default)\n",
    "\n",
    "clans %>% fct_other(keep = c('Dirilis', 'King Allool'))"
   ]
  },
  {
   "cell_type": "code",
   "execution_count": 9,
   "metadata": {},
   "outputs": [
    {
     "data": {
      "text/html": [
       "<ol class=list-inline>\n",
       "\t<li>VNC</li>\n",
       "\t<li>VNC</li>\n",
       "\t<li>Dirty Clan</li>\n",
       "\t<li>Dirty Clan</li>\n",
       "\t<li>Dirty Clan</li>\n",
       "\t<li>Dirty Clan</li>\n",
       "\t<li>Daemones</li>\n",
       "</ol>\n",
       "\n",
       "<details>\n",
       "\t<summary style=display:list-item;cursor:pointer>\n",
       "\t\t<strong>Levels</strong>:\n",
       "\t</summary>\n",
       "\t<ol class=list-inline>\n",
       "\t\t<li>'Daemones'</li>\n",
       "\t\t<li>'VNC'</li>\n",
       "\t\t<li>'Dirty Clan'</li>\n",
       "\t</ol>\n",
       "</details>"
      ],
      "text/latex": [
       "\\begin{enumerate*}\n",
       "\\item VNC\n",
       "\\item VNC\n",
       "\\item Dirty Clan\n",
       "\\item Dirty Clan\n",
       "\\item Dirty Clan\n",
       "\\item Dirty Clan\n",
       "\\item Daemones\n",
       "\\end{enumerate*}\n",
       "\n",
       "\\emph{Levels}: \\begin{enumerate*}\n",
       "\\item 'Daemones'\n",
       "\\item 'VNC'\n",
       "\\item 'Dirty Clan'\n",
       "\\end{enumerate*}\n"
      ],
      "text/markdown": [
       "1. VNC\n",
       "2. VNC\n",
       "3. Dirty Clan\n",
       "4. Dirty Clan\n",
       "5. Dirty Clan\n",
       "6. Dirty Clan\n",
       "7. Daemones\n",
       "\n",
       "\n",
       "\n",
       "**Levels**: 1. 'Daemones'\n",
       "2. 'VNC'\n",
       "3. 'Dirty Clan'\n",
       "\n",
       "\n"
      ],
      "text/plain": [
       "[1] VNC        VNC        Dirty Clan Dirty Clan Dirty Clan Dirty Clan Daemones  \n",
       "Levels: Daemones VNC Dirty Clan"
      ]
     },
     "metadata": {},
     "output_type": "display_data"
    }
   ],
   "source": [
    "# Change category 'Dirilis' and 'King Alool' to 'Dirty clan'.\n",
    "clans %>% fct_other(drop = c('Dirilis', 'King Allool'), other_level = 'Dirty Clan')"
   ]
  }
 ],
 "metadata": {
  "kernelspec": {
   "display_name": "R",
   "language": "R",
   "name": "ir"
  },
  "language_info": {
   "codemirror_mode": "r",
   "file_extension": ".r",
   "mimetype": "text/x-r-source",
   "name": "R",
   "pygments_lexer": "r",
   "version": "3.6.1"
  }
 },
 "nbformat": 4,
 "nbformat_minor": 2
}
