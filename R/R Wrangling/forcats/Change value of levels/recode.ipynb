{
 "cells": [
  {
   "cell_type": "code",
   "execution_count": 4,
   "metadata": {},
   "outputs": [],
   "source": [
    "library(tidyverse)"
   ]
  },
  {
   "cell_type": "markdown",
   "metadata": {},
   "source": [
    "# Change factor levels by hand"
   ]
  },
  {
   "cell_type": "markdown",
   "metadata": {},
   "source": [
    "Change factor levels by hand\n",
    "```r\n",
    "fct_recode(.f, ...)\n",
    "```"
   ]
  },
  {
   "cell_type": "markdown",
   "metadata": {},
   "source": [
    "**Arguments**    \n",
    "`.f`\n",
    "A factor (or character vector).\n",
    "\n",
    "`...`\t\n",
    "`<dynamic-dots>` A sequence of named character vectors where the name gives the new level, and the value gives the old level. Levels not otherwise mentioned will be left as is. Levels can be removed by naming them NULL. Uses tidy dots.\n",
    "    "
   ]
  },
  {
   "cell_type": "markdown",
   "metadata": {},
   "source": [
    "# Examples"
   ]
  },
  {
   "cell_type": "code",
   "execution_count": 1,
   "metadata": {},
   "outputs": [
    {
     "data": {
      "text/html": [
       "<ol class=list-inline>\n",
       "\t<li>apple</li>\n",
       "\t<li>bear</li>\n",
       "\t<li>banana</li>\n",
       "\t<li>dear</li>\n",
       "</ol>\n",
       "\n",
       "<details>\n",
       "\t<summary style=display:list-item;cursor:pointer>\n",
       "\t\t<strong>Levels</strong>:\n",
       "\t</summary>\n",
       "\t<ol class=list-inline>\n",
       "\t\t<li>'apple'</li>\n",
       "\t\t<li>'banana'</li>\n",
       "\t\t<li>'bear'</li>\n",
       "\t\t<li>'dear'</li>\n",
       "\t</ol>\n",
       "</details>"
      ],
      "text/latex": [
       "\\begin{enumerate*}\n",
       "\\item apple\n",
       "\\item bear\n",
       "\\item banana\n",
       "\\item dear\n",
       "\\end{enumerate*}\n",
       "\n",
       "\\emph{Levels}: \\begin{enumerate*}\n",
       "\\item 'apple'\n",
       "\\item 'banana'\n",
       "\\item 'bear'\n",
       "\\item 'dear'\n",
       "\\end{enumerate*}\n"
      ],
      "text/markdown": [
       "1. apple\n",
       "2. bear\n",
       "3. banana\n",
       "4. dear\n",
       "\n",
       "\n",
       "\n",
       "**Levels**: 1. 'apple'\n",
       "2. 'banana'\n",
       "3. 'bear'\n",
       "4. 'dear'\n",
       "\n",
       "\n"
      ],
      "text/plain": [
       "[1] apple  bear   banana dear  \n",
       "Levels: apple banana bear dear"
      ]
     },
     "metadata": {},
     "output_type": "display_data"
    }
   ],
   "source": [
    "x <- factor(c(\"apple\", \"bear\", \"banana\", \"dear\"))\n",
    "x"
   ]
  },
  {
   "cell_type": "code",
   "execution_count": 5,
   "metadata": {},
   "outputs": [
    {
     "data": {
      "text/html": [
       "<ol class=list-inline>\n",
       "\t<li>Tao</li>\n",
       "\t<li>bear</li>\n",
       "\t<li>Chuoi</li>\n",
       "\t<li>dear</li>\n",
       "</ol>\n",
       "\n",
       "<details>\n",
       "\t<summary style=display:list-item;cursor:pointer>\n",
       "\t\t<strong>Levels</strong>:\n",
       "\t</summary>\n",
       "\t<ol class=list-inline>\n",
       "\t\t<li>'Tao'</li>\n",
       "\t\t<li>'Chuoi'</li>\n",
       "\t\t<li>'bear'</li>\n",
       "\t\t<li>'dear'</li>\n",
       "\t</ol>\n",
       "</details>"
      ],
      "text/latex": [
       "\\begin{enumerate*}\n",
       "\\item Tao\n",
       "\\item bear\n",
       "\\item Chuoi\n",
       "\\item dear\n",
       "\\end{enumerate*}\n",
       "\n",
       "\\emph{Levels}: \\begin{enumerate*}\n",
       "\\item 'Tao'\n",
       "\\item 'Chuoi'\n",
       "\\item 'bear'\n",
       "\\item 'dear'\n",
       "\\end{enumerate*}\n"
      ],
      "text/markdown": [
       "1. Tao\n",
       "2. bear\n",
       "3. Chuoi\n",
       "4. dear\n",
       "\n",
       "\n",
       "\n",
       "**Levels**: 1. 'Tao'\n",
       "2. 'Chuoi'\n",
       "3. 'bear'\n",
       "4. 'dear'\n",
       "\n",
       "\n"
      ],
      "text/plain": [
       "[1] Tao   bear  Chuoi dear \n",
       "Levels: Tao Chuoi bear dear"
      ]
     },
     "metadata": {},
     "output_type": "display_data"
    }
   ],
   "source": [
    "# Change 'apple' to 'Tao' and 'banana' to 'Chuoi'\n",
    "x %>% fct_recode(Tao = 'apple', Chuoi = 'banana')"
   ]
  },
  {
   "cell_type": "code",
   "execution_count": 8,
   "metadata": {},
   "outputs": [
    {
     "data": {
      "text/html": [
       "<ol class=list-inline>\n",
       "\t<li>&lt;NA&gt;</li>\n",
       "\t<li>bear</li>\n",
       "\t<li>&lt;NA&gt;</li>\n",
       "\t<li>dear</li>\n",
       "</ol>\n",
       "\n",
       "<details>\n",
       "\t<summary style=display:list-item;cursor:pointer>\n",
       "\t\t<strong>Levels</strong>:\n",
       "\t</summary>\n",
       "\t<ol class=list-inline>\n",
       "\t\t<li>'bear'</li>\n",
       "\t\t<li>'dear'</li>\n",
       "\t</ol>\n",
       "</details>"
      ],
      "text/latex": [
       "\\begin{enumerate*}\n",
       "\\item <NA>\n",
       "\\item bear\n",
       "\\item <NA>\n",
       "\\item dear\n",
       "\\end{enumerate*}\n",
       "\n",
       "\\emph{Levels}: \\begin{enumerate*}\n",
       "\\item 'bear'\n",
       "\\item 'dear'\n",
       "\\end{enumerate*}\n"
      ],
      "text/markdown": [
       "1. &lt;NA&gt;\n",
       "2. bear\n",
       "3. &lt;NA&gt;\n",
       "4. dear\n",
       "\n",
       "\n",
       "\n",
       "**Levels**: 1. 'bear'\n",
       "2. 'dear'\n",
       "\n",
       "\n"
      ],
      "text/plain": [
       "[1] <NA> bear <NA> dear\n",
       "Levels: bear dear"
      ]
     },
     "metadata": {},
     "output_type": "display_data"
    }
   ],
   "source": [
    "# Remove category 'apple' and banana\n",
    "x %>% fct_recode(NULL = 'apple', NULL = 'banana')"
   ]
  },
  {
   "cell_type": "code",
   "execution_count": 10,
   "metadata": {},
   "outputs": [
    {
     "data": {
      "text/html": [
       "<ol class=list-inline>\n",
       "\t<li>fruit</li>\n",
       "\t<li>bear</li>\n",
       "\t<li>fruit</li>\n",
       "\t<li>dear</li>\n",
       "</ol>\n",
       "\n",
       "<details>\n",
       "\t<summary style=display:list-item;cursor:pointer>\n",
       "\t\t<strong>Levels</strong>:\n",
       "\t</summary>\n",
       "\t<ol class=list-inline>\n",
       "\t\t<li>'fruit'</li>\n",
       "\t\t<li>'bear'</li>\n",
       "\t\t<li>'dear'</li>\n",
       "\t</ol>\n",
       "</details>"
      ],
      "text/latex": [
       "\\begin{enumerate*}\n",
       "\\item fruit\n",
       "\\item bear\n",
       "\\item fruit\n",
       "\\item dear\n",
       "\\end{enumerate*}\n",
       "\n",
       "\\emph{Levels}: \\begin{enumerate*}\n",
       "\\item 'fruit'\n",
       "\\item 'bear'\n",
       "\\item 'dear'\n",
       "\\end{enumerate*}\n"
      ],
      "text/markdown": [
       "1. fruit\n",
       "2. bear\n",
       "3. fruit\n",
       "4. dear\n",
       "\n",
       "\n",
       "\n",
       "**Levels**: 1. 'fruit'\n",
       "2. 'bear'\n",
       "3. 'dear'\n",
       "\n",
       "\n"
      ],
      "text/plain": [
       "[1] fruit bear  fruit dear \n",
       "Levels: fruit bear dear"
      ]
     },
     "metadata": {},
     "output_type": "display_data"
    }
   ],
   "source": [
    "# When passing a named vector to rename levels use !!! to splice\n",
    "\n",
    "levels <- c(fruit = \"apple\", fruit = \"banana\")\n",
    "\n",
    "x %>% fct_recode(!!!levels)"
   ]
  }
 ],
 "metadata": {
  "kernelspec": {
   "display_name": "R",
   "language": "R",
   "name": "ir"
  },
  "language_info": {
   "codemirror_mode": "r",
   "file_extension": ".r",
   "mimetype": "text/x-r-source",
   "name": "R",
   "pygments_lexer": "r",
   "version": "3.6.1"
  }
 },
 "nbformat": 4,
 "nbformat_minor": 2
}
