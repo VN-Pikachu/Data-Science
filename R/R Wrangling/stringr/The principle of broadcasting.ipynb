{
 "cells": [
  {
   "cell_type": "code",
   "execution_count": 2,
   "metadata": {},
   "outputs": [],
   "source": [
    "library(tidyverse)"
   ]
  },
  {
   "cell_type": "markdown",
   "metadata": {},
   "source": [
    "<b>This is based on self-understanding</b>"
   ]
  },
  {
   "cell_type": "markdown",
   "metadata": {},
   "source": [
    "# On 1 element"
   ]
  },
  {
   "cell_type": "code",
   "execution_count": 4,
   "metadata": {},
   "outputs": [],
   "source": [
    "name1 <- 'VN Pikachu'\n",
    "\n",
    "name2 <- 'Tank Cao'"
   ]
  },
  {
   "cell_type": "code",
   "execution_count": 5,
   "metadata": {},
   "outputs": [
    {
     "data": {
      "text/html": [
       "' Pi'"
      ],
      "text/latex": [
       "' Pi'"
      ],
      "text/markdown": [
       "' Pi'"
      ],
      "text/plain": [
       "[1] \" Pi\""
      ]
     },
     "metadata": {},
     "output_type": "display_data"
    }
   ],
   "source": [
    "str_sub(name1, 3, 5)"
   ]
  },
  {
   "cell_type": "code",
   "execution_count": 6,
   "metadata": {},
   "outputs": [
    {
     "data": {
      "text/html": [
       "'ank Ca'"
      ],
      "text/latex": [
       "'ank Ca'"
      ],
      "text/markdown": [
       "'ank Ca'"
      ],
      "text/plain": [
       "[1] \"ank Ca\""
      ]
     },
     "metadata": {},
     "output_type": "display_data"
    }
   ],
   "source": [
    "str_sub(name2, 2, 7)"
   ]
  },
  {
   "cell_type": "markdown",
   "metadata": {},
   "source": [
    "# On a vector"
   ]
  },
  {
   "cell_type": "markdown",
   "metadata": {},
   "source": [
    "The above can be done by vectorizing:"
   ]
  },
  {
   "cell_type": "code",
   "execution_count": 7,
   "metadata": {},
   "outputs": [
    {
     "data": {
      "text/html": [
       "<ol class=list-inline>\n",
       "\t<li>' Pi'</li>\n",
       "\t<li>'ank Ca'</li>\n",
       "</ol>\n"
      ],
      "text/latex": [
       "\\begin{enumerate*}\n",
       "\\item ' Pi'\n",
       "\\item 'ank Ca'\n",
       "\\end{enumerate*}\n"
      ],
      "text/markdown": [
       "1. ' Pi'\n",
       "2. 'ank Ca'\n",
       "\n",
       "\n"
      ],
      "text/plain": [
       "[1] \" Pi\"    \"ank Ca\""
      ]
     },
     "metadata": {},
     "output_type": "display_data"
    }
   ],
   "source": [
    "name <- c(name1, name2)\n",
    "#This mean\n",
    "#slice the first element from 3 to 5\n",
    "#slice the second element from 2 to 7\n",
    "#and so on....\n",
    "str_sub(name, start = c(3, 2), end = c(5, 7))"
   ]
  },
  {
   "cell_type": "markdown",
   "metadata": {},
   "source": [
    "if we pass a single value to `start` or `end`, it will be broadcast to the length of the input. In this case, the input is a vector of 2 elements, so if we past a single value `v`, it will automatically be broadcasted to `c(v, v)`"
   ]
  },
  {
   "cell_type": "code",
   "execution_count": 8,
   "metadata": {},
   "outputs": [
    {
     "data": {
      "text/html": [
       "<ol class=list-inline>\n",
       "\t<li>'VN Pi'</li>\n",
       "\t<li>'Tank Ca'</li>\n",
       "</ol>\n"
      ],
      "text/latex": [
       "\\begin{enumerate*}\n",
       "\\item 'VN Pi'\n",
       "\\item 'Tank Ca'\n",
       "\\end{enumerate*}\n"
      ],
      "text/markdown": [
       "1. 'VN Pi'\n",
       "2. 'Tank Ca'\n",
       "\n",
       "\n"
      ],
      "text/plain": [
       "[1] \"VN Pi\"   \"Tank Ca\""
      ]
     },
     "metadata": {},
     "output_type": "display_data"
    },
    {
     "data": {
      "text/html": [
       "<ol class=list-inline>\n",
       "\t<li>'VN Pi'</li>\n",
       "\t<li>'Tank Ca'</li>\n",
       "</ol>\n"
      ],
      "text/latex": [
       "\\begin{enumerate*}\n",
       "\\item 'VN Pi'\n",
       "\\item 'Tank Ca'\n",
       "\\end{enumerate*}\n"
      ],
      "text/markdown": [
       "1. 'VN Pi'\n",
       "2. 'Tank Ca'\n",
       "\n",
       "\n"
      ],
      "text/plain": [
       "[1] \"VN Pi\"   \"Tank Ca\""
      ]
     },
     "metadata": {},
     "output_type": "display_data"
    }
   ],
   "source": [
    "#slice the first element from 1 to  5\n",
    "#slice the second element from 1 to 7\n",
    "str_sub(name, start = 1, end = c(5, 7))\n",
    "#Equivalent\n",
    "str_sub(name, start = c(1, 1), end = c(5, 7))"
   ]
  },
  {
   "cell_type": "code",
   "execution_count": 9,
   "metadata": {},
   "outputs": [
    {
     "data": {
      "text/html": [
       "<ol class=list-inline>\n",
       "\t<li>' Pik'</li>\n",
       "\t<li>'nk C'</li>\n",
       "</ol>\n"
      ],
      "text/latex": [
       "\\begin{enumerate*}\n",
       "\\item ' Pik'\n",
       "\\item 'nk C'\n",
       "\\end{enumerate*}\n"
      ],
      "text/markdown": [
       "1. ' Pik'\n",
       "2. 'nk C'\n",
       "\n",
       "\n"
      ],
      "text/plain": [
       "[1] \" Pik\" \"nk C\""
      ]
     },
     "metadata": {},
     "output_type": "display_data"
    },
    {
     "data": {
      "text/html": [
       "<ol class=list-inline>\n",
       "\t<li>' Pik'</li>\n",
       "\t<li>'nk C'</li>\n",
       "</ol>\n"
      ],
      "text/latex": [
       "\\begin{enumerate*}\n",
       "\\item ' Pik'\n",
       "\\item 'nk C'\n",
       "\\end{enumerate*}\n"
      ],
      "text/markdown": [
       "1. ' Pik'\n",
       "2. 'nk C'\n",
       "\n",
       "\n"
      ],
      "text/plain": [
       "[1] \" Pik\" \"nk C\""
      ]
     },
     "metadata": {},
     "output_type": "display_data"
    }
   ],
   "source": [
    "#slice the first element from 3 to 6\n",
    "#slice the second element from 3 to 6\n",
    "str_sub(name, start = 3, end = 6)\n",
    "#equivalent\n",
    "str_sub(name, start = c(3, 3), end = c(6, 6))"
   ]
  },
  {
   "cell_type": "markdown",
   "metadata": {},
   "source": [
    "If we use a single string, but pass n values to `start` or `end`, then the string will be repeated n times"
   ]
  },
  {
   "cell_type": "code",
   "execution_count": 13,
   "metadata": {},
   "outputs": [
    {
     "data": {
      "text/html": [
       "<ol class=list-inline>\n",
       "\t<li>'12'</li>\n",
       "\t<li>'23'</li>\n",
       "\t<li>'34'</li>\n",
       "\t<li>'45'</li>\n",
       "</ol>\n"
      ],
      "text/latex": [
       "\\begin{enumerate*}\n",
       "\\item '12'\n",
       "\\item '23'\n",
       "\\item '34'\n",
       "\\item '45'\n",
       "\\end{enumerate*}\n"
      ],
      "text/markdown": [
       "1. '12'\n",
       "2. '23'\n",
       "3. '34'\n",
       "4. '45'\n",
       "\n",
       "\n"
      ],
      "text/plain": [
       "[1] \"12\" \"23\" \"34\" \"45\""
      ]
     },
     "metadata": {},
     "output_type": "display_data"
    },
    {
     "data": {
      "text/html": [
       "<ol class=list-inline>\n",
       "\t<li>'12'</li>\n",
       "\t<li>'23'</li>\n",
       "\t<li>'34'</li>\n",
       "\t<li>'45'</li>\n",
       "</ol>\n"
      ],
      "text/latex": [
       "\\begin{enumerate*}\n",
       "\\item '12'\n",
       "\\item '23'\n",
       "\\item '34'\n",
       "\\item '45'\n",
       "\\end{enumerate*}\n"
      ],
      "text/markdown": [
       "1. '12'\n",
       "2. '23'\n",
       "3. '34'\n",
       "4. '45'\n",
       "\n",
       "\n"
      ],
      "text/plain": [
       "[1] \"12\" \"23\" \"34\" \"45\""
      ]
     },
     "metadata": {},
     "output_type": "display_data"
    }
   ],
   "source": [
    "'123456789' %>% str_sub(c(1, 2, 3, 4), c(2, 3, 4, 5))\n",
    "\n",
    "#equivalent\n",
    "rep('123456789', 4) %>% str_sub(c(1, 2, 3, 4), c(2, 3, 4, 5))"
   ]
  }
 ],
 "metadata": {
  "kernelspec": {
   "display_name": "R",
   "language": "R",
   "name": "ir"
  },
  "language_info": {
   "codemirror_mode": "r",
   "file_extension": ".r",
   "mimetype": "text/x-r-source",
   "name": "R",
   "pygments_lexer": "r",
   "version": "3.6.1"
  }
 },
 "nbformat": 4,
 "nbformat_minor": 2
}
