{
 "cells": [
  {
   "cell_type": "code",
   "execution_count": 2,
   "metadata": {},
   "outputs": [],
   "source": [
    "library(tidyverse)"
   ]
  },
  {
   "cell_type": "markdown",
   "metadata": {},
   "source": [
    "There are four main families of functions in stringr:\n",
    "\n",
    "* Character manipulation: these functions allow you to manipulate individual characters within the strings in character vectors.\n",
    "\n",
    "* Whitespace tools to add, remove, and manipulate whitespace.\n",
    "\n",
    "* Locale sensitive operations whose operations will vary from locale to locale.\n",
    "\n",
    "* Pattern matching functions. These recognise four engines of pattern description. The most common is regular expressions, but there are three other tools."
   ]
  },
  {
   "cell_type": "markdown",
   "metadata": {},
   "source": [
    "# Getting and setting individual characters"
   ]
  },
  {
   "cell_type": "markdown",
   "metadata": {},
   "source": [
    "get the length of the string with **`str_length()`**"
   ]
  },
  {
   "cell_type": "code",
   "execution_count": 3,
   "metadata": {},
   "outputs": [
    {
     "data": {
      "text/html": [
       "10"
      ],
      "text/latex": [
       "10"
      ],
      "text/markdown": [
       "10"
      ],
      "text/plain": [
       "[1] 10"
      ]
     },
     "metadata": {},
     "output_type": "display_data"
    }
   ],
   "source": [
    "str_length('VN Pikachu')"
   ]
  },
  {
   "cell_type": "code",
   "execution_count": 5,
   "metadata": {},
   "outputs": [
    {
     "data": {
      "text/html": [
       "<ol class=list-inline>\n",
       "\t<li>4</li>\n",
       "\t<li>9</li>\n",
       "</ol>\n"
      ],
      "text/latex": [
       "\\begin{enumerate*}\n",
       "\\item 4\n",
       "\\item 9\n",
       "\\end{enumerate*}\n"
      ],
      "text/markdown": [
       "1. 4\n",
       "2. 9\n",
       "\n",
       "\n"
      ],
      "text/plain": [
       "[1] 4 9"
      ]
     },
     "metadata": {},
     "output_type": "display_data"
    }
   ],
   "source": [
    "players <- c('1234', '123456789')\n",
    "str_length(players)"
   ]
  },
  {
   "cell_type": "markdown",
   "metadata": {},
   "source": [
    "You can access individual character using **`str_sub()`**"
   ]
  },
  {
   "cell_type": "markdown",
   "metadata": {},
   "source": [
    " It takes three arguments: a character vector, a start position and an end position. Either position can either be a positive integer, which counts from the left, or a negative integer which counts from the right. The positions are inclusive, and if longer than the string, will be silently truncated. This works like PYTHON"
   ]
  },
  {
   "cell_type": "code",
   "execution_count": 22,
   "metadata": {},
   "outputs": [],
   "source": [
    "s <- '12345'"
   ]
  },
  {
   "cell_type": "code",
   "execution_count": 23,
   "metadata": {},
   "outputs": [
    {
     "data": {
      "text/html": [
       "'345'"
      ],
      "text/latex": [
       "'345'"
      ],
      "text/markdown": [
       "'345'"
      ],
      "text/plain": [
       "[1] \"345\""
      ]
     },
     "metadata": {},
     "output_type": "display_data"
    }
   ],
   "source": [
    "str_sub(s, 3) #python: s[2:] (0-based)"
   ]
  },
  {
   "cell_type": "code",
   "execution_count": 20,
   "metadata": {},
   "outputs": [
    {
     "data": {
      "text/html": [
       "'012'"
      ],
      "text/latex": [
       "'012'"
      ],
      "text/markdown": [
       "'012'"
      ],
      "text/plain": [
       "[1] \"012\""
      ]
     },
     "metadata": {},
     "output_type": "display_data"
    }
   ],
   "source": [
    "str_sub(s, end = 3) #python s[:3] (0-based)"
   ]
  },
  {
   "cell_type": "code",
   "execution_count": 28,
   "metadata": {},
   "outputs": [
    {
     "data": {
      "text/html": [
       "'234'"
      ],
      "text/latex": [
       "'234'"
      ],
      "text/markdown": [
       "'234'"
      ],
      "text/plain": [
       "[1] \"234\""
      ]
     },
     "metadata": {},
     "output_type": "display_data"
    }
   ],
   "source": [
    "str_sub(s, 2, 4) #python s[1:4] (0-based)"
   ]
  },
  {
   "cell_type": "code",
   "execution_count": 27,
   "metadata": {},
   "outputs": [
    {
     "data": {
      "text/html": [
       "'234'"
      ],
      "text/latex": [
       "'234'"
      ],
      "text/markdown": [
       "'234'"
      ],
      "text/plain": [
       "[1] \"234\""
      ]
     },
     "metadata": {},
     "output_type": "display_data"
    }
   ],
   "source": [
    "str_sub(s, 2, -2) #python s[1:-1] (0-based)"
   ]
  },
  {
   "cell_type": "markdown",
   "metadata": {},
   "source": [
    "Vectorize"
   ]
  },
  {
   "cell_type": "code",
   "execution_count": 12,
   "metadata": {},
   "outputs": [
    {
     "data": {
      "text/html": [
       "<ol class=list-inline>\n",
       "\t<li>'23'</li>\n",
       "\t<li>'345'</li>\n",
       "</ol>\n"
      ],
      "text/latex": [
       "\\begin{enumerate*}\n",
       "\\item '23'\n",
       "\\item '345'\n",
       "\\end{enumerate*}\n"
      ],
      "text/markdown": [
       "1. '23'\n",
       "2. '345'\n",
       "\n",
       "\n"
      ],
      "text/plain": [
       "[1] \"23\"  \"345\""
      ]
     },
     "metadata": {},
     "output_type": "display_data"
    }
   ],
   "source": [
    "#slice the first value from 2-index to 3-index, slice the second value from 3-th index to 5-th index\n",
    "str_sub(players, start = c(2, 3) , end = c(3, 5))"
   ]
  },
  {
   "cell_type": "code",
   "execution_count": 10,
   "metadata": {},
   "outputs": [
    {
     "data": {
      "text/html": [
       "<ol class=list-inline>\n",
       "\t<li>'123'</li>\n",
       "\t<li>'12345'</li>\n",
       "</ol>\n"
      ],
      "text/latex": [
       "\\begin{enumerate*}\n",
       "\\item '123'\n",
       "\\item '12345'\n",
       "\\end{enumerate*}\n"
      ],
      "text/markdown": [
       "1. '123'\n",
       "2. '12345'\n",
       "\n",
       "\n"
      ],
      "text/plain": [
       "[1] \"123\"   \"12345\""
      ]
     },
     "metadata": {},
     "output_type": "display_data"
    }
   ],
   "source": [
    "#single value will be broadcast (like numpy)\n",
    "str_sub(players, start = 1, end = c(3, 5))   #equivalent start = c(1, 1)"
   ]
  },
  {
   "cell_type": "code",
   "execution_count": 11,
   "metadata": {},
   "outputs": [
    {
     "data": {
      "text/html": [
       "<ol class=list-inline>\n",
       "\t<li>'34'</li>\n",
       "\t<li>'345'</li>\n",
       "</ol>\n"
      ],
      "text/latex": [
       "\\begin{enumerate*}\n",
       "\\item '34'\n",
       "\\item '345'\n",
       "\\end{enumerate*}\n"
      ],
      "text/markdown": [
       "1. '34'\n",
       "2. '345'\n",
       "\n",
       "\n"
      ],
      "text/plain": [
       "[1] \"34\"  \"345\""
      ]
     },
     "metadata": {},
     "output_type": "display_data"
    }
   ],
   "source": [
    "str_sub(players, start = 3, end = 5) #equivalent start = c(3, 3), end = c(5, 5)"
   ]
  },
  {
   "cell_type": "markdown",
   "metadata": {},
   "source": [
    "You can also use **`str_sub()`** to modify strings:"
   ]
  },
  {
   "cell_type": "code",
   "execution_count": 29,
   "metadata": {},
   "outputs": [
    {
     "data": {
      "text/html": [
       "'12345'"
      ],
      "text/latex": [
       "'12345'"
      ],
      "text/markdown": [
       "'12345'"
      ],
      "text/plain": [
       "[1] \"12345\""
      ]
     },
     "metadata": {},
     "output_type": "display_data"
    }
   ],
   "source": [
    "s"
   ]
  },
  {
   "cell_type": "code",
   "execution_count": 31,
   "metadata": {},
   "outputs": [
    {
     "data": {
      "text/html": [
       "'1-1'"
      ],
      "text/latex": [
       "'1-1'"
      ],
      "text/markdown": [
       "'1-1'"
      ],
      "text/plain": [
       "[1] \"1-1\""
      ]
     },
     "metadata": {},
     "output_type": "display_data"
    }
   ],
   "source": [
    "str_sub(s, 2, 4) <- '-1'\n",
    "s"
   ]
  },
  {
   "cell_type": "code",
   "execution_count": 32,
   "metadata": {},
   "outputs": [
    {
     "data": {
      "text/html": [
       "<ol class=list-inline>\n",
       "\t<li>'00hidden information00'</li>\n",
       "\t<li>'11hidden information11'</li>\n",
       "</ol>\n"
      ],
      "text/latex": [
       "\\begin{enumerate*}\n",
       "\\item '00hidden information00'\n",
       "\\item '11hidden information11'\n",
       "\\end{enumerate*}\n"
      ],
      "text/markdown": [
       "1. '00hidden information00'\n",
       "2. '11hidden information11'\n",
       "\n",
       "\n"
      ],
      "text/plain": [
       "[1] \"00hidden information00\" \"11hidden information11\""
      ]
     },
     "metadata": {},
     "output_type": "display_data"
    }
   ],
   "source": [
    "#Vectorize\n",
    "values <- c('00xx00', '11xx11')\n",
    "str_sub(values, 3, 4) <- 'hidden information'\n",
    "\n",
    "values"
   ]
  },
  {
   "cell_type": "markdown",
   "metadata": {},
   "source": [
    "To duplicate individual strings, you can use **`str_dup()`**:"
   ]
  },
  {
   "cell_type": "code",
   "execution_count": 33,
   "metadata": {},
   "outputs": [
    {
     "data": {
      "text/html": [
       "'0101010101'"
      ],
      "text/latex": [
       "'0101010101'"
      ],
      "text/markdown": [
       "'0101010101'"
      ],
      "text/plain": [
       "[1] \"0101010101\""
      ]
     },
     "metadata": {},
     "output_type": "display_data"
    }
   ],
   "source": [
    "str_dup('01', 5)"
   ]
  },
  {
   "cell_type": "code",
   "execution_count": 34,
   "metadata": {},
   "outputs": [
    {
     "data": {
      "text/html": [
       "<ol class=list-inline>\n",
       "\t<li>'aaaaa'</li>\n",
       "\t<li>'bbbbbbbb'</li>\n",
       "</ol>\n"
      ],
      "text/latex": [
       "\\begin{enumerate*}\n",
       "\\item 'aaaaa'\n",
       "\\item 'bbbbbbbb'\n",
       "\\end{enumerate*}\n"
      ],
      "text/markdown": [
       "1. 'aaaaa'\n",
       "2. 'bbbbbbbb'\n",
       "\n",
       "\n"
      ],
      "text/plain": [
       "[1] \"aaaaa\"    \"bbbbbbbb\""
      ]
     },
     "metadata": {},
     "output_type": "display_data"
    }
   ],
   "source": [
    "#vectorize\n",
    "str_dup(c('a', 'b'), c(5, 8))"
   ]
  },
  {
   "cell_type": "markdown",
   "metadata": {},
   "source": [
    "# Whitespace"
   ]
  },
  {
   "cell_type": "markdown",
   "metadata": {},
   "source": [
    "Three functions add, remove, or modify whitespace:"
   ]
  },
  {
   "cell_type": "markdown",
   "metadata": {},
   "source": [
    "1. **`str_pad()`** pads a string to a fixed length by adding extra whitespace on the left, right, or both sides."
   ]
  },
  {
   "cell_type": "code",
   "execution_count": 35,
   "metadata": {},
   "outputs": [
    {
     "data": {
      "text/html": [
       "<pre class=language-r><code>function (string, width, side = c(\"left\", \"right\", \"both\"), pad = \" \") \n",
       "NULL</code></pre>"
      ],
      "text/latex": [
       "\\begin{minted}{r}\n",
       "function (string, width, side = c(\"left\", \"right\", \"both\"), pad = \" \") \n",
       "NULL\n",
       "\\end{minted}"
      ],
      "text/markdown": [
       "```r\n",
       "function (string, width, side = c(\"left\", \"right\", \"both\"), pad = \" \") \n",
       "NULL\n",
       "```"
      ],
      "text/plain": [
       "function (string, width, side = c(\"left\", \"right\", \"both\"), pad = \" \") \n",
       "NULL"
      ]
     },
     "metadata": {},
     "output_type": "display_data"
    }
   ],
   "source": [
    "args(str_pad)"
   ]
  },
  {
   "cell_type": "code",
   "execution_count": 37,
   "metadata": {},
   "outputs": [],
   "source": [
    "s <- '1'"
   ]
  },
  {
   "cell_type": "code",
   "execution_count": 40,
   "metadata": {},
   "outputs": [
    {
     "data": {
      "text/html": [
       "'00001'"
      ],
      "text/latex": [
       "'00001'"
      ],
      "text/markdown": [
       "'00001'"
      ],
      "text/plain": [
       "[1] \"00001\""
      ]
     },
     "metadata": {},
     "output_type": "display_data"
    }
   ],
   "source": [
    "#left padding with 0, the result will have width = 5\n",
    "s %>% str_pad(width = 5, side = 'left', pad = '0')"
   ]
  },
  {
   "cell_type": "code",
   "execution_count": 42,
   "metadata": {},
   "outputs": [
    {
     "data": {
      "text/html": [
       "<span style=white-space:pre-wrap>'  1  '</span>"
      ],
      "text/latex": [
       "'  1  '"
      ],
      "text/markdown": [
       "<span style=white-space:pre-wrap>'  1  '</span>"
      ],
      "text/plain": [
       "[1] \"  1  \""
      ]
     },
     "metadata": {},
     "output_type": "display_data"
    }
   ],
   "source": [
    "#center with = 5\n",
    "s %>% str_pad(width = 5, side = 'both')"
   ]
  },
  {
   "cell_type": "markdown",
   "metadata": {},
   "source": [
    "2. **`str_trim()`** which removes leading and trailing whitespace:"
   ]
  },
  {
   "cell_type": "code",
   "execution_count": 43,
   "metadata": {},
   "outputs": [
    {
     "data": {
      "text/html": [
       "<pre class=language-r><code>function (string, side = c(\"both\", \"left\", \"right\")) \n",
       "NULL</code></pre>"
      ],
      "text/latex": [
       "\\begin{minted}{r}\n",
       "function (string, side = c(\"both\", \"left\", \"right\")) \n",
       "NULL\n",
       "\\end{minted}"
      ],
      "text/markdown": [
       "```r\n",
       "function (string, side = c(\"both\", \"left\", \"right\")) \n",
       "NULL\n",
       "```"
      ],
      "text/plain": [
       "function (string, side = c(\"both\", \"left\", \"right\")) \n",
       "NULL"
      ]
     },
     "metadata": {},
     "output_type": "display_data"
    }
   ],
   "source": [
    "args(str_trim)"
   ]
  },
  {
   "cell_type": "code",
   "execution_count": 44,
   "metadata": {},
   "outputs": [],
   "source": [
    "value <- '  1   '"
   ]
  },
  {
   "cell_type": "code",
   "execution_count": 45,
   "metadata": {},
   "outputs": [
    {
     "data": {
      "text/html": [
       "<span style=white-space:pre-wrap>'1   '</span>"
      ],
      "text/latex": [
       "'1   '"
      ],
      "text/markdown": [
       "<span style=white-space:pre-wrap>'1   '</span>"
      ],
      "text/plain": [
       "[1] \"1   \""
      ]
     },
     "metadata": {},
     "output_type": "display_data"
    }
   ],
   "source": [
    "value %>% str_trim('left')"
   ]
  },
  {
   "cell_type": "code",
   "execution_count": 46,
   "metadata": {},
   "outputs": [
    {
     "data": {
      "text/html": [
       "<span style=white-space:pre-wrap>'  1'</span>"
      ],
      "text/latex": [
       "'  1'"
      ],
      "text/markdown": [
       "<span style=white-space:pre-wrap>'  1'</span>"
      ],
      "text/plain": [
       "[1] \"  1\""
      ]
     },
     "metadata": {},
     "output_type": "display_data"
    }
   ],
   "source": [
    "value %>% str_trim('right')"
   ]
  },
  {
   "cell_type": "code",
   "execution_count": 48,
   "metadata": {},
   "outputs": [
    {
     "data": {
      "text/html": [
       "'1'"
      ],
      "text/latex": [
       "'1'"
      ],
      "text/markdown": [
       "'1'"
      ],
      "text/plain": [
       "[1] \"1\""
      ]
     },
     "metadata": {},
     "output_type": "display_data"
    }
   ],
   "source": [
    "value %>% str_trim('both')"
   ]
  },
  {
   "cell_type": "markdown",
   "metadata": {},
   "source": [
    "3. You can use **`str_wrap()`** to modify existing whitespace in order to wrap a paragraph of text, such that the length of each line is as similar as possible."
   ]
  },
  {
   "cell_type": "code",
   "execution_count": 51,
   "metadata": {},
   "outputs": [
    {
     "name": "stdout",
     "output_type": "stream",
     "text": [
      "`Twas brillig, and the slithy toves did\n",
      "gyre and gimble in the wabe: All mimsy\n",
      "were the borogoves, and the mome raths\n",
      "outgrabe."
     ]
    }
   ],
   "source": [
    "jabberwocky <- str_c(\n",
    "  \"`Twas brillig, and the slithy toves \",\n",
    "  \"did gyre and gimble in the wabe: \",\n",
    "  \"All mimsy were the borogoves, \",\n",
    "  \"and the mome raths outgrabe. \"\n",
    ")\n",
    "cat(str_wrap(jabberwocky, width = 40))\n"
   ]
  },
  {
   "cell_type": "markdown",
   "metadata": {},
   "source": [
    "# Locale sensitive"
   ]
  },
  {
   "cell_type": "markdown",
   "metadata": {},
   "source": [
    "A handful of stringr functions are locale-sensitive: they will perform differently in different regions of the world. These functions are case transformation functions:"
   ]
  },
  {
   "cell_type": "code",
   "execution_count": 52,
   "metadata": {},
   "outputs": [
    {
     "data": {
      "text/html": [
       "'QUACTINH'"
      ],
      "text/latex": [
       "'QUACTINH'"
      ],
      "text/markdown": [
       "'QUACTINH'"
      ],
      "text/plain": [
       "[1] \"QUACTINH\""
      ]
     },
     "metadata": {},
     "output_type": "display_data"
    }
   ],
   "source": [
    "str_to_upper('quactinh')"
   ]
  },
  {
   "cell_type": "code",
   "execution_count": 54,
   "metadata": {},
   "outputs": [
    {
     "data": {
      "text/html": [
       "'Vn Pikachu Awesome'"
      ],
      "text/latex": [
       "'Vn Pikachu Awesome'"
      ],
      "text/markdown": [
       "'Vn Pikachu Awesome'"
      ],
      "text/plain": [
       "[1] \"Vn Pikachu Awesome\""
      ]
     },
     "metadata": {},
     "output_type": "display_data"
    }
   ],
   "source": [
    "str_to_title('vn pikachu awesome')"
   ]
  },
  {
   "cell_type": "code",
   "execution_count": 57,
   "metadata": {},
   "outputs": [
    {
     "data": {
      "text/html": [
       "'i like horses'"
      ],
      "text/latex": [
       "'i like horses'"
      ],
      "text/markdown": [
       "'i like horses'"
      ],
      "text/plain": [
       "[1] \"i like horses\""
      ]
     },
     "metadata": {},
     "output_type": "display_data"
    },
    {
     "data": {
      "text/html": [
       "'ı like horses'"
      ],
      "text/latex": [
       "'ı like horses'"
      ],
      "text/markdown": [
       "'ı like horses'"
      ],
      "text/plain": [
       "[1] \"i like horses\""
      ]
     },
     "metadata": {},
     "output_type": "display_data"
    }
   ],
   "source": [
    "str_to_lower('I like horses')\n",
    "# Turkish has two sorts of i: with and without the dot\n",
    "str_to_lower('I like horses', locale = \"tr\")"
   ]
  },
  {
   "cell_type": "markdown",
   "metadata": {},
   "source": [
    "The locale always defaults to English to ensure that the default behaviour is identical across systems. Locales always include a two letter ISO-639-1 language code (like “en” for English or “zh” for Chinese), and optionally a ISO-3166 country code (like “en_UK” vs “en_US”). You can see a complete list of available locales by running **`stringi::stri_locale_list()`**."
   ]
  },
  {
   "cell_type": "markdown",
   "metadata": {},
   "source": [
    "# Pattern Matching"
   ]
  },
  {
   "cell_type": "markdown",
   "metadata": {},
   "source": [
    "The vast majority of stringr functions work with patterns. These are parameterised by the task they perform and the types of patterns they match."
   ]
  },
  {
   "cell_type": "markdown",
   "metadata": {},
   "source": [
    "### Tasks"
   ]
  },
  {
   "cell_type": "markdown",
   "metadata": {},
   "source": [
    "Each pattern matching function has the same first two arguments, a character vector of strings to process and a single pattern to match. stringr provides pattern matching functions to:\n",
    "* detect\n",
    "* locate\n",
    "* extract\n",
    "* match\n",
    "* replace\n",
    "* split   \n",
    "\n",
    "I’ll illustrate how they work with some strings and a regular expression designed to match (US) phone numbers:"
   ]
  },
  {
   "cell_type": "markdown",
   "metadata": {},
   "source": [
    "**`str_detect()`** detects the presence or absence of a pattern and returns a logical vector"
   ]
  },
  {
   "cell_type": "code",
   "execution_count": 86,
   "metadata": {},
   "outputs": [],
   "source": [
    "s <- 'a3233'\n",
    "vec_str <- c('a3332 33323', 'afda', '22a3', '3232a3')"
   ]
  },
  {
   "cell_type": "code",
   "execution_count": 87,
   "metadata": {},
   "outputs": [
    {
     "data": {
      "text/html": [
       "TRUE"
      ],
      "text/latex": [
       "TRUE"
      ],
      "text/markdown": [
       "TRUE"
      ],
      "text/plain": [
       "[1] TRUE"
      ]
     },
     "metadata": {},
     "output_type": "display_data"
    }
   ],
   "source": [
    "#Check if string contains at least 3 consecutive digits\n",
    "s %>% str_detect('[0-9]{3,}')"
   ]
  },
  {
   "cell_type": "markdown",
   "metadata": {},
   "source": [
    "**`str_subset()`** returns the elements of a character vector that match a regular expression"
   ]
  },
  {
   "cell_type": "code",
   "execution_count": 88,
   "metadata": {},
   "outputs": [
    {
     "data": {
      "text/html": [
       "<ol class=list-inline>\n",
       "\t<li>'a3332 33323'</li>\n",
       "\t<li>'3232a3'</li>\n",
       "</ol>\n"
      ],
      "text/latex": [
       "\\begin{enumerate*}\n",
       "\\item 'a3332 33323'\n",
       "\\item '3232a3'\n",
       "\\end{enumerate*}\n"
      ],
      "text/markdown": [
       "1. 'a3332 33323'\n",
       "2. '3232a3'\n",
       "\n",
       "\n"
      ],
      "text/plain": [
       "[1] \"a3332 33323\" \"3232a3\"     "
      ]
     },
     "metadata": {},
     "output_type": "display_data"
    }
   ],
   "source": [
    "#Filter values that matches Regex\n",
    "vec_str %>% str_subset('[0-9]{3,}')"
   ]
  },
  {
   "cell_type": "markdown",
   "metadata": {},
   "source": [
    "**`str_count()`** counts the number of matches:"
   ]
  },
  {
   "cell_type": "code",
   "execution_count": 90,
   "metadata": {},
   "outputs": [
    {
     "data": {
      "text/html": [
       "<ol class=list-inline>\n",
       "\t<li>2</li>\n",
       "\t<li>0</li>\n",
       "\t<li>0</li>\n",
       "\t<li>1</li>\n",
       "</ol>\n"
      ],
      "text/latex": [
       "\\begin{enumerate*}\n",
       "\\item 2\n",
       "\\item 0\n",
       "\\item 0\n",
       "\\item 1\n",
       "\\end{enumerate*}\n"
      ],
      "text/markdown": [
       "1. 2\n",
       "2. 0\n",
       "3. 0\n",
       "4. 1\n",
       "\n",
       "\n"
      ],
      "text/plain": [
       "[1] 2 0 0 1"
      ]
     },
     "metadata": {},
     "output_type": "display_data"
    }
   ],
   "source": [
    "#For each element, count the number of matching\n",
    "vec_str %>% str_count('[0-9]{3,}')"
   ]
  },
  {
   "cell_type": "markdown",
   "metadata": {},
   "source": [
    "**`str_locate()`** locates the first position of a pattern and returns a numeric matrix with columns start and end.<br> **`str_locate_all()`**  locates all matches, returning a list of numeric matrices"
   ]
  },
  {
   "cell_type": "code",
   "execution_count": 91,
   "metadata": {},
   "outputs": [
    {
     "data": {
      "text/html": [
       "'a3332 33323'"
      ],
      "text/latex": [
       "'a3332 33323'"
      ],
      "text/markdown": [
       "'a3332 33323'"
      ],
      "text/plain": [
       "[1] \"a3332 33323\""
      ]
     },
     "metadata": {},
     "output_type": "display_data"
    }
   ],
   "source": [
    "vec_str[1]"
   ]
  },
  {
   "cell_type": "code",
   "execution_count": 101,
   "metadata": {},
   "outputs": [
    {
     "data": {
      "text/html": [
       "'matrix'"
      ],
      "text/latex": [
       "'matrix'"
      ],
      "text/markdown": [
       "'matrix'"
      ],
      "text/plain": [
       "[1] \"matrix\""
      ]
     },
     "metadata": {},
     "output_type": "display_data"
    }
   ],
   "source": [
    "#return a matrix of 1 row\n",
    "vec_str[1] %>% str_locate('\\\\d{3,}')"
   ]
  },
  {
   "cell_type": "code",
   "execution_count": 100,
   "metadata": {},
   "outputs": [
    {
     "data": {
      "text/html": [
       "<ol>\n",
       "\t<li><table>\n",
       "<thead><tr><th scope=col>start</th><th scope=col>end</th></tr></thead>\n",
       "<tbody>\n",
       "\t<tr><td>2 </td><td> 5</td></tr>\n",
       "\t<tr><td>7 </td><td>11</td></tr>\n",
       "</tbody>\n",
       "</table>\n",
       "</li>\n",
       "</ol>\n"
      ],
      "text/latex": [
       "\\begin{enumerate}\n",
       "\\item \\begin{tabular}{ll}\n",
       " start & end\\\\\n",
       "\\hline\n",
       "\t 2  &  5\\\\\n",
       "\t 7  & 11\\\\\n",
       "\\end{tabular}\n",
       "\n",
       "\\end{enumerate}\n"
      ],
      "text/markdown": [
       "1. \n",
       "| start | end |\n",
       "|---|---|\n",
       "| 2  |  5 |\n",
       "| 7  | 11 |\n",
       "\n",
       "\n",
       "\n",
       "\n"
      ],
      "text/plain": [
       "[[1]]\n",
       "     start end\n",
       "[1,]     2   5\n",
       "[2,]     7  11\n"
      ]
     },
     "metadata": {},
     "output_type": "display_data"
    }
   ],
   "source": [
    "#return a matrix, if there are n matches, this matrix will have n rows\n",
    "vec_str[1] %>% str_locate_all('\\\\d{3,}')"
   ]
  },
  {
   "cell_type": "markdown",
   "metadata": {},
   "source": [
    "Vectorize"
   ]
  },
  {
   "cell_type": "code",
   "execution_count": 99,
   "metadata": {},
   "outputs": [
    {
     "data": {
      "text/html": [
       "<table>\n",
       "<thead><tr><th scope=col>start</th><th scope=col>end</th></tr></thead>\n",
       "<tbody>\n",
       "\t<tr><td> 2</td><td> 5</td></tr>\n",
       "\t<tr><td>NA</td><td>NA</td></tr>\n",
       "\t<tr><td>NA</td><td>NA</td></tr>\n",
       "\t<tr><td> 1</td><td> 4</td></tr>\n",
       "</tbody>\n",
       "</table>\n"
      ],
      "text/latex": [
       "\\begin{tabular}{ll}\n",
       " start & end\\\\\n",
       "\\hline\n",
       "\t  2 &  5\\\\\n",
       "\t NA & NA\\\\\n",
       "\t NA & NA\\\\\n",
       "\t  1 &  4\\\\\n",
       "\\end{tabular}\n"
      ],
      "text/markdown": [
       "\n",
       "| start | end |\n",
       "|---|---|\n",
       "|  2 |  5 |\n",
       "| NA | NA |\n",
       "| NA | NA |\n",
       "|  1 |  4 |\n",
       "\n"
      ],
      "text/plain": [
       "     start end\n",
       "[1,]  2     5 \n",
       "[2,] NA    NA \n",
       "[3,] NA    NA \n",
       "[4,]  1     4 "
      ]
     },
     "metadata": {},
     "output_type": "display_data"
    }
   ],
   "source": [
    "#return a matrix\n",
    "vec_str %>% str_locate('\\\\d{3,}')"
   ]
  },
  {
   "cell_type": "code",
   "execution_count": 97,
   "metadata": {},
   "outputs": [
    {
     "data": {
      "text/html": [
       "<ol>\n",
       "\t<li><table>\n",
       "<thead><tr><th scope=col>start</th><th scope=col>end</th></tr></thead>\n",
       "<tbody>\n",
       "\t<tr><td>2 </td><td> 5</td></tr>\n",
       "\t<tr><td>7 </td><td>11</td></tr>\n",
       "</tbody>\n",
       "</table>\n",
       "</li>\n",
       "\t<li><table>\n",
       "<thead><tr><th scope=col>start</th><th scope=col>end</th></tr></thead>\n",
       "<tbody>\n",
       "</tbody>\n",
       "</table>\n",
       "</li>\n",
       "\t<li><table>\n",
       "<thead><tr><th scope=col>start</th><th scope=col>end</th></tr></thead>\n",
       "<tbody>\n",
       "</tbody>\n",
       "</table>\n",
       "</li>\n",
       "\t<li><table>\n",
       "<thead><tr><th scope=col>start</th><th scope=col>end</th></tr></thead>\n",
       "<tbody>\n",
       "\t<tr><td>1</td><td>4</td></tr>\n",
       "</tbody>\n",
       "</table>\n",
       "</li>\n",
       "</ol>\n"
      ],
      "text/latex": [
       "\\begin{enumerate}\n",
       "\\item \\begin{tabular}{ll}\n",
       " start & end\\\\\n",
       "\\hline\n",
       "\t 2  &  5\\\\\n",
       "\t 7  & 11\\\\\n",
       "\\end{tabular}\n",
       "\n",
       "\\item \\begin{tabular}{ll}\n",
       " start & end\\\\\n",
       "\\hline\n",
       "\\end{tabular}\n",
       "\n",
       "\\item \\begin{tabular}{ll}\n",
       " start & end\\\\\n",
       "\\hline\n",
       "\\end{tabular}\n",
       "\n",
       "\\item \\begin{tabular}{ll}\n",
       " start & end\\\\\n",
       "\\hline\n",
       "\t 1 & 4\\\\\n",
       "\\end{tabular}\n",
       "\n",
       "\\end{enumerate}\n"
      ],
      "text/markdown": [
       "1. \n",
       "| start | end |\n",
       "|---|---|\n",
       "| 2  |  5 |\n",
       "| 7  | 11 |\n",
       "\n",
       "\n",
       "2. \n",
       "| start | end |\n",
       "|---|---|\n",
       "\n",
       "\n",
       "3. \n",
       "| start | end |\n",
       "|---|---|\n",
       "\n",
       "\n",
       "4. \n",
       "| start | end |\n",
       "|---|---|\n",
       "| 1 | 4 |\n",
       "\n",
       "\n",
       "\n",
       "\n"
      ],
      "text/plain": [
       "[[1]]\n",
       "     start end\n",
       "[1,]     2   5\n",
       "[2,]     7  11\n",
       "\n",
       "[[2]]\n",
       "     start end\n",
       "\n",
       "[[3]]\n",
       "     start end\n",
       "\n",
       "[[4]]\n",
       "     start end\n",
       "[1,]     1   4\n"
      ]
     },
     "metadata": {},
     "output_type": "display_data"
    }
   ],
   "source": [
    "#Return a list, each element is a matrix\n",
    "vec_str %>% str_locate_all('\\\\d{3,}')"
   ]
  },
  {
   "cell_type": "markdown",
   "metadata": {},
   "source": [
    "**`str_extract()`** extracts text corresponding to the first match, returning a character vector.  \n",
    "**`str_extract_all()`** extracts all matches and returns a list of character vectors."
   ]
  },
  {
   "cell_type": "code",
   "execution_count": 102,
   "metadata": {},
   "outputs": [
    {
     "data": {
      "text/html": [
       "'a3332 33323'"
      ],
      "text/latex": [
       "'a3332 33323'"
      ],
      "text/markdown": [
       "'a3332 33323'"
      ],
      "text/plain": [
       "[1] \"a3332 33323\""
      ]
     },
     "metadata": {},
     "output_type": "display_data"
    }
   ],
   "source": [
    "vec_str[1]"
   ]
  },
  {
   "cell_type": "code",
   "execution_count": 104,
   "metadata": {},
   "outputs": [
    {
     "data": {
      "text/html": [
       "'3332'"
      ],
      "text/latex": [
       "'3332'"
      ],
      "text/markdown": [
       "'3332'"
      ],
      "text/plain": [
       "[1] \"3332\""
      ]
     },
     "metadata": {},
     "output_type": "display_data"
    }
   ],
   "source": [
    "vec_str[1] %>% str_extract('\\\\d{3,}')"
   ]
  },
  {
   "cell_type": "code",
   "execution_count": 107,
   "metadata": {},
   "outputs": [
    {
     "data": {
      "text/html": [
       "<ol>\n",
       "\t<li><ol class=list-inline>\n",
       "\t<li>'3332'</li>\n",
       "\t<li>'33323'</li>\n",
       "</ol>\n",
       "</li>\n",
       "</ol>\n"
      ],
      "text/latex": [
       "\\begin{enumerate}\n",
       "\\item \\begin{enumerate*}\n",
       "\\item '3332'\n",
       "\\item '33323'\n",
       "\\end{enumerate*}\n",
       "\n",
       "\\end{enumerate}\n"
      ],
      "text/markdown": [
       "1. 1. '3332'\n",
       "2. '33323'\n",
       "\n",
       "\n",
       "\n",
       "\n",
       "\n"
      ],
      "text/plain": [
       "[[1]]\n",
       "[1] \"3332\"  \"33323\"\n"
      ]
     },
     "metadata": {},
     "output_type": "display_data"
    }
   ],
   "source": [
    "vec_str[1] %>% str_extract_all('\\\\d{3,}')"
   ]
  },
  {
   "cell_type": "code",
   "execution_count": 110,
   "metadata": {},
   "outputs": [
    {
     "data": {
      "text/html": [
       "<ol class=list-inline>\n",
       "\t<li>'3332'</li>\n",
       "\t<li>NA</li>\n",
       "\t<li>NA</li>\n",
       "\t<li>'3232'</li>\n",
       "</ol>\n"
      ],
      "text/latex": [
       "\\begin{enumerate*}\n",
       "\\item '3332'\n",
       "\\item NA\n",
       "\\item NA\n",
       "\\item '3232'\n",
       "\\end{enumerate*}\n"
      ],
      "text/markdown": [
       "1. '3332'\n",
       "2. NA\n",
       "3. NA\n",
       "4. '3232'\n",
       "\n",
       "\n"
      ],
      "text/plain": [
       "[1] \"3332\" NA     NA     \"3232\""
      ]
     },
     "metadata": {},
     "output_type": "display_data"
    }
   ],
   "source": [
    "#vectorize\n",
    "\n",
    "#return a vector\n",
    "vec_str %>% str_extract('\\\\d{3,}')"
   ]
  },
  {
   "cell_type": "code",
   "execution_count": 114,
   "metadata": {},
   "outputs": [
    {
     "data": {
      "text/html": [
       "<ol>\n",
       "\t<li><ol class=list-inline>\n",
       "\t<li>'3332'</li>\n",
       "\t<li>'33323'</li>\n",
       "</ol>\n",
       "</li>\n",
       "\t<li></li>\n",
       "\t<li></li>\n",
       "\t<li>'3232'</li>\n",
       "</ol>\n"
      ],
      "text/latex": [
       "\\begin{enumerate}\n",
       "\\item \\begin{enumerate*}\n",
       "\\item '3332'\n",
       "\\item '33323'\n",
       "\\end{enumerate*}\n",
       "\n",
       "\\item \n",
       "\\item \n",
       "\\item '3232'\n",
       "\\end{enumerate}\n"
      ],
      "text/markdown": [
       "1. 1. '3332'\n",
       "2. '33323'\n",
       "\n",
       "\n",
       "\n",
       "2. \n",
       "3. \n",
       "4. '3232'\n",
       "\n",
       "\n"
      ],
      "text/plain": [
       "[[1]]\n",
       "[1] \"3332\"  \"33323\"\n",
       "\n",
       "[[2]]\n",
       "character(0)\n",
       "\n",
       "[[3]]\n",
       "character(0)\n",
       "\n",
       "[[4]]\n",
       "[1] \"3232\"\n"
      ]
     },
     "metadata": {},
     "output_type": "display_data"
    }
   ],
   "source": [
    "#return a list of character vectors\n",
    "vec_str %>% str_extract_all('\\\\d{3,}')"
   ]
  },
  {
   "cell_type": "markdown",
   "metadata": {},
   "source": [
    "**`str_match()`** extracts capture groups formed by `()` from the first match. It returns a character matrix with one column for the complete match and one column for each group.  \n",
    "**`str_match_all()`** extracts capture groups from all matches and returns a list of character matrices. "
   ]
  },
  {
   "cell_type": "code",
   "execution_count": 115,
   "metadata": {},
   "outputs": [
    {
     "data": {
      "text/html": [
       "<ol class=list-inline>\n",
       "\t<li>'a3332 33323'</li>\n",
       "\t<li>'afda'</li>\n",
       "\t<li>'22a3'</li>\n",
       "\t<li>'3232a3'</li>\n",
       "</ol>\n"
      ],
      "text/latex": [
       "\\begin{enumerate*}\n",
       "\\item 'a3332 33323'\n",
       "\\item 'afda'\n",
       "\\item '22a3'\n",
       "\\item '3232a3'\n",
       "\\end{enumerate*}\n"
      ],
      "text/markdown": [
       "1. 'a3332 33323'\n",
       "2. 'afda'\n",
       "3. '22a3'\n",
       "4. '3232a3'\n",
       "\n",
       "\n"
      ],
      "text/plain": [
       "[1] \"a3332 33323\" \"afda\"        \"22a3\"        \"3232a3\"     "
      ]
     },
     "metadata": {},
     "output_type": "display_data"
    }
   ],
   "source": [
    "vec_str"
   ]
  },
  {
   "cell_type": "code",
   "execution_count": 118,
   "metadata": {},
   "outputs": [
    {
     "data": {
      "text/html": [
       "<table>\n",
       "<tbody>\n",
       "\t<tr><td>a3332</td><td>3332 </td></tr>\n",
       "\t<tr><td>NA   </td><td>NA   </td></tr>\n",
       "\t<tr><td>a3   </td><td>3    </td></tr>\n",
       "\t<tr><td>a3   </td><td>3    </td></tr>\n",
       "</tbody>\n",
       "</table>\n"
      ],
      "text/latex": [
       "\\begin{tabular}{ll}\n",
       "\t a3332 & 3332 \\\\\n",
       "\t NA    & NA   \\\\\n",
       "\t a3    & 3    \\\\\n",
       "\t a3    & 3    \\\\\n",
       "\\end{tabular}\n"
      ],
      "text/markdown": [
       "\n",
       "| a3332 | 3332  |\n",
       "| NA    | NA    |\n",
       "| a3    | 3     |\n",
       "| a3    | 3     |\n",
       "\n"
      ],
      "text/plain": [
       "     [,1]  [,2]\n",
       "[1,] a3332 3332\n",
       "[2,] NA    NA  \n",
       "[3,] a3    3   \n",
       "[4,] a3    3   "
      ]
     },
     "metadata": {},
     "output_type": "display_data"
    }
   ],
   "source": [
    "vec_str %>% str_match('[a-z]+(\\\\d+)')"
   ]
  },
  {
   "cell_type": "code",
   "execution_count": 119,
   "metadata": {},
   "outputs": [
    {
     "data": {
      "text/html": [
       "<ol>\n",
       "\t<li><table>\n",
       "<tbody>\n",
       "\t<tr><td>a3332</td><td>3332 </td></tr>\n",
       "</tbody>\n",
       "</table>\n",
       "</li>\n",
       "\t<li></li>\n",
       "\t<li><table>\n",
       "<tbody>\n",
       "\t<tr><td>a3</td><td>3 </td></tr>\n",
       "</tbody>\n",
       "</table>\n",
       "</li>\n",
       "\t<li><table>\n",
       "<tbody>\n",
       "\t<tr><td>a3</td><td>3 </td></tr>\n",
       "</tbody>\n",
       "</table>\n",
       "</li>\n",
       "</ol>\n"
      ],
      "text/latex": [
       "\\begin{enumerate}\n",
       "\\item \\begin{tabular}{ll}\n",
       "\t a3332 & 3332 \\\\\n",
       "\\end{tabular}\n",
       "\n",
       "\\item \n",
       "\\item \\begin{tabular}{ll}\n",
       "\t a3 & 3 \\\\\n",
       "\\end{tabular}\n",
       "\n",
       "\\item \\begin{tabular}{ll}\n",
       "\t a3 & 3 \\\\\n",
       "\\end{tabular}\n",
       "\n",
       "\\end{enumerate}\n"
      ],
      "text/markdown": [
       "1. \n",
       "| a3332 | 3332  |\n",
       "\n",
       "\n",
       "2. \n",
       "3. \n",
       "| a3 | 3  |\n",
       "\n",
       "\n",
       "4. \n",
       "| a3 | 3  |\n",
       "\n",
       "\n",
       "\n",
       "\n"
      ],
      "text/plain": [
       "[[1]]\n",
       "     [,1]    [,2]  \n",
       "[1,] \"a3332\" \"3332\"\n",
       "\n",
       "[[2]]\n",
       "     [,1] [,2]\n",
       "\n",
       "[[3]]\n",
       "     [,1] [,2]\n",
       "[1,] \"a3\" \"3\" \n",
       "\n",
       "[[4]]\n",
       "     [,1] [,2]\n",
       "[1,] \"a3\" \"3\" \n"
      ]
     },
     "metadata": {},
     "output_type": "display_data"
    }
   ],
   "source": [
    "vec_str %>% str_match_all('[a-z]+(\\\\d+)')"
   ]
  },
  {
   "cell_type": "markdown",
   "metadata": {},
   "source": [
    "**`str_replace()`** replaces the first matched pattern and returns a character vector.   \n",
    "**`str_replace_all()`** replaces all matches."
   ]
  },
  {
   "cell_type": "code",
   "execution_count": 120,
   "metadata": {},
   "outputs": [
    {
     "data": {
      "text/html": [
       "<ol class=list-inline>\n",
       "\t<li>'a3332 33323'</li>\n",
       "\t<li>'afda'</li>\n",
       "\t<li>'22a3'</li>\n",
       "\t<li>'3232a3'</li>\n",
       "</ol>\n"
      ],
      "text/latex": [
       "\\begin{enumerate*}\n",
       "\\item 'a3332 33323'\n",
       "\\item 'afda'\n",
       "\\item '22a3'\n",
       "\\item '3232a3'\n",
       "\\end{enumerate*}\n"
      ],
      "text/markdown": [
       "1. 'a3332 33323'\n",
       "2. 'afda'\n",
       "3. '22a3'\n",
       "4. '3232a3'\n",
       "\n",
       "\n"
      ],
      "text/plain": [
       "[1] \"a3332 33323\" \"afda\"        \"22a3\"        \"3232a3\"     "
      ]
     },
     "metadata": {},
     "output_type": "display_data"
    }
   ],
   "source": [
    "vec_str"
   ]
  },
  {
   "cell_type": "code",
   "execution_count": 123,
   "metadata": {},
   "outputs": [
    {
     "data": {
      "text/html": [
       "<ol class=list-inline>\n",
       "\t<li>'a? 33323'</li>\n",
       "\t<li>'afda'</li>\n",
       "\t<li>'?a3'</li>\n",
       "\t<li>'?a3'</li>\n",
       "</ol>\n"
      ],
      "text/latex": [
       "\\begin{enumerate*}\n",
       "\\item 'a? 33323'\n",
       "\\item 'afda'\n",
       "\\item '?a3'\n",
       "\\item '?a3'\n",
       "\\end{enumerate*}\n"
      ],
      "text/markdown": [
       "1. 'a? 33323'\n",
       "2. 'afda'\n",
       "3. '?a3'\n",
       "4. '?a3'\n",
       "\n",
       "\n"
      ],
      "text/plain": [
       "[1] \"a? 33323\" \"afda\"     \"?a3\"      \"?a3\"     "
      ]
     },
     "metadata": {},
     "output_type": "display_data"
    }
   ],
   "source": [
    "vec_str %>% str_replace('\\\\d+', '?')"
   ]
  },
  {
   "cell_type": "code",
   "execution_count": 124,
   "metadata": {},
   "outputs": [
    {
     "data": {
      "text/html": [
       "<ol class=list-inline>\n",
       "\t<li>'a? ?'</li>\n",
       "\t<li>'afda'</li>\n",
       "\t<li>'?a?'</li>\n",
       "\t<li>'?a?'</li>\n",
       "</ol>\n"
      ],
      "text/latex": [
       "\\begin{enumerate*}\n",
       "\\item 'a? ?'\n",
       "\\item 'afda'\n",
       "\\item '?a?'\n",
       "\\item '?a?'\n",
       "\\end{enumerate*}\n"
      ],
      "text/markdown": [
       "1. 'a? ?'\n",
       "2. 'afda'\n",
       "3. '?a?'\n",
       "4. '?a?'\n",
       "\n",
       "\n"
      ],
      "text/plain": [
       "[1] \"a? ?\" \"afda\" \"?a?\"  \"?a?\" "
      ]
     },
     "metadata": {},
     "output_type": "display_data"
    }
   ],
   "source": [
    "vec_str %>% str_replace_all('\\\\d+', '?')"
   ]
  },
  {
   "cell_type": "markdown",
   "metadata": {},
   "source": [
    "**`str_split_fixed()`** splits a string into a fixed number of pieces based on a pattern and returns a character matrix.   \n",
    "**`str_split()`** splits a string into a variable number of pieces and returns a list of character vectors."
   ]
  },
  {
   "cell_type": "code",
   "execution_count": 126,
   "metadata": {},
   "outputs": [],
   "source": [
    "values <- c('a  da  ada    e', 'a   b     c   d    e    f')"
   ]
  },
  {
   "cell_type": "code",
   "execution_count": 131,
   "metadata": {},
   "outputs": [
    {
     "data": {
      "text/html": [
       "<table>\n",
       "<tbody>\n",
       "\t<tr><td>a              </td><td>da             </td><td>ada    e       </td></tr>\n",
       "\t<tr><td>a              </td><td>b              </td><td>c   d    e    f</td></tr>\n",
       "</tbody>\n",
       "</table>\n"
      ],
      "text/latex": [
       "\\begin{tabular}{lll}\n",
       "\t a               & da              & ada    e       \\\\\n",
       "\t a               & b               & c   d    e    f\\\\\n",
       "\\end{tabular}\n"
      ],
      "text/markdown": [
       "\n",
       "| a               | da              | ada    e        |\n",
       "| a               | b               | c   d    e    f |\n",
       "\n"
      ],
      "text/plain": [
       "     [,1] [,2] [,3]           \n",
       "[1,] a    da   ada    e       \n",
       "[2,] a    b    c   d    e    f"
      ]
     },
     "metadata": {},
     "output_type": "display_data"
    }
   ],
   "source": [
    "#maximum 2 split\n",
    "values %>% str_split_fixed('\\\\s+', n = 3)"
   ]
  },
  {
   "cell_type": "code",
   "execution_count": 129,
   "metadata": {},
   "outputs": [
    {
     "data": {
      "text/html": [
       "<ol>\n",
       "\t<li><ol class=list-inline>\n",
       "\t<li>'a'</li>\n",
       "\t<li>'da'</li>\n",
       "\t<li>'ada'</li>\n",
       "\t<li>'e'</li>\n",
       "</ol>\n",
       "</li>\n",
       "\t<li><ol class=list-inline>\n",
       "\t<li>'a'</li>\n",
       "\t<li>'b'</li>\n",
       "\t<li>'c'</li>\n",
       "\t<li>'d'</li>\n",
       "\t<li>'e'</li>\n",
       "\t<li>'f'</li>\n",
       "</ol>\n",
       "</li>\n",
       "</ol>\n"
      ],
      "text/latex": [
       "\\begin{enumerate}\n",
       "\\item \\begin{enumerate*}\n",
       "\\item 'a'\n",
       "\\item 'da'\n",
       "\\item 'ada'\n",
       "\\item 'e'\n",
       "\\end{enumerate*}\n",
       "\n",
       "\\item \\begin{enumerate*}\n",
       "\\item 'a'\n",
       "\\item 'b'\n",
       "\\item 'c'\n",
       "\\item 'd'\n",
       "\\item 'e'\n",
       "\\item 'f'\n",
       "\\end{enumerate*}\n",
       "\n",
       "\\end{enumerate}\n"
      ],
      "text/markdown": [
       "1. 1. 'a'\n",
       "2. 'da'\n",
       "3. 'ada'\n",
       "4. 'e'\n",
       "\n",
       "\n",
       "\n",
       "2. 1. 'a'\n",
       "2. 'b'\n",
       "3. 'c'\n",
       "4. 'd'\n",
       "5. 'e'\n",
       "6. 'f'\n",
       "\n",
       "\n",
       "\n",
       "\n",
       "\n"
      ],
      "text/plain": [
       "[[1]]\n",
       "[1] \"a\"   \"da\"  \"ada\" \"e\"  \n",
       "\n",
       "[[2]]\n",
       "[1] \"a\" \"b\" \"c\" \"d\" \"e\" \"f\"\n"
      ]
     },
     "metadata": {},
     "output_type": "display_data"
    }
   ],
   "source": [
    "values %>% str_split('\\\\s+')"
   ]
  },
  {
   "cell_type": "markdown",
   "metadata": {},
   "source": [
    "# Engines"
   ]
  },
  {
   "cell_type": "markdown",
   "metadata": {},
   "source": [
    "### Fixed Matches"
   ]
  },
  {
   "cell_type": "markdown",
   "metadata": {},
   "source": [
    "**`fixed(x)`** only matches the exact sequence of bytes specified by `x`. This is a very limited “pattern”, but the restriction can make matching much faster. Beware using **`fixed()`** with non-English data. It is problematic because there are often multiple ways of representing the same character. For example, there are two ways to define “á”: either as a single character or as an “a” plus an accent:"
   ]
  },
  {
   "cell_type": "code",
   "execution_count": 132,
   "metadata": {},
   "outputs": [],
   "source": [
    "a1 <- \"\\u00e1\"\n",
    "a2 <- \"a\\u0301\""
   ]
  },
  {
   "cell_type": "code",
   "execution_count": 133,
   "metadata": {},
   "outputs": [
    {
     "data": {
      "text/html": [
       "'á'"
      ],
      "text/latex": [
       "'á'"
      ],
      "text/markdown": [
       "'á'"
      ],
      "text/plain": [
       "[1] \"á\""
      ]
     },
     "metadata": {},
     "output_type": "display_data"
    }
   ],
   "source": [
    "a1"
   ]
  },
  {
   "cell_type": "code",
   "execution_count": 134,
   "metadata": {},
   "outputs": [
    {
     "data": {
      "text/html": [
       "'á'"
      ],
      "text/latex": [
       "'á'"
      ],
      "text/markdown": [
       "'á'"
      ],
      "text/plain": [
       "[1] \"a´\""
      ]
     },
     "metadata": {},
     "output_type": "display_data"
    }
   ],
   "source": [
    "a2"
   ]
  },
  {
   "cell_type": "code",
   "execution_count": 135,
   "metadata": {},
   "outputs": [
    {
     "data": {
      "text/html": [
       "FALSE"
      ],
      "text/latex": [
       "FALSE"
      ],
      "text/markdown": [
       "FALSE"
      ],
      "text/plain": [
       "[1] FALSE"
      ]
     },
     "metadata": {},
     "output_type": "display_data"
    }
   ],
   "source": [
    "a1 == a2"
   ]
  },
  {
   "cell_type": "markdown",
   "metadata": {},
   "source": [
    "They render identically, but because they’re defined differently, `fixed()` doesn’t find a match. Instead, you can use `coll()`, explained below, to respect human character comparison rules:"
   ]
  },
  {
   "cell_type": "code",
   "execution_count": 139,
   "metadata": {},
   "outputs": [
    {
     "data": {
      "text/html": [
       "FALSE"
      ],
      "text/latex": [
       "FALSE"
      ],
      "text/markdown": [
       "FALSE"
      ],
      "text/plain": [
       "[1] FALSE"
      ]
     },
     "metadata": {},
     "output_type": "display_data"
    }
   ],
   "source": [
    "a1 %>% str_detect(fixed(a2))"
   ]
  },
  {
   "cell_type": "code",
   "execution_count": 140,
   "metadata": {},
   "outputs": [
    {
     "data": {
      "text/html": [
       "TRUE"
      ],
      "text/latex": [
       "TRUE"
      ],
      "text/markdown": [
       "TRUE"
      ],
      "text/plain": [
       "[1] TRUE"
      ]
     },
     "metadata": {},
     "output_type": "display_data"
    }
   ],
   "source": [
    "#You must use str_detect to check, think of coll(a2) return a Regex\n",
    "a1 %>% str_detect(coll(a2))"
   ]
  },
  {
   "cell_type": "markdown",
   "metadata": {},
   "source": [
    "# Collation search"
   ]
  },
  {
   "cell_type": "markdown",
   "metadata": {},
   "source": [
    "**`coll(x)`** looks for a match to x using human-language collation rules, and is particularly important if you want to do case insensitive matching. Collation rules differ around the world, so you’ll also need to supply a `locale` parameter."
   ]
  },
  {
   "cell_type": "code",
   "execution_count": 141,
   "metadata": {},
   "outputs": [
    {
     "data": {
      "text/html": [
       "<ol class=list-inline>\n",
       "\t<li>'I'</li>\n",
       "\t<li>'I'</li>\n",
       "\t<li>'i'</li>\n",
       "\t<li>'i'</li>\n",
       "</ol>\n"
      ],
      "text/latex": [
       "\\begin{enumerate*}\n",
       "\\item 'I'\n",
       "\\item 'I'\n",
       "\\item 'i'\n",
       "\\item 'i'\n",
       "\\end{enumerate*}\n"
      ],
      "text/markdown": [
       "1. 'I'\n",
       "2. 'I'\n",
       "3. 'i'\n",
       "4. 'i'\n",
       "\n",
       "\n"
      ],
      "text/plain": [
       "[1] \"I\" \"I\" \"i\" \"i\""
      ]
     },
     "metadata": {},
     "output_type": "display_data"
    }
   ],
   "source": [
    "i <- c(\"I\", \"İ\", \"i\", \"ı\")\n",
    "\n",
    "i"
   ]
  },
  {
   "cell_type": "code",
   "execution_count": 142,
   "metadata": {},
   "outputs": [
    {
     "data": {
      "text/html": [
       "<ol class=list-inline>\n",
       "\t<li>'I'</li>\n",
       "\t<li>'I'</li>\n",
       "\t<li>'i'</li>\n",
       "\t<li>'i'</li>\n",
       "</ol>\n"
      ],
      "text/latex": [
       "\\begin{enumerate*}\n",
       "\\item 'I'\n",
       "\\item 'I'\n",
       "\\item 'i'\n",
       "\\item 'i'\n",
       "\\end{enumerate*}\n"
      ],
      "text/markdown": [
       "1. 'I'\n",
       "2. 'I'\n",
       "3. 'i'\n",
       "4. 'i'\n",
       "\n",
       "\n"
      ],
      "text/plain": [
       "[1] \"I\" \"I\" \"i\" \"i\""
      ]
     },
     "metadata": {},
     "output_type": "display_data"
    }
   ],
   "source": [
    "i %>% str_subset(coll(\"i\", ignore_case = TRUE))"
   ]
  },
  {
   "cell_type": "code",
   "execution_count": 144,
   "metadata": {},
   "outputs": [
    {
     "data": {
      "text/html": [
       "<ol class=list-inline>\n",
       "\t<li>'i'</li>\n",
       "\t<li>'i'</li>\n",
       "</ol>\n"
      ],
      "text/latex": [
       "\\begin{enumerate*}\n",
       "\\item 'i'\n",
       "\\item 'i'\n",
       "\\end{enumerate*}\n"
      ],
      "text/markdown": [
       "1. 'i'\n",
       "2. 'i'\n",
       "\n",
       "\n"
      ],
      "text/plain": [
       "[1] \"i\" \"i\""
      ]
     },
     "metadata": {},
     "output_type": "display_data"
    }
   ],
   "source": [
    "i %>% str_subset(coll(\"i\", ignore_case = TRUE, locale = \"tr\"))"
   ]
  },
  {
   "cell_type": "markdown",
   "metadata": {},
   "source": [
    "The downside of **`coll()`** is speed. Because the rules for recognising which characters are the same are complicated, `coll()` is relatively slow compared to `regex()` and `fixed()`. Note that when both `fixed()` and `regex()` have `ignore_case a`rguments, they perform a much simpler comparison than `coll()`."
   ]
  },
  {
   "cell_type": "markdown",
   "metadata": {},
   "source": [
    "# Boundary"
   ]
  },
  {
   "cell_type": "markdown",
   "metadata": {},
   "source": [
    "**`boundary()`** matches boundaries between characters, lines, sentences or words. It’s most useful with **`str_split()`**, but can be used with all pattern matching functions:"
   ]
  },
  {
   "cell_type": "code",
   "execution_count": 147,
   "metadata": {},
   "outputs": [],
   "source": [
    "x <- \"This is a sentence.\""
   ]
  },
  {
   "cell_type": "code",
   "execution_count": 148,
   "metadata": {},
   "outputs": [
    {
     "data": {
      "text/html": [
       "<ol>\n",
       "\t<li><ol class=list-inline>\n",
       "\t<li>'This'</li>\n",
       "\t<li>'is'</li>\n",
       "\t<li>'a'</li>\n",
       "\t<li>'sentence'</li>\n",
       "</ol>\n",
       "</li>\n",
       "</ol>\n"
      ],
      "text/latex": [
       "\\begin{enumerate}\n",
       "\\item \\begin{enumerate*}\n",
       "\\item 'This'\n",
       "\\item 'is'\n",
       "\\item 'a'\n",
       "\\item 'sentence'\n",
       "\\end{enumerate*}\n",
       "\n",
       "\\end{enumerate}\n"
      ],
      "text/markdown": [
       "1. 1. 'This'\n",
       "2. 'is'\n",
       "3. 'a'\n",
       "4. 'sentence'\n",
       "\n",
       "\n",
       "\n",
       "\n",
       "\n"
      ],
      "text/plain": [
       "[[1]]\n",
       "[1] \"This\"     \"is\"       \"a\"        \"sentence\"\n"
      ]
     },
     "metadata": {},
     "output_type": "display_data"
    }
   ],
   "source": [
    "str_split(x, boundary(\"word\"))"
   ]
  },
  {
   "cell_type": "code",
   "execution_count": 149,
   "metadata": {},
   "outputs": [
    {
     "data": {
      "text/html": [
       "4"
      ],
      "text/latex": [
       "4"
      ],
      "text/markdown": [
       "4"
      ],
      "text/plain": [
       "[1] 4"
      ]
     },
     "metadata": {},
     "output_type": "display_data"
    }
   ],
   "source": [
    "str_count(x, boundary(\"word\"))\n",
    "#> [1] 4"
   ]
  },
  {
   "cell_type": "code",
   "execution_count": 151,
   "metadata": {},
   "outputs": [
    {
     "data": {
      "text/html": [
       "<ol>\n",
       "\t<li><ol class=list-inline>\n",
       "\t<li>'This'</li>\n",
       "\t<li>'is'</li>\n",
       "\t<li>'a'</li>\n",
       "\t<li>'sentence'</li>\n",
       "</ol>\n",
       "</li>\n",
       "</ol>\n"
      ],
      "text/latex": [
       "\\begin{enumerate}\n",
       "\\item \\begin{enumerate*}\n",
       "\\item 'This'\n",
       "\\item 'is'\n",
       "\\item 'a'\n",
       "\\item 'sentence'\n",
       "\\end{enumerate*}\n",
       "\n",
       "\\end{enumerate}\n"
      ],
      "text/markdown": [
       "1. 1. 'This'\n",
       "2. 'is'\n",
       "3. 'a'\n",
       "4. 'sentence'\n",
       "\n",
       "\n",
       "\n",
       "\n",
       "\n"
      ],
      "text/plain": [
       "[[1]]\n",
       "[1] \"This\"     \"is\"       \"a\"        \"sentence\"\n"
      ]
     },
     "metadata": {},
     "output_type": "display_data"
    }
   ],
   "source": [
    "str_extract_all(x, boundary(\"word\"))"
   ]
  },
  {
   "cell_type": "markdown",
   "metadata": {},
   "source": [
    "By convention, `\"\"` is treated as `boundary(\"character\")`:"
   ]
  },
  {
   "cell_type": "code",
   "execution_count": 152,
   "metadata": {},
   "outputs": [
    {
     "data": {
      "text/html": [
       "<ol>\n",
       "\t<li><ol class=list-inline>\n",
       "\t<li>'T'</li>\n",
       "\t<li>'h'</li>\n",
       "\t<li>'i'</li>\n",
       "\t<li>'s'</li>\n",
       "\t<li>' '</li>\n",
       "\t<li>'i'</li>\n",
       "\t<li>'s'</li>\n",
       "\t<li>' '</li>\n",
       "\t<li>'a'</li>\n",
       "\t<li>' '</li>\n",
       "\t<li>'s'</li>\n",
       "\t<li>'e'</li>\n",
       "\t<li>'n'</li>\n",
       "\t<li>'t'</li>\n",
       "\t<li>'e'</li>\n",
       "\t<li>'n'</li>\n",
       "\t<li>'c'</li>\n",
       "\t<li>'e'</li>\n",
       "\t<li>'.'</li>\n",
       "</ol>\n",
       "</li>\n",
       "</ol>\n"
      ],
      "text/latex": [
       "\\begin{enumerate}\n",
       "\\item \\begin{enumerate*}\n",
       "\\item 'T'\n",
       "\\item 'h'\n",
       "\\item 'i'\n",
       "\\item 's'\n",
       "\\item ' '\n",
       "\\item 'i'\n",
       "\\item 's'\n",
       "\\item ' '\n",
       "\\item 'a'\n",
       "\\item ' '\n",
       "\\item 's'\n",
       "\\item 'e'\n",
       "\\item 'n'\n",
       "\\item 't'\n",
       "\\item 'e'\n",
       "\\item 'n'\n",
       "\\item 'c'\n",
       "\\item 'e'\n",
       "\\item '.'\n",
       "\\end{enumerate*}\n",
       "\n",
       "\\end{enumerate}\n"
      ],
      "text/markdown": [
       "1. 1. 'T'\n",
       "2. 'h'\n",
       "3. 'i'\n",
       "4. 's'\n",
       "5. ' '\n",
       "6. 'i'\n",
       "7. 's'\n",
       "8. ' '\n",
       "9. 'a'\n",
       "10. ' '\n",
       "11. 's'\n",
       "12. 'e'\n",
       "13. 'n'\n",
       "14. 't'\n",
       "15. 'e'\n",
       "16. 'n'\n",
       "17. 'c'\n",
       "18. 'e'\n",
       "19. '.'\n",
       "\n",
       "\n",
       "\n",
       "\n",
       "\n"
      ],
      "text/plain": [
       "[[1]]\n",
       " [1] \"T\" \"h\" \"i\" \"s\" \" \" \"i\" \"s\" \" \" \"a\" \" \" \"s\" \"e\" \"n\" \"t\" \"e\" \"n\" \"c\" \"e\" \".\"\n"
      ]
     },
     "metadata": {},
     "output_type": "display_data"
    }
   ],
   "source": [
    "x %>% str_split('')"
   ]
  },
  {
   "cell_type": "code",
   "execution_count": 153,
   "metadata": {},
   "outputs": [
    {
     "data": {
      "text/html": [
       "19"
      ],
      "text/latex": [
       "19"
      ],
      "text/markdown": [
       "19"
      ],
      "text/plain": [
       "[1] 19"
      ]
     },
     "metadata": {},
     "output_type": "display_data"
    }
   ],
   "source": [
    "x %>% str_count('')"
   ]
  }
 ],
 "metadata": {
  "kernelspec": {
   "display_name": "R",
   "language": "R",
   "name": "ir"
  },
  "language_info": {
   "codemirror_mode": "r",
   "file_extension": ".r",
   "mimetype": "text/x-r-source",
   "name": "R",
   "pygments_lexer": "r",
   "version": "3.6.1"
  }
 },
 "nbformat": 4,
 "nbformat_minor": 2
}
