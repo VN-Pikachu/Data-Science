{
 "cells": [
  {
   "cell_type": "code",
   "execution_count": 2,
   "metadata": {},
   "outputs": [],
   "source": [
    "library(tidyverse)"
   ]
  },
  {
   "cell_type": "markdown",
   "metadata": {},
   "source": [
    "# Wrap strings into nicely formatted paragraphs"
   ]
  },
  {
   "cell_type": "markdown",
   "metadata": {},
   "source": [
    "```r\n",
    "str_wrap(string, width = 80, indent = 0, exdent = 0)\n",
    "```"
   ]
  },
  {
   "cell_type": "markdown",
   "metadata": {},
   "source": [
    "# Examples"
   ]
  },
  {
   "cell_type": "markdown",
   "metadata": {},
   "source": [
    "**Arguments**  \n",
    "`string`\t\n",
    "character vector of strings to reformat.\n",
    "\n",
    "`width`\t\n",
    "positive integer giving target line width in characters. A width less than or equal to 1 will put each word on its own line.\n",
    "\n",
    "`indent`\t\n",
    "non-negative integer giving indentation of first line in each paragraph\n",
    "\n",
    "`exdent`\t\n",
    "non-negative integer giving indentation of following lines in each paragraph"
   ]
  },
  {
   "cell_type": "markdown",
   "metadata": {},
   "source": [
    "# Examples"
   ]
  },
  {
   "cell_type": "code",
   "execution_count": 23,
   "metadata": {},
   "outputs": [],
   "source": [
    "s <- 'I very often watch a lot of young people, sort of miander around. \n",
    "To know what you want, \n",
    "to understand why you are doing it.\n",
    "To dedicate every breath in your body.'"
   ]
  },
  {
   "cell_type": "code",
   "execution_count": 24,
   "metadata": {},
   "outputs": [
    {
     "name": "stdout",
     "output_type": "stream",
     "text": [
      "I very often watch a lot of young people, sort of miander around. \n",
      "To know what you want, \n",
      "to understand why you are doing it.\n",
      "To dedicate every breath in your body."
     ]
    }
   ],
   "source": [
    "cat(s)"
   ]
  },
  {
   "cell_type": "code",
   "execution_count": 29,
   "metadata": {},
   "outputs": [
    {
     "name": "stdout",
     "output_type": "stream",
     "text": [
      "     I very often watch\n",
      "   a lot of young\n",
      "   people, sort of\n",
      "   miander around. To\n",
      "   know what you want,\n",
      "   to understand why\n",
      "   you are doing it.\n",
      "   To dedicate every\n",
      "   breath in your body."
     ]
    }
   ],
   "source": [
    "cat(s %>% str_wrap(width = 20,   # The width of each line is 20 characters\n",
    "                   indent = 5,   # The indentation of the first line is 5 space ' '  from the start\n",
    "                   exdent = 3)   # The indeatioin of following line in the same paragraph is 3 space ' ' from the start \n",
    "   )"
   ]
  }
 ],
 "metadata": {
  "kernelspec": {
   "display_name": "R",
   "language": "R",
   "name": "ir"
  },
  "language_info": {
   "codemirror_mode": "r",
   "file_extension": ".r",
   "mimetype": "text/x-r-source",
   "name": "R",
   "pygments_lexer": "r",
   "version": "3.6.1"
  }
 },
 "nbformat": 4,
 "nbformat_minor": 2
}
