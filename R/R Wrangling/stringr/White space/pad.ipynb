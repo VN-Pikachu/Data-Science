{
 "cells": [
  {
   "cell_type": "code",
   "execution_count": 4,
   "metadata": {},
   "outputs": [],
   "source": [
    "library(tidyverse)"
   ]
  },
  {
   "cell_type": "markdown",
   "metadata": {},
   "source": [
    "# Pad a string"
   ]
  },
  {
   "cell_type": "markdown",
   "metadata": {},
   "source": [
    "```r\n",
    "str_pad(string, width, side = c(\"left\", \"right\", \"both\"), pad = \" \")\n",
    "```"
   ]
  },
  {
   "cell_type": "markdown",
   "metadata": {},
   "source": [
    "# Python equivalent"
   ]
  },
  {
   "cell_type": "markdown",
   "metadata": {},
   "source": [
    "* **`string %>% str_pad(width, side = 'both', pad = '')`**: **`string.center(width, fillchar= ' ')`**\n",
    "* **`string %>% str_pad(width, side = 'right', pad = '')`**: **`string.ljust(width, fillchar = ' ')`**\n",
    "* **`string %>% str_pad(width, side = 'left', pad = '')`**: **`string.rjust(width, fillchar = ' ')`**"
   ]
  },
  {
   "cell_type": "markdown",
   "metadata": {},
   "source": [
    "# Examples"
   ]
  },
  {
   "cell_type": "code",
   "execution_count": 5,
   "metadata": {},
   "outputs": [
    {
     "data": {
      "text/html": [
       "<span style=white-space:pre-wrap>'a         '</span>"
      ],
      "text/latex": [
       "'a         '"
      ],
      "text/markdown": [
       "<span style=white-space:pre-wrap>'a         '</span>"
      ],
      "text/plain": [
       "[1] \"a         \""
      ]
     },
     "metadata": {},
     "output_type": "display_data"
    }
   ],
   "source": [
    "'a' %>% str_pad(10, side = 'right')  # 'a'.ljust(10)"
   ]
  },
  {
   "cell_type": "code",
   "execution_count": 9,
   "metadata": {},
   "outputs": [
    {
     "data": {
      "text/html": [
       "'.........a'"
      ],
      "text/latex": [
       "'.........a'"
      ],
      "text/markdown": [
       "'.........a'"
      ],
      "text/plain": [
       "[1] \".........a\""
      ]
     },
     "metadata": {},
     "output_type": "display_data"
    }
   ],
   "source": [
    "'a' %>% str_pad(10, side = 'left', pad = '.')  # 'a'.rjust(10, '.')"
   ]
  },
  {
   "cell_type": "code",
   "execution_count": 11,
   "metadata": {},
   "outputs": [
    {
     "data": {
      "text/html": [
       "'--a--'"
      ],
      "text/latex": [
       "'--a--'"
      ],
      "text/markdown": [
       "'--a--'"
      ],
      "text/plain": [
       "[1] \"--a--\""
      ]
     },
     "metadata": {},
     "output_type": "display_data"
    }
   ],
   "source": [
    "'a' %>% str_pad(5, side = 'both', pad = '-')  # 'a'.center(5, '-')"
   ]
  },
  {
   "cell_type": "markdown",
   "metadata": {},
   "source": [
    "Vectorize"
   ]
  },
  {
   "cell_type": "code",
   "execution_count": 14,
   "metadata": {},
   "outputs": [
    {
     "data": {
      "text/html": [
       "<ol class=list-inline>\n",
       "\t<li>'****a*****'</li>\n",
       "\t<li>'****b*****'</li>\n",
       "</ol>\n"
      ],
      "text/latex": [
       "\\begin{enumerate*}\n",
       "\\item '****a*****'\n",
       "\\item '****b*****'\n",
       "\\end{enumerate*}\n"
      ],
      "text/markdown": [
       "1. '****a*****'\n",
       "2. '****b*****'\n",
       "\n",
       "\n"
      ],
      "text/plain": [
       "[1] \"****a*****\" \"****b*****\""
      ]
     },
     "metadata": {},
     "output_type": "display_data"
    }
   ],
   "source": [
    "c('a', 'b') %>% str_pad(10, side = 'both', '*')"
   ]
  },
  {
   "cell_type": "code",
   "execution_count": 15,
   "metadata": {},
   "outputs": [
    {
     "data": {
      "text/html": [
       "<ol class=list-inline>\n",
       "\t<li><span style=white-space:pre-wrap>'         a'</span></li>\n",
       "\t<li><span style=white-space:pre-wrap>'       abc'</span></li>\n",
       "\t<li><span style=white-space:pre-wrap>'    abcdef'</span></li>\n",
       "</ol>\n"
      ],
      "text/latex": [
       "\\begin{enumerate*}\n",
       "\\item '         a'\n",
       "\\item '       abc'\n",
       "\\item '    abcdef'\n",
       "\\end{enumerate*}\n"
      ],
      "text/markdown": [
       "1. <span style=white-space:pre-wrap>'         a'</span>\n",
       "2. <span style=white-space:pre-wrap>'       abc'</span>\n",
       "3. <span style=white-space:pre-wrap>'    abcdef'</span>\n",
       "\n",
       "\n"
      ],
      "text/plain": [
       "[1] \"         a\" \"       abc\" \"    abcdef\""
      ]
     },
     "metadata": {},
     "output_type": "display_data"
    }
   ],
   "source": [
    "# All arguments are vectorised except side\n",
    "str_pad(c(\"a\", \"abc\", \"abcdef\"), 10)"
   ]
  },
  {
   "cell_type": "code",
   "execution_count": 16,
   "metadata": {},
   "outputs": [
    {
     "data": {
      "text/html": [
       "<ol class=list-inline>\n",
       "\t<li><span style=white-space:pre-wrap>'    a'</span></li>\n",
       "\t<li><span style=white-space:pre-wrap>'         a'</span></li>\n",
       "\t<li><span style=white-space:pre-wrap>'                   a'</span></li>\n",
       "</ol>\n"
      ],
      "text/latex": [
       "\\begin{enumerate*}\n",
       "\\item '    a'\n",
       "\\item '         a'\n",
       "\\item '                   a'\n",
       "\\end{enumerate*}\n"
      ],
      "text/markdown": [
       "1. <span style=white-space:pre-wrap>'    a'</span>\n",
       "2. <span style=white-space:pre-wrap>'         a'</span>\n",
       "3. <span style=white-space:pre-wrap>'                   a'</span>\n",
       "\n",
       "\n"
      ],
      "text/plain": [
       "[1] \"    a\"                \"         a\"           \"                   a\""
      ]
     },
     "metadata": {},
     "output_type": "display_data"
    }
   ],
   "source": [
    "str_pad(\"a\", c(5, 10, 20))"
   ]
  },
  {
   "cell_type": "code",
   "execution_count": 17,
   "metadata": {},
   "outputs": [
    {
     "data": {
      "text/html": [
       "<ol class=list-inline>\n",
       "\t<li>'---------a'</li>\n",
       "\t<li>'_________a'</li>\n",
       "\t<li><span style=white-space:pre-wrap>'         a'</span></li>\n",
       "</ol>\n"
      ],
      "text/latex": [
       "\\begin{enumerate*}\n",
       "\\item '---------a'\n",
       "\\item '\\_\\_\\_\\_\\_\\_\\_\\_\\_a'\n",
       "\\item '         a'\n",
       "\\end{enumerate*}\n"
      ],
      "text/markdown": [
       "1. '---------a'\n",
       "2. '_________a'\n",
       "3. <span style=white-space:pre-wrap>'         a'</span>\n",
       "\n",
       "\n"
      ],
      "text/plain": [
       "[1] \"---------a\" \"_________a\" \"         a\""
      ]
     },
     "metadata": {},
     "output_type": "display_data"
    }
   ],
   "source": [
    "str_pad(\"a\", 10, pad = c(\"-\", \"_\", \" \"))"
   ]
  },
  {
   "cell_type": "code",
   "execution_count": 18,
   "metadata": {},
   "outputs": [
    {
     "data": {
      "text/html": [
       "'hadley'"
      ],
      "text/latex": [
       "'hadley'"
      ],
      "text/markdown": [
       "'hadley'"
      ],
      "text/plain": [
       "[1] \"hadley\""
      ]
     },
     "metadata": {},
     "output_type": "display_data"
    }
   ],
   "source": [
    "# Longer strings are returned unchanged\n",
    "str_pad(\"hadley\", 3)"
   ]
  }
 ],
 "metadata": {
  "kernelspec": {
   "display_name": "R",
   "language": "R",
   "name": "ir"
  },
  "language_info": {
   "codemirror_mode": "r",
   "file_extension": ".r",
   "mimetype": "text/x-r-source",
   "name": "R",
   "pygments_lexer": "r",
   "version": "3.6.1"
  }
 },
 "nbformat": 4,
 "nbformat_minor": 2
}
