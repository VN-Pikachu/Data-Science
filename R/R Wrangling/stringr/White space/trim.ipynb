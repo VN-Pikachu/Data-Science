{
 "cells": [
  {
   "cell_type": "code",
   "execution_count": 5,
   "metadata": {},
   "outputs": [],
   "source": [
    "library(tidyverse)"
   ]
  },
  {
   "cell_type": "markdown",
   "metadata": {},
   "source": [
    "# Trim whitespace from a string"
   ]
  },
  {
   "cell_type": "markdown",
   "metadata": {},
   "source": [
    "**`str_trim()`** removes whitespace from start and end of string; **`str_squish()`** also reduces repeated whitespace inside a string."
   ]
  },
  {
   "cell_type": "markdown",
   "metadata": {},
   "source": [
    "```r\n",
    "str_trim(string, side = c(\"both\", \"left\", \"right\"))\n",
    "\n",
    "str_squish(string)\n",
    "```"
   ]
  },
  {
   "cell_type": "markdown",
   "metadata": {},
   "source": [
    "# Examples"
   ]
  },
  {
   "cell_type": "code",
   "execution_count": 16,
   "metadata": {},
   "outputs": [],
   "source": [
    "s <- \"  I   love   U   \\n\\n\""
   ]
  },
  {
   "cell_type": "code",
   "execution_count": 17,
   "metadata": {},
   "outputs": [
    {
     "data": {
      "text/html": [
       "<span style=white-space:pre-wrap>'I   love   U   \\n\\n'</span>"
      ],
      "text/latex": [
       "'I   love   U   \\textbackslash{}n\\textbackslash{}n'"
      ],
      "text/markdown": [
       "<span style=white-space:pre-wrap>'I   love   U   \\n\\n'</span>"
      ],
      "text/plain": [
       "[1] \"I   love   U   \\n\\n\""
      ]
     },
     "metadata": {},
     "output_type": "display_data"
    }
   ],
   "source": [
    "#Python: str.lstrip()\n",
    "s %>% str_trim('left')"
   ]
  },
  {
   "cell_type": "code",
   "execution_count": 18,
   "metadata": {},
   "outputs": [
    {
     "data": {
      "text/html": [
       "<span style=white-space:pre-wrap>'  I   love   U'</span>"
      ],
      "text/latex": [
       "'  I   love   U'"
      ],
      "text/markdown": [
       "<span style=white-space:pre-wrap>'  I   love   U'</span>"
      ],
      "text/plain": [
       "[1] \"  I   love   U\""
      ]
     },
     "metadata": {},
     "output_type": "display_data"
    }
   ],
   "source": [
    "# Python: str.rstrip()\n",
    "s %>% str_trim('right')"
   ]
  },
  {
   "cell_type": "code",
   "execution_count": 19,
   "metadata": {},
   "outputs": [
    {
     "data": {
      "text/html": [
       "<span style=white-space:pre-wrap>'I   love   U'</span>"
      ],
      "text/latex": [
       "'I   love   U'"
      ],
      "text/markdown": [
       "<span style=white-space:pre-wrap>'I   love   U'</span>"
      ],
      "text/plain": [
       "[1] \"I   love   U\""
      ]
     },
     "metadata": {},
     "output_type": "display_data"
    }
   ],
   "source": [
    "# Python: str.strip()\n",
    "s %>% str_trim('both')"
   ]
  },
  {
   "cell_type": "code",
   "execution_count": 20,
   "metadata": {},
   "outputs": [
    {
     "data": {
      "text/html": [
       "'I love U'"
      ],
      "text/latex": [
       "'I love U'"
      ],
      "text/markdown": [
       "'I love U'"
      ],
      "text/plain": [
       "[1] \"I love U\""
      ]
     },
     "metadata": {},
     "output_type": "display_data"
    }
   ],
   "source": [
    "s %>% str_squish()"
   ]
  }
 ],
 "metadata": {
  "kernelspec": {
   "display_name": "R",
   "language": "R",
   "name": "ir"
  },
  "language_info": {
   "codemirror_mode": "r",
   "file_extension": ".r",
   "mimetype": "text/x-r-source",
   "name": "R",
   "pygments_lexer": "r",
   "version": "3.6.1"
  }
 },
 "nbformat": 4,
 "nbformat_minor": 2
}
