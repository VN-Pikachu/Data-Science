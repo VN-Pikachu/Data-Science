{
 "cells": [
  {
   "cell_type": "code",
   "execution_count": 3,
   "metadata": {},
   "outputs": [],
   "source": [
    "library(tidyverse)"
   ]
  },
  {
   "cell_type": "markdown",
   "metadata": {},
   "source": [
    "# Join multiple strings into a single string"
   ]
  },
  {
   "cell_type": "markdown",
   "metadata": {},
   "source": [
    "Joins two or more vectors element-wise into a single character vector, optionally inserting sep between input vectors. If collapse is not NULL, it will be inserted between elements of the result, returning a character vector of length 1."
   ]
  },
  {
   "cell_type": "markdown",
   "metadata": {},
   "source": [
    "```r\n",
    "# equivalent to: base::paste\n",
    "str_c(..., sep = \"\", collapse = NULL)\n",
    "```"
   ]
  },
  {
   "cell_type": "markdown",
   "metadata": {},
   "source": [
    "**Arguments**  \n",
    " `...`\t\n",
    "One or more character vectors. Zero length arguments are removed. Short arguments are recycled to the length of the longest.\n",
    "\n",
    "Like most other R functions, missing values are \"infectious\": whenever a missing value is combined with another string the result will always be missing. Use str_replace_na() to convert NA to \"NA\"\n",
    "\n",
    " `sep`\t\n",
    "String to insert between input vectors.\n",
    "\n",
    "`collapse`\t\n",
    "Optional string used to combine input vectors into single string."
   ]
  },
  {
   "cell_type": "markdown",
   "metadata": {},
   "source": [
    "# Missing values"
   ]
  },
  {
   "cell_type": "code",
   "execution_count": 6,
   "metadata": {},
   "outputs": [
    {
     "data": {
      "text/html": [
       "NA"
      ],
      "text/latex": [
       "NA"
      ],
      "text/markdown": [
       "NA"
      ],
      "text/plain": [
       "[1] NA"
      ]
     },
     "metadata": {},
     "output_type": "display_data"
    }
   ],
   "source": [
    "# Missing inputs give missing outputs\n",
    "str_c(NA, 'a')\n"
   ]
  },
  {
   "cell_type": "code",
   "execution_count": 7,
   "metadata": {},
   "outputs": [
    {
     "data": {
      "text/html": [
       "<ol class=list-inline>\n",
       "\t<li>'a-d'</li>\n",
       "\t<li>'NA-d'</li>\n",
       "\t<li>'b-d'</li>\n",
       "</ol>\n"
      ],
      "text/latex": [
       "\\begin{enumerate*}\n",
       "\\item 'a-d'\n",
       "\\item 'NA-d'\n",
       "\\item 'b-d'\n",
       "\\end{enumerate*}\n"
      ],
      "text/markdown": [
       "1. 'a-d'\n",
       "2. 'NA-d'\n",
       "3. 'b-d'\n",
       "\n",
       "\n"
      ],
      "text/plain": [
       "[1] \"a-d\"  \"NA-d\" \"b-d\" "
      ]
     },
     "metadata": {},
     "output_type": "display_data"
    }
   ],
   "source": [
    "# Use str_replace_NA to display literal NAs:\n",
    "str_c(str_replace_na(c(\"a\", NA, \"b\")), \"-d\")"
   ]
  },
  {
   "cell_type": "code",
   "execution_count": 8,
   "metadata": {},
   "outputs": [
    {
     "data": {
      "text/html": [
       "'NAa'"
      ],
      "text/latex": [
       "'NAa'"
      ],
      "text/markdown": [
       "'NAa'"
      ],
      "text/plain": [
       "[1] \"NAa\""
      ]
     },
     "metadata": {},
     "output_type": "display_data"
    }
   ],
   "source": [
    "# This is diffrerent from base R paste and paste0, which convert NA to 'NA' then concatenate\n",
    "paste0(NA, 'a')"
   ]
  },
  {
   "cell_type": "markdown",
   "metadata": {},
   "source": [
    "# Examples"
   ]
  },
  {
   "cell_type": "code",
   "execution_count": 4,
   "metadata": {},
   "outputs": [
    {
     "data": {
      "text/html": [
       "'I am VN Pikachu'"
      ],
      "text/latex": [
       "'I am VN Pikachu'"
      ],
      "text/markdown": [
       "'I am VN Pikachu'"
      ],
      "text/plain": [
       "[1] \"I am VN Pikachu\""
      ]
     },
     "metadata": {},
     "output_type": "display_data"
    }
   ],
   "source": [
    "str_c('I am', 'VN', 'Pikachu', sep = ' ')"
   ]
  },
  {
   "cell_type": "code",
   "execution_count": 5,
   "metadata": {},
   "outputs": [
    {
     "data": {
      "text/html": [
       "<ol class=list-inline>\n",
       "\t<li>'VNC--Son La TF'</li>\n",
       "\t<li>'VN--Van Du'</li>\n",
       "</ol>\n"
      ],
      "text/latex": [
       "\\begin{enumerate*}\n",
       "\\item 'VNC--Son La TF'\n",
       "\\item 'VN--Van Du'\n",
       "\\end{enumerate*}\n"
      ],
      "text/markdown": [
       "1. 'VNC--Son La TF'\n",
       "2. 'VN--Van Du'\n",
       "\n",
       "\n"
      ],
      "text/plain": [
       "[1] \"VNC--Son La TF\" \"VN--Van Du\"    "
      ]
     },
     "metadata": {},
     "output_type": "display_data"
    }
   ],
   "source": [
    "str_c(c('VNC', 'VN'), c('Son La TF', 'Van Du'), sep = '--')"
   ]
  },
  {
   "cell_type": "code",
   "execution_count": 6,
   "metadata": {},
   "outputs": [
    {
     "data": {
      "text/html": [
       "'VNC--Son La TF***VN--Van Du'"
      ],
      "text/latex": [
       "'VNC--Son La TF***VN--Van Du'"
      ],
      "text/markdown": [
       "'VNC--Son La TF***VN--Van Du'"
      ],
      "text/plain": [
       "[1] \"VNC--Son La TF***VN--Van Du\""
      ]
     },
     "metadata": {},
     "output_type": "display_data"
    }
   ],
   "source": [
    "# collapse the result above into a single string\n",
    "\n",
    "str_c(c('VNC', 'VN'), c('Son La TF', 'Van Du'), sep = '--', collapse = '***')"
   ]
  },
  {
   "cell_type": "code",
   "execution_count": 7,
   "metadata": {},
   "outputs": [
    {
     "data": {
      "text/html": [
       "<ol class=list-inline>\n",
       "\t<li>'I+First'</li>\n",
       "\t<li>'I+Second'</li>\n",
       "</ol>\n"
      ],
      "text/latex": [
       "\\begin{enumerate*}\n",
       "\\item 'I+First'\n",
       "\\item 'I+Second'\n",
       "\\end{enumerate*}\n"
      ],
      "text/markdown": [
       "1. 'I+First'\n",
       "2. 'I+Second'\n",
       "\n",
       "\n"
      ],
      "text/plain": [
       "[1] \"I+First\"  \"I+Second\""
      ]
     },
     "metadata": {},
     "output_type": "display_data"
    }
   ],
   "source": [
    "# recyle (broadcast)\n",
    "\n",
    "str_c('I', c('First', 'Second'), sep = '+')"
   ]
  },
  {
   "cell_type": "markdown",
   "metadata": {},
   "source": [
    "Object of length 0 is silently dropped, this is particularly useful in conjunction with `if`"
   ]
  },
  {
   "cell_type": "code",
   "execution_count": 5,
   "metadata": {},
   "outputs": [
    {
     "data": {
      "text/html": [
       "'Hi Pikachu!'"
      ],
      "text/latex": [
       "'Hi Pikachu!'"
      ],
      "text/markdown": [
       "'Hi Pikachu!'"
      ],
      "text/plain": [
       "[1] \"Hi Pikachu!\""
      ]
     },
     "metadata": {},
     "output_type": "display_data"
    },
    {
     "data": {
      "text/html": [
       "'Hi !'"
      ],
      "text/latex": [
       "'Hi !'"
      ],
      "text/markdown": [
       "'Hi !'"
      ],
      "text/plain": [
       "[1] \"Hi !\""
      ]
     },
     "metadata": {},
     "output_type": "display_data"
    }
   ],
   "source": [
    "is_pikachu <- T\n",
    "\n",
    "str_c('Hi ', if(is_pikachu) 'Pikachu', '!')\n",
    "      \n",
    "is_pikachu <- F\n",
    "      \n",
    "str_c('Hi ', if(is_pikachu) 'Pikachu', '!')"
   ]
  },
  {
   "cell_type": "markdown",
   "metadata": {},
   "source": [
    "To collapse a vector of strings into a single string, use `collapse`:"
   ]
  },
  {
   "cell_type": "code",
   "execution_count": 8,
   "metadata": {},
   "outputs": [
    {
     "data": {
      "text/html": [
       "'a, b, c, d, e, f, g, h, i, j, k, l, m, n, o, p, q, r, s, t, u, v, w, x, y, z'"
      ],
      "text/latex": [
       "'a, b, c, d, e, f, g, h, i, j, k, l, m, n, o, p, q, r, s, t, u, v, w, x, y, z'"
      ],
      "text/markdown": [
       "'a, b, c, d, e, f, g, h, i, j, k, l, m, n, o, p, q, r, s, t, u, v, w, x, y, z'"
      ],
      "text/plain": [
       "[1] \"a, b, c, d, e, f, g, h, i, j, k, l, m, n, o, p, q, r, s, t, u, v, w, x, y, z\""
      ]
     },
     "metadata": {},
     "output_type": "display_data"
    }
   ],
   "source": [
    "letters %>% str_c(collapse = ', ')"
   ]
  }
 ],
 "metadata": {
  "kernelspec": {
   "display_name": "R",
   "language": "R",
   "name": "ir"
  },
  "language_info": {
   "codemirror_mode": "r",
   "file_extension": ".r",
   "mimetype": "text/x-r-source",
   "name": "R",
   "pygments_lexer": "r",
   "version": "3.6.1"
  }
 },
 "nbformat": 4,
 "nbformat_minor": 2
}
