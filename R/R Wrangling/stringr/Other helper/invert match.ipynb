{
 "cells": [
  {
   "cell_type": "code",
   "execution_count": 2,
   "metadata": {},
   "outputs": [],
   "source": [
    "library(tidyverse)"
   ]
  },
  {
   "cell_type": "markdown",
   "metadata": {},
   "source": [
    "# Switch location of matches to location of non-matches."
   ]
  },
  {
   "cell_type": "markdown",
   "metadata": {},
   "source": [
    "Invert a matrix of match locations to match the opposite of what was previously matched."
   ]
  },
  {
   "cell_type": "markdown",
   "metadata": {},
   "source": [
    "```r\n",
    "invert_match(loc)\n",
    "```"
   ]
  },
  {
   "cell_type": "markdown",
   "metadata": {},
   "source": [
    "**Arguments**  \n",
    "`loc` \t\n",
    "matrix of match locations, as from **`str_locate_all()`**"
   ]
  },
  {
   "cell_type": "markdown",
   "metadata": {},
   "source": [
    "# Examples"
   ]
  },
  {
   "cell_type": "code",
   "execution_count": 6,
   "metadata": {},
   "outputs": [],
   "source": [
    "numbers <- \"1 and 2 and 4 and 456\""
   ]
  },
  {
   "cell_type": "code",
   "execution_count": 24,
   "metadata": {},
   "outputs": [
    {
     "data": {
      "text/html": [
       "<table>\n",
       "<thead><tr><th scope=col>start</th><th scope=col>end</th></tr></thead>\n",
       "<tbody>\n",
       "\t<tr><td> 1</td><td> 1</td></tr>\n",
       "\t<tr><td> 7</td><td> 7</td></tr>\n",
       "\t<tr><td>13</td><td>13</td></tr>\n",
       "\t<tr><td>19</td><td>21</td></tr>\n",
       "</tbody>\n",
       "</table>\n"
      ],
      "text/latex": [
       "\\begin{tabular}{ll}\n",
       " start & end\\\\\n",
       "\\hline\n",
       "\t  1 &  1\\\\\n",
       "\t  7 &  7\\\\\n",
       "\t 13 & 13\\\\\n",
       "\t 19 & 21\\\\\n",
       "\\end{tabular}\n"
      ],
      "text/markdown": [
       "\n",
       "| start | end |\n",
       "|---|---|\n",
       "|  1 |  1 |\n",
       "|  7 |  7 |\n",
       "| 13 | 13 |\n",
       "| 19 | 21 |\n",
       "\n"
      ],
      "text/plain": [
       "     start end\n",
       "[1,]  1     1 \n",
       "[2,]  7     7 \n",
       "[3,] 13    13 \n",
       "[4,] 19    21 "
      ]
     },
     "metadata": {},
     "output_type": "display_data"
    }
   ],
   "source": [
    "num_loc <- str_locate_all(numbers, \"[0-9]+\")[[1]]\n",
    "\n",
    "num_loc "
   ]
  },
  {
   "cell_type": "code",
   "execution_count": 27,
   "metadata": {},
   "outputs": [
    {
     "data": {
      "text/html": [
       "<table>\n",
       "<thead><tr><th scope=col>start</th><th scope=col>end</th></tr></thead>\n",
       "<tbody>\n",
       "\t<tr><td> 0</td><td> 0</td></tr>\n",
       "\t<tr><td> 2</td><td> 6</td></tr>\n",
       "\t<tr><td> 8</td><td>12</td></tr>\n",
       "\t<tr><td>14</td><td>18</td></tr>\n",
       "\t<tr><td>22</td><td>-1</td></tr>\n",
       "</tbody>\n",
       "</table>\n"
      ],
      "text/latex": [
       "\\begin{tabular}{ll}\n",
       " start & end\\\\\n",
       "\\hline\n",
       "\t  0 &  0\\\\\n",
       "\t  2 &  6\\\\\n",
       "\t  8 & 12\\\\\n",
       "\t 14 & 18\\\\\n",
       "\t 22 & -1\\\\\n",
       "\\end{tabular}\n"
      ],
      "text/markdown": [
       "\n",
       "| start | end |\n",
       "|---|---|\n",
       "|  0 |  0 |\n",
       "|  2 |  6 |\n",
       "|  8 | 12 |\n",
       "| 14 | 18 |\n",
       "| 22 | -1 |\n",
       "\n"
      ],
      "text/plain": [
       "     start end\n",
       "[1,]  0     0 \n",
       "[2,]  2     6 \n",
       "[3,]  8    12 \n",
       "[4,] 14    18 \n",
       "[5,] 22    -1 "
      ]
     },
     "metadata": {},
     "output_type": "display_data"
    }
   ],
   "source": [
    "num_loc_invert <- invert_match(num_loc)\n",
    "num_loc_invert"
   ]
  },
  {
   "cell_type": "code",
   "execution_count": 26,
   "metadata": {},
   "outputs": [
    {
     "data": {
      "text/html": [
       "<ol class=list-inline>\n",
       "\t<li>'1'</li>\n",
       "\t<li>'2'</li>\n",
       "\t<li>'4'</li>\n",
       "\t<li>'456'</li>\n",
       "</ol>\n"
      ],
      "text/latex": [
       "\\begin{enumerate*}\n",
       "\\item '1'\n",
       "\\item '2'\n",
       "\\item '4'\n",
       "\\item '456'\n",
       "\\end{enumerate*}\n"
      ],
      "text/markdown": [
       "1. '1'\n",
       "2. '2'\n",
       "3. '4'\n",
       "4. '456'\n",
       "\n",
       "\n"
      ],
      "text/plain": [
       "[1] \"1\"   \"2\"   \"4\"   \"456\""
      ]
     },
     "metadata": {},
     "output_type": "display_data"
    }
   ],
   "source": [
    "numbers %>% str_sub(num_loc[,1], num_loc[,2])"
   ]
  },
  {
   "cell_type": "code",
   "execution_count": 28,
   "metadata": {},
   "outputs": [
    {
     "data": {
      "text/html": [
       "<ol class=list-inline>\n",
       "\t<li>''</li>\n",
       "\t<li>' and '</li>\n",
       "\t<li>' and '</li>\n",
       "\t<li>' and '</li>\n",
       "\t<li>''</li>\n",
       "</ol>\n"
      ],
      "text/latex": [
       "\\begin{enumerate*}\n",
       "\\item ''\n",
       "\\item ' and '\n",
       "\\item ' and '\n",
       "\\item ' and '\n",
       "\\item ''\n",
       "\\end{enumerate*}\n"
      ],
      "text/markdown": [
       "1. ''\n",
       "2. ' and '\n",
       "3. ' and '\n",
       "4. ' and '\n",
       "5. ''\n",
       "\n",
       "\n"
      ],
      "text/plain": [
       "[1] \"\"      \" and \" \" and \" \" and \" \"\"     "
      ]
     },
     "metadata": {},
     "output_type": "display_data"
    }
   ],
   "source": [
    "numbers %>% str_sub(num_loc_invert[,1], num_loc_invert[,2])"
   ]
  }
 ],
 "metadata": {
  "kernelspec": {
   "display_name": "R",
   "language": "R",
   "name": "ir"
  },
  "language_info": {
   "codemirror_mode": "r",
   "file_extension": ".r",
   "mimetype": "text/x-r-source",
   "name": "R",
   "pygments_lexer": "r",
   "version": "3.6.1"
  }
 },
 "nbformat": 4,
 "nbformat_minor": 2
}
