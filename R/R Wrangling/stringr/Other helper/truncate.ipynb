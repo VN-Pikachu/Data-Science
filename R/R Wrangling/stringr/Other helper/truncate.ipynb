{
 "cells": [
  {
   "cell_type": "code",
   "execution_count": 4,
   "metadata": {},
   "outputs": [],
   "source": [
    "library(tidyverse)"
   ]
  },
  {
   "cell_type": "markdown",
   "metadata": {},
   "source": [
    "# Truncate a character string"
   ]
  },
  {
   "cell_type": "markdown",
   "metadata": {},
   "source": [
    "```r\n",
    "str_trunc(string, width, side = c(\"right\", \"left\", \"center\"), ellipsis = \"...\")\n",
    "```"
   ]
  },
  {
   "cell_type": "markdown",
   "metadata": {},
   "source": [
    "# Examples"
   ]
  },
  {
   "cell_type": "code",
   "execution_count": 1,
   "metadata": {},
   "outputs": [
    {
     "data": {
      "text/html": [
       "'This string is moderately long'"
      ],
      "text/latex": [
       "'This string is moderately long'"
      ],
      "text/markdown": [
       "'This string is moderately long'"
      ],
      "text/plain": [
       "[1] \"This string is moderately long\""
      ]
     },
     "metadata": {},
     "output_type": "display_data"
    }
   ],
   "source": [
    "x <- \"This string is moderately long\"\n",
    "x"
   ]
  },
  {
   "cell_type": "code",
   "execution_count": 5,
   "metadata": {},
   "outputs": [
    {
     "data": {
      "text/html": [
       "'...s moderately long'"
      ],
      "text/latex": [
       "'...s moderately long'"
      ],
      "text/markdown": [
       "'...s moderately long'"
      ],
      "text/plain": [
       "[1] \"...s moderately long\""
      ]
     },
     "metadata": {},
     "output_type": "display_data"
    }
   ],
   "source": [
    "x %>% str_trunc(20, side = 'left')"
   ]
  },
  {
   "cell_type": "code",
   "execution_count": 6,
   "metadata": {},
   "outputs": [
    {
     "data": {
      "text/html": [
       "'This string is mo...'"
      ],
      "text/latex": [
       "'This string is mo...'"
      ],
      "text/markdown": [
       "'This string is mo...'"
      ],
      "text/plain": [
       "[1] \"This string is mo...\""
      ]
     },
     "metadata": {},
     "output_type": "display_data"
    }
   ],
   "source": [
    "x %>% str_trunc(20, side = 'right')"
   ]
  },
  {
   "cell_type": "code",
   "execution_count": 8,
   "metadata": {},
   "outputs": [
    {
     "data": {
      "text/html": [
       "'This stri...ely long'"
      ],
      "text/latex": [
       "'This stri...ely long'"
      ],
      "text/markdown": [
       "'This stri...ely long'"
      ],
      "text/plain": [
       "[1] \"This stri...ely long\""
      ]
     },
     "metadata": {},
     "output_type": "display_data"
    }
   ],
   "source": [
    "x %>% str_trunc(20, side = 'center')"
   ]
  },
  {
   "cell_type": "code",
   "execution_count": 10,
   "metadata": {},
   "outputs": [
    {
     "data": {
      "text/html": [
       "'???s moderately long'"
      ],
      "text/latex": [
       "'???s moderately long'"
      ],
      "text/markdown": [
       "'???s moderately long'"
      ],
      "text/plain": [
       "[1] \"???s moderately long\""
      ]
     },
     "metadata": {},
     "output_type": "display_data"
    }
   ],
   "source": [
    "x %>% str_trunc(20, side = 'left', ellipsis = '???')"
   ]
  }
 ],
 "metadata": {
  "kernelspec": {
   "display_name": "R",
   "language": "R",
   "name": "ir"
  },
  "language_info": {
   "codemirror_mode": "r",
   "file_extension": ".r",
   "mimetype": "text/x-r-source",
   "name": "R",
   "pygments_lexer": "r",
   "version": "3.6.1"
  }
 },
 "nbformat": 4,
 "nbformat_minor": 2
}
