{
 "cells": [
  {
   "cell_type": "code",
   "execution_count": 2,
   "metadata": {},
   "outputs": [],
   "source": [
    "library(tidyverse)"
   ]
  },
  {
   "cell_type": "markdown",
   "metadata": {},
   "source": [
    "# Extract and replace substrings from a character vector"
   ]
  },
  {
   "cell_type": "markdown",
   "metadata": {},
   "source": [
    "**`str_sub`** will recycle all arguments to be the same length as the longest argument. If any arguments are of length 0, the output will be a zero length character vector."
   ]
  },
  {
   "cell_type": "markdown",
   "metadata": {},
   "source": [
    "```r\n",
    "str_sub(string, start = 1L, end = -1L)                           # Like slicing in python: string[i1:i2]\n",
    "\n",
    "str_sub(string, start = 1L, end = -1L, omit_na = FALSE) <- value\n",
    "```"
   ]
  },
  {
   "cell_type": "markdown",
   "metadata": {},
   "source": [
    "# Value"
   ]
  },
  {
   "cell_type": "markdown",
   "metadata": {},
   "source": [
    "A character vector of substring from start to end (inclusive). Will be length of longest input argument."
   ]
  },
  {
   "cell_type": "markdown",
   "metadata": {},
   "source": [
    "# Examples"
   ]
  },
  {
   "cell_type": "code",
   "execution_count": 4,
   "metadata": {},
   "outputs": [
    {
     "data": {
      "text/html": [
       "'Hadley'"
      ],
      "text/latex": [
       "'Hadley'"
      ],
      "text/markdown": [
       "'Hadley'"
      ],
      "text/plain": [
       "[1] \"Hadley\""
      ]
     },
     "metadata": {},
     "output_type": "display_data"
    }
   ],
   "source": [
    "hw <- \"Hadley Wickham\"\n",
    "\n",
    "hw %>% str_sub(1, 6)"
   ]
  },
  {
   "cell_type": "code",
   "execution_count": 7,
   "metadata": {},
   "outputs": [
    {
     "data": {
      "text/html": [
       "'Hadley'"
      ],
      "text/latex": [
       "'Hadley'"
      ],
      "text/markdown": [
       "'Hadley'"
      ],
      "text/plain": [
       "[1] \"Hadley\""
      ]
     },
     "metadata": {},
     "output_type": "display_data"
    },
    {
     "data": {
      "text/html": [
       "'Hadley'"
      ],
      "text/latex": [
       "'Hadley'"
      ],
      "text/markdown": [
       "'Hadley'"
      ],
      "text/plain": [
       "[1] \"Hadley\""
      ]
     },
     "metadata": {},
     "output_type": "display_data"
    },
    {
     "data": {
      "text/html": [
       "'Wickham'"
      ],
      "text/latex": [
       "'Wickham'"
      ],
      "text/markdown": [
       "'Wickham'"
      ],
      "text/plain": [
       "[1] \"Wickham\""
      ]
     },
     "metadata": {},
     "output_type": "display_data"
    },
    {
     "data": {
      "text/html": [
       "'Wickham'"
      ],
      "text/latex": [
       "'Wickham'"
      ],
      "text/markdown": [
       "'Wickham'"
      ],
      "text/plain": [
       "[1] \"Wickham\""
      ]
     },
     "metadata": {},
     "output_type": "display_data"
    },
    {
     "data": {
      "text/html": [
       "<ol class=list-inline>\n",
       "\t<li>'Hadley'</li>\n",
       "\t<li>'Wickham'</li>\n",
       "</ol>\n"
      ],
      "text/latex": [
       "\\begin{enumerate*}\n",
       "\\item 'Hadley'\n",
       "\\item 'Wickham'\n",
       "\\end{enumerate*}\n"
      ],
      "text/markdown": [
       "1. 'Hadley'\n",
       "2. 'Wickham'\n",
       "\n",
       "\n"
      ],
      "text/plain": [
       "[1] \"Hadley\"  \"Wickham\""
      ]
     },
     "metadata": {},
     "output_type": "display_data"
    }
   ],
   "source": [
    "hw <- \"Hadley Wickham\"\n",
    "\n",
    "str_sub(hw, 1, 6)\n",
    "str_sub(hw, end = 6)\n",
    "str_sub(hw, 8, 14)\n",
    "str_sub(hw, 8)\n",
    "str_sub(hw, c(1, 8), c(6, 14))"
   ]
  },
  {
   "cell_type": "code",
   "execution_count": 8,
   "metadata": {},
   "outputs": [
    {
     "data": {
      "text/html": [
       "'m'"
      ],
      "text/latex": [
       "'m'"
      ],
      "text/markdown": [
       "'m'"
      ],
      "text/plain": [
       "[1] \"m\""
      ]
     },
     "metadata": {},
     "output_type": "display_data"
    },
    {
     "data": {
      "text/html": [
       "'Wickham'"
      ],
      "text/latex": [
       "'Wickham'"
      ],
      "text/markdown": [
       "'Wickham'"
      ],
      "text/plain": [
       "[1] \"Wickham\""
      ]
     },
     "metadata": {},
     "output_type": "display_data"
    },
    {
     "data": {
      "text/html": [
       "'Hadley W'"
      ],
      "text/latex": [
       "'Hadley W'"
      ],
      "text/markdown": [
       "'Hadley W'"
      ],
      "text/plain": [
       "[1] \"Hadley W\""
      ]
     },
     "metadata": {},
     "output_type": "display_data"
    }
   ],
   "source": [
    "# Negative indices\n",
    "str_sub(hw, -1)\n",
    "str_sub(hw, -7)\n",
    "str_sub(hw, end = -7)"
   ]
  },
  {
   "cell_type": "code",
   "execution_count": 9,
   "metadata": {},
   "outputs": [
    {
     "data": {
      "text/html": [
       "<ol class=list-inline>\n",
       "\t<li>'a'</li>\n",
       "\t<li>'e'</li>\n",
       "\t<li>'i'</li>\n",
       "\t<li>'a'</li>\n",
       "</ol>\n"
      ],
      "text/latex": [
       "\\begin{enumerate*}\n",
       "\\item 'a'\n",
       "\\item 'e'\n",
       "\\item 'i'\n",
       "\\item 'a'\n",
       "\\end{enumerate*}\n"
      ],
      "text/markdown": [
       "1. 'a'\n",
       "2. 'e'\n",
       "3. 'i'\n",
       "4. 'a'\n",
       "\n",
       "\n"
      ],
      "text/plain": [
       "[1] \"a\" \"e\" \"i\" \"a\""
      ]
     },
     "metadata": {},
     "output_type": "display_data"
    },
    {
     "data": {
      "text/html": [
       "<ol class=list-inline>\n",
       "\t<li>'a'</li>\n",
       "\t<li>'e'</li>\n",
       "\t<li>'i'</li>\n",
       "\t<li>'a'</li>\n",
       "</ol>\n"
      ],
      "text/latex": [
       "\\begin{enumerate*}\n",
       "\\item 'a'\n",
       "\\item 'e'\n",
       "\\item 'i'\n",
       "\\item 'a'\n",
       "\\end{enumerate*}\n"
      ],
      "text/markdown": [
       "1. 'a'\n",
       "2. 'e'\n",
       "3. 'i'\n",
       "4. 'a'\n",
       "\n",
       "\n"
      ],
      "text/plain": [
       "[1] \"a\" \"e\" \"i\" \"a\""
      ]
     },
     "metadata": {},
     "output_type": "display_data"
    }
   ],
   "source": [
    "# Alternatively, you can pass in a two colum matrix, as in the\n",
    "# output from str_locate_all\n",
    "pos <- str_locate_all(hw, \"[aeio]\")[[1]]\n",
    "str_sub(hw, pos)\n",
    "str_sub(hw, pos[, 1], pos[, 2])"
   ]
  },
  {
   "cell_type": "code",
   "execution_count": 14,
   "metadata": {},
   "outputs": [
    {
     "data": {
      "text/html": [
       "<ol class=list-inline>\n",
       "\t<li>'H'</li>\n",
       "\t<li>'Ha'</li>\n",
       "\t<li>'Had'</li>\n",
       "\t<li>'Hadl'</li>\n",
       "\t<li>'Hadle'</li>\n",
       "\t<li>'Hadley'</li>\n",
       "\t<li>'Hadley '</li>\n",
       "\t<li>'Hadley W'</li>\n",
       "\t<li>'Hadley Wi'</li>\n",
       "\t<li>'Hadley Wic'</li>\n",
       "\t<li>'Hadley Wick'</li>\n",
       "\t<li>'Hadley Wickh'</li>\n",
       "\t<li>'Hadley Wickha'</li>\n",
       "\t<li>'Hadley Wickham'</li>\n",
       "</ol>\n"
      ],
      "text/latex": [
       "\\begin{enumerate*}\n",
       "\\item 'H'\n",
       "\\item 'Ha'\n",
       "\\item 'Had'\n",
       "\\item 'Hadl'\n",
       "\\item 'Hadle'\n",
       "\\item 'Hadley'\n",
       "\\item 'Hadley '\n",
       "\\item 'Hadley W'\n",
       "\\item 'Hadley Wi'\n",
       "\\item 'Hadley Wic'\n",
       "\\item 'Hadley Wick'\n",
       "\\item 'Hadley Wickh'\n",
       "\\item 'Hadley Wickha'\n",
       "\\item 'Hadley Wickham'\n",
       "\\end{enumerate*}\n"
      ],
      "text/markdown": [
       "1. 'H'\n",
       "2. 'Ha'\n",
       "3. 'Had'\n",
       "4. 'Hadl'\n",
       "5. 'Hadle'\n",
       "6. 'Hadley'\n",
       "7. 'Hadley '\n",
       "8. 'Hadley W'\n",
       "9. 'Hadley Wi'\n",
       "10. 'Hadley Wic'\n",
       "11. 'Hadley Wick'\n",
       "12. 'Hadley Wickh'\n",
       "13. 'Hadley Wickha'\n",
       "14. 'Hadley Wickham'\n",
       "\n",
       "\n"
      ],
      "text/plain": [
       " [1] \"H\"              \"Ha\"             \"Had\"            \"Hadl\"          \n",
       " [5] \"Hadle\"          \"Hadley\"         \"Hadley \"        \"Hadley W\"      \n",
       " [9] \"Hadley Wi\"      \"Hadley Wic\"     \"Hadley Wick\"    \"Hadley Wickh\"  \n",
       "[13] \"Hadley Wickha\"  \"Hadley Wickham\""
      ]
     },
     "metadata": {},
     "output_type": "display_data"
    }
   ],
   "source": [
    "# Vectorisation\n",
    "\n",
    "str_sub(hw, end = seq_len(str_length(hw)))"
   ]
  },
  {
   "cell_type": "code",
   "execution_count": 12,
   "metadata": {},
   "outputs": [
    {
     "data": {
      "text/html": [
       "'ABCDEF'"
      ],
      "text/latex": [
       "'ABCDEF'"
      ],
      "text/markdown": [
       "'ABCDEF'"
      ],
      "text/plain": [
       "[1] \"ABCDEF\""
      ]
     },
     "metadata": {},
     "output_type": "display_data"
    },
    {
     "data": {
      "text/html": [
       "'ABCDEK'"
      ],
      "text/latex": [
       "'ABCDEK'"
      ],
      "text/markdown": [
       "'ABCDEK'"
      ],
      "text/plain": [
       "[1] \"ABCDEK\""
      ]
     },
     "metadata": {},
     "output_type": "display_data"
    },
    {
     "data": {
      "text/html": [
       "'ABCDGHIJK'"
      ],
      "text/latex": [
       "'ABCDGHIJK'"
      ],
      "text/markdown": [
       "'ABCDGHIJK'"
      ],
      "text/plain": [
       "[1] \"ABCDGHIJK\""
      ]
     },
     "metadata": {},
     "output_type": "display_data"
    },
    {
     "data": {
      "text/html": [
       "'AK'"
      ],
      "text/latex": [
       "'AK'"
      ],
      "text/markdown": [
       "'AK'"
      ],
      "text/plain": [
       "[1] \"AK\""
      ]
     },
     "metadata": {},
     "output_type": "display_data"
    }
   ],
   "source": [
    "# Replacement form\n",
    "x <- \"BBCDEF\"\n",
    "str_sub(x, 1, 1) <- \"A\"; x\n",
    "str_sub(x, -1, -1) <- \"K\"; x\n",
    "str_sub(x, -2, -2) <- \"GHIJ\"; x\n",
    "str_sub(x, 2, -2) <- \"\"; x"
   ]
  },
  {
   "cell_type": "markdown",
   "metadata": {},
   "source": [
    "Note that **`str_sub()`** won’t fail if the string is too short: it will just return as much as possible:"
   ]
  },
  {
   "cell_type": "code",
   "execution_count": 3,
   "metadata": {},
   "outputs": [
    {
     "data": {
      "text/html": [
       "'bc'"
      ],
      "text/latex": [
       "'bc'"
      ],
      "text/markdown": [
       "'bc'"
      ],
      "text/plain": [
       "[1] \"bc\""
      ]
     },
     "metadata": {},
     "output_type": "display_data"
    }
   ],
   "source": [
    "'abc' %>% str_sub(2, 10)"
   ]
  },
  {
   "cell_type": "code",
   "execution_count": 15,
   "metadata": {},
   "outputs": [
    {
     "data": {
      "text/html": [
       "NA"
      ],
      "text/latex": [
       "NA"
      ],
      "text/markdown": [
       "NA"
      ],
      "text/plain": [
       "[1] NA"
      ]
     },
     "metadata": {},
     "output_type": "display_data"
    },
    {
     "data": {
      "text/html": [
       "NA"
      ],
      "text/latex": [
       "NA"
      ],
      "text/markdown": [
       "NA"
      ],
      "text/plain": [
       "[1] NA"
      ]
     },
     "metadata": {},
     "output_type": "display_data"
    },
    {
     "data": {
      "text/html": [
       "'AAA'"
      ],
      "text/latex": [
       "'AAA'"
      ],
      "text/markdown": [
       "'AAA'"
      ],
      "text/plain": [
       "[1] \"AAA\""
      ]
     },
     "metadata": {},
     "output_type": "display_data"
    },
    {
     "data": {
      "text/html": [
       "'AAA'"
      ],
      "text/latex": [
       "'AAA'"
      ],
      "text/markdown": [
       "'AAA'"
      ],
      "text/plain": [
       "[1] \"AAA\""
      ]
     },
     "metadata": {},
     "output_type": "display_data"
    }
   ],
   "source": [
    "# If you want to keep the original (the result is the same of the origin input) if some argument is NA,\n",
    "# use omit_na = TRUE\n",
    "x1 <- x2 <- x3 <- x4 <- \"AAA\"\n",
    "str_sub(x1, 1, NA) <- \"B\"\n",
    "str_sub(x2, 1, 2) <- NA\n",
    "str_sub(x3, 1, NA, omit_na = TRUE) <- \"B\"\n",
    "str_sub(x4, 1, 2, omit_na = TRUE) <- NA\n",
    "x1; x2; x3; x4"
   ]
  },
  {
   "cell_type": "code",
   "execution_count": null,
   "metadata": {},
   "outputs": [],
   "source": []
  }
 ],
 "metadata": {
  "kernelspec": {
   "display_name": "R",
   "language": "R",
   "name": "ir"
  },
  "language_info": {
   "codemirror_mode": "r",
   "file_extension": ".r",
   "mimetype": "text/x-r-source",
   "name": "R",
   "pygments_lexer": "r",
   "version": "3.6.1"
  }
 },
 "nbformat": 4,
 "nbformat_minor": 2
}
