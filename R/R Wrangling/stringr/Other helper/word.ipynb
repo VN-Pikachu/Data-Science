{
 "cells": [
  {
   "cell_type": "code",
   "execution_count": 4,
   "metadata": {},
   "outputs": [],
   "source": [
    "library(tidyverse)"
   ]
  },
  {
   "cell_type": "markdown",
   "metadata": {},
   "source": [
    "# Extract words from a sentence"
   ]
  },
  {
   "cell_type": "markdown",
   "metadata": {},
   "source": [
    "```r\n",
    "word(string, start = 1L, end = start, sep = fixed(\" \"))\n",
    "```"
   ]
  },
  {
   "cell_type": "markdown",
   "metadata": {},
   "source": [
    "**Arguments**\n",
    "\n",
    "`string`\t\n",
    "input character vector.\n",
    "\n",
    "`start`\t\n",
    "integer vector giving position of first word to extract. Defaults to first word. If negative, counts backwards from last character.\n",
    "\n",
    "`end`\t\n",
    "integer vector giving position of last word to extract. Defaults to first word. If negative, counts backwards from last character.\n",
    "\n",
    "`sep`\t\n",
    "separator between words. Defaults to single space."
   ]
  },
  {
   "cell_type": "markdown",
   "metadata": {},
   "source": [
    "# Value"
   ]
  },
  {
   "cell_type": "markdown",
   "metadata": {},
   "source": [
    "character vector of words from `start` to `end` (inclusive). Will be length of longest input argument."
   ]
  },
  {
   "cell_type": "markdown",
   "metadata": {},
   "source": [
    "# Examples"
   ]
  },
  {
   "cell_type": "code",
   "execution_count": 1,
   "metadata": {},
   "outputs": [
    {
     "data": {
      "text/html": [
       "'A secret makes a woman woman'"
      ],
      "text/latex": [
       "'A secret makes a woman woman'"
      ],
      "text/markdown": [
       "'A secret makes a woman woman'"
      ],
      "text/plain": [
       "[1] \"A secret makes a woman woman\""
      ]
     },
     "metadata": {},
     "output_type": "display_data"
    }
   ],
   "source": [
    "s <- 'A secret makes a woman woman'\n",
    "s"
   ]
  },
  {
   "cell_type": "code",
   "execution_count": 10,
   "metadata": {},
   "outputs": [
    {
     "data": {
      "text/html": [
       "'A'"
      ],
      "text/latex": [
       "'A'"
      ],
      "text/markdown": [
       "'A'"
      ],
      "text/plain": [
       "[1] \"A\""
      ]
     },
     "metadata": {},
     "output_type": "display_data"
    }
   ],
   "source": [
    "#default end = start\n",
    "s %>% word(start = 1)   # equivalent: s %>% word(start = 1, end = 1)"
   ]
  },
  {
   "cell_type": "code",
   "execution_count": 13,
   "metadata": {},
   "outputs": [
    {
     "data": {
      "text/html": [
       "'secret makes a'"
      ],
      "text/latex": [
       "'secret makes a'"
      ],
      "text/markdown": [
       "'secret makes a'"
      ],
      "text/plain": [
       "[1] \"secret makes a\""
      ]
     },
     "metadata": {},
     "output_type": "display_data"
    }
   ],
   "source": [
    "# slice string `s`, starting from the 2-th word, ending the 4-th word \n",
    "s %>% word(2, 4)"
   ]
  },
  {
   "cell_type": "code",
   "execution_count": 16,
   "metadata": {},
   "outputs": [
    {
     "data": {
      "text/html": [
       "'makes a woman woman'"
      ],
      "text/latex": [
       "'makes a woman woman'"
      ],
      "text/markdown": [
       "'makes a woman woman'"
      ],
      "text/plain": [
       "[1] \"makes a woman woman\""
      ]
     },
     "metadata": {},
     "output_type": "display_data"
    }
   ],
   "source": [
    "s %>% word(3, -1)"
   ]
  },
  {
   "cell_type": "code",
   "execution_count": 17,
   "metadata": {},
   "outputs": [
    {
     "data": {
      "text/html": [
       "'a woman woman'"
      ],
      "text/latex": [
       "'a woman woman'"
      ],
      "text/markdown": [
       "'a woman woman'"
      ],
      "text/plain": [
       "[1] \"a woman woman\""
      ]
     },
     "metadata": {},
     "output_type": "display_data"
    }
   ],
   "source": [
    "s %>% word(-3, -1)"
   ]
  },
  {
   "cell_type": "markdown",
   "metadata": {},
   "source": [
    "Vectorize:"
   ]
  },
  {
   "cell_type": "code",
   "execution_count": 18,
   "metadata": {},
   "outputs": [],
   "source": [
    "sentences <- c(\"Jane saw a cat\", \"Jane sat down\")"
   ]
  },
  {
   "cell_type": "code",
   "execution_count": 19,
   "metadata": {},
   "outputs": [
    {
     "data": {
      "text/html": [
       "<ol class=list-inline>\n",
       "\t<li>'saw a cat'</li>\n",
       "\t<li>'Jane sat down'</li>\n",
       "</ol>\n"
      ],
      "text/latex": [
       "\\begin{enumerate*}\n",
       "\\item 'saw a cat'\n",
       "\\item 'Jane sat down'\n",
       "\\end{enumerate*}\n"
      ],
      "text/markdown": [
       "1. 'saw a cat'\n",
       "2. 'Jane sat down'\n",
       "\n",
       "\n"
      ],
      "text/plain": [
       "[1] \"saw a cat\"     \"Jane sat down\""
      ]
     },
     "metadata": {},
     "output_type": "display_data"
    }
   ],
   "source": [
    "sentences %>% word(-3, -1)"
   ]
  },
  {
   "cell_type": "code",
   "execution_count": 22,
   "metadata": {},
   "outputs": [
    {
     "data": {
      "text/html": [
       "<ol class=list-inline>\n",
       "\t<li>'Jane saw a cat'</li>\n",
       "\t<li>'saw a cat'</li>\n",
       "\t<li>'a cat'</li>\n",
       "</ol>\n"
      ],
      "text/latex": [
       "\\begin{enumerate*}\n",
       "\\item 'Jane saw a cat'\n",
       "\\item 'saw a cat'\n",
       "\\item 'a cat'\n",
       "\\end{enumerate*}\n"
      ],
      "text/markdown": [
       "1. 'Jane saw a cat'\n",
       "2. 'saw a cat'\n",
       "3. 'a cat'\n",
       "\n",
       "\n"
      ],
      "text/plain": [
       "[1] \"Jane saw a cat\" \"saw a cat\"      \"a cat\"         "
      ]
     },
     "metadata": {},
     "output_type": "display_data"
    }
   ],
   "source": [
    "# Also vectorised over start and end\n",
    "sentences[1] %>% word(1:3, -1)"
   ]
  },
  {
   "cell_type": "code",
   "execution_count": 23,
   "metadata": {},
   "outputs": [
    {
     "data": {
      "text/html": [
       "<ol class=list-inline>\n",
       "\t<li>'Jane'</li>\n",
       "\t<li>'Jane saw'</li>\n",
       "\t<li>'Jane saw a'</li>\n",
       "\t<li>'Jane saw a cat'</li>\n",
       "</ol>\n"
      ],
      "text/latex": [
       "\\begin{enumerate*}\n",
       "\\item 'Jane'\n",
       "\\item 'Jane saw'\n",
       "\\item 'Jane saw a'\n",
       "\\item 'Jane saw a cat'\n",
       "\\end{enumerate*}\n"
      ],
      "text/markdown": [
       "1. 'Jane'\n",
       "2. 'Jane saw'\n",
       "3. 'Jane saw a'\n",
       "4. 'Jane saw a cat'\n",
       "\n",
       "\n"
      ],
      "text/plain": [
       "[1] \"Jane\"           \"Jane saw\"       \"Jane saw a\"     \"Jane saw a cat\""
      ]
     },
     "metadata": {},
     "output_type": "display_data"
    }
   ],
   "source": [
    "word(sentences[1], 1, 1:4)"
   ]
  },
  {
   "cell_type": "code",
   "execution_count": 25,
   "metadata": {},
   "outputs": [
    {
     "data": {
      "text/html": [
       "'def..123.4568'"
      ],
      "text/latex": [
       "'def..123.4568'"
      ],
      "text/markdown": [
       "'def..123.4568'"
      ],
      "text/plain": [
       "[1] \"def..123.4568\""
      ]
     },
     "metadata": {},
     "output_type": "display_data"
    }
   ],
   "source": [
    "# Can define words by other separators\n",
    "str <- 'abc.def..123.4568.999'\n",
    "\n",
    "str %>% word(2, 4, sep = '\\\\W+')"
   ]
  }
 ],
 "metadata": {
  "kernelspec": {
   "display_name": "R",
   "language": "R",
   "name": "ir"
  },
  "language_info": {
   "codemirror_mode": "r",
   "file_extension": ".r",
   "mimetype": "text/x-r-source",
   "name": "R",
   "pygments_lexer": "r",
   "version": "3.6.1"
  }
 },
 "nbformat": 4,
 "nbformat_minor": 2
}
