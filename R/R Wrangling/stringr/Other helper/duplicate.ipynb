{
 "cells": [
  {
   "cell_type": "code",
   "execution_count": 3,
   "metadata": {},
   "outputs": [],
   "source": [
    "library(tidyverse)"
   ]
  },
  {
   "cell_type": "markdown",
   "metadata": {},
   "source": [
    "# Duplicate and concatenate strings within a character vector"
   ]
  },
  {
   "cell_type": "markdown",
   "metadata": {},
   "source": [
    "```r\n",
    "str_dup(string, times)        # Python: string * times\n",
    "```"
   ]
  },
  {
   "cell_type": "markdown",
   "metadata": {},
   "source": [
    "# Examples"
   ]
  },
  {
   "cell_type": "code",
   "execution_count": 7,
   "metadata": {},
   "outputs": [
    {
     "data": {
      "text/html": [
       "''"
      ],
      "text/latex": [
       "''"
      ],
      "text/markdown": [
       "''"
      ],
      "text/plain": [
       "[1] \"\""
      ]
     },
     "metadata": {},
     "output_type": "display_data"
    }
   ],
   "source": [
    "'xy' %>% str_dup(0)"
   ]
  },
  {
   "cell_type": "code",
   "execution_count": 4,
   "metadata": {},
   "outputs": [
    {
     "data": {
      "text/html": [
       "'xyxyxyxyxy'"
      ],
      "text/latex": [
       "'xyxyxyxyxy'"
      ],
      "text/markdown": [
       "'xyxyxyxyxy'"
      ],
      "text/plain": [
       "[1] \"xyxyxyxyxy\""
      ]
     },
     "metadata": {},
     "output_type": "display_data"
    }
   ],
   "source": [
    "'xy' %>% str_dup(5)"
   ]
  },
  {
   "cell_type": "markdown",
   "metadata": {},
   "source": [
    "Vectorize"
   ]
  },
  {
   "cell_type": "code",
   "execution_count": 8,
   "metadata": {},
   "outputs": [
    {
     "data": {
      "text/html": [
       "<ol class=list-inline>\n",
       "\t<li>'a'</li>\n",
       "\t<li>'bcbc'</li>\n",
       "\t<li>'defdefdef'</li>\n",
       "</ol>\n"
      ],
      "text/latex": [
       "\\begin{enumerate*}\n",
       "\\item 'a'\n",
       "\\item 'bcbc'\n",
       "\\item 'defdefdef'\n",
       "\\end{enumerate*}\n"
      ],
      "text/markdown": [
       "1. 'a'\n",
       "2. 'bcbc'\n",
       "3. 'defdefdef'\n",
       "\n",
       "\n"
      ],
      "text/plain": [
       "[1] \"a\"         \"bcbc\"      \"defdefdef\""
      ]
     },
     "metadata": {},
     "output_type": "display_data"
    }
   ],
   "source": [
    "c('a', 'bc', 'def') %>% str_dup(c(1, 2, 3))"
   ]
  },
  {
   "cell_type": "code",
   "execution_count": 9,
   "metadata": {},
   "outputs": [
    {
     "data": {
      "text/html": [
       "<ol class=list-inline>\n",
       "\t<li>'aa'</li>\n",
       "\t<li>'bcbc'</li>\n",
       "\t<li>'defdef'</li>\n",
       "</ol>\n"
      ],
      "text/latex": [
       "\\begin{enumerate*}\n",
       "\\item 'aa'\n",
       "\\item 'bcbc'\n",
       "\\item 'defdef'\n",
       "\\end{enumerate*}\n"
      ],
      "text/markdown": [
       "1. 'aa'\n",
       "2. 'bcbc'\n",
       "3. 'defdef'\n",
       "\n",
       "\n"
      ],
      "text/plain": [
       "[1] \"aa\"     \"bcbc\"   \"defdef\""
      ]
     },
     "metadata": {},
     "output_type": "display_data"
    }
   ],
   "source": [
    "c('a', 'bc', 'def') %>% str_dup(2)"
   ]
  },
  {
   "cell_type": "code",
   "execution_count": 10,
   "metadata": {},
   "outputs": [
    {
     "data": {
      "text/html": [
       "<ol class=list-inline>\n",
       "\t<li>'a'</li>\n",
       "\t<li>'aa'</li>\n",
       "\t<li>'aaa'</li>\n",
       "</ol>\n"
      ],
      "text/latex": [
       "\\begin{enumerate*}\n",
       "\\item 'a'\n",
       "\\item 'aa'\n",
       "\\item 'aaa'\n",
       "\\end{enumerate*}\n"
      ],
      "text/markdown": [
       "1. 'a'\n",
       "2. 'aa'\n",
       "3. 'aaa'\n",
       "\n",
       "\n"
      ],
      "text/plain": [
       "[1] \"a\"   \"aa\"  \"aaa\""
      ]
     },
     "metadata": {},
     "output_type": "display_data"
    }
   ],
   "source": [
    "'a' %>% str_dup(c(1, 2, 3))"
   ]
  }
 ],
 "metadata": {
  "kernelspec": {
   "display_name": "R",
   "language": "R",
   "name": "ir"
  },
  "language_info": {
   "codemirror_mode": "r",
   "file_extension": ".r",
   "mimetype": "text/x-r-source",
   "name": "R",
   "pygments_lexer": "r",
   "version": "3.6.1"
  }
 },
 "nbformat": 4,
 "nbformat_minor": 2
}
