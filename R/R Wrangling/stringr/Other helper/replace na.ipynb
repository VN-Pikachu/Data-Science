{
 "cells": [
  {
   "cell_type": "code",
   "execution_count": 4,
   "metadata": {},
   "outputs": [],
   "source": [
    "library(tidyverse)"
   ]
  },
  {
   "cell_type": "markdown",
   "metadata": {},
   "source": [
    "# Turn NA into \"NA\""
   ]
  },
  {
   "cell_type": "markdown",
   "metadata": {},
   "source": [
    "```r\n",
    "str_replace_na(string, replacement = \"NA\")\n",
    "```"
   ]
  },
  {
   "cell_type": "markdown",
   "metadata": {},
   "source": [
    "**Arguments**  \n",
    "`replacement`  \n",
    "A single string"
   ]
  },
  {
   "cell_type": "markdown",
   "metadata": {},
   "source": [
    "# Example"
   ]
  },
  {
   "cell_type": "code",
   "execution_count": 5,
   "metadata": {},
   "outputs": [],
   "source": [
    "players <- c('VN Pikachu', 'Tank Cao', NA, NA, 'Meomeo888')"
   ]
  },
  {
   "cell_type": "code",
   "execution_count": 6,
   "metadata": {},
   "outputs": [
    {
     "data": {
      "text/html": [
       "<ol class=list-inline>\n",
       "\t<li>'VN Pikachu'</li>\n",
       "\t<li>'Tank Cao'</li>\n",
       "\t<li>NA</li>\n",
       "\t<li>NA</li>\n",
       "\t<li>'Meomeo888'</li>\n",
       "</ol>\n"
      ],
      "text/latex": [
       "\\begin{enumerate*}\n",
       "\\item 'VN Pikachu'\n",
       "\\item 'Tank Cao'\n",
       "\\item NA\n",
       "\\item NA\n",
       "\\item 'Meomeo888'\n",
       "\\end{enumerate*}\n"
      ],
      "text/markdown": [
       "1. 'VN Pikachu'\n",
       "2. 'Tank Cao'\n",
       "3. NA\n",
       "4. NA\n",
       "5. 'Meomeo888'\n",
       "\n",
       "\n"
      ],
      "text/plain": [
       "[1] \"VN Pikachu\" \"Tank Cao\"   NA           NA           \"Meomeo888\" "
      ]
     },
     "metadata": {},
     "output_type": "display_data"
    }
   ],
   "source": [
    "players %>% replace_na()"
   ]
  },
  {
   "cell_type": "code",
   "execution_count": 7,
   "metadata": {},
   "outputs": [
    {
     "data": {
      "text/html": [
       "<ol class=list-inline>\n",
       "\t<li>'VN Pikachu'</li>\n",
       "\t<li>'Tank Cao'</li>\n",
       "\t<li>'Unknown'</li>\n",
       "\t<li>'Unknown'</li>\n",
       "\t<li>'Meomeo888'</li>\n",
       "</ol>\n"
      ],
      "text/latex": [
       "\\begin{enumerate*}\n",
       "\\item 'VN Pikachu'\n",
       "\\item 'Tank Cao'\n",
       "\\item 'Unknown'\n",
       "\\item 'Unknown'\n",
       "\\item 'Meomeo888'\n",
       "\\end{enumerate*}\n"
      ],
      "text/markdown": [
       "1. 'VN Pikachu'\n",
       "2. 'Tank Cao'\n",
       "3. 'Unknown'\n",
       "4. 'Unknown'\n",
       "5. 'Meomeo888'\n",
       "\n",
       "\n"
      ],
      "text/plain": [
       "[1] \"VN Pikachu\" \"Tank Cao\"   \"Unknown\"    \"Unknown\"    \"Meomeo888\" "
      ]
     },
     "metadata": {},
     "output_type": "display_data"
    }
   ],
   "source": [
    "players %>% replace_na('Unknown')"
   ]
  }
 ],
 "metadata": {
  "kernelspec": {
   "display_name": "R",
   "language": "R",
   "name": "ir"
  },
  "language_info": {
   "codemirror_mode": "r",
   "file_extension": ".r",
   "mimetype": "text/x-r-source",
   "name": "R",
   "pygments_lexer": "r",
   "version": "3.6.1"
  }
 },
 "nbformat": 4,
 "nbformat_minor": 2
}
