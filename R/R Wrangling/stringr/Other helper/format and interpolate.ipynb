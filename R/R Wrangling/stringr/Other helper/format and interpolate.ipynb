{
 "cells": [
  {
   "cell_type": "code",
   "execution_count": 3,
   "metadata": {},
   "outputs": [],
   "source": [
    "library(tidyverse)"
   ]
  },
  {
   "cell_type": "markdown",
   "metadata": {},
   "source": [
    "# Format and interpolate a string with glue"
   ]
  },
  {
   "cell_type": "markdown",
   "metadata": {},
   "source": [
    "```r\n",
    "str_glue(..., .sep = \"\", .envir = parent.frame())\n",
    "\n",
    "str_glue_data(.x, ..., .sep = \"\", .envir = parent.frame(), .na = \"NA\")\n",
    "```"
   ]
  },
  {
   "cell_type": "markdown",
   "metadata": {},
   "source": [
    "**Arguments**  \n",
    "**`...`** `[expressions]`  \n",
    "Unnamed arguments are taken to be expressions string(s) to format. Multiple inputs are concatenated together before formatting. Named arguments are taken to be temporary variables available for substitution.\n",
    "\n",
    "**`.sep`**\t`[character(1): ‘\"\"’]`  \n",
    "Separator used to separate elements.\n",
    "\n",
    "**`.envir`**\t`[environment: parent.frame()]`  \n",
    "Environment to evaluate each expression in. Expressions are evaluated from left to right. If .x is an environment, the expressions are evaluated in that environment and .envir is ignored. If NULL is passed it is equivalent to emptyenv().\n",
    "\n",
    "**`.x`**\t`[listish]`  \n",
    "An environment, list or data frame used to lookup values.\n",
    "\n",
    "**`.na`**\t\n",
    "[character(1): ‘NA’]\n",
    "Value to replace NA values with. If NULL missing values are propagated, that is an NA result will cause NA output. Otherwise the value is replaced by the value of .na."
   ]
  },
  {
   "cell_type": "markdown",
   "metadata": {},
   "source": [
    "# Examples"
   ]
  },
  {
   "cell_type": "code",
   "execution_count": 7,
   "metadata": {},
   "outputs": [
    {
     "data": {
      "text/html": [
       "'My name is Fred, my age next year is 51, and my anniversary is Saturday, October 12, 1991.'"
      ],
      "text/latex": [
       "'My name is Fred, my age next year is 51, and my anniversary is Saturday, October 12, 1991.'"
      ],
      "text/markdown": [
       "'My name is Fred, my age next year is 51, and my anniversary is Saturday, October 12, 1991.'"
      ],
      "text/plain": [
       "My name is Fred, my age next year is 51, and my anniversary is Saturday, October 12, 1991."
      ]
     },
     "metadata": {},
     "output_type": "display_data"
    }
   ],
   "source": [
    "name <- \"Fred\"\n",
    "age <- 50\n",
    "anniversary <- as.Date(\"1991-10-12\")\n",
    "str_glue(\n",
    "  \"My name is {name}, \",\n",
    "  \"my age next year is {age + 1}, \",\n",
    "  \"and my anniversary is {format(anniversary, '%A, %B %d, %Y')}.\"\n",
    ")"
   ]
  },
  {
   "cell_type": "code",
   "execution_count": 8,
   "metadata": {},
   "outputs": [
    {
     "data": {
      "text/html": [
       "'my name is {name}'"
      ],
      "text/latex": [
       "'my name is \\{name\\}'"
      ],
      "text/markdown": [
       "'my name is {name}'"
      ],
      "text/plain": [
       "my name is {name}"
      ]
     },
     "metadata": {},
     "output_type": "display_data"
    }
   ],
   "source": [
    "# single braces can be inserted by doubling them\n",
    "'my name is {{name}}' %>% str_glue()"
   ]
  },
  {
   "cell_type": "code",
   "execution_count": 9,
   "metadata": {},
   "outputs": [
    {
     "data": {
      "text/html": [
       "'My name is Joe, and my age next year is 41.'"
      ],
      "text/latex": [
       "'My name is Joe, and my age next year is 41.'"
      ],
      "text/markdown": [
       "'My name is Joe, and my age next year is 41.'"
      ],
      "text/plain": [
       "My name is Joe, and my age next year is 41."
      ]
     },
     "metadata": {},
     "output_type": "display_data"
    }
   ],
   "source": [
    "# You can also used named arguments\n",
    "str_glue(\n",
    "  \"My name is {name}, \",\n",
    "  \"and my age next year is {age + 1}.\",\n",
    "  name = \"Joe\",\n",
    "  age = 40\n",
    ")"
   ]
  },
  {
   "cell_type": "code",
   "execution_count": 10,
   "metadata": {},
   "outputs": [
    {
     "data": {
      "text/html": [
       "<ol class=list-inline>\n",
       "\t<li>'Mazda RX4 has 110 hp'</li>\n",
       "\t<li>'Mazda RX4 Wag has 110 hp'</li>\n",
       "\t<li>'Datsun 710 has 93 hp'</li>\n",
       "\t<li>'Hornet 4 Drive has 110 hp'</li>\n",
       "\t<li>'Hornet Sportabout has 175 hp'</li>\n",
       "\t<li>'Valiant has 105 hp'</li>\n",
       "\t<li>'Duster 360 has 245 hp'</li>\n",
       "\t<li>'Merc 240D has 62 hp'</li>\n",
       "\t<li>'Merc 230 has 95 hp'</li>\n",
       "\t<li>'Merc 280 has 123 hp'</li>\n",
       "\t<li>'Merc 280C has 123 hp'</li>\n",
       "\t<li>'Merc 450SE has 180 hp'</li>\n",
       "\t<li>'Merc 450SL has 180 hp'</li>\n",
       "\t<li>'Merc 450SLC has 180 hp'</li>\n",
       "\t<li>'Cadillac Fleetwood has 205 hp'</li>\n",
       "\t<li>'Lincoln Continental has 215 hp'</li>\n",
       "\t<li>'Chrysler Imperial has 230 hp'</li>\n",
       "\t<li>'Fiat 128 has 66 hp'</li>\n",
       "\t<li>'Honda Civic has 52 hp'</li>\n",
       "\t<li>'Toyota Corolla has 65 hp'</li>\n",
       "\t<li>'Toyota Corona has 97 hp'</li>\n",
       "\t<li>'Dodge Challenger has 150 hp'</li>\n",
       "\t<li>'AMC Javelin has 150 hp'</li>\n",
       "\t<li>'Camaro Z28 has 245 hp'</li>\n",
       "\t<li>'Pontiac Firebird has 175 hp'</li>\n",
       "\t<li>'Fiat X1-9 has 66 hp'</li>\n",
       "\t<li>'Porsche 914-2 has 91 hp'</li>\n",
       "\t<li>'Lotus Europa has 113 hp'</li>\n",
       "\t<li>'Ford Pantera L has 264 hp'</li>\n",
       "\t<li>'Ferrari Dino has 175 hp'</li>\n",
       "\t<li>'Maserati Bora has 335 hp'</li>\n",
       "\t<li>'Volvo 142E has 109 hp'</li>\n",
       "</ol>\n"
      ],
      "text/latex": [
       "\\begin{enumerate*}\n",
       "\\item 'Mazda RX4 has 110 hp'\n",
       "\\item 'Mazda RX4 Wag has 110 hp'\n",
       "\\item 'Datsun 710 has 93 hp'\n",
       "\\item 'Hornet 4 Drive has 110 hp'\n",
       "\\item 'Hornet Sportabout has 175 hp'\n",
       "\\item 'Valiant has 105 hp'\n",
       "\\item 'Duster 360 has 245 hp'\n",
       "\\item 'Merc 240D has 62 hp'\n",
       "\\item 'Merc 230 has 95 hp'\n",
       "\\item 'Merc 280 has 123 hp'\n",
       "\\item 'Merc 280C has 123 hp'\n",
       "\\item 'Merc 450SE has 180 hp'\n",
       "\\item 'Merc 450SL has 180 hp'\n",
       "\\item 'Merc 450SLC has 180 hp'\n",
       "\\item 'Cadillac Fleetwood has 205 hp'\n",
       "\\item 'Lincoln Continental has 215 hp'\n",
       "\\item 'Chrysler Imperial has 230 hp'\n",
       "\\item 'Fiat 128 has 66 hp'\n",
       "\\item 'Honda Civic has 52 hp'\n",
       "\\item 'Toyota Corolla has 65 hp'\n",
       "\\item 'Toyota Corona has 97 hp'\n",
       "\\item 'Dodge Challenger has 150 hp'\n",
       "\\item 'AMC Javelin has 150 hp'\n",
       "\\item 'Camaro Z28 has 245 hp'\n",
       "\\item 'Pontiac Firebird has 175 hp'\n",
       "\\item 'Fiat X1-9 has 66 hp'\n",
       "\\item 'Porsche 914-2 has 91 hp'\n",
       "\\item 'Lotus Europa has 113 hp'\n",
       "\\item 'Ford Pantera L has 264 hp'\n",
       "\\item 'Ferrari Dino has 175 hp'\n",
       "\\item 'Maserati Bora has 335 hp'\n",
       "\\item 'Volvo 142E has 109 hp'\n",
       "\\end{enumerate*}\n"
      ],
      "text/markdown": [
       "1. 'Mazda RX4 has 110 hp'\n",
       "2. 'Mazda RX4 Wag has 110 hp'\n",
       "3. 'Datsun 710 has 93 hp'\n",
       "4. 'Hornet 4 Drive has 110 hp'\n",
       "5. 'Hornet Sportabout has 175 hp'\n",
       "6. 'Valiant has 105 hp'\n",
       "7. 'Duster 360 has 245 hp'\n",
       "8. 'Merc 240D has 62 hp'\n",
       "9. 'Merc 230 has 95 hp'\n",
       "10. 'Merc 280 has 123 hp'\n",
       "11. 'Merc 280C has 123 hp'\n",
       "12. 'Merc 450SE has 180 hp'\n",
       "13. 'Merc 450SL has 180 hp'\n",
       "14. 'Merc 450SLC has 180 hp'\n",
       "15. 'Cadillac Fleetwood has 205 hp'\n",
       "16. 'Lincoln Continental has 215 hp'\n",
       "17. 'Chrysler Imperial has 230 hp'\n",
       "18. 'Fiat 128 has 66 hp'\n",
       "19. 'Honda Civic has 52 hp'\n",
       "20. 'Toyota Corolla has 65 hp'\n",
       "21. 'Toyota Corona has 97 hp'\n",
       "22. 'Dodge Challenger has 150 hp'\n",
       "23. 'AMC Javelin has 150 hp'\n",
       "24. 'Camaro Z28 has 245 hp'\n",
       "25. 'Pontiac Firebird has 175 hp'\n",
       "26. 'Fiat X1-9 has 66 hp'\n",
       "27. 'Porsche 914-2 has 91 hp'\n",
       "28. 'Lotus Europa has 113 hp'\n",
       "29. 'Ford Pantera L has 264 hp'\n",
       "30. 'Ferrari Dino has 175 hp'\n",
       "31. 'Maserati Bora has 335 hp'\n",
       "32. 'Volvo 142E has 109 hp'\n",
       "\n",
       "\n"
      ],
      "text/plain": [
       "Mazda RX4 has 110 hp\n",
       "Mazda RX4 Wag has 110 hp\n",
       "Datsun 710 has 93 hp\n",
       "Hornet 4 Drive has 110 hp\n",
       "Hornet Sportabout has 175 hp\n",
       "Valiant has 105 hp\n",
       "Duster 360 has 245 hp\n",
       "Merc 240D has 62 hp\n",
       "Merc 230 has 95 hp\n",
       "Merc 280 has 123 hp\n",
       "Merc 280C has 123 hp\n",
       "Merc 450SE has 180 hp\n",
       "Merc 450SL has 180 hp\n",
       "Merc 450SLC has 180 hp\n",
       "Cadillac Fleetwood has 205 hp\n",
       "Lincoln Continental has 215 hp\n",
       "Chrysler Imperial has 230 hp\n",
       "Fiat 128 has 66 hp\n",
       "Honda Civic has 52 hp\n",
       "Toyota Corolla has 65 hp\n",
       "Toyota Corona has 97 hp\n",
       "Dodge Challenger has 150 hp\n",
       "AMC Javelin has 150 hp\n",
       "Camaro Z28 has 245 hp\n",
       "Pontiac Firebird has 175 hp\n",
       "Fiat X1-9 has 66 hp\n",
       "Porsche 914-2 has 91 hp\n",
       "Lotus Europa has 113 hp\n",
       "Ford Pantera L has 264 hp\n",
       "Ferrari Dino has 175 hp\n",
       "Maserati Bora has 335 hp\n",
       "Volvo 142E has 109 hp"
      ]
     },
     "metadata": {},
     "output_type": "display_data"
    }
   ],
   "source": [
    "# `str_glue_data()` is useful in data pipelines\n",
    "mtcars %>% str_glue_data(\"{rownames(.)} has {hp} hp\")"
   ]
  }
 ],
 "metadata": {
  "kernelspec": {
   "display_name": "R",
   "language": "R",
   "name": "ir"
  },
  "language_info": {
   "codemirror_mode": "r",
   "file_extension": ".r",
   "mimetype": "text/x-r-source",
   "name": "R",
   "pygments_lexer": "r",
   "version": "3.6.1"
  }
 },
 "nbformat": 4,
 "nbformat_minor": 2
}
