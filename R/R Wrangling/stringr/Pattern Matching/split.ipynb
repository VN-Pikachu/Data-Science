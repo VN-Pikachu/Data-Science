{
 "cells": [
  {
   "cell_type": "code",
   "execution_count": 4,
   "metadata": {},
   "outputs": [],
   "source": [
    "library(tidyverse)"
   ]
  },
  {
   "cell_type": "markdown",
   "metadata": {},
   "source": [
    "# Split up a string into pieces"
   ]
  },
  {
   "cell_type": "markdown",
   "metadata": {},
   "source": [
    "```r\n",
    "str_split(string, pattern, n = Inf, simplify = FALSE)  # re.split(pattern, string, maxsplit = n - 1)\n",
    "\n",
    "str_split_fixed(string, pattern, n)                    # result = re.split(pattern, string, maxsplit = n - 1)\n",
    "                                                       ###  If the length of the vector `result` is smaller than `n`\n",
    "                                                       ###  padding with empty string \"\" to obtain length = `n`\n",
    "                                                       # result = result + [\"\"] * (n - len(result))\n",
    "\n",
    "str_split_n(string, pattern, n)\n",
    "```"
   ]
  },
  {
   "cell_type": "markdown",
   "metadata": {},
   "source": [
    "**Arguments**  \n",
    "`simplify`\t\n",
    "If FALSE, the default, returns a list of character vectors. If TRUE returns a character matrix.\n",
    "\n",
    "`n`\t\n",
    "number of pieces to return. Default (Inf) uses all possible split positions.\n",
    "\n",
    "* For **`str_split_fixed`**, if n is greater than the number of pieces, the result will be padded with empty strings.\n",
    "\n",
    "* For **`str_split_n`**, n is the desired index of each element of the split string. When there are fewer pieces than n, return NA."
   ]
  },
  {
   "cell_type": "markdown",
   "metadata": {},
   "source": [
    "# Value"
   ]
  },
  {
   "cell_type": "markdown",
   "metadata": {},
   "source": [
    "For `str_split_fixed`, a character matrix with n columns. For `str_split`, a list of character vectors. For `str_split_n`, a length n character vector."
   ]
  },
  {
   "cell_type": "markdown",
   "metadata": {},
   "source": [
    "# Examples"
   ]
  },
  {
   "cell_type": "code",
   "execution_count": 1,
   "metadata": {},
   "outputs": [],
   "source": [
    "fruits <- c(\n",
    "  \"apples and oranges and pears and bananas\",\n",
    "  \"pineapples and mangos and guavas\"\n",
    ")"
   ]
  },
  {
   "cell_type": "code",
   "execution_count": 13,
   "metadata": {},
   "outputs": [
    {
     "data": {
      "text/html": [
       "<ol>\n",
       "\t<li><ol class=list-inline>\n",
       "\t<li>'apples'</li>\n",
       "\t<li>'oranges'</li>\n",
       "\t<li>'pears'</li>\n",
       "\t<li>'bananas'</li>\n",
       "</ol>\n",
       "</li>\n",
       "\t<li><ol class=list-inline>\n",
       "\t<li>'pineapples'</li>\n",
       "\t<li>'mangos'</li>\n",
       "\t<li>'guavas'</li>\n",
       "</ol>\n",
       "</li>\n",
       "</ol>\n"
      ],
      "text/latex": [
       "\\begin{enumerate}\n",
       "\\item \\begin{enumerate*}\n",
       "\\item 'apples'\n",
       "\\item 'oranges'\n",
       "\\item 'pears'\n",
       "\\item 'bananas'\n",
       "\\end{enumerate*}\n",
       "\n",
       "\\item \\begin{enumerate*}\n",
       "\\item 'pineapples'\n",
       "\\item 'mangos'\n",
       "\\item 'guavas'\n",
       "\\end{enumerate*}\n",
       "\n",
       "\\end{enumerate}\n"
      ],
      "text/markdown": [
       "1. 1. 'apples'\n",
       "2. 'oranges'\n",
       "3. 'pears'\n",
       "4. 'bananas'\n",
       "\n",
       "\n",
       "\n",
       "2. 1. 'pineapples'\n",
       "2. 'mangos'\n",
       "3. 'guavas'\n",
       "\n",
       "\n",
       "\n",
       "\n",
       "\n"
      ],
      "text/plain": [
       "[[1]]\n",
       "[1] \"apples\"  \"oranges\" \"pears\"   \"bananas\"\n",
       "\n",
       "[[2]]\n",
       "[1] \"pineapples\" \"mangos\"     \"guavas\"    \n"
      ]
     },
     "metadata": {},
     "output_type": "display_data"
    }
   ],
   "source": [
    "#return a list of character vectors\n",
    "fruits %>% str_split(' and ')"
   ]
  },
  {
   "cell_type": "code",
   "execution_count": 10,
   "metadata": {},
   "outputs": [
    {
     "name": "stdout",
     "output_type": "stream",
     "text": [
      "     [,1]         [,2]      [,3]     [,4]     \n",
      "[1,] \"apples\"     \"oranges\" \"pears\"  \"bananas\"\n",
      "[2,] \"pineapples\" \"mangos\"  \"guavas\" \"\"       \n"
     ]
    }
   ],
   "source": [
    "#return a matrix in stand of a list\n",
    "fruits %>% str_split(' and ', simplify = T) %>% print"
   ]
  },
  {
   "cell_type": "code",
   "execution_count": 12,
   "metadata": {},
   "outputs": [
    {
     "data": {
      "text/html": [
       "<ol>\n",
       "\t<li><ol class=list-inline>\n",
       "\t<li>'apples'</li>\n",
       "\t<li>'and'</li>\n",
       "\t<li>'oranges'</li>\n",
       "\t<li>'and'</li>\n",
       "\t<li>'pears'</li>\n",
       "\t<li>'and'</li>\n",
       "\t<li>'bananas'</li>\n",
       "</ol>\n",
       "</li>\n",
       "\t<li><ol class=list-inline>\n",
       "\t<li>'pineapples'</li>\n",
       "\t<li>'and'</li>\n",
       "\t<li>'mangos'</li>\n",
       "\t<li>'and'</li>\n",
       "\t<li>'guavas'</li>\n",
       "</ol>\n",
       "</li>\n",
       "</ol>\n"
      ],
      "text/latex": [
       "\\begin{enumerate}\n",
       "\\item \\begin{enumerate*}\n",
       "\\item 'apples'\n",
       "\\item 'and'\n",
       "\\item 'oranges'\n",
       "\\item 'and'\n",
       "\\item 'pears'\n",
       "\\item 'and'\n",
       "\\item 'bananas'\n",
       "\\end{enumerate*}\n",
       "\n",
       "\\item \\begin{enumerate*}\n",
       "\\item 'pineapples'\n",
       "\\item 'and'\n",
       "\\item 'mangos'\n",
       "\\item 'and'\n",
       "\\item 'guavas'\n",
       "\\end{enumerate*}\n",
       "\n",
       "\\end{enumerate}\n"
      ],
      "text/markdown": [
       "1. 1. 'apples'\n",
       "2. 'and'\n",
       "3. 'oranges'\n",
       "4. 'and'\n",
       "5. 'pears'\n",
       "6. 'and'\n",
       "7. 'bananas'\n",
       "\n",
       "\n",
       "\n",
       "2. 1. 'pineapples'\n",
       "2. 'and'\n",
       "3. 'mangos'\n",
       "4. 'and'\n",
       "5. 'guavas'\n",
       "\n",
       "\n",
       "\n",
       "\n",
       "\n"
      ],
      "text/plain": [
       "[[1]]\n",
       "[1] \"apples\"  \"and\"     \"oranges\" \"and\"     \"pears\"   \"and\"     \"bananas\"\n",
       "\n",
       "[[2]]\n",
       "[1] \"pineapples\" \"and\"        \"mangos\"     \"and\"        \"guavas\"    \n"
      ]
     },
     "metadata": {},
     "output_type": "display_data"
    }
   ],
   "source": [
    "fruits %>% str_split('\\\\W+') "
   ]
  },
  {
   "cell_type": "code",
   "execution_count": 15,
   "metadata": {},
   "outputs": [
    {
     "data": {
      "text/html": [
       "<ol>\n",
       "\t<li><ol class=list-inline>\n",
       "\t<li>'apples'</li>\n",
       "\t<li>'oranges'</li>\n",
       "\t<li>'pears and bananas'</li>\n",
       "</ol>\n",
       "</li>\n",
       "\t<li><ol class=list-inline>\n",
       "\t<li>'pineapples'</li>\n",
       "\t<li>'mangos'</li>\n",
       "\t<li>'guavas'</li>\n",
       "</ol>\n",
       "</li>\n",
       "</ol>\n"
      ],
      "text/latex": [
       "\\begin{enumerate}\n",
       "\\item \\begin{enumerate*}\n",
       "\\item 'apples'\n",
       "\\item 'oranges'\n",
       "\\item 'pears and bananas'\n",
       "\\end{enumerate*}\n",
       "\n",
       "\\item \\begin{enumerate*}\n",
       "\\item 'pineapples'\n",
       "\\item 'mangos'\n",
       "\\item 'guavas'\n",
       "\\end{enumerate*}\n",
       "\n",
       "\\end{enumerate}\n"
      ],
      "text/markdown": [
       "1. 1. 'apples'\n",
       "2. 'oranges'\n",
       "3. 'pears and bananas'\n",
       "\n",
       "\n",
       "\n",
       "2. 1. 'pineapples'\n",
       "2. 'mangos'\n",
       "3. 'guavas'\n",
       "\n",
       "\n",
       "\n",
       "\n",
       "\n"
      ],
      "text/plain": [
       "[[1]]\n",
       "[1] \"apples\"            \"oranges\"           \"pears and bananas\"\n",
       "\n",
       "[[2]]\n",
       "[1] \"pineapples\" \"mangos\"     \"guavas\"    \n"
      ]
     },
     "metadata": {},
     "output_type": "display_data"
    }
   ],
   "source": [
    "#maximum 2 splits, 3 pieces\n",
    "fruits %>% str_split(' and ', n = 3)"
   ]
  },
  {
   "cell_type": "code",
   "execution_count": 19,
   "metadata": {},
   "outputs": [
    {
     "data": {
      "text/html": [
       "<ol>\n",
       "\t<li><ol class=list-inline>\n",
       "\t<li>'apples'</li>\n",
       "\t<li>'oranges and pears and bananas'</li>\n",
       "</ol>\n",
       "</li>\n",
       "\t<li><ol class=list-inline>\n",
       "\t<li>'pineapples'</li>\n",
       "\t<li>'mangos and guavas'</li>\n",
       "</ol>\n",
       "</li>\n",
       "</ol>\n"
      ],
      "text/latex": [
       "\\begin{enumerate}\n",
       "\\item \\begin{enumerate*}\n",
       "\\item 'apples'\n",
       "\\item 'oranges and pears and bananas'\n",
       "\\end{enumerate*}\n",
       "\n",
       "\\item \\begin{enumerate*}\n",
       "\\item 'pineapples'\n",
       "\\item 'mangos and guavas'\n",
       "\\end{enumerate*}\n",
       "\n",
       "\\end{enumerate}\n"
      ],
      "text/markdown": [
       "1. 1. 'apples'\n",
       "2. 'oranges and pears and bananas'\n",
       "\n",
       "\n",
       "\n",
       "2. 1. 'pineapples'\n",
       "2. 'mangos and guavas'\n",
       "\n",
       "\n",
       "\n",
       "\n",
       "\n"
      ],
      "text/plain": [
       "[[1]]\n",
       "[1] \"apples\"                        \"oranges and pears and bananas\"\n",
       "\n",
       "[[2]]\n",
       "[1] \"pineapples\"        \"mangos and guavas\"\n"
      ]
     },
     "metadata": {},
     "output_type": "display_data"
    }
   ],
   "source": [
    "#maximum 1 split, 2 pieces\n",
    "fruits %>% str_split(' and ', n = 2)"
   ]
  },
  {
   "cell_type": "code",
   "execution_count": 26,
   "metadata": {},
   "outputs": [
    {
     "name": "stdout",
     "output_type": "stream",
     "text": [
      "[[1]]\n",
      "[1] \"apples\"  \"oranges\" \"pears\"   \"bananas\"\n",
      "\n",
      "[[2]]\n",
      "[1] \"pineapples\" \"mangos\"     \"guavas\"    \n",
      "\n"
     ]
    }
   ],
   "source": [
    "# If n greater than number of pieces, no padding occurs\n",
    "fruits %>% str_split(\" and \", n = 6) %>% print"
   ]
  },
  {
   "cell_type": "code",
   "execution_count": 35,
   "metadata": {},
   "outputs": [
    {
     "name": "stdout",
     "output_type": "stream",
     "text": [
      "     [,1]         [,2]      [,3]     [,4]      [,5] [,6]\n",
      "[1,] \"apples\"     \"oranges\" \"pears\"  \"bananas\" \"\"   \"\"  \n",
      "[2,] \"pineapples\" \"mangos\"  \"guavas\" \"\"        \"\"   \"\"  \n"
     ]
    }
   ],
   "source": [
    "# For str_split_fixed, if n is greater than the number of pieces, the result will be padded with empty strings.\n",
    "# Use fixed to return a character matrix\n",
    "fruits %>% str_split_fixed(' and ', n = 6) %>% print"
   ]
  }
 ],
 "metadata": {
  "kernelspec": {
   "display_name": "R",
   "language": "R",
   "name": "ir"
  },
  "language_info": {
   "codemirror_mode": "r",
   "file_extension": ".r",
   "mimetype": "text/x-r-source",
   "name": "R",
   "pygments_lexer": "r",
   "version": "3.6.1"
  }
 },
 "nbformat": 4,
 "nbformat_minor": 2
}
