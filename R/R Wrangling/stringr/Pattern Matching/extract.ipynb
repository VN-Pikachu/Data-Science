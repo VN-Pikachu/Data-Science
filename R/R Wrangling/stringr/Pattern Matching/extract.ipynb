{
 "cells": [
  {
   "cell_type": "code",
   "execution_count": 4,
   "metadata": {},
   "outputs": [],
   "source": [
    "library(tidyverse)"
   ]
  },
  {
   "cell_type": "markdown",
   "metadata": {},
   "source": [
    "# Extract matching patterns from a string"
   ]
  },
  {
   "cell_type": "markdown",
   "metadata": {},
   "source": [
    "```r\n",
    "str_extract(string, pattern)                         # re.search(pattern, string)[0], re.search(pattern, string).group()\n",
    "\n",
    "str_extract_all(string, pattern, simplify = FALSE)   # re.findall(pattern, string)\n",
    "```"
   ]
  },
  {
   "cell_type": "markdown",
   "metadata": {},
   "source": [
    "**Arguments**  \n",
    "`simplify`\t\n",
    "If FALSE, the default, returns a list of character vectors. If TRUE returns a character matrix.\n",
    "\n"
   ]
  },
  {
   "cell_type": "markdown",
   "metadata": {},
   "source": [
    "# Examples"
   ]
  },
  {
   "cell_type": "code",
   "execution_count": 5,
   "metadata": {},
   "outputs": [
    {
     "data": {
      "text/html": [
       "'VN'"
      ],
      "text/latex": [
       "'VN'"
      ],
      "text/markdown": [
       "'VN'"
      ],
      "text/plain": [
       "[1] \"VN\""
      ]
     },
     "metadata": {},
     "output_type": "display_data"
    }
   ],
   "source": [
    "#return the first matched patterns\n",
    "'VN Pikachu' %>% str_extract('\\\\w+')"
   ]
  },
  {
   "cell_type": "code",
   "execution_count": 7,
   "metadata": {},
   "outputs": [
    {
     "data": {
      "text/html": [
       "<ol>\n",
       "\t<li><ol class=list-inline>\n",
       "\t<li>'VN'</li>\n",
       "\t<li>'Pikachu'</li>\n",
       "</ol>\n",
       "</li>\n",
       "</ol>\n"
      ],
      "text/latex": [
       "\\begin{enumerate}\n",
       "\\item \\begin{enumerate*}\n",
       "\\item 'VN'\n",
       "\\item 'Pikachu'\n",
       "\\end{enumerate*}\n",
       "\n",
       "\\end{enumerate}\n"
      ],
      "text/markdown": [
       "1. 1. 'VN'\n",
       "2. 'Pikachu'\n",
       "\n",
       "\n",
       "\n",
       "\n",
       "\n"
      ],
      "text/plain": [
       "[[1]]\n",
       "[1] \"VN\"      \"Pikachu\"\n"
      ]
     },
     "metadata": {},
     "output_type": "display_data"
    }
   ],
   "source": [
    "#return all matched patterns\n",
    "'VN Pikachu' %>% str_extract_all('\\\\w+')"
   ]
  },
  {
   "cell_type": "markdown",
   "metadata": {},
   "source": [
    "Vectorize"
   ]
  },
  {
   "cell_type": "code",
   "execution_count": 8,
   "metadata": {},
   "outputs": [],
   "source": [
    "players <- c('VN Pikachu', 'Meomeo888', 'soso-777-', 'VNC Son La TF', 'VN Wanie')"
   ]
  },
  {
   "cell_type": "code",
   "execution_count": 9,
   "metadata": {},
   "outputs": [
    {
     "data": {
      "text/html": [
       "<ol class=list-inline>\n",
       "\t<li>'VN'</li>\n",
       "\t<li>'Meomeo888'</li>\n",
       "\t<li>'soso'</li>\n",
       "\t<li>'VNC'</li>\n",
       "\t<li>'VN'</li>\n",
       "</ol>\n"
      ],
      "text/latex": [
       "\\begin{enumerate*}\n",
       "\\item 'VN'\n",
       "\\item 'Meomeo888'\n",
       "\\item 'soso'\n",
       "\\item 'VNC'\n",
       "\\item 'VN'\n",
       "\\end{enumerate*}\n"
      ],
      "text/markdown": [
       "1. 'VN'\n",
       "2. 'Meomeo888'\n",
       "3. 'soso'\n",
       "4. 'VNC'\n",
       "5. 'VN'\n",
       "\n",
       "\n"
      ],
      "text/plain": [
       "[1] \"VN\"        \"Meomeo888\" \"soso\"      \"VNC\"       \"VN\"       "
      ]
     },
     "metadata": {},
     "output_type": "display_data"
    }
   ],
   "source": [
    "# Return a character vector\n",
    "players %>% str_extract('\\\\w+')"
   ]
  },
  {
   "cell_type": "code",
   "execution_count": 11,
   "metadata": {},
   "outputs": [
    {
     "data": {
      "text/html": [
       "<ol>\n",
       "\t<li><ol class=list-inline>\n",
       "\t<li>'VN'</li>\n",
       "\t<li>'Pikachu'</li>\n",
       "</ol>\n",
       "</li>\n",
       "\t<li>'Meomeo888'</li>\n",
       "\t<li><ol class=list-inline>\n",
       "\t<li>'soso'</li>\n",
       "\t<li>'777'</li>\n",
       "</ol>\n",
       "</li>\n",
       "\t<li><ol class=list-inline>\n",
       "\t<li>'VNC'</li>\n",
       "\t<li>'Son'</li>\n",
       "\t<li>'La'</li>\n",
       "\t<li>'TF'</li>\n",
       "</ol>\n",
       "</li>\n",
       "\t<li><ol class=list-inline>\n",
       "\t<li>'VN'</li>\n",
       "\t<li>'Wanie'</li>\n",
       "</ol>\n",
       "</li>\n",
       "</ol>\n"
      ],
      "text/latex": [
       "\\begin{enumerate}\n",
       "\\item \\begin{enumerate*}\n",
       "\\item 'VN'\n",
       "\\item 'Pikachu'\n",
       "\\end{enumerate*}\n",
       "\n",
       "\\item 'Meomeo888'\n",
       "\\item \\begin{enumerate*}\n",
       "\\item 'soso'\n",
       "\\item '777'\n",
       "\\end{enumerate*}\n",
       "\n",
       "\\item \\begin{enumerate*}\n",
       "\\item 'VNC'\n",
       "\\item 'Son'\n",
       "\\item 'La'\n",
       "\\item 'TF'\n",
       "\\end{enumerate*}\n",
       "\n",
       "\\item \\begin{enumerate*}\n",
       "\\item 'VN'\n",
       "\\item 'Wanie'\n",
       "\\end{enumerate*}\n",
       "\n",
       "\\end{enumerate}\n"
      ],
      "text/markdown": [
       "1. 1. 'VN'\n",
       "2. 'Pikachu'\n",
       "\n",
       "\n",
       "\n",
       "2. 'Meomeo888'\n",
       "3. 1. 'soso'\n",
       "2. '777'\n",
       "\n",
       "\n",
       "\n",
       "4. 1. 'VNC'\n",
       "2. 'Son'\n",
       "3. 'La'\n",
       "4. 'TF'\n",
       "\n",
       "\n",
       "\n",
       "5. 1. 'VN'\n",
       "2. 'Wanie'\n",
       "\n",
       "\n",
       "\n",
       "\n",
       "\n"
      ],
      "text/plain": [
       "[[1]]\n",
       "[1] \"VN\"      \"Pikachu\"\n",
       "\n",
       "[[2]]\n",
       "[1] \"Meomeo888\"\n",
       "\n",
       "[[3]]\n",
       "[1] \"soso\" \"777\" \n",
       "\n",
       "[[4]]\n",
       "[1] \"VNC\" \"Son\" \"La\"  \"TF\" \n",
       "\n",
       "[[5]]\n",
       "[1] \"VN\"    \"Wanie\"\n"
      ]
     },
     "metadata": {},
     "output_type": "display_data"
    }
   ],
   "source": [
    "# By default, return a list of character vectors\n",
    "players %>% str_extract_all('\\\\w+')"
   ]
  },
  {
   "cell_type": "code",
   "execution_count": 13,
   "metadata": {},
   "outputs": [
    {
     "data": {
      "text/html": [
       "<table>\n",
       "<tbody>\n",
       "\t<tr><td>VN       </td><td>Pikachu  </td><td>         </td><td>         </td></tr>\n",
       "\t<tr><td>Meomeo888</td><td>         </td><td>         </td><td>         </td></tr>\n",
       "\t<tr><td>soso     </td><td>777      </td><td>         </td><td>         </td></tr>\n",
       "\t<tr><td>VNC      </td><td>Son      </td><td>La       </td><td>TF       </td></tr>\n",
       "\t<tr><td>VN       </td><td>Wanie    </td><td>         </td><td>         </td></tr>\n",
       "</tbody>\n",
       "</table>\n"
      ],
      "text/latex": [
       "\\begin{tabular}{llll}\n",
       "\t VN        & Pikachu   &           &          \\\\\n",
       "\t Meomeo888 &           &           &          \\\\\n",
       "\t soso      & 777       &           &          \\\\\n",
       "\t VNC       & Son       & La        & TF       \\\\\n",
       "\t VN        & Wanie     &           &          \\\\\n",
       "\\end{tabular}\n"
      ],
      "text/markdown": [
       "\n",
       "| VN        | Pikachu   |           |           |\n",
       "| Meomeo888 |           |           |           |\n",
       "| soso      | 777       |           |           |\n",
       "| VNC       | Son       | La        | TF        |\n",
       "| VN        | Wanie     |           |           |\n",
       "\n"
      ],
      "text/plain": [
       "     [,1]      [,2]    [,3] [,4]\n",
       "[1,] VN        Pikachu          \n",
       "[2,] Meomeo888                  \n",
       "[3,] soso      777              \n",
       "[4,] VNC       Son     La   TF  \n",
       "[5,] VN        Wanie            "
      ]
     },
     "metadata": {},
     "output_type": "display_data"
    }
   ],
   "source": [
    "# return a matrix by setting `simplify = TRUE`\n",
    "players %>% str_extract_all('\\\\w+', simplify = TRUE)"
   ]
  }
 ],
 "metadata": {
  "kernelspec": {
   "display_name": "R",
   "language": "R",
   "name": "ir"
  },
  "language_info": {
   "codemirror_mode": "r",
   "file_extension": ".r",
   "mimetype": "text/x-r-source",
   "name": "R",
   "pygments_lexer": "r",
   "version": "3.6.1"
  }
 },
 "nbformat": 4,
 "nbformat_minor": 2
}
