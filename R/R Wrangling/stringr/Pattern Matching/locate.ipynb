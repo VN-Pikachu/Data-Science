{
 "cells": [
  {
   "cell_type": "code",
   "execution_count": 3,
   "metadata": {},
   "outputs": [],
   "source": [
    "library(tidyverse)"
   ]
  },
  {
   "cell_type": "markdown",
   "metadata": {},
   "source": [
    "# Locate the position of patterns in a string"
   ]
  },
  {
   "cell_type": "markdown",
   "metadata": {},
   "source": [
    "```r\n",
    "str_locate(string, pattern)     # re.search(pattern, string).span()\n",
    "\n",
    "str_locate_all(string, pattern) # Match.span() for Match in re.finditer(pattern, string) \n",
    "```"
   ]
  },
  {
   "cell_type": "markdown",
   "metadata": {},
   "source": [
    "# Examples"
   ]
  },
  {
   "cell_type": "code",
   "execution_count": 4,
   "metadata": {},
   "outputs": [
    {
     "data": {
      "text/html": [
       "<table>\n",
       "<thead><tr><th scope=col>start</th><th scope=col>end</th></tr></thead>\n",
       "<tbody>\n",
       "\t<tr><td>1</td><td>2</td></tr>\n",
       "</tbody>\n",
       "</table>\n"
      ],
      "text/latex": [
       "\\begin{tabular}{ll}\n",
       " start & end\\\\\n",
       "\\hline\n",
       "\t 1 & 2\\\\\n",
       "\\end{tabular}\n"
      ],
      "text/markdown": [
       "\n",
       "| start | end |\n",
       "|---|---|\n",
       "| 1 | 2 |\n",
       "\n"
      ],
      "text/plain": [
       "     start end\n",
       "[1,] 1     2  "
      ]
     },
     "metadata": {},
     "output_type": "display_data"
    }
   ],
   "source": [
    "'VN Pikachu' %>% str_locate('\\\\w+')"
   ]
  },
  {
   "cell_type": "code",
   "execution_count": 5,
   "metadata": {},
   "outputs": [
    {
     "data": {
      "text/html": [
       "<ol>\n",
       "\t<li><table>\n",
       "<thead><tr><th scope=col>start</th><th scope=col>end</th></tr></thead>\n",
       "<tbody>\n",
       "\t<tr><td>1 </td><td> 2</td></tr>\n",
       "\t<tr><td>4 </td><td>10</td></tr>\n",
       "</tbody>\n",
       "</table>\n",
       "</li>\n",
       "</ol>\n"
      ],
      "text/latex": [
       "\\begin{enumerate}\n",
       "\\item \\begin{tabular}{ll}\n",
       " start & end\\\\\n",
       "\\hline\n",
       "\t 1  &  2\\\\\n",
       "\t 4  & 10\\\\\n",
       "\\end{tabular}\n",
       "\n",
       "\\end{enumerate}\n"
      ],
      "text/markdown": [
       "1. \n",
       "| start | end |\n",
       "|---|---|\n",
       "| 1  |  2 |\n",
       "| 4  | 10 |\n",
       "\n",
       "\n",
       "\n",
       "\n"
      ],
      "text/plain": [
       "[[1]]\n",
       "     start end\n",
       "[1,]     1   2\n",
       "[2,]     4  10\n"
      ]
     },
     "metadata": {},
     "output_type": "display_data"
    }
   ],
   "source": [
    "'VN Pikachu' %>% str_locate_all('\\\\w+')"
   ]
  },
  {
   "cell_type": "markdown",
   "metadata": {},
   "source": [
    "Vectorize"
   ]
  },
  {
   "cell_type": "code",
   "execution_count": 7,
   "metadata": {},
   "outputs": [],
   "source": [
    "players <- c('VN Pikachu', 'Meomeo888', 'soso-777-', 'VNC Son La TF', 'VN Wanie')"
   ]
  },
  {
   "cell_type": "code",
   "execution_count": 8,
   "metadata": {},
   "outputs": [
    {
     "data": {
      "text/html": [
       "<table>\n",
       "<thead><tr><th scope=col>start</th><th scope=col>end</th></tr></thead>\n",
       "<tbody>\n",
       "\t<tr><td>1</td><td>2</td></tr>\n",
       "\t<tr><td>1</td><td>9</td></tr>\n",
       "\t<tr><td>1</td><td>4</td></tr>\n",
       "\t<tr><td>1</td><td>3</td></tr>\n",
       "\t<tr><td>1</td><td>2</td></tr>\n",
       "</tbody>\n",
       "</table>\n"
      ],
      "text/latex": [
       "\\begin{tabular}{ll}\n",
       " start & end\\\\\n",
       "\\hline\n",
       "\t 1 & 2\\\\\n",
       "\t 1 & 9\\\\\n",
       "\t 1 & 4\\\\\n",
       "\t 1 & 3\\\\\n",
       "\t 1 & 2\\\\\n",
       "\\end{tabular}\n"
      ],
      "text/markdown": [
       "\n",
       "| start | end |\n",
       "|---|---|\n",
       "| 1 | 2 |\n",
       "| 1 | 9 |\n",
       "| 1 | 4 |\n",
       "| 1 | 3 |\n",
       "| 1 | 2 |\n",
       "\n"
      ],
      "text/plain": [
       "     start end\n",
       "[1,] 1     2  \n",
       "[2,] 1     9  \n",
       "[3,] 1     4  \n",
       "[4,] 1     3  \n",
       "[5,] 1     2  "
      ]
     },
     "metadata": {},
     "output_type": "display_data"
    }
   ],
   "source": [
    "# Return a matrix\n",
    "players %>% str_locate('\\\\w+')"
   ]
  },
  {
   "cell_type": "code",
   "execution_count": 9,
   "metadata": {},
   "outputs": [
    {
     "data": {
      "text/html": [
       "<ol>\n",
       "\t<li><table>\n",
       "<thead><tr><th scope=col>start</th><th scope=col>end</th></tr></thead>\n",
       "<tbody>\n",
       "\t<tr><td>1 </td><td> 2</td></tr>\n",
       "\t<tr><td>4 </td><td>10</td></tr>\n",
       "</tbody>\n",
       "</table>\n",
       "</li>\n",
       "\t<li><table>\n",
       "<thead><tr><th scope=col>start</th><th scope=col>end</th></tr></thead>\n",
       "<tbody>\n",
       "\t<tr><td>1</td><td>9</td></tr>\n",
       "</tbody>\n",
       "</table>\n",
       "</li>\n",
       "\t<li><table>\n",
       "<thead><tr><th scope=col>start</th><th scope=col>end</th></tr></thead>\n",
       "<tbody>\n",
       "\t<tr><td>1</td><td>4</td></tr>\n",
       "\t<tr><td>6</td><td>8</td></tr>\n",
       "</tbody>\n",
       "</table>\n",
       "</li>\n",
       "\t<li><table>\n",
       "<thead><tr><th scope=col>start</th><th scope=col>end</th></tr></thead>\n",
       "<tbody>\n",
       "\t<tr><td> 1</td><td> 3</td></tr>\n",
       "\t<tr><td> 5</td><td> 7</td></tr>\n",
       "\t<tr><td> 9</td><td>10</td></tr>\n",
       "\t<tr><td>12</td><td>13</td></tr>\n",
       "</tbody>\n",
       "</table>\n",
       "</li>\n",
       "\t<li><table>\n",
       "<thead><tr><th scope=col>start</th><th scope=col>end</th></tr></thead>\n",
       "<tbody>\n",
       "\t<tr><td>1</td><td>2</td></tr>\n",
       "\t<tr><td>4</td><td>8</td></tr>\n",
       "</tbody>\n",
       "</table>\n",
       "</li>\n",
       "</ol>\n"
      ],
      "text/latex": [
       "\\begin{enumerate}\n",
       "\\item \\begin{tabular}{ll}\n",
       " start & end\\\\\n",
       "\\hline\n",
       "\t 1  &  2\\\\\n",
       "\t 4  & 10\\\\\n",
       "\\end{tabular}\n",
       "\n",
       "\\item \\begin{tabular}{ll}\n",
       " start & end\\\\\n",
       "\\hline\n",
       "\t 1 & 9\\\\\n",
       "\\end{tabular}\n",
       "\n",
       "\\item \\begin{tabular}{ll}\n",
       " start & end\\\\\n",
       "\\hline\n",
       "\t 1 & 4\\\\\n",
       "\t 6 & 8\\\\\n",
       "\\end{tabular}\n",
       "\n",
       "\\item \\begin{tabular}{ll}\n",
       " start & end\\\\\n",
       "\\hline\n",
       "\t  1 &  3\\\\\n",
       "\t  5 &  7\\\\\n",
       "\t  9 & 10\\\\\n",
       "\t 12 & 13\\\\\n",
       "\\end{tabular}\n",
       "\n",
       "\\item \\begin{tabular}{ll}\n",
       " start & end\\\\\n",
       "\\hline\n",
       "\t 1 & 2\\\\\n",
       "\t 4 & 8\\\\\n",
       "\\end{tabular}\n",
       "\n",
       "\\end{enumerate}\n"
      ],
      "text/markdown": [
       "1. \n",
       "| start | end |\n",
       "|---|---|\n",
       "| 1  |  2 |\n",
       "| 4  | 10 |\n",
       "\n",
       "\n",
       "2. \n",
       "| start | end |\n",
       "|---|---|\n",
       "| 1 | 9 |\n",
       "\n",
       "\n",
       "3. \n",
       "| start | end |\n",
       "|---|---|\n",
       "| 1 | 4 |\n",
       "| 6 | 8 |\n",
       "\n",
       "\n",
       "4. \n",
       "| start | end |\n",
       "|---|---|\n",
       "|  1 |  3 |\n",
       "|  5 |  7 |\n",
       "|  9 | 10 |\n",
       "| 12 | 13 |\n",
       "\n",
       "\n",
       "5. \n",
       "| start | end |\n",
       "|---|---|\n",
       "| 1 | 2 |\n",
       "| 4 | 8 |\n",
       "\n",
       "\n",
       "\n",
       "\n"
      ],
      "text/plain": [
       "[[1]]\n",
       "     start end\n",
       "[1,]     1   2\n",
       "[2,]     4  10\n",
       "\n",
       "[[2]]\n",
       "     start end\n",
       "[1,]     1   9\n",
       "\n",
       "[[3]]\n",
       "     start end\n",
       "[1,]     1   4\n",
       "[2,]     6   8\n",
       "\n",
       "[[4]]\n",
       "     start end\n",
       "[1,]     1   3\n",
       "[2,]     5   7\n",
       "[3,]     9  10\n",
       "[4,]    12  13\n",
       "\n",
       "[[5]]\n",
       "     start end\n",
       "[1,]     1   2\n",
       "[2,]     4   8\n"
      ]
     },
     "metadata": {},
     "output_type": "display_data"
    }
   ],
   "source": [
    "# return a list of matrix\n",
    "players %>% str_locate_all('\\\\w+')"
   ]
  },
  {
   "cell_type": "markdown",
   "metadata": {},
   "source": [
    "You can use **`str_locate()`** to find the matching pattern, **`str_sub()`** to extract and/or modify them."
   ]
  },
  {
   "cell_type": "code",
   "execution_count": 4,
   "metadata": {},
   "outputs": [
    {
     "data": {
      "text/html": [
       "<table>\n",
       "<thead><tr><th scope=col>start</th><th scope=col>end</th></tr></thead>\n",
       "<tbody>\n",
       "\t<tr><td>15</td><td>16</td></tr>\n",
       "</tbody>\n",
       "</table>\n"
      ],
      "text/latex": [
       "\\begin{tabular}{ll}\n",
       " start & end\\\\\n",
       "\\hline\n",
       "\t 15 & 16\\\\\n",
       "\\end{tabular}\n"
      ],
      "text/markdown": [
       "\n",
       "| start | end |\n",
       "|---|---|\n",
       "| 15 | 16 |\n",
       "\n"
      ],
      "text/plain": [
       "     start end\n",
       "[1,] 15    16 "
      ]
     },
     "metadata": {},
     "output_type": "display_data"
    }
   ],
   "source": [
    "player <- 'Pikachu level 31'\n",
    "\n",
    "location <- player %>% str_locate('\\\\d+')\n",
    "\n",
    "location"
   ]
  },
  {
   "cell_type": "code",
   "execution_count": 8,
   "metadata": {},
   "outputs": [
    {
     "data": {
      "text/html": [
       "'31'"
      ],
      "text/latex": [
       "'31'"
      ],
      "text/markdown": [
       "'31'"
      ],
      "text/plain": [
       "[1] \"31\""
      ]
     },
     "metadata": {},
     "output_type": "display_data"
    }
   ],
   "source": [
    "# extract match from location by using `str_sub`\n",
    "player %>% str_sub(location)"
   ]
  },
  {
   "cell_type": "code",
   "execution_count": 9,
   "metadata": {},
   "outputs": [
    {
     "data": {
      "text/html": [
       "'Pikachu level thirty one'"
      ],
      "text/latex": [
       "'Pikachu level thirty one'"
      ],
      "text/markdown": [
       "'Pikachu level thirty one'"
      ],
      "text/plain": [
       "[1] \"Pikachu level thirty one\""
      ]
     },
     "metadata": {},
     "output_type": "display_data"
    }
   ],
   "source": [
    "# replace\n",
    "str_sub(player, location) <- 'thirty one'\n",
    "\n",
    "player"
   ]
  }
 ],
 "metadata": {
  "kernelspec": {
   "display_name": "R",
   "language": "R",
   "name": "ir"
  },
  "language_info": {
   "codemirror_mode": "r",
   "file_extension": ".r",
   "mimetype": "text/x-r-source",
   "name": "R",
   "pygments_lexer": "r",
   "version": "3.6.1"
  }
 },
 "nbformat": 4,
 "nbformat_minor": 2
}
