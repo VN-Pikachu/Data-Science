{
 "cells": [
  {
   "cell_type": "code",
   "execution_count": 2,
   "metadata": {},
   "outputs": [],
   "source": [
    "library(tidyverse)"
   ]
  },
  {
   "cell_type": "markdown",
   "metadata": {},
   "source": [
    "# Extract matched groups from a string"
   ]
  },
  {
   "cell_type": "markdown",
   "metadata": {},
   "source": [
    "```r\n",
    "str_match(string, pattern)     # (Match[0], Match.groups()) where Match = re.search(pattern, string)\n",
    "\n",
    "str_match_all(string, pattern) # (Match[0], Match.groups()) for Match in re.finditer(pattern, string)\n",
    "```"
   ]
  },
  {
   "cell_type": "markdown",
   "metadata": {},
   "source": [
    "# Value"
   ]
  },
  {
   "cell_type": "markdown",
   "metadata": {},
   "source": [
    "For **`str_match`**, a character matrix. First column is the complete match, followed by one column for each capture group.  \n",
    "For **`str_match_all`**, a list of character matrices."
   ]
  },
  {
   "cell_type": "markdown",
   "metadata": {},
   "source": [
    "# Examples"
   ]
  },
  {
   "cell_type": "code",
   "execution_count": 5,
   "metadata": {},
   "outputs": [],
   "source": [
    "pattern <- '([A-Za-z]+)\\\\W*(\\\\d*)'"
   ]
  },
  {
   "cell_type": "code",
   "execution_count": 8,
   "metadata": {},
   "outputs": [
    {
     "data": {
      "text/html": [
       "<table>\n",
       "<tbody>\n",
       "\t<tr><td>VN </td><td>VN </td><td>   </td></tr>\n",
       "</tbody>\n",
       "</table>\n"
      ],
      "text/latex": [
       "\\begin{tabular}{lll}\n",
       "\t VN  & VN  &    \\\\\n",
       "\\end{tabular}\n"
      ],
      "text/markdown": [
       "\n",
       "| VN  | VN  |     |\n",
       "\n"
      ],
      "text/plain": [
       "     [,1] [,2] [,3]\n",
       "[1,] VN   VN       "
      ]
     },
     "metadata": {},
     "output_type": "display_data"
    }
   ],
   "source": [
    "'VN Pikachu' %>% str_match(pattern)"
   ]
  },
  {
   "cell_type": "code",
   "execution_count": 9,
   "metadata": {},
   "outputs": [
    {
     "data": {
      "text/html": [
       "<table>\n",
       "<tbody>\n",
       "\t<tr><td>Meomeo888</td><td>Meomeo   </td><td>888      </td></tr>\n",
       "</tbody>\n",
       "</table>\n"
      ],
      "text/latex": [
       "\\begin{tabular}{lll}\n",
       "\t Meomeo888 & Meomeo    & 888      \\\\\n",
       "\\end{tabular}\n"
      ],
      "text/markdown": [
       "\n",
       "| Meomeo888 | Meomeo    | 888       |\n",
       "\n"
      ],
      "text/plain": [
       "     [,1]      [,2]   [,3]\n",
       "[1,] Meomeo888 Meomeo 888 "
      ]
     },
     "metadata": {},
     "output_type": "display_data"
    }
   ],
   "source": [
    "'Meomeo888' %>% str_match(pattern)"
   ]
  },
  {
   "cell_type": "code",
   "execution_count": 10,
   "metadata": {},
   "outputs": [
    {
     "data": {
      "text/html": [
       "<table>\n",
       "<tbody>\n",
       "\t<tr><td>David666</td><td>David   </td><td>666     </td></tr>\n",
       "</tbody>\n",
       "</table>\n"
      ],
      "text/latex": [
       "\\begin{tabular}{lll}\n",
       "\t David666 & David    & 666     \\\\\n",
       "\\end{tabular}\n"
      ],
      "text/markdown": [
       "\n",
       "| David666 | David    | 666      |\n",
       "\n"
      ],
      "text/plain": [
       "     [,1]     [,2]  [,3]\n",
       "[1,] David666 David 666 "
      ]
     },
     "metadata": {},
     "output_type": "display_data"
    }
   ],
   "source": [
    "'David666 Galski9999' %>% str_match(pattern)"
   ]
  },
  {
   "cell_type": "markdown",
   "metadata": {},
   "source": [
    "<hr>"
   ]
  },
  {
   "cell_type": "code",
   "execution_count": 11,
   "metadata": {},
   "outputs": [
    {
     "data": {
      "text/html": [
       "<ol>\n",
       "\t<li><table>\n",
       "<tbody>\n",
       "\t<tr><td>David666  </td><td>David     </td><td>666       </td></tr>\n",
       "\t<tr><td>Galski9999</td><td>Galski    </td><td>9999      </td></tr>\n",
       "</tbody>\n",
       "</table>\n",
       "</li>\n",
       "</ol>\n"
      ],
      "text/latex": [
       "\\begin{enumerate}\n",
       "\\item \\begin{tabular}{lll}\n",
       "\t David666   & David      & 666       \\\\\n",
       "\t Galski9999 & Galski     & 9999      \\\\\n",
       "\\end{tabular}\n",
       "\n",
       "\\end{enumerate}\n"
      ],
      "text/markdown": [
       "1. \n",
       "| David666   | David      | 666        |\n",
       "| Galski9999 | Galski     | 9999       |\n",
       "\n",
       "\n",
       "\n",
       "\n"
      ],
      "text/plain": [
       "[[1]]\n",
       "     [,1]         [,2]     [,3]  \n",
       "[1,] \"David666\"   \"David\"  \"666\" \n",
       "[2,] \"Galski9999\" \"Galski\" \"9999\"\n"
      ]
     },
     "metadata": {},
     "output_type": "display_data"
    }
   ],
   "source": [
    "'David666 Galski9999' %>% str_match_all(pattern)"
   ]
  },
  {
   "cell_type": "markdown",
   "metadata": {},
   "source": [
    "Vectorize"
   ]
  },
  {
   "cell_type": "code",
   "execution_count": 15,
   "metadata": {},
   "outputs": [],
   "source": [
    "players <- c('VN Pikachu', 'Meomeo888', 'soso-777-', 'VNC Son La TF', 'VN Wanie', 'Davi666 Galski999')"
   ]
  },
  {
   "cell_type": "code",
   "execution_count": 16,
   "metadata": {},
   "outputs": [
    {
     "data": {
      "text/html": [
       "<table>\n",
       "<tbody>\n",
       "\t<tr><td>VN       </td><td>VN       </td><td>         </td></tr>\n",
       "\t<tr><td>Meomeo888</td><td>Meomeo   </td><td>888      </td></tr>\n",
       "\t<tr><td>soso-777 </td><td>soso     </td><td>777      </td></tr>\n",
       "\t<tr><td>VNC      </td><td>VNC      </td><td>         </td></tr>\n",
       "\t<tr><td>VN       </td><td>VN       </td><td>         </td></tr>\n",
       "\t<tr><td>Davi666  </td><td>Davi     </td><td>666      </td></tr>\n",
       "</tbody>\n",
       "</table>\n"
      ],
      "text/latex": [
       "\\begin{tabular}{lll}\n",
       "\t VN        & VN        &          \\\\\n",
       "\t Meomeo888 & Meomeo    & 888      \\\\\n",
       "\t soso-777  & soso      & 777      \\\\\n",
       "\t VNC       & VNC       &          \\\\\n",
       "\t VN        & VN        &          \\\\\n",
       "\t Davi666   & Davi      & 666      \\\\\n",
       "\\end{tabular}\n"
      ],
      "text/markdown": [
       "\n",
       "| VN        | VN        |           |\n",
       "| Meomeo888 | Meomeo    | 888       |\n",
       "| soso-777  | soso      | 777       |\n",
       "| VNC       | VNC       |           |\n",
       "| VN        | VN        |           |\n",
       "| Davi666   | Davi      | 666       |\n",
       "\n"
      ],
      "text/plain": [
       "     [,1]      [,2]   [,3]\n",
       "[1,] VN        VN         \n",
       "[2,] Meomeo888 Meomeo 888 \n",
       "[3,] soso-777  soso   777 \n",
       "[4,] VNC       VNC        \n",
       "[5,] VN        VN         \n",
       "[6,] Davi666   Davi   666 "
      ]
     },
     "metadata": {},
     "output_type": "display_data"
    }
   ],
   "source": [
    "players %>% str_match(pattern)"
   ]
  },
  {
   "cell_type": "code",
   "execution_count": 18,
   "metadata": {},
   "outputs": [
    {
     "data": {
      "text/html": [
       "<ol>\n",
       "\t<li><table>\n",
       "<tbody>\n",
       "\t<tr><td>VN     </td><td>VN     </td><td>       </td></tr>\n",
       "\t<tr><td>Pikachu</td><td>Pikachu</td><td>       </td></tr>\n",
       "</tbody>\n",
       "</table>\n",
       "</li>\n",
       "\t<li><table>\n",
       "<tbody>\n",
       "\t<tr><td>Meomeo888</td><td>Meomeo   </td><td>888      </td></tr>\n",
       "</tbody>\n",
       "</table>\n",
       "</li>\n",
       "\t<li><table>\n",
       "<tbody>\n",
       "\t<tr><td>soso-777</td><td>soso    </td><td>777     </td></tr>\n",
       "</tbody>\n",
       "</table>\n",
       "</li>\n",
       "\t<li><table>\n",
       "<tbody>\n",
       "\t<tr><td>VNC </td><td>VNC </td><td>    </td></tr>\n",
       "\t<tr><td>Son </td><td>Son </td><td>    </td></tr>\n",
       "\t<tr><td>La  </td><td>La  </td><td>    </td></tr>\n",
       "\t<tr><td>TF  </td><td>TF  </td><td>    </td></tr>\n",
       "</tbody>\n",
       "</table>\n",
       "</li>\n",
       "\t<li><table>\n",
       "<tbody>\n",
       "\t<tr><td>VN   </td><td>VN   </td><td>     </td></tr>\n",
       "\t<tr><td>Wanie</td><td>Wanie</td><td>     </td></tr>\n",
       "</tbody>\n",
       "</table>\n",
       "</li>\n",
       "\t<li><table>\n",
       "<tbody>\n",
       "\t<tr><td>Davi666  </td><td>Davi     </td><td>666      </td></tr>\n",
       "\t<tr><td>Galski999</td><td>Galski   </td><td>999      </td></tr>\n",
       "</tbody>\n",
       "</table>\n",
       "</li>\n",
       "</ol>\n"
      ],
      "text/latex": [
       "\\begin{enumerate}\n",
       "\\item \\begin{tabular}{lll}\n",
       "\t VN      & VN      &        \\\\\n",
       "\t Pikachu & Pikachu &        \\\\\n",
       "\\end{tabular}\n",
       "\n",
       "\\item \\begin{tabular}{lll}\n",
       "\t Meomeo888 & Meomeo    & 888      \\\\\n",
       "\\end{tabular}\n",
       "\n",
       "\\item \\begin{tabular}{lll}\n",
       "\t soso-777 & soso     & 777     \\\\\n",
       "\\end{tabular}\n",
       "\n",
       "\\item \\begin{tabular}{lll}\n",
       "\t VNC  & VNC  &     \\\\\n",
       "\t Son  & Son  &     \\\\\n",
       "\t La   & La   &     \\\\\n",
       "\t TF   & TF   &     \\\\\n",
       "\\end{tabular}\n",
       "\n",
       "\\item \\begin{tabular}{lll}\n",
       "\t VN    & VN    &      \\\\\n",
       "\t Wanie & Wanie &      \\\\\n",
       "\\end{tabular}\n",
       "\n",
       "\\item \\begin{tabular}{lll}\n",
       "\t Davi666   & Davi      & 666      \\\\\n",
       "\t Galski999 & Galski    & 999      \\\\\n",
       "\\end{tabular}\n",
       "\n",
       "\\end{enumerate}\n"
      ],
      "text/markdown": [
       "1. \n",
       "| VN      | VN      |         |\n",
       "| Pikachu | Pikachu |         |\n",
       "\n",
       "\n",
       "2. \n",
       "| Meomeo888 | Meomeo    | 888       |\n",
       "\n",
       "\n",
       "3. \n",
       "| soso-777 | soso     | 777      |\n",
       "\n",
       "\n",
       "4. \n",
       "| VNC  | VNC  |      |\n",
       "| Son  | Son  |      |\n",
       "| La   | La   |      |\n",
       "| TF   | TF   |      |\n",
       "\n",
       "\n",
       "5. \n",
       "| VN    | VN    |       |\n",
       "| Wanie | Wanie |       |\n",
       "\n",
       "\n",
       "6. \n",
       "| Davi666   | Davi      | 666       |\n",
       "| Galski999 | Galski    | 999       |\n",
       "\n",
       "\n",
       "\n",
       "\n"
      ],
      "text/plain": [
       "[[1]]\n",
       "     [,1]      [,2]      [,3]\n",
       "[1,] \"VN \"     \"VN\"      \"\"  \n",
       "[2,] \"Pikachu\" \"Pikachu\" \"\"  \n",
       "\n",
       "[[2]]\n",
       "     [,1]        [,2]     [,3] \n",
       "[1,] \"Meomeo888\" \"Meomeo\" \"888\"\n",
       "\n",
       "[[3]]\n",
       "     [,1]       [,2]   [,3] \n",
       "[1,] \"soso-777\" \"soso\" \"777\"\n",
       "\n",
       "[[4]]\n",
       "     [,1]   [,2]  [,3]\n",
       "[1,] \"VNC \" \"VNC\" \"\"  \n",
       "[2,] \"Son \" \"Son\" \"\"  \n",
       "[3,] \"La \"  \"La\"  \"\"  \n",
       "[4,] \"TF\"   \"TF\"  \"\"  \n",
       "\n",
       "[[5]]\n",
       "     [,1]    [,2]    [,3]\n",
       "[1,] \"VN \"   \"VN\"    \"\"  \n",
       "[2,] \"Wanie\" \"Wanie\" \"\"  \n",
       "\n",
       "[[6]]\n",
       "     [,1]        [,2]     [,3] \n",
       "[1,] \"Davi666\"   \"Davi\"   \"666\"\n",
       "[2,] \"Galski999\" \"Galski\" \"999\"\n"
      ]
     },
     "metadata": {},
     "output_type": "display_data"
    }
   ],
   "source": [
    "# Return a list of matrix\n",
    "players %>% str_match_all(pattern)"
   ]
  }
 ],
 "metadata": {
  "kernelspec": {
   "display_name": "R",
   "language": "R",
   "name": "ir"
  },
  "language_info": {
   "codemirror_mode": "r",
   "file_extension": ".r",
   "mimetype": "text/x-r-source",
   "name": "R",
   "pygments_lexer": "r",
   "version": "3.6.1"
  }
 },
 "nbformat": 4,
 "nbformat_minor": 2
}
