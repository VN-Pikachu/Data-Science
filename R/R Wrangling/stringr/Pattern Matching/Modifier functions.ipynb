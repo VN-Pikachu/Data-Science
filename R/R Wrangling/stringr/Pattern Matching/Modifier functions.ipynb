{
 "cells": [
  {
   "cell_type": "code",
   "execution_count": 4,
   "metadata": {},
   "outputs": [],
   "source": [
    "library(tidyverse)"
   ]
  },
  {
   "cell_type": "markdown",
   "metadata": {},
   "source": [
    "# Control matching behaviour with modifier functions"
   ]
  },
  {
   "cell_type": "markdown",
   "metadata": {},
   "source": [
    "**fixed**  \n",
    "Compare literal bytes in the string. This is very fast, but not usually what you want for non-ASCII character sets.\n",
    "\n",
    "**coll**  \n",
    "Compare strings respecting standard collation rules.\n",
    "\n",
    "**regex**  \n",
    "The default. Uses ICU regular expressions.\n",
    "\n",
    "**boundary**  \n",
    "Match boundaries between things."
   ]
  },
  {
   "cell_type": "markdown",
   "metadata": {},
   "source": [
    "```r\n",
    "fixed(pattern, ignore_case = FALSE)\n",
    "\n",
    "coll(pattern, ignore_case = FALSE, locale = \"en\", ...)\n",
    "\n",
    "regex(\n",
    "  pattern,\n",
    "  ignore_case = FALSE,\n",
    "  multiline = FALSE,\n",
    "  comments = FALSE,\n",
    "  dotall = FALSE,\n",
    "  ...\n",
    ")\n",
    "\n",
    "boundary(\n",
    "  type = c(\"character\", \"line_break\", \"sentence\", \"word\"),\n",
    "  skip_word_none = NA,\n",
    "  ...\n",
    ")\n",
    "```"
   ]
  },
  {
   "cell_type": "markdown",
   "metadata": {},
   "source": [
    "# Examples"
   ]
  },
  {
   "cell_type": "markdown",
   "metadata": {},
   "source": [
    "**`fixed()`**"
   ]
  },
  {
   "cell_type": "code",
   "execution_count": 9,
   "metadata": {},
   "outputs": [
    {
     "data": {
      "text/html": [
       "FALSE"
      ],
      "text/latex": [
       "FALSE"
      ],
      "text/markdown": [
       "FALSE"
      ],
      "text/plain": [
       "[1] FALSE"
      ]
     },
     "metadata": {},
     "output_type": "display_data"
    }
   ],
   "source": [
    "# match as normal string\n",
    "'1a2' %>% str_detect(fixed('1.2'))"
   ]
  },
  {
   "cell_type": "code",
   "execution_count": 11,
   "metadata": {},
   "outputs": [
    {
     "data": {
      "text/html": [
       "TRUE"
      ],
      "text/latex": [
       "TRUE"
      ],
      "text/markdown": [
       "TRUE"
      ],
      "text/plain": [
       "[1] TRUE"
      ]
     },
     "metadata": {},
     "output_type": "display_data"
    }
   ],
   "source": [
    "# match as regular expression\n",
    "\n",
    "'1a2' %>% str_detect('1.2')"
   ]
  },
  {
   "cell_type": "markdown",
   "metadata": {},
   "source": [
    "<hr>"
   ]
  },
  {
   "cell_type": "markdown",
   "metadata": {},
   "source": [
    "**`coll()`**"
   ]
  },
  {
   "cell_type": "code",
   "execution_count": 12,
   "metadata": {},
   "outputs": [
    {
     "data": {
      "text/html": [
       "<ol class=list-inline>\n",
       "\t<li>'I'</li>\n",
       "\t<li>'İ'</li>\n",
       "\t<li>'i'</li>\n",
       "</ol>\n"
      ],
      "text/latex": [
       "\\begin{enumerate*}\n",
       "\\item 'I'\n",
       "\\item 'İ'\n",
       "\\item 'i'\n",
       "\\end{enumerate*}\n"
      ],
      "text/markdown": [
       "1. 'I'\n",
       "2. 'İ'\n",
       "3. 'i'\n",
       "\n",
       "\n"
      ],
      "text/plain": [
       "[1] \"I\" \"I\" \"i\""
      ]
     },
     "metadata": {},
     "output_type": "display_data"
    }
   ],
   "source": [
    "# coll() is useful for locale-aware case-insensitive matching\n",
    "i <- c(\"I\", \"\\u0130\", \"i\")\n",
    "i"
   ]
  },
  {
   "cell_type": "code",
   "execution_count": 13,
   "metadata": {},
   "outputs": [
    {
     "data": {
      "text/html": [
       "<ol class=list-inline>\n",
       "\t<li>TRUE</li>\n",
       "\t<li>FALSE</li>\n",
       "\t<li>TRUE</li>\n",
       "</ol>\n"
      ],
      "text/latex": [
       "\\begin{enumerate*}\n",
       "\\item TRUE\n",
       "\\item FALSE\n",
       "\\item TRUE\n",
       "\\end{enumerate*}\n"
      ],
      "text/markdown": [
       "1. TRUE\n",
       "2. FALSE\n",
       "3. TRUE\n",
       "\n",
       "\n"
      ],
      "text/plain": [
       "[1]  TRUE FALSE  TRUE"
      ]
     },
     "metadata": {},
     "output_type": "display_data"
    }
   ],
   "source": [
    "'i' %>% str_detect(fixed(i, ignore_case = T))"
   ]
  },
  {
   "cell_type": "code",
   "execution_count": 14,
   "metadata": {},
   "outputs": [
    {
     "data": {
      "text/html": [
       "<ol class=list-inline>\n",
       "\t<li>FALSE</li>\n",
       "\t<li>TRUE</li>\n",
       "\t<li>TRUE</li>\n",
       "</ol>\n"
      ],
      "text/latex": [
       "\\begin{enumerate*}\n",
       "\\item FALSE\n",
       "\\item TRUE\n",
       "\\item TRUE\n",
       "\\end{enumerate*}\n"
      ],
      "text/markdown": [
       "1. FALSE\n",
       "2. TRUE\n",
       "3. TRUE\n",
       "\n",
       "\n"
      ],
      "text/plain": [
       "[1] FALSE  TRUE  TRUE"
      ]
     },
     "metadata": {},
     "output_type": "display_data"
    }
   ],
   "source": [
    "'i' %>% str_detect(coll(i, ignore_case = T, locale = 'tr'))"
   ]
  },
  {
   "cell_type": "markdown",
   "metadata": {},
   "source": [
    "<hr>"
   ]
  },
  {
   "cell_type": "markdown",
   "metadata": {},
   "source": [
    "**`boundary()`**"
   ]
  },
  {
   "cell_type": "code",
   "execution_count": 49,
   "metadata": {},
   "outputs": [
    {
     "data": {
      "text/html": [
       "<pre class=language-r><code>function (type = c(\"character\", \"line_break\", \"sentence\", \"word\"), \n",
       "<span style=white-space:pre-wrap>    skip_word_none = NA, ...) </span>\n",
       "NULL</code></pre>"
      ],
      "text/latex": [
       "\\begin{minted}{r}\n",
       "function (type = c(\"character\", \"line\\_break\", \"sentence\", \"word\"), \n",
       "    skip\\_word\\_none = NA, ...) \n",
       "NULL\n",
       "\\end{minted}"
      ],
      "text/markdown": [
       "```r\n",
       "function (type = c(\"character\", \"line_break\", \"sentence\", \"word\"), \n",
       "    skip_word_none = NA, ...) \n",
       "NULL\n",
       "```"
      ],
      "text/plain": [
       "function (type = c(\"character\", \"line_break\", \"sentence\", \"word\"), \n",
       "    skip_word_none = NA, ...) \n",
       "NULL"
      ]
     },
     "metadata": {},
     "output_type": "display_data"
    }
   ],
   "source": [
    "args(boundary)"
   ]
  },
  {
   "cell_type": "markdown",
   "metadata": {},
   "source": [
    "**`type`**\t\n",
    "Boundary type to detect.\n",
    "\n",
    "* `character`\n",
    "Every character is a boundary.\n",
    "\n",
    "* `line_break`\n",
    "Boundaries are places where it is acceptable to have a line break in the current locale.\n",
    "\n",
    "* `sentence`\n",
    "The beginnings and ends of sentences are boundaries, using intelligent rules to avoid counting abbreviations (details).\n",
    "\n",
    "* `word`\n",
    "The beginnings and ends of words are boundaries.\n",
    "\n",
    "**`skip_word_none`** \t\n",
    "Ignore \"words\" that don't contain any characters or numbers - i.e. punctuation. Default NA will skip such \"words\" only when splitting on word boundaries."
   ]
  },
  {
   "cell_type": "code",
   "execution_count": 23,
   "metadata": {},
   "outputs": [],
   "source": [
    "words <- \"These are   some words.\""
   ]
  },
  {
   "cell_type": "code",
   "execution_count": 25,
   "metadata": {},
   "outputs": [
    {
     "data": {
      "text/html": [
       "4"
      ],
      "text/latex": [
       "4"
      ],
      "text/markdown": [
       "4"
      ],
      "text/plain": [
       "[1] 4"
      ]
     },
     "metadata": {},
     "output_type": "display_data"
    }
   ],
   "source": [
    "# Count the number of word boundary\n",
    "words %>% str_count(boundary('word'))"
   ]
  },
  {
   "cell_type": "code",
   "execution_count": 27,
   "metadata": {},
   "outputs": [
    {
     "name": "stdout",
     "output_type": "stream",
     "text": [
      "[[1]]\n",
      "[1] \"These\"  \"are\"    \"\"       \"\"       \"some\"   \"words.\"\n",
      "\n"
     ]
    }
   ],
   "source": [
    "words %>% str_split(' ') %>% print()"
   ]
  },
  {
   "cell_type": "code",
   "execution_count": 30,
   "metadata": {},
   "outputs": [
    {
     "name": "stdout",
     "output_type": "stream",
     "text": [
      "[[1]]\n",
      "[1] \"These\" \"are\"   \"some\"  \"words\"\n",
      "\n"
     ]
    }
   ],
   "source": [
    "# Split at word boundary\n",
    "words %>% str_split(boundary('word')) %>% print()"
   ]
  },
  {
   "cell_type": "markdown",
   "metadata": {},
   "source": [
    "<hr>"
   ]
  },
  {
   "cell_type": "markdown",
   "metadata": {},
   "source": [
    "**`regex()`**: create a Regex"
   ]
  },
  {
   "cell_type": "code",
   "execution_count": 33,
   "metadata": {},
   "outputs": [
    {
     "data": {
      "text/html": [
       "<ol>\n",
       "\t<li><ol class=list-inline>\n",
       "\t<li>'My'</li>\n",
       "\t<li>'name'</li>\n",
       "\t<li>'is'</li>\n",
       "\t<li>'VN'</li>\n",
       "\t<li>'Pikachu'</li>\n",
       "</ol>\n",
       "</li>\n",
       "</ol>\n"
      ],
      "text/latex": [
       "\\begin{enumerate}\n",
       "\\item \\begin{enumerate*}\n",
       "\\item 'My'\n",
       "\\item 'name'\n",
       "\\item 'is'\n",
       "\\item 'VN'\n",
       "\\item 'Pikachu'\n",
       "\\end{enumerate*}\n",
       "\n",
       "\\end{enumerate}\n"
      ],
      "text/markdown": [
       "1. 1. 'My'\n",
       "2. 'name'\n",
       "3. 'is'\n",
       "4. 'VN'\n",
       "5. 'Pikachu'\n",
       "\n",
       "\n",
       "\n",
       "\n",
       "\n"
      ],
      "text/plain": [
       "[[1]]\n",
       "[1] \"My\"      \"name\"    \"is\"      \"VN\"      \"Pikachu\"\n"
      ]
     },
     "metadata": {},
     "output_type": "display_data"
    }
   ],
   "source": [
    "'My name is VN Pikachu' %>% str_extract_all(regex('[a-z]+', ignore_case = T))   #flags = re.I"
   ]
  },
  {
   "cell_type": "code",
   "execution_count": 48,
   "metadata": {},
   "outputs": [
    {
     "data": {
      "text/html": [
       "<ol>\n",
       "\t<li>'a'</li>\n",
       "</ol>\n"
      ],
      "text/latex": [
       "\\begin{enumerate}\n",
       "\\item 'a'\n",
       "\\end{enumerate}\n"
      ],
      "text/markdown": [
       "1. 'a'\n",
       "\n",
       "\n"
      ],
      "text/plain": [
       "[[1]]\n",
       "[1] \"a\"\n"
      ]
     },
     "metadata": {},
     "output_type": "display_data"
    },
    {
     "data": {
      "text/html": [
       "<ol>\n",
       "\t<li><ol class=list-inline>\n",
       "\t<li>'a'</li>\n",
       "\t<li>'b'</li>\n",
       "\t<li>'c'</li>\n",
       "</ol>\n",
       "</li>\n",
       "</ol>\n"
      ],
      "text/latex": [
       "\\begin{enumerate}\n",
       "\\item \\begin{enumerate*}\n",
       "\\item 'a'\n",
       "\\item 'b'\n",
       "\\item 'c'\n",
       "\\end{enumerate*}\n",
       "\n",
       "\\end{enumerate}\n"
      ],
      "text/markdown": [
       "1. 1. 'a'\n",
       "2. 'b'\n",
       "3. 'c'\n",
       "\n",
       "\n",
       "\n",
       "\n",
       "\n"
      ],
      "text/plain": [
       "[[1]]\n",
       "[1] \"a\" \"b\" \"c\"\n"
      ]
     },
     "metadata": {},
     "output_type": "display_data"
    }
   ],
   "source": [
    "\"a11\\nb22\\nc33\" %>%  str_extract_all(regex('^[a-z]+', multiline = F))\n",
    "\n",
    "\"a11\\nb22\\nc33\" %>%  str_extract_all(regex('^[a-z]+', multiline = T))   #flags = re.MULTILINE"
   ]
  },
  {
   "cell_type": "code",
   "execution_count": 36,
   "metadata": {},
   "outputs": [
    {
     "data": {
      "text/html": [
       "'a\\n'"
      ],
      "text/latex": [
       "'a\\textbackslash{}n'"
      ],
      "text/markdown": [
       "'a\\n'"
      ],
      "text/plain": [
       "[1] \"a\\n\""
      ]
     },
     "metadata": {},
     "output_type": "display_data"
    }
   ],
   "source": [
    "\"a\\nb\\nc\" %>% str_extract(regex('a.', dotall = T))   #flags = re.DOTALL"
   ]
  },
  {
   "cell_type": "code",
   "execution_count": 45,
   "metadata": {},
   "outputs": [
    {
     "data": {
      "text/html": [
       "<ol>\n",
       "\t<li><ol class=list-inline>\n",
       "\t<li>'322'</li>\n",
       "\t<li>'32'</li>\n",
       "\t<li>'3'</li>\n",
       "\t<li>'3'</li>\n",
       "</ol>\n",
       "</li>\n",
       "</ol>\n"
      ],
      "text/latex": [
       "\\begin{enumerate}\n",
       "\\item \\begin{enumerate*}\n",
       "\\item '322'\n",
       "\\item '32'\n",
       "\\item '3'\n",
       "\\item '3'\n",
       "\\end{enumerate*}\n",
       "\n",
       "\\end{enumerate}\n"
      ],
      "text/markdown": [
       "1. 1. '322'\n",
       "2. '32'\n",
       "3. '3'\n",
       "4. '3'\n",
       "\n",
       "\n",
       "\n",
       "\n",
       "\n"
      ],
      "text/plain": [
       "[[1]]\n",
       "[1] \"322\" \"32\"  \"3\"   \"3\"  \n"
      ]
     },
     "metadata": {},
     "output_type": "display_data"
    }
   ],
   "source": [
    "# flag = re.VERBOSE\n",
    "pattern = regex(\"\n",
    "\\\\d+  # This will match for number\n",
    "\", comments = T)\n",
    "\n",
    "'a322 32ar3 a3' %>% str_extract_all(pattern) "
   ]
  }
 ],
 "metadata": {
  "kernelspec": {
   "display_name": "R",
   "language": "R",
   "name": "ir"
  },
  "language_info": {
   "codemirror_mode": "r",
   "file_extension": ".r",
   "mimetype": "text/x-r-source",
   "name": "R",
   "pygments_lexer": "r",
   "version": "3.6.1"
  }
 },
 "nbformat": 4,
 "nbformat_minor": 2
}
