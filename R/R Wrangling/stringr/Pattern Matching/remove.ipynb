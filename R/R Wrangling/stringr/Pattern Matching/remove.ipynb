{
 "cells": [
  {
   "cell_type": "code",
   "execution_count": 4,
   "metadata": {},
   "outputs": [],
   "source": [
    "library(tidyverse)"
   ]
  },
  {
   "cell_type": "markdown",
   "metadata": {},
   "source": [
    "# Remove matched patterns in a string\n"
   ]
  },
  {
   "cell_type": "markdown",
   "metadata": {},
   "source": [
    "Alias for **`str_replace(string, pattern, \"\")`**, **`str_replace_all(string, pattern, '')`**."
   ]
  },
  {
   "cell_type": "markdown",
   "metadata": {},
   "source": [
    "```r\n",
    "str_remove(string, pattern)\n",
    "\n",
    "str_remove_all(string, pattern)\n",
    "```"
   ]
  },
  {
   "cell_type": "markdown",
   "metadata": {},
   "source": [
    "# Examples"
   ]
  },
  {
   "cell_type": "code",
   "execution_count": 2,
   "metadata": {},
   "outputs": [],
   "source": [
    "fruits <- c(\"one apple\", \"two pears\", \"three bananas\")"
   ]
  },
  {
   "cell_type": "code",
   "execution_count": 6,
   "metadata": {},
   "outputs": [
    {
     "data": {
      "text/html": [
       "<ol class=list-inline>\n",
       "\t<li>'ne apple'</li>\n",
       "\t<li>'tw pears'</li>\n",
       "\t<li>'thre bananas'</li>\n",
       "</ol>\n"
      ],
      "text/latex": [
       "\\begin{enumerate*}\n",
       "\\item 'ne apple'\n",
       "\\item 'tw pears'\n",
       "\\item 'thre bananas'\n",
       "\\end{enumerate*}\n"
      ],
      "text/markdown": [
       "1. 'ne apple'\n",
       "2. 'tw pears'\n",
       "3. 'thre bananas'\n",
       "\n",
       "\n"
      ],
      "text/plain": [
       "[1] \"ne apple\"     \"tw pears\"     \"thre bananas\""
      ]
     },
     "metadata": {},
     "output_type": "display_data"
    }
   ],
   "source": [
    "fruits %>% str_remove('[aeiou]')"
   ]
  },
  {
   "cell_type": "code",
   "execution_count": 7,
   "metadata": {},
   "outputs": [
    {
     "data": {
      "text/html": [
       "<ol class=list-inline>\n",
       "\t<li>'n ppl'</li>\n",
       "\t<li>'tw prs'</li>\n",
       "\t<li>'thr bnns'</li>\n",
       "</ol>\n"
      ],
      "text/latex": [
       "\\begin{enumerate*}\n",
       "\\item 'n ppl'\n",
       "\\item 'tw prs'\n",
       "\\item 'thr bnns'\n",
       "\\end{enumerate*}\n"
      ],
      "text/markdown": [
       "1. 'n ppl'\n",
       "2. 'tw prs'\n",
       "3. 'thr bnns'\n",
       "\n",
       "\n"
      ],
      "text/plain": [
       "[1] \"n ppl\"    \"tw prs\"   \"thr bnns\""
      ]
     },
     "metadata": {},
     "output_type": "display_data"
    }
   ],
   "source": [
    "fruits %>% str_remove_all('[aeiou]')"
   ]
  }
 ],
 "metadata": {
  "kernelspec": {
   "display_name": "R",
   "language": "R",
   "name": "ir"
  },
  "language_info": {
   "codemirror_mode": "r",
   "file_extension": ".r",
   "mimetype": "text/x-r-source",
   "name": "R",
   "pygments_lexer": "r",
   "version": "3.6.1"
  }
 },
 "nbformat": 4,
 "nbformat_minor": 2
}
