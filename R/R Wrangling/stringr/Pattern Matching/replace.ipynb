{
 "cells": [
  {
   "cell_type": "code",
   "execution_count": 3,
   "metadata": {},
   "outputs": [],
   "source": [
    "library(tidyverse)"
   ]
  },
  {
   "cell_type": "markdown",
   "metadata": {},
   "source": [
    "# Replace matched patterns in a string"
   ]
  },
  {
   "cell_type": "markdown",
   "metadata": {},
   "source": [
    "```r\n",
    "str_replace(string, pattern, replacement)      # re.sub(pattern, replacement, string, count = 1)\n",
    "\n",
    "str_replace_all(string, pattern, replacement)  # re.sub(pattern, replacement, string)\n",
    "```"
   ]
  },
  {
   "cell_type": "markdown",
   "metadata": {},
   "source": [
    "**Arguments**  \n",
    "`replacement`\t\n",
    "A character vector of replacements. Should be either length one, or the same length as string or pattern. References of the form `\\1`, `\\2`, etc will be replaced with the contents of the respective matched group (created by `()`).\n",
    "\n",
    "To perform multiple replacements in each element of string, pass a named vector `(c(pattern1 = replacement1))` to `str_replace_all`. Alternatively, pass a function to replacement: it will be called once for each match and its return value will be used to replace the match.\n",
    "\n",
    "To replace the complete string with NA, use replacement = NA_character_."
   ]
  },
  {
   "cell_type": "markdown",
   "metadata": {},
   "source": [
    "# Examples"
   ]
  },
  {
   "cell_type": "code",
   "execution_count": 4,
   "metadata": {},
   "outputs": [],
   "source": [
    "fruits <- c(\"one apple\", \"two pears\", \"three bananas\")"
   ]
  },
  {
   "cell_type": "code",
   "execution_count": 5,
   "metadata": {},
   "outputs": [
    {
     "data": {
      "text/html": [
       "<ol class=list-inline>\n",
       "\t<li>'-ne apple'</li>\n",
       "\t<li>'tw- pears'</li>\n",
       "\t<li>'thr-e bananas'</li>\n",
       "</ol>\n"
      ],
      "text/latex": [
       "\\begin{enumerate*}\n",
       "\\item '-ne apple'\n",
       "\\item 'tw- pears'\n",
       "\\item 'thr-e bananas'\n",
       "\\end{enumerate*}\n"
      ],
      "text/markdown": [
       "1. '-ne apple'\n",
       "2. 'tw- pears'\n",
       "3. 'thr-e bananas'\n",
       "\n",
       "\n"
      ],
      "text/plain": [
       "[1] \"-ne apple\"     \"tw- pears\"     \"thr-e bananas\""
      ]
     },
     "metadata": {},
     "output_type": "display_data"
    }
   ],
   "source": [
    "fruits %>% str_replace('[aeiou]', '-')"
   ]
  },
  {
   "cell_type": "code",
   "execution_count": 6,
   "metadata": {},
   "outputs": [
    {
     "data": {
      "text/html": [
       "<ol class=list-inline>\n",
       "\t<li>'-n- -ppl-'</li>\n",
       "\t<li>'tw- p--rs'</li>\n",
       "\t<li>'thr-- b-n-n-s'</li>\n",
       "</ol>\n"
      ],
      "text/latex": [
       "\\begin{enumerate*}\n",
       "\\item '-n- -ppl-'\n",
       "\\item 'tw- p--rs'\n",
       "\\item 'thr-- b-n-n-s'\n",
       "\\end{enumerate*}\n"
      ],
      "text/markdown": [
       "1. '-n- -ppl-'\n",
       "2. 'tw- p--rs'\n",
       "3. 'thr-- b-n-n-s'\n",
       "\n",
       "\n"
      ],
      "text/plain": [
       "[1] \"-n- -ppl-\"     \"tw- p--rs\"     \"thr-- b-n-n-s\""
      ]
     },
     "metadata": {},
     "output_type": "display_data"
    }
   ],
   "source": [
    "fruits %>% str_replace_all('[aeiou]', '-')"
   ]
  },
  {
   "cell_type": "code",
   "execution_count": 15,
   "metadata": {},
   "outputs": [
    {
     "data": {
      "text/html": [
       "<ol class=list-inline>\n",
       "\t<li>'one apple'</li>\n",
       "\t<li>'two pears'</li>\n",
       "\t<li>NA</li>\n",
       "</ol>\n"
      ],
      "text/latex": [
       "\\begin{enumerate*}\n",
       "\\item 'one apple'\n",
       "\\item 'two pears'\n",
       "\\item NA\n",
       "\\end{enumerate*}\n"
      ],
      "text/markdown": [
       "1. 'one apple'\n",
       "2. 'two pears'\n",
       "3. NA\n",
       "\n",
       "\n"
      ],
      "text/plain": [
       "[1] \"one apple\" \"two pears\" NA         "
      ]
     },
     "metadata": {},
     "output_type": "display_data"
    }
   ],
   "source": [
    "#replace the complete string with NA\n",
    "fruits %>% str_replace('b', NA_character_)"
   ]
  },
  {
   "cell_type": "code",
   "execution_count": 18,
   "metadata": {},
   "outputs": [
    {
     "data": {
      "text/html": [
       "<ol class=list-inline>\n",
       "\t<li>'n ppl'</li>\n",
       "\t<li>'tw prs'</li>\n",
       "\t<li>'thr bnns'</li>\n",
       "</ol>\n"
      ],
      "text/latex": [
       "\\begin{enumerate*}\n",
       "\\item 'n ppl'\n",
       "\\item 'tw prs'\n",
       "\\item 'thr bnns'\n",
       "\\end{enumerate*}\n"
      ],
      "text/markdown": [
       "1. 'n ppl'\n",
       "2. 'tw prs'\n",
       "3. 'thr bnns'\n",
       "\n",
       "\n"
      ],
      "text/plain": [
       "[1] \"n ppl\"    \"tw prs\"   \"thr bnns\""
      ]
     },
     "metadata": {},
     "output_type": "display_data"
    }
   ],
   "source": [
    "fruits %>% str_replace_all('[aeiou]', '')"
   ]
  },
  {
   "cell_type": "code",
   "execution_count": 17,
   "metadata": {},
   "outputs": [
    {
     "data": {
      "text/html": [
       "<ol class=list-inline>\n",
       "\t<li>'oone apple'</li>\n",
       "\t<li>'twoo pears'</li>\n",
       "\t<li>'threee bananas'</li>\n",
       "</ol>\n"
      ],
      "text/latex": [
       "\\begin{enumerate*}\n",
       "\\item 'oone apple'\n",
       "\\item 'twoo pears'\n",
       "\\item 'threee bananas'\n",
       "\\end{enumerate*}\n"
      ],
      "text/markdown": [
       "1. 'oone apple'\n",
       "2. 'twoo pears'\n",
       "3. 'threee bananas'\n",
       "\n",
       "\n"
      ],
      "text/plain": [
       "[1] \"oone apple\"     \"twoo pears\"     \"threee bananas\""
      ]
     },
     "metadata": {},
     "output_type": "display_data"
    }
   ],
   "source": [
    "#Back reference\n",
    "str_replace(fruits, \"([aeiou])\", \"\\\\1\\\\1\")"
   ]
  },
  {
   "cell_type": "code",
   "execution_count": 7,
   "metadata": {},
   "outputs": [
    {
     "data": {
      "text/html": [
       "<ol class=list-inline>\n",
       "\t<li>'(o)n(e) (a)ppl(e)'</li>\n",
       "\t<li>'tw(o) p(e)(a)rs'</li>\n",
       "\t<li>'thr(e)(e) b(a)n(a)n(a)s'</li>\n",
       "</ol>\n"
      ],
      "text/latex": [
       "\\begin{enumerate*}\n",
       "\\item '(o)n(e) (a)ppl(e)'\n",
       "\\item 'tw(o) p(e)(a)rs'\n",
       "\\item 'thr(e)(e) b(a)n(a)n(a)s'\n",
       "\\end{enumerate*}\n"
      ],
      "text/markdown": [
       "1. '(o)n(e) (a)ppl(e)'\n",
       "2. 'tw(o) p(e)(a)rs'\n",
       "3. 'thr(e)(e) b(a)n(a)n(a)s'\n",
       "\n",
       "\n"
      ],
      "text/plain": [
       "[1] \"(o)n(e) (a)ppl(e)\"       \"tw(o) p(e)(a)rs\"        \n",
       "[3] \"thr(e)(e) b(a)n(a)n(a)s\""
      ]
     },
     "metadata": {},
     "output_type": "display_data"
    }
   ],
   "source": [
    "#using a function to replace\n",
    "decorate <- function(match) paste0('(', match, ')')\n",
    "\n",
    "fruits %>% str_replace_all('[aeiou]', decorate)"
   ]
  },
  {
   "cell_type": "code",
   "execution_count": 11,
   "metadata": {},
   "outputs": [
    {
     "data": {
      "text/html": [
       "'-n- -ppl- ????'"
      ],
      "text/latex": [
       "'-n- -ppl- ????'"
      ],
      "text/markdown": [
       "'-n- -ppl- ????'"
      ],
      "text/plain": [
       "[1] \"-n- -ppl- ????\""
      ]
     },
     "metadata": {},
     "output_type": "display_data"
    }
   ],
   "source": [
    "# If you want to apply multiple patterns and replacements to the same\n",
    "# string, pass a named vector to pattern.\n",
    "\n",
    "'one apple 6666' %>% str_replace_all(c('[aeiou]' = '-', '\\\\d' = '?'))"
   ]
  },
  {
   "cell_type": "code",
   "execution_count": 13,
   "metadata": {},
   "outputs": [
    {
     "data": {
      "text/html": [
       "<ol class=list-inline>\n",
       "\t<li>'-n- -ppl- 666'</li>\n",
       "\t<li>'one apple ???'</li>\n",
       "</ol>\n"
      ],
      "text/latex": [
       "\\begin{enumerate*}\n",
       "\\item '-n- -ppl- 666'\n",
       "\\item 'one apple ???'\n",
       "\\end{enumerate*}\n"
      ],
      "text/markdown": [
       "1. '-n- -ppl- 666'\n",
       "2. 'one apple ???'\n",
       "\n",
       "\n"
      ],
      "text/plain": [
       "[1] \"-n- -ppl- 666\" \"one apple ???\""
      ]
     },
     "metadata": {},
     "output_type": "display_data"
    }
   ],
   "source": [
    "#This one is diffrent, repeat input string 2 times then broadcast\n",
    "'one apple 666' %>% str_replace_all(c('[aeiou]', '\\\\d'), c('-', '?'))"
   ]
  }
 ],
 "metadata": {
  "kernelspec": {
   "display_name": "R",
   "language": "R",
   "name": "ir"
  },
  "language_info": {
   "codemirror_mode": "r",
   "file_extension": ".r",
   "mimetype": "text/x-r-source",
   "name": "R",
   "pygments_lexer": "r",
   "version": "3.6.1"
  }
 },
 "nbformat": 4,
 "nbformat_minor": 2
}
