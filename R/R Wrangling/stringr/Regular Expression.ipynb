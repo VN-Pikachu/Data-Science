{
 "cells": [
  {
   "cell_type": "code",
   "execution_count": 2,
   "metadata": {},
   "outputs": [],
   "source": [
    "library(tidyverse)"
   ]
  },
  {
   "cell_type": "markdown",
   "metadata": {},
   "source": [
    "Regular expressions are the default pattern engine in stringr. That means when you use a pattern matching function with a bare string, it’s equivalent to wrapping it in a call to `regex()`:"
   ]
  },
  {
   "cell_type": "code",
   "execution_count": 3,
   "metadata": {},
   "outputs": [
    {
     "data": {
      "text/html": [
       "'777'"
      ],
      "text/latex": [
       "'777'"
      ],
      "text/markdown": [
       "'777'"
      ],
      "text/plain": [
       "[1] \"777\""
      ]
     },
     "metadata": {},
     "output_type": "display_data"
    }
   ],
   "source": [
    "'soso-777-' %>% str_extract('[0-9]+')"
   ]
  },
  {
   "cell_type": "code",
   "execution_count": 4,
   "metadata": {},
   "outputs": [
    {
     "data": {
      "text/html": [
       "'777'"
      ],
      "text/latex": [
       "'777'"
      ],
      "text/markdown": [
       "'777'"
      ],
      "text/plain": [
       "[1] \"777\""
      ]
     },
     "metadata": {},
     "output_type": "display_data"
    }
   ],
   "source": [
    "'soso-777-' %>% str_extract(regex('[0-9]+'))"
   ]
  },
  {
   "cell_type": "markdown",
   "metadata": {},
   "source": [
    "You will need to use `regex()` explicitly if you want to override the default options, as you’ll see in examples below."
   ]
  },
  {
   "cell_type": "markdown",
   "metadata": {},
   "source": [
    "# Basic Matches"
   ]
  },
  {
   "cell_type": "code",
   "execution_count": 5,
   "metadata": {},
   "outputs": [
    {
     "data": {
      "text/html": [
       "<ol class=list-inline>\n",
       "\t<li>'apple'</li>\n",
       "\t<li>'banana'</li>\n",
       "\t<li>'pear'</li>\n",
       "</ol>\n"
      ],
      "text/latex": [
       "\\begin{enumerate*}\n",
       "\\item 'apple'\n",
       "\\item 'banana'\n",
       "\\item 'pear'\n",
       "\\end{enumerate*}\n"
      ],
      "text/markdown": [
       "1. 'apple'\n",
       "2. 'banana'\n",
       "3. 'pear'\n",
       "\n",
       "\n"
      ],
      "text/plain": [
       "[1] \"apple\"  \"banana\" \"pear\"  "
      ]
     },
     "metadata": {},
     "output_type": "display_data"
    }
   ],
   "source": [
    "x <- c(\"apple\", \"banana\", \"pear\")\n",
    "x"
   ]
  },
  {
   "cell_type": "markdown",
   "metadata": {},
   "source": [
    "The simplest patterns match exact strings:"
   ]
  },
  {
   "cell_type": "code",
   "execution_count": 6,
   "metadata": {},
   "outputs": [
    {
     "data": {
      "text/html": [
       "<ol class=list-inline>\n",
       "\t<li>NA</li>\n",
       "\t<li>'an'</li>\n",
       "\t<li>NA</li>\n",
       "</ol>\n"
      ],
      "text/latex": [
       "\\begin{enumerate*}\n",
       "\\item NA\n",
       "\\item 'an'\n",
       "\\item NA\n",
       "\\end{enumerate*}\n"
      ],
      "text/markdown": [
       "1. NA\n",
       "2. 'an'\n",
       "3. NA\n",
       "\n",
       "\n"
      ],
      "text/plain": [
       "[1] NA   \"an\" NA  "
      ]
     },
     "metadata": {},
     "output_type": "display_data"
    }
   ],
   "source": [
    "x %>% str_extract('an')"
   ]
  },
  {
   "cell_type": "markdown",
   "metadata": {},
   "source": [
    "case-insensitive matching using `ignore_case = TRUE`:"
   ]
  },
  {
   "cell_type": "code",
   "execution_count": 8,
   "metadata": {},
   "outputs": [
    {
     "data": {
      "text/html": [
       "<ol class=list-inline>\n",
       "\t<li>NA</li>\n",
       "\t<li>'an'</li>\n",
       "\t<li>NA</li>\n",
       "</ol>\n"
      ],
      "text/latex": [
       "\\begin{enumerate*}\n",
       "\\item NA\n",
       "\\item 'an'\n",
       "\\item NA\n",
       "\\end{enumerate*}\n"
      ],
      "text/markdown": [
       "1. NA\n",
       "2. 'an'\n",
       "3. NA\n",
       "\n",
       "\n"
      ],
      "text/plain": [
       "[1] NA   \"an\" NA  "
      ]
     },
     "metadata": {},
     "output_type": "display_data"
    }
   ],
   "source": [
    "x %>% str_extract(regex('AN', ignore_case = T))"
   ]
  },
  {
   "cell_type": "markdown",
   "metadata": {},
   "source": [
    "The next step up in complexity is `.`, which matches any character except a newline:"
   ]
  },
  {
   "cell_type": "code",
   "execution_count": 10,
   "metadata": {},
   "outputs": [
    {
     "data": {
      "text/html": [
       "<ol class=list-inline>\n",
       "\t<li>NA</li>\n",
       "\t<li>'ban'</li>\n",
       "\t<li>'ear'</li>\n",
       "</ol>\n"
      ],
      "text/latex": [
       "\\begin{enumerate*}\n",
       "\\item NA\n",
       "\\item 'ban'\n",
       "\\item 'ear'\n",
       "\\end{enumerate*}\n"
      ],
      "text/markdown": [
       "1. NA\n",
       "2. 'ban'\n",
       "3. 'ear'\n",
       "\n",
       "\n"
      ],
      "text/plain": [
       "[1] NA    \"ban\" \"ear\""
      ]
     },
     "metadata": {},
     "output_type": "display_data"
    }
   ],
   "source": [
    "x %>% str_extract('.a.')"
   ]
  },
  {
   "cell_type": "markdown",
   "metadata": {},
   "source": [
    "You can allow `.` to match everything, including `\\n`, by setting `dotall = TRUE`:"
   ]
  },
  {
   "cell_type": "code",
   "execution_count": 13,
   "metadata": {},
   "outputs": [
    {
     "data": {
      "text/html": [
       "FALSE"
      ],
      "text/latex": [
       "FALSE"
      ],
      "text/markdown": [
       "FALSE"
      ],
      "text/plain": [
       "[1] FALSE"
      ]
     },
     "metadata": {},
     "output_type": "display_data"
    },
    {
     "data": {
      "text/html": [
       "TRUE"
      ],
      "text/latex": [
       "TRUE"
      ],
      "text/markdown": [
       "TRUE"
      ],
      "text/plain": [
       "[1] TRUE"
      ]
     },
     "metadata": {},
     "output_type": "display_data"
    }
   ],
   "source": [
    "\"\\nX\\n\" %>% str_detect('...')\n",
    "\n",
    "\"\\nX\\n\" %>% str_detect(regex('...', dotall = T))"
   ]
  },
  {
   "cell_type": "markdown",
   "metadata": {},
   "source": [
    "# Escaping"
   ]
  },
  {
   "cell_type": "markdown",
   "metadata": {},
   "source": [
    "using `\\\\`"
   ]
  },
  {
   "cell_type": "markdown",
   "metadata": {},
   "source": [
    "for `\\`, escape by using `\\\\\\\\`"
   ]
  },
  {
   "cell_type": "code",
   "execution_count": 19,
   "metadata": {},
   "outputs": [
    {
     "data": {
      "text/html": [
       "TRUE"
      ],
      "text/latex": [
       "TRUE"
      ],
      "text/markdown": [
       "TRUE"
      ],
      "text/plain": [
       "[1] TRUE"
      ]
     },
     "metadata": {},
     "output_type": "display_data"
    }
   ],
   "source": [
    "# detect character '+'\n",
    "'1+2' %>% str_detect('\\\\+')"
   ]
  },
  {
   "cell_type": "code",
   "execution_count": 23,
   "metadata": {},
   "outputs": [
    {
     "data": {
      "text/html": [
       "TRUE"
      ],
      "text/latex": [
       "TRUE"
      ],
      "text/markdown": [
       "TRUE"
      ],
      "text/plain": [
       "[1] TRUE"
      ]
     },
     "metadata": {},
     "output_type": "display_data"
    }
   ],
   "source": [
    "# detect digit \\d\n",
    "'a3' %>% str_detect('\\\\d')"
   ]
  },
  {
   "cell_type": "code",
   "execution_count": 25,
   "metadata": {},
   "outputs": [
    {
     "data": {
      "text/html": [
       "'a\\\\b'"
      ],
      "text/latex": [
       "'a\\textbackslash{}\\textbackslash{}b'"
      ],
      "text/markdown": [
       "'a\\\\b'"
      ],
      "text/plain": [
       "[1] \"a\\\\b\""
      ]
     },
     "metadata": {},
     "output_type": "display_data"
    }
   ],
   "source": [
    "x <- \"a\\\\b\"\n",
    "x"
   ]
  },
  {
   "cell_type": "code",
   "execution_count": 26,
   "metadata": {},
   "outputs": [
    {
     "data": {
      "text/html": [
       "'\\\\'"
      ],
      "text/latex": [
       "'\\textbackslash{}\\textbackslash{}'"
      ],
      "text/markdown": [
       "'\\\\'"
      ],
      "text/plain": [
       "[1] \"\\\\\""
      ]
     },
     "metadata": {},
     "output_type": "display_data"
    }
   ],
   "source": [
    "x %>% str_extract('\\\\\\\\')"
   ]
  },
  {
   "cell_type": "markdown",
   "metadata": {},
   "source": [
    "An alternative quoting mechanism is `\\Q...\\E`: all the characters in `...` are treated as exact matches. This is useful if you want to exactly match user input as part of a regular expression."
   ]
  },
  {
   "cell_type": "code",
   "execution_count": 27,
   "metadata": {},
   "outputs": [
    {
     "data": {
      "text/html": [
       "<ol class=list-inline>\n",
       "\t<li>TRUE</li>\n",
       "\t<li>TRUE</li>\n",
       "</ol>\n"
      ],
      "text/latex": [
       "\\begin{enumerate*}\n",
       "\\item TRUE\n",
       "\\item TRUE\n",
       "\\end{enumerate*}\n"
      ],
      "text/markdown": [
       "1. TRUE\n",
       "2. TRUE\n",
       "\n",
       "\n"
      ],
      "text/plain": [
       "[1] TRUE TRUE"
      ]
     },
     "metadata": {},
     "output_type": "display_data"
    },
    {
     "data": {
      "text/html": [
       "<ol class=list-inline>\n",
       "\t<li>TRUE</li>\n",
       "\t<li>FALSE</li>\n",
       "</ol>\n"
      ],
      "text/latex": [
       "\\begin{enumerate*}\n",
       "\\item TRUE\n",
       "\\item FALSE\n",
       "\\end{enumerate*}\n"
      ],
      "text/markdown": [
       "1. TRUE\n",
       "2. FALSE\n",
       "\n",
       "\n"
      ],
      "text/plain": [
       "[1]  TRUE FALSE"
      ]
     },
     "metadata": {},
     "output_type": "display_data"
    }
   ],
   "source": [
    "x <- c(\"a.b.c.d\", \"aeb\")\n",
    "starts_with <- \"a.b\"\n",
    "\n",
    "str_detect(x, paste0(\"^\", starts_with))\n",
    "#> [1] TRUE TRUE\n",
    "str_detect(x, paste0(\"^\\\\Q\", starts_with, \"\\\\E\"))"
   ]
  },
  {
   "cell_type": "code",
   "execution_count": 31,
   "metadata": {},
   "outputs": [
    {
     "data": {
      "text/html": [
       "TRUE"
      ],
      "text/latex": [
       "TRUE"
      ],
      "text/markdown": [
       "TRUE"
      ],
      "text/plain": [
       "[1] TRUE"
      ]
     },
     "metadata": {},
     "output_type": "display_data"
    },
    {
     "data": {
      "text/html": [
       "FALSE"
      ],
      "text/latex": [
       "FALSE"
      ],
      "text/markdown": [
       "FALSE"
      ],
      "text/plain": [
       "[1] FALSE"
      ]
     },
     "metadata": {},
     "output_type": "display_data"
    }
   ],
   "source": [
    "input_user <- '.'\n",
    "\n",
    "'1a2' %>% str_detect(input_user)\n",
    "\n",
    "# Match the character '.'\n",
    "'1a2' %>% str_detect(paste0('\\\\Q', input_user, '\\\\E'))"
   ]
  },
  {
   "cell_type": "markdown",
   "metadata": {},
   "source": [
    "# Special characters"
   ]
  },
  {
   "cell_type": "markdown",
   "metadata": {},
   "source": [
    "# Matching multiple characters"
   ]
  },
  {
   "cell_type": "markdown",
   "metadata": {},
   "source": [
    " `.` will match the component “a”, while `\\X` will match the complete symbol:"
   ]
  },
  {
   "cell_type": "code",
   "execution_count": 57,
   "metadata": {},
   "outputs": [
    {
     "data": {
      "text/html": [
       "'á'"
      ],
      "text/latex": [
       "'á'"
      ],
      "text/markdown": [
       "'á'"
      ],
      "text/plain": [
       "[1] \"a´\""
      ]
     },
     "metadata": {},
     "output_type": "display_data"
    }
   ],
   "source": [
    "x <- \"a\\u0301\"\n",
    "x"
   ]
  },
  {
   "cell_type": "code",
   "execution_count": 58,
   "metadata": {},
   "outputs": [
    {
     "data": {
      "text/html": [
       "'a'"
      ],
      "text/latex": [
       "'a'"
      ],
      "text/markdown": [
       "'a'"
      ],
      "text/plain": [
       "[1] \"a\""
      ]
     },
     "metadata": {},
     "output_type": "display_data"
    }
   ],
   "source": [
    "str_extract(x, \".\")"
   ]
  },
  {
   "cell_type": "code",
   "execution_count": 60,
   "metadata": {},
   "outputs": [
    {
     "data": {
      "text/html": [
       "'á'"
      ],
      "text/latex": [
       "'á'"
      ],
      "text/markdown": [
       "'á'"
      ],
      "text/plain": [
       "[1] \"a´\""
      ]
     },
     "metadata": {},
     "output_type": "display_data"
    }
   ],
   "source": [
    "str_extract(x, \"\\\\X\")"
   ]
  },
  {
   "cell_type": "markdown",
   "metadata": {},
   "source": [
    "There are five other escaped pairs that match narrower classes of characters:\n",
    "\n",
    "* `\\d`: matches any digit. The complement, `\\D`, matches any character that is not a decimal digit.\n",
    "* `\\s`: matches any whitespace. This includes tabs, newlines, form feeds, and any character in the Unicode Z Category (which includes a variety of space characters and other separators.). The complement, `\\S`, matches any non-whitespace character.\n",
    "* `\\p{property name}` matches any character with specific unicode property, like `\\p{Uppercase}` or `\\p{Diacritic}`.   \n",
    "The complement, `\\P{property name}`, matches all characters without the property. A complete list of unicode properties can be found at **http://www.unicode.org/reports/tr44/#Property_Index**.\n",
    "* `\\w` matches any “word” character, which includes alphabetic characters, marks and decimal numbers. The complement, \\W, matches any non-word character.\n",
    "* `\\b` matches word boundaries, the transition between word and non-word characters. \\B matches the opposite: boundaries that have either both word or non-word characters on either side."
   ]
  },
  {
   "cell_type": "code",
   "execution_count": 62,
   "metadata": {},
   "outputs": [
    {
     "data": {
      "text/html": [
       "'_The_ _quick_ _brown_ _fox_'"
      ],
      "text/latex": [
       "'\\_The\\_ \\_quick\\_ \\_brown\\_ \\_fox\\_'"
      ],
      "text/markdown": [
       "'_The_ _quick_ _brown_ _fox_'"
      ],
      "text/plain": [
       "[1] \"_The_ _quick_ _brown_ _fox_\""
      ]
     },
     "metadata": {},
     "output_type": "display_data"
    },
    {
     "data": {
      "text/html": [
       "'T_h_e q_u_i_c_k b_r_o_w_n f_o_x'"
      ],
      "text/latex": [
       "'T\\_h\\_e q\\_u\\_i\\_c\\_k b\\_r\\_o\\_w\\_n f\\_o\\_x'"
      ],
      "text/markdown": [
       "'T_h_e q_u_i_c_k b_r_o_w_n f_o_x'"
      ],
      "text/plain": [
       "[1] \"T_h_e q_u_i_c_k b_r_o_w_n f_o_x\""
      ]
     },
     "metadata": {},
     "output_type": "display_data"
    }
   ],
   "source": [
    "str_replace_all(\"The quick brown fox\", \"\\\\b\", \"_\")\n",
    "\n",
    "str_replace_all(\"The quick brown fox\", \"\\\\B\", \"_\")\n"
   ]
  },
  {
   "cell_type": "markdown",
   "metadata": {},
   "source": [
    "You can also create your own character classes using `[]`:\n",
    "\n",
    "* `[abc]`: matches a, b, or c.\n",
    "* `[a-z]`: matches every character between a and z (in Unicode code point order).\n",
    "* `[^abc]`: matches anything except a, b, or c.\n",
    "* `[\\^\\-]`: matches ^ or -."
   ]
  },
  {
   "cell_type": "markdown",
   "metadata": {},
   "source": [
    "There are a number of pre-built classes that you can use inside []:\n",
    "\n",
    "* `[:punct:]`: punctuation.\n",
    "* `[:alpha:]`: letters.\n",
    "* `[:lower:]`: lowercase letters.\n",
    "* `[:upper:]`: upperclass letters.\n",
    "* `[:digit:]`: digits.\n",
    "* `[:xdigit:]`: hex digits.\n",
    "* `[:alnum:]`: letters and numbers.\n",
    "* `[:cntrl:]`: control characters.\n",
    "* `[:graph:]`: letters, numbers, and punctuation.\n",
    "* `[:print:]`: letters, numbers, punctuation, and whitespace.\n",
    "* `[:space:]`: space characters (basically equivalent to \\s).\n",
    "* `[:blank:]`: space and tab."
   ]
  },
  {
   "cell_type": "markdown",
   "metadata": {},
   "source": [
    "These all go inside the `[]` for character classes, i.e. `[[:digit:]AX]` matches all digits, A, and X."
   ]
  },
  {
   "cell_type": "markdown",
   "metadata": {},
   "source": [
    "# Alternation"
   ]
  },
  {
   "cell_type": "markdown",
   "metadata": {},
   "source": [
    "`|` is the **alternation** operator, which will pick between one or more possible matches."
   ]
  },
  {
   "cell_type": "code",
   "execution_count": 33,
   "metadata": {},
   "outputs": [
    {
     "data": {
      "text/html": [
       "<ol class=list-inline>\n",
       "\t<li>TRUE</li>\n",
       "\t<li>TRUE</li>\n",
       "\t<li>TRUE</li>\n",
       "\t<li>FALSE</li>\n",
       "</ol>\n"
      ],
      "text/latex": [
       "\\begin{enumerate*}\n",
       "\\item TRUE\n",
       "\\item TRUE\n",
       "\\item TRUE\n",
       "\\item FALSE\n",
       "\\end{enumerate*}\n"
      ],
      "text/markdown": [
       "1. TRUE\n",
       "2. TRUE\n",
       "3. TRUE\n",
       "4. FALSE\n",
       "\n",
       "\n"
      ],
      "text/plain": [
       "[1]  TRUE  TRUE  TRUE FALSE"
      ]
     },
     "metadata": {},
     "output_type": "display_data"
    }
   ],
   "source": [
    "c('abc', 'def', 'abcd', 'ghi') %>% str_detect('abc|def')"
   ]
  },
  {
   "cell_type": "markdown",
   "metadata": {},
   "source": [
    "# Grouping"
   ]
  },
  {
   "cell_type": "markdown",
   "metadata": {},
   "source": [
    "You can use parentheses to override the default precedence rules:"
   ]
  },
  {
   "cell_type": "code",
   "execution_count": 36,
   "metadata": {},
   "outputs": [
    {
     "data": {
      "text/html": [
       "<ol>\n",
       "\t<li>'gre'</li>\n",
       "\t<li>'ay'</li>\n",
       "</ol>\n"
      ],
      "text/latex": [
       "\\begin{enumerate}\n",
       "\\item 'gre'\n",
       "\\item 'ay'\n",
       "\\end{enumerate}\n"
      ],
      "text/markdown": [
       "1. 'gre'\n",
       "2. 'ay'\n",
       "\n",
       "\n"
      ],
      "text/plain": [
       "[[1]]\n",
       "[1] \"gre\"\n",
       "\n",
       "[[2]]\n",
       "[1] \"ay\"\n"
      ]
     },
     "metadata": {},
     "output_type": "display_data"
    }
   ],
   "source": [
    "c('grey', 'gray') %>% str_extract_all('gre|ay')"
   ]
  },
  {
   "cell_type": "code",
   "execution_count": 38,
   "metadata": {},
   "outputs": [
    {
     "data": {
      "text/html": [
       "<ol>\n",
       "\t<li><ol class=list-inline>\n",
       "\t<li>'grey'</li>\n",
       "\t<li>'gray'</li>\n",
       "</ol>\n",
       "</li>\n",
       "</ol>\n"
      ],
      "text/latex": [
       "\\begin{enumerate}\n",
       "\\item \\begin{enumerate*}\n",
       "\\item 'grey'\n",
       "\\item 'gray'\n",
       "\\end{enumerate*}\n",
       "\n",
       "\\end{enumerate}\n"
      ],
      "text/markdown": [
       "1. 1. 'grey'\n",
       "2. 'gray'\n",
       "\n",
       "\n",
       "\n",
       "\n",
       "\n"
      ],
      "text/plain": [
       "[[1]]\n",
       "[1] \"grey\" \"gray\"\n"
      ]
     },
     "metadata": {},
     "output_type": "display_data"
    }
   ],
   "source": [
    "c('grey, gray') %>% str_extract_all('gr(e|a)y')"
   ]
  },
  {
   "cell_type": "markdown",
   "metadata": {},
   "source": [
    "Parenthesis also define “groups” that you can refer to with backreferences, like `\\1`, `\\2` etc, and can be extracted with `str_match()`. For example, the following regular expression finds all string that have a repeated pair of letters:"
   ]
  },
  {
   "cell_type": "code",
   "execution_count": 41,
   "metadata": {},
   "outputs": [
    {
     "data": {
      "text/html": [
       "<ol>\n",
       "\t<li><ol class=list-inline>\n",
       "\t<li>'oo'</li>\n",
       "\t<li>'pp'</li>\n",
       "</ol>\n",
       "</li>\n",
       "\t<li></li>\n",
       "</ol>\n"
      ],
      "text/latex": [
       "\\begin{enumerate}\n",
       "\\item \\begin{enumerate*}\n",
       "\\item 'oo'\n",
       "\\item 'pp'\n",
       "\\end{enumerate*}\n",
       "\n",
       "\\item \n",
       "\\end{enumerate}\n"
      ],
      "text/markdown": [
       "1. 1. 'oo'\n",
       "2. 'pp'\n",
       "\n",
       "\n",
       "\n",
       "2. \n",
       "\n",
       "\n"
      ],
      "text/plain": [
       "[[1]]\n",
       "[1] \"oo\" \"pp\"\n",
       "\n",
       "[[2]]\n",
       "character(0)\n"
      ]
     },
     "metadata": {},
     "output_type": "display_data"
    }
   ],
   "source": [
    "c('moon light apple', 'how do you like it') %>% str_extract_all('(.)\\\\1')"
   ]
  },
  {
   "cell_type": "markdown",
   "metadata": {},
   "source": [
    "You can use `(?:...)`, the non-grouping parentheses, to control precedence but not capture the match in a group. This is slightly more efficient than capturing parentheses."
   ]
  },
  {
   "cell_type": "code",
   "execution_count": 42,
   "metadata": {},
   "outputs": [
    {
     "data": {
      "text/html": [
       "<table>\n",
       "<tbody>\n",
       "\t<tr><td>grey</td><td>e   </td></tr>\n",
       "\t<tr><td>gray</td><td>a   </td></tr>\n",
       "</tbody>\n",
       "</table>\n"
      ],
      "text/latex": [
       "\\begin{tabular}{ll}\n",
       "\t grey & e   \\\\\n",
       "\t gray & a   \\\\\n",
       "\\end{tabular}\n"
      ],
      "text/markdown": [
       "\n",
       "| grey | e    |\n",
       "| gray | a    |\n",
       "\n"
      ],
      "text/plain": [
       "     [,1] [,2]\n",
       "[1,] grey e   \n",
       "[2,] gray a   "
      ]
     },
     "metadata": {},
     "output_type": "display_data"
    }
   ],
   "source": [
    "str_match(c(\"grey\", \"gray\"), \"gr(e|a)y\")"
   ]
  },
  {
   "cell_type": "code",
   "execution_count": 43,
   "metadata": {},
   "outputs": [
    {
     "data": {
      "text/html": [
       "<table>\n",
       "<tbody>\n",
       "\t<tr><td>grey</td></tr>\n",
       "\t<tr><td>gray</td></tr>\n",
       "</tbody>\n",
       "</table>\n"
      ],
      "text/latex": [
       "\\begin{tabular}{l}\n",
       "\t grey\\\\\n",
       "\t gray\\\\\n",
       "\\end{tabular}\n"
      ],
      "text/markdown": [
       "\n",
       "| grey |\n",
       "| gray |\n",
       "\n"
      ],
      "text/plain": [
       "     [,1]\n",
       "[1,] grey\n",
       "[2,] gray"
      ]
     },
     "metadata": {},
     "output_type": "display_data"
    }
   ],
   "source": [
    "str_match(c(\"grey\", \"gray\"), \"gr(?:e|a)y\")"
   ]
  },
  {
   "cell_type": "markdown",
   "metadata": {},
   "source": [
    "# Anchors"
   ]
  },
  {
   "cell_type": "markdown",
   "metadata": {},
   "source": [
    "By default, regular expressions will match any part of a string. It’s often useful to anchor the regular expression so that it matches from the start or end of the string:\n",
    "\n",
    "* `^` matches the start of string.\n",
    "* `$` matches the end of the string."
   ]
  },
  {
   "cell_type": "code",
   "execution_count": 44,
   "metadata": {},
   "outputs": [],
   "source": [
    "x <- c(\"apple\", \"banana\", \"pear\")"
   ]
  },
  {
   "cell_type": "code",
   "execution_count": 45,
   "metadata": {},
   "outputs": [
    {
     "data": {
      "text/html": [
       "'apple'"
      ],
      "text/latex": [
       "'apple'"
      ],
      "text/markdown": [
       "'apple'"
      ],
      "text/plain": [
       "[1] \"apple\""
      ]
     },
     "metadata": {},
     "output_type": "display_data"
    }
   ],
   "source": [
    "# filter strings start with 'a'\n",
    "x %>% str_subset('^a')"
   ]
  },
  {
   "cell_type": "code",
   "execution_count": 46,
   "metadata": {},
   "outputs": [
    {
     "data": {
      "text/html": [
       "'banana'"
      ],
      "text/latex": [
       "'banana'"
      ],
      "text/markdown": [
       "'banana'"
      ],
      "text/plain": [
       "[1] \"banana\""
      ]
     },
     "metadata": {},
     "output_type": "display_data"
    }
   ],
   "source": [
    "# filter strings ends with 'a'\n",
    "x %>% str_subset('a$')"
   ]
  },
  {
   "cell_type": "markdown",
   "metadata": {},
   "source": [
    "For multiline strings, you can use `regex(multiline = TRUE)`. This changes the behaviour of `^` and `$`, and introduces three new operators:"
   ]
  },
  {
   "cell_type": "markdown",
   "metadata": {},
   "source": [
    "* `^` now matches the start of each line.\n",
    "\n",
    "* `$` now matches the end of each line.\n",
    "\n",
    "* `\\A` matches the start of the input.\n",
    "\n",
    "* `\\z` matches the end of the input.\n",
    "\n",
    "* `\\Z` matches the end of the input, but before the final line terminator, if it exists."
   ]
  },
  {
   "cell_type": "code",
   "execution_count": 47,
   "metadata": {},
   "outputs": [
    {
     "name": "stdout",
     "output_type": "stream",
     "text": [
      "Line 1\n",
      "Line 2\n",
      "Line 3\n"
     ]
    }
   ],
   "source": [
    "x <- \"Line 1\\nLine 2\\nLine 3\\n\"\n",
    "cat(x)"
   ]
  },
  {
   "cell_type": "code",
   "execution_count": 48,
   "metadata": {},
   "outputs": [
    {
     "data": {
      "text/html": [
       "<ol>\n",
       "\t<li>'Line 1'</li>\n",
       "</ol>\n"
      ],
      "text/latex": [
       "\\begin{enumerate}\n",
       "\\item 'Line 1'\n",
       "\\end{enumerate}\n"
      ],
      "text/markdown": [
       "1. 'Line 1'\n",
       "\n",
       "\n"
      ],
      "text/plain": [
       "[[1]]\n",
       "[1] \"Line 1\"\n"
      ]
     },
     "metadata": {},
     "output_type": "display_data"
    }
   ],
   "source": [
    "str_extract_all(x, \"^Line..\")"
   ]
  },
  {
   "cell_type": "code",
   "execution_count": 49,
   "metadata": {},
   "outputs": [
    {
     "data": {
      "text/html": [
       "<ol>\n",
       "\t<li><ol class=list-inline>\n",
       "\t<li>'Line 1'</li>\n",
       "\t<li>'Line 2'</li>\n",
       "\t<li>'Line 3'</li>\n",
       "</ol>\n",
       "</li>\n",
       "</ol>\n"
      ],
      "text/latex": [
       "\\begin{enumerate}\n",
       "\\item \\begin{enumerate*}\n",
       "\\item 'Line 1'\n",
       "\\item 'Line 2'\n",
       "\\item 'Line 3'\n",
       "\\end{enumerate*}\n",
       "\n",
       "\\end{enumerate}\n"
      ],
      "text/markdown": [
       "1. 1. 'Line 1'\n",
       "2. 'Line 2'\n",
       "3. 'Line 3'\n",
       "\n",
       "\n",
       "\n",
       "\n",
       "\n"
      ],
      "text/plain": [
       "[[1]]\n",
       "[1] \"Line 1\" \"Line 2\" \"Line 3\"\n"
      ]
     },
     "metadata": {},
     "output_type": "display_data"
    }
   ],
   "source": [
    "str_extract_all(x, regex('^Line..', multiline = T))"
   ]
  },
  {
   "cell_type": "markdown",
   "metadata": {},
   "source": [
    "# Repetition"
   ]
  },
  {
   "cell_type": "markdown",
   "metadata": {},
   "source": [
    "You can control how many times a pattern matches with the repetition operators:\n",
    "\n",
    "*  `?`: 0 or 1.\n",
    "*  `+`: 1 or more.\n",
    "*  `*`: 0 or more."
   ]
  },
  {
   "cell_type": "markdown",
   "metadata": {},
   "source": [
    "Note that the precedence of these operators is high, so you can write: `colou?r` to match either American or British spellings. That means most uses will need parentheses, like `bana(na)+`."
   ]
  },
  {
   "cell_type": "markdown",
   "metadata": {},
   "source": [
    "You can also specify the number of matches precisely:\n",
    "\n",
    "* `{n}`: exactly n\n",
    "* `{n,}`: n or more\n",
    "* `{n,m}`: between n and m"
   ]
  },
  {
   "cell_type": "markdown",
   "metadata": {},
   "source": [
    "By default these matches are “greedy”: they will match the longest string possible. You can make them “lazy”, matching the shortest string possible by putting a ? after them:\n",
    "\n",
    "* `??`: 0 or 1, prefer 0.\n",
    "* `+?`: 1 or more, match as few times as possible.\n",
    "* `*?`: 0 or more, match as few times as possible.\n",
    "* `{n,}?`: n or more, match as few times as possible.\n",
    "* `{n,m}?`: between n and m, , match as few times as possible, but at least n."
   ]
  },
  {
   "cell_type": "markdown",
   "metadata": {},
   "source": [
    "You can also make the matches possessive by putting a + after them, which means that if later parts of the match fail, the repetition will not be re-tried with a smaller number of characters. This is an advanced feature used to improve performance in worst-case scenarios (called “catastrophic backtracking”).\n",
    "\n",
    "* `?+`: 0 or 1, possessive.\n",
    "* `++`: 1 or more, possessive.\n",
    "* `*+`: 0 or more, possessive.\n",
    "* `{n}+`: exactly n, possessive.\n",
    "* `{n,}+`: n or more, possessive.\n",
    "* `{n,m}+`: between n and m, possessive."
   ]
  },
  {
   "cell_type": "markdown",
   "metadata": {},
   "source": [
    "A related concept is the **atomic-match** parenthesis, `(?>...)`. If a later match fails and the engine needs to back-track, an atomic match is kept as is: it succeeds or fails as a whole. Compare the following two regular expressions:"
   ]
  },
  {
   "cell_type": "code",
   "execution_count": 50,
   "metadata": {},
   "outputs": [
    {
     "data": {
      "text/html": [
       "FALSE"
      ],
      "text/latex": [
       "FALSE"
      ],
      "text/markdown": [
       "FALSE"
      ],
      "text/plain": [
       "[1] FALSE"
      ]
     },
     "metadata": {},
     "output_type": "display_data"
    },
    {
     "data": {
      "text/html": [
       "TRUE"
      ],
      "text/latex": [
       "TRUE"
      ],
      "text/markdown": [
       "TRUE"
      ],
      "text/plain": [
       "[1] TRUE"
      ]
     },
     "metadata": {},
     "output_type": "display_data"
    }
   ],
   "source": [
    "str_detect(\"ABC\", \"(?>A|.B)C\")\n",
    "\n",
    "\n",
    "str_detect(\"ABC\", \"(?:A|.B)C\")"
   ]
  },
  {
   "cell_type": "markdown",
   "metadata": {},
   "source": [
    "The atomic match fails because it matches A, and then the next character is a C so it fails. The regular match succeeds because it matches A, but then C doesn’t match, so it back-tracks and tries B instead."
   ]
  },
  {
   "cell_type": "markdown",
   "metadata": {},
   "source": [
    "# Look arounds"
   ]
  },
  {
   "cell_type": "markdown",
   "metadata": {},
   "source": [
    "These assertions look ahead or behind the current match without “consuming” any characters (i.e. changing the input position)."
   ]
  },
  {
   "cell_type": "markdown",
   "metadata": {},
   "source": [
    "* `(?=...)`: positive look-ahead assertion. Matches if ... matches at the current input.\n",
    "\n",
    "* `(?!...)`: negative look-ahead assertion. Matches if ... does not match at the current input.\n",
    "\n",
    "* `(?<=...)`: positive look-behind assertion. Matches if ... matches text preceding the current position, with the last character of the match being the character just before the current position. Length must be bounded\n",
    "(i.e. no * or +).\n",
    "\n",
    "* `(?<!...)`: negative look-behind assertion. Matches if ... does not match text preceding the current position. Length must be bounded\n",
    "(i.e. no * or +)."
   ]
  },
  {
   "cell_type": "markdown",
   "metadata": {},
   "source": [
    "These are useful when you want to check that a pattern exists, but you don’t want to include it in the result:"
   ]
  },
  {
   "cell_type": "code",
   "execution_count": 53,
   "metadata": {},
   "outputs": [
    {
     "data": {
      "text/html": [
       "<ol class=list-inline>\n",
       "\t<li>'1'</li>\n",
       "\t<li>'2'</li>\n",
       "\t<li>NA</li>\n",
       "</ol>\n"
      ],
      "text/latex": [
       "\\begin{enumerate*}\n",
       "\\item '1'\n",
       "\\item '2'\n",
       "\\item NA\n",
       "\\end{enumerate*}\n"
      ],
      "text/markdown": [
       "1. '1'\n",
       "2. '2'\n",
       "3. NA\n",
       "\n",
       "\n"
      ],
      "text/plain": [
       "[1] \"1\" \"2\" NA "
      ]
     },
     "metadata": {},
     "output_type": "display_data"
    }
   ],
   "source": [
    "x <- c(\"1 piece\", \"2 pieces\", \"3\")\n",
    "\n",
    "str_extract(x, \"\\\\d+(?= pieces?)\")"
   ]
  },
  {
   "cell_type": "code",
   "execution_count": 52,
   "metadata": {},
   "outputs": [
    {
     "data": {
      "text/html": [
       "<ol class=list-inline>\n",
       "\t<li>NA</li>\n",
       "\t<li>'400'</li>\n",
       "</ol>\n"
      ],
      "text/latex": [
       "\\begin{enumerate*}\n",
       "\\item NA\n",
       "\\item '400'\n",
       "\\end{enumerate*}\n"
      ],
      "text/markdown": [
       "1. NA\n",
       "2. '400'\n",
       "\n",
       "\n"
      ],
      "text/plain": [
       "[1] NA    \"400\""
      ]
     },
     "metadata": {},
     "output_type": "display_data"
    }
   ],
   "source": [
    "y <- c(\"100\", \"$400\")\n",
    "str_extract(y, \"(?<=\\\\$)\\\\d+\")"
   ]
  },
  {
   "cell_type": "markdown",
   "metadata": {},
   "source": [
    "# Comments"
   ]
  },
  {
   "cell_type": "markdown",
   "metadata": {},
   "source": [
    "There are two ways to include comments in a regular expression. The first is with `(?#...)`:"
   ]
  },
  {
   "cell_type": "code",
   "execution_count": 55,
   "metadata": {},
   "outputs": [
    {
     "data": {
      "text/html": [
       "TRUE"
      ],
      "text/latex": [
       "TRUE"
      ],
      "text/markdown": [
       "TRUE"
      ],
      "text/plain": [
       "[1] TRUE"
      ]
     },
     "metadata": {},
     "output_type": "display_data"
    }
   ],
   "source": [
    "str_detect(\"xyz\", \"x(?#this is a comment)\")"
   ]
  },
  {
   "cell_type": "markdown",
   "metadata": {},
   "source": [
    "The second is to use `regex(comments = TRUE)`. This form ignores spaces and newlines, and anything everything after `#`. To match a literal space, you’ll need to escape it: `\"\\\\ \"`. This is a useful way of describing complex regular expressions:"
   ]
  },
  {
   "cell_type": "code",
   "execution_count": 56,
   "metadata": {},
   "outputs": [
    {
     "data": {
      "text/html": [
       "<table>\n",
       "<tbody>\n",
       "\t<tr><td>514-791-814</td><td>514        </td><td>791        </td><td>814        </td></tr>\n",
       "</tbody>\n",
       "</table>\n"
      ],
      "text/latex": [
       "\\begin{tabular}{llll}\n",
       "\t 514-791-814 & 514         & 791         & 814        \\\\\n",
       "\\end{tabular}\n"
      ],
      "text/markdown": [
       "\n",
       "| 514-791-814 | 514         | 791         | 814         |\n",
       "\n"
      ],
      "text/plain": [
       "     [,1]        [,2] [,3] [,4]\n",
       "[1,] 514-791-814 514  791  814 "
      ]
     },
     "metadata": {},
     "output_type": "display_data"
    }
   ],
   "source": [
    "phone <- regex(\"\n",
    "  \\\\(?     # optional opening parens\n",
    "  (\\\\d{3}) # area code\n",
    "  [)- ]?   # optional closing parens, dash, or space\n",
    "  (\\\\d{3}) # another three numbers\n",
    "  [ -]?    # optional space or dash\n",
    "  (\\\\d{3}) # three more numbers\n",
    "  \", comments = TRUE)\n",
    "\n",
    "str_match(\"514-791-8141\", phone)"
   ]
  },
  {
   "cell_type": "markdown",
   "metadata": {},
   "source": [
    "# Other uses of regular expression in R"
   ]
  },
  {
   "cell_type": "markdown",
   "metadata": {},
   "source": [
    "There are two useful function in base R that also use regular expressions:\n",
    "\n",
    "- **`apropos()`** searches all objects available from the global environment. This is useful if you can’t quite remember the name of the function."
   ]
  },
  {
   "cell_type": "code",
   "execution_count": 3,
   "metadata": {},
   "outputs": [
    {
     "data": {
      "text/html": [
       "<ol class=list-inline>\n",
       "\t<li>'%+replace%'</li>\n",
       "\t<li>'replace'</li>\n",
       "\t<li>'replace_na'</li>\n",
       "\t<li>'setReplaceMethod'</li>\n",
       "\t<li>'str_replace'</li>\n",
       "\t<li>'str_replace_all'</li>\n",
       "\t<li>'str_replace_na'</li>\n",
       "\t<li>'theme_replace'</li>\n",
       "</ol>\n"
      ],
      "text/latex": [
       "\\begin{enumerate*}\n",
       "\\item '\\%+replace\\%'\n",
       "\\item 'replace'\n",
       "\\item 'replace\\_na'\n",
       "\\item 'setReplaceMethod'\n",
       "\\item 'str\\_replace'\n",
       "\\item 'str\\_replace\\_all'\n",
       "\\item 'str\\_replace\\_na'\n",
       "\\item 'theme\\_replace'\n",
       "\\end{enumerate*}\n"
      ],
      "text/markdown": [
       "1. '%+replace%'\n",
       "2. 'replace'\n",
       "3. 'replace_na'\n",
       "4. 'setReplaceMethod'\n",
       "5. 'str_replace'\n",
       "6. 'str_replace_all'\n",
       "7. 'str_replace_na'\n",
       "8. 'theme_replace'\n",
       "\n",
       "\n"
      ],
      "text/plain": [
       "[1] \"%+replace%\"       \"replace\"          \"replace_na\"       \"setReplaceMethod\"\n",
       "[5] \"str_replace\"      \"str_replace_all\"  \"str_replace_na\"   \"theme_replace\"   "
      ]
     },
     "metadata": {},
     "output_type": "display_data"
    }
   ],
   "source": [
    "apropos('replace')"
   ]
  },
  {
   "cell_type": "markdown",
   "metadata": {},
   "source": [
    "- **`dir()`** lists all the files in a directory. The pattern argument takes a regular expression and only returns file names that match the pattern. For example, you can find all the R Markdown files in the current directory with:"
   ]
  },
  {
   "cell_type": "code",
   "execution_count": 8,
   "metadata": {},
   "outputs": [
    {
     "data": {
      "text/html": [
       "<ol class=list-inline>\n",
       "\t<li>'Get started.ipynb'</li>\n",
       "\t<li>'Regular Expression.ipynb'</li>\n",
       "\t<li>'The principle of broadcasting.ipynb'</li>\n",
       "</ol>\n"
      ],
      "text/latex": [
       "\\begin{enumerate*}\n",
       "\\item 'Get started.ipynb'\n",
       "\\item 'Regular Expression.ipynb'\n",
       "\\item 'The principle of broadcasting.ipynb'\n",
       "\\end{enumerate*}\n"
      ],
      "text/markdown": [
       "1. 'Get started.ipynb'\n",
       "2. 'Regular Expression.ipynb'\n",
       "3. 'The principle of broadcasting.ipynb'\n",
       "\n",
       "\n"
      ],
      "text/plain": [
       "[1] \"Get started.ipynb\"                   \"Regular Expression.ipynb\"           \n",
       "[3] \"The principle of broadcasting.ipynb\""
      ]
     },
     "metadata": {},
     "output_type": "display_data"
    }
   ],
   "source": [
    "dir(pattern = '.ipynb$')"
   ]
  }
 ],
 "metadata": {
  "kernelspec": {
   "display_name": "R",
   "language": "R",
   "name": "ir"
  },
  "language_info": {
   "codemirror_mode": "r",
   "file_extension": ".r",
   "mimetype": "text/x-r-source",
   "name": "R",
   "pygments_lexer": "r",
   "version": "3.6.1"
  }
 },
 "nbformat": 4,
 "nbformat_minor": 2
}
