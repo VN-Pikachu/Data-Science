{
 "cells": [
  {
   "cell_type": "code",
   "execution_count": 4,
   "metadata": {},
   "outputs": [],
   "source": [
    "library(tidyverse)"
   ]
  },
  {
   "cell_type": "markdown",
   "metadata": {},
   "source": [
    "# Order or sort a character vector"
   ]
  },
  {
   "cell_type": "markdown",
   "metadata": {},
   "source": [
    "```r\n",
    "str_order(\n",
    "  x,\n",
    "  decreasing = FALSE,\n",
    "  na_last = TRUE,\n",
    "  locale = \"en\",\n",
    "  numeric = FALSE,\n",
    "  ...\n",
    ")\n",
    "\n",
    "str_sort(\n",
    "  x,\n",
    "  decreasing = FALSE,\n",
    "  na_last = TRUE,\n",
    "  locale = \"en\",\n",
    "  numeric = FALSE,\n",
    "  ...\n",
    ")\n",
    "```"
   ]
  },
  {
   "cell_type": "markdown",
   "metadata": {},
   "source": [
    "**Arguments**  \n"
   ]
  },
  {
   "cell_type": "markdown",
   "metadata": {},
   "source": [
    "`x`\t\n",
    "A character vector to sort.\n",
    "\n",
    "`decreasing`\t\n",
    "A boolean. If FALSE, the default, sorts from lowest to highest; if TRUE sorts from highest to lowest.\n",
    "\n",
    "`na_last`\t\n",
    "Where should NA go? TRUE at the end, FALSE at the beginning, NA dropped.\n",
    "\n",
    "`locale`\t\n",
    "In which locale should the sorting occur? Defaults to the English. This ensures that code behaves the same way across platforms.\n",
    "\n",
    "`numeric`\t\n",
    "If TRUE, will sort digits numerically, instead of as strings.\n",
    "\n",
    "`...`\t\n",
    "Other options used to control sorting order. Passed on to stringi::stri_opts_collator()."
   ]
  },
  {
   "cell_type": "markdown",
   "metadata": {},
   "source": [
    "# Locale"
   ]
  },
  {
   "cell_type": "markdown",
   "metadata": {},
   "source": [
    "An  important operation that’s affected by the locale is sorting. The base R `order()` and `sort()` functions sort strings using the current locale. If you want robust behaviour across different computers, you may want to use `str_sort()` and `str_order()` which take an additional locale argument:"
   ]
  },
  {
   "cell_type": "code",
   "execution_count": 5,
   "metadata": {},
   "outputs": [
    {
     "data": {
      "text/html": [
       "<ol class=list-inline>\n",
       "\t<li>'apple'</li>\n",
       "\t<li>'banana'</li>\n",
       "\t<li>'eggplant'</li>\n",
       "</ol>\n"
      ],
      "text/latex": [
       "\\begin{enumerate*}\n",
       "\\item 'apple'\n",
       "\\item 'banana'\n",
       "\\item 'eggplant'\n",
       "\\end{enumerate*}\n"
      ],
      "text/markdown": [
       "1. 'apple'\n",
       "2. 'banana'\n",
       "3. 'eggplant'\n",
       "\n",
       "\n"
      ],
      "text/plain": [
       "[1] \"apple\"    \"banana\"   \"eggplant\""
      ]
     },
     "metadata": {},
     "output_type": "display_data"
    },
    {
     "data": {
      "text/html": [
       "<ol class=list-inline>\n",
       "\t<li>'apple'</li>\n",
       "\t<li>'eggplant'</li>\n",
       "\t<li>'banana'</li>\n",
       "</ol>\n"
      ],
      "text/latex": [
       "\\begin{enumerate*}\n",
       "\\item 'apple'\n",
       "\\item 'eggplant'\n",
       "\\item 'banana'\n",
       "\\end{enumerate*}\n"
      ],
      "text/markdown": [
       "1. 'apple'\n",
       "2. 'eggplant'\n",
       "3. 'banana'\n",
       "\n",
       "\n"
      ],
      "text/plain": [
       "[1] \"apple\"    \"eggplant\" \"banana\"  "
      ]
     },
     "metadata": {},
     "output_type": "display_data"
    }
   ],
   "source": [
    "x <- c(\"apple\", \"eggplant\", \"banana\")\n",
    "\n",
    "str_sort(x, locale = \"en\")  # English\n",
    "#> [1] \"apple\"    \"banana\"   \"eggplant\"\n",
    "\n",
    "str_sort(x, locale = \"haw\") # Hawaiian"
   ]
  },
  {
   "cell_type": "markdown",
   "metadata": {},
   "source": [
    "# Examples"
   ]
  },
  {
   "cell_type": "markdown",
   "metadata": {},
   "source": [
    "### `x`"
   ]
  },
  {
   "cell_type": "code",
   "execution_count": 7,
   "metadata": {},
   "outputs": [
    {
     "data": {
      "text/html": [
       "<ol class=list-inline>\n",
       "\t<li>'a'</li>\n",
       "\t<li>'c'</li>\n",
       "\t<li>'y'</li>\n",
       "\t<li>'g'</li>\n",
       "\t<li>'f'</li>\n",
       "\t<li>'e'</li>\n",
       "\t<li>'w'</li>\n",
       "\t<li>'l'</li>\n",
       "\t<li>'v'</li>\n",
       "\t<li>'u'</li>\n",
       "</ol>\n"
      ],
      "text/latex": [
       "\\begin{enumerate*}\n",
       "\\item 'a'\n",
       "\\item 'c'\n",
       "\\item 'y'\n",
       "\\item 'g'\n",
       "\\item 'f'\n",
       "\\item 'e'\n",
       "\\item 'w'\n",
       "\\item 'l'\n",
       "\\item 'v'\n",
       "\\item 'u'\n",
       "\\end{enumerate*}\n"
      ],
      "text/markdown": [
       "1. 'a'\n",
       "2. 'c'\n",
       "3. 'y'\n",
       "4. 'g'\n",
       "5. 'f'\n",
       "6. 'e'\n",
       "7. 'w'\n",
       "8. 'l'\n",
       "9. 'v'\n",
       "10. 'u'\n",
       "\n",
       "\n"
      ],
      "text/plain": [
       " [1] \"a\" \"c\" \"y\" \"g\" \"f\" \"e\" \"w\" \"l\" \"v\" \"u\""
      ]
     },
     "metadata": {},
     "output_type": "display_data"
    }
   ],
   "source": [
    "chars <- sample(letters, 10)\n",
    "chars"
   ]
  },
  {
   "cell_type": "code",
   "execution_count": 8,
   "metadata": {},
   "outputs": [
    {
     "data": {
      "text/html": [
       "<ol class=list-inline>\n",
       "\t<li>1</li>\n",
       "\t<li>2</li>\n",
       "\t<li>6</li>\n",
       "\t<li>5</li>\n",
       "\t<li>4</li>\n",
       "\t<li>8</li>\n",
       "\t<li>10</li>\n",
       "\t<li>9</li>\n",
       "\t<li>7</li>\n",
       "\t<li>3</li>\n",
       "</ol>\n"
      ],
      "text/latex": [
       "\\begin{enumerate*}\n",
       "\\item 1\n",
       "\\item 2\n",
       "\\item 6\n",
       "\\item 5\n",
       "\\item 4\n",
       "\\item 8\n",
       "\\item 10\n",
       "\\item 9\n",
       "\\item 7\n",
       "\\item 3\n",
       "\\end{enumerate*}\n"
      ],
      "text/markdown": [
       "1. 1\n",
       "2. 2\n",
       "3. 6\n",
       "4. 5\n",
       "5. 4\n",
       "6. 8\n",
       "7. 10\n",
       "8. 9\n",
       "9. 7\n",
       "10. 3\n",
       "\n",
       "\n"
      ],
      "text/plain": [
       " [1]  1  2  6  5  4  8 10  9  7  3"
      ]
     },
     "metadata": {},
     "output_type": "display_data"
    }
   ],
   "source": [
    "order(chars)  # np.argsort(chars)"
   ]
  },
  {
   "cell_type": "code",
   "execution_count": 10,
   "metadata": {},
   "outputs": [
    {
     "data": {
      "text/html": [
       "<ol class=list-inline>\n",
       "\t<li>'a'</li>\n",
       "\t<li>'c'</li>\n",
       "\t<li>'e'</li>\n",
       "\t<li>'f'</li>\n",
       "\t<li>'g'</li>\n",
       "\t<li>'l'</li>\n",
       "\t<li>'u'</li>\n",
       "\t<li>'v'</li>\n",
       "\t<li>'w'</li>\n",
       "\t<li>'y'</li>\n",
       "</ol>\n"
      ],
      "text/latex": [
       "\\begin{enumerate*}\n",
       "\\item 'a'\n",
       "\\item 'c'\n",
       "\\item 'e'\n",
       "\\item 'f'\n",
       "\\item 'g'\n",
       "\\item 'l'\n",
       "\\item 'u'\n",
       "\\item 'v'\n",
       "\\item 'w'\n",
       "\\item 'y'\n",
       "\\end{enumerate*}\n"
      ],
      "text/markdown": [
       "1. 'a'\n",
       "2. 'c'\n",
       "3. 'e'\n",
       "4. 'f'\n",
       "5. 'g'\n",
       "6. 'l'\n",
       "7. 'u'\n",
       "8. 'v'\n",
       "9. 'w'\n",
       "10. 'y'\n",
       "\n",
       "\n"
      ],
      "text/plain": [
       " [1] \"a\" \"c\" \"e\" \"f\" \"g\" \"l\" \"u\" \"v\" \"w\" \"y\""
      ]
     },
     "metadata": {},
     "output_type": "display_data"
    }
   ],
   "source": [
    "sort(chars)  # np.sort(chars)"
   ]
  },
  {
   "cell_type": "markdown",
   "metadata": {},
   "source": [
    "### `decreasing`"
   ]
  },
  {
   "cell_type": "code",
   "execution_count": 11,
   "metadata": {},
   "outputs": [
    {
     "data": {
      "text/html": [
       "<ol class=list-inline>\n",
       "\t<li>'y'</li>\n",
       "\t<li>'w'</li>\n",
       "\t<li>'v'</li>\n",
       "\t<li>'u'</li>\n",
       "\t<li>'l'</li>\n",
       "\t<li>'g'</li>\n",
       "\t<li>'f'</li>\n",
       "\t<li>'e'</li>\n",
       "\t<li>'c'</li>\n",
       "\t<li>'a'</li>\n",
       "</ol>\n"
      ],
      "text/latex": [
       "\\begin{enumerate*}\n",
       "\\item 'y'\n",
       "\\item 'w'\n",
       "\\item 'v'\n",
       "\\item 'u'\n",
       "\\item 'l'\n",
       "\\item 'g'\n",
       "\\item 'f'\n",
       "\\item 'e'\n",
       "\\item 'c'\n",
       "\\item 'a'\n",
       "\\end{enumerate*}\n"
      ],
      "text/markdown": [
       "1. 'y'\n",
       "2. 'w'\n",
       "3. 'v'\n",
       "4. 'u'\n",
       "5. 'l'\n",
       "6. 'g'\n",
       "7. 'f'\n",
       "8. 'e'\n",
       "9. 'c'\n",
       "10. 'a'\n",
       "\n",
       "\n"
      ],
      "text/plain": [
       " [1] \"y\" \"w\" \"v\" \"u\" \"l\" \"g\" \"f\" \"e\" \"c\" \"a\""
      ]
     },
     "metadata": {},
     "output_type": "display_data"
    }
   ],
   "source": [
    "# sort desc\n",
    "sort(chars, decreasing = T)    "
   ]
  },
  {
   "cell_type": "code",
   "execution_count": 12,
   "metadata": {},
   "outputs": [
    {
     "data": {
      "text/html": [
       "<ol class=list-inline>\n",
       "\t<li>3</li>\n",
       "\t<li>7</li>\n",
       "\t<li>9</li>\n",
       "\t<li>10</li>\n",
       "\t<li>8</li>\n",
       "\t<li>4</li>\n",
       "\t<li>5</li>\n",
       "\t<li>6</li>\n",
       "\t<li>2</li>\n",
       "\t<li>1</li>\n",
       "</ol>\n"
      ],
      "text/latex": [
       "\\begin{enumerate*}\n",
       "\\item 3\n",
       "\\item 7\n",
       "\\item 9\n",
       "\\item 10\n",
       "\\item 8\n",
       "\\item 4\n",
       "\\item 5\n",
       "\\item 6\n",
       "\\item 2\n",
       "\\item 1\n",
       "\\end{enumerate*}\n"
      ],
      "text/markdown": [
       "1. 3\n",
       "2. 7\n",
       "3. 9\n",
       "4. 10\n",
       "5. 8\n",
       "6. 4\n",
       "7. 5\n",
       "8. 6\n",
       "9. 2\n",
       "10. 1\n",
       "\n",
       "\n"
      ],
      "text/plain": [
       " [1]  3  7  9 10  8  4  5  6  2  1"
      ]
     },
     "metadata": {},
     "output_type": "display_data"
    }
   ],
   "source": [
    "order(chars, decreasing = T)"
   ]
  },
  {
   "cell_type": "markdown",
   "metadata": {},
   "source": [
    "### `na_last`"
   ]
  },
  {
   "cell_type": "code",
   "execution_count": 13,
   "metadata": {},
   "outputs": [
    {
     "data": {
      "text/html": [
       "<ol class=list-inline>\n",
       "\t<li>'a'</li>\n",
       "\t<li>'c'</li>\n",
       "\t<li>'y'</li>\n",
       "\t<li>'g'</li>\n",
       "\t<li>'f'</li>\n",
       "\t<li>'e'</li>\n",
       "\t<li>'w'</li>\n",
       "\t<li>'l'</li>\n",
       "\t<li>'v'</li>\n",
       "\t<li>'u'</li>\n",
       "\t<li>NA</li>\n",
       "\t<li>'a'</li>\n",
       "\t<li>'c'</li>\n",
       "\t<li>'y'</li>\n",
       "\t<li>'g'</li>\n",
       "\t<li>'f'</li>\n",
       "\t<li>'e'</li>\n",
       "\t<li>'w'</li>\n",
       "\t<li>'l'</li>\n",
       "\t<li>'v'</li>\n",
       "\t<li>'u'</li>\n",
       "</ol>\n"
      ],
      "text/latex": [
       "\\begin{enumerate*}\n",
       "\\item 'a'\n",
       "\\item 'c'\n",
       "\\item 'y'\n",
       "\\item 'g'\n",
       "\\item 'f'\n",
       "\\item 'e'\n",
       "\\item 'w'\n",
       "\\item 'l'\n",
       "\\item 'v'\n",
       "\\item 'u'\n",
       "\\item NA\n",
       "\\item 'a'\n",
       "\\item 'c'\n",
       "\\item 'y'\n",
       "\\item 'g'\n",
       "\\item 'f'\n",
       "\\item 'e'\n",
       "\\item 'w'\n",
       "\\item 'l'\n",
       "\\item 'v'\n",
       "\\item 'u'\n",
       "\\end{enumerate*}\n"
      ],
      "text/markdown": [
       "1. 'a'\n",
       "2. 'c'\n",
       "3. 'y'\n",
       "4. 'g'\n",
       "5. 'f'\n",
       "6. 'e'\n",
       "7. 'w'\n",
       "8. 'l'\n",
       "9. 'v'\n",
       "10. 'u'\n",
       "11. NA\n",
       "12. 'a'\n",
       "13. 'c'\n",
       "14. 'y'\n",
       "15. 'g'\n",
       "16. 'f'\n",
       "17. 'e'\n",
       "18. 'w'\n",
       "19. 'l'\n",
       "20. 'v'\n",
       "21. 'u'\n",
       "\n",
       "\n"
      ],
      "text/plain": [
       " [1] \"a\" \"c\" \"y\" \"g\" \"f\" \"e\" \"w\" \"l\" \"v\" \"u\" NA  \"a\" \"c\" \"y\" \"g\" \"f\" \"e\" \"w\" \"l\"\n",
       "[20] \"v\" \"u\""
      ]
     },
     "metadata": {},
     "output_type": "display_data"
    }
   ],
   "source": [
    "chars_1 <- c(chars, NA, chars)\n",
    "chars_1"
   ]
  },
  {
   "cell_type": "code",
   "execution_count": 14,
   "metadata": {},
   "outputs": [
    {
     "data": {
      "text/html": [
       "<ol class=list-inline>\n",
       "\t<li>'a'</li>\n",
       "\t<li>'a'</li>\n",
       "\t<li>'c'</li>\n",
       "\t<li>'c'</li>\n",
       "\t<li>'e'</li>\n",
       "\t<li>'e'</li>\n",
       "\t<li>'f'</li>\n",
       "\t<li>'f'</li>\n",
       "\t<li>'g'</li>\n",
       "\t<li>'g'</li>\n",
       "\t<li>'l'</li>\n",
       "\t<li>'l'</li>\n",
       "\t<li>'u'</li>\n",
       "\t<li>'u'</li>\n",
       "\t<li>'v'</li>\n",
       "\t<li>'v'</li>\n",
       "\t<li>'w'</li>\n",
       "\t<li>'w'</li>\n",
       "\t<li>'y'</li>\n",
       "\t<li>'y'</li>\n",
       "\t<li>NA</li>\n",
       "</ol>\n"
      ],
      "text/latex": [
       "\\begin{enumerate*}\n",
       "\\item 'a'\n",
       "\\item 'a'\n",
       "\\item 'c'\n",
       "\\item 'c'\n",
       "\\item 'e'\n",
       "\\item 'e'\n",
       "\\item 'f'\n",
       "\\item 'f'\n",
       "\\item 'g'\n",
       "\\item 'g'\n",
       "\\item 'l'\n",
       "\\item 'l'\n",
       "\\item 'u'\n",
       "\\item 'u'\n",
       "\\item 'v'\n",
       "\\item 'v'\n",
       "\\item 'w'\n",
       "\\item 'w'\n",
       "\\item 'y'\n",
       "\\item 'y'\n",
       "\\item NA\n",
       "\\end{enumerate*}\n"
      ],
      "text/markdown": [
       "1. 'a'\n",
       "2. 'a'\n",
       "3. 'c'\n",
       "4. 'c'\n",
       "5. 'e'\n",
       "6. 'e'\n",
       "7. 'f'\n",
       "8. 'f'\n",
       "9. 'g'\n",
       "10. 'g'\n",
       "11. 'l'\n",
       "12. 'l'\n",
       "13. 'u'\n",
       "14. 'u'\n",
       "15. 'v'\n",
       "16. 'v'\n",
       "17. 'w'\n",
       "18. 'w'\n",
       "19. 'y'\n",
       "20. 'y'\n",
       "21. NA\n",
       "\n",
       "\n"
      ],
      "text/plain": [
       " [1] \"a\" \"a\" \"c\" \"c\" \"e\" \"e\" \"f\" \"f\" \"g\" \"g\" \"l\" \"l\" \"u\" \"u\" \"v\" \"v\" \"w\" \"w\" \"y\"\n",
       "[20] \"y\" NA "
      ]
     },
     "metadata": {},
     "output_type": "display_data"
    }
   ],
   "source": [
    "# sort and put na in the end \n",
    "chars_1 %>% str_sort(na_last = T)"
   ]
  },
  {
   "cell_type": "code",
   "execution_count": 15,
   "metadata": {},
   "outputs": [
    {
     "data": {
      "text/html": [
       "<ol class=list-inline>\n",
       "\t<li>NA</li>\n",
       "\t<li>'a'</li>\n",
       "\t<li>'a'</li>\n",
       "\t<li>'c'</li>\n",
       "\t<li>'c'</li>\n",
       "\t<li>'e'</li>\n",
       "\t<li>'e'</li>\n",
       "\t<li>'f'</li>\n",
       "\t<li>'f'</li>\n",
       "\t<li>'g'</li>\n",
       "\t<li>'g'</li>\n",
       "\t<li>'l'</li>\n",
       "\t<li>'l'</li>\n",
       "\t<li>'u'</li>\n",
       "\t<li>'u'</li>\n",
       "\t<li>'v'</li>\n",
       "\t<li>'v'</li>\n",
       "\t<li>'w'</li>\n",
       "\t<li>'w'</li>\n",
       "\t<li>'y'</li>\n",
       "\t<li>'y'</li>\n",
       "</ol>\n"
      ],
      "text/latex": [
       "\\begin{enumerate*}\n",
       "\\item NA\n",
       "\\item 'a'\n",
       "\\item 'a'\n",
       "\\item 'c'\n",
       "\\item 'c'\n",
       "\\item 'e'\n",
       "\\item 'e'\n",
       "\\item 'f'\n",
       "\\item 'f'\n",
       "\\item 'g'\n",
       "\\item 'g'\n",
       "\\item 'l'\n",
       "\\item 'l'\n",
       "\\item 'u'\n",
       "\\item 'u'\n",
       "\\item 'v'\n",
       "\\item 'v'\n",
       "\\item 'w'\n",
       "\\item 'w'\n",
       "\\item 'y'\n",
       "\\item 'y'\n",
       "\\end{enumerate*}\n"
      ],
      "text/markdown": [
       "1. NA\n",
       "2. 'a'\n",
       "3. 'a'\n",
       "4. 'c'\n",
       "5. 'c'\n",
       "6. 'e'\n",
       "7. 'e'\n",
       "8. 'f'\n",
       "9. 'f'\n",
       "10. 'g'\n",
       "11. 'g'\n",
       "12. 'l'\n",
       "13. 'l'\n",
       "14. 'u'\n",
       "15. 'u'\n",
       "16. 'v'\n",
       "17. 'v'\n",
       "18. 'w'\n",
       "19. 'w'\n",
       "20. 'y'\n",
       "21. 'y'\n",
       "\n",
       "\n"
      ],
      "text/plain": [
       " [1] NA  \"a\" \"a\" \"c\" \"c\" \"e\" \"e\" \"f\" \"f\" \"g\" \"g\" \"l\" \"l\" \"u\" \"u\" \"v\" \"v\" \"w\" \"w\"\n",
       "[20] \"y\" \"y\""
      ]
     },
     "metadata": {},
     "output_type": "display_data"
    }
   ],
   "source": [
    "# sort put na in the beginning\n",
    "chars_1 %>% str_sort(na_last = F)"
   ]
  },
  {
   "cell_type": "code",
   "execution_count": 16,
   "metadata": {},
   "outputs": [
    {
     "data": {
      "text/html": [
       "<ol class=list-inline>\n",
       "\t<li>'a'</li>\n",
       "\t<li>'a'</li>\n",
       "\t<li>'c'</li>\n",
       "\t<li>'c'</li>\n",
       "\t<li>'e'</li>\n",
       "\t<li>'e'</li>\n",
       "\t<li>'f'</li>\n",
       "\t<li>'f'</li>\n",
       "\t<li>'g'</li>\n",
       "\t<li>'g'</li>\n",
       "\t<li>'l'</li>\n",
       "\t<li>'l'</li>\n",
       "\t<li>'u'</li>\n",
       "\t<li>'u'</li>\n",
       "\t<li>'v'</li>\n",
       "\t<li>'v'</li>\n",
       "\t<li>'w'</li>\n",
       "\t<li>'w'</li>\n",
       "\t<li>'y'</li>\n",
       "\t<li>'y'</li>\n",
       "</ol>\n"
      ],
      "text/latex": [
       "\\begin{enumerate*}\n",
       "\\item 'a'\n",
       "\\item 'a'\n",
       "\\item 'c'\n",
       "\\item 'c'\n",
       "\\item 'e'\n",
       "\\item 'e'\n",
       "\\item 'f'\n",
       "\\item 'f'\n",
       "\\item 'g'\n",
       "\\item 'g'\n",
       "\\item 'l'\n",
       "\\item 'l'\n",
       "\\item 'u'\n",
       "\\item 'u'\n",
       "\\item 'v'\n",
       "\\item 'v'\n",
       "\\item 'w'\n",
       "\\item 'w'\n",
       "\\item 'y'\n",
       "\\item 'y'\n",
       "\\end{enumerate*}\n"
      ],
      "text/markdown": [
       "1. 'a'\n",
       "2. 'a'\n",
       "3. 'c'\n",
       "4. 'c'\n",
       "5. 'e'\n",
       "6. 'e'\n",
       "7. 'f'\n",
       "8. 'f'\n",
       "9. 'g'\n",
       "10. 'g'\n",
       "11. 'l'\n",
       "12. 'l'\n",
       "13. 'u'\n",
       "14. 'u'\n",
       "15. 'v'\n",
       "16. 'v'\n",
       "17. 'w'\n",
       "18. 'w'\n",
       "19. 'y'\n",
       "20. 'y'\n",
       "\n",
       "\n"
      ],
      "text/plain": [
       " [1] \"a\" \"a\" \"c\" \"c\" \"e\" \"e\" \"f\" \"f\" \"g\" \"g\" \"l\" \"l\" \"u\" \"u\" \"v\" \"v\" \"w\" \"w\" \"y\"\n",
       "[20] \"y\""
      ]
     },
     "metadata": {},
     "output_type": "display_data"
    }
   ],
   "source": [
    "# sort and drop NA\n",
    "chars_1 %>% str_sort(na_last = NA)"
   ]
  },
  {
   "cell_type": "markdown",
   "metadata": {},
   "source": [
    "### `locale`"
   ]
  },
  {
   "cell_type": "code",
   "execution_count": 19,
   "metadata": {},
   "outputs": [
    {
     "data": {
      "text/html": [
       "<ol class=list-inline>\n",
       "\t<li>'a'</li>\n",
       "\t<li>'e'</li>\n",
       "\t<li>'i'</li>\n",
       "\t<li>'o'</li>\n",
       "\t<li>'u'</li>\n",
       "\t<li>'b'</li>\n",
       "\t<li>'c'</li>\n",
       "\t<li>'d'</li>\n",
       "\t<li>'f'</li>\n",
       "\t<li>'g'</li>\n",
       "\t<li>'h'</li>\n",
       "\t<li>'j'</li>\n",
       "\t<li>'k'</li>\n",
       "\t<li>'l'</li>\n",
       "\t<li>'m'</li>\n",
       "\t<li>'n'</li>\n",
       "\t<li>'p'</li>\n",
       "\t<li>'q'</li>\n",
       "\t<li>'r'</li>\n",
       "\t<li>'s'</li>\n",
       "\t<li>'t'</li>\n",
       "\t<li>'v'</li>\n",
       "\t<li>'w'</li>\n",
       "\t<li>'x'</li>\n",
       "\t<li>'y'</li>\n",
       "\t<li>'z'</li>\n",
       "</ol>\n"
      ],
      "text/latex": [
       "\\begin{enumerate*}\n",
       "\\item 'a'\n",
       "\\item 'e'\n",
       "\\item 'i'\n",
       "\\item 'o'\n",
       "\\item 'u'\n",
       "\\item 'b'\n",
       "\\item 'c'\n",
       "\\item 'd'\n",
       "\\item 'f'\n",
       "\\item 'g'\n",
       "\\item 'h'\n",
       "\\item 'j'\n",
       "\\item 'k'\n",
       "\\item 'l'\n",
       "\\item 'm'\n",
       "\\item 'n'\n",
       "\\item 'p'\n",
       "\\item 'q'\n",
       "\\item 'r'\n",
       "\\item 's'\n",
       "\\item 't'\n",
       "\\item 'v'\n",
       "\\item 'w'\n",
       "\\item 'x'\n",
       "\\item 'y'\n",
       "\\item 'z'\n",
       "\\end{enumerate*}\n"
      ],
      "text/markdown": [
       "1. 'a'\n",
       "2. 'e'\n",
       "3. 'i'\n",
       "4. 'o'\n",
       "5. 'u'\n",
       "6. 'b'\n",
       "7. 'c'\n",
       "8. 'd'\n",
       "9. 'f'\n",
       "10. 'g'\n",
       "11. 'h'\n",
       "12. 'j'\n",
       "13. 'k'\n",
       "14. 'l'\n",
       "15. 'm'\n",
       "16. 'n'\n",
       "17. 'p'\n",
       "18. 'q'\n",
       "19. 'r'\n",
       "20. 's'\n",
       "21. 't'\n",
       "22. 'v'\n",
       "23. 'w'\n",
       "24. 'x'\n",
       "25. 'y'\n",
       "26. 'z'\n",
       "\n",
       "\n"
      ],
      "text/plain": [
       " [1] \"a\" \"e\" \"i\" \"o\" \"u\" \"b\" \"c\" \"d\" \"f\" \"g\" \"h\" \"j\" \"k\" \"l\" \"m\" \"n\" \"p\" \"q\" \"r\"\n",
       "[20] \"s\" \"t\" \"v\" \"w\" \"x\" \"y\" \"z\""
      ]
     },
     "metadata": {},
     "output_type": "display_data"
    }
   ],
   "source": [
    "str_sort(letters, locale = \"haw\")"
   ]
  },
  {
   "cell_type": "markdown",
   "metadata": {},
   "source": [
    "### `numeric`"
   ]
  },
  {
   "cell_type": "code",
   "execution_count": 17,
   "metadata": {},
   "outputs": [
    {
     "data": {
      "text/html": [
       "<ol class=list-inline>\n",
       "\t<li>'1'</li>\n",
       "\t<li>'12'</li>\n",
       "\t<li>'3'</li>\n",
       "</ol>\n"
      ],
      "text/latex": [
       "\\begin{enumerate*}\n",
       "\\item '1'\n",
       "\\item '12'\n",
       "\\item '3'\n",
       "\\end{enumerate*}\n"
      ],
      "text/markdown": [
       "1. '1'\n",
       "2. '12'\n",
       "3. '3'\n",
       "\n",
       "\n"
      ],
      "text/plain": [
       "[1] \"1\"  \"12\" \"3\" "
      ]
     },
     "metadata": {},
     "output_type": "display_data"
    }
   ],
   "source": [
    "# sort as character\n",
    "c('1', '12', '3') %>% str_sort()"
   ]
  },
  {
   "cell_type": "code",
   "execution_count": 18,
   "metadata": {},
   "outputs": [
    {
     "data": {
      "text/html": [
       "<ol class=list-inline>\n",
       "\t<li>'1'</li>\n",
       "\t<li>'3'</li>\n",
       "\t<li>'12'</li>\n",
       "</ol>\n"
      ],
      "text/latex": [
       "\\begin{enumerate*}\n",
       "\\item '1'\n",
       "\\item '3'\n",
       "\\item '12'\n",
       "\\end{enumerate*}\n"
      ],
      "text/markdown": [
       "1. '1'\n",
       "2. '3'\n",
       "3. '12'\n",
       "\n",
       "\n"
      ],
      "text/plain": [
       "[1] \"1\"  \"3\"  \"12\""
      ]
     },
     "metadata": {},
     "output_type": "display_data"
    }
   ],
   "source": [
    "# sort as numeric\n",
    "c('1', '12', '3') %>% str_sort(numeric = T) #  1 < 3 < 12"
   ]
  }
 ],
 "metadata": {
  "kernelspec": {
   "display_name": "R",
   "language": "R",
   "name": "ir"
  },
  "language_info": {
   "codemirror_mode": "r",
   "file_extension": ".r",
   "mimetype": "text/x-r-source",
   "name": "R",
   "pygments_lexer": "r",
   "version": "3.6.1"
  }
 },
 "nbformat": 4,
 "nbformat_minor": 2
}
