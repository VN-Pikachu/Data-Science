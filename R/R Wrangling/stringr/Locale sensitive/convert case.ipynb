{
 "cells": [
  {
   "cell_type": "code",
   "execution_count": 3,
   "metadata": {},
   "outputs": [],
   "source": [
    "library(tidyverse)"
   ]
  },
  {
   "cell_type": "markdown",
   "metadata": {},
   "source": [
    "# Convert case of a string"
   ]
  },
  {
   "cell_type": "markdown",
   "metadata": {},
   "source": [
    "```r\n",
    "str_to_upper(string, locale = \"en\")\n",
    "\n",
    "str_to_lower(string, locale = \"en\")\n",
    "\n",
    "str_to_title(string, locale = \"en\")\n",
    "\n",
    "str_to_sentence(string, locale = \"en\")\n",
    "```"
   ]
  },
  {
   "cell_type": "markdown",
   "metadata": {},
   "source": [
    "**Arguments**  \n",
    "`locale`\t\n",
    "Locale to use for translations. Defaults to \"en\" (English) to ensure consistent default ordering across platforms."
   ]
  },
  {
   "cell_type": "markdown",
   "metadata": {},
   "source": [
    "# Locale"
   ]
  },
  {
   "cell_type": "markdown",
   "metadata": {},
   "source": [
    " changing case is more complicated than it might at first appear because different languages have different rules for changing case. You can pick which set of rules to use by specifying a locale:"
   ]
  },
  {
   "cell_type": "code",
   "execution_count": 5,
   "metadata": {},
   "outputs": [
    {
     "data": {
      "text/html": [
       "<ol class=list-inline>\n",
       "\t<li>'I'</li>\n",
       "\t<li>'I'</li>\n",
       "</ol>\n"
      ],
      "text/latex": [
       "\\begin{enumerate*}\n",
       "\\item 'I'\n",
       "\\item 'I'\n",
       "\\end{enumerate*}\n"
      ],
      "text/markdown": [
       "1. 'I'\n",
       "2. 'I'\n",
       "\n",
       "\n"
      ],
      "text/plain": [
       "[1] \"I\" \"I\""
      ]
     },
     "metadata": {},
     "output_type": "display_data"
    },
    {
     "data": {
      "text/html": [
       "<ol class=list-inline>\n",
       "\t<li>'İ'</li>\n",
       "\t<li>'İ'</li>\n",
       "</ol>\n"
      ],
      "text/latex": [
       "\\begin{enumerate*}\n",
       "\\item 'İ'\n",
       "\\item 'İ'\n",
       "\\end{enumerate*}\n"
      ],
      "text/markdown": [
       "1. 'İ'\n",
       "2. 'İ'\n",
       "\n",
       "\n"
      ],
      "text/plain": [
       "[1] \"I\" \"I\""
      ]
     },
     "metadata": {},
     "output_type": "display_data"
    }
   ],
   "source": [
    "# Turkish has two i's: with and without a dot, and it\n",
    "# has a different rule for capitalising them:\n",
    "\n",
    "c(\"i\", \"ı\") %>% str_to_upper()\n",
    "\n",
    "c(\"i\", \"ı\") %>% str_to_upper(locale = 'tr')\n"
   ]
  },
  {
   "cell_type": "markdown",
   "metadata": {},
   "source": [
    "The locale is specified as a ISO 639 language code, which is a two or three letter abbreviation. If you don’t already know the code for your language, Wikipedia has a good list. If you leave the locale blank, it will use the current locale, as provided by your operating system."
   ]
  },
  {
   "cell_type": "markdown",
   "metadata": {},
   "source": [
    "# Examples"
   ]
  },
  {
   "cell_type": "code",
   "execution_count": 2,
   "metadata": {},
   "outputs": [],
   "source": [
    "dog <- \"The quick brown dog\""
   ]
  },
  {
   "cell_type": "code",
   "execution_count": 5,
   "metadata": {},
   "outputs": [
    {
     "data": {
      "text/html": [
       "'THE QUICK BROWN DOG'"
      ],
      "text/latex": [
       "'THE QUICK BROWN DOG'"
      ],
      "text/markdown": [
       "'THE QUICK BROWN DOG'"
      ],
      "text/plain": [
       "[1] \"THE QUICK BROWN DOG\""
      ]
     },
     "metadata": {},
     "output_type": "display_data"
    }
   ],
   "source": [
    "dog %>% str_to_upper()  #str.upper, numpy.char.upper"
   ]
  },
  {
   "cell_type": "code",
   "execution_count": 6,
   "metadata": {},
   "outputs": [
    {
     "data": {
      "text/html": [
       "'the quick brown dog'"
      ],
      "text/latex": [
       "'the quick brown dog'"
      ],
      "text/markdown": [
       "'the quick brown dog'"
      ],
      "text/plain": [
       "[1] \"the quick brown dog\""
      ]
     },
     "metadata": {},
     "output_type": "display_data"
    }
   ],
   "source": [
    "dog %>% str_to_lower() #str.lower, numpy.char.lower"
   ]
  },
  {
   "cell_type": "code",
   "execution_count": 7,
   "metadata": {},
   "outputs": [
    {
     "data": {
      "text/html": [
       "'The Quick Brown Dog'"
      ],
      "text/latex": [
       "'The Quick Brown Dog'"
      ],
      "text/markdown": [
       "'The Quick Brown Dog'"
      ],
      "text/plain": [
       "[1] \"The Quick Brown Dog\""
      ]
     },
     "metadata": {},
     "output_type": "display_data"
    }
   ],
   "source": [
    "dog %>% str_to_title() #str.title, numpy.char.title"
   ]
  },
  {
   "cell_type": "code",
   "execution_count": 10,
   "metadata": {},
   "outputs": [
    {
     "data": {
      "text/html": [
       "'The quick brown dog'"
      ],
      "text/latex": [
       "'The quick brown dog'"
      ],
      "text/markdown": [
       "'The quick brown dog'"
      ],
      "text/plain": [
       "[1] \"The quick brown dog\""
      ]
     },
     "metadata": {},
     "output_type": "display_data"
    }
   ],
   "source": [
    "dog %>% str_to_sentence() #str.capitalize, numpy.char.capitalize"
   ]
  },
  {
   "cell_type": "code",
   "execution_count": 3,
   "metadata": {},
   "outputs": [
    {
     "data": {
      "text/html": [
       "'I'"
      ],
      "text/latex": [
       "'I'"
      ],
      "text/markdown": [
       "'I'"
      ],
      "text/plain": [
       "[1] \"I\""
      ]
     },
     "metadata": {},
     "output_type": "display_data"
    },
    {
     "data": {
      "text/html": [
       "'İ'"
      ],
      "text/latex": [
       "'İ'"
      ],
      "text/markdown": [
       "'İ'"
      ],
      "text/plain": [
       "[1] \"I\""
      ]
     },
     "metadata": {},
     "output_type": "display_data"
    }
   ],
   "source": [
    "# Locale matters!\n",
    "str_to_upper(\"i\") # English\n",
    "#> [1] \"I\"\n",
    "str_to_upper(\"i\", \"tr\") # Turkish\n",
    "#> [1] \"İ\""
   ]
  }
 ],
 "metadata": {
  "kernelspec": {
   "display_name": "R",
   "language": "R",
   "name": "ir"
  },
  "language_info": {
   "codemirror_mode": "r",
   "file_extension": ".r",
   "mimetype": "text/x-r-source",
   "name": "R",
   "pygments_lexer": "r",
   "version": "3.6.1"
  }
 },
 "nbformat": 4,
 "nbformat_minor": 2
}
