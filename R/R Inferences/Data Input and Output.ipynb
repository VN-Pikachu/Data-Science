{
 "cells": [
  {
   "cell_type": "markdown",
   "metadata": {},
   "source": [
    "# Data Input"
   ]
  },
  {
   "cell_type": "markdown",
   "metadata": {},
   "source": [
    "Reads a file in table format and creates a data frame from it, with cases corresponding to lines and variables to fields in the file"
   ]
  },
  {
   "cell_type": "markdown",
   "metadata": {},
   "source": [
    "**Usage**"
   ]
  },
  {
   "cell_type": "markdown",
   "metadata": {},
   "source": [
    "```R\n",
    "read.table(file, header = FALSE, sep = \"\", quote = \"\\\"'\",\n",
    "           dec = \".\", numerals = c(\"allow.loss\", \"warn.loss\", \"no.loss\"),\n",
    "           row.names, col.names, as.is = !stringsAsFactors,\n",
    "           na.strings = \"NA\", colClasses = NA, nrows = -1,\n",
    "           skip = 0, check.names = TRUE, fill = !blank.lines.skip,\n",
    "           strip.white = FALSE, blank.lines.skip = TRUE,\n",
    "           comment.char = \"#\",\n",
    "           allowEscapes = FALSE, flush = FALSE,\n",
    "           stringsAsFactors = default.stringsAsFactors(),\n",
    "           fileEncoding = \"\", encoding = \"unknown\", text, skipNul = FALSE)\n",
    "\n",
    "read.csv(file, header = TRUE, sep = \",\", quote = \"\\\"\",\n",
    "         dec = \".\", fill = TRUE, comment.char = \"\", ...)\n",
    "\n",
    "read.csv2(file, header = TRUE, sep = \";\", quote = \"\\\"\",\n",
    "          dec = \",\", fill = TRUE, comment.char = \"\", ...)\n",
    "\n",
    "read.delim(file, header = TRUE, sep = \"\\t\", quote = \"\\\"\",\n",
    "           dec = \".\", fill = TRUE, comment.char = \"\", ...)\n",
    "\n",
    "read.delim2(file, header = TRUE, sep = \"\\t\", quote = \"\\\"\",\n",
    "            dec = \",\", fill = TRUE, comment.char = \"\", ...)\n",
    "```"
   ]
  },
  {
   "cell_type": "markdown",
   "metadata": {},
   "source": [
    "**Arguments**"
   ]
  },
  {
   "cell_type": "markdown",
   "metadata": {},
   "source": [
    "`file`\t\n",
    "the name of the file which the data are to be read from. Each row of the table appears as one line of the file. If it does not contain an absolute path, the file name is relative to the current working directory, getwd(). Tilde-expansion is performed where supported. This can be a compressed file (see file).\n",
    "\n",
    "Alternatively, file can be a readable text-mode connection (which will be opened for reading if necessary, and if so closed (and hence destroyed) at the end of the function call). (If stdin() is used, the prompts for lines may be somewhat confusing. Terminate input with a blank line or an EOF signal, Ctrl-D on Unix and Ctrl-Z on Windows. Any pushback on stdin() will be cleared before return.)\n",
    "\n",
    "file can also be a complete URL. (For the supported URL schemes, see the ‘URLs’ section of the help for url.)\n",
    "\n",
    "`header`\t\n",
    "a logical value indicating whether the file contains the names of the variables as its first line. If missing, the value is determined from the file format: header is set to TRUE if and only if the first row contains one fewer field than the number of columns.\n",
    "\n",
    "`sep`\t\n",
    "the field separator character. Values on each line of the file are separated by this character. If sep = \"\" (the default for read.table) the separator is ‘white space’, that is one or more spaces, tabs, newlines or carriage returns.\n",
    "\n",
    "`quote`\t\n",
    "the set of quoting characters. To disable quoting altogether, use quote = \"\". See scan for the behaviour on quotes embedded in quotes. Quoting is only considered for columns read as character, which is all of them unless colClasses is specified.\n",
    "\n",
    "`dec`\t\n",
    "the character used in the file for decimal points.\n",
    "\n",
    "`numerals`\t\n",
    "string indicating how to convert numbers whose conversion to double precision would lose accuracy, see type.convert. Can be abbreviated. (Applies also to complex-number inputs.)\n",
    "\n",
    "`row.names`\t\n",
    "a vector of row names. This can be a vector giving the actual row names, or a single number giving the column of the table which contains the row names, or character string giving the name of the table column containing the row names.\n",
    "\n",
    "If there is a header and the first row contains one fewer field than the number of columns, the first column in the input is used for the row names. Otherwise if row.names is missing, the rows are numbered.\n",
    "\n",
    "Using row.names = NULL forces row numbering. Missing or NULL row.names generate row names that are considered to be ‘automatic’ (and not preserved by as.matrix).\n",
    "\n",
    "`col.names`\t\n",
    "a vector of optional names for the variables. The default is to use \"V\" followed by the column number.\n",
    "\n",
    "`as.is`\t\n",
    "the default behavior of read.table is to convert character variables (which are not converted to logical, numeric or complex) to factors. The variable as.is controls the conversion of columns not otherwise specified by colClasses. Its value is either a vector of logicals (values are recycled if necessary), or a vector of numeric or character indices which specify which columns should not be converted to factors.\n",
    "\n",
    "Note: to suppress all conversions including those of numeric columns, set colClasses = \"character\".\n",
    "\n",
    "Note that as.is is specified per column (not per variable) and so includes the column of row names (if any) and any columns to be skipped.\n",
    "\n",
    "`na.strings`\t\n",
    "a character vector of strings which are to be interpreted as NA values. Blank fields are also considered to be missing values in logical, integer, numeric and complex fields. Note that the test happens after white space is stripped from the input, so na.strings values may need their own white space stripped in advance.\n",
    "\n",
    "`colClasses`\t\n",
    "character. A vector of classes to be assumed for the columns. If unnamed, recycled as necessary. If named, names are matched with unspecified values being taken to be NA.\n",
    "\n",
    "Possible values are NA (the default, when type.convert is used), \"NULL\" (when the column is skipped), one of the atomic vector classes (logical, integer, numeric, complex, character, raw), or \"factor\", \"Date\" or \"POSIXct\". Otherwise there needs to be an as method (from package methods) for conversion from \"character\" to the specified formal class.\n",
    "\n",
    "Note that colClasses is specified per column (not per variable) and so includes the column of row names (if any).\n",
    "\n",
    "`nrows`\t\n",
    "integer: the maximum number of rows to read in. Negative and other invalid values are ignored.\n",
    "\n",
    "`skip`\t\n",
    "integer: the number of lines of the data file to skip before beginning to read data.\n",
    "\n",
    "`check.names`\t\n",
    "logical. If TRUE then the names of the variables in the data frame are checked to ensure that they are syntactically valid variable names. If necessary they are adjusted (by make.names) so that they are, and also to ensure that there are no duplicates.\n",
    "\n",
    "`fill`\t\n",
    "logical. If TRUE then in case the rows have unequal length, blank fields are implicitly added. See ‘Details’.\n",
    "\n",
    "`strip.white`\t\n",
    "logical. Used only when sep has been specified, and allows the stripping of leading and trailing white space from unquoted character fields (numeric fields are always stripped). See scan for further details (including the exact meaning of ‘white space’), remembering that the columns may include the row names.\n",
    "\n",
    "`blank.lines.skip`\t\n",
    "logical: if TRUE blank lines in the input are ignored.\n",
    "\n",
    "`comment.char`\t\n",
    "character: a character vector of length one containing a single character or an empty string. Use \"\" to turn off the interpretation of comments altogether.\n",
    "\n",
    "`allowEscapes`\t\n",
    "logical. Should C-style escapes such as \\n be processed or read verbatim (the default)? Note that if not within quotes these could be interpreted as a delimiter (but not as a comment character). For more details see scan.\n",
    "\n",
    "`flush`\t\n",
    "logical: if TRUE, scan will flush to the end of the line after reading the last of the fields requested. This allows putting comments after the last field.\n",
    "\n",
    "`stringsAsFactors`\t\n",
    "logical: should character vectors be converted to factors? Note that this is overridden by as.is and colClasses, both of which allow finer control.\n",
    "\n",
    "`fileEncoding`\t\n",
    "character string: if non-empty declares the encoding used on a file (not a connection) so the character data can be re-encoded. See the ‘Encoding’ section of the help for file, the ‘R Data Import/Export Manual’ and ‘Note’.\n",
    "\n",
    "`encoding`\t\n",
    "encoding to be assumed for input strings. It is used to mark character strings as known to be in Latin-1 or UTF-8 (see Encoding): it is not used to re-encode the input, but allows R to handle encoded strings in their native encoding (if one of those two). See ‘Value’ and ‘Note’.\n",
    "\n",
    "`text`\t\n",
    "character string: if file is not supplied and this is, then data are read from the value of text via a text connection. Notice that a literal string can be used to include (small) data sets within R code.\n",
    "\n",
    "`skipNul`\t\n",
    "logical: should nuls be skipped?\n",
    "\n",
    "...\t\n",
    "Further arguments to be passed to read.table."
   ]
  },
  {
   "cell_type": "markdown",
   "metadata": {},
   "source": [
    "# Data Output"
   ]
  },
  {
   "cell_type": "markdown",
   "metadata": {},
   "source": [
    "**Usage**"
   ]
  },
  {
   "cell_type": "markdown",
   "metadata": {},
   "source": [
    "```R\n",
    "write.table(x, file = \"\", append = FALSE, quote = TRUE, sep = \" \",\n",
    "            eol = \"\\n\", na = \"NA\", dec = \".\", row.names = TRUE,\n",
    "            col.names = TRUE, qmethod = c(\"escape\", \"double\"),\n",
    "            fileEncoding = \"\")\n",
    "\n",
    "write.csv(...)\n",
    "write.csv2(...)\n",
    "```"
   ]
  },
  {
   "cell_type": "markdown",
   "metadata": {},
   "source": [
    "**Arguments**  \n",
    "`x`\t\n",
    "the object to be written, preferably a matrix or data frame. If not, it is attempted to coerce x to a data frame.\n",
    "\n",
    "`file`\t\n",
    "either a character string naming a file or a connection open for writing. \"\" indicates output to the console.\n",
    "\n",
    "`append`\t\n",
    "logical. Only relevant if file is a character string. If TRUE, the output is appended to the file. If FALSE, any existing file of the name is destroyed.\n",
    "\n",
    "`quote`\t\n",
    "a logical value (TRUE or FALSE) or a numeric vector. If TRUE, any character or factor columns will be surrounded by double quotes. If a numeric vector, its elements are taken as the indices of columns to quote. In both cases, row and column names are quoted if they are written. If FALSE, nothing is quoted.\n",
    "\n",
    "`sep`\t\n",
    "the field separator string. Values within each row of x are separated by this string.\n",
    "\n",
    "`eol`\t\n",
    "the character(s) to print at the end of each line (row). For example, eol = \"\\r\\n\" will produce Windows' line endings on a Unix-alike OS, and eol = \"\\r\" will produce files as expected by Excel:mac 2004.\n",
    "\n",
    "`na`\t\n",
    "the string to use for missing values in the data.\n",
    "\n",
    "`dec`\t\n",
    "the string to use for decimal points in numeric or complex columns: must be a single character.\n",
    "\n",
    "`row.names`\t\n",
    "either a logical value indicating whether the row names of x are to be written along with x, or a character vector of row names to be written.\n",
    "\n",
    "`col.names`\t\n",
    "either a logical value indicating whether the column names of x are to be written along with x, or a character vector of column names to be written. See the section on ‘CSV files’ for the meaning of col.names = NA.\n",
    "\n",
    "`qmethod`\t\n",
    "a character string specifying how to deal with embedded double quote characters when quoting strings. Must be one of \"escape\" (default for write.table), in which case the quote character is escaped in C style by a backslash, or \"double\" (default for write.csv and write.csv2), in which case it is doubled. You can specify just the initial letter.\n",
    "\n",
    "`fileEncoding`\t\n",
    "character string: if non-empty declares the encoding to be used on a file (not a connection) so the character data can be re-encoded as they are written. See file.\n",
    "\n",
    "`...`\t\n",
    "arguments to write.table: append, col.names, sep, dec and qmethod cannot be altered."
   ]
  },
  {
   "cell_type": "code",
   "execution_count": null,
   "metadata": {},
   "outputs": [],
   "source": []
  }
 ],
 "metadata": {
  "kernelspec": {
   "display_name": "Python 3",
   "language": "python",
   "name": "python3"
  },
  "language_info": {
   "codemirror_mode": {
    "name": "ipython",
    "version": 3
   },
   "file_extension": ".py",
   "mimetype": "text/x-python",
   "name": "python",
   "nbconvert_exporter": "python",
   "pygments_lexer": "ipython3",
   "version": "3.7.3"
  }
 },
 "nbformat": 4,
 "nbformat_minor": 2
}
