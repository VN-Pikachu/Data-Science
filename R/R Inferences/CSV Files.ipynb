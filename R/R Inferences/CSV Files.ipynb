{
 "cells": [
  {
   "cell_type": "code",
   "execution_count": 8,
   "metadata": {},
   "outputs": [
    {
     "data": {
      "text/html": [
       "'C:/Users/dell/PycharmProjects/MachineLearning/Pandas/datasets'"
      ],
      "text/latex": [
       "'C:/Users/dell/PycharmProjects/MachineLearning/Pandas/datasets'"
      ],
      "text/markdown": [
       "'C:/Users/dell/PycharmProjects/MachineLearning/Pandas/datasets'"
      ],
      "text/plain": [
       "[1] \"C:/Users/dell/PycharmProjects/MachineLearning/Pandas/datasets\""
      ]
     },
     "metadata": {},
     "output_type": "display_data"
    }
   ],
   "source": [
    "setwd('C:/Users/dell/PycharmProjects/MachineLearning/Pandas/datasets')\n",
    "getwd()"
   ]
  },
  {
   "cell_type": "markdown",
   "metadata": {},
   "source": [
    "# Reading a CSV File"
   ]
  },
  {
   "cell_type": "markdown",
   "metadata": {},
   "source": [
    "**`read.csv()`**"
   ]
  },
  {
   "cell_type": "markdown",
   "metadata": {},
   "source": [
    "```R\n",
    "read.csv(file, header = TRUE, sep = \",\", quote = \"\\\"\",\n",
    "         dec = \".\", fill = TRUE, comment.char = \"\", ...)\n",
    "```"
   ]
  },
  {
   "cell_type": "markdown",
   "metadata": {},
   "source": [
    "**Arguments**"
   ]
  },
  {
   "cell_type": "markdown",
   "metadata": {},
   "source": [
    "`file`\t\n",
    "the name of the file which the data are to be read from. Each row of the table appears as one line of the file. If it does not contain an absolute path, the file name is relative to the current working directory, getwd(). Tilde-expansion is performed where supported. This can be a compressed file (see file).\n",
    "\n",
    "Alternatively, file can be a readable text-mode connection (which will be opened for reading if necessary, and if so closed (and hence destroyed) at the end of the function call). (If stdin() is used, the prompts for lines may be somewhat confusing. Terminate input with a blank line or an EOF signal, Ctrl-D on Unix and Ctrl-Z on Windows. Any pushback on stdin() will be cleared before return.)\n",
    "\n",
    "file can also be a complete URL. (For the supported URL schemes, see the ‘URLs’ section of the help for url.)\n",
    "\n",
    "`header`\t\n",
    "a logical value indicating whether the file contains the names of the variables as its first line. If missing, the value is determined from the file format: header is set to TRUE if and only if the first row contains one fewer field than the number of columns.\n",
    "\n",
    "`sep`\t\n",
    "the field separator character. Values on each line of the file are separated by this character. If sep = \"\" (the default for read.table) the separator is ‘white space’, that is one or more spaces, tabs, newlines or carriage returns.\n",
    "\n",
    "`quote`\t\n",
    "the set of quoting characters. To disable quoting altogether, use quote = \"\". See scan for the behaviour on quotes embedded in quotes. Quoting is only considered for columns read as character, which is all of them unless colClasses is specified.\n",
    "\n",
    "`dec`\t\n",
    "the character used in the file for decimal points.\n",
    "\n",
    "`fill`\t\n",
    "logical. If TRUE then in case the rows have unequal length, blank fields are implicitly added. See ‘Details’.\n",
    "\n",
    "`comment.char`\t\n",
    "character: a character vector of length one containing a single character or an empty string. Use \"\" to turn off the interpretation of comments altogether."
   ]
  },
  {
   "cell_type": "code",
   "execution_count": 16,
   "metadata": {},
   "outputs": [
    {
     "data": {
      "text/html": [
       "<table>\n",
       "<thead><tr><th scope=col>X.</th><th scope=col>Name</th><th scope=col>Type.1</th><th scope=col>Type.2</th><th scope=col>Total</th><th scope=col>HP</th><th scope=col>Attack</th><th scope=col>Defense</th><th scope=col>Sp..Atk</th><th scope=col>Sp..Def</th><th scope=col>Speed</th><th scope=col>Generation</th><th scope=col>Legendary</th></tr></thead>\n",
       "<tbody>\n",
       "\t<tr><td>1                    </td><td>Bulbasaur            </td><td>Grass                </td><td>Poison               </td><td>318                  </td><td>45                   </td><td> 49                  </td><td> 49                  </td><td> 65                  </td><td> 65                  </td><td>45                   </td><td>1                    </td><td>False                </td></tr>\n",
       "\t<tr><td>2                    </td><td>Ivysaur              </td><td>Grass                </td><td>Poison               </td><td>405                  </td><td>60                   </td><td> 62                  </td><td> 63                  </td><td> 80                  </td><td> 80                  </td><td>60                   </td><td>1                    </td><td>False                </td></tr>\n",
       "\t<tr><td>3                    </td><td>Venusaur             </td><td>Grass                </td><td>Poison               </td><td>525                  </td><td>80                   </td><td> 82                  </td><td> 83                  </td><td>100                  </td><td>100                  </td><td>80                   </td><td>1                    </td><td>False                </td></tr>\n",
       "\t<tr><td>3                    </td><td>VenusaurMega Venusaur</td><td>Grass                </td><td>Poison               </td><td>625                  </td><td>80                   </td><td>100                  </td><td>123                  </td><td>122                  </td><td>120                  </td><td>80                   </td><td>1                    </td><td>False                </td></tr>\n",
       "\t<tr><td>4                    </td><td>Charmander           </td><td>Fire                 </td><td>                     </td><td>309                  </td><td>39                   </td><td> 52                  </td><td> 43                  </td><td> 60                  </td><td> 50                  </td><td>65                   </td><td>1                    </td><td>False                </td></tr>\n",
       "\t<tr><td>5                    </td><td>Charmeleon           </td><td>Fire                 </td><td>                     </td><td>405                  </td><td>58                   </td><td> 64                  </td><td> 58                  </td><td> 80                  </td><td> 65                  </td><td>80                   </td><td>1                    </td><td>False                </td></tr>\n",
       "</tbody>\n",
       "</table>\n"
      ],
      "text/latex": [
       "\\begin{tabular}{r|lllllllllllll}\n",
       " X. & Name & Type.1 & Type.2 & Total & HP & Attack & Defense & Sp..Atk & Sp..Def & Speed & Generation & Legendary\\\\\n",
       "\\hline\n",
       "\t 1                     & Bulbasaur             & Grass                 & Poison                & 318                   & 45                    &  49                   &  49                   &  65                   &  65                   & 45                    & 1                     & False                \\\\\n",
       "\t 2                     & Ivysaur               & Grass                 & Poison                & 405                   & 60                    &  62                   &  63                   &  80                   &  80                   & 60                    & 1                     & False                \\\\\n",
       "\t 3                     & Venusaur              & Grass                 & Poison                & 525                   & 80                    &  82                   &  83                   & 100                   & 100                   & 80                    & 1                     & False                \\\\\n",
       "\t 3                     & VenusaurMega Venusaur & Grass                 & Poison                & 625                   & 80                    & 100                   & 123                   & 122                   & 120                   & 80                    & 1                     & False                \\\\\n",
       "\t 4                     & Charmander            & Fire                  &                       & 309                   & 39                    &  52                   &  43                   &  60                   &  50                   & 65                    & 1                     & False                \\\\\n",
       "\t 5                     & Charmeleon            & Fire                  &                       & 405                   & 58                    &  64                   &  58                   &  80                   &  65                   & 80                    & 1                     & False                \\\\\n",
       "\\end{tabular}\n"
      ],
      "text/markdown": [
       "\n",
       "| X. | Name | Type.1 | Type.2 | Total | HP | Attack | Defense | Sp..Atk | Sp..Def | Speed | Generation | Legendary |\n",
       "|---|---|---|---|---|---|---|---|---|---|---|---|---|\n",
       "| 1                     | Bulbasaur             | Grass                 | Poison                | 318                   | 45                    |  49                   |  49                   |  65                   |  65                   | 45                    | 1                     | False                 |\n",
       "| 2                     | Ivysaur               | Grass                 | Poison                | 405                   | 60                    |  62                   |  63                   |  80                   |  80                   | 60                    | 1                     | False                 |\n",
       "| 3                     | Venusaur              | Grass                 | Poison                | 525                   | 80                    |  82                   |  83                   | 100                   | 100                   | 80                    | 1                     | False                 |\n",
       "| 3                     | VenusaurMega Venusaur | Grass                 | Poison                | 625                   | 80                    | 100                   | 123                   | 122                   | 120                   | 80                    | 1                     | False                 |\n",
       "| 4                     | Charmander            | Fire                  |                       | 309                   | 39                    |  52                   |  43                   |  60                   |  50                   | 65                    | 1                     | False                 |\n",
       "| 5                     | Charmeleon            | Fire                  |                       | 405                   | 58                    |  64                   |  58                   |  80                   |  65                   | 80                    | 1                     | False                 |\n",
       "\n"
      ],
      "text/plain": [
       "  X. Name                  Type.1 Type.2 Total HP Attack Defense Sp..Atk\n",
       "1 1  Bulbasaur             Grass  Poison 318   45  49     49      65    \n",
       "2 2  Ivysaur               Grass  Poison 405   60  62     63      80    \n",
       "3 3  Venusaur              Grass  Poison 525   80  82     83     100    \n",
       "4 3  VenusaurMega Venusaur Grass  Poison 625   80 100    123     122    \n",
       "5 4  Charmander            Fire          309   39  52     43      60    \n",
       "6 5  Charmeleon            Fire          405   58  64     58      80    \n",
       "  Sp..Def Speed Generation Legendary\n",
       "1  65     45    1          False    \n",
       "2  80     60    1          False    \n",
       "3 100     80    1          False    \n",
       "4 120     80    1          False    \n",
       "5  50     65    1          False    \n",
       "6  65     80    1          False    "
      ]
     },
     "metadata": {},
     "output_type": "display_data"
    }
   ],
   "source": [
    "#reading a csv file\n",
    "pokemon <- read.csv('./pokemon.csv')\n",
    "head(pokemon)"
   ]
  },
  {
   "cell_type": "code",
   "execution_count": 17,
   "metadata": {},
   "outputs": [
    {
     "name": "stdout",
     "output_type": "stream",
     "text": [
      "'data.frame':\t800 obs. of  13 variables:\n",
      " $ X.        : int  1 2 3 3 4 5 6 6 6 7 ...\n",
      " $ Name      : Factor w/ 800 levels \"Abomasnow\",\"AbomasnowMega Abomasnow\",..: 81 330 746 747 103 104 100 101 102 666 ...\n",
      " $ Type.1    : Factor w/ 18 levels \"Bug\",\"Dark\",\"Dragon\",..: 10 10 10 10 7 7 7 7 7 18 ...\n",
      " $ Type.2    : Factor w/ 19 levels \"\",\"Bug\",\"Dark\",..: 15 15 15 15 1 1 9 4 9 1 ...\n",
      " $ Total     : int  318 405 525 625 309 405 534 634 634 314 ...\n",
      " $ HP        : int  45 60 80 80 39 58 78 78 78 44 ...\n",
      " $ Attack    : int  49 62 82 100 52 64 84 130 104 48 ...\n",
      " $ Defense   : int  49 63 83 123 43 58 78 111 78 65 ...\n",
      " $ Sp..Atk   : int  65 80 100 122 60 80 109 130 159 50 ...\n",
      " $ Sp..Def   : int  65 80 100 120 50 65 85 85 115 64 ...\n",
      " $ Speed     : int  45 60 80 80 65 80 100 100 100 43 ...\n",
      " $ Generation: int  1 1 1 1 1 1 1 1 1 1 ...\n",
      " $ Legendary : Factor w/ 2 levels \"False\",\"True\": 1 1 1 1 1 1 1 1 1 1 ...\n"
     ]
    }
   ],
   "source": [
    "str(pokemon)"
   ]
  },
  {
   "cell_type": "code",
   "execution_count": 18,
   "metadata": {},
   "outputs": [
    {
     "data": {
      "text/plain": [
       "       X.                             Name         Type.1         Type.2   \n",
       " Min.   :  1.0   Abomasnow              :  1   Water  :112           :386  \n",
       " 1st Qu.:184.8   AbomasnowMega Abomasnow:  1   Normal : 98   Flying  : 97  \n",
       " Median :364.5   Abra                   :  1   Grass  : 70   Ground  : 35  \n",
       " Mean   :362.8   Absol                  :  1   Bug    : 69   Poison  : 34  \n",
       " 3rd Qu.:539.2   AbsolMega Absol        :  1   Psychic: 57   Psychic : 33  \n",
       " Max.   :721.0   Accelgor               :  1   Fire   : 52   Fighting: 26  \n",
       "                 (Other)                :794   (Other):342   (Other) :189  \n",
       "     Total             HP             Attack       Defense      \n",
       " Min.   :180.0   Min.   :  1.00   Min.   :  5   Min.   :  5.00  \n",
       " 1st Qu.:330.0   1st Qu.: 50.00   1st Qu.: 55   1st Qu.: 50.00  \n",
       " Median :450.0   Median : 65.00   Median : 75   Median : 70.00  \n",
       " Mean   :435.1   Mean   : 69.26   Mean   : 79   Mean   : 73.84  \n",
       " 3rd Qu.:515.0   3rd Qu.: 80.00   3rd Qu.:100   3rd Qu.: 90.00  \n",
       " Max.   :780.0   Max.   :255.00   Max.   :190   Max.   :230.00  \n",
       "                                                                \n",
       "    Sp..Atk          Sp..Def          Speed          Generation    Legendary  \n",
       " Min.   : 10.00   Min.   : 20.0   Min.   :  5.00   Min.   :1.000   False:735  \n",
       " 1st Qu.: 49.75   1st Qu.: 50.0   1st Qu.: 45.00   1st Qu.:2.000   True : 65  \n",
       " Median : 65.00   Median : 70.0   Median : 65.00   Median :3.000              \n",
       " Mean   : 72.82   Mean   : 71.9   Mean   : 68.28   Mean   :3.324              \n",
       " 3rd Qu.: 95.00   3rd Qu.: 90.0   3rd Qu.: 90.00   3rd Qu.:5.000              \n",
       " Max.   :194.00   Max.   :230.0   Max.   :180.00   Max.   :6.000              \n",
       "                                                                              "
      ]
     },
     "metadata": {},
     "output_type": "display_data"
    }
   ],
   "source": [
    "summary(pokemon)"
   ]
  },
  {
   "cell_type": "code",
   "execution_count": 23,
   "metadata": {},
   "outputs": [
    {
     "data": {
      "text/html": [
       "TRUE"
      ],
      "text/latex": [
       "TRUE"
      ],
      "text/markdown": [
       "TRUE"
      ],
      "text/plain": [
       "[1] TRUE"
      ]
     },
     "metadata": {},
     "output_type": "display_data"
    }
   ],
   "source": [
    "#checking if pokemon is data.frame\n",
    "is.data.frame(pokemon)"
   ]
  },
  {
   "cell_type": "code",
   "execution_count": 24,
   "metadata": {},
   "outputs": [
    {
     "data": {
      "text/html": [
       "'data.frame'"
      ],
      "text/latex": [
       "'data.frame'"
      ],
      "text/markdown": [
       "'data.frame'"
      ],
      "text/plain": [
       "[1] \"data.frame\""
      ]
     },
     "metadata": {},
     "output_type": "display_data"
    }
   ],
   "source": [
    "#verify class of `pokemon`\n",
    "class(pokemon)"
   ]
  },
  {
   "cell_type": "code",
   "execution_count": 25,
   "metadata": {},
   "outputs": [
    {
     "data": {
      "text/html": [
       "800"
      ],
      "text/latex": [
       "800"
      ],
      "text/markdown": [
       "800"
      ],
      "text/plain": [
       "[1] 800"
      ]
     },
     "metadata": {},
     "output_type": "display_data"
    }
   ],
   "source": [
    "#the number of rows\n",
    "nrow(pokemon)"
   ]
  },
  {
   "cell_type": "code",
   "execution_count": 26,
   "metadata": {},
   "outputs": [
    {
     "data": {
      "text/html": [
       "13"
      ],
      "text/latex": [
       "13"
      ],
      "text/markdown": [
       "13"
      ],
      "text/plain": [
       "[1] 13"
      ]
     },
     "metadata": {},
     "output_type": "display_data"
    }
   ],
   "source": [
    "#the number of columns\n",
    "ncol(pokemon)"
   ]
  },
  {
   "cell_type": "code",
   "execution_count": 34,
   "metadata": {},
   "outputs": [
    {
     "data": {
      "text/html": [
       "<table>\n",
       "<thead><tr><th></th><th scope=col>X.</th><th scope=col>Name</th><th scope=col>Type.1</th><th scope=col>Type.2</th><th scope=col>Total</th><th scope=col>HP</th><th scope=col>Attack</th><th scope=col>Defense</th><th scope=col>Sp..Atk</th><th scope=col>Sp..Def</th><th scope=col>Speed</th><th scope=col>Generation</th><th scope=col>Legendary</th></tr></thead>\n",
       "<tbody>\n",
       "\t<tr><th scope=row>157</th><td>144                  </td><td>Articuno             </td><td>Ice                  </td><td>Flying               </td><td>580                  </td><td> 90                  </td><td> 85                  </td><td>100                  </td><td> 95                  </td><td>125                  </td><td> 85                  </td><td>1                    </td><td>True                 </td></tr>\n",
       "\t<tr><th scope=row>158</th><td>145                  </td><td>Zapdos               </td><td>Electric             </td><td>Flying               </td><td>580                  </td><td> 90                  </td><td> 90                  </td><td> 85                  </td><td>125                  </td><td> 90                  </td><td>100                  </td><td>1                    </td><td>True                 </td></tr>\n",
       "\t<tr><th scope=row>159</th><td>146                  </td><td>Moltres              </td><td>Fire                 </td><td>Flying               </td><td>580                  </td><td> 90                  </td><td>100                  </td><td> 90                  </td><td>125                  </td><td> 85                  </td><td> 90                  </td><td>1                    </td><td>True                 </td></tr>\n",
       "\t<tr><th scope=row>163</th><td>150                  </td><td>Mewtwo               </td><td>Psychic              </td><td>                     </td><td>680                  </td><td>106                  </td><td>110                  </td><td> 90                  </td><td>154                  </td><td> 90                  </td><td>130                  </td><td>1                    </td><td>True                 </td></tr>\n",
       "\t<tr><th scope=row>164</th><td>150                  </td><td>MewtwoMega Mewtwo X  </td><td>Psychic              </td><td>Fighting             </td><td>780                  </td><td>106                  </td><td>190                  </td><td>100                  </td><td>154                  </td><td>100                  </td><td>130                  </td><td>1                    </td><td>True                 </td></tr>\n",
       "\t<tr><th scope=row>165</th><td>150                  </td><td>MewtwoMega Mewtwo Y  </td><td>Psychic              </td><td>                     </td><td>780                  </td><td>106                  </td><td>150                  </td><td> 70                  </td><td>194                  </td><td>120                  </td><td>140                  </td><td>1                    </td><td>True                 </td></tr>\n",
       "\t<tr><th scope=row>263</th><td>243                  </td><td>Raikou               </td><td>Electric             </td><td>                     </td><td>580                  </td><td> 90                  </td><td> 85                  </td><td> 75                  </td><td>115                  </td><td>100                  </td><td>115                  </td><td>2                    </td><td>True                 </td></tr>\n",
       "\t<tr><th scope=row>264</th><td>244                  </td><td>Entei                </td><td>Fire                 </td><td>                     </td><td>580                  </td><td>115                  </td><td>115                  </td><td> 85                  </td><td> 90                  </td><td> 75                  </td><td>100                  </td><td>2                    </td><td>True                 </td></tr>\n",
       "\t<tr><th scope=row>265</th><td>245                  </td><td>Suicune              </td><td>Water                </td><td>                     </td><td>580                  </td><td>100                  </td><td> 75                  </td><td>115                  </td><td> 90                  </td><td>115                  </td><td> 85                  </td><td>2                    </td><td>True                 </td></tr>\n",
       "\t<tr><th scope=row>270</th><td>249                  </td><td>Lugia                </td><td>Psychic              </td><td>Flying               </td><td>680                  </td><td>106                  </td><td> 90                  </td><td>130                  </td><td> 90                  </td><td>154                  </td><td>110                  </td><td>2                    </td><td>True                 </td></tr>\n",
       "\t<tr><th scope=row>271</th><td>250                  </td><td>Ho-oh                </td><td>Fire                 </td><td>Flying               </td><td>680                  </td><td>106                  </td><td>130                  </td><td> 90                  </td><td>110                  </td><td>154                  </td><td> 90                  </td><td>2                    </td><td>True                 </td></tr>\n",
       "\t<tr><th scope=row>415</th><td>377                  </td><td>Regirock             </td><td>Rock                 </td><td>                     </td><td>580                  </td><td> 80                  </td><td>100                  </td><td>200                  </td><td> 50                  </td><td>100                  </td><td> 50                  </td><td>3                    </td><td>True                 </td></tr>\n",
       "\t<tr><th scope=row>416</th><td>378                  </td><td>Regice               </td><td>Ice                  </td><td>                     </td><td>580                  </td><td> 80                  </td><td> 50                  </td><td>100                  </td><td>100                  </td><td>200                  </td><td> 50                  </td><td>3                    </td><td>True                 </td></tr>\n",
       "\t<tr><th scope=row>417</th><td>379                  </td><td>Registeel            </td><td>Steel                </td><td>                     </td><td>580                  </td><td> 80                  </td><td> 75                  </td><td>150                  </td><td> 75                  </td><td>150                  </td><td> 50                  </td><td>3                    </td><td>True                 </td></tr>\n",
       "\t<tr><th scope=row>418</th><td>380                  </td><td>Latias               </td><td>Dragon               </td><td>Psychic              </td><td>600                  </td><td> 80                  </td><td> 80                  </td><td> 90                  </td><td>110                  </td><td>130                  </td><td>110                  </td><td>3                    </td><td>True                 </td></tr>\n",
       "\t<tr><th scope=row>419</th><td>380                  </td><td>LatiasMega Latias    </td><td>Dragon               </td><td>Psychic              </td><td>700                  </td><td> 80                  </td><td>100                  </td><td>120                  </td><td>140                  </td><td>150                  </td><td>110                  </td><td>3                    </td><td>True                 </td></tr>\n",
       "\t<tr><th scope=row>420</th><td>381                  </td><td>Latios               </td><td>Dragon               </td><td>Psychic              </td><td>600                  </td><td> 80                  </td><td> 90                  </td><td> 80                  </td><td>130                  </td><td>110                  </td><td>110                  </td><td>3                    </td><td>True                 </td></tr>\n",
       "\t<tr><th scope=row>421</th><td>381                  </td><td>LatiosMega Latios    </td><td>Dragon               </td><td>Psychic              </td><td>700                  </td><td> 80                  </td><td>130                  </td><td>100                  </td><td>160                  </td><td>120                  </td><td>110                  </td><td>3                    </td><td>True                 </td></tr>\n",
       "\t<tr><th scope=row>422</th><td>382                  </td><td>Kyogre               </td><td>Water                </td><td>                     </td><td>670                  </td><td>100                  </td><td>100                  </td><td> 90                  </td><td>150                  </td><td>140                  </td><td> 90                  </td><td>3                    </td><td>True                 </td></tr>\n",
       "\t<tr><th scope=row>423</th><td>382                  </td><td>KyogrePrimal Kyogre  </td><td>Water                </td><td>                     </td><td>770                  </td><td>100                  </td><td>150                  </td><td> 90                  </td><td>180                  </td><td>160                  </td><td> 90                  </td><td>3                    </td><td>True                 </td></tr>\n",
       "\t<tr><th scope=row>424</th><td>383                  </td><td>Groudon              </td><td>Ground               </td><td>                     </td><td>670                  </td><td>100                  </td><td>150                  </td><td>140                  </td><td>100                  </td><td> 90                  </td><td> 90                  </td><td>3                    </td><td>True                 </td></tr>\n",
       "\t<tr><th scope=row>425</th><td>383                  </td><td>GroudonPrimal Groudon</td><td>Ground               </td><td>Fire                 </td><td>770                  </td><td>100                  </td><td>180                  </td><td>160                  </td><td>150                  </td><td> 90                  </td><td> 90                  </td><td>3                    </td><td>True                 </td></tr>\n",
       "\t<tr><th scope=row>426</th><td>384                  </td><td>Rayquaza             </td><td>Dragon               </td><td>Flying               </td><td>680                  </td><td>105                  </td><td>150                  </td><td> 90                  </td><td>150                  </td><td> 90                  </td><td> 95                  </td><td>3                    </td><td>True                 </td></tr>\n",
       "\t<tr><th scope=row>427</th><td>384                  </td><td>RayquazaMega Rayquaza</td><td>Dragon               </td><td>Flying               </td><td>780                  </td><td>105                  </td><td>180                  </td><td>100                  </td><td>180                  </td><td>100                  </td><td>115                  </td><td>3                    </td><td>True                 </td></tr>\n",
       "\t<tr><th scope=row>428</th><td>385                  </td><td>Jirachi              </td><td>Steel                </td><td>Psychic              </td><td>600                  </td><td>100                  </td><td>100                  </td><td>100                  </td><td>100                  </td><td>100                  </td><td>100                  </td><td>3                    </td><td>True                 </td></tr>\n",
       "\t<tr><th scope=row>429</th><td>386                  </td><td>DeoxysNormal Forme   </td><td>Psychic              </td><td>                     </td><td>600                  </td><td> 50                  </td><td>150                  </td><td> 50                  </td><td>150                  </td><td> 50                  </td><td>150                  </td><td>3                    </td><td>True                 </td></tr>\n",
       "\t<tr><th scope=row>430</th><td>386                  </td><td>DeoxysAttack Forme   </td><td>Psychic              </td><td>                     </td><td>600                  </td><td> 50                  </td><td>180                  </td><td> 20                  </td><td>180                  </td><td> 20                  </td><td>150                  </td><td>3                    </td><td>True                 </td></tr>\n",
       "\t<tr><th scope=row>431</th><td>386                  </td><td>DeoxysDefense Forme  </td><td>Psychic              </td><td>                     </td><td>600                  </td><td> 50                  </td><td> 70                  </td><td>160                  </td><td> 70                  </td><td>160                  </td><td> 90                  </td><td>3                    </td><td>True                 </td></tr>\n",
       "\t<tr><th scope=row>432</th><td>386                  </td><td>DeoxysSpeed Forme    </td><td>Psychic              </td><td>                     </td><td>600                  </td><td> 50                  </td><td> 95                  </td><td> 90                  </td><td> 95                  </td><td> 90                  </td><td>180                  </td><td>3                    </td><td>True                 </td></tr>\n",
       "\t<tr><th scope=row>538</th><td>480                  </td><td>Uxie                 </td><td>Psychic              </td><td>                     </td><td>580                  </td><td> 75                  </td><td> 75                  </td><td>130                  </td><td> 75                  </td><td>130                  </td><td> 95                  </td><td>4                    </td><td>True                 </td></tr>\n",
       "\t<tr><th scope=row>...</th><td>...</td><td>...</td><td>...</td><td>...</td><td>...</td><td>...</td><td>...</td><td>...</td><td>...</td><td>...</td><td>...</td><td>...</td><td>...</td></tr>\n",
       "\t<tr><th scope=row>544</th><td>486                     </td><td>Regigigas               </td><td>Normal                  </td><td>                        </td><td>670                     </td><td>110                     </td><td>160                     </td><td>110                     </td><td> 80                     </td><td>110                     </td><td>100                     </td><td>4                       </td><td>True                    </td></tr>\n",
       "\t<tr><th scope=row>545</th><td>487                     </td><td>GiratinaAltered Forme   </td><td>Ghost                   </td><td>Dragon                  </td><td>680                     </td><td>150                     </td><td>100                     </td><td>120                     </td><td>100                     </td><td>120                     </td><td> 90                     </td><td>4                       </td><td>True                    </td></tr>\n",
       "\t<tr><th scope=row>546</th><td>487                     </td><td>GiratinaOrigin Forme    </td><td>Ghost                   </td><td>Dragon                  </td><td>680                     </td><td>150                     </td><td>120                     </td><td>100                     </td><td>120                     </td><td>100                     </td><td> 90                     </td><td>4                       </td><td>True                    </td></tr>\n",
       "\t<tr><th scope=row>550</th><td>491                     </td><td>Darkrai                 </td><td>Dark                    </td><td>                        </td><td>600                     </td><td> 70                     </td><td> 90                     </td><td> 90                     </td><td>135                     </td><td> 90                     </td><td>125                     </td><td>4                       </td><td>True                    </td></tr>\n",
       "\t<tr><th scope=row>551</th><td>492                     </td><td>ShayminLand Forme       </td><td>Grass                   </td><td>                        </td><td>600                     </td><td>100                     </td><td>100                     </td><td>100                     </td><td>100                     </td><td>100                     </td><td>100                     </td><td>4                       </td><td>True                    </td></tr>\n",
       "\t<tr><th scope=row>552</th><td>492                     </td><td>ShayminSky Forme        </td><td>Grass                   </td><td>Flying                  </td><td>600                     </td><td>100                     </td><td>103                     </td><td> 75                     </td><td>120                     </td><td> 75                     </td><td>127                     </td><td>4                       </td><td>True                    </td></tr>\n",
       "\t<tr><th scope=row>553</th><td>493                     </td><td>Arceus                  </td><td>Normal                  </td><td>                        </td><td>720                     </td><td>120                     </td><td>120                     </td><td>120                     </td><td>120                     </td><td>120                     </td><td>120                     </td><td>4                       </td><td>True                    </td></tr>\n",
       "\t<tr><th scope=row>554</th><td>494                     </td><td>Victini                 </td><td>Psychic                 </td><td>Fire                    </td><td>600                     </td><td>100                     </td><td>100                     </td><td>100                     </td><td>100                     </td><td>100                     </td><td>100                     </td><td>5                       </td><td>True                    </td></tr>\n",
       "\t<tr><th scope=row>700</th><td>638                     </td><td>Cobalion                </td><td>Steel                   </td><td>Fighting                </td><td>580                     </td><td> 91                     </td><td> 90                     </td><td>129                     </td><td> 90                     </td><td> 72                     </td><td>108                     </td><td>5                       </td><td>True                    </td></tr>\n",
       "\t<tr><th scope=row>701</th><td>639                     </td><td>Terrakion               </td><td>Rock                    </td><td>Fighting                </td><td>580                     </td><td> 91                     </td><td>129                     </td><td> 90                     </td><td> 72                     </td><td> 90                     </td><td>108                     </td><td>5                       </td><td>True                    </td></tr>\n",
       "\t<tr><th scope=row>702</th><td>640                     </td><td>Virizion                </td><td>Grass                   </td><td>Fighting                </td><td>580                     </td><td> 91                     </td><td> 90                     </td><td> 72                     </td><td> 90                     </td><td>129                     </td><td>108                     </td><td>5                       </td><td>True                    </td></tr>\n",
       "\t<tr><th scope=row>703</th><td>641                     </td><td>TornadusIncarnate Forme </td><td>Flying                  </td><td>                        </td><td>580                     </td><td> 79                     </td><td>115                     </td><td> 70                     </td><td>125                     </td><td> 80                     </td><td>111                     </td><td>5                       </td><td>True                    </td></tr>\n",
       "\t<tr><th scope=row>704</th><td>641                     </td><td>TornadusTherian Forme   </td><td>Flying                  </td><td>                        </td><td>580                     </td><td> 79                     </td><td>100                     </td><td> 80                     </td><td>110                     </td><td> 90                     </td><td>121                     </td><td>5                       </td><td>True                    </td></tr>\n",
       "\t<tr><th scope=row>705</th><td>642                     </td><td>ThundurusIncarnate Forme</td><td>Electric                </td><td>Flying                  </td><td>580                     </td><td> 79                     </td><td>115                     </td><td> 70                     </td><td>125                     </td><td> 80                     </td><td>111                     </td><td>5                       </td><td>True                    </td></tr>\n",
       "\t<tr><th scope=row>706</th><td>642                     </td><td>ThundurusTherian Forme  </td><td>Electric                </td><td>Flying                  </td><td>580                     </td><td> 79                     </td><td>105                     </td><td> 70                     </td><td>145                     </td><td> 80                     </td><td>101                     </td><td>5                       </td><td>True                    </td></tr>\n",
       "\t<tr><th scope=row>707</th><td>643                     </td><td>Reshiram                </td><td>Dragon                  </td><td>Fire                    </td><td>680                     </td><td>100                     </td><td>120                     </td><td>100                     </td><td>150                     </td><td>120                     </td><td> 90                     </td><td>5                       </td><td>True                    </td></tr>\n",
       "\t<tr><th scope=row>708</th><td>644                     </td><td>Zekrom                  </td><td>Dragon                  </td><td>Electric                </td><td>680                     </td><td>100                     </td><td>150                     </td><td>120                     </td><td>120                     </td><td>100                     </td><td> 90                     </td><td>5                       </td><td>True                    </td></tr>\n",
       "\t<tr><th scope=row>709</th><td>645                     </td><td>LandorusIncarnate Forme </td><td>Ground                  </td><td>Flying                  </td><td>600                     </td><td> 89                     </td><td>125                     </td><td> 90                     </td><td>115                     </td><td> 80                     </td><td>101                     </td><td>5                       </td><td>True                    </td></tr>\n",
       "\t<tr><th scope=row>710</th><td>645                     </td><td>LandorusTherian Forme   </td><td>Ground                  </td><td>Flying                  </td><td>600                     </td><td> 89                     </td><td>145                     </td><td> 90                     </td><td>105                     </td><td> 80                     </td><td> 91                     </td><td>5                       </td><td>True                    </td></tr>\n",
       "\t<tr><th scope=row>711</th><td>646                     </td><td>Kyurem                  </td><td>Dragon                  </td><td>Ice                     </td><td>660                     </td><td>125                     </td><td>130                     </td><td> 90                     </td><td>130                     </td><td> 90                     </td><td> 95                     </td><td>5                       </td><td>True                    </td></tr>\n",
       "\t<tr><th scope=row>712</th><td>646                     </td><td>KyuremBlack Kyurem      </td><td>Dragon                  </td><td>Ice                     </td><td>700                     </td><td>125                     </td><td>170                     </td><td>100                     </td><td>120                     </td><td> 90                     </td><td> 95                     </td><td>5                       </td><td>True                    </td></tr>\n",
       "\t<tr><th scope=row>713</th><td>646                     </td><td>KyuremWhite Kyurem      </td><td>Dragon                  </td><td>Ice                     </td><td>700                     </td><td>125                     </td><td>120                     </td><td> 90                     </td><td>170                     </td><td>100                     </td><td> 95                     </td><td>5                       </td><td>True                    </td></tr>\n",
       "\t<tr><th scope=row>793</th><td>716                     </td><td>Xerneas                 </td><td>Fairy                   </td><td>                        </td><td>680                     </td><td>126                     </td><td>131                     </td><td> 95                     </td><td>131                     </td><td> 98                     </td><td> 99                     </td><td>6                       </td><td>True                    </td></tr>\n",
       "\t<tr><th scope=row>794</th><td>717                     </td><td>Yveltal                 </td><td>Dark                    </td><td>Flying                  </td><td>680                     </td><td>126                     </td><td>131                     </td><td> 95                     </td><td>131                     </td><td> 98                     </td><td> 99                     </td><td>6                       </td><td>True                    </td></tr>\n",
       "\t<tr><th scope=row>795</th><td>718                     </td><td>Zygarde50% Forme        </td><td>Dragon                  </td><td>Ground                  </td><td>600                     </td><td>108                     </td><td>100                     </td><td>121                     </td><td> 81                     </td><td> 95                     </td><td> 95                     </td><td>6                       </td><td>True                    </td></tr>\n",
       "\t<tr><th scope=row>796</th><td>719                     </td><td>Diancie                 </td><td>Rock                    </td><td>Fairy                   </td><td>600                     </td><td> 50                     </td><td>100                     </td><td>150                     </td><td>100                     </td><td>150                     </td><td> 50                     </td><td>6                       </td><td>True                    </td></tr>\n",
       "\t<tr><th scope=row>797</th><td>719                     </td><td>DiancieMega Diancie     </td><td>Rock                    </td><td>Fairy                   </td><td>700                     </td><td> 50                     </td><td>160                     </td><td>110                     </td><td>160                     </td><td>110                     </td><td>110                     </td><td>6                       </td><td>True                    </td></tr>\n",
       "\t<tr><th scope=row>798</th><td>720                     </td><td>HoopaHoopa Confined     </td><td>Psychic                 </td><td>Ghost                   </td><td>600                     </td><td> 80                     </td><td>110                     </td><td> 60                     </td><td>150                     </td><td>130                     </td><td> 70                     </td><td>6                       </td><td>True                    </td></tr>\n",
       "\t<tr><th scope=row>799</th><td>720                     </td><td>HoopaHoopa Unbound      </td><td>Psychic                 </td><td>Dark                    </td><td>680                     </td><td> 80                     </td><td>160                     </td><td> 60                     </td><td>170                     </td><td>130                     </td><td> 80                     </td><td>6                       </td><td>True                    </td></tr>\n",
       "\t<tr><th scope=row>800</th><td>721                     </td><td>Volcanion               </td><td>Fire                    </td><td>Water                   </td><td>600                     </td><td> 80                     </td><td>110                     </td><td>120                     </td><td>130                     </td><td> 90                     </td><td> 70                     </td><td>6                       </td><td>True                    </td></tr>\n",
       "</tbody>\n",
       "</table>\n"
      ],
      "text/latex": [
       "\\begin{tabular}{r|lllllllllllll}\n",
       "  & X. & Name & Type.1 & Type.2 & Total & HP & Attack & Defense & Sp..Atk & Sp..Def & Speed & Generation & Legendary\\\\\n",
       "\\hline\n",
       "\t157 & 144                   & Articuno              & Ice                   & Flying                & 580                   &  90                   &  85                   & 100                   &  95                   & 125                   &  85                   & 1                     & True                 \\\\\n",
       "\t158 & 145                   & Zapdos                & Electric              & Flying                & 580                   &  90                   &  90                   &  85                   & 125                   &  90                   & 100                   & 1                     & True                 \\\\\n",
       "\t159 & 146                   & Moltres               & Fire                  & Flying                & 580                   &  90                   & 100                   &  90                   & 125                   &  85                   &  90                   & 1                     & True                 \\\\\n",
       "\t163 & 150                   & Mewtwo                & Psychic               &                       & 680                   & 106                   & 110                   &  90                   & 154                   &  90                   & 130                   & 1                     & True                 \\\\\n",
       "\t164 & 150                   & MewtwoMega Mewtwo X   & Psychic               & Fighting              & 780                   & 106                   & 190                   & 100                   & 154                   & 100                   & 130                   & 1                     & True                 \\\\\n",
       "\t165 & 150                   & MewtwoMega Mewtwo Y   & Psychic               &                       & 780                   & 106                   & 150                   &  70                   & 194                   & 120                   & 140                   & 1                     & True                 \\\\\n",
       "\t263 & 243                   & Raikou                & Electric              &                       & 580                   &  90                   &  85                   &  75                   & 115                   & 100                   & 115                   & 2                     & True                 \\\\\n",
       "\t264 & 244                   & Entei                 & Fire                  &                       & 580                   & 115                   & 115                   &  85                   &  90                   &  75                   & 100                   & 2                     & True                 \\\\\n",
       "\t265 & 245                   & Suicune               & Water                 &                       & 580                   & 100                   &  75                   & 115                   &  90                   & 115                   &  85                   & 2                     & True                 \\\\\n",
       "\t270 & 249                   & Lugia                 & Psychic               & Flying                & 680                   & 106                   &  90                   & 130                   &  90                   & 154                   & 110                   & 2                     & True                 \\\\\n",
       "\t271 & 250                   & Ho-oh                 & Fire                  & Flying                & 680                   & 106                   & 130                   &  90                   & 110                   & 154                   &  90                   & 2                     & True                 \\\\\n",
       "\t415 & 377                   & Regirock              & Rock                  &                       & 580                   &  80                   & 100                   & 200                   &  50                   & 100                   &  50                   & 3                     & True                 \\\\\n",
       "\t416 & 378                   & Regice                & Ice                   &                       & 580                   &  80                   &  50                   & 100                   & 100                   & 200                   &  50                   & 3                     & True                 \\\\\n",
       "\t417 & 379                   & Registeel             & Steel                 &                       & 580                   &  80                   &  75                   & 150                   &  75                   & 150                   &  50                   & 3                     & True                 \\\\\n",
       "\t418 & 380                   & Latias                & Dragon                & Psychic               & 600                   &  80                   &  80                   &  90                   & 110                   & 130                   & 110                   & 3                     & True                 \\\\\n",
       "\t419 & 380                   & LatiasMega Latias     & Dragon                & Psychic               & 700                   &  80                   & 100                   & 120                   & 140                   & 150                   & 110                   & 3                     & True                 \\\\\n",
       "\t420 & 381                   & Latios                & Dragon                & Psychic               & 600                   &  80                   &  90                   &  80                   & 130                   & 110                   & 110                   & 3                     & True                 \\\\\n",
       "\t421 & 381                   & LatiosMega Latios     & Dragon                & Psychic               & 700                   &  80                   & 130                   & 100                   & 160                   & 120                   & 110                   & 3                     & True                 \\\\\n",
       "\t422 & 382                   & Kyogre                & Water                 &                       & 670                   & 100                   & 100                   &  90                   & 150                   & 140                   &  90                   & 3                     & True                 \\\\\n",
       "\t423 & 382                   & KyogrePrimal Kyogre   & Water                 &                       & 770                   & 100                   & 150                   &  90                   & 180                   & 160                   &  90                   & 3                     & True                 \\\\\n",
       "\t424 & 383                   & Groudon               & Ground                &                       & 670                   & 100                   & 150                   & 140                   & 100                   &  90                   &  90                   & 3                     & True                 \\\\\n",
       "\t425 & 383                   & GroudonPrimal Groudon & Ground                & Fire                  & 770                   & 100                   & 180                   & 160                   & 150                   &  90                   &  90                   & 3                     & True                 \\\\\n",
       "\t426 & 384                   & Rayquaza              & Dragon                & Flying                & 680                   & 105                   & 150                   &  90                   & 150                   &  90                   &  95                   & 3                     & True                 \\\\\n",
       "\t427 & 384                   & RayquazaMega Rayquaza & Dragon                & Flying                & 780                   & 105                   & 180                   & 100                   & 180                   & 100                   & 115                   & 3                     & True                 \\\\\n",
       "\t428 & 385                   & Jirachi               & Steel                 & Psychic               & 600                   & 100                   & 100                   & 100                   & 100                   & 100                   & 100                   & 3                     & True                 \\\\\n",
       "\t429 & 386                   & DeoxysNormal Forme    & Psychic               &                       & 600                   &  50                   & 150                   &  50                   & 150                   &  50                   & 150                   & 3                     & True                 \\\\\n",
       "\t430 & 386                   & DeoxysAttack Forme    & Psychic               &                       & 600                   &  50                   & 180                   &  20                   & 180                   &  20                   & 150                   & 3                     & True                 \\\\\n",
       "\t431 & 386                   & DeoxysDefense Forme   & Psychic               &                       & 600                   &  50                   &  70                   & 160                   &  70                   & 160                   &  90                   & 3                     & True                 \\\\\n",
       "\t432 & 386                   & DeoxysSpeed Forme     & Psychic               &                       & 600                   &  50                   &  95                   &  90                   &  95                   &  90                   & 180                   & 3                     & True                 \\\\\n",
       "\t538 & 480                   & Uxie                  & Psychic               &                       & 580                   &  75                   &  75                   & 130                   &  75                   & 130                   &  95                   & 4                     & True                 \\\\\n",
       "\t... & ... & ... & ... & ... & ... & ... & ... & ... & ... & ... & ... & ... & ...\\\\\n",
       "\t544 & 486                      & Regigigas                & Normal                   &                          & 670                      & 110                      & 160                      & 110                      &  80                      & 110                      & 100                      & 4                        & True                    \\\\\n",
       "\t545 & 487                      & GiratinaAltered Forme    & Ghost                    & Dragon                   & 680                      & 150                      & 100                      & 120                      & 100                      & 120                      &  90                      & 4                        & True                    \\\\\n",
       "\t546 & 487                      & GiratinaOrigin Forme     & Ghost                    & Dragon                   & 680                      & 150                      & 120                      & 100                      & 120                      & 100                      &  90                      & 4                        & True                    \\\\\n",
       "\t550 & 491                      & Darkrai                  & Dark                     &                          & 600                      &  70                      &  90                      &  90                      & 135                      &  90                      & 125                      & 4                        & True                    \\\\\n",
       "\t551 & 492                      & ShayminLand Forme        & Grass                    &                          & 600                      & 100                      & 100                      & 100                      & 100                      & 100                      & 100                      & 4                        & True                    \\\\\n",
       "\t552 & 492                      & ShayminSky Forme         & Grass                    & Flying                   & 600                      & 100                      & 103                      &  75                      & 120                      &  75                      & 127                      & 4                        & True                    \\\\\n",
       "\t553 & 493                      & Arceus                   & Normal                   &                          & 720                      & 120                      & 120                      & 120                      & 120                      & 120                      & 120                      & 4                        & True                    \\\\\n",
       "\t554 & 494                      & Victini                  & Psychic                  & Fire                     & 600                      & 100                      & 100                      & 100                      & 100                      & 100                      & 100                      & 5                        & True                    \\\\\n",
       "\t700 & 638                      & Cobalion                 & Steel                    & Fighting                 & 580                      &  91                      &  90                      & 129                      &  90                      &  72                      & 108                      & 5                        & True                    \\\\\n",
       "\t701 & 639                      & Terrakion                & Rock                     & Fighting                 & 580                      &  91                      & 129                      &  90                      &  72                      &  90                      & 108                      & 5                        & True                    \\\\\n",
       "\t702 & 640                      & Virizion                 & Grass                    & Fighting                 & 580                      &  91                      &  90                      &  72                      &  90                      & 129                      & 108                      & 5                        & True                    \\\\\n",
       "\t703 & 641                      & TornadusIncarnate Forme  & Flying                   &                          & 580                      &  79                      & 115                      &  70                      & 125                      &  80                      & 111                      & 5                        & True                    \\\\\n",
       "\t704 & 641                      & TornadusTherian Forme    & Flying                   &                          & 580                      &  79                      & 100                      &  80                      & 110                      &  90                      & 121                      & 5                        & True                    \\\\\n",
       "\t705 & 642                      & ThundurusIncarnate Forme & Electric                 & Flying                   & 580                      &  79                      & 115                      &  70                      & 125                      &  80                      & 111                      & 5                        & True                    \\\\\n",
       "\t706 & 642                      & ThundurusTherian Forme   & Electric                 & Flying                   & 580                      &  79                      & 105                      &  70                      & 145                      &  80                      & 101                      & 5                        & True                    \\\\\n",
       "\t707 & 643                      & Reshiram                 & Dragon                   & Fire                     & 680                      & 100                      & 120                      & 100                      & 150                      & 120                      &  90                      & 5                        & True                    \\\\\n",
       "\t708 & 644                      & Zekrom                   & Dragon                   & Electric                 & 680                      & 100                      & 150                      & 120                      & 120                      & 100                      &  90                      & 5                        & True                    \\\\\n",
       "\t709 & 645                      & LandorusIncarnate Forme  & Ground                   & Flying                   & 600                      &  89                      & 125                      &  90                      & 115                      &  80                      & 101                      & 5                        & True                    \\\\\n",
       "\t710 & 645                      & LandorusTherian Forme    & Ground                   & Flying                   & 600                      &  89                      & 145                      &  90                      & 105                      &  80                      &  91                      & 5                        & True                    \\\\\n",
       "\t711 & 646                      & Kyurem                   & Dragon                   & Ice                      & 660                      & 125                      & 130                      &  90                      & 130                      &  90                      &  95                      & 5                        & True                    \\\\\n",
       "\t712 & 646                      & KyuremBlack Kyurem       & Dragon                   & Ice                      & 700                      & 125                      & 170                      & 100                      & 120                      &  90                      &  95                      & 5                        & True                    \\\\\n",
       "\t713 & 646                      & KyuremWhite Kyurem       & Dragon                   & Ice                      & 700                      & 125                      & 120                      &  90                      & 170                      & 100                      &  95                      & 5                        & True                    \\\\\n",
       "\t793 & 716                      & Xerneas                  & Fairy                    &                          & 680                      & 126                      & 131                      &  95                      & 131                      &  98                      &  99                      & 6                        & True                    \\\\\n",
       "\t794 & 717                      & Yveltal                  & Dark                     & Flying                   & 680                      & 126                      & 131                      &  95                      & 131                      &  98                      &  99                      & 6                        & True                    \\\\\n",
       "\t795 & 718                        & Zygarde50\\% Forme         & Dragon                     & Ground                     & 600                        & 108                        & 100                        & 121                        &  81                        &  95                        &  95                        & 6                          & True                      \\\\\n",
       "\t796 & 719                      & Diancie                  & Rock                     & Fairy                    & 600                      &  50                      & 100                      & 150                      & 100                      & 150                      &  50                      & 6                        & True                    \\\\\n",
       "\t797 & 719                      & DiancieMega Diancie      & Rock                     & Fairy                    & 700                      &  50                      & 160                      & 110                      & 160                      & 110                      & 110                      & 6                        & True                    \\\\\n",
       "\t798 & 720                      & HoopaHoopa Confined      & Psychic                  & Ghost                    & 600                      &  80                      & 110                      &  60                      & 150                      & 130                      &  70                      & 6                        & True                    \\\\\n",
       "\t799 & 720                      & HoopaHoopa Unbound       & Psychic                  & Dark                     & 680                      &  80                      & 160                      &  60                      & 170                      & 130                      &  80                      & 6                        & True                    \\\\\n",
       "\t800 & 721                      & Volcanion                & Fire                     & Water                    & 600                      &  80                      & 110                      & 120                      & 130                      &  90                      &  70                      & 6                        & True                    \\\\\n",
       "\\end{tabular}\n"
      ],
      "text/markdown": [
       "\n",
       "| <!--/--> | X. | Name | Type.1 | Type.2 | Total | HP | Attack | Defense | Sp..Atk | Sp..Def | Speed | Generation | Legendary |\n",
       "|---|---|---|---|---|---|---|---|---|---|---|---|---|---|\n",
       "| 157 | 144                   | Articuno              | Ice                   | Flying                | 580                   |  90                   |  85                   | 100                   |  95                   | 125                   |  85                   | 1                     | True                  |\n",
       "| 158 | 145                   | Zapdos                | Electric              | Flying                | 580                   |  90                   |  90                   |  85                   | 125                   |  90                   | 100                   | 1                     | True                  |\n",
       "| 159 | 146                   | Moltres               | Fire                  | Flying                | 580                   |  90                   | 100                   |  90                   | 125                   |  85                   |  90                   | 1                     | True                  |\n",
       "| 163 | 150                   | Mewtwo                | Psychic               |                       | 680                   | 106                   | 110                   |  90                   | 154                   |  90                   | 130                   | 1                     | True                  |\n",
       "| 164 | 150                   | MewtwoMega Mewtwo X   | Psychic               | Fighting              | 780                   | 106                   | 190                   | 100                   | 154                   | 100                   | 130                   | 1                     | True                  |\n",
       "| 165 | 150                   | MewtwoMega Mewtwo Y   | Psychic               |                       | 780                   | 106                   | 150                   |  70                   | 194                   | 120                   | 140                   | 1                     | True                  |\n",
       "| 263 | 243                   | Raikou                | Electric              |                       | 580                   |  90                   |  85                   |  75                   | 115                   | 100                   | 115                   | 2                     | True                  |\n",
       "| 264 | 244                   | Entei                 | Fire                  |                       | 580                   | 115                   | 115                   |  85                   |  90                   |  75                   | 100                   | 2                     | True                  |\n",
       "| 265 | 245                   | Suicune               | Water                 |                       | 580                   | 100                   |  75                   | 115                   |  90                   | 115                   |  85                   | 2                     | True                  |\n",
       "| 270 | 249                   | Lugia                 | Psychic               | Flying                | 680                   | 106                   |  90                   | 130                   |  90                   | 154                   | 110                   | 2                     | True                  |\n",
       "| 271 | 250                   | Ho-oh                 | Fire                  | Flying                | 680                   | 106                   | 130                   |  90                   | 110                   | 154                   |  90                   | 2                     | True                  |\n",
       "| 415 | 377                   | Regirock              | Rock                  |                       | 580                   |  80                   | 100                   | 200                   |  50                   | 100                   |  50                   | 3                     | True                  |\n",
       "| 416 | 378                   | Regice                | Ice                   |                       | 580                   |  80                   |  50                   | 100                   | 100                   | 200                   |  50                   | 3                     | True                  |\n",
       "| 417 | 379                   | Registeel             | Steel                 |                       | 580                   |  80                   |  75                   | 150                   |  75                   | 150                   |  50                   | 3                     | True                  |\n",
       "| 418 | 380                   | Latias                | Dragon                | Psychic               | 600                   |  80                   |  80                   |  90                   | 110                   | 130                   | 110                   | 3                     | True                  |\n",
       "| 419 | 380                   | LatiasMega Latias     | Dragon                | Psychic               | 700                   |  80                   | 100                   | 120                   | 140                   | 150                   | 110                   | 3                     | True                  |\n",
       "| 420 | 381                   | Latios                | Dragon                | Psychic               | 600                   |  80                   |  90                   |  80                   | 130                   | 110                   | 110                   | 3                     | True                  |\n",
       "| 421 | 381                   | LatiosMega Latios     | Dragon                | Psychic               | 700                   |  80                   | 130                   | 100                   | 160                   | 120                   | 110                   | 3                     | True                  |\n",
       "| 422 | 382                   | Kyogre                | Water                 |                       | 670                   | 100                   | 100                   |  90                   | 150                   | 140                   |  90                   | 3                     | True                  |\n",
       "| 423 | 382                   | KyogrePrimal Kyogre   | Water                 |                       | 770                   | 100                   | 150                   |  90                   | 180                   | 160                   |  90                   | 3                     | True                  |\n",
       "| 424 | 383                   | Groudon               | Ground                |                       | 670                   | 100                   | 150                   | 140                   | 100                   |  90                   |  90                   | 3                     | True                  |\n",
       "| 425 | 383                   | GroudonPrimal Groudon | Ground                | Fire                  | 770                   | 100                   | 180                   | 160                   | 150                   |  90                   |  90                   | 3                     | True                  |\n",
       "| 426 | 384                   | Rayquaza              | Dragon                | Flying                | 680                   | 105                   | 150                   |  90                   | 150                   |  90                   |  95                   | 3                     | True                  |\n",
       "| 427 | 384                   | RayquazaMega Rayquaza | Dragon                | Flying                | 780                   | 105                   | 180                   | 100                   | 180                   | 100                   | 115                   | 3                     | True                  |\n",
       "| 428 | 385                   | Jirachi               | Steel                 | Psychic               | 600                   | 100                   | 100                   | 100                   | 100                   | 100                   | 100                   | 3                     | True                  |\n",
       "| 429 | 386                   | DeoxysNormal Forme    | Psychic               |                       | 600                   |  50                   | 150                   |  50                   | 150                   |  50                   | 150                   | 3                     | True                  |\n",
       "| 430 | 386                   | DeoxysAttack Forme    | Psychic               |                       | 600                   |  50                   | 180                   |  20                   | 180                   |  20                   | 150                   | 3                     | True                  |\n",
       "| 431 | 386                   | DeoxysDefense Forme   | Psychic               |                       | 600                   |  50                   |  70                   | 160                   |  70                   | 160                   |  90                   | 3                     | True                  |\n",
       "| 432 | 386                   | DeoxysSpeed Forme     | Psychic               |                       | 600                   |  50                   |  95                   |  90                   |  95                   |  90                   | 180                   | 3                     | True                  |\n",
       "| 538 | 480                   | Uxie                  | Psychic               |                       | 580                   |  75                   |  75                   | 130                   |  75                   | 130                   |  95                   | 4                     | True                  |\n",
       "| ... | ... | ... | ... | ... | ... | ... | ... | ... | ... | ... | ... | ... | ... |\n",
       "| 544 | 486                      | Regigigas                | Normal                   |                          | 670                      | 110                      | 160                      | 110                      |  80                      | 110                      | 100                      | 4                        | True                     |\n",
       "| 545 | 487                      | GiratinaAltered Forme    | Ghost                    | Dragon                   | 680                      | 150                      | 100                      | 120                      | 100                      | 120                      |  90                      | 4                        | True                     |\n",
       "| 546 | 487                      | GiratinaOrigin Forme     | Ghost                    | Dragon                   | 680                      | 150                      | 120                      | 100                      | 120                      | 100                      |  90                      | 4                        | True                     |\n",
       "| 550 | 491                      | Darkrai                  | Dark                     |                          | 600                      |  70                      |  90                      |  90                      | 135                      |  90                      | 125                      | 4                        | True                     |\n",
       "| 551 | 492                      | ShayminLand Forme        | Grass                    |                          | 600                      | 100                      | 100                      | 100                      | 100                      | 100                      | 100                      | 4                        | True                     |\n",
       "| 552 | 492                      | ShayminSky Forme         | Grass                    | Flying                   | 600                      | 100                      | 103                      |  75                      | 120                      |  75                      | 127                      | 4                        | True                     |\n",
       "| 553 | 493                      | Arceus                   | Normal                   |                          | 720                      | 120                      | 120                      | 120                      | 120                      | 120                      | 120                      | 4                        | True                     |\n",
       "| 554 | 494                      | Victini                  | Psychic                  | Fire                     | 600                      | 100                      | 100                      | 100                      | 100                      | 100                      | 100                      | 5                        | True                     |\n",
       "| 700 | 638                      | Cobalion                 | Steel                    | Fighting                 | 580                      |  91                      |  90                      | 129                      |  90                      |  72                      | 108                      | 5                        | True                     |\n",
       "| 701 | 639                      | Terrakion                | Rock                     | Fighting                 | 580                      |  91                      | 129                      |  90                      |  72                      |  90                      | 108                      | 5                        | True                     |\n",
       "| 702 | 640                      | Virizion                 | Grass                    | Fighting                 | 580                      |  91                      |  90                      |  72                      |  90                      | 129                      | 108                      | 5                        | True                     |\n",
       "| 703 | 641                      | TornadusIncarnate Forme  | Flying                   |                          | 580                      |  79                      | 115                      |  70                      | 125                      |  80                      | 111                      | 5                        | True                     |\n",
       "| 704 | 641                      | TornadusTherian Forme    | Flying                   |                          | 580                      |  79                      | 100                      |  80                      | 110                      |  90                      | 121                      | 5                        | True                     |\n",
       "| 705 | 642                      | ThundurusIncarnate Forme | Electric                 | Flying                   | 580                      |  79                      | 115                      |  70                      | 125                      |  80                      | 111                      | 5                        | True                     |\n",
       "| 706 | 642                      | ThundurusTherian Forme   | Electric                 | Flying                   | 580                      |  79                      | 105                      |  70                      | 145                      |  80                      | 101                      | 5                        | True                     |\n",
       "| 707 | 643                      | Reshiram                 | Dragon                   | Fire                     | 680                      | 100                      | 120                      | 100                      | 150                      | 120                      |  90                      | 5                        | True                     |\n",
       "| 708 | 644                      | Zekrom                   | Dragon                   | Electric                 | 680                      | 100                      | 150                      | 120                      | 120                      | 100                      |  90                      | 5                        | True                     |\n",
       "| 709 | 645                      | LandorusIncarnate Forme  | Ground                   | Flying                   | 600                      |  89                      | 125                      |  90                      | 115                      |  80                      | 101                      | 5                        | True                     |\n",
       "| 710 | 645                      | LandorusTherian Forme    | Ground                   | Flying                   | 600                      |  89                      | 145                      |  90                      | 105                      |  80                      |  91                      | 5                        | True                     |\n",
       "| 711 | 646                      | Kyurem                   | Dragon                   | Ice                      | 660                      | 125                      | 130                      |  90                      | 130                      |  90                      |  95                      | 5                        | True                     |\n",
       "| 712 | 646                      | KyuremBlack Kyurem       | Dragon                   | Ice                      | 700                      | 125                      | 170                      | 100                      | 120                      |  90                      |  95                      | 5                        | True                     |\n",
       "| 713 | 646                      | KyuremWhite Kyurem       | Dragon                   | Ice                      | 700                      | 125                      | 120                      |  90                      | 170                      | 100                      |  95                      | 5                        | True                     |\n",
       "| 793 | 716                      | Xerneas                  | Fairy                    |                          | 680                      | 126                      | 131                      |  95                      | 131                      |  98                      |  99                      | 6                        | True                     |\n",
       "| 794 | 717                      | Yveltal                  | Dark                     | Flying                   | 680                      | 126                      | 131                      |  95                      | 131                      |  98                      |  99                      | 6                        | True                     |\n",
       "| 795 | 718                      | Zygarde50% Forme         | Dragon                   | Ground                   | 600                      | 108                      | 100                      | 121                      |  81                      |  95                      |  95                      | 6                        | True                     |\n",
       "| 796 | 719                      | Diancie                  | Rock                     | Fairy                    | 600                      |  50                      | 100                      | 150                      | 100                      | 150                      |  50                      | 6                        | True                     |\n",
       "| 797 | 719                      | DiancieMega Diancie      | Rock                     | Fairy                    | 700                      |  50                      | 160                      | 110                      | 160                      | 110                      | 110                      | 6                        | True                     |\n",
       "| 798 | 720                      | HoopaHoopa Confined      | Psychic                  | Ghost                    | 600                      |  80                      | 110                      |  60                      | 150                      | 130                      |  70                      | 6                        | True                     |\n",
       "| 799 | 720                      | HoopaHoopa Unbound       | Psychic                  | Dark                     | 680                      |  80                      | 160                      |  60                      | 170                      | 130                      |  80                      | 6                        | True                     |\n",
       "| 800 | 721                      | Volcanion                | Fire                     | Water                    | 600                      |  80                      | 110                      | 120                      | 130                      |  90                      |  70                      | 6                        | True                     |\n",
       "\n"
      ],
      "text/plain": [
       "    X.  Name                     Type.1   Type.2   Total HP  Attack Defense\n",
       "157 144 Articuno                 Ice      Flying   580    90  85    100    \n",
       "158 145 Zapdos                   Electric Flying   580    90  90     85    \n",
       "159 146 Moltres                  Fire     Flying   580    90 100     90    \n",
       "163 150 Mewtwo                   Psychic           680   106 110     90    \n",
       "164 150 MewtwoMega Mewtwo X      Psychic  Fighting 780   106 190    100    \n",
       "165 150 MewtwoMega Mewtwo Y      Psychic           780   106 150     70    \n",
       "263 243 Raikou                   Electric          580    90  85     75    \n",
       "264 244 Entei                    Fire              580   115 115     85    \n",
       "265 245 Suicune                  Water             580   100  75    115    \n",
       "270 249 Lugia                    Psychic  Flying   680   106  90    130    \n",
       "271 250 Ho-oh                    Fire     Flying   680   106 130     90    \n",
       "415 377 Regirock                 Rock              580    80 100    200    \n",
       "416 378 Regice                   Ice               580    80  50    100    \n",
       "417 379 Registeel                Steel             580    80  75    150    \n",
       "418 380 Latias                   Dragon   Psychic  600    80  80     90    \n",
       "419 380 LatiasMega Latias        Dragon   Psychic  700    80 100    120    \n",
       "420 381 Latios                   Dragon   Psychic  600    80  90     80    \n",
       "421 381 LatiosMega Latios        Dragon   Psychic  700    80 130    100    \n",
       "422 382 Kyogre                   Water             670   100 100     90    \n",
       "423 382 KyogrePrimal Kyogre      Water             770   100 150     90    \n",
       "424 383 Groudon                  Ground            670   100 150    140    \n",
       "425 383 GroudonPrimal Groudon    Ground   Fire     770   100 180    160    \n",
       "426 384 Rayquaza                 Dragon   Flying   680   105 150     90    \n",
       "427 384 RayquazaMega Rayquaza    Dragon   Flying   780   105 180    100    \n",
       "428 385 Jirachi                  Steel    Psychic  600   100 100    100    \n",
       "429 386 DeoxysNormal Forme       Psychic           600    50 150     50    \n",
       "430 386 DeoxysAttack Forme       Psychic           600    50 180     20    \n",
       "431 386 DeoxysDefense Forme      Psychic           600    50  70    160    \n",
       "432 386 DeoxysSpeed Forme        Psychic           600    50  95     90    \n",
       "538 480 Uxie                     Psychic           580    75  75    130    \n",
       "... ... ...                      ...      ...      ...   ... ...    ...    \n",
       "544 486 Regigigas                Normal            670   110 160    110    \n",
       "545 487 GiratinaAltered Forme    Ghost    Dragon   680   150 100    120    \n",
       "546 487 GiratinaOrigin Forme     Ghost    Dragon   680   150 120    100    \n",
       "550 491 Darkrai                  Dark              600    70  90     90    \n",
       "551 492 ShayminLand Forme        Grass             600   100 100    100    \n",
       "552 492 ShayminSky Forme         Grass    Flying   600   100 103     75    \n",
       "553 493 Arceus                   Normal            720   120 120    120    \n",
       "554 494 Victini                  Psychic  Fire     600   100 100    100    \n",
       "700 638 Cobalion                 Steel    Fighting 580    91  90    129    \n",
       "701 639 Terrakion                Rock     Fighting 580    91 129     90    \n",
       "702 640 Virizion                 Grass    Fighting 580    91  90     72    \n",
       "703 641 TornadusIncarnate Forme  Flying            580    79 115     70    \n",
       "704 641 TornadusTherian Forme    Flying            580    79 100     80    \n",
       "705 642 ThundurusIncarnate Forme Electric Flying   580    79 115     70    \n",
       "706 642 ThundurusTherian Forme   Electric Flying   580    79 105     70    \n",
       "707 643 Reshiram                 Dragon   Fire     680   100 120    100    \n",
       "708 644 Zekrom                   Dragon   Electric 680   100 150    120    \n",
       "709 645 LandorusIncarnate Forme  Ground   Flying   600    89 125     90    \n",
       "710 645 LandorusTherian Forme    Ground   Flying   600    89 145     90    \n",
       "711 646 Kyurem                   Dragon   Ice      660   125 130     90    \n",
       "712 646 KyuremBlack Kyurem       Dragon   Ice      700   125 170    100    \n",
       "713 646 KyuremWhite Kyurem       Dragon   Ice      700   125 120     90    \n",
       "793 716 Xerneas                  Fairy             680   126 131     95    \n",
       "794 717 Yveltal                  Dark     Flying   680   126 131     95    \n",
       "795 718 Zygarde50% Forme         Dragon   Ground   600   108 100    121    \n",
       "796 719 Diancie                  Rock     Fairy    600    50 100    150    \n",
       "797 719 DiancieMega Diancie      Rock     Fairy    700    50 160    110    \n",
       "798 720 HoopaHoopa Confined      Psychic  Ghost    600    80 110     60    \n",
       "799 720 HoopaHoopa Unbound       Psychic  Dark     680    80 160     60    \n",
       "800 721 Volcanion                Fire     Water    600    80 110    120    \n",
       "    Sp..Atk Sp..Def Speed Generation Legendary\n",
       "157  95     125      85   1          True     \n",
       "158 125      90     100   1          True     \n",
       "159 125      85      90   1          True     \n",
       "163 154      90     130   1          True     \n",
       "164 154     100     130   1          True     \n",
       "165 194     120     140   1          True     \n",
       "263 115     100     115   2          True     \n",
       "264  90      75     100   2          True     \n",
       "265  90     115      85   2          True     \n",
       "270  90     154     110   2          True     \n",
       "271 110     154      90   2          True     \n",
       "415  50     100      50   3          True     \n",
       "416 100     200      50   3          True     \n",
       "417  75     150      50   3          True     \n",
       "418 110     130     110   3          True     \n",
       "419 140     150     110   3          True     \n",
       "420 130     110     110   3          True     \n",
       "421 160     120     110   3          True     \n",
       "422 150     140      90   3          True     \n",
       "423 180     160      90   3          True     \n",
       "424 100      90      90   3          True     \n",
       "425 150      90      90   3          True     \n",
       "426 150      90      95   3          True     \n",
       "427 180     100     115   3          True     \n",
       "428 100     100     100   3          True     \n",
       "429 150      50     150   3          True     \n",
       "430 180      20     150   3          True     \n",
       "431  70     160      90   3          True     \n",
       "432  95      90     180   3          True     \n",
       "538  75     130      95   4          True     \n",
       "... ...     ...     ...   ...        ...      \n",
       "544  80     110     100   4          True     \n",
       "545 100     120      90   4          True     \n",
       "546 120     100      90   4          True     \n",
       "550 135      90     125   4          True     \n",
       "551 100     100     100   4          True     \n",
       "552 120      75     127   4          True     \n",
       "553 120     120     120   4          True     \n",
       "554 100     100     100   5          True     \n",
       "700  90      72     108   5          True     \n",
       "701  72      90     108   5          True     \n",
       "702  90     129     108   5          True     \n",
       "703 125      80     111   5          True     \n",
       "704 110      90     121   5          True     \n",
       "705 125      80     111   5          True     \n",
       "706 145      80     101   5          True     \n",
       "707 150     120      90   5          True     \n",
       "708 120     100      90   5          True     \n",
       "709 115      80     101   5          True     \n",
       "710 105      80      91   5          True     \n",
       "711 130      90      95   5          True     \n",
       "712 120      90      95   5          True     \n",
       "713 170     100      95   5          True     \n",
       "793 131      98      99   6          True     \n",
       "794 131      98      99   6          True     \n",
       "795  81      95      95   6          True     \n",
       "796 100     150      50   6          True     \n",
       "797 160     110     110   6          True     \n",
       "798 150     130      70   6          True     \n",
       "799 170     130      80   6          True     \n",
       "800 130      90      70   6          True     "
      ]
     },
     "metadata": {},
     "output_type": "display_data"
    }
   ],
   "source": [
    "#select legendary pokemon\n",
    "subset(pokemon, as.logical(pokemon$Legendary))"
   ]
  },
  {
   "cell_type": "code",
   "execution_count": 35,
   "metadata": {},
   "outputs": [
    {
     "data": {
      "text/html": [
       "<table>\n",
       "<thead><tr><th></th><th scope=col>X.</th><th scope=col>Name</th><th scope=col>Type.1</th><th scope=col>Type.2</th><th scope=col>Total</th><th scope=col>HP</th><th scope=col>Attack</th><th scope=col>Defense</th><th scope=col>Sp..Atk</th><th scope=col>Sp..Def</th><th scope=col>Speed</th><th scope=col>Generation</th><th scope=col>Legendary</th></tr></thead>\n",
       "<tbody>\n",
       "\t<tr><th scope=row>8</th><td>  6                      </td><td>CharizardMega Charizard X</td><td>Fire                     </td><td>Dragon                   </td><td>634                      </td><td> 78                      </td><td>130                      </td><td>111                      </td><td>130                      </td><td> 85                      </td><td>100                      </td><td>1                        </td><td>False                    </td></tr>\n",
       "\t<tr><th scope=row>160</th><td>147                      </td><td>Dratini                  </td><td>Dragon                   </td><td>                         </td><td>300                      </td><td> 41                      </td><td> 64                      </td><td> 45                      </td><td> 50                      </td><td> 50                      </td><td> 50                      </td><td>1                        </td><td>False                    </td></tr>\n",
       "\t<tr><th scope=row>161</th><td>148                      </td><td>Dragonair                </td><td>Dragon                   </td><td>                         </td><td>420                      </td><td> 61                      </td><td> 84                      </td><td> 65                      </td><td> 70                      </td><td> 70                      </td><td> 70                      </td><td>1                        </td><td>False                    </td></tr>\n",
       "\t<tr><th scope=row>162</th><td>149                      </td><td>Dragonite                </td><td>Dragon                   </td><td>Flying                   </td><td>600                      </td><td> 91                      </td><td>134                      </td><td> 95                      </td><td>100                      </td><td>100                      </td><td> 80                      </td><td>1                        </td><td>False                    </td></tr>\n",
       "\t<tr><th scope=row>197</th><td>181                      </td><td>AmpharosMega Ampharos    </td><td>Electric                 </td><td>Dragon                   </td><td>610                      </td><td> 90                      </td><td> 95                      </td><td>105                      </td><td>165                      </td><td>110                      </td><td> 45                      </td><td>2                        </td><td>False                    </td></tr>\n",
       "\t<tr><th scope=row>250</th><td>230                      </td><td>Kingdra                  </td><td>Water                    </td><td>Dragon                   </td><td>540                      </td><td> 75                      </td><td> 95                      </td><td> 95                      </td><td> 95                      </td><td> 95                      </td><td> 85                      </td><td>2                        </td><td>False                    </td></tr>\n",
       "\t<tr><th scope=row>276</th><td>254                      </td><td>SceptileMega Sceptile    </td><td>Grass                    </td><td>Dragon                   </td><td>630                      </td><td> 70                      </td><td>110                      </td><td> 75                      </td><td>145                      </td><td> 85                      </td><td>145                      </td><td>3                        </td><td>False                    </td></tr>\n",
       "\t<tr><th scope=row>361</th><td>329                      </td><td>Vibrava                  </td><td>Ground                   </td><td>Dragon                   </td><td>340                      </td><td> 50                      </td><td> 70                      </td><td> 50                      </td><td> 50                      </td><td> 50                      </td><td> 70                      </td><td>3                        </td><td>False                    </td></tr>\n",
       "\t<tr><th scope=row>362</th><td>330                      </td><td>Flygon                   </td><td>Ground                   </td><td>Dragon                   </td><td>520                      </td><td> 80                      </td><td>100                      </td><td> 80                      </td><td> 80                      </td><td> 80                      </td><td>100                      </td><td>3                        </td><td>False                    </td></tr>\n",
       "\t<tr><th scope=row>366</th><td>334                      </td><td>Altaria                  </td><td>Dragon                   </td><td>Flying                   </td><td>490                      </td><td> 75                      </td><td> 70                      </td><td> 90                      </td><td> 70                      </td><td>105                      </td><td> 80                      </td><td>3                        </td><td>False                    </td></tr>\n",
       "\t<tr><th scope=row>367</th><td>334                      </td><td>AltariaMega Altaria      </td><td>Dragon                   </td><td>Fairy                    </td><td>590                      </td><td> 75                      </td><td>110                      </td><td>110                      </td><td>110                      </td><td>105                      </td><td> 80                      </td><td>3                        </td><td>False                    </td></tr>\n",
       "\t<tr><th scope=row>407</th><td>371                      </td><td>Bagon                    </td><td>Dragon                   </td><td>                         </td><td>300                      </td><td> 45                      </td><td> 75                      </td><td> 60                      </td><td> 40                      </td><td> 30                      </td><td> 50                      </td><td>3                        </td><td>False                    </td></tr>\n",
       "\t<tr><th scope=row>408</th><td>372                      </td><td>Shelgon                  </td><td>Dragon                   </td><td>                         </td><td>420                      </td><td> 65                      </td><td> 95                      </td><td>100                      </td><td> 60                      </td><td> 50                      </td><td> 50                      </td><td>3                        </td><td>False                    </td></tr>\n",
       "\t<tr><th scope=row>409</th><td>373                      </td><td>Salamence                </td><td>Dragon                   </td><td>Flying                   </td><td>600                      </td><td> 95                      </td><td>135                      </td><td> 80                      </td><td>110                      </td><td> 80                      </td><td>100                      </td><td>3                        </td><td>False                    </td></tr>\n",
       "\t<tr><th scope=row>410</th><td>373                      </td><td>SalamenceMega Salamence  </td><td>Dragon                   </td><td>Flying                   </td><td>700                      </td><td> 95                      </td><td>145                      </td><td>130                      </td><td>120                      </td><td> 90                      </td><td>120                      </td><td>3                        </td><td>False                    </td></tr>\n",
       "\t<tr><th scope=row>418</th><td>380                      </td><td>Latias                   </td><td>Dragon                   </td><td>Psychic                  </td><td>600                      </td><td> 80                      </td><td> 80                      </td><td> 90                      </td><td>110                      </td><td>130                      </td><td>110                      </td><td>3                        </td><td>True                     </td></tr>\n",
       "\t<tr><th scope=row>419</th><td>380                      </td><td>LatiasMega Latias        </td><td>Dragon                   </td><td>Psychic                  </td><td>700                      </td><td> 80                      </td><td>100                      </td><td>120                      </td><td>140                      </td><td>150                      </td><td>110                      </td><td>3                        </td><td>True                     </td></tr>\n",
       "\t<tr><th scope=row>420</th><td>381                      </td><td>Latios                   </td><td>Dragon                   </td><td>Psychic                  </td><td>600                      </td><td> 80                      </td><td> 90                      </td><td> 80                      </td><td>130                      </td><td>110                      </td><td>110                      </td><td>3                        </td><td>True                     </td></tr>\n",
       "\t<tr><th scope=row>421</th><td>381                      </td><td>LatiosMega Latios        </td><td>Dragon                   </td><td>Psychic                  </td><td>700                      </td><td> 80                      </td><td>130                      </td><td>100                      </td><td>160                      </td><td>120                      </td><td>110                      </td><td>3                        </td><td>True                     </td></tr>\n",
       "\t<tr><th scope=row>426</th><td>384                      </td><td>Rayquaza                 </td><td>Dragon                   </td><td>Flying                   </td><td>680                      </td><td>105                      </td><td>150                      </td><td> 90                      </td><td>150                      </td><td> 90                      </td><td> 95                      </td><td>3                        </td><td>True                     </td></tr>\n",
       "\t<tr><th scope=row>427</th><td>384                      </td><td>RayquazaMega Rayquaza    </td><td>Dragon                   </td><td>Flying                   </td><td>780                      </td><td>105                      </td><td>180                      </td><td>100                      </td><td>180                      </td><td>100                      </td><td>115                      </td><td>3                        </td><td>True                     </td></tr>\n",
       "\t<tr><th scope=row>492</th><td>443                      </td><td>Gible                    </td><td>Dragon                   </td><td>Ground                   </td><td>300                      </td><td> 58                      </td><td> 70                      </td><td> 45                      </td><td> 40                      </td><td> 45                      </td><td> 42                      </td><td>4                        </td><td>False                    </td></tr>\n",
       "\t<tr><th scope=row>493</th><td>444                      </td><td>Gabite                   </td><td>Dragon                   </td><td>Ground                   </td><td>410                      </td><td> 68                      </td><td> 90                      </td><td> 65                      </td><td> 50                      </td><td> 55                      </td><td> 82                      </td><td>4                        </td><td>False                    </td></tr>\n",
       "\t<tr><th scope=row>494</th><td>445                      </td><td>Garchomp                 </td><td>Dragon                   </td><td>Ground                   </td><td>600                      </td><td>108                      </td><td>130                      </td><td> 95                      </td><td> 80                      </td><td> 85                      </td><td>102                      </td><td>4                        </td><td>False                    </td></tr>\n",
       "\t<tr><th scope=row>495</th><td>445                      </td><td>GarchompMega Garchomp    </td><td>Dragon                   </td><td>Ground                   </td><td>700                      </td><td>108                      </td><td>170                      </td><td>115                      </td><td>120                      </td><td> 95                      </td><td> 92                      </td><td>4                        </td><td>False                    </td></tr>\n",
       "\t<tr><th scope=row>541</th><td>483                      </td><td>Dialga                   </td><td>Steel                    </td><td>Dragon                   </td><td>680                      </td><td>100                      </td><td>120                      </td><td>120                      </td><td>150                      </td><td>100                      </td><td> 90                      </td><td>4                        </td><td>True                     </td></tr>\n",
       "\t<tr><th scope=row>542</th><td>484                      </td><td>Palkia                   </td><td>Water                    </td><td>Dragon                   </td><td>680                      </td><td> 90                      </td><td>120                      </td><td>100                      </td><td>150                      </td><td>120                      </td><td>100                      </td><td>4                        </td><td>True                     </td></tr>\n",
       "\t<tr><th scope=row>545</th><td>487                      </td><td>GiratinaAltered Forme    </td><td>Ghost                    </td><td>Dragon                   </td><td>680                      </td><td>150                      </td><td>100                      </td><td>120                      </td><td>100                      </td><td>120                      </td><td> 90                      </td><td>4                        </td><td>True                     </td></tr>\n",
       "\t<tr><th scope=row>546</th><td>487                      </td><td>GiratinaOrigin Forme     </td><td>Ghost                    </td><td>Dragon                   </td><td>680                      </td><td>150                      </td><td>120                      </td><td>100                      </td><td>120                      </td><td>100                      </td><td> 90                      </td><td>4                        </td><td>True                     </td></tr>\n",
       "\t<tr><th scope=row>672</th><td>610                      </td><td>Axew                     </td><td>Dragon                   </td><td>                         </td><td>320                      </td><td> 46                      </td><td> 87                      </td><td> 60                      </td><td> 30                      </td><td> 40                      </td><td> 57                      </td><td>5                        </td><td>False                    </td></tr>\n",
       "\t<tr><th scope=row>673</th><td>611                      </td><td>Fraxure                  </td><td>Dragon                   </td><td>                         </td><td>410                      </td><td> 66                      </td><td>117                      </td><td> 70                      </td><td> 40                      </td><td> 50                      </td><td> 67                      </td><td>5                        </td><td>False                    </td></tr>\n",
       "\t<tr><th scope=row>674</th><td>612                      </td><td>Haxorus                  </td><td>Dragon                   </td><td>                         </td><td>540                      </td><td> 76                      </td><td>147                      </td><td> 90                      </td><td> 60                      </td><td> 70                      </td><td> 97                      </td><td>5                        </td><td>False                    </td></tr>\n",
       "\t<tr><th scope=row>683</th><td>621                      </td><td>Druddigon                </td><td>Dragon                   </td><td>                         </td><td>485                      </td><td> 77                      </td><td>120                      </td><td> 90                      </td><td> 60                      </td><td> 90                      </td><td> 48                      </td><td>5                        </td><td>False                    </td></tr>\n",
       "\t<tr><th scope=row>695</th><td>633                      </td><td>Deino                    </td><td>Dark                     </td><td>Dragon                   </td><td>300                      </td><td> 52                      </td><td> 65                      </td><td> 50                      </td><td> 45                      </td><td> 50                      </td><td> 38                      </td><td>5                        </td><td>False                    </td></tr>\n",
       "\t<tr><th scope=row>696</th><td>634                      </td><td>Zweilous                 </td><td>Dark                     </td><td>Dragon                   </td><td>420                      </td><td> 72                      </td><td> 85                      </td><td> 70                      </td><td> 65                      </td><td> 70                      </td><td> 58                      </td><td>5                        </td><td>False                    </td></tr>\n",
       "\t<tr><th scope=row>697</th><td>635                      </td><td>Hydreigon                </td><td>Dark                     </td><td>Dragon                   </td><td>600                      </td><td> 92                      </td><td>105                      </td><td> 90                      </td><td>125                      </td><td> 90                      </td><td> 98                      </td><td>5                        </td><td>False                    </td></tr>\n",
       "\t<tr><th scope=row>707</th><td>643                      </td><td>Reshiram                 </td><td>Dragon                   </td><td>Fire                     </td><td>680                      </td><td>100                      </td><td>120                      </td><td>100                      </td><td>150                      </td><td>120                      </td><td> 90                      </td><td>5                        </td><td>True                     </td></tr>\n",
       "\t<tr><th scope=row>708</th><td>644                      </td><td>Zekrom                   </td><td>Dragon                   </td><td>Electric                 </td><td>680                      </td><td>100                      </td><td>150                      </td><td>120                      </td><td>120                      </td><td>100                      </td><td> 90                      </td><td>5                        </td><td>True                     </td></tr>\n",
       "\t<tr><th scope=row>711</th><td>646                      </td><td>Kyurem                   </td><td>Dragon                   </td><td>Ice                      </td><td>660                      </td><td>125                      </td><td>130                      </td><td> 90                      </td><td>130                      </td><td> 90                      </td><td> 95                      </td><td>5                        </td><td>True                     </td></tr>\n",
       "\t<tr><th scope=row>712</th><td>646                      </td><td>KyuremBlack Kyurem       </td><td>Dragon                   </td><td>Ice                      </td><td>700                      </td><td>125                      </td><td>170                      </td><td>100                      </td><td>120                      </td><td> 90                      </td><td> 95                      </td><td>5                        </td><td>True                     </td></tr>\n",
       "\t<tr><th scope=row>713</th><td>646                      </td><td>KyuremWhite Kyurem       </td><td>Dragon                   </td><td>Ice                      </td><td>700                      </td><td>125                      </td><td>120                      </td><td> 90                      </td><td>170                      </td><td>100                      </td><td> 95                      </td><td>5                        </td><td>True                     </td></tr>\n",
       "\t<tr><th scope=row>762</th><td>691                      </td><td>Dragalge                 </td><td>Poison                   </td><td>Dragon                   </td><td>494                      </td><td> 65                      </td><td> 75                      </td><td> 90                      </td><td> 97                      </td><td>123                      </td><td> 44                      </td><td>6                        </td><td>False                    </td></tr>\n",
       "\t<tr><th scope=row>767</th><td>696                      </td><td>Tyrunt                   </td><td>Rock                     </td><td>Dragon                   </td><td>362                      </td><td> 58                      </td><td> 89                      </td><td> 77                      </td><td> 45                      </td><td> 45                      </td><td> 48                      </td><td>6                        </td><td>False                    </td></tr>\n",
       "\t<tr><th scope=row>768</th><td>697                      </td><td>Tyrantrum                </td><td>Rock                     </td><td>Dragon                   </td><td>521                      </td><td> 82                      </td><td>121                      </td><td>119                      </td><td> 69                      </td><td> 59                      </td><td> 71                      </td><td>6                        </td><td>False                    </td></tr>\n",
       "\t<tr><th scope=row>775</th><td>704                      </td><td>Goomy                    </td><td>Dragon                   </td><td>                         </td><td>300                      </td><td> 45                      </td><td> 50                      </td><td> 35                      </td><td> 55                      </td><td> 75                      </td><td> 40                      </td><td>6                        </td><td>False                    </td></tr>\n",
       "\t<tr><th scope=row>776</th><td>705                      </td><td>Sliggoo                  </td><td>Dragon                   </td><td>                         </td><td>452                      </td><td> 68                      </td><td> 75                      </td><td> 53                      </td><td> 83                      </td><td>113                      </td><td> 60                      </td><td>6                        </td><td>False                    </td></tr>\n",
       "\t<tr><th scope=row>777</th><td>706                      </td><td>Goodra                   </td><td>Dragon                   </td><td>                         </td><td>600                      </td><td> 90                      </td><td>100                      </td><td> 70                      </td><td>110                      </td><td>150                      </td><td> 80                      </td><td>6                        </td><td>False                    </td></tr>\n",
       "\t<tr><th scope=row>791</th><td>714                      </td><td>Noibat                   </td><td>Flying                   </td><td>Dragon                   </td><td>245                      </td><td> 40                      </td><td> 30                      </td><td> 35                      </td><td> 45                      </td><td> 40                      </td><td> 55                      </td><td>6                        </td><td>False                    </td></tr>\n",
       "\t<tr><th scope=row>792</th><td>715                      </td><td>Noivern                  </td><td>Flying                   </td><td>Dragon                   </td><td>535                      </td><td> 85                      </td><td> 70                      </td><td> 80                      </td><td> 97                      </td><td> 80                      </td><td>123                      </td><td>6                        </td><td>False                    </td></tr>\n",
       "\t<tr><th scope=row>795</th><td>718                      </td><td>Zygarde50% Forme         </td><td>Dragon                   </td><td>Ground                   </td><td>600                      </td><td>108                      </td><td>100                      </td><td>121                      </td><td> 81                      </td><td> 95                      </td><td> 95                      </td><td>6                        </td><td>True                     </td></tr>\n",
       "</tbody>\n",
       "</table>\n"
      ],
      "text/latex": [
       "\\begin{tabular}{r|lllllllllllll}\n",
       "  & X. & Name & Type.1 & Type.2 & Total & HP & Attack & Defense & Sp..Atk & Sp..Def & Speed & Generation & Legendary\\\\\n",
       "\\hline\n",
       "\t8 &   6                       & CharizardMega Charizard X & Fire                      & Dragon                    & 634                       &  78                       & 130                       & 111                       & 130                       &  85                       & 100                       & 1                         & False                    \\\\\n",
       "\t160 & 147                       & Dratini                   & Dragon                    &                           & 300                       &  41                       &  64                       &  45                       &  50                       &  50                       &  50                       & 1                         & False                    \\\\\n",
       "\t161 & 148                       & Dragonair                 & Dragon                    &                           & 420                       &  61                       &  84                       &  65                       &  70                       &  70                       &  70                       & 1                         & False                    \\\\\n",
       "\t162 & 149                       & Dragonite                 & Dragon                    & Flying                    & 600                       &  91                       & 134                       &  95                       & 100                       & 100                       &  80                       & 1                         & False                    \\\\\n",
       "\t197 & 181                       & AmpharosMega Ampharos     & Electric                  & Dragon                    & 610                       &  90                       &  95                       & 105                       & 165                       & 110                       &  45                       & 2                         & False                    \\\\\n",
       "\t250 & 230                       & Kingdra                   & Water                     & Dragon                    & 540                       &  75                       &  95                       &  95                       &  95                       &  95                       &  85                       & 2                         & False                    \\\\\n",
       "\t276 & 254                       & SceptileMega Sceptile     & Grass                     & Dragon                    & 630                       &  70                       & 110                       &  75                       & 145                       &  85                       & 145                       & 3                         & False                    \\\\\n",
       "\t361 & 329                       & Vibrava                   & Ground                    & Dragon                    & 340                       &  50                       &  70                       &  50                       &  50                       &  50                       &  70                       & 3                         & False                    \\\\\n",
       "\t362 & 330                       & Flygon                    & Ground                    & Dragon                    & 520                       &  80                       & 100                       &  80                       &  80                       &  80                       & 100                       & 3                         & False                    \\\\\n",
       "\t366 & 334                       & Altaria                   & Dragon                    & Flying                    & 490                       &  75                       &  70                       &  90                       &  70                       & 105                       &  80                       & 3                         & False                    \\\\\n",
       "\t367 & 334                       & AltariaMega Altaria       & Dragon                    & Fairy                     & 590                       &  75                       & 110                       & 110                       & 110                       & 105                       &  80                       & 3                         & False                    \\\\\n",
       "\t407 & 371                       & Bagon                     & Dragon                    &                           & 300                       &  45                       &  75                       &  60                       &  40                       &  30                       &  50                       & 3                         & False                    \\\\\n",
       "\t408 & 372                       & Shelgon                   & Dragon                    &                           & 420                       &  65                       &  95                       & 100                       &  60                       &  50                       &  50                       & 3                         & False                    \\\\\n",
       "\t409 & 373                       & Salamence                 & Dragon                    & Flying                    & 600                       &  95                       & 135                       &  80                       & 110                       &  80                       & 100                       & 3                         & False                    \\\\\n",
       "\t410 & 373                       & SalamenceMega Salamence   & Dragon                    & Flying                    & 700                       &  95                       & 145                       & 130                       & 120                       &  90                       & 120                       & 3                         & False                    \\\\\n",
       "\t418 & 380                       & Latias                    & Dragon                    & Psychic                   & 600                       &  80                       &  80                       &  90                       & 110                       & 130                       & 110                       & 3                         & True                     \\\\\n",
       "\t419 & 380                       & LatiasMega Latias         & Dragon                    & Psychic                   & 700                       &  80                       & 100                       & 120                       & 140                       & 150                       & 110                       & 3                         & True                     \\\\\n",
       "\t420 & 381                       & Latios                    & Dragon                    & Psychic                   & 600                       &  80                       &  90                       &  80                       & 130                       & 110                       & 110                       & 3                         & True                     \\\\\n",
       "\t421 & 381                       & LatiosMega Latios         & Dragon                    & Psychic                   & 700                       &  80                       & 130                       & 100                       & 160                       & 120                       & 110                       & 3                         & True                     \\\\\n",
       "\t426 & 384                       & Rayquaza                  & Dragon                    & Flying                    & 680                       & 105                       & 150                       &  90                       & 150                       &  90                       &  95                       & 3                         & True                     \\\\\n",
       "\t427 & 384                       & RayquazaMega Rayquaza     & Dragon                    & Flying                    & 780                       & 105                       & 180                       & 100                       & 180                       & 100                       & 115                       & 3                         & True                     \\\\\n",
       "\t492 & 443                       & Gible                     & Dragon                    & Ground                    & 300                       &  58                       &  70                       &  45                       &  40                       &  45                       &  42                       & 4                         & False                    \\\\\n",
       "\t493 & 444                       & Gabite                    & Dragon                    & Ground                    & 410                       &  68                       &  90                       &  65                       &  50                       &  55                       &  82                       & 4                         & False                    \\\\\n",
       "\t494 & 445                       & Garchomp                  & Dragon                    & Ground                    & 600                       & 108                       & 130                       &  95                       &  80                       &  85                       & 102                       & 4                         & False                    \\\\\n",
       "\t495 & 445                       & GarchompMega Garchomp     & Dragon                    & Ground                    & 700                       & 108                       & 170                       & 115                       & 120                       &  95                       &  92                       & 4                         & False                    \\\\\n",
       "\t541 & 483                       & Dialga                    & Steel                     & Dragon                    & 680                       & 100                       & 120                       & 120                       & 150                       & 100                       &  90                       & 4                         & True                     \\\\\n",
       "\t542 & 484                       & Palkia                    & Water                     & Dragon                    & 680                       &  90                       & 120                       & 100                       & 150                       & 120                       & 100                       & 4                         & True                     \\\\\n",
       "\t545 & 487                       & GiratinaAltered Forme     & Ghost                     & Dragon                    & 680                       & 150                       & 100                       & 120                       & 100                       & 120                       &  90                       & 4                         & True                     \\\\\n",
       "\t546 & 487                       & GiratinaOrigin Forme      & Ghost                     & Dragon                    & 680                       & 150                       & 120                       & 100                       & 120                       & 100                       &  90                       & 4                         & True                     \\\\\n",
       "\t672 & 610                       & Axew                      & Dragon                    &                           & 320                       &  46                       &  87                       &  60                       &  30                       &  40                       &  57                       & 5                         & False                    \\\\\n",
       "\t673 & 611                       & Fraxure                   & Dragon                    &                           & 410                       &  66                       & 117                       &  70                       &  40                       &  50                       &  67                       & 5                         & False                    \\\\\n",
       "\t674 & 612                       & Haxorus                   & Dragon                    &                           & 540                       &  76                       & 147                       &  90                       &  60                       &  70                       &  97                       & 5                         & False                    \\\\\n",
       "\t683 & 621                       & Druddigon                 & Dragon                    &                           & 485                       &  77                       & 120                       &  90                       &  60                       &  90                       &  48                       & 5                         & False                    \\\\\n",
       "\t695 & 633                       & Deino                     & Dark                      & Dragon                    & 300                       &  52                       &  65                       &  50                       &  45                       &  50                       &  38                       & 5                         & False                    \\\\\n",
       "\t696 & 634                       & Zweilous                  & Dark                      & Dragon                    & 420                       &  72                       &  85                       &  70                       &  65                       &  70                       &  58                       & 5                         & False                    \\\\\n",
       "\t697 & 635                       & Hydreigon                 & Dark                      & Dragon                    & 600                       &  92                       & 105                       &  90                       & 125                       &  90                       &  98                       & 5                         & False                    \\\\\n",
       "\t707 & 643                       & Reshiram                  & Dragon                    & Fire                      & 680                       & 100                       & 120                       & 100                       & 150                       & 120                       &  90                       & 5                         & True                     \\\\\n",
       "\t708 & 644                       & Zekrom                    & Dragon                    & Electric                  & 680                       & 100                       & 150                       & 120                       & 120                       & 100                       &  90                       & 5                         & True                     \\\\\n",
       "\t711 & 646                       & Kyurem                    & Dragon                    & Ice                       & 660                       & 125                       & 130                       &  90                       & 130                       &  90                       &  95                       & 5                         & True                     \\\\\n",
       "\t712 & 646                       & KyuremBlack Kyurem        & Dragon                    & Ice                       & 700                       & 125                       & 170                       & 100                       & 120                       &  90                       &  95                       & 5                         & True                     \\\\\n",
       "\t713 & 646                       & KyuremWhite Kyurem        & Dragon                    & Ice                       & 700                       & 125                       & 120                       &  90                       & 170                       & 100                       &  95                       & 5                         & True                     \\\\\n",
       "\t762 & 691                       & Dragalge                  & Poison                    & Dragon                    & 494                       &  65                       &  75                       &  90                       &  97                       & 123                       &  44                       & 6                         & False                    \\\\\n",
       "\t767 & 696                       & Tyrunt                    & Rock                      & Dragon                    & 362                       &  58                       &  89                       &  77                       &  45                       &  45                       &  48                       & 6                         & False                    \\\\\n",
       "\t768 & 697                       & Tyrantrum                 & Rock                      & Dragon                    & 521                       &  82                       & 121                       & 119                       &  69                       &  59                       &  71                       & 6                         & False                    \\\\\n",
       "\t775 & 704                       & Goomy                     & Dragon                    &                           & 300                       &  45                       &  50                       &  35                       &  55                       &  75                       &  40                       & 6                         & False                    \\\\\n",
       "\t776 & 705                       & Sliggoo                   & Dragon                    &                           & 452                       &  68                       &  75                       &  53                       &  83                       & 113                       &  60                       & 6                         & False                    \\\\\n",
       "\t777 & 706                       & Goodra                    & Dragon                    &                           & 600                       &  90                       & 100                       &  70                       & 110                       & 150                       &  80                       & 6                         & False                    \\\\\n",
       "\t791 & 714                       & Noibat                    & Flying                    & Dragon                    & 245                       &  40                       &  30                       &  35                       &  45                       &  40                       &  55                       & 6                         & False                    \\\\\n",
       "\t792 & 715                       & Noivern                   & Flying                    & Dragon                    & 535                       &  85                       &  70                       &  80                       &  97                       &  80                       & 123                       & 6                         & False                    \\\\\n",
       "\t795 & 718                         & Zygarde50\\% Forme          & Dragon                      & Ground                      & 600                         & 108                         & 100                         & 121                         &  81                         &  95                         &  95                         & 6                           & True                       \\\\\n",
       "\\end{tabular}\n"
      ],
      "text/markdown": [
       "\n",
       "| <!--/--> | X. | Name | Type.1 | Type.2 | Total | HP | Attack | Defense | Sp..Atk | Sp..Def | Speed | Generation | Legendary |\n",
       "|---|---|---|---|---|---|---|---|---|---|---|---|---|---|\n",
       "| 8 |   6                       | CharizardMega Charizard X | Fire                      | Dragon                    | 634                       |  78                       | 130                       | 111                       | 130                       |  85                       | 100                       | 1                         | False                     |\n",
       "| 160 | 147                       | Dratini                   | Dragon                    |                           | 300                       |  41                       |  64                       |  45                       |  50                       |  50                       |  50                       | 1                         | False                     |\n",
       "| 161 | 148                       | Dragonair                 | Dragon                    |                           | 420                       |  61                       |  84                       |  65                       |  70                       |  70                       |  70                       | 1                         | False                     |\n",
       "| 162 | 149                       | Dragonite                 | Dragon                    | Flying                    | 600                       |  91                       | 134                       |  95                       | 100                       | 100                       |  80                       | 1                         | False                     |\n",
       "| 197 | 181                       | AmpharosMega Ampharos     | Electric                  | Dragon                    | 610                       |  90                       |  95                       | 105                       | 165                       | 110                       |  45                       | 2                         | False                     |\n",
       "| 250 | 230                       | Kingdra                   | Water                     | Dragon                    | 540                       |  75                       |  95                       |  95                       |  95                       |  95                       |  85                       | 2                         | False                     |\n",
       "| 276 | 254                       | SceptileMega Sceptile     | Grass                     | Dragon                    | 630                       |  70                       | 110                       |  75                       | 145                       |  85                       | 145                       | 3                         | False                     |\n",
       "| 361 | 329                       | Vibrava                   | Ground                    | Dragon                    | 340                       |  50                       |  70                       |  50                       |  50                       |  50                       |  70                       | 3                         | False                     |\n",
       "| 362 | 330                       | Flygon                    | Ground                    | Dragon                    | 520                       |  80                       | 100                       |  80                       |  80                       |  80                       | 100                       | 3                         | False                     |\n",
       "| 366 | 334                       | Altaria                   | Dragon                    | Flying                    | 490                       |  75                       |  70                       |  90                       |  70                       | 105                       |  80                       | 3                         | False                     |\n",
       "| 367 | 334                       | AltariaMega Altaria       | Dragon                    | Fairy                     | 590                       |  75                       | 110                       | 110                       | 110                       | 105                       |  80                       | 3                         | False                     |\n",
       "| 407 | 371                       | Bagon                     | Dragon                    |                           | 300                       |  45                       |  75                       |  60                       |  40                       |  30                       |  50                       | 3                         | False                     |\n",
       "| 408 | 372                       | Shelgon                   | Dragon                    |                           | 420                       |  65                       |  95                       | 100                       |  60                       |  50                       |  50                       | 3                         | False                     |\n",
       "| 409 | 373                       | Salamence                 | Dragon                    | Flying                    | 600                       |  95                       | 135                       |  80                       | 110                       |  80                       | 100                       | 3                         | False                     |\n",
       "| 410 | 373                       | SalamenceMega Salamence   | Dragon                    | Flying                    | 700                       |  95                       | 145                       | 130                       | 120                       |  90                       | 120                       | 3                         | False                     |\n",
       "| 418 | 380                       | Latias                    | Dragon                    | Psychic                   | 600                       |  80                       |  80                       |  90                       | 110                       | 130                       | 110                       | 3                         | True                      |\n",
       "| 419 | 380                       | LatiasMega Latias         | Dragon                    | Psychic                   | 700                       |  80                       | 100                       | 120                       | 140                       | 150                       | 110                       | 3                         | True                      |\n",
       "| 420 | 381                       | Latios                    | Dragon                    | Psychic                   | 600                       |  80                       |  90                       |  80                       | 130                       | 110                       | 110                       | 3                         | True                      |\n",
       "| 421 | 381                       | LatiosMega Latios         | Dragon                    | Psychic                   | 700                       |  80                       | 130                       | 100                       | 160                       | 120                       | 110                       | 3                         | True                      |\n",
       "| 426 | 384                       | Rayquaza                  | Dragon                    | Flying                    | 680                       | 105                       | 150                       |  90                       | 150                       |  90                       |  95                       | 3                         | True                      |\n",
       "| 427 | 384                       | RayquazaMega Rayquaza     | Dragon                    | Flying                    | 780                       | 105                       | 180                       | 100                       | 180                       | 100                       | 115                       | 3                         | True                      |\n",
       "| 492 | 443                       | Gible                     | Dragon                    | Ground                    | 300                       |  58                       |  70                       |  45                       |  40                       |  45                       |  42                       | 4                         | False                     |\n",
       "| 493 | 444                       | Gabite                    | Dragon                    | Ground                    | 410                       |  68                       |  90                       |  65                       |  50                       |  55                       |  82                       | 4                         | False                     |\n",
       "| 494 | 445                       | Garchomp                  | Dragon                    | Ground                    | 600                       | 108                       | 130                       |  95                       |  80                       |  85                       | 102                       | 4                         | False                     |\n",
       "| 495 | 445                       | GarchompMega Garchomp     | Dragon                    | Ground                    | 700                       | 108                       | 170                       | 115                       | 120                       |  95                       |  92                       | 4                         | False                     |\n",
       "| 541 | 483                       | Dialga                    | Steel                     | Dragon                    | 680                       | 100                       | 120                       | 120                       | 150                       | 100                       |  90                       | 4                         | True                      |\n",
       "| 542 | 484                       | Palkia                    | Water                     | Dragon                    | 680                       |  90                       | 120                       | 100                       | 150                       | 120                       | 100                       | 4                         | True                      |\n",
       "| 545 | 487                       | GiratinaAltered Forme     | Ghost                     | Dragon                    | 680                       | 150                       | 100                       | 120                       | 100                       | 120                       |  90                       | 4                         | True                      |\n",
       "| 546 | 487                       | GiratinaOrigin Forme      | Ghost                     | Dragon                    | 680                       | 150                       | 120                       | 100                       | 120                       | 100                       |  90                       | 4                         | True                      |\n",
       "| 672 | 610                       | Axew                      | Dragon                    |                           | 320                       |  46                       |  87                       |  60                       |  30                       |  40                       |  57                       | 5                         | False                     |\n",
       "| 673 | 611                       | Fraxure                   | Dragon                    |                           | 410                       |  66                       | 117                       |  70                       |  40                       |  50                       |  67                       | 5                         | False                     |\n",
       "| 674 | 612                       | Haxorus                   | Dragon                    |                           | 540                       |  76                       | 147                       |  90                       |  60                       |  70                       |  97                       | 5                         | False                     |\n",
       "| 683 | 621                       | Druddigon                 | Dragon                    |                           | 485                       |  77                       | 120                       |  90                       |  60                       |  90                       |  48                       | 5                         | False                     |\n",
       "| 695 | 633                       | Deino                     | Dark                      | Dragon                    | 300                       |  52                       |  65                       |  50                       |  45                       |  50                       |  38                       | 5                         | False                     |\n",
       "| 696 | 634                       | Zweilous                  | Dark                      | Dragon                    | 420                       |  72                       |  85                       |  70                       |  65                       |  70                       |  58                       | 5                         | False                     |\n",
       "| 697 | 635                       | Hydreigon                 | Dark                      | Dragon                    | 600                       |  92                       | 105                       |  90                       | 125                       |  90                       |  98                       | 5                         | False                     |\n",
       "| 707 | 643                       | Reshiram                  | Dragon                    | Fire                      | 680                       | 100                       | 120                       | 100                       | 150                       | 120                       |  90                       | 5                         | True                      |\n",
       "| 708 | 644                       | Zekrom                    | Dragon                    | Electric                  | 680                       | 100                       | 150                       | 120                       | 120                       | 100                       |  90                       | 5                         | True                      |\n",
       "| 711 | 646                       | Kyurem                    | Dragon                    | Ice                       | 660                       | 125                       | 130                       |  90                       | 130                       |  90                       |  95                       | 5                         | True                      |\n",
       "| 712 | 646                       | KyuremBlack Kyurem        | Dragon                    | Ice                       | 700                       | 125                       | 170                       | 100                       | 120                       |  90                       |  95                       | 5                         | True                      |\n",
       "| 713 | 646                       | KyuremWhite Kyurem        | Dragon                    | Ice                       | 700                       | 125                       | 120                       |  90                       | 170                       | 100                       |  95                       | 5                         | True                      |\n",
       "| 762 | 691                       | Dragalge                  | Poison                    | Dragon                    | 494                       |  65                       |  75                       |  90                       |  97                       | 123                       |  44                       | 6                         | False                     |\n",
       "| 767 | 696                       | Tyrunt                    | Rock                      | Dragon                    | 362                       |  58                       |  89                       |  77                       |  45                       |  45                       |  48                       | 6                         | False                     |\n",
       "| 768 | 697                       | Tyrantrum                 | Rock                      | Dragon                    | 521                       |  82                       | 121                       | 119                       |  69                       |  59                       |  71                       | 6                         | False                     |\n",
       "| 775 | 704                       | Goomy                     | Dragon                    |                           | 300                       |  45                       |  50                       |  35                       |  55                       |  75                       |  40                       | 6                         | False                     |\n",
       "| 776 | 705                       | Sliggoo                   | Dragon                    |                           | 452                       |  68                       |  75                       |  53                       |  83                       | 113                       |  60                       | 6                         | False                     |\n",
       "| 777 | 706                       | Goodra                    | Dragon                    |                           | 600                       |  90                       | 100                       |  70                       | 110                       | 150                       |  80                       | 6                         | False                     |\n",
       "| 791 | 714                       | Noibat                    | Flying                    | Dragon                    | 245                       |  40                       |  30                       |  35                       |  45                       |  40                       |  55                       | 6                         | False                     |\n",
       "| 792 | 715                       | Noivern                   | Flying                    | Dragon                    | 535                       |  85                       |  70                       |  80                       |  97                       |  80                       | 123                       | 6                         | False                     |\n",
       "| 795 | 718                       | Zygarde50% Forme          | Dragon                    | Ground                    | 600                       | 108                       | 100                       | 121                       |  81                       |  95                       |  95                       | 6                         | True                      |\n",
       "\n"
      ],
      "text/plain": [
       "    X.  Name                      Type.1   Type.2   Total HP  Attack Defense\n",
       "8     6 CharizardMega Charizard X Fire     Dragon   634    78 130    111    \n",
       "160 147 Dratini                   Dragon            300    41  64     45    \n",
       "161 148 Dragonair                 Dragon            420    61  84     65    \n",
       "162 149 Dragonite                 Dragon   Flying   600    91 134     95    \n",
       "197 181 AmpharosMega Ampharos     Electric Dragon   610    90  95    105    \n",
       "250 230 Kingdra                   Water    Dragon   540    75  95     95    \n",
       "276 254 SceptileMega Sceptile     Grass    Dragon   630    70 110     75    \n",
       "361 329 Vibrava                   Ground   Dragon   340    50  70     50    \n",
       "362 330 Flygon                    Ground   Dragon   520    80 100     80    \n",
       "366 334 Altaria                   Dragon   Flying   490    75  70     90    \n",
       "367 334 AltariaMega Altaria       Dragon   Fairy    590    75 110    110    \n",
       "407 371 Bagon                     Dragon            300    45  75     60    \n",
       "408 372 Shelgon                   Dragon            420    65  95    100    \n",
       "409 373 Salamence                 Dragon   Flying   600    95 135     80    \n",
       "410 373 SalamenceMega Salamence   Dragon   Flying   700    95 145    130    \n",
       "418 380 Latias                    Dragon   Psychic  600    80  80     90    \n",
       "419 380 LatiasMega Latias         Dragon   Psychic  700    80 100    120    \n",
       "420 381 Latios                    Dragon   Psychic  600    80  90     80    \n",
       "421 381 LatiosMega Latios         Dragon   Psychic  700    80 130    100    \n",
       "426 384 Rayquaza                  Dragon   Flying   680   105 150     90    \n",
       "427 384 RayquazaMega Rayquaza     Dragon   Flying   780   105 180    100    \n",
       "492 443 Gible                     Dragon   Ground   300    58  70     45    \n",
       "493 444 Gabite                    Dragon   Ground   410    68  90     65    \n",
       "494 445 Garchomp                  Dragon   Ground   600   108 130     95    \n",
       "495 445 GarchompMega Garchomp     Dragon   Ground   700   108 170    115    \n",
       "541 483 Dialga                    Steel    Dragon   680   100 120    120    \n",
       "542 484 Palkia                    Water    Dragon   680    90 120    100    \n",
       "545 487 GiratinaAltered Forme     Ghost    Dragon   680   150 100    120    \n",
       "546 487 GiratinaOrigin Forme      Ghost    Dragon   680   150 120    100    \n",
       "672 610 Axew                      Dragon            320    46  87     60    \n",
       "673 611 Fraxure                   Dragon            410    66 117     70    \n",
       "674 612 Haxorus                   Dragon            540    76 147     90    \n",
       "683 621 Druddigon                 Dragon            485    77 120     90    \n",
       "695 633 Deino                     Dark     Dragon   300    52  65     50    \n",
       "696 634 Zweilous                  Dark     Dragon   420    72  85     70    \n",
       "697 635 Hydreigon                 Dark     Dragon   600    92 105     90    \n",
       "707 643 Reshiram                  Dragon   Fire     680   100 120    100    \n",
       "708 644 Zekrom                    Dragon   Electric 680   100 150    120    \n",
       "711 646 Kyurem                    Dragon   Ice      660   125 130     90    \n",
       "712 646 KyuremBlack Kyurem        Dragon   Ice      700   125 170    100    \n",
       "713 646 KyuremWhite Kyurem        Dragon   Ice      700   125 120     90    \n",
       "762 691 Dragalge                  Poison   Dragon   494    65  75     90    \n",
       "767 696 Tyrunt                    Rock     Dragon   362    58  89     77    \n",
       "768 697 Tyrantrum                 Rock     Dragon   521    82 121    119    \n",
       "775 704 Goomy                     Dragon            300    45  50     35    \n",
       "776 705 Sliggoo                   Dragon            452    68  75     53    \n",
       "777 706 Goodra                    Dragon            600    90 100     70    \n",
       "791 714 Noibat                    Flying   Dragon   245    40  30     35    \n",
       "792 715 Noivern                   Flying   Dragon   535    85  70     80    \n",
       "795 718 Zygarde50% Forme          Dragon   Ground   600   108 100    121    \n",
       "    Sp..Atk Sp..Def Speed Generation Legendary\n",
       "8   130      85     100   1          False    \n",
       "160  50      50      50   1          False    \n",
       "161  70      70      70   1          False    \n",
       "162 100     100      80   1          False    \n",
       "197 165     110      45   2          False    \n",
       "250  95      95      85   2          False    \n",
       "276 145      85     145   3          False    \n",
       "361  50      50      70   3          False    \n",
       "362  80      80     100   3          False    \n",
       "366  70     105      80   3          False    \n",
       "367 110     105      80   3          False    \n",
       "407  40      30      50   3          False    \n",
       "408  60      50      50   3          False    \n",
       "409 110      80     100   3          False    \n",
       "410 120      90     120   3          False    \n",
       "418 110     130     110   3          True     \n",
       "419 140     150     110   3          True     \n",
       "420 130     110     110   3          True     \n",
       "421 160     120     110   3          True     \n",
       "426 150      90      95   3          True     \n",
       "427 180     100     115   3          True     \n",
       "492  40      45      42   4          False    \n",
       "493  50      55      82   4          False    \n",
       "494  80      85     102   4          False    \n",
       "495 120      95      92   4          False    \n",
       "541 150     100      90   4          True     \n",
       "542 150     120     100   4          True     \n",
       "545 100     120      90   4          True     \n",
       "546 120     100      90   4          True     \n",
       "672  30      40      57   5          False    \n",
       "673  40      50      67   5          False    \n",
       "674  60      70      97   5          False    \n",
       "683  60      90      48   5          False    \n",
       "695  45      50      38   5          False    \n",
       "696  65      70      58   5          False    \n",
       "697 125      90      98   5          False    \n",
       "707 150     120      90   5          True     \n",
       "708 120     100      90   5          True     \n",
       "711 130      90      95   5          True     \n",
       "712 120      90      95   5          True     \n",
       "713 170     100      95   5          True     \n",
       "762  97     123      44   6          False    \n",
       "767  45      45      48   6          False    \n",
       "768  69      59      71   6          False    \n",
       "775  55      75      40   6          False    \n",
       "776  83     113      60   6          False    \n",
       "777 110     150      80   6          False    \n",
       "791  45      40      55   6          False    \n",
       "792  97      80     123   6          False    \n",
       "795  81      95      95   6          True     "
      ]
     },
     "metadata": {},
     "output_type": "display_data"
    }
   ],
   "source": [
    "#select Dragon pokemon\n",
    "subset(pokemon, (pokemon$Type.1 == 'Dragon') | (pokemon$Type.2 == 'Dragon'))"
   ]
  },
  {
   "cell_type": "markdown",
   "metadata": {},
   "source": [
    "# Writing into a CSV File"
   ]
  },
  {
   "cell_type": "markdown",
   "metadata": {},
   "source": [
    "**`write.csv()`**"
   ]
  },
  {
   "cell_type": "markdown",
   "metadata": {},
   "source": [
    "\n",
    "```R\n",
    "#write Legendary pokemon to a csv files\n",
    "write.csv(susbet(pokemon, as.logical(pokemon$Legendary)), 'LegendaryPokemons.csv')\n",
    "```"
   ]
  },
  {
   "cell_type": "code",
   "execution_count": null,
   "metadata": {},
   "outputs": [],
   "source": []
  }
 ],
 "metadata": {
  "kernelspec": {
   "display_name": "R",
   "language": "R",
   "name": "ir"
  },
  "language_info": {
   "codemirror_mode": "r",
   "file_extension": ".r",
   "mimetype": "text/x-r-source",
   "name": "R",
   "pygments_lexer": "r",
   "version": "3.6.1"
  }
 },
 "nbformat": 4,
 "nbformat_minor": 2
}
