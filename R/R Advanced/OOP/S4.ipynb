{
 "cells": [
  {
   "cell_type": "markdown",
   "id": "stupid-parliament",
   "metadata": {},
   "source": [
    "**Reference**: \n",
    "- [Advanced R: S4](https://adv-r.hadley.nz/s4.html)"
   ]
  },
  {
   "cell_type": "code",
   "execution_count": 1,
   "id": "arranged-compensation",
   "metadata": {},
   "outputs": [],
   "source": [
    "library(methods)\n",
    "library(sloop)"
   ]
  },
  {
   "cell_type": "markdown",
   "id": "liquid-delight",
   "metadata": {},
   "source": [
    "# 1. Introduction"
   ]
  },
  {
   "cell_type": "markdown",
   "id": "continuing-coverage",
   "metadata": {},
   "source": [
    "# 2. Basic"
   ]
  },
  {
   "cell_type": "markdown",
   "id": "czech-dress",
   "metadata": {},
   "source": [
    "Components:\n",
    "- Class definition: `setClass()`\n",
    "- Generics: `setGeneric()`\n",
    "- Methods: `setMethod()`"
   ]
  },
  {
   "cell_type": "markdown",
   "id": "similar-ambassador",
   "metadata": {},
   "source": [
    "## 2.1 Class"
   ]
  },
  {
   "cell_type": "markdown",
   "id": "sharp-premiere",
   "metadata": {},
   "source": [
    "> Define a class with **`SetClass(\"class name\", slots, prototype)`**"
   ]
  },
  {
   "cell_type": "markdown",
   "id": "considered-forge",
   "metadata": {},
   "source": [
    "<b style = \"color:red\">If you want a slot to be any class, use pseudo-class \"ANY\"</b>"
   ]
  },
  {
   "cell_type": "code",
   "execution_count": 2,
   "id": "double-constraint",
   "metadata": {},
   "outputs": [],
   "source": [
    "setClass(\n",
    "    # class name\n",
    "    \"Person\",\n",
    "    # define slots and class of slots\n",
    "    slots = c(name = \"character\", age = \"numeric\"),\n",
    "    # define the default values of slots (not compulsary but you should always include)\n",
    "    prototype = list(name = NA_character_, age = NA_real_)\n",
    ")"
   ]
  },
  {
   "cell_type": "markdown",
   "id": "normal-square",
   "metadata": {},
   "source": [
    "> Create a new instance of a class with **`new(\"class name\", ...)`** where `...` is the value for slot"
   ]
  },
  {
   "cell_type": "code",
   "execution_count": 3,
   "id": "explicit-lightweight",
   "metadata": {},
   "outputs": [
    {
     "data": {
      "text/plain": [
       "An object of class \"Person\"\n",
       "Slot \"name\":\n",
       "[1] \"Elon Musk\"\n",
       "\n",
       "Slot \"age\":\n",
       "[1] NA\n"
      ]
     },
     "metadata": {},
     "output_type": "display_data"
    }
   ],
   "source": [
    "musk <- new(\"Person\", name = \"Elon Musk\")\n",
    "musk"
   ]
  },
  {
   "cell_type": "code",
   "execution_count": 4,
   "id": "whole-anger",
   "metadata": {},
   "outputs": [
    {
     "data": {
      "text/html": [
       "'Person'"
      ],
      "text/latex": [
       "'Person'"
      ],
      "text/markdown": [
       "'Person'"
      ],
      "text/plain": [
       "[1] \"Person\""
      ]
     },
     "metadata": {},
     "output_type": "display_data"
    }
   ],
   "source": [
    "# get class name of an instance\n",
    "is(musk)"
   ]
  },
  {
   "cell_type": "markdown",
   "id": "noticed-person",
   "metadata": {},
   "source": [
    "> See **`?slot`** to work with slot"
   ]
  },
  {
   "cell_type": "code",
   "execution_count": 5,
   "id": "fifty-indonesian",
   "metadata": {},
   "outputs": [
    {
     "data": {
      "text/html": [
       "'Elon Musk'"
      ],
      "text/latex": [
       "'Elon Musk'"
      ],
      "text/markdown": [
       "'Elon Musk'"
      ],
      "text/plain": [
       "[1] \"Elon Musk\""
      ]
     },
     "metadata": {},
     "output_type": "display_data"
    },
    {
     "data": {
      "text/html": [
       "'Elon Musk'"
      ],
      "text/latex": [
       "'Elon Musk'"
      ],
      "text/markdown": [
       "'Elon Musk'"
      ],
      "text/plain": [
       "[1] \"Elon Musk\""
      ]
     },
     "metadata": {},
     "output_type": "display_data"
    }
   ],
   "source": [
    "# get value with @ in S4 (equivalent $ in S3)\n",
    "musk@name\n",
    "# get value with `slot` in S4 (equivalent to `[[` in S3)\n",
    "slot(musk, \"name\")"
   ]
  },
  {
   "cell_type": "code",
   "execution_count": 6,
   "id": "national-purse",
   "metadata": {},
   "outputs": [
    {
     "data": {
      "text/html": [
       "42"
      ],
      "text/latex": [
       "42"
      ],
      "text/markdown": [
       "42"
      ],
      "text/plain": [
       "[1] 42"
      ]
     },
     "metadata": {},
     "output_type": "display_data"
    },
    {
     "data": {
      "text/html": [
       "42"
      ],
      "text/latex": [
       "42"
      ],
      "text/markdown": [
       "42"
      ],
      "text/plain": [
       "[1] 42"
      ]
     },
     "metadata": {},
     "output_type": "display_data"
    }
   ],
   "source": [
    "# set value\n",
    "musk@age <- 42\n",
    "musk@age\n",
    "# equivalent\n",
    "slot(musk, \"age\") <- 42\n",
    "musk@age"
   ]
  },
  {
   "cell_type": "markdown",
   "id": "technological-mattress",
   "metadata": {},
   "source": [
    "<b style = \"color:red\">NOTE: In practice, you should only use `@` for method. For getting and setting slots, use `getter` and `setter`</b>\n"
   ]
  },
  {
   "cell_type": "code",
   "execution_count": 7,
   "id": "imported-chemistry",
   "metadata": {},
   "outputs": [
    {
     "data": {
      "text/html": [
       "<style>\n",
       ".list-inline {list-style: none; margin:0; padding: 0}\n",
       ".list-inline>li {display: inline-block}\n",
       ".list-inline>li:not(:last-child)::after {content: \"\\00b7\"; padding: 0 .5ex}\n",
       "</style>\n",
       "<ol class=list-inline><li>'name'</li><li>'age'</li></ol>\n"
      ],
      "text/latex": [
       "\\begin{enumerate*}\n",
       "\\item 'name'\n",
       "\\item 'age'\n",
       "\\end{enumerate*}\n"
      ],
      "text/markdown": [
       "1. 'name'\n",
       "2. 'age'\n",
       "\n",
       "\n"
      ],
      "text/plain": [
       "[1] \"name\" \"age\" "
      ]
     },
     "metadata": {},
     "output_type": "display_data"
    }
   ],
   "source": [
    "# get the slot names of an instance\n",
    "slotNames(musk)"
   ]
  },
  {
   "cell_type": "code",
   "execution_count": 8,
   "id": "danish-victim",
   "metadata": {},
   "outputs": [
    {
     "data": {
      "text/html": [
       "<style>\n",
       ".dl-inline {width: auto; margin:0; padding: 0}\n",
       ".dl-inline>dt, .dl-inline>dd {float: none; width: auto; display: inline-block}\n",
       ".dl-inline>dt::after {content: \":\\0020\"; padding-right: .5ex}\n",
       ".dl-inline>dt:not(:first-of-type) {padding-left: .5ex}\n",
       "</style><dl class=dl-inline><dt>name</dt><dd>'character'</dd><dt>age</dt><dd>'numeric'</dd></dl>\n"
      ],
      "text/latex": [
       "\\begin{description*}\n",
       "\\item[name] 'character'\n",
       "\\item[age] 'numeric'\n",
       "\\end{description*}\n"
      ],
      "text/markdown": [
       "name\n",
       ":   'character'age\n",
       ":   'numeric'\n",
       "\n"
      ],
      "text/plain": [
       "       name         age \n",
       "\"character\"   \"numeric\" "
      ]
     },
     "metadata": {},
     "output_type": "display_data"
    }
   ],
   "source": [
    "# get the slot names and slots class for a class\n",
    "getSlots(\"Person\")"
   ]
  },
  {
   "cell_type": "code",
   "execution_count": 9,
   "id": "metric-assets",
   "metadata": {},
   "outputs": [
    {
     "data": {
      "text/html": [
       "FALSE"
      ],
      "text/latex": [
       "FALSE"
      ],
      "text/markdown": [
       "FALSE"
      ],
      "text/plain": [
       "[1] FALSE"
      ]
     },
     "metadata": {},
     "output_type": "display_data"
    }
   ],
   "source": [
    "# check if an instance has a slot \n",
    ".hasSlot(musk, \"network\")"
   ]
  },
  {
   "cell_type": "markdown",
   "id": "forbidden-marriage",
   "metadata": {},
   "source": [
    "## 2.2 Generics"
   ]
  },
  {
   "cell_type": "markdown",
   "id": "innovative-network",
   "metadata": {},
   "source": [
    ">Create a new generic with \n",
    ">```r\n",
    ">setGeneric(\"generic name\", function(self, ...) standardGeneric(\"generic name\"))\n",
    ">```"
   ]
  },
  {
   "cell_type": "code",
   "execution_count": 10,
   "id": "starting-brooklyn",
   "metadata": {},
   "outputs": [
    {
     "data": {
      "text/html": [
       "'age'"
      ],
      "text/latex": [
       "'age'"
      ],
      "text/markdown": [
       "'age'"
      ],
      "text/plain": [
       "[1] \"age\""
      ]
     },
     "metadata": {},
     "output_type": "display_data"
    },
    {
     "data": {
      "text/html": [
       "'age&lt;-'"
      ],
      "text/latex": [
       "'age<-'"
      ],
      "text/markdown": [
       "'age&lt;-'"
      ],
      "text/plain": [
       "[1] \"age<-\""
      ]
     },
     "metadata": {},
     "output_type": "display_data"
    }
   ],
   "source": [
    "# turn function age into a generic function\n",
    "setGeneric(\"age\", function(self) standaradGeneric(\"age\"))\n",
    "# turn fucntion `age<-` into a generic function\n",
    "setGeneric(\"age<-\", function(self, value) standaradGeneric(\"age<-\"))"
   ]
  },
  {
   "cell_type": "markdown",
   "id": "municipal-bride",
   "metadata": {},
   "source": [
    "## 2.3 Methods"
   ]
  },
  {
   "cell_type": "markdown",
   "id": "polish-found",
   "metadata": {},
   "source": [
    "Given a generic, define methods for a specific class"
   ]
  },
  {
   "cell_type": "markdown",
   "id": "fossil-queen",
   "metadata": {},
   "source": [
    "> ```r\n",
    ">setMethod(\"method name\", \"class to work\", function(self, ...) code)\n",
    ">```"
   ]
  },
  {
   "cell_type": "code",
   "execution_count": 11,
   "id": "funky-helicopter",
   "metadata": {},
   "outputs": [],
   "source": [
    "# create getter that extract the value of slot age from class Person\n",
    "# think of age.Person <- function(....) in S3\n",
    "setMethod(\"age\", \"Person\", function(self) self@age)\n",
    "# setter for slot age from class Person\n",
    "setMethod(\"age<-\", \"Person\", function(self, value) {\n",
    "    self@age <- value\n",
    "    self\n",
    "})"
   ]
  },
  {
   "cell_type": "code",
   "execution_count": 12,
   "id": "specialized-builder",
   "metadata": {},
   "outputs": [
    {
     "data": {
      "text/html": [
       "42"
      ],
      "text/latex": [
       "42"
      ],
      "text/markdown": [
       "42"
      ],
      "text/plain": [
       "[1] 42"
      ]
     },
     "metadata": {},
     "output_type": "display_data"
    }
   ],
   "source": [
    "# getter\n",
    "age(musk)"
   ]
  },
  {
   "cell_type": "code",
   "execution_count": 13,
   "id": "lucky-supply",
   "metadata": {},
   "outputs": [
    {
     "data": {
      "text/html": [
       "45"
      ],
      "text/latex": [
       "45"
      ],
      "text/markdown": [
       "45"
      ],
      "text/plain": [
       "[1] 45"
      ]
     },
     "metadata": {},
     "output_type": "display_data"
    }
   ],
   "source": [
    "# setter\n",
    "age(musk) <- 45\n",
    "age(musk)"
   ]
  },
  {
   "cell_type": "markdown",
   "id": "binding-viking",
   "metadata": {},
   "source": [
    "## 2.4 Inheritances"
   ]
  },
  {
   "cell_type": "markdown",
   "id": "religious-antibody",
   "metadata": {},
   "source": [
    "<b style = \"color:red\">Provide multiple inheritance (a class can inherit from multiple class, in S3, a class only can inherit from 1 class)</b>"
   ]
  },
  {
   "cell_type": "markdown",
   "id": "opposed-taiwan",
   "metadata": {},
   "source": [
    "> inherit with **`SetClass(contains = c(\"parent1\", \"parent2\", ...))`**"
   ]
  },
  {
   "cell_type": "code",
   "execution_count": 14,
   "id": "adapted-jacob",
   "metadata": {},
   "outputs": [],
   "source": [
    "setClass(\n",
    "    # class name\n",
    "    \"Employee\",\n",
    "    # names of classes that this class inherits from\n",
    "    contains = \"Person\",\n",
    "    slots = c(boss = \"Person\"), \n",
    "    prototype = list(boss = new(\"Person\"))\n",
    ")"
   ]
  },
  {
   "cell_type": "code",
   "execution_count": 15,
   "id": "powerful-metro",
   "metadata": {},
   "outputs": [
    {
     "name": "stdout",
     "output_type": "stream",
     "text": [
      "Formal class 'Employee' [package \".GlobalEnv\"] with 3 slots\n",
      "  ..@ boss:Formal class 'Person' [package \".GlobalEnv\"] with 2 slots\n",
      "  .. .. ..@ name: chr NA\n",
      "  .. .. ..@ age : num NA\n",
      "  ..@ name: chr NA\n",
      "  ..@ age : num NA\n"
     ]
    }
   ],
   "source": [
    "str(new(\"Employee\"))"
   ]
  },
  {
   "cell_type": "markdown",
   "id": "respiratory-generator",
   "metadata": {},
   "source": [
    "## 2.5 Identify S4 class and its methods, generics"
   ]
  },
  {
   "cell_type": "code",
   "execution_count": 16,
   "id": "phantom-shock",
   "metadata": {},
   "outputs": [
    {
     "data": {
      "text/html": [
       "'S4'"
      ],
      "text/latex": [
       "'S4'"
      ],
      "text/markdown": [
       "'S4'"
      ],
      "text/plain": [
       "[1] \"S4\""
      ]
     },
     "metadata": {},
     "output_type": "display_data"
    }
   ],
   "source": [
    "sloop::otype(musk)"
   ]
  },
  {
   "cell_type": "code",
   "execution_count": 17,
   "id": "residential-record",
   "metadata": {},
   "outputs": [
    {
     "data": {
      "text/html": [
       "<style>\n",
       ".list-inline {list-style: none; margin:0; padding: 0}\n",
       ".list-inline>li {display: inline-block}\n",
       ".list-inline>li:not(:last-child)::after {content: \"\\00b7\"; padding: 0 .5ex}\n",
       "</style>\n",
       "<ol class=list-inline><li>'S4'</li><li>'generic'</li></ol>\n"
      ],
      "text/latex": [
       "\\begin{enumerate*}\n",
       "\\item 'S4'\n",
       "\\item 'generic'\n",
       "\\end{enumerate*}\n"
      ],
      "text/markdown": [
       "1. 'S4'\n",
       "2. 'generic'\n",
       "\n",
       "\n"
      ],
      "text/plain": [
       "[1] \"S4\"      \"generic\""
      ]
     },
     "metadata": {},
     "output_type": "display_data"
    }
   ],
   "source": [
    "sloop::ftype(age)"
   ]
  },
  {
   "cell_type": "code",
   "execution_count": 18,
   "id": "still-attitude",
   "metadata": {},
   "outputs": [
    {
     "data": {
      "text/html": [
       "<table>\n",
       "<caption>A tibble: 2 × 4</caption>\n",
       "<thead>\n",
       "\t<tr><th scope=col>generic</th><th scope=col>class</th><th scope=col>visible</th><th scope=col>source</th></tr>\n",
       "\t<tr><th scope=col>&lt;chr&gt;</th><th scope=col>&lt;chr&gt;</th><th scope=col>&lt;lgl&gt;</th><th scope=col>&lt;chr&gt;</th></tr>\n",
       "</thead>\n",
       "<tbody>\n",
       "\t<tr><td>age  </td><td>Person</td><td>TRUE</td><td>R_GlobalEnv</td></tr>\n",
       "\t<tr><td>age&lt;-</td><td>Person</td><td>TRUE</td><td>R_GlobalEnv</td></tr>\n",
       "</tbody>\n",
       "</table>\n"
      ],
      "text/latex": [
       "A tibble: 2 × 4\n",
       "\\begin{tabular}{llll}\n",
       " generic & class & visible & source\\\\\n",
       " <chr> & <chr> & <lgl> & <chr>\\\\\n",
       "\\hline\n",
       "\t age   & Person & TRUE & R\\_GlobalEnv\\\\\n",
       "\t age<- & Person & TRUE & R\\_GlobalEnv\\\\\n",
       "\\end{tabular}\n"
      ],
      "text/markdown": [
       "\n",
       "A tibble: 2 × 4\n",
       "\n",
       "| generic &lt;chr&gt; | class &lt;chr&gt; | visible &lt;lgl&gt; | source &lt;chr&gt; |\n",
       "|---|---|---|---|\n",
       "| age   | Person | TRUE | R_GlobalEnv |\n",
       "| age&lt;- | Person | TRUE | R_GlobalEnv |\n",
       "\n"
      ],
      "text/plain": [
       "  generic class  visible source     \n",
       "1 age     Person TRUE    R_GlobalEnv\n",
       "2 age<-   Person TRUE    R_GlobalEnv"
      ]
     },
     "metadata": {},
     "output_type": "display_data"
    }
   ],
   "source": [
    "# methods of S4 class \"Person\"\n",
    "sloop::s4_methods_class(\"Person\")"
   ]
  },
  {
   "cell_type": "code",
   "execution_count": 19,
   "id": "fitted-energy",
   "metadata": {},
   "outputs": [
    {
     "data": {
      "text/html": [
       "<table>\n",
       "<caption>A tibble: 2 × 4</caption>\n",
       "<thead>\n",
       "\t<tr><th scope=col>generic</th><th scope=col>class</th><th scope=col>visible</th><th scope=col>source</th></tr>\n",
       "\t<tr><th scope=col>&lt;chr&gt;</th><th scope=col>&lt;chr&gt;</th><th scope=col>&lt;lgl&gt;</th><th scope=col>&lt;chr&gt;</th></tr>\n",
       "</thead>\n",
       "<tbody>\n",
       "\t<tr><td>age</td><td>ANY   </td><td>TRUE</td><td>R_GlobalEnv</td></tr>\n",
       "\t<tr><td>age</td><td>Person</td><td>TRUE</td><td>R_GlobalEnv</td></tr>\n",
       "</tbody>\n",
       "</table>\n"
      ],
      "text/latex": [
       "A tibble: 2 × 4\n",
       "\\begin{tabular}{llll}\n",
       " generic & class & visible & source\\\\\n",
       " <chr> & <chr> & <lgl> & <chr>\\\\\n",
       "\\hline\n",
       "\t age & ANY    & TRUE & R\\_GlobalEnv\\\\\n",
       "\t age & Person & TRUE & R\\_GlobalEnv\\\\\n",
       "\\end{tabular}\n"
      ],
      "text/markdown": [
       "\n",
       "A tibble: 2 × 4\n",
       "\n",
       "| generic &lt;chr&gt; | class &lt;chr&gt; | visible &lt;lgl&gt; | source &lt;chr&gt; |\n",
       "|---|---|---|---|\n",
       "| age | ANY    | TRUE | R_GlobalEnv |\n",
       "| age | Person | TRUE | R_GlobalEnv |\n",
       "\n"
      ],
      "text/plain": [
       "  generic class  visible source     \n",
       "1 age     ANY    TRUE    R_GlobalEnv\n",
       "2 age     Person TRUE    R_GlobalEnv"
      ]
     },
     "metadata": {},
     "output_type": "display_data"
    }
   ],
   "source": [
    "# S4 classes having generic age\n",
    "sloop::s4_methods_generic(\"age\")"
   ]
  },
  {
   "cell_type": "markdown",
   "id": "matched-fraud",
   "metadata": {},
   "source": [
    "## 2.6 Exercises"
   ]
  },
  {
   "cell_type": "markdown",
   "id": "explicit-spiritual",
   "metadata": {},
   "source": [
    ">1. `lubridate::period()` returns an S4 class. What slots does it have? What class is each slot? What accessors does it provide?"
   ]
  },
  {
   "cell_type": "code",
   "execution_count": 20,
   "id": "diverse-lease",
   "metadata": {},
   "outputs": [
    {
     "data": {
      "text/html": [
       "3d 0H 0M 0S"
      ],
      "text/latex": [
       "3d 0H 0M 0S"
      ],
      "text/markdown": [
       "3d 0H 0M 0S"
      ],
      "text/plain": [
       "[1] \"3d 0H 0M 0S\""
      ]
     },
     "metadata": {},
     "output_type": "display_data"
    }
   ],
   "source": [
    "wait <- lubridate::period(3, units = \"days\")\n",
    "wait"
   ]
  },
  {
   "cell_type": "code",
   "execution_count": 21,
   "id": "russian-tobacco",
   "metadata": {},
   "outputs": [
    {
     "name": "stdout",
     "output_type": "stream",
     "text": [
      "Formal class 'Period' [package \"lubridate\"] with 6 slots\n",
      "  ..@ .Data : num 0\n",
      "  ..@ year  : num 0\n",
      "  ..@ month : num 0\n",
      "  ..@ day   : num 3\n",
      "  ..@ hour  : num 0\n",
      "  ..@ minute: num 0\n"
     ]
    }
   ],
   "source": [
    "str(wait)"
   ]
  },
  {
   "cell_type": "code",
   "execution_count": 22,
   "id": "still-edwards",
   "metadata": {},
   "outputs": [
    {
     "data": {
      "text/html": [
       "<style>\n",
       ".list-inline {list-style: none; margin:0; padding: 0}\n",
       ".list-inline>li {display: inline-block}\n",
       ".list-inline>li:not(:last-child)::after {content: \"\\00b7\"; padding: 0 .5ex}\n",
       "</style>\n",
       "<ol class=list-inline><li>'.Data'</li><li>'year'</li><li>'month'</li><li>'day'</li><li>'hour'</li><li>'minute'</li></ol>\n"
      ],
      "text/latex": [
       "\\begin{enumerate*}\n",
       "\\item '.Data'\n",
       "\\item 'year'\n",
       "\\item 'month'\n",
       "\\item 'day'\n",
       "\\item 'hour'\n",
       "\\item 'minute'\n",
       "\\end{enumerate*}\n"
      ],
      "text/markdown": [
       "1. '.Data'\n",
       "2. 'year'\n",
       "3. 'month'\n",
       "4. 'day'\n",
       "5. 'hour'\n",
       "6. 'minute'\n",
       "\n",
       "\n"
      ],
      "text/plain": [
       "[1] \".Data\"  \"year\"   \"month\"  \"day\"    \"hour\"   \"minute\""
      ]
     },
     "metadata": {},
     "output_type": "display_data"
    }
   ],
   "source": [
    "# slots\n",
    "slotNames(wait)"
   ]
  },
  {
   "cell_type": "code",
   "execution_count": 23,
   "id": "supported-input",
   "metadata": {},
   "outputs": [
    {
     "data": {
      "text/html": [
       "<style>\n",
       ".dl-inline {width: auto; margin:0; padding: 0}\n",
       ".dl-inline>dt, .dl-inline>dd {float: none; width: auto; display: inline-block}\n",
       ".dl-inline>dt::after {content: \":\\0020\"; padding-right: .5ex}\n",
       ".dl-inline>dt:not(:first-of-type) {padding-left: .5ex}\n",
       "</style><dl class=dl-inline><dt>.Data</dt><dd>'numeric'</dd><dt>year</dt><dd>'numeric'</dd><dt>month</dt><dd>'numeric'</dd><dt>day</dt><dd>'numeric'</dd><dt>hour</dt><dd>'numeric'</dd><dt>minute</dt><dd>'numeric'</dd></dl>\n"
      ],
      "text/latex": [
       "\\begin{description*}\n",
       "\\item[.Data] 'numeric'\n",
       "\\item[year] 'numeric'\n",
       "\\item[month] 'numeric'\n",
       "\\item[day] 'numeric'\n",
       "\\item[hour] 'numeric'\n",
       "\\item[minute] 'numeric'\n",
       "\\end{description*}\n"
      ],
      "text/markdown": [
       ".Data\n",
       ":   'numeric'year\n",
       ":   'numeric'month\n",
       ":   'numeric'day\n",
       ":   'numeric'hour\n",
       ":   'numeric'minute\n",
       ":   'numeric'\n",
       "\n"
      ],
      "text/plain": [
       "    .Data      year     month       day      hour    minute \n",
       "\"numeric\" \"numeric\" \"numeric\" \"numeric\" \"numeric\" \"numeric\" "
      ]
     },
     "metadata": {},
     "output_type": "display_data"
    }
   ],
   "source": [
    "# class of each slot\n",
    "getSlots(is(wait)) # getSlots(\"class name\")"
   ]
  },
  {
   "cell_type": "code",
   "execution_count": 24,
   "id": "sweet-student",
   "metadata": {},
   "outputs": [
    {
     "name": "stderr",
     "output_type": "stream",
     "text": [
      "Warning message in .S3methods(generic.function, class, envir):\n",
      "\"'class' is of length > 1; only the first element will be used\"\n"
     ]
    },
    {
     "data": {
      "text/html": [
       "<table>\n",
       "<caption>A tibble: 23 × 4</caption>\n",
       "<thead>\n",
       "\t<tr><th scope=col>generic</th><th scope=col>class</th><th scope=col>visible</th><th scope=col>source</th></tr>\n",
       "\t<tr><th scope=col>&lt;chr&gt;</th><th scope=col>&lt;chr&gt;</th><th scope=col>&lt;lgl&gt;</th><th scope=col>&lt;chr&gt;</th></tr>\n",
       "</thead>\n",
       "<tbody>\n",
       "\t<tr><td>$         </td><td>Period  </td><td>TRUE</td><td>lubridate</td></tr>\n",
       "\t<tr><td><span style=white-space:pre-wrap>$&lt;-       </span></td><td>Timespan</td><td>TRUE</td><td>lubridate</td></tr>\n",
       "\t<tr><td>Arith     </td><td>numeric </td><td>TRUE</td><td>lubridate</td></tr>\n",
       "\t<tr><td>Arith     </td><td>vector  </td><td>TRUE</td><td>lubridate</td></tr>\n",
       "\t<tr><td>Arith     </td><td>Period  </td><td>TRUE</td><td>lubridate</td></tr>\n",
       "\t<tr><td>Arith     </td><td>Timespan</td><td>TRUE</td><td>lubridate</td></tr>\n",
       "\t<tr><td>Compare   </td><td>numeric </td><td>TRUE</td><td>lubridate</td></tr>\n",
       "\t<tr><td>Compare   </td><td>vector  </td><td>TRUE</td><td>lubridate</td></tr>\n",
       "\t<tr><td>Compare   </td><td>Period  </td><td>TRUE</td><td>lubridate</td></tr>\n",
       "\t<tr><td>Compare   </td><td>Timespan</td><td>TRUE</td><td>lubridate</td></tr>\n",
       "\t<tr><td>Compare   </td><td>numeric </td><td>TRUE</td><td>lubridate</td></tr>\n",
       "\t<tr><td>Compare   </td><td>vector  </td><td>TRUE</td><td>lubridate</td></tr>\n",
       "\t<tr><td>Compare   </td><td>Period  </td><td>TRUE</td><td>lubridate</td></tr>\n",
       "\t<tr><td>Ops       </td><td>Timespan</td><td>TRUE</td><td>         </td></tr>\n",
       "\t<tr><td>Ops       </td><td>numeric </td><td>TRUE</td><td>         </td></tr>\n",
       "\t<tr><td>Ops       </td><td>vector  </td><td>TRUE</td><td>         </td></tr>\n",
       "\t<tr><td>Ops       </td><td>Period  </td><td>TRUE</td><td>         </td></tr>\n",
       "\t<tr><td>[         </td><td>Timespan</td><td>TRUE</td><td>lubridate</td></tr>\n",
       "\t<tr><td><span style=white-space:pre-wrap>[&lt;-       </span></td><td>numeric </td><td>TRUE</td><td>lubridate</td></tr>\n",
       "\t<tr><td><span style=white-space:pre-wrap>[[&lt;-      </span></td><td><span style=white-space:pre-wrap>vector  </span></td><td>TRUE</td><td>lubridate</td></tr>\n",
       "\t<tr><td>coerce    </td><td>Period  </td><td>TRUE</td><td>methods  </td></tr>\n",
       "\t<tr><td>initialize</td><td>vector  </td><td>TRUE</td><td>lubridate</td></tr>\n",
       "\t<tr><td>show      </td><td>Period  </td><td>TRUE</td><td>lubridate</td></tr>\n",
       "</tbody>\n",
       "</table>\n"
      ],
      "text/latex": [
       "A tibble: 23 × 4\n",
       "\\begin{tabular}{llll}\n",
       " generic & class & visible & source\\\\\n",
       " <chr> & <chr> & <lgl> & <chr>\\\\\n",
       "\\hline\n",
       "\t \\$          & Period   & TRUE & lubridate\\\\\n",
       "\t \\$<-        & Timespan & TRUE & lubridate\\\\\n",
       "\t Arith      & numeric  & TRUE & lubridate\\\\\n",
       "\t Arith      & vector   & TRUE & lubridate\\\\\n",
       "\t Arith      & Period   & TRUE & lubridate\\\\\n",
       "\t Arith      & Timespan & TRUE & lubridate\\\\\n",
       "\t Compare    & numeric  & TRUE & lubridate\\\\\n",
       "\t Compare    & vector   & TRUE & lubridate\\\\\n",
       "\t Compare    & Period   & TRUE & lubridate\\\\\n",
       "\t Compare    & Timespan & TRUE & lubridate\\\\\n",
       "\t Compare    & numeric  & TRUE & lubridate\\\\\n",
       "\t Compare    & vector   & TRUE & lubridate\\\\\n",
       "\t Compare    & Period   & TRUE & lubridate\\\\\n",
       "\t Ops        & Timespan & TRUE &          \\\\\n",
       "\t Ops        & numeric  & TRUE &          \\\\\n",
       "\t Ops        & vector   & TRUE &          \\\\\n",
       "\t Ops        & Period   & TRUE &          \\\\\n",
       "\t {[}          & Timespan & TRUE & lubridate\\\\\n",
       "\t {[}<-        & numeric  & TRUE & lubridate\\\\\n",
       "\t {[}{[}<-       & vector   & TRUE & lubridate\\\\\n",
       "\t coerce     & Period   & TRUE & methods  \\\\\n",
       "\t initialize & vector   & TRUE & lubridate\\\\\n",
       "\t show       & Period   & TRUE & lubridate\\\\\n",
       "\\end{tabular}\n"
      ],
      "text/markdown": [
       "\n",
       "A tibble: 23 × 4\n",
       "\n",
       "| generic &lt;chr&gt; | class &lt;chr&gt; | visible &lt;lgl&gt; | source &lt;chr&gt; |\n",
       "|---|---|---|---|\n",
       "| $          | Period   | TRUE | lubridate |\n",
       "| $&lt;-        | Timespan | TRUE | lubridate |\n",
       "| Arith      | numeric  | TRUE | lubridate |\n",
       "| Arith      | vector   | TRUE | lubridate |\n",
       "| Arith      | Period   | TRUE | lubridate |\n",
       "| Arith      | Timespan | TRUE | lubridate |\n",
       "| Compare    | numeric  | TRUE | lubridate |\n",
       "| Compare    | vector   | TRUE | lubridate |\n",
       "| Compare    | Period   | TRUE | lubridate |\n",
       "| Compare    | Timespan | TRUE | lubridate |\n",
       "| Compare    | numeric  | TRUE | lubridate |\n",
       "| Compare    | vector   | TRUE | lubridate |\n",
       "| Compare    | Period   | TRUE | lubridate |\n",
       "| Ops        | Timespan | TRUE | <!----> |\n",
       "| Ops        | numeric  | TRUE | <!----> |\n",
       "| Ops        | vector   | TRUE | <!----> |\n",
       "| Ops        | Period   | TRUE | <!----> |\n",
       "| [          | Timespan | TRUE | lubridate |\n",
       "| [&lt;-        | numeric  | TRUE | lubridate |\n",
       "| [[&lt;-       | vector   | TRUE | lubridate |\n",
       "| coerce     | Period   | TRUE | methods   |\n",
       "| initialize | vector   | TRUE | lubridate |\n",
       "| show       | Period   | TRUE | lubridate |\n",
       "\n"
      ],
      "text/plain": [
       "   generic    class    visible source   \n",
       "1  $          Period   TRUE    lubridate\n",
       "2  $<-        Timespan TRUE    lubridate\n",
       "3  Arith      numeric  TRUE    lubridate\n",
       "4  Arith      vector   TRUE    lubridate\n",
       "5  Arith      Period   TRUE    lubridate\n",
       "6  Arith      Timespan TRUE    lubridate\n",
       "7  Compare    numeric  TRUE    lubridate\n",
       "8  Compare    vector   TRUE    lubridate\n",
       "9  Compare    Period   TRUE    lubridate\n",
       "10 Compare    Timespan TRUE    lubridate\n",
       "11 Compare    numeric  TRUE    lubridate\n",
       "12 Compare    vector   TRUE    lubridate\n",
       "13 Compare    Period   TRUE    lubridate\n",
       "14 Ops        Timespan TRUE             \n",
       "15 Ops        numeric  TRUE             \n",
       "16 Ops        vector   TRUE             \n",
       "17 Ops        Period   TRUE             \n",
       "18 [          Timespan TRUE    lubridate\n",
       "19 [<-        numeric  TRUE    lubridate\n",
       "20 [[<-       vector   TRUE    lubridate\n",
       "21 coerce     Period   TRUE    methods  \n",
       "22 initialize vector   TRUE    lubridate\n",
       "23 show       Period   TRUE    lubridate"
      ]
     },
     "metadata": {},
     "output_type": "display_data"
    }
   ],
   "source": [
    "# accessors\n",
    "sloop::s4_methods_class(is(wait))"
   ]
  },
  {
   "cell_type": "code",
   "execution_count": 25,
   "id": "handmade-facial",
   "metadata": {},
   "outputs": [
    {
     "data": {
      "text/html": [
       "0"
      ],
      "text/latex": [
       "0"
      ],
      "text/markdown": [
       "0"
      ],
      "text/plain": [
       "[1] 0"
      ]
     },
     "metadata": {},
     "output_type": "display_data"
    },
    {
     "data": {
      "text/html": [
       "3"
      ],
      "text/latex": [
       "3"
      ],
      "text/markdown": [
       "3"
      ],
      "text/plain": [
       "[1] 3"
      ]
     },
     "metadata": {},
     "output_type": "display_data"
    }
   ],
   "source": [
    "wait$year\n",
    "wait$day"
   ]
  },
  {
   "cell_type": "markdown",
   "id": "limited-development",
   "metadata": {},
   "source": [
    "# 3. Classes"
   ]
  },
  {
   "cell_type": "markdown",
   "id": "diverse-headset",
   "metadata": {},
   "source": [
    "## 3.1 Inheritance"
   ]
  },
  {
   "cell_type": "markdown",
   "id": "fantastic-effects",
   "metadata": {},
   "source": [
    "## 3.2 Introspectation"
   ]
  },
  {
   "cell_type": "markdown",
   "id": "younger-usage",
   "metadata": {},
   "source": [
    ">To determine what classes an object inherits from, use `is()`"
   ]
  },
  {
   "cell_type": "code",
   "execution_count": 26,
   "id": "consistent-worse",
   "metadata": {},
   "outputs": [
    {
     "data": {
      "text/html": [
       "'Person'"
      ],
      "text/latex": [
       "'Person'"
      ],
      "text/markdown": [
       "'Person'"
      ],
      "text/plain": [
       "[1] \"Person\""
      ]
     },
     "metadata": {},
     "output_type": "display_data"
    },
    {
     "data": {
      "text/html": [
       "<style>\n",
       ".list-inline {list-style: none; margin:0; padding: 0}\n",
       ".list-inline>li {display: inline-block}\n",
       ".list-inline>li:not(:last-child)::after {content: \"\\00b7\"; padding: 0 .5ex}\n",
       "</style>\n",
       "<ol class=list-inline><li>'Employee'</li><li>'Person'</li></ol>\n"
      ],
      "text/latex": [
       "\\begin{enumerate*}\n",
       "\\item 'Employee'\n",
       "\\item 'Person'\n",
       "\\end{enumerate*}\n"
      ],
      "text/markdown": [
       "1. 'Employee'\n",
       "2. 'Person'\n",
       "\n",
       "\n"
      ],
      "text/plain": [
       "[1] \"Employee\" \"Person\"  "
      ]
     },
     "metadata": {},
     "output_type": "display_data"
    }
   ],
   "source": [
    "is(new(\"Person\"))\n",
    "is(new(\"Employee\"))"
   ]
  },
  {
   "cell_type": "markdown",
   "id": "threatened-egypt",
   "metadata": {},
   "source": [
    ">To test if an object inherits from a specific class, use the second argument of `is()`:"
   ]
  },
  {
   "cell_type": "code",
   "execution_count": 27,
   "id": "fatal-cartridge",
   "metadata": {},
   "outputs": [
    {
     "data": {
      "text/html": [
       "TRUE"
      ],
      "text/latex": [
       "TRUE"
      ],
      "text/markdown": [
       "TRUE"
      ],
      "text/plain": [
       "[1] TRUE"
      ]
     },
     "metadata": {},
     "output_type": "display_data"
    }
   ],
   "source": [
    "is(musk, \"Person\")"
   ]
  },
  {
   "cell_type": "markdown",
   "id": "stock-split",
   "metadata": {},
   "source": [
    "## 3.3 Redefinition"
   ]
  },
  {
   "cell_type": "markdown",
   "id": "exciting-creator",
   "metadata": {},
   "source": [
    "Read the book. What happens if you redefine a class that have existed?"
   ]
  },
  {
   "cell_type": "markdown",
   "id": "charged-provincial",
   "metadata": {},
   "source": [
    "## 3.4 Helper"
   ]
  },
  {
   "cell_type": "markdown",
   "id": "utility-switzerland",
   "metadata": {},
   "source": [
    "A helper should always:\n",
    "\n",
    "- Have the same name as the class, e.g. `myclass()`. \n",
    "- Have a thoughtfully crafted user interface with carefully chosen default values and useful conversions. \n",
    "- Create carefully crafted error messages tailored towards an end-user. \n",
    "- Finish by calling `methods::new()`."
   ]
  },
  {
   "cell_type": "code",
   "execution_count": 28,
   "id": "promising-ecology",
   "metadata": {},
   "outputs": [],
   "source": [
    "# helper to create an instance of class Person\n",
    "Person <- function(name, age = double()) {\n",
    "    stopifnot(is.numeric(age))\n",
    "    age <- as.double(age)\n",
    "    # constructor\n",
    "    new(\"Person\", name = name, age = age)\n",
    "}"
   ]
  },
  {
   "cell_type": "code",
   "execution_count": 29,
   "id": "historical-identifier",
   "metadata": {},
   "outputs": [
    {
     "data": {
      "text/plain": [
       "An object of class \"Person\"\n",
       "Slot \"name\":\n",
       "[1] \"Edogawa Conan\"\n",
       "\n",
       "Slot \"age\":\n",
       "[1] 7\n"
      ]
     },
     "metadata": {},
     "output_type": "display_data"
    }
   ],
   "source": [
    "conan <- Person(\"Edogawa Conan\", 7L)\n",
    "conan"
   ]
  },
  {
   "cell_type": "markdown",
   "id": "environmental-environment",
   "metadata": {},
   "source": [
    "## 3.5 Validator"
   ]
  },
  {
   "cell_type": "markdown",
   "id": "white-integrity",
   "metadata": {},
   "source": [
    "The constructor automatically checks that the slots have correct classes:"
   ]
  },
  {
   "cell_type": "code",
   "execution_count": 30,
   "id": "unlike-replacement",
   "metadata": {},
   "outputs": [
    {
     "name": "stdout",
     "output_type": "stream",
     "text": [
      "Error in validObject(.Object) : \n",
      "  invalid class \"Person\" object: invalid object for slot \"name\" in class \"Person\": got class \"data.frame\", should be or extend class \"character\"\n"
     ]
    }
   ],
   "source": [
    "try(Person(mtcars))"
   ]
  },
  {
   "cell_type": "markdown",
   "id": "ready-stand",
   "metadata": {},
   "source": [
    "You will need to implement more complicated checks "
   ]
  },
  {
   "cell_type": "markdown",
   "id": "lucky-hamilton",
   "metadata": {},
   "source": [
    "> Use **`setValidity`** to create a validator function for a class.  It takes a class and a function that returns TRUE if the input is valid, and otherwise returns a character vector describing the problem(s):"
   ]
  },
  {
   "cell_type": "code",
   "execution_count": 31,
   "id": "prompt-blade",
   "metadata": {},
   "outputs": [
    {
     "data": {
      "text/plain": [
       "Class \"Person\" [in \".GlobalEnv\"]\n",
       "\n",
       "Slots:\n",
       "                          \n",
       "Name:       name       age\n",
       "Class: character   numeric\n",
       "\n",
       "Known Subclasses: \"Employee\""
      ]
     },
     "metadata": {},
     "output_type": "display_data"
    }
   ],
   "source": [
    "setValidity(\"Person\", function(object) {\n",
    "    # age must be non-negative\n",
    "    if(object@age < 0)\n",
    "        \"@age must be a non-negative number\"\n",
    "    else TRUE\n",
    "})"
   ]
  },
  {
   "cell_type": "markdown",
   "id": "planned-trademark",
   "metadata": {},
   "source": [
    "You can no longer create an invalid object now"
   ]
  },
  {
   "cell_type": "code",
   "execution_count": 32,
   "id": "velvet-stretch",
   "metadata": {},
   "outputs": [
    {
     "name": "stdout",
     "output_type": "stream",
     "text": [
      "Error in validObject(.Object) : \n",
      "  invalid class \"Person\" object: @age must be a non-negative number\n"
     ]
    }
   ],
   "source": [
    "try(new(\"Person\", name = \"Trung\", age = -2))"
   ]
  },
  {
   "cell_type": "markdown",
   "id": "narrative-prize",
   "metadata": {},
   "source": [
    "**NOTE**: The validity method is only called automatically by `new()`, so you can still create an invalid object by modifying it:"
   ]
  },
  {
   "cell_type": "code",
   "execution_count": 33,
   "id": "happy-lloyd",
   "metadata": {},
   "outputs": [],
   "source": [
    "musk@age <- -1"
   ]
  },
  {
   "cell_type": "markdown",
   "id": "altered-demand",
   "metadata": {},
   "source": [
    ">You can explicitly check the validity yourself by calling **`validObject()`**:"
   ]
  },
  {
   "cell_type": "code",
   "execution_count": 34,
   "id": "loose-rider",
   "metadata": {},
   "outputs": [
    {
     "name": "stdout",
     "output_type": "stream",
     "text": [
      "Error in validObject(musk) : \n",
      "  invalid class \"Person\" object: @age must be a non-negative number\n"
     ]
    }
   ],
   "source": [
    "try(validObject(musk))"
   ]
  },
  {
   "cell_type": "markdown",
   "id": "adjustable-people",
   "metadata": {},
   "source": [
    "<b style = \"color:red\">NOTE: You must always use `validObject` inside a getter method because we are changing the value of a slot</b>"
   ]
  },
  {
   "cell_type": "code",
   "execution_count": null,
   "id": "relevant-disorder",
   "metadata": {},
   "outputs": [],
   "source": [
    "setMethod(\"age\", \"Person\", function(object, value) {\n",
    "    object@age <- value\n",
    "    validObject(object)\n",
    "    object\n",
    "})"
   ]
  },
  {
   "cell_type": "markdown",
   "id": "figured-station",
   "metadata": {},
   "source": [
    "# 4 Generics and methods"
   ]
  },
  {
   "cell_type": "markdown",
   "id": "aware-christmas",
   "metadata": {},
   "source": [
    "Read the book"
   ]
  },
  {
   "cell_type": "markdown",
   "id": "ethical-diana",
   "metadata": {},
   "source": [
    "## 4.1 Signature"
   ]
  },
  {
   "cell_type": "markdown",
   "id": "understanding-lodge",
   "metadata": {},
   "source": [
    "Read the book"
   ]
  },
  {
   "cell_type": "markdown",
   "id": "announced-heath",
   "metadata": {},
   "source": [
    "## 4.2 Methods"
   ]
  },
  {
   "cell_type": "markdown",
   "id": "continuing-mayor",
   "metadata": {},
   "source": [
    "Read the book"
   ]
  },
  {
   "cell_type": "markdown",
   "id": "sufficient-daniel",
   "metadata": {},
   "source": [
    "## 4.3 `show` method"
   ]
  },
  {
   "cell_type": "markdown",
   "id": "collaborative-chick",
   "metadata": {},
   "source": [
    "Like `print` for S3 class. It controls how the object appears when it is printed. To define a method for an existing generic, you must first determine the arguments. You can get those from the documentation or by looking at the `args()` of the generic:"
   ]
  },
  {
   "cell_type": "code",
   "execution_count": 35,
   "id": "suffering-award",
   "metadata": {},
   "outputs": [
    {
     "data": {
      "text/html": [
       "<pre class=language-r><code>function (object) \n",
       "NULL</code></pre>"
      ],
      "text/latex": [
       "\\begin{minted}{r}\n",
       "function (object) \n",
       "NULL\n",
       "\\end{minted}"
      ],
      "text/markdown": [
       "```r\n",
       "function (object) \n",
       "NULL\n",
       "```"
      ],
      "text/plain": [
       "function (object) \n",
       "NULL"
      ]
     },
     "metadata": {},
     "output_type": "display_data"
    }
   ],
   "source": [
    "args(getGeneric(\"show\"))"
   ]
  },
  {
   "cell_type": "markdown",
   "id": "lyric-scholarship",
   "metadata": {},
   "source": [
    "From above, we can see that our show method needs to have a single argument object:"
   ]
  },
  {
   "cell_type": "code",
   "execution_count": 41,
   "id": "sacred-turkey",
   "metadata": {},
   "outputs": [],
   "source": [
    "# set method show for class Person\n",
    "setMethod(\"show\", \"Person\", function(object) {\n",
    "    cat(\"Hello!\\n\",\n",
    "        \"I am \", object@name, \"\\n\",\n",
    "        \"I am \", object@age, \" years old\")\n",
    "})"
   ]
  },
  {
   "cell_type": "code",
   "execution_count": 42,
   "id": "wanted-fountain",
   "metadata": {},
   "outputs": [
    {
     "data": {
      "text/plain": [
       "Hello!\n",
       " I am  Elon Musk \n",
       " I am  -1  years old"
      ]
     },
     "metadata": {},
     "output_type": "display_data"
    }
   ],
   "source": [
    "musk"
   ]
  },
  {
   "cell_type": "markdown",
   "id": "widespread-reader",
   "metadata": {},
   "source": [
    "## 4.4. Accessors, Getters and Setters"
   ]
  },
  {
   "cell_type": "markdown",
   "id": "frozen-element",
   "metadata": {},
   "source": [
    "Read the book for in-depth explanation. Covered in Section 1."
   ]
  },
  {
   "cell_type": "markdown",
   "id": "black-fashion",
   "metadata": {},
   "source": [
    "# 5. Method Dispatch"
   ]
  },
  {
   "cell_type": "markdown",
   "id": "single-danish",
   "metadata": {},
   "source": [
    "**Must Read**, too long that I do not want to take notes. \n",
    "- Why method dispatch is used? Given a generic and a class, find the methods for that class\n",
    "- What is method dispatch?\n",
    "- How to perform sigle dispatch, multiple dispatch on single, multiple inheritance?\n",
    "\n"
   ]
  },
  {
   "cell_type": "markdown",
   "id": "blond-mounting",
   "metadata": {},
   "source": [
    "# 6. S4 and S3"
   ]
  },
  {
   "cell_type": "markdown",
   "id": "sorted-carrier",
   "metadata": {},
   "source": [
    "## 6.1 How to make a slot in S4 to be S3 class?"
   ]
  },
  {
   "cell_type": "markdown",
   "id": "exact-wiring",
   "metadata": {},
   "source": [
    " >To use an S3 class, you must first register it with **`setOldClass()`**"
   ]
  },
  {
   "cell_type": "code",
   "execution_count": 48,
   "id": "american-feeling",
   "metadata": {},
   "outputs": [],
   "source": [
    "setOldClass(c(\"ordered\",\"factor\"))"
   ]
  },
  {
   "cell_type": "markdown",
   "id": "republican-summit",
   "metadata": {},
   "source": [
    "However, it’s generally better to be more specific and provide a full S4 definition with slots and a prototype:"
   ]
  },
  {
   "cell_type": "code",
   "execution_count": 49,
   "id": "frank-killer",
   "metadata": {},
   "outputs": [
    {
     "name": "stderr",
     "output_type": "stream",
     "text": [
      "Warning message in rm(list = what, pos = classWhere):\n",
      "\"object '.__C__factor' not found\"\n"
     ]
    }
   ],
   "source": [
    "setClass(\"factor\",\n",
    "  contains = \"integer\",\n",
    "  slots = c(\n",
    "    levels = \"character\"\n",
    "  ),\n",
    "  prototype = structure(\n",
    "    integer(),\n",
    "    levels = character()\n",
    "  )\n",
    ")\n",
    "setOldClass(\"factor\", S4Class = \"factor\")"
   ]
  },
  {
   "cell_type": "markdown",
   "id": "focal-steering",
   "metadata": {},
   "source": [
    "## 6.2 S4 inherits from S3"
   ]
  },
  {
   "cell_type": "markdown",
   "id": "solid-gender",
   "metadata": {},
   "source": [
    "If an S4 object inherits from an S3 class or a base type, it will have a special virtual slot called `.Data`. This contains the underlying base type or S3 object:"
   ]
  },
  {
   "cell_type": "code",
   "execution_count": 50,
   "id": "backed-learning",
   "metadata": {},
   "outputs": [],
   "source": [
    "RangeNumeric <- setClass(\n",
    "    \"rangeNumeric\",\n",
    "    contains = \"numeric\",\n",
    "    slots = c(min = \"numeric\", max = \"numeric\"),\n",
    "    prototype = structure(numeric(), min = NA_real_, max = NA_real_)\n",
    ")"
   ]
  },
  {
   "cell_type": "code",
   "execution_count": 53,
   "id": "center-niagara",
   "metadata": {},
   "outputs": [
    {
     "data": {
      "text/html": [
       "1"
      ],
      "text/latex": [
       "1"
      ],
      "text/markdown": [
       "1"
      ],
      "text/plain": [
       "[1] 1"
      ]
     },
     "metadata": {},
     "output_type": "display_data"
    },
    {
     "data": {
      "text/html": [
       "10"
      ],
      "text/latex": [
       "10"
      ],
      "text/markdown": [
       "10"
      ],
      "text/plain": [
       "[1] 10"
      ]
     },
     "metadata": {},
     "output_type": "display_data"
    }
   ],
   "source": [
    "rn <- RangeNumeric(1:10, min = 1, max = 10)\n",
    "rn@min\n",
    "rn@max"
   ]
  }
 ],
 "metadata": {
  "kernelspec": {
   "display_name": "R",
   "language": "R",
   "name": "ir"
  },
  "language_info": {
   "codemirror_mode": "r",
   "file_extension": ".r",
   "mimetype": "text/x-r-source",
   "name": "R",
   "pygments_lexer": "r",
   "version": "4.0.4"
  }
 },
 "nbformat": 4,
 "nbformat_minor": 5
}
