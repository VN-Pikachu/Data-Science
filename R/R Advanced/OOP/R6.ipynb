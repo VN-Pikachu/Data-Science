{
 "cells": [
  {
   "cell_type": "markdown",
   "id": "agricultural-static",
   "metadata": {},
   "source": [
    "**Referenece**: <https://adv-r.hadley.nz/r6.html>"
   ]
  },
  {
   "cell_type": "code",
   "execution_count": 2,
   "id": "emerging-variable",
   "metadata": {},
   "outputs": [],
   "source": [
    "library(R6)"
   ]
  },
  {
   "cell_type": "markdown",
   "id": "mighty-sense",
   "metadata": {},
   "source": [
    "# Classes and Methods"
   ]
  },
  {
   "cell_type": "code",
   "execution_count": 5,
   "id": "handy-zealand",
   "metadata": {},
   "outputs": [
    {
     "data": {
      "text/plain": [
       "A normal distribution with 10 mean and 3 standard deviation"
      ]
     },
     "metadata": {},
     "output_type": "display_data"
    },
    {
     "data": {
      "text/html": [
       "<style>\n",
       ".list-inline {list-style: none; margin:0; padding: 0}\n",
       ".list-inline>li {display: inline-block}\n",
       ".list-inline>li:not(:last-child)::after {content: \"\\00b7\"; padding: 0 .5ex}\n",
       "</style>\n",
       "<ol class=list-inline><li>6.89821775453793</li><li>8.08982345505122</li><li>10.6599330433272</li><li>8.58155488242886</li><li>13.6490795243844</li><li>11.2715152987332</li><li>8.14239616884607</li><li>11.6617382845194</li><li>10.5185133541693</li><li>9.5758097484107</li></ol>\n"
      ],
      "text/latex": [
       "\\begin{enumerate*}\n",
       "\\item 6.89821775453793\n",
       "\\item 8.08982345505122\n",
       "\\item 10.6599330433272\n",
       "\\item 8.58155488242886\n",
       "\\item 13.6490795243844\n",
       "\\item 11.2715152987332\n",
       "\\item 8.14239616884607\n",
       "\\item 11.6617382845194\n",
       "\\item 10.5185133541693\n",
       "\\item 9.5758097484107\n",
       "\\end{enumerate*}\n"
      ],
      "text/markdown": [
       "1. 6.89821775453793\n",
       "2. 8.08982345505122\n",
       "3. 10.6599330433272\n",
       "4. 8.58155488242886\n",
       "5. 13.6490795243844\n",
       "6. 11.2715152987332\n",
       "7. 8.14239616884607\n",
       "8. 11.6617382845194\n",
       "9. 10.5185133541693\n",
       "10. 9.5758097484107\n",
       "\n",
       "\n"
      ],
      "text/plain": [
       " [1]  6.898218  8.089823 10.659933  8.581555 13.649080 11.271515  8.142396\n",
       " [8] 11.661738 10.518513  9.575810"
      ]
     },
     "metadata": {},
     "output_type": "display_data"
    }
   ],
   "source": [
    "normal <- R6Class(\n",
    "  \"normal\",\n",
    "  list(\n",
    "    # to initialize attributes for class\n",
    "    # you have to define it outside here\n",
    "    # if omit `mu` and `sig` here, when calling initialize will raise error locking environment\n",
    "      \n",
    "    # define public attributes for class `normal`\n",
    "    mu = 0,\n",
    "    sig = 0,\n",
    "    # __init__\n",
    "    initialize = function(mu, sig) {\n",
    "      self$mu <- mu\n",
    "      self$sig <- sig\n",
    "    },\n",
    "    # sample n values \n",
    "    rvs = function(n) rnorm(n, self$mu, self$sig),\n",
    "    # magic function __print__\n",
    "    print = function(...) {\n",
    "      cat(\"A normal distribution with\", self$mu, \"mean and\", self$sig, \"standard deviation\")\n",
    "      # side-effect, return self invisibly for method chaining\n",
    "      invisible(self)\n",
    "    }\n",
    "  )\n",
    ")\n",
    "\n",
    "# create a new instance of a class with `class$new`\n",
    "mod <- normal$new(10, 3)\n",
    "# print mod\n",
    "mod\n",
    "\n",
    "mod$rvs(10)\n",
    "\n"
   ]
  },
  {
   "cell_type": "code",
   "execution_count": 6,
   "id": "handy-highland",
   "metadata": {},
   "outputs": [
    {
     "data": {
      "text/html": [
       "'normal distribution'"
      ],
      "text/latex": [
       "'normal distribution'"
      ],
      "text/markdown": [
       "'normal distribution'"
      ],
      "text/plain": [
       "[1] \"normal distribution\""
      ]
     },
     "metadata": {},
     "output_type": "display_data"
    },
    {
     "data": {
      "text/html": [
       "<style>\n",
       ".list-inline {list-style: none; margin:0; padding: 0}\n",
       ".list-inline>li {display: inline-block}\n",
       ".list-inline>li:not(:last-child)::after {content: \"\\00b7\"; padding: 0 .5ex}\n",
       "</style>\n",
       "<ol class=list-inline><li>2.84839150207875</li><li>10.9698688374978</li><li>14.3908473980335</li><li>11.2319093239791</li><li>12.6940752615265</li><li>10.528593773482</li><li>7.89291347416902</li><li>11.9613150479997</li><li>8.09706169180187</li><li>10.2867460322869</li></ol>\n"
      ],
      "text/latex": [
       "\\begin{enumerate*}\n",
       "\\item 2.84839150207875\n",
       "\\item 10.9698688374978\n",
       "\\item 14.3908473980335\n",
       "\\item 11.2319093239791\n",
       "\\item 12.6940752615265\n",
       "\\item 10.528593773482\n",
       "\\item 7.89291347416902\n",
       "\\item 11.9613150479997\n",
       "\\item 8.09706169180187\n",
       "\\item 10.2867460322869\n",
       "\\end{enumerate*}\n"
      ],
      "text/markdown": [
       "1. 2.84839150207875\n",
       "2. 10.9698688374978\n",
       "3. 14.3908473980335\n",
       "4. 11.2319093239791\n",
       "5. 12.6940752615265\n",
       "6. 10.528593773482\n",
       "7. 7.89291347416902\n",
       "8. 11.9613150479997\n",
       "9. 8.09706169180187\n",
       "10. 10.2867460322869\n",
       "\n",
       "\n"
      ],
      "text/plain": [
       " [1]  2.848392 10.969869 14.390847 11.231909 12.694075 10.528594  7.892913\n",
       " [8] 11.961315  8.097062 10.286746"
      ]
     },
     "metadata": {},
     "output_type": "display_data"
    },
    {
     "data": {
      "text/html": [
       "0.5"
      ],
      "text/latex": [
       "0.5"
      ],
      "text/markdown": [
       "0.5"
      ],
      "text/plain": [
       "[1] 0.5"
      ]
     },
     "metadata": {},
     "output_type": "display_data"
    }
   ],
   "source": [
    "# adding new methods and attributes for class normal\n",
    "normal$set(\"public\", \"cdf\", function(value) pnorm(value, self$mu, self$sig))\n",
    "normal$set(\"public\", \"name\", \"normal distribution\")\n",
    "           \n",
    "\n",
    "\n",
    "mod <- normal$new(10, 3)\n",
    "\n",
    "mod$name           \n",
    "           \n",
    "mod$rvs(10)\n",
    "\n",
    "mod$cdf(10)"
   ]
  },
  {
   "cell_type": "markdown",
   "id": "described-donor",
   "metadata": {},
   "source": [
    "## Inheritance"
   ]
  },
  {
   "cell_type": "code",
   "execution_count": 12,
   "id": "published-injury",
   "metadata": {},
   "outputs": [
    {
     "data": {
      "text/plain": [
       "Standard Normal is a special case of normal distribution\n",
       "A normal distribution with 0 mean and 1 standard deviation"
      ]
     },
     "metadata": {},
     "output_type": "display_data"
    },
    {
     "data": {
      "text/html": [
       "<style>\n",
       ".list-inline {list-style: none; margin:0; padding: 0}\n",
       ".list-inline>li {display: inline-block}\n",
       ".list-inline>li:not(:last-child)::after {content: \"\\00b7\"; padding: 0 .5ex}\n",
       "</style>\n",
       "<ol class=list-inline><li>0.404141260727725</li><li>-0.432601907515634</li><li>-2.24965473415373</li><li>-0.745828976710798</li><li>-0.299995655394826</li></ol>\n"
      ],
      "text/latex": [
       "\\begin{enumerate*}\n",
       "\\item 0.404141260727725\n",
       "\\item -0.432601907515634\n",
       "\\item -2.24965473415373\n",
       "\\item -0.745828976710798\n",
       "\\item -0.299995655394826\n",
       "\\end{enumerate*}\n"
      ],
      "text/markdown": [
       "1. 0.404141260727725\n",
       "2. -0.432601907515634\n",
       "3. -2.24965473415373\n",
       "4. -0.745828976710798\n",
       "5. -0.299995655394826\n",
       "\n",
       "\n"
      ],
      "text/plain": [
       "[1]  0.4041413 -0.4326019 -2.2496547 -0.7458290 -0.2999957"
      ]
     },
     "metadata": {},
     "output_type": "display_data"
    },
    {
     "data": {
      "text/html": [
       "0.5"
      ],
      "text/latex": [
       "0.5"
      ],
      "text/markdown": [
       "0.5"
      ],
      "text/plain": [
       "[1] 0.5"
      ]
     },
     "metadata": {},
     "output_type": "display_data"
    }
   ],
   "source": [
    "# inheritance\n",
    "StandardNormal <- R6Class('StandardNormal', \n",
    "                          list(mu = 0, \n",
    "                               sig = 1,\n",
    "                               # access parent with `super`\n",
    "                               initialize = function() super$initialize(0, 1),\n",
    "                               print = function() {\n",
    "                                   cat('Standard Normal is a special case of normal distribution\\n')\n",
    "                                   super$print()\n",
    "                               }),\n",
    "                          # set the class to inherit from\n",
    "                          inherit = normal)\n",
    "\n",
    "my_standard_normal <- StandardNormal$new()\n",
    "\n",
    "my_standard_normal\n",
    "\n",
    "my_standard_normal$rvs(5)\n",
    "\n",
    "my_standard_normal$cdf(0)"
   ]
  },
  {
   "cell_type": "markdown",
   "id": "supported-hartford",
   "metadata": {},
   "source": [
    "**NOTES**: subclass cannot access private attributes of parent class, but it can access private method of parent class"
   ]
  },
  {
   "cell_type": "code",
   "execution_count": 122,
   "id": "alone-kitty",
   "metadata": {},
   "outputs": [
    {
     "name": "stdout",
     "output_type": "stream",
     "text": [
      "Field:  \n",
      "Method: bar\n"
     ]
    }
   ],
   "source": [
    "A <- R6Class(\n",
    "  classname = \"A\",\n",
    "  private = list(\n",
    "    field = \"foo\",\n",
    "    method = function() {\n",
    "      \"bar\"\n",
    "    }\n",
    "  )\n",
    ")\n",
    "\n",
    "B <- R6Class(\n",
    "  classname = \"B\",\n",
    "  inherit = A,\n",
    "  public = list(\n",
    "    test = function() {\n",
    "      cat(\"Field:  \", super$field, \"\\n\", sep = \"\")\n",
    "      cat(\"Method: \", super$method(), \"\\n\", sep = \"\")\n",
    "    }\n",
    "  )\n",
    ")\n",
    "\n",
    "B$new()$test()"
   ]
  },
  {
   "cell_type": "markdown",
   "id": "fiscal-louisiana",
   "metadata": {},
   "source": [
    "# Controlling access: public, private and active"
   ]
  },
  {
   "cell_type": "markdown",
   "id": "athletic-folks",
   "metadata": {},
   "source": [
    "> control via `public`, `private` and `active` keyword argument of function **`R6Class`**"
   ]
  },
  {
   "cell_type": "markdown",
   "id": "naval-nicaragua",
   "metadata": {},
   "source": [
    "## private"
   ]
  },
  {
   "cell_type": "code",
   "execution_count": 18,
   "id": "intense-standing",
   "metadata": {},
   "outputs": [
    {
     "data": {
      "text/plain": [
       "my price is:  999 $"
      ]
     },
     "metadata": {},
     "output_type": "display_data"
    }
   ],
   "source": [
    "Pokemon <- R6Class('Pokemon', \n",
    "                  list(\n",
    "                      # define public attributes\n",
    "                      name = NULL,\n",
    "                      initialize = function(name, price) {\n",
    "                          self$name <- name\n",
    "                          # self.__price__\n",
    "                          private$price <- price\n",
    "                      },\n",
    "                      print = function(...) cat('my price is: ', private$price, '$')\n",
    "                  ),\n",
    "                  # define pivate attributes\n",
    "                  private = list(price = NULL))\n",
    "\n",
    "pikachu <- Pokemon$new('Pikachu', 999)\n",
    "pikachu"
   ]
  },
  {
   "cell_type": "code",
   "execution_count": 19,
   "id": "literary-petroleum",
   "metadata": {},
   "outputs": [
    {
     "data": {
      "text/plain": [
       "NULL"
      ]
     },
     "metadata": {},
     "output_type": "display_data"
    }
   ],
   "source": [
    "# you cannot access private attributes and methods\n",
    "pikachu$price"
   ]
  },
  {
   "cell_type": "code",
   "execution_count": 20,
   "id": "deadly-exclusive",
   "metadata": {},
   "outputs": [
    {
     "data": {
      "text/html": [
       "'Pikachu'"
      ],
      "text/latex": [
       "'Pikachu'"
      ],
      "text/markdown": [
       "'Pikachu'"
      ],
      "text/plain": [
       "[1] \"Pikachu\""
      ]
     },
     "metadata": {},
     "output_type": "display_data"
    }
   ],
   "source": [
    "# but you can access public attributes and methods\n",
    "pikachu$name"
   ]
  },
  {
   "cell_type": "markdown",
   "id": "harmful-meditation",
   "metadata": {},
   "source": [
    "## active (getter and setter)"
   ]
  },
  {
   "cell_type": "code",
   "execution_count": 79,
   "id": "attached-party",
   "metadata": {},
   "outputs": [],
   "source": [
    "Clipper <- R6Class(\"Clipper\",\n",
    "  public = list(\n",
    "    lower = NULL,\n",
    "    upper = NULL,\n",
    "    initialize = function(initial_value, lower, upper) {\n",
    "      self$lower <- lower\n",
    "      self$upper <- upper\n",
    "      self$value <- initial_value\n",
    "    },\n",
    "    # increase current value by `amount`\n",
    "    inc = function(amount) {\n",
    "      self$value <- self$value + amount\n",
    "      # this function is side-effect, so return invisibly\n",
    "      invisible(self)\n",
    "    },\n",
    "    desc = function(amount) {\n",
    "      self$value <- self$value - amount\n",
    "      # this function is side-effect, so return invisibly\n",
    "      invisible(self)\n",
    "    }\n",
    "  ),\n",
    "  active = list(\n",
    "    # a setter that clip value between `lower` and `upper`\n",
    "    value = function(x) {\n",
    "      # if we pass no arugment, it means we are trying to access value, so --> getter\n",
    "      if (missing(x)) {\n",
    "        return(private$val)\n",
    "      }\n",
    "      # setter\n",
    "      private$val <- min(max(x, self$lower), self$upper)\n",
    "      # return invisibly\n",
    "      invisible(self)\n",
    "    }\n",
    "  ),\n",
    "  private = list(\n",
    "    val = NULL\n",
    "  )\n",
    ")\n",
    "\n",
    "my_clipper <- Clipper$new(25, lower = 0, upper = 10)\n"
   ]
  },
  {
   "cell_type": "code",
   "execution_count": 72,
   "id": "aggressive-prediction",
   "metadata": {},
   "outputs": [
    {
     "data": {
      "text/html": [
       "10"
      ],
      "text/latex": [
       "10"
      ],
      "text/markdown": [
       "10"
      ],
      "text/plain": [
       "[1] 10"
      ]
     },
     "metadata": {},
     "output_type": "display_data"
    }
   ],
   "source": [
    "# getter\n",
    "my_clipper$value"
   ]
  },
  {
   "cell_type": "code",
   "execution_count": 73,
   "id": "worst-brother",
   "metadata": {},
   "outputs": [
    {
     "data": {
      "text/html": [
       "0"
      ],
      "text/latex": [
       "0"
      ],
      "text/markdown": [
       "0"
      ],
      "text/plain": [
       "[1] 0"
      ]
     },
     "metadata": {},
     "output_type": "display_data"
    }
   ],
   "source": [
    "# set value to negative, setter clip it to 0\n",
    "my_clipper$value <- -10\n",
    "my_clipper$value"
   ]
  },
  {
   "cell_type": "code",
   "execution_count": 74,
   "id": "needed-buddy",
   "metadata": {},
   "outputs": [
    {
     "data": {
      "text/html": [
       "5"
      ],
      "text/latex": [
       "5"
      ],
      "text/markdown": [
       "5"
      ],
      "text/plain": [
       "[1] 5"
      ]
     },
     "metadata": {},
     "output_type": "display_data"
    }
   ],
   "source": [
    "my_clipper$value <- 5\n",
    "my_clipper$value"
   ]
  },
  {
   "cell_type": "code",
   "execution_count": 75,
   "id": "educated-merchant",
   "metadata": {},
   "outputs": [
    {
     "data": {
      "text/html": [
       "8"
      ],
      "text/latex": [
       "8"
      ],
      "text/markdown": [
       "8"
      ],
      "text/plain": [
       "[1] 8"
      ]
     },
     "metadata": {},
     "output_type": "display_data"
    }
   ],
   "source": [
    "# increase current value by 3\n",
    "my_clipper$inc(3)\n",
    "# get the value of the current value\n",
    "my_clipper$value"
   ]
  },
  {
   "cell_type": "code",
   "execution_count": 76,
   "id": "qualified-indianapolis",
   "metadata": {},
   "outputs": [
    {
     "data": {
      "text/html": [
       "10"
      ],
      "text/latex": [
       "10"
      ],
      "text/markdown": [
       "10"
      ],
      "text/plain": [
       "[1] 10"
      ]
     },
     "metadata": {},
     "output_type": "display_data"
    }
   ],
   "source": [
    "# increase the current value by 100, because of setter, it will be clipped to return 10, not 108\n",
    "my_clipper$inc(100)\n",
    "my_clipper$value"
   ]
  },
  {
   "cell_type": "code",
   "execution_count": 77,
   "id": "international-accused",
   "metadata": {},
   "outputs": [
    {
     "data": {
      "text/html": [
       "7"
      ],
      "text/latex": [
       "7"
      ],
      "text/markdown": [
       "7"
      ],
      "text/plain": [
       "[1] 7"
      ]
     },
     "metadata": {},
     "output_type": "display_data"
    }
   ],
   "source": [
    "# decrease the current value by 3\n",
    "my_clipper$desc(3)\n",
    "my_clipper$value\n"
   ]
  },
  {
   "cell_type": "markdown",
   "id": "amber-matthew",
   "metadata": {},
   "source": [
    "# Reference sematics"
   ]
  },
  {
   "cell_type": "markdown",
   "id": "champion-burns",
   "metadata": {},
   "source": [
    "The big difference of R6, it is not copied on modified (like instances of class in python)"
   ]
  },
  {
   "cell_type": "code",
   "execution_count": 89,
   "id": "hired-gender",
   "metadata": {},
   "outputs": [
    {
     "data": {
      "text/html": [
       "5"
      ],
      "text/latex": [
       "5"
      ],
      "text/markdown": [
       "5"
      ],
      "text/plain": [
       "[1] 5"
      ]
     },
     "metadata": {},
     "output_type": "display_data"
    },
    {
     "data": {
      "text/html": [
       "5"
      ],
      "text/latex": [
       "5"
      ],
      "text/markdown": [
       "5"
      ],
      "text/plain": [
       "[1] 5"
      ]
     },
     "metadata": {},
     "output_type": "display_data"
    }
   ],
   "source": [
    "clipper1 <- Clipper$new(5, 0, 10)\n",
    "clipper2 <- clipper1\n",
    "\n",
    "clipper1$value\n",
    "clipper2$value"
   ]
  },
  {
   "cell_type": "code",
   "execution_count": 90,
   "id": "ceramic-integrity",
   "metadata": {},
   "outputs": [
    {
     "data": {
      "text/html": [
       "10"
      ],
      "text/latex": [
       "10"
      ],
      "text/markdown": [
       "10"
      ],
      "text/plain": [
       "[1] 10"
      ]
     },
     "metadata": {},
     "output_type": "display_data"
    },
    {
     "data": {
      "text/html": [
       "10"
      ],
      "text/latex": [
       "10"
      ],
      "text/markdown": [
       "10"
      ],
      "text/plain": [
       "[1] 10"
      ]
     },
     "metadata": {},
     "output_type": "display_data"
    }
   ],
   "source": [
    "# change the value of clipper1 will also change the value of clipper2\n",
    "clipper1$value <- 11\n",
    "\n",
    "clipper1$value\n",
    "clipper2$value"
   ]
  },
  {
   "cell_type": "markdown",
   "id": "major-stock",
   "metadata": {},
   "source": [
    "Explicitly copy with `$clone`"
   ]
  },
  {
   "cell_type": "code",
   "execution_count": 91,
   "id": "threaded-wheat",
   "metadata": {},
   "outputs": [
    {
     "data": {
      "text/html": [
       "1"
      ],
      "text/latex": [
       "1"
      ],
      "text/markdown": [
       "1"
      ],
      "text/plain": [
       "[1] 1"
      ]
     },
     "metadata": {},
     "output_type": "display_data"
    },
    {
     "data": {
      "text/html": [
       "10"
      ],
      "text/latex": [
       "10"
      ],
      "text/markdown": [
       "10"
      ],
      "text/plain": [
       "[1] 10"
      ]
     },
     "metadata": {},
     "output_type": "display_data"
    }
   ],
   "source": [
    "clipper3 <- clipper1$clone()\n",
    "\n",
    "# change the value of clipper 3 will not affect the value of clipper 1\n",
    "clipper3$value <- 1\n",
    "\n",
    "clipper3$value\n",
    "clipper1$value"
   ]
  },
  {
   "cell_type": "markdown",
   "id": "excellent-adrian",
   "metadata": {},
   "source": [
    "> NOTE: `clone` does not recursively copy deeply nested R6. use `clone(deep = TRUE)` to do this"
   ]
  },
  {
   "cell_type": "markdown",
   "id": "distinct-technician",
   "metadata": {},
   "source": [
    "## 1. Reasoning"
   ]
  },
  {
   "cell_type": "markdown",
   "id": "organic-minute",
   "metadata": {},
   "source": [
    "Read the chapter"
   ]
  },
  {
   "cell_type": "markdown",
   "id": "yellow-violin",
   "metadata": {},
   "source": [
    "## 2. Finalizers"
   ]
  },
  {
   "cell_type": "markdown",
   "id": "successful-player",
   "metadata": {},
   "source": [
    "The clean up when the instance is deleted. Like **`__del__`** in python"
   ]
  },
  {
   "cell_type": "code",
   "execution_count": 98,
   "id": "immune-sperm",
   "metadata": {},
   "outputs": [
    {
     "data": {
      "text/html": [
       "'/tmp/RtmpWah1N8/fileb0422351ab24'"
      ],
      "text/latex": [
       "'/tmp/RtmpWah1N8/fileb0422351ab24'"
      ],
      "text/markdown": [
       "'/tmp/RtmpWah1N8/fileb0422351ab24'"
      ],
      "text/plain": [
       "[1] \"/tmp/RtmpWah1N8/fileb0422351ab24\""
      ]
     },
     "metadata": {},
     "output_type": "display_data"
    }
   ],
   "source": [
    "TemporaryFile <- R6Class(\"TemporaryFile\", list(\n",
    "  path = NULL,\n",
    "  initialize = function() {\n",
    "    # open file\n",
    "    self$path <- tempfile()\n",
    "  },\n",
    "  # handle function when instance is deleted\n",
    "  finalize = function() {\n",
    "    message(\"Cleaning up \", self$path)\n",
    "    # close file\n",
    "    unlink(self$path)\n",
    "  }\n",
    "))\n",
    "\n",
    "my_file <- TemporaryFile$new()\n",
    "my_file$path"
   ]
  },
  {
   "cell_type": "code",
   "execution_count": 99,
   "id": "close-parts",
   "metadata": {},
   "outputs": [],
   "source": [
    "rm(my_file)"
   ]
  },
  {
   "cell_type": "markdown",
   "id": "checked-difficulty",
   "metadata": {},
   "source": [
    "# Exercises"
   ]
  },
  {
   "cell_type": "markdown",
   "id": "abroad-length",
   "metadata": {},
   "source": [
    "> 1.Create an R6 class that represents a shuffled deck of cards. You should be able to draw cards from the deck with `$draw(n)`, and return all cards to the deck and reshuffle with `$reshuffle()`. "
   ]
  },
  {
   "cell_type": "code",
   "execution_count": 106,
   "id": "generic-baptist",
   "metadata": {},
   "outputs": [
    {
     "data": {
      "text/html": [
       "<style>\n",
       ".list-inline {list-style: none; margin:0; padding: 0}\n",
       ".list-inline>li {display: inline-block}\n",
       ".list-inline>li:not(:last-child)::after {content: \"\\00b7\"; padding: 0 .5ex}\n",
       "</style>\n",
       "<ol class=list-inline><li>'KH'</li><li>'QD'</li><li>'9H'</li><li>'6H'</li><li>'KD'</li><li>'4H'</li><li>'9D'</li><li>'4C'</li><li>'5H'</li><li>'6D'</li><li>'4S'</li><li>'QC'</li><li>'AS'</li><li>'6S'</li><li>'JS'</li><li>'QH'</li><li>'2D'</li><li>'3H'</li><li>'AC'</li><li>'AH'</li><li>'5S'</li><li>'10D'</li><li>'6C'</li><li>'5D'</li><li>'KS'</li><li>'2H'</li><li>'JD'</li><li>'JC'</li><li>'9C'</li><li>'QS'</li><li>'KC'</li><li>'2C'</li><li>'10C'</li><li>'5C'</li><li>'10S'</li><li>'8D'</li><li>'AD'</li><li>'3C'</li><li>'9S'</li><li>'8H'</li><li>'3S'</li><li>'4D'</li><li>'10H'</li><li>'7S'</li><li>'JH'</li><li>'7H'</li><li>'8C'</li><li>'8S'</li><li>'7C'</li><li>'3D'</li><li>'7D'</li><li>'2S'</li></ol>\n"
      ],
      "text/latex": [
       "\\begin{enumerate*}\n",
       "\\item 'KH'\n",
       "\\item 'QD'\n",
       "\\item '9H'\n",
       "\\item '6H'\n",
       "\\item 'KD'\n",
       "\\item '4H'\n",
       "\\item '9D'\n",
       "\\item '4C'\n",
       "\\item '5H'\n",
       "\\item '6D'\n",
       "\\item '4S'\n",
       "\\item 'QC'\n",
       "\\item 'AS'\n",
       "\\item '6S'\n",
       "\\item 'JS'\n",
       "\\item 'QH'\n",
       "\\item '2D'\n",
       "\\item '3H'\n",
       "\\item 'AC'\n",
       "\\item 'AH'\n",
       "\\item '5S'\n",
       "\\item '10D'\n",
       "\\item '6C'\n",
       "\\item '5D'\n",
       "\\item 'KS'\n",
       "\\item '2H'\n",
       "\\item 'JD'\n",
       "\\item 'JC'\n",
       "\\item '9C'\n",
       "\\item 'QS'\n",
       "\\item 'KC'\n",
       "\\item '2C'\n",
       "\\item '10C'\n",
       "\\item '5C'\n",
       "\\item '10S'\n",
       "\\item '8D'\n",
       "\\item 'AD'\n",
       "\\item '3C'\n",
       "\\item '9S'\n",
       "\\item '8H'\n",
       "\\item '3S'\n",
       "\\item '4D'\n",
       "\\item '10H'\n",
       "\\item '7S'\n",
       "\\item 'JH'\n",
       "\\item '7H'\n",
       "\\item '8C'\n",
       "\\item '8S'\n",
       "\\item '7C'\n",
       "\\item '3D'\n",
       "\\item '7D'\n",
       "\\item '2S'\n",
       "\\end{enumerate*}\n"
      ],
      "text/markdown": [
       "1. 'KH'\n",
       "2. 'QD'\n",
       "3. '9H'\n",
       "4. '6H'\n",
       "5. 'KD'\n",
       "6. '4H'\n",
       "7. '9D'\n",
       "8. '4C'\n",
       "9. '5H'\n",
       "10. '6D'\n",
       "11. '4S'\n",
       "12. 'QC'\n",
       "13. 'AS'\n",
       "14. '6S'\n",
       "15. 'JS'\n",
       "16. 'QH'\n",
       "17. '2D'\n",
       "18. '3H'\n",
       "19. 'AC'\n",
       "20. 'AH'\n",
       "21. '5S'\n",
       "22. '10D'\n",
       "23. '6C'\n",
       "24. '5D'\n",
       "25. 'KS'\n",
       "26. '2H'\n",
       "27. 'JD'\n",
       "28. 'JC'\n",
       "29. '9C'\n",
       "30. 'QS'\n",
       "31. 'KC'\n",
       "32. '2C'\n",
       "33. '10C'\n",
       "34. '5C'\n",
       "35. '10S'\n",
       "36. '8D'\n",
       "37. 'AD'\n",
       "38. '3C'\n",
       "39. '9S'\n",
       "40. '8H'\n",
       "41. '3S'\n",
       "42. '4D'\n",
       "43. '10H'\n",
       "44. '7S'\n",
       "45. 'JH'\n",
       "46. '7H'\n",
       "47. '8C'\n",
       "48. '8S'\n",
       "49. '7C'\n",
       "50. '3D'\n",
       "51. '7D'\n",
       "52. '2S'\n",
       "\n",
       "\n"
      ],
      "text/plain": [
       " [1] \"KH\"  \"QD\"  \"9H\"  \"6H\"  \"KD\"  \"4H\"  \"9D\"  \"4C\"  \"5H\"  \"6D\"  \"4S\"  \"QC\" \n",
       "[13] \"AS\"  \"6S\"  \"JS\"  \"QH\"  \"2D\"  \"3H\"  \"AC\"  \"AH\"  \"5S\"  \"10D\" \"6C\"  \"5D\" \n",
       "[25] \"KS\"  \"2H\"  \"JD\"  \"JC\"  \"9C\"  \"QS\"  \"KC\"  \"2C\"  \"10C\" \"5C\"  \"10S\" \"8D\" \n",
       "[37] \"AD\"  \"3C\"  \"9S\"  \"8H\"  \"3S\"  \"4D\"  \"10H\" \"7S\"  \"JH\"  \"7H\"  \"8C\"  \"8S\" \n",
       "[49] \"7C\"  \"3D\"  \"7D\"  \"2S\" "
      ]
     },
     "metadata": {},
     "output_type": "display_data"
    }
   ],
   "source": [
    "Deck <- R6Class(\n",
    "  \"Deck\",\n",
    "  list(\n",
    "    # define public attributes\n",
    "    deck = NULL,\n",
    "    initialize = function() {\n",
    "      suit <- c(\"H\", \"D\", \"S\", \"C\")\n",
    "      value <- c(\"A\", 2:10, \"J\", \"Q\", \"K\")\n",
    "      cards <- paste0(rep(value, 4), suit)\n",
    "      # store all cards in a deck privately\n",
    "      private$cards <- cards\n",
    "      # store the current state of the deck\n",
    "      self$deck <- cards\n",
    "    },\n",
    "    draw = function(n) {\n",
    "      ncards <- length(self$deck)\n",
    "      # raise error when there are not enough cards to draw\n",
    "      if (n > ncards) {\n",
    "        stop(\"You have only \", ncards, \" cards left but you draw \", n, \" cards\", call. = FALSE)\n",
    "      }\n",
    "      # randomly draw n cards from the deck\n",
    "      ix <- sample(1:ncards, size = n)\n",
    "      result <- self$deck[ix]\n",
    "      # remove drawed cards from the deck\n",
    "      self$deck <- self$deck[-ix]\n",
    "      result\n",
    "    },\n",
    "    reshuffle = function() {\n",
    "      self$deck <- sample(private$cards, 52)\n",
    "      invisible(self)\n",
    "    }\n",
    "  ),\n",
    "  # define private attributes\n",
    "  private = list(cards = NULL)\n",
    ")\n",
    "\n",
    "deck_of_cards <- Deck$new()\n",
    "\n",
    "deck_of_cards$reshuffle()\n",
    "\n",
    "deck_of_cards$deck"
   ]
  },
  {
   "cell_type": "code",
   "execution_count": 107,
   "id": "veterinary-governor",
   "metadata": {},
   "outputs": [
    {
     "data": {
      "text/html": [
       "<style>\n",
       ".list-inline {list-style: none; margin:0; padding: 0}\n",
       ".list-inline>li {display: inline-block}\n",
       ".list-inline>li:not(:last-child)::after {content: \"\\00b7\"; padding: 0 .5ex}\n",
       "</style>\n",
       "<ol class=list-inline><li>'10D'</li><li>'AD'</li><li>'KS'</li><li>'5S'</li><li>'5D'</li></ol>\n"
      ],
      "text/latex": [
       "\\begin{enumerate*}\n",
       "\\item '10D'\n",
       "\\item 'AD'\n",
       "\\item 'KS'\n",
       "\\item '5S'\n",
       "\\item '5D'\n",
       "\\end{enumerate*}\n"
      ],
      "text/markdown": [
       "1. '10D'\n",
       "2. 'AD'\n",
       "3. 'KS'\n",
       "4. '5S'\n",
       "5. '5D'\n",
       "\n",
       "\n"
      ],
      "text/plain": [
       "[1] \"10D\" \"AD\"  \"KS\"  \"5S\"  \"5D\" "
      ]
     },
     "metadata": {},
     "output_type": "display_data"
    }
   ],
   "source": [
    "deck_of_cards$draw(5)"
   ]
  },
  {
   "cell_type": "code",
   "execution_count": 108,
   "id": "iraqi-acrobat",
   "metadata": {},
   "outputs": [
    {
     "data": {
      "text/html": [
       "<style>\n",
       ".list-inline {list-style: none; margin:0; padding: 0}\n",
       ".list-inline>li {display: inline-block}\n",
       ".list-inline>li:not(:last-child)::after {content: \"\\00b7\"; padding: 0 .5ex}\n",
       "</style>\n",
       "<ol class=list-inline><li>'4H'</li><li>'QC'</li><li>'9D'</li><li>'KD'</li><li>'7D'</li><li>'6S'</li><li>'7S'</li><li>'8H'</li><li>'KH'</li><li>'AS'</li><li>'10C'</li><li>'AH'</li><li>'5C'</li><li>'4D'</li><li>'3H'</li><li>'QS'</li><li>'6C'</li><li>'4C'</li><li>'8D'</li><li>'JS'</li><li>'7C'</li><li>'8S'</li><li>'3D'</li><li>'9S'</li><li>'10S'</li><li>'6H'</li><li>'2D'</li><li>'9C'</li><li>'2H'</li><li>'JC'</li><li>'QD'</li><li>'2C'</li><li>'3C'</li><li>'8C'</li><li>'2S'</li><li>'KC'</li><li>'6D'</li><li>'JH'</li><li>'4S'</li><li>'7H'</li><li>'AC'</li><li>'JD'</li><li>'3S'</li><li>'10H'</li><li>'5H'</li></ol>\n"
      ],
      "text/latex": [
       "\\begin{enumerate*}\n",
       "\\item '4H'\n",
       "\\item 'QC'\n",
       "\\item '9D'\n",
       "\\item 'KD'\n",
       "\\item '7D'\n",
       "\\item '6S'\n",
       "\\item '7S'\n",
       "\\item '8H'\n",
       "\\item 'KH'\n",
       "\\item 'AS'\n",
       "\\item '10C'\n",
       "\\item 'AH'\n",
       "\\item '5C'\n",
       "\\item '4D'\n",
       "\\item '3H'\n",
       "\\item 'QS'\n",
       "\\item '6C'\n",
       "\\item '4C'\n",
       "\\item '8D'\n",
       "\\item 'JS'\n",
       "\\item '7C'\n",
       "\\item '8S'\n",
       "\\item '3D'\n",
       "\\item '9S'\n",
       "\\item '10S'\n",
       "\\item '6H'\n",
       "\\item '2D'\n",
       "\\item '9C'\n",
       "\\item '2H'\n",
       "\\item 'JC'\n",
       "\\item 'QD'\n",
       "\\item '2C'\n",
       "\\item '3C'\n",
       "\\item '8C'\n",
       "\\item '2S'\n",
       "\\item 'KC'\n",
       "\\item '6D'\n",
       "\\item 'JH'\n",
       "\\item '4S'\n",
       "\\item '7H'\n",
       "\\item 'AC'\n",
       "\\item 'JD'\n",
       "\\item '3S'\n",
       "\\item '10H'\n",
       "\\item '5H'\n",
       "\\end{enumerate*}\n"
      ],
      "text/markdown": [
       "1. '4H'\n",
       "2. 'QC'\n",
       "3. '9D'\n",
       "4. 'KD'\n",
       "5. '7D'\n",
       "6. '6S'\n",
       "7. '7S'\n",
       "8. '8H'\n",
       "9. 'KH'\n",
       "10. 'AS'\n",
       "11. '10C'\n",
       "12. 'AH'\n",
       "13. '5C'\n",
       "14. '4D'\n",
       "15. '3H'\n",
       "16. 'QS'\n",
       "17. '6C'\n",
       "18. '4C'\n",
       "19. '8D'\n",
       "20. 'JS'\n",
       "21. '7C'\n",
       "22. '8S'\n",
       "23. '3D'\n",
       "24. '9S'\n",
       "25. '10S'\n",
       "26. '6H'\n",
       "27. '2D'\n",
       "28. '9C'\n",
       "29. '2H'\n",
       "30. 'JC'\n",
       "31. 'QD'\n",
       "32. '2C'\n",
       "33. '3C'\n",
       "34. '8C'\n",
       "35. '2S'\n",
       "36. 'KC'\n",
       "37. '6D'\n",
       "38. 'JH'\n",
       "39. '4S'\n",
       "40. '7H'\n",
       "41. 'AC'\n",
       "42. 'JD'\n",
       "43. '3S'\n",
       "44. '10H'\n",
       "45. '5H'\n",
       "\n",
       "\n"
      ],
      "text/plain": [
       " [1] \"4H\"  \"QC\"  \"9D\"  \"KD\"  \"7D\"  \"6S\"  \"7S\"  \"8H\"  \"KH\"  \"AS\"  \"10C\" \"AH\" \n",
       "[13] \"5C\"  \"4D\"  \"3H\"  \"QS\"  \"6C\"  \"4C\"  \"8D\"  \"JS\"  \"7C\"  \"8S\"  \"3D\"  \"9S\" \n",
       "[25] \"10S\" \"6H\"  \"2D\"  \"9C\"  \"2H\"  \"JC\"  \"QD\"  \"2C\"  \"3C\"  \"8C\"  \"2S\"  \"KC\" \n",
       "[37] \"6D\"  \"JH\"  \"4S\"  \"7H\"  \"AC\"  \"JD\"  \"3S\"  \"10H\" \"5H\" "
      ]
     },
     "metadata": {},
     "output_type": "display_data"
    }
   ],
   "source": [
    "deck_of_cards$draw(45)"
   ]
  },
  {
   "cell_type": "code",
   "execution_count": 109,
   "id": "japanese-circus",
   "metadata": {},
   "outputs": [
    {
     "name": "stdout",
     "output_type": "stream",
     "text": [
      "Error : You have only 2 cards left but you draw 10 cards\n"
     ]
    }
   ],
   "source": [
    "try(deck_of_cards$draw(10))"
   ]
  },
  {
   "cell_type": "code",
   "execution_count": 110,
   "id": "hundred-marina",
   "metadata": {},
   "outputs": [
    {
     "data": {
      "text/html": [
       "<style>\n",
       ".list-inline {list-style: none; margin:0; padding: 0}\n",
       ".list-inline>li {display: inline-block}\n",
       ".list-inline>li:not(:last-child)::after {content: \"\\00b7\"; padding: 0 .5ex}\n",
       "</style>\n",
       "<ol class=list-inline><li>'AC'</li><li>'6C'</li><li>'7C'</li><li>'QC'</li><li>'2S'</li><li>'KD'</li><li>'5S'</li><li>'8S'</li><li>'6H'</li><li>'9D'</li><li>'JC'</li><li>'2H'</li><li>'10S'</li><li>'7H'</li><li>'3S'</li><li>'9H'</li><li>'7S'</li><li>'JS'</li><li>'4H'</li><li>'5H'</li><li>'AH'</li><li>'4C'</li><li>'JD'</li><li>'JH'</li><li>'9C'</li><li>'7D'</li><li>'8D'</li><li>'10C'</li><li>'QD'</li><li>'QH'</li><li>'5D'</li><li>'10H'</li><li>'QS'</li><li>'2C'</li><li>'4D'</li><li>'5C'</li><li>'6D'</li><li>'AD'</li><li>'3D'</li><li>'KH'</li><li>'6S'</li><li>'8C'</li><li>'8H'</li><li>'KS'</li><li>'3C'</li><li>'AS'</li><li>'10D'</li><li>'3H'</li><li>'9S'</li><li>'2D'</li><li>'KC'</li><li>'4S'</li></ol>\n"
      ],
      "text/latex": [
       "\\begin{enumerate*}\n",
       "\\item 'AC'\n",
       "\\item '6C'\n",
       "\\item '7C'\n",
       "\\item 'QC'\n",
       "\\item '2S'\n",
       "\\item 'KD'\n",
       "\\item '5S'\n",
       "\\item '8S'\n",
       "\\item '6H'\n",
       "\\item '9D'\n",
       "\\item 'JC'\n",
       "\\item '2H'\n",
       "\\item '10S'\n",
       "\\item '7H'\n",
       "\\item '3S'\n",
       "\\item '9H'\n",
       "\\item '7S'\n",
       "\\item 'JS'\n",
       "\\item '4H'\n",
       "\\item '5H'\n",
       "\\item 'AH'\n",
       "\\item '4C'\n",
       "\\item 'JD'\n",
       "\\item 'JH'\n",
       "\\item '9C'\n",
       "\\item '7D'\n",
       "\\item '8D'\n",
       "\\item '10C'\n",
       "\\item 'QD'\n",
       "\\item 'QH'\n",
       "\\item '5D'\n",
       "\\item '10H'\n",
       "\\item 'QS'\n",
       "\\item '2C'\n",
       "\\item '4D'\n",
       "\\item '5C'\n",
       "\\item '6D'\n",
       "\\item 'AD'\n",
       "\\item '3D'\n",
       "\\item 'KH'\n",
       "\\item '6S'\n",
       "\\item '8C'\n",
       "\\item '8H'\n",
       "\\item 'KS'\n",
       "\\item '3C'\n",
       "\\item 'AS'\n",
       "\\item '10D'\n",
       "\\item '3H'\n",
       "\\item '9S'\n",
       "\\item '2D'\n",
       "\\item 'KC'\n",
       "\\item '4S'\n",
       "\\end{enumerate*}\n"
      ],
      "text/markdown": [
       "1. 'AC'\n",
       "2. '6C'\n",
       "3. '7C'\n",
       "4. 'QC'\n",
       "5. '2S'\n",
       "6. 'KD'\n",
       "7. '5S'\n",
       "8. '8S'\n",
       "9. '6H'\n",
       "10. '9D'\n",
       "11. 'JC'\n",
       "12. '2H'\n",
       "13. '10S'\n",
       "14. '7H'\n",
       "15. '3S'\n",
       "16. '9H'\n",
       "17. '7S'\n",
       "18. 'JS'\n",
       "19. '4H'\n",
       "20. '5H'\n",
       "21. 'AH'\n",
       "22. '4C'\n",
       "23. 'JD'\n",
       "24. 'JH'\n",
       "25. '9C'\n",
       "26. '7D'\n",
       "27. '8D'\n",
       "28. '10C'\n",
       "29. 'QD'\n",
       "30. 'QH'\n",
       "31. '5D'\n",
       "32. '10H'\n",
       "33. 'QS'\n",
       "34. '2C'\n",
       "35. '4D'\n",
       "36. '5C'\n",
       "37. '6D'\n",
       "38. 'AD'\n",
       "39. '3D'\n",
       "40. 'KH'\n",
       "41. '6S'\n",
       "42. '8C'\n",
       "43. '8H'\n",
       "44. 'KS'\n",
       "45. '3C'\n",
       "46. 'AS'\n",
       "47. '10D'\n",
       "48. '3H'\n",
       "49. '9S'\n",
       "50. '2D'\n",
       "51. 'KC'\n",
       "52. '4S'\n",
       "\n",
       "\n"
      ],
      "text/plain": [
       " [1] \"AC\"  \"6C\"  \"7C\"  \"QC\"  \"2S\"  \"KD\"  \"5S\"  \"8S\"  \"6H\"  \"9D\"  \"JC\"  \"2H\" \n",
       "[13] \"10S\" \"7H\"  \"3S\"  \"9H\"  \"7S\"  \"JS\"  \"4H\"  \"5H\"  \"AH\"  \"4C\"  \"JD\"  \"JH\" \n",
       "[25] \"9C\"  \"7D\"  \"8D\"  \"10C\" \"QD\"  \"QH\"  \"5D\"  \"10H\" \"QS\"  \"2C\"  \"4D\"  \"5C\" \n",
       "[37] \"6D\"  \"AD\"  \"3D\"  \"KH\"  \"6S\"  \"8C\"  \"8H\"  \"KS\"  \"3C\"  \"AS\"  \"10D\" \"3H\" \n",
       "[49] \"9S\"  \"2D\"  \"KC\"  \"4S\" "
      ]
     },
     "metadata": {},
     "output_type": "display_data"
    }
   ],
   "source": [
    "deck_of_cards$reshuffle()\n",
    "deck_of_cards$deck"
   ]
  },
  {
   "cell_type": "markdown",
   "id": "fallen-webcam",
   "metadata": {},
   "source": [
    "---\n",
    ">2. Create an R6 class that allows you to get and set the current time zone. When setting the time zone, make sure the new time zone is in the list provided by `OlsonNames()`."
   ]
  },
  {
   "cell_type": "code",
   "execution_count": 113,
   "id": "atmospheric-gregory",
   "metadata": {},
   "outputs": [
    {
     "data": {
      "text/html": [
       "'Asia/Ho_Chi_Minh'"
      ],
      "text/latex": [
       "'Asia/Ho\\_Chi\\_Minh'"
      ],
      "text/markdown": [
       "'Asia/Ho_Chi_Minh'"
      ],
      "text/plain": [
       "[1] \"Asia/Ho_Chi_Minh\""
      ]
     },
     "metadata": {},
     "output_type": "display_data"
    },
    {
     "data": {
      "text/html": [
       "'Europe/London'"
      ],
      "text/latex": [
       "'Europe/London'"
      ],
      "text/markdown": [
       "'Europe/London'"
      ],
      "text/plain": [
       "[1] \"Europe/London\""
      ]
     },
     "metadata": {},
     "output_type": "display_data"
    }
   ],
   "source": [
    "Timezone <- R6Class(\"Timezone\",\n",
    "  private = list(\n",
    "    tz = NULL\n",
    "  ),\n",
    "  public = list(\n",
    "    initialize = function() {\n",
    "      # getter and setter\n",
    "      self$timezone <- Sys.timezone()\n",
    "    }\n",
    "  ),\n",
    "  active = list(\n",
    "    timezone = function(tz) {\n",
    "      if (missing(tz)) {\n",
    "        return(private$tz)\n",
    "      }\n",
    "      if (!tz %in% OlsonNames()) {\n",
    "        stop(tz, \" is an invalid timezone\")\n",
    "      }\n",
    "      private$tz <- tz\n",
    "      invisible(self)\n",
    "    }\n",
    "  )\n",
    ")\n",
    "\n",
    "my_tz <- Timezone$new()\n",
    "\n",
    "my_tz$timezone\n",
    "\n",
    "my_tz$timezone <- 'Europe/London'\n",
    "\n",
    "my_tz$timezone"
   ]
  },
  {
   "cell_type": "code",
   "execution_count": 112,
   "id": "loving-hampton",
   "metadata": {},
   "outputs": [
    {
     "name": "stdout",
     "output_type": "stream",
     "text": [
      "Error in (function (tz)  : Hai duong is an invalid timezone\n"
     ]
    }
   ],
   "source": [
    "try(my_tz$timezone <- 'Hai duong')"
   ]
  },
  {
   "cell_type": "markdown",
   "id": "junior-authorization",
   "metadata": {},
   "source": [
    "---\n",
    ">3. Create a bank account R6 class that stores a balance and allows you to deposit and withdraw money. Create a subclass that throws an error if you attempt to go into overdraft."
   ]
  },
  {
   "cell_type": "code",
   "execution_count": 116,
   "id": "abstract-catering",
   "metadata": {},
   "outputs": [
    {
     "data": {
      "text/html": [
       "0"
      ],
      "text/latex": [
       "0"
      ],
      "text/markdown": [
       "0"
      ],
      "text/plain": [
       "[1] 0"
      ]
     },
     "metadata": {},
     "output_type": "display_data"
    },
    {
     "data": {
      "text/html": [
       "100"
      ],
      "text/latex": [
       "100"
      ],
      "text/markdown": [
       "100"
      ],
      "text/plain": [
       "[1] 100"
      ]
     },
     "metadata": {},
     "output_type": "display_data"
    },
    {
     "data": {
      "text/html": [
       "-100"
      ],
      "text/latex": [
       "-100"
      ],
      "text/markdown": [
       "-100"
      ],
      "text/plain": [
       "[1] -100"
      ]
     },
     "metadata": {},
     "output_type": "display_data"
    }
   ],
   "source": [
    "BankAccount <- R6Class(\n",
    "  \"BankAccount\",\n",
    "  list(\n",
    "    balance = 0,\n",
    "    deposit = function(amount = 0) {\n",
    "      stopifnot(is.numeric(amount))\n",
    "      self$balance <- self$balance + amount\n",
    "      invisible(self)\n",
    "    },\n",
    "    withdraw = function(amount = 0) {\n",
    "      stopifnot(is.numeric(amount))\n",
    "      self$balance <- self$balance - amount\n",
    "      invisible(self)\n",
    "    }\n",
    "  )\n",
    ")\n",
    "\n",
    "account <- BankAccount$new()\n",
    "\n",
    "account$balance\n",
    "\n",
    "account$deposit(100)\n",
    "account$balance\n",
    "\n",
    "account$withdraw(200)\n",
    "account$balance"
   ]
  },
  {
   "cell_type": "code",
   "execution_count": 118,
   "id": "heavy-behalf",
   "metadata": {},
   "outputs": [
    {
     "data": {
      "text/html": [
       "100"
      ],
      "text/latex": [
       "100"
      ],
      "text/markdown": [
       "100"
      ],
      "text/plain": [
       "[1] 100"
      ]
     },
     "metadata": {},
     "output_type": "display_data"
    },
    {
     "name": "stdout",
     "output_type": "stream",
     "text": [
      "Error : You do not have enough money to withdraw\n"
     ]
    }
   ],
   "source": [
    "BankAccountStrict <- R6Class(\n",
    "  \"BankAccountStrict\",\n",
    "  inherit = BankAccount,\n",
    "  public = list(\n",
    "    withdraw = function(amount) {\n",
    "      stopifnot(is.numeric(amount))\n",
    "      if (self$balance < amount) {\n",
    "        stop(\"You do not have enough money to withdraw\", call. = FALSE)\n",
    "      }\n",
    "      super$withdraw(amount)\n",
    "    }\n",
    "  )\n",
    ")\n",
    "\n",
    "account_strict <- BankAccountStrict$new()\n",
    "\n",
    "account_strict$deposit(100)\n",
    "\n",
    "account_strict$balance\n",
    "\n",
    "try(account_strict$withdraw(200))"
   ]
  },
  {
   "cell_type": "markdown",
   "id": "bibliographic-uniform",
   "metadata": {},
   "source": [
    ">Create a class that allows you to write a line to a specified file. You should open a connection to the file in `$initialize()`, append a line using cat() in `$append_line()`, and close the connection in `$finalize()`."
   ]
  },
  {
   "cell_type": "code",
   "execution_count": 119,
   "id": "mathematical-vulnerability",
   "metadata": {},
   "outputs": [
    {
     "data": {
      "text/html": [
       "'I love you, Pika Pika! '"
      ],
      "text/latex": [
       "'I love you, Pika Pika! '"
      ],
      "text/markdown": [
       "'I love you, Pika Pika! '"
      ],
      "text/plain": [
       "[1] \"I love you, Pika Pika! \""
      ]
     },
     "metadata": {},
     "output_type": "display_data"
    }
   ],
   "source": [
    "FileWriter <- R6Class(\n",
    "  \"FileWriter\",\n",
    "  list(\n",
    "    con = NULL,\n",
    "    initialize = function(filename) {\n",
    "      self$con <- file(filename, open = \"a\")\n",
    "    },\n",
    "    finalize = function() {\n",
    "      print('Closing...')\n",
    "      close(self$con)\n",
    "    },\n",
    "    append_line = function(txt) {\n",
    "      cat(txt, \"\\n\", file = self$con)\n",
    "    }\n",
    "  )\n",
    ")\n",
    "\n",
    "tmp_file <- tempfile()\n",
    "my_file <- FileWriter$new(tmp_file)\n",
    "my_file$append_line('I love you, Pika Pika!')\n",
    "readLines(tmp_file)\n",
    "\n",
    "rm(tmp_file)\n"
   ]
  },
  {
   "cell_type": "markdown",
   "id": "determined-float",
   "metadata": {},
   "source": [
    "> 4. Create a bank account class that prevents you from directly setting the account balance, but you can still withdraw from and deposit to. Throw an error if you attempt to go into overdraft."
   ]
  },
  {
   "cell_type": "code",
   "execution_count": 121,
   "id": "variable-british",
   "metadata": {},
   "outputs": [
    {
     "data": {
      "text/html": [
       "100"
      ],
      "text/latex": [
       "100"
      ],
      "text/markdown": [
       "100"
      ],
      "text/plain": [
       "[1] 100"
      ]
     },
     "metadata": {},
     "output_type": "display_data"
    },
    {
     "name": "stdout",
     "output_type": "stream",
     "text": [
      "Error : You do not have enough money to withdraw\n"
     ]
    }
   ],
   "source": [
    "BankAccountSecurity <- R6Class(\"BankAccountSecurity\",\n",
    "  private = list(\n",
    "    balance = 0\n",
    "  ),\n",
    "  public = list(\n",
    "    get_balance = function() {\n",
    "      private$balance\n",
    "    },\n",
    "    deposit = function(amount = 0) {\n",
    "      stopifnot(is.numeric(amount))\n",
    "      private$balance <- private$balance + amount\n",
    "      invisible(self)\n",
    "    },\n",
    "    withdraw = function(amount = 0) {\n",
    "      stopifnot(is.numeric(amount))\n",
    "      if (private$balance < amount) {\n",
    "        stop(\"You do not have enough money to withdraw\", call. = FALSE)\n",
    "      }\n",
    "      private$balance <- private$balance - amount\n",
    "      invisible(self)\n",
    "    }\n",
    "  )\n",
    ")\n",
    "\n",
    "my_account <- BankAccountSecurity$new()\n",
    "\n",
    "my_account$deposit(100)\n",
    "\n",
    "my_account$get_balance()\n",
    "\n",
    "try(my_account$withdraw(1000))\n"
   ]
  },
  {
   "cell_type": "code",
   "execution_count": null,
   "id": "pregnant-opportunity",
   "metadata": {},
   "outputs": [],
   "source": []
  }
 ],
 "metadata": {
  "kernelspec": {
   "display_name": "R",
   "language": "R",
   "name": "ir"
  },
  "language_info": {
   "codemirror_mode": "r",
   "file_extension": ".r",
   "mimetype": "text/x-r-source",
   "name": "R",
   "pygments_lexer": "r",
   "version": "4.0.4"
  }
 },
 "nbformat": 4,
 "nbformat_minor": 5
}
