{
 "cells": [
  {
   "cell_type": "code",
   "execution_count": 1,
   "id": "affiliated-parking",
   "metadata": {},
   "outputs": [
    {
     "name": "stderr",
     "output_type": "stream",
     "text": [
      "-- \u001b[1mAttaching packages\u001b[22m ----------------------------------------------------------- tidyverse 1.3.0 --\n",
      "\n",
      "\u001b[32mv\u001b[39m \u001b[34mggplot2\u001b[39m 3.3.2     \u001b[32mv\u001b[39m \u001b[34mpurrr  \u001b[39m 0.3.4\n",
      "\u001b[32mv\u001b[39m \u001b[34mtibble \u001b[39m 3.0.4     \u001b[32mv\u001b[39m \u001b[34mdplyr  \u001b[39m 1.0.2\n",
      "\u001b[32mv\u001b[39m \u001b[34mtidyr  \u001b[39m 1.1.2     \u001b[32mv\u001b[39m \u001b[34mstringr\u001b[39m 1.4.0\n",
      "\u001b[32mv\u001b[39m \u001b[34mreadr  \u001b[39m 1.4.0     \u001b[32mv\u001b[39m \u001b[34mforcats\u001b[39m 0.5.0\n",
      "\n",
      "-- \u001b[1mConflicts\u001b[22m -------------------------------------------------------------- tidyverse_conflicts() --\n",
      "\u001b[31mx\u001b[39m \u001b[34mdplyr\u001b[39m::\u001b[32mfilter()\u001b[39m masks \u001b[34mstats\u001b[39m::filter()\n",
      "\u001b[31mx\u001b[39m \u001b[34mdplyr\u001b[39m::\u001b[32mlag()\u001b[39m    masks \u001b[34mstats\u001b[39m::lag()\n",
      "\n"
     ]
    }
   ],
   "source": [
    "library(tidyverse)\n",
    "library(sloop)"
   ]
  },
  {
   "cell_type": "markdown",
   "id": "surprising-column",
   "metadata": {},
   "source": [
    "# Goals"
   ]
  },
  {
   "cell_type": "markdown",
   "id": "backed-origin",
   "metadata": {},
   "source": [
    "- Why use s3 class?\n",
    "- What is a S3 class?\n",
    "- What is a **generic**?\n",
    "- What is a **method**?\n",
    "- What is **method dispatch**?\n",
    "- How you can make an object be an instance of a class?"
   ]
  },
  {
   "cell_type": "markdown",
   "id": "little-nancy",
   "metadata": {},
   "source": [
    "# 1. Basics"
   ]
  },
  {
   "cell_type": "markdown",
   "id": "dangerous-mayor",
   "metadata": {},
   "source": [
    "S3 consists of 3 components:\n",
    "- class atribute\n",
    "- generics\n",
    "- methods\n"
   ]
  },
  {
   "cell_type": "markdown",
   "id": "adolescent-london",
   "metadata": {},
   "source": [
    "S3 classes are implemented using attributes. An S3 object is an base type with at least a `class` attribute. For example, a data frame has base type is list and clas is data.frame"
   ]
  },
  {
   "cell_type": "code",
   "execution_count": 61,
   "id": "adapted-blade",
   "metadata": {},
   "outputs": [
    {
     "data": {
      "text/html": [
       "'list'"
      ],
      "text/latex": [
       "'list'"
      ],
      "text/markdown": [
       "'list'"
      ],
      "text/plain": [
       "[1] \"list\""
      ]
     },
     "metadata": {},
     "output_type": "display_data"
    },
    {
     "data": {
      "text/html": [
       "'data.frame'"
      ],
      "text/latex": [
       "'data.frame'"
      ],
      "text/markdown": [
       "'data.frame'"
      ],
      "text/plain": [
       "[1] \"data.frame\""
      ]
     },
     "metadata": {},
     "output_type": "display_data"
    }
   ],
   "source": [
    "typeof(mtcars)\n",
    "class(mtcars)"
   ]
  },
  {
   "cell_type": "markdown",
   "id": "extraordinary-herald",
   "metadata": {},
   "source": [
    "A **generic** is a function that behaves differently for different class. For example, `print` function is a **generic**"
   ]
  },
  {
   "cell_type": "markdown",
   "id": "nervous-atlantic",
   "metadata": {},
   "source": [
    "> To check if a function is **generic**, use `sloop::ftype` and look for generics. Or you can read the source and check if that functions has **`UseMethod`**"
   ]
  },
  {
   "cell_type": "code",
   "execution_count": 62,
   "id": "effective-polymer",
   "metadata": {},
   "outputs": [
    {
     "data": {
      "text/html": [
       "<style>\n",
       ".list-inline {list-style: none; margin:0; padding: 0}\n",
       ".list-inline>li {display: inline-block}\n",
       ".list-inline>li:not(:last-child)::after {content: \"\\00b7\"; padding: 0 .5ex}\n",
       "</style>\n",
       "<ol class=list-inline><li>'S3'</li><li>'generic'</li></ol>\n"
      ],
      "text/latex": [
       "\\begin{enumerate*}\n",
       "\\item 'S3'\n",
       "\\item 'generic'\n",
       "\\end{enumerate*}\n"
      ],
      "text/markdown": [
       "1. 'S3'\n",
       "2. 'generic'\n",
       "\n",
       "\n"
      ],
      "text/plain": [
       "[1] \"S3\"      \"generic\""
      ]
     },
     "metadata": {},
     "output_type": "display_data"
    }
   ],
   "source": [
    "# print is a generic\n",
    "sloop::ftype(print)"
   ]
  },
  {
   "cell_type": "code",
   "execution_count": 63,
   "id": "stable-proceeding",
   "metadata": {},
   "outputs": [
    {
     "data": {
      "text/html": [
       "<pre class=language-r><code>function (x, ...) \n",
       "UseMethod(\"print\")</code></pre>"
      ],
      "text/latex": [
       "\\begin{minted}{r}\n",
       "function (x, ...) \n",
       "UseMethod(\"print\")\n",
       "\\end{minted}"
      ],
      "text/markdown": [
       "```r\n",
       "function (x, ...) \n",
       "UseMethod(\"print\")\n",
       "```"
      ],
      "text/plain": [
       "function (x, ...) \n",
       "UseMethod(\"print\")\n",
       "<bytecode: 0x5563d9025bd0>\n",
       "<environment: namespace:base>"
      ]
     },
     "metadata": {},
     "output_type": "display_data"
    }
   ],
   "source": [
    "# source code\n",
    "print"
   ]
  },
  {
   "cell_type": "markdown",
   "id": "immediate-jaguar",
   "metadata": {},
   "source": [
    "A **method** is a specific function implementation for a S3 class. A **generic** find a **method** by using **method dispatch**"
   ]
  },
  {
   "cell_type": "code",
   "execution_count": 12,
   "id": "designed-pharmacology",
   "metadata": {},
   "outputs": [
    {
     "data": {
      "text/html": [
       "<style>\n",
       ".list-inline {list-style: none; margin:0; padding: 0}\n",
       ".list-inline>li {display: inline-block}\n",
       ".list-inline>li:not(:last-child)::after {content: \"\\00b7\"; padding: 0 .5ex}\n",
       "</style>\n",
       "<ol class=list-inline><li>'S3'</li><li>'method'</li></ol>\n"
      ],
      "text/latex": [
       "\\begin{enumerate*}\n",
       "\\item 'S3'\n",
       "\\item 'method'\n",
       "\\end{enumerate*}\n"
      ],
      "text/markdown": [
       "1. 'S3'\n",
       "2. 'method'\n",
       "\n",
       "\n"
      ],
      "text/plain": [
       "[1] \"S3\"     \"method\""
      ]
     },
     "metadata": {},
     "output_type": "display_data"
    }
   ],
   "source": [
    "# this is not a generic, but a method\n",
    "sloop::ftype(print.data.frame)"
   ]
  },
  {
   "cell_type": "code",
   "execution_count": 14,
   "id": "minute-luxury",
   "metadata": {},
   "outputs": [
    {
     "data": {
      "text/plain": [
       "=> print.data.frame\n",
       " * print.default"
      ]
     },
     "metadata": {},
     "output_type": "display_data"
    }
   ],
   "source": [
    "# method dispatch for mtcars (a data.frame object)\n",
    "sloop::s3_dispatch(print(mtcars))"
   ]
  },
  {
   "cell_type": "markdown",
   "id": "eligible-processing",
   "metadata": {},
   "source": [
    "If a generic does not have a method for a specific class, it will use **`generic.default`**"
   ]
  },
  {
   "cell_type": "code",
   "execution_count": 67,
   "id": "dangerous-summary",
   "metadata": {},
   "outputs": [
    {
     "name": "stdout",
     "output_type": "stream",
     "text": [
      " [1]  1  2  3  4  5  6  7  8  9 10\n",
      "attr(,\"class\")\n",
      "[1] \"grade\"\n"
     ]
    }
   ],
   "source": [
    "my_instance <- structure(1:10, class = 'grade')\n",
    "\n",
    "print(my_instance)"
   ]
  },
  {
   "cell_type": "code",
   "execution_count": 68,
   "id": "essential-treat",
   "metadata": {},
   "outputs": [
    {
     "name": "stdout",
     "output_type": "stream",
     "text": [
      " [1]  1  2  3  4  5  6  7  8  9 10\n",
      "attr(,\"class\")\n",
      "[1] \"grade\"\n"
     ]
    }
   ],
   "source": [
    "# equivalent\n",
    "print.default(my_instance)"
   ]
  },
  {
   "cell_type": "markdown",
   "id": "residential-paintball",
   "metadata": {},
   "source": [
    "# 2. Classes"
   ]
  },
  {
   "cell_type": "markdown",
   "id": "collaborative-empire",
   "metadata": {},
   "source": [
    ">To make an object be an instance of a class, just assign the class attribute to it"
   ]
  },
  {
   "cell_type": "code",
   "execution_count": 66,
   "id": "french-martin",
   "metadata": {},
   "outputs": [],
   "source": [
    "tanks <- c('T14 Armata', 'MZ 51', 'Challenger')"
   ]
  },
  {
   "cell_type": "code",
   "execution_count": 19,
   "id": "australian-alabama",
   "metadata": {},
   "outputs": [
    {
     "data": {
      "text/plain": [
       "[1] \"T14 Armata\" \"MZ 51\"      \"Challenger\"\n",
       "attr(,\"class\")\n",
       "[1] \"tanks\""
      ]
     },
     "metadata": {},
     "output_type": "display_data"
    }
   ],
   "source": [
    "# using structure\n",
    "structure(tanks, class = 'tanks')"
   ]
  },
  {
   "cell_type": "code",
   "execution_count": 20,
   "id": "eligible-electronics",
   "metadata": {},
   "outputs": [
    {
     "data": {
      "text/plain": [
       "[1] \"T14 Armata\" \"MZ 51\"      \"Challenger\"\n",
       "attr(,\"class\")\n",
       "[1] \"tanks\""
      ]
     },
     "metadata": {},
     "output_type": "display_data"
    }
   ],
   "source": [
    "# or modify in-place\n",
    "class(tanks) <- 'tanks'\n",
    "tanks"
   ]
  },
  {
   "cell_type": "markdown",
   "id": "colonial-concrete",
   "metadata": {},
   "source": [
    ">Determine the class of a S3 object:"
   ]
  },
  {
   "cell_type": "code",
   "execution_count": 21,
   "id": "exterior-egyptian",
   "metadata": {},
   "outputs": [
    {
     "data": {
      "text/html": [
       "'tanks'"
      ],
      "text/latex": [
       "'tanks'"
      ],
      "text/markdown": [
       "'tanks'"
      ],
      "text/plain": [
       "[1] \"tanks\""
      ]
     },
     "metadata": {},
     "output_type": "display_data"
    }
   ],
   "source": [
    "class(tanks)"
   ]
  },
  {
   "cell_type": "markdown",
   "id": "rapid-singing",
   "metadata": {},
   "source": [
    ">Check if an object is an instance of a class"
   ]
  },
  {
   "cell_type": "code",
   "execution_count": 22,
   "id": "frozen-yukon",
   "metadata": {},
   "outputs": [
    {
     "data": {
      "text/html": [
       "TRUE"
      ],
      "text/latex": [
       "TRUE"
      ],
      "text/markdown": [
       "TRUE"
      ],
      "text/plain": [
       "[1] TRUE"
      ]
     },
     "metadata": {},
     "output_type": "display_data"
    }
   ],
   "source": [
    "inherits(tanks, 'tanks')"
   ]
  },
  {
   "cell_type": "markdown",
   "id": "broad-mills",
   "metadata": {},
   "source": [
    "---\n",
    "I recommend that you usually provide three functions:\n",
    "- A **constructor** that has the form `new_myclass`,  that efficiently creates new objects with the correct structure.\n",
    "- A **validator** that has the form `validate_myclass`, that performs more computationally expensive checks to ensure that the object has correct values.\n",
    "- A **helper** that hass the form `myclass`, that provides a convenient way for others to create objects of your class."
   ]
  },
  {
   "cell_type": "markdown",
   "id": "allied-borough",
   "metadata": {},
   "source": [
    "> Build a polynomial class having positive coefficients"
   ]
  },
  {
   "cell_type": "code",
   "execution_count": 27,
   "id": "checked-camera",
   "metadata": {},
   "outputs": [],
   "source": [
    "# constructor a poly\n",
    "new_polynomial <- function(x = double()) {\n",
    "    # all coefficients must be a number\n",
    "    stopifnot(is.double(x))\n",
    "    structure(x, class = 'polynomial')\n",
    "}"
   ]
  },
  {
   "cell_type": "code",
   "execution_count": 38,
   "id": "awful-jacob",
   "metadata": {},
   "outputs": [],
   "source": [
    "# validator\n",
    "validate_polynomial <- function(poly) {\n",
    "    # check if coefficients are positive\n",
    "    coefficients <- unclass(poly)\n",
    "    if(any(coefficients <= 0))\n",
    "        stop(\"`x` must be positive\", call. = FALSE)\n",
    "    poly\n",
    "}"
   ]
  },
  {
   "cell_type": "code",
   "execution_count": 39,
   "id": "published-entrepreneur",
   "metadata": {},
   "outputs": [],
   "source": [
    "# helper\n",
    "polynomial <- function(x) {\n",
    "    validate_polynomial(new_polynomial(x))\n",
    "}"
   ]
  },
  {
   "cell_type": "code",
   "execution_count": 44,
   "id": "cutting-coordinator",
   "metadata": {},
   "outputs": [],
   "source": [
    "# method for class polynomial from generic print\n",
    "print.polynomial <- function(poly) {\n",
    "    coefs <- unclass(poly)\n",
    "    nums <- length(coefs)\n",
    "    pow <- 1:nums\n",
    "    x <- str_c('x^', nums - pow)\n",
    "    str_c(coefs, x, sep = '*', collapse = '+')\n",
    "    \n",
    "}"
   ]
  },
  {
   "cell_type": "code",
   "execution_count": 45,
   "id": "resistant-toilet",
   "metadata": {},
   "outputs": [
    {
     "data": {
      "text/html": [
       "'3*x^2+5*x^1+1*x^0'"
      ],
      "text/latex": [
       "'3*x\\textasciicircum{}2+5*x\\textasciicircum{}1+1*x\\textasciicircum{}0'"
      ],
      "text/markdown": [
       "'3*x^2+5*x^1+1*x^0'"
      ],
      "text/plain": [
       "[1] \"3*x^2+5*x^1+1*x^0\""
      ]
     },
     "metadata": {},
     "output_type": "display_data"
    }
   ],
   "source": [
    "equation <- polynomial(c(3, 5, 1))\n",
    "\n",
    "print(equation)"
   ]
  },
  {
   "cell_type": "code",
   "execution_count": 46,
   "id": "restricted-coral",
   "metadata": {},
   "outputs": [
    {
     "name": "stdout",
     "output_type": "stream",
     "text": [
      "Error : `x` must be positive\n"
     ]
    }
   ],
   "source": [
    "# invalid argument\n",
    "try(polynomial(c(-5, 2, 8)))"
   ]
  },
  {
   "cell_type": "markdown",
   "id": "adopted-calibration",
   "metadata": {},
   "source": [
    "# 3.Generics and methods"
   ]
  },
  {
   "cell_type": "markdown",
   "id": "designed-presence",
   "metadata": {},
   "source": [
    "The job of an S3 generic is to perform method dispatch, i.e. find the specific implementation for a class. Method dispatch is performed by **`UseMethod()`**, which every generic calls. **`UseMethod()`** takes two arguments: the name of the generic function (required), and the argument to use for method dispatch (optional). If you omit the second argument, it will dispatch based on the first argument, which is almost always what is desired."
   ]
  },
  {
   "cell_type": "code",
   "execution_count": 49,
   "id": "continuous-southwest",
   "metadata": {},
   "outputs": [
    {
     "data": {
      "text/html": [
       "<pre class=language-r><code>function (x, ...) \n",
       "UseMethod(\"mean\")</code></pre>"
      ],
      "text/latex": [
       "\\begin{minted}{r}\n",
       "function (x, ...) \n",
       "UseMethod(\"mean\")\n",
       "\\end{minted}"
      ],
      "text/markdown": [
       "```r\n",
       "function (x, ...) \n",
       "UseMethod(\"mean\")\n",
       "```"
      ],
      "text/plain": [
       "function (x, ...) \n",
       "UseMethod(\"mean\")\n",
       "<bytecode: 0x5563d702c7b8>\n",
       "<environment: namespace:base>"
      ]
     },
     "metadata": {},
     "output_type": "display_data"
    }
   ],
   "source": [
    "mean"
   ]
  },
  {
   "cell_type": "code",
   "execution_count": 50,
   "id": "authentic-surrey",
   "metadata": {},
   "outputs": [],
   "source": [
    "# create your own generic function\n",
    "my_generic_func <- function(x, ...) {\n",
    "    UseMethod(\"my_generic_func\")\n",
    "}"
   ]
  },
  {
   "cell_type": "markdown",
   "id": "great-reasoning",
   "metadata": {},
   "source": [
    "see methods for a generic"
   ]
  },
  {
   "cell_type": "code",
   "execution_count": 53,
   "id": "classified-activation",
   "metadata": {},
   "outputs": [
    {
     "data": {
      "text/plain": [
       "[1] mean.Date        mean.POSIXct     mean.POSIXlt     mean.default    \n",
       "[5] mean.difftime    mean.quosure*    mean.vctrs_vctr*\n",
       "see '?methods' for accessing help and source code"
      ]
     },
     "metadata": {},
     "output_type": "display_data"
    }
   ],
   "source": [
    "methods('mean')"
   ]
  },
  {
   "cell_type": "code",
   "execution_count": 59,
   "id": "expanded-subject",
   "metadata": {},
   "outputs": [
    {
     "data": {
      "text/html": [
       "<table>\n",
       "<caption>A tibble: 7 × 4</caption>\n",
       "<thead>\n",
       "\t<tr><th scope=col>generic</th><th scope=col>class</th><th scope=col>visible</th><th scope=col>source</th></tr>\n",
       "\t<tr><th scope=col>&lt;chr&gt;</th><th scope=col>&lt;chr&gt;</th><th scope=col>&lt;lgl&gt;</th><th scope=col>&lt;chr&gt;</th></tr>\n",
       "</thead>\n",
       "<tbody>\n",
       "\t<tr><td>mean</td><td>Date      </td><td> TRUE</td><td>base               </td></tr>\n",
       "\t<tr><td>mean</td><td>POSIXct   </td><td> TRUE</td><td>base               </td></tr>\n",
       "\t<tr><td>mean</td><td>POSIXlt   </td><td> TRUE</td><td>base               </td></tr>\n",
       "\t<tr><td>mean</td><td>default   </td><td> TRUE</td><td>base               </td></tr>\n",
       "\t<tr><td>mean</td><td>difftime  </td><td> TRUE</td><td>base               </td></tr>\n",
       "\t<tr><td>mean</td><td>quosure   </td><td>FALSE</td><td>registered S3method</td></tr>\n",
       "\t<tr><td>mean</td><td>vctrs_vctr</td><td>FALSE</td><td>registered S3method</td></tr>\n",
       "</tbody>\n",
       "</table>\n"
      ],
      "text/latex": [
       "A tibble: 7 × 4\n",
       "\\begin{tabular}{llll}\n",
       " generic & class & visible & source\\\\\n",
       " <chr> & <chr> & <lgl> & <chr>\\\\\n",
       "\\hline\n",
       "\t mean & Date       &  TRUE & base               \\\\\n",
       "\t mean & POSIXct    &  TRUE & base               \\\\\n",
       "\t mean & POSIXlt    &  TRUE & base               \\\\\n",
       "\t mean & default    &  TRUE & base               \\\\\n",
       "\t mean & difftime   &  TRUE & base               \\\\\n",
       "\t mean & quosure    & FALSE & registered S3method\\\\\n",
       "\t mean & vctrs\\_vctr & FALSE & registered S3method\\\\\n",
       "\\end{tabular}\n"
      ],
      "text/markdown": [
       "\n",
       "A tibble: 7 × 4\n",
       "\n",
       "| generic &lt;chr&gt; | class &lt;chr&gt; | visible &lt;lgl&gt; | source &lt;chr&gt; |\n",
       "|---|---|---|---|\n",
       "| mean | Date       |  TRUE | base                |\n",
       "| mean | POSIXct    |  TRUE | base                |\n",
       "| mean | POSIXlt    |  TRUE | base                |\n",
       "| mean | default    |  TRUE | base                |\n",
       "| mean | difftime   |  TRUE | base                |\n",
       "| mean | quosure    | FALSE | registered S3method |\n",
       "| mean | vctrs_vctr | FALSE | registered S3method |\n",
       "\n"
      ],
      "text/plain": [
       "  generic class      visible source             \n",
       "1 mean    Date        TRUE   base               \n",
       "2 mean    POSIXct     TRUE   base               \n",
       "3 mean    POSIXlt     TRUE   base               \n",
       "4 mean    default     TRUE   base               \n",
       "5 mean    difftime    TRUE   base               \n",
       "6 mean    quosure    FALSE   registered S3method\n",
       "7 mean    vctrs_vctr FALSE   registered S3method"
      ]
     },
     "metadata": {},
     "output_type": "display_data"
    }
   ],
   "source": [
    "# equivalent\n",
    "sloop::s3_methods_generic('mean')"
   ]
  },
  {
   "cell_type": "markdown",
   "id": "imported-order",
   "metadata": {},
   "source": [
    "See generics for a class"
   ]
  },
  {
   "cell_type": "code",
   "execution_count": 60,
   "id": "reduced-hamilton",
   "metadata": {},
   "outputs": [
    {
     "data": {
      "text/html": [
       "<table>\n",
       "<caption>A tibble: 11 × 4</caption>\n",
       "<thead>\n",
       "\t<tr><th scope=col>generic</th><th scope=col>class</th><th scope=col>visible</th><th scope=col>source</th></tr>\n",
       "\t<tr><th scope=col>&lt;chr&gt;</th><th scope=col>&lt;chr&gt;</th><th scope=col>&lt;lgl&gt;</th><th scope=col>&lt;chr&gt;</th></tr>\n",
       "</thead>\n",
       "<tbody>\n",
       "\t<tr><td>Axis         </td><td>table</td><td>FALSE</td><td>registered S3method</td></tr>\n",
       "\t<tr><td>[            </td><td>table</td><td> TRUE</td><td>base               </td></tr>\n",
       "\t<tr><td>aperm        </td><td>table</td><td> TRUE</td><td>base               </td></tr>\n",
       "\t<tr><td>as.data.frame</td><td>table</td><td> TRUE</td><td>base               </td></tr>\n",
       "\t<tr><td>as_tibble    </td><td>table</td><td>FALSE</td><td>registered S3method</td></tr>\n",
       "\t<tr><td>lines        </td><td>table</td><td>FALSE</td><td>registered S3method</td></tr>\n",
       "\t<tr><td>plot         </td><td>table</td><td>FALSE</td><td>registered S3method</td></tr>\n",
       "\t<tr><td>points       </td><td>table</td><td>FALSE</td><td>registered S3method</td></tr>\n",
       "\t<tr><td>print        </td><td>table</td><td> TRUE</td><td>base               </td></tr>\n",
       "\t<tr><td>summary      </td><td>table</td><td> TRUE</td><td>base               </td></tr>\n",
       "\t<tr><td>tail         </td><td>table</td><td>FALSE</td><td>registered S3method</td></tr>\n",
       "</tbody>\n",
       "</table>\n"
      ],
      "text/latex": [
       "A tibble: 11 × 4\n",
       "\\begin{tabular}{llll}\n",
       " generic & class & visible & source\\\\\n",
       " <chr> & <chr> & <lgl> & <chr>\\\\\n",
       "\\hline\n",
       "\t Axis          & table & FALSE & registered S3method\\\\\n",
       "\t {[}             & table &  TRUE & base               \\\\\n",
       "\t aperm         & table &  TRUE & base               \\\\\n",
       "\t as.data.frame & table &  TRUE & base               \\\\\n",
       "\t as\\_tibble     & table & FALSE & registered S3method\\\\\n",
       "\t lines         & table & FALSE & registered S3method\\\\\n",
       "\t plot          & table & FALSE & registered S3method\\\\\n",
       "\t points        & table & FALSE & registered S3method\\\\\n",
       "\t print         & table &  TRUE & base               \\\\\n",
       "\t summary       & table &  TRUE & base               \\\\\n",
       "\t tail          & table & FALSE & registered S3method\\\\\n",
       "\\end{tabular}\n"
      ],
      "text/markdown": [
       "\n",
       "A tibble: 11 × 4\n",
       "\n",
       "| generic &lt;chr&gt; | class &lt;chr&gt; | visible &lt;lgl&gt; | source &lt;chr&gt; |\n",
       "|---|---|---|---|\n",
       "| Axis          | table | FALSE | registered S3method |\n",
       "| [             | table |  TRUE | base                |\n",
       "| aperm         | table |  TRUE | base                |\n",
       "| as.data.frame | table |  TRUE | base                |\n",
       "| as_tibble     | table | FALSE | registered S3method |\n",
       "| lines         | table | FALSE | registered S3method |\n",
       "| plot          | table | FALSE | registered S3method |\n",
       "| points        | table | FALSE | registered S3method |\n",
       "| print         | table |  TRUE | base                |\n",
       "| summary       | table |  TRUE | base                |\n",
       "| tail          | table | FALSE | registered S3method |\n",
       "\n"
      ],
      "text/plain": [
       "   generic       class visible source             \n",
       "1  Axis          table FALSE   registered S3method\n",
       "2  [             table  TRUE   base               \n",
       "3  aperm         table  TRUE   base               \n",
       "4  as.data.frame table  TRUE   base               \n",
       "5  as_tibble     table FALSE   registered S3method\n",
       "6  lines         table FALSE   registered S3method\n",
       "7  plot          table FALSE   registered S3method\n",
       "8  points        table FALSE   registered S3method\n",
       "9  print         table  TRUE   base               \n",
       "10 summary       table  TRUE   base               \n",
       "11 tail          table FALSE   registered S3method"
      ]
     },
     "metadata": {},
     "output_type": "display_data"
    }
   ],
   "source": [
    "sloop::s3_methods_class('table')"
   ]
  },
  {
   "cell_type": "code",
   "execution_count": 57,
   "id": "saved-glasgow",
   "metadata": {},
   "outputs": [
    {
     "data": {
      "text/plain": [
       " [1] Axis          [             aperm         as.data.frame as_tibble    \n",
       " [6] coerce        initialize    lines         plot          points       \n",
       "[11] print         show          slotsFromS3   summary       tail         \n",
       "see '?methods' for accessing help and source code"
      ]
     },
     "metadata": {},
     "output_type": "display_data"
    }
   ],
   "source": [
    "# equivalent\n",
    "methods(class = 'table')"
   ]
  },
  {
   "cell_type": "markdown",
   "id": "critical-probe",
   "metadata": {},
   "source": [
    "# 4.Inheritance"
   ]
  },
  {
   "cell_type": "markdown",
   "id": "american-absence",
   "metadata": {},
   "source": [
    "3 ideas of Inheritance:\n",
    "- The class can be a character vector"
   ]
  },
  {
   "cell_type": "code",
   "execution_count": 2,
   "id": "bizarre-norway",
   "metadata": {},
   "outputs": [
    {
     "data": {
      "text/html": [
       "<style>\n",
       ".list-inline {list-style: none; margin:0; padding: 0}\n",
       ".list-inline>li {display: inline-block}\n",
       ".list-inline>li:not(:last-child)::after {content: \"\\00b7\"; padding: 0 .5ex}\n",
       "</style>\n",
       "<ol class=list-inline><li>'tbl_df'</li><li>'tbl'</li><li>'data.frame'</li></ol>\n"
      ],
      "text/latex": [
       "\\begin{enumerate*}\n",
       "\\item 'tbl\\_df'\n",
       "\\item 'tbl'\n",
       "\\item 'data.frame'\n",
       "\\end{enumerate*}\n"
      ],
      "text/markdown": [
       "1. 'tbl_df'\n",
       "2. 'tbl'\n",
       "3. 'data.frame'\n",
       "\n",
       "\n"
      ],
      "text/plain": [
       "[1] \"tbl_df\"     \"tbl\"        \"data.frame\""
      ]
     },
     "metadata": {},
     "output_type": "display_data"
    }
   ],
   "source": [
    "class(diamonds)"
   ]
  },
  {
   "cell_type": "code",
   "execution_count": 3,
   "id": "limited-difficulty",
   "metadata": {},
   "outputs": [
    {
     "data": {
      "text/html": [
       "<style>\n",
       ".list-inline {list-style: none; margin:0; padding: 0}\n",
       ".list-inline>li {display: inline-block}\n",
       ".list-inline>li:not(:last-child)::after {content: \"\\00b7\"; padding: 0 .5ex}\n",
       "</style>\n",
       "<ol class=list-inline><li>'ordered'</li><li>'factor'</li></ol>\n"
      ],
      "text/latex": [
       "\\begin{enumerate*}\n",
       "\\item 'ordered'\n",
       "\\item 'factor'\n",
       "\\end{enumerate*}\n"
      ],
      "text/markdown": [
       "1. 'ordered'\n",
       "2. 'factor'\n",
       "\n",
       "\n"
      ],
      "text/plain": [
       "[1] \"ordered\" \"factor\" "
      ]
     },
     "metadata": {},
     "output_type": "display_data"
    }
   ],
   "source": [
    "class(ordered(letters))"
   ]
  },
  {
   "cell_type": "markdown",
   "id": "aquatic-reproduction",
   "metadata": {},
   "source": [
    "`ordered` is a **subclass** of `factor`. `factor` is a **superclass** of `ordered`"
   ]
  },
  {
   "cell_type": "markdown",
   "id": "egyptian-deadline",
   "metadata": {},
   "source": [
    "- If a method is not found for the class of the first element of the vector, it looks for a method in the second class (and so on)"
   ]
  },
  {
   "cell_type": "code",
   "execution_count": 4,
   "id": "central-ordering",
   "metadata": {},
   "outputs": [
    {
     "data": {
      "text/plain": [
       "   \u001b[90mprint.tbl_df\u001b[39m\n",
       "=> print.tbl\n",
       " * print.data.frame\n",
       " * print.default"
      ]
     },
     "metadata": {},
     "output_type": "display_data"
    }
   ],
   "source": [
    "s3_dispatch(print(diamonds))"
   ]
  },
  {
   "cell_type": "markdown",
   "id": "resistant-karen",
   "metadata": {},
   "source": [
    "- A method can delegate work by using **`NextMethod()`**"
   ]
  },
  {
   "cell_type": "code",
   "execution_count": 8,
   "id": "ethical-scholarship",
   "metadata": {},
   "outputs": [
    {
     "data": {
      "text/plain": [
       "=> [.tbl_df\n",
       "   \u001b[90m[.tbl\u001b[39m\n",
       " * [.data.frame\n",
       "   \u001b[90m[.default\u001b[39m\n",
       " * [ (internal)"
      ]
     },
     "metadata": {},
     "output_type": "display_data"
    }
   ],
   "source": [
    "# subsetting still preserve class\n",
    "s3_dispatch(diamonds[, 1:3])"
   ]
  },
  {
   "cell_type": "markdown",
   "id": "informal-bristol",
   "metadata": {},
   "source": [
    "## 4.1 `NextMethod`"
   ]
  },
  {
   "cell_type": "markdown",
   "id": "scenic-difference",
   "metadata": {},
   "source": [
    "Let's create a class that receives a double vector an returns a characters vector"
   ]
  },
  {
   "cell_type": "code",
   "execution_count": 10,
   "id": "skilled-adobe",
   "metadata": {},
   "outputs": [
    {
     "name": "stdout",
     "output_type": "stream",
     "text": [
      "[1] \"xx\"   \"xxxx\" \"xxx\" \n"
     ]
    }
   ],
   "source": [
    "new_repetition <- function(freq = double()) {\n",
    "    stopifnot(is.double(freq))\n",
    "    structure(freq, class = \"repetition\")\n",
    "}\n",
    "\n",
    "print.repetition <- function(freq) {\n",
    "    print(str_dup(\"x\", freq))\n",
    "    invisible(freq)\n",
    "}\n",
    "\n",
    "x <- new_repetition(c(2, 4, 3))\n",
    "\n",
    "print(x)"
   ]
  },
  {
   "cell_type": "markdown",
   "id": "photographic-coalition",
   "metadata": {},
   "source": [
    "We expect `x[1]` returns \"xx\", `x[2]` returns \"xxxx\" and so on ...."
   ]
  },
  {
   "cell_type": "code",
   "execution_count": 12,
   "id": "checked-salad",
   "metadata": {},
   "outputs": [
    {
     "data": {
      "text/html": [
       "2"
      ],
      "text/latex": [
       "2"
      ],
      "text/markdown": [
       "2"
      ],
      "text/plain": [
       "[1] 2"
      ]
     },
     "metadata": {},
     "output_type": "display_data"
    }
   ],
   "source": [
    "x[1]"
   ]
  },
  {
   "cell_type": "code",
   "execution_count": 13,
   "id": "political-storage",
   "metadata": {},
   "outputs": [
    {
     "data": {
      "text/html": [
       "4"
      ],
      "text/latex": [
       "4"
      ],
      "text/markdown": [
       "4"
      ],
      "text/plain": [
       "[1] 4"
      ]
     },
     "metadata": {},
     "output_type": "display_data"
    }
   ],
   "source": [
    "x[2]"
   ]
  },
  {
   "cell_type": "markdown",
   "id": "interior-yacht",
   "metadata": {},
   "source": [
    "Well, it does not work. Subset must return the same class, but in this case, it does not"
   ]
  },
  {
   "cell_type": "code",
   "execution_count": 14,
   "id": "convertible-playing",
   "metadata": {},
   "outputs": [
    {
     "data": {
      "text/html": [
       "'numeric'"
      ],
      "text/latex": [
       "'numeric'"
      ],
      "text/markdown": [
       "'numeric'"
      ],
      "text/plain": [
       "[1] \"numeric\""
      ]
     },
     "metadata": {},
     "output_type": "display_data"
    }
   ],
   "source": [
    "class(x[1])"
   ]
  },
  {
   "cell_type": "markdown",
   "id": "third-mercy",
   "metadata": {},
   "source": [
    "So we have to implement a subsetting function for class `repetition`\n",
    "The below approach won't work because we will have infinite loop\n",
    "\n",
    "```r\n",
    "`[.repetition` <- function(x, i) {\n",
    "    new_repetition(x[i])\n",
    "    # equivalent\n",
    "    # new_repetition(`[.repetition`(x, i))\n",
    "}\n",
    "```"
   ]
  },
  {
   "cell_type": "markdown",
   "id": "posted-change",
   "metadata": {},
   "source": [
    "One approach is to unclass `x`"
   ]
  },
  {
   "cell_type": "code",
   "execution_count": 21,
   "id": "significant-colony",
   "metadata": {},
   "outputs": [
    {
     "name": "stdout",
     "output_type": "stream",
     "text": [
      "[1] \"xx\"\n"
     ]
    },
    {
     "data": {
      "text/html": [
       "'repetition'"
      ],
      "text/latex": [
       "'repetition'"
      ],
      "text/markdown": [
       "'repetition'"
      ],
      "text/plain": [
       "[1] \"repetition\""
      ]
     },
     "metadata": {},
     "output_type": "display_data"
    }
   ],
   "source": [
    "`[.repetition` <- function(x, i) {\n",
    "    x <- unclass(x)\n",
    "    # now x is a numeric class so we won't have infinite loop\n",
    "    new_repetition(x[i])\n",
    "}\n",
    "\n",
    "print(x[1])\n",
    "\n",
    "class(x[1])"
   ]
  },
  {
   "cell_type": "markdown",
   "id": "equivalent-russian",
   "metadata": {},
   "source": [
    "This is exactly what **`NextMethod()`** do. We can think of **`NextMethod()`** will use the subset method `[` of parent class of `x`, which in this case, is a numeric class."
   ]
  },
  {
   "cell_type": "code",
   "execution_count": 22,
   "id": "warming-tourist",
   "metadata": {},
   "outputs": [
    {
     "name": "stdout",
     "output_type": "stream",
     "text": [
      "[1] \"xx\"\n"
     ]
    },
    {
     "data": {
      "text/html": [
       "'repetition'"
      ],
      "text/latex": [
       "'repetition'"
      ],
      "text/markdown": [
       "'repetition'"
      ],
      "text/plain": [
       "[1] \"repetition\""
      ]
     },
     "metadata": {},
     "output_type": "display_data"
    }
   ],
   "source": [
    "`[.repetition` <- function(x, i) {\n",
    "    new_repetition(NextMethod())\n",
    "}\n",
    "\n",
    "print(x[1])\n",
    "\n",
    "class(x[1])"
   ]
  },
  {
   "cell_type": "markdown",
   "id": "authentic-hospital",
   "metadata": {},
   "source": [
    "**`NextMethod()`**\n",
    "doesn’t actually work with the class attribute of the object, but instead uses a special global variable (`.Class`) to keep track of which method to call next."
   ]
  },
  {
   "cell_type": "code",
   "execution_count": 62,
   "id": "aging-grammar",
   "metadata": {},
   "outputs": [
    {
     "name": "stdout",
     "output_type": "stream",
     "text": [
      "[1] \"b\"  \"a2\"\n"
     ]
    },
    {
     "data": {
      "text/html": [
       "'a2'"
      ],
      "text/latex": [
       "'a2'"
      ],
      "text/markdown": [
       "'a2'"
      ],
      "text/plain": [
       "[1] \"a2\""
      ]
     },
     "metadata": {},
     "output_type": "display_data"
    }
   ],
   "source": [
    "generic2 <- function(x) UseMethod(\"generic2\")\n",
    "generic2.a1 <- function(x) \"a1\"\n",
    "generic2.a2 <- function(x) \"a2\"\n",
    "generic2.b <- function(x) {\n",
    "  class(x) <- \"a1\"\n",
    "  print(.Class)\n",
    "  NextMethod()\n",
    "}\n",
    "\n",
    "generic2(structure(list(), class = c(\"b\", \"a2\")))"
   ]
  },
  {
   "cell_type": "markdown",
   "id": "indian-warrant",
   "metadata": {},
   "source": [
    "What is happening here?  \n",
    "We pass an object of class \"b\" and \"a2\" to `generic2()`, which prompts R to look for a method `generic2.b`  \n",
    "Then this function class the class of this object to \"a1\" and calls **`NextMethod()`**, look at the result of `print(.Class)`, we know that `NextMethod()` will call `generic2.a2`, NOT `generic2.a1`"
   ]
  },
  {
   "cell_type": "markdown",
   "id": "brilliant-mitchell",
   "metadata": {},
   "source": [
    "What would have if we remove the line `class(x) <- \"a1\"?"
   ]
  },
  {
   "cell_type": "code",
   "execution_count": 63,
   "id": "legendary-innocent",
   "metadata": {},
   "outputs": [
    {
     "name": "stdout",
     "output_type": "stream",
     "text": [
      "[1] \"b\"  \"a2\"\n"
     ]
    },
    {
     "data": {
      "text/html": [
       "'a2'"
      ],
      "text/latex": [
       "'a2'"
      ],
      "text/markdown": [
       "'a2'"
      ],
      "text/plain": [
       "[1] \"a2\""
      ]
     },
     "metadata": {},
     "output_type": "display_data"
    }
   ],
   "source": [
    "generic2 <- function(x) UseMethod(\"generic2\")\n",
    "generic2.a1 <- function(x) \"a1\"\n",
    "generic2.a2 <- function(x) \"a2\"\n",
    "generic2.b <- function(x) {\n",
    "  print(.Class)\n",
    "  NextMethod()\n",
    "}\n",
    "\n",
    "generic2(structure(list(), class = c(\"b\", \"a2\")))"
   ]
  },
  {
   "cell_type": "markdown",
   "id": "selective-exemption",
   "metadata": {},
   "source": [
    "Nothing change. So we can confirm that **`NextMethod`** does not work with the attribute `class` of an object. It means it does not care about the value of the `class` attribute of that object. It use a special global variable `.Class` to keep track of what method should be called next. In this case, no matter what value you change to `class` attribute to, NextMethod() will always find next method in the order \"b\", \"a2\" for the above implementation"
   ]
  },
  {
   "cell_type": "markdown",
   "id": "premier-acoustic",
   "metadata": {},
   "source": [
    "## 4.2 Allowing subclassing"
   ]
  },
  {
   "cell_type": "markdown",
   "id": "advised-material",
   "metadata": {},
   "source": [
    "Let's create a class that inherits from class `secret`. To allow subclasses, the parent constructor needs to have `...` and `class` arguments:"
   ]
  },
  {
   "cell_type": "code",
   "execution_count": 44,
   "id": "boxed-curve",
   "metadata": {},
   "outputs": [
    {
     "name": "stdout",
     "output_type": "stream",
     "text": [
      "[1] \"xXxxXxxXxxXx\" \"xXxxXx\"       \"xXxxXxxXx\"   \n"
     ]
    }
   ],
   "source": [
    "# redefine the constructor for `repetition` class\n",
    "new_repetition <- function(x, ..., class = character()) {\n",
    "    stopifnot(is.double(x))\n",
    "    structure(x, ..., class = c(class, 'repetition'))\n",
    "}\n",
    "# methods of class `repetition`\n",
    "print.repetition <- function(x) {\n",
    "    print(str_dup(\"x\", x))\n",
    "}\n",
    "`[.repetition` <- function(x, ...) {\n",
    "    # use ... to allow subset 1 element or slice, ... etc\n",
    "    new_repetition(NextMethod())\n",
    "}\n",
    "# constructor for subclass `complexrep` inherits from `repetition`\n",
    "new_complexrep <- function(x) {\n",
    "    new_repetition(x, class = 'complexrep')\n",
    "}\n",
    "# overwrite the print method of parent class `repetition`\n",
    "print.complexrep <- function(x) {\n",
    "    print(str_dup('xXx', x))\n",
    "    invisible(x)\n",
    "}\n",
    "\n",
    "y <- new_complexrep(c(4, 2, 3))\n",
    "\n",
    "print(y)"
   ]
  },
  {
   "cell_type": "code",
   "execution_count": 45,
   "id": "unique-google",
   "metadata": {},
   "outputs": [
    {
     "data": {
      "text/plain": [
       "=> print.complexrep\n",
       " * print.repetition\n",
       " * print.default"
      ]
     },
     "metadata": {},
     "output_type": "display_data"
    }
   ],
   "source": [
    "s3_dispatch(print(y))"
   ]
  },
  {
   "cell_type": "markdown",
   "id": "varying-workplace",
   "metadata": {},
   "source": [
    "Because `complexrep` inherits from `repetition`, so it will have to subset method of `repetition`"
   ]
  },
  {
   "cell_type": "code",
   "execution_count": 46,
   "id": "greater-hotel",
   "metadata": {},
   "outputs": [
    {
     "data": {
      "text/plain": [
       "   \u001b[90m[.complexrep\u001b[39m\n",
       "=> [.repetition\n",
       "   \u001b[90m[.default\u001b[39m\n",
       "-> [ (internal)"
      ]
     },
     "metadata": {},
     "output_type": "display_data"
    }
   ],
   "source": [
    "s3_dispatch(y[1])"
   ]
  },
  {
   "cell_type": "markdown",
   "id": "accredited-killer",
   "metadata": {},
   "source": [
    "```r\n",
    "`[.repetition` <- function(x, i) {\n",
    "    new_repetition(NextMethod())\n",
    "}\n",
    "```"
   ]
  },
  {
   "cell_type": "code",
   "execution_count": 47,
   "id": "reserved-camera",
   "metadata": {},
   "outputs": [
    {
     "data": {
      "text/plain": [
       "[1] \"xxxx\""
      ]
     },
     "metadata": {},
     "output_type": "display_data"
    },
    {
     "data": {
      "text/html": [
       "'repetition'"
      ],
      "text/latex": [
       "'repetition'"
      ],
      "text/markdown": [
       "'repetition'"
      ],
      "text/plain": [
       "[1] \"repetition\""
      ]
     },
     "metadata": {},
     "output_type": "display_data"
    }
   ],
   "source": [
    "# using `[.pepetition`, a method of parent class\n",
    "y[1]\n",
    "class(y[1])"
   ]
  },
  {
   "cell_type": "markdown",
   "id": "immediate-effects",
   "metadata": {},
   "source": [
    "we want `[.repetition` return the same class of `x`, even if `x` is a subclass"
   ]
  },
  {
   "cell_type": "markdown",
   "id": "accomplished-disney",
   "metadata": {},
   "source": [
    "> solution: Can't be solved by using base R. Use **`vctrs::vec_restore()`**"
   ]
  },
  {
   "cell_type": "markdown",
   "id": "competent-spouse",
   "metadata": {},
   "source": [
    "Typically **`vec_restore()`** methods are quite simple: you just call the constructor with appropriate arguments:"
   ]
  },
  {
   "cell_type": "code",
   "execution_count": 49,
   "id": "wicked-ireland",
   "metadata": {},
   "outputs": [],
   "source": [
    "vec_restore.repetition <- function(x, ...) new_repetition(x)\n",
    "vec_restore.complexrep <- function(x, ...) new_complexrep(x)"
   ]
  },
  {
   "cell_type": "markdown",
   "id": "raised-knitting",
   "metadata": {},
   "source": [
    "now use **`vec_restore`** in `[.repetition` method:"
   ]
  },
  {
   "cell_type": "code",
   "execution_count": 56,
   "id": "flush-porcelain",
   "metadata": {},
   "outputs": [],
   "source": [
    "`[.repetition` <- function(x, ...) {\n",
    "    # This must return a new instance that having the same class(es) of `x`\n",
    "    vctrs::vec_restore(NextMethod(), x)\n",
    "}"
   ]
  },
  {
   "cell_type": "code",
   "execution_count": 57,
   "id": "veterinary-cancellation",
   "metadata": {},
   "outputs": [
    {
     "data": {
      "text/plain": [
       "[1] \"xx\"   \"xxxx\""
      ]
     },
     "metadata": {},
     "output_type": "display_data"
    },
    {
     "data": {
      "text/html": [
       "'repetition'"
      ],
      "text/latex": [
       "'repetition'"
      ],
      "text/markdown": [
       "'repetition'"
      ],
      "text/plain": [
       "[1] \"repetition\""
      ]
     },
     "metadata": {},
     "output_type": "display_data"
    }
   ],
   "source": [
    "x[1:2]\n",
    "class(x[1:2])"
   ]
  },
  {
   "cell_type": "code",
   "execution_count": 58,
   "id": "thick-eligibility",
   "metadata": {},
   "outputs": [
    {
     "data": {
      "text/plain": [
       "[1] \"xXxxXxxXxxXx\" \"xXxxXx\"      "
      ]
     },
     "metadata": {},
     "output_type": "display_data"
    },
    {
     "data": {
      "text/html": [
       "<style>\n",
       ".list-inline {list-style: none; margin:0; padding: 0}\n",
       ".list-inline>li {display: inline-block}\n",
       ".list-inline>li:not(:last-child)::after {content: \"\\00b7\"; padding: 0 .5ex}\n",
       "</style>\n",
       "<ol class=list-inline><li>'complexrep'</li><li>'repetition'</li></ol>\n"
      ],
      "text/latex": [
       "\\begin{enumerate*}\n",
       "\\item 'complexrep'\n",
       "\\item 'repetition'\n",
       "\\end{enumerate*}\n"
      ],
      "text/markdown": [
       "1. 'complexrep'\n",
       "2. 'repetition'\n",
       "\n",
       "\n"
      ],
      "text/plain": [
       "[1] \"complexrep\" \"repetition\""
      ]
     },
     "metadata": {},
     "output_type": "display_data"
    }
   ],
   "source": [
    "# classes of y is preserved now\n",
    "y[1:2]\n",
    "class(y[1:2])"
   ]
  },
  {
   "cell_type": "markdown",
   "id": "applicable-leather",
   "metadata": {},
   "source": [
    "# 5. Dispatch details"
   ]
  },
  {
   "cell_type": "markdown",
   "id": "useful-channel",
   "metadata": {},
   "source": [
    "## 5.1. S3 vs base type"
   ]
  },
  {
   "cell_type": "markdown",
   "id": "imperial-relation",
   "metadata": {},
   "source": [
    "What happens when you call an S3 generic with a base object, i.e. an object with no class:"
   ]
  },
  {
   "cell_type": "code",
   "execution_count": 64,
   "id": "patient-honduras",
   "metadata": {},
   "outputs": [
    {
     "data": {
      "text/plain": [
       "NULL"
      ]
     },
     "metadata": {},
     "output_type": "display_data"
    }
   ],
   "source": [
    "v <- matrix(1:5)\n",
    "\n",
    "attr(v, 'class')"
   ]
  },
  {
   "cell_type": "markdown",
   "id": "completed-prospect",
   "metadata": {},
   "source": [
    "Note that `class(v)` does not equivalent `attr(v, \"class\")`"
   ]
  },
  {
   "cell_type": "code",
   "execution_count": 67,
   "id": "documentary-elephant",
   "metadata": {},
   "outputs": [
    {
     "data": {
      "text/html": [
       "<style>\n",
       ".list-inline {list-style: none; margin:0; padding: 0}\n",
       ".list-inline>li {display: inline-block}\n",
       ".list-inline>li:not(:last-child)::after {content: \"\\00b7\"; padding: 0 .5ex}\n",
       "</style>\n",
       "<ol class=list-inline><li>'matrix'</li><li>'array'</li></ol>\n"
      ],
      "text/latex": [
       "\\begin{enumerate*}\n",
       "\\item 'matrix'\n",
       "\\item 'array'\n",
       "\\end{enumerate*}\n"
      ],
      "text/markdown": [
       "1. 'matrix'\n",
       "2. 'array'\n",
       "\n",
       "\n"
      ],
      "text/plain": [
       "[1] \"matrix\" \"array\" "
      ]
     },
     "metadata": {},
     "output_type": "display_data"
    }
   ],
   "source": [
    "class(v)"
   ]
  },
  {
   "cell_type": "markdown",
   "id": "another-experiment",
   "metadata": {},
   "source": [
    "dispatch occurs on **implicit class**, there is no base function that will compute the implicit class, but we can use **`sloop::s3_class()`**"
   ]
  },
  {
   "cell_type": "code",
   "execution_count": 65,
   "id": "interim-iraqi",
   "metadata": {},
   "outputs": [
    {
     "data": {
      "text/html": [
       "<style>\n",
       ".list-inline {list-style: none; margin:0; padding: 0}\n",
       ".list-inline>li {display: inline-block}\n",
       ".list-inline>li:not(:last-child)::after {content: \"\\00b7\"; padding: 0 .5ex}\n",
       "</style>\n",
       "<ol class=list-inline><li>'matrix'</li><li>'integer'</li><li>'numeric'</li></ol>\n"
      ],
      "text/latex": [
       "\\begin{enumerate*}\n",
       "\\item 'matrix'\n",
       "\\item 'integer'\n",
       "\\item 'numeric'\n",
       "\\end{enumerate*}\n"
      ],
      "text/markdown": [
       "1. 'matrix'\n",
       "2. 'integer'\n",
       "3. 'numeric'\n",
       "\n",
       "\n"
      ],
      "text/plain": [
       "[1] \"matrix\"  \"integer\" \"numeric\""
      ]
     },
     "metadata": {},
     "output_type": "display_data"
    }
   ],
   "source": [
    "s3_class(v)"
   ]
  },
  {
   "cell_type": "code",
   "execution_count": 66,
   "id": "geographic-choice",
   "metadata": {},
   "outputs": [
    {
     "data": {
      "text/plain": [
       "   \u001b[90mprint.matrix\u001b[39m\n",
       "   \u001b[90mprint.integer\u001b[39m\n",
       "   \u001b[90mprint.numeric\u001b[39m\n",
       "=> print.default"
      ]
     },
     "metadata": {},
     "output_type": "display_data"
    }
   ],
   "source": [
    "s3_dispatch(print(v))"
   ]
  },
  {
   "cell_type": "markdown",
   "id": "incorporated-underwear",
   "metadata": {},
   "source": [
    "This means that the **`class()`** of an object does not uniquely determine its dispatched  \n",
    "As far as I understand, It is determined by `attr(obj, \"class\")`, and if this is null, it is determined by the **implicit class**"
   ]
  },
  {
   "cell_type": "code",
   "execution_count": 70,
   "id": "atomic-grove",
   "metadata": {},
   "outputs": [
    {
     "data": {
      "text/plain": [
       "NULL"
      ]
     },
     "metadata": {},
     "output_type": "display_data"
    },
    {
     "data": {
      "text/html": [
       "<style>\n",
       ".list-inline {list-style: none; margin:0; padding: 0}\n",
       ".list-inline>li {display: inline-block}\n",
       ".list-inline>li:not(:last-child)::after {content: \"\\00b7\"; padding: 0 .5ex}\n",
       "</style>\n",
       "<ol class=list-inline><li>'integer'</li><li>'numeric'</li></ol>\n"
      ],
      "text/latex": [
       "\\begin{enumerate*}\n",
       "\\item 'integer'\n",
       "\\item 'numeric'\n",
       "\\end{enumerate*}\n"
      ],
      "text/markdown": [
       "1. 'integer'\n",
       "2. 'numeric'\n",
       "\n",
       "\n"
      ],
      "text/plain": [
       "[1] \"integer\" \"numeric\""
      ]
     },
     "metadata": {},
     "output_type": "display_data"
    },
    {
     "data": {
      "text/plain": [
       "   \u001b[90mprint.integer\u001b[39m\n",
       "   \u001b[90mprint.numeric\u001b[39m\n",
       "=> print.default"
      ]
     },
     "metadata": {},
     "output_type": "display_data"
    }
   ],
   "source": [
    "vals <- 1:3\n",
    "attr(vals, 'class')\n",
    "s3_class(vals)\n",
    "s3_dispatch(print(vals))"
   ]
  },
  {
   "cell_type": "code",
   "execution_count": 72,
   "id": "australian-switch",
   "metadata": {},
   "outputs": [
    {
     "data": {
      "text/html": [
       "'integer'"
      ],
      "text/latex": [
       "'integer'"
      ],
      "text/markdown": [
       "'integer'"
      ],
      "text/plain": [
       "[1] \"integer\""
      ]
     },
     "metadata": {},
     "output_type": "display_data"
    },
    {
     "data": {
      "text/html": [
       "'integer'"
      ],
      "text/latex": [
       "'integer'"
      ],
      "text/markdown": [
       "'integer'"
      ],
      "text/plain": [
       "[1] \"integer\""
      ]
     },
     "metadata": {},
     "output_type": "display_data"
    },
    {
     "data": {
      "text/plain": [
       "   \u001b[90mprint.integer\u001b[39m\n",
       "=> print.default"
      ]
     },
     "metadata": {},
     "output_type": "display_data"
    }
   ],
   "source": [
    "vals_2 <- structure(vals, class = 'integer')\n",
    "attr(vals_2, \"class\")\n",
    "s3_class(vals_2)\n",
    "s3_dispatch(print(vals_2))"
   ]
  },
  {
   "cell_type": "code",
   "execution_count": null,
   "id": "advisory-teacher",
   "metadata": {},
   "outputs": [],
   "source": []
  }
 ],
 "metadata": {
  "kernelspec": {
   "display_name": "R",
   "language": "R",
   "name": "ir"
  },
  "language_info": {
   "codemirror_mode": "r",
   "file_extension": ".r",
   "mimetype": "text/x-r-source",
   "name": "R",
   "pygments_lexer": "r",
   "version": "4.0.4"
  }
 },
 "nbformat": 4,
 "nbformat_minor": 5
}
