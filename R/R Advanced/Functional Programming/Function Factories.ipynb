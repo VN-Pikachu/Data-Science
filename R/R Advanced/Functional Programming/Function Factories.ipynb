{
 "cells": [
  {
   "cell_type": "markdown",
   "id": "integrated-equipment",
   "metadata": {},
   "source": [
    "**Reference**: <https://adv-r.hadley.nz/function-factories.html>"
   ]
  },
  {
   "cell_type": "code",
   "execution_count": 18,
   "id": "spatial-august",
   "metadata": {},
   "outputs": [],
   "source": [
    "library(rlang)\n",
    "library(tidyverse)\n",
    "library(scales)"
   ]
  },
  {
   "cell_type": "markdown",
   "id": "unable-national",
   "metadata": {},
   "source": [
    "# What is Function Factories"
   ]
  },
  {
   "cell_type": "markdown",
   "id": "bigger-commercial",
   "metadata": {},
   "source": [
    "A function factory is a function that return another function, the returned funcion is called manufactured function. A function factory is a function that makes function."
   ]
  },
  {
   "cell_type": "code",
   "execution_count": 2,
   "id": "suited-general",
   "metadata": {},
   "outputs": [
    {
     "data": {
      "text/html": [
       "25"
      ],
      "text/latex": [
       "25"
      ],
      "text/markdown": [
       "25"
      ],
      "text/plain": [
       "[1] 25"
      ]
     },
     "metadata": {},
     "output_type": "display_data"
    }
   ],
   "source": [
    "power <- function(exp) {\n",
    "    function(x)\n",
    "        x ^ exp\n",
    "}\n",
    "\n",
    "power_to_2 <- power(2)\n",
    "power_to_3 <- power(3)\n",
    "\n",
    "\n",
    "power_to_2(5)"
   ]
  },
  {
   "cell_type": "markdown",
   "id": "complete-tribute",
   "metadata": {},
   "source": [
    "# The Problem with Lazy evaluation"
   ]
  },
  {
   "cell_type": "code",
   "execution_count": 3,
   "id": "detailed-expense",
   "metadata": {},
   "outputs": [
    {
     "data": {
      "text/html": [
       "125"
      ],
      "text/latex": [
       "125"
      ],
      "text/markdown": [
       "125"
      ],
      "text/plain": [
       "[1] 125"
      ]
     },
     "metadata": {},
     "output_type": "display_data"
    }
   ],
   "source": [
    "n <- 2\n",
    "power_to_2 <- power(n)\n",
    "n <- 3\n",
    "\n",
    "power_to_2(5) # expect equal to 5 ^ 2, but turns out it is 5 ^ 3"
   ]
  },
  {
   "cell_type": "markdown",
   "id": "collectible-bronze",
   "metadata": {},
   "source": [
    "when we call `power_to_2 <- power(n)`, `exp` is lazy evaluated to the value `n`. It means that when it get evaluated, it will be equal to the value of `n` at the time it is evaluated. But in the function call of `power`, `exp` never get evaluated, so currently, `exp` does not equal to 2, even though currently, `n = 2` . Now we change `n <- 3`. Then when we call `power_to_2(5)`, which executes `x^exp`, now `exp` is evaluated, so `exp` will evaluate to the value of `n` at the evaluation time, which is 3, so the result is `5^3`"
   ]
  },
  {
   "cell_type": "markdown",
   "id": "approved-effects",
   "metadata": {},
   "source": [
    "Solve this with **`force()`**"
   ]
  },
  {
   "cell_type": "code",
   "execution_count": 9,
   "id": "spread-license",
   "metadata": {},
   "outputs": [
    {
     "data": {
      "text/html": [
       "25"
      ],
      "text/latex": [
       "25"
      ],
      "text/markdown": [
       "25"
      ],
      "text/plain": [
       "[1] 25"
      ]
     },
     "metadata": {},
     "output_type": "display_data"
    }
   ],
   "source": [
    "power <- function(exp) {\n",
    "    # this time, whenever a manfactured is created \n",
    "    # if we pass a variable to the argument\n",
    "    # it will be evaluated immediately\n",
    "    force(exp)\n",
    "    function(x)\n",
    "        x ^ exp\n",
    "}\n",
    "n <- 2\n",
    "power_to_2 <- power(n)\n",
    "# pass `n` to function `power`, so `exp` will lazily evaluate to the value of `n`\n",
    "# but inside the function call of `power`\n",
    "# we force `exp` to evaluate, not lazy, so `exp` will be assigned to the current value of `n` is 2\n",
    "n <- 3\n",
    "# change the value of `n` will not matter now becaused `exp` had been evaluated\n",
    "\n",
    "power_to_2(5)"
   ]
  },
  {
   "cell_type": "markdown",
   "id": "outstanding-murray",
   "metadata": {},
   "source": [
    "> Exercise: Create a function `pick()` that takes an index, `i`, as an argument and returns a function with an argument `x` that subsets `x` with `i`."
   ]
  },
  {
   "cell_type": "code",
   "execution_count": 10,
   "id": "physical-humidity",
   "metadata": {},
   "outputs": [
    {
     "data": {
      "text/html": [
       "7"
      ],
      "text/latex": [
       "7"
      ],
      "text/markdown": [
       "7"
      ],
      "text/plain": [
       "[1] 7"
      ]
     },
     "metadata": {},
     "output_type": "display_data"
    }
   ],
   "source": [
    "pick <- function(i) {\n",
    "  # remember to force evaluation here\n",
    "  force(i)\n",
    "  function(x)\n",
    "    x[[i]]\n",
    "}\n",
    "\n",
    "# a function that extracts the fifth element from a vector\n",
    "fifth <- pick(5)\n",
    "\n",
    "fifth(3:10)"
   ]
  },
  {
   "cell_type": "code",
   "execution_count": 13,
   "id": "second-individual",
   "metadata": {},
   "outputs": [
    {
     "data": {
      "text/html": [
       "5"
      ],
      "text/latex": [
       "5"
      ],
      "text/markdown": [
       "5"
      ],
      "text/plain": [
       "[1] 5"
      ]
     },
     "metadata": {},
     "output_type": "display_data"
    }
   ],
   "source": [
    "n <- 5\n",
    "fifth <- pick(n)\n",
    "n <- 6\n",
    "# this will still return 5, because we forced evaluation inside `pick`\n",
    "fifth(1:10)"
   ]
  },
  {
   "cell_type": "markdown",
   "id": "atlantic-james",
   "metadata": {},
   "source": [
    "# Stateful function"
   ]
  },
  {
   "cell_type": "markdown",
   "id": "elementary-pierre",
   "metadata": {},
   "source": [
    "Make a function that returns the number of times it is called"
   ]
  },
  {
   "cell_type": "code",
   "execution_count": 14,
   "id": "exclusive-turner",
   "metadata": {},
   "outputs": [
    {
     "name": "stdout",
     "output_type": "stream",
     "text": [
      "[1] 1\n",
      "[1] 2\n",
      "[1] 3\n",
      "[1] 4\n",
      "[1] 5\n"
     ]
    }
   ],
   "source": [
    "make_counter <- function() {\n",
    "    cnt <- 0\n",
    "    function() {\n",
    "        # <<- helps refer to `cnt` of the enclosing environment of this function\n",
    "        cnt <<- cnt + 1\n",
    "        cnt\n",
    "    }\n",
    "}\n",
    "\n",
    "counter <- make_counter()\n",
    "\n",
    "for(i in 1:5) {\n",
    "    print(counter())\n",
    "}"
   ]
  },
  {
   "cell_type": "markdown",
   "id": "abroad-modem",
   "metadata": {},
   "source": [
    "what happens if we change `<<-` to `<-`?"
   ]
  },
  {
   "cell_type": "code",
   "execution_count": 15,
   "id": "israeli-style",
   "metadata": {},
   "outputs": [
    {
     "name": "stdout",
     "output_type": "stream",
     "text": [
      "[1] 6\n",
      "[1] 6\n",
      "[1] 6\n"
     ]
    }
   ],
   "source": [
    "make_counter <- function() {\n",
    "    cnt <- 5\n",
    "    function() {\n",
    "        # cnt on the left side belongs to the execution environment of this function\n",
    "        # cnt on the right side belongs to the enclosing enviroment of this function (which is 5)\n",
    "        \n",
    "        cnt <- cnt + 1\n",
    "        cnt\n",
    "    }\n",
    "}\n",
    "\n",
    "counter <- make_counter()\n",
    "print(counter())\n",
    "print(counter())\n",
    "print(counter())"
   ]
  },
  {
   "cell_type": "markdown",
   "id": "driven-session",
   "metadata": {},
   "source": [
    "# Application to Graphical factories"
   ]
  },
  {
   "cell_type": "code",
   "execution_count": 19,
   "id": "conservative-bulgaria",
   "metadata": {},
   "outputs": [
    {
     "data": {
      "image/png": "[encoded data removed]",
      "text/plain": [
       "plot without title"
      ]
     },
     "metadata": {
      "image/png": {
       "height": 420,
       "width": 420
      }
     },
     "output_type": "display_data"
    }
   ],
   "source": [
    "# construct some sample data with very different numbers in each cell\n",
    "sd <- c(1, 5, 15)\n",
    "n <- 100\n",
    "\n",
    "df <- data.frame(x = rnorm(3 * n, sd = sd), sd = rep(sd, n))\n",
    "\n",
    "ggplot(df, aes(x)) + \n",
    "  geom_histogram(binwidth = 2) + \n",
    "  facet_wrap(~ sd, scales = \"free_x\") + \n",
    "  labs(x = NULL)"
   ]
  },
  {
   "cell_type": "markdown",
   "id": "revised-airfare",
   "metadata": {},
   "source": [
    "Fixed `bithwidth` is not useful, turn `binwidth` to a function"
   ]
  },
  {
   "cell_type": "code",
   "execution_count": 22,
   "id": "dressed-brass",
   "metadata": {},
   "outputs": [
    {
     "data": {
      "image/png": "[encoded data removed]",
      "text/plain": [
       "plot without title"
      ]
     },
     "metadata": {
      "image/png": {
       "height": 420,
       "width": 420
      }
     },
     "output_type": "display_data"
    }
   ],
   "source": [
    "binwidth_bins <- function(n) {\n",
    "    force(n)\n",
    "    function(x) {\n",
    "        (max(x) - min(x)) / n\n",
    "    }\n",
    "}\n",
    "\n",
    "# using 20 bins\n",
    "# we cound have used `bins = 20`\n",
    "# but we use a function to the `binwidth` argument to ilustrate the idea of function factory\n",
    "ggplot(df, aes(x)) + \n",
    "  geom_histogram(binwidth = binwidth_bins(20)) + \n",
    "  facet_wrap(~ sd, scales = \"free_x\") + \n",
    "  labs(x = NULL)"
   ]
  },
  {
   "cell_type": "markdown",
   "id": "timely-probe",
   "metadata": {},
   "source": [
    "# Function Factories + Functionals"
   ]
  },
  {
   "cell_type": "markdown",
   "id": "synthetic-front",
   "metadata": {},
   "source": [
    "Turn data into function, let's say you have a named list of functions:"
   ]
  },
  {
   "cell_type": "code",
   "execution_count": 23,
   "id": "baking-collins",
   "metadata": {},
   "outputs": [
    {
     "data": {
      "text/html": [
       "<dl>\n",
       "\t<dt>$square</dt>\n",
       "\t\t<dd><pre class=language-r><code>function (x) \n",
       "x^exp</code></pre></dd>\n",
       "\t<dt>$cube</dt>\n",
       "\t\t<dd><pre class=language-r><code>function (x) \n",
       "x^exp</code></pre></dd>\n",
       "\t<dt>$root</dt>\n",
       "\t\t<dd><pre class=language-r><code>function (x) \n",
       "x^exp</code></pre></dd>\n",
       "\t<dt>$cuberoot</dt>\n",
       "\t\t<dd><pre class=language-r><code>function (x) \n",
       "x^exp</code></pre></dd>\n",
       "\t<dt>$reciprocal</dt>\n",
       "\t\t<dd><pre class=language-r><code>function (x) \n",
       "x^exp</code></pre></dd>\n",
       "</dl>\n"
      ],
      "text/latex": [
       "\\begin{description}\n",
       "\\item[\\$square] \\begin{minted}{r}\n",
       "function (x) \n",
       "x\\textasciicircum{}exp\n",
       "\\end{minted}\n",
       "\\item[\\$cube] \\begin{minted}{r}\n",
       "function (x) \n",
       "x\\textasciicircum{}exp\n",
       "\\end{minted}\n",
       "\\item[\\$root] \\begin{minted}{r}\n",
       "function (x) \n",
       "x\\textasciicircum{}exp\n",
       "\\end{minted}\n",
       "\\item[\\$cuberoot] \\begin{minted}{r}\n",
       "function (x) \n",
       "x\\textasciicircum{}exp\n",
       "\\end{minted}\n",
       "\\item[\\$reciprocal] \\begin{minted}{r}\n",
       "function (x) \n",
       "x\\textasciicircum{}exp\n",
       "\\end{minted}\n",
       "\\end{description}\n"
      ],
      "text/markdown": [
       "$square\n",
       ":   ```r\n",
       "function (x) \n",
       "x^exp\n",
       "```\n",
       "$cube\n",
       ":   ```r\n",
       "function (x) \n",
       "x^exp\n",
       "```\n",
       "$root\n",
       ":   ```r\n",
       "function (x) \n",
       "x^exp\n",
       "```\n",
       "$cuberoot\n",
       ":   ```r\n",
       "function (x) \n",
       "x^exp\n",
       "```\n",
       "$reciprocal\n",
       ":   ```r\n",
       "function (x) \n",
       "x^exp\n",
       "```\n",
       "\n",
       "\n"
      ],
      "text/plain": [
       "$square\n",
       "function(x) \n",
       "        x ^ exp\n",
       "<environment: 0x55d0d4b2e0e0>\n",
       "\n",
       "$cube\n",
       "function(x) \n",
       "        x ^ exp\n",
       "<bytecode: 0x55d0d41ac0e8>\n",
       "<environment: 0x55d0d4b2e428>\n",
       "\n",
       "$root\n",
       "function(x) \n",
       "        x ^ exp\n",
       "<bytecode: 0x55d0d41ac0e8>\n",
       "<environment: 0x55d0d41a8698>\n",
       "\n",
       "$cuberoot\n",
       "function(x) \n",
       "        x ^ exp\n",
       "<bytecode: 0x55d0d41ac0e8>\n",
       "<environment: 0x55d0d41a89a8>\n",
       "\n",
       "$reciprocal\n",
       "function(x) \n",
       "        x ^ exp\n",
       "<bytecode: 0x55d0d41ac0e8>\n",
       "<environment: 0x55d0d41a4e50>\n"
      ]
     },
     "metadata": {},
     "output_type": "display_data"
    }
   ],
   "source": [
    "power <- function(exp) {\n",
    "    force(exp)\n",
    "    function(x) \n",
    "        x ^ exp\n",
    "}\n",
    "\n",
    "function_names <- list(\n",
    "  square = 2, \n",
    "  cube = 3, \n",
    "  root = 1/2, \n",
    "  cuberoot = 1/3, \n",
    "  reciprocal = -1\n",
    ")\n",
    "\n",
    "funcs <- function_names %>% map(power)\n",
    "# a named list of functions\n",
    "funcs"
   ]
  },
  {
   "cell_type": "markdown",
   "id": "ancient-cleanup",
   "metadata": {},
   "source": [
    "If you want to use a function, you have to prefix the call with `funcs$`"
   ]
  },
  {
   "cell_type": "code",
   "execution_count": 24,
   "id": "above-stevens",
   "metadata": {},
   "outputs": [
    {
     "data": {
      "text/html": [
       "25"
      ],
      "text/latex": [
       "25"
      ],
      "text/markdown": [
       "25"
      ],
      "text/plain": [
       "[1] 25"
      ]
     },
     "metadata": {},
     "output_type": "display_data"
    },
    {
     "data": {
      "text/html": [
       "5"
      ],
      "text/latex": [
       "5"
      ],
      "text/markdown": [
       "5"
      ],
      "text/plain": [
       "[1] 5"
      ]
     },
     "metadata": {},
     "output_type": "display_data"
    }
   ],
   "source": [
    "funcs$square(5)\n",
    "funcs$root(25)"
   ]
  },
  {
   "cell_type": "markdown",
   "id": "transsexual-praise",
   "metadata": {},
   "source": [
    "for a temporary effect, you can use `with`:"
   ]
  },
  {
   "cell_type": "code",
   "execution_count": 27,
   "id": "earned-preliminary",
   "metadata": {},
   "outputs": [
    {
     "data": {
      "text/html": [
       "100"
      ],
      "text/latex": [
       "100"
      ],
      "text/markdown": [
       "100"
      ],
      "text/plain": [
       "[1] 100"
      ]
     },
     "metadata": {},
     "output_type": "display_data"
    },
    {
     "data": {
      "text/html": [
       "2.23606797749979"
      ],
      "text/latex": [
       "2.23606797749979"
      ],
      "text/markdown": [
       "2.23606797749979"
      ],
      "text/plain": [
       "[1] 2.236068"
      ]
     },
     "metadata": {},
     "output_type": "display_data"
    }
   ],
   "source": [
    "with(funcs, square(10))\n",
    "with(funcs, root(5))"
   ]
  },
  {
   "cell_type": "markdown",
   "id": "similar-poison",
   "metadata": {},
   "source": [
    "<b style = 'color:red'>NOTE:</b> I recommend this because it makes it very clear when code is being executed in a special context and what that context is."
   ]
  },
  {
   "cell_type": "markdown",
   "id": "lovely-semiconductor",
   "metadata": {},
   "source": [
    "For a longer effect, you can `attach()` the functions to the search path, then `detach()` when you’re done:"
   ]
  },
  {
   "cell_type": "code",
   "execution_count": 43,
   "id": "technological-purchase",
   "metadata": {},
   "outputs": [
    {
     "name": "stderr",
     "output_type": "stream",
     "text": [
      "The following objects are masked _by_ .GlobalEnv:\n",
      "\n",
      "    cube, cuberoot, reciprocal, root, square\n",
      "\n",
      "\n"
     ]
    },
    {
     "data": {
      "text/html": [
       "<style>\n",
       ".list-inline {list-style: none; margin:0; padding: 0}\n",
       ".list-inline>li {display: inline-block}\n",
       ".list-inline>li:not(:last-child)::after {content: \"\\00b7\"; padding: 0 .5ex}\n",
       "</style>\n",
       "<ol class=list-inline><li>'.GlobalEnv'</li><li>'funcs'</li><li>'package:scales'</li><li>'package:forcats'</li><li>'package:stringr'</li><li>'package:dplyr'</li><li>'package:purrr'</li><li>'package:readr'</li><li>'package:tidyr'</li><li>'package:tibble'</li><li>'package:ggplot2'</li><li>'package:tidyverse'</li><li>'package:rlang'</li><li>'jupyter:irkernel'</li><li>'package:stats'</li><li>'package:graphics'</li><li>'package:grDevices'</li><li>'package:utils'</li><li>'package:datasets'</li><li>'package:methods'</li><li>'Autoloads'</li><li>'package:base'</li></ol>\n"
      ],
      "text/latex": [
       "\\begin{enumerate*}\n",
       "\\item '.GlobalEnv'\n",
       "\\item 'funcs'\n",
       "\\item 'package:scales'\n",
       "\\item 'package:forcats'\n",
       "\\item 'package:stringr'\n",
       "\\item 'package:dplyr'\n",
       "\\item 'package:purrr'\n",
       "\\item 'package:readr'\n",
       "\\item 'package:tidyr'\n",
       "\\item 'package:tibble'\n",
       "\\item 'package:ggplot2'\n",
       "\\item 'package:tidyverse'\n",
       "\\item 'package:rlang'\n",
       "\\item 'jupyter:irkernel'\n",
       "\\item 'package:stats'\n",
       "\\item 'package:graphics'\n",
       "\\item 'package:grDevices'\n",
       "\\item 'package:utils'\n",
       "\\item 'package:datasets'\n",
       "\\item 'package:methods'\n",
       "\\item 'Autoloads'\n",
       "\\item 'package:base'\n",
       "\\end{enumerate*}\n"
      ],
      "text/markdown": [
       "1. '.GlobalEnv'\n",
       "2. 'funcs'\n",
       "3. 'package:scales'\n",
       "4. 'package:forcats'\n",
       "5. 'package:stringr'\n",
       "6. 'package:dplyr'\n",
       "7. 'package:purrr'\n",
       "8. 'package:readr'\n",
       "9. 'package:tidyr'\n",
       "10. 'package:tibble'\n",
       "11. 'package:ggplot2'\n",
       "12. 'package:tidyverse'\n",
       "13. 'package:rlang'\n",
       "14. 'jupyter:irkernel'\n",
       "15. 'package:stats'\n",
       "16. 'package:graphics'\n",
       "17. 'package:grDevices'\n",
       "18. 'package:utils'\n",
       "19. 'package:datasets'\n",
       "20. 'package:methods'\n",
       "21. 'Autoloads'\n",
       "22. 'package:base'\n",
       "\n",
       "\n"
      ],
      "text/plain": [
       " [1] \".GlobalEnv\"        \"funcs\"             \"package:scales\"   \n",
       " [4] \"package:forcats\"   \"package:stringr\"   \"package:dplyr\"    \n",
       " [7] \"package:purrr\"     \"package:readr\"     \"package:tidyr\"    \n",
       "[10] \"package:tibble\"    \"package:ggplot2\"   \"package:tidyverse\"\n",
       "[13] \"package:rlang\"     \"jupyter:irkernel\"  \"package:stats\"    \n",
       "[16] \"package:graphics\"  \"package:grDevices\" \"package:utils\"    \n",
       "[19] \"package:datasets\"  \"package:methods\"   \"Autoloads\"        \n",
       "[22] \"package:base\"     "
      ]
     },
     "metadata": {},
     "output_type": "display_data"
    }
   ],
   "source": [
    "# attach `funcs` to the search path\n",
    "# so functions inside `funcs` will be available in the search path\n",
    "#  Therefore, the provided functions are found before their respective versions from the {base} package.\n",
    "# . Further, they cannot get accidently overwritten by similar named functions in the global environment\n",
    "attach(funcs)\n",
    "# search path\n",
    "search()"
   ]
  },
  {
   "cell_type": "markdown",
   "id": "invalid-aquarium",
   "metadata": {},
   "source": [
    "Functions inside `func` are now included in the search path, so we can use without prefix `funcs$`"
   ]
  },
  {
   "cell_type": "code",
   "execution_count": 33,
   "id": "chronic-intelligence",
   "metadata": {},
   "outputs": [
    {
     "data": {
      "text/html": [
       "25"
      ],
      "text/latex": [
       "25"
      ],
      "text/markdown": [
       "25"
      ],
      "text/plain": [
       "[1] 25"
      ]
     },
     "metadata": {},
     "output_type": "display_data"
    },
    {
     "data": {
      "text/html": [
       "1000"
      ],
      "text/latex": [
       "1000"
      ],
      "text/markdown": [
       "1000"
      ],
      "text/plain": [
       "[1] 1000"
      ]
     },
     "metadata": {},
     "output_type": "display_data"
    }
   ],
   "source": [
    "square(5)\n",
    "cube(10)"
   ]
  },
  {
   "cell_type": "markdown",
   "id": "absolute-postcard",
   "metadata": {},
   "source": [
    "One annoying downside of using `attach()` is the possibility to attach the same object multiple times, making it necessary to call `detach()` equally often"
   ]
  },
  {
   "cell_type": "code",
   "execution_count": 44,
   "id": "recent-honduras",
   "metadata": {},
   "outputs": [
    {
     "name": "stderr",
     "output_type": "stream",
     "text": [
      "The following objects are masked _by_ .GlobalEnv:\n",
      "\n",
      "    cube, cuberoot, reciprocal, root, square\n",
      "\n",
      "\n",
      "The following objects are masked from funcs (pos = 3):\n",
      "\n",
      "    cube, cuberoot, reciprocal, root, square\n",
      "\n",
      "\n"
     ]
    },
    {
     "data": {
      "text/html": [
       "<style>\n",
       ".list-inline {list-style: none; margin:0; padding: 0}\n",
       ".list-inline>li {display: inline-block}\n",
       ".list-inline>li:not(:last-child)::after {content: \"\\00b7\"; padding: 0 .5ex}\n",
       "</style>\n",
       "<ol class=list-inline><li>'.GlobalEnv'</li><li>'package:scales'</li><li>'package:forcats'</li><li>'package:stringr'</li><li>'package:dplyr'</li><li>'package:purrr'</li><li>'package:readr'</li><li>'package:tidyr'</li><li>'package:tibble'</li><li>'package:ggplot2'</li><li>'package:tidyverse'</li><li>'package:rlang'</li><li>'jupyter:irkernel'</li><li>'package:stats'</li><li>'package:graphics'</li><li>'package:grDevices'</li><li>'package:utils'</li><li>'package:datasets'</li><li>'package:methods'</li><li>'Autoloads'</li><li>'package:base'</li></ol>\n"
      ],
      "text/latex": [
       "\\begin{enumerate*}\n",
       "\\item '.GlobalEnv'\n",
       "\\item 'package:scales'\n",
       "\\item 'package:forcats'\n",
       "\\item 'package:stringr'\n",
       "\\item 'package:dplyr'\n",
       "\\item 'package:purrr'\n",
       "\\item 'package:readr'\n",
       "\\item 'package:tidyr'\n",
       "\\item 'package:tibble'\n",
       "\\item 'package:ggplot2'\n",
       "\\item 'package:tidyverse'\n",
       "\\item 'package:rlang'\n",
       "\\item 'jupyter:irkernel'\n",
       "\\item 'package:stats'\n",
       "\\item 'package:graphics'\n",
       "\\item 'package:grDevices'\n",
       "\\item 'package:utils'\n",
       "\\item 'package:datasets'\n",
       "\\item 'package:methods'\n",
       "\\item 'Autoloads'\n",
       "\\item 'package:base'\n",
       "\\end{enumerate*}\n"
      ],
      "text/markdown": [
       "1. '.GlobalEnv'\n",
       "2. 'package:scales'\n",
       "3. 'package:forcats'\n",
       "4. 'package:stringr'\n",
       "5. 'package:dplyr'\n",
       "6. 'package:purrr'\n",
       "7. 'package:readr'\n",
       "8. 'package:tidyr'\n",
       "9. 'package:tibble'\n",
       "10. 'package:ggplot2'\n",
       "11. 'package:tidyverse'\n",
       "12. 'package:rlang'\n",
       "13. 'jupyter:irkernel'\n",
       "14. 'package:stats'\n",
       "15. 'package:graphics'\n",
       "16. 'package:grDevices'\n",
       "17. 'package:utils'\n",
       "18. 'package:datasets'\n",
       "19. 'package:methods'\n",
       "20. 'Autoloads'\n",
       "21. 'package:base'\n",
       "\n",
       "\n"
      ],
      "text/plain": [
       " [1] \".GlobalEnv\"        \"package:scales\"    \"package:forcats\"  \n",
       " [4] \"package:stringr\"   \"package:dplyr\"     \"package:purrr\"    \n",
       " [7] \"package:readr\"     \"package:tidyr\"     \"package:tibble\"   \n",
       "[10] \"package:ggplot2\"   \"package:tidyverse\" \"package:rlang\"    \n",
       "[13] \"jupyter:irkernel\"  \"package:stats\"     \"package:graphics\" \n",
       "[16] \"package:grDevices\" \"package:utils\"     \"package:datasets\" \n",
       "[19] \"package:methods\"   \"Autoloads\"         \"package:base\"     "
      ]
     },
     "metadata": {},
     "output_type": "display_data"
    }
   ],
   "source": [
    "attach(funcs)\n",
    "# detach this list of functions from the search path\n",
    "detach(funcs)\n",
    "detach(funcs)\n",
    "\n",
    "search()"
   ]
  },
  {
   "cell_type": "markdown",
   "id": "academic-principal",
   "metadata": {},
   "source": [
    "- Finally, you could copy the functions to the global environment with `rlang::env_bind`.  This just adds the functions in fun to the global environment. No further side effects are introduced, and the functions are overwritten when similarly named functions are defined. "
   ]
  },
  {
   "cell_type": "code",
   "execution_count": 45,
   "id": "figured-hebrew",
   "metadata": {},
   "outputs": [],
   "source": [
    "rlang::env_bind(globalenv(), !!!funcs)"
   ]
  },
  {
   "cell_type": "code",
   "execution_count": 46,
   "id": "needed-spyware",
   "metadata": {},
   "outputs": [
    {
     "data": {
      "text/html": [
       "<style>\n",
       ".list-inline {list-style: none; margin:0; padding: 0}\n",
       ".list-inline>li {display: inline-block}\n",
       ".list-inline>li:not(:last-child)::after {content: \"\\00b7\"; padding: 0 .5ex}\n",
       "</style>\n",
       "<ol class=list-inline><li>'power_to_2'</li><li>'power_to_3'</li><li>'reciprocal'</li><li>'root'</li><li>'sd'</li><li>'square'</li></ol>\n"
      ],
      "text/latex": [
       "\\begin{enumerate*}\n",
       "\\item 'power\\_to\\_2'\n",
       "\\item 'power\\_to\\_3'\n",
       "\\item 'reciprocal'\n",
       "\\item 'root'\n",
       "\\item 'sd'\n",
       "\\item 'square'\n",
       "\\end{enumerate*}\n"
      ],
      "text/markdown": [
       "1. 'power_to_2'\n",
       "2. 'power_to_3'\n",
       "3. 'reciprocal'\n",
       "4. 'root'\n",
       "5. 'sd'\n",
       "6. 'square'\n",
       "\n",
       "\n"
      ],
      "text/plain": [
       "[1] \"power_to_2\" \"power_to_3\" \"reciprocal\" \"root\"       \"sd\"        \n",
       "[6] \"square\"    "
      ]
     },
     "metadata": {},
     "output_type": "display_data"
    }
   ],
   "source": [
    "# in the global environment\n",
    "ls.str(globalenv()) %>% tail()"
   ]
  },
  {
   "cell_type": "markdown",
   "id": "opposed-gateway",
   "metadata": {},
   "source": [
    ">Compare and contrast the effects of `env_bind()` vs. `attach()` for the following code.\n",
    ">```r\n",
    "funs <- list(\n",
    "  mean = function(x) mean(x, na.rm = TRUE),\n",
    "  sum = function(x) sum(x, na.rm = TRUE)\n",
    ")\n",
    "attach(funs)\n",
    "#> The following objects are masked from package:base:\n",
    "#> \n",
    "#>     mean, sum\n",
    "mean <- function(x) stop(\"Hi!\")\n",
    "detach(funs)\n",
    "env_bind(globalenv(), !!!funs)\n",
    "mean <- function(x) stop(\"Hi!\") \n",
    "env_unbind(globalenv(), names(funs))\n",
    "```"
   ]
  },
  {
   "cell_type": "markdown",
   "id": "korean-folder",
   "metadata": {},
   "source": [
    "See the solution here: <https://advanced-r-solutions.rbind.io/function-factories.html#function-factories-functionalshttps://advanced-r-solutions.rbind.io/function-factories.html#function-factories-functionals>"
   ]
  }
 ],
 "metadata": {
  "kernelspec": {
   "display_name": "R",
   "language": "R",
   "name": "ir"
  },
  "language_info": {
   "codemirror_mode": "r",
   "file_extension": ".r",
   "mimetype": "text/x-r-source",
   "name": "R",
   "pygments_lexer": "r",
   "version": "4.0.4"
  }
 },
 "nbformat": 4,
 "nbformat_minor": 5
}
