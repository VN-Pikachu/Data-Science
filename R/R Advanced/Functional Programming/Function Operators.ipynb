{
 "cells": [
  {
   "cell_type": "markdown",
   "id": "specified-nation",
   "metadata": {},
   "source": [
    "**Reference**: <https://adv-r.hadley.nz/function-operators.html>"
   ]
  },
  {
   "cell_type": "code",
   "execution_count": 2,
   "id": "excess-model",
   "metadata": {},
   "outputs": [],
   "source": [
    "library(tidyverse)\n",
    "library(memoise)"
   ]
  },
  {
   "cell_type": "markdown",
   "id": "broad-tissue",
   "metadata": {},
   "source": [
    "# Introduction"
   ]
  },
  {
   "cell_type": "markdown",
   "id": "educated-nylon",
   "metadata": {},
   "source": [
    "I think it's like decorator.  \n",
    "A function factory is a function that take one (or more) functions as input and return a function as output. Function operators are closely related to function factories; indeed they’re just a function factory that takes a function as input"
   ]
  },
  {
   "cell_type": "markdown",
   "id": "insured-illness",
   "metadata": {},
   "source": [
    "# Existing function operators"
   ]
  },
  {
   "cell_type": "markdown",
   "id": "directed-topic",
   "metadata": {},
   "source": [
    "**`safely`** and its family in `purrr`:"
   ]
  },
  {
   "cell_type": "code",
   "execution_count": 5,
   "id": "dirty-doctrine",
   "metadata": {},
   "outputs": [
    {
     "data": {
      "text/plain": [
       "$result\n",
       "NULL\n",
       "\n",
       "$error\n",
       "<simpleError in .Primitive(\"sum\")(..., na.rm = na.rm): invalid 'type' (character) of argument>\n"
      ]
     },
     "metadata": {},
     "output_type": "display_data"
    }
   ],
   "source": [
    "# `safely` transform `sum` into another function that returns a list with 2 elements \"result\" and \"error\"\n",
    "safe_sum <- purrr::safely(sum)\n",
    "\n",
    "safe_sum(c(1, 'a', 2))"
   ]
  },
  {
   "cell_type": "code",
   "execution_count": 7,
   "id": "italian-capability",
   "metadata": {},
   "outputs": [
    {
     "data": {
      "text/html": [
       "<dl>\n",
       "\t<dt>$result</dt>\n",
       "\t\t<dd>15</dd>\n",
       "\t<dt>$error</dt>\n",
       "\t\t<dd>NULL</dd>\n",
       "</dl>\n"
      ],
      "text/latex": [
       "\\begin{description}\n",
       "\\item[\\$result] 15\n",
       "\\item[\\$error] NULL\n",
       "\\end{description}\n"
      ],
      "text/markdown": [
       "$result\n",
       ":   15\n",
       "$error\n",
       ":   NULL\n",
       "\n",
       "\n"
      ],
      "text/plain": [
       "$result\n",
       "[1] 15\n",
       "\n",
       "$error\n",
       "NULL\n"
      ]
     },
     "metadata": {},
     "output_type": "display_data"
    }
   ],
   "source": [
    "safe_sum(1:5)"
   ]
  },
  {
   "cell_type": "code",
   "execution_count": 2,
   "id": "configured-renaissance",
   "metadata": {},
   "outputs": [
    {
     "ename": "ERROR",
     "evalue": "Error in possibly(sum, 0): could not find function \"possibly\"\n",
     "output_type": "error",
     "traceback": [
      "Error in possibly(sum, 0): could not find function \"possibly\"\nTraceback:\n"
     ]
    }
   ],
   "source": [
    "# if there is an error, return 0\n",
    "possibly(sum, 0)(c(1, 'a', 2))"
   ]
  },
  {
   "cell_type": "markdown",
   "id": "binding-visitor",
   "metadata": {},
   "source": [
    "**`memoise::memoise`**, Something that is similar to **lru_cache**"
   ]
  },
  {
   "cell_type": "code",
   "execution_count": 16,
   "id": "floppy-columbus",
   "metadata": {},
   "outputs": [
    {
     "data": {
      "text/plain": [
       "   user  system elapsed \n",
       "  2.604   0.000   2.604 "
      ]
     },
     "metadata": {},
     "output_type": "display_data"
    }
   ],
   "source": [
    "fib_brute <- function(x) {\n",
    "    if(x <= 1)\n",
    "        return(x)\n",
    "    fib_brute(x - 1) + fib_brute(x - 2)\n",
    "}\n",
    "\n",
    "system.time(fib_brute(32))"
   ]
  },
  {
   "cell_type": "code",
   "execution_count": 17,
   "id": "interracial-filling",
   "metadata": {},
   "outputs": [],
   "source": [
    "fib2 <- memoise::memoise(function(n) {\n",
    "  if (n < 2) return(1)\n",
    "  fib2(n - 2) + fib2(n - 1)\n",
    "})"
   ]
  },
  {
   "cell_type": "code",
   "execution_count": 18,
   "id": "diagnostic-delta",
   "metadata": {},
   "outputs": [
    {
     "data": {
      "text/plain": [
       "   user  system elapsed \n",
       "  0.023   0.000   0.023 "
      ]
     },
     "metadata": {},
     "output_type": "display_data"
    }
   ],
   "source": [
    "system.time(fib2(50))"
   ]
  }
 ],
 "metadata": {
  "kernelspec": {
   "display_name": "R",
   "language": "R",
   "name": "ir"
  },
  "language_info": {
   "codemirror_mode": "r",
   "file_extension": ".r",
   "mimetype": "text/x-r-source",
   "name": "R",
   "pygments_lexer": "r",
   "version": "4.0.4"
  }
 },
 "nbformat": 4,
 "nbformat_minor": 5
}
