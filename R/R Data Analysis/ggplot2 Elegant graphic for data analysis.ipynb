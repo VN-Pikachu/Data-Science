{
 "cells": [
  {
   "cell_type": "markdown",
   "metadata": {},
   "source": [
    "See RMarkdown Notebooks of this folder: *C:/Users/dell/RStudio/Data Visualization/GGPLOT2 Elegant graphics for Data Analysis*\n",
    "\n",
    "|Topic                           |File                                  |\n",
    "|:-------------------------------|:-------------------------------------|\n",
    "|Data Analysis                   |`Data Analysis.rmd`                   |\n",
    "|Data Transformation             |`Data Transformation.rmd`             |\n",
    "|Modelling for Data Visualization|`Modelling for Data Visualization.rmd`|"
   ]
  },
  {
   "cell_type": "markdown",
   "metadata": {},
   "source": [
    "These notebooks contains lots of tools and techniques, analysis, tips and tricks for working and gaining insight from data with hands on exercise   \n",
    "I solved all of them so if I want a refresh, look at them.\n"
   ]
  }
 ],
 "metadata": {
  "kernelspec": {
   "display_name": "R",
   "language": "R",
   "name": "ir"
  },
  "language_info": {
   "codemirror_mode": "r",
   "file_extension": ".r",
   "mimetype": "text/x-r-source",
   "name": "R",
   "pygments_lexer": "r",
   "version": "3.6.1"
  }
 },
 "nbformat": 4,
 "nbformat_minor": 2
}
