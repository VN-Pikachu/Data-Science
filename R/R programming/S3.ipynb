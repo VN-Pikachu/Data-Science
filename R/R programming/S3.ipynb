{
 "cells": [
  {
   "cell_type": "markdown",
   "metadata": {},
   "source": [
    "<b style = 'color:red'>Must read:</b> **Hands-on Programming with R (PART III.8: S3)**    \n",
    "\"file:///C:/Books/R/Hands-On%20Programming%20with%20R%20(%20PDFDrive%20).pdf\""
   ]
  },
  {
   "cell_type": "markdown",
   "metadata": {},
   "source": [
    "# Introduction"
   ]
  },
  {
   "cell_type": "markdown",
   "metadata": {},
   "source": [
    "Values are not the only place to store information in R, and functions are not the only\n",
    "way to create unique behavior. You can also do both of these things with R’s S3 system.\n",
    "\n",
    "The S3 system provides a simple way to create object-specific behavior in R. In other\n",
    "words, it is R’s version of object-oriented programming (OOP). The system is imple‐\n",
    "mented by generic functions. These functions examine the class attribute of their input\n",
    "and call a class-specific method to generate output. Many S3 methods will look for and\n",
    "use additional information that is stored in an object’s attributes. Many common R\n",
    "functions are S3 generics.\n",
    "R’s S3 system is more helpful for the tasks of computer science than the tasks of data\n",
    "science, but understanding S3 can help you troubleshoot your work in R as a data\n",
    "scientist."
   ]
  },
  {
   "cell_type": "markdown",
   "metadata": {},
   "source": [
    "# The S3 system"
   ]
  },
  {
   "cell_type": "markdown",
   "metadata": {},
   "source": [
    "<b style = 'color:red'>The S3 system allows R functions to behave in different ways for different classes</b>"
   ]
  },
  {
   "cell_type": "markdown",
   "metadata": {},
   "source": [
    "S3 refers to a class system built into R. The system governs how R handles objects of\n",
    "different classes. Certain R functions will look up an object’s S3 class, and then behave\n",
    "differently in response."
   ]
  },
  {
   "cell_type": "code",
   "execution_count": 1,
   "metadata": {},
   "outputs": [
    {
     "name": "stdout",
     "output_type": "stream",
     "text": [
      "[1] 15\n",
      "[1] \"2001-10-06\"\n"
     ]
    }
   ],
   "source": [
    "# The base::print function will behave differently for different class (e.g: POSIXct, numeric, ...)\n",
    "print(15)\n",
    "\n",
    "print(lubridate::ymd(011006))"
   ]
  },
  {
   "cell_type": "markdown",
   "metadata": {},
   "source": [
    "R’s S3 system is built around three components: \n",
    "* attributes (especially the **`class`** at‐tribute)\n",
    "* generic functions\n",
    "* methods"
   ]
  },
  {
   "cell_type": "markdown",
   "metadata": {},
   "source": [
    "# Attributes "
   ]
  },
  {
   "cell_type": "markdown",
   "metadata": {},
   "source": [
    "Many R objects come with attributes, pieces\n",
    "of extra information that are given a name and appended to the object. Attributes do\n",
    "not affect the values of the object, but stick to the object as a type of metadata that R can\n",
    "use to handle the object"
   ]
  },
  {
   "cell_type": "code",
   "execution_count": 2,
   "metadata": {},
   "outputs": [
    {
     "data": {
      "text/html": [
       "<dl>\n",
       "\t<dt>$names</dt>\n",
       "\t\t<dd><ol class=list-inline>\n",
       "\t<li>'Sepal.Length'</li>\n",
       "\t<li>'Sepal.Width'</li>\n",
       "\t<li>'Petal.Length'</li>\n",
       "\t<li>'Petal.Width'</li>\n",
       "\t<li>'Species'</li>\n",
       "</ol>\n",
       "</dd>\n",
       "\t<dt>$class</dt>\n",
       "\t\t<dd>'data.frame'</dd>\n",
       "\t<dt>$row.names</dt>\n",
       "\t\t<dd><ol class=list-inline>\n",
       "\t<li>1</li>\n",
       "\t<li>2</li>\n",
       "\t<li>3</li>\n",
       "\t<li>4</li>\n",
       "\t<li>5</li>\n",
       "\t<li>6</li>\n",
       "\t<li>7</li>\n",
       "\t<li>8</li>\n",
       "\t<li>9</li>\n",
       "\t<li>10</li>\n",
       "\t<li>11</li>\n",
       "\t<li>12</li>\n",
       "\t<li>13</li>\n",
       "\t<li>14</li>\n",
       "\t<li>15</li>\n",
       "\t<li>16</li>\n",
       "\t<li>17</li>\n",
       "\t<li>18</li>\n",
       "\t<li>19</li>\n",
       "\t<li>20</li>\n",
       "\t<li>21</li>\n",
       "\t<li>22</li>\n",
       "\t<li>23</li>\n",
       "\t<li>24</li>\n",
       "\t<li>25</li>\n",
       "\t<li>26</li>\n",
       "\t<li>27</li>\n",
       "\t<li>28</li>\n",
       "\t<li>29</li>\n",
       "\t<li>30</li>\n",
       "\t<li>31</li>\n",
       "\t<li>32</li>\n",
       "\t<li>33</li>\n",
       "\t<li>34</li>\n",
       "\t<li>35</li>\n",
       "\t<li>36</li>\n",
       "\t<li>37</li>\n",
       "\t<li>38</li>\n",
       "\t<li>39</li>\n",
       "\t<li>40</li>\n",
       "\t<li>41</li>\n",
       "\t<li>42</li>\n",
       "\t<li>43</li>\n",
       "\t<li>44</li>\n",
       "\t<li>45</li>\n",
       "\t<li>46</li>\n",
       "\t<li>47</li>\n",
       "\t<li>48</li>\n",
       "\t<li>49</li>\n",
       "\t<li>50</li>\n",
       "\t<li>51</li>\n",
       "\t<li>52</li>\n",
       "\t<li>53</li>\n",
       "\t<li>54</li>\n",
       "\t<li>55</li>\n",
       "\t<li>56</li>\n",
       "\t<li>57</li>\n",
       "\t<li>58</li>\n",
       "\t<li>59</li>\n",
       "\t<li>60</li>\n",
       "\t<li>61</li>\n",
       "\t<li>62</li>\n",
       "\t<li>63</li>\n",
       "\t<li>64</li>\n",
       "\t<li>65</li>\n",
       "\t<li>66</li>\n",
       "\t<li>67</li>\n",
       "\t<li>68</li>\n",
       "\t<li>69</li>\n",
       "\t<li>70</li>\n",
       "\t<li>71</li>\n",
       "\t<li>72</li>\n",
       "\t<li>73</li>\n",
       "\t<li>74</li>\n",
       "\t<li>75</li>\n",
       "\t<li>76</li>\n",
       "\t<li>77</li>\n",
       "\t<li>78</li>\n",
       "\t<li>79</li>\n",
       "\t<li>80</li>\n",
       "\t<li>81</li>\n",
       "\t<li>82</li>\n",
       "\t<li>83</li>\n",
       "\t<li>84</li>\n",
       "\t<li>85</li>\n",
       "\t<li>86</li>\n",
       "\t<li>87</li>\n",
       "\t<li>88</li>\n",
       "\t<li>89</li>\n",
       "\t<li>90</li>\n",
       "\t<li>91</li>\n",
       "\t<li>92</li>\n",
       "\t<li>93</li>\n",
       "\t<li>94</li>\n",
       "\t<li>95</li>\n",
       "\t<li>96</li>\n",
       "\t<li>97</li>\n",
       "\t<li>98</li>\n",
       "\t<li>99</li>\n",
       "\t<li>100</li>\n",
       "\t<li>101</li>\n",
       "\t<li>102</li>\n",
       "\t<li>103</li>\n",
       "\t<li>104</li>\n",
       "\t<li>105</li>\n",
       "\t<li>106</li>\n",
       "\t<li>107</li>\n",
       "\t<li>108</li>\n",
       "\t<li>109</li>\n",
       "\t<li>110</li>\n",
       "\t<li>111</li>\n",
       "\t<li>112</li>\n",
       "\t<li>113</li>\n",
       "\t<li>114</li>\n",
       "\t<li>115</li>\n",
       "\t<li>116</li>\n",
       "\t<li>117</li>\n",
       "\t<li>118</li>\n",
       "\t<li>119</li>\n",
       "\t<li>120</li>\n",
       "\t<li>121</li>\n",
       "\t<li>122</li>\n",
       "\t<li>123</li>\n",
       "\t<li>124</li>\n",
       "\t<li>125</li>\n",
       "\t<li>126</li>\n",
       "\t<li>127</li>\n",
       "\t<li>128</li>\n",
       "\t<li>129</li>\n",
       "\t<li>130</li>\n",
       "\t<li>131</li>\n",
       "\t<li>132</li>\n",
       "\t<li>133</li>\n",
       "\t<li>134</li>\n",
       "\t<li>135</li>\n",
       "\t<li>136</li>\n",
       "\t<li>137</li>\n",
       "\t<li>138</li>\n",
       "\t<li>139</li>\n",
       "\t<li>140</li>\n",
       "\t<li>141</li>\n",
       "\t<li>142</li>\n",
       "\t<li>143</li>\n",
       "\t<li>144</li>\n",
       "\t<li>145</li>\n",
       "\t<li>146</li>\n",
       "\t<li>147</li>\n",
       "\t<li>148</li>\n",
       "\t<li>149</li>\n",
       "\t<li>150</li>\n",
       "</ol>\n",
       "</dd>\n",
       "</dl>\n"
      ],
      "text/latex": [
       "\\begin{description}\n",
       "\\item[\\$names] \\begin{enumerate*}\n",
       "\\item 'Sepal.Length'\n",
       "\\item 'Sepal.Width'\n",
       "\\item 'Petal.Length'\n",
       "\\item 'Petal.Width'\n",
       "\\item 'Species'\n",
       "\\end{enumerate*}\n",
       "\n",
       "\\item[\\$class] 'data.frame'\n",
       "\\item[\\$row.names] \\begin{enumerate*}\n",
       "\\item 1\n",
       "\\item 2\n",
       "\\item 3\n",
       "\\item 4\n",
       "\\item 5\n",
       "\\item 6\n",
       "\\item 7\n",
       "\\item 8\n",
       "\\item 9\n",
       "\\item 10\n",
       "\\item 11\n",
       "\\item 12\n",
       "\\item 13\n",
       "\\item 14\n",
       "\\item 15\n",
       "\\item 16\n",
       "\\item 17\n",
       "\\item 18\n",
       "\\item 19\n",
       "\\item 20\n",
       "\\item 21\n",
       "\\item 22\n",
       "\\item 23\n",
       "\\item 24\n",
       "\\item 25\n",
       "\\item 26\n",
       "\\item 27\n",
       "\\item 28\n",
       "\\item 29\n",
       "\\item 30\n",
       "\\item 31\n",
       "\\item 32\n",
       "\\item 33\n",
       "\\item 34\n",
       "\\item 35\n",
       "\\item 36\n",
       "\\item 37\n",
       "\\item 38\n",
       "\\item 39\n",
       "\\item 40\n",
       "\\item 41\n",
       "\\item 42\n",
       "\\item 43\n",
       "\\item 44\n",
       "\\item 45\n",
       "\\item 46\n",
       "\\item 47\n",
       "\\item 48\n",
       "\\item 49\n",
       "\\item 50\n",
       "\\item 51\n",
       "\\item 52\n",
       "\\item 53\n",
       "\\item 54\n",
       "\\item 55\n",
       "\\item 56\n",
       "\\item 57\n",
       "\\item 58\n",
       "\\item 59\n",
       "\\item 60\n",
       "\\item 61\n",
       "\\item 62\n",
       "\\item 63\n",
       "\\item 64\n",
       "\\item 65\n",
       "\\item 66\n",
       "\\item 67\n",
       "\\item 68\n",
       "\\item 69\n",
       "\\item 70\n",
       "\\item 71\n",
       "\\item 72\n",
       "\\item 73\n",
       "\\item 74\n",
       "\\item 75\n",
       "\\item 76\n",
       "\\item 77\n",
       "\\item 78\n",
       "\\item 79\n",
       "\\item 80\n",
       "\\item 81\n",
       "\\item 82\n",
       "\\item 83\n",
       "\\item 84\n",
       "\\item 85\n",
       "\\item 86\n",
       "\\item 87\n",
       "\\item 88\n",
       "\\item 89\n",
       "\\item 90\n",
       "\\item 91\n",
       "\\item 92\n",
       "\\item 93\n",
       "\\item 94\n",
       "\\item 95\n",
       "\\item 96\n",
       "\\item 97\n",
       "\\item 98\n",
       "\\item 99\n",
       "\\item 100\n",
       "\\item 101\n",
       "\\item 102\n",
       "\\item 103\n",
       "\\item 104\n",
       "\\item 105\n",
       "\\item 106\n",
       "\\item 107\n",
       "\\item 108\n",
       "\\item 109\n",
       "\\item 110\n",
       "\\item 111\n",
       "\\item 112\n",
       "\\item 113\n",
       "\\item 114\n",
       "\\item 115\n",
       "\\item 116\n",
       "\\item 117\n",
       "\\item 118\n",
       "\\item 119\n",
       "\\item 120\n",
       "\\item 121\n",
       "\\item 122\n",
       "\\item 123\n",
       "\\item 124\n",
       "\\item 125\n",
       "\\item 126\n",
       "\\item 127\n",
       "\\item 128\n",
       "\\item 129\n",
       "\\item 130\n",
       "\\item 131\n",
       "\\item 132\n",
       "\\item 133\n",
       "\\item 134\n",
       "\\item 135\n",
       "\\item 136\n",
       "\\item 137\n",
       "\\item 138\n",
       "\\item 139\n",
       "\\item 140\n",
       "\\item 141\n",
       "\\item 142\n",
       "\\item 143\n",
       "\\item 144\n",
       "\\item 145\n",
       "\\item 146\n",
       "\\item 147\n",
       "\\item 148\n",
       "\\item 149\n",
       "\\item 150\n",
       "\\end{enumerate*}\n",
       "\n",
       "\\end{description}\n"
      ],
      "text/markdown": [
       "$names\n",
       ":   1. 'Sepal.Length'\n",
       "2. 'Sepal.Width'\n",
       "3. 'Petal.Length'\n",
       "4. 'Petal.Width'\n",
       "5. 'Species'\n",
       "\n",
       "\n",
       "\n",
       "$class\n",
       ":   'data.frame'\n",
       "$row.names\n",
       ":   1. 1\n",
       "2. 2\n",
       "3. 3\n",
       "4. 4\n",
       "5. 5\n",
       "6. 6\n",
       "7. 7\n",
       "8. 8\n",
       "9. 9\n",
       "10. 10\n",
       "11. 11\n",
       "12. 12\n",
       "13. 13\n",
       "14. 14\n",
       "15. 15\n",
       "16. 16\n",
       "17. 17\n",
       "18. 18\n",
       "19. 19\n",
       "20. 20\n",
       "21. 21\n",
       "22. 22\n",
       "23. 23\n",
       "24. 24\n",
       "25. 25\n",
       "26. 26\n",
       "27. 27\n",
       "28. 28\n",
       "29. 29\n",
       "30. 30\n",
       "31. 31\n",
       "32. 32\n",
       "33. 33\n",
       "34. 34\n",
       "35. 35\n",
       "36. 36\n",
       "37. 37\n",
       "38. 38\n",
       "39. 39\n",
       "40. 40\n",
       "41. 41\n",
       "42. 42\n",
       "43. 43\n",
       "44. 44\n",
       "45. 45\n",
       "46. 46\n",
       "47. 47\n",
       "48. 48\n",
       "49. 49\n",
       "50. 50\n",
       "51. 51\n",
       "52. 52\n",
       "53. 53\n",
       "54. 54\n",
       "55. 55\n",
       "56. 56\n",
       "57. 57\n",
       "58. 58\n",
       "59. 59\n",
       "60. 60\n",
       "61. 61\n",
       "62. 62\n",
       "63. 63\n",
       "64. 64\n",
       "65. 65\n",
       "66. 66\n",
       "67. 67\n",
       "68. 68\n",
       "69. 69\n",
       "70. 70\n",
       "71. 71\n",
       "72. 72\n",
       "73. 73\n",
       "74. 74\n",
       "75. 75\n",
       "76. 76\n",
       "77. 77\n",
       "78. 78\n",
       "79. 79\n",
       "80. 80\n",
       "81. 81\n",
       "82. 82\n",
       "83. 83\n",
       "84. 84\n",
       "85. 85\n",
       "86. 86\n",
       "87. 87\n",
       "88. 88\n",
       "89. 89\n",
       "90. 90\n",
       "91. 91\n",
       "92. 92\n",
       "93. 93\n",
       "94. 94\n",
       "95. 95\n",
       "96. 96\n",
       "97. 97\n",
       "98. 98\n",
       "99. 99\n",
       "100. 100\n",
       "101. 101\n",
       "102. 102\n",
       "103. 103\n",
       "104. 104\n",
       "105. 105\n",
       "106. 106\n",
       "107. 107\n",
       "108. 108\n",
       "109. 109\n",
       "110. 110\n",
       "111. 111\n",
       "112. 112\n",
       "113. 113\n",
       "114. 114\n",
       "115. 115\n",
       "116. 116\n",
       "117. 117\n",
       "118. 118\n",
       "119. 119\n",
       "120. 120\n",
       "121. 121\n",
       "122. 122\n",
       "123. 123\n",
       "124. 124\n",
       "125. 125\n",
       "126. 126\n",
       "127. 127\n",
       "128. 128\n",
       "129. 129\n",
       "130. 130\n",
       "131. 131\n",
       "132. 132\n",
       "133. 133\n",
       "134. 134\n",
       "135. 135\n",
       "136. 136\n",
       "137. 137\n",
       "138. 138\n",
       "139. 139\n",
       "140. 140\n",
       "141. 141\n",
       "142. 142\n",
       "143. 143\n",
       "144. 144\n",
       "145. 145\n",
       "146. 146\n",
       "147. 147\n",
       "148. 148\n",
       "149. 149\n",
       "150. 150\n",
       "\n",
       "\n",
       "\n",
       "\n",
       "\n"
      ],
      "text/plain": [
       "$names\n",
       "[1] \"Sepal.Length\" \"Sepal.Width\"  \"Petal.Length\" \"Petal.Width\"  \"Species\"     \n",
       "\n",
       "$class\n",
       "[1] \"data.frame\"\n",
       "\n",
       "$row.names\n",
       "  [1]   1   2   3   4   5   6   7   8   9  10  11  12  13  14  15  16  17  18\n",
       " [19]  19  20  21  22  23  24  25  26  27  28  29  30  31  32  33  34  35  36\n",
       " [37]  37  38  39  40  41  42  43  44  45  46  47  48  49  50  51  52  53  54\n",
       " [55]  55  56  57  58  59  60  61  62  63  64  65  66  67  68  69  70  71  72\n",
       " [73]  73  74  75  76  77  78  79  80  81  82  83  84  85  86  87  88  89  90\n",
       " [91]  91  92  93  94  95  96  97  98  99 100 101 102 103 104 105 106 107 108\n",
       "[109] 109 110 111 112 113 114 115 116 117 118 119 120 121 122 123 124 125 126\n",
       "[127] 127 128 129 130 131 132 133 134 135 136 137 138 139 140 141 142 143 144\n",
       "[145] 145 146 147 148 149 150\n"
      ]
     },
     "metadata": {},
     "output_type": "display_data"
    }
   ],
   "source": [
    "attributes(iris)"
   ]
  },
  {
   "cell_type": "code",
   "execution_count": 4,
   "metadata": {},
   "outputs": [
    {
     "data": {
      "text/html": [
       "<dl>\n",
       "\t<dt>$levels</dt>\n",
       "\t\t<dd><ol class=list-inline>\n",
       "\t<li>'a'</li>\n",
       "\t<li>'b'</li>\n",
       "\t<li>'c'</li>\n",
       "\t<li>'d'</li>\n",
       "\t<li>'e'</li>\n",
       "\t<li>'f'</li>\n",
       "\t<li>'g'</li>\n",
       "\t<li>'h'</li>\n",
       "\t<li>'i'</li>\n",
       "\t<li>'j'</li>\n",
       "\t<li>'k'</li>\n",
       "\t<li>'l'</li>\n",
       "\t<li>'m'</li>\n",
       "\t<li>'n'</li>\n",
       "\t<li>'o'</li>\n",
       "\t<li>'p'</li>\n",
       "\t<li>'q'</li>\n",
       "\t<li>'r'</li>\n",
       "\t<li>'s'</li>\n",
       "\t<li>'t'</li>\n",
       "\t<li>'u'</li>\n",
       "\t<li>'v'</li>\n",
       "\t<li>'w'</li>\n",
       "\t<li>'x'</li>\n",
       "\t<li>'y'</li>\n",
       "\t<li>'z'</li>\n",
       "</ol>\n",
       "</dd>\n",
       "\t<dt>$class</dt>\n",
       "\t\t<dd>'factor'</dd>\n",
       "</dl>\n"
      ],
      "text/latex": [
       "\\begin{description}\n",
       "\\item[\\$levels] \\begin{enumerate*}\n",
       "\\item 'a'\n",
       "\\item 'b'\n",
       "\\item 'c'\n",
       "\\item 'd'\n",
       "\\item 'e'\n",
       "\\item 'f'\n",
       "\\item 'g'\n",
       "\\item 'h'\n",
       "\\item 'i'\n",
       "\\item 'j'\n",
       "\\item 'k'\n",
       "\\item 'l'\n",
       "\\item 'm'\n",
       "\\item 'n'\n",
       "\\item 'o'\n",
       "\\item 'p'\n",
       "\\item 'q'\n",
       "\\item 'r'\n",
       "\\item 's'\n",
       "\\item 't'\n",
       "\\item 'u'\n",
       "\\item 'v'\n",
       "\\item 'w'\n",
       "\\item 'x'\n",
       "\\item 'y'\n",
       "\\item 'z'\n",
       "\\end{enumerate*}\n",
       "\n",
       "\\item[\\$class] 'factor'\n",
       "\\end{description}\n"
      ],
      "text/markdown": [
       "$levels\n",
       ":   1. 'a'\n",
       "2. 'b'\n",
       "3. 'c'\n",
       "4. 'd'\n",
       "5. 'e'\n",
       "6. 'f'\n",
       "7. 'g'\n",
       "8. 'h'\n",
       "9. 'i'\n",
       "10. 'j'\n",
       "11. 'k'\n",
       "12. 'l'\n",
       "13. 'm'\n",
       "14. 'n'\n",
       "15. 'o'\n",
       "16. 'p'\n",
       "17. 'q'\n",
       "18. 'r'\n",
       "19. 's'\n",
       "20. 't'\n",
       "21. 'u'\n",
       "22. 'v'\n",
       "23. 'w'\n",
       "24. 'x'\n",
       "25. 'y'\n",
       "26. 'z'\n",
       "\n",
       "\n",
       "\n",
       "$class\n",
       ":   'factor'\n",
       "\n",
       "\n"
      ],
      "text/plain": [
       "$levels\n",
       " [1] \"a\" \"b\" \"c\" \"d\" \"e\" \"f\" \"g\" \"h\" \"i\" \"j\" \"k\" \"l\" \"m\" \"n\" \"o\" \"p\" \"q\" \"r\" \"s\"\n",
       "[20] \"t\" \"u\" \"v\" \"w\" \"x\" \"y\" \"z\"\n",
       "\n",
       "$class\n",
       "[1] \"factor\"\n"
      ]
     },
     "metadata": {},
     "output_type": "display_data"
    }
   ],
   "source": [
    "attributes(factor(letters))"
   ]
  },
  {
   "cell_type": "markdown",
   "metadata": {},
   "source": [
    "R is very laissez faire when it comes to attributes. It will let you add any attributes that\n",
    "you like to an object (and then it will usually ignore them). The only time R will complain\n",
    "is when a function needs to find an attribute and it is not there."
   ]
  },
  {
   "cell_type": "markdown",
   "metadata": {},
   "source": [
    ">You can add any general attribute to an object with **`attr`**  \n",
    "You can also use **`attr`** to lookup the value of any attribute of an object."
   ]
  },
  {
   "cell_type": "code",
   "execution_count": 23,
   "metadata": {},
   "outputs": [
    {
     "data": {
      "text/html": [
       "<dl>\n",
       "\t<dt>$name</dt>\n",
       "\t\t<dd>'VN Pikachu'</dd>\n",
       "\t<dt>$level</dt>\n",
       "\t\t<dd>31</dd>\n",
       "\t<dt>$clan</dt>\n",
       "\t\t<dd>'VN Champions'</dd>\n",
       "</dl>\n"
      ],
      "text/latex": [
       "\\begin{description}\n",
       "\\item[\\$name] 'VN Pikachu'\n",
       "\\item[\\$level] 31\n",
       "\\item[\\$clan] 'VN Champions'\n",
       "\\end{description}\n"
      ],
      "text/markdown": [
       "$name\n",
       ":   'VN Pikachu'\n",
       "$level\n",
       ":   31\n",
       "$clan\n",
       ":   'VN Champions'\n",
       "\n",
       "\n"
      ],
      "text/plain": [
       "$name\n",
       "[1] \"VN Pikachu\"\n",
       "\n",
       "$level\n",
       "[1] 31\n",
       "\n",
       "$clan\n",
       "[1] \"VN Champions\"\n",
       "\n",
       "attr(,\"game\")\n",
       "[1] \"Tank Force\""
      ]
     },
     "metadata": {},
     "output_type": "display_data"
    }
   ],
   "source": [
    "player <- list(name = 'VN Pikachu', level = 31, clan = 'VN Champions')\n",
    "\n",
    "# set attribute\n",
    "attr(player, 'game') <- 'Tank Force'\n",
    "\n",
    "player"
   ]
  },
  {
   "cell_type": "code",
   "execution_count": 10,
   "metadata": {},
   "outputs": [
    {
     "data": {
      "text/html": [
       "'Tank Force'"
      ],
      "text/latex": [
       "'Tank Force'"
      ],
      "text/markdown": [
       "'Tank Force'"
      ],
      "text/plain": [
       "[1] \"Tank Force\""
      ]
     },
     "metadata": {},
     "output_type": "display_data"
    }
   ],
   "source": [
    "# get the value of attribute 'game'\n",
    "attr(player, 'game')"
   ]
  },
  {
   "cell_type": "code",
   "execution_count": 11,
   "metadata": {},
   "outputs": [
    {
     "data": {
      "text/html": [
       "<dl>\n",
       "\t<dt>$names</dt>\n",
       "\t\t<dd><ol class=list-inline>\n",
       "\t<li>'name'</li>\n",
       "\t<li>'level'</li>\n",
       "\t<li>'clan'</li>\n",
       "</ol>\n",
       "</dd>\n",
       "\t<dt>$game</dt>\n",
       "\t\t<dd>'Tank Force'</dd>\n",
       "</dl>\n"
      ],
      "text/latex": [
       "\\begin{description}\n",
       "\\item[\\$names] \\begin{enumerate*}\n",
       "\\item 'name'\n",
       "\\item 'level'\n",
       "\\item 'clan'\n",
       "\\end{enumerate*}\n",
       "\n",
       "\\item[\\$game] 'Tank Force'\n",
       "\\end{description}\n"
      ],
      "text/markdown": [
       "$names\n",
       ":   1. 'name'\n",
       "2. 'level'\n",
       "3. 'clan'\n",
       "\n",
       "\n",
       "\n",
       "$game\n",
       ":   'Tank Force'\n",
       "\n",
       "\n"
      ],
      "text/plain": [
       "$names\n",
       "[1] \"name\"  \"level\" \"clan\" \n",
       "\n",
       "$game\n",
       "[1] \"Tank Force\"\n"
      ]
     },
     "metadata": {},
     "output_type": "display_data"
    }
   ],
   "source": [
    "# show all attributes\n",
    "attributes(player)"
   ]
  },
  {
   "cell_type": "markdown",
   "metadata": {},
   "source": [
    ">You can set multiple attributes in one step with **`structure`**. This will return a new object."
   ]
  },
  {
   "cell_type": "code",
   "execution_count": 21,
   "metadata": {},
   "outputs": [
    {
     "data": {
      "text/html": [
       "<ol class=list-inline>\n",
       "\t<li>9011</li>\n",
       "\t<li>61023</li>\n",
       "</ol>\n"
      ],
      "text/latex": [
       "\\begin{enumerate*}\n",
       "\\item 9011\n",
       "\\item 61023\n",
       "\\end{enumerate*}\n"
      ],
      "text/markdown": [
       "1. 9011\n",
       "2. 61023\n",
       "\n",
       "\n"
      ],
      "text/plain": [
       "[1]  9011 61023\n",
       "attr(,\"game\")\n",
       "[1] \"tank force\"\n",
       "attr(,\"country\")\n",
       "[1] \"Russian\""
      ]
     },
     "metadata": {},
     "output_type": "display_data"
    }
   ],
   "source": [
    "stat <- c(9011, 61023)\n",
    "\n",
    "# set multiple attributes: game, country\n",
    "stat_with_attr <- structure(stat, game = 'tank force', country = 'Russian')\n",
    "\n",
    "stat_with_attr"
   ]
  },
  {
   "cell_type": "code",
   "execution_count": 22,
   "metadata": {},
   "outputs": [
    {
     "data": {
      "text/html": [
       "<dl>\n",
       "\t<dt>$game</dt>\n",
       "\t\t<dd>'tank force'</dd>\n",
       "\t<dt>$country</dt>\n",
       "\t\t<dd>'Russian'</dd>\n",
       "</dl>\n"
      ],
      "text/latex": [
       "\\begin{description}\n",
       "\\item[\\$game] 'tank force'\n",
       "\\item[\\$country] 'Russian'\n",
       "\\end{description}\n"
      ],
      "text/markdown": [
       "$game\n",
       ":   'tank force'\n",
       "$country\n",
       ":   'Russian'\n",
       "\n",
       "\n"
      ],
      "text/plain": [
       "$game\n",
       "[1] \"tank force\"\n",
       "\n",
       "$country\n",
       "[1] \"Russian\"\n"
      ]
     },
     "metadata": {},
     "output_type": "display_data"
    }
   ],
   "source": [
    "attributes(stat_with_attr)"
   ]
  },
  {
   "cell_type": "markdown",
   "metadata": {},
   "source": [
    "# Generic Functions"
   ]
  },
  {
   "cell_type": "markdown",
   "metadata": {},
   "source": [
    "Genetic functions are functions that do different things in different cases. For example **`print`** is a *generic function*. For each different class (numeric, string, POSIXct, POSIXlt, ...) it will print in a different format."
   ]
  },
  {
   "cell_type": "code",
   "execution_count": 24,
   "metadata": {},
   "outputs": [
    {
     "name": "stdout",
     "output_type": "stream",
     "text": [
      "[1] 5\n"
     ]
    }
   ],
   "source": [
    "print(5)"
   ]
  },
  {
   "cell_type": "code",
   "execution_count": 25,
   "metadata": {},
   "outputs": [
    {
     "name": "stdout",
     "output_type": "stream",
     "text": [
      "[1] \"Hello World!\"\n"
     ]
    }
   ],
   "source": [
    "print('Hello World!')"
   ]
  },
  {
   "cell_type": "code",
   "execution_count": 27,
   "metadata": {},
   "outputs": [
    {
     "name": "stdout",
     "output_type": "stream",
     "text": [
      "[1] \"2001-10-06\"\n"
     ]
    }
   ],
   "source": [
    "print(lubridate::make_date(2001, 10, 06))"
   ]
  },
  {
   "cell_type": "markdown",
   "metadata": {},
   "source": [
    "# Methods"
   ]
  },
  {
   "cell_type": "markdown",
   "metadata": {},
   "source": [
    "When you call `print`, `print` call a special function `UseMethod`:"
   ]
  },
  {
   "cell_type": "code",
   "execution_count": 29,
   "metadata": {},
   "outputs": [
    {
     "data": {
      "text/html": [
       "<pre class=language-r><code>function (x, ...) \n",
       "UseMethod(\"print\")</code></pre>"
      ],
      "text/latex": [
       "\\begin{minted}{r}\n",
       "function (x, ...) \n",
       "UseMethod(\"print\")\n",
       "\\end{minted}"
      ],
      "text/markdown": [
       "```r\n",
       "function (x, ...) \n",
       "UseMethod(\"print\")\n",
       "```"
      ],
      "text/plain": [
       "function (x, ...) \n",
       "UseMethod(\"print\")\n",
       "<bytecode: 0x00000000415a3db8>\n",
       "<environment: namespace:base>"
      ]
     },
     "metadata": {},
     "output_type": "display_data"
    }
   ],
   "source": [
    "print"
   ]
  },
  {
   "cell_type": "code",
   "execution_count": 30,
   "metadata": {},
   "outputs": [
    {
     "data": {
      "text/html": [
       "<pre class=language-r><code>.Primitive(\"UseMethod\")</code></pre>"
      ],
      "text/latex": [
       "\\begin{minted}{r}\n",
       ".Primitive(\"UseMethod\")\n",
       "\\end{minted}"
      ],
      "text/markdown": [
       "```r\n",
       ".Primitive(\"UseMethod\")\n",
       "```"
      ],
      "text/plain": [
       "function (generic, object)  .Primitive(\"UseMethod\")"
      ]
     },
     "metadata": {},
     "output_type": "display_data"
    }
   ],
   "source": [
    "UseMethod"
   ]
  },
  {
   "cell_type": "markdown",
   "metadata": {},
   "source": [
    "`UseMethod` examines the class of the input that you provide for the first argument of\n",
    "`print`, and then passes all of your arguments to a new function designed to handle that\n",
    "class of input. For example, when you give print a POSIXct object, UseMethod will pass\n",
    "all of print’s arguments to `print.POSIXct`. R will then run `print.POSIXct` and return\n",
    "the results."
   ]
  },
  {
   "cell_type": "code",
   "execution_count": 31,
   "metadata": {},
   "outputs": [
    {
     "data": {
      "text/html": [
       "<pre class=language-r><code>function (x, tz = \"\", usetz = TRUE, max = NULL, ...) \n",
       "{\n",
       "<span style=white-space:pre-wrap>    if (is.null(max)) </span>\n",
       "<span style=white-space:pre-wrap>        max &lt;- getOption(\"max.print\", 9999L)</span>\n",
       "<span style=white-space:pre-wrap>    FORM &lt;- if (missing(tz)) </span>\n",
       "<span style=white-space:pre-wrap>        function(z) format(z, usetz = usetz)</span>\n",
       "<span style=white-space:pre-wrap>    else function(z) format(z, tz = tz, usetz = usetz)</span>\n",
       "<span style=white-space:pre-wrap>    if (max &lt; length(x)) {</span>\n",
       "<span style=white-space:pre-wrap>        print(FORM(x[seq_len(max)]), max = max + 1, ...)</span>\n",
       "<span style=white-space:pre-wrap>        cat(\" [ reached 'max' / getOption(\\\"max.print\\\") -- omitted\", </span>\n",
       "<span style=white-space:pre-wrap>            length(x) - max, \"entries ]\\n\")</span>\n",
       "<span style=white-space:pre-wrap>    }</span>\n",
       "<span style=white-space:pre-wrap>    else if (length(x)) </span>\n",
       "<span style=white-space:pre-wrap>        print(FORM(x), max = max, ...)</span>\n",
       "<span style=white-space:pre-wrap>    else cat(class(x)[1L], \"of length 0\\n\")</span>\n",
       "<span style=white-space:pre-wrap>    invisible(x)</span>\n",
       "}</code></pre>"
      ],
      "text/latex": [
       "\\begin{minted}{r}\n",
       "function (x, tz = \"\", usetz = TRUE, max = NULL, ...) \n",
       "\\{\n",
       "    if (is.null(max)) \n",
       "        max <- getOption(\"max.print\", 9999L)\n",
       "    FORM <- if (missing(tz)) \n",
       "        function(z) format(z, usetz = usetz)\n",
       "    else function(z) format(z, tz = tz, usetz = usetz)\n",
       "    if (max < length(x)) \\{\n",
       "        print(FORM(x{[}seq\\_len(max){]}), max = max + 1, ...)\n",
       "        cat(\" {[} reached 'max' / getOption(\\textbackslash{}\"max.print\\textbackslash{}\") -- omitted\", \n",
       "            length(x) - max, \"entries {]}\\textbackslash{}n\")\n",
       "    \\}\n",
       "    else if (length(x)) \n",
       "        print(FORM(x), max = max, ...)\n",
       "    else cat(class(x){[}1L{]}, \"of length 0\\textbackslash{}n\")\n",
       "    invisible(x)\n",
       "\\}\n",
       "\\end{minted}"
      ],
      "text/markdown": [
       "```r\n",
       "function (x, tz = \"\", usetz = TRUE, max = NULL, ...) \n",
       "{\n",
       "    if (is.null(max)) \n",
       "        max <- getOption(\"max.print\", 9999L)\n",
       "    FORM <- if (missing(tz)) \n",
       "        function(z) format(z, usetz = usetz)\n",
       "    else function(z) format(z, tz = tz, usetz = usetz)\n",
       "    if (max < length(x)) {\n",
       "        print(FORM(x[seq_len(max)]), max = max + 1, ...)\n",
       "        cat(\" [ reached 'max' / getOption(\\\"max.print\\\") -- omitted\", \n",
       "            length(x) - max, \"entries ]\\n\")\n",
       "    }\n",
       "    else if (length(x)) \n",
       "        print(FORM(x), max = max, ...)\n",
       "    else cat(class(x)[1L], \"of length 0\\n\")\n",
       "    invisible(x)\n",
       "}\n",
       "```"
      ],
      "text/plain": [
       "function (x, tz = \"\", usetz = TRUE, max = NULL, ...) \n",
       "{\n",
       "    if (is.null(max)) \n",
       "        max <- getOption(\"max.print\", 9999L)\n",
       "    FORM <- if (missing(tz)) \n",
       "        function(z) format(z, usetz = usetz)\n",
       "    else function(z) format(z, tz = tz, usetz = usetz)\n",
       "    if (max < length(x)) {\n",
       "        print(FORM(x[seq_len(max)]), max = max + 1, ...)\n",
       "        cat(\" [ reached 'max' / getOption(\\\"max.print\\\") -- omitted\", \n",
       "            length(x) - max, \"entries ]\\n\")\n",
       "    }\n",
       "    else if (length(x)) \n",
       "        print(FORM(x), max = max, ...)\n",
       "    else cat(class(x)[1L], \"of length 0\\n\")\n",
       "    invisible(x)\n",
       "}\n",
       "<bytecode: 0x0000000004ce6660>\n",
       "<environment: namespace:base>"
      ]
     },
     "metadata": {},
     "output_type": "display_data"
    }
   ],
   "source": [
    "print.POSIXct"
   ]
  },
  {
   "cell_type": "markdown",
   "metadata": {},
   "source": [
    "If you give print a factor object, UseMethod will pass all of print’s arguments to\n",
    "`print.factor`. R will then run `print.factor` and return the results:"
   ]
  },
  {
   "cell_type": "code",
   "execution_count": 32,
   "metadata": {},
   "outputs": [
    {
     "data": {
      "text/html": [
       "<pre class=language-r><code>function (x, quote = FALSE, max.levels = NULL, width = getOption(\"width\"), \n",
       "<span style=white-space:pre-wrap>    ...) </span>\n",
       "{\n",
       "<span style=white-space:pre-wrap>    ord &lt;- is.ordered(x)</span>\n",
       "<span style=white-space:pre-wrap>    if (length(x) == 0L) </span>\n",
       "<span style=white-space:pre-wrap>        cat(if (ord) </span>\n",
       "<span style=white-space:pre-wrap>            \"ordered\"</span>\n",
       "<span style=white-space:pre-wrap>        else \"factor\", \"(0)\\n\", sep = \"\")</span>\n",
       "<span style=white-space:pre-wrap>    else {</span>\n",
       "<span style=white-space:pre-wrap>        xx &lt;- character(length(x))</span>\n",
       "<span style=white-space:pre-wrap>        xx[] &lt;- as.character(x)</span>\n",
       "<span style=white-space:pre-wrap>        keepAttrs &lt;- setdiff(names(attributes(x)), c(\"levels\", </span>\n",
       "<span style=white-space:pre-wrap>            \"class\"))</span>\n",
       "<span style=white-space:pre-wrap>        attributes(xx)[keepAttrs] &lt;- attributes(x)[keepAttrs]</span>\n",
       "<span style=white-space:pre-wrap>        print(xx, quote = quote, ...)</span>\n",
       "<span style=white-space:pre-wrap>    }</span>\n",
       "<span style=white-space:pre-wrap>    maxl &lt;- if (is.null(max.levels)) </span>\n",
       "<span style=white-space:pre-wrap>        TRUE</span>\n",
       "<span style=white-space:pre-wrap>    else max.levels</span>\n",
       "<span style=white-space:pre-wrap>    if (maxl) {</span>\n",
       "<span style=white-space:pre-wrap>        n &lt;- length(lev &lt;- encodeString(levels(x), quote = ifelse(quote, </span>\n",
       "<span style=white-space:pre-wrap>            \"\\\"\", \"\")))</span>\n",
       "<span style=white-space:pre-wrap>        colsep &lt;- if (ord) </span>\n",
       "<span style=white-space:pre-wrap>            \" &lt; \"</span>\n",
       "<span style=white-space:pre-wrap>        else \" \"</span>\n",
       "<span style=white-space:pre-wrap>        T0 &lt;- \"Levels: \"</span>\n",
       "<span style=white-space:pre-wrap>        if (is.logical(maxl)) </span>\n",
       "<span style=white-space:pre-wrap>            maxl &lt;- {</span>\n",
       "<span style=white-space:pre-wrap>                width &lt;- width - (nchar(T0, \"w\") + 3L + 1L + </span>\n",
       "<span style=white-space:pre-wrap>                  3L)</span>\n",
       "<span style=white-space:pre-wrap>                lenl &lt;- cumsum(nchar(lev, \"w\") + nchar(colsep, </span>\n",
       "<span style=white-space:pre-wrap>                  \"w\"))</span>\n",
       "<span style=white-space:pre-wrap>                if (n &lt;= 1L || lenl[n] &lt;= width) </span>\n",
       "<span style=white-space:pre-wrap>                  n</span>\n",
       "<span style=white-space:pre-wrap>                else max(1L, which.max(lenl &gt; width) - 1L)</span>\n",
       "<span style=white-space:pre-wrap>            }</span>\n",
       "<span style=white-space:pre-wrap>        drop &lt;- n &gt; maxl</span>\n",
       "<span style=white-space:pre-wrap>        cat(if (drop) </span>\n",
       "<span style=white-space:pre-wrap>            paste(format(n), \"\"), T0, paste(if (drop) </span>\n",
       "<span style=white-space:pre-wrap>            c(lev[1L:max(1, maxl - 1)], \"...\", if (maxl &gt; 1) lev[n])</span>\n",
       "<span style=white-space:pre-wrap>        else lev, collapse = colsep), \"\\n\", sep = \"\")</span>\n",
       "<span style=white-space:pre-wrap>    }</span>\n",
       "<span style=white-space:pre-wrap>    if (!isTRUE(val &lt;- .valid.factor(x))) </span>\n",
       "<span style=white-space:pre-wrap>        warning(val)</span>\n",
       "<span style=white-space:pre-wrap>    invisible(x)</span>\n",
       "}</code></pre>"
      ],
      "text/latex": [
       "\\begin{minted}{r}\n",
       "function (x, quote = FALSE, max.levels = NULL, width = getOption(\"width\"), \n",
       "    ...) \n",
       "\\{\n",
       "    ord <- is.ordered(x)\n",
       "    if (length(x) == 0L) \n",
       "        cat(if (ord) \n",
       "            \"ordered\"\n",
       "        else \"factor\", \"(0)\\textbackslash{}n\", sep = \"\")\n",
       "    else \\{\n",
       "        xx <- character(length(x))\n",
       "        xx{[}{]} <- as.character(x)\n",
       "        keepAttrs <- setdiff(names(attributes(x)), c(\"levels\", \n",
       "            \"class\"))\n",
       "        attributes(xx){[}keepAttrs{]} <- attributes(x){[}keepAttrs{]}\n",
       "        print(xx, quote = quote, ...)\n",
       "    \\}\n",
       "    maxl <- if (is.null(max.levels)) \n",
       "        TRUE\n",
       "    else max.levels\n",
       "    if (maxl) \\{\n",
       "        n <- length(lev <- encodeString(levels(x), quote = ifelse(quote, \n",
       "            \"\\textbackslash{}\"\", \"\")))\n",
       "        colsep <- if (ord) \n",
       "            \" < \"\n",
       "        else \" \"\n",
       "        T0 <- \"Levels: \"\n",
       "        if (is.logical(maxl)) \n",
       "            maxl <- \\{\n",
       "                width <- width - (nchar(T0, \"w\") + 3L + 1L + \n",
       "                  3L)\n",
       "                lenl <- cumsum(nchar(lev, \"w\") + nchar(colsep, \n",
       "                  \"w\"))\n",
       "                if (n <= 1L \\textbar{}\\textbar{} lenl{[}n{]} <= width) \n",
       "                  n\n",
       "                else max(1L, which.max(lenl > width) - 1L)\n",
       "            \\}\n",
       "        drop <- n > maxl\n",
       "        cat(if (drop) \n",
       "            paste(format(n), \"\"), T0, paste(if (drop) \n",
       "            c(lev{[}1L:max(1, maxl - 1){]}, \"...\", if (maxl > 1) lev{[}n{]})\n",
       "        else lev, collapse = colsep), \"\\textbackslash{}n\", sep = \"\")\n",
       "    \\}\n",
       "    if (!isTRUE(val <- .valid.factor(x))) \n",
       "        warning(val)\n",
       "    invisible(x)\n",
       "\\}\n",
       "\\end{minted}"
      ],
      "text/markdown": [
       "```r\n",
       "function (x, quote = FALSE, max.levels = NULL, width = getOption(\"width\"), \n",
       "    ...) \n",
       "{\n",
       "    ord <- is.ordered(x)\n",
       "    if (length(x) == 0L) \n",
       "        cat(if (ord) \n",
       "            \"ordered\"\n",
       "        else \"factor\", \"(0)\\n\", sep = \"\")\n",
       "    else {\n",
       "        xx <- character(length(x))\n",
       "        xx[] <- as.character(x)\n",
       "        keepAttrs <- setdiff(names(attributes(x)), c(\"levels\", \n",
       "            \"class\"))\n",
       "        attributes(xx)[keepAttrs] <- attributes(x)[keepAttrs]\n",
       "        print(xx, quote = quote, ...)\n",
       "    }\n",
       "    maxl <- if (is.null(max.levels)) \n",
       "        TRUE\n",
       "    else max.levels\n",
       "    if (maxl) {\n",
       "        n <- length(lev <- encodeString(levels(x), quote = ifelse(quote, \n",
       "            \"\\\"\", \"\")))\n",
       "        colsep <- if (ord) \n",
       "            \" < \"\n",
       "        else \" \"\n",
       "        T0 <- \"Levels: \"\n",
       "        if (is.logical(maxl)) \n",
       "            maxl <- {\n",
       "                width <- width - (nchar(T0, \"w\") + 3L + 1L + \n",
       "                  3L)\n",
       "                lenl <- cumsum(nchar(lev, \"w\") + nchar(colsep, \n",
       "                  \"w\"))\n",
       "                if (n <= 1L || lenl[n] <= width) \n",
       "                  n\n",
       "                else max(1L, which.max(lenl > width) - 1L)\n",
       "            }\n",
       "        drop <- n > maxl\n",
       "        cat(if (drop) \n",
       "            paste(format(n), \"\"), T0, paste(if (drop) \n",
       "            c(lev[1L:max(1, maxl - 1)], \"...\", if (maxl > 1) lev[n])\n",
       "        else lev, collapse = colsep), \"\\n\", sep = \"\")\n",
       "    }\n",
       "    if (!isTRUE(val <- .valid.factor(x))) \n",
       "        warning(val)\n",
       "    invisible(x)\n",
       "}\n",
       "```"
      ],
      "text/plain": [
       "function (x, quote = FALSE, max.levels = NULL, width = getOption(\"width\"), \n",
       "    ...) \n",
       "{\n",
       "    ord <- is.ordered(x)\n",
       "    if (length(x) == 0L) \n",
       "        cat(if (ord) \n",
       "            \"ordered\"\n",
       "        else \"factor\", \"(0)\\n\", sep = \"\")\n",
       "    else {\n",
       "        xx <- character(length(x))\n",
       "        xx[] <- as.character(x)\n",
       "        keepAttrs <- setdiff(names(attributes(x)), c(\"levels\", \n",
       "            \"class\"))\n",
       "        attributes(xx)[keepAttrs] <- attributes(x)[keepAttrs]\n",
       "        print(xx, quote = quote, ...)\n",
       "    }\n",
       "    maxl <- if (is.null(max.levels)) \n",
       "        TRUE\n",
       "    else max.levels\n",
       "    if (maxl) {\n",
       "        n <- length(lev <- encodeString(levels(x), quote = ifelse(quote, \n",
       "            \"\\\"\", \"\")))\n",
       "        colsep <- if (ord) \n",
       "            \" < \"\n",
       "        else \" \"\n",
       "        T0 <- \"Levels: \"\n",
       "        if (is.logical(maxl)) \n",
       "            maxl <- {\n",
       "                width <- width - (nchar(T0, \"w\") + 3L + 1L + \n",
       "                  3L)\n",
       "                lenl <- cumsum(nchar(lev, \"w\") + nchar(colsep, \n",
       "                  \"w\"))\n",
       "                if (n <= 1L || lenl[n] <= width) \n",
       "                  n\n",
       "                else max(1L, which.max(lenl > width) - 1L)\n",
       "            }\n",
       "        drop <- n > maxl\n",
       "        cat(if (drop) \n",
       "            paste(format(n), \"\"), T0, paste(if (drop) \n",
       "            c(lev[1L:max(1, maxl - 1)], \"...\", if (maxl > 1) lev[n])\n",
       "        else lev, collapse = colsep), \"\\n\", sep = \"\")\n",
       "    }\n",
       "    if (!isTRUE(val <- .valid.factor(x))) \n",
       "        warning(val)\n",
       "    invisible(x)\n",
       "}\n",
       "<bytecode: 0x00000000054a7980>\n",
       "<environment: namespace:base>"
      ]
     },
     "metadata": {},
     "output_type": "display_data"
    }
   ],
   "source": [
    "print.factor"
   ]
  },
  {
   "cell_type": "markdown",
   "metadata": {},
   "source": [
    "`print.POSIXct` and `print.factor` are called methods of print. "
   ]
  },
  {
   "cell_type": "markdown",
   "metadata": {},
   "source": [
    ">You can see which methods exist for a generic function by calling **`methods`** on the function."
   ]
  },
  {
   "cell_type": "code",
   "execution_count": 33,
   "metadata": {},
   "outputs": [
    {
     "data": {
      "text/plain": [
       "  [1] print.acf*                                          \n",
       "  [2] print.AES*                                          \n",
       "  [3] print.anova*                                        \n",
       "  [4] print.aov*                                          \n",
       "  [5] print.aovlist*                                      \n",
       "  [6] print.ar*                                           \n",
       "  [7] print.Arima*                                        \n",
       "  [8] print.arima0*                                       \n",
       "  [9] print.AsIs                                          \n",
       " [10] print.aspell*                                       \n",
       " [11] print.aspell_inspect_context*                       \n",
       " [12] print.bibentry*                                     \n",
       " [13] print.Bibtex*                                       \n",
       " [14] print.browseVignettes*                              \n",
       " [15] print.by                                            \n",
       " [16] print.bytes*                                        \n",
       " [17] print.changedFiles*                                 \n",
       " [18] print.check_code_usage_in_package*                  \n",
       " [19] print.check_compiled_code*                          \n",
       " [20] print.check_demo_index*                             \n",
       " [21] print.check_depdef*                                 \n",
       " [22] print.check_details*                                \n",
       " [23] print.check_details_changes*                        \n",
       " [24] print.check_doi_db*                                 \n",
       " [25] print.check_dotInternal*                            \n",
       " [26] print.check_make_vars*                              \n",
       " [27] print.check_nonAPI_calls*                           \n",
       " [28] print.check_package_code_assign_to_globalenv*       \n",
       " [29] print.check_package_code_attach*                    \n",
       " [30] print.check_package_code_data_into_globalenv*       \n",
       " [31] print.check_package_code_startup_functions*         \n",
       " [32] print.check_package_code_syntax*                    \n",
       " [33] print.check_package_code_unload_functions*          \n",
       " [34] print.check_package_compact_datasets*               \n",
       " [35] print.check_package_CRAN_incoming*                  \n",
       " [36] print.check_package_datasets*                       \n",
       " [37] print.check_package_depends*                        \n",
       " [38] print.check_package_description*                    \n",
       " [39] print.check_package_description_encoding*           \n",
       " [40] print.check_package_license*                        \n",
       " [41] print.check_packages_in_dir*                        \n",
       " [42] print.check_packages_used*                          \n",
       " [43] print.check_po_files*                               \n",
       " [44] print.check_pragmas*                                \n",
       " [45] print.check_Rd_contents*                            \n",
       " [46] print.check_Rd_line_widths*                         \n",
       " [47] print.check_Rd_metadata*                            \n",
       " [48] print.check_Rd_xrefs*                               \n",
       " [49] print.check_RegSym_calls*                           \n",
       " [50] print.check_S3_methods_needing_delayed_registration*\n",
       " [51] print.check_so_symbols*                             \n",
       " [52] print.check_T_and_F*                                \n",
       " [53] print.check_url_db*                                 \n",
       " [54] print.check_vignette_index*                         \n",
       " [55] print.checkDocFiles*                                \n",
       " [56] print.checkDocStyle*                                \n",
       " [57] print.checkFF*                                      \n",
       " [58] print.checkRd*                                      \n",
       " [59] print.checkReplaceFuns*                             \n",
       " [60] print.checkS3methods*                               \n",
       " [61] print.checkTnF*                                     \n",
       " [62] print.checkVignettes*                               \n",
       " [63] print.citation*                                     \n",
       " [64] print.codoc*                                        \n",
       " [65] print.codocClasses*                                 \n",
       " [66] print.codocData*                                    \n",
       " [67] print.colorConverter*                               \n",
       " [68] print.compactPDF*                                   \n",
       " [69] print.condition                                     \n",
       " [70] print.connection                                    \n",
       " [71] print.CRAN_package_reverse_dependencies_and_views*  \n",
       " [72] print.crayon*                                       \n",
       " [73] print.data.frame                                    \n",
       " [74] print.Date                                          \n",
       " [75] print.default                                       \n",
       " [76] print.dendrogram*                                   \n",
       " [77] print.density*                                      \n",
       " [78] print.difftime                                      \n",
       " [79] print.dist*                                         \n",
       " [80] print.Dlist                                         \n",
       " [81] print.DLLInfo                                       \n",
       " [82] print.DLLInfoList                                   \n",
       " [83] print.DLLRegisteredRoutines                         \n",
       " [84] print.dummy_coef*                                   \n",
       " [85] print.dummy_coef_list*                              \n",
       " [86] print.ecdf*                                         \n",
       " [87] print.eigen                                         \n",
       " [88] print.factanal*                                     \n",
       " [89] print.factor                                        \n",
       " [90] print.family*                                       \n",
       " [91] print.fileSnapshot*                                 \n",
       " [92] print.findLineNumResult*                            \n",
       " [93] print.formula*                                      \n",
       " [94] print.ftable*                                       \n",
       " [95] print.function                                      \n",
       " [96] print.getAnywhere*                                  \n",
       " [97] print.glm*                                          \n",
       " [98] print.hclust*                                       \n",
       " [99] print.help_files_with_topic*                        \n",
       "[100] print.hexmode                                       \n",
       "[101] print.HoltWinters*                                  \n",
       "[102] print.hsearch*                                      \n",
       "[103] print.hsearch_db*                                   \n",
       "[104] print.htest*                                        \n",
       "[105] print.html*                                         \n",
       "[106] print.html_dependency*                              \n",
       "[107] print.infl*                                         \n",
       "[108] print.integrate*                                    \n",
       "[109] print.isoreg*                                       \n",
       "[110] print.json*                                         \n",
       "[111] print.kmeans*                                       \n",
       "[112] print.Latex*                                        \n",
       "[113] print.LaTeX*                                        \n",
       "[114] print.libraryIQR                                    \n",
       "[115] print.listof                                        \n",
       "[116] print.lm*                                           \n",
       "[117] print.loadings*                                     \n",
       "[118] print.loess*                                        \n",
       "[119] print.logLik*                                       \n",
       "[120] print.ls_str*                                       \n",
       "[121] print.medpolish*                                    \n",
       "[122] print.MethodsFunction*                              \n",
       "[123] print.mtable*                                       \n",
       "[124] print.NativeRoutineList                             \n",
       "[125] print.news_db*                                      \n",
       "[126] print.nls*                                          \n",
       "[127] print.noquote                                       \n",
       "[128] print.numeric_version                               \n",
       "[129] print.object_size*                                  \n",
       "[130] print.octmode                                       \n",
       "[131] print.packageDescription*                           \n",
       "[132] print.packageInfo                                   \n",
       "[133] print.packageIQR*                                   \n",
       "[134] print.packageStatus*                                \n",
       "[135] print.pairwise.htest*                               \n",
       "[136] print.person*                                       \n",
       "[137] print.POSIXct                                       \n",
       "[138] print.POSIXlt                                       \n",
       "[139] print.power.htest*                                  \n",
       "[140] print.ppr*                                          \n",
       "[141] print.prcomp*                                       \n",
       "[142] print.princomp*                                     \n",
       "[143] print.proc_time                                     \n",
       "[144] print.raster*                                       \n",
       "[145] print.Rcpp_stack_trace*                             \n",
       "[146] print.Rd*                                           \n",
       "[147] print.recordedplot*                                 \n",
       "[148] print.restart                                       \n",
       "[149] print.RGBcolorConverter*                            \n",
       "[150] print.rle                                           \n",
       "[151] print.roman*                                        \n",
       "[152] print.SavedPlots*                                   \n",
       "[153] print.scalar*                                       \n",
       "[154] print.sessionInfo*                                  \n",
       "[155] print.shiny.tag*                                    \n",
       "[156] print.shiny.tag.list*                               \n",
       "[157] print.simple.list                                   \n",
       "[158] print.smooth.spline*                                \n",
       "[159] print.socket*                                       \n",
       "[160] print.srcfile                                       \n",
       "[161] print.srcref                                        \n",
       "[162] print.stepfun*                                      \n",
       "[163] print.stl*                                          \n",
       "[164] print.StructTS*                                     \n",
       "[165] print.subdir_tests*                                 \n",
       "[166] print.summarize_CRAN_check_status*                  \n",
       "[167] print.summary.aov*                                  \n",
       "[168] print.summary.aovlist*                              \n",
       "[169] print.summary.ecdf*                                 \n",
       "[170] print.summary.glm*                                  \n",
       "[171] print.summary.lm*                                   \n",
       "[172] print.summary.loess*                                \n",
       "[173] print.summary.manova*                               \n",
       "[174] print.summary.nls*                                  \n",
       "[175] print.summary.packageStatus*                        \n",
       "[176] print.summary.ppr*                                  \n",
       "[177] print.summary.prcomp*                               \n",
       "[178] print.summary.princomp*                             \n",
       "[179] print.summary.table                                 \n",
       "[180] print.summary.warnings                              \n",
       "[181] print.summaryDefault                                \n",
       "[182] print.table                                         \n",
       "[183] print.tables_aov*                                   \n",
       "[184] print.terms*                                        \n",
       "[185] print.ts*                                           \n",
       "[186] print.tskernel*                                     \n",
       "[187] print.TukeyHSD*                                     \n",
       "[188] print.tukeyline*                                    \n",
       "[189] print.tukeysmooth*                                  \n",
       "[190] print.undoc*                                        \n",
       "[191] print.vignette                                      \n",
       "[192] print.warnings                                      \n",
       "[193] print.xgettext*                                     \n",
       "[194] print.xngettext*                                    \n",
       "[195] print.xtabs*                                        \n",
       "see '?methods' for accessing help and source code"
      ]
     },
     "metadata": {},
     "output_type": "display_data"
    }
   ],
   "source": [
    "# print has almost 200 methods (which gives you an idea of how many classes exist in R):\n",
    "methods(print)"
   ]
  },
  {
   "cell_type": "code",
   "execution_count": 35,
   "metadata": {},
   "outputs": [
    {
     "data": {
      "text/plain": [
       "[1] head.data.frame* head.default*    head.ftable*     head.function*  \n",
       "[5] head.matrix      head.table*     \n",
       "see '?methods' for accessing help and source code"
      ]
     },
     "metadata": {},
     "output_type": "display_data"
    }
   ],
   "source": [
    "methods(head)"
   ]
  },
  {
   "cell_type": "code",
   "execution_count": 37,
   "metadata": {},
   "outputs": [
    {
     "data": {
      "text/plain": [
       " [1] summary.aov                    summary.aovlist*              \n",
       " [3] summary.aspell*                summary.check_packages_in_dir*\n",
       " [5] summary.connection             summary.data.frame            \n",
       " [7] summary.Date                   summary.default               \n",
       " [9] summary.Duration*              summary.ecdf*                 \n",
       "[11] summary.factor                 summary.glm                   \n",
       "[13] summary.infl*                  summary.Interval*             \n",
       "[15] summary.lm                     summary.loess*                \n",
       "[17] summary.manova                 summary.matrix                \n",
       "[19] summary.mlm*                   summary.nls*                  \n",
       "[21] summary.packageStatus*         summary.Period*               \n",
       "[23] summary.POSIXct                summary.POSIXlt               \n",
       "[25] summary.ppr*                   summary.prcomp*               \n",
       "[27] summary.princomp*              summary.proc_time             \n",
       "[29] summary.srcfile                summary.srcref                \n",
       "[31] summary.stepfun                summary.stl*                  \n",
       "[33] summary.table                  summary.tukeysmooth*          \n",
       "[35] summary.warnings              \n",
       "see '?methods' for accessing help and source code"
      ]
     },
     "metadata": {},
     "output_type": "display_data"
    }
   ],
   "source": [
    "methods(summary)"
   ]
  },
  {
   "cell_type": "markdown",
   "metadata": {},
   "source": [
    "### Method dispatch"
   ]
  },
  {
   "cell_type": "markdown",
   "metadata": {},
   "source": [
    "To write a method for a *generic function* to handle a specific class, use:  \n",
    "```r\n",
    "generic_function_name.class_name <- function(...) {...}\n",
    "```"
   ]
  },
  {
   "cell_type": "markdown",
   "metadata": {},
   "source": [
    "Let's create a class named `allool`:"
   ]
  },
  {
   "cell_type": "code",
   "execution_count": 39,
   "metadata": {},
   "outputs": [],
   "source": [
    "player <- list(name = 'Hadi', level = 35)\n",
    "\n",
    "class(player) <- 'allool'"
   ]
  },
  {
   "cell_type": "markdown",
   "metadata": {},
   "source": [
    "Writing a method for the function `print` that handle class named `allool`:"
   ]
  },
  {
   "cell_type": "code",
   "execution_count": 50,
   "metadata": {},
   "outputs": [],
   "source": [
    "# generic_function_name: print\n",
    "# class_name: allool\n",
    "\n",
    "print.allool = function(x, ...) stringr::str_c('xXx-', x$name, '-xXx(', x$level, ')')"
   ]
  },
  {
   "cell_type": "code",
   "execution_count": 51,
   "metadata": {},
   "outputs": [
    {
     "data": {
      "text/html": [
       "'xXx-Hadi-xXx(35)'"
      ],
      "text/latex": [
       "'xXx-Hadi-xXx(35)'"
      ],
      "text/markdown": [
       "'xXx-Hadi-xXx(35)'"
      ],
      "text/plain": [
       "[1] \"xXx-Hadi-xXx(35)\""
      ]
     },
     "metadata": {},
     "output_type": "display_data"
    }
   ],
   "source": [
    "print(player)"
   ]
  },
  {
   "cell_type": "code",
   "execution_count": 52,
   "metadata": {},
   "outputs": [],
   "source": [
    "# remove method `print.allool` from generic function `print`\n",
    "rm(print.allool)"
   ]
  },
  {
   "cell_type": "markdown",
   "metadata": {},
   "source": [
    "If you give print an object whose class or classes do not have a print method, `UseMethod` will call `print.default`, a special method written to handle general cases."
   ]
  },
  {
   "cell_type": "code",
   "execution_count": 54,
   "metadata": {},
   "outputs": [
    {
     "name": "stdout",
     "output_type": "stream",
     "text": [
      "$name\n",
      "[1] \"Hadi\"\n",
      "\n",
      "$level\n",
      "[1] 35\n",
      "\n",
      "attr(,\"class\")\n",
      "[1] \"allool\"\n"
     ]
    }
   ],
   "source": [
    "# we remove print method for class `allool`, so in this case, `UseMethod` will call `print.default`\n",
    "print(player)"
   ]
  },
  {
   "cell_type": "markdown",
   "metadata": {},
   "source": [
    "# Classes"
   ]
  },
  {
   "cell_type": "markdown",
   "metadata": {},
   "source": [
    "You can use the S3 system to make a robust new class of objects in R. Then R will treat\n",
    "objects of your class in a consistent, sensible manner. To make a class:\n",
    "1. Choose a name for your class.\n",
    "2. Assign each instance of your class a `class` attribute.\n",
    "3. Write class methods for any generic function likely to use objects of your class"
   ]
  },
  {
   "cell_type": "code",
   "execution_count": 58,
   "metadata": {},
   "outputs": [
    {
     "data": {
      "text/plain": [
       " [1] [             [[            [[<-          [<-           all.equal    \n",
       " [6] as.character  as.data.frame as.Date       as.list       as.logical   \n",
       "[11] as.POSIXlt    as.vector     coerce        Compare       droplevels   \n",
       "[16] format        initialize    is.na<-       length<-      levels<-     \n",
       "[21] Math          Ops           plot          print         relevel      \n",
       "[26] relist        rep           show          slotsFromS3   summary      \n",
       "[31] Summary       xtfrm        \n",
       "see '?methods' for accessing help and source code"
      ]
     },
     "metadata": {},
     "output_type": "display_data"
    }
   ],
   "source": [
    "# every methods written for class factor\n",
    "# Notice that methods will not be able to show you methods that come in an unloaded R package:\n",
    "methods(class = 'factor')"
   ]
  },
  {
   "cell_type": "markdown",
   "metadata": {},
   "source": [
    "# Further information"
   ]
  },
  {
   "cell_type": "markdown",
   "metadata": {},
   "source": [
    "Read the rest of the chapter(S3 and debugging, S4 and S5, ...) "
   ]
  }
 ],
 "metadata": {
  "kernelspec": {
   "display_name": "R",
   "language": "R",
   "name": "ir"
  },
  "language_info": {
   "codemirror_mode": "r",
   "file_extension": ".r",
   "mimetype": "text/x-r-source",
   "name": "R",
   "pygments_lexer": "r",
   "version": "3.6.1"
  }
 },
 "nbformat": 4,
 "nbformat_minor": 2
}
