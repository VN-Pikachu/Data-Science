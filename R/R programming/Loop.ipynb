{
 "cells": [
  {
   "cell_type": "markdown",
   "metadata": {},
   "source": [
    "# Loop types"
   ]
  },
  {
   "cell_type": "markdown",
   "metadata": {},
   "source": [
    "## repeat loop"
   ]
  },
  {
   "cell_type": "code",
   "execution_count": 6,
   "metadata": {},
   "outputs": [
    {
     "name": "stdout",
     "output_type": "stream",
     "text": [
      "[1] 10\n",
      "[1] 9\n",
      "[1] 8\n",
      "[1] 7\n",
      "[1] 6\n",
      "[1] 5\n",
      "[1] 4\n",
      "[1] 3\n",
      "[1] 2\n",
      "[1] 1\n",
      "[1] 0\n"
     ]
    }
   ],
   "source": [
    "i = 10\n",
    "repeat {\n",
    "    print(i)\n",
    "    if(i <= 0) break\n",
    "    i = i - 1\n",
    "}"
   ]
  },
  {
   "cell_type": "markdown",
   "metadata": {},
   "source": [
    "## for loop"
   ]
  },
  {
   "cell_type": "code",
   "execution_count": 5,
   "metadata": {},
   "outputs": [
    {
     "name": "stdout",
     "output_type": "stream",
     "text": [
      "[1] 0\n",
      "[1] 1\n",
      "[1] 2\n",
      "[1] 3\n",
      "[1] 4\n",
      "[1] 5\n",
      "[1] 6\n",
      "[1] 7\n",
      "[1] 8\n",
      "[1] 9\n",
      "[1] 10\n"
     ]
    }
   ],
   "source": [
    "for(i in 0:10) {\n",
    "    print(i)\n",
    "}"
   ]
  },
  {
   "cell_type": "code",
   "execution_count": 4,
   "metadata": {},
   "outputs": [
    {
     "name": "stdout",
     "output_type": "stream",
     "text": [
      "[1] \"VN Pikachu\"\n",
      "[1] \"Morino Nanako\"\n"
     ]
    }
   ],
   "source": [
    "names <- c('VN Pikachu', 'Morino Nanako')\n",
    "for (value in names) {\n",
    "    print(value)\n",
    "}"
   ]
  },
  {
   "cell_type": "markdown",
   "metadata": {},
   "source": [
    "## while loop"
   ]
  },
  {
   "cell_type": "code",
   "execution_count": 2,
   "metadata": {},
   "outputs": [
    {
     "name": "stdout",
     "output_type": "stream",
     "text": [
      "[1] 10\n",
      "[1] 9\n",
      "[1] 8\n",
      "[1] 7\n",
      "[1] 6\n",
      "[1] 5\n",
      "[1] 4\n",
      "[1] 3\n",
      "[1] 2\n",
      "[1] 1\n",
      "[1] 0\n"
     ]
    }
   ],
   "source": [
    "i <- 10\n",
    "while(i >= 0) {\n",
    "    print(i)\n",
    "    i = i - 1\n",
    "}"
   ]
  },
  {
   "cell_type": "markdown",
   "metadata": {},
   "source": [
    "# Loop control statements"
   ]
  },
  {
   "cell_type": "markdown",
   "metadata": {},
   "source": [
    "## break"
   ]
  },
  {
   "cell_type": "code",
   "execution_count": 7,
   "metadata": {},
   "outputs": [
    {
     "name": "stdout",
     "output_type": "stream",
     "text": [
      "[1] 1\n",
      "[1] 2\n",
      "[1] 3\n",
      "[1] 4\n",
      "[1] 5\n"
     ]
    }
   ],
   "source": [
    "for(i in 1:10) {\n",
    "    print(i)\n",
    "    if(i == 5) break\n",
    "}"
   ]
  },
  {
   "cell_type": "markdown",
   "metadata": {},
   "source": [
    "## next"
   ]
  },
  {
   "cell_type": "code",
   "execution_count": 9,
   "metadata": {},
   "outputs": [
    {
     "name": "stdout",
     "output_type": "stream",
     "text": [
      "[1] 1\n",
      "[1] 2\n",
      "[1] 4\n",
      "[1] 5\n",
      "[1] 7\n",
      "[1] 8\n",
      "[1] 10\n"
     ]
    }
   ],
   "source": [
    "for(i in 1:10) {\n",
    "    #skip values that are divisible by 3\n",
    "    if(i %% 3 == 0) \n",
    "        next\n",
    "    print(i)\n",
    "}"
   ]
  },
  {
   "cell_type": "markdown",
   "metadata": {},
   "source": [
    "# Pitfall"
   ]
  },
  {
   "cell_type": "markdown",
   "metadata": {},
   "source": [
    "Use `seq_along(x)` instead of `1:length(x)`"
   ]
  },
  {
   "cell_type": "markdown",
   "metadata": {},
   "source": [
    "because if `length(x) == 0` unexpected bahavior will occur:"
   ]
  },
  {
   "cell_type": "code",
   "execution_count": 3,
   "metadata": {},
   "outputs": [
    {
     "data": {
      "text/html": [
       "<ol class=list-inline>\n",
       "\t<li>1</li>\n",
       "\t<li>0</li>\n",
       "</ol>\n"
      ],
      "text/latex": [
       "\\begin{enumerate*}\n",
       "\\item 1\n",
       "\\item 0\n",
       "\\end{enumerate*}\n"
      ],
      "text/markdown": [
       "1. 1\n",
       "2. 0\n",
       "\n",
       "\n"
      ],
      "text/plain": [
       "[1] 1 0"
      ]
     },
     "metadata": {},
     "output_type": "display_data"
    },
    {
     "name": "stdout",
     "output_type": "stream",
     "text": [
      "integer(0)\n"
     ]
    }
   ],
   "source": [
    "x <- c()\n",
    "\n",
    "1:length(x)\n",
    "\n",
    "print(seq_along(x))"
   ]
  },
  {
   "cell_type": "markdown",
   "metadata": {},
   "source": [
    "Finally, you might encounter problems when iterating over S3 vectors, as loops typically strip the attributes:"
   ]
  },
  {
   "cell_type": "code",
   "execution_count": 4,
   "metadata": {},
   "outputs": [
    {
     "name": "stdout",
     "output_type": "stream",
     "text": [
      "[1] 18262\n",
      "[1] 14610\n"
     ]
    }
   ],
   "source": [
    "xs <- as.Date(c(\"2020-01-01\", \"2010-01-01\"))\n",
    "\n",
    "for(t in xs)\n",
    "    print(t)"
   ]
  },
  {
   "cell_type": "markdown",
   "metadata": {},
   "source": [
    "Work around this by calling [[ yourself:"
   ]
  },
  {
   "cell_type": "code",
   "execution_count": 5,
   "metadata": {},
   "outputs": [
    {
     "name": "stdout",
     "output_type": "stream",
     "text": [
      "[1] \"2020-01-01\"\n",
      "[1] \"2010-01-01\"\n"
     ]
    }
   ],
   "source": [
    "for(i in seq_along(xs))\n",
    "    print(xs[[i`"
   ]
  },
  {
   "cell_type": "markdown",
   "metadata": {},
   "source": [
    "# Exercises"
   ]
  },
  {
   "cell_type": "markdown",
   "metadata": {},
   "source": [
    ">1. When the following code is evaluated, what can you say about the vector being iterated?"
   ]
  },
  {
   "cell_type": "markdown",
   "metadata": {},
   "source": [
    "```r\n",
    "xs <- c(1, 2, 3)\n",
    "for (x in xs) {\n",
    "  xs <- c(xs, x * 2)\n",
    "}\n",
    "xs\n",
    "#> [1] 1 2 3 2 4 6\n",
    "```"
   ]
  },
  {
   "cell_type": "markdown",
   "metadata": {},
   "source": [
    "n this loop `x` takes on the values of the initial `xs` (1, 2 and 3), indicating that it is evaluated just once in the beginning of the loop, not after each iteration. (Otherwise, we would run into an infinite loop.)"
   ]
  },
  {
   "cell_type": "markdown",
   "metadata": {},
   "source": [
    ">2. What does the following code tell you about when the index is updated?"
   ]
  },
  {
   "cell_type": "markdown",
   "metadata": {},
   "source": [
    "```r\n",
    "for (i in 1:3) {\n",
    "  i <- i * 2\n",
    "  print(i) \n",
    "}\n",
    "#> [1] 2\n",
    "#> [1] 4\n",
    "#> [1] 6\n",
    "```"
   ]
  },
  {
   "cell_type": "markdown",
   "metadata": {},
   "source": [
    " In a for loop the index is updated in the beginning of each iteration. Therefore, reassigning the index symbol during one iteration doesn’t affect the following iterations. (Again, we would otherwise run into an infinite loop.)"
   ]
  }
 ],
 "metadata": {
  "kernelspec": {
   "display_name": "R",
   "language": "R",
   "name": "ir"
  },
  "language_info": {
   "codemirror_mode": "r",
   "file_extension": ".r",
   "mimetype": "text/x-r-source",
   "name": "R",
   "pygments_lexer": "r",
   "version": "3.6.1"
  }
 },
 "nbformat": 4,
 "nbformat_minor": 2
}
