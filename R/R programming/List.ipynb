{
 "cells": [
  {
   "cell_type": "markdown",
   "metadata": {},
   "source": [
    "<b style = 'color:red'> `list` if a type of vector (recursive vector)</b>"
   ]
  },
  {
   "cell_type": "markdown",
   "metadata": {},
   "source": [
    "Lists are the R objects which contain elements of different types like − numbers, strings, vectors and another list inside it. A list can also contain a matrix or a function as its elements. List is created using **`list()`** function."
   ]
  },
  {
   "cell_type": "markdown",
   "metadata": {},
   "source": [
    "**Usage**"
   ]
  },
  {
   "cell_type": "markdown",
   "metadata": {},
   "source": [
    "```R\n",
    "list(...)\n",
    "pairlist(...)\n",
    "\n",
    "as.list(x, ...)\n",
    "## S3 method for class 'environment'\n",
    "as.list(x, all.names = FALSE, sorted = FALSE, ...)\n",
    "as.pairlist(x)\n",
    "\n",
    "is.list(x)\n",
    "is.pairlist(x)\n",
    "\n",
    "alist(...)\n",
    "```"
   ]
  },
  {
   "cell_type": "markdown",
   "metadata": {},
   "source": [
    "**Arguments**"
   ]
  },
  {
   "cell_type": "markdown",
   "metadata": {},
   "source": [
    "\n",
    "`...`\t\n",
    "objects, possibly named.\n",
    "\n",
    "`x`\t\n",
    "object to be coerced or tested.\n",
    "\n",
    "`all.names`\t\n",
    "a logical indicating whether to copy all values or (default) only those whose names do not begin with a dot.\n",
    "\n",
    "`sorted`\t\n",
    "a logical indicating whether the names of the resulting list should be sorted (increasingly). Note that this is somewhat costly, but may be useful for comparison of environments."
   ]
  },
  {
   "cell_type": "markdown",
   "metadata": {},
   "source": [
    "# Creating a list"
   ]
  },
  {
   "cell_type": "code",
   "execution_count": 1,
   "metadata": {},
   "outputs": [
    {
     "data": {
      "text/html": [
       "<ol>\n",
       "\t<li>'VN Pikachu'</li>\n",
       "\t<li>31</li>\n",
       "\t<li><ol class=list-inline>\n",
       "\t<li>57832</li>\n",
       "\t<li>2799</li>\n",
       "</ol>\n",
       "</li>\n",
       "</ol>\n"
      ],
      "text/latex": [
       "\\begin{enumerate}\n",
       "\\item 'VN Pikachu'\n",
       "\\item 31\n",
       "\\item \\begin{enumerate*}\n",
       "\\item 57832\n",
       "\\item 2799\n",
       "\\end{enumerate*}\n",
       "\n",
       "\\end{enumerate}\n"
      ],
      "text/markdown": [
       "1. 'VN Pikachu'\n",
       "2. 31\n",
       "3. 1. 57832\n",
       "2. 2799\n",
       "\n",
       "\n",
       "\n",
       "\n",
       "\n"
      ],
      "text/plain": [
       "[[1]]\n",
       "[1] \"VN Pikachu\"\n",
       "\n",
       "[[2]]\n",
       "[1] 31\n",
       "\n",
       "[[3]]\n",
       "[1] 57832  2799\n"
      ]
     },
     "metadata": {},
     "output_type": "display_data"
    }
   ],
   "source": [
    "#attribute-free\n",
    "player = list('VN Pikachu', 31, c(57832, 2799))\n",
    "player"
   ]
  },
  {
   "cell_type": "code",
   "execution_count": 2,
   "metadata": {},
   "outputs": [
    {
     "data": {
      "text/html": [
       "<dl>\n",
       "\t<dt>$name</dt>\n",
       "\t\t<dd>'VN Pikachu'</dd>\n",
       "\t<dt>$level</dt>\n",
       "\t\t<dd>31</dd>\n",
       "\t<dt>$stats</dt>\n",
       "\t\t<dd><ol class=list-inline>\n",
       "\t<li>57832</li>\n",
       "\t<li>2799</li>\n",
       "</ol>\n",
       "</dd>\n",
       "</dl>\n"
      ],
      "text/latex": [
       "\\begin{description}\n",
       "\\item[\\$name] 'VN Pikachu'\n",
       "\\item[\\$level] 31\n",
       "\\item[\\$stats] \\begin{enumerate*}\n",
       "\\item 57832\n",
       "\\item 2799\n",
       "\\end{enumerate*}\n",
       "\n",
       "\\end{description}\n"
      ],
      "text/markdown": [
       "$name\n",
       ":   'VN Pikachu'\n",
       "$level\n",
       ":   31\n",
       "$stats\n",
       ":   1. 57832\n",
       "2. 2799\n",
       "\n",
       "\n",
       "\n",
       "\n",
       "\n"
      ],
      "text/plain": [
       "$name\n",
       "[1] \"VN Pikachu\"\n",
       "\n",
       "$level\n",
       "[1] 31\n",
       "\n",
       "$stats\n",
       "[1] 57832  2799\n"
      ]
     },
     "metadata": {},
     "output_type": "display_data"
    }
   ],
   "source": [
    "#list with attributes\n",
    "player <- list(name = 'VN Pikachu', level = 31, stats = c(57832, 2799))\n",
    "player"
   ]
  },
  {
   "cell_type": "code",
   "execution_count": 3,
   "metadata": {},
   "outputs": [
    {
     "data": {
      "text/html": [
       "<ol>\n",
       "\t<li>NULL</li>\n",
       "\t<li>NULL</li>\n",
       "\t<li>NULL</li>\n",
       "\t<li>NULL</li>\n",
       "\t<li>NULL</li>\n",
       "</ol>\n"
      ],
      "text/latex": [
       "\\begin{enumerate}\n",
       "\\item NULL\n",
       "\\item NULL\n",
       "\\item NULL\n",
       "\\item NULL\n",
       "\\item NULL\n",
       "\\end{enumerate}\n"
      ],
      "text/markdown": [
       "1. NULL\n",
       "2. NULL\n",
       "3. NULL\n",
       "4. NULL\n",
       "5. NULL\n",
       "\n",
       "\n"
      ],
      "text/plain": [
       "[[1]]\n",
       "NULL\n",
       "\n",
       "[[2]]\n",
       "NULL\n",
       "\n",
       "[[3]]\n",
       "NULL\n",
       "\n",
       "[[4]]\n",
       "NULL\n",
       "\n",
       "[[5]]\n",
       "NULL\n"
      ]
     },
     "metadata": {},
     "output_type": "display_data"
    }
   ],
   "source": [
    "## \"pre-allocate\" an empty list of length 5\n",
    "vector(\"list\", 5)"
   ]
  },
  {
   "cell_type": "markdown",
   "metadata": {},
   "source": [
    "A very useful tool for working with lists is **`str()`** because it focusses on the structure, not the contents."
   ]
  },
  {
   "cell_type": "code",
   "execution_count": 4,
   "metadata": {},
   "outputs": [
    {
     "name": "stdout",
     "output_type": "stream",
     "text": [
      "List of 3\n",
      " $ name : chr \"VN Pikachu\"\n",
      " $ level: num 31\n",
      " $ stats: num [1:2] 57832 2799\n"
     ]
    }
   ],
   "source": [
    "str(player)"
   ]
  },
  {
   "cell_type": "markdown",
   "metadata": {},
   "source": [
    "# Naming list elements"
   ]
  },
  {
   "cell_type": "markdown",
   "metadata": {},
   "source": [
    "the list elements can be given names and they can be accessed using these names."
   ]
  },
  {
   "cell_type": "code",
   "execution_count": 4,
   "metadata": {},
   "outputs": [
    {
     "data": {
      "text/html": [
       "<dl>\n",
       "\t<dt>$Name</dt>\n",
       "\t\t<dd>'VN Pikachu'</dd>\n",
       "\t<dt>$Level</dt>\n",
       "\t\t<dd>31</dd>\n",
       "\t<dt>$Stats</dt>\n",
       "\t\t<dd><ol class=list-inline>\n",
       "\t<li>57832</li>\n",
       "\t<li>2799</li>\n",
       "</ol>\n",
       "</dd>\n",
       "</dl>\n"
      ],
      "text/latex": [
       "\\begin{description}\n",
       "\\item[\\$Name] 'VN Pikachu'\n",
       "\\item[\\$Level] 31\n",
       "\\item[\\$Stats] \\begin{enumerate*}\n",
       "\\item 57832\n",
       "\\item 2799\n",
       "\\end{enumerate*}\n",
       "\n",
       "\\end{description}\n"
      ],
      "text/markdown": [
       "$Name\n",
       ":   'VN Pikachu'\n",
       "$Level\n",
       ":   31\n",
       "$Stats\n",
       ":   1. 57832\n",
       "2. 2799\n",
       "\n",
       "\n",
       "\n",
       "\n",
       "\n"
      ],
      "text/plain": [
       "$Name\n",
       "[1] \"VN Pikachu\"\n",
       "\n",
       "$Level\n",
       "[1] 31\n",
       "\n",
       "$Stats\n",
       "[1] 57832  2799\n"
      ]
     },
     "metadata": {},
     "output_type": "display_data"
    }
   ],
   "source": [
    "names(player) <- c('Name', 'Level', 'Stats')\n",
    "player"
   ]
  },
  {
   "cell_type": "markdown",
   "metadata": {},
   "source": [
    "# Accessing list elements"
   ]
  },
  {
   "cell_type": "markdown",
   "metadata": {},
   "source": [
    "### By name"
   ]
  },
  {
   "cell_type": "code",
   "execution_count": 5,
   "metadata": {},
   "outputs": [
    {
     "data": {
      "text/html": [
       "'VN Pikachu'"
      ],
      "text/latex": [
       "'VN Pikachu'"
      ],
      "text/markdown": [
       "'VN Pikachu'"
      ],
      "text/plain": [
       "[1] \"VN Pikachu\""
      ]
     },
     "metadata": {},
     "output_type": "display_data"
    }
   ],
   "source": [
    "player$Name"
   ]
  },
  {
   "cell_type": "code",
   "execution_count": 6,
   "metadata": {},
   "outputs": [
    {
     "data": {
      "text/html": [
       "<ol class=list-inline>\n",
       "\t<li>57832</li>\n",
       "\t<li>2799</li>\n",
       "</ol>\n"
      ],
      "text/latex": [
       "\\begin{enumerate*}\n",
       "\\item 57832\n",
       "\\item 2799\n",
       "\\end{enumerate*}\n"
      ],
      "text/markdown": [
       "1. 57832\n",
       "2. 2799\n",
       "\n",
       "\n"
      ],
      "text/plain": [
       "[1] 57832  2799"
      ]
     },
     "metadata": {},
     "output_type": "display_data"
    }
   ],
   "source": [
    "player$Stats"
   ]
  },
  {
   "cell_type": "markdown",
   "metadata": {},
   "source": [
    "### By index"
   ]
  },
  {
   "cell_type": "markdown",
   "metadata": {},
   "source": [
    "<b style = 'color:red'>Like **`Vector`**</b>"
   ]
  },
  {
   "cell_type": "code",
   "execution_count": 12,
   "metadata": {},
   "outputs": [
    {
     "data": {
      "text/html": [
       "<dl>\n",
       "\t<dt>[[1]]</dt>\n",
       "\t\t<dd>'VN Champions'</dd>\n",
       "\t<dt>$level</dt>\n",
       "\t\t<dd>7</dd>\n",
       "\t<dt>[[3]]</dt>\n",
       "\t\t<dd><ol class=list-inline>\n",
       "\t<li>24</li>\n",
       "\t<li>25</li>\n",
       "</ol>\n",
       "</dd>\n",
       "\t<dt>[[4]]</dt>\n",
       "\t\t<dd>TRUE</dd>\n",
       "</dl>\n"
      ],
      "text/latex": [
       "\\begin{description}\n",
       "\\item[{[[1]]}] 'VN Champions'\n",
       "\\item[\\$level] 7\n",
       "\\item[{[[3]]}] \\begin{enumerate*}\n",
       "\\item 24\n",
       "\\item 25\n",
       "\\end{enumerate*}\n",
       "\n",
       "\\item[{[[4]]}] TRUE\n",
       "\\end{description}\n"
      ],
      "text/markdown": [
       "[[1]]\n",
       ":   'VN Champions'\n",
       "$level\n",
       ":   7\n",
       "[[3]]\n",
       ":   1. 24\n",
       "2. 25\n",
       "\n",
       "\n",
       "\n",
       "[[4]]\n",
       ":   TRUE\n",
       "\n",
       "\n"
      ],
      "text/plain": [
       "[[1]]\n",
       "[1] \"VN Champions\"\n",
       "\n",
       "$level\n",
       "[1] 7\n",
       "\n",
       "[[3]]\n",
       "[1] 24 25\n",
       "\n",
       "[[4]]\n",
       "[1] TRUE\n"
      ]
     },
     "metadata": {},
     "output_type": "display_data"
    }
   ],
   "source": [
    "clan = list('VN Champions', level = 7, c(24, 25), TRUE)\n",
    "clan"
   ]
  },
  {
   "cell_type": "code",
   "execution_count": 13,
   "metadata": {},
   "outputs": [
    {
     "name": "stdout",
     "output_type": "stream",
     "text": [
      "[[1]]\n",
      "[1] \"VN Champions\"\n",
      "\n",
      "$level\n",
      "[1] 7\n",
      "\n",
      "[[3]]\n",
      "[1] 24 25\n",
      "\n",
      "[[4]]\n",
      "[1] TRUE\n",
      "\n"
     ]
    }
   ],
   "source": [
    "print(clan)"
   ]
  },
  {
   "cell_type": "markdown",
   "metadata": {},
   "source": [
    "- `[[` extracts a single component from a list. It removes a level of hierarchy from the list."
   ]
  },
  {
   "cell_type": "code",
   "execution_count": 15,
   "metadata": {},
   "outputs": [
    {
     "data": {
      "text/html": [
       "7"
      ],
      "text/latex": [
       "7"
      ],
      "text/markdown": [
       "7"
      ],
      "text/plain": [
       "[1] 7"
      ]
     },
     "metadata": {},
     "output_type": "display_data"
    }
   ],
   "source": [
    "# Access a single element\n",
    "clan[[2]]"
   ]
  },
  {
   "cell_type": "markdown",
   "metadata": {},
   "source": [
    "- `[` extracts a sub-list. The result will always be a list.\n",
    "\n"
   ]
  },
  {
   "cell_type": "code",
   "execution_count": 11,
   "metadata": {},
   "outputs": [
    {
     "data": {
      "text/html": [
       "<ol>\n",
       "\t<li><ol class=list-inline>\n",
       "\t<li>24</li>\n",
       "\t<li>25</li>\n",
       "</ol>\n",
       "</li>\n",
       "</ol>\n"
      ],
      "text/latex": [
       "\\begin{enumerate}\n",
       "\\item \\begin{enumerate*}\n",
       "\\item 24\n",
       "\\item 25\n",
       "\\end{enumerate*}\n",
       "\n",
       "\\end{enumerate}\n"
      ],
      "text/markdown": [
       "1. 1. 24\n",
       "2. 25\n",
       "\n",
       "\n",
       "\n",
       "\n",
       "\n"
      ],
      "text/plain": [
       "[[1]]\n",
       "[1] 24 25\n"
      ]
     },
     "metadata": {},
     "output_type": "display_data"
    },
    {
     "name": "stdout",
     "output_type": "stream",
     "text": [
      "List of 1\n",
      " $ : num [1:2] 24 25\n"
     ]
    }
   ],
   "source": [
    "#integer indexing, this return a list\n",
    "clan[3]\n",
    "\n",
    "str(clan[3])"
   ]
  },
  {
   "cell_type": "code",
   "execution_count": 9,
   "metadata": {},
   "outputs": [
    {
     "data": {
      "text/html": [
       "<ol>\n",
       "\t<li>'VN Champions'</li>\n",
       "\t<li><ol class=list-inline>\n",
       "\t<li>24</li>\n",
       "\t<li>25</li>\n",
       "</ol>\n",
       "</li>\n",
       "</ol>\n"
      ],
      "text/latex": [
       "\\begin{enumerate}\n",
       "\\item 'VN Champions'\n",
       "\\item \\begin{enumerate*}\n",
       "\\item 24\n",
       "\\item 25\n",
       "\\end{enumerate*}\n",
       "\n",
       "\\end{enumerate}\n"
      ],
      "text/markdown": [
       "1. 'VN Champions'\n",
       "2. 1. 24\n",
       "2. 25\n",
       "\n",
       "\n",
       "\n",
       "\n",
       "\n"
      ],
      "text/plain": [
       "[[1]]\n",
       "[1] \"VN Champions\"\n",
       "\n",
       "[[2]]\n",
       "[1] 24 25\n"
      ]
     },
     "metadata": {},
     "output_type": "display_data"
    }
   ],
   "source": [
    "#multiple integer indexing, return a list\n",
    "clan[c(1,3)]"
   ]
  },
  {
   "cell_type": "code",
   "execution_count": 10,
   "metadata": {},
   "outputs": [
    {
     "data": {
      "text/html": [
       "<ol>\n",
       "\t<li>7</li>\n",
       "\t<li><ol class=list-inline>\n",
       "\t<li>24</li>\n",
       "\t<li>25</li>\n",
       "</ol>\n",
       "</li>\n",
       "\t<li>TRUE</li>\n",
       "</ol>\n"
      ],
      "text/latex": [
       "\\begin{enumerate}\n",
       "\\item 7\n",
       "\\item \\begin{enumerate*}\n",
       "\\item 24\n",
       "\\item 25\n",
       "\\end{enumerate*}\n",
       "\n",
       "\\item TRUE\n",
       "\\end{enumerate}\n"
      ],
      "text/markdown": [
       "1. 7\n",
       "2. 1. 24\n",
       "2. 25\n",
       "\n",
       "\n",
       "\n",
       "3. TRUE\n",
       "\n",
       "\n"
      ],
      "text/plain": [
       "[[1]]\n",
       "[1] 7\n",
       "\n",
       "[[2]]\n",
       "[1] 24 25\n",
       "\n",
       "[[3]]\n",
       "[1] TRUE\n"
      ]
     },
     "metadata": {},
     "output_type": "display_data"
    }
   ],
   "source": [
    "#negative indexing\n",
    "clan[-1]"
   ]
  },
  {
   "cell_type": "code",
   "execution_count": 11,
   "metadata": {},
   "outputs": [
    {
     "data": {
      "text/html": [
       "<ol>\n",
       "\t<li>'VN Champions'</li>\n",
       "\t<li><ol class=list-inline>\n",
       "\t<li>24</li>\n",
       "\t<li>25</li>\n",
       "</ol>\n",
       "</li>\n",
       "</ol>\n"
      ],
      "text/latex": [
       "\\begin{enumerate}\n",
       "\\item 'VN Champions'\n",
       "\\item \\begin{enumerate*}\n",
       "\\item 24\n",
       "\\item 25\n",
       "\\end{enumerate*}\n",
       "\n",
       "\\end{enumerate}\n"
      ],
      "text/markdown": [
       "1. 'VN Champions'\n",
       "2. 1. 24\n",
       "2. 25\n",
       "\n",
       "\n",
       "\n",
       "\n",
       "\n"
      ],
      "text/plain": [
       "[[1]]\n",
       "[1] \"VN Champions\"\n",
       "\n",
       "[[2]]\n",
       "[1] 24 25\n"
      ]
     },
     "metadata": {},
     "output_type": "display_data"
    }
   ],
   "source": [
    "#multiple negative indexing\n",
    "clan[c(-2, -4)]"
   ]
  },
  {
   "cell_type": "code",
   "execution_count": 12,
   "metadata": {},
   "outputs": [
    {
     "data": {
      "text/html": [
       "<ol>\n",
       "\t<li>'VN Champions'</li>\n",
       "\t<li>TRUE</li>\n",
       "</ol>\n"
      ],
      "text/latex": [
       "\\begin{enumerate}\n",
       "\\item 'VN Champions'\n",
       "\\item TRUE\n",
       "\\end{enumerate}\n"
      ],
      "text/markdown": [
       "1. 'VN Champions'\n",
       "2. TRUE\n",
       "\n",
       "\n"
      ],
      "text/plain": [
       "[[1]]\n",
       "[1] \"VN Champions\"\n",
       "\n",
       "[[2]]\n",
       "[1] TRUE\n"
      ]
     },
     "metadata": {},
     "output_type": "display_data"
    }
   ],
   "source": [
    "#boolean indexing\n",
    "clan[c(TRUE, FALSE, FALSE, TRUE)]"
   ]
  },
  {
   "cell_type": "markdown",
   "metadata": {},
   "source": [
    "# Slicing"
   ]
  },
  {
   "cell_type": "code",
   "execution_count": 13,
   "metadata": {},
   "outputs": [
    {
     "data": {
      "text/html": [
       "<ol>\n",
       "\t<li>'VN Champions'</li>\n",
       "\t<li>7</li>\n",
       "\t<li><ol class=list-inline>\n",
       "\t<li>24</li>\n",
       "\t<li>25</li>\n",
       "</ol>\n",
       "</li>\n",
       "</ol>\n"
      ],
      "text/latex": [
       "\\begin{enumerate}\n",
       "\\item 'VN Champions'\n",
       "\\item 7\n",
       "\\item \\begin{enumerate*}\n",
       "\\item 24\n",
       "\\item 25\n",
       "\\end{enumerate*}\n",
       "\n",
       "\\end{enumerate}\n"
      ],
      "text/markdown": [
       "1. 'VN Champions'\n",
       "2. 7\n",
       "3. 1. 24\n",
       "2. 25\n",
       "\n",
       "\n",
       "\n",
       "\n",
       "\n"
      ],
      "text/plain": [
       "[[1]]\n",
       "[1] \"VN Champions\"\n",
       "\n",
       "[[2]]\n",
       "[1] 7\n",
       "\n",
       "[[3]]\n",
       "[1] 24 25\n"
      ]
     },
     "metadata": {},
     "output_type": "display_data"
    }
   ],
   "source": [
    "clan[1:3]"
   ]
  },
  {
   "cell_type": "markdown",
   "metadata": {},
   "source": [
    "# Manipulation"
   ]
  },
  {
   "cell_type": "markdown",
   "metadata": {},
   "source": [
    "### Adding, deleting and updating"
   ]
  },
  {
   "cell_type": "markdown",
   "metadata": {},
   "source": [
    " We can add and delete elements only at the end of a list  \n",
    " But we can update any element."
   ]
  },
  {
   "cell_type": "code",
   "execution_count": 14,
   "metadata": {},
   "outputs": [
    {
     "data": {
      "text/html": [
       "<ol>\n",
       "\t<li>'VN Champions'</li>\n",
       "\t<li>7</li>\n",
       "\t<li><ol class=list-inline>\n",
       "\t<li>24</li>\n",
       "\t<li>25</li>\n",
       "</ol>\n",
       "</li>\n",
       "\t<li>TRUE</li>\n",
       "</ol>\n"
      ],
      "text/latex": [
       "\\begin{enumerate}\n",
       "\\item 'VN Champions'\n",
       "\\item 7\n",
       "\\item \\begin{enumerate*}\n",
       "\\item 24\n",
       "\\item 25\n",
       "\\end{enumerate*}\n",
       "\n",
       "\\item TRUE\n",
       "\\end{enumerate}\n"
      ],
      "text/markdown": [
       "1. 'VN Champions'\n",
       "2. 7\n",
       "3. 1. 24\n",
       "2. 25\n",
       "\n",
       "\n",
       "\n",
       "4. TRUE\n",
       "\n",
       "\n"
      ],
      "text/plain": [
       "[[1]]\n",
       "[1] \"VN Champions\"\n",
       "\n",
       "[[2]]\n",
       "[1] 7\n",
       "\n",
       "[[3]]\n",
       "[1] 24 25\n",
       "\n",
       "[[4]]\n",
       "[1] TRUE\n"
      ]
     },
     "metadata": {},
     "output_type": "display_data"
    }
   ],
   "source": [
    "clan"
   ]
  },
  {
   "cell_type": "code",
   "execution_count": 15,
   "metadata": {},
   "outputs": [
    {
     "data": {
      "text/html": [
       "<ol>\n",
       "\t<li>'VN Champions'</li>\n",
       "\t<li>7</li>\n",
       "\t<li><ol class=list-inline>\n",
       "\t<li>24</li>\n",
       "\t<li>25</li>\n",
       "</ol>\n",
       "</li>\n",
       "\t<li>TRUE</li>\n",
       "\t<li>44000</li>\n",
       "</ol>\n"
      ],
      "text/latex": [
       "\\begin{enumerate}\n",
       "\\item 'VN Champions'\n",
       "\\item 7\n",
       "\\item \\begin{enumerate*}\n",
       "\\item 24\n",
       "\\item 25\n",
       "\\end{enumerate*}\n",
       "\n",
       "\\item TRUE\n",
       "\\item 44000\n",
       "\\end{enumerate}\n"
      ],
      "text/markdown": [
       "1. 'VN Champions'\n",
       "2. 7\n",
       "3. 1. 24\n",
       "2. 25\n",
       "\n",
       "\n",
       "\n",
       "4. TRUE\n",
       "5. 44000\n",
       "\n",
       "\n"
      ],
      "text/plain": [
       "[[1]]\n",
       "[1] \"VN Champions\"\n",
       "\n",
       "[[2]]\n",
       "[1] 7\n",
       "\n",
       "[[3]]\n",
       "[1] 24 25\n",
       "\n",
       "[[4]]\n",
       "[1] TRUE\n",
       "\n",
       "[[5]]\n",
       "[1] 44000\n"
      ]
     },
     "metadata": {},
     "output_type": "display_data"
    }
   ],
   "source": [
    "#adding\n",
    "clan[5] = 44000L\n",
    "\n",
    "\n",
    "clan"
   ]
  },
  {
   "cell_type": "markdown",
   "metadata": {},
   "source": [
    "With lists, you can use `x[[i]] <- NULL` to remove a component. "
   ]
  },
  {
   "cell_type": "code",
   "execution_count": 16,
   "metadata": {},
   "outputs": [
    {
     "data": {
      "text/html": [
       "<ol>\n",
       "\t<li>'VN Champions'</li>\n",
       "\t<li>7</li>\n",
       "\t<li><ol class=list-inline>\n",
       "\t<li>24</li>\n",
       "\t<li>25</li>\n",
       "</ol>\n",
       "</li>\n",
       "\t<li>TRUE</li>\n",
       "</ol>\n"
      ],
      "text/latex": [
       "\\begin{enumerate}\n",
       "\\item 'VN Champions'\n",
       "\\item 7\n",
       "\\item \\begin{enumerate*}\n",
       "\\item 24\n",
       "\\item 25\n",
       "\\end{enumerate*}\n",
       "\n",
       "\\item TRUE\n",
       "\\end{enumerate}\n"
      ],
      "text/markdown": [
       "1. 'VN Champions'\n",
       "2. 7\n",
       "3. 1. 24\n",
       "2. 25\n",
       "\n",
       "\n",
       "\n",
       "4. TRUE\n",
       "\n",
       "\n"
      ],
      "text/plain": [
       "[[1]]\n",
       "[1] \"VN Champions\"\n",
       "\n",
       "[[2]]\n",
       "[1] 7\n",
       "\n",
       "[[3]]\n",
       "[1] 24 25\n",
       "\n",
       "[[4]]\n",
       "[1] TRUE\n"
      ]
     },
     "metadata": {},
     "output_type": "display_data"
    }
   ],
   "source": [
    "#deleting\n",
    "clan[5] = NULL\n",
    "\n",
    "clan"
   ]
  },
  {
   "cell_type": "markdown",
   "metadata": {},
   "source": [
    "To add a literal `NULL`, use `x[i] <- list(NULL)`:"
   ]
  },
  {
   "cell_type": "code",
   "execution_count": 2,
   "metadata": {},
   "outputs": [
    {
     "name": "stdout",
     "output_type": "stream",
     "text": [
      "List of 2\n",
      " $ name : chr \"VN Pikachu\"\n",
      " $ level: NULL\n"
     ]
    }
   ],
   "source": [
    "player <- list(name = 'VN Pikachu', level = 31)\n",
    "\n",
    "# set level to NULL, instead of removing it\n",
    "player['level'] <- list(NULL)\n",
    "\n",
    "str(player)"
   ]
  },
  {
   "cell_type": "code",
   "execution_count": 17,
   "metadata": {},
   "outputs": [
    {
     "data": {
      "text/html": [
       "<ol>\n",
       "\t<li>'VN Champions'</li>\n",
       "\t<li>7</li>\n",
       "\t<li><ol class=list-inline>\n",
       "\t<li>24</li>\n",
       "\t<li>25</li>\n",
       "</ol>\n",
       "</li>\n",
       "\t<li>FALSE</li>\n",
       "</ol>\n"
      ],
      "text/latex": [
       "\\begin{enumerate}\n",
       "\\item 'VN Champions'\n",
       "\\item 7\n",
       "\\item \\begin{enumerate*}\n",
       "\\item 24\n",
       "\\item 25\n",
       "\\end{enumerate*}\n",
       "\n",
       "\\item FALSE\n",
       "\\end{enumerate}\n"
      ],
      "text/markdown": [
       "1. 'VN Champions'\n",
       "2. 7\n",
       "3. 1. 24\n",
       "2. 25\n",
       "\n",
       "\n",
       "\n",
       "4. FALSE\n",
       "\n",
       "\n"
      ],
      "text/plain": [
       "[[1]]\n",
       "[1] \"VN Champions\"\n",
       "\n",
       "[[2]]\n",
       "[1] 7\n",
       "\n",
       "[[3]]\n",
       "[1] 24 25\n",
       "\n",
       "[[4]]\n",
       "[1] FALSE\n"
      ]
     },
     "metadata": {},
     "output_type": "display_data"
    }
   ],
   "source": [
    "#updating\n",
    "clan[4] = FALSE\n",
    "\n",
    "clan"
   ]
  },
  {
   "cell_type": "markdown",
   "metadata": {},
   "source": [
    "### Merging list"
   ]
  },
  {
   "cell_type": "markdown",
   "metadata": {},
   "source": [
    "using **`c()`**"
   ]
  },
  {
   "cell_type": "code",
   "execution_count": 18,
   "metadata": {},
   "outputs": [
    {
     "data": {
      "text/html": [
       "<ol>\n",
       "\t<li>'VN Pikachu'</li>\n",
       "\t<li>31</li>\n",
       "\t<li><ol class=list-inline>\n",
       "\t<li>57321</li>\n",
       "\t<li>2799</li>\n",
       "</ol>\n",
       "</li>\n",
       "\t<li>'bac giang vn'</li>\n",
       "\t<li>33</li>\n",
       "\t<li><ol class=list-inline>\n",
       "\t<li>59322</li>\n",
       "\t<li>3031</li>\n",
       "</ol>\n",
       "</li>\n",
       "</ol>\n"
      ],
      "text/latex": [
       "\\begin{enumerate}\n",
       "\\item 'VN Pikachu'\n",
       "\\item 31\n",
       "\\item \\begin{enumerate*}\n",
       "\\item 57321\n",
       "\\item 2799\n",
       "\\end{enumerate*}\n",
       "\n",
       "\\item 'bac giang vn'\n",
       "\\item 33\n",
       "\\item \\begin{enumerate*}\n",
       "\\item 59322\n",
       "\\item 3031\n",
       "\\end{enumerate*}\n",
       "\n",
       "\\end{enumerate}\n"
      ],
      "text/markdown": [
       "1. 'VN Pikachu'\n",
       "2. 31\n",
       "3. 1. 57321\n",
       "2. 2799\n",
       "\n",
       "\n",
       "\n",
       "4. 'bac giang vn'\n",
       "5. 33\n",
       "6. 1. 59322\n",
       "2. 3031\n",
       "\n",
       "\n",
       "\n",
       "\n",
       "\n"
      ],
      "text/plain": [
       "[[1]]\n",
       "[1] \"VN Pikachu\"\n",
       "\n",
       "[[2]]\n",
       "[1] 31\n",
       "\n",
       "[[3]]\n",
       "[1] 57321  2799\n",
       "\n",
       "[[4]]\n",
       "[1] \"bac giang vn\"\n",
       "\n",
       "[[5]]\n",
       "[1] 33\n",
       "\n",
       "[[6]]\n",
       "[1] 59322  3031\n"
      ]
     },
     "metadata": {},
     "output_type": "display_data"
    }
   ],
   "source": [
    "list1 = list('VN Pikachu', 31, c(57321, 2799))\n",
    "list2 = list('bac giang vn', 33, c(59322, 3031))\n",
    "\n",
    "merged.list = c(list1, list2)\n",
    "merged.list"
   ]
  },
  {
   "cell_type": "code",
   "execution_count": 19,
   "metadata": {},
   "outputs": [
    {
     "data": {
      "text/html": [
       "'list'"
      ],
      "text/latex": [
       "'list'"
      ],
      "text/markdown": [
       "'list'"
      ],
      "text/plain": [
       "[1] \"list\""
      ]
     },
     "metadata": {},
     "output_type": "display_data"
    }
   ],
   "source": [
    "class(merged.list)"
   ]
  },
  {
   "cell_type": "markdown",
   "metadata": {},
   "source": [
    "### Converting list to vector"
   ]
  },
  {
   "cell_type": "markdown",
   "metadata": {},
   "source": [
    "**`unlist()`**"
   ]
  },
  {
   "cell_type": "markdown",
   "metadata": {},
   "source": [
    "A list can be converted to a vector so that the elements of the vector can be used for further manipulation. All the arithmetic operations on vectors can be applied after the list is converted into vectors. To do this conversion, we use the **`unlist()`** function. It takes the list as input and produces a vector."
   ]
  },
  {
   "cell_type": "code",
   "execution_count": 20,
   "metadata": {},
   "outputs": [
    {
     "data": {
      "text/html": [
       "<ol class=list-inline>\n",
       "\t<li>'VN Pikachu'</li>\n",
       "\t<li>'31'</li>\n",
       "\t<li>'57321'</li>\n",
       "\t<li>'2799'</li>\n",
       "</ol>\n"
      ],
      "text/latex": [
       "\\begin{enumerate*}\n",
       "\\item 'VN Pikachu'\n",
       "\\item '31'\n",
       "\\item '57321'\n",
       "\\item '2799'\n",
       "\\end{enumerate*}\n"
      ],
      "text/markdown": [
       "1. 'VN Pikachu'\n",
       "2. '31'\n",
       "3. '57321'\n",
       "4. '2799'\n",
       "\n",
       "\n"
      ],
      "text/plain": [
       "[1] \"VN Pikachu\" \"31\"         \"57321\"      \"2799\"      "
      ]
     },
     "metadata": {},
     "output_type": "display_data"
    }
   ],
   "source": [
    "res <- unlist(list1)\n",
    "res"
   ]
  },
  {
   "cell_type": "code",
   "execution_count": 21,
   "metadata": {},
   "outputs": [
    {
     "data": {
      "text/html": [
       "'character'"
      ],
      "text/latex": [
       "'character'"
      ],
      "text/markdown": [
       "'character'"
      ],
      "text/plain": [
       "[1] \"character\""
      ]
     },
     "metadata": {},
     "output_type": "display_data"
    }
   ],
   "source": [
    "class(res)"
   ]
  },
  {
   "cell_type": "markdown",
   "metadata": {},
   "source": [
    "<hr>"
   ]
  },
  {
   "cell_type": "markdown",
   "metadata": {},
   "source": [
    "# Checking List "
   ]
  },
  {
   "cell_type": "markdown",
   "metadata": {},
   "source": [
    "**`is.list()`**"
   ]
  },
  {
   "cell_type": "code",
   "execution_count": 22,
   "metadata": {},
   "outputs": [
    {
     "data": {
      "text/html": [
       "FALSE"
      ],
      "text/latex": [
       "FALSE"
      ],
      "text/markdown": [
       "FALSE"
      ],
      "text/plain": [
       "[1] FALSE"
      ]
     },
     "metadata": {},
     "output_type": "display_data"
    }
   ],
   "source": [
    "is.list(c('VN', 'Pikachu'))"
   ]
  },
  {
   "cell_type": "code",
   "execution_count": 23,
   "metadata": {},
   "outputs": [
    {
     "data": {
      "text/html": [
       "TRUE"
      ],
      "text/latex": [
       "TRUE"
      ],
      "text/markdown": [
       "TRUE"
      ],
      "text/plain": [
       "[1] TRUE"
      ]
     },
     "metadata": {},
     "output_type": "display_data"
    }
   ],
   "source": [
    "is.list(list('VN Pikachu', 35))"
   ]
  },
  {
   "cell_type": "markdown",
   "metadata": {},
   "source": [
    "# Converting to List"
   ]
  },
  {
   "cell_type": "markdown",
   "metadata": {},
   "source": [
    "**`as.list()`**"
   ]
  },
  {
   "cell_type": "code",
   "execution_count": 24,
   "metadata": {},
   "outputs": [
    {
     "data": {
      "text/html": [
       "<ol class=list-inline>\n",
       "\t<li>'VN Pikachu'</li>\n",
       "\t<li>'VN Champions'</li>\n",
       "\t<li>'Viet Nam'</li>\n",
       "</ol>\n"
      ],
      "text/latex": [
       "\\begin{enumerate*}\n",
       "\\item 'VN Pikachu'\n",
       "\\item 'VN Champions'\n",
       "\\item 'Viet Nam'\n",
       "\\end{enumerate*}\n"
      ],
      "text/markdown": [
       "1. 'VN Pikachu'\n",
       "2. 'VN Champions'\n",
       "3. 'Viet Nam'\n",
       "\n",
       "\n"
      ],
      "text/plain": [
       "[1] \"VN Pikachu\"   \"VN Champions\" \"Viet Nam\"    "
      ]
     },
     "metadata": {},
     "output_type": "display_data"
    }
   ],
   "source": [
    "player <- c('VN Pikachu', 'VN Champions', 'Viet Nam')\n",
    "player"
   ]
  },
  {
   "cell_type": "code",
   "execution_count": 25,
   "metadata": {},
   "outputs": [
    {
     "data": {
      "text/html": [
       "<ol>\n",
       "\t<li>'VN Pikachu'</li>\n",
       "\t<li>'VN Champions'</li>\n",
       "\t<li>'Viet Nam'</li>\n",
       "</ol>\n"
      ],
      "text/latex": [
       "\\begin{enumerate}\n",
       "\\item 'VN Pikachu'\n",
       "\\item 'VN Champions'\n",
       "\\item 'Viet Nam'\n",
       "\\end{enumerate}\n"
      ],
      "text/markdown": [
       "1. 'VN Pikachu'\n",
       "2. 'VN Champions'\n",
       "3. 'Viet Nam'\n",
       "\n",
       "\n"
      ],
      "text/plain": [
       "[[1]]\n",
       "[1] \"VN Pikachu\"\n",
       "\n",
       "[[2]]\n",
       "[1] \"VN Champions\"\n",
       "\n",
       "[[3]]\n",
       "[1] \"Viet Nam\"\n"
      ]
     },
     "metadata": {},
     "output_type": "display_data"
    }
   ],
   "source": [
    "as.list(player)"
   ]
  },
  {
   "cell_type": "code",
   "execution_count": 26,
   "metadata": {},
   "outputs": [
    {
     "data": {
      "text/html": [
       "TRUE"
      ],
      "text/latex": [
       "TRUE"
      ],
      "text/markdown": [
       "TRUE"
      ],
      "text/plain": [
       "[1] TRUE"
      ]
     },
     "metadata": {},
     "output_type": "display_data"
    }
   ],
   "source": [
    "is.list(as.list(player))"
   ]
  },
  {
   "cell_type": "markdown",
   "metadata": {},
   "source": [
    "# Attributes "
   ]
  },
  {
   "cell_type": "markdown",
   "metadata": {},
   "source": [
    "Any vector can contain arbitrary additional metadata through its attributes. You can think of attributes as named list of vectors that can be attached to any object. You can get and set individual attribute values with `attr()` or see them all at once with `attributes()`."
   ]
  },
  {
   "cell_type": "code",
   "execution_count": 18,
   "metadata": {},
   "outputs": [
    {
     "data": {
      "text/plain": [
       "NULL"
      ]
     },
     "metadata": {},
     "output_type": "display_data"
    },
    {
     "data": {
      "text/html": [
       "<dl>\n",
       "\t<dt>$name</dt>\n",
       "\t\t<dd>'variable x'</dd>\n",
       "\t<dt>$datatype</dt>\n",
       "\t\t<dd>'integer'</dd>\n",
       "</dl>\n"
      ],
      "text/latex": [
       "\\begin{description}\n",
       "\\item[\\$name] 'variable x'\n",
       "\\item[\\$datatype] 'integer'\n",
       "\\end{description}\n"
      ],
      "text/markdown": [
       "$name\n",
       ":   'variable x'\n",
       "$datatype\n",
       ":   'integer'\n",
       "\n",
       "\n"
      ],
      "text/plain": [
       "$name\n",
       "[1] \"variable x\"\n",
       "\n",
       "$datatype\n",
       "[1] \"integer\"\n"
      ]
     },
     "metadata": {},
     "output_type": "display_data"
    }
   ],
   "source": [
    "x <- 1:10\n",
    "\n",
    "attributes(x)\n",
    "\n",
    "attr(x, 'name') <- 'variable x'\n",
    "\n",
    "attr(x, 'datatype') <- 'integer'\n",
    "\n",
    "attributes(x)"
   ]
  },
  {
   "cell_type": "markdown",
   "metadata": {},
   "source": [
    "There are three very important attributes that are used to implement fundamental parts of R:\n",
    "\n",
    "1. **Names** are used to name the elements of a vector.\n",
    "2. **Dimensions** (dims, for short) make a vector behave like a matrix or array.\n",
    "3. **Class** is used to implement the S3 object oriented system."
   ]
  }
 ],
 "metadata": {
  "kernelspec": {
   "display_name": "R",
   "language": "R",
   "name": "ir"
  },
  "language_info": {
   "codemirror_mode": "r",
   "file_extension": ".r",
   "mimetype": "text/x-r-source",
   "name": "R",
   "pygments_lexer": "r",
   "version": "3.6.1"
  }
 },
 "nbformat": 4,
 "nbformat_minor": 2
}
