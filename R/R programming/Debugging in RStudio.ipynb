{
 "cells": [
  {
   "cell_type": "markdown",
   "metadata": {},
   "source": [
    "<b style = 'color:red'>MUST READ:</b> **Hands-on programming with R** (E. Debugging R code page 211)   \n",
    "\"file:///C:/Books/R/Hands-On%20Programming%20with%20R%20(%20PDFDrive%20).pdf\""
   ]
  },
  {
   "cell_type": "markdown",
   "metadata": {},
   "source": [
    "---\n",
    "* **`traceback()`**\n",
    "\n",
    "\n",
    "* **`browser()`**\n",
    "* Add a breakpoint\n",
    "\n",
    "\n",
    "* **`debug()`**\n",
    "* **`undebug`**\n",
    "* **`isdebugged()`**\n",
    "\n",
    "\n",
    "* **`debugonce()`**\n",
    "\n",
    "\n",
    "* **`trace()`**\n",
    "* **`untrace()`**\n",
    "\n",
    "* **`recover`**"
   ]
  },
  {
   "cell_type": "markdown",
   "metadata": {},
   "source": [
    "---\n",
    "---"
   ]
  },
  {
   "cell_type": "markdown",
   "metadata": {},
   "source": [
    "<img src = './debugging.png'/>"
   ]
  },
  {
   "cell_type": "markdown",
   "metadata": {},
   "source": [
    "# Conditional Handling"
   ]
  },
  {
   "cell_type": "markdown",
   "metadata": {},
   "source": [
    ">**`stop`**: stops execution of the current exppresion and executes an error action. Raise fatal error and force all execution to terminate."
   ]
  },
  {
   "cell_type": "code",
   "execution_count": 7,
   "metadata": {},
   "outputs": [],
   "source": [
    "my_factorial <- function(n) {\n",
    "    if(n < 0) stop('Input must be a non negative number')\n",
    "    print('Calculating...')\n",
    "    factorial(n)\n",
    "}"
   ]
  },
  {
   "cell_type": "code",
   "execution_count": 8,
   "metadata": {},
   "outputs": [
    {
     "name": "stdout",
     "output_type": "stream",
     "text": [
      "[1] \"Calculating...\"\n"
     ]
    },
    {
     "data": {
      "text/html": [
       "6"
      ],
      "text/latex": [
       "6"
      ],
      "text/markdown": [
       "6"
      ],
      "text/plain": [
       "[1] 6"
      ]
     },
     "metadata": {},
     "output_type": "display_data"
    }
   ],
   "source": [
    "my_factorial(3)"
   ]
  },
  {
   "cell_type": "code",
   "execution_count": 10,
   "metadata": {},
   "outputs": [
    {
     "ename": "ERROR",
     "evalue": "Error in my_factorial(-10): Input must be a non negative number\n",
     "output_type": "error",
     "traceback": [
      "Error in my_factorial(-10): Input must be a non negative number\nTraceback:\n",
      "1. my_factorial(-10)",
      "2. stop(\"Input must be a non negative number\")   # at line 2 of file <text>"
     ]
    }
   ],
   "source": [
    "my_factorial(-10)"
   ]
  },
  {
   "cell_type": "markdown",
   "metadata": {},
   "source": [
    ">**`warning`**"
   ]
  },
  {
   "cell_type": "markdown",
   "metadata": {},
   "source": [
    ">**`message`**"
   ]
  },
  {
   "cell_type": "code",
   "execution_count": null,
   "metadata": {},
   "outputs": [],
   "source": []
  }
 ],
 "metadata": {
  "kernelspec": {
   "display_name": "R",
   "language": "R",
   "name": "ir"
  },
  "language_info": {
   "codemirror_mode": "r",
   "file_extension": ".r",
   "mimetype": "text/x-r-source",
   "name": "R",
   "pygments_lexer": "r",
   "version": "3.6.1"
  }
 },
 "nbformat": 4,
 "nbformat_minor": 2
}
