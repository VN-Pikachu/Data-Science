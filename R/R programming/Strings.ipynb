{
 "cells": [
  {
   "cell_type": "markdown",
   "metadata": {},
   "source": [
    "# String Manipulation"
   ]
  },
  {
   "cell_type": "markdown",
   "metadata": {},
   "source": [
    "# Printing strings"
   ]
  },
  {
   "cell_type": "markdown",
   "metadata": {},
   "source": [
    "Beware that the printed representation of a string is not the same as string itself, because the printed representation shows the escapes. To see the raw contents of the string, use `writeLines()`:"
   ]
  },
  {
   "cell_type": "code",
   "execution_count": 1,
   "metadata": {},
   "outputs": [
    {
     "name": "stdout",
     "output_type": "stream",
     "text": [
      "[1] \"\\\\\"\n"
     ]
    }
   ],
   "source": [
    "print('\\\\')"
   ]
  },
  {
   "cell_type": "code",
   "execution_count": 2,
   "metadata": {},
   "outputs": [
    {
     "name": "stdout",
     "output_type": "stream",
     "text": [
      "\\\n"
     ]
    }
   ],
   "source": [
    "writeLines('\\\\')"
   ]
  },
  {
   "cell_type": "markdown",
   "metadata": {},
   "source": [
    "# toString"
   ]
  },
  {
   "cell_type": "markdown",
   "metadata": {},
   "source": [
    "This is a helper function for format to produce a single character string describing an R object.  \n",
    "A character vector of length 1 is returned."
   ]
  },
  {
   "cell_type": "code",
   "execution_count": 22,
   "metadata": {},
   "outputs": [
    {
     "data": {
      "text/html": [
       "'Dirilis, Iron Core'"
      ],
      "text/latex": [
       "'Dirilis, Iron Core'"
      ],
      "text/markdown": [
       "'Dirilis, Iron Core'"
      ],
      "text/plain": [
       "[1] \"Dirilis, Iron Core\""
      ]
     },
     "metadata": {},
     "output_type": "display_data"
    }
   ],
   "source": [
    "clans <- c('Dirilis', 'Iron Core')\n",
    "toString(clans)"
   ]
  },
  {
   "cell_type": "code",
   "execution_count": 23,
   "metadata": {},
   "outputs": [
    {
     "data": {
      "text/html": [
       "'1, 2, 3, 4, 5, 6, 7, 8, 9, 10'"
      ],
      "text/latex": [
       "'1, 2, 3, 4, 5, 6, 7, 8, 9, 10'"
      ],
      "text/markdown": [
       "'1, 2, 3, 4, 5, 6, 7, 8, 9, 10'"
      ],
      "text/plain": [
       "[1] \"1, 2, 3, 4, 5, 6, 7, 8, 9, 10\""
      ]
     },
     "metadata": {},
     "output_type": "display_data"
    }
   ],
   "source": [
    "toString(1:10)"
   ]
  },
  {
   "cell_type": "markdown",
   "metadata": {},
   "source": [
    "# checking string"
   ]
  },
  {
   "cell_type": "markdown",
   "metadata": {},
   "source": [
    "**`is.character`**"
   ]
  },
  {
   "cell_type": "code",
   "execution_count": 45,
   "metadata": {},
   "outputs": [
    {
     "data": {
      "text/html": [
       "TRUE"
      ],
      "text/latex": [
       "TRUE"
      ],
      "text/markdown": [
       "TRUE"
      ],
      "text/plain": [
       "[1] TRUE"
      ]
     },
     "metadata": {},
     "output_type": "display_data"
    }
   ],
   "source": [
    "is.character('3fad')"
   ]
  },
  {
   "cell_type": "code",
   "execution_count": 46,
   "metadata": {},
   "outputs": [
    {
     "data": {
      "text/html": [
       "FALSE"
      ],
      "text/latex": [
       "FALSE"
      ],
      "text/markdown": [
       "FALSE"
      ],
      "text/plain": [
       "[1] FALSE"
      ]
     },
     "metadata": {},
     "output_type": "display_data"
    }
   ],
   "source": [
    "is.character(3 + 2i)"
   ]
  },
  {
   "cell_type": "code",
   "execution_count": 48,
   "metadata": {},
   "outputs": [
    {
     "data": {
      "text/html": [
       "TRUE"
      ],
      "text/latex": [
       "TRUE"
      ],
      "text/markdown": [
       "TRUE"
      ],
      "text/plain": [
       "[1] TRUE"
      ]
     },
     "metadata": {},
     "output_type": "display_data"
    }
   ],
   "source": [
    "is.character(c('1', 'Hello'))"
   ]
  },
  {
   "cell_type": "markdown",
   "metadata": {},
   "source": [
    "# converting to string"
   ]
  },
  {
   "cell_type": "markdown",
   "metadata": {},
   "source": [
    "**`as.character`**"
   ]
  },
  {
   "cell_type": "code",
   "execution_count": 1,
   "metadata": {},
   "outputs": [
    {
     "data": {
      "text/html": [
       "'1'"
      ],
      "text/latex": [
       "'1'"
      ],
      "text/markdown": [
       "'1'"
      ],
      "text/plain": [
       "[1] \"1\""
      ]
     },
     "metadata": {},
     "output_type": "display_data"
    }
   ],
   "source": [
    "as.character(1)"
   ]
  },
  {
   "cell_type": "code",
   "execution_count": 20,
   "metadata": {},
   "outputs": [
    {
     "data": {
      "text/html": [
       "<ol class=list-inline>\n",
       "\t<li>'31'</li>\n",
       "\t<li>'35'</li>\n",
       "\t<li>'30'</li>\n",
       "</ol>\n"
      ],
      "text/latex": [
       "\\begin{enumerate*}\n",
       "\\item '31'\n",
       "\\item '35'\n",
       "\\item '30'\n",
       "\\end{enumerate*}\n"
      ],
      "text/markdown": [
       "1. '31'\n",
       "2. '35'\n",
       "3. '30'\n",
       "\n",
       "\n"
      ],
      "text/plain": [
       "[1] \"31\" \"35\" \"30\""
      ]
     },
     "metadata": {},
     "output_type": "display_data"
    }
   ],
   "source": [
    "levels <- c(31, 35, 30)\n",
    "#vectorize: convert each value to `character` type\n",
    "as.character(levels)"
   ]
  },
  {
   "cell_type": "markdown",
   "metadata": {},
   "source": [
    "## Concatenating strings"
   ]
  },
  {
   "cell_type": "markdown",
   "metadata": {},
   "source": [
    "Concatenate vectors after converting to character."
   ]
  },
  {
   "cell_type": "markdown",
   "metadata": {},
   "source": [
    "```R\n",
    "paste(..., sep = \" \", collapse = NULL)\n",
    "```"
   ]
  },
  {
   "cell_type": "markdown",
   "metadata": {},
   "source": [
    "Parameters:  \n",
    "* **`...`** represents any number of arguments to be combined.\n",
    "\n",
    "* **`sep`** represents any separator between the arguments. It is optional.\n",
    "\n",
    "* **`collapse`** is used to eliminate the space in between two strings. But not the space within two words of one string."
   ]
  },
  {
   "cell_type": "code",
   "execution_count": 1,
   "metadata": {},
   "outputs": [
    {
     "data": {
      "text/html": [
       "'Hello Word'"
      ],
      "text/latex": [
       "'Hello Word'"
      ],
      "text/markdown": [
       "'Hello Word'"
      ],
      "text/plain": [
       "[1] \"Hello Word\""
      ]
     },
     "metadata": {},
     "output_type": "display_data"
    }
   ],
   "source": [
    "paste('Hello', 'Word')"
   ]
  },
  {
   "cell_type": "code",
   "execution_count": 2,
   "metadata": {},
   "outputs": [
    {
     "data": {
      "text/html": [
       "'VN-Pikachu'"
      ],
      "text/latex": [
       "'VN-Pikachu'"
      ],
      "text/markdown": [
       "'VN-Pikachu'"
      ],
      "text/plain": [
       "[1] \"VN-Pikachu\""
      ]
     },
     "metadata": {},
     "output_type": "display_data"
    }
   ],
   "source": [
    "paste('VN', 'Pikachu', sep = '-')"
   ]
  },
  {
   "cell_type": "markdown",
   "metadata": {},
   "source": [
    "<hr>"
   ]
  },
  {
   "cell_type": "code",
   "execution_count": 41,
   "metadata": {},
   "outputs": [
    {
     "data": {
      "text/html": [
       "<ol class=list-inline>\n",
       "\t<li>'1-a'</li>\n",
       "\t<li>'2-b'</li>\n",
       "</ol>\n"
      ],
      "text/latex": [
       "\\begin{enumerate*}\n",
       "\\item '1-a'\n",
       "\\item '2-b'\n",
       "\\end{enumerate*}\n"
      ],
      "text/markdown": [
       "1. '1-a'\n",
       "2. '2-b'\n",
       "\n",
       "\n"
      ],
      "text/plain": [
       "[1] \"1-a\" \"2-b\""
      ]
     },
     "metadata": {},
     "output_type": "display_data"
    }
   ],
   "source": [
    "#vectorize\n",
    "paste(c('1', '2'), c('a', 'b'), sep = '-')"
   ]
  },
  {
   "cell_type": "code",
   "execution_count": 39,
   "metadata": {},
   "outputs": [
    {
     "data": {
      "text/html": [
       "'Hello-R, World-Programming'"
      ],
      "text/latex": [
       "'Hello-R, World-Programming'"
      ],
      "text/markdown": [
       "'Hello-R, World-Programming'"
      ],
      "text/plain": [
       "[1] \"Hello-R, World-Programming\""
      ]
     },
     "metadata": {},
     "output_type": "display_data"
    }
   ],
   "source": [
    "#vectorize, collapse result into a single value\n",
    "paste(c('Hello', 'World'), c('R', 'Programming'), sep = '-', collapse = ', ')"
   ]
  },
  {
   "cell_type": "markdown",
   "metadata": {},
   "source": [
    "# repeating string"
   ]
  },
  {
   "cell_type": "markdown",
   "metadata": {},
   "source": [
    "```R\n",
    "rep(x, ...)\n",
    "\n",
    "rep.int(x, times)\n",
    "\n",
    "rep_len(x, length.out)\n",
    "```"
   ]
  },
  {
   "cell_type": "code",
   "execution_count": 43,
   "metadata": {},
   "outputs": [
    {
     "data": {
      "text/html": [
       "<ol class=list-inline>\n",
       "\t<li>'abc'</li>\n",
       "\t<li>'abc'</li>\n",
       "\t<li>'abc'</li>\n",
       "</ol>\n"
      ],
      "text/latex": [
       "\\begin{enumerate*}\n",
       "\\item 'abc'\n",
       "\\item 'abc'\n",
       "\\item 'abc'\n",
       "\\end{enumerate*}\n"
      ],
      "text/markdown": [
       "1. 'abc'\n",
       "2. 'abc'\n",
       "3. 'abc'\n",
       "\n",
       "\n"
      ],
      "text/plain": [
       "[1] \"abc\" \"abc\" \"abc\""
      ]
     },
     "metadata": {},
     "output_type": "display_data"
    }
   ],
   "source": [
    "rep('abc', 3)"
   ]
  },
  {
   "cell_type": "markdown",
   "metadata": {},
   "source": [
    "## Formatting"
   ]
  },
  {
   "cell_type": "markdown",
   "metadata": {},
   "source": [
    "```R\n",
    "format(x, digits, nsmall, scientific, width, justify = c(\"left\", \"right\", \"centre\", \"none\")) \n",
    "```"
   ]
  },
  {
   "cell_type": "markdown",
   "metadata": {},
   "source": [
    "* **`x`** is the vector input.\n",
    "\n",
    "* **`digits`** is the total number of digits displayed.\n",
    "\n",
    "* **`nsmall`** is the minimum number of digits to the right of the decimal point.\n",
    "\n",
    "* **`scientific`** is set to TRUE to display scientific notation.\n",
    "\n",
    "* **`width`** indicates the minimum width to be displayed by padding blanks in the beginning.\n",
    "\n",
    "* **`justify`** is the display of the string to left, right or center."
   ]
  },
  {
   "cell_type": "code",
   "execution_count": 19,
   "metadata": {},
   "outputs": [
    {
     "data": {
      "text/html": [
       "'123.46'"
      ],
      "text/latex": [
       "'123.46'"
      ],
      "text/markdown": [
       "'123.46'"
      ],
      "text/plain": [
       "[1] \"123.46\""
      ]
     },
     "metadata": {},
     "output_type": "display_data"
    }
   ],
   "source": [
    "## Total number of digits displayed. Last digit rounded off.\n",
    "format(123.4567, digits = 5)"
   ]
  },
  {
   "cell_type": "code",
   "execution_count": 20,
   "metadata": {},
   "outputs": [
    {
     "data": {
      "text/html": [
       "<ol class=list-inline>\n",
       "\t<li>'6.000000e+00'</li>\n",
       "\t<li>'1.314521e+01'</li>\n",
       "</ol>\n"
      ],
      "text/latex": [
       "\\begin{enumerate*}\n",
       "\\item '6.000000e+00'\n",
       "\\item '1.314521e+01'\n",
       "\\end{enumerate*}\n"
      ],
      "text/markdown": [
       "1. '6.000000e+00'\n",
       "2. '1.314521e+01'\n",
       "\n",
       "\n"
      ],
      "text/plain": [
       "[1] \"6.000000e+00\" \"1.314521e+01\""
      ]
     },
     "metadata": {},
     "output_type": "display_data"
    }
   ],
   "source": [
    "## Display numbers in scientific notation.\n",
    "format(c(6, 13.14521), scientific = TRUE)"
   ]
  },
  {
   "cell_type": "code",
   "execution_count": 21,
   "metadata": {},
   "outputs": [
    {
     "data": {
      "text/html": [
       "'1.20000'"
      ],
      "text/latex": [
       "'1.20000'"
      ],
      "text/markdown": [
       "'1.20000'"
      ],
      "text/plain": [
       "[1] \"1.20000\""
      ]
     },
     "metadata": {},
     "output_type": "display_data"
    }
   ],
   "source": [
    "## The minimum number of digits to the right of the decimal point.\n",
    "format(1.2, nsmall = 5)"
   ]
  },
  {
   "cell_type": "code",
   "execution_count": 22,
   "metadata": {},
   "outputs": [
    {
     "data": {
      "text/html": [
       "'6'"
      ],
      "text/latex": [
       "'6'"
      ],
      "text/markdown": [
       "'6'"
      ],
      "text/plain": [
       "[1] \"6\""
      ]
     },
     "metadata": {},
     "output_type": "display_data"
    }
   ],
   "source": [
    "# Format treats everything as a string.\n",
    "format(6)"
   ]
  },
  {
   "cell_type": "code",
   "execution_count": 23,
   "metadata": {},
   "outputs": [
    {
     "data": {
      "text/html": [
       "<span style=white-space:pre-wrap>'    6'</span>"
      ],
      "text/latex": [
       "'    6'"
      ],
      "text/markdown": [
       "<span style=white-space:pre-wrap>'    6'</span>"
      ],
      "text/plain": [
       "[1] \"    6\""
      ]
     },
     "metadata": {},
     "output_type": "display_data"
    }
   ],
   "source": [
    "# Numbers are padded with blank in the beginning for width.\n",
    "format(6, width = 5)"
   ]
  },
  {
   "cell_type": "code",
   "execution_count": 24,
   "metadata": {},
   "outputs": [
    {
     "data": {
      "text/html": [
       "<span style=white-space:pre-wrap>'Pikachu   '</span>"
      ],
      "text/latex": [
       "'Pikachu   '"
      ],
      "text/markdown": [
       "<span style=white-space:pre-wrap>'Pikachu   '</span>"
      ],
      "text/plain": [
       "[1] \"Pikachu   \""
      ]
     },
     "metadata": {},
     "output_type": "display_data"
    }
   ],
   "source": [
    "#left justify string\n",
    "format('Pikachu', width = 10, justify = 'l')"
   ]
  },
  {
   "cell_type": "code",
   "execution_count": 26,
   "metadata": {},
   "outputs": [
    {
     "data": {
      "text/html": [
       "<span style=white-space:pre-wrap>'      -xXx-      '</span>"
      ],
      "text/latex": [
       "'      -xXx-      '"
      ],
      "text/markdown": [
       "<span style=white-space:pre-wrap>'      -xXx-      '</span>"
      ],
      "text/plain": [
       "[1] \"      -xXx-      \""
      ]
     },
     "metadata": {},
     "output_type": "display_data"
    }
   ],
   "source": [
    "#justify string with center\n",
    "format('-xXx-', width = 17, justify = 'c')"
   ]
  },
  {
   "cell_type": "markdown",
   "metadata": {},
   "source": [
    "## Counting the number of characters"
   ]
  },
  {
   "cell_type": "markdown",
   "metadata": {},
   "source": [
    "```R\n",
    "nchar(x)\n",
    "```"
   ]
  },
  {
   "cell_type": "code",
   "execution_count": 27,
   "metadata": {},
   "outputs": [
    {
     "data": {
      "text/html": [
       "10"
      ],
      "text/latex": [
       "10"
      ],
      "text/markdown": [
       "10"
      ],
      "text/plain": [
       "[1] 10"
      ]
     },
     "metadata": {},
     "output_type": "display_data"
    }
   ],
   "source": [
    "nchar('VN Pikachu')"
   ]
  },
  {
   "cell_type": "code",
   "execution_count": 36,
   "metadata": {},
   "outputs": [
    {
     "data": {
      "text/html": [
       "<ol class=list-inline>\n",
       "\t<li>10</li>\n",
       "\t<li>8</li>\n",
       "</ol>\n"
      ],
      "text/latex": [
       "\\begin{enumerate*}\n",
       "\\item 10\n",
       "\\item 8\n",
       "\\end{enumerate*}\n"
      ],
      "text/markdown": [
       "1. 10\n",
       "2. 8\n",
       "\n",
       "\n"
      ],
      "text/plain": [
       "[1] 10  8"
      ]
     },
     "metadata": {},
     "output_type": "display_data"
    }
   ],
   "source": [
    "#vectorize\n",
    "nchar(c('VN Pikachu', 'Tank Cao'))"
   ]
  },
  {
   "cell_type": "markdown",
   "metadata": {},
   "source": [
    "## Changing to upper & lower"
   ]
  },
  {
   "cell_type": "markdown",
   "metadata": {},
   "source": [
    "**`toupper(x)`**, **`tolower(x)`**"
   ]
  },
  {
   "cell_type": "code",
   "execution_count": 31,
   "metadata": {},
   "outputs": [
    {
     "data": {
      "text/html": [
       "'I LOVE U'"
      ],
      "text/latex": [
       "'I LOVE U'"
      ],
      "text/markdown": [
       "'I LOVE U'"
      ],
      "text/plain": [
       "[1] \"I LOVE U\""
      ]
     },
     "metadata": {},
     "output_type": "display_data"
    }
   ],
   "source": [
    "s <- 'i love u'\n",
    "toupper(s)"
   ]
  },
  {
   "cell_type": "code",
   "execution_count": 33,
   "metadata": {},
   "outputs": [
    {
     "data": {
      "text/html": [
       "'i love u'"
      ],
      "text/latex": [
       "'i love u'"
      ],
      "text/markdown": [
       "'i love u'"
      ],
      "text/plain": [
       "[1] \"i love u\""
      ]
     },
     "metadata": {},
     "output_type": "display_data"
    }
   ],
   "source": [
    "s <- 'I LOVE U'\n",
    "tolower(s)"
   ]
  },
  {
   "cell_type": "markdown",
   "metadata": {},
   "source": [
    "## Substring"
   ]
  },
  {
   "cell_type": "markdown",
   "metadata": {},
   "source": [
    "Extract or replace substrings in a character vector."
   ]
  },
  {
   "cell_type": "markdown",
   "metadata": {},
   "source": [
    "**Usage**:"
   ]
  },
  {
   "cell_type": "markdown",
   "metadata": {},
   "source": [
    "```R\n",
    "substr(x, start, stop)\n",
    "substring(text, first, last = 1000000L)\n",
    "substr(x, start, stop) <- value\n",
    "substring(text, first, last = 1000000L) <- value\n",
    "```"
   ]
  },
  {
   "cell_type": "code",
   "execution_count": 6,
   "metadata": {},
   "outputs": [
    {
     "data": {
      "text/html": [
       "'12345'"
      ],
      "text/latex": [
       "'12345'"
      ],
      "text/markdown": [
       "'12345'"
      ],
      "text/plain": [
       "[1] \"12345\""
      ]
     },
     "metadata": {},
     "output_type": "display_data"
    }
   ],
   "source": [
    "s <- '12345'\n",
    "s"
   ]
  },
  {
   "cell_type": "code",
   "execution_count": 7,
   "metadata": {},
   "outputs": [
    {
     "data": {
      "text/html": [
       "'1234'"
      ],
      "text/latex": [
       "'1234'"
      ],
      "text/markdown": [
       "'1234'"
      ],
      "text/plain": [
       "[1] \"1234\""
      ]
     },
     "metadata": {},
     "output_type": "display_data"
    }
   ],
   "source": [
    "substring(s, 1, 4)"
   ]
  },
  {
   "cell_type": "code",
   "execution_count": 8,
   "metadata": {},
   "outputs": [
    {
     "data": {
      "text/html": [
       "'2345'"
      ],
      "text/latex": [
       "'2345'"
      ],
      "text/markdown": [
       "'2345'"
      ],
      "text/plain": [
       "[1] \"2345\""
      ]
     },
     "metadata": {},
     "output_type": "display_data"
    }
   ],
   "source": [
    "substring(s, 2)"
   ]
  },
  {
   "cell_type": "code",
   "execution_count": 15,
   "metadata": {},
   "outputs": [
    {
     "data": {
      "text/html": [
       "<ol class=list-inline>\n",
       "\t<li>'a'</li>\n",
       "\t<li>'b'</li>\n",
       "\t<li>'c'</li>\n",
       "\t<li>'d'</li>\n",
       "\t<li>'e'</li>\n",
       "\t<li>'f'</li>\n",
       "</ol>\n"
      ],
      "text/latex": [
       "\\begin{enumerate*}\n",
       "\\item 'a'\n",
       "\\item 'b'\n",
       "\\item 'c'\n",
       "\\item 'd'\n",
       "\\item 'e'\n",
       "\\item 'f'\n",
       "\\end{enumerate*}\n"
      ],
      "text/markdown": [
       "1. 'a'\n",
       "2. 'b'\n",
       "3. 'c'\n",
       "4. 'd'\n",
       "5. 'e'\n",
       "6. 'f'\n",
       "\n",
       "\n"
      ],
      "text/plain": [
       "[1] \"a\" \"b\" \"c\" \"d\" \"e\" \"f\""
      ]
     },
     "metadata": {},
     "output_type": "display_data"
    }
   ],
   "source": [
    "substring(\"abcdef\", 1:6, 1:6)"
   ]
  },
  {
   "cell_type": "code",
   "execution_count": 17,
   "metadata": {},
   "outputs": [
    {
     "data": {
      "text/html": [
       "<ol class=list-inline>\n",
       "\t<li>'0123'</li>\n",
       "\t<li>'3'</li>\n",
       "</ol>\n"
      ],
      "text/latex": [
       "\\begin{enumerate*}\n",
       "\\item '0123'\n",
       "\\item '3'\n",
       "\\end{enumerate*}\n"
      ],
      "text/markdown": [
       "1. '0123'\n",
       "2. '3'\n",
       "\n",
       "\n"
      ],
      "text/plain": [
       "[1] \"0123\" \"3\"   "
      ]
     },
     "metadata": {},
     "output_type": "display_data"
    }
   ],
   "source": [
    "#vectorize start and stop\n",
    "#start = [1, 4]\n",
    "#stop = [4,4]\n",
    "#result: [substring(v, 1, 4), substring(v, 4, 4)]\n",
    "substring('012345', c(1, 4), c(4, 4))"
   ]
  },
  {
   "cell_type": "code",
   "execution_count": 18,
   "metadata": {},
   "outputs": [
    {
     "data": {
      "text/html": [
       "<ol class=list-inline>\n",
       "\t<li>'01'</li>\n",
       "\t<li>'0123'</li>\n",
       "</ol>\n"
      ],
      "text/latex": [
       "\\begin{enumerate*}\n",
       "\\item '01'\n",
       "\\item '0123'\n",
       "\\end{enumerate*}\n"
      ],
      "text/markdown": [
       "1. '01'\n",
       "2. '0123'\n",
       "\n",
       "\n"
      ],
      "text/plain": [
       "[1] \"01\"   \"0123\""
      ]
     },
     "metadata": {},
     "output_type": "display_data"
    }
   ],
   "source": [
    "#broadcast\n",
    "substring('012345', 0, c(2, 4))"
   ]
  },
  {
   "cell_type": "markdown",
   "metadata": {},
   "source": [
    "<hr>"
   ]
  },
  {
   "cell_type": "code",
   "execution_count": 9,
   "metadata": {},
   "outputs": [
    {
     "data": {
      "text/html": [
       "'12xx5'"
      ],
      "text/latex": [
       "'12xx5'"
      ],
      "text/markdown": [
       "'12xx5'"
      ],
      "text/plain": [
       "[1] \"12xx5\""
      ]
     },
     "metadata": {},
     "output_type": "display_data"
    }
   ],
   "source": [
    "#replacement\n",
    "substring(s, 3, 4) <- 'xx'\n",
    "s"
   ]
  },
  {
   "cell_type": "markdown",
   "metadata": {},
   "source": [
    "<hr>"
   ]
  },
  {
   "cell_type": "code",
   "execution_count": 12,
   "metadata": {},
   "outputs": [
    {
     "data": {
      "text/html": [
       "<ol class=list-inline>\n",
       "\t<li>'VN Pikachu'</li>\n",
       "\t<li>'Tank Cao'</li>\n",
       "\t<li>'Meomeo888'</li>\n",
       "\t<li>'Morino Nanako'</li>\n",
       "\t<li>'quachtinh'</li>\n",
       "</ol>\n"
      ],
      "text/latex": [
       "\\begin{enumerate*}\n",
       "\\item 'VN Pikachu'\n",
       "\\item 'Tank Cao'\n",
       "\\item 'Meomeo888'\n",
       "\\item 'Morino Nanako'\n",
       "\\item 'quachtinh'\n",
       "\\end{enumerate*}\n"
      ],
      "text/markdown": [
       "1. 'VN Pikachu'\n",
       "2. 'Tank Cao'\n",
       "3. 'Meomeo888'\n",
       "4. 'Morino Nanako'\n",
       "5. 'quachtinh'\n",
       "\n",
       "\n"
      ],
      "text/plain": [
       "[1] \"VN Pikachu\"    \"Tank Cao\"      \"Meomeo888\"     \"Morino Nanako\"\n",
       "[5] \"quachtinh\"    "
      ]
     },
     "metadata": {},
     "output_type": "display_data"
    }
   ],
   "source": [
    "#working with a vector of strings\n",
    "names <- c('VN Pikachu', 'Tank Cao', 'Meomeo888', 'Morino Nanako', 'quachtinh')\n",
    "names"
   ]
  },
  {
   "cell_type": "code",
   "execution_count": 13,
   "metadata": {},
   "outputs": [
    {
     "data": {
      "text/html": [
       "<ol class=list-inline>\n",
       "\t<li>'N P'</li>\n",
       "\t<li>'ank'</li>\n",
       "\t<li>'eom'</li>\n",
       "\t<li>'ori'</li>\n",
       "\t<li>'uac'</li>\n",
       "</ol>\n"
      ],
      "text/latex": [
       "\\begin{enumerate*}\n",
       "\\item 'N P'\n",
       "\\item 'ank'\n",
       "\\item 'eom'\n",
       "\\item 'ori'\n",
       "\\item 'uac'\n",
       "\\end{enumerate*}\n"
      ],
      "text/markdown": [
       "1. 'N P'\n",
       "2. 'ank'\n",
       "3. 'eom'\n",
       "4. 'ori'\n",
       "5. 'uac'\n",
       "\n",
       "\n"
      ],
      "text/plain": [
       "[1] \"N P\" \"ank\" \"eom\" \"ori\" \"uac\""
      ]
     },
     "metadata": {},
     "output_type": "display_data"
    }
   ],
   "source": [
    "#vectorize, apply `substr` for each element in string in the vector\n",
    "substr(names, 2, 4)"
   ]
  },
  {
   "cell_type": "markdown",
   "metadata": {},
   "source": [
    "## substr"
   ]
  },
  {
   "cell_type": "markdown",
   "metadata": {},
   "source": [
    "same usage as **`substr`**"
   ]
  },
  {
   "cell_type": "code",
   "execution_count": 3,
   "metadata": {},
   "outputs": [
    {
     "data": {
      "text/html": [
       "'12'"
      ],
      "text/latex": [
       "'12'"
      ],
      "text/markdown": [
       "'12'"
      ],
      "text/plain": [
       "[1] \"12\""
      ]
     },
     "metadata": {},
     "output_type": "display_data"
    }
   ],
   "source": [
    "s <- '12345'\n",
    "substr(s, 1, 2)"
   ]
  },
  {
   "cell_type": "markdown",
   "metadata": {},
   "source": [
    "## strsplit"
   ]
  },
  {
   "cell_type": "markdown",
   "metadata": {},
   "source": [
    "```R\n",
    "strsplit(x, split, fixed = FALSE, perl = FALSE, useBytes = FALSE)\n",
    "```"
   ]
  },
  {
   "cell_type": "markdown",
   "metadata": {},
   "source": [
    "Arguments\n",
    "```R\n",
    "x\t\n",
    "character vector, each element of which is to be split. Other inputs, including a factor, will give an error.\n",
    "\n",
    "split\t\n",
    "character vector (or object which can be coerced to such) containing regular expression(s) (unless fixed = TRUE) to use for splitting. If empty matches occur, in particular if split has length 0, x is split into single characters. If split has length greater than 1, it is re-cycled along x.\n",
    "\n",
    "fixed\t\n",
    "logical. If TRUE match split exactly, otherwise use regular expressions. Has priority over perl.\n",
    "\n",
    "perl\t\n",
    "logical. Should Perl-compatible regexps be used?\n",
    "\n",
    "useBytes\t\n",
    "logical. If TRUE the matching is done byte-by-byte rather than character-by-character, and inputs with marked encodings are not converted. This is forced (with a warning) if any input is found which is marked as \"bytes\" (see Encoding).\n",
    "```"
   ]
  },
  {
   "cell_type": "code",
   "execution_count": 31,
   "metadata": {},
   "outputs": [
    {
     "data": {
      "text/html": [
       "<ol>\n",
       "\t<li><ol class=list-inline>\n",
       "\t<li>'E'</li>\n",
       "\t<li>'v'</li>\n",
       "\t<li>'e'</li>\n",
       "\t<li>'r'</li>\n",
       "\t<li>'y'</li>\n",
       "\t<li>' '</li>\n",
       "\t<li>'s'</li>\n",
       "\t<li>'i'</li>\n",
       "\t<li>'n'</li>\n",
       "\t<li>'g'</li>\n",
       "\t<li>'l'</li>\n",
       "\t<li>'e'</li>\n",
       "\t<li>' '</li>\n",
       "\t<li>'c'</li>\n",
       "\t<li>'h'</li>\n",
       "\t<li>'a'</li>\n",
       "\t<li>'r'</li>\n",
       "\t<li>'a'</li>\n",
       "\t<li>'c'</li>\n",
       "\t<li>'t'</li>\n",
       "\t<li>'e'</li>\n",
       "\t<li>'r'</li>\n",
       "</ol>\n",
       "</li>\n",
       "</ol>\n"
      ],
      "text/latex": [
       "\\begin{enumerate}\n",
       "\\item \\begin{enumerate*}\n",
       "\\item 'E'\n",
       "\\item 'v'\n",
       "\\item 'e'\n",
       "\\item 'r'\n",
       "\\item 'y'\n",
       "\\item ' '\n",
       "\\item 's'\n",
       "\\item 'i'\n",
       "\\item 'n'\n",
       "\\item 'g'\n",
       "\\item 'l'\n",
       "\\item 'e'\n",
       "\\item ' '\n",
       "\\item 'c'\n",
       "\\item 'h'\n",
       "\\item 'a'\n",
       "\\item 'r'\n",
       "\\item 'a'\n",
       "\\item 'c'\n",
       "\\item 't'\n",
       "\\item 'e'\n",
       "\\item 'r'\n",
       "\\end{enumerate*}\n",
       "\n",
       "\\end{enumerate}\n"
      ],
      "text/markdown": [
       "1. 1. 'E'\n",
       "2. 'v'\n",
       "3. 'e'\n",
       "4. 'r'\n",
       "5. 'y'\n",
       "6. ' '\n",
       "7. 's'\n",
       "8. 'i'\n",
       "9. 'n'\n",
       "10. 'g'\n",
       "11. 'l'\n",
       "12. 'e'\n",
       "13. ' '\n",
       "14. 'c'\n",
       "15. 'h'\n",
       "16. 'a'\n",
       "17. 'r'\n",
       "18. 'a'\n",
       "19. 'c'\n",
       "20. 't'\n",
       "21. 'e'\n",
       "22. 'r'\n",
       "\n",
       "\n",
       "\n",
       "\n",
       "\n"
      ],
      "text/plain": [
       "[[1]]\n",
       " [1] \"E\" \"v\" \"e\" \"r\" \"y\" \" \" \"s\" \"i\" \"n\" \"g\" \"l\" \"e\" \" \" \"c\" \"h\" \"a\" \"r\" \"a\" \"c\"\n",
       "[20] \"t\" \"e\" \"r\"\n"
      ]
     },
     "metadata": {},
     "output_type": "display_data"
    }
   ],
   "source": [
    "strsplit('Every single character', NULL)"
   ]
  },
  {
   "cell_type": "code",
   "execution_count": 25,
   "metadata": {},
   "outputs": [
    {
     "data": {
      "text/html": [
       "<ol>\n",
       "\t<li><ol class=list-inline>\n",
       "\t<li>'1'</li>\n",
       "\t<li>'2'</li>\n",
       "\t<li>'3'</li>\n",
       "\t<li>'4'</li>\n",
       "</ol>\n",
       "</li>\n",
       "</ol>\n"
      ],
      "text/latex": [
       "\\begin{enumerate}\n",
       "\\item \\begin{enumerate*}\n",
       "\\item '1'\n",
       "\\item '2'\n",
       "\\item '3'\n",
       "\\item '4'\n",
       "\\end{enumerate*}\n",
       "\n",
       "\\end{enumerate}\n"
      ],
      "text/markdown": [
       "1. 1. '1'\n",
       "2. '2'\n",
       "3. '3'\n",
       "4. '4'\n",
       "\n",
       "\n",
       "\n",
       "\n",
       "\n"
      ],
      "text/plain": [
       "[[1]]\n",
       "[1] \"1\" \"2\" \"3\" \"4\"\n"
      ]
     },
     "metadata": {},
     "output_type": "display_data"
    }
   ],
   "source": [
    "strsplit('1x2x3x4', 'x')"
   ]
  },
  {
   "cell_type": "code",
   "execution_count": 27,
   "metadata": {},
   "outputs": [
    {
     "data": {
      "text/html": [
       "<ol>\n",
       "\t<li><ol class=list-inline>\n",
       "\t<li>''</li>\n",
       "\t<li>''</li>\n",
       "\t<li>''</li>\n",
       "\t<li>''</li>\n",
       "\t<li>''</li>\n",
       "</ol>\n",
       "</li>\n",
       "</ol>\n"
      ],
      "text/latex": [
       "\\begin{enumerate}\n",
       "\\item \\begin{enumerate*}\n",
       "\\item ''\n",
       "\\item ''\n",
       "\\item ''\n",
       "\\item ''\n",
       "\\item ''\n",
       "\\end{enumerate*}\n",
       "\n",
       "\\end{enumerate}\n"
      ],
      "text/markdown": [
       "1. 1. ''\n",
       "2. ''\n",
       "3. ''\n",
       "4. ''\n",
       "5. ''\n",
       "\n",
       "\n",
       "\n",
       "\n",
       "\n"
      ],
      "text/plain": [
       "[[1]]\n",
       "[1] \"\" \"\" \"\" \"\" \"\"\n"
      ]
     },
     "metadata": {},
     "output_type": "display_data"
    }
   ],
   "source": [
    "#remember, fixed = FALSE (default), which mean we are using Regex\n",
    "strsplit('1.2.3', '.')"
   ]
  },
  {
   "cell_type": "code",
   "execution_count": 29,
   "metadata": {},
   "outputs": [
    {
     "data": {
      "text/html": [
       "<ol>\n",
       "\t<li><ol class=list-inline>\n",
       "\t<li>'1'</li>\n",
       "\t<li>'2'</li>\n",
       "\t<li>'3'</li>\n",
       "</ol>\n",
       "</li>\n",
       "</ol>\n"
      ],
      "text/latex": [
       "\\begin{enumerate}\n",
       "\\item \\begin{enumerate*}\n",
       "\\item '1'\n",
       "\\item '2'\n",
       "\\item '3'\n",
       "\\end{enumerate*}\n",
       "\n",
       "\\end{enumerate}\n"
      ],
      "text/markdown": [
       "1. 1. '1'\n",
       "2. '2'\n",
       "3. '3'\n",
       "\n",
       "\n",
       "\n",
       "\n",
       "\n"
      ],
      "text/plain": [
       "[[1]]\n",
       "[1] \"1\" \"2\" \"3\"\n"
      ]
     },
     "metadata": {},
     "output_type": "display_data"
    }
   ],
   "source": [
    "#let's turn off regex mode\n",
    "strsplit('1.2.3', '.', fixed = TRUE)"
   ]
  },
  {
   "cell_type": "markdown",
   "metadata": {},
   "source": [
    "# Pattern Matching and replacement (Regex)"
   ]
  },
  {
   "cell_type": "markdown",
   "metadata": {},
   "source": [
    "**`grep`**, **`sub`**"
   ]
  },
  {
   "cell_type": "code",
   "execution_count": 35,
   "metadata": {},
   "outputs": [],
   "source": [
    "help(sub)"
   ]
  },
  {
   "cell_type": "markdown",
   "metadata": {},
   "source": [
    "```R\n",
    "grep(pattern, x, ignore.case = FALSE, perl = FALSE, value = FALSE,\n",
    "     fixed = FALSE, useBytes = FALSE, invert = FALSE)\n",
    "\n",
    "grepl(pattern, x, ignore.case = FALSE, perl = FALSE,\n",
    "      fixed = FALSE, useBytes = FALSE)\n",
    "\n",
    "sub(pattern, replacement, x, ignore.case = FALSE, perl = FALSE,\n",
    "    fixed = FALSE, useBytes = FALSE)\n",
    "\n",
    "gsub(pattern, replacement, x, ignore.case = FALSE, perl = FALSE,\n",
    "     fixed = FALSE, useBytes = FALSE)\n",
    "\n",
    "regexpr(pattern, text, ignore.case = FALSE, perl = FALSE,\n",
    "        fixed = FALSE, useBytes = FALSE)\n",
    "\n",
    "gregexpr(pattern, text, ignore.case = FALSE, perl = FALSE,\n",
    "         fixed = FALSE, useBytes = FALSE)\n",
    "\n",
    "regexec(pattern, text, ignore.case = FALSE, perl = FALSE,\n",
    "        fixed = FALSE, useBytes = FALSE)\n",
    "```"
   ]
  },
  {
   "cell_type": "code",
   "execution_count": 50,
   "metadata": {},
   "outputs": [],
   "source": [
    "help(grep)"
   ]
  }
 ],
 "metadata": {
  "kernelspec": {
   "display_name": "R",
   "language": "R",
   "name": "ir"
  },
  "language_info": {
   "codemirror_mode": "r",
   "file_extension": ".r",
   "mimetype": "text/x-r-source",
   "name": "R",
   "pygments_lexer": "r",
   "version": "3.6.1"
  }
 },
 "nbformat": 4,
 "nbformat_minor": 2
}
