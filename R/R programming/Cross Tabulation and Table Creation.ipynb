{
 "cells": [
  {
   "cell_type": "markdown",
   "metadata": {},
   "source": [
    "**`table`** uses the cross-classifying factors to build a contingency table of the counts at each combination of factor levels."
   ]
  },
  {
   "cell_type": "markdown",
   "metadata": {},
   "source": [
    "**Usage**"
   ]
  },
  {
   "cell_type": "markdown",
   "metadata": {},
   "source": [
    "```R\n",
    "table(...,\n",
    "      exclude = if (useNA == \"no\") c(NA, NaN),\n",
    "      useNA = c(\"no\", \"ifany\", \"always\"),\n",
    "      dnn = list.names(...), deparse.level = 1)\n",
    "\n",
    "as.table(x, ...)\n",
    "is.table(x)\n",
    "\n",
    "## S3 method for class 'table'\n",
    "as.data.frame(x, row.names = NULL, ...,\n",
    "              responseName = \"Freq\", stringsAsFactors = TRUE,\n",
    "              sep = \"\", base = list(LETTERS))\n",
    "```"
   ]
  },
  {
   "cell_type": "markdown",
   "metadata": {},
   "source": [
    "**Arguments**"
   ]
  },
  {
   "cell_type": "markdown",
   "metadata": {},
   "source": [
    "`...`\t\n",
    "one or more objects which can be interpreted as factors (including character strings), or a list (or data frame) whose components can be so interpreted. (For as.table, arguments passed to specific methods; for as.data.frame, unused.)\n",
    "\n",
    "`exclude`\t\n",
    "levels to remove for all factors in .... If it does not contain NA and useNA is not specified, it implies useNA = \"ifany\". See ‘Details’ for its interpretation for non-factor arguments.\n",
    "\n",
    "`useNA`\t\n",
    "whether to include NA values in the table. See ‘Details’. Can be abbreviated.\n",
    "\n",
    "`dnn`\t\n",
    "the names to be given to the dimensions in the result (the dimnames names).\n",
    "\n",
    "`deparse.level`\t\n",
    "controls how the default dnn is constructed. See ‘Details’.\n",
    "\n",
    "`x`\t\n",
    "an arbitrary R object, or an object inheriting from class \"table\" for the as.data.frame method. Note that as.data.frame.table(x, *) may be called explicitly for non-table x for “reshaping” arrays.\n",
    "\n",
    "`row.names`\t\n",
    "a character vector giving the row names for the data frame.\n",
    "\n",
    "`responseName`\t\n",
    "The name to be used for the column of table entries, usually counts.\n",
    "\n",
    "`stringsAsFactors`\t\n",
    "logical: should the classifying factors be returned as factors (the default) or character vectors?\n",
    "\n",
    "`sep, base`\t\n",
    "passed to provideDimnames."
   ]
  },
  {
   "cell_type": "markdown",
   "metadata": {},
   "source": [
    "# Example"
   ]
  },
  {
   "cell_type": "code",
   "execution_count": 1,
   "metadata": {},
   "outputs": [
    {
     "data": {
      "text/plain": [
       "gender\n",
       "Female   Male \n",
       "     3      2 "
      ]
     },
     "metadata": {},
     "output_type": "display_data"
    }
   ],
   "source": [
    "gender <- c('Male', 'Female', 'Female', 'Male', 'Female')\n",
    "#create a Counter\n",
    "table(gender)"
   ]
  },
  {
   "cell_type": "code",
   "execution_count": 6,
   "metadata": {},
   "outputs": [
    {
     "data": {
      "text/html": [
       "5"
      ],
      "text/latex": [
       "5"
      ],
      "text/markdown": [
       "5"
      ],
      "text/plain": [
       "[1] 5"
      ]
     },
     "metadata": {},
     "output_type": "display_data"
    }
   ],
   "source": [
    "log(1024, base = 4)"
   ]
  },
  {
   "cell_type": "code",
   "execution_count": null,
   "metadata": {},
   "outputs": [],
   "source": []
  }
 ],
 "metadata": {
  "kernelspec": {
   "display_name": "R",
   "language": "R",
   "name": "ir"
  },
  "language_info": {
   "codemirror_mode": "r",
   "file_extension": ".r",
   "mimetype": "text/x-r-source",
   "name": "R",
   "pygments_lexer": "r",
   "version": "4.0.3"
  }
 },
 "nbformat": 4,
 "nbformat_minor": 4
}
