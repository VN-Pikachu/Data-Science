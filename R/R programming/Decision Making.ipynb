{
 "cells": [
  {
   "cell_type": "code",
   "execution_count": 1,
   "metadata": {},
   "outputs": [],
   "source": [
    "level <- 33"
   ]
  },
  {
   "cell_type": "markdown",
   "metadata": {},
   "source": [
    "# if"
   ]
  },
  {
   "cell_type": "code",
   "execution_count": 4,
   "metadata": {},
   "outputs": [
    {
     "name": "stdout",
     "output_type": "stream",
     "text": [
      "[1] \"Army General\"\n"
     ]
    }
   ],
   "source": [
    "if(level > 29) {\n",
    "    print('Army General')\n",
    "}"
   ]
  },
  {
   "cell_type": "markdown",
   "metadata": {},
   "source": [
    "When you use the single argument form without an else statement, if invisibly (Section 6.7.2) returns `NULL` if the condition is `FALSE`. "
   ]
  },
  {
   "cell_type": "code",
   "execution_count": 2,
   "metadata": {},
   "outputs": [
    {
     "data": {
      "text/html": [
       "3"
      ],
      "text/latex": [
       "3"
      ],
      "text/markdown": [
       "3"
      ],
      "text/plain": [
       "[1] 3"
      ]
     },
     "metadata": {},
     "output_type": "display_data"
    },
    {
     "data": {
      "text/plain": [
       "NULL"
      ]
     },
     "metadata": {},
     "output_type": "display_data"
    }
   ],
   "source": [
    "x <- if(T) 3\n",
    "\n",
    "y <- if(F) 3\n",
    "\n",
    "x # 3\n",
    "\n",
    "y # NULL"
   ]
  },
  {
   "cell_type": "markdown",
   "metadata": {},
   "source": [
    "This behavior is useful for functions like `c()`, `paste0`, `stringr::str_c`, ... because it ignores `NULL`"
   ]
  },
  {
   "cell_type": "code",
   "execution_count": 3,
   "metadata": {},
   "outputs": [
    {
     "data": {
      "text/html": [
       "<ol class=list-inline>\n",
       "\t<li>'VN Pikachu'</li>\n",
       "\t<li>'Dr Strange'</li>\n",
       "\t<li>'Tank Cao'</li>\n",
       "</ol>\n"
      ],
      "text/latex": [
       "\\begin{enumerate*}\n",
       "\\item 'VN Pikachu'\n",
       "\\item 'Dr Strange'\n",
       "\\item 'Tank Cao'\n",
       "\\end{enumerate*}\n"
      ],
      "text/markdown": [
       "1. 'VN Pikachu'\n",
       "2. 'Dr Strange'\n",
       "3. 'Tank Cao'\n",
       "\n",
       "\n"
      ],
      "text/plain": [
       "[1] \"VN Pikachu\" \"Dr Strange\" \"Tank Cao\"  "
      ]
     },
     "metadata": {},
     "output_type": "display_data"
    }
   ],
   "source": [
    "c('VN Pikachu', if(T) 'Dr Strange', 'Tank Cao')"
   ]
  },
  {
   "cell_type": "code",
   "execution_count": 4,
   "metadata": {},
   "outputs": [
    {
     "data": {
      "text/html": [
       "<ol class=list-inline>\n",
       "\t<li>'VN Pikachu'</li>\n",
       "\t<li>'Tank Cao'</li>\n",
       "</ol>\n"
      ],
      "text/latex": [
       "\\begin{enumerate*}\n",
       "\\item 'VN Pikachu'\n",
       "\\item 'Tank Cao'\n",
       "\\end{enumerate*}\n"
      ],
      "text/markdown": [
       "1. 'VN Pikachu'\n",
       "2. 'Tank Cao'\n",
       "\n",
       "\n"
      ],
      "text/plain": [
       "[1] \"VN Pikachu\" \"Tank Cao\"  "
      ]
     },
     "metadata": {},
     "output_type": "display_data"
    }
   ],
   "source": [
    "c('VN Pikachu', if(F) 'Dr Strange', 'Tank Cao')"
   ]
  },
  {
   "cell_type": "code",
   "execution_count": 6,
   "metadata": {},
   "outputs": [
    {
     "data": {
      "text/html": [
       "'xXx--xXx'"
      ],
      "text/latex": [
       "'xXx--xXx'"
      ],
      "text/markdown": [
       "'xXx--xXx'"
      ],
      "text/plain": [
       "[1] \"xXx--xXx\""
      ]
     },
     "metadata": {},
     "output_type": "display_data"
    }
   ],
   "source": [
    "stringr::str_c('xXx-', if(F) 'Hadi', '-xXx')"
   ]
  },
  {
   "cell_type": "markdown",
   "metadata": {},
   "source": [
    "# if...else"
   ]
  },
  {
   "cell_type": "code",
   "execution_count": 6,
   "metadata": {},
   "outputs": [],
   "source": [
    "level = 19"
   ]
  },
  {
   "cell_type": "code",
   "execution_count": 7,
   "metadata": {},
   "outputs": [
    {
     "name": "stdout",
     "output_type": "stream",
     "text": [
      "[1] \"Solider\"\n"
     ]
    }
   ],
   "source": [
    "if(level > 29) {\n",
    "    print('Army General')\n",
    "} else if(level > 24) {\n",
    "    print('Colonel')\n",
    "} else {\n",
    "    print('Solider')\n",
    "}"
   ]
  },
  {
   "cell_type": "markdown",
   "metadata": {},
   "source": [
    "# ifelse"
   ]
  },
  {
   "cell_type": "markdown",
   "metadata": {},
   "source": [
    "I recommend using `ifelse()` only when the yes and no vectors are the same type as it is otherwise hard to predict the output type"
   ]
  },
  {
   "cell_type": "code",
   "execution_count": 2,
   "metadata": {},
   "outputs": [
    {
     "data": {
      "text/html": [
       "'Good'"
      ],
      "text/latex": [
       "'Good'"
      ],
      "text/markdown": [
       "'Good'"
      ],
      "text/plain": [
       "[1] \"Good\""
      ]
     },
     "metadata": {},
     "output_type": "display_data"
    }
   ],
   "source": [
    "#like np.where\n",
    "x <- 9.2\n",
    "ifelse(x > 9, 'Good', 'Bad')"
   ]
  },
  {
   "cell_type": "code",
   "execution_count": 4,
   "metadata": {},
   "outputs": [
    {
     "data": {
      "text/html": [
       "<ol class=list-inline>\n",
       "\t<li>'Small'</li>\n",
       "\t<li>'Small'</li>\n",
       "\t<li>'Large'</li>\n",
       "\t<li>'Large'</li>\n",
       "</ol>\n"
      ],
      "text/latex": [
       "\\begin{enumerate*}\n",
       "\\item 'Small'\n",
       "\\item 'Small'\n",
       "\\item 'Large'\n",
       "\\item 'Large'\n",
       "\\end{enumerate*}\n"
      ],
      "text/markdown": [
       "1. 'Small'\n",
       "2. 'Small'\n",
       "3. 'Large'\n",
       "4. 'Large'\n",
       "\n",
       "\n"
      ],
      "text/plain": [
       "[1] \"Small\" \"Small\" \"Large\" \"Large\""
      ]
     },
     "metadata": {},
     "output_type": "display_data"
    }
   ],
   "source": [
    "scores <- c(5, 2, 9, 7)\n",
    "ifelse(scores > 5, 'Large', 'Small')"
   ]
  },
  {
   "cell_type": "markdown",
   "metadata": {},
   "source": [
    "# dplyr::case_when"
   ]
  },
  {
   "cell_type": "markdown",
   "metadata": {},
   "source": [
    "Another vectorised equivalent is the more general `dplyr::case_when()`. It uses a special syntax to allow any number of condition-vector pairs:"
   ]
  },
  {
   "cell_type": "code",
   "execution_count": 8,
   "metadata": {},
   "outputs": [
    {
     "data": {
      "text/html": [
       "<ol class=list-inline>\n",
       "\t<li>'1'</li>\n",
       "\t<li>'2'</li>\n",
       "\t<li>'3'</li>\n",
       "\t<li>'4'</li>\n",
       "\t<li>'fizz'</li>\n",
       "\t<li>'6'</li>\n",
       "\t<li>'buzz'</li>\n",
       "\t<li>'8'</li>\n",
       "\t<li>'9'</li>\n",
       "\t<li>'fizz'</li>\n",
       "</ol>\n"
      ],
      "text/latex": [
       "\\begin{enumerate*}\n",
       "\\item '1'\n",
       "\\item '2'\n",
       "\\item '3'\n",
       "\\item '4'\n",
       "\\item 'fizz'\n",
       "\\item '6'\n",
       "\\item 'buzz'\n",
       "\\item '8'\n",
       "\\item '9'\n",
       "\\item 'fizz'\n",
       "\\end{enumerate*}\n"
      ],
      "text/markdown": [
       "1. '1'\n",
       "2. '2'\n",
       "3. '3'\n",
       "4. '4'\n",
       "5. 'fizz'\n",
       "6. '6'\n",
       "7. 'buzz'\n",
       "8. '8'\n",
       "9. '9'\n",
       "10. 'fizz'\n",
       "\n",
       "\n"
      ],
      "text/plain": [
       " [1] \"1\"    \"2\"    \"3\"    \"4\"    \"fizz\" \"6\"    \"buzz\" \"8\"    \"9\"    \"fizz\""
      ]
     },
     "metadata": {},
     "output_type": "display_data"
    }
   ],
   "source": [
    "x <- 1:10\n",
    "dplyr::case_when(\n",
    "  x %% 35 == 0 ~ \"fizz buzz\",\n",
    "  x %% 5 == 0 ~ \"fizz\",\n",
    "  x %% 7 == 0 ~ \"buzz\",\n",
    "  is.na(x) ~ \"???\",\n",
    "  TRUE ~ as.character(x)\n",
    ")"
   ]
  },
  {
   "cell_type": "markdown",
   "metadata": {},
   "source": [
    "# switch"
   ]
  },
  {
   "cell_type": "markdown",
   "metadata": {},
   "source": [
    "It’s a compact, special purpose equivalent that lets you replace code like:"
   ]
  },
  {
   "cell_type": "markdown",
   "metadata": {},
   "source": [
    "```r\n",
    "x_option <- function(x) {\n",
    "  if (x == \"a\") {\n",
    "    \"option 1\"\n",
    "  } else if (x == \"b\") {\n",
    "    \"option 2\" \n",
    "  } else if (x == \"c\") {\n",
    "    \"option 3\"\n",
    "  } else {\n",
    "    stop(\"Invalid `x` value\")\n",
    "  }\n",
    "}\n",
    "```"
   ]
  },
  {
   "cell_type": "markdown",
   "metadata": {},
   "source": [
    "with the more succint:"
   ]
  },
  {
   "cell_type": "code",
   "execution_count": 15,
   "metadata": {},
   "outputs": [],
   "source": [
    "x_option <- function(x) switch(x, a = 'option 1', b = 'option 2', c = 'option 3', stop('Invalid `x` value'))"
   ]
  },
  {
   "cell_type": "code",
   "execution_count": 21,
   "metadata": {},
   "outputs": [
    {
     "data": {
      "text/html": [
       "'option 1'"
      ],
      "text/latex": [
       "'option 1'"
      ],
      "text/markdown": [
       "'option 1'"
      ],
      "text/plain": [
       "[1] \"option 1\""
      ]
     },
     "metadata": {},
     "output_type": "display_data"
    },
    {
     "data": {
      "text/html": [
       "'option 3'"
      ],
      "text/latex": [
       "'option 3'"
      ],
      "text/markdown": [
       "'option 3'"
      ],
      "text/plain": [
       "[1] \"option 3\""
      ]
     },
     "metadata": {},
     "output_type": "display_data"
    },
    {
     "ename": "ERROR",
     "evalue": "Error in x_option(\"z\"): Invalid `x` value\n",
     "output_type": "error",
     "traceback": [
      "Error in x_option(\"z\"): Invalid `x` value\nTraceback:\n",
      "1. x_option(\"z\")",
      "2. stop(\"Invalid `x` value\")   # at line 1 of file <text>"
     ]
    }
   ],
   "source": [
    "x_option('a')\n",
    "\n",
    "x_option('c')\n",
    "\n",
    "x_option('z')"
   ]
  },
  {
   "cell_type": "markdown",
   "metadata": {},
   "source": [
    "The last component of a `switch()` should always throw an error, otherwise unmatched inputs will invisibly return `NULL`:"
   ]
  },
  {
   "cell_type": "code",
   "execution_count": 20,
   "metadata": {},
   "outputs": [
    {
     "data": {
      "text/plain": [
       "NULL"
      ]
     },
     "metadata": {},
     "output_type": "display_data"
    }
   ],
   "source": [
    "(switch('c', a = 1, b = 2)) # return NULL invisibly"
   ]
  },
  {
   "cell_type": "markdown",
   "metadata": {},
   "source": [
    "If multiple inputs have the same output, you can leave the right hand side of = empty and the input will “fall through” to the next value. This mimics the behaviour of C’s switch statement:"
   ]
  },
  {
   "cell_type": "code",
   "execution_count": 24,
   "metadata": {},
   "outputs": [
    {
     "data": {
      "text/html": [
       "4"
      ],
      "text/latex": [
       "4"
      ],
      "text/markdown": [
       "4"
      ],
      "text/plain": [
       "[1] 4"
      ]
     },
     "metadata": {},
     "output_type": "display_data"
    },
    {
     "data": {
      "text/html": [
       "4"
      ],
      "text/latex": [
       "4"
      ],
      "text/markdown": [
       "4"
      ],
      "text/plain": [
       "[1] 4"
      ]
     },
     "metadata": {},
     "output_type": "display_data"
    },
    {
     "data": {
      "text/html": [
       "2"
      ],
      "text/latex": [
       "2"
      ],
      "text/markdown": [
       "2"
      ],
      "text/plain": [
       "[1] 2"
      ]
     },
     "metadata": {},
     "output_type": "display_data"
    },
    {
     "ename": "ERROR",
     "evalue": "Error in leg(\"dragon\"): Unknown\n",
     "output_type": "error",
     "traceback": [
      "Error in leg(\"dragon\"): Unknown\nTraceback:\n",
      "1. leg(\"dragon\")",
      "2. stop(\"Unknown\")   # at line 2-11 of file <text>"
     ]
    }
   ],
   "source": [
    "leg <- function(n) {\n",
    "    switch(n, \n",
    "           dog = ,\n",
    "           cat = ,\n",
    "           horse = ,\n",
    "           cow = 4,\n",
    "           chicken = ,\n",
    "           bird = ,\n",
    "           human = 2, \n",
    "           plant = 0,\n",
    "           stop('Unknown'))\n",
    "}\n",
    "\n",
    "leg('dog')\n",
    "\n",
    "leg('cat')\n",
    "\n",
    "leg('bird')\n",
    "\n",
    "leg('dragon')"
   ]
  },
  {
   "cell_type": "markdown",
   "metadata": {},
   "source": [
    "It is also possible to use `switch()` with a numeric x, but is harder to read, and has undesirable failure modes if x is a not a whole number. I recommend using `switch()` only with character inputs."
   ]
  },
  {
   "cell_type": "markdown",
   "metadata": {},
   "source": [
    "---"
   ]
  },
  {
   "cell_type": "markdown",
   "metadata": {},
   "source": [
    "```R\n",
    "switch(expression, case1, case2, case3....)\n",
    "```"
   ]
  },
  {
   "cell_type": "markdown",
   "metadata": {},
   "source": [
    "The following rules apply to a switch statement −\n",
    "\n",
    "* If the value of expression is not a character string it is coerced to integer.\n",
    "\n",
    "* You can have any number of case statements within a switch. Each case is followed by the value to be compared to and a colon.\n",
    "\n",
    "* If the value of the integer is between 1 and nargs()−1 (The max number of arguments)then the corresponding element of case condition is evaluated and the result returned.\n",
    "\n",
    "* If expression evaluates to a character string then that string is matched (exactly) to the names of the elements.\n",
    "\n",
    "* If there is more than one match, the first matching element is returned.\n",
    "\n",
    "* No Default argument is available.\n",
    "\n",
    "* In the case of no match, if there is a unnamed element of ... its value is returned. (If there is more than one such argument an error is returned.)"
   ]
  },
  {
   "cell_type": "markdown",
   "metadata": {},
   "source": [
    "If the value of `expression` is not a character string it is coerced to integer."
   ]
  },
  {
   "cell_type": "code",
   "execution_count": 3,
   "metadata": {},
   "outputs": [
    {
     "data": {
      "text/html": [
       "'one'"
      ],
      "text/latex": [
       "'one'"
      ],
      "text/markdown": [
       "'one'"
      ],
      "text/plain": [
       "[1] \"one\""
      ]
     },
     "metadata": {},
     "output_type": "display_data"
    }
   ],
   "source": [
    "switch(1, 'one', 'two', 'three')"
   ]
  },
  {
   "cell_type": "code",
   "execution_count": 12,
   "metadata": {},
   "outputs": [
    {
     "data": {
      "text/html": [
       "'three'"
      ],
      "text/latex": [
       "'three'"
      ],
      "text/markdown": [
       "'three'"
      ],
      "text/plain": [
       "[1] \"three\""
      ]
     },
     "metadata": {},
     "output_type": "display_data"
    }
   ],
   "source": [
    "switch(3, 'one', 'two', 'three')"
   ]
  },
  {
   "cell_type": "code",
   "execution_count": 13,
   "metadata": {},
   "outputs": [
    {
     "ename": "ERROR",
     "evalue": "Error in parse(text = x, srcfile = src): <text>:1:24: unexpected string constant\n1: switch(0, 'one', 'two' 'three'\n                           ^\n",
     "output_type": "error",
     "traceback": [
      "Error in parse(text = x, srcfile = src): <text>:1:24: unexpected string constant\n1: switch(0, 'one', 'two' 'three'\n                           ^\nTraceback:\n"
     ]
    }
   ],
   "source": [
    "#this will raise an error because valid values for the first argument is 1, 2, 3\n",
    "switch(0, 'one', 'two' 'three')"
   ]
  },
  {
   "cell_type": "markdown",
   "metadata": {},
   "source": [
    "<hr>"
   ]
  },
  {
   "cell_type": "markdown",
   "metadata": {},
   "source": [
    "If `expression` evaluates to a character string then that string is matched (exactly) to the names of the elements in .... If there is a match then that element is evaluated unless it is missing, in which case the next non-missing element is evaluated, so for example `switch(\"cc\", a = 1, cc =, cd =, d = 2)` evaluates to 2. If there is more than one match, the first matching element is used. In the case of no match, if there is a unnamed element of `...` its value is returned. "
   ]
  },
  {
   "cell_type": "code",
   "execution_count": 14,
   "metadata": {},
   "outputs": [
    {
     "data": {
      "text/html": [
       "'VN Pikachu'"
      ],
      "text/latex": [
       "'VN Pikachu'"
      ],
      "text/markdown": [
       "'VN Pikachu'"
      ],
      "text/plain": [
       "[1] \"VN Pikachu\""
      ]
     },
     "metadata": {},
     "output_type": "display_data"
    }
   ],
   "source": [
    "switch('name', 'clan' = 'VN Champions', 'level' = 31, 'name' = 'VN Pikachu')"
   ]
  },
  {
   "cell_type": "code",
   "execution_count": 1,
   "metadata": {},
   "outputs": [
    {
     "data": {
      "text/html": [
       "'Male'"
      ],
      "text/latex": [
       "'Male'"
      ],
      "text/markdown": [
       "'Male'"
      ],
      "text/plain": [
       "[1] \"Male\""
      ]
     },
     "metadata": {},
     "output_type": "display_data"
    }
   ],
   "source": [
    "#There is no match, so the first positional argument is returned\n",
    "#we can imagine default = 'Male'\n",
    "switch('gender', 'Male', name = 'VN Pikachu', clan = 'VN Champions')"
   ]
  },
  {
   "cell_type": "code",
   "execution_count": 9,
   "metadata": {},
   "outputs": [
    {
     "data": {
      "text/html": [
       "'This is default value'"
      ],
      "text/latex": [
       "'This is default value'"
      ],
      "text/markdown": [
       "'This is default value'"
      ],
      "text/plain": [
       "[1] \"This is default value\""
      ]
     },
     "metadata": {},
     "output_type": "display_data"
    }
   ],
   "source": [
    "# In general, this this the way to set default value\n",
    "variable <- 'c'\n",
    "switch(variable, 'a' = 'apple', 'b' = 'banana', 'This is default value')"
   ]
  },
  {
   "cell_type": "code",
   "execution_count": 2,
   "metadata": {},
   "outputs": [],
   "source": [
    "#This will return nothing because we do not specify the default return value\n",
    "switch('gender', name = 'VN Pikachu', clan = 'VN Champions')"
   ]
  }
 ],
 "metadata": {
  "kernelspec": {
   "display_name": "R",
   "language": "R",
   "name": "ir"
  },
  "language_info": {
   "codemirror_mode": "r",
   "file_extension": ".r",
   "mimetype": "text/x-r-source",
   "name": "R",
   "pygments_lexer": "r",
   "version": "3.6.1"
  }
 },
 "nbformat": 4,
 "nbformat_minor": 2
}
