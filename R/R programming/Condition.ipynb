{
 "cells": [
  {
   "cell_type": "markdown",
   "id": "prospective-deficit",
   "metadata": {},
   "source": [
    "**Reference**: <https://adv-r.hadley.nz/conditions.html>"
   ]
  },
  {
   "cell_type": "code",
   "execution_count": 113,
   "id": "welcome-auction",
   "metadata": {},
   "outputs": [
    {
     "name": "stderr",
     "output_type": "stream",
     "text": [
      "\n",
      "Attaching package: 'glue'\n",
      "\n",
      "\n",
      "The following object is masked from 'package:dplyr':\n",
      "\n",
      "    collapse\n",
      "\n",
      "\n"
     ]
    }
   ],
   "source": [
    "library(rlang)\n",
    "library(tidyverse)\n",
    "library(glue)"
   ]
  },
  {
   "cell_type": "markdown",
   "id": "threaded-andrew",
   "metadata": {},
   "source": [
    "# 1. Introduction"
   ]
  },
  {
   "cell_type": "markdown",
   "id": "necessary-freight",
   "metadata": {},
   "source": [
    "3 conditions:\n",
    "- Error: most severe; they indicate that there is no way for a function to continue and execution must stop.\n",
    "- Warning: somewhat in between errors and message, and typically indicate that something has gone wrong but the function has been able to at least partially recover.\n",
    "- Message: the mildest; they are way of informing users that some action has been performed on their behalf."
   ]
  },
  {
   "cell_type": "markdown",
   "id": "intended-blair",
   "metadata": {},
   "source": [
    "Big picture:\n",
    "- Signal conditions: Something unusual is happening from the function you create\n",
    "- Handling conditions: handle conditions signalled from your function"
   ]
  },
  {
   "cell_type": "markdown",
   "id": "improving-extreme",
   "metadata": {},
   "source": [
    "# 2. Signal Condition"
   ]
  },
  {
   "cell_type": "markdown",
   "id": "dressed-pizza",
   "metadata": {},
   "source": [
    "### 2.1 Signal an error"
   ]
  },
  {
   "cell_type": "markdown",
   "id": "widespread-server",
   "metadata": {},
   "source": [
    "Once an error occured, the rest of the function call will be ignored:\n"
   ]
  },
  {
   "cell_type": "code",
   "execution_count": 19,
   "id": "numeric-construction",
   "metadata": {},
   "outputs": [
    {
     "ename": "ERROR",
     "evalue": "Error in f(): something wrong\n",
     "output_type": "error",
     "traceback": [
      "Error in f(): something wrong\nTraceback:\n",
      "1. f()",
      "2. stop(\"something wrong\")   # at line 2 of file <text>"
     ]
    }
   ],
   "source": [
    "f <- function() {\n",
    "    stop('something wrong')\n",
    "    print('this message will be ignored')\n",
    "}\n",
    "f()"
   ]
  },
  {
   "cell_type": "markdown",
   "id": "scheduled-wrist",
   "metadata": {},
   "source": [
    " By default, the error message includes the call:"
   ]
  },
  {
   "cell_type": "code",
   "execution_count": 14,
   "id": "adopted-buffalo",
   "metadata": {},
   "outputs": [
    {
     "ename": "ERROR",
     "evalue": "Error in g() <- function() stop(\"ERROR!!!\"): invalid (NULL) left side of assignment\n",
     "output_type": "error",
     "traceback": [
      "Error in g() <- function() stop(\"ERROR!!!\"): invalid (NULL) left side of assignment\nTraceback:\n"
     ]
    }
   ],
   "source": [
    "f <- function() g()\n",
    "g() <- function() stop('ERROR!!!')\n",
    "g()"
   ]
  },
  {
   "cell_type": "markdown",
   "id": "rough-trance",
   "metadata": {},
   "source": [
    "This is not useful because we can use **`traceback`**, so it's better to turn it off"
   ]
  },
  {
   "cell_type": "code",
   "execution_count": 16,
   "id": "reasonable-arbor",
   "metadata": {},
   "outputs": [
    {
     "ename": "ERROR",
     "evalue": "Error: ERROR!!!!!\n",
     "output_type": "error",
     "traceback": [
      "Error: ERROR!!!!!\nTraceback:\n",
      "1. h()",
      "2. stop(\"ERROR!!!!!\", call. = F)   # at line 1 of file <text>"
     ]
    }
   ],
   "source": [
    "h <- function() stop('ERROR!!!!!', call. = F)\n",
    "h()"
   ]
  },
  {
   "cell_type": "code",
   "execution_count": 8,
   "id": "protecting-malaysia",
   "metadata": {},
   "outputs": [
    {
     "ename": "ERROR",
     "evalue": "Error in eval(expr, envir, enclos): DivisionByZero\n",
     "output_type": "error",
     "traceback": [
      "Error in eval(expr, envir, enclos): DivisionByZero\nTraceback:\n",
      "1. stop(\"DivisionByZero\")"
     ]
    }
   ],
   "source": [
    "stop('DivisionByZero')"
   ]
  },
  {
   "cell_type": "code",
   "execution_count": 17,
   "id": "imperial-ownership",
   "metadata": {},
   "outputs": [
    {
     "ename": "ERROR",
     "evalue": "Error: DivisionByZero\n",
     "output_type": "error",
     "traceback": [
      "Error: DivisionByZero\nTraceback:\n",
      "1. rlang::abort(\"DivisionByZero\")",
      "2. signal_abort(cnd)"
     ]
    }
   ],
   "source": [
    "# Automatically does not includes the call\n",
    "rlang::abort('DivisionByZero')"
   ]
  },
  {
   "cell_type": "markdown",
   "id": "grateful-assist",
   "metadata": {},
   "source": [
    "### 2.2 Signal a warning"
   ]
  },
  {
   "cell_type": "markdown",
   "id": "differential-anxiety",
   "metadata": {},
   "source": [
    "You can have multiple warning in a function call:"
   ]
  },
  {
   "cell_type": "code",
   "execution_count": 20,
   "id": "second-booking",
   "metadata": {},
   "outputs": [
    {
     "name": "stderr",
     "output_type": "stream",
     "text": [
      "Warning message in f():\n",
      "\"One\"\n"
     ]
    },
    {
     "name": "stdout",
     "output_type": "stream",
     "text": [
      "[1] \"I\"\n"
     ]
    },
    {
     "name": "stderr",
     "output_type": "stream",
     "text": [
      "Warning message in f():\n",
      "\"Two\"\n"
     ]
    },
    {
     "name": "stdout",
     "output_type": "stream",
     "text": [
      "[1] \"Love\"\n"
     ]
    }
   ],
   "source": [
    "f <- function() {\n",
    "    warning('One')\n",
    "    print('I')\n",
    "    warning('Two')\n",
    "    print('Love')\n",
    "}\n",
    "f()"
   ]
  },
  {
   "cell_type": "code",
   "execution_count": 10,
   "id": "norwegian-shape",
   "metadata": {},
   "outputs": [
    {
     "name": "stderr",
     "output_type": "stream",
     "text": [
      "Warning message in eval(expr, envir, enclos):\n",
      "\"Something is wrong\"\n"
     ]
    }
   ],
   "source": [
    "# signal a warning\n",
    "warning('Something is wrong')"
   ]
  },
  {
   "cell_type": "code",
   "execution_count": 11,
   "id": "polish-match",
   "metadata": {},
   "outputs": [
    {
     "name": "stderr",
     "output_type": "stream",
     "text": [
      "Warning message:\n",
      "\"Something is wrong\"\n"
     ]
    }
   ],
   "source": [
    "rlang::warn('Something is wrong')"
   ]
  },
  {
   "cell_type": "markdown",
   "id": "ceramic-nylon",
   "metadata": {},
   "source": [
    "### 2.3 Signal a message"
   ]
  },
  {
   "cell_type": "code",
   "execution_count": 12,
   "id": "awful-florence",
   "metadata": {},
   "outputs": [
    {
     "name": "stderr",
     "output_type": "stream",
     "text": [
      "The function you used is deprecated\n",
      "\n"
     ]
    }
   ],
   "source": [
    "# signal a message\n",
    "message('The function you used is deprecated')"
   ]
  },
  {
   "cell_type": "code",
   "execution_count": 13,
   "id": "injured-archive",
   "metadata": {},
   "outputs": [
    {
     "name": "stderr",
     "output_type": "stream",
     "text": [
      "The function you used is deprecated\n",
      "\n"
     ]
    }
   ],
   "source": [
    "rlang::inform('The function you used is deprecated')"
   ]
  },
  {
   "cell_type": "markdown",
   "id": "executed-pencil",
   "metadata": {},
   "source": [
    "# 3. Ignoring Condition"
   ]
  },
  {
   "cell_type": "code",
   "execution_count": 25,
   "id": "grateful-insulin",
   "metadata": {},
   "outputs": [
    {
     "name": "stdout",
     "output_type": "stream",
     "text": [
      "Error in log(\"a\") : non-numeric argument to mathematical function\n"
     ]
    },
    {
     "data": {
      "text/html": [
       "10"
      ],
      "text/latex": [
       "10"
      ],
      "text/markdown": [
       "10"
      ],
      "text/plain": [
       "[1] 10"
      ]
     },
     "metadata": {},
     "output_type": "display_data"
    }
   ],
   "source": [
    "# Ignore error\n",
    "f <- function() {\n",
    "    try(log('a'))\n",
    "    10\n",
    "}\n",
    "f()"
   ]
  },
  {
   "cell_type": "code",
   "execution_count": 26,
   "id": "agreed-warner",
   "metadata": {},
   "outputs": [
    {
     "data": {
      "text/html": [
       "1"
      ],
      "text/latex": [
       "1"
      ],
      "text/markdown": [
       "1"
      ],
      "text/plain": [
       "[1] 1"
      ]
     },
     "metadata": {},
     "output_type": "display_data"
    }
   ],
   "source": [
    "# Ignore warning\n",
    "# input is an expression\n",
    "suppressWarnings({\n",
    "    warning('whatever')\n",
    "    1\n",
    "})"
   ]
  },
  {
   "cell_type": "code",
   "execution_count": 28,
   "id": "authentic-signature",
   "metadata": {},
   "outputs": [
    {
     "data": {
      "text/html": [
       "2"
      ],
      "text/latex": [
       "2"
      ],
      "text/markdown": [
       "2"
      ],
      "text/plain": [
       "[1] 2"
      ]
     },
     "metadata": {},
     "output_type": "display_data"
    }
   ],
   "source": [
    "# Ignore message\n",
    "suppressMessages({\n",
    "    message('Computing....')\n",
    "    2\n",
    "})"
   ]
  },
  {
   "cell_type": "markdown",
   "id": "reported-contributor",
   "metadata": {},
   "source": [
    "# 4. Handling Conditions"
   ]
  },
  {
   "cell_type": "markdown",
   "id": "concrete-cologne",
   "metadata": {},
   "source": [
    ">These functions will change the default behavior of condition\n",
    "For example, the default behavior of error condition is to stop the program. But what if instead of stop the program, we want to handle this error in a specific way and continue to program?"
   ]
  },
  {
   "cell_type": "markdown",
   "id": "everyday-commonwealth",
   "metadata": {},
   "source": [
    "```r\n",
    "tryCatch(\n",
    "  error = function(cnd) {\n",
    "    # code to run when error is thrown\n",
    "  },\n",
    "  code_to_run_while_handlers_are_active\n",
    ")\n",
    "\n",
    "withCallingHandlers(\n",
    "  warning = function(cnd) {\n",
    "    # code to run when warning is signalled\n",
    "  },\n",
    "  message = function(cnd) {\n",
    "    # code to run when message is signalled\n",
    "  },\n",
    "  code_to_run_while_handlers_are_active\n",
    ")\n",
    "```"
   ]
  },
  {
   "cell_type": "markdown",
   "id": "herbal-diving",
   "metadata": {},
   "source": [
    "- **`tryCatch`** (**exiting** handler) is suitable for working with **Error**  \n",
    "- **`withCallingHandlers`** (**calling** handler) is suitable for non-error conditions like **Warning** and **Message**"
   ]
  },
  {
   "cell_type": "markdown",
   "id": "radio-directive",
   "metadata": {},
   "source": [
    "### 4.1 Condition object"
   ]
  },
  {
   "cell_type": "code",
   "execution_count": 33,
   "id": "ambient-episode",
   "metadata": {},
   "outputs": [
    {
     "data": {
      "text/plain": [
       "<simpleError in x^y: non-numeric argument to binary operator>"
      ]
     },
     "metadata": {},
     "output_type": "display_data"
    }
   ],
   "source": [
    "pow <- function(x, y) x ^ y\n",
    "\n",
    "# catch condition\n",
    "condition_object <- catch_cnd(pow('a', 5))\n",
    "condition_object"
   ]
  },
  {
   "cell_type": "code",
   "execution_count": 34,
   "id": "metropolitan-textbook",
   "metadata": {},
   "outputs": [
    {
     "data": {
      "text/html": [
       "<dl>\n",
       "\t<dt>$names</dt>\n",
       "\t\t<dd><style>\n",
       ".list-inline {list-style: none; margin:0; padding: 0}\n",
       ".list-inline>li {display: inline-block}\n",
       ".list-inline>li:not(:last-child)::after {content: \"\\00b7\"; padding: 0 .5ex}\n",
       "</style>\n",
       "<ol class=list-inline><li>'message'</li><li>'call'</li></ol>\n",
       "</dd>\n",
       "\t<dt>$class</dt>\n",
       "\t\t<dd><style>\n",
       ".list-inline {list-style: none; margin:0; padding: 0}\n",
       ".list-inline>li {display: inline-block}\n",
       ".list-inline>li:not(:last-child)::after {content: \"\\00b7\"; padding: 0 .5ex}\n",
       "</style>\n",
       "<ol class=list-inline><li>'simpleError'</li><li>'error'</li><li>'condition'</li></ol>\n",
       "</dd>\n",
       "</dl>\n"
      ],
      "text/latex": [
       "\\begin{description}\n",
       "\\item[\\$names] \\begin{enumerate*}\n",
       "\\item 'message'\n",
       "\\item 'call'\n",
       "\\end{enumerate*}\n",
       "\n",
       "\\item[\\$class] \\begin{enumerate*}\n",
       "\\item 'simpleError'\n",
       "\\item 'error'\n",
       "\\item 'condition'\n",
       "\\end{enumerate*}\n",
       "\n",
       "\\end{description}\n"
      ],
      "text/markdown": [
       "$names\n",
       ":   1. 'message'\n",
       "2. 'call'\n",
       "\n",
       "\n",
       "\n",
       "$class\n",
       ":   1. 'simpleError'\n",
       "2. 'error'\n",
       "3. 'condition'\n",
       "\n",
       "\n",
       "\n",
       "\n",
       "\n"
      ],
      "text/plain": [
       "$names\n",
       "[1] \"message\" \"call\"   \n",
       "\n",
       "$class\n",
       "[1] \"simpleError\" \"error\"       \"condition\"  \n"
      ]
     },
     "metadata": {},
     "output_type": "display_data"
    }
   ],
   "source": [
    "attributes(condition_object)"
   ]
  },
  {
   "cell_type": "code",
   "execution_count": 37,
   "id": "baking-movie",
   "metadata": {},
   "outputs": [
    {
     "name": "stdout",
     "output_type": "stream",
     "text": [
      "List of 2\n",
      " $ message: chr \"non-numeric argument to binary operator\"\n",
      " $ call   : language x^y\n",
      " - attr(*, \"class\")= chr [1:3] \"simpleError\" \"error\" \"condition\"\n"
     ]
    }
   ],
   "source": [
    "str(condition_object)"
   ]
  },
  {
   "cell_type": "code",
   "execution_count": 38,
   "id": "liberal-toilet",
   "metadata": {},
   "outputs": [
    {
     "data": {
      "text/html": [
       "'non-numeric argument to binary operator'"
      ],
      "text/latex": [
       "'non-numeric argument to binary operator'"
      ],
      "text/markdown": [
       "'non-numeric argument to binary operator'"
      ],
      "text/plain": [
       "[1] \"non-numeric argument to binary operator\""
      ]
     },
     "metadata": {},
     "output_type": "display_data"
    },
    {
     "data": {
      "text/html": [
       "'non-numeric argument to binary operator'"
      ],
      "text/latex": [
       "'non-numeric argument to binary operator'"
      ],
      "text/markdown": [
       "'non-numeric argument to binary operator'"
      ],
      "text/plain": [
       "[1] \"non-numeric argument to binary operator\""
      ]
     },
     "metadata": {},
     "output_type": "display_data"
    }
   ],
   "source": [
    "# the message of the condition object\n",
    "condition_object$message\n",
    "# or you can use\n",
    "conditionMessage(condition_object)"
   ]
  },
  {
   "cell_type": "code",
   "execution_count": 39,
   "id": "contained-detective",
   "metadata": {},
   "outputs": [
    {
     "data": {
      "text/plain": [
       "x^y"
      ]
     },
     "metadata": {},
     "output_type": "display_data"
    },
    {
     "data": {
      "text/plain": [
       "x^y"
      ]
     },
     "metadata": {},
     "output_type": "display_data"
    }
   ],
   "source": [
    "# The function call the signal the condition\n",
    "condition_object$call\n",
    "# or you can use\n",
    "conditionCall(condition_object)"
   ]
  },
  {
   "cell_type": "markdown",
   "id": "czech-fiber",
   "metadata": {},
   "source": [
    "### 4.2 Exiting handlers"
   ]
  },
  {
   "cell_type": "markdown",
   "id": "three-nerve",
   "metadata": {},
   "source": [
    "**Exitting handlers**: Once a condition is signaled, it will exit the rest of the function call "
   ]
  },
  {
   "cell_type": "markdown",
   "id": "written-introduction",
   "metadata": {},
   "source": [
    "Try-catch-finally"
   ]
  },
  {
   "cell_type": "code",
   "execution_count": 48,
   "id": "marine-contents",
   "metadata": {},
   "outputs": [],
   "source": [
    "soft_plus <- function(x) {\n",
    "    tryCatch({\n",
    "        res <- log(x + 1)\n",
    "        print('calculate successfully')\n",
    "        res\n",
    "    }, error = function(cnd) 'this is the value returned if there was an error')\n",
    "}\n"
   ]
  },
  {
   "cell_type": "code",
   "execution_count": 49,
   "id": "computational-republic",
   "metadata": {},
   "outputs": [
    {
     "name": "stdout",
     "output_type": "stream",
     "text": [
      "[1] \"calculate successfully\"\n"
     ]
    },
    {
     "data": {
      "text/html": [
       "0.693147180559945"
      ],
      "text/latex": [
       "0.693147180559945"
      ],
      "text/markdown": [
       "0.693147180559945"
      ],
      "text/plain": [
       "[1] 0.6931472"
      ]
     },
     "metadata": {},
     "output_type": "display_data"
    }
   ],
   "source": [
    "soft_plus(1)"
   ]
  },
  {
   "cell_type": "code",
   "execution_count": 50,
   "id": "amended-physics",
   "metadata": {},
   "outputs": [
    {
     "data": {
      "text/html": [
       "'this is the value returned if there was an error'"
      ],
      "text/latex": [
       "'this is the value returned if there was an error'"
      ],
      "text/markdown": [
       "'this is the value returned if there was an error'"
      ],
      "text/plain": [
       "[1] \"this is the value returned if there was an error\""
      ]
     },
     "metadata": {},
     "output_type": "display_data"
    }
   ],
   "source": [
    "# Error is signalled, so print('calculate successfully') will not be executed\n",
    "soft_plus('a')"
   ]
  },
  {
   "cell_type": "markdown",
   "id": "resident-birmingham",
   "metadata": {},
   "source": [
    " **`finally`** for clean up"
   ]
  },
  {
   "cell_type": "code",
   "execution_count": 51,
   "id": "small-copying",
   "metadata": {},
   "outputs": [],
   "source": [
    "temp <- tempfile()\n",
    "tryCatch({\n",
    "    writeLines('HI!', temp)\n",
    "}, finally = {\n",
    "    unlink(temp)\n",
    "})"
   ]
  },
  {
   "cell_type": "markdown",
   "id": "selective-texture",
   "metadata": {},
   "source": [
    "### 4.3 Calling Handlers"
   ]
  },
  {
   "cell_type": "markdown",
   "id": "accredited-least",
   "metadata": {},
   "source": [
    " **Calling handlers**: Once a condition is signalled, it will switch to the handler function, after that, it will switch back to the function call\n",
    " \n",
    "<b style = 'color:red'>NOTE:</b> unlike **`tryCatch`**, **`withCallingHandlers`** return nothing."
   ]
  },
  {
   "cell_type": "code",
   "execution_count": 54,
   "id": "brief-fancy",
   "metadata": {},
   "outputs": [
    {
     "name": "stdout",
     "output_type": "stream",
     "text": [
      "[1] \"bar\"\n"
     ]
    },
    {
     "name": "stderr",
     "output_type": "stream",
     "text": [
      "Warning message in withCallingHandlers({:\n",
      "\"foo\"\n"
     ]
    }
   ],
   "source": [
    "withCallingHandlers({\n",
    "    warning('foo')\n",
    "}, warning = function(cnd) print('bar'))"
   ]
  },
  {
   "cell_type": "markdown",
   "id": "appointed-coast",
   "metadata": {},
   "source": [
    "How this work? When **`warning('foo')`** is executed, it signals a warning condition, so the handler function will be executed, print the word \"bar\", then after that, it comes back to the function call and print('foo'). You can think of `warning('foo')` as a process of 2 steps:\n",
    "- 1. It signals warning condition, and this condition will be handled by the hanlder function\n",
    "- 2. It print the warning messge: \"foo\""
   ]
  },
  {
   "cell_type": "markdown",
   "id": "adverse-compensation",
   "metadata": {},
   "source": [
    "---\n",
    "Let's compare **Exitting handler** and **Calling handler**"
   ]
  },
  {
   "cell_type": "code",
   "execution_count": 55,
   "id": "completed-linux",
   "metadata": {},
   "outputs": [
    {
     "name": "stderr",
     "output_type": "stream",
     "text": [
      "three\n",
      "\n"
     ]
    }
   ],
   "source": [
    "tryCatch({\n",
    "    message('one')\n",
    "    message('two')\n",
    "}, message = function(cnd) message('three'))"
   ]
  },
  {
   "cell_type": "markdown",
   "id": "nervous-dictionary",
   "metadata": {},
   "source": [
    "once `message('one')` is executed, first, it signals a message condition. Then it will exit the function call (the rest of the code in the function call will be ignored. In this case `message('two')` will not be executed). Because a message condition is signaled, the message condition hanlder function will be executed, so it execute `message('theree')`."
   ]
  },
  {
   "cell_type": "code",
   "execution_count": 56,
   "id": "broad-directive",
   "metadata": {},
   "outputs": [
    {
     "name": "stderr",
     "output_type": "stream",
     "text": [
      "three\n",
      "\n",
      "one\n",
      "\n",
      "three\n",
      "\n",
      "two\n",
      "\n"
     ]
    }
   ],
   "source": [
    "withCallingHandlers({\n",
    "    message('one')\n",
    "    message('two')\n",
    "}, message = function(cnd) message('three'))"
   ]
  },
  {
   "cell_type": "markdown",
   "id": "american-runner",
   "metadata": {},
   "source": [
    "First, `message('one')` is executed. It signals a message condition, let's call this **signal 1**, so the message condition handler function will be executed, which mean `message('three')` is executed, which signal a message condition (let's cal this **signal 3**), to the environment. If a condition is signaled to the environment, it will be printed. So \"three\" is printed to the console. After that, **signal 1** from the handler function will be propagated to the environment. so \"one\" will be printed. The same thing for the code `message('two')`"
   ]
  },
  {
   "cell_type": "markdown",
   "id": "bottom-anthony",
   "metadata": {},
   "source": [
    "---\n",
    "**Muffle** the condition"
   ]
  },
  {
   "cell_type": "code",
   "execution_count": 72,
   "id": "collectible-waters",
   "metadata": {},
   "outputs": [
    {
     "name": "stdout",
     "output_type": "stream",
     "text": [
      "[1] \"Three\"\n"
     ]
    },
    {
     "name": "stderr",
     "output_type": "stream",
     "text": [
      "two\n",
      "\n"
     ]
    },
    {
     "name": "stdout",
     "output_type": "stream",
     "text": [
      "[1] \"Three\"\n"
     ]
    },
    {
     "name": "stderr",
     "output_type": "stream",
     "text": [
      "One\n",
      "\n"
     ]
    }
   ],
   "source": [
    "withCallingHandlers({\n",
    "    withCallingHandlers({\n",
    "        message('One')\n",
    "    }, message = function(cnd) message('two'))\n",
    "}, message = function(cnd) print('Three'))"
   ]
  },
  {
   "cell_type": "markdown",
   "id": "enhanced-helicopter",
   "metadata": {},
   "source": [
    "How does this work?  \n",
    "First, `message('one')` signal a message condition (call this **signal 1**). This will results in calling the inner handling function that executes `message('two')`, `message('two')` signal a message condition (call this **signal 2**) to the outer handling function, which executes `print('Three')`. After that, **signal 2** from the outer handling function is propagated to the environment, results in printing the message \"Two\". After that, **signal 1** from the inner handler function will be propagated to the outer handler function, which results in the code `print('Three')`. Then **signal 1** from the outer handler function will be propagated to the environment, which results in printing the message \"One\"."
   ]
  },
  {
   "cell_type": "markdown",
   "id": "upset-arizona",
   "metadata": {},
   "source": [
    "You can stop the signal of `message('one')` to be propagated to the outer handler function by doing this:"
   ]
  },
  {
   "cell_type": "code",
   "execution_count": 73,
   "id": "persistent-public",
   "metadata": {},
   "outputs": [
    {
     "name": "stdout",
     "output_type": "stream",
     "text": [
      "[1] \"Three\"\n"
     ]
    },
    {
     "name": "stderr",
     "output_type": "stream",
     "text": [
      "Two\n",
      "\n"
     ]
    }
   ],
   "source": [
    "withCallingHandlers({\n",
    "    withCallingHandlers({\n",
    "        message('One')\n",
    "    }, message = function(cnd) {\n",
    "        message('Two')\n",
    "        # this function will stop `cnd` to be propagated to the outer handler function\n",
    "        cnd_muffle(cnd)\n",
    "    })\n",
    "}, message = function(cnd) print('Three'))"
   ]
  },
  {
   "cell_type": "markdown",
   "id": "subsequent-inspiration",
   "metadata": {},
   "source": [
    "In this case, because **signal 1** is not propagated to the outer handling function and the environment, so the 2 last printting of the previous code will not be executed"
   ]
  },
  {
   "cell_type": "markdown",
   "id": "ordered-badge",
   "metadata": {},
   "source": [
    "### 4.4 Tips and Tricks"
   ]
  },
  {
   "cell_type": "markdown",
   "id": "adjustable-crazy",
   "metadata": {},
   "source": [
    ">You can use a single handler with this"
   ]
  },
  {
   "cell_type": "code",
   "execution_count": 82,
   "id": "pharmaceutical-gibson",
   "metadata": {},
   "outputs": [
    {
     "data": {
      "text/html": [
       "'warning'"
      ],
      "text/latex": [
       "'warning'"
      ],
      "text/markdown": [
       "'warning'"
      ],
      "text/plain": [
       "[1] \"warning\""
      ]
     },
     "metadata": {},
     "output_type": "display_data"
    }
   ],
   "source": [
    "tryCatch({\n",
    "   \n",
    "    warning('Love')\n",
    "    \n",
    "}, condition = function(cnd) {\n",
    "    if(inherits(cnd, 'error')) return('error')\n",
    "    if(inherits(cnd, 'warning')) return ('warning')\n",
    "    if(inherits(cnd, 'message')) return ('message')\n",
    "       \n",
    "})"
   ]
  },
  {
   "cell_type": "markdown",
   "id": "laughing-nightlife",
   "metadata": {},
   "source": [
    "---\n",
    ">Try to mimic the **`catch_cnd`** function"
   ]
  },
  {
   "cell_type": "code",
   "execution_count": 76,
   "id": "differential-focus",
   "metadata": {},
   "outputs": [],
   "source": [
    "catch.condition <- function(exp) {\n",
    "    tryCatch({\n",
    "        force(exp)\n",
    "        return(NULL)\n",
    "    }, condition = function(cnd) cnd)\n",
    "}\n",
    "             "
   ]
  },
  {
   "cell_type": "code",
   "execution_count": 77,
   "id": "filled-scout",
   "metadata": {},
   "outputs": [
    {
     "data": {
      "text/plain": [
       "<simpleError in force(exp): Oops!!>"
      ]
     },
     "metadata": {},
     "output_type": "display_data"
    }
   ],
   "source": [
    "catch.condition(stop('Oops!!'))"
   ]
  },
  {
   "cell_type": "code",
   "execution_count": 78,
   "id": "sacred-image",
   "metadata": {},
   "outputs": [
    {
     "data": {
      "text/plain": [
       "<simpleWarning in force(exp): Be careful<3>"
      ]
     },
     "metadata": {},
     "output_type": "display_data"
    }
   ],
   "source": [
    "catch.condition(warning('Be careful<3'))"
   ]
  },
  {
   "cell_type": "code",
   "execution_count": 79,
   "id": "weekly-newfoundland",
   "metadata": {},
   "outputs": [
    {
     "data": {
      "text/plain": [
       "<simpleMessage in message(\"I love u\"): I love u\n",
       ">"
      ]
     },
     "metadata": {},
     "output_type": "display_data"
    }
   ],
   "source": [
    "catch.condition(message('I love u'))"
   ]
  },
  {
   "cell_type": "markdown",
   "id": "attended-significance",
   "metadata": {},
   "source": [
    "---\n",
    ">When to use **`tryCatch`** and **`withCallingHandlers`**?"
   ]
  },
  {
   "cell_type": "markdown",
   "id": "civilian-marketplace",
   "metadata": {},
   "source": [
    "- if you want to handle error, use **`tryCatch`**\n",
    "- if you want to handle warning and message, use **`withCallingHandlers`**"
   ]
  },
  {
   "cell_type": "markdown",
   "id": "essential-basket",
   "metadata": {},
   "source": [
    "---\n",
    "When using handlers, only **message** and **warning** will be propagated, **error** will not be propagated"
   ]
  },
  {
   "cell_type": "code",
   "execution_count": 12,
   "id": "configured-baseline",
   "metadata": {},
   "outputs": [
    {
     "name": "stderr",
     "output_type": "stream",
     "text": [
      "message is propagated to the environment\n",
      "\n",
      "Warning message:\n",
      "\"Warning is propagated to the environment\"\n"
     ]
    }
   ],
   "source": [
    "# message and warning are stilled printed\n",
    "withCallingHandlers({\n",
    "    message('message is propagated to the environment')\n",
    "    warning('Warning is propagated to the environment', call. = FALSE)\n",
    "}, message = function(cnd) {\n",
    "    'do nothing'\n",
    "}, warning = function(cnd) {\n",
    "    'do nothing'\n",
    "})"
   ]
  },
  {
   "cell_type": "code",
   "execution_count": 13,
   "id": "accessory-survey",
   "metadata": {},
   "outputs": [
    {
     "data": {
      "text/html": [
       "'something wrong'"
      ],
      "text/latex": [
       "'something wrong'"
      ],
      "text/markdown": [
       "'something wrong'"
      ],
      "text/plain": [
       "[1] \"something wrong\""
      ]
     },
     "metadata": {},
     "output_type": "display_data"
    }
   ],
   "source": [
    "# no error is printed\n",
    "tryCatch({\n",
    "    stop('Fuck off', .call = FALSE)\n",
    "}, error = function(cnd) 'something wrong')"
   ]
  },
  {
   "cell_type": "markdown",
   "id": "complicated-patient",
   "metadata": {},
   "source": [
    "---\n",
    ">Return value of **`tryCatch`** and **`withCallingHandlers`**"
   ]
  },
  {
   "cell_type": "markdown",
   "id": "representative-internet",
   "metadata": {},
   "source": [
    "- `withCallingHandlers` returns the final value expression if there is no error\n",
    "- `tryCatch` returns the final value of expression if there is no error, othwerwise it returns the value returned by the error condition handler function"
   ]
  },
  {
   "cell_type": "code",
   "execution_count": 22,
   "id": "oriented-ballet",
   "metadata": {},
   "outputs": [
    {
     "data": {
      "text/html": [
       "3"
      ],
      "text/latex": [
       "3"
      ],
      "text/markdown": [
       "3"
      ],
      "text/plain": [
       "[1] 3"
      ]
     },
     "metadata": {},
     "output_type": "display_data"
    }
   ],
   "source": [
    "tryCatch({\n",
    "    # this will return 3 because there is no error in the expression\n",
    "    1 + 2\n",
    "}, error = function(cnd) 'something wrong')"
   ]
  },
  {
   "cell_type": "code",
   "execution_count": 23,
   "id": "naval-uncertainty",
   "metadata": {},
   "outputs": [
    {
     "data": {
      "text/html": [
       "'something wrong'"
      ],
      "text/latex": [
       "'something wrong'"
      ],
      "text/markdown": [
       "'something wrong'"
      ],
      "text/plain": [
       "[1] \"something wrong\""
      ]
     },
     "metadata": {},
     "output_type": "display_data"
    }
   ],
   "source": [
    "# this will return \"something wrong\"\n",
    "# because in the expression, we try to add a numeric with a character\n",
    "tryCatch({\n",
    "    1 + 'a'\n",
    "}, error = function(cnd) 'something wrong')"
   ]
  },
  {
   "cell_type": "code",
   "execution_count": 18,
   "id": "differential-appraisal",
   "metadata": {},
   "outputs": [
    {
     "data": {
      "text/html": [
       "3"
      ],
      "text/latex": [
       "3"
      ],
      "text/markdown": [
       "3"
      ],
      "text/plain": [
       "[1] 3"
      ]
     },
     "metadata": {},
     "output_type": "display_data"
    }
   ],
   "source": [
    "withCallingHandlers({\n",
    "    1 + 2\n",
    "}, condition = function(cnd) 'something is not right')"
   ]
  },
  {
   "cell_type": "code",
   "execution_count": 26,
   "id": "earlier-nature",
   "metadata": {},
   "outputs": [
    {
     "name": "stderr",
     "output_type": "stream",
     "text": [
      "Warning message:\n",
      "\"Broken!!!\"\n"
     ]
    }
   ],
   "source": [
    " withCallingHandlers({\n",
    "    warning('Broken!!!', call. = F)\n",
    "}, warning = function(cnd) 'warning condition is signalled')\n",
    "                           "
   ]
  },
  {
   "cell_type": "code",
   "execution_count": 27,
   "id": "timely-portable",
   "metadata": {},
   "outputs": [
    {
     "name": "stderr",
     "output_type": "stream",
     "text": [
      "Computing....\n",
      "\n"
     ]
    }
   ],
   "source": [
    "withCallingHandlers({\n",
    "    message('Computing....')\n",
    "}, message = function(cnd) 'wating and be patient')"
   ]
  },
  {
   "cell_type": "markdown",
   "id": "interracial-excess",
   "metadata": {},
   "source": [
    "# 5. Custom condition"
   ]
  },
  {
   "cell_type": "markdown",
   "id": "enhanced-singles",
   "metadata": {},
   "source": [
    "why custom condition? Because built-in **condition object** only have `message` and `call` which are not much useful"
   ]
  },
  {
   "cell_type": "code",
   "execution_count": 87,
   "id": "beneficial-values",
   "metadata": {},
   "outputs": [
    {
     "name": "stdout",
     "output_type": "stream",
     "text": [
      "List of 5\n",
      " $ message: chr \"Time Limit Exceeded\"\n",
      " $ trace  :List of 3\n",
      "  ..$ calls  :List of 31\n",
      "  .. ..$ : language IRkernel::main()\n",
      "  .. ..$ : language kernel$run()\n",
      "  .. ..$ : language IRkernel:::handle_shell()\n",
      "  .. ..$ : language executor$execute(msg)\n",
      "  .. ..$ : language base::tryCatch(evaluate(request$content$code, envir = .GlobalEnv, output_handler = oh,      stop_on_error = 1L), | __truncated__ ...\n",
      "  .. ..$ : language base:::tryCatchList(expr, classes, parentenv, handlers)\n",
      "  .. ..$ : language base:::tryCatchOne(tryCatchList(expr, names[-nh], parentenv, handlers[-nh]),      names[nh], parentenv, handlers[[nh]])\n",
      "  .. ..$ : language base:::doTryCatch(return(expr), name, parentenv, handler)\n",
      "  .. ..$ : language base:::tryCatchList(expr, names[-nh], parentenv, handlers[-nh])\n",
      "  .. ..$ : language base:::tryCatchOne(expr, names, parentenv, handlers[[1L]])\n",
      "  .. ..$ : language base:::doTryCatch(return(expr), name, parentenv, handler)\n",
      "  .. ..$ : language evaluate::evaluate(request$content$code, envir = .GlobalEnv, output_handler = oh,      stop_on_error = 1L)\n",
      "  .. ..$ : language evaluate:::evaluate_call(expr, parsed$src[[i]], envir = envir, enclos = enclos,      debug = debug, last = i == l| __truncated__ ...\n",
      "  .. ..$ : language evaluate:::timing_fn(handle(ev <- withCallingHandlers(withVisible(eval(expr,      envir, enclos)), warning = wHan| __truncated__\n",
      "  .. ..$ : language evaluate:::handle(ev <- withCallingHandlers(withVisible(eval(expr, envir,      enclos)), warning = wHandler, erro| __truncated__\n",
      "  .. ..$ : language base::try(f, silent = TRUE)\n",
      "  .. ..$ : language base::tryCatch(expr, error = function(e) {     call <- conditionCall(e) ...\n",
      "  .. ..$ : language base:::tryCatchList(expr, classes, parentenv, handlers)\n",
      "  .. ..$ : language base:::tryCatchOne(expr, names, parentenv, handlers[[1L]])\n",
      "  .. ..$ : language base:::doTryCatch(return(expr), name, parentenv, handler)\n",
      "  .. ..$ : language base::withCallingHandlers(withVisible(eval(expr, envir, enclos)), warning = wHandler,      error = eHandler, message = mHandler)\n",
      "  .. ..$ : language base::withVisible(eval(expr, envir, enclos))\n",
      "  .. ..$ : language base::eval(expr, envir, enclos)\n",
      "  .. ..$ : language base::eval(expr, envir, enclos)\n",
      "  .. ..$ : language rlang::catch_cnd({     abort(message = \"Time Limit Exceeded\", class = \"performace\", website = \"leetcode\",  ...\n",
      "  .. ..$ : language rlang::eval_bare(rlang::expr(tryCatch(!!!handlers, {     force(expr) ...\n",
      "  .. ..$ : language base::tryCatch(condition = function (x)  x, { ...\n",
      "  .. ..$ : language base:::tryCatchList(expr, classes, parentenv, handlers)\n",
      "  .. ..$ : language base:::tryCatchOne(expr, names, parentenv, handlers[[1L]])\n",
      "  .. ..$ : language base:::doTryCatch(return(expr), name, parentenv, handler)\n",
      "  .. ..$ : language base::force(expr)\n",
      "  ..$ parents: int [1:31] 0 1 2 3 4 5 6 7 6 9 ...\n",
      "  ..$ indices: int [1:31] 1 2 3 4 5 6 7 8 9 10 ...\n",
      "  ..- attr(*, \"class\")= chr \"rlang_trace\"\n",
      "  ..- attr(*, \"version\")= int 1\n",
      " $ parent : NULL\n",
      " $ website: chr \"leetcode\"\n",
      " $ topic  : chr \"Graph\"\n",
      " - attr(*, \"class\")= chr [1:4] \"performace\" \"rlang_error\" \"error\" \"condition\"\n"
     ]
    }
   ],
   "source": [
    "# custom condition object with additional attributes\n",
    "# class name 'Performance' with 2 additional attributes: \"website\" and \"topic\"\n",
    "custom_cnd_obj <- catch_cnd({\n",
    "    abort(message = 'Time Limit Exceeded', class = 'performace', website = 'leetcode', topic = 'Graph')\n",
    "})\n",
    "str(custom_cnd_obj)"
   ]
  },
  {
   "cell_type": "markdown",
   "id": "packed-retrieval",
   "metadata": {},
   "source": [
    "### 5.1 Signalling"
   ]
  },
  {
   "cell_type": "markdown",
   "id": "departmental-thread",
   "metadata": {},
   "source": [
    "Let's look at the `base::log` function"
   ]
  },
  {
   "cell_type": "code",
   "execution_count": 88,
   "id": "considerable-chester",
   "metadata": {},
   "outputs": [
    {
     "ename": "ERROR",
     "evalue": "Error in log(\"a\"): non-numeric argument to mathematical function\n",
     "output_type": "error",
     "traceback": [
      "Error in log(\"a\"): non-numeric argument to mathematical function\nTraceback:\n"
     ]
    }
   ],
   "source": [
    "log('a')"
   ]
  },
  {
   "cell_type": "code",
   "execution_count": 89,
   "id": "equal-disease",
   "metadata": {},
   "outputs": [
    {
     "ename": "ERROR",
     "evalue": "Error in log(1, base = \"a\"): non-numeric argument to mathematical function\n",
     "output_type": "error",
     "traceback": [
      "Error in log(1, base = \"a\"): non-numeric argument to mathematical function\nTraceback:\n"
     ]
    }
   ],
   "source": [
    "log(1, base = 'a')"
   ]
  },
  {
   "cell_type": "markdown",
   "id": "decimal-darkness",
   "metadata": {},
   "source": [
    " let's create a custom signal condition\n"
   ]
  },
  {
   "cell_type": "code",
   "execution_count": 93,
   "id": "mobile-knowing",
   "metadata": {},
   "outputs": [],
   "source": [
    "abort_invalid_argument <- function(argument_name, expected_type) {\n",
    "    msg <- str_c(argument_name, ' must be of type ', expected_type, ', not ', typeof(argument_name))\n",
    "    \n",
    "    abort(message = msg,\n",
    "         class = 'invalid_argument',\n",
    "          argument_name = argument_name,\n",
    "          expected_type = expected_type)\n",
    "}"
   ]
  },
  {
   "cell_type": "code",
   "execution_count": 94,
   "id": "regional-horse",
   "metadata": {},
   "outputs": [],
   "source": [
    "# a better log function\n",
    "my_log <- function(x, base = exp(1)) {\n",
    "    if(!is.numeric(x))\n",
    "        abort_invalid_argument('x', 'numeric')\n",
    "    if(!is.numeric(base))\n",
    "        abort_invalid_argument('base', 'numeric')\n",
    "    log(x, base)\n",
    "}"
   ]
  },
  {
   "cell_type": "code",
   "execution_count": 95,
   "id": "dressed-principal",
   "metadata": {},
   "outputs": [
    {
     "ename": "ERROR",
     "evalue": "Error: x must be of type numeric, not character\n",
     "output_type": "error",
     "traceback": [
      "Error: x must be of type numeric, not character\nTraceback:\n",
      "1. my_log(\"a\")",
      "2. abort_invalid_argument(\"x\", \"numeric\")   # at line 3-4 of file <text>",
      "3. abort(message = msg, class = \"invalid_argument\", argument_name = argument_name, \n .     expected_type = expected_type)   # at line 4-7 of file <text>",
      "4. signal_abort(cnd)"
     ]
    }
   ],
   "source": [
    "my_log('a')"
   ]
  },
  {
   "cell_type": "code",
   "execution_count": 96,
   "id": "fifty-depression",
   "metadata": {},
   "outputs": [
    {
     "ename": "ERROR",
     "evalue": "Error: base must be of type numeric, not character\n",
     "output_type": "error",
     "traceback": [
      "Error: base must be of type numeric, not character\nTraceback:\n",
      "1. my_log(1, base = \"a\")",
      "2. abort_invalid_argument(\"base\", \"numeric\")   # at line 5-6 of file <text>",
      "3. abort(message = msg, class = \"invalid_argument\", argument_name = argument_name, \n .     expected_type = expected_type)   # at line 4-7 of file <text>",
      "4. signal_abort(cnd)"
     ]
    }
   ],
   "source": [
    "my_log(1, base = 'a')"
   ]
  },
  {
   "cell_type": "code",
   "execution_count": 99,
   "id": "focused-activation",
   "metadata": {},
   "outputs": [
    {
     "data": {
      "text/html": [
       "<dl>\n",
       "\t<dt>$names</dt>\n",
       "\t\t<dd><style>\n",
       ".list-inline {list-style: none; margin:0; padding: 0}\n",
       ".list-inline>li {display: inline-block}\n",
       ".list-inline>li:not(:last-child)::after {content: \"\\00b7\"; padding: 0 .5ex}\n",
       "</style>\n",
       "<ol class=list-inline><li>'message'</li><li>'trace'</li><li>'parent'</li><li>'argument_name'</li><li>'expected_type'</li></ol>\n",
       "</dd>\n",
       "\t<dt>$class</dt>\n",
       "\t\t<dd><style>\n",
       ".list-inline {list-style: none; margin:0; padding: 0}\n",
       ".list-inline>li {display: inline-block}\n",
       ".list-inline>li:not(:last-child)::after {content: \"\\00b7\"; padding: 0 .5ex}\n",
       "</style>\n",
       "<ol class=list-inline><li>'invalid_argument'</li><li>'rlang_error'</li><li>'error'</li><li>'condition'</li></ol>\n",
       "</dd>\n",
       "</dl>\n"
      ],
      "text/latex": [
       "\\begin{description}\n",
       "\\item[\\$names] \\begin{enumerate*}\n",
       "\\item 'message'\n",
       "\\item 'trace'\n",
       "\\item 'parent'\n",
       "\\item 'argument\\_name'\n",
       "\\item 'expected\\_type'\n",
       "\\end{enumerate*}\n",
       "\n",
       "\\item[\\$class] \\begin{enumerate*}\n",
       "\\item 'invalid\\_argument'\n",
       "\\item 'rlang\\_error'\n",
       "\\item 'error'\n",
       "\\item 'condition'\n",
       "\\end{enumerate*}\n",
       "\n",
       "\\end{description}\n"
      ],
      "text/markdown": [
       "$names\n",
       ":   1. 'message'\n",
       "2. 'trace'\n",
       "3. 'parent'\n",
       "4. 'argument_name'\n",
       "5. 'expected_type'\n",
       "\n",
       "\n",
       "\n",
       "$class\n",
       ":   1. 'invalid_argument'\n",
       "2. 'rlang_error'\n",
       "3. 'error'\n",
       "4. 'condition'\n",
       "\n",
       "\n",
       "\n",
       "\n",
       "\n"
      ],
      "text/plain": [
       "$names\n",
       "[1] \"message\"       \"trace\"         \"parent\"        \"argument_name\"\n",
       "[5] \"expected_type\"\n",
       "\n",
       "$class\n",
       "[1] \"invalid_argument\" \"rlang_error\"      \"error\"            \"condition\"       \n"
      ]
     },
     "metadata": {},
     "output_type": "display_data"
    }
   ],
   "source": [
    "# catch custom condition object\n",
    "custom_cnd_obj <- catch_cnd(my_log('a'))\n",
    "attributes(custom_cnd_obj)"
   ]
  },
  {
   "cell_type": "markdown",
   "id": "raised-action",
   "metadata": {},
   "source": [
    "### 5.2 Handling"
   ]
  },
  {
   "cell_type": "code",
   "execution_count": 103,
   "id": "second-monday",
   "metadata": {},
   "outputs": [],
   "source": [
    "library(testthat)"
   ]
  },
  {
   "cell_type": "markdown",
   "id": "animated-shakespeare",
   "metadata": {},
   "source": [
    "The following code captures the error, and then asserts it has the structure that we expect."
   ]
  },
  {
   "cell_type": "code",
   "execution_count": 105,
   "id": "selected-orientation",
   "metadata": {},
   "outputs": [],
   "source": [
    "expect_s3_class(custom_cnd_obj, 'invalid_argument')\n",
    "expect_equal(custom_cnd_obj$argument_name, 'x')\n",
    "expect_equal(custom_cnd_obj$expected_type, 'numeric')"
   ]
  },
  {
   "cell_type": "markdown",
   "id": "wooden-portable",
   "metadata": {},
   "source": [
    "Handling custom condition, use `invalid_argument` in `tryCatch`"
   ]
  },
  {
   "cell_type": "code",
   "execution_count": 109,
   "id": "controlled-kuwait",
   "metadata": {},
   "outputs": [
    {
     "name": "stdout",
     "output_type": "stream",
     "text": [
      "[1] \"invalid argument\"\n"
     ]
    }
   ],
   "source": [
    "tryCatch({\n",
    "    my_log('a')\n",
    "}, \n",
    "         invalid_argument = function(cnd) print('invalid argument'),\n",
    "         error = function(cnd) print('other error')\n",
    ")"
   ]
  },
  {
   "cell_type": "markdown",
   "id": "mechanical-visibility",
   "metadata": {},
   "source": [
    "When using **`tryCatch()`** with multiple handlers and custom classes, the first handler to match any class in the signal’s class vector is called, not the best match. For this reason, you need to make sure to put the most specific handlers first. The following code does not do what you might hope:"
   ]
  },
  {
   "cell_type": "code",
   "execution_count": 112,
   "id": "inclusive-penetration",
   "metadata": {},
   "outputs": [
    {
     "name": "stdout",
     "output_type": "stream",
     "text": [
      "[1] \"other error\"\n"
     ]
    }
   ],
   "source": [
    "tryCatch({\n",
    "    my_log('a')\n",
    "},\n",
    "         # error and invalid_arugment both share class \"error\"\n",
    "         error = function(cnd) print('other error'),\n",
    "         invalid_argument = function(cnd) print('invalid argument')\n",
    ")"
   ]
  },
  {
   "cell_type": "markdown",
   "id": "accomplished-navigator",
   "metadata": {},
   "source": [
    "### 5.3 Exercises"
   ]
  },
  {
   "cell_type": "markdown",
   "id": "conceptual-folder",
   "metadata": {},
   "source": [
    ">Inside a package, it’s occasionally useful to check that a package is installed before using it. Write a function that checks if a package is installed (with `requireNamespace(\"pkg\", quietly = FALSE))` and if not, throws a custom condition that includes the package name in the metadata."
   ]
  },
  {
   "cell_type": "code",
   "execution_count": 117,
   "id": "collected-experience",
   "metadata": {},
   "outputs": [],
   "source": [
    "abort_uninstalled_package <- function(package_name) {\n",
    "    abort('missing_package', \n",
    "          glue('package \"{package_name}\" is not installed'),\n",
    "          package_name = package_name)\n",
    "}\n",
    "\n",
    "check_package <- function(name) {\n",
    "    if(!requireNamespace(name, quietly = T))\n",
    "        abort_uninstalled_package(name)\n",
    "}\n"
   ]
  },
  {
   "cell_type": "code",
   "execution_count": 118,
   "id": "oriented-render",
   "metadata": {},
   "outputs": [],
   "source": [
    "check_package('ggplot2')"
   ]
  },
  {
   "cell_type": "code",
   "execution_count": 119,
   "id": "unexpected-fitness",
   "metadata": {},
   "outputs": [
    {
     "ename": "ERROR",
     "evalue": "Error: missing_package\n",
     "output_type": "error",
     "traceback": [
      "Error: missing_package\nTraceback:\n",
      "1. check_package(\"ggvis\")",
      "2. abort_uninstalled_package(name)   # at line 8-9 of file <text>",
      "3. abort(\"missing_package\", glue(\"package \\\"{package_name}\\\" is not installed\"), \n .     package_name = package_name)   # at line 2-4 of file <text>",
      "4. signal_abort(cnd)"
     ]
    }
   ],
   "source": [
    "check_package('ggvis')"
   ]
  },
  {
   "cell_type": "markdown",
   "id": "written-celebrity",
   "metadata": {},
   "source": [
    "# 6. Exercises"
   ]
  },
  {
   "cell_type": "markdown",
   "id": "respiratory-external",
   "metadata": {},
   "source": [
    ">Write **`purrr:possibly`** from scratch"
   ]
  },
  {
   "cell_type": "code",
   "execution_count": 10,
   "id": "convertible-smile",
   "metadata": {},
   "outputs": [
    {
     "data": {
      "text/html": [
       "6"
      ],
      "text/latex": [
       "6"
      ],
      "text/markdown": [
       "6"
      ],
      "text/plain": [
       "[1] 6"
      ]
     },
     "metadata": {},
     "output_type": "display_data"
    }
   ],
   "source": [
    "# implement this as an decorator\n",
    "my_possibly <- function(.f, otherwise, quiet = TRUE) {\n",
    "  .f <- as_mapper(.f)\n",
    "  # see section 10.2.3 Forcing Evaluation from this chapter\n",
    "  # <https://adv-r.hadley.nz/function-factories.html>\n",
    "  force(otherwise)\n",
    "  function(...) {\n",
    "    tryCatch(\n",
    "      {\n",
    "        .f(...)\n",
    "      },\n",
    "      error = function(cnd) {\n",
    "        # signal error if we do not want `quiet`\n",
    "        if (!quiet) {\n",
    "          message(\"Error: \", cnd$message)\n",
    "        }\n",
    "        otherwise\n",
    "      },\n",
    "      interrupt = function(cnd) {\n",
    "        stop(\"Terminated by user\", .call = FALSE)\n",
    "      }\n",
    "    )\n",
    "  }\n",
    "}\n",
    "\n",
    "\n",
    "sum_poss <- my_possibly(sum, 0, FALSE)\n",
    "\n",
    "sum_poss(1:3)\n"
   ]
  },
  {
   "cell_type": "code",
   "execution_count": 3,
   "id": "relevant-rouge",
   "metadata": {},
   "outputs": [
    {
     "name": "stderr",
     "output_type": "stream",
     "text": [
      "Error: invalid 'type' (character) of argument\n",
      "\n"
     ]
    },
    {
     "data": {
      "text/html": [
       "0"
      ],
      "text/latex": [
       "0"
      ],
      "text/markdown": [
       "0"
      ],
      "text/plain": [
       "[1] 0"
      ]
     },
     "metadata": {},
     "output_type": "display_data"
    }
   ],
   "source": [
    "sum_poss(c(1, 5, 'a'))"
   ]
  },
  {
   "cell_type": "markdown",
   "id": "offensive-vision",
   "metadata": {},
   "source": [
    ">Write **`purrr::safely`** from scratch"
   ]
  },
  {
   "cell_type": "code",
   "execution_count": 6,
   "id": "independent-miracle",
   "metadata": {},
   "outputs": [],
   "source": [
    "my_safely <- function(.f, otherwise = NULL, quiet = TRUE) {\n",
    "  .f <- as_mapper(.f)\n",
    "  force(otherwise)\n",
    "  function(...) {\n",
    "    tryCatch(\n",
    "      {\n",
    "        list(result = .f(...), error = NULL)\n",
    "      },\n",
    "      error = function(cnd) {\n",
    "        if (!quiet) {\n",
    "          message(\"Error: \", cnd$message)\n",
    "        }\n",
    "        list(result = otherwise, error = cnd)\n",
    "      },\n",
    "      interrupt = function(cnd) {\n",
    "        stop(\"Terminate by user\", .call = FALSE)\n",
    "      }\n",
    "    )\n",
    "  }\n",
    "}\n",
    "\n",
    "\n",
    "safe_sum <- my_safely(sum, 0, FALSE)"
   ]
  },
  {
   "cell_type": "code",
   "execution_count": 8,
   "id": "given-cameroon",
   "metadata": {},
   "outputs": [
    {
     "data": {
      "text/html": [
       "<dl>\n",
       "\t<dt>$result</dt>\n",
       "\t\t<dd>55</dd>\n",
       "\t<dt>$error</dt>\n",
       "\t\t<dd>NULL</dd>\n",
       "</dl>\n"
      ],
      "text/latex": [
       "\\begin{description}\n",
       "\\item[\\$result] 55\n",
       "\\item[\\$error] NULL\n",
       "\\end{description}\n"
      ],
      "text/markdown": [
       "$result\n",
       ":   55\n",
       "$error\n",
       ":   NULL\n",
       "\n",
       "\n"
      ],
      "text/plain": [
       "$result\n",
       "[1] 55\n",
       "\n",
       "$error\n",
       "NULL\n"
      ]
     },
     "metadata": {},
     "output_type": "display_data"
    }
   ],
   "source": [
    "safe_sum(1:10)"
   ]
  },
  {
   "cell_type": "code",
   "execution_count": 9,
   "id": "seventh-pledge",
   "metadata": {},
   "outputs": [
    {
     "name": "stderr",
     "output_type": "stream",
     "text": [
      "Error: invalid 'type' (character) of argument\n",
      "\n"
     ]
    },
    {
     "data": {
      "text/plain": [
       "$result\n",
       "[1] 0\n",
       "\n",
       "$error\n",
       "<simpleError in .Primitive(\"sum\")(..., na.rm = na.rm): invalid 'type' (character) of argument>\n"
      ]
     },
     "metadata": {},
     "output_type": "display_data"
    }
   ],
   "source": [
    "safe_sum(c(1, 'a', 8))"
   ]
  },
  {
   "cell_type": "code",
   "execution_count": null,
   "id": "separated-arrow",
   "metadata": {},
   "outputs": [],
   "source": []
  }
 ],
 "metadata": {
  "kernelspec": {
   "display_name": "R",
   "language": "R",
   "name": "ir"
  },
  "language_info": {
   "codemirror_mode": "r",
   "file_extension": ".r",
   "mimetype": "text/x-r-source",
   "name": "R",
   "pygments_lexer": "r",
   "version": "4.0.4"
  }
 },
 "nbformat": 4,
 "nbformat_minor": 5
}
