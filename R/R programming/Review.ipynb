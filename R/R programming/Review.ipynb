{
 "cells": [
  {
   "cell_type": "code",
   "execution_count": 1,
   "metadata": {},
   "outputs": [
    {
     "data": {
      "text/html": [
       "<ol class=list-inline>\n",
       "\t<li>1</li>\n",
       "\t<li>2</li>\n",
       "\t<li>3</li>\n",
       "</ol>\n"
      ],
      "text/latex": [
       "\\begin{enumerate*}\n",
       "\\item 1\n",
       "\\item 2\n",
       "\\item 3\n",
       "\\end{enumerate*}\n"
      ],
      "text/markdown": [
       "1. 1\n",
       "2. 2\n",
       "3. 3\n",
       "\n",
       "\n"
      ],
      "text/plain": [
       "[1] 1 2 3"
      ]
     },
     "metadata": {},
     "output_type": "display_data"
    }
   ],
   "source": [
    "c(1L, 2L, 3L)"
   ]
  },
  {
   "cell_type": "code",
   "execution_count": 2,
   "metadata": {},
   "outputs": [
    {
     "data": {
      "text/html": [
       "<ol class=list-inline>\n",
       "\t<li>1.2</li>\n",
       "\t<li>2.3</li>\n",
       "\t<li>3.4</li>\n",
       "</ol>\n"
      ],
      "text/latex": [
       "\\begin{enumerate*}\n",
       "\\item 1.2\n",
       "\\item 2.3\n",
       "\\item 3.4\n",
       "\\end{enumerate*}\n"
      ],
      "text/markdown": [
       "1. 1.2\n",
       "2. 2.3\n",
       "3. 3.4\n",
       "\n",
       "\n"
      ],
      "text/plain": [
       "[1] 1.2 2.3 3.4"
      ]
     },
     "metadata": {},
     "output_type": "display_data"
    }
   ],
   "source": [
    "c(1.2, 2.3, 3.4)"
   ]
  },
  {
   "cell_type": "code",
   "execution_count": 3,
   "metadata": {},
   "outputs": [
    {
     "data": {
      "text/html": [
       "<ol class=list-inline>\n",
       "\t<li>1+2i</li>\n",
       "\t<li>3+2i</li>\n",
       "\t<li>0+5i</li>\n",
       "</ol>\n"
      ],
      "text/latex": [
       "\\begin{enumerate*}\n",
       "\\item 1+2i\n",
       "\\item 3+2i\n",
       "\\item 0+5i\n",
       "\\end{enumerate*}\n"
      ],
      "text/markdown": [
       "1. 1+2i\n",
       "2. 3+2i\n",
       "3. 0+5i\n",
       "\n",
       "\n"
      ],
      "text/plain": [
       "[1] 1+2i 3+2i 0+5i"
      ]
     },
     "metadata": {},
     "output_type": "display_data"
    }
   ],
   "source": [
    "c(1 + 2i, 3 + 2i, 5i)"
   ]
  },
  {
   "cell_type": "code",
   "execution_count": 4,
   "metadata": {},
   "outputs": [
    {
     "data": {
      "text/html": [
       "<ol class=list-inline>\n",
       "\t<li>'VN Pikachu'</li>\n",
       "\t<li>'Meomeo888'</li>\n",
       "\t<li>'Tank Cao'</li>\n",
       "</ol>\n"
      ],
      "text/latex": [
       "\\begin{enumerate*}\n",
       "\\item 'VN Pikachu'\n",
       "\\item 'Meomeo888'\n",
       "\\item 'Tank Cao'\n",
       "\\end{enumerate*}\n"
      ],
      "text/markdown": [
       "1. 'VN Pikachu'\n",
       "2. 'Meomeo888'\n",
       "3. 'Tank Cao'\n",
       "\n",
       "\n"
      ],
      "text/plain": [
       "[1] \"VN Pikachu\" \"Meomeo888\"  \"Tank Cao\"  "
      ]
     },
     "metadata": {},
     "output_type": "display_data"
    }
   ],
   "source": [
    "c('VN Pikachu', 'Meomeo888', 'Tank Cao')"
   ]
  },
  {
   "cell_type": "code",
   "execution_count": 6,
   "metadata": {},
   "outputs": [
    {
     "data": {
      "text/plain": [
       " [1] 4b 69 6e 67 20 41 6c 6c 6f 6f 6c"
      ]
     },
     "metadata": {},
     "output_type": "display_data"
    }
   ],
   "source": [
    "charToRaw('King Allool')"
   ]
  },
  {
   "cell_type": "code",
   "execution_count": 7,
   "metadata": {},
   "outputs": [
    {
     "data": {
      "text/html": [
       "'integer'"
      ],
      "text/latex": [
       "'integer'"
      ],
      "text/markdown": [
       "'integer'"
      ],
      "text/plain": [
       "[1] \"integer\""
      ]
     },
     "metadata": {},
     "output_type": "display_data"
    }
   ],
   "source": [
    "class(1L)"
   ]
  },
  {
   "cell_type": "code",
   "execution_count": 8,
   "metadata": {},
   "outputs": [
    {
     "data": {
      "text/html": [
       "TRUE"
      ],
      "text/latex": [
       "TRUE"
      ],
      "text/markdown": [
       "TRUE"
      ],
      "text/plain": [
       "[1] TRUE"
      ]
     },
     "metadata": {},
     "output_type": "display_data"
    }
   ],
   "source": [
    "TRUE"
   ]
  },
  {
   "cell_type": "code",
   "execution_count": 9,
   "metadata": {},
   "outputs": [
    {
     "data": {
      "text/html": [
       "'logical'"
      ],
      "text/latex": [
       "'logical'"
      ],
      "text/markdown": [
       "'logical'"
      ],
      "text/plain": [
       "[1] \"logical\""
      ]
     },
     "metadata": {},
     "output_type": "display_data"
    }
   ],
   "source": [
    "class(TRUE)"
   ]
  },
  {
   "cell_type": "code",
   "execution_count": 10,
   "metadata": {},
   "outputs": [
    {
     "data": {
      "text/html": [
       "'numeric'"
      ],
      "text/latex": [
       "'numeric'"
      ],
      "text/markdown": [
       "'numeric'"
      ],
      "text/plain": [
       "[1] \"numeric\""
      ]
     },
     "metadata": {},
     "output_type": "display_data"
    }
   ],
   "source": [
    "class(1.2)"
   ]
  },
  {
   "cell_type": "code",
   "execution_count": 11,
   "metadata": {},
   "outputs": [
    {
     "data": {
      "text/html": [
       "<ol class=list-inline>\n",
       "\t<li>1</li>\n",
       "\t<li>2</li>\n",
       "\t<li>3</li>\n",
       "</ol>\n"
      ],
      "text/latex": [
       "\\begin{enumerate*}\n",
       "\\item 1\n",
       "\\item 2\n",
       "\\item 3\n",
       "\\end{enumerate*}\n"
      ],
      "text/markdown": [
       "1. 1\n",
       "2. 2\n",
       "3. 3\n",
       "\n",
       "\n"
      ],
      "text/plain": [
       "[1] 1 2 3"
      ]
     },
     "metadata": {},
     "output_type": "display_data"
    }
   ],
   "source": [
    "c(1, 2, 3)"
   ]
  },
  {
   "cell_type": "code",
   "execution_count": 12,
   "metadata": {},
   "outputs": [
    {
     "data": {
      "text/html": [
       "<ol class=list-inline>\n",
       "\t<li>1</li>\n",
       "\t<li>2</li>\n",
       "\t<li>3</li>\n",
       "\t<li>4</li>\n",
       "\t<li>5</li>\n",
       "\t<li>6</li>\n",
       "</ol>\n"
      ],
      "text/latex": [
       "\\begin{enumerate*}\n",
       "\\item 1\n",
       "\\item 2\n",
       "\\item 3\n",
       "\\item 4\n",
       "\\item 5\n",
       "\\item 6\n",
       "\\end{enumerate*}\n"
      ],
      "text/markdown": [
       "1. 1\n",
       "2. 2\n",
       "3. 3\n",
       "4. 4\n",
       "5. 5\n",
       "6. 6\n",
       "\n",
       "\n"
      ],
      "text/plain": [
       "[1] 1 2 3 4 5 6"
      ]
     },
     "metadata": {},
     "output_type": "display_data"
    }
   ],
   "source": [
    "c(c(1,2,3), c(4, 5, 6))"
   ]
  },
  {
   "cell_type": "code",
   "execution_count": 14,
   "metadata": {},
   "outputs": [
    {
     "data": {
      "text/plain": [
       "[[1]]\n",
       "[1] 1\n",
       "\n",
       "[[2]]\n",
       "[1] 3.1416\n",
       "\n",
       "[[3]]\n",
       "[1] 0+1i\n",
       "\n",
       "[[4]]\n",
       "[1] TRUE\n",
       "\n",
       "[[5]]\n",
       "[1] \"Hello World!\"\n",
       "\n",
       "[[6]]\n",
       " [1] 52 20 70 72 6f 67 72 61 6d 6d 69 6e 67\n"
      ]
     },
     "metadata": {},
     "output_type": "display_data"
    }
   ],
   "source": [
    "list(1L, 3.1416, 1i, TRUE, c('Hello World!'), charToRaw('R programming'))"
   ]
  },
  {
   "cell_type": "code",
   "execution_count": 17,
   "metadata": {},
   "outputs": [
    {
     "name": "stdout",
     "output_type": "stream",
     "text": [
      ", , 1\n",
      "\n",
      "     [,1] [,2]\n",
      "[1,]    1    3\n",
      "[2,]    2    4\n",
      "\n",
      ", , 2\n",
      "\n",
      "     [,1] [,2]\n",
      "[1,]    5    7\n",
      "[2,]    6    8\n",
      "\n"
     ]
    }
   ],
   "source": [
    "mat = array(1:8, dim = c(2,2,2))\n",
    "print(mat)"
   ]
  },
  {
   "cell_type": "code",
   "execution_count": 19,
   "metadata": {},
   "outputs": [
    {
     "data": {
      "text/html": [
       "FALSE"
      ],
      "text/latex": [
       "FALSE"
      ],
      "text/markdown": [
       "FALSE"
      ],
      "text/plain": [
       "[1] FALSE"
      ]
     },
     "metadata": {},
     "output_type": "display_data"
    }
   ],
   "source": [
    "genders <- c('Male', 'Female', 'Female', 'Male', 'Female')\n",
    "is.factor(genders)"
   ]
  },
  {
   "cell_type": "code",
   "execution_count": 23,
   "metadata": {},
   "outputs": [
    {
     "data": {
      "text/html": [
       "<ol class=list-inline>\n",
       "\t<li>Male</li>\n",
       "\t<li>Female</li>\n",
       "\t<li>Female</li>\n",
       "\t<li>Male</li>\n",
       "\t<li>Female</li>\n",
       "</ol>\n",
       "\n",
       "<details>\n",
       "\t<summary style=display:list-item;cursor:pointer>\n",
       "\t\t<strong>Levels</strong>:\n",
       "\t</summary>\n",
       "\t<ol class=list-inline>\n",
       "\t\t<li>'Female'</li>\n",
       "\t\t<li>'Male'</li>\n",
       "\t</ol>\n",
       "</details>"
      ],
      "text/latex": [
       "\\begin{enumerate*}\n",
       "\\item Male\n",
       "\\item Female\n",
       "\\item Female\n",
       "\\item Male\n",
       "\\item Female\n",
       "\\end{enumerate*}\n",
       "\n",
       "\\emph{Levels}: \\begin{enumerate*}\n",
       "\\item 'Female'\n",
       "\\item 'Male'\n",
       "\\end{enumerate*}\n"
      ],
      "text/markdown": [
       "1. Male\n",
       "2. Female\n",
       "3. Female\n",
       "4. Male\n",
       "5. Female\n",
       "\n",
       "\n",
       "\n",
       "**Levels**: 1. 'Female'\n",
       "2. 'Male'\n",
       "\n",
       "\n"
      ],
      "text/plain": [
       "[1] Male   Female Female Male   Female\n",
       "Levels: Female Male"
      ]
     },
     "metadata": {},
     "output_type": "display_data"
    }
   ],
   "source": [
    "cat <- factor(genders)\n",
    "cat"
   ]
  },
  {
   "cell_type": "code",
   "execution_count": 24,
   "metadata": {},
   "outputs": [
    {
     "data": {
      "text/html": [
       "TRUE"
      ],
      "text/latex": [
       "TRUE"
      ],
      "text/markdown": [
       "TRUE"
      ],
      "text/plain": [
       "[1] TRUE"
      ]
     },
     "metadata": {},
     "output_type": "display_data"
    }
   ],
   "source": [
    "is.factor(cat)"
   ]
  },
  {
   "cell_type": "code",
   "execution_count": 26,
   "metadata": {},
   "outputs": [
    {
     "data": {
      "text/html": [
       "<table>\n",
       "<thead><tr><th></th><th scope=col>a</th><th scope=col>b</th><th scope=col>c</th><th scope=col>d</th></tr></thead>\n",
       "<tbody>\n",
       "\t<tr><th scope=row>a</th><td>1 </td><td>4 </td><td>7 </td><td>10</td></tr>\n",
       "\t<tr><th scope=row>b</th><td>2 </td><td>5 </td><td>8 </td><td>11</td></tr>\n",
       "\t<tr><th scope=row>c</th><td>3 </td><td>6 </td><td>9 </td><td>12</td></tr>\n",
       "</tbody>\n",
       "</table>\n"
      ],
      "text/latex": [
       "\\begin{tabular}{r|llll}\n",
       "  & a & b & c & d\\\\\n",
       "\\hline\n",
       "\ta & 1  & 4  & 7  & 10\\\\\n",
       "\tb & 2  & 5  & 8  & 11\\\\\n",
       "\tc & 3  & 6  & 9  & 12\\\\\n",
       "\\end{tabular}\n"
      ],
      "text/markdown": [
       "\n",
       "| <!--/--> | a | b | c | d |\n",
       "|---|---|---|---|---|\n",
       "| a | 1  | 4  | 7  | 10 |\n",
       "| b | 2  | 5  | 8  | 11 |\n",
       "| c | 3  | 6  | 9  | 12 |\n",
       "\n"
      ],
      "text/plain": [
       "  a b c d \n",
       "a 1 4 7 10\n",
       "b 2 5 8 11\n",
       "c 3 6 9 12"
      ]
     },
     "metadata": {},
     "output_type": "display_data"
    }
   ],
   "source": [
    "matrix(1:12, nrow = 3, ncol = 4, byrow = FALSE, dimnames = list(c('a', 'b', 'c'), c('a', 'b', 'c', 'd')))"
   ]
  },
  {
   "cell_type": "code",
   "execution_count": 27,
   "metadata": {},
   "outputs": [
    {
     "data": {
      "text/html": [
       "<dl>\n",
       "\t<dt>$Name</dt>\n",
       "\t\t<dd>'VN Pikachu'</dd>\n",
       "\t<dt>$Level</dt>\n",
       "\t\t<dd>31</dd>\n",
       "\t<dt>$Stats</dt>\n",
       "\t\t<dd><ol class=list-inline>\n",
       "\t<li>57611</li>\n",
       "\t<li>2799</li>\n",
       "</ol>\n",
       "</dd>\n",
       "</dl>\n"
      ],
      "text/latex": [
       "\\begin{description}\n",
       "\\item[\\$Name] 'VN Pikachu'\n",
       "\\item[\\$Level] 31\n",
       "\\item[\\$Stats] \\begin{enumerate*}\n",
       "\\item 57611\n",
       "\\item 2799\n",
       "\\end{enumerate*}\n",
       "\n",
       "\\end{description}\n"
      ],
      "text/markdown": [
       "$Name\n",
       ":   'VN Pikachu'\n",
       "$Level\n",
       ":   31\n",
       "$Stats\n",
       ":   1. 57611\n",
       "2. 2799\n",
       "\n",
       "\n",
       "\n",
       "\n",
       "\n"
      ],
      "text/plain": [
       "$Name\n",
       "[1] \"VN Pikachu\"\n",
       "\n",
       "$Level\n",
       "[1] 31\n",
       "\n",
       "$Stats\n",
       "[1] 57611  2799\n"
      ]
     },
     "metadata": {},
     "output_type": "display_data"
    }
   ],
   "source": [
    "player = list('VN Pikachu', 31, c(57611, 2799))\n",
    "names(player) <- c('Name', 'Level', 'Stats')\n",
    "player"
   ]
  },
  {
   "cell_type": "code",
   "execution_count": 29,
   "metadata": {},
   "outputs": [
    {
     "data": {
      "text/html": [
       "'VN Pikachu'"
      ],
      "text/latex": [
       "'VN Pikachu'"
      ],
      "text/markdown": [
       "'VN Pikachu'"
      ],
      "text/plain": [
       "[1] \"VN Pikachu\""
      ]
     },
     "metadata": {},
     "output_type": "display_data"
    }
   ],
   "source": [
    "player$Name"
   ]
  },
  {
   "cell_type": "code",
   "execution_count": 45,
   "metadata": {},
   "outputs": [
    {
     "data": {
      "text/html": [
       "<table>\n",
       "<thead><tr><th scope=col>name</th><th scope=col>level</th><th scope=col>gender</th><th scope=col>country</th></tr></thead>\n",
       "<tbody>\n",
       "\t<tr><td>VN Pikachu   </td><td>31           </td><td>Male         </td><td>VN           </td></tr>\n",
       "\t<tr><td>Meomeo888    </td><td>32           </td><td>Male         </td><td>VN           </td></tr>\n",
       "\t<tr><td>Morino Nanako</td><td>34           </td><td>Female       </td><td>JP           </td></tr>\n",
       "</tbody>\n",
       "</table>\n"
      ],
      "text/latex": [
       "\\begin{tabular}{r|llll}\n",
       " name & level & gender & country\\\\\n",
       "\\hline\n",
       "\t VN Pikachu    & 31            & Male          & VN           \\\\\n",
       "\t Meomeo888     & 32            & Male          & VN           \\\\\n",
       "\t Morino Nanako & 34            & Female        & JP           \\\\\n",
       "\\end{tabular}\n"
      ],
      "text/markdown": [
       "\n",
       "| name | level | gender | country |\n",
       "|---|---|---|---|\n",
       "| VN Pikachu    | 31            | Male          | VN            |\n",
       "| Meomeo888     | 32            | Male          | VN            |\n",
       "| Morino Nanako | 34            | Female        | JP            |\n",
       "\n"
      ],
      "text/plain": [
       "  name          level gender country\n",
       "1 VN Pikachu    31    Male   VN     \n",
       "2 Meomeo888     32    Male   VN     \n",
       "3 Morino Nanako 34    Female JP     "
      ]
     },
     "metadata": {},
     "output_type": "display_data"
    }
   ],
   "source": [
    "clan <- data.frame(\n",
    "    name = c('VN Pikachu', 'Meomeo888', 'Morino Nanako'),\n",
    "    level = c(31, 32, 34),\n",
    "    gender = c('Male', 'Male', 'Female'),\n",
    "    country = c('VN', 'VN', 'JP')\n",
    ")\n",
    "\n",
    "clan"
   ]
  },
  {
   "cell_type": "code",
   "execution_count": 42,
   "metadata": {},
   "outputs": [
    {
     "data": {
      "text/html": [
       "TRUE"
      ],
      "text/latex": [
       "TRUE"
      ],
      "text/markdown": [
       "TRUE"
      ],
      "text/plain": [
       "[1] TRUE"
      ]
     },
     "metadata": {},
     "output_type": "display_data"
    }
   ],
   "source": [
    "is.factor(clan$gender)"
   ]
  },
  {
   "cell_type": "code",
   "execution_count": 50,
   "metadata": {},
   "outputs": [
    {
     "data": {
      "text/html": [
       "'Meomeo888'"
      ],
      "text/latex": [
       "'Meomeo888'"
      ],
      "text/markdown": [
       "'Meomeo888'"
      ],
      "text/plain": [
       "[1] \"Meomeo888\""
      ]
     },
     "metadata": {},
     "output_type": "display_data"
    }
   ],
   "source": [
    "'Meomeo888' ->> commander\n",
    "commander"
   ]
  },
  {
   "cell_type": "code",
   "execution_count": 51,
   "metadata": {},
   "outputs": [
    {
     "name": "stdout",
     "output_type": "stream",
     "text": [
      "Hello\n",
      " World"
     ]
    }
   ],
   "source": [
    "cat('Hello\\n', 'World')"
   ]
  },
  {
   "cell_type": "code",
   "execution_count": 52,
   "metadata": {},
   "outputs": [
    {
     "data": {
      "text/html": [
       "<ol class=list-inline>\n",
       "\t<li>'cat'</li>\n",
       "\t<li>'clan'</li>\n",
       "\t<li>'commander'</li>\n",
       "\t<li>'country'</li>\n",
       "\t<li>'gender'</li>\n",
       "\t<li>'genders'</li>\n",
       "\t<li>'level'</li>\n",
       "\t<li>'mat'</li>\n",
       "\t<li>'name'</li>\n",
       "\t<li>'player'</li>\n",
       "\t<li>'stringAsFactor'</li>\n",
       "\t<li>'stringAsFactors'</li>\n",
       "\t<li>'stringsAsFactors'</li>\n",
       "</ol>\n"
      ],
      "text/latex": [
       "\\begin{enumerate*}\n",
       "\\item 'cat'\n",
       "\\item 'clan'\n",
       "\\item 'commander'\n",
       "\\item 'country'\n",
       "\\item 'gender'\n",
       "\\item 'genders'\n",
       "\\item 'level'\n",
       "\\item 'mat'\n",
       "\\item 'name'\n",
       "\\item 'player'\n",
       "\\item 'stringAsFactor'\n",
       "\\item 'stringAsFactors'\n",
       "\\item 'stringsAsFactors'\n",
       "\\end{enumerate*}\n"
      ],
      "text/markdown": [
       "1. 'cat'\n",
       "2. 'clan'\n",
       "3. 'commander'\n",
       "4. 'country'\n",
       "5. 'gender'\n",
       "6. 'genders'\n",
       "7. 'level'\n",
       "8. 'mat'\n",
       "9. 'name'\n",
       "10. 'player'\n",
       "11. 'stringAsFactor'\n",
       "12. 'stringAsFactors'\n",
       "13. 'stringsAsFactors'\n",
       "\n",
       "\n"
      ],
      "text/plain": [
       " [1] \"cat\"              \"clan\"             \"commander\"        \"country\"         \n",
       " [5] \"gender\"           \"genders\"          \"level\"            \"mat\"             \n",
       " [9] \"name\"             \"player\"           \"stringAsFactor\"   \"stringAsFactors\" \n",
       "[13] \"stringsAsFactors\""
      ]
     },
     "metadata": {},
     "output_type": "display_data"
    }
   ],
   "source": [
    "ls()"
   ]
  },
  {
   "cell_type": "code",
   "execution_count": 53,
   "metadata": {},
   "outputs": [],
   "source": [
    "clan.VN = c('VN Champions', 'VIET NAM')"
   ]
  },
  {
   "cell_type": "code",
   "execution_count": 54,
   "metadata": {},
   "outputs": [
    {
     "data": {
      "text/html": [
       "<ol class=list-inline>\n",
       "\t<li>'cat'</li>\n",
       "\t<li>'clan'</li>\n",
       "\t<li>'clan.VN'</li>\n",
       "\t<li>'commander'</li>\n",
       "\t<li>'country'</li>\n",
       "\t<li>'gender'</li>\n",
       "\t<li>'genders'</li>\n",
       "\t<li>'level'</li>\n",
       "\t<li>'mat'</li>\n",
       "\t<li>'name'</li>\n",
       "\t<li>'player'</li>\n",
       "\t<li>'stringAsFactor'</li>\n",
       "\t<li>'stringAsFactors'</li>\n",
       "\t<li>'stringsAsFactors'</li>\n",
       "</ol>\n"
      ],
      "text/latex": [
       "\\begin{enumerate*}\n",
       "\\item 'cat'\n",
       "\\item 'clan'\n",
       "\\item 'clan.VN'\n",
       "\\item 'commander'\n",
       "\\item 'country'\n",
       "\\item 'gender'\n",
       "\\item 'genders'\n",
       "\\item 'level'\n",
       "\\item 'mat'\n",
       "\\item 'name'\n",
       "\\item 'player'\n",
       "\\item 'stringAsFactor'\n",
       "\\item 'stringAsFactors'\n",
       "\\item 'stringsAsFactors'\n",
       "\\end{enumerate*}\n"
      ],
      "text/markdown": [
       "1. 'cat'\n",
       "2. 'clan'\n",
       "3. 'clan.VN'\n",
       "4. 'commander'\n",
       "5. 'country'\n",
       "6. 'gender'\n",
       "7. 'genders'\n",
       "8. 'level'\n",
       "9. 'mat'\n",
       "10. 'name'\n",
       "11. 'player'\n",
       "12. 'stringAsFactor'\n",
       "13. 'stringAsFactors'\n",
       "14. 'stringsAsFactors'\n",
       "\n",
       "\n"
      ],
      "text/plain": [
       " [1] \"cat\"              \"clan\"             \"clan.VN\"          \"commander\"       \n",
       " [5] \"country\"          \"gender\"           \"genders\"          \"level\"           \n",
       " [9] \"mat\"              \"name\"             \"player\"           \"stringAsFactor\"  \n",
       "[13] \"stringAsFactors\"  \"stringsAsFactors\""
      ]
     },
     "metadata": {},
     "output_type": "display_data"
    }
   ],
   "source": [
    "ls()"
   ]
  },
  {
   "cell_type": "code",
   "execution_count": 55,
   "metadata": {},
   "outputs": [
    {
     "data": {
      "text/html": [
       "<ol class=list-inline>\n",
       "\t<li>'.pbd_env'</li>\n",
       "\t<li>'cat'</li>\n",
       "\t<li>'clan'</li>\n",
       "\t<li>'clan.VN'</li>\n",
       "\t<li>'commander'</li>\n",
       "\t<li>'country'</li>\n",
       "\t<li>'gender'</li>\n",
       "\t<li>'genders'</li>\n",
       "\t<li>'level'</li>\n",
       "\t<li>'mat'</li>\n",
       "\t<li>'name'</li>\n",
       "\t<li>'player'</li>\n",
       "\t<li>'stringAsFactor'</li>\n",
       "\t<li>'stringAsFactors'</li>\n",
       "\t<li>'stringsAsFactors'</li>\n",
       "</ol>\n"
      ],
      "text/latex": [
       "\\begin{enumerate*}\n",
       "\\item '.pbd\\_env'\n",
       "\\item 'cat'\n",
       "\\item 'clan'\n",
       "\\item 'clan.VN'\n",
       "\\item 'commander'\n",
       "\\item 'country'\n",
       "\\item 'gender'\n",
       "\\item 'genders'\n",
       "\\item 'level'\n",
       "\\item 'mat'\n",
       "\\item 'name'\n",
       "\\item 'player'\n",
       "\\item 'stringAsFactor'\n",
       "\\item 'stringAsFactors'\n",
       "\\item 'stringsAsFactors'\n",
       "\\end{enumerate*}\n"
      ],
      "text/markdown": [
       "1. '.pbd_env'\n",
       "2. 'cat'\n",
       "3. 'clan'\n",
       "4. 'clan.VN'\n",
       "5. 'commander'\n",
       "6. 'country'\n",
       "7. 'gender'\n",
       "8. 'genders'\n",
       "9. 'level'\n",
       "10. 'mat'\n",
       "11. 'name'\n",
       "12. 'player'\n",
       "13. 'stringAsFactor'\n",
       "14. 'stringAsFactors'\n",
       "15. 'stringsAsFactors'\n",
       "\n",
       "\n"
      ],
      "text/plain": [
       " [1] \".pbd_env\"         \"cat\"              \"clan\"             \"clan.VN\"         \n",
       " [5] \"commander\"        \"country\"          \"gender\"           \"genders\"         \n",
       " [9] \"level\"            \"mat\"              \"name\"             \"player\"          \n",
       "[13] \"stringAsFactor\"   \"stringAsFactors\"  \"stringsAsFactors\""
      ]
     },
     "metadata": {},
     "output_type": "display_data"
    }
   ],
   "source": [
    "ls(all.names = TRUE)"
   ]
  },
  {
   "cell_type": "code",
   "execution_count": 56,
   "metadata": {},
   "outputs": [
    {
     "data": {
      "text/html": [
       "<ol class=list-inline>\n",
       "\t<li>'gender'</li>\n",
       "\t<li>'genders'</li>\n",
       "</ol>\n"
      ],
      "text/latex": [
       "\\begin{enumerate*}\n",
       "\\item 'gender'\n",
       "\\item 'genders'\n",
       "\\end{enumerate*}\n"
      ],
      "text/markdown": [
       "1. 'gender'\n",
       "2. 'genders'\n",
       "\n",
       "\n"
      ],
      "text/plain": [
       "[1] \"gender\"  \"genders\""
      ]
     },
     "metadata": {},
     "output_type": "display_data"
    }
   ],
   "source": [
    "ls(pattern = 'gen')"
   ]
  },
  {
   "cell_type": "code",
   "execution_count": 57,
   "metadata": {},
   "outputs": [],
   "source": [
    "rm(clan)"
   ]
  },
  {
   "cell_type": "code",
   "execution_count": 63,
   "metadata": {},
   "outputs": [],
   "source": [
    "help(rm)"
   ]
  },
  {
   "cell_type": "code",
   "execution_count": 64,
   "metadata": {},
   "outputs": [
    {
     "data": {
      "text/html": [
       "1"
      ],
      "text/latex": [
       "1"
      ],
      "text/markdown": [
       "1"
      ],
      "text/plain": [
       "[1] 1"
      ]
     },
     "metadata": {},
     "output_type": "display_data"
    }
   ],
   "source": [
    "7 %% 3"
   ]
  },
  {
   "cell_type": "code",
   "execution_count": 65,
   "metadata": {},
   "outputs": [
    {
     "data": {
      "text/html": [
       "2"
      ],
      "text/latex": [
       "2"
      ],
      "text/markdown": [
       "2"
      ],
      "text/plain": [
       "[1] 2"
      ]
     },
     "metadata": {},
     "output_type": "display_data"
    }
   ],
   "source": [
    "7 %/% 3"
   ]
  },
  {
   "cell_type": "code",
   "execution_count": 76,
   "metadata": {},
   "outputs": [
    {
     "data": {
      "text/html": [
       "FALSE"
      ],
      "text/latex": [
       "FALSE"
      ],
      "text/markdown": [
       "FALSE"
      ],
      "text/plain": [
       "[1] FALSE"
      ]
     },
     "metadata": {},
     "output_type": "display_data"
    }
   ],
   "source": [
    "c(TRUE, TRUE, FALSE) && c(FALSE, FALSE, FALSE)"
   ]
  },
  {
   "cell_type": "code",
   "execution_count": 77,
   "metadata": {},
   "outputs": [
    {
     "data": {
      "text/html": [
       "<ol class=list-inline>\n",
       "\t<li>1</li>\n",
       "\t<li>2</li>\n",
       "\t<li>3</li>\n",
       "\t<li>4</li>\n",
       "\t<li>5</li>\n",
       "\t<li>6</li>\n",
       "\t<li>7</li>\n",
       "\t<li>8</li>\n",
       "\t<li>9</li>\n",
       "\t<li>10</li>\n",
       "</ol>\n"
      ],
      "text/latex": [
       "\\begin{enumerate*}\n",
       "\\item 1\n",
       "\\item 2\n",
       "\\item 3\n",
       "\\item 4\n",
       "\\item 5\n",
       "\\item 6\n",
       "\\item 7\n",
       "\\item 8\n",
       "\\item 9\n",
       "\\item 10\n",
       "\\end{enumerate*}\n"
      ],
      "text/markdown": [
       "1. 1\n",
       "2. 2\n",
       "3. 3\n",
       "4. 4\n",
       "5. 5\n",
       "6. 6\n",
       "7. 7\n",
       "8. 8\n",
       "9. 9\n",
       "10. 10\n",
       "\n",
       "\n"
      ],
      "text/plain": [
       " [1]  1  2  3  4  5  6  7  8  9 10"
      ]
     },
     "metadata": {},
     "output_type": "display_data"
    }
   ],
   "source": [
    "1:10"
   ]
  },
  {
   "cell_type": "code",
   "execution_count": 78,
   "metadata": {},
   "outputs": [
    {
     "data": {
      "text/html": [
       "<ol class=list-inline>\n",
       "\t<li>1</li>\n",
       "\t<li>2</li>\n",
       "\t<li>3</li>\n",
       "\t<li>4</li>\n",
       "\t<li>5</li>\n",
       "</ol>\n"
      ],
      "text/latex": [
       "\\begin{enumerate*}\n",
       "\\item 1\n",
       "\\item 2\n",
       "\\item 3\n",
       "\\item 4\n",
       "\\item 5\n",
       "\\end{enumerate*}\n"
      ],
      "text/markdown": [
       "1. 1\n",
       "2. 2\n",
       "3. 3\n",
       "4. 4\n",
       "5. 5\n",
       "\n",
       "\n"
      ],
      "text/plain": [
       "[1] 1 2 3 4 5"
      ]
     },
     "metadata": {},
     "output_type": "display_data"
    }
   ],
   "source": [
    "n <- 5\n",
    "1:n"
   ]
  },
  {
   "cell_type": "code",
   "execution_count": 79,
   "metadata": {},
   "outputs": [
    {
     "data": {
      "text/html": [
       "TRUE"
      ],
      "text/latex": [
       "TRUE"
      ],
      "text/markdown": [
       "TRUE"
      ],
      "text/plain": [
       "[1] TRUE"
      ]
     },
     "metadata": {},
     "output_type": "display_data"
    }
   ],
   "source": [
    "5 %in% c(5, 3, 2)"
   ]
  },
  {
   "cell_type": "code",
   "execution_count": 80,
   "metadata": {},
   "outputs": [
    {
     "data": {
      "text/html": [
       "FALSE"
      ],
      "text/latex": [
       "FALSE"
      ],
      "text/markdown": [
       "FALSE"
      ],
      "text/plain": [
       "[1] FALSE"
      ]
     },
     "metadata": {},
     "output_type": "display_data"
    }
   ],
   "source": [
    "'Pikachu' %in% c('Pi', 'Po')"
   ]
  },
  {
   "cell_type": "code",
   "execution_count": 81,
   "metadata": {},
   "outputs": [
    {
     "data": {
      "text/html": [
       "<table>\n",
       "<tbody>\n",
       "\t<tr><td>1</td><td>3</td></tr>\n",
       "\t<tr><td>2</td><td>4</td></tr>\n",
       "</tbody>\n",
       "</table>\n"
      ],
      "text/latex": [
       "\\begin{tabular}{ll}\n",
       "\t 1 & 3\\\\\n",
       "\t 2 & 4\\\\\n",
       "\\end{tabular}\n"
      ],
      "text/markdown": [
       "\n",
       "| 1 | 3 |\n",
       "| 2 | 4 |\n",
       "\n"
      ],
      "text/plain": [
       "     [,1] [,2]\n",
       "[1,] 1    3   \n",
       "[2,] 2    4   "
      ]
     },
     "metadata": {},
     "output_type": "display_data"
    }
   ],
   "source": [
    "matrix(c(1,2,3,4), nrow = 2, ncol = 2) %*% matrix(c(1,0,0,1), nrow = 2, ncol = 2) "
   ]
  },
  {
   "cell_type": "code",
   "execution_count": 85,
   "metadata": {},
   "outputs": [
    {
     "name": "stdout",
     "output_type": "stream",
     "text": [
      "     [,1] [,2]\n",
      "[1,]    1    2\n",
      "[2,]    3    4\n"
     ]
    }
   ],
   "source": [
    "print(matrix(c(1,2,3,4), nrow = 2, ncol = 2, byrow = TRUE))"
   ]
  },
  {
   "cell_type": "code",
   "execution_count": 87,
   "metadata": {},
   "outputs": [
    {
     "name": "stdout",
     "output_type": "stream",
     "text": [
      "[1] \"Not again\"\n"
     ]
    }
   ],
   "source": [
    "day <- 'Monday'\n",
    "res <- c('Saturday', 'Sunday')\n",
    "\n",
    "if(day %in% res) {\n",
    "    print('let go hunt')\n",
    "} else {\n",
    "    print('Not again')\n",
    "}"
   ]
  },
  {
   "cell_type": "code",
   "execution_count": 90,
   "metadata": {},
   "outputs": [],
   "source": [
    "i <- 10\n",
    "switch(i < 10, 'good', 'bad')"
   ]
  },
  {
   "cell_type": "code",
   "execution_count": 91,
   "metadata": {},
   "outputs": [
    {
     "data": {
      "text/html": [
       "'VN Pikachu'"
      ],
      "text/latex": [
       "'VN Pikachu'"
      ],
      "text/markdown": [
       "'VN Pikachu'"
      ],
      "text/plain": [
       "[1] \"VN Pikachu\""
      ]
     },
     "metadata": {},
     "output_type": "display_data"
    }
   ],
   "source": [
    "switch('name', 'name' = 'VN Pikachu', 'clan' = 'VN Champions')"
   ]
  },
  {
   "cell_type": "code",
   "execution_count": 93,
   "metadata": {},
   "outputs": [],
   "source": [
    "help(switch)"
   ]
  },
  {
   "cell_type": "code",
   "execution_count": 94,
   "metadata": {},
   "outputs": [
    {
     "data": {
      "text/html": [
       "6"
      ],
      "text/latex": [
       "6"
      ],
      "text/markdown": [
       "6"
      ],
      "text/plain": [
       "[1] 6"
      ]
     },
     "metadata": {},
     "output_type": "display_data"
    }
   ],
   "source": [
    "factorial <- function(n) {\n",
    "    if(n == 0)\n",
    "        return (1)\n",
    "    return (n * factorial(n - 1))\n",
    "}\n",
    "\n",
    "factorial(3)"
   ]
  },
  {
   "cell_type": "code",
   "execution_count": 97,
   "metadata": {},
   "outputs": [
    {
     "name": "stdout",
     "output_type": "stream",
     "text": [
      "[1] 1\n",
      "[1] 2\n",
      "[1] 4\n",
      "[1] 5\n",
      "[1] 7\n",
      "[1] 8\n",
      "[1] 10\n"
     ]
    }
   ],
   "source": [
    "for(value in 1:10) {\n",
    "    if(value %% 3 == 0)\n",
    "        next\n",
    "    print(value)\n",
    "}"
   ]
  },
  {
   "cell_type": "code",
   "execution_count": 100,
   "metadata": {},
   "outputs": [
    {
     "data": {
      "text/html": [
       "5.5"
      ],
      "text/latex": [
       "5.5"
      ],
      "text/markdown": [
       "5.5"
      ],
      "text/plain": [
       "[1] 5.5"
      ]
     },
     "metadata": {},
     "output_type": "display_data"
    }
   ],
   "source": [
    "mean(1:10)"
   ]
  },
  {
   "cell_type": "code",
   "execution_count": 102,
   "metadata": {},
   "outputs": [
    {
     "ename": "ERROR",
     "evalue": "Error in avg(1:10): could not find function \"avg\"\n",
     "output_type": "error",
     "traceback": [
      "Error in avg(1:10): could not find function \"avg\"\nTraceback:\n"
     ]
    }
   ],
   "source": [
    "avg(1:10)"
   ]
  },
  {
   "cell_type": "code",
   "execution_count": 104,
   "metadata": {},
   "outputs": [],
   "source": [
    "help(seq)"
   ]
  },
  {
   "cell_type": "code",
   "execution_count": 105,
   "metadata": {},
   "outputs": [
    {
     "data": {
      "text/html": [
       "<ol class=list-inline>\n",
       "\t<li>0</li>\n",
       "\t<li>0.1</li>\n",
       "\t<li>0.2</li>\n",
       "\t<li>0.3</li>\n",
       "\t<li>0.4</li>\n",
       "\t<li>0.5</li>\n",
       "\t<li>0.6</li>\n",
       "\t<li>0.7</li>\n",
       "\t<li>0.8</li>\n",
       "\t<li>0.9</li>\n",
       "\t<li>1</li>\n",
       "</ol>\n"
      ],
      "text/latex": [
       "\\begin{enumerate*}\n",
       "\\item 0\n",
       "\\item 0.1\n",
       "\\item 0.2\n",
       "\\item 0.3\n",
       "\\item 0.4\n",
       "\\item 0.5\n",
       "\\item 0.6\n",
       "\\item 0.7\n",
       "\\item 0.8\n",
       "\\item 0.9\n",
       "\\item 1\n",
       "\\end{enumerate*}\n"
      ],
      "text/markdown": [
       "1. 0\n",
       "2. 0.1\n",
       "3. 0.2\n",
       "4. 0.3\n",
       "5. 0.4\n",
       "6. 0.5\n",
       "7. 0.6\n",
       "8. 0.7\n",
       "9. 0.8\n",
       "10. 0.9\n",
       "11. 1\n",
       "\n",
       "\n"
      ],
      "text/plain": [
       " [1] 0.0 0.1 0.2 0.3 0.4 0.5 0.6 0.7 0.8 0.9 1.0"
      ]
     },
     "metadata": {},
     "output_type": "display_data"
    }
   ],
   "source": [
    "seq(0, 1, length.out = 11)"
   ]
  },
  {
   "cell_type": "code",
   "execution_count": 106,
   "metadata": {},
   "outputs": [
    {
     "data": {
      "text/html": [
       "'VN Pikachu'"
      ],
      "text/latex": [
       "'VN Pikachu'"
      ],
      "text/markdown": [
       "'VN Pikachu'"
      ],
      "text/plain": [
       "[1] \"VN Pikachu\""
      ]
     },
     "metadata": {},
     "output_type": "display_data"
    }
   ],
   "source": [
    "name <- 'VN Pikachu'\n",
    "name"
   ]
  },
  {
   "cell_type": "code",
   "execution_count": 109,
   "metadata": {},
   "outputs": [
    {
     "data": {
      "text/html": [
       "'N Pi'"
      ],
      "text/latex": [
       "'N Pi'"
      ],
      "text/markdown": [
       "'N Pi'"
      ],
      "text/plain": [
       "[1] \"N Pi\""
      ]
     },
     "metadata": {},
     "output_type": "display_data"
    }
   ],
   "source": [
    "substring(name, 2, 5)"
   ]
  },
  {
   "cell_type": "code",
   "execution_count": 119,
   "metadata": {},
   "outputs": [
    {
     "data": {
      "text/html": [
       "'hello, world'"
      ],
      "text/latex": [
       "'hello, world'"
      ],
      "text/markdown": [
       "'hello, world'"
      ],
      "text/plain": [
       "[1] \"hello, world\""
      ]
     },
     "metadata": {},
     "output_type": "display_data"
    }
   ],
   "source": [
    "paste('hello', 'world', sep = ', ')"
   ]
  },
  {
   "cell_type": "code",
   "execution_count": 127,
   "metadata": {},
   "outputs": [],
   "source": [
    "help(paste)"
   ]
  },
  {
   "cell_type": "code",
   "execution_count": 122,
   "metadata": {},
   "outputs": [],
   "source": [
    "help(substring)"
   ]
  },
  {
   "cell_type": "code",
   "execution_count": 123,
   "metadata": {},
   "outputs": [],
   "source": [
    "help(strsplit)"
   ]
  },
  {
   "cell_type": "code",
   "execution_count": 124,
   "metadata": {},
   "outputs": [],
   "source": [
    "help(toString)"
   ]
  },
  {
   "cell_type": "code",
   "execution_count": 126,
   "metadata": {},
   "outputs": [
    {
     "data": {
      "text/html": [
       "<ol class=list-inline>\n",
       "\t<li>10</li>\n",
       "\t<li>8</li>\n",
       "</ol>\n"
      ],
      "text/latex": [
       "\\begin{enumerate*}\n",
       "\\item 10\n",
       "\\item 8\n",
       "\\end{enumerate*}\n"
      ],
      "text/markdown": [
       "1. 10\n",
       "2. 8\n",
       "\n",
       "\n"
      ],
      "text/plain": [
       "[1] 10  8"
      ]
     },
     "metadata": {},
     "output_type": "display_data"
    }
   ],
   "source": [
    "nchar(c('VN pikachu', 'Tank Cao'))"
   ]
  },
  {
   "cell_type": "code",
   "execution_count": 128,
   "metadata": {},
   "outputs": [],
   "source": [
    "help(rep)"
   ]
  },
  {
   "cell_type": "code",
   "execution_count": 134,
   "metadata": {},
   "outputs": [
    {
     "data": {
      "text/html": [
       "<ol class=list-inline>\n",
       "\t<li><span style=white-space:pre-wrap>'             1.32000'</span></li>\n",
       "\t<li><span style=white-space:pre-wrap>'            35.21000'</span></li>\n",
       "\t<li><span style=white-space:pre-wrap>'           343.00000'</span></li>\n",
       "</ol>\n"
      ],
      "text/latex": [
       "\\begin{enumerate*}\n",
       "\\item '             1.32000'\n",
       "\\item '            35.21000'\n",
       "\\item '           343.00000'\n",
       "\\end{enumerate*}\n"
      ],
      "text/markdown": [
       "1. <span style=white-space:pre-wrap>'             1.32000'</span>\n",
       "2. <span style=white-space:pre-wrap>'            35.21000'</span>\n",
       "3. <span style=white-space:pre-wrap>'           343.00000'</span>\n",
       "\n",
       "\n"
      ],
      "text/plain": [
       "[1] \"             1.32000\" \"            35.21000\" \"           343.00000\""
      ]
     },
     "metadata": {},
     "output_type": "display_data"
    }
   ],
   "source": [
    "format(c(1.32, 35.21, 343), nsmall = 5, width = 20, justify = 'l', digits = 10)"
   ]
  },
  {
   "cell_type": "code",
   "execution_count": 135,
   "metadata": {},
   "outputs": [],
   "source": [
    "help(as.character)"
   ]
  },
  {
   "cell_type": "code",
   "execution_count": 136,
   "metadata": {},
   "outputs": [
    {
     "data": {
      "text/html": [
       "<ol class=list-inline>\n",
       "\t<li>1</li>\n",
       "\t<li>2</li>\n",
       "\t<li>3</li>\n",
       "\t<li>4</li>\n",
       "\t<li>5</li>\n",
       "\t<li>6</li>\n",
       "\t<li>7</li>\n",
       "\t<li>8</li>\n",
       "\t<li>9</li>\n",
       "</ol>\n"
      ],
      "text/latex": [
       "\\begin{enumerate*}\n",
       "\\item 1\n",
       "\\item 2\n",
       "\\item 3\n",
       "\\item 4\n",
       "\\item 5\n",
       "\\item 6\n",
       "\\item 7\n",
       "\\item 8\n",
       "\\item 9\n",
       "\\end{enumerate*}\n"
      ],
      "text/markdown": [
       "1. 1\n",
       "2. 2\n",
       "3. 3\n",
       "4. 4\n",
       "5. 5\n",
       "6. 6\n",
       "7. 7\n",
       "8. 8\n",
       "9. 9\n",
       "\n",
       "\n"
      ],
      "text/plain": [
       "[1] 1 2 3 4 5 6 7 8 9"
      ]
     },
     "metadata": {},
     "output_type": "display_data"
    }
   ],
   "source": [
    "1:9"
   ]
  },
  {
   "cell_type": "code",
   "execution_count": 137,
   "metadata": {},
   "outputs": [
    {
     "data": {
      "text/html": [
       "<ol class=list-inline>\n",
       "\t<li>9</li>\n",
       "\t<li>8</li>\n",
       "\t<li>7</li>\n",
       "\t<li>6</li>\n",
       "\t<li>5</li>\n",
       "\t<li>4</li>\n",
       "\t<li>3</li>\n",
       "\t<li>2</li>\n",
       "\t<li>1</li>\n",
       "\t<li>0</li>\n",
       "\t<li>-1</li>\n",
       "\t<li>-2</li>\n",
       "</ol>\n"
      ],
      "text/latex": [
       "\\begin{enumerate*}\n",
       "\\item 9\n",
       "\\item 8\n",
       "\\item 7\n",
       "\\item 6\n",
       "\\item 5\n",
       "\\item 4\n",
       "\\item 3\n",
       "\\item 2\n",
       "\\item 1\n",
       "\\item 0\n",
       "\\item -1\n",
       "\\item -2\n",
       "\\end{enumerate*}\n"
      ],
      "text/markdown": [
       "1. 9\n",
       "2. 8\n",
       "3. 7\n",
       "4. 6\n",
       "5. 5\n",
       "6. 4\n",
       "7. 3\n",
       "8. 2\n",
       "9. 1\n",
       "10. 0\n",
       "11. -1\n",
       "12. -2\n",
       "\n",
       "\n"
      ],
      "text/plain": [
       " [1]  9  8  7  6  5  4  3  2  1  0 -1 -2"
      ]
     },
     "metadata": {},
     "output_type": "display_data"
    }
   ],
   "source": [
    "9:-2"
   ]
  },
  {
   "cell_type": "code",
   "execution_count": 138,
   "metadata": {},
   "outputs": [
    {
     "data": {
      "text/html": [
       "<ol class=list-inline>\n",
       "\t<li>1</li>\n",
       "\t<li>2</li>\n",
       "\t<li>3</li>\n",
       "\t<li>4</li>\n",
       "\t<li>5</li>\n",
       "\t<li>6</li>\n",
       "\t<li>7</li>\n",
       "\t<li>8</li>\n",
       "\t<li>9</li>\n",
       "\t<li>10</li>\n",
       "</ol>\n"
      ],
      "text/latex": [
       "\\begin{enumerate*}\n",
       "\\item 1\n",
       "\\item 2\n",
       "\\item 3\n",
       "\\item 4\n",
       "\\item 5\n",
       "\\item 6\n",
       "\\item 7\n",
       "\\item 8\n",
       "\\item 9\n",
       "\\item 10\n",
       "\\end{enumerate*}\n"
      ],
      "text/markdown": [
       "1. 1\n",
       "2. 2\n",
       "3. 3\n",
       "4. 4\n",
       "5. 5\n",
       "6. 6\n",
       "7. 7\n",
       "8. 8\n",
       "9. 9\n",
       "10. 10\n",
       "\n",
       "\n"
      ],
      "text/plain": [
       " [1]  1  2  3  4  5  6  7  8  9 10"
      ]
     },
     "metadata": {},
     "output_type": "display_data"
    }
   ],
   "source": [
    "seq(1, 10)"
   ]
  },
  {
   "cell_type": "code",
   "execution_count": 139,
   "metadata": {},
   "outputs": [
    {
     "data": {
      "text/html": [
       "<ol class=list-inline>\n",
       "\t<li>1</li>\n",
       "\t<li>3</li>\n",
       "\t<li>5</li>\n",
       "\t<li>7</li>\n",
       "\t<li>9</li>\n",
       "</ol>\n"
      ],
      "text/latex": [
       "\\begin{enumerate*}\n",
       "\\item 1\n",
       "\\item 3\n",
       "\\item 5\n",
       "\\item 7\n",
       "\\item 9\n",
       "\\end{enumerate*}\n"
      ],
      "text/markdown": [
       "1. 1\n",
       "2. 3\n",
       "3. 5\n",
       "4. 7\n",
       "5. 9\n",
       "\n",
       "\n"
      ],
      "text/plain": [
       "[1] 1 3 5 7 9"
      ]
     },
     "metadata": {},
     "output_type": "display_data"
    }
   ],
   "source": [
    "seq(1, 10, 2)"
   ]
  },
  {
   "cell_type": "code",
   "execution_count": 142,
   "metadata": {},
   "outputs": [
    {
     "data": {
      "text/html": [
       "<ol class=list-inline>\n",
       "\t<li>1</li>\n",
       "\t<li>2</li>\n",
       "\t<li>3</li>\n",
       "</ol>\n"
      ],
      "text/latex": [
       "\\begin{enumerate*}\n",
       "\\item 1\n",
       "\\item 2\n",
       "\\item 3\n",
       "\\end{enumerate*}\n"
      ],
      "text/markdown": [
       "1. 1\n",
       "2. 2\n",
       "3. 3\n",
       "\n",
       "\n"
      ],
      "text/plain": [
       "[1] 1 2 3"
      ]
     },
     "metadata": {},
     "output_type": "display_data"
    }
   ],
   "source": [
    "seq(along.with = c(1,2,3))"
   ]
  },
  {
   "cell_type": "code",
   "execution_count": 143,
   "metadata": {},
   "outputs": [
    {
     "data": {
      "text/html": [
       "'Sun'"
      ],
      "text/latex": [
       "'Sun'"
      ],
      "text/markdown": [
       "'Sun'"
      ],
      "text/plain": [
       "[1] \"Sun\""
      ]
     },
     "metadata": {},
     "output_type": "display_data"
    }
   ],
   "source": [
    "day = c(\"Sun\",\"Mon\",\"Tue\",\"Wed\",\"Thurs\",\"Fri\",\"Sat\")\n",
    "day[1]"
   ]
  },
  {
   "cell_type": "code",
   "execution_count": 151,
   "metadata": {},
   "outputs": [
    {
     "data": {
      "text/html": [
       "<ol class=list-inline>\n",
       "\t<li>1</li>\n",
       "\t<li>3</li>\n",
       "</ol>\n"
      ],
      "text/latex": [
       "\\begin{enumerate*}\n",
       "\\item 1\n",
       "\\item 3\n",
       "\\end{enumerate*}\n"
      ],
      "text/markdown": [
       "1. 1\n",
       "2. 3\n",
       "\n",
       "\n"
      ],
      "text/plain": [
       "[1] 1 3"
      ]
     },
     "metadata": {},
     "output_type": "display_data"
    }
   ],
   "source": [
    "values <- c(1,2,3)\n",
    "values[values %% 2 == 1]"
   ]
  },
  {
   "cell_type": "code",
   "execution_count": 152,
   "metadata": {},
   "outputs": [
    {
     "data": {
      "text/html": [
       "<ol class=list-inline>\n",
       "\t<li>'Sun'</li>\n",
       "\t<li>'Mon'</li>\n",
       "\t<li>'Sun'</li>\n",
       "</ol>\n"
      ],
      "text/latex": [
       "\\begin{enumerate*}\n",
       "\\item 'Sun'\n",
       "\\item 'Mon'\n",
       "\\item 'Sun'\n",
       "\\end{enumerate*}\n"
      ],
      "text/markdown": [
       "1. 'Sun'\n",
       "2. 'Mon'\n",
       "3. 'Sun'\n",
       "\n",
       "\n"
      ],
      "text/plain": [
       "[1] \"Sun\" \"Mon\" \"Sun\""
      ]
     },
     "metadata": {},
     "output_type": "display_data"
    }
   ],
   "source": [
    "day[c(1,2,1)]"
   ]
  },
  {
   "cell_type": "code",
   "execution_count": 153,
   "metadata": {},
   "outputs": [
    {
     "data": {
      "text/html": [
       "<ol class=list-inline>\n",
       "\t<li>2</li>\n",
       "\t<li>3</li>\n",
       "\t<li>4</li>\n",
       "\t<li>5</li>\n",
       "</ol>\n"
      ],
      "text/latex": [
       "\\begin{enumerate*}\n",
       "\\item 2\n",
       "\\item 3\n",
       "\\item 4\n",
       "\\item 5\n",
       "\\end{enumerate*}\n"
      ],
      "text/markdown": [
       "1. 2\n",
       "2. 3\n",
       "3. 4\n",
       "4. 5\n",
       "\n",
       "\n"
      ],
      "text/plain": [
       "[1] 2 3 4 5"
      ]
     },
     "metadata": {},
     "output_type": "display_data"
    }
   ],
   "source": [
    "c(1,1) + c(1,2,3,4)"
   ]
  },
  {
   "cell_type": "code",
   "execution_count": 155,
   "metadata": {},
   "outputs": [],
   "source": [
    "help(c)"
   ]
  },
  {
   "cell_type": "code",
   "execution_count": 156,
   "metadata": {},
   "outputs": [],
   "source": [
    "help(as.vector)"
   ]
  },
  {
   "cell_type": "code",
   "execution_count": 157,
   "metadata": {},
   "outputs": [
    {
     "data": {
      "text/html": [
       "<dl class=dl-horizontal>\n",
       "\t<dt>name</dt>\n",
       "\t\t<dd>'VN Pikachu'</dd>\n",
       "\t<dt>clan</dt>\n",
       "\t\t<dd>'VN Champions'</dd>\n",
       "</dl>\n"
      ],
      "text/latex": [
       "\\begin{description*}\n",
       "\\item[name] 'VN Pikachu'\n",
       "\\item[clan] 'VN Champions'\n",
       "\\end{description*}\n"
      ],
      "text/markdown": [
       "name\n",
       ":   'VN Pikachu'clan\n",
       ":   'VN Champions'\n",
       "\n"
      ],
      "text/plain": [
       "          name           clan \n",
       "  \"VN Pikachu\" \"VN Champions\" "
      ]
     },
     "metadata": {},
     "output_type": "display_data"
    }
   ],
   "source": [
    "c(name = 'VN Pikachu', clan = 'VN Champions')"
   ]
  },
  {
   "cell_type": "code",
   "execution_count": 158,
   "metadata": {},
   "outputs": [],
   "source": [
    "help(sort)"
   ]
  },
  {
   "cell_type": "code",
   "execution_count": 159,
   "metadata": {},
   "outputs": [
    {
     "data": {
      "text/html": [
       "<ol class=list-inline>\n",
       "\t<li>'VN Pikachu'</li>\n",
       "\t<li>'VN Champions'</li>\n",
       "</ol>\n"
      ],
      "text/latex": [
       "\\begin{enumerate*}\n",
       "\\item 'VN Pikachu'\n",
       "\\item 'VN Champions'\n",
       "\\end{enumerate*}\n"
      ],
      "text/markdown": [
       "1. 'VN Pikachu'\n",
       "2. 'VN Champions'\n",
       "\n",
       "\n"
      ],
      "text/plain": [
       "[1] \"VN Pikachu\"   \"VN Champions\""
      ]
     },
     "metadata": {},
     "output_type": "display_data"
    }
   ],
   "source": [
    "unlist(list('VN Pikachu', 'VN Champions'))"
   ]
  },
  {
   "cell_type": "code",
   "execution_count": 173,
   "metadata": {},
   "outputs": [
    {
     "name": "stdout",
     "output_type": "stream",
     "text": [
      "[[1]]\n",
      "[1] \"VN Champions\" \"03-rus\"       \"King Allool\" \n",
      "\n",
      "[[2]]\n",
      "[1] \"Meomeo888\"    \"SV2912\"       \"xXx-Hadi-xXx\"\n",
      "\n"
     ]
    }
   ],
   "source": [
    "res <- pairlist(c('VN Champions', '03-rus', 'King Allool'), c('Meomeo888', 'SV2912', 'xXx-Hadi-xXx'))\n",
    "print(res)"
   ]
  },
  {
   "cell_type": "code",
   "execution_count": 182,
   "metadata": {},
   "outputs": [
    {
     "name": "stdout",
     "output_type": "stream",
     "text": [
      ", , d1\n",
      "\n",
      "   c1 c2\n",
      "r1  1  3\n",
      "r2  2  4\n",
      "\n",
      ", , d2\n",
      "\n",
      "   c1 c2\n",
      "r1  5  7\n",
      "r2  6  8\n",
      "\n"
     ]
    }
   ],
   "source": [
    "filter <- array(1:8, dim = c(2,2,2), dimnames = list(c('r1', 'r2'), c('c1', 'c2'), c('d1', 'd2')))\n",
    "print(filter)"
   ]
  },
  {
   "cell_type": "code",
   "execution_count": 178,
   "metadata": {},
   "outputs": [
    {
     "data": {
      "text/html": [
       "<table>\n",
       "<tbody>\n",
       "\t<tr><td>1</td><td>3</td></tr>\n",
       "\t<tr><td>2</td><td>4</td></tr>\n",
       "</tbody>\n",
       "</table>\n"
      ],
      "text/latex": [
       "\\begin{tabular}{ll}\n",
       "\t 1 & 3\\\\\n",
       "\t 2 & 4\\\\\n",
       "\\end{tabular}\n"
      ],
      "text/markdown": [
       "\n",
       "| 1 | 3 |\n",
       "| 2 | 4 |\n",
       "\n"
      ],
      "text/plain": [
       "     [,1] [,2]\n",
       "[1,] 1    3   \n",
       "[2,] 2    4   "
      ]
     },
     "metadata": {},
     "output_type": "display_data"
    }
   ],
   "source": [
    "filter[,,1]"
   ]
  },
  {
   "cell_type": "code",
   "execution_count": 179,
   "metadata": {},
   "outputs": [
    {
     "data": {
      "text/html": [
       "<table>\n",
       "<tbody>\n",
       "\t<tr><td>5</td><td>7</td></tr>\n",
       "\t<tr><td>6</td><td>8</td></tr>\n",
       "</tbody>\n",
       "</table>\n"
      ],
      "text/latex": [
       "\\begin{tabular}{ll}\n",
       "\t 5 & 7\\\\\n",
       "\t 6 & 8\\\\\n",
       "\\end{tabular}\n"
      ],
      "text/markdown": [
       "\n",
       "| 5 | 7 |\n",
       "| 6 | 8 |\n",
       "\n"
      ],
      "text/plain": [
       "     [,1] [,2]\n",
       "[1,] 5    7   \n",
       "[2,] 6    8   "
      ]
     },
     "metadata": {},
     "output_type": "display_data"
    }
   ],
   "source": [
    "filter[,,2]"
   ]
  },
  {
   "cell_type": "code",
   "execution_count": 185,
   "metadata": {},
   "outputs": [
    {
     "data": {
      "text/html": [
       "<table>\n",
       "<thead><tr><th></th><th scope=col>c1</th><th scope=col>c2</th></tr></thead>\n",
       "<tbody>\n",
       "\t<tr><th scope=row>r1</th><td>5</td><td>7</td></tr>\n",
       "\t<tr><th scope=row>r2</th><td>6</td><td>8</td></tr>\n",
       "</tbody>\n",
       "</table>\n"
      ],
      "text/latex": [
       "\\begin{tabular}{r|ll}\n",
       "  & c1 & c2\\\\\n",
       "\\hline\n",
       "\tr1 & 5 & 7\\\\\n",
       "\tr2 & 6 & 8\\\\\n",
       "\\end{tabular}\n"
      ],
      "text/markdown": [
       "\n",
       "| <!--/--> | c1 | c2 |\n",
       "|---|---|---|\n",
       "| r1 | 5 | 7 |\n",
       "| r2 | 6 | 8 |\n",
       "\n"
      ],
      "text/plain": [
       "   c1 c2\n",
       "r1 5  7 \n",
       "r2 6  8 "
      ]
     },
     "metadata": {},
     "output_type": "display_data"
    }
   ],
   "source": [
    "filter[,,'d2']"
   ]
  },
  {
   "cell_type": "code",
   "execution_count": 188,
   "metadata": {},
   "outputs": [],
   "source": [
    "help(factor)"
   ]
  },
  {
   "cell_type": "code",
   "execution_count": 189,
   "metadata": {},
   "outputs": [],
   "source": [
    "help(data.frame)"
   ]
  },
  {
   "cell_type": "code",
   "execution_count": 190,
   "metadata": {},
   "outputs": [],
   "source": [
    "help(matrix)"
   ]
  },
  {
   "cell_type": "code",
   "execution_count": 192,
   "metadata": {},
   "outputs": [],
   "source": [
    "\n",
    "# Create data for the graph.\n",
    "x <- c(21, 62, 10, 53)\n",
    "labels <- c(\"London\", \"New York\", \"Singapore\", \"Mumbai\")\n",
    "\n",
    "# Give the chart file a name.\n",
    "png(file = \"city.png\")\n",
    "\n",
    "# Plot the chart.\n",
    "pie(x,labels)"
   ]
  },
  {
   "cell_type": "code",
   "execution_count": 193,
   "metadata": {},
   "outputs": [
    {
     "data": {
      "text/html": [
       "<table>\n",
       "<thead><tr><th scope=col>emp_id</th><th scope=col>emp_name</th><th scope=col>salary</th><th scope=col>start_date</th></tr></thead>\n",
       "<tbody>\n",
       "\t<tr><td>1         </td><td>Rick      </td><td>623.30    </td><td>2012-01-01</td></tr>\n",
       "\t<tr><td>2         </td><td>Dan       </td><td>515.20    </td><td>2013-09-23</td></tr>\n",
       "\t<tr><td>3         </td><td>Michelle  </td><td>611.00    </td><td>2014-11-15</td></tr>\n",
       "\t<tr><td>4         </td><td>Ryan      </td><td>729.00    </td><td>2014-05-11</td></tr>\n",
       "\t<tr><td>5         </td><td>Gary      </td><td>843.25    </td><td>2015-03-27</td></tr>\n",
       "</tbody>\n",
       "</table>\n"
      ],
      "text/latex": [
       "\\begin{tabular}{r|llll}\n",
       " emp\\_id & emp\\_name & salary & start\\_date\\\\\n",
       "\\hline\n",
       "\t 1          & Rick       & 623.30     & 2012-01-01\\\\\n",
       "\t 2          & Dan        & 515.20     & 2013-09-23\\\\\n",
       "\t 3          & Michelle   & 611.00     & 2014-11-15\\\\\n",
       "\t 4          & Ryan       & 729.00     & 2014-05-11\\\\\n",
       "\t 5          & Gary       & 843.25     & 2015-03-27\\\\\n",
       "\\end{tabular}\n"
      ],
      "text/markdown": [
       "\n",
       "| emp_id | emp_name | salary | start_date |\n",
       "|---|---|---|---|\n",
       "| 1          | Rick       | 623.30     | 2012-01-01 |\n",
       "| 2          | Dan        | 515.20     | 2013-09-23 |\n",
       "| 3          | Michelle   | 611.00     | 2014-11-15 |\n",
       "| 4          | Ryan       | 729.00     | 2014-05-11 |\n",
       "| 5          | Gary       | 843.25     | 2015-03-27 |\n",
       "\n"
      ],
      "text/plain": [
       "  emp_id emp_name salary start_date\n",
       "1 1      Rick     623.30 2012-01-01\n",
       "2 2      Dan      515.20 2013-09-23\n",
       "3 3      Michelle 611.00 2014-11-15\n",
       "4 4      Ryan     729.00 2014-05-11\n",
       "5 5      Gary     843.25 2015-03-27"
      ]
     },
     "metadata": {},
     "output_type": "display_data"
    }
   ],
   "source": [
    "emp.data <- data.frame(\n",
    "    emp_id = c (1:5), \n",
    "    emp_name = c(\"Rick\",\"Dan\",\"Michelle\",\"Ryan\",\"Gary\"),\n",
    "    salary = c(623.3,515.2,611.0,729.0,843.25),\n",
    "    start_date = as.Date(c(\"2012-01-01\", \"2013-09-23\", \"2014-11-15\", \"2014-05-11\", \"2015-03-27\")),\n",
    "    stringsAsFactors = FALSE\n",
    ")\n",
    "emp.data"
   ]
  },
  {
   "cell_type": "code",
   "execution_count": 194,
   "metadata": {},
   "outputs": [
    {
     "name": "stdout",
     "output_type": "stream",
     "text": [
      "'data.frame':\t5 obs. of  4 variables:\n",
      " $ emp_id    : int  1 2 3 4 5\n",
      " $ emp_name  : chr  \"Rick\" \"Dan\" \"Michelle\" \"Ryan\" ...\n",
      " $ salary    : num  623 515 611 729 843\n",
      " $ start_date: Date, format: \"2012-01-01\" \"2013-09-23\" ...\n"
     ]
    }
   ],
   "source": [
    "str(emp.data)"
   ]
  },
  {
   "cell_type": "code",
   "execution_count": 195,
   "metadata": {},
   "outputs": [
    {
     "data": {
      "text/plain": [
       "     emp_id    emp_name             salary        start_date        \n",
       " Min.   :1   Length:5           Min.   :515.2   Min.   :2012-01-01  \n",
       " 1st Qu.:2   Class :character   1st Qu.:611.0   1st Qu.:2013-09-23  \n",
       " Median :3   Mode  :character   Median :623.3   Median :2014-05-11  \n",
       " Mean   :3                      Mean   :664.4   Mean   :2014-01-14  \n",
       " 3rd Qu.:4                      3rd Qu.:729.0   3rd Qu.:2014-11-15  \n",
       " Max.   :5                      Max.   :843.2   Max.   :2015-03-27  "
      ]
     },
     "metadata": {},
     "output_type": "display_data"
    }
   ],
   "source": [
    "summary(emp.data)"
   ]
  },
  {
   "cell_type": "code",
   "execution_count": 198,
   "metadata": {},
   "outputs": [],
   "source": [
    "emp.newdata <- \tdata.frame(\n",
    "   emp_id = c (6:8), \n",
    "   emp_name = c(\"Rasmi\",\"Pranab\",\"Tusar\"),\n",
    "   salary = c(578.0,722.5,632.8), \n",
    "   start_date = as.Date(c(\"2013-05-21\",\"2013-07-30\",\"2014-06-17\")),\n",
    "  \n",
    "   stringsAsFactors = FALSE\n",
    ")"
   ]
  },
  {
   "cell_type": "code",
   "execution_count": 199,
   "metadata": {},
   "outputs": [
    {
     "data": {
      "text/html": [
       "<table>\n",
       "<thead><tr><th scope=col>emp_id</th><th scope=col>emp_name</th><th scope=col>salary</th><th scope=col>start_date</th></tr></thead>\n",
       "<tbody>\n",
       "\t<tr><td>1         </td><td>Rick      </td><td>623.30    </td><td>2012-01-01</td></tr>\n",
       "\t<tr><td>2         </td><td>Dan       </td><td>515.20    </td><td>2013-09-23</td></tr>\n",
       "\t<tr><td>3         </td><td>Michelle  </td><td>611.00    </td><td>2014-11-15</td></tr>\n",
       "\t<tr><td>4         </td><td>Ryan      </td><td>729.00    </td><td>2014-05-11</td></tr>\n",
       "\t<tr><td>5         </td><td>Gary      </td><td>843.25    </td><td>2015-03-27</td></tr>\n",
       "\t<tr><td>6         </td><td>Rasmi     </td><td>578.00    </td><td>2013-05-21</td></tr>\n",
       "\t<tr><td>7         </td><td>Pranab    </td><td>722.50    </td><td>2013-07-30</td></tr>\n",
       "\t<tr><td>8         </td><td>Tusar     </td><td>632.80    </td><td>2014-06-17</td></tr>\n",
       "</tbody>\n",
       "</table>\n"
      ],
      "text/latex": [
       "\\begin{tabular}{r|llll}\n",
       " emp\\_id & emp\\_name & salary & start\\_date\\\\\n",
       "\\hline\n",
       "\t 1          & Rick       & 623.30     & 2012-01-01\\\\\n",
       "\t 2          & Dan        & 515.20     & 2013-09-23\\\\\n",
       "\t 3          & Michelle   & 611.00     & 2014-11-15\\\\\n",
       "\t 4          & Ryan       & 729.00     & 2014-05-11\\\\\n",
       "\t 5          & Gary       & 843.25     & 2015-03-27\\\\\n",
       "\t 6          & Rasmi      & 578.00     & 2013-05-21\\\\\n",
       "\t 7          & Pranab     & 722.50     & 2013-07-30\\\\\n",
       "\t 8          & Tusar      & 632.80     & 2014-06-17\\\\\n",
       "\\end{tabular}\n"
      ],
      "text/markdown": [
       "\n",
       "| emp_id | emp_name | salary | start_date |\n",
       "|---|---|---|---|\n",
       "| 1          | Rick       | 623.30     | 2012-01-01 |\n",
       "| 2          | Dan        | 515.20     | 2013-09-23 |\n",
       "| 3          | Michelle   | 611.00     | 2014-11-15 |\n",
       "| 4          | Ryan       | 729.00     | 2014-05-11 |\n",
       "| 5          | Gary       | 843.25     | 2015-03-27 |\n",
       "| 6          | Rasmi      | 578.00     | 2013-05-21 |\n",
       "| 7          | Pranab     | 722.50     | 2013-07-30 |\n",
       "| 8          | Tusar      | 632.80     | 2014-06-17 |\n",
       "\n"
      ],
      "text/plain": [
       "  emp_id emp_name salary start_date\n",
       "1 1      Rick     623.30 2012-01-01\n",
       "2 2      Dan      515.20 2013-09-23\n",
       "3 3      Michelle 611.00 2014-11-15\n",
       "4 4      Ryan     729.00 2014-05-11\n",
       "5 5      Gary     843.25 2015-03-27\n",
       "6 6      Rasmi    578.00 2013-05-21\n",
       "7 7      Pranab   722.50 2013-07-30\n",
       "8 8      Tusar    632.80 2014-06-17"
      ]
     },
     "metadata": {},
     "output_type": "display_data"
    }
   ],
   "source": [
    "rbind(emp.data, emp.newdata)"
   ]
  },
  {
   "cell_type": "code",
   "execution_count": 200,
   "metadata": {},
   "outputs": [
    {
     "data": {
      "text/html": [
       "<pre class=language-r><code>function (..., na.rm = FALSE) \n",
       "NULL</code></pre>"
      ],
      "text/latex": [
       "\\begin{minted}{r}\n",
       "function (..., na.rm = FALSE) \n",
       "NULL\n",
       "\\end{minted}"
      ],
      "text/markdown": [
       "```r\n",
       "function (..., na.rm = FALSE) \n",
       "NULL\n",
       "```"
      ],
      "text/plain": [
       "function (..., na.rm = FALSE) \n",
       "NULL"
      ]
     },
     "metadata": {},
     "output_type": "display_data"
    }
   ],
   "source": [
    "args(max)"
   ]
  },
  {
   "cell_type": "code",
   "execution_count": 201,
   "metadata": {},
   "outputs": [
    {
     "data": {
      "text/html": [
       "6.98970004336019"
      ],
      "text/latex": [
       "6.98970004336019"
      ],
      "text/markdown": [
       "6.98970004336019"
      ],
      "text/plain": [
       "[1] 6.9897"
      ]
     },
     "metadata": {},
     "output_type": "display_data"
    }
   ],
   "source": [
    "x <- 5\n",
    "log10(x^10)"
   ]
  },
  {
   "cell_type": "code",
   "execution_count": 202,
   "metadata": {},
   "outputs": [
    {
     "data": {
      "text/html": [
       "5"
      ],
      "text/latex": [
       "5"
      ],
      "text/markdown": [
       "5"
      ],
      "text/plain": [
       "[1] 5"
      ]
     },
     "metadata": {},
     "output_type": "display_data"
    }
   ],
   "source": [
    "log(exp(5))"
   ]
  },
  {
   "cell_type": "code",
   "execution_count": 203,
   "metadata": {},
   "outputs": [
    {
     "data": {
      "text/html": [
       "<pre class=language-r><code>function (...) \n",
       "NULL</code></pre>"
      ],
      "text/latex": [
       "\\begin{minted}{r}\n",
       "function (...) \n",
       "NULL\n",
       "\\end{minted}"
      ],
      "text/markdown": [
       "```r\n",
       "function (...) \n",
       "NULL\n",
       "```"
      ],
      "text/plain": [
       "function (...) \n",
       "NULL"
      ]
     },
     "metadata": {},
     "output_type": "display_data"
    }
   ],
   "source": [
    "args(list)"
   ]
  },
  {
   "cell_type": "code",
   "execution_count": 204,
   "metadata": {},
   "outputs": [
    {
     "data": {
      "text/html": [
       "<pre class=language-r><code>function (..., na.rm = FALSE) \n",
       "NULL</code></pre>"
      ],
      "text/latex": [
       "\\begin{minted}{r}\n",
       "function (..., na.rm = FALSE) \n",
       "NULL\n",
       "\\end{minted}"
      ],
      "text/markdown": [
       "```r\n",
       "function (..., na.rm = FALSE) \n",
       "NULL\n",
       "```"
      ],
      "text/plain": [
       "function (..., na.rm = FALSE) \n",
       "NULL"
      ]
     },
     "metadata": {},
     "output_type": "display_data"
    }
   ],
   "source": [
    "args(max)"
   ]
  },
  {
   "cell_type": "code",
   "execution_count": 1,
   "metadata": {},
   "outputs": [
    {
     "name": "stderr",
     "output_type": "stream",
     "text": [
      "also installing the dependencies 'ps', 'processx', 'callr', 'prettyunits', 'backports', 'desc', 'pkgbuild', 'rprojroot', 'rstudioapi', 'pkgload', 'praise', 'lattice', 'colorspace', 'assertthat', 'utf8', 'testthat', 'nlme', 'Matrix', 'farver', 'labeling', 'lifecycle', 'munsell', 'R6', 'RColorBrewer', 'viridisLite', 'cli', 'ellipsis', 'fansi', 'magrittr', 'pillar', 'pkgconfig', 'vctrs', 'glue', 'gtable', 'isoband', 'MASS', 'mgcv', 'rlang', 'scales', 'tibble', 'withr', 'ggplot2'\n",
      "\n"
     ]
    },
    {
     "name": "stdout",
     "output_type": "stream",
     "text": [
      "\n",
      "  There is a binary version available but the source version is later:\n",
      "      binary source needs_compilation\n",
      "callr  3.5.0  3.5.1             FALSE\n",
      "\n",
      "package 'ps' successfully unpacked and MD5 sums checked\n",
      "package 'processx' successfully unpacked and MD5 sums checked\n",
      "package 'prettyunits' successfully unpacked and MD5 sums checked\n",
      "package 'backports' successfully unpacked and MD5 sums checked\n",
      "package 'desc' successfully unpacked and MD5 sums checked\n",
      "package 'pkgbuild' successfully unpacked and MD5 sums checked\n",
      "package 'rprojroot' successfully unpacked and MD5 sums checked\n",
      "package 'rstudioapi' successfully unpacked and MD5 sums checked\n",
      "package 'pkgload' successfully unpacked and MD5 sums checked\n",
      "package 'praise' successfully unpacked and MD5 sums checked\n",
      "package 'lattice' successfully unpacked and MD5 sums checked\n",
      "package 'colorspace' successfully unpacked and MD5 sums checked\n",
      "package 'assertthat' successfully unpacked and MD5 sums checked\n",
      "package 'utf8' successfully unpacked and MD5 sums checked\n",
      "package 'testthat' successfully unpacked and MD5 sums checked\n",
      "package 'nlme' successfully unpacked and MD5 sums checked\n",
      "package 'Matrix' successfully unpacked and MD5 sums checked\n",
      "package 'farver' successfully unpacked and MD5 sums checked\n",
      "package 'labeling' successfully unpacked and MD5 sums checked\n",
      "package 'lifecycle' successfully unpacked and MD5 sums checked\n",
      "package 'munsell' successfully unpacked and MD5 sums checked\n",
      "package 'R6' successfully unpacked and MD5 sums checked\n",
      "package 'RColorBrewer' successfully unpacked and MD5 sums checked\n",
      "package 'viridisLite' successfully unpacked and MD5 sums checked\n",
      "package 'cli' successfully unpacked and MD5 sums checked\n",
      "package 'ellipsis' successfully unpacked and MD5 sums checked\n",
      "package 'fansi' successfully unpacked and MD5 sums checked\n",
      "package 'magrittr' successfully unpacked and MD5 sums checked\n",
      "package 'pillar' successfully unpacked and MD5 sums checked\n",
      "package 'pkgconfig' successfully unpacked and MD5 sums checked\n",
      "package 'vctrs' successfully unpacked and MD5 sums checked\n",
      "package 'glue' successfully unpacked and MD5 sums checked\n",
      "package 'gtable' successfully unpacked and MD5 sums checked\n",
      "package 'isoband' successfully unpacked and MD5 sums checked\n",
      "package 'MASS' successfully unpacked and MD5 sums checked\n",
      "package 'mgcv' successfully unpacked and MD5 sums checked\n",
      "package 'rlang' successfully unpacked and MD5 sums checked\n",
      "package 'scales' successfully unpacked and MD5 sums checked\n",
      "package 'tibble' successfully unpacked and MD5 sums checked\n",
      "package 'withr' successfully unpacked and MD5 sums checked\n",
      "package 'ggplot2' successfully unpacked and MD5 sums checked\n",
      "package 'dslabs' successfully unpacked and MD5 sums checked\n",
      "\n",
      "The downloaded binary packages are in\n",
      "\tC:\\Users\\dell\\AppData\\Local\\Temp\\RtmpED0zsm\\downloaded_packages\n"
     ]
    },
    {
     "name": "stderr",
     "output_type": "stream",
     "text": [
      "installing the source package 'callr'\n",
      "\n"
     ]
    }
   ],
   "source": [
    "install.packages('dslabs')"
   ]
  },
  {
   "cell_type": "code",
   "execution_count": 5,
   "metadata": {},
   "outputs": [
    {
     "data": {
      "text/html": [
       "<table>\n",
       "<thead><tr><th scope=col>movieId</th><th scope=col>title</th><th scope=col>year</th><th scope=col>genres</th><th scope=col>userId</th><th scope=col>rating</th><th scope=col>timestamp</th></tr></thead>\n",
       "<tbody>\n",
       "\t<tr><td>  31                                       </td><td>Dangerous Minds                            </td><td>1995                                       </td><td>Drama                                      </td><td>1                                          </td><td>2.5                                        </td><td>1260759144                                 </td></tr>\n",
       "\t<tr><td>1029                                       </td><td>Dumbo                                      </td><td>1941                                       </td><td>Animation|Children|Drama|Musical           </td><td>1                                          </td><td>3.0                                        </td><td>1260759179                                 </td></tr>\n",
       "\t<tr><td>1061                                       </td><td>Sleepers                                   </td><td>1996                                       </td><td>Thriller                                   </td><td>1                                          </td><td>3.0                                        </td><td>1260759182                                 </td></tr>\n",
       "\t<tr><td>1129                                       </td><td>Escape from New York                       </td><td>1981                                       </td><td>Action|Adventure|Sci-Fi|Thriller           </td><td>1                                          </td><td>2.0                                        </td><td>1260759185                                 </td></tr>\n",
       "\t<tr><td>1172                                       </td><td>Cinema Paradiso (Nuovo cinema Paradiso)    </td><td>1989                                       </td><td>Drama                                      </td><td>1                                          </td><td>4.0                                        </td><td>1260759205                                 </td></tr>\n",
       "\t<tr><td>1263                                       </td><td>Deer Hunter, The                           </td><td>1978                                       </td><td>Drama|War                                  </td><td>1                                          </td><td>2.0                                        </td><td>1260759151                                 </td></tr>\n",
       "\t<tr><td>1287                                       </td><td>Ben-Hur                                    </td><td>1959                                       </td><td>Action|Adventure|Drama                     </td><td>1                                          </td><td>2.0                                        </td><td>1260759187                                 </td></tr>\n",
       "\t<tr><td>1293                                       </td><td>Gandhi                                     </td><td>1982                                       </td><td>Drama                                      </td><td>1                                          </td><td>2.0                                        </td><td>1260759148                                 </td></tr>\n",
       "\t<tr><td>1339                                       </td><td>Dracula (Bram Stoker's Dracula)            </td><td>1992                                       </td><td>Fantasy|Horror|Romance|Thriller            </td><td>1                                          </td><td>3.5                                        </td><td>1260759125                                 </td></tr>\n",
       "\t<tr><td>1343                                       </td><td>Cape Fear                                  </td><td>1991                                       </td><td>Thriller                                   </td><td>1                                          </td><td>2.0                                        </td><td>1260759131                                 </td></tr>\n",
       "\t<tr><td>1371                                       </td><td>Star Trek: The Motion Picture              </td><td>1979                                       </td><td>Adventure|Sci-Fi                           </td><td>1                                          </td><td>2.5                                        </td><td>1260759135                                 </td></tr>\n",
       "\t<tr><td>1405                                       </td><td>Beavis and Butt-Head Do America            </td><td>1996                                       </td><td>Adventure|Animation|Comedy|Crime           </td><td>1                                          </td><td>1.0                                        </td><td>1260759203                                 </td></tr>\n",
       "\t<tr><td>1953                                       </td><td>French Connection, The                     </td><td>1971                                       </td><td>Action|Crime|Thriller                      </td><td>1                                          </td><td>4.0                                        </td><td>1260759191                                 </td></tr>\n",
       "\t<tr><td>2105                                       </td><td>Tron                                       </td><td>1982                                       </td><td>Action|Adventure|Sci-Fi                    </td><td>1                                          </td><td>4.0                                        </td><td>1260759139                                 </td></tr>\n",
       "\t<tr><td>2150                                       </td><td>Gods Must Be Crazy, The                    </td><td>1980                                       </td><td>Adventure|Comedy                           </td><td>1                                          </td><td>3.0                                        </td><td>1260759194                                 </td></tr>\n",
       "\t<tr><td>2193                                       </td><td>Willow                                     </td><td>1988                                       </td><td>Action|Adventure|Fantasy                   </td><td>1                                          </td><td>2.0                                        </td><td>1260759198                                 </td></tr>\n",
       "\t<tr><td>2294                                       </td><td>Antz                                       </td><td>1998                                       </td><td>Adventure|Animation|Children|Comedy|Fantasy</td><td>1                                          </td><td>2.0                                        </td><td>1260759108                                 </td></tr>\n",
       "\t<tr><td>2455                                       </td><td>Fly, The                                   </td><td>1986                                       </td><td>Drama|Horror|Sci-Fi|Thriller               </td><td>1                                          </td><td>2.5                                        </td><td>1260759113                                 </td></tr>\n",
       "\t<tr><td>2968                                       </td><td>Time Bandits                               </td><td>1981                                       </td><td>Adventure|Comedy|Fantasy|Sci-Fi            </td><td>1                                          </td><td>1.0                                        </td><td>1260759200                                 </td></tr>\n",
       "\t<tr><td>3671                                       </td><td>Blazing Saddles                            </td><td>1974                                       </td><td>Comedy|Western                             </td><td>1                                          </td><td>3.0                                        </td><td>1260759117                                 </td></tr>\n",
       "\t<tr><td>  10                                       </td><td>GoldenEye                                  </td><td>1995                                       </td><td>Action|Adventure|Thriller                  </td><td>2                                          </td><td>4.0                                        </td><td> 835355493                                 </td></tr>\n",
       "\t<tr><td>  17                                       </td><td>Sense and Sensibility                      </td><td>1995                                       </td><td>Drama|Romance                              </td><td>2                                          </td><td>5.0                                        </td><td> 835355681                                 </td></tr>\n",
       "\t<tr><td>  39                                       </td><td>Clueless                                   </td><td>1995                                       </td><td>Comedy|Romance                             </td><td>2                                          </td><td>5.0                                        </td><td> 835355604                                 </td></tr>\n",
       "\t<tr><td>  47                                       </td><td>Seven (a.k.a. Se7en)                       </td><td>1995                                       </td><td>Mystery|Thriller                           </td><td>2                                          </td><td>4.0                                        </td><td> 835355552                                 </td></tr>\n",
       "\t<tr><td>  50                                       </td><td>Usual Suspects, The                        </td><td>1995                                       </td><td>Crime|Mystery|Thriller                     </td><td>2                                          </td><td>4.0                                        </td><td> 835355586                                 </td></tr>\n",
       "\t<tr><td>  52                                       </td><td>Mighty Aphrodite                           </td><td>1995                                       </td><td>Comedy|Drama|Romance                       </td><td>2                                          </td><td>3.0                                        </td><td> 835356031                                 </td></tr>\n",
       "\t<tr><td>  62                                       </td><td>Mr. Holland's Opus                         </td><td>1995                                       </td><td>Drama                                      </td><td>2                                          </td><td>3.0                                        </td><td> 835355749                                 </td></tr>\n",
       "\t<tr><td> 110                                       </td><td>Braveheart                                 </td><td>1995                                       </td><td>Action|Drama|War                           </td><td>2                                          </td><td>4.0                                        </td><td> 835355532                                 </td></tr>\n",
       "\t<tr><td> 144                                       </td><td>Brothers McMullen, The                     </td><td>1995                                       </td><td>Comedy                                     </td><td>2                                          </td><td>3.0                                        </td><td> 835356016                                 </td></tr>\n",
       "\t<tr><td> 150                                       </td><td>Apollo 13                                  </td><td>1995                                       </td><td>Adventure|Drama|IMAX                       </td><td>2                                          </td><td>5.0                                        </td><td> 835355395                                 </td></tr>\n",
       "\t<tr><td>...</td><td>...</td><td>...</td><td>...</td><td>...</td><td>...</td><td>...</td></tr>\n",
       "\t<tr><td>4034                                                                                   </td><td>Traffic                                                                                </td><td>2000                                                                                   </td><td>Crime|Drama|Thriller                                                                   </td><td>671                                                                                    </td><td>4.5                                                                                    </td><td>1064245493                                                                             </td></tr>\n",
       "\t<tr><td>4306                                                                                   </td><td>Shrek                                                                                  </td><td>2001                                                                                   </td><td>Adventure|Animation|Children|Comedy|Fantasy|Romance                                    </td><td>671                                                                                    </td><td>5.0                                                                                    </td><td>1064245548                                                                             </td></tr>\n",
       "\t<tr><td>4308                                                                                   </td><td>Moulin Rouge                                                                           </td><td>2001                                                                                   </td><td>Drama|Musical|Romance                                                                  </td><td>671                                                                                    </td><td>3.5                                                                                    </td><td>1065111985                                                                             </td></tr>\n",
       "\t<tr><td>4880                                                                                   </td><td>Life as a House                                                                        </td><td>2001                                                                                   </td><td>Drama                                                                                  </td><td>671                                                                                    </td><td>4.0                                                                                    </td><td>1065111973                                                                             </td></tr>\n",
       "\t<tr><td>4886                                                                                   </td><td>Monsters, Inc.                                                                         </td><td>2001                                                                                   </td><td>Adventure|Animation|Children|Comedy|Fantasy                                            </td><td>671                                                                                    </td><td>5.0                                                                                    </td><td>1064245488                                                                             </td></tr>\n",
       "\t<tr><td>4896                                                                                   </td><td>Harry Potter and the Sorcerer's Stone (a.k.a. Harry Potter and the Philosopher's Stone)</td><td>2001                                                                                   </td><td>Adventure|Children|Fantasy                                                             </td><td>671                                                                                    </td><td>5.0                                                                                    </td><td>1065111996                                                                             </td></tr>\n",
       "\t<tr><td>4963                                                                                   </td><td>Ocean's Eleven                                                                         </td><td>2001                                                                                   </td><td>Crime|Thriller                                                                         </td><td>671                                                                                    </td><td>4.5                                                                                    </td><td>1065111855                                                                             </td></tr>\n",
       "\t<tr><td>4973                                                                                   </td><td>Amelie (Fabuleux destin d'Amélie Poulain, Le)                                          </td><td>2001                                                                                   </td><td>Comedy|Romance                                                                         </td><td>671                                                                                    </td><td>4.5                                                                                    </td><td>1064245471                                                                             </td></tr>\n",
       "\t<tr><td>4993                                                                                   </td><td>Lord of the Rings: The Fellowship of the Ring, The                                     </td><td>2001                                                                                   </td><td>Adventure|Fantasy                                                                      </td><td>671                                                                                    </td><td>5.0                                                                                    </td><td>1064245483                                                                             </td></tr>\n",
       "\t<tr><td>4995                                                                                   </td><td>Beautiful Mind, A                                                                      </td><td>2001                                                                                   </td><td>Drama|Romance                                                                          </td><td>671                                                                                    </td><td>4.0                                                                                    </td><td>1064891537                                                                             </td></tr>\n",
       "\t<tr><td>5010                                                                                   </td><td>Black Hawk Down                                                                        </td><td>2001                                                                                   </td><td>Action|Drama|War                                                                       </td><td>671                                                                                    </td><td>2.0                                                                                    </td><td>1066793004                                                                             </td></tr>\n",
       "\t<tr><td>5218                                                                                   </td><td>Ice Age                                                                                </td><td>2002                                                                                   </td><td>Adventure|Animation|Children|Comedy                                                    </td><td>671                                                                                    </td><td>2.0                                                                                    </td><td>1065111990                                                                             </td></tr>\n",
       "\t<tr><td>5299                                                                                   </td><td>My Big Fat Greek Wedding                                                               </td><td>2002                                                                                   </td><td>Comedy|Romance                                                                         </td><td>671                                                                                    </td><td>3.0                                                                                    </td><td>1065112004                                                                             </td></tr>\n",
       "\t<tr><td>5349                                                                                   </td><td>Spider-Man                                                                             </td><td>2002                                                                                   </td><td>Action|Adventure|Sci-Fi|Thriller                                                       </td><td>671                                                                                    </td><td>4.0                                                                                    </td><td>1065111863                                                                             </td></tr>\n",
       "\t<tr><td>5377                                                                                   </td><td>About a Boy                                                                            </td><td>2002                                                                                   </td><td>Comedy|Drama|Romance                                                                   </td><td>671                                                                                    </td><td>4.0                                                                                    </td><td>1064245557                                                                             </td></tr>\n",
       "\t<tr><td>5445                                                                                   </td><td>Minority Report                                                                        </td><td>2002                                                                                   </td><td>Action|Crime|Mystery|Sci-Fi|Thriller                                                   </td><td>671                                                                                    </td><td>4.5                                                                                    </td><td>1064891627                                                                             </td></tr>\n",
       "\t<tr><td>5464                                                                                   </td><td>Road to Perdition                                                                      </td><td>2002                                                                                   </td><td>Crime|Drama                                                                            </td><td>671                                                                                    </td><td>3.0                                                                                    </td><td>1064891549                                                                             </td></tr>\n",
       "\t<tr><td>5669                                                                                   </td><td>Bowling for Columbine                                                                  </td><td>2002                                                                                   </td><td>Documentary                                                                            </td><td>671                                                                                    </td><td>4.0                                                                                    </td><td>1063502711                                                                             </td></tr>\n",
       "\t<tr><td>5816                                                                                   </td><td>Harry Potter and the Chamber of Secrets                                                </td><td>2002                                                                                   </td><td>Adventure|Fantasy                                                                      </td><td>671                                                                                    </td><td>4.0                                                                                    </td><td>1065111963                                                                             </td></tr>\n",
       "\t<tr><td>5902                                                                                   </td><td>Adaptation                                                                             </td><td>2002                                                                                   </td><td>Comedy|Drama|Romance                                                                   </td><td>671                                                                                    </td><td>3.5                                                                                    </td><td>1064245507                                                                             </td></tr>\n",
       "\t<tr><td>5952                                                                                   </td><td>Lord of the Rings: The Two Towers, The                                                 </td><td>2002                                                                                   </td><td>Adventure|Fantasy                                                                      </td><td>671                                                                                    </td><td>5.0                                                                                    </td><td>1063502716                                                                             </td></tr>\n",
       "\t<tr><td>5989                                                                                   </td><td>Catch Me If You Can                                                                    </td><td>2002                                                                                   </td><td>Crime|Drama                                                                            </td><td>671                                                                                    </td><td>4.0                                                                                    </td><td>1064890625                                                                             </td></tr>\n",
       "\t<tr><td>5991                                                                                   </td><td>Chicago                                                                                </td><td>2002                                                                                   </td><td>Comedy|Crime|Drama|Musical                                                             </td><td>671                                                                                    </td><td>4.5                                                                                    </td><td>1064245387                                                                             </td></tr>\n",
       "\t<tr><td>5995                                                                                   </td><td>Pianist, The                                                                           </td><td>2002                                                                                   </td><td>Drama|War                                                                              </td><td>671                                                                                    </td><td>4.0                                                                                    </td><td>1066793014                                                                             </td></tr>\n",
       "\t<tr><td>6212                                                                                   </td><td>Bringing Down the House                                                                </td><td>2003                                                                                   </td><td>Comedy                                                                                 </td><td>671                                                                                    </td><td>2.5                                                                                    </td><td>1065149436                                                                             </td></tr>\n",
       "\t<tr><td>6268                                                                                   </td><td>Raising Victor Vargas                                                                  </td><td>2002                                                                                   </td><td>Comedy|Drama|Romance                                                                   </td><td>671                                                                                    </td><td>2.5                                                                                    </td><td>1065579370                                                                             </td></tr>\n",
       "\t<tr><td>6269                                                                                   </td><td>Stevie                                                                                 </td><td>2002                                                                                   </td><td>Documentary                                                                            </td><td>671                                                                                    </td><td>4.0                                                                                    </td><td>1065149201                                                                             </td></tr>\n",
       "\t<tr><td>6365                                                                                   </td><td>Matrix Reloaded, The                                                                   </td><td>2003                                                                                   </td><td>Action|Adventure|Sci-Fi|Thriller|IMAX                                                  </td><td>671                                                                                    </td><td>4.0                                                                                    </td><td>1070940363                                                                             </td></tr>\n",
       "\t<tr><td>6385                                                                                   </td><td>Whale Rider                                                                            </td><td>2002                                                                                   </td><td>Drama                                                                                  </td><td>671                                                                                    </td><td>2.5                                                                                    </td><td>1070979663                                                                             </td></tr>\n",
       "\t<tr><td>6565                                                                                   </td><td>Seabiscuit                                                                             </td><td>2003                                                                                   </td><td>Drama                                                                                  </td><td>671                                                                                    </td><td>3.5                                                                                    </td><td>1074784724                                                                             </td></tr>\n",
       "</tbody>\n",
       "</table>\n"
      ],
      "text/latex": [
       "\\begin{tabular}{r|lllllll}\n",
       " movieId & title & year & genres & userId & rating & timestamp\\\\\n",
       "\\hline\n",
       "\t   31                                        & Dangerous Minds                             & 1995                                        & Drama                                       & 1                                           & 2.5                                         & 1260759144                                 \\\\\n",
       "\t 1029                                                                      & Dumbo                                                                     & 1941                                                                      & Animation\\textbar{}Children\\textbar{}Drama\\textbar{}Musical            & 1                                                                         & 3.0                                                                       & 1260759179                                                               \\\\\n",
       "\t 1061                                        & Sleepers                                    & 1996                                        & Thriller                                    & 1                                           & 3.0                                         & 1260759182                                 \\\\\n",
       "\t 1129                                                                      & Escape from New York                                                      & 1981                                                                      & Action\\textbar{}Adventure\\textbar{}Sci-Fi\\textbar{}Thriller            & 1                                                                         & 2.0                                                                       & 1260759185                                                               \\\\\n",
       "\t 1172                                        & Cinema Paradiso (Nuovo cinema Paradiso)     & 1989                                        & Drama                                       & 1                                           & 4.0                                         & 1260759205                                 \\\\\n",
       "\t 1263                                                  & Deer Hunter, The                                      & 1978                                                  & Drama\\textbar{}War                                   & 1                                                     & 2.0                                                   & 1260759151                                           \\\\\n",
       "\t 1287                                                            & Ben-Hur                                                         & 1959                                                            & Action\\textbar{}Adventure\\textbar{}Drama                      & 1                                                               & 2.0                                                             & 1260759187                                                     \\\\\n",
       "\t 1293                                        & Gandhi                                      & 1982                                        & Drama                                       & 1                                           & 2.0                                         & 1260759148                                 \\\\\n",
       "\t 1339                                                                      & Dracula (Bram Stoker's Dracula)                                           & 1992                                                                      & Fantasy\\textbar{}Horror\\textbar{}Romance\\textbar{}Thriller             & 1                                                                         & 3.5                                                                       & 1260759125                                                               \\\\\n",
       "\t 1343                                        & Cape Fear                                   & 1991                                        & Thriller                                    & 1                                           & 2.0                                         & 1260759131                                 \\\\\n",
       "\t 1371                                                  & Star Trek: The Motion Picture                         & 1979                                                  & Adventure\\textbar{}Sci-Fi                            & 1                                                     & 2.5                                                   & 1260759135                                           \\\\\n",
       "\t 1405                                                                      & Beavis and Butt-Head Do America                                           & 1996                                                                      & Adventure\\textbar{}Animation\\textbar{}Comedy\\textbar{}Crime            & 1                                                                         & 1.0                                                                       & 1260759203                                                               \\\\\n",
       "\t 1953                                                            & French Connection, The                                          & 1971                                                            & Action\\textbar{}Crime\\textbar{}Thriller                       & 1                                                               & 4.0                                                             & 1260759191                                                     \\\\\n",
       "\t 2105                                                            & Tron                                                            & 1982                                                            & Action\\textbar{}Adventure\\textbar{}Sci-Fi                     & 1                                                               & 4.0                                                             & 1260759139                                                     \\\\\n",
       "\t 2150                                                  & Gods Must Be Crazy, The                               & 1980                                                  & Adventure\\textbar{}Comedy                            & 1                                                     & 3.0                                                   & 1260759194                                           \\\\\n",
       "\t 2193                                                            & Willow                                                          & 1988                                                            & Action\\textbar{}Adventure\\textbar{}Fantasy                    & 1                                                               & 2.0                                                             & 1260759198                                                     \\\\\n",
       "\t 2294                                                                                & Antz                                                                                & 1998                                                                                & Adventure\\textbar{}Animation\\textbar{}Children\\textbar{}Comedy\\textbar{}Fantasy & 1                                                                                   & 2.0                                                                                 & 1260759108                                                                         \\\\\n",
       "\t 2455                                                                      & Fly, The                                                                  & 1986                                                                      & Drama\\textbar{}Horror\\textbar{}Sci-Fi\\textbar{}Thriller                & 1                                                                         & 2.5                                                                       & 1260759113                                                               \\\\\n",
       "\t 2968                                                                      & Time Bandits                                                              & 1981                                                                      & Adventure\\textbar{}Comedy\\textbar{}Fantasy\\textbar{}Sci-Fi             & 1                                                                         & 1.0                                                                       & 1260759200                                                               \\\\\n",
       "\t 3671                                                  & Blazing Saddles                                       & 1974                                                  & Comedy\\textbar{}Western                              & 1                                                     & 3.0                                                   & 1260759117                                           \\\\\n",
       "\t   10                                                            & GoldenEye                                                       & 1995                                                            & Action\\textbar{}Adventure\\textbar{}Thriller                   & 2                                                               & 4.0                                                             &  835355493                                                     \\\\\n",
       "\t   17                                                  & Sense and Sensibility                                 & 1995                                                  & Drama\\textbar{}Romance                               & 2                                                     & 5.0                                                   &  835355681                                           \\\\\n",
       "\t   39                                                  & Clueless                                              & 1995                                                  & Comedy\\textbar{}Romance                              & 2                                                     & 5.0                                                   &  835355604                                           \\\\\n",
       "\t   47                                                  & Seven (a.k.a. Se7en)                                  & 1995                                                  & Mystery\\textbar{}Thriller                            & 2                                                     & 4.0                                                   &  835355552                                           \\\\\n",
       "\t   50                                                            & Usual Suspects, The                                             & 1995                                                            & Crime\\textbar{}Mystery\\textbar{}Thriller                      & 2                                                               & 4.0                                                             &  835355586                                                     \\\\\n",
       "\t   52                                                            & Mighty Aphrodite                                                & 1995                                                            & Comedy\\textbar{}Drama\\textbar{}Romance                        & 2                                                               & 3.0                                                             &  835356031                                                     \\\\\n",
       "\t   62                                        & Mr. Holland's Opus                          & 1995                                        & Drama                                       & 2                                           & 3.0                                         &  835355749                                 \\\\\n",
       "\t  110                                                            & Braveheart                                                      & 1995                                                            & Action\\textbar{}Drama\\textbar{}War                            & 2                                                               & 4.0                                                             &  835355532                                                     \\\\\n",
       "\t  144                                        & Brothers McMullen, The                      & 1995                                        & Comedy                                      & 2                                           & 3.0                                         &  835356016                                 \\\\\n",
       "\t  150                                                            & Apollo 13                                                       & 1995                                                            & Adventure\\textbar{}Drama\\textbar{}IMAX                        & 2                                                               & 5.0                                                             &  835355395                                                     \\\\\n",
       "\t ... & ... & ... & ... & ... & ... & ...\\\\\n",
       "\t 4034                                                                                    & Traffic                                                                                 & 2000                                                                                    & Crime\\textbar{}Drama\\textbar{}Thriller                                                & 671                                                                                     & 4.5                                                                                     & 1064245493                                                                             \\\\\n",
       "\t 4306                                                                                                  & Shrek                                                                                                 & 2001                                                                                                  & Adventure\\textbar{}Animation\\textbar{}Children\\textbar{}Comedy\\textbar{}Fantasy\\textbar{}Romance & 671                                                                                                   & 5.0                                                                                                   & 1064245548                                                                                           \\\\\n",
       "\t 4308                                                                                    & Moulin Rouge                                                                            & 2001                                                                                    & Drama\\textbar{}Musical\\textbar{}Romance                                               & 671                                                                                     & 3.5                                                                                     & 1065111985                                                                             \\\\\n",
       "\t 4880                                                                                    & Life as a House                                                                         & 2001                                                                                    & Drama                                                                                   & 671                                                                                     & 4.0                                                                                     & 1065111973                                                                             \\\\\n",
       "\t 4886                                                                                        & Monsters, Inc.                                                                              & 2001                                                                                        & Adventure\\textbar{}Animation\\textbar{}Children\\textbar{}Comedy\\textbar{}Fantasy         & 671                                                                                         & 5.0                                                                                         & 1064245488                                                                                 \\\\\n",
       "\t 4896                                                                                    & Harry Potter and the Sorcerer's Stone (a.k.a. Harry Potter and the Philosopher's Stone) & 2001                                                                                    & Adventure\\textbar{}Children\\textbar{}Fantasy                                          & 671                                                                                     & 5.0                                                                                     & 1065111996                                                                             \\\\\n",
       "\t 4963                                                                                    & Ocean's Eleven                                                                          & 2001                                                                                    & Crime\\textbar{}Thriller                                                                & 671                                                                                     & 4.5                                                                                     & 1065111855                                                                             \\\\\n",
       "\t 4973                                                                                    & Amelie (Fabuleux destin d'Amélie Poulain, Le)                                           & 2001                                                                                    & Comedy\\textbar{}Romance                                                                & 671                                                                                     & 4.5                                                                                     & 1064245471                                                                             \\\\\n",
       "\t 4993                                                                                    & Lord of the Rings: The Fellowship of the Ring, The                                      & 2001                                                                                    & Adventure\\textbar{}Fantasy                                                             & 671                                                                                     & 5.0                                                                                     & 1064245483                                                                             \\\\\n",
       "\t 4995                                                                                    & Beautiful Mind, A                                                                       & 2001                                                                                    & Drama\\textbar{}Romance                                                                 & 671                                                                                     & 4.0                                                                                     & 1064891537                                                                             \\\\\n",
       "\t 5010                                                                                    & Black Hawk Down                                                                         & 2001                                                                                    & Action\\textbar{}Drama\\textbar{}War                                                    & 671                                                                                     & 2.0                                                                                     & 1066793004                                                                             \\\\\n",
       "\t 5218                                                                                    & Ice Age                                                                                 & 2002                                                                                    & Adventure\\textbar{}Animation\\textbar{}Children\\textbar{}Comedy                       & 671                                                                                     & 2.0                                                                                     & 1065111990                                                                             \\\\\n",
       "\t 5299                                                                                    & My Big Fat Greek Wedding                                                                & 2002                                                                                    & Comedy\\textbar{}Romance                                                                & 671                                                                                     & 3.0                                                                                     & 1065112004                                                                             \\\\\n",
       "\t 5349                                                                                    & Spider-Man                                                                              & 2002                                                                                    & Action\\textbar{}Adventure\\textbar{}Sci-Fi\\textbar{}Thriller                          & 671                                                                                     & 4.0                                                                                     & 1065111863                                                                             \\\\\n",
       "\t 5377                                                                                    & About a Boy                                                                             & 2002                                                                                    & Comedy\\textbar{}Drama\\textbar{}Romance                                                & 671                                                                                     & 4.0                                                                                     & 1064245557                                                                             \\\\\n",
       "\t 5445                                                                                        & Minority Report                                                                             & 2002                                                                                        & Action\\textbar{}Crime\\textbar{}Mystery\\textbar{}Sci-Fi\\textbar{}Thriller                & 671                                                                                         & 4.5                                                                                         & 1064891627                                                                                 \\\\\n",
       "\t 5464                                                                                    & Road to Perdition                                                                       & 2002                                                                                    & Crime\\textbar{}Drama                                                                   & 671                                                                                     & 3.0                                                                                     & 1064891549                                                                             \\\\\n",
       "\t 5669                                                                                    & Bowling for Columbine                                                                   & 2002                                                                                    & Documentary                                                                             & 671                                                                                     & 4.0                                                                                     & 1063502711                                                                             \\\\\n",
       "\t 5816                                                                                    & Harry Potter and the Chamber of Secrets                                                 & 2002                                                                                    & Adventure\\textbar{}Fantasy                                                             & 671                                                                                     & 4.0                                                                                     & 1065111963                                                                             \\\\\n",
       "\t 5902                                                                                    & Adaptation                                                                              & 2002                                                                                    & Comedy\\textbar{}Drama\\textbar{}Romance                                                & 671                                                                                     & 3.5                                                                                     & 1064245507                                                                             \\\\\n",
       "\t 5952                                                                                    & Lord of the Rings: The Two Towers, The                                                  & 2002                                                                                    & Adventure\\textbar{}Fantasy                                                             & 671                                                                                     & 5.0                                                                                     & 1063502716                                                                             \\\\\n",
       "\t 5989                                                                                    & Catch Me If You Can                                                                     & 2002                                                                                    & Crime\\textbar{}Drama                                                                   & 671                                                                                     & 4.0                                                                                     & 1064890625                                                                             \\\\\n",
       "\t 5991                                                                                    & Chicago                                                                                 & 2002                                                                                    & Comedy\\textbar{}Crime\\textbar{}Drama\\textbar{}Musical                                & 671                                                                                     & 4.5                                                                                     & 1064245387                                                                             \\\\\n",
       "\t 5995                                                                                    & Pianist, The                                                                            & 2002                                                                                    & Drama\\textbar{}War                                                                     & 671                                                                                     & 4.0                                                                                     & 1066793014                                                                             \\\\\n",
       "\t 6212                                                                                    & Bringing Down the House                                                                 & 2003                                                                                    & Comedy                                                                                  & 671                                                                                     & 2.5                                                                                     & 1065149436                                                                             \\\\\n",
       "\t 6268                                                                                    & Raising Victor Vargas                                                                   & 2002                                                                                    & Comedy\\textbar{}Drama\\textbar{}Romance                                                & 671                                                                                     & 2.5                                                                                     & 1065579370                                                                             \\\\\n",
       "\t 6269                                                                                    & Stevie                                                                                  & 2002                                                                                    & Documentary                                                                             & 671                                                                                     & 4.0                                                                                     & 1065149201                                                                             \\\\\n",
       "\t 6365                                                                                        & Matrix Reloaded, The                                                                        & 2003                                                                                        & Action\\textbar{}Adventure\\textbar{}Sci-Fi\\textbar{}Thriller\\textbar{}IMAX               & 671                                                                                         & 4.0                                                                                         & 1070940363                                                                                 \\\\\n",
       "\t 6385                                                                                    & Whale Rider                                                                             & 2002                                                                                    & Drama                                                                                   & 671                                                                                     & 2.5                                                                                     & 1070979663                                                                             \\\\\n",
       "\t 6565                                                                                    & Seabiscuit                                                                              & 2003                                                                                    & Drama                                                                                   & 671                                                                                     & 3.5                                                                                     & 1074784724                                                                             \\\\\n",
       "\\end{tabular}\n"
      ],
      "text/markdown": [
       "\n",
       "| movieId | title | year | genres | userId | rating | timestamp |\n",
       "|---|---|---|---|---|---|---|\n",
       "|   31                                        | Dangerous Minds                             | 1995                                        | Drama                                       | 1                                           | 2.5                                         | 1260759144                                  |\n",
       "| 1029                                        | Dumbo                                       | 1941                                        | Animation|Children|Drama|Musical            | 1                                           | 3.0                                         | 1260759179                                  |\n",
       "| 1061                                        | Sleepers                                    | 1996                                        | Thriller                                    | 1                                           | 3.0                                         | 1260759182                                  |\n",
       "| 1129                                        | Escape from New York                        | 1981                                        | Action|Adventure|Sci-Fi|Thriller            | 1                                           | 2.0                                         | 1260759185                                  |\n",
       "| 1172                                        | Cinema Paradiso (Nuovo cinema Paradiso)     | 1989                                        | Drama                                       | 1                                           | 4.0                                         | 1260759205                                  |\n",
       "| 1263                                        | Deer Hunter, The                            | 1978                                        | Drama|War                                   | 1                                           | 2.0                                         | 1260759151                                  |\n",
       "| 1287                                        | Ben-Hur                                     | 1959                                        | Action|Adventure|Drama                      | 1                                           | 2.0                                         | 1260759187                                  |\n",
       "| 1293                                        | Gandhi                                      | 1982                                        | Drama                                       | 1                                           | 2.0                                         | 1260759148                                  |\n",
       "| 1339                                        | Dracula (Bram Stoker's Dracula)             | 1992                                        | Fantasy|Horror|Romance|Thriller             | 1                                           | 3.5                                         | 1260759125                                  |\n",
       "| 1343                                        | Cape Fear                                   | 1991                                        | Thriller                                    | 1                                           | 2.0                                         | 1260759131                                  |\n",
       "| 1371                                        | Star Trek: The Motion Picture               | 1979                                        | Adventure|Sci-Fi                            | 1                                           | 2.5                                         | 1260759135                                  |\n",
       "| 1405                                        | Beavis and Butt-Head Do America             | 1996                                        | Adventure|Animation|Comedy|Crime            | 1                                           | 1.0                                         | 1260759203                                  |\n",
       "| 1953                                        | French Connection, The                      | 1971                                        | Action|Crime|Thriller                       | 1                                           | 4.0                                         | 1260759191                                  |\n",
       "| 2105                                        | Tron                                        | 1982                                        | Action|Adventure|Sci-Fi                     | 1                                           | 4.0                                         | 1260759139                                  |\n",
       "| 2150                                        | Gods Must Be Crazy, The                     | 1980                                        | Adventure|Comedy                            | 1                                           | 3.0                                         | 1260759194                                  |\n",
       "| 2193                                        | Willow                                      | 1988                                        | Action|Adventure|Fantasy                    | 1                                           | 2.0                                         | 1260759198                                  |\n",
       "| 2294                                        | Antz                                        | 1998                                        | Adventure|Animation|Children|Comedy|Fantasy | 1                                           | 2.0                                         | 1260759108                                  |\n",
       "| 2455                                        | Fly, The                                    | 1986                                        | Drama|Horror|Sci-Fi|Thriller                | 1                                           | 2.5                                         | 1260759113                                  |\n",
       "| 2968                                        | Time Bandits                                | 1981                                        | Adventure|Comedy|Fantasy|Sci-Fi             | 1                                           | 1.0                                         | 1260759200                                  |\n",
       "| 3671                                        | Blazing Saddles                             | 1974                                        | Comedy|Western                              | 1                                           | 3.0                                         | 1260759117                                  |\n",
       "|   10                                        | GoldenEye                                   | 1995                                        | Action|Adventure|Thriller                   | 2                                           | 4.0                                         |  835355493                                  |\n",
       "|   17                                        | Sense and Sensibility                       | 1995                                        | Drama|Romance                               | 2                                           | 5.0                                         |  835355681                                  |\n",
       "|   39                                        | Clueless                                    | 1995                                        | Comedy|Romance                              | 2                                           | 5.0                                         |  835355604                                  |\n",
       "|   47                                        | Seven (a.k.a. Se7en)                        | 1995                                        | Mystery|Thriller                            | 2                                           | 4.0                                         |  835355552                                  |\n",
       "|   50                                        | Usual Suspects, The                         | 1995                                        | Crime|Mystery|Thriller                      | 2                                           | 4.0                                         |  835355586                                  |\n",
       "|   52                                        | Mighty Aphrodite                            | 1995                                        | Comedy|Drama|Romance                        | 2                                           | 3.0                                         |  835356031                                  |\n",
       "|   62                                        | Mr. Holland's Opus                          | 1995                                        | Drama                                       | 2                                           | 3.0                                         |  835355749                                  |\n",
       "|  110                                        | Braveheart                                  | 1995                                        | Action|Drama|War                            | 2                                           | 4.0                                         |  835355532                                  |\n",
       "|  144                                        | Brothers McMullen, The                      | 1995                                        | Comedy                                      | 2                                           | 3.0                                         |  835356016                                  |\n",
       "|  150                                        | Apollo 13                                   | 1995                                        | Adventure|Drama|IMAX                        | 2                                           | 5.0                                         |  835355395                                  |\n",
       "| ... | ... | ... | ... | ... | ... | ... |\n",
       "| 4034                                                                                    | Traffic                                                                                 | 2000                                                                                    | Crime|Drama|Thriller                                                                    | 671                                                                                     | 4.5                                                                                     | 1064245493                                                                              |\n",
       "| 4306                                                                                    | Shrek                                                                                   | 2001                                                                                    | Adventure|Animation|Children|Comedy|Fantasy|Romance                                     | 671                                                                                     | 5.0                                                                                     | 1064245548                                                                              |\n",
       "| 4308                                                                                    | Moulin Rouge                                                                            | 2001                                                                                    | Drama|Musical|Romance                                                                   | 671                                                                                     | 3.5                                                                                     | 1065111985                                                                              |\n",
       "| 4880                                                                                    | Life as a House                                                                         | 2001                                                                                    | Drama                                                                                   | 671                                                                                     | 4.0                                                                                     | 1065111973                                                                              |\n",
       "| 4886                                                                                    | Monsters, Inc.                                                                          | 2001                                                                                    | Adventure|Animation|Children|Comedy|Fantasy                                             | 671                                                                                     | 5.0                                                                                     | 1064245488                                                                              |\n",
       "| 4896                                                                                    | Harry Potter and the Sorcerer's Stone (a.k.a. Harry Potter and the Philosopher's Stone) | 2001                                                                                    | Adventure|Children|Fantasy                                                              | 671                                                                                     | 5.0                                                                                     | 1065111996                                                                              |\n",
       "| 4963                                                                                    | Ocean's Eleven                                                                          | 2001                                                                                    | Crime|Thriller                                                                          | 671                                                                                     | 4.5                                                                                     | 1065111855                                                                              |\n",
       "| 4973                                                                                    | Amelie (Fabuleux destin d'Amélie Poulain, Le)                                           | 2001                                                                                    | Comedy|Romance                                                                          | 671                                                                                     | 4.5                                                                                     | 1064245471                                                                              |\n",
       "| 4993                                                                                    | Lord of the Rings: The Fellowship of the Ring, The                                      | 2001                                                                                    | Adventure|Fantasy                                                                       | 671                                                                                     | 5.0                                                                                     | 1064245483                                                                              |\n",
       "| 4995                                                                                    | Beautiful Mind, A                                                                       | 2001                                                                                    | Drama|Romance                                                                           | 671                                                                                     | 4.0                                                                                     | 1064891537                                                                              |\n",
       "| 5010                                                                                    | Black Hawk Down                                                                         | 2001                                                                                    | Action|Drama|War                                                                        | 671                                                                                     | 2.0                                                                                     | 1066793004                                                                              |\n",
       "| 5218                                                                                    | Ice Age                                                                                 | 2002                                                                                    | Adventure|Animation|Children|Comedy                                                     | 671                                                                                     | 2.0                                                                                     | 1065111990                                                                              |\n",
       "| 5299                                                                                    | My Big Fat Greek Wedding                                                                | 2002                                                                                    | Comedy|Romance                                                                          | 671                                                                                     | 3.0                                                                                     | 1065112004                                                                              |\n",
       "| 5349                                                                                    | Spider-Man                                                                              | 2002                                                                                    | Action|Adventure|Sci-Fi|Thriller                                                        | 671                                                                                     | 4.0                                                                                     | 1065111863                                                                              |\n",
       "| 5377                                                                                    | About a Boy                                                                             | 2002                                                                                    | Comedy|Drama|Romance                                                                    | 671                                                                                     | 4.0                                                                                     | 1064245557                                                                              |\n",
       "| 5445                                                                                    | Minority Report                                                                         | 2002                                                                                    | Action|Crime|Mystery|Sci-Fi|Thriller                                                    | 671                                                                                     | 4.5                                                                                     | 1064891627                                                                              |\n",
       "| 5464                                                                                    | Road to Perdition                                                                       | 2002                                                                                    | Crime|Drama                                                                             | 671                                                                                     | 3.0                                                                                     | 1064891549                                                                              |\n",
       "| 5669                                                                                    | Bowling for Columbine                                                                   | 2002                                                                                    | Documentary                                                                             | 671                                                                                     | 4.0                                                                                     | 1063502711                                                                              |\n",
       "| 5816                                                                                    | Harry Potter and the Chamber of Secrets                                                 | 2002                                                                                    | Adventure|Fantasy                                                                       | 671                                                                                     | 4.0                                                                                     | 1065111963                                                                              |\n",
       "| 5902                                                                                    | Adaptation                                                                              | 2002                                                                                    | Comedy|Drama|Romance                                                                    | 671                                                                                     | 3.5                                                                                     | 1064245507                                                                              |\n",
       "| 5952                                                                                    | Lord of the Rings: The Two Towers, The                                                  | 2002                                                                                    | Adventure|Fantasy                                                                       | 671                                                                                     | 5.0                                                                                     | 1063502716                                                                              |\n",
       "| 5989                                                                                    | Catch Me If You Can                                                                     | 2002                                                                                    | Crime|Drama                                                                             | 671                                                                                     | 4.0                                                                                     | 1064890625                                                                              |\n",
       "| 5991                                                                                    | Chicago                                                                                 | 2002                                                                                    | Comedy|Crime|Drama|Musical                                                              | 671                                                                                     | 4.5                                                                                     | 1064245387                                                                              |\n",
       "| 5995                                                                                    | Pianist, The                                                                            | 2002                                                                                    | Drama|War                                                                               | 671                                                                                     | 4.0                                                                                     | 1066793014                                                                              |\n",
       "| 6212                                                                                    | Bringing Down the House                                                                 | 2003                                                                                    | Comedy                                                                                  | 671                                                                                     | 2.5                                                                                     | 1065149436                                                                              |\n",
       "| 6268                                                                                    | Raising Victor Vargas                                                                   | 2002                                                                                    | Comedy|Drama|Romance                                                                    | 671                                                                                     | 2.5                                                                                     | 1065579370                                                                              |\n",
       "| 6269                                                                                    | Stevie                                                                                  | 2002                                                                                    | Documentary                                                                             | 671                                                                                     | 4.0                                                                                     | 1065149201                                                                              |\n",
       "| 6365                                                                                    | Matrix Reloaded, The                                                                    | 2003                                                                                    | Action|Adventure|Sci-Fi|Thriller|IMAX                                                   | 671                                                                                     | 4.0                                                                                     | 1070940363                                                                              |\n",
       "| 6385                                                                                    | Whale Rider                                                                             | 2002                                                                                    | Drama                                                                                   | 671                                                                                     | 2.5                                                                                     | 1070979663                                                                              |\n",
       "| 6565                                                                                    | Seabiscuit                                                                              | 2003                                                                                    | Drama                                                                                   | 671                                                                                     | 3.5                                                                                     | 1074784724                                                                              |\n",
       "\n"
      ],
      "text/plain": [
       "       movieId\n",
       "1        31   \n",
       "2      1029   \n",
       "3      1061   \n",
       "4      1129   \n",
       "5      1172   \n",
       "6      1263   \n",
       "7      1287   \n",
       "8      1293   \n",
       "9      1339   \n",
       "10     1343   \n",
       "11     1371   \n",
       "12     1405   \n",
       "13     1953   \n",
       "14     2105   \n",
       "15     2150   \n",
       "16     2193   \n",
       "17     2294   \n",
       "18     2455   \n",
       "19     2968   \n",
       "20     3671   \n",
       "21       10   \n",
       "22       17   \n",
       "23       39   \n",
       "24       47   \n",
       "25       50   \n",
       "26       52   \n",
       "27       62   \n",
       "28      110   \n",
       "29      144   \n",
       "30      150   \n",
       "...    ...    \n",
       "99975  4034   \n",
       "99976  4306   \n",
       "99977  4308   \n",
       "99978  4880   \n",
       "99979  4886   \n",
       "99980  4896   \n",
       "99981  4963   \n",
       "99982  4973   \n",
       "99983  4993   \n",
       "99984  4995   \n",
       "99985  5010   \n",
       "99986  5218   \n",
       "99987  5299   \n",
       "99988  5349   \n",
       "99989  5377   \n",
       "99990  5445   \n",
       "99991  5464   \n",
       "99992  5669   \n",
       "99993  5816   \n",
       "99994  5902   \n",
       "99995  5952   \n",
       "99996  5989   \n",
       "99997  5991   \n",
       "99998  5995   \n",
       "99999  6212   \n",
       "100000 6268   \n",
       "100001 6269   \n",
       "100002 6365   \n",
       "100003 6385   \n",
       "100004 6565   \n",
       "       title                                                                                  \n",
       "1      Dangerous Minds                                                                        \n",
       "2      Dumbo                                                                                  \n",
       "3      Sleepers                                                                               \n",
       "4      Escape from New York                                                                   \n",
       "5      Cinema Paradiso (Nuovo cinema Paradiso)                                                \n",
       "6      Deer Hunter, The                                                                       \n",
       "7      Ben-Hur                                                                                \n",
       "8      Gandhi                                                                                 \n",
       "9      Dracula (Bram Stoker's Dracula)                                                        \n",
       "10     Cape Fear                                                                              \n",
       "11     Star Trek: The Motion Picture                                                          \n",
       "12     Beavis and Butt-Head Do America                                                        \n",
       "13     French Connection, The                                                                 \n",
       "14     Tron                                                                                   \n",
       "15     Gods Must Be Crazy, The                                                                \n",
       "16     Willow                                                                                 \n",
       "17     Antz                                                                                   \n",
       "18     Fly, The                                                                               \n",
       "19     Time Bandits                                                                           \n",
       "20     Blazing Saddles                                                                        \n",
       "21     GoldenEye                                                                              \n",
       "22     Sense and Sensibility                                                                  \n",
       "23     Clueless                                                                               \n",
       "24     Seven (a.k.a. Se7en)                                                                   \n",
       "25     Usual Suspects, The                                                                    \n",
       "26     Mighty Aphrodite                                                                       \n",
       "27     Mr. Holland's Opus                                                                     \n",
       "28     Braveheart                                                                             \n",
       "29     Brothers McMullen, The                                                                 \n",
       "30     Apollo 13                                                                              \n",
       "...    ...                                                                                    \n",
       "99975  Traffic                                                                                \n",
       "99976  Shrek                                                                                  \n",
       "99977  Moulin Rouge                                                                           \n",
       "99978  Life as a House                                                                        \n",
       "99979  Monsters, Inc.                                                                         \n",
       "99980  Harry Potter and the Sorcerer's Stone (a.k.a. Harry Potter and the Philosopher's Stone)\n",
       "99981  Ocean's Eleven                                                                         \n",
       "99982  Amelie (Fabuleux destin d'Amélie Poulain, Le)                                          \n",
       "99983  Lord of the Rings: The Fellowship of the Ring, The                                     \n",
       "99984  Beautiful Mind, A                                                                      \n",
       "99985  Black Hawk Down                                                                        \n",
       "99986  Ice Age                                                                                \n",
       "99987  My Big Fat Greek Wedding                                                               \n",
       "99988  Spider-Man                                                                             \n",
       "99989  About a Boy                                                                            \n",
       "99990  Minority Report                                                                        \n",
       "99991  Road to Perdition                                                                      \n",
       "99992  Bowling for Columbine                                                                  \n",
       "99993  Harry Potter and the Chamber of Secrets                                                \n",
       "99994  Adaptation                                                                             \n",
       "99995  Lord of the Rings: The Two Towers, The                                                 \n",
       "99996  Catch Me If You Can                                                                    \n",
       "99997  Chicago                                                                                \n",
       "99998  Pianist, The                                                                           \n",
       "99999  Bringing Down the House                                                                \n",
       "100000 Raising Victor Vargas                                                                  \n",
       "100001 Stevie                                                                                 \n",
       "100002 Matrix Reloaded, The                                                                   \n",
       "100003 Whale Rider                                                                            \n",
       "100004 Seabiscuit                                                                             \n",
       "       year genres                                              userId rating\n",
       "1      1995 Drama                                               1      2.5   \n",
       "2      1941 Animation|Children|Drama|Musical                    1      3.0   \n",
       "3      1996 Thriller                                            1      3.0   \n",
       "4      1981 Action|Adventure|Sci-Fi|Thriller                    1      2.0   \n",
       "5      1989 Drama                                               1      4.0   \n",
       "6      1978 Drama|War                                           1      2.0   \n",
       "7      1959 Action|Adventure|Drama                              1      2.0   \n",
       "8      1982 Drama                                               1      2.0   \n",
       "9      1992 Fantasy|Horror|Romance|Thriller                     1      3.5   \n",
       "10     1991 Thriller                                            1      2.0   \n",
       "11     1979 Adventure|Sci-Fi                                    1      2.5   \n",
       "12     1996 Adventure|Animation|Comedy|Crime                    1      1.0   \n",
       "13     1971 Action|Crime|Thriller                               1      4.0   \n",
       "14     1982 Action|Adventure|Sci-Fi                             1      4.0   \n",
       "15     1980 Adventure|Comedy                                    1      3.0   \n",
       "16     1988 Action|Adventure|Fantasy                            1      2.0   \n",
       "17     1998 Adventure|Animation|Children|Comedy|Fantasy         1      2.0   \n",
       "18     1986 Drama|Horror|Sci-Fi|Thriller                        1      2.5   \n",
       "19     1981 Adventure|Comedy|Fantasy|Sci-Fi                     1      1.0   \n",
       "20     1974 Comedy|Western                                      1      3.0   \n",
       "21     1995 Action|Adventure|Thriller                           2      4.0   \n",
       "22     1995 Drama|Romance                                       2      5.0   \n",
       "23     1995 Comedy|Romance                                      2      5.0   \n",
       "24     1995 Mystery|Thriller                                    2      4.0   \n",
       "25     1995 Crime|Mystery|Thriller                              2      4.0   \n",
       "26     1995 Comedy|Drama|Romance                                2      3.0   \n",
       "27     1995 Drama                                               2      3.0   \n",
       "28     1995 Action|Drama|War                                    2      4.0   \n",
       "29     1995 Comedy                                              2      3.0   \n",
       "30     1995 Adventure|Drama|IMAX                                2      5.0   \n",
       "...    ...  ...                                                 ...    ...   \n",
       "99975  2000 Crime|Drama|Thriller                                671    4.5   \n",
       "99976  2001 Adventure|Animation|Children|Comedy|Fantasy|Romance 671    5.0   \n",
       "99977  2001 Drama|Musical|Romance                               671    3.5   \n",
       "99978  2001 Drama                                               671    4.0   \n",
       "99979  2001 Adventure|Animation|Children|Comedy|Fantasy         671    5.0   \n",
       "99980  2001 Adventure|Children|Fantasy                          671    5.0   \n",
       "99981  2001 Crime|Thriller                                      671    4.5   \n",
       "99982  2001 Comedy|Romance                                      671    4.5   \n",
       "99983  2001 Adventure|Fantasy                                   671    5.0   \n",
       "99984  2001 Drama|Romance                                       671    4.0   \n",
       "99985  2001 Action|Drama|War                                    671    2.0   \n",
       "99986  2002 Adventure|Animation|Children|Comedy                 671    2.0   \n",
       "99987  2002 Comedy|Romance                                      671    3.0   \n",
       "99988  2002 Action|Adventure|Sci-Fi|Thriller                    671    4.0   \n",
       "99989  2002 Comedy|Drama|Romance                                671    4.0   \n",
       "99990  2002 Action|Crime|Mystery|Sci-Fi|Thriller                671    4.5   \n",
       "99991  2002 Crime|Drama                                         671    3.0   \n",
       "99992  2002 Documentary                                         671    4.0   \n",
       "99993  2002 Adventure|Fantasy                                   671    4.0   \n",
       "99994  2002 Comedy|Drama|Romance                                671    3.5   \n",
       "99995  2002 Adventure|Fantasy                                   671    5.0   \n",
       "99996  2002 Crime|Drama                                         671    4.0   \n",
       "99997  2002 Comedy|Crime|Drama|Musical                          671    4.5   \n",
       "99998  2002 Drama|War                                           671    4.0   \n",
       "99999  2003 Comedy                                              671    2.5   \n",
       "100000 2002 Comedy|Drama|Romance                                671    2.5   \n",
       "100001 2002 Documentary                                         671    4.0   \n",
       "100002 2003 Action|Adventure|Sci-Fi|Thriller|IMAX               671    4.0   \n",
       "100003 2002 Drama                                               671    2.5   \n",
       "100004 2003 Drama                                               671    3.5   \n",
       "       timestamp \n",
       "1      1260759144\n",
       "2      1260759179\n",
       "3      1260759182\n",
       "4      1260759185\n",
       "5      1260759205\n",
       "6      1260759151\n",
       "7      1260759187\n",
       "8      1260759148\n",
       "9      1260759125\n",
       "10     1260759131\n",
       "11     1260759135\n",
       "12     1260759203\n",
       "13     1260759191\n",
       "14     1260759139\n",
       "15     1260759194\n",
       "16     1260759198\n",
       "17     1260759108\n",
       "18     1260759113\n",
       "19     1260759200\n",
       "20     1260759117\n",
       "21      835355493\n",
       "22      835355681\n",
       "23      835355604\n",
       "24      835355552\n",
       "25      835355586\n",
       "26      835356031\n",
       "27      835355749\n",
       "28      835355532\n",
       "29      835356016\n",
       "30      835355395\n",
       "...    ...       \n",
       "99975  1064245493\n",
       "99976  1064245548\n",
       "99977  1065111985\n",
       "99978  1065111973\n",
       "99979  1064245488\n",
       "99980  1065111996\n",
       "99981  1065111855\n",
       "99982  1064245471\n",
       "99983  1064245483\n",
       "99984  1064891537\n",
       "99985  1066793004\n",
       "99986  1065111990\n",
       "99987  1065112004\n",
       "99988  1065111863\n",
       "99989  1064245557\n",
       "99990  1064891627\n",
       "99991  1064891549\n",
       "99992  1063502711\n",
       "99993  1065111963\n",
       "99994  1064245507\n",
       "99995  1063502716\n",
       "99996  1064890625\n",
       "99997  1064245387\n",
       "99998  1066793014\n",
       "99999  1065149436\n",
       "100000 1065579370\n",
       "100001 1065149201\n",
       "100002 1070940363\n",
       "100003 1070979663\n",
       "100004 1074784724"
      ]
     },
     "metadata": {},
     "output_type": "display_data"
    }
   ],
   "source": [
    "library(dslabs)\n",
    "data(movielens)\n",
    "\n",
    "movielens"
   ]
  },
  {
   "cell_type": "code",
   "execution_count": 6,
   "metadata": {},
   "outputs": [
    {
     "name": "stdout",
     "output_type": "stream",
     "text": [
      "'data.frame':\t100004 obs. of  7 variables:\n",
      " $ movieId  : int  31 1029 1061 1129 1172 1263 1287 1293 1339 1343 ...\n",
      " $ title    : chr  \"Dangerous Minds\" \"Dumbo\" \"Sleepers\" \"Escape from New York\" ...\n",
      " $ year     : int  1995 1941 1996 1981 1989 1978 1959 1982 1992 1991 ...\n",
      " $ genres   : Factor w/ 901 levels \"(no genres listed)\",..: 762 510 899 120 762 836 81 762 844 899 ...\n",
      " $ userId   : int  1 1 1 1 1 1 1 1 1 1 ...\n",
      " $ rating   : num  2.5 3 3 2 4 2 2 2 3.5 2 ...\n",
      " $ timestamp: int  1260759144 1260759179 1260759182 1260759185 1260759205 1260759151 1260759187 1260759148 1260759125 1260759131 ...\n"
     ]
    }
   ],
   "source": [
    "str(movielens)"
   ]
  },
  {
   "cell_type": "code",
   "execution_count": 10,
   "metadata": {},
   "outputs": [
    {
     "data": {
      "text/html": [
       "901"
      ],
      "text/latex": [
       "901"
      ],
      "text/markdown": [
       "901"
      ],
      "text/plain": [
       "[1] 901"
      ]
     },
     "metadata": {},
     "output_type": "display_data"
    }
   ],
   "source": [
    "nlevels(movielens$genres)"
   ]
  },
  {
   "cell_type": "code",
   "execution_count": 11,
   "metadata": {},
   "outputs": [
    {
     "data": {
      "text/html": [
       "<ol class=list-inline>\n",
       "\t<li>1</li>\n",
       "\t<li>2</li>\n",
       "\t<li>3</li>\n",
       "</ol>\n"
      ],
      "text/latex": [
       "\\begin{enumerate*}\n",
       "\\item 1\n",
       "\\item 2\n",
       "\\item 3\n",
       "\\end{enumerate*}\n"
      ],
      "text/markdown": [
       "1. 1\n",
       "2. 2\n",
       "3. 3\n",
       "\n",
       "\n"
      ],
      "text/plain": [
       "[1] 1 2 3"
      ]
     },
     "metadata": {},
     "output_type": "display_data"
    }
   ],
   "source": [
    "values <- 3:1\n",
    "sort(values)"
   ]
  },
  {
   "cell_type": "code",
   "execution_count": 12,
   "metadata": {},
   "outputs": [
    {
     "data": {
      "text/html": [
       "<ol class=list-inline>\n",
       "\t<li>3</li>\n",
       "\t<li>2</li>\n",
       "\t<li>1</li>\n",
       "</ol>\n"
      ],
      "text/latex": [
       "\\begin{enumerate*}\n",
       "\\item 3\n",
       "\\item 2\n",
       "\\item 1\n",
       "\\end{enumerate*}\n"
      ],
      "text/markdown": [
       "1. 3\n",
       "2. 2\n",
       "3. 1\n",
       "\n",
       "\n"
      ],
      "text/plain": [
       "[1] 3 2 1"
      ]
     },
     "metadata": {},
     "output_type": "display_data"
    }
   ],
   "source": [
    "values"
   ]
  },
  {
   "cell_type": "code",
   "execution_count": 4,
   "metadata": {},
   "outputs": [
    {
     "data": {
      "text/html": [
       "<dl class=dl-horizontal>\n",
       "\t<dt>Mandi</dt>\n",
       "\t\t<dd>0.166666666666667</dd>\n",
       "\t<dt>Amy</dt>\n",
       "\t\t<dd>0.5</dd>\n",
       "\t<dt>Nicole</dt>\n",
       "\t\t<dd>0.666666666666667</dd>\n",
       "\t<dt>Olivia</dt>\n",
       "\t\t<dd>0.833333333333333</dd>\n",
       "</dl>\n"
      ],
      "text/latex": [
       "\\begin{description*}\n",
       "\\item[Mandi] 0.166666666666667\n",
       "\\item[Amy] 0.5\n",
       "\\item[Nicole] 0.666666666666667\n",
       "\\item[Olivia] 0.833333333333333\n",
       "\\end{description*}\n"
      ],
      "text/markdown": [
       "Mandi\n",
       ":   0.166666666666667Amy\n",
       ":   0.5Nicole\n",
       ":   0.666666666666667Olivia\n",
       ":   0.833333333333333\n",
       "\n"
      ],
      "text/plain": [
       "    Mandi       Amy    Nicole    Olivia \n",
       "0.1666667 0.5000000 0.6666667 0.8333333 "
      ]
     },
     "metadata": {},
     "output_type": "display_data"
    }
   ],
   "source": [
    "name <- c(\"Mandi\", \"Amy\", \"Nicole\", \"Olivia\")\n",
    "distance <- c(0.8, 3.1, 2.8, 4.0)\n",
    "time <- c(10, 30, 40, 50)\n",
    "time = time / 60\n",
    "names(time) <- name\n",
    "time"
   ]
  },
  {
   "cell_type": "code",
   "execution_count": 3,
   "metadata": {},
   "outputs": [
    {
     "data": {
      "text/html": [
       "<dl class=dl-horizontal>\n",
       "\t<dt>Mandi</dt>\n",
       "\t\t<dd>4.8</dd>\n",
       "\t<dt>Amy</dt>\n",
       "\t\t<dd>6.2</dd>\n",
       "\t<dt>Nicole</dt>\n",
       "\t\t<dd>4.2</dd>\n",
       "\t<dt>Olivia</dt>\n",
       "\t\t<dd>4.8</dd>\n",
       "</dl>\n"
      ],
      "text/latex": [
       "\\begin{description*}\n",
       "\\item[Mandi] 4.8\n",
       "\\item[Amy] 6.2\n",
       "\\item[Nicole] 4.2\n",
       "\\item[Olivia] 4.8\n",
       "\\end{description*}\n"
      ],
      "text/markdown": [
       "Mandi\n",
       ":   4.8Amy\n",
       ":   6.2Nicole\n",
       ":   4.2Olivia\n",
       ":   4.8\n",
       "\n"
      ],
      "text/plain": [
       " Mandi    Amy Nicole Olivia \n",
       "   4.8    6.2    4.2    4.8 "
      ]
     },
     "metadata": {},
     "output_type": "display_data"
    }
   ],
   "source": [
    "v <- distance / time\n",
    "names(v) <- name\n",
    "v"
   ]
  },
  {
   "cell_type": "code",
   "execution_count": 6,
   "metadata": {},
   "outputs": [],
   "source": [
    "?ifelse"
   ]
  },
  {
   "cell_type": "code",
   "execution_count": 7,
   "metadata": {},
   "outputs": [
    {
     "data": {
      "text/html": [
       "<pre class=language-r><code>function (x) \n",
       "UseMethod(\"levels\")</code></pre>"
      ],
      "text/latex": [
       "\\begin{minted}{r}\n",
       "function (x) \n",
       "UseMethod(\"levels\")\n",
       "\\end{minted}"
      ],
      "text/markdown": [
       "```r\n",
       "function (x) \n",
       "UseMethod(\"levels\")\n",
       "```"
      ],
      "text/plain": [
       "function (x) \n",
       "UseMethod(\"levels\")\n",
       "<bytecode: 0x00000000418b7b40>\n",
       "<environment: namespace:base>"
      ]
     },
     "metadata": {},
     "output_type": "display_data"
    }
   ],
   "source": [
    "levels"
   ]
  },
  {
   "cell_type": "code",
   "execution_count": 10,
   "metadata": {},
   "outputs": [
    {
     "name": "stdout",
     "output_type": "stream",
     "text": [
      "[1] 1\n",
      "[1] 2\n",
      "[1] 3\n"
     ]
    }
   ],
   "source": [
    "players <- c(31, 32, 33)\n",
    "for (i in seq(along.with = players)) {\n",
    "    print(i)\n",
    "}"
   ]
  },
  {
   "cell_type": "code",
   "execution_count": null,
   "metadata": {},
   "outputs": [],
   "source": []
  }
 ],
 "metadata": {
  "kernelspec": {
   "display_name": "R",
   "language": "R",
   "name": "ir"
  },
  "language_info": {
   "codemirror_mode": "r",
   "file_extension": ".r",
   "mimetype": "text/x-r-source",
   "name": "R",
   "pygments_lexer": "r",
   "version": "3.6.1"
  }
 },
 "nbformat": 4,
 "nbformat_minor": 2
}
