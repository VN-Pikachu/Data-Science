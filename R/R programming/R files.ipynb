{
 "cells": [
  {
   "cell_type": "markdown",
   "metadata": {},
   "source": [
    "# Saving and loading R files"
   ]
  },
  {
   "cell_type": "markdown",
   "metadata": {},
   "source": [
    "You can save an R object like a data frame as either an RData file or an RDS file. RData\n",
    "files can store multiple R objects at once, but RDS files are the better choice because\n",
    "they foster reproducible code."
   ]
  },
  {
   "cell_type": "markdown",
   "metadata": {},
   "source": [
    ">To save data as a RData object in R, use the **`save`** function  \n",
    "To save dadta as a RDS object, use **`saveRDS`** function"
   ]
  },
  {
   "cell_type": "markdown",
   "metadata": {},
   "source": [
    ">To load Rdata, use **`load`**  \n",
    "To load RDS, use **`readRDS`**"
   ]
  },
  {
   "cell_type": "code",
   "execution_count": 9,
   "metadata": {},
   "outputs": [],
   "source": [
    "name <- 'VN Pikachu'\n",
    "clan <- 'VN Champions'\n",
    "level <- 31\n",
    "\n",
    "save(name, clan, level, file = 'tankforce.RData')"
   ]
  },
  {
   "cell_type": "markdown",
   "metadata": {},
   "source": [
    "When we load a Rdata file, all saved objected will be loaded into the active environment with the same name as when it is saved as a Rdata file."
   ]
  },
  {
   "cell_type": "code",
   "execution_count": 10,
   "metadata": {},
   "outputs": [],
   "source": [
    "rm(list = ls())  # remove all Robjects from the active environment\n",
    "\n",
    "# Print available Robjects in the environment (is this case is empty because we deleted all R object above)\n",
    "ls.str()"
   ]
  },
  {
   "cell_type": "code",
   "execution_count": 11,
   "metadata": {},
   "outputs": [
    {
     "data": {
      "text/plain": [
       "clan :  chr \"VN Champions\"\n",
       "level :  num 31\n",
       "name :  chr \"VN Pikachu\""
      ]
     },
     "metadata": {},
     "output_type": "display_data"
    }
   ],
   "source": [
    "# load Rdata\n",
    "load('tankforce.RData')\n",
    "# Objects saved in Rdata file will be loaded in the environment with their original name\n",
    "ls.str()"
   ]
  },
  {
   "cell_type": "code",
   "execution_count": 3,
   "metadata": {},
   "outputs": [],
   "source": [
    "saveRDS(name, file = 'player.RDS')"
   ]
  },
  {
   "cell_type": "code",
   "execution_count": 5,
   "metadata": {},
   "outputs": [
    {
     "data": {
      "text/html": [
       "'VN Pikachu'"
      ],
      "text/latex": [
       "'VN Pikachu'"
      ],
      "text/markdown": [
       "'VN Pikachu'"
      ],
      "text/plain": [
       "[1] \"VN Pikachu\""
      ]
     },
     "metadata": {},
     "output_type": "display_data"
    }
   ],
   "source": [
    "player_name <- readRDS('player.RDS')\n",
    "\n",
    "player_name"
   ]
  },
  {
   "cell_type": "markdown",
   "metadata": {},
   "source": [
    "Saving your data as an R file offers some advantages over saving your data as a plaintext file. R automatically compresses the file and will also save any R-related metadata\n",
    "associated with your object. This can be handy if your data contains factors, dates and\n",
    "times, or class attributes. You won’t have to reparse this information into R the way you\n",
    "would if you converted everything to a text file.\n",
    "On the other hand, R files cannot be read by many other programs, which makes them\n",
    "inefficient for sharing. They may also create a problem for long-term storage if you don’t\n",
    "think you’ll have a copy of R when you reopen the files."
   ]
  }
 ],
 "metadata": {
  "kernelspec": {
   "display_name": "R",
   "language": "R",
   "name": "ir"
  },
  "language_info": {
   "codemirror_mode": "r",
   "file_extension": ".r",
   "mimetype": "text/x-r-source",
   "name": "R",
   "pygments_lexer": "r",
   "version": "4.0.3"
  }
 },
 "nbformat": 4,
 "nbformat_minor": 4
}
