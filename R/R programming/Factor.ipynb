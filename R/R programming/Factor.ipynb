{
 "cells": [
  {
   "cell_type": "markdown",
   "metadata": {},
   "source": [
    "# Introduction"
   ]
  },
  {
   "cell_type": "markdown",
   "metadata": {},
   "source": [
    "Factors are designed to represent categorical data that can take a fixed set of possible values. Factors are built on top of integers, and have a levels attribute:"
   ]
  },
  {
   "cell_type": "code",
   "execution_count": 1,
   "metadata": {},
   "outputs": [
    {
     "data": {
      "text/html": [
       "<ol class=list-inline>\n",
       "\t<li>Apple</li>\n",
       "\t<li>Banana</li>\n",
       "</ol>\n",
       "\n",
       "<details>\n",
       "\t<summary style=display:list-item;cursor:pointer>\n",
       "\t\t<strong>Levels</strong>:\n",
       "\t</summary>\n",
       "\t<ol class=list-inline>\n",
       "\t\t<li>'Apple'</li>\n",
       "\t\t<li>'Banana'</li>\n",
       "\t\t<li>'Coconut'</li>\n",
       "\t</ol>\n",
       "</details>"
      ],
      "text/latex": [
       "\\begin{enumerate*}\n",
       "\\item Apple\n",
       "\\item Banana\n",
       "\\end{enumerate*}\n",
       "\n",
       "\\emph{Levels}: \\begin{enumerate*}\n",
       "\\item 'Apple'\n",
       "\\item 'Banana'\n",
       "\\item 'Coconut'\n",
       "\\end{enumerate*}\n"
      ],
      "text/markdown": [
       "1. Apple\n",
       "2. Banana\n",
       "\n",
       "\n",
       "\n",
       "**Levels**: 1. 'Apple'\n",
       "2. 'Banana'\n",
       "3. 'Coconut'\n",
       "\n",
       "\n"
      ],
      "text/plain": [
       "[1] Apple  Banana\n",
       "Levels: Apple Banana Coconut"
      ]
     },
     "metadata": {},
     "output_type": "display_data"
    }
   ],
   "source": [
    "fruits <- factor(c('Apple', 'Banana'), levels = c('Apple', 'Banana', 'Coconut'))\n",
    "\n",
    "fruits"
   ]
  },
  {
   "cell_type": "code",
   "execution_count": 3,
   "metadata": {},
   "outputs": [
    {
     "data": {
      "text/html": [
       "'integer'"
      ],
      "text/latex": [
       "'integer'"
      ],
      "text/markdown": [
       "'integer'"
      ],
      "text/plain": [
       "[1] \"integer\""
      ]
     },
     "metadata": {},
     "output_type": "display_data"
    }
   ],
   "source": [
    "typeof(fruits)"
   ]
  },
  {
   "cell_type": "code",
   "execution_count": 2,
   "metadata": {},
   "outputs": [
    {
     "data": {
      "text/html": [
       "<dl>\n",
       "\t<dt>$levels</dt>\n",
       "\t\t<dd><ol class=list-inline>\n",
       "\t<li>'Apple'</li>\n",
       "\t<li>'Banana'</li>\n",
       "\t<li>'Coconut'</li>\n",
       "</ol>\n",
       "</dd>\n",
       "\t<dt>$class</dt>\n",
       "\t\t<dd>'factor'</dd>\n",
       "</dl>\n"
      ],
      "text/latex": [
       "\\begin{description}\n",
       "\\item[\\$levels] \\begin{enumerate*}\n",
       "\\item 'Apple'\n",
       "\\item 'Banana'\n",
       "\\item 'Coconut'\n",
       "\\end{enumerate*}\n",
       "\n",
       "\\item[\\$class] 'factor'\n",
       "\\end{description}\n"
      ],
      "text/markdown": [
       "$levels\n",
       ":   1. 'Apple'\n",
       "2. 'Banana'\n",
       "3. 'Coconut'\n",
       "\n",
       "\n",
       "\n",
       "$class\n",
       ":   'factor'\n",
       "\n",
       "\n"
      ],
      "text/plain": [
       "$levels\n",
       "[1] \"Apple\"   \"Banana\"  \"Coconut\"\n",
       "\n",
       "$class\n",
       "[1] \"factor\"\n"
      ]
     },
     "metadata": {},
     "output_type": "display_data"
    }
   ],
   "source": [
    "attributes(fruits)"
   ]
  },
  {
   "cell_type": "markdown",
   "metadata": {},
   "source": [
    "# Behaviors"
   ]
  },
  {
   "cell_type": "markdown",
   "metadata": {},
   "source": [
    "When you change the level of a factor, it's underlying integer stay the same,  but the levels are changed, making it look like the data has changed."
   ]
  },
  {
   "cell_type": "code",
   "execution_count": 6,
   "metadata": {},
   "outputs": [
    {
     "data": {
      "text/html": [
       "<ol class=list-inline>\n",
       "\t<li>1</li>\n",
       "\t<li>2</li>\n",
       "\t<li>3</li>\n",
       "\t<li>4</li>\n",
       "\t<li>5</li>\n",
       "\t<li>6</li>\n",
       "\t<li>7</li>\n",
       "\t<li>8</li>\n",
       "\t<li>9</li>\n",
       "\t<li>10</li>\n",
       "\t<li>11</li>\n",
       "\t<li>12</li>\n",
       "\t<li>13</li>\n",
       "\t<li>14</li>\n",
       "\t<li>15</li>\n",
       "\t<li>16</li>\n",
       "\t<li>17</li>\n",
       "\t<li>18</li>\n",
       "\t<li>19</li>\n",
       "\t<li>20</li>\n",
       "\t<li>21</li>\n",
       "\t<li>22</li>\n",
       "\t<li>23</li>\n",
       "\t<li>24</li>\n",
       "\t<li>25</li>\n",
       "\t<li>26</li>\n",
       "</ol>\n"
      ],
      "text/latex": [
       "\\begin{enumerate*}\n",
       "\\item 1\n",
       "\\item 2\n",
       "\\item 3\n",
       "\\item 4\n",
       "\\item 5\n",
       "\\item 6\n",
       "\\item 7\n",
       "\\item 8\n",
       "\\item 9\n",
       "\\item 10\n",
       "\\item 11\n",
       "\\item 12\n",
       "\\item 13\n",
       "\\item 14\n",
       "\\item 15\n",
       "\\item 16\n",
       "\\item 17\n",
       "\\item 18\n",
       "\\item 19\n",
       "\\item 20\n",
       "\\item 21\n",
       "\\item 22\n",
       "\\item 23\n",
       "\\item 24\n",
       "\\item 25\n",
       "\\item 26\n",
       "\\end{enumerate*}\n"
      ],
      "text/markdown": [
       "1. 1\n",
       "2. 2\n",
       "3. 3\n",
       "4. 4\n",
       "5. 5\n",
       "6. 6\n",
       "7. 7\n",
       "8. 8\n",
       "9. 9\n",
       "10. 10\n",
       "11. 11\n",
       "12. 12\n",
       "13. 13\n",
       "14. 14\n",
       "15. 15\n",
       "16. 16\n",
       "17. 17\n",
       "18. 18\n",
       "19. 19\n",
       "20. 20\n",
       "21. 21\n",
       "22. 22\n",
       "23. 23\n",
       "24. 24\n",
       "25. 25\n",
       "26. 26\n",
       "\n",
       "\n"
      ],
      "text/plain": [
       " [1]  1  2  3  4  5  6  7  8  9 10 11 12 13 14 15 16 17 18 19 20 21 22 23 24 25\n",
       "[26] 26"
      ]
     },
     "metadata": {},
     "output_type": "display_data"
    }
   ],
   "source": [
    "l <- factor(letters)\n",
    "\n",
    "\n",
    "\n",
    "levels(l) <- rev(levels(l))\n",
    "# underlying integer stay the same\n",
    "as.integer(l)"
   ]
  },
  {
   "cell_type": "code",
   "execution_count": 7,
   "metadata": {},
   "outputs": [
    {
     "data": {
      "text/html": [
       "<ol class=list-inline>\n",
       "\t<li>z</li>\n",
       "\t<li>y</li>\n",
       "\t<li>x</li>\n",
       "\t<li>w</li>\n",
       "\t<li>v</li>\n",
       "\t<li>u</li>\n",
       "\t<li>t</li>\n",
       "\t<li>s</li>\n",
       "\t<li>r</li>\n",
       "\t<li>q</li>\n",
       "\t<li>p</li>\n",
       "\t<li>o</li>\n",
       "\t<li>n</li>\n",
       "\t<li>m</li>\n",
       "\t<li>l</li>\n",
       "\t<li>k</li>\n",
       "\t<li>j</li>\n",
       "\t<li>i</li>\n",
       "\t<li>h</li>\n",
       "\t<li>g</li>\n",
       "\t<li>f</li>\n",
       "\t<li>e</li>\n",
       "\t<li>d</li>\n",
       "\t<li>c</li>\n",
       "\t<li>b</li>\n",
       "\t<li>a</li>\n",
       "</ol>\n",
       "\n",
       "<details>\n",
       "\t<summary style=display:list-item;cursor:pointer>\n",
       "\t\t<strong>Levels</strong>:\n",
       "\t</summary>\n",
       "\t<ol class=list-inline>\n",
       "\t\t<li>'z'</li>\n",
       "\t\t<li>'y'</li>\n",
       "\t\t<li>'x'</li>\n",
       "\t\t<li>'w'</li>\n",
       "\t\t<li>'v'</li>\n",
       "\t\t<li>'u'</li>\n",
       "\t\t<li>'t'</li>\n",
       "\t\t<li>'s'</li>\n",
       "\t\t<li>'r'</li>\n",
       "\t\t<li>'q'</li>\n",
       "\t\t<li>'p'</li>\n",
       "\t\t<li>'o'</li>\n",
       "\t\t<li>'n'</li>\n",
       "\t\t<li>'m'</li>\n",
       "\t\t<li>'l'</li>\n",
       "\t\t<li>'k'</li>\n",
       "\t\t<li>'j'</li>\n",
       "\t\t<li>'i'</li>\n",
       "\t\t<li>'h'</li>\n",
       "\t\t<li>'g'</li>\n",
       "\t\t<li>'f'</li>\n",
       "\t\t<li>'e'</li>\n",
       "\t\t<li>'d'</li>\n",
       "\t\t<li>'c'</li>\n",
       "\t\t<li>'b'</li>\n",
       "\t\t<li>'a'</li>\n",
       "\t</ol>\n",
       "</details>"
      ],
      "text/latex": [
       "\\begin{enumerate*}\n",
       "\\item z\n",
       "\\item y\n",
       "\\item x\n",
       "\\item w\n",
       "\\item v\n",
       "\\item u\n",
       "\\item t\n",
       "\\item s\n",
       "\\item r\n",
       "\\item q\n",
       "\\item p\n",
       "\\item o\n",
       "\\item n\n",
       "\\item m\n",
       "\\item l\n",
       "\\item k\n",
       "\\item j\n",
       "\\item i\n",
       "\\item h\n",
       "\\item g\n",
       "\\item f\n",
       "\\item e\n",
       "\\item d\n",
       "\\item c\n",
       "\\item b\n",
       "\\item a\n",
       "\\end{enumerate*}\n",
       "\n",
       "\\emph{Levels}: \\begin{enumerate*}\n",
       "\\item 'z'\n",
       "\\item 'y'\n",
       "\\item 'x'\n",
       "\\item 'w'\n",
       "\\item 'v'\n",
       "\\item 'u'\n",
       "\\item 't'\n",
       "\\item 's'\n",
       "\\item 'r'\n",
       "\\item 'q'\n",
       "\\item 'p'\n",
       "\\item 'o'\n",
       "\\item 'n'\n",
       "\\item 'm'\n",
       "\\item 'l'\n",
       "\\item 'k'\n",
       "\\item 'j'\n",
       "\\item 'i'\n",
       "\\item 'h'\n",
       "\\item 'g'\n",
       "\\item 'f'\n",
       "\\item 'e'\n",
       "\\item 'd'\n",
       "\\item 'c'\n",
       "\\item 'b'\n",
       "\\item 'a'\n",
       "\\end{enumerate*}\n"
      ],
      "text/markdown": [
       "1. z\n",
       "2. y\n",
       "3. x\n",
       "4. w\n",
       "5. v\n",
       "6. u\n",
       "7. t\n",
       "8. s\n",
       "9. r\n",
       "10. q\n",
       "11. p\n",
       "12. o\n",
       "13. n\n",
       "14. m\n",
       "15. l\n",
       "16. k\n",
       "17. j\n",
       "18. i\n",
       "19. h\n",
       "20. g\n",
       "21. f\n",
       "22. e\n",
       "23. d\n",
       "24. c\n",
       "25. b\n",
       "26. a\n",
       "\n",
       "\n",
       "\n",
       "**Levels**: 1. 'z'\n",
       "2. 'y'\n",
       "3. 'x'\n",
       "4. 'w'\n",
       "5. 'v'\n",
       "6. 'u'\n",
       "7. 't'\n",
       "8. 's'\n",
       "9. 'r'\n",
       "10. 'q'\n",
       "11. 'p'\n",
       "12. 'o'\n",
       "13. 'n'\n",
       "14. 'm'\n",
       "15. 'l'\n",
       "16. 'k'\n",
       "17. 'j'\n",
       "18. 'i'\n",
       "19. 'h'\n",
       "20. 'g'\n",
       "21. 'f'\n",
       "22. 'e'\n",
       "23. 'd'\n",
       "24. 'c'\n",
       "25. 'b'\n",
       "26. 'a'\n",
       "\n",
       "\n"
      ],
      "text/plain": [
       " [1] z y x w v u t s r q p o n m l k j i h g f e d c b a\n",
       "Levels: z y x w v u t s r q p o n m l k j i h g f e d c b a"
      ]
     },
     "metadata": {},
     "output_type": "display_data"
    }
   ],
   "source": [
    "# both the data and levels are reversed\n",
    "l"
   ]
  },
  {
   "cell_type": "markdown",
   "metadata": {},
   "source": [
    "If you only wanna reverse the level without reversing the data, use this:"
   ]
  },
  {
   "cell_type": "code",
   "execution_count": 9,
   "metadata": {},
   "outputs": [
    {
     "data": {
      "text/html": [
       "<ol class=list-inline>\n",
       "\t<li>a</li>\n",
       "\t<li>b</li>\n",
       "\t<li>c</li>\n",
       "\t<li>d</li>\n",
       "\t<li>e</li>\n",
       "\t<li>f</li>\n",
       "\t<li>g</li>\n",
       "\t<li>h</li>\n",
       "\t<li>i</li>\n",
       "\t<li>j</li>\n",
       "\t<li>k</li>\n",
       "\t<li>l</li>\n",
       "\t<li>m</li>\n",
       "\t<li>n</li>\n",
       "\t<li>o</li>\n",
       "\t<li>p</li>\n",
       "\t<li>q</li>\n",
       "\t<li>r</li>\n",
       "\t<li>s</li>\n",
       "\t<li>t</li>\n",
       "\t<li>u</li>\n",
       "\t<li>v</li>\n",
       "\t<li>w</li>\n",
       "\t<li>x</li>\n",
       "\t<li>y</li>\n",
       "\t<li>z</li>\n",
       "</ol>\n",
       "\n",
       "<details>\n",
       "\t<summary style=display:list-item;cursor:pointer>\n",
       "\t\t<strong>Levels</strong>:\n",
       "\t</summary>\n",
       "\t<ol class=list-inline>\n",
       "\t\t<li>'z'</li>\n",
       "\t\t<li>'y'</li>\n",
       "\t\t<li>'x'</li>\n",
       "\t\t<li>'w'</li>\n",
       "\t\t<li>'v'</li>\n",
       "\t\t<li>'u'</li>\n",
       "\t\t<li>'t'</li>\n",
       "\t\t<li>'s'</li>\n",
       "\t\t<li>'r'</li>\n",
       "\t\t<li>'q'</li>\n",
       "\t\t<li>'p'</li>\n",
       "\t\t<li>'o'</li>\n",
       "\t\t<li>'n'</li>\n",
       "\t\t<li>'m'</li>\n",
       "\t\t<li>'l'</li>\n",
       "\t\t<li>'k'</li>\n",
       "\t\t<li>'j'</li>\n",
       "\t\t<li>'i'</li>\n",
       "\t\t<li>'h'</li>\n",
       "\t\t<li>'g'</li>\n",
       "\t\t<li>'f'</li>\n",
       "\t\t<li>'e'</li>\n",
       "\t\t<li>'d'</li>\n",
       "\t\t<li>'c'</li>\n",
       "\t\t<li>'b'</li>\n",
       "\t\t<li>'a'</li>\n",
       "\t</ol>\n",
       "</details>"
      ],
      "text/latex": [
       "\\begin{enumerate*}\n",
       "\\item a\n",
       "\\item b\n",
       "\\item c\n",
       "\\item d\n",
       "\\item e\n",
       "\\item f\n",
       "\\item g\n",
       "\\item h\n",
       "\\item i\n",
       "\\item j\n",
       "\\item k\n",
       "\\item l\n",
       "\\item m\n",
       "\\item n\n",
       "\\item o\n",
       "\\item p\n",
       "\\item q\n",
       "\\item r\n",
       "\\item s\n",
       "\\item t\n",
       "\\item u\n",
       "\\item v\n",
       "\\item w\n",
       "\\item x\n",
       "\\item y\n",
       "\\item z\n",
       "\\end{enumerate*}\n",
       "\n",
       "\\emph{Levels}: \\begin{enumerate*}\n",
       "\\item 'z'\n",
       "\\item 'y'\n",
       "\\item 'x'\n",
       "\\item 'w'\n",
       "\\item 'v'\n",
       "\\item 'u'\n",
       "\\item 't'\n",
       "\\item 's'\n",
       "\\item 'r'\n",
       "\\item 'q'\n",
       "\\item 'p'\n",
       "\\item 'o'\n",
       "\\item 'n'\n",
       "\\item 'm'\n",
       "\\item 'l'\n",
       "\\item 'k'\n",
       "\\item 'j'\n",
       "\\item 'i'\n",
       "\\item 'h'\n",
       "\\item 'g'\n",
       "\\item 'f'\n",
       "\\item 'e'\n",
       "\\item 'd'\n",
       "\\item 'c'\n",
       "\\item 'b'\n",
       "\\item 'a'\n",
       "\\end{enumerate*}\n"
      ],
      "text/markdown": [
       "1. a\n",
       "2. b\n",
       "3. c\n",
       "4. d\n",
       "5. e\n",
       "6. f\n",
       "7. g\n",
       "8. h\n",
       "9. i\n",
       "10. j\n",
       "11. k\n",
       "12. l\n",
       "13. m\n",
       "14. n\n",
       "15. o\n",
       "16. p\n",
       "17. q\n",
       "18. r\n",
       "19. s\n",
       "20. t\n",
       "21. u\n",
       "22. v\n",
       "23. w\n",
       "24. x\n",
       "25. y\n",
       "26. z\n",
       "\n",
       "\n",
       "\n",
       "**Levels**: 1. 'z'\n",
       "2. 'y'\n",
       "3. 'x'\n",
       "4. 'w'\n",
       "5. 'v'\n",
       "6. 'u'\n",
       "7. 't'\n",
       "8. 's'\n",
       "9. 'r'\n",
       "10. 'q'\n",
       "11. 'p'\n",
       "12. 'o'\n",
       "13. 'n'\n",
       "14. 'm'\n",
       "15. 'l'\n",
       "16. 'k'\n",
       "17. 'j'\n",
       "18. 'i'\n",
       "19. 'h'\n",
       "20. 'g'\n",
       "21. 'f'\n",
       "22. 'e'\n",
       "23. 'd'\n",
       "24. 'c'\n",
       "25. 'b'\n",
       "26. 'a'\n",
       "\n",
       "\n"
      ],
      "text/plain": [
       " [1] a b c d e f g h i j k l m n o p q r s t u v w x y z\n",
       "Levels: z y x w v u t s r q p o n m l k j i h g f e d c b a"
      ]
     },
     "metadata": {},
     "output_type": "display_data"
    }
   ],
   "source": [
    "factor(letters, levels = rev(letters))"
   ]
  },
  {
   "cell_type": "markdown",
   "metadata": {},
   "source": [
    "If you only wanna reverse the data without reversing the level, use this:"
   ]
  },
  {
   "cell_type": "code",
   "execution_count": 11,
   "metadata": {},
   "outputs": [
    {
     "data": {
      "text/html": [
       "<ol class=list-inline>\n",
       "\t<li>z</li>\n",
       "\t<li>y</li>\n",
       "\t<li>x</li>\n",
       "\t<li>w</li>\n",
       "\t<li>v</li>\n",
       "\t<li>u</li>\n",
       "\t<li>t</li>\n",
       "\t<li>s</li>\n",
       "\t<li>r</li>\n",
       "\t<li>q</li>\n",
       "\t<li>p</li>\n",
       "\t<li>o</li>\n",
       "\t<li>n</li>\n",
       "\t<li>m</li>\n",
       "\t<li>l</li>\n",
       "\t<li>k</li>\n",
       "\t<li>j</li>\n",
       "\t<li>i</li>\n",
       "\t<li>h</li>\n",
       "\t<li>g</li>\n",
       "\t<li>f</li>\n",
       "\t<li>e</li>\n",
       "\t<li>d</li>\n",
       "\t<li>c</li>\n",
       "\t<li>b</li>\n",
       "\t<li>a</li>\n",
       "</ol>\n",
       "\n",
       "<details>\n",
       "\t<summary style=display:list-item;cursor:pointer>\n",
       "\t\t<strong>Levels</strong>:\n",
       "\t</summary>\n",
       "\t<ol class=list-inline>\n",
       "\t\t<li>'a'</li>\n",
       "\t\t<li>'b'</li>\n",
       "\t\t<li>'c'</li>\n",
       "\t\t<li>'d'</li>\n",
       "\t\t<li>'e'</li>\n",
       "\t\t<li>'f'</li>\n",
       "\t\t<li>'g'</li>\n",
       "\t\t<li>'h'</li>\n",
       "\t\t<li>'i'</li>\n",
       "\t\t<li>'j'</li>\n",
       "\t\t<li>'k'</li>\n",
       "\t\t<li>'l'</li>\n",
       "\t\t<li>'m'</li>\n",
       "\t\t<li>'n'</li>\n",
       "\t\t<li>'o'</li>\n",
       "\t\t<li>'p'</li>\n",
       "\t\t<li>'q'</li>\n",
       "\t\t<li>'r'</li>\n",
       "\t\t<li>'s'</li>\n",
       "\t\t<li>'t'</li>\n",
       "\t\t<li>'u'</li>\n",
       "\t\t<li>'v'</li>\n",
       "\t\t<li>'w'</li>\n",
       "\t\t<li>'x'</li>\n",
       "\t\t<li>'y'</li>\n",
       "\t\t<li>'z'</li>\n",
       "\t</ol>\n",
       "</details>"
      ],
      "text/latex": [
       "\\begin{enumerate*}\n",
       "\\item z\n",
       "\\item y\n",
       "\\item x\n",
       "\\item w\n",
       "\\item v\n",
       "\\item u\n",
       "\\item t\n",
       "\\item s\n",
       "\\item r\n",
       "\\item q\n",
       "\\item p\n",
       "\\item o\n",
       "\\item n\n",
       "\\item m\n",
       "\\item l\n",
       "\\item k\n",
       "\\item j\n",
       "\\item i\n",
       "\\item h\n",
       "\\item g\n",
       "\\item f\n",
       "\\item e\n",
       "\\item d\n",
       "\\item c\n",
       "\\item b\n",
       "\\item a\n",
       "\\end{enumerate*}\n",
       "\n",
       "\\emph{Levels}: \\begin{enumerate*}\n",
       "\\item 'a'\n",
       "\\item 'b'\n",
       "\\item 'c'\n",
       "\\item 'd'\n",
       "\\item 'e'\n",
       "\\item 'f'\n",
       "\\item 'g'\n",
       "\\item 'h'\n",
       "\\item 'i'\n",
       "\\item 'j'\n",
       "\\item 'k'\n",
       "\\item 'l'\n",
       "\\item 'm'\n",
       "\\item 'n'\n",
       "\\item 'o'\n",
       "\\item 'p'\n",
       "\\item 'q'\n",
       "\\item 'r'\n",
       "\\item 's'\n",
       "\\item 't'\n",
       "\\item 'u'\n",
       "\\item 'v'\n",
       "\\item 'w'\n",
       "\\item 'x'\n",
       "\\item 'y'\n",
       "\\item 'z'\n",
       "\\end{enumerate*}\n"
      ],
      "text/markdown": [
       "1. z\n",
       "2. y\n",
       "3. x\n",
       "4. w\n",
       "5. v\n",
       "6. u\n",
       "7. t\n",
       "8. s\n",
       "9. r\n",
       "10. q\n",
       "11. p\n",
       "12. o\n",
       "13. n\n",
       "14. m\n",
       "15. l\n",
       "16. k\n",
       "17. j\n",
       "18. i\n",
       "19. h\n",
       "20. g\n",
       "21. f\n",
       "22. e\n",
       "23. d\n",
       "24. c\n",
       "25. b\n",
       "26. a\n",
       "\n",
       "\n",
       "\n",
       "**Levels**: 1. 'a'\n",
       "2. 'b'\n",
       "3. 'c'\n",
       "4. 'd'\n",
       "5. 'e'\n",
       "6. 'f'\n",
       "7. 'g'\n",
       "8. 'h'\n",
       "9. 'i'\n",
       "10. 'j'\n",
       "11. 'k'\n",
       "12. 'l'\n",
       "13. 'm'\n",
       "14. 'n'\n",
       "15. 'o'\n",
       "16. 'p'\n",
       "17. 'q'\n",
       "18. 'r'\n",
       "19. 's'\n",
       "20. 't'\n",
       "21. 'u'\n",
       "22. 'v'\n",
       "23. 'w'\n",
       "24. 'x'\n",
       "25. 'y'\n",
       "26. 'z'\n",
       "\n",
       "\n"
      ],
      "text/plain": [
       " [1] z y x w v u t s r q p o n m l k j i h g f e d c b a\n",
       "Levels: a b c d e f g h i j k l m n o p q r s t u v w x y z"
      ]
     },
     "metadata": {},
     "output_type": "display_data"
    }
   ],
   "source": [
    "factor(rev(letters), levels = letters)"
   ]
  },
  {
   "cell_type": "markdown",
   "metadata": {},
   "source": [
    "# Explanation"
   ]
  },
  {
   "cell_type": "code",
   "execution_count": 1,
   "metadata": {},
   "outputs": [],
   "source": [
    "help(factor)"
   ]
  },
  {
   "cell_type": "markdown",
   "metadata": {},
   "source": [
    "**Usage**"
   ]
  },
  {
   "cell_type": "markdown",
   "metadata": {},
   "source": [
    "```R\n",
    "factor(x = character(), levels, labels = levels,\n",
    "       exclude = NA, ordered = is.ordered(x), nmax = NA)\n",
    "\n",
    "ordered(x, ...)\n",
    "\n",
    "is.factor(x)\n",
    "is.ordered(x)\n",
    "\n",
    "as.factor(x)\n",
    "as.ordered(x)\n",
    "\n",
    "addNA(x, ifany = FALSE)\n",
    "```"
   ]
  },
  {
   "cell_type": "markdown",
   "metadata": {},
   "source": [
    "**Arguments**"
   ]
  },
  {
   "cell_type": "markdown",
   "metadata": {},
   "source": [
    "\n",
    "`x`\t\n",
    "a vector of data, usually taking a small number of distinct values.\n",
    "\n",
    "`levels`\t\n",
    "an optional vector of the unique values (as character strings) that x might have taken. The default is the unique set of values taken by as.character(x), sorted into increasing order of x. Note that this set can be specified as smaller than sort(unique(x)).\n",
    "\n",
    "`labels`\t\n",
    "either an optional character vector of labels for the levels (in the same order as levels after removing those in exclude), or a character string of length 1. Duplicated values in labels can be used to map different values of x to the same factor level.\n",
    "\n",
    "`exclude`\t\n",
    "a vector of values to be excluded when forming the set of levels. This may be factor with the same level set as x or should be a character.\n",
    "\n",
    "`ordered`\t\n",
    "logical flag to determine if the levels should be regarded as ordered (in the order given).\n",
    "\n",
    "`nmax`\t\n",
    "an upper bound on the number of levels; see ‘Details’.\n",
    "\n",
    "`...`\t\n",
    "(in ordered(.)): any of the above, apart from ordered itself.\n",
    "\n",
    "`ifany`\t\n",
    "only add an NA level if it is used, i.e. if any(is.na(x))."
   ]
  },
  {
   "cell_type": "markdown",
   "metadata": {},
   "source": [
    "# Factor creation"
   ]
  },
  {
   "cell_type": "markdown",
   "metadata": {},
   "source": [
    "**`factor()`**"
   ]
  },
  {
   "cell_type": "code",
   "execution_count": 1,
   "metadata": {},
   "outputs": [
    {
     "data": {
      "text/html": [
       "FALSE"
      ],
      "text/latex": [
       "FALSE"
      ],
      "text/markdown": [
       "FALSE"
      ],
      "text/plain": [
       "[1] FALSE"
      ]
     },
     "metadata": {},
     "output_type": "display_data"
    }
   ],
   "source": [
    "genders = c('Male', 'Female', 'Female', 'Male', 'Female')\n",
    "is.factor(genders)"
   ]
  },
  {
   "cell_type": "code",
   "execution_count": 2,
   "metadata": {},
   "outputs": [
    {
     "data": {
      "text/html": [
       "<ol class=list-inline>\n",
       "\t<li>Male</li>\n",
       "\t<li>Female</li>\n",
       "\t<li>Female</li>\n",
       "\t<li>Male</li>\n",
       "\t<li>Female</li>\n",
       "</ol>\n",
       "\n",
       "<details>\n",
       "\t<summary style=display:list-item;cursor:pointer>\n",
       "\t\t<strong>Levels</strong>:\n",
       "\t</summary>\n",
       "\t<ol class=list-inline>\n",
       "\t\t<li>'Female'</li>\n",
       "\t\t<li>'Male'</li>\n",
       "\t</ol>\n",
       "</details>"
      ],
      "text/latex": [
       "\\begin{enumerate*}\n",
       "\\item Male\n",
       "\\item Female\n",
       "\\item Female\n",
       "\\item Male\n",
       "\\item Female\n",
       "\\end{enumerate*}\n",
       "\n",
       "\\emph{Levels}: \\begin{enumerate*}\n",
       "\\item 'Female'\n",
       "\\item 'Male'\n",
       "\\end{enumerate*}\n"
      ],
      "text/markdown": [
       "1. Male\n",
       "2. Female\n",
       "3. Female\n",
       "4. Male\n",
       "5. Female\n",
       "\n",
       "\n",
       "\n",
       "**Levels**: 1. 'Female'\n",
       "2. 'Male'\n",
       "\n",
       "\n"
      ],
      "text/plain": [
       "[1] Male   Female Female Male   Female\n",
       "Levels: Female Male"
      ]
     },
     "metadata": {},
     "output_type": "display_data"
    }
   ],
   "source": [
    "gender_cat = factor(genders)\n",
    "gender_cat"
   ]
  },
  {
   "cell_type": "code",
   "execution_count": 3,
   "metadata": {},
   "outputs": [
    {
     "data": {
      "text/html": [
       "TRUE"
      ],
      "text/latex": [
       "TRUE"
      ],
      "text/markdown": [
       "TRUE"
      ],
      "text/plain": [
       "[1] TRUE"
      ]
     },
     "metadata": {},
     "output_type": "display_data"
    }
   ],
   "source": [
    "is.factor(gender_cat)"
   ]
  },
  {
   "cell_type": "markdown",
   "metadata": {},
   "source": [
    "Factor in dataframe"
   ]
  },
  {
   "cell_type": "code",
   "execution_count": 5,
   "metadata": {},
   "outputs": [
    {
     "data": {
      "text/html": [
       "<table>\n",
       "<thead><tr><th scope=col>height</th><th scope=col>weight</th><th scope=col>gender</th></tr></thead>\n",
       "<tbody>\n",
       "\t<tr><td>132   </td><td>48    </td><td>male  </td></tr>\n",
       "\t<tr><td>151   </td><td>49    </td><td>male  </td></tr>\n",
       "\t<tr><td>162   </td><td>66    </td><td>female</td></tr>\n",
       "\t<tr><td>139   </td><td>53    </td><td>female</td></tr>\n",
       "\t<tr><td>166   </td><td>67    </td><td>male  </td></tr>\n",
       "\t<tr><td>147   </td><td>52    </td><td>female</td></tr>\n",
       "\t<tr><td>122   </td><td>40    </td><td>male  </td></tr>\n",
       "</tbody>\n",
       "</table>\n"
      ],
      "text/latex": [
       "\\begin{tabular}{r|lll}\n",
       " height & weight & gender\\\\\n",
       "\\hline\n",
       "\t 132    & 48     & male  \\\\\n",
       "\t 151    & 49     & male  \\\\\n",
       "\t 162    & 66     & female\\\\\n",
       "\t 139    & 53     & female\\\\\n",
       "\t 166    & 67     & male  \\\\\n",
       "\t 147    & 52     & female\\\\\n",
       "\t 122    & 40     & male  \\\\\n",
       "\\end{tabular}\n"
      ],
      "text/markdown": [
       "\n",
       "| height | weight | gender |\n",
       "|---|---|---|\n",
       "| 132    | 48     | male   |\n",
       "| 151    | 49     | male   |\n",
       "| 162    | 66     | female |\n",
       "| 139    | 53     | female |\n",
       "| 166    | 67     | male   |\n",
       "| 147    | 52     | female |\n",
       "| 122    | 40     | male   |\n",
       "\n"
      ],
      "text/plain": [
       "  height weight gender\n",
       "1 132    48     male  \n",
       "2 151    49     male  \n",
       "3 162    66     female\n",
       "4 139    53     female\n",
       "5 166    67     male  \n",
       "6 147    52     female\n",
       "7 122    40     male  "
      ]
     },
     "metadata": {},
     "output_type": "display_data"
    }
   ],
   "source": [
    "# Create the vectors for data frame.\n",
    "height <- c(132,151,162,139,166,147,122)\n",
    "weight <- c(48,49,66,53,67,52,40)\n",
    "gender <- c(\"male\",\"male\",\"female\",\"female\",\"male\",\"female\",\"male\")\n",
    "\n",
    "# Create the data frame.\n",
    "input_data <- data.frame(height,weight,gender)\n",
    "input_data"
   ]
  },
  {
   "cell_type": "code",
   "execution_count": 6,
   "metadata": {},
   "outputs": [
    {
     "data": {
      "text/html": [
       "<ol class=list-inline>\n",
       "\t<li>male</li>\n",
       "\t<li>male</li>\n",
       "\t<li>female</li>\n",
       "\t<li>female</li>\n",
       "\t<li>male</li>\n",
       "\t<li>female</li>\n",
       "\t<li>male</li>\n",
       "</ol>\n",
       "\n",
       "<details>\n",
       "\t<summary style=display:list-item;cursor:pointer>\n",
       "\t\t<strong>Levels</strong>:\n",
       "\t</summary>\n",
       "\t<ol class=list-inline>\n",
       "\t\t<li>'female'</li>\n",
       "\t\t<li>'male'</li>\n",
       "\t</ol>\n",
       "</details>"
      ],
      "text/latex": [
       "\\begin{enumerate*}\n",
       "\\item male\n",
       "\\item male\n",
       "\\item female\n",
       "\\item female\n",
       "\\item male\n",
       "\\item female\n",
       "\\item male\n",
       "\\end{enumerate*}\n",
       "\n",
       "\\emph{Levels}: \\begin{enumerate*}\n",
       "\\item 'female'\n",
       "\\item 'male'\n",
       "\\end{enumerate*}\n"
      ],
      "text/markdown": [
       "1. male\n",
       "2. male\n",
       "3. female\n",
       "4. female\n",
       "5. male\n",
       "6. female\n",
       "7. male\n",
       "\n",
       "\n",
       "\n",
       "**Levels**: 1. 'female'\n",
       "2. 'male'\n",
       "\n",
       "\n"
      ],
      "text/plain": [
       "[1] male   male   female female male   female male  \n",
       "Levels: female male"
      ]
     },
     "metadata": {},
     "output_type": "display_data"
    }
   ],
   "source": [
    "input_data$gender"
   ]
  },
  {
   "cell_type": "code",
   "execution_count": 7,
   "metadata": {},
   "outputs": [
    {
     "data": {
      "text/html": [
       "TRUE"
      ],
      "text/latex": [
       "TRUE"
      ],
      "text/markdown": [
       "TRUE"
      ],
      "text/plain": [
       "[1] TRUE"
      ]
     },
     "metadata": {},
     "output_type": "display_data"
    }
   ],
   "source": [
    "is.factor(input_data$gender)"
   ]
  },
  {
   "cell_type": "markdown",
   "metadata": {},
   "source": [
    "# Getting and changing the categories of a factor"
   ]
  },
  {
   "cell_type": "markdown",
   "metadata": {},
   "source": [
    "**`level()s`**:  provides access to the levels attribute of a variable. The first form returns the value of the levels of its argument and the second sets the attribute."
   ]
  },
  {
   "cell_type": "code",
   "execution_count": 5,
   "metadata": {},
   "outputs": [
    {
     "data": {
      "text/html": [
       "<ol class=list-inline>\n",
       "\t<li>'Female'</li>\n",
       "\t<li>'Male'</li>\n",
       "</ol>\n"
      ],
      "text/latex": [
       "\\begin{enumerate*}\n",
       "\\item 'Female'\n",
       "\\item 'Male'\n",
       "\\end{enumerate*}\n"
      ],
      "text/markdown": [
       "1. 'Female'\n",
       "2. 'Male'\n",
       "\n",
       "\n"
      ],
      "text/plain": [
       "[1] \"Female\" \"Male\"  "
      ]
     },
     "metadata": {},
     "output_type": "display_data"
    }
   ],
   "source": [
    "gender <- factor(c('Male', 'Female', 'Male'))\n",
    "#geting the categories of factor `gender`\n",
    "levels(gender)"
   ]
  },
  {
   "cell_type": "code",
   "execution_count": 7,
   "metadata": {},
   "outputs": [
    {
     "data": {
      "text/html": [
       "<ol class=list-inline>\n",
       "\t<li>Boy</li>\n",
       "\t<li>Girl</li>\n",
       "\t<li>Boy</li>\n",
       "</ol>\n",
       "\n",
       "<details>\n",
       "\t<summary style=display:list-item;cursor:pointer>\n",
       "\t\t<strong>Levels</strong>:\n",
       "\t</summary>\n",
       "\t<ol class=list-inline>\n",
       "\t\t<li>'Girl'</li>\n",
       "\t\t<li>'Boy'</li>\n",
       "\t</ol>\n",
       "</details>"
      ],
      "text/latex": [
       "\\begin{enumerate*}\n",
       "\\item Boy\n",
       "\\item Girl\n",
       "\\item Boy\n",
       "\\end{enumerate*}\n",
       "\n",
       "\\emph{Levels}: \\begin{enumerate*}\n",
       "\\item 'Girl'\n",
       "\\item 'Boy'\n",
       "\\end{enumerate*}\n"
      ],
      "text/markdown": [
       "1. Boy\n",
       "2. Girl\n",
       "3. Boy\n",
       "\n",
       "\n",
       "\n",
       "**Levels**: 1. 'Girl'\n",
       "2. 'Boy'\n",
       "\n",
       "\n"
      ],
      "text/plain": [
       "[1] Boy  Girl Boy \n",
       "Levels: Girl Boy"
      ]
     },
     "metadata": {},
     "output_type": "display_data"
    }
   ],
   "source": [
    "#changing the factors of `gender`\n",
    "levels(gender) <- c('Girl', 'Boy')\n",
    "\n",
    "gender"
   ]
  },
  {
   "cell_type": "markdown",
   "metadata": {},
   "source": [
    "# Getting number of categories"
   ]
  },
  {
   "cell_type": "markdown",
   "metadata": {},
   "source": [
    "**`nlevels()`**"
   ]
  },
  {
   "cell_type": "code",
   "execution_count": 9,
   "metadata": {},
   "outputs": [
    {
     "data": {
      "text/html": [
       "2"
      ],
      "text/latex": [
       "2"
      ],
      "text/markdown": [
       "2"
      ],
      "text/plain": [
       "[1] 2"
      ]
     },
     "metadata": {},
     "output_type": "display_data"
    }
   ],
   "source": [
    "#getting #categories\n",
    "nlevels(gender)"
   ]
  },
  {
   "cell_type": "markdown",
   "metadata": {},
   "source": [
    "# Chaning the order of levels"
   ]
  },
  {
   "cell_type": "code",
   "execution_count": 8,
   "metadata": {},
   "outputs": [
    {
     "data": {
      "text/html": [
       "<ol class=list-inline>\n",
       "\t<li>One</li>\n",
       "\t<li>Two</li>\n",
       "\t<li>One</li>\n",
       "\t<li>Three</li>\n",
       "</ol>\n",
       "\n",
       "<details>\n",
       "\t<summary style=display:list-item;cursor:pointer>\n",
       "\t\t<strong>Levels</strong>:\n",
       "\t</summary>\n",
       "\t<ol class=list-inline>\n",
       "\t\t<li>'One'</li>\n",
       "\t\t<li>'Two'</li>\n",
       "\t\t<li>'Three'</li>\n",
       "\t</ol>\n",
       "</details>"
      ],
      "text/latex": [
       "\\begin{enumerate*}\n",
       "\\item One\n",
       "\\item Two\n",
       "\\item One\n",
       "\\item Three\n",
       "\\end{enumerate*}\n",
       "\n",
       "\\emph{Levels}: \\begin{enumerate*}\n",
       "\\item 'One'\n",
       "\\item 'Two'\n",
       "\\item 'Three'\n",
       "\\end{enumerate*}\n"
      ],
      "text/markdown": [
       "1. One\n",
       "2. Two\n",
       "3. One\n",
       "4. Three\n",
       "\n",
       "\n",
       "\n",
       "**Levels**: 1. 'One'\n",
       "2. 'Two'\n",
       "3. 'Three'\n",
       "\n",
       "\n"
      ],
      "text/plain": [
       "[1] One   Two   One   Three\n",
       "Levels: One Two Three"
      ]
     },
     "metadata": {},
     "output_type": "display_data"
    }
   ],
   "source": [
    "factor(c('One', 'Two', 'One', 'Three'), levels = c('One', 'Two', 'Three'))"
   ]
  },
  {
   "cell_type": "markdown",
   "metadata": {},
   "source": [
    "using **`levels`**"
   ]
  },
  {
   "cell_type": "code",
   "execution_count": 3,
   "metadata": {},
   "outputs": [
    {
     "data": {
      "text/html": [
       "<ol class=list-inline>\n",
       "\t<li>Male</li>\n",
       "\t<li>Female</li>\n",
       "\t<li>Male</li>\n",
       "</ol>\n",
       "\n",
       "<details>\n",
       "\t<summary style=display:list-item;cursor:pointer>\n",
       "\t\t<strong>Levels</strong>:\n",
       "\t</summary>\n",
       "\t<ol class=list-inline>\n",
       "\t\t<li>'Female'</li>\n",
       "\t\t<li>'Male'</li>\n",
       "\t</ol>\n",
       "</details>"
      ],
      "text/latex": [
       "\\begin{enumerate*}\n",
       "\\item Male\n",
       "\\item Female\n",
       "\\item Male\n",
       "\\end{enumerate*}\n",
       "\n",
       "\\emph{Levels}: \\begin{enumerate*}\n",
       "\\item 'Female'\n",
       "\\item 'Male'\n",
       "\\end{enumerate*}\n"
      ],
      "text/markdown": [
       "1. Male\n",
       "2. Female\n",
       "3. Male\n",
       "\n",
       "\n",
       "\n",
       "**Levels**: 1. 'Female'\n",
       "2. 'Male'\n",
       "\n",
       "\n"
      ],
      "text/plain": [
       "[1] Male   Female Male  \n",
       "Levels: Female Male"
      ]
     },
     "metadata": {},
     "output_type": "display_data"
    }
   ],
   "source": [
    "gender <- factor(c('Male', 'Female', 'Male'))\n",
    "gender"
   ]
  },
  {
   "cell_type": "code",
   "execution_count": 4,
   "metadata": {},
   "outputs": [
    {
     "data": {
      "text/html": [
       "<ol class=list-inline>\n",
       "\t<li>Female</li>\n",
       "\t<li>Male</li>\n",
       "\t<li>Female</li>\n",
       "</ol>\n",
       "\n",
       "<details>\n",
       "\t<summary style=display:list-item;cursor:pointer>\n",
       "\t\t<strong>Levels</strong>:\n",
       "\t</summary>\n",
       "\t<ol class=list-inline>\n",
       "\t\t<li>'Male'</li>\n",
       "\t\t<li>'Female'</li>\n",
       "\t</ol>\n",
       "</details>"
      ],
      "text/latex": [
       "\\begin{enumerate*}\n",
       "\\item Female\n",
       "\\item Male\n",
       "\\item Female\n",
       "\\end{enumerate*}\n",
       "\n",
       "\\emph{Levels}: \\begin{enumerate*}\n",
       "\\item 'Male'\n",
       "\\item 'Female'\n",
       "\\end{enumerate*}\n"
      ],
      "text/markdown": [
       "1. Female\n",
       "2. Male\n",
       "3. Female\n",
       "\n",
       "\n",
       "\n",
       "**Levels**: 1. 'Male'\n",
       "2. 'Female'\n",
       "\n",
       "\n"
      ],
      "text/plain": [
       "[1] Female Male   Female\n",
       "Levels: Male Female"
      ]
     },
     "metadata": {},
     "output_type": "display_data"
    }
   ],
   "source": [
    "levels(gender) <- c('Male', 'Female')\n",
    "gender"
   ]
  },
  {
   "cell_type": "markdown",
   "metadata": {},
   "source": [
    "### reorder"
   ]
  },
  {
   "cell_type": "markdown",
   "metadata": {},
   "source": [
    "**`reorder()`**: reorder the levels of a factor base on the value of another.  \n",
    "<b style = 'color:red'>NOTE: `reorder` does not change the position of values like `sort`, it just change the order of categories in that factor</b>"
   ]
  },
  {
   "cell_type": "code",
   "execution_count": 1,
   "metadata": {},
   "outputs": [
    {
     "data": {
      "text/html": [
       "<ol class=list-inline>\n",
       "\t<li>Three</li>\n",
       "\t<li>Two</li>\n",
       "\t<li>One</li>\n",
       "</ol>\n",
       "\n",
       "<details>\n",
       "\t<summary style=display:list-item;cursor:pointer>\n",
       "\t\t<strong>Levels</strong>:\n",
       "\t</summary>\n",
       "\t<ol class=list-inline>\n",
       "\t\t<li>'One'</li>\n",
       "\t\t<li>'Three'</li>\n",
       "\t\t<li>'Two'</li>\n",
       "\t</ol>\n",
       "</details>"
      ],
      "text/latex": [
       "\\begin{enumerate*}\n",
       "\\item Three\n",
       "\\item Two\n",
       "\\item One\n",
       "\\end{enumerate*}\n",
       "\n",
       "\\emph{Levels}: \\begin{enumerate*}\n",
       "\\item 'One'\n",
       "\\item 'Three'\n",
       "\\item 'Two'\n",
       "\\end{enumerate*}\n"
      ],
      "text/markdown": [
       "1. Three\n",
       "2. Two\n",
       "3. One\n",
       "\n",
       "\n",
       "\n",
       "**Levels**: 1. 'One'\n",
       "2. 'Three'\n",
       "3. 'Two'\n",
       "\n",
       "\n"
      ],
      "text/plain": [
       "[1] Three Two   One  \n",
       "Levels: One Three Two"
      ]
     },
     "metadata": {},
     "output_type": "display_data"
    }
   ],
   "source": [
    "numbers <- factor(c('Three', 'Two', 'One'))\n",
    "numbers #We can see the order of levels: 'One' < 'Three' < 'Two'"
   ]
  },
  {
   "cell_type": "code",
   "execution_count": 5,
   "metadata": {},
   "outputs": [
    {
     "data": {
      "text/html": [
       "<ol class=list-inline>\n",
       "\t<li>Three</li>\n",
       "\t<li>Two</li>\n",
       "\t<li>One</li>\n",
       "</ol>\n",
       "\n",
       "<details>\n",
       "\t<summary style=display:list-item;cursor:pointer>\n",
       "\t\t<strong>Levels</strong>:\n",
       "\t</summary>\n",
       "\t<ol class=list-inline>\n",
       "\t\t<li>'One'</li>\n",
       "\t\t<li>'Two'</li>\n",
       "\t\t<li>'Three'</li>\n",
       "\t</ol>\n",
       "</details>"
      ],
      "text/latex": [
       "\\begin{enumerate*}\n",
       "\\item Three\n",
       "\\item Two\n",
       "\\item One\n",
       "\\end{enumerate*}\n",
       "\n",
       "\\emph{Levels}: \\begin{enumerate*}\n",
       "\\item 'One'\n",
       "\\item 'Two'\n",
       "\\item 'Three'\n",
       "\\end{enumerate*}\n"
      ],
      "text/markdown": [
       "1. Three\n",
       "2. Two\n",
       "3. One\n",
       "\n",
       "\n",
       "\n",
       "**Levels**: 1. 'One'\n",
       "2. 'Two'\n",
       "3. 'Three'\n",
       "\n",
       "\n"
      ],
      "text/plain": [
       "[1] Three Two   One  \n",
       "attr(,\"scores\")\n",
       "  One   Two Three \n",
       "    1     2     3 \n",
       "Levels: One Two Three"
      ]
     },
     "metadata": {},
     "output_type": "display_data"
    }
   ],
   "source": [
    "#Reorder the level of numbers\n",
    "#'One' will have 1\n",
    "#'Two' will have value 2\n",
    "#'Three' will have value 3\n",
    "#1 < 2 < 3 so after reorder, 'One' < 'Two' < 'Three'\n",
    "numbers <- reorder(numbers, c(3, 2, 1))\n",
    "\n",
    "numbers"
   ]
  },
  {
   "cell_type": "code",
   "execution_count": 13,
   "metadata": {},
   "outputs": [
    {
     "data": {
      "text/html": [
       "<ol class=list-inline>\n",
       "\t<li>One</li>\n",
       "\t<li>One</li>\n",
       "\t<li>Two</li>\n",
       "\t<li>Two</li>\n",
       "\t<li>Three</li>\n",
       "\t<li>Three</li>\n",
       "</ol>\n",
       "\n",
       "<details>\n",
       "\t<summary style=display:list-item;cursor:pointer>\n",
       "\t\t<strong>Levels</strong>:\n",
       "\t</summary>\n",
       "\t<ol class=list-inline>\n",
       "\t\t<li>'One'</li>\n",
       "\t\t<li>'Three'</li>\n",
       "\t\t<li>'Two'</li>\n",
       "\t</ol>\n",
       "</details>"
      ],
      "text/latex": [
       "\\begin{enumerate*}\n",
       "\\item One\n",
       "\\item One\n",
       "\\item Two\n",
       "\\item Two\n",
       "\\item Three\n",
       "\\item Three\n",
       "\\end{enumerate*}\n",
       "\n",
       "\\emph{Levels}: \\begin{enumerate*}\n",
       "\\item 'One'\n",
       "\\item 'Three'\n",
       "\\item 'Two'\n",
       "\\end{enumerate*}\n"
      ],
      "text/markdown": [
       "1. One\n",
       "2. One\n",
       "3. Two\n",
       "4. Two\n",
       "5. Three\n",
       "6. Three\n",
       "\n",
       "\n",
       "\n",
       "**Levels**: 1. 'One'\n",
       "2. 'Three'\n",
       "3. 'Two'\n",
       "\n",
       "\n"
      ],
      "text/plain": [
       "[1] One   One   Two   Two   Three Three\n",
       "Levels: One Three Two"
      ]
     },
     "metadata": {},
     "output_type": "display_data"
    }
   ],
   "source": [
    "#What if there are multiple value for each category?\n",
    "\n",
    "numbers <- factor(c('One', 'One', 'Two', 'Two', 'Three', 'Three'))\n",
    "numbers #levels: 'One' <'Three' <'Two'"
   ]
  },
  {
   "cell_type": "code",
   "execution_count": 14,
   "metadata": {},
   "outputs": [
    {
     "data": {
      "text/html": [
       "<ol class=list-inline>\n",
       "\t<li>One</li>\n",
       "\t<li>One</li>\n",
       "\t<li>Two</li>\n",
       "\t<li>Two</li>\n",
       "\t<li>Three</li>\n",
       "\t<li>Three</li>\n",
       "</ol>\n",
       "\n",
       "<details>\n",
       "\t<summary style=display:list-item;cursor:pointer>\n",
       "\t\t<strong>Levels</strong>:\n",
       "\t</summary>\n",
       "\t<ol class=list-inline>\n",
       "\t\t<li>'Two'</li>\n",
       "\t\t<li>'One'</li>\n",
       "\t\t<li>'Three'</li>\n",
       "\t</ol>\n",
       "</details>"
      ],
      "text/latex": [
       "\\begin{enumerate*}\n",
       "\\item One\n",
       "\\item One\n",
       "\\item Two\n",
       "\\item Two\n",
       "\\item Three\n",
       "\\item Three\n",
       "\\end{enumerate*}\n",
       "\n",
       "\\emph{Levels}: \\begin{enumerate*}\n",
       "\\item 'Two'\n",
       "\\item 'One'\n",
       "\\item 'Three'\n",
       "\\end{enumerate*}\n"
      ],
      "text/markdown": [
       "1. One\n",
       "2. One\n",
       "3. Two\n",
       "4. Two\n",
       "5. Three\n",
       "6. Three\n",
       "\n",
       "\n",
       "\n",
       "**Levels**: 1. 'Two'\n",
       "2. 'One'\n",
       "3. 'Three'\n",
       "\n",
       "\n"
      ],
      "text/plain": [
       "[1] One   One   Two   Two   Three Three\n",
       "attr(,\"scores\")\n",
       "  One Three   Two \n",
       "    4    10     2 \n",
       "Levels: Two One Three"
      ]
     },
     "metadata": {},
     "output_type": "display_data"
    }
   ],
   "source": [
    "values <- c(2, 6, 1, 3, 10, 10)\n",
    "#reoder by mean value of each category\n",
    "numbers <- reorder(numbers, values, FUN = 'mean')\n",
    "\n",
    "numbers  #after reorder: 'Two' < 'One' <'Three'"
   ]
  },
  {
   "cell_type": "markdown",
   "metadata": {},
   "source": [
    "# Generating factor levels"
   ]
  },
  {
   "cell_type": "markdown",
   "metadata": {},
   "source": [
    "We can generate factor levels by using the **`gl()`** function. It takes two integers as input which indicates how many levels and how many times each level."
   ]
  },
  {
   "cell_type": "markdown",
   "metadata": {},
   "source": [
    "```python\n",
    "gl(n, k, labels)\n",
    "```"
   ]
  },
  {
   "cell_type": "markdown",
   "metadata": {},
   "source": [
    "* **`n`** is a integer giving the number of levels.\n",
    "\n",
    "* **`k`** is a integer giving the number of replications.\n",
    "\n",
    "* **`labels`** is a vector of labels for the resulting factor levels."
   ]
  },
  {
   "cell_type": "code",
   "execution_count": 11,
   "metadata": {},
   "outputs": [
    {
     "name": "stdout",
     "output_type": "stream",
     "text": [
      " [1] Tampa   Tampa   Tampa   Tampa   Seattle Seattle Seattle Seattle Boston \n",
      "[10] Boston  Boston  Boston \n",
      "Levels: Tampa Seattle Boston\n"
     ]
    }
   ],
   "source": [
    "\n",
    "v <- gl(3, 4, labels = c(\"Tampa\", \"Seattle\",\"Boston\"))\n",
    "print(v)"
   ]
  },
  {
   "cell_type": "markdown",
   "metadata": {},
   "source": [
    "# Label"
   ]
  },
  {
   "cell_type": "code",
   "execution_count": 1,
   "metadata": {},
   "outputs": [
    {
     "data": {
      "text/html": [
       "<ol class=list-inline>\n",
       "\t<li>'Female'</li>\n",
       "\t<li>'Male'</li>\n",
       "</ol>\n"
      ],
      "text/latex": [
       "\\begin{enumerate*}\n",
       "\\item 'Female'\n",
       "\\item 'Male'\n",
       "\\end{enumerate*}\n"
      ],
      "text/markdown": [
       "1. 'Female'\n",
       "2. 'Male'\n",
       "\n",
       "\n"
      ],
      "text/plain": [
       "[1] \"Female\" \"Male\"  "
      ]
     },
     "metadata": {},
     "output_type": "display_data"
    }
   ],
   "source": [
    "sex <- factor(c('Male', 'Female', 'Female', 'Male', 'Male', 'Female'))\n",
    "levels(sex)"
   ]
  },
  {
   "cell_type": "code",
   "execution_count": 2,
   "metadata": {},
   "outputs": [
    {
     "data": {
      "text/html": [
       "<ol class=list-inline>\n",
       "\t<li>Boy</li>\n",
       "\t<li>Girl</li>\n",
       "\t<li>Girl</li>\n",
       "\t<li>Boy</li>\n",
       "\t<li>Boy</li>\n",
       "\t<li>Girl</li>\n",
       "</ol>\n",
       "\n",
       "<details>\n",
       "\t<summary style=display:list-item;cursor:pointer>\n",
       "\t\t<strong>Levels</strong>:\n",
       "\t</summary>\n",
       "\t<ol class=list-inline>\n",
       "\t\t<li>'Girl'</li>\n",
       "\t\t<li>'Boy'</li>\n",
       "\t</ol>\n",
       "</details>"
      ],
      "text/latex": [
       "\\begin{enumerate*}\n",
       "\\item Boy\n",
       "\\item Girl\n",
       "\\item Girl\n",
       "\\item Boy\n",
       "\\item Boy\n",
       "\\item Girl\n",
       "\\end{enumerate*}\n",
       "\n",
       "\\emph{Levels}: \\begin{enumerate*}\n",
       "\\item 'Girl'\n",
       "\\item 'Boy'\n",
       "\\end{enumerate*}\n"
      ],
      "text/markdown": [
       "1. Boy\n",
       "2. Girl\n",
       "3. Girl\n",
       "4. Boy\n",
       "5. Boy\n",
       "6. Girl\n",
       "\n",
       "\n",
       "\n",
       "**Levels**: 1. 'Girl'\n",
       "2. 'Boy'\n",
       "\n",
       "\n"
      ],
      "text/plain": [
       "[1] Boy  Girl Girl Boy  Boy  Girl\n",
       "Levels: Girl Boy"
      ]
     },
     "metadata": {},
     "output_type": "display_data"
    }
   ],
   "source": [
    "#mapping Female to Girl and Male to Boy\n",
    "factor(sex, labels = c('Girl', 'Boy'))"
   ]
  },
  {
   "cell_type": "markdown",
   "metadata": {},
   "source": [
    "# Ordinal and Nominal Catogorical Variable"
   ]
  },
  {
   "cell_type": "code",
   "execution_count": 3,
   "metadata": {},
   "outputs": [
    {
     "name": "stdout",
     "output_type": "stream",
     "text": [
      "[1] Good    Premium Bad     Premium\n",
      "Levels: Bad < Good < Premium\n"
     ]
    }
   ],
   "source": [
    "# ordinal factor: ordered = T\n",
    "quality <- factor(c('Good', 'Premium', 'Bad', 'Premium'), levels = c('Bad', 'Good', 'Premium'), ordered = T)\n",
    "\n",
    "print(quality)"
   ]
  },
  {
   "cell_type": "code",
   "execution_count": 4,
   "metadata": {},
   "outputs": [
    {
     "name": "stdout",
     "output_type": "stream",
     "text": [
      "[1] Apple  Banana\n",
      "Levels: Apple Banana Coconut\n"
     ]
    }
   ],
   "source": [
    "# nominal factor: ordered = F\n",
    "fruits <- factor(c('Apple', 'Banana'), levels = c('Apple', 'Banana', 'Coconut'))\n",
    "\n",
    "print(fruits)"
   ]
  }
 ],
 "metadata": {
  "kernelspec": {
   "display_name": "R",
   "language": "R",
   "name": "ir"
  },
  "language_info": {
   "codemirror_mode": "r",
   "file_extension": ".r",
   "mimetype": "text/x-r-source",
   "name": "R",
   "pygments_lexer": "r",
   "version": "3.6.1"
  }
 },
 "nbformat": 4,
 "nbformat_minor": 2
}
