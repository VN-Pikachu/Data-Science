{
 "cells": [
  {
   "cell_type": "markdown",
   "metadata": {},
   "source": [
    "# Joining Columns and Rows in a Data Frame"
   ]
  },
  {
   "cell_type": "markdown",
   "metadata": {},
   "source": [
    "**`cbind()`**"
   ]
  },
  {
   "cell_type": "code",
   "execution_count": 7,
   "metadata": {},
   "outputs": [
    {
     "data": {
      "text/html": [
       "<table>\n",
       "<thead><tr><th scope=col>city</th><th scope=col>state</th><th scope=col>zipcode</th></tr></thead>\n",
       "<tbody>\n",
       "\t<tr><td>Tampa   </td><td>FL      </td><td>33602   </td></tr>\n",
       "\t<tr><td>Seattle </td><td>WA      </td><td>98104   </td></tr>\n",
       "\t<tr><td>Hartford</td><td>CT      </td><td>6161    </td></tr>\n",
       "\t<tr><td>Denver  </td><td>CO      </td><td>80294   </td></tr>\n",
       "</tbody>\n",
       "</table>\n"
      ],
      "text/latex": [
       "\\begin{tabular}{lll}\n",
       " city & state & zipcode\\\\\n",
       "\\hline\n",
       "\t Tampa    & FL       & 33602   \\\\\n",
       "\t Seattle  & WA       & 98104   \\\\\n",
       "\t Hartford & CT       & 6161    \\\\\n",
       "\t Denver   & CO       & 80294   \\\\\n",
       "\\end{tabular}\n"
      ],
      "text/markdown": [
       "\n",
       "| city | state | zipcode |\n",
       "|---|---|---|\n",
       "| Tampa    | FL       | 33602    |\n",
       "| Seattle  | WA       | 98104    |\n",
       "| Hartford | CT       | 6161     |\n",
       "| Denver   | CO       | 80294    |\n",
       "\n"
      ],
      "text/plain": [
       "     city     state zipcode\n",
       "[1,] Tampa    FL    33602  \n",
       "[2,] Seattle  WA    98104  \n",
       "[3,] Hartford CT    6161   \n",
       "[4,] Denver   CO    80294  "
      ]
     },
     "metadata": {},
     "output_type": "display_data"
    }
   ],
   "source": [
    "city <- c(\"Tampa\",\"Seattle\",\"Hartford\",\"Denver\")\n",
    "state <- c(\"FL\",\"WA\",\"CT\",\"CO\")\n",
    "zipcode <- c(33602,98104,06161,80294)\n",
    "\n",
    "adress <- cbind(city, state, zipcode)\n",
    "adress"
   ]
  },
  {
   "cell_type": "code",
   "execution_count": 8,
   "metadata": {},
   "outputs": [
    {
     "data": {
      "text/html": [
       "'matrix'"
      ],
      "text/latex": [
       "'matrix'"
      ],
      "text/markdown": [
       "'matrix'"
      ],
      "text/plain": [
       "[1] \"matrix\""
      ]
     },
     "metadata": {},
     "output_type": "display_data"
    }
   ],
   "source": [
    "class(adress)"
   ]
  },
  {
   "cell_type": "markdown",
   "metadata": {},
   "source": [
    "**`rbind()`**"
   ]
  },
  {
   "cell_type": "code",
   "execution_count": 6,
   "metadata": {},
   "outputs": [
    {
     "data": {
      "text/html": [
       "<table>\n",
       "<thead><tr><th scope=col>city</th><th scope=col>state</th><th scope=col>zipcode</th></tr></thead>\n",
       "<tbody>\n",
       "\t<tr><td>Lowry    </td><td>CO       </td><td>80230    </td></tr>\n",
       "\t<tr><td>Charlotte</td><td>FL       </td><td>33949    </td></tr>\n",
       "</tbody>\n",
       "</table>\n"
      ],
      "text/latex": [
       "\\begin{tabular}{r|lll}\n",
       " city & state & zipcode\\\\\n",
       "\\hline\n",
       "\t Lowry     & CO        & 80230    \\\\\n",
       "\t Charlotte & FL        & 33949    \\\\\n",
       "\\end{tabular}\n"
      ],
      "text/markdown": [
       "\n",
       "| city | state | zipcode |\n",
       "|---|---|---|\n",
       "| Lowry     | CO        | 80230     |\n",
       "| Charlotte | FL        | 33949     |\n",
       "\n"
      ],
      "text/plain": [
       "  city      state zipcode\n",
       "1 Lowry     CO    80230  \n",
       "2 Charlotte FL    33949  "
      ]
     },
     "metadata": {},
     "output_type": "display_data"
    }
   ],
   "source": [
    "new.address <- data.frame(\n",
    "   city = c(\"Lowry\",\"Charlotte\"),\n",
    "   state = c(\"CO\",\"FL\"),\n",
    "   zipcode = c(\"80230\",\"33949\"),\n",
    "   stringsAsFactors = FALSE\n",
    ")\n",
    "\n",
    "new.address"
   ]
  },
  {
   "cell_type": "code",
   "execution_count": 9,
   "metadata": {},
   "outputs": [
    {
     "data": {
      "text/html": [
       "<table>\n",
       "<thead><tr><th scope=col>city</th><th scope=col>state</th><th scope=col>zipcode</th></tr></thead>\n",
       "<tbody>\n",
       "\t<tr><td>Tampa    </td><td>FL       </td><td>33602    </td></tr>\n",
       "\t<tr><td>Seattle  </td><td>WA       </td><td>98104    </td></tr>\n",
       "\t<tr><td>Hartford </td><td>CT       </td><td>6161     </td></tr>\n",
       "\t<tr><td>Denver   </td><td>CO       </td><td>80294    </td></tr>\n",
       "\t<tr><td>Lowry    </td><td>CO       </td><td>80230    </td></tr>\n",
       "\t<tr><td>Charlotte</td><td>FL       </td><td>33949    </td></tr>\n",
       "</tbody>\n",
       "</table>\n"
      ],
      "text/latex": [
       "\\begin{tabular}{r|lll}\n",
       " city & state & zipcode\\\\\n",
       "\\hline\n",
       "\t Tampa     & FL        & 33602    \\\\\n",
       "\t Seattle   & WA        & 98104    \\\\\n",
       "\t Hartford  & CT        & 6161     \\\\\n",
       "\t Denver    & CO        & 80294    \\\\\n",
       "\t Lowry     & CO        & 80230    \\\\\n",
       "\t Charlotte & FL        & 33949    \\\\\n",
       "\\end{tabular}\n"
      ],
      "text/markdown": [
       "\n",
       "| city | state | zipcode |\n",
       "|---|---|---|\n",
       "| Tampa     | FL        | 33602     |\n",
       "| Seattle   | WA        | 98104     |\n",
       "| Hartford  | CT        | 6161      |\n",
       "| Denver    | CO        | 80294     |\n",
       "| Lowry     | CO        | 80230     |\n",
       "| Charlotte | FL        | 33949     |\n",
       "\n"
      ],
      "text/plain": [
       "  city      state zipcode\n",
       "1 Tampa     FL    33602  \n",
       "2 Seattle   WA    98104  \n",
       "3 Hartford  CT    6161   \n",
       "4 Denver    CO    80294  \n",
       "5 Lowry     CO    80230  \n",
       "6 Charlotte FL    33949  "
      ]
     },
     "metadata": {},
     "output_type": "display_data"
    }
   ],
   "source": [
    "rbind(adress, new.address)"
   ]
  },
  {
   "cell_type": "markdown",
   "metadata": {},
   "source": [
    "# Merging Data Frames"
   ]
  },
  {
   "cell_type": "markdown",
   "metadata": {},
   "source": [
    "We can merge two data frames by using the **merge()** function.  \n",
    "The data frames must have same column names on which the merging happens."
   ]
  },
  {
   "cell_type": "markdown",
   "metadata": {},
   "source": [
    "# Melting and Casting"
   ]
  },
  {
   "cell_type": "markdown",
   "metadata": {},
   "source": [
    "ne of the most interesting aspects of R programming is about changing the shape of the data in multiple steps to get a desired shape. The functions used to do this are called **`melt()`** and **`cast()`**."
   ]
  },
  {
   "cell_type": "code",
   "execution_count": null,
   "metadata": {},
   "outputs": [],
   "source": []
  }
 ],
 "metadata": {
  "kernelspec": {
   "display_name": "R",
   "language": "R",
   "name": "ir"
  },
  "language_info": {
   "codemirror_mode": "r",
   "file_extension": ".r",
   "mimetype": "text/x-r-source",
   "name": "R",
   "pygments_lexer": "r",
   "version": "3.6.1"
  }
 },
 "nbformat": 4,
 "nbformat_minor": 2
}
