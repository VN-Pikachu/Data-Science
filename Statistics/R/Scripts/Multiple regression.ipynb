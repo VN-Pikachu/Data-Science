{
 "cells": [
  {
   "cell_type": "markdown",
   "id": "certain-possible",
   "metadata": {},
   "source": [
    "**Reference**: <https://daviddalpiaz.github.io/appliedstats/multiple-linear-regression.html>"
   ]
  },
  {
   "cell_type": "code",
   "execution_count": 9,
   "id": "christian-greek",
   "metadata": {},
   "outputs": [
    {
     "name": "stdout",
     "output_type": "stream",
     "text": [
      "'data.frame':\t390 obs. of  7 variables:\n",
      " $ mpg : num  18 15 18 16 17 15 14 14 14 15 ...\n",
      " $ cyl : int  8 8 8 8 8 8 8 8 8 8 ...\n",
      " $ disp: num  307 350 318 304 302 429 454 440 455 390 ...\n",
      " $ hp  : num  130 165 150 150 140 198 220 215 225 190 ...\n",
      " $ wt  : num  3504 3693 3436 3433 3449 ...\n",
      " $ acc : num  12 11.5 11 12 10.5 10 9 8.5 10 8.5 ...\n",
      " $ year: int  70 70 70 70 70 70 70 70 70 70 ...\n"
     ]
    },
    {
     "data": {
      "text/html": [
       "<table>\n",
       "<caption>A tibble: 6 × 7</caption>\n",
       "<thead>\n",
       "\t<tr><th scope=col>mpg</th><th scope=col>cyl</th><th scope=col>disp</th><th scope=col>hp</th><th scope=col>wt</th><th scope=col>acc</th><th scope=col>year</th></tr>\n",
       "\t<tr><th scope=col>&lt;dbl&gt;</th><th scope=col>&lt;int&gt;</th><th scope=col>&lt;dbl&gt;</th><th scope=col>&lt;dbl&gt;</th><th scope=col>&lt;dbl&gt;</th><th scope=col>&lt;dbl&gt;</th><th scope=col>&lt;int&gt;</th></tr>\n",
       "</thead>\n",
       "<tbody>\n",
       "\t<tr><td>18</td><td>8</td><td>307</td><td>130</td><td>3504</td><td>12.0</td><td>70</td></tr>\n",
       "\t<tr><td>15</td><td>8</td><td>350</td><td>165</td><td>3693</td><td>11.5</td><td>70</td></tr>\n",
       "\t<tr><td>18</td><td>8</td><td>318</td><td>150</td><td>3436</td><td>11.0</td><td>70</td></tr>\n",
       "\t<tr><td>16</td><td>8</td><td>304</td><td>150</td><td>3433</td><td>12.0</td><td>70</td></tr>\n",
       "\t<tr><td>17</td><td>8</td><td>302</td><td>140</td><td>3449</td><td>10.5</td><td>70</td></tr>\n",
       "\t<tr><td>15</td><td>8</td><td>429</td><td>198</td><td>4341</td><td>10.0</td><td>70</td></tr>\n",
       "</tbody>\n",
       "</table>\n"
      ],
      "text/latex": [
       "A tibble: 6 × 7\n",
       "\\begin{tabular}{lllllll}\n",
       " mpg & cyl & disp & hp & wt & acc & year\\\\\n",
       " <dbl> & <int> & <dbl> & <dbl> & <dbl> & <dbl> & <int>\\\\\n",
       "\\hline\n",
       "\t 18 & 8 & 307 & 130 & 3504 & 12.0 & 70\\\\\n",
       "\t 15 & 8 & 350 & 165 & 3693 & 11.5 & 70\\\\\n",
       "\t 18 & 8 & 318 & 150 & 3436 & 11.0 & 70\\\\\n",
       "\t 16 & 8 & 304 & 150 & 3433 & 12.0 & 70\\\\\n",
       "\t 17 & 8 & 302 & 140 & 3449 & 10.5 & 70\\\\\n",
       "\t 15 & 8 & 429 & 198 & 4341 & 10.0 & 70\\\\\n",
       "\\end{tabular}\n"
      ],
      "text/markdown": [
       "\n",
       "A tibble: 6 × 7\n",
       "\n",
       "| mpg &lt;dbl&gt; | cyl &lt;int&gt; | disp &lt;dbl&gt; | hp &lt;dbl&gt; | wt &lt;dbl&gt; | acc &lt;dbl&gt; | year &lt;int&gt; |\n",
       "|---|---|---|---|---|---|---|\n",
       "| 18 | 8 | 307 | 130 | 3504 | 12.0 | 70 |\n",
       "| 15 | 8 | 350 | 165 | 3693 | 11.5 | 70 |\n",
       "| 18 | 8 | 318 | 150 | 3436 | 11.0 | 70 |\n",
       "| 16 | 8 | 304 | 150 | 3433 | 12.0 | 70 |\n",
       "| 17 | 8 | 302 | 140 | 3449 | 10.5 | 70 |\n",
       "| 15 | 8 | 429 | 198 | 4341 | 10.0 | 70 |\n",
       "\n"
      ],
      "text/plain": [
       "  mpg cyl disp hp  wt   acc  year\n",
       "1 18  8   307  130 3504 12.0 70  \n",
       "2 15  8   350  165 3693 11.5 70  \n",
       "3 18  8   318  150 3436 11.0 70  \n",
       "4 16  8   304  150 3433 12.0 70  \n",
       "5 17  8   302  140 3449 10.5 70  \n",
       "6 15  8   429  198 4341 10.0 70  "
      ]
     },
     "metadata": {},
     "output_type": "display_data"
    }
   ],
   "source": [
    "library(tidyverse)\n",
    "# read the data from the web\n",
    "autompg = read.table(\n",
    "  \"http://archive.ics.uci.edu/ml/machine-learning-databases/auto-mpg/auto-mpg.data\",\n",
    "  quote = \"\\\"\",\n",
    "  comment.char = \"\",\n",
    "  stringsAsFactors = FALSE)\n",
    "# give the dataframe headers\n",
    "colnames(autompg) = c(\"mpg\", \"cyl\", \"disp\", \"hp\", \"wt\", \"acc\", \"year\", \"origin\", \"name\")\n",
    "# remove missing data, which is stored as \"?\"\n",
    "autompg = subset(autompg, autompg$hp != \"?\")\n",
    "# remove the plymouth reliant, as it causes some issues\n",
    "autompg = subset(autompg, autompg$name != \"plymouth reliant\")\n",
    "# give the dataset row names, based on the engine, year and name\n",
    "rownames(autompg) = paste(autompg$cyl, \"cylinder\", autompg$year, autompg$name)\n",
    "# remove the variable for name, as well as origin\n",
    "autompg = subset(autompg, select = c(\"mpg\", \"cyl\", \"disp\", \"hp\", \"wt\", \"acc\", \"year\"))\n",
    "# change horsepower from character to numeric\n",
    "autompg$hp = as.numeric(autompg$hp)\n",
    "# check final structure of data\n",
    "str(autompg)\n",
    "\n",
    "autompg <- as_tibble(autompg)\n",
    "autompg %>% head()"
   ]
  },
  {
   "cell_type": "code",
   "execution_count": 11,
   "id": "plastic-latvia",
   "metadata": {},
   "outputs": [],
   "source": [
    "# model the reponse `mpg` as a linear function of `wt` and `year`\n",
    "mpg_model <- lm(mpg ~ wt + year, data = autompg)"
   ]
  },
  {
   "cell_type": "code",
   "execution_count": 12,
   "id": "european-spyware",
   "metadata": {},
   "outputs": [
    {
     "data": {
      "text/html": [
       "<style>\n",
       ".dl-inline {width: auto; margin:0; padding: 0}\n",
       ".dl-inline>dt, .dl-inline>dd {float: none; width: auto; display: inline-block}\n",
       ".dl-inline>dt::after {content: \":\\0020\"; padding-right: .5ex}\n",
       ".dl-inline>dt:not(:first-of-type) {padding-left: .5ex}\n",
       "</style><dl class=dl-inline><dt>(Intercept)</dt><dd>-14.63764194461</dd><dt>wt</dt><dd>-0.00663487587212608</dd><dt>year</dt><dd>0.761401954960947</dd></dl>\n"
      ],
      "text/latex": [
       "\\begin{description*}\n",
       "\\item[(Intercept)] -14.63764194461\n",
       "\\item[wt] -0.00663487587212608\n",
       "\\item[year] 0.761401954960947\n",
       "\\end{description*}\n"
      ],
      "text/markdown": [
       "(Intercept)\n",
       ":   -14.63764194461wt\n",
       ":   -0.00663487587212608year\n",
       ":   0.761401954960947\n",
       "\n"
      ],
      "text/plain": [
       "  (Intercept)            wt          year \n",
       "-14.637641945  -0.006634876   0.761401955 "
      ]
     },
     "metadata": {},
     "output_type": "display_data"
    }
   ],
   "source": [
    "coef(mpg_model)"
   ]
  },
  {
   "cell_type": "markdown",
   "id": "neural-cycling",
   "metadata": {},
   "source": [
    "Interpretation:\n",
    "- Coefficient of `year` is 0.7614. The average change in miles per gallon for one year increase, for a fixed weight car is 0.7614\n",
    "- Coefficients of `wt`:  the average change in miles per gallon for an increase in weightof one-pound for a car of a certain model year is -0.00663487"
   ]
  },
  {
   "cell_type": "code",
   "execution_count": 13,
   "id": "white-geography",
   "metadata": {},
   "outputs": [
    {
     "data": {
      "text/html": [
       "<table>\n",
       "<caption>A matrix: 3 × 4 of type dbl</caption>\n",
       "<thead>\n",
       "\t<tr><th></th><th scope=col>Estimate</th><th scope=col>Std. Error</th><th scope=col>t value</th><th scope=col>Pr(&gt;|t|)</th></tr>\n",
       "</thead>\n",
       "<tbody>\n",
       "\t<tr><th scope=row>(Intercept)</th><td>-14.637641945</td><td>4.0233913563</td><td> -3.638135</td><td> 3.118311e-04</td></tr>\n",
       "\t<tr><th scope=row>wt</th><td> -0.006634876</td><td>0.0002148504</td><td>-30.881372</td><td>1.850466e-106</td></tr>\n",
       "\t<tr><th scope=row>year</th><td>  0.761401955</td><td>0.0497265950</td><td> 15.311765</td><td> 1.036597e-41</td></tr>\n",
       "</tbody>\n",
       "</table>\n"
      ],
      "text/latex": [
       "A matrix: 3 × 4 of type dbl\n",
       "\\begin{tabular}{r|llll}\n",
       "  & Estimate & Std. Error & t value & Pr(>\\textbar{}t\\textbar{})\\\\\n",
       "\\hline\n",
       "\t(Intercept) & -14.637641945 & 4.0233913563 &  -3.638135 &  3.118311e-04\\\\\n",
       "\twt &  -0.006634876 & 0.0002148504 & -30.881372 & 1.850466e-106\\\\\n",
       "\tyear &   0.761401955 & 0.0497265950 &  15.311765 &  1.036597e-41\\\\\n",
       "\\end{tabular}\n"
      ],
      "text/markdown": [
       "\n",
       "A matrix: 3 × 4 of type dbl\n",
       "\n",
       "| <!--/--> | Estimate | Std. Error | t value | Pr(&gt;|t|) |\n",
       "|---|---|---|---|---|\n",
       "| (Intercept) | -14.637641945 | 4.0233913563 |  -3.638135 |  3.118311e-04 |\n",
       "| wt |  -0.006634876 | 0.0002148504 | -30.881372 | 1.850466e-106 |\n",
       "| year |   0.761401955 | 0.0497265950 |  15.311765 |  1.036597e-41 |\n",
       "\n"
      ],
      "text/plain": [
       "            Estimate      Std. Error   t value    Pr(>|t|)     \n",
       "(Intercept) -14.637641945 4.0233913563  -3.638135  3.118311e-04\n",
       "wt           -0.006634876 0.0002148504 -30.881372 1.850466e-106\n",
       "year          0.761401955 0.0497265950  15.311765  1.036597e-41"
      ]
     },
     "metadata": {},
     "output_type": "display_data"
    },
    {
     "data": {
      "text/html": [
       "0.808235479015204"
      ],
      "text/latex": [
       "0.808235479015204"
      ],
      "text/markdown": [
       "0.808235479015204"
      ],
      "text/plain": [
       "[1] 0.8082355"
      ]
     },
     "metadata": {},
     "output_type": "display_data"
    },
    {
     "data": {
      "text/html": [
       "3.43136679934585"
      ],
      "text/latex": [
       "3.43136679934585"
      ],
      "text/markdown": [
       "3.43136679934585"
      ],
      "text/plain": [
       "[1] 3.431367"
      ]
     },
     "metadata": {},
     "output_type": "display_data"
    },
    {
     "data": {
      "text/html": [
       "<style>\n",
       ".list-inline {list-style: none; margin:0; padding: 0}\n",
       ".list-inline>li {display: inline-block}\n",
       ".list-inline>li:not(:last-child)::after {content: \"\\00b7\"; padding: 0 .5ex}\n",
       "</style>\n",
       "<ol class=list-inline><li>'coefficients'</li><li>'residuals'</li><li>'effects'</li><li>'rank'</li><li>'fitted.values'</li><li>'assign'</li><li>'qr'</li><li>'df.residual'</li><li>'xlevels'</li><li>'call'</li><li>'terms'</li><li>'model'</li></ol>\n"
      ],
      "text/latex": [
       "\\begin{enumerate*}\n",
       "\\item 'coefficients'\n",
       "\\item 'residuals'\n",
       "\\item 'effects'\n",
       "\\item 'rank'\n",
       "\\item 'fitted.values'\n",
       "\\item 'assign'\n",
       "\\item 'qr'\n",
       "\\item 'df.residual'\n",
       "\\item 'xlevels'\n",
       "\\item 'call'\n",
       "\\item 'terms'\n",
       "\\item 'model'\n",
       "\\end{enumerate*}\n"
      ],
      "text/markdown": [
       "1. 'coefficients'\n",
       "2. 'residuals'\n",
       "3. 'effects'\n",
       "4. 'rank'\n",
       "5. 'fitted.values'\n",
       "6. 'assign'\n",
       "7. 'qr'\n",
       "8. 'df.residual'\n",
       "9. 'xlevels'\n",
       "10. 'call'\n",
       "11. 'terms'\n",
       "12. 'model'\n",
       "\n",
       "\n"
      ],
      "text/plain": [
       " [1] \"coefficients\"  \"residuals\"     \"effects\"       \"rank\"         \n",
       " [5] \"fitted.values\" \"assign\"        \"qr\"            \"df.residual\"  \n",
       " [9] \"xlevels\"       \"call\"          \"terms\"         \"model\"        "
      ]
     },
     "metadata": {},
     "output_type": "display_data"
    }
   ],
   "source": [
    "report <- summary(mpg_model)\n",
    "\n",
    "report$coefficients\n",
    "\n",
    "report$r.squared\n",
    "\n",
    "report$sigma\n",
    "\n",
    "names(mpg_model)"
   ]
  },
  {
   "cell_type": "markdown",
   "id": "governing-syntax",
   "metadata": {},
   "source": [
    "# Matrix Approach"
   ]
  },
  {
   "cell_type": "code",
   "execution_count": 14,
   "id": "biological-black",
   "metadata": {},
   "outputs": [
    {
     "data": {
      "text/html": [
       "<style>\n",
       ".dl-inline {width: auto; margin:0; padding: 0}\n",
       ".dl-inline>dt, .dl-inline>dd {float: none; width: auto; display: inline-block}\n",
       ".dl-inline>dt::after {content: \":\\0020\"; padding-right: .5ex}\n",
       ".dl-inline>dt:not(:first-of-type) {padding-left: .5ex}\n",
       "</style><dl class=dl-inline><dt>(Intercept)</dt><dd>-14.63764194461</dd><dt>wt</dt><dd>-0.00663487587212608</dd><dt>year</dt><dd>0.761401954960947</dd></dl>\n"
      ],
      "text/latex": [
       "\\begin{description*}\n",
       "\\item[(Intercept)] -14.63764194461\n",
       "\\item[wt] -0.00663487587212608\n",
       "\\item[year] 0.761401954960947\n",
       "\\end{description*}\n"
      ],
      "text/markdown": [
       "(Intercept)\n",
       ":   -14.63764194461wt\n",
       ":   -0.00663487587212608year\n",
       ":   0.761401954960947\n",
       "\n"
      ],
      "text/plain": [
       "  (Intercept)            wt          year \n",
       "-14.637641945  -0.006634876   0.761401955 "
      ]
     },
     "metadata": {},
     "output_type": "display_data"
    },
    {
     "data": {
      "text/html": [
       "<table>\n",
       "<caption>A matrix: 1 × 1 of type dbl</caption>\n",
       "<tbody>\n",
       "\t<tr><td>3.431367</td></tr>\n",
       "</tbody>\n",
       "</table>\n"
      ],
      "text/latex": [
       "A matrix: 1 × 1 of type dbl\n",
       "\\begin{tabular}{l}\n",
       "\t 3.431367\\\\\n",
       "\\end{tabular}\n"
      ],
      "text/markdown": [
       "\n",
       "A matrix: 1 × 1 of type dbl\n",
       "\n",
       "| 3.431367 |\n",
       "\n"
      ],
      "text/plain": [
       "     [,1]    \n",
       "[1,] 3.431367"
      ]
     },
     "metadata": {},
     "output_type": "display_data"
    },
    {
     "data": {
      "text/html": [
       "3.43136679934585"
      ],
      "text/latex": [
       "3.43136679934585"
      ],
      "text/markdown": [
       "3.43136679934585"
      ],
      "text/plain": [
       "[1] 3.431367"
      ]
     },
     "metadata": {},
     "output_type": "display_data"
    }
   ],
   "source": [
    "n <- nrow(autompg)\n",
    "X <- cbind(autompg$wt, autompg$year, rep(1, n))\n",
    "p <- length(coef(mpg_model))\n",
    "y <- autompg$mpg\n",
    "# estimated coefficients\n",
    "beta_hat <- solve(t(X) %*% X) %*% t(X) %*% y\n",
    "\n",
    "coef(mpg_model)\n",
    "\n",
    "\n",
    "y_hat <- X %*% beta_hat\n",
    "e <- y - y_hat\n",
    "sig <- sqrt(crossprod(e, e) / (n - p))\n",
    "\n",
    "sig\n",
    "report$sigma"
   ]
  },
  {
   "cell_type": "markdown",
   "id": "moderate-probe",
   "metadata": {},
   "source": [
    "# Sampling Distribution"
   ]
  },
  {
   "cell_type": "markdown",
   "id": "touched-blink",
   "metadata": {},
   "source": [
    "Hypothesis testing for $\\beta_1$ (Null hypothesis assumes $\\beta_1 = 0$, there is not a liear replationship between weight and fuel efficiency, given that a term for year is in the model. Alternative hypothesis, $\\beta_1 \\ne 0$). We can use the same idea if you want to do hypothesis testing for $\\beta_2$\n",
    "$$H_0: Y_i = \\beta_0 + \\beta_2 x_2 + \\epsilon_i$$ \n",
    "$$H_1: Y_i = \\beta_0 + \\beta_1 x_1 + \\beta_2 x_2 + \\epsilon_i$$\n",
    "This is important. We are not simply testing whether or not there is a relationship between weight and fuel efficiency. We are testing if there is a relationship between weight and fuel efficiency, given that a term for year is in the model. (Note, we dropped some indexing here, for readability.)"
   ]
  },
  {
   "cell_type": "code",
   "execution_count": 15,
   "id": "rational-tobago",
   "metadata": {},
   "outputs": [
    {
     "data": {
      "text/html": [
       "<table>\n",
       "<caption>A matrix: 3 × 4 of type dbl</caption>\n",
       "<thead>\n",
       "\t<tr><th></th><th scope=col>Estimate</th><th scope=col>Std. Error</th><th scope=col>t value</th><th scope=col>Pr(&gt;|t|)</th></tr>\n",
       "</thead>\n",
       "<tbody>\n",
       "\t<tr><th scope=row>(Intercept)</th><td>-14.637641945</td><td>4.0233913563</td><td> -3.638135</td><td> 3.118311e-04</td></tr>\n",
       "\t<tr><th scope=row>wt</th><td> -0.006634876</td><td>0.0002148504</td><td>-30.881372</td><td>1.850466e-106</td></tr>\n",
       "\t<tr><th scope=row>year</th><td>  0.761401955</td><td>0.0497265950</td><td> 15.311765</td><td> 1.036597e-41</td></tr>\n",
       "</tbody>\n",
       "</table>\n"
      ],
      "text/latex": [
       "A matrix: 3 × 4 of type dbl\n",
       "\\begin{tabular}{r|llll}\n",
       "  & Estimate & Std. Error & t value & Pr(>\\textbar{}t\\textbar{})\\\\\n",
       "\\hline\n",
       "\t(Intercept) & -14.637641945 & 4.0233913563 &  -3.638135 &  3.118311e-04\\\\\n",
       "\twt &  -0.006634876 & 0.0002148504 & -30.881372 & 1.850466e-106\\\\\n",
       "\tyear &   0.761401955 & 0.0497265950 &  15.311765 &  1.036597e-41\\\\\n",
       "\\end{tabular}\n"
      ],
      "text/markdown": [
       "\n",
       "A matrix: 3 × 4 of type dbl\n",
       "\n",
       "| <!--/--> | Estimate | Std. Error | t value | Pr(&gt;|t|) |\n",
       "|---|---|---|---|---|\n",
       "| (Intercept) | -14.637641945 | 4.0233913563 |  -3.638135 |  3.118311e-04 |\n",
       "| wt |  -0.006634876 | 0.0002148504 | -30.881372 | 1.850466e-106 |\n",
       "| year |   0.761401955 | 0.0497265950 |  15.311765 |  1.036597e-41 |\n",
       "\n"
      ],
      "text/plain": [
       "            Estimate      Std. Error   t value    Pr(>|t|)     \n",
       "(Intercept) -14.637641945 4.0233913563  -3.638135  3.118311e-04\n",
       "wt           -0.006634876 0.0002148504 -30.881372 1.850466e-106\n",
       "year          0.761401955 0.0497265950  15.311765  1.036597e-41"
      ]
     },
     "metadata": {},
     "output_type": "display_data"
    }
   ],
   "source": [
    "# hypothesis testing for paramters\n",
    "report$coefficients"
   ]
  },
  {
   "cell_type": "code",
   "execution_count": 5,
   "id": "understanding-martial",
   "metadata": {},
   "outputs": [
    {
     "data": {
      "text/html": [
       "<table>\n",
       "<caption>A matrix: 3 × 2 of type dbl</caption>\n",
       "<thead>\n",
       "\t<tr><th></th><th scope=col>0.5 %</th><th scope=col>99.5 %</th></tr>\n",
       "</thead>\n",
       "<tbody>\n",
       "\t<tr><th scope=row>(Intercept)</th><td>-25.052563681</td><td>-4.222720208</td></tr>\n",
       "\t<tr><th scope=row>wt</th><td> -0.007191036</td><td>-0.006078716</td></tr>\n",
       "\t<tr><th scope=row>year</th><td>  0.632680051</td><td> 0.890123859</td></tr>\n",
       "</tbody>\n",
       "</table>\n"
      ],
      "text/latex": [
       "A matrix: 3 × 2 of type dbl\n",
       "\\begin{tabular}{r|ll}\n",
       "  & 0.5 \\% & 99.5 \\%\\\\\n",
       "\\hline\n",
       "\t(Intercept) & -25.052563681 & -4.222720208\\\\\n",
       "\twt &  -0.007191036 & -0.006078716\\\\\n",
       "\tyear &   0.632680051 &  0.890123859\\\\\n",
       "\\end{tabular}\n"
      ],
      "text/markdown": [
       "\n",
       "A matrix: 3 × 2 of type dbl\n",
       "\n",
       "| <!--/--> | 0.5 % | 99.5 % |\n",
       "|---|---|---|\n",
       "| (Intercept) | -25.052563681 | -4.222720208 |\n",
       "| wt |  -0.007191036 | -0.006078716 |\n",
       "| year |   0.632680051 |  0.890123859 |\n",
       "\n"
      ],
      "text/plain": [
       "            0.5 %         99.5 %      \n",
       "(Intercept) -25.052563681 -4.222720208\n",
       "wt           -0.007191036 -0.006078716\n",
       "year          0.632680051  0.890123859"
      ]
     },
     "metadata": {},
     "output_type": "display_data"
    }
   ],
   "source": [
    "# confidence interval for model parameters\n",
    "confint(mpg_model, level = .99)"
   ]
  },
  {
   "cell_type": "markdown",
   "id": "ongoing-champion",
   "metadata": {},
   "source": [
    "# Confidence interval for mean response and prediction band"
   ]
  },
  {
   "cell_type": "code",
   "execution_count": 16,
   "id": "stuck-property",
   "metadata": {},
   "outputs": [
    {
     "data": {
      "text/html": [
       "<table>\n",
       "<caption>A matrix: 6 × 3 of type dbl</caption>\n",
       "<thead>\n",
       "\t<tr><th></th><th scope=col>fit</th><th scope=col>lwr</th><th scope=col>upr</th></tr>\n",
       "</thead>\n",
       "<tbody>\n",
       "\t<tr><th scope=row>1</th><td>15.411890</td><td>14.759546</td><td>16.06423</td></tr>\n",
       "\t<tr><th scope=row>2</th><td>14.157898</td><td>13.495507</td><td>14.82029</td></tr>\n",
       "\t<tr><th scope=row>3</th><td>15.863061</td><td>15.211972</td><td>16.51415</td></tr>\n",
       "\t<tr><th scope=row>4</th><td>15.882966</td><td>15.231903</td><td>16.53403</td></tr>\n",
       "\t<tr><th scope=row>5</th><td>15.776808</td><td>15.125576</td><td>16.42804</td></tr>\n",
       "\t<tr><th scope=row>6</th><td> 9.858499</td><td> 9.096372</td><td>10.62063</td></tr>\n",
       "</tbody>\n",
       "</table>\n"
      ],
      "text/latex": [
       "A matrix: 6 × 3 of type dbl\n",
       "\\begin{tabular}{r|lll}\n",
       "  & fit & lwr & upr\\\\\n",
       "\\hline\n",
       "\t1 & 15.411890 & 14.759546 & 16.06423\\\\\n",
       "\t2 & 14.157898 & 13.495507 & 14.82029\\\\\n",
       "\t3 & 15.863061 & 15.211972 & 16.51415\\\\\n",
       "\t4 & 15.882966 & 15.231903 & 16.53403\\\\\n",
       "\t5 & 15.776808 & 15.125576 & 16.42804\\\\\n",
       "\t6 &  9.858499 &  9.096372 & 10.62063\\\\\n",
       "\\end{tabular}\n"
      ],
      "text/markdown": [
       "\n",
       "A matrix: 6 × 3 of type dbl\n",
       "\n",
       "| <!--/--> | fit | lwr | upr |\n",
       "|---|---|---|---|\n",
       "| 1 | 15.411890 | 14.759546 | 16.06423 |\n",
       "| 2 | 14.157898 | 13.495507 | 14.82029 |\n",
       "| 3 | 15.863061 | 15.211972 | 16.51415 |\n",
       "| 4 | 15.882966 | 15.231903 | 16.53403 |\n",
       "| 5 | 15.776808 | 15.125576 | 16.42804 |\n",
       "| 6 |  9.858499 |  9.096372 | 10.62063 |\n",
       "\n"
      ],
      "text/plain": [
       "  fit       lwr       upr     \n",
       "1 15.411890 14.759546 16.06423\n",
       "2 14.157898 13.495507 14.82029\n",
       "3 15.863061 15.211972 16.51415\n",
       "4 15.882966 15.231903 16.53403\n",
       "5 15.776808 15.125576 16.42804\n",
       "6  9.858499  9.096372 10.62063"
      ]
     },
     "metadata": {},
     "output_type": "display_data"
    },
    {
     "data": {
      "text/html": [
       "<table>\n",
       "<caption>A matrix: 6 × 3 of type dbl</caption>\n",
       "<thead>\n",
       "\t<tr><th></th><th scope=col>fit</th><th scope=col>lwr</th><th scope=col>upr</th></tr>\n",
       "</thead>\n",
       "<tbody>\n",
       "\t<tr><th scope=row>1</th><td>15.411890</td><td>8.633970</td><td>22.18981</td></tr>\n",
       "\t<tr><th scope=row>2</th><td>14.157898</td><td>7.379004</td><td>20.93679</td></tr>\n",
       "\t<tr><th scope=row>3</th><td>15.863061</td><td>9.085262</td><td>22.64086</td></tr>\n",
       "\t<tr><th scope=row>4</th><td>15.882966</td><td>9.105169</td><td>22.66076</td></tr>\n",
       "\t<tr><th scope=row>5</th><td>15.776808</td><td>8.998995</td><td>22.55462</td></tr>\n",
       "\t<tr><th scope=row>6</th><td> 9.858499</td><td>3.069134</td><td>16.64786</td></tr>\n",
       "</tbody>\n",
       "</table>\n"
      ],
      "text/latex": [
       "A matrix: 6 × 3 of type dbl\n",
       "\\begin{tabular}{r|lll}\n",
       "  & fit & lwr & upr\\\\\n",
       "\\hline\n",
       "\t1 & 15.411890 & 8.633970 & 22.18981\\\\\n",
       "\t2 & 14.157898 & 7.379004 & 20.93679\\\\\n",
       "\t3 & 15.863061 & 9.085262 & 22.64086\\\\\n",
       "\t4 & 15.882966 & 9.105169 & 22.66076\\\\\n",
       "\t5 & 15.776808 & 8.998995 & 22.55462\\\\\n",
       "\t6 &  9.858499 & 3.069134 & 16.64786\\\\\n",
       "\\end{tabular}\n"
      ],
      "text/markdown": [
       "\n",
       "A matrix: 6 × 3 of type dbl\n",
       "\n",
       "| <!--/--> | fit | lwr | upr |\n",
       "|---|---|---|---|\n",
       "| 1 | 15.411890 | 8.633970 | 22.18981 |\n",
       "| 2 | 14.157898 | 7.379004 | 20.93679 |\n",
       "| 3 | 15.863061 | 9.085262 | 22.64086 |\n",
       "| 4 | 15.882966 | 9.105169 | 22.66076 |\n",
       "| 5 | 15.776808 | 8.998995 | 22.55462 |\n",
       "| 6 |  9.858499 | 3.069134 | 16.64786 |\n",
       "\n"
      ],
      "text/plain": [
       "  fit       lwr      upr     \n",
       "1 15.411890 8.633970 22.18981\n",
       "2 14.157898 7.379004 20.93679\n",
       "3 15.863061 9.085262 22.64086\n",
       "4 15.882966 9.105169 22.66076\n",
       "5 15.776808 8.998995 22.55462\n",
       "6  9.858499 3.069134 16.64786"
      ]
     },
     "metadata": {},
     "output_type": "display_data"
    }
   ],
   "source": [
    "# mean response\n",
    "predict(mpg_model, autompg, interval = 'confidence') %>% head()\n",
    "# prediction band\n",
    "predict(mpg_model, autompg, interval = 'prediction') %>% head()"
   ]
  },
  {
   "cell_type": "markdown",
   "id": "classified-facial",
   "metadata": {},
   "source": [
    "# Significance of regression"
   ]
  },
  {
   "cell_type": "code",
   "execution_count": 18,
   "id": "vanilla-collective",
   "metadata": {},
   "outputs": [
    {
     "data": {
      "text/html": [
       "0.808235479015204"
      ],
      "text/latex": [
       "0.808235479015204"
      ],
      "text/markdown": [
       "0.808235479015204"
      ],
      "text/plain": [
       "[1] 0.8082355"
      ]
     },
     "metadata": {},
     "output_type": "display_data"
    }
   ],
   "source": [
    "summary(mpg_model)$r.squared"
   ]
  },
  {
   "cell_type": "markdown",
   "id": "structured-camel",
   "metadata": {},
   "source": [
    "**Interpretation**: 80.82\n",
    "%\n",
    "  for the observed variation in miles per gallon is explained by the linear relationship with the two predictor variables, weight and year."
   ]
  },
  {
   "cell_type": "markdown",
   "id": "secondary-kruger",
   "metadata": {},
   "source": [
    "---\n",
    "Null hypothesis: all coefficents are zero$$H_0:  \\beta_1 = \\beta_2 = ... = \\beta_p = 0$$\n",
    "Alternative hypothesis: at least one coefficient is not zero\n"
   ]
  },
  {
   "cell_type": "code",
   "execution_count": 17,
   "id": "intelligent-spread",
   "metadata": {},
   "outputs": [
    {
     "data": {
      "text/html": [
       "<table>\n",
       "<caption>A anova: 2 × 6</caption>\n",
       "<thead>\n",
       "\t<tr><th></th><th scope=col>Res.Df</th><th scope=col>RSS</th><th scope=col>Df</th><th scope=col>Sum of Sq</th><th scope=col>F</th><th scope=col>Pr(&gt;F)</th></tr>\n",
       "\t<tr><th></th><th scope=col>&lt;dbl&gt;</th><th scope=col>&lt;dbl&gt;</th><th scope=col>&lt;dbl&gt;</th><th scope=col>&lt;dbl&gt;</th><th scope=col>&lt;dbl&gt;</th><th scope=col>&lt;dbl&gt;</th></tr>\n",
       "</thead>\n",
       "<tbody>\n",
       "\t<tr><th scope=row>1</th><td>389</td><td>23761.672</td><td>NA</td><td>      NA</td><td>      NA</td><td>           NA</td></tr>\n",
       "\t<tr><th scope=row>2</th><td>387</td><td> 4556.646</td><td> 2</td><td>19205.03</td><td>815.5501</td><td>1.643078e-139</td></tr>\n",
       "</tbody>\n",
       "</table>\n"
      ],
      "text/latex": [
       "A anova: 2 × 6\n",
       "\\begin{tabular}{r|llllll}\n",
       "  & Res.Df & RSS & Df & Sum of Sq & F & Pr(>F)\\\\\n",
       "  & <dbl> & <dbl> & <dbl> & <dbl> & <dbl> & <dbl>\\\\\n",
       "\\hline\n",
       "\t1 & 389 & 23761.672 & NA &       NA &       NA &            NA\\\\\n",
       "\t2 & 387 &  4556.646 &  2 & 19205.03 & 815.5501 & 1.643078e-139\\\\\n",
       "\\end{tabular}\n"
      ],
      "text/markdown": [
       "\n",
       "A anova: 2 × 6\n",
       "\n",
       "| <!--/--> | Res.Df &lt;dbl&gt; | RSS &lt;dbl&gt; | Df &lt;dbl&gt; | Sum of Sq &lt;dbl&gt; | F &lt;dbl&gt; | Pr(&gt;F) &lt;dbl&gt; |\n",
       "|---|---|---|---|---|---|---|\n",
       "| 1 | 389 | 23761.672 | NA |       NA |       NA |            NA |\n",
       "| 2 | 387 |  4556.646 |  2 | 19205.03 | 815.5501 | 1.643078e-139 |\n",
       "\n"
      ],
      "text/plain": [
       "  Res.Df RSS       Df Sum of Sq F        Pr(>F)       \n",
       "1 389    23761.672 NA       NA        NA            NA\n",
       "2 387     4556.646  2 19205.03  815.5501 1.643078e-139"
      ]
     },
     "metadata": {},
     "output_type": "display_data"
    }
   ],
   "source": [
    "null_mpg_model <- lm(mpg~1, data = autompg)\n",
    "full_mpg_model <- lm(mpg~wt+year, data = autompg)\n",
    "anova(null_mpg_model, full_mpg_model)"
   ]
  },
  {
   "cell_type": "markdown",
   "id": "anticipated-tooth",
   "metadata": {},
   "source": [
    "We see that the value of the   F statistic is 815.55, and the p-value is extremely low, so we reject the null hypothesis at any reasonable   α and say that the regression is significant. At least one of `wt` or `year` has a useful linear relationship with `mpg`."
   ]
  },
  {
   "cell_type": "markdown",
   "id": "south-radical",
   "metadata": {},
   "source": [
    "# Nested Model"
   ]
  },
  {
   "cell_type": "markdown",
   "id": "saving-mining",
   "metadata": {},
   "source": [
    "Read the book, this is very important"
   ]
  },
  {
   "cell_type": "markdown",
   "id": "animal-therapy",
   "metadata": {},
   "source": [
    "$H_0: \\beta_{cyl} = \\beta_{disp} = \\beta_{hp} = \\beta_{acc} = 0$  \n",
    "$H_1$: at least of one the above is not zero"
   ]
  },
  {
   "cell_type": "code",
   "execution_count": 21,
   "id": "bulgarian-universe",
   "metadata": {},
   "outputs": [
    {
     "data": {
      "text/html": [
       "<table>\n",
       "<caption>A anova: 2 × 6</caption>\n",
       "<thead>\n",
       "\t<tr><th></th><th scope=col>Res.Df</th><th scope=col>RSS</th><th scope=col>Df</th><th scope=col>Sum of Sq</th><th scope=col>F</th><th scope=col>Pr(&gt;F)</th></tr>\n",
       "\t<tr><th></th><th scope=col>&lt;dbl&gt;</th><th scope=col>&lt;dbl&gt;</th><th scope=col>&lt;dbl&gt;</th><th scope=col>&lt;dbl&gt;</th><th scope=col>&lt;dbl&gt;</th><th scope=col>&lt;dbl&gt;</th></tr>\n",
       "</thead>\n",
       "<tbody>\n",
       "\t<tr><th scope=row>1</th><td>387</td><td>4556.646</td><td>NA</td><td>      NA</td><td>       NA</td><td>       NA</td></tr>\n",
       "\t<tr><th scope=row>2</th><td>383</td><td>4530.466</td><td> 4</td><td>26.17981</td><td>0.5533023</td><td>0.6967249</td></tr>\n",
       "</tbody>\n",
       "</table>\n"
      ],
      "text/latex": [
       "A anova: 2 × 6\n",
       "\\begin{tabular}{r|llllll}\n",
       "  & Res.Df & RSS & Df & Sum of Sq & F & Pr(>F)\\\\\n",
       "  & <dbl> & <dbl> & <dbl> & <dbl> & <dbl> & <dbl>\\\\\n",
       "\\hline\n",
       "\t1 & 387 & 4556.646 & NA &       NA &        NA &        NA\\\\\n",
       "\t2 & 383 & 4530.466 &  4 & 26.17981 & 0.5533023 & 0.6967249\\\\\n",
       "\\end{tabular}\n"
      ],
      "text/markdown": [
       "\n",
       "A anova: 2 × 6\n",
       "\n",
       "| <!--/--> | Res.Df &lt;dbl&gt; | RSS &lt;dbl&gt; | Df &lt;dbl&gt; | Sum of Sq &lt;dbl&gt; | F &lt;dbl&gt; | Pr(&gt;F) &lt;dbl&gt; |\n",
       "|---|---|---|---|---|---|---|\n",
       "| 1 | 387 | 4556.646 | NA |       NA |        NA |        NA |\n",
       "| 2 | 383 | 4530.466 |  4 | 26.17981 | 0.5533023 | 0.6967249 |\n",
       "\n"
      ],
      "text/plain": [
       "  Res.Df RSS      Df Sum of Sq F         Pr(>F)   \n",
       "1 387    4556.646 NA       NA         NA        NA\n",
       "2 383    4530.466  4 26.17981  0.5533023 0.6967249"
      ]
     },
     "metadata": {},
     "output_type": "display_data"
    }
   ],
   "source": [
    "null_mpg_model <- lm(mpg~wt+year, data = autompg)\n",
    "full_mpg_model <- lm(mpg~., data = autompg)\n",
    "anova(null_mpg_model, full_mpg_model)"
   ]
  },
  {
   "cell_type": "markdown",
   "id": "lovely-distinction",
   "metadata": {},
   "source": [
    "p_value > 0.05, so we cannot reject the null hypothesis that the coefficients of variables that are not included in the full model (\"cyl\", \"disp\", \"hp\", \"acc\") are equal to 0."
   ]
  },
  {
   "cell_type": "markdown",
   "id": "useful-treasurer",
   "metadata": {},
   "source": [
    "# Simulation"
   ]
  },
  {
   "cell_type": "code",
   "execution_count": 23,
   "id": "competitive-ideal",
   "metadata": {},
   "outputs": [
    {
     "data": {
      "text/html": [
       "<style>\n",
       ".dl-inline {width: auto; margin:0; padding: 0}\n",
       ".dl-inline>dt, .dl-inline>dd {float: none; width: auto; display: inline-block}\n",
       ".dl-inline>dt::after {content: \":\\0020\"; padding-right: .5ex}\n",
       ".dl-inline>dt:not(:first-of-type) {padding-left: .5ex}\n",
       "</style><dl class=dl-inline><dt>(Intercept)</dt><dd>6.89186983766921</dd><dt>x1</dt><dd>-2.02565233096708</dd><dt>x2</dt><dd>5.98576583795577</dd></dl>\n"
      ],
      "text/latex": [
       "\\begin{description*}\n",
       "\\item[(Intercept)] 6.89186983766921\n",
       "\\item[x1] -2.02565233096708\n",
       "\\item[x2] 5.98576583795577\n",
       "\\end{description*}\n"
      ],
      "text/markdown": [
       "(Intercept)\n",
       ":   6.89186983766921x1\n",
       ":   -2.02565233096708x2\n",
       ":   5.98576583795577\n",
       "\n"
      ],
      "text/plain": [
       "(Intercept)          x1          x2 \n",
       "   6.891870   -2.025652    5.985766 "
      ]
     },
     "metadata": {},
     "output_type": "display_data"
    },
    {
     "data": {
      "text/html": [
       "<style>\n",
       ".list-inline {list-style: none; margin:0; padding: 0}\n",
       ".list-inline>li {display: inline-block}\n",
       ".list-inline>li:not(:last-child)::after {content: \"\\00b7\"; padding: 0 .5ex}\n",
       "</style>\n",
       "<ol class=list-inline><li>-0.00663487587212646</li><li>0.76140195496096</li><li>-14.6376419446087</li></ol>\n"
      ],
      "text/latex": [
       "\\begin{enumerate*}\n",
       "\\item -0.00663487587212646\n",
       "\\item 0.76140195496096\n",
       "\\item -14.6376419446087\n",
       "\\end{enumerate*}\n"
      ],
      "text/markdown": [
       "1. -0.00663487587212646\n",
       "2. 0.76140195496096\n",
       "3. -14.6376419446087\n",
       "\n",
       "\n"
      ],
      "text/plain": [
       "[1]  -0.006634876   0.761401955 -14.637641945"
      ]
     },
     "metadata": {},
     "output_type": "display_data"
    },
    {
     "data": {
      "text/html": [
       "<style>\n",
       ".list-inline {list-style: none; margin:0; padding: 0}\n",
       ".list-inline>li {display: inline-block}\n",
       ".list-inline>li:not(:last-child)::after {content: \"\\00b7\"; padding: 0 .5ex}\n",
       "</style>\n",
       "<ol class=list-inline><li>5</li><li>-2</li><li>6</li></ol>\n"
      ],
      "text/latex": [
       "\\begin{enumerate*}\n",
       "\\item 5\n",
       "\\item -2\n",
       "\\item 6\n",
       "\\end{enumerate*}\n"
      ],
      "text/markdown": [
       "1. 5\n",
       "2. -2\n",
       "3. 6\n",
       "\n",
       "\n"
      ],
      "text/plain": [
       "[1]  5 -2  6"
      ]
     },
     "metadata": {},
     "output_type": "display_data"
    },
    {
     "data": {
      "text/html": [
       "4.29430671462528"
      ],
      "text/latex": [
       "4.29430671462528"
      ],
      "text/markdown": [
       "4.29430671462528"
      ],
      "text/plain": [
       "[1] 4.294307"
      ]
     },
     "metadata": {},
     "output_type": "display_data"
    },
    {
     "data": {
      "text/html": [
       "4.29430671462528"
      ],
      "text/latex": [
       "4.29430671462528"
      ],
      "text/markdown": [
       "4.29430671462528"
      ],
      "text/plain": [
       "[1] 4.294307"
      ]
     },
     "metadata": {},
     "output_type": "display_data"
    },
    {
     "data": {
      "text/html": [
       "<style>\n",
       ".dl-inline {width: auto; margin:0; padding: 0}\n",
       ".dl-inline>dt, .dl-inline>dd {float: none; width: auto; display: inline-block}\n",
       ".dl-inline>dt::after {content: \":\\0020\"; padding-right: .5ex}\n",
       ".dl-inline>dt:not(:first-of-type) {padding-left: .5ex}\n",
       "</style><dl class=dl-inline><dt>(Intercept)</dt><dd>4.95525967617806</dd><dt>x1</dt><dd>-1.99935992416466</dd><dt>x2</dt><dd>5.99995070635608</dd></dl>\n"
      ],
      "text/latex": [
       "\\begin{description*}\n",
       "\\item[(Intercept)] 4.95525967617806\n",
       "\\item[x1] -1.99935992416466\n",
       "\\item[x2] 5.99995070635608\n",
       "\\end{description*}\n"
      ],
      "text/markdown": [
       "(Intercept)\n",
       ":   4.95525967617806x1\n",
       ":   -1.99935992416466x2\n",
       ":   5.99995070635608\n",
       "\n"
      ],
      "text/plain": [
       "(Intercept)          x1          x2 \n",
       "   4.955260   -1.999360    5.999951 "
      ]
     },
     "metadata": {},
     "output_type": "display_data"
    },
    {
     "data": {
      "text/html": [
       "<style>\n",
       ".list-inline {list-style: none; margin:0; padding: 0}\n",
       ".list-inline>li {display: inline-block}\n",
       ".list-inline>li:not(:last-child)::after {content: \"\\00b7\"; padding: 0 .5ex}\n",
       "</style>\n",
       "<ol class=list-inline><li>5</li><li>-2</li><li>6</li></ol>\n"
      ],
      "text/latex": [
       "\\begin{enumerate*}\n",
       "\\item 5\n",
       "\\item -2\n",
       "\\item 6\n",
       "\\end{enumerate*}\n"
      ],
      "text/markdown": [
       "1. 5\n",
       "2. -2\n",
       "3. 6\n",
       "\n",
       "\n"
      ],
      "text/plain": [
       "[1]  5 -2  6"
      ]
     },
     "metadata": {},
     "output_type": "display_data"
    },
    {
     "data": {
      "image/png": "[encoded data removed]",
      "text/plain": [
       "Plot with title \"Histogram of simulation_beta$x1\""
      ]
     },
     "metadata": {
      "image/png": {
       "height": 420,
       "width": 420
      }
     },
     "output_type": "display_data"
    }
   ],
   "source": [
    "set.seed(1337)\n",
    "n <- 100\n",
    "p <- 3\n",
    "beta_0 <- 5\n",
    "beta_1 <- -2\n",
    "beta_2 <- 6\n",
    "beta <- c(beta_0, beta_1, beta_2)\n",
    "sigma <- 4\n",
    "\n",
    "simulate_data <- function() {\n",
    "  x0 <- rep(1, n)\n",
    "  x1 <- sample(seq_len(n))\n",
    "  x2 <- sample(seq_len(n))\n",
    "  X <- cbind(x0, x1, x2)\n",
    "  eps <- rnorm(n, mean = 0, sd = sigma)\n",
    "  y <- eps + X %*% beta\n",
    "  sim_data <- tibble(x1, x2, y = as.vector(y))\n",
    "}\n",
    "\n",
    "sim_data <- simulate_data()\n",
    "\n",
    "mod <- lm(y ~ x1 + x2, data = sim_data)\n",
    "\n",
    "beta_hat <- solve(t(X) %*% X) %*% t(X) %*% y\n",
    "\n",
    "\n",
    "coef(mod)\n",
    "as.vector(beta_hat)\n",
    "beta\n",
    "\n",
    "\n",
    "sqrt(sum(resid(mod)^2)/ (n - p))\n",
    "summary(mod)$sigma\n",
    "\n",
    "\n",
    "B <- 1000\n",
    "# simulation coefficients for 1000 times\n",
    "simulation_beta <- replicate(B,\n",
    "  {\n",
    "    sim_data <- simulate_data()\n",
    "    mod <- lm(y ~ x1 + x2, data = sim_data)\n",
    "    coef(mod)\n",
    "  },\n",
    "  simplify = F\n",
    ") %>% map_dfr(~.)\n",
    "\n",
    "\n",
    "# sampling distribution of beta_1\n",
    "hist(simulation_beta$x1, breaks = 20, prob = T, border = 'dodgerblue')\n",
    "\n",
    "\n",
    "# compare the mean value of simulated beta versus the true value of beta\n",
    "simulation_beta %>% map_dbl(mean)\n",
    "beta\n",
    "\n",
    "\n"
   ]
  },
  {
   "cell_type": "code",
   "execution_count": 2,
   "id": "novel-lottery",
   "metadata": {},
   "outputs": [
    {
     "data": {
      "text/html": [
       "<table>\n",
       "<caption>A tibble: 6 × 3</caption>\n",
       "<thead>\n",
       "\t<tr><th scope=col>beta_hat_1</th><th scope=col>beta_2_pval</th><th scope=col>beta_3_pval</th></tr>\n",
       "\t<tr><th scope=col>&lt;dbl&gt;</th><th scope=col>&lt;dbl&gt;</th><th scope=col>&lt;dbl&gt;</th></tr>\n",
       "</thead>\n",
       "<tbody>\n",
       "\t<tr><td>2.834596</td><td>2.129624e-11</td><td>0.45730817</td></tr>\n",
       "\t<tr><td>2.775623</td><td>1.364940e-13</td><td>0.04848629</td></tr>\n",
       "\t<tr><td>2.941223</td><td>6.616321e-11</td><td>0.70363594</td></tr>\n",
       "\t<tr><td>3.307652</td><td>6.898728e-13</td><td>0.91280021</td></tr>\n",
       "\t<tr><td>2.691872</td><td>1.818050e-12</td><td>0.97542166</td></tr>\n",
       "\t<tr><td>3.157404</td><td>1.284115e-12</td><td>0.39105575</td></tr>\n",
       "</tbody>\n",
       "</table>\n"
      ],
      "text/latex": [
       "A tibble: 6 × 3\n",
       "\\begin{tabular}{lll}\n",
       " beta\\_hat\\_1 & beta\\_2\\_pval & beta\\_3\\_pval\\\\\n",
       " <dbl> & <dbl> & <dbl>\\\\\n",
       "\\hline\n",
       "\t 2.834596 & 2.129624e-11 & 0.45730817\\\\\n",
       "\t 2.775623 & 1.364940e-13 & 0.04848629\\\\\n",
       "\t 2.941223 & 6.616321e-11 & 0.70363594\\\\\n",
       "\t 3.307652 & 6.898728e-13 & 0.91280021\\\\\n",
       "\t 2.691872 & 1.818050e-12 & 0.97542166\\\\\n",
       "\t 3.157404 & 1.284115e-12 & 0.39105575\\\\\n",
       "\\end{tabular}\n"
      ],
      "text/markdown": [
       "\n",
       "A tibble: 6 × 3\n",
       "\n",
       "| beta_hat_1 &lt;dbl&gt; | beta_2_pval &lt;dbl&gt; | beta_3_pval &lt;dbl&gt; |\n",
       "|---|---|---|\n",
       "| 2.834596 | 2.129624e-11 | 0.45730817 |\n",
       "| 2.775623 | 1.364940e-13 | 0.04848629 |\n",
       "| 2.941223 | 6.616321e-11 | 0.70363594 |\n",
       "| 3.307652 | 6.898728e-13 | 0.91280021 |\n",
       "| 2.691872 | 1.818050e-12 | 0.97542166 |\n",
       "| 3.157404 | 1.284115e-12 | 0.39105575 |\n",
       "\n"
      ],
      "text/plain": [
       "  beta_hat_1 beta_2_pval  beta_3_pval\n",
       "1 2.834596   2.129624e-11 0.45730817 \n",
       "2 2.775623   1.364940e-13 0.04848629 \n",
       "3 2.941223   6.616321e-11 0.70363594 \n",
       "4 3.307652   6.898728e-13 0.91280021 \n",
       "5 2.691872   1.818050e-12 0.97542166 \n",
       "6 3.157404   1.284115e-12 0.39105575 "
      ]
     },
     "metadata": {},
     "output_type": "display_data"
    },
    {
     "data": {
      "text/html": [
       "<table>\n",
       "<caption>A tibble: 1 × 2</caption>\n",
       "<thead>\n",
       "\t<tr><th scope=col>beta_hat_1_mean</th><th scope=col>beta_hat_1_var</th></tr>\n",
       "\t<tr><th scope=col>&lt;dbl&gt;</th><th scope=col>&lt;dbl&gt;</th></tr>\n",
       "</thead>\n",
       "<tbody>\n",
       "\t<tr><td>3.006391</td><td>0.07303341</td></tr>\n",
       "</tbody>\n",
       "</table>\n"
      ],
      "text/latex": [
       "A tibble: 1 × 2\n",
       "\\begin{tabular}{ll}\n",
       " beta\\_hat\\_1\\_mean & beta\\_hat\\_1\\_var\\\\\n",
       " <dbl> & <dbl>\\\\\n",
       "\\hline\n",
       "\t 3.006391 & 0.07303341\\\\\n",
       "\\end{tabular}\n"
      ],
      "text/markdown": [
       "\n",
       "A tibble: 1 × 2\n",
       "\n",
       "| beta_hat_1_mean &lt;dbl&gt; | beta_hat_1_var &lt;dbl&gt; |\n",
       "|---|---|\n",
       "| 3.006391 | 0.07303341 |\n",
       "\n"
      ],
      "text/plain": [
       "  beta_hat_1_mean beta_hat_1_var\n",
       "1 3.006391        0.07303341    "
      ]
     },
     "metadata": {},
     "output_type": "display_data"
    },
    {
     "data": {
      "text/html": [
       "3"
      ],
      "text/latex": [
       "3"
      ],
      "text/markdown": [
       "3"
      ],
      "text/plain": [
       "[1] 3"
      ]
     },
     "metadata": {},
     "output_type": "display_data"
    },
    {
     "data": {
      "text/html": [
       "0.0731688876204769"
      ],
      "text/latex": [
       "0.0731688876204769"
      ],
      "text/markdown": [
       "0.0731688876204769"
      ],
      "text/plain": [
       "[1] 0.07316889"
      ]
     },
     "metadata": {},
     "output_type": "display_data"
    },
    {
     "data": {
      "text/html": [
       "0.0466666666666667"
      ],
      "text/latex": [
       "0.0466666666666667"
      ],
      "text/markdown": [
       "0.0466666666666667"
      ],
      "text/plain": [
       "[1] 0.04666667"
      ]
     },
     "metadata": {},
     "output_type": "display_data"
    },
    {
     "data": {
      "text/html": [
       "1"
      ],
      "text/latex": [
       "1"
      ],
      "text/markdown": [
       "1"
      ],
      "text/plain": [
       "[1] 1"
      ]
     },
     "metadata": {},
     "output_type": "display_data"
    },
    {
     "data": {
      "text/html": [
       "<style>\n",
       ".list-inline {list-style: none; margin:0; padding: 0}\n",
       ".list-inline>li {display: inline-block}\n",
       ".list-inline>li:not(:last-child)::after {content: \"\\00b7\"; padding: 0 .5ex}\n",
       "</style>\n",
       "<ol class=list-inline><li>2</li><li>3</li><li>4</li><li>0</li><li>1</li></ol>\n"
      ],
      "text/latex": [
       "\\begin{enumerate*}\n",
       "\\item 2\n",
       "\\item 3\n",
       "\\item 4\n",
       "\\item 0\n",
       "\\item 1\n",
       "\\end{enumerate*}\n"
      ],
      "text/markdown": [
       "1. 2\n",
       "2. 3\n",
       "3. 4\n",
       "4. 0\n",
       "5. 1\n",
       "\n",
       "\n"
      ],
      "text/plain": [
       "[1] 2 3 4 0 1"
      ]
     },
     "metadata": {},
     "output_type": "display_data"
    },
    {
     "data": {
      "image/png": "[encoded data removed]",
      "text/plain": [
       "plot without title"
      ]
     },
     "metadata": {
      "image/png": {
       "height": 420,
       "width": 420
      }
     },
     "output_type": "display_data"
    }
   ],
   "source": [
    "library(tidyverse)\n",
    "library(broom)\n",
    "\n",
    "beta <- c(2, 3, 4, 0, 1)\n",
    "sigma <- 4\n",
    "n <- 25\n",
    "\n",
    "set.seed(42)\n",
    "x0 <- rep(1, n)\n",
    "x1 <- runif(n, 0, 10)\n",
    "x2 <- runif(n, 0, 10)\n",
    "x3 <- runif(n, 0, 10)\n",
    "x4 <- runif(n, 0, 10)\n",
    "X <- cbind(x0, x1, x2, x3, x4)\n",
    "C <- solve(t(X) %*% X)\n",
    "y <- as.vector(X %*% beta)\n",
    "ex_4_data <- tibble(x1, x2, x3, x4, y)\n",
    "\n",
    "nsim <- 1500\n",
    "\n",
    "\n",
    "simulations <- replicate(nsim,\n",
    "  {\n",
    "    eps <- rnorm(n, mean = 0, sd = sigma)\n",
    "    sample_data <- ex_4_data %>% mutate(y = y + eps)\n",
    "    mod <- lm(y ~ ., data = sample_data)\n",
    "    c(\n",
    "      beta_hat_1 = coef(mod)[[2]],\n",
    "      beta_2_pval = summary(mod)$coefficients[3, 4],\n",
    "      beta_3_pval = summary(mod)$coefficients[4, 4]\n",
    "    )\n",
    "  },\n",
    "  simplify = F\n",
    ") %>% map_dfr(~.)\n",
    "\n",
    "simulations %>% head()\n",
    "\n",
    "# the mean of sd of beta_hat_1\n",
    "simulations %>% summarize(across(beta_hat_1, list(mean = mean, var = var)))\n",
    "\n",
    "# the mean of sd of beta1 in theory\n",
    "beta[[2]]\n",
    "sigma^2 * C[2, 2]\n",
    "\n",
    "# samping distribution of beta1 (which is the distribution of beta_hat_1)\n",
    "simulations %>%\n",
    "  mutate(x = seq(2, 4, length.out = n()), \n",
    "         beta_1_sample = dnorm(x, mean = beta[[2]], sd = sigma * sqrt(C[2, 2]))) %>% \n",
    "  ggplot(aes(beta_hat_1, ..density..)) +\n",
    "  geom_histogram(binwidth = .05, color = \"grey50\", fill = \"darkorange\") +\n",
    "  geom_line(aes(x = x, y = beta_1_sample), color = \"dodgerblue\", size = 2) + \n",
    "  labs(x = expression(hat(beta[1]))) +\n",
    "  theme_minimal()\n",
    "\n",
    "\n",
    "# beta_3 is 0, H_0 is TRUE, 95% confidence so we expect\n",
    "# 5% of the time we will make type I error (p_value < .05)\n",
    "with(simulations, mean(beta_3_pval < 0.05))\n",
    "\n",
    "# beta_2 = 3 is significantly difference from 0\n",
    "# so almost anytime, p.value will < 0.05\n",
    "with(simulations, mean(beta_2_pval < .05))\n",
    "\n",
    "beta\n"
   ]
  },
  {
   "cell_type": "code",
   "execution_count": null,
   "id": "printable-fifty",
   "metadata": {},
   "outputs": [],
   "source": []
  }
 ],
 "metadata": {
  "kernelspec": {
   "display_name": "R",
   "language": "R",
   "name": "ir"
  },
  "language_info": {
   "codemirror_mode": "r",
   "file_extension": ".r",
   "mimetype": "text/x-r-source",
   "name": "R",
   "pygments_lexer": "r",
   "version": "4.0.4"
  }
 },
 "nbformat": 4,
 "nbformat_minor": 5
}
