{
 "cells": [
  {
   "cell_type": "markdown",
   "id": "fabulous-knight",
   "metadata": {},
   "source": [
    "# Monte Carlo simulation for confidence interval"
   ]
  },
  {
   "cell_type": "code",
   "execution_count": 4,
   "id": "after-alfred",
   "metadata": {},
   "outputs": [
    {
     "name": "stderr",
     "output_type": "stream",
     "text": [
      "Loading required package: lattice\n",
      "\n",
      "Loading required package: plyr\n",
      "\n",
      "------------------------------------------------------------------------------\n",
      "\n",
      "You have loaded plyr after dplyr - this is likely to cause problems.\n",
      "If you need functions from both plyr and dplyr, please load plyr first, then dplyr:\n",
      "library(plyr); library(dplyr)\n",
      "\n",
      "------------------------------------------------------------------------------\n",
      "\n",
      "\n",
      "Attaching package: 'plyr'\n",
      "\n",
      "\n",
      "The following objects are masked from 'package:dplyr':\n",
      "\n",
      "    arrange, count, desc, failwith, id, mutate, rename, summarise,\n",
      "    summarize\n",
      "\n",
      "\n",
      "The following object is masked from 'package:purrr':\n",
      "\n",
      "    compact\n",
      "\n",
      "\n"
     ]
    }
   ],
   "source": [
    "library(dslabs)\n",
    "library(tidyverse)\n",
    "library(Rmisc)"
   ]
  },
  {
   "cell_type": "code",
   "execution_count": 2,
   "id": "pressed-rates",
   "metadata": {},
   "outputs": [
    {
     "name": "stdout",
     "output_type": "stream",
     "text": [
      "Rows: 1,050\n",
      "Columns: 2\n",
      "$ sex    \u001b[3m\u001b[38;5;246m<fct>\u001b[39m\u001b[23m Male, Male, Male, Male, Male, Female, Female, Female, Female...\n",
      "$ height \u001b[3m\u001b[38;5;246m<dbl>\u001b[39m\u001b[23m 75, 70, 68, 74, 61, 65, 66, 62, 66, 67, 72, 72, 69, 68, 69, ...\n"
     ]
    }
   ],
   "source": [
    "heights %>% glimpse()"
   ]
  },
  {
   "cell_type": "code",
   "execution_count": 3,
   "id": "raising-inspector",
   "metadata": {},
   "outputs": [],
   "source": [
    "# the population is the height of man\n",
    "population <- heights %>% filter(sex == 'Male') %>% pull(height)"
   ]
  },
  {
   "cell_type": "code",
   "execution_count": 7,
   "id": "preceding-observation",
   "metadata": {},
   "outputs": [
    {
     "data": {
      "text/html": [
       "<table>\n",
       "<caption>A tibble: 5 × 3</caption>\n",
       "<thead>\n",
       "\t<tr><th scope=col>upper</th><th scope=col>mean</th><th scope=col>lower</th></tr>\n",
       "\t<tr><th scope=col>&lt;dbl&gt;</th><th scope=col>&lt;dbl&gt;</th><th scope=col>&lt;dbl&gt;</th></tr>\n",
       "</thead>\n",
       "<tbody>\n",
       "\t<tr><td>71.09466</td><td>70.20860</td><td>69.32254</td></tr>\n",
       "\t<tr><td>70.68331</td><td>69.70511</td><td>68.72691</td></tr>\n",
       "\t<tr><td>70.80103</td><td>69.67759</td><td>68.55415</td></tr>\n",
       "\t<tr><td>70.95732</td><td>70.00443</td><td>69.05154</td></tr>\n",
       "\t<tr><td>70.32938</td><td>69.49073</td><td>68.65207</td></tr>\n",
       "</tbody>\n",
       "</table>\n"
      ],
      "text/latex": [
       "A tibble: 5 × 3\n",
       "\\begin{tabular}{lll}\n",
       " upper & mean & lower\\\\\n",
       " <dbl> & <dbl> & <dbl>\\\\\n",
       "\\hline\n",
       "\t 71.09466 & 70.20860 & 69.32254\\\\\n",
       "\t 70.68331 & 69.70511 & 68.72691\\\\\n",
       "\t 70.80103 & 69.67759 & 68.55415\\\\\n",
       "\t 70.95732 & 70.00443 & 69.05154\\\\\n",
       "\t 70.32938 & 69.49073 & 68.65207\\\\\n",
       "\\end{tabular}\n"
      ],
      "text/markdown": [
       "\n",
       "A tibble: 5 × 3\n",
       "\n",
       "| upper &lt;dbl&gt; | mean &lt;dbl&gt; | lower &lt;dbl&gt; |\n",
       "|---|---|---|\n",
       "| 71.09466 | 70.20860 | 69.32254 |\n",
       "| 70.68331 | 69.70511 | 68.72691 |\n",
       "| 70.80103 | 69.67759 | 68.55415 |\n",
       "| 70.95732 | 70.00443 | 69.05154 |\n",
       "| 70.32938 | 69.49073 | 68.65207 |\n",
       "\n"
      ],
      "text/plain": [
       "  upper    mean     lower   \n",
       "1 71.09466 70.20860 69.32254\n",
       "2 70.68331 69.70511 68.72691\n",
       "3 70.80103 69.67759 68.55415\n",
       "4 70.95732 70.00443 69.05154\n",
       "5 70.32938 69.49073 68.65207"
      ]
     },
     "metadata": {},
     "output_type": "display_data"
    }
   ],
   "source": [
    "# sample size\n",
    "n <- 50\n",
    "# number of simulation\n",
    "n_simulation <- 10000\n",
    "confidence_level <- .95\n",
    "# calculate confidence interval for 1 simulation\n",
    "conduct <- function() {\n",
    "    sample_data <- sample(population, size = n, replace = T)\n",
    "    CI(sample_data, ci = confidence_level)\n",
    "}\n",
    "\n",
    "confidence_intervals <- 1:n_simulation %>% map_dfr(~conduct())\n",
    "\n",
    "confidence_intervals %>% slice_head(n = 5)"
   ]
  },
  {
   "cell_type": "markdown",
   "id": "removable-argentina",
   "metadata": {},
   "source": [
    "We expect the 95% simulated confidence interval will contains the true mean height of male"
   ]
  },
  {
   "cell_type": "code",
   "execution_count": 9,
   "id": "interim-aquatic",
   "metadata": {},
   "outputs": [
    {
     "data": {
      "text/html": [
       "<table>\n",
       "<caption>A data.frame: 1 × 1</caption>\n",
       "<thead>\n",
       "\t<tr><th scope=col>p</th></tr>\n",
       "\t<tr><th scope=col>&lt;dbl&gt;</th></tr>\n",
       "</thead>\n",
       "<tbody>\n",
       "\t<tr><td>95.19</td></tr>\n",
       "</tbody>\n",
       "</table>\n"
      ],
      "text/latex": [
       "A data.frame: 1 × 1\n",
       "\\begin{tabular}{l}\n",
       " p\\\\\n",
       " <dbl>\\\\\n",
       "\\hline\n",
       "\t 95.19\\\\\n",
       "\\end{tabular}\n"
      ],
      "text/markdown": [
       "\n",
       "A data.frame: 1 × 1\n",
       "\n",
       "| p &lt;dbl&gt; |\n",
       "|---|\n",
       "| 95.19 |\n",
       "\n"
      ],
      "text/plain": [
       "  p    \n",
       "1 95.19"
      ]
     },
     "metadata": {},
     "output_type": "display_data"
    }
   ],
   "source": [
    "m <- mean(population) # true mean\n",
    "confidence_intervals %>% summarize(p = mean(lower <= m & m <= upper) * 100)"
   ]
  },
  {
   "cell_type": "markdown",
   "id": "weekly-scoop",
   "metadata": {},
   "source": [
    "# Monte Carlo simulation for Bayesian statistics"
   ]
  },
  {
   "cell_type": "markdown",
   "id": "alternate-journal",
   "metadata": {},
   "source": [
    "<pre>P(having disease) = 0.00025  \n",
    "P(positive test|having disease) = 0.99  \n",
    "P(negative test|not having disease) = 0.99  \n",
    "P(having disease|positive test) = <span style = 'color:red'>?</span></pre>"
   ]
  },
  {
   "cell_type": "code",
   "execution_count": 64,
   "id": "metallic-broadway",
   "metadata": {},
   "outputs": [],
   "source": [
    "# probability of a person having disease\n",
    "p = 0.00025\n",
    "# probability of positive test given a person having disease\n",
    "p_have_disease_test = 0.99\n",
    "# probability of negative test given a person not having disease\n",
    "p_not_disease_test = 0.99\n",
    "n = 100000 # sample size\n",
    "# 0 indicates not having disease, 1 indicate having disease\n",
    "observation_sample <- sample(c('disease', 'healthy'), size = n, replace = T, prob = c(p,1 - p))"
   ]
  },
  {
   "cell_type": "code",
   "execution_count": 65,
   "id": "grave-jenny",
   "metadata": {},
   "outputs": [
    {
     "data": {
      "text/html": [
       "25"
      ],
      "text/latex": [
       "25"
      ],
      "text/markdown": [
       "25"
      ],
      "text/plain": [
       "[1] 25"
      ]
     },
     "metadata": {},
     "output_type": "display_data"
    }
   ],
   "source": [
    "n_disease <- sum(observation_sample == 'disease') # the number of people having disease in our sample\n",
    "n_disease"
   ]
  },
  {
   "cell_type": "code",
   "execution_count": 66,
   "id": "charitable-addiction",
   "metadata": {},
   "outputs": [],
   "source": [
    "test_result <- character(n)\n",
    "# test result for people who do not have disease\n",
    "test_result[observation_sample == 'healthy'] = sample(c('-', '+'), size = n - n_disease, replace = T, prob = c(p_not_disease_test, 1 - p_not_disease_test))\n",
    "# test result for people who have disease\n",
    "test_result[observation_sample == 'disease'] = sample(c('-', '+'), size = n_disease, replace = T, prob = c(1 - p_have_disease_test, p_have_disease_test))"
   ]
  },
  {
   "cell_type": "code",
   "execution_count": 67,
   "id": "herbal-gothic",
   "metadata": {},
   "outputs": [
    {
     "data": {
      "text/plain": [
       "                  test_result\n",
       "observation_sample     +     -\n",
       "           disease    25     0\n",
       "           healthy   998 98977"
      ]
     },
     "metadata": {},
     "output_type": "display_data"
    }
   ],
   "source": [
    "test_summary <- table(observation_sample, test_result)\n",
    "test_summary"
   ]
  },
  {
   "cell_type": "code",
   "execution_count": 68,
   "id": "occasional-agreement",
   "metadata": {},
   "outputs": [
    {
     "data": {
      "text/html": [
       "2.44379276637341"
      ],
      "text/latex": [
       "2.44379276637341"
      ],
      "text/markdown": [
       "2.44379276637341"
      ],
      "text/plain": [
       "[1] 2.443793"
      ]
     },
     "metadata": {},
     "output_type": "display_data"
    }
   ],
   "source": [
    "# given positive test, what is the probability a person actually have disease? (in theory, 2%)\n",
    "test_summary['disease', '+'] / sum(test_summary[, '+']) * 100"
   ]
  }
 ],
 "metadata": {
  "kernelspec": {
   "display_name": "R",
   "language": "R",
   "name": "ir"
  },
  "language_info": {
   "codemirror_mode": "r",
   "file_extension": ".r",
   "mimetype": "text/x-r-source",
   "name": "R",
   "pygments_lexer": "r",
   "version": "4.0.3"
  }
 },
 "nbformat": 4,
 "nbformat_minor": 5
}
