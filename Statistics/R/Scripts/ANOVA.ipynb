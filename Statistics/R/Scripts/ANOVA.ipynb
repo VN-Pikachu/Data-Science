{
 "cells": [
  {
   "cell_type": "markdown",
   "id": "boring-edmonton",
   "metadata": {},
   "source": [
    "**Reference**: <https://daviddalpiaz.github.io/appliedstats/analysis-of-variance.html>"
   ]
  },
  {
   "cell_type": "code",
   "execution_count": 1,
   "id": "agricultural-metadata",
   "metadata": {},
   "outputs": [
    {
     "name": "stderr",
     "output_type": "stream",
     "text": [
      "-- \u001b[1mAttaching packages\u001b[22m ----------------------------------------------------------------------------------------------------------------------------------------------------- tidyverse 1.3.0 --\n",
      "\n",
      "\u001b[32mv\u001b[39m \u001b[34mggplot2\u001b[39m 3.3.2     \u001b[32mv\u001b[39m \u001b[34mpurrr  \u001b[39m 0.3.4\n",
      "\u001b[32mv\u001b[39m \u001b[34mtibble \u001b[39m 3.0.4     \u001b[32mv\u001b[39m \u001b[34mdplyr  \u001b[39m 1.0.2\n",
      "\u001b[32mv\u001b[39m \u001b[34mtidyr  \u001b[39m 1.1.2     \u001b[32mv\u001b[39m \u001b[34mstringr\u001b[39m 1.4.0\n",
      "\u001b[32mv\u001b[39m \u001b[34mreadr  \u001b[39m 1.4.0     \u001b[32mv\u001b[39m \u001b[34mforcats\u001b[39m 0.5.0\n",
      "\n",
      "-- \u001b[1mConflicts\u001b[22m -------------------------------------------------------------------------------------------------------------------------------------------------------- tidyverse_conflicts() --\n",
      "\u001b[31mx\u001b[39m \u001b[34mdplyr\u001b[39m::\u001b[32mfilter()\u001b[39m masks \u001b[34mstats\u001b[39m::filter()\n",
      "\u001b[31mx\u001b[39m \u001b[34mdplyr\u001b[39m::\u001b[32mlag()\u001b[39m    masks \u001b[34mstats\u001b[39m::lag()\n",
      "\n"
     ]
    }
   ],
   "source": [
    "library(tidyverse)\n",
    "library(faraway)"
   ]
  },
  {
   "cell_type": "code",
   "execution_count": 2,
   "id": "brave-swaziland",
   "metadata": {},
   "outputs": [
    {
     "data": {
      "text/html": [
       "<table>\n",
       "<caption>A data.frame: 24 × 2</caption>\n",
       "<thead>\n",
       "\t<tr><th></th><th scope=col>coag</th><th scope=col>diet</th></tr>\n",
       "\t<tr><th></th><th scope=col>&lt;dbl&gt;</th><th scope=col>&lt;fct&gt;</th></tr>\n",
       "</thead>\n",
       "<tbody>\n",
       "\t<tr><th scope=row>1</th><td>62</td><td>A</td></tr>\n",
       "\t<tr><th scope=row>2</th><td>60</td><td>A</td></tr>\n",
       "\t<tr><th scope=row>3</th><td>63</td><td>A</td></tr>\n",
       "\t<tr><th scope=row>4</th><td>59</td><td>A</td></tr>\n",
       "\t<tr><th scope=row>5</th><td>63</td><td>B</td></tr>\n",
       "\t<tr><th scope=row>6</th><td>67</td><td>B</td></tr>\n",
       "\t<tr><th scope=row>7</th><td>71</td><td>B</td></tr>\n",
       "\t<tr><th scope=row>8</th><td>64</td><td>B</td></tr>\n",
       "\t<tr><th scope=row>9</th><td>65</td><td>B</td></tr>\n",
       "\t<tr><th scope=row>10</th><td>66</td><td>B</td></tr>\n",
       "\t<tr><th scope=row>11</th><td>68</td><td>C</td></tr>\n",
       "\t<tr><th scope=row>12</th><td>66</td><td>C</td></tr>\n",
       "\t<tr><th scope=row>13</th><td>71</td><td>C</td></tr>\n",
       "\t<tr><th scope=row>14</th><td>67</td><td>C</td></tr>\n",
       "\t<tr><th scope=row>15</th><td>68</td><td>C</td></tr>\n",
       "\t<tr><th scope=row>16</th><td>68</td><td>C</td></tr>\n",
       "\t<tr><th scope=row>17</th><td>56</td><td>D</td></tr>\n",
       "\t<tr><th scope=row>18</th><td>62</td><td>D</td></tr>\n",
       "\t<tr><th scope=row>19</th><td>60</td><td>D</td></tr>\n",
       "\t<tr><th scope=row>20</th><td>61</td><td>D</td></tr>\n",
       "\t<tr><th scope=row>21</th><td>63</td><td>D</td></tr>\n",
       "\t<tr><th scope=row>22</th><td>64</td><td>D</td></tr>\n",
       "\t<tr><th scope=row>23</th><td>63</td><td>D</td></tr>\n",
       "\t<tr><th scope=row>24</th><td>59</td><td>D</td></tr>\n",
       "</tbody>\n",
       "</table>\n"
      ],
      "text/latex": [
       "A data.frame: 24 × 2\n",
       "\\begin{tabular}{r|ll}\n",
       "  & coag & diet\\\\\n",
       "  & <dbl> & <fct>\\\\\n",
       "\\hline\n",
       "\t1 & 62 & A\\\\\n",
       "\t2 & 60 & A\\\\\n",
       "\t3 & 63 & A\\\\\n",
       "\t4 & 59 & A\\\\\n",
       "\t5 & 63 & B\\\\\n",
       "\t6 & 67 & B\\\\\n",
       "\t7 & 71 & B\\\\\n",
       "\t8 & 64 & B\\\\\n",
       "\t9 & 65 & B\\\\\n",
       "\t10 & 66 & B\\\\\n",
       "\t11 & 68 & C\\\\\n",
       "\t12 & 66 & C\\\\\n",
       "\t13 & 71 & C\\\\\n",
       "\t14 & 67 & C\\\\\n",
       "\t15 & 68 & C\\\\\n",
       "\t16 & 68 & C\\\\\n",
       "\t17 & 56 & D\\\\\n",
       "\t18 & 62 & D\\\\\n",
       "\t19 & 60 & D\\\\\n",
       "\t20 & 61 & D\\\\\n",
       "\t21 & 63 & D\\\\\n",
       "\t22 & 64 & D\\\\\n",
       "\t23 & 63 & D\\\\\n",
       "\t24 & 59 & D\\\\\n",
       "\\end{tabular}\n"
      ],
      "text/markdown": [
       "\n",
       "A data.frame: 24 × 2\n",
       "\n",
       "| <!--/--> | coag &lt;dbl&gt; | diet &lt;fct&gt; |\n",
       "|---|---|---|\n",
       "| 1 | 62 | A |\n",
       "| 2 | 60 | A |\n",
       "| 3 | 63 | A |\n",
       "| 4 | 59 | A |\n",
       "| 5 | 63 | B |\n",
       "| 6 | 67 | B |\n",
       "| 7 | 71 | B |\n",
       "| 8 | 64 | B |\n",
       "| 9 | 65 | B |\n",
       "| 10 | 66 | B |\n",
       "| 11 | 68 | C |\n",
       "| 12 | 66 | C |\n",
       "| 13 | 71 | C |\n",
       "| 14 | 67 | C |\n",
       "| 15 | 68 | C |\n",
       "| 16 | 68 | C |\n",
       "| 17 | 56 | D |\n",
       "| 18 | 62 | D |\n",
       "| 19 | 60 | D |\n",
       "| 20 | 61 | D |\n",
       "| 21 | 63 | D |\n",
       "| 22 | 64 | D |\n",
       "| 23 | 63 | D |\n",
       "| 24 | 59 | D |\n",
       "\n"
      ],
      "text/plain": [
       "   coag diet\n",
       "1  62   A   \n",
       "2  60   A   \n",
       "3  63   A   \n",
       "4  59   A   \n",
       "5  63   B   \n",
       "6  67   B   \n",
       "7  71   B   \n",
       "8  64   B   \n",
       "9  65   B   \n",
       "10 66   B   \n",
       "11 68   C   \n",
       "12 66   C   \n",
       "13 71   C   \n",
       "14 67   C   \n",
       "15 68   C   \n",
       "16 68   C   \n",
       "17 56   D   \n",
       "18 62   D   \n",
       "19 60   D   \n",
       "20 61   D   \n",
       "21 63   D   \n",
       "22 64   D   \n",
       "23 63   D   \n",
       "24 59   D   "
      ]
     },
     "metadata": {},
     "output_type": "display_data"
    }
   ],
   "source": [
    "coagulation"
   ]
  },
  {
   "cell_type": "code",
   "execution_count": 4,
   "id": "operational-ordinary",
   "metadata": {},
   "outputs": [
    {
     "data": {
      "text/plain": [
       "Call:\n",
       "   aov(formula = coag ~ diet, data = coagulation)\n",
       "\n",
       "Terms:\n",
       "                diet Residuals\n",
       "Sum of Squares   228       112\n",
       "Deg. of Freedom    3        20\n",
       "\n",
       "Residual standard error: 2.366432\n",
       "Estimated effects may be unbalanced"
      ]
     },
     "metadata": {},
     "output_type": "display_data"
    }
   ],
   "source": [
    "res <- aov(coag ~ diet, data = coagulation)\n",
    "res"
   ]
  },
  {
   "cell_type": "code",
   "execution_count": 5,
   "id": "equal-interim",
   "metadata": {},
   "outputs": [
    {
     "data": {
      "text/html": [
       "<style>\n",
       ".list-inline {list-style: none; margin:0; padding: 0}\n",
       ".list-inline>li {display: inline-block}\n",
       ".list-inline>li:not(:last-child)::after {content: \"\\00b7\"; padding: 0 .5ex}\n",
       "</style>\n",
       "<ol class=list-inline><li>'coefficients'</li><li>'residuals'</li><li>'effects'</li><li>'rank'</li><li>'fitted.values'</li><li>'assign'</li><li>'qr'</li><li>'df.residual'</li><li>'contrasts'</li><li>'xlevels'</li><li>'call'</li><li>'terms'</li><li>'model'</li></ol>\n"
      ],
      "text/latex": [
       "\\begin{enumerate*}\n",
       "\\item 'coefficients'\n",
       "\\item 'residuals'\n",
       "\\item 'effects'\n",
       "\\item 'rank'\n",
       "\\item 'fitted.values'\n",
       "\\item 'assign'\n",
       "\\item 'qr'\n",
       "\\item 'df.residual'\n",
       "\\item 'contrasts'\n",
       "\\item 'xlevels'\n",
       "\\item 'call'\n",
       "\\item 'terms'\n",
       "\\item 'model'\n",
       "\\end{enumerate*}\n"
      ],
      "text/markdown": [
       "1. 'coefficients'\n",
       "2. 'residuals'\n",
       "3. 'effects'\n",
       "4. 'rank'\n",
       "5. 'fitted.values'\n",
       "6. 'assign'\n",
       "7. 'qr'\n",
       "8. 'df.residual'\n",
       "9. 'contrasts'\n",
       "10. 'xlevels'\n",
       "11. 'call'\n",
       "12. 'terms'\n",
       "13. 'model'\n",
       "\n",
       "\n"
      ],
      "text/plain": [
       " [1] \"coefficients\"  \"residuals\"     \"effects\"       \"rank\"         \n",
       " [5] \"fitted.values\" \"assign\"        \"qr\"            \"df.residual\"  \n",
       " [9] \"contrasts\"     \"xlevels\"       \"call\"          \"terms\"        \n",
       "[13] \"model\"        "
      ]
     },
     "metadata": {},
     "output_type": "display_data"
    }
   ],
   "source": [
    "names(res)"
   ]
  },
  {
   "cell_type": "code",
   "execution_count": 6,
   "id": "resident-business",
   "metadata": {},
   "outputs": [
    {
     "data": {
      "text/plain": [
       "            Df Sum Sq Mean Sq F value   Pr(>F)    \n",
       "diet         3    228    76.0   13.57 4.66e-05 ***\n",
       "Residuals   20    112     5.6                     \n",
       "---\n",
       "Signif. codes:  0 '***' 0.001 '**' 0.01 '*' 0.05 '.' 0.1 ' ' 1"
      ]
     },
     "metadata": {},
     "output_type": "display_data"
    }
   ],
   "source": [
    "summary(res)"
   ]
  },
  {
   "cell_type": "markdown",
   "id": "lesser-watershed",
   "metadata": {},
   "source": [
    "# Simulation"
   ]
  },
  {
   "cell_type": "code",
   "execution_count": 13,
   "id": "starting-heather",
   "metadata": {},
   "outputs": [],
   "source": [
    "sim_anova <- function(ngroups = 4,\n",
    "                      group_size = 20,\n",
    "                      group_mean = rep(0, 4),\n",
    "                      sigma = 1,\n",
    "                      stat = F) {\n",
    "  simulated_data <- group_mean %>%\n",
    "    set_names(LETTERS[1:ngroups]) %>%\n",
    "    map_dfc(~ rnorm(group_size, ., sigma)) %>%\n",
    "    pivot_longer(everything(), names_to = \"group\", values_to = \"value\")\n",
    "  mod <- lm(value ~ group, data = simulated_data)\n",
    "  report <- mod %>% broom::glance()\n",
    "  ifelse(stat, report$p.value, report$statistic)\n",
    "}\n"
   ]
  },
  {
   "cell_type": "code",
   "execution_count": 14,
   "id": "patient-country",
   "metadata": {},
   "outputs": [
    {
     "data": {
      "image/png": "[encoded data removed]",
      "text/plain": [
       "Plot with title \"Emperical Distribution of F\""
      ]
     },
     "metadata": {
      "image/png": {
       "height": 420,
       "width": 420
      }
     },
     "output_type": "display_data"
    }
   ],
   "source": [
    "nsims <- 1000\n",
    "simulated_f <- replicate(nsims, sim_anova())\n",
    "\n",
    "hist(simulated_f, breaks = 100, prob = T, border = \"dodgerblue\", main = \"Emperical Distribution of F\")\n",
    "curve(df(x, df1 = ngroups - 1, df2 = ngroups * group_size - ngroups), add = T, lwd = 2, col = \"darkorange\")"
   ]
  },
  {
   "cell_type": "markdown",
   "id": "worldwide-mainland",
   "metadata": {},
   "source": [
    "# Power"
   ]
  },
  {
   "cell_type": "markdown",
   "id": "opposed-lindsay",
   "metadata": {},
   "source": [
    "We need high power when we want to have high probability of discovering true effect (reject null hypothesis when it is false). Now that we’re performing experiments, getting more data means finding more test subjects, running more lab tests, etc. In other words, it will cost more time and money.\n",
    "\n",
    "We’d like to design our experiment so that we have a good chance of detecting an interesting effect size, without spending too much money. There’s no point in running an experiment if there’s only a very low chance that it has a significant result that you care about. (Remember, not all statistically significant results have practical value.)\n",
    "\n",
    "That is, for a true difference of means that we deem interesting, we want the test to reject with high probability."
   ]
  },
  {
   "cell_type": "markdown",
   "id": "efficient-homework",
   "metadata": {},
   "source": [
    "A number of things can affect the power of a test:\n",
    "\n",
    "- **Effect size**. It is easier to detect larger effects.\n",
    "- **Noise level   σ**. The less noise, the easier it is to detect signal (effect). We don’t have much ability to control this, except maybe to measure more accurately.\n",
    "- **Significance level   α**. Lower significance level makes rejecting more difficult. (But also allows for less false positives.)\n",
    "- **Sample size**. Large samples means easier to detect effects.\n",
    "- **Balanced design**. An equal number of observations per group leads to higher power."
   ]
  },
  {
   "cell_type": "markdown",
   "id": "funded-small",
   "metadata": {},
   "source": [
    "---\n",
    "**Effect size**: The larger the effect size, the easier to detect true effect"
   ]
  },
  {
   "cell_type": "code",
   "execution_count": 19,
   "id": "declared-yemen",
   "metadata": {},
   "outputs": [
    {
     "data": {
      "text/html": [
       "0.176"
      ],
      "text/latex": [
       "0.176"
      ],
      "text/markdown": [
       "0.176"
      ],
      "text/plain": [
       "[1] 0.176"
      ]
     },
     "metadata": {},
     "output_type": "display_data"
    }
   ],
   "source": [
    "# mu_a = 5, mu_b = 6\n",
    "p.value <- rerun(nsims, sim_anova(ngroups = 2, sigma = 3, group_mean = c(5, 6), stat = T))\n",
    "# at 0.05 significant level, the probability of reject H_0 when it is false\n",
    "mean(p.value < 0.05)"
   ]
  },
  {
   "cell_type": "code",
   "execution_count": 21,
   "id": "located-implement",
   "metadata": {},
   "outputs": [
    {
     "data": {
      "text/html": [
       "0.866"
      ],
      "text/latex": [
       "0.866"
      ],
      "text/markdown": [
       "0.866"
      ],
      "text/plain": [
       "[1] 0.866"
      ]
     },
     "metadata": {},
     "output_type": "display_data"
    }
   ],
   "source": [
    "# increase size effect, mu_a = 5, mu_b = 8\n",
    "p.value <- rerun(nsims, sim_anova(ngroups = 2, sigma = 3, group_mean = c(5, 8), stat = T))\n",
    "mean(p.value < 0.05)"
   ]
  },
  {
   "cell_type": "markdown",
   "id": "proper-voice",
   "metadata": {},
   "source": [
    "---\n",
    "**Noise level**: The less noise, the easier it is to detect signal (effect)"
   ]
  },
  {
   "cell_type": "code",
   "execution_count": 22,
   "id": "functioning-envelope",
   "metadata": {},
   "outputs": [
    {
     "data": {
      "text/html": [
       "0.233"
      ],
      "text/latex": [
       "0.233"
      ],
      "text/markdown": [
       "0.233"
      ],
      "text/plain": [
       "[1] 0.233"
      ]
     },
     "metadata": {},
     "output_type": "display_data"
    }
   ],
   "source": [
    "# sigma = 5\n",
    "p.value <- rerun(nsims, sim_anova(ngroups = 2, sigma = 5, group_mean = c(5, 7), stat = T))\n",
    "mean(p.value < 0.05)"
   ]
  },
  {
   "cell_type": "code",
   "execution_count": 23,
   "id": "specified-scholarship",
   "metadata": {},
   "outputs": [
    {
     "data": {
      "text/html": [
       "0.864"
      ],
      "text/latex": [
       "0.864"
      ],
      "text/markdown": [
       "0.864"
      ],
      "text/plain": [
       "[1] 0.864"
      ]
     },
     "metadata": {},
     "output_type": "display_data"
    }
   ],
   "source": [
    "# sigma = 2\n",
    "p.value <- rerun(nsims, sim_anova(ngroups = 2, sigma = 2, group_mean = c(5, 7), stat = T))\n",
    "mean(p.value < 0.05)"
   ]
  },
  {
   "cell_type": "markdown",
   "id": "dental-heritage",
   "metadata": {},
   "source": [
    "---\n",
    "**Significant level**: The larger alpha is ,the larger the power of the test"
   ]
  },
  {
   "cell_type": "code",
   "execution_count": 24,
   "id": "german-think",
   "metadata": {},
   "outputs": [
    {
     "data": {
      "text/html": [
       "0.537"
      ],
      "text/latex": [
       "0.537"
      ],
      "text/markdown": [
       "0.537"
      ],
      "text/plain": [
       "[1] 0.537"
      ]
     },
     "metadata": {},
     "output_type": "display_data"
    }
   ],
   "source": [
    "# alpha = 0.05\n",
    "p.value <- rerun(nsims, sim_anova(ngroups = 2, sigma = 3, group_mean = c(5, 7), stat = T))\n",
    "mean(p.value < 0.05)"
   ]
  },
  {
   "cell_type": "code",
   "execution_count": 25,
   "id": "chronic-japan",
   "metadata": {},
   "outputs": [
    {
     "data": {
      "text/html": [
       "0.308"
      ],
      "text/latex": [
       "0.308"
      ],
      "text/markdown": [
       "0.308"
      ],
      "text/plain": [
       "[1] 0.308"
      ]
     },
     "metadata": {},
     "output_type": "display_data"
    }
   ],
   "source": [
    "# alpha = 0.01\n",
    "p.value <- rerun(nsims, sim_anova(ngroups = 2, sigma = 3, group_mean = c(5, 7), stat = T))\n",
    "mean(p.value < 0.01)"
   ]
  },
  {
   "cell_type": "markdown",
   "id": "checked-gather",
   "metadata": {},
   "source": [
    "---\n",
    "**sample size**: The larger the sample size, the larger the power is "
   ]
  },
  {
   "cell_type": "code",
   "execution_count": 26,
   "id": "sonic-joint",
   "metadata": {},
   "outputs": [
    {
     "data": {
      "text/html": [
       "0.513"
      ],
      "text/latex": [
       "0.513"
      ],
      "text/markdown": [
       "0.513"
      ],
      "text/plain": [
       "[1] 0.513"
      ]
     },
     "metadata": {},
     "output_type": "display_data"
    }
   ],
   "source": [
    "# sample size of 20\n",
    "p.value <- rerun(nsims, sim_anova(group_size = 20, ngroups = 2, sigma = 3, group_mean = c(5, 7), stat = T))\n",
    "mean(p.value < 0.05)"
   ]
  },
  {
   "cell_type": "code",
   "execution_count": 27,
   "id": "representative-genome",
   "metadata": {},
   "outputs": [
    {
     "data": {
      "text/html": [
       "0.9"
      ],
      "text/latex": [
       "0.9"
      ],
      "text/markdown": [
       "0.9"
      ],
      "text/plain": [
       "[1] 0.9"
      ]
     },
     "metadata": {},
     "output_type": "display_data"
    }
   ],
   "source": [
    "# sample size of 50\n",
    "p.value <- rerun(nsims, sim_anova(group_size = 50, ngroups = 2, sigma = 3, group_mean = c(5, 7), stat = T))\n",
    "mean(p.value < 0.05)"
   ]
  },
  {
   "cell_type": "markdown",
   "id": "ambient-wiring",
   "metadata": {},
   "source": [
    "# Post hoc testing"
   ]
  },
  {
   "cell_type": "markdown",
   "id": "previous-adaptation",
   "metadata": {},
   "source": [
    "Suppose we reject the null hypothesis from the ANOVA test for equal means. That tells us that the means are different. But which means? All of them? Some of them? The obvious strategy is to test all possible comparisons of two means. We can do this easily in R."
   ]
  },
  {
   "cell_type": "code",
   "execution_count": 28,
   "id": "handled-hungary",
   "metadata": {},
   "outputs": [
    {
     "data": {
      "text/plain": [
       "\n",
       "\tPairwise comparisons using t tests with pooled SD \n",
       "\n",
       "data:  coag and diet \n",
       "\n",
       "  A       B       C      \n",
       "B 0.00380 -       -      \n",
       "C 0.00018 0.15878 -      \n",
       "D 1.00000 0.00086 2.3e-05\n",
       "\n",
       "P value adjustment method: none "
      ]
     },
     "metadata": {},
     "output_type": "display_data"
    }
   ],
   "source": [
    "with(coagulation, pairwise.t.test(coag, diet, p.adj = \"none\"))"
   ]
  },
  {
   "cell_type": "markdown",
   "id": "final-daisy",
   "metadata": {},
   "source": [
    "**Multiple testing**: Bad!!! If we do not adjust p value, for each test, with 95% confidence, let's say we perform 50 test, then the confidence will be reduce to $.95^{50}$, approximately 0.077 confidence. That means we will more likely to make type I error (false positive), to reduce this, we need to adjust p-value by increasing its value so that we less likely to reject $H_0$, so less likely to make type I error when perform multiple testing "
   ]
  },
  {
   "cell_type": "markdown",
   "id": "educational-fifteen",
   "metadata": {},
   "source": [
    "The adjustment is an attempt to correct for the multiple testing problem. (See also: Relevant XKCD. ) Imagine that you knew ahead of time that you were going to perform 100   t -tests. Suppose you wish to do this with a false positive rate of   α = 0.05\n",
    " . If we use this significance level for each test, for 100 tests, we then expect 5 false positives. That means, with 100 tests, we’re almost guaranteed to have at least one error.\n",
    "\n",
    "What we’d really like, is for the family-wise error rate to be 0.05. If we consider the 100 tests to be a single “experiment” the FWER is the rate of one or more false positives for in the full experiment (100 tests). Consider it an error rate for an entire procedure, instead of a single test.\n",
    "With this in mind, one of the simplest adjustments we can make, is to increase the p-values for each test, depending on the number of tests. In particular the Bonferroni correction simply multiplies by the number of tests."
   ]
  },
  {
   "cell_type": "code",
   "execution_count": 29,
   "id": "innocent-fault",
   "metadata": {},
   "outputs": [
    {
     "data": {
      "text/plain": [
       "\n",
       "\tPairwise comparisons using t tests with pooled SD \n",
       "\n",
       "data:  coag and diet \n",
       "\n",
       "  A       B       C      \n",
       "B 0.02282 -       -      \n",
       "C 0.00108 0.95266 -      \n",
       "D 1.00000 0.00518 0.00014\n",
       "\n",
       "P value adjustment method: bonferroni "
      ]
     },
     "metadata": {},
     "output_type": "display_data"
    }
   ],
   "source": [
    "with(coagulation, pairwise.t.test(coag, diet, p.adj = \"bonferroni\"))"
   ]
  },
  {
   "cell_type": "markdown",
   "id": "physical-complaint",
   "metadata": {},
   "source": [
    "We see that these p-values are much higher than the unadjusted p-values, thus, we are less likely to reject each tests. As a result, the FWER is 0.05, instead of an error rate of 0.05 for each test.\n",
    "\n",
    "We can simulate the 100 test scenario to illustrate this point."
   ]
  },
  {
   "cell_type": "code",
   "execution_count": 37,
   "id": "miniature-notice",
   "metadata": {},
   "outputs": [
    {
     "data": {
      "text/html": [
       "0.994"
      ],
      "text/latex": [
       "0.994"
      ],
      "text/markdown": [
       "0.994"
      ],
      "text/plain": [
       "[1] 0.994"
      ]
     },
     "metadata": {},
     "output_type": "display_data"
    }
   ],
   "source": [
    "get_p_val = function() {\n",
    "  \n",
    "  # create data for two groups, equal mean\n",
    "  y = rnorm(20, mean = 0, sd = 1)\n",
    "  g = c(rep(\"A\", 10), rep(\"B\", 10))\n",
    "  \n",
    "  # p-value of t-test when null is true\n",
    "  broom::glance(t.test(y ~ g, var.equal = TRUE))$p.value\n",
    "  \n",
    "}\n",
    "\n",
    "set.seed(1337)\n",
    "\n",
    "# FWER with 100 tests\n",
    "# desired rate = 0.05\n",
    "# no adjustment\n",
    "mean(replicate(1000, any(replicate(100, get_p_val()) < 0.05)))"
   ]
  },
  {
   "cell_type": "code",
   "execution_count": 38,
   "id": "thermal-donor",
   "metadata": {},
   "outputs": [
    {
     "data": {
      "text/html": [
       "0.058"
      ],
      "text/latex": [
       "0.058"
      ],
      "text/markdown": [
       "0.058"
      ],
      "text/plain": [
       "[1] 0.058"
      ]
     },
     "metadata": {},
     "output_type": "display_data"
    }
   ],
   "source": [
    "# FWER with 100 tests\n",
    "# desired rate = 0.05\n",
    "# bonferroni adjustment\n",
    "mean(replicate(1000, any(p.adjust(replicate(100, get_p_val()), \"bonferroni\") < 0.05)))"
   ]
  },
  {
   "cell_type": "markdown",
   "id": "flush-retail",
   "metadata": {},
   "source": [
    "Tukey’s Honest Significance difference can be applied directly to an object which was created using aov(). It will adjust the p-values of the pairwise comparisons of the means to control the FWER, in this case, for 0.05. Notice it also gives confidence intervals for the difference of the means."
   ]
  },
  {
   "cell_type": "code",
   "execution_count": 30,
   "id": "graduate-meaning",
   "metadata": {},
   "outputs": [
    {
     "data": {
      "text/plain": [
       "  Tukey multiple comparisons of means\n",
       "    95% family-wise confidence level\n",
       "\n",
       "Fit: aov(formula = coag ~ diet, data = coagulation)\n",
       "\n",
       "$diet\n",
       "    diff         lwr       upr     p adj\n",
       "B-A    5   0.7245544  9.275446 0.0183283\n",
       "C-A    7   2.7245544 11.275446 0.0009577\n",
       "D-A    0  -4.0560438  4.056044 1.0000000\n",
       "C-B    2  -1.8240748  5.824075 0.4766005\n",
       "D-B   -5  -8.5770944 -1.422906 0.0044114\n",
       "D-C   -7 -10.5770944 -3.422906 0.0001268\n"
      ]
     },
     "metadata": {},
     "output_type": "display_data"
    }
   ],
   "source": [
    "coag_aov <- aov(coag ~ diet, data = coagulation)\n",
    "TukeyHSD(coag_aov, conf.level = .95)"
   ]
  },
  {
   "cell_type": "markdown",
   "id": "yellow-smooth",
   "metadata": {},
   "source": [
    "Based on these results, we see no difference between A and D as well as B and C. All other pairwise comparisons are significant. If you return to the original boxplot, these results should not be surprising."
   ]
  },
  {
   "cell_type": "code",
   "execution_count": 39,
   "id": "welcome-retirement",
   "metadata": {},
   "outputs": [
    {
     "data": {
      "image/png": "[encoded data removed]",
      "text/plain": [
       "Plot with title \"95% family-wise confidence level\n",
       "\""
      ]
     },
     "metadata": {
      "image/png": {
       "height": 420,
       "width": 420
      }
     },
     "output_type": "display_data"
    }
   ],
   "source": [
    "plot(TukeyHSD(coag_aov, conf.level = .95))"
   ]
  },
  {
   "cell_type": "markdown",
   "id": "expressed-glory",
   "metadata": {},
   "source": [
    "# 2-way ANOVA"
   ]
  },
  {
   "cell_type": "markdown",
   "id": "beautiful-kingston",
   "metadata": {},
   "source": [
    " 48 rats were randomly assigned both one of three poisons and one of four possible treatments. The experimenters then measures their survival time in tens of hours. A total of 12 groups, each with 4 replicates.\n",
    "\n"
   ]
  },
  {
   "cell_type": "code",
   "execution_count": 40,
   "id": "casual-attitude",
   "metadata": {},
   "outputs": [
    {
     "data": {
      "text/html": [
       "<table>\n",
       "<caption>A data.frame: 48 × 3</caption>\n",
       "<thead>\n",
       "\t<tr><th></th><th scope=col>time</th><th scope=col>poison</th><th scope=col>treat</th></tr>\n",
       "\t<tr><th></th><th scope=col>&lt;dbl&gt;</th><th scope=col>&lt;fct&gt;</th><th scope=col>&lt;fct&gt;</th></tr>\n",
       "</thead>\n",
       "<tbody>\n",
       "\t<tr><th scope=row>1</th><td>0.31</td><td>I  </td><td>A</td></tr>\n",
       "\t<tr><th scope=row>2</th><td>0.82</td><td>I  </td><td>B</td></tr>\n",
       "\t<tr><th scope=row>3</th><td>0.43</td><td>I  </td><td>C</td></tr>\n",
       "\t<tr><th scope=row>4</th><td>0.45</td><td>I  </td><td>D</td></tr>\n",
       "\t<tr><th scope=row>5</th><td>0.45</td><td>I  </td><td>A</td></tr>\n",
       "\t<tr><th scope=row>6</th><td>1.10</td><td>I  </td><td>B</td></tr>\n",
       "\t<tr><th scope=row>7</th><td>0.45</td><td>I  </td><td>C</td></tr>\n",
       "\t<tr><th scope=row>8</th><td>0.71</td><td>I  </td><td>D</td></tr>\n",
       "\t<tr><th scope=row>9</th><td>0.46</td><td>I  </td><td>A</td></tr>\n",
       "\t<tr><th scope=row>10</th><td>0.88</td><td>I  </td><td>B</td></tr>\n",
       "\t<tr><th scope=row>11</th><td>0.63</td><td>I  </td><td>C</td></tr>\n",
       "\t<tr><th scope=row>12</th><td>0.66</td><td>I  </td><td>D</td></tr>\n",
       "\t<tr><th scope=row>13</th><td>0.43</td><td>I  </td><td>A</td></tr>\n",
       "\t<tr><th scope=row>14</th><td>0.72</td><td>I  </td><td>B</td></tr>\n",
       "\t<tr><th scope=row>15</th><td>0.76</td><td>I  </td><td>C</td></tr>\n",
       "\t<tr><th scope=row>16</th><td>0.62</td><td>I  </td><td>D</td></tr>\n",
       "\t<tr><th scope=row>17</th><td>0.36</td><td>II </td><td>A</td></tr>\n",
       "\t<tr><th scope=row>18</th><td>0.92</td><td>II </td><td>B</td></tr>\n",
       "\t<tr><th scope=row>19</th><td>0.44</td><td>II </td><td>C</td></tr>\n",
       "\t<tr><th scope=row>20</th><td>0.56</td><td>II </td><td>D</td></tr>\n",
       "\t<tr><th scope=row>21</th><td>0.29</td><td>II </td><td>A</td></tr>\n",
       "\t<tr><th scope=row>22</th><td>0.61</td><td>II </td><td>B</td></tr>\n",
       "\t<tr><th scope=row>23</th><td>0.35</td><td>II </td><td>C</td></tr>\n",
       "\t<tr><th scope=row>24</th><td>1.02</td><td>II </td><td>D</td></tr>\n",
       "\t<tr><th scope=row>25</th><td>0.40</td><td>II </td><td>A</td></tr>\n",
       "\t<tr><th scope=row>26</th><td>0.49</td><td>II </td><td>B</td></tr>\n",
       "\t<tr><th scope=row>27</th><td>0.31</td><td>II </td><td>C</td></tr>\n",
       "\t<tr><th scope=row>28</th><td>0.71</td><td>II </td><td>D</td></tr>\n",
       "\t<tr><th scope=row>29</th><td>0.23</td><td>II </td><td>A</td></tr>\n",
       "\t<tr><th scope=row>30</th><td>1.24</td><td>II </td><td>B</td></tr>\n",
       "\t<tr><th scope=row>31</th><td>0.40</td><td>II </td><td>C</td></tr>\n",
       "\t<tr><th scope=row>32</th><td>0.38</td><td>II </td><td>D</td></tr>\n",
       "\t<tr><th scope=row>33</th><td>0.22</td><td>III</td><td>A</td></tr>\n",
       "\t<tr><th scope=row>34</th><td>0.30</td><td>III</td><td>B</td></tr>\n",
       "\t<tr><th scope=row>35</th><td>0.23</td><td>III</td><td>C</td></tr>\n",
       "\t<tr><th scope=row>36</th><td>0.30</td><td>III</td><td>D</td></tr>\n",
       "\t<tr><th scope=row>37</th><td>0.21</td><td>III</td><td>A</td></tr>\n",
       "\t<tr><th scope=row>38</th><td>0.37</td><td>III</td><td>B</td></tr>\n",
       "\t<tr><th scope=row>39</th><td>0.25</td><td>III</td><td>C</td></tr>\n",
       "\t<tr><th scope=row>40</th><td>0.36</td><td>III</td><td>D</td></tr>\n",
       "\t<tr><th scope=row>41</th><td>0.18</td><td>III</td><td>A</td></tr>\n",
       "\t<tr><th scope=row>42</th><td>0.38</td><td>III</td><td>B</td></tr>\n",
       "\t<tr><th scope=row>43</th><td>0.24</td><td>III</td><td>C</td></tr>\n",
       "\t<tr><th scope=row>44</th><td>0.31</td><td>III</td><td>D</td></tr>\n",
       "\t<tr><th scope=row>45</th><td>0.23</td><td>III</td><td>A</td></tr>\n",
       "\t<tr><th scope=row>46</th><td>0.29</td><td>III</td><td>B</td></tr>\n",
       "\t<tr><th scope=row>47</th><td>0.22</td><td>III</td><td>C</td></tr>\n",
       "\t<tr><th scope=row>48</th><td>0.33</td><td>III</td><td>D</td></tr>\n",
       "</tbody>\n",
       "</table>\n"
      ],
      "text/latex": [
       "A data.frame: 48 × 3\n",
       "\\begin{tabular}{r|lll}\n",
       "  & time & poison & treat\\\\\n",
       "  & <dbl> & <fct> & <fct>\\\\\n",
       "\\hline\n",
       "\t1 & 0.31 & I   & A\\\\\n",
       "\t2 & 0.82 & I   & B\\\\\n",
       "\t3 & 0.43 & I   & C\\\\\n",
       "\t4 & 0.45 & I   & D\\\\\n",
       "\t5 & 0.45 & I   & A\\\\\n",
       "\t6 & 1.10 & I   & B\\\\\n",
       "\t7 & 0.45 & I   & C\\\\\n",
       "\t8 & 0.71 & I   & D\\\\\n",
       "\t9 & 0.46 & I   & A\\\\\n",
       "\t10 & 0.88 & I   & B\\\\\n",
       "\t11 & 0.63 & I   & C\\\\\n",
       "\t12 & 0.66 & I   & D\\\\\n",
       "\t13 & 0.43 & I   & A\\\\\n",
       "\t14 & 0.72 & I   & B\\\\\n",
       "\t15 & 0.76 & I   & C\\\\\n",
       "\t16 & 0.62 & I   & D\\\\\n",
       "\t17 & 0.36 & II  & A\\\\\n",
       "\t18 & 0.92 & II  & B\\\\\n",
       "\t19 & 0.44 & II  & C\\\\\n",
       "\t20 & 0.56 & II  & D\\\\\n",
       "\t21 & 0.29 & II  & A\\\\\n",
       "\t22 & 0.61 & II  & B\\\\\n",
       "\t23 & 0.35 & II  & C\\\\\n",
       "\t24 & 1.02 & II  & D\\\\\n",
       "\t25 & 0.40 & II  & A\\\\\n",
       "\t26 & 0.49 & II  & B\\\\\n",
       "\t27 & 0.31 & II  & C\\\\\n",
       "\t28 & 0.71 & II  & D\\\\\n",
       "\t29 & 0.23 & II  & A\\\\\n",
       "\t30 & 1.24 & II  & B\\\\\n",
       "\t31 & 0.40 & II  & C\\\\\n",
       "\t32 & 0.38 & II  & D\\\\\n",
       "\t33 & 0.22 & III & A\\\\\n",
       "\t34 & 0.30 & III & B\\\\\n",
       "\t35 & 0.23 & III & C\\\\\n",
       "\t36 & 0.30 & III & D\\\\\n",
       "\t37 & 0.21 & III & A\\\\\n",
       "\t38 & 0.37 & III & B\\\\\n",
       "\t39 & 0.25 & III & C\\\\\n",
       "\t40 & 0.36 & III & D\\\\\n",
       "\t41 & 0.18 & III & A\\\\\n",
       "\t42 & 0.38 & III & B\\\\\n",
       "\t43 & 0.24 & III & C\\\\\n",
       "\t44 & 0.31 & III & D\\\\\n",
       "\t45 & 0.23 & III & A\\\\\n",
       "\t46 & 0.29 & III & B\\\\\n",
       "\t47 & 0.22 & III & C\\\\\n",
       "\t48 & 0.33 & III & D\\\\\n",
       "\\end{tabular}\n"
      ],
      "text/markdown": [
       "\n",
       "A data.frame: 48 × 3\n",
       "\n",
       "| <!--/--> | time &lt;dbl&gt; | poison &lt;fct&gt; | treat &lt;fct&gt; |\n",
       "|---|---|---|---|\n",
       "| 1 | 0.31 | I   | A |\n",
       "| 2 | 0.82 | I   | B |\n",
       "| 3 | 0.43 | I   | C |\n",
       "| 4 | 0.45 | I   | D |\n",
       "| 5 | 0.45 | I   | A |\n",
       "| 6 | 1.10 | I   | B |\n",
       "| 7 | 0.45 | I   | C |\n",
       "| 8 | 0.71 | I   | D |\n",
       "| 9 | 0.46 | I   | A |\n",
       "| 10 | 0.88 | I   | B |\n",
       "| 11 | 0.63 | I   | C |\n",
       "| 12 | 0.66 | I   | D |\n",
       "| 13 | 0.43 | I   | A |\n",
       "| 14 | 0.72 | I   | B |\n",
       "| 15 | 0.76 | I   | C |\n",
       "| 16 | 0.62 | I   | D |\n",
       "| 17 | 0.36 | II  | A |\n",
       "| 18 | 0.92 | II  | B |\n",
       "| 19 | 0.44 | II  | C |\n",
       "| 20 | 0.56 | II  | D |\n",
       "| 21 | 0.29 | II  | A |\n",
       "| 22 | 0.61 | II  | B |\n",
       "| 23 | 0.35 | II  | C |\n",
       "| 24 | 1.02 | II  | D |\n",
       "| 25 | 0.40 | II  | A |\n",
       "| 26 | 0.49 | II  | B |\n",
       "| 27 | 0.31 | II  | C |\n",
       "| 28 | 0.71 | II  | D |\n",
       "| 29 | 0.23 | II  | A |\n",
       "| 30 | 1.24 | II  | B |\n",
       "| 31 | 0.40 | II  | C |\n",
       "| 32 | 0.38 | II  | D |\n",
       "| 33 | 0.22 | III | A |\n",
       "| 34 | 0.30 | III | B |\n",
       "| 35 | 0.23 | III | C |\n",
       "| 36 | 0.30 | III | D |\n",
       "| 37 | 0.21 | III | A |\n",
       "| 38 | 0.37 | III | B |\n",
       "| 39 | 0.25 | III | C |\n",
       "| 40 | 0.36 | III | D |\n",
       "| 41 | 0.18 | III | A |\n",
       "| 42 | 0.38 | III | B |\n",
       "| 43 | 0.24 | III | C |\n",
       "| 44 | 0.31 | III | D |\n",
       "| 45 | 0.23 | III | A |\n",
       "| 46 | 0.29 | III | B |\n",
       "| 47 | 0.22 | III | C |\n",
       "| 48 | 0.33 | III | D |\n",
       "\n"
      ],
      "text/plain": [
       "   time poison treat\n",
       "1  0.31 I      A    \n",
       "2  0.82 I      B    \n",
       "3  0.43 I      C    \n",
       "4  0.45 I      D    \n",
       "5  0.45 I      A    \n",
       "6  1.10 I      B    \n",
       "7  0.45 I      C    \n",
       "8  0.71 I      D    \n",
       "9  0.46 I      A    \n",
       "10 0.88 I      B    \n",
       "11 0.63 I      C    \n",
       "12 0.66 I      D    \n",
       "13 0.43 I      A    \n",
       "14 0.72 I      B    \n",
       "15 0.76 I      C    \n",
       "16 0.62 I      D    \n",
       "17 0.36 II     A    \n",
       "18 0.92 II     B    \n",
       "19 0.44 II     C    \n",
       "20 0.56 II     D    \n",
       "21 0.29 II     A    \n",
       "22 0.61 II     B    \n",
       "23 0.35 II     C    \n",
       "24 1.02 II     D    \n",
       "25 0.40 II     A    \n",
       "26 0.49 II     B    \n",
       "27 0.31 II     C    \n",
       "28 0.71 II     D    \n",
       "29 0.23 II     A    \n",
       "30 1.24 II     B    \n",
       "31 0.40 II     C    \n",
       "32 0.38 II     D    \n",
       "33 0.22 III    A    \n",
       "34 0.30 III    B    \n",
       "35 0.23 III    C    \n",
       "36 0.30 III    D    \n",
       "37 0.21 III    A    \n",
       "38 0.37 III    B    \n",
       "39 0.25 III    C    \n",
       "40 0.36 III    D    \n",
       "41 0.18 III    A    \n",
       "42 0.38 III    B    \n",
       "43 0.24 III    C    \n",
       "44 0.31 III    D    \n",
       "45 0.23 III    A    \n",
       "46 0.29 III    B    \n",
       "47 0.22 III    C    \n",
       "48 0.33 III    D    "
      ]
     },
     "metadata": {},
     "output_type": "display_data"
    }
   ],
   "source": [
    "rats"
   ]
  },
  {
   "cell_type": "code",
   "execution_count": 43,
   "id": "alike-drilling",
   "metadata": {},
   "outputs": [
    {
     "name": "stderr",
     "output_type": "stream",
     "text": [
      "`summarise()` regrouping output by 'poison' (override with `.groups` argument)\n",
      "\n"
     ]
    },
    {
     "data": {
      "image/png": "[encoded data removed]",
      "text/plain": [
       "plot without title"
      ]
     },
     "metadata": {
      "image/png": {
       "height": 420,
       "width": 420
      }
     },
     "output_type": "display_data"
    }
   ],
   "source": [
    "rats %>% \n",
    "group_by(poison, treat) %>% \n",
    "summarize(time = mean(time)) %>% \n",
    "ggplot(aes(poison, time, group = treat, color = treat)) +\n",
    "geom_point() + \n",
    "geom_line() +\n",
    "theme_minimal()"
   ]
  },
  {
   "cell_type": "markdown",
   "id": "wooden-uruguay",
   "metadata": {},
   "source": [
    "If there is not interaction, thus an additive model, we would expect to see parallel lines. That would mean, when we change the level of one factor, there can be an effect on the response. However, the difference between the levels of the other factor should still be the same.\n",
    "\n",
    "The obvious indication of interaction would be lines that cross while heading in different directions. Here we don’t see that, but the lines aren’t strictly parallel, and there is some overlap on the right panel. However, is this interaction effect significant?\n",
    "\n",
    "Let’s fit each of the possible models, then investigate their estimates for each of the group means."
   ]
  },
  {
   "cell_type": "code",
   "execution_count": 44,
   "id": "acquired-choice",
   "metadata": {},
   "outputs": [],
   "source": [
    "rats_null <- lm(time ~ 1, data = rats)\n",
    "rats_poison <- lm(time ~ poison, data = rats)\n",
    "rats_treat <- lm(time ~ poison, data = rats)\n",
    "rats_additive <- lm(time ~ poison + treat, data = rats)\n",
    "rats_interaction <- lm(time ~ poison * treat, data = rats)"
   ]
  },
  {
   "cell_type": "code",
   "execution_count": 47,
   "id": "valued-wages",
   "metadata": {},
   "outputs": [
    {
     "data": {
      "text/plain": [
       "Call:\n",
       "   aov(formula = time ~ poison * treat, data = rats)\n",
       "\n",
       "Terms:\n",
       "                   poison     treat poison:treat Residuals\n",
       "Sum of Squares  1.0330125 0.9212062    0.2501375 0.8007250\n",
       "Deg. of Freedom         2         3            6        36\n",
       "\n",
       "Residual standard error: 0.1491387\n",
       "Estimated effects may be unbalanced"
      ]
     },
     "metadata": {},
     "output_type": "display_data"
    }
   ],
   "source": [
    "rats_aov <- aov(time ~ poison * treat, data = rats)\n",
    "rats_aov"
   ]
  },
  {
   "cell_type": "code",
   "execution_count": 48,
   "id": "crucial-share",
   "metadata": {},
   "outputs": [
    {
     "data": {
      "text/plain": [
       "             Df Sum Sq Mean Sq F value   Pr(>F)    \n",
       "poison        2 1.0330  0.5165  23.222 3.33e-07 ***\n",
       "treat         3 0.9212  0.3071  13.806 3.78e-06 ***\n",
       "poison:treat  6 0.2501  0.0417   1.874    0.112    \n",
       "Residuals    36 0.8007  0.0222                     \n",
       "---\n",
       "Signif. codes:  0 '***' 0.001 '**' 0.01 '*' 0.05 '.' 0.1 ' ' 1"
      ]
     },
     "metadata": {},
     "output_type": "display_data"
    }
   ],
   "source": [
    "summary(rats_aov)"
   ]
  },
  {
   "cell_type": "markdown",
   "id": "practical-wings",
   "metadata": {},
   "source": [
    "These tests should be performed according to the model **hierarchy**. First consider the test of interaction. If it is significant, we select the interaction model and perform no further testing. If interaction is not significant, we then consider the necessity of the individual factors of the additive model.\n",
    "\n"
   ]
  },
  {
   "cell_type": "markdown",
   "id": "magnetic-saudi",
   "metadata": {},
   "source": [
    "![](https://daviddalpiaz.github.io/appliedstats/images/hierarchy.png)"
   ]
  },
  {
   "cell_type": "markdown",
   "id": "mature-suspension",
   "metadata": {},
   "source": [
    "In the example above, the p-value of interaction is high (0.11 > 0.05), we we fail to reject the null hypothesis which states the interaction is not significant. Now we know the interaction is not significant, we will move on to test the additive model. With the additive model, we see that both factors (treat and poison) are significant, so we select the additive model"
   ]
  },
  {
   "cell_type": "code",
   "execution_count": 52,
   "id": "monthly-suicide",
   "metadata": {},
   "outputs": [
    {
     "data": {
      "text/plain": [
       "  Tukey multiple comparisons of means\n",
       "    95% family-wise confidence level\n",
       "\n",
       "Fit: aov(formula = time ~ poison + treat, data = rats)\n",
       "\n",
       "$poison\n",
       "            diff        lwr        upr     p adj\n",
       "II-I   -0.073125 -0.2089936  0.0627436 0.3989657\n",
       "III-I  -0.341250 -0.4771186 -0.2053814 0.0000008\n",
       "III-II -0.268125 -0.4039936 -0.1322564 0.0000606\n",
       "\n",
       "$treat\n",
       "           diff         lwr         upr     p adj\n",
       "B-A  0.36250000  0.18976135  0.53523865 0.0000083\n",
       "C-A  0.07833333 -0.09440532  0.25107198 0.6221729\n",
       "D-A  0.22000000  0.04726135  0.39273865 0.0076661\n",
       "C-B -0.28416667 -0.45690532 -0.11142802 0.0004090\n",
       "D-B -0.14250000 -0.31523865  0.03023865 0.1380432\n",
       "D-C  0.14166667 -0.03107198  0.31440532 0.1416151\n"
      ]
     },
     "metadata": {},
     "output_type": "display_data"
    }
   ],
   "source": [
    "TukeyHSD(aov(time ~ poison + treat, data = rats))"
   ]
  },
  {
   "cell_type": "markdown",
   "id": "material-pathology",
   "metadata": {},
   "source": [
    "For an example with interaction, we investigate the `warpbreaks` dataset, a default dataset in R."
   ]
  },
  {
   "cell_type": "code",
   "execution_count": 54,
   "id": "literary-tennis",
   "metadata": {},
   "outputs": [
    {
     "data": {
      "image/png": "[encoded data removed]",
      "text/plain": [
       "plot without title"
      ]
     },
     "metadata": {
      "image/png": {
       "height": 420,
       "width": 420
      }
     },
     "output_type": "display_data"
    }
   ],
   "source": [
    "par(mfrow = c(2, 1))\n",
    "with(warpbreaks, interaction.plot(wool, tension, breaks, lwd = 2, col = 2:4))\n",
    "with(warpbreaks, interaction.plot(tension, wool, breaks, lwd = 2, col = 2:3))"
   ]
  },
  {
   "cell_type": "code",
   "execution_count": 55,
   "id": "clinical-flavor",
   "metadata": {},
   "outputs": [
    {
     "data": {
      "text/plain": [
       "             Df Sum Sq Mean Sq F value   Pr(>F)    \n",
       "wool          1    451   450.7   3.765 0.058213 .  \n",
       "tension       2   2034  1017.1   8.498 0.000693 ***\n",
       "wool:tension  2   1003   501.4   4.189 0.021044 *  \n",
       "Residuals    48   5745   119.7                     \n",
       "---\n",
       "Signif. codes:  0 '***' 0.001 '**' 0.01 '*' 0.05 '.' 0.1 ' ' 1"
      ]
     },
     "metadata": {},
     "output_type": "display_data"
    }
   ],
   "source": [
    "summary(aov(breaks ~ wool * tension, data = warpbreaks))"
   ]
  },
  {
   "cell_type": "markdown",
   "id": "enclosed-tsunami",
   "metadata": {},
   "source": [
    "Using an   α of   0.05 the ANOVA test finds that the interaction is significant, so we use the interaction model here."
   ]
  },
  {
   "cell_type": "markdown",
   "id": "compressed-prevention",
   "metadata": {},
   "source": [
    "# The relationship between ANOVA and Linear regression"
   ]
  },
  {
   "cell_type": "code",
   "execution_count": 2,
   "id": "worth-poverty",
   "metadata": {},
   "outputs": [
    {
     "data": {
      "text/html": [
       "<table>\n",
       "<caption>A tibble: 24 × 3</caption>\n",
       "<thead>\n",
       "\t<tr><th scope=col>id</th><th scope=col>year</th><th scope=col>score</th></tr>\n",
       "\t<tr><th scope=col>&lt;fct&gt;</th><th scope=col>&lt;fct&gt;</th><th scope=col>&lt;dbl&gt;</th></tr>\n",
       "</thead>\n",
       "<tbody>\n",
       "\t<tr><td>1</td><td>year1</td><td>82</td></tr>\n",
       "\t<tr><td>1</td><td>year2</td><td>71</td></tr>\n",
       "\t<tr><td>1</td><td>year3</td><td>64</td></tr>\n",
       "\t<tr><td>2</td><td>year1</td><td>93</td></tr>\n",
       "\t<tr><td>2</td><td>year2</td><td>62</td></tr>\n",
       "\t<tr><td>2</td><td>year3</td><td>73</td></tr>\n",
       "\t<tr><td>3</td><td>year1</td><td>61</td></tr>\n",
       "\t<tr><td>3</td><td>year2</td><td>85</td></tr>\n",
       "\t<tr><td>3</td><td>year3</td><td>87</td></tr>\n",
       "\t<tr><td>4</td><td>year1</td><td>74</td></tr>\n",
       "\t<tr><td>4</td><td>year2</td><td>94</td></tr>\n",
       "\t<tr><td>4</td><td>year3</td><td>91</td></tr>\n",
       "\t<tr><td>5</td><td>year1</td><td>69</td></tr>\n",
       "\t<tr><td>5</td><td>year2</td><td>78</td></tr>\n",
       "\t<tr><td>5</td><td>year3</td><td>56</td></tr>\n",
       "\t<tr><td>6</td><td>year1</td><td>70</td></tr>\n",
       "\t<tr><td>6</td><td>year2</td><td>66</td></tr>\n",
       "\t<tr><td>6</td><td>year3</td><td>78</td></tr>\n",
       "\t<tr><td>7</td><td>year1</td><td>53</td></tr>\n",
       "\t<tr><td>7</td><td>year2</td><td>71</td></tr>\n",
       "\t<tr><td>7</td><td>year3</td><td>87</td></tr>\n",
       "\t<tr><td>8</td><td>year1</td><td>64</td></tr>\n",
       "\t<tr><td>8</td><td>year2</td><td>71</td></tr>\n",
       "\t<tr><td>8</td><td>year3</td><td>82</td></tr>\n",
       "</tbody>\n",
       "</table>\n"
      ],
      "text/latex": [
       "A tibble: 24 × 3\n",
       "\\begin{tabular}{lll}\n",
       " id & year & score\\\\\n",
       " <fct> & <fct> & <dbl>\\\\\n",
       "\\hline\n",
       "\t 1 & year1 & 82\\\\\n",
       "\t 1 & year2 & 71\\\\\n",
       "\t 1 & year3 & 64\\\\\n",
       "\t 2 & year1 & 93\\\\\n",
       "\t 2 & year2 & 62\\\\\n",
       "\t 2 & year3 & 73\\\\\n",
       "\t 3 & year1 & 61\\\\\n",
       "\t 3 & year2 & 85\\\\\n",
       "\t 3 & year3 & 87\\\\\n",
       "\t 4 & year1 & 74\\\\\n",
       "\t 4 & year2 & 94\\\\\n",
       "\t 4 & year3 & 91\\\\\n",
       "\t 5 & year1 & 69\\\\\n",
       "\t 5 & year2 & 78\\\\\n",
       "\t 5 & year3 & 56\\\\\n",
       "\t 6 & year1 & 70\\\\\n",
       "\t 6 & year2 & 66\\\\\n",
       "\t 6 & year3 & 78\\\\\n",
       "\t 7 & year1 & 53\\\\\n",
       "\t 7 & year2 & 71\\\\\n",
       "\t 7 & year3 & 87\\\\\n",
       "\t 8 & year1 & 64\\\\\n",
       "\t 8 & year2 & 71\\\\\n",
       "\t 8 & year3 & 82\\\\\n",
       "\\end{tabular}\n"
      ],
      "text/markdown": [
       "\n",
       "A tibble: 24 × 3\n",
       "\n",
       "| id &lt;fct&gt; | year &lt;fct&gt; | score &lt;dbl&gt; |\n",
       "|---|---|---|\n",
       "| 1 | year1 | 82 |\n",
       "| 1 | year2 | 71 |\n",
       "| 1 | year3 | 64 |\n",
       "| 2 | year1 | 93 |\n",
       "| 2 | year2 | 62 |\n",
       "| 2 | year3 | 73 |\n",
       "| 3 | year1 | 61 |\n",
       "| 3 | year2 | 85 |\n",
       "| 3 | year3 | 87 |\n",
       "| 4 | year1 | 74 |\n",
       "| 4 | year2 | 94 |\n",
       "| 4 | year3 | 91 |\n",
       "| 5 | year1 | 69 |\n",
       "| 5 | year2 | 78 |\n",
       "| 5 | year3 | 56 |\n",
       "| 6 | year1 | 70 |\n",
       "| 6 | year2 | 66 |\n",
       "| 6 | year3 | 78 |\n",
       "| 7 | year1 | 53 |\n",
       "| 7 | year2 | 71 |\n",
       "| 7 | year3 | 87 |\n",
       "| 8 | year1 | 64 |\n",
       "| 8 | year2 | 71 |\n",
       "| 8 | year3 | 82 |\n",
       "\n"
      ],
      "text/plain": [
       "   id year  score\n",
       "1  1  year1 82   \n",
       "2  1  year2 71   \n",
       "3  1  year3 64   \n",
       "4  2  year1 93   \n",
       "5  2  year2 62   \n",
       "6  2  year3 73   \n",
       "7  3  year1 61   \n",
       "8  3  year2 85   \n",
       "9  3  year3 87   \n",
       "10 4  year1 74   \n",
       "11 4  year2 94   \n",
       "12 4  year3 91   \n",
       "13 5  year1 69   \n",
       "14 5  year2 78   \n",
       "15 5  year3 56   \n",
       "16 6  year1 70   \n",
       "17 6  year2 66   \n",
       "18 6  year3 78   \n",
       "19 7  year1 53   \n",
       "20 7  year2 71   \n",
       "21 7  year3 87   \n",
       "22 8  year1 64   \n",
       "23 8  year2 71   \n",
       "24 8  year3 82   "
      ]
     },
     "metadata": {},
     "output_type": "display_data"
    }
   ],
   "source": [
    "library(tidyverse)\n",
    "# one-way anova\n",
    "scores <- tribble(\n",
    "  ~year1, ~year2, ~year3,\n",
    "  82, 71, 64,\n",
    "  93, 62, 73,\n",
    "  61, 85, 87,\n",
    "  74, 94, 91,\n",
    "  69, 78, 56,\n",
    "  70, 66, 78,\n",
    "  53, 71, 87,\n",
    "  64, 71, 82\n",
    ")\n",
    "\n",
    "\n",
    "scores_long <- scores %>% \n",
    "  mutate(id = row_number()) %>% \n",
    "  pivot_longer(!id, names_to = \"year\", values_to = \"score\")  %>% \n",
    "  mutate(year = as.factor(year), id = as.factor(id))\n",
    "\n",
    "scores_long"
   ]
  },
  {
   "cell_type": "code",
   "execution_count": 3,
   "id": "impossible-workplace",
   "metadata": {},
   "outputs": [
    {
     "data": {
      "text/plain": [
       "            Df Sum Sq Mean Sq F value Pr(>F)\n",
       "year         2    172    86.0   0.621  0.547\n",
       "Residuals   21   2906   138.4               "
      ]
     },
     "metadata": {},
     "output_type": "display_data"
    },
    {
     "data": {
      "text/plain": [
       "\n",
       "Call:\n",
       "lm(formula = score ~ year, data = scores_long)\n",
       "\n",
       "Residuals:\n",
       "   Min     1Q Median     3Q    Max \n",
       "-21.25  -7.25  -1.25   9.75  22.25 \n",
       "\n",
       "Coefficients:\n",
       "            Estimate Std. Error t value Pr(>|t|)    \n",
       "(Intercept)   70.750      4.159  17.010  9.3e-14 ***\n",
       "yearyear2      4.000      5.882   0.680    0.504    \n",
       "yearyear3      6.500      5.882   1.105    0.282    \n",
       "---\n",
       "Signif. codes:  0 '***' 0.001 '**' 0.01 '*' 0.05 '.' 0.1 ' ' 1\n",
       "\n",
       "Residual standard error: 11.76 on 21 degrees of freedom\n",
       "Multiple R-squared:  0.05587,\tAdjusted R-squared:  -0.03405 \n",
       "F-statistic: 0.6214 on 2 and 21 DF,  p-value: 0.5468\n"
      ]
     },
     "metadata": {},
     "output_type": "display_data"
    },
    {
     "data": {
      "text/plain": [
       "            Df Sum Sq Mean Sq F value Pr(>F)\n",
       "year         2    172    86.0   0.621  0.547\n",
       "Residuals   21   2906   138.4               "
      ]
     },
     "metadata": {},
     "output_type": "display_data"
    },
    {
     "data": {
      "text/html": [
       "<table>\n",
       "<caption>A anova: 2 × 5</caption>\n",
       "<thead>\n",
       "\t<tr><th></th><th scope=col>Df</th><th scope=col>Sum Sq</th><th scope=col>Mean Sq</th><th scope=col>F value</th><th scope=col>Pr(&gt;F)</th></tr>\n",
       "\t<tr><th></th><th scope=col>&lt;int&gt;</th><th scope=col>&lt;dbl&gt;</th><th scope=col>&lt;dbl&gt;</th><th scope=col>&lt;dbl&gt;</th><th scope=col>&lt;dbl&gt;</th></tr>\n",
       "</thead>\n",
       "<tbody>\n",
       "\t<tr><th scope=row>year</th><td> 2</td><td> 172.0</td><td> 86.0000</td><td>0.6213659</td><td>0.5467985</td></tr>\n",
       "\t<tr><th scope=row>Residuals</th><td>21</td><td>2906.5</td><td>138.4048</td><td>       NA</td><td>       NA</td></tr>\n",
       "</tbody>\n",
       "</table>\n"
      ],
      "text/latex": [
       "A anova: 2 × 5\n",
       "\\begin{tabular}{r|lllll}\n",
       "  & Df & Sum Sq & Mean Sq & F value & Pr(>F)\\\\\n",
       "  & <int> & <dbl> & <dbl> & <dbl> & <dbl>\\\\\n",
       "\\hline\n",
       "\tyear &  2 &  172.0 &  86.0000 & 0.6213659 & 0.5467985\\\\\n",
       "\tResiduals & 21 & 2906.5 & 138.4048 &        NA &        NA\\\\\n",
       "\\end{tabular}\n"
      ],
      "text/markdown": [
       "\n",
       "A anova: 2 × 5\n",
       "\n",
       "| <!--/--> | Df &lt;int&gt; | Sum Sq &lt;dbl&gt; | Mean Sq &lt;dbl&gt; | F value &lt;dbl&gt; | Pr(&gt;F) &lt;dbl&gt; |\n",
       "|---|---|---|---|---|---|\n",
       "| year |  2 |  172.0 |  86.0000 | 0.6213659 | 0.5467985 |\n",
       "| Residuals | 21 | 2906.5 | 138.4048 |        NA |        NA |\n",
       "\n"
      ],
      "text/plain": [
       "          Df Sum Sq Mean Sq  F value   Pr(>F)   \n",
       "year       2  172.0  86.0000 0.6213659 0.5467985\n",
       "Residuals 21 2906.5 138.4048        NA        NA"
      ]
     },
     "metadata": {},
     "output_type": "display_data"
    },
    {
     "data": {
      "text/html": [
       "<table>\n",
       "<caption>A tibble: 8 × 4</caption>\n",
       "<thead>\n",
       "\t<tr><th scope=col>id</th><th scope=col>year1</th><th scope=col>year2</th><th scope=col>year3</th></tr>\n",
       "\t<tr><th scope=col>&lt;fct&gt;</th><th scope=col>&lt;dbl&gt;</th><th scope=col>&lt;dbl&gt;</th><th scope=col>&lt;dbl&gt;</th></tr>\n",
       "</thead>\n",
       "<tbody>\n",
       "\t<tr><td>1</td><td>70.75</td><td>74.75</td><td>77.25</td></tr>\n",
       "\t<tr><td>2</td><td>70.75</td><td>74.75</td><td>77.25</td></tr>\n",
       "\t<tr><td>3</td><td>70.75</td><td>74.75</td><td>77.25</td></tr>\n",
       "\t<tr><td>4</td><td>70.75</td><td>74.75</td><td>77.25</td></tr>\n",
       "\t<tr><td>5</td><td>70.75</td><td>74.75</td><td>77.25</td></tr>\n",
       "\t<tr><td>6</td><td>70.75</td><td>74.75</td><td>77.25</td></tr>\n",
       "\t<tr><td>7</td><td>70.75</td><td>74.75</td><td>77.25</td></tr>\n",
       "\t<tr><td>8</td><td>70.75</td><td>74.75</td><td>77.25</td></tr>\n",
       "</tbody>\n",
       "</table>\n"
      ],
      "text/latex": [
       "A tibble: 8 × 4\n",
       "\\begin{tabular}{llll}\n",
       " id & year1 & year2 & year3\\\\\n",
       " <fct> & <dbl> & <dbl> & <dbl>\\\\\n",
       "\\hline\n",
       "\t 1 & 70.75 & 74.75 & 77.25\\\\\n",
       "\t 2 & 70.75 & 74.75 & 77.25\\\\\n",
       "\t 3 & 70.75 & 74.75 & 77.25\\\\\n",
       "\t 4 & 70.75 & 74.75 & 77.25\\\\\n",
       "\t 5 & 70.75 & 74.75 & 77.25\\\\\n",
       "\t 6 & 70.75 & 74.75 & 77.25\\\\\n",
       "\t 7 & 70.75 & 74.75 & 77.25\\\\\n",
       "\t 8 & 70.75 & 74.75 & 77.25\\\\\n",
       "\\end{tabular}\n"
      ],
      "text/markdown": [
       "\n",
       "A tibble: 8 × 4\n",
       "\n",
       "| id &lt;fct&gt; | year1 &lt;dbl&gt; | year2 &lt;dbl&gt; | year3 &lt;dbl&gt; |\n",
       "|---|---|---|---|\n",
       "| 1 | 70.75 | 74.75 | 77.25 |\n",
       "| 2 | 70.75 | 74.75 | 77.25 |\n",
       "| 3 | 70.75 | 74.75 | 77.25 |\n",
       "| 4 | 70.75 | 74.75 | 77.25 |\n",
       "| 5 | 70.75 | 74.75 | 77.25 |\n",
       "| 6 | 70.75 | 74.75 | 77.25 |\n",
       "| 7 | 70.75 | 74.75 | 77.25 |\n",
       "| 8 | 70.75 | 74.75 | 77.25 |\n",
       "\n"
      ],
      "text/plain": [
       "  id year1 year2 year3\n",
       "1 1  70.75 74.75 77.25\n",
       "2 2  70.75 74.75 77.25\n",
       "3 3  70.75 74.75 77.25\n",
       "4 4  70.75 74.75 77.25\n",
       "5 5  70.75 74.75 77.25\n",
       "6 6  70.75 74.75 77.25\n",
       "7 7  70.75 74.75 77.25\n",
       "8 8  70.75 74.75 77.25"
      ]
     },
     "metadata": {},
     "output_type": "display_data"
    }
   ],
   "source": [
    "# one-way ANOVA\n",
    "aov_scores <- aov(score ~ year, data = scores_long)\n",
    "summary(aov_scores)\n",
    "\n",
    "mod_scores <- lm(score ~ year, data = scores_long)\n",
    "summary(mod_scores)\n",
    "\n",
    "summary(aov_scores)\n",
    "anova(mod_scores)\n",
    "\n",
    "scores_long %>% \n",
    "  mutate(score = fitted(mod_scores)) %>% \n",
    "  pivot_wider(names_from = year, values_from = score)"
   ]
  },
  {
   "cell_type": "code",
   "execution_count": 5,
   "id": "expressed-headquarters",
   "metadata": {},
   "outputs": [
    {
     "data": {
      "text/plain": [
       "            Df Sum Sq Mean Sq F value Pr(>F)\n",
       "year         2  172.0    86.0   0.547  0.591\n",
       "id           7  705.8   100.8   0.641  0.716\n",
       "Residuals   14 2200.7   157.2               "
      ]
     },
     "metadata": {},
     "output_type": "display_data"
    },
    {
     "data": {
      "text/plain": [
       "\n",
       "Call:\n",
       "lm(formula = score ~ year + id, data = scores_long)\n",
       "\n",
       "Residuals:\n",
       "     Min       1Q   Median       3Q      Max \n",
       "-14.6667  -6.7083   0.9167   6.7083  20.5000 \n",
       "\n",
       "Coefficients:\n",
       "              Estimate Std. Error t value Pr(>|t|)    \n",
       "(Intercept)  6.883e+01  8.093e+00   8.505 6.67e-07 ***\n",
       "yearyear2    4.000e+00  6.269e+00   0.638    0.534    \n",
       "yearyear3    6.500e+00  6.269e+00   1.037    0.317    \n",
       "id2          3.667e+00  1.024e+01   0.358    0.726    \n",
       "id3          5.333e+00  1.024e+01   0.521    0.611    \n",
       "id4          1.400e+01  1.024e+01   1.368    0.193    \n",
       "id5         -4.667e+00  1.024e+01  -0.456    0.655    \n",
       "id6         -1.000e+00  1.024e+01  -0.098    0.924    \n",
       "id7         -2.000e+00  1.024e+01  -0.195    0.848    \n",
       "id8         -7.252e-15  1.024e+01   0.000    1.000    \n",
       "---\n",
       "Signif. codes:  0 '***' 0.001 '**' 0.01 '*' 0.05 '.' 0.1 ' ' 1\n",
       "\n",
       "Residual standard error: 12.54 on 14 degrees of freedom\n",
       "Multiple R-squared:  0.2851,\tAdjusted R-squared:  -0.1744 \n",
       "F-statistic: 0.6205 on 9 and 14 DF,  p-value: 0.7618\n"
      ]
     },
     "metadata": {},
     "output_type": "display_data"
    },
    {
     "data": {
      "text/plain": [
       "            Df Sum Sq Mean Sq F value Pr(>F)\n",
       "year         2  172.0    86.0   0.547  0.591\n",
       "id           7  705.8   100.8   0.641  0.716\n",
       "Residuals   14 2200.7   157.2               "
      ]
     },
     "metadata": {},
     "output_type": "display_data"
    },
    {
     "data": {
      "text/html": [
       "<table>\n",
       "<caption>A anova: 3 × 5</caption>\n",
       "<thead>\n",
       "\t<tr><th></th><th scope=col>Df</th><th scope=col>Sum Sq</th><th scope=col>Mean Sq</th><th scope=col>F value</th><th scope=col>Pr(&gt;F)</th></tr>\n",
       "\t<tr><th></th><th scope=col>&lt;int&gt;</th><th scope=col>&lt;dbl&gt;</th><th scope=col>&lt;dbl&gt;</th><th scope=col>&lt;dbl&gt;</th><th scope=col>&lt;dbl&gt;</th></tr>\n",
       "</thead>\n",
       "<tbody>\n",
       "\t<tr><th scope=row>year</th><td> 2</td><td> 172.0000</td><td> 86.0000</td><td>0.5471069</td><td>0.5905039</td></tr>\n",
       "\t<tr><th scope=row>id</th><td> 7</td><td> 705.8333</td><td>100.8333</td><td>0.6414723</td><td>0.7156325</td></tr>\n",
       "\t<tr><th scope=row>Residuals</th><td>14</td><td>2200.6667</td><td>157.1905</td><td>       NA</td><td>       NA</td></tr>\n",
       "</tbody>\n",
       "</table>\n"
      ],
      "text/latex": [
       "A anova: 3 × 5\n",
       "\\begin{tabular}{r|lllll}\n",
       "  & Df & Sum Sq & Mean Sq & F value & Pr(>F)\\\\\n",
       "  & <int> & <dbl> & <dbl> & <dbl> & <dbl>\\\\\n",
       "\\hline\n",
       "\tyear &  2 &  172.0000 &  86.0000 & 0.5471069 & 0.5905039\\\\\n",
       "\tid &  7 &  705.8333 & 100.8333 & 0.6414723 & 0.7156325\\\\\n",
       "\tResiduals & 14 & 2200.6667 & 157.1905 &        NA &        NA\\\\\n",
       "\\end{tabular}\n"
      ],
      "text/markdown": [
       "\n",
       "A anova: 3 × 5\n",
       "\n",
       "| <!--/--> | Df &lt;int&gt; | Sum Sq &lt;dbl&gt; | Mean Sq &lt;dbl&gt; | F value &lt;dbl&gt; | Pr(&gt;F) &lt;dbl&gt; |\n",
       "|---|---|---|---|---|---|\n",
       "| year |  2 |  172.0000 |  86.0000 | 0.5471069 | 0.5905039 |\n",
       "| id |  7 |  705.8333 | 100.8333 | 0.6414723 | 0.7156325 |\n",
       "| Residuals | 14 | 2200.6667 | 157.1905 |        NA |        NA |\n",
       "\n"
      ],
      "text/plain": [
       "          Df Sum Sq    Mean Sq  F value   Pr(>F)   \n",
       "year       2  172.0000  86.0000 0.5471069 0.5905039\n",
       "id         7  705.8333 100.8333 0.6414723 0.7156325\n",
       "Residuals 14 2200.6667 157.1905        NA        NA"
      ]
     },
     "metadata": {},
     "output_type": "display_data"
    },
    {
     "data": {
      "text/html": [
       "<table>\n",
       "<caption>A tibble: 8 × 4</caption>\n",
       "<thead>\n",
       "\t<tr><th scope=col>id</th><th scope=col>year1</th><th scope=col>year2</th><th scope=col>year3</th></tr>\n",
       "\t<tr><th scope=col>&lt;fct&gt;</th><th scope=col>&lt;dbl&gt;</th><th scope=col>&lt;dbl&gt;</th><th scope=col>&lt;dbl&gt;</th></tr>\n",
       "</thead>\n",
       "<tbody>\n",
       "\t<tr><td>1</td><td>68.83333</td><td>72.83333</td><td>75.33333</td></tr>\n",
       "\t<tr><td>2</td><td>72.50000</td><td>76.50000</td><td>79.00000</td></tr>\n",
       "\t<tr><td>3</td><td>74.16667</td><td>78.16667</td><td>80.66667</td></tr>\n",
       "\t<tr><td>4</td><td>82.83333</td><td>86.83333</td><td>89.33333</td></tr>\n",
       "\t<tr><td>5</td><td>64.16667</td><td>68.16667</td><td>70.66667</td></tr>\n",
       "\t<tr><td>6</td><td>67.83333</td><td>71.83333</td><td>74.33333</td></tr>\n",
       "\t<tr><td>7</td><td>66.83333</td><td>70.83333</td><td>73.33333</td></tr>\n",
       "\t<tr><td>8</td><td>68.83333</td><td>72.83333</td><td>75.33333</td></tr>\n",
       "</tbody>\n",
       "</table>\n"
      ],
      "text/latex": [
       "A tibble: 8 × 4\n",
       "\\begin{tabular}{llll}\n",
       " id & year1 & year2 & year3\\\\\n",
       " <fct> & <dbl> & <dbl> & <dbl>\\\\\n",
       "\\hline\n",
       "\t 1 & 68.83333 & 72.83333 & 75.33333\\\\\n",
       "\t 2 & 72.50000 & 76.50000 & 79.00000\\\\\n",
       "\t 3 & 74.16667 & 78.16667 & 80.66667\\\\\n",
       "\t 4 & 82.83333 & 86.83333 & 89.33333\\\\\n",
       "\t 5 & 64.16667 & 68.16667 & 70.66667\\\\\n",
       "\t 6 & 67.83333 & 71.83333 & 74.33333\\\\\n",
       "\t 7 & 66.83333 & 70.83333 & 73.33333\\\\\n",
       "\t 8 & 68.83333 & 72.83333 & 75.33333\\\\\n",
       "\\end{tabular}\n"
      ],
      "text/markdown": [
       "\n",
       "A tibble: 8 × 4\n",
       "\n",
       "| id &lt;fct&gt; | year1 &lt;dbl&gt; | year2 &lt;dbl&gt; | year3 &lt;dbl&gt; |\n",
       "|---|---|---|---|\n",
       "| 1 | 68.83333 | 72.83333 | 75.33333 |\n",
       "| 2 | 72.50000 | 76.50000 | 79.00000 |\n",
       "| 3 | 74.16667 | 78.16667 | 80.66667 |\n",
       "| 4 | 82.83333 | 86.83333 | 89.33333 |\n",
       "| 5 | 64.16667 | 68.16667 | 70.66667 |\n",
       "| 6 | 67.83333 | 71.83333 | 74.33333 |\n",
       "| 7 | 66.83333 | 70.83333 | 73.33333 |\n",
       "| 8 | 68.83333 | 72.83333 | 75.33333 |\n",
       "\n"
      ],
      "text/plain": [
       "  id year1    year2    year3   \n",
       "1 1  68.83333 72.83333 75.33333\n",
       "2 2  72.50000 76.50000 79.00000\n",
       "3 3  74.16667 78.16667 80.66667\n",
       "4 4  82.83333 86.83333 89.33333\n",
       "5 5  64.16667 68.16667 70.66667\n",
       "6 6  67.83333 71.83333 74.33333\n",
       "7 7  66.83333 70.83333 73.33333\n",
       "8 8  68.83333 72.83333 75.33333"
      ]
     },
     "metadata": {},
     "output_type": "display_data"
    }
   ],
   "source": [
    "# two-way anova (without interaction)\n",
    "scores_long <- scores %>% \n",
    "  mutate(id = row_number()) %>% \n",
    "  pivot_longer(!id, names_to = \"year\", values_to = \"score\")  %>% \n",
    "  mutate(year = as.factor(year), id = as.factor(id))\n",
    "\n",
    "aov_twoway_scores <- aov(score ~ year + id, data = scores_long)\n",
    "summary(aov_twoway_scores)\n",
    "\n",
    "# linear regression that is equivalent to ANOVA\n",
    "mod_twoway_scores <- lm(score ~ year + id, data = scores_long)\n",
    "summary(mod_twoway_scores)\n",
    "\n",
    "summary(aov_twoway_scores)\n",
    "anova(mod_twoway_scores)\n",
    "\n",
    "scores_long %>% \n",
    "  mutate(score = fitted(mod_twoway_scores)) %>% \n",
    "  pivot_wider(names_from = year, values_from = score)"
   ]
  },
  {
   "cell_type": "code",
   "execution_count": null,
   "id": "cubic-theme",
   "metadata": {},
   "outputs": [],
   "source": []
  }
 ],
 "metadata": {
  "kernelspec": {
   "display_name": "R",
   "language": "R",
   "name": "ir"
  },
  "language_info": {
   "codemirror_mode": "r",
   "file_extension": ".r",
   "mimetype": "text/x-r-source",
   "name": "R",
   "pygments_lexer": "r",
   "version": "4.0.4"
  }
 },
 "nbformat": 4,
 "nbformat_minor": 5
}
