{
 "cells": [
  {
   "cell_type": "code",
   "execution_count": 1,
   "id": "committed-corporation",
   "metadata": {},
   "outputs": [
    {
     "name": "stderr",
     "output_type": "stream",
     "text": [
      "-- \u001b[1mAttaching packages\u001b[22m ----------------------------------------------------------------------------------------------------------------------------------------------------- tidyverse 1.3.0 --\n",
      "\n",
      "\u001b[32mv\u001b[39m \u001b[34mggplot2\u001b[39m 3.3.2     \u001b[32mv\u001b[39m \u001b[34mpurrr  \u001b[39m 0.3.4\n",
      "\u001b[32mv\u001b[39m \u001b[34mtibble \u001b[39m 3.0.4     \u001b[32mv\u001b[39m \u001b[34mdplyr  \u001b[39m 1.0.2\n",
      "\u001b[32mv\u001b[39m \u001b[34mtidyr  \u001b[39m 1.1.2     \u001b[32mv\u001b[39m \u001b[34mstringr\u001b[39m 1.4.0\n",
      "\u001b[32mv\u001b[39m \u001b[34mreadr  \u001b[39m 1.4.0     \u001b[32mv\u001b[39m \u001b[34mforcats\u001b[39m 0.5.0\n",
      "\n",
      "-- \u001b[1mConflicts\u001b[22m -------------------------------------------------------------------------------------------------------------------------------------------------------- tidyverse_conflicts() --\n",
      "\u001b[31mx\u001b[39m \u001b[34mdplyr\u001b[39m::\u001b[32mfilter()\u001b[39m masks \u001b[34mstats\u001b[39m::filter()\n",
      "\u001b[31mx\u001b[39m \u001b[34mdplyr\u001b[39m::\u001b[32mlag()\u001b[39m    masks \u001b[34mstats\u001b[39m::lag()\n",
      "\n"
     ]
    }
   ],
   "source": [
    "library(tidyverse)"
   ]
  },
  {
   "cell_type": "markdown",
   "id": "controversial-apparel",
   "metadata": {},
   "source": [
    "# 1. Non parametric test, 1 sample  - Signed Test"
   ]
  },
  {
   "cell_type": "markdown",
   "id": "excess-slovakia",
   "metadata": {},
   "source": [
    "**Reference**: \n",
    "- <https://cran.r-project.org/web/packages/distributions3/vignettes/one-sample-sign-tests.html>\n",
    "- <https://www.youtube.com/watch?v=MFIcCOTHFPo&list=PLIeGtxpvyG-IV0Yf8AyeMgmNkpFBxBJlh&index=2>"
   ]
  },
  {
   "cell_type": "markdown",
   "id": "offshore-oliver",
   "metadata": {},
   "source": [
    "### 1.1 Derivation"
   ]
  },
  {
   "cell_type": "code",
   "execution_count": 2,
   "id": "smooth-lending",
   "metadata": {},
   "outputs": [],
   "source": [
    "# incomes are typically very skewed, so Z-test or T-test is not approriate\n",
    "incomes <- c(8478, 21564, 36562, 176602, 9395, 18320, 50000, 2, 40298, 39, 10780, 2268583, 3404930)"
   ]
  },
  {
   "cell_type": "markdown",
   "id": "prescription-canada",
   "metadata": {},
   "source": [
    "Luckily, the sign test only requires independent samples for valid inference (as a consequence, it has been low power)."
   ]
  },
  {
   "cell_type": "markdown",
   "id": "failing-estimate",
   "metadata": {},
   "source": [
    "$H_0$: median = 50000   \n",
    "$H_1$: median $\\ne$ 50000"
   ]
  },
  {
   "cell_type": "code",
   "execution_count": 65,
   "id": "illegal-miami",
   "metadata": {},
   "outputs": [
    {
     "data": {
      "text/html": [
       "3"
      ],
      "text/latex": [
       "3"
      ],
      "text/markdown": [
       "3"
      ],
      "text/plain": [
       "[1] 3"
      ]
     },
     "metadata": {},
     "output_type": "display_data"
    },
    {
     "data": {
      "text/plain": [
       "\n",
       "\tExact binomial test\n",
       "\n",
       "data:  plus_signs and n\n",
       "number of successes = 3, number of trials = 12, p-value = 0.146\n",
       "alternative hypothesis: true probability of success is not equal to 0.5\n",
       "95 percent confidence interval:\n",
       " 0.05486064 0.57185846\n",
       "sample estimates:\n",
       "probability of success \n",
       "                  0.25 \n"
      ]
     },
     "metadata": {},
     "output_type": "display_data"
    }
   ],
   "source": [
    "n <- sum(incomes != 50000)\n",
    "plus_signs <- sum(incomes > 50000)\n",
    "plus_signs\n",
    "\n",
    "# 2 sided\n",
    "binom.test(plus_signs, n, p = 0.5, alternative = \"two.sided\", conf.level = .95)"
   ]
  },
  {
   "cell_type": "markdown",
   "id": "fabulous-effect",
   "metadata": {},
   "source": [
    "### 1.2 Using R"
   ]
  },
  {
   "cell_type": "code",
   "execution_count": 4,
   "id": "indoor-conspiracy",
   "metadata": {},
   "outputs": [
    {
     "name": "stderr",
     "output_type": "stream",
     "text": [
      "Warning message in wilcox.test.default(incomes, mu = 50000):\n",
      "\"cannot compute exact p-value with zeroes\"\n"
     ]
    },
    {
     "data": {
      "text/plain": [
       "\n",
       "\tWilcoxon signed rank test with continuity correction\n",
       "\n",
       "data:  incomes\n",
       "V = 33, p-value = 0.6661\n",
       "alternative hypothesis: true location is not equal to 50000\n"
      ]
     },
     "metadata": {},
     "output_type": "display_data"
    }
   ],
   "source": [
    "# using wilcoxon 1 sample test\n",
    "wilcox.test(incomes, mu = 50000)"
   ]
  },
  {
   "cell_type": "markdown",
   "id": "motivated-scholarship",
   "metadata": {},
   "source": [
    "### 1.3 Simulation for the sign test"
   ]
  },
  {
   "cell_type": "code",
   "execution_count": 5,
   "id": "instant-proposition",
   "metadata": {},
   "outputs": [
    {
     "data": {
      "image/png": "[encoded data removed]",
      "text/plain": [
       "Plot with title \"Histogram of population\""
      ]
     },
     "metadata": {
      "image/png": {
       "height": 420,
       "width": 420
      }
     },
     "output_type": "display_data"
    }
   ],
   "source": [
    "population <- rgamma(1000, shape = 2, scale = 3)\n",
    "hist(population, breaks = 30)"
   ]
  },
  {
   "cell_type": "code",
   "execution_count": 6,
   "id": "swiss-communication",
   "metadata": {},
   "outputs": [
    {
     "data": {
      "text/html": [
       "4.87833575886161"
      ],
      "text/latex": [
       "4.87833575886161"
      ],
      "text/markdown": [
       "4.87833575886161"
      ],
      "text/plain": [
       "[1] 4.878336"
      ]
     },
     "metadata": {},
     "output_type": "display_data"
    }
   ],
   "source": [
    "population_median <- median(population)\n",
    "population_median"
   ]
  },
  {
   "cell_type": "code",
   "execution_count": 66,
   "id": "adapted-division",
   "metadata": {},
   "outputs": [
    {
     "data": {
      "image/png": "[encoded data removed]",
      "text/plain": [
       "Plot with title \"Histogram of simulated_signs\""
      ]
     },
     "metadata": {
      "image/png": {
       "height": 420,
       "width": 420
      }
     },
     "output_type": "display_data"
    }
   ],
   "source": [
    "nsims <- 1000\n",
    "sample_size <- 15\n",
    "simulated_signs <- replicate(nsims, {\n",
    "    sample_data <- sample(population, size = sample_size)\n",
    "    plus_signs <- sum(sample_data > population_median)\n",
    "    plus_signs\n",
    "})\n",
    "\n",
    "hist(simulated_signs, prob = T, breaks = 16)"
   ]
  },
  {
   "cell_type": "markdown",
   "id": "retired-saturn",
   "metadata": {},
   "source": [
    "# 2. Non parametric test, 2 independent samples  - Mann-Whitney U test (Wilcoxon Rank Sum test)"
   ]
  },
  {
   "cell_type": "markdown",
   "id": "willing-paintball",
   "metadata": {},
   "source": [
    "**Reference**:\n",
    "- <https://www.youtube.com/watch?v=fEobVCV2TJE&list=PLIeGtxpvyG-IV0Yf8AyeMgmNkpFBxBJlh&index=3>"
   ]
  },
  {
   "cell_type": "markdown",
   "id": "instructional-filename",
   "metadata": {},
   "source": [
    "> **`wilcox.test`**"
   ]
  },
  {
   "cell_type": "markdown",
   "id": "northern-reunion",
   "metadata": {},
   "source": [
    "### 2.1 Derivation"
   ]
  },
  {
   "cell_type": "markdown",
   "id": "martial-berlin",
   "metadata": {},
   "source": [
    "$H_0: median_1 = median_2$ (there is no difference between 2 groups)   \n",
    "$H_1: median_1 \\ne median_2$ (there is a statistically significant difference between 2 groups)   \n",
    "Significant level: $\\alpha$ = 0.05"
   ]
  },
  {
   "cell_type": "code",
   "execution_count": 164,
   "id": "exclusive-palestinian",
   "metadata": {},
   "outputs": [
    {
     "data": {
      "text/html": [
       "<table>\n",
       "<caption>A tibble: 50 × 2</caption>\n",
       "<thead>\n",
       "\t<tr><th scope=col>group</th><th scope=col>score</th></tr>\n",
       "\t<tr><th scope=col>&lt;dbl&gt;</th><th scope=col>&lt;dbl&gt;</th></tr>\n",
       "</thead>\n",
       "<tbody>\n",
       "\t<tr><td>1</td><td> 5</td></tr>\n",
       "\t<tr><td>2</td><td> 9</td></tr>\n",
       "\t<tr><td>1</td><td> 8</td></tr>\n",
       "\t<tr><td>2</td><td> 8</td></tr>\n",
       "\t<tr><td>1</td><td> 4</td></tr>\n",
       "\t<tr><td>2</td><td> 3</td></tr>\n",
       "\t<tr><td>1</td><td> 4</td></tr>\n",
       "\t<tr><td>2</td><td> 4</td></tr>\n",
       "\t<tr><td>1</td><td> 7</td></tr>\n",
       "\t<tr><td>2</td><td>10</td></tr>\n",
       "\t<tr><td>1</td><td> 6</td></tr>\n",
       "\t<tr><td>2</td><td> 5</td></tr>\n",
       "\t<tr><td>1</td><td> 7</td></tr>\n",
       "\t<tr><td>2</td><td>10</td></tr>\n",
       "\t<tr><td>1</td><td> 6</td></tr>\n",
       "\t<tr><td>2</td><td> 9</td></tr>\n",
       "\t<tr><td>1</td><td> 7</td></tr>\n",
       "\t<tr><td>2</td><td> 4</td></tr>\n",
       "\t<tr><td>1</td><td> 8</td></tr>\n",
       "\t<tr><td>2</td><td>10</td></tr>\n",
       "\t<tr><td>1</td><td> 6</td></tr>\n",
       "\t<tr><td>2</td><td> 3</td></tr>\n",
       "\t<tr><td>1</td><td> 4</td></tr>\n",
       "\t<tr><td>2</td><td> 7</td></tr>\n",
       "\t<tr><td>1</td><td> 8</td></tr>\n",
       "\t<tr><td>2</td><td>10</td></tr>\n",
       "\t<tr><td>1</td><td> 5</td></tr>\n",
       "\t<tr><td>2</td><td> 7</td></tr>\n",
       "\t<tr><td>1</td><td> 3</td></tr>\n",
       "\t<tr><td>2</td><td> 9</td></tr>\n",
       "\t<tr><td>1</td><td> 3</td></tr>\n",
       "\t<tr><td>2</td><td> 7</td></tr>\n",
       "\t<tr><td>1</td><td> 5</td></tr>\n",
       "\t<tr><td>2</td><td> 4</td></tr>\n",
       "\t<tr><td>1</td><td> 8</td></tr>\n",
       "\t<tr><td>2</td><td> 7</td></tr>\n",
       "\t<tr><td>1</td><td> 4</td></tr>\n",
       "\t<tr><td>2</td><td> 8</td></tr>\n",
       "\t<tr><td>1</td><td> 2</td></tr>\n",
       "\t<tr><td>2</td><td> 4</td></tr>\n",
       "\t<tr><td>1</td><td> 4</td></tr>\n",
       "\t<tr><td>2</td><td> 7</td></tr>\n",
       "\t<tr><td>1</td><td> 7</td></tr>\n",
       "\t<tr><td>2</td><td> 8</td></tr>\n",
       "\t<tr><td>1</td><td> 5</td></tr>\n",
       "\t<tr><td>2</td><td>10</td></tr>\n",
       "\t<tr><td>1</td><td> 6</td></tr>\n",
       "\t<tr><td>2</td><td> 5</td></tr>\n",
       "\t<tr><td>1</td><td> 3</td></tr>\n",
       "\t<tr><td>2</td><td> 7</td></tr>\n",
       "</tbody>\n",
       "</table>\n"
      ],
      "text/latex": [
       "A tibble: 50 × 2\n",
       "\\begin{tabular}{ll}\n",
       " group & score\\\\\n",
       " <dbl> & <dbl>\\\\\n",
       "\\hline\n",
       "\t 1 &  5\\\\\n",
       "\t 2 &  9\\\\\n",
       "\t 1 &  8\\\\\n",
       "\t 2 &  8\\\\\n",
       "\t 1 &  4\\\\\n",
       "\t 2 &  3\\\\\n",
       "\t 1 &  4\\\\\n",
       "\t 2 &  4\\\\\n",
       "\t 1 &  7\\\\\n",
       "\t 2 & 10\\\\\n",
       "\t 1 &  6\\\\\n",
       "\t 2 &  5\\\\\n",
       "\t 1 &  7\\\\\n",
       "\t 2 & 10\\\\\n",
       "\t 1 &  6\\\\\n",
       "\t 2 &  9\\\\\n",
       "\t 1 &  7\\\\\n",
       "\t 2 &  4\\\\\n",
       "\t 1 &  8\\\\\n",
       "\t 2 & 10\\\\\n",
       "\t 1 &  6\\\\\n",
       "\t 2 &  3\\\\\n",
       "\t 1 &  4\\\\\n",
       "\t 2 &  7\\\\\n",
       "\t 1 &  8\\\\\n",
       "\t 2 & 10\\\\\n",
       "\t 1 &  5\\\\\n",
       "\t 2 &  7\\\\\n",
       "\t 1 &  3\\\\\n",
       "\t 2 &  9\\\\\n",
       "\t 1 &  3\\\\\n",
       "\t 2 &  7\\\\\n",
       "\t 1 &  5\\\\\n",
       "\t 2 &  4\\\\\n",
       "\t 1 &  8\\\\\n",
       "\t 2 &  7\\\\\n",
       "\t 1 &  4\\\\\n",
       "\t 2 &  8\\\\\n",
       "\t 1 &  2\\\\\n",
       "\t 2 &  4\\\\\n",
       "\t 1 &  4\\\\\n",
       "\t 2 &  7\\\\\n",
       "\t 1 &  7\\\\\n",
       "\t 2 &  8\\\\\n",
       "\t 1 &  5\\\\\n",
       "\t 2 & 10\\\\\n",
       "\t 1 &  6\\\\\n",
       "\t 2 &  5\\\\\n",
       "\t 1 &  3\\\\\n",
       "\t 2 &  7\\\\\n",
       "\\end{tabular}\n"
      ],
      "text/markdown": [
       "\n",
       "A tibble: 50 × 2\n",
       "\n",
       "| group &lt;dbl&gt; | score &lt;dbl&gt; |\n",
       "|---|---|\n",
       "| 1 |  5 |\n",
       "| 2 |  9 |\n",
       "| 1 |  8 |\n",
       "| 2 |  8 |\n",
       "| 1 |  4 |\n",
       "| 2 |  3 |\n",
       "| 1 |  4 |\n",
       "| 2 |  4 |\n",
       "| 1 |  7 |\n",
       "| 2 | 10 |\n",
       "| 1 |  6 |\n",
       "| 2 |  5 |\n",
       "| 1 |  7 |\n",
       "| 2 | 10 |\n",
       "| 1 |  6 |\n",
       "| 2 |  9 |\n",
       "| 1 |  7 |\n",
       "| 2 |  4 |\n",
       "| 1 |  8 |\n",
       "| 2 | 10 |\n",
       "| 1 |  6 |\n",
       "| 2 |  3 |\n",
       "| 1 |  4 |\n",
       "| 2 |  7 |\n",
       "| 1 |  8 |\n",
       "| 2 | 10 |\n",
       "| 1 |  5 |\n",
       "| 2 |  7 |\n",
       "| 1 |  3 |\n",
       "| 2 |  9 |\n",
       "| 1 |  3 |\n",
       "| 2 |  7 |\n",
       "| 1 |  5 |\n",
       "| 2 |  4 |\n",
       "| 1 |  8 |\n",
       "| 2 |  7 |\n",
       "| 1 |  4 |\n",
       "| 2 |  8 |\n",
       "| 1 |  2 |\n",
       "| 2 |  4 |\n",
       "| 1 |  4 |\n",
       "| 2 |  7 |\n",
       "| 1 |  7 |\n",
       "| 2 |  8 |\n",
       "| 1 |  5 |\n",
       "| 2 | 10 |\n",
       "| 1 |  6 |\n",
       "| 2 |  5 |\n",
       "| 1 |  3 |\n",
       "| 2 |  7 |\n",
       "\n"
      ],
      "text/plain": [
       "   group score\n",
       "1  1      5   \n",
       "2  2      9   \n",
       "3  1      8   \n",
       "4  2      8   \n",
       "5  1      4   \n",
       "6  2      3   \n",
       "7  1      4   \n",
       "8  2      4   \n",
       "9  1      7   \n",
       "10 2     10   \n",
       "11 1      6   \n",
       "12 2      5   \n",
       "13 1      7   \n",
       "14 2     10   \n",
       "15 1      6   \n",
       "16 2      9   \n",
       "17 1      7   \n",
       "18 2      4   \n",
       "19 1      8   \n",
       "20 2     10   \n",
       "21 1      6   \n",
       "22 2      3   \n",
       "23 1      4   \n",
       "24 2      7   \n",
       "25 1      8   \n",
       "26 2     10   \n",
       "27 1      5   \n",
       "28 2      7   \n",
       "29 1      3   \n",
       "30 2      9   \n",
       "31 1      3   \n",
       "32 2      7   \n",
       "33 1      5   \n",
       "34 2      4   \n",
       "35 1      8   \n",
       "36 2      7   \n",
       "37 1      4   \n",
       "38 2      8   \n",
       "39 1      2   \n",
       "40 2      4   \n",
       "41 1      4   \n",
       "42 2      7   \n",
       "43 1      7   \n",
       "44 2      8   \n",
       "45 1      5   \n",
       "46 2     10   \n",
       "47 1      6   \n",
       "48 2      5   \n",
       "49 1      3   \n",
       "50 2      7   "
      ]
     },
     "metadata": {},
     "output_type": "display_data"
    }
   ],
   "source": [
    "# Step 1: Place samples into 2 columns\n",
    "scores <- tibble(\n",
    "    group1 = c(5,8,4,4, 7,6,7,6,7,8,6,4,8,5,3,3,5,8,4,2,4,7,5,6,3),\n",
    "    group2 = c(9, 8, 3, 4, 10,5,10,9,4,10,3,7,10,7,9,7,4,7,8,4,7,8,10,5,7)\n",
    ") %>% \n",
    "# Step 2: stack the scores of 2 group into 1 column\n",
    "pivot_longer(everything(), \n",
    "                   names_to = \"group\", \n",
    "                   values_to = \"score\", \n",
    "                   names_transform = list(group = parse_number))\n",
    "scores"
   ]
  },
  {
   "cell_type": "code",
   "execution_count": 167,
   "id": "complicated-profit",
   "metadata": {},
   "outputs": [
    {
     "name": "stderr",
     "output_type": "stream",
     "text": [
      "`summarise()` ungrouping output (override with `.groups` argument)\n",
      "\n"
     ]
    },
    {
     "data": {
      "text/html": [
       "<table>\n",
       "<caption>A tibble: 2 × 2</caption>\n",
       "<thead>\n",
       "\t<tr><th scope=col>group</th><th scope=col>rank_sum</th></tr>\n",
       "\t<tr><th scope=col>&lt;dbl&gt;</th><th scope=col>&lt;dbl&gt;</th></tr>\n",
       "</thead>\n",
       "<tbody>\n",
       "\t<tr><td>1</td><td>514</td></tr>\n",
       "\t<tr><td>2</td><td>761</td></tr>\n",
       "</tbody>\n",
       "</table>\n"
      ],
      "text/latex": [
       "A tibble: 2 × 2\n",
       "\\begin{tabular}{ll}\n",
       " group & rank\\_sum\\\\\n",
       " <dbl> & <dbl>\\\\\n",
       "\\hline\n",
       "\t 1 & 514\\\\\n",
       "\t 2 & 761\\\\\n",
       "\\end{tabular}\n"
      ],
      "text/markdown": [
       "\n",
       "A tibble: 2 × 2\n",
       "\n",
       "| group &lt;dbl&gt; | rank_sum &lt;dbl&gt; |\n",
       "|---|---|\n",
       "| 1 | 514 |\n",
       "| 2 | 761 |\n",
       "\n"
      ],
      "text/plain": [
       "  group rank_sum\n",
       "1 1     514     \n",
       "2 2     761     "
      ]
     },
     "metadata": {},
     "output_type": "display_data"
    }
   ],
   "source": [
    "# step 3: rank the score using average rank\n",
    "ranksum <- scores %>% mutate(ranking = rank(score, \"average\")) %>% \n",
    "# step 4: calculate rank sum for each group\n",
    "group_by(group) %>% summarize(rank_sum = sum(ranking))\n",
    "\n",
    "ranksum"
   ]
  },
  {
   "cell_type": "code",
   "execution_count": 170,
   "id": "underlying-acoustic",
   "metadata": {},
   "outputs": [
    {
     "data": {
      "text/html": [
       "514"
      ],
      "text/latex": [
       "514"
      ],
      "text/markdown": [
       "514"
      ],
      "text/plain": [
       "[1] 514"
      ]
     },
     "metadata": {},
     "output_type": "display_data"
    }
   ],
   "source": [
    "# test statistic\n",
    "w <- ranksum$rank_sum[1]\n",
    "w"
   ]
  },
  {
   "cell_type": "code",
   "execution_count": 172,
   "id": "favorite-payment",
   "metadata": {},
   "outputs": [
    {
     "data": {
      "text/html": [
       "<style>\n",
       ".dl-inline {width: auto; margin:0; padding: 0}\n",
       ".dl-inline>dt, .dl-inline>dd {float: none; width: auto; display: inline-block}\n",
       ".dl-inline>dt::after {content: \":\\0020\"; padding-right: .5ex}\n",
       ".dl-inline>dt:not(:first-of-type) {padding-left: .5ex}\n",
       "</style><dl class=dl-inline><dt>mean</dt><dd>637.5</dd><dt>sd</dt><dd>51.5388203202208</dd></dl>\n"
      ],
      "text/latex": [
       "\\begin{description*}\n",
       "\\item[mean] 637.5\n",
       "\\item[sd] 51.5388203202208\n",
       "\\end{description*}\n"
      ],
      "text/markdown": [
       "mean\n",
       ":   637.5sd\n",
       ":   51.5388203202208\n",
       "\n"
      ],
      "text/plain": [
       "     mean        sd \n",
       "637.50000  51.53882 "
      ]
     },
     "metadata": {},
     "output_type": "display_data"
    }
   ],
   "source": [
    "n1 <- sum(scores$group == 1)\n",
    "n2 <- sum(scores$group == 2)\n",
    "\n",
    "# sampling distribution\n",
    "mu_w <- n1 * (n1 + n2 + 1) / 2\n",
    "se_w <- sqrt(n1 * n2 * (n1 + n2 + 1) / 12)\n",
    "\n",
    "c(mean = mu_w, sd = se_w)"
   ]
  },
  {
   "cell_type": "code",
   "execution_count": 173,
   "id": "republican-photography",
   "metadata": {},
   "outputs": [
    {
     "data": {
      "text/html": [
       "-2.39625197535897"
      ],
      "text/latex": [
       "-2.39625197535897"
      ],
      "text/markdown": [
       "-2.39625197535897"
      ],
      "text/plain": [
       "[1] -2.396252"
      ]
     },
     "metadata": {},
     "output_type": "display_data"
    }
   ],
   "source": [
    "# z score\n",
    "z <- (w - mu_w) / se_w\n",
    "z"
   ]
  },
  {
   "cell_type": "code",
   "execution_count": 174,
   "id": "satisfied-belief",
   "metadata": {},
   "outputs": [
    {
     "data": {
      "text/html": [
       "0.0165636992445406"
      ],
      "text/latex": [
       "0.0165636992445406"
      ],
      "text/markdown": [
       "0.0165636992445406"
      ],
      "text/plain": [
       "[1] 0.0165637"
      ]
     },
     "metadata": {},
     "output_type": "display_data"
    }
   ],
   "source": [
    "# p value\n",
    "p.value <- 2 * pnorm(z)\n",
    "p.value"
   ]
  },
  {
   "cell_type": "markdown",
   "id": "typical-johnston",
   "metadata": {},
   "source": [
    "p value < 0.05 so we reject $H_0$, we have strong evidence against the null hypothesis"
   ]
  },
  {
   "cell_type": "markdown",
   "id": "accredited-guest",
   "metadata": {},
   "source": [
    "### 2.2 Using R"
   ]
  },
  {
   "cell_type": "markdown",
   "id": "respiratory-motor",
   "metadata": {},
   "source": [
    "> **`wilcox.test()`**"
   ]
  },
  {
   "cell_type": "code",
   "execution_count": 178,
   "id": "capital-globe",
   "metadata": {},
   "outputs": [
    {
     "data": {
      "text/plain": [
       "\n",
       "\tWilcoxon rank sum test with continuity correction\n",
       "\n",
       "data:  score by group\n",
       "W = 189, p-value = 0.01588\n",
       "alternative hypothesis: true location shift is not equal to 0\n"
      ]
     },
     "metadata": {},
     "output_type": "display_data"
    }
   ],
   "source": [
    "# this perform Man-Whiney U test, although the W is different from above\n",
    "# because 1 use wilcoxon rank sum statistics\n",
    "# 1 use U statistic\n",
    "# p.value is closely the same\n",
    "wilcox.test(score ~ group, data = scores, exact = FALSE)"
   ]
  },
  {
   "cell_type": "markdown",
   "id": "rational-gates",
   "metadata": {},
   "source": [
    "### 2.3 Simulation for Mann-Whitney U test"
   ]
  },
  {
   "cell_type": "code",
   "execution_count": 134,
   "id": "competitive-register",
   "metadata": {},
   "outputs": [],
   "source": [
    "set.seed(42)\n",
    "nsims <- 1000\n",
    "n1 <- 15\n",
    "n2 <- 22\n",
    "w <- replicate(nsims, {\n",
    "    # sample from 2 distributions with the same median\n",
    "    sample1 <- rgamma(n1, shape = 2, scale = 3)\n",
    "    sample2 <- rgamma(n2, shape = 2, scale = 3)\n",
    "    sample_frame <- tibble(group = as.factor(rep(c('A', 'B'), time = c(n1, n2))), value = c(sample1, sample2)) \n",
    "    # sum of rank for group A\n",
    "    sample_frame %>% mutate(rank = rank(value, ties.method = \"average\")) %>% filter(group == \"A\") %>% pull(rank) %>% sum()\n",
    "    #wilcox.test(value ~ group, data = sample_frame)$statistic %>% unname()\n",
    "})"
   ]
  },
  {
   "cell_type": "code",
   "execution_count": 135,
   "id": "stock-cooking",
   "metadata": {},
   "outputs": [
    {
     "data": {
      "text/html": [
       "284.128"
      ],
      "text/latex": [
       "284.128"
      ],
      "text/markdown": [
       "284.128"
      ],
      "text/plain": [
       "[1] 284.128"
      ]
     },
     "metadata": {},
     "output_type": "display_data"
    },
    {
     "data": {
      "text/html": [
       "285"
      ],
      "text/latex": [
       "285"
      ],
      "text/markdown": [
       "285"
      ],
      "text/plain": [
       "[1] 285"
      ]
     },
     "metadata": {},
     "output_type": "display_data"
    }
   ],
   "source": [
    "mean(w)\n",
    "n1 * (n1 + n2 + 1) / 2"
   ]
  },
  {
   "cell_type": "code",
   "execution_count": 136,
   "id": "juvenile-cleaning",
   "metadata": {},
   "outputs": [
    {
     "data": {
      "text/html": [
       "31.9540713944042"
      ],
      "text/latex": [
       "31.9540713944042"
      ],
      "text/markdown": [
       "31.9540713944042"
      ],
      "text/plain": [
       "[1] 31.95407"
      ]
     },
     "metadata": {},
     "output_type": "display_data"
    },
    {
     "data": {
      "text/html": [
       "32.3264597504892"
      ],
      "text/latex": [
       "32.3264597504892"
      ],
      "text/markdown": [
       "32.3264597504892"
      ],
      "text/plain": [
       "[1] 32.32646"
      ]
     },
     "metadata": {},
     "output_type": "display_data"
    }
   ],
   "source": [
    "sd(w)\n",
    "sqrt(n1 * n2 * (n1 + n2 + 1) / 12)"
   ]
  },
  {
   "cell_type": "code",
   "execution_count": 138,
   "id": "lasting-penny",
   "metadata": {},
   "outputs": [
    {
     "data": {
      "image/png": "[encoded data removed]",
      "text/plain": [
       "Plot with title \"Histogram of w\""
      ]
     },
     "metadata": {
      "image/png": {
       "height": 420,
       "width": 420
      }
     },
     "output_type": "display_data"
    }
   ],
   "source": [
    "# distribution of w in theory\n",
    "# if the null hypothesis is true\n",
    "# then w will follow a normal distrubtion with mean and standard deviation calculated as below\n",
    "mu <- n1 * (n1 + n2 + 1) / 2\n",
    "sigma <- sqrt(n1 * n2 * (n1 + n2 + 1) / 12)\n",
    "\n",
    "# distribution of from simulation, it does match the theory distribution\n",
    "hist(w, breaks = 20, prob = T, border = \"dodgerblue\")\n",
    "# this line show the distribution in theory\n",
    "curve(dnorm(x, mu, sigma), add = T, col = \"darkorange\", lwd = 2)"
   ]
  },
  {
   "cell_type": "markdown",
   "id": "classical-object",
   "metadata": {},
   "source": [
    "# 3. Non parametric test, Paired test - Wilcoxon Signed Rank test"
   ]
  },
  {
   "cell_type": "markdown",
   "id": "revolutionary-headquarters",
   "metadata": {},
   "source": [
    "**Reference**:\n",
    "- <https://www.youtube.com/watch?v=peF0OXx0G2o&list=PLIeGtxpvyG-IV0Yf8AyeMgmNkpFBxBJlh&index=5>"
   ]
  },
  {
   "cell_type": "markdown",
   "id": "floral-probe",
   "metadata": {},
   "source": [
    "> **`wilcox.test(x, y, paired = TRUE)`**"
   ]
  },
  {
   "cell_type": "markdown",
   "id": "brown-consideration",
   "metadata": {},
   "source": [
    "### 3.1 Derivation"
   ]
  },
  {
   "cell_type": "markdown",
   "id": "marine-general",
   "metadata": {},
   "source": [
    "$H_0: median_1 = median_2$ (There is no difference about CLR of 2 types of ads)  \n",
    "$H_1: median_1 \\ne median_2$ (There is a statistical significant difference between 2 types of ads)  \n",
    "Significance level: $\\alpha = 0.05$\n"
   ]
  },
  {
   "cell_type": "code",
   "execution_count": 24,
   "id": "virtual-undergraduate",
   "metadata": {},
   "outputs": [],
   "source": [
    "# click through rate (CTR) of 2 different ads on different videos\n",
    "\n",
    "# Step 1: Place matched sample in 2 columns\n",
    "clr <- tribble(\n",
    "    ~ ad1, ~ad2,\n",
    "    334, 351,\n",
    "    329, 349,\n",
    "    311, 277,\n",
    "    341, 276,\n",
    "    323, 280,\n",
    "    329, 341,\n",
    "    324, 258,\n",
    "    352, 349,\n",
    "    342, 338,\n",
    "    346, 377,\n",
    "    353, 314,\n",
    "    318, 331,\n",
    "    351, 368,\n",
    "    342, 338,\n",
    "    355, 313,\n",
    "    306, 287,\n",
    "    349, 324,\n",
    "    353, 293,\n",
    "    318, 311,\n",
    "    329, 329,\n",
    "    300, 314, \n",
    "    331, 313,\n",
    "    298, 309,\n",
    "    309, 313,\n",
    "    317, 303\n",
    ")\n"
   ]
  },
  {
   "cell_type": "code",
   "execution_count": 25,
   "id": "unique-spell",
   "metadata": {},
   "outputs": [
    {
     "data": {
      "text/html": [
       "<table>\n",
       "<caption>A tibble: 25 × 4</caption>\n",
       "<thead>\n",
       "\t<tr><th scope=col>ad1</th><th scope=col>ad2</th><th scope=col>diff</th><th scope=col>abs_diff</th></tr>\n",
       "\t<tr><th scope=col>&lt;dbl&gt;</th><th scope=col>&lt;dbl&gt;</th><th scope=col>&lt;dbl&gt;</th><th scope=col>&lt;dbl&gt;</th></tr>\n",
       "</thead>\n",
       "<tbody>\n",
       "\t<tr><td>334</td><td>351</td><td>-17</td><td>17</td></tr>\n",
       "\t<tr><td>329</td><td>349</td><td>-20</td><td>20</td></tr>\n",
       "\t<tr><td>311</td><td>277</td><td> 34</td><td>34</td></tr>\n",
       "\t<tr><td>341</td><td>276</td><td> 65</td><td>65</td></tr>\n",
       "\t<tr><td>323</td><td>280</td><td> 43</td><td>43</td></tr>\n",
       "\t<tr><td>329</td><td>341</td><td>-12</td><td>12</td></tr>\n",
       "\t<tr><td>324</td><td>258</td><td> 66</td><td>66</td></tr>\n",
       "\t<tr><td>352</td><td>349</td><td>  3</td><td> 3</td></tr>\n",
       "\t<tr><td>342</td><td>338</td><td>  4</td><td> 4</td></tr>\n",
       "\t<tr><td>346</td><td>377</td><td>-31</td><td>31</td></tr>\n",
       "\t<tr><td>353</td><td>314</td><td> 39</td><td>39</td></tr>\n",
       "\t<tr><td>318</td><td>331</td><td>-13</td><td>13</td></tr>\n",
       "\t<tr><td>351</td><td>368</td><td>-17</td><td>17</td></tr>\n",
       "\t<tr><td>342</td><td>338</td><td>  4</td><td> 4</td></tr>\n",
       "\t<tr><td>355</td><td>313</td><td> 42</td><td>42</td></tr>\n",
       "\t<tr><td>306</td><td>287</td><td> 19</td><td>19</td></tr>\n",
       "\t<tr><td>349</td><td>324</td><td> 25</td><td>25</td></tr>\n",
       "\t<tr><td>353</td><td>293</td><td> 60</td><td>60</td></tr>\n",
       "\t<tr><td>318</td><td>311</td><td>  7</td><td> 7</td></tr>\n",
       "\t<tr><td>329</td><td>329</td><td>  0</td><td> 0</td></tr>\n",
       "\t<tr><td>300</td><td>314</td><td>-14</td><td>14</td></tr>\n",
       "\t<tr><td>331</td><td>313</td><td> 18</td><td>18</td></tr>\n",
       "\t<tr><td>298</td><td>309</td><td>-11</td><td>11</td></tr>\n",
       "\t<tr><td>309</td><td>313</td><td> -4</td><td> 4</td></tr>\n",
       "\t<tr><td>317</td><td>303</td><td> 14</td><td>14</td></tr>\n",
       "</tbody>\n",
       "</table>\n"
      ],
      "text/latex": [
       "A tibble: 25 × 4\n",
       "\\begin{tabular}{llll}\n",
       " ad1 & ad2 & diff & abs\\_diff\\\\\n",
       " <dbl> & <dbl> & <dbl> & <dbl>\\\\\n",
       "\\hline\n",
       "\t 334 & 351 & -17 & 17\\\\\n",
       "\t 329 & 349 & -20 & 20\\\\\n",
       "\t 311 & 277 &  34 & 34\\\\\n",
       "\t 341 & 276 &  65 & 65\\\\\n",
       "\t 323 & 280 &  43 & 43\\\\\n",
       "\t 329 & 341 & -12 & 12\\\\\n",
       "\t 324 & 258 &  66 & 66\\\\\n",
       "\t 352 & 349 &   3 &  3\\\\\n",
       "\t 342 & 338 &   4 &  4\\\\\n",
       "\t 346 & 377 & -31 & 31\\\\\n",
       "\t 353 & 314 &  39 & 39\\\\\n",
       "\t 318 & 331 & -13 & 13\\\\\n",
       "\t 351 & 368 & -17 & 17\\\\\n",
       "\t 342 & 338 &   4 &  4\\\\\n",
       "\t 355 & 313 &  42 & 42\\\\\n",
       "\t 306 & 287 &  19 & 19\\\\\n",
       "\t 349 & 324 &  25 & 25\\\\\n",
       "\t 353 & 293 &  60 & 60\\\\\n",
       "\t 318 & 311 &   7 &  7\\\\\n",
       "\t 329 & 329 &   0 &  0\\\\\n",
       "\t 300 & 314 & -14 & 14\\\\\n",
       "\t 331 & 313 &  18 & 18\\\\\n",
       "\t 298 & 309 & -11 & 11\\\\\n",
       "\t 309 & 313 &  -4 &  4\\\\\n",
       "\t 317 & 303 &  14 & 14\\\\\n",
       "\\end{tabular}\n"
      ],
      "text/markdown": [
       "\n",
       "A tibble: 25 × 4\n",
       "\n",
       "| ad1 &lt;dbl&gt; | ad2 &lt;dbl&gt; | diff &lt;dbl&gt; | abs_diff &lt;dbl&gt; |\n",
       "|---|---|---|---|\n",
       "| 334 | 351 | -17 | 17 |\n",
       "| 329 | 349 | -20 | 20 |\n",
       "| 311 | 277 |  34 | 34 |\n",
       "| 341 | 276 |  65 | 65 |\n",
       "| 323 | 280 |  43 | 43 |\n",
       "| 329 | 341 | -12 | 12 |\n",
       "| 324 | 258 |  66 | 66 |\n",
       "| 352 | 349 |   3 |  3 |\n",
       "| 342 | 338 |   4 |  4 |\n",
       "| 346 | 377 | -31 | 31 |\n",
       "| 353 | 314 |  39 | 39 |\n",
       "| 318 | 331 | -13 | 13 |\n",
       "| 351 | 368 | -17 | 17 |\n",
       "| 342 | 338 |   4 |  4 |\n",
       "| 355 | 313 |  42 | 42 |\n",
       "| 306 | 287 |  19 | 19 |\n",
       "| 349 | 324 |  25 | 25 |\n",
       "| 353 | 293 |  60 | 60 |\n",
       "| 318 | 311 |   7 |  7 |\n",
       "| 329 | 329 |   0 |  0 |\n",
       "| 300 | 314 | -14 | 14 |\n",
       "| 331 | 313 |  18 | 18 |\n",
       "| 298 | 309 | -11 | 11 |\n",
       "| 309 | 313 |  -4 |  4 |\n",
       "| 317 | 303 |  14 | 14 |\n",
       "\n"
      ],
      "text/plain": [
       "   ad1 ad2 diff abs_diff\n",
       "1  334 351 -17  17      \n",
       "2  329 349 -20  20      \n",
       "3  311 277  34  34      \n",
       "4  341 276  65  65      \n",
       "5  323 280  43  43      \n",
       "6  329 341 -12  12      \n",
       "7  324 258  66  66      \n",
       "8  352 349   3   3      \n",
       "9  342 338   4   4      \n",
       "10 346 377 -31  31      \n",
       "11 353 314  39  39      \n",
       "12 318 331 -13  13      \n",
       "13 351 368 -17  17      \n",
       "14 342 338   4   4      \n",
       "15 355 313  42  42      \n",
       "16 306 287  19  19      \n",
       "17 349 324  25  25      \n",
       "18 353 293  60  60      \n",
       "19 318 311   7   7      \n",
       "20 329 329   0   0      \n",
       "21 300 314 -14  14      \n",
       "22 331 313  18  18      \n",
       "23 298 309 -11  11      \n",
       "24 309 313  -4   4      \n",
       "25 317 303  14  14      "
      ]
     },
     "metadata": {},
     "output_type": "display_data"
    }
   ],
   "source": [
    "(clr <- clr %>% mutate(\n",
    "    # step 2: in third column, subtract column 2 from 1 from 2 to obtain the differences\n",
    "    diff = ad1 - ad2,\n",
    "    # step 3, in column 4, take the absolution value of column 3\n",
    "    abs_diff = abs(diff)\n",
    "))"
   ]
  },
  {
   "cell_type": "code",
   "execution_count": 26,
   "id": "buried-cigarette",
   "metadata": {},
   "outputs": [
    {
     "data": {
      "text/html": [
       "<table>\n",
       "<caption>A tibble: 24 × 4</caption>\n",
       "<thead>\n",
       "\t<tr><th scope=col>ad1</th><th scope=col>ad2</th><th scope=col>diff</th><th scope=col>abs_diff</th></tr>\n",
       "\t<tr><th scope=col>&lt;dbl&gt;</th><th scope=col>&lt;dbl&gt;</th><th scope=col>&lt;dbl&gt;</th><th scope=col>&lt;dbl&gt;</th></tr>\n",
       "</thead>\n",
       "<tbody>\n",
       "\t<tr><td>334</td><td>351</td><td>-17</td><td>17</td></tr>\n",
       "\t<tr><td>329</td><td>349</td><td>-20</td><td>20</td></tr>\n",
       "\t<tr><td>311</td><td>277</td><td> 34</td><td>34</td></tr>\n",
       "\t<tr><td>341</td><td>276</td><td> 65</td><td>65</td></tr>\n",
       "\t<tr><td>323</td><td>280</td><td> 43</td><td>43</td></tr>\n",
       "\t<tr><td>329</td><td>341</td><td>-12</td><td>12</td></tr>\n",
       "\t<tr><td>324</td><td>258</td><td> 66</td><td>66</td></tr>\n",
       "\t<tr><td>352</td><td>349</td><td>  3</td><td> 3</td></tr>\n",
       "\t<tr><td>342</td><td>338</td><td>  4</td><td> 4</td></tr>\n",
       "\t<tr><td>346</td><td>377</td><td>-31</td><td>31</td></tr>\n",
       "\t<tr><td>353</td><td>314</td><td> 39</td><td>39</td></tr>\n",
       "\t<tr><td>318</td><td>331</td><td>-13</td><td>13</td></tr>\n",
       "\t<tr><td>351</td><td>368</td><td>-17</td><td>17</td></tr>\n",
       "\t<tr><td>342</td><td>338</td><td>  4</td><td> 4</td></tr>\n",
       "\t<tr><td>355</td><td>313</td><td> 42</td><td>42</td></tr>\n",
       "\t<tr><td>306</td><td>287</td><td> 19</td><td>19</td></tr>\n",
       "\t<tr><td>349</td><td>324</td><td> 25</td><td>25</td></tr>\n",
       "\t<tr><td>353</td><td>293</td><td> 60</td><td>60</td></tr>\n",
       "\t<tr><td>318</td><td>311</td><td>  7</td><td> 7</td></tr>\n",
       "\t<tr><td>300</td><td>314</td><td>-14</td><td>14</td></tr>\n",
       "\t<tr><td>331</td><td>313</td><td> 18</td><td>18</td></tr>\n",
       "\t<tr><td>298</td><td>309</td><td>-11</td><td>11</td></tr>\n",
       "\t<tr><td>309</td><td>313</td><td> -4</td><td> 4</td></tr>\n",
       "\t<tr><td>317</td><td>303</td><td> 14</td><td>14</td></tr>\n",
       "</tbody>\n",
       "</table>\n"
      ],
      "text/latex": [
       "A tibble: 24 × 4\n",
       "\\begin{tabular}{llll}\n",
       " ad1 & ad2 & diff & abs\\_diff\\\\\n",
       " <dbl> & <dbl> & <dbl> & <dbl>\\\\\n",
       "\\hline\n",
       "\t 334 & 351 & -17 & 17\\\\\n",
       "\t 329 & 349 & -20 & 20\\\\\n",
       "\t 311 & 277 &  34 & 34\\\\\n",
       "\t 341 & 276 &  65 & 65\\\\\n",
       "\t 323 & 280 &  43 & 43\\\\\n",
       "\t 329 & 341 & -12 & 12\\\\\n",
       "\t 324 & 258 &  66 & 66\\\\\n",
       "\t 352 & 349 &   3 &  3\\\\\n",
       "\t 342 & 338 &   4 &  4\\\\\n",
       "\t 346 & 377 & -31 & 31\\\\\n",
       "\t 353 & 314 &  39 & 39\\\\\n",
       "\t 318 & 331 & -13 & 13\\\\\n",
       "\t 351 & 368 & -17 & 17\\\\\n",
       "\t 342 & 338 &   4 &  4\\\\\n",
       "\t 355 & 313 &  42 & 42\\\\\n",
       "\t 306 & 287 &  19 & 19\\\\\n",
       "\t 349 & 324 &  25 & 25\\\\\n",
       "\t 353 & 293 &  60 & 60\\\\\n",
       "\t 318 & 311 &   7 &  7\\\\\n",
       "\t 300 & 314 & -14 & 14\\\\\n",
       "\t 331 & 313 &  18 & 18\\\\\n",
       "\t 298 & 309 & -11 & 11\\\\\n",
       "\t 309 & 313 &  -4 &  4\\\\\n",
       "\t 317 & 303 &  14 & 14\\\\\n",
       "\\end{tabular}\n"
      ],
      "text/markdown": [
       "\n",
       "A tibble: 24 × 4\n",
       "\n",
       "| ad1 &lt;dbl&gt; | ad2 &lt;dbl&gt; | diff &lt;dbl&gt; | abs_diff &lt;dbl&gt; |\n",
       "|---|---|---|---|\n",
       "| 334 | 351 | -17 | 17 |\n",
       "| 329 | 349 | -20 | 20 |\n",
       "| 311 | 277 |  34 | 34 |\n",
       "| 341 | 276 |  65 | 65 |\n",
       "| 323 | 280 |  43 | 43 |\n",
       "| 329 | 341 | -12 | 12 |\n",
       "| 324 | 258 |  66 | 66 |\n",
       "| 352 | 349 |   3 |  3 |\n",
       "| 342 | 338 |   4 |  4 |\n",
       "| 346 | 377 | -31 | 31 |\n",
       "| 353 | 314 |  39 | 39 |\n",
       "| 318 | 331 | -13 | 13 |\n",
       "| 351 | 368 | -17 | 17 |\n",
       "| 342 | 338 |   4 |  4 |\n",
       "| 355 | 313 |  42 | 42 |\n",
       "| 306 | 287 |  19 | 19 |\n",
       "| 349 | 324 |  25 | 25 |\n",
       "| 353 | 293 |  60 | 60 |\n",
       "| 318 | 311 |   7 |  7 |\n",
       "| 300 | 314 | -14 | 14 |\n",
       "| 331 | 313 |  18 | 18 |\n",
       "| 298 | 309 | -11 | 11 |\n",
       "| 309 | 313 |  -4 |  4 |\n",
       "| 317 | 303 |  14 | 14 |\n",
       "\n"
      ],
      "text/plain": [
       "   ad1 ad2 diff abs_diff\n",
       "1  334 351 -17  17      \n",
       "2  329 349 -20  20      \n",
       "3  311 277  34  34      \n",
       "4  341 276  65  65      \n",
       "5  323 280  43  43      \n",
       "6  329 341 -12  12      \n",
       "7  324 258  66  66      \n",
       "8  352 349   3   3      \n",
       "9  342 338   4   4      \n",
       "10 346 377 -31  31      \n",
       "11 353 314  39  39      \n",
       "12 318 331 -13  13      \n",
       "13 351 368 -17  17      \n",
       "14 342 338   4   4      \n",
       "15 355 313  42  42      \n",
       "16 306 287  19  19      \n",
       "17 349 324  25  25      \n",
       "18 353 293  60  60      \n",
       "19 318 311   7   7      \n",
       "20 300 314 -14  14      \n",
       "21 331 313  18  18      \n",
       "22 298 309 -11  11      \n",
       "23 309 313  -4   4      \n",
       "24 317 303  14  14      "
      ]
     },
     "metadata": {},
     "output_type": "display_data"
    }
   ],
   "source": [
    "# step 4: remove rows having differences of 0\n",
    "(clr <- clr %>% filter(diff != 0))"
   ]
  },
  {
   "cell_type": "code",
   "execution_count": 27,
   "id": "hired-exposure",
   "metadata": {},
   "outputs": [
    {
     "data": {
      "text/html": [
       "<table>\n",
       "<caption>A tibble: 24 × 7</caption>\n",
       "<thead>\n",
       "\t<tr><th scope=col>ad1</th><th scope=col>ad2</th><th scope=col>diff</th><th scope=col>abs_diff</th><th scope=col>rank</th><th scope=col>neg_rank</th><th scope=col>pos_rank</th></tr>\n",
       "\t<tr><th scope=col>&lt;dbl&gt;</th><th scope=col>&lt;dbl&gt;</th><th scope=col>&lt;dbl&gt;</th><th scope=col>&lt;dbl&gt;</th><th scope=col>&lt;dbl&gt;</th><th scope=col>&lt;dbl&gt;</th><th scope=col>&lt;dbl&gt;</th></tr>\n",
       "</thead>\n",
       "<tbody>\n",
       "\t<tr><td>334</td><td>351</td><td>-17</td><td>17</td><td>11.5</td><td>11.5</td><td> 0.0</td></tr>\n",
       "\t<tr><td>329</td><td>349</td><td>-20</td><td>20</td><td>15.0</td><td>15.0</td><td> 0.0</td></tr>\n",
       "\t<tr><td>311</td><td>277</td><td> 34</td><td>34</td><td>18.0</td><td> 0.0</td><td>18.0</td></tr>\n",
       "\t<tr><td>341</td><td>276</td><td> 65</td><td>65</td><td>23.0</td><td> 0.0</td><td>23.0</td></tr>\n",
       "\t<tr><td>323</td><td>280</td><td> 43</td><td>43</td><td>21.0</td><td> 0.0</td><td>21.0</td></tr>\n",
       "\t<tr><td>329</td><td>341</td><td>-12</td><td>12</td><td> 7.0</td><td> 7.0</td><td> 0.0</td></tr>\n",
       "\t<tr><td>324</td><td>258</td><td> 66</td><td>66</td><td>24.0</td><td> 0.0</td><td>24.0</td></tr>\n",
       "\t<tr><td>352</td><td>349</td><td>  3</td><td> 3</td><td> 1.0</td><td> 0.0</td><td> 1.0</td></tr>\n",
       "\t<tr><td>342</td><td>338</td><td>  4</td><td> 4</td><td> 3.0</td><td> 0.0</td><td> 3.0</td></tr>\n",
       "\t<tr><td>346</td><td>377</td><td>-31</td><td>31</td><td>17.0</td><td>17.0</td><td> 0.0</td></tr>\n",
       "\t<tr><td>353</td><td>314</td><td> 39</td><td>39</td><td>19.0</td><td> 0.0</td><td>19.0</td></tr>\n",
       "\t<tr><td>318</td><td>331</td><td>-13</td><td>13</td><td> 8.0</td><td> 8.0</td><td> 0.0</td></tr>\n",
       "\t<tr><td>351</td><td>368</td><td>-17</td><td>17</td><td>11.5</td><td>11.5</td><td> 0.0</td></tr>\n",
       "\t<tr><td>342</td><td>338</td><td>  4</td><td> 4</td><td> 3.0</td><td> 0.0</td><td> 3.0</td></tr>\n",
       "\t<tr><td>355</td><td>313</td><td> 42</td><td>42</td><td>20.0</td><td> 0.0</td><td>20.0</td></tr>\n",
       "\t<tr><td>306</td><td>287</td><td> 19</td><td>19</td><td>14.0</td><td> 0.0</td><td>14.0</td></tr>\n",
       "\t<tr><td>349</td><td>324</td><td> 25</td><td>25</td><td>16.0</td><td> 0.0</td><td>16.0</td></tr>\n",
       "\t<tr><td>353</td><td>293</td><td> 60</td><td>60</td><td>22.0</td><td> 0.0</td><td>22.0</td></tr>\n",
       "\t<tr><td>318</td><td>311</td><td>  7</td><td> 7</td><td> 5.0</td><td> 0.0</td><td> 5.0</td></tr>\n",
       "\t<tr><td>300</td><td>314</td><td>-14</td><td>14</td><td> 9.5</td><td> 9.5</td><td> 0.0</td></tr>\n",
       "\t<tr><td>331</td><td>313</td><td> 18</td><td>18</td><td>13.0</td><td> 0.0</td><td>13.0</td></tr>\n",
       "\t<tr><td>298</td><td>309</td><td>-11</td><td>11</td><td> 6.0</td><td> 6.0</td><td> 0.0</td></tr>\n",
       "\t<tr><td>309</td><td>313</td><td> -4</td><td> 4</td><td> 3.0</td><td> 3.0</td><td> 0.0</td></tr>\n",
       "\t<tr><td>317</td><td>303</td><td> 14</td><td>14</td><td> 9.5</td><td> 0.0</td><td> 9.5</td></tr>\n",
       "</tbody>\n",
       "</table>\n"
      ],
      "text/latex": [
       "A tibble: 24 × 7\n",
       "\\begin{tabular}{lllllll}\n",
       " ad1 & ad2 & diff & abs\\_diff & rank & neg\\_rank & pos\\_rank\\\\\n",
       " <dbl> & <dbl> & <dbl> & <dbl> & <dbl> & <dbl> & <dbl>\\\\\n",
       "\\hline\n",
       "\t 334 & 351 & -17 & 17 & 11.5 & 11.5 &  0.0\\\\\n",
       "\t 329 & 349 & -20 & 20 & 15.0 & 15.0 &  0.0\\\\\n",
       "\t 311 & 277 &  34 & 34 & 18.0 &  0.0 & 18.0\\\\\n",
       "\t 341 & 276 &  65 & 65 & 23.0 &  0.0 & 23.0\\\\\n",
       "\t 323 & 280 &  43 & 43 & 21.0 &  0.0 & 21.0\\\\\n",
       "\t 329 & 341 & -12 & 12 &  7.0 &  7.0 &  0.0\\\\\n",
       "\t 324 & 258 &  66 & 66 & 24.0 &  0.0 & 24.0\\\\\n",
       "\t 352 & 349 &   3 &  3 &  1.0 &  0.0 &  1.0\\\\\n",
       "\t 342 & 338 &   4 &  4 &  3.0 &  0.0 &  3.0\\\\\n",
       "\t 346 & 377 & -31 & 31 & 17.0 & 17.0 &  0.0\\\\\n",
       "\t 353 & 314 &  39 & 39 & 19.0 &  0.0 & 19.0\\\\\n",
       "\t 318 & 331 & -13 & 13 &  8.0 &  8.0 &  0.0\\\\\n",
       "\t 351 & 368 & -17 & 17 & 11.5 & 11.5 &  0.0\\\\\n",
       "\t 342 & 338 &   4 &  4 &  3.0 &  0.0 &  3.0\\\\\n",
       "\t 355 & 313 &  42 & 42 & 20.0 &  0.0 & 20.0\\\\\n",
       "\t 306 & 287 &  19 & 19 & 14.0 &  0.0 & 14.0\\\\\n",
       "\t 349 & 324 &  25 & 25 & 16.0 &  0.0 & 16.0\\\\\n",
       "\t 353 & 293 &  60 & 60 & 22.0 &  0.0 & 22.0\\\\\n",
       "\t 318 & 311 &   7 &  7 &  5.0 &  0.0 &  5.0\\\\\n",
       "\t 300 & 314 & -14 & 14 &  9.5 &  9.5 &  0.0\\\\\n",
       "\t 331 & 313 &  18 & 18 & 13.0 &  0.0 & 13.0\\\\\n",
       "\t 298 & 309 & -11 & 11 &  6.0 &  6.0 &  0.0\\\\\n",
       "\t 309 & 313 &  -4 &  4 &  3.0 &  3.0 &  0.0\\\\\n",
       "\t 317 & 303 &  14 & 14 &  9.5 &  0.0 &  9.5\\\\\n",
       "\\end{tabular}\n"
      ],
      "text/markdown": [
       "\n",
       "A tibble: 24 × 7\n",
       "\n",
       "| ad1 &lt;dbl&gt; | ad2 &lt;dbl&gt; | diff &lt;dbl&gt; | abs_diff &lt;dbl&gt; | rank &lt;dbl&gt; | neg_rank &lt;dbl&gt; | pos_rank &lt;dbl&gt; |\n",
       "|---|---|---|---|---|---|---|\n",
       "| 334 | 351 | -17 | 17 | 11.5 | 11.5 |  0.0 |\n",
       "| 329 | 349 | -20 | 20 | 15.0 | 15.0 |  0.0 |\n",
       "| 311 | 277 |  34 | 34 | 18.0 |  0.0 | 18.0 |\n",
       "| 341 | 276 |  65 | 65 | 23.0 |  0.0 | 23.0 |\n",
       "| 323 | 280 |  43 | 43 | 21.0 |  0.0 | 21.0 |\n",
       "| 329 | 341 | -12 | 12 |  7.0 |  7.0 |  0.0 |\n",
       "| 324 | 258 |  66 | 66 | 24.0 |  0.0 | 24.0 |\n",
       "| 352 | 349 |   3 |  3 |  1.0 |  0.0 |  1.0 |\n",
       "| 342 | 338 |   4 |  4 |  3.0 |  0.0 |  3.0 |\n",
       "| 346 | 377 | -31 | 31 | 17.0 | 17.0 |  0.0 |\n",
       "| 353 | 314 |  39 | 39 | 19.0 |  0.0 | 19.0 |\n",
       "| 318 | 331 | -13 | 13 |  8.0 |  8.0 |  0.0 |\n",
       "| 351 | 368 | -17 | 17 | 11.5 | 11.5 |  0.0 |\n",
       "| 342 | 338 |   4 |  4 |  3.0 |  0.0 |  3.0 |\n",
       "| 355 | 313 |  42 | 42 | 20.0 |  0.0 | 20.0 |\n",
       "| 306 | 287 |  19 | 19 | 14.0 |  0.0 | 14.0 |\n",
       "| 349 | 324 |  25 | 25 | 16.0 |  0.0 | 16.0 |\n",
       "| 353 | 293 |  60 | 60 | 22.0 |  0.0 | 22.0 |\n",
       "| 318 | 311 |   7 |  7 |  5.0 |  0.0 |  5.0 |\n",
       "| 300 | 314 | -14 | 14 |  9.5 |  9.5 |  0.0 |\n",
       "| 331 | 313 |  18 | 18 | 13.0 |  0.0 | 13.0 |\n",
       "| 298 | 309 | -11 | 11 |  6.0 |  6.0 |  0.0 |\n",
       "| 309 | 313 |  -4 |  4 |  3.0 |  3.0 |  0.0 |\n",
       "| 317 | 303 |  14 | 14 |  9.5 |  0.0 |  9.5 |\n",
       "\n"
      ],
      "text/plain": [
       "   ad1 ad2 diff abs_diff rank neg_rank pos_rank\n",
       "1  334 351 -17  17       11.5 11.5      0.0    \n",
       "2  329 349 -20  20       15.0 15.0      0.0    \n",
       "3  311 277  34  34       18.0  0.0     18.0    \n",
       "4  341 276  65  65       23.0  0.0     23.0    \n",
       "5  323 280  43  43       21.0  0.0     21.0    \n",
       "6  329 341 -12  12        7.0  7.0      0.0    \n",
       "7  324 258  66  66       24.0  0.0     24.0    \n",
       "8  352 349   3   3        1.0  0.0      1.0    \n",
       "9  342 338   4   4        3.0  0.0      3.0    \n",
       "10 346 377 -31  31       17.0 17.0      0.0    \n",
       "11 353 314  39  39       19.0  0.0     19.0    \n",
       "12 318 331 -13  13        8.0  8.0      0.0    \n",
       "13 351 368 -17  17       11.5 11.5      0.0    \n",
       "14 342 338   4   4        3.0  0.0      3.0    \n",
       "15 355 313  42  42       20.0  0.0     20.0    \n",
       "16 306 287  19  19       14.0  0.0     14.0    \n",
       "17 349 324  25  25       16.0  0.0     16.0    \n",
       "18 353 293  60  60       22.0  0.0     22.0    \n",
       "19 318 311   7   7        5.0  0.0      5.0    \n",
       "20 300 314 -14  14        9.5  9.5      0.0    \n",
       "21 331 313  18  18       13.0  0.0     13.0    \n",
       "22 298 309 -11  11        6.0  6.0      0.0    \n",
       "23 309 313  -4   4        3.0  3.0      0.0    \n",
       "24 317 303  14  14        9.5  0.0      9.5    "
      ]
     },
     "metadata": {},
     "output_type": "display_data"
    }
   ],
   "source": [
    "\n",
    "(clr <- clr %>% mutate(\n",
    "    # step 5: rank the absolute difference from smallest to highest (use average rank in case tie)\n",
    "    rank = rank(abs_diff, \"average\"),\n",
    "    # step 6: record rows having negative difference as negative rank\n",
    "    neg_rank = ifelse(diff < 0, rank, 0),\n",
    "    # step 7: record rows having positive difference as positive rank\n",
    "    pos_rank = ifelse(diff > 0, rank, 0)\n",
    "))\n",
    "\n"
   ]
  },
  {
   "cell_type": "markdown",
   "id": "medium-comedy",
   "metadata": {},
   "source": [
    "<b style = \"color:red\"> Notice the correction for $T^+$ because we use normal distribution to estimate the discrete distribution of $T^+$</b>"
   ]
  },
  {
   "cell_type": "code",
   "execution_count": 55,
   "id": "expensive-finder",
   "metadata": {},
   "outputs": [
    {
     "data": {
      "text/html": [
       "<strong>T_plus:</strong> 211.5"
      ],
      "text/latex": [
       "\\textbf{T\\textbackslash{}\\_plus:} 211.5"
      ],
      "text/markdown": [
       "**T_plus:** 211.5"
      ],
      "text/plain": [
       "T_plus \n",
       " 211.5 "
      ]
     },
     "metadata": {},
     "output_type": "display_data"
    }
   ],
   "source": [
    "# step 8: Calculate test statistic T+, the sum of positive rank\n",
    "# minus 0.5 for correction when using normal distribution to estimate the discrete distribution of T+\n",
    "T_plus <- sum(clr$pos_rank) \n",
    "T_plus_correction <- T_plus - 0.5\n",
    "c(T_plus = T_plus)"
   ]
  },
  {
   "cell_type": "markdown",
   "id": "mysterious-national",
   "metadata": {},
   "source": [
    "$$\\mu_{T^+} = \\frac{n(n+1)}{4}$$\n",
    "$$\\sigma_{T^+} = \\sqrt{\\frac{n(n + 1)(2n+1)}{24}}$$"
   ]
  },
  {
   "cell_type": "code",
   "execution_count": 56,
   "id": "pleased-demographic",
   "metadata": {},
   "outputs": [
    {
     "data": {
      "text/html": [
       "<style>\n",
       ".dl-inline {width: auto; margin:0; padding: 0}\n",
       ".dl-inline>dt, .dl-inline>dd {float: none; width: auto; display: inline-block}\n",
       ".dl-inline>dt::after {content: \":\\0020\"; padding-right: .5ex}\n",
       ".dl-inline>dt:not(:first-of-type) {padding-left: .5ex}\n",
       "</style><dl class=dl-inline><dt>sample_size</dt><dd>24</dd><dt>mean</dt><dd>150</dd><dt>sigma</dt><dd>35</dd></dl>\n"
      ],
      "text/latex": [
       "\\begin{description*}\n",
       "\\item[sample\\textbackslash{}\\_size] 24\n",
       "\\item[mean] 150\n",
       "\\item[sigma] 35\n",
       "\\end{description*}\n"
      ],
      "text/markdown": [
       "sample_size\n",
       ":   24mean\n",
       ":   150sigma\n",
       ":   35\n",
       "\n"
      ],
      "text/plain": [
       "sample_size        mean       sigma \n",
       "         24         150          35 "
      ]
     },
     "metadata": {},
     "output_type": "display_data"
    }
   ],
   "source": [
    "# step 9: Calculate the mean and standard deviation of the distribution of the statistic T+, asumming the null hypothesis H_0 is True\n",
    "n <- nrow(clr)\n",
    "mean_T_plus <- n * (n + 1) / 4 \n",
    "se_T_plus <- sqrt(n * (n + 1) * (2 * n + 1) / 24)\n",
    "\n",
    "c(sample_size = n, mean = mean_T_plus, sigma = se_T_plus)"
   ]
  },
  {
   "cell_type": "code",
   "execution_count": 62,
   "id": "assumed-proxy",
   "metadata": {},
   "outputs": [
    {
     "data": {
      "text/html": [
       "<style>\n",
       ".dl-inline {width: auto; margin:0; padding: 0}\n",
       ".dl-inline>dt, .dl-inline>dd {float: none; width: auto; display: inline-block}\n",
       ".dl-inline>dt::after {content: \":\\0020\"; padding-right: .5ex}\n",
       ".dl-inline>dt:not(:first-of-type) {padding-left: .5ex}\n",
       "</style><dl class=dl-inline><dt>z</dt><dd>1.74285714285714</dd><dt>p.value</dt><dd>0.0813585718041446</dd></dl>\n"
      ],
      "text/latex": [
       "\\begin{description*}\n",
       "\\item[z] 1.74285714285714\n",
       "\\item[p.value] 0.0813585718041446\n",
       "\\end{description*}\n"
      ],
      "text/markdown": [
       "z\n",
       ":   1.74285714285714p.value\n",
       ":   0.0813585718041446\n",
       "\n"
      ],
      "text/plain": [
       "         z    p.value \n",
       "1.74285714 0.08135857 "
      ]
     },
     "metadata": {},
     "output_type": "display_data"
    }
   ],
   "source": [
    "# step 10: calculate z statistic and p-value\n",
    "# calculate z using T_plug_correction\n",
    "z <- (T_plus_correction - mean_T_plus) / se_T_plus\n",
    "# 2 tail test\n",
    "p.value <- pnorm(z, lower.tail = F) * 2\n",
    "\n",
    "c(z = z, p.value = p.value)"
   ]
  },
  {
   "cell_type": "markdown",
   "id": "satellite-pillow",
   "metadata": {},
   "source": [
    "**Conclusion**: p value > 0.05 so we fail to reject $H_0$"
   ]
  },
  {
   "cell_type": "markdown",
   "id": "radio-wilson",
   "metadata": {},
   "source": [
    "### 3.2 Using R"
   ]
  },
  {
   "cell_type": "markdown",
   "id": "based-sweden",
   "metadata": {},
   "source": [
    "> **`wilcox.test(paired = TRUE)`**"
   ]
  },
  {
   "cell_type": "code",
   "execution_count": 67,
   "id": "integrated-algorithm",
   "metadata": {},
   "outputs": [
    {
     "name": "stderr",
     "output_type": "stream",
     "text": [
      "Warning message in wilcox.test.default(clr$ad1, clr$ad2, paired = T, conf.level = 0.95, :\n",
      "\"cannot compute exact p-value with ties\"\n"
     ]
    },
    {
     "data": {
      "text/plain": [
       "\n",
       "\tWilcoxon signed rank test with continuity correction\n",
       "\n",
       "data:  clr$ad1 and clr$ad2\n",
       "V = 211.5, p-value = 0.08127\n",
       "alternative hypothesis: true location shift is not equal to 0\n"
      ]
     },
     "metadata": {},
     "output_type": "display_data"
    }
   ],
   "source": [
    "# set correct = T for continuity correction of normal approximation\n",
    "report <- wilcox.test(clr$ad1, clr$ad2, paired = T, conf.level = 0.95, correct = T) \n",
    "report"
   ]
  },
  {
   "cell_type": "code",
   "execution_count": 71,
   "id": "ambient-soldier",
   "metadata": {},
   "outputs": [
    {
     "data": {
      "text/html": [
       "<style>\n",
       ".list-inline {list-style: none; margin:0; padding: 0}\n",
       ".list-inline>li {display: inline-block}\n",
       ".list-inline>li:not(:last-child)::after {content: \"\\00b7\"; padding: 0 .5ex}\n",
       "</style>\n",
       "<ol class=list-inline><li>'statistic'</li><li>'parameter'</li><li>'p.value'</li><li>'null.value'</li><li>'alternative'</li><li>'method'</li><li>'data.name'</li></ol>\n"
      ],
      "text/latex": [
       "\\begin{enumerate*}\n",
       "\\item 'statistic'\n",
       "\\item 'parameter'\n",
       "\\item 'p.value'\n",
       "\\item 'null.value'\n",
       "\\item 'alternative'\n",
       "\\item 'method'\n",
       "\\item 'data.name'\n",
       "\\end{enumerate*}\n"
      ],
      "text/markdown": [
       "1. 'statistic'\n",
       "2. 'parameter'\n",
       "3. 'p.value'\n",
       "4. 'null.value'\n",
       "5. 'alternative'\n",
       "6. 'method'\n",
       "7. 'data.name'\n",
       "\n",
       "\n"
      ],
      "text/plain": [
       "[1] \"statistic\"   \"parameter\"   \"p.value\"     \"null.value\"  \"alternative\"\n",
       "[6] \"method\"      \"data.name\"  "
      ]
     },
     "metadata": {},
     "output_type": "display_data"
    }
   ],
   "source": [
    "names(report) "
   ]
  },
  {
   "cell_type": "markdown",
   "id": "affiliated-ordering",
   "metadata": {},
   "source": [
    "### 3.3 Simulation"
   ]
  },
  {
   "cell_type": "code",
   "execution_count": 97,
   "id": "informal-suffering",
   "metadata": {},
   "outputs": [],
   "source": [
    "nsims <- 1000\n",
    "sample_size <- 20\n",
    "simulated_T_plus <- replicate(nsims, {\n",
    "    # simulate data from 2 gamma distribution with the same parameters\n",
    "    sample1 <- rgamma(sample_size, 1, 3)\n",
    "    sample2 <- rgamma(sample_size, 1, 3)\n",
    "    sample_data <- tibble(group1 = sample1, group2 = sample2)\n",
    "    # T plus\n",
    "    wilcox.test(sample_data$group1, sample_data$group2, paired = TRUE)$statistic %>% unname()\n",
    "})\n"
   ]
  },
  {
   "cell_type": "code",
   "execution_count": 98,
   "id": "solar-knowing",
   "metadata": {},
   "outputs": [
    {
     "data": {
      "text/html": [
       "105.118"
      ],
      "text/latex": [
       "105.118"
      ],
      "text/markdown": [
       "105.118"
      ],
      "text/plain": [
       "[1] 105.118"
      ]
     },
     "metadata": {},
     "output_type": "display_data"
    }
   ],
   "source": [
    "mean(simulated_T_plus)"
   ]
  },
  {
   "cell_type": "code",
   "execution_count": 104,
   "id": "unknown-season",
   "metadata": {},
   "outputs": [
    {
     "data": {
      "image/png": "[encoded data removed]",
      "text/plain": [
       "Plot with title \"Histogram of simulated_T_plus\""
      ]
     },
     "metadata": {
      "image/png": {
       "height": 420,
       "width": 420
      }
     },
     "output_type": "display_data"
    }
   ],
   "source": [
    "n <- sample_size\n",
    "\n",
    "# histogram of simulated T+ for 1000 simulations\n",
    "hist(simulated_T_plus, breaks = 20, prob = T, border = \"tomato\", col = \"grey\")\n",
    "# normal approximation\n",
    "curve(dnorm(x, mean = n * (n + 1) / 4, sd = sqrt(n * (n + 1) * (2 * n + 1) / 24)), add = T, col = \"darkorange\", lwd = 2)"
   ]
  },
  {
   "cell_type": "markdown",
   "id": "supreme-kernel",
   "metadata": {},
   "source": [
    "# 4. Non parametric version of One-way ANOVA  - Kruskal Wallis Test"
   ]
  },
  {
   "cell_type": "markdown",
   "id": "loving-characterization",
   "metadata": {},
   "source": [
    "**Reference**: <https://www.youtube.com/watch?v=HnNXUO7weQ0&list=PLIeGtxpvyG-IV0Yf8AyeMgmNkpFBxBJlh&index=6>"
   ]
  },
  {
   "cell_type": "markdown",
   "id": "everyday-farming",
   "metadata": {},
   "source": [
    "In one-way ANOVA, the assumption is that each distribution is normally distributed. Kruskal-Wallis Test is the same as one-way ANOVA, but it works for distributions that are not normal"
   ]
  },
  {
   "cell_type": "markdown",
   "id": "going-stranger",
   "metadata": {},
   "source": [
    "$H_0$: All population are the same  \n",
    "$H_1$: All population are not the same (there is a statistically significant difference between groups)"
   ]
  },
  {
   "cell_type": "markdown",
   "id": "meaningful-toyota",
   "metadata": {},
   "source": [
    "<b style = \"color:red\">NOTE: All Kruskal-Wallis Tests are one-tailed tests because it uses chi squared distribution to obtain the p value</b>"
   ]
  },
  {
   "cell_type": "markdown",
   "id": "gothic-parker",
   "metadata": {},
   "source": [
    "### 4.1 Derivation"
   ]
  },
  {
   "cell_type": "code",
   "execution_count": 180,
   "id": "tracked-clearance",
   "metadata": {},
   "outputs": [
    {
     "data": {
      "text/html": [
       "<table>\n",
       "<caption>A tibble: 15 × 3</caption>\n",
       "<thead>\n",
       "\t<tr><th scope=col>group1</th><th scope=col>group2</th><th scope=col>group3</th></tr>\n",
       "\t<tr><th scope=col>&lt;dbl&gt;</th><th scope=col>&lt;dbl&gt;</th><th scope=col>&lt;dbl&gt;</th></tr>\n",
       "</thead>\n",
       "<tbody>\n",
       "\t<tr><td>20</td><td>11</td><td>17</td></tr>\n",
       "\t<tr><td>17</td><td>14</td><td>23</td></tr>\n",
       "\t<tr><td>16</td><td>13</td><td>15</td></tr>\n",
       "\t<tr><td>15</td><td>13</td><td>15</td></tr>\n",
       "\t<tr><td>13</td><td>17</td><td>16</td></tr>\n",
       "\t<tr><td>20</td><td>16</td><td>16</td></tr>\n",
       "\t<tr><td>12</td><td>18</td><td>19</td></tr>\n",
       "\t<tr><td>18</td><td>16</td><td>17</td></tr>\n",
       "\t<tr><td>14</td><td>11</td><td>23</td></tr>\n",
       "\t<tr><td>13</td><td>18</td><td>22</td></tr>\n",
       "\t<tr><td>15</td><td>14</td><td>17</td></tr>\n",
       "\t<tr><td>17</td><td>16</td><td>17</td></tr>\n",
       "\t<tr><td>20</td><td>18</td><td>20</td></tr>\n",
       "\t<tr><td>17</td><td>16</td><td>23</td></tr>\n",
       "\t<tr><td>17</td><td>16</td><td>21</td></tr>\n",
       "</tbody>\n",
       "</table>\n"
      ],
      "text/latex": [
       "A tibble: 15 × 3\n",
       "\\begin{tabular}{lll}\n",
       " group1 & group2 & group3\\\\\n",
       " <dbl> & <dbl> & <dbl>\\\\\n",
       "\\hline\n",
       "\t 20 & 11 & 17\\\\\n",
       "\t 17 & 14 & 23\\\\\n",
       "\t 16 & 13 & 15\\\\\n",
       "\t 15 & 13 & 15\\\\\n",
       "\t 13 & 17 & 16\\\\\n",
       "\t 20 & 16 & 16\\\\\n",
       "\t 12 & 18 & 19\\\\\n",
       "\t 18 & 16 & 17\\\\\n",
       "\t 14 & 11 & 23\\\\\n",
       "\t 13 & 18 & 22\\\\\n",
       "\t 15 & 14 & 17\\\\\n",
       "\t 17 & 16 & 17\\\\\n",
       "\t 20 & 18 & 20\\\\\n",
       "\t 17 & 16 & 23\\\\\n",
       "\t 17 & 16 & 21\\\\\n",
       "\\end{tabular}\n"
      ],
      "text/markdown": [
       "\n",
       "A tibble: 15 × 3\n",
       "\n",
       "| group1 &lt;dbl&gt; | group2 &lt;dbl&gt; | group3 &lt;dbl&gt; |\n",
       "|---|---|---|\n",
       "| 20 | 11 | 17 |\n",
       "| 17 | 14 | 23 |\n",
       "| 16 | 13 | 15 |\n",
       "| 15 | 13 | 15 |\n",
       "| 13 | 17 | 16 |\n",
       "| 20 | 16 | 16 |\n",
       "| 12 | 18 | 19 |\n",
       "| 18 | 16 | 17 |\n",
       "| 14 | 11 | 23 |\n",
       "| 13 | 18 | 22 |\n",
       "| 15 | 14 | 17 |\n",
       "| 17 | 16 | 17 |\n",
       "| 20 | 18 | 20 |\n",
       "| 17 | 16 | 23 |\n",
       "| 17 | 16 | 21 |\n",
       "\n"
      ],
      "text/plain": [
       "   group1 group2 group3\n",
       "1  20     11     17    \n",
       "2  17     14     23    \n",
       "3  16     13     15    \n",
       "4  15     13     15    \n",
       "5  13     17     16    \n",
       "6  20     16     16    \n",
       "7  12     18     19    \n",
       "8  18     16     17    \n",
       "9  14     11     23    \n",
       "10 13     18     22    \n",
       "11 15     14     17    \n",
       "12 17     16     17    \n",
       "13 20     18     20    \n",
       "14 17     16     23    \n",
       "15 17     16     21    "
      ]
     },
     "metadata": {},
     "output_type": "display_data"
    }
   ],
   "source": [
    "scores <- tibble(\n",
    "    group1 = c(20, 17, 16, 15, 13, 20, 12, 18, 14, 13, 15, 17, 20, 17, 17),\n",
    "    group2 = c(11, 14, 13, 13, 17, 16, 18, 16, 11, 18, 14, 16, 18, 16, 16),\n",
    "    group3 = c(17, 23, 15, 15, 16, 16, 19, 17, 23, 22, 17, 17, 20, 23, 21)\n",
    ")\n",
    "\n",
    "scores"
   ]
  },
  {
   "cell_type": "code",
   "execution_count": 181,
   "id": "based-botswana",
   "metadata": {},
   "outputs": [
    {
     "data": {
      "text/html": [
       "<table>\n",
       "<caption>A tibble: 6 × 2</caption>\n",
       "<thead>\n",
       "\t<tr><th scope=col>group</th><th scope=col>score</th></tr>\n",
       "\t<tr><th scope=col>&lt;dbl&gt;</th><th scope=col>&lt;dbl&gt;</th></tr>\n",
       "</thead>\n",
       "<tbody>\n",
       "\t<tr><td>1</td><td>20</td></tr>\n",
       "\t<tr><td>2</td><td>11</td></tr>\n",
       "\t<tr><td>3</td><td>17</td></tr>\n",
       "\t<tr><td>1</td><td>17</td></tr>\n",
       "\t<tr><td>2</td><td>14</td></tr>\n",
       "\t<tr><td>3</td><td>23</td></tr>\n",
       "</tbody>\n",
       "</table>\n"
      ],
      "text/latex": [
       "A tibble: 6 × 2\n",
       "\\begin{tabular}{ll}\n",
       " group & score\\\\\n",
       " <dbl> & <dbl>\\\\\n",
       "\\hline\n",
       "\t 1 & 20\\\\\n",
       "\t 2 & 11\\\\\n",
       "\t 3 & 17\\\\\n",
       "\t 1 & 17\\\\\n",
       "\t 2 & 14\\\\\n",
       "\t 3 & 23\\\\\n",
       "\\end{tabular}\n"
      ],
      "text/markdown": [
       "\n",
       "A tibble: 6 × 2\n",
       "\n",
       "| group &lt;dbl&gt; | score &lt;dbl&gt; |\n",
       "|---|---|\n",
       "| 1 | 20 |\n",
       "| 2 | 11 |\n",
       "| 3 | 17 |\n",
       "| 1 | 17 |\n",
       "| 2 | 14 |\n",
       "| 3 | 23 |\n",
       "\n"
      ],
      "text/plain": [
       "  group score\n",
       "1 1     20   \n",
       "2 2     11   \n",
       "3 3     17   \n",
       "4 1     17   \n",
       "5 2     14   \n",
       "6 3     23   "
      ]
     },
     "metadata": {},
     "output_type": "display_data"
    }
   ],
   "source": [
    "scores_long <- scores %>% pivot_longer(everything(),\n",
    "                                      names_to = \"group\",\n",
    "                                      values_to = \"score\",\n",
    "                                      names_transform = list(group = parse_number))\n",
    "head(scores_long)"
   ]
  },
  {
   "cell_type": "code",
   "execution_count": null,
   "id": "contained-packing",
   "metadata": {},
   "outputs": [],
   "source": []
  },
  {
   "cell_type": "markdown",
   "id": "durable-portfolio",
   "metadata": {},
   "source": [
    "### 4.2 Using R"
   ]
  },
  {
   "cell_type": "markdown",
   "id": "herbal-drinking",
   "metadata": {},
   "source": [
    "> **`kruskal.test()`**"
   ]
  },
  {
   "cell_type": "code",
   "execution_count": 182,
   "id": "global-assault",
   "metadata": {},
   "outputs": [
    {
     "data": {
      "text/plain": [
       "\n",
       "\tKruskal-Wallis rank sum test\n",
       "\n",
       "data:  score by group\n",
       "Kruskal-Wallis chi-squared = 8.7336, df = 2, p-value = 0.01269\n"
      ]
     },
     "metadata": {},
     "output_type": "display_data"
    }
   ],
   "source": [
    "kruskal.test(score ~ group, data = scores_long)"
   ]
  },
  {
   "cell_type": "markdown",
   "id": "specialized-memphis",
   "metadata": {},
   "source": [
    "### 4.3 Simulation"
   ]
  },
  {
   "cell_type": "markdown",
   "id": "greatest-jesus",
   "metadata": {},
   "source": [
    "# 5. Non parametric version of Two-way block ANOVA  - Friedman Test"
   ]
  },
  {
   "cell_type": "markdown",
   "id": "bright-support",
   "metadata": {},
   "source": [
    "### 5.1 Derivation"
   ]
  },
  {
   "cell_type": "code",
   "execution_count": 191,
   "id": "acceptable-screen",
   "metadata": {},
   "outputs": [
    {
     "data": {
      "text/html": [
       "<table>\n",
       "<caption>A tibble: 15 × 5</caption>\n",
       "<thead>\n",
       "\t<tr><th scope=col>person</th><th scope=col>movie1</th><th scope=col>movie2</th><th scope=col>movie3</th><th scope=col>movie4</th></tr>\n",
       "\t<tr><th scope=col>&lt;int&gt;</th><th scope=col>&lt;dbl&gt;</th><th scope=col>&lt;dbl&gt;</th><th scope=col>&lt;dbl&gt;</th><th scope=col>&lt;dbl&gt;</th></tr>\n",
       "</thead>\n",
       "<tbody>\n",
       "\t<tr><td> 1</td><td>20</td><td>11</td><td>17</td><td>24</td></tr>\n",
       "\t<tr><td> 2</td><td>17</td><td>14</td><td>23</td><td>24</td></tr>\n",
       "\t<tr><td> 3</td><td>16</td><td>13</td><td>15</td><td>22</td></tr>\n",
       "\t<tr><td> 4</td><td>15</td><td>13</td><td>15</td><td>23</td></tr>\n",
       "\t<tr><td> 5</td><td>13</td><td>17</td><td>16</td><td>20</td></tr>\n",
       "\t<tr><td> 6</td><td>20</td><td>16</td><td>16</td><td>20</td></tr>\n",
       "\t<tr><td> 7</td><td>12</td><td>18</td><td>19</td><td>19</td></tr>\n",
       "\t<tr><td> 8</td><td>18</td><td>16</td><td>17</td><td>24</td></tr>\n",
       "\t<tr><td> 9</td><td>14</td><td>11</td><td>23</td><td>21</td></tr>\n",
       "\t<tr><td>10</td><td>13</td><td>18</td><td>22</td><td>19</td></tr>\n",
       "\t<tr><td>11</td><td>15</td><td>14</td><td>17</td><td>22</td></tr>\n",
       "\t<tr><td>12</td><td>17</td><td>16</td><td>17</td><td>21</td></tr>\n",
       "\t<tr><td>13</td><td>20</td><td>18</td><td>20</td><td>22</td></tr>\n",
       "\t<tr><td>14</td><td>17</td><td>16</td><td>23</td><td>19</td></tr>\n",
       "\t<tr><td>15</td><td>17</td><td>16</td><td>21</td><td>21</td></tr>\n",
       "</tbody>\n",
       "</table>\n"
      ],
      "text/latex": [
       "A tibble: 15 × 5\n",
       "\\begin{tabular}{lllll}\n",
       " person & movie1 & movie2 & movie3 & movie4\\\\\n",
       " <int> & <dbl> & <dbl> & <dbl> & <dbl>\\\\\n",
       "\\hline\n",
       "\t  1 & 20 & 11 & 17 & 24\\\\\n",
       "\t  2 & 17 & 14 & 23 & 24\\\\\n",
       "\t  3 & 16 & 13 & 15 & 22\\\\\n",
       "\t  4 & 15 & 13 & 15 & 23\\\\\n",
       "\t  5 & 13 & 17 & 16 & 20\\\\\n",
       "\t  6 & 20 & 16 & 16 & 20\\\\\n",
       "\t  7 & 12 & 18 & 19 & 19\\\\\n",
       "\t  8 & 18 & 16 & 17 & 24\\\\\n",
       "\t  9 & 14 & 11 & 23 & 21\\\\\n",
       "\t 10 & 13 & 18 & 22 & 19\\\\\n",
       "\t 11 & 15 & 14 & 17 & 22\\\\\n",
       "\t 12 & 17 & 16 & 17 & 21\\\\\n",
       "\t 13 & 20 & 18 & 20 & 22\\\\\n",
       "\t 14 & 17 & 16 & 23 & 19\\\\\n",
       "\t 15 & 17 & 16 & 21 & 21\\\\\n",
       "\\end{tabular}\n"
      ],
      "text/markdown": [
       "\n",
       "A tibble: 15 × 5\n",
       "\n",
       "| person &lt;int&gt; | movie1 &lt;dbl&gt; | movie2 &lt;dbl&gt; | movie3 &lt;dbl&gt; | movie4 &lt;dbl&gt; |\n",
       "|---|---|---|---|---|\n",
       "|  1 | 20 | 11 | 17 | 24 |\n",
       "|  2 | 17 | 14 | 23 | 24 |\n",
       "|  3 | 16 | 13 | 15 | 22 |\n",
       "|  4 | 15 | 13 | 15 | 23 |\n",
       "|  5 | 13 | 17 | 16 | 20 |\n",
       "|  6 | 20 | 16 | 16 | 20 |\n",
       "|  7 | 12 | 18 | 19 | 19 |\n",
       "|  8 | 18 | 16 | 17 | 24 |\n",
       "|  9 | 14 | 11 | 23 | 21 |\n",
       "| 10 | 13 | 18 | 22 | 19 |\n",
       "| 11 | 15 | 14 | 17 | 22 |\n",
       "| 12 | 17 | 16 | 17 | 21 |\n",
       "| 13 | 20 | 18 | 20 | 22 |\n",
       "| 14 | 17 | 16 | 23 | 19 |\n",
       "| 15 | 17 | 16 | 21 | 21 |\n",
       "\n"
      ],
      "text/plain": [
       "   person movie1 movie2 movie3 movie4\n",
       "1   1     20     11     17     24    \n",
       "2   2     17     14     23     24    \n",
       "3   3     16     13     15     22    \n",
       "4   4     15     13     15     23    \n",
       "5   5     13     17     16     20    \n",
       "6   6     20     16     16     20    \n",
       "7   7     12     18     19     19    \n",
       "8   8     18     16     17     24    \n",
       "9   9     14     11     23     21    \n",
       "10 10     13     18     22     19    \n",
       "11 11     15     14     17     22    \n",
       "12 12     17     16     17     21    \n",
       "13 13     20     18     20     22    \n",
       "14 14     17     16     23     19    \n",
       "15 15     17     16     21     21    "
      ]
     },
     "metadata": {},
     "output_type": "display_data"
    }
   ],
   "source": [
    "# each row is a person\n",
    "# each column is the rating of a movie (e:g rating[i, j] is the rating of the i person for the j movie)\n",
    "rating <- tibble(\n",
    "    person = 1:15,\n",
    "    movie1 = c(20, 17, 16, 15, 13, 20, 12, 18, 14, 13, 15, 17, 20, 17, 17),\n",
    "    movie2 = c(11, 14, 13, 13, 17, 16, 18, 16, 11, 18, 14, 16, 18, 16, 16),\n",
    "    movie3 = c(17, 23, 15, 15, 16, 16, 19, 17, 23, 22, 17, 17, 20, 23, 21),\n",
    "    movie4 = c(24, 24, 22, 23, 20, 20, 19, 24, 21, 19, 22, 21, 22, 19, 21)\n",
    ")\n",
    "rating"
   ]
  },
  {
   "cell_type": "code",
   "execution_count": 192,
   "id": "wooden-architect",
   "metadata": {},
   "outputs": [
    {
     "data": {
      "text/html": [
       "<table>\n",
       "<caption>A tibble: 6 × 3</caption>\n",
       "<thead>\n",
       "\t<tr><th scope=col>person</th><th scope=col>movie</th><th scope=col>rating</th></tr>\n",
       "\t<tr><th scope=col>&lt;int&gt;</th><th scope=col>&lt;dbl&gt;</th><th scope=col>&lt;dbl&gt;</th></tr>\n",
       "</thead>\n",
       "<tbody>\n",
       "\t<tr><td>1</td><td>1</td><td>20</td></tr>\n",
       "\t<tr><td>1</td><td>2</td><td>11</td></tr>\n",
       "\t<tr><td>1</td><td>3</td><td>17</td></tr>\n",
       "\t<tr><td>1</td><td>4</td><td>24</td></tr>\n",
       "\t<tr><td>2</td><td>1</td><td>17</td></tr>\n",
       "\t<tr><td>2</td><td>2</td><td>14</td></tr>\n",
       "</tbody>\n",
       "</table>\n"
      ],
      "text/latex": [
       "A tibble: 6 × 3\n",
       "\\begin{tabular}{lll}\n",
       " person & movie & rating\\\\\n",
       " <int> & <dbl> & <dbl>\\\\\n",
       "\\hline\n",
       "\t 1 & 1 & 20\\\\\n",
       "\t 1 & 2 & 11\\\\\n",
       "\t 1 & 3 & 17\\\\\n",
       "\t 1 & 4 & 24\\\\\n",
       "\t 2 & 1 & 17\\\\\n",
       "\t 2 & 2 & 14\\\\\n",
       "\\end{tabular}\n"
      ],
      "text/markdown": [
       "\n",
       "A tibble: 6 × 3\n",
       "\n",
       "| person &lt;int&gt; | movie &lt;dbl&gt; | rating &lt;dbl&gt; |\n",
       "|---|---|---|\n",
       "| 1 | 1 | 20 |\n",
       "| 1 | 2 | 11 |\n",
       "| 1 | 3 | 17 |\n",
       "| 1 | 4 | 24 |\n",
       "| 2 | 1 | 17 |\n",
       "| 2 | 2 | 14 |\n",
       "\n"
      ],
      "text/plain": [
       "  person movie rating\n",
       "1 1      1     20    \n",
       "2 1      2     11    \n",
       "3 1      3     17    \n",
       "4 1      4     24    \n",
       "5 2      1     17    \n",
       "6 2      2     14    "
      ]
     },
     "metadata": {},
     "output_type": "display_data"
    }
   ],
   "source": [
    "rating_long <- rating %>% \n",
    "pivot_longer(!person, \n",
    "            names_to = \"movie\",\n",
    "            values_to = \"rating\",\n",
    "            names_transform = list(movie = parse_number))\n",
    "head(rating_long)"
   ]
  },
  {
   "cell_type": "markdown",
   "id": "atlantic-george",
   "metadata": {},
   "source": [
    "### 5.2 Using R"
   ]
  },
  {
   "cell_type": "code",
   "execution_count": 195,
   "id": "invisible-yesterday",
   "metadata": {},
   "outputs": [
    {
     "data": {
      "text/plain": [
       "\n",
       "\tFriedman rank sum test\n",
       "\n",
       "data:  rating and movie and person\n",
       "Friedman chi-squared = 28.888, df = 3, p-value = 2.364e-06\n"
      ]
     },
     "metadata": {},
     "output_type": "display_data"
    }
   ],
   "source": [
    "friedman.test(rating ~ movie | person, data = rating_long)"
   ]
  },
  {
   "cell_type": "markdown",
   "id": "searching-snowboard",
   "metadata": {},
   "source": [
    "### 5.3 Simulation"
   ]
  },
  {
   "cell_type": "markdown",
   "id": "adopted-grounds",
   "metadata": {},
   "source": [
    "# 6. Spearman Rank correlation"
   ]
  },
  {
   "cell_type": "markdown",
   "id": "loving-minnesota",
   "metadata": {},
   "source": [
    "**Reference**: \n",
    "- <https://www.youtube.com/watch?v=KJ8NOJe77y8&list=PLIeGtxpvyG-IV0Yf8AyeMgmNkpFBxBJlh&index=8>\n",
    "- [Comprehensive tutorial on correlation with R](http://www.sthda.com/english/wiki/correlation-test-between-two-variables-in-r)"
   ]
  },
  {
   "cell_type": "markdown",
   "id": "auburn-suffering",
   "metadata": {},
   "source": [
    "Correlation for rank or ordinal data: $r_s$. It is basically the Pearson correlation on rank.  \n",
    "$H_0: p = 0$  \n",
    "$H_1: p \\ne 0$"
   ]
  },
  {
   "cell_type": "markdown",
   "id": "after-pitch",
   "metadata": {},
   "source": [
    "## 6.1 Correlation test"
   ]
  },
  {
   "cell_type": "markdown",
   "id": "missing-thesaurus",
   "metadata": {},
   "source": [
    ">Correlation test is used to evaluate the association between two or more variables."
   ]
  },
  {
   "cell_type": "markdown",
   "id": "abstract-sampling",
   "metadata": {},
   "source": [
    "```r\n",
    "cor(x, y, method = c(\"pearson\", \"kendall\", \"spearman\"))\n",
    "cor.test(x, y, method=c(\"pearson\", \"kendall\", \"spearman\"))\n",
    "```"
   ]
  },
  {
   "cell_type": "markdown",
   "id": "revised-harbor",
   "metadata": {},
   "source": [
    "## 6.2 Correlation methods"
   ]
  },
  {
   "cell_type": "markdown",
   "id": "narrative-arabic",
   "metadata": {},
   "source": [
    "- **pearson**: parametric, make assumption about the linear relationship between 2 variables and the distribution of each variable is normal. If the data is not normally distributed, it is recommended to use the non-parametric correlation\n",
    "- **spearman**: Spearman’s rho statistic is also used to estimate a rank-based measure of association. This test may be used if the data do not come from a bivariate normal distribution.\n",
    "- **kendal**:  used to estimate a rank-based measure of association. This test may be used if the data do not necessarily come from a bivariate normal distribution."
   ]
  },
  {
   "cell_type": "markdown",
   "id": "sticky-collectible",
   "metadata": {},
   "source": [
    "### 6.2.1 Pearson correlation (Parametric)"
   ]
  },
  {
   "cell_type": "markdown",
   "id": "classical-chase",
   "metadata": {},
   "source": [
    "$$r = \\frac{\\sum{(x-m_x)(y-m_y)}}{\\sqrt{\\sum{(x-m_x)^2}\\sum{(y-m_y)^2}}}$$"
   ]
  },
  {
   "cell_type": "code",
   "execution_count": 1,
   "id": "covered-northeast",
   "metadata": {},
   "outputs": [
    {
     "data": {
      "text/html": [
       "-0.847551379262479"
      ],
      "text/latex": [
       "-0.847551379262479"
      ],
      "text/markdown": [
       "-0.847551379262479"
      ],
      "text/plain": [
       "[1] -0.8475514"
      ]
     },
     "metadata": {},
     "output_type": "display_data"
    }
   ],
   "source": [
    "cor(mtcars$mpg, mtcars$disp, method = \"pearson\")"
   ]
  },
  {
   "cell_type": "code",
   "execution_count": 16,
   "id": "adequate-timeline",
   "metadata": {},
   "outputs": [
    {
     "data": {
      "text/html": [
       "-0.847551379262479"
      ],
      "text/latex": [
       "-0.847551379262479"
      ],
      "text/markdown": [
       "-0.847551379262479"
      ],
      "text/plain": [
       "[1] -0.8475514"
      ]
     },
     "metadata": {},
     "output_type": "display_data"
    }
   ],
   "source": [
    "# equivalent\n",
    "x <- with(mtcars, mpg - mean(mpg))\n",
    "y <- with(mtcars, disp - mean(disp))\n",
    "r <- sum(x * y) / sqrt(sum(x^2) * sum(y^2))\n",
    "r"
   ]
  },
  {
   "cell_type": "code",
   "execution_count": 17,
   "id": "radical-sleep",
   "metadata": {},
   "outputs": [
    {
     "data": {
      "text/html": [
       "-0.847551379262479"
      ],
      "text/latex": [
       "-0.847551379262479"
      ],
      "text/markdown": [
       "-0.847551379262479"
      ],
      "text/plain": [
       "[1] -0.8475514"
      ]
     },
     "metadata": {},
     "output_type": "display_data"
    }
   ],
   "source": [
    "# equivalent\n",
    "x <- mtcars$mpg\n",
    "y <- mtcars$disp\n",
    "\n",
    "cov(x, y) / sqrt(cov(x, x) * cov(y, y))"
   ]
  },
  {
   "cell_type": "markdown",
   "id": "proved-afternoon",
   "metadata": {},
   "source": [
    "#### 6.2.1.1 Assumptions\n",
    "- Is the covariation linear? Yes, form the plot above, the relationship is linear. In the situation where the scatter plots show curved patterns, we are dealing with nonlinear association between the two variables."
   ]
  },
  {
   "cell_type": "code",
   "execution_count": 18,
   "id": "monetary-average",
   "metadata": {},
   "outputs": [
    {
     "name": "stderr",
     "output_type": "stream",
     "text": [
      "`geom_smooth()` using formula 'y ~ x'\n",
      "\n"
     ]
    },
    {
     "data": {
      "image/png": "[encoded data removed]",
      "text/plain": [
       "plot without title"
      ]
     },
     "metadata": {
      "image/png": {
       "height": 420,
       "width": 420
      }
     },
     "output_type": "display_data"
    }
   ],
   "source": [
    "mtcars %>% \n",
    "ggplot(aes(disp, mpg)) + \n",
    "geom_point() + \n",
    "geom_smooth(method = \"lm\")"
   ]
  },
  {
   "cell_type": "markdown",
   "id": "received-egypt",
   "metadata": {},
   "source": [
    "- Are the data from each of the 2 variables (x, y) follow a normal distribution? (using Shapiro-Wilk Test, histogram or qqplot)"
   ]
  },
  {
   "cell_type": "code",
   "execution_count": 19,
   "id": "english-kidney",
   "metadata": {},
   "outputs": [
    {
     "data": {
      "text/plain": [
       "\n",
       "\tShapiro-Wilk normality test\n",
       "\n",
       "data:  mtcars$mpg\n",
       "W = 0.94756, p-value = 0.1229\n"
      ]
     },
     "metadata": {},
     "output_type": "display_data"
    },
    {
     "data": {
      "text/plain": [
       "\n",
       "\tShapiro-Wilk normality test\n",
       "\n",
       "data:  mtcars$disp\n",
       "W = 0.92001, p-value = 0.02081\n"
      ]
     },
     "metadata": {},
     "output_type": "display_data"
    }
   ],
   "source": [
    "# the sample size is small so histogram is not useful here\n",
    "shapiro.test(mtcars$mpg)  # fail to reject H_0 at 0.01 significant level, we assume the normal assumption is not violated\n",
    "shapiro.test(mtcars$disp) # fail to reject H_0 at 0.01 significant level, we assume the normal assumption is not violated"
   ]
  },
  {
   "cell_type": "markdown",
   "id": "pointed-scientist",
   "metadata": {},
   "source": [
    "#### 6.2.1.2 Hypothesis testing"
   ]
  },
  {
   "cell_type": "markdown",
   "id": "figured-retention",
   "metadata": {},
   "source": [
    "Test statistic\n",
    "$$t = \\frac{r}{\\sqrt{1-r^2}}\\sqrt{n-2}$$\n",
    "sample from a $t$ distribution with $df = n - 2$ degree of freedom"
   ]
  },
  {
   "cell_type": "code",
   "execution_count": 13,
   "id": "needed-agency",
   "metadata": {},
   "outputs": [
    {
     "data": {
      "text/plain": [
       "\n",
       "\tPearson's product-moment correlation\n",
       "\n",
       "data:  mtcars$mpg and mtcars$disp\n",
       "t = -8.7472, df = 30, p-value = 9.38e-10\n",
       "alternative hypothesis: true correlation is not equal to 0\n",
       "95 percent confidence interval:\n",
       " -0.9233594 -0.7081376\n",
       "sample estimates:\n",
       "       cor \n",
       "-0.8475514 \n"
      ]
     },
     "metadata": {},
     "output_type": "display_data"
    }
   ],
   "source": [
    "cor.test(mtcars$mpg, mtcars$disp, method = \"pearson\")"
   ]
  },
  {
   "cell_type": "markdown",
   "id": "ignored-nightlife",
   "metadata": {},
   "source": [
    "p value < 0.01, we reject $H_0$, concludes that the correlation is significant"
   ]
  },
  {
   "cell_type": "markdown",
   "id": "lightweight-cooking",
   "metadata": {},
   "source": [
    "### 6.2.2 Spearman Rank correlation (Non-parametric)"
   ]
  },
  {
   "cell_type": "markdown",
   "id": "subtle-south",
   "metadata": {},
   "source": [
    "$$rho = \\frac{\\sum(x' - m_{x'})(y'_i - m_{y'})}{\\sqrt{\\sum(x' - m_{x'})^2 \\sum(y' - m_{y'})^2}}$$\n",
    "where $x' = rank(x)$, $y' = rank(y)$"
   ]
  },
  {
   "cell_type": "code",
   "execution_count": 11,
   "id": "collectible-energy",
   "metadata": {},
   "outputs": [
    {
     "data": {
      "text/html": [
       "-0.908882363736465"
      ],
      "text/latex": [
       "-0.908882363736465"
      ],
      "text/markdown": [
       "-0.908882363736465"
      ],
      "text/plain": [
       "[1] -0.9088824"
      ]
     },
     "metadata": {},
     "output_type": "display_data"
    }
   ],
   "source": [
    "cor(mtcars$mpg, mtcars$disp, method = \"spearman\")"
   ]
  },
  {
   "cell_type": "code",
   "execution_count": 21,
   "id": "answering-great",
   "metadata": {},
   "outputs": [
    {
     "data": {
      "text/html": [
       "-0.908882363736465"
      ],
      "text/latex": [
       "-0.908882363736465"
      ],
      "text/markdown": [
       "-0.908882363736465"
      ],
      "text/plain": [
       "[1] -0.9088824"
      ]
     },
     "metadata": {},
     "output_type": "display_data"
    }
   ],
   "source": [
    "# equivalent\n",
    "with(mtcars, cor(rank(mpg), rank(disp), method = \"pearson\"))"
   ]
  },
  {
   "cell_type": "markdown",
   "id": "material-oklahoma",
   "metadata": {},
   "source": [
    "#### 6.2.2.1 Hypothesis testing"
   ]
  },
  {
   "cell_type": "code",
   "execution_count": 22,
   "id": "classical-astronomy",
   "metadata": {},
   "outputs": [
    {
     "name": "stderr",
     "output_type": "stream",
     "text": [
      "Warning message in cor.test.default(mtcars$mpg, mtcars$disp, method = \"spearman\"):\n",
      "\"Cannot compute exact p-value with ties\"\n"
     ]
    },
    {
     "data": {
      "text/plain": [
       "\n",
       "\tSpearman's rank correlation rho\n",
       "\n",
       "data:  mtcars$mpg and mtcars$disp\n",
       "S = 10415, p-value = 6.37e-13\n",
       "alternative hypothesis: true rho is not equal to 0\n",
       "sample estimates:\n",
       "       rho \n",
       "-0.9088824 \n"
      ]
     },
     "metadata": {},
     "output_type": "display_data"
    }
   ],
   "source": [
    "cor.test(mtcars$mpg, mtcars$disp, method = \"spearman\")"
   ]
  },
  {
   "cell_type": "markdown",
   "id": "given-elements",
   "metadata": {},
   "source": [
    "p value < 0.01, so we reject $H_0$, concludes that the correlation is significant"
   ]
  },
  {
   "cell_type": "markdown",
   "id": "saving-letters",
   "metadata": {},
   "source": [
    "### 6.2.3 Kendal Rank correlation (Parametric)"
   ]
  },
  {
   "cell_type": "code",
   "execution_count": 10,
   "id": "collect-embassy",
   "metadata": {},
   "outputs": [
    {
     "data": {
      "text/html": [
       "-0.768131146377997"
      ],
      "text/latex": [
       "-0.768131146377997"
      ],
      "text/markdown": [
       "-0.768131146377997"
      ],
      "text/plain": [
       "[1] -0.7681311"
      ]
     },
     "metadata": {},
     "output_type": "display_data"
    }
   ],
   "source": [
    "cor(mtcars$mpg, mtcars$disp, method = \"kendall\")"
   ]
  },
  {
   "cell_type": "markdown",
   "id": "seventh-defendant",
   "metadata": {},
   "source": [
    "## 6.3 Interpretation"
   ]
  },
  {
   "cell_type": "markdown",
   "id": "adult-property",
   "metadata": {},
   "source": [
    "Correlation coefficient is comprised between -1 and 1:\n",
    "- -1 indicates a strong **negative** correlation : this means that every time x increases, y decreases (left panel figure)\n",
    "- 0 means that there is no **association** between the two variables (x and y) (middle panel figure)\n",
    "- 1 indicates a strong **positive** correlation : this means that y increases with x (right panel figure)"
   ]
  },
  {
   "cell_type": "markdown",
   "id": "killing-living",
   "metadata": {},
   "source": [
    "# 7. Compare the medians or 2 or more groups - Mood's Median Test"
   ]
  },
  {
   "cell_type": "markdown",
   "id": "original-terrace",
   "metadata": {},
   "source": [
    "Think of this as non-parametric one-way ANOVA  \n",
    "<b style = \"color:red\">NOTE: Kruskal-Wallis Test is considered better than Mood's median Test, because it has more statistical power, because it considers the ranks of observations, not just the sign</b>"
   ]
  },
  {
   "cell_type": "markdown",
   "id": "transsexual-testimony",
   "metadata": {},
   "source": [
    "**Reference**:\n",
    "- <https://www.youtube.com/watch?v=tWcEZSCNEuI&list=PLIeGtxpvyG-IV0Yf8AyeMgmNkpFBxBJlh&index=9>"
   ]
  },
  {
   "cell_type": "markdown",
   "id": "martial-demand",
   "metadata": {},
   "source": [
    "It's based on the:\n",
    "- Signed Test\n",
    "- Chi-squared Test"
   ]
  },
  {
   "cell_type": "markdown",
   "id": "frequent-salad",
   "metadata": {},
   "source": [
    "> **`mood.test`**"
   ]
  }
 ],
 "metadata": {
  "kernelspec": {
   "display_name": "R",
   "language": "R",
   "name": "ir"
  },
  "language_info": {
   "codemirror_mode": "r",
   "file_extension": ".r",
   "mimetype": "text/x-r-source",
   "name": "R",
   "pygments_lexer": "r",
   "version": "4.0.4"
  }
 },
 "nbformat": 4,
 "nbformat_minor": 5
}
