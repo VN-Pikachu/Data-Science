{
 "cells": [
  {
   "cell_type": "markdown",
   "id": "coated-projection",
   "metadata": {},
   "source": [
    "**Reference**:\n",
    "- <https://youtube.com/playlist?list=PLIeGtxpvyG-KwtuGE4kKONQHILQiL31qZ>\n",
    "- <https://daviddalpiaz.github.io/appliedstats/logistic-regression.html#generalized-linear-models>"
   ]
  },
  {
   "cell_type": "code",
   "execution_count": null,
   "id": "interstate-february",
   "metadata": {},
   "outputs": [],
   "source": []
  }
 ],
 "metadata": {
  "kernelspec": {
   "display_name": "R",
   "language": "R",
   "name": "ir"
  },
  "language_info": {
   "codemirror_mode": "r",
   "file_extension": ".r",
   "mimetype": "text/x-r-source",
   "name": "R",
   "pygments_lexer": "r",
   "version": "4.0.4"
  }
 },
 "nbformat": 4,
 "nbformat_minor": 5
}
