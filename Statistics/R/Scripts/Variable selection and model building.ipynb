{
 "cells": [
  {
   "cell_type": "code",
   "execution_count": 17,
   "id": "listed-doctor",
   "metadata": {},
   "outputs": [],
   "source": [
    "library(tidyverse)\n",
    "library(broom)"
   ]
  },
  {
   "cell_type": "markdown",
   "id": "framed-nicaragua",
   "metadata": {},
   "source": [
    "Trade off goodness-of-fit for smaller number of predictors, for better explanation, reduce overfitting"
   ]
  },
  {
   "cell_type": "markdown",
   "id": "sacred-freeware",
   "metadata": {},
   "source": [
    "# Why?"
   ]
  },
  {
   "cell_type": "markdown",
   "id": "radical-blocking",
   "metadata": {},
   "source": [
    "So far, we have seen criteria such as  \n",
    "$R^2$ and   RMSE for assessing quality of fit. However, both of these have a fatal flaw. By increasing the size of a model, that is adding predictors, that can at worst not improve. It is impossible to add a predictor to a model and make   $R^2$ or   RMSE worse. That means, if we were to use either of these to chose between models, we would always simply choose the larger model. Eventually we would simply be fitting to noise.\n",
    "\n",
    "This suggests that we need a quality criteria that takes into account the size of the model, since our preference is for small models that still fit well. We are willing to sacrifice a small amount of “goodness-of-fit” for obtaining a smaller model. (Here we use “goodness-of-fit” to simply mean how far the data is from the model, the smaller the errors the better. Often in statistics, goodness-of-fit can have a more precise meaning.) We will look at three criteria that do this explicitly:  \n",
    "AIC ,   BIC , and Adjusted   $R^2$ . We will also look at one, Cross-Validated   RMSE\n",
    " , which implicitly considers the size of the model."
   ]
  },
  {
   "cell_type": "markdown",
   "id": "foreign-military",
   "metadata": {},
   "source": [
    "# 1. Quality Criterion"
   ]
  },
  {
   "cell_type": "markdown",
   "id": "hollywood-movement",
   "metadata": {},
   "source": [
    "Read the book for comprehensive\n"
   ]
  },
  {
   "cell_type": "markdown",
   "id": "placed-leeds",
   "metadata": {},
   "source": [
    "## 1.1 AIC (Aikake Information Criterion)"
   ]
  },
  {
   "cell_type": "markdown",
   "id": "valued-laugh",
   "metadata": {},
   "source": [
    "$$AIC = 2p - 2log(\\hat(L))$$\n"
   ]
  },
  {
   "cell_type": "markdown",
   "id": "continent-frontier",
   "metadata": {},
   "source": [
    "## 1.2 BIC (Baysian Information Criterion)"
   ]
  },
  {
   "cell_type": "markdown",
   "id": "fifth-india",
   "metadata": {},
   "source": [
    "$$BIC = log(n)p - 2log(\\hat(L))$$"
   ]
  },
  {
   "cell_type": "markdown",
   "id": "brutal-literature",
   "metadata": {},
   "source": [
    "with k = log(n), a generalization of AIC"
   ]
  },
  {
   "cell_type": "markdown",
   "id": "fixed-variable",
   "metadata": {},
   "source": [
    "## 1.3 Adjusted-R-squared"
   ]
  },
  {
   "cell_type": "markdown",
   "id": "confused-criterion",
   "metadata": {},
   "source": [
    "## 1.4 Cross validation RMSE"
   ]
  },
  {
   "cell_type": "markdown",
   "id": "swedish-rapid",
   "metadata": {},
   "source": [
    "# 2. Selection Procedures"
   ]
  },
  {
   "cell_type": "markdown",
   "id": "polyphonic-stable",
   "metadata": {},
   "source": [
    "Read the book to see how these methods work"
   ]
  },
  {
   "cell_type": "markdown",
   "id": "specialized-exception",
   "metadata": {},
   "source": [
    "- backward search\n",
    "- forward search\n",
    "- stepwise\n",
    "- exhaustive sear"
   ]
  },
  {
   "cell_type": "markdown",
   "id": "bizarre-monday",
   "metadata": {},
   "source": [
    "> using **`step`** function to perform search"
   ]
  },
  {
   "cell_type": "code",
   "execution_count": 5,
   "id": "adapted-reform",
   "metadata": {},
   "outputs": [
    {
     "data": {
      "text/html": [
       "<style>\n",
       ".dl-inline {width: auto; margin:0; padding: 0}\n",
       ".dl-inline>dt, .dl-inline>dd {float: none; width: auto; display: inline-block}\n",
       ".dl-inline>dt::after {content: \":\\0020\"; padding-right: .5ex}\n",
       ".dl-inline>dt:not(:first-of-type) {padding-left: .5ex}\n",
       "</style><dl class=dl-inline><dt>(Intercept)</dt><dd>436.43212822533</dd><dt>Age</dt><dd>0.775716195411176</dd><dt>Weight</dt><dd>0.0263130815934825</dd><dt>HtShoes</dt><dd>-2.69240773927674</dd><dt>Ht</dt><dd>0.601344580352112</dd><dt>Seated</dt><dd>0.533751697568726</dd><dt>Arm</dt><dd>-1.32806863757197</dd><dt>Thigh</dt><dd>-1.14311887823954</dd><dt>Leg</dt><dd>-6.43904626562725</dd></dl>\n"
      ],
      "text/latex": [
       "\\begin{description*}\n",
       "\\item[(Intercept)] 436.43212822533\n",
       "\\item[Age] 0.775716195411176\n",
       "\\item[Weight] 0.0263130815934825\n",
       "\\item[HtShoes] -2.69240773927674\n",
       "\\item[Ht] 0.601344580352112\n",
       "\\item[Seated] 0.533751697568726\n",
       "\\item[Arm] -1.32806863757197\n",
       "\\item[Thigh] -1.14311887823954\n",
       "\\item[Leg] -6.43904626562725\n",
       "\\end{description*}\n"
      ],
      "text/markdown": [
       "(Intercept)\n",
       ":   436.43212822533Age\n",
       ":   0.775716195411176Weight\n",
       ":   0.0263130815934825HtShoes\n",
       ":   -2.69240773927674Ht\n",
       ":   0.601344580352112Seated\n",
       ":   0.533751697568726Arm\n",
       ":   -1.32806863757197Thigh\n",
       ":   -1.14311887823954Leg\n",
       ":   -6.43904626562725\n",
       "\n"
      ],
      "text/plain": [
       " (Intercept)          Age       Weight      HtShoes           Ht       Seated \n",
       "436.43212823   0.77571620   0.02631308  -2.69240774   0.60134458   0.53375170 \n",
       "         Arm        Thigh          Leg \n",
       " -1.32806864  -1.14311888  -6.43904627 "
      ]
     },
     "metadata": {},
     "output_type": "display_data"
    }
   ],
   "source": [
    "library(faraway)\n",
    "hipcenter_mod = lm(hipcenter ~ ., data = seatpos)\n",
    "coef(hipcenter_mod)"
   ]
  },
  {
   "cell_type": "markdown",
   "id": "nearby-community",
   "metadata": {},
   "source": [
    "## 2.1 Backward search"
   ]
  },
  {
   "cell_type": "markdown",
   "id": "rotary-combat",
   "metadata": {},
   "source": [
    "Backward selection procedures start with all possible predictors in the model, then considers how deleting a single predictor will effect a chosen metric.\n",
    "\n",
    "---"
   ]
  },
  {
   "cell_type": "markdown",
   "id": "royal-shopper",
   "metadata": {},
   "source": [
    "Start from a complex model. Each time, try to remove a predictor, then calculate the metric (e.g: AIC) of the model after removing chosen predictor. The final preditor that is decided to be removed is the ones that results in lowest metric (e.g: AIC) "
   ]
  },
  {
   "cell_type": "code",
   "execution_count": 8,
   "id": "personalized-letters",
   "metadata": {},
   "outputs": [
    {
     "name": "stdout",
     "output_type": "stream",
     "text": [
      "Start:  AIC=283.62\n",
      "hipcenter ~ Age + Weight + HtShoes + Ht + Seated + Arm + Thigh + \n",
      "    Leg\n",
      "\n",
      "          Df Sum of Sq   RSS    AIC\n",
      "- Ht       1      5.01 41267 281.63\n",
      "- Weight   1      8.99 41271 281.63\n",
      "- Seated   1     28.64 41290 281.65\n",
      "- HtShoes  1    108.43 41370 281.72\n",
      "- Arm      1    164.97 41427 281.78\n",
      "- Thigh    1    262.76 41525 281.87\n",
      "<none>                 41262 283.62\n",
      "- Age      1   2632.12 43894 283.97\n",
      "- Leg      1   2654.85 43917 283.99\n",
      "\n",
      "Step:  AIC=281.63\n",
      "hipcenter ~ Age + Weight + HtShoes + Seated + Arm + Thigh + Leg\n",
      "\n",
      "          Df Sum of Sq   RSS    AIC\n",
      "- Weight   1     11.10 41278 279.64\n",
      "- Seated   1     30.52 41297 279.66\n",
      "- Arm      1    160.50 41427 279.78\n",
      "- Thigh    1    269.08 41536 279.88\n",
      "- HtShoes  1    971.84 42239 280.51\n",
      "<none>                 41267 281.63\n",
      "- Leg      1   2664.65 43931 282.01\n",
      "- Age      1   2808.52 44075 282.13\n",
      "\n",
      "Step:  AIC=279.64\n",
      "hipcenter ~ Age + HtShoes + Seated + Arm + Thigh + Leg\n",
      "\n",
      "          Df Sum of Sq   RSS    AIC\n",
      "- Seated   1     35.10 41313 277.67\n",
      "- Arm      1    156.47 41434 277.78\n",
      "- Thigh    1    285.16 41563 277.90\n",
      "- HtShoes  1    975.48 42253 278.53\n",
      "<none>                 41278 279.64\n",
      "- Leg      1   2661.39 43939 280.01\n",
      "- Age      1   3011.86 44290 280.31\n",
      "\n",
      "Step:  AIC=277.67\n",
      "hipcenter ~ Age + HtShoes + Arm + Thigh + Leg\n",
      "\n",
      "          Df Sum of Sq   RSS    AIC\n",
      "- Arm      1    172.02 41485 275.83\n",
      "- Thigh    1    344.61 41658 275.99\n",
      "- HtShoes  1   1853.43 43166 277.34\n",
      "<none>                 41313 277.67\n",
      "- Leg      1   2871.07 44184 278.22\n",
      "- Age      1   2976.77 44290 278.31\n",
      "\n",
      "Step:  AIC=275.83\n",
      "hipcenter ~ Age + HtShoes + Thigh + Leg\n",
      "\n",
      "          Df Sum of Sq   RSS    AIC\n",
      "- Thigh    1     472.8 41958 274.26\n",
      "<none>                 41485 275.83\n",
      "- HtShoes  1    2340.7 43826 275.92\n",
      "- Age      1    3501.0 44986 276.91\n",
      "- Leg      1    3591.7 45077 276.98\n",
      "\n",
      "Step:  AIC=274.26\n",
      "hipcenter ~ Age + HtShoes + Leg\n",
      "\n",
      "          Df Sum of Sq   RSS    AIC\n",
      "<none>                 41958 274.26\n",
      "- Age      1    3108.8 45067 274.98\n",
      "- Leg      1    3476.3 45434 275.28\n",
      "- HtShoes  1    4218.6 46176 275.90\n"
     ]
    },
    {
     "data": {
      "text/plain": [
       "\n",
       "Call:\n",
       "lm(formula = hipcenter ~ Age + HtShoes + Leg, data = seatpos)\n",
       "\n",
       "Coefficients:\n",
       "(Intercept)          Age      HtShoes          Leg  \n",
       "   456.2137       0.5998      -2.3023      -6.8297  \n"
      ]
     },
     "metadata": {},
     "output_type": "display_data"
    }
   ],
   "source": [
    "hipcenter_mod_backward <- step(hipcenter_mod, direction = \"backward\")\n",
    "hipcenter_mod_backward"
   ]
  },
  {
   "cell_type": "markdown",
   "id": "equivalent-republican",
   "metadata": {},
   "source": [
    "the variable `hipcenter_mod_backward` stores the model chosen by this procedure:"
   ]
  },
  {
   "cell_type": "code",
   "execution_count": 9,
   "id": "indoor-dinner",
   "metadata": {},
   "outputs": [
    {
     "data": {
      "text/html": [
       "<style>\n",
       ".dl-inline {width: auto; margin:0; padding: 0}\n",
       ".dl-inline>dt, .dl-inline>dd {float: none; width: auto; display: inline-block}\n",
       ".dl-inline>dt::after {content: \":\\0020\"; padding-right: .5ex}\n",
       ".dl-inline>dt:not(:first-of-type) {padding-left: .5ex}\n",
       "</style><dl class=dl-inline><dt>(Intercept)</dt><dd>456.213653831506</dd><dt>Age</dt><dd>0.599832714683917</dd><dt>HtShoes</dt><dd>-2.30225548987229</dd><dt>Leg</dt><dd>-6.82974610220132</dd></dl>\n"
      ],
      "text/latex": [
       "\\begin{description*}\n",
       "\\item[(Intercept)] 456.213653831506\n",
       "\\item[Age] 0.599832714683917\n",
       "\\item[HtShoes] -2.30225548987229\n",
       "\\item[Leg] -6.82974610220132\n",
       "\\end{description*}\n"
      ],
      "text/markdown": [
       "(Intercept)\n",
       ":   456.213653831506Age\n",
       ":   0.599832714683917HtShoes\n",
       ":   -2.30225548987229Leg\n",
       ":   -6.82974610220132\n",
       "\n"
      ],
      "text/plain": [
       "(Intercept)         Age     HtShoes         Leg \n",
       "456.2136538   0.5998327  -2.3022555  -6.8297461 "
      ]
     },
     "metadata": {},
     "output_type": "display_data"
    }
   ],
   "source": [
    "coef(hipcenter_mod_backward)"
   ]
  },
  {
   "cell_type": "code",
   "execution_count": 19,
   "id": "brutal-haiti",
   "metadata": {},
   "outputs": [
    {
     "data": {
      "text/html": [
       "<table>\n",
       "<caption>A tibble: 1 × 12</caption>\n",
       "<thead>\n",
       "\t<tr><th scope=col>r.squared</th><th scope=col>adj.r.squared</th><th scope=col>sigma</th><th scope=col>statistic</th><th scope=col>p.value</th><th scope=col>df</th><th scope=col>logLik</th><th scope=col>AIC</th><th scope=col>BIC</th><th scope=col>deviance</th><th scope=col>df.residual</th><th scope=col>nobs</th></tr>\n",
       "\t<tr><th scope=col>&lt;dbl&gt;</th><th scope=col>&lt;dbl&gt;</th><th scope=col>&lt;dbl&gt;</th><th scope=col>&lt;dbl&gt;</th><th scope=col>&lt;dbl&gt;</th><th scope=col>&lt;dbl&gt;</th><th scope=col>&lt;dbl&gt;</th><th scope=col>&lt;dbl&gt;</th><th scope=col>&lt;dbl&gt;</th><th scope=col>&lt;dbl&gt;</th><th scope=col>&lt;int&gt;</th><th scope=col>&lt;int&gt;</th></tr>\n",
       "</thead>\n",
       "<tbody>\n",
       "\t<tr><td>0.6812662</td><td>0.6531427</td><td>35.12909</td><td>24.22403</td><td>1.437319e-08</td><td>3</td><td>-187.0495</td><td>384.099</td><td>392.2869</td><td>41957.79</td><td>34</td><td>38</td></tr>\n",
       "</tbody>\n",
       "</table>\n"
      ],
      "text/latex": [
       "A tibble: 1 × 12\n",
       "\\begin{tabular}{llllllllllll}\n",
       " r.squared & adj.r.squared & sigma & statistic & p.value & df & logLik & AIC & BIC & deviance & df.residual & nobs\\\\\n",
       " <dbl> & <dbl> & <dbl> & <dbl> & <dbl> & <dbl> & <dbl> & <dbl> & <dbl> & <dbl> & <int> & <int>\\\\\n",
       "\\hline\n",
       "\t 0.6812662 & 0.6531427 & 35.12909 & 24.22403 & 1.437319e-08 & 3 & -187.0495 & 384.099 & 392.2869 & 41957.79 & 34 & 38\\\\\n",
       "\\end{tabular}\n"
      ],
      "text/markdown": [
       "\n",
       "A tibble: 1 × 12\n",
       "\n",
       "| r.squared &lt;dbl&gt; | adj.r.squared &lt;dbl&gt; | sigma &lt;dbl&gt; | statistic &lt;dbl&gt; | p.value &lt;dbl&gt; | df &lt;dbl&gt; | logLik &lt;dbl&gt; | AIC &lt;dbl&gt; | BIC &lt;dbl&gt; | deviance &lt;dbl&gt; | df.residual &lt;int&gt; | nobs &lt;int&gt; |\n",
       "|---|---|---|---|---|---|---|---|---|---|---|---|\n",
       "| 0.6812662 | 0.6531427 | 35.12909 | 24.22403 | 1.437319e-08 | 3 | -187.0495 | 384.099 | 392.2869 | 41957.79 | 34 | 38 |\n",
       "\n"
      ],
      "text/plain": [
       "  r.squared adj.r.squared sigma    statistic p.value      df logLik    AIC    \n",
       "1 0.6812662 0.6531427     35.12909 24.22403  1.437319e-08 3  -187.0495 384.099\n",
       "  BIC      deviance df.residual nobs\n",
       "1 392.2869 41957.79 34          38  "
      ]
     },
     "metadata": {},
     "output_type": "display_data"
    }
   ],
   "source": [
    "hipcenter_mod_backward %>% glance()"
   ]
  },
  {
   "cell_type": "markdown",
   "id": "beneficial-residence",
   "metadata": {},
   "source": [
    "---\n",
    "We can also use **BIC** to choose model, instead of **AIC**, by setting `k = log(n)`"
   ]
  },
  {
   "cell_type": "code",
   "execution_count": 15,
   "id": "dietary-airplane",
   "metadata": {},
   "outputs": [
    {
     "name": "stdout",
     "output_type": "stream",
     "text": [
      "Start:  AIC=298.36\n",
      "hipcenter ~ Age + Weight + HtShoes + Ht + Seated + Arm + Thigh + \n",
      "    Leg\n",
      "\n",
      "          Df Sum of Sq   RSS    AIC\n",
      "- Ht       1      5.01 41267 294.73\n",
      "- Weight   1      8.99 41271 294.73\n",
      "- Seated   1     28.64 41290 294.75\n",
      "- HtShoes  1    108.43 41370 294.82\n",
      "- Arm      1    164.97 41427 294.88\n",
      "- Thigh    1    262.76 41525 294.97\n",
      "- Age      1   2632.12 43894 297.07\n",
      "- Leg      1   2654.85 43917 297.09\n",
      "<none>                 41262 298.36\n",
      "\n",
      "Step:  AIC=294.73\n",
      "hipcenter ~ Age + Weight + HtShoes + Seated + Arm + Thigh + Leg\n",
      "\n",
      "          Df Sum of Sq   RSS    AIC\n",
      "- Weight   1     11.10 41278 291.10\n",
      "- Seated   1     30.52 41297 291.12\n",
      "- Arm      1    160.50 41427 291.24\n",
      "- Thigh    1    269.08 41536 291.34\n",
      "- HtShoes  1    971.84 42239 291.98\n",
      "- Leg      1   2664.65 43931 293.47\n",
      "- Age      1   2808.52 44075 293.59\n",
      "<none>                 41267 294.73\n",
      "\n",
      "Step:  AIC=291.1\n",
      "hipcenter ~ Age + HtShoes + Seated + Arm + Thigh + Leg\n",
      "\n",
      "          Df Sum of Sq   RSS    AIC\n",
      "- Seated   1     35.10 41313 287.50\n",
      "- Arm      1    156.47 41434 287.61\n",
      "- Thigh    1    285.16 41563 287.73\n",
      "- HtShoes  1    975.48 42253 288.35\n",
      "- Leg      1   2661.39 43939 289.84\n",
      "- Age      1   3011.86 44290 290.14\n",
      "<none>                 41278 291.10\n",
      "\n",
      "Step:  AIC=287.5\n",
      "hipcenter ~ Age + HtShoes + Arm + Thigh + Leg\n",
      "\n",
      "          Df Sum of Sq   RSS    AIC\n",
      "- Arm      1    172.02 41485 284.02\n",
      "- Thigh    1    344.61 41658 284.18\n",
      "- HtShoes  1   1853.43 43166 285.53\n",
      "- Leg      1   2871.07 44184 286.41\n",
      "- Age      1   2976.77 44290 286.50\n",
      "<none>                 41313 287.50\n",
      "\n",
      "Step:  AIC=284.02\n",
      "hipcenter ~ Age + HtShoes + Thigh + Leg\n",
      "\n",
      "          Df Sum of Sq   RSS    AIC\n",
      "- Thigh    1     472.8 41958 280.81\n",
      "- HtShoes  1    2340.7 43826 282.46\n",
      "- Age      1    3501.0 44986 283.46\n",
      "- Leg      1    3591.7 45077 283.54\n",
      "<none>                 41485 284.02\n",
      "\n",
      "Step:  AIC=280.81\n",
      "hipcenter ~ Age + HtShoes + Leg\n",
      "\n",
      "          Df Sum of Sq   RSS    AIC\n",
      "- Age      1    3108.8 45067 279.89\n",
      "- Leg      1    3476.3 45434 280.20\n",
      "<none>                 41958 280.81\n",
      "- HtShoes  1    4218.6 46176 280.81\n",
      "\n",
      "Step:  AIC=279.89\n",
      "hipcenter ~ HtShoes + Leg\n",
      "\n",
      "          Df Sum of Sq   RSS    AIC\n",
      "- Leg      1    3038.8 48105 278.73\n",
      "<none>                 45067 279.89\n",
      "- HtShoes  1    5004.4 50071 280.25\n",
      "\n",
      "Step:  AIC=278.73\n",
      "hipcenter ~ HtShoes\n",
      "\n",
      "          Df Sum of Sq    RSS    AIC\n",
      "<none>                  48105 278.73\n",
      "- HtShoes  1     83534 131639 313.35\n"
     ]
    }
   ],
   "source": [
    "n <- nrow(seatpos)\n",
    "hip_center_mod_backward_bic <- step(hipcenter_mod, k = log(n), direction = \"backward\")"
   ]
  },
  {
   "cell_type": "code",
   "execution_count": 14,
   "id": "advised-specification",
   "metadata": {},
   "outputs": [
    {
     "name": "stdout",
     "output_type": "stream",
     "text": [
      "Start:  AIC=283.62\n",
      "hipcenter ~ Age + Weight + HtShoes + Ht + Seated + Arm + Thigh + \n",
      "    Leg\n",
      "\n",
      "          Df Sum of Sq   RSS    AIC\n",
      "- Ht       1      5.01 41267 281.63\n",
      "- Weight   1      8.99 41271 281.63\n",
      "- Seated   1     28.64 41290 281.65\n",
      "- HtShoes  1    108.43 41370 281.72\n",
      "- Arm      1    164.97 41427 281.78\n",
      "- Thigh    1    262.76 41525 281.87\n",
      "<none>                 41262 283.62\n",
      "- Age      1   2632.12 43894 283.97\n",
      "- Leg      1   2654.85 43917 283.99\n",
      "\n",
      "Step:  AIC=281.63\n",
      "hipcenter ~ Age + Weight + HtShoes + Seated + Arm + Thigh + Leg\n",
      "\n",
      "          Df Sum of Sq   RSS    AIC\n",
      "- Weight   1     11.10 41278 279.64\n",
      "- Seated   1     30.52 41297 279.66\n",
      "- Arm      1    160.50 41427 279.78\n",
      "- Thigh    1    269.08 41536 279.88\n",
      "- HtShoes  1    971.84 42239 280.51\n",
      "<none>                 41267 281.63\n",
      "- Leg      1   2664.65 43931 282.01\n",
      "- Age      1   2808.52 44075 282.13\n",
      "\n",
      "Step:  AIC=279.64\n",
      "hipcenter ~ Age + HtShoes + Seated + Arm + Thigh + Leg\n",
      "\n",
      "          Df Sum of Sq   RSS    AIC\n",
      "- Seated   1     35.10 41313 277.67\n",
      "- Arm      1    156.47 41434 277.78\n",
      "- Thigh    1    285.16 41563 277.90\n",
      "- HtShoes  1    975.48 42253 278.53\n",
      "<none>                 41278 279.64\n",
      "- Leg      1   2661.39 43939 280.01\n",
      "- Age      1   3011.86 44290 280.31\n",
      "\n",
      "Step:  AIC=277.67\n",
      "hipcenter ~ Age + HtShoes + Arm + Thigh + Leg\n",
      "\n",
      "          Df Sum of Sq   RSS    AIC\n",
      "- Arm      1    172.02 41485 275.83\n",
      "- Thigh    1    344.61 41658 275.99\n",
      "- HtShoes  1   1853.43 43166 277.34\n",
      "<none>                 41313 277.67\n",
      "- Leg      1   2871.07 44184 278.22\n",
      "- Age      1   2976.77 44290 278.31\n",
      "\n",
      "Step:  AIC=275.83\n",
      "hipcenter ~ Age + HtShoes + Thigh + Leg\n",
      "\n",
      "          Df Sum of Sq   RSS    AIC\n",
      "- Thigh    1     472.8 41958 274.26\n",
      "<none>                 41485 275.83\n",
      "- HtShoes  1    2340.7 43826 275.92\n",
      "- Age      1    3501.0 44986 276.91\n",
      "- Leg      1    3591.7 45077 276.98\n",
      "\n",
      "Step:  AIC=274.26\n",
      "hipcenter ~ Age + HtShoes + Leg\n",
      "\n",
      "          Df Sum of Sq   RSS    AIC\n",
      "<none>                 41958 274.26\n",
      "- Age      1    3108.8 45067 274.98\n",
      "- Leg      1    3476.3 45434 275.28\n",
      "- HtShoes  1    4218.6 46176 275.90\n"
     ]
    },
    {
     "data": {
      "text/plain": [
       "\n",
       "Call:\n",
       "lm(formula = hipcenter ~ Age + HtShoes + Leg, data = seatpos)\n",
       "\n",
       "Coefficients:\n",
       "(Intercept)          Age      HtShoes          Leg  \n",
       "   456.2137       0.5998      -2.3023      -6.8297  \n"
      ]
     },
     "metadata": {},
     "output_type": "display_data"
    }
   ],
   "source": [
    "step(hipcenter_mod, direction = \"backward\")"
   ]
  },
  {
   "cell_type": "code",
   "execution_count": 16,
   "id": "tender-blast",
   "metadata": {},
   "outputs": [
    {
     "data": {
      "text/html": [
       "<style>\n",
       ".dl-inline {width: auto; margin:0; padding: 0}\n",
       ".dl-inline>dt, .dl-inline>dd {float: none; width: auto; display: inline-block}\n",
       ".dl-inline>dt::after {content: \":\\0020\"; padding-right: .5ex}\n",
       ".dl-inline>dt:not(:first-of-type) {padding-left: .5ex}\n",
       "</style><dl class=dl-inline><dt>(Intercept)</dt><dd>565.592658509041</dd><dt>HtShoes</dt><dd>-4.26209096292586</dd></dl>\n"
      ],
      "text/latex": [
       "\\begin{description*}\n",
       "\\item[(Intercept)] 565.592658509041\n",
       "\\item[HtShoes] -4.26209096292586\n",
       "\\end{description*}\n"
      ],
      "text/markdown": [
       "(Intercept)\n",
       ":   565.592658509041HtShoes\n",
       ":   -4.26209096292586\n",
       "\n"
      ],
      "text/plain": [
       "(Intercept)     HtShoes \n",
       " 565.592659   -4.262091 "
      ]
     },
     "metadata": {},
     "output_type": "display_data"
    }
   ],
   "source": [
    "coef(hip_center_mod_backward_bic)"
   ]
  },
  {
   "cell_type": "code",
   "execution_count": 18,
   "id": "operational-white",
   "metadata": {},
   "outputs": [
    {
     "data": {
      "text/html": [
       "<table>\n",
       "<caption>A tibble: 1 × 12</caption>\n",
       "<thead>\n",
       "\t<tr><th scope=col>r.squared</th><th scope=col>adj.r.squared</th><th scope=col>sigma</th><th scope=col>statistic</th><th scope=col>p.value</th><th scope=col>df</th><th scope=col>logLik</th><th scope=col>AIC</th><th scope=col>BIC</th><th scope=col>deviance</th><th scope=col>df.residual</th><th scope=col>nobs</th></tr>\n",
       "\t<tr><th scope=col>&lt;dbl&gt;</th><th scope=col>&lt;dbl&gt;</th><th scope=col>&lt;dbl&gt;</th><th scope=col>&lt;dbl&gt;</th><th scope=col>&lt;dbl&gt;</th><th scope=col>&lt;dbl&gt;</th><th scope=col>&lt;dbl&gt;</th><th scope=col>&lt;dbl&gt;</th><th scope=col>&lt;dbl&gt;</th><th scope=col>&lt;dbl&gt;</th><th scope=col>&lt;int&gt;</th><th scope=col>&lt;int&gt;</th></tr>\n",
       "</thead>\n",
       "<tbody>\n",
       "\t<tr><td>0.6345658</td><td>0.6244149</td><td>36.5549</td><td>62.51296</td><td>2.206673e-09</td><td>1</td><td>-189.6474</td><td>385.2947</td><td>390.2075</td><td>48105.38</td><td>36</td><td>38</td></tr>\n",
       "</tbody>\n",
       "</table>\n"
      ],
      "text/latex": [
       "A tibble: 1 × 12\n",
       "\\begin{tabular}{llllllllllll}\n",
       " r.squared & adj.r.squared & sigma & statistic & p.value & df & logLik & AIC & BIC & deviance & df.residual & nobs\\\\\n",
       " <dbl> & <dbl> & <dbl> & <dbl> & <dbl> & <dbl> & <dbl> & <dbl> & <dbl> & <dbl> & <int> & <int>\\\\\n",
       "\\hline\n",
       "\t 0.6345658 & 0.6244149 & 36.5549 & 62.51296 & 2.206673e-09 & 1 & -189.6474 & 385.2947 & 390.2075 & 48105.38 & 36 & 38\\\\\n",
       "\\end{tabular}\n"
      ],
      "text/markdown": [
       "\n",
       "A tibble: 1 × 12\n",
       "\n",
       "| r.squared &lt;dbl&gt; | adj.r.squared &lt;dbl&gt; | sigma &lt;dbl&gt; | statistic &lt;dbl&gt; | p.value &lt;dbl&gt; | df &lt;dbl&gt; | logLik &lt;dbl&gt; | AIC &lt;dbl&gt; | BIC &lt;dbl&gt; | deviance &lt;dbl&gt; | df.residual &lt;int&gt; | nobs &lt;int&gt; |\n",
       "|---|---|---|---|---|---|---|---|---|---|---|---|\n",
       "| 0.6345658 | 0.6244149 | 36.5549 | 62.51296 | 2.206673e-09 | 1 | -189.6474 | 385.2947 | 390.2075 | 48105.38 | 36 | 38 |\n",
       "\n"
      ],
      "text/plain": [
       "  r.squared adj.r.squared sigma   statistic p.value      df logLik    AIC     \n",
       "1 0.6345658 0.6244149     36.5549 62.51296  2.206673e-09 1  -189.6474 385.2947\n",
       "  BIC      deviance df.residual nobs\n",
       "1 390.2075 48105.38 36          38  "
      ]
     },
     "metadata": {},
     "output_type": "display_data"
    }
   ],
   "source": [
    "hip_center_mod_backward_bic %>% glance()"
   ]
  },
  {
   "cell_type": "markdown",
   "id": "killing-cement",
   "metadata": {},
   "source": [
    "> use **`extractAIC`** to get AIC of a model"
   ]
  },
  {
   "cell_type": "code",
   "execution_count": 58,
   "id": "progressive-realtor",
   "metadata": {},
   "outputs": [
    {
     "name": "stdout",
     "output_type": "stream",
     "text": [
      "[1]   4.0000 274.2597\n"
     ]
    }
   ],
   "source": [
    "# the first value is the number of paramters, the second value is AIC\n",
    "extractAIC(hipcenter_mod_backward) %>% print()"
   ]
  },
  {
   "cell_type": "code",
   "execution_count": 38,
   "id": "patent-polls",
   "metadata": {},
   "outputs": [
    {
     "data": {
      "text/html": [
       "0.600085469411638"
      ],
      "text/latex": [
       "0.600085469411638"
      ],
      "text/markdown": [
       "0.600085469411638"
      ],
      "text/plain": [
       "[1] 0.6000855"
      ]
     },
     "metadata": {},
     "output_type": "display_data"
    },
    {
     "data": {
      "text/html": [
       "0.653142656197544"
      ],
      "text/latex": [
       "0.653142656197544"
      ],
      "text/markdown": [
       "0.653142656197544"
      ],
      "text/plain": [
       "[1] 0.6531427"
      ]
     },
     "metadata": {},
     "output_type": "display_data"
    },
    {
     "data": {
      "text/html": [
       "0.624414882734601"
      ],
      "text/latex": [
       "0.624414882734601"
      ],
      "text/markdown": [
       "0.624414882734601"
      ],
      "text/plain": [
       "[1] 0.6244149"
      ]
     },
     "metadata": {},
     "output_type": "display_data"
    }
   ],
   "source": [
    "# compare adjusted R square for diffenrent models\n",
    "# not use R-squared because it does not take model complexity into account\n",
    "summary(hipcenter_mod)$adj.r.squared\n",
    "summary(hipcenter_mod_backward)$adj.r.squared\n",
    "summary(hip_center_mod_backward_bic)$adj.r.squared"
   ]
  },
  {
   "cell_type": "markdown",
   "id": "powered-medication",
   "metadata": {},
   "source": [
    "## 2.2 Forward Search"
   ]
  },
  {
   "cell_type": "markdown",
   "id": "starting-retailer",
   "metadata": {},
   "source": [
    "Forward selection is the exact opposite of backwards selection. Start from a simple model. Each time, try to add a predictor, then calculate the metric (e.g: AIC) of the model after adding chosen predictor. The final preditor that is decided to be adding is the ones that results in lowest metric (e.g: AIC) "
   ]
  },
  {
   "cell_type": "code",
   "execution_count": 26,
   "id": "square-rwanda",
   "metadata": {},
   "outputs": [
    {
     "name": "stdout",
     "output_type": "stream",
     "text": [
      "Start:  AIC=311.71\n",
      "hipcenter ~ 1\n",
      "\n",
      "          Df Sum of Sq    RSS    AIC\n",
      "+ Ht       1     84023  47616 275.07\n",
      "+ HtShoes  1     83534  48105 275.45\n",
      "+ Leg      1     81568  50071 276.98\n",
      "+ Seated   1     70392  61247 284.63\n",
      "+ Weight   1     53975  77664 293.66\n",
      "+ Thigh    1     46010  85629 297.37\n",
      "+ Arm      1     45065  86574 297.78\n",
      "<none>                 131639 311.71\n",
      "+ Age      1      5541 126098 312.07\n",
      "\n",
      "Step:  AIC=275.07\n",
      "hipcenter ~ Ht\n",
      "\n",
      "          Df Sum of Sq   RSS    AIC\n",
      "+ Leg      1   2781.10 44835 274.78\n",
      "<none>                 47616 275.07\n",
      "+ Age      1   2353.51 45262 275.14\n",
      "+ Weight   1    195.86 47420 276.91\n",
      "+ Seated   1    101.56 47514 276.99\n",
      "+ Arm      1     75.78 47540 277.01\n",
      "+ HtShoes  1     25.76 47590 277.05\n",
      "+ Thigh    1      4.63 47611 277.06\n",
      "\n",
      "Step:  AIC=274.78\n",
      "hipcenter ~ Ht + Leg\n",
      "\n",
      "          Df Sum of Sq   RSS    AIC\n",
      "+ Age      1   2896.60 41938 274.24\n",
      "<none>                 44835 274.78\n",
      "+ Arm      1    522.72 44312 276.33\n",
      "+ Weight   1    445.10 44390 276.40\n",
      "+ HtShoes  1     34.11 44801 276.75\n",
      "+ Thigh    1     32.96 44802 276.75\n",
      "+ Seated   1      1.12 44834 276.78\n",
      "\n",
      "Step:  AIC=274.24\n",
      "hipcenter ~ Ht + Leg + Age\n",
      "\n",
      "          Df Sum of Sq   RSS    AIC\n",
      "<none>                 41938 274.24\n",
      "+ Thigh    1    372.71 41565 275.90\n",
      "+ Arm      1    257.09 41681 276.01\n",
      "+ Seated   1    121.26 41817 276.13\n",
      "+ Weight   1     46.83 41891 276.20\n",
      "+ HtShoes  1     13.38 41925 276.23\n"
     ]
    }
   ],
   "source": [
    "hipcenter_mod_start = lm(hipcenter ~ 1, data = seatpos)\n",
    "hipcenter_mod_forw_aic = step(\n",
    "  hipcenter_mod_start, \n",
    "  scope = hipcenter ~ Age + Weight + HtShoes + Ht + Seated + Arm + Thigh + Leg, \n",
    "  direction = \"forward\")"
   ]
  },
  {
   "cell_type": "code",
   "execution_count": 30,
   "id": "fifteen-sheet",
   "metadata": {},
   "outputs": [
    {
     "data": {
      "text/html": [
       "<style>\n",
       ".dl-inline {width: auto; margin:0; padding: 0}\n",
       ".dl-inline>dt, .dl-inline>dd {float: none; width: auto; display: inline-block}\n",
       ".dl-inline>dt::after {content: \":\\0020\"; padding-right: .5ex}\n",
       ".dl-inline>dt:not(:first-of-type) {padding-left: .5ex}\n",
       "</style><dl class=dl-inline><dt>(Intercept)</dt><dd>452.19759895691</dd><dt>Ht</dt><dd>-2.32537832453749</dd><dt>Leg</dt><dd>-6.73897476812702</dd><dt>Age</dt><dd>0.580742000697533</dd></dl>\n"
      ],
      "text/latex": [
       "\\begin{description*}\n",
       "\\item[(Intercept)] 452.19759895691\n",
       "\\item[Ht] -2.32537832453749\n",
       "\\item[Leg] -6.73897476812702\n",
       "\\item[Age] 0.580742000697533\n",
       "\\end{description*}\n"
      ],
      "text/markdown": [
       "(Intercept)\n",
       ":   452.19759895691Ht\n",
       ":   -2.32537832453749Leg\n",
       ":   -6.73897476812702Age\n",
       ":   0.580742000697533\n",
       "\n"
      ],
      "text/plain": [
       "(Intercept)          Ht         Leg         Age \n",
       " 452.197599   -2.325378   -6.738975    0.580742 "
      ]
     },
     "metadata": {},
     "output_type": "display_data"
    }
   ],
   "source": [
    "coef(hipcenter_mod_forw_aic)"
   ]
  },
  {
   "cell_type": "markdown",
   "id": "pediatric-negative",
   "metadata": {},
   "source": [
    "---\n",
    "again, by default R uses  \n",
    "AIC\n",
    "  as its quality metric when using the `step()` function. Also note that now the rows begin with a + which indicates addition of predictors to the current model from any step."
   ]
  },
  {
   "cell_type": "code",
   "execution_count": 31,
   "id": "indie-petersburg",
   "metadata": {},
   "outputs": [
    {
     "name": "stdout",
     "output_type": "stream",
     "text": [
      "Start:  AIC=313.35\n",
      "hipcenter ~ 1\n",
      "\n",
      "          Df Sum of Sq    RSS    AIC\n",
      "+ Ht       1     84023  47616 278.34\n",
      "+ HtShoes  1     83534  48105 278.73\n",
      "+ Leg      1     81568  50071 280.25\n",
      "+ Seated   1     70392  61247 287.91\n",
      "+ Weight   1     53975  77664 296.93\n",
      "+ Thigh    1     46010  85629 300.64\n",
      "+ Arm      1     45065  86574 301.06\n",
      "<none>                 131639 313.35\n",
      "+ Age      1      5541 126098 315.35\n",
      "\n",
      "Step:  AIC=278.34\n",
      "hipcenter ~ Ht\n",
      "\n",
      "          Df Sum of Sq    RSS    AIC\n",
      "<none>                  47616 278.34\n",
      "+ Leg      1      2781  44835 279.69\n",
      "+ Age      1      2354  45262 280.05\n",
      "+ Weight   1       196  47420 281.82\n",
      "+ Seated   1       102  47514 281.90\n",
      "+ Arm      1        76  47540 281.92\n",
      "+ HtShoes  1        26  47590 281.96\n",
      "+ Thigh    1         5  47611 281.98\n",
      "- Ht       1     84023 131639 313.35\n"
     ]
    }
   ],
   "source": [
    "# using BIC\n",
    "hipcenter_mod_forward_bic <- step(hipcenter_mod_start, scope = hipcenter ~ Age + Weight + HtShoes + Ht + Seated + Arm + Thigh + Leg, k = log(n))"
   ]
  },
  {
   "cell_type": "code",
   "execution_count": 29,
   "id": "piano-hungary",
   "metadata": {},
   "outputs": [
    {
     "data": {
      "text/html": [
       "<style>\n",
       ".dl-inline {width: auto; margin:0; padding: 0}\n",
       ".dl-inline>dt, .dl-inline>dd {float: none; width: auto; display: inline-block}\n",
       ".dl-inline>dt::after {content: \":\\0020\"; padding-right: .5ex}\n",
       ".dl-inline>dt:not(:first-of-type) {padding-left: .5ex}\n",
       "</style><dl class=dl-inline><dt>(Intercept)</dt><dd>556.25534444734</dd><dt>Ht</dt><dd>-4.26497666827475</dd></dl>\n"
      ],
      "text/latex": [
       "\\begin{description*}\n",
       "\\item[(Intercept)] 556.25534444734\n",
       "\\item[Ht] -4.26497666827475\n",
       "\\end{description*}\n"
      ],
      "text/markdown": [
       "(Intercept)\n",
       ":   556.25534444734Ht\n",
       ":   -4.26497666827475\n",
       "\n"
      ],
      "text/plain": [
       "(Intercept)          Ht \n",
       " 556.255344   -4.264977 "
      ]
     },
     "metadata": {},
     "output_type": "display_data"
    }
   ],
   "source": [
    "coef(hipcenter_mod_forward_bic)"
   ]
  },
  {
   "cell_type": "code",
   "execution_count": 36,
   "id": "final-academy",
   "metadata": {},
   "outputs": [
    {
     "data": {
      "text/html": [
       "0.600085469411638"
      ],
      "text/latex": [
       "0.600085469411638"
      ],
      "text/markdown": [
       "0.600085469411638"
      ],
      "text/plain": [
       "[1] 0.6000855"
      ]
     },
     "metadata": {},
     "output_type": "display_data"
    },
    {
     "data": {
      "text/html": [
       "0.653305536611057"
      ],
      "text/latex": [
       "0.653305536611057"
      ],
      "text/markdown": [
       "0.653305536611057"
      ],
      "text/plain": [
       "[1] 0.6533055"
      ]
     },
     "metadata": {},
     "output_type": "display_data"
    },
    {
     "data": {
      "text/html": [
       "0.628237389482656"
      ],
      "text/latex": [
       "0.628237389482656"
      ],
      "text/markdown": [
       "0.628237389482656"
      ],
      "text/plain": [
       "[1] 0.6282374"
      ]
     },
     "metadata": {},
     "output_type": "display_data"
    }
   ],
   "source": [
    "# compare adjust R square of 3 models\n",
    "# we will not ue R square because it does not take model complexity into account\n",
    "summary(hipcenter_mod)$adj.r.squared\n",
    "summary(hipcenter_mod_forw_aic)$adj.r.squared\n",
    "summary(hipcenter_mod_forward_bic)$adj.r.squared"
   ]
  },
  {
   "cell_type": "markdown",
   "id": "abstract-comment",
   "metadata": {},
   "source": [
    "## 2.3 Stepwise search"
   ]
  },
  {
   "cell_type": "markdown",
   "id": "chicken-uruguay",
   "metadata": {},
   "source": [
    "Stepwise search checks going both backwards and forwards at every step. It considers the addition of any variable not currently in the model, as well as the removal of any variable currently in the model."
   ]
  },
  {
   "cell_type": "markdown",
   "id": "falling-standard",
   "metadata": {},
   "source": [
    "Here we perform stepwise search using   AIC as our metric. We start with the model `hipcenter ~ 1` and search up to `hipcenter ~ Age + Weight + HtShoes + Ht + Seated + Arm + Thigh + Leg`. Notice that at many of the steps, some row begin with -, while others begin with +."
   ]
  },
  {
   "cell_type": "code",
   "execution_count": 39,
   "id": "hybrid-drinking",
   "metadata": {},
   "outputs": [
    {
     "name": "stdout",
     "output_type": "stream",
     "text": [
      "Start:  AIC=311.71\n",
      "hipcenter ~ 1\n",
      "\n",
      "          Df Sum of Sq    RSS    AIC\n",
      "+ Ht       1     84023  47616 275.07\n",
      "+ HtShoes  1     83534  48105 275.45\n",
      "+ Leg      1     81568  50071 276.98\n",
      "+ Seated   1     70392  61247 284.63\n",
      "+ Weight   1     53975  77664 293.66\n",
      "+ Thigh    1     46010  85629 297.37\n",
      "+ Arm      1     45065  86574 297.78\n",
      "<none>                 131639 311.71\n",
      "+ Age      1      5541 126098 312.07\n",
      "\n",
      "Step:  AIC=275.07\n",
      "hipcenter ~ Ht\n",
      "\n",
      "          Df Sum of Sq    RSS    AIC\n",
      "+ Leg      1      2781  44835 274.78\n",
      "<none>                  47616 275.07\n",
      "+ Age      1      2354  45262 275.14\n",
      "+ Weight   1       196  47420 276.91\n",
      "+ Seated   1       102  47514 276.99\n",
      "+ Arm      1        76  47540 277.01\n",
      "+ HtShoes  1        26  47590 277.05\n",
      "+ Thigh    1         5  47611 277.06\n",
      "- Ht       1     84023 131639 311.71\n",
      "\n",
      "Step:  AIC=274.78\n",
      "hipcenter ~ Ht + Leg\n",
      "\n",
      "          Df Sum of Sq   RSS    AIC\n",
      "+ Age      1    2896.6 41938 274.24\n",
      "<none>                 44835 274.78\n",
      "- Leg      1    2781.1 47616 275.07\n",
      "+ Arm      1     522.7 44312 276.33\n",
      "+ Weight   1     445.1 44390 276.40\n",
      "+ HtShoes  1      34.1 44801 276.75\n",
      "+ Thigh    1      33.0 44802 276.75\n",
      "+ Seated   1       1.1 44834 276.78\n",
      "- Ht       1    5236.3 50071 276.98\n",
      "\n",
      "Step:  AIC=274.24\n",
      "hipcenter ~ Ht + Leg + Age\n",
      "\n",
      "          Df Sum of Sq   RSS    AIC\n",
      "<none>                 41938 274.24\n",
      "- Age      1    2896.6 44835 274.78\n",
      "- Leg      1    3324.2 45262 275.14\n",
      "- Ht       1    4238.3 46176 275.90\n",
      "+ Thigh    1     372.7 41565 275.90\n",
      "+ Arm      1     257.1 41681 276.01\n",
      "+ Seated   1     121.3 41817 276.13\n",
      "+ Weight   1      46.8 41891 276.20\n",
      "+ HtShoes  1      13.4 41925 276.23\n"
     ]
    }
   ],
   "source": [
    "hipcenter_mod_stepwise <- step(hipcenter_mod_start, \n",
    "                              scope = hipcenter ~ Age + Weight + HtShoes + Ht + Seated + Arm + Thigh + Leg,\n",
    "                              direction = \"both\")\n"
   ]
  },
  {
   "cell_type": "markdown",
   "id": "public-virtue",
   "metadata": {},
   "source": [
    "## 2.4 Exhaustive search"
   ]
  },
  {
   "cell_type": "markdown",
   "id": "framed-system",
   "metadata": {},
   "source": [
    "Check every possibility"
   ]
  },
  {
   "cell_type": "markdown",
   "id": "canadian-thesis",
   "metadata": {},
   "source": [
    "> use the `regsubsets()` function in the R package `leaps`.\n",
    "\n"
   ]
  },
  {
   "cell_type": "code",
   "execution_count": 59,
   "id": "recent-cancer",
   "metadata": {},
   "outputs": [],
   "source": [
    "library(leaps)"
   ]
  },
  {
   "cell_type": "markdown",
   "id": "characteristic-heavy",
   "metadata": {},
   "source": [
    "A few points about this line of code. First, note that we immediately use `summary()` and store those results. That is simply the intended use of `regsubsets()`. Second, inside of regsubsets() we specify the model `hipcenter ~ .`. This will be the largest model considered, that is the model using all first-order predictors, and R will check all possible subsets."
   ]
  },
  {
   "cell_type": "code",
   "execution_count": 45,
   "id": "signal-large",
   "metadata": {},
   "outputs": [
    {
     "data": {
      "text/plain": [
       "Subset selection object\n",
       "Call: regsubsets.formula(hipcenter ~ ., data = seatpos)\n",
       "8 Variables  (and intercept)\n",
       "        Forced in Forced out\n",
       "Age         FALSE      FALSE\n",
       "Weight      FALSE      FALSE\n",
       "HtShoes     FALSE      FALSE\n",
       "Ht          FALSE      FALSE\n",
       "Seated      FALSE      FALSE\n",
       "Arm         FALSE      FALSE\n",
       "Thigh       FALSE      FALSE\n",
       "Leg         FALSE      FALSE\n",
       "1 subsets of each size up to 8\n",
       "Selection Algorithm: exhaustive\n",
       "         Age Weight HtShoes Ht  Seated Arm Thigh Leg\n",
       "1  ( 1 ) \" \" \" \"    \" \"     \"*\" \" \"    \" \" \" \"   \" \"\n",
       "2  ( 1 ) \" \" \" \"    \" \"     \"*\" \" \"    \" \" \" \"   \"*\"\n",
       "3  ( 1 ) \"*\" \" \"    \" \"     \"*\" \" \"    \" \" \" \"   \"*\"\n",
       "4  ( 1 ) \"*\" \" \"    \"*\"     \" \" \" \"    \" \" \"*\"   \"*\"\n",
       "5  ( 1 ) \"*\" \" \"    \"*\"     \" \" \" \"    \"*\" \"*\"   \"*\"\n",
       "6  ( 1 ) \"*\" \" \"    \"*\"     \" \" \"*\"    \"*\" \"*\"   \"*\"\n",
       "7  ( 1 ) \"*\" \"*\"    \"*\"     \" \" \"*\"    \"*\" \"*\"   \"*\"\n",
       "8  ( 1 ) \"*\" \"*\"    \"*\"     \"*\" \"*\"    \"*\" \"*\"   \"*\""
      ]
     },
     "metadata": {},
     "output_type": "display_data"
    }
   ],
   "source": [
    "all_hip_center_mod <- summary(regsubsets(hipcenter ~ ., data = seatpos))\n",
    "\n",
    "all_hip_center_mod"
   ]
  },
  {
   "cell_type": "code",
   "execution_count": 50,
   "id": "composite-retail",
   "metadata": {},
   "outputs": [
    {
     "data": {
      "text/html": [
       "<style>\n",
       ".list-inline {list-style: none; margin:0; padding: 0}\n",
       ".list-inline>li {display: inline-block}\n",
       ".list-inline>li:not(:last-child)::after {content: \"\\00b7\"; padding: 0 .5ex}\n",
       "</style>\n",
       "<ol class=list-inline><li>'which'</li><li>'rsq'</li><li>'rss'</li><li>'adjr2'</li><li>'cp'</li><li>'bic'</li><li>'outmat'</li><li>'obj'</li></ol>\n"
      ],
      "text/latex": [
       "\\begin{enumerate*}\n",
       "\\item 'which'\n",
       "\\item 'rsq'\n",
       "\\item 'rss'\n",
       "\\item 'adjr2'\n",
       "\\item 'cp'\n",
       "\\item 'bic'\n",
       "\\item 'outmat'\n",
       "\\item 'obj'\n",
       "\\end{enumerate*}\n"
      ],
      "text/markdown": [
       "1. 'which'\n",
       "2. 'rsq'\n",
       "3. 'rss'\n",
       "4. 'adjr2'\n",
       "5. 'cp'\n",
       "6. 'bic'\n",
       "7. 'outmat'\n",
       "8. 'obj'\n",
       "\n",
       "\n"
      ],
      "text/plain": [
       "[1] \"which\"  \"rsq\"    \"rss\"    \"adjr2\"  \"cp\"     \"bic\"    \"outmat\" \"obj\"   "
      ]
     },
     "metadata": {},
     "output_type": "display_data"
    }
   ],
   "source": [
    "names(all_hip_center_mod)"
   ]
  },
  {
   "cell_type": "code",
   "execution_count": 51,
   "id": "deluxe-operator",
   "metadata": {},
   "outputs": [
    {
     "name": "stdout",
     "output_type": "stream",
     "text": [
      "List of 8\n",
      " $ which : logi [1:8, 1:9] TRUE TRUE TRUE TRUE TRUE TRUE ...\n",
      "  ..- attr(*, \"dimnames\")=List of 2\n",
      "  .. ..$ : chr [1:8] \"1\" \"2\" \"3\" \"4\" ...\n",
      "  .. ..$ : chr [1:9] \"(Intercept)\" \"Age\" \"Weight\" \"HtShoes\" ...\n",
      " $ rsq   : num [1:8] 0.638 0.659 0.681 0.685 0.686 ...\n",
      " $ rss   : num [1:8] 47616 44835 41938 41485 41313 ...\n",
      " $ adjr2 : num [1:8] 0.628 0.64 0.653 0.647 0.637 ...\n",
      " $ cp    : num [1:8] -0.534 -0.489 -0.525 1.157 3.036 ...\n",
      " $ bic   : num [1:8] -31.4 -30 -28.9 -25.7 -22.2 ...\n",
      " $ outmat: chr [1:8, 1:8] \" \" \" \" \"*\" \"*\" ...\n",
      "  ..- attr(*, \"dimnames\")=List of 2\n",
      "  .. ..$ : chr [1:8] \"1  ( 1 )\" \"2  ( 1 )\" \"3  ( 1 )\" \"4  ( 1 )\" ...\n",
      "  .. ..$ : chr [1:8] \"Age\" \"Weight\" \"HtShoes\" \"Ht\" ...\n",
      " $ obj   :List of 28\n",
      "  ..$ np       : int 9\n",
      "  ..$ nrbar    : int 36\n",
      "  ..$ d        : num [1:9] 38 47371 359 208 273 ...\n",
      "  ..$ rbar     : num [1:36] 155.6 89 32.2 38.7 36.3 ...\n",
      "  ..$ thetab   : num [1:9] -164.88 -1.07 -7.12 -3.17 -2.69 ...\n",
      "  ..$ first    : int 2\n",
      "  ..$ last     : int 9\n",
      "  ..$ vorder   : int [1:9] 1 3 6 7 8 9 4 5 2\n",
      "  ..$ tol      : num [1:9] 3.08e-09 5.97e-07 3.01e-07 1.21e-07 1.45e-07 ...\n",
      "  ..$ rss      : num [1:9] 131639 77664 59479 57381 55400 ...\n",
      "  ..$ bound    : num [1:9] 131639 47616 44835 41938 41485 ...\n",
      "  ..$ nvmax    : int 9\n",
      "  ..$ ress     : num [1:9, 1] 131639 47616 44835 41938 41485 ...\n",
      "  ..$ ir       : int 9\n",
      "  ..$ nbest    : int 1\n",
      "  ..$ lopt     : int [1:45, 1] 1 1 5 1 5 9 1 2 9 5 ...\n",
      "  ..$ il       : int 45\n",
      "  ..$ ier      : int 0\n",
      "  ..$ xnames   : chr [1:9] \"(Intercept)\" \"Age\" \"Weight\" \"HtShoes\" ...\n",
      "  ..$ method   : chr \"exhaustive\"\n",
      "  ..$ force.in : Named logi [1:9] TRUE FALSE FALSE FALSE FALSE FALSE ...\n",
      "  .. ..- attr(*, \"names\")= chr [1:9] \"\" \"Age\" \"Weight\" \"HtShoes\" ...\n",
      "  ..$ force.out: Named logi [1:9] FALSE FALSE FALSE FALSE FALSE FALSE ...\n",
      "  .. ..- attr(*, \"names\")= chr [1:9] \"\" \"Age\" \"Weight\" \"HtShoes\" ...\n",
      "  ..$ sserr    : num 41262\n",
      "  ..$ intercept: logi TRUE\n",
      "  ..$ lindep   : logi [1:9] FALSE FALSE FALSE FALSE FALSE FALSE ...\n",
      "  ..$ nullrss  : num 131639\n",
      "  ..$ nn       : int 38\n",
      "  ..$ call     : language regsubsets.formula(hipcenter ~ ., data = seatpos)\n",
      "  ..- attr(*, \"class\")= chr \"regsubsets\"\n",
      " - attr(*, \"class\")= chr \"summary.regsubsets\"\n"
     ]
    }
   ],
   "source": [
    "str(all_hip_center_mod)"
   ]
  },
  {
   "cell_type": "code",
   "execution_count": 52,
   "id": "liked-spyware",
   "metadata": {},
   "outputs": [
    {
     "data": {
      "text/html": [
       "<table>\n",
       "<caption>A matrix: 8 × 9 of type lgl</caption>\n",
       "<thead>\n",
       "\t<tr><th></th><th scope=col>(Intercept)</th><th scope=col>Age</th><th scope=col>Weight</th><th scope=col>HtShoes</th><th scope=col>Ht</th><th scope=col>Seated</th><th scope=col>Arm</th><th scope=col>Thigh</th><th scope=col>Leg</th></tr>\n",
       "</thead>\n",
       "<tbody>\n",
       "\t<tr><th scope=row>1</th><td>TRUE</td><td>FALSE</td><td>FALSE</td><td>FALSE</td><td> TRUE</td><td>FALSE</td><td>FALSE</td><td>FALSE</td><td>FALSE</td></tr>\n",
       "\t<tr><th scope=row>2</th><td>TRUE</td><td>FALSE</td><td>FALSE</td><td>FALSE</td><td> TRUE</td><td>FALSE</td><td>FALSE</td><td>FALSE</td><td> TRUE</td></tr>\n",
       "\t<tr><th scope=row>3</th><td>TRUE</td><td> TRUE</td><td>FALSE</td><td>FALSE</td><td> TRUE</td><td>FALSE</td><td>FALSE</td><td>FALSE</td><td> TRUE</td></tr>\n",
       "\t<tr><th scope=row>4</th><td>TRUE</td><td> TRUE</td><td>FALSE</td><td> TRUE</td><td>FALSE</td><td>FALSE</td><td>FALSE</td><td> TRUE</td><td> TRUE</td></tr>\n",
       "\t<tr><th scope=row>5</th><td>TRUE</td><td> TRUE</td><td>FALSE</td><td> TRUE</td><td>FALSE</td><td>FALSE</td><td> TRUE</td><td> TRUE</td><td> TRUE</td></tr>\n",
       "\t<tr><th scope=row>6</th><td>TRUE</td><td> TRUE</td><td>FALSE</td><td> TRUE</td><td>FALSE</td><td> TRUE</td><td> TRUE</td><td> TRUE</td><td> TRUE</td></tr>\n",
       "\t<tr><th scope=row>7</th><td>TRUE</td><td> TRUE</td><td> TRUE</td><td> TRUE</td><td>FALSE</td><td> TRUE</td><td> TRUE</td><td> TRUE</td><td> TRUE</td></tr>\n",
       "\t<tr><th scope=row>8</th><td>TRUE</td><td> TRUE</td><td> TRUE</td><td> TRUE</td><td> TRUE</td><td> TRUE</td><td> TRUE</td><td> TRUE</td><td> TRUE</td></tr>\n",
       "</tbody>\n",
       "</table>\n"
      ],
      "text/latex": [
       "A matrix: 8 × 9 of type lgl\n",
       "\\begin{tabular}{r|lllllllll}\n",
       "  & (Intercept) & Age & Weight & HtShoes & Ht & Seated & Arm & Thigh & Leg\\\\\n",
       "\\hline\n",
       "\t1 & TRUE & FALSE & FALSE & FALSE &  TRUE & FALSE & FALSE & FALSE & FALSE\\\\\n",
       "\t2 & TRUE & FALSE & FALSE & FALSE &  TRUE & FALSE & FALSE & FALSE &  TRUE\\\\\n",
       "\t3 & TRUE &  TRUE & FALSE & FALSE &  TRUE & FALSE & FALSE & FALSE &  TRUE\\\\\n",
       "\t4 & TRUE &  TRUE & FALSE &  TRUE & FALSE & FALSE & FALSE &  TRUE &  TRUE\\\\\n",
       "\t5 & TRUE &  TRUE & FALSE &  TRUE & FALSE & FALSE &  TRUE &  TRUE &  TRUE\\\\\n",
       "\t6 & TRUE &  TRUE & FALSE &  TRUE & FALSE &  TRUE &  TRUE &  TRUE &  TRUE\\\\\n",
       "\t7 & TRUE &  TRUE &  TRUE &  TRUE & FALSE &  TRUE &  TRUE &  TRUE &  TRUE\\\\\n",
       "\t8 & TRUE &  TRUE &  TRUE &  TRUE &  TRUE &  TRUE &  TRUE &  TRUE &  TRUE\\\\\n",
       "\\end{tabular}\n"
      ],
      "text/markdown": [
       "\n",
       "A matrix: 8 × 9 of type lgl\n",
       "\n",
       "| <!--/--> | (Intercept) | Age | Weight | HtShoes | Ht | Seated | Arm | Thigh | Leg |\n",
       "|---|---|---|---|---|---|---|---|---|---|\n",
       "| 1 | TRUE | FALSE | FALSE | FALSE |  TRUE | FALSE | FALSE | FALSE | FALSE |\n",
       "| 2 | TRUE | FALSE | FALSE | FALSE |  TRUE | FALSE | FALSE | FALSE |  TRUE |\n",
       "| 3 | TRUE |  TRUE | FALSE | FALSE |  TRUE | FALSE | FALSE | FALSE |  TRUE |\n",
       "| 4 | TRUE |  TRUE | FALSE |  TRUE | FALSE | FALSE | FALSE |  TRUE |  TRUE |\n",
       "| 5 | TRUE |  TRUE | FALSE |  TRUE | FALSE | FALSE |  TRUE |  TRUE |  TRUE |\n",
       "| 6 | TRUE |  TRUE | FALSE |  TRUE | FALSE |  TRUE |  TRUE |  TRUE |  TRUE |\n",
       "| 7 | TRUE |  TRUE |  TRUE |  TRUE | FALSE |  TRUE |  TRUE |  TRUE |  TRUE |\n",
       "| 8 | TRUE |  TRUE |  TRUE |  TRUE |  TRUE |  TRUE |  TRUE |  TRUE |  TRUE |\n",
       "\n"
      ],
      "text/plain": [
       "  (Intercept) Age   Weight HtShoes Ht    Seated Arm   Thigh Leg  \n",
       "1 TRUE        FALSE FALSE  FALSE    TRUE FALSE  FALSE FALSE FALSE\n",
       "2 TRUE        FALSE FALSE  FALSE    TRUE FALSE  FALSE FALSE  TRUE\n",
       "3 TRUE         TRUE FALSE  FALSE    TRUE FALSE  FALSE FALSE  TRUE\n",
       "4 TRUE         TRUE FALSE   TRUE   FALSE FALSE  FALSE  TRUE  TRUE\n",
       "5 TRUE         TRUE FALSE   TRUE   FALSE FALSE   TRUE  TRUE  TRUE\n",
       "6 TRUE         TRUE FALSE   TRUE   FALSE  TRUE   TRUE  TRUE  TRUE\n",
       "7 TRUE         TRUE  TRUE   TRUE   FALSE  TRUE   TRUE  TRUE  TRUE\n",
       "8 TRUE         TRUE  TRUE   TRUE    TRUE  TRUE   TRUE  TRUE  TRUE"
      ]
     },
     "metadata": {},
     "output_type": "display_data"
    }
   ],
   "source": [
    "# best model\n",
    "# the i-th row is the predictors of the i-th model\n",
    "all_hip_center_mod$which"
   ]
  },
  {
   "cell_type": "code",
   "execution_count": 48,
   "id": "graphic-enough",
   "metadata": {},
   "outputs": [
    {
     "data": {
      "text/html": [
       "<style>\n",
       ".list-inline {list-style: none; margin:0; padding: 0}\n",
       ".list-inline>li {display: inline-block}\n",
       ".list-inline>li:not(:last-child)::after {content: \"\\00b7\"; padding: 0 .5ex}\n",
       "</style>\n",
       "<ol class=list-inline><li>0.628237389482656</li><li>0.639949556800013</li><li>0.653305536611057</li><li>0.646658626395894</li><li>0.637127613309656</li><li>0.625740268394889</li><li>0.613368976832167</li><li>0.600085469411637</li></ol>\n"
      ],
      "text/latex": [
       "\\begin{enumerate*}\n",
       "\\item 0.628237389482656\n",
       "\\item 0.639949556800013\n",
       "\\item 0.653305536611057\n",
       "\\item 0.646658626395894\n",
       "\\item 0.637127613309656\n",
       "\\item 0.625740268394889\n",
       "\\item 0.613368976832167\n",
       "\\item 0.600085469411637\n",
       "\\end{enumerate*}\n"
      ],
      "text/markdown": [
       "1. 0.628237389482656\n",
       "2. 0.639949556800013\n",
       "3. 0.653305536611057\n",
       "4. 0.646658626395894\n",
       "5. 0.637127613309656\n",
       "6. 0.625740268394889\n",
       "7. 0.613368976832167\n",
       "8. 0.600085469411637\n",
       "\n",
       "\n"
      ],
      "text/plain": [
       "[1] 0.6282374 0.6399496 0.6533055 0.6466586 0.6371276 0.6257403 0.6133690\n",
       "[8] 0.6000855"
      ]
     },
     "metadata": {},
     "output_type": "display_data"
    }
   ],
   "source": [
    "# adjust R square of each model\n",
    "all_hip_center_mod$adjr2"
   ]
  },
  {
   "cell_type": "code",
   "execution_count": 49,
   "id": "casual-times",
   "metadata": {},
   "outputs": [
    {
     "data": {
      "text/html": [
       "<style>\n",
       ".list-inline {list-style: none; margin:0; padding: 0}\n",
       ".list-inline>li {display: inline-block}\n",
       ".list-inline>li:not(:last-child)::after {content: \"\\00b7\"; padding: 0 .5ex}\n",
       "</style>\n",
       "<ol class=list-inline><li>47615.7932478012</li><li>44834.6938043805</li><li>41938.089010397</li><li>41485.0145563219</li><li>41312.9981365472</li><li>41277.9014233563</li><li>41266.7975511004</li><li>41261.7835003818</li></ol>\n"
      ],
      "text/latex": [
       "\\begin{enumerate*}\n",
       "\\item 47615.7932478012\n",
       "\\item 44834.6938043805\n",
       "\\item 41938.089010397\n",
       "\\item 41485.0145563219\n",
       "\\item 41312.9981365472\n",
       "\\item 41277.9014233563\n",
       "\\item 41266.7975511004\n",
       "\\item 41261.7835003818\n",
       "\\end{enumerate*}\n"
      ],
      "text/markdown": [
       "1. 47615.7932478012\n",
       "2. 44834.6938043805\n",
       "3. 41938.089010397\n",
       "4. 41485.0145563219\n",
       "5. 41312.9981365472\n",
       "6. 41277.9014233563\n",
       "7. 41266.7975511004\n",
       "8. 41261.7835003818\n",
       "\n",
       "\n"
      ],
      "text/plain": [
       "[1] 47615.79 44834.69 41938.09 41485.01 41313.00 41277.90 41266.80 41261.78"
      ]
     },
     "metadata": {},
     "output_type": "display_data"
    }
   ],
   "source": [
    "# residuals sum of squares of each model\n",
    "all_hip_center_mod$rss"
   ]
  },
  {
   "cell_type": "code",
   "execution_count": 55,
   "id": "native-damage",
   "metadata": {},
   "outputs": [
    {
     "name": "stdout",
     "output_type": "stream",
     "text": [
      "(Intercept)         Age      Weight     HtShoes          Ht      Seated \n",
      "       TRUE        TRUE       FALSE       FALSE        TRUE       FALSE \n",
      "        Arm       Thigh         Leg \n",
      "      FALSE       FALSE        TRUE \n"
     ]
    }
   ],
   "source": [
    "# extract model with highest adjusted R squared\n",
    "all_hip_center_mod$which[which.max(all_hip_center_mod$adjr2), ] %>% print()"
   ]
  },
  {
   "cell_type": "markdown",
   "id": "exclusive-lafayette",
   "metadata": {},
   "source": [
    "# 3. Higher order terms"
   ]
  },
  {
   "cell_type": "code",
   "execution_count": 60,
   "id": "honest-google",
   "metadata": {},
   "outputs": [],
   "source": [
    "autompg = read.table(\n",
    "  \"http://archive.ics.uci.edu/ml/machine-learning-databases/auto-mpg/auto-mpg.data\",\n",
    "  quote = \"\\\"\",\n",
    "  comment.char = \"\",\n",
    "  stringsAsFactors = FALSE)\n",
    "colnames(autompg) = c(\"mpg\", \"cyl\", \"disp\", \"hp\", \"wt\", \"acc\", \n",
    "                      \"year\", \"origin\", \"name\")\n",
    "autompg = subset(autompg, autompg$hp != \"?\")\n",
    "autompg = subset(autompg, autompg$name != \"plymouth reliant\")\n",
    "rownames(autompg) = paste(autompg$cyl, \"cylinder\", autompg$year, autompg$name)\n",
    "autompg$hp = as.numeric(autompg$hp)\n",
    "autompg$domestic = as.numeric(autompg$origin == 1)\n",
    "autompg = autompg[autompg$cyl != 5,]\n",
    "autompg = autompg[autompg$cyl != 3,]\n",
    "autompg$cyl = as.factor(autompg$cyl)\n",
    "autompg$domestic = as.factor(autompg$domestic)\n",
    "autompg = subset(autompg, select = c(\"mpg\", \"cyl\", \"disp\", \"hp\", \n",
    "                                     \"wt\", \"acc\", \"year\", \"domestic\"))"
   ]
  },
  {
   "cell_type": "code",
   "execution_count": 62,
   "id": "documentary-bunny",
   "metadata": {},
   "outputs": [],
   "source": [
    "# Read the book for the explanation of the formula\n",
    "autompg_big_mod = lm(\n",
    "  log(mpg) ~ . ^ 2 + I(disp ^ 2) + I(hp ^ 2) + I(wt ^ 2) + I(acc ^ 2), \n",
    "  data = autompg)\n"
   ]
  },
  {
   "cell_type": "code",
   "execution_count": 63,
   "id": "related-arabic",
   "metadata": {},
   "outputs": [
    {
     "data": {
      "text/html": [
       "40"
      ],
      "text/latex": [
       "40"
      ],
      "text/markdown": [
       "40"
      ],
      "text/plain": [
       "[1] 40"
      ]
     },
     "metadata": {},
     "output_type": "display_data"
    }
   ],
   "source": [
    "# large number of coefficients\n",
    "length(coef(autompg_big_mod))"
   ]
  },
  {
   "cell_type": "code",
   "execution_count": 65,
   "id": "offensive-london",
   "metadata": {},
   "outputs": [],
   "source": [
    "# backward search using metric bic and aic\n",
    "# suppress mesage by setting trace = 0\n",
    "autompg_mod_back_bic <- step(autompg_big_mod, direction = \"backward\", k = log(n), trace = 0)\n",
    "autompg_mod_back_aic <- step(autompg_big_mod, direction = \"backward\",  trace = 0)"
   ]
  },
  {
   "cell_type": "markdown",
   "id": "asian-calvin",
   "metadata": {},
   "source": [
    "# 4. Explanation versus Prediction"
   ]
  },
  {
   "cell_type": "markdown",
   "id": "varying-transportation",
   "metadata": {},
   "source": [
    "Read the book. \n",
    "- When to use **Explanation**? small model, easy to interpret. We need to care about model assumptions to inference, correlation and causation.\n",
    "- When to use **Prediction**? big model, high goodness-of-fit. If we only care about prediction, we don’t need to worry about correlation vs causation, and we don’t need to worry about model assumptions."
   ]
  },
  {
   "cell_type": "code",
   "execution_count": null,
   "id": "fifth-belfast",
   "metadata": {},
   "outputs": [],
   "source": []
  }
 ],
 "metadata": {
  "kernelspec": {
   "display_name": "R",
   "language": "R",
   "name": "ir"
  },
  "language_info": {
   "codemirror_mode": "r",
   "file_extension": ".r",
   "mimetype": "text/x-r-source",
   "name": "R",
   "pygments_lexer": "r",
   "version": "4.0.4"
  }
 },
 "nbformat": 4,
 "nbformat_minor": 5
}
