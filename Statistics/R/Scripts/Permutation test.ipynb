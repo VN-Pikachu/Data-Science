{
 "cells": [
  {
   "cell_type": "markdown",
   "id": "detected-developer",
   "metadata": {},
   "source": [
    "**Reference**: \n",
    "- [MarinStatsLectures: Introduction to Permutation Test](https://www.youtube.com/watch?v=rJ3AZCQuiLw)\n",
    "- [MarinStatsLectures: Permutation Test in R](https://www.youtube.com/watch?v=xRzEWLfEEIA)\n",
    "- [R handbook: Introduction to permutation test](https://rcompanion.org/handbook/K_01.html)\n",
    "- [An introduction to Permutation Test Lioyd Rieber](https://www.youtube.com/watch?v=GmvpsJHGCxQ)\n"
   ]
  },
  {
   "cell_type": "markdown",
   "id": "helpful-headset",
   "metadata": {},
   "source": [
    "# 1. Why?"
   ]
  },
  {
   "cell_type": "markdown",
   "id": "cardiovascular-elements",
   "metadata": {},
   "source": [
    "- The sample size is small\n",
    "- Test something rather than classic approach like mean (T-test, ANOVA) or median (Wilcoxon-Rank Sum Test). For example, The difference of the median of 2 groups.\n",
    "- Difficult to work out the **Standard Error** of the test-statistic\n",
    "- It does not rely on assumptions about the distribution of the data, as some other tests do.  They are therefore considered to be nonparametric tests. \n"
   ]
  },
  {
   "cell_type": "markdown",
   "id": "sticky-voltage",
   "metadata": {},
   "source": [
    "# 2. Drawback\n",
    "- Cannot build **confidence interval**, only used for **hypothesis testing**"
   ]
  },
  {
   "cell_type": "markdown",
   "id": "racial-citizen",
   "metadata": {},
   "source": [
    "# 3. From scratch"
   ]
  },
  {
   "cell_type": "code",
   "execution_count": 3,
   "id": "sapphire-mouse",
   "metadata": {},
   "outputs": [],
   "source": [
    "library(tidyverse)"
   ]
  },
  {
   "cell_type": "code",
   "execution_count": 10,
   "id": "floating-strength",
   "metadata": {},
   "outputs": [
    {
     "data": {
      "text/html": [
       "<table>\n",
       "<caption>A tibble: 6 × 3</caption>\n",
       "<thead>\n",
       "\t<tr><th scope=col>Individual</th><th scope=col>Hand</th><th scope=col>Length</th></tr>\n",
       "\t<tr><th scope=col>&lt;fct&gt;</th><th scope=col>&lt;fct&gt;</th><th scope=col>&lt;dbl&gt;</th></tr>\n",
       "</thead>\n",
       "<tbody>\n",
       "\t<tr><td>A</td><td>Left</td><td>17.5</td></tr>\n",
       "\t<tr><td>B</td><td>Left</td><td>18.4</td></tr>\n",
       "\t<tr><td>C</td><td>Left</td><td>16.2</td></tr>\n",
       "\t<tr><td>D</td><td>Left</td><td>14.5</td></tr>\n",
       "\t<tr><td>E</td><td>Left</td><td>13.5</td></tr>\n",
       "\t<tr><td>F</td><td>Left</td><td>18.9</td></tr>\n",
       "</tbody>\n",
       "</table>\n"
      ],
      "text/latex": [
       "A tibble: 6 × 3\n",
       "\\begin{tabular}{lll}\n",
       " Individual & Hand & Length\\\\\n",
       " <fct> & <fct> & <dbl>\\\\\n",
       "\\hline\n",
       "\t A & Left & 17.5\\\\\n",
       "\t B & Left & 18.4\\\\\n",
       "\t C & Left & 16.2\\\\\n",
       "\t D & Left & 14.5\\\\\n",
       "\t E & Left & 13.5\\\\\n",
       "\t F & Left & 18.9\\\\\n",
       "\\end{tabular}\n"
      ],
      "text/markdown": [
       "\n",
       "A tibble: 6 × 3\n",
       "\n",
       "| Individual &lt;fct&gt; | Hand &lt;fct&gt; | Length &lt;dbl&gt; |\n",
       "|---|---|---|\n",
       "| A | Left | 17.5 |\n",
       "| B | Left | 18.4 |\n",
       "| C | Left | 16.2 |\n",
       "| D | Left | 14.5 |\n",
       "| E | Left | 13.5 |\n",
       "| F | Left | 18.9 |\n",
       "\n"
      ],
      "text/plain": [
       "  Individual Hand Length\n",
       "1 A          Left 17.5  \n",
       "2 B          Left 18.4  \n",
       "3 C          Left 16.2  \n",
       "4 D          Left 14.5  \n",
       "5 E          Left 13.5  \n",
       "6 F          Left 18.9  "
      ]
     },
     "metadata": {},
     "output_type": "display_data"
    }
   ],
   "source": [
    "Input = (\"\n",
    " Individual  Hand     Length\n",
    " A           Left     17.5\n",
    " B           Left     18.4\n",
    " C           Left     16.2\n",
    " D           Left     14.5\n",
    " E           Left     13.5\n",
    " F           Left     18.9\n",
    " G           Left     19.5\n",
    " H           Left     21.1\n",
    " I           Left     17.8\n",
    " J           Left     16.8\n",
    " K           Left     18.4\n",
    " L           Left     17.3\n",
    " M           Left     18.9\n",
    " N           Left     16.4\n",
    " O           Left     17.5\n",
    " P           Left     15.0\n",
    " A           Right    17.6\n",
    " B           Right    18.5\n",
    " C           Right    15.9\n",
    " D           Right    14.9\n",
    " E           Right    13.7\n",
    " F           Right    18.9\n",
    " G           Right    19.5\n",
    " H           Right    21.5\n",
    " I           Right    18.5\n",
    " J           Right    17.1\n",
    " K           Right    18.9\n",
    " L           Right    17.5\n",
    " M           Right    19.5\n",
    " N           Right    16.5\n",
    " O           Right    17.4\n",
    " P           Right    15.6\n",
    "\")\n",
    "\n",
    "hand = read_table(Input, col_types = 'ffd')\n",
    "head(hand)"
   ]
  },
  {
   "cell_type": "code",
   "execution_count": 6,
   "id": "derived-destination",
   "metadata": {},
   "outputs": [
    {
     "data": {
      "image/png": "[encoded data removed]",
      "text/plain": [
       "plot without title"
      ]
     },
     "metadata": {
      "image/png": {
       "height": 420,
       "width": 420
      }
     },
     "output_type": "display_data"
    }
   ],
   "source": [
    "boxplot(Length ~ Hand, data = hand)"
   ]
  },
  {
   "cell_type": "markdown",
   "id": "verified-carroll",
   "metadata": {},
   "source": [
    "let's say our test statistic is the difference between the median length of right hand minus the median length of left hand"
   ]
  },
  {
   "cell_type": "markdown",
   "id": "printable-dutch",
   "metadata": {},
   "source": [
    "Hypothesis:\n",
    "- H0: The median length of right hand is the same as the median length of left hand\n",
    "- H1: different"
   ]
  },
  {
   "cell_type": "code",
   "execution_count": 9,
   "id": "laden-thailand",
   "metadata": {},
   "outputs": [
    {
     "data": {
      "text/html": [
       "32"
      ],
      "text/latex": [
       "32"
      ],
      "text/markdown": [
       "32"
      ],
      "text/plain": [
       "[1] 32"
      ]
     },
     "metadata": {},
     "output_type": "display_data"
    }
   ],
   "source": [
    "# sample size\n",
    "sample_size <- nrow(hand)\n",
    "sample_size"
   ]
  },
  {
   "cell_type": "code",
   "execution_count": 7,
   "id": "latest-resolution",
   "metadata": {},
   "outputs": [
    {
     "data": {
      "text/html": [
       "0.0500000000000007"
      ],
      "text/latex": [
       "0.0500000000000007"
      ],
      "text/markdown": [
       "0.0500000000000007"
      ],
      "text/plain": [
       "[1] 0.05"
      ]
     },
     "metadata": {},
     "output_type": "display_data"
    }
   ],
   "source": [
    "# calculate test statistic\n",
    "test_statistic <- with(hand, median(Length[Hand == 'Right']) - median(Length[Hand == 'Left']))\n",
    "test_statistic"
   ]
  },
  {
   "cell_type": "code",
   "execution_count": 8,
   "id": "bound-century",
   "metadata": {},
   "outputs": [
    {
     "data": {
      "text/plain": [
       "\n",
       " Left Right \n",
       "   16    16 "
      ]
     },
     "metadata": {},
     "output_type": "display_data"
    }
   ],
   "source": [
    "# the size of each group\n",
    "group_size <- table(hand$Hand)\n",
    "group_size"
   ]
  },
  {
   "cell_type": "code",
   "execution_count": 12,
   "id": "moved-nepal",
   "metadata": {},
   "outputs": [],
   "source": [
    "# run permutation 10000 times, each time calulate the difference of median \n",
    "simulated <- replicate(10000, {\n",
    "    shuffled <- sample(hand$Length, sample_size)\n",
    "    median(shuffled[1:16]) - median(shuffled[17:sample_size])\n",
    "})\n",
    "\n",
    "simulated <- unlist(simulated)"
   ]
  },
  {
   "cell_type": "code",
   "execution_count": 13,
   "id": "blond-bottom",
   "metadata": {},
   "outputs": [
    {
     "data": {
      "text/html": [
       "0.1545"
      ],
      "text/latex": [
       "0.1545"
      ],
      "text/markdown": [
       "0.1545"
      ],
      "text/plain": [
       "[1] 0.1545"
      ]
     },
     "metadata": {},
     "output_type": "display_data"
    }
   ],
   "source": [
    "# 2 tail test \n",
    "l <- -abs(test_statistic)\n",
    "r <- abs(test_statistic)\n",
    "p_value <- mean(between(simulated, l, r))\n",
    "p_value"
   ]
  },
  {
   "cell_type": "markdown",
   "id": "bronze-benjamin",
   "metadata": {},
   "source": [
    "# 4. Using R"
   ]
  },
  {
   "cell_type": "markdown",
   "id": "variable-singing",
   "metadata": {},
   "source": [
    "See [R handbook: Permutation Test](https://rcompanion.org/handbook/K_01.html)"
   ]
  },
  {
   "cell_type": "code",
   "execution_count": 5,
   "id": "substantial-flood",
   "metadata": {},
   "outputs": [
    {
     "name": "stderr",
     "output_type": "stream",
     "text": [
      "Loading required package: survival\n",
      "\n"
     ]
    }
   ],
   "source": [
    "library(coin)"
   ]
  },
  {
   "cell_type": "markdown",
   "id": "steady-logging",
   "metadata": {},
   "source": [
    "## 4.1 Permutation test of independence"
   ]
  },
  {
   "cell_type": "markdown",
   "id": "broad-polyester",
   "metadata": {},
   "source": [
    "This test treats the two groups (left hand and right hand) as independent samples, and tests if there is a difference in values between the two groups.  The box plot above reflects the approach of this test."
   ]
  },
  {
   "cell_type": "code",
   "execution_count": 12,
   "id": "annual-magazine",
   "metadata": {},
   "outputs": [
    {
     "data": {
      "image/png": "[encoded data removed]",
      "text/plain": [
       "plot without title"
      ]
     },
     "metadata": {
      "image/png": {
       "height": 420,
       "width": 420
      }
     },
     "output_type": "display_data"
    }
   ],
   "source": [
    "boxplot(Length ~ Hand, data = hand)"
   ]
  },
  {
   "cell_type": "code",
   "execution_count": 7,
   "id": "inner-clarity",
   "metadata": {},
   "outputs": [
    {
     "data": {
      "text/plain": [
       "\n",
       "\tAsymptotic General Independence Test\n",
       "\n",
       "data:  Length by Hand (Left, Right)\n",
       "Z = -0.34768, p-value = 0.7281\n",
       "alternative hypothesis: two.sided\n"
      ]
     },
     "metadata": {},
     "output_type": "display_data"
    }
   ],
   "source": [
    "# 2 indepedent groups\n",
    "independence_test(Length ~ Hand, data = hand)"
   ]
  },
  {
   "cell_type": "markdown",
   "id": "subtle-employer",
   "metadata": {},
   "source": [
    "**conclusion**: p value > 0.05, so we fail to reject $H_0$, concludes that we do not have strong evidence against the null hypothesis that there is no significant difference between the length of left hand and right hand"
   ]
  },
  {
   "cell_type": "markdown",
   "id": "seasonal-particular",
   "metadata": {},
   "source": [
    "## 4.2 Permutation test of symmetry"
   ]
  },
  {
   "cell_type": "markdown",
   "id": "divine-constant",
   "metadata": {},
   "source": [
    "This test treats the two groups (left hand and right hand) as having paired or repeated data, paired within Individual.  That is, the test looks at the difference between left hand and right hand for each individual.  The scatter plot above reflects the approach of this test."
   ]
  },
  {
   "cell_type": "code",
   "execution_count": 9,
   "id": "twelve-rochester",
   "metadata": {},
   "outputs": [
    {
     "data": {
      "text/html": [
       "<table>\n",
       "<caption>A tibble: 6 × 3</caption>\n",
       "<thead>\n",
       "\t<tr><th scope=col>Individual</th><th scope=col>Hand</th><th scope=col>Length</th></tr>\n",
       "\t<tr><th scope=col>&lt;chr&gt;</th><th scope=col>&lt;fct&gt;</th><th scope=col>&lt;dbl&gt;</th></tr>\n",
       "</thead>\n",
       "<tbody>\n",
       "\t<tr><td>A</td><td>Left</td><td>17.5</td></tr>\n",
       "\t<tr><td>B</td><td>Left</td><td>18.4</td></tr>\n",
       "\t<tr><td>C</td><td>Left</td><td>16.2</td></tr>\n",
       "\t<tr><td>D</td><td>Left</td><td>14.5</td></tr>\n",
       "\t<tr><td>E</td><td>Left</td><td>13.5</td></tr>\n",
       "\t<tr><td>F</td><td>Left</td><td>18.9</td></tr>\n",
       "</tbody>\n",
       "</table>\n"
      ],
      "text/latex": [
       "A tibble: 6 × 3\n",
       "\\begin{tabular}{lll}\n",
       " Individual & Hand & Length\\\\\n",
       " <chr> & <fct> & <dbl>\\\\\n",
       "\\hline\n",
       "\t A & Left & 17.5\\\\\n",
       "\t B & Left & 18.4\\\\\n",
       "\t C & Left & 16.2\\\\\n",
       "\t D & Left & 14.5\\\\\n",
       "\t E & Left & 13.5\\\\\n",
       "\t F & Left & 18.9\\\\\n",
       "\\end{tabular}\n"
      ],
      "text/markdown": [
       "\n",
       "A tibble: 6 × 3\n",
       "\n",
       "| Individual &lt;chr&gt; | Hand &lt;fct&gt; | Length &lt;dbl&gt; |\n",
       "|---|---|---|\n",
       "| A | Left | 17.5 |\n",
       "| B | Left | 18.4 |\n",
       "| C | Left | 16.2 |\n",
       "| D | Left | 14.5 |\n",
       "| E | Left | 13.5 |\n",
       "| F | Left | 18.9 |\n",
       "\n"
      ],
      "text/plain": [
       "  Individual Hand Length\n",
       "1 A          Left 17.5  \n",
       "2 B          Left 18.4  \n",
       "3 C          Left 16.2  \n",
       "4 D          Left 14.5  \n",
       "5 E          Left 13.5  \n",
       "6 F          Left 18.9  "
      ]
     },
     "metadata": {},
     "output_type": "display_data"
    }
   ],
   "source": [
    "head(hand)"
   ]
  },
  {
   "cell_type": "code",
   "execution_count": 11,
   "id": "adverse-america",
   "metadata": {},
   "outputs": [
    {
     "data": {
      "text/plain": [
       "\n",
       "\tAsymptotic General Symmetry Test\n",
       "\n",
       "data:  Length by\n",
       "\t Hand (Left, Right) \n",
       "\t stratified by Individual\n",
       "Z = -2.6348, p-value = 0.008418\n",
       "alternative hypothesis: two.sided\n"
      ]
     },
     "metadata": {},
     "output_type": "display_data"
    }
   ],
   "source": [
    "# match pair\n",
    "symmetry_test(Length ~ Hand | Individual, data = hand)"
   ]
  },
  {
   "cell_type": "markdown",
   "id": "musical-installation",
   "metadata": {},
   "source": [
    "**Conclusion**: p value < 0.01, reject $H_0$, concludes that **for a given person**, there is a statistically significant difference between the length of the left hand and the right hand"
   ]
  },
  {
   "cell_type": "markdown",
   "id": "optical-development",
   "metadata": {},
   "source": [
    "# 5. Interpretation"
   ]
  },
  {
   "cell_type": "markdown",
   "id": "expressed-warning",
   "metadata": {},
   "source": [
    " The general interpretation for significant results of these models isn’t that there is a difference among medians, but that there is a significant effect of the independent variable on the dependent variable, or that there is a significant difference among groups."
   ]
  },
  {
   "cell_type": "markdown",
   "id": "operational-rating",
   "metadata": {},
   "source": [
    "# 6. Further Reading"
   ]
  },
  {
   "cell_type": "markdown",
   "id": "naked-smoke",
   "metadata": {},
   "source": [
    "- [R handbook: Permutation Test for median and percentiles](https://rcompanion.org/handbook/F_15.html)\n",
    "- [R handbook: Permutation Test of Independence for ordinal data](https://rcompanion.org/handbook/K_02.html)\n",
    "- [R handbook: Permutation Test of Symmetry for ordinal data](https://rcompanion.org/handbook/K_03.html)"
   ]
  },
  {
   "cell_type": "code",
   "execution_count": null,
   "id": "valued-depression",
   "metadata": {},
   "outputs": [],
   "source": []
  }
 ],
 "metadata": {
  "kernelspec": {
   "display_name": "R",
   "language": "R",
   "name": "ir"
  },
  "language_info": {
   "codemirror_mode": "r",
   "file_extension": ".r",
   "mimetype": "text/x-r-source",
   "name": "R",
   "pygments_lexer": "r",
   "version": "4.0.4"
  }
 },
 "nbformat": 4,
 "nbformat_minor": 5
}
