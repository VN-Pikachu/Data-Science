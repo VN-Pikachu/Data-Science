{
 "cells": [
  {
   "cell_type": "markdown",
   "id": "indonesian-bunch",
   "metadata": {},
   "source": [
    "**Reference**: <http://daviddalpiaz.github.io/appliedstats/probability-and-statistics-in-r.html#hypothesis-tests-in-r>"
   ]
  },
  {
   "cell_type": "markdown",
   "id": "organizational-peeing",
   "metadata": {},
   "source": [
    "# Parametric Test"
   ]
  },
  {
   "cell_type": "markdown",
   "id": "fallen-bangkok",
   "metadata": {},
   "source": [
    "Making assumptions about the distribution where the sample come froms (like normal assumption). In these assumptions are not met, the result and conclusions from the test might be misleading, incorrect"
   ]
  },
  {
   "cell_type": "markdown",
   "id": "ranking-characteristic",
   "metadata": {},
   "source": [
    "# T-test"
   ]
  },
  {
   "cell_type": "markdown",
   "id": "greenhouse-continent",
   "metadata": {},
   "source": [
    "**Reference**:\n",
    "- [MarinStatsLectures: T-test equal vs unequal variance assumptions](https://www.youtube.com/watch?v=ikS7itcmWZM&list=PLqzoL9-eJTNBq-C2sh46hYIlZYJ0Z1cIB&index=11)"
   ]
  },
  {
   "cell_type": "markdown",
   "id": "differential-perception",
   "metadata": {},
   "source": [
    "- 2 independent sample T-test with Equal Variance:`t.test(var.equal = T)`\n",
    "- 2 independent sample T-test with Unequal Variance `t.test()`\n",
    "- Matched Pair T-test `t.test(paired = T)`"
   ]
  },
  {
   "cell_type": "code",
   "execution_count": 1,
   "id": "better-flashing",
   "metadata": {},
   "outputs": [],
   "source": [
    "# ?t.test"
   ]
  },
  {
   "cell_type": "markdown",
   "id": "bigger-rabbit",
   "metadata": {},
   "source": [
    "### One sample T-test"
   ]
  },
  {
   "cell_type": "markdown",
   "id": "bulgarian-demand",
   "metadata": {},
   "source": [
    ">Suppose a grocery store sells “16 ounce” boxes of Captain Crisp cereal. A random sample of 9 boxes was taken and weighed. The weight in ounces are stored in the data frame capt_crisp."
   ]
  },
  {
   "cell_type": "code",
   "execution_count": 6,
   "id": "complete-ordinance",
   "metadata": {},
   "outputs": [
    {
     "data": {
      "text/html": [
       "<table>\n",
       "<caption>A data.frame: 9 × 1</caption>\n",
       "<thead>\n",
       "\t<tr><th scope=col>weights</th></tr>\n",
       "\t<tr><th scope=col>&lt;dbl&gt;</th></tr>\n",
       "</thead>\n",
       "<tbody>\n",
       "\t<tr><td>15.5</td></tr>\n",
       "\t<tr><td>16.2</td></tr>\n",
       "\t<tr><td>16.1</td></tr>\n",
       "\t<tr><td>15.8</td></tr>\n",
       "\t<tr><td>15.6</td></tr>\n",
       "\t<tr><td>16.0</td></tr>\n",
       "\t<tr><td>15.8</td></tr>\n",
       "\t<tr><td>15.9</td></tr>\n",
       "\t<tr><td>16.2</td></tr>\n",
       "</tbody>\n",
       "</table>\n"
      ],
      "text/latex": [
       "A data.frame: 9 × 1\n",
       "\\begin{tabular}{l}\n",
       " weights\\\\\n",
       " <dbl>\\\\\n",
       "\\hline\n",
       "\t 15.5\\\\\n",
       "\t 16.2\\\\\n",
       "\t 16.1\\\\\n",
       "\t 15.8\\\\\n",
       "\t 15.6\\\\\n",
       "\t 16.0\\\\\n",
       "\t 15.8\\\\\n",
       "\t 15.9\\\\\n",
       "\t 16.2\\\\\n",
       "\\end{tabular}\n"
      ],
      "text/markdown": [
       "\n",
       "A data.frame: 9 × 1\n",
       "\n",
       "| weights &lt;dbl&gt; |\n",
       "|---|\n",
       "| 15.5 |\n",
       "| 16.2 |\n",
       "| 16.1 |\n",
       "| 15.8 |\n",
       "| 15.6 |\n",
       "| 16.0 |\n",
       "| 15.8 |\n",
       "| 15.9 |\n",
       "| 16.2 |\n",
       "\n"
      ],
      "text/plain": [
       "  weights\n",
       "1 15.5   \n",
       "2 16.2   \n",
       "3 16.1   \n",
       "4 15.8   \n",
       "5 15.6   \n",
       "6 16.0   \n",
       "7 15.8   \n",
       "8 15.9   \n",
       "9 16.2   "
      ]
     },
     "metadata": {},
     "output_type": "display_data"
    }
   ],
   "source": [
    "capt_crisp = data.frame(weights = c(15.5, 16.2, 16.1, 15.8, 15.6, 16.0, 15.8, 15.9, 16.2))\n",
    "capt_crisp"
   ]
  },
  {
   "cell_type": "markdown",
   "id": "failing-luxury",
   "metadata": {},
   "source": [
    ">The company that makes Captain Crisp cereal claims that the average weight of a box is at least 16 ounces. We will assume the weight of cereal in a box is normally distributed and use a 0.05 level of significance to test the company’s claim."
   ]
  },
  {
   "cell_type": "code",
   "execution_count": 15,
   "id": "available-nerve",
   "metadata": {},
   "outputs": [
    {
     "data": {
      "text/html": [
       "0.132233552600909"
      ],
      "text/latex": [
       "0.132233552600909"
      ],
      "text/markdown": [
       "0.132233552600909"
      ],
      "text/plain": [
       "[1] 0.1322336"
      ]
     },
     "metadata": {},
     "output_type": "display_data"
    }
   ],
   "source": [
    "x_bar <- mean(capt_crisp$weights)\n",
    "se <- sd(capt_crisp$weights)\n",
    "\n",
    "mu <- 16\n",
    "# sample size\n",
    "n <- nrow(capt_crisp)\n",
    "# degree of freedom\n",
    "dg <- n - 1\n",
    "\n",
    "t_crit <- (x_bar - mu) / (se / sqrt(n))\n",
    "\n",
    "# left-tail test\n",
    "p_value <- pt(t_crit, dg)\n",
    "\n",
    "p_value"
   ]
  },
  {
   "cell_type": "markdown",
   "id": "danish-jamaica",
   "metadata": {},
   "source": [
    "p_value is greater than 0.05 significance level, so we reject the null hypothesis"
   ]
  },
  {
   "cell_type": "markdown",
   "id": "arranged-mailing",
   "metadata": {},
   "source": [
    "---\n",
    "Using built-in test"
   ]
  },
  {
   "cell_type": "code",
   "execution_count": 17,
   "id": "persistent-defensive",
   "metadata": {},
   "outputs": [
    {
     "data": {
      "text/plain": [
       "\n",
       "\tOne Sample t-test\n",
       "\n",
       "data:  capt_crisp$weights\n",
       "t = -1.2, df = 8, p-value = 0.1322\n",
       "alternative hypothesis: true mean is less than 16\n",
       "95 percent confidence interval:\n",
       "     -Inf 16.05496\n",
       "sample estimates:\n",
       "mean of x \n",
       "     15.9 \n"
      ]
     },
     "metadata": {},
     "output_type": "display_data"
    }
   ],
   "source": [
    "report <- t.test(capt_crisp$weights, alternative = 'less', mu = 16, conf.level = .95)\n",
    "report"
   ]
  },
  {
   "cell_type": "code",
   "execution_count": 20,
   "id": "perfect-conference",
   "metadata": {},
   "outputs": [
    {
     "data": {
      "text/html": [
       "<style>\n",
       ".list-inline {list-style: none; margin:0; padding: 0}\n",
       ".list-inline>li {display: inline-block}\n",
       ".list-inline>li:not(:last-child)::after {content: \"\\00b7\"; padding: 0 .5ex}\n",
       "</style>\n",
       "<ol class=list-inline><li>'statistic'</li><li>'parameter'</li><li>'p.value'</li><li>'conf.int'</li><li>'estimate'</li><li>'null.value'</li><li>'stderr'</li><li>'alternative'</li><li>'method'</li><li>'data.name'</li></ol>\n"
      ],
      "text/latex": [
       "\\begin{enumerate*}\n",
       "\\item 'statistic'\n",
       "\\item 'parameter'\n",
       "\\item 'p.value'\n",
       "\\item 'conf.int'\n",
       "\\item 'estimate'\n",
       "\\item 'null.value'\n",
       "\\item 'stderr'\n",
       "\\item 'alternative'\n",
       "\\item 'method'\n",
       "\\item 'data.name'\n",
       "\\end{enumerate*}\n"
      ],
      "text/markdown": [
       "1. 'statistic'\n",
       "2. 'parameter'\n",
       "3. 'p.value'\n",
       "4. 'conf.int'\n",
       "5. 'estimate'\n",
       "6. 'null.value'\n",
       "7. 'stderr'\n",
       "8. 'alternative'\n",
       "9. 'method'\n",
       "10. 'data.name'\n",
       "\n",
       "\n"
      ],
      "text/plain": [
       " [1] \"statistic\"   \"parameter\"   \"p.value\"     \"conf.int\"    \"estimate\"   \n",
       " [6] \"null.value\"  \"stderr\"      \"alternative\" \"method\"      \"data.name\"  "
      ]
     },
     "metadata": {},
     "output_type": "display_data"
    }
   ],
   "source": [
    "names(report)"
   ]
  },
  {
   "cell_type": "code",
   "execution_count": 19,
   "id": "hydraulic-mercury",
   "metadata": {},
   "outputs": [
    {
     "name": "stdout",
     "output_type": "stream",
     "text": [
      "List of 10\n",
      " $ statistic  : Named num -1.2\n",
      "  ..- attr(*, \"names\")= chr \"t\"\n",
      " $ parameter  : Named num 8\n",
      "  ..- attr(*, \"names\")= chr \"df\"\n",
      " $ p.value    : num 0.132\n",
      " $ conf.int   : num [1:2] -Inf 16.1\n",
      "  ..- attr(*, \"conf.level\")= num 0.95\n",
      " $ estimate   : Named num 15.9\n",
      "  ..- attr(*, \"names\")= chr \"mean of x\"\n",
      " $ null.value : Named num 16\n",
      "  ..- attr(*, \"names\")= chr \"mean\"\n",
      " $ stderr     : num 0.0833\n",
      " $ alternative: chr \"less\"\n",
      " $ method     : chr \"One Sample t-test\"\n",
      " $ data.name  : chr \"capt_crisp$weights\"\n",
      " - attr(*, \"class\")= chr \"htest\"\n"
     ]
    }
   ],
   "source": [
    "str(report)"
   ]
  },
  {
   "cell_type": "code",
   "execution_count": 24,
   "id": "dental-frost",
   "metadata": {},
   "outputs": [
    {
     "data": {
      "text/plain": [
       "NULL"
      ]
     },
     "metadata": {},
     "output_type": "display_data"
    },
    {
     "data": {
      "text/html": [
       "<style>\n",
       ".list-inline {list-style: none; margin:0; padding: 0}\n",
       ".list-inline>li {display: inline-block}\n",
       ".list-inline>li:not(:last-child)::after {content: \"\\00b7\"; padding: 0 .5ex}\n",
       "</style>\n",
       "<ol class=list-inline><li>-Inf</li><li>16.0549623364609</li></ol>\n"
      ],
      "text/latex": [
       "\\begin{enumerate*}\n",
       "\\item -Inf\n",
       "\\item 16.0549623364609\n",
       "\\end{enumerate*}\n"
      ],
      "text/markdown": [
       "1. -Inf\n",
       "2. 16.0549623364609\n",
       "\n",
       "\n"
      ],
      "text/plain": [
       "[1]     -Inf 16.05496\n",
       "attr(,\"conf.level\")\n",
       "[1] 0.95"
      ]
     },
     "metadata": {},
     "output_type": "display_data"
    },
    {
     "data": {
      "text/html": [
       "<strong>t:</strong> -1.2"
      ],
      "text/latex": [
       "\\textbf{t:} -1.2"
      ],
      "text/markdown": [
       "**t:** -1.2"
      ],
      "text/plain": [
       "   t \n",
       "-1.2 "
      ]
     },
     "metadata": {},
     "output_type": "display_data"
    },
    {
     "data": {
      "text/html": [
       "<strong>df:</strong> 8"
      ],
      "text/latex": [
       "\\textbf{df:} 8"
      ],
      "text/markdown": [
       "**df:** 8"
      ],
      "text/plain": [
       "df \n",
       " 8 "
      ]
     },
     "metadata": {},
     "output_type": "display_data"
    },
    {
     "data": {
      "text/html": [
       "<strong>mean of x:</strong> 15.9"
      ],
      "text/latex": [
       "\\textbf{mean of x:} 15.9"
      ],
      "text/markdown": [
       "**mean of x:** 15.9"
      ],
      "text/plain": [
       "mean of x \n",
       "     15.9 "
      ]
     },
     "metadata": {},
     "output_type": "display_data"
    }
   ],
   "source": [
    "# p-value\n",
    "report$p..value\n",
    "# confidence interval\n",
    "report$conf.int\n",
    "# test statistics\n",
    "report$statistic\n",
    "# degree of freedom\n",
    "report$parameter\n",
    "# an estimate of the true mean\n",
    "report$estimate"
   ]
  },
  {
   "cell_type": "markdown",
   "id": "defined-contrary",
   "metadata": {},
   "source": [
    "We can do a 2 sided test"
   ]
  },
  {
   "cell_type": "code",
   "execution_count": 25,
   "id": "outside-collect",
   "metadata": {},
   "outputs": [
    {
     "data": {
      "text/plain": [
       "\n",
       "\tOne Sample t-test\n",
       "\n",
       "data:  capt_crisp$weights\n",
       "t = -1.2, df = 8, p-value = 0.2645\n",
       "alternative hypothesis: true mean is not equal to 16\n",
       "95 percent confidence interval:\n",
       " 15.70783 16.09217\n",
       "sample estimates:\n",
       "mean of x \n",
       "     15.9 \n"
      ]
     },
     "metadata": {},
     "output_type": "display_data"
    }
   ],
   "source": [
    "t.test(capt_crisp$weights, alternative = 'two.sided', mu = 16)"
   ]
  },
  {
   "cell_type": "markdown",
   "id": "optimum-requirement",
   "metadata": {},
   "source": [
    "### Two samples T-test"
   ]
  },
  {
   "cell_type": "code",
   "execution_count": 32,
   "id": "loaded-montana",
   "metadata": {},
   "outputs": [],
   "source": [
    "sample1 <- rnorm(100, mean = 10, sd = 3)\n",
    "sample2 <- rnorm(100, mean = 10, sd = 5)\n",
    "sample3 <- rnorm(200, mean = 8, sd = 5)"
   ]
  },
  {
   "cell_type": "code",
   "execution_count": 33,
   "id": "together-coating",
   "metadata": {},
   "outputs": [
    {
     "data": {
      "text/plain": [
       "\n",
       "\tWelch Two Sample t-test\n",
       "\n",
       "data:  sample1 and sample2\n",
       "t = 1.5578, df = 163.58, p-value = 0.1212\n",
       "alternative hypothesis: true difference in means is not equal to 0\n",
       "95 percent confidence interval:\n",
       " -0.2286509  1.9379163\n",
       "sample estimates:\n",
       "mean of x mean of y \n",
       "10.185786  9.331154 \n"
      ]
     },
     "metadata": {},
     "output_type": "display_data"
    }
   ],
   "source": [
    "t.test(sample1, sample2)"
   ]
  },
  {
   "cell_type": "code",
   "execution_count": 35,
   "id": "consolidated-syndication",
   "metadata": {},
   "outputs": [
    {
     "data": {
      "text/plain": [
       "\n",
       "\tTwo Sample t-test\n",
       "\n",
       "data:  sample2 and sample3\n",
       "t = 2.2985, df = 298, p-value = 0.02222\n",
       "alternative hypothesis: true difference in means is not equal to 0\n",
       "99 percent confidence interval:\n",
       " -0.1799432  2.9944041\n",
       "sample estimates:\n",
       "mean of x mean of y \n",
       " 9.331154  7.923923 \n"
      ]
     },
     "metadata": {},
     "output_type": "display_data"
    }
   ],
   "source": [
    "# 2 sample T-test with equal variance\n",
    "t.test(sample2, sample3, conf.level = .99, var.equal = T)"
   ]
  },
  {
   "cell_type": "code",
   "execution_count": 36,
   "id": "green-township",
   "metadata": {},
   "outputs": [
    {
     "data": {
      "text/html": [
       "<table>\n",
       "<caption>A data.frame: 14 × 2</caption>\n",
       "<thead>\n",
       "\t<tr><th scope=col>values</th><th scope=col>group</th></tr>\n",
       "\t<tr><th scope=col>&lt;dbl&gt;</th><th scope=col>&lt;chr&gt;</th></tr>\n",
       "</thead>\n",
       "<tbody>\n",
       "\t<tr><td>70</td><td>A</td></tr>\n",
       "\t<tr><td>82</td><td>A</td></tr>\n",
       "\t<tr><td>78</td><td>A</td></tr>\n",
       "\t<tr><td>74</td><td>A</td></tr>\n",
       "\t<tr><td>94</td><td>A</td></tr>\n",
       "\t<tr><td>82</td><td>A</td></tr>\n",
       "\t<tr><td>64</td><td>B</td></tr>\n",
       "\t<tr><td>72</td><td>B</td></tr>\n",
       "\t<tr><td>60</td><td>B</td></tr>\n",
       "\t<tr><td>76</td><td>B</td></tr>\n",
       "\t<tr><td>72</td><td>B</td></tr>\n",
       "\t<tr><td>80</td><td>B</td></tr>\n",
       "\t<tr><td>84</td><td>B</td></tr>\n",
       "\t<tr><td>68</td><td>B</td></tr>\n",
       "</tbody>\n",
       "</table>\n"
      ],
      "text/latex": [
       "A data.frame: 14 × 2\n",
       "\\begin{tabular}{ll}\n",
       " values & group\\\\\n",
       " <dbl> & <chr>\\\\\n",
       "\\hline\n",
       "\t 70 & A\\\\\n",
       "\t 82 & A\\\\\n",
       "\t 78 & A\\\\\n",
       "\t 74 & A\\\\\n",
       "\t 94 & A\\\\\n",
       "\t 82 & A\\\\\n",
       "\t 64 & B\\\\\n",
       "\t 72 & B\\\\\n",
       "\t 60 & B\\\\\n",
       "\t 76 & B\\\\\n",
       "\t 72 & B\\\\\n",
       "\t 80 & B\\\\\n",
       "\t 84 & B\\\\\n",
       "\t 68 & B\\\\\n",
       "\\end{tabular}\n"
      ],
      "text/markdown": [
       "\n",
       "A data.frame: 14 × 2\n",
       "\n",
       "| values &lt;dbl&gt; | group &lt;chr&gt; |\n",
       "|---|---|\n",
       "| 70 | A |\n",
       "| 82 | A |\n",
       "| 78 | A |\n",
       "| 74 | A |\n",
       "| 94 | A |\n",
       "| 82 | A |\n",
       "| 64 | B |\n",
       "| 72 | B |\n",
       "| 60 | B |\n",
       "| 76 | B |\n",
       "| 72 | B |\n",
       "| 80 | B |\n",
       "| 84 | B |\n",
       "| 68 | B |\n",
       "\n"
      ],
      "text/plain": [
       "   values group\n",
       "1  70     A    \n",
       "2  82     A    \n",
       "3  78     A    \n",
       "4  74     A    \n",
       "5  94     A    \n",
       "6  82     A    \n",
       "7  64     B    \n",
       "8  72     B    \n",
       "9  60     B    \n",
       "10 76     B    \n",
       "11 72     B    \n",
       "12 80     B    \n",
       "13 84     B    \n",
       "14 68     B    "
      ]
     },
     "metadata": {},
     "output_type": "display_data"
    }
   ],
   "source": [
    "x = c(70, 82, 78, 74, 94, 82)\n",
    "y = c(64, 72, 60, 76, 72, 80, 84, 68)\n",
    "t_test_data = data.frame(values = c(x, y),\n",
    "                         group  = c(rep(\"A\", length(x)), rep(\"B\", length(y))))\n",
    "t_test_data"
   ]
  },
  {
   "cell_type": "code",
   "execution_count": 37,
   "id": "abstract-idaho",
   "metadata": {},
   "outputs": [
    {
     "data": {
      "text/plain": [
       "\n",
       "\tWelch Two Sample t-test\n",
       "\n",
       "data:  values by group\n",
       "t = 1.8132, df = 10.693, p-value = 0.09794\n",
       "alternative hypothesis: true difference in means is not equal to 0\n",
       "95 percent confidence interval:\n",
       " -1.745121 17.745121\n",
       "sample estimates:\n",
       "mean in group A mean in group B \n",
       "             80              72 \n"
      ]
     },
     "metadata": {},
     "output_type": "display_data"
    }
   ],
   "source": [
    "t.test(values ~ group, data = t_test_data)"
   ]
  },
  {
   "cell_type": "markdown",
   "id": "associate-payment",
   "metadata": {},
   "source": [
    "# Test for Proportion"
   ]
  },
  {
   "cell_type": "code",
   "execution_count": 2,
   "id": "introductory-square",
   "metadata": {},
   "outputs": [],
   "source": [
    "# ?prop.test"
   ]
  },
  {
   "cell_type": "markdown",
   "id": "immune-token",
   "metadata": {},
   "source": [
    "# Chi squared test"
   ]
  },
  {
   "cell_type": "code",
   "execution_count": 3,
   "id": "actual-affairs",
   "metadata": {},
   "outputs": [],
   "source": [
    "# ?chisq.test"
   ]
  }
 ],
 "metadata": {
  "kernelspec": {
   "display_name": "R",
   "language": "R",
   "name": "ir"
  },
  "language_info": {
   "codemirror_mode": "r",
   "file_extension": ".r",
   "mimetype": "text/x-r-source",
   "name": "R",
   "pygments_lexer": "r",
   "version": "4.0.4"
  }
 },
 "nbformat": 4,
 "nbformat_minor": 5
}
