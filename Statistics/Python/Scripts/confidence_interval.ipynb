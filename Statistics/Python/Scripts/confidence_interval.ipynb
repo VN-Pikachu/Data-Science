{
 "cells": [
  {
   "cell_type": "code",
   "execution_count": 1,
   "id": "polar-raise",
   "metadata": {},
   "outputs": [],
   "source": [
    "import numpy as np\n",
    "from scipy.stats import norm, t, bayes_mvs"
   ]
  },
  {
   "cell_type": "markdown",
   "id": "adapted-validation",
   "metadata": {},
   "source": [
    ">**Problem**:  \n",
    "    Suppose we want to estimate the average weight of an adult male in Dekalb County, Georgia. We draw a random sample of 1,000 men from a population of 1,000,000 men and weigh them. We find that the average man in our sample weighs 180 pounds, and the standard deviation of the sample is 30 pounds. What is the 95% confidence interval."
   ]
  },
  {
   "cell_type": "code",
   "execution_count": 4,
   "id": "ceramic-concrete",
   "metadata": {},
   "outputs": [
    {
     "data": {
      "text/plain": [
       "1.8593850969136847"
      ]
     },
     "execution_count": 4,
     "metadata": {},
     "output_type": "execute_result"
    }
   ],
   "source": [
    "n = 1000 # sample size\n",
    "sample_mean = 180\n",
    "sample_std = 30\n",
    "standard_error = sample_std / np.sqrt(n)\n",
    "confidence_level = .95\n",
    "z = norm.ppf(1 - (1 - confidence_level) / 2) # critical point\n",
    "margin_of_error = z * standard_error\n",
    "margin_of_error"
   ]
  },
  {
   "cell_type": "code",
   "execution_count": 6,
   "id": "pressed-seminar",
   "metadata": {},
   "outputs": [
    {
     "data": {
      "text/plain": [
       "(178.14061490308632, 181.85938509691368)"
      ]
     },
     "execution_count": 6,
     "metadata": {},
     "output_type": "execute_result"
    }
   ],
   "source": [
    "confidence_interval = (sample_mean - margin_of_error, sample_mean + margin_of_error)\n",
    "confidence_interval"
   ]
  },
  {
   "cell_type": "markdown",
   "id": "popular-hepatitis",
   "metadata": {},
   "source": [
    "Using **`scipy.stats.norm.interval`**"
   ]
  },
  {
   "cell_type": "code",
   "execution_count": 9,
   "id": "reflected-pierce",
   "metadata": {},
   "outputs": [
    {
     "data": {
      "text/plain": [
       "(179.05657441558424, 180.94342558441576)"
      ]
     },
     "execution_count": 9,
     "metadata": {},
     "output_type": "execute_result"
    }
   ],
   "source": [
    "norm.interval(confidence_level, loc=sample_mean, scale=standard_error)\n"
   ]
  },
  {
   "cell_type": "code",
   "execution_count": 11,
   "id": "looking-degree",
   "metadata": {},
   "outputs": [
    {
     "data": {
      "text/plain": [
       "(179.05610460669746, 180.94389539330254)"
      ]
     },
     "execution_count": 11,
     "metadata": {},
     "output_type": "execute_result"
    }
   ],
   "source": [
    "# using t-distribution when the standard deviation of population is unknown\n",
    "# or when the sample size of small but the population is approximately normal\n",
    "t.interval(confidence_level, n - 1, loc=sample_mean, scale=standard_error) # n - 1 is degree of freedom"
   ]
  },
  {
   "cell_type": "markdown",
   "id": "superb-palestinian",
   "metadata": {},
   "source": [
    ">**Problem**:  \n",
    "    68% confidence interval of sample $X = {1,2,3,4,4,4,5,5,5,5,4,4,4,6,7,8}$"
   ]
  },
  {
   "cell_type": "markdown",
   "id": "round-foster",
   "metadata": {},
   "source": [
    "using **`scipy.stats.bayes_mvs`**"
   ]
  },
  {
   "cell_type": "code",
   "execution_count": 7,
   "id": "viral-disabled",
   "metadata": {},
   "outputs": [
    {
     "data": {
      "text/plain": [
       "(Mean(statistic=4.4375, minmax=(3.9974214366806184, 4.877578563319382)),\n",
       " Variance(statistic=3.3798076923076925, minmax=(2.1622852160856887, 4.543940133782229)),\n",
       " Std_dev(statistic=1.803442736890171, minmax=(1.4704710864500834, 2.131651972950141)))"
      ]
     },
     "execution_count": 7,
     "metadata": {},
     "output_type": "execute_result"
    }
   ],
   "source": [
    "sample = [1,2,3,4,4,4,5,5,5,5,4,4,4,6,7,8]\n",
    "confidence_level = .68\n",
    "\n",
    "bayes_mvs(sample, confidence_level)"
   ]
  },
  {
   "cell_type": "code",
   "execution_count": null,
   "id": "worst-rough",
   "metadata": {},
   "outputs": [],
   "source": []
  }
 ],
 "metadata": {
  "kernelspec": {
   "display_name": "Python 3",
   "language": "python",
   "name": "python3"
  },
  "language_info": {
   "codemirror_mode": {
    "name": "ipython",
    "version": 3
   },
   "file_extension": ".py",
   "mimetype": "text/x-python",
   "name": "python",
   "nbconvert_exporter": "python",
   "pygments_lexer": "ipython3",
   "version": "3.7.9"
  }
 },
 "nbformat": 4,
 "nbformat_minor": 5
}
