{
 "cells": [
  {
   "cell_type": "markdown",
   "id": "brazilian-being",
   "metadata": {},
   "source": [
    "References:\n",
    "- <https://www.reneshbedre.com/blog/anova.html>"
   ]
  },
  {
   "cell_type": "code",
   "execution_count": 18,
   "id": "sealed-analyst",
   "metadata": {},
   "outputs": [],
   "source": [
    "import numpy as np\n",
    "import pandas as pd\n",
    "from scipy.stats import f, f_oneway\n",
    "import matplotlib.pyplot as plt\n",
    "import seaborn as sns\n"
   ]
  },
  {
   "cell_type": "markdown",
   "id": "entitled-annotation",
   "metadata": {},
   "source": [
    "# One-way ANOVA"
   ]
  },
  {
   "cell_type": "markdown",
   "id": "prospective-norway",
   "metadata": {},
   "source": [
    "See the problem here: <https://stattrek.com/anova/completely-randomized/one-way-example.aspx?tutorial=anova>"
   ]
  },
  {
   "cell_type": "code",
   "execution_count": 45,
   "id": "scheduled-amateur",
   "metadata": {},
   "outputs": [],
   "source": [
    "report = np.array([[210,   210,   180],\n",
    "[240,   240,   210],\n",
    "[270,   240,   210],\n",
    "[270,   270,   210],\n",
    "[300,   270,   240]])"
   ]
  },
  {
   "cell_type": "markdown",
   "id": "dedicated-moment",
   "metadata": {},
   "source": [
    "##  Manually solving by using formula"
   ]
  },
  {
   "cell_type": "code",
   "execution_count": 24,
   "id": "organic-magazine",
   "metadata": {},
   "outputs": [],
   "source": [
    "nobs = report.size\n",
    "n_groups = report.shape[1]\n",
    "group_mean = report.mean(0)"
   ]
  },
  {
   "cell_type": "code",
   "execution_count": 25,
   "id": "consistent-campaign",
   "metadata": {},
   "outputs": [
    {
     "data": {
      "text/plain": [
       "238.0"
      ]
     },
     "execution_count": 25,
     "metadata": {},
     "output_type": "execute_result"
    }
   ],
   "source": [
    "grand_mean = np.mean(report)\n",
    "grand_mean"
   ]
  },
  {
   "cell_type": "code",
   "execution_count": 26,
   "id": "innovative-theater",
   "metadata": {},
   "outputs": [
    {
     "data": {
      "text/plain": [
       "15240.0"
      ]
     },
     "execution_count": 26,
     "metadata": {},
     "output_type": "execute_result"
    }
   ],
   "source": [
    "# Sum of Squares total\n",
    "SST = np.square(report - grand_mean).sum()\n",
    "SST"
   ]
  },
  {
   "cell_type": "code",
   "execution_count": 32,
   "id": "bulgarian-geography",
   "metadata": {},
   "outputs": [
    {
     "data": {
      "text/plain": [
       "6240.0"
      ]
     },
     "execution_count": 32,
     "metadata": {},
     "output_type": "execute_result"
    }
   ],
   "source": [
    "# Sum of Squares between\n",
    "SSB = np.square(group_mean - grand_mean).sum() * report.shape[0]\n",
    "SSB"
   ]
  },
  {
   "cell_type": "code",
   "execution_count": 33,
   "id": "democratic-colleague",
   "metadata": {},
   "outputs": [
    {
     "data": {
      "text/plain": [
       "9000.0"
      ]
     },
     "execution_count": 33,
     "metadata": {},
     "output_type": "execute_result"
    }
   ],
   "source": [
    "# Sum of Squares within\n",
    "SSW = np.square(report - group_mean).sum() \n",
    "SSW"
   ]
  },
  {
   "cell_type": "code",
   "execution_count": 34,
   "id": "exceptional-thirty",
   "metadata": {},
   "outputs": [],
   "source": [
    "# df of SSW\n",
    "df_w = nobs - n_groups\n",
    "# df of SSB\n",
    "df_b = n_groups - 1"
   ]
  },
  {
   "cell_type": "code",
   "execution_count": 35,
   "id": "accurate-search",
   "metadata": {},
   "outputs": [
    {
     "data": {
      "text/plain": [
       "3120.0"
      ]
     },
     "execution_count": 35,
     "metadata": {},
     "output_type": "execute_result"
    }
   ],
   "source": [
    "# between group mean square\n",
    "MSB = SSB / df_b\n",
    "MSB"
   ]
  },
  {
   "cell_type": "code",
   "execution_count": 36,
   "id": "shaped-findings",
   "metadata": {},
   "outputs": [
    {
     "data": {
      "text/plain": [
       "750.0"
      ]
     },
     "execution_count": 36,
     "metadata": {},
     "output_type": "execute_result"
    }
   ],
   "source": [
    "# within group mean square\n",
    "MSW = SSW / df_w\n",
    "MSW"
   ]
  },
  {
   "cell_type": "code",
   "execution_count": 37,
   "id": "nearby-korean",
   "metadata": {},
   "outputs": [
    {
     "data": {
      "text/plain": [
       "4.16"
      ]
     },
     "execution_count": 37,
     "metadata": {},
     "output_type": "execute_result"
    }
   ],
   "source": [
    "# F ratio\n",
    "F = MSB / MSW\n",
    "F"
   ]
  },
  {
   "cell_type": "code",
   "execution_count": 39,
   "id": "romance-hayes",
   "metadata": {},
   "outputs": [
    {
     "data": {
      "text/plain": [
       "0.0424175181764751"
      ]
     },
     "execution_count": 39,
     "metadata": {},
     "output_type": "execute_result"
    }
   ],
   "source": [
    "# p-value\n",
    "p_value = 1 - f.cdf(F, df_b, df_w)\n",
    "p_value"
   ]
  },
  {
   "cell_type": "markdown",
   "id": "consecutive-reform",
   "metadata": {},
   "source": [
    "Since the P-value (0.04) in our experiment is smaller than the significance level (0.05), we reject the null hypothesis that drug dosage had no effect on cholesterol level. And we conclude that the mean cholesterol level in at least one treatment group differed significantly from the mean cholesterol level in another group."
   ]
  },
  {
   "cell_type": "code",
   "execution_count": 41,
   "id": "incoming-madrid",
   "metadata": {},
   "outputs": [
    {
     "data": {
      "text/plain": [
       "0.4094488188976378"
      ]
     },
     "execution_count": 41,
     "metadata": {},
     "output_type": "execute_result"
    }
   ],
   "source": [
    "# measure of effect size (exactly like R-squared)\n",
    "eta = SSB / SST\n",
    "eta"
   ]
  },
  {
   "cell_type": "markdown",
   "id": "reflected-decrease",
   "metadata": {},
   "source": [
    "41% variance of the dependent variable(cholesterol level) can be explained by the variance of the independent variable(dosage level)"
   ]
  },
  {
   "cell_type": "markdown",
   "id": "suspected-poetry",
   "metadata": {},
   "source": [
    "## Solve by using tools"
   ]
  },
  {
   "cell_type": "code",
   "execution_count": 46,
   "id": "radio-internet",
   "metadata": {},
   "outputs": [],
   "source": [
    "from scipy.stats import f_oneway"
   ]
  },
  {
   "cell_type": "code",
   "execution_count": 47,
   "id": "numerous-security",
   "metadata": {},
   "outputs": [
    {
     "data": {
      "text/plain": [
       "\u001b[0;31mSignature:\u001b[0m \u001b[0mf_oneway\u001b[0m\u001b[0;34m(\u001b[0m\u001b[0;34m*\u001b[0m\u001b[0margs\u001b[0m\u001b[0;34m,\u001b[0m \u001b[0maxis\u001b[0m\u001b[0;34m=\u001b[0m\u001b[0;36m0\u001b[0m\u001b[0;34m)\u001b[0m\u001b[0;34m\u001b[0m\u001b[0;34m\u001b[0m\u001b[0m\n",
       "\u001b[0;31mDocstring:\u001b[0m\n",
       "Perform one-way ANOVA.\n",
       "\n",
       "The one-way ANOVA tests the null hypothesis that two or more groups have\n",
       "the same population mean.  The test is applied to samples from two or\n",
       "more groups, possibly with differing sizes.\n",
       "\n",
       "Parameters\n",
       "----------\n",
       "sample1, sample2, ... : array_like\n",
       "    The sample measurements for each group.  There must be at least\n",
       "    two arguments.  If the arrays are multidimensional, then all the\n",
       "    dimensions of the array must be the same except for `axis`.\n",
       "axis : int, optional\n",
       "    Axis of the input arrays along which the test is applied.\n",
       "    Default is 0.\n",
       "\n",
       "Returns\n",
       "-------\n",
       "statistic : float\n",
       "    The computed F statistic of the test.\n",
       "pvalue : float\n",
       "    The associated p-value from the F distribution.\n",
       "\n",
       "Warns\n",
       "-----\n",
       "F_onewayConstantInputWarning\n",
       "    Raised if each of the input arrays is constant array.\n",
       "    In this case the F statistic is either infinite or isn't defined,\n",
       "    so ``np.inf`` or ``np.nan`` is returned.\n",
       "\n",
       "F_onewayBadInputSizesWarning\n",
       "    Raised if the length of any input array is 0, or if all the input\n",
       "    arrays have length 1.  ``np.nan`` is returned for the F statistic\n",
       "    and the p-value in these cases.\n",
       "\n",
       "Notes\n",
       "-----\n",
       "The ANOVA test has important assumptions that must be satisfied in order\n",
       "for the associated p-value to be valid.\n",
       "\n",
       "1. The samples are independent.\n",
       "2. Each sample is from a normally distributed population.\n",
       "3. The population standard deviations of the groups are all equal.  This\n",
       "   property is known as homoscedasticity.\n",
       "\n",
       "If these assumptions are not true for a given set of data, it may still\n",
       "be possible to use the Kruskal-Wallis H-test (`scipy.stats.kruskal`)\n",
       "although with some loss of power.\n",
       "\n",
       "The length of each group must be at least one, and there must be at\n",
       "least one group with length greater than one.  If these conditions\n",
       "are not satisfied, a warning is generated and (``np.nan``, ``np.nan``)\n",
       "is returned.\n",
       "\n",
       "If each group contains constant values, and there exist at least two\n",
       "groups with different values, the function generates a warning and\n",
       "returns (``np.inf``, 0).\n",
       "\n",
       "If all values in all groups are the same, function generates a warning\n",
       "and returns (``np.nan``, ``np.nan``).\n",
       "\n",
       "The algorithm is from Heiman [2]_, pp.394-7.\n",
       "\n",
       "References\n",
       "----------\n",
       ".. [1] R. Lowry, \"Concepts and Applications of Inferential Statistics\",\n",
       "       Chapter 14, 2014, http://vassarstats.net/textbook/\n",
       "\n",
       ".. [2] G.W. Heiman, \"Understanding research methods and statistics: An\n",
       "       integrated introduction for psychology\", Houghton, Mifflin and\n",
       "       Company, 2001.\n",
       "\n",
       ".. [3] G.H. McDonald, \"Handbook of Biological Statistics\", One-way ANOVA.\n",
       "       http://www.biostathandbook.com/onewayanova.html\n",
       "\n",
       "Examples\n",
       "--------\n",
       ">>> from scipy.stats import f_oneway\n",
       "\n",
       "Here are some data [3]_ on a shell measurement (the length of the anterior\n",
       "adductor muscle scar, standardized by dividing by length) in the mussel\n",
       "Mytilus trossulus from five locations: Tillamook, Oregon; Newport, Oregon;\n",
       "Petersburg, Alaska; Magadan, Russia; and Tvarminne, Finland, taken from a\n",
       "much larger data set used in McDonald et al. (1991).\n",
       "\n",
       ">>> tillamook = [0.0571, 0.0813, 0.0831, 0.0976, 0.0817, 0.0859, 0.0735,\n",
       "...              0.0659, 0.0923, 0.0836]\n",
       ">>> newport = [0.0873, 0.0662, 0.0672, 0.0819, 0.0749, 0.0649, 0.0835,\n",
       "...            0.0725]\n",
       ">>> petersburg = [0.0974, 0.1352, 0.0817, 0.1016, 0.0968, 0.1064, 0.105]\n",
       ">>> magadan = [0.1033, 0.0915, 0.0781, 0.0685, 0.0677, 0.0697, 0.0764,\n",
       "...            0.0689]\n",
       ">>> tvarminne = [0.0703, 0.1026, 0.0956, 0.0973, 0.1039, 0.1045]\n",
       ">>> f_oneway(tillamook, newport, petersburg, magadan, tvarminne)\n",
       "F_onewayResult(statistic=7.121019471642447, pvalue=0.0002812242314534544)\n",
       "\n",
       "`f_oneway` accepts multidimensional input arrays.  When the inputs\n",
       "are multidimensional and `axis` is not given, the test is performed\n",
       "along the first axis of the input arrays.  For the following data, the\n",
       "test is performed three times, once for each column.\n",
       "\n",
       ">>> a = np.array([[9.87, 9.03, 6.81],\n",
       "...               [7.18, 8.35, 7.00],\n",
       "...               [8.39, 7.58, 7.68],\n",
       "...               [7.45, 6.33, 9.35],\n",
       "...               [6.41, 7.10, 9.33],\n",
       "...               [8.00, 8.24, 8.44]])\n",
       ">>> b = np.array([[6.35, 7.30, 7.16],\n",
       "...               [6.65, 6.68, 7.63],\n",
       "...               [5.72, 7.73, 6.72],\n",
       "...               [7.01, 9.19, 7.41],\n",
       "...               [7.75, 7.87, 8.30],\n",
       "...               [6.90, 7.97, 6.97]])\n",
       ">>> c = np.array([[3.31, 8.77, 1.01],\n",
       "...               [8.25, 3.24, 3.62],\n",
       "...               [6.32, 8.81, 5.19],\n",
       "...               [7.48, 8.83, 8.91],\n",
       "...               [8.59, 6.01, 6.07],\n",
       "...               [3.07, 9.72, 7.48]])\n",
       ">>> F, p = f_oneway(a, b, c)\n",
       ">>> F\n",
       "array([1.75676344, 0.03701228, 3.76439349])\n",
       ">>> p\n",
       "array([0.20630784, 0.96375203, 0.04733157])\n",
       "\u001b[0;31mFile:\u001b[0m      ~/anaconda3/lib/python3.7/site-packages/scipy/stats/stats.py\n",
       "\u001b[0;31mType:\u001b[0m      function\n"
      ]
     },
     "metadata": {},
     "output_type": "display_data"
    }
   ],
   "source": [
    "?f_oneway"
   ]
  },
  {
   "cell_type": "code",
   "execution_count": 49,
   "id": "worst-village",
   "metadata": {},
   "outputs": [
    {
     "data": {
      "text/plain": [
       "F_onewayResult(statistic=4.16, pvalue=0.04241751817647503)"
      ]
     },
     "execution_count": 49,
     "metadata": {},
     "output_type": "execute_result"
    }
   ],
   "source": [
    "# f_oneway(group1_data, group2_data, group3_data, ...)\n",
    "f_oneway(*np.transpose(report))"
   ]
  },
  {
   "cell_type": "markdown",
   "id": "upset-secretariat",
   "metadata": {},
   "source": [
    "## Applied ANOVA in python"
   ]
  },
  {
   "cell_type": "code",
   "execution_count": 82,
   "id": "polish-robert",
   "metadata": {},
   "outputs": [
    {
     "data": {
      "text/html": [
       "<div>\n",
       "<style scoped>\n",
       "    .dataframe tbody tr th:only-of-type {\n",
       "        vertical-align: middle;\n",
       "    }\n",
       "\n",
       "    .dataframe tbody tr th {\n",
       "        vertical-align: top;\n",
       "    }\n",
       "\n",
       "    .dataframe thead th {\n",
       "        text-align: right;\n",
       "    }\n",
       "</style>\n",
       "<table border=\"1\" class=\"dataframe\">\n",
       "  <thead>\n",
       "    <tr style=\"text-align: right;\">\n",
       "      <th></th>\n",
       "      <th>A</th>\n",
       "      <th>B</th>\n",
       "      <th>C</th>\n",
       "      <th>D</th>\n",
       "    </tr>\n",
       "  </thead>\n",
       "  <tbody>\n",
       "    <tr>\n",
       "      <th>0</th>\n",
       "      <td>25</td>\n",
       "      <td>45</td>\n",
       "      <td>30</td>\n",
       "      <td>54</td>\n",
       "    </tr>\n",
       "    <tr>\n",
       "      <th>1</th>\n",
       "      <td>30</td>\n",
       "      <td>55</td>\n",
       "      <td>29</td>\n",
       "      <td>60</td>\n",
       "    </tr>\n",
       "    <tr>\n",
       "      <th>2</th>\n",
       "      <td>28</td>\n",
       "      <td>29</td>\n",
       "      <td>33</td>\n",
       "      <td>51</td>\n",
       "    </tr>\n",
       "    <tr>\n",
       "      <th>3</th>\n",
       "      <td>36</td>\n",
       "      <td>56</td>\n",
       "      <td>37</td>\n",
       "      <td>62</td>\n",
       "    </tr>\n",
       "    <tr>\n",
       "      <th>4</th>\n",
       "      <td>29</td>\n",
       "      <td>40</td>\n",
       "      <td>27</td>\n",
       "      <td>73</td>\n",
       "    </tr>\n",
       "  </tbody>\n",
       "</table>\n",
       "</div>"
      ],
      "text/plain": [
       "    A   B   C   D\n",
       "0  25  45  30  54\n",
       "1  30  55  29  60\n",
       "2  28  29  33  51\n",
       "3  36  56  37  62\n",
       "4  29  40  27  73"
      ]
     },
     "execution_count": 82,
     "metadata": {},
     "output_type": "execute_result"
    }
   ],
   "source": [
    "df = pd.read_table('https://www.reneshbedre.com/assets/posts/anova/onewayanova.txt')\n",
    "df"
   ]
  },
  {
   "cell_type": "code",
   "execution_count": 83,
   "id": "congressional-steal",
   "metadata": {},
   "outputs": [
    {
     "data": {
      "text/html": [
       "<div>\n",
       "<style scoped>\n",
       "    .dataframe tbody tr th:only-of-type {\n",
       "        vertical-align: middle;\n",
       "    }\n",
       "\n",
       "    .dataframe tbody tr th {\n",
       "        vertical-align: top;\n",
       "    }\n",
       "\n",
       "    .dataframe thead th {\n",
       "        text-align: right;\n",
       "    }\n",
       "</style>\n",
       "<table border=\"1\" class=\"dataframe\">\n",
       "  <thead>\n",
       "    <tr style=\"text-align: right;\">\n",
       "      <th></th>\n",
       "      <th>treatments</th>\n",
       "      <th>value</th>\n",
       "    </tr>\n",
       "  </thead>\n",
       "  <tbody>\n",
       "    <tr>\n",
       "      <th>0</th>\n",
       "      <td>A</td>\n",
       "      <td>25</td>\n",
       "    </tr>\n",
       "    <tr>\n",
       "      <th>1</th>\n",
       "      <td>A</td>\n",
       "      <td>30</td>\n",
       "    </tr>\n",
       "    <tr>\n",
       "      <th>2</th>\n",
       "      <td>A</td>\n",
       "      <td>28</td>\n",
       "    </tr>\n",
       "    <tr>\n",
       "      <th>3</th>\n",
       "      <td>A</td>\n",
       "      <td>36</td>\n",
       "    </tr>\n",
       "    <tr>\n",
       "      <th>4</th>\n",
       "      <td>A</td>\n",
       "      <td>29</td>\n",
       "    </tr>\n",
       "    <tr>\n",
       "      <th>5</th>\n",
       "      <td>B</td>\n",
       "      <td>45</td>\n",
       "    </tr>\n",
       "    <tr>\n",
       "      <th>6</th>\n",
       "      <td>B</td>\n",
       "      <td>55</td>\n",
       "    </tr>\n",
       "    <tr>\n",
       "      <th>7</th>\n",
       "      <td>B</td>\n",
       "      <td>29</td>\n",
       "    </tr>\n",
       "    <tr>\n",
       "      <th>8</th>\n",
       "      <td>B</td>\n",
       "      <td>56</td>\n",
       "    </tr>\n",
       "    <tr>\n",
       "      <th>9</th>\n",
       "      <td>B</td>\n",
       "      <td>40</td>\n",
       "    </tr>\n",
       "    <tr>\n",
       "      <th>10</th>\n",
       "      <td>C</td>\n",
       "      <td>30</td>\n",
       "    </tr>\n",
       "    <tr>\n",
       "      <th>11</th>\n",
       "      <td>C</td>\n",
       "      <td>29</td>\n",
       "    </tr>\n",
       "    <tr>\n",
       "      <th>12</th>\n",
       "      <td>C</td>\n",
       "      <td>33</td>\n",
       "    </tr>\n",
       "    <tr>\n",
       "      <th>13</th>\n",
       "      <td>C</td>\n",
       "      <td>37</td>\n",
       "    </tr>\n",
       "    <tr>\n",
       "      <th>14</th>\n",
       "      <td>C</td>\n",
       "      <td>27</td>\n",
       "    </tr>\n",
       "    <tr>\n",
       "      <th>15</th>\n",
       "      <td>D</td>\n",
       "      <td>54</td>\n",
       "    </tr>\n",
       "    <tr>\n",
       "      <th>16</th>\n",
       "      <td>D</td>\n",
       "      <td>60</td>\n",
       "    </tr>\n",
       "    <tr>\n",
       "      <th>17</th>\n",
       "      <td>D</td>\n",
       "      <td>51</td>\n",
       "    </tr>\n",
       "    <tr>\n",
       "      <th>18</th>\n",
       "      <td>D</td>\n",
       "      <td>62</td>\n",
       "    </tr>\n",
       "    <tr>\n",
       "      <th>19</th>\n",
       "      <td>D</td>\n",
       "      <td>73</td>\n",
       "    </tr>\n",
       "  </tbody>\n",
       "</table>\n",
       "</div>"
      ],
      "text/plain": [
       "   treatments  value\n",
       "0           A     25\n",
       "1           A     30\n",
       "2           A     28\n",
       "3           A     36\n",
       "4           A     29\n",
       "5           B     45\n",
       "6           B     55\n",
       "7           B     29\n",
       "8           B     56\n",
       "9           B     40\n",
       "10          C     30\n",
       "11          C     29\n",
       "12          C     33\n",
       "13          C     37\n",
       "14          C     27\n",
       "15          D     54\n",
       "16          D     60\n",
       "17          D     51\n",
       "18          D     62\n",
       "19          D     73"
      ]
     },
     "execution_count": 83,
     "metadata": {},
     "output_type": "execute_result"
    }
   ],
   "source": [
    "# tidy data\n",
    "data =df.melt(var_name = 'treatments')\n",
    "data"
   ]
  },
  {
   "cell_type": "code",
   "execution_count": 17,
   "id": "palestinian-ridge",
   "metadata": {},
   "outputs": [
    {
     "data": {
      "text/plain": [
       "<AxesSubplot:xlabel='treatments', ylabel='value'>"
      ]
     },
     "execution_count": 17,
     "metadata": {},
     "output_type": "execute_result"
    },
    {
     "data": {
      "image/png": "[encoded data removed]",
      "text/plain": [
       "<Figure size 432x288 with 1 Axes>"
      ]
     },
     "metadata": {
      "needs_background": "light"
     },
     "output_type": "display_data"
    }
   ],
   "source": [
    "# use boxplot to see the data distribution by treatments\n",
    "sns.boxplot(data = df, x = 'treatments', y = 'value', color = 'cyan')\n",
    "sns.swarmplot(data = df, x = 'treatments', y = 'value', color = 'red')"
   ]
  },
  {
   "cell_type": "code",
   "execution_count": 22,
   "id": "unnecessary-gambling",
   "metadata": {},
   "outputs": [
    {
     "data": {
      "text/plain": [
       "F_onewayResult(statistic=17.492810457516338, pvalue=2.639241146210922e-05)"
      ]
     },
     "execution_count": 22,
     "metadata": {},
     "output_type": "execute_result"
    }
   ],
   "source": [
    "f_oneway(df['A'], df['B'], df['C'], df['D'])"
   ]
  },
  {
   "cell_type": "code",
   "execution_count": 30,
   "id": "sensitive-correspondence",
   "metadata": {},
   "outputs": [],
   "source": [
    "# Get ANOVA like R input\n",
    "from statsmodels.formula.api import ols\n",
    "import statsmodels.api as sm"
   ]
  },
  {
   "cell_type": "code",
   "execution_count": 33,
   "id": "preliminary-ancient",
   "metadata": {},
   "outputs": [
    {
     "data": {
      "text/html": [
       "<div>\n",
       "<style scoped>\n",
       "    .dataframe tbody tr th:only-of-type {\n",
       "        vertical-align: middle;\n",
       "    }\n",
       "\n",
       "    .dataframe tbody tr th {\n",
       "        vertical-align: top;\n",
       "    }\n",
       "\n",
       "    .dataframe thead th {\n",
       "        text-align: right;\n",
       "    }\n",
       "</style>\n",
       "<table border=\"1\" class=\"dataframe\">\n",
       "  <thead>\n",
       "    <tr style=\"text-align: right;\">\n",
       "      <th></th>\n",
       "      <th>sum_sq</th>\n",
       "      <th>df</th>\n",
       "      <th>F</th>\n",
       "      <th>PR(&gt;F)</th>\n",
       "    </tr>\n",
       "  </thead>\n",
       "  <tbody>\n",
       "    <tr>\n",
       "      <th>C(treatments)</th>\n",
       "      <td>3010.95</td>\n",
       "      <td>3.0</td>\n",
       "      <td>17.49281</td>\n",
       "      <td>0.000026</td>\n",
       "    </tr>\n",
       "    <tr>\n",
       "      <th>Residual</th>\n",
       "      <td>918.00</td>\n",
       "      <td>16.0</td>\n",
       "      <td>NaN</td>\n",
       "      <td>NaN</td>\n",
       "    </tr>\n",
       "  </tbody>\n",
       "</table>\n",
       "</div>"
      ],
      "text/plain": [
       "                sum_sq    df         F    PR(>F)\n",
       "C(treatments)  3010.95   3.0  17.49281  0.000026\n",
       "Residual        918.00  16.0       NaN       NaN"
      ]
     },
     "execution_count": 33,
     "metadata": {},
     "output_type": "execute_result"
    }
   ],
   "source": [
    "model = ols('value ~ C(treatments)', data = data).fit()\n",
    "table = sm.stats.anova_lm(model, typ=2) # type 2 ANOVA\n",
    "table"
   ]
  },
  {
   "cell_type": "markdown",
   "id": "distinguished-pearl",
   "metadata": {},
   "source": [
    "**Conclusion**: The p-value is significant (p < 0.05). Therefore we conclude that there is a statistically significant differences among treatments."
   ]
  },
  {
   "cell_type": "markdown",
   "id": "incorporated-turkish",
   "metadata": {},
   "source": [
    "### Post hoc Test"
   ]
  },
  {
   "cell_type": "code",
   "execution_count": 84,
   "id": "advised-growth",
   "metadata": {},
   "outputs": [
    {
     "data": {
      "text/html": [
       "<div>\n",
       "<style scoped>\n",
       "    .dataframe tbody tr th:only-of-type {\n",
       "        vertical-align: middle;\n",
       "    }\n",
       "\n",
       "    .dataframe tbody tr th {\n",
       "        vertical-align: top;\n",
       "    }\n",
       "\n",
       "    .dataframe thead th {\n",
       "        text-align: right;\n",
       "    }\n",
       "</style>\n",
       "<table border=\"1\" class=\"dataframe\">\n",
       "  <thead>\n",
       "    <tr style=\"text-align: right;\">\n",
       "      <th></th>\n",
       "      <th>group1</th>\n",
       "      <th>group2</th>\n",
       "      <th>Diff</th>\n",
       "      <th>Lower</th>\n",
       "      <th>Upper</th>\n",
       "      <th>q-value</th>\n",
       "      <th>p-value</th>\n",
       "    </tr>\n",
       "  </thead>\n",
       "  <tbody>\n",
       "    <tr>\n",
       "      <th>0</th>\n",
       "      <td>A</td>\n",
       "      <td>B</td>\n",
       "      <td>15.4</td>\n",
       "      <td>1.692871</td>\n",
       "      <td>29.107129</td>\n",
       "      <td>4.546156</td>\n",
       "      <td>0.025070</td>\n",
       "    </tr>\n",
       "    <tr>\n",
       "      <th>1</th>\n",
       "      <td>A</td>\n",
       "      <td>C</td>\n",
       "      <td>1.6</td>\n",
       "      <td>-12.107129</td>\n",
       "      <td>15.307129</td>\n",
       "      <td>0.472328</td>\n",
       "      <td>0.900000</td>\n",
       "    </tr>\n",
       "    <tr>\n",
       "      <th>2</th>\n",
       "      <td>A</td>\n",
       "      <td>D</td>\n",
       "      <td>30.4</td>\n",
       "      <td>16.692871</td>\n",
       "      <td>44.107129</td>\n",
       "      <td>8.974231</td>\n",
       "      <td>0.001000</td>\n",
       "    </tr>\n",
       "    <tr>\n",
       "      <th>3</th>\n",
       "      <td>B</td>\n",
       "      <td>C</td>\n",
       "      <td>13.8</td>\n",
       "      <td>0.092871</td>\n",
       "      <td>27.507129</td>\n",
       "      <td>4.073828</td>\n",
       "      <td>0.048178</td>\n",
       "    </tr>\n",
       "    <tr>\n",
       "      <th>4</th>\n",
       "      <td>B</td>\n",
       "      <td>D</td>\n",
       "      <td>15.0</td>\n",
       "      <td>1.292871</td>\n",
       "      <td>28.707129</td>\n",
       "      <td>4.428074</td>\n",
       "      <td>0.029578</td>\n",
       "    </tr>\n",
       "    <tr>\n",
       "      <th>5</th>\n",
       "      <td>C</td>\n",
       "      <td>D</td>\n",
       "      <td>28.8</td>\n",
       "      <td>15.092871</td>\n",
       "      <td>42.507129</td>\n",
       "      <td>8.501903</td>\n",
       "      <td>0.001000</td>\n",
       "    </tr>\n",
       "  </tbody>\n",
       "</table>\n",
       "</div>"
      ],
      "text/plain": [
       "  group1 group2  Diff      Lower      Upper   q-value   p-value\n",
       "0      A      B  15.4   1.692871  29.107129  4.546156  0.025070\n",
       "1      A      C   1.6 -12.107129  15.307129  0.472328  0.900000\n",
       "2      A      D  30.4  16.692871  44.107129  8.974231  0.001000\n",
       "3      B      C  13.8   0.092871  27.507129  4.073828  0.048178\n",
       "4      B      D  15.0   1.292871  28.707129  4.428074  0.029578\n",
       "5      C      D  28.8  15.092871  42.507129  8.501903  0.001000"
      ]
     },
     "execution_count": 84,
     "metadata": {},
     "output_type": "execute_result"
    }
   ],
   "source": [
    "from bioinfokit.analys import stat\n",
    "res = stat()\n",
    "res.tukey_hsd(df=data, res_var='value', xfac_var='treatments', anova_model='value ~ C(treatments)')\n",
    "res.tukey_summary"
   ]
  },
  {
   "cell_type": "markdown",
   "id": "deluxe-climate",
   "metadata": {},
   "source": [
    "### Test ANOVA assumpsions"
   ]
  },
  {
   "cell_type": "markdown",
   "id": "aerial-venue",
   "metadata": {},
   "source": [
    "1. Normal assumption"
   ]
  },
  {
   "cell_type": "code",
   "execution_count": 59,
   "id": "labeled-edinburgh",
   "metadata": {},
   "outputs": [
    {
     "name": "stdout",
     "output_type": "stream",
     "text": [
      "A ShapiroResult(statistic=0.9316344261169434, pvalue=0.6075581908226013)\n",
      "B ShapiroResult(statistic=0.9264494776725769, pvalue=0.5723667740821838)\n",
      "C ShapiroResult(statistic=0.9529604315757751, pvalue=0.7583119869232178)\n",
      "D ShapiroResult(statistic=0.9448273181915283, pvalue=0.7002365589141846)\n"
     ]
    }
   ],
   "source": [
    "# shapiro test, NULL hypothesis: sample are drawn from a normal distribution\n",
    "from scipy.stats import shapiro\n",
    "for col_name, column in df.iteritems():\n",
    "    print(col_name, shapiro(column))"
   ]
  },
  {
   "cell_type": "markdown",
   "id": "vulnerable-process",
   "metadata": {},
   "source": [
    "2. Independence"
   ]
  },
  {
   "cell_type": "markdown",
   "id": "formal-fitness",
   "metadata": {},
   "source": [
    "3. Equal Variance"
   ]
  },
  {
   "cell_type": "code",
   "execution_count": 61,
   "id": "private-charter",
   "metadata": {},
   "outputs": [
    {
     "data": {
      "text/plain": [
       "BartlettResult(statistic=5.687843565012841, pvalue=0.1278253399753447)"
      ]
     },
     "execution_count": 61,
     "metadata": {},
     "output_type": "execute_result"
    }
   ],
   "source": [
    "from scipy.stats import bartlett, levene # read help to know which one to choose\n",
    "# null hypothesis: equal variance\n",
    "bartlett(df['A'], df['B'], df['C'], df['D'])"
   ]
  },
  {
   "cell_type": "markdown",
   "id": "accredited-measure",
   "metadata": {},
   "source": [
    "p_value < 0.05, fail to result the null hypothesis that the variance of each group is equal"
   ]
  },
  {
   "cell_type": "code",
   "execution_count": 62,
   "id": "thick-channel",
   "metadata": {},
   "outputs": [
    {
     "data": {
      "text/plain": [
       "LeveneResult(statistic=1.9219593192195938, pvalue=0.16673281219949276)"
      ]
     },
     "execution_count": 62,
     "metadata": {},
     "output_type": "execute_result"
    }
   ],
   "source": [
    "levene(df['A'], df['B'], df['C'], df['D'])"
   ]
  },
  {
   "cell_type": "markdown",
   "id": "educational-infrared",
   "metadata": {},
   "source": [
    "# Two-way ANOVA"
   ]
  },
  {
   "cell_type": "markdown",
   "id": "hungry-batman",
   "metadata": {},
   "source": [
    "## From scratch"
   ]
  },
  {
   "cell_type": "code",
   "execution_count": 5,
   "id": "present-natural",
   "metadata": {},
   "outputs": [
    {
     "data": {
      "text/html": [
       "<div>\n",
       "<style scoped>\n",
       "    .dataframe tbody tr th:only-of-type {\n",
       "        vertical-align: middle;\n",
       "    }\n",
       "\n",
       "    .dataframe tbody tr th {\n",
       "        vertical-align: top;\n",
       "    }\n",
       "\n",
       "    .dataframe thead th {\n",
       "        text-align: right;\n",
       "    }\n",
       "</style>\n",
       "<table border=\"1\" class=\"dataframe\">\n",
       "  <thead>\n",
       "    <tr style=\"text-align: right;\">\n",
       "      <th></th>\n",
       "      <th>Sydney</th>\n",
       "      <th>New York</th>\n",
       "      <th>L.A</th>\n",
       "    </tr>\n",
       "  </thead>\n",
       "  <tbody>\n",
       "    <tr>\n",
       "      <th>Shopper 0</th>\n",
       "      <td>75</td>\n",
       "      <td>75</td>\n",
       "      <td>90</td>\n",
       "    </tr>\n",
       "    <tr>\n",
       "      <th>Shopper 1</th>\n",
       "      <td>70</td>\n",
       "      <td>70</td>\n",
       "      <td>70</td>\n",
       "    </tr>\n",
       "    <tr>\n",
       "      <th>Shopper 2</th>\n",
       "      <td>50</td>\n",
       "      <td>55</td>\n",
       "      <td>75</td>\n",
       "    </tr>\n",
       "    <tr>\n",
       "      <th>Shopper 3</th>\n",
       "      <td>65</td>\n",
       "      <td>60</td>\n",
       "      <td>85</td>\n",
       "    </tr>\n",
       "    <tr>\n",
       "      <th>Shopper 4</th>\n",
       "      <td>80</td>\n",
       "      <td>65</td>\n",
       "      <td>80</td>\n",
       "    </tr>\n",
       "    <tr>\n",
       "      <th>Shopper 5</th>\n",
       "      <td>65</td>\n",
       "      <td>65</td>\n",
       "      <td>65</td>\n",
       "    </tr>\n",
       "  </tbody>\n",
       "</table>\n",
       "</div>"
      ],
      "text/plain": [
       "           Sydney  New York  L.A\n",
       "Shopper 0      75        75   90\n",
       "Shopper 1      70        70   70\n",
       "Shopper 2      50        55   75\n",
       "Shopper 3      65        60   85\n",
       "Shopper 4      80        65   80\n",
       "Shopper 5      65        65   65"
      ]
     },
     "execution_count": 5,
     "metadata": {},
     "output_type": "execute_result"
    }
   ],
   "source": [
    "shopping = np.array([\n",
    "    75, 75, 90,\n",
    "    70, 70, 70,\n",
    "    50, 55, 75,\n",
    "    65, 60, 85,\n",
    "    80, 65, 80,\n",
    "    65, 65, 65\n",
    "])\n",
    "\n",
    "shopping = pd.DataFrame(shopping.reshape((-1, 3)),\n",
    "                        index=[f'Shopper {i}' for i in range(6)],\n",
    "                        columns=['Sydney', 'New York', 'L.A'])\n",
    "shopping"
   ]
  },
  {
   "cell_type": "code",
   "execution_count": 6,
   "id": "korean-jacket",
   "metadata": {},
   "outputs": [],
   "source": [
    "n_obs = shopping.size\n",
    "n_rows = shopping.shape[0]\n",
    "n_cols = shopping.shape[1]\n",
    "\n",
    "grand_mean = shopping.sum().sum() / n_obs\n",
    "\n",
    "df_r = n_rows - 1\n",
    "df_c = n_cols - 1\n",
    "df_total = n_obs - 1\n",
    "df_e = df_total - df_r - df_c  # equivalent df_r * df_c\n",
    "\n",
    "SST = np.square(shopping - grand_mean).sum().sum()\n",
    "SSR = np.square(shopping.mean(1) - grand_mean).mul(n_cols).sum()\n",
    "SSC = np.square(shopping.mean(0) - grand_mean).mul(n_rows).sum()\n",
    "SSE = SST - SSR - SSC\n",
    "\n",
    "MST = SST / df_total\n",
    "MSC = SSC / df_c\n",
    "MSR = SSR / df_r\n",
    "MSE = SSE / df_e\n",
    "\n",
    "\n",
    "F_c = MSC / MSE\n",
    "F_r = MSR / MSE\n",
    "\n",
    "p_value_c = 1 - f.cdf(F_c, df_c, df_e)\n",
    "p_value_r = 1 - f.cdf(F_r, df_r, df_e)"
   ]
  },
  {
   "cell_type": "code",
   "execution_count": 10,
   "id": "willing-linux",
   "metadata": {},
   "outputs": [
    {
     "data": {
      "text/html": [
       "<div>\n",
       "<style scoped>\n",
       "    .dataframe tbody tr th:only-of-type {\n",
       "        vertical-align: middle;\n",
       "    }\n",
       "\n",
       "    .dataframe tbody tr th {\n",
       "        vertical-align: top;\n",
       "    }\n",
       "\n",
       "    .dataframe thead th {\n",
       "        text-align: right;\n",
       "    }\n",
       "</style>\n",
       "<table border=\"1\" class=\"dataframe\">\n",
       "  <thead>\n",
       "    <tr style=\"text-align: right;\">\n",
       "      <th></th>\n",
       "      <th>Sum of Squares</th>\n",
       "      <th>df</th>\n",
       "      <th>Mean Square</th>\n",
       "      <th>F</th>\n",
       "      <th>p_value</th>\n",
       "    </tr>\n",
       "  </thead>\n",
       "  <tbody>\n",
       "    <tr>\n",
       "      <th>SST</th>\n",
       "      <td>1750.0</td>\n",
       "      <td>17</td>\n",
       "      <td>102.941176</td>\n",
       "      <td>NaN</td>\n",
       "      <td>NaN</td>\n",
       "    </tr>\n",
       "    <tr>\n",
       "      <th>SSR</th>\n",
       "      <td>750.0</td>\n",
       "      <td>5</td>\n",
       "      <td>150.000000</td>\n",
       "      <td>3.157895</td>\n",
       "      <td>0.057399</td>\n",
       "    </tr>\n",
       "    <tr>\n",
       "      <th>SSC</th>\n",
       "      <td>525.0</td>\n",
       "      <td>2</td>\n",
       "      <td>262.500000</td>\n",
       "      <td>5.526316</td>\n",
       "      <td>0.024181</td>\n",
       "    </tr>\n",
       "    <tr>\n",
       "      <th>SSE</th>\n",
       "      <td>475.0</td>\n",
       "      <td>10</td>\n",
       "      <td>47.500000</td>\n",
       "      <td>NaN</td>\n",
       "      <td>NaN</td>\n",
       "    </tr>\n",
       "  </tbody>\n",
       "</table>\n",
       "</div>"
      ],
      "text/plain": [
       "     Sum of Squares  df  Mean Square         F   p_value\n",
       "SST          1750.0  17   102.941176       NaN       NaN\n",
       "SSR           750.0   5   150.000000  3.157895  0.057399\n",
       "SSC           525.0   2   262.500000  5.526316  0.024181\n",
       "SSE           475.0  10    47.500000       NaN       NaN"
      ]
     },
     "execution_count": 10,
     "metadata": {},
     "output_type": "execute_result"
    }
   ],
   "source": [
    "pd.DataFrame([\n",
    "    [SST, df_total, MST, None,None],\n",
    "    [SSR, df_r, MSR, F_r, p_value_r],\n",
    "    [SSC, df_c, MSC, F_c, p_value_c],\n",
    "    [SSE, df_e, MSE, None, None]\n",
    "], \n",
    "columns = ['Sum of Squares', 'df', 'Mean Square', 'F', 'p_value'],\n",
    "index = ['SST', 'SSR', 'SSC', 'SSE'])"
   ]
  },
  {
   "cell_type": "markdown",
   "id": "apparent-indication",
   "metadata": {},
   "source": [
    "Confidence level 5%\n",
    "P_value SSC < 5% so we have strong evidence against the null hypothesis that the mean of different cities are the same."
   ]
  },
  {
   "cell_type": "markdown",
   "id": "manual-newton",
   "metadata": {},
   "source": [
    "## Applied Two-way ANOVA in python"
   ]
  },
  {
   "cell_type": "code",
   "execution_count": 70,
   "id": "joined-omaha",
   "metadata": {},
   "outputs": [
    {
     "data": {
      "text/html": [
       "<div>\n",
       "<style scoped>\n",
       "    .dataframe tbody tr th:only-of-type {\n",
       "        vertical-align: middle;\n",
       "    }\n",
       "\n",
       "    .dataframe tbody tr th {\n",
       "        vertical-align: top;\n",
       "    }\n",
       "\n",
       "    .dataframe thead th {\n",
       "        text-align: right;\n",
       "    }\n",
       "</style>\n",
       "<table border=\"1\" class=\"dataframe\">\n",
       "  <thead>\n",
       "    <tr style=\"text-align: right;\">\n",
       "      <th></th>\n",
       "      <th>Genotype</th>\n",
       "      <th>1_year</th>\n",
       "      <th>2_year</th>\n",
       "      <th>3_year</th>\n",
       "    </tr>\n",
       "  </thead>\n",
       "  <tbody>\n",
       "    <tr>\n",
       "      <th>0</th>\n",
       "      <td>A</td>\n",
       "      <td>1.53</td>\n",
       "      <td>4.08</td>\n",
       "      <td>6.69</td>\n",
       "    </tr>\n",
       "    <tr>\n",
       "      <th>1</th>\n",
       "      <td>A</td>\n",
       "      <td>1.83</td>\n",
       "      <td>3.84</td>\n",
       "      <td>5.97</td>\n",
       "    </tr>\n",
       "    <tr>\n",
       "      <th>2</th>\n",
       "      <td>A</td>\n",
       "      <td>1.38</td>\n",
       "      <td>3.96</td>\n",
       "      <td>6.33</td>\n",
       "    </tr>\n",
       "    <tr>\n",
       "      <th>3</th>\n",
       "      <td>B</td>\n",
       "      <td>3.60</td>\n",
       "      <td>5.70</td>\n",
       "      <td>8.55</td>\n",
       "    </tr>\n",
       "    <tr>\n",
       "      <th>4</th>\n",
       "      <td>B</td>\n",
       "      <td>2.94</td>\n",
       "      <td>5.07</td>\n",
       "      <td>7.95</td>\n",
       "    </tr>\n",
       "    <tr>\n",
       "      <th>5</th>\n",
       "      <td>B</td>\n",
       "      <td>4.02</td>\n",
       "      <td>7.20</td>\n",
       "      <td>8.94</td>\n",
       "    </tr>\n",
       "    <tr>\n",
       "      <th>6</th>\n",
       "      <td>C</td>\n",
       "      <td>3.99</td>\n",
       "      <td>6.09</td>\n",
       "      <td>10.02</td>\n",
       "    </tr>\n",
       "    <tr>\n",
       "      <th>7</th>\n",
       "      <td>C</td>\n",
       "      <td>3.30</td>\n",
       "      <td>5.88</td>\n",
       "      <td>9.63</td>\n",
       "    </tr>\n",
       "    <tr>\n",
       "      <th>8</th>\n",
       "      <td>C</td>\n",
       "      <td>4.41</td>\n",
       "      <td>6.51</td>\n",
       "      <td>10.38</td>\n",
       "    </tr>\n",
       "    <tr>\n",
       "      <th>9</th>\n",
       "      <td>D</td>\n",
       "      <td>3.75</td>\n",
       "      <td>5.19</td>\n",
       "      <td>11.40</td>\n",
       "    </tr>\n",
       "  </tbody>\n",
       "</table>\n",
       "</div>"
      ],
      "text/plain": [
       "  Genotype  1_year  2_year  3_year\n",
       "0        A    1.53    4.08    6.69\n",
       "1        A    1.83    3.84    5.97\n",
       "2        A    1.38    3.96    6.33\n",
       "3        B    3.60    5.70    8.55\n",
       "4        B    2.94    5.07    7.95\n",
       "5        B    4.02    7.20    8.94\n",
       "6        C    3.99    6.09   10.02\n",
       "7        C    3.30    5.88    9.63\n",
       "8        C    4.41    6.51   10.38\n",
       "9        D    3.75    5.19   11.40"
      ]
     },
     "execution_count": 70,
     "metadata": {},
     "output_type": "execute_result"
    }
   ],
   "source": [
    "df = pd.read_csv('https://www.reneshbedre.com/assets/posts/anova/twowayanova.txt', sep = '\\t')\n",
    "df.head(10)"
   ]
  },
  {
   "cell_type": "code",
   "execution_count": 71,
   "id": "finished-intersection",
   "metadata": {},
   "outputs": [
    {
     "data": {
      "text/html": [
       "<div>\n",
       "<style scoped>\n",
       "    .dataframe tbody tr th:only-of-type {\n",
       "        vertical-align: middle;\n",
       "    }\n",
       "\n",
       "    .dataframe tbody tr th {\n",
       "        vertical-align: top;\n",
       "    }\n",
       "\n",
       "    .dataframe thead th {\n",
       "        text-align: right;\n",
       "    }\n",
       "</style>\n",
       "<table border=\"1\" class=\"dataframe\">\n",
       "  <thead>\n",
       "    <tr style=\"text-align: right;\">\n",
       "      <th></th>\n",
       "      <th>Genotype</th>\n",
       "      <th>year</th>\n",
       "      <th>value</th>\n",
       "    </tr>\n",
       "  </thead>\n",
       "  <tbody>\n",
       "    <tr>\n",
       "      <th>0</th>\n",
       "      <td>A</td>\n",
       "      <td>1_year</td>\n",
       "      <td>1.53</td>\n",
       "    </tr>\n",
       "    <tr>\n",
       "      <th>1</th>\n",
       "      <td>A</td>\n",
       "      <td>1_year</td>\n",
       "      <td>1.83</td>\n",
       "    </tr>\n",
       "    <tr>\n",
       "      <th>2</th>\n",
       "      <td>A</td>\n",
       "      <td>1_year</td>\n",
       "      <td>1.38</td>\n",
       "    </tr>\n",
       "    <tr>\n",
       "      <th>3</th>\n",
       "      <td>B</td>\n",
       "      <td>1_year</td>\n",
       "      <td>3.60</td>\n",
       "    </tr>\n",
       "    <tr>\n",
       "      <th>4</th>\n",
       "      <td>B</td>\n",
       "      <td>1_year</td>\n",
       "      <td>2.94</td>\n",
       "    </tr>\n",
       "    <tr>\n",
       "      <th>5</th>\n",
       "      <td>B</td>\n",
       "      <td>1_year</td>\n",
       "      <td>4.02</td>\n",
       "    </tr>\n",
       "    <tr>\n",
       "      <th>6</th>\n",
       "      <td>C</td>\n",
       "      <td>1_year</td>\n",
       "      <td>3.99</td>\n",
       "    </tr>\n",
       "    <tr>\n",
       "      <th>7</th>\n",
       "      <td>C</td>\n",
       "      <td>1_year</td>\n",
       "      <td>3.30</td>\n",
       "    </tr>\n",
       "    <tr>\n",
       "      <th>8</th>\n",
       "      <td>C</td>\n",
       "      <td>1_year</td>\n",
       "      <td>4.41</td>\n",
       "    </tr>\n",
       "    <tr>\n",
       "      <th>9</th>\n",
       "      <td>D</td>\n",
       "      <td>1_year</td>\n",
       "      <td>3.75</td>\n",
       "    </tr>\n",
       "  </tbody>\n",
       "</table>\n",
       "</div>"
      ],
      "text/plain": [
       "  Genotype    year  value\n",
       "0        A  1_year   1.53\n",
       "1        A  1_year   1.83\n",
       "2        A  1_year   1.38\n",
       "3        B  1_year   3.60\n",
       "4        B  1_year   2.94\n",
       "5        B  1_year   4.02\n",
       "6        C  1_year   3.99\n",
       "7        C  1_year   3.30\n",
       "8        C  1_year   4.41\n",
       "9        D  1_year   3.75"
      ]
     },
     "execution_count": 71,
     "metadata": {},
     "output_type": "execute_result"
    }
   ],
   "source": [
    "data = df.melt(id_vars = 'Genotype', value_vars = ['1_year', '2_year', '3_year'], var_name = 'year')\n",
    "data.head(10)"
   ]
  },
  {
   "cell_type": "code",
   "execution_count": 72,
   "id": "innovative-protein",
   "metadata": {},
   "outputs": [],
   "source": [
    "import statsmodels.api as sm\n",
    "from statsmodels.formula.api import ols"
   ]
  },
  {
   "cell_type": "code",
   "execution_count": 73,
   "id": "mediterranean-module",
   "metadata": {},
   "outputs": [],
   "source": [
    "model = ols('value ~ C(Genotype) + C(year) + C(Genotype)*C(year)', data = data).fit()"
   ]
  },
  {
   "cell_type": "code",
   "execution_count": 75,
   "id": "corrected-cabinet",
   "metadata": {},
   "outputs": [
    {
     "data": {
      "text/html": [
       "<div>\n",
       "<style scoped>\n",
       "    .dataframe tbody tr th:only-of-type {\n",
       "        vertical-align: middle;\n",
       "    }\n",
       "\n",
       "    .dataframe tbody tr th {\n",
       "        vertical-align: top;\n",
       "    }\n",
       "\n",
       "    .dataframe thead th {\n",
       "        text-align: right;\n",
       "    }\n",
       "</style>\n",
       "<table border=\"1\" class=\"dataframe\">\n",
       "  <thead>\n",
       "    <tr style=\"text-align: right;\">\n",
       "      <th></th>\n",
       "      <th>sum_sq</th>\n",
       "      <th>df</th>\n",
       "      <th>F</th>\n",
       "      <th>PR(&gt;F)</th>\n",
       "    </tr>\n",
       "  </thead>\n",
       "  <tbody>\n",
       "    <tr>\n",
       "      <th>C(Genotype)</th>\n",
       "      <td>58.551733</td>\n",
       "      <td>5.0</td>\n",
       "      <td>32.748581</td>\n",
       "      <td>1.931655e-12</td>\n",
       "    </tr>\n",
       "    <tr>\n",
       "      <th>C(year)</th>\n",
       "      <td>278.925633</td>\n",
       "      <td>2.0</td>\n",
       "      <td>390.014868</td>\n",
       "      <td>4.006243e-25</td>\n",
       "    </tr>\n",
       "    <tr>\n",
       "      <th>C(Genotype):C(year)</th>\n",
       "      <td>17.122967</td>\n",
       "      <td>10.0</td>\n",
       "      <td>4.788525</td>\n",
       "      <td>2.230094e-04</td>\n",
       "    </tr>\n",
       "    <tr>\n",
       "      <th>Residual</th>\n",
       "      <td>12.873000</td>\n",
       "      <td>36.0</td>\n",
       "      <td>NaN</td>\n",
       "      <td>NaN</td>\n",
       "    </tr>\n",
       "  </tbody>\n",
       "</table>\n",
       "</div>"
      ],
      "text/plain": [
       "                         sum_sq    df           F        PR(>F)\n",
       "C(Genotype)           58.551733   5.0   32.748581  1.931655e-12\n",
       "C(year)              278.925633   2.0  390.014868  4.006243e-25\n",
       "C(Genotype):C(year)   17.122967  10.0    4.788525  2.230094e-04\n",
       "Residual              12.873000  36.0         NaN           NaN"
      ]
     },
     "execution_count": 75,
     "metadata": {},
     "output_type": "execute_result"
    }
   ],
   "source": [
    "sm.stats.anova_lm(model, typ=2)"
   ]
  },
  {
   "cell_type": "markdown",
   "id": "western-civilization",
   "metadata": {},
   "source": [
    "**Interpretation**  \n",
    "The p value obtained from ANOVA analysis for genotype, years, and interaction are statistically significant (p<0.05). We conclude that type of genotype significantly affects the yield outcome, time (years) significantly affects the yield outcome, and interaction of both genotype and time (years) significantly affects the yield outcome.\n",
    "\n",
    "As the interaction is significant, let’s visualize the interaction plot (also called profile plot) for interaction effects,"
   ]
  },
  {
   "cell_type": "code",
   "execution_count": 79,
   "id": "instrumental-destruction",
   "metadata": {},
   "outputs": [
    {
     "data": {
      "text/plain": [
       "<AxesSubplot:xlabel='Genotype', ylabel='value'>"
      ]
     },
     "execution_count": 79,
     "metadata": {},
     "output_type": "execute_result"
    },
    {
     "data": {
      "image/png": "[encoded data removed]",
      "text/plain": [
       "<Figure size 432x288 with 1 Axes>"
      ]
     },
     "metadata": {
      "needs_background": "light"
     },
     "output_type": "display_data"
    }
   ],
   "source": [
    "sns.pointplot(data = data, x = 'Genotype', y = 'value', hue = 'year')"
   ]
  },
  {
   "cell_type": "markdown",
   "id": "outstanding-beaver",
   "metadata": {},
   "source": [
    "From the interaction plot, the interaction effect is significant between the Genotype and years because three lines are not parallel (roughly parallel factor lines indicate no interaction - additive model). This interaction is also called ordinal interaction as the lines do not cross each other."
   ]
  },
  {
   "cell_type": "code",
   "execution_count": 81,
   "id": "loaded-abortion",
   "metadata": {},
   "outputs": [
    {
     "ename": "SyntaxError",
     "evalue": "invalid syntax (<ipython-input-81-50877b6c88ac>, line 1)",
     "output_type": "error",
     "traceback": [
      "\u001b[0;36m  File \u001b[0;32m\"<ipython-input-81-50877b6c88ac>\"\u001b[0;36m, line \u001b[0;32m1\u001b[0m\n\u001b[0;31m    :w\u001b[0m\n\u001b[0m    ^\u001b[0m\n\u001b[0;31mSyntaxError\u001b[0m\u001b[0;31m:\u001b[0m invalid syntax\n"
     ]
    }
   ],
   "source": [
    "\n"
   ]
  },
  {
   "cell_type": "code",
   "execution_count": null,
   "id": "blond-prior",
   "metadata": {},
   "outputs": [],
   "source": []
  }
 ],
 "metadata": {
  "kernelspec": {
   "display_name": "Python 3",
   "language": "python",
   "name": "python3"
  },
  "language_info": {
   "codemirror_mode": {
    "name": "ipython",
    "version": 3
   },
   "file_extension": ".py",
   "mimetype": "text/x-python",
   "name": "python",
   "nbconvert_exporter": "python",
   "pygments_lexer": "ipython3",
   "version": "3.7.9"
  }
 },
 "nbformat": 4,
 "nbformat_minor": 5
}
