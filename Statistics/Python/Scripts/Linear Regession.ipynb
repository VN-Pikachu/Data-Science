{
 "cells": [
  {
   "cell_type": "markdown",
   "id": "loose-underwear",
   "metadata": {},
   "source": [
    "Reference: <https://stattrek.com/multiple-regression/regression-equation.aspx?tutorial=reg>"
   ]
  },
  {
   "cell_type": "markdown",
   "id": "working-abraham",
   "metadata": {},
   "source": [
    "# Liner Regression"
   ]
  },
  {
   "cell_type": "code",
   "execution_count": 1,
   "id": "sharing-labor",
   "metadata": {},
   "outputs": [],
   "source": [
    "from statsmodels.formula.api import ols"
   ]
  },
  {
   "cell_type": "code",
   "execution_count": 16,
   "id": "celtic-color",
   "metadata": {},
   "outputs": [],
   "source": [
    "# use ols model for linear regression (or sklearn)\n",
    "# see help for more\n",
    "# ?ols"
   ]
  },
  {
   "cell_type": "markdown",
   "id": "unusual-variation",
   "metadata": {},
   "source": [
    "# Multiple Regressions"
   ]
  },
  {
   "cell_type": "code",
   "execution_count": 1,
   "id": "hungry-college",
   "metadata": {},
   "outputs": [],
   "source": [
    "import matplotlib.pyplot as plt\n",
    "import numpy as np\n",
    "import pandas as pd\n",
    "from numpy import linalg\n",
    "from statsmodels.formula.api import ols\n",
    "import statsmodels.api as sm\n"
   ]
  },
  {
   "cell_type": "markdown",
   "id": "prompt-blowing",
   "metadata": {},
   "source": [
    "Predict test score from IQ and study hours"
   ]
  },
  {
   "cell_type": "code",
   "execution_count": 2,
   "id": "powered-bachelor",
   "metadata": {},
   "outputs": [
    {
     "data": {
      "text/html": [
       "<div>\n",
       "<style scoped>\n",
       "    .dataframe tbody tr th:only-of-type {\n",
       "        vertical-align: middle;\n",
       "    }\n",
       "\n",
       "    .dataframe tbody tr th {\n",
       "        vertical-align: top;\n",
       "    }\n",
       "\n",
       "    .dataframe thead th {\n",
       "        text-align: right;\n",
       "    }\n",
       "</style>\n",
       "<table border=\"1\" class=\"dataframe\">\n",
       "  <thead>\n",
       "    <tr style=\"text-align: right;\">\n",
       "      <th></th>\n",
       "      <th>id</th>\n",
       "      <th>test score</th>\n",
       "      <th>IQ</th>\n",
       "      <th>study hours</th>\n",
       "    </tr>\n",
       "  </thead>\n",
       "  <tbody>\n",
       "    <tr>\n",
       "      <th>0</th>\n",
       "      <td>1</td>\n",
       "      <td>100</td>\n",
       "      <td>125</td>\n",
       "      <td>30</td>\n",
       "    </tr>\n",
       "    <tr>\n",
       "      <th>1</th>\n",
       "      <td>2</td>\n",
       "      <td>95</td>\n",
       "      <td>104</td>\n",
       "      <td>40</td>\n",
       "    </tr>\n",
       "    <tr>\n",
       "      <th>2</th>\n",
       "      <td>3</td>\n",
       "      <td>92</td>\n",
       "      <td>110</td>\n",
       "      <td>25</td>\n",
       "    </tr>\n",
       "    <tr>\n",
       "      <th>3</th>\n",
       "      <td>4</td>\n",
       "      <td>90</td>\n",
       "      <td>105</td>\n",
       "      <td>20</td>\n",
       "    </tr>\n",
       "    <tr>\n",
       "      <th>4</th>\n",
       "      <td>5</td>\n",
       "      <td>85</td>\n",
       "      <td>100</td>\n",
       "      <td>20</td>\n",
       "    </tr>\n",
       "    <tr>\n",
       "      <th>5</th>\n",
       "      <td>6</td>\n",
       "      <td>80</td>\n",
       "      <td>100</td>\n",
       "      <td>20</td>\n",
       "    </tr>\n",
       "    <tr>\n",
       "      <th>6</th>\n",
       "      <td>7</td>\n",
       "      <td>78</td>\n",
       "      <td>95</td>\n",
       "      <td>15</td>\n",
       "    </tr>\n",
       "    <tr>\n",
       "      <th>7</th>\n",
       "      <td>8</td>\n",
       "      <td>75</td>\n",
       "      <td>95</td>\n",
       "      <td>10</td>\n",
       "    </tr>\n",
       "    <tr>\n",
       "      <th>8</th>\n",
       "      <td>9</td>\n",
       "      <td>72</td>\n",
       "      <td>85</td>\n",
       "      <td>0</td>\n",
       "    </tr>\n",
       "    <tr>\n",
       "      <th>9</th>\n",
       "      <td>10</td>\n",
       "      <td>65</td>\n",
       "      <td>90</td>\n",
       "      <td>5</td>\n",
       "    </tr>\n",
       "  </tbody>\n",
       "</table>\n",
       "</div>"
      ],
      "text/plain": [
       "   id  test score   IQ  study hours\n",
       "0   1         100  125           30\n",
       "1   2          95  104           40\n",
       "2   3          92  110           25\n",
       "3   4          90  105           20\n",
       "4   5          85  100           20\n",
       "5   6          80  100           20\n",
       "6   7          78   95           15\n",
       "7   8          75   95           10\n",
       "8   9          72   85            0\n",
       "9  10          65   90            5"
      ]
     },
     "execution_count": 2,
     "metadata": {},
     "output_type": "execute_result"
    }
   ],
   "source": [
    "data = [\n",
    "[1,\t100,\t125,\t30],\n",
    "[2\t,95,\t104,\t40],\n",
    "[3\t,92,\t110,\t25],\n",
    "[4,\t90,\t105,\t20],\n",
    "[5,\t85,\t100,\t20],\n",
    "[6,\t80,\t100,\t20],\n",
    "[7,\t78,\t95,\t15],\n",
    "[8,\t75,\t95,\t10],\n",
    "[9,\t72,\t85,\t0],\n",
    "[10,\t65,\t90,\t5]]\n",
    "\n",
    "student = pd.DataFrame(data, columns=['id', 'test score', 'IQ', 'study hours'])\n",
    "student"
   ]
  },
  {
   "cell_type": "code",
   "execution_count": 3,
   "id": "least-cricket",
   "metadata": {},
   "outputs": [
    {
     "data": {
      "text/plain": [
       "<statsmodels.regression.linear_model.RegressionResultsWrapper at 0x7f5754f15950>"
      ]
     },
     "execution_count": 3,
     "metadata": {},
     "output_type": "execute_result"
    }
   ],
   "source": [
    "# column name having space, use quote function Q(\"column name\") to write formula\n",
    "model = ols('Q(\"test score\") ~ IQ + Q(\"study hours\")', data = student).fit()\n",
    "model"
   ]
  },
  {
   "cell_type": "code",
   "execution_count": 4,
   "id": "adaptive-western",
   "metadata": {},
   "outputs": [
    {
     "name": "stderr",
     "output_type": "stream",
     "text": [
      "/home/trung/anaconda3/lib/python3.7/site-packages/scipy/stats/stats.py:1604: UserWarning: kurtosistest only valid for n>=20 ... continuing anyway, n=10\n",
      "  \"anyway, n=%i\" % int(n))\n"
     ]
    },
    {
     "data": {
      "text/html": [
       "<table class=\"simpletable\">\n",
       "<caption>OLS Regression Results</caption>\n",
       "<tr>\n",
       "  <th>Dep. Variable:</th>     <td>Q(\"test score\")</td> <th>  R-squared:         </th> <td>   0.905</td>\n",
       "</tr>\n",
       "<tr>\n",
       "  <th>Model:</th>                   <td>OLS</td>       <th>  Adj. R-squared:    </th> <td>   0.878</td>\n",
       "</tr>\n",
       "<tr>\n",
       "  <th>Method:</th>             <td>Least Squares</td>  <th>  F-statistic:       </th> <td>   33.45</td>\n",
       "</tr>\n",
       "<tr>\n",
       "  <th>Date:</th>             <td>Mon, 15 Feb 2021</td> <th>  Prob (F-statistic):</th> <td>0.000262</td>\n",
       "</tr>\n",
       "<tr>\n",
       "  <th>Time:</th>                 <td>13:53:17</td>     <th>  Log-Likelihood:    </th> <td> -25.952</td>\n",
       "</tr>\n",
       "<tr>\n",
       "  <th>No. Observations:</th>      <td>    10</td>      <th>  AIC:               </th> <td>   57.90</td>\n",
       "</tr>\n",
       "<tr>\n",
       "  <th>Df Residuals:</th>          <td>     7</td>      <th>  BIC:               </th> <td>   58.81</td>\n",
       "</tr>\n",
       "<tr>\n",
       "  <th>Df Model:</th>              <td>     2</td>      <th>                     </th>     <td> </td>   \n",
       "</tr>\n",
       "<tr>\n",
       "  <th>Covariance Type:</th>      <td>nonrobust</td>    <th>                     </th>     <td> </td>   \n",
       "</tr>\n",
       "</table>\n",
       "<table class=\"simpletable\">\n",
       "<tr>\n",
       "          <td></td>            <th>coef</th>     <th>std err</th>      <th>t</th>      <th>P>|t|</th>  <th>[0.025</th>    <th>0.975]</th>  \n",
       "</tr>\n",
       "<tr>\n",
       "  <th>Intercept</th>        <td>   23.1561</td> <td>   15.967</td> <td>    1.450</td> <td> 0.190</td> <td>  -14.600</td> <td>   60.913</td>\n",
       "</tr>\n",
       "<tr>\n",
       "  <th>IQ</th>               <td>    0.5094</td> <td>    0.181</td> <td>    2.818</td> <td> 0.026</td> <td>    0.082</td> <td>    0.937</td>\n",
       "</tr>\n",
       "<tr>\n",
       "  <th>Q(\"study hours\")</th> <td>    0.4671</td> <td>    0.172</td> <td>    2.717</td> <td> 0.030</td> <td>    0.061</td> <td>    0.874</td>\n",
       "</tr>\n",
       "</table>\n",
       "<table class=\"simpletable\">\n",
       "<tr>\n",
       "  <th>Omnibus:</th>       <td> 0.352</td> <th>  Durbin-Watson:     </th> <td>   2.255</td>\n",
       "</tr>\n",
       "<tr>\n",
       "  <th>Prob(Omnibus):</th> <td> 0.839</td> <th>  Jarque-Bera (JB):  </th> <td>   0.090</td>\n",
       "</tr>\n",
       "<tr>\n",
       "  <th>Skew:</th>          <td>-0.171</td> <th>  Prob(JB):          </th> <td>   0.956</td>\n",
       "</tr>\n",
       "<tr>\n",
       "  <th>Kurtosis:</th>      <td> 2.687</td> <th>  Cond. No.          </th> <td>1.35e+03</td>\n",
       "</tr>\n",
       "</table><br/><br/>Notes:<br/>[1] Standard Errors assume that the covariance matrix of the errors is correctly specified.<br/>[2] The condition number is large, 1.35e+03. This might indicate that there are<br/>strong multicollinearity or other numerical problems."
      ],
      "text/plain": [
       "<class 'statsmodels.iolib.summary.Summary'>\n",
       "\"\"\"\n",
       "                            OLS Regression Results                            \n",
       "==============================================================================\n",
       "Dep. Variable:        Q(\"test score\")   R-squared:                       0.905\n",
       "Model:                            OLS   Adj. R-squared:                  0.878\n",
       "Method:                 Least Squares   F-statistic:                     33.45\n",
       "Date:                Mon, 15 Feb 2021   Prob (F-statistic):           0.000262\n",
       "Time:                        13:53:17   Log-Likelihood:                -25.952\n",
       "No. Observations:                  10   AIC:                             57.90\n",
       "Df Residuals:                       7   BIC:                             58.81\n",
       "Df Model:                           2                                         \n",
       "Covariance Type:            nonrobust                                         \n",
       "====================================================================================\n",
       "                       coef    std err          t      P>|t|      [0.025      0.975]\n",
       "------------------------------------------------------------------------------------\n",
       "Intercept           23.1561     15.967      1.450      0.190     -14.600      60.913\n",
       "IQ                   0.5094      0.181      2.818      0.026       0.082       0.937\n",
       "Q(\"study hours\")     0.4671      0.172      2.717      0.030       0.061       0.874\n",
       "==============================================================================\n",
       "Omnibus:                        0.352   Durbin-Watson:                   2.255\n",
       "Prob(Omnibus):                  0.839   Jarque-Bera (JB):                0.090\n",
       "Skew:                          -0.171   Prob(JB):                        0.956\n",
       "Kurtosis:                       2.687   Cond. No.                     1.35e+03\n",
       "==============================================================================\n",
       "\n",
       "Notes:\n",
       "[1] Standard Errors assume that the covariance matrix of the errors is correctly specified.\n",
       "[2] The condition number is large, 1.35e+03. This might indicate that there are\n",
       "strong multicollinearity or other numerical problems.\n",
       "\"\"\""
      ]
     },
     "execution_count": 4,
     "metadata": {},
     "output_type": "execute_result"
    }
   ],
   "source": [
    "model.summary()"
   ]
  },
  {
   "cell_type": "markdown",
   "id": "criminal-christopher",
   "metadata": {},
   "source": [
    "---\n",
    "<b style='color:red'>key outputs</b>:  \n",
    "    \n",
    "- **Regression coefficients**, based on a least-squares criterion.\n",
    "- **Measures of goodness of fit**, like a coefficient of multiple determination and/or an overall F test.\n",
    "- **Significance tests** for individual regression coefficients."
   ]
  },
  {
   "cell_type": "code",
   "execution_count": 18,
   "id": "certain-rubber",
   "metadata": {},
   "outputs": [],
   "source": [
    "# see attributes and methods of this model\n",
    "# dir(model)"
   ]
  },
  {
   "cell_type": "code",
   "execution_count": 19,
   "id": "virgin-sheriff",
   "metadata": {},
   "outputs": [
    {
     "data": {
      "text/plain": [
       "Intercept           23.156141\n",
       "IQ                   0.509434\n",
       "Q(\"study hours\")     0.467134\n",
       "dtype: float64"
      ]
     },
     "execution_count": 19,
     "metadata": {},
     "output_type": "execute_result"
    }
   ],
   "source": [
    "# regression coefficient\n",
    "model.params"
   ]
  },
  {
   "cell_type": "markdown",
   "id": "missing-quarter",
   "metadata": {},
   "source": [
    ">How well does our model fit the data?\n"
   ]
  },
  {
   "cell_type": "code",
   "execution_count": 11,
   "id": "compressed-bulletin",
   "metadata": {},
   "outputs": [
    {
     "data": {
      "text/plain": [
       "0.9052669375237908"
      ]
     },
     "execution_count": 11,
     "metadata": {},
     "output_type": "execute_result"
    }
   ],
   "source": [
    "# look at the coefficient of multiple regression\n",
    "model.rsquared"
   ]
  },
  {
   "cell_type": "markdown",
   "id": "impaired-lease",
   "metadata": {},
   "source": [
    "95% variance of the dependent variable (Test score) can be predicted from the independent variables (IQ, study hours)"
   ]
  },
  {
   "cell_type": "markdown",
   "id": "comparable-giant",
   "metadata": {},
   "source": [
    ">tests the statistical significance of the independent variables as predictors of the dependent variable."
   ]
  },
  {
   "cell_type": "code",
   "execution_count": 13,
   "id": "incoming-fruit",
   "metadata": {},
   "outputs": [
    {
     "data": {
      "text/plain": [
       "33.445918441927"
      ]
     },
     "execution_count": 13,
     "metadata": {},
     "output_type": "execute_result"
    }
   ],
   "source": [
    "model.fvalue"
   ]
  },
  {
   "cell_type": "code",
   "execution_count": 12,
   "id": "everyday-frame",
   "metadata": {},
   "outputs": [
    {
     "data": {
      "text/plain": [
       "0.00026167095537758063"
      ]
     },
     "execution_count": 12,
     "metadata": {},
     "output_type": "execute_result"
    }
   ],
   "source": [
    "model.f_pvalue"
   ]
  },
  {
   "cell_type": "markdown",
   "id": "assumed-studio",
   "metadata": {},
   "source": [
    "`fvalue` is big (33.446), `f_pvalue` is small(0.00026 < 0.05) so This indicates that one or both independent variables has explanatory power beyond what would be expected by chance."
   ]
  },
  {
   "cell_type": "markdown",
   "id": "bored-height",
   "metadata": {},
   "source": [
    "> whether a particular independent variable contributes significantly to the regression *after effects of other variables are taken into account*. "
   ]
  },
  {
   "cell_type": "code",
   "execution_count": 9,
   "id": "regular-steam",
   "metadata": {},
   "outputs": [
    {
     "data": {
      "text/html": [
       "<div>\n",
       "<style scoped>\n",
       "    .dataframe tbody tr th:only-of-type {\n",
       "        vertical-align: middle;\n",
       "    }\n",
       "\n",
       "    .dataframe tbody tr th {\n",
       "        vertical-align: top;\n",
       "    }\n",
       "\n",
       "    .dataframe thead th {\n",
       "        text-align: right;\n",
       "    }\n",
       "</style>\n",
       "<table border=\"1\" class=\"dataframe\">\n",
       "  <thead>\n",
       "    <tr style=\"text-align: right;\">\n",
       "      <th></th>\n",
       "      <th>df</th>\n",
       "      <th>sum_sq</th>\n",
       "      <th>mean_sq</th>\n",
       "      <th>F</th>\n",
       "      <th>PR(&gt;F)</th>\n",
       "    </tr>\n",
       "  </thead>\n",
       "  <tbody>\n",
       "    <tr>\n",
       "      <th>IQ</th>\n",
       "      <td>1.0</td>\n",
       "      <td>893.669733</td>\n",
       "      <td>893.669733</td>\n",
       "      <td>59.512345</td>\n",
       "      <td>0.000115</td>\n",
       "    </tr>\n",
       "    <tr>\n",
       "      <th>Q(\"study hours\")</th>\n",
       "      <td>1.0</td>\n",
       "      <td>110.814461</td>\n",
       "      <td>110.814461</td>\n",
       "      <td>7.379492</td>\n",
       "      <td>0.029916</td>\n",
       "    </tr>\n",
       "    <tr>\n",
       "      <th>Residual</th>\n",
       "      <td>7.0</td>\n",
       "      <td>105.115806</td>\n",
       "      <td>15.016544</td>\n",
       "      <td>NaN</td>\n",
       "      <td>NaN</td>\n",
       "    </tr>\n",
       "  </tbody>\n",
       "</table>\n",
       "</div>"
      ],
      "text/plain": [
       "                   df      sum_sq     mean_sq          F    PR(>F)\n",
       "IQ                1.0  893.669733  893.669733  59.512345  0.000115\n",
       "Q(\"study hours\")  1.0  110.814461  110.814461   7.379492  0.029916\n",
       "Residual          7.0  105.115806   15.016544        NaN       NaN"
      ]
     },
     "execution_count": 9,
     "metadata": {},
     "output_type": "execute_result"
    }
   ],
   "source": [
    "sm.stats.anova_lm(model)"
   ]
  },
  {
   "cell_type": "code",
   "execution_count": null,
   "id": "alpine-somalia",
   "metadata": {},
   "outputs": [],
   "source": [
    "# null hypothesis\n",
    "# coefficient of IQ is equal to 0 (IQ contributes nothing to the linear relationship)\n",
    "# coefficient of study hours is equal to 0 (study hours contributes nothing to the linear relationship)\n",
    "\n",
    "# p_value of IQ < 0.05 so reject null hypothesis about the coefficient of IQ\n",
    "# p_value of study hours < 0.05 so reject null hypothesis about the coefficient of study hours"
   ]
  },
  {
   "cell_type": "markdown",
   "id": "incorporate-annual",
   "metadata": {},
   "source": [
    "This means that IQ contributes significantly to the regression after effects of study hours are taken into account.  \n",
    "And study hours contribute significantly to the regression after effects of IQ are taken into account."
   ]
  },
  {
   "cell_type": "markdown",
   "id": "upset-chorus",
   "metadata": {},
   "source": [
    "<b style='color:red'>Note: This analysis omits any consideration of <u>multicollinearity</u>, a topic we will cover in the next lesson. Be aware, however, that it is best practice to assess multicollinearity in the independent variables before testing significance of regression coefficients.</b>"
   ]
  },
  {
   "cell_type": "markdown",
   "id": "molecular-romantic",
   "metadata": {},
   "source": [
    "# Dummy Variables"
   ]
  },
  {
   "cell_type": "markdown",
   "id": "cooked-harris",
   "metadata": {},
   "source": [
    "use **`C(column_name)`** to treat a column as categorical in formula"
   ]
  },
  {
   "cell_type": "code",
   "execution_count": 21,
   "id": "sudden-discovery",
   "metadata": {},
   "outputs": [
    {
     "data": {
      "text/html": [
       "<div>\n",
       "<style scoped>\n",
       "    .dataframe tbody tr th:only-of-type {\n",
       "        vertical-align: middle;\n",
       "    }\n",
       "\n",
       "    .dataframe tbody tr th {\n",
       "        vertical-align: top;\n",
       "    }\n",
       "\n",
       "    .dataframe thead th {\n",
       "        text-align: right;\n",
       "    }\n",
       "</style>\n",
       "<table border=\"1\" class=\"dataframe\">\n",
       "  <thead>\n",
       "    <tr style=\"text-align: right;\">\n",
       "      <th></th>\n",
       "      <th>id</th>\n",
       "      <th>test_score</th>\n",
       "      <th>IQ</th>\n",
       "      <th>sex</th>\n",
       "    </tr>\n",
       "  </thead>\n",
       "  <tbody>\n",
       "    <tr>\n",
       "      <th>0</th>\n",
       "      <td>1</td>\n",
       "      <td>93</td>\n",
       "      <td>125</td>\n",
       "      <td>Male</td>\n",
       "    </tr>\n",
       "    <tr>\n",
       "      <th>1</th>\n",
       "      <td>2</td>\n",
       "      <td>86</td>\n",
       "      <td>120</td>\n",
       "      <td>Female</td>\n",
       "    </tr>\n",
       "    <tr>\n",
       "      <th>2</th>\n",
       "      <td>3</td>\n",
       "      <td>96</td>\n",
       "      <td>115</td>\n",
       "      <td>Male</td>\n",
       "    </tr>\n",
       "    <tr>\n",
       "      <th>3</th>\n",
       "      <td>4</td>\n",
       "      <td>81</td>\n",
       "      <td>110</td>\n",
       "      <td>Female</td>\n",
       "    </tr>\n",
       "    <tr>\n",
       "      <th>4</th>\n",
       "      <td>5</td>\n",
       "      <td>92</td>\n",
       "      <td>105</td>\n",
       "      <td>Male</td>\n",
       "    </tr>\n",
       "    <tr>\n",
       "      <th>5</th>\n",
       "      <td>6</td>\n",
       "      <td>75</td>\n",
       "      <td>100</td>\n",
       "      <td>Female</td>\n",
       "    </tr>\n",
       "    <tr>\n",
       "      <th>6</th>\n",
       "      <td>7</td>\n",
       "      <td>84</td>\n",
       "      <td>95</td>\n",
       "      <td>Male</td>\n",
       "    </tr>\n",
       "    <tr>\n",
       "      <th>7</th>\n",
       "      <td>8</td>\n",
       "      <td>77</td>\n",
       "      <td>90</td>\n",
       "      <td>Female</td>\n",
       "    </tr>\n",
       "    <tr>\n",
       "      <th>8</th>\n",
       "      <td>9</td>\n",
       "      <td>73</td>\n",
       "      <td>85</td>\n",
       "      <td>Male</td>\n",
       "    </tr>\n",
       "    <tr>\n",
       "      <th>9</th>\n",
       "      <td>10</td>\n",
       "      <td>74</td>\n",
       "      <td>80</td>\n",
       "      <td>Female</td>\n",
       "    </tr>\n",
       "  </tbody>\n",
       "</table>\n",
       "</div>"
      ],
      "text/plain": [
       "   id  test_score   IQ     sex\n",
       "0   1          93  125    Male\n",
       "1   2          86  120  Female\n",
       "2   3          96  115    Male\n",
       "3   4          81  110  Female\n",
       "4   5          92  105    Male\n",
       "5   6          75  100  Female\n",
       "6   7          84   95    Male\n",
       "7   8          77   90  Female\n",
       "8   9          73   85    Male\n",
       "9  10          74   80  Female"
      ]
     },
     "execution_count": 21,
     "metadata": {},
     "output_type": "execute_result"
    }
   ],
   "source": [
    "data = [\n",
    "    [1\t, 93\t, 125\t, \"Male\"],\n",
    "    [2\t, 86\t, 120\t, \"Female\"],\n",
    "    [3\t, 96\t, 115\t, \"Male\"],\n",
    "    [4\t, 81\t, 110\t, \"Female\"],\n",
    "    [5\t, 92\t, 105\t, \"Male\"],\n",
    "    [6\t, 75\t, 100\t, \"Female\"],\n",
    "    [7\t, 84\t, 95\t, \"Male\"],\n",
    "    [8\t, 77\t, 90\t, \"Female\"],\n",
    "    [9\t, 73\t, 85\t, \"Male\"],\n",
    "    [10\t, 74\t, 80\t, \"Female\"]]\n",
    "student = pd.DataFrame(data, columns = ['id', 'test_score', 'IQ', 'sex'])\n",
    "student"
   ]
  },
  {
   "cell_type": "code",
   "execution_count": 22,
   "id": "deluxe-possession",
   "metadata": {},
   "outputs": [
    {
     "name": "stderr",
     "output_type": "stream",
     "text": [
      "/home/trung/anaconda3/lib/python3.7/site-packages/scipy/stats/stats.py:1604: UserWarning: kurtosistest only valid for n>=20 ... continuing anyway, n=10\n",
      "  \"anyway, n=%i\" % int(n))\n"
     ]
    },
    {
     "data": {
      "text/html": [
       "<table class=\"simpletable\">\n",
       "<caption>OLS Regression Results</caption>\n",
       "<tr>\n",
       "  <th>Dep. Variable:</th>       <td>test_score</td>    <th>  R-squared:         </th> <td>   0.810</td>\n",
       "</tr>\n",
       "<tr>\n",
       "  <th>Model:</th>                   <td>OLS</td>       <th>  Adj. R-squared:    </th> <td>   0.756</td>\n",
       "</tr>\n",
       "<tr>\n",
       "  <th>Method:</th>             <td>Least Squares</td>  <th>  F-statistic:       </th> <td>   14.94</td>\n",
       "</tr>\n",
       "<tr>\n",
       "  <th>Date:</th>             <td>Mon, 15 Feb 2021</td> <th>  Prob (F-statistic):</th>  <td>0.00298</td>\n",
       "</tr>\n",
       "<tr>\n",
       "  <th>Time:</th>                 <td>15:24:45</td>     <th>  Log-Likelihood:    </th> <td> -26.713</td>\n",
       "</tr>\n",
       "<tr>\n",
       "  <th>No. Observations:</th>      <td>    10</td>      <th>  AIC:               </th> <td>   59.43</td>\n",
       "</tr>\n",
       "<tr>\n",
       "  <th>Df Residuals:</th>          <td>     7</td>      <th>  BIC:               </th> <td>   60.33</td>\n",
       "</tr>\n",
       "<tr>\n",
       "  <th>Df Model:</th>              <td>     2</td>      <th>                     </th>     <td> </td>   \n",
       "</tr>\n",
       "<tr>\n",
       "  <th>Covariance Type:</th>      <td>nonrobust</td>    <th>                     </th>     <td> </td>   \n",
       "</tr>\n",
       "</table>\n",
       "<table class=\"simpletable\">\n",
       "<tr>\n",
       "         <td></td>           <th>coef</th>     <th>std err</th>      <th>t</th>      <th>P>|t|</th>  <th>[0.025</th>    <th>0.975]</th>  \n",
       "</tr>\n",
       "<tr>\n",
       "  <th>Intercept</th>      <td>   38.6000</td> <td>    9.535</td> <td>    4.048</td> <td> 0.005</td> <td>   16.052</td> <td>   61.148</td>\n",
       "</tr>\n",
       "<tr>\n",
       "  <th>C(sex)[T.Male]</th> <td>    7.0000</td> <td>    2.686</td> <td>    2.606</td> <td> 0.035</td> <td>    0.649</td> <td>   13.351</td>\n",
       "</tr>\n",
       "<tr>\n",
       "  <th>IQ</th>             <td>    0.4000</td> <td>    0.094</td> <td>    4.278</td> <td> 0.004</td> <td>    0.179</td> <td>    0.621</td>\n",
       "</tr>\n",
       "</table>\n",
       "<table class=\"simpletable\">\n",
       "<tr>\n",
       "  <th>Omnibus:</th>       <td> 0.543</td> <th>  Durbin-Watson:     </th> <td>   2.990</td>\n",
       "</tr>\n",
       "<tr>\n",
       "  <th>Prob(Omnibus):</th> <td> 0.762</td> <th>  Jarque-Bera (JB):  </th> <td>   0.555</td>\n",
       "</tr>\n",
       "<tr>\n",
       "  <th>Skew:</th>          <td>-0.309</td> <th>  Prob(JB):          </th> <td>   0.758</td>\n",
       "</tr>\n",
       "<tr>\n",
       "  <th>Kurtosis:</th>      <td> 2.025</td> <th>  Cond. No.          </th> <td>    746.</td>\n",
       "</tr>\n",
       "</table><br/><br/>Notes:<br/>[1] Standard Errors assume that the covariance matrix of the errors is correctly specified."
      ],
      "text/plain": [
       "<class 'statsmodels.iolib.summary.Summary'>\n",
       "\"\"\"\n",
       "                            OLS Regression Results                            \n",
       "==============================================================================\n",
       "Dep. Variable:             test_score   R-squared:                       0.810\n",
       "Model:                            OLS   Adj. R-squared:                  0.756\n",
       "Method:                 Least Squares   F-statistic:                     14.94\n",
       "Date:                Mon, 15 Feb 2021   Prob (F-statistic):            0.00298\n",
       "Time:                        15:24:45   Log-Likelihood:                -26.713\n",
       "No. Observations:                  10   AIC:                             59.43\n",
       "Df Residuals:                       7   BIC:                             60.33\n",
       "Df Model:                           2                                         \n",
       "Covariance Type:            nonrobust                                         \n",
       "==================================================================================\n",
       "                     coef    std err          t      P>|t|      [0.025      0.975]\n",
       "----------------------------------------------------------------------------------\n",
       "Intercept         38.6000      9.535      4.048      0.005      16.052      61.148\n",
       "C(sex)[T.Male]     7.0000      2.686      2.606      0.035       0.649      13.351\n",
       "IQ                 0.4000      0.094      4.278      0.004       0.179       0.621\n",
       "==============================================================================\n",
       "Omnibus:                        0.543   Durbin-Watson:                   2.990\n",
       "Prob(Omnibus):                  0.762   Jarque-Bera (JB):                0.555\n",
       "Skew:                          -0.309   Prob(JB):                        0.758\n",
       "Kurtosis:                       2.025   Cond. No.                         746.\n",
       "==============================================================================\n",
       "\n",
       "Notes:\n",
       "[1] Standard Errors assume that the covariance matrix of the errors is correctly specified.\n",
       "\"\"\""
      ]
     },
     "execution_count": 22,
     "metadata": {},
     "output_type": "execute_result"
    }
   ],
   "source": [
    "model = ols('test_score ~ IQ + C(sex)', data = student).fit()\n",
    "\n",
    "model.summary()"
   ]
  },
  {
   "cell_type": "markdown",
   "id": "medical-transcript",
   "metadata": {},
   "source": [
    "**regression coefficient**"
   ]
  },
  {
   "cell_type": "code",
   "execution_count": 23,
   "id": "eastern-outreach",
   "metadata": {},
   "outputs": [
    {
     "data": {
      "text/plain": [
       "Intercept         38.6\n",
       "C(sex)[T.Male]     7.0\n",
       "IQ                 0.4\n",
       "dtype: float64"
      ]
     },
     "execution_count": 23,
     "metadata": {},
     "output_type": "execute_result"
    }
   ],
   "source": [
    "model.params"
   ]
  },
  {
   "cell_type": "markdown",
   "id": "anonymous-liverpool",
   "metadata": {},
   "source": [
    "**coefficient of multiple Determination**\n",
    ">How well does our model fit the data?"
   ]
  },
  {
   "cell_type": "code",
   "execution_count": 24,
   "id": "pretty-continent",
   "metadata": {},
   "outputs": [
    {
     "data": {
      "text/plain": [
       "0.8102031322685685"
      ]
     },
     "execution_count": 24,
     "metadata": {},
     "output_type": "execute_result"
    }
   ],
   "source": [
    "model.rsquared"
   ]
  },
  {
   "cell_type": "markdown",
   "id": "medium-trinidad",
   "metadata": {},
   "source": [
    "81% variance of the dependent variable(Test score) can be explained by the independent variables (IQ, Sex)"
   ]
  },
  {
   "cell_type": "markdown",
   "id": "outside-laser",
   "metadata": {},
   "source": [
    "**Multicollinearity**  \n",
    "At this point, we'd like to assess the relative importance our independent variables. We do this by testing the statistical significance of regression coefficients.\n",
    "\n",
    "Before we conduct those tests, however, we need to assess multicollinearity between independent variables. If multicollinearity is high, significance tests on regression coefficient can be misleading. But if multicollinearity is low, the same tests can be informative.\n",
    "\n",
    "\n",
    " \n",
    "To measure multicollinearity for this problem, we can try to predict IQ based on Gender. That is, we regress IQ against Gender. The resulting coefficient of multiple determination (R2k) is an indicator of multicollinearity. When R2k is greater than 0.75, multicollinearity is a problem.\n",
    "\n",
    "For this problem, R2k was very small - only 0.03. Given this result, we can proceed with statistical analysis of our independent variables.\n",
    "\n",
    "Significance of Regression Coefficients\n",
    "With multiple regression, there is more than one independent variable; so it is natural to ask whether a particular independent variable contributes significantly to the regression after effects of other variables are taken into account. The answer to this question can be found in the regression coefficients table:\n",
    "\n",
    "\n",
    "The regression coefficients table shows the following information for each coefficient: its value, its standard error, a t-statistic, and the significance of the t-statistic. In this example, the t-statistics for IQ and gender are both statistically significant at the 0.05 level. This means that IQ predicts test score beyond chance levels, even after the effect of gender is taken into account. And gender predicts test score beyond chance levels, even after the effect of IQ is taken into account.\n",
    "\n",
    "The regression coefficient for gender provides a measure of the difference between the group identified by the dummy variable (males) and the group that serves as a reference (females). Here, the regression coefficient for gender is 7. This suggests that, after effects of IQ are taken into account, males will score 7 points higher on the test than the reference group (females). And, because the regression coefficient for gender is statistically significant, we interpret this difference as a real effect - not a chance artifact.\n",
    "\n",
    "\n",
    "\n",
    "\n",
    "\n",
    "\n",
    "\n",
    "\n",
    "\n",
    "\n",
    "\n",
    "\n",
    "\n",
    " "
   ]
  },
  {
   "cell_type": "markdown",
   "id": "bacterial-vegetable",
   "metadata": {},
   "source": [
    "**Significance of Regression Coefficients**\n"
   ]
  },
  {
   "cell_type": "markdown",
   "id": "fiscal-hardware",
   "metadata": {},
   "source": [
    ">e; so it is natural to ask whether a particular independent variable contributes significantly to the regression **after effects of other variables are taken into account**. "
   ]
  },
  {
   "cell_type": "markdown",
   "id": "front-lighting",
   "metadata": {},
   "source": [
    "# Interaction"
   ]
  },
  {
   "cell_type": "markdown",
   "id": "falling-finder",
   "metadata": {},
   "source": [
    "**Reference**: <https://stattrek.com/multiple-regression/interaction.aspx?tutorial=reg>"
   ]
  },
  {
   "cell_type": "code",
   "execution_count": 3,
   "id": "opposed-defeat",
   "metadata": {},
   "outputs": [
    {
     "data": {
      "text/html": [
       "<div>\n",
       "<style scoped>\n",
       "    .dataframe tbody tr th:only-of-type {\n",
       "        vertical-align: middle;\n",
       "    }\n",
       "\n",
       "    .dataframe tbody tr th {\n",
       "        vertical-align: top;\n",
       "    }\n",
       "\n",
       "    .dataframe thead th {\n",
       "        text-align: right;\n",
       "    }\n",
       "</style>\n",
       "<table border=\"1\" class=\"dataframe\">\n",
       "  <thead>\n",
       "    <tr style=\"text-align: right;\">\n",
       "      <th></th>\n",
       "      <th>Anxiety</th>\n",
       "      <th>Dose</th>\n",
       "      <th>Gender</th>\n",
       "    </tr>\n",
       "  </thead>\n",
       "  <tbody>\n",
       "    <tr>\n",
       "      <th>0</th>\n",
       "      <td>90</td>\n",
       "      <td>0</td>\n",
       "      <td>0</td>\n",
       "    </tr>\n",
       "    <tr>\n",
       "      <th>1</th>\n",
       "      <td>88</td>\n",
       "      <td>20</td>\n",
       "      <td>0</td>\n",
       "    </tr>\n",
       "    <tr>\n",
       "      <th>2</th>\n",
       "      <td>85</td>\n",
       "      <td>40</td>\n",
       "      <td>0</td>\n",
       "    </tr>\n",
       "    <tr>\n",
       "      <th>3</th>\n",
       "      <td>83</td>\n",
       "      <td>60</td>\n",
       "      <td>0</td>\n",
       "    </tr>\n",
       "    <tr>\n",
       "      <th>4</th>\n",
       "      <td>88</td>\n",
       "      <td>0</td>\n",
       "      <td>1</td>\n",
       "    </tr>\n",
       "    <tr>\n",
       "      <th>5</th>\n",
       "      <td>72</td>\n",
       "      <td>20</td>\n",
       "      <td>1</td>\n",
       "    </tr>\n",
       "    <tr>\n",
       "      <th>6</th>\n",
       "      <td>62</td>\n",
       "      <td>40</td>\n",
       "      <td>1</td>\n",
       "    </tr>\n",
       "    <tr>\n",
       "      <th>7</th>\n",
       "      <td>43</td>\n",
       "      <td>60</td>\n",
       "      <td>1</td>\n",
       "    </tr>\n",
       "  </tbody>\n",
       "</table>\n",
       "</div>"
      ],
      "text/plain": [
       "   Anxiety  Dose  Gender\n",
       "0       90     0       0\n",
       "1       88    20       0\n",
       "2       85    40       0\n",
       "3       83    60       0\n",
       "4       88     0       1\n",
       "5       72    20       1\n",
       "6       62    40       1\n",
       "7       43    60       1"
      ]
     },
     "execution_count": 3,
     "metadata": {},
     "output_type": "execute_result"
    }
   ],
   "source": [
    "data = [\n",
    "[90,0\t,0],\n",
    "[88,20\t,0],\n",
    "[85,40\t,0],\n",
    "[83,60\t,0],\n",
    "[88,0\t,1],\n",
    "[72,20\t,1],\n",
    "[62,40\t,1],\n",
    "[43,60\t,1]]\n",
    "\n",
    "\n",
    "study = pd.DataFrame(data, columns = ['Anxiety', 'Dose', 'Gender'])\n",
    "\n",
    "study"
   ]
  },
  {
   "cell_type": "markdown",
   "id": "prescription-cursor",
   "metadata": {},
   "source": [
    "## Interaction plot"
   ]
  },
  {
   "cell_type": "code",
   "execution_count": 8,
   "id": "powerful-sustainability",
   "metadata": {},
   "outputs": [
    {
     "data": {
      "image/png": "[encoded data removed]",
      "text/plain": [
       "<Figure size 432x288 with 1 Axes>"
      ]
     },
     "execution_count": 8,
     "metadata": {},
     "output_type": "execute_result"
    },
    {
     "data": {
      "image/png": "[encoded data removed]",
      "text/plain": [
       "<Figure size 432x288 with 1 Axes>"
      ]
     },
     "metadata": {
      "needs_background": "light"
     },
     "output_type": "display_data"
    }
   ],
   "source": [
    "from statsmodels.graphics.factorplots import interaction_plot\n",
    "interaction_plot(study['Dose'], study['Gender'], study['Anxiety'])"
   ]
  },
  {
   "cell_type": "markdown",
   "id": "nervous-ottawa",
   "metadata": {},
   "source": [
    "Here, the lines are not parallel. The line for women is steeper. This suggests a possible interaction effect, based on gender. The plot tells us that the drug reduces anxiety more effectively for women than for men. But is the reduction significant? To answer that question, we need to conduct a statistical test."
   ]
  },
  {
   "cell_type": "markdown",
   "id": "graphic-trance",
   "metadata": {},
   "source": [
    "## Without interaction"
   ]
  },
  {
   "cell_type": "code",
   "execution_count": 5,
   "id": "threaded-server",
   "metadata": {},
   "outputs": [
    {
     "name": "stderr",
     "output_type": "stream",
     "text": [
      "/home/trung/anaconda3/lib/python3.7/site-packages/scipy/stats/stats.py:1604: UserWarning: kurtosistest only valid for n>=20 ... continuing anyway, n=8\n",
      "  \"anyway, n=%i\" % int(n))\n"
     ]
    },
    {
     "data": {
      "text/html": [
       "<table class=\"simpletable\">\n",
       "<caption>OLS Regression Results</caption>\n",
       "<tr>\n",
       "  <th>Dep. Variable:</th>         <td>Anxiety</td>     <th>  R-squared:         </th> <td>   0.802</td>\n",
       "</tr>\n",
       "<tr>\n",
       "  <th>Model:</th>                   <td>OLS</td>       <th>  Adj. R-squared:    </th> <td>   0.722</td>\n",
       "</tr>\n",
       "<tr>\n",
       "  <th>Method:</th>             <td>Least Squares</td>  <th>  F-statistic:       </th> <td>   10.10</td>\n",
       "</tr>\n",
       "<tr>\n",
       "  <th>Date:</th>             <td>Wed, 17 Feb 2021</td> <th>  Prob (F-statistic):</th>  <td>0.0175</td> \n",
       "</tr>\n",
       "<tr>\n",
       "  <th>Time:</th>                 <td>12:36:26</td>     <th>  Log-Likelihood:    </th> <td> -26.792</td>\n",
       "</tr>\n",
       "<tr>\n",
       "  <th>No. Observations:</th>      <td>     8</td>      <th>  AIC:               </th> <td>   59.58</td>\n",
       "</tr>\n",
       "<tr>\n",
       "  <th>Df Residuals:</th>          <td>     5</td>      <th>  BIC:               </th> <td>   59.82</td>\n",
       "</tr>\n",
       "<tr>\n",
       "  <th>Df Model:</th>              <td>     2</td>      <th>                     </th>     <td> </td>   \n",
       "</tr>\n",
       "<tr>\n",
       "  <th>Covariance Type:</th>      <td>nonrobust</td>    <th>                     </th>     <td> </td>   \n",
       "</tr>\n",
       "</table>\n",
       "<table class=\"simpletable\">\n",
       "<tr>\n",
       "      <td></td>         <th>coef</th>     <th>std err</th>      <th>t</th>      <th>P>|t|</th>  <th>[0.025</th>    <th>0.975]</th>  \n",
       "</tr>\n",
       "<tr>\n",
       "  <th>Intercept</th> <td>   99.1750</td> <td>    6.006</td> <td>   16.512</td> <td> 0.000</td> <td>   83.736</td> <td>  114.614</td>\n",
       "</tr>\n",
       "<tr>\n",
       "  <th>Dose</th>      <td>   -0.4225</td> <td>    0.138</td> <td>   -3.066</td> <td> 0.028</td> <td>   -0.777</td> <td>   -0.068</td>\n",
       "</tr>\n",
       "<tr>\n",
       "  <th>Gender</th>    <td>  -20.2500</td> <td>    6.162</td> <td>   -3.286</td> <td> 0.022</td> <td>  -36.090</td> <td>   -4.410</td>\n",
       "</tr>\n",
       "</table>\n",
       "<table class=\"simpletable\">\n",
       "<tr>\n",
       "  <th>Omnibus:</th>       <td> 0.465</td> <th>  Durbin-Watson:     </th> <td>   0.747</td>\n",
       "</tr>\n",
       "<tr>\n",
       "  <th>Prob(Omnibus):</th> <td> 0.793</td> <th>  Jarque-Bera (JB):  </th> <td>   0.467</td>\n",
       "</tr>\n",
       "<tr>\n",
       "  <th>Skew:</th>          <td>-0.165</td> <th>  Prob(JB):          </th> <td>   0.792</td>\n",
       "</tr>\n",
       "<tr>\n",
       "  <th>Kurtosis:</th>      <td> 1.863</td> <th>  Cond. No.          </th> <td>    90.9</td>\n",
       "</tr>\n",
       "</table><br/><br/>Notes:<br/>[1] Standard Errors assume that the covariance matrix of the errors is correctly specified."
      ],
      "text/plain": [
       "<class 'statsmodels.iolib.summary.Summary'>\n",
       "\"\"\"\n",
       "                            OLS Regression Results                            \n",
       "==============================================================================\n",
       "Dep. Variable:                Anxiety   R-squared:                       0.802\n",
       "Model:                            OLS   Adj. R-squared:                  0.722\n",
       "Method:                 Least Squares   F-statistic:                     10.10\n",
       "Date:                Wed, 17 Feb 2021   Prob (F-statistic):             0.0175\n",
       "Time:                        12:36:26   Log-Likelihood:                -26.792\n",
       "No. Observations:                   8   AIC:                             59.58\n",
       "Df Residuals:                       5   BIC:                             59.82\n",
       "Df Model:                           2                                         \n",
       "Covariance Type:            nonrobust                                         \n",
       "==============================================================================\n",
       "                 coef    std err          t      P>|t|      [0.025      0.975]\n",
       "------------------------------------------------------------------------------\n",
       "Intercept     99.1750      6.006     16.512      0.000      83.736     114.614\n",
       "Dose          -0.4225      0.138     -3.066      0.028      -0.777      -0.068\n",
       "Gender       -20.2500      6.162     -3.286      0.022     -36.090      -4.410\n",
       "==============================================================================\n",
       "Omnibus:                        0.465   Durbin-Watson:                   0.747\n",
       "Prob(Omnibus):                  0.793   Jarque-Bera (JB):                0.467\n",
       "Skew:                          -0.165   Prob(JB):                        0.792\n",
       "Kurtosis:                       1.863   Cond. No.                         90.9\n",
       "==============================================================================\n",
       "\n",
       "Notes:\n",
       "[1] Standard Errors assume that the covariance matrix of the errors is correctly specified.\n",
       "\"\"\""
      ]
     },
     "execution_count": 5,
     "metadata": {},
     "output_type": "execute_result"
    }
   ],
   "source": [
    "model = ols('Anxiety ~ Dose + Gender', data = study).fit()\n",
    "model.summary()"
   ]
  },
  {
   "cell_type": "markdown",
   "id": "atomic-highlight",
   "metadata": {},
   "source": [
    "---\n",
    "**Analysis**:  \n",
    "Without interaction, both Dose and Gender are statistically significant at the 0.05 significant level.  \n",
    "R<sup>2</sup> is 0.802"
   ]
  },
  {
   "cell_type": "markdown",
   "id": "ongoing-ministry",
   "metadata": {},
   "source": [
    "## With interaction"
   ]
  },
  {
   "cell_type": "code",
   "execution_count": 6,
   "id": "employed-oxford",
   "metadata": {},
   "outputs": [
    {
     "name": "stderr",
     "output_type": "stream",
     "text": [
      "/home/trung/anaconda3/lib/python3.7/site-packages/scipy/stats/stats.py:1604: UserWarning: kurtosistest only valid for n>=20 ... continuing anyway, n=8\n",
      "  \"anyway, n=%i\" % int(n))\n"
     ]
    },
    {
     "data": {
      "text/html": [
       "<table class=\"simpletable\">\n",
       "<caption>OLS Regression Results</caption>\n",
       "<tr>\n",
       "  <th>Dep. Variable:</th>         <td>Anxiety</td>     <th>  R-squared:         </th> <td>   0.993</td>\n",
       "</tr>\n",
       "<tr>\n",
       "  <th>Model:</th>                   <td>OLS</td>       <th>  Adj. R-squared:    </th> <td>   0.987</td>\n",
       "</tr>\n",
       "<tr>\n",
       "  <th>Method:</th>             <td>Least Squares</td>  <th>  F-statistic:       </th> <td>   184.9</td>\n",
       "</tr>\n",
       "<tr>\n",
       "  <th>Date:</th>             <td>Wed, 17 Feb 2021</td> <th>  Prob (F-statistic):</th> <td>9.58e-05</td>\n",
       "</tr>\n",
       "<tr>\n",
       "  <th>Time:</th>                 <td>12:39:41</td>     <th>  Log-Likelihood:    </th> <td> -13.503</td>\n",
       "</tr>\n",
       "<tr>\n",
       "  <th>No. Observations:</th>      <td>     8</td>      <th>  AIC:               </th> <td>   35.01</td>\n",
       "</tr>\n",
       "<tr>\n",
       "  <th>Df Residuals:</th>          <td>     4</td>      <th>  BIC:               </th> <td>   35.32</td>\n",
       "</tr>\n",
       "<tr>\n",
       "  <th>Df Model:</th>              <td>     3</td>      <th>                     </th>     <td> </td>   \n",
       "</tr>\n",
       "<tr>\n",
       "  <th>Covariance Type:</th>      <td>nonrobust</td>    <th>                     </th>     <td> </td>   \n",
       "</tr>\n",
       "</table>\n",
       "<table class=\"simpletable\">\n",
       "<tr>\n",
       "       <td></td>          <th>coef</th>     <th>std err</th>      <th>t</th>      <th>P>|t|</th>  <th>[0.025</th>    <th>0.975]</th>  \n",
       "</tr>\n",
       "<tr>\n",
       "  <th>Intercept</th>   <td>   90.1000</td> <td>    1.548</td> <td>   58.190</td> <td> 0.000</td> <td>   85.801</td> <td>   94.399</td>\n",
       "</tr>\n",
       "<tr>\n",
       "  <th>Dose</th>        <td>   -0.1200</td> <td>    0.041</td> <td>   -2.900</td> <td> 0.044</td> <td>   -0.235</td> <td>   -0.005</td>\n",
       "</tr>\n",
       "<tr>\n",
       "  <th>Gender</th>      <td>   -2.1000</td> <td>    2.190</td> <td>   -0.959</td> <td> 0.392</td> <td>   -8.180</td> <td>    3.980</td>\n",
       "</tr>\n",
       "<tr>\n",
       "  <th>Dose:Gender</th> <td>   -0.6050</td> <td>    0.059</td> <td>  -10.338</td> <td> 0.000</td> <td>   -0.767</td> <td>   -0.443</td>\n",
       "</tr>\n",
       "</table>\n",
       "<table class=\"simpletable\">\n",
       "<tr>\n",
       "  <th>Omnibus:</th>       <td> 6.911</td> <th>  Durbin-Watson:     </th> <td>   3.171</td>\n",
       "</tr>\n",
       "<tr>\n",
       "  <th>Prob(Omnibus):</th> <td> 0.032</td> <th>  Jarque-Bera (JB):  </th> <td>   1.962</td>\n",
       "</tr>\n",
       "<tr>\n",
       "  <th>Skew:</th>          <td> 1.130</td> <th>  Prob(JB):          </th> <td>   0.375</td>\n",
       "</tr>\n",
       "<tr>\n",
       "  <th>Kurtosis:</th>      <td> 3.885</td> <th>  Cond. No.          </th> <td>    164.</td>\n",
       "</tr>\n",
       "</table><br/><br/>Notes:<br/>[1] Standard Errors assume that the covariance matrix of the errors is correctly specified."
      ],
      "text/plain": [
       "<class 'statsmodels.iolib.summary.Summary'>\n",
       "\"\"\"\n",
       "                            OLS Regression Results                            \n",
       "==============================================================================\n",
       "Dep. Variable:                Anxiety   R-squared:                       0.993\n",
       "Model:                            OLS   Adj. R-squared:                  0.987\n",
       "Method:                 Least Squares   F-statistic:                     184.9\n",
       "Date:                Wed, 17 Feb 2021   Prob (F-statistic):           9.58e-05\n",
       "Time:                        12:39:41   Log-Likelihood:                -13.503\n",
       "No. Observations:                   8   AIC:                             35.01\n",
       "Df Residuals:                       4   BIC:                             35.32\n",
       "Df Model:                           3                                         \n",
       "Covariance Type:            nonrobust                                         \n",
       "===============================================================================\n",
       "                  coef    std err          t      P>|t|      [0.025      0.975]\n",
       "-------------------------------------------------------------------------------\n",
       "Intercept      90.1000      1.548     58.190      0.000      85.801      94.399\n",
       "Dose           -0.1200      0.041     -2.900      0.044      -0.235      -0.005\n",
       "Gender         -2.1000      2.190     -0.959      0.392      -8.180       3.980\n",
       "Dose:Gender    -0.6050      0.059    -10.338      0.000      -0.767      -0.443\n",
       "==============================================================================\n",
       "Omnibus:                        6.911   Durbin-Watson:                   3.171\n",
       "Prob(Omnibus):                  0.032   Jarque-Bera (JB):                1.962\n",
       "Skew:                           1.130   Prob(JB):                        0.375\n",
       "Kurtosis:                       3.885   Cond. No.                         164.\n",
       "==============================================================================\n",
       "\n",
       "Notes:\n",
       "[1] Standard Errors assume that the covariance matrix of the errors is correctly specified.\n",
       "\"\"\""
      ]
     },
     "execution_count": 6,
     "metadata": {},
     "output_type": "execute_result"
    }
   ],
   "source": [
    "model = ols('Anxiety ~ Dose + Gender + Dose * Gender', data = study).fit()\n",
    "model.summary()"
   ]
  },
  {
   "cell_type": "markdown",
   "id": "communist-anxiety",
   "metadata": {},
   "source": [
    "---\n",
    "**Analysis**:  \n",
    "We see that the interaction between Dose and Gender is statistically significant at the 0.01 significant level. When we examine the main effect, we notice that Dose is statistically significant, but Gender is not. And R<sup>2</sup> is 0.993"
   ]
  },
  {
   "cell_type": "markdown",
   "id": "naval-titanium",
   "metadata": {},
   "source": [
    "## How to interpret the result?"
   ]
  },
  {
   "cell_type": "markdown",
   "id": "rotary-acoustic",
   "metadata": {},
   "source": [
    "> Does the interaction term contribute in a meaningful way to the explanatory power of the equation?"
   ]
  },
  {
   "cell_type": "markdown",
   "id": "electrical-multiple",
   "metadata": {},
   "source": [
    "**How to decide to use the interaction or not**:  \n",
    "- Compare R<sup>2</sup> with and without the interaction term. If R<sup>2</sup> is much bigger with the interaction term, the interaction is definitely important\n",
    "- Access the statistically significant level of the interaction term. If it is significant then the interaction is probably important"
   ]
  },
  {
   "cell_type": "markdown",
   "id": "cooperative-harrison",
   "metadata": {},
   "source": [
    "## Pros and Cons"
   ]
  },
  {
   "cell_type": "markdown",
   "id": "selected-occasions",
   "metadata": {},
   "source": [
    "**Pros**:\n",
    "- Better fit if the interaction is statistically significant.\n",
    "**Cons**:\n",
    "- It is harder to interpret the relative importance of independent variables. When an interaction effect exists, the effect of one independent variable depends on the value(s) of one or more other independent variables."
   ]
  },
  {
   "cell_type": "code",
   "execution_count": 10,
   "id": "urban-rally",
   "metadata": {},
   "outputs": [
    {
     "data": {
      "image/png": "[encoded data removed]",
      "text/plain": [
       "<Figure size 432x288 with 1 Axes>"
      ]
     },
     "execution_count": 10,
     "metadata": {},
     "output_type": "execute_result"
    },
    {
     "data": {
      "image/png": "[encoded data removed]",
      "text/plain": [
       "<Figure size 432x288 with 1 Axes>"
      ]
     },
     "metadata": {
      "needs_background": "light"
     },
     "output_type": "display_data"
    }
   ],
   "source": [
    "interaction_plot(study['Dose'], study['Gender'], study['Anxiety'])"
   ]
  },
  {
   "cell_type": "markdown",
   "id": "extraordinary-mineral",
   "metadata": {},
   "source": [
    "For males, drug dosage has the minimal effect on anxiety. For females, the effect is dramatic. The effect of drug dose cannot be understood without accounting for the gender of the person receiving the medication."
   ]
  },
  {
   "cell_type": "markdown",
   "id": "behavioral-american",
   "metadata": {},
   "source": [
    "<b style='color:red'><u>Bottom line</u>: When the interaction is statistically significant, try not to understand the main effect in isolation</b>"
   ]
  },
  {
   "cell_type": "code",
   "execution_count": null,
   "id": "honey-quality",
   "metadata": {},
   "outputs": [],
   "source": []
  }
 ],
 "metadata": {
  "kernelspec": {
   "display_name": "Python 3",
   "language": "python",
   "name": "python3"
  },
  "language_info": {
   "codemirror_mode": {
    "name": "ipython",
    "version": 3
   },
   "file_extension": ".py",
   "mimetype": "text/x-python",
   "name": "python",
   "nbconvert_exporter": "python",
   "pygments_lexer": "ipython3",
   "version": "3.7.9"
  }
 },
 "nbformat": 4,
 "nbformat_minor": 5
}
