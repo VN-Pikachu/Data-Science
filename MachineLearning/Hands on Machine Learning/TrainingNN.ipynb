{
 "cells": [
  {
   "cell_type": "code",
   "execution_count": 1,
   "metadata": {},
   "outputs": [
    {
     "data": {
      "text/html": [
       "<style>\n",
       ".box {\n",
       "    border: 1px double dodgerblue;\n",
       "    padding: 5px;\n",
       "}\n",
       ".note {\n",
       "    font-size: 20;\n",
       "    color: teal;\n",
       "    font-weight: bold;\n",
       "}\n",
       ".highlight {\n",
       "    color: green;\n",
       "    font-family: verdana;\n",
       "}\n",
       ".tag {\n",
       "    background: red;\n",
       "    color: white;\n",
       "    padding: 3px;\n",
       "}\n",
       ".warning {\n",
       "    background: red;\n",
       "    padding: 12px;\n",
       "    font-size: 24px;\n",
       "    color: white;\n",
       "    text-align: center;\n",
       "    font-family: verdana;\n",
       "}\n",
       ".symbol {\n",
       "    color: white;\n",
       "    background: green;\n",
       "    font-size: 20px;\n",
       "    padding: 2px;\n",
       "}\n",
       "code {\n",
       "    font-weight: bold;\n",
       "}\n",
       "</style>\n"
      ],
      "text/plain": [
       "<IPython.core.display.HTML object>"
      ]
     },
     "metadata": {},
     "output_type": "display_data"
    },
    {
     "name": "stderr",
     "output_type": "stream",
     "text": [
      "C:\\Users\\dell\\Anaconda3\\lib\\site-packages\\sklearn\\externals\\six.py:31: DeprecationWarning: The module is deprecated in version 0.21 and will be removed in version 0.23 since we've dropped support for Python 2.7. Please rely on the official version of six (https://pypi.org/project/six/).\n",
      "  \"(https://pypi.org/project/six/).\", DeprecationWarning)\n",
      "C:\\Users\\dell\\Anaconda3\\lib\\site-packages\\sklearn\\externals\\joblib\\__init__.py:15: DeprecationWarning: sklearn.externals.joblib is deprecated in 0.21 and will be removed in 0.23. Please import this functionality directly from joblib, which can be installed with: pip install joblib. If this warning is raised when loading pickled models, you may need to re-serialize those models with scikit-learn 0.21+.\n",
      "  warnings.warn(msg, category=DeprecationWarning)\n"
     ]
    }
   ],
   "source": [
    "%run convention.ipynb"
   ]
  },
  {
   "cell_type": "markdown",
   "metadata": {},
   "source": [
    "# Initialization"
   ]
  },
  {
   "cell_type": "markdown",
   "metadata": {},
   "source": [
    "<img src = 'initial.png'>"
   ]
  },
  {
   "cell_type": "code",
   "execution_count": 3,
   "metadata": {},
   "outputs": [],
   "source": [
    "from keras.layers import Dense, Flatten\n",
    "from keras.models import Sequentialquential, Model\n",
    "from keras.callbacks import EarlyStopping, ModelCheckpoint"
   ]
  },
  {
   "cell_type": "markdown",
   "metadata": {},
   "source": [
    "<p class = 'note'>By default, keras uses <b>Glorot</b> initialization</p>\n",
    "<code>kernel_initializer = 'he_uniform'</code>, \n",
    "<code>kernel_intializer = 'he_normal'></code>"
   ]
  },
  {
   "cell_type": "code",
   "execution_count": 4,
   "metadata": {},
   "outputs": [],
   "source": [
    "from sklearn.datasets import load_digits\n",
    "from sklearn.preprocessing import StandardScaler\n",
    "from sklearn.model_selection import train_test_split\n",
    "X, y = load_digits(return_X_y=True)\n",
    "X_train, X_test, y_train, y_test = train_test_split(X, y, random_state = 4)\n",
    "X_train, X_valid, y_train, y_valid = train_test_split(X_train, y_train, random_state = 16)\n",
    "scaler = StandardScaler()\n",
    "X_train = scaler.fit_transform(X_train)\n",
    "X_valid = scaler.transform(X_valid)\n",
    "X_test = scaler.transform(X_test)"
   ]
  },
  {
   "cell_type": "code",
   "execution_count": 6,
   "metadata": {},
   "outputs": [],
   "source": [
    "model1 = Sequential([\n",
    "    Dense(30, activation = 'relu', kernel_initializer = 'he_uniform'),\n",
    "    Dense(10, activation = 'softmax')\n",
    "])\n",
    "model1.compile(optimizer = 'adam', loss = 'sparse_categorical_crossentropy', metrics = ['accuracy'])"
   ]
  },
  {
   "cell_type": "code",
   "execution_count": 7,
   "metadata": {},
   "outputs": [
    {
     "name": "stdout",
     "output_type": "stream",
     "text": [
      "Train on 1010 samples, validate on 337 samples\n",
      "Epoch 1/20\n",
      "1010/1010 [==============================] - 1s 877us/step - loss: 2.3074 - accuracy: 0.2040 - val_loss: 2.0282 - val_accuracy: 0.3264\n",
      "Epoch 2/20\n",
      "1010/1010 [==============================] - 0s 105us/step - loss: 1.6688 - accuracy: 0.4545 - val_loss: 1.5313 - val_accuracy: 0.5519\n",
      "Epoch 3/20\n",
      "1010/1010 [==============================] - 0s 88us/step - loss: 1.2485 - accuracy: 0.6604 - val_loss: 1.1859 - val_accuracy: 0.6914\n",
      "Epoch 4/20\n",
      "1010/1010 [==============================] - 0s 91us/step - loss: 0.9550 - accuracy: 0.7782 - val_loss: 0.9254 - val_accuracy: 0.7626\n",
      "Epoch 5/20\n",
      "1010/1010 [==============================] - 0s 104us/step - loss: 0.7455 - accuracy: 0.8317 - val_loss: 0.7477 - val_accuracy: 0.7982\n",
      "Epoch 6/20\n",
      "1010/1010 [==============================] - 0s 102us/step - loss: 0.5933 - accuracy: 0.8673 - val_loss: 0.6197 - val_accuracy: 0.8457\n",
      "Epoch 7/20\n",
      "1010/1010 [==============================] - 0s 88us/step - loss: 0.4841 - accuracy: 0.9020 - val_loss: 0.5235 - val_accuracy: 0.8694\n",
      "Epoch 8/20\n",
      "1010/1010 [==============================] - 0s 84us/step - loss: 0.4050 - accuracy: 0.9149 - val_loss: 0.4555 - val_accuracy: 0.8813\n",
      "Epoch 9/20\n",
      "1010/1010 [==============================] - 0s 86us/step - loss: 0.3449 - accuracy: 0.9386 - val_loss: 0.4037 - val_accuracy: 0.8813\n",
      "Epoch 10/20\n",
      "1010/1010 [==============================] - 0s 87us/step - loss: 0.2994 - accuracy: 0.9426 - val_loss: 0.3611 - val_accuracy: 0.8902\n",
      "Epoch 11/20\n",
      "1010/1010 [==============================] - 0s 93us/step - loss: 0.2622 - accuracy: 0.9465 - val_loss: 0.3294 - val_accuracy: 0.9080\n",
      "Epoch 12/20\n",
      "1010/1010 [==============================] - 0s 91us/step - loss: 0.2330 - accuracy: 0.9535 - val_loss: 0.3020 - val_accuracy: 0.9110\n",
      "Epoch 13/20\n",
      "1010/1010 [==============================] - 0s 89us/step - loss: 0.2086 - accuracy: 0.9604 - val_loss: 0.2803 - val_accuracy: 0.9199\n",
      "Epoch 14/20\n",
      "1010/1010 [==============================] - 0s 88us/step - loss: 0.1891 - accuracy: 0.9624 - val_loss: 0.2613 - val_accuracy: 0.9258\n",
      "Epoch 15/20\n",
      "1010/1010 [==============================] - 0s 98us/step - loss: 0.1715 - accuracy: 0.9653 - val_loss: 0.2450 - val_accuracy: 0.9347\n",
      "Epoch 16/20\n",
      "1010/1010 [==============================] - 0s 89us/step - loss: 0.1569 - accuracy: 0.9703 - val_loss: 0.2296 - val_accuracy: 0.9347\n",
      "Epoch 17/20\n",
      "1010/1010 [==============================] - 0s 97us/step - loss: 0.1446 - accuracy: 0.9703 - val_loss: 0.2183 - val_accuracy: 0.9377\n",
      "Epoch 18/20\n",
      "1010/1010 [==============================] - 0s 89us/step - loss: 0.1330 - accuracy: 0.9723 - val_loss: 0.2083 - val_accuracy: 0.9436\n",
      "Epoch 19/20\n",
      "1010/1010 [==============================] - 0s 83us/step - loss: 0.1231 - accuracy: 0.9782 - val_loss: 0.1992 - val_accuracy: 0.9407\n",
      "Epoch 20/20\n",
      "1010/1010 [==============================] - 0s 96us/step - loss: 0.1138 - accuracy: 0.9792 - val_loss: 0.1900 - val_accuracy: 0.9407\n"
     ]
    }
   ],
   "source": [
    "hist1 = model1.fit(X_train, y_train, validation_data = [X_valid, y_valid], epochs = 20)"
   ]
  },
  {
   "cell_type": "code",
   "execution_count": 8,
   "metadata": {},
   "outputs": [
    {
     "data": {
      "text/plain": [
       "<matplotlib.axes._subplots.AxesSubplot at 0x29f0c485128>"
      ]
     },
     "execution_count": 8,
     "metadata": {},
     "output_type": "execute_result"
    },
    {
     "data": {
      "image/png": "[encoded data removed]",
      "text/plain": [
       "<Figure size 720x576 with 1 Axes>"
      ]
     },
     "metadata": {
      "needs_background": "light"
     },
     "output_type": "display_data"
    }
   ],
   "source": [
    "df = pd.DataFrame(hist1.history)\n",
    "df.plot(figsize = (10, 8))"
   ]
  },
  {
   "cell_type": "markdown",
   "metadata": {},
   "source": [
    "If you want He initialization with a uniform distribution, but based on $fan_{avg}$ rather\n",
    "than $fan_{in}$, you can use the <code>VarianceScaling</code> initializer like this:"
   ]
  },
  {
   "cell_type": "code",
   "execution_count": 11,
   "metadata": {},
   "outputs": [],
   "source": [
    "from keras.initializers import VarianceScaling\n",
    "init = VarianceScaling(scale = 2, mode = 'fan_avg', distribution='uniform')\n",
    "hidden1 = Dense(30,  activation = 'relu', kernel_initializer=init)"
   ]
  },
  {
   "cell_type": "markdown",
   "metadata": {},
   "source": [
    "# Non-saturated Activation Functions"
   ]
  },
  {
   "cell_type": "markdown",
   "metadata": {},
   "source": [
    "<p class = 'highlight'>\n",
    "So which activation function should you use for the hidden layers\n",
    "of your deep neural networks? Although your mileage will vary, in\n",
    "general SELU > ELU > leaky ReLU (and its variants) > ReLU > tanh\n",
    "> logistic. If the network’s architecture prevents it from selfnormalizing, then ELU may perform better than SELU (since SELU\n",
    "is not smooth at z = 0). If you care a lot about runtime latency, then\n",
    "you may prefer leaky ReLU. If you don’t want to tweak yet another\n",
    "hyperparameter, you may just use the default α values used by\n",
    "Keras (e.g., 0.3 for the leaky ReLU). If you have spare time and\n",
    "computing power, you can use cross-validation to evaluate other\n",
    "activation functions, in particular RReLU if your network is over‐\n",
    "fitting, or PReLU if you have a huge training set.\n",
    "<p>"
   ]
  },
  {
   "cell_type": "markdown",
   "metadata": {},
   "source": [
    "## Leaky ReLU"
   ]
  },
  {
   "cell_type": "code",
   "execution_count": 14,
   "metadata": {},
   "outputs": [],
   "source": [
    "from keras.layers import LeakyReLU\n",
    "LReLU = LeakyReLU(alpha = .01)\n",
    "hidden = Dense(30, activation=LReLU, kernel_initializer='he_normal')"
   ]
  },
  {
   "cell_type": "markdown",
   "metadata": {},
   "source": [
    "## Scale Exponential Linear Unit (SELU)"
   ]
  },
  {
   "cell_type": "code",
   "execution_count": 15,
   "metadata": {},
   "outputs": [],
   "source": [
    "hidden = Dense(30, activation = 'selu', kernel_initializer='lecun_normal')"
   ]
  },
  {
   "cell_type": "markdown",
   "metadata": {},
   "source": [
    "# Batch Normalization"
   ]
  },
  {
   "cell_type": "code",
   "execution_count": 18,
   "metadata": {},
   "outputs": [],
   "source": [
    "from keras.layers import BatchNormalization\n",
    "model2 = Sequential([\n",
    "    BatchNormalization(),\n",
    "    Dense(30, activation = 'elu', kernel_initializer = 'he_normal'),\n",
    "    BatchNormalization(),\n",
    "    Dense(8, activation = 'elu', kernel_initializer = 'he_normal'),\n",
    "    BatchNormalization(),\n",
    "    Dense(10, activation = 'softmax')\n",
    "])\n",
    "model2.compile('adam', 'sparse_categorical_crossentropy', metrics = ['accuracy'])\n"
   ]
  },
  {
   "cell_type": "code",
   "execution_count": 19,
   "metadata": {},
   "outputs": [
    {
     "name": "stdout",
     "output_type": "stream",
     "text": [
      "Train on 1010 samples, validate on 337 samples\n",
      "Epoch 1/30\n",
      "1010/1010 [==============================] - 2s 2ms/step - loss: 2.1545 - accuracy: 0.2505 - val_loss: 1.8390 - val_accuracy: 0.4036\n",
      "Epoch 2/30\n",
      "1010/1010 [==============================] - 0s 140us/step - loss: 1.6070 - accuracy: 0.5139 - val_loss: 1.4634 - val_accuracy: 0.5519\n",
      "Epoch 3/30\n",
      "1010/1010 [==============================] - 0s 135us/step - loss: 1.3473 - accuracy: 0.6465 - val_loss: 1.2626 - val_accuracy: 0.6439\n",
      "Epoch 4/30\n",
      "1010/1010 [==============================] - 0s 134us/step - loss: 1.1895 - accuracy: 0.7099 - val_loss: 1.1229 - val_accuracy: 0.6914\n",
      "Epoch 5/30\n",
      "1010/1010 [==============================] - 0s 141us/step - loss: 1.0618 - accuracy: 0.7535 - val_loss: 1.0108 - val_accuracy: 0.7507\n",
      "Epoch 6/30\n",
      "1010/1010 [==============================] - 0s 137us/step - loss: 0.9571 - accuracy: 0.7871 - val_loss: 0.9108 - val_accuracy: 0.8042\n",
      "Epoch 7/30\n",
      "1010/1010 [==============================] - 0s 139us/step - loss: 0.8452 - accuracy: 0.8337 - val_loss: 0.8302 - val_accuracy: 0.8368\n",
      "Epoch 8/30\n",
      "1010/1010 [==============================] - 0s 142us/step - loss: 0.7796 - accuracy: 0.8366 - val_loss: 0.7611 - val_accuracy: 0.8457\n",
      "Epoch 9/30\n",
      "1010/1010 [==============================] - 0s 143us/step - loss: 0.6847 - accuracy: 0.8653 - val_loss: 0.6982 - val_accuracy: 0.8576\n",
      "Epoch 10/30\n",
      "1010/1010 [==============================] - 0s 155us/step - loss: 0.6211 - accuracy: 0.8822 - val_loss: 0.6424 - val_accuracy: 0.8665\n",
      "Epoch 11/30\n",
      "1010/1010 [==============================] - 0s 161us/step - loss: 0.5677 - accuracy: 0.9020 - val_loss: 0.5874 - val_accuracy: 0.8783\n",
      "Epoch 12/30\n",
      "1010/1010 [==============================] - 0s 146us/step - loss: 0.5144 - accuracy: 0.9139 - val_loss: 0.5433 - val_accuracy: 0.8872\n",
      "Epoch 13/30\n",
      "1010/1010 [==============================] - 0s 134us/step - loss: 0.4754 - accuracy: 0.9139 - val_loss: 0.5116 - val_accuracy: 0.8872\n",
      "Epoch 14/30\n",
      "1010/1010 [==============================] - 0s 151us/step - loss: 0.4280 - accuracy: 0.9198 - val_loss: 0.4741 - val_accuracy: 0.8961\n",
      "Epoch 15/30\n",
      "1010/1010 [==============================] - 0s 144us/step - loss: 0.4035 - accuracy: 0.9149 - val_loss: 0.4488 - val_accuracy: 0.9080\n",
      "Epoch 16/30\n",
      "1010/1010 [==============================] - 0s 142us/step - loss: 0.3725 - accuracy: 0.9337 - val_loss: 0.4323 - val_accuracy: 0.9080\n",
      "Epoch 17/30\n",
      "1010/1010 [==============================] - 0s 151us/step - loss: 0.3513 - accuracy: 0.9347 - val_loss: 0.4074 - val_accuracy: 0.9228\n",
      "Epoch 18/30\n",
      "1010/1010 [==============================] - 0s 148us/step - loss: 0.3344 - accuracy: 0.9356 - val_loss: 0.3856 - val_accuracy: 0.9347\n",
      "Epoch 19/30\n",
      "1010/1010 [==============================] - 0s 145us/step - loss: 0.3096 - accuracy: 0.9426 - val_loss: 0.3666 - val_accuracy: 0.9318\n",
      "Epoch 20/30\n",
      "1010/1010 [==============================] - 0s 140us/step - loss: 0.2867 - accuracy: 0.9406 - val_loss: 0.3475 - val_accuracy: 0.9377\n",
      "Epoch 21/30\n",
      "1010/1010 [==============================] - 0s 144us/step - loss: 0.2599 - accuracy: 0.9495 - val_loss: 0.3410 - val_accuracy: 0.9466\n",
      "Epoch 22/30\n",
      "1010/1010 [==============================] - 0s 147us/step - loss: 0.2422 - accuracy: 0.9545 - val_loss: 0.3250 - val_accuracy: 0.9525\n",
      "Epoch 23/30\n",
      "1010/1010 [==============================] - 0s 149us/step - loss: 0.2222 - accuracy: 0.9673 - val_loss: 0.3158 - val_accuracy: 0.9555\n",
      "Epoch 24/30\n",
      "1010/1010 [==============================] - 0s 151us/step - loss: 0.2251 - accuracy: 0.9545 - val_loss: 0.3132 - val_accuracy: 0.9496\n",
      "Epoch 25/30\n",
      "1010/1010 [==============================] - 0s 141us/step - loss: 0.2150 - accuracy: 0.9584 - val_loss: 0.3024 - val_accuracy: 0.9525\n",
      "Epoch 26/30\n",
      "1010/1010 [==============================] - 0s 127us/step - loss: 0.1921 - accuracy: 0.9653 - val_loss: 0.2879 - val_accuracy: 0.9525\n",
      "Epoch 27/30\n",
      "1010/1010 [==============================] - 0s 149us/step - loss: 0.1791 - accuracy: 0.9663 - val_loss: 0.2801 - val_accuracy: 0.9525\n",
      "Epoch 28/30\n",
      "1010/1010 [==============================] - 0s 145us/step - loss: 0.1746 - accuracy: 0.9663 - val_loss: 0.2679 - val_accuracy: 0.9585\n",
      "Epoch 29/30\n",
      "1010/1010 [==============================] - 0s 146us/step - loss: 0.1810 - accuracy: 0.9564 - val_loss: 0.2680 - val_accuracy: 0.9525\n",
      "Epoch 30/30\n",
      "1010/1010 [==============================] - 0s 147us/step - loss: 0.1577 - accuracy: 0.9663 - val_loss: 0.2678 - val_accuracy: 0.9555\n"
     ]
    },
    {
     "data": {
      "text/plain": [
       "<keras.callbacks.callbacks.History at 0x29f10ef6160>"
      ]
     },
     "execution_count": 19,
     "metadata": {},
     "output_type": "execute_result"
    }
   ],
   "source": [
    "early_cb = EarlyStopping(patience=10, restore_best_weights=True)\n",
    "model2.fit(X_train, y_train, validation_data = (X_valid, y_valid), epochs = 30, callbacks = [early_cb])"
   ]
  },
  {
   "cell_type": "code",
   "execution_count": 22,
   "metadata": {},
   "outputs": [
    {
     "name": "stdout",
     "output_type": "stream",
     "text": [
      "450/450 [==============================] - 0s 34us/step\n"
     ]
    },
    {
     "data": {
      "text/plain": [
       "loss        0.311988\n",
       "accuracy    0.953333\n",
       "dtype: float64"
      ]
     },
     "execution_count": 22,
     "metadata": {},
     "output_type": "execute_result"
    }
   ],
   "source": [
    "pd.Series(model2.evaluate(X_test, y_test), index = ['loss', 'accuracy'])"
   ]
  },
  {
   "cell_type": "markdown",
   "metadata": {},
   "source": [
    "The authors of the BN paper argued in favor of adding the BN layers before the acti‐\n",
    "vation functions, rather than after (as we just did). There is some debate about this, as\n",
    "it seems to depend on the task. So that’s one more thing you can experiment with to\n",
    "see which option works best on your dataset. To add the BN layers before the activa‐\n",
    "tion functions, we must remove the activation function from the hidden layers, and\n",
    "add them as separate layers after the BN layers. Moreover, since a Batch Normaliza‐\n",
    "tion layer includes one offset parameter per input, you can remove the bias term from\n",
    "the previous layer (just pass <code>use_bias=False</code> when creating it):"
   ]
  },
  {
   "cell_type": "code",
   "execution_count": 27,
   "metadata": {},
   "outputs": [],
   "source": [
    "from keras.layers import Activation\n",
    "model3 = Sequential([\n",
    "    BatchNormalization(),\n",
    "    Dense(30, kernel_initializer = 'he_normal'),\n",
    "    BatchNormalization(),\n",
    "    Activation('elu'),\n",
    "    Dense(10, activation = 'softmax')\n",
    "])\n",
    "\n",
    "model3.compile('adam', 'sparse_categorical_crossentropy', metrics = ['accuracy'])"
   ]
  },
  {
   "cell_type": "code",
   "execution_count": 28,
   "metadata": {},
   "outputs": [
    {
     "name": "stdout",
     "output_type": "stream",
     "text": [
      "Train on 1010 samples, validate on 337 samples\n",
      "Epoch 1/30\n",
      "1010/1010 [==============================] - 1s 832us/step - loss: 2.4499 - accuracy: 0.1455 - val_loss: 2.0096 - val_accuracy: 0.3620\n",
      "Epoch 2/30\n",
      "1010/1010 [==============================] - 0s 122us/step - loss: 1.6315 - accuracy: 0.4634 - val_loss: 1.3915 - val_accuracy: 0.6113\n",
      "Epoch 3/30\n",
      "1010/1010 [==============================] - 0s 112us/step - loss: 1.2049 - accuracy: 0.6564 - val_loss: 1.0629 - val_accuracy: 0.7062\n",
      "Epoch 4/30\n",
      "1010/1010 [==============================] - 0s 114us/step - loss: 0.9549 - accuracy: 0.7634 - val_loss: 0.8676 - val_accuracy: 0.7626\n",
      "Epoch 5/30\n",
      "1010/1010 [==============================] - 0s 116us/step - loss: 0.7799 - accuracy: 0.8158 - val_loss: 0.7346 - val_accuracy: 0.7953\n",
      "Epoch 6/30\n",
      "1010/1010 [==============================] - 0s 117us/step - loss: 0.6562 - accuracy: 0.8495 - val_loss: 0.6338 - val_accuracy: 0.8309\n",
      "Epoch 7/30\n",
      "1010/1010 [==============================] - 0s 113us/step - loss: 0.5615 - accuracy: 0.8812 - val_loss: 0.5593 - val_accuracy: 0.8546\n",
      "Epoch 8/30\n",
      "1010/1010 [==============================] - 0s 114us/step - loss: 0.4816 - accuracy: 0.9040 - val_loss: 0.4962 - val_accuracy: 0.8754\n",
      "Epoch 9/30\n",
      "1010/1010 [==============================] - 0s 112us/step - loss: 0.4235 - accuracy: 0.9178 - val_loss: 0.4495 - val_accuracy: 0.8872\n",
      "Epoch 10/30\n",
      "1010/1010 [==============================] - 0s 110us/step - loss: 0.3714 - accuracy: 0.9267 - val_loss: 0.4073 - val_accuracy: 0.8991\n",
      "Epoch 11/30\n",
      "1010/1010 [==============================] - 0s 115us/step - loss: 0.3250 - accuracy: 0.9366 - val_loss: 0.3725 - val_accuracy: 0.9080\n",
      "Epoch 12/30\n",
      "1010/1010 [==============================] - 0s 129us/step - loss: 0.3015 - accuracy: 0.9436 - val_loss: 0.3464 - val_accuracy: 0.9199\n",
      "Epoch 13/30\n",
      "1010/1010 [==============================] - 0s 114us/step - loss: 0.2840 - accuracy: 0.9386 - val_loss: 0.3205 - val_accuracy: 0.9258\n",
      "Epoch 14/30\n",
      "1010/1010 [==============================] - 0s 116us/step - loss: 0.2471 - accuracy: 0.9525 - val_loss: 0.3002 - val_accuracy: 0.9258\n",
      "Epoch 15/30\n",
      "1010/1010 [==============================] - 0s 108us/step - loss: 0.2354 - accuracy: 0.9535 - val_loss: 0.2847 - val_accuracy: 0.9258\n",
      "Epoch 16/30\n",
      "1010/1010 [==============================] - 0s 105us/step - loss: 0.2086 - accuracy: 0.9653 - val_loss: 0.2664 - val_accuracy: 0.9377\n",
      "Epoch 17/30\n",
      "1010/1010 [==============================] - 0s 118us/step - loss: 0.2090 - accuracy: 0.9525 - val_loss: 0.2567 - val_accuracy: 0.9377\n",
      "Epoch 18/30\n",
      "1010/1010 [==============================] - 0s 114us/step - loss: 0.1924 - accuracy: 0.9604 - val_loss: 0.2417 - val_accuracy: 0.9466\n",
      "Epoch 19/30\n",
      "1010/1010 [==============================] - 0s 121us/step - loss: 0.1867 - accuracy: 0.9634 - val_loss: 0.2299 - val_accuracy: 0.9436\n",
      "Epoch 20/30\n",
      "1010/1010 [==============================] - 0s 115us/step - loss: 0.1725 - accuracy: 0.9673 - val_loss: 0.2219 - val_accuracy: 0.9466\n",
      "Epoch 21/30\n",
      "1010/1010 [==============================] - 0s 102us/step - loss: 0.1624 - accuracy: 0.9673 - val_loss: 0.2149 - val_accuracy: 0.9407\n",
      "Epoch 22/30\n",
      "1010/1010 [==============================] - 0s 125us/step - loss: 0.1446 - accuracy: 0.9782 - val_loss: 0.2082 - val_accuracy: 0.9466\n",
      "Epoch 23/30\n",
      "1010/1010 [==============================] - 0s 113us/step - loss: 0.1457 - accuracy: 0.9673 - val_loss: 0.1980 - val_accuracy: 0.9496\n",
      "Epoch 24/30\n",
      "1010/1010 [==============================] - 0s 106us/step - loss: 0.1296 - accuracy: 0.9752 - val_loss: 0.1939 - val_accuracy: 0.9496\n",
      "Epoch 25/30\n",
      "1010/1010 [==============================] - 0s 107us/step - loss: 0.1283 - accuracy: 0.9723 - val_loss: 0.1853 - val_accuracy: 0.9525\n",
      "Epoch 26/30\n",
      "1010/1010 [==============================] - 0s 123us/step - loss: 0.1220 - accuracy: 0.9802 - val_loss: 0.1791 - val_accuracy: 0.9555\n",
      "Epoch 27/30\n",
      "1010/1010 [==============================] - 0s 113us/step - loss: 0.1047 - accuracy: 0.9822 - val_loss: 0.1794 - val_accuracy: 0.9525\n",
      "Epoch 28/30\n",
      "1010/1010 [==============================] - 0s 109us/step - loss: 0.1060 - accuracy: 0.9792 - val_loss: 0.1746 - val_accuracy: 0.9525\n",
      "Epoch 29/30\n",
      "1010/1010 [==============================] - 0s 110us/step - loss: 0.1004 - accuracy: 0.9861 - val_loss: 0.1679 - val_accuracy: 0.9525\n",
      "Epoch 30/30\n",
      "1010/1010 [==============================] - 0s 115us/step - loss: 0.1050 - accuracy: 0.9822 - val_loss: 0.1659 - val_accuracy: 0.9525\n"
     ]
    }
   ],
   "source": [
    "hist3 = model3.fit(X_train, y_train, validation_data = (X_valid, y_valid), epochs = 30, callbacks = [EarlyStopping(patience = 8, restore_best_weights=True)])"
   ]
  },
  {
   "cell_type": "code",
   "execution_count": 29,
   "metadata": {},
   "outputs": [
    {
     "data": {
      "text/plain": [
       "<matplotlib.axes._subplots.AxesSubplot at 0x29f17f34e80>"
      ]
     },
     "execution_count": 29,
     "metadata": {},
     "output_type": "execute_result"
    },
    {
     "data": {
      "image/png": "[encoded data removed]",
      "text/plain": [
       "<Figure size 720x576 with 1 Axes>"
      ]
     },
     "metadata": {
      "needs_background": "light"
     },
     "output_type": "display_data"
    }
   ],
   "source": [
    "pd.DataFrame(hist3.history).plot(figsize = (10, 8))"
   ]
  },
  {
   "cell_type": "code",
   "execution_count": 30,
   "metadata": {},
   "outputs": [
    {
     "name": "stdout",
     "output_type": "stream",
     "text": [
      "Model: \"sequential_6\"\n",
      "_________________________________________________________________\n",
      "Layer (type)                 Output Shape              Param #   \n",
      "=================================================================\n",
      "batch_normalization_13 (Batc (None, 64)                256       \n",
      "_________________________________________________________________\n",
      "dense_20 (Dense)             (None, 30)                1950      \n",
      "_________________________________________________________________\n",
      "batch_normalization_14 (Batc (None, 30)                120       \n",
      "_________________________________________________________________\n",
      "activation_3 (Activation)    (None, 30)                0         \n",
      "_________________________________________________________________\n",
      "dense_21 (Dense)             (None, 10)                310       \n",
      "=================================================================\n",
      "Total params: 2,636\n",
      "Trainable params: 2,448\n",
      "Non-trainable params: 188\n",
      "_________________________________________________________________\n"
     ]
    }
   ],
   "source": [
    "model3.summary()"
   ]
  },
  {
   "cell_type": "code",
   "execution_count": 33,
   "metadata": {},
   "outputs": [
    {
     "data": {
      "text/plain": [
       "[<keras.layers.normalization.BatchNormalization at 0x29f150f3b00>,\n",
       " <keras.layers.core.Dense at 0x29f150e0c88>,\n",
       " <keras.layers.normalization.BatchNormalization at 0x29f150b65c0>,\n",
       " <keras.layers.core.Activation at 0x29f150b68d0>,\n",
       " <keras.layers.core.Dense at 0x29f150a33c8>]"
      ]
     },
     "execution_count": 33,
     "metadata": {},
     "output_type": "execute_result"
    }
   ],
   "source": [
    "model3.layers"
   ]
  },
  {
   "cell_type": "markdown",
   "metadata": {},
   "source": [
    "## Tuning hyperparameters of Batch Normalization"
   ]
  },
  {
   "cell_type": "markdown",
   "metadata": {},
   "source": [
    "The <code>BatchNormalization</code> class has quite a few hyperparameters you can tweak. The\n",
    "defaults will usually be fine, but you may occasionally need to tweak the <b>momentum</b>."
   ]
  },
  {
   "cell_type": "code",
   "execution_count": 45,
   "metadata": {},
   "outputs": [],
   "source": [
    "batch_layer = BatchNormalization(momentum = .9)\n"
   ]
  },
  {
   "cell_type": "markdown",
   "metadata": {},
   "source": [
    "Tuning <code>axis</code> keyword"
   ]
  },
  {
   "cell_type": "markdown",
   "metadata": {},
   "source": [
    "# Gradient Clipping"
   ]
  },
  {
   "cell_type": "markdown",
   "metadata": {},
   "source": [
    "setting <code>clipvalue</code> or <code>clipnorm</code> in <b>Gradient optimizer</b>"
   ]
  },
  {
   "cell_type": "code",
   "execution_count": 47,
   "metadata": {},
   "outputs": [],
   "source": [
    "from keras.optimizers import SGD\n",
    "opt = SGD(clipvalue = 2.)"
   ]
  },
  {
   "cell_type": "markdown",
   "metadata": {},
   "source": [
    "<b>Explain</b>:\n",
    "    If partitial derivative is large than 2 then we clip it to 2<br>\n",
    "    If partitial derivative is smaller than -2 than we clip it to -2"
   ]
  },
  {
   "cell_type": "markdown",
   "metadata": {},
   "source": [
    "<code>clipnorm</code>: Normalize the gradient vector to unit length then clip <br>\n"
   ]
  },
  {
   "cell_type": "markdown",
   "metadata": {},
   "source": [
    "# Reusing Pretrained Layers"
   ]
  },
  {
   "cell_type": "markdown",
   "metadata": {},
   "source": [
    "## Transfer Learning"
   ]
  },
  {
   "cell_type": "markdown",
   "metadata": {},
   "source": [
    "<img src = 'transfer.png'>"
   ]
  },
  {
   "cell_type": "markdown",
   "metadata": {},
   "source": [
    "<img src = 'transfer_tip.png'>"
   ]
  },
  {
   "cell_type": "markdown",
   "metadata": {},
   "source": [
    "## Transfer learning with Keras"
   ]
  },
  {
   "cell_type": "code",
   "execution_count": null,
   "metadata": {},
   "outputs": [],
   "source": []
  },
  {
   "cell_type": "markdown",
   "metadata": {},
   "source": [
    "# Unsupervised with Pretraining"
   ]
  },
  {
   "cell_type": "markdown",
   "metadata": {},
   "source": [
    "<img src = 'pretrain.png'>"
   ]
  }
 ],
 "metadata": {
  "kernelspec": {
   "display_name": "Python 3",
   "language": "python",
   "name": "python3"
  },
  "language_info": {
   "codemirror_mode": {
    "name": "ipython",
    "version": 3
   },
   "file_extension": ".py",
   "mimetype": "text/x-python",
   "name": "python",
   "nbconvert_exporter": "python",
   "pygments_lexer": "ipython3",
   "version": "3.7.3"
  }
 },
 "nbformat": 4,
 "nbformat_minor": 2
}
