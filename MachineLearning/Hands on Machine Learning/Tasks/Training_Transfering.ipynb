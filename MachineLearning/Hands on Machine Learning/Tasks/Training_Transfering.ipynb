{
 "cells": [
  {
   "cell_type": "code",
   "execution_count": 1,
   "metadata": {},
   "outputs": [
    {
     "data": {
      "text/html": [
       "<style>\n",
       ".box {\n",
       "    border: 1px double dodgerblue;\n",
       "    padding: 5px;\n",
       "}\n",
       ".note {\n",
       "    font-size: 20;\n",
       "    color: teal;\n",
       "    font-weight: bold;\n",
       "}\n",
       ".highlight {\n",
       "    color: green;\n",
       "    font-family: verdana;\n",
       "}\n",
       ".tag {\n",
       "    background: red;\n",
       "    color: white;\n",
       "    padding: 3px;\n",
       "}\n",
       ".warning {\n",
       "    background: red;\n",
       "    padding: 12px;\n",
       "    font-size: 24px;\n",
       "    color: white;\n",
       "    text-align: center;\n",
       "    font-family: verdana;\n",
       "}\n",
       ".symbol {\n",
       "    color: white;\n",
       "    background: green;\n",
       "    font-size: 20px;\n",
       "    padding: 2px;\n",
       "}\n",
       "code {\n",
       "    font-weight: bold;\n",
       "}\n",
       "</style>\n"
      ],
      "text/plain": [
       "<IPython.core.display.HTML object>"
      ]
     },
     "metadata": {},
     "output_type": "display_data"
    },
    {
     "name": "stderr",
     "output_type": "stream",
     "text": [
      "C:\\Users\\dell\\Anaconda3\\lib\\site-packages\\sklearn\\externals\\six.py:31: DeprecationWarning: The module is deprecated in version 0.21 and will be removed in version 0.23 since we've dropped support for Python 2.7. Please rely on the official version of six (https://pypi.org/project/six/).\n",
      "  \"(https://pypi.org/project/six/).\", DeprecationWarning)\n",
      "C:\\Users\\dell\\Anaconda3\\lib\\site-packages\\sklearn\\externals\\joblib\\__init__.py:15: DeprecationWarning: sklearn.externals.joblib is deprecated in 0.21 and will be removed in 0.23. Please import this functionality directly from joblib, which can be installed with: pip install joblib. If this warning is raised when loading pickled models, you may need to re-serialize those models with scikit-learn 0.21+.\n",
      "  warnings.warn(msg, category=DeprecationWarning)\n"
     ]
    }
   ],
   "source": [
    "%run ../convention.ipynb"
   ]
  },
  {
   "cell_type": "markdown",
   "metadata": {},
   "source": [
    "# Problem 1"
   ]
  },
  {
   "cell_type": "markdown",
   "metadata": {},
   "source": [
    "Exercise: Build a DNN with five hidden layers of 100 neurons each, He initialization, and the ELU activation function."
   ]
  },
  {
   "cell_type": "code",
   "execution_count": 2,
   "metadata": {},
   "outputs": [
    {
     "name": "stderr",
     "output_type": "stream",
     "text": [
      "Using TensorFlow backend.\n"
     ]
    }
   ],
   "source": [
    "from functools import partial\n",
    "from keras.layers import Dense, Flatten\n",
    "from keras.layers import ELU\n",
    "from keras.models import Sequential\n",
    "\n",
    "model = Sequential([\n",
    "    Flatten(),\n",
    "    Dense(100, kernel_initializer = 'he_normal'),\n",
    "    ELU(alpha = 1),\n",
    "    Dense(100, kernel_initializer = 'he_normal'),\n",
    "    ELU(alpha = 1),\n",
    "    Dense(100, kernel_initializer = 'he_normal'),\n",
    "    ELU(alpha = 1),\n",
    "    Dense(100, kernel_initializer = 'he_normal'),\n",
    "    ELU(alpha = 1),\n",
    "    Dense(100, kernel_initializer = 'he_normal'),\n",
    "    ELU(alpha = 1)\n",
    "])"
   ]
  },
  {
   "cell_type": "markdown",
   "metadata": {},
   "source": [
    "# Problem 2"
   ]
  },
  {
   "cell_type": "markdown",
   "metadata": {},
   "source": [
    "Exercise: Using Adam optimization and early stopping, try training it on MNIST but only on digits 0 to 4, as we will use transfer learning for digits 5 to 9 in the next exercise. You will need a softmax output layer with five neurons, and as always make sure to save checkpoints at regular intervals and save the final model so you can reuse it later."
   ]
  },
  {
   "cell_type": "code",
   "execution_count": 3,
   "metadata": {},
   "outputs": [],
   "source": [
    "from keras.datasets.mnist import load_data\n",
    "from sklearn.model_selection import train_test_split\n",
    "(X_train, y_train), (X_test, y_test) = load_data()\n",
    "mask = y_train < 5\n",
    "X_train = X_train[mask] / 250.\n",
    "y_train = y_train[mask]\n",
    "X_train, X_valid, y_train, y_valid = train_test_split(X_train, y_train, random_state = 6)"
   ]
  },
  {
   "cell_type": "code",
   "execution_count": 4,
   "metadata": {},
   "outputs": [],
   "source": [
    "model.add(Dense(5, activation = 'softmax'))"
   ]
  },
  {
   "cell_type": "code",
   "execution_count": 5,
   "metadata": {},
   "outputs": [],
   "source": [
    "from keras.callbacks import ModelCheckpoint, EarlyStopping\n",
    "from keras.optimizers import Adam\n",
    "checkpoint_cb = ModelCheckpoint('mnist_0_4.h5', save_best_only=True)\n",
    "early_cb = EarlyStopping(patience=8, restore_best_weights=True)\n",
    "model.compile(optimizer=Adam(), loss = 'sparse_categorical_crossentropy', metrics = ['accuracy'])\n"
   ]
  },
  {
   "cell_type": "code",
   "execution_count": 6,
   "metadata": {},
   "outputs": [
    {
     "name": "stdout",
     "output_type": "stream",
     "text": [
      "Train on 22947 samples, validate on 7649 samples\n",
      "Epoch 1/30\n",
      "22947/22947 [==============================] - 3s 132us/step - loss: 0.1177 - accuracy: 0.9624 - val_loss: 0.1163 - val_accuracy: 0.9657\n",
      "Epoch 2/30\n",
      "22947/22947 [==============================] - 2s 85us/step - loss: 0.0587 - accuracy: 0.9811 - val_loss: 0.0759 - val_accuracy: 0.9784\n",
      "Epoch 3/30\n",
      "22947/22947 [==============================] - 2s 74us/step - loss: 0.0405 - accuracy: 0.9871 - val_loss: 0.0596 - val_accuracy: 0.9831\n",
      "Epoch 4/30\n",
      "22947/22947 [==============================] - 2s 72us/step - loss: 0.0294 - accuracy: 0.9898 - val_loss: 0.0877 - val_accuracy: 0.9763\n",
      "Epoch 5/30\n",
      "22947/22947 [==============================] - 2s 72us/step - loss: 0.0278 - accuracy: 0.9914 - val_loss: 0.0750 - val_accuracy: 0.9826\n",
      "Epoch 6/30\n",
      "22947/22947 [==============================] - 2s 72us/step - loss: 0.0247 - accuracy: 0.9923 - val_loss: 0.0701 - val_accuracy: 0.9833\n",
      "Epoch 7/30\n",
      "22947/22947 [==============================] - 2s 78us/step - loss: 0.0189 - accuracy: 0.9936 - val_loss: 0.0682 - val_accuracy: 0.9847\n",
      "Epoch 8/30\n",
      "22947/22947 [==============================] - 2s 84us/step - loss: 0.0153 - accuracy: 0.9951 - val_loss: 0.0591 - val_accuracy: 0.9868\n",
      "Epoch 9/30\n",
      "22947/22947 [==============================] - 2s 87us/step - loss: 0.0165 - accuracy: 0.9959 - val_loss: 0.0795 - val_accuracy: 0.9833\n",
      "Epoch 10/30\n",
      "22947/22947 [==============================] - 2s 82us/step - loss: 0.0166 - accuracy: 0.9950 - val_loss: 0.0715 - val_accuracy: 0.9869\n",
      "Epoch 11/30\n",
      "22947/22947 [==============================] - 2s 74us/step - loss: 0.0147 - accuracy: 0.9956 - val_loss: 0.0658 - val_accuracy: 0.9871\n",
      "Epoch 12/30\n",
      "22947/22947 [==============================] - 2s 78us/step - loss: 0.0113 - accuracy: 0.9965 - val_loss: 0.0638 - val_accuracy: 0.9872\n",
      "Epoch 13/30\n",
      "22947/22947 [==============================] - 2s 75us/step - loss: 0.0103 - accuracy: 0.9971 - val_loss: 0.0630 - val_accuracy: 0.9865\n",
      "Epoch 14/30\n",
      "22947/22947 [==============================] - 2s 77us/step - loss: 0.0122 - accuracy: 0.9965 - val_loss: 0.0706 - val_accuracy: 0.9869\n",
      "Epoch 15/30\n",
      "22947/22947 [==============================] - 2s 85us/step - loss: 0.0123 - accuracy: 0.9965 - val_loss: 0.0890 - val_accuracy: 0.9861\n",
      "Epoch 16/30\n",
      "22947/22947 [==============================] - 2s 83us/step - loss: 0.0103 - accuracy: 0.9973 - val_loss: 0.0771 - val_accuracy: 0.9855\n"
     ]
    }
   ],
   "source": [
    "hist = model.fit(X_train, y_train, validation_data=(X_valid, y_valid), epochs = 30, batch_size = 32, callbacks=[checkpoint_cb, early_cb])"
   ]
  },
  {
   "cell_type": "code",
   "execution_count": 7,
   "metadata": {},
   "outputs": [
    {
     "data": {
      "text/plain": [
       "<matplotlib.axes._subplots.AxesSubplot at 0x1904e917898>"
      ]
     },
     "execution_count": 7,
     "metadata": {},
     "output_type": "execute_result"
    },
    {
     "data": {
      "image/png": "[encoded data removed]",
      "text/plain": [
       "<Figure size 432x288 with 1 Axes>"
      ]
     },
     "metadata": {
      "needs_background": "light"
     },
     "output_type": "display_data"
    }
   ],
   "source": [
    "pd.DataFrame(hist.history).plot()"
   ]
  },
  {
   "cell_type": "markdown",
   "metadata": {},
   "source": [
    "# Problem 3"
   ]
  },
  {
   "cell_type": "markdown",
   "metadata": {},
   "source": [
    "Exercise: Now try adding Batch Normalization and compare the learning curves: is it converging faster than before? Does it produce a better model?"
   ]
  },
  {
   "cell_type": "code",
   "execution_count": 8,
   "metadata": {},
   "outputs": [],
   "source": [
    "from keras.layers import BatchNormalization\n",
    "DefaultLayer = partial(Dense, units = 100, activation = 'elu', kernel_initializer = 'he_normal')\n",
    "model_batch = Sequential([\n",
    "    Flatten(),\n",
    "    BatchNormalization(),\n",
    "    DefaultLayer(),\n",
    "    BatchNormalization(),\n",
    "    DefaultLayer(),\n",
    "    BatchNormalization(),\n",
    "    DefaultLayer(),\n",
    "    BatchNormalization(),\n",
    "    DefaultLayer(),\n",
    "    BatchNormalization(),\n",
    "    DefaultLayer(),\n",
    "    BatchNormalization(),\n",
    "    Dense(5, activation = 'softmax')\n",
    "])"
   ]
  },
  {
   "cell_type": "code",
   "execution_count": 9,
   "metadata": {},
   "outputs": [],
   "source": [
    "model_batch.compile('adam', 'sparse_categorical_crossentropy', ['accuracy'])"
   ]
  },
  {
   "cell_type": "code",
   "execution_count": 10,
   "metadata": {},
   "outputs": [
    {
     "name": "stdout",
     "output_type": "stream",
     "text": [
      "Train on 22947 samples, validate on 7649 samples\n",
      "Epoch 1/30\n",
      "22947/22947 [==============================] - 8s 338us/step - loss: 0.1375 - accuracy: 0.9558 - val_loss: 0.0750 - val_accuracy: 0.9782\n",
      "Epoch 2/30\n",
      "22947/22947 [==============================] - 3s 117us/step - loss: 0.0710 - accuracy: 0.9788 - val_loss: 0.0713 - val_accuracy: 0.9790\n",
      "Epoch 3/30\n",
      "22947/22947 [==============================] - 3s 121us/step - loss: 0.0590 - accuracy: 0.9811 - val_loss: 0.0616 - val_accuracy: 0.9829\n",
      "Epoch 4/30\n",
      "22947/22947 [==============================] - 3s 125us/step - loss: 0.0435 - accuracy: 0.9864 - val_loss: 0.0572 - val_accuracy: 0.9846\n",
      "Epoch 5/30\n",
      "22947/22947 [==============================] - 4s 153us/step - loss: 0.0370 - accuracy: 0.9886 - val_loss: 0.0569 - val_accuracy: 0.9827\n",
      "Epoch 6/30\n",
      "22947/22947 [==============================] - 4s 174us/step - loss: 0.0291 - accuracy: 0.9905 - val_loss: 0.0621 - val_accuracy: 0.9833\n",
      "Epoch 7/30\n",
      "22947/22947 [==============================] - 3s 134us/step - loss: 0.0347 - accuracy: 0.9881 - val_loss: 0.0609 - val_accuracy: 0.9839\n",
      "Epoch 8/30\n",
      "22947/22947 [==============================] - 3s 135us/step - loss: 0.0236 - accuracy: 0.9919 - val_loss: 0.0625 - val_accuracy: 0.9856\n",
      "Epoch 9/30\n",
      "22947/22947 [==============================] - 3s 132us/step - loss: 0.0219 - accuracy: 0.9935 - val_loss: 0.0548 - val_accuracy: 0.9860\n",
      "Epoch 10/30\n",
      "22947/22947 [==============================] - 3s 139us/step - loss: 0.0234 - accuracy: 0.9924 - val_loss: 0.0661 - val_accuracy: 0.9860\n",
      "Epoch 11/30\n",
      "22947/22947 [==============================] - 3s 136us/step - loss: 0.0210 - accuracy: 0.9927 - val_loss: 0.0674 - val_accuracy: 0.9846\n",
      "Epoch 12/30\n",
      "22947/22947 [==============================] - 3s 130us/step - loss: 0.0209 - accuracy: 0.9934 - val_loss: 0.0627 - val_accuracy: 0.9854\n",
      "Epoch 13/30\n",
      "22947/22947 [==============================] - 3s 132us/step - loss: 0.0158 - accuracy: 0.9952 - val_loss: 0.0590 - val_accuracy: 0.9861\n",
      "Epoch 14/30\n",
      "22947/22947 [==============================] - 3s 138us/step - loss: 0.0152 - accuracy: 0.9950 - val_loss: 0.0739 - val_accuracy: 0.9848\n",
      "Epoch 15/30\n",
      "22947/22947 [==============================] - 3s 147us/step - loss: 0.0176 - accuracy: 0.9941 - val_loss: 0.0759 - val_accuracy: 0.9846\n",
      "Epoch 16/30\n",
      "22947/22947 [==============================] - 3s 134us/step - loss: 0.0177 - accuracy: 0.9947 - val_loss: 0.0758 - val_accuracy: 0.9860\n",
      "Epoch 17/30\n",
      "22947/22947 [==============================] - 3s 130us/step - loss: 0.0132 - accuracy: 0.9955 - val_loss: 0.0760 - val_accuracy: 0.9855\n",
      "Epoch 18/30\n",
      "22947/22947 [==============================] - 3s 128us/step - loss: 0.0166 - accuracy: 0.9948 - val_loss: 0.0643 - val_accuracy: 0.9864\n",
      "Epoch 19/30\n",
      "22947/22947 [==============================] - 3s 131us/step - loss: 0.0158 - accuracy: 0.9952 - val_loss: 0.0618 - val_accuracy: 0.9868\n"
     ]
    }
   ],
   "source": [
    "batch_checkpoint_cb = ModelCheckpoint('mnist_0_4_batch.h5', save_best_only=True)\n",
    "batch_early_cb = EarlyStopping(patience=10, restore_best_weights=True)\n",
    "batch_hist = model_batch.fit(X_train, y_train, validation_data = (X_valid, y_valid), epochs = 30, batch_size = 32, callbacks = [batch_checkpoint_cb, batch_early_cb])"
   ]
  },
  {
   "cell_type": "code",
   "execution_count": 11,
   "metadata": {},
   "outputs": [
    {
     "data": {
      "text/plain": [
       "Text(0.5, 1.0, 'Batch normalization Learning Curve')"
      ]
     },
     "execution_count": 11,
     "metadata": {},
     "output_type": "execute_result"
    },
    {
     "data": {
      "image/png": "[encoded data removed]",
      "text/plain": [
       "<Figure size 720x576 with 1 Axes>"
      ]
     },
     "metadata": {
      "needs_background": "light"
     },
     "output_type": "display_data"
    }
   ],
   "source": [
    "fig = plt.figure(figsize = (10, 8))\n",
    "ax = fig.add_subplot()\n",
    "pd.DataFrame(batch_hist.history).rename(columns = lambda x: 'batch ' + x).plot(ax =ax, linestyle = '--')\n",
    "pd.DataFrame(hist.history).plot(ax = ax)\n",
    "ax.set_title('Batch normalization Learning Curve')"
   ]
  },
  {
   "cell_type": "markdown",
   "metadata": {},
   "source": [
    "# Problem 4"
   ]
  },
  {
   "cell_type": "markdown",
   "metadata": {},
   "source": [
    "Exercise: is the model overfitting the training set? Try adding dropout to every layer and try again. Does it help?"
   ]
  },
  {
   "cell_type": "code",
   "execution_count": 12,
   "metadata": {},
   "outputs": [],
   "source": [
    "from keras.layers import Dropout\n",
    "drop_batch_model = Sequential([\n",
    "    Flatten(),\n",
    "    BatchNormalization(),\n",
    "    DefaultLayer(),\n",
    "    BatchNormalization(),\n",
    "    Dropout(.5),\n",
    "    DefaultLayer(),\n",
    "    BatchNormalization(),\n",
    "    Dropout(.5),\n",
    "    DefaultLayer(),\n",
    "    BatchNormalization(),\n",
    "    Dropout(.5),\n",
    "    DefaultLayer(),\n",
    "    BatchNormalization(),\n",
    "    Dropout(.5),\n",
    "    DefaultLayer(),\n",
    "    BatchNormalization(),\n",
    "    Dropout(.5),\n",
    "    Dense(5, activation='softmax')\n",
    "])\n",
    "drop_batch_checkpoint_cb = ModelCheckpoint('mnist_0_4_drop_batch.h5', save_best_only=True)\n",
    "drop_batch_early_cb = EarlyStopping(patience=10, restore_best_weights=True)\n",
    "\n",
    "drop_batch_model.compile('adam', 'sparse_categorical_crossentropy', ['accuracy'])"
   ]
  },
  {
   "cell_type": "code",
   "execution_count": 13,
   "metadata": {},
   "outputs": [
    {
     "name": "stdout",
     "output_type": "stream",
     "text": [
      "Train on 22947 samples, validate on 7649 samples\n",
      "Epoch 1/30\n",
      "22947/22947 [==============================] - 18s 789us/step - loss: 0.6751 - accuracy: 0.7794 - val_loss: 0.1304 - val_accuracy: 0.9621\n",
      "Epoch 2/30\n",
      "22947/22947 [==============================] - 3s 132us/step - loss: 0.2799 - accuracy: 0.9188 - val_loss: 0.1137 - val_accuracy: 0.9674\n",
      "Epoch 3/30\n",
      "22947/22947 [==============================] - 3s 137us/step - loss: 0.2271 - accuracy: 0.9355 - val_loss: 0.1050 - val_accuracy: 0.9703\n",
      "Epoch 4/30\n",
      "22947/22947 [==============================] - 3s 136us/step - loss: 0.1988 - accuracy: 0.9449 - val_loss: 0.0874 - val_accuracy: 0.9762\n",
      "Epoch 5/30\n",
      "22947/22947 [==============================] - 3s 137us/step - loss: 0.1823 - accuracy: 0.9490 - val_loss: 0.0916 - val_accuracy: 0.9761\n",
      "Epoch 6/30\n",
      "22947/22947 [==============================] - 3s 142us/step - loss: 0.1714 - accuracy: 0.9516 - val_loss: 0.0788 - val_accuracy: 0.9784\n",
      "Epoch 7/30\n",
      "22947/22947 [==============================] - 3s 146us/step - loss: 0.1614 - accuracy: 0.9557 - val_loss: 0.0789 - val_accuracy: 0.9786\n",
      "Epoch 8/30\n",
      "22947/22947 [==============================] - 3s 147us/step - loss: 0.1515 - accuracy: 0.9585 - val_loss: 0.0708 - val_accuracy: 0.9824\n",
      "Epoch 9/30\n",
      "22947/22947 [==============================] - 3s 149us/step - loss: 0.1415 - accuracy: 0.9601 - val_loss: 0.0656 - val_accuracy: 0.9820\n",
      "Epoch 10/30\n",
      "22947/22947 [==============================] - 4s 158us/step - loss: 0.1359 - accuracy: 0.9630 - val_loss: 0.0703 - val_accuracy: 0.9817\n",
      "Epoch 11/30\n",
      "22947/22947 [==============================] - 3s 145us/step - loss: 0.1283 - accuracy: 0.9659 - val_loss: 0.0687 - val_accuracy: 0.9827\n",
      "Epoch 12/30\n",
      "22947/22947 [==============================] - 3s 147us/step - loss: 0.1186 - accuracy: 0.9678 - val_loss: 0.0637 - val_accuracy: 0.9837\n",
      "Epoch 13/30\n",
      "22947/22947 [==============================] - 3s 146us/step - loss: 0.1216 - accuracy: 0.9677 - val_loss: 0.0698 - val_accuracy: 0.9824\n",
      "Epoch 14/30\n",
      "22947/22947 [==============================] - 4s 177us/step - loss: 0.1103 - accuracy: 0.9704 - val_loss: 0.0639 - val_accuracy: 0.9835\n",
      "Epoch 15/30\n",
      "22947/22947 [==============================] - 4s 156us/step - loss: 0.1137 - accuracy: 0.9696 - val_loss: 0.0631 - val_accuracy: 0.9843\n",
      "Epoch 16/30\n",
      "22947/22947 [==============================] - 4s 157us/step - loss: 0.1098 - accuracy: 0.9701 - val_loss: 0.0634 - val_accuracy: 0.9837\n",
      "Epoch 17/30\n",
      "22947/22947 [==============================] - 4s 182us/step - loss: 0.0977 - accuracy: 0.9727 - val_loss: 0.0605 - val_accuracy: 0.9843\n",
      "Epoch 18/30\n",
      "22947/22947 [==============================] - 5s 197us/step - loss: 0.1048 - accuracy: 0.9724 - val_loss: 0.0593 - val_accuracy: 0.9852\n",
      "Epoch 19/30\n",
      "22947/22947 [==============================] - 4s 192us/step - loss: 0.1066 - accuracy: 0.9705 - val_loss: 0.0583 - val_accuracy: 0.9859\n",
      "Epoch 20/30\n",
      "22947/22947 [==============================] - 4s 157us/step - loss: 0.0991 - accuracy: 0.9734 - val_loss: 0.0649 - val_accuracy: 0.9851\n",
      "Epoch 21/30\n",
      "22947/22947 [==============================] - 4s 183us/step - loss: 0.0956 - accuracy: 0.9752 - val_loss: 0.0609 - val_accuracy: 0.9850\n",
      "Epoch 22/30\n",
      "22947/22947 [==============================] - 4s 172us/step - loss: 0.1013 - accuracy: 0.9723 - val_loss: 0.0541 - val_accuracy: 0.9860\n",
      "Epoch 23/30\n",
      "22947/22947 [==============================] - 4s 153us/step - loss: 0.0923 - accuracy: 0.9756 - val_loss: 0.0569 - val_accuracy: 0.9860\n",
      "Epoch 24/30\n",
      "22947/22947 [==============================] - 3s 153us/step - loss: 0.0970 - accuracy: 0.9742 - val_loss: 0.0600 - val_accuracy: 0.9844\n",
      "Epoch 25/30\n",
      "22947/22947 [==============================] - 4s 153us/step - loss: 0.0961 - accuracy: 0.9742 - val_loss: 0.0617 - val_accuracy: 0.9846\n",
      "Epoch 26/30\n",
      "22947/22947 [==============================] - 4s 154us/step - loss: 0.0817 - accuracy: 0.9777 - val_loss: 0.0584 - val_accuracy: 0.9863\n",
      "Epoch 27/30\n",
      "22947/22947 [==============================] - 4s 155us/step - loss: 0.0869 - accuracy: 0.9772 - val_loss: 0.0625 - val_accuracy: 0.9857\n",
      "Epoch 28/30\n",
      "22947/22947 [==============================] - 4s 159us/step - loss: 0.0855 - accuracy: 0.9762 - val_loss: 0.0592 - val_accuracy: 0.9863\n",
      "Epoch 29/30\n",
      "22947/22947 [==============================] - 4s 154us/step - loss: 0.0867 - accuracy: 0.9769 - val_loss: 0.0560 - val_accuracy: 0.9856\n",
      "Epoch 30/30\n",
      "22947/22947 [==============================] - 4s 154us/step - loss: 0.0770 - accuracy: 0.9793 - val_loss: 0.0575 - val_accuracy: 0.9856\n"
     ]
    }
   ],
   "source": [
    "drop_batch_hist = drop_batch_model.fit(X_train, y_train, validation_data=(X_valid, y_valid), epochs = 30, batch_size = 32, callbacks = [drop_batch_checkpoint_cb, drop_batch_early_cb])"
   ]
  },
  {
   "cell_type": "code",
   "execution_count": 14,
   "metadata": {},
   "outputs": [
    {
     "data": {
      "text/plain": [
       "<matplotlib.axes._subplots.AxesSubplot at 0x1907bba19e8>"
      ]
     },
     "execution_count": 14,
     "metadata": {},
     "output_type": "execute_result"
    },
    {
     "data": {
      "image/png": "[encoded data removed]",
      "text/plain": [
       "<Figure size 720x576 with 1 Axes>"
      ]
     },
     "metadata": {
      "needs_background": "light"
     },
     "output_type": "display_data"
    }
   ],
   "source": [
    "pd.DataFrame(drop_batch_hist.history).plot(figsize = (10,8), title = 'Dropout and Batch normalization')"
   ]
  },
  {
   "cell_type": "markdown",
   "metadata": {},
   "source": [
    "# Transfer learning"
   ]
  },
  {
   "cell_type": "markdown",
   "metadata": {},
   "source": [
    "Exercise: create a new DNN that reuses all the pretrained hidden layers of the previous model, freezes them, and replaces the softmax output layer with a new one.\n",
    "<hr> \n",
    "    Exercise: train this new DNN on digits 5 to 9, using only 100 images per digit, and time how long it takes. Despite this small number of examples, can you achieve high precision?"
   ]
  },
  {
   "cell_type": "markdown",
   "metadata": {},
   "source": [
    "<h3 class = 'box highlight'>You must always compile your model after you freeze or unfreeze\n",
    "layers.</h3>"
   ]
  },
  {
   "cell_type": "markdown",
   "metadata": {},
   "source": [
    "<img src = '../transfer_keras.png'>"
   ]
  },
  {
   "cell_type": "code",
   "execution_count": null,
   "metadata": {},
   "outputs": [],
   "source": [
    "from keras.models import clone_model, load_model\n",
    "pretrained_model = load_model('mnist_0_4_drop_batch.h5h5')"
   ]
  }
 ],
 "metadata": {
  "kernelspec": {
   "display_name": "Python 3",
   "language": "python",
   "name": "python3"
  },
  "language_info": {
   "codemirror_mode": {
    "name": "ipython",
    "version": 3
   },
   "file_extension": ".py",
   "mimetype": "text/x-python",
   "name": "python",
   "nbconvert_exporter": "python",
   "pygments_lexer": "ipython3",
   "version": "3.7.3"
  }
 },
 "nbformat": 4,
 "nbformat_minor": 2
}
