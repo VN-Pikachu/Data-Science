{
 "cells": [
  {
   "cell_type": "code",
   "execution_count": 1,
   "metadata": {},
   "outputs": [
    {
     "data": {
      "text/html": [
       "<style>\n",
       ".box {\n",
       "    border: 1px double dodgerblue;\n",
       "    padding: 5px;\n",
       "}\n",
       ".note {\n",
       "    font-size: 20;\n",
       "    color: teal;\n",
       "    font-weight: bold;\n",
       "}\n",
       ".highlight {\n",
       "    color: green;\n",
       "    font-family: verdana;\n",
       "}\n",
       ".tag {\n",
       "    background: red;\n",
       "    color: white;\n",
       "    padding: 3px;\n",
       "}\n",
       ".warning {\n",
       "    background: red;\n",
       "    padding: 12px;\n",
       "    font-size: 24px;\n",
       "    color: white;\n",
       "    text-align: center;\n",
       "    font-family: verdana;\n",
       "}\n",
       ".symbol {\n",
       "    color: white;\n",
       "    background: green;\n",
       "    font-size: 20px;\n",
       "    padding: 2px;\n",
       "}\n",
       "code {\n",
       "    font-weight: bold;\n",
       "}\n",
       "</style>\n"
      ],
      "text/plain": [
       "<IPython.core.display.HTML object>"
      ]
     },
     "metadata": {},
     "output_type": "display_data"
    },
    {
     "name": "stderr",
     "output_type": "stream",
     "text": [
      "C:\\Users\\dell\\Anaconda3\\lib\\site-packages\\sklearn\\externals\\six.py:31: DeprecationWarning: The module is deprecated in version 0.21 and will be removed in version 0.23 since we've dropped support for Python 2.7. Please rely on the official version of six (https://pypi.org/project/six/).\n",
      "  \"(https://pypi.org/project/six/).\", DeprecationWarning)\n",
      "C:\\Users\\dell\\Anaconda3\\lib\\site-packages\\sklearn\\externals\\joblib\\__init__.py:15: DeprecationWarning: sklearn.externals.joblib is deprecated in 0.21 and will be removed in 0.23. Please import this functionality directly from joblib, which can be installed with: pip install joblib. If this warning is raised when loading pickled models, you may need to re-serialize those models with scikit-learn 0.21+.\n",
      "  warnings.warn(msg, category=DeprecationWarning)\n"
     ]
    }
   ],
   "source": [
    "%run ../convention.ipynb"
   ]
  },
  {
   "cell_type": "markdown",
   "metadata": {},
   "source": [
    "# Problem 1"
   ]
  },
  {
   "cell_type": "markdown",
   "metadata": {},
   "source": [
    "Exercise: create a new DNN that reuses all the pretrained hidden layers of the previous model, freezes them, and replaces the softmax output layer with a new one.\n",
    "    <hr>\n",
    "    Exercise: train this new DNN on digits 5 to 9, using only 100 images per digit, and time how long it takes. Despite this small number of examples, can you achieve high precision?"
   ]
  },
  {
   "cell_type": "code",
   "execution_count": 54,
   "metadata": {},
   "outputs": [],
   "source": [
    "from keras.models import load_model, clone_model, Sequential\n",
    "from keras.layers import Dense\n",
    "from keras.datasets.mnist import load_data\n",
    "from keras.callbacks import EarlyStopping"
   ]
  },
  {
   "cell_type": "code",
   "execution_count": 25,
   "metadata": {},
   "outputs": [],
   "source": [
    "(X_train, y_train), (X_test, y_test) = load_data()\n",
    "data = []\n",
    "for num in range(5, 10):\n",
    "    arr = X_train[y_train == num][:100]\n",
    "    data.extend(list(zip(arr, [num] * len(arr))))\n",
    "np.random.shuffle(data)\n",
    "\n",
    "train = np.array([arr[0] for arr in data])\n",
    "test = np.array([arr[1] for arr in data]) - 5 #shift label by -5 to use sparse_categorical_crossentropy"
   ]
  },
  {
   "cell_type": "markdown",
   "metadata": {},
   "source": [
    "<img src = '../transfer_keras.png'/>"
   ]
  },
  {
   "cell_type": "code",
   "execution_count": 35,
   "metadata": {},
   "outputs": [],
   "source": [
    "trained_model = load_model('mnist_0_4_batch.h5')"
   ]
  },
  {
   "cell_type": "markdown",
   "metadata": {},
   "source": [
    "Freeze pretrained layers:"
   ]
  },
  {
   "cell_type": "code",
   "execution_count": 41,
   "metadata": {},
   "outputs": [],
   "source": [
    "trained_model_clone = clone_model(trained_model)\n",
    "trained_model_clone.set_weights(trained_model.get_weights())\n",
    "\n",
    "model = Sequential(trained_model_clone.layers[:-1])\n",
    "for layer in model.layers:\n",
    "    layer.trainable = False\n",
    "model.add(Dense(5, activation = 'softmax'))"
   ]
  },
  {
   "cell_type": "code",
   "execution_count": 42,
   "metadata": {},
   "outputs": [
    {
     "name": "stdout",
     "output_type": "stream",
     "text": [
      "Epoch 1/50\n",
      "500/500 [==============================] - 0s 302us/step - loss: 1.9869 - accuracy: 0.2480\n",
      "Epoch 2/50\n",
      "500/500 [==============================] - 0s 54us/step - loss: 1.7371 - accuracy: 0.2980\n",
      "Epoch 3/50\n",
      "500/500 [==============================] - 0s 62us/step - loss: 1.5094 - accuracy: 0.4020\n",
      "Epoch 4/50\n",
      "500/500 [==============================] - 0s 64us/step - loss: 1.3880 - accuracy: 0.4400\n",
      "Epoch 5/50\n",
      "500/500 [==============================] - 0s 64us/step - loss: 1.2953 - accuracy: 0.4740\n",
      "Epoch 6/50\n",
      "500/500 [==============================] - 0s 68us/step - loss: 1.1590 - accuracy: 0.5060\n",
      "Epoch 7/50\n",
      "500/500 [==============================] - 0s 68us/step - loss: 1.0985 - accuracy: 0.5920\n",
      "Epoch 8/50\n",
      "500/500 [==============================] - 0s 62us/step - loss: 1.0607 - accuracy: 0.5820\n",
      "Epoch 9/50\n",
      "500/500 [==============================] - 0s 62us/step - loss: 1.0346 - accuracy: 0.6100\n",
      "Epoch 10/50\n",
      "500/500 [==============================] - 0s 66us/step - loss: 0.9677 - accuracy: 0.6340\n",
      "Epoch 11/50\n",
      "500/500 [==============================] - 0s 66us/step - loss: 0.9300 - accuracy: 0.6400\n",
      "Epoch 12/50\n",
      "500/500 [==============================] - 0s 68us/step - loss: 0.9240 - accuracy: 0.6640\n",
      "Epoch 13/50\n",
      "500/500 [==============================] - 0s 70us/step - loss: 0.8673 - accuracy: 0.6760\n",
      "Epoch 14/50\n",
      "500/500 [==============================] - 0s 58us/step - loss: 0.8641 - accuracy: 0.6780\n",
      "Epoch 15/50\n",
      "500/500 [==============================] - 0s 68us/step - loss: 0.8526 - accuracy: 0.6900\n",
      "Epoch 16/50\n",
      "500/500 [==============================] - 0s 70us/step - loss: 0.8070 - accuracy: 0.7240\n",
      "Epoch 17/50\n",
      "500/500 [==============================] - 0s 68us/step - loss: 0.7795 - accuracy: 0.7300\n",
      "Epoch 18/50\n",
      "500/500 [==============================] - 0s 70us/step - loss: 0.7641 - accuracy: 0.7360\n",
      "Epoch 19/50\n",
      "500/500 [==============================] - 0s 74us/step - loss: 0.7346 - accuracy: 0.7420\n",
      "Epoch 20/50\n",
      "500/500 [==============================] - 0s 66us/step - loss: 0.7672 - accuracy: 0.7260\n",
      "Epoch 21/50\n",
      "500/500 [==============================] - 0s 80us/step - loss: 0.7407 - accuracy: 0.7400\n",
      "Epoch 22/50\n",
      "500/500 [==============================] - 0s 72us/step - loss: 0.7267 - accuracy: 0.7480\n",
      "Epoch 23/50\n",
      "500/500 [==============================] - 0s 70us/step - loss: 0.7205 - accuracy: 0.7500\n",
      "Epoch 24/50\n",
      "500/500 [==============================] - 0s 88us/step - loss: 0.7259 - accuracy: 0.7600\n",
      "Epoch 25/50\n",
      "500/500 [==============================] - 0s 74us/step - loss: 0.6962 - accuracy: 0.7500\n",
      "Epoch 26/50\n",
      "500/500 [==============================] - 0s 72us/step - loss: 0.7076 - accuracy: 0.7620\n",
      "Epoch 27/50\n",
      "500/500 [==============================] - 0s 76us/step - loss: 0.6460 - accuracy: 0.7920\n",
      "Epoch 28/50\n",
      "500/500 [==============================] - 0s 72us/step - loss: 0.6788 - accuracy: 0.7560\n",
      "Epoch 29/50\n",
      "500/500 [==============================] - 0s 72us/step - loss: 0.6657 - accuracy: 0.7720\n",
      "Epoch 30/50\n",
      "500/500 [==============================] - 0s 74us/step - loss: 0.6715 - accuracy: 0.7660\n",
      "Epoch 31/50\n",
      "500/500 [==============================] - 0s 74us/step - loss: 0.6940 - accuracy: 0.7700\n",
      "Epoch 32/50\n",
      "500/500 [==============================] - 0s 76us/step - loss: 0.6546 - accuracy: 0.7920\n",
      "Epoch 33/50\n",
      "500/500 [==============================] - 0s 64us/step - loss: 0.6205 - accuracy: 0.7780\n",
      "Epoch 34/50\n",
      "500/500 [==============================] - 0s 58us/step - loss: 0.6322 - accuracy: 0.7920\n",
      "Epoch 35/50\n",
      "500/500 [==============================] - 0s 66us/step - loss: 0.6300 - accuracy: 0.7760\n",
      "Epoch 36/50\n",
      "500/500 [==============================] - 0s 72us/step - loss: 0.6481 - accuracy: 0.7700\n",
      "Epoch 37/50\n",
      "500/500 [==============================] - 0s 70us/step - loss: 0.6353 - accuracy: 0.7720\n",
      "Epoch 38/50\n",
      "500/500 [==============================] - 0s 76us/step - loss: 0.6420 - accuracy: 0.7780\n",
      "Epoch 39/50\n",
      "500/500 [==============================] - 0s 54us/step - loss: 0.5973 - accuracy: 0.7820\n",
      "Epoch 40/50\n",
      "500/500 [==============================] - 0s 66us/step - loss: 0.5985 - accuracy: 0.7980\n",
      "Epoch 41/50\n",
      "500/500 [==============================] - 0s 68us/step - loss: 0.5881 - accuracy: 0.7840\n",
      "Epoch 42/50\n",
      "500/500 [==============================] - 0s 64us/step - loss: 0.6148 - accuracy: 0.7800\n",
      "Epoch 43/50\n",
      "500/500 [==============================] - 0s 70us/step - loss: 0.6031 - accuracy: 0.8080\n",
      "Epoch 44/50\n",
      "500/500 [==============================] - 0s 78us/step - loss: 0.6337 - accuracy: 0.7860\n",
      "Epoch 45/50\n",
      "500/500 [==============================] - 0s 76us/step - loss: 0.5897 - accuracy: 0.8020\n",
      "Epoch 46/50\n",
      "500/500 [==============================] - 0s 70us/step - loss: 0.6041 - accuracy: 0.7620\n",
      "Epoch 47/50\n",
      "500/500 [==============================] - 0s 70us/step - loss: 0.5884 - accuracy: 0.7920\n",
      "Epoch 48/50\n",
      "500/500 [==============================] - 0s 68us/step - loss: 0.5823 - accuracy: 0.7920\n",
      "Epoch 49/50\n",
      "500/500 [==============================] - 0s 68us/step - loss: 0.6046 - accuracy: 0.7920\n",
      "Epoch 50/50\n",
      "500/500 [==============================] - 0s 68us/step - loss: 0.5848 - accuracy: 0.7960\n",
      "Wall time: 2.37 s\n"
     ]
    }
   ],
   "source": [
    "\n",
    "model.compile('adam', 'sparse_categorical_crossentropy', ['accuracy'])\n",
    "%time history = model.fit(train, test, epochs = 50, batch_size = 32)"
   ]
  },
  {
   "cell_type": "code",
   "execution_count": 43,
   "metadata": {},
   "outputs": [
    {
     "data": {
      "text/plain": [
       "<matplotlib.axes._subplots.AxesSubplot at 0x25153289160>"
      ]
     },
     "execution_count": 43,
     "metadata": {},
     "output_type": "execute_result"
    },
    {
     "data": {
      "image/png": "[encoded data removed]",
      "text/plain": [
       "<Figure size 576x432 with 1 Axes>"
      ]
     },
     "metadata": {
      "needs_background": "light"
     },
     "output_type": "display_data"
    }
   ],
   "source": [
    "pd.DataFrame(history.history).plot(figsize = (8, 6))"
   ]
  },
  {
   "cell_type": "markdown",
   "metadata": {},
   "source": [
    "# Problem 2"
   ]
  },
  {
   "cell_type": "markdown",
   "metadata": {},
   "source": [
    "Exercise: try again reusing just four hidden layers instead of five. Can you achieve a higher precision?"
   ]
  },
  {
   "cell_type": "code",
   "execution_count": 61,
   "metadata": {},
   "outputs": [
    {
     "data": {
      "text/plain": [
       "[<keras.layers.core.Flatten at 0x25171525668>,\n",
       " <keras.layers.core.Dense at 0x25171525ef0>,\n",
       " <keras.layers.advanced_activations.ELU at 0x251715251d0>,\n",
       " <keras.layers.core.Dense at 0x25171525b00>,\n",
       " <keras.layers.advanced_activations.ELU at 0x2517155d588>,\n",
       " <keras.layers.core.Dense at 0x2517155db38>,\n",
       " <keras.layers.advanced_activations.ELU at 0x25171525080>,\n",
       " <keras.layers.core.Dense at 0x2517160b710>,\n",
       " <keras.layers.advanced_activations.ELU at 0x251715d36a0>,\n",
       " <keras.layers.core.Dense at 0x2517160bba8>,\n",
       " <keras.layers.advanced_activations.ELU at 0x25171656390>,\n",
       " <keras.layers.core.Dense at 0x25171656a58>]"
      ]
     },
     "execution_count": 61,
     "metadata": {},
     "output_type": "execute_result"
    }
   ],
   "source": [
    "trained_model1 = load_model('mnist_0_4.h5')\n",
    "clone_model1 = clone_model(trained_model1)\n",
    "clone_model1.set_weights(trained_model1.get_weights())\n",
    "\n",
    "model1 = Sequential(clone_model1.layers)\n",
    "len(model1.layers)\n",
    "trained_model1.layers"
   ]
  },
  {
   "cell_type": "code",
   "execution_count": 62,
   "metadata": {},
   "outputs": [
    {
     "name": "stdout",
     "output_type": "stream",
     "text": [
      "Epoch 1/20\n",
      "500/500 [==============================] - 0s 604us/step - loss: 31.0064 - accuracy: 0.5140\n",
      "Epoch 2/20\n",
      "500/500 [==============================] - 0s 114us/step - loss: 4.0920 - accuracy: 0.8240\n",
      "Epoch 3/20\n",
      "500/500 [==============================] - 0s 124us/step - loss: 1.4321 - accuracy: 0.9200\n",
      "Epoch 4/20\n",
      "500/500 [==============================] - 0s 100us/step - loss: 0.7862 - accuracy: 0.9340\n",
      "Epoch 5/20\n",
      " 32/500 [>.............................] - ETA: 0s - loss: 0.4216 - accuracy: 0.9375"
     ]
    },
    {
     "name": "stderr",
     "output_type": "stream",
     "text": [
      "C:\\Users\\dell\\Anaconda3\\lib\\site-packages\\keras\\callbacks\\callbacks.py:846: RuntimeWarning: Early stopping conditioned on metric `val_loss` which is not available. Available metrics are: loss,accuracy\n",
      "  (self.monitor, ','.join(list(logs.keys()))), RuntimeWarning\n"
     ]
    },
    {
     "name": "stdout",
     "output_type": "stream",
     "text": [
      "500/500 [==============================] - 0s 100us/step - loss: 0.5878 - accuracy: 0.9540\n",
      "Epoch 6/20\n",
      "500/500 [==============================] - 0s 104us/step - loss: 0.7911 - accuracy: 0.9360\n",
      "Epoch 7/20\n",
      "500/500 [==============================] - 0s 96us/step - loss: 0.9134 - accuracy: 0.9400\n",
      "Epoch 8/20\n",
      "500/500 [==============================] - 0s 92us/step - loss: 0.4452 - accuracy: 0.9640\n",
      "Epoch 9/20\n",
      "500/500 [==============================] - 0s 94us/step - loss: 0.9050 - accuracy: 0.9460\n",
      "Epoch 10/20\n",
      "500/500 [==============================] - 0s 84us/step - loss: 1.0826 - accuracy: 0.9360\n",
      "Epoch 11/20\n",
      "500/500 [==============================] - 0s 82us/step - loss: 0.5440 - accuracy: 0.9520\n",
      "Epoch 12/20\n",
      "500/500 [==============================] - 0s 94us/step - loss: 1.0137 - accuracy: 0.9460\n",
      "Epoch 13/20\n",
      "500/500 [==============================] - 0s 92us/step - loss: 0.2504 - accuracy: 0.9820\n",
      "Epoch 14/20\n",
      "500/500 [==============================] - 0s 92us/step - loss: 0.6940 - accuracy: 0.9620\n",
      "Epoch 15/20\n",
      "500/500 [==============================] - 0s 82us/step - loss: 0.5827 - accuracy: 0.9600\n",
      "Epoch 16/20\n",
      "500/500 [==============================] - 0s 94us/step - loss: 0.3176 - accuracy: 0.9880\n",
      "Epoch 17/20\n",
      "500/500 [==============================] - 0s 92us/step - loss: 0.2312 - accuracy: 0.9760\n",
      "Epoch 18/20\n",
      "500/500 [==============================] - ETA: 0s - loss: 5.8896 - accuracy: 0.78 - 0s 92us/step - loss: 1.7711 - accuracy: 0.9380\n",
      "Epoch 19/20\n",
      "500/500 [==============================] - 0s 82us/step - loss: 0.4709 - accuracy: 0.9740\n",
      "Epoch 20/20\n",
      "500/500 [==============================] - 0s 90us/step - loss: 1.0011 - accuracy: 0.9580\n"
     ]
    }
   ],
   "source": [
    "for layer in trained_model1.layers[:-3]:\n",
    "    layer.trainable = False\n",
    "model1.compile('nadam', 'sparse_categorical_crossentropy', ['accuracy'])\n",
    "early_cb = EarlyStopping(patience=10, restore_best_weights=True)\n",
    "hist1 = model1.fit(train, test, epochs = 20, batch_size = 32, callbacks = [early_cb])"
   ]
  },
  {
   "cell_type": "code",
   "execution_count": 63,
   "metadata": {},
   "outputs": [
    {
     "data": {
      "text/plain": [
       "<matplotlib.axes._subplots.AxesSubplot at 0x2515b620d68>"
      ]
     },
     "execution_count": 63,
     "metadata": {},
     "output_type": "execute_result"
    },
    {
     "data": {
      "image/png": "[encoded data removed]",
      "text/plain": [
       "<Figure size 576x432 with 1 Axes>"
      ]
     },
     "metadata": {
      "needs_background": "light"
     },
     "output_type": "display_data"
    }
   ],
   "source": [
    "pd.DataFrame(hist1.history).plot(figsize = (8, 6))"
   ]
  },
  {
   "cell_type": "markdown",
   "metadata": {},
   "source": [
    "# Pretrain on an auxiliary task"
   ]
  }
 ],
 "metadata": {
  "kernelspec": {
   "display_name": "Python 3",
   "language": "python",
   "name": "python3"
  },
  "language_info": {
   "codemirror_mode": {
    "name": "ipython",
    "version": 3
   },
   "file_extension": ".py",
   "mimetype": "text/x-python",
   "name": "python",
   "nbconvert_exporter": "python",
   "pygments_lexer": "ipython3",
   "version": "3.7.3"
  }
 },
 "nbformat": 4,
 "nbformat_minor": 2
}
