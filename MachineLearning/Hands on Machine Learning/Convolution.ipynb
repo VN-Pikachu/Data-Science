{
 "cells": [
  {
   "cell_type": "code",
   "execution_count": 1,
   "metadata": {},
   "outputs": [
    {
     "data": {
      "text/html": [
       "<style>\n",
       ".box {\n",
       "    border: 1px double dodgerblue;\n",
       "    padding: 5px;\n",
       "}\n",
       ".note {\n",
       "    font-size: 20;\n",
       "    color: teal;\n",
       "    font-weight: bold;\n",
       "}\n",
       ".highlight {\n",
       "    color: green;\n",
       "    font-family: verdana;\n",
       "}\n",
       ".tag {\n",
       "    background: red;\n",
       "    color: white;\n",
       "    padding: 3px;\n",
       "}\n",
       ".warning {\n",
       "    background: red;\n",
       "    padding: 12px;\n",
       "    font-size: 24px;\n",
       "    color: white;\n",
       "    text-align: center;\n",
       "    font-family: verdana;\n",
       "}\n",
       ".symbol {\n",
       "    color: white;\n",
       "    background: green;\n",
       "    font-size: 20px;\n",
       "    padding: 2px;\n",
       "}\n",
       "code {\n",
       "    font-weight: bold;\n",
       "}\n",
       "</style>\n"
      ],
      "text/plain": [
       "<IPython.core.display.HTML object>"
      ]
     },
     "metadata": {},
     "output_type": "display_data"
    },
    {
     "name": "stderr",
     "output_type": "stream",
     "text": [
      "C:\\Users\\dell\\Anaconda3\\lib\\site-packages\\sklearn\\externals\\six.py:31: DeprecationWarning: The module is deprecated in version 0.21 and will be removed in version 0.23 since we've dropped support for Python 2.7. Please rely on the official version of six (https://pypi.org/project/six/).\n",
      "  \"(https://pypi.org/project/six/).\", DeprecationWarning)\n",
      "C:\\Users\\dell\\Anaconda3\\lib\\site-packages\\sklearn\\externals\\joblib\\__init__.py:15: DeprecationWarning: sklearn.externals.joblib is deprecated in 0.21 and will be removed in 0.23. Please import this functionality directly from joblib, which can be installed with: pip install joblib. If this warning is raised when loading pickled models, you may need to re-serialize those models with scikit-learn 0.21+.\n",
      "  warnings.warn(msg, category=DeprecationWarning)\n"
     ]
    }
   ],
   "source": [
    "%run convention.ipynb"
   ]
  },
  {
   "cell_type": "code",
   "execution_count": 2,
   "metadata": {},
   "outputs": [
    {
     "name": "stderr",
     "output_type": "stream",
     "text": [
      "Using TensorFlow backend.\n"
     ]
    }
   ],
   "source": [
    "import keras"
   ]
  },
  {
   "cell_type": "markdown",
   "metadata": {},
   "source": [
    "# Tensorflow implementation"
   ]
  },
  {
   "cell_type": "code",
   "execution_count": 3,
   "metadata": {},
   "outputs": [],
   "source": [
    "from keras.layers import Conv2D\n",
    "from keras.regularizers import l2\n",
    "layer = Conv2D(filters = 32, kernel_size = 3, padding = 'same', activation = 'selu', kernel_initializer = 'lecun_uniform', kernel_regularizer = l2(.1))\n",
    "l2?"
   ]
  },
  {
   "cell_type": "markdown",
   "metadata": {},
   "source": [
    "# Pooling Layer"
   ]
  },
  {
   "cell_type": "code",
   "execution_count": 12,
   "metadata": {},
   "outputs": [],
   "source": [
    "from keras.layers import MaxPool2D, AvgPool2D, GlobalAvgPool2D\n",
    "pool_layer = MaxPool2D(pool_size = (2,2), padding = 'valid', strides = 2)\n"
   ]
  },
  {
   "cell_type": "markdown",
   "metadata": {},
   "source": [
    "## Custom Pooling Layer"
   ]
  },
  {
   "cell_type": "markdown",
   "metadata": {},
   "source": [
    "<p class = 'note'>Apply a custom <code>pooling layer</code> function</p>"
   ]
  },
  {
   "cell_type": "markdown",
   "metadata": {},
   "source": [
    "<img src = 'pooling.png'>"
   ]
  },
  {
   "cell_type": "code",
   "execution_count": 11,
   "metadata": {},
   "outputs": [],
   "source": [
    "import tensorflow as tf\n",
    "tf.nn.max_pool?"
   ]
  },
  {
   "cell_type": "markdown",
   "metadata": {},
   "source": [
    "# Example: Digits dataset"
   ]
  },
  {
   "cell_type": "markdown",
   "metadata": {},
   "source": [
    "<img src = 'cnnexample.png'>"
   ]
  },
  {
   "cell_type": "code",
   "execution_count": 49,
   "metadata": {},
   "outputs": [],
   "source": [
    "from keras.datasets.mnist import load_data\n",
    "(X_train, y_train), (X_test, y_test) = load_data()\n",
    "X_train, X_valid = X_train[:50000] / 250., X_train[50000:] / 250.\n",
    "y_train, y_valid = y_train[:50000], y_train[50000:]\n",
    "X_test = X_test / 250.\n"
   ]
  },
  {
   "cell_type": "code",
   "execution_count": 46,
   "metadata": {},
   "outputs": [],
   "source": [
    "from functools import partial\n",
    "from keras.models import Sequential\n",
    "from keras.layers import MaxPool2D, Conv2D, Flatten, Dense, Dropout, Reshape\n",
    "\n",
    "DefaultConv = partial(Conv2D, kernel_size = 3, padding = 'same', activation = 'relu')\n",
    "\n",
    "model = Sequential([\n",
    "    Reshape((28, 28, 1)),\n",
    "    DefaultConv(filters = 64, kernel_size = 7),\n",
    "    MaxPool2D(pool_size = 2),\n",
    "    DefaultConv(filters = 128),\n",
    "    DefaultConv(filters = 128),\n",
    "    MaxPool2D(pool_size = 2),\n",
    "    DefaultConv(filters = 256),\n",
    "    DefaultConv(filters = 256),\n",
    "    MaxPool2D(pool_size = 2),\n",
    "    Flatten(),\n",
    "    Dense(128, activation = 'relu'),\n",
    "    Dropout(.5),\n",
    "    Dense(64, activation = 'relu'),\n",
    "    Dropout(.5),\n",
    "    Dense(10, activation = 'softmax')\n",
    "])"
   ]
  },
  {
   "cell_type": "code",
   "execution_count": null,
   "metadata": {},
   "outputs": [
    {
     "name": "stdout",
     "output_type": "stream",
     "text": [
      "Train on 50000 samples, validate on 10000 samples\n",
      "Epoch 1/10\n",
      "50000/50000 [==============================] - 371s 7ms/step - loss: 0.4875 - accuracy: 0.8488 - val_loss: 0.0855 - val_accuracy: 0.9777\n",
      "Epoch 2/10\n",
      "50000/50000 [==============================] - 385s 8ms/step - loss: 0.1398 - accuracy: 0.9665 - val_loss: 0.0554 - val_accuracy: 0.9875\n",
      "Epoch 3/10\n",
      "50000/50000 [==============================] - 401s 8ms/step - loss: 0.1052 - accuracy: 0.9761 - val_loss: 0.0546 - val_accuracy: 0.9880\n",
      "Epoch 4/10\n",
      "50000/50000 [==============================] - 375s 8ms/step - loss: 0.0788 - accuracy: 0.9815 - val_loss: 0.0664 - val_accuracy: 0.9875\n",
      "Epoch 5/10\n",
      "22816/50000 [============>.................] - ETA: 3:07 - loss: 0.0688 - accuracy: 0.9841"
     ]
    }
   ],
   "source": [
    "model.compile('adam', 'sparse_categorical_crossentropy', metrics = ['accuracy'])\n",
    "\n",
    "model.fit(X_train, y_train, validation_data= (X_valid, y_valid), epochs = 10, batch_size=32)"
   ]
  }
 ],
 "metadata": {
  "kernelspec": {
   "display_name": "Python 3",
   "language": "python",
   "name": "python3"
  },
  "language_info": {
   "codemirror_mode": {
    "name": "ipython",
    "version": 3
   },
   "file_extension": ".py",
   "mimetype": "text/x-python",
   "name": "python",
   "nbconvert_exporter": "python",
   "pygments_lexer": "ipython3",
   "version": "3.7.3"
  }
 },
 "nbformat": 4,
 "nbformat_minor": 2
}
