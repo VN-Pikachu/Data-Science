{
 "cells": [
  {
   "cell_type": "code",
   "execution_count": 2,
   "metadata": {},
   "outputs": [
    {
     "data": {
      "text/html": [
       "<style>\n",
       ".box {\n",
       "    border: 1px double dodgerblue;\n",
       "    padding: 5px;\n",
       "}\n",
       ".note {\n",
       "    font-size: 20;\n",
       "    color: teal;\n",
       "    font-weight: bold;\n",
       "}\n",
       ".highlight {\n",
       "    color: green;\n",
       "    font-family: verdana;\n",
       "}\n",
       ".tag {\n",
       "    background: red;\n",
       "    color: white;\n",
       "    padding: 3px;\n",
       "}\n",
       ".warning {\n",
       "    background: red;\n",
       "    padding: 12px;\n",
       "    font-size: 24px;\n",
       "    color: white;\n",
       "    text-align: center;\n",
       "    font-family: verdana;\n",
       "}\n",
       ".symbol {\n",
       "    color: white;\n",
       "    background: green;\n",
       "    font-size: 20px;\n",
       "    padding: 2px;\n",
       "}\n",
       "code {\n",
       "    font-weight: bold;\n",
       "}\n",
       "</style>\n"
      ],
      "text/plain": [
       "<IPython.core.display.HTML object>"
      ]
     },
     "metadata": {},
     "output_type": "display_data"
    },
    {
     "name": "stderr",
     "output_type": "stream",
     "text": [
      "C:\\Users\\dell\\Anaconda3\\lib\\site-packages\\sklearn\\externals\\six.py:31: DeprecationWarning: The module is deprecated in version 0.21 and will be removed in version 0.23 since we've dropped support for Python 2.7. Please rely on the official version of six (https://pypi.org/project/six/).\n",
      "  \"(https://pypi.org/project/six/).\", DeprecationWarning)\n",
      "C:\\Users\\dell\\Anaconda3\\lib\\site-packages\\sklearn\\externals\\joblib\\__init__.py:15: DeprecationWarning: sklearn.externals.joblib is deprecated in 0.21 and will be removed in 0.23. Please import this functionality directly from joblib, which can be installed with: pip install joblib. If this warning is raised when loading pickled models, you may need to re-serialize those models with scikit-learn 0.21+.\n",
      "  warnings.warn(msg, category=DeprecationWarning)\n"
     ]
    }
   ],
   "source": [
    "%run convention.ipynb"
   ]
  },
  {
   "cell_type": "markdown",
   "metadata": {},
   "source": [
    "# Using Tensorflow like Numpy"
   ]
  },
  {
   "cell_type": "markdown",
   "metadata": {},
   "source": [
    "## Creating"
   ]
  },
  {
   "cell_type": "code",
   "execution_count": 2,
   "metadata": {},
   "outputs": [],
   "source": [
    "import tensorflow as tf\n",
    "X = tf.constant([[1,2,3],[4,5,6], [7,8,9]], dtype = tf.float32, name = 'X')"
   ]
  },
  {
   "cell_type": "markdown",
   "metadata": {},
   "source": [
    "## Indexing"
   ]
  },
  {
   "cell_type": "markdown",
   "metadata": {},
   "source": [
    "<p class = 'highlight'>Just like a Numpy array</p>"
   ]
  },
  {
   "cell_type": "code",
   "execution_count": 3,
   "metadata": {},
   "outputs": [
    {
     "data": {
      "text/plain": [
       "<tf.Tensor: id=4, shape=(2, 2), dtype=float32, numpy=\n",
       "array([[5., 6.],\n",
       "       [8., 9.]], dtype=float32)>"
      ]
     },
     "execution_count": 3,
     "metadata": {},
     "output_type": "execute_result"
    }
   ],
   "source": [
    "X[1:, 1:]"
   ]
  },
  {
   "cell_type": "markdown",
   "metadata": {},
   "source": [
    "## Operations "
   ]
  },
  {
   "cell_type": "code",
   "execution_count": 4,
   "metadata": {},
   "outputs": [
    {
     "data": {
      "text/plain": [
       "<tf.Tensor: id=7, shape=(3, 3), dtype=float32, numpy=\n",
       "array([[ 66.,  78.,  90.],\n",
       "       [ 78.,  93., 108.],\n",
       "       [ 90., 108., 126.]], dtype=float32)>"
      ]
     },
     "execution_count": 4,
     "metadata": {},
     "output_type": "execute_result"
    }
   ],
   "source": [
    "tf.transpose(X) @ X"
   ]
  },
  {
   "cell_type": "code",
   "execution_count": 5,
   "metadata": {},
   "outputs": [
    {
     "data": {
      "text/plain": [
       "<tf.Tensor: id=8, shape=(3, 3), dtype=float32, numpy=\n",
       "array([[ 1.,  4.,  9.],\n",
       "       [16., 25., 36.],\n",
       "       [49., 64., 81.]], dtype=float32)>"
      ]
     },
     "execution_count": 5,
     "metadata": {},
     "output_type": "execute_result"
    }
   ],
   "source": [
    "tf.square(X)"
   ]
  },
  {
   "cell_type": "code",
   "execution_count": 6,
   "metadata": {},
   "outputs": [
    {
     "data": {
      "text/plain": [
       "<tf.Tensor: id=10, shape=(3, 1), dtype=float32, numpy=\n",
       "array([[2.],\n",
       "       [5.],\n",
       "       [8.]], dtype=float32)>"
      ]
     },
     "execution_count": 6,
     "metadata": {},
     "output_type": "execute_result"
    }
   ],
   "source": [
    "tf.reduce_mean(X, axis = 1, keepdims = True)"
   ]
  },
  {
   "cell_type": "markdown",
   "metadata": {},
   "source": [
    "## Properties"
   ]
  },
  {
   "cell_type": "code",
   "execution_count": 7,
   "metadata": {},
   "outputs": [
    {
     "data": {
      "text/plain": [
       "tf.float32"
      ]
     },
     "execution_count": 7,
     "metadata": {},
     "output_type": "execute_result"
    }
   ],
   "source": [
    "X.dtype"
   ]
  },
  {
   "cell_type": "code",
   "execution_count": 8,
   "metadata": {},
   "outputs": [
    {
     "data": {
      "text/plain": [
       "TensorShape([3, 3])"
      ]
     },
     "execution_count": 8,
     "metadata": {},
     "output_type": "execute_result"
    }
   ],
   "source": [
    "X.shape"
   ]
  },
  {
   "cell_type": "code",
   "execution_count": 9,
   "metadata": {},
   "outputs": [
    {
     "data": {
      "text/plain": [
       "2"
      ]
     },
     "execution_count": 9,
     "metadata": {},
     "output_type": "execute_result"
    }
   ],
   "source": [
    "X.ndim"
   ]
  },
  {
   "cell_type": "markdown",
   "metadata": {},
   "source": [
    "## Type Conversion: <code>tf.cast()</code>"
   ]
  },
  {
   "cell_type": "code",
   "execution_count": 10,
   "metadata": {},
   "outputs": [
    {
     "name": "stdout",
     "output_type": "stream",
     "text": [
      "Missmatched type\n"
     ]
    }
   ],
   "source": [
    "x = tf.constant(4, dtype = tf.float32, name= 'x')\n",
    "y = tf.constant(5, dtype = tf.float64, name = 'y')\n",
    "try:\n",
    "    x + y\n",
    "except:\n",
    "    print('Missmatched type')"
   ]
  },
  {
   "cell_type": "code",
   "execution_count": 11,
   "metadata": {},
   "outputs": [
    {
     "data": {
      "text/plain": [
       "<tf.Tensor: id=14, shape=(), dtype=float32, numpy=9.0>"
      ]
     },
     "execution_count": 11,
     "metadata": {},
     "output_type": "execute_result"
    }
   ],
   "source": [
    "x + tf.cast(y, tf.float32)"
   ]
  },
  {
   "cell_type": "markdown",
   "metadata": {},
   "source": [
    "## Variables"
   ]
  },
  {
   "cell_type": "markdown",
   "metadata": {},
   "source": [
    "### Creating"
   ]
  },
  {
   "cell_type": "code",
   "execution_count": 12,
   "metadata": {},
   "outputs": [],
   "source": [
    "x = tf.Variable([[1,2,3],[4,5,6],[7,8,9]], name = 'x', dtype = tf.int8)"
   ]
  },
  {
   "cell_type": "markdown",
   "metadata": {},
   "source": [
    "### updating"
   ]
  },
  {
   "cell_type": "code",
   "execution_count": 13,
   "metadata": {},
   "outputs": [
    {
     "data": {
      "text/plain": [
       "<tf.Variable 'x:0' shape=(3, 3) dtype=int8, numpy=\n",
       "array([[ 2,  3,  4],\n",
       "       [ 5,  6,  7],\n",
       "       [ 8,  9, 10]], dtype=int8)>"
      ]
     },
     "execution_count": 13,
     "metadata": {},
     "output_type": "execute_result"
    }
   ],
   "source": [
    "x.assign(x + 1)\n",
    "x"
   ]
  },
  {
   "cell_type": "code",
   "execution_count": 14,
   "metadata": {},
   "outputs": [
    {
     "data": {
      "text/plain": [
       "<tf.Variable 'x:0' shape=(3, 3) dtype=int8, numpy=\n",
       "array([[-1, -1, -1],\n",
       "       [ 5,  6,  7],\n",
       "       [ 8,  9, 10]], dtype=int8)>"
      ]
     },
     "execution_count": 14,
     "metadata": {},
     "output_type": "execute_result"
    }
   ],
   "source": [
    "x[0].assign([-1,-1,-1])\n",
    "x\n",
    "\n"
   ]
  },
  {
   "cell_type": "markdown",
   "metadata": {},
   "source": [
    "# Customizing models and training algorithms"
   ]
  },
  {
   "cell_type": "markdown",
   "metadata": {},
   "source": [
    "## Custom loss function"
   ]
  },
  {
   "cell_type": "code",
   "execution_count": 48,
   "metadata": {},
   "outputs": [],
   "source": [
    "def cross_entropy(y_true, y_pred):\n",
    "    return -tf.multiply(y_true, tf.math.log(y_pred))"
   ]
  },
  {
   "cell_type": "code",
   "execution_count": 72,
   "metadata": {},
   "outputs": [],
   "source": [
    "from sklearn.datasets import load_iris\n",
    "from sklearn.model_selection import train_test_split\n",
    "from keras.layers import Dense, BatchNormalization\n",
    "from keras.models import Sequential\n",
    "from keras.utils import to_categorical\n",
    "from keras.callbacks import EarlyStopping\n",
    "\n",
    "\n",
    "iris = load_iris()\n",
    "X_train, X_test, y_train, y_test = train_test_split(iris.data, iris.target, train_size = .8, random_state = 5)\n",
    "X_train, X_valid, y_train, y_valid = train_test_split(X_train, y_train, train_size = .8, random_state = 6)\n",
    "y_train = to_categorical(y_train, num_classes=3)\n",
    "y_valid = to_categorical(y_valid, num_classes=3)\n",
    "y_test = to_categorical(y_test, num_classes=3)\n",
    "\n",
    "model = Sequential([\n",
    "    BatchNormalization(),\n",
    "    Dense(10, activation = 'elu', kernel_initializer = 'he_normal'),\n",
    "    BatchNormalization(),\n",
    "    Dense(3, activation = 'softmax')\n",
    "])\n",
    "\n",
    "model.compile(optimizer = 'adam', loss = cross_entropy, metrics = ['accuracy'])"
   ]
  },
  {
   "cell_type": "code",
   "execution_count": 73,
   "metadata": {},
   "outputs": [
    {
     "name": "stdout",
     "output_type": "stream",
     "text": [
      "Train on 96 samples, validate on 24 samples\n",
      "Epoch 1/150\n",
      "96/96 [==============================] - 1s 9ms/step - loss: 0.7972 - accuracy: 0.0625 - val_loss: 1.3359 - val_accuracy: 0.0000e+00\n",
      "Epoch 2/150\n",
      "96/96 [==============================] - 0s 72us/step - loss: 0.7800 - accuracy: 0.0625 - val_loss: 1.2741 - val_accuracy: 0.0000e+00\n",
      "Epoch 3/150\n",
      "96/96 [==============================] - 0s 62us/step - loss: 0.7562 - accuracy: 0.0729 - val_loss: 1.2248 - val_accuracy: 0.0417\n",
      "Epoch 4/150\n",
      "96/96 [==============================] - 0s 83us/step - loss: 0.7439 - accuracy: 0.0625 - val_loss: 1.1866 - val_accuracy: 0.1250\n",
      "Epoch 5/150\n",
      "96/96 [==============================] - 0s 214us/step - loss: 0.7069 - accuracy: 0.0729 - val_loss: 1.1576 - val_accuracy: 0.3333\n",
      "Epoch 6/150\n",
      "96/96 [==============================] - 0s 93us/step - loss: 0.6879 - accuracy: 0.1250 - val_loss: 1.1340 - val_accuracy: 0.3750\n",
      "Epoch 7/150\n",
      "96/96 [==============================] - 0s 83us/step - loss: 0.6749 - accuracy: 0.0729 - val_loss: 1.1141 - val_accuracy: 0.4167\n",
      "Epoch 8/150\n",
      "96/96 [==============================] - 0s 103us/step - loss: 0.6689 - accuracy: 0.0729 - val_loss: 1.0965 - val_accuracy: 0.4167\n",
      "Epoch 9/150\n",
      "96/96 [==============================] - 0s 93us/step - loss: 0.6339 - accuracy: 0.0938 - val_loss: 1.0820 - val_accuracy: 0.4167\n",
      "Epoch 10/150\n",
      "96/96 [==============================] - 0s 104us/step - loss: 0.6331 - accuracy: 0.0833 - val_loss: 1.0666 - val_accuracy: 0.4167\n",
      "Epoch 11/150\n",
      "96/96 [==============================] - 0s 62us/step - loss: 0.6265 - accuracy: 0.1146 - val_loss: 1.0526 - val_accuracy: 0.4167\n",
      "Epoch 12/150\n",
      "96/96 [==============================] - 0s 83us/step - loss: 0.5932 - accuracy: 0.1042 - val_loss: 1.0378 - val_accuracy: 0.4167\n",
      "Epoch 13/150\n",
      "96/96 [==============================] - 0s 72us/step - loss: 0.5609 - accuracy: 0.1562 - val_loss: 1.0241 - val_accuracy: 0.4167\n",
      "Epoch 14/150\n",
      "96/96 [==============================] - 0s 1ms/step - loss: 0.5692 - accuracy: 0.1250 - val_loss: 1.0094 - val_accuracy: 0.4167\n",
      "Epoch 15/150\n",
      "96/96 [==============================] - 0s 62us/step - loss: 0.5559 - accuracy: 0.1250 - val_loss: 0.9946 - val_accuracy: 0.4167\n",
      "Epoch 16/150\n",
      "96/96 [==============================] - 0s 72us/step - loss: 0.5505 - accuracy: 0.1250 - val_loss: 0.9790 - val_accuracy: 0.4167\n",
      "Epoch 17/150\n",
      "96/96 [==============================] - 0s 78us/step - loss: 0.5360 - accuracy: 0.1354 - val_loss: 0.9634 - val_accuracy: 0.4167\n",
      "Epoch 18/150\n",
      "96/96 [==============================] - 0s 93us/step - loss: 0.5188 - accuracy: 0.1042 - val_loss: 0.9472 - val_accuracy: 0.4167\n",
      "Epoch 19/150\n",
      "96/96 [==============================] - 0s 145us/step - loss: 0.5152 - accuracy: 0.1458 - val_loss: 0.9309 - val_accuracy: 0.4167\n",
      "Epoch 20/150\n",
      "96/96 [==============================] - 0s 114us/step - loss: 0.4934 - accuracy: 0.1458 - val_loss: 0.9131 - val_accuracy: 0.4167\n",
      "Epoch 21/150\n",
      "96/96 [==============================] - 0s 73us/step - loss: 0.4821 - accuracy: 0.1354 - val_loss: 0.8952 - val_accuracy: 0.4167\n",
      "Epoch 22/150\n",
      "96/96 [==============================] - 0s 832us/step - loss: 0.4686 - accuracy: 0.1458 - val_loss: 0.8764 - val_accuracy: 0.4167\n",
      "Epoch 23/150\n",
      "96/96 [==============================] - 0s 125us/step - loss: 0.4594 - accuracy: 0.1979 - val_loss: 0.8574 - val_accuracy: 0.4167\n",
      "Epoch 24/150\n",
      "96/96 [==============================] - 0s 93us/step - loss: 0.4469 - accuracy: 0.1667 - val_loss: 0.8381 - val_accuracy: 0.4167\n",
      "Epoch 25/150\n",
      "96/96 [==============================] - 0s 83us/step - loss: 0.4337 - accuracy: 0.1354 - val_loss: 0.8184 - val_accuracy: 0.4167\n",
      "Epoch 26/150\n",
      "96/96 [==============================] - 0s 72us/step - loss: 0.4251 - accuracy: 0.1771 - val_loss: 0.7985 - val_accuracy: 0.4167\n",
      "Epoch 27/150\n",
      "96/96 [==============================] - 0s 83us/step - loss: 0.4181 - accuracy: 0.1979 - val_loss: 0.7779 - val_accuracy: 0.4167\n",
      "Epoch 28/150\n",
      "96/96 [==============================] - 0s 125us/step - loss: 0.4103 - accuracy: 0.1979 - val_loss: 0.7579 - val_accuracy: 0.4167\n",
      "Epoch 29/150\n",
      "96/96 [==============================] - 0s 62us/step - loss: 0.3904 - accuracy: 0.2083 - val_loss: 0.7372 - val_accuracy: 0.4167\n",
      "Epoch 30/150\n",
      "96/96 [==============================] - 0s 83us/step - loss: 0.3804 - accuracy: 0.2188 - val_loss: 0.7161 - val_accuracy: 0.4167\n",
      "Epoch 31/150\n",
      "96/96 [==============================] - 0s 62us/step - loss: 0.3777 - accuracy: 0.1979 - val_loss: 0.6950 - val_accuracy: 0.4167\n",
      "Epoch 32/150\n",
      "96/96 [==============================] - 0s 83us/step - loss: 0.3677 - accuracy: 0.2188 - val_loss: 0.6741 - val_accuracy: 0.4167\n",
      "Epoch 33/150\n",
      "96/96 [==============================] - 0s 588us/step - loss: 0.3607 - accuracy: 0.2812 - val_loss: 0.6533 - val_accuracy: 0.4167\n",
      "Epoch 34/150\n",
      "96/96 [==============================] - 0s 73us/step - loss: 0.3532 - accuracy: 0.3229 - val_loss: 0.6330 - val_accuracy: 0.4167\n",
      "Epoch 35/150\n",
      "96/96 [==============================] - 0s 62us/step - loss: 0.3532 - accuracy: 0.4167 - val_loss: 0.6128 - val_accuracy: 0.4167\n",
      "Epoch 36/150\n",
      "96/96 [==============================] - 0s 104us/step - loss: 0.3351 - accuracy: 0.4583 - val_loss: 0.5930 - val_accuracy: 0.4167\n",
      "Epoch 37/150\n",
      "96/96 [==============================] - 0s 83us/step - loss: 0.3327 - accuracy: 0.4896 - val_loss: 0.5738 - val_accuracy: 0.4167\n",
      "Epoch 38/150\n",
      "96/96 [==============================] - 0s 62us/step - loss: 0.3226 - accuracy: 0.5312 - val_loss: 0.5545 - val_accuracy: 0.4167\n",
      "Epoch 39/150\n",
      "96/96 [==============================] - 0s 71us/step - loss: 0.3180 - accuracy: 0.5208 - val_loss: 0.5359 - val_accuracy: 0.4167\n",
      "Epoch 40/150\n",
      "96/96 [==============================] - 0s 73us/step - loss: 0.3080 - accuracy: 0.5312 - val_loss: 0.5177 - val_accuracy: 0.4167\n",
      "Epoch 41/150\n",
      "96/96 [==============================] - 0s 62us/step - loss: 0.3029 - accuracy: 0.5521 - val_loss: 0.5001 - val_accuracy: 0.4167\n",
      "Epoch 42/150\n",
      "96/96 [==============================] - 0s 73us/step - loss: 0.2960 - accuracy: 0.5833 - val_loss: 0.4828 - val_accuracy: 0.4167\n",
      "Epoch 43/150\n",
      "96/96 [==============================] - 0s 81us/step - loss: 0.2908 - accuracy: 0.6146 - val_loss: 0.4661 - val_accuracy: 0.4167\n",
      "Epoch 44/150\n",
      "96/96 [==============================] - 0s 52us/step - loss: 0.2855 - accuracy: 0.6458 - val_loss: 0.4499 - val_accuracy: 0.4167\n",
      "Epoch 45/150\n",
      "96/96 [==============================] - 0s 62us/step - loss: 0.2795 - accuracy: 0.6354 - val_loss: 0.4338 - val_accuracy: 0.4167\n",
      "Epoch 46/150\n",
      "96/96 [==============================] - 0s 72us/step - loss: 0.2862 - accuracy: 0.6146 - val_loss: 0.4180 - val_accuracy: 0.4167\n",
      "Epoch 47/150\n",
      "96/96 [==============================] - 0s 83us/step - loss: 0.2677 - accuracy: 0.6562 - val_loss: 0.4032 - val_accuracy: 0.4167\n",
      "Epoch 48/150\n",
      "96/96 [==============================] - 0s 62us/step - loss: 0.2842 - accuracy: 0.6667 - val_loss: 0.3883 - val_accuracy: 0.4167\n",
      "Epoch 49/150\n",
      "96/96 [==============================] - 0s 62us/step - loss: 0.2682 - accuracy: 0.6354 - val_loss: 0.3744 - val_accuracy: 0.4167\n",
      "Epoch 50/150\n",
      "96/96 [==============================] - 0s 73us/step - loss: 0.2602 - accuracy: 0.7188 - val_loss: 0.3610 - val_accuracy: 0.4167\n",
      "Epoch 51/150\n",
      "96/96 [==============================] - 0s 72us/step - loss: 0.2568 - accuracy: 0.6979 - val_loss: 0.3477 - val_accuracy: 0.4167\n",
      "Epoch 52/150\n",
      "96/96 [==============================] - 0s 63us/step - loss: 0.2541 - accuracy: 0.7188 - val_loss: 0.3351 - val_accuracy: 0.4167\n",
      "Epoch 53/150\n",
      "96/96 [==============================] - 0s 62us/step - loss: 0.2521 - accuracy: 0.7292 - val_loss: 0.3228 - val_accuracy: 0.4167\n",
      "Epoch 54/150\n",
      "96/96 [==============================] - 0s 62us/step - loss: 0.2387 - accuracy: 0.7500 - val_loss: 0.3115 - val_accuracy: 0.4167\n",
      "Epoch 55/150\n",
      "96/96 [==============================] - 0s 73us/step - loss: 0.2366 - accuracy: 0.7604 - val_loss: 0.3007 - val_accuracy: 0.4167\n",
      "Epoch 56/150\n",
      "96/96 [==============================] - 0s 72us/step - loss: 0.2340 - accuracy: 0.8021 - val_loss: 0.2905 - val_accuracy: 0.4167\n",
      "Epoch 57/150\n",
      "96/96 [==============================] - 0s 73us/step - loss: 0.2317 - accuracy: 0.7604 - val_loss: 0.2805 - val_accuracy: 0.4583\n"
     ]
    },
    {
     "name": "stdout",
     "output_type": "stream",
     "text": [
      "Epoch 58/150\n",
      "96/96 [==============================] - 0s 73us/step - loss: 0.2362 - accuracy: 0.7917 - val_loss: 0.2711 - val_accuracy: 0.4583\n",
      "Epoch 59/150\n",
      "96/96 [==============================] - 0s 62us/step - loss: 0.2330 - accuracy: 0.7292 - val_loss: 0.2623 - val_accuracy: 0.4583\n",
      "Epoch 60/150\n",
      "96/96 [==============================] - 0s 93us/step - loss: 0.2172 - accuracy: 0.7604 - val_loss: 0.2537 - val_accuracy: 0.5417\n",
      "Epoch 61/150\n",
      "96/96 [==============================] - 0s 93us/step - loss: 0.2159 - accuracy: 0.7812 - val_loss: 0.2457 - val_accuracy: 0.5417\n",
      "Epoch 62/150\n",
      "96/96 [==============================] - 0s 72us/step - loss: 0.2204 - accuracy: 0.7812 - val_loss: 0.2380 - val_accuracy: 0.6667\n",
      "Epoch 63/150\n",
      "96/96 [==============================] - 0s 73us/step - loss: 0.2126 - accuracy: 0.8021 - val_loss: 0.2308 - val_accuracy: 0.7083\n",
      "Epoch 64/150\n",
      "96/96 [==============================] - 0s 62us/step - loss: 0.2115 - accuracy: 0.8021 - val_loss: 0.2239 - val_accuracy: 0.7500\n",
      "Epoch 65/150\n",
      "96/96 [==============================] - 0s 72us/step - loss: 0.2032 - accuracy: 0.7708 - val_loss: 0.2174 - val_accuracy: 0.7500\n",
      "Epoch 66/150\n",
      "96/96 [==============================] - 0s 63us/step - loss: 0.2055 - accuracy: 0.8229 - val_loss: 0.2112 - val_accuracy: 0.7500\n",
      "Epoch 67/150\n",
      "96/96 [==============================] - 0s 62us/step - loss: 0.1995 - accuracy: 0.8125 - val_loss: 0.2054 - val_accuracy: 0.7500\n",
      "Epoch 68/150\n",
      "96/96 [==============================] - 0s 62us/step - loss: 0.2198 - accuracy: 0.7396 - val_loss: 0.1997 - val_accuracy: 0.7500\n",
      "Epoch 69/150\n",
      "96/96 [==============================] - 0s 62us/step - loss: 0.2022 - accuracy: 0.8125 - val_loss: 0.1945 - val_accuracy: 0.7917\n",
      "Epoch 70/150\n",
      "96/96 [==============================] - 0s 124us/step - loss: 0.1957 - accuracy: 0.8229 - val_loss: 0.1894 - val_accuracy: 0.7917\n",
      "Epoch 71/150\n",
      "96/96 [==============================] - 0s 62us/step - loss: 0.2003 - accuracy: 0.7917 - val_loss: 0.1847 - val_accuracy: 0.7917\n",
      "Epoch 72/150\n",
      "96/96 [==============================] - 0s 94us/step - loss: 0.1905 - accuracy: 0.8125 - val_loss: 0.1804 - val_accuracy: 0.7917\n",
      "Epoch 73/150\n",
      "96/96 [==============================] - 0s 93us/step - loss: 0.2013 - accuracy: 0.7708 - val_loss: 0.1763 - val_accuracy: 0.7917\n",
      "Epoch 74/150\n",
      "96/96 [==============================] - 0s 104us/step - loss: 0.1841 - accuracy: 0.8333 - val_loss: 0.1723 - val_accuracy: 0.8333\n",
      "Epoch 75/150\n",
      "96/96 [==============================] - 0s 93us/step - loss: 0.1838 - accuracy: 0.8229 - val_loss: 0.1684 - val_accuracy: 0.8333\n",
      "Epoch 76/150\n",
      "96/96 [==============================] - 0s 83us/step - loss: 0.1799 - accuracy: 0.8333 - val_loss: 0.1648 - val_accuracy: 0.8750\n",
      "Epoch 77/150\n",
      "96/96 [==============================] - 0s 83us/step - loss: 0.1833 - accuracy: 0.8125 - val_loss: 0.1613 - val_accuracy: 0.8750\n",
      "Epoch 78/150\n",
      "96/96 [==============================] - 0s 93us/step - loss: 0.1798 - accuracy: 0.8125 - val_loss: 0.1581 - val_accuracy: 0.8750\n",
      "Epoch 79/150\n",
      "96/96 [==============================] - 0s 72us/step - loss: 0.1845 - accuracy: 0.7917 - val_loss: 0.1550 - val_accuracy: 0.9167\n",
      "Epoch 80/150\n",
      "96/96 [==============================] - 0s 104us/step - loss: 0.1782 - accuracy: 0.8125 - val_loss: 0.1520 - val_accuracy: 0.9167\n",
      "Epoch 81/150\n",
      "96/96 [==============================] - 0s 104us/step - loss: 0.1705 - accuracy: 0.8542 - val_loss: 0.1491 - val_accuracy: 0.9167\n",
      "Epoch 82/150\n",
      "96/96 [==============================] - 0s 93us/step - loss: 0.1743 - accuracy: 0.8125 - val_loss: 0.1464 - val_accuracy: 0.9167\n",
      "Epoch 83/150\n",
      "96/96 [==============================] - 0s 104us/step - loss: 0.1774 - accuracy: 0.8125 - val_loss: 0.1438 - val_accuracy: 0.9167\n",
      "Epoch 84/150\n",
      "96/96 [==============================] - 0s 114us/step - loss: 0.1670 - accuracy: 0.8333 - val_loss: 0.1414 - val_accuracy: 0.9167\n",
      "Epoch 85/150\n",
      "96/96 [==============================] - 0s 103us/step - loss: 0.1660 - accuracy: 0.8333 - val_loss: 0.1390 - val_accuracy: 0.9167\n",
      "Epoch 86/150\n",
      "96/96 [==============================] - 0s 93us/step - loss: 0.1655 - accuracy: 0.8333 - val_loss: 0.1368 - val_accuracy: 0.9167\n",
      "Epoch 87/150\n",
      "96/96 [==============================] - 0s 93us/step - loss: 0.1704 - accuracy: 0.8438 - val_loss: 0.1347 - val_accuracy: 0.9167\n",
      "Epoch 88/150\n",
      "96/96 [==============================] - 0s 114us/step - loss: 0.1565 - accuracy: 0.8750 - val_loss: 0.1326 - val_accuracy: 0.9167\n",
      "Epoch 89/150\n",
      "96/96 [==============================] - 0s 93us/step - loss: 0.1609 - accuracy: 0.8438 - val_loss: 0.1306 - val_accuracy: 0.9583\n",
      "Epoch 90/150\n",
      "96/96 [==============================] - 0s 104us/step - loss: 0.1615 - accuracy: 0.8333 - val_loss: 0.1287 - val_accuracy: 0.9583\n",
      "Epoch 91/150\n",
      "96/96 [==============================] - 0s 94us/step - loss: 0.1541 - accuracy: 0.8542 - val_loss: 0.1269 - val_accuracy: 0.9583\n",
      "Epoch 92/150\n",
      "96/96 [==============================] - 0s 104us/step - loss: 0.1577 - accuracy: 0.8333 - val_loss: 0.1251 - val_accuracy: 0.9583\n",
      "Epoch 93/150\n",
      "96/96 [==============================] - 0s 63us/step - loss: 0.1555 - accuracy: 0.8750 - val_loss: 0.1234 - val_accuracy: 0.9583\n",
      "Epoch 94/150\n",
      "96/96 [==============================] - 0s 62us/step - loss: 0.1468 - accuracy: 0.8229 - val_loss: 0.1218 - val_accuracy: 0.9583\n",
      "Epoch 95/150\n",
      "96/96 [==============================] - 0s 72us/step - loss: 0.1466 - accuracy: 0.8229 - val_loss: 0.1202 - val_accuracy: 0.9583\n",
      "Epoch 96/150\n",
      "96/96 [==============================] - 0s 62us/step - loss: 0.1522 - accuracy: 0.8229 - val_loss: 0.1187 - val_accuracy: 0.9583\n",
      "Epoch 97/150\n",
      "96/96 [==============================] - 0s 83us/step - loss: 0.1549 - accuracy: 0.8333 - val_loss: 0.1173 - val_accuracy: 0.9583\n",
      "Epoch 98/150\n",
      "96/96 [==============================] - 0s 72us/step - loss: 0.1479 - accuracy: 0.8438 - val_loss: 0.1159 - val_accuracy: 0.9583\n",
      "Epoch 99/150\n",
      "96/96 [==============================] - 0s 62us/step - loss: 0.1564 - accuracy: 0.8333 - val_loss: 0.1145 - val_accuracy: 0.9583\n",
      "Epoch 100/150\n",
      "96/96 [==============================] - 0s 83us/step - loss: 0.1522 - accuracy: 0.8021 - val_loss: 0.1132 - val_accuracy: 0.9583\n",
      "Epoch 101/150\n",
      "96/96 [==============================] - 0s 104us/step - loss: 0.1483 - accuracy: 0.8333 - val_loss: 0.1119 - val_accuracy: 0.9583\n",
      "Epoch 102/150\n",
      "96/96 [==============================] - 0s 72us/step - loss: 0.1375 - accuracy: 0.8542 - val_loss: 0.1107 - val_accuracy: 0.9583\n",
      "Epoch 103/150\n",
      "96/96 [==============================] - 0s 104us/step - loss: 0.1536 - accuracy: 0.8229 - val_loss: 0.1095 - val_accuracy: 0.9583\n",
      "Epoch 104/150\n",
      "96/96 [==============================] - 0s 93us/step - loss: 0.1409 - accuracy: 0.8750 - val_loss: 0.1084 - val_accuracy: 0.9583\n",
      "Epoch 105/150\n",
      "96/96 [==============================] - 0s 104us/step - loss: 0.1442 - accuracy: 0.8854 - val_loss: 0.1072 - val_accuracy: 0.9583\n",
      "Epoch 106/150\n",
      "96/96 [==============================] - 0s 83us/step - loss: 0.1321 - accuracy: 0.8854 - val_loss: 0.1061 - val_accuracy: 0.9583\n",
      "Epoch 107/150\n",
      "96/96 [==============================] - 0s 73us/step - loss: 0.1340 - accuracy: 0.8542 - val_loss: 0.1051 - val_accuracy: 0.9583\n",
      "Epoch 108/150\n",
      "96/96 [==============================] - 0s 62us/step - loss: 0.1371 - accuracy: 0.8646 - val_loss: 0.1040 - val_accuracy: 0.9583\n",
      "Epoch 109/150\n",
      "96/96 [==============================] - 0s 72us/step - loss: 0.1483 - accuracy: 0.8438 - val_loss: 0.1028 - val_accuracy: 0.9583\n",
      "Epoch 110/150\n",
      "96/96 [==============================] - 0s 62us/step - loss: 0.1259 - accuracy: 0.8958 - val_loss: 0.1018 - val_accuracy: 0.9583\n",
      "Epoch 111/150\n",
      "96/96 [==============================] - 0s 83us/step - loss: 0.1322 - accuracy: 0.8750 - val_loss: 0.1008 - val_accuracy: 0.9583\n",
      "Epoch 112/150\n",
      "96/96 [==============================] - 0s 83us/step - loss: 0.1256 - accuracy: 0.9062 - val_loss: 0.0999 - val_accuracy: 0.9583\n",
      "Epoch 113/150\n",
      "96/96 [==============================] - 0s 72us/step - loss: 0.1254 - accuracy: 0.8958 - val_loss: 0.0990 - val_accuracy: 0.9583\n",
      "Epoch 114/150\n",
      "96/96 [==============================] - 0s 93us/step - loss: 0.1270 - accuracy: 0.8646 - val_loss: 0.0981 - val_accuracy: 0.9583\n",
      "Epoch 115/150\n"
     ]
    },
    {
     "name": "stdout",
     "output_type": "stream",
     "text": [
      "96/96 [==============================] - 0s 62us/step - loss: 0.1308 - accuracy: 0.8854 - val_loss: 0.0972 - val_accuracy: 0.9583\n",
      "Epoch 116/150\n",
      "96/96 [==============================] - 0s 62us/step - loss: 0.1239 - accuracy: 0.8750 - val_loss: 0.0963 - val_accuracy: 0.9583\n",
      "Epoch 117/150\n",
      "96/96 [==============================] - 0s 73us/step - loss: 0.1240 - accuracy: 0.8750 - val_loss: 0.0955 - val_accuracy: 0.9583\n",
      "Epoch 118/150\n",
      "96/96 [==============================] - 0s 83us/step - loss: 0.1228 - accuracy: 0.9271 - val_loss: 0.0947 - val_accuracy: 0.9583\n",
      "Epoch 119/150\n",
      "96/96 [==============================] - 0s 73us/step - loss: 0.1195 - accuracy: 0.8854 - val_loss: 0.0938 - val_accuracy: 0.9583\n",
      "Epoch 120/150\n",
      "96/96 [==============================] - 0s 52us/step - loss: 0.1165 - accuracy: 0.8854 - val_loss: 0.0930 - val_accuracy: 0.9583\n",
      "Epoch 121/150\n",
      "96/96 [==============================] - 0s 62us/step - loss: 0.1164 - accuracy: 0.8958 - val_loss: 0.0923 - val_accuracy: 0.9583\n",
      "Epoch 122/150\n",
      "96/96 [==============================] - 0s 72us/step - loss: 0.1175 - accuracy: 0.8958 - val_loss: 0.0915 - val_accuracy: 0.9583\n",
      "Epoch 123/150\n",
      "96/96 [==============================] - 0s 73us/step - loss: 0.1195 - accuracy: 0.8854 - val_loss: 0.0907 - val_accuracy: 0.9583\n",
      "Epoch 124/150\n",
      "96/96 [==============================] - 0s 73us/step - loss: 0.1166 - accuracy: 0.9062 - val_loss: 0.0899 - val_accuracy: 0.9583\n",
      "Epoch 125/150\n",
      "96/96 [==============================] - 0s 93us/step - loss: 0.1151 - accuracy: 0.9271 - val_loss: 0.0893 - val_accuracy: 0.9583\n",
      "Epoch 126/150\n",
      "96/96 [==============================] - 0s 73us/step - loss: 0.1259 - accuracy: 0.8854 - val_loss: 0.0885 - val_accuracy: 0.9583\n",
      "Epoch 127/150\n",
      "96/96 [==============================] - 0s 73us/step - loss: 0.1190 - accuracy: 0.8958 - val_loss: 0.0877 - val_accuracy: 0.9583\n",
      "Epoch 128/150\n",
      "96/96 [==============================] - 0s 62us/step - loss: 0.1201 - accuracy: 0.8854 - val_loss: 0.0869 - val_accuracy: 0.9583\n",
      "Epoch 129/150\n",
      "96/96 [==============================] - 0s 62us/step - loss: 0.1404 - accuracy: 0.8229 - val_loss: 0.0863 - val_accuracy: 0.9583\n",
      "Epoch 130/150\n",
      "96/96 [==============================] - 0s 73us/step - loss: 0.1152 - accuracy: 0.8958 - val_loss: 0.0857 - val_accuracy: 0.9583\n",
      "Epoch 131/150\n",
      "96/96 [==============================] - 0s 73us/step - loss: 0.1246 - accuracy: 0.8750 - val_loss: 0.0850 - val_accuracy: 0.9583\n",
      "Epoch 132/150\n",
      "96/96 [==============================] - 0s 93us/step - loss: 0.1244 - accuracy: 0.8646 - val_loss: 0.0844 - val_accuracy: 0.9583\n",
      "Epoch 133/150\n",
      "96/96 [==============================] - 0s 62us/step - loss: 0.1078 - accuracy: 0.9167 - val_loss: 0.0839 - val_accuracy: 0.9583\n",
      "Epoch 134/150\n",
      "96/96 [==============================] - 0s 83us/step - loss: 0.1110 - accuracy: 0.8958 - val_loss: 0.0835 - val_accuracy: 0.9583\n",
      "Epoch 135/150\n",
      "96/96 [==============================] - 0s 83us/step - loss: 0.1058 - accuracy: 0.9167 - val_loss: 0.0829 - val_accuracy: 0.9583\n",
      "Epoch 136/150\n",
      "96/96 [==============================] - 0s 52us/step - loss: 0.1061 - accuracy: 0.9062 - val_loss: 0.0823 - val_accuracy: 0.9583\n",
      "Epoch 137/150\n",
      "96/96 [==============================] - 0s 104us/step - loss: 0.1068 - accuracy: 0.9271 - val_loss: 0.0818 - val_accuracy: 0.9583\n",
      "Epoch 138/150\n",
      "96/96 [==============================] - 0s 83us/step - loss: 0.1027 - accuracy: 0.9479 - val_loss: 0.0812 - val_accuracy: 0.9583\n",
      "Epoch 139/150\n",
      "96/96 [==============================] - 0s 83us/step - loss: 0.1020 - accuracy: 0.9271 - val_loss: 0.0806 - val_accuracy: 0.9583\n",
      "Epoch 140/150\n",
      "96/96 [==============================] - 0s 62us/step - loss: 0.1061 - accuracy: 0.9167 - val_loss: 0.0799 - val_accuracy: 0.9583\n",
      "Epoch 141/150\n",
      "96/96 [==============================] - 0s 83us/step - loss: 0.1005 - accuracy: 0.9167 - val_loss: 0.0793 - val_accuracy: 0.9583\n",
      "Epoch 142/150\n",
      "96/96 [==============================] - 0s 83us/step - loss: 0.1106 - accuracy: 0.8854 - val_loss: 0.0787 - val_accuracy: 0.9583\n",
      "Epoch 143/150\n",
      "96/96 [==============================] - 0s 72us/step - loss: 0.1042 - accuracy: 0.9375 - val_loss: 0.0781 - val_accuracy: 0.9583\n",
      "Epoch 144/150\n",
      "96/96 [==============================] - 0s 73us/step - loss: 0.0964 - accuracy: 0.9375 - val_loss: 0.0776 - val_accuracy: 0.9583\n",
      "Epoch 145/150\n",
      "96/96 [==============================] - 0s 207us/step - loss: 0.1007 - accuracy: 0.9167 - val_loss: 0.0771 - val_accuracy: 0.9583\n",
      "Epoch 146/150\n",
      "96/96 [==============================] - 0s 62us/step - loss: 0.1057 - accuracy: 0.9062 - val_loss: 0.0765 - val_accuracy: 0.9583\n",
      "Epoch 147/150\n",
      "96/96 [==============================] - 0s 114us/step - loss: 0.0995 - accuracy: 0.9271 - val_loss: 0.0759 - val_accuracy: 0.9583\n",
      "Epoch 148/150\n",
      "96/96 [==============================] - 0s 73us/step - loss: 0.1075 - accuracy: 0.8854 - val_loss: 0.0754 - val_accuracy: 0.9583\n",
      "Epoch 149/150\n",
      "96/96 [==============================] - 0s 104us/step - loss: 0.0959 - accuracy: 0.9271 - val_loss: 0.0749 - val_accuracy: 0.9583\n",
      "Epoch 150/150\n",
      "96/96 [==============================] - 0s 62us/step - loss: 0.1093 - accuracy: 0.8646 - val_loss: 0.0744 - val_accuracy: 1.0000\n"
     ]
    }
   ],
   "source": [
    "from keras.callbacks import ModelCheckpoint\n",
    "checkpoint_cb = ModelCheckpoint('custom_loss_model.h5', save_best_only= True)\n",
    "history = model.fit(X_train, y_train, validation_data = (X_valid, y_valid), epochs = 150, batch_size = 32, callbacks = [EarlyStopping(patience = 10, restore_best_weights = True), checkpoint_cb])"
   ]
  },
  {
   "cell_type": "code",
   "execution_count": 74,
   "metadata": {},
   "outputs": [
    {
     "data": {
      "text/plain": [
       "<matplotlib.axes._subplots.AxesSubplot at 0x29f3db67898>"
      ]
     },
     "execution_count": 74,
     "metadata": {},
     "output_type": "execute_result"
    },
    {
     "data": {
      "image/png": "[encoded data removed]",
      "text/plain": [
       "<Figure size 576x432 with 1 Axes>"
      ]
     },
     "metadata": {
      "needs_background": "light"
     },
     "output_type": "display_data"
    }
   ],
   "source": [
    "pd.DataFrame(history.history).plot(figsize = (8,6))"
   ]
  },
  {
   "cell_type": "code",
   "execution_count": 69,
   "metadata": {},
   "outputs": [
    {
     "name": "stdout",
     "output_type": "stream",
     "text": [
      "\r",
      "30/30 [==============================] - 0s 366us/step\n"
     ]
    },
    {
     "data": {
      "text/plain": [
       "[0.08615051209926605, 0.9333333373069763]"
      ]
     },
     "execution_count": 69,
     "metadata": {},
     "output_type": "execute_result"
    }
   ],
   "source": [
    "model.evaluate(X_test, y_test)"
   ]
  },
  {
   "cell_type": "markdown",
   "metadata": {},
   "source": [
    "## Saving and Loading Models that contain Custom Components"
   ]
  },
  {
   "cell_type": "markdown",
   "metadata": {},
   "source": [
    "when\n",
    "you load a model containing custom objects, you need to map the names to the\n",
    "objects:"
   ]
  },
  {
   "cell_type": "code",
   "execution_count": 76,
   "metadata": {},
   "outputs": [],
   "source": [
    "from keras.models import load_model\n",
    "my_model = load_model('custom_loss_model.h5', custom_objects = {'cross_entropy': cross_entropy})"
   ]
  },
  {
   "cell_type": "code",
   "execution_count": 77,
   "metadata": {},
   "outputs": [
    {
     "name": "stdout",
     "output_type": "stream",
     "text": [
      "Model: \"sequential_20\"\n",
      "_________________________________________________________________\n",
      "Layer (type)                 Output Shape              Param #   \n",
      "=================================================================\n",
      "batch_normalization_39 (Batc (None, 4)                 16        \n",
      "_________________________________________________________________\n",
      "dense_39 (Dense)             (None, 10)                50        \n",
      "_________________________________________________________________\n",
      "batch_normalization_40 (Batc (None, 10)                40        \n",
      "_________________________________________________________________\n",
      "dense_40 (Dense)             (None, 3)                 33        \n",
      "=================================================================\n",
      "Total params: 139\n",
      "Trainable params: 111\n",
      "Non-trainable params: 28\n",
      "_________________________________________________________________\n"
     ]
    }
   ],
   "source": [
    "my_model.summary()"
   ]
  },
  {
   "cell_type": "markdown",
   "metadata": {},
   "source": [
    "But what if we want to use a <b>custom loss function</b> that accepts <b>hyperparameters</b>?<br>\n",
    "When we save the model, the values of hyperparameters will not be saved.\n",
    "<p class = 'highlight'>\n",
    "    You can solve this by creating a subclass of the <code>keras.losses.Loss</code> class, and implement its <code>get_config()</code> method\n",
    "</p>"
   ]
  },
  {
   "cell_type": "markdown",
   "metadata": {},
   "source": [
    "<a href = 'https://en.wikipedia.org/wiki/Huber_loss' target = '_blank'>The Huber loss function</a>"
   ]
  },
  {
   "cell_type": "code",
   "execution_count": 79,
   "metadata": {},
   "outputs": [],
   "source": [
    "import keras\n",
    "class Huber(keras.losses.Loss):\n",
    "    def __init__(self, gamma = 1, **kwargs):\n",
    "        self.gamma = gamma\n",
    "        super().__init__(**kwargs)\n",
    "    def call(self, y_true, y_pred):\n",
    "        error = y_pred - y_true\n",
    "        is_small = abs(error) < self.gamma\n",
    "        return tf.where(is_small, 1 / 2 * tf.square(error), self.gamma * (tf.abs(error) - self.gamma / 2))\n",
    "    def get_config(self):\n",
    "        base_config = super().get_config()\n",
    "        return {**base_config, 'gamma' : self.gamma}"
   ]
  },
  {
   "cell_type": "code",
   "execution_count": 101,
   "metadata": {},
   "outputs": [],
   "source": [
    "\n",
    "class HuberLoss(keras.losses.Loss):\n",
    "    def __init__(self, threshold=1.0, **kwargs):\n",
    "        self.threshold = threshold\n",
    "        super().__init__(**kwargs)\n",
    "    def call(self, y_true, y_pred):\n",
    "        error = y_true - y_pred\n",
    "        is_small_error = tf.abs(error) < self.threshold\n",
    "        squared_loss = tf.square(error) / 2\n",
    "        linear_loss = self.threshold * tf.abs(error) - self.threshold**2 / 2\n",
    "        return tf.where(is_small_error, squared_loss, linear_loss)\n",
    "    def get_config(self):\n",
    "        base_config = super().get_config()\n",
    "        return {**base_config, \"threshold\": self.threshold}"
   ]
  },
  {
   "cell_type": "markdown",
   "metadata": {},
   "source": [
    "<img src = 'custom.png'/>"
   ]
  },
  {
   "cell_type": "code",
   "execution_count": 106,
   "metadata": {},
   "outputs": [
    {
     "name": "stdout",
     "output_type": "stream",
     "text": [
      "Train on 96 samples, validate on 24 samples\n",
      "Epoch 1/100\n",
      "96/96 [==============================] - 2s 21ms/step - loss: 0.1780 - accuracy: 0.1146 - val_loss: 0.1198 - val_accuracy: 0.4167\n",
      "Epoch 2/100\n",
      "96/96 [==============================] - 0s 72us/step - loss: 0.1707 - accuracy: 0.1562 - val_loss: 0.1210 - val_accuracy: 0.4167\n",
      "Epoch 3/100\n",
      "96/96 [==============================] - 0s 94us/step - loss: 0.1719 - accuracy: 0.1458 - val_loss: 0.1220 - val_accuracy: 0.4167\n",
      "Epoch 4/100\n",
      "96/96 [==============================] - 0s 103us/step - loss: 0.1696 - accuracy: 0.1354 - val_loss: 0.1231 - val_accuracy: 0.4167\n",
      "Epoch 5/100\n",
      "96/96 [==============================] - 0s 114us/step - loss: 0.1652 - accuracy: 0.1458 - val_loss: 0.1238 - val_accuracy: 0.4167\n",
      "Epoch 6/100\n",
      "96/96 [==============================] - 0s 104us/step - loss: 0.1648 - accuracy: 0.1354 - val_loss: 0.1246 - val_accuracy: 0.4167\n",
      "Epoch 7/100\n",
      "96/96 [==============================] - 0s 94us/step - loss: 0.1609 - accuracy: 0.1979 - val_loss: 0.1252 - val_accuracy: 0.4167\n",
      "Epoch 8/100\n",
      "96/96 [==============================] - 0s 125us/step - loss: 0.1550 - accuracy: 0.2083 - val_loss: 0.1256 - val_accuracy: 0.4167\n",
      "Epoch 9/100\n",
      "96/96 [==============================] - 0s 156us/step - loss: 0.1519 - accuracy: 0.2396 - val_loss: 0.1259 - val_accuracy: 0.4167\n",
      "Epoch 10/100\n",
      "96/96 [==============================] - 0s 145us/step - loss: 0.1459 - accuracy: 0.2188 - val_loss: 0.1260 - val_accuracy: 0.4167\n",
      "Epoch 11/100\n",
      "96/96 [==============================] - 0s 114us/step - loss: 0.1468 - accuracy: 0.2396 - val_loss: 0.1263 - val_accuracy: 0.4167\n",
      "Epoch 12/100\n",
      "96/96 [==============================] - 0s 62us/step - loss: 0.1440 - accuracy: 0.2812 - val_loss: 0.1263 - val_accuracy: 0.4167\n",
      "Epoch 13/100\n",
      "96/96 [==============================] - 0s 83us/step - loss: 0.1389 - accuracy: 0.3125 - val_loss: 0.1263 - val_accuracy: 0.4167\n",
      "Epoch 14/100\n",
      "96/96 [==============================] - 0s 83us/step - loss: 0.1359 - accuracy: 0.3021 - val_loss: 0.1261 - val_accuracy: 0.4167\n",
      "Epoch 15/100\n",
      "96/96 [==============================] - 0s 83us/step - loss: 0.1305 - accuracy: 0.3646 - val_loss: 0.1259 - val_accuracy: 0.4167\n",
      "Epoch 16/100\n",
      "96/96 [==============================] - 0s 94us/step - loss: 0.1267 - accuracy: 0.3854 - val_loss: 0.1256 - val_accuracy: 0.4167\n",
      "Epoch 17/100\n",
      "96/96 [==============================] - 0s 83us/step - loss: 0.1245 - accuracy: 0.3542 - val_loss: 0.1253 - val_accuracy: 0.4167\n",
      "Epoch 18/100\n",
      "96/96 [==============================] - 0s 114us/step - loss: 0.1206 - accuracy: 0.3646 - val_loss: 0.1248 - val_accuracy: 0.4167\n",
      "Epoch 19/100\n",
      "96/96 [==============================] - 0s 145us/step - loss: 0.1169 - accuracy: 0.3958 - val_loss: 0.1243 - val_accuracy: 0.4167\n",
      "Epoch 20/100\n",
      "96/96 [==============================] - 0s 145us/step - loss: 0.1142 - accuracy: 0.3958 - val_loss: 0.1237 - val_accuracy: 0.4167\n",
      "Epoch 21/100\n",
      "96/96 [==============================] - 0s 177us/step - loss: 0.1093 - accuracy: 0.4688 - val_loss: 0.1230 - val_accuracy: 0.4167\n",
      "Epoch 22/100\n",
      "96/96 [==============================] - 0s 125us/step - loss: 0.1055 - accuracy: 0.4792 - val_loss: 0.1222 - val_accuracy: 0.4167\n",
      "Epoch 23/100\n",
      "96/96 [==============================] - 0s 62us/step - loss: 0.1033 - accuracy: 0.4896 - val_loss: 0.1212 - val_accuracy: 0.4167\n",
      "Epoch 24/100\n",
      "96/96 [==============================] - 0s 73us/step - loss: 0.0991 - accuracy: 0.5312 - val_loss: 0.1200 - val_accuracy: 0.4167\n",
      "Epoch 25/100\n",
      "96/96 [==============================] - 0s 52us/step - loss: 0.0979 - accuracy: 0.5312 - val_loss: 0.1188 - val_accuracy: 0.4167\n",
      "Epoch 26/100\n",
      "96/96 [==============================] - 0s 114us/step - loss: 0.0939 - accuracy: 0.5417 - val_loss: 0.1175 - val_accuracy: 0.4167\n",
      "Epoch 27/100\n",
      "96/96 [==============================] - 0s 93us/step - loss: 0.0906 - accuracy: 0.5417 - val_loss: 0.1161 - val_accuracy: 0.4167\n",
      "Epoch 28/100\n",
      "96/96 [==============================] - 0s 93us/step - loss: 0.0897 - accuracy: 0.5625 - val_loss: 0.1147 - val_accuracy: 0.4167\n",
      "Epoch 29/100\n",
      "96/96 [==============================] - 0s 125us/step - loss: 0.0864 - accuracy: 0.5729 - val_loss: 0.1130 - val_accuracy: 0.4167\n",
      "Epoch 30/100\n",
      "96/96 [==============================] - 0s 104us/step - loss: 0.0846 - accuracy: 0.5833 - val_loss: 0.1113 - val_accuracy: 0.4167\n",
      "Epoch 31/100\n",
      "96/96 [==============================] - 0s 104us/step - loss: 0.0819 - accuracy: 0.5729 - val_loss: 0.1094 - val_accuracy: 0.4167\n",
      "Epoch 32/100\n",
      "96/96 [==============================] - 0s 114us/step - loss: 0.0801 - accuracy: 0.6250 - val_loss: 0.1074 - val_accuracy: 0.4167\n",
      "Epoch 33/100\n",
      "96/96 [==============================] - 0s 104us/step - loss: 0.0814 - accuracy: 0.5729 - val_loss: 0.1054 - val_accuracy: 0.4167\n",
      "Epoch 34/100\n",
      "96/96 [==============================] - 0s 73us/step - loss: 0.0754 - accuracy: 0.6354 - val_loss: 0.1031 - val_accuracy: 0.4167\n",
      "Epoch 35/100\n",
      "96/96 [==============================] - 0s 104us/step - loss: 0.0745 - accuracy: 0.6771 - val_loss: 0.1007 - val_accuracy: 0.4167\n",
      "Epoch 36/100\n",
      "96/96 [==============================] - 0s 104us/step - loss: 0.0735 - accuracy: 0.6354 - val_loss: 0.0982 - val_accuracy: 0.4167\n",
      "Epoch 37/100\n",
      "96/96 [==============================] - 0s 83us/step - loss: 0.0710 - accuracy: 0.6667 - val_loss: 0.0958 - val_accuracy: 0.4583\n",
      "Epoch 38/100\n",
      "96/96 [==============================] - 0s 83us/step - loss: 0.0701 - accuracy: 0.6354 - val_loss: 0.0934 - val_accuracy: 0.4583\n",
      "Epoch 39/100\n",
      "96/96 [==============================] - 0s 73us/step - loss: 0.0657 - accuracy: 0.6771 - val_loss: 0.0909 - val_accuracy: 0.4583\n",
      "Epoch 40/100\n",
      "96/96 [==============================] - 0s 104us/step - loss: 0.0657 - accuracy: 0.6875 - val_loss: 0.0884 - val_accuracy: 0.5000\n",
      "Epoch 41/100\n",
      "96/96 [==============================] - 0s 52us/step - loss: 0.0674 - accuracy: 0.6146 - val_loss: 0.0859 - val_accuracy: 0.5833\n",
      "Epoch 42/100\n",
      "96/96 [==============================] - 0s 83us/step - loss: 0.0642 - accuracy: 0.6771 - val_loss: 0.0834 - val_accuracy: 0.5833\n",
      "Epoch 43/100\n",
      "96/96 [==============================] - 0s 83us/step - loss: 0.0608 - accuracy: 0.7188 - val_loss: 0.0809 - val_accuracy: 0.5833\n",
      "Epoch 44/100\n",
      "96/96 [==============================] - 0s 94us/step - loss: 0.0606 - accuracy: 0.6979 - val_loss: 0.0783 - val_accuracy: 0.5833\n",
      "Epoch 45/100\n",
      "96/96 [==============================] - 0s 94us/step - loss: 0.0596 - accuracy: 0.6875 - val_loss: 0.0756 - val_accuracy: 0.5833\n",
      "Epoch 46/100\n",
      "96/96 [==============================] - 0s 73us/step - loss: 0.0592 - accuracy: 0.7188 - val_loss: 0.0732 - val_accuracy: 0.6250\n",
      "Epoch 47/100\n",
      "96/96 [==============================] - 0s 94us/step - loss: 0.0582 - accuracy: 0.7396 - val_loss: 0.0706 - val_accuracy: 0.7083\n",
      "Epoch 48/100\n",
      "96/96 [==============================] - 0s 73us/step - loss: 0.0563 - accuracy: 0.7396 - val_loss: 0.0681 - val_accuracy: 0.7083\n",
      "Epoch 49/100\n",
      "96/96 [==============================] - 0s 83us/step - loss: 0.0536 - accuracy: 0.7396 - val_loss: 0.0658 - val_accuracy: 0.7083\n",
      "Epoch 50/100\n",
      "96/96 [==============================] - 0s 62us/step - loss: 0.0529 - accuracy: 0.7708 - val_loss: 0.0634 - val_accuracy: 0.7500\n",
      "Epoch 51/100\n",
      "96/96 [==============================] - 0s 62us/step - loss: 0.0535 - accuracy: 0.7708 - val_loss: 0.0611 - val_accuracy: 0.7500\n",
      "Epoch 52/100\n",
      "96/96 [==============================] - 0s 114us/step - loss: 0.0513 - accuracy: 0.7500 - val_loss: 0.0587 - val_accuracy: 0.7500\n",
      "Epoch 53/100\n",
      "96/96 [==============================] - 0s 93us/step - loss: 0.0512 - accuracy: 0.7604 - val_loss: 0.0566 - val_accuracy: 0.7500\n",
      "Epoch 54/100\n",
      "96/96 [==============================] - 0s 93us/step - loss: 0.0509 - accuracy: 0.7500 - val_loss: 0.0545 - val_accuracy: 0.7500\n",
      "Epoch 55/100\n",
      "96/96 [==============================] - 0s 125us/step - loss: 0.0506 - accuracy: 0.7604 - val_loss: 0.0526 - val_accuracy: 0.7917\n",
      "Epoch 56/100\n",
      "96/96 [==============================] - 0s 63us/step - loss: 0.0505 - accuracy: 0.7708 - val_loss: 0.0507 - val_accuracy: 0.7917\n",
      "Epoch 57/100\n",
      "96/96 [==============================] - 0s 73us/step - loss: 0.0503 - accuracy: 0.7917 - val_loss: 0.0488 - val_accuracy: 0.7917\n"
     ]
    },
    {
     "name": "stdout",
     "output_type": "stream",
     "text": [
      "Epoch 58/100\n",
      "96/96 [==============================] - 0s 83us/step - loss: 0.0461 - accuracy: 0.7604 - val_loss: 0.0470 - val_accuracy: 0.7917\n",
      "Epoch 59/100\n",
      "96/96 [==============================] - 0s 52us/step - loss: 0.0447 - accuracy: 0.8438 - val_loss: 0.0454 - val_accuracy: 0.8333\n",
      "Epoch 60/100\n",
      "96/96 [==============================] - 0s 62us/step - loss: 0.0463 - accuracy: 0.8125 - val_loss: 0.0439 - val_accuracy: 0.8333\n",
      "Epoch 61/100\n",
      "96/96 [==============================] - 0s 62us/step - loss: 0.0426 - accuracy: 0.8333 - val_loss: 0.0424 - val_accuracy: 0.8333\n",
      "Epoch 62/100\n",
      "96/96 [==============================] - 0s 83us/step - loss: 0.0456 - accuracy: 0.8021 - val_loss: 0.0411 - val_accuracy: 0.8333\n",
      "Epoch 63/100\n",
      "96/96 [==============================] - 0s 167us/step - loss: 0.0429 - accuracy: 0.8333 - val_loss: 0.0397 - val_accuracy: 0.8333\n",
      "Epoch 64/100\n",
      "96/96 [==============================] - 0s 104us/step - loss: 0.0419 - accuracy: 0.8333 - val_loss: 0.0385 - val_accuracy: 0.8333\n",
      "Epoch 65/100\n",
      "96/96 [==============================] - 0s 62us/step - loss: 0.0412 - accuracy: 0.8333 - val_loss: 0.0373 - val_accuracy: 0.8750\n",
      "Epoch 66/100\n",
      "96/96 [==============================] - 0s 73us/step - loss: 0.0410 - accuracy: 0.8333 - val_loss: 0.0362 - val_accuracy: 0.8750\n",
      "Epoch 67/100\n",
      "96/96 [==============================] - 0s 83us/step - loss: 0.0401 - accuracy: 0.8750 - val_loss: 0.0352 - val_accuracy: 0.8750\n",
      "Epoch 68/100\n",
      "96/96 [==============================] - 0s 62us/step - loss: 0.0381 - accuracy: 0.8854 - val_loss: 0.0342 - val_accuracy: 0.8750\n",
      "Epoch 69/100\n",
      "96/96 [==============================] - 0s 72us/step - loss: 0.0415 - accuracy: 0.8438 - val_loss: 0.0333 - val_accuracy: 0.8750\n",
      "Epoch 70/100\n",
      "96/96 [==============================] - 0s 83us/step - loss: 0.0369 - accuracy: 0.8646 - val_loss: 0.0325 - val_accuracy: 0.8750\n",
      "Epoch 71/100\n",
      "96/96 [==============================] - 0s 72us/step - loss: 0.0375 - accuracy: 0.8333 - val_loss: 0.0317 - val_accuracy: 0.9167\n",
      "Epoch 72/100\n",
      "96/96 [==============================] - 0s 62us/step - loss: 0.0366 - accuracy: 0.8750 - val_loss: 0.0309 - val_accuracy: 0.9583\n",
      "Epoch 73/100\n",
      "96/96 [==============================] - 0s 83us/step - loss: 0.0376 - accuracy: 0.8646 - val_loss: 0.0303 - val_accuracy: 0.9583\n",
      "Epoch 74/100\n",
      "96/96 [==============================] - 0s 73us/step - loss: 0.0349 - accuracy: 0.9167 - val_loss: 0.0297 - val_accuracy: 0.9583\n",
      "Epoch 75/100\n",
      "96/96 [==============================] - 0s 94us/step - loss: 0.0374 - accuracy: 0.8750 - val_loss: 0.0291 - val_accuracy: 0.9583\n",
      "Epoch 76/100\n",
      "96/96 [==============================] - 0s 104us/step - loss: 0.0361 - accuracy: 0.8958 - val_loss: 0.0287 - val_accuracy: 0.9583\n",
      "Epoch 77/100\n",
      "96/96 [==============================] - 0s 72us/step - loss: 0.0341 - accuracy: 0.8958 - val_loss: 0.0282 - val_accuracy: 0.9583\n",
      "Epoch 78/100\n",
      "96/96 [==============================] - 0s 72us/step - loss: 0.0358 - accuracy: 0.8750 - val_loss: 0.0277 - val_accuracy: 0.9583\n",
      "Epoch 79/100\n",
      "96/96 [==============================] - 0s 62us/step - loss: 0.0322 - accuracy: 0.9271 - val_loss: 0.0273 - val_accuracy: 0.9583\n",
      "Epoch 80/100\n",
      "96/96 [==============================] - 0s 83us/step - loss: 0.0315 - accuracy: 0.9271 - val_loss: 0.0269 - val_accuracy: 0.9583\n",
      "Epoch 81/100\n",
      "96/96 [==============================] - 0s 94us/step - loss: 0.0323 - accuracy: 0.8958 - val_loss: 0.0265 - val_accuracy: 0.9583\n",
      "Epoch 82/100\n",
      "96/96 [==============================] - 0s 93us/step - loss: 0.0343 - accuracy: 0.8646 - val_loss: 0.0261 - val_accuracy: 0.9583\n",
      "Epoch 83/100\n",
      "96/96 [==============================] - 0s 83us/step - loss: 0.0311 - accuracy: 0.9271 - val_loss: 0.0258 - val_accuracy: 0.9583\n",
      "Epoch 84/100\n",
      "96/96 [==============================] - 0s 72us/step - loss: 0.0312 - accuracy: 0.9167 - val_loss: 0.0255 - val_accuracy: 0.9583\n",
      "Epoch 85/100\n",
      "96/96 [==============================] - 0s 62us/step - loss: 0.0322 - accuracy: 0.8958 - val_loss: 0.0251 - val_accuracy: 0.9583\n",
      "Epoch 86/100\n",
      "96/96 [==============================] - 0s 83us/step - loss: 0.0284 - accuracy: 0.9375 - val_loss: 0.0248 - val_accuracy: 0.9583\n",
      "Epoch 87/100\n",
      "96/96 [==============================] - 0s 93us/step - loss: 0.0283 - accuracy: 0.9375 - val_loss: 0.0246 - val_accuracy: 0.9583\n",
      "Epoch 88/100\n",
      "96/96 [==============================] - 0s 73us/step - loss: 0.0303 - accuracy: 0.9167 - val_loss: 0.0242 - val_accuracy: 0.9583\n",
      "Epoch 89/100\n",
      "96/96 [==============================] - 0s 72us/step - loss: 0.0276 - accuracy: 0.9271 - val_loss: 0.0240 - val_accuracy: 0.9167\n",
      "Epoch 90/100\n",
      "96/96 [==============================] - 0s 62us/step - loss: 0.0312 - accuracy: 0.9271 - val_loss: 0.0237 - val_accuracy: 0.9583\n",
      "Epoch 91/100\n",
      "96/96 [==============================] - 0s 83us/step - loss: 0.0286 - accuracy: 0.9271 - val_loss: 0.0234 - val_accuracy: 0.9583\n",
      "Epoch 92/100\n",
      "96/96 [==============================] - 0s 83us/step - loss: 0.0331 - accuracy: 0.9271 - val_loss: 0.0231 - val_accuracy: 0.9583\n",
      "Epoch 93/100\n",
      "96/96 [==============================] - 0s 62us/step - loss: 0.0263 - accuracy: 0.9375 - val_loss: 0.0228 - val_accuracy: 0.9583\n",
      "Epoch 94/100\n",
      "96/96 [==============================] - 0s 94us/step - loss: 0.0283 - accuracy: 0.9271 - val_loss: 0.0225 - val_accuracy: 0.9583\n",
      "Epoch 95/100\n",
      "96/96 [==============================] - 0s 63us/step - loss: 0.0290 - accuracy: 0.8854 - val_loss: 0.0223 - val_accuracy: 0.9583\n",
      "Epoch 96/100\n",
      "96/96 [==============================] - 0s 72us/step - loss: 0.0261 - accuracy: 0.9271 - val_loss: 0.0220 - val_accuracy: 0.9583\n",
      "Epoch 97/100\n",
      "96/96 [==============================] - 0s 73us/step - loss: 0.0257 - accuracy: 0.9479 - val_loss: 0.0218 - val_accuracy: 0.9583\n",
      "Epoch 98/100\n",
      "96/96 [==============================] - 0s 63us/step - loss: 0.0244 - accuracy: 0.9479 - val_loss: 0.0215 - val_accuracy: 0.9583\n",
      "Epoch 99/100\n",
      "96/96 [==============================] - 0s 125us/step - loss: 0.0252 - accuracy: 0.9271 - val_loss: 0.0213 - val_accuracy: 0.9583\n",
      "Epoch 100/100\n",
      "96/96 [==============================] - 0s 73us/step - loss: 0.0267 - accuracy: 0.9062 - val_loss: 0.0211 - val_accuracy: 0.9583\n"
     ]
    }
   ],
   "source": [
    "huber_model = model = Sequential([\n",
    "    BatchNormalization(),\n",
    "    Dense(10, activation = 'elu', kernel_initializer = 'he_normal'),\n",
    "    BatchNormalization(),\n",
    "    Dense(3, activation = 'softmax')\n",
    "])\n",
    "\n",
    "huber_model.compile(optimizer = 'adam', loss = Huber(.5, name = 'Huber'), metrics = ['accuracy'])\n",
    "huber_checkpoint_cb = ModelCheckpoint('huber_custom_model.h5', save_best_only=True)\n",
    "huber_hist = huber_model.fit(X_train, y_train, validation_data = (X_valid, y_valid), epochs = 100, callbacks = [huber_checkpoint_cb])"
   ]
  },
  {
   "cell_type": "code",
   "execution_count": 107,
   "metadata": {},
   "outputs": [
    {
     "data": {
      "text/plain": [
       "<matplotlib.axes._subplots.AxesSubplot at 0x29f83153860>"
      ]
     },
     "execution_count": 107,
     "metadata": {},
     "output_type": "execute_result"
    },
    {
     "data": {
      "image/png": "[encoded data removed]",
      "text/plain": [
       "<Figure size 576x432 with 1 Axes>"
      ]
     },
     "metadata": {
      "needs_background": "light"
     },
     "output_type": "display_data"
    }
   ],
   "source": [
    "pd.DataFrame(huber_hist.history).plot(figsize = (8,6))"
   ]
  },
  {
   "cell_type": "code",
   "execution_count": 17,
   "metadata": {},
   "outputs": [],
   "source": [
    "from sklearn.datasets import load_iris\n",
    "from sklearn.model_selection import train_test_split\n",
    "from keras.layers import Dense, BatchNormalization\n",
    "from keras.models import Sequential\n",
    "from keras.utils import \n",
    "\n",
    "iris = load_iris()\n",
    "X_train, X_test, y_train, y_test = train_test_split(iris.data, iris.target, random_state = 5)\n",
    "X_train, X_valid, y_train, y_valid = train_test_split(X_train, y_train, random_state = 6)\n",
    "\n",
    "model = Sequential([\n",
    "    BatchNormalization(),\n",
    "    Dense(10, activation = 'elu', kernel_initializer = 'he_normal'),\n",
    "    BatchNormalization(),\n",
    "    Dense(3, activation = 'softmax')\n",
    "])\n",
    "\n",
    "model.compile(optimizer = 'adam', loss = cross_entropy, metrics = ['accuracy'])"
   ]
  },
  {
   "cell_type": "markdown",
   "metadata": {},
   "source": [
    "Loading model:"
   ]
  },
  {
   "cell_type": "markdown",
   "metadata": {},
   "source": [
    "<code>my_huber_model = load_model('huber_custom_model.h5', custom_objects = {'HuberLoss' : HuberLoss})</code>"
   ]
  },
  {
   "cell_type": "markdown",
   "metadata": {},
   "source": [
    "## Custom Activation Functions, Initializers, Regularizers, and Constraints\n"
   ]
  },
  {
   "cell_type": "markdown",
   "metadata": {},
   "source": [
    "Softplus activation: $f(x) = log(e^x + 1)$"
   ]
  },
  {
   "cell_type": "code",
   "execution_count": 109,
   "metadata": {},
   "outputs": [],
   "source": [
    "def my_softplus(x):\n",
    "    return tf.math.log(tf.exp(x) + 1)"
   ]
  },
  {
   "cell_type": "markdown",
   "metadata": {},
   "source": [
    "Glorot initializer:"
   ]
  },
  {
   "cell_type": "code",
   "execution_count": 110,
   "metadata": {},
   "outputs": [],
   "source": [
    "def my_glorot_initializer(shape, dtype = tf.float32):\n",
    "    stddev = tf.sqrt(2. / (shape[0] + shape[1]))\n",
    "    return tf.random.normal(shape, stddev=stddev, dtype=dtype)\n"
   ]
  },
  {
   "cell_type": "markdown",
   "metadata": {},
   "source": [
    "l1 Regularizer with $\\alpha$ = .01:"
   ]
  },
  {
   "cell_type": "code",
   "execution_count": 112,
   "metadata": {},
   "outputs": [],
   "source": [
    "def my_l1_regulizer(weights):\n",
    "    return tf.reduce_sum(.01 * tf.abs(weights))"
   ]
  },
  {
   "cell_type": "markdown",
   "metadata": {},
   "source": [
    "Positive weights constraint: ensure that all weights are positive"
   ]
  },
  {
   "cell_type": "code",
   "execution_count": 114,
   "metadata": {},
   "outputs": [],
   "source": [
    "def my_positive_constraint(weights):\n",
    "    return tf.where(weights < 0, tf.zeros_like(weights), weights)"
   ]
  },
  {
   "cell_type": "code",
   "execution_count": 115,
   "metadata": {},
   "outputs": [],
   "source": [
    "layer = Dense(100, \n",
    "              activation=my_softplus,\n",
    "             kernel_initializer=my_glorot_initializer,\n",
    "             kernel_regularizer=my_l1_regulizer,\n",
    "             kernel_constraint=my_positive_constraint)"
   ]
  },
  {
   "cell_type": "markdown",
   "metadata": {},
   "source": [
    "If a function has some hyperparameters that need to be saved along with the model,\n",
    "then you will want to subclass the appropriate class, such as <code>keras.regularizers.Regularizer, keras.constraints.Constraint, keras.initializers</code>.Initial\n",
    "izer or keras.layers.Layer (for any layer, including activation functions)."
   ]
  },
  {
   "cell_type": "markdown",
   "metadata": {},
   "source": [
    "Note that you must implement the <code>call()</code> method for losses, layers (including activa‐\n",
    "tion functions) and models, or the <code>--call--()</code> method for regularizers, initializers\n",
    "and constraints. For metrics, things are a bit different, as we will see now."
   ]
  },
  {
   "cell_type": "code",
   "execution_count": 116,
   "metadata": {},
   "outputs": [],
   "source": [
    "class L1(keras.regularizers.Regularizer):\n",
    "    def __init__(self, alpha = 1, **kwargs):\n",
    "        self.alpha = alpha\n",
    "        super().__init__(**kwargs)\n",
    "    def __call__(self, weights):\n",
    "        return tf.reduce_sum(self.alpha * tf.abs(weights))\n",
    "    def get_config(self):\n",
    "        base_config = super().get_config()\n",
    "        return {**base_config, 'alpha': self.alpha}"
   ]
  },
  {
   "cell_type": "code",
   "execution_count": 117,
   "metadata": {},
   "outputs": [],
   "source": [
    "l1_regularizer = L1(.001)"
   ]
  },
  {
   "cell_type": "markdown",
   "metadata": {},
   "source": [
    "## Custom metrics"
   ]
  },
  {
   "cell_type": "markdown",
   "metadata": {},
   "source": [
    "### Precision"
   ]
  },
  {
   "cell_type": "code",
   "execution_count": 8,
   "metadata": {},
   "outputs": [
    {
     "data": {
      "text/plain": [
       "<tf.Tensor 'Identity_1:0' shape=() dtype=float32>"
      ]
     },
     "execution_count": 8,
     "metadata": {},
     "output_type": "execute_result"
    }
   ],
   "source": [
    "import keras\n",
    "precision = keras.metrics.Precision()\n",
    "precision([0, 1, 1, 1, 0, 1, 0, 1], [1, 1, 0, 1, 0, 1, 0, 1])"
   ]
  },
  {
   "cell_type": "markdown",
   "metadata": {},
   "source": [
    "At any point, we can call the <code>result()</code> method to get the current value of the metric.\n",
    "We can also look at its <code>variables</code> (tracking the number of true and false positives)\n",
    "using the <code>variables</code> attribute, and reset these variables using the <code>reset_states()</code>\n",
    "method:"
   ]
  },
  {
   "cell_type": "code",
   "execution_count": 7,
   "metadata": {},
   "outputs": [],
   "source": [
    "precision?"
   ]
  },
  {
   "cell_type": "markdown",
   "metadata": {},
   "source": [
    "# Computing Gradient using Autodiff"
   ]
  },
  {
   "cell_type": "code",
   "execution_count": 1,
   "metadata": {},
   "outputs": [],
   "source": [
    "import tensorflow as tf"
   ]
  },
  {
   "cell_type": "code",
   "execution_count": 8,
   "metadata": {},
   "outputs": [
    {
     "data": {
      "text/plain": [
       "[<tf.Tensor: id=69, shape=(), dtype=float32, numpy=10.0>,\n",
       " <tf.Tensor: id=70, shape=(), dtype=float32, numpy=20.0>]"
      ]
     },
     "execution_count": 8,
     "metadata": {},
     "output_type": "execute_result"
    }
   ],
   "source": [
    "def f(x, y):\n",
    "    return x * x + y * y\n",
    "\n",
    "x = tf.Variable(5, dtype = tf.float32)\n",
    "y = tf.Variable(10, dtype = tf.float32)\n",
    "with tf.GradientTape() as tape:\n",
    "    z = f(x, y)\n",
    "gradient = tape.gradient(z, [x, y])\n",
    "gradient"
   ]
  },
  {
   "cell_type": "markdown",
   "metadata": {},
   "source": [
    "The tape is automatically erased immediately after you call its <code>gradient()</code> method, so\n",
    "you will get an exception if you try to call gradient() twice:"
   ]
  },
  {
   "cell_type": "code",
   "execution_count": 9,
   "metadata": {},
   "outputs": [
    {
     "ename": "RuntimeError",
     "evalue": "GradientTape.gradient can only be called once on non-persistent tapes.",
     "output_type": "error",
     "traceback": [
      "\u001b[1;31m---------------------------------------------------------------------------\u001b[0m",
      "\u001b[1;31mRuntimeError\u001b[0m                              Traceback (most recent call last)",
      "\u001b[1;32m<ipython-input-9-d6ecd455e738>\u001b[0m in \u001b[0;36m<module>\u001b[1;34m\u001b[0m\n\u001b[1;32m----> 1\u001b[1;33m \u001b[0mtape\u001b[0m\u001b[1;33m.\u001b[0m\u001b[0mgradient\u001b[0m\u001b[1;33m(\u001b[0m\u001b[0mz\u001b[0m\u001b[1;33m,\u001b[0m \u001b[0mx\u001b[0m\u001b[1;33m)\u001b[0m\u001b[1;33m\u001b[0m\u001b[1;33m\u001b[0m\u001b[0m\n\u001b[0m",
      "\u001b[1;32m~\\Anaconda3\\lib\\site-packages\\tensorflow_core\\python\\eager\\backprop.py\u001b[0m in \u001b[0;36mgradient\u001b[1;34m(self, target, sources, output_gradients, unconnected_gradients)\u001b[0m\n\u001b[0;32m    963\u001b[0m     \"\"\"\n\u001b[0;32m    964\u001b[0m     \u001b[1;32mif\u001b[0m \u001b[0mself\u001b[0m\u001b[1;33m.\u001b[0m\u001b[0m_tape\u001b[0m \u001b[1;32mis\u001b[0m \u001b[1;32mNone\u001b[0m\u001b[1;33m:\u001b[0m\u001b[1;33m\u001b[0m\u001b[1;33m\u001b[0m\u001b[0m\n\u001b[1;32m--> 965\u001b[1;33m       raise RuntimeError(\"GradientTape.gradient can only be called once on \"\n\u001b[0m\u001b[0;32m    966\u001b[0m                          \"non-persistent tapes.\")\n\u001b[0;32m    967\u001b[0m     \u001b[1;32mif\u001b[0m \u001b[0mself\u001b[0m\u001b[1;33m.\u001b[0m\u001b[0m_recording\u001b[0m\u001b[1;33m:\u001b[0m\u001b[1;33m\u001b[0m\u001b[1;33m\u001b[0m\u001b[0m\n",
      "\u001b[1;31mRuntimeError\u001b[0m: GradientTape.gradient can only be called once on non-persistent tapes."
     ]
    }
   ],
   "source": [
    "tape.gradient(z, x)"
   ]
  },
  {
   "cell_type": "markdown",
   "metadata": {},
   "source": [
    "If you need to call <code>gradient()</code> more than once, you must make the tape persistent <code>persistent = True</code>,\n",
    "and delete it when you are done with it to free resources:\n"
   ]
  },
  {
   "cell_type": "code",
   "execution_count": 13,
   "metadata": {},
   "outputs": [],
   "source": [
    "with tf.GradientTape(persistent=True) as tape:\n",
    "    z = f(x, y)"
   ]
  },
  {
   "cell_type": "code",
   "execution_count": 14,
   "metadata": {},
   "outputs": [
    {
     "data": {
      "text/plain": [
       "<tf.Tensor: id=96, shape=(), dtype=float32, numpy=10.0>"
      ]
     },
     "execution_count": 14,
     "metadata": {},
     "output_type": "execute_result"
    }
   ],
   "source": [
    "tape.gradient(z, x)"
   ]
  },
  {
   "cell_type": "code",
   "execution_count": 15,
   "metadata": {},
   "outputs": [
    {
     "data": {
      "text/plain": [
       "<tf.Tensor: id=102, shape=(), dtype=float32, numpy=20.0>"
      ]
     },
     "execution_count": 15,
     "metadata": {},
     "output_type": "execute_result"
    }
   ],
   "source": [
    "tape.gradient(z, y)"
   ]
  },
  {
   "cell_type": "code",
   "execution_count": 16,
   "metadata": {},
   "outputs": [],
   "source": [
    "del tape"
   ]
  },
  {
   "cell_type": "markdown",
   "metadata": {},
   "source": [
    "By default, the gradient of a constant is None:"
   ]
  },
  {
   "cell_type": "code",
   "execution_count": 19,
   "metadata": {},
   "outputs": [
    {
     "data": {
      "text/plain": [
       "[None, None]"
      ]
     },
     "execution_count": 19,
     "metadata": {},
     "output_type": "execute_result"
    }
   ],
   "source": [
    "v = tf.constant(10.)\n",
    "t = tf.constant(20.)\n",
    "with tf.GradientTape() as tape:\n",
    "    z = f(v,t)\n",
    "tape.gradient(z, [v,t])"
   ]
  },
  {
   "cell_type": "markdown",
   "metadata": {},
   "source": [
    "But you can make Tensorflow consider those constant as variable: "
   ]
  },
  {
   "cell_type": "code",
   "execution_count": 22,
   "metadata": {},
   "outputs": [],
   "source": [
    "with tf.GradientTape(persistent = True) as tape:\n",
    "    tape.watch(v)\n",
    "    tape.watch(t)\n",
    "    z = f(v,t)"
   ]
  },
  {
   "cell_type": "code",
   "execution_count": 24,
   "metadata": {},
   "outputs": [
    {
     "data": {
      "text/plain": [
       "<tf.Tensor: id=121, shape=(), dtype=float32, numpy=20.0>"
      ]
     },
     "execution_count": 24,
     "metadata": {},
     "output_type": "execute_result"
    }
   ],
   "source": [
    "tape.gradient(z, v)"
   ]
  },
  {
   "cell_type": "code",
   "execution_count": 25,
   "metadata": {},
   "outputs": [
    {
     "data": {
      "text/plain": [
       "<tf.Tensor: id=127, shape=(), dtype=float32, numpy=40.0>"
      ]
     },
     "execution_count": 25,
     "metadata": {},
     "output_type": "execute_result"
    }
   ],
   "source": [
    "tape.gradient(z, t)"
   ]
  },
  {
   "cell_type": "code",
   "execution_count": 26,
   "metadata": {},
   "outputs": [],
   "source": [
    "del tape"
   ]
  },
  {
   "cell_type": "markdown",
   "metadata": {},
   "source": [
    " Second order derivative:"
   ]
  },
  {
   "cell_type": "code",
   "execution_count": 29,
   "metadata": {},
   "outputs": [
    {
     "data": {
      "text/plain": [
       "[<tf.Tensor: id=194, shape=(), dtype=float32, numpy=3.0>,\n",
       " <tf.Tensor: id=199, shape=(), dtype=float32, numpy=3.0>]"
      ]
     },
     "execution_count": 29,
     "metadata": {},
     "output_type": "execute_result"
    }
   ],
   "source": [
    "h = lambda x, y:  x ** 3 + y ** 3\n",
    "x, y = tf.Variable(1.), tf.Variable(1.)\n",
    "with tf.GradientTape(persistent = True) as hessian_tape:\n",
    "    with tf.GradientTape() as jacobian_tape:\n",
    "        z = h(x, y)\n",
    "    jacobians = jacobian_tape.gradient(z, [x, y])\n",
    "hessians = [hessian_tape.gradient(jacobian, [x, y]) for jacobian in jacobians]\n",
    "\n",
    "jacobians"
   ]
  },
  {
   "cell_type": "code",
   "execution_count": 30,
   "metadata": {},
   "outputs": [
    {
     "data": {
      "text/plain": [
       "[[<tf.Tensor: id=207, shape=(), dtype=float32, numpy=6.0>, None],\n",
       " [None, <tf.Tensor: id=215, shape=(), dtype=float32, numpy=6.0>]]"
      ]
     },
     "execution_count": 30,
     "metadata": {},
     "output_type": "execute_result"
    }
   ],
   "source": [
    "hessians"
   ]
  },
  {
   "cell_type": "markdown",
   "metadata": {},
   "source": [
    "block propagation:In some rare cases you may want to stop gradients from backpropagating through\n",
    "some part of your neural network. To do this, you must use the <code>tf.stop_gradient()</code>\n",
    "function: it just returns its inputs during the forward pass (like <code>tf.identity()</code>), but\n",
    "it does not let gradients through during backpropagation (it acts like a constant). For\n",
    "example:\n"
   ]
  },
  {
   "cell_type": "code",
   "execution_count": 32,
   "metadata": {},
   "outputs": [
    {
     "data": {
      "text/plain": [
       "[<tf.Tensor: id=233, shape=(), dtype=float32, numpy=2.0>,\n",
       " <tf.Tensor: id=234, shape=(), dtype=float32, numpy=2.0>]"
      ]
     },
     "execution_count": 32,
     "metadata": {},
     "output_type": "execute_result"
    }
   ],
   "source": [
    "my_func = lambda x, y: x * x + y * y + tf.stop_gradient(x + y) #treat (x + y) as a constant when we calculate the derivative\n",
    "with tf.GradientTape() as tape:\n",
    "    z = my_func(x, y)\n",
    "tape.gradient(z, [x, y])"
   ]
  },
  {
   "cell_type": "markdown",
   "metadata": {},
   "source": [
    "Write our own gradient function:"
   ]
  },
  {
   "cell_type": "code",
   "execution_count": 35,
   "metadata": {},
   "outputs": [],
   "source": [
    "@tf.custom_gradient\n",
    "#The first ouput returns the target equation\n",
    "#The second ouput returns the function of the gradient\n",
    "def my_function(x):\n",
    "    def gradient_function(x):\n",
    "        return 10 * x\n",
    "    return x * x, gradient_function\n",
    "\n",
    "#our target function: x * x \n",
    "#It's derivative should be 2 * x, but we change it to 10 * x to test "
   ]
  },
  {
   "cell_type": "code",
   "execution_count": 37,
   "metadata": {},
   "outputs": [
    {
     "data": {
      "text/plain": [
       "<tf.Tensor: id=279, shape=(), dtype=float32, numpy=10.0>"
      ]
     },
     "execution_count": 37,
     "metadata": {},
     "output_type": "execute_result"
    }
   ],
   "source": [
    "x = tf.Variable(10.)\n",
    "#since we define f(x) = x * x\n",
    "#f'(x) = 10 * x\n",
    "#then f'(1) should be 10\n",
    "with tf.GradientTape() as tape:\n",
    "    z = my_function(x)\n",
    "tape.gradient(z, x)"
   ]
  },
  {
   "cell_type": "markdown",
   "metadata": {},
   "source": [
    "# Tensorflow function"
   ]
  },
  {
   "cell_type": "markdown",
   "metadata": {},
   "source": [
    "Convert a python function to tensor function:"
   ]
  },
  {
   "cell_type": "code",
   "execution_count": 38,
   "metadata": {},
   "outputs": [
    {
     "data": {
      "text/plain": [
       "<tf.Tensor: id=285, shape=(), dtype=int32, numpy=27>"
      ]
     },
     "execution_count": 38,
     "metadata": {},
     "output_type": "execute_result"
    }
   ],
   "source": [
    "def python_f(x):\n",
    "    return x ** 3\n",
    "tensor_func = tf.function(python_f)\n",
    "tensor_func(3)"
   ]
  },
  {
   "cell_type": "code",
   "execution_count": 40,
   "metadata": {},
   "outputs": [
    {
     "data": {
      "text/plain": [
       "<tf.Tensor: id=291, shape=(), dtype=int32, numpy=1>"
      ]
     },
     "execution_count": 40,
     "metadata": {},
     "output_type": "execute_result"
    }
   ],
   "source": [
    "@tf.function\n",
    "def my_tensor_func(x):\n",
    "    return x ** 3\n",
    "my_tensor_func(1)"
   ]
  },
  {
   "cell_type": "markdown",
   "metadata": {},
   "source": [
    "convert a tensor function to python function:"
   ]
  },
  {
   "cell_type": "code",
   "execution_count": 41,
   "metadata": {},
   "outputs": [
    {
     "data": {
      "text/plain": [
       "27"
      ]
     },
     "execution_count": 41,
     "metadata": {},
     "output_type": "execute_result"
    }
   ],
   "source": [
    "tensor_func.python_function(3)"
   ]
  }
 ],
 "metadata": {
  "kernelspec": {
   "display_name": "Python 3",
   "language": "python",
   "name": "python3"
  },
  "language_info": {
   "codemirror_mode": {
    "name": "ipython",
    "version": 3
   },
   "file_extension": ".py",
   "mimetype": "text/x-python",
   "name": "python",
   "nbconvert_exporter": "python",
   "pygments_lexer": "ipython3",
   "version": "3.7.3"
  }
 },
 "nbformat": 4,
 "nbformat_minor": 2
}
