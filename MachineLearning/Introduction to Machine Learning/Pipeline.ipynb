{
 "cells": [
  {
   "cell_type": "code",
   "execution_count": 1,
   "metadata": {},
   "outputs": [
    {
     "data": {
      "text/html": [
       "<style>\n",
       ".box {\n",
       "    border: 1px double dodgerblue;\n",
       "    padding: 5px;\n",
       "}\n",
       ".note {\n",
       "    font-size: 20;\n",
       "    color: teal;\n",
       "    font-weight: bold;\n",
       "}\n",
       ".highlight {\n",
       "    color: green;\n",
       "    font-family: verdana;\n",
       "}\n",
       ".tag {\n",
       "    background: red;\n",
       "    color: white;\n",
       "    padding: 3px;\n",
       "}\n",
       ".warning {\n",
       "    background: red;\n",
       "    padding: 12px;\n",
       "    font-size: 24px;\n",
       "    color: white;\n",
       "    text-align: center;\n",
       "    font-family: verdana;\n",
       "}\n",
       ".symbol {\n",
       "    color: white;\n",
       "    background: green;\n",
       "    font-size: 20px;\n",
       "    padding: 2px;\n",
       "}\n",
       "</style>\n"
      ],
      "text/plain": [
       "<IPython.core.display.HTML object>"
      ]
     },
     "metadata": {},
     "output_type": "display_data"
    },
    {
     "name": "stderr",
     "output_type": "stream",
     "text": [
      "C:\\Users\\dell\\Anaconda3\\lib\\site-packages\\sklearn\\externals\\six.py:31: DeprecationWarning: The module is deprecated in version 0.21 and will be removed in version 0.23 since we've dropped support for Python 2.7. Please rely on the official version of six (https://pypi.org/project/six/).\n",
      "  \"(https://pypi.org/project/six/).\", DeprecationWarning)\n",
      "C:\\Users\\dell\\Anaconda3\\lib\\site-packages\\sklearn\\externals\\joblib\\__init__.py:15: DeprecationWarning: sklearn.externals.joblib is deprecated in 0.21 and will be removed in 0.23. Please import this functionality directly from joblib, which can be installed with: pip install joblib. If this warning is raised when loading pickled models, you may need to re-serialize those models with scikit-learn 0.21+.\n",
      "  warnings.warn(msg, category=DeprecationWarning)\n"
     ]
    }
   ],
   "source": [
    "%run convention.ipynb"
   ]
  },
  {
   "cell_type": "markdown",
   "metadata": {},
   "source": [
    "# Pipelines"
   ]
  },
  {
   "cell_type": "markdown",
   "metadata": {},
   "source": [
    "# from sklearn.pipeline import Pipeline"
   ]
  },
  {
   "cell_type": "code",
   "execution_count": 21,
   "metadata": {},
   "outputs": [
    {
     "name": "stderr",
     "output_type": "stream",
     "text": [
      "C:\\Users\\dell\\Anaconda3\\lib\\site-packages\\sklearn\\svm\\base.py:193: FutureWarning: The default value of gamma will change from 'auto' to 'scale' in version 0.22 to account better for unscaled features. Set gamma explicitly to 'auto' or 'scale' to avoid this warning.\n",
      "  \"avoid this warning.\", FutureWarning)\n"
     ]
    },
    {
     "name": "stdout",
     "output_type": "stream",
     "text": [
      "Train score: 0.96\n",
      "Test score: 0.94\n"
     ]
    }
   ],
   "source": [
    "from sklearn.preprocessing import MinMaxScaler\n",
    "from sklearn.svm import SVC\n",
    "from sklearn.datasets import load_breast_cancer\n",
    "from sklearn.model_selection import train_test_split\n",
    "cancer = load_breast_cancer()\n",
    "X_train, X_test, y_train, y_test = train_test_split(cancer.data, cancer.target, random_state = 6)\n",
    "pipe = Pipeline([('scaler', MinMaxScaler()), ('svm', SVC())])\n",
    "pipe.fit(X_train, y_train)\n",
    "print('Train score: %.2f' % pipe.score(X_train, y_train))\n",
    "print('Test score: %.2f' % pipe.score(X_test, y_test))"
   ]
  },
  {
   "cell_type": "markdown",
   "metadata": {},
   "source": [
    "# Using pipelines in Grid searches"
   ]
  },
  {
   "cell_type": "markdown",
   "metadata": {},
   "source": [
    "<p class = 'warning'>Parameter name in Pipeline: <code>{model_name}__{parameter_name}</code></p>"
   ]
  },
  {
   "cell_type": "code",
   "execution_count": 23,
   "metadata": {},
   "outputs": [
    {
     "name": "stdout",
     "output_type": "stream",
     "text": [
      "best parameter(s):{'svm__C': 1, 'svm__gamma': 1}\n",
      "Best validation score: 0.98\n",
      "Test score: 0.97\n"
     ]
    }
   ],
   "source": [
    "from sklearn.model_selection import GridSearchCV\n",
    "pipe = Pipeline([('scaler', MinMaxScaler()), ('svm', SVC())])\n",
    "grid_params = {\n",
    "    'svm__C' : [.01, .1, 1, 10, 100],\n",
    "    'svm__gamma' : [.01, .1, 1, 10, 100]\n",
    "}\n",
    "grid = GridSearchCV(pipe, grid_params, cv = 5)\n",
    "grid.fit(X_train, y_train)\n",
    "print('best parameter(s):{}'.format(grid.best_params_))\n",
    "print('Best validation score: %.2f' % grid.best_score_)\n",
    "print('Test score: %.2f' % grid.score(X_test, y_test))"
   ]
  },
  {
   "cell_type": "markdown",
   "metadata": {},
   "source": [
    "# Conveninent Pipeline: <code>make_pipeline</code>"
   ]
  },
  {
   "cell_type": "code",
   "execution_count": 24,
   "metadata": {},
   "outputs": [
    {
     "name": "stderr",
     "output_type": "stream",
     "text": [
      "C:\\Users\\dell\\Anaconda3\\lib\\site-packages\\sklearn\\svm\\base.py:193: FutureWarning: The default value of gamma will change from 'auto' to 'scale' in version 0.22 to account better for unscaled features. Set gamma explicitly to 'auto' or 'scale' to avoid this warning.\n",
      "  \"avoid this warning.\", FutureWarning)\n"
     ]
    },
    {
     "data": {
      "text/plain": [
       "'Test score: 0.94'"
      ]
     },
     "execution_count": 24,
     "metadata": {},
     "output_type": "execute_result"
    }
   ],
   "source": [
    "from sklearn.pipeline import make_pipeline\n",
    "pipe = make_pipeline(MinMaxScaler(), SVC())\n",
    "pipe.fit(X_train, y_train)\n",
    "'Test score: %.2f' % pipe.score(X_test, y_test)"
   ]
  },
  {
   "cell_type": "markdown",
   "metadata": {},
   "source": [
    "<p class = 'note'>The steps are named <u>minmaxscaler</u> and <u>svc</u>. In general, the step names are just lowercase versions of the class names. If multiple steps have the same class, a number is\n",
    "appended:</p>"
   ]
  },
  {
   "cell_type": "code",
   "execution_count": 26,
   "metadata": {},
   "outputs": [
    {
     "data": {
      "text/plain": [
       "[('standardscaler-1',\n",
       "  StandardScaler(copy=True, with_mean=True, with_std=True)),\n",
       " ('pca',\n",
       "  PCA(copy=True, iterated_power='auto', n_components=2, random_state=None,\n",
       "      svd_solver='auto', tol=0.0, whiten=False)),\n",
       " ('standardscaler-2',\n",
       "  StandardScaler(copy=True, with_mean=True, with_std=True))]"
      ]
     },
     "execution_count": 26,
     "metadata": {},
     "output_type": "execute_result"
    }
   ],
   "source": [
    "#Whiten in PCA\n",
    "from sklearn.preprocessing import StandardScaler\n",
    "from sklearn.decomposition import PCA\n",
    "pipe = make_pipeline(StandardScaler(), PCA(n_components = 2), StandardScaler())\n",
    "pipe.steps"
   ]
  },
  {
   "cell_type": "markdown",
   "metadata": {},
   "source": [
    "# Accessing Step Attributes"
   ]
  },
  {
   "cell_type": "markdown",
   "metadata": {},
   "source": [
    "<h2 class = 'tag'  style = 'text-align: center;'>How do we get the model at the i<sup>th</sup> step?</h2>\n",
    "\n",
    "<p class = 'note'>Solution:<br>\n",
    "     via the <code>named_steps</code> attribute, which is a dictionary\n",
    "from the step names to the estimators: <span class = 'highlight'>\n",
    "    <br>\n",
    "    e.g: <code>pipe.named_steps['pca'].components_</code></span>"
   ]
  },
  {
   "cell_type": "code",
   "execution_count": 27,
   "metadata": {},
   "outputs": [
    {
     "data": {
      "text/plain": [
       "PCA(copy=True, iterated_power='auto', n_components=2, random_state=None,\n",
       "    svd_solver='auto', tol=0.0, whiten=False)"
      ]
     },
     "execution_count": 27,
     "metadata": {},
     "output_type": "execute_result"
    }
   ],
   "source": [
    "from sklearn.datasets import load_iris\n",
    "iris = load_iris()\n",
    "#get the Principle components:\n",
    "pipe.fit(iris.data)\n",
    "\n",
    "pipe.named_steps['pca']"
   ]
  },
  {
   "cell_type": "code",
   "execution_count": 28,
   "metadata": {},
   "outputs": [
    {
     "data": {
      "text/plain": [
       "array([[ 0.52106591, -0.26934744,  0.5804131 ,  0.56485654],\n",
       "       [ 0.37741762,  0.92329566,  0.02449161,  0.06694199]])"
      ]
     },
     "execution_count": 28,
     "metadata": {},
     "output_type": "execute_result"
    }
   ],
   "source": [
    "pipe.named_steps['pca'].components_"
   ]
  },
  {
   "cell_type": "markdown",
   "metadata": {},
   "source": [
    "# Accessing Attributes in a Grid-Searched Pipeline"
   ]
  },
  {
   "cell_type": "code",
   "execution_count": 39,
   "metadata": {},
   "outputs": [
    {
     "data": {
      "text/plain": [
       "[('standardscaler', StandardScaler(copy=True, with_mean=True, with_std=True)),\n",
       " ('logisticregression',\n",
       "  LogisticRegression(C=1.0, class_weight=None, dual=False, fit_intercept=True,\n",
       "                     intercept_scaling=1, l1_ratio=None, max_iter=100,\n",
       "                     multi_class='warn', n_jobs=None, penalty='l2',\n",
       "                     random_state=None, solver='lbfgs', tol=0.0001, verbose=0,\n",
       "                     warm_start=False))]"
      ]
     },
     "execution_count": 39,
     "metadata": {},
     "output_type": "execute_result"
    }
   ],
   "source": [
    "from sklearn.linear_model import LogisticRegression\n",
    "pipe = make_pipeline(StandardScaler(), LogisticRegression(solver = 'lbfgs'))\n",
    "pipe.steps"
   ]
  },
  {
   "cell_type": "code",
   "execution_count": null,
   "metadata": {},
   "outputs": [],
   "source": []
  },
  {
   "cell_type": "code",
   "execution_count": 34,
   "metadata": {},
   "outputs": [
    {
     "name": "stderr",
     "output_type": "stream",
     "text": [
      "C:\\Users\\dell\\Anaconda3\\lib\\site-packages\\sklearn\\linear_model\\logistic.py:947: ConvergenceWarning: lbfgs failed to converge. Increase the number of iterations.\n",
      "  \"of iterations.\", ConvergenceWarning)\n",
      "C:\\Users\\dell\\Anaconda3\\lib\\site-packages\\sklearn\\linear_model\\logistic.py:947: ConvergenceWarning: lbfgs failed to converge. Increase the number of iterations.\n",
      "  \"of iterations.\", ConvergenceWarning)\n",
      "C:\\Users\\dell\\Anaconda3\\lib\\site-packages\\sklearn\\linear_model\\logistic.py:947: ConvergenceWarning: lbfgs failed to converge. Increase the number of iterations.\n",
      "  \"of iterations.\", ConvergenceWarning)\n",
      "C:\\Users\\dell\\Anaconda3\\lib\\site-packages\\sklearn\\linear_model\\logistic.py:947: ConvergenceWarning: lbfgs failed to converge. Increase the number of iterations.\n",
      "  \"of iterations.\", ConvergenceWarning)\n"
     ]
    },
    {
     "data": {
      "text/plain": [
       "Pipeline(memory=None,\n",
       "         steps=[('standardscaler',\n",
       "                 StandardScaler(copy=True, with_mean=True, with_std=True)),\n",
       "                ('logisticregression',\n",
       "                 LogisticRegression(C=1, class_weight=None, dual=False,\n",
       "                                    fit_intercept=True, intercept_scaling=1,\n",
       "                                    l1_ratio=None, max_iter=100,\n",
       "                                    multi_class='warn', n_jobs=None,\n",
       "                                    penalty='l2', random_state=None,\n",
       "                                    solver='lbfgs', tol=0.0001, verbose=0,\n",
       "                                    warm_start=False))],\n",
       "         verbose=False)"
      ]
     },
     "execution_count": 34,
     "metadata": {},
     "output_type": "execute_result"
    }
   ],
   "source": [
    "grid_params = {'logisticregression__C' : [.001, .01, .1, 1, 10, 100]}\n",
    "grid = GridSearchCV(pipe, grid_params, cv = 5)\n",
    "grid.fit(X_train, y_train)\n",
    "\n",
    "grid.best_estimator_"
   ]
  },
  {
   "cell_type": "markdown",
   "metadata": {},
   "source": [
    "<p class = 'note'>we can see that <code>grid.best_estimator_</code> returns a <code>Pipeline</code>.<br>\n",
    "So to access a model we just need to use the attribute <code>named_steps['model_name']</code> as discussed above.\n",
    "</p>"
   ]
  },
  {
   "cell_type": "code",
   "execution_count": 40,
   "metadata": {},
   "outputs": [
    {
     "data": {
      "text/plain": [
       "array([[-0.4856842 , -0.40206891, -0.45299539, -0.52024407, -0.25686117,\n",
       "         0.36039283, -0.65009703, -0.97122049,  0.04646819,  0.22464176,\n",
       "        -0.95031614, -0.06044277, -0.51216957, -0.95083589, -0.16133146,\n",
       "         0.69379119,  0.15418147, -0.34888216,  0.30055852,  0.59813117,\n",
       "        -0.86057642, -1.02317914, -0.74783105, -0.83599892, -0.71470772,\n",
       "        -0.05355827, -0.70342769, -0.98714089, -0.71414986, -0.49638629]])"
      ]
     },
     "execution_count": 40,
     "metadata": {},
     "output_type": "execute_result"
    }
   ],
   "source": [
    "#get the coefficients of Logistic Regression model\n",
    "grid.best_estimator_.named_steps['logisticregression'].coef_"
   ]
  },
  {
   "cell_type": "markdown",
   "metadata": {},
   "source": [
    "# Grid-Searching Preprocessing Steps and Model Parameters"
   ]
  },
  {
   "cell_type": "markdown",
   "metadata": {},
   "source": [
    "<p class = 'note'>How do we find out which degree is the best for a Polynomial Regressor on our dataset?</p>"
   ]
  },
  {
   "cell_type": "code",
   "execution_count": 42,
   "metadata": {},
   "outputs": [],
   "source": [
    "from sklearn.preprocessing import PolynomialFeatures\n",
    "from sklearn.datasets import load_boston\n",
    "from sklearn.linear_model import Ridge"
   ]
  },
  {
   "cell_type": "code",
   "execution_count": 43,
   "metadata": {},
   "outputs": [],
   "source": [
    "boston = load_boston()\n",
    "X_train, X_test, y_train, y_test = train_test_split(boston.data, boston.target, random_state = 6)"
   ]
  },
  {
   "cell_type": "code",
   "execution_count": 45,
   "metadata": {},
   "outputs": [],
   "source": [
    "pipe = make_pipeline(StandardScaler(), PolynomialFeatures(), Ridge())"
   ]
  },
  {
   "cell_type": "code",
   "execution_count": 48,
   "metadata": {},
   "outputs": [],
   "source": [
    "grid_params = {\n",
    "    'polynomialfeatures__degree' : [1,2,3],\n",
    "    'ridge__alpha' : [.001, .01, .1, 1, 10, 100]\n",
    "}\n",
    "\n",
    "grid = GridSearchCV(pipe, grid_params, cv = 5)\n"
   ]
  },
  {
   "cell_type": "code",
   "execution_count": 49,
   "metadata": {},
   "outputs": [
    {
     "name": "stdout",
     "output_type": "stream",
     "text": [
      "Best validation score: 0.84\n",
      "Test score: 0.79\n"
     ]
    },
    {
     "name": "stderr",
     "output_type": "stream",
     "text": [
      "C:\\Users\\dell\\Anaconda3\\lib\\site-packages\\sklearn\\model_selection\\_search.py:813: DeprecationWarning: The default of the `iid` parameter will change from True to False in version 0.22 and will be removed in 0.24. This will change numeric results when test-set sizes are unequal.\n",
      "  DeprecationWarning)\n"
     ]
    }
   ],
   "source": [
    "grid.fit(X_train, y_train)\n",
    "print('Best validation score: %.2f' % grid.best_score_)\n",
    "print('Test score: %.2f' % grid.score(X_test, y_test))"
   ]
  },
  {
   "cell_type": "code",
   "execution_count": 50,
   "metadata": {},
   "outputs": [
    {
     "data": {
      "text/plain": [
       "{'polynomialfeatures__degree': 2, 'ridge__alpha': 10}"
      ]
     },
     "execution_count": 50,
     "metadata": {},
     "output_type": "execute_result"
    }
   ],
   "source": [
    "grid.best_params_"
   ]
  },
  {
   "cell_type": "code",
   "execution_count": 54,
   "metadata": {},
   "outputs": [
    {
     "data": {
      "text/html": [
       "<div>\n",
       "<style scoped>\n",
       "    .dataframe tbody tr th:only-of-type {\n",
       "        vertical-align: middle;\n",
       "    }\n",
       "\n",
       "    .dataframe tbody tr th {\n",
       "        vertical-align: top;\n",
       "    }\n",
       "\n",
       "    .dataframe thead th {\n",
       "        text-align: right;\n",
       "    }\n",
       "</style>\n",
       "<table border=\"1\" class=\"dataframe\">\n",
       "  <thead>\n",
       "    <tr style=\"text-align: right;\">\n",
       "      <th></th>\n",
       "      <th>mean_fit_time</th>\n",
       "      <th>std_fit_time</th>\n",
       "      <th>mean_score_time</th>\n",
       "      <th>std_score_time</th>\n",
       "      <th>param_polynomialfeatures__degree</th>\n",
       "      <th>param_ridge__alpha</th>\n",
       "      <th>params</th>\n",
       "      <th>split0_test_score</th>\n",
       "      <th>split1_test_score</th>\n",
       "      <th>split2_test_score</th>\n",
       "      <th>split3_test_score</th>\n",
       "      <th>split4_test_score</th>\n",
       "      <th>mean_test_score</th>\n",
       "      <th>std_test_score</th>\n",
       "      <th>rank_test_score</th>\n",
       "    </tr>\n",
       "  </thead>\n",
       "  <tbody>\n",
       "    <tr>\n",
       "      <th>0</th>\n",
       "      <td>0.120287</td>\n",
       "      <td>0.240574</td>\n",
       "      <td>0.006241</td>\n",
       "      <td>0.012482</td>\n",
       "      <td>1</td>\n",
       "      <td>0.001</td>\n",
       "      <td>{'polynomialfeatures__degree': 1, 'ridge__alph...</td>\n",
       "      <td>0.658149</td>\n",
       "      <td>0.712600</td>\n",
       "      <td>0.715702</td>\n",
       "      <td>0.742097</td>\n",
       "      <td>0.774451</td>\n",
       "      <td>0.720458</td>\n",
       "      <td>0.038292</td>\n",
       "      <td>12</td>\n",
       "    </tr>\n",
       "    <tr>\n",
       "      <th>1</th>\n",
       "      <td>0.003124</td>\n",
       "      <td>0.006249</td>\n",
       "      <td>0.000000</td>\n",
       "      <td>0.000000</td>\n",
       "      <td>1</td>\n",
       "      <td>0.01</td>\n",
       "      <td>{'polynomialfeatures__degree': 1, 'ridge__alph...</td>\n",
       "      <td>0.658138</td>\n",
       "      <td>0.712605</td>\n",
       "      <td>0.715730</td>\n",
       "      <td>0.742095</td>\n",
       "      <td>0.774446</td>\n",
       "      <td>0.720461</td>\n",
       "      <td>0.038293</td>\n",
       "      <td>11</td>\n",
       "    </tr>\n",
       "    <tr>\n",
       "      <th>2</th>\n",
       "      <td>0.000000</td>\n",
       "      <td>0.000000</td>\n",
       "      <td>0.000000</td>\n",
       "      <td>0.000000</td>\n",
       "      <td>1</td>\n",
       "      <td>0.1</td>\n",
       "      <td>{'polynomialfeatures__degree': 1, 'ridge__alph...</td>\n",
       "      <td>0.658028</td>\n",
       "      <td>0.712663</td>\n",
       "      <td>0.716012</td>\n",
       "      <td>0.742069</td>\n",
       "      <td>0.774399</td>\n",
       "      <td>0.720492</td>\n",
       "      <td>0.038303</td>\n",
       "      <td>10</td>\n",
       "    </tr>\n",
       "    <tr>\n",
       "      <th>3</th>\n",
       "      <td>0.000000</td>\n",
       "      <td>0.000000</td>\n",
       "      <td>0.000000</td>\n",
       "      <td>0.000000</td>\n",
       "      <td>1</td>\n",
       "      <td>1</td>\n",
       "      <td>{'polynomialfeatures__degree': 1, 'ridge__alph...</td>\n",
       "      <td>0.656939</td>\n",
       "      <td>0.713200</td>\n",
       "      <td>0.718712</td>\n",
       "      <td>0.741783</td>\n",
       "      <td>0.773899</td>\n",
       "      <td>0.720767</td>\n",
       "      <td>0.038425</td>\n",
       "      <td>9</td>\n",
       "    </tr>\n",
       "    <tr>\n",
       "      <th>4</th>\n",
       "      <td>0.000000</td>\n",
       "      <td>0.000000</td>\n",
       "      <td>0.003124</td>\n",
       "      <td>0.006248</td>\n",
       "      <td>1</td>\n",
       "      <td>10</td>\n",
       "      <td>{'polynomialfeatures__degree': 1, 'ridge__alph...</td>\n",
       "      <td>0.647243</td>\n",
       "      <td>0.715922</td>\n",
       "      <td>0.738234</td>\n",
       "      <td>0.737351</td>\n",
       "      <td>0.767794</td>\n",
       "      <td>0.721186</td>\n",
       "      <td>0.040528</td>\n",
       "      <td>8</td>\n",
       "    </tr>\n",
       "    <tr>\n",
       "      <th>5</th>\n",
       "      <td>0.000000</td>\n",
       "      <td>0.000000</td>\n",
       "      <td>0.003124</td>\n",
       "      <td>0.006248</td>\n",
       "      <td>1</td>\n",
       "      <td>100</td>\n",
       "      <td>{'polynomialfeatures__degree': 1, 'ridge__alph...</td>\n",
       "      <td>0.600808</td>\n",
       "      <td>0.693489</td>\n",
       "      <td>0.767281</td>\n",
       "      <td>0.691514</td>\n",
       "      <td>0.732633</td>\n",
       "      <td>0.697051</td>\n",
       "      <td>0.055729</td>\n",
       "      <td>13</td>\n",
       "    </tr>\n",
       "    <tr>\n",
       "      <th>6</th>\n",
       "      <td>0.003125</td>\n",
       "      <td>0.006250</td>\n",
       "      <td>0.000000</td>\n",
       "      <td>0.000000</td>\n",
       "      <td>2</td>\n",
       "      <td>0.001</td>\n",
       "      <td>{'polynomialfeatures__degree': 2, 'ridge__alph...</td>\n",
       "      <td>0.788582</td>\n",
       "      <td>0.853885</td>\n",
       "      <td>0.766794</td>\n",
       "      <td>0.754234</td>\n",
       "      <td>0.716975</td>\n",
       "      <td>0.776250</td>\n",
       "      <td>0.045272</td>\n",
       "      <td>7</td>\n",
       "    </tr>\n",
       "    <tr>\n",
       "      <th>7</th>\n",
       "      <td>0.003124</td>\n",
       "      <td>0.006248</td>\n",
       "      <td>0.000000</td>\n",
       "      <td>0.000000</td>\n",
       "      <td>2</td>\n",
       "      <td>0.01</td>\n",
       "      <td>{'polynomialfeatures__degree': 2, 'ridge__alph...</td>\n",
       "      <td>0.787713</td>\n",
       "      <td>0.854658</td>\n",
       "      <td>0.764083</td>\n",
       "      <td>0.757883</td>\n",
       "      <td>0.720386</td>\n",
       "      <td>0.777094</td>\n",
       "      <td>0.044423</td>\n",
       "      <td>6</td>\n",
       "    </tr>\n",
       "    <tr>\n",
       "      <th>8</th>\n",
       "      <td>0.003124</td>\n",
       "      <td>0.006248</td>\n",
       "      <td>0.000000</td>\n",
       "      <td>0.000000</td>\n",
       "      <td>2</td>\n",
       "      <td>0.1</td>\n",
       "      <td>{'polynomialfeatures__degree': 2, 'ridge__alph...</td>\n",
       "      <td>0.785327</td>\n",
       "      <td>0.837162</td>\n",
       "      <td>0.762174</td>\n",
       "      <td>0.800883</td>\n",
       "      <td>0.757079</td>\n",
       "      <td>0.788608</td>\n",
       "      <td>0.029016</td>\n",
       "      <td>5</td>\n",
       "    </tr>\n",
       "    <tr>\n",
       "      <th>9</th>\n",
       "      <td>0.003125</td>\n",
       "      <td>0.006249</td>\n",
       "      <td>0.003124</td>\n",
       "      <td>0.006249</td>\n",
       "      <td>2</td>\n",
       "      <td>1</td>\n",
       "      <td>{'polynomialfeatures__degree': 2, 'ridge__alph...</td>\n",
       "      <td>0.788432</td>\n",
       "      <td>0.820958</td>\n",
       "      <td>0.781260</td>\n",
       "      <td>0.872669</td>\n",
       "      <td>0.807368</td>\n",
       "      <td>0.814155</td>\n",
       "      <td>0.032475</td>\n",
       "      <td>2</td>\n",
       "    </tr>\n",
       "    <tr>\n",
       "      <th>10</th>\n",
       "      <td>0.003124</td>\n",
       "      <td>0.006248</td>\n",
       "      <td>0.000000</td>\n",
       "      <td>0.000000</td>\n",
       "      <td>2</td>\n",
       "      <td>10</td>\n",
       "      <td>{'polynomialfeatures__degree': 2, 'ridge__alph...</td>\n",
       "      <td>0.813006</td>\n",
       "      <td>0.842584</td>\n",
       "      <td>0.846740</td>\n",
       "      <td>0.850704</td>\n",
       "      <td>0.827742</td>\n",
       "      <td>0.836177</td>\n",
       "      <td>0.013952</td>\n",
       "      <td>1</td>\n",
       "    </tr>\n",
       "    <tr>\n",
       "      <th>11</th>\n",
       "      <td>0.000000</td>\n",
       "      <td>0.000000</td>\n",
       "      <td>0.003124</td>\n",
       "      <td>0.006249</td>\n",
       "      <td>2</td>\n",
       "      <td>100</td>\n",
       "      <td>{'polynomialfeatures__degree': 2, 'ridge__alph...</td>\n",
       "      <td>0.787937</td>\n",
       "      <td>0.833650</td>\n",
       "      <td>0.881418</td>\n",
       "      <td>0.768232</td>\n",
       "      <td>0.785143</td>\n",
       "      <td>0.811345</td>\n",
       "      <td>0.041266</td>\n",
       "      <td>3</td>\n",
       "    </tr>\n",
       "    <tr>\n",
       "      <th>12</th>\n",
       "      <td>0.049615</td>\n",
       "      <td>0.063578</td>\n",
       "      <td>0.011346</td>\n",
       "      <td>0.006075</td>\n",
       "      <td>3</td>\n",
       "      <td>0.001</td>\n",
       "      <td>{'polynomialfeatures__degree': 3, 'ridge__alph...</td>\n",
       "      <td>-11.987543</td>\n",
       "      <td>-4.662055</td>\n",
       "      <td>-3.195039</td>\n",
       "      <td>-11.699121</td>\n",
       "      <td>-7.832383</td>\n",
       "      <td>-7.875341</td>\n",
       "      <td>3.575808</td>\n",
       "      <td>18</td>\n",
       "    </tr>\n",
       "    <tr>\n",
       "      <th>13</th>\n",
       "      <td>0.012497</td>\n",
       "      <td>0.006248</td>\n",
       "      <td>0.000000</td>\n",
       "      <td>0.000000</td>\n",
       "      <td>3</td>\n",
       "      <td>0.01</td>\n",
       "      <td>{'polynomialfeatures__degree': 3, 'ridge__alph...</td>\n",
       "      <td>-5.288853</td>\n",
       "      <td>-0.440560</td>\n",
       "      <td>-0.185113</td>\n",
       "      <td>-2.887850</td>\n",
       "      <td>-3.441059</td>\n",
       "      <td>-2.446068</td>\n",
       "      <td>1.920212</td>\n",
       "      <td>17</td>\n",
       "    </tr>\n",
       "    <tr>\n",
       "      <th>14</th>\n",
       "      <td>0.008342</td>\n",
       "      <td>0.010740</td>\n",
       "      <td>0.007644</td>\n",
       "      <td>0.006994</td>\n",
       "      <td>3</td>\n",
       "      <td>0.1</td>\n",
       "      <td>{'polynomialfeatures__degree': 3, 'ridge__alph...</td>\n",
       "      <td>-0.086334</td>\n",
       "      <td>0.216420</td>\n",
       "      <td>0.476940</td>\n",
       "      <td>-1.803509</td>\n",
       "      <td>-0.549262</td>\n",
       "      <td>-0.348621</td>\n",
       "      <td>0.804308</td>\n",
       "      <td>16</td>\n",
       "    </tr>\n",
       "    <tr>\n",
       "      <th>15</th>\n",
       "      <td>0.003990</td>\n",
       "      <td>0.004927</td>\n",
       "      <td>0.010973</td>\n",
       "      <td>0.005830</td>\n",
       "      <td>3</td>\n",
       "      <td>1</td>\n",
       "      <td>{'polynomialfeatures__degree': 3, 'ridge__alph...</td>\n",
       "      <td>0.368887</td>\n",
       "      <td>0.525549</td>\n",
       "      <td>0.780362</td>\n",
       "      <td>-0.245995</td>\n",
       "      <td>0.674438</td>\n",
       "      <td>0.419979</td>\n",
       "      <td>0.361322</td>\n",
       "      <td>15</td>\n",
       "    </tr>\n",
       "    <tr>\n",
       "      <th>16</th>\n",
       "      <td>0.009373</td>\n",
       "      <td>0.007653</td>\n",
       "      <td>0.006248</td>\n",
       "      <td>0.007653</td>\n",
       "      <td>3</td>\n",
       "      <td>10</td>\n",
       "      <td>{'polynomialfeatures__degree': 3, 'ridge__alph...</td>\n",
       "      <td>0.476680</td>\n",
       "      <td>0.804296</td>\n",
       "      <td>0.855643</td>\n",
       "      <td>0.604461</td>\n",
       "      <td>0.672404</td>\n",
       "      <td>0.682724</td>\n",
       "      <td>0.136829</td>\n",
       "      <td>14</td>\n",
       "    </tr>\n",
       "    <tr>\n",
       "      <th>17</th>\n",
       "      <td>0.012499</td>\n",
       "      <td>0.006249</td>\n",
       "      <td>0.000000</td>\n",
       "      <td>0.000000</td>\n",
       "      <td>3</td>\n",
       "      <td>100</td>\n",
       "      <td>{'polynomialfeatures__degree': 3, 'ridge__alph...</td>\n",
       "      <td>0.755615</td>\n",
       "      <td>0.873583</td>\n",
       "      <td>0.853855</td>\n",
       "      <td>0.722748</td>\n",
       "      <td>0.798137</td>\n",
       "      <td>0.800795</td>\n",
       "      <td>0.057089</td>\n",
       "      <td>4</td>\n",
       "    </tr>\n",
       "  </tbody>\n",
       "</table>\n",
       "</div>"
      ],
      "text/plain": [
       "    mean_fit_time  std_fit_time  mean_score_time  std_score_time  \\\n",
       "0        0.120287      0.240574         0.006241        0.012482   \n",
       "1        0.003124      0.006249         0.000000        0.000000   \n",
       "2        0.000000      0.000000         0.000000        0.000000   \n",
       "3        0.000000      0.000000         0.000000        0.000000   \n",
       "4        0.000000      0.000000         0.003124        0.006248   \n",
       "5        0.000000      0.000000         0.003124        0.006248   \n",
       "6        0.003125      0.006250         0.000000        0.000000   \n",
       "7        0.003124      0.006248         0.000000        0.000000   \n",
       "8        0.003124      0.006248         0.000000        0.000000   \n",
       "9        0.003125      0.006249         0.003124        0.006249   \n",
       "10       0.003124      0.006248         0.000000        0.000000   \n",
       "11       0.000000      0.000000         0.003124        0.006249   \n",
       "12       0.049615      0.063578         0.011346        0.006075   \n",
       "13       0.012497      0.006248         0.000000        0.000000   \n",
       "14       0.008342      0.010740         0.007644        0.006994   \n",
       "15       0.003990      0.004927         0.010973        0.005830   \n",
       "16       0.009373      0.007653         0.006248        0.007653   \n",
       "17       0.012499      0.006249         0.000000        0.000000   \n",
       "\n",
       "   param_polynomialfeatures__degree param_ridge__alpha  \\\n",
       "0                                 1              0.001   \n",
       "1                                 1               0.01   \n",
       "2                                 1                0.1   \n",
       "3                                 1                  1   \n",
       "4                                 1                 10   \n",
       "5                                 1                100   \n",
       "6                                 2              0.001   \n",
       "7                                 2               0.01   \n",
       "8                                 2                0.1   \n",
       "9                                 2                  1   \n",
       "10                                2                 10   \n",
       "11                                2                100   \n",
       "12                                3              0.001   \n",
       "13                                3               0.01   \n",
       "14                                3                0.1   \n",
       "15                                3                  1   \n",
       "16                                3                 10   \n",
       "17                                3                100   \n",
       "\n",
       "                                               params  split0_test_score  \\\n",
       "0   {'polynomialfeatures__degree': 1, 'ridge__alph...           0.658149   \n",
       "1   {'polynomialfeatures__degree': 1, 'ridge__alph...           0.658138   \n",
       "2   {'polynomialfeatures__degree': 1, 'ridge__alph...           0.658028   \n",
       "3   {'polynomialfeatures__degree': 1, 'ridge__alph...           0.656939   \n",
       "4   {'polynomialfeatures__degree': 1, 'ridge__alph...           0.647243   \n",
       "5   {'polynomialfeatures__degree': 1, 'ridge__alph...           0.600808   \n",
       "6   {'polynomialfeatures__degree': 2, 'ridge__alph...           0.788582   \n",
       "7   {'polynomialfeatures__degree': 2, 'ridge__alph...           0.787713   \n",
       "8   {'polynomialfeatures__degree': 2, 'ridge__alph...           0.785327   \n",
       "9   {'polynomialfeatures__degree': 2, 'ridge__alph...           0.788432   \n",
       "10  {'polynomialfeatures__degree': 2, 'ridge__alph...           0.813006   \n",
       "11  {'polynomialfeatures__degree': 2, 'ridge__alph...           0.787937   \n",
       "12  {'polynomialfeatures__degree': 3, 'ridge__alph...         -11.987543   \n",
       "13  {'polynomialfeatures__degree': 3, 'ridge__alph...          -5.288853   \n",
       "14  {'polynomialfeatures__degree': 3, 'ridge__alph...          -0.086334   \n",
       "15  {'polynomialfeatures__degree': 3, 'ridge__alph...           0.368887   \n",
       "16  {'polynomialfeatures__degree': 3, 'ridge__alph...           0.476680   \n",
       "17  {'polynomialfeatures__degree': 3, 'ridge__alph...           0.755615   \n",
       "\n",
       "    split1_test_score  split2_test_score  split3_test_score  \\\n",
       "0            0.712600           0.715702           0.742097   \n",
       "1            0.712605           0.715730           0.742095   \n",
       "2            0.712663           0.716012           0.742069   \n",
       "3            0.713200           0.718712           0.741783   \n",
       "4            0.715922           0.738234           0.737351   \n",
       "5            0.693489           0.767281           0.691514   \n",
       "6            0.853885           0.766794           0.754234   \n",
       "7            0.854658           0.764083           0.757883   \n",
       "8            0.837162           0.762174           0.800883   \n",
       "9            0.820958           0.781260           0.872669   \n",
       "10           0.842584           0.846740           0.850704   \n",
       "11           0.833650           0.881418           0.768232   \n",
       "12          -4.662055          -3.195039         -11.699121   \n",
       "13          -0.440560          -0.185113          -2.887850   \n",
       "14           0.216420           0.476940          -1.803509   \n",
       "15           0.525549           0.780362          -0.245995   \n",
       "16           0.804296           0.855643           0.604461   \n",
       "17           0.873583           0.853855           0.722748   \n",
       "\n",
       "    split4_test_score  mean_test_score  std_test_score  rank_test_score  \n",
       "0            0.774451         0.720458        0.038292               12  \n",
       "1            0.774446         0.720461        0.038293               11  \n",
       "2            0.774399         0.720492        0.038303               10  \n",
       "3            0.773899         0.720767        0.038425                9  \n",
       "4            0.767794         0.721186        0.040528                8  \n",
       "5            0.732633         0.697051        0.055729               13  \n",
       "6            0.716975         0.776250        0.045272                7  \n",
       "7            0.720386         0.777094        0.044423                6  \n",
       "8            0.757079         0.788608        0.029016                5  \n",
       "9            0.807368         0.814155        0.032475                2  \n",
       "10           0.827742         0.836177        0.013952                1  \n",
       "11           0.785143         0.811345        0.041266                3  \n",
       "12          -7.832383        -7.875341        3.575808               18  \n",
       "13          -3.441059        -2.446068        1.920212               17  \n",
       "14          -0.549262        -0.348621        0.804308               16  \n",
       "15           0.674438         0.419979        0.361322               15  \n",
       "16           0.672404         0.682724        0.136829               14  \n",
       "17           0.798137         0.800795        0.057089                4  "
      ]
     },
     "execution_count": 54,
     "metadata": {},
     "output_type": "execute_result"
    }
   ],
   "source": [
    "df = pd.DataFrame(grid.cv_results_)\n",
    "df"
   ]
  },
  {
   "cell_type": "code",
   "execution_count": 55,
   "metadata": {},
   "outputs": [
    {
     "data": {
      "text/html": [
       "<div>\n",
       "<style scoped>\n",
       "    .dataframe tbody tr th:only-of-type {\n",
       "        vertical-align: middle;\n",
       "    }\n",
       "\n",
       "    .dataframe tbody tr th {\n",
       "        vertical-align: top;\n",
       "    }\n",
       "\n",
       "    .dataframe thead th {\n",
       "        text-align: right;\n",
       "    }\n",
       "</style>\n",
       "<table border=\"1\" class=\"dataframe\">\n",
       "  <thead>\n",
       "    <tr style=\"text-align: right;\">\n",
       "      <th>param_ridge__alpha</th>\n",
       "      <th>0.001</th>\n",
       "      <th>0.01</th>\n",
       "      <th>0.1</th>\n",
       "      <th>1.0</th>\n",
       "      <th>10.0</th>\n",
       "      <th>100.0</th>\n",
       "    </tr>\n",
       "    <tr>\n",
       "      <th>param_polynomialfeatures__degree</th>\n",
       "      <th></th>\n",
       "      <th></th>\n",
       "      <th></th>\n",
       "      <th></th>\n",
       "      <th></th>\n",
       "      <th></th>\n",
       "    </tr>\n",
       "  </thead>\n",
       "  <tbody>\n",
       "    <tr>\n",
       "      <th>1</th>\n",
       "      <td>0.720458</td>\n",
       "      <td>0.720461</td>\n",
       "      <td>0.720492</td>\n",
       "      <td>0.720767</td>\n",
       "      <td>0.721186</td>\n",
       "      <td>0.697051</td>\n",
       "    </tr>\n",
       "    <tr>\n",
       "      <th>2</th>\n",
       "      <td>0.776250</td>\n",
       "      <td>0.777094</td>\n",
       "      <td>0.788608</td>\n",
       "      <td>0.814155</td>\n",
       "      <td>0.836177</td>\n",
       "      <td>0.811345</td>\n",
       "    </tr>\n",
       "    <tr>\n",
       "      <th>3</th>\n",
       "      <td>-7.875341</td>\n",
       "      <td>-2.446068</td>\n",
       "      <td>-0.348621</td>\n",
       "      <td>0.419979</td>\n",
       "      <td>0.682724</td>\n",
       "      <td>0.800795</td>\n",
       "    </tr>\n",
       "  </tbody>\n",
       "</table>\n",
       "</div>"
      ],
      "text/plain": [
       "param_ridge__alpha                 0.001     0.010     0.100     1.000    \\\n",
       "param_polynomialfeatures__degree                                           \n",
       "1                                 0.720458  0.720461  0.720492  0.720767   \n",
       "2                                 0.776250  0.777094  0.788608  0.814155   \n",
       "3                                -7.875341 -2.446068 -0.348621  0.419979   \n",
       "\n",
       "param_ridge__alpha                 10.000    100.000  \n",
       "param_polynomialfeatures__degree                      \n",
       "1                                 0.721186  0.697051  \n",
       "2                                 0.836177  0.811345  \n",
       "3                                 0.682724  0.800795  "
      ]
     },
     "execution_count": 55,
     "metadata": {},
     "output_type": "execute_result"
    }
   ],
   "source": [
    "pivot = df.pivot(values = 'mean_test_score', index = 'param_polynomialfeatures__degree', columns = 'param_ridge__alpha')\n",
    "pivot"
   ]
  },
  {
   "cell_type": "code",
   "execution_count": 58,
   "metadata": {},
   "outputs": [
    {
     "data": {
      "text/plain": [
       "<matplotlib.collections.PolyCollection at 0x2568fd84d68>"
      ]
     },
     "execution_count": 58,
     "metadata": {},
     "output_type": "execute_result"
    },
    {
     "data": {
      "image/png": "[encoded data removed]",
      "text/plain": [
       "<Figure size 432x288 with 1 Axes>"
      ]
     },
     "metadata": {
      "needs_background": "light"
     },
     "output_type": "display_data"
    }
   ],
   "source": [
    "mglearn.tools.heatmap(pivot, xticklabels = pivot.columns, yticklabels = pivot.index, xlabel = pivot.columns.name, ylabel = pivot.index.name)"
   ]
  },
  {
   "cell_type": "markdown",
   "metadata": {},
   "source": [
    "# Grid-Searching Which Model To Use"
   ]
  },
  {
   "cell_type": "code",
   "execution_count": 63,
   "metadata": {},
   "outputs": [],
   "source": [
    "from sklearn.ensemble import RandomForestClassifier\n",
    "pipe = Pipeline([('preprocessing', StandardScaler()), ('classifier',  SVC())])"
   ]
  },
  {
   "cell_type": "code",
   "execution_count": 64,
   "metadata": {},
   "outputs": [],
   "source": [
    "grid_params = [\n",
    "    {\n",
    "        'classifier' : [SVC()],\n",
    "        'preprocessing' : [StandardScaler(), None]\n",
    "    },\n",
    "    {\n",
    "        'classifier' : [RandomForestClassifier()],\n",
    "        'preprocessing' : [None],\n",
    "        'classifier__max_features' : [1,2,3]\n",
    "    }\n",
    "]\n",
    "\n",
    "grid = GridSearchCV(pipe, grid_params, cv = 5)"
   ]
  },
  {
   "cell_type": "code",
   "execution_count": 66,
   "metadata": {},
   "outputs": [
    {
     "name": "stderr",
     "output_type": "stream",
     "text": [
      "C:\\Users\\dell\\Anaconda3\\lib\\site-packages\\sklearn\\svm\\base.py:193: FutureWarning: The default value of gamma will change from 'auto' to 'scale' in version 0.22 to account better for unscaled features. Set gamma explicitly to 'auto' or 'scale' to avoid this warning.\n",
      "  \"avoid this warning.\", FutureWarning)\n",
      "C:\\Users\\dell\\Anaconda3\\lib\\site-packages\\sklearn\\svm\\base.py:193: FutureWarning: The default value of gamma will change from 'auto' to 'scale' in version 0.22 to account better for unscaled features. Set gamma explicitly to 'auto' or 'scale' to avoid this warning.\n",
      "  \"avoid this warning.\", FutureWarning)\n",
      "C:\\Users\\dell\\Anaconda3\\lib\\site-packages\\sklearn\\svm\\base.py:193: FutureWarning: The default value of gamma will change from 'auto' to 'scale' in version 0.22 to account better for unscaled features. Set gamma explicitly to 'auto' or 'scale' to avoid this warning.\n",
      "  \"avoid this warning.\", FutureWarning)\n",
      "C:\\Users\\dell\\Anaconda3\\lib\\site-packages\\sklearn\\svm\\base.py:193: FutureWarning: The default value of gamma will change from 'auto' to 'scale' in version 0.22 to account better for unscaled features. Set gamma explicitly to 'auto' or 'scale' to avoid this warning.\n",
      "  \"avoid this warning.\", FutureWarning)\n",
      "C:\\Users\\dell\\Anaconda3\\lib\\site-packages\\sklearn\\svm\\base.py:193: FutureWarning: The default value of gamma will change from 'auto' to 'scale' in version 0.22 to account better for unscaled features. Set gamma explicitly to 'auto' or 'scale' to avoid this warning.\n",
      "  \"avoid this warning.\", FutureWarning)\n"
     ]
    },
    {
     "data": {
      "text/plain": [
       "{'classifier': SVC(C=1.0, cache_size=200, class_weight=None, coef0=0.0,\n",
       "     decision_function_shape='ovr', degree=3, gamma='auto_deprecated',\n",
       "     kernel='rbf', max_iter=-1, probability=False, random_state=None,\n",
       "     shrinking=True, tol=0.001, verbose=False),\n",
       " 'preprocessing': StandardScaler(copy=True, with_mean=True, with_std=True)}"
      ]
     },
     "execution_count": 66,
     "metadata": {},
     "output_type": "execute_result"
    }
   ],
   "source": [
    "X_train, X_test, y_train, y_test = train_test_split(cancer.data, cancer.target, random_state = 6)\n",
    "grid.fit(X_train, y_train)\n",
    "grid.best_params_"
   ]
  },
  {
   "cell_type": "code",
   "execution_count": null,
   "metadata": {},
   "outputs": [],
   "source": []
  }
 ],
 "metadata": {
  "kernelspec": {
   "display_name": "Python 3",
   "language": "python",
   "name": "python3"
  },
  "language_info": {
   "codemirror_mode": {
    "name": "ipython",
    "version": 3
   },
   "file_extension": ".py",
   "mimetype": "text/x-python",
   "name": "python",
   "nbconvert_exporter": "python",
   "pygments_lexer": "ipython3",
   "version": "3.7.3"
  }
 },
 "nbformat": 4,
 "nbformat_minor": 2
}
