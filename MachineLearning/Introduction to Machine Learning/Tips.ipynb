{
 "cells": [
  {
   "cell_type": "code",
   "execution_count": 2,
   "metadata": {},
   "outputs": [
    {
     "data": {
      "text/html": [
       "<style>\n",
       ".box {\n",
       "    border: 1px double dodgerblue;\n",
       "    padding: 5px;\n",
       "}\n",
       ".note {\n",
       "    font-size: 20;\n",
       "    color: teal;\n",
       "    font-weight: bold;\n",
       "}\n",
       ".highlight {\n",
       "    color: green;\n",
       "    font-family: verdana;\n",
       "}\n",
       ".tag {\n",
       "    background: red;\n",
       "    color: white;\n",
       "    padding: 3px;\n",
       "}\n",
       ".warning {\n",
       "    background: red;\n",
       "    padding: 12px;\n",
       "    font-size: 24px;\n",
       "    color: white;\n",
       "    text-align: center;\n",
       "    font-family: verdana;\n",
       "}\n",
       ".symbol {\n",
       "    color: white;\n",
       "    background: green;\n",
       "    font-size: 20px;\n",
       "    padding: 2px;\n",
       "}\n",
       "</style>\n"
      ],
      "text/plain": [
       "<IPython.core.display.HTML object>"
      ]
     },
     "metadata": {},
     "output_type": "display_data"
    },
    {
     "name": "stderr",
     "output_type": "stream",
     "text": [
      "C:\\Users\\dell\\Anaconda3\\lib\\site-packages\\sklearn\\externals\\six.py:31: DeprecationWarning: The module is deprecated in version 0.21 and will be removed in version 0.23 since we've dropped support for Python 2.7. Please rely on the official version of six (https://pypi.org/project/six/).\n",
      "  \"(https://pypi.org/project/six/).\", DeprecationWarning)\n",
      "C:\\Users\\dell\\Anaconda3\\lib\\site-packages\\sklearn\\externals\\joblib\\__init__.py:15: DeprecationWarning: sklearn.externals.joblib is deprecated in 0.21 and will be removed in 0.23. Please import this functionality directly from joblib, which can be installed with: pip install joblib. If this warning is raised when loading pickled models, you may need to re-serialize those models with scikit-learn 0.21+.\n",
      "  warnings.warn(msg, category=DeprecationWarning)\n"
     ]
    }
   ],
   "source": [
    "%run convention.ipynb"
   ]
  },
  {
   "cell_type": "markdown",
   "metadata": {},
   "source": [
    "<p>\n",
    "<h3>Nearest neighbors</h3>\n",
    "For small datasets, good as a baseline, easy to explain.\n",
    "Linear models\n",
    "Go-to as a first algorithm to try, good for very large datasets, good for very highdimensional data.\n",
    "<hr>\n",
    "<h3>Naive Bayes</h3>\n",
    "Only for classification. Even faster than linear models, good for very large data‐\n",
    "sets and high-dimensional data. Often less accurate than linear models.\n",
    "<hr>\n",
    "<h3>Decision trees</h3>\n",
    "Very fast, don’t need scaling of the data, can be visualized and easily explained.\n",
    "<hr>\n",
    "<h3>Random forests</h3>\n",
    "Nearly always perform better than a single decision tree, very robust and power‐\n",
    "ful. Don’t need scaling of data. Not good for very high-dimensional sparse data.\n",
    "<hr>\n",
    "<h3>Gradient boosted decision trees</h3>\n",
    "Often slightly more accurate than random forests. Slower to train but faster to\n",
    "predict than random forests, and smaller in memory. Need more parameter tun‐\n",
    "ing than random forests.\n",
    "<hr>\n",
    "<h3>Support vector machines</h3>\n",
    "Powerful for medium-sized datasets of features with similar meaning. Require\n",
    "scaling of data, sensitive to parameters.\n",
    "<hr>\n",
    "<h3>Neural networks</h3>\n",
    "Can build very complex models, particularly for large datasets. Sensitive to scal‐\n",
    "ing of the data and to the choice of parameters. Large models need a long time to\n",
    "train.\n",
    "When working with a new dataset, it is in general a good idea to start with a simple\n",
    "model, such as a linear model or a naive Bayes or nearest neighbors classifier, and see\n",
    "how far you can get. After understanding more about the data, you can consider\n",
    "moving to an algorithm that can build more complex models, such as random forests,\n",
    "gradient boosted decision trees, SVMs, or neural networks.\n",
    "</p>"
   ]
  },
  {
   "cell_type": "code",
   "execution_count": null,
   "metadata": {},
   "outputs": [],
   "source": []
  }
 ],
 "metadata": {
  "kernelspec": {
   "display_name": "Python 3",
   "language": "python",
   "name": "python3"
  },
  "language_info": {
   "codemirror_mode": {
    "name": "ipython",
    "version": 3
   },
   "file_extension": ".py",
   "mimetype": "text/x-python",
   "name": "python",
   "nbconvert_exporter": "python",
   "pygments_lexer": "ipython3",
   "version": "3.7.3"
  }
 },
 "nbformat": 4,
 "nbformat_minor": 2
}
