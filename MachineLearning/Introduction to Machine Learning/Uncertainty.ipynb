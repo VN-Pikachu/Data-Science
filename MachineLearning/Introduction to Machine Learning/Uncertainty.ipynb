{
 "cells": [
  {
   "cell_type": "code",
   "execution_count": 4,
   "metadata": {
    "collapsed": true
   },
   "outputs": [
    {
     "data": {
      "text/html": [
       "<style>\n",
       ".box {\n",
       "    border: 1px double dodgerblue;\n",
       "    padding: 5px;\n",
       "}\n",
       ".note {\n",
       "    font-size: 20;\n",
       "    color: teal;\n",
       "    font-weight: bold;\n",
       "}\n",
       ".highlight {\n",
       "    color: green;\n",
       "    font-family: verdana;\n",
       "}\n",
       ".tag {\n",
       "    background: red;\n",
       "    color: white;\n",
       "    padding: 3px;\n",
       "}\n",
       ".warning {\n",
       "    background: red;\n",
       "    padding: 12px;\n",
       "    font-size: 24px;\n",
       "    color: white;\n",
       "    text-align: center;\n",
       "    font-family: verdana;\n",
       "}\n",
       ".symbol {\n",
       "    color: white;\n",
       "    background: green;\n",
       "    font-size: 20px;\n",
       "    padding: 2px;\n",
       "}\n",
       "</style>\n"
      ],
      "text/plain": [
       "<IPython.core.display.HTML object>"
      ]
     },
     "metadata": {},
     "output_type": "display_data"
    },
    {
     "name": "stderr",
     "output_type": "stream",
     "text": [
      "C:\\Users\\dell\\Anaconda3\\lib\\site-packages\\sklearn\\externals\\six.py:31: DeprecationWarning: The module is deprecated in version 0.21 and will be removed in version 0.23 since we've dropped support for Python 2.7. Please rely on the official version of six (https://pypi.org/project/six/).\n",
      "  \"(https://pypi.org/project/six/).\", DeprecationWarning)\n",
      "C:\\Users\\dell\\Anaconda3\\lib\\site-packages\\sklearn\\externals\\joblib\\__init__.py:15: DeprecationWarning: sklearn.externals.joblib is deprecated in 0.21 and will be removed in 0.23. Please import this functionality directly from joblib, which can be installed with: pip install joblib. If this warning is raised when loading pickled models, you may need to re-serialize those models with scikit-learn 0.21+.\n",
      "  warnings.warn(msg, category=DeprecationWarning)\n"
     ]
    }
   ],
   "source": [
    "%run convention.ipynb"
   ]
  },
  {
   "cell_type": "markdown",
   "metadata": {},
   "source": [
    "# Decision Function "
   ]
  },
  {
   "cell_type": "code",
   "execution_count": 26,
   "metadata": {},
   "outputs": [],
   "source": [
    "from sklearn.datasets import load_breast_cancer\n",
    "from sklearn.model_selection import train_test_split\n",
    "breast_cancer = load_breast_cancer()\n",
    "x_train, x_test, y_train, y_test = train_test_split(breast_cancer.data, breast_cancer.target, random_state = 6)"
   ]
  },
  {
   "cell_type": "code",
   "execution_count": 31,
   "metadata": {},
   "outputs": [
    {
     "name": "stderr",
     "output_type": "stream",
     "text": [
      "C:\\Users\\dell\\Anaconda3\\lib\\site-packages\\sklearn\\linear_model\\logistic.py:432: FutureWarning: Default solver will be changed to 'lbfgs' in 0.22. Specify a solver to silence this warning.\n",
      "  FutureWarning)\n"
     ]
    },
    {
     "data": {
      "text/plain": [
       "array([  -8.61880763,   -3.00317753,    5.66785292,    4.39676356,\n",
       "         -5.97782828,    2.76792337,    2.34252507,  -25.97698767,\n",
       "          5.94262888,    4.07073371,    7.30303562,    4.53742466,\n",
       "          3.79972931,    3.25785504,  -30.32602124,   -6.48912462,\n",
       "         -3.35728581,   -6.38916469,    0.81701853,  -10.33579404,\n",
       "          2.52056887,    3.15537825,   -7.99140308,   -5.16705257,\n",
       "        -15.18406114,    7.11524286,    4.84489707,   -6.19023209,\n",
       "        -12.99691171,  -12.63436652,   -0.51352676,    7.5194693 ,\n",
       "          2.34825792,  -15.00194233,    2.41237612,    3.74032947,\n",
       "          0.81004077,    2.07850571,    2.15793743,    5.96440728,\n",
       "        -13.54313019,    4.5530241 ,   -3.69217868,    2.94415156,\n",
       "          5.10490303,  -28.16511212,    4.85112449,   -8.87954056,\n",
       "          3.08826164,   -1.69176979,   -9.80814906,  -15.02335401,\n",
       "          6.353384  ,    2.26256355,   -0.76429967,    0.85525482,\n",
       "        -21.37746452,   -3.43322611,    5.33238392,  -10.56132398,\n",
       "        -31.43658044,    5.20297749,    5.91621616,   -5.7390221 ,\n",
       "          1.3336456 ,   -3.52026396,    7.47225667,    2.84239857,\n",
       "         -1.90807264,  -55.15658207,    6.58724178,  -10.46876528,\n",
       "          7.81314863,    6.59833703,   -2.15108517,   -1.08637681,\n",
       "          4.8213703 , -100.39657045,    5.09829131,   -3.86193313,\n",
       "          5.35425099,   -0.57343852,   -3.31857193,  -19.86702173,\n",
       "          4.26013658,    0.12880706,    5.93987487,  -11.77665617,\n",
       "          3.6491821 ,  -13.15236931,   -0.12589171,  -25.34925317,\n",
       "          3.63911782,    3.74812243,   -6.15835572,    4.8788106 ,\n",
       "        -24.21668015,    0.34370136,   -8.57991521,  -24.13589705,\n",
       "          2.65895794,    4.63702736,    1.81791833,    3.26445176,\n",
       "         -8.74789336,    1.76487606,    0.97273138,    6.95469907,\n",
       "          2.02126643,    4.26899804,  -11.00392743,  -13.75920306,\n",
       "        -26.43477677,    5.49080855,    6.56449498,    4.19026018,\n",
       "          4.63921296,  -10.54196113,   -0.28781606,   -0.75570179,\n",
       "          5.91891182,    5.22938223,    5.62130895,    8.35448929,\n",
       "          5.25050779,    5.87499935,    4.64954137,    1.80459509,\n",
       "          4.27065104,    5.42853563,   -4.13168842,    3.04635323,\n",
       "         -3.05166051,    2.73988582,    4.93100307,  -20.02536447,\n",
       "        -10.69046626,    4.15677149,    3.32562478,    8.01938516,\n",
       "          7.48225631,   -8.47108078,  -16.77954082])"
      ]
     },
     "execution_count": 31,
     "metadata": {},
     "output_type": "execute_result"
    }
   ],
   "source": [
    "from sklearn.linear_model import LogisticRegression\n",
    "clf = LogisticRegression()\n",
    "clf.fit(x_train, y_train)\n",
    "df = clf.decision_function(x_test)\n",
    "df"
   ]
  },
  {
   "cell_type": "markdown",
   "metadata": {},
   "source": [
    "# Predict Probability"
   ]
  },
  {
   "cell_type": "code",
   "execution_count": 44,
   "metadata": {},
   "outputs": [
    {
     "name": "stdout",
     "output_type": "stream",
     "text": [
      "Train score: 0.92\n",
      "Test scor: 0.92\n"
     ]
    }
   ],
   "source": [
    "from sklearn.neural_network import MLPClassifier\n",
    "clf = MLPClassifier()\n",
    "clf.fit(x_train, y_train)\n",
    "print('Train score: %.2f' % clf.score(x_train, y_train))\n",
    "print('Test scor: %.2f' % clf.score(x_test, y_test))"
   ]
  },
  {
   "cell_type": "code",
   "execution_count": 46,
   "metadata": {},
   "outputs": [
    {
     "data": {
      "text/plain": [
       "array([[0.86, 0.14],\n",
       "       [0.7 , 0.3 ],\n",
       "       [0.02, 0.98],\n",
       "       [0.02, 0.98],\n",
       "       [1.  , 0.  ],\n",
       "       [0.02, 0.98],\n",
       "       [0.05, 0.95],\n",
       "       [1.  , 0.  ],\n",
       "       [0.01, 0.99],\n",
       "       [0.01, 0.99],\n",
       "       [0.  , 1.  ],\n",
       "       [0.01, 0.99],\n",
       "       [0.02, 0.98],\n",
       "       [0.03, 0.97],\n",
       "       [1.  , 0.  ],\n",
       "       [0.97, 0.03],\n",
       "       [0.98, 0.02],\n",
       "       [0.9 , 0.1 ],\n",
       "       [0.06, 0.94],\n",
       "       [1.  , 0.  ],\n",
       "       [0.02, 0.98],\n",
       "       [0.05, 0.95],\n",
       "       [1.  , 0.  ],\n",
       "       [0.99, 0.01],\n",
       "       [1.  , 0.  ],\n",
       "       [0.01, 0.99],\n",
       "       [0.03, 0.97],\n",
       "       [0.98, 0.02],\n",
       "       [1.  , 0.  ],\n",
       "       [0.99, 0.01],\n",
       "       [0.38, 0.62],\n",
       "       [0.01, 0.99],\n",
       "       [0.06, 0.94],\n",
       "       [1.  , 0.  ],\n",
       "       [0.06, 0.94],\n",
       "       [0.01, 0.99],\n",
       "       [0.1 , 0.9 ],\n",
       "       [0.06, 0.94],\n",
       "       [0.03, 0.97],\n",
       "       [0.01, 0.99],\n",
       "       [1.  , 0.  ],\n",
       "       [0.01, 0.99],\n",
       "       [0.98, 0.02],\n",
       "       [0.01, 0.99],\n",
       "       [0.  , 1.  ],\n",
       "       [1.  , 0.  ],\n",
       "       [0.01, 0.99],\n",
       "       [0.8 , 0.2 ],\n",
       "       [0.03, 0.97],\n",
       "       [0.28, 0.72],\n",
       "       [0.96, 0.04],\n",
       "       [1.  , 0.  ],\n",
       "       [0.01, 0.99],\n",
       "       [0.04, 0.96],\n",
       "       [0.13, 0.87],\n",
       "       [0.49, 0.51],\n",
       "       [1.  , 0.  ],\n",
       "       [0.38, 0.62],\n",
       "       [0.01, 0.99],\n",
       "       [1.  , 0.  ],\n",
       "       [1.  , 0.  ],\n",
       "       [0.01, 0.99],\n",
       "       [0.  , 1.  ],\n",
       "       [0.54, 0.46],\n",
       "       [0.04, 0.96],\n",
       "       [0.91, 0.09],\n",
       "       [0.  , 1.  ],\n",
       "       [0.01, 0.99],\n",
       "       [0.71, 0.29],\n",
       "       [1.  , 0.  ],\n",
       "       [0.  , 1.  ],\n",
       "       [1.  , 0.  ],\n",
       "       [0.  , 1.  ],\n",
       "       [0.  , 1.  ],\n",
       "       [0.8 , 0.2 ],\n",
       "       [0.04, 0.96],\n",
       "       [0.01, 0.99],\n",
       "       [1.  , 0.  ],\n",
       "       [0.01, 0.99],\n",
       "       [0.93, 0.07],\n",
       "       [0.01, 0.99],\n",
       "       [0.87, 0.13],\n",
       "       [0.92, 0.08],\n",
       "       [1.  , 0.  ],\n",
       "       [0.02, 0.98],\n",
       "       [0.32, 0.68],\n",
       "       [0.01, 0.99],\n",
       "       [1.  , 0.  ],\n",
       "       [0.01, 0.99],\n",
       "       [1.  , 0.  ],\n",
       "       [0.04, 0.96],\n",
       "       [1.  , 0.  ],\n",
       "       [0.01, 0.99],\n",
       "       [0.04, 0.96],\n",
       "       [0.62, 0.38],\n",
       "       [0.01, 0.99],\n",
       "       [1.  , 0.  ],\n",
       "       [0.54, 0.46],\n",
       "       [1.  , 0.  ],\n",
       "       [1.  , 0.  ],\n",
       "       [0.03, 0.97],\n",
       "       [0.03, 0.97],\n",
       "       [0.13, 0.87],\n",
       "       [0.03, 0.97],\n",
       "       [0.92, 0.08],\n",
       "       [0.09, 0.91],\n",
       "       [0.16, 0.84],\n",
       "       [0.  , 1.  ],\n",
       "       [0.03, 0.97],\n",
       "       [0.02, 0.98],\n",
       "       [0.91, 0.09],\n",
       "       [1.  , 0.  ],\n",
       "       [1.  , 0.  ],\n",
       "       [0.01, 0.99],\n",
       "       [0.01, 0.99],\n",
       "       [0.01, 0.99],\n",
       "       [0.01, 0.99],\n",
       "       [1.  , 0.  ],\n",
       "       [0.05, 0.95],\n",
       "       [0.57, 0.43],\n",
       "       [0.01, 0.99],\n",
       "       [0.01, 0.99],\n",
       "       [0.01, 0.99],\n",
       "       [0.  , 1.  ],\n",
       "       [0.01, 0.99],\n",
       "       [0.  , 1.  ],\n",
       "       [0.01, 0.99],\n",
       "       [0.04, 0.96],\n",
       "       [0.01, 0.99],\n",
       "       [0.01, 0.99],\n",
       "       [0.9 , 0.1 ],\n",
       "       [0.01, 0.99],\n",
       "       [0.1 , 0.9 ],\n",
       "       [0.07, 0.93],\n",
       "       [0.01, 0.99],\n",
       "       [1.  , 0.  ],\n",
       "       [1.  , 0.  ],\n",
       "       [0.01, 0.99],\n",
       "       [0.02, 0.98],\n",
       "       [0.  , 1.  ],\n",
       "       [0.  , 1.  ],\n",
       "       [1.  , 0.  ],\n",
       "       [1.  , 0.  ]])"
      ]
     },
     "execution_count": 46,
     "metadata": {},
     "output_type": "execute_result"
    }
   ],
   "source": [
    "clf.predict_proba(x_test).round(2)"
   ]
  }
 ],
 "metadata": {
  "kernelspec": {
   "display_name": "Python 3",
   "language": "python",
   "name": "python3"
  },
  "language_info": {
   "codemirror_mode": {
    "name": "ipython",
    "version": 3
   },
   "file_extension": ".py",
   "mimetype": "text/x-python",
   "name": "python",
   "nbconvert_exporter": "python",
   "pygments_lexer": "ipython3",
   "version": "3.7.3"
  }
 },
 "nbformat": 4,
 "nbformat_minor": 2
}
