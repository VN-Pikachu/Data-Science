{
 "cells": [
  {
   "cell_type": "code",
   "execution_count": 1,
   "metadata": {},
   "outputs": [
    {
     "data": {
      "text/html": [
       "<style>\n",
       ".box {\n",
       "    border: 1px double dodgerblue;\n",
       "    padding: 5px;\n",
       "}\n",
       ".note {\n",
       "    font-size: 20;\n",
       "    color: teal;\n",
       "    font-weight: bold;\n",
       "}\n",
       ".highlight {\n",
       "    color: green;\n",
       "    font-family: verdana;\n",
       "}\n",
       ".tag {\n",
       "    background: red;\n",
       "    color: white;\n",
       "    padding: 3px;\n",
       "}\n",
       ".warning {\n",
       "    background: red;\n",
       "    padding: 12px;\n",
       "    font-size: 24px;\n",
       "    color: white;\n",
       "    text-align: center;\n",
       "    font-family: verdana;\n",
       "}\n",
       ".symbol {\n",
       "    color: white;\n",
       "    background: green;\n",
       "    font-size: 20px;\n",
       "    padding: 2px;\n",
       "}\n",
       "</style>\n"
      ],
      "text/plain": [
       "<IPython.core.display.HTML object>"
      ]
     },
     "metadata": {},
     "output_type": "display_data"
    },
    {
     "name": "stderr",
     "output_type": "stream",
     "text": [
      "C:\\Users\\dell\\Anaconda3\\lib\\site-packages\\sklearn\\externals\\six.py:31: DeprecationWarning: The module is deprecated in version 0.21 and will be removed in version 0.23 since we've dropped support for Python 2.7. Please rely on the official version of six (https://pypi.org/project/six/).\n",
      "  \"(https://pypi.org/project/six/).\", DeprecationWarning)\n",
      "C:\\Users\\dell\\Anaconda3\\lib\\site-packages\\sklearn\\externals\\joblib\\__init__.py:15: DeprecationWarning: sklearn.externals.joblib is deprecated in 0.21 and will be removed in 0.23. Please import this functionality directly from joblib, which can be installed with: pip install joblib. If this warning is raised when loading pickled models, you may need to re-serialize those models with scikit-learn 0.21+.\n",
      "  warnings.warn(msg, category=DeprecationWarning)\n"
     ]
    }
   ],
   "source": [
    "%run convention.ipynb"
   ]
  },
  {
   "cell_type": "markdown",
   "metadata": {},
   "source": [
    "# Metrics"
   ]
  },
  {
   "cell_type": "markdown",
   "metadata": {},
   "source": [
    "## Confusion matrix"
   ]
  },
  {
   "cell_type": "code",
   "execution_count": 2,
   "metadata": {},
   "outputs": [],
   "source": [
    "from sklearn.metrics import confusion_matrix\n",
    "from sklearn.datasets import load_iris, load_breast_cancer\n",
    "from sklearn.linear_model import LogisticRegression\n",
    "from sklearn.svm import SVC\n",
    "iris = load_iris()\n",
    "cancer = load_breast_cancer()"
   ]
  },
  {
   "cell_type": "code",
   "execution_count": 8,
   "metadata": {},
   "outputs": [
    {
     "name": "stderr",
     "output_type": "stream",
     "text": [
      "C:\\Users\\dell\\Anaconda3\\lib\\site-packages\\sklearn\\linear_model\\logistic.py:432: FutureWarning: Default solver will be changed to 'lbfgs' in 0.22. Specify a solver to silence this warning.\n",
      "  FutureWarning)\n",
      "C:\\Users\\dell\\Anaconda3\\lib\\site-packages\\sklearn\\linear_model\\logistic.py:469: FutureWarning: Default multi_class will be changed to 'auto' in 0.22. Specify the multi_class option to silence this warning.\n",
      "  \"this warning.\", FutureWarning)\n"
     ]
    },
    {
     "data": {
      "text/plain": [
       "<matplotlib.collections.PolyCollection at 0x1bdfe098dd8>"
      ]
     },
     "execution_count": 8,
     "metadata": {},
     "output_type": "execute_result"
    },
    {
     "data": {
      "image/png": "[encoded data removed]",
      "text/plain": [
       "<Figure size 432x288 with 1 Axes>"
      ]
     },
     "metadata": {
      "needs_background": "light"
     },
     "output_type": "display_data"
    }
   ],
   "source": [
    "from sklearn.model_selection import train_test_split\n",
    "x_train, x_test, y_train, y_test = train_test_split(iris.data, iris.target, random_state = 6)\n",
    "clf = LogisticRegression()\n",
    "clf.fit(x_train, y_train)\n",
    "y_pred = clf.predict(x_test)\n",
    "matrix = confusion_matrix(y_test, y_pred)\n",
    "\n",
    "ax = plt.subplot()\n",
    "mglearn.tools.heatmap(matrix.T, xlabel = 'True value', ylabel = 'Predicted', xticklabels = iris.target_names, yticklabels = iris.target_names)\n"
   ]
  },
  {
   "cell_type": "markdown",
   "metadata": {},
   "source": [
    "# Precision, recall, f1-score"
   ]
  },
  {
   "cell_type": "code",
   "execution_count": 26,
   "metadata": {},
   "outputs": [
    {
     "data": {
      "image/png": "[encoded data removed]",
      "text/plain": [
       "<Figure size 432x288 with 1 Axes>"
      ]
     },
     "metadata": {
      "needs_background": "light"
     },
     "output_type": "display_data"
    }
   ],
   "source": [
    "mglearn.plots.plot_binary_confusion_matrix()"
   ]
  },
  {
   "cell_type": "markdown",
   "metadata": {},
   "source": [
    "### Precision"
   ]
  },
  {
   "cell_type": "markdown",
   "metadata": {},
   "source": [
    "Precison = $\\frac{TP}{TP + FP}$\n",
    "<p class = 'tag'>The precision is\n",
    "intuitively the ability of the classifier not to label as positive a sample\n",
    "that is negative</p>\n",
    "Precision is used as a performance metric when the goal is to limit the number of\n",
    "false positives. As an example, imagine a model for predicting whether a new drug\n",
    "will be effective in treating a disease in clinical trials. Clinical trials are notoriously\n",
    "expensive, and a pharmaceutical company will only want to run an experiment if it is\n",
    "very sure that the drug will actually work. Therefore, it is important that the model\n",
    "does not produce many false positives—in other words, that it has a high precision.\n",
    "Precision is also known as positive predictive value (PPV)."
   ]
  },
  {
   "cell_type": "markdown",
   "metadata": {},
   "source": [
    "### Recall"
   ]
  },
  {
   "cell_type": "markdown",
   "metadata": {},
   "source": [
    "Recall = $\\frac{TP}{TP + FN}$\n",
    "<p class = 'tag'>The recall is\n",
    "intuitively the ability of the classifier to find all the positive samples</p>\n",
    "<span class = 'note'>Recall is used as performance metric when we need to identify all positive samples</span>;\n",
    "<br>\n",
    "<span class = 'highlight'>E.g: identify people who have cancer diseases</span>\n",
    "<br>\n",
    "that is, when it is important to avoid false negatives. The cancer diagnosis example\n",
    "from earlier in this chapter is a good example for this: it is important to find all peo‐\n",
    "ple that are sick, possibly including healthy patients in the prediction. Other names\n",
    "for recall are sensitivity, hit rate, or true positive rate (TPR).\n",
    "There is a trade-off between optimizing recall and optimizing precision. You "
   ]
  },
  {
   "cell_type": "markdown",
   "metadata": {},
   "source": [
    "### F1 score"
   ]
  },
  {
   "cell_type": "markdown",
   "metadata": {},
   "source": [
    "F = 2$\\frac{precision.recall}{precision + recall}$\n",
    "\n",
    "It takes precision and recall\n",
    "into account, it can be a better measure than accuracy on <b>imbalanced binary classification datasets</b>."
   ]
  },
  {
   "cell_type": "code",
   "execution_count": 18,
   "metadata": {},
   "outputs": [],
   "source": [
    "from sklearn.metrics import classification_report\n",
    "from sklearn.preprocessing import StandardScaler\n",
    "X, y = StandardScaler().fit_transform(cancer.data), cancer.target\n",
    "x_train, x_test, y_train, y_test = train_test_split(X, y, train_size = .8, test_size = .2, random_state = 6)\n",
    "def report(model):\n",
    "    model.fit(x_train, y_train)\n",
    "    y_pred = model.predict(x_test)\n",
    "    print(classification_report(y_test, y_pred))\n"
   ]
  },
  {
   "cell_type": "code",
   "execution_count": 23,
   "metadata": {},
   "outputs": [
    {
     "name": "stdout",
     "output_type": "stream",
     "text": [
      "              precision    recall  f1-score   support\n",
      "\n",
      "           0       0.98      0.98      0.98        56\n",
      "           1       0.98      0.98      0.98        58\n",
      "\n",
      "    accuracy                           0.98       114\n",
      "   macro avg       0.98      0.98      0.98       114\n",
      "weighted avg       0.98      0.98      0.98       114\n",
      "\n"
     ]
    },
    {
     "name": "stderr",
     "output_type": "stream",
     "text": [
      "C:\\Users\\dell\\Anaconda3\\lib\\site-packages\\sklearn\\linear_model\\logistic.py:432: FutureWarning: Default solver will be changed to 'lbfgs' in 0.22. Specify a solver to silence this warning.\n",
      "  FutureWarning)\n"
     ]
    }
   ],
   "source": [
    "report(LogisticRegression())"
   ]
  },
  {
   "cell_type": "code",
   "execution_count": 24,
   "metadata": {},
   "outputs": [
    {
     "name": "stdout",
     "output_type": "stream",
     "text": [
      "              precision    recall  f1-score   support\n",
      "\n",
      "           0       1.00      0.95      0.97        56\n",
      "           1       0.95      1.00      0.97        58\n",
      "\n",
      "    accuracy                           0.97       114\n",
      "   macro avg       0.98      0.97      0.97       114\n",
      "weighted avg       0.97      0.97      0.97       114\n",
      "\n"
     ]
    },
    {
     "name": "stderr",
     "output_type": "stream",
     "text": [
      "C:\\Users\\dell\\Anaconda3\\lib\\site-packages\\sklearn\\svm\\base.py:193: FutureWarning: The default value of gamma will change from 'auto' to 'scale' in version 0.22 to account better for unscaled features. Set gamma explicitly to 'auto' or 'scale' to avoid this warning.\n",
      "  \"avoid this warning.\", FutureWarning)\n"
     ]
    }
   ],
   "source": [
    "report(SVC())"
   ]
  },
  {
   "cell_type": "markdown",
   "metadata": {},
   "source": [
    "## Precision-recall curve"
   ]
  },
  {
   "cell_type": "code",
   "execution_count": 42,
   "metadata": {},
   "outputs": [
    {
     "name": "stdout",
     "output_type": "stream",
     "text": [
      "1\n"
     ]
    },
    {
     "name": "stderr",
     "output_type": "stream",
     "text": [
      "C:\\Users\\dell\\Anaconda3\\lib\\site-packages\\sklearn\\linear_model\\logistic.py:432: FutureWarning: Default solver will be changed to 'lbfgs' in 0.22. Specify a solver to silence this warning.\n",
      "  FutureWarning)\n"
     ]
    },
    {
     "data": {
      "text/plain": [
       "array([-9.61921983e-03,  4.72024823e-01,  7.71248864e-01,  1.74528430e+00,\n",
       "        1.75855412e+00,  1.75885220e+00,  2.20506587e+00,  2.20597050e+00,\n",
       "        2.56773189e+00,  2.57341373e+00,  2.86356099e+00,  2.93153782e+00,\n",
       "        3.09628248e+00,  3.13061595e+00,  3.16784913e+00,  3.31369780e+00,\n",
       "        3.65184784e+00,  3.70930099e+00,  3.73541111e+00,  3.74975186e+00,\n",
       "        3.78303950e+00,  4.08956873e+00,  4.13525838e+00,  4.18574512e+00,\n",
       "        4.21048441e+00,  4.28050649e+00,  4.52508621e+00,  4.71037699e+00,\n",
       "        4.77907089e+00,  5.04068668e+00,  5.06625189e+00,  5.19686616e+00,\n",
       "        5.19895201e+00,  5.21685377e+00,  5.29387625e+00,  6.45259963e+00,\n",
       "        6.45626304e+00,  6.57737325e+00,  6.73886782e+00,  6.80218706e+00,\n",
       "        7.27921662e+00,  7.29636195e+00,  7.76134398e+00,  7.76220556e+00,\n",
       "        8.03630065e+00,  8.05713335e+00,  8.06552678e+00,  8.11042033e+00,\n",
       "        8.18446969e+00,  8.58140039e+00,  8.71602263e+00,  9.47114015e+00,\n",
       "        9.66376487e+00,  1.03082487e+01,  1.04930989e+01,  1.09797677e+01,\n",
       "        1.12088540e+01,  1.22333260e+01,  1.24222297e+01])"
      ]
     },
     "execution_count": 42,
     "metadata": {},
     "output_type": "execute_result"
    },
    {
     "data": {
      "image/png": "[encoded data removed]",
      "text/plain": [
       "<Figure size 432x288 with 1 Axes>"
      ]
     },
     "metadata": {
      "needs_background": "light"
     },
     "output_type": "display_data"
    }
   ],
   "source": [
    "from sklearn.metrics import precision_recall_curve\n",
    "model = LogisticRegression()\n",
    "model.fit(x_train, y_train)\n",
    "#How this work?\n",
    "#First we compute the decision function on the test set\n",
    "#then the precision_recall_curve will try different values for THRESHOLD\n",
    "#for each THRESHOLD, we will get Y_PRED for the test set\n",
    "#then we compute PRECISION and RECALL from Y_TEST and Y_PREDICT\n",
    "precision, recall, threshold = precision_recall_curve(y_test, model.decision_function(x_test))\n",
    "\n",
    "zero_index = np.searchsorted(threshold, 0)\n",
    "plt.plot(recall, precision, label = 'precision-recall curve')\n",
    "plt.scatter(recall[zero_index], precision[zero_index], label = 'zero threshold')\n",
    "plt.xlabel('recall')\n",
    "plt.ylabel('precision')\n",
    "print(zero_index)\n",
    "plt.legend()\n",
    "threshold"
   ]
  },
  {
   "cell_type": "markdown",
   "metadata": {},
   "source": [
    "<p class = 'note'>Each point along the curve in Figure 5-13 corresponds to a possible threshold of the\n",
    "decision_function\n",
    "<br>\n",
    "The closer a curve stays to the upper-right corner, the better the classifier. A point at\n",
    "the upper right means high precision and high recall for the same threshold. \n",
    "</p>"
   ]
  },
  {
   "cell_type": "markdown",
   "metadata": {},
   "source": [
    "### <h3>Summarize the precision-recall curve"
   ]
  },
  {
   "cell_type": "markdown",
   "metadata": {},
   "source": [
    "<p>\n",
    "t. One particular way to summarize the precision-recall curve is\n",
    "by computing the integral or area under the curve of the precision-recall curve, also\n",
    "known as the <b>average precision</b>.\n",
    "4\n",
    "    You can use the <code>average_precision_score</code> function\n",
    "to compute the average precision. Because we need to compute the ROC curve and\n",
    "    consider multiple thresholds, the result of <code>decision_function</code> or <code>predict_proba</code>\n",
    "    needs to be passed to <code>average_precision_score</code>, not the result of predict:\n",
    "</p>"
   ]
  },
  {
   "cell_type": "code",
   "execution_count": 48,
   "metadata": {},
   "outputs": [
    {
     "data": {
      "text/plain": [
       "[<matplotlib.lines.Line2D at 0x1bd8281b710>,\n",
       " <matplotlib.lines.Line2D at 0x1bdffc738d0>]"
      ]
     },
     "execution_count": 48,
     "metadata": {},
     "output_type": "execute_result"
    },
    {
     "data": {
      "image/png": "[encoded data removed]",
      "text/plain": [
       "<Figure size 432x288 with 1 Axes>"
      ]
     },
     "metadata": {
      "needs_background": "light"
     },
     "output_type": "display_data"
    }
   ],
   "source": [
    "from sklearn.metrics import average_precision_score\n",
    "from sklearn.datasets import make_blobs\n",
    "X, y = make_blobs(n_samples=(4000, 500), centers=[[1, 1], [2,2]], cluster_std=[7.0, 2],\n",
    " random_state=22)\n",
    "x_train, x_test, y_train, y_test = train_test_split(X, y, random_state=0)\n",
    "mglearn.discrete_scatter(X[:,0], X[:,1], y)"
   ]
  },
  {
   "cell_type": "code",
   "execution_count": 49,
   "metadata": {},
   "outputs": [
    {
     "name": "stderr",
     "output_type": "stream",
     "text": [
      "C:\\Users\\dell\\Anaconda3\\lib\\site-packages\\sklearn\\svm\\base.py:193: FutureWarning: The default value of gamma will change from 'auto' to 'scale' in version 0.22 to account better for unscaled features. Set gamma explicitly to 'auto' or 'scale' to avoid this warning.\n",
      "  \"avoid this warning.\", FutureWarning)\n",
      "C:\\Users\\dell\\Anaconda3\\lib\\site-packages\\sklearn\\linear_model\\logistic.py:432: FutureWarning: Default solver will be changed to 'lbfgs' in 0.22. Specify a solver to silence this warning.\n",
      "  FutureWarning)\n"
     ]
    },
    {
     "name": "stdout",
     "output_type": "stream",
     "text": [
      "SVM Average precision score: 0.48\n",
      "Logistic Average precision score: 0.13\n"
     ]
    }
   ],
   "source": [
    "svm = SVC().fit(x_train, y_train)\n",
    "logreg = LogisticRegression().fit(x_train, y_train)\n",
    "svm_score = average_precision_score(y_test, svm.decision_function(x_test))\n",
    "log_score = average_precision_score(y_test, logreg.decision_function(x_test))\n",
    "print('SVM Average precision score: %.2f' % svm_score)\n",
    "print('Logistic Average precision score: %.2f' % log_score)"
   ]
  },
  {
   "cell_type": "markdown",
   "metadata": {},
   "source": [
    "<p class = 'note'>From the above information, we can see that SVM performances much more better than Logistic Regression on this dataset</p>"
   ]
  },
  {
   "cell_type": "markdown",
   "metadata": {},
   "source": [
    "For more detail and insight, we can plot 2 precision-recall curve for SVM and LogisticRegression respectively:"
   ]
  },
  {
   "cell_type": "code",
   "execution_count": 51,
   "metadata": {},
   "outputs": [
    {
     "data": {
      "text/plain": [
       "<matplotlib.legend.Legend at 0x1bd8106ec88>"
      ]
     },
     "execution_count": 51,
     "metadata": {},
     "output_type": "execute_result"
    },
    {
     "data": {
      "image/png": "[encoded data removed]",
      "text/plain": [
       "<Figure size 432x288 with 1 Axes>"
      ]
     },
     "metadata": {
      "needs_background": "light"
     },
     "output_type": "display_data"
    }
   ],
   "source": [
    "def plot_prc(model,label, ls = '-'):\n",
    "    precision, recall, thresholds = precision_recall_curve(y_test, model.decision_function(x_test))\n",
    "    plt.plot(precision, recall, label = label, ls = ls)\n",
    "    plt.xlabel('Precision')\n",
    "    plt.ylabel('Recall')\n",
    "plot_prc(svm, 'SVM')\n",
    "plot_prc(logreg, 'Logistic Regression', '--')\n",
    "plt.legend()"
   ]
  },
  {
   "cell_type": "markdown",
   "metadata": {},
   "source": [
    "## Receiver operating characteristics (ROC) and AUC"
   ]
  },
  {
   "cell_type": "markdown",
   "metadata": {},
   "source": [
    "### ROC"
   ]
  },
  {
   "cell_type": "markdown",
   "metadata": {},
   "source": [
    "<p class = 'highlight'>it shows the <u>false positive rate</u> (FPR) against the <u>true positive rate</u> (TPR).</p>\n",
    "\n",
    "\n",
    "<span style='fontsize: 24px'>$TPR(Recall) = \\frac{TP}{TP + FN}$</span>"
   ]
  },
  {
   "cell_type": "markdown",
   "metadata": {},
   "source": [
    "The ROC curve can be computed using the <span class = 'tag'>roc_curve</span> function "
   ]
  },
  {
   "cell_type": "code",
   "execution_count": 54,
   "metadata": {},
   "outputs": [],
   "source": [
    "from sklearn.metrics import roc_curve"
   ]
  },
  {
   "cell_type": "code",
   "execution_count": 55,
   "metadata": {},
   "outputs": [],
   "source": [
    "def plot_roc_curve(model):\n",
    "    fpr, tpf, thresholds = roc_curve(y_test, model.decision_function(x_test))\n",
    "    plt.plot(fpr, tpf)\n",
    "    plt.xlabel('FPR = 1 - TPR')\n",
    "    plt.ylabel('TPR (Recall)')\n"
   ]
  },
  {
   "cell_type": "code",
   "execution_count": 57,
   "metadata": {},
   "outputs": [
    {
     "data": {
      "text/plain": [
       "Text(0.5, 1.0, 'Logistic Regression')"
      ]
     },
     "execution_count": 57,
     "metadata": {},
     "output_type": "execute_result"
    },
    {
     "data": {
      "image/png": "[encoded data removed]",
      "text/plain": [
       "<Figure size 432x288 with 1 Axes>"
      ]
     },
     "metadata": {
      "needs_background": "light"
     },
     "output_type": "display_data"
    }
   ],
   "source": [
    "plot_roc_curve(logreg)\n",
    "plt.title('Logistic Regression')"
   ]
  },
  {
   "cell_type": "code",
   "execution_count": 58,
   "metadata": {},
   "outputs": [
    {
     "data": {
      "text/plain": [
       "Text(0.5, 1.0, 'SVM')"
      ]
     },
     "execution_count": 58,
     "metadata": {},
     "output_type": "execute_result"
    },
    {
     "data": {
      "image/png": "[encoded data removed]",
      "text/plain": [
       "<Figure size 432x288 with 1 Axes>"
      ]
     },
     "metadata": {
      "needs_background": "light"
     },
     "output_type": "display_data"
    }
   ],
   "source": [
    "plot_roc_curve(svm)\n",
    "plt.title('SVM')"
   ]
  },
  {
   "cell_type": "markdown",
   "metadata": {},
   "source": [
    "<p class = 'highlight'>\n",
    "For the ROC curve, the ideal curve is close to the top left: you want a classifier that\n",
    "produces a high recall while keeping a low false positive rate.\n",
    "</p>"
   ]
  },
  {
   "cell_type": "markdown",
   "metadata": {},
   "source": [
    "### AUC: Summarizing ROC "
   ]
  },
  {
   "cell_type": "markdown",
   "metadata": {},
   "source": [
    "<p>We can compute the area under the ROC curve using the <span class = 'tag'>roc_auc_score</span> function</p>"
   ]
  },
  {
   "cell_type": "code",
   "execution_count": 59,
   "metadata": {},
   "outputs": [
    {
     "name": "stdout",
     "output_type": "stream",
     "text": [
      "SVM AUC score: 0.77\n",
      "Logistic AUC score: 0.57\n"
     ]
    }
   ],
   "source": [
    "from sklearn.metrics import roc_auc_score\n",
    "svm_auc = roc_auc_score(y_test, svm.decision_function(x_test))\n",
    "log_auc = roc_auc_score(y_test, logreg.decision_function(x_test))\n",
    "print('SVM AUC score: %.2f' % svm_auc)\n",
    "print('Logistic AUC score: %.2f' % log_auc)"
   ]
  },
  {
   "cell_type": "markdown",
   "metadata": {},
   "source": [
    "<p class = 'warning'> For classification problems with imbalanced classes, using AUC for model\n",
    "selection is often much more meaningful than using accuracy.\n",
    "</p>"
   ]
  },
  {
   "cell_type": "markdown",
   "metadata": {},
   "source": [
    "## Multiclass"
   ]
  },
  {
   "cell_type": "markdown",
   "metadata": {},
   "source": [
    "<p class = 'note'>The most commonly used metric for imbalanced datasets in the multiclass setting is\n",
    "the multiclass version of the f-score</p>"
   ]
  },
  {
   "cell_type": "markdown",
   "metadata": {},
   "source": [
    "Then, these per-class f-scores are averaged\n",
    "using one of the following strategies:\n",
    "<ul>\n",
    "<li>\"macro\" averaging computes the unweighted per-class f-scores. This gives equal\n",
    "    weight to all classes, no matter what their size is.</li>\n",
    "<li> \"weighted\" averaging computes the mean of the per-class f-scores, weighted by\n",
    "    their support. This is what is reported in the classification report.</li>\n",
    "<li>\"micro\" averaging computes the total number of false positives, false negatives,\n",
    "and true positives over all classes, and then computes precision, recall, and fscore using these counts.</li>\n"
   ]
  },
  {
   "cell_type": "code",
   "execution_count": 63,
   "metadata": {},
   "outputs": [
    {
     "data": {
      "text/plain": [
       "0.8933333333333333"
      ]
     },
     "execution_count": 63,
     "metadata": {},
     "output_type": "execute_result"
    }
   ],
   "source": [
    "from sklearn.metrics import f1_score\n",
    "y_pred = svm.predict(x_test)\n",
    "f1_score(y_test, y_pred, average = 'micro')"
   ]
  },
  {
   "cell_type": "code",
   "execution_count": 64,
   "metadata": {},
   "outputs": [
    {
     "data": {
      "text/plain": [
       "0.7048690055615796"
      ]
     },
     "execution_count": 64,
     "metadata": {},
     "output_type": "execute_result"
    }
   ],
   "source": [
    "f1_score(y_test, y_pred, average = 'macro')"
   ]
  },
  {
   "cell_type": "markdown",
   "metadata": {},
   "source": [
    "<p class = 'highlight'>If you care about each sample equally much, it is recommended to use the \"micro\"\n",
    "average f1\n",
    "-score; if you care about each class equally much, it is recommended to use\n",
    "the \"macro\" average f1\n",
    "-score</p>"
   ]
  },
  {
   "cell_type": "markdown",
   "metadata": {},
   "source": [
    "# Model selection by using Evaluation metrics"
   ]
  },
  {
   "cell_type": "markdown",
   "metadata": {},
   "source": [
    "<b>Problem:</b><br>\n",
    "By default, grid search choses the best model by using accuracy_score, how do we can use other criterias, like based on <code>AUC</code>?\n",
    "\n",
    "<p class = 'highlight'>Solution:  Changing the score from the default (accuracy) to AUC can be done by providing \"roc_auc\" as the scoring parameter:</p>"
   ]
  },
  {
   "cell_type": "code",
   "execution_count": 70,
   "metadata": {},
   "outputs": [
    {
     "name": "stdout",
     "output_type": "stream",
     "text": [
      "Best AUC score: 0.96\n"
     ]
    }
   ],
   "source": [
    "from sklearn.model_selection import GridSearchCV\n",
    "X, y = cancer.data, cancer.target\n",
    "\n",
    "grid_param = {'C' : [.01, .1, 1, 10, 100], 'gamma' : [.001, .01, .1, 1, 10]}\n",
    "grid = GridSearchCV(SVC(), grid_param, scoring = 'roc_auc', cv = 5)\n",
    "grid.fit(X, y)\n",
    "print('Best AUC score: %.2f' % grid.best_score_)"
   ]
  },
  {
   "cell_type": "markdown",
   "metadata": {},
   "source": [
    "<h3>Cross-validation by using Evaluation metrics</h3>"
   ]
  },
  {
   "cell_type": "code",
   "execution_count": 74,
   "metadata": {},
   "outputs": [
    {
     "data": {
      "text/plain": [
       "array([0.99606064, 0.99633239, 0.99890251, 0.98633678, 0.99861043])"
      ]
     },
     "execution_count": 74,
     "metadata": {},
     "output_type": "execute_result"
    }
   ],
   "source": [
    "from sklearn.model_selection import cross_val_score\n",
    "scores = cross_val_score(LogisticRegression(solver = 'lbfgs', max_iter = 10000), X, y, cv = 5, scoring = 'average_precision')\n",
    "scores"
   ]
  },
  {
   "cell_type": "markdown",
   "metadata": {},
   "source": [
    "<h3>Available options for the <i>keyword</i>: <code>scoring</code></h3>"
   ]
  },
  {
   "cell_type": "code",
   "execution_count": 76,
   "metadata": {},
   "outputs": [
    {
     "data": {
      "text/plain": [
       "dict_keys(['explained_variance', 'r2', 'max_error', 'neg_median_absolute_error', 'neg_mean_absolute_error', 'neg_mean_squared_error', 'neg_mean_squared_log_error', 'accuracy', 'roc_auc', 'balanced_accuracy', 'average_precision', 'neg_log_loss', 'brier_score_loss', 'adjusted_rand_score', 'homogeneity_score', 'completeness_score', 'v_measure_score', 'mutual_info_score', 'adjusted_mutual_info_score', 'normalized_mutual_info_score', 'fowlkes_mallows_score', 'precision', 'precision_macro', 'precision_micro', 'precision_samples', 'precision_weighted', 'recall', 'recall_macro', 'recall_micro', 'recall_samples', 'recall_weighted', 'f1', 'f1_macro', 'f1_micro', 'f1_samples', 'f1_weighted', 'jaccard', 'jaccard_macro', 'jaccard_micro', 'jaccard_samples', 'jaccard_weighted'])"
      ]
     },
     "execution_count": 76,
     "metadata": {},
     "output_type": "execute_result"
    }
   ],
   "source": [
    "from sklearn.metrics.scorer import SCORERS\n",
    "SCORERS.keys()"
   ]
  }
 ],
 "metadata": {
  "kernelspec": {
   "display_name": "Python 3",
   "language": "python",
   "name": "python3"
  },
  "language_info": {
   "codemirror_mode": {
    "name": "ipython",
    "version": 3
   },
   "file_extension": ".py",
   "mimetype": "text/x-python",
   "name": "python",
   "nbconvert_exporter": "python",
   "pygments_lexer": "ipython3",
   "version": "3.7.3"
  }
 },
 "nbformat": 4,
 "nbformat_minor": 2
}
