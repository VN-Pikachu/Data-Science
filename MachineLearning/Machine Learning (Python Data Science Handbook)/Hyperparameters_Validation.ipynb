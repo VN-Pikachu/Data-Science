{
 "cells": [
  {
   "cell_type": "markdown",
   "metadata": {},
   "source": [
    "# Cross Validation"
   ]
  },
  {
   "cell_type": "code",
   "execution_count": 7,
   "metadata": {},
   "outputs": [
    {
     "data": {
      "text/plain": [
       "array([0.93333333, 0.96666667, 0.93333333, 0.93333333, 1.        ])"
      ]
     },
     "execution_count": 7,
     "metadata": {},
     "output_type": "execute_result"
    }
   ],
   "source": [
    "from sklearn.datasets import load_iris\n",
    "from sklearn.model_selection import cross_val_score\n",
    "from sklearn.naive_bayes import GaussianNB\n",
    "iris = load_iris()\n",
    "model = GaussianNB()\n",
    "score_for_each_fold = cross_val_score(model, iris.data, iris.target, cv = 5) #Cross Validation: 5 fold\n",
    "#Score_for_each_fold[i] : the accuracy score for the i-th fold\n",
    "score_for_each_fold"
   ]
  },
  {
   "cell_type": "markdown",
   "metadata": {},
   "source": [
    "# Validation Curve"
   ]
  },
  {
   "cell_type": "code",
   "execution_count": 29,
   "metadata": {},
   "outputs": [
    {
     "data": {
      "text/html": [
       "<style>\n",
       "b {\n",
       "    background: teal;\n",
       "    color : white;\n",
       "    padding: 3px 5px;\n",
       "}\n",
       "</style>\n",
       "<h2>Plot <b>Train Score</b> and <b>Test Score</b> for different values of a <b>Parameter</b> of a <b>Model</b></h2>\n"
      ],
      "text/plain": [
       "<IPython.core.display.HTML object>"
      ]
     },
     "metadata": {},
     "output_type": "display_data"
    }
   ],
   "source": [
    "%%HTML\n",
    "<style>\n",
    "b {\n",
    "    background: teal;\n",
    "    color : white;\n",
    "    padding: 3px 5px;\n",
    "}\n",
    "</style>\n",
    "<h2>Plot <b>Train Score</b> and <b>Test Score</b> for different values of a <b>Parameter</b> of a <b>Model</b></h2>"
   ]
  },
  {
   "cell_type": "code",
   "execution_count": 21,
   "metadata": {},
   "outputs": [],
   "source": [
    "import numpy as np\n",
    "import numpy as np\n",
    "\n",
    "def make_data(N, err=1.0, rseed=1):\n",
    "    # randomly sample the data\n",
    "    rng = np.random.RandomState(rseed)\n",
    "    X = rng.rand(N, 1) ** 2\n",
    "    y = 10 - 1. / (X.ravel() + 0.1)\n",
    "    if err > 0:\n",
    "        y += err * rng.randn(N)\n",
    "    return X, y\n",
    "\n",
    "X, y = make_data(40)"
   ]
  },
  {
   "cell_type": "code",
   "execution_count": 39,
   "metadata": {},
   "outputs": [
    {
     "data": {
      "text/plain": [
       "dict_keys(['memory', 'steps', 'verbose', 'polynomialfeatures', 'linearregression', 'polynomialfeatures__degree', 'polynomialfeatures__include_bias', 'polynomialfeatures__interaction_only', 'polynomialfeatures__order', 'linearregression__copy_X', 'linearregression__fit_intercept', 'linearregression__n_jobs', 'linearregression__normalize'])"
      ]
     },
     "execution_count": 39,
     "metadata": {},
     "output_type": "execute_result"
    }
   ],
   "source": [
    "from sklearn.pipeline import make_pipeline\n",
    "from sklearn.preprocessing import PolynomialFeatures\n",
    "from sklearn.linear_model import LinearRegression\n",
    "def PolynomialRegression(degree = 2, **kwargs):\n",
    "    return make_pipeline(PolynomialFeatures(degree), LinearRegression(**kwargs))\n",
    "PolynomialRegression().get_params().keys()"
   ]
  },
  {
   "cell_type": "code",
   "execution_count": 40,
   "metadata": {},
   "outputs": [
    {
     "name": "stdout",
     "output_type": "stream",
     "text": [
      "Exception reporting mode: Plain\n"
     ]
    },
    {
     "data": {
      "text/plain": [
       "(array([[0.71469019, 0.71586162, 0.76727921, 0.70766539, 0.71499241],\n",
       "        [0.89413781, 0.88248815, 0.90829697, 0.87972563, 0.90847575],\n",
       "        [0.92520846, 0.93334   , 0.95899026, 0.91606433, 0.93572634],\n",
       "        [0.93587084, 0.95074453, 0.96604063, 0.93028939, 0.94435724],\n",
       "        [0.93915599, 0.95185182, 0.96605692, 0.93089664, 0.94645919],\n",
       "        [0.94141775, 0.95246147, 0.96773124, 0.93286909, 0.94755474],\n",
       "        [0.94297978, 0.95302912, 0.96774457, 0.93366267, 0.95200763],\n",
       "        [0.94298132, 0.95381995, 0.96889269, 0.93369183, 0.95227903],\n",
       "        [0.94866279, 0.95442657, 0.97067738, 0.93686825, 0.95236701],\n",
       "        [0.94867303, 0.95638686, 0.97392267, 0.93983835, 0.95528966],\n",
       "        [0.94918109, 0.9563877 , 0.97394995, 0.94264752, 0.95966939],\n",
       "        [0.95675049, 0.96287427, 0.97395   , 0.94345827, 0.96035077],\n",
       "        [0.9589008 , 0.96517089, 0.97628315, 0.94435956, 0.96035174],\n",
       "        [0.95920027, 0.96605177, 0.97719146, 0.94627095, 0.96038424],\n",
       "        [0.96019497, 0.96633439, 0.97772379, 0.94673226, 0.96236768],\n",
       "        [0.9602185 , 0.96648351, 0.98010707, 0.94690735, 0.96239418],\n",
       "        [0.96025838, 0.97240033, 0.98126541, 0.94699535, 0.97043443],\n",
       "        [0.9602639 , 0.97272261, 0.98169641, 0.95639869, 0.97059439],\n",
       "        [0.97196566, 0.97554409, 0.98183763, 0.95749383, 0.97059358],\n",
       "        [0.97226319, 0.97630532, 0.98271523, 0.96132473, 0.97059977]]),\n",
       " array([[ 5.74260318e-01,  7.62544777e-01,  3.93264404e-01,\n",
       "          7.15413922e-01,  6.26761671e-01],\n",
       "        [ 8.20509930e-01,  9.65991675e-01,  7.85540197e-01,\n",
       "          9.07449685e-01,  7.41069986e-01],\n",
       "        [ 9.24750964e-01,  9.07524635e-01,  6.98203812e-01,\n",
       "          9.60312480e-01,  8.72207566e-01],\n",
       "        [ 9.55929058e-01,  8.80660047e-01,  7.78804423e-01,\n",
       "          9.65403697e-01,  9.01809959e-01],\n",
       "        [ 9.42435027e-01,  8.84169090e-01,  7.79913835e-01,\n",
       "          9.70782899e-01,  8.94707517e-01],\n",
       "        [ 9.28834896e-01,  8.86490374e-01,  7.10274661e-01,\n",
       "          9.62018456e-01,  8.97429167e-01],\n",
       "        [ 9.30643492e-01,  8.91257661e-01,  7.18882933e-01,\n",
       "          9.64046507e-01,  8.58879170e-01],\n",
       "        [ 9.30682425e-01,  8.80283728e-01,  4.39566616e-01,\n",
       "          9.62930774e-01,  8.62888881e-01],\n",
       "        [ 9.07279461e-01,  8.92117662e-01,  7.16204491e-01,\n",
       "          9.71461342e-01,  8.39669679e-01],\n",
       "        [ 9.05134851e-01,  8.86638258e-01, -5.79880688e+00,\n",
       "          9.67138847e-01, -4.20856187e-01],\n",
       "        [ 8.95436592e-01,  8.86554386e-01, -3.19088164e+00,\n",
       "          9.15281404e-01, -5.03942702e+01],\n",
       "        [ 8.78977989e-01,  8.72585785e-01, -2.91622618e+00,\n",
       "          9.62804484e-01, -3.95642653e+02],\n",
       "        [ 8.72724234e-01,  8.61284583e-01, -8.45516368e+03,\n",
       "          9.53669761e-01, -3.51018719e+02],\n",
       "        [ 8.77192400e-01,  8.60696735e-01, -6.21965485e+03,\n",
       "         -5.64177100e-02, -7.97201267e+01],\n",
       "        [ 8.80082942e-01,  8.68754310e-01, -1.04176203e+05,\n",
       "         -6.32367806e+00, -3.74744963e+04],\n",
       "        [ 8.76672411e-01,  8.72496271e-01, -4.87528682e+05,\n",
       "         -5.72427006e+01, -1.18393434e+05],\n",
       "        [ 8.72334052e-01,  6.75986749e-01, -2.02197074e+07,\n",
       "         -1.48664773e-02, -8.26003202e+08],\n",
       "        [ 8.72626136e-01,  6.92478069e-01, -2.69337504e+08,\n",
       "         -6.43998824e+05, -1.81862574e+09],\n",
       "        [-2.42991211e+00, -4.63899305e-01, -1.12887770e+09,\n",
       "         -1.65060248e+06, -1.88778151e+09],\n",
       "        [-2.61099890e+00, -7.66892059e-01, -6.79538854e+10,\n",
       "         -2.55570539e+07, -1.39731887e+09]]))"
      ]
     },
     "execution_count": 40,
     "metadata": {},
     "output_type": "execute_result"
    }
   ],
   "source": [
    "%xmode plain\n",
    "from sklearn.model_selection import validation_curve\n",
    "# validation_curve?\n",
    "degree_range = range(1,21)\n",
    "#For each different value of the keyword: degree in PolynomialRegression Model:\n",
    "#Apply Cross-validation with 5-fold\n",
    "#train_scores.shape :  (n_ticks, n_cv_folds)\n",
    "#test_scores.shape: (n_ticks, n_cv_folds)\n",
    "train_scores, test_scores = validation_curve(PolynomialRegression(), X, y, param_name = 'polynomialfeatures__degree', \n",
    "                                             param_range = degree_range, cv = 5)\n",
    "train_scores, test_scores\n"
   ]
  },
  {
   "cell_type": "code",
   "execution_count": 46,
   "metadata": {},
   "outputs": [
    {
     "data": {
      "text/plain": [
       "array([0.72409776, 0.89462486, 0.93386588, 0.94546053, 0.94688411,\n",
       "       0.94840686, 0.94988476, 0.95033296, 0.9526004 , 0.95482211,\n",
       "       0.95636713, 0.95947676, 0.96101323, 0.96181974, 0.96267062,\n",
       "       0.96322212, 0.96627078, 0.9683352 , 0.97148696, 0.97264165])"
      ]
     },
     "execution_count": 46,
     "metadata": {},
     "output_type": "execute_result"
    }
   ],
   "source": [
    "np.mean(train_scores, axis = 1)"
   ]
  },
  {
   "cell_type": "code",
   "execution_count": 47,
   "metadata": {},
   "outputs": [
    {
     "data": {
      "text/plain": [
       "array([ 6.14449018e-01,  8.44112295e-01,  8.72599891e-01,  8.96521437e-01,\n",
       "        8.94401674e-01,  8.77009511e-01,  8.72741953e-01,  8.15270485e-01,\n",
       "        8.65346527e-01, -6.92150223e-01, -1.01775759e+01, -7.91689023e+01,\n",
       "       -1.76069895e+03, -1.25953870e+03, -2.83310548e+04, -1.21195522e+05,\n",
       "       -1.69244582e+08, -4.17721448e+08, -6.03661965e+08, -1.38753523e+10])"
      ]
     },
     "execution_count": 47,
     "metadata": {},
     "output_type": "execute_result"
    }
   ],
   "source": [
    "np.mean(test_scores, axis = 1)"
   ]
  },
  {
   "cell_type": "code",
   "execution_count": 54,
   "metadata": {},
   "outputs": [
    {
     "data": {
      "text/plain": [
       "(0, 1)"
      ]
     },
     "execution_count": 54,
     "metadata": {},
     "output_type": "execute_result"
    },
    {
     "data": {
      "image/png": "[encoded data removed]",
      "text/plain": [
       "<Figure size 432x288 with 1 Axes>"
      ]
     },
     "metadata": {},
     "output_type": "display_data"
    }
   ],
   "source": [
    "import matplotlib.pyplot as plt;\n",
    "import seaborn as sns;\n",
    "sns.set_style('darkgrid')\n",
    "\n",
    "plt.plot(degree_range, np.mean(train_scores, axis = 1), label = 'Train Score', color = 'green')\n",
    "plt.plot(degree_range, np.mean(test_scores, axis = 1), label = 'Test Score', color = 'red')\n",
    "plt.legend(frameon = False)\n",
    "plt.ylabel('Score')\n",
    "plt.xlabel('Degree')\n",
    "plt.title('Validation Curve of A PolynomialRegression Model \\non the number of degree')\n",
    "plt.ylim(0, 1)"
   ]
  },
  {
   "cell_type": "code",
   "execution_count": 55,
   "metadata": {},
   "outputs": [
    {
     "data": {
      "text/html": [
       "<h3>Plot The best model: Degree = 3</h3>\n"
      ],
      "text/plain": [
       "<IPython.core.display.HTML object>"
      ]
     },
     "metadata": {},
     "output_type": "display_data"
    }
   ],
   "source": [
    "%%HTML\n",
    "<h3>Plot The best model: Degree = 3</h3>"
   ]
  },
  {
   "cell_type": "code",
   "execution_count": 57,
   "metadata": {
    "scrolled": true
   },
   "outputs": [
    {
     "data": {
      "text/plain": [
       "<matplotlib.legend.Legend at 0x2373d36ce80>"
      ]
     },
     "execution_count": 57,
     "metadata": {},
     "output_type": "execute_result"
    },
    {
     "data": {
      "image/png": "[encoded data removed]",
      "text/plain": [
       "<Figure size 432x288 with 1 Axes>"
      ]
     },
     "metadata": {},
     "output_type": "display_data"
    }
   ],
   "source": [
    "model = PolynomialRegression(3)\n",
    "plt.scatter(X.ravel(), y)\n",
    "x_ = np.linspace(0, 1, 100)\n",
    "model.fit(X, y)\n",
    "y_pred = model.predict(x_[:, np.newaxis])\n",
    "plt.plot(x_, y_pred, label = 'Regression Curve')\n",
    "plt.legend()\n"
   ]
  },
  {
   "cell_type": "markdown",
   "metadata": {},
   "source": [
    "# Learning Curve"
   ]
  },
  {
   "cell_type": "code",
   "execution_count": 58,
   "metadata": {},
   "outputs": [
    {
     "data": {
      "text/html": [
       "<h2>Plot <b>train_scores</b> and <b>test_scores</b> of a <b>Model</b> with different <b>Sample Size</b></h2>\n"
      ],
      "text/plain": [
       "<IPython.core.display.HTML object>"
      ]
     },
     "metadata": {},
     "output_type": "display_data"
    }
   ],
   "source": [
    "%%HTML\n",
    "<h2>Plot <b>train_scores</b> and <b>test_scores</b> of a <b>Model</b> with different <b>Sample Size</b></h2>"
   ]
  },
  {
   "cell_type": "code",
   "execution_count": 64,
   "metadata": {},
   "outputs": [
    {
     "data": {
      "text/plain": [
       "<matplotlib.legend.Legend at 0x2373d31fe80>"
      ]
     },
     "execution_count": 64,
     "metadata": {},
     "output_type": "execute_result"
    },
    {
     "data": {
      "image/png": "[encoded data removed]",
      "text/plain": [
       "<Figure size 432x288 with 1 Axes>"
      ]
     },
     "metadata": {},
     "output_type": "display_data"
    }
   ],
   "source": [
    "from sklearn.model_selection import learning_curve\n",
    "\n",
    "#Cross-Validation: 5-fold on each different value of sample size\n",
    "sizes, train_scores, test_scores = learning_curve(PolynomialRegression(3), X, y, cv = 5)\n",
    "plt.plot(sizes, np.mean(train_scores, 1), label = 'Train Scores', color = 'green')\n",
    "plt.plot(sizes, np.mean(test_scores, 1), label = 'Test Scores', color = 'red')\n",
    "plt.xlabel('Sample size')\n",
    "plt.ylabel('Score')\n",
    "plt.title('Learning Curve of a Polynomial Regression Model width 3 degree')\n",
    "plt.ylim(0,1)\n",
    "plt.legend()\n",
    "\n"
   ]
  },
  {
   "cell_type": "code",
   "execution_count": 67,
   "metadata": {},
   "outputs": [
    {
     "data": {
      "text/html": [
       "<h1><b>NOTE</b></h1>\n",
       "<img src = 'https://jakevdp.github.io/PythonDataScienceHandbook/figures/05.03-learning-curve.png'/>\n",
       "<p>In particular, once you have enough points that a particular model has converged,\n",
       "adding more training data will not help you! T\n",
       "he only way to increase model performance in this case is to use another (often more complex) model.</P>\n"
      ],
      "text/plain": [
       "<IPython.core.display.HTML object>"
      ]
     },
     "metadata": {},
     "output_type": "display_data"
    }
   ],
   "source": [
    "%%HTML\n",
    "<h1><b>NOTE</b></h1>\n",
    "<img src = 'https://jakevdp.github.io/PythonDataScienceHandbook/figures/05.03-learning-curve.png'/>\n",
    "<p>In particular, once you have enough points that a particular model has converged,\n",
    "adding more training data will not help you! T\n",
    "he only way to increase model performance in this case is to use another (often more complex) model.</P>"
   ]
  }
 ],
 "metadata": {
  "kernelspec": {
   "display_name": "Python 3",
   "language": "python",
   "name": "python3"
  },
  "language_info": {
   "codemirror_mode": {
    "name": "ipython",
    "version": 3
   },
   "file_extension": ".py",
   "mimetype": "text/x-python",
   "name": "python",
   "nbconvert_exporter": "python",
   "pygments_lexer": "ipython3",
   "version": "3.7.3"
  }
 },
 "nbformat": 4,
 "nbformat_minor": 2
}
