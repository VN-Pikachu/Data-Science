{
 "cells": [
  {
   "cell_type": "code",
   "execution_count": 1,
   "metadata": {},
   "outputs": [
    {
     "data": {
      "text/html": [
       "<style>\n",
       ".box {\n",
       "    border: 1px double dodgerblue;\n",
       "    padding: 5px;\n",
       "}\n",
       ".note {\n",
       "    font-size: 20;\n",
       "    color: teal;\n",
       "    font-weight: bold;\n",
       "}\n",
       ".highlight {\n",
       "    color: green;\n",
       "    font-family: verdana;\n",
       "}\n",
       ".tag {\n",
       "    background: red;\n",
       "    color: white;\n",
       "    padding: 3px;\n",
       "}\n",
       ".warning {\n",
       "    background: red;\n",
       "    padding: 12px;\n",
       "    font-size: 24px;\n",
       "    color: white;\n",
       "    text-align: center;\n",
       "    font-family: verdana;\n",
       "}\n",
       ".symbol {\n",
       "    color: white;\n",
       "    background: green;\n",
       "    font-size: 20px;\n",
       "    padding: 2px;\n",
       "}\n",
       "code {\n",
       "    font-weight: bold;\n",
       "}\n",
       "</style>\n"
      ],
      "text/plain": [
       "<IPython.core.display.HTML object>"
      ]
     },
     "metadata": {},
     "output_type": "display_data"
    },
    {
     "name": "stderr",
     "output_type": "stream",
     "text": [
      "C:\\Users\\dell\\Anaconda3\\lib\\site-packages\\sklearn\\externals\\six.py:31: DeprecationWarning: The module is deprecated in version 0.21 and will be removed in version 0.23 since we've dropped support for Python 2.7. Please rely on the official version of six (https://pypi.org/project/six/).\n",
      "  \"(https://pypi.org/project/six/).\", DeprecationWarning)\n",
      "C:\\Users\\dell\\Anaconda3\\lib\\site-packages\\sklearn\\externals\\joblib\\__init__.py:15: DeprecationWarning: sklearn.externals.joblib is deprecated in 0.21 and will be removed in 0.23. Please import this functionality directly from joblib, which can be installed with: pip install joblib. If this warning is raised when loading pickled models, you may need to re-serialize those models with scikit-learn 0.21+.\n",
      "  warnings.warn(msg, category=DeprecationWarning)\n"
     ]
    }
   ],
   "source": [
    "%run ../convention.ipynb"
   ]
  },
  {
   "cell_type": "markdown",
   "metadata": {},
   "source": [
    "<a href = 'https://keras.io/getting-started/sequential-model-guide/' target = '_blank'>Sequential Tutorial</a>"
   ]
  },
  {
   "cell_type": "markdown",
   "metadata": {},
   "source": [
    "# Creating and Specifying input shape"
   ]
  },
  {
   "cell_type": "markdown",
   "metadata": {},
   "source": [
    "You can create a <code>Sequential</code> model  by passing a list of layer instances to constructor:"
   ]
  },
  {
   "cell_type": "code",
   "execution_count": 4,
   "metadata": {},
   "outputs": [],
   "source": [
    "import keras\n",
    "from keras.models import Sequential\n",
    "from keras.layers import Dense, Activation"
   ]
  },
  {
   "cell_type": "code",
   "execution_count": 7,
   "metadata": {},
   "outputs": [],
   "source": [
    "model = Sequential([\n",
    "    Dense(32, input_dim = 64),\n",
    "    Activation('sigmoid'),\n",
    "    Dense(10),\n",
    "    Activation('softmax')\n",
    "])"
   ]
  },
  {
   "cell_type": "markdown",
   "metadata": {},
   "source": [
    "This is equivalent to:"
   ]
  },
  {
   "cell_type": "code",
   "execution_count": 11,
   "metadata": {},
   "outputs": [],
   "source": [
    "model1 = Sequential()\n",
    "model1.add(Dense(32, input_dim = 64))\n",
    "model1.add(Activation('relu'))\n",
    "model1.add(Dense(10))\n",
    "model1.add(Activation('softmax'))"
   ]
  },
  {
   "cell_type": "markdown",
   "metadata": {},
   "source": [
    "# Compilation"
   ]
  },
  {
   "cell_type": "markdown",
   "metadata": {},
   "source": [
    "Before training a model, you need to configure the learning process via the <code>complie</code> method. It receives 3 arguments:\n",
    "    <ul>\n",
    "        <li>An optimizer</li>\n",
    "        <li>A lost function</li>\n",
    "        <li>A list of metrics: For any classification problem you will want to set this to <code>metrics=['accuracy']</code>.</li>\n",
    "    </ul>"
   ]
  },
  {
   "cell_type": "markdown",
   "metadata": {},
   "source": [
    "# Training"
   ]
  },
  {
   "cell_type": "markdown",
   "metadata": {},
   "source": [
    "### Multi-classification`"
   ]
  },
  {
   "cell_type": "code",
   "execution_count": 20,
   "metadata": {},
   "outputs": [],
   "source": [
    "from sklearn.datasets import load_digits\n",
    "from sklearn.model_selection import train_test_split\n",
    "from sklearn.preprocessing import OneHotEncoder\n",
    "from keras.utils import to_categorical\n",
    "\n",
    "digits = load_digits()\n",
    "X, y = digits.data, to_categorical(digits.target, num_classes=10)\n",
    "\n",
    "X_train, X_test, y_train, y_test = train_test_split(X, y, train_size = .8, random_state = 32)"
   ]
  },
  {
   "cell_type": "code",
   "execution_count": 26,
   "metadata": {},
   "outputs": [
    {
     "name": "stdout",
     "output_type": "stream",
     "text": [
      "Epoch 1/20\n",
      "1437/1437 [==============================] - 0s 55us/step - loss: 4.9142 - accuracy: 0.1844\n",
      "Epoch 2/20\n",
      "1437/1437 [==============================] - 0s 24us/step - loss: 1.7952 - accuracy: 0.4621\n",
      "Epoch 3/20\n",
      "1437/1437 [==============================] - 0s 26us/step - loss: 0.9311 - accuracy: 0.6945\n",
      "Epoch 4/20\n",
      "1437/1437 [==============================] - 0s 27us/step - loss: 0.5697 - accuracy: 0.8177\n",
      "Epoch 5/20\n",
      "1437/1437 [==============================] - 0s 26us/step - loss: 0.3984 - accuracy: 0.8754\n",
      "Epoch 6/20\n",
      "1437/1437 [==============================] - 0s 26us/step - loss: 0.3053 - accuracy: 0.8984\n",
      "Epoch 7/20\n",
      "1437/1437 [==============================] - 0s 40us/step - loss: 0.2422 - accuracy: 0.9228\n",
      "Epoch 8/20\n",
      "1437/1437 [==============================] - 0s 40us/step - loss: 0.1940 - accuracy: 0.9402\n",
      "Epoch 9/20\n",
      "1437/1437 [==============================] - 0s 40us/step - loss: 0.1655 - accuracy: 0.9471\n",
      "Epoch 10/20\n",
      "1437/1437 [==============================] - 0s 35us/step - loss: 0.1404 - accuracy: 0.9589\n",
      "Epoch 11/20\n",
      "1437/1437 [==============================] - 0s 28us/step - loss: 0.1236 - accuracy: 0.9631\n",
      "Epoch 12/20\n",
      "1437/1437 [==============================] - 0s 26us/step - loss: 0.1035 - accuracy: 0.9708\n",
      "Epoch 13/20\n",
      "1437/1437 [==============================] - 0s 24us/step - loss: 0.0927 - accuracy: 0.9701\n",
      "Epoch 14/20\n",
      "1437/1437 [==============================] - 0s 27us/step - loss: 0.0818 - accuracy: 0.9756\n",
      "Epoch 15/20\n",
      "1437/1437 [==============================] - 0s 27us/step - loss: 0.0694 - accuracy: 0.9819\n",
      "Epoch 16/20\n",
      "1437/1437 [==============================] - 0s 28us/step - loss: 0.0622 - accuracy: 0.9819\n",
      "Epoch 17/20\n",
      "1437/1437 [==============================] - 0s 31us/step - loss: 0.0560 - accuracy: 0.9847\n",
      "Epoch 18/20\n",
      "1437/1437 [==============================] - 0s 31us/step - loss: 0.0500 - accuracy: 0.9882\n",
      "Epoch 19/20\n",
      "1437/1437 [==============================] - 0s 42us/step - loss: 0.0452 - accuracy: 0.9896\n",
      "Epoch 20/20\n",
      "1437/1437 [==============================] - 0s 43us/step - loss: 0.0397 - accuracy: 0.9916\n"
     ]
    },
    {
     "data": {
      "text/plain": [
       "<keras.callbacks.callbacks.History at 0x1ee6acfbfd0>"
      ]
     },
     "execution_count": 26,
     "metadata": {},
     "output_type": "execute_result"
    }
   ],
   "source": [
    "model = Sequential([\n",
    "    Dense(32, input_dim = 64, activation = 'relu'),\n",
    "    Dense(10, activation = 'softmax')\n",
    "])\n",
    "model.compile(optimizer = 'rmsprop', loss = 'categorical_crossentropy', metrics = ['accuracy'])\n",
    "model.fit(X_train, y_train, epochs = 20, batch_size = 32)"
   ]
  },
  {
   "cell_type": "code",
   "execution_count": 32,
   "metadata": {},
   "outputs": [
    {
     "data": {
      "text/plain": [
       "0.975"
      ]
     },
     "execution_count": 32,
     "metadata": {},
     "output_type": "execute_result"
    }
   ],
   "source": [
    "from sklearn.metrics import accuracy_score\n",
    "y_pred = model.predict(X_test).argmax(1)\n",
    "y_target = y_test.argmax(1)\n",
    "accuracy_score(y_target, y_pred)"
   ]
  },
  {
   "cell_type": "markdown",
   "metadata": {},
   "source": [
    "### Binary classification"
   ]
  },
  {
   "cell_type": "code",
   "execution_count": 44,
   "metadata": {},
   "outputs": [
    {
     "name": "stdout",
     "output_type": "stream",
     "text": [
      "Epoch 1/20\n",
      "426/426 [==============================] - 0s 218us/step - loss: 8.0196 - accuracy: 0.4836\n",
      "Epoch 2/20\n",
      "426/426 [==============================] - 0s 33us/step - loss: 1.4580 - accuracy: 0.6080\n",
      "Epoch 3/20\n",
      "426/426 [==============================] - 0s 42us/step - loss: 0.7700 - accuracy: 0.8263\n",
      "Epoch 4/20\n",
      "426/426 [==============================] - 0s 35us/step - loss: 0.4751 - accuracy: 0.8732\n",
      "Epoch 5/20\n",
      "426/426 [==============================] - 0s 40us/step - loss: 0.4259 - accuracy: 0.8967\n",
      "Epoch 6/20\n",
      "426/426 [==============================] - 0s 44us/step - loss: 0.4029 - accuracy: 0.8944\n",
      "Epoch 7/20\n",
      "426/426 [==============================] - 0s 42us/step - loss: 0.4069 - accuracy: 0.8826\n",
      "Epoch 8/20\n",
      "426/426 [==============================] - 0s 40us/step - loss: 0.3288 - accuracy: 0.9108\n",
      "Epoch 9/20\n",
      "426/426 [==============================] - 0s 40us/step - loss: 0.3311 - accuracy: 0.9061\n",
      "Epoch 10/20\n",
      "426/426 [==============================] - 0s 40us/step - loss: 0.3137 - accuracy: 0.9085\n",
      "Epoch 11/20\n",
      "426/426 [==============================] - 0s 35us/step - loss: 0.3011 - accuracy: 0.9038\n",
      "Epoch 12/20\n",
      "426/426 [==============================] - 0s 37us/step - loss: 0.3178 - accuracy: 0.8897\n",
      "Epoch 13/20\n",
      "426/426 [==============================] - 0s 37us/step - loss: 0.3318 - accuracy: 0.8920\n",
      "Epoch 14/20\n",
      "426/426 [==============================] - 0s 40us/step - loss: 0.2713 - accuracy: 0.9085\n",
      "Epoch 15/20\n",
      "426/426 [==============================] - 0s 40us/step - loss: 0.2694 - accuracy: 0.9155\n",
      "Epoch 16/20\n",
      "426/426 [==============================] - 0s 40us/step - loss: 0.2593 - accuracy: 0.9061\n",
      "Epoch 17/20\n",
      "426/426 [==============================] - 0s 40us/step - loss: 0.2610 - accuracy: 0.9249\n",
      "Epoch 18/20\n",
      "426/426 [==============================] - 0s 42us/step - loss: 0.3069 - accuracy: 0.8920\n",
      "Epoch 19/20\n",
      "426/426 [==============================] - 0s 37us/step - loss: 0.2921 - accuracy: 0.9061\n",
      "Epoch 20/20\n",
      "426/426 [==============================] - 0s 37us/step - loss: 0.3074 - accuracy: 0.9108\n"
     ]
    },
    {
     "data": {
      "text/plain": [
       "<keras.callbacks.callbacks.History at 0x1ee6d79ebe0>"
      ]
     },
     "execution_count": 44,
     "metadata": {},
     "output_type": "execute_result"
    }
   ],
   "source": [
    "from sklearn.datasets import load_breast_cancer\n",
    "cancer = load_breast_cancer()\n",
    "X_train, X_test, y_train, y_test = train_test_split(cancer.data, cancer.target, random_state = 6)\n",
    "\n",
    "model = Sequential()\n",
    "model.add(Dense(30, input_dim = 30, activation = 'relu'))\n",
    "model.add(Dense(8, activation = 'relu'))\n",
    "model.add(Dense(1, activation = 'sigmoid'))\n",
    "\n",
    "model.compile(optimizer = 'adam', loss = 'binary_crossentropy', metrics = ['accuracy'])\n",
    "model.fit(X_train, y_train, epochs = 20)"
   ]
  },
  {
   "cell_type": "code",
   "execution_count": 46,
   "metadata": {},
   "outputs": [
    {
     "data": {
      "text/plain": [
       "0.9090909090909091"
      ]
     },
     "execution_count": 46,
     "metadata": {},
     "output_type": "execute_result"
    }
   ],
   "source": [
    "y_pred = (model.predict(X_test) >=.5).astype(int)\n",
    "accuracy_score(y_pred, y_test)"
   ]
  },
  {
   "cell_type": "markdown",
   "metadata": {},
   "source": [
    "### Mean squared error regression"
   ]
  },
  {
   "cell_type": "code",
   "execution_count": 48,
   "metadata": {},
   "outputs": [],
   "source": [
    "from sklearn.datasets import load_boston\n",
    "from sklearn.preprocessing import StandardScaler\n",
    "boston = load_boston()\n",
    "X_train, X_test, y_train, y_test = train_test_split(boston.data, boston.target, random_state = 10)\n",
    "scaler = StandardScaler()\n",
    "X_train = scaler.fit_transform(X_train)\n",
    "X_test = scaler.transform(X_test)"
   ]
  },
  {
   "cell_type": "code",
   "execution_count": 51,
   "metadata": {},
   "outputs": [
    {
     "name": "stdout",
     "output_type": "stream",
     "text": [
      "Epoch 1/100\n",
      "379/379 [==============================] - 0s 141us/step - loss: 559.9205\n",
      "Epoch 2/100\n",
      "379/379 [==============================] - 0s 34us/step - loss: 541.6414\n",
      "Epoch 3/100\n",
      "379/379 [==============================] - 0s 34us/step - loss: 526.7218\n",
      "Epoch 4/100\n",
      "379/379 [==============================] - 0s 39us/step - loss: 512.1443\n",
      "Epoch 5/100\n",
      "379/379 [==============================] - 0s 34us/step - loss: 497.4593\n",
      "Epoch 6/100\n",
      "379/379 [==============================] - 0s 34us/step - loss: 482.5621\n",
      "Epoch 7/100\n",
      "379/379 [==============================] - 0s 29us/step - loss: 467.4475\n",
      "Epoch 8/100\n",
      "379/379 [==============================] - 0s 32us/step - loss: 451.8783\n",
      "Epoch 9/100\n",
      "379/379 [==============================] - 0s 32us/step - loss: 436.0401\n",
      "Epoch 10/100\n",
      "379/379 [==============================] - 0s 32us/step - loss: 419.7121\n",
      "Epoch 11/100\n",
      "379/379 [==============================] - 0s 32us/step - loss: 403.3173\n",
      "Epoch 12/100\n",
      "379/379 [==============================] - 0s 34us/step - loss: 386.5411\n",
      "Epoch 13/100\n",
      "379/379 [==============================] - 0s 32us/step - loss: 369.6043\n",
      "Epoch 14/100\n",
      "379/379 [==============================] - 0s 32us/step - loss: 352.6590\n",
      "Epoch 15/100\n",
      "379/379 [==============================] - 0s 32us/step - loss: 335.5508\n",
      "Epoch 16/100\n",
      "379/379 [==============================] - 0s 32us/step - loss: 318.4773\n",
      "Epoch 17/100\n",
      "379/379 [==============================] - 0s 32us/step - loss: 301.5121\n",
      "Epoch 18/100\n",
      "379/379 [==============================] - 0s 34us/step - loss: 284.6494\n",
      "Epoch 19/100\n",
      "379/379 [==============================] - 0s 32us/step - loss: 268.0310\n",
      "Epoch 20/100\n",
      "379/379 [==============================] - 0s 39us/step - loss: 251.4786\n",
      "Epoch 21/100\n",
      "379/379 [==============================] - 0s 37us/step - loss: 235.5697\n",
      "Epoch 22/100\n",
      "379/379 [==============================] - 0s 32us/step - loss: 219.8968\n",
      "Epoch 23/100\n",
      "379/379 [==============================] - 0s 34us/step - loss: 204.5745\n",
      "Epoch 24/100\n",
      "379/379 [==============================] - 0s 39us/step - loss: 190.0711\n",
      "Epoch 25/100\n",
      "379/379 [==============================] - 0s 37us/step - loss: 176.4154\n",
      "Epoch 26/100\n",
      "379/379 [==============================] - 0s 37us/step - loss: 163.1760\n",
      "Epoch 27/100\n",
      "379/379 [==============================] - 0s 39us/step - loss: 150.5678\n",
      "Epoch 28/100\n",
      "379/379 [==============================] - 0s 34us/step - loss: 139.1295\n",
      "Epoch 29/100\n",
      "379/379 [==============================] - 0s 34us/step - loss: 128.4882\n",
      "Epoch 30/100\n",
      "379/379 [==============================] - 0s 29us/step - loss: 118.4194\n",
      "Epoch 31/100\n",
      "379/379 [==============================] - 0s 40us/step - loss: 109.2848\n",
      "Epoch 32/100\n",
      "379/379 [==============================] - 0s 37us/step - loss: 100.7768\n",
      "Epoch 33/100\n",
      "379/379 [==============================] - 0s 34us/step - loss: 93.1583\n",
      "Epoch 34/100\n",
      "379/379 [==============================] - 0s 37us/step - loss: 86.0140\n",
      "Epoch 35/100\n",
      "379/379 [==============================] - 0s 34us/step - loss: 79.3955\n",
      "Epoch 36/100\n",
      "379/379 [==============================] - 0s 39us/step - loss: 73.6361\n",
      "Epoch 37/100\n",
      "379/379 [==============================] - 0s 34us/step - loss: 68.4659\n",
      "Epoch 38/100\n",
      "379/379 [==============================] - ETA: 0s - loss: 52.26 - 0s 32us/step - loss: 63.6954\n",
      "Epoch 39/100\n",
      "379/379 [==============================] - 0s 32us/step - loss: 59.3432\n",
      "Epoch 40/100\n",
      "379/379 [==============================] - 0s 18us/step - loss: 55.4537\n",
      "Epoch 41/100\n",
      "379/379 [==============================] - 0s 19us/step - loss: 52.0600\n",
      "Epoch 42/100\n",
      "379/379 [==============================] - 0s 21us/step - loss: 48.9069\n",
      "Epoch 43/100\n",
      "379/379 [==============================] - 0s 21us/step - loss: 45.9980\n",
      "Epoch 44/100\n",
      "379/379 [==============================] - 0s 18us/step - loss: 43.3607\n",
      "Epoch 45/100\n",
      "379/379 [==============================] - 0s 21us/step - loss: 41.0022\n",
      "Epoch 46/100\n",
      "379/379 [==============================] - 0s 21us/step - loss: 38.7872\n",
      "Epoch 47/100\n",
      "379/379 [==============================] - 0s 24us/step - loss: 36.9589\n",
      "Epoch 48/100\n",
      "379/379 [==============================] - 0s 21us/step - loss: 35.1823\n",
      "Epoch 49/100\n",
      "379/379 [==============================] - 0s 18us/step - loss: 33.5666\n",
      "Epoch 50/100\n",
      "379/379 [==============================] - 0s 18us/step - loss: 32.2286\n",
      "Epoch 51/100\n",
      "379/379 [==============================] - 0s 19us/step - loss: 31.0193\n",
      "Epoch 52/100\n",
      "379/379 [==============================] - 0s 24us/step - loss: 29.9515\n",
      "Epoch 53/100\n",
      "379/379 [==============================] - 0s 32us/step - loss: 28.9703\n",
      "Epoch 54/100\n",
      "379/379 [==============================] - 0s 40us/step - loss: 28.1093\n",
      "Epoch 55/100\n",
      "379/379 [==============================] - 0s 39us/step - loss: 27.4554\n",
      "Epoch 56/100\n",
      "379/379 [==============================] - 0s 32us/step - loss: 26.7341\n",
      "Epoch 57/100\n",
      "379/379 [==============================] - 0s 37us/step - loss: 26.1619\n",
      "Epoch 58/100\n",
      "379/379 [==============================] - 0s 29us/step - loss: 25.6314\n",
      "Epoch 59/100\n",
      "379/379 [==============================] - 0s 32us/step - loss: 25.0898\n",
      "Epoch 60/100\n",
      "379/379 [==============================] - 0s 29us/step - loss: 24.6108\n",
      "Epoch 61/100\n",
      "379/379 [==============================] - 0s 29us/step - loss: 24.1954\n",
      "Epoch 62/100\n",
      "379/379 [==============================] - 0s 26us/step - loss: 23.7933\n",
      "Epoch 63/100\n",
      "379/379 [==============================] - 0s 24us/step - loss: 23.3530\n",
      "Epoch 64/100\n",
      "379/379 [==============================] - 0s 32us/step - loss: 22.9730\n",
      "Epoch 65/100\n",
      "379/379 [==============================] - 0s 29us/step - loss: 22.5695\n",
      "Epoch 66/100\n",
      "379/379 [==============================] - 0s 29us/step - loss: 22.2378\n",
      "Epoch 67/100\n",
      "379/379 [==============================] - 0s 29us/step - loss: 21.9723\n",
      "Epoch 68/100\n",
      "379/379 [==============================] - 0s 26us/step - loss: 21.6307\n",
      "Epoch 69/100\n",
      "379/379 [==============================] - 0s 29us/step - loss: 21.3177\n",
      "Epoch 70/100\n",
      "379/379 [==============================] - 0s 29us/step - loss: 21.0284\n",
      "Epoch 71/100\n",
      "379/379 [==============================] - 0s 29us/step - loss: 20.7042\n",
      "Epoch 72/100\n",
      "379/379 [==============================] - 0s 37us/step - loss: 20.4611\n",
      "Epoch 73/100\n",
      "379/379 [==============================] - 0s 34us/step - loss: 20.1780\n",
      "Epoch 74/100\n",
      "379/379 [==============================] - 0s 34us/step - loss: 19.8955\n",
      "Epoch 75/100\n",
      "379/379 [==============================] - 0s 34us/step - loss: 19.6342\n",
      "Epoch 76/100\n",
      "379/379 [==============================] - 0s 39us/step - loss: 19.3811\n",
      "Epoch 77/100\n",
      "379/379 [==============================] - 0s 34us/step - loss: 19.0848\n",
      "Epoch 78/100\n",
      "379/379 [==============================] - 0s 29us/step - loss: 18.8524\n",
      "Epoch 79/100\n",
      "379/379 [==============================] - 0s 35us/step - loss: 18.5973\n",
      "Epoch 80/100\n",
      "379/379 [==============================] - 0s 42us/step - loss: 18.3883\n",
      "Epoch 81/100\n",
      "379/379 [==============================] - 0s 39us/step - loss: 18.1564\n",
      "Epoch 82/100\n",
      "379/379 [==============================] - 0s 39us/step - loss: 17.9110\n",
      "Epoch 83/100\n",
      "379/379 [==============================] - 0s 39us/step - loss: 17.6968\n",
      "Epoch 84/100\n",
      "379/379 [==============================] - 0s 39us/step - loss: 17.5168\n",
      "Epoch 85/100\n",
      "379/379 [==============================] - 0s 37us/step - loss: 17.3029\n",
      "Epoch 86/100\n",
      "379/379 [==============================] - 0s 34us/step - loss: 17.0847\n",
      "Epoch 87/100\n",
      "379/379 [==============================] - 0s 37us/step - loss: 16.8892\n",
      "Epoch 88/100\n",
      "379/379 [==============================] - 0s 37us/step - loss: 16.7075\n",
      "Epoch 89/100\n",
      "379/379 [==============================] - 0s 29us/step - loss: 16.5406\n",
      "Epoch 90/100\n",
      "379/379 [==============================] - 0s 34us/step - loss: 16.3571\n",
      "Epoch 91/100\n",
      "379/379 [==============================] - 0s 39us/step - loss: 16.1815\n",
      "Epoch 92/100\n",
      "379/379 [==============================] - 0s 37us/step - loss: 16.0779\n",
      "Epoch 93/100\n",
      "379/379 [==============================] - 0s 39us/step - loss: 15.8579\n",
      "Epoch 94/100\n",
      "379/379 [==============================] - 0s 37us/step - loss: 15.7279\n",
      "Epoch 95/100\n",
      "379/379 [==============================] - 0s 39us/step - loss: 15.6287\n",
      "Epoch 96/100\n",
      "379/379 [==============================] - 0s 37us/step - loss: 15.4788\n",
      "Epoch 97/100\n",
      "379/379 [==============================] - 0s 39us/step - loss: 15.2885\n",
      "Epoch 98/100\n",
      "379/379 [==============================] - 0s 39us/step - loss: 15.1799\n",
      "Epoch 99/100\n",
      "379/379 [==============================] - 0s 32us/step - loss: 15.0290\n",
      "Epoch 100/100\n",
      "379/379 [==============================] - 0s 34us/step - loss: 14.8979\n"
     ]
    },
    {
     "data": {
      "text/plain": [
       "<keras.callbacks.callbacks.History at 0x1ee6f83a240>"
      ]
     },
     "execution_count": 51,
     "metadata": {},
     "output_type": "execute_result"
    }
   ],
   "source": [
    "model = Sequential([\n",
    "    Dense(32, activation = 'relu'),\n",
    "    Dense(1, activation = 'linear')\n",
    "])\n",
    "model.compile(optimizer = 'rmsprop', loss = 'mse')\n",
    "model.fit(X_train, y_train, epochs = 100)"
   ]
  },
  {
   "cell_type": "code",
   "execution_count": 54,
   "metadata": {},
   "outputs": [
    {
     "data": {
      "text/plain": [
       "22.625875409614853"
      ]
     },
     "execution_count": 54,
     "metadata": {},
     "output_type": "execute_result"
    }
   ],
   "source": [
    "from sklearn.metrics import mean_squared_error\n",
    "y_pred = model.predict(X_test)\n",
    "mean_squared_error(y_test, y_pred.ravel())"
   ]
  }
 ],
 "metadata": {
  "kernelspec": {
   "display_name": "Python 3",
   "language": "python",
   "name": "python3"
  },
  "language_info": {
   "codemirror_mode": {
    "name": "ipython",
    "version": 3
   },
   "file_extension": ".py",
   "mimetype": "text/x-python",
   "name": "python",
   "nbconvert_exporter": "python",
   "pygments_lexer": "ipython3",
   "version": "3.7.9"
  }
 },
 "nbformat": 4,
 "nbformat_minor": 4
}
